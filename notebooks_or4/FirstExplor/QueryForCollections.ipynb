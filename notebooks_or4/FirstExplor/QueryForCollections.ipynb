{
 "cells": [
  {
   "cell_type": "markdown",
   "id": "0b8c2138-5194-4d03-8b77-be24e2cc8ee3",
   "metadata": {},
   "source": [
    "# Query for existing collections in 'embargo_or4'"
   ]
  },
  {
   "cell_type": "markdown",
   "id": "740e34fb-3fef-45a8-941b-c229742ab016",
   "metadata": {},
   "source": [
    " work with Weakly_2024_25\n",
    "- use jupyter kernel LSST\n",
    "\n",
    "- author : Sylvie Dagoret-Campagne\n",
    "- affiliation : IJCLab\n",
    "- creation date : 2024/06/27\n",
    "- last update : 2024/06/27"
   ]
  },
  {
   "cell_type": "markdown",
   "id": "3e760440-a8e4-41a3-b11f-86419064b853",
   "metadata": {},
   "source": [
    "## Documentation\n",
    "\n",
    "- https://pipelines.lsst.io/middleware/index.html\n",
    "- https://pipelines.lsst.io/middleware/faq.html#querycollections\n",
    "\n",
    "example\n",
    "\n",
    "           butler query-collections /sdf/group/rubin/repo/oga  "
   ]
  },
  {
   "cell_type": "code",
   "execution_count": 1,
   "id": "ed2c3410-fe83-432e-ab87-9f4513fa8d8b",
   "metadata": {
    "execution": {
     "iopub.execute_input": "2024-06-27T14:28:57.303744Z",
     "iopub.status.busy": "2024-06-27T14:28:57.303616Z",
     "iopub.status.idle": "2024-06-27T14:28:57.679443Z",
     "shell.execute_reply": "2024-06-27T14:28:57.678893Z",
     "shell.execute_reply.started": "2024-06-27T14:28:57.303731Z"
    }
   },
   "outputs": [
    {
     "name": "stdout",
     "output_type": "stream",
     "text": [
      "analysis_tools        LOCAL:/home/d/dagoret/repos/repos_w_2024_16/analysis_tools \tsetup\n",
      "atmospec              LOCAL:/home/d/dagoret/repos/repos_w_2024_16/atmospec \tsetup\n",
      "eups                  LOCAL:/opt/lsst/software/stack/conda/miniconda3-py38_4.9.2/envs/lsst-scipipe-8.0.0/eups \tsetup\n",
      "spectractor           LOCAL:/home/d/dagoret/repos/repos_w_2024_16/Spectractor \tsetup\n"
     ]
    }
   ],
   "source": [
    "! eups list -s | grep LOCAL"
   ]
  },
  {
   "cell_type": "code",
   "execution_count": 2,
   "id": "70918d81-0cf6-4b0a-8f61-f5e5bec5b0e7",
   "metadata": {
    "execution": {
     "iopub.execute_input": "2024-06-27T14:28:57.680371Z",
     "iopub.status.busy": "2024-06-27T14:28:57.680196Z",
     "iopub.status.idle": "2024-06-27T14:28:58.045513Z",
     "shell.execute_reply": "2024-06-27T14:28:58.044935Z",
     "shell.execute_reply.started": "2024-06-27T14:28:57.680353Z"
    }
   },
   "outputs": [
    {
     "name": "stdout",
     "output_type": "stream",
     "text": [
      "   gf193e5375e+09a23f6f84 \tcurrent w_2024_25 setup\n"
     ]
    }
   ],
   "source": [
    "! eups list -s lsst_distrib"
   ]
  },
  {
   "cell_type": "code",
   "execution_count": 3,
   "id": "f8d9cfca-5881-48c1-b2cb-0f794a2e4091",
   "metadata": {
    "execution": {
     "iopub.execute_input": "2024-06-27T14:28:58.046493Z",
     "iopub.status.busy": "2024-06-27T14:28:58.046331Z",
     "iopub.status.idle": "2024-06-27T14:28:58.703219Z",
     "shell.execute_reply": "2024-06-27T14:28:58.702781Z",
     "shell.execute_reply.started": "2024-06-27T14:28:58.046471Z"
    }
   },
   "outputs": [],
   "source": [
    "import lsst.daf.butler as dafButler"
   ]
  },
  {
   "cell_type": "code",
   "execution_count": 4,
   "id": "2d6880ec-0bb1-47fa-8dab-cc231962af12",
   "metadata": {
    "execution": {
     "iopub.execute_input": "2024-06-27T14:28:58.704517Z",
     "iopub.status.busy": "2024-06-27T14:28:58.704365Z",
     "iopub.status.idle": "2024-06-27T14:28:59.142714Z",
     "shell.execute_reply": "2024-06-27T14:28:59.142278Z",
     "shell.execute_reply.started": "2024-06-27T14:28:58.704502Z"
    }
   },
   "outputs": [],
   "source": [
    "import lsst.afw.image as afwImage\n",
    "import lsst.afw.display as afwDisplay\n",
    "import lsst.afw.table as afwTable\n",
    "import lsst.geom as geom\n",
    "import pprint\n",
    "# Let us also set `lsst.afw.display` to use the `matplotlib` backend:\n",
    "#afwDisplay.setDefaultBackend('matplotlib')\n",
    "afwDisplay.setDefaultBackend('firefly')"
   ]
  },
  {
   "cell_type": "code",
   "execution_count": 5,
   "id": "ead81f50-1dde-410d-80c0-5ca96b257fe1",
   "metadata": {
    "execution": {
     "iopub.execute_input": "2024-06-27T14:28:59.143704Z",
     "iopub.status.busy": "2024-06-27T14:28:59.143359Z",
     "iopub.status.idle": "2024-06-27T14:29:00.231696Z",
     "shell.execute_reply": "2024-06-27T14:29:00.231252Z",
     "shell.execute_reply.started": "2024-06-27T14:28:59.143688Z"
    }
   },
   "outputs": [],
   "source": [
    "import numpy as np\n",
    "import matplotlib.pyplot as plt\n",
    "import matplotlib as mpl\n",
    "import matplotlib.cm as cm \n",
    "import matplotlib.colors as colors\n",
    "import matplotlib.cm as cmx\n",
    "import matplotlib.dates as mdates\n",
    "from matplotlib.colors import ListedColormap\n",
    "%matplotlib inline\n",
    "from mpl_toolkits.axes_grid1 import make_axes_locatable\n",
    "from matplotlib.colors import LogNorm\n",
    "from astropy.visualization import imshow_norm, MinMaxInterval, SqrtStretch\n",
    "# Astropy\n",
    "from astropy.visualization import ZScaleInterval, AsinhStretch\n",
    "\n",
    "import seaborn as sns\n",
    "import pandas as pd\n",
    "\n",
    "import matplotlib.ticker                         # here's where the formatter is\n",
    "import os\n",
    "import re\n",
    "import pandas as pd\n",
    "\n",
    "\n",
    "#xx-small\n",
    "#x-small\n",
    "#small\n",
    "#medium\n",
    "#large\n",
    "#x-large\n",
    "#xx-large\n",
    "\n",
    "plt.rcParams[\"figure.figsize\"] = (10,6)\n",
    "plt.rcParams[\"axes.labelsize\"] = 'x-large'\n",
    "plt.rcParams['axes.titlesize'] = 'x-large'\n",
    "plt.rcParams['xtick.labelsize']= 'x-large'\n",
    "plt.rcParams['ytick.labelsize']= 'x-large'"
   ]
  },
  {
   "cell_type": "code",
   "execution_count": 6,
   "id": "1c81d99a-5e91-4ba1-ba4a-c66b37905b98",
   "metadata": {
    "execution": {
     "iopub.execute_input": "2024-06-27T14:29:00.232598Z",
     "iopub.status.busy": "2024-06-27T14:29:00.232319Z",
     "iopub.status.idle": "2024-06-27T14:29:00.817110Z",
     "shell.execute_reply": "2024-06-27T14:29:00.816640Z",
     "shell.execute_reply.started": "2024-06-27T14:29:00.232584Z"
    }
   },
   "outputs": [],
   "source": [
    "#repo =  \"/sdf/group/rubin/repo/main\"\n",
    "repo =  'embargo_or4'\n",
    "butler = dafButler.Butler(repo)\n",
    "registry = butler.registry"
   ]
  },
  {
   "cell_type": "code",
   "execution_count": 7,
   "id": "b097abde-68fc-49b1-bda4-baea2cead916",
   "metadata": {
    "execution": {
     "iopub.execute_input": "2024-06-27T14:29:00.817816Z",
     "iopub.status.busy": "2024-06-27T14:29:00.817680Z",
     "iopub.status.idle": "2024-06-27T14:29:00.820015Z",
     "shell.execute_reply": "2024-06-27T14:29:00.819620Z",
     "shell.execute_reply.started": "2024-06-27T14:29:00.817803Z"
    },
    "tags": []
   },
   "outputs": [],
   "source": [
    "#for c in sorted(registry.queryCollections()):\n",
    "#    if \"LATISS/runs/AUXTEL_DRP_IMAGING_2023-11A-10A-09AB-08ABC-07AB-05AB/w_2023_46/PREOPS-4553\" in c:\n",
    "#        print(c)"
   ]
  },
  {
   "cell_type": "code",
   "execution_count": 8,
   "id": "2ec90d56-d827-4ab5-a289-5a256527f23e",
   "metadata": {
    "execution": {
     "iopub.execute_input": "2024-06-27T14:29:00.820660Z",
     "iopub.status.busy": "2024-06-27T14:29:00.820535Z",
     "iopub.status.idle": "2024-06-27T14:29:00.847592Z",
     "shell.execute_reply": "2024-06-27T14:29:00.847163Z",
     "shell.execute_reply.started": "2024-06-27T14:29:00.820647Z"
    },
    "tags": []
   },
   "outputs": [
    {
     "name": "stdout",
     "output_type": "stream",
     "text": [
      "LSSTComCamSim/calib\n",
      "LSSTComCamSim/calib/DM-42287\n",
      "LSSTComCamSim/calib/DM-42287/unbounded\n",
      "LSSTComCamSim/calib/DM-43441\n",
      "LSSTComCamSim/calib/DM-43441/curated/19700101T000000Z\n",
      "LSSTComCamSim/calib/DM-43441/unbounded\n",
      "LSSTComCamSim/calib/DM-44910\n",
      "LSSTComCamSim/calib/DM-44910/or4Flats/flat.20240620a\n",
      "LSSTComCamSim/calib/unbounded\n",
      "LSSTComCamSim/defaults\n",
      "LSSTComCamSim/fgcmcal/lookuptable/DM-43441\n",
      "LSSTComCamSim/nightlyValidation\n",
      "LSSTComCamSim/nightlyValidation/0\n",
      "LSSTComCamSim/nightlyValidation/1\n",
      "LSSTComCamSim/prompt/output-2024-06-18\n",
      "LSSTComCamSim/prompt/output-2024-06-18/ApPipe/prompt-proto-service-lsstcomcamsim-00039\n",
      "LSSTComCamSim/prompt/output-2024-06-18/Preload/prompt-proto-service-lsstcomcamsim-00039\n",
      "LSSTComCamSim/prompt/output-2024-06-21\n",
      "LSSTComCamSim/prompt/output-2024-06-21/ApPipe/prompt-proto-service-lsstcomcamsim-00040\n",
      "LSSTComCamSim/prompt/output-2024-06-21/Preload/prompt-proto-service-lsstcomcamsim-00040\n",
      "LSSTComCamSim/prompt/output-2024-06-25\n",
      "LSSTComCamSim/prompt/output-2024-06-25/ApPipe/prompt-proto-service-lsstcomcamsim-00042\n",
      "LSSTComCamSim/prompt/output-2024-06-25/ApPipe/prompt-proto-service-lsstcomcamsim-00043\n",
      "LSSTComCamSim/prompt/output-2024-06-25/Preload/prompt-proto-service-lsstcomcamsim-00042\n",
      "LSSTComCamSim/prompt/output-2024-06-25/Preload/prompt-proto-service-lsstcomcamsim-00043\n",
      "LSSTComCamSim/prompt/output-2024-06-26\n",
      "LSSTComCamSim/prompt/output-2024-06-26/ApPipe/prompt-proto-service-lsstcomcamsim-00044\n",
      "LSSTComCamSim/prompt/output-2024-06-26/Preload/prompt-proto-service-lsstcomcamsim-00044\n",
      "LSSTComCamSim/raw/all\n",
      "LSSTComCamSim/runs/OR4_templates/w_2024_23/DM-44718/20240610T044930Z\n",
      "LSSTComCamSim/runs/nightlyValidation/pretest1/w_2024_25/DM-44966\n",
      "LSSTComCamSim/runs/nightlyValidation/pretest1/w_2024_25/DM-44966/20240624T221538Z\n",
      "LSSTComCamSim/runs/nightlyValidation/pretest3/w_2024_25/DM-44966\n",
      "LSSTComCamSim/runs/nightlyValidation/pretest3/w_2024_25/DM-44966/20240624T225829Z\n",
      "LSSTComCamSim/runs/nightlyValidation/pretest3ssq2/w_2024_25/DM-44966\n",
      "LSSTComCamSim/runs/nightlyValidation/pretest3ssq2/w_2024_25/DM-44966/20240625T021549Z\n",
      "LSSTComCamSim/runs/nightlyValidation/test1a/d_2024_06_21/DM-44966\n",
      "LSSTComCamSim/runs/nightlyValidation/test1a/d_2024_06_21/DM-44966/20240625T202549Z\n",
      "LSSTComCamSim/runs/nightlyValidation/test1a/d_2024_06_21/DM-44966/20240626T105336Z\n",
      "LSSTComCamSim/runs/nightlyValidation/test1a/w_2024_25/DM-44966\n",
      "LSSTComCamSim/runs/nightlyValidation/test1a/w_2024_25/DM-44966/20240625T193841Z\n",
      "LSSTComCamSim/runs/nightlyValidation/test1b/d_2024_06_21/DM-44966\n",
      "LSSTComCamSim/runs/nightlyValidation/test1b/d_2024_06_21/DM-44966/20240625T214643Z\n",
      "LSSTComCamSim/templates\n",
      "u/huanlin/PREOPS-5262/OR4_LSSTComCamSim/biasGen.20240625a\n",
      "u/huanlin/PREOPS-5262/OR4_LSSTComCamSim/biasGen.20240625a/20240626T174316Z\n",
      "u/huanlin/PREOPS-5262/OR4_LSSTComCamSim/darkGen.20240625a\n",
      "u/huanlin/PREOPS-5262/OR4_LSSTComCamSim/darkGen.20240625a/20240626T223518Z\n",
      "u/huanlin/PREOPS-5262/OR4_LSSTComCamSim/darkGenForDefects.20240625a\n",
      "u/huanlin/PREOPS-5262/OR4_LSSTComCamSim/darkGenForDefects.20240625a/20240626T214358Z\n",
      "u/huanlin/PREOPS-5262/OR4_LSSTComCamSim/darkGenForDefects.20240625a/20240626T214432Z\n",
      "u/huanlin/PREOPS-5262/OR4_LSSTComCamSim/defectGen.20240625a\n",
      "u/huanlin/PREOPS-5262/OR4_LSSTComCamSim/defectGen.20240625a/20240626T221435Z\n",
      "u/huanlin/PREOPS-5262/OR4_LSSTComCamSim/defectGen.20240625a/20240626T221514Z\n",
      "u/huanlin/PREOPS-5262/OR4_LSSTComCamSim/flatGen-i06.20240625a\n",
      "u/huanlin/PREOPS-5262/OR4_LSSTComCamSim/flatGen-i06.20240625a/20240626T230503Z\n",
      "u/huanlin/PREOPS-5262/OR4_LSSTComCamSim/flatGenForDefects.20240625a\n",
      "u/huanlin/PREOPS-5262/OR4_LSSTComCamSim/flatGenForDefects.20240625a/20240626T215811Z\n",
      "u/huanlin/PREOPS-5262/OR4_LSSTComCamSim/verifyBias.20240625a\n",
      "u/huanlin/PREOPS-5262/OR4_LSSTComCamSim/verifyBias.20240625a/20240626T221935Z\n",
      "u/huanlin/PREOPS-5262/OR4_LSSTComCamSim/verifyDark.20240625a\n",
      "u/huanlin/PREOPS-5262/OR4_LSSTComCamSim/verifyDark.20240625a/20240626T225013Z\n",
      "u/huanlin/PREOPS-5262/OR4_LSSTComCamSim/verifyFlat-i06.20240625a\n",
      "u/huanlin/PREOPS-5262/OR4_LSSTComCamSim/verifyFlat-i06.20240625a/20240626T232353Z\n",
      "u/huanlin/PREOPS-5262/OR4_LSSTComCamSim/verifyFlat-i06.20240625a/20240626T232541Z\n"
     ]
    }
   ],
   "source": [
    "for c in sorted(registry.queryCollections()):\n",
    "#    if \"LSSTComCamSim\" in c or \"LATISS\" in c:\n",
    "    if \"LSSTComCamSim\" in c:\n",
    "        print(c)"
   ]
  },
  {
   "cell_type": "code",
   "execution_count": 9,
   "id": "78619165-644b-4faf-b71f-62f28ad74906",
   "metadata": {
    "execution": {
     "iopub.execute_input": "2024-06-27T14:29:00.848207Z",
     "iopub.status.busy": "2024-06-27T14:29:00.848083Z",
     "iopub.status.idle": "2024-06-27T14:29:00.850265Z",
     "shell.execute_reply": "2024-06-27T14:29:00.849896Z",
     "shell.execute_reply.started": "2024-06-27T14:29:00.848196Z"
    },
    "tags": []
   },
   "outputs": [],
   "source": [
    "my_collection = \"LSSTComCamSim/nightlyValidation\""
   ]
  },
  {
   "cell_type": "markdown",
   "id": "bd561127-9f20-4b8e-a2c6-eb7822a74985",
   "metadata": {},
   "source": [
    "## Check postISRCCD"
   ]
  },
  {
   "cell_type": "code",
   "execution_count": 10,
   "id": "a5c8aab0-d0c6-42cd-b778-7c7d4a1beae3",
   "metadata": {
    "execution": {
     "iopub.execute_input": "2024-06-27T14:29:00.850831Z",
     "iopub.status.busy": "2024-06-27T14:29:00.850710Z",
     "iopub.status.idle": "2024-06-27T14:29:00.854802Z",
     "shell.execute_reply": "2024-06-27T14:29:00.854470Z",
     "shell.execute_reply.started": "2024-06-27T14:29:00.850820Z"
    }
   },
   "outputs": [],
   "source": [
    "dataType = 'postISRCCD'"
   ]
  },
  {
   "cell_type": "code",
   "execution_count": 11,
   "id": "6705e82a-633d-4243-b9d9-3385f74ab637",
   "metadata": {
    "execution": {
     "iopub.execute_input": "2024-06-27T14:29:00.855359Z",
     "iopub.status.busy": "2024-06-27T14:29:00.855239Z",
     "iopub.status.idle": "2024-06-27T14:29:01.550146Z",
     "shell.execute_reply": "2024-06-27T14:29:01.549687Z",
     "shell.execute_reply.started": "2024-06-27T14:29:00.855348Z"
    },
    "tags": []
   },
   "outputs": [],
   "source": [
    "refs_ds=list(butler.registry.queryDatasets(datasetType=dataType,collections=my_collection))"
   ]
  },
  {
   "cell_type": "code",
   "execution_count": 12,
   "id": "d5747fb0-2884-4fe0-bc13-6c479db7b1e5",
   "metadata": {
    "execution": {
     "iopub.execute_input": "2024-06-27T14:29:01.550875Z",
     "iopub.status.busy": "2024-06-27T14:29:01.550743Z",
     "iopub.status.idle": "2024-06-27T14:29:01.554299Z",
     "shell.execute_reply": "2024-06-27T14:29:01.553858Z",
     "shell.execute_reply.started": "2024-06-27T14:29:01.550862Z"
    },
    "tags": []
   },
   "outputs": [
    {
     "name": "stdout",
     "output_type": "stream",
     "text": [
      "------------------------------------------------------\n",
      "postISRCCD@{instrument: 'LSSTComCamSim', detector: 8, exposure: 7024061800042, band: 'i', day_obs: 20240618, group: '2024-06-19T00:35:19.639', physical_filter: 'i_06'} [sc=Exposure] (run=LSSTComCamSim/nightlyValidation/0 id=ad88a5b1-2697-4031-87c5-00067bb265da)\n",
      "------------------------------------------------------\n",
      "postISRCCD@{instrument: 'LSSTComCamSim', detector: 5, exposure: 7024061800042, band: 'i', day_obs: 20240618, group: '2024-06-19T00:35:19.639', physical_filter: 'i_06'} [sc=Exposure] (run=LSSTComCamSim/nightlyValidation/0 id=b7842bbf-8eff-472d-8d5c-a0ef24096665)\n",
      "------------------------------------------------------\n",
      "postISRCCD@{instrument: 'LSSTComCamSim', detector: 6, exposure: 7024061800042, band: 'i', day_obs: 20240618, group: '2024-06-19T00:35:19.639', physical_filter: 'i_06'} [sc=Exposure] (run=LSSTComCamSim/nightlyValidation/0 id=28dd5aa5-3374-485e-8d7b-6b980c473174)\n",
      "------------------------------------------------------\n",
      "postISRCCD@{instrument: 'LSSTComCamSim', detector: 7, exposure: 7024061800042, band: 'i', day_obs: 20240618, group: '2024-06-19T00:35:19.639', physical_filter: 'i_06'} [sc=Exposure] (run=LSSTComCamSim/nightlyValidation/0 id=f9f21b96-ce4b-4a86-bcd9-fc3861b84f04)\n",
      "------------------------------------------------------\n",
      "postISRCCD@{instrument: 'LSSTComCamSim', detector: 6, exposure: 7024061800022, band: 'g', day_obs: 20240618, group: '2024-06-19T00:19:55.500', physical_filter: 'g_01'} [sc=Exposure] (run=LSSTComCamSim/nightlyValidation/0 id=dbed0267-0180-4202-94ed-37ab0ab51aa4)\n",
      "------------------------------------------------------\n",
      "postISRCCD@{instrument: 'LSSTComCamSim', detector: 8, exposure: 7024061800022, band: 'g', day_obs: 20240618, group: '2024-06-19T00:19:55.500', physical_filter: 'g_01'} [sc=Exposure] (run=LSSTComCamSim/nightlyValidation/0 id=dfeea4ef-d802-4a75-a2ea-9e4c6beebc43)\n",
      "------------------------------------------------------\n",
      "postISRCCD@{instrument: 'LSSTComCamSim', detector: 5, exposure: 7024061800022, band: 'g', day_obs: 20240618, group: '2024-06-19T00:19:55.500', physical_filter: 'g_01'} [sc=Exposure] (run=LSSTComCamSim/nightlyValidation/0 id=5192b1a8-fd3a-4745-b504-376bcf707d64)\n",
      "------------------------------------------------------\n",
      "postISRCCD@{instrument: 'LSSTComCamSim', detector: 7, exposure: 7024061800022, band: 'g', day_obs: 20240618, group: '2024-06-19T00:19:55.500', physical_filter: 'g_01'} [sc=Exposure] (run=LSSTComCamSim/nightlyValidation/0 id=9449d75f-5f17-4fa9-87ae-569985ceffa2)\n",
      "------------------------------------------------------\n",
      "postISRCCD@{instrument: 'LSSTComCamSim', detector: 2, exposure: 7024061800022, band: 'g', day_obs: 20240618, group: '2024-06-19T00:19:55.500', physical_filter: 'g_01'} [sc=Exposure] (run=LSSTComCamSim/nightlyValidation/0 id=ad7bd4e4-b5e3-4fe2-a6f1-04d40d271574)\n",
      "------------------------------------------------------\n",
      "postISRCCD@{instrument: 'LSSTComCamSim', detector: 3, exposure: 7024061800022, band: 'g', day_obs: 20240618, group: '2024-06-19T00:19:55.500', physical_filter: 'g_01'} [sc=Exposure] (run=LSSTComCamSim/nightlyValidation/0 id=93f3930e-7839-4693-8b4f-5929dbf5c080)\n",
      "------------------------------------------------------\n",
      "postISRCCD@{instrument: 'LSSTComCamSim', detector: 4, exposure: 7024061800022, band: 'g', day_obs: 20240618, group: '2024-06-19T00:19:55.500', physical_filter: 'g_01'} [sc=Exposure] (run=LSSTComCamSim/nightlyValidation/0 id=e33809fc-0fc5-4930-901b-692fffca7d94)\n",
      "------------------------------------------------------\n",
      "postISRCCD@{instrument: 'LSSTComCamSim', detector: 1, exposure: 7024061800022, band: 'g', day_obs: 20240618, group: '2024-06-19T00:19:55.500', physical_filter: 'g_01'} [sc=Exposure] (run=LSSTComCamSim/nightlyValidation/0 id=3592c736-892c-480c-a746-6f32a12c0a5c)\n"
     ]
    }
   ],
   "source": [
    "for idx,ref in enumerate(refs_ds):\n",
    "    print(\"------------------------------------------------------\")\n",
    "    print(ref)\n",
    "    if idx>10:\n",
    "        break"
   ]
  },
  {
   "cell_type": "code",
   "execution_count": 13,
   "id": "66a63f78-cb7f-44bb-83ca-00625e56f83b",
   "metadata": {
    "execution": {
     "iopub.execute_input": "2024-06-27T14:29:01.556212Z",
     "iopub.status.busy": "2024-06-27T14:29:01.556083Z",
     "iopub.status.idle": "2024-06-27T14:29:03.087239Z",
     "shell.execute_reply": "2024-06-27T14:29:03.086803Z",
     "shell.execute_reply.started": "2024-06-27T14:29:01.556200Z"
    }
   },
   "outputs": [],
   "source": [
    "ref = refs_ds[0]\n",
    "postisrccd = butler.get(ref)\n",
    "info=postisrccd.getInfo()\n",
    "exp_id = info.getId()\n",
    "the_title = f\"postISRCCD {exp_id}\""
   ]
  },
  {
   "cell_type": "code",
   "execution_count": 14,
   "id": "1f327b63-323f-426b-b57d-51f55aa6b9f2",
   "metadata": {
    "execution": {
     "iopub.execute_input": "2024-06-27T14:29:03.087928Z",
     "iopub.status.busy": "2024-06-27T14:29:03.087803Z",
     "iopub.status.idle": "2024-06-27T14:29:03.563178Z",
     "shell.execute_reply": "2024-06-27T14:29:03.562749Z",
     "shell.execute_reply.started": "2024-06-27T14:29:03.087917Z"
    }
   },
   "outputs": [],
   "source": [
    "# Plot the calexp we just retrieved\n",
    "#plt.figure(figsize=(10,10))\n",
    "afw_display = afwDisplay.Display(frame=1)\n",
    "afw_display.scale('asinh', 'zscale')\n",
    "afw_display.mtv(postisrccd.image,title=the_title )\n",
    "afw_display.setMaskTransparency(80)\n",
    "    #plt.gca().axis('on')\n",
    "#transform = AsinhStretch() + ZScaleInterval()\n",
    "#scaledImage = transform(postisrccd.image.array)\n",
    "    #scaledImage = np.flipud(scaledImage)\n",
    "#plt.imshow(scaledImage,origin=\"lower\",extent=extent,aspect='equal')\n",
    "#    plt.title(the_title)\n",
    "#plt.grid()\n",
    "    #plt.gca().invert_xaxis()\n",
    "#plt.show()\n"
   ]
  },
  {
   "cell_type": "markdown",
   "id": "0c0b600d-b4cd-4bbe-a483-3d70f97ab507",
   "metadata": {},
   "source": [
    "## Check Calexp"
   ]
  },
  {
   "cell_type": "code",
   "execution_count": 15,
   "id": "5beab05a-847f-46f9-8645-e26dac0597c2",
   "metadata": {
    "execution": {
     "iopub.execute_input": "2024-06-27T14:29:03.563917Z",
     "iopub.status.busy": "2024-06-27T14:29:03.563781Z",
     "iopub.status.idle": "2024-06-27T14:29:03.566249Z",
     "shell.execute_reply": "2024-06-27T14:29:03.565777Z",
     "shell.execute_reply.started": "2024-06-27T14:29:03.563905Z"
    }
   },
   "outputs": [],
   "source": [
    "dataType = 'calexp'"
   ]
  },
  {
   "cell_type": "code",
   "execution_count": 16,
   "id": "38bb1218-d155-40fb-ae0c-bb8bbc9b24e1",
   "metadata": {
    "execution": {
     "iopub.execute_input": "2024-06-27T14:29:03.566880Z",
     "iopub.status.busy": "2024-06-27T14:29:03.566753Z",
     "iopub.status.idle": "2024-06-27T14:29:03.993380Z",
     "shell.execute_reply": "2024-06-27T14:29:03.992905Z",
     "shell.execute_reply.started": "2024-06-27T14:29:03.566868Z"
    }
   },
   "outputs": [],
   "source": [
    "refs_ds=list(butler.registry.queryDatasets(datasetType=dataType,collections=my_collection))"
   ]
  },
  {
   "cell_type": "code",
   "execution_count": 17,
   "id": "7a7c732e-24ee-4bed-9db3-2348f0d2b67d",
   "metadata": {
    "execution": {
     "iopub.execute_input": "2024-06-27T14:29:03.994121Z",
     "iopub.status.busy": "2024-06-27T14:29:03.993979Z",
     "iopub.status.idle": "2024-06-27T14:29:03.997341Z",
     "shell.execute_reply": "2024-06-27T14:29:03.996915Z",
     "shell.execute_reply.started": "2024-06-27T14:29:03.994107Z"
    }
   },
   "outputs": [
    {
     "name": "stdout",
     "output_type": "stream",
     "text": [
      "------------------------------------------------------\n",
      "calexp@{instrument: 'LSSTComCamSim', detector: 8, visit: 7024061800042, band: 'i', day_obs: 20240618, physical_filter: 'i_06'} [sc=ExposureF] (run=LSSTComCamSim/nightlyValidation/0 id=bd15b47a-fd1d-44ca-98d5-94c895812ae4)\n",
      "------------------------------------------------------\n",
      "calexp@{instrument: 'LSSTComCamSim', detector: 5, visit: 7024061800042, band: 'i', day_obs: 20240618, physical_filter: 'i_06'} [sc=ExposureF] (run=LSSTComCamSim/nightlyValidation/0 id=55fdc788-d273-42cd-a6d0-4a9412a54311)\n",
      "------------------------------------------------------\n",
      "calexp@{instrument: 'LSSTComCamSim', detector: 6, visit: 7024061800042, band: 'i', day_obs: 20240618, physical_filter: 'i_06'} [sc=ExposureF] (run=LSSTComCamSim/nightlyValidation/0 id=253fccc8-891f-44da-9177-0d76c38bd46d)\n",
      "------------------------------------------------------\n",
      "calexp@{instrument: 'LSSTComCamSim', detector: 7, visit: 7024061800042, band: 'i', day_obs: 20240618, physical_filter: 'i_06'} [sc=ExposureF] (run=LSSTComCamSim/nightlyValidation/0 id=a1ee43e2-917d-42be-822d-d4b05a978e52)\n",
      "------------------------------------------------------\n",
      "calexp@{instrument: 'LSSTComCamSim', detector: 6, visit: 7024061800022, band: 'g', day_obs: 20240618, physical_filter: 'g_01'} [sc=ExposureF] (run=LSSTComCamSim/nightlyValidation/0 id=fadcac4c-7471-4026-a09e-5e51748a15fe)\n",
      "------------------------------------------------------\n",
      "calexp@{instrument: 'LSSTComCamSim', detector: 8, visit: 7024061800022, band: 'g', day_obs: 20240618, physical_filter: 'g_01'} [sc=ExposureF] (run=LSSTComCamSim/nightlyValidation/0 id=ab943a16-8f42-4b9b-97eb-a75a1aa5c053)\n",
      "------------------------------------------------------\n",
      "calexp@{instrument: 'LSSTComCamSim', detector: 5, visit: 7024061800022, band: 'g', day_obs: 20240618, physical_filter: 'g_01'} [sc=ExposureF] (run=LSSTComCamSim/nightlyValidation/0 id=7fb28e20-d0e9-44fd-8571-4d3523690e4c)\n",
      "------------------------------------------------------\n",
      "calexp@{instrument: 'LSSTComCamSim', detector: 2, visit: 7024061800022, band: 'g', day_obs: 20240618, physical_filter: 'g_01'} [sc=ExposureF] (run=LSSTComCamSim/nightlyValidation/0 id=c3808688-8895-498c-9d70-2941967469af)\n",
      "------------------------------------------------------\n",
      "calexp@{instrument: 'LSSTComCamSim', detector: 3, visit: 7024061800022, band: 'g', day_obs: 20240618, physical_filter: 'g_01'} [sc=ExposureF] (run=LSSTComCamSim/nightlyValidation/0 id=166fdac3-a312-45ce-884f-a9b74d7b0fa4)\n",
      "------------------------------------------------------\n",
      "calexp@{instrument: 'LSSTComCamSim', detector: 7, visit: 7024061800022, band: 'g', day_obs: 20240618, physical_filter: 'g_01'} [sc=ExposureF] (run=LSSTComCamSim/nightlyValidation/0 id=f4c49998-d58d-422c-98b8-80cc8b17861e)\n",
      "------------------------------------------------------\n",
      "calexp@{instrument: 'LSSTComCamSim', detector: 1, visit: 7024061800022, band: 'g', day_obs: 20240618, physical_filter: 'g_01'} [sc=ExposureF] (run=LSSTComCamSim/nightlyValidation/0 id=34a297c5-b200-4b99-91ec-e28fd2b7279e)\n",
      "------------------------------------------------------\n",
      "calexp@{instrument: 'LSSTComCamSim', detector: 4, visit: 7024061800022, band: 'g', day_obs: 20240618, physical_filter: 'g_01'} [sc=ExposureF] (run=LSSTComCamSim/nightlyValidation/0 id=c30fd4c7-1cd4-4e91-bc63-83d086303bfe)\n"
     ]
    }
   ],
   "source": [
    "for idx,ref in enumerate(refs_ds):\n",
    "    print(\"------------------------------------------------------\")\n",
    "    print(ref)\n",
    "    if idx>10:\n",
    "        break"
   ]
  },
  {
   "cell_type": "code",
   "execution_count": 18,
   "id": "ba21f1c2-2223-4811-bc29-da93cc8ec306",
   "metadata": {
    "execution": {
     "iopub.execute_input": "2024-06-27T14:29:03.997980Z",
     "iopub.status.busy": "2024-06-27T14:29:03.997848Z",
     "iopub.status.idle": "2024-06-27T14:29:05.270635Z",
     "shell.execute_reply": "2024-06-27T14:29:05.270174Z",
     "shell.execute_reply.started": "2024-06-27T14:29:03.997968Z"
    }
   },
   "outputs": [],
   "source": [
    "ref = refs_ds[0]\n",
    "calexp = butler.get(ref)\n",
    "info=postisrccd.getInfo()\n",
    "exp_id = info.getId()\n",
    "the_title = f\"calexp {exp_id}\""
   ]
  },
  {
   "cell_type": "code",
   "execution_count": 19,
   "id": "f7b4abfb-0642-47ea-9dec-08c71e905b98",
   "metadata": {
    "execution": {
     "iopub.execute_input": "2024-06-27T14:29:05.271726Z",
     "iopub.status.busy": "2024-06-27T14:29:05.271232Z",
     "iopub.status.idle": "2024-06-27T14:29:05.669982Z",
     "shell.execute_reply": "2024-06-27T14:29:05.669515Z",
     "shell.execute_reply.started": "2024-06-27T14:29:05.271712Z"
    }
   },
   "outputs": [],
   "source": [
    "# Plot the calexp we just retrieved\n",
    "#plt.figure(figsize=(10,10))\n",
    "afw_display = afwDisplay.Display(frame=2)\n",
    "afw_display.scale('asinh', 'zscale')\n",
    "afw_display.mtv(calexp.image,title=the_title )\n",
    "afw_display.setMaskTransparency(80)\n",
    "    #plt.gca().axis('on')\n",
    "#transform = AsinhStretch() + ZScaleInterval()\n",
    "#scaledImage = transform(postisrccd.image.array)\n",
    "    #scaledImage = np.flipud(scaledImage)\n",
    "#plt.imshow(scaledImage,origin=\"lower\",extent=extent,aspect='equal')\n",
    "#    plt.title(the_title)\n",
    "#plt.grid()\n",
    "    #plt.gca().invert_xaxis()\n",
    "#plt.show()\n"
   ]
  },
  {
   "cell_type": "markdown",
   "id": "12edcad2-f817-4b7a-9da3-3b0ff6f495f6",
   "metadata": {},
   "source": [
    "## preSources"
   ]
  },
  {
   "cell_type": "markdown",
   "id": "cb20f231-042b-43a1-8faa-cfc70f8e4876",
   "metadata": {},
   "source": [
    "dataType = 'preSource'"
   ]
  },
  {
   "cell_type": "code",
   "execution_count": 20,
   "id": "7a420f32-0dbc-4eda-9ffc-47c2f53ff837",
   "metadata": {
    "execution": {
     "iopub.execute_input": "2024-06-27T14:29:05.670730Z",
     "iopub.status.busy": "2024-06-27T14:29:05.670588Z",
     "iopub.status.idle": "2024-06-27T14:29:05.673188Z",
     "shell.execute_reply": "2024-06-27T14:29:05.672761Z",
     "shell.execute_reply.started": "2024-06-27T14:29:05.670716Z"
    }
   },
   "outputs": [],
   "source": [
    "dataType = 'preSourceTable'"
   ]
  },
  {
   "cell_type": "code",
   "execution_count": 21,
   "id": "80911f59-4914-4a36-a6be-f9093e521b0c",
   "metadata": {
    "execution": {
     "iopub.execute_input": "2024-06-27T14:29:05.673864Z",
     "iopub.status.busy": "2024-06-27T14:29:05.673736Z",
     "iopub.status.idle": "2024-06-27T14:29:06.068755Z",
     "shell.execute_reply": "2024-06-27T14:29:06.068308Z",
     "shell.execute_reply.started": "2024-06-27T14:29:05.673851Z"
    }
   },
   "outputs": [],
   "source": [
    "refs_ds=list(butler.registry.queryDatasets(datasetType=dataType,collections=my_collection))"
   ]
  },
  {
   "cell_type": "code",
   "execution_count": 22,
   "id": "6ae12cdd-a406-4912-b844-6b4f7471c592",
   "metadata": {
    "execution": {
     "iopub.execute_input": "2024-06-27T14:29:06.069504Z",
     "iopub.status.busy": "2024-06-27T14:29:06.069364Z",
     "iopub.status.idle": "2024-06-27T14:29:06.072751Z",
     "shell.execute_reply": "2024-06-27T14:29:06.072353Z",
     "shell.execute_reply.started": "2024-06-27T14:29:06.069491Z"
    }
   },
   "outputs": [
    {
     "name": "stdout",
     "output_type": "stream",
     "text": [
      "------------------------------------------------------\n",
      "preSourceTable@{instrument: 'LSSTComCamSim', detector: 8, visit: 7024061800042, band: 'i', day_obs: 20240618, physical_filter: 'i_06'} [sc=DataFrame] (run=LSSTComCamSim/nightlyValidation/0 id=dbd52abf-1f44-484e-88f0-8d868efb37fe)\n",
      "------------------------------------------------------\n",
      "preSourceTable@{instrument: 'LSSTComCamSim', detector: 5, visit: 7024061800042, band: 'i', day_obs: 20240618, physical_filter: 'i_06'} [sc=DataFrame] (run=LSSTComCamSim/nightlyValidation/0 id=412f522e-1448-4ac8-a24d-8c07c32ff976)\n",
      "------------------------------------------------------\n",
      "preSourceTable@{instrument: 'LSSTComCamSim', detector: 6, visit: 7024061800042, band: 'i', day_obs: 20240618, physical_filter: 'i_06'} [sc=DataFrame] (run=LSSTComCamSim/nightlyValidation/0 id=3966cc91-23fb-49df-bac0-45428ac6651c)\n",
      "------------------------------------------------------\n",
      "preSourceTable@{instrument: 'LSSTComCamSim', detector: 7, visit: 7024061800042, band: 'i', day_obs: 20240618, physical_filter: 'i_06'} [sc=DataFrame] (run=LSSTComCamSim/nightlyValidation/0 id=766bd83e-bdca-43fe-a4db-01153e7c7986)\n",
      "------------------------------------------------------\n",
      "preSourceTable@{instrument: 'LSSTComCamSim', detector: 6, visit: 7024061800022, band: 'g', day_obs: 20240618, physical_filter: 'g_01'} [sc=DataFrame] (run=LSSTComCamSim/nightlyValidation/0 id=f9395adb-cb15-48d3-bc25-4b68e0509d81)\n",
      "------------------------------------------------------\n",
      "preSourceTable@{instrument: 'LSSTComCamSim', detector: 8, visit: 7024061800022, band: 'g', day_obs: 20240618, physical_filter: 'g_01'} [sc=DataFrame] (run=LSSTComCamSim/nightlyValidation/0 id=87da657f-3eb7-4cff-b50c-3afdc3b5b0db)\n",
      "------------------------------------------------------\n",
      "preSourceTable@{instrument: 'LSSTComCamSim', detector: 5, visit: 7024061800022, band: 'g', day_obs: 20240618, physical_filter: 'g_01'} [sc=DataFrame] (run=LSSTComCamSim/nightlyValidation/0 id=9adc137e-da0d-482d-8bab-0a0e1beeff7c)\n",
      "------------------------------------------------------\n",
      "preSourceTable@{instrument: 'LSSTComCamSim', detector: 2, visit: 7024061800022, band: 'g', day_obs: 20240618, physical_filter: 'g_01'} [sc=DataFrame] (run=LSSTComCamSim/nightlyValidation/0 id=03b80c9b-37e1-4623-8ff7-f0d001e70b86)\n",
      "------------------------------------------------------\n",
      "preSourceTable@{instrument: 'LSSTComCamSim', detector: 3, visit: 7024061800022, band: 'g', day_obs: 20240618, physical_filter: 'g_01'} [sc=DataFrame] (run=LSSTComCamSim/nightlyValidation/0 id=75232ae9-3719-4766-a8b0-97a6ca124bfe)\n",
      "------------------------------------------------------\n",
      "preSourceTable@{instrument: 'LSSTComCamSim', detector: 7, visit: 7024061800022, band: 'g', day_obs: 20240618, physical_filter: 'g_01'} [sc=DataFrame] (run=LSSTComCamSim/nightlyValidation/0 id=1eb57723-4b0c-4403-95ef-e408900cc7c9)\n",
      "------------------------------------------------------\n",
      "preSourceTable@{instrument: 'LSSTComCamSim', detector: 4, visit: 7024061800022, band: 'g', day_obs: 20240618, physical_filter: 'g_01'} [sc=DataFrame] (run=LSSTComCamSim/nightlyValidation/0 id=55e6b665-1b9a-468e-9c47-a24f9a0a36bf)\n",
      "------------------------------------------------------\n",
      "preSourceTable@{instrument: 'LSSTComCamSim', detector: 4, visit: 7024061800042, band: 'i', day_obs: 20240618, physical_filter: 'i_06'} [sc=DataFrame] (run=LSSTComCamSim/nightlyValidation/0 id=d7ee0943-1287-476e-90f0-d98bad23ec9f)\n"
     ]
    }
   ],
   "source": [
    "for idx,ref in enumerate(refs_ds):\n",
    "    print(\"------------------------------------------------------\")\n",
    "    print(ref)\n",
    "    if idx>10:\n",
    "        break"
   ]
  },
  {
   "cell_type": "markdown",
   "id": "e633dc19-0742-4ba2-a01f-4f5d98c38d42",
   "metadata": {},
   "source": [
    "## preCcdVisitTable"
   ]
  },
  {
   "cell_type": "code",
   "execution_count": 23,
   "id": "d4f56984-ba07-465c-856f-6548d0a1eedf",
   "metadata": {
    "execution": {
     "iopub.execute_input": "2024-06-27T14:29:06.073377Z",
     "iopub.status.busy": "2024-06-27T14:29:06.073255Z",
     "iopub.status.idle": "2024-06-27T14:29:06.078512Z",
     "shell.execute_reply": "2024-06-27T14:29:06.078165Z",
     "shell.execute_reply.started": "2024-06-27T14:29:06.073365Z"
    }
   },
   "outputs": [],
   "source": [
    "dataType = 'preCcdVisitTable'"
   ]
  },
  {
   "cell_type": "code",
   "execution_count": 24,
   "id": "6a592732-180a-4625-a90f-9090dffc62ca",
   "metadata": {
    "execution": {
     "iopub.execute_input": "2024-06-27T14:29:06.079127Z",
     "iopub.status.busy": "2024-06-27T14:29:06.079009Z",
     "iopub.status.idle": "2024-06-27T14:29:06.118121Z",
     "shell.execute_reply": "2024-06-27T14:29:06.117604Z",
     "shell.execute_reply.started": "2024-06-27T14:29:06.079116Z"
    }
   },
   "outputs": [],
   "source": [
    "refs_ds=list(butler.registry.queryDatasets(datasetType=dataType,collections=my_collection))"
   ]
  },
  {
   "cell_type": "code",
   "execution_count": 25,
   "id": "ebebf80a-6959-4315-be65-d34958cc407b",
   "metadata": {
    "execution": {
     "iopub.execute_input": "2024-06-27T14:29:06.118870Z",
     "iopub.status.busy": "2024-06-27T14:29:06.118738Z",
     "iopub.status.idle": "2024-06-27T14:29:06.121722Z",
     "shell.execute_reply": "2024-06-27T14:29:06.121292Z",
     "shell.execute_reply.started": "2024-06-27T14:29:06.118857Z"
    }
   },
   "outputs": [
    {
     "name": "stdout",
     "output_type": "stream",
     "text": [
      "------------------------------------------------------\n",
      "preCcdVisitTable@{instrument: 'LSSTComCamSim'} [sc=DataFrame] (run=LSSTComCamSim/nightlyValidation/0 id=a43d70ca-e7c9-4a66-acbf-7c107cb51a08)\n",
      "------------------------------------------------------\n",
      "preCcdVisitTable@{instrument: 'LSSTComCamSim'} [sc=DataFrame] (run=LSSTComCamSim/nightlyValidation/1 id=6a5d7234-4932-4791-b1d9-7c72e58af968)\n"
     ]
    }
   ],
   "source": [
    "for idx,ref in enumerate(refs_ds):\n",
    "    print(\"------------------------------------------------------\")\n",
    "    print(ref)\n",
    "    if idx>10:\n",
    "        break"
   ]
  },
  {
   "cell_type": "markdown",
   "id": "c18a7a6c-b861-46e8-b8ba-e5b1405e2d0b",
   "metadata": {},
   "source": [
    "## preVisitTable "
   ]
  },
  {
   "cell_type": "code",
   "execution_count": 26,
   "id": "e9975185-06e5-4ca8-b7fb-6ff89a02c5cc",
   "metadata": {
    "execution": {
     "iopub.execute_input": "2024-06-27T14:29:06.122342Z",
     "iopub.status.busy": "2024-06-27T14:29:06.122219Z",
     "iopub.status.idle": "2024-06-27T14:29:06.136647Z",
     "shell.execute_reply": "2024-06-27T14:29:06.136134Z",
     "shell.execute_reply.started": "2024-06-27T14:29:06.122331Z"
    }
   },
   "outputs": [],
   "source": [
    "dataType = 'preVisitTable'"
   ]
  },
  {
   "cell_type": "code",
   "execution_count": 27,
   "id": "c3ce8901-5f0b-4f8e-a778-ff9ed5fae387",
   "metadata": {
    "execution": {
     "iopub.execute_input": "2024-06-27T14:29:06.137697Z",
     "iopub.status.busy": "2024-06-27T14:29:06.137307Z",
     "iopub.status.idle": "2024-06-27T14:29:06.161604Z",
     "shell.execute_reply": "2024-06-27T14:29:06.161211Z",
     "shell.execute_reply.started": "2024-06-27T14:29:06.137683Z"
    }
   },
   "outputs": [],
   "source": [
    "refs_ds=list(butler.registry.queryDatasets(datasetType=dataType,collections=my_collection))"
   ]
  },
  {
   "cell_type": "code",
   "execution_count": 28,
   "id": "ead35142-8b78-431e-bf14-455ed8af529e",
   "metadata": {
    "execution": {
     "iopub.execute_input": "2024-06-27T14:29:06.162243Z",
     "iopub.status.busy": "2024-06-27T14:29:06.162118Z",
     "iopub.status.idle": "2024-06-27T14:29:06.164779Z",
     "shell.execute_reply": "2024-06-27T14:29:06.164397Z",
     "shell.execute_reply.started": "2024-06-27T14:29:06.162232Z"
    }
   },
   "outputs": [
    {
     "name": "stdout",
     "output_type": "stream",
     "text": [
      "------------------------------------------------------\n",
      "preVisitTable@{instrument: 'LSSTComCamSim'} [sc=DataFrame] (run=LSSTComCamSim/nightlyValidation/0 id=b77410a0-cb2b-4d87-a9ee-a4b5df926a79)\n",
      "------------------------------------------------------\n",
      "preVisitTable@{instrument: 'LSSTComCamSim'} [sc=DataFrame] (run=LSSTComCamSim/nightlyValidation/1 id=b86e755d-566d-4ee8-871e-3dc81918500a)\n"
     ]
    }
   ],
   "source": [
    "for idx,ref in enumerate(refs_ds):\n",
    "    print(\"------------------------------------------------------\")\n",
    "    print(ref)\n",
    "    if idx>10:\n",
    "        break"
   ]
  },
  {
   "cell_type": "code",
   "execution_count": 29,
   "id": "dca78d4f-ca59-4ea4-940c-be1812634e97",
   "metadata": {
    "execution": {
     "iopub.execute_input": "2024-06-27T14:29:06.165358Z",
     "iopub.status.busy": "2024-06-27T14:29:06.165236Z",
     "iopub.status.idle": "2024-06-27T14:29:06.168999Z",
     "shell.execute_reply": "2024-06-27T14:29:06.168610Z",
     "shell.execute_reply.started": "2024-06-27T14:29:06.165346Z"
    }
   },
   "outputs": [],
   "source": [
    "#butler =butlerUtils.makeDefaultLatissButler(extraCollections=[my_collection,])\n",
    "# probably not working with OGA"
   ]
  },
  {
   "cell_type": "code",
   "execution_count": 30,
   "id": "2303a002-d12e-4e5e-8e7e-e8ee5b3d9b0d",
   "metadata": {
    "execution": {
     "iopub.execute_input": "2024-06-27T14:29:06.169671Z",
     "iopub.status.busy": "2024-06-27T14:29:06.169512Z",
     "iopub.status.idle": "2024-06-27T14:29:06.174010Z",
     "shell.execute_reply": "2024-06-27T14:29:06.173622Z",
     "shell.execute_reply.started": "2024-06-27T14:29:06.169655Z"
    },
    "tags": []
   },
   "outputs": [],
   "source": [
    "dataId = {'day_obs': 20230912,'seq_num':264,'instrument':'LATISS','detector':0}"
   ]
  },
  {
   "cell_type": "code",
   "execution_count": 31,
   "id": "2f084737-c5a3-4930-b7d3-b7127dae9516",
   "metadata": {
    "execution": {
     "iopub.execute_input": "2024-06-27T14:29:06.174638Z",
     "iopub.status.busy": "2024-06-27T14:29:06.174516Z",
     "iopub.status.idle": "2024-06-27T14:29:06.178596Z",
     "shell.execute_reply": "2024-06-27T14:29:06.178180Z",
     "shell.execute_reply.started": "2024-06-27T14:29:06.174627Z"
    }
   },
   "outputs": [],
   "source": [
    "# with butler utils :\n",
    "#butler.get('spectraction',dataId)"
   ]
  },
  {
   "cell_type": "code",
   "execution_count": 32,
   "id": "32c7155b-8f5c-4bfb-a00f-05899e109289",
   "metadata": {
    "execution": {
     "iopub.execute_input": "2024-06-27T14:29:06.179208Z",
     "iopub.status.busy": "2024-06-27T14:29:06.179088Z",
     "iopub.status.idle": "2024-06-27T14:29:06.595378Z",
     "shell.execute_reply": "2024-06-27T14:29:06.593644Z",
     "shell.execute_reply.started": "2024-06-27T14:29:06.179197Z"
    },
    "tags": []
   },
   "outputs": [
    {
     "ename": "MissingDatasetTypeError",
     "evalue": "\"Dataset type with name 'spectractorSpectrum' not found.\"",
     "output_type": "error",
     "traceback": [
      "\u001b[0;31m---------------------------------------------------------------------------\u001b[0m",
      "\u001b[0;31mMissingDatasetTypeError\u001b[0m                   Traceback (most recent call last)",
      "Cell \u001b[0;32mIn[32], line 2\u001b[0m\n\u001b[1;32m      1\u001b[0m \u001b[38;5;66;03m# without butler utils\u001b[39;00m\n\u001b[0;32m----> 2\u001b[0m spec\u001b[38;5;241m=\u001b[39m \u001b[43mbutler\u001b[49m\u001b[38;5;241;43m.\u001b[39;49m\u001b[43mget\u001b[49m\u001b[43m(\u001b[49m\u001b[38;5;124;43m'\u001b[39;49m\u001b[38;5;124;43mspectractorSpectrum\u001b[39;49m\u001b[38;5;124;43m'\u001b[39;49m\u001b[43m,\u001b[49m\u001b[43mdataId\u001b[49m\u001b[43m,\u001b[49m\u001b[43mcollections\u001b[49m\u001b[38;5;241;43m=\u001b[39;49m\u001b[43mmy_collection\u001b[49m\u001b[43m)\u001b[49m\n",
      "File \u001b[0;32m/opt/lsst/software/stack/stack/miniconda3-py38_4.9.2-8.0.0/Linux64/daf_butler/ge353e872a4+80f8d001e8/python/lsst/daf/butler/direct_butler/_direct_butler.py:1146\u001b[0m, in \u001b[0;36mDirectButler.get\u001b[0;34m(self, datasetRefOrType, dataId, parameters, collections, storageClass, timespan, **kwargs)\u001b[0m\n\u001b[1;32m   1087\u001b[0m \u001b[38;5;250m\u001b[39m\u001b[38;5;124;03m\"\"\"Retrieve a stored dataset.\u001b[39;00m\n\u001b[1;32m   1088\u001b[0m \n\u001b[1;32m   1089\u001b[0m \u001b[38;5;124;03mParameters\u001b[39;00m\n\u001b[0;32m   (...)\u001b[0m\n\u001b[1;32m   1143\u001b[0m \u001b[38;5;124;03m``exposure`` is a temporal dimension.\u001b[39;00m\n\u001b[1;32m   1144\u001b[0m \u001b[38;5;124;03m\"\"\"\u001b[39;00m\n\u001b[1;32m   1145\u001b[0m _LOG\u001b[38;5;241m.\u001b[39mdebug(\u001b[38;5;124m\"\u001b[39m\u001b[38;5;124mButler get: \u001b[39m\u001b[38;5;132;01m%s\u001b[39;00m\u001b[38;5;124m, dataId=\u001b[39m\u001b[38;5;132;01m%s\u001b[39;00m\u001b[38;5;124m, parameters=\u001b[39m\u001b[38;5;132;01m%s\u001b[39;00m\u001b[38;5;124m\"\u001b[39m, datasetRefOrType, dataId, parameters)\n\u001b[0;32m-> 1146\u001b[0m ref \u001b[38;5;241m=\u001b[39m \u001b[38;5;28;43mself\u001b[39;49m\u001b[38;5;241;43m.\u001b[39;49m\u001b[43m_findDatasetRef\u001b[49m\u001b[43m(\u001b[49m\n\u001b[1;32m   1147\u001b[0m \u001b[43m    \u001b[49m\u001b[43mdatasetRefOrType\u001b[49m\u001b[43m,\u001b[49m\n\u001b[1;32m   1148\u001b[0m \u001b[43m    \u001b[49m\u001b[43mdataId\u001b[49m\u001b[43m,\u001b[49m\n\u001b[1;32m   1149\u001b[0m \u001b[43m    \u001b[49m\u001b[43mcollections\u001b[49m\u001b[38;5;241;43m=\u001b[39;49m\u001b[43mcollections\u001b[49m\u001b[43m,\u001b[49m\n\u001b[1;32m   1150\u001b[0m \u001b[43m    \u001b[49m\u001b[43mdatastore_records\u001b[49m\u001b[38;5;241;43m=\u001b[39;49m\u001b[38;5;28;43;01mTrue\u001b[39;49;00m\u001b[43m,\u001b[49m\n\u001b[1;32m   1151\u001b[0m \u001b[43m    \u001b[49m\u001b[43mtimespan\u001b[49m\u001b[38;5;241;43m=\u001b[39;49m\u001b[43mtimespan\u001b[49m\u001b[43m,\u001b[49m\n\u001b[1;32m   1152\u001b[0m \u001b[43m    \u001b[49m\u001b[38;5;241;43m*\u001b[39;49m\u001b[38;5;241;43m*\u001b[39;49m\u001b[43mkwargs\u001b[49m\u001b[43m,\u001b[49m\n\u001b[1;32m   1153\u001b[0m \u001b[43m\u001b[49m\u001b[43m)\u001b[49m\n\u001b[1;32m   1154\u001b[0m \u001b[38;5;28;01mreturn\u001b[39;00m \u001b[38;5;28mself\u001b[39m\u001b[38;5;241m.\u001b[39m_datastore\u001b[38;5;241m.\u001b[39mget(ref, parameters\u001b[38;5;241m=\u001b[39mparameters, storageClass\u001b[38;5;241m=\u001b[39mstorageClass)\n",
      "File \u001b[0;32m/opt/lsst/software/stack/stack/miniconda3-py38_4.9.2-8.0.0/Linux64/daf_butler/ge353e872a4+80f8d001e8/python/lsst/daf/butler/direct_butler/_direct_butler.py:840\u001b[0m, in \u001b[0;36mDirectButler._findDatasetRef\u001b[0;34m(self, datasetRefOrType, dataId, collections, predict, run, datastore_records, timespan, **kwargs)\u001b[0m\n\u001b[1;32m    776\u001b[0m \u001b[38;5;28;01mdef\u001b[39;00m \u001b[38;5;21m_findDatasetRef\u001b[39m(\n\u001b[1;32m    777\u001b[0m     \u001b[38;5;28mself\u001b[39m,\n\u001b[1;32m    778\u001b[0m     datasetRefOrType: DatasetRef \u001b[38;5;241m|\u001b[39m DatasetType \u001b[38;5;241m|\u001b[39m \u001b[38;5;28mstr\u001b[39m,\n\u001b[0;32m   (...)\u001b[0m\n\u001b[1;32m    786\u001b[0m     \u001b[38;5;241m*\u001b[39m\u001b[38;5;241m*\u001b[39mkwargs: Any,\n\u001b[1;32m    787\u001b[0m ) \u001b[38;5;241m-\u001b[39m\u001b[38;5;241m>\u001b[39m DatasetRef:\n\u001b[1;32m    788\u001b[0m \u001b[38;5;250m    \u001b[39m\u001b[38;5;124;03m\"\"\"Shared logic for methods that start with a search for a dataset in\u001b[39;00m\n\u001b[1;32m    789\u001b[0m \u001b[38;5;124;03m    the registry.\u001b[39;00m\n\u001b[1;32m    790\u001b[0m \n\u001b[0;32m   (...)\u001b[0m\n\u001b[1;32m    838\u001b[0m \u001b[38;5;124;03m        Raised if no collections were provided.\u001b[39;00m\n\u001b[1;32m    839\u001b[0m \u001b[38;5;124;03m    \"\"\"\u001b[39;00m\n\u001b[0;32m--> 840\u001b[0m     datasetType, dataId \u001b[38;5;241m=\u001b[39m \u001b[38;5;28;43mself\u001b[39;49m\u001b[38;5;241;43m.\u001b[39;49m\u001b[43m_standardizeArgs\u001b[49m\u001b[43m(\u001b[49m\u001b[43mdatasetRefOrType\u001b[49m\u001b[43m,\u001b[49m\u001b[43m \u001b[49m\u001b[43mdataId\u001b[49m\u001b[43m,\u001b[49m\u001b[43m \u001b[49m\u001b[43mfor_put\u001b[49m\u001b[38;5;241;43m=\u001b[39;49m\u001b[38;5;28;43;01mFalse\u001b[39;49;00m\u001b[43m,\u001b[49m\u001b[43m \u001b[49m\u001b[38;5;241;43m*\u001b[39;49m\u001b[38;5;241;43m*\u001b[39;49m\u001b[43mkwargs\u001b[49m\u001b[43m)\u001b[49m\n\u001b[1;32m    841\u001b[0m     \u001b[38;5;28;01mif\u001b[39;00m \u001b[38;5;28misinstance\u001b[39m(datasetRefOrType, DatasetRef):\n\u001b[1;32m    842\u001b[0m         \u001b[38;5;28;01mif\u001b[39;00m collections \u001b[38;5;129;01mis\u001b[39;00m \u001b[38;5;129;01mnot\u001b[39;00m \u001b[38;5;28;01mNone\u001b[39;00m:\n",
      "File \u001b[0;32m/opt/lsst/software/stack/stack/miniconda3-py38_4.9.2-8.0.0/Linux64/daf_butler/ge353e872a4+80f8d001e8/python/lsst/daf/butler/direct_butler/_direct_butler.py:390\u001b[0m, in \u001b[0;36mDirectButler._standardizeArgs\u001b[0;34m(self, datasetRefOrType, dataId, for_put, **kwargs)\u001b[0m\n\u001b[1;32m    388\u001b[0m         externalDatasetType \u001b[38;5;241m=\u001b[39m datasetRefOrType\n\u001b[1;32m    389\u001b[0m     \u001b[38;5;28;01melse\u001b[39;00m:\n\u001b[0;32m--> 390\u001b[0m         internalDatasetType \u001b[38;5;241m=\u001b[39m \u001b[38;5;28;43mself\u001b[39;49m\u001b[38;5;241;43m.\u001b[39;49m\u001b[43mget_dataset_type\u001b[49m\u001b[43m(\u001b[49m\u001b[43mdatasetRefOrType\u001b[49m\u001b[43m)\u001b[49m\n\u001b[1;32m    392\u001b[0m \u001b[38;5;66;03m# Check that they are self-consistent\u001b[39;00m\n\u001b[1;32m    393\u001b[0m \u001b[38;5;28;01mif\u001b[39;00m externalDatasetType \u001b[38;5;129;01mis\u001b[39;00m \u001b[38;5;129;01mnot\u001b[39;00m \u001b[38;5;28;01mNone\u001b[39;00m:\n",
      "File \u001b[0;32m/opt/lsst/software/stack/stack/miniconda3-py38_4.9.2-8.0.0/Linux64/daf_butler/ge353e872a4+80f8d001e8/python/lsst/daf/butler/direct_butler/_direct_butler.py:1206\u001b[0m, in \u001b[0;36mDirectButler.get_dataset_type\u001b[0;34m(self, name)\u001b[0m\n\u001b[1;32m   1205\u001b[0m \u001b[38;5;28;01mdef\u001b[39;00m \u001b[38;5;21mget_dataset_type\u001b[39m(\u001b[38;5;28mself\u001b[39m, name: \u001b[38;5;28mstr\u001b[39m) \u001b[38;5;241m-\u001b[39m\u001b[38;5;241m>\u001b[39m DatasetType:\n\u001b[0;32m-> 1206\u001b[0m     \u001b[38;5;28;01mreturn\u001b[39;00m \u001b[38;5;28;43mself\u001b[39;49m\u001b[38;5;241;43m.\u001b[39;49m\u001b[43m_registry\u001b[49m\u001b[38;5;241;43m.\u001b[39;49m\u001b[43mgetDatasetType\u001b[49m\u001b[43m(\u001b[49m\u001b[43mname\u001b[49m\u001b[43m)\u001b[49m\n",
      "File \u001b[0;32m/opt/lsst/software/stack/stack/miniconda3-py38_4.9.2-8.0.0/Linux64/daf_butler/ge353e872a4+80f8d001e8/python/lsst/daf/butler/registry/sql_registry.py:813\u001b[0m, in \u001b[0;36mSqlRegistry.getDatasetType\u001b[0;34m(self, name)\u001b[0m\n\u001b[1;32m    790\u001b[0m \u001b[38;5;250m\u001b[39m\u001b[38;5;124;03m\"\"\"Get the `DatasetType`.\u001b[39;00m\n\u001b[1;32m    791\u001b[0m \n\u001b[1;32m    792\u001b[0m \u001b[38;5;124;03mParameters\u001b[39;00m\n\u001b[0;32m   (...)\u001b[0m\n\u001b[1;32m    810\u001b[0m \u001b[38;5;124;03mother registry operations do not.\u001b[39;00m\n\u001b[1;32m    811\u001b[0m \u001b[38;5;124;03m\"\"\"\u001b[39;00m\n\u001b[1;32m    812\u001b[0m parent_name, component \u001b[38;5;241m=\u001b[39m DatasetType\u001b[38;5;241m.\u001b[39msplitDatasetTypeName(name)\n\u001b[0;32m--> 813\u001b[0m storage \u001b[38;5;241m=\u001b[39m \u001b[38;5;28;43mself\u001b[39;49m\u001b[38;5;241;43m.\u001b[39;49m\u001b[43m_managers\u001b[49m\u001b[38;5;241;43m.\u001b[39;49m\u001b[43mdatasets\u001b[49m\u001b[43m[\u001b[49m\u001b[43mparent_name\u001b[49m\u001b[43m]\u001b[49m\n\u001b[1;32m    814\u001b[0m \u001b[38;5;28;01mif\u001b[39;00m component \u001b[38;5;129;01mis\u001b[39;00m \u001b[38;5;28;01mNone\u001b[39;00m:\n\u001b[1;32m    815\u001b[0m     \u001b[38;5;28;01mreturn\u001b[39;00m storage\u001b[38;5;241m.\u001b[39mdatasetType\n",
      "File \u001b[0;32m/opt/lsst/software/stack/stack/miniconda3-py38_4.9.2-8.0.0/Linux64/daf_butler/ge353e872a4+80f8d001e8/python/lsst/daf/butler/registry/interfaces/_datasets.py:550\u001b[0m, in \u001b[0;36mDatasetRecordStorageManager.__getitem__\u001b[0;34m(self, name)\u001b[0m\n\u001b[1;32m    548\u001b[0m result \u001b[38;5;241m=\u001b[39m \u001b[38;5;28mself\u001b[39m\u001b[38;5;241m.\u001b[39mfind(name)\n\u001b[1;32m    549\u001b[0m \u001b[38;5;28;01mif\u001b[39;00m result \u001b[38;5;129;01mis\u001b[39;00m \u001b[38;5;28;01mNone\u001b[39;00m:\n\u001b[0;32m--> 550\u001b[0m     \u001b[38;5;28;01mraise\u001b[39;00m MissingDatasetTypeError(\u001b[38;5;124mf\u001b[39m\u001b[38;5;124m\"\u001b[39m\u001b[38;5;124mDataset type with name \u001b[39m\u001b[38;5;124m'\u001b[39m\u001b[38;5;132;01m{\u001b[39;00mname\u001b[38;5;132;01m}\u001b[39;00m\u001b[38;5;124m'\u001b[39m\u001b[38;5;124m not found.\u001b[39m\u001b[38;5;124m\"\u001b[39m)\n\u001b[1;32m    551\u001b[0m \u001b[38;5;28;01mreturn\u001b[39;00m result\n",
      "\u001b[0;31mMissingDatasetTypeError\u001b[0m: \"Dataset type with name 'spectractorSpectrum' not found.\""
     ]
    }
   ],
   "source": [
    "# without butler utils\n",
    "spec= butler.get('spectractorSpectrum',dataId,collections=my_collection)"
   ]
  },
  {
   "cell_type": "markdown",
   "id": "d25a4dd3-c8f6-4fba-8004-b3619dff1f28",
   "metadata": {},
   "source": [
    "### Show all dataset types"
   ]
  },
  {
   "cell_type": "code",
   "execution_count": null,
   "id": "b9e50146-abd7-44e9-8027-4e8a2cfacc7d",
   "metadata": {
    "execution": {
     "iopub.status.busy": "2024-06-27T14:29:06.595875Z",
     "iopub.status.idle": "2024-06-27T14:29:06.596046Z",
     "shell.execute_reply": "2024-06-27T14:29:06.595967Z",
     "shell.execute_reply.started": "2024-06-27T14:29:06.595959Z"
    },
    "tags": []
   },
   "outputs": [],
   "source": [
    "dst = list(butler.registry.queryDatasetTypes(\"*\"))"
   ]
  },
  {
   "cell_type": "code",
   "execution_count": null,
   "id": "cfe5dd19-7dae-411b-8b8a-fe8e034437c5",
   "metadata": {
    "execution": {
     "iopub.status.busy": "2024-06-27T14:29:06.596811Z",
     "iopub.status.idle": "2024-06-27T14:29:06.596980Z",
     "shell.execute_reply": "2024-06-27T14:29:06.596901Z",
     "shell.execute_reply.started": "2024-06-27T14:29:06.596893Z"
    },
    "tags": []
   },
   "outputs": [],
   "source": [
    "dst"
   ]
  },
  {
   "cell_type": "code",
   "execution_count": null,
   "id": "f275a95f-eafe-440b-abe0-70772ca6ff4a",
   "metadata": {
    "execution": {
     "iopub.status.busy": "2024-06-27T14:29:06.597832Z",
     "iopub.status.idle": "2024-06-27T14:29:06.597993Z",
     "shell.execute_reply": "2024-06-27T14:29:06.597916Z",
     "shell.execute_reply.started": "2024-06-27T14:29:06.597909Z"
    },
    "tags": []
   },
   "outputs": [],
   "source": [
    "output_coll = \"u/dagoret/spectro/emptyholo4003noflat/runs_20230912\""
   ]
  },
  {
   "cell_type": "code",
   "execution_count": null,
   "id": "db240216-a331-495d-82a0-7f1019f620da",
   "metadata": {
    "execution": {
     "iopub.status.busy": "2024-06-27T14:29:06.598805Z",
     "iopub.status.idle": "2024-06-27T14:29:06.599043Z",
     "shell.execute_reply": "2024-06-27T14:29:06.598922Z",
     "shell.execute_reply.started": "2024-06-27T14:29:06.598912Z"
    },
    "tags": []
   },
   "outputs": [],
   "source": [
    "for refs_ds in butler.registry.queryDatasets(datasetType='any',collections=output_coll):\n",
    "    print(refs_ds)"
   ]
  },
  {
   "cell_type": "code",
   "execution_count": null,
   "id": "545f79fc-92e4-423e-b925-9584ea571608",
   "metadata": {
    "execution": {
     "iopub.status.busy": "2024-06-27T14:29:06.599643Z",
     "iopub.status.idle": "2024-06-27T14:29:06.599841Z",
     "shell.execute_reply": "2024-06-27T14:29:06.599747Z",
     "shell.execute_reply.started": "2024-06-27T14:29:06.599739Z"
    }
   },
   "outputs": [],
   "source": [
    "refs_ds"
   ]
  },
  {
   "cell_type": "code",
   "execution_count": null,
   "id": "d1775c51-6aca-4f0b-914d-229f21a0f889",
   "metadata": {
    "execution": {
     "iopub.status.busy": "2024-06-27T14:29:06.600708Z",
     "iopub.status.idle": "2024-06-27T14:29:06.600914Z",
     "shell.execute_reply": "2024-06-27T14:29:06.600813Z",
     "shell.execute_reply.started": "2024-06-27T14:29:06.600804Z"
    },
    "tags": []
   },
   "outputs": [],
   "source": [
    "refs_ds=list(butler.registry.queryDatasets(datasetType=\"*spe*\",collections=output_coll))"
   ]
  },
  {
   "cell_type": "code",
   "execution_count": null,
   "id": "92ceb85a-6403-4f87-9d60-c12afad33e6c",
   "metadata": {
    "execution": {
     "iopub.status.busy": "2024-06-27T14:29:06.601706Z",
     "iopub.status.idle": "2024-06-27T14:29:06.601868Z",
     "shell.execute_reply": "2024-06-27T14:29:06.601793Z",
     "shell.execute_reply.started": "2024-06-27T14:29:06.601785Z"
    },
    "tags": []
   },
   "outputs": [],
   "source": [
    "refs_ds"
   ]
  },
  {
   "cell_type": "code",
   "execution_count": null,
   "id": "46c39443-fadb-4eac-aabe-d29f407b1d1b",
   "metadata": {
    "execution": {
     "iopub.status.busy": "2024-06-27T14:29:06.602496Z",
     "iopub.status.idle": "2024-06-27T14:29:06.602692Z",
     "shell.execute_reply": "2024-06-27T14:29:06.602610Z",
     "shell.execute_reply.started": "2024-06-27T14:29:06.602600Z"
    }
   },
   "outputs": [],
   "source": [
    "refs_ds"
   ]
  },
  {
   "cell_type": "code",
   "execution_count": null,
   "id": "d0555e08-56d4-41f5-b4f6-284d432e8a39",
   "metadata": {
    "execution": {
     "iopub.status.busy": "2024-06-27T14:29:06.603315Z",
     "iopub.status.idle": "2024-06-27T14:29:06.603478Z",
     "shell.execute_reply": "2024-06-27T14:29:06.603405Z",
     "shell.execute_reply.started": "2024-06-27T14:29:06.603398Z"
    }
   },
   "outputs": [],
   "source": [
    "#/sdf/group/rubin/repo/main/u/dagoret/tests/test_20oct2022/20221020T143125Z/spectractorSpectrum/20220630/white/empty~holo4_003/2022063000060/82nlj40o9h1dcrhp.fits"
   ]
  },
  {
   "cell_type": "code",
   "execution_count": null,
   "id": "70281cab-8397-4856-a347-a8d948872d4d",
   "metadata": {
    "tags": []
   },
   "outputs": [],
   "source": []
  }
 ],
 "metadata": {
  "kernelspec": {
   "display_name": "LSST",
   "language": "python",
   "name": "lsst"
  },
  "language_info": {
   "codemirror_mode": {
    "name": "ipython",
    "version": 3
   },
   "file_extension": ".py",
   "mimetype": "text/x-python",
   "name": "python",
   "nbconvert_exporter": "python",
   "pygments_lexer": "ipython3",
   "version": "3.11.7"
  }
 },
 "nbformat": 4,
 "nbformat_minor": 5
}
