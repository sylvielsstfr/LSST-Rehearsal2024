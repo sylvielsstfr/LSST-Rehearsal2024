{
 "cells": [
  {
   "cell_type": "markdown",
   "id": "de8df7dc-1f1a-476a-b0fc-8c47434675af",
   "metadata": {},
   "source": [
    "# First Exploration of Simulated COMCAM"
   ]
  },
  {
   "cell_type": "markdown",
   "id": "fd840c17-607c-4e1f-b107-e38040b21b59",
   "metadata": {},
   "source": [
    "- author : Sylvie Dagoret-Campagne\n",
    "- creation date :  2024-06-27\n",
    "- update : 2024-06-27\n",
    "- w_2024_25\n",
    "\n",
    "  \n",
    "``Quantum Graphs``: https://tigress-web.princeton.edu/~lkelvin/pipelines/ \n",
    "\n",
    "``CalibrateTask``: \n",
    "https://github.com/lsst/pipe_tasks/blob/main/python/lsst/pipe/tasks/calibrate.py#L392-L399\n",
    "\n",
    "\n",
    "``Shemas``:\n",
    "https://dm.lsst.org/sdm_schemas/browser/"
   ]
  },
  {
   "cell_type": "markdown",
   "id": "334fad6c-fc14-49e7-a525-c19141891a44",
   "metadata": {},
   "source": [
    "### Schema for data sim\n",
    "- https://dm.lsst.org/sdm_schemas/browser/imsim.html"
   ]
  },
  {
   "cell_type": "code",
   "execution_count": 1,
   "id": "095ef981-ad32-4c2c-8593-8ed9b80b8a4a",
   "metadata": {
    "execution": {
     "iopub.execute_input": "2024-06-27T09:47:08.913131Z",
     "iopub.status.busy": "2024-06-27T09:47:08.913001Z",
     "iopub.status.idle": "2024-06-27T09:47:10.499217Z",
     "shell.execute_reply": "2024-06-27T09:47:10.498643Z",
     "shell.execute_reply.started": "2024-06-27T09:47:08.913118Z"
    }
   },
   "outputs": [],
   "source": [
    "from lsst.daf.butler import Butler\n",
    "import lsst\n",
    "from lsst.geom import Angle \n",
    "import pandas as pd\n",
    "import numpy as np\n",
    "#repo = '/repo/embargo'\n",
    "repo = 'embargo_or4'\n",
    "instrument = 'LSSTComCamSim'\n",
    "where_clause = \"instrument = \\'\" + f\"{instrument}\" +\"\\'\"\n",
    "skymap_name = \"ops_rehersal_prep_2k_v1\"\n",
    "collection0 = 'LSSTComCamSim/quickLook/24'\n",
    "collection1 = 'LSSTComCamSim/runs/nightlyvalidation/20240402/d_2024_03_29/DM-43612'\n",
    "collection2 = 'LSSTComCamSim/runs/nightlyvalidation/20240403/d_2024_03_29/DM-43612'\n",
    "collection3 = 'LSSTComCamSim/runs/nightlyvalidation/20240404/d_2024_03_29/DM-43612'\n",
    "collection4 = 'LSSTComCamSim/nightlyValidation'\n",
    "#collection4 = 'LSSTComCamSim/runs/nightlyvalidation/20240405/d_2024_03_29/DM-43612'\n",
    "#collection = 'LSSTComCamSim/runs/nightlyvalidation/20240404/d_2024_03_29/DM-43612'\n",
    "#collection = 'LSSTComCamSim/runs/nightlyvalidation/20240404/d_2024_03_29/DM-43612'\n",
    "#collections = [collection1,collection2]\n",
    "#collections = [collection0,collection1,collection2,collection3]\n",
    "# in collection1,collection3 no ccdVisitTable\n",
    "collections = [collection4]\n",
    "butler = Butler(repo, collections=collections)\n",
    "registry = butler.registry\n",
    "from collections import OrderedDict"
   ]
  },
  {
   "cell_type": "code",
   "execution_count": 2,
   "id": "4d4d9031-801c-4f52-a3d1-476636024568",
   "metadata": {
    "execution": {
     "iopub.execute_input": "2024-06-27T09:47:10.500005Z",
     "iopub.status.busy": "2024-06-27T09:47:10.499856Z",
     "iopub.status.idle": "2024-06-27T09:47:11.102466Z",
     "shell.execute_reply": "2024-06-27T09:47:11.102012Z",
     "shell.execute_reply.started": "2024-06-27T09:47:10.499990Z"
    }
   },
   "outputs": [],
   "source": [
    "import numpy as np\n",
    "import matplotlib.pyplot as plt\n",
    "import matplotlib as mpl\n",
    "import matplotlib.cm as cm \n",
    "import matplotlib.colors as colors\n",
    "import matplotlib.cm as cmx\n",
    "import matplotlib.dates as mdates\n",
    "from matplotlib.colors import ListedColormap\n",
    "%matplotlib inline\n",
    "from mpl_toolkits.axes_grid1 import make_axes_locatable\n",
    "from matplotlib.colors import LogNorm\n",
    "from astropy.visualization import imshow_norm, MinMaxInterval, SqrtStretch\n",
    "# Astropy\n",
    "from astropy.visualization import ZScaleInterval, AsinhStretch\n",
    "\n",
    "import seaborn as sns\n",
    "import pandas as pd\n",
    "\n",
    "import matplotlib.ticker                         # here's where the formatter is\n",
    "import os\n",
    "import re\n",
    "import pandas as pd\n",
    "\n",
    "\n",
    "#xx-small\n",
    "#x-small\n",
    "#small\n",
    "#medium\n",
    "#large\n",
    "#x-large\n",
    "#xx-large\n",
    "\n",
    "plt.rcParams[\"figure.figsize\"] = (10,6)\n",
    "plt.rcParams[\"axes.labelsize\"] = 'x-large'\n",
    "plt.rcParams['axes.titlesize'] = 'x-large'\n",
    "plt.rcParams['xtick.labelsize']= 'x-large'\n",
    "plt.rcParams['ytick.labelsize']= 'x-large'"
   ]
  },
  {
   "cell_type": "code",
   "execution_count": 3,
   "id": "9c550afd-b500-4b20-9897-4076a312e444",
   "metadata": {
    "execution": {
     "iopub.execute_input": "2024-06-27T09:47:11.103358Z",
     "iopub.status.busy": "2024-06-27T09:47:11.103047Z",
     "iopub.status.idle": "2024-06-27T09:47:11.105786Z",
     "shell.execute_reply": "2024-06-27T09:47:11.105434Z",
     "shell.execute_reply.started": "2024-06-27T09:47:11.103344Z"
    }
   },
   "outputs": [],
   "source": [
    "from astropy.time import Time\n",
    "from astropy.coordinates import SkyCoord\n",
    "from astropy import coordinates\n",
    "import astropy.coordinates as coord\n",
    "import astropy.units as u"
   ]
  },
  {
   "cell_type": "code",
   "execution_count": 4,
   "id": "31d056cf-2a20-4c5c-9837-a04c27e7a447",
   "metadata": {
    "execution": {
     "iopub.execute_input": "2024-06-27T09:47:11.106415Z",
     "iopub.status.busy": "2024-06-27T09:47:11.106293Z",
     "iopub.status.idle": "2024-06-27T09:47:16.529491Z",
     "shell.execute_reply": "2024-06-27T09:47:16.529038Z",
     "shell.execute_reply.started": "2024-06-27T09:47:11.106402Z"
    }
   },
   "outputs": [
    {
     "name": "stdout",
     "output_type": "stream",
     "text": [
      "DatasetType('postISRCCD', {band, instrument, day_obs, detector, group, physical_filter, exposure}, Exposure)\n",
      "DatasetType('packages', {}, Packages)\n",
      "DatasetType('icSrc_schema', {}, SourceCatalog)\n",
      "DatasetType('src_schema', {}, SourceCatalog)\n",
      "DatasetType('icExp', {band, instrument, day_obs, detector, physical_filter, visit}, ExposureF)\n",
      "DatasetType('icExpBackground', {band, instrument, day_obs, detector, physical_filter, visit}, Background)\n",
      "DatasetType('icSrc', {band, instrument, day_obs, detector, physical_filter, visit}, SourceCatalog)\n",
      "DatasetType('calexp', {band, instrument, day_obs, detector, physical_filter, visit}, ExposureF)\n",
      "DatasetType('calexpBackground', {band, instrument, day_obs, detector, physical_filter, visit}, Background)\n",
      "DatasetType('calexpSummary_metrics', {band, instrument, day_obs, detector, physical_filter, visit}, MetricMeasurementBundle)\n",
      "DatasetType('src', {band, instrument, day_obs, detector, physical_filter, visit}, SourceCatalog)\n",
      "DatasetType('srcMatch', {band, instrument, day_obs, detector, physical_filter, visit}, Catalog)\n",
      "DatasetType('srcMatchFull', {band, instrument, day_obs, detector, physical_filter, visit}, Catalog)\n",
      "DatasetType('preSource', {band, instrument, day_obs, detector, physical_filter, visit}, DataFrame)\n",
      "DatasetType('preSourceTable', {band, instrument, day_obs, detector, physical_filter, visit}, DataFrame)\n",
      "DatasetType('visitSummary_schema', {}, ExposureCatalog)\n",
      "DatasetType('preSourceTable_visit', {band, instrument, day_obs, physical_filter, visit}, DataFrame)\n",
      "DatasetType('preSourceTableCore_metrics', {band, instrument, day_obs, physical_filter, visit}, MetricMeasurementBundle)\n",
      "DatasetType('preSourceTableCore_skySourceFlux_HistPlot', {band, instrument, day_obs, physical_filter, visit}, Plot)\n",
      "DatasetType('preSourceTableCore_skySourceSky_SkyPlot', {band, instrument, day_obs, physical_filter, visit}, Plot)\n",
      "DatasetType('visitSummary', {band, instrument, day_obs, physical_filter, visit}, ExposureCatalog)\n",
      "DatasetType('preSourceTable_visit_uw_stars_20240524_match', {band, instrument, day_obs, physical_filter, visit}, ArrowAstropy)\n",
      "DatasetType('sourceTable_visit_gaia_dr3_20230707_match_metrics', {band, instrument, day_obs, physical_filter, visit}, MetricMeasurementBundle)\n",
      "DatasetType('preCcdVisitTable', {instrument}, DataFrame)\n",
      "DatasetType('preVisitTable', {instrument}, DataFrame)\n"
     ]
    }
   ],
   "source": [
    "for datasetType in registry.queryDatasetTypes():\n",
    "    if registry.queryDatasets(datasetType, collections=collections).any(execute=False, exact=False):\n",
    "        # Limit search results to the data products\n",
    "        if ('_config' not in datasetType.name) and ('_log' not in datasetType.name) and ('_metadata' not in datasetType.name) and ('_resource_usage' not in datasetType.name):\n",
    "            print(datasetType)"
   ]
  },
  {
   "cell_type": "markdown",
   "id": "1d98800f-b52e-4bb8-a282-5ecac04a095c",
   "metadata": {},
   "source": [
    "## How do I figure out which tracts have data?"
   ]
  },
  {
   "cell_type": "code",
   "execution_count": 5,
   "id": "2aa997c9-d5a8-489d-9db4-8367cd96e2b0",
   "metadata": {
    "execution": {
     "iopub.execute_input": "2024-06-27T09:47:16.530404Z",
     "iopub.status.busy": "2024-06-27T09:47:16.530194Z",
     "iopub.status.idle": "2024-06-27T09:47:16.534248Z",
     "shell.execute_reply": "2024-06-27T09:47:16.533867Z",
     "shell.execute_reply.started": "2024-06-27T09:47:16.530383Z"
    }
   },
   "outputs": [
    {
     "name": "stdout",
     "output_type": "stream",
     "text": [
      "deepCoadd_nImage\n",
      "goodSeeingCoadd_nImage\n"
     ]
    }
   ],
   "source": [
    "for dtype in sorted(registry.queryDatasetTypes(expression=\"*nImage*\")):\n",
    "    print(dtype.name)"
   ]
  },
  {
   "cell_type": "code",
   "execution_count": 6,
   "id": "276e8682-7ae6-42ef-a6af-47a7050674d2",
   "metadata": {
    "execution": {
     "iopub.execute_input": "2024-06-27T09:47:16.534921Z",
     "iopub.status.busy": "2024-06-27T09:47:16.534771Z",
     "iopub.status.idle": "2024-06-27T09:47:16.546026Z",
     "shell.execute_reply": "2024-06-27T09:47:16.545679Z",
     "shell.execute_reply.started": "2024-06-27T09:47:16.534907Z"
    }
   },
   "outputs": [],
   "source": [
    "nImage_refs = list(butler.registry.queryDatasets('deepCoadd_nImage'))"
   ]
  },
  {
   "cell_type": "code",
   "execution_count": 7,
   "id": "63407f9e-111e-4cb6-9b63-c886286e69cf",
   "metadata": {
    "execution": {
     "iopub.execute_input": "2024-06-27T09:47:16.546636Z",
     "iopub.status.busy": "2024-06-27T09:47:16.546511Z",
     "iopub.status.idle": "2024-06-27T09:47:16.549572Z",
     "shell.execute_reply": "2024-06-27T09:47:16.549181Z",
     "shell.execute_reply.started": "2024-06-27T09:47:16.546624Z"
    }
   },
   "outputs": [
    {
     "name": "stdout",
     "output_type": "stream",
     "text": [
      "[]\n",
      "[]\n"
     ]
    }
   ],
   "source": [
    "tracts = np.unique([ref.dataId['tract'] for ref in nImage_refs])\n",
    "print(tracts)\n",
    "\n",
    "bands = np.unique([ref.dataId['band'] for ref in nImage_refs])\n",
    "print(bands)"
   ]
  },
  {
   "cell_type": "code",
   "execution_count": 8,
   "id": "373df0f7-fdbb-4ecd-8385-fc616353e0cf",
   "metadata": {
    "execution": {
     "iopub.execute_input": "2024-06-27T09:47:16.550202Z",
     "iopub.status.busy": "2024-06-27T09:47:16.550072Z",
     "iopub.status.idle": "2024-06-27T09:47:16.735094Z",
     "shell.execute_reply": "2024-06-27T09:47:16.733258Z",
     "shell.execute_reply.started": "2024-06-27T09:47:16.550190Z"
    }
   },
   "outputs": [
    {
     "ename": "IndexError",
     "evalue": "index 0 is out of bounds for axis 0 with size 0",
     "output_type": "error",
     "traceback": [
      "\u001b[0;31m---------------------------------------------------------------------------\u001b[0m",
      "\u001b[0;31mIndexError\u001b[0m                                Traceback (most recent call last)",
      "Cell \u001b[0;32mIn[8], line 1\u001b[0m\n\u001b[0;32m----> 1\u001b[0m tract_sel \u001b[38;5;241m=\u001b[39m \u001b[43mtracts\u001b[49m\u001b[43m[\u001b[49m\u001b[38;5;241;43m0\u001b[39;49m\u001b[43m]\u001b[49m\n",
      "\u001b[0;31mIndexError\u001b[0m: index 0 is out of bounds for axis 0 with size 0"
     ]
    }
   ],
   "source": [
    "tract_sel = tracts[0]"
   ]
  },
  {
   "cell_type": "code",
   "execution_count": null,
   "id": "7cbd08a9-ba87-404a-abf5-d01700c11346",
   "metadata": {
    "execution": {
     "iopub.status.busy": "2024-06-27T09:47:16.735592Z",
     "iopub.status.idle": "2024-06-27T09:47:16.735764Z",
     "shell.execute_reply": "2024-06-27T09:47:16.735683Z",
     "shell.execute_reply.started": "2024-06-27T09:47:16.735675Z"
    }
   },
   "outputs": [],
   "source": [
    "dict_tract_to_coords_deg = OrderedDict()\n",
    "dict_tract_to_coords_rad = OrderedDict()\n",
    "skymap = butler.get('skyMap', skymap=skymap_name)\n",
    "for tract_sel in tracts:\n",
    "    the_tract = skymap.generateTract(tract_sel)\n",
    "    sp2 = the_tract.getCtrCoord() # get a SpherePoint(278.7804878048781*degrees, -48.34710743801652*degrees)\n",
    "    dict_tract_to_coords_deg[tract_sel] = sp2\n",
    "    dict_tract_to_coords_rad[tract_sel] = dict(ra = sp2[0].asRadians(), dec = sp2[1].asRadians() )"
   ]
  },
  {
   "cell_type": "code",
   "execution_count": null,
   "id": "2e2932db-9bdf-4acf-b585-5bc9f5523a17",
   "metadata": {
    "execution": {
     "iopub.status.busy": "2024-06-27T09:47:16.736311Z",
     "iopub.status.idle": "2024-06-27T09:47:16.736475Z",
     "shell.execute_reply": "2024-06-27T09:47:16.736399Z",
     "shell.execute_reply.started": "2024-06-27T09:47:16.736392Z"
    }
   },
   "outputs": [],
   "source": [
    "#for key, value in dict_tract_To_Coords.items():\n",
    "#    print(key, \"->\", value,  \" <=> (\", value[0].asRadians(),\" , \", value[1].asRadians(), \")\")"
   ]
  },
  {
   "cell_type": "code",
   "execution_count": null,
   "id": "7ef7a700-0d39-4414-8998-53eadfee2406",
   "metadata": {
    "execution": {
     "iopub.status.busy": "2024-06-27T09:47:16.737175Z",
     "iopub.status.idle": "2024-06-27T09:47:16.737356Z",
     "shell.execute_reply": "2024-06-27T09:47:16.737260Z",
     "shell.execute_reply.started": "2024-06-27T09:47:16.737253Z"
    }
   },
   "outputs": [],
   "source": [
    "dict_tract_to_coords_deg "
   ]
  },
  {
   "cell_type": "code",
   "execution_count": null,
   "id": "351b1195-2684-4811-8189-c9fc1fc33f3b",
   "metadata": {
    "execution": {
     "iopub.status.busy": "2024-06-27T09:47:16.737870Z",
     "iopub.status.idle": "2024-06-27T09:47:16.738198Z",
     "shell.execute_reply": "2024-06-27T09:47:16.738113Z",
     "shell.execute_reply.started": "2024-06-27T09:47:16.738098Z"
    }
   },
   "outputs": [],
   "source": [
    "dict_tract_to_coords_rad"
   ]
  },
  {
   "cell_type": "code",
   "execution_count": 11,
   "id": "dd950f13-7ae0-42d1-ac1d-178211e801a6",
   "metadata": {
    "execution": {
     "iopub.execute_input": "2024-06-27T09:49:25.593156Z",
     "iopub.status.busy": "2024-06-27T09:49:25.592858Z",
     "iopub.status.idle": "2024-06-27T09:49:25.596349Z",
     "shell.execute_reply": "2024-06-27T09:49:25.595931Z",
     "shell.execute_reply.started": "2024-06-27T09:49:25.593142Z"
    }
   },
   "outputs": [],
   "source": [
    "# Check which tracts actually have a lot of visit coverage:\n",
    "dict_tract_to_coords_andvisits = OrderedDict()\n",
    "for tract_sel in tracts:\n",
    "    visits = list(butler.registry.queryDatasets('visitSummary', tract=tract_sel, skymap=skymap_name, findFirst=True))\n",
    "    Nvis = len(visits)\n",
    "    dict_tract_to_coords_andvisits[tract_sel] = dict(ra_deg=dict_tract_to_coords_deg[tract_sel][0], dec_deg =dict_tract_to_coords_deg[tract_sel][1] , \n",
    "                                                     ra_rad = dict_tract_to_coords_rad[tract_sel][\"ra\"], dec_rad = dict_tract_to_coords_rad[tract_sel][\"dec\"],nvis=Nvis)\n",
    "    "
   ]
  },
  {
   "cell_type": "code",
   "execution_count": null,
   "id": "8b804043-750f-454a-9b92-d8b39eef25bd",
   "metadata": {
    "execution": {
     "iopub.status.busy": "2024-06-27T09:47:16.739398Z",
     "iopub.status.idle": "2024-06-27T09:47:16.739617Z",
     "shell.execute_reply": "2024-06-27T09:47:16.739532Z",
     "shell.execute_reply.started": "2024-06-27T09:47:16.739522Z"
    }
   },
   "outputs": [],
   "source": [
    "dict_tract_to_coords_andvisits"
   ]
  },
  {
   "cell_type": "markdown",
   "id": "4c49d010-5866-4c64-8039-95ab3c00ac6c",
   "metadata": {},
   "source": [
    "## visitSummary"
   ]
  },
  {
   "cell_type": "code",
   "execution_count": 9,
   "id": "fddc94a1-df96-41d3-9c91-364155854e61",
   "metadata": {
    "execution": {
     "iopub.execute_input": "2024-06-27T09:47:54.918258Z",
     "iopub.status.busy": "2024-06-27T09:47:54.917741Z",
     "iopub.status.idle": "2024-06-27T09:48:19.857288Z",
     "shell.execute_reply": "2024-06-27T09:48:19.856705Z",
     "shell.execute_reply.started": "2024-06-27T09:47:54.918244Z"
    }
   },
   "outputs": [
    {
     "name": "stdout",
     "output_type": "stream",
     "text": [
      "======================== datasetType = visitSummary ============================================\n",
      "fullId..................: {instrument: 'LSSTComCamSim', visit: 7024061800022, band: 'g', day_obs: 20240618, physical_filter: 'g_01'}\n"
     ]
    },
    {
     "name": "stderr",
     "output_type": "stream",
     "text": [
      "/tmp/ipykernel_13215/39041405.py:11: FutureWarning: Call to deprecated function (or staticmethod) full. (DataCoordinate.full is deprecated in favor of .mapping, and will be dropped after v27.) -- Deprecated since version v27.\n",
      "  print(\"fullId..................:\",ref.dataId.full)\n"
     ]
    },
    {
     "name": "stdout",
     "output_type": "stream",
     "text": [
      "======================== datasetType = visitSummary ============================================\n",
      "fullId..................: {instrument: 'LSSTComCamSim', visit: 7024062500201, band: 'i', day_obs: 20240625, physical_filter: 'i_06'}\n"
     ]
    },
    {
     "name": "stderr",
     "output_type": "stream",
     "text": [
      "/tmp/ipykernel_13215/39041405.py:11: FutureWarning: Call to deprecated function (or staticmethod) full. (DataCoordinate.full is deprecated in favor of .mapping, and will be dropped after v27.) -- Deprecated since version v27.\n",
      "  print(\"fullId..................:\",ref.dataId.full)\n"
     ]
    },
    {
     "name": "stdout",
     "output_type": "stream",
     "text": [
      "======================== datasetType = visitSummary ============================================\n",
      "fullId..................: {instrument: 'LSSTComCamSim', visit: 7024062500301, band: 'i', day_obs: 20240625, physical_filter: 'i_06'}\n",
      "======================== datasetType = visitSummary ============================================\n",
      "fullId..................: {instrument: 'LSSTComCamSim', visit: 7024062500404, band: 'g', day_obs: 20240625, physical_filter: 'g_01'}\n",
      "======================== datasetType = visitSummary ============================================\n",
      "fullId..................: {instrument: 'LSSTComCamSim', visit: 7024062500501, band: 'r', day_obs: 20240625, physical_filter: 'r_03'}\n",
      "======================== datasetType = visitSummary ============================================\n",
      "fullId..................: {instrument: 'LSSTComCamSim', visit: 7024062500607, band: 'i', day_obs: 20240625, physical_filter: 'i_06'}\n",
      "======================== datasetType = visitSummary ============================================\n",
      "fullId..................: {instrument: 'LSSTComCamSim', visit: 7024062500709, band: 'i', day_obs: 20240625, physical_filter: 'i_06'}\n",
      "======================== datasetType = visitSummary ============================================\n",
      "fullId..................: {instrument: 'LSSTComCamSim', visit: 7024062500817, band: 'i', day_obs: 20240625, physical_filter: 'i_06'}\n",
      "======================== datasetType = visitSummary ============================================\n",
      "fullId..................: {instrument: 'LSSTComCamSim', visit: 7024062600163, band: 'g', day_obs: 20240626, physical_filter: 'g_01'}\n",
      "======================== datasetType = visitSummary ============================================\n",
      "fullId..................: {instrument: 'LSSTComCamSim', visit: 7024062600301, band: 'i', day_obs: 20240626, physical_filter: 'i_06'}\n",
      "======================== datasetType = visitSummary ============================================\n",
      "fullId..................: {instrument: 'LSSTComCamSim', visit: 7024062600420, band: 'r', day_obs: 20240626, physical_filter: 'r_03'}\n",
      "======================== datasetType = visitSummary ============================================\n",
      "fullId..................: {instrument: 'LSSTComCamSim', visit: 7024062600556, band: 'r', day_obs: 20240626, physical_filter: 'r_03'}\n",
      "======================== datasetType = visitSummary ============================================\n",
      "fullId..................: {instrument: 'LSSTComCamSim', visit: 7024062600663, band: 'i', day_obs: 20240626, physical_filter: 'i_06'}\n"
     ]
    },
    {
     "ename": "NameError",
     "evalue": "name 'visitSummary' is not defined",
     "output_type": "error",
     "traceback": [
      "\u001b[0;31m---------------------------------------------------------------------------\u001b[0m",
      "\u001b[0;31mNameError\u001b[0m                                 Traceback (most recent call last)",
      "Cell \u001b[0;32mIn[9], line 22\u001b[0m\n\u001b[1;32m     19\u001b[0m         \u001b[38;5;28mprint\u001b[39m(inst)         \n\u001b[1;32m     21\u001b[0m N \u001b[38;5;241m=\u001b[39m \u001b[38;5;28mlen\u001b[39m(all_data)\n\u001b[0;32m---> 22\u001b[0m \u001b[38;5;28mprint\u001b[39m(\u001b[38;5;124mf\u001b[39m\u001b[38;5;124m\"\u001b[39m\u001b[38;5;132;01m{\u001b[39;00m\u001b[43mvisitSummary\u001b[49m\u001b[38;5;132;01m}\u001b[39;00m\u001b[38;5;124m :: N = \u001b[39m\u001b[38;5;132;01m{\u001b[39;00mN\u001b[38;5;132;01m}\u001b[39;00m\u001b[38;5;124m\"\u001b[39m)\n",
      "\u001b[0;31mNameError\u001b[0m: name 'visitSummary' is not defined"
     ]
    }
   ],
   "source": [
    "if 1:\n",
    "\n",
    "    all_data = []\n",
    "    data_product = 'visitSummary'\n",
    "\n",
    "    #datasetRefs = butler.registry.queryDatasets(datasetType=data_product, collections=collections, where= \"instrument='LSSTComCamSim'\")\n",
    "    datasetRefs = butler.registry.queryDatasets(datasetType=data_product, collections=collections, where = where_clause)\n",
    "    for i, ref in enumerate(datasetRefs):\n",
    "        if (i % 100 == 0):\n",
    "            print(f\"======================== datasetType = {data_product} ============================================\")\n",
    "            print(\"fullId..................:\",ref.dataId.full)\n",
    "        try:\n",
    "            data = butler.get(data_product, dataId=ref.dataId )  \n",
    "            all_data.append(data)\n",
    "       \n",
    "        except Exception as inst:\n",
    "            print(type(inst))    # the exception type\n",
    "            print(inst.args)     # arguments stored in .args\n",
    "            print(inst)         \n",
    "\n",
    "    N = len(all_data)\n",
    "    print(f\"{visitSummary} :: N = {N}\")"
   ]
  },
  {
   "cell_type": "markdown",
   "id": "63965e30-7998-4682-8c73-c0f58b0928d0",
   "metadata": {},
   "source": [
    "### CCD VisitTable"
   ]
  },
  {
   "cell_type": "code",
   "execution_count": 10,
   "id": "aa2d60bf-678f-45f0-8939-7ba79ef8a72d",
   "metadata": {
    "execution": {
     "iopub.execute_input": "2024-06-27T09:48:38.254927Z",
     "iopub.status.busy": "2024-06-27T09:48:38.254615Z",
     "iopub.status.idle": "2024-06-27T09:48:38.267466Z",
     "shell.execute_reply": "2024-06-27T09:48:38.267044Z",
     "shell.execute_reply.started": "2024-06-27T09:48:38.254913Z"
    }
   },
   "outputs": [
    {
     "data": {
      "text/plain": [
       "[]"
      ]
     },
     "execution_count": 10,
     "metadata": {},
     "output_type": "execute_result"
    }
   ],
   "source": [
    "list(butler.registry.queryDatasets('ccdVisitTable'))"
   ]
  },
  {
   "cell_type": "code",
   "execution_count": null,
   "id": "441f4b9a-2270-43fb-9c31-846030c65128",
   "metadata": {
    "execution": {
     "iopub.status.busy": "2024-06-27T09:47:16.741447Z",
     "iopub.status.idle": "2024-06-27T09:47:16.741596Z",
     "shell.execute_reply": "2024-06-27T09:47:16.741526Z",
     "shell.execute_reply.started": "2024-06-27T09:47:16.741519Z"
    }
   },
   "outputs": [],
   "source": [
    "ccdVisitTable = butler.get('ccdVisitTable')"
   ]
  },
  {
   "cell_type": "code",
   "execution_count": null,
   "id": "c193b7fb-1a98-4b08-be70-a53d6b6a4f4d",
   "metadata": {
    "execution": {
     "iopub.status.busy": "2024-06-27T09:47:16.742177Z",
     "iopub.status.idle": "2024-06-27T09:47:16.742332Z",
     "shell.execute_reply": "2024-06-27T09:47:16.742257Z",
     "shell.execute_reply.started": "2024-06-27T09:47:16.742250Z"
    }
   },
   "outputs": [],
   "source": [
    "ccdVisitTable.columns"
   ]
  },
  {
   "cell_type": "code",
   "execution_count": null,
   "id": "7d646d54-2973-4512-a15d-fc9e6e517ca8",
   "metadata": {
    "execution": {
     "iopub.status.busy": "2024-06-27T09:47:16.742980Z",
     "iopub.status.idle": "2024-06-27T09:47:16.743144Z",
     "shell.execute_reply": "2024-06-27T09:47:16.743062Z",
     "shell.execute_reply.started": "2024-06-27T09:47:16.743055Z"
    }
   },
   "outputs": [],
   "source": [
    "# https://pipelines.lsst.io/modules/lsst.geom/getting-started.html\n",
    "func_degToRad = lambda x : Angle(x,lsst.geom.degrees).asRadians()\n",
    "func_zendtoAirmass = lambda x : 1./np.cos(func_degToRad(x))\n",
    "#func_wrap = lambda x : Angle(x,lsst.geom.radians).wrap(180.*lsst.geom.degrees)"
   ]
  },
  {
   "cell_type": "code",
   "execution_count": null,
   "id": "a17ecbbe-e09a-412e-b07f-010bbacf8d50",
   "metadata": {
    "execution": {
     "iopub.status.busy": "2024-06-27T09:47:16.743578Z",
     "iopub.status.idle": "2024-06-27T09:47:16.743868Z",
     "shell.execute_reply": "2024-06-27T09:47:16.743786Z",
     "shell.execute_reply.started": "2024-06-27T09:47:16.743778Z"
    }
   },
   "outputs": [],
   "source": [
    "ccdVisitTable[\"airmass\"] = ccdVisitTable['zenithDistance'].apply(func_zendtoAirmass)"
   ]
  },
  {
   "cell_type": "code",
   "execution_count": null,
   "id": "39f2c014-0095-4276-b8f2-fb7452025844",
   "metadata": {
    "execution": {
     "iopub.status.busy": "2024-06-27T09:47:16.744300Z",
     "iopub.status.idle": "2024-06-27T09:47:16.744447Z",
     "shell.execute_reply": "2024-06-27T09:47:16.744378Z",
     "shell.execute_reply.started": "2024-06-27T09:47:16.744371Z"
    }
   },
   "outputs": [],
   "source": [
    "f2c = {'u': 'blue', 'g': 'green', 'r': 'red',\n",
    "       'i': 'orange', 'z': 'grey', 'y': 'k'}\n",
    "\n",
    "plt.figure(dpi=200)\n",
    "for bandname in f2c:\n",
    "    in_band = ccdVisitTable['band'] == bandname\n",
    "    if np.sum(in_band) > 0:\n",
    "        plt.plot(ccdVisitTable['zenithDistance'][in_band], ccdVisitTable['zeroPoint'][in_band], \n",
    "                 'o', markersize=1, color=f2c[bandname], label=bandname)\n",
    "plt.legend()\n",
    "plt.xlabel('zenithDistance')\n",
    "plt.ylabel('zeroPoint')"
   ]
  },
  {
   "cell_type": "code",
   "execution_count": null,
   "id": "56eed3c0-75a4-4360-b6d4-8a76c8472b1d",
   "metadata": {
    "execution": {
     "iopub.status.busy": "2024-06-27T09:47:16.744772Z",
     "iopub.status.idle": "2024-06-27T09:47:16.744914Z",
     "shell.execute_reply": "2024-06-27T09:47:16.744848Z",
     "shell.execute_reply.started": "2024-06-27T09:47:16.744841Z"
    }
   },
   "outputs": [],
   "source": [
    "f2c = {'u': 'blue', 'g': 'green', 'r': 'red',\n",
    "       'i': 'orange', 'z': 'grey', 'y': 'k'}\n",
    "\n",
    "plt.figure(dpi=200)\n",
    "for bandname in f2c:\n",
    "    in_band = ccdVisitTable['band'] == bandname\n",
    "    if np.sum(in_band) > 0:\n",
    "        plt.plot(ccdVisitTable['airmass'][in_band], ccdVisitTable['zeroPoint'][in_band], \n",
    "                 'o', markersize=1, color=f2c[bandname], label=bandname)\n",
    "plt.legend()\n",
    "plt.xlabel('airmass')\n",
    "plt.ylabel('zeroPoint')"
   ]
  },
  {
   "cell_type": "code",
   "execution_count": null,
   "id": "b4f62b2a-e1bb-4f33-b838-af416e644831",
   "metadata": {
    "execution": {
     "iopub.status.busy": "2024-06-27T09:47:16.745606Z",
     "iopub.status.idle": "2024-06-27T09:47:16.745763Z",
     "shell.execute_reply": "2024-06-27T09:47:16.745685Z",
     "shell.execute_reply.started": "2024-06-27T09:47:16.745678Z"
    }
   },
   "outputs": [],
   "source": [
    "f2c = {'u': 'blue', 'g': 'green', 'r': 'red',\n",
    "       'i': 'orange', 'z': 'grey', 'y': 'k'}\n",
    "\n",
    "plt.figure(dpi=200)\n",
    "for bandname in f2c:\n",
    "    in_band = ccdVisitTable['band'] == bandname\n",
    "    if np.sum(in_band) > 0:\n",
    "        plt.plot(ccdVisitTable['airmass'][in_band], ccdVisitTable['psfSigma'][in_band], \n",
    "                 'o', markersize=1, color=f2c[bandname], label=bandname)\n",
    "plt.legend()\n",
    "plt.xlabel('airmass')\n",
    "plt.ylabel('psfSigma')"
   ]
  },
  {
   "cell_type": "code",
   "execution_count": null,
   "id": "88e95e14-4f95-4866-ba3f-54358c4a73dd",
   "metadata": {
    "execution": {
     "iopub.status.busy": "2024-06-27T09:47:16.746385Z",
     "iopub.status.idle": "2024-06-27T09:47:16.746579Z",
     "shell.execute_reply": "2024-06-27T09:47:16.746499Z",
     "shell.execute_reply.started": "2024-06-27T09:47:16.746491Z"
    }
   },
   "outputs": [],
   "source": [
    "f2c = {'u': 'blue', 'g': 'green', 'r': 'red',\n",
    "       'i': 'orange', 'z': 'grey', 'y': 'k'}\n",
    "\n",
    "plt.figure(dpi=200)\n",
    "for bandname in f2c:\n",
    "    in_band = ccdVisitTable['band'] == bandname\n",
    "    if np.sum(in_band) > 0:\n",
    "        plt.plot(ccdVisitTable['airmass'][in_band], ccdVisitTable['seeing'][in_band], \n",
    "                 'o', markersize=1, color=f2c[bandname], label=bandname)\n",
    "plt.legend()\n",
    "plt.xlabel('airmass')\n",
    "plt.ylabel('seeing')"
   ]
  },
  {
   "cell_type": "code",
   "execution_count": null,
   "id": "fce2c79b-edcf-4ab9-ba74-05426aa3c4a3",
   "metadata": {
    "execution": {
     "iopub.status.busy": "2024-06-27T09:47:16.747071Z",
     "iopub.status.idle": "2024-06-27T09:47:16.747232Z",
     "shell.execute_reply": "2024-06-27T09:47:16.747160Z",
     "shell.execute_reply.started": "2024-06-27T09:47:16.747154Z"
    }
   },
   "outputs": [],
   "source": [
    "ccdvisit_subset = ccdVisitTable[['visitId', 'band', 'ra', 'dec','detector','zenithDistance','obsStartMJD']]"
   ]
  },
  {
   "cell_type": "code",
   "execution_count": null,
   "id": "7537c14b-36b7-4702-8dae-d784a4c9491e",
   "metadata": {
    "execution": {
     "iopub.status.busy": "2024-06-27T09:47:16.747877Z",
     "iopub.status.idle": "2024-06-27T09:47:16.748046Z",
     "shell.execute_reply": "2024-06-27T09:47:16.747965Z",
     "shell.execute_reply.started": "2024-06-27T09:47:16.747958Z"
    }
   },
   "outputs": [],
   "source": [
    "ccdvisit_subset "
   ]
  },
  {
   "cell_type": "code",
   "execution_count": null,
   "id": "5d7a81c9-2b1e-4815-b0f5-d17e28eb4cd6",
   "metadata": {
    "execution": {
     "iopub.status.busy": "2024-06-27T09:47:16.748358Z",
     "iopub.status.idle": "2024-06-27T09:47:16.748521Z",
     "shell.execute_reply": "2024-06-27T09:47:16.748432Z",
     "shell.execute_reply.started": "2024-06-27T09:47:16.748426Z"
    }
   },
   "outputs": [],
   "source": [
    "# https://pipelines.lsst.io/modules/lsst.geom/getting-started.html\n",
    "func_degToRad = lambda x : Angle(x,lsst.geom.degrees).asRadians()\n",
    "func_zendtoAirmass = lambda x : 1./np.cos(func_degToRad(x))\n",
    "#func_wrap = lambda x : Angle(x,lsst.geom.radians).wrap(180.*lsst.geom.degrees)"
   ]
  },
  {
   "cell_type": "code",
   "execution_count": null,
   "id": "598f8fd1-eafe-478c-b65f-1a9d97387530",
   "metadata": {
    "execution": {
     "iopub.status.busy": "2024-06-27T09:47:16.749210Z",
     "iopub.status.idle": "2024-06-27T09:47:16.749377Z",
     "shell.execute_reply": "2024-06-27T09:47:16.749292Z",
     "shell.execute_reply.started": "2024-06-27T09:47:16.749286Z"
    }
   },
   "outputs": [],
   "source": [
    "ccdvisit_subset[\"zenithDistance_rad\"]= ccdvisit_subset[\"zenithDistance\"].apply(func_degToRad)\n",
    "ccdvisit_subset[\"airmass\"]= ccdvisit_subset[\"zenithDistance\"].apply(func_zendtoAirmass)"
   ]
  },
  {
   "cell_type": "code",
   "execution_count": null,
   "id": "755b8180-8acf-44e8-9e1e-8233110bf727",
   "metadata": {
    "execution": {
     "iopub.status.busy": "2024-06-27T09:47:16.749701Z",
     "iopub.status.idle": "2024-06-27T09:47:16.749843Z",
     "shell.execute_reply": "2024-06-27T09:47:16.749777Z",
     "shell.execute_reply.started": "2024-06-27T09:47:16.749770Z"
    }
   },
   "outputs": [],
   "source": [
    "ccdvisit_subset"
   ]
  },
  {
   "cell_type": "code",
   "execution_count": null,
   "id": "2beb5941-ea57-41c5-abb0-59fe8fd26e79",
   "metadata": {
    "execution": {
     "iopub.status.busy": "2024-06-27T09:47:16.750314Z",
     "iopub.status.idle": "2024-06-27T09:47:16.750466Z",
     "shell.execute_reply": "2024-06-27T09:47:16.750391Z",
     "shell.execute_reply.started": "2024-06-27T09:47:16.750385Z"
    }
   },
   "outputs": [],
   "source": [
    "#ccdvisit_subset_u = ccdvisit_subset[ccdvisit_subset.band == 'u']\n",
    "ccdvisit_subset_g = ccdvisit_subset[ccdvisit_subset.band == 'g']\n",
    "ccdvisit_subset_r = ccdvisit_subset[ccdvisit_subset.band == 'r']\n",
    "ccdvisit_subset_i = ccdvisit_subset[ccdvisit_subset.band == 'i']\n",
    "#ccdvisit_subset_z = ccdvisit_subset[ccdvisit_subset.band == 'z']\n",
    "#ccdvisit_subset_y = ccdvisit_subset[ccdvisit_subset.band == 'y']\n",
    "Ng = len(ccdvisit_subset_g)\n",
    "Nr = len(ccdvisit_subset_r)\n",
    "Ni = len(ccdvisit_subset_i)\n",
    "print(Ng,Nr,Ni)"
   ]
  },
  {
   "cell_type": "code",
   "execution_count": null,
   "id": "12fa2bb3-1d4b-4ed9-b389-bcb7661cf02a",
   "metadata": {
    "execution": {
     "iopub.status.busy": "2024-06-27T09:47:16.751031Z",
     "iopub.status.idle": "2024-06-27T09:47:16.751190Z",
     "shell.execute_reply": "2024-06-27T09:47:16.751115Z",
     "shell.execute_reply.started": "2024-06-27T09:47:16.751101Z"
    }
   },
   "outputs": [],
   "source": [
    "sns.color_palette(\"Spectral\", as_cmap=True)"
   ]
  },
  {
   "cell_type": "code",
   "execution_count": null,
   "id": "9f0a5865-4a81-484b-9a68-9a72fb258ecb",
   "metadata": {
    "execution": {
     "iopub.status.busy": "2024-06-27T09:47:16.751634Z",
     "iopub.status.idle": "2024-06-27T09:47:16.751784Z",
     "shell.execute_reply": "2024-06-27T09:47:16.751713Z",
     "shell.execute_reply.started": "2024-06-27T09:47:16.751706Z"
    }
   },
   "outputs": [],
   "source": [
    "cmap_g = ListedColormap(sns.color_palette(\"Spectral\", Ng))\n",
    "cmap_r = ListedColormap(sns.color_palette(\"Spectral\", Nr))\n",
    "cmap_i = ListedColormap(sns.color_palette(\"Spectral\", Ni))\n",
    "\n",
    "#patch_to_color[patch] = cmap.colors[idx]"
   ]
  },
  {
   "cell_type": "code",
   "execution_count": null,
   "id": "8585b7eb-9d6b-4b5b-bb78-dafd6f6e8eac",
   "metadata": {
    "execution": {
     "iopub.status.busy": "2024-06-27T09:47:16.752214Z",
     "iopub.status.idle": "2024-06-27T09:47:16.752358Z",
     "shell.execute_reply": "2024-06-27T09:47:16.752290Z",
     "shell.execute_reply.started": "2024-06-27T09:47:16.752284Z"
    }
   },
   "outputs": [],
   "source": [
    "all_colors_g = [cmap_g.colors[idx] for idx in range(Ng)]\n",
    "all_colors_r = [cmap_r.colors[idx] for idx in range(Nr)]\n",
    "all_colors_i = [cmap_i.colors[idx] for idx in range(Ni)]"
   ]
  },
  {
   "cell_type": "code",
   "execution_count": null,
   "id": "9402d2a3-c324-4299-913f-8a793c386e14",
   "metadata": {
    "execution": {
     "iopub.status.busy": "2024-06-27T09:47:16.752752Z",
     "iopub.status.idle": "2024-06-27T09:47:16.752892Z",
     "shell.execute_reply": "2024-06-27T09:47:16.752827Z",
     "shell.execute_reply.started": "2024-06-27T09:47:16.752820Z"
    }
   },
   "outputs": [],
   "source": [
    "ra_g = ccdvisit_subset_g['ra'].apply(func_degToRad) \n",
    "dec_g = ccdvisit_subset_g['dec'].apply(func_degToRad) "
   ]
  },
  {
   "cell_type": "code",
   "execution_count": null,
   "id": "6b90721b-4d07-4b9b-888a-0416fc5eb34a",
   "metadata": {
    "execution": {
     "iopub.status.busy": "2024-06-27T09:47:16.753458Z",
     "iopub.status.idle": "2024-06-27T09:47:16.753603Z",
     "shell.execute_reply": "2024-06-27T09:47:16.753535Z",
     "shell.execute_reply.started": "2024-06-27T09:47:16.753528Z"
    }
   },
   "outputs": [],
   "source": [
    "# Galactic plane\n",
    "gal_long = np.linspace(-180.,180,360)\n",
    "gal_lat = np.zeros((360))\n",
    "coordinates_galactic_planes = SkyCoord(l=gal_long*u.degree, b=gal_lat*u.degree, frame='galactic')\n",
    "gp_radec = coordinates_galactic_planes.transform_to('icrs')  \n",
    "# for galactic plane\n",
    "# gp_radec.ra : 0., 360.\n",
    "# gp_radec.dec : -90, 90\n",
    "gp_ra_toplot = coordinates.Angle(gp_radec.ra.degree*u.degree)\n",
    "gp_ra_toplot = gp_ra_toplot.wrap_at(180*u.degree)\n",
    "# gp_ra_toplot -180, 180\n",
    "#wrapping angle : https://docs.astropy.org/en/stable/api/astropy.coordinates.Angle.html"
   ]
  },
  {
   "cell_type": "code",
   "execution_count": null,
   "id": "90a3e277-2d31-4bb2-922d-364f368d51ff",
   "metadata": {
    "execution": {
     "iopub.status.busy": "2024-06-27T09:47:16.754255Z",
     "iopub.status.idle": "2024-06-27T09:47:16.754405Z",
     "shell.execute_reply": "2024-06-27T09:47:16.754334Z",
     "shell.execute_reply.started": "2024-06-27T09:47:16.754327Z"
    }
   },
   "outputs": [],
   "source": [
    "fig,ax = plt.subplots(1,1,figsize=(12,4),dpi=200)\n",
    "#ax.scatter(ccdvisit_subset_g[\"obsStartMJD\"].values,ccdvisit_subset_g[\"ra\"].values ,c=all_colors_g)\n",
    "ccdvisit_subset_g.plot.scatter(x=\"obsStartMJD\",y=\"ra\",marker=\"o\",c=all_colors_g,ax=ax,label=\"G\")\n",
    "ccdvisit_subset_r.plot.scatter(x=\"obsStartMJD\",y=\"ra\",marker=\"^\",c=all_colors_r,ax=ax,label=\"R\")\n",
    "ccdvisit_subset_i.plot.scatter(x=\"obsStartMJD\",y=\"ra\",marker=\"v\",c=all_colors_i,ax=ax,label=\"I\")\n",
    "ax.grid()"
   ]
  },
  {
   "cell_type": "code",
   "execution_count": null,
   "id": "e14411e6-2d14-48af-8893-628030364f4a",
   "metadata": {
    "execution": {
     "iopub.status.busy": "2024-06-27T09:47:16.754776Z",
     "iopub.status.idle": "2024-06-27T09:47:16.754918Z",
     "shell.execute_reply": "2024-06-27T09:47:16.754851Z",
     "shell.execute_reply.started": "2024-06-27T09:47:16.754845Z"
    }
   },
   "outputs": [],
   "source": [
    "fig,ax = plt.subplots(1,1,figsize=(12,4),dpi=200)\n",
    "#ax.scatter(ccdvisit_subset_g[\"obsStartMJD\"].values,ccdvisit_subset_g[\"ra\"].values ,c=all_colors_g)\n",
    "ccdvisit_subset_g.plot.scatter(x=\"obsStartMJD\",y=\"dec\",marker=\"o\",c=all_colors_g,ax=ax,label=\"G\")\n",
    "ccdvisit_subset_r.plot.scatter(x=\"obsStartMJD\",y=\"dec\",marker=\"^\",c=all_colors_r,ax=ax,label=\"R\")\n",
    "ccdvisit_subset_i.plot.scatter(x=\"obsStartMJD\",y=\"dec\",marker=\"v\",c=all_colors_i,ax=ax,label=\"I\")\n",
    "ax.grid()"
   ]
  },
  {
   "cell_type": "code",
   "execution_count": null,
   "id": "3aa3a181-8dfd-4a8c-82a0-38cf6df211fe",
   "metadata": {
    "execution": {
     "iopub.status.busy": "2024-06-27T09:47:16.755519Z",
     "iopub.status.idle": "2024-06-27T09:47:16.755668Z",
     "shell.execute_reply": "2024-06-27T09:47:16.755596Z",
     "shell.execute_reply.started": "2024-06-27T09:47:16.755589Z"
    }
   },
   "outputs": [],
   "source": [
    "dict_tract_to_coords_rad"
   ]
  },
  {
   "cell_type": "code",
   "execution_count": null,
   "id": "a244c484-e403-4b1a-b179-9949ca888ded",
   "metadata": {
    "execution": {
     "iopub.status.busy": "2024-06-27T09:47:16.756065Z",
     "iopub.status.idle": "2024-06-27T09:47:16.756230Z",
     "shell.execute_reply": "2024-06-27T09:47:16.756152Z",
     "shell.execute_reply.started": "2024-06-27T09:47:16.756143Z"
    }
   },
   "outputs": [],
   "source": [
    "# plot\n",
    "# x arg in rad must be (-2pi,2pi), y arg in rad  must be in ( -pi,pi )\n",
    "fig = plt.figure(figsize=(12,6),dpi=200)\n",
    "#ax = fig.add_subplot(111, projection=\"aitoff\")\n",
    "ax = fig.add_subplot(111, projection=\"mollweide\")\n",
    "ax.scatter(gp_ra_toplot.radian, gp_radec.dec.radian,c=\"r\",label=\"Galactic Plane\",s=1)\n",
    "ax.scatter(ra_g.values-np.pi,dec_g.values,marker='+',c=all_colors_g)\n",
    "ax.legend()\n",
    "ax.grid()\n",
    "\n",
    "index=0\n",
    "for key, value in dict_tract_to_coords_rad.items():\n",
    "    tract_num_str= str(key)\n",
    "    x = value[\"ra\"] - np.pi\n",
    "    y = value[\"dec\"] \n",
    "    \n",
    "    if index%2 == 0:\n",
    "        dy= -Angle(3,lsst.geom.degrees).asRadians()\n",
    "        dx= -Angle(3,lsst.geom.degrees).asRadians()\n",
    "    else:\n",
    "        dy= Angle(3,lsst.geom.degrees).asRadians()\n",
    "        dx= Angle(3,lsst.geom.degrees).asRadians()\n",
    "        \n",
    "    ax.text(x+dx, y+dy, tract_num_str, fontsize=8,color=\"b\")\n",
    "    index+=1\n",
    "\n",
    "plt.suptitle(instrument)"
   ]
  },
  {
   "cell_type": "code",
   "execution_count": null,
   "id": "6d5863cb-f53d-42be-bbda-2fef8dad3bbd",
   "metadata": {
    "execution": {
     "iopub.status.busy": "2024-06-27T09:47:16.756913Z",
     "iopub.status.idle": "2024-06-27T09:47:16.757062Z",
     "shell.execute_reply": "2024-06-27T09:47:16.756991Z",
     "shell.execute_reply.started": "2024-06-27T09:47:16.756985Z"
    }
   },
   "outputs": [],
   "source": [
    "# plot\n",
    "# x arg in rad must be (-2pi,2pi), y arg in rad  must be in ( -pi,pi )\n",
    "fig = plt.figure(figsize=(12,6),dpi=200)\n",
    "#ax = fig.add_subplot(111, projection=\"aitoff\")\n",
    "ax = fig.add_subplot(111)\n",
    "ax.scatter(gp_ra_toplot.degree, gp_radec.dec.degree,c=\"r\",label=\"Galactic Plane\",s=1)\n",
    "ax.scatter(ccdvisit_subset_g['ra'].values -180.,ccdvisit_subset_g['dec'].values,marker='+',c=all_colors_g)\n",
    "ax.legend()\n",
    "ax.grid()\n",
    "\n",
    "index=0\n",
    "for key, value in dict_tract_to_coords_andvisits.items():\n",
    "    \n",
    "    tract_num_str= str(key)\n",
    "    x = value['ra_deg'].asDegrees() - 180\n",
    "    y = value[\"dec_deg\"].asDegrees() \n",
    "    \n",
    "    if index%2 == 0:\n",
    "        dy= -5\n",
    "        dx= -5\n",
    "    else:\n",
    "        dy= 5\n",
    "        dx= 5\n",
    "        \n",
    "    ax.text(x+dx, y+dy, tract_num_str, fontsize=8,color=\"b\")\n",
    "    index+=1\n",
    "\n",
    "plt.suptitle(instrument)"
   ]
  },
  {
   "cell_type": "markdown",
   "id": "fa6beb89-050b-43fa-b5e4-8060326e5097",
   "metadata": {},
   "source": [
    "## sourceTable_visit"
   ]
  },
  {
   "cell_type": "code",
   "execution_count": null,
   "id": "7c401a3d-1f6f-4af9-813a-617eb2aeff0d",
   "metadata": {
    "execution": {
     "iopub.status.busy": "2024-06-27T09:47:16.757583Z",
     "iopub.status.idle": "2024-06-27T09:47:16.757732Z",
     "shell.execute_reply": "2024-06-27T09:47:16.757661Z",
     "shell.execute_reply.started": "2024-06-27T09:47:16.757654Z"
    }
   },
   "outputs": [],
   "source": [
    "if 0:\n",
    "    all_data = []\n",
    "    data_product = 'sourceTable_visit'\n",
    "    datasetRefs = butler.registry.queryDatasets(datasetType=data_product, collections=collections, where= \"instrument='LSSTComCamSim'\")\n",
    "    for i, ref in enumerate(datasetRefs):\n",
    "        if (i % 500 == 0):\n",
    "            print(f\"======================== datasetType = {data_product} ============================================\")\n",
    "            print(\"fullId..................:\",ref.dataId.full)\n",
    "        try:\n",
    "            data = butler.get(data_product, dataId=ref.dataId )  \n",
    "            all_data.append(data)\n",
    "       \n",
    "        except Exception as inst:\n",
    "            print(type(inst))    # the exception type\n",
    "            print(inst.args)     # arguments stored in .args\n",
    "            print(inst)       \n",
    "\n",
    "    df = pd.concat(all_data)\n",
    "    filename = f\"out-{data_product}.csv\" \n",
    "    df.to_csv(filename)"
   ]
  },
  {
   "cell_type": "markdown",
   "id": "c9754379-bfff-45eb-b3d7-5c8b20d9912f",
   "metadata": {},
   "source": [
    "## How do I access an object table?"
   ]
  },
  {
   "cell_type": "code",
   "execution_count": null,
   "id": "34b85f49-f25c-4307-85db-364c3f14a28c",
   "metadata": {
    "execution": {
     "iopub.status.busy": "2024-06-27T09:47:16.758268Z",
     "iopub.status.idle": "2024-06-27T09:47:16.758419Z",
     "shell.execute_reply": "2024-06-27T09:47:16.758348Z",
     "shell.execute_reply.started": "2024-06-27T09:47:16.758341Z"
    }
   },
   "outputs": [],
   "source": [
    "objectTable_refs = sorted(butler.registry.queryDatasets('objectTable_tract'))\n",
    "N = len(objectTable_refs)\n",
    "objectTable = butler.get(objectTable_refs[0])\n",
    "objectTable[['coord_ra','coord_dec','tract','patch']]"
   ]
  },
  {
   "cell_type": "code",
   "execution_count": null,
   "id": "c76b74a3-9665-4f85-b0e8-87d48b2baa5f",
   "metadata": {
    "execution": {
     "iopub.status.busy": "2024-06-27T09:47:16.758724Z",
     "iopub.status.idle": "2024-06-27T09:47:16.758862Z",
     "shell.execute_reply": "2024-06-27T09:47:16.758798Z",
     "shell.execute_reply.started": "2024-06-27T09:47:16.758792Z"
    }
   },
   "outputs": [],
   "source": [
    "objectTable[['tract','patch']].groupby([\"tract\",\"patch\"]).size()"
   ]
  },
  {
   "cell_type": "code",
   "execution_count": null,
   "id": "16fda130-ac3d-4fce-a438-08e30d2d2708",
   "metadata": {
    "execution": {
     "iopub.status.busy": "2024-06-27T09:47:16.759489Z",
     "iopub.status.idle": "2024-06-27T09:47:16.759635Z",
     "shell.execute_reply": "2024-06-27T09:47:16.759568Z",
     "shell.execute_reply.started": "2024-06-27T09:47:16.759561Z"
    }
   },
   "outputs": [],
   "source": [
    "patches = objectTable[\"patch\"].unique()"
   ]
  },
  {
   "cell_type": "code",
   "execution_count": null,
   "id": "196d9bc1-39a3-4090-af1e-fc6c94a42791",
   "metadata": {
    "execution": {
     "iopub.status.busy": "2024-06-27T09:47:16.760128Z",
     "iopub.status.idle": "2024-06-27T09:47:16.760270Z",
     "shell.execute_reply": "2024-06-27T09:47:16.760204Z",
     "shell.execute_reply.started": "2024-06-27T09:47:16.760197Z"
    }
   },
   "outputs": [],
   "source": [
    "patches"
   ]
  },
  {
   "cell_type": "code",
   "execution_count": null,
   "id": "cf92665e-c847-4d57-975d-448b84b18eb8",
   "metadata": {
    "execution": {
     "iopub.status.busy": "2024-06-27T09:47:16.760716Z",
     "iopub.status.idle": "2024-06-27T09:47:16.760870Z",
     "shell.execute_reply": "2024-06-27T09:47:16.760799Z",
     "shell.execute_reply.started": "2024-06-27T09:47:16.760793Z"
    }
   },
   "outputs": [],
   "source": [
    "from collections import OrderedDict\n",
    "tracts_patchs_dict = OrderedDict()\n",
    "objectTable_refs = sorted(butler.registry.queryDatasets('objectTable_tract'))\n",
    "N = len(objectTable_refs)\n",
    "for idx in range(N):\n",
    "    objectTable = butler.get(objectTable_refs[idx])\n",
    "    tract = objectTable[\"tract\"].unique()[0] \n",
    "    patches = objectTable[\"patch\"].unique()\n",
    "    tracts_patchs_dict[tract] = patches \n",
    "    del objectTable"
   ]
  },
  {
   "cell_type": "code",
   "execution_count": null,
   "id": "647b36ee-afe9-4967-8f60-f96ed5e0ced4",
   "metadata": {
    "execution": {
     "iopub.status.busy": "2024-06-27T09:47:16.761276Z",
     "iopub.status.idle": "2024-06-27T09:47:16.761417Z",
     "shell.execute_reply": "2024-06-27T09:47:16.761350Z",
     "shell.execute_reply.started": "2024-06-27T09:47:16.761344Z"
    }
   },
   "outputs": [],
   "source": [
    "tracts_patchs_dict"
   ]
  },
  {
   "cell_type": "code",
   "execution_count": null,
   "id": "a085940a-0389-47b8-a072-9870bac78b19",
   "metadata": {},
   "outputs": [],
   "source": []
  },
  {
   "cell_type": "code",
   "execution_count": null,
   "id": "5cc138ad-0492-430a-b0d0-dfebefeacbb1",
   "metadata": {
    "execution": {
     "iopub.status.busy": "2024-06-27T09:47:16.762088Z",
     "iopub.status.idle": "2024-06-27T09:47:16.762243Z",
     "shell.execute_reply": "2024-06-27T09:47:16.762172Z",
     "shell.execute_reply.started": "2024-06-27T09:47:16.762165Z"
    }
   },
   "outputs": [],
   "source": [
    "import pickle\n",
    "# Store data (serialize)\n",
    "filetractpatch_out = 'lsstcomcamsim_tractspatchs_20240403.pickle'\n",
    "with open(filetractpatch_out, 'wb') as handle:\n",
    "    pickle.dump(tracts_patchs_dict, handle, protocol=pickle.HIGHEST_PROTOCOL)"
   ]
  },
  {
   "cell_type": "markdown",
   "id": "d5508dd3-7517-42ac-84be-3919e12eb89c",
   "metadata": {},
   "source": [
    "## preSourceTable"
   ]
  },
  {
   "cell_type": "code",
   "execution_count": null,
   "id": "569602a0-a840-49df-b691-5150645cbebb",
   "metadata": {
    "execution": {
     "iopub.status.busy": "2024-06-27T09:47:16.762652Z",
     "iopub.status.idle": "2024-06-27T09:47:16.762804Z",
     "shell.execute_reply": "2024-06-27T09:47:16.762732Z",
     "shell.execute_reply.started": "2024-06-27T09:47:16.762726Z"
    }
   },
   "outputs": [],
   "source": [
    "if 0:\n",
    "    all_data = []\n",
    "    data_product = 'preSourceTable'\n",
    "    datasetRefs = butler.registry.queryDatasets(datasetType=data_product, collections=collections, where= \"instrument='LSSTComCamSim'\")\n",
    "    for i, ref in enumerate(datasetRefs):\n",
    "        if (i % 500 == 0):\n",
    "            print(f\"======================== datasetType = {data_product} ============================================\")\n",
    "            print(\"fullId..................:\",ref.dataId.full)\n",
    "        try:\n",
    "            data = butler.get(data_product, dataId=ref.dataId )  \n",
    "            all_data.append(data)\n",
    "       \n",
    "        except Exception as inst:\n",
    "            print(type(inst))    # the exception type\n",
    "            print(inst.args)     # arguments stored in .args\n",
    "            print(inst)       \n",
    "\n",
    "    df = pd.concat(all_data)\n",
    "    filename = f\"out-{data_product}.csv\" \n",
    "    df.to_csv(filename)"
   ]
  },
  {
   "cell_type": "code",
   "execution_count": null,
   "id": "d37ba508-eba6-45d8-8ace-6f9e9d8ccd2f",
   "metadata": {},
   "outputs": [],
   "source": []
  },
  {
   "cell_type": "code",
   "execution_count": null,
   "id": "bb5ee764-cde7-41af-afe0-28107f6296b5",
   "metadata": {},
   "outputs": [],
   "source": []
  }
 ],
 "metadata": {
  "kernelspec": {
   "display_name": "LSST",
   "language": "python",
   "name": "lsst"
  },
  "language_info": {
   "codemirror_mode": {
    "name": "ipython",
    "version": 3
   },
   "file_extension": ".py",
   "mimetype": "text/x-python",
   "name": "python",
   "nbconvert_exporter": "python",
   "pygments_lexer": "ipython3",
   "version": "3.11.7"
  }
 },
 "nbformat": 4,
 "nbformat_minor": 5
}
