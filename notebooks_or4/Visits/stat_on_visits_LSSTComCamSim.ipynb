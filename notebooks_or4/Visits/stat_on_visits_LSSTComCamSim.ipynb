{
 "cells": [
  {
   "cell_type": "markdown",
   "id": "dba0a7a1-779a-415f-b9b9-ef5ee53bdf0c",
   "metadata": {},
   "source": [
    "# Statistics on Photometric visits in LSSTComCamSim _relearsal 4"
   ]
  },
  {
   "cell_type": "markdown",
   "id": "d94464bd-2be6-4c9a-b88c-ccb9dfb62e7b",
   "metadata": {},
   "source": [
    "- Author : Sylvie Dagoret-Campagne\n",
    "- creation date : 2024-06-27\n",
    "- last update : 2024-06-27\n",
    "- affiliation : IJCLab/IN2P3/CNRS"
   ]
  },
  {
   "cell_type": "markdown",
   "id": "33f59975-74ee-49e1-9f1d-3fa4f740995b",
   "metadata": {},
   "source": [
    "  \n",
    "``Quantum Graphs``: https://tigress-web.princeton.edu/~lkelvin/pipelines/ \n",
    "\n",
    "``CalibrateTask``: \n",
    "https://github.com/lsst/pipe_tasks/blob/main/python/lsst/pipe/tasks/calibrate.py#L392-L399\n",
    "\n",
    "\n",
    "``Shemas``:\n",
    "https://dm.lsst.org/sdm_schemas/browser/\n",
    "\n",
    "LSST Science Pipelines Version: `w_2024_25`"
   ]
  },
  {
   "cell_type": "code",
   "execution_count": 1,
   "id": "7b6a4bc0-06c4-41a4-bfe6-38e91c9ed325",
   "metadata": {
    "execution": {
     "iopub.execute_input": "2024-06-27T09:33:58.850346Z",
     "iopub.status.busy": "2024-06-27T09:33:58.850217Z",
     "iopub.status.idle": "2024-06-27T09:34:00.337398Z",
     "shell.execute_reply": "2024-06-27T09:34:00.336967Z",
     "shell.execute_reply.started": "2024-06-27T09:33:58.850333Z"
    }
   },
   "outputs": [],
   "source": [
    "import matplotlib.pyplot as plt\n",
    "import matplotlib as mpl\n",
    "import matplotlib.dates as mdates\n",
    "import matplotlib.ticker\n",
    "from mpl_toolkits.axes_grid1 import make_axes_locatable\n",
    "from matplotlib.colors import LogNorm,SymLogNorm\n",
    "from matplotlib.colors import ListedColormap\n",
    "from matplotlib import colors\n",
    "from matplotlib.ticker import FormatStrFormatter\n",
    "\n",
    "%matplotlib inline\n",
    "import numpy as np\n",
    "import pandas as pd\n",
    "import matplotlib.gridspec as gridspec\n",
    "from spectractor.tools import from_lambda_to_colormap, wavelength_to_rgb\n",
    "#%matplotlib widget \n",
    "import h5py\n",
    "from scipy import interpolate\n",
    "from astropy.time import Time\n",
    "from datetime import datetime, timedelta\n",
    "import seaborn as sns\n",
    "\n",
    "from itertools import cycle, islice\n",
    "import os"
   ]
  },
  {
   "cell_type": "code",
   "execution_count": 2,
   "id": "fc44b7e9-8bf9-4611-ab18-6c8d85192629",
   "metadata": {
    "execution": {
     "iopub.execute_input": "2024-06-27T09:34:00.338311Z",
     "iopub.status.busy": "2024-06-27T09:34:00.337926Z",
     "iopub.status.idle": "2024-06-27T09:34:01.163331Z",
     "shell.execute_reply": "2024-06-27T09:34:01.162760Z",
     "shell.execute_reply.started": "2024-06-27T09:34:00.338296Z"
    }
   },
   "outputs": [],
   "source": [
    "from lsst.daf.butler import Butler\n",
    "\n",
    "import astropy.units as u\n",
    "import numpy as np \n",
    "import pandas as pd\n",
    "pd.set_option(\"display.max_columns\", None)\n",
    "from astropy.time import Time\n",
    "\n",
    "import scipy.stats\n",
    "\n",
    "import matplotlib\n",
    "%matplotlib inline\n",
    "from matplotlib import pyplot as plt\n",
    "\n",
    "import lsst.afw.display.rgb as afwRgb\n",
    "import lsst.afw.image as afwImage\n",
    "import lsst.geom as geom\n",
    "from lsst.geom import Angle\n",
    "from lsst.geom import SpherePoint\n",
    "from lsst.geom import AngleUnit\n",
    "\n",
    "from astropy.stats import SigmaClip\n"
   ]
  },
  {
   "cell_type": "code",
   "execution_count": 14,
   "id": "954a70b1-85f8-4d8d-8cf2-21204319789d",
   "metadata": {
    "execution": {
     "iopub.execute_input": "2024-06-27T09:36:52.722931Z",
     "iopub.status.busy": "2024-06-27T09:36:52.722253Z",
     "iopub.status.idle": "2024-06-27T09:36:52.725832Z",
     "shell.execute_reply": "2024-06-27T09:36:52.725399Z",
     "shell.execute_reply.started": "2024-06-27T09:36:52.722915Z"
    }
   },
   "outputs": [],
   "source": [
    "# INSERT YOUR auxTel/LATISS collection and tract/band HERE\n",
    "#butlerRoot = \"/repo/embargo\"\n",
    "butlerRoot = 'embargo_or4'\n",
    "\n",
    "#collection1 = 'LSSTComCamSim/runs/nightlyvalidation/20240402/d_2024_03_29/DM-43612'\n",
    "#collection2 = 'LSSTComCamSim/runs/nightlyvalidation/20240403/d_2024_03_29/DM-43612'\n",
    "#collection3 = 'LSSTComCamSim/runs/nightlyvalidation/20240404/d_2024_03_29/DM-43612'\n",
    "collection = 'LSSTComCamSim/nightlyValidation'\n",
    "#collection = \"LSSTComCamSim/runs/nightlyValidation/20240625/w_2024_25/DM-44966\"\n",
    "collectionn = collection\n",
    "#collections = [collection1,collection2,collection3]\n",
    "collections = [collection]\n",
    "collectionStr = collectionn.replace(\"/\", \"_\")\n",
    "instrument = 'LSSTComCamSim'\n",
    "skymapName = \"ops_rehersal_prep_2k_v1\"\n",
    "where_clause = \"instrument = \\'\" + instrument+ \"\\'\"\n",
    "NDET = 9\n",
    "suptitle=  collectionStr\n",
    "fn_ccdVisit_tracts_patches = f\"ccdVisittractpatch_{collectionStr}.csv\""
   ]
  },
  {
   "cell_type": "code",
   "execution_count": 4,
   "id": "f62c38fe-46be-4bde-b1f7-5770d26b6db4",
   "metadata": {
    "execution": {
     "iopub.execute_input": "2024-06-27T09:34:01.169079Z",
     "iopub.status.busy": "2024-06-27T09:34:01.168749Z",
     "iopub.status.idle": "2024-06-27T09:34:01.173493Z",
     "shell.execute_reply": "2024-06-27T09:34:01.173132Z",
     "shell.execute_reply.started": "2024-06-27T09:34:01.169061Z"
    }
   },
   "outputs": [],
   "source": [
    "plt.rcParams[\"figure.figsize\"] = (18,8)\n",
    "plt.rcParams[\"axes.labelsize\"] = 'xx-large'\n",
    "plt.rcParams['axes.titlesize'] = 'xx-large'\n",
    "plt.rcParams['xtick.labelsize']= 'xx-large'\n",
    "plt.rcParams['ytick.labelsize']= 'xx-large'\n",
    "plt.rcParams['legend.fontsize']=  12\n",
    "plt.rcParams['font.size'] = 12"
   ]
  },
  {
   "cell_type": "code",
   "execution_count": 5,
   "id": "250d63d8-6521-41a1-8b56-d1c5f39786df",
   "metadata": {
    "execution": {
     "iopub.execute_input": "2024-06-27T09:34:01.174141Z",
     "iopub.status.busy": "2024-06-27T09:34:01.173987Z",
     "iopub.status.idle": "2024-06-27T09:34:01.184931Z",
     "shell.execute_reply": "2024-06-27T09:34:01.184547Z",
     "shell.execute_reply.started": "2024-06-27T09:34:01.174128Z"
    }
   },
   "outputs": [],
   "source": [
    "def angle_in_range(alpha, lower, upper):\n",
    "    return (alpha - lower) % 360 <= (upper - lower) % 360"
   ]
  },
  {
   "cell_type": "code",
   "execution_count": 6,
   "id": "f31ff9a3-1c86-42b5-9ecc-0b557a243862",
   "metadata": {
    "execution": {
     "iopub.execute_input": "2024-06-27T09:34:01.185544Z",
     "iopub.status.busy": "2024-06-27T09:34:01.185418Z",
     "iopub.status.idle": "2024-06-27T09:34:01.190344Z",
     "shell.execute_reply": "2024-06-27T09:34:01.189996Z",
     "shell.execute_reply.started": "2024-06-27T09:34:01.185532Z"
    }
   },
   "outputs": [],
   "source": [
    "def get_bbox_radec(wcs, bbox):\n",
    "    \"\"\"\n",
    "    Return the corners in RA,Dec in degrees given the WCS and bounding box for an image.\n",
    "\n",
    "    Parameters\n",
    "    ----------\n",
    "    wcs: image WCS returned by the Butler\n",
    "    bbox: bounding box returned by the Butler\n",
    "\n",
    "    Returns\n",
    "    -------\n",
    "    ramin,ramax,decmin,decmax in decimal degrees\n",
    "    \"\"\"\n",
    "\n",
    "    xmin = bbox.beginX\n",
    "    xmax = bbox.endX\n",
    "    ymin = bbox.beginY\n",
    "    ymax = bbox.endY\n",
    "    \n",
    "    radec_ll = wcs.pixelToSky(xmin, ymin)\n",
    "    radec_ur = wcs.pixelToSky(xmax, ymax)\n",
    "        \n",
    "    return radec_ur.getRa().asDegrees(),radec_ll.getRa().asDegrees(), radec_ll.getDec().asDegrees(),radec_ur.getDec().asDegrees() \n"
   ]
  },
  {
   "cell_type": "code",
   "execution_count": 7,
   "id": "27a6fb7c-a35a-41aa-a106-ccbec54f848e",
   "metadata": {
    "execution": {
     "iopub.execute_input": "2024-06-27T09:34:01.190939Z",
     "iopub.status.busy": "2024-06-27T09:34:01.190815Z",
     "iopub.status.idle": "2024-06-27T09:34:01.196367Z",
     "shell.execute_reply": "2024-06-27T09:34:01.196007Z",
     "shell.execute_reply.started": "2024-06-27T09:34:01.190928Z"
    }
   },
   "outputs": [],
   "source": [
    "def isradec_inbbox_angularsep(ra,dec,wcs, bbox):\n",
    "    \"\"\"\n",
    "    Return the corners in RA,Dec in degrees given the WCS and bounding box for an image.\n",
    "\n",
    "    Parameters\n",
    "    ----------\n",
    "    ra: ra in degree\n",
    "    dec: dec in degree\n",
    "    wcs: image WCS returned by the Butler\n",
    "    bbox: bounding box returned by the Butler\n",
    "\n",
    "    Returns\n",
    "    -------\n",
    "    float in degree\n",
    "    \n",
    "    \"\"\"\n",
    "\n",
    "   \n",
    "    RAMIN,RAMAX,DECMIN,DECMAX = get_bbox_radec(wcs, bbox)\n",
    "  \n",
    "    RAMEAN = np.mean([RAMIN,RAMAX])\n",
    "    DECMEAN = np.mean([DECMIN,DECMAX])\n",
    "\n",
    "    sp0 = SpherePoint(longitude=geom.Angle(ra,geom.degrees),latitude=geom.Angle(dec,geom.degrees))\n",
    "    sp1 = SpherePoint(longitude=geom.Angle(RAMEAN,geom.degrees),latitude=geom.Angle(DECMEAN,geom.degrees)) \n",
    "    \n",
    "    sep = sp0.separation(sp1).asDegrees()\n",
    "     \n",
    "    return sep"
   ]
  },
  {
   "cell_type": "code",
   "execution_count": 8,
   "id": "d6fb646e-a481-4419-9cc1-d1608ff96a76",
   "metadata": {
    "execution": {
     "iopub.execute_input": "2024-06-27T09:34:01.197030Z",
     "iopub.status.busy": "2024-06-27T09:34:01.196905Z",
     "iopub.status.idle": "2024-06-27T09:34:01.201016Z",
     "shell.execute_reply": "2024-06-27T09:34:01.200662Z",
     "shell.execute_reply.started": "2024-06-27T09:34:01.197018Z"
    }
   },
   "outputs": [],
   "source": [
    "def isradec_inbbox_radec(ra,dec,wcs, bbox):\n",
    "    \"\"\"\n",
    "    Return the corners in RA,Dec in degrees given the WCS and bounding box for an image.\n",
    "\n",
    "    Parameters\n",
    "    ----------\n",
    "    ra: ra in degree\n",
    "    dec: dec in degree\n",
    "    wcs: image WCS returned by the Butler\n",
    "    bbox: bounding box returned by the Butler\n",
    "\n",
    "    Returns\n",
    "    -------\n",
    "    Bool\n",
    "    \n",
    "    \"\"\"\n",
    "\n",
    "    RAMIN,RAMAX,DECMIN,DECMAX = get_bbox_radec(wcs, bbox)\n",
    "\n",
    "    flag_ra = angle_in_range(ra,RAMIN,RAMAX)\n",
    "    flag_dec = angle_in_range(dec,DECMIN,DECMAX)\n",
    "\n",
    "    flag = flag_ra and flag_dec\n",
    "    return flag\n"
   ]
  },
  {
   "cell_type": "code",
   "execution_count": 9,
   "id": "1f98b53a-e742-4c3f-833b-8655070e4de3",
   "metadata": {
    "execution": {
     "iopub.execute_input": "2024-06-27T09:34:01.201636Z",
     "iopub.status.busy": "2024-06-27T09:34:01.201517Z",
     "iopub.status.idle": "2024-06-27T09:34:01.207474Z",
     "shell.execute_reply": "2024-06-27T09:34:01.207087Z",
     "shell.execute_reply.started": "2024-06-27T09:34:01.201625Z"
    }
   },
   "outputs": [],
   "source": [
    "def FindTractAndPatch(row):\n",
    "    \"\"\"\n",
    "    Apply this function on ccdvisitTable dataframe to find the tract and patch for each visit\n",
    "    \"\"\"\n",
    "     \n",
    "    try:\n",
    "        ra = row[\"ra\"]\n",
    "        dec = row[\"dec\"]\n",
    "        selectFlag = False\n",
    "        # loop on tract\n",
    "        for tractID in tractsId_list:\n",
    "            tractInfo = skymap.generateTract(tractID)\n",
    "            patches_selected = [patch.getSequentialIndex() for patch in tractInfo]\n",
    "            wcs=tractInfo.getWcs()\n",
    "            # loop on patches\n",
    "            for patch in tractInfo:\n",
    "                patchID = patch.getSequentialIndex()\n",
    "                if patchID in patches_selected:\n",
    "                    ibb=patch.getInnerBBox()\n",
    "                    flag = isradec_inbbox_radec(ra,dec,wcs, ibb)\n",
    "                    selectFlag =  selectFlag or flag\n",
    "                    if selectFlag:\n",
    "                        return pd.Series([tractID,patchID])\n",
    "        return pd.Series([0,0])           \n",
    "                \n",
    "    except Exception as inst:\n",
    "        print(type(inst))    # the exception type\n",
    "        print(inst.args)     # arguments stored in .args\n",
    "        print(inst)          # __str__ allows args to be printed directly,\n",
    "        return pd.Series([0,0])  \n",
    "        "
   ]
  },
  {
   "cell_type": "code",
   "execution_count": 10,
   "id": "dc3cfaea-2fcd-468c-8192-0aed14ac5898",
   "metadata": {
    "execution": {
     "iopub.execute_input": "2024-06-27T09:34:01.208051Z",
     "iopub.status.busy": "2024-06-27T09:34:01.207932Z",
     "iopub.status.idle": "2024-06-27T09:34:01.214821Z",
     "shell.execute_reply": "2024-06-27T09:34:01.214482Z",
     "shell.execute_reply.started": "2024-06-27T09:34:01.208040Z"
    }
   },
   "outputs": [],
   "source": [
    "def FindTractAndPatchFromAngularSep(row):\n",
    "    \"\"\"\n",
    "    Apply this function on ccdvisitTable dataframe to find the tract and patch for each visit\n",
    "    Need the tractsId_list not to scan the whole skymap\n",
    "    \"\"\"\n",
    "\n",
    "     \n",
    "    try:\n",
    "        ra = row[\"ra\"]\n",
    "        dec = row[\"dec\"]\n",
    "        \n",
    "        # loop on tracts\n",
    "        List_of_tractids = []\n",
    "        List_of_patchids = []\n",
    "        List_of_sep = []\n",
    "        \n",
    "        for tractID in tractsId_list:\n",
    "            tractInfo = skymap.generateTract(tractID)\n",
    "            patches_selected = [patch.getSequentialIndex() for patch in tractInfo]\n",
    "         \n",
    "            wcs=tractInfo.getWcs()\n",
    "            # loop on patches\n",
    "            patches_ids = []\n",
    "            patches_sep = []\n",
    "            # loop on patches\n",
    "            for patch in tractInfo:\n",
    "                patchID = patch.getSequentialIndex()\n",
    "                if patchID in patches_selected:\n",
    "                    ibb=patch.getInnerBBox()\n",
    "                  \n",
    "                    sep = isradec_inbbox_angularsep(ra,dec,wcs, ibb)\n",
    "                    patches_ids.append(patchID)\n",
    "                    patches_sep.append(sep)\n",
    "                    \n",
    "            # find the patch with the minimum distance\n",
    "            patches_ids=np.array(patches_ids)\n",
    "            patches_sep= np.array(patches_sep)\n",
    "            idx_sepmin = int(np.where(patches_sep==patches_sep.min())[0])\n",
    "            \n",
    "            \n",
    "            List_of_tractids.append(tractID)\n",
    "            List_of_patchids.append(patches_ids[idx_sepmin])\n",
    "            List_of_sep.append(patches_sep[idx_sepmin])\n",
    "            \n",
    "        List_of_tractids=np.array(List_of_tractids)\n",
    "        List_of_patchids=np.array(List_of_patchids)\n",
    "        List_of_sep= np.array(List_of_sep)\n",
    "        idx_sepmin = int(np.where(List_of_sep==List_of_sep.min())[0])\n",
    "\n",
    "        tractID_sel = List_of_tractids[idx_sepmin]\n",
    "        patchID_sel = List_of_patchids[idx_sepmin]\n",
    "       \n",
    "            \n",
    "        return pd.Series([tractID_sel,patchID_sel])\n",
    "               \n",
    "                \n",
    "    except Exception as inst:\n",
    "        print(type(inst))    # the exception type\n",
    "        print(inst.args)     # arguments stored in .args\n",
    "        print(inst)          # __str__ allows args to be printed directly,\n",
    "        return pd.Series([0,0])  \n",
    "        "
   ]
  },
  {
   "cell_type": "code",
   "execution_count": 11,
   "id": "19903ebe-b4a4-4f4d-b5c3-f78bc12ea36c",
   "metadata": {
    "execution": {
     "iopub.execute_input": "2024-06-27T09:34:01.215514Z",
     "iopub.status.busy": "2024-06-27T09:34:01.215388Z",
     "iopub.status.idle": "2024-06-27T09:34:01.222627Z",
     "shell.execute_reply": "2024-06-27T09:34:01.222272Z",
     "shell.execute_reply.started": "2024-06-27T09:34:01.215502Z"
    }
   },
   "outputs": [],
   "source": [
    "def plotAVisit(row,ax=None):\n",
    "    \"\"\"\n",
    "    row : dataframe row\n",
    "    ax \n",
    "    \"\"\"\n",
    "\n",
    "    if ax == None:\n",
    "        fig, ax = plt.subplots(1,1,figsize=(5,5))\n",
    "        \n",
    "    visitid = row[\"visitId\"]\n",
    "    ra= row[\"ra\"]\n",
    "    dec = row[\"dec\"]\n",
    "    tract_id  = row[\"tractID\"]\n",
    "    patch_id  = row[\"patchID\"]\n",
    "    label = f\"tract {tract_id} , patch {patch_id}\"              \n",
    "    \n",
    "    tractInfo = skymap.generateTract(tract_id)\n",
    "    patches_selected = [patch.getSequentialIndex() for patch in tractInfo]     \n",
    "    wcs=tractInfo.getWcs()\n",
    "            \n",
    "    # loop on patches\n",
    "    all_ra = []\n",
    "    all_dec = []\n",
    "    corners = []\n",
    "    for patch in tractInfo:\n",
    "        patchID = patch.getSequentialIndex()\n",
    "        if patchID == patch_id :\n",
    "            ibb=patch.getInnerBBox()\n",
    "            RAMIN,RAMAX,DECMIN,DECMAX = get_bbox_radec(wcs, ibb)\n",
    "            for icorn,corner in enumerate(ibb.getCorners()):\n",
    "                p = geom.Point2D(corner.getX(), corner.getY())\n",
    "                coord = wcs.pixelToSky(p)\n",
    "                corners.append([coord.getRa().asDegrees(), coord.getDec().asDegrees()])\n",
    "                all_ra.append(coord.getRa().asDegrees()) \n",
    "                all_dec.append(coord.getDec().asDegrees()) \n",
    "    if (len(all_ra)>0) and (len(all_dec)>0):\n",
    "        all_ra.append(all_ra[0])\n",
    "        all_dec.append(all_dec[0])\n",
    "        print(ax)\n",
    "        ax.plot(all_ra,all_dec,'b-',lw=3,label=label)\n",
    "        ax.scatter([ra],[dec],marker = 'o',s=20,c=\"r\",label=visitid)\n",
    "        ax.xaxis.set_major_formatter(FormatStrFormatter('%.2f'))\n",
    "        ax.yaxis.set_major_formatter(FormatStrFormatter('%.2f'))\n",
    "        ax.legend()\n",
    "                "
   ]
  },
  {
   "cell_type": "markdown",
   "id": "ba59ea23-31fd-4f87-96a2-ddd44d5dfbe9",
   "metadata": {},
   "source": [
    "## Initiate the butler"
   ]
  },
  {
   "cell_type": "code",
   "execution_count": 12,
   "id": "89be1e14-3ded-40e7-ae74-54e343b56a3d",
   "metadata": {
    "execution": {
     "iopub.execute_input": "2024-06-27T09:34:01.223270Z",
     "iopub.status.busy": "2024-06-27T09:34:01.223141Z",
     "iopub.status.idle": "2024-06-27T09:34:02.121062Z",
     "shell.execute_reply": "2024-06-27T09:34:02.118703Z",
     "shell.execute_reply.started": "2024-06-27T09:34:01.223259Z"
    }
   },
   "outputs": [
    {
     "ename": "DatasetNotFoundError",
     "evalue": "Dataset camera with data ID {instrument: 'LSSTComCamSim'} could not be found in collections ('LSSTComCamSim/nightlyValidation',).",
     "output_type": "error",
     "traceback": [
      "\u001b[0;31m---------------------------------------------------------------------------\u001b[0m",
      "\u001b[0;31mDatasetNotFoundError\u001b[0m                      Traceback (most recent call last)",
      "Cell \u001b[0;32mIn[12], line 3\u001b[0m\n\u001b[1;32m      1\u001b[0m \u001b[38;5;66;03m# Initiate butler from variables set above\u001b[39;00m\n\u001b[1;32m      2\u001b[0m butler \u001b[38;5;241m=\u001b[39m Butler(butlerRoot, collections\u001b[38;5;241m=\u001b[39mcollections, instrument\u001b[38;5;241m=\u001b[39minstrument, skymap\u001b[38;5;241m=\u001b[39mskymapName)\n\u001b[0;32m----> 3\u001b[0m camera \u001b[38;5;241m=\u001b[39m \u001b[43mbutler\u001b[49m\u001b[38;5;241;43m.\u001b[39;49m\u001b[43mget\u001b[49m\u001b[43m(\u001b[49m\u001b[38;5;124;43m\"\u001b[39;49m\u001b[38;5;124;43mcamera\u001b[39;49m\u001b[38;5;124;43m\"\u001b[39;49m\u001b[43m,\u001b[49m\u001b[43m \u001b[49m\u001b[43minstrument\u001b[49m\u001b[38;5;241;43m=\u001b[39;49m\u001b[43minstrument\u001b[49m\u001b[43m)\u001b[49m\n\u001b[1;32m      4\u001b[0m \u001b[38;5;28mprint\u001b[39m(\u001b[38;5;124m\"\u001b[39m\u001b[38;5;124mcamera_name = \u001b[39m\u001b[38;5;132;01m{}\u001b[39;00m\u001b[38;5;124m\"\u001b[39m\u001b[38;5;241m.\u001b[39mformat(camera\u001b[38;5;241m.\u001b[39mgetName()))\n\u001b[1;32m      5\u001b[0m \u001b[38;5;28mprint\u001b[39m(\u001b[38;5;124m\"\u001b[39m\u001b[38;5;124mcollections = \u001b[39m\u001b[38;5;132;01m{}\u001b[39;00m\u001b[38;5;124m\"\u001b[39m\u001b[38;5;241m.\u001b[39mformat(collections))\n",
      "File \u001b[0;32m/opt/lsst/software/stack/stack/miniconda3-py38_4.9.2-8.0.0/Linux64/daf_butler/ge353e872a4+80f8d001e8/python/lsst/daf/butler/direct_butler/_direct_butler.py:1146\u001b[0m, in \u001b[0;36mDirectButler.get\u001b[0;34m(self, datasetRefOrType, dataId, parameters, collections, storageClass, timespan, **kwargs)\u001b[0m\n\u001b[1;32m   1087\u001b[0m \u001b[38;5;250m\u001b[39m\u001b[38;5;124;03m\"\"\"Retrieve a stored dataset.\u001b[39;00m\n\u001b[1;32m   1088\u001b[0m \n\u001b[1;32m   1089\u001b[0m \u001b[38;5;124;03mParameters\u001b[39;00m\n\u001b[0;32m   (...)\u001b[0m\n\u001b[1;32m   1143\u001b[0m \u001b[38;5;124;03m``exposure`` is a temporal dimension.\u001b[39;00m\n\u001b[1;32m   1144\u001b[0m \u001b[38;5;124;03m\"\"\"\u001b[39;00m\n\u001b[1;32m   1145\u001b[0m _LOG\u001b[38;5;241m.\u001b[39mdebug(\u001b[38;5;124m\"\u001b[39m\u001b[38;5;124mButler get: \u001b[39m\u001b[38;5;132;01m%s\u001b[39;00m\u001b[38;5;124m, dataId=\u001b[39m\u001b[38;5;132;01m%s\u001b[39;00m\u001b[38;5;124m, parameters=\u001b[39m\u001b[38;5;132;01m%s\u001b[39;00m\u001b[38;5;124m\"\u001b[39m, datasetRefOrType, dataId, parameters)\n\u001b[0;32m-> 1146\u001b[0m ref \u001b[38;5;241m=\u001b[39m \u001b[38;5;28;43mself\u001b[39;49m\u001b[38;5;241;43m.\u001b[39;49m\u001b[43m_findDatasetRef\u001b[49m\u001b[43m(\u001b[49m\n\u001b[1;32m   1147\u001b[0m \u001b[43m    \u001b[49m\u001b[43mdatasetRefOrType\u001b[49m\u001b[43m,\u001b[49m\n\u001b[1;32m   1148\u001b[0m \u001b[43m    \u001b[49m\u001b[43mdataId\u001b[49m\u001b[43m,\u001b[49m\n\u001b[1;32m   1149\u001b[0m \u001b[43m    \u001b[49m\u001b[43mcollections\u001b[49m\u001b[38;5;241;43m=\u001b[39;49m\u001b[43mcollections\u001b[49m\u001b[43m,\u001b[49m\n\u001b[1;32m   1150\u001b[0m \u001b[43m    \u001b[49m\u001b[43mdatastore_records\u001b[49m\u001b[38;5;241;43m=\u001b[39;49m\u001b[38;5;28;43;01mTrue\u001b[39;49;00m\u001b[43m,\u001b[49m\n\u001b[1;32m   1151\u001b[0m \u001b[43m    \u001b[49m\u001b[43mtimespan\u001b[49m\u001b[38;5;241;43m=\u001b[39;49m\u001b[43mtimespan\u001b[49m\u001b[43m,\u001b[49m\n\u001b[1;32m   1152\u001b[0m \u001b[43m    \u001b[49m\u001b[38;5;241;43m*\u001b[39;49m\u001b[38;5;241;43m*\u001b[39;49m\u001b[43mkwargs\u001b[49m\u001b[43m,\u001b[49m\n\u001b[1;32m   1153\u001b[0m \u001b[43m\u001b[49m\u001b[43m)\u001b[49m\n\u001b[1;32m   1154\u001b[0m \u001b[38;5;28;01mreturn\u001b[39;00m \u001b[38;5;28mself\u001b[39m\u001b[38;5;241m.\u001b[39m_datastore\u001b[38;5;241m.\u001b[39mget(ref, parameters\u001b[38;5;241m=\u001b[39mparameters, storageClass\u001b[38;5;241m=\u001b[39mstorageClass)\n",
      "File \u001b[0;32m/opt/lsst/software/stack/stack/miniconda3-py38_4.9.2-8.0.0/Linux64/daf_butler/ge353e872a4+80f8d001e8/python/lsst/daf/butler/direct_butler/_direct_butler.py:900\u001b[0m, in \u001b[0;36mDirectButler._findDatasetRef\u001b[0;34m(self, datasetRefOrType, dataId, collections, predict, run, datastore_records, timespan, **kwargs)\u001b[0m\n\u001b[1;32m    898\u001b[0m         \u001b[38;5;28;01mif\u001b[39;00m collections \u001b[38;5;129;01mis\u001b[39;00m \u001b[38;5;28;01mNone\u001b[39;00m:\n\u001b[1;32m    899\u001b[0m             collections \u001b[38;5;241m=\u001b[39m \u001b[38;5;28mself\u001b[39m\u001b[38;5;241m.\u001b[39m_registry\u001b[38;5;241m.\u001b[39mdefaults\u001b[38;5;241m.\u001b[39mcollections\n\u001b[0;32m--> 900\u001b[0m         \u001b[38;5;28;01mraise\u001b[39;00m DatasetNotFoundError(\n\u001b[1;32m    901\u001b[0m             \u001b[38;5;124mf\u001b[39m\u001b[38;5;124m\"\u001b[39m\u001b[38;5;124mDataset \u001b[39m\u001b[38;5;132;01m{\u001b[39;00mdatasetType\u001b[38;5;241m.\u001b[39mname\u001b[38;5;132;01m}\u001b[39;00m\u001b[38;5;124m with data ID \u001b[39m\u001b[38;5;132;01m{\u001b[39;00mdataId\u001b[38;5;132;01m}\u001b[39;00m\u001b[38;5;124m \u001b[39m\u001b[38;5;124m\"\u001b[39m\n\u001b[1;32m    902\u001b[0m             \u001b[38;5;124mf\u001b[39m\u001b[38;5;124m\"\u001b[39m\u001b[38;5;124mcould not be found in collections \u001b[39m\u001b[38;5;132;01m{\u001b[39;00mcollections\u001b[38;5;132;01m}\u001b[39;00m\u001b[38;5;124m.\u001b[39m\u001b[38;5;124m\"\u001b[39m\n\u001b[1;32m    903\u001b[0m         )\n\u001b[1;32m    904\u001b[0m \u001b[38;5;28;01mif\u001b[39;00m datasetType \u001b[38;5;241m!=\u001b[39m ref\u001b[38;5;241m.\u001b[39mdatasetType:\n\u001b[1;32m    905\u001b[0m     \u001b[38;5;66;03m# If they differ it is because the user explicitly specified\u001b[39;00m\n\u001b[1;32m    906\u001b[0m     \u001b[38;5;66;03m# a compatible dataset type to this call rather than using the\u001b[39;00m\n\u001b[1;32m    907\u001b[0m     \u001b[38;5;66;03m# registry definition. The DatasetRef must therefore be recreated\u001b[39;00m\n\u001b[1;32m    908\u001b[0m     \u001b[38;5;66;03m# using the user definition such that the expected type is\u001b[39;00m\n\u001b[1;32m    909\u001b[0m     \u001b[38;5;66;03m# returned.\u001b[39;00m\n\u001b[1;32m    910\u001b[0m     ref \u001b[38;5;241m=\u001b[39m DatasetRef(\n\u001b[1;32m    911\u001b[0m         datasetType, ref\u001b[38;5;241m.\u001b[39mdataId, run\u001b[38;5;241m=\u001b[39mref\u001b[38;5;241m.\u001b[39mrun, \u001b[38;5;28mid\u001b[39m\u001b[38;5;241m=\u001b[39mref\u001b[38;5;241m.\u001b[39mid, datastore_records\u001b[38;5;241m=\u001b[39mref\u001b[38;5;241m.\u001b[39m_datastore_records\n\u001b[1;32m    912\u001b[0m     )\n",
      "\u001b[0;31mDatasetNotFoundError\u001b[0m: Dataset camera with data ID {instrument: 'LSSTComCamSim'} could not be found in collections ('LSSTComCamSim/nightlyValidation',)."
     ]
    }
   ],
   "source": [
    "# Initiate butler from variables set above\n",
    "butler = Butler(butlerRoot, collections=collections, instrument=instrument, skymap=skymapName)\n",
    "camera = butler.get(\"camera\", instrument=instrument)\n",
    "print(\"camera_name = {}\".format(camera.getName()))\n",
    "print(\"collections = {}\".format(collections))"
   ]
  },
  {
   "cell_type": "code",
   "execution_count": 13,
   "id": "13e16115-d8e7-4618-9318-b84eea18b7f6",
   "metadata": {
    "execution": {
     "iopub.execute_input": "2024-06-27T09:35:28.417841Z",
     "iopub.status.busy": "2024-06-27T09:35:28.417378Z",
     "iopub.status.idle": "2024-06-27T09:35:28.465375Z",
     "shell.execute_reply": "2024-06-27T09:35:28.464713Z",
     "shell.execute_reply.started": "2024-06-27T09:35:28.417827Z"
    }
   },
   "outputs": [
    {
     "ename": "DatasetNotFoundError",
     "evalue": "Dataset skyMap with data ID {skymap: 'ops_rehersal_prep_2k_v1'} could not be found in collections ['LSSTComCamSim/nightlyValidation'].",
     "output_type": "error",
     "traceback": [
      "\u001b[0;31m---------------------------------------------------------------------------\u001b[0m",
      "\u001b[0;31mDatasetNotFoundError\u001b[0m                      Traceback (most recent call last)",
      "Cell \u001b[0;32mIn[13], line 1\u001b[0m\n\u001b[0;32m----> 1\u001b[0m skymap \u001b[38;5;241m=\u001b[39m \u001b[43mbutler\u001b[49m\u001b[38;5;241;43m.\u001b[39;49m\u001b[43mget\u001b[49m\u001b[43m(\u001b[49m\u001b[38;5;124;43m'\u001b[39;49m\u001b[38;5;124;43mskyMap\u001b[39;49m\u001b[38;5;124;43m'\u001b[39;49m\u001b[43m,\u001b[49m\u001b[43m \u001b[49m\u001b[43mskymap\u001b[49m\u001b[38;5;241;43m=\u001b[39;49m\u001b[43mskymapName\u001b[49m\u001b[43m,\u001b[49m\u001b[43m \u001b[49m\u001b[43mcollections\u001b[49m\u001b[38;5;241;43m=\u001b[39;49m\u001b[43mcollections\u001b[49m\u001b[43m)\u001b[49m\n",
      "File \u001b[0;32m/opt/lsst/software/stack/stack/miniconda3-py38_4.9.2-8.0.0/Linux64/daf_butler/ge353e872a4+80f8d001e8/python/lsst/daf/butler/direct_butler/_direct_butler.py:1146\u001b[0m, in \u001b[0;36mDirectButler.get\u001b[0;34m(self, datasetRefOrType, dataId, parameters, collections, storageClass, timespan, **kwargs)\u001b[0m\n\u001b[1;32m   1087\u001b[0m \u001b[38;5;250m\u001b[39m\u001b[38;5;124;03m\"\"\"Retrieve a stored dataset.\u001b[39;00m\n\u001b[1;32m   1088\u001b[0m \n\u001b[1;32m   1089\u001b[0m \u001b[38;5;124;03mParameters\u001b[39;00m\n\u001b[0;32m   (...)\u001b[0m\n\u001b[1;32m   1143\u001b[0m \u001b[38;5;124;03m``exposure`` is a temporal dimension.\u001b[39;00m\n\u001b[1;32m   1144\u001b[0m \u001b[38;5;124;03m\"\"\"\u001b[39;00m\n\u001b[1;32m   1145\u001b[0m _LOG\u001b[38;5;241m.\u001b[39mdebug(\u001b[38;5;124m\"\u001b[39m\u001b[38;5;124mButler get: \u001b[39m\u001b[38;5;132;01m%s\u001b[39;00m\u001b[38;5;124m, dataId=\u001b[39m\u001b[38;5;132;01m%s\u001b[39;00m\u001b[38;5;124m, parameters=\u001b[39m\u001b[38;5;132;01m%s\u001b[39;00m\u001b[38;5;124m\"\u001b[39m, datasetRefOrType, dataId, parameters)\n\u001b[0;32m-> 1146\u001b[0m ref \u001b[38;5;241m=\u001b[39m \u001b[38;5;28;43mself\u001b[39;49m\u001b[38;5;241;43m.\u001b[39;49m\u001b[43m_findDatasetRef\u001b[49m\u001b[43m(\u001b[49m\n\u001b[1;32m   1147\u001b[0m \u001b[43m    \u001b[49m\u001b[43mdatasetRefOrType\u001b[49m\u001b[43m,\u001b[49m\n\u001b[1;32m   1148\u001b[0m \u001b[43m    \u001b[49m\u001b[43mdataId\u001b[49m\u001b[43m,\u001b[49m\n\u001b[1;32m   1149\u001b[0m \u001b[43m    \u001b[49m\u001b[43mcollections\u001b[49m\u001b[38;5;241;43m=\u001b[39;49m\u001b[43mcollections\u001b[49m\u001b[43m,\u001b[49m\n\u001b[1;32m   1150\u001b[0m \u001b[43m    \u001b[49m\u001b[43mdatastore_records\u001b[49m\u001b[38;5;241;43m=\u001b[39;49m\u001b[38;5;28;43;01mTrue\u001b[39;49;00m\u001b[43m,\u001b[49m\n\u001b[1;32m   1151\u001b[0m \u001b[43m    \u001b[49m\u001b[43mtimespan\u001b[49m\u001b[38;5;241;43m=\u001b[39;49m\u001b[43mtimespan\u001b[49m\u001b[43m,\u001b[49m\n\u001b[1;32m   1152\u001b[0m \u001b[43m    \u001b[49m\u001b[38;5;241;43m*\u001b[39;49m\u001b[38;5;241;43m*\u001b[39;49m\u001b[43mkwargs\u001b[49m\u001b[43m,\u001b[49m\n\u001b[1;32m   1153\u001b[0m \u001b[43m\u001b[49m\u001b[43m)\u001b[49m\n\u001b[1;32m   1154\u001b[0m \u001b[38;5;28;01mreturn\u001b[39;00m \u001b[38;5;28mself\u001b[39m\u001b[38;5;241m.\u001b[39m_datastore\u001b[38;5;241m.\u001b[39mget(ref, parameters\u001b[38;5;241m=\u001b[39mparameters, storageClass\u001b[38;5;241m=\u001b[39mstorageClass)\n",
      "File \u001b[0;32m/opt/lsst/software/stack/stack/miniconda3-py38_4.9.2-8.0.0/Linux64/daf_butler/ge353e872a4+80f8d001e8/python/lsst/daf/butler/direct_butler/_direct_butler.py:900\u001b[0m, in \u001b[0;36mDirectButler._findDatasetRef\u001b[0;34m(self, datasetRefOrType, dataId, collections, predict, run, datastore_records, timespan, **kwargs)\u001b[0m\n\u001b[1;32m    898\u001b[0m         \u001b[38;5;28;01mif\u001b[39;00m collections \u001b[38;5;129;01mis\u001b[39;00m \u001b[38;5;28;01mNone\u001b[39;00m:\n\u001b[1;32m    899\u001b[0m             collections \u001b[38;5;241m=\u001b[39m \u001b[38;5;28mself\u001b[39m\u001b[38;5;241m.\u001b[39m_registry\u001b[38;5;241m.\u001b[39mdefaults\u001b[38;5;241m.\u001b[39mcollections\n\u001b[0;32m--> 900\u001b[0m         \u001b[38;5;28;01mraise\u001b[39;00m DatasetNotFoundError(\n\u001b[1;32m    901\u001b[0m             \u001b[38;5;124mf\u001b[39m\u001b[38;5;124m\"\u001b[39m\u001b[38;5;124mDataset \u001b[39m\u001b[38;5;132;01m{\u001b[39;00mdatasetType\u001b[38;5;241m.\u001b[39mname\u001b[38;5;132;01m}\u001b[39;00m\u001b[38;5;124m with data ID \u001b[39m\u001b[38;5;132;01m{\u001b[39;00mdataId\u001b[38;5;132;01m}\u001b[39;00m\u001b[38;5;124m \u001b[39m\u001b[38;5;124m\"\u001b[39m\n\u001b[1;32m    902\u001b[0m             \u001b[38;5;124mf\u001b[39m\u001b[38;5;124m\"\u001b[39m\u001b[38;5;124mcould not be found in collections \u001b[39m\u001b[38;5;132;01m{\u001b[39;00mcollections\u001b[38;5;132;01m}\u001b[39;00m\u001b[38;5;124m.\u001b[39m\u001b[38;5;124m\"\u001b[39m\n\u001b[1;32m    903\u001b[0m         )\n\u001b[1;32m    904\u001b[0m \u001b[38;5;28;01mif\u001b[39;00m datasetType \u001b[38;5;241m!=\u001b[39m ref\u001b[38;5;241m.\u001b[39mdatasetType:\n\u001b[1;32m    905\u001b[0m     \u001b[38;5;66;03m# If they differ it is because the user explicitly specified\u001b[39;00m\n\u001b[1;32m    906\u001b[0m     \u001b[38;5;66;03m# a compatible dataset type to this call rather than using the\u001b[39;00m\n\u001b[1;32m    907\u001b[0m     \u001b[38;5;66;03m# registry definition. The DatasetRef must therefore be recreated\u001b[39;00m\n\u001b[1;32m    908\u001b[0m     \u001b[38;5;66;03m# using the user definition such that the expected type is\u001b[39;00m\n\u001b[1;32m    909\u001b[0m     \u001b[38;5;66;03m# returned.\u001b[39;00m\n\u001b[1;32m    910\u001b[0m     ref \u001b[38;5;241m=\u001b[39m DatasetRef(\n\u001b[1;32m    911\u001b[0m         datasetType, ref\u001b[38;5;241m.\u001b[39mdataId, run\u001b[38;5;241m=\u001b[39mref\u001b[38;5;241m.\u001b[39mrun, \u001b[38;5;28mid\u001b[39m\u001b[38;5;241m=\u001b[39mref\u001b[38;5;241m.\u001b[39mid, datastore_records\u001b[38;5;241m=\u001b[39mref\u001b[38;5;241m.\u001b[39m_datastore_records\n\u001b[1;32m    912\u001b[0m     )\n",
      "\u001b[0;31mDatasetNotFoundError\u001b[0m: Dataset skyMap with data ID {skymap: 'ops_rehersal_prep_2k_v1'} could not be found in collections ['LSSTComCamSim/nightlyValidation']."
     ]
    }
   ],
   "source": [
    "skymap = butler.get('skyMap', skymap=skymapName, collections=collections)"
   ]
  },
  {
   "cell_type": "code",
   "execution_count": null,
   "id": "7ad36dc8-d8f3-4c2e-a25a-f5184ddce715",
   "metadata": {
    "execution": {
     "iopub.status.busy": "2024-06-27T09:34:02.122341Z",
     "iopub.status.idle": "2024-06-27T09:34:02.122490Z",
     "shell.execute_reply": "2024-06-27T09:34:02.122423Z",
     "shell.execute_reply.started": "2024-06-27T09:34:02.122416Z"
    }
   },
   "outputs": [],
   "source": [
    "datasetRefs = butler.registry.queryDatasets(datasetType='ccdVisitTable', collections=collections, where= where_clause)"
   ]
  },
  {
   "cell_type": "markdown",
   "id": "27516730-f774-45a1-ae13-04be7b82579f",
   "metadata": {},
   "source": [
    "## tracts and patches"
   ]
  },
  {
   "cell_type": "code",
   "execution_count": null,
   "id": "4441fa7c-d7e6-4eeb-b434-b5959d6f794b",
   "metadata": {
    "execution": {
     "iopub.status.busy": "2024-06-27T09:34:02.123116Z",
     "iopub.status.idle": "2024-06-27T09:34:02.123266Z",
     "shell.execute_reply": "2024-06-27T09:34:02.123196Z",
     "shell.execute_reply.started": "2024-06-27T09:34:02.123190Z"
    }
   },
   "outputs": [],
   "source": [
    "nImage_refs = list(butler.registry.queryDatasets('deepCoadd_nImage'))"
   ]
  },
  {
   "cell_type": "code",
   "execution_count": null,
   "id": "fab95251-a3d8-4000-b68a-ea486bac3368",
   "metadata": {
    "execution": {
     "iopub.status.busy": "2024-06-27T09:34:02.123780Z",
     "iopub.status.idle": "2024-06-27T09:34:02.123931Z",
     "shell.execute_reply": "2024-06-27T09:34:02.123859Z",
     "shell.execute_reply.started": "2024-06-27T09:34:02.123852Z"
    }
   },
   "outputs": [],
   "source": [
    "tractsId_list = np.unique([ref.dataId['tract'] for ref in nImage_refs])\n",
    "tractsId_list = sorted(tractsId_list)\n",
    "print(tractsId_list)"
   ]
  },
  {
   "cell_type": "markdown",
   "id": "8183a04f-e1e7-4ffb-b97a-90e98ac14171",
   "metadata": {},
   "source": [
    "## Visit Table"
   ]
  },
  {
   "cell_type": "code",
   "execution_count": null,
   "id": "7610a900-2201-48f2-8aaf-36a8e49c9d8d",
   "metadata": {
    "execution": {
     "iopub.status.busy": "2024-06-27T09:34:02.124551Z",
     "iopub.status.idle": "2024-06-27T09:34:02.124702Z",
     "shell.execute_reply": "2024-06-27T09:34:02.124628Z",
     "shell.execute_reply.started": "2024-06-27T09:34:02.124622Z"
    }
   },
   "outputs": [],
   "source": [
    "ccd_visit_table = butler.get('ccdVisitTable', dataId={'instrument': instrument}, collections = collections )    "
   ]
  },
  {
   "cell_type": "markdown",
   "id": "9766ece2-d1e8-4d21-ba69-e7e25c028ed6",
   "metadata": {},
   "source": [
    "### shorted visitid"
   ]
  },
  {
   "cell_type": "code",
   "execution_count": null,
   "id": "375d911c-823c-4aa9-b6dd-d24570a88aba",
   "metadata": {
    "execution": {
     "iopub.status.busy": "2024-06-27T09:34:02.125092Z",
     "iopub.status.idle": "2024-06-27T09:34:02.125242Z",
     "shell.execute_reply": "2024-06-27T09:34:02.125176Z",
     "shell.execute_reply.started": "2024-06-27T09:34:02.125169Z"
    }
   },
   "outputs": [],
   "source": [
    "ccd_visit_table[\"ccdVid\"] = ccd_visit_table.index -  ccd_visit_table.index[0]\n",
    "ccd_visit_table[\"Vid\"] = ccd_visit_table[\"visitId\"]  -   ccd_visit_table[\"visitId\"].iloc[0]"
   ]
  },
  {
   "cell_type": "markdown",
   "id": "e1d0cce7-d412-4880-b59f-c967bf161ac5",
   "metadata": {},
   "source": [
    "### Get nightObs, Time-datetime, airmass"
   ]
  },
  {
   "cell_type": "code",
   "execution_count": null,
   "id": "af5a677a-e754-4a7c-8280-ae17e73806dc",
   "metadata": {
    "execution": {
     "iopub.status.busy": "2024-06-27T09:34:02.125696Z",
     "iopub.status.idle": "2024-06-27T09:34:02.125843Z",
     "shell.execute_reply": "2024-06-27T09:34:02.125771Z",
     "shell.execute_reply.started": "2024-06-27T09:34:02.125765Z"
    }
   },
   "outputs": [],
   "source": [
    "#subtract the a bug number to have normal dates\n",
    "ccd_visit_table[\"nightObs\"] = ccd_visit_table.apply(lambda x: x['visitId']//100_000 - 50000000, axis=1)\n",
    "ccd_visit_table[\"nightObs\"]"
   ]
  },
  {
   "cell_type": "code",
   "execution_count": null,
   "id": "bd93094a-d92f-4bff-a1cd-0bc639a9bf37",
   "metadata": {
    "execution": {
     "iopub.status.busy": "2024-06-27T09:34:02.126432Z",
     "iopub.status.idle": "2024-06-27T09:34:02.126659Z",
     "shell.execute_reply": "2024-06-27T09:34:02.126511Z",
     "shell.execute_reply.started": "2024-06-27T09:34:02.126504Z"
    }
   },
   "outputs": [],
   "source": [
    "#  get time\n",
    "ccd_visit_table[\"Time\"] = pd.to_datetime(ccd_visit_table['obsStart'])"
   ]
  },
  {
   "cell_type": "code",
   "execution_count": null,
   "id": "37e0357b-4e96-4990-870a-fa3d774ebff3",
   "metadata": {
    "execution": {
     "iopub.status.busy": "2024-06-27T09:34:02.127297Z",
     "iopub.status.idle": "2024-06-27T09:34:02.127446Z",
     "shell.execute_reply": "2024-06-27T09:34:02.127373Z",
     "shell.execute_reply.started": "2024-06-27T09:34:02.127366Z"
    }
   },
   "outputs": [],
   "source": [
    "# get airmass\n",
    "ccd_visit_table[\"airmass\"] = ccd_visit_table[\"zenithDistance\"].apply(lambda x: 1/np.cos(np.pi/180.*x))"
   ]
  },
  {
   "cell_type": "code",
   "execution_count": null,
   "id": "0e81e22b-2b12-43a2-8f87-f3a9b77ff3f4",
   "metadata": {
    "execution": {
     "iopub.status.busy": "2024-06-27T09:34:02.127820Z",
     "iopub.status.idle": "2024-06-27T09:34:02.127965Z",
     "shell.execute_reply": "2024-06-27T09:34:02.127899Z",
     "shell.execute_reply.started": "2024-06-27T09:34:02.127893Z"
    }
   },
   "outputs": [],
   "source": [
    "#ccd_visit_table_subset = ccd_visit_table[[\"ra\",\"dec\"]].iloc[:10]\n",
    "#ccd_visit_table_subset[[\"tractID\",\"patchID\"]] =  ccd_visit_table_subset.apply( FindTractAndPatch, axis=1,result_type ='expand')"
   ]
  },
  {
   "cell_type": "code",
   "execution_count": null,
   "id": "a8597728-0c5c-4aa6-82db-8ac4df73f748",
   "metadata": {
    "execution": {
     "iopub.status.busy": "2024-06-27T09:34:02.128341Z",
     "iopub.status.idle": "2024-06-27T09:34:02.128479Z",
     "shell.execute_reply": "2024-06-27T09:34:02.128414Z",
     "shell.execute_reply.started": "2024-06-27T09:34:02.128408Z"
    }
   },
   "outputs": [],
   "source": [
    "# to speed up the calculation of tractID, patchID per visit, this file is saved\n",
    "# or read back\n",
    "if os.path.isfile(fn_ccdVisit_tracts_patches):\n",
    "    print(f\"{fn_ccdVisit_tracts_patches} found !!! ==> Read it !!!\" )\n",
    "    ccd_visit_tract_patch_table = pd.read_csv(fn_ccdVisit_tracts_patches) \n",
    "    ccd_visit_tract_patch_table.set_index(\"ccdVisitId\",inplace=True)\n",
    "    ccd_visit_tract_patch_table_only = ccd_visit_tract_patch_table[[\"tractID\",\"patchID\"]]\n",
    "    ccd_visit_table = ccd_visit_table.join(ccd_visit_tract_patch_table_only)\n",
    "else:\n",
    "    print(f\"{fn_ccdVisit_tracts_patches} NOT found !!! ==> Create it !!! \" )\n",
    "    ccd_visit_table[[\"tractID\",\"patchID\"]] = ccd_visit_table.apply(FindTractAndPatch, axis=1,result_type ='expand')\n",
    "    # check if some (tract,patch) search failed\n",
    "    ccd_visit_table_patchnotfound = ccd_visit_table[ccd_visit_table.patchID==0]\n",
    "    if len(ccd_visit_table_patchnotfound)>0:\n",
    "        ccd_visit_table_patchnotfound.drop(columns=[\"tractID\",\"patchID\"],inplace=True)\n",
    "        ccd_visit_table_patchnotfound[[\"tractID\",\"patchID\"]] = ccd_visit_table_patchnotfound.apply(FindTractAndPatchFromAngularSep, axis=1,result_type ='expand')\n",
    "        for visitindex, row in ccd_visit_table_patchnotfound.iterrows(): \n",
    "            ccd_visit_table.loc[visitindex,[\"tractID\",\"patchID\"]] = ccd_visit_table_patchnotfound.loc[visitindex,[\"tractID\",\"patchID\"]]\n",
    "    #save a subsample for the visit \n",
    "    columns_selected = [\"visitId\",\"band\",\"detector\",\"ra\",\"dec\",\"llcra\",\"llcdec\",\"ulcra\",\"ulcdec\",\"urcra\",\"urcdec\",\"lrcra\",\"lrcdec\",\"ccdVid\",\"Vid\",\"nightObs\",\"tractID\",\"patchID\",\"zeroPoint\",\"airmass\",\"skyBg\",\"skyNoise\",\"expTime\"]\n",
    "    ccd_visit_tract_patch_table = ccd_visit_table[columns_selected]\n",
    "    ccd_visit_tract_patch_table.to_csv(fn_ccdVisit_tracts_patches) "
   ]
  },
  {
   "cell_type": "code",
   "execution_count": null,
   "id": "a6ba5557-a262-46ec-9399-190588a09a77",
   "metadata": {
    "execution": {
     "iopub.status.busy": "2024-06-27T09:34:02.128828Z",
     "iopub.status.idle": "2024-06-27T09:34:02.128969Z",
     "shell.execute_reply": "2024-06-27T09:34:02.128901Z",
     "shell.execute_reply.started": "2024-06-27T09:34:02.128895Z"
    }
   },
   "outputs": [],
   "source": [
    "#ccd_visit_table[[\"tractID\",\"patchID\"]] = ccd_visit_table.apply( FindTractAndPatch, axis=1,result_type ='expand')"
   ]
  },
  {
   "cell_type": "code",
   "execution_count": null,
   "id": "fbb02fad-120b-413e-bdc1-f9b02dfe3779",
   "metadata": {
    "execution": {
     "iopub.status.busy": "2024-06-27T09:34:02.129698Z",
     "iopub.status.idle": "2024-06-27T09:34:02.129845Z",
     "shell.execute_reply": "2024-06-27T09:34:02.129773Z",
     "shell.execute_reply.started": "2024-06-27T09:34:02.129766Z"
    }
   },
   "outputs": [],
   "source": [
    "ccd_visit_table"
   ]
  },
  {
   "cell_type": "code",
   "execution_count": null,
   "id": "7ee6d652-a689-4f93-b096-531bf82f74f8",
   "metadata": {
    "execution": {
     "iopub.status.busy": "2024-06-27T09:34:02.130296Z",
     "iopub.status.idle": "2024-06-27T09:34:02.130446Z",
     "shell.execute_reply": "2024-06-27T09:34:02.130374Z",
     "shell.execute_reply.started": "2024-06-27T09:34:02.130367Z"
    }
   },
   "outputs": [],
   "source": [
    "plotAVisit(ccd_visit_table.iloc[0])"
   ]
  },
  {
   "cell_type": "markdown",
   "id": "ed7675a7-077c-429b-9140-b3f49f90f367",
   "metadata": {},
   "source": [
    "## Statistic per detector and per band"
   ]
  },
  {
   "cell_type": "code",
   "execution_count": null,
   "id": "149567b9-8846-42e2-b572-c679850ab654",
   "metadata": {
    "execution": {
     "iopub.status.busy": "2024-06-27T09:34:02.130777Z",
     "iopub.status.idle": "2024-06-27T09:34:02.130914Z",
     "shell.execute_reply": "2024-06-27T09:34:02.130850Z",
     "shell.execute_reply.started": "2024-06-27T09:34:02.130844Z"
    }
   },
   "outputs": [],
   "source": [
    "ser_ccdvisit_perdetectorband_size = ccd_visit_table.groupby([\"detector\",\"band\"]).size()"
   ]
  },
  {
   "cell_type": "code",
   "execution_count": null,
   "id": "85af9612-0fd1-430f-b0e5-dcf62b6cc188",
   "metadata": {
    "execution": {
     "iopub.status.busy": "2024-06-27T09:34:02.131350Z",
     "iopub.status.idle": "2024-06-27T09:34:02.131493Z",
     "shell.execute_reply": "2024-06-27T09:34:02.131426Z",
     "shell.execute_reply.started": "2024-06-27T09:34:02.131420Z"
    }
   },
   "outputs": [],
   "source": [
    "ser_ccdvisit_perdetectorband_size"
   ]
  },
  {
   "cell_type": "code",
   "execution_count": null,
   "id": "07925691-8a0c-4af7-8de9-7556ae2d206d",
   "metadata": {
    "execution": {
     "iopub.status.busy": "2024-06-27T09:34:02.132015Z",
     "iopub.status.idle": "2024-06-27T09:34:02.132168Z",
     "shell.execute_reply": "2024-06-27T09:34:02.132089Z",
     "shell.execute_reply.started": "2024-06-27T09:34:02.132083Z"
    }
   },
   "outputs": [],
   "source": [
    "df_ccdvisit_perdetectorband = ser_ccdvisit_perdetectorband_size.unstack(level=1)\n",
    "df_ccdvisit_perdetectorband "
   ]
  },
  {
   "cell_type": "code",
   "execution_count": null,
   "id": "3a65709b-2e8c-4f36-8a9e-5d9af3406cd1",
   "metadata": {
    "execution": {
     "iopub.status.busy": "2024-06-27T09:34:02.132492Z",
     "iopub.status.idle": "2024-06-27T09:34:02.132633Z",
     "shell.execute_reply": "2024-06-27T09:34:02.132566Z",
     "shell.execute_reply.started": "2024-06-27T09:34:02.132560Z"
    }
   },
   "outputs": [],
   "source": [
    "my_colors = list(islice(cycle(['g', 'r', 'orange']), None, len(df_ccdvisit_perdetectorband)))"
   ]
  },
  {
   "cell_type": "code",
   "execution_count": null,
   "id": "0c8b9dc9-2e24-455e-88c4-e909346f447b",
   "metadata": {
    "execution": {
     "iopub.status.busy": "2024-06-27T09:34:02.133160Z",
     "iopub.status.idle": "2024-06-27T09:34:02.133308Z",
     "shell.execute_reply": "2024-06-27T09:34:02.133236Z",
     "shell.execute_reply.started": "2024-06-27T09:34:02.133229Z"
    }
   },
   "outputs": [],
   "source": [
    "df_ccdvisit_perdetectorband.plot.bar(color=my_colors,rot=0,title=\"Number of ccdvisits per detector and per filter\") "
   ]
  },
  {
   "cell_type": "code",
   "execution_count": null,
   "id": "428b1da2-3938-421d-8b24-bfbf4c10ecc2",
   "metadata": {
    "execution": {
     "iopub.status.busy": "2024-06-27T09:34:02.133612Z",
     "iopub.status.idle": "2024-06-27T09:34:02.133746Z",
     "shell.execute_reply": "2024-06-27T09:34:02.133683Z",
     "shell.execute_reply.started": "2024-06-27T09:34:02.133677Z"
    }
   },
   "outputs": [],
   "source": [
    "cmap = ListedColormap(sns.color_palette(\"hls\", NDET))\n",
    "all_det_colors = [cmap.colors[idx] for idx in range(NDET)]"
   ]
  },
  {
   "cell_type": "code",
   "execution_count": null,
   "id": "fdbaff19-33d4-4b08-9fe7-30846651a8a0",
   "metadata": {
    "execution": {
     "iopub.status.busy": "2024-06-27T09:34:02.134215Z",
     "iopub.status.idle": "2024-06-27T09:34:02.134354Z",
     "shell.execute_reply": "2024-06-27T09:34:02.134288Z",
     "shell.execute_reply.started": "2024-06-27T09:34:02.134282Z"
    }
   },
   "outputs": [],
   "source": [
    "df_ccdvisit_perdetectorband = ser_ccdvisit_perdetectorband_size.unstack(level=0)\n",
    "df_ccdvisit_perdetectorband "
   ]
  },
  {
   "cell_type": "code",
   "execution_count": null,
   "id": "371c9a3c-568f-4366-abd1-f0b566082ca8",
   "metadata": {
    "execution": {
     "iopub.status.busy": "2024-06-27T09:34:02.134951Z",
     "iopub.status.idle": "2024-06-27T09:34:02.135095Z",
     "shell.execute_reply": "2024-06-27T09:34:02.135027Z",
     "shell.execute_reply.started": "2024-06-27T09:34:02.135021Z"
    }
   },
   "outputs": [],
   "source": [
    "df_ccdvisit_perdetectorband.plot.bar(color=all_det_colors + all_det_colors + all_det_colors,rot=0,title=\"Number of CCDvisits per detector and per filter\") "
   ]
  },
  {
   "cell_type": "code",
   "execution_count": null,
   "id": "baf3e1e4-5f7b-4b3b-ab6c-3b763293ec70",
   "metadata": {
    "execution": {
     "iopub.status.busy": "2024-06-27T09:34:02.135592Z",
     "iopub.status.idle": "2024-06-27T09:34:02.135795Z",
     "shell.execute_reply": "2024-06-27T09:34:02.135714Z",
     "shell.execute_reply.started": "2024-06-27T09:34:02.135704Z"
    }
   },
   "outputs": [],
   "source": [
    "my_colors = list(islice(cycle(['g', 'r', 'orange']), None, NDET))\n",
    "ser_ccdvisit_perdetectorband_size.plot.bar(x=\"detector\",color=my_colors,title=\"Number of ccdvisits per detector and per filter\")"
   ]
  },
  {
   "cell_type": "markdown",
   "id": "a52c001e-8d57-4541-862a-6a2d86001ef6",
   "metadata": {},
   "source": [
    "## Visits"
   ]
  },
  {
   "cell_type": "code",
   "execution_count": null,
   "id": "500e1696-adce-49ba-8c10-0cbf840c8432",
   "metadata": {
    "execution": {
     "iopub.status.busy": "2024-06-27T09:34:02.136357Z",
     "iopub.status.idle": "2024-06-27T09:34:02.136520Z",
     "shell.execute_reply": "2024-06-27T09:34:02.136444Z",
     "shell.execute_reply.started": "2024-06-27T09:34:02.136437Z"
    }
   },
   "outputs": [],
   "source": [
    "ser_tract_det_size = ccd_visit_table[[\"Vid\",\"ccdVid\",\"detector\",\"tractID\",\"patchID\"]].groupby([\"tractID\",\"detector\"]).size()"
   ]
  },
  {
   "cell_type": "code",
   "execution_count": null,
   "id": "43346477-7539-49e4-91cd-5dd94dd1064c",
   "metadata": {
    "execution": {
     "iopub.status.busy": "2024-06-27T09:34:02.137034Z",
     "iopub.status.idle": "2024-06-27T09:34:02.137187Z",
     "shell.execute_reply": "2024-06-27T09:34:02.137117Z",
     "shell.execute_reply.started": "2024-06-27T09:34:02.137110Z"
    }
   },
   "outputs": [],
   "source": [
    "ser_tract_det_size"
   ]
  },
  {
   "cell_type": "code",
   "execution_count": null,
   "id": "e2c5f6e2-3797-4c16-89ee-b8f48c1dfce0",
   "metadata": {
    "execution": {
     "iopub.status.busy": "2024-06-27T09:34:02.137722Z",
     "iopub.status.idle": "2024-06-27T09:34:02.137874Z",
     "shell.execute_reply": "2024-06-27T09:34:02.137800Z",
     "shell.execute_reply.started": "2024-06-27T09:34:02.137793Z"
    }
   },
   "outputs": [],
   "source": [
    "df_ccdvisit_pertractdet = ser_tract_det_size.unstack(level=1)"
   ]
  },
  {
   "cell_type": "code",
   "execution_count": null,
   "id": "d27e48a8-5bad-42be-936e-253d6e3113a5",
   "metadata": {
    "execution": {
     "iopub.status.busy": "2024-06-27T09:34:02.138293Z",
     "iopub.status.idle": "2024-06-27T09:34:02.138435Z",
     "shell.execute_reply": "2024-06-27T09:34:02.138369Z",
     "shell.execute_reply.started": "2024-06-27T09:34:02.138363Z"
    }
   },
   "outputs": [],
   "source": [
    "df_ccdvisit_pertractdet"
   ]
  },
  {
   "cell_type": "code",
   "execution_count": null,
   "id": "0cd26327-83e4-4ca8-b410-93c88eb17bb1",
   "metadata": {
    "execution": {
     "iopub.status.busy": "2024-06-27T09:34:02.138980Z",
     "iopub.status.idle": "2024-06-27T09:34:02.139135Z",
     "shell.execute_reply": "2024-06-27T09:34:02.139057Z",
     "shell.execute_reply.started": "2024-06-27T09:34:02.139051Z"
    }
   },
   "outputs": [],
   "source": [
    "df_ccdvisit_pertractdet.plot.bar(color=all_det_colors,title=\"Number of ccdvisits per patch per detector\",grid=True) "
   ]
  },
  {
   "cell_type": "markdown",
   "id": "cc4496e0-5549-4827-b7c0-956350444b83",
   "metadata": {},
   "source": [
    "## Understanding Vid and tractId"
   ]
  },
  {
   "cell_type": "code",
   "execution_count": null,
   "id": "3a64c763-71e6-4b19-8307-5fb0dbfe88fb",
   "metadata": {
    "execution": {
     "iopub.status.busy": "2024-06-27T09:34:02.139479Z",
     "iopub.status.idle": "2024-06-27T09:34:02.139717Z",
     "shell.execute_reply": "2024-06-27T09:34:02.139649Z",
     "shell.execute_reply.started": "2024-06-27T09:34:02.139642Z"
    }
   },
   "outputs": [],
   "source": [
    "List_OfTracts = df_ccdvisit_pertractdet.index\n",
    "NTracts = len(List_OfTracts)-1\n",
    "NTracts"
   ]
  },
  {
   "cell_type": "code",
   "execution_count": null,
   "id": "64fcc978-300b-462c-ab88-e47f5fdedaaf",
   "metadata": {
    "execution": {
     "iopub.status.busy": "2024-06-27T09:34:02.140191Z",
     "iopub.status.idle": "2024-06-27T09:34:02.140358Z",
     "shell.execute_reply": "2024-06-27T09:34:02.140280Z",
     "shell.execute_reply.started": "2024-06-27T09:34:02.140273Z"
    }
   },
   "outputs": [],
   "source": [
    "cmap = ListedColormap(sns.color_palette(\"hls\", NTracts))\n",
    "list_tracts_colors = [cmap.colors[idx] for idx in range(NTracts)]"
   ]
  },
  {
   "cell_type": "code",
   "execution_count": null,
   "id": "cbd5fc92-d162-4279-bd40-d0512c263a80",
   "metadata": {
    "execution": {
     "iopub.status.busy": "2024-06-27T09:34:02.140840Z",
     "iopub.status.idle": "2024-06-27T09:34:02.140997Z",
     "shell.execute_reply": "2024-06-27T09:34:02.140921Z",
     "shell.execute_reply.started": "2024-06-27T09:34:02.140915Z"
    }
   },
   "outputs": [],
   "source": [
    "list_tracts_colors = [ colors.to_rgb('k') ] + list_tracts_colors"
   ]
  },
  {
   "cell_type": "code",
   "execution_count": null,
   "id": "a0b5ca6b-3519-4160-bca6-98646730618c",
   "metadata": {
    "execution": {
     "iopub.status.busy": "2024-06-27T09:34:02.141357Z",
     "iopub.status.idle": "2024-06-27T09:34:02.141498Z",
     "shell.execute_reply": "2024-06-27T09:34:02.141432Z",
     "shell.execute_reply.started": "2024-06-27T09:34:02.141426Z"
    }
   },
   "outputs": [],
   "source": [
    "len(list_tracts_colors)"
   ]
  },
  {
   "cell_type": "code",
   "execution_count": null,
   "id": "d0f8ff48-9269-4018-bf22-0d9c8bb4b212",
   "metadata": {
    "execution": {
     "iopub.status.busy": "2024-06-27T09:34:02.141950Z",
     "iopub.status.idle": "2024-06-27T09:34:02.142098Z",
     "shell.execute_reply": "2024-06-27T09:34:02.142026Z",
     "shell.execute_reply.started": "2024-06-27T09:34:02.142019Z"
    }
   },
   "outputs": [],
   "source": [
    "dict_tract_colors = {}\n",
    "for idx,itr in enumerate(List_OfTracts):\n",
    "    dict_tract_colors[itr] = list_tracts_colors[idx]\n",
    "    "
   ]
  },
  {
   "cell_type": "code",
   "execution_count": null,
   "id": "947d45ac-37c1-464a-92fd-de0ecfef7bc8",
   "metadata": {
    "execution": {
     "iopub.status.busy": "2024-06-27T09:34:02.142608Z",
     "iopub.status.idle": "2024-06-27T09:34:02.142757Z",
     "shell.execute_reply": "2024-06-27T09:34:02.142686Z",
     "shell.execute_reply.started": "2024-06-27T09:34:02.142679Z"
    }
   },
   "outputs": [],
   "source": [
    "all_colors = [ dict_tract_colors[itr] for itr in ccd_visit_table[\"tractID\"].values]"
   ]
  },
  {
   "cell_type": "code",
   "execution_count": null,
   "id": "d1003bc6-4620-4b4f-a179-9bfb17115e14",
   "metadata": {
    "execution": {
     "iopub.status.busy": "2024-06-27T09:34:02.143211Z",
     "iopub.status.idle": "2024-06-27T09:34:02.143354Z",
     "shell.execute_reply": "2024-06-27T09:34:02.143286Z",
     "shell.execute_reply.started": "2024-06-27T09:34:02.143280Z"
    }
   },
   "outputs": [],
   "source": [
    "ccd_visit_table.plot.scatter(y=\"tractID\",x =\"Vid\",marker='o',color=all_colors,title=\"tractID vs visit sequence number\",grid=True)"
   ]
  },
  {
   "cell_type": "code",
   "execution_count": null,
   "id": "cb92f6a9-11b2-49ac-851c-dc341b704d3c",
   "metadata": {
    "execution": {
     "iopub.status.busy": "2024-06-27T09:34:02.143880Z",
     "iopub.status.idle": "2024-06-27T09:34:02.144027Z",
     "shell.execute_reply": "2024-06-27T09:34:02.143956Z",
     "shell.execute_reply.started": "2024-06-27T09:34:02.143949Z"
    }
   },
   "outputs": [],
   "source": [
    "List_OfTracts"
   ]
  },
  {
   "cell_type": "markdown",
   "id": "cefead17-d2c6-44ac-a4a5-6205594df156",
   "metadata": {
    "execution": {
     "iopub.status.busy": "2024-04-12T20:40:36.694890Z",
     "iopub.status.idle": "2024-04-12T20:40:36.695044Z",
     "shell.execute_reply": "2024-04-12T20:40:36.694972Z",
     "shell.execute_reply.started": "2024-04-12T20:40:36.694965Z"
    }
   },
   "source": [
    "## simple visit table"
   ]
  },
  {
   "cell_type": "code",
   "execution_count": null,
   "id": "8cdde4dd-ba76-46c8-87a0-7988d1ee365e",
   "metadata": {
    "execution": {
     "iopub.status.busy": "2024-06-27T09:34:02.144393Z",
     "iopub.status.idle": "2024-06-27T09:34:02.144532Z",
     "shell.execute_reply": "2024-06-27T09:34:02.144467Z",
     "shell.execute_reply.started": "2024-06-27T09:34:02.144461Z"
    }
   },
   "outputs": [],
   "source": [
    "visit_table = butler.get('visitTable', dataId={'instrument': instrument}, collections = collections )    \n",
    "visit_table"
   ]
  },
  {
   "cell_type": "markdown",
   "id": "9259726b-08d2-4ef3-8615-cac199e13115",
   "metadata": {},
   "source": [
    "## Find Tracts involved for each date"
   ]
  },
  {
   "cell_type": "code",
   "execution_count": null,
   "id": "fb617638-2544-4265-a15f-30e551ee7f86",
   "metadata": {
    "execution": {
     "iopub.status.busy": "2024-06-27T09:34:02.144925Z",
     "iopub.status.idle": "2024-06-27T09:34:02.145066Z",
     "shell.execute_reply": "2024-06-27T09:34:02.145000Z",
     "shell.execute_reply.started": "2024-06-27T09:34:02.144994Z"
    }
   },
   "outputs": [],
   "source": [
    "df = ccd_visit_table"
   ]
  },
  {
   "cell_type": "code",
   "execution_count": null,
   "id": "396eaff6-0fcd-400d-ba4c-e9fc0554f80f",
   "metadata": {
    "execution": {
     "iopub.status.busy": "2024-06-27T09:34:02.145642Z",
     "iopub.status.idle": "2024-06-27T09:34:02.145787Z",
     "shell.execute_reply": "2024-06-27T09:34:02.145717Z",
     "shell.execute_reply.started": "2024-06-27T09:34:02.145711Z"
    }
   },
   "outputs": [],
   "source": [
    "df_stat_pertract = df.groupby(by=[\"nightObs\",\"tractID\"]).count()[\"visitId\"]\n",
    "df_stat_pertract"
   ]
  },
  {
   "cell_type": "code",
   "execution_count": null,
   "id": "94f0d137-3ed2-47a7-90a6-008cc07b6715",
   "metadata": {
    "execution": {
     "iopub.status.busy": "2024-06-27T09:34:02.146240Z",
     "iopub.status.idle": "2024-06-27T09:34:02.146388Z",
     "shell.execute_reply": "2024-06-27T09:34:02.146316Z",
     "shell.execute_reply.started": "2024-06-27T09:34:02.146310Z"
    }
   },
   "outputs": [],
   "source": [
    "ax = df_stat_pertract.unstack(level=1).plot(kind='bar', subplots=False, rot=90,figsize=(16,8),grid=True)\n",
    "plt.tight_layout()"
   ]
  },
  {
   "cell_type": "code",
   "execution_count": null,
   "id": "7d3acaf0-e941-4cf9-ba0d-e7671eb7089e",
   "metadata": {
    "execution": {
     "iopub.status.busy": "2024-06-27T09:34:02.146763Z",
     "iopub.status.idle": "2024-06-27T09:34:02.146903Z",
     "shell.execute_reply": "2024-06-27T09:34:02.146839Z",
     "shell.execute_reply.started": "2024-06-27T09:34:02.146833Z"
    }
   },
   "outputs": [],
   "source": [
    "ax = df_stat_pertract.unstack(level=0).plot(kind='bar', subplots=False, rot=90,figsize=(16,5),grid=True)\n",
    "plt.tight_layout()"
   ]
  },
  {
   "cell_type": "markdown",
   "id": "1e70f9ef-9d6d-49ae-8bf4-ec6f97f7c506",
   "metadata": {},
   "source": [
    "## Pandas series"
   ]
  },
  {
   "cell_type": "code",
   "execution_count": null,
   "id": "4e9f5fd4-4c84-4507-980f-a1121c58e4fe",
   "metadata": {
    "execution": {
     "iopub.status.busy": "2024-06-27T09:34:02.147447Z",
     "iopub.status.idle": "2024-06-27T09:34:02.147594Z",
     "shell.execute_reply": "2024-06-27T09:34:02.147523Z",
     "shell.execute_reply.started": "2024-06-27T09:34:02.147517Z"
    }
   },
   "outputs": [],
   "source": [
    "ccd_visit_table_counts = df.groupby(['nightObs','band']).count()[\"visitId\"]\n",
    "ccd_visit_table_counts_g = df[df[\"band\"] == \"g\"].groupby(['nightObs']).count()[\"visitId\"]\n",
    "ccd_visit_table_counts_r = df[df[\"band\"] == \"r\"].groupby(['nightObs']).count()[\"visitId\"]\n",
    "ccd_visit_table_counts_i = df[df[\"band\"] == \"i\"].groupby(['nightObs']).count()[\"visitId\"]\n",
    "ccd_visit_table_counts_z = df[df[\"band\"] == \"z\"].groupby(['nightObs']).count()[\"visitId\"]\n",
    "ccd_visit_table_counts_y = df[df[\"band\"] == \"y\"].groupby(['nightObs']).count()[\"visitId\"]"
   ]
  },
  {
   "cell_type": "code",
   "execution_count": null,
   "id": "ea1b661d-55f6-41e3-8951-cb7d0e4ad95c",
   "metadata": {
    "execution": {
     "iopub.status.busy": "2024-06-27T09:34:02.147995Z",
     "iopub.status.idle": "2024-06-27T09:34:02.148140Z",
     "shell.execute_reply": "2024-06-27T09:34:02.148068Z",
     "shell.execute_reply.started": "2024-06-27T09:34:02.148062Z"
    }
   },
   "outputs": [],
   "source": [
    "print(ccd_visit_table_counts)"
   ]
  },
  {
   "cell_type": "markdown",
   "id": "641d1bbf-0c6c-484b-9ee2-8d9acc301bbf",
   "metadata": {},
   "source": [
    "### Observation date-time"
   ]
  },
  {
   "cell_type": "code",
   "execution_count": null,
   "id": "8354a720-6fc0-4b0b-80c0-5d526e83da66",
   "metadata": {
    "execution": {
     "iopub.status.busy": "2024-06-27T09:34:02.148769Z",
     "iopub.status.idle": "2024-06-27T09:34:02.148927Z",
     "shell.execute_reply": "2024-06-27T09:34:02.148850Z",
     "shell.execute_reply.started": "2024-06-27T09:34:02.148844Z"
    }
   },
   "outputs": [],
   "source": [
    "def convertNumToDatestr(num):\n",
    "    year = num//10_000\n",
    "    month= (num-year*10_000)//100\n",
    "    day = (num-year*10_000-month*100)\n",
    "\n",
    "    year_str = str(year).zfill(4)\n",
    "    month_str = str(month).zfill(2)\n",
    "    day_str = str(day).zfill(2)\n",
    "    \n",
    "    datestr = f\"{year_str}-{month_str}-{day_str}\"\n",
    "    return pd.to_datetime(datestr)"
   ]
  },
  {
   "cell_type": "code",
   "execution_count": null,
   "id": "ab3e784a-063e-4598-96f0-d7cec7810f09",
   "metadata": {
    "execution": {
     "iopub.status.busy": "2024-06-27T09:34:02.149359Z",
     "iopub.status.idle": "2024-06-27T09:34:02.149502Z",
     "shell.execute_reply": "2024-06-27T09:34:02.149435Z",
     "shell.execute_reply.started": "2024-06-27T09:34:02.149429Z"
    }
   },
   "outputs": [],
   "source": [
    "[convertNumToDatestr(num) for num in ccd_visit_table_counts_g.index ]"
   ]
  },
  {
   "cell_type": "code",
   "execution_count": null,
   "id": "dd367322-d689-461d-843c-8fa30406c10e",
   "metadata": {
    "execution": {
     "iopub.status.busy": "2024-06-27T09:34:02.150078Z",
     "iopub.status.idle": "2024-06-27T09:34:02.150243Z",
     "shell.execute_reply": "2024-06-27T09:34:02.150170Z",
     "shell.execute_reply.started": "2024-06-27T09:34:02.150164Z"
    }
   },
   "outputs": [],
   "source": [
    "dt_g = pd.to_datetime([convertNumToDatestr(num) for num in ccd_visit_table_counts_g.index])\n",
    "dt_r = pd.to_datetime([convertNumToDatestr(num) for num in ccd_visit_table_counts_r.index ])\n",
    "dt_i = pd.to_datetime([convertNumToDatestr(num) for num in ccd_visit_table_counts_i.index ])\n",
    "dt_z = pd.to_datetime([convertNumToDatestr(num) for num in ccd_visit_table_counts_z.index ])\n",
    "dt_y = pd.to_datetime([convertNumToDatestr(num) for num in ccd_visit_table_counts_y.index ])"
   ]
  },
  {
   "cell_type": "markdown",
   "id": "6131690e-c4be-4146-8a1c-0867a075c137",
   "metadata": {},
   "source": [
    "### observation counts"
   ]
  },
  {
   "cell_type": "code",
   "execution_count": null,
   "id": "14ea2819-a052-4b32-b0a7-39fc87038326",
   "metadata": {
    "execution": {
     "iopub.status.busy": "2024-06-27T09:34:02.150584Z",
     "iopub.status.idle": "2024-06-27T09:34:02.150721Z",
     "shell.execute_reply": "2024-06-27T09:34:02.150657Z",
     "shell.execute_reply.started": "2024-06-27T09:34:02.150651Z"
    }
   },
   "outputs": [],
   "source": [
    "n_g = ccd_visit_table_counts_g.values\n",
    "n_r = ccd_visit_table_counts_r.values\n",
    "n_i = ccd_visit_table_counts_i.values\n",
    "n_z = ccd_visit_table_counts_z.values\n",
    "n_y = ccd_visit_table_counts_y.values"
   ]
  },
  {
   "cell_type": "code",
   "execution_count": null,
   "id": "c5e67338-3cd1-451a-b19a-51d4bb2a6b8c",
   "metadata": {
    "execution": {
     "iopub.status.busy": "2024-06-27T09:34:02.151163Z",
     "iopub.status.idle": "2024-06-27T09:34:02.151308Z",
     "shell.execute_reply": "2024-06-27T09:34:02.151240Z",
     "shell.execute_reply.started": "2024-06-27T09:34:02.151234Z"
    }
   },
   "outputs": [],
   "source": [
    "n_g_tot = np.sum(n_g)\n",
    "n_r_tot = np.sum(n_r)\n",
    "n_i_tot = np.sum(n_i)\n",
    "n_z_tot = np.sum(n_z)\n",
    "n_y_tot = np.sum(n_y)\n",
    "\n",
    "n_g_min = np.min(n_g)\n",
    "n_r_min = np.min(n_r)\n",
    "n_i_min = np.min(n_i)\n",
    "#n_z_min = np.min(n_z)\n",
    "#n_y_min = np.min(n_y)\n",
    "\n",
    "n_g_max = np.max(n_g)\n",
    "n_r_max = np.max(n_r)\n",
    "n_i_max = np.max(n_i)\n",
    "#n_z_max = np.max(n_z)\n",
    "#n_y_max = np.max(n_y)"
   ]
  },
  {
   "cell_type": "markdown",
   "id": "104126b5-1b43-465f-a727-69af0e0b3654",
   "metadata": {},
   "source": [
    "### Observation count sum"
   ]
  },
  {
   "cell_type": "code",
   "execution_count": null,
   "id": "c884b778-7f76-4719-8ab6-25545b3343c9",
   "metadata": {
    "execution": {
     "iopub.status.busy": "2024-06-27T09:34:02.151819Z",
     "iopub.status.idle": "2024-06-27T09:34:02.151967Z",
     "shell.execute_reply": "2024-06-27T09:34:02.151896Z",
     "shell.execute_reply.started": "2024-06-27T09:34:02.151890Z"
    }
   },
   "outputs": [],
   "source": [
    "s_g = n_g.cumsum()\n",
    "s_r = n_r.cumsum()\n",
    "s_i = n_i.cumsum()\n",
    "s_z = n_z.cumsum()\n",
    "s_y = n_y.cumsum()"
   ]
  },
  {
   "cell_type": "markdown",
   "id": "2dcf3434-5c52-4044-b8e9-eed900fda8fe",
   "metadata": {
    "execution": {
     "iopub.execute_input": "2024-01-16T13:57:48.164851Z",
     "iopub.status.busy": "2024-01-16T13:57:48.164658Z",
     "iopub.status.idle": "2024-01-16T13:57:48.168090Z",
     "shell.execute_reply": "2024-01-16T13:57:48.167605Z",
     "shell.execute_reply.started": "2024-01-16T13:57:48.164837Z"
    }
   },
   "source": [
    "## Plot"
   ]
  },
  {
   "cell_type": "code",
   "execution_count": null,
   "id": "f3e9c313-41cf-46e5-9b2f-1815402f8919",
   "metadata": {
    "execution": {
     "iopub.status.busy": "2024-06-27T09:34:02.152639Z",
     "iopub.status.idle": "2024-06-27T09:34:02.152793Z",
     "shell.execute_reply": "2024-06-27T09:34:02.152719Z",
     "shell.execute_reply.started": "2024-06-27T09:34:02.152713Z"
    }
   },
   "outputs": [],
   "source": [
    "import matplotlib.dates as mdates\n",
    "month_locator = mdates.MonthLocator(interval=1)\n",
    "day_locator = mdates.DayLocator(interval=1)\n",
    "year_month_formatter = mdates.DateFormatter(\"%Y-%m\") \n",
    "fig, axs = plt.subplots(5,1,figsize=(16, 10),sharex=True)\n",
    "\n",
    "ax1,ax2,ax3,ax4,ax5 = axs\n",
    "\n",
    "# fit 1\n",
    "#ax.plot(dt,df_spec_visit.values,marker='o', markersize=15,lw=0)\n",
    "ax1.bar(dt_g,n_g,lw=5,facecolor='g')\n",
    "ax1.xaxis.set_major_locator(month_locator) # Locator for major axis only.\n",
    "ax1.xaxis.set_minor_locator(day_locator)\n",
    "ax1.xaxis.set_major_formatter(year_month_formatter)\n",
    "ax1.grid()\n",
    "\n",
    "title1 = f\"number of phot obs per night in SDSS-g\"\n",
    "ax1.set_title(title1)\n",
    "\n",
    "#fig.autofmt_xdate() # rotation\n",
    "ax1.set_xticks(ax1.get_xticks(), ax1.get_xticklabels(), rotation=45, ha='right')\n",
    "\n",
    "#ax2.bar(dt,df_spec_visit.cumsum().values,lw=5,facecolor='b')\n",
    "ax2.bar(dt_r,n_r,lw=5,facecolor='r')\n",
    "ax2.xaxis.set_major_locator(month_locator) # Locator for major axis only.\n",
    "ax2.xaxis.set_minor_locator(day_locator)\n",
    "ax2.xaxis.set_major_formatter(year_month_formatter)\n",
    "ax2.grid()\n",
    "\n",
    "#fig.autofmt_xdate() # rotation\n",
    "ax2.set_xticks(ax2.get_xticks(), ax2.get_xticklabels(), rotation=45, ha='right')\n",
    "title2 = f\"number of phot obs per night in SDSS-r\"\n",
    "ax2.set_title(title2)\n",
    "\n",
    "#ax2.bar(dt,df_spec_visit.cumsum().values,lw=5,facecolor='b')\n",
    "ax3.bar(dt_i,n_i,lw=5,facecolor='orange')\n",
    "ax3.xaxis.set_major_locator(month_locator) # Locator for major axis only.\n",
    "ax3.xaxis.set_minor_locator(day_locator)\n",
    "ax3.xaxis.set_major_formatter(year_month_formatter)\n",
    "ax3.grid()\n",
    "\n",
    "#fig.autofmt_xdate() # rotation\n",
    "ax3.set_xticks(ax3.get_xticks(), ax3.get_xticklabels(), rotation=45, ha='right')\n",
    "title3 = f\"number of phot obs per night in SDSS-i\"\n",
    "ax3.set_title(title3)\n",
    "\n",
    "#ax2.bar(dt,df_spec_visit.cumsum().values,lw=5,facecolor='b')\n",
    "ax4.bar(dt_z,n_z,lw=5,facecolor='grey')\n",
    "ax4.xaxis.set_major_locator(month_locator) # Locator for major axis only.\n",
    "ax4.xaxis.set_minor_locator(day_locator)\n",
    "ax4.xaxis.set_major_formatter(year_month_formatter)\n",
    "ax4.grid()\n",
    "\n",
    "#fig.autofmt_xdate() # rotation\n",
    "ax4.set_xticks(ax4.get_xticks(), ax4.get_xticklabels(), rotation=45, ha='right')\n",
    "title4 = f\"number of phot obs per night in SDSS-z\"\n",
    "ax4.set_title(title4)\n",
    "\n",
    "\n",
    "#ax2.bar(dt,df_spec_visit.cumsum().values,lw=5,facecolor='b')\n",
    "ax5.bar(dt_y,n_y,lw=5,facecolor='k')\n",
    "ax5.xaxis.set_major_locator(month_locator) # Locator for major axis only.\n",
    "ax5.xaxis.set_minor_locator(day_locator)\n",
    "ax5.xaxis.set_major_formatter(year_month_formatter)\n",
    "ax5.grid()\n",
    "\n",
    "#fig.autofmt_xdate() # rotation\n",
    "ax5.set_xticks(ax5.get_xticks(), ax5.get_xticklabels(), rotation=45, ha='right')\n",
    "title5 = f\"number of phot obs per night in SDSS-y\"\n",
    "ax5.set_title(title5)\n",
    "\n",
    "\n",
    "plt.tight_layout()"
   ]
  },
  {
   "cell_type": "code",
   "execution_count": null,
   "id": "b82d49d4-e134-4cc7-8442-93a30d47588c",
   "metadata": {
    "execution": {
     "iopub.status.busy": "2024-06-27T09:34:02.153217Z",
     "iopub.status.idle": "2024-06-27T09:34:02.153364Z",
     "shell.execute_reply": "2024-06-27T09:34:02.153293Z",
     "shell.execute_reply.started": "2024-06-27T09:34:02.153287Z"
    }
   },
   "outputs": [],
   "source": [
    "import matplotlib.dates as mdates\n",
    "month_locator = mdates.MonthLocator(interval=1)\n",
    "day_locator = mdates.DayLocator(interval=1)\n",
    "year_month_formatter = mdates.DateFormatter(\"%Y-%m\") \n",
    "fig, axs = plt.subplots(2,1,figsize=(18, 8),sharex=True)\n",
    "\n",
    "ax1,ax2 = axs\n",
    "\n",
    "dt = timedelta(hours=10)\n",
    "\n",
    "# fit 1\n",
    "#ax.plot(dt,df_spec_visit.values,marker='o', markersize=15,lw=0)\n",
    "ax1.bar(dt_g-dt,n_g,lw=5,facecolor='g',label=\"SDSS-g\")\n",
    "ax1.bar(dt_r,n_r,lw=5,facecolor='r',label=\"SDSS-r\")\n",
    "ax1.bar(dt_i+dt,n_i,lw=5,facecolor='orange',label=\"SDSS-i\")\n",
    "ax1.bar(dt_z+2*dt,n_z,lw=5,facecolor='grey',label=\"SDSS-z\")\n",
    "ax1.bar(dt_y+3*dt,n_y,lw=5,facecolor='k',label=\"SDSS-y\")\n",
    "ax1.xaxis.set_major_locator(month_locator) # Locator for major axis only.\n",
    "ax1.xaxis.set_minor_locator(day_locator)\n",
    "ax1.xaxis.set_major_formatter(year_month_formatter)\n",
    "ax1.grid()\n",
    "ax1.legend()\n",
    "ax1.set_xticks(ax1.get_xticks(), ax1.get_xticklabels(), rotation=45, ha='right')\n",
    "\n",
    "title = f\"number of phot obs per night\"\n",
    "ax1.set_title(title)\n",
    "\n",
    "\n",
    "ax2.bar(dt_g-dt,s_g,lw=5,facecolor='g',label=\"SDSS-g\")\n",
    "ax2.bar(dt_r,s_r,lw=5,facecolor='r',label=\"SDSS-r\")\n",
    "ax2.bar(dt_i+dt,s_i,lw=5,facecolor='orange',label=\"SDSS-i\")\n",
    "ax2.bar(dt_z+2*dt,s_z,lw=5,facecolor='grey',label=\"SDSS-z\")\n",
    "ax2.bar(dt_y+3*dt,s_y,lw=5,facecolor='k',label=\"SDSS-y\")\n",
    "ax2.xaxis.set_major_locator(month_locator) # Locator for major axis only.\n",
    "ax2.xaxis.set_minor_locator(day_locator)\n",
    "ax2.xaxis.set_major_formatter(year_month_formatter)\n",
    "ax2.grid()\n",
    "ax2.legend()\n",
    "ax2.set_xticks(ax2.get_xticks(), ax2.get_xticklabels(), rotation=45, ha='right')\n",
    "\n",
    "title = f\"cumulative number of phot obs per night (n_tot_g = {n_g_tot} , n_r_tot = {n_r_tot} , n_i_tot = {n_i_tot} ,  n_z_tot = {n_z_tot}, n_y_tot = {n_y_tot})\"\n",
    "ax2.set_title(title)\n",
    "\n",
    "\n",
    "plt.tight_layout()"
   ]
  },
  {
   "cell_type": "markdown",
   "id": "eefb53ee-e989-4c39-bcd2-4180097ca048",
   "metadata": {},
   "source": [
    "## Properties, quality"
   ]
  },
  {
   "cell_type": "code",
   "execution_count": null,
   "id": "ff0e1204-6283-42b7-9771-f02fe7347247",
   "metadata": {
    "execution": {
     "iopub.status.busy": "2024-06-27T09:34:02.153915Z",
     "iopub.status.idle": "2024-06-27T09:34:02.154069Z",
     "shell.execute_reply": "2024-06-27T09:34:02.153996Z",
     "shell.execute_reply.started": "2024-06-27T09:34:02.153990Z"
    }
   },
   "outputs": [],
   "source": [
    "ccdVisitTable_g = ccd_visit_table[ccd_visit_table.band== \"g\"]\n",
    "ccdVisitTable_r = ccd_visit_table[ccd_visit_table.band== \"r\"]\n",
    "ccdVisitTable_i = ccd_visit_table[ccd_visit_table.band== \"i\"]\n",
    "#ccdVisitTable_z = ccd_visit_table[ccdVisitTable_subset.band== \"z\"]\n",
    "#ccdVisitTable_y = ccdVisitTable_subset[ccdVisitTable_subset.band== \"y\"]"
   ]
  },
  {
   "cell_type": "code",
   "execution_count": null,
   "id": "dbeaca43-d39d-431f-b1b1-fc37c0845825",
   "metadata": {
    "execution": {
     "iopub.status.busy": "2024-06-27T09:34:02.154464Z",
     "iopub.status.idle": "2024-06-27T09:34:02.154602Z",
     "shell.execute_reply": "2024-06-27T09:34:02.154537Z",
     "shell.execute_reply.started": "2024-06-27T09:34:02.154531Z"
    }
   },
   "outputs": [],
   "source": [
    "from matplotlib.dates import DateFormatter\n",
    "date_form = DateFormatter(\"%y-%m-%dT%H:%M\")\n",
    "\n",
    "fig,axs = plt.subplots(3,1,figsize=(16,14))\n",
    "ax1,ax2,ax3 = axs\n",
    "ccdVisitTable_g.plot(x=\"Time\",y=\"zeroPoint\",marker='+',c=\"g\",lw=0.0,ax=ax1,grid=True,label=\"g\")\n",
    "ccdVisitTable_r.plot(x=\"Time\",y=\"zeroPoint\",marker='+',c=\"r\",lw=0.0,ax=ax1,grid=True,label=\"r\")\n",
    "ccdVisitTable_i.plot(x=\"Time\",y=\"zeroPoint\",marker='+',c=\"orange\",lw=0.0,ax=ax1,grid=True,label=\"i\")\n",
    "#ccdVisitTable_z.plot(x=\"Time\",y=\"zeroPoint\",marker='+',c=\"grey\",lw=0.0,ax=ax1,grid=True,label=\"z\")\n",
    "#ccdVisitTable_g.plot(x=\"Time\",y=\"zeroPoint\",marker='+',c=\"k\",lw=0.0,ax=ax1,grid=True,label=\"y\")\n",
    "#ax1.set_title(\"zeroPoint\")\n",
    "ax1.set_ylabel(\"zeroPoint\")\n",
    "ax1.xaxis.set_major_formatter(date_form)\n",
    "#ax1_up = ax1.secondary_xaxis(\"top\", functions=( dt_to_mjd, mjd_to_dt))\n",
    "#ccdVisitTable_g.plot(x=\"expMidptMJD\",y=\"zeroPoint\",marker='+',c=\"g\",lw=0.0,ax=ax1_up,grid=True,label=\"g\")\n",
    "\n",
    "\n",
    "ccdVisitTable_g.plot(x=\"Time\",y=\"airmass\",marker='+',c=\"g\",lw=0.0,ax=ax2,grid=True,label=\"g\")\n",
    "ccdVisitTable_r.plot(x=\"Time\",y=\"airmass\",marker='+',c=\"r\",lw=0.0,ax=ax2,grid=True,label=\"r\")\n",
    "ccdVisitTable_i.plot(x=\"Time\",y=\"airmass\",marker='+',c=\"orange\",lw=0.0,ax=ax2,grid=True,label=\"i\")\n",
    "#ccdVisitTable_z.plot(x=\"Time\",y=\"airmass\",marker='+',c=\"grey\",lw=0.0,ax=ax2,grid=True,label=\"z\")\n",
    "#ccdVisitTable_y.plot(x=\"Time\",y=\"airmass\",marker='+',c=\"k\",lw=0.0,ax=ax2,grid=True,label=\"y\")\n",
    "#ax2.set_title(\"airmass\")\n",
    "ax2.set_ylabel(\"airmass\")\n",
    "ax2.xaxis.set_major_formatter(date_form)\n",
    "\n",
    "ccdVisitTable_g.plot(x=\"Time\",y=\"seeing\",marker='+',c=\"g\",lw=0.0,ax=ax3,grid=True,label=\"g\")\n",
    "ccdVisitTable_r.plot(x=\"Time\",y=\"seeing\",marker='+',c=\"r\",lw=0.0,ax=ax3,grid=True,label=\"r\")\n",
    "ccdVisitTable_i.plot(x=\"Time\",y=\"seeing\",marker='+',c=\"orange\",lw=0.0,ax=ax3,grid=True,label=\"i\")\n",
    "#ccdVisitTable_z.plot(x=\"Time\",y=\"seeing\",marker='+',c=\"grey\",lw=0.0,ax=ax3,grid=True,label=\"z\")\n",
    "#ccdVisitTable_y.plot(x=\"Time\",y=\"seeing\",marker='+',c=\"k\",lw=0.0,ax=ax3,grid=True,label=\"y\")\n",
    "#ax2.set_title(\"airmass\")\n",
    "ax3.set_ylabel(\"seeing\")\n",
    "ax3.xaxis.set_major_formatter(date_form)\n",
    "\n",
    "#df.plot(x=\"Time\",y=\"coord_dec\",marker='o',c=\"g\",lw=0.0,ax=ax2,grid=True)\n",
    "plt.suptitle(suptitle,y=1.0,fontsize=16)\n",
    "plt.tight_layout()\n",
    "\n"
   ]
  },
  {
   "cell_type": "code",
   "execution_count": null,
   "id": "f53add36-c209-49b3-a3ad-419b50142e6c",
   "metadata": {},
   "outputs": [],
   "source": []
  }
 ],
 "metadata": {
  "kernelspec": {
   "display_name": "LSST",
   "language": "python",
   "name": "lsst"
  },
  "language_info": {
   "codemirror_mode": {
    "name": "ipython",
    "version": 3
   },
   "file_extension": ".py",
   "mimetype": "text/x-python",
   "name": "python",
   "nbconvert_exporter": "python",
   "pygments_lexer": "ipython3",
   "version": "3.11.7"
  }
 },
 "nbformat": 4,
 "nbformat_minor": 5
}
