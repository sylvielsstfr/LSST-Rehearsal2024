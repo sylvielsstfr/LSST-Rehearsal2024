{
 "cells": [
  {
   "cell_type": "markdown",
   "id": "45bf4242-bfc5-4d43-88c4-a8059ae148df",
   "metadata": {},
   "source": [
    "# Explore hologram data  quality on PWV"
   ]
  },
  {
   "cell_type": "markdown",
   "id": "01993b6e-6438-4fca-a5d5-1f9791336847",
   "metadata": {},
   "source": [
    "- author Sylvie Dagoret-Campagne\n",
    "- creation date 2024-09-13\n",
    "- last update : 2024-09-15 : cosmetic\n",
    "- last update : 2024-09-19 \n",
    "\n",
    "- affiliation : IJCLab\n",
    "- Kernel @usdf **w_2024_16**\n",
    "- Office emac : mamba_py311\n",
    "- Home emac : base (conda)\n",
    "- laptop : conda_py310\n"
   ]
  },
  {
   "cell_type": "code",
   "execution_count": null,
   "id": "63a2b2ef-0bc2-45eb-91d9-87835d264751",
   "metadata": {
    "execution": {
     "iopub.execute_input": "2024-09-19T15:36:03.482207Z",
     "iopub.status.busy": "2024-09-19T15:36:03.481741Z",
     "iopub.status.idle": "2024-09-19T15:36:03.484658Z",
     "shell.execute_reply": "2024-09-19T15:36:03.484340Z",
     "shell.execute_reply.started": "2024-09-19T15:36:03.482189Z"
    },
    "tags": []
   },
   "outputs": [],
   "source": [
    "from platform import python_version\n",
    "\n",
    "print(python_version())"
   ]
  },
  {
   "cell_type": "code",
   "execution_count": null,
   "id": "dcc53afe-c58f-4948-92c9-0090d373ad2a",
   "metadata": {
    "execution": {
     "iopub.execute_input": "2024-09-19T15:35:12.877541Z",
     "iopub.status.busy": "2024-09-19T15:35:12.877369Z",
     "iopub.status.idle": "2024-09-19T15:35:12.880081Z",
     "shell.execute_reply": "2024-09-19T15:35:12.879712Z",
     "shell.execute_reply.started": "2024-09-19T15:35:12.877524Z"
    }
   },
   "outputs": [],
   "source": [
    "import warnings\n",
    "warnings.resetwarnings()\n",
    "warnings.simplefilter('ignore')"
   ]
  },
  {
   "cell_type": "code",
   "execution_count": null,
   "id": "8026d265-2493-4045-afec-26205ff71f7c",
   "metadata": {
    "execution": {
     "iopub.execute_input": "2024-09-19T15:35:12.880755Z",
     "iopub.status.busy": "2024-09-19T15:35:12.880617Z",
     "iopub.status.idle": "2024-09-19T15:35:12.884397Z",
     "shell.execute_reply": "2024-09-19T15:35:12.884019Z",
     "shell.execute_reply.started": "2024-09-19T15:35:12.880743Z"
    },
    "tags": []
   },
   "outputs": [],
   "source": [
    "from platform import python_version\n",
    "print(python_version())"
   ]
  },
  {
   "cell_type": "code",
   "execution_count": null,
   "id": "eb1f116e-80e3-46ad-a7db-7f253632e5ca",
   "metadata": {
    "execution": {
     "iopub.execute_input": "2024-09-19T15:35:12.886065Z",
     "iopub.status.busy": "2024-09-19T15:35:12.885934Z",
     "iopub.status.idle": "2024-09-19T15:35:12.888688Z",
     "shell.execute_reply": "2024-09-19T15:35:12.888342Z",
     "shell.execute_reply.started": "2024-09-19T15:35:12.886053Z"
    }
   },
   "outputs": [],
   "source": [
    "import os"
   ]
  },
  {
   "cell_type": "code",
   "execution_count": null,
   "id": "3ec760cd-3d3f-4a34-a6f6-b226fe500951",
   "metadata": {
    "execution": {
     "iopub.execute_input": "2024-09-19T15:35:12.889286Z",
     "iopub.status.busy": "2024-09-19T15:35:12.889161Z",
     "iopub.status.idle": "2024-09-19T15:35:12.893378Z",
     "shell.execute_reply": "2024-09-19T15:35:12.893003Z",
     "shell.execute_reply.started": "2024-09-19T15:35:12.889274Z"
    }
   },
   "outputs": [],
   "source": [
    "path = \"figsPWV\"\n",
    "if not os.path.exists(path):\n",
    "    os.makedirs(path) "
   ]
  },
  {
   "cell_type": "code",
   "execution_count": null,
   "id": "bf752b70-e6ca-4cbf-8e8c-20bf7f0d8f61",
   "metadata": {
    "execution": {
     "iopub.execute_input": "2024-09-19T15:35:12.894006Z",
     "iopub.status.busy": "2024-09-19T15:35:12.893885Z",
     "iopub.status.idle": "2024-09-19T15:35:13.775421Z",
     "shell.execute_reply": "2024-09-19T15:35:13.774973Z",
     "shell.execute_reply.started": "2024-09-19T15:35:12.893994Z"
    }
   },
   "outputs": [],
   "source": [
    "import numpy as np\n",
    "from numpy.linalg import inv\n",
    "import matplotlib as mpl\n",
    "import matplotlib.pyplot as plt\n",
    "%matplotlib inline\n",
    "from mpl_toolkits.axes_grid1 import make_axes_locatable\n",
    "from matplotlib.colors import LogNorm,SymLogNorm\n",
    "from matplotlib.patches import Circle,Annulus\n",
    "from astropy.visualization import ZScaleInterval\n",
    "props = dict(boxstyle='round', facecolor=\"white\", alpha=0.1)\n",
    "#props = dict(boxstyle='round')\n",
    "\n",
    "import matplotlib.colors as colors\n",
    "import matplotlib.cm as cmx\n",
    "\n",
    "import matplotlib.ticker                         # here's where the formatter is\n",
    "from matplotlib.ticker import (MultipleLocator, FormatStrFormatter,\n",
    "                               AutoMinorLocator)\n",
    "\n",
    "from matplotlib.gridspec import GridSpec\n",
    "\n",
    "from astropy.visualization import (MinMaxInterval, SqrtStretch,ZScaleInterval,PercentileInterval,\n",
    "                                   ImageNormalize,imshow_norm)\n",
    "from astropy.visualization.stretch import SinhStretch, LinearStretch,AsinhStretch,LogStretch\n",
    "\n",
    "from astropy.io import fits\n",
    "from astropy.wcs import WCS\n",
    "from astropy import units as u\n",
    "from astropy import constants as c\n",
    "\n",
    "from scipy import interpolate\n",
    "from sklearn.neighbors import NearestNeighbors\n",
    "from sklearn.neighbors import KDTree, BallTree\n",
    "\n",
    "import pandas as pd\n",
    "pd.set_option(\"display.max_columns\", None)\n",
    "pd.set_option('display.max_rows', 100)\n",
    "\n",
    "import matplotlib.ticker                         # here's where the formatter is\n",
    "import os\n",
    "import re\n",
    "import pandas as pd\n",
    "import pickle\n",
    "from collections import OrderedDict\n",
    "\n",
    "plt.rcParams[\"figure.figsize\"] = (4,3)\n",
    "plt.rcParams[\"axes.labelsize\"] = 'xx-large'\n",
    "plt.rcParams['axes.titlesize'] = 'xx-large'\n",
    "plt.rcParams['xtick.labelsize']= 'xx-large'\n",
    "plt.rcParams['ytick.labelsize']= 'xx-large'\n",
    "\n",
    "import scipy\n",
    "from scipy.optimize import curve_fit,least_squares\n",
    "\n",
    "\n",
    "# new color correction model\n",
    "import pickle\n",
    "from scipy.interpolate import RegularGridInterpolator"
   ]
  },
  {
   "cell_type": "code",
   "execution_count": null,
   "id": "0ca0d1e6-5f82-4c43-aaa3-8524fc2bc5ba",
   "metadata": {
    "execution": {
     "iopub.execute_input": "2024-09-19T15:35:13.776252Z",
     "iopub.status.busy": "2024-09-19T15:35:13.775996Z",
     "iopub.status.idle": "2024-09-19T15:35:13.778847Z",
     "shell.execute_reply": "2024-09-19T15:35:13.778498Z",
     "shell.execute_reply.started": "2024-09-19T15:35:13.776239Z"
    }
   },
   "outputs": [],
   "source": [
    "from matplotlib.ticker import (MultipleLocator, FormatStrFormatter,\n",
    "                               AutoMinorLocator)\n",
    "\n",
    "from astropy.visualization import (MinMaxInterval, SqrtStretch,ZScaleInterval,PercentileInterval,\n",
    "                                   ImageNormalize,imshow_norm)\n",
    "from astropy.visualization.stretch import SinhStretch, LinearStretch,AsinhStretch,LogStretch\n",
    "\n",
    "from astropy.time import Time\n"
   ]
  },
  {
   "cell_type": "code",
   "execution_count": null,
   "id": "e189816c-5048-43ab-a01a-7c078af54489",
   "metadata": {
    "execution": {
     "iopub.execute_input": "2024-09-19T15:35:13.779565Z",
     "iopub.status.busy": "2024-09-19T15:35:13.779323Z",
     "iopub.status.idle": "2024-09-19T15:35:13.825657Z",
     "shell.execute_reply": "2024-09-19T15:35:13.825298Z",
     "shell.execute_reply.started": "2024-09-19T15:35:13.779552Z"
    }
   },
   "outputs": [],
   "source": [
    "import ipywidgets as widgets\n",
    "%matplotlib widget"
   ]
  },
  {
   "cell_type": "code",
   "execution_count": null,
   "id": "67327fd4-e405-45ce-8923-cd46ebaa0c0f",
   "metadata": {
    "execution": {
     "iopub.execute_input": "2024-09-19T15:35:13.826331Z",
     "iopub.status.busy": "2024-09-19T15:35:13.826210Z",
     "iopub.status.idle": "2024-09-19T15:35:13.828370Z",
     "shell.execute_reply": "2024-09-19T15:35:13.828030Z",
     "shell.execute_reply.started": "2024-09-19T15:35:13.826319Z"
    },
    "tags": []
   },
   "outputs": [],
   "source": [
    "from importlib.metadata import version"
   ]
  },
  {
   "cell_type": "code",
   "execution_count": null,
   "id": "af8332dd-24f9-4b19-88f9-c62d0a4aebf1",
   "metadata": {
    "execution": {
     "iopub.execute_input": "2024-09-19T15:35:13.828990Z",
     "iopub.status.busy": "2024-09-19T15:35:13.828871Z",
     "iopub.status.idle": "2024-09-19T15:35:13.831305Z",
     "shell.execute_reply": "2024-09-19T15:35:13.830980Z",
     "shell.execute_reply.started": "2024-09-19T15:35:13.828979Z"
    },
    "tags": []
   },
   "outputs": [],
   "source": [
    "# wavelength bin colors\n",
    "#jet = plt.get_cmap('jet')\n",
    "#cNorm = mpl.colors.Normalize(vmin=0, vmax=NSED)\n",
    "#scalarMap = cmx.ScalarMappable(norm=cNorm, cmap=jet)\n",
    "#all_colors = scalarMap.to_rgba(np.arange(NSED), alpha=1)"
   ]
  },
  {
   "cell_type": "code",
   "execution_count": null,
   "id": "1003d9d6-a40f-48b1-9ffc-bfab9f45ba93",
   "metadata": {
    "execution": {
     "iopub.execute_input": "2024-09-19T15:37:19.965583Z",
     "iopub.status.busy": "2024-09-19T15:37:19.965073Z",
     "iopub.status.idle": "2024-09-19T15:37:19.968141Z",
     "shell.execute_reply": "2024-09-19T15:37:19.967834Z",
     "shell.execute_reply.started": "2024-09-19T15:37:19.965567Z"
    }
   },
   "outputs": [],
   "source": [
    "np.__version__"
   ]
  },
  {
   "cell_type": "code",
   "execution_count": null,
   "id": "c4cb2652-cb22-432e-b110-ae71d59dc793",
   "metadata": {
    "execution": {
     "iopub.execute_input": "2024-09-19T15:37:45.955626Z",
     "iopub.status.busy": "2024-09-19T15:37:45.955357Z",
     "iopub.status.idle": "2024-09-19T15:37:45.958354Z",
     "shell.execute_reply": "2024-09-19T15:37:45.958025Z",
     "shell.execute_reply.started": "2024-09-19T15:37:45.955612Z"
    }
   },
   "outputs": [],
   "source": [
    "pd.__version__"
   ]
  },
  {
   "cell_type": "markdown",
   "id": "4f13d6a3-7793-4bc0-920a-1d690d9f84b2",
   "metadata": {},
   "source": [
    "### Spectroscopy"
   ]
  },
  {
   "cell_type": "code",
   "execution_count": null,
   "id": "5bac0cab-3886-4683-b1c8-fc59edacfd46",
   "metadata": {
    "execution": {
     "iopub.execute_input": "2024-09-19T15:35:13.831889Z",
     "iopub.status.busy": "2024-09-19T15:35:13.831772Z",
     "iopub.status.idle": "2024-09-19T15:35:13.836016Z",
     "shell.execute_reply": "2024-09-19T15:35:13.835704Z",
     "shell.execute_reply.started": "2024-09-19T15:35:13.831878Z"
    },
    "tags": []
   },
   "outputs": [],
   "source": [
    "version_results = \"v2\""
   ]
  },
  {
   "cell_type": "code",
   "execution_count": null,
   "id": "a2a9c11f-05b8-4465-b96a-3f18d81572f0",
   "metadata": {
    "execution": {
     "iopub.execute_input": "2024-09-19T15:35:13.836662Z",
     "iopub.status.busy": "2024-09-19T15:35:13.836545Z",
     "iopub.status.idle": "2024-09-19T15:35:13.839038Z",
     "shell.execute_reply": "2024-09-19T15:35:13.838715Z",
     "shell.execute_reply.started": "2024-09-19T15:35:13.836651Z"
    }
   },
   "outputs": [],
   "source": [
    "if version_results == \"\":\n",
    "    atmfilename = \"data/spectro/auxtel_atmosphere_202301_v3.1.0_doSensorFlat_rebin2_testWithMaskedEdges_newBoundaries_newPolysRescaled_newFitBounds_adjustA1_lockedOrder2_removeThroughputTails_2.npy\"\n",
    "elif version_results == \"v2\":\n",
    "    atmfilename = \"auxtel_atmosphere_202301_v3.1.0_doSensorFlat_rebin2_lockedOrder2_FixA1_FixA2_FitAngstrom_FixA1_FixA2_FitAngstrom_WithGaia_freePressure_newThroughput6_BG40Scaled1.09_PeekFinder.npy\""
   ]
  },
  {
   "cell_type": "code",
   "execution_count": null,
   "id": "ad60336b-f26f-4184-bcdf-e596329ecbbd",
   "metadata": {
    "execution": {
     "iopub.execute_input": "2024-09-19T15:35:13.840572Z",
     "iopub.status.busy": "2024-09-19T15:35:13.840457Z",
     "iopub.status.idle": "2024-09-19T15:35:14.105359Z",
     "shell.execute_reply": "2024-09-19T15:35:14.104884Z",
     "shell.execute_reply.started": "2024-09-19T15:35:13.840561Z"
    }
   },
   "outputs": [],
   "source": [
    "specdata = np.load(atmfilename,allow_pickle=True)"
   ]
  },
  {
   "cell_type": "code",
   "execution_count": null,
   "id": "3d9c7249-f818-4a98-8000-9be75b3c7a21",
   "metadata": {
    "execution": {
     "iopub.execute_input": "2024-09-19T15:35:14.106056Z",
     "iopub.status.busy": "2024-09-19T15:35:14.105931Z",
     "iopub.status.idle": "2024-09-19T15:35:14.301577Z",
     "shell.execute_reply": "2024-09-19T15:35:14.301185Z",
     "shell.execute_reply.started": "2024-09-19T15:35:14.106044Z"
    }
   },
   "outputs": [],
   "source": [
    "df_spec = pd.DataFrame(specdata)\n",
    "df_spec"
   ]
  },
  {
   "cell_type": "code",
   "execution_count": null,
   "id": "4de5d570-2e92-468b-ab07-63fffd8d2b8c",
   "metadata": {
    "execution": {
     "iopub.execute_input": "2024-09-19T15:35:14.302277Z",
     "iopub.status.busy": "2024-09-19T15:35:14.302150Z",
     "iopub.status.idle": "2024-09-19T15:35:14.345509Z",
     "shell.execute_reply": "2024-09-19T15:35:14.345121Z",
     "shell.execute_reply.started": "2024-09-19T15:35:14.302265Z"
    }
   },
   "outputs": [],
   "source": [
    "#subtract the a bug number to have normal dates\n",
    "df_spec[\"nightObs\"] = df_spec.apply(lambda x: x['id']//100_000, axis=1)\n",
    "df_spec[\"nightObs\"]"
   ]
  },
  {
   "cell_type": "code",
   "execution_count": null,
   "id": "49c29905-817c-4fe8-ae2e-93351e765333",
   "metadata": {
    "execution": {
     "iopub.execute_input": "2024-09-19T15:35:14.347852Z",
     "iopub.status.busy": "2024-09-19T15:35:14.347725Z",
     "iopub.status.idle": "2024-09-19T15:35:14.350967Z",
     "shell.execute_reply": "2024-09-19T15:35:14.350637Z",
     "shell.execute_reply.started": "2024-09-19T15:35:14.347841Z"
    },
    "tags": []
   },
   "outputs": [],
   "source": [
    "ser_spec_size = df_spec.groupby([\"nightObs\"]).size()"
   ]
  },
  {
   "cell_type": "code",
   "execution_count": null,
   "id": "2d28a054-60f8-4186-ac4d-b848f3174654",
   "metadata": {
    "execution": {
     "iopub.execute_input": "2024-09-19T15:35:14.351582Z",
     "iopub.status.busy": "2024-09-19T15:35:14.351464Z",
     "iopub.status.idle": "2024-09-19T15:35:14.354942Z",
     "shell.execute_reply": "2024-09-19T15:35:14.354625Z",
     "shell.execute_reply.started": "2024-09-19T15:35:14.351570Z"
    },
    "tags": []
   },
   "outputs": [],
   "source": [
    "ser_spec_size"
   ]
  },
  {
   "cell_type": "code",
   "execution_count": null,
   "id": "ae092421-5d4c-4e58-a51d-b5de2be68910",
   "metadata": {
    "execution": {
     "iopub.execute_input": "2024-09-19T15:35:14.355488Z",
     "iopub.status.busy": "2024-09-19T15:35:14.355376Z",
     "iopub.status.idle": "2024-09-19T15:35:14.359512Z",
     "shell.execute_reply": "2024-09-19T15:35:14.359173Z",
     "shell.execute_reply.started": "2024-09-19T15:35:14.355478Z"
    }
   },
   "outputs": [],
   "source": [
    "type(ser_spec_size)"
   ]
  },
  {
   "cell_type": "code",
   "execution_count": null,
   "id": "6ce22f7e-bf6b-470a-af72-325d4a0077ab",
   "metadata": {
    "execution": {
     "iopub.execute_input": "2024-09-19T15:35:14.360112Z",
     "iopub.status.busy": "2024-09-19T15:35:14.359998Z",
     "iopub.status.idle": "2024-09-19T15:35:14.425675Z",
     "shell.execute_reply": "2024-09-19T15:35:14.425345Z",
     "shell.execute_reply.started": "2024-09-19T15:35:14.360101Z"
    }
   },
   "outputs": [],
   "source": [
    "fig,ax = plt.subplots(1,1)\n",
    "ax.hist(ser_spec_size.values,bins=50,facecolor=\"b\")\n",
    "ax.set_title(\"nb obs per night\")\n",
    "ax.set_xlabel(\"Nobs/night\")"
   ]
  },
  {
   "cell_type": "code",
   "execution_count": null,
   "id": "faff0c81-88d9-466b-808c-801800256275",
   "metadata": {
    "execution": {
     "iopub.execute_input": "2024-09-19T15:35:14.426264Z",
     "iopub.status.busy": "2024-09-19T15:35:14.426144Z",
     "iopub.status.idle": "2024-09-19T15:35:14.440355Z",
     "shell.execute_reply": "2024-09-19T15:35:14.440030Z",
     "shell.execute_reply.started": "2024-09-19T15:35:14.426253Z"
    },
    "tags": []
   },
   "outputs": [],
   "source": [
    "ser_CHI2_FIT = df_spec[[\"CHI2_FIT\",\"nightObs\"]].groupby([\"nightObs\"]).agg(['count','min', 'max','mean','std','median'])\n",
    "ser_PWV = df_spec[[\"PWV [mm]_x\",\"nightObs\"]].groupby([\"nightObs\"]).agg(['count','min', 'max','mean','std','median'])\n",
    "ser_PWV_CHI2_FIT = df_spec[[\"PWV [mm]_x\",\"CHI2_FIT\",\"nightObs\"]].groupby([\"nightObs\"]).agg(['count','min', 'max','mean','std','median'])"
   ]
  },
  {
   "cell_type": "code",
   "execution_count": null,
   "id": "e26f48e9-02dd-4cdd-abf1-11fc5d0ccd0d",
   "metadata": {
    "execution": {
     "iopub.execute_input": "2024-09-19T15:35:14.440959Z",
     "iopub.status.busy": "2024-09-19T15:35:14.440838Z",
     "iopub.status.idle": "2024-09-19T15:35:14.448676Z",
     "shell.execute_reply": "2024-09-19T15:35:14.448292Z",
     "shell.execute_reply.started": "2024-09-19T15:35:14.440948Z"
    }
   },
   "outputs": [],
   "source": [
    "ser_PWV"
   ]
  },
  {
   "cell_type": "code",
   "execution_count": null,
   "id": "31cd0a79-1b0b-4af3-8f7f-eb01342048ca",
   "metadata": {
    "execution": {
     "iopub.execute_input": "2024-09-19T15:35:14.449287Z",
     "iopub.status.busy": "2024-09-19T15:35:14.449167Z",
     "iopub.status.idle": "2024-09-19T15:35:14.456459Z",
     "shell.execute_reply": "2024-09-19T15:35:14.456134Z",
     "shell.execute_reply.started": "2024-09-19T15:35:14.449276Z"
    },
    "tags": []
   },
   "outputs": [],
   "source": [
    "ser_CHI2_FIT"
   ]
  },
  {
   "cell_type": "code",
   "execution_count": null,
   "id": "3429f0df-af66-4c8b-9e1f-ca934fc2dc13",
   "metadata": {
    "execution": {
     "iopub.execute_input": "2024-09-19T15:35:14.457094Z",
     "iopub.status.busy": "2024-09-19T15:35:14.456971Z",
     "iopub.status.idle": "2024-09-19T15:35:14.467864Z",
     "shell.execute_reply": "2024-09-19T15:35:14.467467Z",
     "shell.execute_reply.started": "2024-09-19T15:35:14.457083Z"
    },
    "tags": []
   },
   "outputs": [],
   "source": [
    "ser_PWV_CHI2_FIT "
   ]
  },
  {
   "cell_type": "markdown",
   "id": "d7c4cd36-ab87-41c0-a25a-e48cb8bee9e7",
   "metadata": {},
   "source": [
    "### Plot PWV and Chi2 before anly selection"
   ]
  },
  {
   "cell_type": "code",
   "execution_count": null,
   "id": "80317b40-62e1-4b9d-9411-ddca229fa9aa",
   "metadata": {
    "execution": {
     "iopub.execute_input": "2024-09-19T15:35:14.468444Z",
     "iopub.status.busy": "2024-09-19T15:35:14.468326Z",
     "iopub.status.idle": "2024-09-19T15:35:14.933636Z",
     "shell.execute_reply": "2024-09-19T15:35:14.933263Z",
     "shell.execute_reply.started": "2024-09-19T15:35:14.468433Z"
    },
    "tags": []
   },
   "outputs": [],
   "source": [
    "fig,ax = plt.subplots(1,1,figsize=(18,3))\n",
    "ser_PWV.unstack()[\"PWV [mm]_x\"][\"count\"].plot(kind='bar', ax=ax,subplots=False, rot=90,figsize=(18,4),facecolor=\"b\",grid=True,title=\"Number of measurements per night\")\n",
    "plt.tight_layout()"
   ]
  },
  {
   "cell_type": "code",
   "execution_count": null,
   "id": "c8bfe4d6-fe88-4187-be0f-29be89a45523",
   "metadata": {
    "execution": {
     "iopub.execute_input": "2024-09-19T15:35:14.934283Z",
     "iopub.status.busy": "2024-09-19T15:35:14.934159Z",
     "iopub.status.idle": "2024-09-19T15:35:15.375291Z",
     "shell.execute_reply": "2024-09-19T15:35:15.374811Z",
     "shell.execute_reply.started": "2024-09-19T15:35:14.934271Z"
    },
    "tags": []
   },
   "outputs": [],
   "source": [
    "fig,ax = plt.subplots(1,1,figsize=(18,3))\n",
    "ser_PWV.unstack()[\"PWV [mm]_x\"][\"mean\"].plot(kind='bar',ax=ax ,subplots=False, rot=90,figsize=(18,4),facecolor='b',grid=True,title=\"Mean PWV per night\")\n",
    "plt.tight_layout()"
   ]
  },
  {
   "cell_type": "code",
   "execution_count": null,
   "id": "e3e93140-4e76-41ec-8670-2043771a7e00",
   "metadata": {
    "execution": {
     "iopub.execute_input": "2024-09-19T15:35:15.376169Z",
     "iopub.status.busy": "2024-09-19T15:35:15.376020Z",
     "iopub.status.idle": "2024-09-19T15:35:15.922138Z",
     "shell.execute_reply": "2024-09-19T15:35:15.921704Z",
     "shell.execute_reply.started": "2024-09-19T15:35:15.376155Z"
    },
    "tags": []
   },
   "outputs": [],
   "source": [
    "fig,ax = plt.subplots(1,1,figsize=(18,3))\n",
    "ser_PWV.unstack()[\"PWV [mm]_x\"][\"median\"].plot(kind='bar',ax=ax ,subplots=False, rot=90,figsize=(18,4),facecolor='b',grid=True,title=\"Median PWV per night\")\n",
    "plt.tight_layout()"
   ]
  },
  {
   "cell_type": "code",
   "execution_count": null,
   "id": "67e69917-efb7-40f3-9a4c-1b9d579e9cad",
   "metadata": {
    "execution": {
     "iopub.execute_input": "2024-09-19T15:35:15.922988Z",
     "iopub.status.busy": "2024-09-19T15:35:15.922759Z",
     "iopub.status.idle": "2024-09-19T15:35:16.387578Z",
     "shell.execute_reply": "2024-09-19T15:35:16.387204Z",
     "shell.execute_reply.started": "2024-09-19T15:35:15.922974Z"
    },
    "tags": []
   },
   "outputs": [],
   "source": [
    "fig,ax = plt.subplots(1,1,figsize=(18,3))\n",
    "ser_PWV.unstack()[\"PWV [mm]_x\"][\"std\"].plot(kind='bar', subplots=False, rot=90,figsize=(18,4),facecolor='b',grid=True,title=\"STD variation for PWV per night\")\n",
    "plt.tight_layout()"
   ]
  },
  {
   "cell_type": "code",
   "execution_count": null,
   "id": "a20e0562-16d6-4e90-a167-0d858327d347",
   "metadata": {
    "execution": {
     "iopub.execute_input": "2024-09-19T15:35:16.388330Z",
     "iopub.status.busy": "2024-09-19T15:35:16.388199Z",
     "iopub.status.idle": "2024-09-19T15:35:16.840940Z",
     "shell.execute_reply": "2024-09-19T15:35:16.840501Z",
     "shell.execute_reply.started": "2024-09-19T15:35:16.388318Z"
    },
    "tags": []
   },
   "outputs": [],
   "source": [
    "fig,ax = plt.subplots(1,1,figsize=(18,3))\n",
    "ser_CHI2_FIT.unstack()[\"CHI2_FIT\"][\"count\"].plot(kind='bar', ax=ax,subplots=False, rot=90,figsize=(18,4),facecolor=\"r\",grid=True,title=\"Number of measurements per night\")\n",
    "plt.tight_layout()"
   ]
  },
  {
   "cell_type": "code",
   "execution_count": null,
   "id": "be19fd80-6fd1-41ad-ae5a-224b4655b51d",
   "metadata": {
    "execution": {
     "iopub.execute_input": "2024-09-19T15:35:16.841737Z",
     "iopub.status.busy": "2024-09-19T15:35:16.841568Z",
     "iopub.status.idle": "2024-09-19T15:35:17.280214Z",
     "shell.execute_reply": "2024-09-19T15:35:17.279845Z",
     "shell.execute_reply.started": "2024-09-19T15:35:16.841721Z"
    },
    "tags": []
   },
   "outputs": [],
   "source": [
    "fig,ax = plt.subplots(1,1,figsize=(18,3))\n",
    "ser_CHI2_FIT.unstack()[\"CHI2_FIT\"][\"mean\"].plot(kind='bar',ax=ax ,subplots=False, rot=90,figsize=(18,4),facecolor='r',grid=True,title=\"Mean CHI2 per night\")\n",
    "plt.tight_layout()"
   ]
  },
  {
   "cell_type": "code",
   "execution_count": null,
   "id": "6c7ff0b5-3c40-4921-9c2f-9455c51e99a5",
   "metadata": {
    "execution": {
     "iopub.execute_input": "2024-09-19T15:35:17.280915Z",
     "iopub.status.busy": "2024-09-19T15:35:17.280787Z",
     "iopub.status.idle": "2024-09-19T15:35:17.866671Z",
     "shell.execute_reply": "2024-09-19T15:35:17.866275Z",
     "shell.execute_reply.started": "2024-09-19T15:35:17.280903Z"
    },
    "tags": []
   },
   "outputs": [],
   "source": [
    "fig,ax = plt.subplots(1,1,figsize=(18,3))\n",
    "ser_CHI2_FIT.unstack()[\"CHI2_FIT\"][\"median\"].plot(kind='bar',ax=ax ,subplots=False, rot=90,figsize=(18,4),facecolor='r',grid=True,title=\"Median CHI2 per night\")\n",
    "plt.tight_layout()"
   ]
  },
  {
   "cell_type": "code",
   "execution_count": null,
   "id": "f1cefb7f-ed65-45a4-9f92-5655081afe10",
   "metadata": {
    "execution": {
     "iopub.execute_input": "2024-09-19T15:35:17.867488Z",
     "iopub.status.busy": "2024-09-19T15:35:17.867361Z",
     "iopub.status.idle": "2024-09-19T15:35:18.311523Z",
     "shell.execute_reply": "2024-09-19T15:35:18.311160Z",
     "shell.execute_reply.started": "2024-09-19T15:35:17.867476Z"
    },
    "tags": []
   },
   "outputs": [],
   "source": [
    "fig,ax = plt.subplots(1,1,figsize=(18,3))\n",
    "ser_CHI2_FIT.unstack()[\"CHI2_FIT\"][\"std\"].plot(kind='bar',ax=ax ,subplots=False, rot=90,figsize=(18,4),facecolor='r',grid=True,title=\"STD variation CHI2 per night\")\n",
    "plt.tight_layout()"
   ]
  },
  {
   "cell_type": "code",
   "execution_count": null,
   "id": "90ead6bb-6366-4927-beca-79f8fc1b4477",
   "metadata": {
    "execution": {
     "iopub.execute_input": "2024-09-19T15:35:18.312225Z",
     "iopub.status.busy": "2024-09-19T15:35:18.312098Z",
     "iopub.status.idle": "2024-09-19T15:35:18.325035Z",
     "shell.execute_reply": "2024-09-19T15:35:18.324683Z",
     "shell.execute_reply.started": "2024-09-19T15:35:18.312213Z"
    },
    "tags": []
   },
   "outputs": [],
   "source": [
    "ser_PWV_CHI2_FIT "
   ]
  },
  {
   "cell_type": "code",
   "execution_count": null,
   "id": "702a26c1-4b22-4b1c-9f8b-ebd3f2de61a1",
   "metadata": {
    "execution": {
     "iopub.execute_input": "2024-09-19T15:35:18.325770Z",
     "iopub.status.busy": "2024-09-19T15:35:18.325640Z",
     "iopub.status.idle": "2024-09-19T15:35:18.330223Z",
     "shell.execute_reply": "2024-09-19T15:35:18.329881Z",
     "shell.execute_reply.started": "2024-09-19T15:35:18.325758Z"
    },
    "tags": []
   },
   "outputs": [],
   "source": [
    "ser_PWV_CHI2_FIT.loc[20230117,:]"
   ]
  },
  {
   "cell_type": "code",
   "execution_count": null,
   "id": "c463654d-ce69-48fb-b14d-0d466258f917",
   "metadata": {
    "execution": {
     "iopub.execute_input": "2024-09-19T15:35:18.330847Z",
     "iopub.status.busy": "2024-09-19T15:35:18.330728Z",
     "iopub.status.idle": "2024-09-19T15:35:18.338291Z",
     "shell.execute_reply": "2024-09-19T15:35:18.337940Z",
     "shell.execute_reply.started": "2024-09-19T15:35:18.330836Z"
    },
    "tags": []
   },
   "outputs": [],
   "source": [
    "df_unstack = ser_PWV_CHI2_FIT.loc[20230117,:].unstack()\n",
    "df_unstack"
   ]
  },
  {
   "cell_type": "code",
   "execution_count": null,
   "id": "665aeaea-a974-4cac-95bc-14ef9d4298c5",
   "metadata": {
    "execution": {
     "iopub.execute_input": "2024-09-19T15:35:18.339084Z",
     "iopub.status.busy": "2024-09-19T15:35:18.338914Z",
     "iopub.status.idle": "2024-09-19T15:35:18.342959Z",
     "shell.execute_reply": "2024-09-19T15:35:18.342601Z",
     "shell.execute_reply.started": "2024-09-19T15:35:18.339073Z"
    },
    "tags": []
   },
   "outputs": [],
   "source": [
    "ser_PWV_CHI2_FIT.loc[20230117,\"PWV [mm]_x\"][\"count\"]"
   ]
  },
  {
   "cell_type": "code",
   "execution_count": null,
   "id": "005f6704-1ee2-403f-bfc7-e07e311cbb31",
   "metadata": {
    "execution": {
     "iopub.execute_input": "2024-09-19T15:35:18.343556Z",
     "iopub.status.busy": "2024-09-19T15:35:18.343438Z",
     "iopub.status.idle": "2024-09-19T15:35:18.347332Z",
     "shell.execute_reply": "2024-09-19T15:35:18.347021Z",
     "shell.execute_reply.started": "2024-09-19T15:35:18.343545Z"
    },
    "tags": []
   },
   "outputs": [],
   "source": [
    "df_unstack.loc[\"PWV [mm]_x\",\"count\"]"
   ]
  },
  {
   "cell_type": "code",
   "execution_count": null,
   "id": "6c777a31-67c1-4466-8808-e975dda49994",
   "metadata": {
    "execution": {
     "iopub.execute_input": "2024-09-19T15:35:18.347920Z",
     "iopub.status.busy": "2024-09-19T15:35:18.347797Z",
     "iopub.status.idle": "2024-09-19T15:35:18.352762Z",
     "shell.execute_reply": "2024-09-19T15:35:18.352439Z",
     "shell.execute_reply.started": "2024-09-19T15:35:18.347908Z"
    },
    "tags": []
   },
   "outputs": [],
   "source": [
    "def FillAgreggates(row):\n",
    "    the_nightObs = row[\"nightObs\"]\n",
    "    df_night = ser_PWV_CHI2_FIT.loc[the_nightObs,:].unstack()\n",
    "    count = df_night.loc[\"PWV [mm]_x\",\"count\"]\n",
    "    pwvmin = df_night.loc[\"PWV [mm]_x\",\"min\"]\n",
    "    pwvmax = df_night.loc[\"PWV [mm]_x\",\"max\"]\n",
    "    pwvmean = df_night.loc[\"PWV [mm]_x\",\"mean\"]\n",
    "    pwvmedian = df_night.loc[\"PWV [mm]_x\",\"median\"]\n",
    "    pwvstd = df_night.loc[\"PWV [mm]_x\",\"std\"]\n",
    "    chi2min = df_night.loc[\"CHI2_FIT\",\"min\"]\n",
    "    chi2max = df_night.loc[\"CHI2_FIT\",\"max\"]\n",
    "    chi2mean = df_night.loc[\"CHI2_FIT\",\"mean\"]\n",
    "    chi2median = df_night.loc[\"CHI2_FIT\",\"median\"]\n",
    "    chi2std = df_night.loc[\"CHI2_FIT\",\"std\"]\n",
    "    \n",
    "    d = {\"_count\":count,\"_pwvmin\":pwvmin,\"_pwvmax\":pwvmax,\"_pwvmean\":pwvmean,\"_pwvmedian\":pwvmedian,\"_pwvstd\":pwvstd,\n",
    "        \"_chi2min\":chi2min,\"_chi2max\":chi2max,\"_chi2mean\":chi2mean,\"_chi2median\":chi2median,\"_chi2std\":chi2std}\n",
    "    \n",
    "    ser = pd.Series(data=d)\n",
    "\n",
    "    return ser\n",
    "    "
   ]
  },
  {
   "cell_type": "code",
   "execution_count": null,
   "id": "3fe7741b-b438-4fbd-b881-1cab01ee9d92",
   "metadata": {
    "execution": {
     "iopub.execute_input": "2024-09-19T15:35:18.353574Z",
     "iopub.status.busy": "2024-09-19T15:35:18.353244Z",
     "iopub.status.idle": "2024-09-19T15:35:18.357306Z",
     "shell.execute_reply": "2024-09-19T15:35:18.356983Z",
     "shell.execute_reply.started": "2024-09-19T15:35:18.353562Z"
    },
    "tags": []
   },
   "outputs": [],
   "source": [
    "row = df_spec.iloc[0]"
   ]
  },
  {
   "cell_type": "code",
   "execution_count": null,
   "id": "f001cb73-c1c5-4019-a8ae-b148aeec0bf7",
   "metadata": {
    "execution": {
     "iopub.execute_input": "2024-09-19T15:35:18.357903Z",
     "iopub.status.busy": "2024-09-19T15:35:18.357785Z",
     "iopub.status.idle": "2024-09-19T15:35:18.363930Z",
     "shell.execute_reply": "2024-09-19T15:35:18.363436Z",
     "shell.execute_reply.started": "2024-09-19T15:35:18.357892Z"
    },
    "tags": []
   },
   "outputs": [],
   "source": [
    "row"
   ]
  },
  {
   "cell_type": "code",
   "execution_count": null,
   "id": "c2a13cbb-fe9f-45ef-be3c-53d345da591d",
   "metadata": {
    "execution": {
     "iopub.execute_input": "2024-09-19T15:35:18.364852Z",
     "iopub.status.busy": "2024-09-19T15:35:18.364671Z",
     "iopub.status.idle": "2024-09-19T15:35:18.370631Z",
     "shell.execute_reply": "2024-09-19T15:35:18.370217Z",
     "shell.execute_reply.started": "2024-09-19T15:35:18.364835Z"
    },
    "tags": []
   },
   "outputs": [],
   "source": [
    "FillAgreggates(row)"
   ]
  },
  {
   "cell_type": "code",
   "execution_count": null,
   "id": "7078b47e-2d0a-40bc-b225-c321abd1af88",
   "metadata": {
    "execution": {
     "iopub.execute_input": "2024-09-19T15:35:18.371457Z",
     "iopub.status.busy": "2024-09-19T15:35:18.371283Z",
     "iopub.status.idle": "2024-09-19T15:35:22.540486Z",
     "shell.execute_reply": "2024-09-19T15:35:22.540091Z",
     "shell.execute_reply.started": "2024-09-19T15:35:18.371441Z"
    },
    "tags": []
   },
   "outputs": [],
   "source": [
    "df_spec = df_spec.join(df_spec.apply(FillAgreggates,axis=1,result_type=\"expand\"))"
   ]
  },
  {
   "cell_type": "code",
   "execution_count": null,
   "id": "061123e6-46bf-4f91-9486-658d0c3a6b19",
   "metadata": {
    "execution": {
     "iopub.execute_input": "2024-09-19T15:35:22.541210Z",
     "iopub.status.busy": "2024-09-19T15:35:22.541076Z",
     "iopub.status.idle": "2024-09-19T15:35:22.630137Z",
     "shell.execute_reply": "2024-09-19T15:35:22.629795Z",
     "shell.execute_reply.started": "2024-09-19T15:35:22.541197Z"
    },
    "tags": []
   },
   "outputs": [],
   "source": [
    "df_spec"
   ]
  },
  {
   "cell_type": "markdown",
   "id": "a4f8b443-4bc5-46fc-a548-33441edee6da",
   "metadata": {},
   "source": [
    "## Aply selection"
   ]
  },
  {
   "cell_type": "code",
   "execution_count": null,
   "id": "2325b3ff-29c2-445a-b25e-cc11aba4f45a",
   "metadata": {
    "execution": {
     "iopub.execute_input": "2024-09-19T15:35:22.630805Z",
     "iopub.status.busy": "2024-09-19T15:35:22.630668Z",
     "iopub.status.idle": "2024-09-19T15:35:22.773018Z",
     "shell.execute_reply": "2024-09-19T15:35:22.772544Z",
     "shell.execute_reply.started": "2024-09-19T15:35:22.630793Z"
    },
    "tags": []
   },
   "outputs": [],
   "source": [
    "fig,ax = plt.subplots(1,1)\n",
    "df_spec[\"CHI2_FIT\"].hist(bins=50,ax=ax,range=(0,200))\n",
    "ax.set_yscale(\"log\")"
   ]
  },
  {
   "cell_type": "code",
   "execution_count": null,
   "id": "0d10c1ad-c5dc-4487-baa9-7c71ec531f45",
   "metadata": {
    "execution": {
     "iopub.execute_input": "2024-09-19T15:35:22.773715Z",
     "iopub.status.busy": "2024-09-19T15:35:22.773570Z",
     "iopub.status.idle": "2024-09-19T15:35:22.780606Z",
     "shell.execute_reply": "2024-09-19T15:35:22.780208Z",
     "shell.execute_reply.started": "2024-09-19T15:35:22.773702Z"
    }
   },
   "outputs": [],
   "source": [
    "df_spec[\"Time\"] = pd.to_datetime(df_spec[\"DATE-OBS\"])\n",
    "#df_spec[\"PWV [mm]_x\"]"
   ]
  },
  {
   "cell_type": "code",
   "execution_count": null,
   "id": "48bfb19b-f528-4154-99ae-b2358cb90317",
   "metadata": {
    "execution": {
     "iopub.execute_input": "2024-09-19T15:35:22.781282Z",
     "iopub.status.busy": "2024-09-19T15:35:22.781135Z",
     "iopub.status.idle": "2024-09-19T15:35:23.014187Z",
     "shell.execute_reply": "2024-09-19T15:35:23.013801Z",
     "shell.execute_reply.started": "2024-09-19T15:35:22.781268Z"
    }
   },
   "outputs": [],
   "source": [
    "Dt = pd.Timedelta(minutes=30)\n",
    "d = {}\n",
    "list_of_nightobs = df_spec[\"nightObs\"].unique()\n",
    "for nightobs in list_of_nightobs:\n",
    "    sel_flag = df_spec[\"nightObs\"] == nightobs\n",
    "    df_night = df_spec[sel_flag]\n",
    "    tmin = df_night[\"Time\"].min()-Dt\n",
    "    tmax = df_night[\"Time\"].max()+Dt\n",
    "    d[nightobs] = (tmin,tmax)"
   ]
  },
  {
   "cell_type": "code",
   "execution_count": null,
   "id": "3fd02994-4a05-4145-8da9-10ac7f5b920a",
   "metadata": {
    "execution": {
     "iopub.execute_input": "2024-09-19T15:35:23.014857Z",
     "iopub.status.busy": "2024-09-19T15:35:23.014725Z",
     "iopub.status.idle": "2024-09-19T15:35:23.432403Z",
     "shell.execute_reply": "2024-09-19T15:35:23.432004Z",
     "shell.execute_reply.started": "2024-09-19T15:35:23.014845Z"
    }
   },
   "outputs": [],
   "source": [
    "from matplotlib.dates import DateFormatter\n",
    "date_form = DateFormatter(\"%y-%m-%dT%H:%M\")\n",
    "fig,axs = plt.subplots(1,1,figsize=(14,4))\n",
    "ax1  = axs\n",
    "df_spec.plot(x=\"Time\",y=\"PWV [mm]_x\",ax=ax1,marker='+',c=\"r\",lw=0.0,grid=True,label=\"PWV_x\")\n",
    "ax1.set_ylabel(\"PWV [mm]_x\")\n",
    "#df_spec.plot(x=\"Time\",y=\"PWV [mm]_y\",ax=ax2,marker='+',c=\"b\",lw=0.0,grid=True,label=\"PWV_y\")\n",
    "ax1.set_xlabel(\"time\")\n",
    "ax1.xaxis.set_major_formatter(date_form)\n",
    "ax1.set_title(\"Precipibable water vapor meas by holo vs time\")\n",
    "\n",
    "for key, tt in d.items():\n",
    "    ax1.axvspan(tt[0],tt[1], color='blue', alpha=0.1)\n",
    "\n",
    "plt.tight_layout()"
   ]
  },
  {
   "cell_type": "markdown",
   "id": "564f9a05-b3e2-4d61-9457-cda76ebd2a1b",
   "metadata": {},
   "source": [
    "## Apply selection"
   ]
  },
  {
   "cell_type": "code",
   "execution_count": null,
   "id": "e1cbfa40-4395-47f4-9acf-6a9f531fabd4",
   "metadata": {
    "execution": {
     "iopub.execute_input": "2024-09-19T15:35:23.433104Z",
     "iopub.status.busy": "2024-09-19T15:35:23.432976Z",
     "iopub.status.idle": "2024-09-19T15:35:23.440110Z",
     "shell.execute_reply": "2024-09-19T15:35:23.439704Z",
     "shell.execute_reply.started": "2024-09-19T15:35:23.433091Z"
    }
   },
   "outputs": [],
   "source": [
    "cut =  (df_spec[\"CHI2_FIT\"]<20) & (df_spec[\"PWV [mm]_x\"] >0.1) & (df_spec[\"PWV [mm]_x\"] < 9.9) \n",
    "df_spec_sel = df_spec[cut].drop(labels=['_count', '_pwvmin', '_pwvmax', '_pwvmean', '_pwvmedian', '_pwvstd','_chi2min', '_chi2max', '_chi2mean', '_chi2median', '_chi2std'],axis=1)"
   ]
  },
  {
   "cell_type": "code",
   "execution_count": null,
   "id": "bae62b07-17d4-423e-bdfe-634272a040a2",
   "metadata": {
    "execution": {
     "iopub.execute_input": "2024-09-19T15:35:23.440757Z",
     "iopub.status.busy": "2024-09-19T15:35:23.440628Z",
     "iopub.status.idle": "2024-09-19T15:35:23.443885Z",
     "shell.execute_reply": "2024-09-19T15:35:23.443531Z",
     "shell.execute_reply.started": "2024-09-19T15:35:23.440744Z"
    },
    "tags": []
   },
   "outputs": [],
   "source": [
    "df_spec_sel.reset_index(drop=True,inplace=True)"
   ]
  },
  {
   "cell_type": "code",
   "execution_count": null,
   "id": "8bad857c-b6e0-41ec-96bb-089ed1b696d9",
   "metadata": {
    "execution": {
     "iopub.execute_input": "2024-09-19T15:35:23.444465Z",
     "iopub.status.busy": "2024-09-19T15:35:23.444348Z",
     "iopub.status.idle": "2024-09-19T15:35:23.533035Z",
     "shell.execute_reply": "2024-09-19T15:35:23.532632Z",
     "shell.execute_reply.started": "2024-09-19T15:35:23.444455Z"
    },
    "tags": []
   },
   "outputs": [],
   "source": [
    "df_spec_sel"
   ]
  },
  {
   "cell_type": "code",
   "execution_count": null,
   "id": "5f2bb2b2-a77b-485d-975b-88912029b163",
   "metadata": {
    "execution": {
     "iopub.execute_input": "2024-09-19T15:35:23.533685Z",
     "iopub.status.busy": "2024-09-19T15:35:23.533559Z",
     "iopub.status.idle": "2024-09-19T15:35:23.540956Z",
     "shell.execute_reply": "2024-09-19T15:35:23.540607Z",
     "shell.execute_reply.started": "2024-09-19T15:35:23.533673Z"
    },
    "tags": []
   },
   "outputs": [],
   "source": [
    "ser_PWV_CHI2_FIT_sel = df_spec_sel[[\"PWV [mm]_x\",\"CHI2_FIT\",\"nightObs\"]].groupby([\"nightObs\"]).agg(['count','min', 'max','mean','std','median'])"
   ]
  },
  {
   "cell_type": "code",
   "execution_count": null,
   "id": "cf57d2d5-abc5-4743-864d-46617e6cfe82",
   "metadata": {
    "execution": {
     "iopub.execute_input": "2024-09-19T15:35:23.541578Z",
     "iopub.status.busy": "2024-09-19T15:35:23.541459Z",
     "iopub.status.idle": "2024-09-19T15:35:23.553053Z",
     "shell.execute_reply": "2024-09-19T15:35:23.552650Z",
     "shell.execute_reply.started": "2024-09-19T15:35:23.541567Z"
    },
    "tags": []
   },
   "outputs": [],
   "source": [
    "ser_PWV_CHI2_FIT_sel"
   ]
  },
  {
   "cell_type": "code",
   "execution_count": null,
   "id": "32089a52-fb70-4ef2-b900-c34975c325c8",
   "metadata": {
    "execution": {
     "iopub.execute_input": "2024-09-19T15:35:23.558765Z",
     "iopub.status.busy": "2024-09-19T15:35:23.558629Z",
     "iopub.status.idle": "2024-09-19T15:35:23.563483Z",
     "shell.execute_reply": "2024-09-19T15:35:23.563141Z",
     "shell.execute_reply.started": "2024-09-19T15:35:23.558753Z"
    },
    "tags": []
   },
   "outputs": [],
   "source": [
    "def FillAgreggatesSel(row):\n",
    "    the_nightObs = row[\"nightObs\"]\n",
    "    df_night = ser_PWV_CHI2_FIT_sel.loc[the_nightObs,:].unstack()\n",
    "    count = df_night.loc[\"PWV [mm]_x\",\"count\"]\n",
    "    pwvmin = df_night.loc[\"PWV [mm]_x\",\"min\"]\n",
    "    pwvmax = df_night.loc[\"PWV [mm]_x\",\"max\"]\n",
    "    pwvmean = df_night.loc[\"PWV [mm]_x\",\"mean\"]\n",
    "    pwvmedian = df_night.loc[\"PWV [mm]_x\",\"median\"]\n",
    "    pwvstd = df_night.loc[\"PWV [mm]_x\",\"std\"]\n",
    "    chi2min = df_night.loc[\"CHI2_FIT\",\"min\"]\n",
    "    chi2max = df_night.loc[\"CHI2_FIT\",\"max\"]\n",
    "    chi2mean = df_night.loc[\"CHI2_FIT\",\"mean\"]\n",
    "    chi2median = df_night.loc[\"CHI2_FIT\",\"median\"]\n",
    "    chi2std = df_night.loc[\"CHI2_FIT\",\"std\"]\n",
    "    \n",
    "    d = {\"_count\":count,\"_pwvmin\":pwvmin,\"_pwvmax\":pwvmax,\"_pwvmean\":pwvmean,\"_pwvmedian\":pwvmedian,\"_pwvstd\":pwvstd,\n",
    "        \"_chi2min\":chi2min,\"_chi2max\":chi2max,\"_chi2mean\":chi2mean,\"_chi2median\":chi2median,\"_chi2std\":chi2std}\n",
    "    \n",
    "    ser = pd.Series(data=d)\n",
    "\n",
    "    return ser\n",
    "    "
   ]
  },
  {
   "cell_type": "code",
   "execution_count": null,
   "id": "6d9205d1-8997-4cbb-9238-c5d703dccc66",
   "metadata": {
    "execution": {
     "iopub.execute_input": "2024-09-19T15:35:23.564057Z",
     "iopub.status.busy": "2024-09-19T15:35:23.563938Z",
     "iopub.status.idle": "2024-09-19T15:35:23.568591Z",
     "shell.execute_reply": "2024-09-19T15:35:23.568246Z",
     "shell.execute_reply.started": "2024-09-19T15:35:23.564046Z"
    },
    "tags": []
   },
   "outputs": [],
   "source": [
    "row = df_spec_sel.iloc[0]\n",
    "row"
   ]
  },
  {
   "cell_type": "code",
   "execution_count": null,
   "id": "bd0c304b-cd1b-46d3-8719-876f731bbff4",
   "metadata": {
    "execution": {
     "iopub.execute_input": "2024-09-19T15:35:23.569215Z",
     "iopub.status.busy": "2024-09-19T15:35:23.569096Z",
     "iopub.status.idle": "2024-09-19T15:35:23.574233Z",
     "shell.execute_reply": "2024-09-19T15:35:23.573846Z",
     "shell.execute_reply.started": "2024-09-19T15:35:23.569204Z"
    },
    "tags": []
   },
   "outputs": [],
   "source": [
    "FillAgreggatesSel(row)"
   ]
  },
  {
   "cell_type": "code",
   "execution_count": null,
   "id": "b99a8e47-540c-4c1a-af93-79761d15697a",
   "metadata": {
    "execution": {
     "iopub.execute_input": "2024-09-19T15:35:23.574781Z",
     "iopub.status.busy": "2024-09-19T15:35:23.574657Z",
     "iopub.status.idle": "2024-09-19T15:35:25.662024Z",
     "shell.execute_reply": "2024-09-19T15:35:25.661632Z",
     "shell.execute_reply.started": "2024-09-19T15:35:23.574770Z"
    },
    "tags": []
   },
   "outputs": [],
   "source": [
    "df_part2 = df_spec_sel.apply(FillAgreggatesSel,axis=1,result_type=\"expand\")\n",
    "df_part2"
   ]
  },
  {
   "cell_type": "code",
   "execution_count": null,
   "id": "7df3b6b8-24f7-4639-a94e-35f345c5e450",
   "metadata": {
    "execution": {
     "iopub.execute_input": "2024-09-19T15:35:25.662744Z",
     "iopub.status.busy": "2024-09-19T15:35:25.662595Z",
     "iopub.status.idle": "2024-09-19T15:35:27.907429Z",
     "shell.execute_reply": "2024-09-19T15:35:27.906981Z",
     "shell.execute_reply.started": "2024-09-19T15:35:25.662732Z"
    },
    "tags": []
   },
   "outputs": [],
   "source": [
    "df_spec_sel = df_spec_sel.join(df_spec_sel.apply(FillAgreggatesSel,axis=1,result_type=\"expand\"))"
   ]
  },
  {
   "cell_type": "code",
   "execution_count": null,
   "id": "65fb06a8-7bfb-4c08-9ad7-ced34e9430df",
   "metadata": {
    "execution": {
     "iopub.execute_input": "2024-09-19T15:35:27.908236Z",
     "iopub.status.busy": "2024-09-19T15:35:27.908025Z",
     "iopub.status.idle": "2024-09-19T15:35:28.009275Z",
     "shell.execute_reply": "2024-09-19T15:35:28.008881Z",
     "shell.execute_reply.started": "2024-09-19T15:35:27.908224Z"
    },
    "tags": []
   },
   "outputs": [],
   "source": [
    "df_spec_sel"
   ]
  },
  {
   "cell_type": "code",
   "execution_count": null,
   "id": "57e9b3e1-5556-4785-865d-9e2a2ddb7e85",
   "metadata": {
    "execution": {
     "iopub.execute_input": "2024-09-19T15:35:28.009970Z",
     "iopub.status.busy": "2024-09-19T15:35:28.009841Z",
     "iopub.status.idle": "2024-09-19T15:35:28.067755Z",
     "shell.execute_reply": "2024-09-19T15:35:28.067401Z",
     "shell.execute_reply.started": "2024-09-19T15:35:28.009958Z"
    }
   },
   "outputs": [],
   "source": [
    "Dt = pd.Timedelta(minutes=30)\n",
    "d = {}\n",
    "list_of_nightobs = df_spec_sel[\"nightObs\"].unique()\n",
    "for nightobs in list_of_nightobs:\n",
    "    sel_flag = df_spec_sel[\"nightObs\"] == nightobs\n",
    "    df_night = df_spec_sel[sel_flag]\n",
    "    tmin = df_night[\"Time\"].min()-Dt\n",
    "    tmax = df_night[\"Time\"].max()+Dt\n",
    "    d[nightobs] = (tmin,tmax)"
   ]
  },
  {
   "cell_type": "code",
   "execution_count": null,
   "id": "58b3d86e-7a6a-4685-8f5c-af994b7b2164",
   "metadata": {
    "execution": {
     "iopub.execute_input": "2024-09-19T15:35:28.068461Z",
     "iopub.status.busy": "2024-09-19T15:35:28.068325Z",
     "iopub.status.idle": "2024-09-19T15:35:28.404959Z",
     "shell.execute_reply": "2024-09-19T15:35:28.404479Z",
     "shell.execute_reply.started": "2024-09-19T15:35:28.068449Z"
    },
    "tags": []
   },
   "outputs": [],
   "source": [
    "from matplotlib.dates import DateFormatter\n",
    "date_form = DateFormatter(\"%y-%m-%dT%H:%M\")\n",
    "fig,axs = plt.subplots(1,1,figsize=(14,4))\n",
    "ax1  = axs\n",
    "df_spec_sel.plot(x=\"Time\",y=\"PWV [mm]_x\",ax=ax1,marker='+',c=\"r\",lw=0.0,grid=True,label=\"PWV_x\")\n",
    "ax1.set_ylabel(\"PWV [mm]_x\")\n",
    "#df_spec_sel.plot(x=\"Time\",y=\"PWV [mm]_y\",ax=ax2,marker='+',c=\"b\",lw=0.0,grid=True,label=\"PWV_y\")\n",
    "ax1.set_xlabel(\"time\")\n",
    "ax1.xaxis.set_major_formatter(date_form)\n",
    "ax1.set_title(\"Precipibable water vapor meas by holo selected vs time\")\n",
    "\n",
    "for key, tt in d.items():\n",
    "    ax1.axvspan(tt[0],tt[1], color='blue', alpha=0.1)\n",
    "\n",
    "plt.tight_layout()"
   ]
  },
  {
   "cell_type": "code",
   "execution_count": null,
   "id": "6e3a3cb8-0ec9-45db-8439-25d6a6a57527",
   "metadata": {
    "execution": {
     "iopub.execute_input": "2024-09-19T15:35:28.405679Z",
     "iopub.status.busy": "2024-09-19T15:35:28.405546Z",
     "iopub.status.idle": "2024-09-19T15:35:28.414953Z",
     "shell.execute_reply": "2024-09-19T15:35:28.414468Z",
     "shell.execute_reply.started": "2024-09-19T15:35:28.405667Z"
    },
    "tags": []
   },
   "outputs": [],
   "source": [
    "ser_CHI2_FIT_sel = df_spec_sel[[\"CHI2_FIT\",\"nightObs\"]].groupby([\"nightObs\"]).agg(['count','min', 'max','mean','std','median'])\n",
    "ser_PWV_sel = df_spec_sel[[\"PWV [mm]_x\",\"nightObs\"]].groupby([\"nightObs\"]).agg(['count','min', 'max','mean','std','median'])"
   ]
  },
  {
   "cell_type": "code",
   "execution_count": null,
   "id": "592ee0e1-64fb-40c3-b57f-8362d1a05be8",
   "metadata": {
    "execution": {
     "iopub.execute_input": "2024-09-19T15:35:28.415613Z",
     "iopub.status.busy": "2024-09-19T15:35:28.415490Z",
     "iopub.status.idle": "2024-09-19T15:35:28.852148Z",
     "shell.execute_reply": "2024-09-19T15:35:28.851767Z",
     "shell.execute_reply.started": "2024-09-19T15:35:28.415602Z"
    },
    "tags": []
   },
   "outputs": [],
   "source": [
    "fig,ax = plt.subplots(1,1,figsize=(18,3))\n",
    "ser_PWV_sel.unstack()[\"PWV [mm]_x\"][\"count\"].plot(kind='bar', ax=ax,subplots=False, rot=90,figsize=(18,4),facecolor=\"b\",grid=True,title=\"Number of measurements per night after selection\")\n",
    "plt.tight_layout()"
   ]
  },
  {
   "cell_type": "code",
   "execution_count": null,
   "id": "77ab654f-1ca7-42a1-9939-920126c1899f",
   "metadata": {
    "execution": {
     "iopub.execute_input": "2024-09-19T15:35:28.852866Z",
     "iopub.status.busy": "2024-09-19T15:35:28.852735Z",
     "iopub.status.idle": "2024-09-19T15:35:29.281374Z",
     "shell.execute_reply": "2024-09-19T15:35:29.280964Z",
     "shell.execute_reply.started": "2024-09-19T15:35:28.852854Z"
    },
    "tags": []
   },
   "outputs": [],
   "source": [
    "fig,ax = plt.subplots(1,1,figsize=(18,3))\n",
    "ser_PWV_sel.unstack()[\"PWV [mm]_x\"][\"mean\"].plot(kind='bar',ax=ax ,subplots=False, rot=90,figsize=(18,4),facecolor='b',grid=True,title=\"Mean PWV per night after selection\")\n",
    "plt.tight_layout()"
   ]
  },
  {
   "cell_type": "code",
   "execution_count": null,
   "id": "4b391453-3c1e-4c6d-8e57-4df77c0d4fca",
   "metadata": {
    "execution": {
     "iopub.execute_input": "2024-09-19T15:35:29.282157Z",
     "iopub.status.busy": "2024-09-19T15:35:29.282025Z",
     "iopub.status.idle": "2024-09-19T15:35:29.707779Z",
     "shell.execute_reply": "2024-09-19T15:35:29.707318Z",
     "shell.execute_reply.started": "2024-09-19T15:35:29.282145Z"
    },
    "tags": []
   },
   "outputs": [],
   "source": [
    "fig,ax = plt.subplots(1,1,figsize=(18,3))\n",
    "ser_PWV_sel.unstack()[\"PWV [mm]_x\"][\"median\"].plot(kind='bar',ax=ax ,subplots=False, rot=90,figsize=(18,4),facecolor='b',grid=True,title=\"Median PWV per night after selection\")\n",
    "plt.tight_layout()"
   ]
  },
  {
   "cell_type": "code",
   "execution_count": null,
   "id": "8f90c624-4571-4c84-87b8-a71e49f91af6",
   "metadata": {
    "execution": {
     "iopub.execute_input": "2024-09-19T15:35:29.708510Z",
     "iopub.status.busy": "2024-09-19T15:35:29.708381Z",
     "iopub.status.idle": "2024-09-19T15:35:30.347860Z",
     "shell.execute_reply": "2024-09-19T15:35:30.347467Z",
     "shell.execute_reply.started": "2024-09-19T15:35:29.708498Z"
    },
    "tags": []
   },
   "outputs": [],
   "source": [
    "fig,ax = plt.subplots(1,1,figsize=(18,3))\n",
    "ser_PWV_sel.unstack()[\"PWV [mm]_x\"][\"std\"].plot(kind='bar', subplots=False, rot=90,figsize=(18,4),facecolor='b',grid=True,title=\"STD variation for PWV per night after selection\")\n",
    "plt.tight_layout()"
   ]
  },
  {
   "cell_type": "code",
   "execution_count": null,
   "id": "438bb890-9dc1-4ece-801e-63c849d73358",
   "metadata": {
    "execution": {
     "iopub.execute_input": "2024-09-19T15:35:30.348572Z",
     "iopub.status.busy": "2024-09-19T15:35:30.348442Z",
     "iopub.status.idle": "2024-09-19T15:35:30.809755Z",
     "shell.execute_reply": "2024-09-19T15:35:30.809342Z",
     "shell.execute_reply.started": "2024-09-19T15:35:30.348559Z"
    },
    "tags": []
   },
   "outputs": [],
   "source": [
    "fig,ax = plt.subplots(1,1,figsize=(18,3))\n",
    "ser_CHI2_FIT_sel.unstack()[\"CHI2_FIT\"][\"mean\"].plot(kind='bar',ax=ax ,subplots=False, rot=90,figsize=(18,4),facecolor='r',grid=True,title=\"Mean CHI2 per night after selection\")\n",
    "plt.tight_layout()"
   ]
  },
  {
   "cell_type": "code",
   "execution_count": null,
   "id": "fccf0310-c102-4a36-a14f-63e724ccceb1",
   "metadata": {
    "execution": {
     "iopub.execute_input": "2024-09-19T15:35:30.810449Z",
     "iopub.status.busy": "2024-09-19T15:35:30.810321Z",
     "iopub.status.idle": "2024-09-19T15:35:31.247912Z",
     "shell.execute_reply": "2024-09-19T15:35:31.247534Z",
     "shell.execute_reply.started": "2024-09-19T15:35:30.810437Z"
    },
    "tags": []
   },
   "outputs": [],
   "source": [
    "fig,ax = plt.subplots(1,1,figsize=(18,3))\n",
    "ser_CHI2_FIT_sel.unstack()[\"CHI2_FIT\"][\"median\"].plot(kind='bar',ax=ax ,subplots=False, rot=90,figsize=(18,4),facecolor='r',grid=True,title=\"Median CHI2 per night after selection\")\n",
    "plt.tight_layout()"
   ]
  },
  {
   "cell_type": "code",
   "execution_count": null,
   "id": "b2c26008-c15e-4cf3-ace1-3ddddda64abd",
   "metadata": {
    "execution": {
     "iopub.execute_input": "2024-09-19T15:35:31.248601Z",
     "iopub.status.busy": "2024-09-19T15:35:31.248475Z",
     "iopub.status.idle": "2024-09-19T15:35:31.682431Z",
     "shell.execute_reply": "2024-09-19T15:35:31.682051Z",
     "shell.execute_reply.started": "2024-09-19T15:35:31.248589Z"
    },
    "tags": []
   },
   "outputs": [],
   "source": [
    "fig,ax = plt.subplots(1,1,figsize=(18,3))\n",
    "ser_CHI2_FIT_sel.unstack()[\"CHI2_FIT\"][\"std\"].plot(kind='bar',ax=ax ,subplots=False, rot=90,figsize=(18,4),facecolor='r',grid=True,title=\"STD variation CHI2 per night after selection\")\n",
    "plt.tight_layout()"
   ]
  },
  {
   "cell_type": "markdown",
   "id": "2e327548-326f-428f-867f-3ad46e7f6753",
   "metadata": {},
   "source": [
    "## Show time variation each night"
   ]
  },
  {
   "cell_type": "code",
   "execution_count": null,
   "id": "7320d772-3123-4866-8d2c-3c9f0d8769ad",
   "metadata": {
    "execution": {
     "iopub.execute_input": "2024-09-19T15:35:31.683191Z",
     "iopub.status.busy": "2024-09-19T15:35:31.683063Z",
     "iopub.status.idle": "2024-09-19T15:35:31.687529Z",
     "shell.execute_reply": "2024-09-19T15:35:31.687192Z",
     "shell.execute_reply.started": "2024-09-19T15:35:31.683179Z"
    }
   },
   "outputs": [],
   "source": [
    "all_selected_nights = df_spec_sel[\"nightObs\"].unique()"
   ]
  },
  {
   "cell_type": "code",
   "execution_count": null,
   "id": "c8c101b3-7120-4e5b-9da8-f712b21f6c48",
   "metadata": {
    "execution": {
     "iopub.execute_input": "2024-09-19T15:35:31.688091Z",
     "iopub.status.busy": "2024-09-19T15:35:31.687976Z",
     "iopub.status.idle": "2024-09-19T15:35:31.692869Z",
     "shell.execute_reply": "2024-09-19T15:35:31.692479Z",
     "shell.execute_reply.started": "2024-09-19T15:35:31.688080Z"
    }
   },
   "outputs": [],
   "source": [
    "def funclineres(params, x, y, yerr):\n",
    "    # Return residual = fit-observed\n",
    "    return (y-params[0] -params[1]*x)/yerr\n",
    "def funcline(params,x):\n",
    "    return params[0] + params[1]*x"
   ]
  },
  {
   "cell_type": "code",
   "execution_count": null,
   "id": "e325547d-9f5e-4336-9fe4-5778597333cf",
   "metadata": {
    "execution": {
     "iopub.execute_input": "2024-09-19T15:35:31.693627Z",
     "iopub.status.busy": "2024-09-19T15:35:31.693510Z",
     "iopub.status.idle": "2024-09-19T15:35:32.810088Z",
     "shell.execute_reply": "2024-09-19T15:35:32.807266Z",
     "shell.execute_reply.started": "2024-09-19T15:35:31.693616Z"
    }
   },
   "outputs": [],
   "source": [
    "all_dateObs_sel = {}\n",
    "\n",
    "for night in all_selected_nights:\n",
    "    df_spec_night = df_spec_sel[df_spec_sel[\"nightObs\"] == night]\n",
    "    df_night_pwv_curve = df_spec_night[[\"Time\",\"PWV [mm]_x\",\"PWV [mm]_err_x\"]]\n",
    "\n",
    "    tmin = df_night_pwv_curve[\"Time\"].min()\n",
    "\n",
    "    # convert in hours\n",
    "    df_night_pwv_curve[\"dt\"] = (df_night_pwv_curve[\"Time\"] - tmin).dt.total_seconds()/3600.\n",
    "    \n",
    "    \n",
    "    stat = df_night_pwv_curve[[\"PWV [mm]_x\"]].describe()\n",
    "    date_form = DateFormatter(\"%y-%m-%dT%H:%M\")\n",
    "    count = int(stat.loc[\"count\"].values[0])\n",
    "    mean = stat.loc[\"mean\"].values[0]\n",
    "    median = stat.loc[\"50%\"].values[0]\n",
    "    std = stat.loc[\"std\"].values[0]\n",
    "    textstr = \"\\n\".join((f\"count : {count}\",\n",
    "                     f\"mean : {mean:.1f} mm\",\n",
    "                     f\"median : {median:.1f} mm\",\n",
    "                     f\"std : {std:.1f} mm\",\n",
    "                    ))\n",
    "\n",
    "\n",
    "    \n",
    "\n",
    "    N= len(df_night_pwv_curve)\n",
    "\n",
    "    if N>10:\n",
    "        # does the fit\n",
    "        f = lambda x, *p: p[0] * x + p[1]\n",
    "        x = df_night_pwv_curve[\"dt\"].values\n",
    "        y = df_night_pwv_curve[\"PWV [mm]_x\"].values\n",
    "        yerr = df_night_pwv_curve[\"PWV [mm]_err_x\"].values\n",
    "        n = len(y)\n",
    "        \n",
    "        #popt, pcov = optimize.curve_fit(f, x, y, [1,-4])\n",
    "        fit_res = least_squares(funclineres,[5.,0],args = (x,y,yerr))\n",
    "        popt = fit_res.x \n",
    "        npar = len(popt)\n",
    "        J = fit_res.jac\n",
    "        cov = np.linalg.inv(J.T.dot(J))\n",
    "        chi2dof = ((funclineres(popt,x,y,yerr))**2).sum()/(n-npar)\n",
    "        cov *= chi2dof\n",
    "        perr = np.sqrt(np.diagonal(cov)) \n",
    "        \n",
    "\n",
    "        xfit = np.linspace(x.min()*0.99,x.max()*1.05)\n",
    "        yfit = funcline(popt,xfit)\n",
    "        \n",
    "        \n",
    "       \n",
    "\n",
    "        slope = popt[1]\n",
    "        slope_err = perr[1]\n",
    "        \n",
    "        textstr2 = \"\\n\".join((f\"d(PWV/dt) : \",\n",
    "                     f\"slope : {slope:.3f} mm/hour \",\n",
    "                     f\"slope err : {slope_err:.3f} mm/hour\",\n",
    "                     f\"chi2/ndeg : {chi2dof:.2f}\",       \n",
    "                    ))\n",
    "\n",
    "        textstr3 = \"\\n\".join((f\"d(PWV/dt) : \",\n",
    "                     f\"slope : {slope:.3f} mm/hour \",\n",
    "                     f\"slope err : {slope_err:.3f} mm/hour\",  \n",
    "                    ))\n",
    "    \n",
    "\n",
    "        stat.loc[\"slope\",\"PWV [mm]_x\"] = slope \n",
    "        stat.loc[\"slope_err\",\"PWV [mm]_x\"] = slope_err \n",
    "        stat.loc[\"chi2\",\"PWV [mm]_x\"] = chi2dof\n",
    "        \n",
    "        # plot\n",
    "        #fig,(ax,ax2) = plt.subplots(1,2,figsize=(12,5))\n",
    "        \n",
    "        fig = plt.figure(figsize=(14,5))\n",
    "        #gs = GridSpec(1, 2, wspace=0, hspace=2., width_ratios=[2,1],figure=fig)\n",
    "        gs = GridSpec(1, 2,  width_ratios=[2,1],figure=fig)\n",
    "\n",
    "        ax = fig.add_subplot(gs[0])\n",
    "        ax2 = fig.add_subplot(gs[1],sharey=ax1)\n",
    "        #ax2 = fig.add_subplot(gs[1])\n",
    "        \n",
    "        df_night_pwv_curve.plot(x=\"Time\",y=\"PWV [mm]_x\",ax=ax,marker='+',c=\"r\",lw=0.0,grid=True,legend=False)\n",
    "        ax.errorbar(x=df_night_pwv_curve.Time, y=df_night_pwv_curve[\"PWV [mm]_x\"],yerr=df_night_pwv_curve[\"PWV [mm]_err_x\"],fmt=\".\",color=\"r\",ecolor=\"k\")\n",
    "        ax.set_ylabel(\"PWV [mm]_x\")\n",
    "        ax.set_xlabel(\"time\")\n",
    "        ax.xaxis.set_major_formatter(date_form)\n",
    "        ax.set_ylim(0.,12.)\n",
    "        ax.text(0.03, 0.95, textstr, transform=ax.transAxes, fontsize=14,\n",
    "        verticalalignment='top', bbox=props)\n",
    "        ax.text(0.45, 0.95, textstr3, transform=ax.transAxes, fontsize=14,\n",
    "        verticalalignment='top', bbox=props)\n",
    "        ax.set_title(f\"night {night}\")\n",
    "\n",
    "        ax2.errorbar(x=df_night_pwv_curve.dt, y=df_night_pwv_curve[\"PWV [mm]_x\"],yerr=df_night_pwv_curve[\"PWV [mm]_err_x\"],fmt=\".\",color=\"r\",ecolor=\"k\")\n",
    "        ax2.set_xlabel(\"hours\")\n",
    "        ax2.set_ylim(0.,12.)\n",
    "        ax2.grid()\n",
    "        ax2.plot(xfit,yfit,\"k-\")\n",
    "        ax2.text(0.45, 0.95, textstr2, transform=ax2.transAxes, fontsize=14,\n",
    "        verticalalignment='top', bbox=props)\n",
    "        ax2.set_title(f\"night {night}\")\n",
    "        \n",
    "        plt.tight_layout()\n",
    "        figname =f\"figs/pwv_per_night_{night}.pdf\"\n",
    "        plt.savefig(figname)\n",
    "        plt.show()\n",
    "\n",
    "        # add statistics\n",
    "        all_dateObs_sel[night] = stat"
   ]
  },
  {
   "cell_type": "markdown",
   "id": "97b44c4b-b7d6-40c2-bdd5-976c712f5ee2",
   "metadata": {},
   "source": [
    "## Make a summary of Night quality"
   ]
  },
  {
   "cell_type": "code",
   "execution_count": null,
   "id": "1e714311-4d20-4d3a-b3ca-204571b24d0e",
   "metadata": {
    "execution": {
     "iopub.status.busy": "2024-09-19T15:35:32.810605Z",
     "iopub.status.idle": "2024-09-19T15:35:32.810782Z",
     "shell.execute_reply": "2024-09-19T15:35:32.810702Z",
     "shell.execute_reply.started": "2024-09-19T15:35:32.810687Z"
    }
   },
   "outputs": [],
   "source": [
    "df = pd.DataFrame(columns = [\"count\",\"mean\",\"median\",\"std\",\"slope\",\"slope_err\"])"
   ]
  },
  {
   "cell_type": "code",
   "execution_count": null,
   "id": "dd8278d1-63ee-4871-8ac6-d79ae99ce8cf",
   "metadata": {
    "execution": {
     "iopub.status.busy": "2024-09-19T15:35:32.811182Z",
     "iopub.status.idle": "2024-09-19T15:35:32.811333Z",
     "shell.execute_reply": "2024-09-19T15:35:32.811264Z",
     "shell.execute_reply.started": "2024-09-19T15:35:32.811257Z"
    }
   },
   "outputs": [],
   "source": [
    "for nightObs, stat in all_dateObs_sel.items():\n",
    "    count = int(stat.loc[\"count\"].values[0])\n",
    "    mean = stat.loc[\"mean\"].values[0]\n",
    "    median = stat.loc[\"50%\"].values[0]\n",
    "    std = stat.loc[\"std\"].values[0]\n",
    "    slope = stat.loc[\"slope\"].values[0]\n",
    "    slope_err = stat.loc[\"slope_err\"].values[0]\n",
    "    df.loc[nightObs] = [count,mean,median,std,slope,slope_err]\n",
    "    "
   ]
  },
  {
   "cell_type": "code",
   "execution_count": null,
   "id": "a7d41f71-743d-432e-a431-c53e7373d6d0",
   "metadata": {
    "execution": {
     "iopub.status.busy": "2024-09-19T15:35:32.811893Z",
     "iopub.status.idle": "2024-09-19T15:35:32.812049Z",
     "shell.execute_reply": "2024-09-19T15:35:32.811976Z",
     "shell.execute_reply.started": "2024-09-19T15:35:32.811969Z"
    }
   },
   "outputs": [],
   "source": [
    "def ComputeDataTimeStr(num):\n",
    "    year = num//10000\n",
    "    remain = (num-year*10000)\n",
    "    month = remain//100\n",
    "    day = remain-100*month\n",
    "    yearstr = f\"{year}\"\n",
    "    monthstr = f\"{month}\"\n",
    "    daystr= f\"{day}\"\n",
    "    stry = yearstr.zfill(4)\n",
    "    strm = monthstr.zfill(2)\n",
    "    strd = daystr.zfill(2)\n",
    "    \n",
    "    str = f\"{stry}-{strm}-{strd}\"\n",
    "    return str"
   ]
  },
  {
   "cell_type": "code",
   "execution_count": null,
   "id": "52cad1fd-2fce-4659-ac9d-e86db14e8add",
   "metadata": {
    "execution": {
     "iopub.status.busy": "2024-09-19T15:35:32.812670Z",
     "iopub.status.idle": "2024-09-19T15:35:32.812832Z",
     "shell.execute_reply": "2024-09-19T15:35:32.812758Z",
     "shell.execute_reply.started": "2024-09-19T15:35:32.812751Z"
    }
   },
   "outputs": [],
   "source": [
    "df[\"Time\"] = pd.to_datetime([ ComputeDataTimeStr(num) for  num in df.index])"
   ]
  },
  {
   "cell_type": "code",
   "execution_count": null,
   "id": "2b0eff2f-9f71-4de0-956a-572ac165431f",
   "metadata": {
    "execution": {
     "iopub.status.busy": "2024-09-19T15:35:32.813306Z",
     "iopub.status.idle": "2024-09-19T15:35:32.813452Z",
     "shell.execute_reply": "2024-09-19T15:35:32.813382Z",
     "shell.execute_reply.started": "2024-09-19T15:35:32.813375Z"
    }
   },
   "outputs": [],
   "source": [
    "df.head()"
   ]
  },
  {
   "cell_type": "code",
   "execution_count": null,
   "id": "0ac49704-a32b-4e40-b653-d284130e6118",
   "metadata": {
    "execution": {
     "iopub.status.busy": "2024-09-19T15:35:32.813983Z",
     "iopub.status.idle": "2024-09-19T15:35:32.814130Z",
     "shell.execute_reply": "2024-09-19T15:35:32.814060Z",
     "shell.execute_reply.started": "2024-09-19T15:35:32.814054Z"
    }
   },
   "outputs": [],
   "source": [
    "from matplotlib.dates import DateFormatter\n",
    "date_form = DateFormatter(\"%y-%m-%d\")\n",
    "fig,axs = plt.subplots(2,1,figsize=(12,6),sharex=True)\n",
    "ax1,ax2  = axs\n",
    "df.plot(x=\"Time\",y=\"median\",ax=ax1,marker='+',c=\"r\",lw=0.0,grid=True,label=\"PWV_x\")\n",
    "ax1.errorbar(x=df[\"Time\"], y=df[\"median\"],yerr=df[\"std\"],fmt=\".\",color=\"r\",ecolor=\"k\")\n",
    "ax1.set_ylabel(\"PWV (mm)\")\n",
    "ax1.set_xlabel(\"time\")\n",
    "ax1.xaxis.set_major_formatter(date_form)\n",
    "ax1.set_title(\"Median Precipitable water vapor per night\")\n",
    "ax1.set_ylim(0.,11)\n",
    "\n",
    "ax2.set_title(\"Fitted drift per night\")\n",
    "ax2.errorbar(x=df[\"Time\"], y=df[\"slope\"],yerr=df[\"slope_err\"],fmt=\".\",color=\"r\",ecolor=\"k\")\n",
    "ax2.grid()\n",
    "ax2.set_ylabel(\"dPWV/dt (mm/hour)\")\n",
    "ax2.set_xlabel(\"time\")\n",
    "ax2.set_ylim(-1.,1.)\n",
    "ax2.xaxis.set_major_formatter(date_form)\n",
    "\n",
    "ax2.tick_params(axis='x', labelrotation=45)\n",
    "#for key, tt in d.items():\n",
    "#    ax1.axvspan(tt[0],tt[1], color='blue', alpha=0.1)\n",
    "\n",
    "plt.tight_layout()"
   ]
  },
  {
   "cell_type": "code",
   "execution_count": null,
   "id": "6b9b1cf9-b7a0-448f-8262-c3277de89d62",
   "metadata": {
    "execution": {
     "iopub.status.busy": "2024-09-19T15:35:32.814718Z",
     "iopub.status.idle": "2024-09-19T15:35:32.814867Z",
     "shell.execute_reply": "2024-09-19T15:35:32.814795Z",
     "shell.execute_reply.started": "2024-09-19T15:35:32.814789Z"
    }
   },
   "outputs": [],
   "source": [
    "from matplotlib.dates import DateFormatter\n",
    "date_form = DateFormatter(\"%y-%m-%d\")\n",
    "fig,axs = plt.subplots(1,1,figsize=(12,4))\n",
    "ax1 = axs\n",
    "df.plot(x=\"Time\",y=\"median\",ax=ax1,marker='+',c=\"r\",ms=20,lw=0.0,grid=True,label=\"PWV_x\")\n",
    "ax1.errorbar(x=df[\"Time\"], y=df[\"median\"],yerr=df[\"std\"],fmt=\"o\",ms=5,color=\"r\",ecolor=\"k\")\n",
    "ax1.set_ylabel(\"PWV (mm)\")\n",
    "ax1.set_xlabel(\"time\")\n",
    "ax1.xaxis.set_major_formatter(date_form)\n",
    "ax1.set_title(\"Median and spread of Precipitable water vapor per night\")\n",
    "ax1.set_ylim(0.,11)"
   ]
  },
  {
   "cell_type": "code",
   "execution_count": null,
   "id": "4f2b57be-182f-40f6-8def-ba956324e445",
   "metadata": {},
   "outputs": [],
   "source": []
  }
 ],
 "metadata": {
  "kernelspec": {
   "display_name": "Python 3 (ipykernel)",
   "language": "python",
   "name": "python3"
  },
  "language_info": {
   "codemirror_mode": {
    "name": "ipython",
    "version": 3
   },
   "file_extension": ".py",
   "mimetype": "text/x-python",
   "name": "python",
   "nbconvert_exporter": "python",
   "pygments_lexer": "ipython3",
   "version": "3.11.9"
  }
 },
 "nbformat": 4,
 "nbformat_minor": 5
}
