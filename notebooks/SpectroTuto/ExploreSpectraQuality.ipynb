{
 "cells": [
  {
   "cell_type": "markdown",
   "id": "45bf4242-bfc5-4d43-88c4-a8059ae148df",
   "metadata": {},
   "source": [
    "# Selection of spectra according quality criteria"
   ]
  },
  {
   "cell_type": "markdown",
   "id": "01993b6e-6438-4fca-a5d5-1f9791336847",
   "metadata": {},
   "source": [
    "- author Sylvie Dagoret-Campagne\n",
    "- affiliation : IJCLab\n",
    "- creation date 2024-11-15 :\n",
    "- update 2024-11-15 :\n",
    "- Kernel @usdf **w_2024_41*\n",
    "- Office emac : mamba_py311\n",
    "- Home emac : base (conda)\n",
    "- laptop : conda_py310\n",
    "- MUST RUN AT USDF"
   ]
  },
  {
   "cell_type": "markdown",
   "id": "0219159d-6865-4311-ac1d-99d11dad223f",
   "metadata": {},
   "source": [
    "**Goal** : Show correlation holo /Merra"
   ]
  },
  {
   "cell_type": "code",
   "execution_count": null,
   "id": "63a2b2ef-0bc2-45eb-91d9-87835d264751",
   "metadata": {
    "execution": {
     "iopub.execute_input": "2024-11-15T10:10:26.602199Z",
     "iopub.status.busy": "2024-11-15T10:10:26.602079Z",
     "iopub.status.idle": "2024-11-15T10:10:26.604751Z",
     "shell.execute_reply": "2024-11-15T10:10:26.604359Z",
     "shell.execute_reply.started": "2024-11-15T10:10:26.602186Z"
    },
    "tags": []
   },
   "outputs": [],
   "source": [
    "from platform import python_version\n",
    "print(python_version())"
   ]
  },
  {
   "cell_type": "code",
   "execution_count": null,
   "id": "dcc53afe-c58f-4948-92c9-0090d373ad2a",
   "metadata": {
    "execution": {
     "iopub.execute_input": "2024-11-15T10:10:26.605304Z",
     "iopub.status.busy": "2024-11-15T10:10:26.605170Z",
     "iopub.status.idle": "2024-11-15T10:10:26.613655Z",
     "shell.execute_reply": "2024-11-15T10:10:26.613337Z",
     "shell.execute_reply.started": "2024-11-15T10:10:26.605292Z"
    }
   },
   "outputs": [],
   "source": [
    "import warnings\n",
    "warnings.resetwarnings()\n",
    "warnings.simplefilter('ignore')"
   ]
  },
  {
   "cell_type": "code",
   "execution_count": null,
   "id": "8026d265-2493-4045-afec-26205ff71f7c",
   "metadata": {
    "execution": {
     "iopub.execute_input": "2024-11-15T10:10:26.614126Z",
     "iopub.status.busy": "2024-11-15T10:10:26.614014Z",
     "iopub.status.idle": "2024-11-15T10:10:26.619828Z",
     "shell.execute_reply": "2024-11-15T10:10:26.619469Z",
     "shell.execute_reply.started": "2024-11-15T10:10:26.614115Z"
    },
    "tags": []
   },
   "outputs": [],
   "source": [
    "from platform import python_version\n",
    "print(python_version())"
   ]
  },
  {
   "cell_type": "code",
   "execution_count": null,
   "id": "eb1f116e-80e3-46ad-a7db-7f253632e5ca",
   "metadata": {
    "execution": {
     "iopub.execute_input": "2024-11-15T10:10:26.621136Z",
     "iopub.status.busy": "2024-11-15T10:10:26.621012Z",
     "iopub.status.idle": "2024-11-15T10:10:26.626071Z",
     "shell.execute_reply": "2024-11-15T10:10:26.625711Z",
     "shell.execute_reply.started": "2024-11-15T10:10:26.621124Z"
    }
   },
   "outputs": [],
   "source": [
    "import os"
   ]
  },
  {
   "cell_type": "markdown",
   "id": "9b7d1780-5d55-420e-bdff-6e2822028032",
   "metadata": {},
   "source": [
    "#### Create output directory for figures and data"
   ]
  },
  {
   "cell_type": "code",
   "execution_count": null,
   "id": "3ec760cd-3d3f-4a34-a6f6-b226fe500951",
   "metadata": {
    "execution": {
     "iopub.execute_input": "2024-11-15T10:10:26.626610Z",
     "iopub.status.busy": "2024-11-15T10:10:26.626481Z",
     "iopub.status.idle": "2024-11-15T10:10:26.632268Z",
     "shell.execute_reply": "2024-11-15T10:10:26.631916Z",
     "shell.execute_reply.started": "2024-11-15T10:10:26.626597Z"
    }
   },
   "outputs": [],
   "source": [
    "# where are stored the figures\n",
    "pathfigs = \"figsStudyNightSpectra\"\n",
    "if not os.path.exists(pathfigs):\n",
    "    os.makedirs(pathfigs) \n",
    "figtype = \".png\""
   ]
  },
  {
   "cell_type": "code",
   "execution_count": null,
   "id": "bb905fbb-b876-478c-a242-8a8b347cf4af",
   "metadata": {
    "execution": {
     "iopub.execute_input": "2024-11-15T10:10:26.632818Z",
     "iopub.status.busy": "2024-11-15T10:10:26.632686Z",
     "iopub.status.idle": "2024-11-15T10:10:26.639435Z",
     "shell.execute_reply": "2024-11-15T10:10:26.639046Z",
     "shell.execute_reply.started": "2024-11-15T10:10:26.632800Z"
    }
   },
   "outputs": [],
   "source": [
    "pathdata = \"dataStudyNightSpectra\"\n",
    "if not os.path.exists(pathdata):\n",
    "    os.makedirs(pathdata) \n",
    "datapath_output = os.path.join(pathdata,\"pernightspectra\") \n",
    "if not os.path.exists(datapath_output):\n",
    "    os.makedirs(datapath_output) "
   ]
  },
  {
   "cell_type": "markdown",
   "id": "b98a1aae-58b3-4135-9e74-7809c35eeba2",
   "metadata": {},
   "source": [
    "#### Imports"
   ]
  },
  {
   "cell_type": "code",
   "execution_count": null,
   "id": "bf752b70-e6ca-4cbf-8e8c-20bf7f0d8f61",
   "metadata": {
    "execution": {
     "iopub.execute_input": "2024-11-15T10:10:26.640045Z",
     "iopub.status.busy": "2024-11-15T10:10:26.639925Z",
     "iopub.status.idle": "2024-11-15T10:10:27.753088Z",
     "shell.execute_reply": "2024-11-15T10:10:27.752656Z",
     "shell.execute_reply.started": "2024-11-15T10:10:26.640035Z"
    }
   },
   "outputs": [],
   "source": [
    "import matplotlib as mpl\n",
    "import matplotlib.pyplot as plt\n",
    "%matplotlib inline\n",
    "from mpl_toolkits.axes_grid1 import make_axes_locatable\n",
    "from matplotlib.colors import LogNorm,SymLogNorm\n",
    "from matplotlib.patches import Circle,Annulus\n",
    "from astropy.visualization import ZScaleInterval\n",
    "props = dict(boxstyle='round', facecolor=\"white\", alpha=0.1)\n",
    "#props = dict(boxstyle='round')\n",
    "\n",
    "import matplotlib.colors as colors\n",
    "import matplotlib.cm as cmx\n",
    "\n",
    "import matplotlib.ticker                         # here's where the formatter is\n",
    "from matplotlib.ticker import (MultipleLocator, FormatStrFormatter,\n",
    "                               AutoMinorLocator)\n",
    "\n",
    "from matplotlib.gridspec import GridSpec\n",
    "\n",
    "from astropy.visualization import (MinMaxInterval, SqrtStretch,ZScaleInterval,PercentileInterval,\n",
    "                                   ImageNormalize,imshow_norm)\n",
    "from astropy.visualization.stretch import SinhStretch, LinearStretch,AsinhStretch,LogStretch\n",
    "\n",
    "import numpy as np\n",
    "from numpy.linalg import inv\n",
    "\n",
    "\n",
    "from astropy.io import fits\n",
    "from astropy.wcs import WCS\n",
    "from astropy import units as u\n",
    "from astropy import constants as c\n",
    "\n",
    "from astropy.coordinates.earth import EarthLocation\n",
    "from datetime import datetime\n",
    "from pytz import timezone\n",
    "\n",
    "import scipy\n",
    "from scipy.optimize import curve_fit,least_squares\n",
    "from scipy.interpolate import RegularGridInterpolator\n",
    "from scipy import interpolate\n",
    "from sklearn.neighbors import NearestNeighbors\n",
    "from sklearn.neighbors import KDTree, BallTree\n",
    "\n",
    "import pandas as pd\n",
    "pd.set_option(\"display.max_columns\", None)\n",
    "pd.set_option('display.max_rows', 100)\n",
    "\n",
    "import matplotlib.ticker                         # here's where the formatter is\n",
    "import os\n",
    "import re\n",
    "import pandas as pd\n",
    "import pickle\n",
    "from collections import OrderedDict\n",
    "\n",
    "plt.rcParams[\"figure.figsize\"] = (4,3)\n",
    "plt.rcParams[\"axes.labelsize\"] = 'xx-large'\n",
    "plt.rcParams['axes.titlesize'] = 'xx-large'\n",
    "plt.rcParams['xtick.labelsize']= 'xx-large'\n",
    "plt.rcParams['ytick.labelsize']= 'xx-large'\n",
    "plt.rcParams['legend.fontsize']=  12\n",
    "plt.rcParams['font.size'] = 12\n",
    "\n",
    "# new color correction model\n",
    "import pickle\n",
    "\n",
    "from tqdm import tqdm"
   ]
  },
  {
   "cell_type": "code",
   "execution_count": null,
   "id": "98268139-19c9-46c3-af3b-42fb49770b26",
   "metadata": {
    "execution": {
     "iopub.execute_input": "2024-11-15T10:10:27.753810Z",
     "iopub.status.busy": "2024-11-15T10:10:27.753567Z",
     "iopub.status.idle": "2024-11-15T10:10:27.759879Z",
     "shell.execute_reply": "2024-11-15T10:10:27.759530Z",
     "shell.execute_reply.started": "2024-11-15T10:10:27.753796Z"
    }
   },
   "outputs": [],
   "source": [
    "from mpl_toolkits.axes_grid1.inset_locator import inset_axes"
   ]
  },
  {
   "cell_type": "code",
   "execution_count": null,
   "id": "0ca0d1e6-5f82-4c43-aaa3-8524fc2bc5ba",
   "metadata": {
    "execution": {
     "iopub.execute_input": "2024-11-15T10:10:27.760407Z",
     "iopub.status.busy": "2024-11-15T10:10:27.760290Z",
     "iopub.status.idle": "2024-11-15T10:10:27.769394Z",
     "shell.execute_reply": "2024-11-15T10:10:27.769051Z",
     "shell.execute_reply.started": "2024-11-15T10:10:27.760396Z"
    }
   },
   "outputs": [],
   "source": [
    "from matplotlib.ticker import (MultipleLocator, FormatStrFormatter,\n",
    "                               AutoMinorLocator)\n",
    "\n",
    "from astropy.visualization import (MinMaxInterval, SqrtStretch,ZScaleInterval,PercentileInterval,\n",
    "                                   ImageNormalize,imshow_norm)\n",
    "from astropy.visualization.stretch import SinhStretch, LinearStretch,AsinhStretch,LogStretch\n",
    "\n",
    "from astropy.time import Time\n"
   ]
  },
  {
   "cell_type": "code",
   "execution_count": null,
   "id": "e189816c-5048-43ab-a01a-7c078af54489",
   "metadata": {
    "execution": {
     "iopub.execute_input": "2024-11-15T10:10:27.769924Z",
     "iopub.status.busy": "2024-11-15T10:10:27.769807Z",
     "iopub.status.idle": "2024-11-15T10:10:27.775743Z",
     "shell.execute_reply": "2024-11-15T10:10:27.775401Z",
     "shell.execute_reply.started": "2024-11-15T10:10:27.769913Z"
    }
   },
   "outputs": [],
   "source": [
    "# Remove to run faster the notebook\n",
    "#import ipywidgets as widgets\n",
    "#%matplotlib widget"
   ]
  },
  {
   "cell_type": "code",
   "execution_count": null,
   "id": "67327fd4-e405-45ce-8923-cd46ebaa0c0f",
   "metadata": {
    "execution": {
     "iopub.execute_input": "2024-11-15T10:10:27.776264Z",
     "iopub.status.busy": "2024-11-15T10:10:27.776138Z",
     "iopub.status.idle": "2024-11-15T10:10:27.781827Z",
     "shell.execute_reply": "2024-11-15T10:10:27.781480Z",
     "shell.execute_reply.started": "2024-11-15T10:10:27.776253Z"
    },
    "tags": []
   },
   "outputs": [],
   "source": [
    "from importlib.metadata import version"
   ]
  },
  {
   "cell_type": "code",
   "execution_count": null,
   "id": "d8bbab49-a26b-4f5e-82c1-800d57fa5294",
   "metadata": {
    "execution": {
     "iopub.execute_input": "2024-11-15T10:10:27.782334Z",
     "iopub.status.busy": "2024-11-15T10:10:27.782211Z",
     "iopub.status.idle": "2024-11-15T10:10:27.787926Z",
     "shell.execute_reply": "2024-11-15T10:10:27.787595Z",
     "shell.execute_reply.started": "2024-11-15T10:10:27.782323Z"
    }
   },
   "outputs": [],
   "source": [
    "import warnings\n",
    "warnings.filterwarnings(\"ignore\")"
   ]
  },
  {
   "cell_type": "code",
   "execution_count": null,
   "id": "9ca2734f-e551-49dd-9e2e-aa00f6c0416e",
   "metadata": {
    "execution": {
     "iopub.execute_input": "2024-11-15T10:10:27.788578Z",
     "iopub.status.busy": "2024-11-15T10:10:27.788424Z",
     "iopub.status.idle": "2024-11-15T10:10:27.793922Z",
     "shell.execute_reply": "2024-11-15T10:10:27.793598Z",
     "shell.execute_reply.started": "2024-11-15T10:10:27.788567Z"
    }
   },
   "outputs": [],
   "source": [
    "# wavelength bin colors\n",
    "#jet = plt.get_cmap('jet')\n",
    "#cNorm = mpl.colors.Normalize(vmin=0, vmax=NSED)\n",
    "#scalarMap = cmx.ScalarMappable(norm=cNorm, cmap=jet)\n",
    "#all_colors = scalarMap.to_rgba(np.arange(NSED), alpha=1)"
   ]
  },
  {
   "cell_type": "code",
   "execution_count": null,
   "id": "fe2bd763-d19f-477b-b13b-5ee2a3244fce",
   "metadata": {
    "execution": {
     "iopub.execute_input": "2024-11-15T10:10:27.794377Z",
     "iopub.status.busy": "2024-11-15T10:10:27.794269Z",
     "iopub.status.idle": "2024-11-15T10:10:28.489020Z",
     "shell.execute_reply": "2024-11-15T10:10:28.488558Z",
     "shell.execute_reply.started": "2024-11-15T10:10:27.794367Z"
    }
   },
   "outputs": [],
   "source": [
    "import spectractor\n",
    "from spectractor.tools import from_lambda_to_colormap, wavelength_to_rgb\n",
    "from spectractor.simulation.throughput import load_transmission,plot_transmission_simple,TelescopeTransmission\n",
    "from spectractor import parameters\n",
    "from spectractor.extractor import dispersers\n",
    "from spectractor.config import load_config,set_logger\n",
    "import os,sys,re"
   ]
  },
  {
   "cell_type": "code",
   "execution_count": null,
   "id": "7e48b5c0-3292-4438-98e0-22109009f033",
   "metadata": {
    "execution": {
     "iopub.execute_input": "2024-11-15T10:10:28.489778Z",
     "iopub.status.busy": "2024-11-15T10:10:28.489484Z",
     "iopub.status.idle": "2024-11-15T10:10:28.588287Z",
     "shell.execute_reply": "2024-11-15T10:10:28.587877Z",
     "shell.execute_reply.started": "2024-11-15T10:10:28.489766Z"
    }
   },
   "outputs": [],
   "source": [
    "import getCalspec.getCalspec as gcal"
   ]
  },
  {
   "cell_type": "markdown",
   "id": "0c04c695-e9c1-4c8b-9dee-194a59f1012c",
   "metadata": {},
   "source": [
    "#### Butler access\n",
    "\n",
    "- these access may change with time\n",
    "- check my collections are found"
   ]
  },
  {
   "cell_type": "code",
   "execution_count": null,
   "id": "5031a87c-0488-4497-9dcd-e363077ccb86",
   "metadata": {
    "execution": {
     "iopub.execute_input": "2024-11-15T10:10:28.589023Z",
     "iopub.status.busy": "2024-11-15T10:10:28.588778Z",
     "iopub.status.idle": "2024-11-15T10:10:28.591101Z",
     "shell.execute_reply": "2024-11-15T10:10:28.590731Z",
     "shell.execute_reply.started": "2024-11-15T10:10:28.589010Z"
    }
   },
   "outputs": [],
   "source": [
    "def get_whereclause(expos_id):\n",
    "    return f\"exposure.id = {expos_id} and instrument = \\'LATISS\\'\""
   ]
  },
  {
   "cell_type": "code",
   "execution_count": null,
   "id": "c7edb7d7-78f7-469f-b235-ae6429f38f90",
   "metadata": {
    "execution": {
     "iopub.execute_input": "2024-11-15T10:10:28.591632Z",
     "iopub.status.busy": "2024-11-15T10:10:28.591512Z",
     "iopub.status.idle": "2024-11-15T10:10:32.268946Z",
     "shell.execute_reply": "2024-11-15T10:10:32.268401Z",
     "shell.execute_reply.started": "2024-11-15T10:10:28.591621Z"
    }
   },
   "outputs": [],
   "source": [
    "from lsst.summit.utils.utils import checkStackSetup\n",
    "checkStackSetup()"
   ]
  },
  {
   "cell_type": "code",
   "execution_count": null,
   "id": "4cd91ced-1a0b-4099-b84e-e447d02f9b79",
   "metadata": {
    "execution": {
     "iopub.execute_input": "2024-11-15T10:10:32.270044Z",
     "iopub.status.busy": "2024-11-15T10:10:32.269444Z",
     "iopub.status.idle": "2024-11-15T10:10:33.531188Z",
     "shell.execute_reply": "2024-11-15T10:10:33.530730Z",
     "shell.execute_reply.started": "2024-11-15T10:10:32.270031Z"
    }
   },
   "outputs": [],
   "source": [
    "# Notice before I had to use these lines to access to butler\n",
    "import lsst.summit.utils.butlerUtils as butlerUtils\n",
    "butler = butlerUtils.makeDefaultLatissButler(embargo=True)\n",
    "\n",
    "# Now I have to use these lines\n",
    "import lsst.daf.butler as dafButler\n",
    "#repo = \"/repo/main\"\n",
    "repo = \"/repo/embargo_old\"\n",
    "\n",
    "\n",
    "butler = dafButler.Butler(repo)\n",
    "registry = butler.registry\n",
    "\n",
    "for c in sorted(registry.queryCollections()):\n",
    "    #if \"u/jneveu\" in c and \"auxtel_atmo\" in c and \"SensorFlat\" in c and \"FixA1\" in c:\n",
    "    if \"u/dagoret\" in c and \"auxtel_atmo\" in c and \"SensorFlat\" in c and \"FixA1\" in c:\n",
    "        print(c)"
   ]
  },
  {
   "cell_type": "markdown",
   "id": "efde2b71-16eb-484b-97f5-52611eb85410",
   "metadata": {},
   "source": [
    "#### Environnement for rubinsimphot\n",
    "- Configure to access to rubinsimphot\n",
    "- Note it is important to have the rubinsimphot path in the python path\n",
    "- check the dm_version repository the newpythonpath "
   ]
  },
  {
   "cell_type": "code",
   "execution_count": null,
   "id": "127cae08-bcb7-4afc-8ca7-10f149b668bc",
   "metadata": {
    "execution": {
     "iopub.execute_input": "2024-11-15T10:10:33.533898Z",
     "iopub.status.busy": "2024-11-15T10:10:33.533763Z",
     "iopub.status.idle": "2024-11-15T10:10:33.537741Z",
     "shell.execute_reply": "2024-11-15T10:10:33.537387Z",
     "shell.execute_reply.started": "2024-11-15T10:10:33.533885Z"
    }
   },
   "outputs": [],
   "source": [
    "dm_version=\"repos_w_2024_41\" \n",
    "machine_name = os.uname().nodename\n",
    "print(machine_name)\n",
    "if 'sdf' in machine_name:\n",
    "    #machine_name_usdf = 'sdfrome001'\n",
    "    #machine_name_notebook platform = 'dagoret-nb'\n",
    "    print(\"Set environement for USDF\")\n",
    "    newpythonpath = os.path.join(os.getenv(\"HOME\"),f\"repos/{dm_version}/rubinsimphot/src\")\n",
    "    sys.path.append(newpythonpath)\n",
    "    newpythonpath = os.path.join(os.getenv(\"HOME\"),\"rubin-user/RubinLSSTPhotometricCorrTuto/notebooks/lib\")\n",
    "    sys.path.append(newpythonpath)   \n",
    "elif \"dagoret-nb\" in machine_name:\n",
    "    print(\"Set environement for Rubin Platform at  USDF\")\n",
    "    newpythonpath = os.path.join(os.getenv(\"HOME\"),f\"repos/{dm_version}/rubinsimphot/src\")\n",
    "    sys.path.append(newpythonpath)\n",
    "    newpythonpath = os.path.join(os.getenv(\"HOME\"),\"rubin-user/RubinLSSTPhotometricCorrTuto/notebooks/lib\")\n",
    "    sys.path.append(newpythonpath)\n",
    "elif 'mac' in machine_name:\n",
    "    print(\"Be sure to run this notebook in conda environnement named conda_py310\")\n",
    "else:\n",
    "    print(\"Your current machine name is {machine_name}. Check your python environment\")"
   ]
  },
  {
   "cell_type": "code",
   "execution_count": null,
   "id": "c9312f5a-a683-47cb-83fb-dddd29ae0872",
   "metadata": {
    "execution": {
     "iopub.execute_input": "2024-11-15T10:10:33.538226Z",
     "iopub.status.busy": "2024-11-15T10:10:33.538106Z",
     "iopub.status.idle": "2024-11-15T10:10:33.558124Z",
     "shell.execute_reply": "2024-11-15T10:10:33.557762Z",
     "shell.execute_reply.started": "2024-11-15T10:10:33.538210Z"
    }
   },
   "outputs": [],
   "source": [
    "from rubinsimphot.phot_utils import Bandpass, Sed\n",
    "from rubinsimphot.data.data_sets import  get_data_dir\n",
    "\n",
    "#README.md        darksky.dat      filter_r.dat     hardware_g.dat   hardware_y.dat   lens3.dat        total_g.dat      total_y.dat\n",
    "#README_SOURCE.md detector.dat     filter_u.dat     hardware_i.dat   hardware_z.dat   m1.dat           total_i.dat      total_z.dat\n",
    "#atmos_10.dat     filter_g.dat     filter_y.dat     hardware_r.dat   lens1.dat        m2.dat           total_r.dat      version_info\n",
    "#atmos_std.dat    filter_i.dat     filter_z.dat     hardware_u.dat   lens2.dat        m3.dat           total_u.dat\n",
    "hardware_filenames = [\"hardware_u.dat\",\"hardware_g.dat\",\"hardware_r.dat\",\"hardware_i.dat\",\"hardware_z.dat\",\"hardware_y.dat\"] \n",
    "filter_filenames = [\"filter_u.dat\",\"filter_g.dat\",\"filter_r.dat\",\"filter_i.dat\",\"filter_z.dat\",\"filter_y.dat\" ]\n",
    "total_filenames = [\"total_u.dat\",\"total_g.dat\",\"total_r.dat\",\"total_i.dat\",\"total_z.dat\",\"total_y.dat\" ]\n",
    "filter_tagnames = [\"u\",\"g\",\"r\",\"i\",\"z\",\"y\"]\n",
    "Filter_tagnames = [\"U\",\"G\",\"R\",\"I\",\"Z\",\"Y\"]\n",
    "filtercolor_tagnames = [\"u-g\",\"g-r\",\"r-i\",\"i-z\",\"z-y\"]\n",
    "Filtercolor_tagnames = [\"U-G\",\"G-R\",\"R-I\",\"I-Y\",\"Z-Y\"]\n",
    "filter_color = [\"b\",\"g\",\"r\",\"orange\",\"grey\",\"k\"]\n",
    "NFILT=len(filter_filenames)\n",
    "\n",
    "WLMIN=300.\n",
    "WLMAX=1100.\n",
    "WLBIN=1.\n",
    "NWLBIN=int((WLMAX-WLMIN)/WLBIN)\n",
    "WL=np.linspace(WLMIN,WLMAX,NWLBIN)"
   ]
  },
  {
   "cell_type": "code",
   "execution_count": null,
   "id": "0e1b36c7-52df-4ef0-97fb-329769bf05a9",
   "metadata": {
    "execution": {
     "iopub.execute_input": "2024-11-15T10:10:33.558689Z",
     "iopub.status.busy": "2024-11-15T10:10:33.558571Z",
     "iopub.status.idle": "2024-11-15T10:10:33.562482Z",
     "shell.execute_reply": "2024-11-15T10:10:33.562122Z",
     "shell.execute_reply.started": "2024-11-15T10:10:33.558678Z"
    }
   },
   "outputs": [],
   "source": [
    "#FILTERWL: precalculated array containing center, boundaries and width of each filter.\n",
    "#index 0 : minimum wavelength of filter border\n",
    "#index 1 : minimum wavelength of filter border\n",
    "#index 2 : center wavelength of filter\n",
    "#index 3 : filter width\n",
    "\n",
    "\n",
    "FILTERWL = np.array([[ 324.03003755,  402.12765957,  363.59690349,   78.09762203],\n",
    "       [ 392.11514393,  561.32665832,  473.54069923,  169.21151439],\n",
    "       [ 542.3028786 ,  700.50062578,  619.49926767,  158.19774718],\n",
    "       [ 681.47684606,  827.65957447,  752.01084117,  146.18272841],\n",
    "       [ 808.63579474,  932.79098874,  868.488419  ,  124.15519399],\n",
    "       [ 914.76846058, 1044.93116395,  969.10570859,  130.16270338]])\n",
    "\n",
    "FILTERWL_auxtel = np.array([[ 352.7 ,  395.9 ,  374.3 ,   43.2 ],\n",
    "                     [ 387.6 ,  566.2 ,  476.9 ,  178.6 ],\n",
    "                     [ 541.4 ,  715.5 ,  628.45,  174.1 ],\n",
    "                     [ 673.3 ,  870.9 ,  772.1 ,  197.6 ],\n",
    "                     [ 805.6 , 1090.7 ,  948.15,  285.1 ]])\n",
    "\n",
    "\n",
    "F0 = 3631.0 # Jy 1, Jy = 10^{-23} erg.cm^{-2}.s^{-1}.Hz^{-1}\n",
    "Jy_to_ergcmm2sm1hzm1 = 1e-23\n",
    "DT = 30.0 # seconds\n",
    "gel = 1.1\n",
    "#hP = 6.62607015E-34 # J⋅Hz−1\n",
    "hP = 6.626196E-27\n",
    "A  = np.pi*642.3**2 # cm2  Reff=6.423 m\n",
    "A_auxtel  = 9636.0 # cm2\n",
    "\n",
    "#ZPT_cont =  2.5 \\log_{10} \\left(\\frac{F_0 A \\Delta T}{g_{el} h} \\right)\n",
    "ZPTconst = 2.5*np.log10(F0*Jy_to_ergcmm2sm1hzm1*A*DT/gel/hP)"
   ]
  },
  {
   "cell_type": "code",
   "execution_count": null,
   "id": "cfa1ffb8-317a-4b76-a38c-851c45cdf91c",
   "metadata": {
    "execution": {
     "iopub.execute_input": "2024-11-15T10:10:33.562967Z",
     "iopub.status.busy": "2024-11-15T10:10:33.562852Z",
     "iopub.status.idle": "2024-11-15T10:10:33.588286Z",
     "shell.execute_reply": "2024-11-15T10:10:33.587914Z",
     "shell.execute_reply.started": "2024-11-15T10:10:33.562957Z"
    }
   },
   "outputs": [],
   "source": [
    "fdir = get_data_dir()\n",
    "bandpass_inst = {}\n",
    "path_rubin_sim_throughput = os.path.join(fdir, 'throughputs', 'baseline')\n",
    "for index,filename in enumerate(hardware_filenames):\n",
    "    fullfilename=os.path.join(path_rubin_sim_throughput,filename)\n",
    "    arr= np.loadtxt(fullfilename)\n",
    "    # interpolate  filter transmission\n",
    "    ff = interpolate.interp1d(x=arr[:,0], y=arr[:,1],fill_value=\"extrapolate\")\n",
    "    fname = filter_tagnames[index]\n",
    "    bandpass_inst[fname] = Bandpass(wavelen=WL,sb=ff(WL))"
   ]
  },
  {
   "cell_type": "code",
   "execution_count": null,
   "id": "102ffdc7-b312-47db-b915-73b640fe4fbe",
   "metadata": {
    "execution": {
     "iopub.execute_input": "2024-11-15T10:10:33.588799Z",
     "iopub.status.busy": "2024-11-15T10:10:33.588685Z",
     "iopub.status.idle": "2024-11-15T10:10:33.713468Z",
     "shell.execute_reply": "2024-11-15T10:10:33.713090Z",
     "shell.execute_reply.started": "2024-11-15T10:10:33.588788Z"
    }
   },
   "outputs": [],
   "source": [
    "%matplotlib inline\n",
    "fig, axs = plt.subplots(1,1,figsize=(6,4))\n",
    "# loop on filter\n",
    "for index,f in enumerate(filter_tagnames):\n",
    "    \n",
    "    axs.plot(WL,bandpass_inst[f].sb,color=filter_color[index]) \n",
    "    axs.fill_between(WL,bandpass_inst[f].sb,color=filter_color[index],alpha=0.2) \n",
    "    axs.axvline(FILTERWL[index,2],color=filter_color[index],linestyle=\"-.\")\n",
    "    \n",
    "axs.set_xlabel(\"$\\\\lambda$ (nm)\")\n",
    "axs.set_title(\"Total Rubin-LSST filter throughput\")\n",
    "plt.show()"
   ]
  },
  {
   "cell_type": "markdown",
   "id": "a92067cc-ffbc-418e-89bb-56e357be9e78",
   "metadata": {},
   "source": [
    "## Access to throughput\n",
    "\n",
    "- Please check the curve used for the Throughput\n",
    "- The version of throughput is defined in ~/rubin-user/holo_atmo_2024-10-16 /processStar.yaml\n",
    "as 'instrumentTransmissionOverride': 'multispectra_holo4_003_HD142331_20230802_348-594_HD146233_AuxTel_v3\n",
    ".1.0_doSensorFlat_FreePressure_BG40ReScaled1.09_throughput.txt'"
   ]
  },
  {
   "cell_type": "code",
   "execution_count": null,
   "id": "ce79f5cd-8fc8-43ff-8633-8e4be180e380",
   "metadata": {
    "execution": {
     "iopub.execute_input": "2024-11-15T10:10:33.714055Z",
     "iopub.status.busy": "2024-11-15T10:10:33.713929Z",
     "iopub.status.idle": "2024-11-15T10:10:33.716789Z",
     "shell.execute_reply": "2024-11-15T10:10:33.716437Z",
     "shell.execute_reply.started": "2024-11-15T10:10:33.714043Z"
    }
   },
   "outputs": [],
   "source": [
    "spectractor_path = spectractor.__path__[0]\n",
    "spectractor_path"
   ]
  },
  {
   "cell_type": "code",
   "execution_count": null,
   "id": "2dda197c-bb72-495c-a5ef-1b07e9f91157",
   "metadata": {
    "execution": {
     "iopub.execute_input": "2024-11-15T10:10:33.717289Z",
     "iopub.status.busy": "2024-11-15T10:10:33.717168Z",
     "iopub.status.idle": "2024-11-15T10:10:33.722488Z",
     "shell.execute_reply": "2024-11-15T10:10:33.722089Z",
     "shell.execute_reply.started": "2024-11-15T10:10:33.717278Z"
    }
   },
   "outputs": [],
   "source": [
    "#config_path = \"~/repos/repos_w_2023_44/Spectractor/config/auxtel.ini\"\n",
    "config_path = f\"/home/d/dagoret/repos/repos_w_2024_41/Spectractor/config/auxtel.ini\"\n",
    "config_fullpath = os.path.join(spectractor.__path__[0],\"../config/auxtel.ini\")\n",
    "throughput_path = \"/home/d/dagoret/repos/repos_w_2024_41/Spectractor/spectractor/simulation/AuxTelThroughput\"\n",
    "#throughput_filename=\"multispectra_holo4_003_HD142331_20230802_AuxTel_doGainsPTC_v3.0.3_throughput.txt\"\n",
    "throughput_filename=\"multispectra_holo4_003_HD142331_20230802_348-594_HD146233_AuxTel_v3.1.0_doSensorFlat_FreePressure_BG40ReScaled1.09_throughput.txt\""
   ]
  },
  {
   "cell_type": "code",
   "execution_count": null,
   "id": "68e1cf22-4806-4d3e-8eb9-df60a649eea2",
   "metadata": {
    "execution": {
     "iopub.execute_input": "2024-11-15T10:10:33.723011Z",
     "iopub.status.busy": "2024-11-15T10:10:33.722894Z",
     "iopub.status.idle": "2024-11-15T10:10:33.728389Z",
     "shell.execute_reply": "2024-11-15T10:10:33.728052Z",
     "shell.execute_reply.started": "2024-11-15T10:10:33.723000Z"
    }
   },
   "outputs": [],
   "source": [
    "throughput_fullfilename = os.path.join(throughput_path,throughput_filename)"
   ]
  },
  {
   "cell_type": "code",
   "execution_count": null,
   "id": "009c81e6-7010-48d7-bd00-cb60bc41ec21",
   "metadata": {
    "execution": {
     "iopub.execute_input": "2024-11-15T10:10:33.728899Z",
     "iopub.status.busy": "2024-11-15T10:10:33.728785Z",
     "iopub.status.idle": "2024-11-15T10:10:33.735581Z",
     "shell.execute_reply": "2024-11-15T10:10:33.735240Z",
     "shell.execute_reply.started": "2024-11-15T10:10:33.728888Z"
    }
   },
   "outputs": [],
   "source": [
    "#tel_lambdas, tel_thr, tel_errthr = load_transmission(throughput_fullfilename) \n",
    "tel_arr = np.loadtxt(throughput_fullfilename)\n",
    "tel_lambdas = tel_arr[:,0] \n",
    "tel_thr = tel_arr[:,1]\n",
    "tel_errthr = tel_arr[:,2]\n",
    "\n",
    "class Telescope():\n",
    "    tel_lambdas = tel_lambdas \n",
    "    tel_thr  = tel_thr \n",
    "    tel_errthr = tel_errthr \n",
    "    func = interpolate.interp1d(tel_lambdas, tel_thr, kind='linear',  bounds_error=False, fill_value=0, \n",
    "                                    assume_sorted=False)\n",
    "    @classmethod\n",
    "    def transmission(cls, wls):\n",
    "        return  cls.func(wls)         "
   ]
  },
  {
   "cell_type": "code",
   "execution_count": null,
   "id": "109c5511-2c9b-43a6-88d6-1bf2477e09ae",
   "metadata": {
    "execution": {
     "iopub.execute_input": "2024-11-15T10:10:33.736141Z",
     "iopub.status.busy": "2024-11-15T10:10:33.736019Z",
     "iopub.status.idle": "2024-11-15T10:10:33.810472Z",
     "shell.execute_reply": "2024-11-15T10:10:33.810120Z",
     "shell.execute_reply.started": "2024-11-15T10:10:33.736130Z"
    }
   },
   "outputs": [],
   "source": [
    "%matplotlib inline\n",
    "fig = plt.figure(figsize=(8,4))\n",
    "ax = fig.add_subplot()\n",
    "ax.plot(tel_lambdas,tel_thr,'r-') \n",
    "ax.fill_between(tel_lambdas, y1=tel_thr-tel_errthr , y2=tel_thr+tel_errthr,facecolor=\"grey\")\n",
    "ax.set_xlabel(\"$\\lambda$ (nm)\")\n",
    "ax.set_ylabel(\"Throughput\")\n",
    "ax.set_title(\"Auxtel Telescope throughput\")\n",
    "plt.show()"
   ]
  },
  {
   "cell_type": "code",
   "execution_count": null,
   "id": "493ef7b6-c63e-47eb-a344-ad3c8ccfa221",
   "metadata": {
    "execution": {
     "iopub.execute_input": "2024-11-15T10:10:33.811004Z",
     "iopub.status.busy": "2024-11-15T10:10:33.810884Z",
     "iopub.status.idle": "2024-11-15T10:10:33.859392Z",
     "shell.execute_reply": "2024-11-15T10:10:33.859024Z",
     "shell.execute_reply.started": "2024-11-15T10:10:33.810993Z"
    }
   },
   "outputs": [],
   "source": [
    "plt.plot(WL,Telescope.transmission(WL))"
   ]
  },
  {
   "cell_type": "markdown",
   "id": "2268563d-9b11-4761-82ea-70c8dcc83762",
   "metadata": {},
   "source": [
    "#### Hologram throughput"
   ]
  },
  {
   "cell_type": "code",
   "execution_count": null,
   "id": "24934209-deae-4b00-89f5-254844b56682",
   "metadata": {
    "execution": {
     "iopub.execute_input": "2024-11-15T10:10:33.859942Z",
     "iopub.status.busy": "2024-11-15T10:10:33.859823Z",
     "iopub.status.idle": "2024-11-15T10:10:33.861793Z",
     "shell.execute_reply": "2024-11-15T10:10:33.861464Z",
     "shell.execute_reply.started": "2024-11-15T10:10:33.859931Z"
    }
   },
   "outputs": [],
   "source": [
    "holo_fullfilename  =\"/home/d/dagoret/repos/repos_w_2024_41/Spectractor/spectractor/extractor/dispersers/holo4_003/transmission.txt\""
   ]
  },
  {
   "cell_type": "code",
   "execution_count": null,
   "id": "1018d159-e619-4891-a46f-6b6d7b04356a",
   "metadata": {
    "execution": {
     "iopub.execute_input": "2024-11-15T10:10:33.862306Z",
     "iopub.status.busy": "2024-11-15T10:10:33.862182Z",
     "iopub.status.idle": "2024-11-15T10:10:33.869072Z",
     "shell.execute_reply": "2024-11-15T10:10:33.868740Z",
     "shell.execute_reply.started": "2024-11-15T10:10:33.862295Z"
    }
   },
   "outputs": [],
   "source": [
    "holo_arr = np.loadtxt(holo_fullfilename)\n",
    "holo_lambdas = holo_arr[:,0] \n",
    "holo_thr = holo_arr[:,1]\n",
    "holo_errthr = holo_arr[:,2]\n",
    "\n",
    "class Disp():\n",
    "    holo_lambdas = holo_lambdas \n",
    "    holo_thr  = holo_thr \n",
    "    holo_errthr = holo_errthr \n",
    "    func = interpolate.interp1d(holo_lambdas, holo_thr, kind='linear',  bounds_error=False, fill_value=0, \n",
    "                                    assume_sorted=False)\n",
    "    @classmethod\n",
    "    def transmission(cls, wls):\n",
    "        return  cls.func(wls)       "
   ]
  },
  {
   "cell_type": "code",
   "execution_count": null,
   "id": "58d7f59c-e76d-4c24-b023-c7da80fe0632",
   "metadata": {
    "execution": {
     "iopub.execute_input": "2024-11-15T10:10:33.869605Z",
     "iopub.status.busy": "2024-11-15T10:10:33.869487Z",
     "iopub.status.idle": "2024-11-15T10:10:33.943184Z",
     "shell.execute_reply": "2024-11-15T10:10:33.942830Z",
     "shell.execute_reply.started": "2024-11-15T10:10:33.869594Z"
    }
   },
   "outputs": [],
   "source": [
    "%matplotlib inline\n",
    "fig = plt.figure(figsize=(8,4))\n",
    "ax = fig.add_subplot()\n",
    "ax.plot(holo_lambdas,holo_thr,'r-') \n",
    "ax.fill_between(holo_lambdas, y1=holo_thr-holo_errthr , y2=holo_thr+holo_errthr,facecolor=\"grey\")\n",
    "ax.set_xlabel(\"$\\lambda$ (nm)\")\n",
    "ax.set_ylabel(\"Transmission\")\n",
    "ax.set_title(\"Hologram transmission\")\n",
    "plt.show()"
   ]
  },
  {
   "cell_type": "code",
   "execution_count": null,
   "id": "d8654084-6f53-4347-8a5f-b7fc5bb43052",
   "metadata": {
    "execution": {
     "iopub.execute_input": "2024-11-15T10:10:33.943722Z",
     "iopub.status.busy": "2024-11-15T10:10:33.943602Z",
     "iopub.status.idle": "2024-11-15T10:10:33.996039Z",
     "shell.execute_reply": "2024-11-15T10:10:33.995659Z",
     "shell.execute_reply.started": "2024-11-15T10:10:33.943710Z"
    }
   },
   "outputs": [],
   "source": [
    "plt.plot(WL,Disp.transmission(WL))"
   ]
  },
  {
   "cell_type": "markdown",
   "id": "357863bb-a7a4-4dce-9fc7-a901ae6ff34d",
   "metadata": {
    "execution": {
     "iopub.execute_input": "2024-11-13T10:34:05.736273Z",
     "iopub.status.busy": "2024-11-13T10:34:05.736142Z",
     "iopub.status.idle": "2024-11-13T10:34:05.968740Z",
     "shell.execute_reply": "2024-11-13T10:34:05.968057Z",
     "shell.execute_reply.started": "2024-11-13T10:34:05.736259Z"
    }
   },
   "source": [
    "### Load my stuff"
   ]
  },
  {
   "cell_type": "code",
   "execution_count": null,
   "id": "8e1afb4c-cca5-431b-a78f-779a96383265",
   "metadata": {
    "execution": {
     "iopub.execute_input": "2024-11-15T10:10:33.996657Z",
     "iopub.status.busy": "2024-11-15T10:10:33.996530Z",
     "iopub.status.idle": "2024-11-15T10:10:34.260677Z",
     "shell.execute_reply": "2024-11-15T10:10:34.260238Z",
     "shell.execute_reply.started": "2024-11-15T10:10:33.996645Z"
    }
   },
   "outputs": [],
   "source": [
    "sys.path.append(\"../lib\")\n",
    "from libauxtelspectra import *\n",
    "from libanaspectra import *\n",
    "from config_spectractor import *"
   ]
  },
  {
   "cell_type": "code",
   "execution_count": null,
   "id": "69c2484e-2728-465f-97a3-dfdccf8df91c",
   "metadata": {
    "execution": {
     "iopub.execute_input": "2024-11-15T10:10:34.261518Z",
     "iopub.status.busy": "2024-11-15T10:10:34.261187Z",
     "iopub.status.idle": "2024-11-15T10:10:34.263307Z",
     "shell.execute_reply": "2024-11-15T10:10:34.262970Z",
     "shell.execute_reply.started": "2024-11-15T10:10:34.261504Z"
    }
   },
   "outputs": [],
   "source": [
    "#config_fullpath = os.path.join(spectractor.__path__[0],\"../config/auxtel.ini\")\n",
    "#load_config_local(config_fullpath)"
   ]
  },
  {
   "cell_type": "code",
   "execution_count": null,
   "id": "db6282ae-b8e1-4d6f-a4c8-f60b6ac9c6a1",
   "metadata": {
    "execution": {
     "iopub.execute_input": "2024-11-15T10:10:34.263978Z",
     "iopub.status.busy": "2024-11-15T10:10:34.263715Z",
     "iopub.status.idle": "2024-11-15T10:10:34.270390Z",
     "shell.execute_reply": "2024-11-15T10:10:34.270037Z",
     "shell.execute_reply.started": "2024-11-15T10:10:34.263966Z"
    }
   },
   "outputs": [],
   "source": [
    "parameters.OBS_NAME"
   ]
  },
  {
   "cell_type": "markdown",
   "id": "2235372c-8b77-4bb6-bff6-e472157d24bd",
   "metadata": {},
   "source": [
    "## Access to spectra\n",
    "\n",
    "- But here we don't want to get all spectra. We fetch the sepected ones later"
   ]
  },
  {
   "cell_type": "code",
   "execution_count": null,
   "id": "5dca832b-2573-4545-a5bb-7f19669ea376",
   "metadata": {
    "execution": {
     "iopub.execute_input": "2024-11-15T10:10:34.270892Z",
     "iopub.status.busy": "2024-11-15T10:10:34.270780Z",
     "iopub.status.idle": "2024-11-15T10:10:34.367059Z",
     "shell.execute_reply": "2024-11-15T10:10:34.366617Z",
     "shell.execute_reply.started": "2024-11-15T10:10:34.270881Z"
    }
   },
   "outputs": [],
   "source": [
    "# my run 2024-09-24\n",
    "#my_collection = ['u/dagoret/auxtel_atmosphere_202301_v3.1.0_doSensorFlat_rebin2_lockedOrder2_FixA1_FixA2_FitAngstrom_WithGaia_freePressure_newThroughput6_BG40Scaled1.09_AtmoFitPressureA2_SpecErr_PeekFinder/20240924T161119Z']\n",
    "# my run 2024-10-16\n",
    "my_collection = ['u/dagoret/auxtel_atmosphere_202209_v3.1.0_doSensorFlat_rebin2_lockedOrder2_FixA1_FixA2_FitAngstrom_WithGaia_freePressure_newThroughput6_BG40Scaled1.09_AtmoFitPressureA2_SpecErr_No5SigmaClip/20241016T184601Z']\n",
    "datasetRefs = registry.queryDatasets(datasetType='spectractorSpectrum', collections=my_collection, where= \"instrument='LATISS'\")"
   ]
  },
  {
   "cell_type": "code",
   "execution_count": null,
   "id": "9a0495b3-0b26-43a7-8161-1615d2234e68",
   "metadata": {
    "execution": {
     "iopub.execute_input": "2024-11-15T10:10:34.367685Z",
     "iopub.status.busy": "2024-11-15T10:10:34.367556Z",
     "iopub.status.idle": "2024-11-15T10:10:34.776576Z",
     "shell.execute_reply": "2024-11-15T10:10:34.776164Z",
     "shell.execute_reply.started": "2024-11-15T10:10:34.367673Z"
    }
   },
   "outputs": [],
   "source": [
    "where = \"instrument='LATISS'\" \n",
    "records = list(butler.registry.queryDimensionRecords('visit', datasets='spectractorSpectrum', where=where,  collections=my_collection))\n",
    "\n",
    "refs = list(set(butler.registry.queryDatasets('spectractorSpectrum',  where=where,  collections=my_collection)))\n",
    "# records = list(butler.registry.queryDimensionRecords('visit', datasets='raw', where=where))"
   ]
  },
  {
   "cell_type": "code",
   "execution_count": null,
   "id": "41e2d12a-67fe-40b9-9d63-d26432b62851",
   "metadata": {
    "execution": {
     "iopub.execute_input": "2024-11-15T10:10:34.777203Z",
     "iopub.status.busy": "2024-11-15T10:10:34.777074Z",
     "iopub.status.idle": "2024-11-15T10:10:34.780805Z",
     "shell.execute_reply": "2024-11-15T10:10:34.780475Z",
     "shell.execute_reply.started": "2024-11-15T10:10:34.777191Z"
    }
   },
   "outputs": [],
   "source": [
    "print(len(records))\n",
    "records[0]"
   ]
  },
  {
   "cell_type": "code",
   "execution_count": null,
   "id": "8c04fd1a-15e5-41a7-bdb2-7644008e0a30",
   "metadata": {
    "execution": {
     "iopub.execute_input": "2024-11-15T10:10:34.781317Z",
     "iopub.status.busy": "2024-11-15T10:10:34.781194Z",
     "iopub.status.idle": "2024-11-15T10:10:34.789273Z",
     "shell.execute_reply": "2024-11-15T10:10:34.788897Z",
     "shell.execute_reply.started": "2024-11-15T10:10:34.781306Z"
    }
   },
   "outputs": [],
   "source": [
    "def GetListOfSpectra(butler,list_of_visits,the_collection):\n",
    "    \"\"\"\n",
    "    Retrieve a list of Spectra:\n",
    "    Parameters:\n",
    "      butler : the butler\n",
    "      list_of_visits : the list of visit id\n",
    "      collection : the collection\n",
    "\n",
    "    Returns:\n",
    "     all_params_spectrum = []\n",
    "     all_params_spectrogram = []\n",
    "     all_visitid = []\n",
    "     all_headers = []\n",
    "     all_spectra = []\n",
    "    \"\"\"\n",
    "\n",
    "\n",
    "    # container contining the data\n",
    "    all_params_spectrum = []\n",
    "    all_params_spectrogram = []\n",
    "    all_visitid = []\n",
    "    all_headers = []\n",
    "    all_spectra = []\n",
    "\n",
    "    # loop on visits\n",
    "    for idx, visitid in enumerate(list_of_visits):\n",
    "        try:         \n",
    "            spec =  butler.get('spectractorSpectrum', visit=visitid, collections=the_collection, detector=0, instrument='LATISS')\n",
    "            all_headers.append(spec.header)\n",
    "            all_spectra.append(spec)\n",
    "            p = butler.get('spectrumLibradtranFitParameters', visit=visitid, collections=the_collection, detector=0, instrument='LATISS')\n",
    "            all_params_spectrum.append(p)\n",
    "            p = butler.get('spectrogramLibradtranFitParameters', visit=visitid, collections=the_collection, detector=0, instrument='LATISS')\n",
    "            all_params_spectrogram.append(p)\n",
    "            all_visitid.append(visitid)\n",
    "        #except ValueError:\n",
    "        except Exception as inst:\n",
    "            except_type = type(inst)\n",
    "            except_args = inst.args\n",
    "            print(\"catch exception \", inst, \"type =\",except_type, \"args = \",except_args) \n",
    "            print(\"\\t >>>>> Skip visitid \", visitid)\n",
    "            continue\n",
    "    return all_visitid, all_headers, all_params_spectrum , all_params_spectrogram, all_spectra\n",
    "    \n"
   ]
  },
  {
   "cell_type": "markdown",
   "id": "a6cae4e0-b037-4abe-82fa-24e5ba3b7a79",
   "metadata": {},
   "source": [
    "## Functions"
   ]
  },
  {
   "cell_type": "code",
   "execution_count": null,
   "id": "1003d9d6-a40f-48b1-9ffc-bfab9f45ba93",
   "metadata": {
    "execution": {
     "iopub.execute_input": "2024-11-15T10:10:34.789789Z",
     "iopub.status.busy": "2024-11-15T10:10:34.789659Z",
     "iopub.status.idle": "2024-11-15T10:10:34.795808Z",
     "shell.execute_reply": "2024-11-15T10:10:34.795482Z",
     "shell.execute_reply.started": "2024-11-15T10:10:34.789777Z"
    }
   },
   "outputs": [],
   "source": [
    "np.__version__"
   ]
  },
  {
   "cell_type": "code",
   "execution_count": null,
   "id": "c4cb2652-cb22-432e-b110-ae71d59dc793",
   "metadata": {
    "execution": {
     "iopub.execute_input": "2024-11-15T10:10:34.796289Z",
     "iopub.status.busy": "2024-11-15T10:10:34.796165Z",
     "iopub.status.idle": "2024-11-15T10:10:34.801714Z",
     "shell.execute_reply": "2024-11-15T10:10:34.801355Z",
     "shell.execute_reply.started": "2024-11-15T10:10:34.796277Z"
    }
   },
   "outputs": [],
   "source": [
    "pd.__version__"
   ]
  },
  {
   "cell_type": "code",
   "execution_count": null,
   "id": "ad03dc3d-6741-4478-82ba-1d5447529d9a",
   "metadata": {
    "execution": {
     "iopub.execute_input": "2024-11-15T10:10:34.802219Z",
     "iopub.status.busy": "2024-11-15T10:10:34.802106Z",
     "iopub.status.idle": "2024-11-15T10:10:34.807909Z",
     "shell.execute_reply": "2024-11-15T10:10:34.807564Z",
     "shell.execute_reply.started": "2024-11-15T10:10:34.802209Z"
    }
   },
   "outputs": [],
   "source": [
    "def convertNumToDatestr(num):\n",
    "    year = num//10_000\n",
    "    month= (num-year*10_000)//100\n",
    "    day = (num-year*10_000-month*100)\n",
    "\n",
    "    year_str = str(year).zfill(4)\n",
    "    month_str = str(month).zfill(2)\n",
    "    day_str = str(day).zfill(2)\n",
    "    \n",
    "    datestr = f\"{year_str}-{month_str}-{day_str}\"\n",
    "    return pd.to_datetime(datestr)"
   ]
  },
  {
   "cell_type": "markdown",
   "id": "4f13d6a3-7793-4bc0-920a-1d690d9f84b2",
   "metadata": {},
   "source": [
    "## Configuration"
   ]
  },
  {
   "cell_type": "code",
   "execution_count": null,
   "id": "c8cb2e48-0b34-4cbf-8379-43f7065112f7",
   "metadata": {
    "execution": {
     "iopub.execute_input": "2024-11-15T10:10:34.808497Z",
     "iopub.status.busy": "2024-11-15T10:10:34.808371Z",
     "iopub.status.idle": "2024-11-15T10:10:34.964180Z",
     "shell.execute_reply": "2024-11-15T10:10:34.963696Z",
     "shell.execute_reply.started": "2024-11-15T10:10:34.808487Z"
    }
   },
   "outputs": [],
   "source": [
    "observing_location = EarthLocation.of_site('Rubin Observatory')\n",
    "tz = timezone('America/Santiago')"
   ]
  },
  {
   "cell_type": "markdown",
   "id": "b884e71c-39cb-43e1-9edf-4a2cade9196e",
   "metadata": {},
   "source": [
    "### Spectro Hologram data"
   ]
  },
  {
   "cell_type": "code",
   "execution_count": null,
   "id": "a6d313e9-1621-40fb-a7d8-6d01522c7485",
   "metadata": {
    "execution": {
     "iopub.execute_input": "2024-11-15T10:10:34.964782Z",
     "iopub.status.busy": "2024-11-15T10:10:34.964657Z",
     "iopub.status.idle": "2024-11-15T10:10:34.968200Z",
     "shell.execute_reply": "2024-11-15T10:10:34.967882Z",
     "shell.execute_reply.started": "2024-11-15T10:10:34.964770Z"
    }
   },
   "outputs": [],
   "source": [
    "FLAG_WITHCOLLIMATOR = True\n",
    "DATE_WITHCOLLIMATOR = 20230930\n",
    "datetime_WITHCOLLIMATOR = convertNumToDatestr(DATE_WITHCOLLIMATOR)\n",
    "datetime_WITHCOLLIMATOR = pd.to_datetime(\"2023-09-30 00:00:00.0+0000\")\n",
    "datetime_WITHCOLLIMATOR"
   ]
  },
  {
   "cell_type": "code",
   "execution_count": null,
   "id": "5bac0cab-3886-4683-b1c8-fc59edacfd46",
   "metadata": {
    "execution": {
     "iopub.execute_input": "2024-11-15T10:10:34.968690Z",
     "iopub.status.busy": "2024-11-15T10:10:34.968570Z",
     "iopub.status.idle": "2024-11-15T10:10:34.973911Z",
     "shell.execute_reply": "2024-11-15T10:10:34.973561Z",
     "shell.execute_reply.started": "2024-11-15T10:10:34.968679Z"
    },
    "tags": []
   },
   "outputs": [],
   "source": [
    "version_results = \"v5\"\n",
    "legendtag = {\"v1\" : \"old v3.1.0\",\n",
    "            \"v2\" : \"v3.1.0-PWV<10mm\",\n",
    "            \"v3\" : \"v3.1.0-PWV<15mm\",\n",
    "            \"v4\" : \"Auxtel holo v3.1.0\",\n",
    "            \"v5\" : \"Auxtel holo v3.1.0 09/22 - 10/24\"}"
   ]
  },
  {
   "cell_type": "code",
   "execution_count": null,
   "id": "99436fe6-ad07-4796-b982-7dd89f554f0c",
   "metadata": {
    "execution": {
     "iopub.execute_input": "2024-11-15T10:10:34.974390Z",
     "iopub.status.busy": "2024-11-15T10:10:34.974276Z",
     "iopub.status.idle": "2024-11-15T10:10:34.979805Z",
     "shell.execute_reply": "2024-11-15T10:10:34.979480Z",
     "shell.execute_reply.started": "2024-11-15T10:10:34.974378Z"
    },
    "tags": []
   },
   "outputs": [],
   "source": [
    "atmfilenamesdict = {\"v1\" : \"data/spectro/auxtel_atmosphere_202301_v3.1.0_doSensorFlat_rebin2_testWithMaskedEdges_newBoundaries_newPolysRescaled_newFitBounds_adjustA1_lockedOrder2_removeThroughputTails_2.npy\",\n",
    "                    \"v2\" : \"auxtel_atmosphere_202301_v3.1.0_doSensorFlat_rebin2_lockedOrder2_FixA1_FixA2_FitAngstrom_FixA1_FixA2_FitAngstrom_WithGaia_freePressure_newThroughput6_BG40Scaled1.09_PeekFinder.npy\",\n",
    "                    \"v3\" : \"u_dagoret_auxtel_atmosphere_202301_v3.1.0_doSensorFlat_rebin2_lockedOrder2_FixA1_FixA2_FitAngstrom_WithGaia_freePressure_newThroughput6_BG40Scaled1.09_AtmoFitPressureA2_SpecErr_PeekFinder_20240924T161119Z.npy\",\n",
    "                    \"v4\" : \"u_dagoret_auxtel_atmosphere_202301_v3.1.0_doSensorFlat_rebin2_lockedOrder2_FixA1_FixA2_FitAngstrom_WithGaia_freePressure_newThroughput6_BG40Scaled1.09_AtmoFitPressureA2_SpecErr_PeekFinder_20240924T161119Z_spectrfullextend.npy\",\n",
    "                    \"v5\" : \"u_dagoret_auxtel_atmosphere_202209_v3.1.0_doSensorFlat_rebin2_lockedOrder2_FixA1_FixA2_FitAngstrom_WithGaia_freePressure_newThroughput6_BG40Scaled1.09_AtmoFitPressureA2_SpecErr_No5SigmaClip_20241016T184601Z_spectrfullextended.npy\"}"
   ]
  },
  {
   "cell_type": "code",
   "execution_count": null,
   "id": "f5ee7d08-244a-462a-b9fc-ff5cd4d3e801",
   "metadata": {
    "execution": {
     "iopub.execute_input": "2024-11-15T10:10:34.980318Z",
     "iopub.status.busy": "2024-11-15T10:10:34.980195Z",
     "iopub.status.idle": "2024-11-15T10:10:34.985303Z",
     "shell.execute_reply": "2024-11-15T10:10:34.984955Z",
     "shell.execute_reply.started": "2024-11-15T10:10:34.980307Z"
    },
    "tags": []
   },
   "outputs": [],
   "source": [
    "atmfilename = atmfilenamesdict[version_results]\n",
    "tag = legendtag[version_results] "
   ]
  },
  {
   "cell_type": "markdown",
   "id": "a30a15de-34f1-4f2b-afb9-52143c1cff27",
   "metadata": {},
   "source": [
    "## Initialisation"
   ]
  },
  {
   "cell_type": "markdown",
   "id": "4053343d-8e37-4402-b49f-c28dbb9e4afb",
   "metadata": {},
   "source": [
    "### Read the file"
   ]
  },
  {
   "cell_type": "code",
   "execution_count": null,
   "id": "ad60336b-f26f-4184-bcdf-e596329ecbbd",
   "metadata": {
    "execution": {
     "iopub.execute_input": "2024-11-15T10:10:34.985834Z",
     "iopub.status.busy": "2024-11-15T10:10:34.985718Z",
     "iopub.status.idle": "2024-11-15T10:10:35.087645Z",
     "shell.execute_reply": "2024-11-15T10:10:35.087109Z",
     "shell.execute_reply.started": "2024-11-15T10:10:34.985823Z"
    }
   },
   "outputs": [],
   "source": [
    "specdata = np.load(atmfilename,allow_pickle=True)"
   ]
  },
  {
   "cell_type": "code",
   "execution_count": null,
   "id": "3d9c7249-f818-4a98-8000-9be75b3c7a21",
   "metadata": {
    "execution": {
     "iopub.execute_input": "2024-11-15T10:10:35.088309Z",
     "iopub.status.busy": "2024-11-15T10:10:35.088158Z",
     "iopub.status.idle": "2024-11-15T10:10:35.103950Z",
     "shell.execute_reply": "2024-11-15T10:10:35.103517Z",
     "shell.execute_reply.started": "2024-11-15T10:10:35.088293Z"
    }
   },
   "outputs": [],
   "source": [
    "df_spec = pd.DataFrame(specdata)"
   ]
  },
  {
   "cell_type": "code",
   "execution_count": null,
   "id": "a19b591a-d479-4507-b241-81070420c847",
   "metadata": {
    "execution": {
     "iopub.execute_input": "2024-11-15T10:10:35.104602Z",
     "iopub.status.busy": "2024-11-15T10:10:35.104462Z",
     "iopub.status.idle": "2024-11-15T10:10:35.108383Z",
     "shell.execute_reply": "2024-11-15T10:10:35.108036Z",
     "shell.execute_reply.started": "2024-11-15T10:10:35.104590Z"
    },
    "tags": []
   },
   "outputs": [],
   "source": [
    "list(df_spec.columns)"
   ]
  },
  {
   "cell_type": "markdown",
   "id": "68aab053-d9d5-4a93-98b2-5bb49b65fdd8",
   "metadata": {},
   "source": [
    "### Remove spectra with red filter"
   ]
  },
  {
   "cell_type": "code",
   "execution_count": null,
   "id": "53487c66-88fc-4c63-9296-e3ab009bc34a",
   "metadata": {
    "execution": {
     "iopub.execute_input": "2024-11-15T10:10:35.108904Z",
     "iopub.status.busy": "2024-11-15T10:10:35.108785Z",
     "iopub.status.idle": "2024-11-15T10:10:35.115301Z",
     "shell.execute_reply": "2024-11-15T10:10:35.114893Z",
     "shell.execute_reply.started": "2024-11-15T10:10:35.108893Z"
    }
   },
   "outputs": [],
   "source": [
    "df_spec['FILTER'].unique()"
   ]
  },
  {
   "cell_type": "code",
   "execution_count": null,
   "id": "952da4c8-0f60-47e7-82fe-20bb46499680",
   "metadata": {
    "execution": {
     "iopub.execute_input": "2024-11-15T10:10:35.115793Z",
     "iopub.status.busy": "2024-11-15T10:10:35.115666Z",
     "iopub.status.idle": "2024-11-15T10:10:35.124493Z",
     "shell.execute_reply": "2024-11-15T10:10:35.124120Z",
     "shell.execute_reply.started": "2024-11-15T10:10:35.115782Z"
    }
   },
   "outputs": [],
   "source": [
    "FLAG_REMOVE_FILTERS = True\n",
    "if FLAG_REMOVE_FILTERS:\n",
    "    df_spec=df_spec[df_spec[\"FILTER\"] == 'empty']\n",
    "    df_spec.reset_index(inplace=True)  "
   ]
  },
  {
   "cell_type": "markdown",
   "id": "a81b1aa2-7edc-4a24-9c44-c24c3826c18f",
   "metadata": {
    "tags": []
   },
   "source": [
    "### Define if a target is faint or bright"
   ]
  },
  {
   "cell_type": "code",
   "execution_count": null,
   "id": "412e59e0-f026-42d0-b6e1-7e5185c7e9dd",
   "metadata": {
    "execution": {
     "iopub.execute_input": "2024-11-15T10:10:35.125033Z",
     "iopub.status.busy": "2024-11-15T10:10:35.124898Z",
     "iopub.status.idle": "2024-11-15T10:10:35.127869Z",
     "shell.execute_reply": "2024-11-15T10:10:35.127530Z",
     "shell.execute_reply.started": "2024-11-15T10:10:35.125021Z"
    },
    "tags": []
   },
   "outputs": [],
   "source": [
    "def IsFaint(row):\n",
    "    List_Of_Faint_targets = ['Feige110','HD074000','HD115169','HD031128','HD200654','HD167060','HD009051','HD142331','HD160617','HD111980']\n",
    "    List_Of_faint_selected = List_Of_Faint_targets[:10]\n",
    "    if row[\"TARGET\"] in List_Of_faint_selected:\n",
    "        return True\n",
    "    else:\n",
    "        return False"
   ]
  },
  {
   "cell_type": "code",
   "execution_count": null,
   "id": "07cd52bf-50de-4190-ad3f-d68aaf18039e",
   "metadata": {
    "execution": {
     "iopub.execute_input": "2024-11-15T10:10:35.128360Z",
     "iopub.status.busy": "2024-11-15T10:10:35.128228Z",
     "iopub.status.idle": "2024-11-15T10:10:35.182695Z",
     "shell.execute_reply": "2024-11-15T10:10:35.182254Z",
     "shell.execute_reply.started": "2024-11-15T10:10:35.128349Z"
    }
   },
   "outputs": [],
   "source": [
    "df_spec[\"isFaint\"] = df_spec.apply(IsFaint,axis=1)"
   ]
  },
  {
   "cell_type": "markdown",
   "id": "3af3b3b6-7774-4b43-830b-a287c4e3281b",
   "metadata": {},
   "source": [
    "### Compute NightObs"
   ]
  },
  {
   "cell_type": "code",
   "execution_count": null,
   "id": "4de5d570-2e92-468b-ab07-63fffd8d2b8c",
   "metadata": {
    "execution": {
     "iopub.execute_input": "2024-11-15T10:10:35.183344Z",
     "iopub.status.busy": "2024-11-15T10:10:35.183180Z",
     "iopub.status.idle": "2024-11-15T10:10:35.231219Z",
     "shell.execute_reply": "2024-11-15T10:10:35.230776Z",
     "shell.execute_reply.started": "2024-11-15T10:10:35.183326Z"
    }
   },
   "outputs": [],
   "source": [
    "df_spec[\"nightObs\"] = df_spec.apply(lambda x: x['id']//100_000, axis=1)"
   ]
  },
  {
   "cell_type": "code",
   "execution_count": null,
   "id": "079b9ebb-4e59-4364-8ffa-f0439e943959",
   "metadata": {
    "execution": {
     "iopub.execute_input": "2024-11-15T10:10:35.231877Z",
     "iopub.status.busy": "2024-11-15T10:10:35.231728Z",
     "iopub.status.idle": "2024-11-15T10:10:35.235826Z",
     "shell.execute_reply": "2024-11-15T10:10:35.235479Z",
     "shell.execute_reply.started": "2024-11-15T10:10:35.231854Z"
    }
   },
   "outputs": [],
   "source": [
    "if FLAG_WITHCOLLIMATOR:\n",
    "    df_spec = df_spec[df_spec[\"nightObs\"]> DATE_WITHCOLLIMATOR]"
   ]
  },
  {
   "cell_type": "markdown",
   "id": "a4f8b443-4bc5-46fc-a548-33441edee6da",
   "metadata": {},
   "source": [
    "## Apply Quality selection"
   ]
  },
  {
   "cell_type": "code",
   "execution_count": null,
   "id": "2325b3ff-29c2-445a-b25e-cc11aba4f45a",
   "metadata": {
    "execution": {
     "iopub.execute_input": "2024-11-15T10:10:35.236435Z",
     "iopub.status.busy": "2024-11-15T10:10:35.236302Z",
     "iopub.status.idle": "2024-11-15T10:10:35.665428Z",
     "shell.execute_reply": "2024-11-15T10:10:35.664933Z",
     "shell.execute_reply.started": "2024-11-15T10:10:35.236421Z"
    },
    "tags": []
   },
   "outputs": [],
   "source": [
    "fig,ax = plt.subplots(1,1)\n",
    "df_spec[\"CHI2_FIT\"].hist(bins=50,ax=ax,range=(0,200))\n",
    "ax.set_yscale(\"log\")"
   ]
  },
  {
   "cell_type": "markdown",
   "id": "a7aaca44-ad09-4883-8a7d-413b71e8b4a2",
   "metadata": {},
   "source": [
    "### Add the Time in pd.datetime"
   ]
  },
  {
   "cell_type": "markdown",
   "id": "6a2222de-f3b7-4678-b2dc-d4c89102e0ab",
   "metadata": {},
   "source": [
    "#### UTC"
   ]
  },
  {
   "cell_type": "code",
   "execution_count": null,
   "id": "0d10c1ad-c5dc-4487-baa9-7c71ec531f45",
   "metadata": {
    "execution": {
     "iopub.execute_input": "2024-11-15T10:10:35.666446Z",
     "iopub.status.busy": "2024-11-15T10:10:35.666028Z",
     "iopub.status.idle": "2024-11-15T10:10:35.671648Z",
     "shell.execute_reply": "2024-11-15T10:10:35.671243Z",
     "shell.execute_reply.started": "2024-11-15T10:10:35.666429Z"
    }
   },
   "outputs": [],
   "source": [
    "df_spec[\"Time\"] = pd.to_datetime(df_spec[\"DATE-OBS\"])"
   ]
  },
  {
   "cell_type": "code",
   "execution_count": null,
   "id": "66cfe082-4e0c-4b83-ac40-122ba4c58ec4",
   "metadata": {
    "execution": {
     "iopub.execute_input": "2024-11-15T10:10:35.672127Z",
     "iopub.status.busy": "2024-11-15T10:10:35.672013Z",
     "iopub.status.idle": "2024-11-15T10:10:35.678598Z",
     "shell.execute_reply": "2024-11-15T10:10:35.678189Z",
     "shell.execute_reply.started": "2024-11-15T10:10:35.672116Z"
    },
    "tags": []
   },
   "outputs": [],
   "source": [
    "DT = pd.Timedelta(minutes=7*24*60)\n",
    "TMIN  = df_spec[\"Time\"].min()-DT\n",
    "TMAX  = df_spec[\"Time\"].max()+DT"
   ]
  },
  {
   "cell_type": "markdown",
   "id": "433fdc22-9674-47c9-a11c-1e6acfc52311",
   "metadata": {
    "tags": []
   },
   "source": [
    "### Compute relative time to Mid-night"
   ]
  },
  {
   "cell_type": "code",
   "execution_count": null,
   "id": "0de9a173-9144-4c45-a93f-f7df8b5905b7",
   "metadata": {
    "execution": {
     "iopub.execute_input": "2024-11-15T10:10:35.679161Z",
     "iopub.status.busy": "2024-11-15T10:10:35.679038Z",
     "iopub.status.idle": "2024-11-15T10:10:35.686102Z",
     "shell.execute_reply": "2024-11-15T10:10:35.685755Z",
     "shell.execute_reply.started": "2024-11-15T10:10:35.679145Z"
    }
   },
   "outputs": [],
   "source": [
    "def GetTimeToMidNight(row):\n",
    "    observing_time = Time(row['DATE-OBS'], scale='utc', location=observing_location)\n",
    "\n",
    "    # time at the location , either before or after midnight\n",
    "    local_time =  observing_time.to_datetime(timezone=tz)\n",
    "\n",
    "    # take time independent  of any location now\n",
    "    local_time_new = datetime(local_time.year,local_time.month,local_time.day,local_time.hour,local_time.minute,local_time.second)\n",
    "    local_time_midnight = datetime(local_time_new.year,local_time_new.month,local_time_new.day)\n",
    "    dt_hour = (local_time_new -local_time_midnight).seconds/3600.\n",
    "\n",
    "    # we took the previous night mid-night , must subtract 24H\n",
    "    if dt_hour > 12.:\n",
    "        dt_hour_new = (dt_hour - 24.)\n",
    "    else:\n",
    "        dt_hour_new = dt_hour\n",
    "        \n",
    "    return dt_hour_new"
   ]
  },
  {
   "cell_type": "code",
   "execution_count": null,
   "id": "05bfba4e-45f5-4020-953f-b6205001b698",
   "metadata": {
    "execution": {
     "iopub.execute_input": "2024-11-15T10:10:35.686643Z",
     "iopub.status.busy": "2024-11-15T10:10:35.686524Z",
     "iopub.status.idle": "2024-11-15T10:10:36.845569Z",
     "shell.execute_reply": "2024-11-15T10:10:36.845119Z",
     "shell.execute_reply.started": "2024-11-15T10:10:35.686632Z"
    }
   },
   "outputs": [],
   "source": [
    "df_spec[\"dt_midnight\"] = df_spec.apply(GetTimeToMidNight,axis=1)"
   ]
  },
  {
   "cell_type": "code",
   "execution_count": null,
   "id": "154fc415-c965-44c2-8ec0-95f95c1616a3",
   "metadata": {
    "execution": {
     "iopub.execute_input": "2024-11-15T10:10:36.846179Z",
     "iopub.status.busy": "2024-11-15T10:10:36.846056Z",
     "iopub.status.idle": "2024-11-15T10:10:36.945763Z",
     "shell.execute_reply": "2024-11-15T10:10:36.945426Z",
     "shell.execute_reply.started": "2024-11-15T10:10:36.846167Z"
    }
   },
   "outputs": [],
   "source": [
    "fig,ax = plt.subplots(1,1,figsize=(6,4))\n",
    "df_spec[\"dt_midnight\"].hist(bins=48,range=(-12,12),ax=ax,facecolor=\"blue\") \n",
    "ax.set_xlabel(\"time relative to midnight (hour)\")\n",
    "ax.set_title(\"Observation time\")"
   ]
  },
  {
   "cell_type": "markdown",
   "id": "649915d4-df38-43ae-8b7a-f0f72e70590d",
   "metadata": {},
   "source": [
    "### Compute Date relative to January"
   ]
  },
  {
   "cell_type": "code",
   "execution_count": null,
   "id": "e5e99394-ff09-4ab6-b0c0-0fccce1be86c",
   "metadata": {
    "execution": {
     "iopub.execute_input": "2024-11-15T10:10:36.949657Z",
     "iopub.status.busy": "2024-11-15T10:10:36.949529Z",
     "iopub.status.idle": "2024-11-15T10:10:36.952153Z",
     "shell.execute_reply": "2024-11-15T10:10:36.951819Z",
     "shell.execute_reply.started": "2024-11-15T10:10:36.949646Z"
    }
   },
   "outputs": [],
   "source": [
    "def GetDateToMidJanuary(row):\n",
    "    observing_time = Time(row['DATE-OBS'], scale='utc', location=observing_location)\n",
    "\n",
    "    # time at the location , either before or after midnight\n",
    "    local_time =  observing_time.to_datetime(timezone=tz)\n",
    "\n",
    "    # take time independent  of any location now\n",
    "    local_time_new = datetime(2024,local_time.month,local_time.day,local_time.hour,local_time.minute,local_time.second)\n",
    "           \n",
    "    return pd.to_datetime(local_time_new)"
   ]
  },
  {
   "cell_type": "code",
   "execution_count": null,
   "id": "2e991a33-84e9-4766-98fb-665bada15c6d",
   "metadata": {
    "execution": {
     "iopub.execute_input": "2024-11-15T10:10:36.952534Z",
     "iopub.status.busy": "2024-11-15T10:10:36.952423Z",
     "iopub.status.idle": "2024-11-15T10:10:36.957992Z",
     "shell.execute_reply": "2024-11-15T10:10:36.957662Z",
     "shell.execute_reply.started": "2024-11-15T10:10:36.952523Z"
    }
   },
   "outputs": [],
   "source": [
    "#df_spec[\"Time_january\"] = df_spec.apply(GetDateToMidJanuary,axis=1)"
   ]
  },
  {
   "cell_type": "code",
   "execution_count": null,
   "id": "42779ad2-8f3f-44c7-9a0b-a9dcb33065e9",
   "metadata": {
    "execution": {
     "iopub.execute_input": "2024-11-15T10:10:36.958501Z",
     "iopub.status.busy": "2024-11-15T10:10:36.958386Z",
     "iopub.status.idle": "2024-11-15T10:10:36.964360Z",
     "shell.execute_reply": "2024-11-15T10:10:36.963997Z",
     "shell.execute_reply.started": "2024-11-15T10:10:36.958490Z"
    }
   },
   "outputs": [],
   "source": [
    "def GetDateToMidJanuaryAndYear(row):\n",
    "    observing_time = Time(row['DATE-OBS'], scale='utc', location=observing_location)\n",
    "\n",
    "    # time at the location , either before or after midnight\n",
    "    local_time =  observing_time.to_datetime(timezone=tz)\n",
    "\n",
    "    # take time independent  of any location now\n",
    "    local_time_new = datetime(2024,local_time.month,local_time.day,local_time.hour,local_time.minute,local_time.second)\n",
    "           \n",
    "    return pd.to_datetime(local_time_new),local_time.year "
   ]
  },
  {
   "cell_type": "code",
   "execution_count": null,
   "id": "3e747bbc-1357-447b-8cfb-1b22573f022c",
   "metadata": {
    "execution": {
     "iopub.execute_input": "2024-11-15T10:10:36.964857Z",
     "iopub.status.busy": "2024-11-15T10:10:36.964743Z",
     "iopub.status.idle": "2024-11-15T10:10:38.353654Z",
     "shell.execute_reply": "2024-11-15T10:10:38.353206Z",
     "shell.execute_reply.started": "2024-11-15T10:10:36.964846Z"
    }
   },
   "outputs": [],
   "source": [
    "df_spec[[\"Time_january\",\"Year\"]] = df_spec.apply(GetDateToMidJanuaryAndYear,axis=1,result_type=\"expand\")"
   ]
  },
  {
   "cell_type": "code",
   "execution_count": null,
   "id": "4076ca2e-03ea-4373-8b55-fdb6ae49de51",
   "metadata": {
    "execution": {
     "iopub.execute_input": "2024-11-15T10:10:38.354310Z",
     "iopub.status.busy": "2024-11-15T10:10:38.354171Z",
     "iopub.status.idle": "2024-11-15T10:10:38.363385Z",
     "shell.execute_reply": "2024-11-15T10:10:38.362934Z",
     "shell.execute_reply.started": "2024-11-15T10:10:38.354298Z"
    }
   },
   "outputs": [],
   "source": [
    "df_spec[[\"Time_january\",\"Year\"]]"
   ]
  },
  {
   "cell_type": "markdown",
   "id": "90783a42-5ed9-4ad8-8457-bbe1569413fe",
   "metadata": {},
   "source": [
    "## Compute night boundaries"
   ]
  },
  {
   "cell_type": "code",
   "execution_count": null,
   "id": "0ee7679a-ea50-4190-9400-664370a6b7f0",
   "metadata": {
    "execution": {
     "iopub.execute_input": "2024-11-15T10:10:38.364166Z",
     "iopub.status.busy": "2024-11-15T10:10:38.363979Z",
     "iopub.status.idle": "2024-11-15T10:10:38.367847Z",
     "shell.execute_reply": "2024-11-15T10:10:38.367406Z",
     "shell.execute_reply.started": "2024-11-15T10:10:38.364148Z"
    },
    "tags": []
   },
   "outputs": [],
   "source": [
    "def GetNightBoundariesDict(df_spec):\n",
    "    \"\"\"\n",
    "    input:\n",
    "      df_spec the dataframe for spectroscopy summary results\n",
    "    output:\n",
    "      the dict of night boudaries\n",
    "    \"\"\"\n",
    "    \n",
    "    Dt = pd.Timedelta(minutes=30)\n",
    "    d = {}\n",
    "    list_of_nightobs = df_spec[\"nightObs\"].unique()\n",
    "    for nightobs in list_of_nightobs:\n",
    "        sel_flag = df_spec[\"nightObs\"]== nightobs\n",
    "        df_night = df_spec[sel_flag]\n",
    "        tmin = df_night[\"Time\"].min()-Dt\n",
    "        tmax = df_night[\"Time\"].max()+Dt\n",
    "        d[nightobs] = (tmin,tmax)\n",
    "    return d"
   ]
  },
  {
   "cell_type": "code",
   "execution_count": null,
   "id": "b4e4e1eb-c4c1-4bdf-b88f-b44bd55b2435",
   "metadata": {
    "execution": {
     "iopub.execute_input": "2024-11-15T10:10:38.368631Z",
     "iopub.status.busy": "2024-11-15T10:10:38.368445Z",
     "iopub.status.idle": "2024-11-15T10:10:38.421787Z",
     "shell.execute_reply": "2024-11-15T10:10:38.421405Z",
     "shell.execute_reply.started": "2024-11-15T10:10:38.368613Z"
    },
    "tags": []
   },
   "outputs": [],
   "source": [
    "dn = GetNightBoundariesDict(df_spec)"
   ]
  },
  {
   "cell_type": "markdown",
   "id": "564f9a05-b3e2-4d61-9457-cda76ebd2a1b",
   "metadata": {},
   "source": [
    "## Apply Quality selection cuts"
   ]
  },
  {
   "cell_type": "code",
   "execution_count": null,
   "id": "51bff128-4de1-4396-ac64-e56336d8dd67",
   "metadata": {
    "execution": {
     "iopub.execute_input": "2024-11-15T10:10:38.422355Z",
     "iopub.status.busy": "2024-11-15T10:10:38.422233Z",
     "iopub.status.idle": "2024-11-15T10:10:38.425563Z",
     "shell.execute_reply": "2024-11-15T10:10:38.425218Z",
     "shell.execute_reply.started": "2024-11-15T10:10:38.422344Z"
    }
   },
   "outputs": [],
   "source": [
    "def getSelectionCut(df_spec, chi2max=20., pwvmin=0.1, pwvmax = 14.9,ozmin=100.,ozmax=600.):\n",
    "    cut =  (df_spec[\"CHI2_FIT\"]<chi2max) & (df_spec[\"PWV [mm]_x\"] > pwvmin) & (df_spec[\"PWV [mm]_x\"] < pwvmax) & (df_spec[\"D2CCD\"]>186.5) &  (df_spec[\"D2CCD\"]<187.3) & \\\n",
    "    (df_spec['EXPTIME'] > 20.) & (df_spec[\"PWV [mm]_y\"] > pwvmin) & (df_spec[\"PWV [mm]_y\"] < pwvmax) & \\\n",
    "    (df_spec[\"ozone [db]_y\"] > ozmin) & (df_spec[\"ozone [db]_y\"] < ozmax) \n",
    "    return cut"
   ]
  },
  {
   "cell_type": "code",
   "execution_count": null,
   "id": "99017666-4267-4f7c-a926-2da40fe78c00",
   "metadata": {
    "execution": {
     "iopub.execute_input": "2024-11-15T10:10:38.426053Z",
     "iopub.status.busy": "2024-11-15T10:10:38.425940Z",
     "iopub.status.idle": "2024-11-15T10:10:38.432813Z",
     "shell.execute_reply": "2024-11-15T10:10:38.432476Z",
     "shell.execute_reply.started": "2024-11-15T10:10:38.426042Z"
    }
   },
   "outputs": [],
   "source": [
    "def getSelectionCutNoPolar(df_spec, chi2max=20., pwvmin=0.1, pwvmax = 14.9,ozmin=100.,ozmax=600.):\n",
    "    cut =  (df_spec[\"CHI2_FIT\"]<chi2max) & (df_spec[\"PWV [mm]_x\"] > pwvmin) & (df_spec[\"PWV [mm]_x\"] < pwvmax) & (df_spec[\"D2CCD\"]>186.5) &  (df_spec[\"D2CCD\"]<187.3) & \\\n",
    "    (df_spec['EXPTIME'] > 20.) & (df_spec[\"PWV [mm]_y\"] > pwvmin) & (df_spec[\"PWV [mm]_y\"] < pwvmax) & \\\n",
    "    (df_spec[\"ozone [db]_y\"] > ozmin) & (df_spec[\"ozone [db]_y\"] < ozmax) & (df_spec[\"TARGET\"] != \"HD185975\")\n",
    "    return cut"
   ]
  },
  {
   "cell_type": "code",
   "execution_count": null,
   "id": "19b35b65-0191-4f70-9623-b3ecaeebe96e",
   "metadata": {
    "execution": {
     "iopub.execute_input": "2024-11-15T10:10:38.433333Z",
     "iopub.status.busy": "2024-11-15T10:10:38.433211Z",
     "iopub.status.idle": "2024-11-15T10:10:38.439516Z",
     "shell.execute_reply": "2024-11-15T10:10:38.439184Z",
     "shell.execute_reply.started": "2024-11-15T10:10:38.433322Z"
    }
   },
   "outputs": [],
   "source": [
    "def getSelectionCutWithPolar(df_spec, chi2max=20., pwvmin=0.1, pwvmax = 14.9,ozmin=100.,ozmax=600.):\n",
    "    cut =  (df_spec[\"CHI2_FIT\"]<chi2max) & (df_spec[\"PWV [mm]_x\"] > pwvmin) & (df_spec[\"PWV [mm]_x\"] < pwvmax) & (df_spec[\"D2CCD\"]>186.5) &  (df_spec[\"D2CCD\"]<187.3) & \\\n",
    "    (df_spec['EXPTIME'] > 20.) & (df_spec[\"PWV [mm]_y\"] > pwvmin) & (df_spec[\"PWV [mm]_y\"] < pwvmax) & \\\n",
    "    (df_spec[\"ozone [db]_y\"] > ozmin) & (df_spec[\"ozone [db]_y\"] < ozmax) & (df_spec[\"TARGET\"] == \"HD185975\")\n",
    "    return cut"
   ]
  },
  {
   "cell_type": "code",
   "execution_count": null,
   "id": "1b675e35-55ff-41af-82bf-85bb4c3267be",
   "metadata": {
    "execution": {
     "iopub.execute_input": "2024-11-15T10:10:38.440020Z",
     "iopub.status.busy": "2024-11-15T10:10:38.439907Z",
     "iopub.status.idle": "2024-11-15T10:10:38.453338Z",
     "shell.execute_reply": "2024-11-15T10:10:38.452971Z",
     "shell.execute_reply.started": "2024-11-15T10:10:38.440009Z"
    },
    "tags": []
   },
   "outputs": [],
   "source": [
    "cut = getSelectionCut(df_spec) \n",
    "cut_nopolar = getSelectionCutNoPolar(df_spec) \n",
    "cut_nopolar_bright = getSelectionCutNoPolar(df_spec) & (~df_spec[\"isFaint\"])\n",
    "cut_nopolar_faint = getSelectionCutNoPolar(df_spec) & (df_spec[\"isFaint\"])\n",
    "cut_wthpolar = getSelectionCutWithPolar(df_spec)"
   ]
  },
  {
   "cell_type": "code",
   "execution_count": null,
   "id": "e1cbfa40-4395-47f4-9acf-6a9f531fabd4",
   "metadata": {
    "execution": {
     "iopub.execute_input": "2024-11-15T10:10:38.453838Z",
     "iopub.status.busy": "2024-11-15T10:10:38.453722Z",
     "iopub.status.idle": "2024-11-15T10:10:38.458580Z",
     "shell.execute_reply": "2024-11-15T10:10:38.458057Z",
     "shell.execute_reply.started": "2024-11-15T10:10:38.453827Z"
    }
   },
   "outputs": [],
   "source": [
    "df_spec_sel = df_spec[cut]\n",
    "df_spec_np = df_spec[cut_nopolar] \n",
    "df_spec_np_b = df_spec[cut_nopolar_bright]\n",
    "df_spec_np_f = df_spec[cut_nopolar_faint]\n",
    "df_spec_wp = df_spec[cut_wthpolar]"
   ]
  },
  {
   "cell_type": "code",
   "execution_count": null,
   "id": "3c2b44e0-c554-4265-8caf-25b77c33ab1c",
   "metadata": {
    "execution": {
     "iopub.execute_input": "2024-11-15T10:10:38.459287Z",
     "iopub.status.busy": "2024-11-15T10:10:38.459144Z",
     "iopub.status.idle": "2024-11-15T10:10:38.463626Z",
     "shell.execute_reply": "2024-11-15T10:10:38.463137Z",
     "shell.execute_reply.started": "2024-11-15T10:10:38.459276Z"
    }
   },
   "outputs": [],
   "source": [
    "print(\"Total number of Spectra          : \",len(df_spec))\n",
    "print(\"Number of selected Spectra       : \",len(df_spec_sel))\n",
    "print(\"Number of selected Polars        : \",len(df_spec_wp))\n",
    "print(\"Number of selected Non-Polars    : \",len(df_spec_np))\n",
    "print(\"Number of selected Non-Polars Bright : \",len(df_spec_np_b))\n",
    "print(\"Number of selected Non-Polars Faint  : \",len(df_spec_np_f))"
   ]
  },
  {
   "cell_type": "code",
   "execution_count": null,
   "id": "bae62b07-17d4-423e-bdfe-634272a040a2",
   "metadata": {
    "execution": {
     "iopub.execute_input": "2024-11-15T10:10:38.464141Z",
     "iopub.status.busy": "2024-11-15T10:10:38.464027Z",
     "iopub.status.idle": "2024-11-15T10:10:38.470063Z",
     "shell.execute_reply": "2024-11-15T10:10:38.469608Z",
     "shell.execute_reply.started": "2024-11-15T10:10:38.464131Z"
    },
    "tags": []
   },
   "outputs": [],
   "source": [
    "df_spec_sel.reset_index(drop=True,inplace=True)\n",
    "df_spec_np.reset_index(drop=True,inplace=True)\n",
    "df_spec_wp.reset_index(drop=True,inplace=True) \n",
    "df_spec_np_b.reset_index(drop=True,inplace=True)\n",
    "df_spec_np_f.reset_index(drop=True,inplace=True)"
   ]
  },
  {
   "cell_type": "code",
   "execution_count": null,
   "id": "cef3e8dd-b2b7-4fcb-a676-3cef4d07f6c7",
   "metadata": {
    "execution": {
     "iopub.execute_input": "2024-11-15T10:10:38.470626Z",
     "iopub.status.busy": "2024-11-15T10:10:38.470504Z",
     "iopub.status.idle": "2024-11-15T10:10:38.477994Z",
     "shell.execute_reply": "2024-11-15T10:10:38.477565Z",
     "shell.execute_reply.started": "2024-11-15T10:10:38.470615Z"
    }
   },
   "outputs": [],
   "source": [
    "#List_Of_Faint_targets = ['Feige110','HD074000','HD115169','HD031128','HD200654','HD167060','HD009051','HD142331','HD160617','HD111980']\n",
    "print(\"Polar            :\",len(df_spec_wp[\"TARGET\"].unique()),\"\\t\", df_spec_wp[\"TARGET\"].unique()) \n",
    "print(\"Non Polar        :\",len(df_spec_np[\"TARGET\"].unique()),\"\\t\" ,df_spec_np[\"TARGET\"].unique())\n",
    "print(\"Non Polar Bright :\",len(df_spec_np_b[\"TARGET\"].unique()),\"\\t\" ,df_spec_np_b[\"TARGET\"].unique())\n",
    "print(\"Non Polar Faint  :\",len(df_spec_np_f[\"TARGET\"].unique()),\"\\t\",df_spec_np_f[\"TARGET\"].unique())"
   ]
  },
  {
   "cell_type": "markdown",
   "id": "030bf82d-8d80-492c-96cf-4506c2eac282",
   "metadata": {
    "tags": []
   },
   "source": [
    "### Recompute night boundaries"
   ]
  },
  {
   "cell_type": "code",
   "execution_count": null,
   "id": "1e41540b-d7cd-49c8-88dc-4175db604a17",
   "metadata": {
    "execution": {
     "iopub.execute_input": "2024-11-15T10:10:38.478569Z",
     "iopub.status.busy": "2024-11-15T10:10:38.478450Z",
     "iopub.status.idle": "2024-11-15T10:10:38.483783Z",
     "shell.execute_reply": "2024-11-15T10:10:38.483386Z",
     "shell.execute_reply.started": "2024-11-15T10:10:38.478558Z"
    },
    "tags": []
   },
   "outputs": [],
   "source": [
    "#dn = GetNightBoundariesDict(df_spec_sel)"
   ]
  },
  {
   "cell_type": "markdown",
   "id": "8bcc811a-d7c3-41ea-836c-65b4fcb36c4b",
   "metadata": {},
   "source": [
    "### Check regularisation"
   ]
  },
  {
   "cell_type": "code",
   "execution_count": null,
   "id": "aaf8d89b-7573-4638-9e7f-3d0eb412479f",
   "metadata": {
    "execution": {
     "iopub.execute_input": "2024-11-15T10:10:38.484342Z",
     "iopub.status.busy": "2024-11-15T10:10:38.484216Z",
     "iopub.status.idle": "2024-11-15T10:10:38.723778Z",
     "shell.execute_reply": "2024-11-15T10:10:38.723402Z",
     "shell.execute_reply.started": "2024-11-15T10:10:38.484331Z"
    }
   },
   "outputs": [],
   "source": [
    "fig,axs = plt.subplots(1,2,figsize=(12,4))\n",
    "\n",
    "ax1,ax2 = axs\n",
    "#df_spec['PSF_REG'].hist(bins=50,ax=ax1,range=(0,5))\n",
    "ax1.hist(np.log10(df_spec['PSF_REG'].values),bins=50,histtype=\"step\",color=\"b\",label=\"no selection\")\n",
    "ax1.hist(np.log10(df_spec_sel['PSF_REG'].values),bins=50,histtype=\"step\",color=\"r\",label=\"with selection\")\n",
    "ax1.grid()\n",
    "ax1.set_xlabel(\"$\\log_{10}(PSF\\_REG)$\")\n",
    "ax1.legend()\n",
    "\n",
    "df_spec['TRACE_R'].hist(bins=50,ax=ax2,histtype=\"step\",color=\"b\")\n",
    "df_spec_sel['TRACE_R'].hist(bins=50,ax=ax2,histtype=\"step\",color=\"r\")\n",
    "ax2.set_yscale(\"log\")\n",
    "ax2.set_xlabel(\"TRACE_R\")\n",
    "\n",
    "plt.suptitle(\"Regularisation parameters\")"
   ]
  },
  {
   "cell_type": "markdown",
   "id": "609c891d-117e-498a-9905-28d326ad1702",
   "metadata": {},
   "source": [
    "## Check if low regularisation parameters induce oscillations"
   ]
  },
  {
   "cell_type": "code",
   "execution_count": null,
   "id": "35286aed-1b51-45fb-a521-5336bea23428",
   "metadata": {
    "execution": {
     "iopub.execute_input": "2024-11-15T10:10:38.724383Z",
     "iopub.status.busy": "2024-11-15T10:10:38.724254Z",
     "iopub.status.idle": "2024-11-15T10:10:38.727272Z",
     "shell.execute_reply": "2024-11-15T10:10:38.726899Z",
     "shell.execute_reply.started": "2024-11-15T10:10:38.724371Z"
    }
   },
   "outputs": [],
   "source": [
    "#df_spec_sel = df_spec_sel[df_spec_sel[\"PSF_REG\"]<0.05]\n",
    "df_spec_sel = df_spec_sel[df_spec_sel[\"PSF_REG\"] > 10.0]"
   ]
  },
  {
   "cell_type": "code",
   "execution_count": null,
   "id": "4f6a2709-5f0c-4b7b-bc64-ae9b5a4ace4f",
   "metadata": {
    "execution": {
     "iopub.execute_input": "2024-11-15T10:10:38.727780Z",
     "iopub.status.busy": "2024-11-15T10:10:38.727662Z",
     "iopub.status.idle": "2024-11-15T10:10:38.828434Z",
     "shell.execute_reply": "2024-11-15T10:10:38.828054Z",
     "shell.execute_reply.started": "2024-11-15T10:10:38.727769Z"
    }
   },
   "outputs": [],
   "source": [
    "df_spec_sel"
   ]
  },
  {
   "cell_type": "code",
   "execution_count": null,
   "id": "22093a32-df7a-4177-ad33-e5c1611fe1fb",
   "metadata": {
    "execution": {
     "iopub.execute_input": "2024-11-15T10:10:38.829089Z",
     "iopub.status.busy": "2024-11-15T10:10:38.828865Z",
     "iopub.status.idle": "2024-11-15T10:10:38.831074Z",
     "shell.execute_reply": "2024-11-15T10:10:38.830742Z",
     "shell.execute_reply.started": "2024-11-15T10:10:38.829079Z"
    }
   },
   "outputs": [],
   "source": [
    "all_selected_nights = df_spec_sel[\"nightObs\"].unique()"
   ]
  },
  {
   "cell_type": "code",
   "execution_count": null,
   "id": "be1e2999-7839-44d9-8e12-38f0c9e6d591",
   "metadata": {
    "execution": {
     "iopub.execute_input": "2024-11-15T10:10:38.831622Z",
     "iopub.status.busy": "2024-11-15T10:10:38.831511Z",
     "iopub.status.idle": "2024-11-15T10:10:38.839554Z",
     "shell.execute_reply": "2024-11-15T10:10:38.839217Z",
     "shell.execute_reply.started": "2024-11-15T10:10:38.831612Z"
    }
   },
   "outputs": [],
   "source": [
    "all_selected_nights "
   ]
  },
  {
   "cell_type": "code",
   "execution_count": null,
   "id": "c83d7dcc-a885-4c51-a4a1-97ece6024a9a",
   "metadata": {
    "execution": {
     "iopub.execute_input": "2024-11-15T10:10:38.840063Z",
     "iopub.status.busy": "2024-11-15T10:10:38.839946Z",
     "iopub.status.idle": "2024-11-15T10:10:38.845751Z",
     "shell.execute_reply": "2024-11-15T10:10:38.845418Z",
     "shell.execute_reply.started": "2024-11-15T10:10:38.840052Z"
    }
   },
   "outputs": [],
   "source": [
    "list_visitids = df_spec_sel[\"id\"].unique()\n",
    "list_visitids"
   ]
  },
  {
   "cell_type": "markdown",
   "id": "9d84b312-4ce3-4e06-81a6-4e7779f4f4c8",
   "metadata": {},
   "source": [
    "### Mute Spectractor messages"
   ]
  },
  {
   "cell_type": "code",
   "execution_count": null,
   "id": "f7d069d1-ff02-4335-94d2-d2c7fc19ba1e",
   "metadata": {
    "execution": {
     "iopub.execute_input": "2024-11-15T10:10:38.846249Z",
     "iopub.status.busy": "2024-11-15T10:10:38.846128Z",
     "iopub.status.idle": "2024-11-15T10:10:38.851517Z",
     "shell.execute_reply": "2024-11-15T10:10:38.851169Z",
     "shell.execute_reply.started": "2024-11-15T10:10:38.846238Z"
    }
   },
   "outputs": [],
   "source": [
    "import logging\n",
    "spec_logger = logging.getLogger('Spectrum')\n",
    "spec_logger.setLevel(logging.CRITICAL)"
   ]
  },
  {
   "cell_type": "markdown",
   "id": "9d056bcf-5baa-4e3b-bf1a-7f87ee8fdebd",
   "metadata": {},
   "source": [
    "## Fetch Spectra and transmission curve"
   ]
  },
  {
   "cell_type": "markdown",
   "id": "ca481814-159d-4af3-b9e3-0680f82024d7",
   "metadata": {},
   "source": [
    "### Get Spectra"
   ]
  },
  {
   "cell_type": "code",
   "execution_count": null,
   "id": "50000ba9-e4b1-4d77-8ec1-cff297d7b76c",
   "metadata": {
    "execution": {
     "iopub.execute_input": "2024-11-15T10:10:38.851995Z",
     "iopub.status.busy": "2024-11-15T10:10:38.851882Z",
     "iopub.status.idle": "2024-11-15T10:11:51.004694Z",
     "shell.execute_reply": "2024-11-15T10:11:51.004206Z",
     "shell.execute_reply.started": "2024-11-15T10:10:38.851984Z"
    }
   },
   "outputs": [],
   "source": [
    "all_foundvisitid, all_headers, all_params_spectrum , all_params_spectrogram, all_spectra = GetListOfSpectra(butler,list_visitids,my_collection)"
   ]
  },
  {
   "cell_type": "code",
   "execution_count": null,
   "id": "bf906bfb-df4a-4778-8007-9ef870f9137a",
   "metadata": {
    "execution": {
     "iopub.execute_input": "2024-11-15T10:11:51.005407Z",
     "iopub.status.busy": "2024-11-15T10:11:51.005205Z",
     "iopub.status.idle": "2024-11-15T10:13:18.527289Z",
     "shell.execute_reply": "2024-11-15T10:13:18.526870Z",
     "shell.execute_reply.started": "2024-11-15T10:11:51.005389Z"
    }
   },
   "outputs": [],
   "source": [
    "for idx,spec  in enumerate(all_spectra):\n",
    "    print(idx,\") :: \",df_spec_sel.iloc[idx][[\"id\",\"TARGET\",\"AIRMASS\",'PSF_REG','TRACE_R']])\n",
    "    spec.plot_spectrum_summary()"
   ]
  },
  {
   "cell_type": "code",
   "execution_count": null,
   "id": "da56edeb-775b-445a-af3e-7b947c7fa916",
   "metadata": {},
   "outputs": [],
   "source": []
  }
 ],
 "metadata": {
  "kernelspec": {
   "display_name": "LSST",
   "language": "python",
   "name": "lsst"
  },
  "language_info": {
   "codemirror_mode": {
    "name": "ipython",
    "version": 3
   },
   "file_extension": ".py",
   "mimetype": "text/x-python",
   "name": "python",
   "nbconvert_exporter": "python",
   "pygments_lexer": "ipython3",
   "version": "3.11.9"
  }
 },
 "nbformat": 4,
 "nbformat_minor": 5
}
