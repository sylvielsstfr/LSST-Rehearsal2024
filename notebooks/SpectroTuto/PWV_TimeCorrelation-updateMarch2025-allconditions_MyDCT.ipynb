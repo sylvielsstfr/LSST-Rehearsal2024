{
 "cells": [
  {
   "cell_type": "markdown",
   "id": "45bf4242-bfc5-4d43-88c4-a8059ae148df",
   "metadata": {},
   "source": [
    "# Time correlation on PWV and Discrete Covariance Function Update with Clear Sky Update with clearsky (V1)"
   ]
  },
  {
   "cell_type": "markdown",
   "id": "01993b6e-6438-4fca-a5d5-1f9791336847",
   "metadata": {},
   "source": [
    "- author Sylvie Dagoret-Campagne\n",
    "- affiliation : IJCLab\n",
    "- creation date 2025-02-10 :\n",
    "- last update 2025-02-10\n",
    "- last update 2025-02-10 : errorbars on X,Y\n",
    "- last update : 2025-03-12 : Compute my DCT with pwv product.\n",
    "- last update : 2025-03-13 : Include pair with itself and correct bug with sigmaPWV (don't put residuals)\n",
    "- Kernel @usdf **w_2025_50*\n",
    "- Office emac : mamba_py311\n",
    "- Home emac : base (conda)\n",
    "- laptop : conda_py310\n",
    "- pyzdcf : readthedoc , https://pyzdcf.readthedocs.io/en/latest/ and github, https://github.com/LSST-sersag/pyzdcf, availle in pypi : https://pypi.org/project/pyzdcf/\n",
    "- CANNOT INSTALL PYZDCF AT USDF"
   ]
  },
  {
   "cell_type": "markdown",
   "id": "0219159d-6865-4311-ac1d-99d11dad223f",
   "metadata": {},
   "source": [
    "**Goal** : Show correlation holo /Merra"
   ]
  },
  {
   "cell_type": "code",
   "execution_count": null,
   "id": "63a2b2ef-0bc2-45eb-91d9-87835d264751",
   "metadata": {
    "tags": []
   },
   "outputs": [],
   "source": [
    "from platform import python_version\n",
    "print(python_version())"
   ]
  },
  {
   "cell_type": "code",
   "execution_count": null,
   "id": "dcc53afe-c58f-4948-92c9-0090d373ad2a",
   "metadata": {},
   "outputs": [],
   "source": [
    "import warnings\n",
    "warnings.resetwarnings()\n",
    "warnings.simplefilter('ignore')"
   ]
  },
  {
   "cell_type": "code",
   "execution_count": null,
   "id": "8026d265-2493-4045-afec-26205ff71f7c",
   "metadata": {
    "tags": []
   },
   "outputs": [],
   "source": [
    "from platform import python_version\n",
    "print(python_version())"
   ]
  },
  {
   "cell_type": "code",
   "execution_count": null,
   "id": "eb1f116e-80e3-46ad-a7db-7f253632e5ca",
   "metadata": {},
   "outputs": [],
   "source": [
    "import os"
   ]
  },
  {
   "cell_type": "code",
   "execution_count": null,
   "id": "c4ff1199-6b0a-4147-a425-59405f74c454",
   "metadata": {},
   "outputs": [],
   "source": [
    "from pyzdcf import pyzdcf"
   ]
  },
  {
   "cell_type": "code",
   "execution_count": null,
   "id": "3ec760cd-3d3f-4a34-a6f6-b226fe500951",
   "metadata": {},
   "outputs": [],
   "source": [
    "# where are stored the figures\n",
    "pathfigs = \"figsHoloCorrelationPWVTime-MyDCT\"\n",
    "if not os.path.exists(pathfigs):\n",
    "    os.makedirs(pathfigs) \n",
    "figtype = \".png\""
   ]
  },
  {
   "cell_type": "code",
   "execution_count": null,
   "id": "805cabc7-2030-4e0b-9150-9f3186ff4821",
   "metadata": {},
   "outputs": [],
   "source": [
    "pathdata = \"dataHoloCorrelationPWVTime-MyDCT\"\n",
    "if not os.path.exists(pathdata):\n",
    "    os.makedirs(pathdata) \n",
    "datapath_input = os.path.join(pathdata,\"timecurves\") \n",
    "datapath_output = os.path.join(pathdata,\"results\") \n",
    "if not os.path.exists(datapath_input):\n",
    "    os.makedirs(datapath_input) \n",
    "if not os.path.exists(datapath_output):\n",
    "    os.makedirs(datapath_output) "
   ]
  },
  {
   "cell_type": "code",
   "execution_count": null,
   "id": "bf752b70-e6ca-4cbf-8e8c-20bf7f0d8f61",
   "metadata": {},
   "outputs": [],
   "source": [
    "import numpy as np\n",
    "from numpy.linalg import inv\n",
    "import matplotlib as mpl\n",
    "import matplotlib.pyplot as plt\n",
    "%matplotlib inline\n",
    "from mpl_toolkits.axes_grid1 import make_axes_locatable\n",
    "from matplotlib.colors import LogNorm,SymLogNorm\n",
    "from matplotlib.patches import Circle,Annulus\n",
    "from astropy.visualization import ZScaleInterval\n",
    "props = dict(boxstyle='round', facecolor=\"white\", alpha=0.1)\n",
    "#props = dict(boxstyle='round')\n",
    "\n",
    "import matplotlib.colors as colors\n",
    "import matplotlib.cm as cmx\n",
    "\n",
    "import matplotlib.ticker                         # here's where the formatter is\n",
    "from matplotlib.ticker import (MultipleLocator, FormatStrFormatter,\n",
    "                               AutoMinorLocator)\n",
    "\n",
    "from matplotlib.gridspec import GridSpec\n",
    "\n",
    "import seaborn as sns\n",
    "\n",
    "from astropy.visualization import (MinMaxInterval, SqrtStretch,ZScaleInterval,PercentileInterval,\n",
    "                                   ImageNormalize,imshow_norm)\n",
    "from astropy.visualization.stretch import SinhStretch, LinearStretch,AsinhStretch,LogStretch\n",
    "\n",
    "from astropy.io import fits\n",
    "from astropy.wcs import WCS\n",
    "from astropy import units as u\n",
    "from astropy import constants as c\n",
    "\n",
    "from astropy.coordinates.earth import EarthLocation\n",
    "from datetime import datetime\n",
    "from pytz import timezone\n",
    "\n",
    "from scipy import interpolate\n",
    "from sklearn.neighbors import NearestNeighbors\n",
    "from sklearn.neighbors import KDTree, BallTree\n",
    "\n",
    "import pandas as pd\n",
    "pd.set_option(\"display.max_columns\", None)\n",
    "pd.set_option('display.max_rows', 100)\n",
    "\n",
    "import matplotlib.ticker                         # here's where the formatter is\n",
    "import os\n",
    "import re\n",
    "import pandas as pd\n",
    "import pickle\n",
    "from collections import OrderedDict\n",
    "\n",
    "plt.rcParams[\"figure.figsize\"] = (4,3)\n",
    "plt.rcParams[\"axes.labelsize\"] = 'xx-large'\n",
    "plt.rcParams['axes.titlesize'] = 'xx-large'\n",
    "plt.rcParams['xtick.labelsize']= 'xx-large'\n",
    "plt.rcParams['ytick.labelsize']= 'xx-large'\n",
    "\n",
    "import scipy\n",
    "from scipy.optimize import curve_fit,least_squares\n",
    "\n",
    "\n",
    "# new color correction model\n",
    "import pickle\n",
    "from scipy.interpolate import RegularGridInterpolator"
   ]
  },
  {
   "cell_type": "code",
   "execution_count": null,
   "id": "98268139-19c9-46c3-af3b-42fb49770b26",
   "metadata": {},
   "outputs": [],
   "source": [
    "from mpl_toolkits.axes_grid1.inset_locator import inset_axes"
   ]
  },
  {
   "cell_type": "code",
   "execution_count": null,
   "id": "0ca0d1e6-5f82-4c43-aaa3-8524fc2bc5ba",
   "metadata": {},
   "outputs": [],
   "source": [
    "from matplotlib.ticker import (MultipleLocator, FormatStrFormatter,\n",
    "                               AutoMinorLocator)\n",
    "\n",
    "from astropy.visualization import (MinMaxInterval, SqrtStretch,ZScaleInterval,PercentileInterval,\n",
    "                                   ImageNormalize,imshow_norm)\n",
    "from astropy.visualization.stretch import SinhStretch, LinearStretch,AsinhStretch,LogStretch\n",
    "\n",
    "from astropy.time import Time\n"
   ]
  },
  {
   "cell_type": "code",
   "execution_count": null,
   "id": "e189816c-5048-43ab-a01a-7c078af54489",
   "metadata": {},
   "outputs": [],
   "source": [
    "# Remove to run faster the notebook\n",
    "#import ipywidgets as widgets\n",
    "#%matplotlib widget"
   ]
  },
  {
   "cell_type": "code",
   "execution_count": null,
   "id": "67327fd4-e405-45ce-8923-cd46ebaa0c0f",
   "metadata": {
    "tags": []
   },
   "outputs": [],
   "source": [
    "from importlib.metadata import version"
   ]
  },
  {
   "cell_type": "code",
   "execution_count": null,
   "id": "af8332dd-24f9-4b19-88f9-c62d0a4aebf1",
   "metadata": {
    "tags": []
   },
   "outputs": [],
   "source": [
    "# wavelength bin colors\n",
    "#jet = plt.get_cmap('jet')\n",
    "#cNorm = mpl.colors.Normalize(vmin=0, vmax=NSED)\n",
    "#scalarMap = cmx.ScalarMappable(norm=cNorm, cmap=jet)\n",
    "#all_colors = scalarMap.to_rgba(np.arange(NSED), alpha=1)"
   ]
  },
  {
   "cell_type": "code",
   "execution_count": null,
   "id": "1003d9d6-a40f-48b1-9ffc-bfab9f45ba93",
   "metadata": {},
   "outputs": [],
   "source": [
    "np.__version__"
   ]
  },
  {
   "cell_type": "code",
   "execution_count": null,
   "id": "c4cb2652-cb22-432e-b110-ae71d59dc793",
   "metadata": {},
   "outputs": [],
   "source": [
    "pd.__version__"
   ]
  },
  {
   "cell_type": "code",
   "execution_count": null,
   "id": "ad03dc3d-6741-4478-82ba-1d5447529d9a",
   "metadata": {},
   "outputs": [],
   "source": [
    "def convertNumToDatestr(num):\n",
    "    year = num//10_000\n",
    "    month= (num-year*10_000)//100\n",
    "    day = (num-year*10_000-month*100)\n",
    "\n",
    "    year_str = str(year).zfill(4)\n",
    "    month_str = str(month).zfill(2)\n",
    "    day_str = str(day).zfill(2)\n",
    "    \n",
    "    datestr = f\"{year_str}-{month_str}-{day_str}\"\n",
    "    return pd.to_datetime(datestr)"
   ]
  },
  {
   "cell_type": "markdown",
   "id": "4f13d6a3-7793-4bc0-920a-1d690d9f84b2",
   "metadata": {},
   "source": [
    "## Configuration"
   ]
  },
  {
   "cell_type": "code",
   "execution_count": null,
   "id": "c8cb2e48-0b34-4cbf-8379-43f7065112f7",
   "metadata": {},
   "outputs": [],
   "source": [
    "observing_location = EarthLocation.of_site('Rubin Observatory')\n",
    "tz = timezone('America/Santiago')"
   ]
  },
  {
   "cell_type": "markdown",
   "id": "b884e71c-39cb-43e1-9edf-4a2cade9196e",
   "metadata": {},
   "source": [
    "### Spectro Hologram data"
   ]
  },
  {
   "cell_type": "code",
   "execution_count": null,
   "id": "a6d313e9-1621-40fb-a7d8-6d01522c7485",
   "metadata": {},
   "outputs": [],
   "source": [
    "FLAG_WITHCOLLIMATOR = False\n",
    "DATE_WITHCOLLIMATOR = 20230930\n",
    "datetime_WITHCOLLIMATOR = convertNumToDatestr(DATE_WITHCOLLIMATOR)\n",
    "datetime_WITHCOLLIMATOR = pd.to_datetime(\"2023-09-30 00:00:00.0+0000\")\n",
    "datetime_WITHCOLLIMATOR"
   ]
  },
  {
   "cell_type": "code",
   "execution_count": null,
   "id": "5bac0cab-3886-4683-b1c8-fc59edacfd46",
   "metadata": {
    "tags": []
   },
   "outputs": [],
   "source": [
    "version_results = \"v5\"\n",
    "legendtag = {\"v1\" : \"old v3.1.0\",\n",
    "            \"v2\" : \"v3.1.0-PWV<10mm\",\n",
    "            \"v3\" : \"v3.1.0-PWV<15mm\",\n",
    "            \"v4\" : \"Auxtel holo v3.1.0\",\n",
    "            \"v5\" : \"Auxtel holo v3.1.0 09/22 - 10/24\"}"
   ]
  },
  {
   "cell_type": "code",
   "execution_count": null,
   "id": "99436fe6-ad07-4796-b982-7dd89f554f0c",
   "metadata": {
    "tags": []
   },
   "outputs": [],
   "source": [
    "atmfilenamesdict = {\"v1\" : \"data/spectro/auxtel_atmosphere_202301_v3.1.0_doSensorFlat_rebin2_testWithMaskedEdges_newBoundaries_newPolysRescaled_newFitBounds_adjustA1_lockedOrder2_removeThroughputTails_2.npy\",\n",
    "                    \"v2\" : \"auxtel_atmosphere_202301_v3.1.0_doSensorFlat_rebin2_lockedOrder2_FixA1_FixA2_FitAngstrom_FixA1_FixA2_FitAngstrom_WithGaia_freePressure_newThroughput6_BG40Scaled1.09_PeekFinder.npy\",\n",
    "                    \"v3\" : \"u_dagoret_auxtel_atmosphere_202301_v3.1.0_doSensorFlat_rebin2_lockedOrder2_FixA1_FixA2_FitAngstrom_WithGaia_freePressure_newThroughput6_BG40Scaled1.09_AtmoFitPressureA2_SpecErr_PeekFinder_20240924T161119Z.npy\",\n",
    "                    \"v4\" : \"u_dagoret_auxtel_atmosphere_202301_v3.1.0_doSensorFlat_rebin2_lockedOrder2_FixA1_FixA2_FitAngstrom_WithGaia_freePressure_newThroughput6_BG40Scaled1.09_AtmoFitPressureA2_SpecErr_PeekFinder_20240924T161119Z_spectrfullextend.npy\",\n",
    "                    \"v5\" : \"u_dagoret_auxtel_atmosphere_202209_v3.1.0_doSensorFlat_rebin2_lockedOrder2_FixA1_FixA2_FitAngstrom_WithGaia_freePressure_newThroughput6_BG40Scaled1.09_AtmoFitPressureA2_SpecErr_No5SigmaClip_20241016T184601Z_spectrfullextended.npy\"}"
   ]
  },
  {
   "cell_type": "code",
   "execution_count": null,
   "id": "f5ee7d08-244a-462a-b9fc-ff5cd4d3e801",
   "metadata": {
    "tags": []
   },
   "outputs": [],
   "source": [
    "atmfilename = atmfilenamesdict[version_results]\n",
    "tag = legendtag[version_results] "
   ]
  },
  {
   "cell_type": "markdown",
   "id": "a30a15de-34f1-4f2b-afb9-52143c1cff27",
   "metadata": {},
   "source": [
    "## Initialisation"
   ]
  },
  {
   "cell_type": "markdown",
   "id": "4053343d-8e37-4402-b49f-c28dbb9e4afb",
   "metadata": {},
   "source": [
    "### Read the file"
   ]
  },
  {
   "cell_type": "code",
   "execution_count": null,
   "id": "ad60336b-f26f-4184-bcdf-e596329ecbbd",
   "metadata": {},
   "outputs": [],
   "source": [
    "specdata = np.load(atmfilename,allow_pickle=True)"
   ]
  },
  {
   "cell_type": "code",
   "execution_count": null,
   "id": "3d9c7249-f818-4a98-8000-9be75b3c7a21",
   "metadata": {},
   "outputs": [],
   "source": [
    "df_spec = pd.DataFrame(specdata)"
   ]
  },
  {
   "cell_type": "code",
   "execution_count": null,
   "id": "a19b591a-d479-4507-b241-81070420c847",
   "metadata": {
    "tags": []
   },
   "outputs": [],
   "source": [
    "#list(df_spec.columns)"
   ]
  },
  {
   "cell_type": "markdown",
   "id": "bc819873-96bb-450f-bec4-7049af8b8b3d",
   "metadata": {},
   "source": [
    "### Remove spectra with red filter"
   ]
  },
  {
   "cell_type": "code",
   "execution_count": null,
   "id": "dde97a6e-2400-4ea9-83fe-e0fc8a14e391",
   "metadata": {},
   "outputs": [],
   "source": [
    "df_spec['FILTER'].unique()"
   ]
  },
  {
   "cell_type": "code",
   "execution_count": null,
   "id": "716b7967-d722-4287-8cce-6fa7ea3cbf19",
   "metadata": {},
   "outputs": [],
   "source": [
    "FLAG_REMOVE_FILTERS = True\n",
    "if FLAG_REMOVE_FILTERS:\n",
    "    df_spec=df_spec[df_spec[\"FILTER\"] == 'empty']\n",
    "    df_spec.reset_index(inplace=True)  "
   ]
  },
  {
   "cell_type": "markdown",
   "id": "a81b1aa2-7edc-4a24-9c44-c24c3826c18f",
   "metadata": {
    "tags": []
   },
   "source": [
    "### Define if a target is faint or bright"
   ]
  },
  {
   "cell_type": "code",
   "execution_count": null,
   "id": "412e59e0-f026-42d0-b6e1-7e5185c7e9dd",
   "metadata": {
    "tags": []
   },
   "outputs": [],
   "source": [
    "def IsFaint(row):\n",
    "    List_Of_Faint_targets = ['Feige110','HD074000','HD115169','HD031128','HD200654','HD167060','HD009051','HD142331','HD160617','HD111980']\n",
    "    List_Of_faint_selected = List_Of_Faint_targets[:10]\n",
    "    if row[\"TARGET\"] in List_Of_faint_selected:\n",
    "        return True\n",
    "    else:\n",
    "        return False"
   ]
  },
  {
   "cell_type": "code",
   "execution_count": null,
   "id": "07cd52bf-50de-4190-ad3f-d68aaf18039e",
   "metadata": {},
   "outputs": [],
   "source": [
    "df_spec[\"isFaint\"] = df_spec.apply(IsFaint,axis=1)"
   ]
  },
  {
   "cell_type": "markdown",
   "id": "3af3b3b6-7774-4b43-830b-a287c4e3281b",
   "metadata": {},
   "source": [
    "### Compute NightObs"
   ]
  },
  {
   "cell_type": "code",
   "execution_count": null,
   "id": "4de5d570-2e92-468b-ab07-63fffd8d2b8c",
   "metadata": {},
   "outputs": [],
   "source": [
    "df_spec[\"nightObs\"] = df_spec.apply(lambda x: x['id']//100_000, axis=1)"
   ]
  },
  {
   "cell_type": "code",
   "execution_count": null,
   "id": "079b9ebb-4e59-4364-8ffa-f0439e943959",
   "metadata": {},
   "outputs": [],
   "source": [
    "if FLAG_WITHCOLLIMATOR:\n",
    "    df_spec = df_spec[df_spec[\"nightObs\"]> DATE_WITHCOLLIMATOR]"
   ]
  },
  {
   "cell_type": "markdown",
   "id": "a4f8b443-4bc5-46fc-a548-33441edee6da",
   "metadata": {},
   "source": [
    "## Apply Quality selection"
   ]
  },
  {
   "cell_type": "code",
   "execution_count": null,
   "id": "2325b3ff-29c2-445a-b25e-cc11aba4f45a",
   "metadata": {
    "tags": []
   },
   "outputs": [],
   "source": [
    "fig,ax = plt.subplots(1,1)\n",
    "df_spec[\"CHI2_FIT\"].hist(bins=50,ax=ax,range=(0,200))\n",
    "ax.set_yscale(\"log\")"
   ]
  },
  {
   "cell_type": "markdown",
   "id": "a7aaca44-ad09-4883-8a7d-413b71e8b4a2",
   "metadata": {},
   "source": [
    "### Add the Time in pd.datetime"
   ]
  },
  {
   "cell_type": "markdown",
   "id": "6a2222de-f3b7-4678-b2dc-d4c89102e0ab",
   "metadata": {},
   "source": [
    "#### UTC"
   ]
  },
  {
   "cell_type": "code",
   "execution_count": null,
   "id": "0d10c1ad-c5dc-4487-baa9-7c71ec531f45",
   "metadata": {},
   "outputs": [],
   "source": [
    "df_spec[\"Time\"] = pd.to_datetime(df_spec[\"DATE-OBS\"])"
   ]
  },
  {
   "cell_type": "code",
   "execution_count": null,
   "id": "66cfe082-4e0c-4b83-ac40-122ba4c58ec4",
   "metadata": {
    "tags": []
   },
   "outputs": [],
   "source": [
    "DT = pd.Timedelta(minutes=7*24*60)\n",
    "TMIN  = df_spec[\"Time\"].min()-DT\n",
    "TMAX  = df_spec[\"Time\"].max()+DT"
   ]
  },
  {
   "cell_type": "markdown",
   "id": "433fdc22-9674-47c9-a11c-1e6acfc52311",
   "metadata": {
    "tags": []
   },
   "source": [
    "### Compute relative time to Mid-night"
   ]
  },
  {
   "cell_type": "code",
   "execution_count": null,
   "id": "0de9a173-9144-4c45-a93f-f7df8b5905b7",
   "metadata": {},
   "outputs": [],
   "source": [
    "def GetTimeToMidNight(row):\n",
    "    observing_time = Time(row['DATE-OBS'], scale='utc', location=observing_location)\n",
    "\n",
    "    # time at the location , either before or after midnight\n",
    "    local_time =  observing_time.to_datetime(timezone=tz)\n",
    "\n",
    "    # take time independent  of any location now\n",
    "    local_time_new = datetime(local_time.year,local_time.month,local_time.day,local_time.hour,local_time.minute,local_time.second)\n",
    "    local_time_midnight = datetime(local_time_new.year,local_time_new.month,local_time_new.day)\n",
    "    dt_hour = (local_time_new -local_time_midnight).seconds/3600.\n",
    "\n",
    "    # we took the previous night mid-night , must subtract 24H\n",
    "    if dt_hour > 12.:\n",
    "        dt_hour_new = (dt_hour - 24.)\n",
    "    else:\n",
    "        dt_hour_new = dt_hour\n",
    "        \n",
    "    return dt_hour_new"
   ]
  },
  {
   "cell_type": "code",
   "execution_count": null,
   "id": "05bfba4e-45f5-4020-953f-b6205001b698",
   "metadata": {},
   "outputs": [],
   "source": [
    "df_spec[\"dt_midnight\"] = df_spec.apply(GetTimeToMidNight,axis=1)"
   ]
  },
  {
   "cell_type": "code",
   "execution_count": null,
   "id": "154fc415-c965-44c2-8ec0-95f95c1616a3",
   "metadata": {},
   "outputs": [],
   "source": [
    "fig,ax = plt.subplots(1,1,figsize=(6,4))\n",
    "df_spec[\"dt_midnight\"].hist(bins=48,range=(-12,12),ax=ax,facecolor=\"blue\") \n",
    "ax.set_xlabel(\"time relative to midnight (hour)\")\n",
    "ax.set_title(\"Observation time\")"
   ]
  },
  {
   "cell_type": "markdown",
   "id": "649915d4-df38-43ae-8b7a-f0f72e70590d",
   "metadata": {},
   "source": [
    "### Compute Date relative to January"
   ]
  },
  {
   "cell_type": "code",
   "execution_count": null,
   "id": "e5e99394-ff09-4ab6-b0c0-0fccce1be86c",
   "metadata": {},
   "outputs": [],
   "source": [
    "def GetDateToMidJanuary(row):\n",
    "    observing_time = Time(row['DATE-OBS'], scale='utc', location=observing_location)\n",
    "\n",
    "    # time at the location , either before or after midnight\n",
    "    local_time =  observing_time.to_datetime(timezone=tz)\n",
    "\n",
    "    # take time independent  of any location now\n",
    "    local_time_new = datetime(2024,local_time.month,local_time.day,local_time.hour,local_time.minute,local_time.second)\n",
    "           \n",
    "    return pd.to_datetime(local_time_new)"
   ]
  },
  {
   "cell_type": "code",
   "execution_count": null,
   "id": "2e991a33-84e9-4766-98fb-665bada15c6d",
   "metadata": {},
   "outputs": [],
   "source": [
    "#df_spec[\"Time_january\"] = df_spec.apply(GetDateToMidJanuary,axis=1)"
   ]
  },
  {
   "cell_type": "code",
   "execution_count": null,
   "id": "42779ad2-8f3f-44c7-9a0b-a9dcb33065e9",
   "metadata": {},
   "outputs": [],
   "source": [
    "def GetDateToMidJanuaryAndYear(row):\n",
    "    observing_time = Time(row['DATE-OBS'], scale='utc', location=observing_location)\n",
    "\n",
    "    # time at the location , either before or after midnight\n",
    "    local_time =  observing_time.to_datetime(timezone=tz)\n",
    "\n",
    "    # take time independent  of any location now\n",
    "    local_time_new = datetime(2024,local_time.month,local_time.day,local_time.hour,local_time.minute,local_time.second)\n",
    "           \n",
    "    return pd.to_datetime(local_time_new),local_time.year "
   ]
  },
  {
   "cell_type": "code",
   "execution_count": null,
   "id": "3e747bbc-1357-447b-8cfb-1b22573f022c",
   "metadata": {},
   "outputs": [],
   "source": [
    "df_spec[[\"Time_january\",\"Year\"]] = df_spec.apply(GetDateToMidJanuaryAndYear,axis=1,result_type=\"expand\")"
   ]
  },
  {
   "cell_type": "code",
   "execution_count": null,
   "id": "4076ca2e-03ea-4373-8b55-fdb6ae49de51",
   "metadata": {},
   "outputs": [],
   "source": [
    "df_spec[[\"Time_january\",\"Year\"]]"
   ]
  },
  {
   "cell_type": "markdown",
   "id": "90783a42-5ed9-4ad8-8457-bbe1569413fe",
   "metadata": {},
   "source": [
    "## Compute night boundaries"
   ]
  },
  {
   "cell_type": "code",
   "execution_count": null,
   "id": "0ee7679a-ea50-4190-9400-664370a6b7f0",
   "metadata": {
    "tags": []
   },
   "outputs": [],
   "source": [
    "def GetNightBoundariesDict(df_spec):\n",
    "    \"\"\"\n",
    "    input:\n",
    "      df_spec the dataframe for spectroscopy summary results\n",
    "    output:\n",
    "      the dict of night boudaries\n",
    "    \"\"\"\n",
    "    \n",
    "    Dt = pd.Timedelta(minutes=30)\n",
    "    d = {}\n",
    "    list_of_nightobs = df_spec[\"nightObs\"].unique()\n",
    "    for nightobs in list_of_nightobs:\n",
    "        sel_flag = df_spec[\"nightObs\"]== nightobs\n",
    "        df_night = df_spec[sel_flag]\n",
    "        tmin = df_night[\"Time\"].min()-Dt\n",
    "        tmax = df_night[\"Time\"].max()+Dt\n",
    "        d[nightobs] = (tmin,tmax)\n",
    "    return d"
   ]
  },
  {
   "cell_type": "code",
   "execution_count": null,
   "id": "b4e4e1eb-c4c1-4bdf-b88f-b44bd55b2435",
   "metadata": {
    "tags": []
   },
   "outputs": [],
   "source": [
    "dn = GetNightBoundariesDict(df_spec)"
   ]
  },
  {
   "cell_type": "markdown",
   "id": "715cae7e-32ff-46c8-8d1a-a7c220a9eaed",
   "metadata": {},
   "source": [
    "## Plot all data"
   ]
  },
  {
   "cell_type": "code",
   "execution_count": null,
   "id": "52f3617a-66ac-4021-82b5-2ab076e32d7a",
   "metadata": {},
   "outputs": [],
   "source": [
    "from matplotlib.dates import DateFormatter\n",
    "#date_form = DateFormatter(\"%y-%m-%dT%H:%M\")\n",
    "date_form = DateFormatter(\"%y-%m-%d\")\n",
    "fig,axs = plt.subplots(1,1,figsize=(14,6))\n",
    "ax  = axs\n",
    "leg=ax.get_legend()\n",
    "\n",
    "ax.set_xlim(TMIN,TMAX) \n",
    "#df_m.plot(x=\"Time\",y=\"PShP\",ax=ax,marker=\".\",c=\"b\",lw=0.5,label=\"Merra2\",ms=1,legend=leg)   \n",
    "df_spec.plot(x=\"Time\",y=\"OUTPRESS\",ax=ax,marker='+',c=\"r\",lw=0.0,grid=True,label=tag,legend=leg)\n",
    "ax.set_ylabel(\"OUTPRESS\")\n",
    "\n",
    "ax.set_xlabel(\"time\")\n",
    "ax.xaxis.set_major_formatter(date_form)\n",
    "ax.set_title(\"Pressure (before quality cuts)\")\n",
    "ax.legend()\n",
    "\n",
    "if not FLAG_WITHCOLLIMATOR:\n",
    "    ax.axvspan(TMIN,datetime_WITHCOLLIMATOR, color='yellow', alpha=0.1)\n",
    "\n",
    "\n",
    "for key, tt in dn.items():\n",
    "    ax.axvspan(tt[0],tt[1], color='blue', alpha=0.1)\n",
    "\n",
    "\n",
    "#ax.set_ylim(0.,15.)\n",
    "\n",
    "figname =f\"{pathfigs}/pressure_allpoints_allnights_nocuts\"+figtype\n",
    "plt.savefig(figname)\n",
    "plt.show()\n"
   ]
  },
  {
   "cell_type": "code",
   "execution_count": null,
   "id": "3fd02994-4a05-4145-8da9-10ac7f5b920a",
   "metadata": {},
   "outputs": [],
   "source": [
    "from matplotlib.dates import DateFormatter\n",
    "#date_form = DateFormatter(\"%y-%m-%dT%H:%M\")\n",
    "date_form = DateFormatter(\"%y-%m-%d\")\n",
    "fig,axs = plt.subplots(1,1,figsize=(14,6))\n",
    "ax  = axs\n",
    "leg=ax.get_legend()\n",
    "\n",
    "ax.set_xlim(TMIN,TMAX)   \n",
    "df_spec.plot(x=\"Time\",y=\"PWV [mm]_x\",ax=ax,marker='+',c=\"r\",lw=0.0,grid=True,label=tag,legend=leg)\n",
    "ax.set_ylabel(\"PWV [mm]_x\")\n",
    "\n",
    "ax.set_xlabel(\"time\")\n",
    "ax.xaxis.set_major_formatter(date_form)\n",
    "ax.set_title(\"Precipitable water vapor measured by holo vs time (before quality cuts)\")\n",
    "ax.legend()\n",
    "\n",
    "if not FLAG_WITHCOLLIMATOR:\n",
    "    ax.axvspan(TMIN,datetime_WITHCOLLIMATOR, color='yellow', alpha=0.1)\n",
    "\n",
    "\n",
    "for key, tt in dn.items():\n",
    "    ax.axvspan(tt[0],tt[1], color='blue', alpha=0.1)\n",
    "\n",
    "\n",
    "ax.set_ylim(0.,15.)\n",
    "\n",
    "figname =f\"{pathfigs}/pwv_allpoints_allnights_nocuts\"+figtype\n",
    "plt.savefig(figname)\n",
    "plt.show()\n"
   ]
  },
  {
   "cell_type": "code",
   "execution_count": null,
   "id": "017e2d13-b827-4644-9024-7b0708eebc29",
   "metadata": {},
   "outputs": [],
   "source": [
    "fig,axs = plt.subplots(1,2,figsize=(14,4))\n",
    "ax1,ax2=axs.flatten()\n",
    "df_spec.hist(\"VAOD_x\",bins=50,ax=ax1)\n",
    "df_spec.hist(\"VAOD_y\",bins=50,ax=ax2)"
   ]
  },
  {
   "cell_type": "markdown",
   "id": "564f9a05-b3e2-4d61-9457-cda76ebd2a1b",
   "metadata": {},
   "source": [
    "## Apply Quality selection cuts"
   ]
  },
  {
   "cell_type": "code",
   "execution_count": null,
   "id": "51bff128-4de1-4396-ac64-e56336d8dd67",
   "metadata": {},
   "outputs": [],
   "source": [
    "def getSelectionCut(df_spec, chi2max=20., pwvmin=0.1, pwvmax = 14.9,ozmin=100.,ozmax=600.,vaodmax=0.1):\n",
    "    #cut =  (df_spec[\"CHI2_FIT\"]<chi2max) & (df_spec[\"PWV [mm]_x\"] > pwvmin) & (df_spec[\"PWV [mm]_x\"] < pwvmax) & (df_spec[\"D2CCD\"]>186.5) &  (df_spec[\"D2CCD\"]<187.3) & \\\n",
    "    cut =  (df_spec[\"CHI2_FIT\"]<chi2max) & (df_spec[\"PWV [mm]_x\"] > pwvmin) & (df_spec[\"PWV [mm]_x\"] < pwvmax) & (df_spec[\"D2CCD\"]>186.75) &  (df_spec[\"D2CCD\"]<187.75) &  (df_spec[\"VAOD_x\"]<0.3) & \\\n",
    "    (df_spec['EXPTIME'] > 20.) & (df_spec[\"PWV [mm]_y\"] > pwvmin) & (df_spec[\"PWV [mm]_y\"] < pwvmax) & \\\n",
    "    (df_spec[\"ozone [db]_y\"] > ozmin) & (df_spec[\"ozone [db]_y\"] < ozmax) \n",
    "    return cut"
   ]
  },
  {
   "cell_type": "code",
   "execution_count": null,
   "id": "99017666-4267-4f7c-a926-2da40fe78c00",
   "metadata": {},
   "outputs": [],
   "source": [
    "def getSelectionCutNoPolar(df_spec, chi2max=20., pwvmin=0.1, pwvmax = 14.9,ozmin=100.,ozmax=600.,vaodmax=0.1):\n",
    "    #cut =  (df_spec[\"CHI2_FIT\"]<chi2max) & (df_spec[\"PWV [mm]_x\"] > pwvmin) & (df_spec[\"PWV [mm]_x\"] < pwvmax) & (df_spec[\"D2CCD\"]>186.5) &  (df_spec[\"D2CCD\"]<187.3) & \\\n",
    "    cut =  (df_spec[\"CHI2_FIT\"]<chi2max) & (df_spec[\"PWV [mm]_x\"] > pwvmin) & (df_spec[\"PWV [mm]_x\"] < pwvmax) & (df_spec[\"D2CCD\"]>186.75) &  (df_spec[\"D2CCD\"]<187.75) &  (df_spec[\"VAOD_x\"]<0.3) & \\\n",
    "    (df_spec['EXPTIME'] > 20.) & (df_spec[\"PWV [mm]_y\"] > pwvmin) & (df_spec[\"PWV [mm]_y\"] < pwvmax) & \\\n",
    "    (df_spec[\"ozone [db]_y\"] > ozmin) & (df_spec[\"ozone [db]_y\"] < ozmax) & (df_spec[\"TARGET\"] != \"HD185975\")\n",
    "    return cut"
   ]
  },
  {
   "cell_type": "code",
   "execution_count": null,
   "id": "19b35b65-0191-4f70-9623-b3ecaeebe96e",
   "metadata": {},
   "outputs": [],
   "source": [
    "def getSelectionCutWithPolar(df_spec, chi2max=20., pwvmin=0.1, pwvmax = 14.9,ozmin=100.,ozmax=600.,vaodmax=0.1):\n",
    "    #cut =  (df_spec[\"CHI2_FIT\"]<chi2max) & (df_spec[\"PWV [mm]_x\"] > pwvmin) & (df_spec[\"PWV [mm]_x\"] < pwvmax) & (df_spec[\"D2CCD\"]>186.5) &  (df_spec[\"D2CCD\"]<187.3) & \\\n",
    "    cut =  (df_spec[\"CHI2_FIT\"]<chi2max) & (df_spec[\"PWV [mm]_x\"] > pwvmin) & (df_spec[\"PWV [mm]_x\"] < pwvmax) & (df_spec[\"D2CCD\"]>186.75) &  (df_spec[\"D2CCD\"]<187.75) &  (df_spec[\"VAOD_x\"]<0.3) & \\\n",
    "    (df_spec['EXPTIME'] > 20.) & (df_spec[\"PWV [mm]_y\"] > pwvmin) & (df_spec[\"PWV [mm]_y\"] < pwvmax) & \\\n",
    "    (df_spec[\"ozone [db]_y\"] > ozmin) & (df_spec[\"ozone [db]_y\"] < ozmax) & (df_spec[\"TARGET\"] == \"HD185975\")\n",
    "    return cut"
   ]
  },
  {
   "cell_type": "code",
   "execution_count": null,
   "id": "1b675e35-55ff-41af-82bf-85bb4c3267be",
   "metadata": {
    "tags": []
   },
   "outputs": [],
   "source": [
    "cut = getSelectionCut(df_spec) \n",
    "cut_nopolar = getSelectionCutNoPolar(df_spec) \n",
    "cut_nopolar_bright = getSelectionCutNoPolar(df_spec) & (~df_spec[\"isFaint\"])\n",
    "cut_nopolar_faint = getSelectionCutNoPolar(df_spec) & (df_spec[\"isFaint\"])\n",
    "cut_wthpolar = getSelectionCutWithPolar(df_spec)"
   ]
  },
  {
   "cell_type": "code",
   "execution_count": null,
   "id": "e1cbfa40-4395-47f4-9acf-6a9f531fabd4",
   "metadata": {},
   "outputs": [],
   "source": [
    "df_spec_sel = df_spec[cut]\n",
    "df_spec_np = df_spec[cut_nopolar] \n",
    "df_spec_np_b = df_spec[cut_nopolar_bright]\n",
    "df_spec_np_f = df_spec[cut_nopolar_faint]\n",
    "df_spec_wp = df_spec[cut_wthpolar]"
   ]
  },
  {
   "cell_type": "code",
   "execution_count": null,
   "id": "3c2b44e0-c554-4265-8caf-25b77c33ab1c",
   "metadata": {},
   "outputs": [],
   "source": [
    "print(\"Total number of Spectra          : \",len(df_spec))\n",
    "print(\"Number of selected Spectra       : \",len(df_spec_sel))\n",
    "print(\"Number of selected Polars        : \",len(df_spec_wp))\n",
    "print(\"Number of selected Non-Polars    : \",len(df_spec_np))\n",
    "print(\"Number of selected Non-Polars Bright : \",len(df_spec_np_b))\n",
    "print(\"Number of selected Non-Polars Faint  : \",len(df_spec_np_f))"
   ]
  },
  {
   "cell_type": "code",
   "execution_count": null,
   "id": "bae62b07-17d4-423e-bdfe-634272a040a2",
   "metadata": {
    "tags": []
   },
   "outputs": [],
   "source": [
    "df_spec_sel.reset_index(drop=True,inplace=True)\n",
    "df_spec_np.reset_index(drop=True,inplace=True)\n",
    "df_spec_wp.reset_index(drop=True,inplace=True) \n",
    "df_spec_np_b.reset_index(drop=True,inplace=True)\n",
    "df_spec_np_f.reset_index(drop=True,inplace=True)"
   ]
  },
  {
   "cell_type": "code",
   "execution_count": null,
   "id": "cef3e8dd-b2b7-4fcb-a676-3cef4d07f6c7",
   "metadata": {},
   "outputs": [],
   "source": [
    "#List_Of_Faint_targets = ['Feige110','HD074000','HD115169','HD031128','HD200654','HD167060','HD009051','HD142331','HD160617','HD111980']\n",
    "print(\"Polar            :\",len(df_spec_wp[\"TARGET\"].unique()),\"\\t\", df_spec_wp[\"TARGET\"].unique()) \n",
    "print(\"Non Polar        :\",len(df_spec_np[\"TARGET\"].unique()),\"\\t\" ,df_spec_np[\"TARGET\"].unique())\n",
    "print(\"Non Polar Bright :\",len(df_spec_np_b[\"TARGET\"].unique()),\"\\t\" ,df_spec_np_b[\"TARGET\"].unique())\n",
    "print(\"Non Polar Faint  :\",len(df_spec_np_f[\"TARGET\"].unique()),\"\\t\",df_spec_np_f[\"TARGET\"].unique())"
   ]
  },
  {
   "cell_type": "markdown",
   "id": "030bf82d-8d80-492c-96cf-4506c2eac282",
   "metadata": {
    "tags": []
   },
   "source": [
    "## Recompute night boundaries"
   ]
  },
  {
   "cell_type": "code",
   "execution_count": null,
   "id": "1e41540b-d7cd-49c8-88dc-4175db604a17",
   "metadata": {
    "tags": []
   },
   "outputs": [],
   "source": [
    "#dn = GetNightBoundariesDict(df_spec_sel)"
   ]
  },
  {
   "cell_type": "markdown",
   "id": "c4c10f08-5d32-465f-afd6-e51c1716bbd2",
   "metadata": {},
   "source": [
    "## Plot all data"
   ]
  },
  {
   "cell_type": "code",
   "execution_count": null,
   "id": "a2b12d05-8396-4a3c-bcfb-75de6ac63ee5",
   "metadata": {},
   "outputs": [],
   "source": [
    "from matplotlib.dates import DateFormatter\n",
    "date_form = DateFormatter(\"%y-%m-%d\")\n",
    "\n",
    "fig,axs = plt.subplots(1,1,figsize=(14,6),layout='constrained')\n",
    "ax  = axs\n",
    "leg=ax.get_legend()\n",
    "\n",
    "#ax.set_xlim(TMIN,TMAX) \n",
    "#df_m.plot(x=\"Time\",y=\"TQV\",ax=ax,marker=\".\",c=\"b\",lw=0.5,ms=1,label=\"Merra2\",legend=leg)     \n",
    "    \n",
    "df_spec_sel[df_spec_sel.Year==2022].plot(x=\"Time_january\",y=\"PWV [mm]_x\",ax=ax,marker='+',c=\"g\",lw=0.0,grid=True,label=\"2022\",legend=leg,ms=5,alpha=1.)\n",
    "df_spec_sel[df_spec_sel.Year==2023].plot(x=\"Time_january\",y=\"PWV [mm]_x\",ax=ax,marker='+',c=\"b\",lw=0.0,grid=True,label=\"2023\",legend=leg,ms=5,alpha=1.)\n",
    "df_spec_sel[df_spec_sel.Year==2024].plot(x=\"Time_january\",y=\"PWV [mm]_x\",ax=ax,marker='+',c=\"r\",lw=0.0,grid=True,label=\"2024\",legend=leg,ms=5,alpha=1.)\n",
    "#df_spec_np_f.plot(x=\"Time\",y=\"PWV [mm]_x\",ax=ax,marker='o',c=\"grey\",lw=0.0,grid=True,label=\"faint,no polar\",legend=leg,ms=5,alpha=0.2)\n",
    "#df_spec_np_b.plot(x=\"Time_january\",y=\"PWV [mm]_x\",ax=ax,marker='o',c=\"r\",lw=0.0,grid=True,label=\"bright,no polar\",legend=leg,ms=5,alpha=0.2)\n",
    "#df_spec_np.plot(x=\"Time\",y=\"PWV [mm]_x\",ax=ax,marker='o',c=\"m\",lw=0.0,grid=True,label=\"no polar\",legend=leg,ms=5,alpha=0.5)\n",
    "#df_spec_wp.plot(x=\"Time_january\",y=\"PWV [mm]_x\",ax=ax,marker='o',c=\"g\",lw=0.0,grid=True,label=\"with polar\",legend=leg,ms=5,alpha=0.5)\n",
    "ax.set_ylabel(\"PWV [mm]_x\")\n",
    "ax.set_xlabel(\"date (since January)\")\n",
    "ax.xaxis.set_major_formatter(date_form)\n",
    "ax.set_title(\"Precipitable water vapor measured by holo (modulo 1 year)\",fontweight=\"bold\")\n",
    "ax.legend()\n",
    "\n",
    "for key, tt in dn.items():\n",
    "    ax.axvspan(tt[0],tt[1], color='blue', alpha=0.1)\n",
    "\n",
    "ax.axvspan(TMIN,datetime_WITHCOLLIMATOR, color='yellow', alpha=0.1)\n",
    "\n",
    "plt.tight_layout()\n",
    " \n",
    "ax.set_ylim(0.,15.)\n",
    "#ax.set_xlim(TMIN,TMAX)\n",
    "\n",
    "figname =f\"{pathfigs}/pwvholoM2_allpoints_allnights_modulo1year\"+figtype\n",
    "plt.savefig(figname)\n",
    "plt.show()"
   ]
  },
  {
   "cell_type": "code",
   "execution_count": null,
   "id": "295e2871-ee2d-419f-af80-f298ae36786d",
   "metadata": {},
   "outputs": [],
   "source": [
    "df_spec.DEC*u.deg"
   ]
  },
  {
   "cell_type": "code",
   "execution_count": null,
   "id": "92237101-1116-42e6-b859-242c52842161",
   "metadata": {},
   "outputs": [],
   "source": [
    "df_spec.RA"
   ]
  },
  {
   "cell_type": "markdown",
   "id": "53a5e8cd-51f5-4d34-875a-2c93a90fbf21",
   "metadata": {},
   "source": [
    "## Plot night by night"
   ]
  },
  {
   "cell_type": "code",
   "execution_count": null,
   "id": "c37844d9-5689-4fdf-8bb0-41afcfeeea61",
   "metadata": {},
   "outputs": [],
   "source": [
    "def ComputeRepeatability(df):\n",
    "    \"\"\"\n",
    "    Compute Repeatability of PWV for Spectrogram and and Spectrum\n",
    "    \n",
    "    \"\"\"\n",
    "    N = len(df)\n",
    "    dfout = pd.DataFrame(index=df.index,columns = [\"nightObs\",\"dt\",\"dt_rep\",\"dPWVx_rep\",\"dPWVy_rep\",\"targflag_rep\",\"Npoints\"])\n",
    "    dfout[\"targflag_rep\"].astype(bool)\n",
    "    #dfout[\"Npoints\"].astype(int)\n",
    "    \n",
    "    target_old = \"No\"\n",
    "    time_old = 0.\n",
    "    pwvx_old = 0.\n",
    "    pwvy_old = 0.\n",
    "    \n",
    "    for index in range(N):\n",
    "        \n",
    "        nightObs =  df.iloc[index][\"nightObs\"]\n",
    "        \n",
    "        if index ==0:\n",
    "            dt0 = df.iloc[index][\"dt\"]\n",
    "            dfout.iloc[index] = [ nightObs,dt0, 0., 0., 0., False,N]\n",
    "        else:\n",
    "            target_new = df.iloc[index][\"TARGET\"]\n",
    "            time_new = df.iloc[index][\"dt\"]\n",
    "            pwvx_new = df.iloc[index][\"PWV [mm]_x\"]\n",
    "            pwvy_new = df.iloc[index][\"PWV [mm]_y\"]\n",
    "            \n",
    "            flag_target = (target_new == target_old)\n",
    "            dPWVx_rep = pwvx_new - pwvx_old\n",
    "            dPWVy_rep = pwvy_new - pwvy_old\n",
    "            dt_rep = (time_new-time_old)*3600. # in seconds\n",
    "            \n",
    "            dfout.iloc[index] = [ nightObs,time_new, dt_rep, dPWVx_rep, dPWVy_rep, flag_target,N]\n",
    "        \n",
    "        target_old = df.iloc[index][\"TARGET\"]\n",
    "        time_old = df.iloc[index][\"dt\"]\n",
    "        pwvx_old = df.iloc[index][\"PWV [mm]_x\"]\n",
    "        pwvy_old = df.iloc[index][\"PWV [mm]_y\"]\n",
    "        \n",
    "    return dfout"
   ]
  },
  {
   "cell_type": "code",
   "execution_count": null,
   "id": "22093a32-df7a-4177-ad33-e5c1611fe1fb",
   "metadata": {},
   "outputs": [],
   "source": [
    "all_selected_nights = df_spec_sel[\"nightObs\"].unique()"
   ]
  },
  {
   "cell_type": "markdown",
   "id": "0766a319-9fb6-41d2-94cf-0a065cda2b1a",
   "metadata": {},
   "source": [
    "## Fits gaussien et lineaires"
   ]
  },
  {
   "cell_type": "code",
   "execution_count": null,
   "id": "d355d92c-a45d-4b2d-a130-4469337acfe0",
   "metadata": {},
   "outputs": [],
   "source": [
    "def funclineres(params, x, y, yerr):\n",
    "    # Return residual = fit-observed\n",
    "    return (y-params[0] -params[1]*x)/yerr\n",
    "def funcline(params,x):\n",
    "    return params[0] + params[1]*x"
   ]
  },
  {
   "cell_type": "code",
   "execution_count": null,
   "id": "01b3bcad-f3ae-4cb1-8619-35f152b94551",
   "metadata": {},
   "outputs": [],
   "source": [
    "def MakeLineFit(df_night_pwv_curve):\n",
    "    \"\"\"\n",
    "    \"\"\"\n",
    "\n",
    "    x = df_night_pwv_curve[\"dt_midnight\"].values\n",
    "    y = df_night_pwv_curve[\"PWV [mm]_x\"].values\n",
    "    yerr = df_night_pwv_curve[\"PWV [mm]_err_x\"].values\n",
    "    n = len(y)\n",
    "        \n",
    "    #popt, pcov = optimize.curve_fit(f, x, y, [1,-4])\n",
    "    fit_res = least_squares(funclineres,[5.,0],args = (x,y,yerr))\n",
    "    popt = fit_res.x \n",
    "    npar = len(popt)\n",
    "    J = fit_res.jac\n",
    "    cov = np.linalg.inv(J.T.dot(J))\n",
    "    chi2dof = ((funclineres(popt,x,y,yerr))**2).sum()/(n-npar)\n",
    "    cov *= chi2dof\n",
    "    perr = np.sqrt(np.diagonal(cov)) \n",
    "    \n",
    "    xfit = np.linspace(x.min()*0.99,x.max()*1.05)\n",
    "    yfit = funcline(popt,xfit)\n",
    "        \n",
    "    slope = popt[1]\n",
    "    slope_err = perr[1]\n",
    "\n",
    "    return x,y,yerr,n,chi2dof,xfit,yfit,slope,slope_err"
   ]
  },
  {
   "cell_type": "code",
   "execution_count": null,
   "id": "dd7e71f3-6405-4a9d-84a4-0560f0a8e34f",
   "metadata": {},
   "outputs": [],
   "source": [
    "#\n",
    "# Gaussian Process regression\n",
    "# https://scikit-learn.org/1.5/auto_examples/gaussian_process/plot_gpr_noisy_targets.html\n",
    "from sklearn.gaussian_process import GaussianProcessRegressor\n",
    "from sklearn.gaussian_process.kernels import RBF"
   ]
  },
  {
   "cell_type": "code",
   "execution_count": null,
   "id": "a575d2cf-0c37-4e58-b351-eaf193360a9f",
   "metadata": {},
   "outputs": [],
   "source": [
    "def MakeGaussianProcessFit(df_night_pwv_curve):\n",
    "    \"\"\"\n",
    "    \"\"\"\n",
    "\n",
    "    x_train = df_night_pwv_curve[\"dt_midnight\"].values\n",
    "    xmin =  x_train.min()\n",
    "    xmax = x_train.max()\n",
    "    xfit = np.linspace(xmin,xmax,50)\n",
    "    X_fit =xfit.reshape(-1,1)\n",
    "    X_train = x_train.reshape(-1, 1)\n",
    "    \n",
    "    y_train = df_night_pwv_curve[\"PWV [mm]_x\"].values\n",
    "    y_mean = y_train.mean()\n",
    "    yerr_train = df_night_pwv_curve[\"PWV [mm]_err_x\"].values\n",
    "    n = len(y_train)\n",
    "\n",
    "    noise_std= 0.5\n",
    "    \n",
    "    kernel = 1. * RBF(length_scale=5.0, length_scale_bounds=(0.5, 12.))\n",
    "    gaussian_process = GaussianProcessRegressor(kernel=kernel,alpha=noise_std**2 ,n_restarts_optimizer=9)\n",
    "    \n",
    "    gaussian_process.fit(X_train, y_train)\n",
    "\n",
    "    mean_prediction, std_prediction = gaussian_process.predict(X_fit, return_std=True)\n",
    "    return xfit, mean_prediction, std_prediction, gaussian_process"
   ]
  },
  {
   "cell_type": "code",
   "execution_count": null,
   "id": "985ed841-edd7-4187-b6e8-1fb419beb46d",
   "metadata": {},
   "outputs": [],
   "source": [
    "from sklearn.pipeline import make_pipeline\n",
    "from sklearn.preprocessing import PolynomialFeatures, StandardScaler\n",
    "# https://scikit-learn.org/1.5/auto_examples/linear_model/plot_ard.html\n",
    "from sklearn.linear_model import ARDRegression,BayesianRidge"
   ]
  },
  {
   "cell_type": "code",
   "execution_count": null,
   "id": "e02741ac-94de-47e4-9d60-5027379ca791",
   "metadata": {},
   "outputs": [],
   "source": [
    "POLY_DEGREE_MAX = 10"
   ]
  },
  {
   "cell_type": "code",
   "execution_count": null,
   "id": "a3e22a78-872e-43cd-b549-72f586a068f7",
   "metadata": {},
   "outputs": [],
   "source": [
    "def MakeLinearModelFit(df_night_pwv_curve,degree_max = POLY_DEGREE_MAX ):\n",
    "    \"\"\"\n",
    "    https://scikit-learn.org/1.5/auto_examples/linear_model/plot_ard.html\n",
    "    ARDRegression and BayesianRidge\n",
    "    \"\"\"\n",
    "\n",
    "    x_train = df_night_pwv_curve[\"dt_midnight\"].values\n",
    "    xmin =  x_train.min()\n",
    "    xmax = x_train.max()\n",
    "    xfit = np.linspace(xmin,xmax,50)\n",
    "    X_fit =xfit.reshape(-1,1)\n",
    "    X_train = x_train.reshape(-1, 1)\n",
    "    \n",
    "    y_train = df_night_pwv_curve[\"PWV [mm]_x\"].values\n",
    "    y_mean = y_train.mean()\n",
    "    yerr_train = df_night_pwv_curve[\"PWV [mm]_err_x\"].values\n",
    "    n = len(y_train)\n",
    "\n",
    "    ard_poly = make_pipeline(\n",
    "    PolynomialFeatures(degree=degree_max, include_bias=False),StandardScaler(),ARDRegression(),).fit(X_train, y_train)\n",
    "    \n",
    "    brr_poly = make_pipeline(\n",
    "    PolynomialFeatures(degree=degree_max, include_bias=False),StandardScaler(),BayesianRidge(),).fit(X_train, y_train)\n",
    "\n",
    "    y_ard, y_ard_std = ard_poly.predict(X_fit, return_std=True)\n",
    "    y_brr, y_brr_std = brr_poly.predict(X_fit, return_std=True)\n",
    "\n",
    "    y_ard_pred = ard_poly.predict(X_train,return_std=False)\n",
    "    resy = y_train - y_ard_pred\n",
    "    \n",
    "    return xfit,y_ard, y_ard_std, y_brr, y_brr_std, resy, y_mean"
   ]
  },
  {
   "cell_type": "code",
   "execution_count": null,
   "id": "f86663f2-d194-4513-a80f-77a14e9a7a47",
   "metadata": {},
   "outputs": [],
   "source": [
    "# Container of images that all goes in a pdf\n",
    "all_figs_to_pdf = []"
   ]
  },
  {
   "cell_type": "code",
   "execution_count": null,
   "id": "23e66ab2-c1cc-46ac-9f49-a8d6cdc9a0a2",
   "metadata": {},
   "outputs": [],
   "source": [
    "all_dateObs_sel = {}\n",
    "\n",
    "# loop on nights\n",
    "for night in all_selected_nights:\n",
    "    #select the night\n",
    "    # Choose the kind of observation\n",
    "    df_spec_night = df_spec_sel[df_spec_sel[\"nightObs\"] == night]\n",
    "    df_spec_night_wp = df_spec_wp[df_spec_wp[\"nightObs\"] == night]\n",
    "    df_spec_night_np = df_spec_np[df_spec_np[\"nightObs\"] == night]\n",
    "    df_spec_night_np_f = df_spec_np_f[df_spec_np_f[\"nightObs\"] == night]\n",
    "    df_spec_night_np_b = df_spec_np_b[df_spec_np_b[\"nightObs\"] == night]\n",
    "    \n",
    "    #select the variables\n",
    "    df_night_pwv_curve = df_spec_night[[\"Time\",\"PWV [mm]_x\",\"PWV [mm]_err_x\",\"PWV [mm]_y\",\"PWV [mm]_err_y\",\"dt_midnight\",\"AIRMASS\",\"TARGET\"]]\n",
    "    df_night_pwv_curve_wp = df_spec_night_wp[[\"Time\",\"PWV [mm]_x\",\"PWV [mm]_err_x\",\"PWV [mm]_y\",\"PWV [mm]_err_y\",\"dt_midnight\",\"AIRMASS\",\"TARGET\"]]\n",
    "    df_night_pwv_curve_np_b = df_spec_night_np_b[[\"Time\",\"PWV [mm]_x\",\"PWV [mm]_err_x\",\"PWV [mm]_y\",\"PWV [mm]_err_y\",\"dt_midnight\",\"AIRMASS\",\"TARGET\"]]\n",
    "    df_night_pwv_curve_np_f = df_spec_night_np_f[[\"Time\",\"PWV [mm]_x\",\"PWV [mm]_err_x\",\"PWV [mm]_y\",\"PWV [mm]_err_y\",\"dt_midnight\",\"AIRMASS\",\"TARGET\"]]\n",
    "    df_night_pwv_curve_np = df_spec_night_np[[\"Time\",\"PWV [mm]_x\",\"PWV [mm]_err_x\",\"PWV [mm]_y\",\"PWV [mm]_err_y\",\"dt_midnight\",\"AIRMASS\",\"TARGET\"]]\n",
    "\n",
    "    tmin = df_night_pwv_curve[\"Time\"].min()\n",
    "    tmax = df_night_pwv_curve[\"Time\"].max()\n",
    "\n",
    "    list_of_targets = df_night_pwv_curve[\"TARGET\"].unique()\n",
    "    str_list_of_targets = \"\\n\".join(list_of_targets)\n",
    "     \n",
    "    # convert in hours\n",
    "    df_night_pwv_curve[\"dt\"] = (df_night_pwv_curve[\"Time\"] - tmin).dt.total_seconds()/3600.\n",
    "    df_night_pwv_curve_wp[\"dt\"] = (df_night_pwv_curve_wp[\"Time\"] - tmin).dt.total_seconds()/3600.\n",
    "    df_night_pwv_curve_np[\"dt\"] = (df_night_pwv_curve_np[\"Time\"] - tmin).dt.total_seconds()/3600.\n",
    "    df_night_pwv_curve_np_f[\"dt\"] = (df_night_pwv_curve_np_f[\"Time\"] - tmin).dt.total_seconds()/3600.\n",
    "    df_night_pwv_curve_np_b[\"dt\"] = (df_night_pwv_curve_np_b[\"Time\"] - tmin).dt.total_seconds()/3600.\n",
    "    \n",
    "    # extract statistics on pwv\n",
    "    stat = df_night_pwv_curve[[\"PWV [mm]_x\"]].describe()\n",
    "    date_form = DateFormatter(\"%y-%m-%dT%H:%M\")\n",
    "    #date_form = DateFormatter(\"%y-%m-%dT%H\")\n",
    "    count = int(stat.loc[\"count\"].values[0])\n",
    "    mean = stat.loc[\"mean\"].values[0]\n",
    "    median = stat.loc[\"50%\"].values[0]\n",
    "    std = stat.loc[\"std\"].values[0]\n",
    "    textstr = \"\\n\".join((f\"count : {count}\",\n",
    "                     f\"mean : {mean:.1f} mm\",\n",
    "                     f\"median : {median:.1f} mm\",\n",
    "                     f\"std : {std:.1f} mm\",\n",
    "                    ))\n",
    "\n",
    "\n",
    "    N= len(df_night_pwv_curve)\n",
    "\n",
    "    if N>10:\n",
    "\n",
    "        if 0:\n",
    "        \n",
    "            # does the fit\n",
    "        \n",
    "            #x,y,yerr,n,chi2dof,xfit,yfit,slope,slope_err = MakeLineFit(df_night_pwv_curve)\n",
    "            \n",
    "            xfit, mean_prediction, std_prediction, gp = MakeGaussianProcessFit(df_night_pwv_curve)\n",
    "            xfit2, y_ard, y_ard_std, y_brr, y_brr_std, resy, y_mean = MakeLinearModelFit(df_night_pwv_curve)\n",
    "        \n",
    "       \n",
    "    \n",
    "        \n",
    "            # plot\n",
    "\n",
    "            #layout=\"constrained\"\n",
    "            fig = plt.figure(figsize=(16,4),constrained_layout=True)\n",
    "            gs = GridSpec(1, 2,  width_ratios=[1,1],figure=fig)\n",
    "    \n",
    "            ax = fig.add_subplot(gs[0])\n",
    "            ax2 = fig.add_subplot(gs[1])\n",
    "        \n",
    "            leg=ax.get_legend()\n",
    "            leg2=ax2.get_legend()\n",
    "      \n",
    "        \n",
    "            ################################\n",
    "            # left figure : Gaussian Process\n",
    "            ################################\n",
    "        \n",
    "            ax.errorbar(x=df_night_pwv_curve.dt_midnight, y=df_night_pwv_curve[\"PWV [mm]_x\"],yerr=df_night_pwv_curve[\"PWV [mm]_err_x\"],fmt=\"+\",color=\"r\",ecolor=\"k\",ms=1)\n",
    "            df_night_pwv_curve_wp.plot(x=\"dt_midnight\",y=\"PWV [mm]_x\",c=\"cyan\",ax=ax,marker='o',lw=0.0,grid=True,legend=leg2,label=\"polar\",ms=6,alpha=1)\n",
    "            df_night_pwv_curve_np_b.plot(x=\"dt_midnight\",y=\"PWV [mm]_x\",c=\"r\",ax=ax,marker='o',lw=0.0,grid=True,legend=leg2,label=\"bright, no polar\",ms=6,alpha=1)\n",
    "            df_night_pwv_curve_np_f.plot(x=\"dt_midnight\",y=\"PWV [mm]_x\",c=\"g\",ax=ax,marker='o',lw=0.0,grid=True,legend=leg2,label=\"faint, no polar\",ms=6,alpha=1)\n",
    "\n",
    "            # fit result\n",
    "            ax.plot(xfit, mean_prediction,\"b-\",lw=3,label=\"Gaussian Process (RBF)\")\n",
    "            ax.fill_between(xfit,mean_prediction - 1.96 * std_prediction,mean_prediction + 1.96 * std_prediction,alpha=0.3,label=r\"95% CL\",facecolor='grey')\n",
    "        \n",
    "            ax.set_xlabel(\"hours\")\n",
    "            ax.set_ylim(0.,15.)\n",
    "            ax.legend(loc=\"upper right\")\n",
    "        \n",
    "            ax.set_title(f\"GP fit for night {night}\")\n",
    "            ax.axvline(x=0,color=\"k\",lw=2)\n",
    "\n",
    "\n",
    "            ############################\n",
    "            # right figure : linear fits\n",
    "            ############################\n",
    "            ax2.errorbar(x=df_night_pwv_curve.dt_midnight, y=df_night_pwv_curve[\"PWV [mm]_x\"],yerr=df_night_pwv_curve[\"PWV [mm]_err_x\"],fmt=\"+\",color=\"r\",ecolor=\"k\",ms=1)\n",
    "            df_night_pwv_curve_wp.plot(x=\"dt_midnight\",y=\"PWV [mm]_x\",c=\"cyan\",ax=ax2,marker='o',lw=0.0,grid=True,legend=leg2,label=\"polar\",ms=6,alpha=1)\n",
    "            df_night_pwv_curve_np_b.plot(x=\"dt_midnight\",y=\"PWV [mm]_x\",c=\"r\",ax=ax2,marker='o',lw=0.0,grid=True,legend=leg2,label=\"bright, no polar\",ms=6,alpha=1)\n",
    "            df_night_pwv_curve_np_f.plot(x=\"dt_midnight\",y=\"PWV [mm]_x\",c=\"g\",ax=ax2,marker='o',lw=0.0,grid=True,legend=leg2,label=\"faint, no polar\",ms=6,alpha=1)\n",
    "\n",
    "\n",
    "            ax2.plot(xfit2, y_ard,\"g-\",lw=3,label=\"ARDRegression\")\n",
    "            ax2.fill_between(xfit2, y_ard - 1.96 * y_ard_std,y_ard + 1.96 * y_ard_std,alpha=0.3,label=r\"95% CL\",facecolor='green')\n",
    "\n",
    "        \n",
    "\n",
    "        \n",
    "            ax2.set_title(f\"Linear fit for night {night}\")\n",
    "            ax2.set_xlabel(\"hours\")\n",
    "            ax2.set_ylim(0.,15.)\n",
    "            ax2.legend()\n",
    "            ax2.axvline(x=0,color=\"k\",lw=2)\n",
    "        \n",
    "        \n",
    "\n",
    "        \n",
    "\n",
    "            figname =f\"{pathfigs}/gp_ard_pwv_per_night_{night}\"+figtype\n",
    "            plt.savefig(figname)\n",
    "            plt.show()\n",
    "\n",
    "        # add statistics\n",
    "        all_dateObs_sel[night] = stat\n",
    "        "
   ]
  },
  {
   "cell_type": "markdown",
   "id": "0ce4e223-40a9-4eea-ab18-5185210262e0",
   "metadata": {},
   "source": [
    "## PWV difference and Time difference"
   ]
  },
  {
   "cell_type": "code",
   "execution_count": null,
   "id": "37077a4e-d838-484a-bd57-9ce273db186a",
   "metadata": {},
   "outputs": [],
   "source": [
    "def ComputePWVAndTimeDiffence(df):\n",
    "    \"\"\"\n",
    "\n",
    "    For each night return a number of quanitites related to pair differences.\n",
    "    The pairs are ordered bi increaing time (t2>t1)\n",
    "\n",
    "    Return \n",
    "        all_DPWV = [] # Difference in PWV for the pair (PWV2-PWV1)\n",
    "        all_DT = []   # Difference  in time for the pair (t2-t1) which is > 0\n",
    "        all_pwvpwv = []  # Product of (PW1 -meanPWV)(PWV2 - meanPWV) where the meanPWV is taken over the night \n",
    "        all_PWVpairs = [] # (Keep the values of PWV1,PWV2)\n",
    "\n",
    "    \"\"\"\n",
    "\n",
    "\n",
    "    all_DPWV = [] # Difference in PWV for the pair (PWV2-PWV1)\n",
    "    all_DT = []   # Difference  in time for the pair (t2-t1) which is > 0\n",
    "    all_pwvpwv = []  # Product of (PW1 -meanPWV)(PWV2 - meanPWV) where the meanPWV is taken over the night \n",
    "    all_PWVpairs = [] # (Keep the values of PWV1,PWV2)\n",
    "    \n",
    "    \n",
    "    N = len(df)\n",
    "\n",
    "    meanPWV = df.describe().loc[\"mean\"][\"PWV [mm]_x\"] \n",
    "        \n",
    "    for row1 in df.iterrows(): \n",
    "        t1 = row1[1][\"dt\"]\n",
    "        PWV1 = row1[1][\"PWV [mm]_x\"]\n",
    "        pwv1 = PWV1 - meanPWV\n",
    "        for row2 in df.iterrows(): \n",
    "            t2 = row2[1][\"dt\"]\n",
    "            PWV2 = row2[1][\"PWV [mm]_x\"]\n",
    "            pwv2 = PWV2 - meanPWV\n",
    "            Delta_t = t2-t1\n",
    "            Delta_pwv = PWV2-PWV1\n",
    "            pwv1pwv2 = pwv1*pwv2\n",
    "            if  Delta_t>0:\n",
    "                all_DPWV.append(Delta_pwv)\n",
    "                all_DT.append(Delta_t)\n",
    "                all_pwvpwv.append(pwv1pwv2)\n",
    "                all_PWVpairs.append([PWV1,PWV2])\n",
    "    return np.array(all_DT), np.array(all_DPWV), np.array(all_pwvpwv),np.array(all_PWVpairs) "
   ]
  },
  {
   "cell_type": "code",
   "execution_count": null,
   "id": "345f4c60-1f56-408c-ae62-9027c3142d22",
   "metadata": {},
   "outputs": [],
   "source": [
    "from astropy.coordinates import angular_separation\n",
    "from astropy.coordinates import Angle\n",
    "# https://docs.astropy.org/en/latest/api/astropy.coordinates.angular_separation.html\n",
    "#(lon1, lat1, lon2, lat2)\n",
    "u.degree"
   ]
  },
  {
   "cell_type": "code",
   "execution_count": null,
   "id": "18465159-3028-4c0f-8209-2f30ece1598c",
   "metadata": {},
   "outputs": [],
   "source": [
    "def ComputePWVAndTimeAndSepDiffence(df):\n",
    "    \"\"\"\n",
    "    For each night return a number of quanitites related to pair differences.\n",
    "    The pairs are ordered bi increaing time (t2>t1)\n",
    "\n",
    "    Return \n",
    "        all_DPWV = [] # Difference in PWV for the pair (PWV2-PWV1)\n",
    "        all_DT = []   # Difference  in time for the pair (t2-t1) which is > 0\n",
    "        all_pwvpwv = []  # Product of (PW1 -meanPWV)(PWV2 - meanPWV) where the meanPWV is taken over the night \n",
    "        all_sep = []  # Angular separation between the pairs \n",
    "        all_PWVpairs = [] # (Keep the values of PWV1,PWV2)\n",
    "    \"\"\"\n",
    "    all_DPWV = [] # Difference in PWV for the pair (PWV2-PWV1)\n",
    "    all_DT = []   # Difference  in time for the pair (t2-t1) which is > 0\n",
    "    all_pwvpwv = []  # Product of (PW1 -meanPWV)(PWV2 - meanPWV) where the meanPWV is taken over the night \n",
    "    all_sep = []  # Angular separation btween the pairs \n",
    "    all_PWVpairs = [] # (Keep the values of PWV1,PWV2)\n",
    "    \n",
    "    N = len(df)\n",
    "\n",
    "    meanPWV = df.describe().loc[\"mean\"][\"PWV [mm]_x\"] \n",
    "\n",
    "    # loop on first element\n",
    "    for row1 in df.iterrows(): \n",
    "        t1 = row1[1][\"dt\"]\n",
    "        PWV1 = row1[1][\"PWV [mm]_x\"]\n",
    "        pwv1 = PWV1 - meanPWV\n",
    "        ra1 = Angle(row1[1][\"RA\"],u.degree)\n",
    "        dec1 = Angle(row1[1][\"DEC\"],u.degree)\n",
    "\n",
    "        # loop on second element\n",
    "        for row2 in df.iterrows(): \n",
    "            t2 = row2[1][\"dt\"]\n",
    "            ra2 = Angle(row2[1][\"RA\"],u.degree)\n",
    "            dec2 = Angle(row2[1][\"DEC\"],u.degree)\n",
    "            PWV2 = row2[1][\"PWV [mm]_x\"]\n",
    "            pwv2 = PWV2 - meanPWV\n",
    "            Delta_t = t2-t1\n",
    "            Delta_pwv = PWV2-PWV1\n",
    "            pwv1pwv2 = pwv1*pwv2\n",
    "            sep = Angle(angular_separation(ra1.radian,dec1.radian,ra2.radian,dec2.radian),u.radian).degree\n",
    "            if  Delta_t>= -0.000001:\n",
    "                all_DPWV.append(Delta_pwv)\n",
    "                all_DT.append(Delta_t)\n",
    "                all_pwvpwv.append(pwv1pwv2)\n",
    "                all_sep.append(sep)\n",
    "                all_PWVpairs.append([PWV1,PWV2])\n",
    "    return np.array(all_DT), np.array(all_DPWV), np.array(all_pwvpwv), np.array(all_sep),np.array(all_PWVpairs) "
   ]
  },
  {
   "cell_type": "code",
   "execution_count": null,
   "id": "256752e4-29a9-4e2b-9371-199675ec3ee3",
   "metadata": {},
   "outputs": [],
   "source": [
    "df_night_pwv_curve"
   ]
  },
  {
   "cell_type": "code",
   "execution_count": null,
   "id": "692e5209-b662-4a12-9453-62a6753e5f19",
   "metadata": {},
   "outputs": [],
   "source": [
    "df_night_pwv_curve.describe()"
   ]
  },
  {
   "cell_type": "code",
   "execution_count": null,
   "id": "fd2ca24c-3f2f-48a9-a9f8-6ddf44fc545c",
   "metadata": {},
   "outputs": [],
   "source": [
    "df_night_pwv_curve.describe().loc[\"mean\"][\"PWV [mm]_x\"] "
   ]
  },
  {
   "cell_type": "code",
   "execution_count": null,
   "id": "fd42dad5-58a5-4d2f-9698-71770f6211c6",
   "metadata": {},
   "outputs": [],
   "source": [
    "sigma_repeatability = 0.26"
   ]
  },
  {
   "cell_type": "markdown",
   "id": "7252d231-eead-42f2-a6ec-02807f84d600",
   "metadata": {},
   "source": [
    "## Plot the time behaviour"
   ]
  },
  {
   "cell_type": "code",
   "execution_count": null,
   "id": "08c615d1-c632-4df9-acb0-f571c1424743",
   "metadata": {},
   "outputs": [],
   "source": [
    "# container of all quantities\n",
    "all_sigmapwv = []\n",
    "all_meanpwv = []\n",
    "all_TimeDifferences = [] # t2-t1\n",
    "all_PWVDifferences = [] # PWV2-PWV1\n",
    "all_PWVProducts = [] # pwvi x pwvj\n",
    "all_nights_forpairs = []\n",
    "all_AngularSep = []\n",
    "all_PWVPairs = [] # (pwv1,pwv2)\n",
    "all_pwvvalues_overallnights = []\n",
    "\n",
    "\n",
    "# loop on nights\n",
    "for night in all_selected_nights:\n",
    "    #select the night\n",
    "    # Choose the kind of observation\n",
    "    df_spec_night = df_spec_sel[df_spec_sel[\"nightObs\"] == night]\n",
    "    df_spec_night_wp = df_spec_wp[df_spec_wp[\"nightObs\"] == night]\n",
    "    df_spec_night_np = df_spec_np[df_spec_np[\"nightObs\"] == night]\n",
    "    df_spec_night_np_f = df_spec_np_f[df_spec_np_f[\"nightObs\"] == night]\n",
    "    df_spec_night_np_b = df_spec_np_b[df_spec_np_b[\"nightObs\"] == night]\n",
    "    \n",
    "    #select the variables\n",
    "    df_night_pwv_curve = df_spec_night[[\"Time\",\"PWV [mm]_x\",\"PWV [mm]_err_x\",\"PWV [mm]_y\",\"PWV [mm]_err_y\",\"dt_midnight\",\"AIRMASS\",\"TARGET\",\"RA\",\"DEC\"]]\n",
    "    df_night_pwv_curve_wp = df_spec_night_wp[[\"Time\",\"PWV [mm]_x\",\"PWV [mm]_err_x\",\"PWV [mm]_y\",\"PWV [mm]_err_y\",\"dt_midnight\",\"AIRMASS\",\"TARGET\",\"RA\",\"DEC\"]]\n",
    "    df_night_pwv_curve_np_b = df_spec_night_np_b[[\"Time\",\"PWV [mm]_x\",\"PWV [mm]_err_x\",\"PWV [mm]_y\",\"PWV [mm]_err_y\",\"dt_midnight\",\"AIRMASS\",\"TARGET\",\"RA\",\"DEC\"]]\n",
    "    df_night_pwv_curve_np_f = df_spec_night_np_f[[\"Time\",\"PWV [mm]_x\",\"PWV [mm]_err_x\",\"PWV [mm]_y\",\"PWV [mm]_err_y\",\"dt_midnight\",\"AIRMASS\",\"TARGET\",\"RA\",\"DEC\"]]\n",
    "    df_night_pwv_curve_np = df_spec_night_np[[\"Time\",\"PWV [mm]_x\",\"PWV [mm]_err_x\",\"PWV [mm]_y\",\"PWV [mm]_err_y\",\"dt_midnight\",\"AIRMASS\",\"TARGET\",\"RA\",\"DEC\"]]\n",
    "\n",
    "    tmin = df_night_pwv_curve[\"Time\"].min()\n",
    "    tmax = df_night_pwv_curve[\"Time\"].max()\n",
    "\n",
    "    list_of_targets = df_night_pwv_curve[\"TARGET\"].unique()\n",
    "    str_list_of_targets = \"\\n\".join(list_of_targets)\n",
    "    str_list_of_targets = \"\\n\".join([\"targets:\",str_list_of_targets])\n",
    "     \n",
    "\n",
    "    # convert in hours\n",
    "    df_night_pwv_curve[\"dt\"] = (df_night_pwv_curve[\"Time\"] - tmin).dt.total_seconds()/3600.\n",
    "    df_night_pwv_curve_wp[\"dt\"] = (df_night_pwv_curve_wp[\"Time\"] - tmin).dt.total_seconds()/3600.\n",
    "    df_night_pwv_curve_np[\"dt\"] = (df_night_pwv_curve_np[\"Time\"] - tmin).dt.total_seconds()/3600.\n",
    "    df_night_pwv_curve_np_f[\"dt\"] = (df_night_pwv_curve_np_f[\"Time\"] - tmin).dt.total_seconds()/3600.\n",
    "    df_night_pwv_curve_np_b[\"dt\"] = (df_night_pwv_curve_np_b[\"Time\"] - tmin).dt.total_seconds()/3600.\n",
    "    \n",
    "    # extract statistics on pwv\n",
    "    stat = df_night_pwv_curve[[\"PWV [mm]_x\"]].describe()\n",
    "    date_form = DateFormatter(\"%y-%m-%dT%H:%M\")\n",
    "    #date_form = DateFormatter(\"%y-%m-%dT%H\")\n",
    "    count = int(stat.loc[\"count\"].values[0])\n",
    "    mean = stat.loc[\"mean\"].values[0]\n",
    "    median = stat.loc[\"50%\"].values[0]\n",
    "    std = stat.loc[\"std\"].values[0]\n",
    "    textstr = \"\\n\".join((f\"count : {count}\",\n",
    "                     f\"mean : {mean:.1f} mm\",\n",
    "                     f\"median : {median:.1f} mm\",\n",
    "                     f\"std : {std:.1f} mm\",\n",
    "                    ))\n",
    "\n",
    "\n",
    "    N= len(df_night_pwv_curve)\n",
    "    \n",
    "    count_goodnight =0\n",
    "    \n",
    "    if N>10:\n",
    "        # does the fit\n",
    "        \n",
    "        #x,y,yerr,n,chi2dof,xfit,yfit,slope,slope_err = MakeLineFit(df_night_pwv_curve)\n",
    "        xfit, y_ard, y_ard_std, y_brr, y_brr_std, resy, y_mean = MakeLinearModelFit(df_night_pwv_curve)\n",
    "        #all_dt,all_dpwv,all_pwvpwv = ComputePWVAndTimeDiffence(df_night_pwv_curve)\n",
    "\n",
    "        ## Compute statistics for pairs\n",
    "        all_dt,all_dpwv,all_pwvpwv,all_sep , all_pwv1pwv2 = ComputePWVAndTimeAndSepDiffence(df_night_pwv_curve)\n",
    "\n",
    "\n",
    "        \n",
    "        # Sigma of the night : residuals not the sigma of the night\n",
    "        sigma_of_the_night = np.std(resy)\n",
    "\n",
    "        \n",
    "\n",
    "\n",
    "        all_nights_forpairs.append(night)\n",
    "        \n",
    "        # Fill t,pwv\n",
    "        all_TimeDifferences.append(all_dt)\n",
    "        all_PWVDifferences.append(all_dpwv)\n",
    "        all_PWVProducts.append(all_pwvpwv)\n",
    "        all_AngularSep.append(all_sep)\n",
    "        all_PWVPairs.append(all_pwv1pwv2)\n",
    "\n",
    "        # To compute later the mean and sigma over all nights\n",
    "        all_pwvvalues_overallnights.append(df_night_pwv_curve[\"PWV [mm]_x\"].values)\n",
    "            \n",
    "        #mean and std of the night\n",
    "        all_meanpwv.append(y_mean)\n",
    "        #all_sigmapwv.append(sigma_of_the_night)\n",
    "        all_sigmapwv.append(df_night_pwv_curve[\"PWV [mm]_x\"].std(ddof=0))\n",
    "\n",
    "        if  night  == 20231221 :\n",
    "            df_keep = df_night_pwv_curve\n",
    "        \n",
    "        count_goodnight +=1\n",
    "        \n",
    "        #textstr2 = \"\\n\".join((f\"d(PWV/dt) : \",\n",
    "        #             f\"slope : {slope:.3f} mm/h\",\n",
    "        #             f\"slope err : {slope_err:.3f} mm/h\",\n",
    "        #             f\"chi2/ndeg : {chi2dof:.2f}\",       \n",
    "        #            ))\n",
    "\n",
    "        #textstr3 = \"\\n\".join((f\"d(PWV/dt) : \",\n",
    "        #             f\"slope : {slope:.3f} mm/h\",\n",
    "        #             f\"slope err : {slope_err:.3f} mm/h\",  \n",
    "        #            ))\n",
    "    \n",
    "\n",
    "        #stat.loc[\"slope\",\"PWV [mm]_x\"] = slope \n",
    "        #stat.loc[\"slope_err\",\"PWV [mm]_x\"] = slope_err \n",
    "        #stat.loc[\"chi2\",\"PWV [mm]_x\"] = chi2dof\n",
    "\n",
    "        ##########\n",
    "        # plot\n",
    "        ############\n",
    "        \n",
    "\n",
    "        fig = plt.figure(figsize=(18,4),constrained_layout=True)\n",
    "        gs = GridSpec(1, 3,  width_ratios=[2,1,1],figure=fig)\n",
    "    \n",
    "        ax = fig.add_subplot(gs[0])\n",
    "        ax2 = fig.add_subplot(gs[1])\n",
    "        ax3 = fig.add_subplot(gs[2])\n",
    "        \n",
    "        leg=ax.get_legend()\n",
    "        leg2=ax2.get_legend()\n",
    "        leg3=ax3.get_legend()\n",
    "        \n",
    "        ax.errorbar(x=df_night_pwv_curve.dt_midnight, y=df_night_pwv_curve[\"PWV [mm]_x\"],yerr=df_night_pwv_curve[\"PWV [mm]_err_x\"],fmt=\"+\",color=\"r\",ecolor=\"k\",label=\"stat err\",ms=1)\n",
    "        df_night_pwv_curve_wp.plot(x=\"dt_midnight\",y=\"PWV [mm]_x\",c=\"cyan\",ax=ax,marker='o',lw=0.0,grid=True,legend=leg,label=\"polar\",ms=6,alpha=1)\n",
    "        df_night_pwv_curve_np_b.plot(x=\"dt_midnight\",y=\"PWV [mm]_x\",c=\"r\",ax=ax,marker='o',lw=0.0,grid=True,legend=leg,label=\"bright, no polar\",ms=6,alpha=1)\n",
    "        df_night_pwv_curve_np_f.plot(x=\"dt_midnight\",y=\"PWV [mm]_x\",c=\"g\",ax=ax,marker='o',lw=0.0,grid=True,legend=leg,label=\"faint, no polar\",ms=6,alpha=1)\n",
    "        ax.set_xlabel(\"hours since midnight\")\n",
    "        ax.set_ylim(0.,15.)\n",
    "        ax.set_ylabel(\"PWV (mm)\")\n",
    "        ax.legend(loc=\"upper right\")\n",
    "\n",
    "        ax.plot(xfit, y_ard,\"g-\",lw=3,label=\"ARDRegression\")\n",
    "        ax.fill_between(xfit, y_ard - 1.96 * y_ard_std,y_ard + 1.96 * y_ard_std,alpha=0.3,label=r\"95% CL\",facecolor='green')\n",
    "\n",
    "        #ax.plot(xfit2, y_brr,\"r-\",label=\"BayesianRidge\")\n",
    "        #ax.fill_between(xfit2, y_brr - 1.96 * y_brr_std,y_brr + 1.96 * y_brr_std,alpha=0.5,label=r\"95% CL\",facecolor='red')\n",
    "      \n",
    "       \n",
    "        ax.text(0.8, 0.5, str_list_of_targets, transform=ax.transAxes, fontsize=12,verticalalignment='top', bbox=props,alpha=0.5)\n",
    "        ax.set_title(f\"night {night}\")\n",
    "        ax.axvline(x=0,color=\"k\",lw=2)\n",
    "\n",
    "\n",
    "        inset_ax = inset_axes(ax,width=\"20%\", # width = 30% of parent_bbox\n",
    "                                          height=\"40%\", # height : 1 inch\n",
    "                                          loc=\"upper left\")\n",
    "        \n",
    "        textstr_sigma = f\"$\\sigma = $\" +f\"{sigma_of_the_night:.2f} mm\"\n",
    "        inset_ax.hist(resy,bins=30,facecolor=\"b\")\n",
    "        inset_ax.set_xlabel(\"residuals (mm)\")\n",
    "        inset_ax.text(0.1, 0.9, textstr_sigma , transform=inset_ax.transAxes, fontsize=8,verticalalignment='top', bbox=props,alpha=1)\n",
    "\n",
    "\n",
    "\n",
    "        ax2.scatter(all_dt,np.abs(all_dpwv),marker=\"o\",c=\"b\",s=20,alpha=.5)\n",
    "        ax2.set_xlabel(\"$\\Delta t$ (hours)\")\n",
    "        ax2.set_ylabel(\"$|\\Delta PWV |$ (mm)\")\n",
    "        ax2.grid()\n",
    "        ax2.set_title(\"PWV difference and time difference\")\n",
    "        #ax2.axhspan(0, 2*sigma_repeatability, facecolor=\"grey\", alpha=0.8,label=\"95 CL PWV repeatability\")\n",
    "        ax2.set_xscale(\"log\")\n",
    "        ax2.legend()\n",
    "\n",
    "        ax3.scatter(all_dt,all_pwvpwv/sigma_repeatability**2,marker=\"o\",c=\"r\",s=20,alpha=.5)\n",
    "        ax3.set_xlabel(\"$\\Delta t$ (hours)\")\n",
    "        ax3.set_ylabel(\"$ dpwv1 \\cdot dpwv2/\\sigma^2$\")\n",
    "        ax3.grid()\n",
    "        ax3.set_title(\"$ dpwv1 \\cdot dpwv2/\\sigma^2 \\; vs\\; \\delta t$\")\n",
    "        #ax2.axhspan(0, 2*sigma_repeatability, facecolor=\"grey\", alpha=0.8,label=\"95 CL PWV repeatability\")\n",
    "        ax3.set_xscale(\"log\")\n",
    "        ax3.legend()\n",
    "\n",
    "\n",
    "        \n",
    "        all_figs_to_pdf.append(fig) \n",
    "        \n",
    "        plt.tight_layout()\n",
    "        figname =f\"{pathfigs}/pwvtimecorrelation_per_night_{night}\"+figtype\n",
    "        plt.savefig(figname)\n",
    "        plt.show()\n"
   ]
  },
  {
   "cell_type": "code",
   "execution_count": null,
   "id": "952fbe12-2b04-4378-b497-fd0f06071c81",
   "metadata": {},
   "outputs": [],
   "source": [
    "df_keep[\"PWV [mm]_x\"].sum()"
   ]
  },
  {
   "cell_type": "code",
   "execution_count": null,
   "id": "93e1c613-5190-4c71-80bc-28374a362ada",
   "metadata": {},
   "outputs": [],
   "source": [
    "df_keep.describe()"
   ]
  },
  {
   "cell_type": "code",
   "execution_count": null,
   "id": "5890974c-18ce-486f-b89a-3886dfc2b0c3",
   "metadata": {},
   "outputs": [],
   "source": [
    "#all_PWVDifferences"
   ]
  },
  {
   "cell_type": "code",
   "execution_count": null,
   "id": "b1064566-2b11-4ff0-b6f8-dcf780d43d34",
   "metadata": {},
   "outputs": [],
   "source": [
    "#all_AngularSep "
   ]
  },
  {
   "cell_type": "markdown",
   "id": "76feaa44-40e9-4fa5-86fe-34aad03dddee",
   "metadata": {},
   "source": [
    "## Make a pandas dataframe with all time and pwv differences"
   ]
  },
  {
   "cell_type": "code",
   "execution_count": null,
   "id": "29bceea0-0e11-4b0e-a09b-3c6f25a31ea2",
   "metadata": {},
   "outputs": [],
   "source": [
    "#can use \n",
    "#all_PWVPairs = [] # (pwv1,pwv2)\n",
    "#all_pwvvalues_overallnights = []"
   ]
  },
  {
   "cell_type": "code",
   "execution_count": null,
   "id": "f4bd6a9d-e4c6-4bec-844c-01c46a7ea987",
   "metadata": {},
   "outputs": [],
   "source": [
    "all_pwvvalues_overallnights = np.concatenate(all_pwvvalues_overallnights)"
   ]
  },
  {
   "cell_type": "code",
   "execution_count": null,
   "id": "7a9cce29-5fec-420a-86e3-1fee092d67e0",
   "metadata": {},
   "outputs": [],
   "source": [
    "meanPWV = all_pwvvalues_overallnights.mean()\n",
    "sigmaPWV = all_pwvvalues_overallnights.std()\n",
    "medianPWV = np.median(all_pwvvalues_overallnights)\n",
    "\n",
    "print(meanPWV,sigmaPWV,medianPWV)"
   ]
  },
  {
   "cell_type": "code",
   "execution_count": null,
   "id": "59736843-793a-41bb-a053-185ad3e71e59",
   "metadata": {},
   "outputs": [],
   "source": [
    "plt.hist(all_pwvvalues_overallnights,bins=50,histtype=\"step\")\n",
    "plt.axvline(meanPWV,color=\"r\")\n",
    "plt.axvline(medianPWV,color=\"g\")"
   ]
  },
  {
   "cell_type": "markdown",
   "id": "90206709-93b2-4ca2-9678-e20c6d7b23d1",
   "metadata": {},
   "source": [
    "#### Generate the dataframe of pairs"
   ]
  },
  {
   "cell_type": "code",
   "execution_count": null,
   "id": "d76959df-4813-4c8f-b756-b6f4a70ec583",
   "metadata": {},
   "outputs": [],
   "source": [
    "# loop on nights\n",
    "df_pairs = pd.DataFrame(columns = [\"idxnight\",\"idxpair\",\"nightobs\",\"meanpwv\",\"sigmapwv\",\"dt\",\"dPwv\",\"PwvixPwvj\",\"sep\",\"PWV1\",\"PWV2\",\"pwv1\",\"pwv2\",\"pwv1xpwv2\"])\n",
    "ientry = 0\n",
    "\n",
    "for idxnight, night in enumerate(all_nights_forpairs):\n",
    "    the_sigmapwv = all_sigmapwv[idxnight]\n",
    "    the_meanpwv = all_meanpwv[idxnight]\n",
    "    the_TimeDifferences = all_TimeDifferences[idxnight]\n",
    "    the_PWVDifferences = all_PWVDifferences[idxnight]\n",
    "    the_PWVProducts = all_PWVProducts[idxnight]\n",
    "    the_Separations = all_AngularSep[idxnight] \n",
    "    the_PWV1PWV2  =  all_PWVPairs[idxnight]\n",
    "\n",
    "    Npairs = len(the_TimeDifferences)\n",
    "\n",
    "    # loop on pairs \n",
    "    for idxpair in range(Npairs):\n",
    "        PWV1 = the_PWV1PWV2[idxpair][0]\n",
    "        PWV2 = the_PWV1PWV2[idxpair][1]\n",
    "        pwv1 = PWV1 - meanPWV\n",
    "        pwv2 = PWV2 - meanPWV\n",
    "        df_pairs.loc[ientry] = [idxnight,idxpair, night,the_meanpwv , the_sigmapwv, the_TimeDifferences[idxpair], the_PWVDifferences[idxpair], the_PWVProducts[idxpair], the_Separations[idxpair],PWV1,PWV2,pwv1,pwv2, pwv1*pwv2  ]\n",
    "        ientry+=1"
   ]
  },
  {
   "cell_type": "code",
   "execution_count": null,
   "id": "bfbd29f1-573e-4815-8570-d13791f401f5",
   "metadata": {},
   "outputs": [],
   "source": [
    "df_pairs[\"abs_dPwv\"] = df_pairs[\"dPwv\"].abs()"
   ]
  },
  {
   "cell_type": "code",
   "execution_count": null,
   "id": "026d9449-82ff-4a35-8c33-0ba9aa0fc292",
   "metadata": {},
   "outputs": [],
   "source": [
    "df_pairs = df_pairs.astype({\"idxnight\":\"int\",\"idxpair\":\"int\",\"nightobs\":\"int\"})"
   ]
  },
  {
   "cell_type": "code",
   "execution_count": null,
   "id": "98ae8a58-03de-46c3-ace0-061d1bc9e1df",
   "metadata": {},
   "outputs": [],
   "source": [
    "df_pairs"
   ]
  },
  {
   "cell_type": "markdown",
   "id": "706532ae-63da-432f-8011-be4f11901fbb",
   "metadata": {},
   "source": [
    "### Handle the pandas dataframe "
   ]
  },
  {
   "cell_type": "code",
   "execution_count": null,
   "id": "8bbb6053-707a-486f-81a6-c9b4b43f722d",
   "metadata": {},
   "outputs": [],
   "source": [
    "def print_groups(gdf): \n",
    "    count = 0\n",
    "    all_groups = []\n",
    "    for name, g in gdf: \n",
    "        print(name)\n",
    "        print('\\n'+ str(name)) \n",
    "        print(g)\n",
    "        count +=1\n",
    "        if count >=2:\n",
    "            break\n",
    "        all_groups.append(g)\n",
    "    return all_groups"
   ]
  },
  {
   "cell_type": "code",
   "execution_count": null,
   "id": "8eb37cf7-9c41-4942-88af-ad84c03e7ecc",
   "metadata": {},
   "outputs": [],
   "source": [
    "gdf = df_pairs.groupby(by=\"idxnight\")"
   ]
  },
  {
   "cell_type": "code",
   "execution_count": null,
   "id": "7f763602-c789-4642-b5e5-b4c1c0e9db43",
   "metadata": {},
   "outputs": [],
   "source": [
    "#for g in gdf:\n",
    "#    print(g)\n",
    "#    break;"
   ]
  },
  {
   "cell_type": "code",
   "execution_count": null,
   "id": "1cea20c1-c0e2-498c-bf09-60b69a0774fb",
   "metadata": {},
   "outputs": [],
   "source": [
    "all_gdf = print_groups(gdf)"
   ]
  },
  {
   "cell_type": "code",
   "execution_count": null,
   "id": "dd0aa14f-be8e-4855-8247-be7829bfb087",
   "metadata": {},
   "outputs": [],
   "source": [
    "all_gdf[0]"
   ]
  },
  {
   "cell_type": "markdown",
   "id": "3d2a537c-b149-431f-883f-c731ef8fd152",
   "metadata": {},
   "source": [
    "### Ckeck Visually the pandas dataframe for pairs is done correctly"
   ]
  },
  {
   "cell_type": "code",
   "execution_count": null,
   "id": "e1ded0f0-5ffd-4865-a522-d91d3acb7441",
   "metadata": {},
   "outputs": [],
   "source": [
    "fig,axs = plt.subplots(5,1,figsize=(14,8),layout=\"constrained\")\n",
    "\n",
    "ax = axs.flatten()\n",
    "\n",
    "df_pairs.plot.scatter(x=\"idxnight\", y=\"meanpwv\",ax=ax[0])\n",
    "ax[0].axhline(meanPWV,color=\"r\") \n",
    "df_pairs.plot.scatter(x=\"idxnight\", y=\"sigmapwv\",ax=ax[1])\n",
    "ax[1].axhline(sigma_repeatability,color=\"r\") \n",
    "df_pairs.plot.scatter(x=\"idxnight\", y=\"dPwv\",ax=ax[2])\n",
    "ax[2].axhline(0,color=\"r\") \n",
    "df_pairs.plot.scatter(x=\"idxnight\", y=\"PwvixPwvj\",ax=ax[3])\n",
    "ax[3].axhline(0,color=\"r\") \n",
    "df_pairs.plot.scatter(x=\"idxnight\", y=\"pwv1xpwv2\",ax=ax[4])\n",
    "ax[4].axhline(0,color=\"r\") "
   ]
  },
  {
   "cell_type": "markdown",
   "id": "0011d152-68db-4485-89df-00f9e695b006",
   "metadata": {},
   "source": [
    "### Time separation of pairs : Linear binning in time"
   ]
  },
  {
   "cell_type": "code",
   "execution_count": null,
   "id": "8e8e3f48-e09d-4060-8e84-eedc28c85c98",
   "metadata": {},
   "outputs": [],
   "source": [
    "fig,ax = plt.subplots(1,1,figsize=(6,4))\n",
    "df_pairs[\"dt\"].hist(bins=50,ax=ax)\n",
    "ax.set_yscale(\"log\")\n",
    "ax.set_xlabel(\"separation time (hour)\")\n",
    "ax.set_title(\"Pairs time separation during a night\")"
   ]
  },
  {
   "cell_type": "code",
   "execution_count": null,
   "id": "6dd9af87-50c5-44db-8968-d3c347a9bd8e",
   "metadata": {},
   "outputs": [],
   "source": [
    "fig,ax = plt.subplots(1,1,figsize=(16,4))\n",
    "df_pairs[\"dt\"].hist(bins=100,range=(0,0.2),ax=ax)\n",
    "#ax.set_yscale(\"log\")\n",
    "ax.set_xlabel(\"separation time (hour)\")\n",
    "ax.set_title(\"Pairs time separation during a night\")\n",
    "ax.axvline(0.024,color=\"r\",label=\"dt < 1.4 min\")\n",
    "ax.axvline(30./3600,color=\"green\",label=\"dt> 30 sec\")\n",
    "ax.axvline(0.016,color='k')\n",
    "ax.legend()"
   ]
  },
  {
   "cell_type": "markdown",
   "id": "13240304-91a0-4058-9233-ed290c263781",
   "metadata": {},
   "source": [
    "First bin is between 30 seconds up to 1.4 minutes"
   ]
  },
  {
   "cell_type": "code",
   "execution_count": null,
   "id": "95ebad31-2078-455a-8fa9-9bf19122fe4e",
   "metadata": {},
   "outputs": [],
   "source": [
    "print(\"pairs up at \",0.024*60,\"minutes\")\n",
    "print(\"pairs up at \",1.4/60.,\"hours\", np.log10(1.4/60.))\n",
    "print(\"pairs lower bound at\",30/3600.,\"hours\",np.log10(30/3600.))\n",
    "print(\"separation of two bins \",np.mean([30./3600,0.024]))"
   ]
  },
  {
   "cell_type": "markdown",
   "id": "31c11ccf-be9b-4524-bd1c-ef339316dfe6",
   "metadata": {},
   "source": [
    "### Time separation of pairs : Log binning in time"
   ]
  },
  {
   "cell_type": "code",
   "execution_count": null,
   "id": "d0c4af80-9624-4e4a-8db7-d5ad2e583d94",
   "metadata": {},
   "outputs": [],
   "source": [
    "logbins  = np.logspace(-1.6320232147054057,1,50)\n",
    "\n",
    "fig,ax = plt.subplots(1,1,figsize=(6,4))\n",
    "ax.hist(df_pairs[\"dt\"].values,bins=logbins,histtype=\"step\",color=\"b\",lw=3)\n",
    "ax.hist(df_pairs[\"dt\"].values,bins=3,range=(0.00 ,0.02333333333333333),color=\"r\")\n",
    "#df_pairs[\"dt\"].hist(bins=logbins ,ax=ax)\n",
    "ax.set_xlabel(\"separation time (hour)\")\n",
    "ax.set_title(\"Pairs time separation during a night\")\n",
    "ax.set_yscale(\"log\")\n",
    "ax.set_xscale(\"log\")"
   ]
  },
  {
   "cell_type": "code",
   "execution_count": null,
   "id": "ce8a9517-d069-4edb-92b2-2d1821ddb1fb",
   "metadata": {},
   "outputs": [],
   "source": [
    "# make all bins after the closeby pairs\n",
    "logbins  = np.logspace(-1.6320232147054057,1,50)\n",
    "# Insert the two first bins\n",
    "logbins  = np.insert(logbins , 0, 0.016166666666666666 , axis=0)\n",
    "logbins  = np.insert(logbins , 0, 0.008333333333333333 , axis=0)\n",
    "logbins  = np.insert(logbins , 0, 0.0 , axis=0)\n",
    "fig,ax = plt.subplots(1,1,figsize=(6,4))\n",
    "ax.hist(df_pairs[\"dt\"].values,bins=logbins,histtype=\"step\",color=\"b\",lw=3)\n",
    "#ax.hist(df_pairs[\"dt\"].values,bins=2,range=(0.008333333333333333 ,0.02333333333333333),color=\"r\")\n",
    "#df_pairs[\"dt\"].hist(bins=logbins ,ax=ax)\n",
    "ax.set_xlabel(\"separation time (hour)\")\n",
    "ax.set_title(\"Pairs time separation during a night\")\n",
    "ax.set_yscale(\"log\")\n",
    "ax.set_xscale(\"log\")\n",
    "\n"
   ]
  },
  {
   "cell_type": "code",
   "execution_count": null,
   "id": "16190d6d-d44c-4b64-b4c8-b7f9ec9e9189",
   "metadata": {},
   "outputs": [],
   "source": [
    "fig,(ax1,ax2) = plt.subplots(1,2,figsize=(14,4),layout=\"constrained\")\n",
    "df_pairs[\"pwv1xpwv2\"].hist(bins=50,ax=ax1)\n",
    "ax1.set_yscale(\"log\")\n",
    "ax1.set_xlabel(\"pwv1 x pwv2 \")\n",
    "ax1.set_title(\"pwv1 pwv2 product in pairs (average over all night)\")\n",
    "\n",
    "df_pairs[\"PwvixPwvj\"].hist(bins=50,ax=ax2)\n",
    "ax2.set_yscale(\"log\")\n",
    "ax2.set_xlabel(\"Pwvi x Pwvj\")\n",
    "ax2.set_title(\"pwvi x pwvj product in pairs (average per night)\")"
   ]
  },
  {
   "cell_type": "code",
   "execution_count": null,
   "id": "8542c683-75e0-40a0-bd46-baca843e0d8e",
   "metadata": {},
   "outputs": [],
   "source": [
    "fig,ax = plt.subplots(1,1,figsize=(6,4))\n",
    "\n",
    "df_pairs[\"PWV1\"].hist(bins=50,ax=ax,histtype=\"step\",label=\"PWV1\",color=\"b\")\n",
    "df_pairs[\"PWV2\"].hist(bins=50,ax=ax,histtype=\"step\",label=\"PWV2\",color=\"r\")\n",
    "ax.legend()\n",
    "ax.set_xlabel(\"PWV (mm)\")\n",
    "ax.set_title(\"Precipitable water vapor\")"
   ]
  },
  {
   "cell_type": "code",
   "execution_count": null,
   "id": "6624ecb1-71a3-41be-b035-7fde4496198b",
   "metadata": {},
   "outputs": [],
   "source": [
    "fig,(ax,ax2) = plt.subplots(1,2,figsize=(16,8))\n",
    "#ax.legend()\n",
    "leg = ax.get_legend()\n",
    "\n",
    "\n",
    "df_pairs.plot.scatter(x=\"pwv1\",y=\"pwv2\",ax=ax,marker='+',grid=True,alpha=0.8)\n",
    "handles, labels = ax.get_legend_handles_labels()\n",
    "\n",
    "dfa = df_pairs[df_pairs[\"dt\"]<0.1]\n",
    "dfa.plot.scatter(x=\"pwv1\",y=\"pwv2\",ax=ax,marker='+',color=\"red\")\n",
    "\n",
    "dfb = df_pairs[df_pairs[\"dt\"]>5.0]\n",
    "dfb.plot.scatter(x=\"pwv1\",y=\"pwv2\",ax=ax,marker='+',color=\"yellow\", label=\"dt>5 hours\")\n",
    "ax.set_aspect('equal')\n",
    "ax.set_xlabel(\"pwv1 (mm)\")\n",
    "ax.set_ylabel(\"pwv2 (mm)\")\n",
    "ax.legend()\n",
    "\n",
    "\n",
    "dfc_x = df_pairs[\"PWV1\"]- df_pairs[\"meanpwv\"]\n",
    "dfc_y = df_pairs[\"PWV2\"]- df_pairs[\"meanpwv\"]\n",
    "xxx = dfc_x.values\n",
    "yyy = dfc_y.values\n",
    "\n",
    "\n",
    "dfd = df_pairs[df_pairs[\"dt\"]< 0.1]\n",
    "xxx1 = (dfd[\"PWV1\"]- dfd[\"meanpwv\"]).values\n",
    "yyy1 = (dfd[\"PWV1\"]- dfd[\"meanpwv\"]).values\n",
    "\n",
    "dfe = df_pairs[df_pairs[\"dt\"]> 1.0]\n",
    "xxx2 = (dfe[\"PWV1\"]- dfe[\"meanpwv\"]).values\n",
    "yyy2 = (dfe[\"PWV2\"]- dfe[\"meanpwv\"]).values\n",
    "\n",
    "\n",
    "ax2.scatter(xxx,yyy,marker='+',color=\"b\",alpha=0.8)\n",
    "ax2.scatter(xxx1,yyy1,marker='+',color=\"r\",alpha=0.8)\n",
    "ax2.scatter(xxx2,yyy2,marker='+',color=\"yellow\",alpha=0.8)\n",
    "ax2.set_aspect(\"equal\")"
   ]
  },
  {
   "cell_type": "code",
   "execution_count": null,
   "id": "33f8f3e9-bba5-4d20-93bf-bc2208e89842",
   "metadata": {},
   "outputs": [],
   "source": [
    "df_pairs.head()"
   ]
  },
  {
   "cell_type": "code",
   "execution_count": null,
   "id": "5579feb5-d21d-40cd-96dc-09e09a7dbbcf",
   "metadata": {},
   "outputs": [],
   "source": [
    "# example of grouby\n",
    "allg = df_pairs.groupby(by=\"idxnight\")"
   ]
  },
  {
   "cell_type": "code",
   "execution_count": null,
   "id": "e82caca3-d11b-4077-b8b2-400d3094bd97",
   "metadata": {},
   "outputs": [],
   "source": [
    "# loop on groups (data from one night) from groupby\n",
    "for name,g in allg:\n",
    "    break"
   ]
  },
  {
   "cell_type": "code",
   "execution_count": null,
   "id": "2c61628b-d425-4a2d-a042-d65232901d87",
   "metadata": {},
   "outputs": [],
   "source": [
    "# show one example of group\n",
    "g"
   ]
  },
  {
   "cell_type": "code",
   "execution_count": null,
   "id": "e6ae4173-3321-43e1-9ffc-55089f594a25",
   "metadata": {},
   "outputs": [],
   "source": [
    "# example of how to compute aggregate functions from a group\n",
    "(g[\"PwvixPwvj\"]/g[\"sigmapwv\"]**2).aggregate(['count','mean','std'])"
   ]
  },
  {
   "cell_type": "code",
   "execution_count": null,
   "id": "b7a4f945-f589-4ec0-a2a2-4e3c56d74a08",
   "metadata": {},
   "outputs": [],
   "source": [
    "def retrieve_timebin(ibin,df,list_of_bins):\n",
    "    \"\"\"\n",
    "    Return the data used to compute a time bin\n",
    "\n",
    "    Parameters\n",
    "     df : dataframe contraining\n",
    "     list_of_bins : array contining the edges of timebin separation\n",
    "     ibin : the selected \n",
    "    Return\n",
    "     \n",
    "    \"\"\"\n",
    "\n",
    "    Nbins = len(logbins)\n",
    "\n",
    "    xcenter = (logbins[0:-1]+ logbins[1:])/2.\n",
    "    N = len(xcenter)\n",
    "    ydata = np.zeros(N)\n",
    "    ydataerr = np.zeros(N)\n",
    "\n",
    "    # select all pairs in the timebin ibin\n",
    "    cut = (df[\"dt\"] >= list_of_bins[ibin]) & (df[\"dt\"] < list_of_bins[ibin+1])\n",
    "    df_sel = df[cut]\n",
    "\n",
    "    return df_sel"
   ]
  },
  {
   "cell_type": "code",
   "execution_count": null,
   "id": "745b3c25-1778-4aeb-8cbe-6278d15cd216",
   "metadata": {},
   "outputs": [],
   "source": [
    "def ComputeMyDCF_PwvixPwvj(df,list_of_bins):\n",
    "    \"\"\"\n",
    "    Compute my average Discrete Covariance Function\n",
    "    mean,sigma : per night\n",
    "    Note : the good function\n",
    "    Parameters\n",
    "     df : dataframe containing the data : (dt, pwv1 x pwv2)\n",
    "     list_of_bins : array contining the edges of timebin separation\n",
    "    Return\n",
    "     xcenter,ydata,ydataerr for the auto correlation function\n",
    "    \"\"\"\n",
    "    Nbins = len(logbins)\n",
    "\n",
    "    xcenter = (logbins[0:-1]+ logbins[1:])/2.\n",
    "    N = len(xcenter)\n",
    "    ydata = np.zeros(N)\n",
    "    ydataerr = np.zeros(N)\n",
    "\n",
    "    # loop on time-bins\n",
    "    for ibin in range(Nbins-1):\n",
    "\n",
    "        # select all pairs in the timebin ibin\n",
    "        cut = (df[\"dt\"] >= list_of_bins[ibin]) & (df[\"dt\"] < list_of_bins[ibin+1])\n",
    "        df_sel = df[cut]\n",
    "        \n",
    "        # now group pairs per night\n",
    "        gdf = df_sel.groupby(by=\"idxnight\")\n",
    "\n",
    "        # will fill the values per night \n",
    "        all_yinthatbin = []\n",
    "        all_sigyinthatbin = []\n",
    "        all_nyinthatbin = []\n",
    "\n",
    "        # loop over each night for the selected time bin \n",
    "        for gname,g in gdf:\n",
    "            ng = len(g)\n",
    "            # only if not empty\n",
    "            if ng>0:\n",
    "                the_count,the_mean,the_std = (g[\"PwvixPwvj\"]/g[\"sigmapwv\"]**2).aggregate(['count','mean','std'])\n",
    "                all_yinthatbin.append(the_mean)\n",
    "                all_sigyinthatbin.append(the_std)\n",
    "                all_nyinthatbin.append(the_count)\n",
    "        # now stacking for each night in that time-bin is finished    \n",
    "            \n",
    "        # calculate the average over all night in that timebin\n",
    "        n = len(all_yinthatbin)\n",
    "        ydata[ibin] =  np.mean(all_yinthatbin)\n",
    "        ydataerr[ibin] = np.std(all_yinthatbin)\n",
    "        if n>0:\n",
    "            ydataerr[ibin] /= np.sqrt(n)\n",
    "            \n",
    "          \n",
    "    return xcenter,ydata,ydataerr"
   ]
  },
  {
   "cell_type": "code",
   "execution_count": null,
   "id": "01736d0b-c236-4223-bf72-cf5a6bd85851",
   "metadata": {},
   "outputs": [],
   "source": [
    "def ComputeMyDCF_pwv1xpwv2(df,list_of_bins):\n",
    "    \"\"\"\n",
    "    Compute my Discrete Covariance Function\n",
    "    mean,sigma : all nights\n",
    "    Note a bad function \n",
    "    Parameters\n",
    "     df : dataframe containing the data : (dt, pwv1 x pwv2)\n",
    "     list_of_bins : array contining the edges of timebin separation\n",
    "    Return\n",
    "     xcenter,ydata,ydataerr for the auto correlation function\n",
    "    \"\"\"\n",
    "    Nbins = len(logbins)\n",
    "\n",
    "    xcenter = (logbins[0:-1]+ logbins[1:])/2.\n",
    "    N = len(xcenter)\n",
    "    ydata = np.zeros(N)\n",
    "    ydataerr = np.zeros(N)\n",
    "\n",
    "    for ibin in range(Nbins-1):\n",
    "        cut = (df[\"dt\"] >= list_of_bins[ibin]) & (df[\"dt\"] < list_of_bins[ibin+1])\n",
    "        df_sel = df[cut]\n",
    "        n = len(df_sel)\n",
    "        ydata[ibin] = df_sel[\"pwv1xpwv2\"].mean()\n",
    "        ydataerr[ibin] = df_sel[\"pwv1xpwv2\"].std()\n",
    "        if n>0:\n",
    "            ydataerr[ibin] /= np.sqrt(n)\n",
    "            \n",
    "        ydata[ibin] /= sigmaPWV**2\n",
    "        ydataerr[ibin] /= sigmaPWV**2\n",
    "    \n",
    "    return xcenter,ydata,ydataerr"
   ]
  },
  {
   "cell_type": "code",
   "execution_count": null,
   "id": "a7fad22f-7aba-42ae-b6cb-407cb3175a29",
   "metadata": {},
   "outputs": [],
   "source": [
    "# Only one bin for close pairs\n",
    "#logbins  = np.logspace(-1.5,0.8,40)\n",
    "#logbins  = np.logspace(-1.6320232147054057,0.8,40)\n",
    "#logbins  = np.insert(logbins , 0, 0.008333333333333333 , axis=0)\n",
    "\n",
    "# make all bins after the closeby pairs\n",
    "logbins  = np.logspace(-1.6320232147054057,1,20)\n",
    "# Insert the three first bins\n",
    "logbins  = np.insert(logbins , 0, 0.016166666666666666 , axis=0)\n",
    "logbins  = np.insert(logbins , 0, 0.008333333333333333 , axis=0)\n",
    "logbins  = np.insert(logbins , 0, 0.000000 , axis=0)\n",
    "\n",
    "\n",
    "tt1,yy1,yyerr1 =  ComputeMyDCF_pwv1xpwv2(df_pairs,list_of_bins = logbins)\n",
    "tt2,yy2,yyerr2 = ComputeMyDCF_PwvixPwvj(df_pairs,list_of_bins = logbins)\n",
    "\n",
    "logbins_tmin =  tt1.min()*60\n",
    "logbins_tmax =  tt1.max()\n",
    "txtstr = \"\\n\".join([f\"tmin = {logbins_tmin:.1f} min\", f\"tmax = {logbins_tmax:.1f} hour\"]) "
   ]
  },
  {
   "cell_type": "code",
   "execution_count": null,
   "id": "fce172e5-de21-4e95-ae8e-8a7e3b70a050",
   "metadata": {},
   "outputs": [],
   "source": [
    "NB = 10\n",
    "palette = sns.color_palette(\"Spectral\",NB)"
   ]
  },
  {
   "cell_type": "code",
   "execution_count": null,
   "id": "5ed7bcbf-a461-4fb9-8635-a1ade8ee3ab4",
   "metadata": {},
   "outputs": [],
   "source": [
    "fig,ax = plt.subplots(1,1,figsize=(16,4))\n",
    "for ibin in range(NB):\n",
    "    dfg= retrieve_timebin(ibin,df_pairs,list_of_bins = logbins)\n",
    "    dfg['dt'].hist(bins=100,ax=ax,color=palette[ibin])\n",
    "ax.set_yscale(\"log\")\n",
    "ax.set_xscale(\"log\")"
   ]
  },
  {
   "cell_type": "code",
   "execution_count": null,
   "id": "c77834e0-0b54-44c4-902c-8dedea91d581",
   "metadata": {},
   "outputs": [],
   "source": [
    "fig,ax = plt.subplots(1,1,figsize=(16,4))\n",
    "ax.hist(df_pairs[\"dt\"].values,bins=logbins,histtype=\"step\",color=\"b\",lw=3)\n",
    "#ax.hist(df_pairs[\"dt\"].values,bins=2,range=(0.008333333333333333 ,0.02333333333333333),color=\"r\")\n",
    "#df_pairs[\"dt\"].hist(bins=logbins ,ax=ax)\n",
    "ax.set_xlabel(\"separation time (hour)\")\n",
    "ax.set_title(\"Pairs time separation during a night\")\n",
    "ax.set_yscale(\"log\")\n",
    "ax.set_xscale(\"log\")"
   ]
  },
  {
   "cell_type": "code",
   "execution_count": null,
   "id": "5cebda2a-015b-4df6-aa02-26eb835ba109",
   "metadata": {},
   "outputs": [],
   "source": [
    "fig,ax = plt.subplots(1,1,figsize=(10,6))\n",
    "#ax.plot(tt1,yy1,'o-b',label=\"method 1 : \\n $mean_{pwv},\\sigma_{pwv}$ all nights\")\n",
    "#ax.errorbar(tt1,yy1,yerr=yyerr1,c=\"grey\")\n",
    "\n",
    "ax.plot(tt2,yy2,'o-r',label=\"method 2 : \\n $mean_{pwv},\\sigma_{pwv}$ per night\")\n",
    "ax.errorbar(tt2,yy2,yerr=yyerr2,c=\"grey\")\n",
    "\n",
    "ax.legend()\n",
    "ax.text(0.8, 0.95, txtstr, transform=ax.transAxes, fontsize=12,verticalalignment='top', bbox=props,alpha=0.5)\n",
    "\n",
    "ax.set_title(\"Discrete Covariance Function (in log-time-bins)\")\n",
    "ax.set_xlabel(\"$\\Delta t$ (hours)\")\n",
    "ax.axhline(0,color=\"k\")\n",
    "plt.show()"
   ]
  },
  {
   "cell_type": "code",
   "execution_count": null,
   "id": "fdb18fbc-fe2e-454d-8d69-012cdf162d27",
   "metadata": {},
   "outputs": [],
   "source": [
    "fig,ax = plt.subplots(1,1,figsize=(10,6))\n",
    "\n",
    "#ax.plot(tt1,yy1,'o-b',label=\"method 1 : \\n $mean_{pwv},\\sigma_{pwv}$ all nights\")\n",
    "#ax.errorbar(tt1,yy1,yerr=yyerr1,c=\"grey\")\n",
    "\n",
    "ax.plot(tt2,yy2,'o-r',label=\"method 2 : \\n $mean_{pwv},\\sigma_{pwv}$ per night\")\n",
    "ax.errorbar(tt2,yy2,yerr=yyerr2,c=\"grey\")\n",
    "ax.set_xscale(\"log\")\n",
    "ax.legend()\n",
    "\n",
    "ax.text(0.8, 0.95, txtstr, transform=ax.transAxes, fontsize=12,verticalalignment='top', bbox=props,alpha=0.5)\n",
    "\n",
    "\n",
    "ax.set_title(\"Discrete Covariance Function (in log-time-bins)\")\n",
    "ax.set_xlabel(\"$\\Delta t$ (hours)\")\n",
    "ax.axhline(0,color=\"k\")\n",
    "plt.show()"
   ]
  },
  {
   "cell_type": "markdown",
   "id": "76738635-e316-484d-a1b2-fcfba29f4e0b",
   "metadata": {
    "execution": {
     "iopub.status.busy": "2025-02-05T13:16:16.428794Z",
     "iopub.status.idle": "2025-02-05T13:16:16.428966Z",
     "shell.execute_reply": "2025-02-05T13:16:16.428887Z",
     "shell.execute_reply.started": "2025-02-05T13:16:16.428879Z"
    }
   },
   "source": [
    "## Stat plot "
   ]
  },
  {
   "cell_type": "code",
   "execution_count": null,
   "id": "8debe1f0-07fa-40ef-bb19-29f6cd3a2812",
   "metadata": {},
   "outputs": [],
   "source": [
    "import seaborn as sns"
   ]
  },
  {
   "cell_type": "code",
   "execution_count": null,
   "id": "ad7e41f3-38c0-4959-8ebd-89ec67b8a237",
   "metadata": {},
   "outputs": [],
   "source": [
    "fig,ax = plt.subplots(1,1,figsize=(10,4))\n",
    "sns.violinplot(x=df_pairs[\"dt\"],color='cyan',ax=ax)\n",
    "ax.set_title(\"Observation pairs $\\Delta t$\")"
   ]
  },
  {
   "cell_type": "code",
   "execution_count": null,
   "id": "54529a8a-c08d-45e1-9008-bdc90daeb62e",
   "metadata": {},
   "outputs": [],
   "source": [
    "fig,ax = plt.subplots(1,1,figsize=(10,4))\n",
    "sns.violinplot(x=df_pairs[\"dPwv\"],color=\"r\",ax=ax)\n",
    "ax.set_title(\"Observation pairs PWV difference\")"
   ]
  },
  {
   "cell_type": "code",
   "execution_count": null,
   "id": "20c6aed6-58ad-4fd5-b65c-2f69d713aeb7",
   "metadata": {},
   "outputs": [],
   "source": [
    "fig,ax = plt.subplots(1,1,figsize=(10,4))\n",
    "sns.violinplot(x=df_pairs[\"sep\"],color=\"g\",ax=ax)\n",
    "ax.set_title(\"Observation pairs Angular separation\")"
   ]
  },
  {
   "cell_type": "code",
   "execution_count": null,
   "id": "43965a9a-9103-4862-8dbf-adec2d1d7420",
   "metadata": {},
   "outputs": [],
   "source": [
    "fig,ax = plt.subplots(1,1,figsize=(12,6))\n",
    "df_pairs.plot.scatter(x=\"sep\",y=\"abs_dPwv\",c=\"dt\",ax=ax,cmap=\"jet\")\n",
    "ax.set_title(\"dPWV variation vs angular separation for different time seperation\" )\n",
    "ax.set_ylabel(\"$|\\Delta PWV|$ (mm)\")\n",
    "ax.set_xlabel(\"Angular separation (degrees)\")\n",
    "#ax.set_zlabel(\"$\\Delta t$ (hours)\")"
   ]
  },
  {
   "cell_type": "code",
   "execution_count": null,
   "id": "69e6f472-bcc0-4bb9-87e1-0838d7a5f827",
   "metadata": {},
   "outputs": [],
   "source": [
    "fig,ax = plt.subplots(1,1,figsize=(12,6))\n",
    "df_pairs.plot.scatter(x=\"dt\",y=\"abs_dPwv\",c=\"sep\",ax=ax,cmap=\"jet\")\n",
    "ax.set_title(\"dPWV variation vs time seperation for different angular separation\" )\n",
    "ax.set_ylabel(\"$|\\Delta PWV|$ (mm)\")\n",
    "ax.set_xlabel(\"$\\Delta t$ (hours)\")"
   ]
  },
  {
   "cell_type": "code",
   "execution_count": null,
   "id": "131720a6-be2a-4edf-bba5-3362607953cb",
   "metadata": {},
   "outputs": [],
   "source": [
    "fig,ax = plt.subplots(1,1,figsize=(12,6))\n",
    "df_pairs.plot.scatter(x=\"dt\",y=\"sep\",c=\"abs_dPwv\",ax=ax,cmap=\"jet\")\n",
    "ax.set_title(\"Angular separation vs time seperation for different PWV differences\" )\n",
    "ax.set_ylabel(\"Angular separation (degrees)\")\n",
    "ax.set_xlabel(\"$\\Delta t$ (hours)\")"
   ]
  },
  {
   "cell_type": "markdown",
   "id": "3cfd74e9-3e33-4918-9e79-1c0000a171cd",
   "metadata": {},
   "source": [
    "### Generate time binning"
   ]
  },
  {
   "cell_type": "code",
   "execution_count": null,
   "id": "d8dcc575-9da2-49cf-a88c-866d4d6d480a",
   "metadata": {},
   "outputs": [],
   "source": [
    "MAXHOURTIMES = 7.0    # hours\n",
    "#TIMEBINWIDTHMIN = 10.0 # in minutes\n",
    "TIMEBINWIDTHMIN = 4.0 # in minutes\n",
    "NUMBEROFTIMEBINS = int(MAXHOURTIMES*60.0/TIMEBINWIDTHMIN)\n",
    "\n",
    "NUMBEROFTIMEBINS"
   ]
  },
  {
   "cell_type": "code",
   "execution_count": null,
   "id": "6715430c-9f55-407e-adac-fa29e7adaaa0",
   "metadata": {},
   "outputs": [],
   "source": [
    "bin_to_timehour = lambda ibin : ibin*TIMEBINWIDTHMIN/60.\n",
    "def time_to_bintime(thour,binwidth=TIMEBINWIDTHMIN):\n",
    "    \"\"\"\n",
    "    thour : time difference in hour\n",
    "    binwidth : width of the bin\n",
    "    \"\"\"\n",
    "    # convert time \n",
    "    minutes_bin  = (thour*60+(TIMEBINWIDTHMIN-1)) /binwidth \n",
    "    binnum = int(minutes_bin)\n",
    "    return pd.Series( data = [binnum, bin_to_timehour(binnum)],index = [\"binnum\",\"hourbin\"])"
   ]
  },
  {
   "cell_type": "code",
   "execution_count": null,
   "id": "61d42f6c-81e5-4fd9-a9c8-74d07a9a7f15",
   "metadata": {},
   "outputs": [],
   "source": [
    "#binwidth=TIMEBINWIDTHMIN\n",
    "#thour = 0.99/60.\n",
    "#minutes_bin  = (thour*60+3) /binwidth \n",
    "#binnum = int(minutes_bin)\n",
    "#print(minutes_bin,binnum )"
   ]
  },
  {
   "cell_type": "code",
   "execution_count": null,
   "id": "d7d0c563-55a5-4056-bde6-85cbc4a0f165",
   "metadata": {},
   "outputs": [],
   "source": [
    "df_pairs[\"dt\"].apply(time_to_bintime)"
   ]
  },
  {
   "cell_type": "code",
   "execution_count": null,
   "id": "1b055bc5-638a-48b4-9813-26f553865f3c",
   "metadata": {},
   "outputs": [],
   "source": [
    "meanPWV"
   ]
  },
  {
   "cell_type": "code",
   "execution_count": null,
   "id": "c580ba19-ecd0-4310-b245-e779273a12a9",
   "metadata": {},
   "outputs": [],
   "source": [
    "sigmaPWV"
   ]
  },
  {
   "cell_type": "code",
   "execution_count": null,
   "id": "42675ecc-b2ff-4599-b16e-2259df2116aa",
   "metadata": {},
   "outputs": [],
   "source": [
    "df_pairs"
   ]
  },
  {
   "cell_type": "code",
   "execution_count": null,
   "id": "718c7c5e-2be9-402f-aeea-dd1de3a463c0",
   "metadata": {},
   "outputs": [],
   "source": [
    "df_pairs[[\"binnum\",\"hour_bin\"]]= df_pairs[\"dt\"].apply(time_to_bintime)\n",
    "df_pairs = df_pairs.astype({\"binnum\":\"int\"})"
   ]
  },
  {
   "cell_type": "code",
   "execution_count": null,
   "id": "0061741d-6846-4bcb-88d9-008acb94f222",
   "metadata": {},
   "outputs": [],
   "source": [
    "df_pairs = df_pairs[df_pairs.binnum<NUMBEROFTIMEBINS]"
   ]
  },
  {
   "cell_type": "code",
   "execution_count": null,
   "id": "c5d6bc3f-f912-445b-a9b1-6ed776e7a71c",
   "metadata": {},
   "outputs": [],
   "source": [
    "df_pairs.describe()"
   ]
  },
  {
   "cell_type": "code",
   "execution_count": null,
   "id": "18485279-6c2d-443a-b977-a61acb721ea8",
   "metadata": {},
   "outputs": [],
   "source": [
    "fig,ax = plt.subplots(1,1,figsize=(6,6))\n",
    "df_pairs.plot(x=\"binnum\",y=\"hour_bin\",ax=ax,grid=True,color=\"b\")\n",
    "ax.set_ylabel(\"$\\Delta t$ (hour)\")"
   ]
  },
  {
   "cell_type": "code",
   "execution_count": null,
   "id": "c0e47124-25fe-437c-a5f9-f718401b3d33",
   "metadata": {},
   "outputs": [],
   "source": [
    "#df_pairs[\"abs_dPwv\"] = df_pairs[\"dPwv\"].abs()"
   ]
  },
  {
   "cell_type": "code",
   "execution_count": null,
   "id": "96639974-eaa3-4418-abe5-3907a28d1cec",
   "metadata": {},
   "outputs": [],
   "source": [
    "#df_pairs[[\"binnum\",\"hour_bin\"]]= df_pairs[\"dt\"].apply(time_to_bintime)\n",
    "#df_pairs = df_pairs.astype({\"binnum\":\"int\"})"
   ]
  },
  {
   "cell_type": "code",
   "execution_count": null,
   "id": "bd4ddc95-eb90-42ec-ac67-2844b08239e6",
   "metadata": {},
   "outputs": [],
   "source": [
    "df_pairs"
   ]
  },
  {
   "cell_type": "markdown",
   "id": "023d8a35-3b72-4a28-b07e-7c09693a91c8",
   "metadata": {},
   "source": [
    "### Number of entries per bin"
   ]
  },
  {
   "cell_type": "code",
   "execution_count": null,
   "id": "2fc6f56d-f774-4396-a4e2-1f429bf06ebe",
   "metadata": {},
   "outputs": [],
   "source": [
    "myseq = df_pairs.groupby([\"binnum\"]).size()\n",
    "fig,ax = plt.subplots(1,1,figsize=(15,5))\n",
    "myseq.plot(kind=\"bar\",ax=ax,facecolor=\"b\")\n",
    "ax.set_title(f\"Number of observation-pairs per time-bin = {TIMEBINWIDTHMIN} min/ {MAXHOURTIMES} hours\")\n",
    "ax.set_ylabel(\"count per bins\")"
   ]
  },
  {
   "cell_type": "code",
   "execution_count": null,
   "id": "9ef7cebc-9eaf-4db1-a6a9-21f9af532d72",
   "metadata": {},
   "outputs": [],
   "source": [
    "myseq.describe()"
   ]
  },
  {
   "cell_type": "markdown",
   "id": "8ef1dd52-e6f4-4b28-820c-788dc9587fa0",
   "metadata": {},
   "source": [
    "### Save files on pairs"
   ]
  },
  {
   "cell_type": "code",
   "execution_count": null,
   "id": "d3cd3163-f2d3-4b18-b76e-a5a065e754a0",
   "metadata": {},
   "outputs": [],
   "source": [
    "output_filename_pairs = f\"{pathdata}/pairs_tpwv_vs_dt_allconditions_{MAXHOURTIMES:.0f}H_{TIMEBINWIDTHMIN:.0f}.csv\"\n",
    "df_pairs.to_csv(output_filename_pairs)"
   ]
  },
  {
   "cell_type": "markdown",
   "id": "d0d68d33-7296-4fc9-865f-94c9bcba7a23",
   "metadata": {},
   "source": [
    "### home made profile plot"
   ]
  },
  {
   "cell_type": "code",
   "execution_count": null,
   "id": "6887e3f5-5c60-43cf-8e3b-78538b3faaa4",
   "metadata": {},
   "outputs": [],
   "source": [
    "all_bin_numbers = df_pairs[\"binnum\"].unique()\n",
    "all_bin_numbers = sorted(all_bin_numbers)\n",
    "\n",
    "# loop on time-bins\n",
    "all_df = []\n",
    "mapping_dict = {}\n",
    "mapping_dict_MyDCT = {}\n",
    "# loop on bin\n",
    "for ibin in all_bin_numbers:\n",
    "    df = df_pairs[df_pairs[\"binnum\"] == ibin ]\n",
    "    \n",
    "    mean_dpwv_inbin = df['dPwv'].mean()\n",
    "    std_dpwv_inbin = df['dPwv'].std()\n",
    "\n",
    "    product_inbin = df['pwv1xpwv2'].mean()/sigmaPWV**2\n",
    "    \n",
    "    mapping_dict[ibin] = df[[\"dt\",\"dPwv\",\"abs_dPwv\"]].agg([\"mean\",\"std\"])\n",
    "    mapping_dict_MyDCT[ibin]  = product_inbin\n",
    "    all_df.append(df)"
   ]
  },
  {
   "cell_type": "code",
   "execution_count": null,
   "id": "8679ee5c-7f1b-4588-86f6-5f742fd1573a",
   "metadata": {},
   "outputs": [],
   "source": [
    "NBins = len(all_bin_numbers)\n",
    "NBins"
   ]
  },
  {
   "cell_type": "markdown",
   "id": "f484b364-e948-4f8e-9746-56a36127ceeb",
   "metadata": {},
   "source": [
    "## Check "
   ]
  },
  {
   "cell_type": "code",
   "execution_count": null,
   "id": "fdebaa8b-3ea7-4517-9f66-ad270aa09111",
   "metadata": {},
   "outputs": [],
   "source": [
    "fig,ax = plt.subplots(1,1,figsize=(6,4))\n",
    "h = all_df[0][\"dt\"].hist(bins = NUMBEROFTIMEBINS,ax=ax,color=\"r\",histtype=\"step\",lw=3)\n",
    "ax.set_title(\"bin 0\")\n",
    "ax.set_xlabel(\"$\\Delta t$ (hours)\")"
   ]
  },
  {
   "cell_type": "code",
   "execution_count": null,
   "id": "314c3b58-ccf4-46c3-b6c6-c0d130d1bb66",
   "metadata": {},
   "outputs": [],
   "source": [
    "fig,ax = plt.subplots(1,1,figsize=(18,4))\n",
    "all_counts = np.zeros(len(all_bin_numbers))\n",
    "for ibin in range(len(all_bin_numbers)):\n",
    "    if ibin==0:\n",
    "        h = all_df[ibin][\"dt\"].hist(bins = NUMBEROFTIMEBINS,ax=ax,color=\"r\",histtype=\"step\",lw=3)\n",
    "    else:\n",
    "        h = all_df[ibin][\"dt\"].hist(bins = NUMBEROFTIMEBINS,ax=ax)\n",
    "    out, bins  = pd.cut(all_df[ibin][\"dt\"], bins = NUMBEROFTIMEBINS, include_lowest=True, right=False, retbins=True)\n",
    "    maxcount = out.value_counts().max()\n",
    "    all_counts[ibin] = maxcount\n",
    "ax.set_xlabel(\"$\\Delta t$ (hour)\")\n",
    "ax.set_title(\"Dt for observation pairs in the first time bins\")\n",
    "#ax.set_ylim(0.,all_counts[0:].max())\n",
    "ax.set_ylim(0.,300)\n",
    "ax.set_xlim(0,1.0)"
   ]
  },
  {
   "cell_type": "code",
   "execution_count": null,
   "id": "1e5bf50a-d8ed-4a9b-898d-4e03f23a6d73",
   "metadata": {},
   "outputs": [],
   "source": [
    "fig,ax = plt.subplots(1,1,figsize=(18,4))\n",
    "all_counts = np.zeros(len(all_bin_numbers))\n",
    "for ibin in range(len(all_bin_numbers)):\n",
    "    if ibin==0:\n",
    "        h = all_df[ibin][\"dt\"].hist(bins = NUMBEROFTIMEBINS,ax=ax,color=\"r\",histtype=\"step\",lw=3)\n",
    "    else:\n",
    "        h = all_df[ibin][\"dt\"].hist(bins = NUMBEROFTIMEBINS,ax=ax)\n",
    "    out, bins  = pd.cut(all_df[ibin][\"dt\"], bins = NUMBEROFTIMEBINS, include_lowest=True, right=False, retbins=True)\n",
    "    maxcount = out.value_counts().max()\n",
    "    all_counts[ibin] = maxcount\n",
    "ax.set_xlabel(\"$\\Delta t$ (hour)\")\n",
    "ax.set_title(\"Dt for observation pairs in the first time bins\")\n",
    "#ax.set_ylim(0.,all_counts[0:].max())\n",
    "ax.set_ylim(0.,300)\n",
    "ax.set_xlim(0,1.0)"
   ]
  },
  {
   "cell_type": "code",
   "execution_count": null,
   "id": "aa035168-e0a6-4607-9dee-d3f5ca16f097",
   "metadata": {},
   "outputs": [],
   "source": [
    "fig,ax = plt.subplots(1,1,figsize=(10,5))\n",
    "#ibin = 0\n",
    "#h = all_df[ibin][\"dt\"].hist(bins = NUMBEROFTIMEBINS,ax=ax)\n",
    "#out0, bins0  = pd.cut(all_df[ibin][\"dt\"], bins = NUMBEROFTIMEBINS, include_lowest=True, right=False, retbins=True)\n",
    "ibin = 9\n",
    "h = all_df[ibin][\"dt\"].hist(bins = NUMBEROFTIMEBINS,ax=ax)\n",
    "out9, bins9  = pd.cut(all_df[ibin][\"dt\"], bins = NUMBEROFTIMEBINS, include_lowest=True, right=False, retbins=True)\n",
    "ibin = 10\n",
    "h = all_df[ibin][\"dt\"].hist(bins = NUMBEROFTIMEBINS,ax=ax)\n",
    "out10, bins10  = pd.cut(all_df[ibin][\"dt\"], bins = NUMBEROFTIMEBINS, include_lowest=True, right=False, retbins=True)\n",
    "ibin = 11\n",
    "h = all_df[ibin][\"dt\"].hist(bins = NUMBEROFTIMEBINS,ax=ax)\n",
    "out11, bins11  = pd.cut(all_df[ibin][\"dt\"], bins = NUMBEROFTIMEBINS, include_lowest=True, right=False, retbins=True)\n",
    "ax.set_xlabel(\"$\\Delta t$ (hours)\")\n",
    "ax.set_title(\"Dt for pairs in the different time bins 9,10,11\")"
   ]
  },
  {
   "cell_type": "code",
   "execution_count": null,
   "id": "bfb63453-41eb-4e09-9e7c-3c6bf29df890",
   "metadata": {},
   "outputs": [],
   "source": [
    "out9.value_counts().max()"
   ]
  },
  {
   "cell_type": "code",
   "execution_count": null,
   "id": "58887c8c-13ea-428c-a289-d35caabd8239",
   "metadata": {},
   "outputs": [],
   "source": [
    "out10.value_counts().max()"
   ]
  },
  {
   "cell_type": "code",
   "execution_count": null,
   "id": "ab847c0d-b37d-4b83-8008-3e8314997f5f",
   "metadata": {},
   "outputs": [],
   "source": [
    "mapping_dict[1][\"abs_dPwv\"][\"mean\"]"
   ]
  },
  {
   "cell_type": "markdown",
   "id": "416ebeb9-d6dc-483e-9227-b63518f93770",
   "metadata": {},
   "source": [
    "## My auto correlation"
   ]
  },
  {
   "cell_type": "code",
   "execution_count": null,
   "id": "c4c8c5f4-890f-4795-b77e-32bc391a8461",
   "metadata": {},
   "outputs": [],
   "source": [
    "mapping_dict"
   ]
  },
  {
   "cell_type": "code",
   "execution_count": null,
   "id": "2876bbe5-d731-4957-9c83-582c8c5894e9",
   "metadata": {},
   "outputs": [],
   "source": [
    "XX = np.array([])\n",
    "YY = np.array([])\n",
    "EXX = np.array([])\n",
    "EYY = np.array([])\n",
    "for item_bin in mapping_dict.items():\n",
    "    timeforbin = bin_to_timehour(item_bin[0])\n",
    "    #print(item_bin[0],timeforbin,item_bin[1][\"mean\"],item_bin[1][\"std\"])\n",
    "    XX = np.append(XX,timeforbin)\n",
    "    YY = np.append(YY,item_bin[1][\"abs_dPwv\"][\"mean\"])\n",
    "    EYY = np.append(EYY,item_bin[1][\"abs_dPwv\"][\"std\"])\n",
    "    EXX = np.append(EXX,item_bin[1][\"dt\"][\"std\"])\n",
    "\n",
    "fig,ax = plt.subplots(1,1,figsize=(16,6))    \n",
    "ax.errorbar(XX, YY, yerr=EYY, xerr=EXX,fmt='o', mfc=\"r\",mec=\"k\",ecolor=\"k\",ms=5,lw=3,label=\"PWV data pairs\")#\n",
    "#ax.errorbar(XX, YY, xerr=EXX,yerr=EYY, mfc='red',mec='green', ms=20, mew=4)\n",
    "#ax.scatter(XX, YY,  marker='o',color=\"r\", lw=3,label=\"PWV data pairs\")\n",
    "ax.grid()\n",
    "ax.set_ylim(0,3)\n",
    "#ax.set_title(f\"Profile-Plot : PWV difference in pairs in bins of {TIMEBINWIDTHMIN:.0f} minutes\")\n",
    "ax.set_title(f\"Profile-Plot : PWV difference in pairs in bins of {TIMEBINWIDTHMIN:.0f} min / {MAXHOURTIMES} hours\")\n",
    "ax.set_xlabel(\"$\\Delta t \\; (hour)$\")\n",
    "ax.set_ylabel(\"$|\\Delta PWV| \\; (mm)$\")\n",
    "ax.axhline(sigma_repeatability*np.sqrt(2),linestyle=\"-.\",color=\"b\",label=\"$\\sigma_{PWV}$ (repeatability from pairs)\")\n",
    "ax.legend()"
   ]
  },
  {
   "cell_type": "markdown",
   "id": "efa66883-95e9-4c26-964b-be3e1ced6777",
   "metadata": {},
   "source": [
    "## Plot Time dependence"
   ]
  },
  {
   "cell_type": "code",
   "execution_count": null,
   "id": "324bc8b0-1441-4f02-80e5-259068a15f60",
   "metadata": {},
   "outputs": [],
   "source": [
    "mapping_dict_MyDCT"
   ]
  },
  {
   "cell_type": "code",
   "execution_count": null,
   "id": "a782f359-ffb5-4707-b00e-565e0bdd4a86",
   "metadata": {},
   "outputs": [],
   "source": [
    "XX = np.array([])\n",
    "YY = np.array([])\n",
    "EXX = np.array([])\n",
    "EYY = np.array([])\n",
    "\n",
    "for item_bin in mapping_dict_MyDCT.items():\n",
    "    timeforbin = bin_to_timehour(item_bin[0])\n",
    "    #print(item_bin[0],timeforbin,item_bin[1][\"mean\"],item_bin[1][\"std\"])\n",
    "    XX = np.append(XX,timeforbin)\n",
    "    YY = np.append(YY,item_bin[1])\n",
    "    #EYY = np.append(EYY,item_bin[1][\"abs_dPwv\"][\"std\"])\n",
    "    #EXX = np.append(EXX,item_bin[1][\"dt\"][\"std\"])\n",
    "\n",
    "fig,ax = plt.subplots(1,1,figsize=(16,6))    \n",
    "#ax.errorbar(XX, YY, yerr=EYY, xerr=EXX,fmt='o', mfc=\"r\",mec=\"k\",ecolor=\"k\",ms=5,lw=3,label=\"PWV data pairs\")#\n",
    "ax.errorbar(XX, YY)#\n",
    "#ax.errorbar(XX, YY, xerr=EXX,yerr=EYY, mfc='red',mec='green', ms=20, mew=4)\n",
    "#ax.scatter(XX, YY,  marker='o',color=\"r\", lw=3,label=\"PWV data pairs\")\n",
    "ax.grid()\n",
    "#ax.set_ylim(0,3)\n",
    "#ax.set_title(f\"Profile-Plot : PWV difference in pairs in bins of {TIMEBINWIDTHMIN:.0f} minutes\")\n",
    "\n",
    "ax.legend()"
   ]
  },
  {
   "cell_type": "code",
   "execution_count": null,
   "id": "25ab913c-6be7-4ef1-9548-612c75e9f889",
   "metadata": {},
   "outputs": [],
   "source": [
    "XX = np.array([])\n",
    "YY = np.array([])\n",
    "EXX = np.array([])\n",
    "EYY = np.array([])\n",
    "EYYcorr1 =  np.array([])\n",
    "EYYcorr2 =  np.array([])\n",
    "for item_bin in mapping_dict.items():\n",
    "    timeforbin = bin_to_timehour(item_bin[0])\n",
    "    #print(item_bin[0],timeforbin,item_bin[1][\"mean\"],item_bin[1][\"std\"])\n",
    "    XX = np.append(XX,timeforbin)\n",
    "    YY = np.append(YY,item_bin[1][\"abs_dPwv\"][\"mean\"])\n",
    "    EYY = np.append(EYY,item_bin[1][\"abs_dPwv\"][\"std\"])\n",
    "    EXX = np.append(EXX,item_bin[1][\"dt\"][\"std\"])\n",
    "    EYYcorr1 = np.append(EYYcorr1,np.sqrt( (item_bin[1][\"abs_dPwv\"][\"mean\"])**2-2*sigma_repeatability**2 )) \n",
    "    EYYcorr2 = np.append(EYYcorr2,np.sqrt( (item_bin[1][\"abs_dPwv\"][\"std\"])**2-2*sigma_repeatability**2 )) \n",
    "\n",
    "fig,axs = plt.subplots(2,1,figsize=(16,12))\n",
    "ax1,ax2 =axs.flatten()\n",
    "\n",
    "ax1.errorbar(XX, YY, yerr=EYY, xerr=EXX,fmt='o', mfc=\"r\",mec=\"k\",ecolor=\"k\",ms=5,lw=3,label=\"PWV data pairs\")#\n",
    "#ax.errorbar(XX, YY, xerr=EXX,yerr=EYY, mfc='red',mec='green', ms=20, mew=4)\n",
    "#ax.scatter(XX, YY,  marker='o',color=\"r\", lw=3,label=\"PWV data pairs\")\n",
    "ax1.grid()\n",
    "ax1.set_ylim(0,3)\n",
    "#ax1.set_title(f\"Profile-Plot : PWV difference in pairs in bins of {TIMEBINWIDTHMIN:.0f} minutes)\")\n",
    "ax1.set_title(f\"Profile-Plot : PWV difference in pairs in bins of {TIMEBINWIDTHMIN:.0f} min / {MAXHOURTIMES} hours\")\n",
    "ax1.set_xlabel(\"$\\Delta t \\; (hour)$\")\n",
    "ax1.set_ylabel(\"$|\\Delta PWV| \\; (mm)$\")\n",
    "ax1.axhline(sigma_repeatability*np.sqrt(2),linestyle=\"-.\",color=\"b\",label=\"$\\sigma_{PWV}$ (repeatability from pairs)\")\n",
    "ax1.legend()\n",
    "\n",
    "ax2.step(XX, EYYcorr1,lw=3,color=\"r\", label = \"$(\\overline{|\\Delta PWV|}^2 - 2\\sigma_{repeatability}^2)^{1/2} $\")\n",
    "ax2.step(XX, EYYcorr2,lw=3,color=\"b\",label = \"$(\\sigma_{|\\Delta PWV|}^2 - 2\\sigma_{repeatability}^2)^{1/2} $\")\n",
    "ax2.set_ylim(0.,1.5)\n",
    "ax2.grid()\n",
    "ax2.set_xlabel(\"$\\Delta t \\; (hour)$\")\n",
    "ax2.set_ylabel(\"$\\sigma_{|\\Delta PWV|} (excess) \\; (mm)$\")\n",
    "ax2.legend()\n",
    "plt.show()"
   ]
  },
  {
   "cell_type": "code",
   "execution_count": null,
   "id": "549d6bd8-babf-4e57-98f8-0aa582aa5697",
   "metadata": {},
   "outputs": [],
   "source": [
    "sigma_repeatability"
   ]
  },
  {
   "cell_type": "code",
   "execution_count": null,
   "id": "07b160c0-7aa6-4345-a58b-478bee40bb05",
   "metadata": {},
   "outputs": [],
   "source": [
    "XX = np.array([])\n",
    "YY = np.array([])\n",
    "EXX = np.array([])\n",
    "EYY = np.array([])\n",
    "\n",
    "for item_bin in mapping_dict.items():\n",
    "    timeforbin = bin_to_timehour(item_bin[0])\n",
    "    #print(item_bin[0],timeforbin,item_bin[1][\"mean\"],item_bin[1][\"std\"])\n",
    "    XX = np.append(XX,timeforbin)\n",
    "    YY = np.append(YY,item_bin[1][\"dPwv\"][\"mean\"])\n",
    "    EYY = np.append(EYY,item_bin[1][\"dPwv\"][\"std\"])\n",
    "    EXX = np.append(EXX,item_bin[1][\"dt\"][\"std\"])\n",
    "\n",
    "fig,ax = plt.subplots(1,1,figsize=(16,6))    \n",
    "#ax.errorbar(XX, YY, EYY, fmt='ok', lw=3)\n",
    "#ax.scatter(XX, YY,  marker='o',color=\"r\", lw=3,label=\"PWV data pairs\")\n",
    "ax.errorbar(XX, YY, yerr=EYY, xerr=EXX,fmt='o', mfc=\"r\",mec=\"k\",ecolor=\"k\",ms=5,lw=3,label=\"PWV data pairs\")#\n",
    "ax.grid()\n",
    "ax.set_ylim(-3,3)\n",
    "#ax.set_title(f\"Profile-Plot : PWV difference in pairs in bins of {TIMEBINWIDTHMIN:.0f} minutes \")\n",
    "ax.set_title(f\"Profile-Plot : PWV difference in pairs in bins of {TIMEBINWIDTHMIN:.0f} min / {MAXHOURTIMES} hours\")\n",
    "ax.set_xlabel(\"$\\Delta t \\; (hour)$\")\n",
    "ax.set_ylabel(\"$\\Delta PWV \\; (mm)$\")\n",
    "ax.axhline(sigma_repeatability*np.sqrt(2),linestyle=\"-.\",color=\"b\",label=\"$\\sigma_{PWV}$ (repeatability from pairs)\")\n",
    "ax.axhline(-sigma_repeatability*np.sqrt(2),linestyle=\"-.\",color=\"b\")\n",
    "ax.legend()"
   ]
  },
  {
   "cell_type": "code",
   "execution_count": null,
   "id": "d7a0065e-029a-446b-a94c-898016468a3b",
   "metadata": {},
   "outputs": [],
   "source": [
    "XX = np.array([])\n",
    "YY = np.array([])\n",
    "EXX = np.array([])\n",
    "EYY = np.array([])\n",
    "EYYcorr =  np.array([])\n",
    "\n",
    "for item_bin in mapping_dict.items():\n",
    "    timeforbin = bin_to_timehour(item_bin[0])\n",
    "    #print(item_bin[0],timeforbin,item_bin[1][\"mean\"],item_bin[1][\"std\"])\n",
    "    XX = np.append(XX,timeforbin)\n",
    "    YY = np.append(YY,item_bin[1][\"dPwv\"][\"mean\"])\n",
    "    EYY = np.append(EYY,item_bin[1][\"dPwv\"][\"std\"])\n",
    "    EXX = np.append(EXX,item_bin[1][\"dt\"][\"std\"])\n",
    "    EYYcorr = np.append(EYYcorr,np.sqrt( (item_bin[1][\"dPwv\"][\"std\"])**2-2*sigma_repeatability**2 )) \n",
    "\n",
    "fig,axs = plt.subplots(2,1,figsize=(16,12))    \n",
    "#ax.errorbar(XX, YY, EYY, fmt='ok', lw=3)\n",
    "#ax.scatter(XX, YY,  marker='o',color=\"r\", lw=3,label=\"PWV data pairs\")\n",
    "ax1,ax2 = axs.flatten()\n",
    "\n",
    "ax1.errorbar(XX, YY, yerr=EYY, xerr=EXX,fmt='o', mfc=\"r\",mec=\"k\",ecolor=\"k\",ms=5,lw=3,label=\"PWV data pairs\")#\n",
    "ax1.grid()\n",
    "ax1.set_ylim(-3,3)\n",
    "#ax1.set_title(f\"Profile-Plot : PWV difference in pairs in bins of {TIMEBINWIDTHMIN:.0f} minutes \")\n",
    "ax1.set_title(f\"Profile-Plot : PWV difference in pairs in bins of {TIMEBINWIDTHMIN:.0f} min / {MAXHOURTIMES} hours\")\n",
    "ax1.set_xlabel(\"$\\Delta t \\; (hour)$\")\n",
    "ax1.set_ylabel(\"$\\Delta PWV \\; (mm)$\")\n",
    "ax1.axhline(sigma_repeatability*np.sqrt(2),linestyle=\"-.\",color=\"b\",label=\"$\\sigma_{PWV}$ (repeatability from pairs)\")\n",
    "ax1.axhline(-sigma_repeatability*np.sqrt(2),linestyle=\"-.\",color=\"b\")\n",
    "ax1.legend()\n",
    "\n",
    "ax2.step(XX, EYYcorr,lw=3,color=\"b\",label = \"$(\\sigma_{\\Delta PWV}^2 - 2\\sigma_{repeatability}^2)^{1/2} $\")\n",
    "ax2.set_ylim(0.,1.5)\n",
    "ax2.grid()\n",
    "ax2.set_xlabel(\"$\\Delta t \\; (hour)$\")\n",
    "ax2.set_ylabel(\"$\\sigma_{\\Delta PWV} (excess) \\; (mm)$\")\n",
    "ax2.legend()\n",
    "plt.show()\n"
   ]
  },
  {
   "cell_type": "markdown",
   "id": "441803df-10a3-4526-9bef-1917a7662871",
   "metadata": {},
   "source": [
    "### boxplot"
   ]
  },
  {
   "cell_type": "markdown",
   "id": "279cf950-c981-48a0-a396-c70acfd22fb5",
   "metadata": {},
   "source": [
    "- https://wellbeingatschool.org.nz/information-sheet/understanding-and-interpreting-box-plots\n",
    "\n",
    "- https://stackoverflow.com/questions/33328774/box-plot-with-min-max-average-and-standard-deviation"
   ]
  },
  {
   "cell_type": "code",
   "execution_count": null,
   "id": "95903ce6-907b-449c-b236-fa58e7616cb5",
   "metadata": {},
   "outputs": [],
   "source": [
    "fig,ax = plt.subplots(1,1,figsize=(16,6))\n",
    "#sns.boxplot(x=df_pairs[\"binnum\"],y=df_pairs[\"abs_dPwv\"],ax=ax,color=\"r\",notch=False,linewidth=2,label=\"PWV data pairs\")\n",
    "sns.boxplot(x=df_pairs[\"binnum\"],y=df_pairs[\"abs_dPwv\"],ax=ax,color=\"r\",notch=False,linewidth=2)\n",
    "ax.set_xticks(ax.get_xticks())\n",
    "ax.set_xticklabels(ax.get_xticklabels(), rotation=0, ha='center',color=\"k\");\n",
    "\n",
    "# a) convert the xlabel from binnumbers to hours\n",
    "labels_binnumbers = [int(item.get_text()) for item in ax.get_xticklabels()]\n",
    "labels_hours = [ bin_to_timehour(binnum) for binnum in labels_binnumbers]\n",
    "labels_hours_str = [f\"{label:.1f}\" for label in labels_hours]\n",
    "ax.set_xticklabels(labels_hours_str)\n",
    "ax.set_xlabel(\"$\\Delta t$ (hours)\")\n",
    "# b) reduce the number of xlabels\n",
    "ax.locator_params(axis=\"x\", nbins=10)\n",
    "ax.grid()\n",
    "ax.set_ylim(0,3)\n",
    "#ax.set_title(f\"Box-Plot : PWV difference in pairs in bins of {TIMEBINWIDTHMIN:.0f} minutes (clearsky)\")\n",
    "ax.set_title(f\"Profile-Plot : PWV difference in pairs in bins of {TIMEBINWIDTHMIN:.0f} min / {MAXHOURTIMES} hours\")\n",
    "ax.set_ylabel(\"$|\\Delta PWV| \\; (mm)$\")\n",
    "# reduce the number of bins in the plot\n",
    "ax.axhline(sigma_repeatability*np.sqrt(2),linestyle=\"-.\",color=\"b\",label=\"$\\sigma_{PWV}$ (repeatability from pairs)\")\n",
    "ax.legend()"
   ]
  },
  {
   "cell_type": "code",
   "execution_count": null,
   "id": "42072e8f-657e-4a90-a6a8-844a1971bbfb",
   "metadata": {},
   "outputs": [],
   "source": [
    "fig,ax = plt.subplots(1,1,figsize=(16,6))\n",
    "#sns.boxplot(x=df_pairs[\"binnum\"],y=df_pairs[\"dPwv\"],ax=ax,color=\"r\",notch=False,linewidth=2,label=\"PWV data pairs\")\n",
    "sns.boxplot(x=df_pairs[\"binnum\"],y=df_pairs[\"dPwv\"],ax=ax,color=\"r\",notch=False,linewidth=2)\n",
    "ax.set_xticks(ax.get_xticks())\n",
    "ax.set_xticklabels(ax.get_xticklabels(), rotation=0, ha='center',color=\"k\");\n",
    "# a) convert the xlabel from binnumbers to hours\n",
    "labels_binnumbers = [int(item.get_text()) for item in ax.get_xticklabels()]\n",
    "labels_hours = [ bin_to_timehour(binnum) for binnum in labels_binnumbers]\n",
    "labels_hours_str = [f\"{label:.1f}\" for label in labels_hours]\n",
    "ax.set_xticklabels(labels_hours_str)\n",
    "ax.set_xlabel(\"$\\Delta t$ (hours)\")\n",
    "# b) reduce the number of xlabels\n",
    "ax.locator_params(axis=\"x\", nbins=10)\n",
    "ax.set_ylabel(\"$\\Delta PWV \\; (mm)$\")\n",
    "\n",
    "ax.grid()\n",
    "ax.set_ylim(-3,3)\n",
    "#ax.set_title(f\"Box-Plot : PWV difference in pairs in bins of {TIMEBINWIDTHMIN:.0f} minutes (clearsky)\")\n",
    "ax.set_title(f\"Profile-Plot : PWV difference in pairs in bins of {TIMEBINWIDTHMIN:.0f} min / {MAXHOURTIMES} hours\")\n",
    "ax.axhline(sigma_repeatability*np.sqrt(2),linestyle=\"-.\")\n",
    "ax.axhline(-sigma_repeatability*np.sqrt(2),linestyle=\"-.\")\n",
    "ax.axhline(sigma_repeatability*np.sqrt(2),linestyle=\"-.\",color=\"b\",label=\"$\\sigma_{PWV}$ (repeatability from pairs)\")\n",
    "ax.axhline(-sigma_repeatability*np.sqrt(2),linestyle=\"-.\",color=\"b\")\n",
    "ax.legend()"
   ]
  },
  {
   "cell_type": "code",
   "execution_count": null,
   "id": "84b5d19e-0ae3-41ed-ad10-6ecc4fa3a6f5",
   "metadata": {},
   "outputs": [],
   "source": [
    "df_pair_bin_num = df_pairs[df_pairs.binnum == 0 ]"
   ]
  },
  {
   "cell_type": "code",
   "execution_count": null,
   "id": "c2c6a6b6-8959-4936-8f57-23196e3d2495",
   "metadata": {},
   "outputs": [],
   "source": [
    "fig,ax = plt.subplots(1,1,figsize=(10,6))\n",
    "df_pair_bin_num.hist(\"dPwv\",bins=100,ax=ax)"
   ]
  },
  {
   "cell_type": "code",
   "execution_count": null,
   "id": "955e69d7-a9de-4e45-ab61-16f96e647d8a",
   "metadata": {},
   "outputs": [],
   "source": [
    "fig,ax = plt.subplots(1,1,figsize=(16,6))\n",
    "sns.violinplot(x=df_pairs[\"binnum\"],y=df_pairs[\"abs_dPwv\"],ax=ax,facecolor=\"r\",linewidth=2,linecolor=\"b\")\n",
    "\n",
    "ax.set_xticks(ax.get_xticks())\n",
    "ax.set_xticklabels(ax.get_xticklabels(), rotation= 0, ha='center',color=\"b\");\n",
    "# a) convert the xlabel from binnumbers to hours\n",
    "labels_binnumbers = [int(item.get_text()) for item in ax.get_xticklabels()]\n",
    "labels_hours = [ bin_to_timehour(binnum) for binnum in labels_binnumbers]\n",
    "labels_hours_str = [f\"{label:.1f}\" for label in labels_hours]\n",
    "ax.set_xticklabels(labels_hours_str)\n",
    "ax.set_xlabel(\"$\\Delta t$ (hours)\")\n",
    "# b) reduce the number of xlabels\n",
    "ax.locator_params(axis=\"x\", nbins=10)\n",
    "ax.set_title(f\"Profile-Plot : PWV difference in pairs in bins of {TIMEBINWIDTHMIN:.0f} min / {MAXHOURTIMES} hours\")\n",
    "ax.grid()\n",
    "ax.set_ylim(0,4)"
   ]
  },
  {
   "cell_type": "markdown",
   "id": "8fbfc002-4389-4263-8b28-efa5e90ed64d",
   "metadata": {},
   "source": [
    "## Make histograms of PWV per bin in Delta t"
   ]
  },
  {
   "cell_type": "code",
   "execution_count": null,
   "id": "a640717c-6f48-4dca-a021-d181ce410d4c",
   "metadata": {},
   "outputs": [],
   "source": [
    "fig,axs = plt.subplots(1,2,figsize=(16,6))\n",
    "\n",
    "ax1,ax2 = axs.flatten()\n",
    "binfirst = 0\n",
    "binlast = 6\n",
    "DTfirst = bin_to_timehour(binfirst)\n",
    "DTlast = bin_to_timehour(binlast)\n",
    "\n",
    "sigmalast = mapping_dict[binlast][\"abs_dPwv\"][\"std\"]\n",
    "sigmafirst = mapping_dict[binfirst][\"abs_dPwv\"][\"std\"]\n",
    "labellast = \"$\\Delta t$ =\" +  f\"{DTlast:.2f} hours\" + \" $\\sigma$ = \" + f\"{sigmalast:.2f} mm\"\n",
    "labelfirst = \"$\\Delta t$ =\" +  f\"{DTfirst:.2f} hours\" + \" $\\sigma$ = \" + f\"{sigmafirst:.2f} mm\"\n",
    "\n",
    "df_pair_bin_num1 = df_pairs[df_pairs.binnum == binlast ]\n",
    "df_pair_bin_num1.hist(\"abs_dPwv\",bins=50,ax=ax1,density = True,color=\"b\",histtype=\"step\",lw=3, label = labellast)\n",
    "\n",
    "df_pair_bin_num0 = df_pairs[df_pairs.binnum == binfirst ]\n",
    "df_pair_bin_num0.hist(\"abs_dPwv\",bins=50,ax=ax1,density = True,color=\"r\",histtype=\"step\",lw=3, label = labelfirst)\n",
    "\n",
    "\n",
    "sigmalast = mapping_dict[binlast][\"dPwv\"][\"std\"]\n",
    "sigmafirst = mapping_dict[binfirst][\"dPwv\"][\"std\"]\n",
    "labellast = \"$\\Delta t$ =\" +  f\"{DTlast:.2f} hours\" + \" $\\sigma$ = \" + f\"{sigmalast:.2f} mm\"\n",
    "labelfirst = \"$\\Delta t$ =\" +  f\"{DTfirst:.2f} hours\" + \" $\\sigma$ = \" + f\"{sigmafirst:.2f} mm\"\n",
    "\n",
    "df_pair_bin_num1 = df_pairs[df_pairs.binnum == binlast ]\n",
    "df_pair_bin_num1.hist(\"dPwv\",bins=50,ax=ax2,density = True,color=\"b\",histtype=\"step\",lw=3,label = labellast)\n",
    "\n",
    "df_pair_bin_num0 = df_pairs[df_pairs.binnum == binfirst ]\n",
    "df_pair_bin_num0.hist(\"dPwv\",bins=50,ax=ax2,density = True,color=\"r\",histtype=\"step\",lw=3,label = labelfirst)\n",
    "\n",
    "ax1.legend()\n",
    "ax2.legend()\n",
    "ax1.set_xlabel(\"$|\\Delta PWV|$ (mm)\")\n",
    "ax2.set_xlabel(\"$\\Delta PWV$ (mm)\")\n",
    "plt.suptitle(f\"PWV difference in pairs in bins of {TIMEBINWIDTHMIN:.0f} min / {MAXHOURTIMES} hours\")"
   ]
  },
  {
   "cell_type": "markdown",
   "id": "f3c4088b-475c-4545-abf5-7490d67a62c9",
   "metadata": {},
   "source": [
    "## Discrete correlation function"
   ]
  },
  {
   "cell_type": "code",
   "execution_count": null,
   "id": "c103141a-f86c-41a5-82b0-6d5f80d570d5",
   "metadata": {},
   "outputs": [],
   "source": [
    "for night in all_selected_nights:\n",
    "    #select the night\n",
    "    # Choose the kind of observation\n",
    "    df_spec_night = df_spec_sel[df_spec_sel[\"nightObs\"] == night]\n",
    "    N = len( df_spec_night)\n",
    "    print(night,N)\n",
    "    if night == 20230131:\n",
    "        break"
   ]
  },
  {
   "cell_type": "code",
   "execution_count": null,
   "id": "1a4c0426-9d7e-4bc7-9dcc-0fb8e16ea33a",
   "metadata": {},
   "outputs": [],
   "source": [
    "def ComputeZDCF(night,df_night_pwv_curve):\n",
    "    \"\"\"\n",
    "    Compute the Discrete Covariance Curve with pyzdcf\n",
    "    \"\"\"\n",
    "    # convert to seconds\n",
    "    df_night_pwv_curve[\"t_sec_rel\"] = df_night_pwv_curve.dt_midnight*3600.0\n",
    "\n",
    "    # compute the time index (integer) in seconds\n",
    "    t_sec_rel_min = df_night_pwv_curve[\"t_sec_rel\"].min()\n",
    "    df_night_pwv_curve[\"t_sec_abs\"] = (df_night_pwv_curve[\"t_sec_rel\"] - t_sec_rel_min).astype(int)\n",
    "\n",
    "    # create the curve in the required format\n",
    "    df_pwvc = df_night_pwv_curve[[\"t_sec_abs\",\"PWV [mm]_x\"]]\n",
    "\n",
    "    # add the error on the point \n",
    "    df_pwvc = df_pwvc.assign(sig_pwv = lambda x: sigma_repeatability)\n",
    "\n",
    "    # save the pwv curve in a file\n",
    "    fn = f\"pwv_curve_{night}.csv\"\n",
    "    ffn = os.path.join(datapath_input,fn)\n",
    "    df_pwvc.to_csv(ffn, index=False,header=False)\n",
    "\n",
    "    # parameters for the pyzdcf\n",
    "    params_dcf = dict(autocf    =  True, # Autocorrelation (T) or cross-correlation (F)\n",
    "              prefix            = 'acf',  # Output files prefix\n",
    "              uniform_sampling  =  False, # Uniform sampling?\n",
    "              omit_zero_lags    =  False,  # Omit zero lag points?\n",
    "              minpts            =  20,     # Min. num. of points per bin (0 is a flag for default value of 11)\n",
    "              num_MC            =  100,   # Num. of Monte Carlo simulations for error estimation\n",
    "              lc1_name          =  fn,   # Name of the first light curve file\n",
    "              lc2_name          =  fn    # Name of the second light curve file (required only if we do CCF)\n",
    "             )\n",
    "\n",
    "    # compute the ZDCF\n",
    "    dcf_df = pyzdcf(input_dir  = datapath_input+\"/\" , \n",
    "                    output_dir = datapath_output+\"/\", \n",
    "                    intr       = False, \n",
    "                    parameters = params_dcf, \n",
    "                    sep        = ',', \n",
    "                    sparse     = 'auto', \n",
    "                    verbose    = False)\n",
    "    return dcf_df\n"
   ]
  },
  {
   "cell_type": "code",
   "execution_count": null,
   "id": "17299c52-7805-4317-b41f-7e0e06ce15c1",
   "metadata": {},
   "outputs": [],
   "source": [
    "df_night_pwv_curve = df_spec_night[[\"Time\",\"PWV [mm]_x\",\"PWV [mm]_err_x\",\"PWV [mm]_y\",\"PWV [mm]_err_y\",\"dt_midnight\",\"ex_mjd\",\"AIRMASS\",\"TARGET\"]]"
   ]
  },
  {
   "cell_type": "code",
   "execution_count": null,
   "id": "31d67c39-3511-46e2-a4ad-09a2e8b418dd",
   "metadata": {},
   "outputs": [],
   "source": [
    "dcf_df = ComputeZDCF(night,df_night_pwv_curve)"
   ]
  },
  {
   "cell_type": "code",
   "execution_count": null,
   "id": "ec5c0ae6-551f-450b-882c-28468f26405a",
   "metadata": {},
   "outputs": [],
   "source": [
    "dcf_df"
   ]
  },
  {
   "cell_type": "code",
   "execution_count": null,
   "id": "4c7272b8-ebfe-4c4f-81bc-2bc2c917dd62",
   "metadata": {},
   "outputs": [],
   "source": [
    "xerr = dcf_df[[\"-sig(tau)\",\"+sig(tau)\"]].values.T/3600. \t\n",
    "yerr = dcf_df[[\"-err(dcf)\",\"+err(dcf)\"]].values.T/3600.\t\n",
    "x = dcf_df[\"tau\"].values/3600.\n",
    "y = dcf_df[\"dcf\"].values"
   ]
  },
  {
   "cell_type": "code",
   "execution_count": null,
   "id": "2a12e7f9-8581-47ff-8f49-17199cde2536",
   "metadata": {},
   "outputs": [],
   "source": [
    "fig,ax = plt.subplots(1,1,figsize=(10,4))\n",
    "ax.errorbar(x,y,xerr=xerr,yerr=yerr,marker='o', mfc='red',linewidth=0.5,\n",
    "         mec='red', ms=2, mew=2,ecolor=\"k\",elinewidth=2,capsize=2,uplims=True, lolims=True)\n",
    "ax.grid()\n",
    "ax.set_ylim(-1,1)\n",
    "ax.set_title(f\"Discrete covariance function night {night}\")\n",
    "ax.set_xlabel(\"Time (hours)\")\n",
    "ax.set_ylabel(\"DCF (no units)\")"
   ]
  },
  {
   "cell_type": "markdown",
   "id": "4cf3b3d3-e926-47d7-97ef-d3a837caf961",
   "metadata": {},
   "source": [
    "## Compute the DCF over all nights"
   ]
  },
  {
   "cell_type": "code",
   "execution_count": null,
   "id": "37abdd2e-478d-450b-88d1-833d81655aef",
   "metadata": {},
   "outputs": [],
   "source": [
    "# RESET figures\n",
    "all_figs_to_pdf = []"
   ]
  },
  {
   "cell_type": "code",
   "execution_count": null,
   "id": "6fc16764-382e-44ab-8d40-0ab954709e8c",
   "metadata": {},
   "outputs": [],
   "source": [
    "#all_pwv = []\n",
    "#all_sigmapwv = []\n",
    "\n",
    "all_T = []\n",
    "all_DCF = []\n",
    "\n",
    "# loop on nights\n",
    "#for night in all_selected_nights:\n",
    "for night in all_nights_forpairs:\n",
    "    #select the night\n",
    "    # Choose the kind of observation\n",
    "    df_spec_night = df_spec_sel[df_spec_sel[\"nightObs\"] == night]\n",
    "    df_spec_night_wp = df_spec_wp[df_spec_wp[\"nightObs\"] == night]\n",
    "    df_spec_night_np = df_spec_np[df_spec_np[\"nightObs\"] == night]\n",
    "    df_spec_night_np_f = df_spec_np_f[df_spec_np_f[\"nightObs\"] == night]\n",
    "    df_spec_night_np_b = df_spec_np_b[df_spec_np_b[\"nightObs\"] == night]\n",
    "    \n",
    "    #select the variables\n",
    "    df_night_pwv_curve = df_spec_night[[\"Time\",\"PWV [mm]_x\",\"PWV [mm]_err_x\",\"PWV [mm]_y\",\"PWV [mm]_err_y\",\"dt_midnight\",\"AIRMASS\",\"TARGET\",\"RA\",\"DEC\"]]\n",
    "    df_night_pwv_curve_wp = df_spec_night_wp[[\"Time\",\"PWV [mm]_x\",\"PWV [mm]_err_x\",\"PWV [mm]_y\",\"PWV [mm]_err_y\",\"dt_midnight\",\"AIRMASS\",\"TARGET\",\"RA\",\"DEC\"]]\n",
    "    df_night_pwv_curve_np_b = df_spec_night_np_b[[\"Time\",\"PWV [mm]_x\",\"PWV [mm]_err_x\",\"PWV [mm]_y\",\"PWV [mm]_err_y\",\"dt_midnight\",\"AIRMASS\",\"TARGET\",\"RA\",\"DEC\"]]\n",
    "    df_night_pwv_curve_np_f = df_spec_night_np_f[[\"Time\",\"PWV [mm]_x\",\"PWV [mm]_err_x\",\"PWV [mm]_y\",\"PWV [mm]_err_y\",\"dt_midnight\",\"AIRMASS\",\"TARGET\",\"RA\",\"DEC\"]]\n",
    "    df_night_pwv_curve_np = df_spec_night_np[[\"Time\",\"PWV [mm]_x\",\"PWV [mm]_err_x\",\"PWV [mm]_y\",\"PWV [mm]_err_y\",\"dt_midnight\",\"AIRMASS\",\"TARGET\",\"RA\",\"DEC\"]]\n",
    "\n",
    "    tmin = df_night_pwv_curve[\"Time\"].min()\n",
    "    tmax = df_night_pwv_curve[\"Time\"].max()\n",
    "\n",
    "    list_of_targets = df_night_pwv_curve[\"TARGET\"].unique()\n",
    "    str_list_of_targets = \"\\n\".join(list_of_targets)\n",
    "    str_list_of_targets = \"\\n\".join([\"targets:\",str_list_of_targets])\n",
    "     \n",
    "\n",
    "    # convert in hours\n",
    "    df_night_pwv_curve[\"dt\"] = (df_night_pwv_curve[\"Time\"] - tmin).dt.total_seconds()/3600.\n",
    "    df_night_pwv_curve_wp[\"dt\"] = (df_night_pwv_curve_wp[\"Time\"] - tmin).dt.total_seconds()/3600.\n",
    "    df_night_pwv_curve_np[\"dt\"] = (df_night_pwv_curve_np[\"Time\"] - tmin).dt.total_seconds()/3600.\n",
    "    df_night_pwv_curve_np_f[\"dt\"] = (df_night_pwv_curve_np_f[\"Time\"] - tmin).dt.total_seconds()/3600.\n",
    "    df_night_pwv_curve_np_b[\"dt\"] = (df_night_pwv_curve_np_b[\"Time\"] - tmin).dt.total_seconds()/3600.\n",
    "    \n",
    "    # extract statistics on pwv\n",
    "    stat = df_night_pwv_curve[[\"PWV [mm]_x\"]].describe()\n",
    "    date_form = DateFormatter(\"%y-%m-%dT%H:%M\")\n",
    "    #date_form = DateFormatter(\"%y-%m-%dT%H\")\n",
    "    count = int(stat.loc[\"count\"].values[0])\n",
    "    mean = stat.loc[\"mean\"].values[0]\n",
    "    median = stat.loc[\"50%\"].values[0]\n",
    "    std = stat.loc[\"std\"].values[0]\n",
    "    textstr = \"\\n\".join((f\"count : {count}\",\n",
    "                     f\"mean : {mean:.1f} mm\",\n",
    "                     f\"median : {median:.1f} mm\",\n",
    "                     f\"std : {std:.1f} mm\",\n",
    "                    ))\n",
    "\n",
    "\n",
    "    N= len(df_night_pwv_curve)\n",
    "\n",
    "    if N>10:\n",
    "        # does the fit\n",
    "        \n",
    "        #x,y,yerr,n,chi2dof,xfit,yfit,slope,slope_err = MakeLineFit(df_night_pwv_curve)\n",
    "        xfit, y_ard, y_ard_std, y_brr, y_brr_std, resy, y_mean = MakeLinearModelFit(df_night_pwv_curve)\n",
    "\n",
    "\n",
    "        # Compute the DCF\n",
    "        # convert the relative time in seconds\n",
    "        df_dcf = ComputeZDCF(night,df_night_pwv_curve)\n",
    "        \n",
    "        \n",
    "        \n",
    "        #textstr2 = \"\\n\".join((f\"d(PWV/dt) : \",\n",
    "        #             f\"slope : {slope:.3f} mm/h\",\n",
    "        #             f\"slope err : {slope_err:.3f} mm/h\",\n",
    "        #             f\"chi2/ndeg : {chi2dof:.2f}\",       \n",
    "        #            ))\n",
    "\n",
    "        #textstr3 = \"\\n\".join((f\"d(PWV/dt) : \",\n",
    "        #             f\"slope : {slope:.3f} mm/h\",\n",
    "        #             f\"slope err : {slope_err:.3f} mm/h\",  \n",
    "        #            ))\n",
    "    \n",
    "\n",
    "        #stat.loc[\"slope\",\"PWV [mm]_x\"] = slope \n",
    "        #stat.loc[\"slope_err\",\"PWV [mm]_x\"] = slope_err \n",
    "        #stat.loc[\"chi2\",\"PWV [mm]_x\"] = chi2dof\n",
    "\n",
    "        ##########\n",
    "        # plot\n",
    "        ############\n",
    "        \n",
    "\n",
    "        fig = plt.figure(figsize=(18,4),constrained_layout=True)\n",
    "        gs = GridSpec(1, 2,  width_ratios=[1,1],figure=fig)\n",
    "    \n",
    "        ax = fig.add_subplot(gs[0])\n",
    "        ax2 = fig.add_subplot(gs[1])\n",
    "       \n",
    "        leg=ax.get_legend()\n",
    "        leg2=ax2.get_legend()\n",
    "        \n",
    "        ax.errorbar(x=df_night_pwv_curve.dt_midnight, y=df_night_pwv_curve[\"PWV [mm]_x\"],yerr=df_night_pwv_curve[\"PWV [mm]_err_x\"],fmt=\"+\",color=\"r\",ecolor=\"k\",label=\"stat err\",ms=1)\n",
    "        df_night_pwv_curve_wp.plot(x=\"dt_midnight\",y=\"PWV [mm]_x\",c=\"cyan\",ax=ax,marker='o',lw=0.0,grid=True,legend=leg,label=\"polar\",ms=6,alpha=1)\n",
    "        df_night_pwv_curve_np_b.plot(x=\"dt_midnight\",y=\"PWV [mm]_x\",c=\"r\",ax=ax,marker='o',lw=0.0,grid=True,legend=leg,label=\"bright, no polar\",ms=6,alpha=1)\n",
    "        df_night_pwv_curve_np_f.plot(x=\"dt_midnight\",y=\"PWV [mm]_x\",c=\"g\",ax=ax,marker='o',lw=0.0,grid=True,legend=leg,label=\"faint, no polar\",ms=6,alpha=1)\n",
    "        ax.set_xlabel(\"hours since midnight\")\n",
    "        ax.set_ylim(0.,15.)\n",
    "        ax.set_ylabel(\"PWV (mm)\")\n",
    "        ax.legend(loc=\"upper right\")\n",
    "\n",
    "        ax.plot(xfit, y_ard,\"g-\",lw=3,label=\"ARDRegression\")\n",
    "        ax.fill_between(xfit, y_ard - 1.96 * y_ard_std,y_ard + 1.96 * y_ard_std,alpha=0.3,label=r\"95% CL\",facecolor='green')\n",
    "\n",
    "        #ax.plot(xfit2, y_brr,\"r-\",label=\"BayesianRidge\")\n",
    "        #ax.fill_between(xfit2, y_brr - 1.96 * y_brr_std,y_brr + 1.96 * y_brr_std,alpha=0.5,label=r\"95% CL\",facecolor='red')\n",
    "      \n",
    "       \n",
    "        ax.text(0.8, 0.5, str_list_of_targets, transform=ax.transAxes, fontsize=12,verticalalignment='top', bbox=props,alpha=0.5)\n",
    "        ax.set_title(f\"night {night}\")\n",
    "        ax.axvline(x=0,color=\"k\",lw=2)\n",
    "\n",
    "\n",
    "        inset_ax = inset_axes(ax,width=\"20%\", # width = 30% of parent_bbox\n",
    "                                          height=\"40%\", # height : 1 inch\n",
    "                                          loc=\"upper left\")\n",
    "        \n",
    "        #textstr_sigma = f\"$\\sigma = $\" +f\"{sigma:.2f} mm\"\n",
    "        inset_ax.hist(resy,bins=30,facecolor=\"b\")\n",
    "        inset_ax.set_xlabel(\"residuals (mm)\")\n",
    "        inset_ax.text(0.1, 0.9, textstr_sigma , transform=inset_ax.transAxes, fontsize=8,verticalalignment='top', bbox=props,alpha=1)\n",
    "\n",
    "\n",
    "\n",
    "        ## plot DCF\n",
    "   \n",
    "        xerr = df_dcf[[\"-sig(tau)\",\"+sig(tau)\"]].values.T/3600. \t\n",
    "        yerr = df_dcf[[\"-err(dcf)\",\"+err(dcf)\"]].values.T/3600.\t\n",
    "        xerr= xerr.clip(0)\n",
    "        yerr= yerr.clip(0)\n",
    "        \n",
    "        x = df_dcf[\"tau\"].values/3600.\n",
    "        y = df_dcf[\"dcf\"].values\n",
    "\n",
    "        all_T.append(x)\n",
    "        all_DCF.append(y)\n",
    "        \n",
    "        ax2.errorbar(x,y,xerr=xerr,yerr=yerr,marker='o', mfc='red',linewidth=0.5,\n",
    "        mec='red', ms=2, mew=2,ecolor=\"k\",elinewidth=2,capsize=2,uplims=True, lolims=True)\n",
    "        ax2.grid()\n",
    "        ax2.set_ylim(-1,1)\n",
    "        ax2.set_title(f\"Discrete covariance function night {night}\")\n",
    "        ax2.set_xlabel(\"Time (hours)\")\n",
    "        ax2.set_ylabel(\"DCF (no units)\")\n",
    "\n",
    "\n",
    "        all_figs_to_pdf.append(fig) \n",
    "        \n",
    "        plt.tight_layout()\n",
    "        figname =f\"{pathfigs}/pwvdcf_per_night_{night}\"+figtype\n",
    "        plt.savefig(figname)\n",
    "        plt.show()\n"
   ]
  },
  {
   "cell_type": "markdown",
   "id": "f4753902-63ac-4a04-b123-5017262b8359",
   "metadata": {},
   "source": [
    "## Summary over all DCF\n",
    "\n",
    "- colors : https://r02b.github.io/seaborn_palettes/"
   ]
  },
  {
   "cell_type": "code",
   "execution_count": null,
   "id": "ec380b51-cfa0-49af-8106-35b874788046",
   "metadata": {},
   "outputs": [],
   "source": [
    "import seaborn as sns"
   ]
  },
  {
   "cell_type": "code",
   "execution_count": null,
   "id": "693495af-c5e3-4a81-85e3-2470a1c75c49",
   "metadata": {},
   "outputs": [],
   "source": [
    "NNt = len(all_T)\n",
    "NNd = len(all_DCF)\n",
    "assert NNt == NNd"
   ]
  },
  {
   "cell_type": "code",
   "execution_count": null,
   "id": "264b5380-0b25-4d30-9018-e8324f238b92",
   "metadata": {},
   "outputs": [],
   "source": [
    "NNt"
   ]
  },
  {
   "cell_type": "code",
   "execution_count": null,
   "id": "f326a030-6ba9-43e5-ad92-2d6bedabdf88",
   "metadata": {},
   "outputs": [],
   "source": [
    "palette = sns.color_palette(\"bright\",NNt)"
   ]
  },
  {
   "cell_type": "code",
   "execution_count": null,
   "id": "806e5782-3a57-4243-9428-be277c8db3ba",
   "metadata": {},
   "outputs": [],
   "source": [
    "palette"
   ]
  },
  {
   "cell_type": "code",
   "execution_count": null,
   "id": "e3c49001-080a-4f5e-bc73-8760dcad4350",
   "metadata": {},
   "outputs": [],
   "source": [
    "palette[1]"
   ]
  },
  {
   "cell_type": "code",
   "execution_count": null,
   "id": "62b12c8a-84f9-4099-addf-4d415152f119",
   "metadata": {},
   "outputs": [],
   "source": [
    "fig,ax = plt.subplots(1,1,figsize=(10,6))\n",
    "for idx in range(NNt):\n",
    "    x = all_T[idx]\n",
    "    y = all_DCF[idx]\n",
    "    ax.plot(x,y,marker= 'o',color=palette[idx],lw=2)\n",
    "ax.grid()\n",
    "ax.set_xscale(\"log\")\n",
    "ax.set_title(\"Discrete covariance function for all nights\")\n",
    "ax.set_xlabel(\"Time (hours)\")\n",
    "ax.set_ylabel(\"DCF (no units)\")"
   ]
  },
  {
   "cell_type": "code",
   "execution_count": null,
   "id": "13643538-8357-4352-9c89-fb4dcef8b321",
   "metadata": {},
   "outputs": [],
   "source": [
    "all_T_flat = np.concatenate(all_T)\n",
    "all_DCF_flat = np.concatenate(all_DCF)"
   ]
  },
  {
   "cell_type": "code",
   "execution_count": null,
   "id": "4f13a46b-dea7-48b8-98b4-0c184c0d1d7e",
   "metadata": {},
   "outputs": [],
   "source": [
    "fig,ax = plt.subplots(1,1,figsize=(8,5))\n",
    "\n",
    "ax.hist2d(all_T_flat,np.abs(all_DCF_flat),bins=(50,50),range=((0,2),(0,1)),cmap=\"YlOrRd\")\n",
    "ax.grid()\n",
    "ax.set_xlabel(\"$\\Delta t/1hour)$\")\n",
    "ax.set_ylabel(\"$DCF$\")\n",
    "ax.set_title(\"Auto correlation function\")\n",
    "all_figs_to_pdf.append(fig)\n",
    "plt.show()"
   ]
  },
  {
   "cell_type": "code",
   "execution_count": null,
   "id": "f3890e8b-984c-4728-abf8-992f07d3a9dd",
   "metadata": {},
   "outputs": [],
   "source": [
    "index_sel = np.where(all_T_flat > 0 )[0]\n",
    "all_T_flat = all_T_flat[index_sel]\n",
    "all_DCF_flat = all_DCF_flat[index_sel]"
   ]
  },
  {
   "cell_type": "code",
   "execution_count": null,
   "id": "98c41973-e6ca-4aab-aea0-0112fe35329f",
   "metadata": {},
   "outputs": [],
   "source": [
    "fig,ax = plt.subplots(1,1,figsize=(8,5))\n",
    "\n",
    "ax.hist2d(np.log10(all_T_flat),np.abs(all_DCF_flat),bins=(50,50),range=((-2,1),(0,1)),cmap=\"YlOrRd\")\n",
    "ax.grid()\n",
    "ax.set_xlabel(\"$\\log_{10}(\\Delta t/1hour)$\")\n",
    "ax.set_ylabel(\"$DCF$\")\n",
    "ax.set_title(\"Auto correlation function\")\n",
    "all_figs_to_pdf.append(fig)\n",
    "plt.show()"
   ]
  },
  {
   "cell_type": "markdown",
   "id": "97fba6df-38b1-4082-9b0c-3a3ab8551d52",
   "metadata": {},
   "source": [
    "## Save all figs in a pdf file"
   ]
  },
  {
   "cell_type": "code",
   "execution_count": null,
   "id": "6d4dc091-ac5c-493d-9c24-2838c9d76101",
   "metadata": {},
   "outputs": [],
   "source": [
    "from matplotlib.backends.backend_pdf import PdfPages\n",
    "pdf_filename = f\"holo_PWV_night_fitvariation_polydeg_{POLY_DEGREE_MAX}_timecorrelationDCF_tight.pdf\"\n",
    "pdf_fullfilename = os.path.join(pathfigs,pdf_filename)\n",
    "with PdfPages(pdf_fullfilename) as pdf:\n",
    "    for fig in all_figs_to_pdf:\n",
    "        pdf.savefig(fig, bbox_inches='tight') "
   ]
  },
  {
   "cell_type": "code",
   "execution_count": null,
   "id": "179ea176-2e40-4e39-b364-84fa7545b5fb",
   "metadata": {},
   "outputs": [],
   "source": [
    "pdf_filename = f\"holo_PWV_night_fitvariation_polydeg_{POLY_DEGREE_MAX}_timecorrelationDCF_notight.pdf\"\n",
    "pdf_fullfilename = os.path.join(pathfigs,pdf_filename)\n",
    "with PdfPages(pdf_fullfilename) as pdf:\n",
    "    for fig in all_figs_to_pdf:\n",
    "        pdf.savefig(fig) "
   ]
  },
  {
   "cell_type": "markdown",
   "id": "684f9399-97ca-46c5-923d-bfe29488c00c",
   "metadata": {},
   "source": [
    "## Compute Discrete Correlation Function for all pais"
   ]
  },
  {
   "cell_type": "code",
   "execution_count": null,
   "id": "1091dceb-57cf-4113-b50d-e5d07bb2097b",
   "metadata": {},
   "outputs": [],
   "source": [
    "def ComputeZDCFForAllPairs(night,df_night_pwv_curve):\n",
    "    \"\"\"\n",
    "    Compute the Discrete Covariance Curve with pyzdcf\n",
    "    \"\"\"\n",
    "    # convert to seconds\n",
    "    df_night_pwv_curve[\"t_sec_rel\"] = df_night_pwv_curve.dt_midnight*3600.0\n",
    "\n",
    "    # compute the time index (integer) in seconds\n",
    "    t_sec_rel_min = df_night_pwv_curve[\"t_sec_rel\"].min()\n",
    "    df_night_pwv_curve[\"t_sec_abs\"] = (df_night_pwv_curve[\"t_sec_rel\"] - t_sec_rel_min).astype(int)\n",
    "\n",
    "    # create the curve in the required format\n",
    "    df_pwvc = df_night_pwv_curve[[\"t_sec_abs\",\"PWV [mm]_x\"]]\n",
    "\n",
    "    # add the error on the point \n",
    "    df_pwvc = df_pwvc.assign(sig_pwv = lambda x: sigma_repeatability)\n",
    "\n",
    "    # save the pwv curve in a file\n",
    "    fn = f\"pwv_curve_{night}.csv\"\n",
    "    ffn = os.path.join(datapath_input,fn)\n",
    "    df_pwvc.to_csv(ffn, index=False,header=False)\n",
    "\n",
    "    # parameters for the pyzdcf\n",
    "    params_dcf = dict(autocf    =  True, # Autocorrelation (T) or cross-correlation (F)\n",
    "              prefix            = 'acf',  # Output files prefix\n",
    "              uniform_sampling  =  False, # Uniform sampling?\n",
    "              omit_zero_lags    =  False,  # Omit zero lag points?\n",
    "              minpts            =  20,     # Min. num. of points per bin (0 is a flag for default value of 11)\n",
    "              num_MC            =  100,   # Num. of Monte Carlo simulations for error estimation\n",
    "              lc1_name          =  fn,   # Name of the first light curve file\n",
    "              lc2_name          =  fn    # Name of the second light curve file (required only if we do CCF)\n",
    "             )\n",
    "\n",
    "    # compute the ZDCF\n",
    "    dcf_df = pyzdcf(input_dir  = datapath_input+\"/\" , \n",
    "                    output_dir = datapath_output+\"/\", \n",
    "                    intr       = False, \n",
    "                    parameters = params_dcf, \n",
    "                    sep        = ',', \n",
    "                    sparse     = 'auto', \n",
    "                    verbose    = False)\n",
    "    return dcf_df"
   ]
  },
  {
   "cell_type": "code",
   "execution_count": null,
   "id": "2779f04d-c4cc-45f6-b0c6-2a1517941075",
   "metadata": {},
   "outputs": [],
   "source": []
  },
  {
   "cell_type": "code",
   "execution_count": null,
   "id": "402b1cbe-be2b-44e0-84ab-cdd7368ea6e4",
   "metadata": {},
   "outputs": [],
   "source": []
  }
 ],
 "metadata": {
  "kernelspec": {
   "display_name": "conda_py311",
   "language": "python",
   "name": "conda_py311"
  },
  "language_info": {
   "codemirror_mode": {
    "name": "ipython",
    "version": 3
   },
   "file_extension": ".py",
   "mimetype": "text/x-python",
   "name": "python",
   "nbconvert_exporter": "python",
   "pygments_lexer": "ipython3",
   "version": "3.11.11"
  }
 },
 "nbformat": 4,
 "nbformat_minor": 5
}
