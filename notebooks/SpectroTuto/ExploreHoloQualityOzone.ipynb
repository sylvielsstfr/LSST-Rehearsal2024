{
 "cells": [
  {
   "cell_type": "markdown",
   "id": "45bf4242-bfc5-4d43-88c4-a8059ae148df",
   "metadata": {},
   "source": [
    "# Explore hologram data  quality on Hologram For Ozone"
   ]
  },
  {
   "cell_type": "markdown",
   "id": "01993b6e-6438-4fca-a5d5-1f9791336847",
   "metadata": {},
   "source": [
    "- author Sylvie Dagoret-Campagne\n",
    "- creation date 2024-09-19\n",
    "- last update : 2024-09-25\n",
    "- affiliation : IJCLab\n",
    "- Kernel @usdf **w_2024_37**\n",
    "- Office emac : mamba_py311\n",
    "- Home emac : base (conda)\n",
    "- laptop : conda_py310\n"
   ]
  },
  {
   "cell_type": "code",
   "execution_count": null,
   "id": "63a2b2ef-0bc2-45eb-91d9-87835d264751",
   "metadata": {
    "execution": {
     "iopub.execute_input": "2024-09-25T11:03:05.220957Z",
     "iopub.status.busy": "2024-09-25T11:03:05.220830Z",
     "iopub.status.idle": "2024-09-25T11:03:05.429430Z",
     "shell.execute_reply": "2024-09-25T11:03:05.428917Z",
     "shell.execute_reply.started": "2024-09-25T11:03:05.220942Z"
    },
    "tags": []
   },
   "outputs": [],
   "source": [
    "!ls"
   ]
  },
  {
   "cell_type": "code",
   "execution_count": null,
   "id": "dcc53afe-c58f-4948-92c9-0090d373ad2a",
   "metadata": {
    "execution": {
     "iopub.execute_input": "2024-09-25T11:03:05.430275Z",
     "iopub.status.busy": "2024-09-25T11:03:05.430105Z",
     "iopub.status.idle": "2024-09-25T11:03:05.432686Z",
     "shell.execute_reply": "2024-09-25T11:03:05.432321Z",
     "shell.execute_reply.started": "2024-09-25T11:03:05.430259Z"
    }
   },
   "outputs": [],
   "source": [
    "import warnings\n",
    "warnings.resetwarnings()\n",
    "warnings.simplefilter('ignore')"
   ]
  },
  {
   "cell_type": "code",
   "execution_count": null,
   "id": "8026d265-2493-4045-afec-26205ff71f7c",
   "metadata": {
    "execution": {
     "iopub.execute_input": "2024-09-25T11:03:05.433321Z",
     "iopub.status.busy": "2024-09-25T11:03:05.433199Z",
     "iopub.status.idle": "2024-09-25T11:03:05.439078Z",
     "shell.execute_reply": "2024-09-25T11:03:05.438683Z",
     "shell.execute_reply.started": "2024-09-25T11:03:05.433309Z"
    },
    "tags": []
   },
   "outputs": [],
   "source": [
    "from platform import python_version\n",
    "print(python_version())"
   ]
  },
  {
   "cell_type": "code",
   "execution_count": null,
   "id": "eb1f116e-80e3-46ad-a7db-7f253632e5ca",
   "metadata": {
    "execution": {
     "iopub.execute_input": "2024-09-25T11:03:05.440902Z",
     "iopub.status.busy": "2024-09-25T11:03:05.440634Z",
     "iopub.status.idle": "2024-09-25T11:03:05.443548Z",
     "shell.execute_reply": "2024-09-25T11:03:05.443137Z",
     "shell.execute_reply.started": "2024-09-25T11:03:05.440889Z"
    }
   },
   "outputs": [],
   "source": [
    "import os"
   ]
  },
  {
   "cell_type": "code",
   "execution_count": null,
   "id": "3ec760cd-3d3f-4a34-a6f6-b226fe500951",
   "metadata": {
    "execution": {
     "iopub.execute_input": "2024-09-25T11:03:05.444262Z",
     "iopub.status.busy": "2024-09-25T11:03:05.444126Z",
     "iopub.status.idle": "2024-09-25T11:03:05.453457Z",
     "shell.execute_reply": "2024-09-25T11:03:05.453022Z",
     "shell.execute_reply.started": "2024-09-25T11:03:05.444250Z"
    }
   },
   "outputs": [],
   "source": [
    "# where are stored the figures\n",
    "pathfigs = \"figsOzone\"\n",
    "if not os.path.exists(pathfigs):\n",
    "    os.makedirs(pathfigs) "
   ]
  },
  {
   "cell_type": "code",
   "execution_count": null,
   "id": "bf752b70-e6ca-4cbf-8e8c-20bf7f0d8f61",
   "metadata": {
    "execution": {
     "iopub.execute_input": "2024-09-25T11:03:05.454101Z",
     "iopub.status.busy": "2024-09-25T11:03:05.453980Z",
     "iopub.status.idle": "2024-09-25T11:03:06.377780Z",
     "shell.execute_reply": "2024-09-25T11:03:06.377355Z",
     "shell.execute_reply.started": "2024-09-25T11:03:05.454090Z"
    }
   },
   "outputs": [],
   "source": [
    "import numpy as np\n",
    "from numpy.linalg import inv\n",
    "import matplotlib as mpl\n",
    "import matplotlib.pyplot as plt\n",
    "%matplotlib inline\n",
    "from mpl_toolkits.axes_grid1 import make_axes_locatable\n",
    "from matplotlib.colors import LogNorm,SymLogNorm\n",
    "from matplotlib.patches import Circle,Annulus\n",
    "from astropy.visualization import ZScaleInterval\n",
    "props = dict(boxstyle='round', facecolor=\"white\", alpha=0.1)\n",
    "#props = dict(boxstyle='round')\n",
    "\n",
    "import matplotlib.colors as colors\n",
    "import matplotlib.cm as cmx\n",
    "\n",
    "import matplotlib.ticker                         # here's where the formatter is\n",
    "from matplotlib.ticker import (MultipleLocator, FormatStrFormatter,\n",
    "                               AutoMinorLocator)\n",
    "\n",
    "from matplotlib.gridspec import GridSpec\n",
    "\n",
    "from astropy.visualization import (MinMaxInterval, SqrtStretch,ZScaleInterval,PercentileInterval,\n",
    "                                   ImageNormalize,imshow_norm)\n",
    "from astropy.visualization.stretch import SinhStretch, LinearStretch,AsinhStretch,LogStretch\n",
    "\n",
    "from astropy.io import fits\n",
    "from astropy.wcs import WCS\n",
    "from astropy import units as u\n",
    "from astropy import constants as c\n",
    "\n",
    "from scipy import interpolate\n",
    "from sklearn.neighbors import NearestNeighbors\n",
    "from sklearn.neighbors import KDTree, BallTree\n",
    "\n",
    "import pandas as pd\n",
    "pd.set_option(\"display.max_columns\", None)\n",
    "pd.set_option('display.max_rows', 100)\n",
    "\n",
    "import matplotlib.ticker                         # here's where the formatter is\n",
    "import os\n",
    "import re\n",
    "import pandas as pd\n",
    "import pickle\n",
    "from collections import OrderedDict\n",
    "\n",
    "plt.rcParams[\"figure.figsize\"] = (4,3)\n",
    "plt.rcParams[\"axes.labelsize\"] = 'xx-large'\n",
    "plt.rcParams['axes.titlesize'] = 'xx-large'\n",
    "plt.rcParams['xtick.labelsize']= 'xx-large'\n",
    "plt.rcParams['ytick.labelsize']= 'xx-large'\n",
    "\n",
    "import scipy\n",
    "from scipy.optimize import curve_fit,least_squares\n",
    "\n",
    "\n",
    "# new color correction model\n",
    "import pickle\n",
    "from scipy.interpolate import RegularGridInterpolator"
   ]
  },
  {
   "cell_type": "code",
   "execution_count": null,
   "id": "0ca0d1e6-5f82-4c43-aaa3-8524fc2bc5ba",
   "metadata": {
    "execution": {
     "iopub.execute_input": "2024-09-25T11:03:06.378686Z",
     "iopub.status.busy": "2024-09-25T11:03:06.378423Z",
     "iopub.status.idle": "2024-09-25T11:03:06.381258Z",
     "shell.execute_reply": "2024-09-25T11:03:06.380919Z",
     "shell.execute_reply.started": "2024-09-25T11:03:06.378672Z"
    }
   },
   "outputs": [],
   "source": [
    "from matplotlib.ticker import (MultipleLocator, FormatStrFormatter,\n",
    "                               AutoMinorLocator)\n",
    "\n",
    "from astropy.visualization import (MinMaxInterval, SqrtStretch,ZScaleInterval,PercentileInterval,\n",
    "                                   ImageNormalize,imshow_norm)\n",
    "from astropy.visualization.stretch import SinhStretch, LinearStretch,AsinhStretch,LogStretch\n",
    "\n",
    "from astropy.time import Time\n"
   ]
  },
  {
   "cell_type": "code",
   "execution_count": null,
   "id": "e189816c-5048-43ab-a01a-7c078af54489",
   "metadata": {
    "execution": {
     "iopub.execute_input": "2024-09-25T11:03:06.381855Z",
     "iopub.status.busy": "2024-09-25T11:03:06.381733Z",
     "iopub.status.idle": "2024-09-25T11:03:06.385153Z",
     "shell.execute_reply": "2024-09-25T11:03:06.384811Z",
     "shell.execute_reply.started": "2024-09-25T11:03:06.381843Z"
    }
   },
   "outputs": [],
   "source": [
    "# Remove this if want to run faster the ntoebook\n",
    "# import ipywidgets as widgets\n",
    "# %matplotlib widget"
   ]
  },
  {
   "cell_type": "code",
   "execution_count": null,
   "id": "67327fd4-e405-45ce-8923-cd46ebaa0c0f",
   "metadata": {
    "execution": {
     "iopub.execute_input": "2024-09-25T11:03:06.385689Z",
     "iopub.status.busy": "2024-09-25T11:03:06.385577Z",
     "iopub.status.idle": "2024-09-25T11:03:06.389381Z",
     "shell.execute_reply": "2024-09-25T11:03:06.389051Z",
     "shell.execute_reply.started": "2024-09-25T11:03:06.385678Z"
    },
    "tags": []
   },
   "outputs": [],
   "source": [
    "from importlib.metadata import version"
   ]
  },
  {
   "cell_type": "code",
   "execution_count": null,
   "id": "af8332dd-24f9-4b19-88f9-c62d0a4aebf1",
   "metadata": {
    "execution": {
     "iopub.execute_input": "2024-09-25T11:03:06.389953Z",
     "iopub.status.busy": "2024-09-25T11:03:06.389840Z",
     "iopub.status.idle": "2024-09-25T11:03:06.393101Z",
     "shell.execute_reply": "2024-09-25T11:03:06.392771Z",
     "shell.execute_reply.started": "2024-09-25T11:03:06.389942Z"
    },
    "tags": []
   },
   "outputs": [],
   "source": [
    "# wavelength bin colors\n",
    "#jet = plt.get_cmap('jet')\n",
    "#cNorm = mpl.colors.Normalize(vmin=0, vmax=NSED)\n",
    "#scalarMap = cmx.ScalarMappable(norm=cNorm, cmap=jet)\n",
    "#all_colors = scalarMap.to_rgba(np.arange(NSED), alpha=1)"
   ]
  },
  {
   "cell_type": "markdown",
   "id": "4f13d6a3-7793-4bc0-920a-1d690d9f84b2",
   "metadata": {},
   "source": [
    "### Spectroscopy"
   ]
  },
  {
   "cell_type": "code",
   "execution_count": null,
   "id": "5bac0cab-3886-4683-b1c8-fc59edacfd46",
   "metadata": {
    "execution": {
     "iopub.execute_input": "2024-09-25T11:03:06.393683Z",
     "iopub.status.busy": "2024-09-25T11:03:06.393570Z",
     "iopub.status.idle": "2024-09-25T11:03:06.397248Z",
     "shell.execute_reply": "2024-09-25T11:03:06.396920Z",
     "shell.execute_reply.started": "2024-09-25T11:03:06.393672Z"
    },
    "tags": []
   },
   "outputs": [],
   "source": [
    "version_results = \"v3\""
   ]
  },
  {
   "cell_type": "code",
   "execution_count": null,
   "id": "a2a9c11f-05b8-4465-b96a-3f18d81572f0",
   "metadata": {
    "execution": {
     "iopub.execute_input": "2024-09-25T11:03:06.397845Z",
     "iopub.status.busy": "2024-09-25T11:03:06.397728Z",
     "iopub.status.idle": "2024-09-25T11:03:06.400374Z",
     "shell.execute_reply": "2024-09-25T11:03:06.400032Z",
     "shell.execute_reply.started": "2024-09-25T11:03:06.397834Z"
    }
   },
   "outputs": [],
   "source": [
    "if version_results == \"\":\n",
    "    atmfilename = \"data/spectro/auxtel_atmosphere_202301_v3.1.0_doSensorFlat_rebin2_testWithMaskedEdges_newBoundaries_newPolysRescaled_newFitBounds_adjustA1_lockedOrder2_removeThroughputTails_2.npy\"\n",
    "elif version_results == \"v2\":\n",
    "    atmfilename = \"auxtel_atmosphere_202301_v3.1.0_doSensorFlat_rebin2_lockedOrder2_FixA1_FixA2_FitAngstrom_FixA1_FixA2_FitAngstrom_WithGaia_freePressure_newThroughput6_BG40Scaled1.09_PeekFinder.npy\"\n",
    "elif version_results == \"v3\":\n",
    "    atmfilename = \"u_dagoret_auxtel_atmosphere_202301_v3.1.0_doSensorFlat_rebin2_lockedOrder2_FixA1_FixA2_FitAngstrom_WithGaia_freePressure_newThroughput6_BG40Scaled1.09_AtmoFitPressureA2_SpecErr_PeekFinder_20240924T161119Z.npy\""
   ]
  },
  {
   "cell_type": "code",
   "execution_count": null,
   "id": "ad60336b-f26f-4184-bcdf-e596329ecbbd",
   "metadata": {
    "execution": {
     "iopub.execute_input": "2024-09-25T11:03:06.400897Z",
     "iopub.status.busy": "2024-09-25T11:03:06.400785Z",
     "iopub.status.idle": "2024-09-25T11:03:06.576190Z",
     "shell.execute_reply": "2024-09-25T11:03:06.575730Z",
     "shell.execute_reply.started": "2024-09-25T11:03:06.400886Z"
    }
   },
   "outputs": [],
   "source": [
    "specdata = np.load(atmfilename,allow_pickle=True)"
   ]
  },
  {
   "cell_type": "code",
   "execution_count": null,
   "id": "3d9c7249-f818-4a98-8000-9be75b3c7a21",
   "metadata": {
    "execution": {
     "iopub.execute_input": "2024-09-25T11:03:06.576911Z",
     "iopub.status.busy": "2024-09-25T11:03:06.576785Z",
     "iopub.status.idle": "2024-09-25T11:03:06.780505Z",
     "shell.execute_reply": "2024-09-25T11:03:06.780034Z",
     "shell.execute_reply.started": "2024-09-25T11:03:06.576900Z"
    }
   },
   "outputs": [],
   "source": [
    "df_spec = pd.DataFrame(specdata)\n",
    "df_spec"
   ]
  },
  {
   "cell_type": "code",
   "execution_count": null,
   "id": "4de5d570-2e92-468b-ab07-63fffd8d2b8c",
   "metadata": {
    "execution": {
     "iopub.execute_input": "2024-09-25T11:03:06.781275Z",
     "iopub.status.busy": "2024-09-25T11:03:06.781145Z",
     "iopub.status.idle": "2024-09-25T11:03:06.816220Z",
     "shell.execute_reply": "2024-09-25T11:03:06.815745Z",
     "shell.execute_reply.started": "2024-09-25T11:03:06.781263Z"
    }
   },
   "outputs": [],
   "source": [
    "#subtract the a bug number to have normal dates\n",
    "df_spec[\"nightObs\"] = df_spec.apply(lambda x: x['id']//100_000, axis=1)\n",
    "df_spec[\"nightObs\"]"
   ]
  },
  {
   "cell_type": "code",
   "execution_count": null,
   "id": "49c29905-817c-4fe8-ae2e-93351e765333",
   "metadata": {
    "execution": {
     "iopub.execute_input": "2024-09-25T11:03:06.816965Z",
     "iopub.status.busy": "2024-09-25T11:03:06.816837Z",
     "iopub.status.idle": "2024-09-25T11:03:06.819827Z",
     "shell.execute_reply": "2024-09-25T11:03:06.819397Z",
     "shell.execute_reply.started": "2024-09-25T11:03:06.816953Z"
    },
    "tags": []
   },
   "outputs": [],
   "source": [
    "ser_spec_size = df_spec.groupby([\"nightObs\"]).size()"
   ]
  },
  {
   "cell_type": "code",
   "execution_count": null,
   "id": "2d28a054-60f8-4186-ac4d-b848f3174654",
   "metadata": {
    "execution": {
     "iopub.execute_input": "2024-09-25T11:03:06.820456Z",
     "iopub.status.busy": "2024-09-25T11:03:06.820337Z",
     "iopub.status.idle": "2024-09-25T11:03:06.823801Z",
     "shell.execute_reply": "2024-09-25T11:03:06.823414Z",
     "shell.execute_reply.started": "2024-09-25T11:03:06.820444Z"
    },
    "tags": []
   },
   "outputs": [],
   "source": [
    "ser_spec_size"
   ]
  },
  {
   "cell_type": "code",
   "execution_count": null,
   "id": "ae092421-5d4c-4e58-a51d-b5de2be68910",
   "metadata": {
    "execution": {
     "iopub.execute_input": "2024-09-25T11:03:06.824417Z",
     "iopub.status.busy": "2024-09-25T11:03:06.824299Z",
     "iopub.status.idle": "2024-09-25T11:03:06.831867Z",
     "shell.execute_reply": "2024-09-25T11:03:06.831418Z",
     "shell.execute_reply.started": "2024-09-25T11:03:06.824406Z"
    }
   },
   "outputs": [],
   "source": [
    "type(ser_spec_size)"
   ]
  },
  {
   "cell_type": "code",
   "execution_count": null,
   "id": "6ce22f7e-bf6b-470a-af72-325d4a0077ab",
   "metadata": {
    "execution": {
     "iopub.execute_input": "2024-09-25T11:03:06.834705Z",
     "iopub.status.busy": "2024-09-25T11:03:06.834573Z",
     "iopub.status.idle": "2024-09-25T11:03:06.938172Z",
     "shell.execute_reply": "2024-09-25T11:03:06.937713Z",
     "shell.execute_reply.started": "2024-09-25T11:03:06.834693Z"
    }
   },
   "outputs": [],
   "source": [
    "fig,ax = plt.subplots(1,1)\n",
    "ax.hist(ser_spec_size.values,bins=50,facecolor=\"b\")\n",
    "ax.set_title(\"nb obs per night\")\n",
    "ax.set_xlabel(\"Nobs/night\")"
   ]
  },
  {
   "cell_type": "code",
   "execution_count": null,
   "id": "bddf3d03-3ef8-4e71-93f0-a60f14f673fd",
   "metadata": {
    "execution": {
     "iopub.execute_input": "2024-09-25T11:03:06.938925Z",
     "iopub.status.busy": "2024-09-25T11:03:06.938786Z",
     "iopub.status.idle": "2024-09-25T11:03:07.024022Z",
     "shell.execute_reply": "2024-09-25T11:03:07.023624Z",
     "shell.execute_reply.started": "2024-09-25T11:03:06.938912Z"
    }
   },
   "outputs": [],
   "source": [
    "df_spec"
   ]
  },
  {
   "cell_type": "code",
   "execution_count": null,
   "id": "faff0c81-88d9-466b-808c-801800256275",
   "metadata": {
    "execution": {
     "iopub.execute_input": "2024-09-25T11:03:07.024693Z",
     "iopub.status.busy": "2024-09-25T11:03:07.024569Z",
     "iopub.status.idle": "2024-09-25T11:03:07.035912Z",
     "shell.execute_reply": "2024-09-25T11:03:07.035542Z",
     "shell.execute_reply.started": "2024-09-25T11:03:07.024680Z"
    },
    "tags": []
   },
   "outputs": [],
   "source": [
    "ser_CHI2_FIT = df_spec[[\"CHI2_FIT\",\"nightObs\"]].groupby([\"nightObs\"]).agg(['count','min', 'max','mean','std','median'])\n",
    "ser_O3 = df_spec[[\"ozone [db]_x\",\"nightObs\"]].groupby([\"nightObs\"]).agg(['count','min', 'max','mean','std','median'])\n",
    "ser_O3_CHI2_FIT = df_spec[[\"ozone [db]_x\",\"CHI2_FIT\",\"nightObs\"]].groupby([\"nightObs\"]).agg(['count','min', 'max','mean','std','median'])"
   ]
  },
  {
   "cell_type": "code",
   "execution_count": null,
   "id": "e26f48e9-02dd-4cdd-abf1-11fc5d0ccd0d",
   "metadata": {
    "execution": {
     "iopub.execute_input": "2024-09-25T11:03:07.036468Z",
     "iopub.status.busy": "2024-09-25T11:03:07.036350Z",
     "iopub.status.idle": "2024-09-25T11:03:07.044385Z",
     "shell.execute_reply": "2024-09-25T11:03:07.043917Z",
     "shell.execute_reply.started": "2024-09-25T11:03:07.036457Z"
    }
   },
   "outputs": [],
   "source": [
    "ser_O3"
   ]
  },
  {
   "cell_type": "code",
   "execution_count": null,
   "id": "31cd0a79-1b0b-4af3-8f7f-eb01342048ca",
   "metadata": {
    "execution": {
     "iopub.execute_input": "2024-09-25T11:03:07.044993Z",
     "iopub.status.busy": "2024-09-25T11:03:07.044876Z",
     "iopub.status.idle": "2024-09-25T11:03:07.052225Z",
     "shell.execute_reply": "2024-09-25T11:03:07.051845Z",
     "shell.execute_reply.started": "2024-09-25T11:03:07.044982Z"
    },
    "tags": []
   },
   "outputs": [],
   "source": [
    "ser_CHI2_FIT"
   ]
  },
  {
   "cell_type": "code",
   "execution_count": null,
   "id": "3429f0df-af66-4c8b-9e1f-ca934fc2dc13",
   "metadata": {
    "execution": {
     "iopub.execute_input": "2024-09-25T11:03:07.052737Z",
     "iopub.status.busy": "2024-09-25T11:03:07.052625Z",
     "iopub.status.idle": "2024-09-25T11:03:07.066074Z",
     "shell.execute_reply": "2024-09-25T11:03:07.065664Z",
     "shell.execute_reply.started": "2024-09-25T11:03:07.052726Z"
    },
    "tags": []
   },
   "outputs": [],
   "source": [
    "ser_O3_CHI2_FIT "
   ]
  },
  {
   "cell_type": "markdown",
   "id": "d7c4cd36-ab87-41c0-a25a-e48cb8bee9e7",
   "metadata": {},
   "source": [
    "### Plot Ozone and Chi2 before anly selection"
   ]
  },
  {
   "cell_type": "code",
   "execution_count": null,
   "id": "80317b40-62e1-4b9d-9411-ddca229fa9aa",
   "metadata": {
    "execution": {
     "iopub.execute_input": "2024-09-25T11:03:07.066685Z",
     "iopub.status.busy": "2024-09-25T11:03:07.066561Z",
     "iopub.status.idle": "2024-09-25T11:03:07.742156Z",
     "shell.execute_reply": "2024-09-25T11:03:07.741826Z",
     "shell.execute_reply.started": "2024-09-25T11:03:07.066674Z"
    },
    "tags": []
   },
   "outputs": [],
   "source": [
    "fig,ax = plt.subplots(1,1,figsize=(18,3))\n",
    "ser_O3.unstack()[\"ozone [db]_x\"][\"count\"].plot(kind='bar', ax=ax,subplots=False, rot=90,figsize=(18,4),facecolor=\"b\",grid=True,title=\"Number of measurements per night\")\n",
    "plt.tight_layout()"
   ]
  },
  {
   "cell_type": "code",
   "execution_count": null,
   "id": "c8bfe4d6-fe88-4187-be0f-29be89a45523",
   "metadata": {
    "execution": {
     "iopub.execute_input": "2024-09-25T11:03:07.742905Z",
     "iopub.status.busy": "2024-09-25T11:03:07.742669Z",
     "iopub.status.idle": "2024-09-25T11:03:08.405673Z",
     "shell.execute_reply": "2024-09-25T11:03:08.405209Z",
     "shell.execute_reply.started": "2024-09-25T11:03:07.742891Z"
    },
    "tags": []
   },
   "outputs": [],
   "source": [
    "fig,ax = plt.subplots(1,1,figsize=(18,3))\n",
    "ser_O3.unstack()[\"ozone [db]_x\"][\"mean\"].plot(kind='bar',ax=ax ,subplots=False, rot=90,figsize=(18,4),facecolor='b',grid=True,title=\"Mean Ozone per night\")\n",
    "plt.tight_layout()"
   ]
  },
  {
   "cell_type": "code",
   "execution_count": null,
   "id": "e3e93140-4e76-41ec-8670-2043771a7e00",
   "metadata": {
    "execution": {
     "iopub.execute_input": "2024-09-25T11:03:08.406367Z",
     "iopub.status.busy": "2024-09-25T11:03:08.406225Z",
     "iopub.status.idle": "2024-09-25T11:03:09.154207Z",
     "shell.execute_reply": "2024-09-25T11:03:09.153830Z",
     "shell.execute_reply.started": "2024-09-25T11:03:08.406354Z"
    },
    "tags": []
   },
   "outputs": [],
   "source": [
    "fig,ax = plt.subplots(1,1,figsize=(18,3))\n",
    "ser_O3.unstack()[\"ozone [db]_x\"][\"median\"].plot(kind='bar',ax=ax ,subplots=False, rot=90,figsize=(18,4),facecolor='b',grid=True,title=\"Median Ozone per night\")\n",
    "plt.tight_layout()"
   ]
  },
  {
   "cell_type": "code",
   "execution_count": null,
   "id": "67e69917-efb7-40f3-9a4c-1b9d579e9cad",
   "metadata": {
    "execution": {
     "iopub.execute_input": "2024-09-25T11:03:09.154863Z",
     "iopub.status.busy": "2024-09-25T11:03:09.154729Z",
     "iopub.status.idle": "2024-09-25T11:03:09.805395Z",
     "shell.execute_reply": "2024-09-25T11:03:09.805062Z",
     "shell.execute_reply.started": "2024-09-25T11:03:09.154851Z"
    },
    "tags": []
   },
   "outputs": [],
   "source": [
    "fig,ax = plt.subplots(1,1,figsize=(18,3))\n",
    "ser_O3.unstack()[\"ozone [db]_x\"][\"std\"].plot(kind='bar', subplots=False, rot=90,figsize=(18,4),facecolor='b',grid=True,title=\"STD variation for Ozone per night\")\n",
    "plt.tight_layout()"
   ]
  },
  {
   "cell_type": "code",
   "execution_count": null,
   "id": "a20e0562-16d6-4e90-a167-0d858327d347",
   "metadata": {
    "execution": {
     "iopub.execute_input": "2024-09-25T11:03:09.806001Z",
     "iopub.status.busy": "2024-09-25T11:03:09.805878Z",
     "iopub.status.idle": "2024-09-25T11:03:10.457379Z",
     "shell.execute_reply": "2024-09-25T11:03:10.457049Z",
     "shell.execute_reply.started": "2024-09-25T11:03:09.805990Z"
    },
    "tags": []
   },
   "outputs": [],
   "source": [
    "fig,ax = plt.subplots(1,1,figsize=(18,3))\n",
    "ser_CHI2_FIT.unstack()[\"CHI2_FIT\"][\"count\"].plot(kind='bar', ax=ax,subplots=False, rot=90,figsize=(18,4),facecolor=\"r\",grid=True,title=\"Number of measurements per night\")\n",
    "plt.tight_layout()"
   ]
  },
  {
   "cell_type": "code",
   "execution_count": null,
   "id": "be19fd80-6fd1-41ad-ae5a-224b4655b51d",
   "metadata": {
    "execution": {
     "iopub.execute_input": "2024-09-25T11:03:10.458011Z",
     "iopub.status.busy": "2024-09-25T11:03:10.457877Z",
     "iopub.status.idle": "2024-09-25T11:03:11.233623Z",
     "shell.execute_reply": "2024-09-25T11:03:11.233246Z",
     "shell.execute_reply.started": "2024-09-25T11:03:10.457998Z"
    },
    "tags": []
   },
   "outputs": [],
   "source": [
    "fig,ax = plt.subplots(1,1,figsize=(18,3))\n",
    "ser_CHI2_FIT.unstack()[\"CHI2_FIT\"][\"mean\"].plot(kind='bar',ax=ax ,subplots=False, rot=90,figsize=(18,4),facecolor='r',grid=True,title=\"Mean CHI2 per night\")\n",
    "plt.tight_layout()"
   ]
  },
  {
   "cell_type": "code",
   "execution_count": null,
   "id": "6c7ff0b5-3c40-4921-9c2f-9455c51e99a5",
   "metadata": {
    "execution": {
     "iopub.execute_input": "2024-09-25T11:03:11.234371Z",
     "iopub.status.busy": "2024-09-25T11:03:11.234196Z",
     "iopub.status.idle": "2024-09-25T11:03:11.885005Z",
     "shell.execute_reply": "2024-09-25T11:03:11.884631Z",
     "shell.execute_reply.started": "2024-09-25T11:03:11.234359Z"
    },
    "tags": []
   },
   "outputs": [],
   "source": [
    "fig,ax = plt.subplots(1,1,figsize=(18,3))\n",
    "ser_CHI2_FIT.unstack()[\"CHI2_FIT\"][\"median\"].plot(kind='bar',ax=ax ,subplots=False, rot=90,figsize=(18,4),facecolor='r',grid=True,title=\"Median CHI2 per night\")\n",
    "plt.tight_layout()"
   ]
  },
  {
   "cell_type": "code",
   "execution_count": null,
   "id": "f1cefb7f-ed65-45a4-9f92-5655081afe10",
   "metadata": {
    "execution": {
     "iopub.execute_input": "2024-09-25T11:03:11.885745Z",
     "iopub.status.busy": "2024-09-25T11:03:11.885566Z",
     "iopub.status.idle": "2024-09-25T11:03:12.547236Z",
     "shell.execute_reply": "2024-09-25T11:03:12.546854Z",
     "shell.execute_reply.started": "2024-09-25T11:03:11.885732Z"
    },
    "tags": []
   },
   "outputs": [],
   "source": [
    "fig,ax = plt.subplots(1,1,figsize=(18,3))\n",
    "ser_CHI2_FIT.unstack()[\"CHI2_FIT\"][\"std\"].plot(kind='bar',ax=ax ,subplots=False, rot=90,figsize=(18,4),facecolor='r',grid=True,title=\"STD variation CHI2 per night\")\n",
    "plt.tight_layout()"
   ]
  },
  {
   "cell_type": "code",
   "execution_count": null,
   "id": "90ead6bb-6366-4927-beca-79f8fc1b4477",
   "metadata": {
    "execution": {
     "iopub.execute_input": "2024-09-25T11:03:12.547925Z",
     "iopub.status.busy": "2024-09-25T11:03:12.547792Z",
     "iopub.status.idle": "2024-09-25T11:03:12.558888Z",
     "shell.execute_reply": "2024-09-25T11:03:12.558556Z",
     "shell.execute_reply.started": "2024-09-25T11:03:12.547912Z"
    },
    "tags": []
   },
   "outputs": [],
   "source": [
    "ser_O3_CHI2_FIT "
   ]
  },
  {
   "cell_type": "code",
   "execution_count": null,
   "id": "702a26c1-4b22-4b1c-9f8b-ebd3f2de61a1",
   "metadata": {
    "execution": {
     "iopub.execute_input": "2024-09-25T11:03:12.559522Z",
     "iopub.status.busy": "2024-09-25T11:03:12.559396Z",
     "iopub.status.idle": "2024-09-25T11:03:12.564455Z",
     "shell.execute_reply": "2024-09-25T11:03:12.564091Z",
     "shell.execute_reply.started": "2024-09-25T11:03:12.559510Z"
    },
    "tags": []
   },
   "outputs": [],
   "source": [
    "ser_O3_CHI2_FIT.loc[20230117,:]"
   ]
  },
  {
   "cell_type": "code",
   "execution_count": null,
   "id": "c463654d-ce69-48fb-b14d-0d466258f917",
   "metadata": {
    "execution": {
     "iopub.execute_input": "2024-09-25T11:03:12.565090Z",
     "iopub.status.busy": "2024-09-25T11:03:12.564963Z",
     "iopub.status.idle": "2024-09-25T11:03:12.573130Z",
     "shell.execute_reply": "2024-09-25T11:03:12.572775Z",
     "shell.execute_reply.started": "2024-09-25T11:03:12.565074Z"
    },
    "tags": []
   },
   "outputs": [],
   "source": [
    "df_unstack = ser_O3_CHI2_FIT.loc[20230117,:].unstack()\n",
    "df_unstack"
   ]
  },
  {
   "cell_type": "code",
   "execution_count": null,
   "id": "665aeaea-a974-4cac-95bc-14ef9d4298c5",
   "metadata": {
    "execution": {
     "iopub.execute_input": "2024-09-25T11:03:12.573733Z",
     "iopub.status.busy": "2024-09-25T11:03:12.573615Z",
     "iopub.status.idle": "2024-09-25T11:03:12.576882Z",
     "shell.execute_reply": "2024-09-25T11:03:12.576550Z",
     "shell.execute_reply.started": "2024-09-25T11:03:12.573721Z"
    },
    "tags": []
   },
   "outputs": [],
   "source": [
    "ser_O3_CHI2_FIT.loc[20230117,\"ozone [db]_x\"][\"count\"]"
   ]
  },
  {
   "cell_type": "code",
   "execution_count": null,
   "id": "005f6704-1ee2-403f-bfc7-e07e311cbb31",
   "metadata": {
    "execution": {
     "iopub.execute_input": "2024-09-25T11:03:12.577479Z",
     "iopub.status.busy": "2024-09-25T11:03:12.577365Z",
     "iopub.status.idle": "2024-09-25T11:03:12.581869Z",
     "shell.execute_reply": "2024-09-25T11:03:12.581557Z",
     "shell.execute_reply.started": "2024-09-25T11:03:12.577469Z"
    },
    "tags": []
   },
   "outputs": [],
   "source": [
    "df_unstack.loc[\"ozone [db]_x\",\"count\"]"
   ]
  },
  {
   "cell_type": "code",
   "execution_count": null,
   "id": "6c777a31-67c1-4466-8808-e975dda49994",
   "metadata": {
    "execution": {
     "iopub.execute_input": "2024-09-25T11:03:12.582418Z",
     "iopub.status.busy": "2024-09-25T11:03:12.582303Z",
     "iopub.status.idle": "2024-09-25T11:03:12.589592Z",
     "shell.execute_reply": "2024-09-25T11:03:12.589103Z",
     "shell.execute_reply.started": "2024-09-25T11:03:12.582406Z"
    },
    "tags": []
   },
   "outputs": [],
   "source": [
    "def FillAgreggates(row):\n",
    "    the_nightObs = row[\"nightObs\"]\n",
    "    df_night = ser_O3_CHI2_FIT.loc[the_nightObs,:].unstack()\n",
    "    count = df_night.loc[\"ozone [db]_x\",\"count\"]\n",
    "    o3min = df_night.loc[\"ozone [db]_x\",\"min\"]\n",
    "    o3max = df_night.loc[\"ozone [db]_x\",\"max\"]\n",
    "    o3mean = df_night.loc[\"ozone [db]_x\",\"mean\"]\n",
    "    o3median = df_night.loc[\"ozone [db]_x\",\"median\"]\n",
    "    o3std = df_night.loc[\"ozone [db]_x\",\"std\"]\n",
    "    chi2min = df_night.loc[\"CHI2_FIT\",\"min\"]\n",
    "    chi2max = df_night.loc[\"CHI2_FIT\",\"max\"]\n",
    "    chi2mean = df_night.loc[\"CHI2_FIT\",\"mean\"]\n",
    "    chi2median = df_night.loc[\"CHI2_FIT\",\"median\"]\n",
    "    chi2std = df_night.loc[\"CHI2_FIT\",\"std\"]\n",
    "    \n",
    "    d = {\"_count\":count,\"_o3min\":o3min,\"_o3max\":o3max,\"_o3mean\":o3mean,\"_o3median\":o3median,\"_o3std\":o3std,\n",
    "        \"_chi2min\":chi2min,\"_chi2max\":chi2max,\"_chi2mean\":chi2mean,\"_chi2median\":chi2median,\"_chi2std\":chi2std}\n",
    "    \n",
    "    ser = pd.Series(data=d)\n",
    "\n",
    "    return ser\n",
    "    "
   ]
  },
  {
   "cell_type": "code",
   "execution_count": null,
   "id": "3fe7741b-b438-4fbd-b881-1cab01ee9d92",
   "metadata": {
    "execution": {
     "iopub.execute_input": "2024-09-25T11:03:12.590419Z",
     "iopub.status.busy": "2024-09-25T11:03:12.590261Z",
     "iopub.status.idle": "2024-09-25T11:03:12.594297Z",
     "shell.execute_reply": "2024-09-25T11:03:12.593963Z",
     "shell.execute_reply.started": "2024-09-25T11:03:12.590403Z"
    },
    "tags": []
   },
   "outputs": [],
   "source": [
    "row = df_spec.iloc[0]"
   ]
  },
  {
   "cell_type": "code",
   "execution_count": null,
   "id": "f001cb73-c1c5-4019-a8ae-b148aeec0bf7",
   "metadata": {
    "execution": {
     "iopub.execute_input": "2024-09-25T11:03:12.594889Z",
     "iopub.status.busy": "2024-09-25T11:03:12.594768Z",
     "iopub.status.idle": "2024-09-25T11:03:12.598608Z",
     "shell.execute_reply": "2024-09-25T11:03:12.598296Z",
     "shell.execute_reply.started": "2024-09-25T11:03:12.594874Z"
    },
    "tags": []
   },
   "outputs": [],
   "source": [
    "row"
   ]
  },
  {
   "cell_type": "code",
   "execution_count": null,
   "id": "c2a13cbb-fe9f-45ef-be3c-53d345da591d",
   "metadata": {
    "execution": {
     "iopub.execute_input": "2024-09-25T11:03:12.599254Z",
     "iopub.status.busy": "2024-09-25T11:03:12.599097Z",
     "iopub.status.idle": "2024-09-25T11:03:12.605082Z",
     "shell.execute_reply": "2024-09-25T11:03:12.604724Z",
     "shell.execute_reply.started": "2024-09-25T11:03:12.599240Z"
    },
    "tags": []
   },
   "outputs": [],
   "source": [
    "FillAgreggates(row)"
   ]
  },
  {
   "cell_type": "code",
   "execution_count": null,
   "id": "7078b47e-2d0a-40bc-b225-c321abd1af88",
   "metadata": {
    "execution": {
     "iopub.execute_input": "2024-09-25T11:03:12.605666Z",
     "iopub.status.busy": "2024-09-25T11:03:12.605552Z",
     "iopub.status.idle": "2024-09-25T11:03:15.656362Z",
     "shell.execute_reply": "2024-09-25T11:03:15.655938Z",
     "shell.execute_reply.started": "2024-09-25T11:03:12.605655Z"
    },
    "tags": []
   },
   "outputs": [],
   "source": [
    "df_spec = df_spec.join(df_spec.apply(FillAgreggates,axis=1,result_type=\"expand\"))"
   ]
  },
  {
   "cell_type": "code",
   "execution_count": null,
   "id": "061123e6-46bf-4f91-9486-658d0c3a6b19",
   "metadata": {
    "execution": {
     "iopub.execute_input": "2024-09-25T11:03:15.657033Z",
     "iopub.status.busy": "2024-09-25T11:03:15.656912Z",
     "iopub.status.idle": "2024-09-25T11:03:15.741637Z",
     "shell.execute_reply": "2024-09-25T11:03:15.741301Z",
     "shell.execute_reply.started": "2024-09-25T11:03:15.657022Z"
    },
    "tags": []
   },
   "outputs": [],
   "source": [
    "df_spec"
   ]
  },
  {
   "cell_type": "markdown",
   "id": "a4f8b443-4bc5-46fc-a548-33441edee6da",
   "metadata": {},
   "source": [
    "## Aply selection"
   ]
  },
  {
   "cell_type": "code",
   "execution_count": null,
   "id": "2325b3ff-29c2-445a-b25e-cc11aba4f45a",
   "metadata": {
    "execution": {
     "iopub.execute_input": "2024-09-25T11:03:15.742229Z",
     "iopub.status.busy": "2024-09-25T11:03:15.742098Z",
     "iopub.status.idle": "2024-09-25T11:03:15.951019Z",
     "shell.execute_reply": "2024-09-25T11:03:15.950666Z",
     "shell.execute_reply.started": "2024-09-25T11:03:15.742217Z"
    },
    "tags": []
   },
   "outputs": [],
   "source": [
    "fig,ax = plt.subplots(1,1)\n",
    "df_spec[\"CHI2_FIT\"].hist(bins=50,ax=ax,range=(0,200))\n",
    "ax.set_yscale(\"log\")"
   ]
  },
  {
   "cell_type": "code",
   "execution_count": null,
   "id": "0d10c1ad-c5dc-4487-baa9-7c71ec531f45",
   "metadata": {
    "execution": {
     "iopub.execute_input": "2024-09-25T11:03:15.951621Z",
     "iopub.status.busy": "2024-09-25T11:03:15.951500Z",
     "iopub.status.idle": "2024-09-25T11:03:15.956133Z",
     "shell.execute_reply": "2024-09-25T11:03:15.955790Z",
     "shell.execute_reply.started": "2024-09-25T11:03:15.951610Z"
    }
   },
   "outputs": [],
   "source": [
    "df_spec[\"Time\"] = pd.to_datetime(df_spec[\"DATE-OBS\"])\n",
    "#df_spec[\"PWV [mm]_x\"]"
   ]
  },
  {
   "cell_type": "code",
   "execution_count": null,
   "id": "48bfb19b-f528-4154-99ae-b2358cb90317",
   "metadata": {
    "execution": {
     "iopub.execute_input": "2024-09-25T11:03:15.956707Z",
     "iopub.status.busy": "2024-09-25T11:03:15.956589Z",
     "iopub.status.idle": "2024-09-25T11:03:16.027462Z",
     "shell.execute_reply": "2024-09-25T11:03:16.027076Z",
     "shell.execute_reply.started": "2024-09-25T11:03:15.956696Z"
    }
   },
   "outputs": [],
   "source": [
    "Dt = pd.Timedelta(minutes=30)\n",
    "d = {}\n",
    "list_of_nightobs = df_spec[\"nightObs\"].unique()\n",
    "for nightobs in list_of_nightobs:\n",
    "    sel_flag = df_spec[\"nightObs\"] == nightobs\n",
    "    df_night = df_spec[sel_flag]\n",
    "    tmin = df_night[\"Time\"].min()-Dt\n",
    "    tmax = df_night[\"Time\"].max()+Dt\n",
    "    d[nightobs] = (tmin,tmax)"
   ]
  },
  {
   "cell_type": "code",
   "execution_count": null,
   "id": "3fd02994-4a05-4145-8da9-10ac7f5b920a",
   "metadata": {
    "execution": {
     "iopub.execute_input": "2024-09-25T11:03:16.028135Z",
     "iopub.status.busy": "2024-09-25T11:03:16.027997Z",
     "iopub.status.idle": "2024-09-25T11:03:16.578918Z",
     "shell.execute_reply": "2024-09-25T11:03:16.578530Z",
     "shell.execute_reply.started": "2024-09-25T11:03:16.028114Z"
    }
   },
   "outputs": [],
   "source": [
    "from matplotlib.dates import DateFormatter\n",
    "date_form = DateFormatter(\"%y-%m-%dT%H:%M\")\n",
    "fig,axs = plt.subplots(1,1,figsize=(14,4))\n",
    "ax1  = axs\n",
    "df_spec.plot(x=\"Time\",y=\"ozone [db]_x\",ax=ax1,marker='+',c=\"r\",lw=0.0,grid=True,label=\"PWV_x\")\n",
    "ax1.set_ylabel(\"ozone [db]_x\")\n",
    "#df_spec.plot(x=\"Time\",y=\"PWV [mm]_y\",ax=ax2,marker='+',c=\"b\",lw=0.0,grid=True,label=\"PWV_y\")\n",
    "ax1.set_xlabel(\"time\")\n",
    "ax1.xaxis.set_major_formatter(date_form)\n",
    "ax1.set_title(\"Ozone meas by holo vs time\")\n",
    "\n",
    "for key, tt in d.items():\n",
    "    ax1.axvspan(tt[0],tt[1], color='blue', alpha=0.1)\n",
    "\n",
    "plt.tight_layout()"
   ]
  },
  {
   "cell_type": "markdown",
   "id": "564f9a05-b3e2-4d61-9457-cda76ebd2a1b",
   "metadata": {},
   "source": [
    "## Apply selection"
   ]
  },
  {
   "cell_type": "code",
   "execution_count": null,
   "id": "e1cbfa40-4395-47f4-9acf-6a9f531fabd4",
   "metadata": {
    "execution": {
     "iopub.execute_input": "2024-09-25T11:03:16.579630Z",
     "iopub.status.busy": "2024-09-25T11:03:16.579500Z",
     "iopub.status.idle": "2024-09-25T11:03:16.585131Z",
     "shell.execute_reply": "2024-09-25T11:03:16.584742Z",
     "shell.execute_reply.started": "2024-09-25T11:03:16.579618Z"
    }
   },
   "outputs": [],
   "source": [
    "cut =  (df_spec[\"CHI2_FIT\"]<20) & (df_spec[\"ozone [db]_x\"] > 1.) & (df_spec[\"ozone [db]_x\"] < 599) \n",
    "df_spec_sel = df_spec[cut].drop(labels=['_count', '_o3min', '_o3max', '_o3mean', '_o3median', '_o3std','_chi2min', '_chi2max', '_chi2mean', '_chi2median', '_chi2std'],axis=1)"
   ]
  },
  {
   "cell_type": "code",
   "execution_count": null,
   "id": "bae62b07-17d4-423e-bdfe-634272a040a2",
   "metadata": {
    "execution": {
     "iopub.execute_input": "2024-09-25T11:03:16.585848Z",
     "iopub.status.busy": "2024-09-25T11:03:16.585726Z",
     "iopub.status.idle": "2024-09-25T11:03:16.588022Z",
     "shell.execute_reply": "2024-09-25T11:03:16.587659Z",
     "shell.execute_reply.started": "2024-09-25T11:03:16.585836Z"
    },
    "tags": []
   },
   "outputs": [],
   "source": [
    "df_spec_sel.reset_index(drop=True,inplace=True)"
   ]
  },
  {
   "cell_type": "code",
   "execution_count": null,
   "id": "8bad857c-b6e0-41ec-96bb-089ed1b696d9",
   "metadata": {
    "execution": {
     "iopub.execute_input": "2024-09-25T11:03:16.588635Z",
     "iopub.status.busy": "2024-09-25T11:03:16.588517Z",
     "iopub.status.idle": "2024-09-25T11:03:16.674332Z",
     "shell.execute_reply": "2024-09-25T11:03:16.673899Z",
     "shell.execute_reply.started": "2024-09-25T11:03:16.588624Z"
    },
    "tags": []
   },
   "outputs": [],
   "source": [
    "df_spec_sel"
   ]
  },
  {
   "cell_type": "code",
   "execution_count": null,
   "id": "5f2bb2b2-a77b-485d-975b-88912029b163",
   "metadata": {
    "execution": {
     "iopub.execute_input": "2024-09-25T11:03:16.675016Z",
     "iopub.status.busy": "2024-09-25T11:03:16.674888Z",
     "iopub.status.idle": "2024-09-25T11:03:16.680889Z",
     "shell.execute_reply": "2024-09-25T11:03:16.680555Z",
     "shell.execute_reply.started": "2024-09-25T11:03:16.675003Z"
    },
    "tags": []
   },
   "outputs": [],
   "source": [
    "ser_O3_CHI2_FIT_sel = df_spec_sel[[\"ozone [db]_x\",\"CHI2_FIT\",\"nightObs\"]].groupby([\"nightObs\"]).agg(['count','min', 'max','mean','std','median'])"
   ]
  },
  {
   "cell_type": "code",
   "execution_count": null,
   "id": "cf57d2d5-abc5-4743-864d-46617e6cfe82",
   "metadata": {
    "execution": {
     "iopub.execute_input": "2024-09-25T11:03:16.681474Z",
     "iopub.status.busy": "2024-09-25T11:03:16.681358Z",
     "iopub.status.idle": "2024-09-25T11:03:16.691820Z",
     "shell.execute_reply": "2024-09-25T11:03:16.691466Z",
     "shell.execute_reply.started": "2024-09-25T11:03:16.681463Z"
    },
    "tags": []
   },
   "outputs": [],
   "source": [
    "ser_O3_CHI2_FIT_sel"
   ]
  },
  {
   "cell_type": "code",
   "execution_count": null,
   "id": "32089a52-fb70-4ef2-b900-c34975c325c8",
   "metadata": {
    "execution": {
     "iopub.execute_input": "2024-09-25T11:03:16.692502Z",
     "iopub.status.busy": "2024-09-25T11:03:16.692386Z",
     "iopub.status.idle": "2024-09-25T11:03:16.695978Z",
     "shell.execute_reply": "2024-09-25T11:03:16.695643Z",
     "shell.execute_reply.started": "2024-09-25T11:03:16.692492Z"
    },
    "tags": []
   },
   "outputs": [],
   "source": [
    "def FillAgreggatesSel(row):\n",
    "    the_nightObs = row[\"nightObs\"]\n",
    "    df_night = ser_O3_CHI2_FIT_sel.loc[the_nightObs,:].unstack()\n",
    "    count = df_night.loc[\"ozone [db]_x\",\"count\"]\n",
    "    o3min = df_night.loc[\"ozone [db]_x\",\"min\"]\n",
    "    o3max = df_night.loc[\"ozone [db]_x\",\"max\"]\n",
    "    o3mean = df_night.loc[\"ozone [db]_x\",\"mean\"]\n",
    "    o3median = df_night.loc[\"ozone [db]_x\",\"median\"]\n",
    "    o3std = df_night.loc[\"ozone [db]_x\",\"std\"]\n",
    "    chi2min = df_night.loc[\"CHI2_FIT\",\"min\"]\n",
    "    chi2max = df_night.loc[\"CHI2_FIT\",\"max\"]\n",
    "    chi2mean = df_night.loc[\"CHI2_FIT\",\"mean\"]\n",
    "    chi2median = df_night.loc[\"CHI2_FIT\",\"median\"]\n",
    "    chi2std = df_night.loc[\"CHI2_FIT\",\"std\"]\n",
    "    \n",
    "    d = {\"_count\":count,\"_o3min\":o3min,\"_o3max\":o3max,\"_o3mean\":o3mean,\"_o3median\":o3median,\"_o3std\":o3std,\n",
    "        \"_chi2min\":chi2min,\"_chi2max\":chi2max,\"_chi2mean\":chi2mean,\"_chi2median\":chi2median,\"_chi2std\":chi2std}\n",
    "    \n",
    "    ser = pd.Series(data=d)\n",
    "\n",
    "    return ser\n",
    "    "
   ]
  },
  {
   "cell_type": "code",
   "execution_count": null,
   "id": "6d9205d1-8997-4cbb-9238-c5d703dccc66",
   "metadata": {
    "execution": {
     "iopub.execute_input": "2024-09-25T11:03:16.696545Z",
     "iopub.status.busy": "2024-09-25T11:03:16.696427Z",
     "iopub.status.idle": "2024-09-25T11:03:16.701564Z",
     "shell.execute_reply": "2024-09-25T11:03:16.701227Z",
     "shell.execute_reply.started": "2024-09-25T11:03:16.696534Z"
    },
    "tags": []
   },
   "outputs": [],
   "source": [
    "row = df_spec_sel.iloc[0]\n",
    "row"
   ]
  },
  {
   "cell_type": "code",
   "execution_count": null,
   "id": "bd0c304b-cd1b-46d3-8719-876f731bbff4",
   "metadata": {
    "execution": {
     "iopub.execute_input": "2024-09-25T11:03:16.702250Z",
     "iopub.status.busy": "2024-09-25T11:03:16.702034Z",
     "iopub.status.idle": "2024-09-25T11:03:16.706767Z",
     "shell.execute_reply": "2024-09-25T11:03:16.706448Z",
     "shell.execute_reply.started": "2024-09-25T11:03:16.702238Z"
    },
    "tags": []
   },
   "outputs": [],
   "source": [
    "FillAgreggatesSel(row)"
   ]
  },
  {
   "cell_type": "code",
   "execution_count": null,
   "id": "b99a8e47-540c-4c1a-af93-79761d15697a",
   "metadata": {
    "execution": {
     "iopub.execute_input": "2024-09-25T11:03:16.707305Z",
     "iopub.status.busy": "2024-09-25T11:03:16.707191Z",
     "iopub.status.idle": "2024-09-25T11:03:18.707868Z",
     "shell.execute_reply": "2024-09-25T11:03:18.707498Z",
     "shell.execute_reply.started": "2024-09-25T11:03:16.707295Z"
    },
    "tags": []
   },
   "outputs": [],
   "source": [
    "df_part2 = df_spec_sel.apply(FillAgreggatesSel,axis=1,result_type=\"expand\")\n",
    "df_part2"
   ]
  },
  {
   "cell_type": "code",
   "execution_count": null,
   "id": "7df3b6b8-24f7-4639-a94e-35f345c5e450",
   "metadata": {
    "execution": {
     "iopub.execute_input": "2024-09-25T11:03:18.708554Z",
     "iopub.status.busy": "2024-09-25T11:03:18.708432Z",
     "iopub.status.idle": "2024-09-25T11:03:20.837450Z",
     "shell.execute_reply": "2024-09-25T11:03:20.837036Z",
     "shell.execute_reply.started": "2024-09-25T11:03:18.708543Z"
    },
    "tags": []
   },
   "outputs": [],
   "source": [
    "df_spec_sel = df_spec_sel.join(df_spec_sel.apply(FillAgreggatesSel,axis=1,result_type=\"expand\"))"
   ]
  },
  {
   "cell_type": "code",
   "execution_count": null,
   "id": "65fb06a8-7bfb-4c08-9ad7-ced34e9430df",
   "metadata": {
    "execution": {
     "iopub.execute_input": "2024-09-25T11:03:20.838151Z",
     "iopub.status.busy": "2024-09-25T11:03:20.838021Z",
     "iopub.status.idle": "2024-09-25T11:03:20.923894Z",
     "shell.execute_reply": "2024-09-25T11:03:20.923559Z",
     "shell.execute_reply.started": "2024-09-25T11:03:20.838139Z"
    },
    "tags": []
   },
   "outputs": [],
   "source": [
    "df_spec_sel"
   ]
  },
  {
   "cell_type": "code",
   "execution_count": null,
   "id": "57e9b3e1-5556-4785-865d-9e2a2ddb7e85",
   "metadata": {
    "execution": {
     "iopub.execute_input": "2024-09-25T11:03:20.924428Z",
     "iopub.status.busy": "2024-09-25T11:03:20.924315Z",
     "iopub.status.idle": "2024-09-25T11:03:20.979836Z",
     "shell.execute_reply": "2024-09-25T11:03:20.979502Z",
     "shell.execute_reply.started": "2024-09-25T11:03:20.924416Z"
    }
   },
   "outputs": [],
   "source": [
    "Dt = pd.Timedelta(minutes=30)\n",
    "d = {}\n",
    "list_of_nightobs = df_spec_sel[\"nightObs\"].unique()\n",
    "for nightobs in list_of_nightobs:\n",
    "    sel_flag = df_spec_sel[\"nightObs\"] == nightobs\n",
    "    df_night = df_spec_sel[sel_flag]\n",
    "    tmin = df_night[\"Time\"].min()-Dt\n",
    "    tmax = df_night[\"Time\"].max()+Dt\n",
    "    d[nightobs] = (tmin,tmax)"
   ]
  },
  {
   "cell_type": "code",
   "execution_count": null,
   "id": "58b3d86e-7a6a-4685-8f5c-af994b7b2164",
   "metadata": {
    "execution": {
     "iopub.execute_input": "2024-09-25T11:03:20.980508Z",
     "iopub.status.busy": "2024-09-25T11:03:20.980387Z",
     "iopub.status.idle": "2024-09-25T11:03:21.381226Z",
     "shell.execute_reply": "2024-09-25T11:03:21.380775Z",
     "shell.execute_reply.started": "2024-09-25T11:03:20.980496Z"
    },
    "tags": []
   },
   "outputs": [],
   "source": [
    "from matplotlib.dates import DateFormatter\n",
    "date_form = DateFormatter(\"%y-%m-%dT%H:%M\")\n",
    "fig,axs = plt.subplots(1,1,figsize=(14,4))\n",
    "ax1  = axs\n",
    "df_spec_sel.plot(x=\"Time\",y=\"ozone [db]_x\",ax=ax1,marker='+',c=\"r\",lw=0.0,grid=True,label=\"PWV_x\")\n",
    "ax1.set_ylabel(\"ozone [db]_x\")\n",
    "#df_spec_sel.plot(x=\"Time\",y=\"PWV [mm]_y\",ax=ax2,marker='+',c=\"b\",lw=0.0,grid=True,label=\"PWV_y\")\n",
    "ax1.set_xlabel(\"time\")\n",
    "ax1.xaxis.set_major_formatter(date_form)\n",
    "ax1.set_title(\"Ozone meas by holo selected vs time\")\n",
    "\n",
    "for key, tt in d.items():\n",
    "    ax1.axvspan(tt[0],tt[1], color='blue', alpha=0.1)\n",
    "\n",
    "plt.tight_layout()"
   ]
  },
  {
   "cell_type": "code",
   "execution_count": null,
   "id": "6e3a3cb8-0ec9-45db-8439-25d6a6a57527",
   "metadata": {
    "execution": {
     "iopub.execute_input": "2024-09-25T11:03:21.381965Z",
     "iopub.status.busy": "2024-09-25T11:03:21.381834Z",
     "iopub.status.idle": "2024-09-25T11:03:21.389539Z",
     "shell.execute_reply": "2024-09-25T11:03:21.389137Z",
     "shell.execute_reply.started": "2024-09-25T11:03:21.381953Z"
    },
    "tags": []
   },
   "outputs": [],
   "source": [
    "ser_CHI2_FIT_sel = df_spec_sel[[\"CHI2_FIT\",\"nightObs\"]].groupby([\"nightObs\"]).agg(['count','min', 'max','mean','std','median'])\n",
    "ser_O3_sel = df_spec_sel[[\"ozone [db]_x\",\"nightObs\"]].groupby([\"nightObs\"]).agg(['count','min', 'max','mean','std','median'])"
   ]
  },
  {
   "cell_type": "code",
   "execution_count": null,
   "id": "592ee0e1-64fb-40c3-b57f-8362d1a05be8",
   "metadata": {
    "execution": {
     "iopub.execute_input": "2024-09-25T11:03:21.390214Z",
     "iopub.status.busy": "2024-09-25T11:03:21.390084Z",
     "iopub.status.idle": "2024-09-25T11:03:22.046477Z",
     "shell.execute_reply": "2024-09-25T11:03:22.046068Z",
     "shell.execute_reply.started": "2024-09-25T11:03:21.390202Z"
    },
    "tags": []
   },
   "outputs": [],
   "source": [
    "fig,ax = plt.subplots(1,1,figsize=(18,3))\n",
    "ser_O3_sel.unstack()[\"ozone [db]_x\"][\"count\"].plot(kind='bar', ax=ax,subplots=False, rot=90,figsize=(18,4),facecolor=\"b\",grid=True,title=\"Number of measurements per night after selection\")\n",
    "plt.tight_layout()"
   ]
  },
  {
   "cell_type": "code",
   "execution_count": null,
   "id": "77ab654f-1ca7-42a1-9939-920126c1899f",
   "metadata": {
    "execution": {
     "iopub.execute_input": "2024-09-25T11:03:22.047206Z",
     "iopub.status.busy": "2024-09-25T11:03:22.047068Z",
     "iopub.status.idle": "2024-09-25T11:03:22.831269Z",
     "shell.execute_reply": "2024-09-25T11:03:22.830884Z",
     "shell.execute_reply.started": "2024-09-25T11:03:22.047193Z"
    },
    "tags": []
   },
   "outputs": [],
   "source": [
    "fig,ax = plt.subplots(1,1,figsize=(18,3))\n",
    "ser_O3_sel.unstack()[\"ozone [db]_x\"][\"mean\"].plot(kind='bar',ax=ax ,subplots=False, rot=90,figsize=(18,4),facecolor='b',grid=True,title=\"Mean Ozone per night after selection\")\n",
    "plt.tight_layout()"
   ]
  },
  {
   "cell_type": "code",
   "execution_count": null,
   "id": "4b391453-3c1e-4c6d-8e57-4df77c0d4fca",
   "metadata": {
    "execution": {
     "iopub.execute_input": "2024-09-25T11:03:22.836954Z",
     "iopub.status.busy": "2024-09-25T11:03:22.836748Z",
     "iopub.status.idle": "2024-09-25T11:03:23.488648Z",
     "shell.execute_reply": "2024-09-25T11:03:23.488266Z",
     "shell.execute_reply.started": "2024-09-25T11:03:22.836940Z"
    },
    "tags": []
   },
   "outputs": [],
   "source": [
    "fig,ax = plt.subplots(1,1,figsize=(18,3))\n",
    "ser_O3_sel.unstack()[\"ozone [db]_x\"][\"median\"].plot(kind='bar',ax=ax ,subplots=False, rot=90,figsize=(18,4),facecolor='b',grid=True,title=\"Median Ozone per night after selection\")\n",
    "plt.tight_layout()"
   ]
  },
  {
   "cell_type": "code",
   "execution_count": null,
   "id": "8f90c624-4571-4c84-87b8-a71e49f91af6",
   "metadata": {
    "execution": {
     "iopub.execute_input": "2024-09-25T11:03:23.489333Z",
     "iopub.status.busy": "2024-09-25T11:03:23.489203Z",
     "iopub.status.idle": "2024-09-25T11:03:24.140080Z",
     "shell.execute_reply": "2024-09-25T11:03:24.139610Z",
     "shell.execute_reply.started": "2024-09-25T11:03:23.489320Z"
    },
    "tags": []
   },
   "outputs": [],
   "source": [
    "fig,ax = plt.subplots(1,1,figsize=(18,3))\n",
    "ser_O3_sel.unstack()[\"ozone [db]_x\"][\"std\"].plot(kind='bar', subplots=False, rot=90,figsize=(18,4),facecolor='b',grid=True,title=\"STD variation for Ozone per night after selection\")\n",
    "plt.tight_layout()"
   ]
  },
  {
   "cell_type": "code",
   "execution_count": null,
   "id": "438bb890-9dc1-4ece-801e-63c849d73358",
   "metadata": {
    "execution": {
     "iopub.execute_input": "2024-09-25T11:03:24.140828Z",
     "iopub.status.busy": "2024-09-25T11:03:24.140645Z",
     "iopub.status.idle": "2024-09-25T11:03:24.798961Z",
     "shell.execute_reply": "2024-09-25T11:03:24.798594Z",
     "shell.execute_reply.started": "2024-09-25T11:03:24.140815Z"
    },
    "tags": []
   },
   "outputs": [],
   "source": [
    "fig,ax = plt.subplots(1,1,figsize=(18,3))\n",
    "ser_CHI2_FIT_sel.unstack()[\"CHI2_FIT\"][\"mean\"].plot(kind='bar',ax=ax ,subplots=False, rot=90,figsize=(18,4),facecolor='r',grid=True,title=\"Mean CHI2 per night after selection\")\n",
    "plt.tight_layout()"
   ]
  },
  {
   "cell_type": "code",
   "execution_count": null,
   "id": "fccf0310-c102-4a36-a14f-63e724ccceb1",
   "metadata": {
    "execution": {
     "iopub.execute_input": "2024-09-25T11:03:24.799622Z",
     "iopub.status.busy": "2024-09-25T11:03:24.799493Z",
     "iopub.status.idle": "2024-09-25T11:03:25.595311Z",
     "shell.execute_reply": "2024-09-25T11:03:25.594904Z",
     "shell.execute_reply.started": "2024-09-25T11:03:24.799609Z"
    },
    "tags": []
   },
   "outputs": [],
   "source": [
    "fig,ax = plt.subplots(1,1,figsize=(18,3))\n",
    "ser_CHI2_FIT_sel.unstack()[\"CHI2_FIT\"][\"median\"].plot(kind='bar',ax=ax ,subplots=False, rot=90,figsize=(18,4),facecolor='r',grid=True,title=\"Median CHI2 per night after selection\")\n",
    "plt.tight_layout()"
   ]
  },
  {
   "cell_type": "code",
   "execution_count": null,
   "id": "b2c26008-c15e-4cf3-ace1-3ddddda64abd",
   "metadata": {
    "execution": {
     "iopub.execute_input": "2024-09-25T11:03:25.596048Z",
     "iopub.status.busy": "2024-09-25T11:03:25.595910Z",
     "iopub.status.idle": "2024-09-25T11:03:26.255606Z",
     "shell.execute_reply": "2024-09-25T11:03:26.255230Z",
     "shell.execute_reply.started": "2024-09-25T11:03:25.596035Z"
    },
    "tags": []
   },
   "outputs": [],
   "source": [
    "fig,ax = plt.subplots(1,1,figsize=(18,3))\n",
    "ser_CHI2_FIT_sel.unstack()[\"CHI2_FIT\"][\"std\"].plot(kind='bar',ax=ax ,subplots=False, rot=90,figsize=(18,4),facecolor='r',grid=True,title=\"STD variation CHI2 per night after selection\")\n",
    "plt.tight_layout()"
   ]
  },
  {
   "cell_type": "markdown",
   "id": "2e327548-326f-428f-867f-3ad46e7f6753",
   "metadata": {},
   "source": [
    "## Show time variation each night"
   ]
  },
  {
   "cell_type": "code",
   "execution_count": null,
   "id": "7320d772-3123-4866-8d2c-3c9f0d8769ad",
   "metadata": {
    "execution": {
     "iopub.execute_input": "2024-09-25T11:03:26.256315Z",
     "iopub.status.busy": "2024-09-25T11:03:26.256187Z",
     "iopub.status.idle": "2024-09-25T11:03:26.258654Z",
     "shell.execute_reply": "2024-09-25T11:03:26.258325Z",
     "shell.execute_reply.started": "2024-09-25T11:03:26.256303Z"
    }
   },
   "outputs": [],
   "source": [
    "all_selected_nights = df_spec_sel[\"nightObs\"].unique()"
   ]
  },
  {
   "cell_type": "code",
   "execution_count": null,
   "id": "c8c101b3-7120-4e5b-9da8-f712b21f6c48",
   "metadata": {
    "execution": {
     "iopub.execute_input": "2024-09-25T11:03:26.259253Z",
     "iopub.status.busy": "2024-09-25T11:03:26.259133Z",
     "iopub.status.idle": "2024-09-25T11:03:26.265021Z",
     "shell.execute_reply": "2024-09-25T11:03:26.264677Z",
     "shell.execute_reply.started": "2024-09-25T11:03:26.259242Z"
    }
   },
   "outputs": [],
   "source": [
    "def funclineres(params, x, y, yerr):\n",
    "    # Return residual = fit-observed\n",
    "    return (y-params[0] -params[1]*x)/yerr\n",
    "def funcline(params,x):\n",
    "    return params[0] + params[1]*x"
   ]
  },
  {
   "cell_type": "code",
   "execution_count": null,
   "id": "e325547d-9f5e-4336-9fe4-5778597333cf",
   "metadata": {
    "execution": {
     "iopub.execute_input": "2024-09-25T11:03:26.265617Z",
     "iopub.status.busy": "2024-09-25T11:03:26.265500Z",
     "iopub.status.idle": "2024-09-25T11:04:27.403998Z",
     "shell.execute_reply": "2024-09-25T11:04:27.403590Z",
     "shell.execute_reply.started": "2024-09-25T11:03:26.265606Z"
    }
   },
   "outputs": [],
   "source": [
    "all_dateObs_sel = {}\n",
    "\n",
    "for night in all_selected_nights:\n",
    "    df_spec_night = df_spec_sel[df_spec_sel[\"nightObs\"] == night]\n",
    "    df_night_o3_curve = df_spec_night[[\"Time\",\"ozone [db]_x\",\"ozone [db]_err_x\"]]\n",
    "\n",
    "    tmin = df_night_o3_curve[\"Time\"].min()\n",
    "\n",
    "    # convert in hours\n",
    "    df_night_o3_curve[\"dt\"] = (df_night_o3_curve[\"Time\"] - tmin).dt.total_seconds()/3600.\n",
    "    \n",
    "    \n",
    "    stat = df_night_o3_curve[[\"ozone [db]_x\"]].describe()\n",
    "    date_form = DateFormatter(\"%y-%m-%dT%H:%M\")\n",
    "    count = int(stat.loc[\"count\"].values[0])\n",
    "    mean = stat.loc[\"mean\"].values[0]\n",
    "    median = stat.loc[\"50%\"].values[0]\n",
    "    std = stat.loc[\"std\"].values[0]\n",
    "    textstr = \"\\n\".join((f\"count : {count}\",\n",
    "                     f\"mean : {mean:.1f} mm\",\n",
    "                     f\"median : {median:.1f} mm\",\n",
    "                     f\"std : {std:.1f} mm\",\n",
    "                    ))\n",
    "\n",
    "\n",
    "    \n",
    "\n",
    "    N= len(df_night_o3_curve)\n",
    "\n",
    "    if N>10:\n",
    "        # does the fit\n",
    "        f = lambda x, *p: p[0] * x + p[1]\n",
    "        x = df_night_o3_curve[\"dt\"].values\n",
    "        y = df_night_o3_curve[\"ozone [db]_x\"].values\n",
    "        yerr = df_night_o3_curve[\"ozone [db]_err_x\"].values\n",
    "        n = len(y)\n",
    "        \n",
    "        #popt, pcov = optimize.curve_fit(f, x, y, [1,-4])\n",
    "        fit_res = least_squares(funclineres,[5.,0],args = (x,y,yerr))\n",
    "        popt = fit_res.x \n",
    "        npar = len(popt)\n",
    "        J = fit_res.jac\n",
    "        cov = np.linalg.inv(J.T.dot(J))\n",
    "        chi2dof = ((funclineres(popt,x,y,yerr))**2).sum()/(n-npar)\n",
    "        cov *= chi2dof\n",
    "        perr = np.sqrt(np.diagonal(cov)) \n",
    "        \n",
    "\n",
    "        xfit = np.linspace(x.min()*0.99,x.max()*1.05)\n",
    "        yfit = funcline(popt,xfit)\n",
    "        \n",
    "        \n",
    "       \n",
    "\n",
    "        slope = popt[1]\n",
    "        slope_err = perr[1]\n",
    "        \n",
    "        textstr2 = \"\\n\".join((f\"d(Ozone/dt) : \",\n",
    "                     f\"slope : {slope:.3f} DU/hour \",\n",
    "                     f\"slope err : {slope_err:.3f} DU/hour\",\n",
    "                     f\"chi2/ndeg : {chi2dof:.2f}\",       \n",
    "                    ))\n",
    "\n",
    "        textstr3 = \"\\n\".join((f\"d(Ozone/dt) : \",\n",
    "                     f\"slope : {slope:.3f} DU/hour \",\n",
    "                     f\"slope err : {slope_err:.3f} DU/hour\",  \n",
    "                    ))\n",
    "    \n",
    "\n",
    "        stat.loc[\"slope\",\"ozone [db]_x\"] = slope \n",
    "        stat.loc[\"slope_err\",\"ozone [db]_err_x\"] = slope_err \n",
    "        stat.loc[\"chi2\",\"ozone [db]_x\"] = chi2dof\n",
    "        \n",
    "        # plot\n",
    "        #fig,(ax,ax2) = plt.subplots(1,2,figsize=(12,5))\n",
    "        \n",
    "        fig = plt.figure(figsize=(14,5))\n",
    "        #gs = GridSpec(1, 2, wspace=0, hspace=2., width_ratios=[2,1],figure=fig)\n",
    "        gs = GridSpec(1, 2,  width_ratios=[2,1],figure=fig)\n",
    "\n",
    "        ax = fig.add_subplot(gs[0])\n",
    "        ax2 = fig.add_subplot(gs[1],sharey=ax1)\n",
    "        #ax2 = fig.add_subplot(gs[1])\n",
    "        \n",
    "        df_night_o3_curve.plot(x=\"Time\",y=\"ozone [db]_x\",ax=ax,marker='+',c=\"r\",lw=0.0,grid=True,legend=False)\n",
    "        ax.errorbar(x=df_night_o3_curve.Time, y=df_night_o3_curve[\"ozone [db]_x\"],yerr=df_night_o3_curve[\"ozone [db]_err_x\"],fmt=\".\",color=\"r\",ecolor=\"k\")\n",
    "        ax.set_ylabel(\"ozone [db]_x\")\n",
    "        ax.set_xlabel(\"time\")\n",
    "        ax.xaxis.set_major_formatter(date_form)\n",
    "        ax.set_ylim(0.,600.)\n",
    "        ax.text(0.03, 0.95, textstr, transform=ax.transAxes, fontsize=14,\n",
    "        verticalalignment='top', bbox=props)\n",
    "        ax.text(0.45, 0.95, textstr3, transform=ax.transAxes, fontsize=14,\n",
    "        verticalalignment='top', bbox=props)\n",
    "        ax.set_title(f\"night {night}\")\n",
    "\n",
    "        ax2.errorbar(x=df_night_o3_curve.dt, y=df_night_o3_curve[\"ozone [db]_x\"],yerr=df_night_o3_curve[\"ozone [db]_err_x\"],fmt=\".\",color=\"r\",ecolor=\"k\")\n",
    "        ax2.set_xlabel(\"hours\")\n",
    "        ax2.set_ylim(0.,600.)\n",
    "        ax2.grid()\n",
    "        ax2.plot(xfit,yfit,\"k-\")\n",
    "        ax2.text(0.45, 0.95, textstr2, transform=ax2.transAxes, fontsize=14,\n",
    "        verticalalignment='top', bbox=props)\n",
    "        ax2.set_title(f\"night {night}\")\n",
    "        \n",
    "        plt.tight_layout()\n",
    "        figname =f\"{pathfigs}/o3_per_night_{night}.pdf\"\n",
    "        plt.savefig(figname)\n",
    "        plt.show()\n",
    "\n",
    "        # add statistics\n",
    "        all_dateObs_sel[night] = stat"
   ]
  },
  {
   "cell_type": "markdown",
   "id": "97b44c4b-b7d6-40c2-bdd5-976c712f5ee2",
   "metadata": {},
   "source": [
    "## Make a summary of Night quality"
   ]
  },
  {
   "cell_type": "code",
   "execution_count": null,
   "id": "1e714311-4d20-4d3a-b3ca-204571b24d0e",
   "metadata": {
    "execution": {
     "iopub.execute_input": "2024-09-25T11:04:27.404921Z",
     "iopub.status.busy": "2024-09-25T11:04:27.404612Z",
     "iopub.status.idle": "2024-09-25T11:04:27.408493Z",
     "shell.execute_reply": "2024-09-25T11:04:27.408085Z",
     "shell.execute_reply.started": "2024-09-25T11:04:27.404908Z"
    }
   },
   "outputs": [],
   "source": [
    "df = pd.DataFrame(columns = [\"count\",\"mean\",\"median\",\"std\",\"slope\",\"slope_err\"])"
   ]
  },
  {
   "cell_type": "code",
   "execution_count": null,
   "id": "dd8278d1-63ee-4871-8ac6-d79ae99ce8cf",
   "metadata": {
    "execution": {
     "iopub.execute_input": "2024-09-25T11:04:27.409102Z",
     "iopub.status.busy": "2024-09-25T11:04:27.408980Z",
     "iopub.status.idle": "2024-09-25T11:04:27.478978Z",
     "shell.execute_reply": "2024-09-25T11:04:27.478605Z",
     "shell.execute_reply.started": "2024-09-25T11:04:27.409090Z"
    }
   },
   "outputs": [],
   "source": [
    "for nightObs, stat in all_dateObs_sel.items():\n",
    "    count = int(stat.loc[\"count\"].values[0])\n",
    "    mean = stat.loc[\"mean\"].values[0]\n",
    "    median = stat.loc[\"50%\"].values[0]\n",
    "    std = stat.loc[\"std\"].values[0]\n",
    "    slope = stat.loc[\"slope\"].values[0]\n",
    "    slope_err = stat.loc[\"slope_err\"].values[0]\n",
    "    df.loc[nightObs] = [count,mean,median,std,slope,slope_err]\n",
    "    "
   ]
  },
  {
   "cell_type": "code",
   "execution_count": null,
   "id": "a7d41f71-743d-432e-a431-c53e7373d6d0",
   "metadata": {
    "execution": {
     "iopub.execute_input": "2024-09-25T11:04:27.479622Z",
     "iopub.status.busy": "2024-09-25T11:04:27.479493Z",
     "iopub.status.idle": "2024-09-25T11:04:27.482340Z",
     "shell.execute_reply": "2024-09-25T11:04:27.481990Z",
     "shell.execute_reply.started": "2024-09-25T11:04:27.479610Z"
    }
   },
   "outputs": [],
   "source": [
    "def ComputeDataTimeStr(num):\n",
    "    year = num//10000\n",
    "    remain = (num-year*10000)\n",
    "    month = remain//100\n",
    "    day = remain-100*month\n",
    "    yearstr = f\"{year}\"\n",
    "    monthstr = f\"{month}\"\n",
    "    daystr= f\"{day}\"\n",
    "    stry = yearstr.zfill(4)\n",
    "    strm = monthstr.zfill(2)\n",
    "    strd = daystr.zfill(2)\n",
    "    \n",
    "    str = f\"{stry}-{strm}-{strd}\"\n",
    "    return str"
   ]
  },
  {
   "cell_type": "code",
   "execution_count": null,
   "id": "52cad1fd-2fce-4659-ac9d-e86db14e8add",
   "metadata": {
    "execution": {
     "iopub.execute_input": "2024-09-25T11:04:27.482941Z",
     "iopub.status.busy": "2024-09-25T11:04:27.482823Z",
     "iopub.status.idle": "2024-09-25T11:04:27.487037Z",
     "shell.execute_reply": "2024-09-25T11:04:27.486713Z",
     "shell.execute_reply.started": "2024-09-25T11:04:27.482930Z"
    }
   },
   "outputs": [],
   "source": [
    "df[\"Time\"] = pd.to_datetime([ ComputeDataTimeStr(num) for  num in df.index])"
   ]
  },
  {
   "cell_type": "code",
   "execution_count": null,
   "id": "2b0eff2f-9f71-4de0-956a-572ac165431f",
   "metadata": {
    "execution": {
     "iopub.execute_input": "2024-09-25T11:04:27.487604Z",
     "iopub.status.busy": "2024-09-25T11:04:27.487486Z",
     "iopub.status.idle": "2024-09-25T11:04:27.495246Z",
     "shell.execute_reply": "2024-09-25T11:04:27.494918Z",
     "shell.execute_reply.started": "2024-09-25T11:04:27.487593Z"
    }
   },
   "outputs": [],
   "source": [
    "df.head()"
   ]
  },
  {
   "cell_type": "code",
   "execution_count": null,
   "id": "0ac49704-a32b-4e40-b653-d284130e6118",
   "metadata": {
    "execution": {
     "iopub.execute_input": "2024-09-25T11:04:27.495836Z",
     "iopub.status.busy": "2024-09-25T11:04:27.495718Z",
     "iopub.status.idle": "2024-09-25T11:04:27.917114Z",
     "shell.execute_reply": "2024-09-25T11:04:27.916709Z",
     "shell.execute_reply.started": "2024-09-25T11:04:27.495824Z"
    }
   },
   "outputs": [],
   "source": [
    "from matplotlib.dates import DateFormatter\n",
    "date_form = DateFormatter(\"%y-%m-%d\")\n",
    "fig,axs = plt.subplots(2,1,figsize=(12,6),sharex=True)\n",
    "ax1,ax2  = axs\n",
    "df.plot(x=\"Time\",y=\"median\",ax=ax1,marker='+',c=\"r\",lw=0.0,grid=True,label=\"Ozone_x\")\n",
    "ax1.errorbar(x=df[\"Time\"], y=df[\"median\"],yerr=df[\"std\"],fmt=\".\",color=\"r\",ecolor=\"k\")\n",
    "ax1.set_ylabel(\"Ozone (DU)\")\n",
    "ax1.set_xlabel(\"time\")\n",
    "ax1.xaxis.set_major_formatter(date_form)\n",
    "ax1.set_title(\"Median Ozone per night\")\n",
    "ax1.set_ylim(0.,600.)\n",
    "\n",
    "ax2.set_title(\"Fitted drift per night\")\n",
    "ax2.errorbar(x=df[\"Time\"], y=df[\"slope\"],yerr=df[\"slope_err\"],fmt=\".\",color=\"r\",ecolor=\"k\")\n",
    "ax2.grid()\n",
    "ax2.set_ylabel(\"dOzone/dt (DU/hour)\")\n",
    "ax2.set_xlabel(\"time\")\n",
    "ax2.set_ylim(-50.,50.)\n",
    "ax2.xaxis.set_major_formatter(date_form)\n",
    "\n",
    "ax2.tick_params(axis='x', labelrotation=45)\n",
    "#for key, tt in d.items():\n",
    "#    ax1.axvspan(tt[0],tt[1], color='blue', alpha=0.1)\n",
    "\n",
    "plt.tight_layout()"
   ]
  },
  {
   "cell_type": "code",
   "execution_count": null,
   "id": "6b9b1cf9-b7a0-448f-8262-c3277de89d62",
   "metadata": {
    "execution": {
     "iopub.execute_input": "2024-09-25T11:04:27.917884Z",
     "iopub.status.busy": "2024-09-25T11:04:27.917744Z",
     "iopub.status.idle": "2024-09-25T11:04:28.077483Z",
     "shell.execute_reply": "2024-09-25T11:04:28.077091Z",
     "shell.execute_reply.started": "2024-09-25T11:04:27.917871Z"
    }
   },
   "outputs": [],
   "source": [
    "from matplotlib.dates import DateFormatter\n",
    "date_form = DateFormatter(\"%y-%m-%d\")\n",
    "fig,axs = plt.subplots(1,1,figsize=(12,4))\n",
    "ax1 = axs\n",
    "df.plot(x=\"Time\",y=\"median\",ax=ax1,marker='+',c=\"r\",ms=20,lw=0.0,grid=True,label=\"Ozone_x\")\n",
    "ax1.errorbar(x=df[\"Time\"], y=df[\"median\"],yerr=df[\"std\"],fmt=\"o\",ms=5,color=\"r\",ecolor=\"k\")\n",
    "ax1.set_ylabel(\"Ozone (DU)\")\n",
    "ax1.set_xlabel(\"time\")\n",
    "ax1.xaxis.set_major_formatter(date_form)\n",
    "ax1.set_title(\"Median and spread of Ozone per night\")\n",
    "ax1.set_ylim(0.,600)"
   ]
  },
  {
   "cell_type": "code",
   "execution_count": null,
   "id": "4f2b57be-182f-40f6-8def-ba956324e445",
   "metadata": {},
   "outputs": [],
   "source": []
  }
 ],
 "metadata": {
  "kernelspec": {
   "display_name": "Python 3 (ipykernel)",
   "language": "python",
   "name": "python3"
  },
  "language_info": {
   "codemirror_mode": {
    "name": "ipython",
    "version": 3
   },
   "file_extension": ".py",
   "mimetype": "text/x-python",
   "name": "python",
   "nbconvert_exporter": "python",
   "pygments_lexer": "ipython3",
   "version": "3.11.9"
  }
 },
 "nbformat": 4,
 "nbformat_minor": 5
}
