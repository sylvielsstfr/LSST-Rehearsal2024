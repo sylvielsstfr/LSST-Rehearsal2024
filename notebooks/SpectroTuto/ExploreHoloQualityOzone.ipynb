{
 "cells": [
  {
   "cell_type": "markdown",
   "id": "45bf4242-bfc5-4d43-88c4-a8059ae148df",
   "metadata": {},
   "source": [
    "# Explore hologram data  quality on Hologram For Ozone"
   ]
  },
  {
   "cell_type": "markdown",
   "id": "01993b6e-6438-4fca-a5d5-1f9791336847",
   "metadata": {},
   "source": [
    "- author Sylvie Dagoret-Campagne\n",
    "- creation date 2024-09-19\n",
    "- last update : 2024-09-25\n",
    "- last update : 2024-09-26 : version v3\n",
    "- affiliation : IJCLab\n",
    "- Kernel @usdf **w_2024_37**\n",
    "- Office emac : mamba_py311\n",
    "- Home emac : base (conda)\n",
    "- laptop : conda_py310\n"
   ]
  },
  {
   "cell_type": "code",
   "execution_count": null,
   "id": "dcc53afe-c58f-4948-92c9-0090d373ad2a",
   "metadata": {
    "execution": {
     "iopub.execute_input": "2024-09-27T06:38:38.439065Z",
     "iopub.status.busy": "2024-09-27T06:38:38.438939Z",
     "iopub.status.idle": "2024-09-27T06:38:38.441016Z",
     "shell.execute_reply": "2024-09-27T06:38:38.440701Z",
     "shell.execute_reply.started": "2024-09-27T06:38:38.439053Z"
    }
   },
   "outputs": [],
   "source": [
    "import warnings\n",
    "warnings.resetwarnings()\n",
    "warnings.simplefilter('ignore')"
   ]
  },
  {
   "cell_type": "code",
   "execution_count": null,
   "id": "8026d265-2493-4045-afec-26205ff71f7c",
   "metadata": {
    "execution": {
     "iopub.execute_input": "2024-09-27T06:38:38.441605Z",
     "iopub.status.busy": "2024-09-27T06:38:38.441491Z",
     "iopub.status.idle": "2024-09-27T06:38:38.445559Z",
     "shell.execute_reply": "2024-09-27T06:38:38.445239Z",
     "shell.execute_reply.started": "2024-09-27T06:38:38.441594Z"
    },
    "tags": []
   },
   "outputs": [],
   "source": [
    "from platform import python_version\n",
    "print(python_version())"
   ]
  },
  {
   "cell_type": "code",
   "execution_count": null,
   "id": "eb1f116e-80e3-46ad-a7db-7f253632e5ca",
   "metadata": {
    "execution": {
     "iopub.execute_input": "2024-09-27T06:38:38.446204Z",
     "iopub.status.busy": "2024-09-27T06:38:38.446091Z",
     "iopub.status.idle": "2024-09-27T06:38:38.449731Z",
     "shell.execute_reply": "2024-09-27T06:38:38.449406Z",
     "shell.execute_reply.started": "2024-09-27T06:38:38.446193Z"
    }
   },
   "outputs": [],
   "source": [
    "import os"
   ]
  },
  {
   "cell_type": "code",
   "execution_count": null,
   "id": "3ec760cd-3d3f-4a34-a6f6-b226fe500951",
   "metadata": {
    "execution": {
     "iopub.execute_input": "2024-09-27T06:38:38.451021Z",
     "iopub.status.busy": "2024-09-27T06:38:38.450904Z",
     "iopub.status.idle": "2024-09-27T06:38:38.453927Z",
     "shell.execute_reply": "2024-09-27T06:38:38.453594Z",
     "shell.execute_reply.started": "2024-09-27T06:38:38.451009Z"
    }
   },
   "outputs": [],
   "source": [
    "# where are stored the figures\n",
    "pathfigs = \"figsOzone\"\n",
    "if not os.path.exists(pathfigs):\n",
    "    os.makedirs(pathfigs) \n",
    "figtype = \".png\""
   ]
  },
  {
   "cell_type": "code",
   "execution_count": null,
   "id": "bf752b70-e6ca-4cbf-8e8c-20bf7f0d8f61",
   "metadata": {
    "execution": {
     "iopub.execute_input": "2024-09-27T06:38:38.454478Z",
     "iopub.status.busy": "2024-09-27T06:38:38.454355Z",
     "iopub.status.idle": "2024-09-27T06:38:39.401905Z",
     "shell.execute_reply": "2024-09-27T06:38:39.401446Z",
     "shell.execute_reply.started": "2024-09-27T06:38:38.454463Z"
    }
   },
   "outputs": [],
   "source": [
    "import numpy as np\n",
    "from numpy.linalg import inv\n",
    "import matplotlib as mpl\n",
    "import matplotlib.pyplot as plt\n",
    "%matplotlib inline\n",
    "from mpl_toolkits.axes_grid1 import make_axes_locatable\n",
    "from matplotlib.colors import LogNorm,SymLogNorm\n",
    "from matplotlib.patches import Circle,Annulus\n",
    "from astropy.visualization import ZScaleInterval\n",
    "props = dict(boxstyle='round', facecolor=\"white\", alpha=0.1)\n",
    "#props = dict(boxstyle='round')\n",
    "\n",
    "import matplotlib.colors as colors\n",
    "import matplotlib.cm as cmx\n",
    "\n",
    "import matplotlib.ticker                         # here's where the formatter is\n",
    "from matplotlib.ticker import (MultipleLocator, FormatStrFormatter,\n",
    "                               AutoMinorLocator)\n",
    "\n",
    "from matplotlib.gridspec import GridSpec\n",
    "\n",
    "from astropy.visualization import (MinMaxInterval, SqrtStretch,ZScaleInterval,PercentileInterval,\n",
    "                                   ImageNormalize,imshow_norm)\n",
    "from astropy.visualization.stretch import SinhStretch, LinearStretch,AsinhStretch,LogStretch\n",
    "\n",
    "from astropy.io import fits\n",
    "from astropy.wcs import WCS\n",
    "from astropy import units as u\n",
    "from astropy import constants as c\n",
    "\n",
    "from scipy import interpolate\n",
    "from sklearn.neighbors import NearestNeighbors\n",
    "from sklearn.neighbors import KDTree, BallTree\n",
    "\n",
    "import pandas as pd\n",
    "pd.set_option(\"display.max_columns\", None)\n",
    "pd.set_option('display.max_rows', 100)\n",
    "\n",
    "import matplotlib.ticker                         # here's where the formatter is\n",
    "import os\n",
    "import re\n",
    "import pandas as pd\n",
    "import pickle\n",
    "from collections import OrderedDict\n",
    "\n",
    "plt.rcParams[\"figure.figsize\"] = (4,3)\n",
    "plt.rcParams[\"axes.labelsize\"] = 'xx-large'\n",
    "plt.rcParams['axes.titlesize'] = 'xx-large'\n",
    "plt.rcParams['xtick.labelsize']= 'xx-large'\n",
    "plt.rcParams['ytick.labelsize']= 'xx-large'\n",
    "\n",
    "import scipy\n",
    "from scipy.optimize import curve_fit,least_squares\n",
    "\n",
    "\n",
    "# new color correction model\n",
    "import pickle\n",
    "from scipy.interpolate import RegularGridInterpolator"
   ]
  },
  {
   "cell_type": "code",
   "execution_count": null,
   "id": "0ca0d1e6-5f82-4c43-aaa3-8524fc2bc5ba",
   "metadata": {
    "execution": {
     "iopub.execute_input": "2024-09-27T06:38:39.402837Z",
     "iopub.status.busy": "2024-09-27T06:38:39.402529Z",
     "iopub.status.idle": "2024-09-27T06:38:39.405519Z",
     "shell.execute_reply": "2024-09-27T06:38:39.405152Z",
     "shell.execute_reply.started": "2024-09-27T06:38:39.402822Z"
    }
   },
   "outputs": [],
   "source": [
    "from matplotlib.ticker import (MultipleLocator, FormatStrFormatter,\n",
    "                               AutoMinorLocator)\n",
    "\n",
    "from astropy.visualization import (MinMaxInterval, SqrtStretch,ZScaleInterval,PercentileInterval,\n",
    "                                   ImageNormalize,imshow_norm)\n",
    "from astropy.visualization.stretch import SinhStretch, LinearStretch,AsinhStretch,LogStretch\n",
    "\n",
    "from astropy.time import Time\n"
   ]
  },
  {
   "cell_type": "code",
   "execution_count": null,
   "id": "e189816c-5048-43ab-a01a-7c078af54489",
   "metadata": {
    "execution": {
     "iopub.execute_input": "2024-09-27T06:38:39.406266Z",
     "iopub.status.busy": "2024-09-27T06:38:39.406142Z",
     "iopub.status.idle": "2024-09-27T06:38:39.411249Z",
     "shell.execute_reply": "2024-09-27T06:38:39.410902Z",
     "shell.execute_reply.started": "2024-09-27T06:38:39.406254Z"
    }
   },
   "outputs": [],
   "source": [
    "# Remove this if want to run faster the ntoebook\n",
    "# import ipywidgets as widgets\n",
    "# %matplotlib widget"
   ]
  },
  {
   "cell_type": "code",
   "execution_count": null,
   "id": "67327fd4-e405-45ce-8923-cd46ebaa0c0f",
   "metadata": {
    "execution": {
     "iopub.execute_input": "2024-09-27T06:38:39.411904Z",
     "iopub.status.busy": "2024-09-27T06:38:39.411679Z",
     "iopub.status.idle": "2024-09-27T06:38:39.416103Z",
     "shell.execute_reply": "2024-09-27T06:38:39.415681Z",
     "shell.execute_reply.started": "2024-09-27T06:38:39.411893Z"
    },
    "tags": []
   },
   "outputs": [],
   "source": [
    "from importlib.metadata import version"
   ]
  },
  {
   "cell_type": "code",
   "execution_count": null,
   "id": "af8332dd-24f9-4b19-88f9-c62d0a4aebf1",
   "metadata": {
    "execution": {
     "iopub.execute_input": "2024-09-27T06:38:39.416752Z",
     "iopub.status.busy": "2024-09-27T06:38:39.416616Z",
     "iopub.status.idle": "2024-09-27T06:38:39.419533Z",
     "shell.execute_reply": "2024-09-27T06:38:39.419198Z",
     "shell.execute_reply.started": "2024-09-27T06:38:39.416741Z"
    },
    "tags": []
   },
   "outputs": [],
   "source": [
    "# wavelength bin colors\n",
    "#jet = plt.get_cmap('jet')\n",
    "#cNorm = mpl.colors.Normalize(vmin=0, vmax=NSED)\n",
    "#scalarMap = cmx.ScalarMappable(norm=cNorm, cmap=jet)\n",
    "#all_colors = scalarMap.to_rgba(np.arange(NSED), alpha=1)"
   ]
  },
  {
   "cell_type": "markdown",
   "id": "4f13d6a3-7793-4bc0-920a-1d690d9f84b2",
   "metadata": {},
   "source": [
    "## Configuration"
   ]
  },
  {
   "cell_type": "code",
   "execution_count": null,
   "id": "5bac0cab-3886-4683-b1c8-fc59edacfd46",
   "metadata": {
    "execution": {
     "iopub.execute_input": "2024-09-27T06:38:39.420108Z",
     "iopub.status.busy": "2024-09-27T06:38:39.419989Z",
     "iopub.status.idle": "2024-09-27T06:38:39.424686Z",
     "shell.execute_reply": "2024-09-27T06:38:39.424361Z",
     "shell.execute_reply.started": "2024-09-27T06:38:39.420097Z"
    },
    "tags": []
   },
   "outputs": [],
   "source": [
    "version_results = \"v3\"\n",
    "legendtag = {\"v1\" : \"old v3.1.0\",\n",
    "            \"v2\" : \"v3.1.0-PWV<10mm\",\n",
    "            \"v3\" : \"v3.1.0-PWV<15mm\"}"
   ]
  },
  {
   "cell_type": "code",
   "execution_count": null,
   "id": "d2da44ec-bc29-4659-b618-73b7abc1cbbc",
   "metadata": {
    "execution": {
     "iopub.execute_input": "2024-09-27T06:38:39.425272Z",
     "iopub.status.busy": "2024-09-27T06:38:39.425153Z",
     "iopub.status.idle": "2024-09-27T06:38:39.428250Z",
     "shell.execute_reply": "2024-09-27T06:38:39.427925Z",
     "shell.execute_reply.started": "2024-09-27T06:38:39.425261Z"
    }
   },
   "outputs": [],
   "source": [
    "atmfilenamesdict = {\"v1\" : \"data/spectro/auxtel_atmosphere_202301_v3.1.0_doSensorFlat_rebin2_testWithMaskedEdges_newBoundaries_newPolysRescaled_newFitBounds_adjustA1_lockedOrder2_removeThroughputTails_2.npy\",\n",
    "                    \"v2\" : \"auxtel_atmosphere_202301_v3.1.0_doSensorFlat_rebin2_lockedOrder2_FixA1_FixA2_FitAngstrom_FixA1_FixA2_FitAngstrom_WithGaia_freePressure_newThroughput6_BG40Scaled1.09_PeekFinder.npy\",\n",
    "                    \"v3\" : \"u_dagoret_auxtel_atmosphere_202301_v3.1.0_doSensorFlat_rebin2_lockedOrder2_FixA1_FixA2_FitAngstrom_WithGaia_freePressure_newThroughput6_BG40Scaled1.09_AtmoFitPressureA2_SpecErr_PeekFinder_20240924T161119Z.npy\"}"
   ]
  },
  {
   "cell_type": "code",
   "execution_count": null,
   "id": "a2a9c11f-05b8-4465-b96a-3f18d81572f0",
   "metadata": {
    "execution": {
     "iopub.execute_input": "2024-09-27T06:38:39.428897Z",
     "iopub.status.busy": "2024-09-27T06:38:39.428784Z",
     "iopub.status.idle": "2024-09-27T06:38:39.434918Z",
     "shell.execute_reply": "2024-09-27T06:38:39.434578Z",
     "shell.execute_reply.started": "2024-09-27T06:38:39.428886Z"
    }
   },
   "outputs": [],
   "source": [
    "atmfilename = atmfilenamesdict[version_results]\n",
    "tag = legendtag[version_results] "
   ]
  },
  {
   "cell_type": "markdown",
   "id": "f7458eb3-ece8-4c6d-969e-ee8edc0bcbef",
   "metadata": {},
   "source": [
    "## Initialisation"
   ]
  },
  {
   "cell_type": "markdown",
   "id": "862ec9d0-2c81-4fda-8a5a-4ba1d24fb1b0",
   "metadata": {},
   "source": [
    "### Read the file"
   ]
  },
  {
   "cell_type": "code",
   "execution_count": null,
   "id": "ad60336b-f26f-4184-bcdf-e596329ecbbd",
   "metadata": {
    "execution": {
     "iopub.execute_input": "2024-09-27T06:38:39.435465Z",
     "iopub.status.busy": "2024-09-27T06:38:39.435350Z",
     "iopub.status.idle": "2024-09-27T06:38:39.607186Z",
     "shell.execute_reply": "2024-09-27T06:38:39.606707Z",
     "shell.execute_reply.started": "2024-09-27T06:38:39.435455Z"
    }
   },
   "outputs": [],
   "source": [
    "specdata = np.load(atmfilename,allow_pickle=True)"
   ]
  },
  {
   "cell_type": "code",
   "execution_count": null,
   "id": "3d9c7249-f818-4a98-8000-9be75b3c7a21",
   "metadata": {
    "execution": {
     "iopub.execute_input": "2024-09-27T06:38:39.607938Z",
     "iopub.status.busy": "2024-09-27T06:38:39.607807Z",
     "iopub.status.idle": "2024-09-27T06:38:39.622305Z",
     "shell.execute_reply": "2024-09-27T06:38:39.621907Z",
     "shell.execute_reply.started": "2024-09-27T06:38:39.607926Z"
    }
   },
   "outputs": [],
   "source": [
    "df_spec = pd.DataFrame(specdata)"
   ]
  },
  {
   "cell_type": "markdown",
   "id": "18c6084d-c8db-4275-a950-1b8a355c6dec",
   "metadata": {},
   "source": [
    "### Compute NightObs"
   ]
  },
  {
   "cell_type": "code",
   "execution_count": null,
   "id": "4de5d570-2e92-468b-ab07-63fffd8d2b8c",
   "metadata": {
    "execution": {
     "iopub.execute_input": "2024-09-27T06:38:39.623010Z",
     "iopub.status.busy": "2024-09-27T06:38:39.622882Z",
     "iopub.status.idle": "2024-09-27T06:38:39.654419Z",
     "shell.execute_reply": "2024-09-27T06:38:39.653994Z",
     "shell.execute_reply.started": "2024-09-27T06:38:39.622999Z"
    }
   },
   "outputs": [],
   "source": [
    "df_spec[\"nightObs\"] = df_spec.apply(lambda x: x['id']//100_000, axis=1)"
   ]
  },
  {
   "cell_type": "markdown",
   "id": "a169fe26-d26c-4b91-81e2-f0d7545e723a",
   "metadata": {},
   "source": [
    "#### Series on spec"
   ]
  },
  {
   "cell_type": "code",
   "execution_count": null,
   "id": "49c29905-817c-4fe8-ae2e-93351e765333",
   "metadata": {
    "execution": {
     "iopub.execute_input": "2024-09-27T06:38:39.655145Z",
     "iopub.status.busy": "2024-09-27T06:38:39.655010Z",
     "iopub.status.idle": "2024-09-27T06:38:39.657890Z",
     "shell.execute_reply": "2024-09-27T06:38:39.657554Z",
     "shell.execute_reply.started": "2024-09-27T06:38:39.655133Z"
    },
    "tags": []
   },
   "outputs": [],
   "source": [
    "ser_spec_size = df_spec.groupby([\"nightObs\"]).size()"
   ]
  },
  {
   "cell_type": "code",
   "execution_count": null,
   "id": "6ce22f7e-bf6b-470a-af72-325d4a0077ab",
   "metadata": {
    "execution": {
     "iopub.execute_input": "2024-09-27T06:38:39.658515Z",
     "iopub.status.busy": "2024-09-27T06:38:39.658391Z",
     "iopub.status.idle": "2024-09-27T06:38:39.760345Z",
     "shell.execute_reply": "2024-09-27T06:38:39.759967Z",
     "shell.execute_reply.started": "2024-09-27T06:38:39.658504Z"
    }
   },
   "outputs": [],
   "source": [
    "fig,ax = plt.subplots(1,1)\n",
    "ax.hist(ser_spec_size.values,bins=50,facecolor=\"b\")\n",
    "ax.set_title(\"nb obs per night\")\n",
    "ax.set_xlabel(\"Nobs/night\")"
   ]
  },
  {
   "cell_type": "markdown",
   "id": "1ab48a04-9369-4cc5-bcc4-102bc5eb6965",
   "metadata": {},
   "source": [
    "##### Make 3 series"
   ]
  },
  {
   "cell_type": "code",
   "execution_count": null,
   "id": "faff0c81-88d9-466b-808c-801800256275",
   "metadata": {
    "execution": {
     "iopub.execute_input": "2024-09-27T06:38:39.761008Z",
     "iopub.status.busy": "2024-09-27T06:38:39.760882Z",
     "iopub.status.idle": "2024-09-27T06:38:39.772602Z",
     "shell.execute_reply": "2024-09-27T06:38:39.772241Z",
     "shell.execute_reply.started": "2024-09-27T06:38:39.760996Z"
    },
    "tags": []
   },
   "outputs": [],
   "source": [
    "ser_CHI2_FIT = df_spec[[\"CHI2_FIT\",\"nightObs\"]].groupby([\"nightObs\"]).agg(['count','min', 'max','mean','std','median'])\n",
    "ser_O3 = df_spec[[\"ozone [db]_x\",\"nightObs\"]].groupby([\"nightObs\"]).agg(['count','min', 'max','mean','std','median'])\n",
    "ser_O3_CHI2_FIT = df_spec[[\"ozone [db]_x\",\"CHI2_FIT\",\"nightObs\"]].groupby([\"nightObs\"]).agg(['count','min', 'max','mean','std','median'])"
   ]
  },
  {
   "cell_type": "code",
   "execution_count": null,
   "id": "e26f48e9-02dd-4cdd-abf1-11fc5d0ccd0d",
   "metadata": {
    "execution": {
     "iopub.execute_input": "2024-09-27T06:38:39.775278Z",
     "iopub.status.busy": "2024-09-27T06:38:39.775154Z",
     "iopub.status.idle": "2024-09-27T06:38:39.777087Z",
     "shell.execute_reply": "2024-09-27T06:38:39.776763Z",
     "shell.execute_reply.started": "2024-09-27T06:38:39.775267Z"
    }
   },
   "outputs": [],
   "source": [
    "#ser_O3"
   ]
  },
  {
   "cell_type": "code",
   "execution_count": null,
   "id": "31cd0a79-1b0b-4af3-8f7f-eb01342048ca",
   "metadata": {
    "execution": {
     "iopub.execute_input": "2024-09-27T06:38:39.777615Z",
     "iopub.status.busy": "2024-09-27T06:38:39.777503Z",
     "iopub.status.idle": "2024-09-27T06:38:39.780749Z",
     "shell.execute_reply": "2024-09-27T06:38:39.780421Z",
     "shell.execute_reply.started": "2024-09-27T06:38:39.777604Z"
    },
    "tags": []
   },
   "outputs": [],
   "source": [
    "#ser_CHI2_FIT"
   ]
  },
  {
   "cell_type": "code",
   "execution_count": null,
   "id": "3429f0df-af66-4c8b-9e1f-ca934fc2dc13",
   "metadata": {
    "execution": {
     "iopub.execute_input": "2024-09-27T06:38:39.781314Z",
     "iopub.status.busy": "2024-09-27T06:38:39.781199Z",
     "iopub.status.idle": "2024-09-27T06:38:39.785593Z",
     "shell.execute_reply": "2024-09-27T06:38:39.785268Z",
     "shell.execute_reply.started": "2024-09-27T06:38:39.781303Z"
    },
    "tags": []
   },
   "outputs": [],
   "source": [
    "#ser_O3_CHI2_FIT "
   ]
  },
  {
   "cell_type": "markdown",
   "id": "d7c4cd36-ab87-41c0-a25a-e48cb8bee9e7",
   "metadata": {},
   "source": [
    "### Plot Ozone and Chi2 before anly selection"
   ]
  },
  {
   "cell_type": "code",
   "execution_count": null,
   "id": "80317b40-62e1-4b9d-9411-ddca229fa9aa",
   "metadata": {
    "execution": {
     "iopub.execute_input": "2024-09-27T06:38:39.786103Z",
     "iopub.status.busy": "2024-09-27T06:38:39.785993Z",
     "iopub.status.idle": "2024-09-27T06:38:40.466598Z",
     "shell.execute_reply": "2024-09-27T06:38:40.466211Z",
     "shell.execute_reply.started": "2024-09-27T06:38:39.786092Z"
    },
    "tags": []
   },
   "outputs": [],
   "source": [
    "fig,ax = plt.subplots(1,1,figsize=(18,3))\n",
    "ser_O3.unstack()[\"ozone [db]_x\"][\"count\"].plot(kind='bar', ax=ax,subplots=False, rot=90,figsize=(18,4),facecolor=\"b\",grid=True,title=\"Number of measurements per night\")\n",
    "plt.tight_layout()"
   ]
  },
  {
   "cell_type": "code",
   "execution_count": null,
   "id": "c8bfe4d6-fe88-4187-be0f-29be89a45523",
   "metadata": {
    "execution": {
     "iopub.execute_input": "2024-09-27T06:38:40.467316Z",
     "iopub.status.busy": "2024-09-27T06:38:40.467182Z",
     "iopub.status.idle": "2024-09-27T06:38:41.132842Z",
     "shell.execute_reply": "2024-09-27T06:38:41.132454Z",
     "shell.execute_reply.started": "2024-09-27T06:38:40.467304Z"
    },
    "tags": []
   },
   "outputs": [],
   "source": [
    "fig,ax = plt.subplots(1,1,figsize=(18,3))\n",
    "ser_O3.unstack()[\"ozone [db]_x\"][\"mean\"].plot(kind='bar',ax=ax ,subplots=False, rot=90,figsize=(18,4),facecolor='b',grid=True,title=\"Mean Ozone per night\")\n",
    "plt.tight_layout()"
   ]
  },
  {
   "cell_type": "code",
   "execution_count": null,
   "id": "e3e93140-4e76-41ec-8670-2043771a7e00",
   "metadata": {
    "execution": {
     "iopub.execute_input": "2024-09-27T06:38:41.133565Z",
     "iopub.status.busy": "2024-09-27T06:38:41.133432Z",
     "iopub.status.idle": "2024-09-27T06:38:41.906586Z",
     "shell.execute_reply": "2024-09-27T06:38:41.906204Z",
     "shell.execute_reply.started": "2024-09-27T06:38:41.133553Z"
    },
    "tags": []
   },
   "outputs": [],
   "source": [
    "fig,ax = plt.subplots(1,1,figsize=(18,3))\n",
    "ser_O3.unstack()[\"ozone [db]_x\"][\"median\"].plot(kind='bar',ax=ax ,subplots=False, rot=90,figsize=(18,4),facecolor='b',grid=True,title=\"Median Ozone per night\")\n",
    "plt.tight_layout()"
   ]
  },
  {
   "cell_type": "code",
   "execution_count": null,
   "id": "67e69917-efb7-40f3-9a4c-1b9d579e9cad",
   "metadata": {
    "execution": {
     "iopub.execute_input": "2024-09-27T06:38:41.907307Z",
     "iopub.status.busy": "2024-09-27T06:38:41.907172Z",
     "iopub.status.idle": "2024-09-27T06:38:42.593095Z",
     "shell.execute_reply": "2024-09-27T06:38:42.592706Z",
     "shell.execute_reply.started": "2024-09-27T06:38:41.907294Z"
    },
    "tags": []
   },
   "outputs": [],
   "source": [
    "fig,ax = plt.subplots(1,1,figsize=(18,3))\n",
    "ser_O3.unstack()[\"ozone [db]_x\"][\"std\"].plot(kind='bar', subplots=False, rot=90,figsize=(18,4),facecolor='b',grid=True,title=\"STD variation for Ozone per night\")\n",
    "plt.tight_layout()"
   ]
  },
  {
   "cell_type": "code",
   "execution_count": null,
   "id": "a20e0562-16d6-4e90-a167-0d858327d347",
   "metadata": {
    "execution": {
     "iopub.execute_input": "2024-09-27T06:38:42.593808Z",
     "iopub.status.busy": "2024-09-27T06:38:42.593669Z",
     "iopub.status.idle": "2024-09-27T06:38:43.261064Z",
     "shell.execute_reply": "2024-09-27T06:38:43.260677Z",
     "shell.execute_reply.started": "2024-09-27T06:38:42.593796Z"
    },
    "tags": []
   },
   "outputs": [],
   "source": [
    "fig,ax = plt.subplots(1,1,figsize=(18,3))\n",
    "ser_CHI2_FIT.unstack()[\"CHI2_FIT\"][\"count\"].plot(kind='bar', ax=ax,subplots=False, rot=90,figsize=(18,4),facecolor=\"r\",grid=True,title=\"Number of measurements per night\")\n",
    "plt.tight_layout()"
   ]
  },
  {
   "cell_type": "code",
   "execution_count": null,
   "id": "be19fd80-6fd1-41ad-ae5a-224b4655b51d",
   "metadata": {
    "execution": {
     "iopub.execute_input": "2024-09-27T06:38:43.261846Z",
     "iopub.status.busy": "2024-09-27T06:38:43.261632Z",
     "iopub.status.idle": "2024-09-27T06:38:44.028191Z",
     "shell.execute_reply": "2024-09-27T06:38:44.027818Z",
     "shell.execute_reply.started": "2024-09-27T06:38:43.261833Z"
    },
    "tags": []
   },
   "outputs": [],
   "source": [
    "fig,ax = plt.subplots(1,1,figsize=(18,3))\n",
    "ser_CHI2_FIT.unstack()[\"CHI2_FIT\"][\"mean\"].plot(kind='bar',ax=ax ,subplots=False, rot=90,figsize=(18,4),facecolor='r',grid=True,title=\"Mean CHI2 per night\")\n",
    "plt.tight_layout()"
   ]
  },
  {
   "cell_type": "code",
   "execution_count": null,
   "id": "6c7ff0b5-3c40-4921-9c2f-9455c51e99a5",
   "metadata": {
    "execution": {
     "iopub.execute_input": "2024-09-27T06:38:44.028885Z",
     "iopub.status.busy": "2024-09-27T06:38:44.028757Z",
     "iopub.status.idle": "2024-09-27T06:38:44.678438Z",
     "shell.execute_reply": "2024-09-27T06:38:44.678021Z",
     "shell.execute_reply.started": "2024-09-27T06:38:44.028872Z"
    },
    "tags": []
   },
   "outputs": [],
   "source": [
    "fig,ax = plt.subplots(1,1,figsize=(18,3))\n",
    "ser_CHI2_FIT.unstack()[\"CHI2_FIT\"][\"median\"].plot(kind='bar',ax=ax ,subplots=False, rot=90,figsize=(18,4),facecolor='r',grid=True,title=\"Median CHI2 per night\")\n",
    "plt.tight_layout()"
   ]
  },
  {
   "cell_type": "code",
   "execution_count": null,
   "id": "f1cefb7f-ed65-45a4-9f92-5655081afe10",
   "metadata": {
    "execution": {
     "iopub.execute_input": "2024-09-27T06:38:44.679173Z",
     "iopub.status.busy": "2024-09-27T06:38:44.679039Z",
     "iopub.status.idle": "2024-09-27T06:38:45.355125Z",
     "shell.execute_reply": "2024-09-27T06:38:45.354708Z",
     "shell.execute_reply.started": "2024-09-27T06:38:44.679161Z"
    },
    "tags": []
   },
   "outputs": [],
   "source": [
    "fig,ax = plt.subplots(1,1,figsize=(18,3))\n",
    "ser_CHI2_FIT.unstack()[\"CHI2_FIT\"][\"std\"].plot(kind='bar',ax=ax ,subplots=False, rot=90,figsize=(18,4),facecolor='r',grid=True,title=\"STD variation CHI2 per night\")\n",
    "plt.tight_layout()"
   ]
  },
  {
   "cell_type": "code",
   "execution_count": null,
   "id": "90ead6bb-6366-4927-beca-79f8fc1b4477",
   "metadata": {
    "execution": {
     "iopub.execute_input": "2024-09-27T06:38:45.355904Z",
     "iopub.status.busy": "2024-09-27T06:38:45.355764Z",
     "iopub.status.idle": "2024-09-27T06:38:45.358060Z",
     "shell.execute_reply": "2024-09-27T06:38:45.357703Z",
     "shell.execute_reply.started": "2024-09-27T06:38:45.355891Z"
    },
    "tags": []
   },
   "outputs": [],
   "source": [
    "#ser_O3_CHI2_FIT "
   ]
  },
  {
   "cell_type": "code",
   "execution_count": null,
   "id": "702a26c1-4b22-4b1c-9f8b-ebd3f2de61a1",
   "metadata": {
    "execution": {
     "iopub.execute_input": "2024-09-27T06:38:45.358709Z",
     "iopub.status.busy": "2024-09-27T06:38:45.358576Z",
     "iopub.status.idle": "2024-09-27T06:38:45.364226Z",
     "shell.execute_reply": "2024-09-27T06:38:45.363887Z",
     "shell.execute_reply.started": "2024-09-27T06:38:45.358697Z"
    },
    "tags": []
   },
   "outputs": [],
   "source": [
    "ser_O3_CHI2_FIT.loc[20230117,:]"
   ]
  },
  {
   "cell_type": "code",
   "execution_count": null,
   "id": "c463654d-ce69-48fb-b14d-0d466258f917",
   "metadata": {
    "execution": {
     "iopub.execute_input": "2024-09-27T06:38:45.364804Z",
     "iopub.status.busy": "2024-09-27T06:38:45.364680Z",
     "iopub.status.idle": "2024-09-27T06:38:45.379113Z",
     "shell.execute_reply": "2024-09-27T06:38:45.378771Z",
     "shell.execute_reply.started": "2024-09-27T06:38:45.364792Z"
    },
    "tags": []
   },
   "outputs": [],
   "source": [
    "df_unstack = ser_O3_CHI2_FIT.loc[20230117,:].unstack()\n",
    "df_unstack"
   ]
  },
  {
   "cell_type": "code",
   "execution_count": null,
   "id": "665aeaea-a974-4cac-95bc-14ef9d4298c5",
   "metadata": {
    "execution": {
     "iopub.execute_input": "2024-09-27T06:38:45.379675Z",
     "iopub.status.busy": "2024-09-27T06:38:45.379556Z",
     "iopub.status.idle": "2024-09-27T06:38:45.382701Z",
     "shell.execute_reply": "2024-09-27T06:38:45.382342Z",
     "shell.execute_reply.started": "2024-09-27T06:38:45.379664Z"
    },
    "tags": []
   },
   "outputs": [],
   "source": [
    "ser_O3_CHI2_FIT.loc[20230117,\"ozone [db]_x\"][\"count\"]"
   ]
  },
  {
   "cell_type": "code",
   "execution_count": null,
   "id": "005f6704-1ee2-403f-bfc7-e07e311cbb31",
   "metadata": {
    "execution": {
     "iopub.execute_input": "2024-09-27T06:38:45.383236Z",
     "iopub.status.busy": "2024-09-27T06:38:45.383120Z",
     "iopub.status.idle": "2024-09-27T06:38:45.385918Z",
     "shell.execute_reply": "2024-09-27T06:38:45.385569Z",
     "shell.execute_reply.started": "2024-09-27T06:38:45.383225Z"
    },
    "tags": []
   },
   "outputs": [],
   "source": [
    "df_unstack.loc[\"ozone [db]_x\",\"count\"]"
   ]
  },
  {
   "cell_type": "markdown",
   "id": "25efd6a8-35a5-4cbf-bf75-0a4131cdf1ba",
   "metadata": {},
   "source": [
    "#### Add aggregate data added to pandas dataframe"
   ]
  },
  {
   "cell_type": "code",
   "execution_count": null,
   "id": "6c777a31-67c1-4466-8808-e975dda49994",
   "metadata": {
    "execution": {
     "iopub.execute_input": "2024-09-27T06:38:45.386513Z",
     "iopub.status.busy": "2024-09-27T06:38:45.386396Z",
     "iopub.status.idle": "2024-09-27T06:38:45.391919Z",
     "shell.execute_reply": "2024-09-27T06:38:45.391579Z",
     "shell.execute_reply.started": "2024-09-27T06:38:45.386502Z"
    },
    "tags": []
   },
   "outputs": [],
   "source": [
    "def FillAgreggates(row):\n",
    "    the_nightObs = row[\"nightObs\"]\n",
    "    df_night = ser_O3_CHI2_FIT.loc[the_nightObs,:].unstack()\n",
    "    count = df_night.loc[\"ozone [db]_x\",\"count\"]\n",
    "    o3min = df_night.loc[\"ozone [db]_x\",\"min\"]\n",
    "    o3max = df_night.loc[\"ozone [db]_x\",\"max\"]\n",
    "    o3mean = df_night.loc[\"ozone [db]_x\",\"mean\"]\n",
    "    o3median = df_night.loc[\"ozone [db]_x\",\"median\"]\n",
    "    o3std = df_night.loc[\"ozone [db]_x\",\"std\"]\n",
    "    chi2min = df_night.loc[\"CHI2_FIT\",\"min\"]\n",
    "    chi2max = df_night.loc[\"CHI2_FIT\",\"max\"]\n",
    "    chi2mean = df_night.loc[\"CHI2_FIT\",\"mean\"]\n",
    "    chi2median = df_night.loc[\"CHI2_FIT\",\"median\"]\n",
    "    chi2std = df_night.loc[\"CHI2_FIT\",\"std\"]\n",
    "    \n",
    "    d = {\"_count\":count,\"_o3min\":o3min,\"_o3max\":o3max,\"_o3mean\":o3mean,\"_o3median\":o3median,\"_o3std\":o3std,\n",
    "        \"_chi2min\":chi2min,\"_chi2max\":chi2max,\"_chi2mean\":chi2mean,\"_chi2median\":chi2median,\"_chi2std\":chi2std}\n",
    "    \n",
    "    ser = pd.Series(data=d)\n",
    "\n",
    "    return ser\n",
    "    "
   ]
  },
  {
   "cell_type": "code",
   "execution_count": null,
   "id": "3fe7741b-b438-4fbd-b881-1cab01ee9d92",
   "metadata": {
    "execution": {
     "iopub.execute_input": "2024-09-27T06:38:45.392623Z",
     "iopub.status.busy": "2024-09-27T06:38:45.392406Z",
     "iopub.status.idle": "2024-09-27T06:38:45.398582Z",
     "shell.execute_reply": "2024-09-27T06:38:45.398196Z",
     "shell.execute_reply.started": "2024-09-27T06:38:45.392611Z"
    },
    "tags": []
   },
   "outputs": [],
   "source": [
    "row = df_spec.iloc[0]"
   ]
  },
  {
   "cell_type": "code",
   "execution_count": null,
   "id": "f001cb73-c1c5-4019-a8ae-b148aeec0bf7",
   "metadata": {
    "execution": {
     "iopub.execute_input": "2024-09-27T06:38:45.399215Z",
     "iopub.status.busy": "2024-09-27T06:38:45.399090Z",
     "iopub.status.idle": "2024-09-27T06:38:45.403051Z",
     "shell.execute_reply": "2024-09-27T06:38:45.402691Z",
     "shell.execute_reply.started": "2024-09-27T06:38:45.399204Z"
    },
    "tags": []
   },
   "outputs": [],
   "source": [
    "row"
   ]
  },
  {
   "cell_type": "code",
   "execution_count": null,
   "id": "c2a13cbb-fe9f-45ef-be3c-53d345da591d",
   "metadata": {
    "execution": {
     "iopub.execute_input": "2024-09-27T06:38:45.403659Z",
     "iopub.status.busy": "2024-09-27T06:38:45.403540Z",
     "iopub.status.idle": "2024-09-27T06:38:45.408706Z",
     "shell.execute_reply": "2024-09-27T06:38:45.408364Z",
     "shell.execute_reply.started": "2024-09-27T06:38:45.403648Z"
    },
    "tags": []
   },
   "outputs": [],
   "source": [
    "FillAgreggates(row)"
   ]
  },
  {
   "cell_type": "markdown",
   "id": "2d738135-cd0b-4476-813d-2622d322ced7",
   "metadata": {},
   "source": [
    "#### join dataframe + aggregates"
   ]
  },
  {
   "cell_type": "code",
   "execution_count": null,
   "id": "7078b47e-2d0a-40bc-b225-c321abd1af88",
   "metadata": {
    "execution": {
     "iopub.execute_input": "2024-09-27T06:38:45.409301Z",
     "iopub.status.busy": "2024-09-27T06:38:45.409184Z",
     "iopub.status.idle": "2024-09-27T06:38:48.495175Z",
     "shell.execute_reply": "2024-09-27T06:38:48.494718Z",
     "shell.execute_reply.started": "2024-09-27T06:38:45.409290Z"
    },
    "tags": []
   },
   "outputs": [],
   "source": [
    "df_spec = df_spec.join(df_spec.apply(FillAgreggates,axis=1,result_type=\"expand\"))"
   ]
  },
  {
   "cell_type": "markdown",
   "id": "a4f8b443-4bc5-46fc-a548-33441edee6da",
   "metadata": {},
   "source": [
    "## Apply Quality selection"
   ]
  },
  {
   "cell_type": "code",
   "execution_count": null,
   "id": "2325b3ff-29c2-445a-b25e-cc11aba4f45a",
   "metadata": {
    "execution": {
     "iopub.execute_input": "2024-09-27T06:38:48.495957Z",
     "iopub.status.busy": "2024-09-27T06:38:48.495814Z",
     "iopub.status.idle": "2024-09-27T06:38:48.708390Z",
     "shell.execute_reply": "2024-09-27T06:38:48.707964Z",
     "shell.execute_reply.started": "2024-09-27T06:38:48.495944Z"
    },
    "tags": []
   },
   "outputs": [],
   "source": [
    "fig,ax = plt.subplots(1,1)\n",
    "df_spec[\"CHI2_FIT\"].hist(bins=50,ax=ax,range=(0,200))\n",
    "ax.set_yscale(\"log\")"
   ]
  },
  {
   "cell_type": "markdown",
   "id": "bed85d32-aad9-4eb1-9927-2672e2e0b237",
   "metadata": {},
   "source": [
    "### Add the Time in pd.datetime"
   ]
  },
  {
   "cell_type": "code",
   "execution_count": null,
   "id": "0d10c1ad-c5dc-4487-baa9-7c71ec531f45",
   "metadata": {
    "execution": {
     "iopub.execute_input": "2024-09-27T06:38:48.709191Z",
     "iopub.status.busy": "2024-09-27T06:38:48.709065Z",
     "iopub.status.idle": "2024-09-27T06:38:48.715003Z",
     "shell.execute_reply": "2024-09-27T06:38:48.714648Z",
     "shell.execute_reply.started": "2024-09-27T06:38:48.709179Z"
    }
   },
   "outputs": [],
   "source": [
    "df_spec[\"Time\"] = pd.to_datetime(df_spec[\"DATE-OBS\"])"
   ]
  },
  {
   "cell_type": "markdown",
   "id": "96512b2a-93e2-4911-a11f-530f4d13229a",
   "metadata": {},
   "source": [
    "## Compute night boundaries"
   ]
  },
  {
   "cell_type": "code",
   "execution_count": null,
   "id": "c6d2eb8d-e7ab-4c45-8db9-07706079d932",
   "metadata": {
    "execution": {
     "iopub.execute_input": "2024-09-27T06:38:48.715572Z",
     "iopub.status.busy": "2024-09-27T06:38:48.715454Z",
     "iopub.status.idle": "2024-09-27T06:38:48.719937Z",
     "shell.execute_reply": "2024-09-27T06:38:48.719594Z",
     "shell.execute_reply.started": "2024-09-27T06:38:48.715561Z"
    }
   },
   "outputs": [],
   "source": [
    "def GetNightBoundariesDict(df_spec):\n",
    "    \"\"\"\n",
    "    input:\n",
    "      df_spec the dataframe for spectroscopy summary results\n",
    "    output:\n",
    "      the dict of night boudaries\n",
    "    \"\"\"\n",
    "    \n",
    "    Dt = pd.Timedelta(minutes=30)\n",
    "    d = {}\n",
    "    list_of_nightobs = df_spec[\"nightObs\"].unique()\n",
    "    for nightobs in list_of_nightobs:\n",
    "        sel_flag = df_spec[\"nightObs\"]== nightobs\n",
    "        df_night = df_spec[sel_flag]\n",
    "        tmin = df_night[\"Time\"].min()-Dt\n",
    "        tmax = df_night[\"Time\"].max()+Dt\n",
    "        d[nightobs] = (tmin,tmax)\n",
    "    return d"
   ]
  },
  {
   "cell_type": "code",
   "execution_count": null,
   "id": "1d501ce6-4b93-445f-b2f1-9ebdb5fe2dbc",
   "metadata": {
    "execution": {
     "iopub.execute_input": "2024-09-27T06:38:48.720546Z",
     "iopub.status.busy": "2024-09-27T06:38:48.720415Z",
     "iopub.status.idle": "2024-09-27T06:38:48.834024Z",
     "shell.execute_reply": "2024-09-27T06:38:48.833602Z",
     "shell.execute_reply.started": "2024-09-27T06:38:48.720534Z"
    }
   },
   "outputs": [],
   "source": [
    "dn = GetNightBoundariesDict(df_spec)"
   ]
  },
  {
   "cell_type": "markdown",
   "id": "66f5730e-37e1-4ead-ab78-f79dd6273107",
   "metadata": {},
   "source": [
    "## Plot all data"
   ]
  },
  {
   "cell_type": "code",
   "execution_count": null,
   "id": "3fd02994-4a05-4145-8da9-10ac7f5b920a",
   "metadata": {
    "execution": {
     "iopub.execute_input": "2024-09-27T06:38:48.834761Z",
     "iopub.status.busy": "2024-09-27T06:38:48.834613Z",
     "iopub.status.idle": "2024-09-27T06:38:49.288654Z",
     "shell.execute_reply": "2024-09-27T06:38:49.288250Z",
     "shell.execute_reply.started": "2024-09-27T06:38:48.834748Z"
    }
   },
   "outputs": [],
   "source": [
    "from matplotlib.dates import DateFormatter\n",
    "date_form = DateFormatter(\"%y-%m-%dT%H:%M\")\n",
    "fig,axs = plt.subplots(1,1,figsize=(14,6))\n",
    "ax  = axs\n",
    "leg=ax.get_legend()\n",
    "df_spec.plot(x=\"Time\",y=\"ozone [db]_x\",ax=ax,marker='+',c=\"r\",lw=0.0,grid=True,label=tag,legend=leg)\n",
    "ax.set_ylabel(\"ozone [db]_x\")\n",
    "\n",
    "ax.set_xlabel(\"time\")\n",
    "ax.xaxis.set_major_formatter(date_form)\n",
    "ax.set_title(\"Ozone meas by holo vs time\")\n",
    "\n",
    "for key, tt in dn.items():\n",
    "    ax.axvspan(tt[0],tt[1], color='blue', alpha=0.1)\n",
    "\n",
    "plt.tight_layout()"
   ]
  },
  {
   "cell_type": "markdown",
   "id": "564f9a05-b3e2-4d61-9457-cda76ebd2a1b",
   "metadata": {},
   "source": [
    "## Apply Quality selection cuts"
   ]
  },
  {
   "cell_type": "code",
   "execution_count": null,
   "id": "4507d45c-4df8-4ab6-906e-282709ee4048",
   "metadata": {
    "execution": {
     "iopub.execute_input": "2024-09-27T06:38:49.289445Z",
     "iopub.status.busy": "2024-09-27T06:38:49.289235Z",
     "iopub.status.idle": "2024-09-27T06:38:49.291964Z",
     "shell.execute_reply": "2024-09-27T06:38:49.291627Z",
     "shell.execute_reply.started": "2024-09-27T06:38:49.289432Z"
    },
    "tags": []
   },
   "outputs": [],
   "source": [
    "def getSelectionCut(df_spec, chi2max=20., o3min=1.0, o3max = 599.):\n",
    "    cut =  (df_spec[\"CHI2_FIT\"]<chi2max) & (df_spec[\"ozone [db]_x\"] > o3min) & (df_spec[\"ozone [db]_x\"] < o3max) \n",
    "    return cut"
   ]
  },
  {
   "cell_type": "code",
   "execution_count": null,
   "id": "eb50d3a2-717c-49ad-9085-6901f4705903",
   "metadata": {
    "execution": {
     "iopub.execute_input": "2024-09-27T06:38:49.292503Z",
     "iopub.status.busy": "2024-09-27T06:38:49.292382Z",
     "iopub.status.idle": "2024-09-27T06:38:49.298007Z",
     "shell.execute_reply": "2024-09-27T06:38:49.297576Z",
     "shell.execute_reply.started": "2024-09-27T06:38:49.292491Z"
    },
    "tags": []
   },
   "outputs": [],
   "source": [
    "cut = getSelectionCut(df_spec)"
   ]
  },
  {
   "cell_type": "code",
   "execution_count": null,
   "id": "e1cbfa40-4395-47f4-9acf-6a9f531fabd4",
   "metadata": {
    "execution": {
     "iopub.execute_input": "2024-09-27T06:38:49.298653Z",
     "iopub.status.busy": "2024-09-27T06:38:49.298528Z",
     "iopub.status.idle": "2024-09-27T06:38:49.304155Z",
     "shell.execute_reply": "2024-09-27T06:38:49.303813Z",
     "shell.execute_reply.started": "2024-09-27T06:38:49.298641Z"
    }
   },
   "outputs": [],
   "source": [
    "df_spec_sel = df_spec[cut].drop(labels=['_count', '_o3min', '_o3max', '_o3mean', '_o3median', '_o3std','_chi2min', '_chi2max', '_chi2mean', '_chi2median', '_chi2std'],axis=1)"
   ]
  },
  {
   "cell_type": "code",
   "execution_count": null,
   "id": "bae62b07-17d4-423e-bdfe-634272a040a2",
   "metadata": {
    "execution": {
     "iopub.execute_input": "2024-09-27T06:38:49.304827Z",
     "iopub.status.busy": "2024-09-27T06:38:49.304685Z",
     "iopub.status.idle": "2024-09-27T06:38:49.306870Z",
     "shell.execute_reply": "2024-09-27T06:38:49.306527Z",
     "shell.execute_reply.started": "2024-09-27T06:38:49.304815Z"
    },
    "tags": []
   },
   "outputs": [],
   "source": [
    "df_spec_sel.reset_index(drop=True,inplace=True)"
   ]
  },
  {
   "cell_type": "markdown",
   "id": "7578a335-a4db-428d-aac0-56f4f11272c5",
   "metadata": {},
   "source": [
    "## Compute per-night aggregates"
   ]
  },
  {
   "cell_type": "markdown",
   "id": "8ba71f74-8257-47a7-8e51-6d67aa9f7407",
   "metadata": {},
   "source": [
    "### Compute series per night"
   ]
  },
  {
   "cell_type": "code",
   "execution_count": null,
   "id": "5f2bb2b2-a77b-485d-975b-88912029b163",
   "metadata": {
    "execution": {
     "iopub.execute_input": "2024-09-27T06:38:49.307633Z",
     "iopub.status.busy": "2024-09-27T06:38:49.307343Z",
     "iopub.status.idle": "2024-09-27T06:38:49.314890Z",
     "shell.execute_reply": "2024-09-27T06:38:49.314521Z",
     "shell.execute_reply.started": "2024-09-27T06:38:49.307621Z"
    },
    "tags": []
   },
   "outputs": [],
   "source": [
    "ser_O3_CHI2_FIT_sel = df_spec_sel[[\"ozone [db]_x\",\"CHI2_FIT\",\"nightObs\"]].groupby([\"nightObs\"]).agg(['count','min', 'max','mean','std','median'])"
   ]
  },
  {
   "cell_type": "code",
   "execution_count": null,
   "id": "32089a52-fb70-4ef2-b900-c34975c325c8",
   "metadata": {
    "execution": {
     "iopub.execute_input": "2024-09-27T06:38:49.315476Z",
     "iopub.status.busy": "2024-09-27T06:38:49.315345Z",
     "iopub.status.idle": "2024-09-27T06:38:49.319190Z",
     "shell.execute_reply": "2024-09-27T06:38:49.318848Z",
     "shell.execute_reply.started": "2024-09-27T06:38:49.315465Z"
    },
    "tags": []
   },
   "outputs": [],
   "source": [
    "def FillAgreggatesSel(row):\n",
    "    the_nightObs = row[\"nightObs\"]\n",
    "    df_night = ser_O3_CHI2_FIT_sel.loc[the_nightObs,:].unstack()\n",
    "    count = df_night.loc[\"ozone [db]_x\",\"count\"]\n",
    "    o3min = df_night.loc[\"ozone [db]_x\",\"min\"]\n",
    "    o3max = df_night.loc[\"ozone [db]_x\",\"max\"]\n",
    "    o3mean = df_night.loc[\"ozone [db]_x\",\"mean\"]\n",
    "    o3median = df_night.loc[\"ozone [db]_x\",\"median\"]\n",
    "    o3std = df_night.loc[\"ozone [db]_x\",\"std\"]\n",
    "    chi2min = df_night.loc[\"CHI2_FIT\",\"min\"]\n",
    "    chi2max = df_night.loc[\"CHI2_FIT\",\"max\"]\n",
    "    chi2mean = df_night.loc[\"CHI2_FIT\",\"mean\"]\n",
    "    chi2median = df_night.loc[\"CHI2_FIT\",\"median\"]\n",
    "    chi2std = df_night.loc[\"CHI2_FIT\",\"std\"]\n",
    "    \n",
    "    d = {\"_count\":count,\"_o3min\":o3min,\"_o3max\":o3max,\"_o3mean\":o3mean,\"_o3median\":o3median,\"_o3std\":o3std,\n",
    "        \"_chi2min\":chi2min,\"_chi2max\":chi2max,\"_chi2mean\":chi2mean,\"_chi2median\":chi2median,\"_chi2std\":chi2std}\n",
    "    \n",
    "    ser = pd.Series(data=d)\n",
    "\n",
    "    return ser\n",
    "    "
   ]
  },
  {
   "cell_type": "code",
   "execution_count": null,
   "id": "7df3b6b8-24f7-4639-a94e-35f345c5e450",
   "metadata": {
    "execution": {
     "iopub.execute_input": "2024-09-27T06:38:49.319881Z",
     "iopub.status.busy": "2024-09-27T06:38:49.319761Z",
     "iopub.status.idle": "2024-09-27T06:38:51.462505Z",
     "shell.execute_reply": "2024-09-27T06:38:51.462062Z",
     "shell.execute_reply.started": "2024-09-27T06:38:49.319870Z"
    },
    "tags": []
   },
   "outputs": [],
   "source": [
    "df_spec_sel = df_spec_sel.join(df_spec_sel.apply(FillAgreggatesSel,axis=1,result_type=\"expand\"))"
   ]
  },
  {
   "cell_type": "markdown",
   "id": "f8bc5aeb-ed74-48a0-88a2-49eb1ae2ff4d",
   "metadata": {
    "tags": []
   },
   "source": [
    "## Recompute night boundaries"
   ]
  },
  {
   "cell_type": "code",
   "execution_count": null,
   "id": "41e2df17-41d6-4e84-8135-ccca5c7086a2",
   "metadata": {
    "execution": {
     "iopub.execute_input": "2024-09-27T06:38:51.463249Z",
     "iopub.status.busy": "2024-09-27T06:38:51.463113Z",
     "iopub.status.idle": "2024-09-27T06:38:51.517401Z",
     "shell.execute_reply": "2024-09-27T06:38:51.517030Z",
     "shell.execute_reply.started": "2024-09-27T06:38:51.463237Z"
    },
    "tags": []
   },
   "outputs": [],
   "source": [
    "dn = GetNightBoundariesDict(df_spec_sel)"
   ]
  },
  {
   "cell_type": "markdown",
   "id": "6c4212d5-3f49-41f3-9ba9-42ac23b2f2dd",
   "metadata": {},
   "source": [
    "## Plot all data"
   ]
  },
  {
   "cell_type": "code",
   "execution_count": null,
   "id": "58b3d86e-7a6a-4685-8f5c-af994b7b2164",
   "metadata": {
    "execution": {
     "iopub.execute_input": "2024-09-27T06:38:51.518027Z",
     "iopub.status.busy": "2024-09-27T06:38:51.517903Z",
     "iopub.status.idle": "2024-09-27T06:38:52.027059Z",
     "shell.execute_reply": "2024-09-27T06:38:52.026687Z",
     "shell.execute_reply.started": "2024-09-27T06:38:51.518016Z"
    },
    "tags": []
   },
   "outputs": [],
   "source": [
    "from matplotlib.dates import DateFormatter\n",
    "date_form = DateFormatter(\"%y-%m-%dT%H:%M\")\n",
    "fig,axs = plt.subplots(1,1,figsize=(14,6))\n",
    "ax  = axs\n",
    "leg=ax.get_legend()\n",
    "\n",
    "df_spec_sel.plot(x=\"Time\",y=\"ozone [db]_x\",ax=ax,marker='+',c=\"r\",lw=0.0,grid=True,label=tag,legend=leg,ms=10)\n",
    "ax.set_ylabel(\"ozone [db]_x\")\n",
    "\n",
    "ax.set_xlabel(\"time\")\n",
    "ax.xaxis.set_major_formatter(date_form)\n",
    "ax.set_title(\"Ozone measured by holo selected vs time\")\n",
    "\n",
    "for key, tt in dn.items():\n",
    "    ax.axvspan(tt[0],tt[1], color='blue', alpha=0.1)\n",
    "\n",
    "plt.tight_layout()\n",
    "figname =f\"{pathfigs}/ozone_allpoints_allnights\"+figtype\n",
    "plt.savefig(figname)\n",
    "plt.show()"
   ]
  },
  {
   "cell_type": "markdown",
   "id": "7cf5d9d3-5d21-42df-b484-eaf4ca3a3b54",
   "metadata": {},
   "source": [
    "## Plot series on selected data"
   ]
  },
  {
   "cell_type": "code",
   "execution_count": null,
   "id": "6e3a3cb8-0ec9-45db-8439-25d6a6a57527",
   "metadata": {
    "execution": {
     "iopub.execute_input": "2024-09-27T06:38:52.027749Z",
     "iopub.status.busy": "2024-09-27T06:38:52.027614Z",
     "iopub.status.idle": "2024-09-27T06:38:52.035200Z",
     "shell.execute_reply": "2024-09-27T06:38:52.034841Z",
     "shell.execute_reply.started": "2024-09-27T06:38:52.027737Z"
    },
    "tags": []
   },
   "outputs": [],
   "source": [
    "ser_CHI2_FIT_sel = df_spec_sel[[\"CHI2_FIT\",\"nightObs\"]].groupby([\"nightObs\"]).agg(['count','min', 'max','mean','std','median'])\n",
    "ser_O3_sel = df_spec_sel[[\"ozone [db]_x\",\"nightObs\"]].groupby([\"nightObs\"]).agg(['count','min', 'max','mean','std','median'])"
   ]
  },
  {
   "cell_type": "code",
   "execution_count": null,
   "id": "592ee0e1-64fb-40c3-b57f-8362d1a05be8",
   "metadata": {
    "execution": {
     "iopub.execute_input": "2024-09-27T06:38:52.035793Z",
     "iopub.status.busy": "2024-09-27T06:38:52.035665Z",
     "iopub.status.idle": "2024-09-27T06:38:52.807118Z",
     "shell.execute_reply": "2024-09-27T06:38:52.806710Z",
     "shell.execute_reply.started": "2024-09-27T06:38:52.035782Z"
    },
    "tags": []
   },
   "outputs": [],
   "source": [
    "fig,ax = plt.subplots(1,1,figsize=(18,3))\n",
    "ser_O3_sel.unstack()[\"ozone [db]_x\"][\"count\"].plot(kind='bar', ax=ax,subplots=False, rot=90,figsize=(18,4),facecolor=\"b\",grid=True,title=\"Number of measurements per night after selection\")\n",
    "plt.tight_layout()"
   ]
  },
  {
   "cell_type": "code",
   "execution_count": null,
   "id": "77ab654f-1ca7-42a1-9939-920126c1899f",
   "metadata": {
    "execution": {
     "iopub.execute_input": "2024-09-27T06:38:52.807833Z",
     "iopub.status.busy": "2024-09-27T06:38:52.807700Z",
     "iopub.status.idle": "2024-09-27T06:38:53.473335Z",
     "shell.execute_reply": "2024-09-27T06:38:53.472936Z",
     "shell.execute_reply.started": "2024-09-27T06:38:52.807820Z"
    },
    "tags": []
   },
   "outputs": [],
   "source": [
    "fig,ax = plt.subplots(1,1,figsize=(18,3))\n",
    "ser_O3_sel.unstack()[\"ozone [db]_x\"][\"mean\"].plot(kind='bar',ax=ax ,subplots=False, rot=90,figsize=(18,4),facecolor='b',grid=True,title=\"Mean Ozone per night after selection\")\n",
    "plt.tight_layout()"
   ]
  },
  {
   "cell_type": "code",
   "execution_count": null,
   "id": "4b391453-3c1e-4c6d-8e57-4df77c0d4fca",
   "metadata": {
    "execution": {
     "iopub.execute_input": "2024-09-27T06:38:53.474017Z",
     "iopub.status.busy": "2024-09-27T06:38:53.473884Z",
     "iopub.status.idle": "2024-09-27T06:38:54.129027Z",
     "shell.execute_reply": "2024-09-27T06:38:54.128650Z",
     "shell.execute_reply.started": "2024-09-27T06:38:53.474005Z"
    },
    "tags": []
   },
   "outputs": [],
   "source": [
    "fig,ax = plt.subplots(1,1,figsize=(18,3))\n",
    "ser_O3_sel.unstack()[\"ozone [db]_x\"][\"median\"].plot(kind='bar',ax=ax ,subplots=False, rot=90,figsize=(18,4),facecolor='b',grid=True,title=\"Median Ozone per night after selection\")\n",
    "plt.tight_layout()"
   ]
  },
  {
   "cell_type": "code",
   "execution_count": null,
   "id": "8f90c624-4571-4c84-87b8-a71e49f91af6",
   "metadata": {
    "execution": {
     "iopub.execute_input": "2024-09-27T06:38:54.129706Z",
     "iopub.status.busy": "2024-09-27T06:38:54.129574Z",
     "iopub.status.idle": "2024-09-27T06:38:54.791674Z",
     "shell.execute_reply": "2024-09-27T06:38:54.791295Z",
     "shell.execute_reply.started": "2024-09-27T06:38:54.129693Z"
    },
    "tags": []
   },
   "outputs": [],
   "source": [
    "fig,ax = plt.subplots(1,1,figsize=(18,3))\n",
    "ser_O3_sel.unstack()[\"ozone [db]_x\"][\"std\"].plot(kind='bar', subplots=False, rot=90,figsize=(18,4),facecolor='b',grid=True,title=\"STD variation for Ozone per night after selection\")\n",
    "plt.tight_layout()"
   ]
  },
  {
   "cell_type": "code",
   "execution_count": null,
   "id": "438bb890-9dc1-4ece-801e-63c849d73358",
   "metadata": {
    "execution": {
     "iopub.execute_input": "2024-09-27T06:38:54.792393Z",
     "iopub.status.busy": "2024-09-27T06:38:54.792259Z",
     "iopub.status.idle": "2024-09-27T06:38:55.575007Z",
     "shell.execute_reply": "2024-09-27T06:38:55.574605Z",
     "shell.execute_reply.started": "2024-09-27T06:38:54.792380Z"
    },
    "tags": []
   },
   "outputs": [],
   "source": [
    "fig,ax = plt.subplots(1,1,figsize=(18,3))\n",
    "ser_CHI2_FIT_sel.unstack()[\"CHI2_FIT\"][\"mean\"].plot(kind='bar',ax=ax ,subplots=False, rot=90,figsize=(18,4),facecolor='r',grid=True,title=\"Mean CHI2 per night after selection\")\n",
    "plt.tight_layout()"
   ]
  },
  {
   "cell_type": "code",
   "execution_count": null,
   "id": "fccf0310-c102-4a36-a14f-63e724ccceb1",
   "metadata": {
    "execution": {
     "iopub.execute_input": "2024-09-27T06:38:55.575679Z",
     "iopub.status.busy": "2024-09-27T06:38:55.575550Z",
     "iopub.status.idle": "2024-09-27T06:38:56.228548Z",
     "shell.execute_reply": "2024-09-27T06:38:56.228145Z",
     "shell.execute_reply.started": "2024-09-27T06:38:55.575667Z"
    },
    "tags": []
   },
   "outputs": [],
   "source": [
    "fig,ax = plt.subplots(1,1,figsize=(18,3))\n",
    "ser_CHI2_FIT_sel.unstack()[\"CHI2_FIT\"][\"median\"].plot(kind='bar',ax=ax ,subplots=False, rot=90,figsize=(18,4),facecolor='r',grid=True,title=\"Median CHI2 per night after selection\")\n",
    "plt.tight_layout()"
   ]
  },
  {
   "cell_type": "code",
   "execution_count": null,
   "id": "b2c26008-c15e-4cf3-ace1-3ddddda64abd",
   "metadata": {
    "execution": {
     "iopub.execute_input": "2024-09-27T06:38:56.229270Z",
     "iopub.status.busy": "2024-09-27T06:38:56.229139Z",
     "iopub.status.idle": "2024-09-27T06:38:56.894055Z",
     "shell.execute_reply": "2024-09-27T06:38:56.893671Z",
     "shell.execute_reply.started": "2024-09-27T06:38:56.229258Z"
    },
    "tags": []
   },
   "outputs": [],
   "source": [
    "fig,ax = plt.subplots(1,1,figsize=(18,3))\n",
    "ser_CHI2_FIT_sel.unstack()[\"CHI2_FIT\"][\"std\"].plot(kind='bar',ax=ax ,subplots=False, rot=90,figsize=(18,4),facecolor='r',grid=True,title=\"STD variation CHI2 per night after selection\")\n",
    "plt.tight_layout()"
   ]
  },
  {
   "cell_type": "markdown",
   "id": "2e327548-326f-428f-867f-3ad46e7f6753",
   "metadata": {},
   "source": [
    "## Show time variation each night"
   ]
  },
  {
   "cell_type": "code",
   "execution_count": null,
   "id": "7320d772-3123-4866-8d2c-3c9f0d8769ad",
   "metadata": {
    "execution": {
     "iopub.execute_input": "2024-09-27T06:38:56.894765Z",
     "iopub.status.busy": "2024-09-27T06:38:56.894629Z",
     "iopub.status.idle": "2024-09-27T06:38:56.897172Z",
     "shell.execute_reply": "2024-09-27T06:38:56.896834Z",
     "shell.execute_reply.started": "2024-09-27T06:38:56.894752Z"
    }
   },
   "outputs": [],
   "source": [
    "all_selected_nights = df_spec_sel[\"nightObs\"].unique()"
   ]
  },
  {
   "cell_type": "code",
   "execution_count": null,
   "id": "c8c101b3-7120-4e5b-9da8-f712b21f6c48",
   "metadata": {
    "execution": {
     "iopub.execute_input": "2024-09-27T06:38:56.897733Z",
     "iopub.status.busy": "2024-09-27T06:38:56.897612Z",
     "iopub.status.idle": "2024-09-27T06:38:56.903305Z",
     "shell.execute_reply": "2024-09-27T06:38:56.902868Z",
     "shell.execute_reply.started": "2024-09-27T06:38:56.897722Z"
    }
   },
   "outputs": [],
   "source": [
    "def funclineres(params, x, y, yerr):\n",
    "    # Return residual = fit-observed\n",
    "    return (y-params[0] -params[1]*x)/yerr\n",
    "def funcline(params,x):\n",
    "    return params[0] + params[1]*x"
   ]
  },
  {
   "cell_type": "code",
   "execution_count": null,
   "id": "cd606d78-286e-4d98-a24c-41bdfd455fd6",
   "metadata": {
    "execution": {
     "iopub.execute_input": "2024-09-27T06:38:56.909492Z",
     "iopub.status.busy": "2024-09-27T06:38:56.909233Z",
     "iopub.status.idle": "2024-09-27T06:38:56.912912Z",
     "shell.execute_reply": "2024-09-27T06:38:56.912553Z",
     "shell.execute_reply.started": "2024-09-27T06:38:56.909479Z"
    },
    "tags": []
   },
   "outputs": [],
   "source": [
    "def MakeLineFit(df_night_pwv_curve):\n",
    "    \"\"\"\n",
    "    \"\"\"\n",
    "\n",
    "    x = df_night_pwv_curve[\"dt\"].values\n",
    "    y = df_night_pwv_curve[\"ozone [db]_x\"].values\n",
    "    yerr = df_night_pwv_curve[\"ozone [db]_err_x\"].values\n",
    "    n = len(y)\n",
    "        \n",
    "    #popt, pcov = optimize.curve_fit(f, x, y, [1,-4])\n",
    "    fit_res = least_squares(funclineres,[5.,0],args = (x,y,yerr))\n",
    "    popt = fit_res.x \n",
    "    npar = len(popt)\n",
    "    J = fit_res.jac\n",
    "    cov = np.linalg.inv(J.T.dot(J))\n",
    "    chi2dof = ((funclineres(popt,x,y,yerr))**2).sum()/(n-npar)\n",
    "    cov *= chi2dof\n",
    "    perr = np.sqrt(np.diagonal(cov)) \n",
    "    \n",
    "    xfit = np.linspace(x.min()*0.99,x.max()*1.05)\n",
    "    yfit = funcline(popt,xfit)\n",
    "        \n",
    "    slope = popt[1]\n",
    "    slope_err = perr[1]\n",
    "\n",
    "    return x,y,yerr,n,chi2dof,xfit,yfit,slope,slope_err"
   ]
  },
  {
   "cell_type": "markdown",
   "id": "42511dcd-06f2-4a69-a94d-db35b9fec8a8",
   "metadata": {},
   "source": [
    "### Plot night by night"
   ]
  },
  {
   "cell_type": "code",
   "execution_count": null,
   "id": "e325547d-9f5e-4336-9fe4-5778597333cf",
   "metadata": {
    "execution": {
     "iopub.execute_input": "2024-09-27T06:38:56.913491Z",
     "iopub.status.busy": "2024-09-27T06:38:56.913372Z",
     "iopub.status.idle": "2024-09-27T06:39:30.566057Z",
     "shell.execute_reply": "2024-09-27T06:39:30.565718Z",
     "shell.execute_reply.started": "2024-09-27T06:38:56.913478Z"
    }
   },
   "outputs": [],
   "source": [
    "all_dateObs_sel = {}\n",
    "\n",
    "# loop on nights\n",
    "for night in all_selected_nights:\n",
    "    #select the night\n",
    "    df_spec_night = df_spec_sel[df_spec_sel[\"nightObs\"] == night]\n",
    "    \n",
    "    #select the variables\n",
    "    df_night_o3_curve = df_spec_night[[\"Time\",\"ozone [db]_x\",\"ozone [db]_err_x\"]]\n",
    "\n",
    "    tmin = df_night_o3_curve[\"Time\"].min()\n",
    "\n",
    "    # convert in hours\n",
    "    df_night_o3_curve[\"dt\"] = (df_night_o3_curve[\"Time\"] - tmin).dt.total_seconds()/3600.\n",
    "    \n",
    "    \n",
    "    stat = df_night_o3_curve[[\"ozone [db]_x\"]].describe()\n",
    "    date_form = DateFormatter(\"%y-%m-%dT%H:%M\")\n",
    "    count = int(stat.loc[\"count\"].values[0])\n",
    "    mean = stat.loc[\"mean\"].values[0]\n",
    "    median = stat.loc[\"50%\"].values[0]\n",
    "    std = stat.loc[\"std\"].values[0]\n",
    "    textstr = \"\\n\".join((f\"count : {count}\",\n",
    "                     f\"mean : {mean:.1f} mm\",\n",
    "                     f\"median : {median:.1f} mm\",\n",
    "                     f\"std : {std:.1f} mm\",\n",
    "                    ))\n",
    "\n",
    "\n",
    "    \n",
    "\n",
    "    N= len(df_night_o3_curve)\n",
    "\n",
    "    if N>10:\n",
    "        # does the fit\n",
    "        \n",
    "        x,y,yerr,n,chi2dof,xfit,yfit,slope,slope_err = MakeLineFit(df_night_o3_curve)\n",
    "        \n",
    "        textstr2 = \"\\n\".join((f\"d(Ozone/dt) : \",\n",
    "                     f\"slope : {slope:.3f} DU/h \",\n",
    "                     f\"slope err : {slope_err:.3f} DU/h\",\n",
    "                     f\"chi2/ndeg : {chi2dof:.2f}\",       \n",
    "                    ))\n",
    "\n",
    "        textstr3 = \"\\n\".join((f\"d(Ozone/dt) : \",\n",
    "                     f\"slope : {slope:.3f} DU/h \",\n",
    "                     f\"slope err : {slope_err:.3f} DU/h\",  \n",
    "                    ))\n",
    "    \n",
    "\n",
    "        stat.loc[\"slope\",\"ozone [db]_x\"] = slope \n",
    "        stat.loc[\"slope_err\",\"ozone [db]_err_x\"] = slope_err \n",
    "        stat.loc[\"chi2\",\"ozone [db]_x\"] = chi2dof\n",
    "        \n",
    "        # plot\n",
    "        \n",
    "        fig = plt.figure(figsize=(16,6))\n",
    "        gs = GridSpec(1, 2,  width_ratios=[2,1],figure=fig)\n",
    "\n",
    "        # left figure\n",
    "        ax = fig.add_subplot(gs[0])\n",
    "        ax2 = fig.add_subplot(gs[1],sharey=ax)\n",
    "        #ax2 = fig.add_subplot(gs[1])\n",
    "        \n",
    "        df_night_o3_curve.plot(x=\"Time\",y=\"ozone [db]_x\",ax=ax,marker='+',c=\"r\",lw=0.0,grid=True,legend=leg,label=tag,ms=10)\n",
    "        ax.errorbar(x=df_night_o3_curve.Time, y=df_night_o3_curve[\"ozone [db]_x\"],yerr=df_night_o3_curve[\"ozone [db]_err_x\"],fmt=\".\",color=\"r\",ecolor=\"k\")\n",
    "        \n",
    "        ax.legend(loc=\"upper right\")\n",
    "        ax.set_ylabel(\"ozone [db]_x\")\n",
    "        ax.set_xlabel(\"time\")\n",
    "        ax.xaxis.set_major_formatter(date_form)\n",
    "        ax.set_ylim(0.,600.)\n",
    "        ax.text(0.03, 0.95, textstr, transform=ax.transAxes, fontsize=14,\n",
    "        verticalalignment='top', bbox=props)\n",
    "        ax.text(0.35, 0.95, textstr3, transform=ax.transAxes, fontsize=14,\n",
    "        verticalalignment='top', bbox=props)\n",
    "        ax.set_title(f\"night {night}\")\n",
    "        \n",
    "        # right figure\n",
    "        ax2.errorbar(x=df_night_o3_curve.dt, y=df_night_o3_curve[\"ozone [db]_x\"],yerr=df_night_o3_curve[\"ozone [db]_err_x\"],fmt=\"+\",color=\"r\",ecolor=\"k\",ms=10,label=tag)\n",
    "        ax2.set_xlabel(\"hours\")\n",
    "        ax2.set_ylim(0.,600.)\n",
    "        ax2.grid()\n",
    "        ax2.legend(loc=\"upper right\")\n",
    "        ax2.plot(xfit,yfit,\"k-\")\n",
    "        ax2.text(0.45, 0.95, textstr2, transform=ax2.transAxes, fontsize=14,\n",
    "        verticalalignment='top', bbox=props)\n",
    "        ax2.set_title(f\"night {night}\")\n",
    "        \n",
    "        plt.tight_layout()\n",
    "        figname =f\"{pathfigs}/o3_per_night_{night}\"+figtype\n",
    "        plt.savefig(figname)\n",
    "        plt.show()\n",
    "\n",
    "        # add statistics\n",
    "        all_dateObs_sel[night] = stat"
   ]
  },
  {
   "cell_type": "markdown",
   "id": "97b44c4b-b7d6-40c2-bdd5-976c712f5ee2",
   "metadata": {},
   "source": [
    "## Make a summary of Night quality"
   ]
  },
  {
   "cell_type": "code",
   "execution_count": null,
   "id": "bfa3a59b-6f7c-41d5-a29a-78e55a6ada7f",
   "metadata": {
    "execution": {
     "iopub.execute_input": "2024-09-27T06:39:30.566835Z",
     "iopub.status.busy": "2024-09-27T06:39:30.566644Z",
     "iopub.status.idle": "2024-09-27T06:39:30.570262Z",
     "shell.execute_reply": "2024-09-27T06:39:30.569958Z",
     "shell.execute_reply.started": "2024-09-27T06:39:30.566816Z"
    },
    "tags": []
   },
   "outputs": [],
   "source": [
    "def GetStatistics(all_dateObs_sel):\n",
    "    df = pd.DataFrame(columns = [\"count\",\"mean\",\"median\",\"std\",\"slope\",\"slope_err\"])\n",
    "    \n",
    "    for nightObs, stat in all_dateObs_sel.items():\n",
    "        count = int(stat.loc[\"count\"].values[0])\n",
    "        mean = stat.loc[\"mean\"].values[0]\n",
    "        median = stat.loc[\"50%\"].values[0]\n",
    "        std = stat.loc[\"std\"].values[0]\n",
    "        slope = stat.loc[\"slope\"].values[0]\n",
    "        slope_err = stat.loc[\"slope_err\"].values[0]\n",
    "        df.loc[nightObs] = [count,mean,median,std,slope,slope_err]\n",
    "    return df"
   ]
  },
  {
   "cell_type": "code",
   "execution_count": null,
   "id": "ee183be8-d164-47f1-9197-ec551b9d83ef",
   "metadata": {
    "execution": {
     "iopub.execute_input": "2024-09-27T06:39:30.571071Z",
     "iopub.status.busy": "2024-09-27T06:39:30.570772Z",
     "iopub.status.idle": "2024-09-27T06:39:30.628646Z",
     "shell.execute_reply": "2024-09-27T06:39:30.628353Z",
     "shell.execute_reply.started": "2024-09-27T06:39:30.571052Z"
    },
    "tags": []
   },
   "outputs": [],
   "source": [
    "df = GetStatistics(all_dateObs_sel)"
   ]
  },
  {
   "cell_type": "markdown",
   "id": "16430af9-5fc4-4398-9440-a7816b3723ce",
   "metadata": {},
   "source": [
    "### Convert dateobs into datetime"
   ]
  },
  {
   "cell_type": "code",
   "execution_count": null,
   "id": "a7d41f71-743d-432e-a431-c53e7373d6d0",
   "metadata": {
    "execution": {
     "iopub.execute_input": "2024-09-27T06:39:30.629188Z",
     "iopub.status.busy": "2024-09-27T06:39:30.629069Z",
     "iopub.status.idle": "2024-09-27T06:39:30.631745Z",
     "shell.execute_reply": "2024-09-27T06:39:30.631470Z",
     "shell.execute_reply.started": "2024-09-27T06:39:30.629177Z"
    }
   },
   "outputs": [],
   "source": [
    "def ComputeDataTimeStr(num):\n",
    "    year = num//10000\n",
    "    remain = (num-year*10000)\n",
    "    month = remain//100\n",
    "    day = remain-100*month\n",
    "    yearstr = f\"{year}\"\n",
    "    monthstr = f\"{month}\"\n",
    "    daystr= f\"{day}\"\n",
    "    stry = yearstr.zfill(4)\n",
    "    strm = monthstr.zfill(2)\n",
    "    strd = daystr.zfill(2)\n",
    "    \n",
    "    str = f\"{stry}-{strm}-{strd}\"\n",
    "    return str"
   ]
  },
  {
   "cell_type": "code",
   "execution_count": null,
   "id": "52cad1fd-2fce-4659-ac9d-e86db14e8add",
   "metadata": {
    "execution": {
     "iopub.execute_input": "2024-09-27T06:39:30.632260Z",
     "iopub.status.busy": "2024-09-27T06:39:30.632143Z",
     "iopub.status.idle": "2024-09-27T06:39:30.637624Z",
     "shell.execute_reply": "2024-09-27T06:39:30.637351Z",
     "shell.execute_reply.started": "2024-09-27T06:39:30.632249Z"
    }
   },
   "outputs": [],
   "source": [
    "df[\"Time\"] = pd.to_datetime([ ComputeDataTimeStr(num) for  num in df.index])"
   ]
  },
  {
   "cell_type": "markdown",
   "id": "cd25edb3-2a19-44a1-a0a1-76b44ebc5607",
   "metadata": {},
   "source": [
    "### Plot summary"
   ]
  },
  {
   "cell_type": "code",
   "execution_count": null,
   "id": "0ac49704-a32b-4e40-b653-d284130e6118",
   "metadata": {
    "execution": {
     "iopub.execute_input": "2024-09-27T06:39:30.638229Z",
     "iopub.status.busy": "2024-09-27T06:39:30.638111Z",
     "iopub.status.idle": "2024-09-27T06:39:31.253361Z",
     "shell.execute_reply": "2024-09-27T06:39:31.253048Z",
     "shell.execute_reply.started": "2024-09-27T06:39:30.638218Z"
    }
   },
   "outputs": [],
   "source": [
    "from matplotlib.dates import DateFormatter\n",
    "date_form = DateFormatter(\"%y-%m-%d\")\n",
    "fig,axs = plt.subplots(2,1,figsize=(12,8),sharex=True)\n",
    "ax1,ax2  = axs\n",
    "\n",
    "leg1=ax1.get_legend()\n",
    "leg2=ax2.get_legend()\n",
    "\n",
    "\n",
    "df.plot(x=\"Time\",y=\"median\",ax=ax1,marker='+',c=\"r\",lw=0.0,grid=True,ms=10,label=tag,legend=leg1)\n",
    "ax1.errorbar(x=df[\"Time\"], y=df[\"median\"],yerr=df[\"std\"],fmt=\".\",color=\"r\",ecolor=\"k\")\n",
    "\n",
    "ax1.set_ylabel(\"Ozone (DU)\")\n",
    "ax1.set_xlabel(\"time\")\n",
    "ax1.xaxis.set_major_formatter(date_form)\n",
    "ax1.set_title(\"Median Ozone per night\")\n",
    "ax1.set_ylim(0.,600.)\n",
    "ax1.legend(loc=\"upper right\")\n",
    "\n",
    "\n",
    "ax2.set_title(\"Fitted drift per night\")\n",
    "ax2.errorbar(x=df[\"Time\"], y=df[\"slope\"],yerr=df[\"slope_err\"],fmt=\".\",color=\"r\",ecolor=\"k\",ms=10,label=tag,legend=leg2)\n",
    "ax2.grid()\n",
    "ax2.set_ylabel(\"dOzone/dt (DU/h)\")\n",
    "ax2.set_xlabel(\"time\")\n",
    "ax2.set_ylim(-50.,50.)\n",
    "ax2.xaxis.set_major_formatter(date_form)\n",
    "ax2.legend(loc=\"upper right\")\n",
    "\n",
    "ax2.tick_params(axis='x', labelrotation=45)\n",
    "\n",
    "\n",
    "plt.tight_layout()\n",
    "figname =f\"{pathfigs}/ozone_medianspredslope_allnights\"+figtype\n",
    "plt.savefig(figname)\n",
    "plt.show()"
   ]
  },
  {
   "cell_type": "code",
   "execution_count": null,
   "id": "6b9b1cf9-b7a0-448f-8262-c3277de89d62",
   "metadata": {
    "execution": {
     "iopub.execute_input": "2024-09-27T06:39:31.254094Z",
     "iopub.status.busy": "2024-09-27T06:39:31.253959Z",
     "iopub.status.idle": "2024-09-27T06:39:31.502043Z",
     "shell.execute_reply": "2024-09-27T06:39:31.501709Z",
     "shell.execute_reply.started": "2024-09-27T06:39:31.254081Z"
    }
   },
   "outputs": [],
   "source": [
    "from matplotlib.dates import DateFormatter\n",
    "date_form = DateFormatter(\"%y-%m-%d\")\n",
    "fig,axs = plt.subplots(1,1,figsize=(14,6))\n",
    "ax = axs\n",
    "leg=ax.get_legend()\n",
    "\n",
    "\n",
    "df.plot(x=\"Time\",y=\"median\",ax=ax,marker='+',c=\"r\",ms=20,lw=0.0,grid=True,label=tag,legend=leg)\n",
    "ax.errorbar(x=df[\"Time\"], y=df[\"median\"],yerr=df[\"std\"],fmt=\"o\",ms=5,color=\"r\",ecolor=\"k\")\n",
    "ax.set_ylabel(\"Ozone (DU)\")\n",
    "ax.set_xlabel(\"time\")\n",
    "ax.xaxis.set_major_formatter(date_form)\n",
    "ax.set_title(\"Median and spread of Ozone per night\")\n",
    "ax.set_ylim(0.,600)\n",
    "\n",
    "ax.legend(loc=\"upper right\")\n",
    "\n",
    "figname =f\"{pathfigs}/ozone_medians_allnights\"+figtype\n",
    "plt.savefig(figname)\n",
    "plt.show()\n"
   ]
  },
  {
   "cell_type": "code",
   "execution_count": null,
   "id": "4f2b57be-182f-40f6-8def-ba956324e445",
   "metadata": {},
   "outputs": [],
   "source": []
  }
 ],
 "metadata": {
  "kernelspec": {
   "display_name": "Python 3 (ipykernel)",
   "language": "python",
   "name": "python3"
  },
  "language_info": {
   "codemirror_mode": {
    "name": "ipython",
    "version": 3
   },
   "file_extension": ".py",
   "mimetype": "text/x-python",
   "name": "python",
   "nbconvert_exporter": "python",
   "pygments_lexer": "ipython3",
   "version": "3.11.9"
  }
 },
 "nbformat": 4,
 "nbformat_minor": 5
}
