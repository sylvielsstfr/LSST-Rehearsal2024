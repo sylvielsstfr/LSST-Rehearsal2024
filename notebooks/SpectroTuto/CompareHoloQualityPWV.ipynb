{
 "cells": [
  {
   "cell_type": "markdown",
   "id": "45bf4242-bfc5-4d43-88c4-a8059ae148df",
   "metadata": {},
   "source": [
    "# Compare hologram data quality on PWV between two versions"
   ]
  },
  {
   "cell_type": "markdown",
   "id": "01993b6e-6438-4fca-a5d5-1f9791336847",
   "metadata": {},
   "source": [
    "- author Sylvie Dagoret-Campagne\n",
    "- creation date 2024-09-25 \n",
    "- last update : 2024-09-26 \n",
    "\n",
    "- affiliation : IJCLab\n",
    "- Kernel @usdf **w_2024_37**\n",
    "- Office emac : mamba_py311\n",
    "- Home emac : base (conda)\n",
    "- laptop : conda_py310\n"
   ]
  },
  {
   "cell_type": "code",
   "execution_count": null,
   "id": "63a2b2ef-0bc2-45eb-91d9-87835d264751",
   "metadata": {
    "tags": []
   },
   "outputs": [],
   "source": [
    "from platform import python_version\n",
    "print(python_version())"
   ]
  },
  {
   "cell_type": "code",
   "execution_count": null,
   "id": "dcc53afe-c58f-4948-92c9-0090d373ad2a",
   "metadata": {},
   "outputs": [],
   "source": [
    "import warnings\n",
    "warnings.resetwarnings()\n",
    "warnings.simplefilter('ignore')"
   ]
  },
  {
   "cell_type": "code",
   "execution_count": null,
   "id": "8026d265-2493-4045-afec-26205ff71f7c",
   "metadata": {
    "tags": []
   },
   "outputs": [],
   "source": [
    "from platform import python_version\n",
    "print(python_version())"
   ]
  },
  {
   "cell_type": "code",
   "execution_count": null,
   "id": "eb1f116e-80e3-46ad-a7db-7f253632e5ca",
   "metadata": {},
   "outputs": [],
   "source": [
    "import os"
   ]
  },
  {
   "cell_type": "code",
   "execution_count": null,
   "id": "3ec760cd-3d3f-4a34-a6f6-b226fe500951",
   "metadata": {},
   "outputs": [],
   "source": [
    "# where are stored the figures\n",
    "pathfigs = \"figsPWVComparison\"\n",
    "if not os.path.exists(pathfigs):\n",
    "    os.makedirs(pathfigs) \n",
    "figtype = \".png\""
   ]
  },
  {
   "cell_type": "code",
   "execution_count": null,
   "id": "bf752b70-e6ca-4cbf-8e8c-20bf7f0d8f61",
   "metadata": {},
   "outputs": [],
   "source": [
    "import numpy as np\n",
    "from numpy.linalg import inv\n",
    "import matplotlib as mpl\n",
    "import matplotlib.pyplot as plt\n",
    "%matplotlib inline\n",
    "from mpl_toolkits.axes_grid1 import make_axes_locatable\n",
    "from matplotlib.colors import LogNorm,SymLogNorm\n",
    "from matplotlib.patches import Circle,Annulus\n",
    "from astropy.visualization import ZScaleInterval\n",
    "props = dict(boxstyle='round', facecolor=\"white\", alpha=0.1)\n",
    "#props = dict(boxstyle='round')\n",
    "\n",
    "import matplotlib.colors as colors\n",
    "import matplotlib.cm as cmx\n",
    "\n",
    "import matplotlib.ticker                         # here's where the formatter is\n",
    "from matplotlib.ticker import (MultipleLocator, FormatStrFormatter,\n",
    "                               AutoMinorLocator)\n",
    "\n",
    "from matplotlib.gridspec import GridSpec\n",
    "\n",
    "from astropy.visualization import (MinMaxInterval, SqrtStretch,ZScaleInterval,PercentileInterval,\n",
    "                                   ImageNormalize,imshow_norm)\n",
    "from astropy.visualization.stretch import SinhStretch, LinearStretch,AsinhStretch,LogStretch\n",
    "\n",
    "from astropy.io import fits\n",
    "from astropy.wcs import WCS\n",
    "from astropy import units as u\n",
    "from astropy import constants as c\n",
    "\n",
    "from scipy import interpolate\n",
    "from sklearn.neighbors import NearestNeighbors\n",
    "from sklearn.neighbors import KDTree, BallTree\n",
    "\n",
    "import pandas as pd\n",
    "pd.set_option(\"display.max_columns\", None)\n",
    "pd.set_option('display.max_rows', 100)\n",
    "\n",
    "import matplotlib.ticker                         # here's where the formatter is\n",
    "import os\n",
    "import re\n",
    "import pandas as pd\n",
    "import pickle\n",
    "from collections import OrderedDict\n",
    "\n",
    "plt.rcParams[\"figure.figsize\"] = (4,3)\n",
    "plt.rcParams[\"axes.labelsize\"] = 'xx-large'\n",
    "plt.rcParams['axes.titlesize'] = 'xx-large'\n",
    "plt.rcParams['xtick.labelsize']= 'xx-large'\n",
    "plt.rcParams['ytick.labelsize']= 'xx-large'\n",
    "\n",
    "import scipy\n",
    "from scipy.optimize import curve_fit,least_squares\n",
    "\n",
    "\n",
    "# new color correction model\n",
    "import pickle\n",
    "from scipy.interpolate import RegularGridInterpolator"
   ]
  },
  {
   "cell_type": "code",
   "execution_count": null,
   "id": "0ca0d1e6-5f82-4c43-aaa3-8524fc2bc5ba",
   "metadata": {},
   "outputs": [],
   "source": [
    "from matplotlib.ticker import (MultipleLocator, FormatStrFormatter,\n",
    "                               AutoMinorLocator)\n",
    "\n",
    "from astropy.visualization import (MinMaxInterval, SqrtStretch,ZScaleInterval,PercentileInterval,\n",
    "                                   ImageNormalize,imshow_norm)\n",
    "from astropy.visualization.stretch import SinhStretch, LinearStretch,AsinhStretch,LogStretch\n",
    "\n",
    "from astropy.time import Time\n"
   ]
  },
  {
   "cell_type": "code",
   "execution_count": null,
   "id": "e189816c-5048-43ab-a01a-7c078af54489",
   "metadata": {},
   "outputs": [],
   "source": [
    "# Remove to run faster the notebook\n",
    "#import ipywidgets as widgets\n",
    "#%matplotlib widget"
   ]
  },
  {
   "cell_type": "code",
   "execution_count": null,
   "id": "67327fd4-e405-45ce-8923-cd46ebaa0c0f",
   "metadata": {
    "tags": []
   },
   "outputs": [],
   "source": [
    "from importlib.metadata import version"
   ]
  },
  {
   "cell_type": "code",
   "execution_count": null,
   "id": "af8332dd-24f9-4b19-88f9-c62d0a4aebf1",
   "metadata": {
    "tags": []
   },
   "outputs": [],
   "source": [
    "# wavelength bin colors\n",
    "#jet = plt.get_cmap('jet')\n",
    "#cNorm = mpl.colors.Normalize(vmin=0, vmax=NSED)\n",
    "#scalarMap = cmx.ScalarMappable(norm=cNorm, cmap=jet)\n",
    "#all_colors = scalarMap.to_rgba(np.arange(NSED), alpha=1)"
   ]
  },
  {
   "cell_type": "code",
   "execution_count": null,
   "id": "1003d9d6-a40f-48b1-9ffc-bfab9f45ba93",
   "metadata": {},
   "outputs": [],
   "source": [
    "np.__version__"
   ]
  },
  {
   "cell_type": "code",
   "execution_count": null,
   "id": "c4cb2652-cb22-432e-b110-ae71d59dc793",
   "metadata": {},
   "outputs": [],
   "source": [
    "pd.__version__"
   ]
  },
  {
   "cell_type": "markdown",
   "id": "4f13d6a3-7793-4bc0-920a-1d690d9f84b2",
   "metadata": {},
   "source": [
    "## Configuration"
   ]
  },
  {
   "cell_type": "code",
   "execution_count": null,
   "id": "5bac0cab-3886-4683-b1c8-fc59edacfd46",
   "metadata": {
    "tags": []
   },
   "outputs": [],
   "source": [
    "v_r1 = \"v2\" # Jeremy's version with old getObsAtmo\n",
    "v_r2 = \"v3\" # my version with new version of getObsAtmo\n",
    "\n",
    "legendtag = {\"v1\" : \"very old version\",\n",
    "            \"v2\" : \"old version\",\n",
    "            \"v3\" : \"new version\"}"
   ]
  },
  {
   "cell_type": "code",
   "execution_count": null,
   "id": "a2a9c11f-05b8-4465-b96a-3f18d81572f0",
   "metadata": {},
   "outputs": [],
   "source": [
    "atmfilenamesdict = {\"v1\" : \"data/spectro/auxtel_atmosphere_202301_v3.1.0_doSensorFlat_rebin2_testWithMaskedEdges_newBoundaries_newPolysRescaled_newFitBounds_adjustA1_lockedOrder2_removeThroughputTails_2.npy\",\n",
    "                    \"v2\" : \"auxtel_atmosphere_202301_v3.1.0_doSensorFlat_rebin2_lockedOrder2_FixA1_FixA2_FitAngstrom_FixA1_FixA2_FitAngstrom_WithGaia_freePressure_newThroughput6_BG40Scaled1.09_PeekFinder.npy\",\n",
    "                    \"v3\" : \"u_dagoret_auxtel_atmosphere_202301_v3.1.0_doSensorFlat_rebin2_lockedOrder2_FixA1_FixA2_FitAngstrom_WithGaia_freePressure_newThroughput6_BG40Scaled1.09_AtmoFitPressureA2_SpecErr_PeekFinder_20240924T161119Z.npy\"}"
   ]
  },
  {
   "cell_type": "code",
   "execution_count": null,
   "id": "af69dd61-46da-49f9-825b-b6301b1a14a8",
   "metadata": {},
   "outputs": [],
   "source": [
    "atmfilename1 = atmfilenamesdict[v_r1]\n",
    "atmfilename2 = atmfilenamesdict[v_r2]\n",
    "tag1 = legendtag[v_r1] \n",
    "tag2 = legendtag[v_r2] "
   ]
  },
  {
   "cell_type": "markdown",
   "id": "91aa8dee-b4fd-43b2-ade1-f7423cd70fdb",
   "metadata": {},
   "source": [
    "## Initialisation"
   ]
  },
  {
   "cell_type": "markdown",
   "id": "d52d5994-10ad-4739-b145-f5dc9c253bd8",
   "metadata": {},
   "source": [
    "### Read files"
   ]
  },
  {
   "cell_type": "code",
   "execution_count": null,
   "id": "ad60336b-f26f-4184-bcdf-e596329ecbbd",
   "metadata": {},
   "outputs": [],
   "source": [
    "specdata1 = np.load(atmfilename1,allow_pickle=True)\n",
    "specdata2 = np.load(atmfilename2,allow_pickle=True)"
   ]
  },
  {
   "cell_type": "code",
   "execution_count": null,
   "id": "3d9c7249-f818-4a98-8000-9be75b3c7a21",
   "metadata": {},
   "outputs": [],
   "source": [
    "df_spec1 = pd.DataFrame(specdata1)\n",
    "df_spec2 = pd.DataFrame(specdata2)"
   ]
  },
  {
   "cell_type": "markdown",
   "id": "f2ef55b8-0bd0-441f-93dc-2bd91c1f3bd8",
   "metadata": {},
   "source": [
    "### Compute NightObs"
   ]
  },
  {
   "cell_type": "code",
   "execution_count": null,
   "id": "4de5d570-2e92-468b-ab07-63fffd8d2b8c",
   "metadata": {},
   "outputs": [],
   "source": [
    "df_spec1[\"nightObs\"] = df_spec1.apply(lambda x: x['id']//100_000, axis=1)\n",
    "df_spec2[\"nightObs\"] = df_spec2.apply(lambda x: x['id']//100_000, axis=1)"
   ]
  },
  {
   "cell_type": "markdown",
   "id": "306bca52-bd1c-4716-90ef-eac25893a384",
   "metadata": {
    "execution": {
     "iopub.execute_input": "2024-09-25T10:28:15.048023Z",
     "iopub.status.busy": "2024-09-25T10:28:15.047896Z",
     "iopub.status.idle": "2024-09-25T10:28:15.192339Z",
     "shell.execute_reply": "2024-09-25T10:28:15.191948Z",
     "shell.execute_reply.started": "2024-09-25T10:28:15.048011Z"
    },
    "tags": []
   },
   "source": [
    "### Add the Time in pd.datetime"
   ]
  },
  {
   "cell_type": "code",
   "execution_count": null,
   "id": "0d10c1ad-c5dc-4487-baa9-7c71ec531f45",
   "metadata": {},
   "outputs": [],
   "source": [
    "df_spec1[\"Time\"] = pd.to_datetime(df_spec1[\"DATE-OBS\"])\n",
    "df_spec2[\"Time\"] = pd.to_datetime(df_spec2[\"DATE-OBS\"])"
   ]
  },
  {
   "cell_type": "markdown",
   "id": "8c0d75f8-cd78-4228-a19c-54b4d4f7b1ad",
   "metadata": {},
   "source": [
    "## Compute night boundaries"
   ]
  },
  {
   "cell_type": "code",
   "execution_count": null,
   "id": "48bfb19b-f528-4154-99ae-b2358cb90317",
   "metadata": {},
   "outputs": [],
   "source": [
    "def GetNightBoundariesDict(df_spec):\n",
    "    \"\"\"\n",
    "    input:\n",
    "      df_spec the dataframe for spectroscopy summary results\n",
    "    output:\n",
    "      the dict of night boudaries\n",
    "    \"\"\"\n",
    "    \n",
    "    Dt = pd.Timedelta(minutes=30)\n",
    "    d = {}\n",
    "    list_of_nightobs = df_spec[\"nightObs\"].unique()\n",
    "    for nightobs in list_of_nightobs:\n",
    "        sel_flag = df_spec[\"nightObs\"]== nightobs\n",
    "        df_night = df_spec[sel_flag]\n",
    "        tmin = df_night[\"Time\"].min()-Dt\n",
    "        tmax = df_night[\"Time\"].max()+Dt\n",
    "        d[nightobs] = (tmin,tmax)\n",
    "    return d"
   ]
  },
  {
   "cell_type": "code",
   "execution_count": null,
   "id": "7fc96131-c009-4a2f-9752-7f0130b298fa",
   "metadata": {},
   "outputs": [],
   "source": [
    "dn1 = GetNightBoundariesDict(df_spec1)\n",
    "dn2 = GetNightBoundariesDict(df_spec2)"
   ]
  },
  {
   "cell_type": "markdown",
   "id": "6c21f637-5033-4a17-b688-5ad429f3e7e4",
   "metadata": {},
   "source": [
    "## Plot data"
   ]
  },
  {
   "cell_type": "code",
   "execution_count": null,
   "id": "3fd02994-4a05-4145-8da9-10ac7f5b920a",
   "metadata": {},
   "outputs": [],
   "source": [
    "from matplotlib.dates import DateFormatter\n",
    "date_form = DateFormatter(\"%y-%m-%dT%H:%M\")\n",
    "fig,axs = plt.subplots(1,1,figsize=(14,6))\n",
    "ax1  = axs\n",
    "\n",
    "leg=ax1.get_legend()\n",
    "df_spec1.plot(x=\"Time\",y=\"PWV [mm]_x\",ax=ax1,marker='x',c=\"b\",lw=0.0,grid=True,label=tag1,legend=leg,ms=10)\n",
    "df_spec2.plot(x=\"Time\",y=\"PWV [mm]_x\",ax=ax1,marker='+',c=\"r\",lw=0.0,grid=True,label=tag2,legend=leg,ms=10)\n",
    "\n",
    "ax1.legend(loc=\"upper right\")\n",
    "ax1.set_ylabel(\"PWV [mm]_x\")\n",
    "ax1.set_xlabel(\"time\")\n",
    "ax1.xaxis.set_major_formatter(date_form)\n",
    "ax1.set_title(\"Precipitable water vapor meas by holo vs time\")\n",
    "\n",
    "for key, tt in dn1.items():\n",
    "    ax1.axvspan(tt[0],tt[1], color='blue', alpha=0.1)\n",
    "for key, tt in dn2.items():\n",
    "    ax1.axvspan(tt[0],tt[1], color='red', alpha=0.1)\n",
    "\n",
    "plt.tight_layout()"
   ]
  },
  {
   "cell_type": "markdown",
   "id": "564f9a05-b3e2-4d61-9457-cda76ebd2a1b",
   "metadata": {},
   "source": [
    "## Apply Quality selection cuts"
   ]
  },
  {
   "cell_type": "code",
   "execution_count": null,
   "id": "644f2ef7-cb75-43f7-a2fa-99e17959f6ab",
   "metadata": {},
   "outputs": [],
   "source": [
    "def getSelectionCut(df_spec, chi2max=20., pwvmin=0.1, pwvmax = 14.9):\n",
    "    cut =  (df_spec[\"CHI2_FIT\"]<chi2max) & (df_spec[\"PWV [mm]_x\"] > pwvmin) & (df_spec[\"PWV [mm]_x\"] < pwvmax) \n",
    "    return cut"
   ]
  },
  {
   "cell_type": "code",
   "execution_count": null,
   "id": "0b0cdfe0-4bb9-4d90-9601-2948bee8434f",
   "metadata": {},
   "outputs": [],
   "source": [
    "cut1 = getSelectionCut(df_spec1)\n",
    "cut2 = getSelectionCut(df_spec2)"
   ]
  },
  {
   "cell_type": "code",
   "execution_count": null,
   "id": "e1cbfa40-4395-47f4-9acf-6a9f531fabd4",
   "metadata": {},
   "outputs": [],
   "source": [
    "df_spec_sel1 = df_spec1[cut1]\n",
    "df_spec_sel2 = df_spec2[cut2]\n",
    "df_spec_sel1.reset_index(drop=True,inplace=True)\n",
    "df_spec_sel2.reset_index(drop=True,inplace=True)"
   ]
  },
  {
   "cell_type": "markdown",
   "id": "d1ea2c0e-f4d1-4da2-9586-3944240e4422",
   "metadata": {
    "execution": {
     "iopub.execute_input": "2024-09-25T10:28:15.612190Z",
     "iopub.status.busy": "2024-09-25T10:28:15.612060Z",
     "iopub.status.idle": "2024-09-25T10:28:15.615697Z",
     "shell.execute_reply": "2024-09-25T10:28:15.615345Z",
     "shell.execute_reply.started": "2024-09-25T10:28:15.612178Z"
    },
    "tags": []
   },
   "source": [
    "## Compute per-night aggregates"
   ]
  },
  {
   "cell_type": "markdown",
   "id": "7a19d08d-cb1e-4f82-9482-3fbc8e7cdd88",
   "metadata": {},
   "source": [
    "### Compute the per-night pandas series of aggregates"
   ]
  },
  {
   "cell_type": "code",
   "execution_count": null,
   "id": "5f2bb2b2-a77b-485d-975b-88912029b163",
   "metadata": {
    "tags": []
   },
   "outputs": [],
   "source": [
    "ser_PWV_CHI2_FIT_sel1 = df_spec_sel1[[\"PWV [mm]_x\",\"CHI2_FIT\",\"nightObs\"]].groupby([\"nightObs\"]).agg(['count','min', 'max','mean','std','median'])\n",
    "ser_PWV_CHI2_FIT_sel2 = df_spec_sel2[[\"PWV [mm]_x\",\"CHI2_FIT\",\"nightObs\"]].groupby([\"nightObs\"]).agg(['count','min', 'max','mean','std','median'])"
   ]
  },
  {
   "cell_type": "markdown",
   "id": "ce85f6f2-88b2-45cf-acd9-60249e2ae615",
   "metadata": {
    "execution": {
     "iopub.execute_input": "2024-09-25T10:28:15.707953Z",
     "iopub.status.busy": "2024-09-25T10:28:15.707836Z",
     "iopub.status.idle": "2024-09-25T10:28:15.719708Z",
     "shell.execute_reply": "2024-09-25T10:28:15.719278Z",
     "shell.execute_reply.started": "2024-09-25T10:28:15.707941Z"
    },
    "tags": []
   },
   "source": [
    "## Add the per-night aggregates to each dataframe"
   ]
  },
  {
   "cell_type": "code",
   "execution_count": null,
   "id": "32089a52-fb70-4ef2-b900-c34975c325c8",
   "metadata": {
    "tags": []
   },
   "outputs": [],
   "source": [
    "def FillAgreggatesSel(row):\n",
    "    the_nightObs = row[\"nightObs\"]\n",
    "    df_night = ser_PWV_CHI2_FIT_sel.loc[the_nightObs,:].unstack()\n",
    "    count = df_night.loc[\"PWV [mm]_x\",\"count\"]\n",
    "    pwvmin = df_night.loc[\"PWV [mm]_x\",\"min\"]\n",
    "    pwvmax = df_night.loc[\"PWV [mm]_x\",\"max\"]\n",
    "    pwvmean = df_night.loc[\"PWV [mm]_x\",\"mean\"]\n",
    "    pwvmedian = df_night.loc[\"PWV [mm]_x\",\"median\"]\n",
    "    pwvstd = df_night.loc[\"PWV [mm]_x\",\"std\"]\n",
    "    chi2min = df_night.loc[\"CHI2_FIT\",\"min\"]\n",
    "    chi2max = df_night.loc[\"CHI2_FIT\",\"max\"]\n",
    "    chi2mean = df_night.loc[\"CHI2_FIT\",\"mean\"]\n",
    "    chi2median = df_night.loc[\"CHI2_FIT\",\"median\"]\n",
    "    chi2std = df_night.loc[\"CHI2_FIT\",\"std\"]\n",
    "    \n",
    "    d = {\"_count\":count,\"_pwvmin\":pwvmin,\"_pwvmax\":pwvmax,\"_pwvmean\":pwvmean,\"_pwvmedian\":pwvmedian,\"_pwvstd\":pwvstd,\n",
    "        \"_chi2min\":chi2min,\"_chi2max\":chi2max,\"_chi2mean\":chi2mean,\"_chi2median\":chi2median,\"_chi2std\":chi2std}\n",
    "    \n",
    "    ser = pd.Series(data=d)\n",
    "\n",
    "    return ser\n",
    "    "
   ]
  },
  {
   "cell_type": "code",
   "execution_count": null,
   "id": "7df3b6b8-24f7-4639-a94e-35f345c5e450",
   "metadata": {
    "tags": []
   },
   "outputs": [],
   "source": [
    "ser_PWV_CHI2_FIT_sel = ser_PWV_CHI2_FIT_sel1\n",
    "df_spec_sel1 = df_spec_sel1.join(df_spec_sel1.apply(FillAgreggatesSel,axis=1,result_type=\"expand\"))\n",
    "ser_PWV_CHI2_FIT_sel = ser_PWV_CHI2_FIT_sel2\n",
    "df_spec_sel2 = df_spec_sel2.join(df_spec_sel2.apply(FillAgreggatesSel,axis=1,result_type=\"expand\"))"
   ]
  },
  {
   "cell_type": "markdown",
   "id": "c50f68cc-92d3-4cb4-826f-0a389f1671ba",
   "metadata": {
    "execution": {
     "iopub.execute_input": "2024-09-25T10:28:20.021859Z",
     "iopub.status.busy": "2024-09-25T10:28:20.021719Z",
     "iopub.status.idle": "2024-09-25T10:28:20.110702Z",
     "shell.execute_reply": "2024-09-25T10:28:20.110352Z",
     "shell.execute_reply.started": "2024-09-25T10:28:20.021847Z"
    },
    "tags": []
   },
   "source": [
    "## Recompute night boundaries"
   ]
  },
  {
   "cell_type": "code",
   "execution_count": null,
   "id": "1ec9f0c4-a9e9-410e-8242-588646e2ed2b",
   "metadata": {},
   "outputs": [],
   "source": [
    "dn1 = GetNightBoundariesDict(df_spec_sel1)\n",
    "dn2 = GetNightBoundariesDict(df_spec_sel2)"
   ]
  },
  {
   "cell_type": "markdown",
   "id": "35ba27b7-26a5-4b28-a6ee-9cf385f79e87",
   "metadata": {
    "execution": {
     "iopub.execute_input": "2024-09-25T10:28:20.111312Z",
     "iopub.status.busy": "2024-09-25T10:28:20.111193Z",
     "iopub.status.idle": "2024-09-25T10:28:20.168756Z",
     "shell.execute_reply": "2024-09-25T10:28:20.168408Z",
     "shell.execute_reply.started": "2024-09-25T10:28:20.111301Z"
    }
   },
   "source": [
    "\n",
    "### Plot all data"
   ]
  },
  {
   "cell_type": "code",
   "execution_count": null,
   "id": "58b3d86e-7a6a-4685-8f5c-af994b7b2164",
   "metadata": {
    "tags": []
   },
   "outputs": [],
   "source": [
    "from matplotlib.dates import DateFormatter\n",
    "date_form = DateFormatter(\"%y-%m-%dT%H:%M\")\n",
    "fig,axs = plt.subplots(1,1,figsize=(14,6))\n",
    "ax1  = axs\n",
    "leg=ax1.get_legend()\n",
    "\n",
    "df_spec_sel1.plot(x=\"Time\",y=\"PWV [mm]_x\",ax=ax1,marker='x',c=\"b\",lw=0.0,grid=True,label=tag1,legend=leg,ms=10)\n",
    "df_spec_sel2.plot(x=\"Time\",y=\"PWV [mm]_x\",ax=ax1,marker='+',c=\"r\",lw=0.0,grid=True,label=tag2,legend=leg,ms=10)\n",
    "\n",
    "ax1.set_ylabel(\"PWV [mm]_x\")\n",
    "ax1.set_xlabel(\"time\")\n",
    "ax1.xaxis.set_major_formatter(date_form)\n",
    "ax1.set_title(\"Precipitable water vapor meas by holo selected vs time\")\n",
    "\n",
    "ax1.legend(loc=\"upper right\")\n",
    "\n",
    "for key, tt in dn1.items():\n",
    "    ax1.axvspan(tt[0],tt[1], color='blue', alpha=0.1)\n",
    "for key, tt in dn2.items():\n",
    "    ax1.axvspan(tt[0],tt[1], color='red', alpha=0.1)\n",
    "\n",
    "\n",
    "\n",
    "plt.tight_layout()\n",
    "figname =f\"{pathfigs}/pwv_allpoints_allnights\"+figtype\n",
    "plt.savefig(figname)\n",
    "plt.show()"
   ]
  },
  {
   "cell_type": "markdown",
   "id": "2e327548-326f-428f-867f-3ad46e7f6753",
   "metadata": {},
   "source": [
    "## Show time variation each night"
   ]
  },
  {
   "cell_type": "code",
   "execution_count": null,
   "id": "7320d772-3123-4866-8d2c-3c9f0d8769ad",
   "metadata": {},
   "outputs": [],
   "source": [
    "all_selected_nights1 = df_spec_sel1[\"nightObs\"].unique()\n",
    "all_selected_nights2 = df_spec_sel2[\"nightObs\"].unique()\n"
   ]
  },
  {
   "cell_type": "code",
   "execution_count": null,
   "id": "7ef9f6eb-3d40-4775-a9b3-32ebd26c36f1",
   "metadata": {},
   "outputs": [],
   "source": [
    "all_selected_nights = np.intersect1d(all_selected_nights1 ,all_selected_nights2,assume_unique=True) \n",
    "all_selected_nights_notincommon = np.setdiff1d(all_selected_nights1 ,all_selected_nights2, assume_unique=True)"
   ]
  },
  {
   "cell_type": "code",
   "execution_count": null,
   "id": "44c0032f-3b07-4cfb-833d-fe7aabe5362e",
   "metadata": {},
   "outputs": [],
   "source": [
    "print(\">>>>>> Night not in common : \",all_selected_nights_notincommon)"
   ]
  },
  {
   "cell_type": "code",
   "execution_count": null,
   "id": "c8c101b3-7120-4e5b-9da8-f712b21f6c48",
   "metadata": {},
   "outputs": [],
   "source": [
    "def funclineres(params, x, y, yerr):\n",
    "    # Return residual = fit-observed\n",
    "    return (y-params[0] -params[1]*x)/yerr\n",
    "def funcline(params,x):\n",
    "    return params[0] + params[1]*x"
   ]
  },
  {
   "cell_type": "code",
   "execution_count": null,
   "id": "9f3610ba-4544-4705-b646-15f4da0ff619",
   "metadata": {},
   "outputs": [],
   "source": [
    "def MakeLineFit(df_night_pwv_curve):\n",
    "    \"\"\"\n",
    "    \"\"\"\n",
    "\n",
    "    x = df_night_pwv_curve[\"dt\"].values\n",
    "    y = df_night_pwv_curve[\"PWV [mm]_x\"].values\n",
    "    yerr = df_night_pwv_curve[\"PWV [mm]_err_x\"].values\n",
    "    n = len(y)\n",
    "        \n",
    "    #popt, pcov = optimize.curve_fit(f, x, y, [1,-4])\n",
    "    fit_res = least_squares(funclineres,[5.,0],args = (x,y,yerr))\n",
    "    popt = fit_res.x \n",
    "    npar = len(popt)\n",
    "    J = fit_res.jac\n",
    "    cov = np.linalg.inv(J.T.dot(J))\n",
    "    chi2dof = ((funclineres(popt,x,y,yerr))**2).sum()/(n-npar)\n",
    "    cov *= chi2dof\n",
    "    perr = np.sqrt(np.diagonal(cov)) \n",
    "    \n",
    "    xfit = np.linspace(x.min()*0.99,x.max()*1.05)\n",
    "    yfit = funcline(popt,xfit)\n",
    "        \n",
    "    slope = popt[1]\n",
    "    slope_err = perr[1]\n",
    "\n",
    "    return x,y,yerr,n,chi2dof,xfit,yfit,slope,slope_err\n",
    "    "
   ]
  },
  {
   "cell_type": "markdown",
   "id": "085641a8-b88b-4a03-8bc7-365b08600d5b",
   "metadata": {},
   "source": [
    "### Plot night by night"
   ]
  },
  {
   "cell_type": "code",
   "execution_count": null,
   "id": "e325547d-9f5e-4336-9fe4-5778597333cf",
   "metadata": {},
   "outputs": [],
   "source": [
    "#all_dateObs_sel = {}\n",
    "\n",
    "all_dateObs_sel1 = {}\n",
    "all_dateObs_sel2 = {}\n",
    "\n",
    "# loop on nights\n",
    "for night in all_selected_nights:\n",
    "    # select the night\n",
    "    df_spec_night1 = df_spec_sel1[df_spec_sel1[\"nightObs\"] == night]\n",
    "    df_spec_night2 = df_spec_sel2[df_spec_sel2[\"nightObs\"] == night]\n",
    "\n",
    "    # select the variables\n",
    "    df_night_pwv_curve1 = df_spec_night1[[\"Time\",\"PWV [mm]_x\",\"PWV [mm]_err_x\"]]\n",
    "    df_night_pwv_curve2 = df_spec_night2[[\"Time\",\"PWV [mm]_x\",\"PWV [mm]_err_x\"]]\n",
    "\n",
    "    tmin1 = df_night_pwv_curve1[\"Time\"].min()\n",
    "    tmin2 = df_night_pwv_curve2[\"Time\"].min()\n",
    "    tmin = min(tmin1,tmin2)\n",
    "\n",
    "    # convert in hours\n",
    "    df_night_pwv_curve1[\"dt\"] = (df_night_pwv_curve1[\"Time\"] - tmin).dt.total_seconds()/3600.\n",
    "    df_night_pwv_curve2[\"dt\"] = (df_night_pwv_curve2[\"Time\"] - tmin).dt.total_seconds()/3600.\n",
    "   \n",
    "    # extract statistics on pwv\n",
    "    stat1 = df_night_pwv_curve1[[\"PWV [mm]_x\"]].describe()\n",
    "    stat2 = df_night_pwv_curve2[[\"PWV [mm]_x\"]].describe()\n",
    "   \n",
    "\n",
    "    \n",
    "    date_form = DateFormatter(\"%y-%m-%dT%H:%M\")\n",
    "    count = int(stat2.loc[\"count\"].values[0])\n",
    "    mean = stat2.loc[\"mean\"].values[0]\n",
    "    median = stat2.loc[\"50%\"].values[0]\n",
    "    std = stat2.loc[\"std\"].values[0]\n",
    "    textstr = \"\\n\".join((f\"count : {count}\",\n",
    "                     f\"mean : {mean:.1f} mm\",\n",
    "                     f\"median : {median:.1f} mm\",\n",
    "                     f\"std : {std:.1f} mm\",\n",
    "                    ))\n",
    "\n",
    "\n",
    "    \n",
    "    N1 = len(df_night_pwv_curve1)\n",
    "    N2 = len(df_night_pwv_curve2)\n",
    " \n",
    "\n",
    "    if N2>8:\n",
    "        # does the fit \n",
    "        x1,y1,yerr1,n1,chi2dof1,xfit1,yfit1,slope1,slope_err1 = MakeLineFit(df_night_pwv_curve1)\n",
    "        x2,y2,yerr2,n2,chi2dof2,xfit2,yfit2,slope2,slope_err2 = MakeLineFit(df_night_pwv_curve2)\n",
    "        \n",
    "        \n",
    "        textstr2 = \"\\n\".join((f\"d(PWV/dt) : \",\n",
    "                     f\"slope : {slope2:.3f} mm/h \",\n",
    "                     f\"slope err : {slope_err2:.3f} mm/h\",\n",
    "                     f\"chi2/ndeg : {chi2dof2:.2f}\",       \n",
    "                    ))\n",
    "\n",
    "        textstr3 = \"\\n\".join((f\"d(PWV/dt) : \",\n",
    "                     f\"slope : {slope2:.3f} mm/h \",\n",
    "                     f\"slope err : {slope_err2:.3f} mm/h\",  \n",
    "                    ))\n",
    "    \n",
    "\n",
    "        stat1.loc[\"slope\",\"PWV [mm]_x\"] = slope1 \n",
    "        stat1.loc[\"slope_err\",\"PWV [mm]_x\"] = slope_err1 \n",
    "        stat1.loc[\"chi2\",\"PWV [mm]_x\"] = chi2dof1\n",
    "\n",
    "        stat2.loc[\"slope\",\"PWV [mm]_x\"] = slope2 \n",
    "        stat2.loc[\"slope_err\",\"PWV [mm]_x\"] = slope_err2 \n",
    "        stat2.loc[\"chi2\",\"PWV [mm]_x\"] = chi2dof2\n",
    "        \n",
    "        # plot\n",
    "\n",
    "        \n",
    "        # Create the figure\n",
    "        fig = plt.figure(figsize=(16,6))\n",
    "        gs = GridSpec(1, 2,  width_ratios=[2,1],figure=fig)\n",
    "\n",
    "        ax = fig.add_subplot(gs[0])\n",
    "        ax2 = fig.add_subplot(gs[1],sharey=ax1)\n",
    "\n",
    "\n",
    "        leg=ax.get_legend()\n",
    "        leg2=ax2.get_legend()\n",
    "        \n",
    "        \n",
    "        \n",
    "        # left figure\n",
    "        df_night_pwv_curve1.plot(x=\"Time\",y=\"PWV [mm]_x\",ax=ax,marker='x',c=\"b\",lw=0.0,grid=True,legend=leg,label=tag1,ms=10)\n",
    "        ax.errorbar(x=df_night_pwv_curve1.Time, y=df_night_pwv_curve1[\"PWV [mm]_x\"],yerr=df_night_pwv_curve1[\"PWV [mm]_err_x\"],fmt=\".\",color=\"b\",ecolor=\"b\")\n",
    "\n",
    "        df_night_pwv_curve2.plot(x=\"Time\",y=\"PWV [mm]_x\",ax=ax,marker='+',c=\"r\",lw=0.0,grid=True,legend=leg,label=tag2, ms=10)\n",
    "        ax.errorbar(x=df_night_pwv_curve2.Time, y=df_night_pwv_curve2[\"PWV [mm]_x\"],yerr=df_night_pwv_curve2[\"PWV [mm]_err_x\"],fmt=\".\",color=\"r\",ecolor=\"r\")\n",
    "\n",
    "\n",
    "  \n",
    "        ax.legend(loc=\"upper right\")\n",
    "        ax.set_ylabel(\"PWV [mm]_x\")\n",
    "        ax.set_xlabel(\"time\")\n",
    "        ax.xaxis.set_major_formatter(date_form)\n",
    "        ax.set_ylim(0.,15.)\n",
    "        ax.text(0.03, 0.95, textstr, transform=ax.transAxes, fontsize=14,\n",
    "        verticalalignment='top', bbox=props)\n",
    "        ax.text(0.35, 0.95, textstr3, transform=ax.transAxes, fontsize=14,\n",
    "        verticalalignment='top', bbox=props)\n",
    "        ax.set_title(f\"night {night}\")\n",
    "\n",
    "\n",
    "        # right figure\n",
    "        ax2.errorbar(x=df_night_pwv_curve1.dt, y=df_night_pwv_curve1[\"PWV [mm]_x\"],yerr=df_night_pwv_curve1[\"PWV [mm]_err_x\"],fmt=\"x\",color=\"b\",ecolor=\"b\",ms=10,label=tag1)\n",
    "        ax2.errorbar(x=df_night_pwv_curve2.dt, y=df_night_pwv_curve2[\"PWV [mm]_x\"],yerr=df_night_pwv_curve2[\"PWV [mm]_err_x\"],fmt=\"+\",color=\"r\",ecolor=\"r\",ms=10,label=tag2)\n",
    "        \n",
    "        ax2.set_xlabel(\"hours\")\n",
    "        ax2.set_ylim(0.,15.)\n",
    "\n",
    "        \n",
    "        ax2.grid()\n",
    "        ax2.plot(xfit1,yfit1,\"b-.\")\n",
    "        ax2.plot(xfit2,yfit2,\"r-\")\n",
    "        ax2.text(0.1, 0.95, textstr2, transform=ax2.transAxes, fontsize=14,verticalalignment='top', bbox=props)\n",
    "        ax2.legend(loc=\"upper right\")\n",
    "        ax2.set_title(f\"night {night}\")\n",
    "        \n",
    "        plt.tight_layout()\n",
    "        figname =f\"{pathfigs}/pwv_per_night_{night}\"+figtype\n",
    "        plt.savefig(figname)\n",
    "        plt.show()\n",
    "\n",
    "        # add statistics\n",
    "        all_dateObs_sel1[night] = stat1\n",
    "        all_dateObs_sel2[night] = stat2"
   ]
  },
  {
   "cell_type": "markdown",
   "id": "97b44c4b-b7d6-40c2-bdd5-976c712f5ee2",
   "metadata": {},
   "source": [
    "## Make a summary of Night quality"
   ]
  },
  {
   "cell_type": "code",
   "execution_count": null,
   "id": "2384efac-6405-498a-b210-5abd1bb308e2",
   "metadata": {},
   "outputs": [],
   "source": [
    "def GetStatistics(all_dateObs_sel):\n",
    "    df = pd.DataFrame(columns = [\"count\",\"mean\",\"median\",\"std\",\"slope\",\"slope_err\"])\n",
    "    \n",
    "    for nightObs, stat in all_dateObs_sel.items():\n",
    "        count = int(stat.loc[\"count\"].values[0])\n",
    "        mean = stat.loc[\"mean\"].values[0]\n",
    "        median = stat.loc[\"50%\"].values[0]\n",
    "        std = stat.loc[\"std\"].values[0]\n",
    "        slope = stat.loc[\"slope\"].values[0]\n",
    "        slope_err = stat.loc[\"slope_err\"].values[0]\n",
    "        df.loc[nightObs] = [count,mean,median,std,slope,slope_err]\n",
    "    return df"
   ]
  },
  {
   "cell_type": "code",
   "execution_count": null,
   "id": "57c3c045-e650-4229-a164-a071517df73b",
   "metadata": {},
   "outputs": [],
   "source": [
    "df1 = GetStatistics(all_dateObs_sel1)\n",
    "df2 = GetStatistics(all_dateObs_sel2)"
   ]
  },
  {
   "cell_type": "markdown",
   "id": "70ff9476-7b64-4f4b-a69a-eb1ee5290f8c",
   "metadata": {
    "execution": {
     "iopub.execute_input": "2024-09-26T16:02:29.549208Z",
     "iopub.status.busy": "2024-09-26T16:02:29.548817Z",
     "iopub.status.idle": "2024-09-26T16:02:29.563563Z",
     "shell.execute_reply": "2024-09-26T16:02:29.563232Z",
     "shell.execute_reply.started": "2024-09-26T16:02:29.549193Z"
    }
   },
   "source": [
    "### Convert dateobs into datetime"
   ]
  },
  {
   "cell_type": "code",
   "execution_count": null,
   "id": "a7d41f71-743d-432e-a431-c53e7373d6d0",
   "metadata": {},
   "outputs": [],
   "source": [
    "def ComputeDataTimeStr(num):\n",
    "    year = num//10000\n",
    "    remain = (num-year*10000)\n",
    "    month = remain//100\n",
    "    day = remain-100*month\n",
    "    yearstr = f\"{year}\"\n",
    "    monthstr = f\"{month}\"\n",
    "    daystr= f\"{day}\"\n",
    "    stry = yearstr.zfill(4)\n",
    "    strm = monthstr.zfill(2)\n",
    "    strd = daystr.zfill(2)\n",
    "    \n",
    "    str = f\"{stry}-{strm}-{strd}\"\n",
    "    return str"
   ]
  },
  {
   "cell_type": "code",
   "execution_count": null,
   "id": "52cad1fd-2fce-4659-ac9d-e86db14e8add",
   "metadata": {},
   "outputs": [],
   "source": [
    "df1[\"Time\"] = pd.to_datetime([ ComputeDataTimeStr(num) for  num in df1.index])\n",
    "df2[\"Time\"] = pd.to_datetime([ ComputeDataTimeStr(num) for  num in df2.index])"
   ]
  },
  {
   "cell_type": "code",
   "execution_count": null,
   "id": "0ac49704-a32b-4e40-b653-d284130e6118",
   "metadata": {},
   "outputs": [],
   "source": [
    "from matplotlib.dates import DateFormatter\n",
    "date_form = DateFormatter(\"%y-%m-%d\")\n",
    "fig,axs = plt.subplots(2,1,figsize=(12,8),sharex=True)\n",
    "ax1,ax2  = axs\n",
    "\n",
    "leg1=ax1.get_legend()\n",
    "leg2=ax2.get_legend()\n",
    "        \n",
    "\n",
    "df1.plot(x=\"Time\",y=\"median\",ax=ax1,marker='x',c=\"b\",lw=0.0,grid=True,ms=10,label=tag1,legend=leg1)\n",
    "ax1.errorbar(x=df1[\"Time\"], y=df1[\"median\"],yerr=df1[\"std\"],fmt=\".\",color=\"b\",ecolor=\"b\")\n",
    "\n",
    "df2.plot(x=\"Time\",y=\"median\",ax=ax1,marker='+',c=\"r\",lw=0.0,grid=True,ms=10,label=tag2,legend=leg1)\n",
    "ax1.errorbar(x=df2[\"Time\"], y=df2[\"median\"],yerr=df2[\"std\"],fmt=\".\",color=\"r\",ecolor=\"r\")\n",
    "\n",
    "ax1.set_ylabel(\"PWV (mm)\")\n",
    "ax1.set_xlabel(\"time\")\n",
    "ax1.xaxis.set_major_formatter(date_form)\n",
    "ax1.set_title(\"Median Precipitable water vapor per night\")\n",
    "ax1.set_ylim(0.,15.)\n",
    "ax1.legend(loc=\"upper right\")\n",
    "\n",
    "ax2.set_title(\"Fitted drift per night\")\n",
    "ax2.errorbar(x=df1[\"Time\"], y=df1[\"slope\"],yerr=df1[\"slope_err\"],fmt=\"x\",color=\"b\",ecolor=\"b\",ms=10,label=tag1,legend=leg2)\n",
    "ax2.errorbar(x=df2[\"Time\"], y=df2[\"slope\"],yerr=df2[\"slope_err\"],fmt=\"+\",color=\"r\",ecolor=\"r\",ms=10,label=tag2,legend=leg2)\n",
    "ax2.grid()\n",
    "ax2.set_ylabel(\"dPWV/dt (mm/h)\")\n",
    "ax2.set_xlabel(\"time\")\n",
    "ax2.set_ylim(-1.,1.)\n",
    "ax2.xaxis.set_major_formatter(date_form)\n",
    "ax2.legend(loc=\"upper right\")\n",
    "\n",
    "ax2.tick_params(axis='x', labelrotation=45)\n",
    "\n",
    "plt.tight_layout()\n",
    "figname =f\"{pathfigs}/pwv_medianspredslope_allnights\"+figtype\n",
    "plt.savefig(figname)\n",
    "plt.show()"
   ]
  },
  {
   "cell_type": "code",
   "execution_count": null,
   "id": "6b9b1cf9-b7a0-448f-8262-c3277de89d62",
   "metadata": {},
   "outputs": [],
   "source": [
    "from matplotlib.dates import DateFormatter\n",
    "date_form = DateFormatter(\"%y-%m-%d\")\n",
    "fig,axs = plt.subplots(1,1,figsize=(14,6))\n",
    "ax = axs\n",
    "leg=ax.get_legend()\n",
    "\n",
    "df1.plot(x=\"Time\",y=\"median\",ax=ax,marker='x',c=\"b\",ms=10,lw=0.0,grid=True,label=tag1,legend=leg)\n",
    "ax.errorbar(x=df1[\"Time\"], y=df1[\"median\"],yerr=df1[\"std\"],fmt=\".\",ms=5,color=\"b\",ecolor=\"b\")\n",
    "\n",
    "\n",
    "df2.plot(x=\"Time\",y=\"median\",ax=ax,marker='+',c=\"r\",ms=10,lw=0.0,grid=True,label=tag2,legend=leg)\n",
    "ax.errorbar(x=df2[\"Time\"], y=df2[\"median\"],yerr=df2[\"std\"],fmt=\"o\",ms=5,color=\"r\",ecolor=\"r\")\n",
    "\n",
    "ax.set_ylabel(\"PWV (mm)\")\n",
    "ax.set_xlabel(\"time\")\n",
    "ax.xaxis.set_major_formatter(date_form)\n",
    "ax.set_title(\"Median and spread of Precipitable water vapor per night\")\n",
    "ax.set_ylim(0.,15)\n",
    "ax.legend(loc=\"upper right\")\n",
    "\n",
    "figname =f\"{pathfigs}/pwv_medians_allnights\"+figtype\n",
    "plt.savefig(figname)\n",
    "plt.show()"
   ]
  },
  {
   "cell_type": "code",
   "execution_count": null,
   "id": "4f2b57be-182f-40f6-8def-ba956324e445",
   "metadata": {},
   "outputs": [],
   "source": []
  }
 ],
 "metadata": {
  "kernelspec": {
   "display_name": "Python 3 (ipykernel)",
   "language": "python",
   "name": "python3"
  },
  "language_info": {
   "codemirror_mode": {
    "name": "ipython",
    "version": 3
   },
   "file_extension": ".py",
   "mimetype": "text/x-python",
   "name": "python",
   "nbconvert_exporter": "python",
   "pygments_lexer": "ipython3",
   "version": "3.11.5"
  }
 },
 "nbformat": 4,
 "nbformat_minor": 5
}
