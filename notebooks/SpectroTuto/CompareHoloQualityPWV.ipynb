{
 "cells": [
  {
   "cell_type": "markdown",
   "id": "45bf4242-bfc5-4d43-88c4-a8059ae148df",
   "metadata": {},
   "source": [
    "# Compare hologram data quality on PWV"
   ]
  },
  {
   "cell_type": "markdown",
   "id": "01993b6e-6438-4fca-a5d5-1f9791336847",
   "metadata": {},
   "source": [
    "- author Sylvie Dagoret-Campagne\n",
    "- creation date 2024-09-25 \n",
    "- last update : 2024-09-25 \n",
    "\n",
    "- affiliation : IJCLab\n",
    "- Kernel @usdf **w_2024_37**\n",
    "- Office emac : mamba_py311\n",
    "- Home emac : base (conda)\n",
    "- laptop : conda_py310\n"
   ]
  },
  {
   "cell_type": "code",
   "execution_count": null,
   "id": "63a2b2ef-0bc2-45eb-91d9-87835d264751",
   "metadata": {
    "execution": {
     "iopub.execute_input": "2024-09-25T10:28:06.322768Z",
     "iopub.status.busy": "2024-09-25T10:28:06.322646Z",
     "iopub.status.idle": "2024-09-25T10:28:06.325077Z",
     "shell.execute_reply": "2024-09-25T10:28:06.324728Z",
     "shell.execute_reply.started": "2024-09-25T10:28:06.322755Z"
    },
    "tags": []
   },
   "outputs": [],
   "source": [
    "from platform import python_version\n",
    "print(python_version())"
   ]
  },
  {
   "cell_type": "code",
   "execution_count": null,
   "id": "dcc53afe-c58f-4948-92c9-0090d373ad2a",
   "metadata": {
    "execution": {
     "iopub.execute_input": "2024-09-25T10:28:06.326285Z",
     "iopub.status.busy": "2024-09-25T10:28:06.326162Z",
     "iopub.status.idle": "2024-09-25T10:28:06.329742Z",
     "shell.execute_reply": "2024-09-25T10:28:06.329420Z",
     "shell.execute_reply.started": "2024-09-25T10:28:06.326273Z"
    }
   },
   "outputs": [],
   "source": [
    "import warnings\n",
    "warnings.resetwarnings()\n",
    "warnings.simplefilter('ignore')"
   ]
  },
  {
   "cell_type": "code",
   "execution_count": null,
   "id": "8026d265-2493-4045-afec-26205ff71f7c",
   "metadata": {
    "execution": {
     "iopub.execute_input": "2024-09-25T10:28:06.330332Z",
     "iopub.status.busy": "2024-09-25T10:28:06.330210Z",
     "iopub.status.idle": "2024-09-25T10:28:06.334245Z",
     "shell.execute_reply": "2024-09-25T10:28:06.333883Z",
     "shell.execute_reply.started": "2024-09-25T10:28:06.330320Z"
    },
    "tags": []
   },
   "outputs": [],
   "source": [
    "from platform import python_version\n",
    "print(python_version())"
   ]
  },
  {
   "cell_type": "code",
   "execution_count": null,
   "id": "eb1f116e-80e3-46ad-a7db-7f253632e5ca",
   "metadata": {
    "execution": {
     "iopub.execute_input": "2024-09-25T10:28:06.334902Z",
     "iopub.status.busy": "2024-09-25T10:28:06.334782Z",
     "iopub.status.idle": "2024-09-25T10:28:06.337164Z",
     "shell.execute_reply": "2024-09-25T10:28:06.336810Z",
     "shell.execute_reply.started": "2024-09-25T10:28:06.334890Z"
    }
   },
   "outputs": [],
   "source": [
    "import os"
   ]
  },
  {
   "cell_type": "code",
   "execution_count": null,
   "id": "3ec760cd-3d3f-4a34-a6f6-b226fe500951",
   "metadata": {
    "execution": {
     "iopub.execute_input": "2024-09-25T10:28:06.337775Z",
     "iopub.status.busy": "2024-09-25T10:28:06.337640Z",
     "iopub.status.idle": "2024-09-25T10:28:06.342281Z",
     "shell.execute_reply": "2024-09-25T10:28:06.341919Z",
     "shell.execute_reply.started": "2024-09-25T10:28:06.337762Z"
    }
   },
   "outputs": [],
   "source": [
    "# where are stored the figures\n",
    "pathfigs = \"figsPWV\"\n",
    "if not os.path.exists(pathfigs):\n",
    "    os.makedirs(pathfigs) "
   ]
  },
  {
   "cell_type": "code",
   "execution_count": null,
   "id": "bf752b70-e6ca-4cbf-8e8c-20bf7f0d8f61",
   "metadata": {
    "execution": {
     "iopub.execute_input": "2024-09-25T10:28:06.342936Z",
     "iopub.status.busy": "2024-09-25T10:28:06.342810Z",
     "iopub.status.idle": "2024-09-25T10:28:07.278485Z",
     "shell.execute_reply": "2024-09-25T10:28:07.278045Z",
     "shell.execute_reply.started": "2024-09-25T10:28:06.342925Z"
    }
   },
   "outputs": [],
   "source": [
    "import numpy as np\n",
    "from numpy.linalg import inv\n",
    "import matplotlib as mpl\n",
    "import matplotlib.pyplot as plt\n",
    "%matplotlib inline\n",
    "from mpl_toolkits.axes_grid1 import make_axes_locatable\n",
    "from matplotlib.colors import LogNorm,SymLogNorm\n",
    "from matplotlib.patches import Circle,Annulus\n",
    "from astropy.visualization import ZScaleInterval\n",
    "props = dict(boxstyle='round', facecolor=\"white\", alpha=0.1)\n",
    "#props = dict(boxstyle='round')\n",
    "\n",
    "import matplotlib.colors as colors\n",
    "import matplotlib.cm as cmx\n",
    "\n",
    "import matplotlib.ticker                         # here's where the formatter is\n",
    "from matplotlib.ticker import (MultipleLocator, FormatStrFormatter,\n",
    "                               AutoMinorLocator)\n",
    "\n",
    "from matplotlib.gridspec import GridSpec\n",
    "\n",
    "from astropy.visualization import (MinMaxInterval, SqrtStretch,ZScaleInterval,PercentileInterval,\n",
    "                                   ImageNormalize,imshow_norm)\n",
    "from astropy.visualization.stretch import SinhStretch, LinearStretch,AsinhStretch,LogStretch\n",
    "\n",
    "from astropy.io import fits\n",
    "from astropy.wcs import WCS\n",
    "from astropy import units as u\n",
    "from astropy import constants as c\n",
    "\n",
    "from scipy import interpolate\n",
    "from sklearn.neighbors import NearestNeighbors\n",
    "from sklearn.neighbors import KDTree, BallTree\n",
    "\n",
    "import pandas as pd\n",
    "pd.set_option(\"display.max_columns\", None)\n",
    "pd.set_option('display.max_rows', 100)\n",
    "\n",
    "import matplotlib.ticker                         # here's where the formatter is\n",
    "import os\n",
    "import re\n",
    "import pandas as pd\n",
    "import pickle\n",
    "from collections import OrderedDict\n",
    "\n",
    "plt.rcParams[\"figure.figsize\"] = (4,3)\n",
    "plt.rcParams[\"axes.labelsize\"] = 'xx-large'\n",
    "plt.rcParams['axes.titlesize'] = 'xx-large'\n",
    "plt.rcParams['xtick.labelsize']= 'xx-large'\n",
    "plt.rcParams['ytick.labelsize']= 'xx-large'\n",
    "\n",
    "import scipy\n",
    "from scipy.optimize import curve_fit,least_squares\n",
    "\n",
    "\n",
    "# new color correction model\n",
    "import pickle\n",
    "from scipy.interpolate import RegularGridInterpolator"
   ]
  },
  {
   "cell_type": "code",
   "execution_count": null,
   "id": "0ca0d1e6-5f82-4c43-aaa3-8524fc2bc5ba",
   "metadata": {
    "execution": {
     "iopub.execute_input": "2024-09-25T10:28:07.279306Z",
     "iopub.status.busy": "2024-09-25T10:28:07.279033Z",
     "iopub.status.idle": "2024-09-25T10:28:07.281988Z",
     "shell.execute_reply": "2024-09-25T10:28:07.281629Z",
     "shell.execute_reply.started": "2024-09-25T10:28:07.279293Z"
    }
   },
   "outputs": [],
   "source": [
    "from matplotlib.ticker import (MultipleLocator, FormatStrFormatter,\n",
    "                               AutoMinorLocator)\n",
    "\n",
    "from astropy.visualization import (MinMaxInterval, SqrtStretch,ZScaleInterval,PercentileInterval,\n",
    "                                   ImageNormalize,imshow_norm)\n",
    "from astropy.visualization.stretch import SinhStretch, LinearStretch,AsinhStretch,LogStretch\n",
    "\n",
    "from astropy.time import Time\n"
   ]
  },
  {
   "cell_type": "code",
   "execution_count": null,
   "id": "e189816c-5048-43ab-a01a-7c078af54489",
   "metadata": {
    "execution": {
     "iopub.execute_input": "2024-09-25T10:28:07.282600Z",
     "iopub.status.busy": "2024-09-25T10:28:07.282483Z",
     "iopub.status.idle": "2024-09-25T10:28:07.409327Z",
     "shell.execute_reply": "2024-09-25T10:28:07.408881Z",
     "shell.execute_reply.started": "2024-09-25T10:28:07.282588Z"
    }
   },
   "outputs": [],
   "source": [
    "# Remove to run faster the notebook\n",
    "import ipywidgets as widgets\n",
    "%matplotlib widget"
   ]
  },
  {
   "cell_type": "code",
   "execution_count": null,
   "id": "67327fd4-e405-45ce-8923-cd46ebaa0c0f",
   "metadata": {
    "execution": {
     "iopub.execute_input": "2024-09-25T10:28:07.410092Z",
     "iopub.status.busy": "2024-09-25T10:28:07.409956Z",
     "iopub.status.idle": "2024-09-25T10:28:07.412346Z",
     "shell.execute_reply": "2024-09-25T10:28:07.411981Z",
     "shell.execute_reply.started": "2024-09-25T10:28:07.410080Z"
    },
    "tags": []
   },
   "outputs": [],
   "source": [
    "from importlib.metadata import version"
   ]
  },
  {
   "cell_type": "code",
   "execution_count": null,
   "id": "af8332dd-24f9-4b19-88f9-c62d0a4aebf1",
   "metadata": {
    "execution": {
     "iopub.execute_input": "2024-09-25T10:28:07.412976Z",
     "iopub.status.busy": "2024-09-25T10:28:07.412862Z",
     "iopub.status.idle": "2024-09-25T10:28:07.416162Z",
     "shell.execute_reply": "2024-09-25T10:28:07.415816Z",
     "shell.execute_reply.started": "2024-09-25T10:28:07.412965Z"
    },
    "tags": []
   },
   "outputs": [],
   "source": [
    "# wavelength bin colors\n",
    "#jet = plt.get_cmap('jet')\n",
    "#cNorm = mpl.colors.Normalize(vmin=0, vmax=NSED)\n",
    "#scalarMap = cmx.ScalarMappable(norm=cNorm, cmap=jet)\n",
    "#all_colors = scalarMap.to_rgba(np.arange(NSED), alpha=1)"
   ]
  },
  {
   "cell_type": "code",
   "execution_count": null,
   "id": "1003d9d6-a40f-48b1-9ffc-bfab9f45ba93",
   "metadata": {
    "execution": {
     "iopub.execute_input": "2024-09-25T10:28:07.416759Z",
     "iopub.status.busy": "2024-09-25T10:28:07.416647Z",
     "iopub.status.idle": "2024-09-25T10:28:07.421371Z",
     "shell.execute_reply": "2024-09-25T10:28:07.421022Z",
     "shell.execute_reply.started": "2024-09-25T10:28:07.416749Z"
    }
   },
   "outputs": [],
   "source": [
    "np.__version__"
   ]
  },
  {
   "cell_type": "code",
   "execution_count": null,
   "id": "c4cb2652-cb22-432e-b110-ae71d59dc793",
   "metadata": {
    "execution": {
     "iopub.execute_input": "2024-09-25T10:28:07.423684Z",
     "iopub.status.busy": "2024-09-25T10:28:07.423563Z",
     "iopub.status.idle": "2024-09-25T10:28:07.426170Z",
     "shell.execute_reply": "2024-09-25T10:28:07.425811Z",
     "shell.execute_reply.started": "2024-09-25T10:28:07.423673Z"
    }
   },
   "outputs": [],
   "source": [
    "pd.__version__"
   ]
  },
  {
   "cell_type": "markdown",
   "id": "4f13d6a3-7793-4bc0-920a-1d690d9f84b2",
   "metadata": {},
   "source": [
    "### Spectroscopy"
   ]
  },
  {
   "cell_type": "code",
   "execution_count": null,
   "id": "5bac0cab-3886-4683-b1c8-fc59edacfd46",
   "metadata": {
    "execution": {
     "iopub.execute_input": "2024-09-25T10:28:07.426736Z",
     "iopub.status.busy": "2024-09-25T10:28:07.426624Z",
     "iopub.status.idle": "2024-09-25T10:28:07.431282Z",
     "shell.execute_reply": "2024-09-25T10:28:07.430947Z",
     "shell.execute_reply.started": "2024-09-25T10:28:07.426726Z"
    },
    "tags": []
   },
   "outputs": [],
   "source": [
    "version_results = \"v3\""
   ]
  },
  {
   "cell_type": "code",
   "execution_count": null,
   "id": "a2a9c11f-05b8-4465-b96a-3f18d81572f0",
   "metadata": {
    "execution": {
     "iopub.execute_input": "2024-09-25T10:28:07.431884Z",
     "iopub.status.busy": "2024-09-25T10:28:07.431761Z",
     "iopub.status.idle": "2024-09-25T10:28:07.436226Z",
     "shell.execute_reply": "2024-09-25T10:28:07.435860Z",
     "shell.execute_reply.started": "2024-09-25T10:28:07.431869Z"
    }
   },
   "outputs": [],
   "source": [
    "if version_results == \"\":\n",
    "    atmfilename = \"data/spectro/auxtel_atmosphere_202301_v3.1.0_doSensorFlat_rebin2_testWithMaskedEdges_newBoundaries_newPolysRescaled_newFitBounds_adjustA1_lockedOrder2_removeThroughputTails_2.npy\"\n",
    "elif version_results == \"v2\":\n",
    "    atmfilename = \"auxtel_atmosphere_202301_v3.1.0_doSensorFlat_rebin2_lockedOrder2_FixA1_FixA2_FitAngstrom_FixA1_FixA2_FitAngstrom_WithGaia_freePressure_newThroughput6_BG40Scaled1.09_PeekFinder.npy\"\n",
    "elif version_results == \"v3\":\n",
    "    atmfilename = \"u_dagoret_auxtel_atmosphere_202301_v3.1.0_doSensorFlat_rebin2_lockedOrder2_FixA1_FixA2_FitAngstrom_WithGaia_freePressure_newThroughput6_BG40Scaled1.09_AtmoFitPressureA2_SpecErr_PeekFinder_20240924T161119Z.npy\""
   ]
  },
  {
   "cell_type": "code",
   "execution_count": null,
   "id": "ad60336b-f26f-4184-bcdf-e596329ecbbd",
   "metadata": {
    "execution": {
     "iopub.execute_input": "2024-09-25T10:28:07.436909Z",
     "iopub.status.busy": "2024-09-25T10:28:07.436793Z",
     "iopub.status.idle": "2024-09-25T10:28:07.501206Z",
     "shell.execute_reply": "2024-09-25T10:28:07.500733Z",
     "shell.execute_reply.started": "2024-09-25T10:28:07.436898Z"
    }
   },
   "outputs": [],
   "source": [
    "specdata = np.load(atmfilename,allow_pickle=True)"
   ]
  },
  {
   "cell_type": "code",
   "execution_count": null,
   "id": "3d9c7249-f818-4a98-8000-9be75b3c7a21",
   "metadata": {
    "execution": {
     "iopub.execute_input": "2024-09-25T10:28:07.501948Z",
     "iopub.status.busy": "2024-09-25T10:28:07.501812Z",
     "iopub.status.idle": "2024-09-25T10:28:07.600594Z",
     "shell.execute_reply": "2024-09-25T10:28:07.600209Z",
     "shell.execute_reply.started": "2024-09-25T10:28:07.501936Z"
    }
   },
   "outputs": [],
   "source": [
    "df_spec = pd.DataFrame(specdata)\n",
    "df_spec"
   ]
  },
  {
   "cell_type": "code",
   "execution_count": null,
   "id": "4de5d570-2e92-468b-ab07-63fffd8d2b8c",
   "metadata": {
    "execution": {
     "iopub.execute_input": "2024-09-25T10:28:07.601291Z",
     "iopub.status.busy": "2024-09-25T10:28:07.601168Z",
     "iopub.status.idle": "2024-09-25T10:28:07.634591Z",
     "shell.execute_reply": "2024-09-25T10:28:07.634217Z",
     "shell.execute_reply.started": "2024-09-25T10:28:07.601279Z"
    }
   },
   "outputs": [],
   "source": [
    "#subtract the a bug number to have normal dates\n",
    "df_spec[\"nightObs\"] = df_spec.apply(lambda x: x['id']//100_000, axis=1)\n",
    "df_spec[\"nightObs\"]"
   ]
  },
  {
   "cell_type": "code",
   "execution_count": null,
   "id": "49c29905-817c-4fe8-ae2e-93351e765333",
   "metadata": {
    "execution": {
     "iopub.execute_input": "2024-09-25T10:28:07.635281Z",
     "iopub.status.busy": "2024-09-25T10:28:07.635157Z",
     "iopub.status.idle": "2024-09-25T10:28:07.637897Z",
     "shell.execute_reply": "2024-09-25T10:28:07.637556Z",
     "shell.execute_reply.started": "2024-09-25T10:28:07.635269Z"
    },
    "tags": []
   },
   "outputs": [],
   "source": [
    "ser_spec_size = df_spec.groupby([\"nightObs\"]).size()"
   ]
  },
  {
   "cell_type": "code",
   "execution_count": null,
   "id": "2d28a054-60f8-4186-ac4d-b848f3174654",
   "metadata": {
    "execution": {
     "iopub.execute_input": "2024-09-25T10:28:07.638480Z",
     "iopub.status.busy": "2024-09-25T10:28:07.638369Z",
     "iopub.status.idle": "2024-09-25T10:28:07.641738Z",
     "shell.execute_reply": "2024-09-25T10:28:07.641408Z",
     "shell.execute_reply.started": "2024-09-25T10:28:07.638469Z"
    },
    "tags": []
   },
   "outputs": [],
   "source": [
    "ser_spec_size"
   ]
  },
  {
   "cell_type": "code",
   "execution_count": null,
   "id": "ae092421-5d4c-4e58-a51d-b5de2be68910",
   "metadata": {
    "execution": {
     "iopub.execute_input": "2024-09-25T10:28:07.642298Z",
     "iopub.status.busy": "2024-09-25T10:28:07.642189Z",
     "iopub.status.idle": "2024-09-25T10:28:07.645843Z",
     "shell.execute_reply": "2024-09-25T10:28:07.645538Z",
     "shell.execute_reply.started": "2024-09-25T10:28:07.642287Z"
    }
   },
   "outputs": [],
   "source": [
    "type(ser_spec_size)"
   ]
  },
  {
   "cell_type": "code",
   "execution_count": null,
   "id": "6ce22f7e-bf6b-470a-af72-325d4a0077ab",
   "metadata": {
    "execution": {
     "iopub.execute_input": "2024-09-25T10:28:07.646400Z",
     "iopub.status.busy": "2024-09-25T10:28:07.646288Z",
     "iopub.status.idle": "2024-09-25T10:28:07.712380Z",
     "shell.execute_reply": "2024-09-25T10:28:07.712042Z",
     "shell.execute_reply.started": "2024-09-25T10:28:07.646390Z"
    }
   },
   "outputs": [],
   "source": [
    "fig,ax = plt.subplots(1,1)\n",
    "ax.hist(ser_spec_size.values,bins=50,facecolor=\"b\")\n",
    "ax.set_title(\"nb obs per night\")\n",
    "ax.set_xlabel(\"Nobs/night\")"
   ]
  },
  {
   "cell_type": "code",
   "execution_count": null,
   "id": "faff0c81-88d9-466b-808c-801800256275",
   "metadata": {
    "execution": {
     "iopub.execute_input": "2024-09-25T10:28:07.712989Z",
     "iopub.status.busy": "2024-09-25T10:28:07.712872Z",
     "iopub.status.idle": "2024-09-25T10:28:07.724344Z",
     "shell.execute_reply": "2024-09-25T10:28:07.724001Z",
     "shell.execute_reply.started": "2024-09-25T10:28:07.712978Z"
    },
    "tags": []
   },
   "outputs": [],
   "source": [
    "ser_CHI2_FIT = df_spec[[\"CHI2_FIT\",\"nightObs\"]].groupby([\"nightObs\"]).agg(['count','min', 'max','mean','std','median'])\n",
    "ser_PWV = df_spec[[\"PWV [mm]_x\",\"nightObs\"]].groupby([\"nightObs\"]).agg(['count','min', 'max','mean','std','median'])\n",
    "ser_PWV_CHI2_FIT = df_spec[[\"PWV [mm]_x\",\"CHI2_FIT\",\"nightObs\"]].groupby([\"nightObs\"]).agg(['count','min', 'max','mean','std','median'])"
   ]
  },
  {
   "cell_type": "code",
   "execution_count": null,
   "id": "e26f48e9-02dd-4cdd-abf1-11fc5d0ccd0d",
   "metadata": {
    "execution": {
     "iopub.execute_input": "2024-09-25T10:28:07.724931Z",
     "iopub.status.busy": "2024-09-25T10:28:07.724812Z",
     "iopub.status.idle": "2024-09-25T10:28:07.732356Z",
     "shell.execute_reply": "2024-09-25T10:28:07.731998Z",
     "shell.execute_reply.started": "2024-09-25T10:28:07.724920Z"
    }
   },
   "outputs": [],
   "source": [
    "ser_PWV"
   ]
  },
  {
   "cell_type": "code",
   "execution_count": null,
   "id": "31cd0a79-1b0b-4af3-8f7f-eb01342048ca",
   "metadata": {
    "execution": {
     "iopub.execute_input": "2024-09-25T10:28:07.732902Z",
     "iopub.status.busy": "2024-09-25T10:28:07.732788Z",
     "iopub.status.idle": "2024-09-25T10:28:07.740117Z",
     "shell.execute_reply": "2024-09-25T10:28:07.739771Z",
     "shell.execute_reply.started": "2024-09-25T10:28:07.732891Z"
    },
    "tags": []
   },
   "outputs": [],
   "source": [
    "ser_CHI2_FIT"
   ]
  },
  {
   "cell_type": "code",
   "execution_count": null,
   "id": "3429f0df-af66-4c8b-9e1f-ca934fc2dc13",
   "metadata": {
    "execution": {
     "iopub.execute_input": "2024-09-25T10:28:07.740796Z",
     "iopub.status.busy": "2024-09-25T10:28:07.740679Z",
     "iopub.status.idle": "2024-09-25T10:28:07.751023Z",
     "shell.execute_reply": "2024-09-25T10:28:07.750642Z",
     "shell.execute_reply.started": "2024-09-25T10:28:07.740786Z"
    },
    "tags": []
   },
   "outputs": [],
   "source": [
    "ser_PWV_CHI2_FIT "
   ]
  },
  {
   "cell_type": "markdown",
   "id": "d7c4cd36-ab87-41c0-a25a-e48cb8bee9e7",
   "metadata": {},
   "source": [
    "### Plot PWV and Chi2 before anly selection"
   ]
  },
  {
   "cell_type": "code",
   "execution_count": null,
   "id": "80317b40-62e1-4b9d-9411-ddca229fa9aa",
   "metadata": {
    "execution": {
     "iopub.execute_input": "2024-09-25T10:28:07.751672Z",
     "iopub.status.busy": "2024-09-25T10:28:07.751553Z",
     "iopub.status.idle": "2024-09-25T10:28:08.226237Z",
     "shell.execute_reply": "2024-09-25T10:28:08.225857Z",
     "shell.execute_reply.started": "2024-09-25T10:28:07.751662Z"
    },
    "tags": []
   },
   "outputs": [],
   "source": [
    "fig,ax = plt.subplots(1,1,figsize=(18,3))\n",
    "ser_PWV.unstack()[\"PWV [mm]_x\"][\"count\"].plot(kind='bar', ax=ax,subplots=False, rot=90,figsize=(18,4),facecolor=\"b\",grid=True,title=\"Number of measurements per night\")\n",
    "plt.tight_layout()"
   ]
  },
  {
   "cell_type": "code",
   "execution_count": null,
   "id": "c8bfe4d6-fe88-4187-be0f-29be89a45523",
   "metadata": {
    "execution": {
     "iopub.execute_input": "2024-09-25T10:28:08.226930Z",
     "iopub.status.busy": "2024-09-25T10:28:08.226800Z",
     "iopub.status.idle": "2024-09-25T10:28:08.788613Z",
     "shell.execute_reply": "2024-09-25T10:28:08.788123Z",
     "shell.execute_reply.started": "2024-09-25T10:28:08.226918Z"
    },
    "tags": []
   },
   "outputs": [],
   "source": [
    "fig,ax = plt.subplots(1,1,figsize=(18,3))\n",
    "ser_PWV.unstack()[\"PWV [mm]_x\"][\"mean\"].plot(kind='bar',ax=ax ,subplots=False, rot=90,figsize=(18,4),facecolor='b',grid=True,title=\"Mean PWV per night\")\n",
    "plt.tight_layout()"
   ]
  },
  {
   "cell_type": "code",
   "execution_count": null,
   "id": "e3e93140-4e76-41ec-8670-2043771a7e00",
   "metadata": {
    "execution": {
     "iopub.execute_input": "2024-09-25T10:28:08.789305Z",
     "iopub.status.busy": "2024-09-25T10:28:08.789176Z",
     "iopub.status.idle": "2024-09-25T10:28:09.250763Z",
     "shell.execute_reply": "2024-09-25T10:28:09.250385Z",
     "shell.execute_reply.started": "2024-09-25T10:28:08.789293Z"
    },
    "tags": []
   },
   "outputs": [],
   "source": [
    "fig,ax = plt.subplots(1,1,figsize=(18,3))\n",
    "ser_PWV.unstack()[\"PWV [mm]_x\"][\"median\"].plot(kind='bar',ax=ax ,subplots=False, rot=90,figsize=(18,4),facecolor='b',grid=True,title=\"Median PWV per night\")\n",
    "plt.tight_layout()"
   ]
  },
  {
   "cell_type": "code",
   "execution_count": null,
   "id": "67e69917-efb7-40f3-9a4c-1b9d579e9cad",
   "metadata": {
    "execution": {
     "iopub.execute_input": "2024-09-25T10:28:09.251468Z",
     "iopub.status.busy": "2024-09-25T10:28:09.251337Z",
     "iopub.status.idle": "2024-09-25T10:28:09.714771Z",
     "shell.execute_reply": "2024-09-25T10:28:09.714359Z",
     "shell.execute_reply.started": "2024-09-25T10:28:09.251456Z"
    },
    "tags": []
   },
   "outputs": [],
   "source": [
    "fig,ax = plt.subplots(1,1,figsize=(18,3))\n",
    "ser_PWV.unstack()[\"PWV [mm]_x\"][\"std\"].plot(kind='bar', subplots=False, rot=90,figsize=(18,4),facecolor='b',grid=True,title=\"STD variation for PWV per night\")\n",
    "plt.tight_layout()"
   ]
  },
  {
   "cell_type": "code",
   "execution_count": null,
   "id": "a20e0562-16d6-4e90-a167-0d858327d347",
   "metadata": {
    "execution": {
     "iopub.execute_input": "2024-09-25T10:28:09.715594Z",
     "iopub.status.busy": "2024-09-25T10:28:09.715455Z",
     "iopub.status.idle": "2024-09-25T10:28:10.194038Z",
     "shell.execute_reply": "2024-09-25T10:28:10.193645Z",
     "shell.execute_reply.started": "2024-09-25T10:28:09.715582Z"
    },
    "tags": []
   },
   "outputs": [],
   "source": [
    "fig,ax = plt.subplots(1,1,figsize=(18,3))\n",
    "ser_CHI2_FIT.unstack()[\"CHI2_FIT\"][\"count\"].plot(kind='bar', ax=ax,subplots=False, rot=90,figsize=(18,4),facecolor=\"r\",grid=True,title=\"Number of measurements per night\")\n",
    "plt.tight_layout()"
   ]
  },
  {
   "cell_type": "code",
   "execution_count": null,
   "id": "be19fd80-6fd1-41ad-ae5a-224b4655b51d",
   "metadata": {
    "execution": {
     "iopub.execute_input": "2024-09-25T10:28:10.194793Z",
     "iopub.status.busy": "2024-09-25T10:28:10.194657Z",
     "iopub.status.idle": "2024-09-25T10:28:10.787701Z",
     "shell.execute_reply": "2024-09-25T10:28:10.787298Z",
     "shell.execute_reply.started": "2024-09-25T10:28:10.194780Z"
    },
    "tags": []
   },
   "outputs": [],
   "source": [
    "fig,ax = plt.subplots(1,1,figsize=(18,3))\n",
    "ser_CHI2_FIT.unstack()[\"CHI2_FIT\"][\"mean\"].plot(kind='bar',ax=ax ,subplots=False, rot=90,figsize=(18,4),facecolor='r',grid=True,title=\"Mean CHI2 per night\")\n",
    "plt.tight_layout()"
   ]
  },
  {
   "cell_type": "code",
   "execution_count": null,
   "id": "6c7ff0b5-3c40-4921-9c2f-9455c51e99a5",
   "metadata": {
    "execution": {
     "iopub.execute_input": "2024-09-25T10:28:10.788452Z",
     "iopub.status.busy": "2024-09-25T10:28:10.788317Z",
     "iopub.status.idle": "2024-09-25T10:28:11.249997Z",
     "shell.execute_reply": "2024-09-25T10:28:11.249585Z",
     "shell.execute_reply.started": "2024-09-25T10:28:10.788440Z"
    },
    "tags": []
   },
   "outputs": [],
   "source": [
    "fig,ax = plt.subplots(1,1,figsize=(18,3))\n",
    "ser_CHI2_FIT.unstack()[\"CHI2_FIT\"][\"median\"].plot(kind='bar',ax=ax ,subplots=False, rot=90,figsize=(18,4),facecolor='r',grid=True,title=\"Median CHI2 per night\")\n",
    "plt.tight_layout()"
   ]
  },
  {
   "cell_type": "code",
   "execution_count": null,
   "id": "f1cefb7f-ed65-45a4-9f92-5655081afe10",
   "metadata": {
    "execution": {
     "iopub.execute_input": "2024-09-25T10:28:11.250768Z",
     "iopub.status.busy": "2024-09-25T10:28:11.250632Z",
     "iopub.status.idle": "2024-09-25T10:28:11.726067Z",
     "shell.execute_reply": "2024-09-25T10:28:11.725561Z",
     "shell.execute_reply.started": "2024-09-25T10:28:11.250754Z"
    },
    "tags": []
   },
   "outputs": [],
   "source": [
    "fig,ax = plt.subplots(1,1,figsize=(18,3))\n",
    "ser_CHI2_FIT.unstack()[\"CHI2_FIT\"][\"std\"].plot(kind='bar',ax=ax ,subplots=False, rot=90,figsize=(18,4),facecolor='r',grid=True,title=\"STD variation CHI2 per night\")\n",
    "plt.tight_layout()"
   ]
  },
  {
   "cell_type": "code",
   "execution_count": null,
   "id": "90ead6bb-6366-4927-beca-79f8fc1b4477",
   "metadata": {
    "execution": {
     "iopub.execute_input": "2024-09-25T10:28:11.726862Z",
     "iopub.status.busy": "2024-09-25T10:28:11.726723Z",
     "iopub.status.idle": "2024-09-25T10:28:11.741032Z",
     "shell.execute_reply": "2024-09-25T10:28:11.740655Z",
     "shell.execute_reply.started": "2024-09-25T10:28:11.726849Z"
    },
    "tags": []
   },
   "outputs": [],
   "source": [
    "ser_PWV_CHI2_FIT "
   ]
  },
  {
   "cell_type": "code",
   "execution_count": null,
   "id": "702a26c1-4b22-4b1c-9f8b-ebd3f2de61a1",
   "metadata": {
    "execution": {
     "iopub.execute_input": "2024-09-25T10:28:11.741734Z",
     "iopub.status.busy": "2024-09-25T10:28:11.741607Z",
     "iopub.status.idle": "2024-09-25T10:28:11.746796Z",
     "shell.execute_reply": "2024-09-25T10:28:11.746366Z",
     "shell.execute_reply.started": "2024-09-25T10:28:11.741722Z"
    },
    "tags": []
   },
   "outputs": [],
   "source": [
    "ser_PWV_CHI2_FIT.loc[20230117,:]"
   ]
  },
  {
   "cell_type": "code",
   "execution_count": null,
   "id": "c463654d-ce69-48fb-b14d-0d466258f917",
   "metadata": {
    "execution": {
     "iopub.execute_input": "2024-09-25T10:28:11.747548Z",
     "iopub.status.busy": "2024-09-25T10:28:11.747367Z",
     "iopub.status.idle": "2024-09-25T10:28:11.755863Z",
     "shell.execute_reply": "2024-09-25T10:28:11.755530Z",
     "shell.execute_reply.started": "2024-09-25T10:28:11.747530Z"
    },
    "tags": []
   },
   "outputs": [],
   "source": [
    "df_unstack = ser_PWV_CHI2_FIT.loc[20230117,:].unstack()\n",
    "df_unstack"
   ]
  },
  {
   "cell_type": "code",
   "execution_count": null,
   "id": "665aeaea-a974-4cac-95bc-14ef9d4298c5",
   "metadata": {
    "execution": {
     "iopub.execute_input": "2024-09-25T10:28:11.756464Z",
     "iopub.status.busy": "2024-09-25T10:28:11.756345Z",
     "iopub.status.idle": "2024-09-25T10:28:11.760803Z",
     "shell.execute_reply": "2024-09-25T10:28:11.760408Z",
     "shell.execute_reply.started": "2024-09-25T10:28:11.756452Z"
    },
    "tags": []
   },
   "outputs": [],
   "source": [
    "ser_PWV_CHI2_FIT.loc[20230117,\"PWV [mm]_x\"][\"count\"]"
   ]
  },
  {
   "cell_type": "code",
   "execution_count": null,
   "id": "005f6704-1ee2-403f-bfc7-e07e311cbb31",
   "metadata": {
    "execution": {
     "iopub.execute_input": "2024-09-25T10:28:11.761427Z",
     "iopub.status.busy": "2024-09-25T10:28:11.761308Z",
     "iopub.status.idle": "2024-09-25T10:28:11.767100Z",
     "shell.execute_reply": "2024-09-25T10:28:11.766736Z",
     "shell.execute_reply.started": "2024-09-25T10:28:11.761416Z"
    },
    "tags": []
   },
   "outputs": [],
   "source": [
    "df_unstack.loc[\"PWV [mm]_x\",\"count\"]"
   ]
  },
  {
   "cell_type": "code",
   "execution_count": null,
   "id": "6c777a31-67c1-4466-8808-e975dda49994",
   "metadata": {
    "execution": {
     "iopub.execute_input": "2024-09-25T10:28:11.767765Z",
     "iopub.status.busy": "2024-09-25T10:28:11.767642Z",
     "iopub.status.idle": "2024-09-25T10:28:11.772397Z",
     "shell.execute_reply": "2024-09-25T10:28:11.772055Z",
     "shell.execute_reply.started": "2024-09-25T10:28:11.767753Z"
    },
    "tags": []
   },
   "outputs": [],
   "source": [
    "def FillAgreggates(row):\n",
    "    the_nightObs = row[\"nightObs\"]\n",
    "    df_night = ser_PWV_CHI2_FIT.loc[the_nightObs,:].unstack()\n",
    "    count = df_night.loc[\"PWV [mm]_x\",\"count\"]\n",
    "    pwvmin = df_night.loc[\"PWV [mm]_x\",\"min\"]\n",
    "    pwvmax = df_night.loc[\"PWV [mm]_x\",\"max\"]\n",
    "    pwvmean = df_night.loc[\"PWV [mm]_x\",\"mean\"]\n",
    "    pwvmedian = df_night.loc[\"PWV [mm]_x\",\"median\"]\n",
    "    pwvstd = df_night.loc[\"PWV [mm]_x\",\"std\"]\n",
    "    chi2min = df_night.loc[\"CHI2_FIT\",\"min\"]\n",
    "    chi2max = df_night.loc[\"CHI2_FIT\",\"max\"]\n",
    "    chi2mean = df_night.loc[\"CHI2_FIT\",\"mean\"]\n",
    "    chi2median = df_night.loc[\"CHI2_FIT\",\"median\"]\n",
    "    chi2std = df_night.loc[\"CHI2_FIT\",\"std\"]\n",
    "    \n",
    "    d = {\"_count\":count,\"_pwvmin\":pwvmin,\"_pwvmax\":pwvmax,\"_pwvmean\":pwvmean,\"_pwvmedian\":pwvmedian,\"_pwvstd\":pwvstd,\n",
    "        \"_chi2min\":chi2min,\"_chi2max\":chi2max,\"_chi2mean\":chi2mean,\"_chi2median\":chi2median,\"_chi2std\":chi2std}\n",
    "    \n",
    "    ser = pd.Series(data=d)\n",
    "\n",
    "    return ser\n",
    "    "
   ]
  },
  {
   "cell_type": "code",
   "execution_count": null,
   "id": "3fe7741b-b438-4fbd-b881-1cab01ee9d92",
   "metadata": {
    "execution": {
     "iopub.execute_input": "2024-09-25T10:28:11.772991Z",
     "iopub.status.busy": "2024-09-25T10:28:11.772870Z",
     "iopub.status.idle": "2024-09-25T10:28:11.778691Z",
     "shell.execute_reply": "2024-09-25T10:28:11.778361Z",
     "shell.execute_reply.started": "2024-09-25T10:28:11.772979Z"
    },
    "tags": []
   },
   "outputs": [],
   "source": [
    "row = df_spec.iloc[0]"
   ]
  },
  {
   "cell_type": "code",
   "execution_count": null,
   "id": "f001cb73-c1c5-4019-a8ae-b148aeec0bf7",
   "metadata": {
    "execution": {
     "iopub.execute_input": "2024-09-25T10:28:11.779307Z",
     "iopub.status.busy": "2024-09-25T10:28:11.779185Z",
     "iopub.status.idle": "2024-09-25T10:28:11.783800Z",
     "shell.execute_reply": "2024-09-25T10:28:11.783474Z",
     "shell.execute_reply.started": "2024-09-25T10:28:11.779296Z"
    },
    "tags": []
   },
   "outputs": [],
   "source": [
    "row"
   ]
  },
  {
   "cell_type": "code",
   "execution_count": null,
   "id": "c2a13cbb-fe9f-45ef-be3c-53d345da591d",
   "metadata": {
    "execution": {
     "iopub.execute_input": "2024-09-25T10:28:11.788688Z",
     "iopub.status.busy": "2024-09-25T10:28:11.788567Z",
     "iopub.status.idle": "2024-09-25T10:28:11.793705Z",
     "shell.execute_reply": "2024-09-25T10:28:11.793382Z",
     "shell.execute_reply.started": "2024-09-25T10:28:11.788677Z"
    },
    "tags": []
   },
   "outputs": [],
   "source": [
    "FillAgreggates(row)"
   ]
  },
  {
   "cell_type": "code",
   "execution_count": null,
   "id": "7078b47e-2d0a-40bc-b225-c321abd1af88",
   "metadata": {
    "execution": {
     "iopub.execute_input": "2024-09-25T10:28:11.794281Z",
     "iopub.status.busy": "2024-09-25T10:28:11.794165Z",
     "iopub.status.idle": "2024-09-25T10:28:14.959499Z",
     "shell.execute_reply": "2024-09-25T10:28:14.959134Z",
     "shell.execute_reply.started": "2024-09-25T10:28:11.794270Z"
    },
    "tags": []
   },
   "outputs": [],
   "source": [
    "df_spec = df_spec.join(df_spec.apply(FillAgreggates,axis=1,result_type=\"expand\"))"
   ]
  },
  {
   "cell_type": "code",
   "execution_count": null,
   "id": "061123e6-46bf-4f91-9486-658d0c3a6b19",
   "metadata": {
    "execution": {
     "iopub.execute_input": "2024-09-25T10:28:14.960165Z",
     "iopub.status.busy": "2024-09-25T10:28:14.960025Z",
     "iopub.status.idle": "2024-09-25T10:28:15.047388Z",
     "shell.execute_reply": "2024-09-25T10:28:15.047043Z",
     "shell.execute_reply.started": "2024-09-25T10:28:14.960152Z"
    },
    "tags": []
   },
   "outputs": [],
   "source": [
    "df_spec"
   ]
  },
  {
   "cell_type": "markdown",
   "id": "a4f8b443-4bc5-46fc-a548-33441edee6da",
   "metadata": {},
   "source": [
    "## Aply selection"
   ]
  },
  {
   "cell_type": "code",
   "execution_count": null,
   "id": "2325b3ff-29c2-445a-b25e-cc11aba4f45a",
   "metadata": {
    "execution": {
     "iopub.execute_input": "2024-09-25T10:28:15.048023Z",
     "iopub.status.busy": "2024-09-25T10:28:15.047896Z",
     "iopub.status.idle": "2024-09-25T10:28:15.192339Z",
     "shell.execute_reply": "2024-09-25T10:28:15.191948Z",
     "shell.execute_reply.started": "2024-09-25T10:28:15.048011Z"
    },
    "tags": []
   },
   "outputs": [],
   "source": [
    "fig,ax = plt.subplots(1,1)\n",
    "df_spec[\"CHI2_FIT\"].hist(bins=50,ax=ax,range=(0,200))\n",
    "ax.set_yscale(\"log\")"
   ]
  },
  {
   "cell_type": "code",
   "execution_count": null,
   "id": "0d10c1ad-c5dc-4487-baa9-7c71ec531f45",
   "metadata": {
    "execution": {
     "iopub.execute_input": "2024-09-25T10:28:15.193075Z",
     "iopub.status.busy": "2024-09-25T10:28:15.192943Z",
     "iopub.status.idle": "2024-09-25T10:28:15.198973Z",
     "shell.execute_reply": "2024-09-25T10:28:15.198619Z",
     "shell.execute_reply.started": "2024-09-25T10:28:15.193063Z"
    }
   },
   "outputs": [],
   "source": [
    "df_spec[\"Time\"] = pd.to_datetime(df_spec[\"DATE-OBS\"])\n",
    "#df_spec[\"PWV [mm]_x\"]"
   ]
  },
  {
   "cell_type": "code",
   "execution_count": null,
   "id": "48bfb19b-f528-4154-99ae-b2358cb90317",
   "metadata": {
    "execution": {
     "iopub.execute_input": "2024-09-25T10:28:15.199643Z",
     "iopub.status.busy": "2024-09-25T10:28:15.199505Z",
     "iopub.status.idle": "2024-09-25T10:28:15.259324Z",
     "shell.execute_reply": "2024-09-25T10:28:15.258990Z",
     "shell.execute_reply.started": "2024-09-25T10:28:15.199631Z"
    }
   },
   "outputs": [],
   "source": [
    "Dt = pd.Timedelta(minutes=30)\n",
    "d = {}\n",
    "list_of_nightobs = df_spec[\"nightObs\"].unique()\n",
    "for nightobs in list_of_nightobs:\n",
    "    sel_flag = df_spec[\"nightObs\"] == nightobs\n",
    "    df_night = df_spec[sel_flag]\n",
    "    tmin = df_night[\"Time\"].min()-Dt\n",
    "    tmax = df_night[\"Time\"].max()+Dt\n",
    "    d[nightobs] = (tmin,tmax)"
   ]
  },
  {
   "cell_type": "code",
   "execution_count": null,
   "id": "3fd02994-4a05-4145-8da9-10ac7f5b920a",
   "metadata": {
    "execution": {
     "iopub.execute_input": "2024-09-25T10:28:15.259973Z",
     "iopub.status.busy": "2024-09-25T10:28:15.259849Z",
     "iopub.status.idle": "2024-09-25T10:28:15.603884Z",
     "shell.execute_reply": "2024-09-25T10:28:15.603478Z",
     "shell.execute_reply.started": "2024-09-25T10:28:15.259962Z"
    }
   },
   "outputs": [],
   "source": [
    "from matplotlib.dates import DateFormatter\n",
    "date_form = DateFormatter(\"%y-%m-%dT%H:%M\")\n",
    "fig,axs = plt.subplots(1,1,figsize=(14,4))\n",
    "ax1  = axs\n",
    "df_spec.plot(x=\"Time\",y=\"PWV [mm]_x\",ax=ax1,marker='+',c=\"r\",lw=0.0,grid=True,label=\"PWV_x\")\n",
    "ax1.set_ylabel(\"PWV [mm]_x\")\n",
    "#df_spec.plot(x=\"Time\",y=\"PWV [mm]_y\",ax=ax2,marker='+',c=\"b\",lw=0.0,grid=True,label=\"PWV_y\")\n",
    "ax1.set_xlabel(\"time\")\n",
    "ax1.xaxis.set_major_formatter(date_form)\n",
    "ax1.set_title(\"Precipibable water vapor meas by holo vs time\")\n",
    "\n",
    "for key, tt in d.items():\n",
    "    ax1.axvspan(tt[0],tt[1], color='blue', alpha=0.1)\n",
    "\n",
    "plt.tight_layout()"
   ]
  },
  {
   "cell_type": "markdown",
   "id": "564f9a05-b3e2-4d61-9457-cda76ebd2a1b",
   "metadata": {},
   "source": [
    "## Apply selection"
   ]
  },
  {
   "cell_type": "code",
   "execution_count": null,
   "id": "e1cbfa40-4395-47f4-9acf-6a9f531fabd4",
   "metadata": {
    "execution": {
     "iopub.execute_input": "2024-09-25T10:28:15.604629Z",
     "iopub.status.busy": "2024-09-25T10:28:15.604497Z",
     "iopub.status.idle": "2024-09-25T10:28:15.611551Z",
     "shell.execute_reply": "2024-09-25T10:28:15.611203Z",
     "shell.execute_reply.started": "2024-09-25T10:28:15.604617Z"
    }
   },
   "outputs": [],
   "source": [
    "cut =  (df_spec[\"CHI2_FIT\"]<20) & (df_spec[\"PWV [mm]_x\"] >0.1) & (df_spec[\"PWV [mm]_x\"] < 14.9) \n",
    "df_spec_sel = df_spec[cut].drop(labels=['_count', '_pwvmin', '_pwvmax', '_pwvmean', '_pwvmedian', '_pwvstd','_chi2min', '_chi2max', '_chi2mean', '_chi2median', '_chi2std'],axis=1)"
   ]
  },
  {
   "cell_type": "code",
   "execution_count": null,
   "id": "bae62b07-17d4-423e-bdfe-634272a040a2",
   "metadata": {
    "execution": {
     "iopub.execute_input": "2024-09-25T10:28:15.612190Z",
     "iopub.status.busy": "2024-09-25T10:28:15.612060Z",
     "iopub.status.idle": "2024-09-25T10:28:15.615697Z",
     "shell.execute_reply": "2024-09-25T10:28:15.615345Z",
     "shell.execute_reply.started": "2024-09-25T10:28:15.612178Z"
    },
    "tags": []
   },
   "outputs": [],
   "source": [
    "df_spec_sel.reset_index(drop=True,inplace=True)"
   ]
  },
  {
   "cell_type": "code",
   "execution_count": null,
   "id": "8bad857c-b6e0-41ec-96bb-089ed1b696d9",
   "metadata": {
    "execution": {
     "iopub.execute_input": "2024-09-25T10:28:15.616311Z",
     "iopub.status.busy": "2024-09-25T10:28:15.616195Z",
     "iopub.status.idle": "2024-09-25T10:28:15.700026Z",
     "shell.execute_reply": "2024-09-25T10:28:15.699699Z",
     "shell.execute_reply.started": "2024-09-25T10:28:15.616300Z"
    },
    "tags": []
   },
   "outputs": [],
   "source": [
    "df_spec_sel"
   ]
  },
  {
   "cell_type": "code",
   "execution_count": null,
   "id": "5f2bb2b2-a77b-485d-975b-88912029b163",
   "metadata": {
    "execution": {
     "iopub.execute_input": "2024-09-25T10:28:15.700595Z",
     "iopub.status.busy": "2024-09-25T10:28:15.700479Z",
     "iopub.status.idle": "2024-09-25T10:28:15.707366Z",
     "shell.execute_reply": "2024-09-25T10:28:15.707029Z",
     "shell.execute_reply.started": "2024-09-25T10:28:15.700584Z"
    },
    "tags": []
   },
   "outputs": [],
   "source": [
    "ser_PWV_CHI2_FIT_sel = df_spec_sel[[\"PWV [mm]_x\",\"CHI2_FIT\",\"nightObs\"]].groupby([\"nightObs\"]).agg(['count','min', 'max','mean','std','median'])"
   ]
  },
  {
   "cell_type": "code",
   "execution_count": null,
   "id": "cf57d2d5-abc5-4743-864d-46617e6cfe82",
   "metadata": {
    "execution": {
     "iopub.execute_input": "2024-09-25T10:28:15.707953Z",
     "iopub.status.busy": "2024-09-25T10:28:15.707836Z",
     "iopub.status.idle": "2024-09-25T10:28:15.719708Z",
     "shell.execute_reply": "2024-09-25T10:28:15.719278Z",
     "shell.execute_reply.started": "2024-09-25T10:28:15.707941Z"
    },
    "tags": []
   },
   "outputs": [],
   "source": [
    "ser_PWV_CHI2_FIT_sel"
   ]
  },
  {
   "cell_type": "code",
   "execution_count": null,
   "id": "32089a52-fb70-4ef2-b900-c34975c325c8",
   "metadata": {
    "execution": {
     "iopub.execute_input": "2024-09-25T10:28:15.720368Z",
     "iopub.status.busy": "2024-09-25T10:28:15.720251Z",
     "iopub.status.idle": "2024-09-25T10:28:15.725370Z",
     "shell.execute_reply": "2024-09-25T10:28:15.724901Z",
     "shell.execute_reply.started": "2024-09-25T10:28:15.720357Z"
    },
    "tags": []
   },
   "outputs": [],
   "source": [
    "def FillAgreggatesSel(row):\n",
    "    the_nightObs = row[\"nightObs\"]\n",
    "    df_night = ser_PWV_CHI2_FIT_sel.loc[the_nightObs,:].unstack()\n",
    "    count = df_night.loc[\"PWV [mm]_x\",\"count\"]\n",
    "    pwvmin = df_night.loc[\"PWV [mm]_x\",\"min\"]\n",
    "    pwvmax = df_night.loc[\"PWV [mm]_x\",\"max\"]\n",
    "    pwvmean = df_night.loc[\"PWV [mm]_x\",\"mean\"]\n",
    "    pwvmedian = df_night.loc[\"PWV [mm]_x\",\"median\"]\n",
    "    pwvstd = df_night.loc[\"PWV [mm]_x\",\"std\"]\n",
    "    chi2min = df_night.loc[\"CHI2_FIT\",\"min\"]\n",
    "    chi2max = df_night.loc[\"CHI2_FIT\",\"max\"]\n",
    "    chi2mean = df_night.loc[\"CHI2_FIT\",\"mean\"]\n",
    "    chi2median = df_night.loc[\"CHI2_FIT\",\"median\"]\n",
    "    chi2std = df_night.loc[\"CHI2_FIT\",\"std\"]\n",
    "    \n",
    "    d = {\"_count\":count,\"_pwvmin\":pwvmin,\"_pwvmax\":pwvmax,\"_pwvmean\":pwvmean,\"_pwvmedian\":pwvmedian,\"_pwvstd\":pwvstd,\n",
    "        \"_chi2min\":chi2min,\"_chi2max\":chi2max,\"_chi2mean\":chi2mean,\"_chi2median\":chi2median,\"_chi2std\":chi2std}\n",
    "    \n",
    "    ser = pd.Series(data=d)\n",
    "\n",
    "    return ser\n",
    "    "
   ]
  },
  {
   "cell_type": "code",
   "execution_count": null,
   "id": "6d9205d1-8997-4cbb-9238-c5d703dccc66",
   "metadata": {
    "execution": {
     "iopub.execute_input": "2024-09-25T10:28:15.725977Z",
     "iopub.status.busy": "2024-09-25T10:28:15.725863Z",
     "iopub.status.idle": "2024-09-25T10:28:15.730954Z",
     "shell.execute_reply": "2024-09-25T10:28:15.730552Z",
     "shell.execute_reply.started": "2024-09-25T10:28:15.725966Z"
    },
    "tags": []
   },
   "outputs": [],
   "source": [
    "row = df_spec_sel.iloc[0]\n",
    "row"
   ]
  },
  {
   "cell_type": "code",
   "execution_count": null,
   "id": "bd0c304b-cd1b-46d3-8719-876f731bbff4",
   "metadata": {
    "execution": {
     "iopub.execute_input": "2024-09-25T10:28:15.731636Z",
     "iopub.status.busy": "2024-09-25T10:28:15.731522Z",
     "iopub.status.idle": "2024-09-25T10:28:15.736969Z",
     "shell.execute_reply": "2024-09-25T10:28:15.736593Z",
     "shell.execute_reply.started": "2024-09-25T10:28:15.731626Z"
    },
    "tags": []
   },
   "outputs": [],
   "source": [
    "FillAgreggatesSel(row)"
   ]
  },
  {
   "cell_type": "code",
   "execution_count": null,
   "id": "b99a8e47-540c-4c1a-af93-79761d15697a",
   "metadata": {
    "execution": {
     "iopub.execute_input": "2024-09-25T10:28:15.737606Z",
     "iopub.status.busy": "2024-09-25T10:28:15.737490Z",
     "iopub.status.idle": "2024-09-25T10:28:17.786323Z",
     "shell.execute_reply": "2024-09-25T10:28:17.785949Z",
     "shell.execute_reply.started": "2024-09-25T10:28:15.737595Z"
    },
    "tags": []
   },
   "outputs": [],
   "source": [
    "df_part2 = df_spec_sel.apply(FillAgreggatesSel,axis=1,result_type=\"expand\")\n",
    "df_part2"
   ]
  },
  {
   "cell_type": "code",
   "execution_count": null,
   "id": "7df3b6b8-24f7-4639-a94e-35f345c5e450",
   "metadata": {
    "execution": {
     "iopub.execute_input": "2024-09-25T10:28:17.787028Z",
     "iopub.status.busy": "2024-09-25T10:28:17.786897Z",
     "iopub.status.idle": "2024-09-25T10:28:20.021102Z",
     "shell.execute_reply": "2024-09-25T10:28:20.020648Z",
     "shell.execute_reply.started": "2024-09-25T10:28:17.787016Z"
    },
    "tags": []
   },
   "outputs": [],
   "source": [
    "df_spec_sel = df_spec_sel.join(df_spec_sel.apply(FillAgreggatesSel,axis=1,result_type=\"expand\"))"
   ]
  },
  {
   "cell_type": "code",
   "execution_count": null,
   "id": "65fb06a8-7bfb-4c08-9ad7-ced34e9430df",
   "metadata": {
    "execution": {
     "iopub.execute_input": "2024-09-25T10:28:20.021859Z",
     "iopub.status.busy": "2024-09-25T10:28:20.021719Z",
     "iopub.status.idle": "2024-09-25T10:28:20.110702Z",
     "shell.execute_reply": "2024-09-25T10:28:20.110352Z",
     "shell.execute_reply.started": "2024-09-25T10:28:20.021847Z"
    },
    "tags": []
   },
   "outputs": [],
   "source": [
    "df_spec_sel"
   ]
  },
  {
   "cell_type": "code",
   "execution_count": null,
   "id": "57e9b3e1-5556-4785-865d-9e2a2ddb7e85",
   "metadata": {
    "execution": {
     "iopub.execute_input": "2024-09-25T10:28:20.111312Z",
     "iopub.status.busy": "2024-09-25T10:28:20.111193Z",
     "iopub.status.idle": "2024-09-25T10:28:20.168756Z",
     "shell.execute_reply": "2024-09-25T10:28:20.168408Z",
     "shell.execute_reply.started": "2024-09-25T10:28:20.111301Z"
    }
   },
   "outputs": [],
   "source": [
    "Dt = pd.Timedelta(minutes=30)\n",
    "d = {}\n",
    "list_of_nightobs = df_spec_sel[\"nightObs\"].unique()\n",
    "for nightobs in list_of_nightobs:\n",
    "    sel_flag = df_spec_sel[\"nightObs\"] == nightobs\n",
    "    df_night = df_spec_sel[sel_flag]\n",
    "    tmin = df_night[\"Time\"].min()-Dt\n",
    "    tmax = df_night[\"Time\"].max()+Dt\n",
    "    d[nightobs] = (tmin,tmax)"
   ]
  },
  {
   "cell_type": "code",
   "execution_count": null,
   "id": "58b3d86e-7a6a-4685-8f5c-af994b7b2164",
   "metadata": {
    "execution": {
     "iopub.execute_input": "2024-09-25T10:28:20.169396Z",
     "iopub.status.busy": "2024-09-25T10:28:20.169274Z",
     "iopub.status.idle": "2024-09-25T10:28:20.491400Z",
     "shell.execute_reply": "2024-09-25T10:28:20.491014Z",
     "shell.execute_reply.started": "2024-09-25T10:28:20.169385Z"
    },
    "tags": []
   },
   "outputs": [],
   "source": [
    "from matplotlib.dates import DateFormatter\n",
    "date_form = DateFormatter(\"%y-%m-%dT%H:%M\")\n",
    "fig,axs = plt.subplots(1,1,figsize=(14,4))\n",
    "ax1  = axs\n",
    "df_spec_sel.plot(x=\"Time\",y=\"PWV [mm]_x\",ax=ax1,marker='+',c=\"r\",lw=0.0,grid=True,label=\"PWV_x\")\n",
    "ax1.set_ylabel(\"PWV [mm]_x\")\n",
    "#df_spec_sel.plot(x=\"Time\",y=\"PWV [mm]_y\",ax=ax2,marker='+',c=\"b\",lw=0.0,grid=True,label=\"PWV_y\")\n",
    "ax1.set_xlabel(\"time\")\n",
    "ax1.xaxis.set_major_formatter(date_form)\n",
    "ax1.set_title(\"Precipibable water vapor meas by holo selected vs time\")\n",
    "\n",
    "for key, tt in d.items():\n",
    "    ax1.axvspan(tt[0],tt[1], color='blue', alpha=0.1)\n",
    "\n",
    "plt.tight_layout()"
   ]
  },
  {
   "cell_type": "code",
   "execution_count": null,
   "id": "6e3a3cb8-0ec9-45db-8439-25d6a6a57527",
   "metadata": {
    "execution": {
     "iopub.execute_input": "2024-09-25T10:28:20.492101Z",
     "iopub.status.busy": "2024-09-25T10:28:20.491972Z",
     "iopub.status.idle": "2024-09-25T10:28:20.500530Z",
     "shell.execute_reply": "2024-09-25T10:28:20.500203Z",
     "shell.execute_reply.started": "2024-09-25T10:28:20.492089Z"
    },
    "tags": []
   },
   "outputs": [],
   "source": [
    "ser_CHI2_FIT_sel = df_spec_sel[[\"CHI2_FIT\",\"nightObs\"]].groupby([\"nightObs\"]).agg(['count','min', 'max','mean','std','median'])\n",
    "ser_PWV_sel = df_spec_sel[[\"PWV [mm]_x\",\"nightObs\"]].groupby([\"nightObs\"]).agg(['count','min', 'max','mean','std','median'])"
   ]
  },
  {
   "cell_type": "code",
   "execution_count": null,
   "id": "592ee0e1-64fb-40c3-b57f-8362d1a05be8",
   "metadata": {
    "execution": {
     "iopub.execute_input": "2024-09-25T10:28:20.501147Z",
     "iopub.status.busy": "2024-09-25T10:28:20.501020Z",
     "iopub.status.idle": "2024-09-25T10:28:20.955891Z",
     "shell.execute_reply": "2024-09-25T10:28:20.955540Z",
     "shell.execute_reply.started": "2024-09-25T10:28:20.501136Z"
    },
    "tags": []
   },
   "outputs": [],
   "source": [
    "fig,ax = plt.subplots(1,1,figsize=(18,3))\n",
    "ser_PWV_sel.unstack()[\"PWV [mm]_x\"][\"count\"].plot(kind='bar', ax=ax,subplots=False, rot=90,figsize=(18,4),facecolor=\"b\",grid=True,title=\"Number of measurements per night after selection\")\n",
    "plt.tight_layout()"
   ]
  },
  {
   "cell_type": "code",
   "execution_count": null,
   "id": "77ab654f-1ca7-42a1-9939-920126c1899f",
   "metadata": {
    "execution": {
     "iopub.execute_input": "2024-09-25T10:28:20.956583Z",
     "iopub.status.busy": "2024-09-25T10:28:20.956455Z",
     "iopub.status.idle": "2024-09-25T10:28:21.415932Z",
     "shell.execute_reply": "2024-09-25T10:28:21.415548Z",
     "shell.execute_reply.started": "2024-09-25T10:28:20.956571Z"
    },
    "tags": []
   },
   "outputs": [],
   "source": [
    "fig,ax = plt.subplots(1,1,figsize=(18,3))\n",
    "ser_PWV_sel.unstack()[\"PWV [mm]_x\"][\"mean\"].plot(kind='bar',ax=ax ,subplots=False, rot=90,figsize=(18,4),facecolor='b',grid=True,title=\"Mean PWV per night after selection\")\n",
    "plt.tight_layout()"
   ]
  },
  {
   "cell_type": "code",
   "execution_count": null,
   "id": "4b391453-3c1e-4c6d-8e57-4df77c0d4fca",
   "metadata": {
    "execution": {
     "iopub.execute_input": "2024-09-25T10:28:21.416583Z",
     "iopub.status.busy": "2024-09-25T10:28:21.416457Z",
     "iopub.status.idle": "2024-09-25T10:28:22.104292Z",
     "shell.execute_reply": "2024-09-25T10:28:22.103887Z",
     "shell.execute_reply.started": "2024-09-25T10:28:21.416570Z"
    },
    "tags": []
   },
   "outputs": [],
   "source": [
    "fig,ax = plt.subplots(1,1,figsize=(18,3))\n",
    "ser_PWV_sel.unstack()[\"PWV [mm]_x\"][\"median\"].plot(kind='bar',ax=ax ,subplots=False, rot=90,figsize=(18,4),facecolor='b',grid=True,title=\"Median PWV per night after selection\")\n",
    "plt.tight_layout()"
   ]
  },
  {
   "cell_type": "code",
   "execution_count": null,
   "id": "8f90c624-4571-4c84-87b8-a71e49f91af6",
   "metadata": {
    "execution": {
     "iopub.execute_input": "2024-09-25T10:28:22.105036Z",
     "iopub.status.busy": "2024-09-25T10:28:22.104904Z",
     "iopub.status.idle": "2024-09-25T10:28:22.570218Z",
     "shell.execute_reply": "2024-09-25T10:28:22.569774Z",
     "shell.execute_reply.started": "2024-09-25T10:28:22.105024Z"
    },
    "tags": []
   },
   "outputs": [],
   "source": [
    "fig,ax = plt.subplots(1,1,figsize=(18,3))\n",
    "ser_PWV_sel.unstack()[\"PWV [mm]_x\"][\"std\"].plot(kind='bar', subplots=False, rot=90,figsize=(18,4),facecolor='b',grid=True,title=\"STD variation for PWV per night after selection\")\n",
    "plt.tight_layout()"
   ]
  },
  {
   "cell_type": "code",
   "execution_count": null,
   "id": "438bb890-9dc1-4ece-801e-63c849d73358",
   "metadata": {
    "execution": {
     "iopub.execute_input": "2024-09-25T10:28:22.570926Z",
     "iopub.status.busy": "2024-09-25T10:28:22.570795Z",
     "iopub.status.idle": "2024-09-25T10:28:23.046692Z",
     "shell.execute_reply": "2024-09-25T10:28:23.046312Z",
     "shell.execute_reply.started": "2024-09-25T10:28:22.570914Z"
    },
    "tags": []
   },
   "outputs": [],
   "source": [
    "fig,ax = plt.subplots(1,1,figsize=(18,3))\n",
    "ser_CHI2_FIT_sel.unstack()[\"CHI2_FIT\"][\"mean\"].plot(kind='bar',ax=ax ,subplots=False, rot=90,figsize=(18,4),facecolor='r',grid=True,title=\"Mean CHI2 per night after selection\")\n",
    "plt.tight_layout()"
   ]
  },
  {
   "cell_type": "code",
   "execution_count": null,
   "id": "fccf0310-c102-4a36-a14f-63e724ccceb1",
   "metadata": {
    "execution": {
     "iopub.execute_input": "2024-09-25T10:28:23.047609Z",
     "iopub.status.busy": "2024-09-25T10:28:23.047255Z",
     "iopub.status.idle": "2024-09-25T10:28:23.503577Z",
     "shell.execute_reply": "2024-09-25T10:28:23.503195Z",
     "shell.execute_reply.started": "2024-09-25T10:28:23.047595Z"
    },
    "tags": []
   },
   "outputs": [],
   "source": [
    "fig,ax = plt.subplots(1,1,figsize=(18,3))\n",
    "ser_CHI2_FIT_sel.unstack()[\"CHI2_FIT\"][\"median\"].plot(kind='bar',ax=ax ,subplots=False, rot=90,figsize=(18,4),facecolor='r',grid=True,title=\"Median CHI2 per night after selection\")\n",
    "plt.tight_layout()"
   ]
  },
  {
   "cell_type": "code",
   "execution_count": null,
   "id": "b2c26008-c15e-4cf3-ace1-3ddddda64abd",
   "metadata": {
    "execution": {
     "iopub.execute_input": "2024-09-25T10:28:23.504282Z",
     "iopub.status.busy": "2024-09-25T10:28:23.504153Z",
     "iopub.status.idle": "2024-09-25T10:28:23.970233Z",
     "shell.execute_reply": "2024-09-25T10:28:23.969841Z",
     "shell.execute_reply.started": "2024-09-25T10:28:23.504270Z"
    },
    "tags": []
   },
   "outputs": [],
   "source": [
    "fig,ax = plt.subplots(1,1,figsize=(18,3))\n",
    "ser_CHI2_FIT_sel.unstack()[\"CHI2_FIT\"][\"std\"].plot(kind='bar',ax=ax ,subplots=False, rot=90,figsize=(18,4),facecolor='r',grid=True,title=\"STD variation CHI2 per night after selection\")\n",
    "plt.tight_layout()"
   ]
  },
  {
   "cell_type": "markdown",
   "id": "2e327548-326f-428f-867f-3ad46e7f6753",
   "metadata": {},
   "source": [
    "## Show time variation each night"
   ]
  },
  {
   "cell_type": "code",
   "execution_count": null,
   "id": "7320d772-3123-4866-8d2c-3c9f0d8769ad",
   "metadata": {
    "execution": {
     "iopub.execute_input": "2024-09-25T10:28:23.970923Z",
     "iopub.status.busy": "2024-09-25T10:28:23.970794Z",
     "iopub.status.idle": "2024-09-25T10:28:23.975108Z",
     "shell.execute_reply": "2024-09-25T10:28:23.974772Z",
     "shell.execute_reply.started": "2024-09-25T10:28:23.970911Z"
    }
   },
   "outputs": [],
   "source": [
    "all_selected_nights = df_spec_sel[\"nightObs\"].unique()"
   ]
  },
  {
   "cell_type": "code",
   "execution_count": null,
   "id": "c8c101b3-7120-4e5b-9da8-f712b21f6c48",
   "metadata": {
    "execution": {
     "iopub.execute_input": "2024-09-25T10:28:23.975682Z",
     "iopub.status.busy": "2024-09-25T10:28:23.975566Z",
     "iopub.status.idle": "2024-09-25T10:28:23.981325Z",
     "shell.execute_reply": "2024-09-25T10:28:23.980988Z",
     "shell.execute_reply.started": "2024-09-25T10:28:23.975670Z"
    }
   },
   "outputs": [],
   "source": [
    "def funclineres(params, x, y, yerr):\n",
    "    # Return residual = fit-observed\n",
    "    return (y-params[0] -params[1]*x)/yerr\n",
    "def funcline(params,x):\n",
    "    return params[0] + params[1]*x"
   ]
  },
  {
   "cell_type": "code",
   "execution_count": null,
   "id": "e325547d-9f5e-4336-9fe4-5778597333cf",
   "metadata": {
    "execution": {
     "iopub.execute_input": "2024-09-25T10:28:23.981912Z",
     "iopub.status.busy": "2024-09-25T10:28:23.981797Z",
     "iopub.status.idle": "2024-09-25T10:28:48.596414Z",
     "shell.execute_reply": "2024-09-25T10:28:48.596009Z",
     "shell.execute_reply.started": "2024-09-25T10:28:23.981901Z"
    }
   },
   "outputs": [],
   "source": [
    "all_dateObs_sel = {}\n",
    "\n",
    "for night in all_selected_nights:\n",
    "    df_spec_night = df_spec_sel[df_spec_sel[\"nightObs\"] == night]\n",
    "    df_night_pwv_curve = df_spec_night[[\"Time\",\"PWV [mm]_x\",\"PWV [mm]_err_x\"]]\n",
    "\n",
    "    tmin = df_night_pwv_curve[\"Time\"].min()\n",
    "\n",
    "    # convert in hours\n",
    "    df_night_pwv_curve[\"dt\"] = (df_night_pwv_curve[\"Time\"] - tmin).dt.total_seconds()/3600.\n",
    "    \n",
    "    \n",
    "    stat = df_night_pwv_curve[[\"PWV [mm]_x\"]].describe()\n",
    "    date_form = DateFormatter(\"%y-%m-%dT%H:%M\")\n",
    "    count = int(stat.loc[\"count\"].values[0])\n",
    "    mean = stat.loc[\"mean\"].values[0]\n",
    "    median = stat.loc[\"50%\"].values[0]\n",
    "    std = stat.loc[\"std\"].values[0]\n",
    "    textstr = \"\\n\".join((f\"count : {count}\",\n",
    "                     f\"mean : {mean:.1f} mm\",\n",
    "                     f\"median : {median:.1f} mm\",\n",
    "                     f\"std : {std:.1f} mm\",\n",
    "                    ))\n",
    "\n",
    "\n",
    "    \n",
    "\n",
    "    N= len(df_night_pwv_curve)\n",
    "\n",
    "    if N>10:\n",
    "        # does the fit\n",
    "        f = lambda x, *p: p[0] * x + p[1]\n",
    "        x = df_night_pwv_curve[\"dt\"].values\n",
    "        y = df_night_pwv_curve[\"PWV [mm]_x\"].values\n",
    "        yerr = df_night_pwv_curve[\"PWV [mm]_err_x\"].values\n",
    "        n = len(y)\n",
    "        \n",
    "        #popt, pcov = optimize.curve_fit(f, x, y, [1,-4])\n",
    "        fit_res = least_squares(funclineres,[5.,0],args = (x,y,yerr))\n",
    "        popt = fit_res.x \n",
    "        npar = len(popt)\n",
    "        J = fit_res.jac\n",
    "        cov = np.linalg.inv(J.T.dot(J))\n",
    "        chi2dof = ((funclineres(popt,x,y,yerr))**2).sum()/(n-npar)\n",
    "        cov *= chi2dof\n",
    "        perr = np.sqrt(np.diagonal(cov)) \n",
    "        \n",
    "\n",
    "        xfit = np.linspace(x.min()*0.99,x.max()*1.05)\n",
    "        yfit = funcline(popt,xfit)\n",
    "        \n",
    "        \n",
    "       \n",
    "\n",
    "        slope = popt[1]\n",
    "        slope_err = perr[1]\n",
    "        \n",
    "        textstr2 = \"\\n\".join((f\"d(PWV/dt) : \",\n",
    "                     f\"slope : {slope:.3f} mm/hour \",\n",
    "                     f\"slope err : {slope_err:.3f} mm/hour\",\n",
    "                     f\"chi2/ndeg : {chi2dof:.2f}\",       \n",
    "                    ))\n",
    "\n",
    "        textstr3 = \"\\n\".join((f\"d(PWV/dt) : \",\n",
    "                     f\"slope : {slope:.3f} mm/hour \",\n",
    "                     f\"slope err : {slope_err:.3f} mm/hour\",  \n",
    "                    ))\n",
    "    \n",
    "\n",
    "        stat.loc[\"slope\",\"PWV [mm]_x\"] = slope \n",
    "        stat.loc[\"slope_err\",\"PWV [mm]_x\"] = slope_err \n",
    "        stat.loc[\"chi2\",\"PWV [mm]_x\"] = chi2dof\n",
    "        \n",
    "        # plot\n",
    "        #fig,(ax,ax2) = plt.subplots(1,2,figsize=(12,5))\n",
    "        \n",
    "        fig = plt.figure(figsize=(14,5))\n",
    "        #gs = GridSpec(1, 2, wspace=0, hspace=2., width_ratios=[2,1],figure=fig)\n",
    "        gs = GridSpec(1, 2,  width_ratios=[2,1],figure=fig)\n",
    "\n",
    "        ax = fig.add_subplot(gs[0])\n",
    "        ax2 = fig.add_subplot(gs[1],sharey=ax1)\n",
    "        #ax2 = fig.add_subplot(gs[1])\n",
    "        \n",
    "        df_night_pwv_curve.plot(x=\"Time\",y=\"PWV [mm]_x\",ax=ax,marker='+',c=\"r\",lw=0.0,grid=True,legend=False)\n",
    "        ax.errorbar(x=df_night_pwv_curve.Time, y=df_night_pwv_curve[\"PWV [mm]_x\"],yerr=df_night_pwv_curve[\"PWV [mm]_err_x\"],fmt=\".\",color=\"r\",ecolor=\"k\")\n",
    "        ax.set_ylabel(\"PWV [mm]_x\")\n",
    "        ax.set_xlabel(\"time\")\n",
    "        ax.xaxis.set_major_formatter(date_form)\n",
    "        ax.set_ylim(0.,12.)\n",
    "        ax.text(0.03, 0.95, textstr, transform=ax.transAxes, fontsize=14,\n",
    "        verticalalignment='top', bbox=props)\n",
    "        ax.text(0.45, 0.95, textstr3, transform=ax.transAxes, fontsize=14,\n",
    "        verticalalignment='top', bbox=props)\n",
    "        ax.set_title(f\"night {night}\")\n",
    "\n",
    "        ax2.errorbar(x=df_night_pwv_curve.dt, y=df_night_pwv_curve[\"PWV [mm]_x\"],yerr=df_night_pwv_curve[\"PWV [mm]_err_x\"],fmt=\".\",color=\"r\",ecolor=\"k\")\n",
    "        ax2.set_xlabel(\"hours\")\n",
    "        ax2.set_ylim(0.,12.)\n",
    "        ax2.grid()\n",
    "        ax2.plot(xfit,yfit,\"k-\")\n",
    "        ax2.text(0.45, 0.95, textstr2, transform=ax2.transAxes, fontsize=14,\n",
    "        verticalalignment='top', bbox=props)\n",
    "        ax2.set_title(f\"night {night}\")\n",
    "        \n",
    "        plt.tight_layout()\n",
    "        figname =f\"{pathfigs}/pwv_per_night_{night}.pdf\"\n",
    "        plt.savefig(figname)\n",
    "        plt.show()\n",
    "\n",
    "        # add statistics\n",
    "        all_dateObs_sel[night] = stat"
   ]
  },
  {
   "cell_type": "markdown",
   "id": "97b44c4b-b7d6-40c2-bdd5-976c712f5ee2",
   "metadata": {},
   "source": [
    "## Make a summary of Night quality"
   ]
  },
  {
   "cell_type": "code",
   "execution_count": null,
   "id": "1e714311-4d20-4d3a-b3ca-204571b24d0e",
   "metadata": {
    "execution": {
     "iopub.execute_input": "2024-09-25T10:28:48.597419Z",
     "iopub.status.busy": "2024-09-25T10:28:48.597029Z",
     "iopub.status.idle": "2024-09-25T10:28:48.610198Z",
     "shell.execute_reply": "2024-09-25T10:28:48.609780Z",
     "shell.execute_reply.started": "2024-09-25T10:28:48.597404Z"
    }
   },
   "outputs": [],
   "source": [
    "df = pd.DataFrame(columns = [\"count\",\"mean\",\"median\",\"std\",\"slope\",\"slope_err\"])"
   ]
  },
  {
   "cell_type": "code",
   "execution_count": null,
   "id": "dd8278d1-63ee-4871-8ac6-d79ae99ce8cf",
   "metadata": {
    "execution": {
     "iopub.execute_input": "2024-09-25T10:28:48.611049Z",
     "iopub.status.busy": "2024-09-25T10:28:48.610879Z",
     "iopub.status.idle": "2024-09-25T10:28:48.681193Z",
     "shell.execute_reply": "2024-09-25T10:28:48.680778Z",
     "shell.execute_reply.started": "2024-09-25T10:28:48.611033Z"
    }
   },
   "outputs": [],
   "source": [
    "for nightObs, stat in all_dateObs_sel.items():\n",
    "    count = int(stat.loc[\"count\"].values[0])\n",
    "    mean = stat.loc[\"mean\"].values[0]\n",
    "    median = stat.loc[\"50%\"].values[0]\n",
    "    std = stat.loc[\"std\"].values[0]\n",
    "    slope = stat.loc[\"slope\"].values[0]\n",
    "    slope_err = stat.loc[\"slope_err\"].values[0]\n",
    "    df.loc[nightObs] = [count,mean,median,std,slope,slope_err]\n",
    "    "
   ]
  },
  {
   "cell_type": "code",
   "execution_count": null,
   "id": "a7d41f71-743d-432e-a431-c53e7373d6d0",
   "metadata": {
    "execution": {
     "iopub.execute_input": "2024-09-25T10:28:48.681886Z",
     "iopub.status.busy": "2024-09-25T10:28:48.681754Z",
     "iopub.status.idle": "2024-09-25T10:28:48.693487Z",
     "shell.execute_reply": "2024-09-25T10:28:48.693127Z",
     "shell.execute_reply.started": "2024-09-25T10:28:48.681874Z"
    }
   },
   "outputs": [],
   "source": [
    "def ComputeDataTimeStr(num):\n",
    "    year = num//10000\n",
    "    remain = (num-year*10000)\n",
    "    month = remain//100\n",
    "    day = remain-100*month\n",
    "    yearstr = f\"{year}\"\n",
    "    monthstr = f\"{month}\"\n",
    "    daystr= f\"{day}\"\n",
    "    stry = yearstr.zfill(4)\n",
    "    strm = monthstr.zfill(2)\n",
    "    strd = daystr.zfill(2)\n",
    "    \n",
    "    str = f\"{stry}-{strm}-{strd}\"\n",
    "    return str"
   ]
  },
  {
   "cell_type": "code",
   "execution_count": null,
   "id": "52cad1fd-2fce-4659-ac9d-e86db14e8add",
   "metadata": {
    "execution": {
     "iopub.execute_input": "2024-09-25T10:28:48.694143Z",
     "iopub.status.busy": "2024-09-25T10:28:48.694012Z",
     "iopub.status.idle": "2024-09-25T10:28:48.705340Z",
     "shell.execute_reply": "2024-09-25T10:28:48.704988Z",
     "shell.execute_reply.started": "2024-09-25T10:28:48.694132Z"
    }
   },
   "outputs": [],
   "source": [
    "df[\"Time\"] = pd.to_datetime([ ComputeDataTimeStr(num) for  num in df.index])"
   ]
  },
  {
   "cell_type": "code",
   "execution_count": null,
   "id": "2b0eff2f-9f71-4de0-956a-572ac165431f",
   "metadata": {
    "execution": {
     "iopub.execute_input": "2024-09-25T10:28:48.705965Z",
     "iopub.status.busy": "2024-09-25T10:28:48.705845Z",
     "iopub.status.idle": "2024-09-25T10:28:48.720858Z",
     "shell.execute_reply": "2024-09-25T10:28:48.720512Z",
     "shell.execute_reply.started": "2024-09-25T10:28:48.705954Z"
    }
   },
   "outputs": [],
   "source": [
    "df.head()"
   ]
  },
  {
   "cell_type": "code",
   "execution_count": null,
   "id": "0ac49704-a32b-4e40-b653-d284130e6118",
   "metadata": {
    "execution": {
     "iopub.execute_input": "2024-09-25T10:28:48.721499Z",
     "iopub.status.busy": "2024-09-25T10:28:48.721381Z",
     "iopub.status.idle": "2024-09-25T10:28:49.029321Z",
     "shell.execute_reply": "2024-09-25T10:28:49.028953Z",
     "shell.execute_reply.started": "2024-09-25T10:28:48.721489Z"
    }
   },
   "outputs": [],
   "source": [
    "from matplotlib.dates import DateFormatter\n",
    "date_form = DateFormatter(\"%y-%m-%d\")\n",
    "fig,axs = plt.subplots(2,1,figsize=(12,6),sharex=True)\n",
    "ax1,ax2  = axs\n",
    "df.plot(x=\"Time\",y=\"median\",ax=ax1,marker='+',c=\"r\",lw=0.0,grid=True,label=\"PWV_x\")\n",
    "ax1.errorbar(x=df[\"Time\"], y=df[\"median\"],yerr=df[\"std\"],fmt=\".\",color=\"r\",ecolor=\"k\")\n",
    "ax1.set_ylabel(\"PWV (mm)\")\n",
    "ax1.set_xlabel(\"time\")\n",
    "ax1.xaxis.set_major_formatter(date_form)\n",
    "ax1.set_title(\"Median Precipitable water vapor per night\")\n",
    "ax1.set_ylim(0.,11)\n",
    "\n",
    "ax2.set_title(\"Fitted drift per night\")\n",
    "ax2.errorbar(x=df[\"Time\"], y=df[\"slope\"],yerr=df[\"slope_err\"],fmt=\".\",color=\"r\",ecolor=\"k\")\n",
    "ax2.grid()\n",
    "ax2.set_ylabel(\"dPWV/dt (mm/hour)\")\n",
    "ax2.set_xlabel(\"time\")\n",
    "ax2.set_ylim(-1.,1.)\n",
    "ax2.xaxis.set_major_formatter(date_form)\n",
    "\n",
    "ax2.tick_params(axis='x', labelrotation=45)\n",
    "#for key, tt in d.items():\n",
    "#    ax1.axvspan(tt[0],tt[1], color='blue', alpha=0.1)\n",
    "\n",
    "plt.tight_layout()"
   ]
  },
  {
   "cell_type": "code",
   "execution_count": null,
   "id": "6b9b1cf9-b7a0-448f-8262-c3277de89d62",
   "metadata": {
    "execution": {
     "iopub.execute_input": "2024-09-25T10:28:49.029942Z",
     "iopub.status.busy": "2024-09-25T10:28:49.029820Z",
     "iopub.status.idle": "2024-09-25T10:28:49.140800Z",
     "shell.execute_reply": "2024-09-25T10:28:49.140444Z",
     "shell.execute_reply.started": "2024-09-25T10:28:49.029931Z"
    }
   },
   "outputs": [],
   "source": [
    "from matplotlib.dates import DateFormatter\n",
    "date_form = DateFormatter(\"%y-%m-%d\")\n",
    "fig,axs = plt.subplots(1,1,figsize=(12,4))\n",
    "ax1 = axs\n",
    "df.plot(x=\"Time\",y=\"median\",ax=ax1,marker='+',c=\"r\",ms=20,lw=0.0,grid=True,label=\"PWV_x\")\n",
    "ax1.errorbar(x=df[\"Time\"], y=df[\"median\"],yerr=df[\"std\"],fmt=\"o\",ms=5,color=\"r\",ecolor=\"k\")\n",
    "ax1.set_ylabel(\"PWV (mm)\")\n",
    "ax1.set_xlabel(\"time\")\n",
    "ax1.xaxis.set_major_formatter(date_form)\n",
    "ax1.set_title(\"Median and spread of Precipitable water vapor per night\")\n",
    "ax1.set_ylim(0.,11)"
   ]
  },
  {
   "cell_type": "code",
   "execution_count": null,
   "id": "4f2b57be-182f-40f6-8def-ba956324e445",
   "metadata": {},
   "outputs": [],
   "source": []
  }
 ],
 "metadata": {
  "kernelspec": {
   "display_name": "Python 3 (ipykernel)",
   "language": "python",
   "name": "python3"
  },
  "language_info": {
   "codemirror_mode": {
    "name": "ipython",
    "version": 3
   },
   "file_extension": ".py",
   "mimetype": "text/x-python",
   "name": "python",
   "nbconvert_exporter": "python",
   "pygments_lexer": "ipython3",
   "version": "3.11.9"
  }
 },
 "nbformat": 4,
 "nbformat_minor": 5
}
