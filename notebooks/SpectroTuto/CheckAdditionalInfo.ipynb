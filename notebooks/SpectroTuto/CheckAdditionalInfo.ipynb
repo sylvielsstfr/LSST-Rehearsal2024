{
 "cells": [
  {
   "cell_type": "markdown",
   "id": "45bf4242-bfc5-4d43-88c4-a8059ae148df",
   "metadata": {},
   "source": [
    "# Check angles "
   ]
  },
  {
   "cell_type": "markdown",
   "id": "01993b6e-6438-4fca-a5d5-1f9791336847",
   "metadata": {},
   "source": [
    "- author Sylvie Dagoret-Campagne\n",
    "- creation date 2024-10-01 : version v4\n",
    "- last update : 2024-10-01 :\n",
    "- affiliation : IJCLab\n",
    "- Kernel @usdf **w_2024_38*\n",
    "- Office emac : mamba_py311\n",
    "- Home emac : base (conda)\n",
    "- laptop : conda_py310"
   ]
  },
  {
   "cell_type": "code",
   "execution_count": null,
   "id": "63a2b2ef-0bc2-45eb-91d9-87835d264751",
   "metadata": {
    "tags": []
   },
   "outputs": [],
   "source": [
    "from platform import python_version\n",
    "print(python_version())"
   ]
  },
  {
   "cell_type": "code",
   "execution_count": null,
   "id": "dcc53afe-c58f-4948-92c9-0090d373ad2a",
   "metadata": {},
   "outputs": [],
   "source": [
    "import warnings\n",
    "warnings.resetwarnings()\n",
    "warnings.simplefilter('ignore')"
   ]
  },
  {
   "cell_type": "code",
   "execution_count": null,
   "id": "8026d265-2493-4045-afec-26205ff71f7c",
   "metadata": {
    "tags": []
   },
   "outputs": [],
   "source": [
    "from platform import python_version\n",
    "print(python_version())"
   ]
  },
  {
   "cell_type": "code",
   "execution_count": null,
   "id": "eb1f116e-80e3-46ad-a7db-7f253632e5ca",
   "metadata": {},
   "outputs": [],
   "source": [
    "import os"
   ]
  },
  {
   "cell_type": "code",
   "execution_count": null,
   "id": "3ec760cd-3d3f-4a34-a6f6-b226fe500951",
   "metadata": {},
   "outputs": [],
   "source": [
    "# where are stored the figures\n",
    "pathfigs = \"figsCheckAngles\"\n",
    "if not os.path.exists(pathfigs):\n",
    "    os.makedirs(pathfigs) \n",
    "figtype = \".png\""
   ]
  },
  {
   "cell_type": "code",
   "execution_count": null,
   "id": "bf752b70-e6ca-4cbf-8e8c-20bf7f0d8f61",
   "metadata": {},
   "outputs": [],
   "source": [
    "import numpy as np\n",
    "from numpy.linalg import inv\n",
    "import matplotlib as mpl\n",
    "import matplotlib.pyplot as plt\n",
    "%matplotlib inline\n",
    "from mpl_toolkits.axes_grid1 import make_axes_locatable\n",
    "from matplotlib.colors import LogNorm,SymLogNorm\n",
    "from matplotlib.patches import Circle,Annulus\n",
    "from astropy.visualization import ZScaleInterval\n",
    "props = dict(boxstyle='round', facecolor=\"white\", alpha=0.1)\n",
    "#props = dict(boxstyle='round')\n",
    "\n",
    "import matplotlib.colors as colors\n",
    "import matplotlib.cm as cmx\n",
    "\n",
    "import matplotlib.ticker                         # here's where the formatter is\n",
    "from matplotlib.ticker import (MultipleLocator, FormatStrFormatter,\n",
    "                               AutoMinorLocator)\n",
    "\n",
    "from matplotlib.gridspec import GridSpec\n",
    "\n",
    "from astropy.visualization import (MinMaxInterval, SqrtStretch,ZScaleInterval,PercentileInterval,\n",
    "                                   ImageNormalize,imshow_norm)\n",
    "from astropy.visualization.stretch import SinhStretch, LinearStretch,AsinhStretch,LogStretch\n",
    "\n",
    "from astropy.io import fits\n",
    "from astropy.wcs import WCS\n",
    "from astropy import units as u\n",
    "from astropy import constants as c\n",
    "\n",
    "from scipy import interpolate\n",
    "from sklearn.neighbors import NearestNeighbors\n",
    "from sklearn.neighbors import KDTree, BallTree\n",
    "\n",
    "import pandas as pd\n",
    "pd.set_option(\"display.max_columns\", None)\n",
    "pd.set_option('display.max_rows', 100)\n",
    "\n",
    "import matplotlib.ticker                         # here's where the formatter is\n",
    "import os\n",
    "import re\n",
    "import pandas as pd\n",
    "import pickle\n",
    "from collections import OrderedDict\n",
    "\n",
    "plt.rcParams[\"figure.figsize\"] = (4,3)\n",
    "plt.rcParams[\"axes.labelsize\"] = 'xx-large'\n",
    "plt.rcParams['axes.titlesize'] = 'xx-large'\n",
    "plt.rcParams['xtick.labelsize']= 'xx-large'\n",
    "plt.rcParams['ytick.labelsize']= 'xx-large'\n",
    "\n",
    "import scipy\n",
    "from scipy.optimize import curve_fit,least_squares\n",
    "\n",
    "\n",
    "# new color correction model\n",
    "import pickle\n",
    "from scipy.interpolate import RegularGridInterpolator"
   ]
  },
  {
   "cell_type": "code",
   "execution_count": null,
   "id": "0ca0d1e6-5f82-4c43-aaa3-8524fc2bc5ba",
   "metadata": {},
   "outputs": [],
   "source": [
    "from matplotlib.ticker import (MultipleLocator, FormatStrFormatter,\n",
    "                               AutoMinorLocator)\n",
    "\n",
    "from astropy.visualization import (MinMaxInterval, SqrtStretch,ZScaleInterval,PercentileInterval,\n",
    "                                   ImageNormalize,imshow_norm)\n",
    "from astropy.visualization.stretch import SinhStretch, LinearStretch,AsinhStretch,LogStretch\n",
    "\n",
    "from astropy.time import Time\n"
   ]
  },
  {
   "cell_type": "code",
   "execution_count": null,
   "id": "e189816c-5048-43ab-a01a-7c078af54489",
   "metadata": {},
   "outputs": [],
   "source": [
    "# Remove to run faster the notebook\n",
    "#import ipywidgets as widgets\n",
    "#%matplotlib widget"
   ]
  },
  {
   "cell_type": "code",
   "execution_count": null,
   "id": "67327fd4-e405-45ce-8923-cd46ebaa0c0f",
   "metadata": {
    "tags": []
   },
   "outputs": [],
   "source": [
    "from importlib.metadata import version"
   ]
  },
  {
   "cell_type": "code",
   "execution_count": null,
   "id": "af8332dd-24f9-4b19-88f9-c62d0a4aebf1",
   "metadata": {
    "tags": []
   },
   "outputs": [],
   "source": [
    "# wavelength bin colors\n",
    "#jet = plt.get_cmap('jet')\n",
    "#cNorm = mpl.colors.Normalize(vmin=0, vmax=NSED)\n",
    "#scalarMap = cmx.ScalarMappable(norm=cNorm, cmap=jet)\n",
    "#all_colors = scalarMap.to_rgba(np.arange(NSED), alpha=1)"
   ]
  },
  {
   "cell_type": "code",
   "execution_count": null,
   "id": "1003d9d6-a40f-48b1-9ffc-bfab9f45ba93",
   "metadata": {},
   "outputs": [],
   "source": [
    "np.__version__"
   ]
  },
  {
   "cell_type": "code",
   "execution_count": null,
   "id": "c4cb2652-cb22-432e-b110-ae71d59dc793",
   "metadata": {},
   "outputs": [],
   "source": [
    "pd.__version__"
   ]
  },
  {
   "cell_type": "markdown",
   "id": "4f13d6a3-7793-4bc0-920a-1d690d9f84b2",
   "metadata": {},
   "source": [
    "### Configuration"
   ]
  },
  {
   "cell_type": "code",
   "execution_count": null,
   "id": "5bac0cab-3886-4683-b1c8-fc59edacfd46",
   "metadata": {
    "tags": []
   },
   "outputs": [],
   "source": [
    "version_results = \"v4\"\n",
    "legendtag = {\"v1\" : \"old v3.1.0\",\n",
    "            \"v2\" : \"v3.1.0-PWV<10mm\",\n",
    "            \"v3\" : \"v3.1.0-PWV<15mm\",\n",
    "            \"v4\" : \"v3.1.0-extended\"}"
   ]
  },
  {
   "cell_type": "code",
   "execution_count": null,
   "id": "99436fe6-ad07-4796-b982-7dd89f554f0c",
   "metadata": {
    "tags": []
   },
   "outputs": [],
   "source": [
    "atmfilenamesdict = {\"v1\" : \"data/spectro/auxtel_atmosphere_202301_v3.1.0_doSensorFlat_rebin2_testWithMaskedEdges_newBoundaries_newPolysRescaled_newFitBounds_adjustA1_lockedOrder2_removeThroughputTails_2.npy\",\n",
    "                    \"v2\" : \"auxtel_atmosphere_202301_v3.1.0_doSensorFlat_rebin2_lockedOrder2_FixA1_FixA2_FitAngstrom_FixA1_FixA2_FitAngstrom_WithGaia_freePressure_newThroughput6_BG40Scaled1.09_PeekFinder.npy\",\n",
    "                    \"v3\" : \"u_dagoret_auxtel_atmosphere_202301_v3.1.0_doSensorFlat_rebin2_lockedOrder2_FixA1_FixA2_FitAngstrom_WithGaia_freePressure_newThroughput6_BG40Scaled1.09_AtmoFitPressureA2_SpecErr_PeekFinder_20240924T161119Z.npy\",\n",
    "                    \"v4\" : \"u_dagoret_auxtel_atmosphere_202301_v3.1.0_doSensorFlat_rebin2_lockedOrder2_FixA1_FixA2_FitAngstrom_WithGaia_freePressure_newThroughput6_BG40Scaled1.09_AtmoFitPressureA2_SpecErr_PeekFinder_20240924T161119Z_spectrfullextend.npy\"}"
   ]
  },
  {
   "cell_type": "code",
   "execution_count": null,
   "id": "f5ee7d08-244a-462a-b9fc-ff5cd4d3e801",
   "metadata": {
    "tags": []
   },
   "outputs": [],
   "source": [
    "atmfilename = atmfilenamesdict[version_results]\n",
    "tag = legendtag[version_results] "
   ]
  },
  {
   "cell_type": "markdown",
   "id": "a30a15de-34f1-4f2b-afb9-52143c1cff27",
   "metadata": {},
   "source": [
    "## Initialisation"
   ]
  },
  {
   "cell_type": "markdown",
   "id": "4053343d-8e37-4402-b49f-c28dbb9e4afb",
   "metadata": {},
   "source": [
    "### Read the file"
   ]
  },
  {
   "cell_type": "code",
   "execution_count": null,
   "id": "ad60336b-f26f-4184-bcdf-e596329ecbbd",
   "metadata": {},
   "outputs": [],
   "source": [
    "specdata = np.load(atmfilename,allow_pickle=True)"
   ]
  },
  {
   "cell_type": "code",
   "execution_count": null,
   "id": "3d9c7249-f818-4a98-8000-9be75b3c7a21",
   "metadata": {},
   "outputs": [],
   "source": [
    "df_spec = pd.DataFrame(specdata)"
   ]
  },
  {
   "cell_type": "code",
   "execution_count": null,
   "id": "a19b591a-d479-4507-b241-81070420c847",
   "metadata": {
    "tags": []
   },
   "outputs": [],
   "source": [
    "list(df_spec.columns)"
   ]
  },
  {
   "cell_type": "markdown",
   "id": "3af3b3b6-7774-4b43-830b-a287c4e3281b",
   "metadata": {},
   "source": [
    "### Compute NightObs"
   ]
  },
  {
   "cell_type": "code",
   "execution_count": null,
   "id": "4de5d570-2e92-468b-ab07-63fffd8d2b8c",
   "metadata": {},
   "outputs": [],
   "source": [
    "df_spec[\"nightObs\"] = df_spec.apply(lambda x: x['id']//100_000, axis=1)"
   ]
  },
  {
   "cell_type": "markdown",
   "id": "d168efc6-680e-4c3f-a5c0-d2936de8ee49",
   "metadata": {},
   "source": [
    "#### Series on spec"
   ]
  },
  {
   "cell_type": "code",
   "execution_count": null,
   "id": "49c29905-817c-4fe8-ae2e-93351e765333",
   "metadata": {
    "tags": []
   },
   "outputs": [],
   "source": [
    "ser_spec_size = df_spec.groupby([\"nightObs\"]).size()"
   ]
  },
  {
   "cell_type": "code",
   "execution_count": null,
   "id": "6ce22f7e-bf6b-470a-af72-325d4a0077ab",
   "metadata": {},
   "outputs": [],
   "source": [
    "fig,ax = plt.subplots(1,1)\n",
    "ax.hist(ser_spec_size.values,bins=50,facecolor=\"b\")\n",
    "ax.set_title(\"nb obs per night\")\n",
    "ax.set_xlabel(\"Nobs/night\")"
   ]
  },
  {
   "cell_type": "markdown",
   "id": "a7aaca44-ad09-4883-8a7d-413b71e8b4a2",
   "metadata": {},
   "source": [
    "### Add the Time in pd.datetime"
   ]
  },
  {
   "cell_type": "code",
   "execution_count": null,
   "id": "0d10c1ad-c5dc-4487-baa9-7c71ec531f45",
   "metadata": {},
   "outputs": [],
   "source": [
    "df_spec[\"Time\"] = pd.to_datetime(df_spec[\"DATE-OBS\"])"
   ]
  },
  {
   "cell_type": "markdown",
   "id": "90783a42-5ed9-4ad8-8457-bbe1569413fe",
   "metadata": {},
   "source": [
    "## Compute night boundaries"
   ]
  },
  {
   "cell_type": "code",
   "execution_count": null,
   "id": "0ee7679a-ea50-4190-9400-664370a6b7f0",
   "metadata": {
    "tags": []
   },
   "outputs": [],
   "source": [
    "def GetNightBoundariesDict(df_spec):\n",
    "    \"\"\"\n",
    "    input:\n",
    "      df_spec the dataframe for spectroscopy summary results\n",
    "    output:\n",
    "      the dict of night boudaries\n",
    "    \"\"\"\n",
    "    \n",
    "    Dt = pd.Timedelta(minutes=30)\n",
    "    d = {}\n",
    "    list_of_nightobs = df_spec[\"nightObs\"].unique()\n",
    "    for nightobs in list_of_nightobs:\n",
    "        sel_flag = df_spec[\"nightObs\"]== nightobs\n",
    "        df_night = df_spec[sel_flag]\n",
    "        tmin = df_night[\"Time\"].min()-Dt\n",
    "        tmax = df_night[\"Time\"].max()+Dt\n",
    "        d[nightobs] = (tmin,tmax)\n",
    "    return d"
   ]
  },
  {
   "cell_type": "code",
   "execution_count": null,
   "id": "b4e4e1eb-c4c1-4bdf-b88f-b44bd55b2435",
   "metadata": {
    "tags": []
   },
   "outputs": [],
   "source": [
    "dn = GetNightBoundariesDict(df_spec)"
   ]
  },
  {
   "cell_type": "markdown",
   "id": "715cae7e-32ff-46c8-8d1a-a7c220a9eaed",
   "metadata": {},
   "source": [
    "## Plot all data"
   ]
  },
  {
   "cell_type": "code",
   "execution_count": null,
   "id": "3fd02994-4a05-4145-8da9-10ac7f5b920a",
   "metadata": {},
   "outputs": [],
   "source": [
    "from matplotlib.dates import DateFormatter\n",
    "date_form = DateFormatter(\"%y-%m-%dT%H:%M\")\n",
    "fig,axs = plt.subplots(1,1,figsize=(14,6))\n",
    "ax  = axs\n",
    "leg=ax.get_legend()\n",
    "\n",
    "#df_spec.plot(x=\"Time\",y=\"PWV [mm]_x\",ax=ax,marker='+',c=\"r\",lw=0.0,grid=True,label=tag,legend=leg)\n",
    "#ax.set_ylabel(\"PWV [mm]_x\")\n",
    "\n",
    "ax.set_xlabel(\"time\")\n",
    "ax.xaxis.set_major_formatter(date_form)\n",
    "#ax.set_title(\"Precipitable water vapor measured by holo vs time\")\n",
    "\n",
    "for key, tt in dn.items():\n",
    "    ax.axvspan(tt[0],tt[1], color='blue', alpha=0.1)\n",
    "ax.tick_params(axis='x', labelrotation=90)\n",
    "\n",
    "plt.tight_layout()"
   ]
  },
  {
   "cell_type": "markdown",
   "id": "2e327548-326f-428f-867f-3ad46e7f6753",
   "metadata": {},
   "source": [
    "## Show time variation each night"
   ]
  },
  {
   "cell_type": "code",
   "execution_count": null,
   "id": "7320d772-3123-4866-8d2c-3c9f0d8769ad",
   "metadata": {},
   "outputs": [],
   "source": [
    "all_selected_nights = df_spec[\"nightObs\"].unique()"
   ]
  },
  {
   "cell_type": "code",
   "execution_count": null,
   "id": "c8c101b3-7120-4e5b-9da8-f712b21f6c48",
   "metadata": {},
   "outputs": [],
   "source": [
    "def funclineres(params, x, y, yerr):\n",
    "    # Return residual = fit-observed\n",
    "    return (y-params[0] -params[1]*x)/yerr\n",
    "def funcline(params,x):\n",
    "    return params[0] + params[1]*x"
   ]
  },
  {
   "cell_type": "code",
   "execution_count": null,
   "id": "7f44d061-a0d0-47e6-a47d-13cbe89df180",
   "metadata": {
    "tags": []
   },
   "outputs": [],
   "source": [
    "def MakeLineFit(df_night_pwv_curve):\n",
    "    \"\"\"\n",
    "    \"\"\"\n",
    "\n",
    "    x = df_night_pwv_curve[\"dt\"].values\n",
    "    y = df_night_pwv_curve[\"PWV [mm]_x\"].values\n",
    "    yerr = df_night_pwv_curve[\"PWV [mm]_err_x\"].values\n",
    "    n = len(y)\n",
    "        \n",
    "    #popt, pcov = optimize.curve_fit(f, x, y, [1,-4])\n",
    "    fit_res = least_squares(funclineres,[5.,0],args = (x,y,yerr))\n",
    "    popt = fit_res.x \n",
    "    npar = len(popt)\n",
    "    J = fit_res.jac\n",
    "    cov = np.linalg.inv(J.T.dot(J))\n",
    "    chi2dof = ((funclineres(popt,x,y,yerr))**2).sum()/(n-npar)\n",
    "    cov *= chi2dof\n",
    "    perr = np.sqrt(np.diagonal(cov)) \n",
    "    \n",
    "    xfit = np.linspace(x.min()*0.99,x.max()*1.05)\n",
    "    yfit = funcline(popt,xfit)\n",
    "        \n",
    "    slope = popt[1]\n",
    "    slope_err = perr[1]\n",
    "\n",
    "    return x,y,yerr,n,chi2dof,xfit,yfit,slope,slope_err"
   ]
  },
  {
   "cell_type": "markdown",
   "id": "d284eb37-3604-4c46-99d8-19ab0cfe82ed",
   "metadata": {},
   "source": [
    "### Plot night by night"
   ]
  },
  {
   "cell_type": "code",
   "execution_count": null,
   "id": "e325547d-9f5e-4336-9fe4-5778597333cf",
   "metadata": {},
   "outputs": [],
   "source": [
    "\n",
    "# loop on nights\n",
    "for night in all_selected_nights:\n",
    "    #select the night\n",
    "    df_spec_night = df_spec[df_spec[\"nightObs\"] == night]\n",
    "    \n",
    "    #select the variables\n",
    "    df_night_curve = df_spec_night[[\"Time\",\"ex_skyangle\",\"ex_azimuth\",\"ex_zenith\"]]\n",
    "\n",
    "    tmin = df_night_curve[\"Time\"].min()\n",
    "\n",
    "    # convert in hours\n",
    "    df_night_curve[\"dt\"] = (df_night_curve[\"Time\"] - tmin).dt.total_seconds()/3600.\n",
    "    \n",
    "   \n",
    "\n",
    "    \n",
    "\n",
    "    N= len(df_night_curve)\n",
    "\n",
    "    if N>10:\n",
    "        \n",
    "        \n",
    "        # plot\n",
    "      \n",
    "        \n",
    "        fig = plt.figure(figsize=(16,6))\n",
    "        gs = GridSpec(1, 2,  width_ratios=[2,1],figure=fig)\n",
    "\n",
    "        ax = fig.add_subplot(gs[0])\n",
    "        ax2 = fig.add_subplot(gs[1],sharey=ax)\n",
    "        \n",
    "        leg=ax.get_legend()\n",
    "        leg2=ax2.get_legend()\n",
    "      \n",
    "        \n",
    "        # left figure\n",
    "        df_night_curve.plot(x=\"Time\",y=\"ex_skyangle\",ax=ax,marker='+',c=\"r\",lw=0.0,grid=True,legend=leg,label=\"sky-angle\",ms=10)\n",
    "        #ax.errorbar(x=df_night_pwv_curve.Time, y=df_night_pwv_curve[\"PWV [mm]_x\"],yerr=df_night_pwv_curve[\"PWV [mm]_err_x\"],fmt=\".\",color=\"r\",ecolor=\"k\")\n",
    "        \n",
    "        ax.legend(loc=\"upper right\")\n",
    "        ax.set_ylabel(\"Sky angle\")\n",
    "        ax.set_xlabel(\"time\")\n",
    "        ax.xaxis.set_major_formatter(date_form)\n",
    "        #ax.set_ylim(0.,15.)\n",
    "        #ax.text(0.03, 0.95, textstr, transform=ax.transAxes, fontsize=14,\n",
    "        #verticalalignment='top', bbox=props)\n",
    "        #ax.text(0.35, 0.95, textstr3, transform=ax.transAxes, fontsize=14,\n",
    "        #verticalalignment='top', bbox=props)\n",
    "        #ax.set_title(f\"night {night}\")\n",
    "\n",
    "        # right figure\n",
    "        df_night_curve.plot(x=\"dt\",y=\"ex_skyangle\",ax=ax2,marker='+',c=\"r\",lw=0.0,grid=True,legend=leg,label=\"sky angle\",ms=10)\n",
    "        #ax2.errorbar(x=df_night_curve.dt, y=df_night_pwv_curve[\"PWV [mm]_x\"],yerr=df_night_pwv_curve[\"PWV [mm]_err_x\"],fmt=\"+\",color=\"r\",ecolor=\"k\",ms=10,label=tag)\n",
    "        ax2.set_xlabel(\"hours\")\n",
    "        #ax2.set_ylim(0.,15.)\n",
    "        ax2.grid()\n",
    "        ax2.legend(loc=\"upper right\")\n",
    "        #ax2.plot(xfit,yfit,\"k-\")\n",
    "        #ax2.text(0.45, 0.95, textstr2, transform=ax2.transAxes, fontsize=14,\n",
    "        #verticalalignment='top', bbox=props)\n",
    "        ax2.set_title(f\"night {night}\")\n",
    "        \n",
    "        plt.tight_layout()\n",
    "        figname =f\"{pathfigs}/pwv_per_night_{night}\"+figtype\n",
    "        plt.savefig(figname)\n",
    "        plt.show()\n",
    "\n",
    "       "
   ]
  },
  {
   "cell_type": "code",
   "execution_count": null,
   "id": "9d56987d-362d-4424-88e6-9ab9c8a2e324",
   "metadata": {},
   "outputs": [],
   "source": [
    "assert False"
   ]
  }
 ],
 "metadata": {
  "kernelspec": {
   "display_name": "Python 3 (ipykernel)",
   "language": "python",
   "name": "python3"
  },
  "language_info": {
   "codemirror_mode": {
    "name": "ipython",
    "version": 3
   },
   "file_extension": ".py",
   "mimetype": "text/x-python",
   "name": "python",
   "nbconvert_exporter": "python",
   "pygments_lexer": "ipython3",
   "version": "3.10.12"
  }
 },
 "nbformat": 4,
 "nbformat_minor": 5
}
