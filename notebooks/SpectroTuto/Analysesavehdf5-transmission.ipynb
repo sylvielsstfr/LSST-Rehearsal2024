{
 "cells": [
  {
   "cell_type": "markdown",
   "id": "45bf4242-bfc5-4d43-88c4-a8059ae148df",
   "metadata": {},
   "source": [
    "# Analyse  Spectra and transmission previously saved in hdf5 and Select photometric nights"
   ]
  },
  {
   "cell_type": "markdown",
   "id": "01993b6e-6438-4fca-a5d5-1f9791336847",
   "metadata": {},
   "source": [
    "- author Sylvie Dagoret-Campagne\n",
    "- affiliation : IJCLab\n",
    "- creation date 2024-11-17 :\n",
    "- update 2024-11-24 : 2 methods of calculation T from z to z=1\n",
    "- last update 2024-11-25 : show airmass vs time and target name\n",
    "- last update 2024-11-26 : Save transmission per night in pdf\n",
    "- last update 2024-12-20 : Select photometric nights\n",
    "- Kernel @usdf **w_2024_41*\n",
    "- Office emac : mamba_py311\n",
    "- Home emac : base (conda)\n",
    "- laptop : conda_py310\n",
    "- MUST RUN AT USDF"
   ]
  },
  {
   "cell_type": "markdown",
   "id": "0219159d-6865-4311-ac1d-99d11dad223f",
   "metadata": {},
   "source": [
    "**Goal** : Show correlation holo /Merra"
   ]
  },
  {
   "cell_type": "code",
   "execution_count": null,
   "id": "63a2b2ef-0bc2-45eb-91d9-87835d264751",
   "metadata": {
    "execution": {
     "iopub.execute_input": "2024-12-10T21:44:14.449669Z",
     "iopub.status.busy": "2024-12-10T21:44:14.449547Z",
     "iopub.status.idle": "2024-12-10T21:44:14.451869Z",
     "shell.execute_reply": "2024-12-10T21:44:14.451521Z",
     "shell.execute_reply.started": "2024-12-10T21:44:14.449656Z"
    },
    "tags": []
   },
   "outputs": [],
   "source": [
    "from platform import python_version\n",
    "print(python_version())"
   ]
  },
  {
   "cell_type": "code",
   "execution_count": null,
   "id": "dcc53afe-c58f-4948-92c9-0090d373ad2a",
   "metadata": {
    "execution": {
     "iopub.execute_input": "2024-12-10T21:44:14.452401Z",
     "iopub.status.busy": "2024-12-10T21:44:14.452285Z",
     "iopub.status.idle": "2024-12-10T21:44:14.461751Z",
     "shell.execute_reply": "2024-12-10T21:44:14.461408Z",
     "shell.execute_reply.started": "2024-12-10T21:44:14.452390Z"
    }
   },
   "outputs": [],
   "source": [
    "import warnings\n",
    "warnings.resetwarnings()\n",
    "warnings.simplefilter('ignore')"
   ]
  },
  {
   "cell_type": "code",
   "execution_count": null,
   "id": "8026d265-2493-4045-afec-26205ff71f7c",
   "metadata": {
    "execution": {
     "iopub.execute_input": "2024-12-10T21:44:14.462241Z",
     "iopub.status.busy": "2024-12-10T21:44:14.462119Z",
     "iopub.status.idle": "2024-12-10T21:44:14.468071Z",
     "shell.execute_reply": "2024-12-10T21:44:14.467720Z",
     "shell.execute_reply.started": "2024-12-10T21:44:14.462229Z"
    },
    "tags": []
   },
   "outputs": [],
   "source": [
    "from platform import python_version\n",
    "print(python_version())"
   ]
  },
  {
   "cell_type": "code",
   "execution_count": null,
   "id": "eb1f116e-80e3-46ad-a7db-7f253632e5ca",
   "metadata": {
    "execution": {
     "iopub.execute_input": "2024-12-10T21:44:14.469314Z",
     "iopub.status.busy": "2024-12-10T21:44:14.469180Z",
     "iopub.status.idle": "2024-12-10T21:44:14.474223Z",
     "shell.execute_reply": "2024-12-10T21:44:14.473905Z",
     "shell.execute_reply.started": "2024-12-10T21:44:14.469301Z"
    }
   },
   "outputs": [],
   "source": [
    "import os,re"
   ]
  },
  {
   "cell_type": "markdown",
   "id": "9b7d1780-5d55-420e-bdff-6e2822028032",
   "metadata": {},
   "source": [
    "#### Create output directory for figures and data"
   ]
  },
  {
   "cell_type": "code",
   "execution_count": null,
   "id": "3ec760cd-3d3f-4a34-a6f6-b226fe500951",
   "metadata": {
    "execution": {
     "iopub.execute_input": "2024-12-10T21:44:14.474772Z",
     "iopub.status.busy": "2024-12-10T21:44:14.474651Z",
     "iopub.status.idle": "2024-12-10T21:44:14.480785Z",
     "shell.execute_reply": "2024-12-10T21:44:14.480451Z",
     "shell.execute_reply.started": "2024-12-10T21:44:14.474760Z"
    }
   },
   "outputs": [],
   "source": [
    "# where are stored the figures\n",
    "pathfigs = \"AnalyseTransmissionPernightSpectra\"\n",
    "if not os.path.exists(pathfigs):\n",
    "    os.makedirs(pathfigs) \n",
    "figtype = \".png\""
   ]
  },
  {
   "cell_type": "code",
   "execution_count": null,
   "id": "bb905fbb-b876-478c-a242-8a8b347cf4af",
   "metadata": {
    "execution": {
     "iopub.execute_input": "2024-12-10T21:44:14.481307Z",
     "iopub.status.busy": "2024-12-10T21:44:14.481182Z",
     "iopub.status.idle": "2024-12-10T21:44:14.488425Z",
     "shell.execute_reply": "2024-12-10T21:44:14.488019Z",
     "shell.execute_reply.started": "2024-12-10T21:44:14.481295Z"
    }
   },
   "outputs": [],
   "source": [
    "pathdata = \"dataHoloFITLinearandGPPWVandFetchNightSpectra\"\n",
    "if not os.path.exists(pathdata):\n",
    "    os.makedirs(pathdata) \n",
    "datapath_input = os.path.join(pathdata,\"pernightspectra\") \n",
    "if not os.path.exists(datapath_input):\n",
    "    assert False"
   ]
  },
  {
   "cell_type": "markdown",
   "id": "b98a1aae-58b3-4135-9e74-7809c35eeba2",
   "metadata": {},
   "source": [
    "#### Imports"
   ]
  },
  {
   "cell_type": "code",
   "execution_count": null,
   "id": "bf752b70-e6ca-4cbf-8e8c-20bf7f0d8f61",
   "metadata": {
    "execution": {
     "iopub.execute_input": "2024-12-10T21:44:14.488965Z",
     "iopub.status.busy": "2024-12-10T21:44:14.488847Z",
     "iopub.status.idle": "2024-12-10T21:44:15.670376Z",
     "shell.execute_reply": "2024-12-10T21:44:15.669935Z",
     "shell.execute_reply.started": "2024-12-10T21:44:14.488954Z"
    }
   },
   "outputs": [],
   "source": [
    "import matplotlib as mpl\n",
    "import matplotlib.pyplot as plt\n",
    "%matplotlib inline\n",
    "from mpl_toolkits.axes_grid1 import make_axes_locatable\n",
    "from matplotlib.colors import LogNorm,SymLogNorm\n",
    "from matplotlib.patches import Circle,Annulus\n",
    "from astropy.visualization import ZScaleInterval\n",
    "props = dict(boxstyle='round', facecolor=\"white\", alpha=0.1)\n",
    "#props = dict(boxstyle='round')\n",
    "\n",
    "import matplotlib.colors as colors\n",
    "import matplotlib.cm as cmx\n",
    "\n",
    "import matplotlib.ticker                         # here's where the formatter is\n",
    "from matplotlib.ticker import (MultipleLocator, FormatStrFormatter,\n",
    "                               AutoMinorLocator)\n",
    "\n",
    "from matplotlib.gridspec import GridSpec\n",
    "\n",
    "from astropy.visualization import (MinMaxInterval, SqrtStretch,ZScaleInterval,PercentileInterval,\n",
    "                                   ImageNormalize,imshow_norm)\n",
    "from astropy.visualization.stretch import SinhStretch, LinearStretch,AsinhStretch,LogStretch\n",
    "\n",
    "import numpy as np\n",
    "from numpy.linalg import inv\n",
    "\n",
    "\n",
    "from astropy.io import fits\n",
    "from astropy.wcs import WCS\n",
    "from astropy import units as u\n",
    "from astropy import constants as c\n",
    "\n",
    "from astropy.coordinates.earth import EarthLocation\n",
    "from datetime import datetime\n",
    "from pytz import timezone\n",
    "\n",
    "import scipy\n",
    "from scipy.optimize import curve_fit,least_squares\n",
    "from scipy.interpolate import RegularGridInterpolator\n",
    "from scipy import interpolate\n",
    "from sklearn.neighbors import NearestNeighbors\n",
    "from sklearn.neighbors import KDTree, BallTree\n",
    "\n",
    "import pandas as pd\n",
    "pd.set_option(\"display.max_columns\", None)\n",
    "pd.set_option('display.max_rows', 100)\n",
    "\n",
    "import matplotlib.ticker                         # here's where the formatter is\n",
    "import os\n",
    "import re\n",
    "import pandas as pd\n",
    "import pickle\n",
    "from collections import OrderedDict\n",
    "\n",
    "plt.rcParams[\"figure.figsize\"] = (4,3)\n",
    "plt.rcParams[\"axes.labelsize\"] = 'xx-large'\n",
    "plt.rcParams['axes.titlesize'] = 'xx-large'\n",
    "plt.rcParams['xtick.labelsize']= 'xx-large'\n",
    "plt.rcParams['ytick.labelsize']= 'xx-large'\n",
    "plt.rcParams['legend.fontsize']=  12\n",
    "plt.rcParams['font.size'] = 12\n",
    "\n",
    "# new color correction model\n",
    "import pickle\n",
    "\n",
    "from tqdm import tqdm"
   ]
  },
  {
   "cell_type": "code",
   "execution_count": null,
   "id": "98268139-19c9-46c3-af3b-42fb49770b26",
   "metadata": {
    "execution": {
     "iopub.execute_input": "2024-12-10T21:44:15.671109Z",
     "iopub.status.busy": "2024-12-10T21:44:15.670848Z",
     "iopub.status.idle": "2024-12-10T21:44:15.677242Z",
     "shell.execute_reply": "2024-12-10T21:44:15.676872Z",
     "shell.execute_reply.started": "2024-12-10T21:44:15.671095Z"
    }
   },
   "outputs": [],
   "source": [
    "from mpl_toolkits.axes_grid1.inset_locator import inset_axes"
   ]
  },
  {
   "cell_type": "code",
   "execution_count": null,
   "id": "0ca0d1e6-5f82-4c43-aaa3-8524fc2bc5ba",
   "metadata": {
    "execution": {
     "iopub.execute_input": "2024-12-10T21:44:15.677845Z",
     "iopub.status.busy": "2024-12-10T21:44:15.677705Z",
     "iopub.status.idle": "2024-12-10T21:44:15.680441Z",
     "shell.execute_reply": "2024-12-10T21:44:15.680091Z",
     "shell.execute_reply.started": "2024-12-10T21:44:15.677833Z"
    }
   },
   "outputs": [],
   "source": [
    "from matplotlib.ticker import (MultipleLocator, FormatStrFormatter,\n",
    "                               AutoMinorLocator)\n",
    "\n",
    "from astropy.visualization import (MinMaxInterval, SqrtStretch,ZScaleInterval,PercentileInterval,\n",
    "                                   ImageNormalize,imshow_norm)\n",
    "from astropy.visualization.stretch import SinhStretch, LinearStretch,AsinhStretch,LogStretch\n",
    "\n",
    "from astropy.time import Time\n"
   ]
  },
  {
   "cell_type": "code",
   "execution_count": null,
   "id": "e189816c-5048-43ab-a01a-7c078af54489",
   "metadata": {
    "execution": {
     "iopub.execute_input": "2024-12-10T21:44:15.680986Z",
     "iopub.status.busy": "2024-12-10T21:44:15.680866Z",
     "iopub.status.idle": "2024-12-10T21:44:15.686119Z",
     "shell.execute_reply": "2024-12-10T21:44:15.685788Z",
     "shell.execute_reply.started": "2024-12-10T21:44:15.680974Z"
    }
   },
   "outputs": [],
   "source": [
    "# Remove to run faster the notebook\n",
    "#import ipywidgets as widgets\n",
    "#%matplotlib widget"
   ]
  },
  {
   "cell_type": "code",
   "execution_count": null,
   "id": "67327fd4-e405-45ce-8923-cd46ebaa0c0f",
   "metadata": {
    "execution": {
     "iopub.execute_input": "2024-12-10T21:44:15.686642Z",
     "iopub.status.busy": "2024-12-10T21:44:15.686530Z",
     "iopub.status.idle": "2024-12-10T21:44:15.691921Z",
     "shell.execute_reply": "2024-12-10T21:44:15.691595Z",
     "shell.execute_reply.started": "2024-12-10T21:44:15.686632Z"
    },
    "tags": []
   },
   "outputs": [],
   "source": [
    "from importlib.metadata import version"
   ]
  },
  {
   "cell_type": "code",
   "execution_count": null,
   "id": "d8bbab49-a26b-4f5e-82c1-800d57fa5294",
   "metadata": {
    "execution": {
     "iopub.execute_input": "2024-12-10T21:44:15.692531Z",
     "iopub.status.busy": "2024-12-10T21:44:15.692412Z",
     "iopub.status.idle": "2024-12-10T21:44:15.697724Z",
     "shell.execute_reply": "2024-12-10T21:44:15.697370Z",
     "shell.execute_reply.started": "2024-12-10T21:44:15.692520Z"
    }
   },
   "outputs": [],
   "source": [
    "import warnings\n",
    "warnings.filterwarnings(\"ignore\")"
   ]
  },
  {
   "cell_type": "code",
   "execution_count": null,
   "id": "9ca2734f-e551-49dd-9e2e-aa00f6c0416e",
   "metadata": {
    "execution": {
     "iopub.execute_input": "2024-12-10T21:44:15.698251Z",
     "iopub.status.busy": "2024-12-10T21:44:15.698129Z",
     "iopub.status.idle": "2024-12-10T21:44:15.702817Z",
     "shell.execute_reply": "2024-12-10T21:44:15.702478Z",
     "shell.execute_reply.started": "2024-12-10T21:44:15.698240Z"
    }
   },
   "outputs": [],
   "source": [
    "# wavelength bin colors\n",
    "#jet = plt.get_cmap('jet')\n",
    "#cNorm = mpl.colors.Normalize(vmin=0, vmax=NSED)\n",
    "#scalarMap = cmx.ScalarMappable(norm=cNorm, cmap=jet)\n",
    "#all_colors = scalarMap.to_rgba(np.arange(NSED), alpha=1)"
   ]
  },
  {
   "cell_type": "markdown",
   "id": "0c04c695-e9c1-4c8b-9dee-194a59f1012c",
   "metadata": {},
   "source": [
    "#### Butler access\n",
    "\n",
    "- these access may change with time\n",
    "- check my collections are found"
   ]
  },
  {
   "cell_type": "markdown",
   "id": "efde2b71-16eb-484b-97f5-52611eb85410",
   "metadata": {},
   "source": [
    "#### Environnement for rubinsimphot\n",
    "- Configure to access to rubinsimphot\n",
    "- Note it is important to have the rubinsimphot path in the python path\n",
    "- check the dm_version repository the newpythonpath "
   ]
  },
  {
   "cell_type": "code",
   "execution_count": null,
   "id": "127cae08-bcb7-4afc-8ca7-10f149b668bc",
   "metadata": {
    "execution": {
     "iopub.execute_input": "2024-12-10T21:44:15.703361Z",
     "iopub.status.busy": "2024-12-10T21:44:15.703243Z",
     "iopub.status.idle": "2024-12-10T21:44:15.710060Z",
     "shell.execute_reply": "2024-12-10T21:44:15.709676Z",
     "shell.execute_reply.started": "2024-12-10T21:44:15.703350Z"
    }
   },
   "outputs": [],
   "source": [
    "dm_version=\"repos_w_2024_41\" \n",
    "machine_name = os.uname().nodename\n",
    "print(machine_name)\n",
    "if 'sdf' in machine_name:\n",
    "    #machine_name_usdf = 'sdfrome001'\n",
    "    #machine_name_notebook platform = 'dagoret-nb'\n",
    "    print(\"Set environement for USDF\")\n",
    "    newpythonpath = os.path.join(os.getenv(\"HOME\"),f\"repos/{dm_version}/rubinsimphot/src\")\n",
    "    sys.path.append(newpythonpath)\n",
    "    newpythonpath = os.path.join(os.getenv(\"HOME\"),\"rubin-user/RubinLSSTPhotometricCorrTuto/notebooks/lib\")\n",
    "    sys.path.append(newpythonpath)   \n",
    "elif \"dagoret-nb\" in machine_name:\n",
    "    print(\"Set environement for Rubin Platform at  USDF\")\n",
    "    newpythonpath = os.path.join(os.getenv(\"HOME\"),f\"repos/{dm_version}/rubinsimphot/src\")\n",
    "    sys.path.append(newpythonpath)\n",
    "    newpythonpath = os.path.join(os.getenv(\"HOME\"),\"rubin-user/RubinLSSTPhotometricCorrTuto/notebooks/lib\")\n",
    "    sys.path.append(newpythonpath)\n",
    "elif 'mac' in machine_name:\n",
    "    print(\"Be sure to run this notebook in conda environnement named conda_py310\")\n",
    "else:\n",
    "    print(\"Your current machine name is {machine_name}. Check your python environment\")"
   ]
  },
  {
   "cell_type": "code",
   "execution_count": null,
   "id": "c9312f5a-a683-47cb-83fb-dddd29ae0872",
   "metadata": {
    "execution": {
     "iopub.execute_input": "2024-12-10T21:44:15.710585Z",
     "iopub.status.busy": "2024-12-10T21:44:15.710469Z",
     "iopub.status.idle": "2024-12-10T21:44:15.735604Z",
     "shell.execute_reply": "2024-12-10T21:44:15.735274Z",
     "shell.execute_reply.started": "2024-12-10T21:44:15.710574Z"
    }
   },
   "outputs": [],
   "source": [
    "from rubinsimphot.phot_utils import Bandpass, Sed\n",
    "from rubinsimphot.data.data_sets import  get_data_dir\n",
    "\n",
    "#README.md        darksky.dat      filter_r.dat     hardware_g.dat   hardware_y.dat   lens3.dat        total_g.dat      total_y.dat\n",
    "#README_SOURCE.md detector.dat     filter_u.dat     hardware_i.dat   hardware_z.dat   m1.dat           total_i.dat      total_z.dat\n",
    "#atmos_10.dat     filter_g.dat     filter_y.dat     hardware_r.dat   lens1.dat        m2.dat           total_r.dat      version_info\n",
    "#atmos_std.dat    filter_i.dat     filter_z.dat     hardware_u.dat   lens2.dat        m3.dat           total_u.dat\n",
    "hardware_filenames = [\"hardware_u.dat\",\"hardware_g.dat\",\"hardware_r.dat\",\"hardware_i.dat\",\"hardware_z.dat\",\"hardware_y.dat\"] \n",
    "filter_filenames = [\"filter_u.dat\",\"filter_g.dat\",\"filter_r.dat\",\"filter_i.dat\",\"filter_z.dat\",\"filter_y.dat\" ]\n",
    "total_filenames = [\"total_u.dat\",\"total_g.dat\",\"total_r.dat\",\"total_i.dat\",\"total_z.dat\",\"total_y.dat\" ]\n",
    "filter_tagnames = [\"u\",\"g\",\"r\",\"i\",\"z\",\"y\"]\n",
    "Filter_tagnames = [\"U\",\"G\",\"R\",\"I\",\"Z\",\"Y\"]\n",
    "filtercolor_tagnames = [\"u-g\",\"g-r\",\"r-i\",\"i-z\",\"z-y\"]\n",
    "Filtercolor_tagnames = [\"U-G\",\"G-R\",\"R-I\",\"I-Y\",\"Z-Y\"]\n",
    "filter_color = [\"b\",\"g\",\"r\",\"orange\",\"grey\",\"k\"]\n",
    "NFILT=len(filter_filenames)\n",
    "\n",
    "WLMIN=300.\n",
    "WLMAX=1100.\n",
    "WLBIN=1.\n",
    "NWLBIN=int((WLMAX-WLMIN)/WLBIN)\n",
    "WL=np.linspace(WLMIN,WLMAX,NWLBIN)"
   ]
  },
  {
   "cell_type": "code",
   "execution_count": null,
   "id": "0e1b36c7-52df-4ef0-97fb-329769bf05a9",
   "metadata": {
    "execution": {
     "iopub.execute_input": "2024-12-10T21:44:15.736130Z",
     "iopub.status.busy": "2024-12-10T21:44:15.736008Z",
     "iopub.status.idle": "2024-12-10T21:44:15.739844Z",
     "shell.execute_reply": "2024-12-10T21:44:15.739488Z",
     "shell.execute_reply.started": "2024-12-10T21:44:15.736119Z"
    }
   },
   "outputs": [],
   "source": [
    "#FILTERWL: precalculated array containing center, boundaries and width of each filter.\n",
    "#index 0 : minimum wavelength of filter border\n",
    "#index 1 : minimum wavelength of filter border\n",
    "#index 2 : center wavelength of filter\n",
    "#index 3 : filter width\n",
    "\n",
    "\n",
    "FILTERWL = np.array([[ 324.03003755,  402.12765957,  363.59690349,   78.09762203],\n",
    "       [ 392.11514393,  561.32665832,  473.54069923,  169.21151439],\n",
    "       [ 542.3028786 ,  700.50062578,  619.49926767,  158.19774718],\n",
    "       [ 681.47684606,  827.65957447,  752.01084117,  146.18272841],\n",
    "       [ 808.63579474,  932.79098874,  868.488419  ,  124.15519399],\n",
    "       [ 914.76846058, 1044.93116395,  969.10570859,  130.16270338]])\n",
    "\n",
    "FILTERWL_auxtel = np.array([[ 352.7 ,  395.9 ,  374.3 ,   43.2 ],\n",
    "                     [ 387.6 ,  566.2 ,  476.9 ,  178.6 ],\n",
    "                     [ 541.4 ,  715.5 ,  628.45,  174.1 ],\n",
    "                     [ 673.3 ,  870.9 ,  772.1 ,  197.6 ],\n",
    "                     [ 805.6 , 1090.7 ,  948.15,  285.1 ]])\n",
    "\n",
    "\n",
    "F0 = 3631.0 # Jy 1, Jy = 10^{-23} erg.cm^{-2}.s^{-1}.Hz^{-1}\n",
    "Jy_to_ergcmm2sm1hzm1 = 1e-23\n",
    "DT = 30.0 # seconds\n",
    "gel = 1.1\n",
    "#hP = 6.62607015E-34 # J⋅Hz−1\n",
    "hP = 6.626196E-27\n",
    "A  = np.pi*642.3**2 # cm2  Reff=6.423 m\n",
    "A_auxtel  = 9636.0 # cm2\n",
    "\n",
    "#ZPT_cont =  2.5 \\log_{10} \\left(\\frac{F_0 A \\Delta T}{g_{el} h} \\right)\n",
    "ZPTconst = 2.5*np.log10(F0*Jy_to_ergcmm2sm1hzm1*A*DT/gel/hP)"
   ]
  },
  {
   "cell_type": "code",
   "execution_count": null,
   "id": "cfa1ffb8-317a-4b76-a38c-851c45cdf91c",
   "metadata": {
    "execution": {
     "iopub.execute_input": "2024-12-10T21:44:15.742185Z",
     "iopub.status.busy": "2024-12-10T21:44:15.741951Z",
     "iopub.status.idle": "2024-12-10T21:44:15.771043Z",
     "shell.execute_reply": "2024-12-10T21:44:15.770662Z",
     "shell.execute_reply.started": "2024-12-10T21:44:15.742171Z"
    }
   },
   "outputs": [],
   "source": [
    "fdir = get_data_dir()\n",
    "bandpass_inst = {}\n",
    "path_rubin_sim_throughput = os.path.join(fdir, 'throughputs', 'baseline')\n",
    "for index,filename in enumerate(hardware_filenames):\n",
    "    fullfilename=os.path.join(path_rubin_sim_throughput,filename)\n",
    "    arr= np.loadtxt(fullfilename)\n",
    "    # interpolate  filter transmission\n",
    "    ff = interpolate.interp1d(x=arr[:,0], y=arr[:,1],fill_value=\"extrapolate\")\n",
    "    fname = filter_tagnames[index]\n",
    "    bandpass_inst[fname] = Bandpass(wavelen=WL,sb=ff(WL))"
   ]
  },
  {
   "cell_type": "code",
   "execution_count": null,
   "id": "102ffdc7-b312-47db-b915-73b640fe4fbe",
   "metadata": {
    "execution": {
     "iopub.execute_input": "2024-12-10T21:44:15.771597Z",
     "iopub.status.busy": "2024-12-10T21:44:15.771477Z",
     "iopub.status.idle": "2024-12-10T21:44:15.894842Z",
     "shell.execute_reply": "2024-12-10T21:44:15.894454Z",
     "shell.execute_reply.started": "2024-12-10T21:44:15.771586Z"
    }
   },
   "outputs": [],
   "source": [
    "%matplotlib inline\n",
    "fig, axs = plt.subplots(1,1,figsize=(6,4))\n",
    "# loop on filter\n",
    "for index,f in enumerate(filter_tagnames):\n",
    "    \n",
    "    axs.plot(WL,bandpass_inst[f].sb,color=filter_color[index]) \n",
    "    axs.fill_between(WL,bandpass_inst[f].sb,color=filter_color[index],alpha=0.2) \n",
    "    axs.axvline(FILTERWL[index,2],color=filter_color[index],linestyle=\"-.\")\n",
    "    \n",
    "axs.set_xlabel(\"$\\\\lambda$ (nm)\")\n",
    "axs.set_title(\"Total Rubin-LSST filter throughput\")\n",
    "plt.show()"
   ]
  },
  {
   "cell_type": "markdown",
   "id": "357863bb-a7a4-4dce-9fc7-a901ae6ff34d",
   "metadata": {
    "execution": {
     "iopub.execute_input": "2024-11-13T10:34:05.736273Z",
     "iopub.status.busy": "2024-11-13T10:34:05.736142Z",
     "iopub.status.idle": "2024-11-13T10:34:05.968740Z",
     "shell.execute_reply": "2024-11-13T10:34:05.968057Z",
     "shell.execute_reply.started": "2024-11-13T10:34:05.736259Z"
    }
   },
   "source": [
    "### Load my stuff"
   ]
  },
  {
   "cell_type": "code",
   "execution_count": null,
   "id": "8e1afb4c-cca5-431b-a78f-779a96383265",
   "metadata": {
    "execution": {
     "iopub.execute_input": "2024-12-10T21:44:15.895401Z",
     "iopub.status.busy": "2024-12-10T21:44:15.895277Z",
     "iopub.status.idle": "2024-12-10T21:44:16.650372Z",
     "shell.execute_reply": "2024-12-10T21:44:16.649952Z",
     "shell.execute_reply.started": "2024-12-10T21:44:15.895390Z"
    }
   },
   "outputs": [],
   "source": [
    "sys.path.append(\"../lib\")\n",
    "from libauxtelspectra import *\n",
    "from libanaspectra import *"
   ]
  },
  {
   "cell_type": "markdown",
   "id": "a6cae4e0-b037-4abe-82fa-24e5ba3b7a79",
   "metadata": {},
   "source": [
    "## Functions"
   ]
  },
  {
   "cell_type": "code",
   "execution_count": null,
   "id": "1003d9d6-a40f-48b1-9ffc-bfab9f45ba93",
   "metadata": {
    "execution": {
     "iopub.execute_input": "2024-12-10T21:44:16.651029Z",
     "iopub.status.busy": "2024-12-10T21:44:16.650868Z",
     "iopub.status.idle": "2024-12-10T21:44:16.653826Z",
     "shell.execute_reply": "2024-12-10T21:44:16.653489Z",
     "shell.execute_reply.started": "2024-12-10T21:44:16.651014Z"
    }
   },
   "outputs": [],
   "source": [
    "np.__version__"
   ]
  },
  {
   "cell_type": "code",
   "execution_count": null,
   "id": "c4cb2652-cb22-432e-b110-ae71d59dc793",
   "metadata": {
    "execution": {
     "iopub.execute_input": "2024-12-10T21:44:16.654350Z",
     "iopub.status.busy": "2024-12-10T21:44:16.654227Z",
     "iopub.status.idle": "2024-12-10T21:44:16.661027Z",
     "shell.execute_reply": "2024-12-10T21:44:16.660690Z",
     "shell.execute_reply.started": "2024-12-10T21:44:16.654338Z"
    }
   },
   "outputs": [],
   "source": [
    "pd.__version__"
   ]
  },
  {
   "cell_type": "code",
   "execution_count": null,
   "id": "ad03dc3d-6741-4478-82ba-1d5447529d9a",
   "metadata": {
    "execution": {
     "iopub.execute_input": "2024-12-10T21:44:16.661544Z",
     "iopub.status.busy": "2024-12-10T21:44:16.661429Z",
     "iopub.status.idle": "2024-12-10T21:44:16.666837Z",
     "shell.execute_reply": "2024-12-10T21:44:16.666493Z",
     "shell.execute_reply.started": "2024-12-10T21:44:16.661532Z"
    }
   },
   "outputs": [],
   "source": [
    "def convertNumToDatestr(num):\n",
    "    year = num//10_000\n",
    "    month= (num-year*10_000)//100\n",
    "    day = (num-year*10_000-month*100)\n",
    "\n",
    "    year_str = str(year).zfill(4)\n",
    "    month_str = str(month).zfill(2)\n",
    "    day_str = str(day).zfill(2)\n",
    "    \n",
    "    datestr = f\"{year_str}-{month_str}-{day_str}\"\n",
    "    return pd.to_datetime(datestr)"
   ]
  },
  {
   "cell_type": "markdown",
   "id": "4f13d6a3-7793-4bc0-920a-1d690d9f84b2",
   "metadata": {},
   "source": [
    "## Configuration"
   ]
  },
  {
   "cell_type": "code",
   "execution_count": null,
   "id": "c8cb2e48-0b34-4cbf-8379-43f7065112f7",
   "metadata": {
    "execution": {
     "iopub.execute_input": "2024-12-10T21:44:16.667507Z",
     "iopub.status.busy": "2024-12-10T21:44:16.667320Z",
     "iopub.status.idle": "2024-12-10T21:44:16.810190Z",
     "shell.execute_reply": "2024-12-10T21:44:16.809822Z",
     "shell.execute_reply.started": "2024-12-10T21:44:16.667489Z"
    }
   },
   "outputs": [],
   "source": [
    "observing_location = EarthLocation.of_site('Rubin Observatory')\n",
    "tz = timezone('America/Santiago')"
   ]
  },
  {
   "cell_type": "markdown",
   "id": "b884e71c-39cb-43e1-9edf-4a2cade9196e",
   "metadata": {},
   "source": [
    "### Spectro Hologram data"
   ]
  },
  {
   "cell_type": "code",
   "execution_count": null,
   "id": "a6d313e9-1621-40fb-a7d8-6d01522c7485",
   "metadata": {
    "execution": {
     "iopub.execute_input": "2024-12-10T21:44:16.810891Z",
     "iopub.status.busy": "2024-12-10T21:44:16.810702Z",
     "iopub.status.idle": "2024-12-10T21:44:16.814389Z",
     "shell.execute_reply": "2024-12-10T21:44:16.814010Z",
     "shell.execute_reply.started": "2024-12-10T21:44:16.810873Z"
    }
   },
   "outputs": [],
   "source": [
    "FLAG_WITHCOLLIMATOR = False\n",
    "DATE_WITHCOLLIMATOR = 20230930\n",
    "datetime_WITHCOLLIMATOR = convertNumToDatestr(DATE_WITHCOLLIMATOR)\n",
    "datetime_WITHCOLLIMATOR = pd.to_datetime(\"2023-09-30 00:00:00.0+0000\")\n",
    "datetime_WITHCOLLIMATOR"
   ]
  },
  {
   "cell_type": "code",
   "execution_count": null,
   "id": "5bac0cab-3886-4683-b1c8-fc59edacfd46",
   "metadata": {
    "execution": {
     "iopub.execute_input": "2024-12-10T21:44:16.814944Z",
     "iopub.status.busy": "2024-12-10T21:44:16.814818Z",
     "iopub.status.idle": "2024-12-10T21:44:16.819838Z",
     "shell.execute_reply": "2024-12-10T21:44:16.819514Z",
     "shell.execute_reply.started": "2024-12-10T21:44:16.814932Z"
    },
    "tags": []
   },
   "outputs": [],
   "source": [
    "version_results = \"v5\"\n",
    "legendtag = {\"v1\" : \"old v3.1.0\",\n",
    "            \"v2\" : \"v3.1.0-PWV<10mm\",\n",
    "            \"v3\" : \"v3.1.0-PWV<15mm\",\n",
    "            \"v4\" : \"Auxtel holo v3.1.0\",\n",
    "            \"v5\" : \"Auxtel holo v3.1.0 09/22 - 10/24\"}"
   ]
  },
  {
   "cell_type": "code",
   "execution_count": null,
   "id": "99436fe6-ad07-4796-b982-7dd89f554f0c",
   "metadata": {
    "execution": {
     "iopub.execute_input": "2024-12-10T21:44:16.820401Z",
     "iopub.status.busy": "2024-12-10T21:44:16.820274Z",
     "iopub.status.idle": "2024-12-10T21:44:16.825432Z",
     "shell.execute_reply": "2024-12-10T21:44:16.825095Z",
     "shell.execute_reply.started": "2024-12-10T21:44:16.820386Z"
    },
    "tags": []
   },
   "outputs": [],
   "source": [
    "atmfilenamesdict = {\"v1\" : \"data/spectro/auxtel_atmosphere_202301_v3.1.0_doSensorFlat_rebin2_testWithMaskedEdges_newBoundaries_newPolysRescaled_newFitBounds_adjustA1_lockedOrder2_removeThroughputTails_2.npy\",\n",
    "                    \"v2\" : \"auxtel_atmosphere_202301_v3.1.0_doSensorFlat_rebin2_lockedOrder2_FixA1_FixA2_FitAngstrom_FixA1_FixA2_FitAngstrom_WithGaia_freePressure_newThroughput6_BG40Scaled1.09_PeekFinder.npy\",\n",
    "                    \"v3\" : \"u_dagoret_auxtel_atmosphere_202301_v3.1.0_doSensorFlat_rebin2_lockedOrder2_FixA1_FixA2_FitAngstrom_WithGaia_freePressure_newThroughput6_BG40Scaled1.09_AtmoFitPressureA2_SpecErr_PeekFinder_20240924T161119Z.npy\",\n",
    "                    \"v4\" : \"u_dagoret_auxtel_atmosphere_202301_v3.1.0_doSensorFlat_rebin2_lockedOrder2_FixA1_FixA2_FitAngstrom_WithGaia_freePressure_newThroughput6_BG40Scaled1.09_AtmoFitPressureA2_SpecErr_PeekFinder_20240924T161119Z_spectrfullextend.npy\",\n",
    "                    \"v5\" : \"u_dagoret_auxtel_atmosphere_202209_v3.1.0_doSensorFlat_rebin2_lockedOrder2_FixA1_FixA2_FitAngstrom_WithGaia_freePressure_newThroughput6_BG40Scaled1.09_AtmoFitPressureA2_SpecErr_No5SigmaClip_20241016T184601Z_spectrfullextended.npy\"}"
   ]
  },
  {
   "cell_type": "code",
   "execution_count": null,
   "id": "f5ee7d08-244a-462a-b9fc-ff5cd4d3e801",
   "metadata": {
    "execution": {
     "iopub.execute_input": "2024-12-10T21:44:16.825968Z",
     "iopub.status.busy": "2024-12-10T21:44:16.825853Z",
     "iopub.status.idle": "2024-12-10T21:44:16.831098Z",
     "shell.execute_reply": "2024-12-10T21:44:16.830767Z",
     "shell.execute_reply.started": "2024-12-10T21:44:16.825957Z"
    },
    "tags": []
   },
   "outputs": [],
   "source": [
    "atmfilename = atmfilenamesdict[version_results]\n",
    "tag = legendtag[version_results] "
   ]
  },
  {
   "cell_type": "markdown",
   "id": "a30a15de-34f1-4f2b-afb9-52143c1cff27",
   "metadata": {},
   "source": [
    "## Initialisation"
   ]
  },
  {
   "cell_type": "markdown",
   "id": "4053343d-8e37-4402-b49f-c28dbb9e4afb",
   "metadata": {},
   "source": [
    "### Read the file"
   ]
  },
  {
   "cell_type": "code",
   "execution_count": null,
   "id": "ad60336b-f26f-4184-bcdf-e596329ecbbd",
   "metadata": {
    "execution": {
     "iopub.execute_input": "2024-12-10T21:44:16.831590Z",
     "iopub.status.busy": "2024-12-10T21:44:16.831469Z",
     "iopub.status.idle": "2024-12-10T21:44:16.932600Z",
     "shell.execute_reply": "2024-12-10T21:44:16.932141Z",
     "shell.execute_reply.started": "2024-12-10T21:44:16.831579Z"
    }
   },
   "outputs": [],
   "source": [
    "specdata = np.load(atmfilename,allow_pickle=True)"
   ]
  },
  {
   "cell_type": "code",
   "execution_count": null,
   "id": "3d9c7249-f818-4a98-8000-9be75b3c7a21",
   "metadata": {
    "execution": {
     "iopub.execute_input": "2024-12-10T21:44:16.933232Z",
     "iopub.status.busy": "2024-12-10T21:44:16.933082Z",
     "iopub.status.idle": "2024-12-10T21:44:16.948905Z",
     "shell.execute_reply": "2024-12-10T21:44:16.948485Z",
     "shell.execute_reply.started": "2024-12-10T21:44:16.933216Z"
    }
   },
   "outputs": [],
   "source": [
    "df_spec = pd.DataFrame(specdata)"
   ]
  },
  {
   "cell_type": "code",
   "execution_count": null,
   "id": "a19b591a-d479-4507-b241-81070420c847",
   "metadata": {
    "execution": {
     "iopub.execute_input": "2024-12-10T21:44:16.949516Z",
     "iopub.status.busy": "2024-12-10T21:44:16.949389Z",
     "iopub.status.idle": "2024-12-10T21:44:16.951326Z",
     "shell.execute_reply": "2024-12-10T21:44:16.950999Z",
     "shell.execute_reply.started": "2024-12-10T21:44:16.949504Z"
    },
    "tags": []
   },
   "outputs": [],
   "source": [
    "#list(df_spec.columns)"
   ]
  },
  {
   "cell_type": "markdown",
   "id": "68aab053-d9d5-4a93-98b2-5bb49b65fdd8",
   "metadata": {},
   "source": [
    "### Remove spectra with red filter"
   ]
  },
  {
   "cell_type": "code",
   "execution_count": null,
   "id": "53487c66-88fc-4c63-9296-e3ab009bc34a",
   "metadata": {
    "execution": {
     "iopub.execute_input": "2024-12-10T21:44:16.951877Z",
     "iopub.status.busy": "2024-12-10T21:44:16.951763Z",
     "iopub.status.idle": "2024-12-10T21:44:16.958282Z",
     "shell.execute_reply": "2024-12-10T21:44:16.957924Z",
     "shell.execute_reply.started": "2024-12-10T21:44:16.951866Z"
    }
   },
   "outputs": [],
   "source": [
    "df_spec['FILTER'].unique()"
   ]
  },
  {
   "cell_type": "code",
   "execution_count": null,
   "id": "952da4c8-0f60-47e7-82fe-20bb46499680",
   "metadata": {
    "execution": {
     "iopub.execute_input": "2024-12-10T21:44:16.958793Z",
     "iopub.status.busy": "2024-12-10T21:44:16.958676Z",
     "iopub.status.idle": "2024-12-10T21:44:16.967602Z",
     "shell.execute_reply": "2024-12-10T21:44:16.967229Z",
     "shell.execute_reply.started": "2024-12-10T21:44:16.958781Z"
    }
   },
   "outputs": [],
   "source": [
    "FLAG_REMOVE_FILTERS = True\n",
    "if FLAG_REMOVE_FILTERS:\n",
    "    df_spec=df_spec[df_spec[\"FILTER\"] == 'empty']\n",
    "    df_spec.reset_index(inplace=True)  "
   ]
  },
  {
   "cell_type": "markdown",
   "id": "a81b1aa2-7edc-4a24-9c44-c24c3826c18f",
   "metadata": {
    "tags": []
   },
   "source": [
    "### Define if a target is faint or bright"
   ]
  },
  {
   "cell_type": "code",
   "execution_count": null,
   "id": "412e59e0-f026-42d0-b6e1-7e5185c7e9dd",
   "metadata": {
    "execution": {
     "iopub.execute_input": "2024-12-10T21:44:16.968180Z",
     "iopub.status.busy": "2024-12-10T21:44:16.968040Z",
     "iopub.status.idle": "2024-12-10T21:44:16.970895Z",
     "shell.execute_reply": "2024-12-10T21:44:16.970531Z",
     "shell.execute_reply.started": "2024-12-10T21:44:16.968166Z"
    },
    "tags": []
   },
   "outputs": [],
   "source": [
    "def IsFaint(row):\n",
    "    List_Of_Faint_targets = ['Feige110','HD074000','HD115169','HD031128','HD200654','HD167060','HD009051','HD142331','HD160617','HD111980']\n",
    "    List_Of_faint_selected = List_Of_Faint_targets[:10]\n",
    "    if row[\"TARGET\"] in List_Of_faint_selected:\n",
    "        return True\n",
    "    else:\n",
    "        return False"
   ]
  },
  {
   "cell_type": "code",
   "execution_count": null,
   "id": "07cd52bf-50de-4190-ad3f-d68aaf18039e",
   "metadata": {
    "execution": {
     "iopub.execute_input": "2024-12-10T21:44:16.971404Z",
     "iopub.status.busy": "2024-12-10T21:44:16.971288Z",
     "iopub.status.idle": "2024-12-10T21:44:17.023535Z",
     "shell.execute_reply": "2024-12-10T21:44:17.023052Z",
     "shell.execute_reply.started": "2024-12-10T21:44:16.971393Z"
    }
   },
   "outputs": [],
   "source": [
    "df_spec[\"isFaint\"] = df_spec.apply(IsFaint,axis=1)"
   ]
  },
  {
   "cell_type": "markdown",
   "id": "3af3b3b6-7774-4b43-830b-a287c4e3281b",
   "metadata": {},
   "source": [
    "### Compute NightObs"
   ]
  },
  {
   "cell_type": "code",
   "execution_count": null,
   "id": "4de5d570-2e92-468b-ab07-63fffd8d2b8c",
   "metadata": {
    "execution": {
     "iopub.execute_input": "2024-12-10T21:44:17.024173Z",
     "iopub.status.busy": "2024-12-10T21:44:17.024035Z",
     "iopub.status.idle": "2024-12-10T21:44:17.071490Z",
     "shell.execute_reply": "2024-12-10T21:44:17.071001Z",
     "shell.execute_reply.started": "2024-12-10T21:44:17.024161Z"
    }
   },
   "outputs": [],
   "source": [
    "df_spec[\"nightObs\"] = df_spec.apply(lambda x: x['id']//100_000, axis=1)"
   ]
  },
  {
   "cell_type": "code",
   "execution_count": null,
   "id": "079b9ebb-4e59-4364-8ffa-f0439e943959",
   "metadata": {
    "execution": {
     "iopub.execute_input": "2024-12-10T21:44:17.072108Z",
     "iopub.status.busy": "2024-12-10T21:44:17.071959Z",
     "iopub.status.idle": "2024-12-10T21:44:17.074269Z",
     "shell.execute_reply": "2024-12-10T21:44:17.073919Z",
     "shell.execute_reply.started": "2024-12-10T21:44:17.072095Z"
    }
   },
   "outputs": [],
   "source": [
    "if FLAG_WITHCOLLIMATOR:\n",
    "    df_spec = df_spec[df_spec[\"nightObs\"]> DATE_WITHCOLLIMATOR]"
   ]
  },
  {
   "cell_type": "markdown",
   "id": "a7aaca44-ad09-4883-8a7d-413b71e8b4a2",
   "metadata": {},
   "source": [
    "### Add the Time in pd.datetime"
   ]
  },
  {
   "cell_type": "markdown",
   "id": "6a2222de-f3b7-4678-b2dc-d4c89102e0ab",
   "metadata": {},
   "source": [
    "#### UTC"
   ]
  },
  {
   "cell_type": "code",
   "execution_count": null,
   "id": "0d10c1ad-c5dc-4487-baa9-7c71ec531f45",
   "metadata": {
    "execution": {
     "iopub.execute_input": "2024-12-10T21:44:17.074803Z",
     "iopub.status.busy": "2024-12-10T21:44:17.074684Z",
     "iopub.status.idle": "2024-12-10T21:44:17.083657Z",
     "shell.execute_reply": "2024-12-10T21:44:17.083304Z",
     "shell.execute_reply.started": "2024-12-10T21:44:17.074791Z"
    }
   },
   "outputs": [],
   "source": [
    "df_spec[\"Time\"] = pd.to_datetime(df_spec[\"DATE-OBS\"])"
   ]
  },
  {
   "cell_type": "code",
   "execution_count": null,
   "id": "66cfe082-4e0c-4b83-ac40-122ba4c58ec4",
   "metadata": {
    "execution": {
     "iopub.execute_input": "2024-12-10T21:44:17.084175Z",
     "iopub.status.busy": "2024-12-10T21:44:17.084053Z",
     "iopub.status.idle": "2024-12-10T21:44:17.090141Z",
     "shell.execute_reply": "2024-12-10T21:44:17.089818Z",
     "shell.execute_reply.started": "2024-12-10T21:44:17.084164Z"
    },
    "tags": []
   },
   "outputs": [],
   "source": [
    "DT = pd.Timedelta(minutes=7*24*60)\n",
    "TMIN  = df_spec[\"Time\"].min()-DT\n",
    "TMAX  = df_spec[\"Time\"].max()+DT"
   ]
  },
  {
   "cell_type": "markdown",
   "id": "433fdc22-9674-47c9-a11c-1e6acfc52311",
   "metadata": {
    "tags": []
   },
   "source": [
    "### Compute relative time to Mid-night"
   ]
  },
  {
   "cell_type": "code",
   "execution_count": null,
   "id": "0de9a173-9144-4c45-a93f-f7df8b5905b7",
   "metadata": {
    "execution": {
     "iopub.execute_input": "2024-12-10T21:44:17.090679Z",
     "iopub.status.busy": "2024-12-10T21:44:17.090560Z",
     "iopub.status.idle": "2024-12-10T21:44:17.096433Z",
     "shell.execute_reply": "2024-12-10T21:44:17.096063Z",
     "shell.execute_reply.started": "2024-12-10T21:44:17.090668Z"
    }
   },
   "outputs": [],
   "source": [
    "def GetTimeToMidNight(row):\n",
    "    observing_time = Time(row['DATE-OBS'], scale='utc', location=observing_location)\n",
    "\n",
    "    # time at the location , either before or after midnight\n",
    "    local_time =  observing_time.to_datetime(timezone=tz)\n",
    "\n",
    "    # take time independent  of any location now\n",
    "    local_time_new = datetime(local_time.year,local_time.month,local_time.day,local_time.hour,local_time.minute,local_time.second)\n",
    "    local_time_midnight = datetime(local_time_new.year,local_time_new.month,local_time_new.day)\n",
    "    dt_hour = (local_time_new -local_time_midnight).seconds/3600.\n",
    "\n",
    "    # we took the previous night mid-night , must subtract 24H\n",
    "    if dt_hour > 12.:\n",
    "        dt_hour_new = (dt_hour - 24.)\n",
    "    else:\n",
    "        dt_hour_new = dt_hour\n",
    "        \n",
    "    return dt_hour_new"
   ]
  },
  {
   "cell_type": "code",
   "execution_count": null,
   "id": "05bfba4e-45f5-4020-953f-b6205001b698",
   "metadata": {
    "execution": {
     "iopub.execute_input": "2024-12-10T21:44:17.096917Z",
     "iopub.status.busy": "2024-12-10T21:44:17.096801Z",
     "iopub.status.idle": "2024-12-10T21:44:19.601587Z",
     "shell.execute_reply": "2024-12-10T21:44:19.601038Z",
     "shell.execute_reply.started": "2024-12-10T21:44:17.096906Z"
    }
   },
   "outputs": [],
   "source": [
    "df_spec[\"dt_midnight\"] = df_spec.apply(GetTimeToMidNight,axis=1)"
   ]
  },
  {
   "cell_type": "markdown",
   "id": "649915d4-df38-43ae-8b7a-f0f72e70590d",
   "metadata": {},
   "source": [
    "### Compute Date relative to January"
   ]
  },
  {
   "cell_type": "code",
   "execution_count": null,
   "id": "e5e99394-ff09-4ab6-b0c0-0fccce1be86c",
   "metadata": {
    "execution": {
     "iopub.execute_input": "2024-12-10T21:44:19.602392Z",
     "iopub.status.busy": "2024-12-10T21:44:19.602229Z",
     "iopub.status.idle": "2024-12-10T21:44:19.605575Z",
     "shell.execute_reply": "2024-12-10T21:44:19.605187Z",
     "shell.execute_reply.started": "2024-12-10T21:44:19.602376Z"
    }
   },
   "outputs": [],
   "source": [
    "def GetDateToMidJanuary(row):\n",
    "    observing_time = Time(row['DATE-OBS'], scale='utc', location=observing_location)\n",
    "\n",
    "    # time at the location , either before or after midnight\n",
    "    local_time =  observing_time.to_datetime(timezone=tz)\n",
    "\n",
    "    # take time independent  of any location now\n",
    "    local_time_new = datetime(2024,local_time.month,local_time.day,local_time.hour,local_time.minute,local_time.second)\n",
    "           \n",
    "    return pd.to_datetime(local_time_new)"
   ]
  },
  {
   "cell_type": "code",
   "execution_count": null,
   "id": "2e991a33-84e9-4766-98fb-665bada15c6d",
   "metadata": {
    "execution": {
     "iopub.execute_input": "2024-12-10T21:44:19.606149Z",
     "iopub.status.busy": "2024-12-10T21:44:19.606021Z",
     "iopub.status.idle": "2024-12-10T21:44:19.612999Z",
     "shell.execute_reply": "2024-12-10T21:44:19.612665Z",
     "shell.execute_reply.started": "2024-12-10T21:44:19.606137Z"
    }
   },
   "outputs": [],
   "source": [
    "#df_spec[\"Time_january\"] = df_spec.apply(GetDateToMidJanuary,axis=1)"
   ]
  },
  {
   "cell_type": "code",
   "execution_count": null,
   "id": "42779ad2-8f3f-44c7-9a0b-a9dcb33065e9",
   "metadata": {
    "execution": {
     "iopub.execute_input": "2024-12-10T21:44:19.613482Z",
     "iopub.status.busy": "2024-12-10T21:44:19.613370Z",
     "iopub.status.idle": "2024-12-10T21:44:19.619560Z",
     "shell.execute_reply": "2024-12-10T21:44:19.619225Z",
     "shell.execute_reply.started": "2024-12-10T21:44:19.613471Z"
    }
   },
   "outputs": [],
   "source": [
    "def GetDateToMidJanuaryAndYear(row):\n",
    "    observing_time = Time(row['DATE-OBS'], scale='utc', location=observing_location)\n",
    "\n",
    "    # time at the location , either before or after midnight\n",
    "    local_time =  observing_time.to_datetime(timezone=tz)\n",
    "\n",
    "    # take time independent  of any location now\n",
    "    local_time_new = datetime(2024,local_time.month,local_time.day,local_time.hour,local_time.minute,local_time.second)\n",
    "           \n",
    "    return pd.to_datetime(local_time_new),local_time.year "
   ]
  },
  {
   "cell_type": "code",
   "execution_count": null,
   "id": "3e747bbc-1357-447b-8cfb-1b22573f022c",
   "metadata": {
    "execution": {
     "iopub.execute_input": "2024-12-10T21:44:19.620094Z",
     "iopub.status.busy": "2024-12-10T21:44:19.619978Z",
     "iopub.status.idle": "2024-12-10T21:44:22.851125Z",
     "shell.execute_reply": "2024-12-10T21:44:22.850700Z",
     "shell.execute_reply.started": "2024-12-10T21:44:19.620083Z"
    }
   },
   "outputs": [],
   "source": [
    "df_spec[[\"Time_january\",\"Year\"]] = df_spec.apply(GetDateToMidJanuaryAndYear,axis=1,result_type=\"expand\")"
   ]
  },
  {
   "cell_type": "code",
   "execution_count": null,
   "id": "4076ca2e-03ea-4373-8b55-fdb6ae49de51",
   "metadata": {
    "execution": {
     "iopub.execute_input": "2024-12-10T21:44:22.851776Z",
     "iopub.status.busy": "2024-12-10T21:44:22.851648Z",
     "iopub.status.idle": "2024-12-10T21:44:22.861082Z",
     "shell.execute_reply": "2024-12-10T21:44:22.860712Z",
     "shell.execute_reply.started": "2024-12-10T21:44:22.851764Z"
    }
   },
   "outputs": [],
   "source": [
    "df_spec[[\"Time_january\",\"Year\"]]"
   ]
  },
  {
   "cell_type": "markdown",
   "id": "90783a42-5ed9-4ad8-8457-bbe1569413fe",
   "metadata": {},
   "source": [
    "## Compute night boundaries"
   ]
  },
  {
   "cell_type": "code",
   "execution_count": null,
   "id": "0ee7679a-ea50-4190-9400-664370a6b7f0",
   "metadata": {
    "execution": {
     "iopub.execute_input": "2024-12-10T21:44:22.861636Z",
     "iopub.status.busy": "2024-12-10T21:44:22.861514Z",
     "iopub.status.idle": "2024-12-10T21:44:22.864702Z",
     "shell.execute_reply": "2024-12-10T21:44:22.864329Z",
     "shell.execute_reply.started": "2024-12-10T21:44:22.861624Z"
    },
    "tags": []
   },
   "outputs": [],
   "source": [
    "def GetNightBoundariesDict(df_spec):\n",
    "    \"\"\"\n",
    "    input:\n",
    "      df_spec the dataframe for spectroscopy summary results\n",
    "    output:\n",
    "      the dict of night boudaries\n",
    "    \"\"\"\n",
    "    \n",
    "    Dt = pd.Timedelta(minutes=30)\n",
    "    d = {}\n",
    "    list_of_nightobs = df_spec[\"nightObs\"].unique()\n",
    "    for nightobs in list_of_nightobs:\n",
    "        sel_flag = df_spec[\"nightObs\"]== nightobs\n",
    "        df_night = df_spec[sel_flag]\n",
    "        tmin = df_night[\"Time\"].min()-Dt\n",
    "        tmax = df_night[\"Time\"].max()+Dt\n",
    "        d[nightobs] = (tmin,tmax)\n",
    "    return d"
   ]
  },
  {
   "cell_type": "code",
   "execution_count": null,
   "id": "b4e4e1eb-c4c1-4bdf-b88f-b44bd55b2435",
   "metadata": {
    "execution": {
     "iopub.execute_input": "2024-12-10T21:44:22.865338Z",
     "iopub.status.busy": "2024-12-10T21:44:22.865217Z",
     "iopub.status.idle": "2024-12-10T21:44:22.942859Z",
     "shell.execute_reply": "2024-12-10T21:44:22.942454Z",
     "shell.execute_reply.started": "2024-12-10T21:44:22.865326Z"
    },
    "tags": []
   },
   "outputs": [],
   "source": [
    "dn = GetNightBoundariesDict(df_spec)"
   ]
  },
  {
   "cell_type": "markdown",
   "id": "564f9a05-b3e2-4d61-9457-cda76ebd2a1b",
   "metadata": {},
   "source": [
    "## Apply Quality selection cuts"
   ]
  },
  {
   "cell_type": "code",
   "execution_count": null,
   "id": "51bff128-4de1-4396-ac64-e56336d8dd67",
   "metadata": {
    "execution": {
     "iopub.execute_input": "2024-12-10T21:44:22.943440Z",
     "iopub.status.busy": "2024-12-10T21:44:22.943318Z",
     "iopub.status.idle": "2024-12-10T21:44:22.946568Z",
     "shell.execute_reply": "2024-12-10T21:44:22.946195Z",
     "shell.execute_reply.started": "2024-12-10T21:44:22.943428Z"
    }
   },
   "outputs": [],
   "source": [
    "def getSelectionCut(df_spec, chi2max=20., pwvmin=0.1, pwvmax = 14.9,ozmin=100.,ozmax=600.):\n",
    "    cut =  (df_spec[\"CHI2_FIT\"]<chi2max) & (df_spec[\"PWV [mm]_x\"] > pwvmin) & (df_spec[\"PWV [mm]_x\"] < pwvmax) & (df_spec[\"D2CCD\"]>186.5) &  (df_spec[\"D2CCD\"]<187.3) & \\\n",
    "    (df_spec['EXPTIME'] > 20.) & (df_spec[\"PWV [mm]_y\"] > pwvmin) & (df_spec[\"PWV [mm]_y\"] < pwvmax) & \\\n",
    "    (df_spec[\"ozone [db]_y\"] > ozmin) & (df_spec[\"ozone [db]_y\"] < ozmax) \n",
    "    return cut"
   ]
  },
  {
   "cell_type": "code",
   "execution_count": null,
   "id": "99017666-4267-4f7c-a926-2da40fe78c00",
   "metadata": {
    "execution": {
     "iopub.execute_input": "2024-12-10T21:44:22.947022Z",
     "iopub.status.busy": "2024-12-10T21:44:22.946907Z",
     "iopub.status.idle": "2024-12-10T21:44:22.953549Z",
     "shell.execute_reply": "2024-12-10T21:44:22.953180Z",
     "shell.execute_reply.started": "2024-12-10T21:44:22.947011Z"
    }
   },
   "outputs": [],
   "source": [
    "def getSelectionCutNoPolar(df_spec, chi2max=20., pwvmin=0.1, pwvmax = 14.9,ozmin=100.,ozmax=600.):\n",
    "    cut =  (df_spec[\"CHI2_FIT\"]<chi2max) & (df_spec[\"PWV [mm]_x\"] > pwvmin) & (df_spec[\"PWV [mm]_x\"] < pwvmax) & (df_spec[\"D2CCD\"]>186.5) &  (df_spec[\"D2CCD\"]<187.3) & \\\n",
    "    (df_spec['EXPTIME'] > 20.) & (df_spec[\"PWV [mm]_y\"] > pwvmin) & (df_spec[\"PWV [mm]_y\"] < pwvmax) & \\\n",
    "    (df_spec[\"ozone [db]_y\"] > ozmin) & (df_spec[\"ozone [db]_y\"] < ozmax) & (df_spec[\"TARGET\"] != \"HD185975\")\n",
    "    return cut"
   ]
  },
  {
   "cell_type": "code",
   "execution_count": null,
   "id": "19b35b65-0191-4f70-9623-b3ecaeebe96e",
   "metadata": {
    "execution": {
     "iopub.execute_input": "2024-12-10T21:44:22.954312Z",
     "iopub.status.busy": "2024-12-10T21:44:22.954056Z",
     "iopub.status.idle": "2024-12-10T21:44:22.960533Z",
     "shell.execute_reply": "2024-12-10T21:44:22.960212Z",
     "shell.execute_reply.started": "2024-12-10T21:44:22.954300Z"
    }
   },
   "outputs": [],
   "source": [
    "def getSelectionCutWithPolar(df_spec, chi2max=20., pwvmin=0.1, pwvmax = 14.9,ozmin=100.,ozmax=600.):\n",
    "    cut =  (df_spec[\"CHI2_FIT\"]<chi2max) & (df_spec[\"PWV [mm]_x\"] > pwvmin) & (df_spec[\"PWV [mm]_x\"] < pwvmax) & (df_spec[\"D2CCD\"]>186.5) &  (df_spec[\"D2CCD\"]<187.3) & \\\n",
    "    (df_spec['EXPTIME'] > 20.) & (df_spec[\"PWV [mm]_y\"] > pwvmin) & (df_spec[\"PWV [mm]_y\"] < pwvmax) & \\\n",
    "    (df_spec[\"ozone [db]_y\"] > ozmin) & (df_spec[\"ozone [db]_y\"] < ozmax) & (df_spec[\"TARGET\"] == \"HD185975\")\n",
    "    return cut"
   ]
  },
  {
   "cell_type": "code",
   "execution_count": null,
   "id": "1b675e35-55ff-41af-82bf-85bb4c3267be",
   "metadata": {
    "execution": {
     "iopub.execute_input": "2024-12-10T21:44:22.961035Z",
     "iopub.status.busy": "2024-12-10T21:44:22.960920Z",
     "iopub.status.idle": "2024-12-10T21:44:22.974702Z",
     "shell.execute_reply": "2024-12-10T21:44:22.974348Z",
     "shell.execute_reply.started": "2024-12-10T21:44:22.961024Z"
    },
    "tags": []
   },
   "outputs": [],
   "source": [
    "cut = getSelectionCut(df_spec) \n",
    "cut_nopolar = getSelectionCutNoPolar(df_spec) \n",
    "cut_nopolar_bright = getSelectionCutNoPolar(df_spec) & (~df_spec[\"isFaint\"])\n",
    "cut_nopolar_faint = getSelectionCutNoPolar(df_spec) & (df_spec[\"isFaint\"])\n",
    "cut_wthpolar = getSelectionCutWithPolar(df_spec)"
   ]
  },
  {
   "cell_type": "code",
   "execution_count": null,
   "id": "e1cbfa40-4395-47f4-9acf-6a9f531fabd4",
   "metadata": {
    "execution": {
     "iopub.execute_input": "2024-12-10T21:44:22.978026Z",
     "iopub.status.busy": "2024-12-10T21:44:22.977901Z",
     "iopub.status.idle": "2024-12-10T21:44:22.983597Z",
     "shell.execute_reply": "2024-12-10T21:44:22.983228Z",
     "shell.execute_reply.started": "2024-12-10T21:44:22.978014Z"
    }
   },
   "outputs": [],
   "source": [
    "df_spec_sel = df_spec[cut]\n",
    "df_spec_np = df_spec[cut_nopolar] \n",
    "df_spec_np_b = df_spec[cut_nopolar_bright]\n",
    "df_spec_np_f = df_spec[cut_nopolar_faint]\n",
    "df_spec_wp = df_spec[cut_wthpolar]"
   ]
  },
  {
   "cell_type": "code",
   "execution_count": null,
   "id": "3c2b44e0-c554-4265-8caf-25b77c33ab1c",
   "metadata": {
    "execution": {
     "iopub.execute_input": "2024-12-10T21:44:22.984191Z",
     "iopub.status.busy": "2024-12-10T21:44:22.984033Z",
     "iopub.status.idle": "2024-12-10T21:44:22.987248Z",
     "shell.execute_reply": "2024-12-10T21:44:22.986844Z",
     "shell.execute_reply.started": "2024-12-10T21:44:22.984178Z"
    }
   },
   "outputs": [],
   "source": [
    "print(\"Total number of Spectra          : \",len(df_spec))\n",
    "print(\"Number of selected Spectra       : \",len(df_spec_sel))\n",
    "print(\"Number of selected Polars        : \",len(df_spec_wp))\n",
    "print(\"Number of selected Non-Polars    : \",len(df_spec_np))\n",
    "print(\"Number of selected Non-Polars Bright : \",len(df_spec_np_b))\n",
    "print(\"Number of selected Non-Polars Faint  : \",len(df_spec_np_f))"
   ]
  },
  {
   "cell_type": "code",
   "execution_count": null,
   "id": "bae62b07-17d4-423e-bdfe-634272a040a2",
   "metadata": {
    "execution": {
     "iopub.execute_input": "2024-12-10T21:44:22.987766Z",
     "iopub.status.busy": "2024-12-10T21:44:22.987649Z",
     "iopub.status.idle": "2024-12-10T21:44:22.993353Z",
     "shell.execute_reply": "2024-12-10T21:44:22.992997Z",
     "shell.execute_reply.started": "2024-12-10T21:44:22.987755Z"
    },
    "tags": []
   },
   "outputs": [],
   "source": [
    "df_spec_sel.reset_index(drop=True,inplace=True)\n",
    "df_spec_np.reset_index(drop=True,inplace=True)\n",
    "df_spec_wp.reset_index(drop=True,inplace=True) \n",
    "df_spec_np_b.reset_index(drop=True,inplace=True)\n",
    "df_spec_np_f.reset_index(drop=True,inplace=True)"
   ]
  },
  {
   "cell_type": "code",
   "execution_count": null,
   "id": "cef3e8dd-b2b7-4fcb-a676-3cef4d07f6c7",
   "metadata": {
    "execution": {
     "iopub.execute_input": "2024-12-10T21:44:22.993832Z",
     "iopub.status.busy": "2024-12-10T21:44:22.993716Z",
     "iopub.status.idle": "2024-12-10T21:44:23.000918Z",
     "shell.execute_reply": "2024-12-10T21:44:23.000551Z",
     "shell.execute_reply.started": "2024-12-10T21:44:22.993820Z"
    }
   },
   "outputs": [],
   "source": [
    "#List_Of_Faint_targets = ['Feige110','HD074000','HD115169','HD031128','HD200654','HD167060','HD009051','HD142331','HD160617','HD111980']\n",
    "print(\"Polar            :\",len(df_spec_wp[\"TARGET\"].unique()),\"\\t\", df_spec_wp[\"TARGET\"].unique()) \n",
    "print(\"Non Polar        :\",len(df_spec_np[\"TARGET\"].unique()),\"\\t\" ,df_spec_np[\"TARGET\"].unique())\n",
    "print(\"Non Polar Bright :\",len(df_spec_np_b[\"TARGET\"].unique()),\"\\t\" ,df_spec_np_b[\"TARGET\"].unique())\n",
    "print(\"Non Polar Faint  :\",len(df_spec_np_f[\"TARGET\"].unique()),\"\\t\",df_spec_np_f[\"TARGET\"].unique())"
   ]
  },
  {
   "cell_type": "code",
   "execution_count": null,
   "id": "1e41540b-d7cd-49c8-88dc-4175db604a17",
   "metadata": {
    "execution": {
     "iopub.execute_input": "2024-12-10T21:44:23.001429Z",
     "iopub.status.busy": "2024-12-10T21:44:23.001309Z",
     "iopub.status.idle": "2024-12-10T21:44:23.005558Z",
     "shell.execute_reply": "2024-12-10T21:44:23.005225Z",
     "shell.execute_reply.started": "2024-12-10T21:44:23.001418Z"
    },
    "tags": []
   },
   "outputs": [],
   "source": [
    "#dn = GetNightBoundariesDict(df_spec_sel)"
   ]
  },
  {
   "cell_type": "markdown",
   "id": "1cfdea9d-38b1-49a9-8c79-66ff02b11a6d",
   "metadata": {},
   "source": [
    "## Check saved hdf5 files"
   ]
  },
  {
   "cell_type": "code",
   "execution_count": null,
   "id": "49865b30-2e72-47f4-b9c1-e15ac7dfb2f2",
   "metadata": {
    "execution": {
     "iopub.execute_input": "2024-12-10T21:44:23.006041Z",
     "iopub.status.busy": "2024-12-10T21:44:23.005928Z",
     "iopub.status.idle": "2024-12-10T21:44:23.013868Z",
     "shell.execute_reply": "2024-12-10T21:44:23.013511Z",
     "shell.execute_reply.started": "2024-12-10T21:44:23.006030Z"
    }
   },
   "outputs": [],
   "source": [
    "list_of_hdf5_files = sorted(os.listdir(datapath_input))\n",
    "list_of_hdf5_files"
   ]
  },
  {
   "cell_type": "markdown",
   "id": "27409058-ef58-4587-a345-961771430822",
   "metadata": {},
   "source": [
    "## Per night transmission at airmass z=1"
   ]
  },
  {
   "cell_type": "code",
   "execution_count": null,
   "id": "47ad5faa-f87f-42d2-a712-88903d6765d9",
   "metadata": {
    "execution": {
     "iopub.execute_input": "2024-12-10T21:44:23.014369Z",
     "iopub.status.busy": "2024-12-10T21:44:23.014249Z",
     "iopub.status.idle": "2024-12-10T21:44:23.017850Z",
     "shell.execute_reply": "2024-12-10T21:44:23.017425Z",
     "shell.execute_reply.started": "2024-12-10T21:44:23.014357Z"
    }
   },
   "outputs": [],
   "source": [
    "#colormap = cm.jet \n",
    "#normalize = mcolors.Normalize(vmin=np.min(airmass), vmax=np.max(airmass))"
   ]
  },
  {
   "cell_type": "code",
   "execution_count": null,
   "id": "c099c35d-b4b1-4476-a951-4df3b5a597f7",
   "metadata": {
    "execution": {
     "iopub.execute_input": "2024-12-10T21:44:23.018390Z",
     "iopub.status.busy": "2024-12-10T21:44:23.018273Z"
    }
   },
   "outputs": [],
   "source": [
    "XMIN=350.\n",
    "XMAX=1050.\n",
    "XMINSEL = 380.\n",
    "XMAXSEL=980.\n",
    "FLAG_SHOWGREYPATCHS = True\n",
    "\n",
    "\n",
    "all_figs_to_pdf = []\n",
    "all_night_dict = []\n",
    "all_night_dateobs = []\n",
    "\n",
    "for idx_file,fname in enumerate(list_of_hdf5_files):\n",
    "    ffname = os.path.join(datapath_input,fname)\n",
    "    night_dict = readhdf5_pernightspectra(ffname)\n",
    "    dateobs = int(re.findall(\"^spectra_transmission_(.*)[.]h5\",fname)[0])\n",
    "\n",
    "    all_night_dict.append(night_dict)\n",
    "    all_night_dateobs.append(dateobs)\n",
    "\n",
    "    # find the airmasses\n",
    "    Nobs = len(night_dict)\n",
    "    all_airmasses = np.zeros(Nobs)\n",
    "    all_dt = np.zeros(Nobs)\n",
    "    all_targets = []\n",
    "    for idx,key in enumerate(night_dict.keys()):\n",
    "        all_airmasses[idx]  = night_dict[key]['attr']['airmass']\n",
    "        all_dt[idx] = night_dict[key]['attr']['dt_midnight']\n",
    "        all_targets.append(night_dict[key]['attr']['target'])\n",
    "\n",
    "    list_of_targets = np.array(all_targets)\n",
    "    list_of_targets = np.unique(list_of_targets)\n",
    "    textstr_targets = '\\n'.join(list_of_targets)\n",
    "    Ntargets = len(list_of_targets) \n",
    "        \n",
    "    colormap = cm.jet \n",
    "    normalize = mcolors.Normalize(vmin=np.min(all_airmasses), vmax=np.max(all_airmasses))\n",
    "    \n",
    "    # Colorbar setup\n",
    "    s_map = cm.ScalarMappable(norm=normalize, cmap=colormap)\n",
    "    s_map.set_array(all_airmasses)\n",
    "\n",
    "    zmin = all_airmasses.min()\n",
    "    zmax = all_airmasses.max()\n",
    "    \n",
    "    textstr = '\\n'.join((\n",
    "    r'$N_{spec}=%.0f$' % (Nobs, ),\n",
    "    f' {zmin:.2f} < airmass < {zmax:.2f}' ))\n",
    "\n",
    "\n",
    "    all_colors = []\n",
    "    \n",
    "    #fig,ax = plt.subplots(1,1,figsize=(12,6))\n",
    "\n",
    "    fig = plt.figure(figsize=(12,10),constrained_layout=True)\n",
    "    gs = fig.add_gridspec(2, 1,height_ratios=[4,1.5])\n",
    "    ax = fig.add_subplot(gs[0,0])\n",
    "    ax1 = fig.add_subplot(gs[1,0])\n",
    "\n",
    "    \n",
    "    for key in night_dict.keys():\n",
    "\n",
    "        the_airmass = night_dict[key]['attr']['airmass']\n",
    "        the_color = colormap(normalize(the_airmass))\n",
    "        all_colors.append(the_color) \n",
    "        \n",
    "        the_datasets =  night_dict[key][\"datasets\"]\n",
    "        wls = the_datasets['wls']\n",
    "        transm = the_datasets['transm_atz12']\n",
    "        ax.plot(wls,transm,color=the_color)\n",
    "        transm =  the_datasets['transm_atz12']\n",
    "        the_attributes =  night_dict[key][\"attr\"]\n",
    "        \n",
    "    ax.set_ylim(0,1.2)  \n",
    "\n",
    "    if FLAG_SHOWGREYPATCHS:\n",
    "        ax.set_xlim(XMIN,XMAX)  \n",
    "        ax.axvspan(XMIN,XMINSEL, alpha=0.5, color='grey')\n",
    "        ax.axvspan(XMAXSEL,XMAX, alpha=0.5, color='grey')\n",
    "    else: \n",
    "        ax.set_xlim(XMINSEL,XMAXSEL)\n",
    "\n",
    "    \n",
    "    ax.grid()\n",
    "    #ax.axvline(486.86,lw=1,color=\"k\")\n",
    "    #ax.axvline(656.279,lw=1,color=\"k\")\n",
    "\n",
    "    ax.text(0.1, 0.2, textstr, transform=ax.transAxes, fontsize=14,verticalalignment='top', bbox=props)\n",
    "    ax.text(0.78, 0.02*(Ntargets-1), textstr_targets,transform=ax.transAxes, fontsize=14,verticalalignment='bottom', bbox=props)  \n",
    "    \n",
    "    cbar = fig.colorbar(s_map,ax=ax)\n",
    "    cbar.set_label(\"Airmass $z$\")\n",
    "\n",
    "    ax.axvline(490.00,lw=1,color=\"k\",ls=\":\")\n",
    "    ax.axvline(650.00,lw=1,color=\"k\",ls=\":\")\n",
    "    ax.set_xlabel(\"$\\\\lambda$ (nm)\")\n",
    "    ax.set_ylabel(\"transmission at z=1\")\n",
    "    ax.set_title(f\"atmospheric transmission for night {dateobs}\")\n",
    "\n",
    "\n",
    "    ax1.scatter(all_dt,all_airmasses,marker=\"o\",color=all_colors) \n",
    "    #ax1.set_ylim(zmax*1.1,zmin*0.9)\n",
    "    ax1.set_ylim(2.6,0.9)\n",
    "    ax1.set_ylabel(\"airmass\")\n",
    "    ax1.set_xlabel(\"time since midnight (hours)\")\n",
    "    ax1.grid()\n",
    "\n",
    "    for idx, target in enumerate(all_targets):\n",
    "        ax1.text(all_dt[idx], 2.5, target,color=all_colors[idx],rotation=\"vertical\",fontsize=10)\n",
    "    \n",
    "\n",
    "\n",
    "\n",
    "    # save fig in fig container\n",
    "\n",
    "    all_figs_to_pdf.append(fig) \n",
    "\n",
    "    # save individual figures\n",
    "    figname =f\"{pathfigs}/annnighttransmissionam1_{dateobs}\"+figtype\n",
    "    plt.savefig(figname)\n",
    "      \n",
    "\n",
    "\n",
    "    plt.show()\n",
    "\n",
    "    #if idx_file == 0:\n",
    "    #    break\n",
    "\n",
    "      "
   ]
  },
  {
   "cell_type": "markdown",
   "id": "edbbf96e-831a-45e6-b6b8-1656b7877f59",
   "metadata": {},
   "source": [
    "### Save all transmission curves "
   ]
  },
  {
   "cell_type": "code",
   "execution_count": null,
   "id": "461fc098-f189-4002-bf4e-a740c1547c36",
   "metadata": {},
   "outputs": [],
   "source": [
    "from matplotlib.backends.backend_pdf import PdfPages"
   ]
  },
  {
   "cell_type": "code",
   "execution_count": null,
   "id": "8e635ad5-86fd-46e1-bb77-28f3e79d19b7",
   "metadata": {},
   "outputs": [],
   "source": [
    "pdf_filename = f\"holo_night_transmissionsz1_tight.pdf\"\n",
    "pdf_fullfilename = os.path.join(pathfigs,pdf_filename)\n",
    "with PdfPages(pdf_fullfilename) as pdf:\n",
    "    for fig in all_figs_to_pdf:\n",
    "        pdf.savefig(fig, bbox_inches='tight') "
   ]
  },
  {
   "cell_type": "code",
   "execution_count": null,
   "id": "d0b124c2-6362-4725-b96b-6b4c1fea7b1b",
   "metadata": {},
   "outputs": [],
   "source": [
    "pdf_filename = f\"holo_night_transmissionsz1_nottight.pdf\"\n",
    "pdf_fullfilename = os.path.join(pathfigs,pdf_filename)\n",
    "with PdfPages(pdf_fullfilename) as pdf:\n",
    "    for fig in all_figs_to_pdf:\n",
    "        pdf.savefig(fig) "
   ]
  },
  {
   "cell_type": "markdown",
   "id": "75530457-fdf2-4495-ade4-9a170e0ff849",
   "metadata": {},
   "source": [
    "## Per ngiht transmission between Hbeta and Halpha\n",
    "\n",
    "- find photometric nights\n",
    "- airmass bias"
   ]
  },
  {
   "cell_type": "code",
   "execution_count": null,
   "id": "d5cd07a7-0af8-4d68-9c3c-f2b068cb89e2",
   "metadata": {},
   "outputs": [],
   "source": [
    "def decode_transm_fromnightdict(night_dict):\n",
    "    \"\"\"\n",
    "    \"\"\"\n",
    "    wl_sel = np.arange(490,650,1)\n",
    "    Nwl = len(wl_sel)\n",
    "    Nt = len(night_dict.keys())\n",
    "    all_transm_sel = np.zeros((Nt ,Nwl))\n",
    "    all_airmass = np.zeros(Nt)\n",
    "    for idx,key in enumerate(night_dict.keys()):\n",
    "        the_datasets =  night_dict[key][\"datasets\"]\n",
    "        the_attributes =  night_dict[key][\"attr\"]\n",
    "        wls = the_datasets['wls']\n",
    "        transm = the_datasets['transm_atz12']\n",
    "        func = interpolate.interp1d(wls,transm,kind='linear',  bounds_error=False, fill_value=0,assume_sorted=False)\n",
    "        transm_sel = func(wl_sel)\n",
    "        all_transm_sel[idx,:]= transm_sel\n",
    "        all_airmass[idx] = the_attributes['airmass']\n",
    "\n",
    "    return wl_sel, all_transm_sel,all_airmass"
   ]
  },
  {
   "cell_type": "code",
   "execution_count": null,
   "id": "bfec8162-5151-4572-a3fc-88f9db7b4f8f",
   "metadata": {},
   "outputs": [],
   "source": [
    "def decode_transm_fromnightdict_v2(night_dict):\n",
    "    \"\"\"\n",
    "    \"\"\"\n",
    "    wl_sel = np.arange(490,650,1)\n",
    "    Nwl = len(wl_sel)\n",
    "    Nt = len(night_dict.keys())\n",
    "    all_transm_sel1 = np.zeros((Nt ,Nwl))\n",
    "    all_transm_sel2 = np.zeros((Nt ,Nwl))\n",
    "    all_airmass = np.zeros(Nt)\n",
    "    for idx,key in enumerate(night_dict.keys()):\n",
    "        the_datasets =  night_dict[key][\"datasets\"]\n",
    "        the_attributes =  night_dict[key][\"attr\"]\n",
    "        wls = the_datasets['wls']\n",
    "        transm1 = the_datasets['transm_atz1']\n",
    "        transm2 = the_datasets['transm_atz12']\n",
    "        func1 = interpolate.interp1d(wls,transm1,kind='linear',  bounds_error=False, fill_value=0,assume_sorted=False)\n",
    "        func2 = interpolate.interp1d(wls,transm2,kind='linear',  bounds_error=False, fill_value=0,assume_sorted=False)\n",
    "        transm_sel1 = func1(wl_sel)\n",
    "        transm_sel2 = func2(wl_sel)\n",
    "        all_transm_sel1[idx,:]= transm_sel1\n",
    "        all_transm_sel2[idx,:]= transm_sel2\n",
    "        all_airmass[idx] = the_attributes['airmass']\n",
    "\n",
    "    return wl_sel, all_transm_sel1,all_transm_sel2,all_airmass"
   ]
  },
  {
   "cell_type": "code",
   "execution_count": null,
   "id": "f464ce5d-7ba9-4c08-9e1a-b68eda45c45f",
   "metadata": {},
   "outputs": [],
   "source": [
    "def plot_transm_betweenhbetahalpha(wls,transm,airmass,dateobs):\n",
    "  \n",
    "    Nwl = len(wls)\n",
    "    Nt = transm.shape[0]\n",
    "\n",
    "    colormap = cm.jet \n",
    "    normalize = mcolors.Normalize(vmin=np.min(airmass), vmax=np.max(airmass))\n",
    "    # Colorbar setup\n",
    "    s_map = cm.ScalarMappable(norm=normalize, cmap=colormap)\n",
    "    s_map.set_array(airmass)\n",
    "    \n",
    "    \n",
    "    # use constrained_layout=True to align the subplots\n",
    "    fig,(ax1,ax2,ax3) = plt.subplots(3,1,figsize=(12,8),sharex=True,constrained_layout=True)\n",
    "    for idx in range(Nt) :\n",
    "        color = colormap(normalize(airmass[idx]))\n",
    "        ax1.plot(wls,transm[idx,:],color=color)  \n",
    "    ax1.grid()\n",
    "    ax1.set_ylabel(\"transm\")\n",
    "\n",
    "    ax2.errorbar(wls,transm.mean(axis=0),yerr=transm.std(axis=0),color=\"g\")\n",
    "    ax2.set_ylabel(\"mean transm\")\n",
    "    ax2.grid()\n",
    "\n",
    "    ax3.plot(wls,transm.std(axis=0)/transm.mean(axis=0),'b-o')\n",
    "    ax3.set_ylabel(\"dT/T\")\n",
    "    ax3.grid()\n",
    "    ax3.set_xlabel(\"$\\lambda$ (nm)\")\n",
    "\n",
    "    fig1 = ax1.figure\n",
    "    cbar = fig1.colorbar(s_map,ax=ax1)\n",
    "    cbar.set_label(\"Airmass $z$\")\n",
    "\n",
    "    ax1.set_title(f\"atmospheric transmission for night {dateobs}\")\n",
    "\n",
    "    plt.show()"
   ]
  },
  {
   "cell_type": "code",
   "execution_count": null,
   "id": "fa9c0f85-6ee3-4c6e-8cef-b92b5bc34e7a",
   "metadata": {},
   "outputs": [],
   "source": [
    "def plot_transm_betweenhbetahalpha_v2(wls,transm1,transm2,airmass,dateobs):\n",
    "  \n",
    "    Nwl = len(wls)\n",
    "    Nt = transm1.shape[0]\n",
    "\n",
    "    colormap = cm.jet \n",
    "    normalize = mcolors.Normalize(vmin=np.min(airmass), vmax=np.max(airmass))\n",
    "    \n",
    "    # Colorbar setup\n",
    "    s_map = cm.ScalarMappable(norm=normalize, cmap=colormap)\n",
    "    s_map.set_array(airmass)\n",
    "    \n",
    "    \n",
    "    # use constrained_layout=True to align the subplots\n",
    "    fig,axs = plt.subplots(3,2,figsize=(20,8),sharex=True,constrained_layout=True)\n",
    "\n",
    "    ax1 = axs[0,0]\n",
    "    ax2 = axs[1,0]\n",
    "    ax3 = axs[2,0]\n",
    "\n",
    "    ax4 = axs[0,1]\n",
    "    ax5 = axs[1,1]\n",
    "    ax6 = axs[2,1]\n",
    "    \n",
    "    for idx in range(Nt) :\n",
    "        color = colormap(normalize(airmass[idx]))\n",
    "        ax1.plot(wls,transm1[idx,:],color=color)  \n",
    "    ax1.grid()\n",
    "    ax1.set_ylabel(\"transm\")\n",
    "\n",
    "    ax2.errorbar(wls,transm1.mean(axis=0),yerr=transm1.std(axis=0),color=\"g\")\n",
    "    ax2.set_ylabel(\"mean transm\")\n",
    "    ax2.grid()\n",
    "\n",
    "    ax3.plot(wls,transm1.std(axis=0)/transm1.mean(axis=0),'b-o')\n",
    "    ax3.set_ylabel(\"dT/T\")\n",
    "    ax3.grid()\n",
    "    ax3.set_xlabel(\"$\\lambda$ (nm)\")\n",
    "\n",
    "    fig1 = ax1.figure\n",
    "    cbar = fig1.colorbar(s_map,ax=ax1)\n",
    "    cbar.set_label(\"Airmass $z$\")\n",
    "\n",
    "    ax1.set_title(f\"atmospheric transmission for night {dateobs}\")\n",
    "\n",
    "\n",
    "    for idx in range(Nt) :\n",
    "        color = colormap(normalize(airmass[idx]))\n",
    "        ax4.plot(wls,transm2[idx,:],color=color)  \n",
    "    ax4.grid()\n",
    "    ax4.set_ylabel(\"transm\")\n",
    "\n",
    "    ax5.errorbar(wls,transm2.mean(axis=0),yerr=transm2.std(axis=0),color=\"g\")\n",
    "    ax5.set_ylabel(\"mean transm\")\n",
    "    ax5.grid()\n",
    "\n",
    "    ax6.plot(wls,transm2.std(axis=0)/transm2.mean(axis=0),'b-o')\n",
    "    ax6.set_ylabel(\"dT/T\")\n",
    "    ax6.grid()\n",
    "    ax6.set_xlabel(\"$\\lambda$ (nm)\")\n",
    "\n",
    "    fig2 = ax2.figure\n",
    "    cbar = fig2.colorbar(s_map,ax=ax2)\n",
    "    cbar.set_label(\"Airmass $z$\")\n",
    "\n",
    "    ax4.set_title(f\"atmospheric transmission for night {dateobs}\")\n",
    "    \n",
    "\n",
    "    plt.show()"
   ]
  },
  {
   "cell_type": "code",
   "execution_count": null,
   "id": "d569cc2d-402d-471e-8914-530daf2f3bde",
   "metadata": {},
   "outputs": [],
   "source": [
    "#all_night_dict = []\n",
    "#all_night_dateobs = []"
   ]
  },
  {
   "cell_type": "code",
   "execution_count": null,
   "id": "d54983d8-851a-416b-8f19-ee713dcd255c",
   "metadata": {},
   "outputs": [],
   "source": [
    "NN = len(all_night_dict)"
   ]
  },
  {
   "cell_type": "markdown",
   "id": "b870a864-9d53-453c-be45-06188bc6dc36",
   "metadata": {},
   "source": [
    "## Plot"
   ]
  },
  {
   "cell_type": "markdown",
   "id": "19691eae-251d-4b93-979a-1ee1f3f29c21",
   "metadata": {},
   "source": [
    "### Compare calculations to transmission"
   ]
  },
  {
   "cell_type": "code",
   "execution_count": null,
   "id": "d1d60bc4-e8ca-4822-b711-46aae95e7ab4",
   "metadata": {},
   "outputs": [],
   "source": [
    "for idx,night_dict in enumerate(all_night_dict):\n",
    "    dateobs = all_night_dateobs[idx] \n",
    "    wls, transmissions,transmissions2,airmass = decode_transm_fromnightdict_v2(night_dict)\n",
    "    plot_transm_betweenhbetahalpha_v2(wls,transmissions,transmissions2,airmass,dateobs)"
   ]
  },
  {
   "cell_type": "code",
   "execution_count": null,
   "id": "6ef8badf-5d93-47fb-a199-495ed0564964",
   "metadata": {},
   "outputs": [],
   "source": [
    "airmass"
   ]
  },
  {
   "cell_type": "markdown",
   "id": "ce836e19-c42b-459b-accb-37228b807cf9",
   "metadata": {},
   "source": [
    "### Single plot"
   ]
  },
  {
   "cell_type": "code",
   "execution_count": null,
   "id": "df5d46f2-8cb0-495c-ab73-3dbd64b88931",
   "metadata": {},
   "outputs": [],
   "source": [
    "for idx,night_dict in enumerate(all_night_dict):\n",
    "    dateobs = all_night_dateobs[idx] \n",
    "    wls, transmissions,airmass = decode_transm_fromnightdict(night_dict)\n",
    "    plot_transm_betweenhbetahalpha(wls,transmissions,airmass,dateobs)\n",
    "    "
   ]
  },
  {
   "cell_type": "code",
   "execution_count": null,
   "id": "772314e9-0465-4d86-9a8e-4a5a6ec8fc7b",
   "metadata": {},
   "outputs": [],
   "source": [
    "grey_att_spread  = np.zeros(NN) \n",
    "for idx,night_dict in enumerate(all_night_dict):\n",
    "    dateobs = all_night_dateobs[idx] \n",
    "    wls, transmissions,airmass = decode_transm_fromnightdict(night_dict)\n",
    "    grey_att_spread[idx]  = np.mean(transmissions.std(axis=0)/transmissions.mean(axis=0))"
   ]
  },
  {
   "cell_type": "code",
   "execution_count": null,
   "id": "9d25e83b-7761-42b1-a03e-2560b9a4afc5",
   "metadata": {},
   "outputs": [],
   "source": [
    "grey_cut = 0.025\n",
    "fig,(ax,ax2) = plt.subplots(1,2,figsize=(12,4))\n",
    "ax.hist(grey_att_spread,bins=80,facecolor=\"b\")\n",
    "ax.set_xlabel(\"dT/T (mag)\")\n",
    "ax.axvline(grey_cut,color=\"r\")\n",
    "ax.grid()\n",
    "\n",
    "\n",
    "ax2.hist(np.log10(grey_att_spread),bins=50,facecolor=\"b\")\n",
    "ax2.set_xlabel(\"$\\\\log_{10}(dT/T (mag))$\")\n",
    "ax2.axvline(np.log10(grey_cut),color=\"r\")\n",
    "ax2.grid()\n",
    "plt.suptitle(\"Find selection cut for photometric nights \")\n",
    "#ax.set_yscale(\"log\")"
   ]
  },
  {
   "cell_type": "code",
   "execution_count": null,
   "id": "547994bb-5f68-496b-b03c-c62396a2829a",
   "metadata": {},
   "outputs": [],
   "source": [
    "for idx,night_dict in enumerate(all_night_dict):\n",
    "    if grey_att_spread[idx] < grey_cut:\n",
    "        dateobs = all_night_dateobs[idx] \n",
    "        print(f\"{dateobs} ==> grey-disp = {grey_att_spread[idx]:.3f}\")\n",
    "        "
   ]
  },
  {
   "cell_type": "code",
   "execution_count": null,
   "id": "99c34836-b964-486d-871d-f4a96a69b843",
   "metadata": {},
   "outputs": [],
   "source": []
  }
 ],
 "metadata": {
  "kernelspec": {
   "display_name": "LSST",
   "language": "python",
   "name": "lsst"
  },
  "language_info": {
   "codemirror_mode": {
    "name": "ipython",
    "version": 3
   },
   "file_extension": ".py",
   "mimetype": "text/x-python",
   "name": "python",
   "nbconvert_exporter": "python",
   "pygments_lexer": "ipython3",
   "version": "3.11.9"
  }
 },
 "nbformat": 4,
 "nbformat_minor": 5
}
