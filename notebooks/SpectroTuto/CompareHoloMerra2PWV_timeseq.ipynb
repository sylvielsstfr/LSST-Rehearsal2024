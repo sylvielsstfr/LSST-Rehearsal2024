{
 "cells": [
  {
   "cell_type": "markdown",
   "id": "45bf4242-bfc5-4d43-88c4-a8059ae148df",
   "metadata": {},
   "source": [
    "# Compare hologram data with MERRA2 on PWV"
   ]
  },
  {
   "cell_type": "markdown",
   "id": "01993b6e-6438-4fca-a5d5-1f9791336847",
   "metadata": {},
   "source": [
    "- author Sylvie Dagoret-Campagne\n",
    "- affiliation : IJCLab\n",
    "- creation date 2024-10-15 :\n",
    "- last update 2024-10-16 (faint,bright, polar or not)\n",
    "- last update 2024-10-17 with version v5\n",
    "- Kernel @usdf **w_2024_38*\n",
    "- Office emac : mamba_py311\n",
    "- Home emac : base (conda)\n",
    "- laptop : conda_py310"
   ]
  },
  {
   "cell_type": "markdown",
   "id": "0219159d-6865-4311-ac1d-99d11dad223f",
   "metadata": {},
   "source": [
    "**Goal** : Show correlation holo /Merra"
   ]
  },
  {
   "cell_type": "code",
   "execution_count": null,
   "id": "63a2b2ef-0bc2-45eb-91d9-87835d264751",
   "metadata": {
    "tags": []
   },
   "outputs": [],
   "source": [
    "from platform import python_version\n",
    "print(python_version())"
   ]
  },
  {
   "cell_type": "code",
   "execution_count": null,
   "id": "dcc53afe-c58f-4948-92c9-0090d373ad2a",
   "metadata": {},
   "outputs": [],
   "source": [
    "import warnings\n",
    "warnings.resetwarnings()\n",
    "warnings.simplefilter('ignore')"
   ]
  },
  {
   "cell_type": "code",
   "execution_count": null,
   "id": "8026d265-2493-4045-afec-26205ff71f7c",
   "metadata": {
    "tags": []
   },
   "outputs": [],
   "source": [
    "from platform import python_version\n",
    "print(python_version())"
   ]
  },
  {
   "cell_type": "code",
   "execution_count": null,
   "id": "eb1f116e-80e3-46ad-a7db-7f253632e5ca",
   "metadata": {},
   "outputs": [],
   "source": [
    "import os"
   ]
  },
  {
   "cell_type": "code",
   "execution_count": null,
   "id": "3ec760cd-3d3f-4a34-a6f6-b226fe500951",
   "metadata": {},
   "outputs": [],
   "source": [
    "# where are stored the figures\n",
    "pathfigs = \"figsHoloMerra2PWV\"\n",
    "if not os.path.exists(pathfigs):\n",
    "    os.makedirs(pathfigs) \n",
    "figtype = \".png\""
   ]
  },
  {
   "cell_type": "code",
   "execution_count": null,
   "id": "bf752b70-e6ca-4cbf-8e8c-20bf7f0d8f61",
   "metadata": {},
   "outputs": [],
   "source": [
    "import numpy as np\n",
    "from numpy.linalg import inv\n",
    "import matplotlib as mpl\n",
    "import matplotlib.pyplot as plt\n",
    "%matplotlib inline\n",
    "from mpl_toolkits.axes_grid1 import make_axes_locatable\n",
    "from matplotlib.colors import LogNorm,SymLogNorm\n",
    "from matplotlib.patches import Circle,Annulus\n",
    "from astropy.visualization import ZScaleInterval\n",
    "props = dict(boxstyle='round', facecolor=\"white\", alpha=0.1)\n",
    "#props = dict(boxstyle='round')\n",
    "\n",
    "import matplotlib.colors as colors\n",
    "import matplotlib.cm as cmx\n",
    "\n",
    "import matplotlib.ticker                         # here's where the formatter is\n",
    "from matplotlib.ticker import (MultipleLocator, FormatStrFormatter,\n",
    "                               AutoMinorLocator)\n",
    "\n",
    "from matplotlib.gridspec import GridSpec\n",
    "\n",
    "from astropy.visualization import (MinMaxInterval, SqrtStretch,ZScaleInterval,PercentileInterval,\n",
    "                                   ImageNormalize,imshow_norm)\n",
    "from astropy.visualization.stretch import SinhStretch, LinearStretch,AsinhStretch,LogStretch\n",
    "\n",
    "from astropy.io import fits\n",
    "from astropy.wcs import WCS\n",
    "from astropy import units as u\n",
    "from astropy import constants as c\n",
    "\n",
    "from astropy.coordinates.earth import EarthLocation\n",
    "from datetime import datetime\n",
    "from pytz import timezone\n",
    "\n",
    "from scipy import interpolate\n",
    "from sklearn.neighbors import NearestNeighbors\n",
    "from sklearn.neighbors import KDTree, BallTree\n",
    "\n",
    "import pandas as pd\n",
    "pd.set_option(\"display.max_columns\", None)\n",
    "pd.set_option('display.max_rows', 100)\n",
    "\n",
    "import matplotlib.ticker                         # here's where the formatter is\n",
    "import os\n",
    "import re\n",
    "import pandas as pd\n",
    "import pickle\n",
    "from collections import OrderedDict\n",
    "\n",
    "plt.rcParams[\"figure.figsize\"] = (4,3)\n",
    "plt.rcParams[\"axes.labelsize\"] = 'xx-large'\n",
    "plt.rcParams['axes.titlesize'] = 'xx-large'\n",
    "plt.rcParams['xtick.labelsize']= 'xx-large'\n",
    "plt.rcParams['ytick.labelsize']= 'xx-large'\n",
    "\n",
    "import scipy\n",
    "from scipy.optimize import curve_fit,least_squares\n",
    "\n",
    "\n",
    "# new color correction model\n",
    "import pickle\n",
    "from scipy.interpolate import RegularGridInterpolator"
   ]
  },
  {
   "cell_type": "code",
   "execution_count": null,
   "id": "0ca0d1e6-5f82-4c43-aaa3-8524fc2bc5ba",
   "metadata": {},
   "outputs": [],
   "source": [
    "from matplotlib.ticker import (MultipleLocator, FormatStrFormatter,\n",
    "                               AutoMinorLocator)\n",
    "\n",
    "from astropy.visualization import (MinMaxInterval, SqrtStretch,ZScaleInterval,PercentileInterval,\n",
    "                                   ImageNormalize,imshow_norm)\n",
    "from astropy.visualization.stretch import SinhStretch, LinearStretch,AsinhStretch,LogStretch\n",
    "\n",
    "from astropy.time import Time\n"
   ]
  },
  {
   "cell_type": "code",
   "execution_count": null,
   "id": "e189816c-5048-43ab-a01a-7c078af54489",
   "metadata": {},
   "outputs": [],
   "source": [
    "# Remove to run faster the notebook\n",
    "#import ipywidgets as widgets\n",
    "#%matplotlib widget"
   ]
  },
  {
   "cell_type": "code",
   "execution_count": null,
   "id": "67327fd4-e405-45ce-8923-cd46ebaa0c0f",
   "metadata": {
    "tags": []
   },
   "outputs": [],
   "source": [
    "from importlib.metadata import version"
   ]
  },
  {
   "cell_type": "code",
   "execution_count": null,
   "id": "af8332dd-24f9-4b19-88f9-c62d0a4aebf1",
   "metadata": {
    "tags": []
   },
   "outputs": [],
   "source": [
    "# wavelength bin colors\n",
    "#jet = plt.get_cmap('jet')\n",
    "#cNorm = mpl.colors.Normalize(vmin=0, vmax=NSED)\n",
    "#scalarMap = cmx.ScalarMappable(norm=cNorm, cmap=jet)\n",
    "#all_colors = scalarMap.to_rgba(np.arange(NSED), alpha=1)"
   ]
  },
  {
   "cell_type": "code",
   "execution_count": null,
   "id": "1003d9d6-a40f-48b1-9ffc-bfab9f45ba93",
   "metadata": {},
   "outputs": [],
   "source": [
    "np.__version__"
   ]
  },
  {
   "cell_type": "code",
   "execution_count": null,
   "id": "c4cb2652-cb22-432e-b110-ae71d59dc793",
   "metadata": {},
   "outputs": [],
   "source": [
    "pd.__version__"
   ]
  },
  {
   "cell_type": "code",
   "execution_count": null,
   "id": "ad03dc3d-6741-4478-82ba-1d5447529d9a",
   "metadata": {},
   "outputs": [],
   "source": [
    "def convertNumToDatestr(num):\n",
    "    year = num//10_000\n",
    "    month= (num-year*10_000)//100\n",
    "    day = (num-year*10_000-month*100)\n",
    "\n",
    "    year_str = str(year).zfill(4)\n",
    "    month_str = str(month).zfill(2)\n",
    "    day_str = str(day).zfill(2)\n",
    "    \n",
    "    datestr = f\"{year_str}-{month_str}-{day_str}\"\n",
    "    return pd.to_datetime(datestr)"
   ]
  },
  {
   "cell_type": "markdown",
   "id": "4f13d6a3-7793-4bc0-920a-1d690d9f84b2",
   "metadata": {},
   "source": [
    "## Configuration"
   ]
  },
  {
   "cell_type": "code",
   "execution_count": null,
   "id": "c8cb2e48-0b34-4cbf-8379-43f7065112f7",
   "metadata": {},
   "outputs": [],
   "source": [
    "observing_location = EarthLocation.of_site('Rubin Observatory')\n",
    "tz = timezone('America/Santiago')"
   ]
  },
  {
   "cell_type": "markdown",
   "id": "b884e71c-39cb-43e1-9edf-4a2cade9196e",
   "metadata": {},
   "source": [
    "### Spectro Hologram data"
   ]
  },
  {
   "cell_type": "code",
   "execution_count": null,
   "id": "a6d313e9-1621-40fb-a7d8-6d01522c7485",
   "metadata": {},
   "outputs": [],
   "source": [
    "FLAG_WITHCOLLIMATOR = False\n",
    "DATE_WITHCOLLIMATOR = 20230930\n",
    "datetime_WITHCOLLIMATOR = convertNumToDatestr(DATE_WITHCOLLIMATOR)\n",
    "datetime_WITHCOLLIMATOR = pd.to_datetime(\"2023-09-30 00:00:00.0+0000\")\n",
    "datetime_WITHCOLLIMATOR"
   ]
  },
  {
   "cell_type": "code",
   "execution_count": null,
   "id": "5bac0cab-3886-4683-b1c8-fc59edacfd46",
   "metadata": {
    "tags": []
   },
   "outputs": [],
   "source": [
    "version_results = \"v5\"\n",
    "legendtag = {\"v1\" : \"old v3.1.0\",\n",
    "            \"v2\" : \"v3.1.0-PWV<10mm\",\n",
    "            \"v3\" : \"v3.1.0-PWV<15mm\",\n",
    "            \"v4\" : \"Auxtel holo v3.1.0\",\n",
    "            \"v5\" : \"Auxtel holo v3.1.0 09/22 - 10/24\"}"
   ]
  },
  {
   "cell_type": "code",
   "execution_count": null,
   "id": "99436fe6-ad07-4796-b982-7dd89f554f0c",
   "metadata": {
    "tags": []
   },
   "outputs": [],
   "source": [
    "atmfilenamesdict = {\"v1\" : \"data/spectro/auxtel_atmosphere_202301_v3.1.0_doSensorFlat_rebin2_testWithMaskedEdges_newBoundaries_newPolysRescaled_newFitBounds_adjustA1_lockedOrder2_removeThroughputTails_2.npy\",\n",
    "                    \"v2\" : \"auxtel_atmosphere_202301_v3.1.0_doSensorFlat_rebin2_lockedOrder2_FixA1_FixA2_FitAngstrom_FixA1_FixA2_FitAngstrom_WithGaia_freePressure_newThroughput6_BG40Scaled1.09_PeekFinder.npy\",\n",
    "                    \"v3\" : \"u_dagoret_auxtel_atmosphere_202301_v3.1.0_doSensorFlat_rebin2_lockedOrder2_FixA1_FixA2_FitAngstrom_WithGaia_freePressure_newThroughput6_BG40Scaled1.09_AtmoFitPressureA2_SpecErr_PeekFinder_20240924T161119Z.npy\",\n",
    "                    \"v4\" : \"u_dagoret_auxtel_atmosphere_202301_v3.1.0_doSensorFlat_rebin2_lockedOrder2_FixA1_FixA2_FitAngstrom_WithGaia_freePressure_newThroughput6_BG40Scaled1.09_AtmoFitPressureA2_SpecErr_PeekFinder_20240924T161119Z_spectrfullextend.npy\",\n",
    "                    \"v5\" : \"u_dagoret_auxtel_atmosphere_202209_v3.1.0_doSensorFlat_rebin2_lockedOrder2_FixA1_FixA2_FitAngstrom_WithGaia_freePressure_newThroughput6_BG40Scaled1.09_AtmoFitPressureA2_SpecErr_No5SigmaClip_20241016T184601Z_spectrfullextended.npy\"}"
   ]
  },
  {
   "cell_type": "code",
   "execution_count": null,
   "id": "f5ee7d08-244a-462a-b9fc-ff5cd4d3e801",
   "metadata": {
    "tags": []
   },
   "outputs": [],
   "source": [
    "atmfilename = atmfilenamesdict[version_results]\n",
    "tag = legendtag[version_results] "
   ]
  },
  {
   "cell_type": "markdown",
   "id": "6175a4a4-5c98-4e09-8ffd-a17282f6094e",
   "metadata": {},
   "source": [
    "### MERRA2"
   ]
  },
  {
   "cell_type": "code",
   "execution_count": null,
   "id": "d84a85da-768d-459f-8711-54e04f2cff75",
   "metadata": {
    "tags": []
   },
   "outputs": [],
   "source": [
    "filename_m2 = \"../SpectroMerra2/MerradataMerged/Merge_inst1_2d_asm_Nx_M2I1NXASM-2021-2024.csv\""
   ]
  },
  {
   "cell_type": "code",
   "execution_count": null,
   "id": "dd89c1b3-43c8-43ae-b10d-f39e8f8b2963",
   "metadata": {
    "tags": []
   },
   "outputs": [],
   "source": [
    "df_m = pd.read_csv(filename_m2)"
   ]
  },
  {
   "cell_type": "markdown",
   "id": "a30a15de-34f1-4f2b-afb9-52143c1cff27",
   "metadata": {},
   "source": [
    "## Initialisation"
   ]
  },
  {
   "cell_type": "markdown",
   "id": "4053343d-8e37-4402-b49f-c28dbb9e4afb",
   "metadata": {},
   "source": [
    "### Read the file"
   ]
  },
  {
   "cell_type": "code",
   "execution_count": null,
   "id": "ad60336b-f26f-4184-bcdf-e596329ecbbd",
   "metadata": {},
   "outputs": [],
   "source": [
    "specdata = np.load(atmfilename,allow_pickle=True)"
   ]
  },
  {
   "cell_type": "code",
   "execution_count": null,
   "id": "3d9c7249-f818-4a98-8000-9be75b3c7a21",
   "metadata": {},
   "outputs": [],
   "source": [
    "df_spec = pd.DataFrame(specdata)"
   ]
  },
  {
   "cell_type": "code",
   "execution_count": null,
   "id": "a19b591a-d479-4507-b241-81070420c847",
   "metadata": {
    "tags": []
   },
   "outputs": [],
   "source": [
    "list(df_spec.columns)"
   ]
  },
  {
   "cell_type": "markdown",
   "id": "a81b1aa2-7edc-4a24-9c44-c24c3826c18f",
   "metadata": {
    "tags": []
   },
   "source": [
    "### Define if a target is faint or bright"
   ]
  },
  {
   "cell_type": "code",
   "execution_count": null,
   "id": "412e59e0-f026-42d0-b6e1-7e5185c7e9dd",
   "metadata": {
    "tags": []
   },
   "outputs": [],
   "source": [
    "def IsFaint(row):\n",
    "    List_Of_Faint_targets = ['Feige110','HD074000','HD115169','HD031128','HD200654','HD167060','HD009051','HD142331','HD160617','HD111980']\n",
    "    List_Of_faint_selected = List_Of_Faint_targets[:10]\n",
    "    if row[\"TARGET\"] in List_Of_faint_selected:\n",
    "        return True\n",
    "    else:\n",
    "        return False"
   ]
  },
  {
   "cell_type": "code",
   "execution_count": null,
   "id": "07cd52bf-50de-4190-ad3f-d68aaf18039e",
   "metadata": {},
   "outputs": [],
   "source": [
    "df_spec[\"isFaint\"] = df_spec.apply(IsFaint,axis=1)"
   ]
  },
  {
   "cell_type": "markdown",
   "id": "3af3b3b6-7774-4b43-830b-a287c4e3281b",
   "metadata": {},
   "source": [
    "### Compute NightObs"
   ]
  },
  {
   "cell_type": "code",
   "execution_count": null,
   "id": "4de5d570-2e92-468b-ab07-63fffd8d2b8c",
   "metadata": {},
   "outputs": [],
   "source": [
    "df_spec[\"nightObs\"] = df_spec.apply(lambda x: x['id']//100_000, axis=1)"
   ]
  },
  {
   "cell_type": "code",
   "execution_count": null,
   "id": "079b9ebb-4e59-4364-8ffa-f0439e943959",
   "metadata": {},
   "outputs": [],
   "source": [
    "if FLAG_WITHCOLLIMATOR:\n",
    "    df_spec = df_spec[df_spec[\"nightObs\"]> DATE_WITHCOLLIMATOR]"
   ]
  },
  {
   "cell_type": "markdown",
   "id": "a4f8b443-4bc5-46fc-a548-33441edee6da",
   "metadata": {},
   "source": [
    "## Apply Quality selection"
   ]
  },
  {
   "cell_type": "code",
   "execution_count": null,
   "id": "2325b3ff-29c2-445a-b25e-cc11aba4f45a",
   "metadata": {
    "tags": []
   },
   "outputs": [],
   "source": [
    "fig,ax = plt.subplots(1,1)\n",
    "df_spec[\"CHI2_FIT\"].hist(bins=50,ax=ax,range=(0,200))\n",
    "ax.set_yscale(\"log\")"
   ]
  },
  {
   "cell_type": "markdown",
   "id": "a7aaca44-ad09-4883-8a7d-413b71e8b4a2",
   "metadata": {},
   "source": [
    "### Add the Time in pd.datetime"
   ]
  },
  {
   "cell_type": "markdown",
   "id": "6a2222de-f3b7-4678-b2dc-d4c89102e0ab",
   "metadata": {},
   "source": [
    "#### UTC"
   ]
  },
  {
   "cell_type": "code",
   "execution_count": null,
   "id": "0d10c1ad-c5dc-4487-baa9-7c71ec531f45",
   "metadata": {},
   "outputs": [],
   "source": [
    "df_spec[\"Time\"] = pd.to_datetime(df_spec[\"DATE-OBS\"])"
   ]
  },
  {
   "cell_type": "code",
   "execution_count": null,
   "id": "66cfe082-4e0c-4b83-ac40-122ba4c58ec4",
   "metadata": {
    "tags": []
   },
   "outputs": [],
   "source": [
    "DT = pd.Timedelta(minutes=7*24*60)\n",
    "TMIN  = df_spec[\"Time\"].min()-DT\n",
    "TMAX  = df_spec[\"Time\"].max()+DT"
   ]
  },
  {
   "cell_type": "markdown",
   "id": "433fdc22-9674-47c9-a11c-1e6acfc52311",
   "metadata": {
    "tags": []
   },
   "source": [
    "### Compute relative time to Mid-night"
   ]
  },
  {
   "cell_type": "code",
   "execution_count": null,
   "id": "0de9a173-9144-4c45-a93f-f7df8b5905b7",
   "metadata": {},
   "outputs": [],
   "source": [
    "def GetTimeToMidNight(row):\n",
    "    observing_time = Time(row['DATE-OBS'], scale='utc', location=observing_location)\n",
    "\n",
    "    # time at the location , either before or after midnight\n",
    "    local_time =  observing_time.to_datetime(timezone=tz)\n",
    "\n",
    "    # take time independent  of any location now\n",
    "    local_time_new = datetime(local_time.year,local_time.month,local_time.day,local_time.hour,local_time.minute,local_time.second)\n",
    "    local_time_midnight = datetime(local_time_new.year,local_time_new.month,local_time_new.day)\n",
    "    dt_hour = (local_time_new -local_time_midnight).seconds/3600.\n",
    "\n",
    "    # we took the previous night mid-night , must subtract 24H\n",
    "    if dt_hour > 12.:\n",
    "        dt_hour_new = (dt_hour - 24.)\n",
    "    else:\n",
    "        dt_hour_new = dt_hour\n",
    "        \n",
    "    return dt_hour_new"
   ]
  },
  {
   "cell_type": "code",
   "execution_count": null,
   "id": "05bfba4e-45f5-4020-953f-b6205001b698",
   "metadata": {},
   "outputs": [],
   "source": [
    "df_spec[\"dt_midnight\"] = df_spec.apply(GetTimeToMidNight,axis=1)"
   ]
  },
  {
   "cell_type": "code",
   "execution_count": null,
   "id": "154fc415-c965-44c2-8ec0-95f95c1616a3",
   "metadata": {},
   "outputs": [],
   "source": [
    "fig,ax = plt.subplots(1,1,figsize=(6,4))\n",
    "df_spec[\"dt_midnight\"].hist(bins=48,range=(-12,12),ax=ax,facecolor=\"blue\") \n",
    "ax.set_xlabel(\"time relative to midnight (hour)\")\n",
    "ax.set_title(\"Observation time\")"
   ]
  },
  {
   "cell_type": "markdown",
   "id": "649915d4-df38-43ae-8b7a-f0f72e70590d",
   "metadata": {},
   "source": [
    "### Compute Date relative to January"
   ]
  },
  {
   "cell_type": "code",
   "execution_count": null,
   "id": "e5e99394-ff09-4ab6-b0c0-0fccce1be86c",
   "metadata": {},
   "outputs": [],
   "source": [
    "def GetDateToMidJanuary(row):\n",
    "    observing_time = Time(row['DATE-OBS'], scale='utc', location=observing_location)\n",
    "\n",
    "    # time at the location , either before or after midnight\n",
    "    local_time =  observing_time.to_datetime(timezone=tz)\n",
    "\n",
    "    # take time independent  of any location now\n",
    "    local_time_new = datetime(2024,local_time.month,local_time.day,local_time.hour,local_time.minute,local_time.second)\n",
    "           \n",
    "    return pd.to_datetime(local_time_new)"
   ]
  },
  {
   "cell_type": "code",
   "execution_count": null,
   "id": "3e747bbc-1357-447b-8cfb-1b22573f022c",
   "metadata": {},
   "outputs": [],
   "source": [
    "df_spec[\"Time_january\"] = df_spec.apply(GetDateToMidJanuary,axis=1)"
   ]
  },
  {
   "cell_type": "markdown",
   "id": "90783a42-5ed9-4ad8-8457-bbe1569413fe",
   "metadata": {},
   "source": [
    "## Compute night boundaries"
   ]
  },
  {
   "cell_type": "code",
   "execution_count": null,
   "id": "0ee7679a-ea50-4190-9400-664370a6b7f0",
   "metadata": {
    "tags": []
   },
   "outputs": [],
   "source": [
    "def GetNightBoundariesDict(df_spec):\n",
    "    \"\"\"\n",
    "    input:\n",
    "      df_spec the dataframe for spectroscopy summary results\n",
    "    output:\n",
    "      the dict of night boudaries\n",
    "    \"\"\"\n",
    "    \n",
    "    Dt = pd.Timedelta(minutes=30)\n",
    "    d = {}\n",
    "    list_of_nightobs = df_spec[\"nightObs\"].unique()\n",
    "    for nightobs in list_of_nightobs:\n",
    "        sel_flag = df_spec[\"nightObs\"]== nightobs\n",
    "        df_night = df_spec[sel_flag]\n",
    "        tmin = df_night[\"Time\"].min()-Dt\n",
    "        tmax = df_night[\"Time\"].max()+Dt\n",
    "        d[nightobs] = (tmin,tmax)\n",
    "    return d"
   ]
  },
  {
   "cell_type": "code",
   "execution_count": null,
   "id": "b4e4e1eb-c4c1-4bdf-b88f-b44bd55b2435",
   "metadata": {
    "tags": []
   },
   "outputs": [],
   "source": [
    "dn = GetNightBoundariesDict(df_spec)"
   ]
  },
  {
   "cell_type": "markdown",
   "id": "715cae7e-32ff-46c8-8d1a-a7c220a9eaed",
   "metadata": {},
   "source": [
    "## Plot all data"
   ]
  },
  {
   "cell_type": "code",
   "execution_count": null,
   "id": "65acecdf-579d-40c1-baab-b810f62502a6",
   "metadata": {},
   "outputs": [],
   "source": [
    "TMIN"
   ]
  },
  {
   "cell_type": "code",
   "execution_count": null,
   "id": "e3f6b93b-de68-4fb8-b3d0-30b538029939",
   "metadata": {},
   "outputs": [],
   "source": [
    "type(datetime_WITHCOLLIMATOR)"
   ]
  },
  {
   "cell_type": "code",
   "execution_count": null,
   "id": "3fd02994-4a05-4145-8da9-10ac7f5b920a",
   "metadata": {},
   "outputs": [],
   "source": [
    "from matplotlib.dates import DateFormatter\n",
    "#date_form = DateFormatter(\"%y-%m-%dT%H:%M\")\n",
    "date_form = DateFormatter(\"%y-%m-%d\")\n",
    "fig,axs = plt.subplots(1,1,figsize=(14,6))\n",
    "ax  = axs\n",
    "leg=ax.get_legend()\n",
    "\n",
    "ax.set_xlim(TMIN,TMAX) \n",
    "df_m.plot(x=\"Time\",y=\"TQV\",ax=ax,marker=\".\",c=\"b\",lw=0.5,label=\"Merra2\",ms=1,legend=leg)   \n",
    "df_spec.plot(x=\"Time\",y=\"PWV [mm]_x\",ax=ax,marker='+',c=\"r\",lw=0.0,grid=True,label=tag,legend=leg)\n",
    "ax.set_ylabel(\"PWV [mm]_x\")\n",
    "\n",
    "ax.set_xlabel(\"time\")\n",
    "ax.xaxis.set_major_formatter(date_form)\n",
    "ax.set_title(\"Precipitable water vapor measured by holo vs time (before quality cuts)\")\n",
    "ax.legend()\n",
    "\n",
    "ax.axvspan(TMIN,datetime_WITHCOLLIMATOR, color='yellow', alpha=0.1)\n",
    "\n",
    "\n",
    "for key, tt in dn.items():\n",
    "    ax.axvspan(tt[0],tt[1], color='blue', alpha=0.1)\n",
    "\n",
    "\n",
    "ax.set_ylim(0.,15.)\n",
    "\n",
    "figname =f\"{pathfigs}/pwv_allpoints_allnights_nocuts\"+figtype\n",
    "plt.savefig(figname)\n",
    "plt.show()\n"
   ]
  },
  {
   "cell_type": "markdown",
   "id": "564f9a05-b3e2-4d61-9457-cda76ebd2a1b",
   "metadata": {},
   "source": [
    "## Apply Quality selection cuts"
   ]
  },
  {
   "cell_type": "code",
   "execution_count": null,
   "id": "cde62465-0e2e-4216-8deb-0659b8e42f52",
   "metadata": {
    "tags": []
   },
   "outputs": [],
   "source": [
    "def getSelectionCutOld(df_spec, chi2max=20., pwvmin=0.1, pwvmax = 14.9):\n",
    "    cut =  (df_spec[\"CHI2_FIT\"]<chi2max) & (df_spec[\"PWV [mm]_x\"] > pwvmin) & (df_spec[\"PWV [mm]_x\"] < pwvmax) \n",
    "    return cut"
   ]
  },
  {
   "cell_type": "code",
   "execution_count": null,
   "id": "51bff128-4de1-4396-ac64-e56336d8dd67",
   "metadata": {},
   "outputs": [],
   "source": [
    "def getSelectionCut(df_spec, chi2max=20., pwvmin=0.1, pwvmax = 14.9,ozmin=100.,ozmax=600.):\n",
    "    cut =  (df_spec[\"CHI2_FIT\"]<chi2max) & (df_spec[\"PWV [mm]_x\"] > pwvmin) & (df_spec[\"PWV [mm]_x\"] < pwvmax) & (df_spec[\"D2CCD\"]>186.5) &  (df_spec[\"D2CCD\"]<187.3) & \\\n",
    "    (df_spec['EXPTIME'] > 20.) & (df_spec[\"PWV [mm]_y\"] > pwvmin) & (df_spec[\"PWV [mm]_y\"] < pwvmax) & \\\n",
    "    (df_spec[\"ozone [db]_y\"] > ozmin) & (df_spec[\"ozone [db]_y\"] < ozmax) & (df_spec[\"TARGET\"] == \"HD185975\")\n",
    "    return cut"
   ]
  },
  {
   "cell_type": "code",
   "execution_count": null,
   "id": "99017666-4267-4f7c-a926-2da40fe78c00",
   "metadata": {},
   "outputs": [],
   "source": [
    "def getSelectionCutNoPolar(df_spec, chi2max=20., pwvmin=0.1, pwvmax = 14.9,ozmin=100.,ozmax=600.):\n",
    "    cut =  (df_spec[\"CHI2_FIT\"]<chi2max) & (df_spec[\"PWV [mm]_x\"] > pwvmin) & (df_spec[\"PWV [mm]_x\"] < pwvmax) & (df_spec[\"D2CCD\"]>186.5) &  (df_spec[\"D2CCD\"]<187.3) & \\\n",
    "    (df_spec['EXPTIME'] > 20.) & (df_spec[\"PWV [mm]_y\"] > pwvmin) & (df_spec[\"PWV [mm]_y\"] < pwvmax) & \\\n",
    "    (df_spec[\"ozone [db]_y\"] > ozmin) & (df_spec[\"ozone [db]_y\"] < ozmax) & (df_spec[\"TARGET\"] != \"HD185975\")\n",
    "    return cut"
   ]
  },
  {
   "cell_type": "code",
   "execution_count": null,
   "id": "19b35b65-0191-4f70-9623-b3ecaeebe96e",
   "metadata": {},
   "outputs": [],
   "source": [
    "def getSelectionCutWithPolar(df_spec, chi2max=20., pwvmin=0.1, pwvmax = 14.9,ozmin=100.,ozmax=600.):\n",
    "    cut =  (df_spec[\"CHI2_FIT\"]<chi2max) & (df_spec[\"PWV [mm]_x\"] > pwvmin) & (df_spec[\"PWV [mm]_x\"] < pwvmax) & (df_spec[\"D2CCD\"]>186.5) &  (df_spec[\"D2CCD\"]<187.3) & \\\n",
    "    (df_spec['EXPTIME'] > 20.) & (df_spec[\"PWV [mm]_y\"] > pwvmin) & (df_spec[\"PWV [mm]_y\"] < pwvmax) & \\\n",
    "    (df_spec[\"ozone [db]_y\"] > ozmin) & (df_spec[\"ozone [db]_y\"] < ozmax) & (df_spec[\"TARGET\"] == \"HD185975\")\n",
    "    return cut"
   ]
  },
  {
   "cell_type": "code",
   "execution_count": null,
   "id": "4fd887fa-0420-483e-a71e-4a476d418675",
   "metadata": {
    "tags": []
   },
   "outputs": [],
   "source": [
    "cut = getSelectionCut(df_spec)\n",
    "cut_nopolar = getSelectionCutNoPolar(df_spec) & (~df_spec[\"isFaint\"])\n",
    "cut_wthpolar = getSelectionCutWithPolar(df_spec)"
   ]
  },
  {
   "cell_type": "code",
   "execution_count": null,
   "id": "1b675e35-55ff-41af-82bf-85bb4c3267be",
   "metadata": {
    "tags": []
   },
   "outputs": [],
   "source": [
    "cut = getSelectionCut(df_spec)\n",
    "cut_nopolar = getSelectionCutNoPolar(df_spec)\n",
    "cut_nopolar_bright = getSelectionCutNoPolar(df_spec) & (~df_spec[\"isFaint\"])\n",
    "cut_nopolar_faint = getSelectionCutNoPolar(df_spec) & (df_spec[\"isFaint\"])\n",
    "cut_wthpolar = getSelectionCutWithPolar(df_spec)"
   ]
  },
  {
   "cell_type": "code",
   "execution_count": null,
   "id": "e1cbfa40-4395-47f4-9acf-6a9f531fabd4",
   "metadata": {},
   "outputs": [],
   "source": [
    "df_spec_sel = df_spec[cut]\n",
    "df_spec_np = df_spec[cut_nopolar] \n",
    "df_spec_np_b = df_spec[cut_nopolar_bright]\n",
    "df_spec_np_f = df_spec[cut_nopolar_faint]\n",
    "df_spec_wp = df_spec[cut_wthpolar]"
   ]
  },
  {
   "cell_type": "code",
   "execution_count": null,
   "id": "bae62b07-17d4-423e-bdfe-634272a040a2",
   "metadata": {
    "tags": []
   },
   "outputs": [],
   "source": [
    "df_spec_sel.reset_index(drop=True,inplace=True)\n",
    "df_spec_np.reset_index(drop=True,inplace=True)\n",
    "df_spec_wp.reset_index(drop=True,inplace=True) \n",
    "df_spec_np_b.reset_index(drop=True,inplace=True)\n",
    "df_spec_np_f.reset_index(drop=True,inplace=True)"
   ]
  },
  {
   "cell_type": "markdown",
   "id": "030bf82d-8d80-492c-96cf-4506c2eac282",
   "metadata": {
    "tags": []
   },
   "source": [
    "## Recompute night boundaries"
   ]
  },
  {
   "cell_type": "code",
   "execution_count": null,
   "id": "1e41540b-d7cd-49c8-88dc-4175db604a17",
   "metadata": {
    "tags": []
   },
   "outputs": [],
   "source": [
    "#dn = GetNightBoundariesDict(df_spec_sel)"
   ]
  },
  {
   "cell_type": "markdown",
   "id": "c4c10f08-5d32-465f-afd6-e51c1716bbd2",
   "metadata": {},
   "source": [
    "## Plot all data"
   ]
  },
  {
   "cell_type": "code",
   "execution_count": null,
   "id": "58b3d86e-7a6a-4685-8f5c-af994b7b2164",
   "metadata": {
    "tags": []
   },
   "outputs": [],
   "source": [
    "from matplotlib.dates import DateFormatter\n",
    "#date_form = DateFormatter(\"%y-%m-%dT%H:%M\")\n",
    "date_form = DateFormatter(\"%y-%m-%d\")\n",
    "fig,axs = plt.subplots(1,1,figsize=(14,6),layout='constrained')\n",
    "ax  = axs\n",
    "leg=ax.get_legend()\n",
    "\n",
    "ax.set_xlim(TMIN,TMAX) \n",
    "df_m.plot(x=\"Time\",y=\"TQV\",ax=ax,marker=\".\",c=\"b\",lw=0.5,ms=1,label=\"Merra2\",legend=leg)     \n",
    "    \n",
    "\n",
    "\n",
    "#df_spec_sel.plot(x=\"Time\",y=\"PWV [mm]_x\",ax=ax,marker='o',c=\"r\",lw=0.0,grid=True,label=tag,legend=leg,ms=5,alpha=0.2)\n",
    "#df_spec_np_f.plot(x=\"Time\",y=\"PWV [mm]_x\",ax=ax,marker='o',c=\"grey\",lw=0.0,grid=True,label=\"faint,no polar\",legend=leg,ms=5,alpha=0.2)\n",
    "df_spec_np_b.plot(x=\"Time\",y=\"PWV [mm]_x\",ax=ax,marker='o',c=\"r\",lw=0.0,grid=True,label=\"bright,no polar\",legend=leg,ms=5,alpha=0.2)\n",
    "#df_spec_np.plot(x=\"Time\",y=\"PWV [mm]_x\",ax=ax,marker='o',c=\"m\",lw=0.0,grid=True,label=\"no polar\",legend=leg,ms=5,alpha=0.5)\n",
    "df_spec_wp.plot(x=\"Time\",y=\"PWV [mm]_x\",ax=ax,marker='o',c=\"g\",lw=0.0,grid=True,label=\"with polar\",legend=leg,ms=5,alpha=0.5)\n",
    "ax.set_ylabel(\"PWV [mm]_x\")\n",
    "ax.set_xlabel(\"time\")\n",
    "ax.xaxis.set_major_formatter(date_form)\n",
    "ax.set_title(\"Precipitable water vapor measured by holo selected vs time\",fontweight=\"bold\")\n",
    "ax.legend()\n",
    "\n",
    "for key, tt in dn.items():\n",
    "    ax.axvspan(tt[0],tt[1], color='blue', alpha=0.1)\n",
    "\n",
    "\n",
    "ax.axvspan(TMIN,datetime_WITHCOLLIMATOR, color='yellow', alpha=0.1)\n",
    "\n",
    "\n",
    "plt.tight_layout()\n",
    " \n",
    "\n",
    "\n",
    "ax.set_ylim(0.,15.)\n",
    "ax.set_xlim(TMIN,TMAX)\n",
    "\n",
    "figname =f\"{pathfigs}/pwvholoM2_allpoints_allnights_wthcuts\"+figtype\n",
    "plt.savefig(figname)\n",
    "plt.show()"
   ]
  },
  {
   "cell_type": "code",
   "execution_count": null,
   "id": "c005205b-f709-40f6-aa1f-49a6c1aeaecc",
   "metadata": {},
   "outputs": [],
   "source": [
    "fig,axs = plt.subplots(1,1,figsize=(6,4),layout='constrained')\n",
    "ax  = axs\n",
    "leg=ax.get_legend()\n",
    "df_spec_np_b.plot(x=\"dt_midnight\",y=\"PWV [mm]_x\",ax=ax,marker='o',c=\"r\",lw=0.0,grid=True,label=\"bright,no polar\",legend=leg,ms=5,alpha=0.2)\n",
    "#df_spec_np.plot(x=\"Time\",y=\"PWV [mm]_x\",ax=ax,marker='o',c=\"m\",lw=0.0,grid=True,label=\"no polar\",legend=leg,ms=5,alpha=0.5)\n",
    "df_spec_wp.plot(x=\"dt_midnight\",y=\"PWV [mm]_x\",ax=ax,marker='o',c=\"g\",lw=0.0,grid=True,label=\"with polar\",legend=leg,ms=5,alpha=0.5)\n",
    "ax.set_ylim(0.,15.)\n",
    "ax.legend()\n",
    "ax.set_xlabel(\"time relative to midnight (hour)\")\n",
    "ax.set_title(\"Precipitable water vapor\")\n",
    "ax.set_ylabel(\"PWV (mm)\")"
   ]
  },
  {
   "cell_type": "code",
   "execution_count": null,
   "id": "a2b12d05-8396-4a3c-bcfb-75de6ac63ee5",
   "metadata": {},
   "outputs": [],
   "source": [
    "from matplotlib.dates import DateFormatter\n",
    "date_form = DateFormatter(\"%y-%m-%d\")\n",
    "\n",
    "fig,axs = plt.subplots(1,1,figsize=(14,6),layout='constrained')\n",
    "ax  = axs\n",
    "leg=ax.get_legend()\n",
    "\n",
    "#ax.set_xlim(TMIN,TMAX) \n",
    "#df_m.plot(x=\"Time\",y=\"TQV\",ax=ax,marker=\".\",c=\"b\",lw=0.5,ms=1,label=\"Merra2\",legend=leg)     \n",
    "    \n",
    "#df_spec_sel.plot(x=\"Time\",y=\"PWV [mm]_x\",ax=ax,marker='o',c=\"r\",lw=0.0,grid=True,label=tag,legend=leg,ms=5,alpha=0.2)\n",
    "#df_spec_np_f.plot(x=\"Time\",y=\"PWV [mm]_x\",ax=ax,marker='o',c=\"grey\",lw=0.0,grid=True,label=\"faint,no polar\",legend=leg,ms=5,alpha=0.2)\n",
    "df_spec_np_b.plot(x=\"Time_january\",y=\"PWV [mm]_x\",ax=ax,marker='o',c=\"r\",lw=0.0,grid=True,label=\"bright,no polar\",legend=leg,ms=5,alpha=0.2)\n",
    "#df_spec_np.plot(x=\"Time\",y=\"PWV [mm]_x\",ax=ax,marker='o',c=\"m\",lw=0.0,grid=True,label=\"no polar\",legend=leg,ms=5,alpha=0.5)\n",
    "df_spec_wp.plot(x=\"Time_january\",y=\"PWV [mm]_x\",ax=ax,marker='o',c=\"g\",lw=0.0,grid=True,label=\"with polar\",legend=leg,ms=5,alpha=0.5)\n",
    "ax.set_ylabel(\"PWV [mm]_x\")\n",
    "ax.set_xlabel(\"date (since January)\")\n",
    "ax.xaxis.set_major_formatter(date_form)\n",
    "ax.set_title(\"Precipitable water vapor measured by holo selected vs time\",fontweight=\"bold\")\n",
    "ax.legend()\n",
    "\n",
    "#for key, tt in dn.items():\n",
    "#    ax.axvspan(tt[0],tt[1], color='blue', alpha=0.1)\n",
    "\n",
    "\n",
    "#ax.axvspan(TMIN,datetime_WITHCOLLIMATOR, color='yellow', alpha=0.1)\n",
    "\n",
    "\n",
    "plt.tight_layout()\n",
    " \n",
    "\n",
    "\n",
    "ax.set_ylim(0.,15.)\n",
    "#ax.set_xlim(TMIN,TMAX)\n",
    "\n",
    "figname =f\"{pathfigs}/pwvholoM2_allpoints_allnights_1year\"+figtype\n",
    "plt.savefig(figname)\n",
    "plt.show()"
   ]
  },
  {
   "cell_type": "markdown",
   "id": "53a5e8cd-51f5-4d34-875a-2c93a90fbf21",
   "metadata": {},
   "source": [
    "## Plot night by night"
   ]
  },
  {
   "cell_type": "code",
   "execution_count": null,
   "id": "22093a32-df7a-4177-ad33-e5c1611fe1fb",
   "metadata": {},
   "outputs": [],
   "source": [
    "all_selected_nights = df_spec_sel[\"nightObs\"].unique()"
   ]
  },
  {
   "cell_type": "code",
   "execution_count": null,
   "id": "d355d92c-a45d-4b2d-a130-4469337acfe0",
   "metadata": {},
   "outputs": [],
   "source": [
    "def funclineres(params, x, y, yerr):\n",
    "    # Return residual = fit-observed\n",
    "    return (y-params[0] -params[1]*x)/yerr\n",
    "def funcline(params,x):\n",
    "    return params[0] + params[1]*x"
   ]
  },
  {
   "cell_type": "code",
   "execution_count": null,
   "id": "01b3bcad-f3ae-4cb1-8619-35f152b94551",
   "metadata": {},
   "outputs": [],
   "source": [
    "def MakeLineFit(df_night_pwv_curve):\n",
    "    \"\"\"\n",
    "    \"\"\"\n",
    "\n",
    "    x = df_night_pwv_curve[\"dt_midnight\"].values\n",
    "    y = df_night_pwv_curve[\"PWV [mm]_x\"].values\n",
    "    yerr = df_night_pwv_curve[\"PWV [mm]_err_x\"].values\n",
    "    n = len(y)\n",
    "        \n",
    "    #popt, pcov = optimize.curve_fit(f, x, y, [1,-4])\n",
    "    fit_res = least_squares(funclineres,[5.,0],args = (x,y,yerr))\n",
    "    popt = fit_res.x \n",
    "    npar = len(popt)\n",
    "    J = fit_res.jac\n",
    "    cov = np.linalg.inv(J.T.dot(J))\n",
    "    chi2dof = ((funclineres(popt,x,y,yerr))**2).sum()/(n-npar)\n",
    "    cov *= chi2dof\n",
    "    perr = np.sqrt(np.diagonal(cov)) \n",
    "    \n",
    "    xfit = np.linspace(x.min()*0.99,x.max()*1.05)\n",
    "    yfit = funcline(popt,xfit)\n",
    "        \n",
    "    slope = popt[1]\n",
    "    slope_err = perr[1]\n",
    "\n",
    "    return x,y,yerr,n,chi2dof,xfit,yfit,slope,slope_err"
   ]
  },
  {
   "cell_type": "code",
   "execution_count": null,
   "id": "23e66ab2-c1cc-46ac-9f49-a8d6cdc9a0a2",
   "metadata": {},
   "outputs": [],
   "source": [
    "all_dateObs_sel = {}\n",
    "\n",
    "# loop on nights\n",
    "for night in all_selected_nights:\n",
    "    #select the night\n",
    "    # Choose the kind of observation\n",
    "    #df_spec_night = df_spec_sel[df_spec_sel[\"nightObs\"] == night]\n",
    "    #df_spec_night = df_spec_np[df_spec_sel[\"nightObs\"] == night]\n",
    "    df_spec_night = df_spec_wp[df_spec_sel[\"nightObs\"] == night]\n",
    "    #df_spec_night = df_spec_np_b[df_spec_sel[\"nightObs\"] == night]\n",
    "    \n",
    "    #select the variables\n",
    "    df_night_pwv_curve = df_spec_night[[\"Time\",\"PWV [mm]_x\",\"PWV [mm]_err_x\",\"dt_midnight\",\"AIRMASS\"]]\n",
    "\n",
    "    tmin = df_night_pwv_curve[\"Time\"].min()\n",
    "    tmax = df_night_pwv_curve[\"Time\"].max()\n",
    "\n",
    "     \n",
    "\n",
    "    # convert in hours\n",
    "    df_night_pwv_curve[\"dt\"] = (df_night_pwv_curve[\"Time\"] - tmin).dt.total_seconds()/3600.\n",
    "    \n",
    "    # extract statistics on pwv\n",
    "    stat = df_night_pwv_curve[[\"PWV [mm]_x\"]].describe()\n",
    "    date_form = DateFormatter(\"%y-%m-%dT%H:%M\")\n",
    "    #date_form = DateFormatter(\"%y-%m-%dT%H\")\n",
    "    count = int(stat.loc[\"count\"].values[0])\n",
    "    mean = stat.loc[\"mean\"].values[0]\n",
    "    median = stat.loc[\"50%\"].values[0]\n",
    "    std = stat.loc[\"std\"].values[0]\n",
    "    textstr = \"\\n\".join((f\"count : {count}\",\n",
    "                     f\"mean : {mean:.1f} mm\",\n",
    "                     f\"median : {median:.1f} mm\",\n",
    "                     f\"std : {std:.1f} mm\",\n",
    "                    ))\n",
    "\n",
    "\n",
    "    N= len(df_night_pwv_curve)\n",
    "\n",
    "    if N>10:\n",
    "        # does the fit\n",
    "        \n",
    "        x,y,yerr,n,chi2dof,xfit,yfit,slope,slope_err = MakeLineFit(df_night_pwv_curve)\n",
    "            \n",
    "   \n",
    "        \n",
    "        textstr2 = \"\\n\".join((f\"d(PWV/dt) : \",\n",
    "                     f\"slope : {slope:.3f} mm/h\",\n",
    "                     f\"slope err : {slope_err:.3f} mm/h\",\n",
    "                     f\"chi2/ndeg : {chi2dof:.2f}\",       \n",
    "                    ))\n",
    "\n",
    "        textstr3 = \"\\n\".join((f\"d(PWV/dt) : \",\n",
    "                     f\"slope : {slope:.3f} mm/h\",\n",
    "                     f\"slope err : {slope_err:.3f} mm/h\",  \n",
    "                    ))\n",
    "    \n",
    "\n",
    "        stat.loc[\"slope\",\"PWV [mm]_x\"] = slope \n",
    "        stat.loc[\"slope_err\",\"PWV [mm]_x\"] = slope_err \n",
    "        stat.loc[\"chi2\",\"PWV [mm]_x\"] = chi2dof\n",
    "        \n",
    "        # plot\n",
    "      \n",
    "        \n",
    "        fig = plt.figure(figsize=(16,6))\n",
    "        gs = GridSpec(1, 2,  width_ratios=[1.5,1],figure=fig)\n",
    "\n",
    "        ax = fig.add_subplot(gs[0])\n",
    "        ax2 = fig.add_subplot(gs[1],sharey=ax)\n",
    "        \n",
    "        leg=ax.get_legend()\n",
    "        leg2=ax2.get_legend()\n",
    "      \n",
    "        \n",
    "        # left figure\n",
    "        ax.set_xlim(tmin,tmax)\n",
    "        df_m.plot(x=\"Time\",y=\"TQV\",ax=ax,marker=\"o\",c=\"b\",lw=0.5,ms=5,label=\"Merra2\",legend=leg)  \n",
    "        df_night_pwv_curve.plot(x=\"Time\",y=\"PWV [mm]_x\",c=\"r\",ax=ax,marker='o',lw=0.0,grid=True,legend=leg,label=tag,ms=5,alpha=0.5)\n",
    "        ax.errorbar(x=df_night_pwv_curve.Time, y=df_night_pwv_curve[\"PWV [mm]_x\"],yerr=df_night_pwv_curve[\"PWV [mm]_err_x\"],fmt=\".\",color=\"r\",ecolor=\"k\")\n",
    "        \n",
    "\n",
    "        \n",
    "        ax.legend(loc=\"upper right\")\n",
    "        ax.set_ylabel(\"PWV [mm]_x\")\n",
    "        ax.set_xlabel(\"time\")\n",
    "        ax.xaxis.set_major_formatter(date_form)\n",
    "        ax.set_ylim(0.,15.)\n",
    "        ax.text(0.03, 0.95, textstr, transform=ax.transAxes, fontsize=14,\n",
    "        verticalalignment='top', bbox=props)\n",
    "        ax.text(0.35, 0.95, textstr3, transform=ax.transAxes, fontsize=14,\n",
    "        verticalalignment='top', bbox=props)\n",
    "        ax.set_title(f\"night {night}\")\n",
    "        \n",
    "\n",
    "        # right figure\n",
    "        ax2.errorbar(x=df_night_pwv_curve.dt_midnight, y=df_night_pwv_curve[\"PWV [mm]_x\"],yerr=df_night_pwv_curve[\"PWV [mm]_err_x\"],fmt=\"+\",color=\"r\",ecolor=\"k\",ms=10,label=tag)\n",
    "        ax2.set_xlabel(\"hours\")\n",
    "        ax2.set_ylim(0.,15.)\n",
    "        ax2.grid()\n",
    "        ax2.legend(loc=\"upper right\")\n",
    "        ax2.plot(xfit,yfit,\"k-\")\n",
    "        ax2.text(0.05, 0.95, textstr2, transform=ax2.transAxes, fontsize=14,\n",
    "        verticalalignment='top', bbox=props)\n",
    "        ax2.set_title(f\"night {night}\")\n",
    "        ax2.axvline(x=0,color=\"k\",lw=2)\n",
    "        \n",
    "        plt.tight_layout()\n",
    "        figname =f\"{pathfigs}/pwv_per_night_{night}\"+figtype\n",
    "        plt.savefig(figname)\n",
    "        plt.show()\n",
    "\n",
    "        # add statistics\n",
    "        all_dateObs_sel[night] = stat"
   ]
  },
  {
   "cell_type": "markdown",
   "id": "fbd826e3-5d09-43be-a036-1a9838d14158",
   "metadata": {},
   "source": [
    "## Make a summary of Night quality"
   ]
  },
  {
   "cell_type": "code",
   "execution_count": null,
   "id": "ae522f61-1950-40bc-ab4f-33ec8ef76a91",
   "metadata": {},
   "outputs": [],
   "source": [
    "def GetStatistics(all_dateObs_sel):\n",
    "    df = pd.DataFrame(columns = [\"count\",\"mean\",\"median\",\"std\",\"slope\",\"slope_err\"])\n",
    "    \n",
    "    for nightObs, stat in all_dateObs_sel.items():\n",
    "        count = int(stat.loc[\"count\"].values[0])\n",
    "        mean = stat.loc[\"mean\"].values[0]\n",
    "        median = stat.loc[\"50%\"].values[0]\n",
    "        std = stat.loc[\"std\"].values[0]\n",
    "        slope = stat.loc[\"slope\"].values[0]\n",
    "        slope_err = stat.loc[\"slope_err\"].values[0]\n",
    "        df.loc[nightObs] = [count,mean,median,std,slope,slope_err]\n",
    "    return df"
   ]
  },
  {
   "cell_type": "code",
   "execution_count": null,
   "id": "6fd8f19f-2f54-4371-9bee-2c27678ef57b",
   "metadata": {},
   "outputs": [],
   "source": [
    "df = GetStatistics(all_dateObs_sel)"
   ]
  },
  {
   "cell_type": "markdown",
   "id": "28153011-a231-4d37-8281-ca0bb2ebb38a",
   "metadata": {},
   "source": [
    "### Convert dateobs into datetime"
   ]
  },
  {
   "cell_type": "code",
   "execution_count": null,
   "id": "b195a69f-2ead-44c7-afd9-d2c03a9a196e",
   "metadata": {},
   "outputs": [],
   "source": [
    "def ComputeDataTimeStr(num):\n",
    "    year = num//10000\n",
    "    remain = (num-year*10000)\n",
    "    month = remain//100\n",
    "    day = remain-100*month\n",
    "    yearstr = f\"{year}\"\n",
    "    monthstr = f\"{month}\"\n",
    "    daystr= f\"{day}\"\n",
    "    stry = yearstr.zfill(4)\n",
    "    strm = monthstr.zfill(2)\n",
    "    strd = daystr.zfill(2)\n",
    "    \n",
    "    str = f\"{stry}-{strm}-{strd}\"\n",
    "    return str"
   ]
  },
  {
   "cell_type": "code",
   "execution_count": null,
   "id": "3321def6-d493-4205-8c38-ae26b842a8b0",
   "metadata": {},
   "outputs": [],
   "source": [
    "df[\"Time\"] = pd.to_datetime([ ComputeDataTimeStr(num) for  num in df.index])"
   ]
  },
  {
   "cell_type": "markdown",
   "id": "a83c8040-5105-4ed3-9644-4429458ea3dc",
   "metadata": {},
   "source": [
    "### Plot summary"
   ]
  },
  {
   "cell_type": "code",
   "execution_count": null,
   "id": "d82bf933-1ccb-40d4-b23a-010487d47c00",
   "metadata": {},
   "outputs": [],
   "source": [
    "from matplotlib.dates import DateFormatter\n",
    "date_form = DateFormatter(\"%y-%m-%d\")\n",
    "fig,axs = plt.subplots(2,1,figsize=(12,8),sharex=True)\n",
    "ax1,ax2  = axs\n",
    "\n",
    "\n",
    "leg1=ax1.get_legend()\n",
    "leg2=ax2.get_legend()\n",
    "\n",
    "\n",
    "ax1.set_xlim(TMIN,TMAX)\n",
    "df_m.plot(x=\"Time\",y=\"TQV\",ax=ax1,marker=\"o\",c=\"b\",lw=0.5,ms=1,label=\"Merra2\",legend=leg)  \n",
    "df.plot(x=\"Time\",y=\"median\",ax=ax1,marker='+',c=\"r\",lw=0.0,grid=True,ms=10,label=tag,legend=leg1)\n",
    "ax1.errorbar(x=df[\"Time\"], y=df[\"median\"],yerr=df[\"std\"],fmt=\".\",color=\"r\",ecolor=\"k\")\n",
    "\n",
    "ax1.set_ylabel(\"PWV (mm)\")\n",
    "ax1.set_xlabel(\"time\")\n",
    "ax1.xaxis.set_major_formatter(date_form)\n",
    "ax1.set_title(\"Median Precipitable water vapor per night\")\n",
    "ax1.set_ylim(0.,15.)\n",
    "ax1.legend(loc=\"upper right\")\n",
    "ax1.axvspan(TMIN,datetime_WITHCOLLIMATOR, color='yellow', alpha=0.1)\n",
    "\n",
    "ax2.set_title(\"Fitted drift per night\")\n",
    "ax2.errorbar(x=df[\"Time\"], y=df[\"slope\"],yerr=df[\"slope_err\"],fmt=\".\",color=\"r\",ecolor=\"k\",ms=10,label=tag,legend=leg2)\n",
    "ax2.grid()\n",
    "ax2.set_ylabel(\"dPWV/dt (mm/h)\")\n",
    "ax2.set_xlabel(\"time\")\n",
    "ax2.set_ylim(-1.,1.)\n",
    "ax2.xaxis.set_major_formatter(date_form)\n",
    "ax2.legend(loc=\"upper right\")\n",
    "ax2.axvspan(TMIN,datetime_WITHCOLLIMATOR, color='yellow', alpha=0.1)\n",
    "\n",
    "ax2.tick_params(axis='x', labelrotation=45)\n",
    "\n",
    "plt.tight_layout()\n",
    "figname =f\"{pathfigs}/pwv_medianspredslope_allnights\"+figtype\n",
    "plt.savefig(figname)\n",
    "plt.show()"
   ]
  },
  {
   "cell_type": "code",
   "execution_count": null,
   "id": "891ffdde-739f-4bf3-ab87-bf95931a3187",
   "metadata": {},
   "outputs": [],
   "source": [
    "from matplotlib.dates import DateFormatter\n",
    "date_form = DateFormatter(\"%y-%m-%d\")\n",
    "fig,axs = plt.subplots(1,1,figsize=(14,6))\n",
    "ax = axs\n",
    "leg=ax.get_legend()\n",
    "\n",
    "ax.set_xlim(TMIN,TMAX)\n",
    "df_m.plot(x=\"Time\",y=\"TQV\",ax=ax,marker=\"o\",c=\"b\",lw=0.5,ms=1,label=\"Merra2\",legend=leg)  \n",
    "df.plot(x=\"Time\",y=\"median\",ax=ax,marker='+',c=\"r\",ms=20,lw=0.0,grid=True,label=tag,legend=leg)\n",
    "ax.errorbar(x=df[\"Time\"], y=df[\"median\"],yerr=df[\"std\"],fmt=\"o\",ms=5,color=\"r\",ecolor=\"k\")\n",
    "ax.set_ylabel(\"PWV (mm)\")\n",
    "ax.set_xlabel(\"time\")\n",
    "ax.xaxis.set_major_formatter(date_form)\n",
    "ax.set_title(\"Median and spread of Precipitable water vapor per night\")\n",
    "ax.set_ylim(0.,15)\n",
    "ax.legend(loc=\"upper right\")\n",
    "\n",
    "ax.axvspan(TMIN,datetime_WITHCOLLIMATOR, color='yellow', alpha=0.1)\n",
    "\n",
    "figname =f\"{pathfigs}/pwv_medians_allnights\"+figtype\n",
    "plt.savefig(figname)\n",
    "plt.show()"
   ]
  },
  {
   "cell_type": "code",
   "execution_count": null,
   "id": "6d4dc091-ac5c-493d-9c24-2838c9d76101",
   "metadata": {},
   "outputs": [],
   "source": []
  }
 ],
 "metadata": {
  "kernelspec": {
   "display_name": "Python 3 (ipykernel)",
   "language": "python",
   "name": "python3"
  },
  "language_info": {
   "codemirror_mode": {
    "name": "ipython",
    "version": 3
   },
   "file_extension": ".py",
   "mimetype": "text/x-python",
   "name": "python",
   "nbconvert_exporter": "python",
   "pygments_lexer": "ipython3",
   "version": "3.10.12"
  }
 },
 "nbformat": 4,
 "nbformat_minor": 5
}
