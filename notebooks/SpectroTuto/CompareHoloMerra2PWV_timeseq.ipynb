{
 "cells": [
  {
   "cell_type": "markdown",
   "id": "45bf4242-bfc5-4d43-88c4-a8059ae148df",
   "metadata": {},
   "source": [
    "# Compare hologram data with MERRA2 on PWV"
   ]
  },
  {
   "cell_type": "markdown",
   "id": "01993b6e-6438-4fca-a5d5-1f9791336847",
   "metadata": {},
   "source": [
    "- author Sylvie Dagoret-Campagne\n",
    "- affiliation : IJCLab\n",
    "- creation date 2024-10-15 :\n",
    "- last update 2024-10-16 (faint,bright, polar or not)\n",
    "- last update 2024-10-17 with version v5\n",
    "- Kernel @usdf **w_2024_38*\n",
    "- Office emac : mamba_py311\n",
    "- Home emac : base (conda)\n",
    "- laptop : conda_py310"
   ]
  },
  {
   "cell_type": "markdown",
   "id": "0219159d-6865-4311-ac1d-99d11dad223f",
   "metadata": {},
   "source": [
    "**Goal** : Show correlation holo /Merra"
   ]
  },
  {
   "cell_type": "code",
   "execution_count": null,
   "id": "63a2b2ef-0bc2-45eb-91d9-87835d264751",
   "metadata": {
    "execution": {
     "iopub.execute_input": "2024-10-17T10:12:27.898960Z",
     "iopub.status.busy": "2024-10-17T10:12:27.898844Z",
     "iopub.status.idle": "2024-10-17T10:12:27.901077Z",
     "shell.execute_reply": "2024-10-17T10:12:27.900741Z",
     "shell.execute_reply.started": "2024-10-17T10:12:27.898948Z"
    },
    "tags": []
   },
   "outputs": [],
   "source": [
    "from platform import python_version\n",
    "print(python_version())"
   ]
  },
  {
   "cell_type": "code",
   "execution_count": null,
   "id": "dcc53afe-c58f-4948-92c9-0090d373ad2a",
   "metadata": {
    "execution": {
     "iopub.execute_input": "2024-10-17T10:12:27.901626Z",
     "iopub.status.busy": "2024-10-17T10:12:27.901512Z",
     "iopub.status.idle": "2024-10-17T10:12:27.905377Z",
     "shell.execute_reply": "2024-10-17T10:12:27.905046Z",
     "shell.execute_reply.started": "2024-10-17T10:12:27.901615Z"
    }
   },
   "outputs": [],
   "source": [
    "import warnings\n",
    "warnings.resetwarnings()\n",
    "warnings.simplefilter('ignore')"
   ]
  },
  {
   "cell_type": "code",
   "execution_count": null,
   "id": "8026d265-2493-4045-afec-26205ff71f7c",
   "metadata": {
    "execution": {
     "iopub.execute_input": "2024-10-17T10:12:27.905876Z",
     "iopub.status.busy": "2024-10-17T10:12:27.905768Z",
     "iopub.status.idle": "2024-10-17T10:12:27.912879Z",
     "shell.execute_reply": "2024-10-17T10:12:27.912547Z",
     "shell.execute_reply.started": "2024-10-17T10:12:27.905866Z"
    },
    "tags": []
   },
   "outputs": [],
   "source": [
    "from platform import python_version\n",
    "print(python_version())"
   ]
  },
  {
   "cell_type": "code",
   "execution_count": null,
   "id": "eb1f116e-80e3-46ad-a7db-7f253632e5ca",
   "metadata": {
    "execution": {
     "iopub.execute_input": "2024-10-17T10:12:27.914091Z",
     "iopub.status.busy": "2024-10-17T10:12:27.913973Z",
     "iopub.status.idle": "2024-10-17T10:12:27.917267Z",
     "shell.execute_reply": "2024-10-17T10:12:27.916931Z",
     "shell.execute_reply.started": "2024-10-17T10:12:27.914079Z"
    }
   },
   "outputs": [],
   "source": [
    "import os"
   ]
  },
  {
   "cell_type": "code",
   "execution_count": null,
   "id": "3ec760cd-3d3f-4a34-a6f6-b226fe500951",
   "metadata": {
    "execution": {
     "iopub.execute_input": "2024-10-17T10:12:27.917734Z",
     "iopub.status.busy": "2024-10-17T10:12:27.917622Z",
     "iopub.status.idle": "2024-10-17T10:12:27.921509Z",
     "shell.execute_reply": "2024-10-17T10:12:27.921119Z",
     "shell.execute_reply.started": "2024-10-17T10:12:27.917722Z"
    }
   },
   "outputs": [],
   "source": [
    "# where are stored the figures\n",
    "pathfigs = \"figsHoloMerra2PWV\"\n",
    "if not os.path.exists(pathfigs):\n",
    "    os.makedirs(pathfigs) \n",
    "figtype = \".png\""
   ]
  },
  {
   "cell_type": "code",
   "execution_count": null,
   "id": "bf752b70-e6ca-4cbf-8e8c-20bf7f0d8f61",
   "metadata": {
    "execution": {
     "iopub.execute_input": "2024-10-17T10:12:27.922006Z",
     "iopub.status.busy": "2024-10-17T10:12:27.921895Z",
     "iopub.status.idle": "2024-10-17T10:12:28.865042Z",
     "shell.execute_reply": "2024-10-17T10:12:28.864545Z",
     "shell.execute_reply.started": "2024-10-17T10:12:27.921995Z"
    }
   },
   "outputs": [],
   "source": [
    "import numpy as np\n",
    "from numpy.linalg import inv\n",
    "import matplotlib as mpl\n",
    "import matplotlib.pyplot as plt\n",
    "%matplotlib inline\n",
    "from mpl_toolkits.axes_grid1 import make_axes_locatable\n",
    "from matplotlib.colors import LogNorm,SymLogNorm\n",
    "from matplotlib.patches import Circle,Annulus\n",
    "from astropy.visualization import ZScaleInterval\n",
    "props = dict(boxstyle='round', facecolor=\"white\", alpha=0.1)\n",
    "#props = dict(boxstyle='round')\n",
    "\n",
    "import matplotlib.colors as colors\n",
    "import matplotlib.cm as cmx\n",
    "\n",
    "import matplotlib.ticker                         # here's where the formatter is\n",
    "from matplotlib.ticker import (MultipleLocator, FormatStrFormatter,\n",
    "                               AutoMinorLocator)\n",
    "\n",
    "from matplotlib.gridspec import GridSpec\n",
    "\n",
    "from astropy.visualization import (MinMaxInterval, SqrtStretch,ZScaleInterval,PercentileInterval,\n",
    "                                   ImageNormalize,imshow_norm)\n",
    "from astropy.visualization.stretch import SinhStretch, LinearStretch,AsinhStretch,LogStretch\n",
    "\n",
    "from astropy.io import fits\n",
    "from astropy.wcs import WCS\n",
    "from astropy import units as u\n",
    "from astropy import constants as c\n",
    "\n",
    "from scipy import interpolate\n",
    "from sklearn.neighbors import NearestNeighbors\n",
    "from sklearn.neighbors import KDTree, BallTree\n",
    "\n",
    "import pandas as pd\n",
    "pd.set_option(\"display.max_columns\", None)\n",
    "pd.set_option('display.max_rows', 100)\n",
    "\n",
    "import matplotlib.ticker                         # here's where the formatter is\n",
    "import os\n",
    "import re\n",
    "import pandas as pd\n",
    "import pickle\n",
    "from collections import OrderedDict\n",
    "\n",
    "plt.rcParams[\"figure.figsize\"] = (4,3)\n",
    "plt.rcParams[\"axes.labelsize\"] = 'xx-large'\n",
    "plt.rcParams['axes.titlesize'] = 'xx-large'\n",
    "plt.rcParams['xtick.labelsize']= 'xx-large'\n",
    "plt.rcParams['ytick.labelsize']= 'xx-large'\n",
    "\n",
    "import scipy\n",
    "from scipy.optimize import curve_fit,least_squares\n",
    "\n",
    "\n",
    "# new color correction model\n",
    "import pickle\n",
    "from scipy.interpolate import RegularGridInterpolator"
   ]
  },
  {
   "cell_type": "code",
   "execution_count": null,
   "id": "0ca0d1e6-5f82-4c43-aaa3-8524fc2bc5ba",
   "metadata": {
    "execution": {
     "iopub.execute_input": "2024-10-17T10:12:28.865846Z",
     "iopub.status.busy": "2024-10-17T10:12:28.865572Z",
     "iopub.status.idle": "2024-10-17T10:12:28.868437Z",
     "shell.execute_reply": "2024-10-17T10:12:28.868053Z",
     "shell.execute_reply.started": "2024-10-17T10:12:28.865832Z"
    }
   },
   "outputs": [],
   "source": [
    "from matplotlib.ticker import (MultipleLocator, FormatStrFormatter,\n",
    "                               AutoMinorLocator)\n",
    "\n",
    "from astropy.visualization import (MinMaxInterval, SqrtStretch,ZScaleInterval,PercentileInterval,\n",
    "                                   ImageNormalize,imshow_norm)\n",
    "from astropy.visualization.stretch import SinhStretch, LinearStretch,AsinhStretch,LogStretch\n",
    "\n",
    "from astropy.time import Time\n"
   ]
  },
  {
   "cell_type": "code",
   "execution_count": null,
   "id": "e189816c-5048-43ab-a01a-7c078af54489",
   "metadata": {
    "execution": {
     "iopub.execute_input": "2024-10-17T10:12:28.869004Z",
     "iopub.status.busy": "2024-10-17T10:12:28.868881Z",
     "iopub.status.idle": "2024-10-17T10:12:28.986448Z",
     "shell.execute_reply": "2024-10-17T10:12:28.986051Z",
     "shell.execute_reply.started": "2024-10-17T10:12:28.868991Z"
    }
   },
   "outputs": [],
   "source": [
    "# Remove to run faster the notebook\n",
    "import ipywidgets as widgets\n",
    "%matplotlib widget"
   ]
  },
  {
   "cell_type": "code",
   "execution_count": null,
   "id": "67327fd4-e405-45ce-8923-cd46ebaa0c0f",
   "metadata": {
    "execution": {
     "iopub.execute_input": "2024-10-17T10:12:28.987037Z",
     "iopub.status.busy": "2024-10-17T10:12:28.986911Z",
     "iopub.status.idle": "2024-10-17T10:12:28.988960Z",
     "shell.execute_reply": "2024-10-17T10:12:28.988614Z",
     "shell.execute_reply.started": "2024-10-17T10:12:28.987025Z"
    },
    "tags": []
   },
   "outputs": [],
   "source": [
    "from importlib.metadata import version"
   ]
  },
  {
   "cell_type": "code",
   "execution_count": null,
   "id": "af8332dd-24f9-4b19-88f9-c62d0a4aebf1",
   "metadata": {
    "execution": {
     "iopub.execute_input": "2024-10-17T10:12:28.989488Z",
     "iopub.status.busy": "2024-10-17T10:12:28.989362Z",
     "iopub.status.idle": "2024-10-17T10:12:28.994054Z",
     "shell.execute_reply": "2024-10-17T10:12:28.993724Z",
     "shell.execute_reply.started": "2024-10-17T10:12:28.989477Z"
    },
    "tags": []
   },
   "outputs": [],
   "source": [
    "# wavelength bin colors\n",
    "#jet = plt.get_cmap('jet')\n",
    "#cNorm = mpl.colors.Normalize(vmin=0, vmax=NSED)\n",
    "#scalarMap = cmx.ScalarMappable(norm=cNorm, cmap=jet)\n",
    "#all_colors = scalarMap.to_rgba(np.arange(NSED), alpha=1)"
   ]
  },
  {
   "cell_type": "code",
   "execution_count": null,
   "id": "1003d9d6-a40f-48b1-9ffc-bfab9f45ba93",
   "metadata": {
    "execution": {
     "iopub.execute_input": "2024-10-17T10:12:28.994546Z",
     "iopub.status.busy": "2024-10-17T10:12:28.994426Z",
     "iopub.status.idle": "2024-10-17T10:12:28.999998Z",
     "shell.execute_reply": "2024-10-17T10:12:28.999664Z",
     "shell.execute_reply.started": "2024-10-17T10:12:28.994535Z"
    }
   },
   "outputs": [],
   "source": [
    "np.__version__"
   ]
  },
  {
   "cell_type": "code",
   "execution_count": null,
   "id": "c4cb2652-cb22-432e-b110-ae71d59dc793",
   "metadata": {
    "execution": {
     "iopub.execute_input": "2024-10-17T10:12:29.000489Z",
     "iopub.status.busy": "2024-10-17T10:12:29.000372Z",
     "iopub.status.idle": "2024-10-17T10:12:29.004679Z",
     "shell.execute_reply": "2024-10-17T10:12:29.004315Z",
     "shell.execute_reply.started": "2024-10-17T10:12:29.000478Z"
    }
   },
   "outputs": [],
   "source": [
    "pd.__version__"
   ]
  },
  {
   "cell_type": "markdown",
   "id": "4f13d6a3-7793-4bc0-920a-1d690d9f84b2",
   "metadata": {},
   "source": [
    "### Configuration"
   ]
  },
  {
   "cell_type": "markdown",
   "id": "b884e71c-39cb-43e1-9edf-4a2cade9196e",
   "metadata": {},
   "source": [
    "### Spectro Hologram data"
   ]
  },
  {
   "cell_type": "code",
   "execution_count": null,
   "id": "a6d313e9-1621-40fb-a7d8-6d01522c7485",
   "metadata": {
    "execution": {
     "iopub.execute_input": "2024-10-17T10:12:29.005178Z",
     "iopub.status.busy": "2024-10-17T10:12:29.005062Z",
     "iopub.status.idle": "2024-10-17T10:12:29.007236Z",
     "shell.execute_reply": "2024-10-17T10:12:29.006902Z",
     "shell.execute_reply.started": "2024-10-17T10:12:29.005167Z"
    }
   },
   "outputs": [],
   "source": [
    "FLAG_WITHCOLLIMATOR = False"
   ]
  },
  {
   "cell_type": "code",
   "execution_count": null,
   "id": "5bac0cab-3886-4683-b1c8-fc59edacfd46",
   "metadata": {
    "execution": {
     "iopub.execute_input": "2024-10-17T10:12:29.007732Z",
     "iopub.status.busy": "2024-10-17T10:12:29.007620Z",
     "iopub.status.idle": "2024-10-17T10:12:29.011748Z",
     "shell.execute_reply": "2024-10-17T10:12:29.011377Z",
     "shell.execute_reply.started": "2024-10-17T10:12:29.007722Z"
    },
    "tags": []
   },
   "outputs": [],
   "source": [
    "version_results = \"v5\"\n",
    "legendtag = {\"v1\" : \"old v3.1.0\",\n",
    "            \"v2\" : \"v3.1.0-PWV<10mm\",\n",
    "            \"v3\" : \"v3.1.0-PWV<15mm\",\n",
    "            \"v4\" : \"Auxtel holo v3.1.0\",\n",
    "            \"v5\" : \"Auxtel holo v3.1.0 09/22 - 10/24\"}"
   ]
  },
  {
   "cell_type": "code",
   "execution_count": null,
   "id": "99436fe6-ad07-4796-b982-7dd89f554f0c",
   "metadata": {
    "execution": {
     "iopub.execute_input": "2024-10-17T10:12:29.013853Z",
     "iopub.status.busy": "2024-10-17T10:12:29.013730Z",
     "iopub.status.idle": "2024-10-17T10:12:29.017788Z",
     "shell.execute_reply": "2024-10-17T10:12:29.017425Z",
     "shell.execute_reply.started": "2024-10-17T10:12:29.013842Z"
    },
    "tags": []
   },
   "outputs": [],
   "source": [
    "atmfilenamesdict = {\"v1\" : \"data/spectro/auxtel_atmosphere_202301_v3.1.0_doSensorFlat_rebin2_testWithMaskedEdges_newBoundaries_newPolysRescaled_newFitBounds_adjustA1_lockedOrder2_removeThroughputTails_2.npy\",\n",
    "                    \"v2\" : \"auxtel_atmosphere_202301_v3.1.0_doSensorFlat_rebin2_lockedOrder2_FixA1_FixA2_FitAngstrom_FixA1_FixA2_FitAngstrom_WithGaia_freePressure_newThroughput6_BG40Scaled1.09_PeekFinder.npy\",\n",
    "                    \"v3\" : \"u_dagoret_auxtel_atmosphere_202301_v3.1.0_doSensorFlat_rebin2_lockedOrder2_FixA1_FixA2_FitAngstrom_WithGaia_freePressure_newThroughput6_BG40Scaled1.09_AtmoFitPressureA2_SpecErr_PeekFinder_20240924T161119Z.npy\",\n",
    "                    \"v4\" : \"u_dagoret_auxtel_atmosphere_202301_v3.1.0_doSensorFlat_rebin2_lockedOrder2_FixA1_FixA2_FitAngstrom_WithGaia_freePressure_newThroughput6_BG40Scaled1.09_AtmoFitPressureA2_SpecErr_PeekFinder_20240924T161119Z_spectrfullextend.npy\",\n",
    "                    \"v5\" : \"u_dagoret_auxtel_atmosphere_202209_v3.1.0_doSensorFlat_rebin2_lockedOrder2_FixA1_FixA2_FitAngstrom_WithGaia_freePressure_newThroughput6_BG40Scaled1.09_AtmoFitPressureA2_SpecErr_No5SigmaClip_20241016T184601Z_spectrfullextended.npy\"}"
   ]
  },
  {
   "cell_type": "code",
   "execution_count": null,
   "id": "f5ee7d08-244a-462a-b9fc-ff5cd4d3e801",
   "metadata": {
    "execution": {
     "iopub.execute_input": "2024-10-17T10:12:29.018324Z",
     "iopub.status.busy": "2024-10-17T10:12:29.018210Z",
     "iopub.status.idle": "2024-10-17T10:12:29.022066Z",
     "shell.execute_reply": "2024-10-17T10:12:29.021721Z",
     "shell.execute_reply.started": "2024-10-17T10:12:29.018313Z"
    },
    "tags": []
   },
   "outputs": [],
   "source": [
    "atmfilename = atmfilenamesdict[version_results]\n",
    "tag = legendtag[version_results] "
   ]
  },
  {
   "cell_type": "markdown",
   "id": "6175a4a4-5c98-4e09-8ffd-a17282f6094e",
   "metadata": {},
   "source": [
    "### MERRA2"
   ]
  },
  {
   "cell_type": "code",
   "execution_count": null,
   "id": "d84a85da-768d-459f-8711-54e04f2cff75",
   "metadata": {
    "execution": {
     "iopub.execute_input": "2024-10-17T10:12:29.022603Z",
     "iopub.status.busy": "2024-10-17T10:12:29.022490Z",
     "iopub.status.idle": "2024-10-17T10:12:29.026400Z",
     "shell.execute_reply": "2024-10-17T10:12:29.026055Z",
     "shell.execute_reply.started": "2024-10-17T10:12:29.022592Z"
    },
    "tags": []
   },
   "outputs": [],
   "source": [
    "filename_m2 = \"../SpectroMerra2/MerradataMerged/Merge_inst1_2d_asm_Nx_M2I1NXASM-2021-2024.csv\""
   ]
  },
  {
   "cell_type": "code",
   "execution_count": null,
   "id": "dd89c1b3-43c8-43ae-b10d-f39e8f8b2963",
   "metadata": {
    "execution": {
     "iopub.execute_input": "2024-10-17T10:12:29.026891Z",
     "iopub.status.busy": "2024-10-17T10:12:29.026778Z",
     "iopub.status.idle": "2024-10-17T10:12:29.087727Z",
     "shell.execute_reply": "2024-10-17T10:12:29.087253Z",
     "shell.execute_reply.started": "2024-10-17T10:12:29.026880Z"
    },
    "tags": []
   },
   "outputs": [],
   "source": [
    "df_m = pd.read_csv(filename_m2)"
   ]
  },
  {
   "cell_type": "markdown",
   "id": "a30a15de-34f1-4f2b-afb9-52143c1cff27",
   "metadata": {},
   "source": [
    "## Initialisation"
   ]
  },
  {
   "cell_type": "markdown",
   "id": "4053343d-8e37-4402-b49f-c28dbb9e4afb",
   "metadata": {},
   "source": [
    "### Read the file"
   ]
  },
  {
   "cell_type": "code",
   "execution_count": null,
   "id": "ad60336b-f26f-4184-bcdf-e596329ecbbd",
   "metadata": {
    "execution": {
     "iopub.execute_input": "2024-10-17T10:12:29.088322Z",
     "iopub.status.busy": "2024-10-17T10:12:29.088199Z",
     "iopub.status.idle": "2024-10-17T10:12:29.196759Z",
     "shell.execute_reply": "2024-10-17T10:12:29.196301Z",
     "shell.execute_reply.started": "2024-10-17T10:12:29.088310Z"
    }
   },
   "outputs": [],
   "source": [
    "specdata = np.load(atmfilename,allow_pickle=True)"
   ]
  },
  {
   "cell_type": "code",
   "execution_count": null,
   "id": "3d9c7249-f818-4a98-8000-9be75b3c7a21",
   "metadata": {
    "execution": {
     "iopub.execute_input": "2024-10-17T10:12:29.197358Z",
     "iopub.status.busy": "2024-10-17T10:12:29.197223Z",
     "iopub.status.idle": "2024-10-17T10:12:29.212076Z",
     "shell.execute_reply": "2024-10-17T10:12:29.211572Z",
     "shell.execute_reply.started": "2024-10-17T10:12:29.197346Z"
    }
   },
   "outputs": [],
   "source": [
    "df_spec = pd.DataFrame(specdata)"
   ]
  },
  {
   "cell_type": "code",
   "execution_count": null,
   "id": "a19b591a-d479-4507-b241-81070420c847",
   "metadata": {
    "execution": {
     "iopub.execute_input": "2024-10-17T10:12:29.212653Z",
     "iopub.status.busy": "2024-10-17T10:12:29.212530Z",
     "iopub.status.idle": "2024-10-17T10:12:29.216248Z",
     "shell.execute_reply": "2024-10-17T10:12:29.215920Z",
     "shell.execute_reply.started": "2024-10-17T10:12:29.212641Z"
    },
    "tags": []
   },
   "outputs": [],
   "source": [
    "list(df_spec.columns)"
   ]
  },
  {
   "cell_type": "markdown",
   "id": "a81b1aa2-7edc-4a24-9c44-c24c3826c18f",
   "metadata": {
    "tags": []
   },
   "source": [
    "### Define if a target is faint or bright"
   ]
  },
  {
   "cell_type": "code",
   "execution_count": null,
   "id": "412e59e0-f026-42d0-b6e1-7e5185c7e9dd",
   "metadata": {
    "execution": {
     "iopub.execute_input": "2024-10-17T10:12:29.216765Z",
     "iopub.status.busy": "2024-10-17T10:12:29.216649Z",
     "iopub.status.idle": "2024-10-17T10:12:29.219134Z",
     "shell.execute_reply": "2024-10-17T10:12:29.218792Z",
     "shell.execute_reply.started": "2024-10-17T10:12:29.216754Z"
    },
    "tags": []
   },
   "outputs": [],
   "source": [
    "def IsFaint(row):\n",
    "    List_Of_Faint_targets = ['Feige110','HD074000','HD115169','HD031128','HD200654','HD167060','HD009051','HD142331','HD160617','HD111980']\n",
    "    List_Of_faint_selected = List_Of_Faint_targets[:4]\n",
    "    if row[\"TARGET\"] in List_Of_faint_selected:\n",
    "        return True\n",
    "    else:\n",
    "        return False"
   ]
  },
  {
   "cell_type": "code",
   "execution_count": null,
   "id": "07cd52bf-50de-4190-ad3f-d68aaf18039e",
   "metadata": {
    "execution": {
     "iopub.execute_input": "2024-10-17T10:12:29.219631Z",
     "iopub.status.busy": "2024-10-17T10:12:29.219518Z",
     "iopub.status.idle": "2024-10-17T10:12:29.271527Z",
     "shell.execute_reply": "2024-10-17T10:12:29.271094Z",
     "shell.execute_reply.started": "2024-10-17T10:12:29.219621Z"
    }
   },
   "outputs": [],
   "source": [
    "df_spec[\"isFaint\"] = df_spec.apply(IsFaint,axis=1)"
   ]
  },
  {
   "cell_type": "markdown",
   "id": "3af3b3b6-7774-4b43-830b-a287c4e3281b",
   "metadata": {},
   "source": [
    "### Compute NightObs"
   ]
  },
  {
   "cell_type": "code",
   "execution_count": null,
   "id": "4de5d570-2e92-468b-ab07-63fffd8d2b8c",
   "metadata": {
    "execution": {
     "iopub.execute_input": "2024-10-17T10:12:29.272087Z",
     "iopub.status.busy": "2024-10-17T10:12:29.271967Z",
     "iopub.status.idle": "2024-10-17T10:12:29.322753Z",
     "shell.execute_reply": "2024-10-17T10:12:29.322324Z",
     "shell.execute_reply.started": "2024-10-17T10:12:29.272075Z"
    }
   },
   "outputs": [],
   "source": [
    "df_spec[\"nightObs\"] = df_spec.apply(lambda x: x['id']//100_000, axis=1)"
   ]
  },
  {
   "cell_type": "code",
   "execution_count": null,
   "id": "079b9ebb-4e59-4364-8ffa-f0439e943959",
   "metadata": {
    "execution": {
     "iopub.execute_input": "2024-10-17T10:12:29.323359Z",
     "iopub.status.busy": "2024-10-17T10:12:29.323224Z",
     "iopub.status.idle": "2024-10-17T10:12:29.325459Z",
     "shell.execute_reply": "2024-10-17T10:12:29.325117Z",
     "shell.execute_reply.started": "2024-10-17T10:12:29.323346Z"
    }
   },
   "outputs": [],
   "source": [
    "if FLAG_WITHCOLLIMATOR:\n",
    "    df_spec = df_spec[df_spec[\"nightObs\"]> 20230930]"
   ]
  },
  {
   "cell_type": "markdown",
   "id": "a4f8b443-4bc5-46fc-a548-33441edee6da",
   "metadata": {},
   "source": [
    "## Apply Quality selection"
   ]
  },
  {
   "cell_type": "code",
   "execution_count": null,
   "id": "2325b3ff-29c2-445a-b25e-cc11aba4f45a",
   "metadata": {
    "execution": {
     "iopub.execute_input": "2024-10-17T10:12:29.326002Z",
     "iopub.status.busy": "2024-10-17T10:12:29.325884Z",
     "iopub.status.idle": "2024-10-17T10:12:29.472412Z",
     "shell.execute_reply": "2024-10-17T10:12:29.472057Z",
     "shell.execute_reply.started": "2024-10-17T10:12:29.325991Z"
    },
    "tags": []
   },
   "outputs": [],
   "source": [
    "fig,ax = plt.subplots(1,1)\n",
    "df_spec[\"CHI2_FIT\"].hist(bins=50,ax=ax,range=(0,200))\n",
    "ax.set_yscale(\"log\")"
   ]
  },
  {
   "cell_type": "markdown",
   "id": "a7aaca44-ad09-4883-8a7d-413b71e8b4a2",
   "metadata": {},
   "source": [
    "### Add the Time in pd.datetime"
   ]
  },
  {
   "cell_type": "code",
   "execution_count": null,
   "id": "0d10c1ad-c5dc-4487-baa9-7c71ec531f45",
   "metadata": {
    "execution": {
     "iopub.execute_input": "2024-10-17T10:12:29.473006Z",
     "iopub.status.busy": "2024-10-17T10:12:29.472878Z",
     "iopub.status.idle": "2024-10-17T10:12:29.559641Z",
     "shell.execute_reply": "2024-10-17T10:12:29.559273Z",
     "shell.execute_reply.started": "2024-10-17T10:12:29.472993Z"
    }
   },
   "outputs": [],
   "source": [
    "df_spec[\"Time\"] = pd.to_datetime(df_spec[\"DATE-OBS\"])"
   ]
  },
  {
   "cell_type": "code",
   "execution_count": null,
   "id": "66cfe082-4e0c-4b83-ac40-122ba4c58ec4",
   "metadata": {
    "execution": {
     "iopub.execute_input": "2024-10-17T10:12:29.560185Z",
     "iopub.status.busy": "2024-10-17T10:12:29.560062Z",
     "iopub.status.idle": "2024-10-17T10:12:29.564415Z",
     "shell.execute_reply": "2024-10-17T10:12:29.564078Z",
     "shell.execute_reply.started": "2024-10-17T10:12:29.560174Z"
    },
    "tags": []
   },
   "outputs": [],
   "source": [
    "DT = pd.Timedelta(minutes=7*24*60)\n",
    "TMIN  = df_spec[\"Time\"].min()-DT\n",
    "TMAX  = df_spec[\"Time\"].max()+DT"
   ]
  },
  {
   "cell_type": "code",
   "execution_count": null,
   "id": "91f564ab-26cc-4b29-9499-5641c06ad73c",
   "metadata": {
    "tags": []
   },
   "outputs": [],
   "source": []
  },
  {
   "cell_type": "markdown",
   "id": "90783a42-5ed9-4ad8-8457-bbe1569413fe",
   "metadata": {},
   "source": [
    "## Compute night boundaries"
   ]
  },
  {
   "cell_type": "code",
   "execution_count": null,
   "id": "0ee7679a-ea50-4190-9400-664370a6b7f0",
   "metadata": {
    "execution": {
     "iopub.execute_input": "2024-10-17T10:12:29.564961Z",
     "iopub.status.busy": "2024-10-17T10:12:29.564843Z",
     "iopub.status.idle": "2024-10-17T10:12:29.569627Z",
     "shell.execute_reply": "2024-10-17T10:12:29.569291Z",
     "shell.execute_reply.started": "2024-10-17T10:12:29.564950Z"
    },
    "tags": []
   },
   "outputs": [],
   "source": [
    "def GetNightBoundariesDict(df_spec):\n",
    "    \"\"\"\n",
    "    input:\n",
    "      df_spec the dataframe for spectroscopy summary results\n",
    "    output:\n",
    "      the dict of night boudaries\n",
    "    \"\"\"\n",
    "    \n",
    "    Dt = pd.Timedelta(minutes=30)\n",
    "    d = {}\n",
    "    list_of_nightobs = df_spec[\"nightObs\"].unique()\n",
    "    for nightobs in list_of_nightobs:\n",
    "        sel_flag = df_spec[\"nightObs\"]== nightobs\n",
    "        df_night = df_spec[sel_flag]\n",
    "        tmin = df_night[\"Time\"].min()-Dt\n",
    "        tmax = df_night[\"Time\"].max()+Dt\n",
    "        d[nightobs] = (tmin,tmax)\n",
    "    return d"
   ]
  },
  {
   "cell_type": "code",
   "execution_count": null,
   "id": "b4e4e1eb-c4c1-4bdf-b88f-b44bd55b2435",
   "metadata": {
    "execution": {
     "iopub.execute_input": "2024-10-17T10:12:29.570152Z",
     "iopub.status.busy": "2024-10-17T10:12:29.570028Z",
     "iopub.status.idle": "2024-10-17T10:12:29.642282Z",
     "shell.execute_reply": "2024-10-17T10:12:29.641922Z",
     "shell.execute_reply.started": "2024-10-17T10:12:29.570141Z"
    },
    "tags": []
   },
   "outputs": [],
   "source": [
    "dn = GetNightBoundariesDict(df_spec)"
   ]
  },
  {
   "cell_type": "markdown",
   "id": "715cae7e-32ff-46c8-8d1a-a7c220a9eaed",
   "metadata": {},
   "source": [
    "## Plot all data"
   ]
  },
  {
   "cell_type": "code",
   "execution_count": null,
   "id": "3fd02994-4a05-4145-8da9-10ac7f5b920a",
   "metadata": {
    "execution": {
     "iopub.execute_input": "2024-10-17T10:12:29.642875Z",
     "iopub.status.busy": "2024-10-17T10:12:29.642749Z",
     "iopub.status.idle": "2024-10-17T10:12:30.117666Z",
     "shell.execute_reply": "2024-10-17T10:12:30.117256Z",
     "shell.execute_reply.started": "2024-10-17T10:12:29.642864Z"
    }
   },
   "outputs": [],
   "source": [
    "from matplotlib.dates import DateFormatter\n",
    "date_form = DateFormatter(\"%y-%m-%dT%H:%M\")\n",
    "fig,axs = plt.subplots(1,1,figsize=(14,6))\n",
    "ax  = axs\n",
    "leg=ax.get_legend()\n",
    "\n",
    "ax.set_xlim(TMIN,TMAX) \n",
    "df_m.plot(x=\"Time\",y=\"TQV\",ax=ax,marker=\".\",c=\"b\",lw=0.5,label=\"Merra2\",legend=leg)   \n",
    "df_spec.plot(x=\"Time\",y=\"PWV [mm]_x\",ax=ax,marker='+',c=\"r\",lw=0.0,grid=True,label=tag,legend=leg)\n",
    "ax.set_ylabel(\"PWV [mm]_x\")\n",
    "\n",
    "ax.set_xlabel(\"time\")\n",
    "ax.xaxis.set_major_formatter(date_form)\n",
    "ax.set_title(\"Precipitable water vapor measured by holo vs time\")\n",
    "ax.legend()\n",
    "\n",
    "for key, tt in dn.items():\n",
    "    ax.axvspan(tt[0],tt[1], color='blue', alpha=0.1)\n",
    "\n",
    "ax.set_ylim(0.,15.)\n",
    "plt.tight_layout()"
   ]
  },
  {
   "cell_type": "markdown",
   "id": "564f9a05-b3e2-4d61-9457-cda76ebd2a1b",
   "metadata": {},
   "source": [
    "## Apply Quality selection cuts"
   ]
  },
  {
   "cell_type": "code",
   "execution_count": null,
   "id": "cde62465-0e2e-4216-8deb-0659b8e42f52",
   "metadata": {
    "execution": {
     "iopub.execute_input": "2024-10-17T10:12:30.118282Z",
     "iopub.status.busy": "2024-10-17T10:12:30.118149Z",
     "iopub.status.idle": "2024-10-17T10:12:30.121015Z",
     "shell.execute_reply": "2024-10-17T10:12:30.120662Z",
     "shell.execute_reply.started": "2024-10-17T10:12:30.118270Z"
    },
    "tags": []
   },
   "outputs": [],
   "source": [
    "def getSelectionCutOld(df_spec, chi2max=20., pwvmin=0.1, pwvmax = 14.9):\n",
    "    cut =  (df_spec[\"CHI2_FIT\"]<chi2max) & (df_spec[\"PWV [mm]_x\"] > pwvmin) & (df_spec[\"PWV [mm]_x\"] < pwvmax) \n",
    "    return cut"
   ]
  },
  {
   "cell_type": "code",
   "execution_count": null,
   "id": "51bff128-4de1-4396-ac64-e56336d8dd67",
   "metadata": {
    "execution": {
     "iopub.execute_input": "2024-10-17T10:12:30.121579Z",
     "iopub.status.busy": "2024-10-17T10:12:30.121457Z",
     "iopub.status.idle": "2024-10-17T10:12:30.129655Z",
     "shell.execute_reply": "2024-10-17T10:12:30.129277Z",
     "shell.execute_reply.started": "2024-10-17T10:12:30.121567Z"
    }
   },
   "outputs": [],
   "source": [
    "def getSelectionCut(df_spec, chi2max=20., pwvmin=0.1, pwvmax = 14.9,ozmin=100.,ozmax=600.):\n",
    "    cut =  (df_spec[\"CHI2_FIT\"]<chi2max) & (df_spec[\"PWV [mm]_x\"] > pwvmin) & (df_spec[\"PWV [mm]_x\"] < pwvmax) & (df_spec[\"D2CCD\"]>186.5) &  (df_spec[\"D2CCD\"]<187.3) & \\\n",
    "    (df_spec['EXPTIME'] > 20.) & (df_spec[\"PWV [mm]_y\"] > pwvmin) & (df_spec[\"PWV [mm]_y\"] < pwvmax) & \\\n",
    "    (df_spec[\"ozone [db]_y\"] > ozmin) & (df_spec[\"ozone [db]_y\"] < ozmax) & (df_spec[\"TARGET\"] == \"HD185975\")\n",
    "    return cut"
   ]
  },
  {
   "cell_type": "code",
   "execution_count": null,
   "id": "99017666-4267-4f7c-a926-2da40fe78c00",
   "metadata": {
    "execution": {
     "iopub.execute_input": "2024-10-17T10:12:30.130177Z",
     "iopub.status.busy": "2024-10-17T10:12:30.130047Z",
     "iopub.status.idle": "2024-10-17T10:12:30.133896Z",
     "shell.execute_reply": "2024-10-17T10:12:30.133535Z",
     "shell.execute_reply.started": "2024-10-17T10:12:30.130165Z"
    }
   },
   "outputs": [],
   "source": [
    "def getSelectionCutNoPolar(df_spec, chi2max=20., pwvmin=0.1, pwvmax = 14.9,ozmin=100.,ozmax=600.):\n",
    "    cut =  (df_spec[\"CHI2_FIT\"]<chi2max) & (df_spec[\"PWV [mm]_x\"] > pwvmin) & (df_spec[\"PWV [mm]_x\"] < pwvmax) & (df_spec[\"D2CCD\"]>186.5) &  (df_spec[\"D2CCD\"]<187.3) & \\\n",
    "    (df_spec['EXPTIME'] > 20.) & (df_spec[\"PWV [mm]_y\"] > pwvmin) & (df_spec[\"PWV [mm]_y\"] < pwvmax) & \\\n",
    "    (df_spec[\"ozone [db]_y\"] > ozmin) & (df_spec[\"ozone [db]_y\"] < ozmax) & (df_spec[\"TARGET\"] != \"HD185975\")\n",
    "    return cut"
   ]
  },
  {
   "cell_type": "code",
   "execution_count": null,
   "id": "19b35b65-0191-4f70-9623-b3ecaeebe96e",
   "metadata": {
    "execution": {
     "iopub.execute_input": "2024-10-17T10:12:30.134477Z",
     "iopub.status.busy": "2024-10-17T10:12:30.134346Z",
     "iopub.status.idle": "2024-10-17T10:12:30.142470Z",
     "shell.execute_reply": "2024-10-17T10:12:30.142124Z",
     "shell.execute_reply.started": "2024-10-17T10:12:30.134465Z"
    }
   },
   "outputs": [],
   "source": [
    "def getSelectionCutWithPolar(df_spec, chi2max=20., pwvmin=0.1, pwvmax = 14.9,ozmin=100.,ozmax=600.):\n",
    "    cut =  (df_spec[\"CHI2_FIT\"]<chi2max) & (df_spec[\"PWV [mm]_x\"] > pwvmin) & (df_spec[\"PWV [mm]_x\"] < pwvmax) & (df_spec[\"D2CCD\"]>186.5) &  (df_spec[\"D2CCD\"]<187.3) & \\\n",
    "    (df_spec['EXPTIME'] > 20.) & (df_spec[\"PWV [mm]_y\"] > pwvmin) & (df_spec[\"PWV [mm]_y\"] < pwvmax) & \\\n",
    "    (df_spec[\"ozone [db]_y\"] > ozmin) & (df_spec[\"ozone [db]_y\"] < ozmax) & (df_spec[\"TARGET\"] == \"HD185975\")\n",
    "    return cut"
   ]
  },
  {
   "cell_type": "code",
   "execution_count": null,
   "id": "4fd887fa-0420-483e-a71e-4a476d418675",
   "metadata": {
    "execution": {
     "iopub.execute_input": "2024-10-17T10:12:30.143019Z",
     "iopub.status.busy": "2024-10-17T10:12:30.142900Z",
     "iopub.status.idle": "2024-10-17T10:12:30.151156Z",
     "shell.execute_reply": "2024-10-17T10:12:30.150805Z",
     "shell.execute_reply.started": "2024-10-17T10:12:30.143008Z"
    },
    "tags": []
   },
   "outputs": [],
   "source": [
    "cut = getSelectionCut(df_spec)\n",
    "cut_nopolar = getSelectionCutNoPolar(df_spec) & (~df_spec[\"isFaint\"])\n",
    "cut_wthpolar = getSelectionCutWithPolar(df_spec)"
   ]
  },
  {
   "cell_type": "code",
   "execution_count": null,
   "id": "1b675e35-55ff-41af-82bf-85bb4c3267be",
   "metadata": {
    "execution": {
     "iopub.execute_input": "2024-10-17T10:12:30.151717Z",
     "iopub.status.busy": "2024-10-17T10:12:30.151594Z",
     "iopub.status.idle": "2024-10-17T10:12:30.162378Z",
     "shell.execute_reply": "2024-10-17T10:12:30.161964Z",
     "shell.execute_reply.started": "2024-10-17T10:12:30.151706Z"
    },
    "tags": []
   },
   "outputs": [],
   "source": [
    "cut = getSelectionCut(df_spec)\n",
    "cut_nopolar = getSelectionCutNoPolar(df_spec)\n",
    "cut_nopolar_bright = getSelectionCutNoPolar(df_spec) & (~df_spec[\"isFaint\"])\n",
    "cut_nopolar_faint = getSelectionCutNoPolar(df_spec) & (df_spec[\"isFaint\"])\n",
    "cut_wthpolar = getSelectionCutWithPolar(df_spec)"
   ]
  },
  {
   "cell_type": "code",
   "execution_count": null,
   "id": "e1cbfa40-4395-47f4-9acf-6a9f531fabd4",
   "metadata": {
    "execution": {
     "iopub.execute_input": "2024-10-17T10:12:30.163109Z",
     "iopub.status.busy": "2024-10-17T10:12:30.162808Z",
     "iopub.status.idle": "2024-10-17T10:12:30.170099Z",
     "shell.execute_reply": "2024-10-17T10:12:30.169735Z",
     "shell.execute_reply.started": "2024-10-17T10:12:30.163092Z"
    }
   },
   "outputs": [],
   "source": [
    "df_spec_sel = df_spec[cut]\n",
    "df_spec_np = df_spec[cut_nopolar] \n",
    "df_spec_np_b = df_spec[cut_nopolar_bright]\n",
    "df_spec_np_f = df_spec[cut_nopolar_faint]\n",
    "df_spec_wp = df_spec[cut_wthpolar]"
   ]
  },
  {
   "cell_type": "code",
   "execution_count": null,
   "id": "bae62b07-17d4-423e-bdfe-634272a040a2",
   "metadata": {
    "execution": {
     "iopub.execute_input": "2024-10-17T10:12:30.170754Z",
     "iopub.status.busy": "2024-10-17T10:12:30.170562Z",
     "iopub.status.idle": "2024-10-17T10:12:30.173602Z",
     "shell.execute_reply": "2024-10-17T10:12:30.173176Z",
     "shell.execute_reply.started": "2024-10-17T10:12:30.170740Z"
    },
    "tags": []
   },
   "outputs": [],
   "source": [
    "df_spec_sel.reset_index(drop=True,inplace=True)\n",
    "df_spec_np.reset_index(drop=True,inplace=True)\n",
    "df_spec_wp.reset_index(drop=True,inplace=True) \n",
    "df_spec_np_b.reset_index(drop=True,inplace=True)\n",
    "df_spec_np_f.reset_index(drop=True,inplace=True)"
   ]
  },
  {
   "cell_type": "markdown",
   "id": "030bf82d-8d80-492c-96cf-4506c2eac282",
   "metadata": {
    "tags": []
   },
   "source": [
    "## Recompute night boundaries"
   ]
  },
  {
   "cell_type": "code",
   "execution_count": null,
   "id": "1e41540b-d7cd-49c8-88dc-4175db604a17",
   "metadata": {
    "execution": {
     "iopub.execute_input": "2024-10-17T10:12:30.174179Z",
     "iopub.status.busy": "2024-10-17T10:12:30.174054Z",
     "iopub.status.idle": "2024-10-17T10:12:30.176784Z",
     "shell.execute_reply": "2024-10-17T10:12:30.176417Z",
     "shell.execute_reply.started": "2024-10-17T10:12:30.174168Z"
    },
    "tags": []
   },
   "outputs": [],
   "source": [
    "#dn = GetNightBoundariesDict(df_spec_sel)"
   ]
  },
  {
   "cell_type": "markdown",
   "id": "c4c10f08-5d32-465f-afd6-e51c1716bbd2",
   "metadata": {},
   "source": [
    "## Plot all data"
   ]
  },
  {
   "cell_type": "code",
   "execution_count": null,
   "id": "58b3d86e-7a6a-4685-8f5c-af994b7b2164",
   "metadata": {
    "execution": {
     "iopub.execute_input": "2024-10-17T10:12:30.177295Z",
     "iopub.status.busy": "2024-10-17T10:12:30.177181Z",
     "iopub.status.idle": "2024-10-17T10:12:30.862281Z",
     "shell.execute_reply": "2024-10-17T10:12:30.861911Z",
     "shell.execute_reply.started": "2024-10-17T10:12:30.177283Z"
    },
    "tags": []
   },
   "outputs": [],
   "source": [
    "from matplotlib.dates import DateFormatter\n",
    "#date_form = DateFormatter(\"%y-%m-%dT%H:%M\")\n",
    "date_form = DateFormatter(\"%y-%m-%d\")\n",
    "fig,axs = plt.subplots(1,1,figsize=(14,6),layout='constrained')\n",
    "ax  = axs\n",
    "leg=ax.get_legend()\n",
    "\n",
    "ax.set_xlim(TMIN,TMAX) \n",
    "df_m.plot(x=\"Time\",y=\"TQV\",ax=ax,marker=\".\",c=\"b\",lw=0.5,label=\"Merra2\",legend=leg)     \n",
    "    \n",
    "\n",
    "\n",
    "#df_spec_sel.plot(x=\"Time\",y=\"PWV [mm]_x\",ax=ax,marker='o',c=\"r\",lw=0.0,grid=True,label=tag,legend=leg,ms=5,alpha=0.2)\n",
    "df_spec_np_f.plot(x=\"Time\",y=\"PWV [mm]_x\",ax=ax,marker='o',c=\"grey\",lw=0.0,grid=True,label=\"faint,no polar\",legend=leg,ms=5,alpha=0.2)\n",
    "df_spec_np_b.plot(x=\"Time\",y=\"PWV [mm]_x\",ax=ax,marker='o',c=\"orange\",lw=0.0,grid=True,label=\"bright,no polar\",legend=leg,ms=5,alpha=0.2)\n",
    "df_spec_np.plot(x=\"Time\",y=\"PWV [mm]_x\",ax=ax,marker='o',c=\"r\",lw=0.0,grid=True,label=\"no polar\",legend=leg,ms=5,alpha=0.2)\n",
    "df_spec_wp.plot(x=\"Time\",y=\"PWV [mm]_x\",ax=ax,marker='o',c=\"g\",lw=0.0,grid=True,label=\"with polar\",legend=leg,ms=5,alpha=0.2)\n",
    "ax.set_ylabel(\"PWV [mm]_x\")\n",
    "ax.set_xlabel(\"time\")\n",
    "ax.xaxis.set_major_formatter(date_form)\n",
    "ax.set_title(\"Precipitable water vapor measured by holo selected vs time\")\n",
    "ax.legend()\n",
    "\n",
    "for key, tt in dn.items():\n",
    "    ax.axvspan(tt[0],tt[1], color='blue', alpha=0.1)\n",
    "\n",
    "plt.tight_layout()\n",
    " \n",
    "\n",
    "\n",
    "ax.set_ylim(0.,15.)\n",
    "ax.set_xlim(TMIN,TMAX)\n",
    "\n",
    "figname =f\"{pathfigs}/pwvholoM2_allpoints_allnights\"+figtype\n",
    "plt.savefig(figname)\n",
    "plt.show()"
   ]
  },
  {
   "cell_type": "code",
   "execution_count": null,
   "id": "8e3bc0a1-a026-451c-b83f-b190c710d1a7",
   "metadata": {},
   "outputs": [],
   "source": []
  },
  {
   "cell_type": "code",
   "execution_count": null,
   "id": "23e66ab2-c1cc-46ac-9f49-a8d6cdc9a0a2",
   "metadata": {},
   "outputs": [],
   "source": []
  }
 ],
 "metadata": {
  "kernelspec": {
   "display_name": "Python 3 (ipykernel)",
   "language": "python",
   "name": "python3"
  },
  "language_info": {
   "codemirror_mode": {
    "name": "ipython",
    "version": 3
   },
   "file_extension": ".py",
   "mimetype": "text/x-python",
   "name": "python",
   "nbconvert_exporter": "python",
   "pygments_lexer": "ipython3",
   "version": "3.11.9"
  }
 },
 "nbformat": 4,
 "nbformat_minor": 5
}
