{
 "cells": [
  {
   "cell_type": "markdown",
   "id": "eca66c96-a44c-4412-8ec7-7834e8433666",
   "metadata": {},
   "source": [
    "# Test the histogramm variable binning\n",
    "\n",
    "- author : Sylvie Dagoret-Campagne\n",
    "- creation date : 2025-02-07"
   ]
  },
  {
   "cell_type": "markdown",
   "id": "ea931208-f029-4977-8a6a-c7d9e477a301",
   "metadata": {},
   "source": [
    "## Import"
   ]
  },
  {
   "cell_type": "code",
   "execution_count": null,
   "id": "50fa5367-8787-4932-95b9-4cbe23757499",
   "metadata": {
    "execution": {
     "iopub.execute_input": "2025-02-07T13:43:44.509357Z",
     "iopub.status.busy": "2025-02-07T13:43:44.508941Z",
     "iopub.status.idle": "2025-02-07T13:43:45.091421Z",
     "shell.execute_reply": "2025-02-07T13:43:45.090169Z",
     "shell.execute_reply.started": "2025-02-07T13:43:44.509340Z"
    }
   },
   "outputs": [],
   "source": [
    "import numpy as np\n",
    "from numpy.linalg import inv\n",
    "import matplotlib as mpl\n",
    "import matplotlib.pyplot as plt\n",
    "%matplotlib inline\n",
    "from mpl_toolkits.axes_grid1 import make_axes_locatable\n",
    "from matplotlib.colors import LogNorm,SymLogNorm\n",
    "from matplotlib.patches import Circle,Annulus\n",
    "from astropy.visualization import ZScaleInterval\n",
    "props = dict(boxstyle='round', facecolor=\"white\", alpha=0.1)\n",
    "#props = dict(boxstyle='round')\n",
    "\n",
    "import matplotlib.colors as colors\n",
    "import matplotlib.cm as cmx\n",
    "\n",
    "import matplotlib.ticker                         # here's where the formatter is\n",
    "from matplotlib.ticker import (MultipleLocator, FormatStrFormatter,\n",
    "                               AutoMinorLocator)\n",
    "\n",
    "from matplotlib.gridspec import GridSpec\n",
    "\n",
    "from astropy.visualization import (MinMaxInterval, SqrtStretch,ZScaleInterval,PercentileInterval,\n",
    "                                   ImageNormalize,imshow_norm)\n",
    "from astropy.visualization.stretch import SinhStretch, LinearStretch,AsinhStretch,LogStretch\n",
    "\n",
    "from astropy.io import fits\n",
    "from astropy.wcs import WCS\n",
    "from astropy import units as u\n",
    "from astropy import constants as c\n",
    "\n",
    "from astropy.coordinates.earth import EarthLocation\n",
    "from datetime import datetime\n",
    "from pytz import timezone\n",
    "import pandas as pd"
   ]
  },
  {
   "cell_type": "markdown",
   "id": "1dd2f654-7c7b-457d-9f95-ba33b2674fdc",
   "metadata": {},
   "source": [
    "## Configuration"
   ]
  },
  {
   "cell_type": "code",
   "execution_count": null,
   "id": "b6ea8fd4-3423-4524-ae02-0fd847ed26dd",
   "metadata": {
    "execution": {
     "iopub.execute_input": "2025-02-07T13:42:10.779562Z",
     "iopub.status.busy": "2025-02-07T13:42:10.779259Z",
     "iopub.status.idle": "2025-02-07T13:42:10.783141Z",
     "shell.execute_reply": "2025-02-07T13:42:10.782717Z",
     "shell.execute_reply.started": "2025-02-07T13:42:10.779545Z"
    }
   },
   "outputs": [],
   "source": [
    "# where are stored the figures\n",
    "pathfigs = \"figsTestVariableBinning\"\n",
    "if not os.path.exists(pathfigs):\n",
    "    os.makedirs(pathfigs) \n",
    "figtype = \".png\""
   ]
  },
  {
   "cell_type": "code",
   "execution_count": null,
   "id": "eed17247-57fa-47c1-bb22-f8c92f32b368",
   "metadata": {
    "execution": {
     "iopub.execute_input": "2025-02-07T13:42:10.783884Z",
     "iopub.status.busy": "2025-02-07T13:42:10.783614Z",
     "iopub.status.idle": "2025-02-07T13:42:10.789016Z",
     "shell.execute_reply": "2025-02-07T13:42:10.788595Z",
     "shell.execute_reply.started": "2025-02-07T13:42:10.783868Z"
    }
   },
   "outputs": [],
   "source": [
    "pathdata = \"dataHoloCorrelationPWVTime-v3\""
   ]
  },
  {
   "cell_type": "code",
   "execution_count": null,
   "id": "abbfed29-36d1-4264-aed1-6677e86e6b87",
   "metadata": {
    "execution": {
     "iopub.execute_input": "2025-02-07T13:42:10.789753Z",
     "iopub.status.busy": "2025-02-07T13:42:10.789529Z",
     "iopub.status.idle": "2025-02-07T13:42:10.795976Z",
     "shell.execute_reply": "2025-02-07T13:42:10.795571Z",
     "shell.execute_reply.started": "2025-02-07T13:42:10.789738Z"
    }
   },
   "outputs": [],
   "source": [
    "input_filename_pairs_clearsky = f\"{pathdata}/pairs_tpwv_vs_dt_clearsky_nobinning.csv\"\n",
    "input_filename_pairs_clouddy = f\"{pathdata}/pairs_tpwv_vs_dt_clouddy_nobinning.csv\""
   ]
  },
  {
   "cell_type": "markdown",
   "id": "30e1bbdf-baad-4515-8880-d3ab9b7d972b",
   "metadata": {},
   "source": [
    "## Initialisation"
   ]
  },
  {
   "cell_type": "code",
   "execution_count": null,
   "id": "4ae7f4ad-079f-40be-9682-91e0ab349bcf",
   "metadata": {
    "execution": {
     "iopub.execute_input": "2025-02-07T13:43:47.495112Z",
     "iopub.status.busy": "2025-02-07T13:43:47.494460Z",
     "iopub.status.idle": "2025-02-07T13:43:47.700789Z",
     "shell.execute_reply": "2025-02-07T13:43:47.700088Z",
     "shell.execute_reply.started": "2025-02-07T13:43:47.495095Z"
    }
   },
   "outputs": [],
   "source": [
    "df_clearsky = pd.read_csv(input_filename_pairs_clearsky)\n",
    "df_clouddy = pd.read_csv(input_filename_pairs_clouddy)"
   ]
  },
  {
   "cell_type": "code",
   "execution_count": null,
   "id": "55918056-e081-4596-aacc-e23a7ea2ba88",
   "metadata": {
    "execution": {
     "iopub.execute_input": "2025-02-07T13:45:13.220142Z",
     "iopub.status.busy": "2025-02-07T13:45:13.219860Z",
     "iopub.status.idle": "2025-02-07T13:45:13.641025Z",
     "shell.execute_reply": "2025-02-07T13:45:13.640315Z",
     "shell.execute_reply.started": "2025-02-07T13:45:13.220127Z"
    }
   },
   "outputs": [],
   "source": [
    "!ls dataHoloCorrelationPWVTime-v3"
   ]
  },
  {
   "cell_type": "code",
   "execution_count": null,
   "id": "6e8006f0-3235-416f-bad2-0caf8f18506e",
   "metadata": {
    "execution": {
     "iopub.execute_input": "2025-02-07T13:45:59.757847Z",
     "iopub.status.busy": "2025-02-07T13:45:59.757553Z",
     "iopub.status.idle": "2025-02-07T13:46:00.151932Z",
     "shell.execute_reply": "2025-02-07T13:46:00.151246Z",
     "shell.execute_reply.started": "2025-02-07T13:45:59.757815Z"
    }
   },
   "outputs": [],
   "source": [
    "!pwd"
   ]
  },
  {
   "cell_type": "code",
   "execution_count": null,
   "id": "2a6af88b-1610-4df6-b805-abd731db0774",
   "metadata": {},
   "outputs": [],
   "source": []
  }
 ],
 "metadata": {
  "kernelspec": {
   "display_name": "LSST",
   "language": "python",
   "name": "lsst"
  },
  "language_info": {
   "codemirror_mode": {
    "name": "ipython",
    "version": 3
   },
   "file_extension": ".py",
   "mimetype": "text/x-python",
   "name": "python",
   "nbconvert_exporter": "python",
   "pygments_lexer": "ipython3",
   "version": "3.11.9"
  }
 },
 "nbformat": 4,
 "nbformat_minor": 5
}
