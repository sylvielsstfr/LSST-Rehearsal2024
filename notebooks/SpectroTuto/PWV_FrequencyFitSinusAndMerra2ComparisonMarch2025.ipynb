{
 "cells": [
  {
   "cell_type": "markdown",
   "id": "45bf4242-bfc5-4d43-88c4-a8059ae148df",
   "metadata": {},
   "source": [
    "# Frequencies in PWV variation and comparison to Merra2 and Discrete Time Covariance Function"
   ]
  },
  {
   "cell_type": "markdown",
   "id": "ff11f089-a28c-45c6-906b-df4df0d4ebfe",
   "metadata": {},
   "source": [
    "- author Sylvie Dagoret-Campagne\n",
    "- affiliation : IJCLab\n",
    "- creation date 2025-03-15 :\n",
    "- last update 2025-03-16\n",
    "- laptiop : conda_py311"
   ]
  },
  {
   "cell_type": "markdown",
   "id": "0219159d-6865-4311-ac1d-99d11dad223f",
   "metadata": {},
   "source": [
    "**Goal** : Show correlation holo /Merra"
   ]
  },
  {
   "cell_type": "code",
   "execution_count": null,
   "id": "63a2b2ef-0bc2-45eb-91d9-87835d264751",
   "metadata": {
    "tags": []
   },
   "outputs": [],
   "source": [
    "from platform import python_version\n",
    "print(python_version())"
   ]
  },
  {
   "cell_type": "code",
   "execution_count": null,
   "id": "dcc53afe-c58f-4948-92c9-0090d373ad2a",
   "metadata": {},
   "outputs": [],
   "source": [
    "import warnings\n",
    "warnings.resetwarnings()\n",
    "warnings.simplefilter('ignore')"
   ]
  },
  {
   "cell_type": "code",
   "execution_count": null,
   "id": "8026d265-2493-4045-afec-26205ff71f7c",
   "metadata": {
    "tags": []
   },
   "outputs": [],
   "source": [
    "from platform import python_version\n",
    "print(python_version())"
   ]
  },
  {
   "cell_type": "code",
   "execution_count": null,
   "id": "eb1f116e-80e3-46ad-a7db-7f253632e5ca",
   "metadata": {},
   "outputs": [],
   "source": [
    "import os,glob"
   ]
  },
  {
   "cell_type": "code",
   "execution_count": null,
   "id": "c4ff1199-6b0a-4147-a425-59405f74c454",
   "metadata": {},
   "outputs": [],
   "source": [
    "#from pyzdcf import pyzdcf"
   ]
  },
  {
   "cell_type": "markdown",
   "id": "1d865bc1-3c51-42a0-8c0b-6f5f01550af5",
   "metadata": {},
   "source": [
    "### Output for figures"
   ]
  },
  {
   "cell_type": "code",
   "execution_count": null,
   "id": "3ec760cd-3d3f-4a34-a6f6-b226fe500951",
   "metadata": {},
   "outputs": [],
   "source": [
    "# where are stored the figures\n",
    "pathfigs = \"figsPWVFrequenciesFitSinusAuxtelMerra2\"\n",
    "if not os.path.exists(pathfigs):\n",
    "    os.makedirs(pathfigs) \n",
    "figtype = \".png\""
   ]
  },
  {
   "cell_type": "markdown",
   "id": "11065630-fe75-40f2-ac30-54ca049de808",
   "metadata": {},
   "source": [
    "### Output for data\n",
    "\n",
    "- including DCF"
   ]
  },
  {
   "cell_type": "code",
   "execution_count": null,
   "id": "805cabc7-2030-4e0b-9150-9f3186ff4821",
   "metadata": {},
   "outputs": [],
   "source": [
    "pathdata = \"dataPWVFrequenciesFitSinusAuxtelMerra2\"\n",
    "if not os.path.exists(pathdata):\n",
    "    os.makedirs(pathdata) \n",
    "\n",
    "dcf_path_input = os.path.join(pathdata,\"dcf_timecurves\") \n",
    "dcf_path_output = os.path.join(pathdata,\"dcf_results\") \n",
    "if not os.path.exists(dcf_path_input):\n",
    "    os.makedirs(dcf_path_input) \n",
    "if not os.path.exists(dcf_path_output):\n",
    "    os.makedirs(dcf_path_output) "
   ]
  },
  {
   "cell_type": "code",
   "execution_count": null,
   "id": "bf752b70-e6ca-4cbf-8e8c-20bf7f0d8f61",
   "metadata": {},
   "outputs": [],
   "source": [
    "import numpy as np\n",
    "from numpy.linalg import inv\n",
    "import matplotlib as mpl\n",
    "import matplotlib.pyplot as plt\n",
    "%matplotlib inline\n",
    "\n",
    "import matplotlib.gridspec as gridspec\n",
    "\n",
    "from mpl_toolkits.axes_grid1 import make_axes_locatable\n",
    "from matplotlib.colors import LogNorm,SymLogNorm\n",
    "from matplotlib.patches import Circle,Annulus\n",
    "from astropy.visualization import ZScaleInterval\n",
    "props = dict(boxstyle='round', facecolor=\"white\", alpha=0.1)\n",
    "#props = dict(boxstyle='round')\n",
    "\n",
    "import matplotlib.colors as colors\n",
    "import matplotlib.cm as cmx\n",
    "\n",
    "import matplotlib.dates as mdates\n",
    "\n",
    "import matplotlib.ticker                         # here's where the formatter is\n",
    "from matplotlib.ticker import (MultipleLocator, FormatStrFormatter,\n",
    "                               AutoMinorLocator)\n",
    "\n",
    "from matplotlib.gridspec import GridSpec\n",
    "\n",
    "from astropy.visualization import (MinMaxInterval, SqrtStretch,ZScaleInterval,PercentileInterval,\n",
    "                                   ImageNormalize,imshow_norm)\n",
    "from astropy.visualization.stretch import SinhStretch, LinearStretch,AsinhStretch,LogStretch\n",
    "\n",
    "from astropy.io import fits\n",
    "from astropy.wcs import WCS\n",
    "from astropy import units as u\n",
    "from astropy import constants as c\n",
    "\n",
    "from astropy.coordinates.earth import EarthLocation\n",
    "from datetime import datetime\n",
    "from pytz import timezone\n",
    "\n",
    "from scipy import interpolate\n",
    "from sklearn.neighbors import NearestNeighbors\n",
    "from sklearn.neighbors import KDTree, BallTree\n",
    "\n",
    "import pandas as pd\n",
    "pd.set_option(\"display.max_columns\", None)\n",
    "pd.set_option('display.max_rows', 100)\n",
    "\n",
    "import matplotlib.ticker                         # here's where the formatter is\n",
    "import os\n",
    "import re\n",
    "import pandas as pd\n",
    "import pickle\n",
    "from collections import OrderedDict\n",
    "\n",
    "plt.rcParams[\"figure.figsize\"] = (4,3)\n",
    "plt.rcParams[\"axes.labelsize\"] = 'xx-large'\n",
    "plt.rcParams['axes.titlesize'] = 'xx-large'\n",
    "plt.rcParams['xtick.labelsize']= 'xx-large'\n",
    "plt.rcParams['ytick.labelsize']= 'xx-large'\n",
    "\n",
    "import scipy\n",
    "from scipy.optimize import curve_fit,least_squares\n",
    "\n",
    "\n",
    "# new color correction model\n",
    "import pickle\n",
    "#from scipy.interpolate import RegularGridInterpolator\n",
    "\n",
    "import seaborn as sns"
   ]
  },
  {
   "cell_type": "code",
   "execution_count": null,
   "id": "62a8d6b4-61ec-4810-a058-e5d7f46b5ff7",
   "metadata": {},
   "outputs": [],
   "source": [
    "from astropy.modeling import models, fitting\n",
    "from statsmodels.tsa.stattools import adfuller, kpss"
   ]
  },
  {
   "cell_type": "code",
   "execution_count": null,
   "id": "98268139-19c9-46c3-af3b-42fb49770b26",
   "metadata": {},
   "outputs": [],
   "source": [
    "from mpl_toolkits.axes_grid1.inset_locator import inset_axes"
   ]
  },
  {
   "cell_type": "code",
   "execution_count": null,
   "id": "0ca0d1e6-5f82-4c43-aaa3-8524fc2bc5ba",
   "metadata": {},
   "outputs": [],
   "source": [
    "from matplotlib.ticker import (MultipleLocator, FormatStrFormatter,\n",
    "                               AutoMinorLocator)\n",
    "\n",
    "from astropy.visualization import (MinMaxInterval, SqrtStretch,ZScaleInterval,PercentileInterval,\n",
    "                                   ImageNormalize,imshow_norm)\n",
    "from astropy.visualization.stretch import SinhStretch, LinearStretch,AsinhStretch,LogStretch\n",
    "\n",
    "from astropy.time import Time\n",
    "from astropy.timeseries import LombScargle\n",
    "\n",
    "from scipy.stats import t  # Loi de Student"
   ]
  },
  {
   "cell_type": "code",
   "execution_count": null,
   "id": "4ea761f2-08a7-4c62-acea-0999264701b8",
   "metadata": {},
   "outputs": [],
   "source": [
    "#from scipy.interpolate import interp"
   ]
  },
  {
   "cell_type": "code",
   "execution_count": null,
   "id": "304287e5-3105-4dd8-93eb-d675a9c0e911",
   "metadata": {},
   "outputs": [],
   "source": [
    "from sklearn.gaussian_process.kernels import RBF\n",
    "from sklearn.gaussian_process.kernels import ExpSineSquared\n",
    "from sklearn.gaussian_process.kernels import RationalQuadratic\n",
    "from sklearn.gaussian_process.kernels import WhiteKernel\n",
    "from sklearn.gaussian_process.kernels import ConstantKernel\n",
    "from sklearn.gaussian_process import GaussianProcessRegressor"
   ]
  },
  {
   "cell_type": "code",
   "execution_count": null,
   "id": "d1a5f28f-e28c-4b80-9c46-11fa21a4b5b5",
   "metadata": {},
   "outputs": [],
   "source": [
    "from scipy.stats import levy_stable,cauchy, laplace, norm"
   ]
  },
  {
   "cell_type": "code",
   "execution_count": null,
   "id": "713a83b1-7bc7-42d2-a08c-b4619c7d38b2",
   "metadata": {},
   "outputs": [],
   "source": [
    "from pyzdcf import pyzdcf"
   ]
  },
  {
   "cell_type": "code",
   "execution_count": null,
   "id": "e189816c-5048-43ab-a01a-7c078af54489",
   "metadata": {},
   "outputs": [],
   "source": [
    "# Remove to run faster the notebook\n",
    "#! pip install ipympl  \n",
    "import ipywidgets as widgets\n",
    "%matplotlib widget"
   ]
  },
  {
   "cell_type": "code",
   "execution_count": null,
   "id": "67327fd4-e405-45ce-8923-cd46ebaa0c0f",
   "metadata": {
    "tags": []
   },
   "outputs": [],
   "source": [
    "from importlib.metadata import version"
   ]
  },
  {
   "cell_type": "code",
   "execution_count": null,
   "id": "af8332dd-24f9-4b19-88f9-c62d0a4aebf1",
   "metadata": {
    "tags": []
   },
   "outputs": [],
   "source": [
    "# wavelength bin colors\n",
    "#jet = plt.get_cmap('jet')\n",
    "#cNorm = mpl.colors.Normalize(vmin=0, vmax=NSED)\n",
    "#scalarMap = cmx.ScalarMappable(norm=cNorm, cmap=jet)\n",
    "#all_colors = scalarMap.to_rgba(np.arange(NSED), alpha=1)"
   ]
  },
  {
   "cell_type": "code",
   "execution_count": null,
   "id": "1003d9d6-a40f-48b1-9ffc-bfab9f45ba93",
   "metadata": {},
   "outputs": [],
   "source": [
    "np.__version__"
   ]
  },
  {
   "cell_type": "code",
   "execution_count": null,
   "id": "c4cb2652-cb22-432e-b110-ae71d59dc793",
   "metadata": {},
   "outputs": [],
   "source": [
    "import pandas as pd\n",
    "pd.__version__"
   ]
  },
  {
   "cell_type": "code",
   "execution_count": null,
   "id": "ad03dc3d-6741-4478-82ba-1d5447529d9a",
   "metadata": {},
   "outputs": [],
   "source": [
    "def convertNumToDatestr(num):\n",
    "    year = num//10_000\n",
    "    month= (num-year*10_000)//100\n",
    "    day = (num-year*10_000-month*100)\n",
    "\n",
    "    year_str = str(year).zfill(4)\n",
    "    month_str = str(month).zfill(2)\n",
    "    day_str = str(day).zfill(2)\n",
    "    \n",
    "    datestr = f\"{year_str}-{month_str}-{day_str}\"\n",
    "    return pd.to_datetime(datestr)"
   ]
  },
  {
   "cell_type": "code",
   "execution_count": null,
   "id": "d593f5e5-df02-42f7-b138-1440e2585a18",
   "metadata": {},
   "outputs": [],
   "source": [
    "YEAR = 365.25\n",
    "MONTHS6 = YEAR/2.\n",
    "MONTHS4 = YEAR/3.\n",
    "QUARTER = YEAR/4. \n",
    "DAY = 1.\n",
    "MONTH = YEAR/12.\n",
    "WEEK = 7*DAY"
   ]
  },
  {
   "cell_type": "code",
   "execution_count": null,
   "id": "f2acbe22-b2d3-454e-ad8a-1a63b8f340c5",
   "metadata": {},
   "outputs": [],
   "source": [
    "FIGXSIZE_1 = 14\n",
    "FIGYSIZE_1 = 8\n",
    "\n",
    "FIGXSIZE_0 = 14\n",
    "FIGYSIZE_0 = 5"
   ]
  },
  {
   "cell_type": "code",
   "execution_count": null,
   "id": "05efc580-59a7-422a-aa9b-deacf4c34f12",
   "metadata": {},
   "outputs": [],
   "source": [
    "def LombScargle_analysis(dates, values, ax ,mode = \"logxlogy\",title=\"LombScargle - Spectrum\",\n",
    "                    xlabel=\"frequency (day)$^{-1}$\",ylabel=\"y-unit\",label=\"Lomb Scargle\", legendout = True, datecut = 0 ):\n",
    "    # Centrer les données autour de la moyenne\n",
    "\n",
    "\n",
    "    if datecut>0:\n",
    "        index_selected = np.where(dates >= datecut)[0]\n",
    "        dates = dates[index_selected]\n",
    "        values = values[index_selected]\n",
    "\n",
    "    \n",
    "    values_centered = values - np.mean(values)\n",
    "    \n",
    "\n",
    "    # Nombre de points\n",
    "    N = len(dates)\n",
    "\n",
    "    # sigma\n",
    "    sigma_x = np.sqrt(np.sum(values_centered**2)/N)\n",
    "    \n",
    "    # Intervalle d'échantillonnage (assume 1 jour entre chaque point)\n",
    "    T = np.mean(np.diff(dates))  # Période d'échantillonnage\n",
    "\n",
    "    # Fréquence de Nyquist (limite de Shannon)\n",
    "    f_nyquist = 1 / (2 * T)\n",
    "    \n",
    "\n",
    "    freqs, power = LombScargle(dates, values_centered).autopower()\n",
    "   \n",
    "    ax.plot(freqs, power,'ob-' ,ms=5,label=label)\n",
    "\n",
    "    if mode == \"logxliny\":\n",
    "        ax.set_xscale(\"log\")  # Définit l'axe X en échelle logarithmique\n",
    "        ax.set_yscale(\"linear\")  # Garde l'axe Y en échelle linéaire\n",
    "    elif mode == \"logxlogy\":\n",
    "        ax.set_xscale(\"log\")  # Définit l'axe X en échelle logarithmique\n",
    "        ax.set_yscale(\"log\")  # Garde l'axe Y en échelle logarithmique\n",
    "    elif mode == \"linxlogy\":\n",
    "        ax.set_xscale(\"linear\")  # Définit l'axe X en  échelle linéaire\n",
    "        ax.set_yscale(\"log\")  # Garde l'axe Y en échelle logarithmique\n",
    "    elif mode == \"linxliny\":\n",
    "        ax.set_xscale(\"linear\")  # Définit l'axe X en échelle linéaire\n",
    "        ax.set_yscale(\"linear\")  # Garde l'axe Y en échelle linéaire\n",
    "        \n",
    "    ax.set_xlabel(xlabel)\n",
    "    ax.set_ylabel(ylabel)\n",
    "    ax.set_title(title)\n",
    "    \n",
    "\n",
    "    ax.axvline(1/YEAR, color='r', linestyle='-', label=\"Cycle : 365 days - 1 year\")\n",
    "    ax.axvline(1/MONTHS6, color='r', linestyle='--', label=\"Cycle : 182.6 days - 6 months\")\n",
    "    ax.axvline(1/MONTHS4, color='r', linestyle=':', label=\"Cycle : 121.7 days - 4 months\")\n",
    "    ax.axvline(1/QUARTER, color='r', linestyle='-.', label=\"Cycle : 91.3 days - 3 months\")\n",
    "    ax.axvline(1/MONTH, color='r', linestyle=':', label=\"Cycle : 30.4 days - 1 month\")\n",
    "    ax.axvline(1/WEEK, color='purple', linestyle='--', label=\"Cycle : 7 days - 1 week\")\n",
    "    ax.axvline(DAY, color='purple', linestyle='-', label=\"Cycle : 1 day \")\n",
    "    ax.axvline(1./(0.5*DAY), color='purple', linestyle='-.', label=\"Cycle : 0.5 day \")\n",
    "\n",
    "    #ax.axvline(f_nyquist, color='g', linestyle='--', label=f\"Nyquist frequency({f_nyquist:.3f} cycles/days)\")\n",
    "\n",
    "    txtstr_sigma = \"$\\sigma_x$ = \" + f\" {sigma_x:0.3f}\" \n",
    "    ax.text(0.01, 0.95, txtstr_sigma, transform=ax.transAxes, fontsize=16,verticalalignment='top', bbox=props)\n",
    "    \n",
    "\n",
    "    if legendout:\n",
    "        ax.legend(bbox_to_anchor=(1.05, 1.05),fontsize=12)\n",
    "    else:\n",
    "        ax.legend(fontsize=10,fancybox=True, framealpha=0.5)\n",
    "        \n"
   ]
  },
  {
   "cell_type": "code",
   "execution_count": null,
   "id": "e766d38c-f4e6-473f-a4e6-096dd02ef753",
   "metadata": {},
   "outputs": [],
   "source": [
    "def func_seasonalvariation(x, a, b, c, d, e ,tb, tc, td, te):\n",
    "    \"\"\"\n",
    "    \"\"\"\n",
    "    A = a\n",
    "    B = b*np.sin(2*np.pi*(x-tb)/YEAR)\n",
    "    C = c*np.sin(2*np.pi*(x-tc)/MONTHS6)\n",
    "    D = d*np.sin(2*np.pi*(x-td)/MONTHS4)\n",
    "    E = e*np.sin(2*np.pi*(x-te)/QUARTER)\n",
    "      \n",
    "    return A+B+C+D+E"
   ]
  },
  {
   "cell_type": "markdown",
   "id": "21251162-0c68-43c8-8da2-4187670c0dcc",
   "metadata": {},
   "source": [
    "### What does it mean if a series has a unit root?\n",
    "\n",
    "A unit root is a feature of some stochastic processes (such as random walks) that can cause issues with statistical inference. In a time series context, having a unit root means that the value of the series at time t is equal to the value at time t-1 plus some random error.\n",
    "\n",
    "Augmented Dickey-Fuller unit root test.\n",
    "The Augmented Dickey-Fuller test can be used to test for a unit root in a univariate process in the presence of serial correlation.\n",
    "\n",
    "The null hypothesis (H0) of the Augmented Dickey-Fuller is that there is a unit root(is non stationary), with the alternative H1 that there is no unit root (is stationary). If the pvalue is above a critical size, then we cannot reject that there is a unit root.\n",
    "\n",
    "The p-values are obtained through regression surface approximation from MacKinnon 1994, but using the updated 2010 tables. If the p-value is close to significant, then the critical values should be used to judge whether to reject the null.\n",
    "\n",
    "https://www.statsmodels.org/dev/generated/statsmodels.tsa.stattools.adfuller.html\n",
    "\n",
    "Si la p-value du test est faible (ex. < 0.05), on rejette H0 et on conclut que la série est stationnaire.\n",
    "\n",
    "Stationarity means that the statistical properties of a time series i.e. mean, variance and covariance do not change over time. Many statistical models require the series to be stationary to make effective and precise predictions.\n",
    "\n",
    "Two statistical tests would be used to check the stationarity of a time series – Augmented Dickey Fuller (“ADF”) test and Kwiatkowski-Phillips-Schmidt-Shin (“KPSS”) test. A method to convert a non-stationary time series into stationary series shall also be used.\n",
    "\n",
    "https://www.statsmodels.org/dev/examples/notebooks/generated/stationarity_detrending_adf_kpss.html"
   ]
  },
  {
   "cell_type": "code",
   "execution_count": null,
   "id": "c0a553eb-08f0-45c8-bb05-774ded57913b",
   "metadata": {},
   "outputs": [],
   "source": [
    "def adf_test(timeseries):\n",
    "    \"\"\"\n",
    "    DF test is used to determine the presence of unit root in the series, and hence helps in understand if the series is stationary or not. \n",
    "    The null and alternate hypothesis of this test are:\n",
    "    - Null Hypothesis: The series has a unit root.\n",
    "    - Alternate Hypothesis: The series has no unit root.\n",
    "    - If the null hypothesis in failed to be rejected, this test may provide evidence that the series is non-stationary.\n",
    "    A function is created to carry out the ADF test on a time series :\n",
    "    \"\"\"\n",
    "    print(\"Results of Dickey-Fuller Test:\")\n",
    "    dftest = adfuller(timeseries, autolag=\"AIC\")\n",
    "    dfoutput = pd.Series(\n",
    "        dftest[0:4],\n",
    "        index=[\n",
    "            \"Test Statistic\",\n",
    "            \"p-value\",\n",
    "            \"#Lags Used\",\n",
    "            \"Number of Observations Used\",\n",
    "        ],\n",
    "    )\n",
    "    for key, value in dftest[4].items():\n",
    "        dfoutput[\"Critical Value (%s)\" % key] = value\n",
    "    print(dfoutput)"
   ]
  },
  {
   "cell_type": "code",
   "execution_count": null,
   "id": "59ed9152-642d-4614-9bb7-b7a28a0fcc3d",
   "metadata": {},
   "outputs": [],
   "source": [
    "def kpss_test(timeseries):\n",
    "    \"\"\"\n",
    "    KPSS is another test for checking the stationarity of a time series. \n",
    "    The null and alternate hypothesis for the KPSS test are opposite that of the ADF test.\n",
    "     - Null Hypothesis: The process is trend stationary.\n",
    "    -  Alternate Hypothesis: The series has a unit root (series is not stationary).\n",
    "    A function is created to carry out the KPSS test on a time series.\n",
    "    \"\"\"\n",
    "    print(\"Results of KPSS Test:\")\n",
    "    kpsstest = kpss(timeseries, regression=\"c\", nlags=\"auto\")\n",
    "    kpss_output = pd.Series(\n",
    "        kpsstest[0:3], index=[\"Test Statistic\", \"p-value\", \"Lags Used\"]\n",
    "    )\n",
    "    for key, value in kpsstest[3].items():\n",
    "        kpss_output[\"Critical Value (%s)\" % key] = value\n",
    "    print(kpss_output)"
   ]
  },
  {
   "cell_type": "code",
   "execution_count": null,
   "id": "424ce44c-aca0-4a4c-a818-f10834d0f882",
   "metadata": {},
   "outputs": [],
   "source": [
    "def plot_histdata_andfit(data,ax, models, fitter,plotdata=True,datacolor=\"\",function_name=\"gauss\"):\n",
    "    \"\"\"\n",
    "    \"\"\"\n",
    "\n",
    "    fcolor = {\"gauss\":\"r\",\"lorentz\":\"g\"}\n",
    "    \n",
    "    bin_heights, bin_borders = np.histogram(data, bins='auto')\n",
    "    bin_widths = np.diff(bin_borders)\n",
    "    bin_centers = bin_borders[:-1] + bin_widths / 2\n",
    "\n",
    "    # define the statistics to fit\n",
    "    \n",
    "    if function_name == \"lorentz\":\n",
    "        t_init = models.Lorentz1D() \n",
    "    elif function_name == \"gauss\":\n",
    "        t_init = models.Gaussian1D()\n",
    "    else:\n",
    "        function_name = \"gauss\"\n",
    "        t_init = models.Gaussian1D()\n",
    "        \n",
    "\n",
    "    # define the fit method\n",
    "    fit_t = fitter.LevMarLSQFitter()\n",
    "\n",
    "    #does the fit on histogram data\n",
    "    t = fit_t(t_init, bin_centers, bin_heights)\n",
    "\n",
    "    x_interval_for_fit = np.linspace(bin_borders[0], bin_borders[-1], 1000)\n",
    "\n",
    "    if plotdata:\n",
    "        ax.bar(bin_centers, bin_heights, width=bin_widths, label='data',color=datacolor,alpha=0.5)\n",
    "        \n",
    "    ax.plot(x_interval_for_fit, t(x_interval_for_fit), label=function_name, c=fcolor[function_name],lw=3)\n",
    "    \n",
    "    ax.set_xlim(bin_borders.min(),bin_borders.max())\n",
    "    ax.set_ylim(0., bin_heights.max()*1.2)\n",
    "    ax.legend()\n"
   ]
  },
  {
   "cell_type": "code",
   "execution_count": null,
   "id": "6319e835-b5aa-4533-b01c-fc25c78581ba",
   "metadata": {},
   "outputs": [],
   "source": [
    "# Ajouter un axe secondaire pour afficher les dates standards\n",
    "def mjd_to_date(mjd_values):\n",
    "    return Time(mjd_values, format='mjd').to_datetime()\n",
    "\n",
    "def date_to_mjd(date_values):\n",
    "    return Time(date_values).mjd"
   ]
  },
  {
   "cell_type": "markdown",
   "id": "4f13d6a3-7793-4bc0-920a-1d690d9f84b2",
   "metadata": {},
   "source": [
    "## Configuration"
   ]
  },
  {
   "cell_type": "code",
   "execution_count": null,
   "id": "c8cb2e48-0b34-4cbf-8379-43f7065112f7",
   "metadata": {},
   "outputs": [],
   "source": [
    "observing_location = EarthLocation.of_site('Rubin Observatory')\n",
    "tz = timezone('America/Santiago')"
   ]
  },
  {
   "cell_type": "markdown",
   "id": "3fa1daa3-8d08-4f42-ab9b-b29b796da806",
   "metadata": {},
   "source": [
    "## Merra2"
   ]
  },
  {
   "cell_type": "code",
   "execution_count": null,
   "id": "4d84f26b-e246-4215-bc35-4382bdb57799",
   "metadata": {},
   "outputs": [],
   "source": [
    "filename_m2 = \"../SpectroMerra2/MerradataMerged/Merge_inst1_2d_asm_Nx_M2I1NXASM-2021-2024.csv\"\n",
    "if not os.path.isfile(filename_m2):\n",
    "    #os.makedirs(pathdata) \n",
    "    raise Exception(\"Missing input Merra2 input file {filename_m2}\")"
   ]
  },
  {
   "cell_type": "code",
   "execution_count": null,
   "id": "b35d51c2-cddf-4205-aaba-4effcce200ef",
   "metadata": {},
   "outputs": [],
   "source": [
    "df_m2 = pd.read_csv(filename_m2,index_col=0)"
   ]
  },
  {
   "cell_type": "code",
   "execution_count": null,
   "id": "f239a5fd-0e33-4afb-a03d-ada5c32bf27e",
   "metadata": {},
   "outputs": [],
   "source": [
    "df_m2[\"mjd\"] = Time(pd.to_datetime(df_m2.time.values)).mjd"
   ]
  },
  {
   "cell_type": "code",
   "execution_count": null,
   "id": "6ed17238-5d2d-4ae9-b081-0ec038a6050b",
   "metadata": {},
   "outputs": [],
   "source": [
    "df_m2.head()"
   ]
  },
  {
   "cell_type": "markdown",
   "id": "675720a4-5cfe-4bd1-a44c-be43e659aacf",
   "metadata": {},
   "source": [
    "## Join Auxtel and Merra2"
   ]
  },
  {
   "cell_type": "markdown",
   "id": "ee4402bd-3177-472f-9333-aac297913278",
   "metadata": {},
   "source": [
    "### Build the Interpolation Function for Merra2 data"
   ]
  },
  {
   "cell_type": "code",
   "execution_count": null,
   "id": "5fb9cbc8-20e5-413d-8105-6db6d0372fe6",
   "metadata": {},
   "outputs": [],
   "source": [
    "X_M2 = df_m2.mjd.values\n",
    "Y_M2 = df_m2.TQV.values\t\n",
    "# function to interpolate PWV vs time \n",
    "func_M2interp = lambda x : np.interp(x,X_M2,Y_M2) "
   ]
  },
  {
   "cell_type": "markdown",
   "id": "b884e71c-39cb-43e1-9edf-4a2cade9196e",
   "metadata": {},
   "source": [
    "### Spectro Hologram data"
   ]
  },
  {
   "cell_type": "code",
   "execution_count": null,
   "id": "a6d313e9-1621-40fb-a7d8-6d01522c7485",
   "metadata": {},
   "outputs": [],
   "source": [
    "FLAG_WITHCOLLIMATOR = False  # Not justified to cut data before collimator\n",
    "DATE_WITHCOLLIMATOR = 20230930\n",
    "datetime_WITHCOLLIMATOR = convertNumToDatestr(DATE_WITHCOLLIMATOR)\n",
    "datetime_WITHCOLLIMATOR = pd.to_datetime(\"2023-09-30 00:00:00.0+0000\")\n",
    "DATEMJD_WITHCOLLIMATOR = Time(datetime_WITHCOLLIMATOR).mjd"
   ]
  },
  {
   "cell_type": "code",
   "execution_count": null,
   "id": "5bac0cab-3886-4683-b1c8-fc59edacfd46",
   "metadata": {
    "tags": []
   },
   "outputs": [],
   "source": [
    "version_results = \"v5\"\n",
    "legendtag = {\"v1\" : \"old v3.1.0\",\n",
    "            \"v2\" : \"v3.1.0-PWV<10mm\",\n",
    "            \"v3\" : \"v3.1.0-PWV<15mm\",\n",
    "            \"v4\" : \"Auxtel holo v3.1.0\",\n",
    "            \"v5\" : \"Auxtel holo v3.1.0 09/22 - 10/24\"}"
   ]
  },
  {
   "cell_type": "code",
   "execution_count": null,
   "id": "99436fe6-ad07-4796-b982-7dd89f554f0c",
   "metadata": {
    "tags": []
   },
   "outputs": [],
   "source": [
    "atmfilenamesdict = {\"v1\" : \"data/spectro/auxtel_atmosphere_202301_v3.1.0_doSensorFlat_rebin2_testWithMaskedEdges_newBoundaries_newPolysRescaled_newFitBounds_adjustA1_lockedOrder2_removeThroughputTails_2.npy\",\n",
    "                    \"v2\" : \"auxtel_atmosphere_202301_v3.1.0_doSensorFlat_rebin2_lockedOrder2_FixA1_FixA2_FitAngstrom_FixA1_FixA2_FitAngstrom_WithGaia_freePressure_newThroughput6_BG40Scaled1.09_PeekFinder.npy\",\n",
    "                    \"v3\" : \"u_dagoret_auxtel_atmosphere_202301_v3.1.0_doSensorFlat_rebin2_lockedOrder2_FixA1_FixA2_FitAngstrom_WithGaia_freePressure_newThroughput6_BG40Scaled1.09_AtmoFitPressureA2_SpecErr_PeekFinder_20240924T161119Z.npy\",\n",
    "                    \"v4\" : \"u_dagoret_auxtel_atmosphere_202301_v3.1.0_doSensorFlat_rebin2_lockedOrder2_FixA1_FixA2_FitAngstrom_WithGaia_freePressure_newThroughput6_BG40Scaled1.09_AtmoFitPressureA2_SpecErr_PeekFinder_20240924T161119Z_spectrfullextend.npy\",\n",
    "                    \"v5\" : \"u_dagoret_auxtel_atmosphere_202209_v3.1.0_doSensorFlat_rebin2_lockedOrder2_FixA1_FixA2_FitAngstrom_WithGaia_freePressure_newThroughput6_BG40Scaled1.09_AtmoFitPressureA2_SpecErr_No5SigmaClip_20241016T184601Z_spectrfullextended.npy\"}"
   ]
  },
  {
   "cell_type": "code",
   "execution_count": null,
   "id": "f5ee7d08-244a-462a-b9fc-ff5cd4d3e801",
   "metadata": {
    "tags": []
   },
   "outputs": [],
   "source": [
    "atmfilename = atmfilenamesdict[version_results]\n",
    "tag = legendtag[version_results] "
   ]
  },
  {
   "cell_type": "markdown",
   "id": "a30a15de-34f1-4f2b-afb9-52143c1cff27",
   "metadata": {},
   "source": [
    "## Initialisation"
   ]
  },
  {
   "cell_type": "markdown",
   "id": "4053343d-8e37-4402-b49f-c28dbb9e4afb",
   "metadata": {},
   "source": [
    "### Read the Auxtel data"
   ]
  },
  {
   "cell_type": "code",
   "execution_count": null,
   "id": "ad60336b-f26f-4184-bcdf-e596329ecbbd",
   "metadata": {},
   "outputs": [],
   "source": [
    "specdata = np.load(atmfilename,allow_pickle=True)"
   ]
  },
  {
   "cell_type": "code",
   "execution_count": null,
   "id": "3d9c7249-f818-4a98-8000-9be75b3c7a21",
   "metadata": {},
   "outputs": [],
   "source": [
    "df_spec = pd.DataFrame(specdata)"
   ]
  },
  {
   "cell_type": "markdown",
   "id": "f456cd60-6972-4285-9561-0e43e6c489dc",
   "metadata": {},
   "source": [
    "#### Add the corresponding interpolated Merra2 data at the Auxtel Measurement time"
   ]
  },
  {
   "cell_type": "code",
   "execution_count": null,
   "id": "0a0c5cb3-92c0-4202-b445-56a13429cb63",
   "metadata": {},
   "outputs": [],
   "source": [
    "df_spec['pwv_m2'] = df_spec[\"ex_mjd\"].apply(func_M2interp)\n",
    "df_spec[\"dpwv\"] =   df_spec[\"PWV [mm]_x\"] - df_spec['pwv_m2']"
   ]
  },
  {
   "cell_type": "markdown",
   "id": "bc819873-96bb-450f-bec4-7049af8b8b3d",
   "metadata": {},
   "source": [
    "### Remove spectra with red filter"
   ]
  },
  {
   "cell_type": "code",
   "execution_count": null,
   "id": "dde97a6e-2400-4ea9-83fe-e0fc8a14e391",
   "metadata": {},
   "outputs": [],
   "source": [
    "df_spec['FILTER'].unique()"
   ]
  },
  {
   "cell_type": "code",
   "execution_count": null,
   "id": "716b7967-d722-4287-8cce-6fa7ea3cbf19",
   "metadata": {},
   "outputs": [],
   "source": [
    "FLAG_REMOVE_FILTERS = True\n",
    "if FLAG_REMOVE_FILTERS:\n",
    "    df_spec=df_spec[df_spec[\"FILTER\"] == 'empty']\n",
    "    df_spec.reset_index(inplace=True)  "
   ]
  },
  {
   "cell_type": "markdown",
   "id": "a81b1aa2-7edc-4a24-9c44-c24c3826c18f",
   "metadata": {
    "tags": []
   },
   "source": [
    "### Define if a target is faint or bright"
   ]
  },
  {
   "cell_type": "code",
   "execution_count": null,
   "id": "412e59e0-f026-42d0-b6e1-7e5185c7e9dd",
   "metadata": {
    "tags": []
   },
   "outputs": [],
   "source": [
    "def IsFaint(row):\n",
    "    List_Of_Faint_targets = ['Feige110','HD074000','HD115169','HD031128','HD200654','HD167060','HD009051','HD142331','HD160617','HD111980']\n",
    "    List_Of_faint_selected = List_Of_Faint_targets[:10]\n",
    "    if row[\"TARGET\"] in List_Of_faint_selected:\n",
    "        return True\n",
    "    else:\n",
    "        return False"
   ]
  },
  {
   "cell_type": "code",
   "execution_count": null,
   "id": "07cd52bf-50de-4190-ad3f-d68aaf18039e",
   "metadata": {},
   "outputs": [],
   "source": [
    "df_spec[\"isFaint\"] = df_spec.apply(IsFaint,axis=1)"
   ]
  },
  {
   "cell_type": "markdown",
   "id": "3af3b3b6-7774-4b43-830b-a287c4e3281b",
   "metadata": {},
   "source": [
    "### Compute NightObs"
   ]
  },
  {
   "cell_type": "code",
   "execution_count": null,
   "id": "4de5d570-2e92-468b-ab07-63fffd8d2b8c",
   "metadata": {},
   "outputs": [],
   "source": [
    "df_spec[\"nightObs\"] = df_spec.apply(lambda x: x['id']//100_000, axis=1)"
   ]
  },
  {
   "cell_type": "code",
   "execution_count": null,
   "id": "079b9ebb-4e59-4364-8ffa-f0439e943959",
   "metadata": {},
   "outputs": [],
   "source": [
    "if FLAG_WITHCOLLIMATOR:\n",
    "    df_spec = df_spec[df_spec[\"nightObs\"]> DATE_WITHCOLLIMATOR]"
   ]
  },
  {
   "cell_type": "markdown",
   "id": "a4f8b443-4bc5-46fc-a548-33441edee6da",
   "metadata": {},
   "source": [
    "## Apply Quality selection"
   ]
  },
  {
   "cell_type": "code",
   "execution_count": null,
   "id": "2325b3ff-29c2-445a-b25e-cc11aba4f45a",
   "metadata": {
    "tags": []
   },
   "outputs": [],
   "source": [
    "fig,ax = plt.subplots(1,1)\n",
    "df_spec[\"CHI2_FIT\"].hist(bins=50,ax=ax,range=(0,200))\n",
    "ax.set_yscale(\"log\")"
   ]
  },
  {
   "cell_type": "markdown",
   "id": "a7aaca44-ad09-4883-8a7d-413b71e8b4a2",
   "metadata": {},
   "source": [
    "### Add the Time in pd.datetime"
   ]
  },
  {
   "cell_type": "markdown",
   "id": "6a2222de-f3b7-4678-b2dc-d4c89102e0ab",
   "metadata": {},
   "source": [
    "#### UTC"
   ]
  },
  {
   "cell_type": "code",
   "execution_count": null,
   "id": "0d10c1ad-c5dc-4487-baa9-7c71ec531f45",
   "metadata": {},
   "outputs": [],
   "source": [
    "df_spec[\"Time\"] = pd.to_datetime(df_spec[\"DATE-OBS\"])"
   ]
  },
  {
   "cell_type": "code",
   "execution_count": null,
   "id": "66cfe082-4e0c-4b83-ac40-122ba4c58ec4",
   "metadata": {
    "tags": []
   },
   "outputs": [],
   "source": [
    "DT = pd.Timedelta(minutes=7*24*60)\n",
    "TMIN  = df_spec[\"Time\"].min()-DT\n",
    "TMAX  = df_spec[\"Time\"].max()+DT\n",
    "\n",
    "TMINMJD = Time(TMIN).mjd\n",
    "TMAXMJD = Time(TMAX).mjd"
   ]
  },
  {
   "cell_type": "markdown",
   "id": "433fdc22-9674-47c9-a11c-1e6acfc52311",
   "metadata": {
    "tags": []
   },
   "source": [
    "### Compute relative time to Mid-night"
   ]
  },
  {
   "cell_type": "code",
   "execution_count": null,
   "id": "0de9a173-9144-4c45-a93f-f7df8b5905b7",
   "metadata": {},
   "outputs": [],
   "source": [
    "def GetTimeToMidNight(row):\n",
    "    observing_time = Time(row['DATE-OBS'], scale='utc', location=observing_location)\n",
    "\n",
    "    # time at the location , either before or after midnight\n",
    "    local_time =  observing_time.to_datetime(timezone=tz)\n",
    "\n",
    "    # take time independent  of any location now\n",
    "    local_time_new = datetime(local_time.year,local_time.month,local_time.day,local_time.hour,local_time.minute,local_time.second)\n",
    "    local_time_midnight = datetime(local_time_new.year,local_time_new.month,local_time_new.day)\n",
    "    dt_hour = (local_time_new -local_time_midnight).seconds/3600.\n",
    "\n",
    "    # we took the previous night mid-night , must subtract 24H\n",
    "    if dt_hour > 12.:\n",
    "        dt_hour_new = (dt_hour - 24.)\n",
    "    else:\n",
    "        dt_hour_new = dt_hour\n",
    "        \n",
    "    return dt_hour_new"
   ]
  },
  {
   "cell_type": "code",
   "execution_count": null,
   "id": "05bfba4e-45f5-4020-953f-b6205001b698",
   "metadata": {},
   "outputs": [],
   "source": [
    "df_spec[\"dt_midnight\"] = df_spec.apply(GetTimeToMidNight,axis=1)"
   ]
  },
  {
   "cell_type": "code",
   "execution_count": null,
   "id": "154fc415-c965-44c2-8ec0-95f95c1616a3",
   "metadata": {},
   "outputs": [],
   "source": [
    "fig,ax = plt.subplots(1,1,figsize=(6,4))\n",
    "df_spec[\"dt_midnight\"].hist(bins=48,range=(-12,12),ax=ax,facecolor=\"blue\") \n",
    "ax.set_xlabel(\"time relative to midnight (hour)\")\n",
    "ax.set_title(\"Observation time\")"
   ]
  },
  {
   "cell_type": "markdown",
   "id": "649915d4-df38-43ae-8b7a-f0f72e70590d",
   "metadata": {},
   "source": [
    "### Compute Date relative to January"
   ]
  },
  {
   "cell_type": "code",
   "execution_count": null,
   "id": "e5e99394-ff09-4ab6-b0c0-0fccce1be86c",
   "metadata": {},
   "outputs": [],
   "source": [
    "def GetDateToMidJanuary(row):\n",
    "    observing_time = Time(row['DATE-OBS'], scale='utc', location=observing_location)\n",
    "\n",
    "    # time at the location , either before or after midnight\n",
    "    local_time =  observing_time.to_datetime(timezone=tz)\n",
    "\n",
    "    # take time independent  of any location now\n",
    "    local_time_new = datetime(2024,local_time.month,local_time.day,local_time.hour,local_time.minute,local_time.second)\n",
    "           \n",
    "    return pd.to_datetime(local_time_new)"
   ]
  },
  {
   "cell_type": "code",
   "execution_count": null,
   "id": "2e991a33-84e9-4766-98fb-665bada15c6d",
   "metadata": {},
   "outputs": [],
   "source": [
    "#df_spec[\"Time_january\"] = df_spec.apply(GetDateToMidJanuary,axis=1)"
   ]
  },
  {
   "cell_type": "code",
   "execution_count": null,
   "id": "42779ad2-8f3f-44c7-9a0b-a9dcb33065e9",
   "metadata": {},
   "outputs": [],
   "source": [
    "def GetDateToMidJanuaryAndYear(row):\n",
    "    observing_time = Time(row['DATE-OBS'], scale='utc', location=observing_location)\n",
    "\n",
    "    # time at the location , either before or after midnight\n",
    "    local_time =  observing_time.to_datetime(timezone=tz)\n",
    "\n",
    "    # take time independent  of any location now\n",
    "    local_time_new = datetime(2024,local_time.month,local_time.day,local_time.hour,local_time.minute,local_time.second)\n",
    "           \n",
    "    return pd.to_datetime(local_time_new),local_time.year "
   ]
  },
  {
   "cell_type": "code",
   "execution_count": null,
   "id": "3e747bbc-1357-447b-8cfb-1b22573f022c",
   "metadata": {},
   "outputs": [],
   "source": [
    "df_spec[[\"Time_january\",\"Year\"]] = df_spec.apply(GetDateToMidJanuaryAndYear,axis=1,result_type=\"expand\")"
   ]
  },
  {
   "cell_type": "code",
   "execution_count": null,
   "id": "4076ca2e-03ea-4373-8b55-fdb6ae49de51",
   "metadata": {},
   "outputs": [],
   "source": [
    "df_spec[[\"Time_january\",\"Year\"]]"
   ]
  },
  {
   "cell_type": "markdown",
   "id": "90783a42-5ed9-4ad8-8457-bbe1569413fe",
   "metadata": {},
   "source": [
    "## Compute night boundaries"
   ]
  },
  {
   "cell_type": "code",
   "execution_count": null,
   "id": "0ee7679a-ea50-4190-9400-664370a6b7f0",
   "metadata": {
    "tags": []
   },
   "outputs": [],
   "source": [
    "def GetNightBoundariesDict(df_spec):\n",
    "    \"\"\"\n",
    "    input:\n",
    "      df_spec the dataframe for spectroscopy summary results\n",
    "    output:\n",
    "      the dict of night boudaries\n",
    "    \"\"\"\n",
    "    \n",
    "    Dt = pd.Timedelta(minutes=30)\n",
    "    d = {}\n",
    "    list_of_nightobs = df_spec[\"nightObs\"].unique()\n",
    "    for nightobs in list_of_nightobs:\n",
    "        sel_flag = df_spec[\"nightObs\"]== nightobs\n",
    "        df_night = df_spec[sel_flag]\n",
    "        tmin = df_night[\"Time\"].min()-Dt\n",
    "        tmax = df_night[\"Time\"].max()+Dt\n",
    "        d[nightobs] = (tmin,tmax)\n",
    "    return d"
   ]
  },
  {
   "cell_type": "code",
   "execution_count": null,
   "id": "b4e4e1eb-c4c1-4bdf-b88f-b44bd55b2435",
   "metadata": {
    "tags": []
   },
   "outputs": [],
   "source": [
    "dn = GetNightBoundariesDict(df_spec)"
   ]
  },
  {
   "cell_type": "markdown",
   "id": "715cae7e-32ff-46c8-8d1a-a7c220a9eaed",
   "metadata": {},
   "source": [
    "## Plot all data"
   ]
  },
  {
   "cell_type": "markdown",
   "id": "564f9a05-b3e2-4d61-9457-cda76ebd2a1b",
   "metadata": {},
   "source": [
    "## Apply Quality selection cuts\n",
    "\n",
    "- Note now we have a cut on airmass < 2"
   ]
  },
  {
   "cell_type": "code",
   "execution_count": null,
   "id": "51bff128-4de1-4396-ac64-e56336d8dd67",
   "metadata": {},
   "outputs": [],
   "source": [
    "def getSelectionCut(df_spec, chi2max=20., pwvmin=0.1, pwvmax = 14.9,ozmin=100.,ozmax=600.,vaodmax=0.1):\n",
    "    #cut =  (df_spec[\"CHI2_FIT\"]<chi2max) & (df_spec[\"PWV [mm]_x\"] > pwvmin) & (df_spec[\"PWV [mm]_x\"] < pwvmax) & (df_spec[\"D2CCD\"]>186.5) &  (df_spec[\"D2CCD\"]<187.3) & \\\n",
    "    cut =  (df_spec[\"CHI2_FIT\"]<chi2max) & (df_spec[\"PWV [mm]_x\"] > pwvmin) & (df_spec[\"PWV [mm]_x\"] < pwvmax) & (df_spec[\"D2CCD\"]>186.75) &  (df_spec[\"D2CCD\"]<187.75) &  (df_spec[\"VAOD_x\"]<0.1) & \\\n",
    "    (df_spec['EXPTIME'] > 20.) & (df_spec[\"PWV [mm]_y\"] > pwvmin) & (df_spec[\"PWV [mm]_y\"] < pwvmax) & \\\n",
    "    (df_spec[\"ozone [db]_y\"] > ozmin) & (df_spec[\"ozone [db]_y\"] < ozmax) & \\\n",
    "    (df_spec[\"AIRMASS\"] < 2)\n",
    "    return cut"
   ]
  },
  {
   "cell_type": "code",
   "execution_count": null,
   "id": "99017666-4267-4f7c-a926-2da40fe78c00",
   "metadata": {},
   "outputs": [],
   "source": [
    "def getSelectionCutNoPolar(df_spec, chi2max=20., pwvmin=0.1, pwvmax = 14.9,ozmin=100.,ozmax=600.,vaodmax=0.1):\n",
    "    #cut =  (df_spec[\"CHI2_FIT\"]<chi2max) & (df_spec[\"PWV [mm]_x\"] > pwvmin) & (df_spec[\"PWV [mm]_x\"] < pwvmax) & (df_spec[\"D2CCD\"]>186.5) &  (df_spec[\"D2CCD\"]<187.3) & \\\n",
    "    cut =  (df_spec[\"CHI2_FIT\"]<chi2max) & (df_spec[\"PWV [mm]_x\"] > pwvmin) & (df_spec[\"PWV [mm]_x\"] < pwvmax) & (df_spec[\"D2CCD\"]>186.75) &  (df_spec[\"D2CCD\"]<187.75) &  (df_spec[\"VAOD_x\"]<0.1) & \\\n",
    "    (df_spec['EXPTIME'] > 20.) & (df_spec[\"PWV [mm]_y\"] > pwvmin) & (df_spec[\"PWV [mm]_y\"] < pwvmax) & \\\n",
    "    (df_spec[\"ozone [db]_y\"] > ozmin) & (df_spec[\"ozone [db]_y\"] < ozmax) & (df_spec[\"TARGET\"] != \"HD185975\") & \\\n",
    "    (df_spec[\"AIRMASS\"] < 2)\n",
    "    return cut"
   ]
  },
  {
   "cell_type": "code",
   "execution_count": null,
   "id": "19b35b65-0191-4f70-9623-b3ecaeebe96e",
   "metadata": {},
   "outputs": [],
   "source": [
    "def getSelectionCutWithPolar(df_spec, chi2max=20., pwvmin=0.1, pwvmax = 14.9,ozmin=100.,ozmax=600.,vaodmax=0.1):\n",
    "    #cut =  (df_spec[\"CHI2_FIT\"]<chi2max) & (df_spec[\"PWV [mm]_x\"] > pwvmin) & (df_spec[\"PWV [mm]_x\"] < pwvmax) & (df_spec[\"D2CCD\"]>186.5) &  (df_spec[\"D2CCD\"]<187.3) & \\\n",
    "    cut =  (df_spec[\"CHI2_FIT\"]<chi2max) & (df_spec[\"PWV [mm]_x\"] > pwvmin) & (df_spec[\"PWV [mm]_x\"] < pwvmax) & (df_spec[\"D2CCD\"]>186.75) &  (df_spec[\"D2CCD\"]<187.75) &  (df_spec[\"VAOD_x\"]<0.1) & \\\n",
    "    (df_spec['EXPTIME'] > 20.) & (df_spec[\"PWV [mm]_y\"] > pwvmin) & (df_spec[\"PWV [mm]_y\"] < pwvmax) & \\\n",
    "    (df_spec[\"ozone [db]_y\"] > ozmin) & (df_spec[\"ozone [db]_y\"] < ozmax) & (df_spec[\"TARGET\"] == \"HD185975\") & \\\n",
    "    (df_spec[\"AIRMASS\"] < 2)\n",
    "    return cut"
   ]
  },
  {
   "cell_type": "code",
   "execution_count": null,
   "id": "1b675e35-55ff-41af-82bf-85bb4c3267be",
   "metadata": {
    "tags": []
   },
   "outputs": [],
   "source": [
    "cut = getSelectionCut(df_spec) \n",
    "cut_nopolar = getSelectionCutNoPolar(df_spec) \n",
    "cut_nopolar_bright = getSelectionCutNoPolar(df_spec) & (~df_spec[\"isFaint\"])\n",
    "cut_nopolar_faint = getSelectionCutNoPolar(df_spec) & (df_spec[\"isFaint\"])\n",
    "cut_wthpolar = getSelectionCutWithPolar(df_spec)"
   ]
  },
  {
   "cell_type": "code",
   "execution_count": null,
   "id": "e1cbfa40-4395-47f4-9acf-6a9f531fabd4",
   "metadata": {},
   "outputs": [],
   "source": [
    "# all selected data\n",
    "df_spec_sel = df_spec[cut]\n",
    "# subsample of selected data to understand differences\n",
    "df_spec_np = df_spec[cut_nopolar] \n",
    "df_spec_np_b = df_spec[cut_nopolar_bright]\n",
    "df_spec_np_f = df_spec[cut_nopolar_faint]\n",
    "df_spec_wp = df_spec[cut_wthpolar]"
   ]
  },
  {
   "cell_type": "code",
   "execution_count": null,
   "id": "3c2b44e0-c554-4265-8caf-25b77c33ab1c",
   "metadata": {},
   "outputs": [],
   "source": [
    "print(\"Total number of Spectra          : \",len(df_spec))\n",
    "print(\"Number of selected Spectra       : \",len(df_spec_sel))\n",
    "print(\"Number of selected Polars        : \",len(df_spec_wp))\n",
    "print(\"Number of selected Non-Polars    : \",len(df_spec_np))\n",
    "print(\"Number of selected Non-Polars Bright : \",len(df_spec_np_b))\n",
    "print(\"Number of selected Non-Polars Faint  : \",len(df_spec_np_f))"
   ]
  },
  {
   "cell_type": "code",
   "execution_count": null,
   "id": "bae62b07-17d4-423e-bdfe-634272a040a2",
   "metadata": {
    "tags": []
   },
   "outputs": [],
   "source": [
    "df_spec_sel.reset_index(drop=True,inplace=True)\n",
    "df_spec_np.reset_index(drop=True,inplace=True)\n",
    "df_spec_wp.reset_index(drop=True,inplace=True) \n",
    "df_spec_np_b.reset_index(drop=True,inplace=True)\n",
    "df_spec_np_f.reset_index(drop=True,inplace=True)"
   ]
  },
  {
   "cell_type": "code",
   "execution_count": null,
   "id": "cef3e8dd-b2b7-4fcb-a676-3cef4d07f6c7",
   "metadata": {},
   "outputs": [],
   "source": [
    "#List_Of_Faint_targets = ['Feige110','HD074000','HD115169','HD031128','HD200654','HD167060','HD009051','HD142331','HD160617','HD111980']\n",
    "print(\"Polar            :\",len(df_spec_wp[\"TARGET\"].unique()),\"\\t\", df_spec_wp[\"TARGET\"].unique()) \n",
    "print(\"Non Polar        :\",len(df_spec_np[\"TARGET\"].unique()),\"\\t\" ,df_spec_np[\"TARGET\"].unique())\n",
    "print(\"Non Polar Bright :\",len(df_spec_np_b[\"TARGET\"].unique()),\"\\t\" ,df_spec_np_b[\"TARGET\"].unique())\n",
    "print(\"Non Polar Faint  :\",len(df_spec_np_f[\"TARGET\"].unique()),\"\\t\",df_spec_np_f[\"TARGET\"].unique())"
   ]
  },
  {
   "cell_type": "markdown",
   "id": "030bf82d-8d80-492c-96cf-4506c2eac282",
   "metadata": {
    "tags": []
   },
   "source": [
    "## Recompute night boundaries"
   ]
  },
  {
   "cell_type": "code",
   "execution_count": null,
   "id": "1e41540b-d7cd-49c8-88dc-4175db604a17",
   "metadata": {
    "tags": []
   },
   "outputs": [],
   "source": [
    "#dn = GetNightBoundariesDict(df_spec_sel)"
   ]
  },
  {
   "cell_type": "markdown",
   "id": "c4c10f08-5d32-465f-afd6-e51c1716bbd2",
   "metadata": {},
   "source": [
    "## Plot all data"
   ]
  },
  {
   "cell_type": "code",
   "execution_count": null,
   "id": "41abb550-7d43-4dab-b851-489145f90e0c",
   "metadata": {},
   "outputs": [],
   "source": [
    "x_mjd = np.arange(TMINMJD,TMAXMJD,1/24/60)\n",
    "y_mjd = func_M2interp(x_mjd)"
   ]
  },
  {
   "cell_type": "code",
   "execution_count": null,
   "id": "40c9eb85-eeaf-4004-a60b-e195c4daa22d",
   "metadata": {},
   "outputs": [],
   "source": [
    "fig,axs = plt.subplots(1,1,figsize=(14,7),layout='constrained')\n",
    "ax  = axs\n",
    "leg=ax.get_legend()\n",
    "\n",
    "\n",
    "df_m2.plot(x=\"mjd\",y=\"TQV\",ax=ax,marker=\".\",c=\"b\",lw=0,ms=5,label=\"Merra2\",legend=leg)  \n",
    "\n",
    "ax.plot(x_mjd,y_mjd,'-k',lw=0.5)\n",
    "\n",
    "ax.set_ylabel(\"PWV [mm]_x\")\n",
    "ax.set_xlabel(\"date\")\n",
    "#ax.xaxis.set_major_formatter(date_form)\n",
    "ax.set_title(\"Precipitable water vapor measured by Mera2 \\n (check interpolation function)\",fontweight=\"bold\")\n",
    "ax.legend()\n",
    "\n",
    "#for key, tt in dn.items():\n",
    "#    ax.axvspan(tt[0],tt[1], color='blue', alpha=0.1)\n",
    "\n",
    "plt.tight_layout()\n",
    " \n",
    "ax.set_ylim(0.,25.)\n",
    "ax.set_xlim(TMINMJD,TMAXMJD)\n",
    "\n",
    "# Ajouter un axe secondaire pour afficher les dates standards\n",
    "#def mjd_to_date(mjd_values):\n",
    "#    return Time(mjd_values, format='mjd').to_datetime()\n",
    "\n",
    "#def date_to_mjd(date_values):\n",
    "#    return Time(date_values).mjd\n",
    "\n",
    "\n",
    "#ax2 = ax.secondary_xaxis('top', functions=(mjd_to_date, date_to_mjd))\n",
    "#ax2.xaxis.set_major_formatter(mdates.DateFormatter('%d-%m-%Y'))  # Format jour/mois/année\n",
    "#ax2.set_xlabel(\"Date\")\n",
    "\n",
    "\n",
    "\n",
    "plt.show()"
   ]
  },
  {
   "cell_type": "markdown",
   "id": "9d4ca2f7-836e-4b0c-856d-986178c126f1",
   "metadata": {},
   "source": [
    "## Fit Merra2 with sinusoids"
   ]
  },
  {
   "cell_type": "code",
   "execution_count": null,
   "id": "c67f997a-7d9c-462a-ad80-c8718965b165",
   "metadata": {},
   "outputs": [],
   "source": [
    "xdata_m = df_m2[\"mjd\"].values \n",
    "ydata_m = df_m2[\"TQV\"].values \n",
    "xdata_min = xdata_m.min()\n",
    "xdata_max = xdata_m.max()\n",
    "xfit_m = np.arange(xdata_min,xdata_max,1) "
   ]
  },
  {
   "cell_type": "code",
   "execution_count": null,
   "id": "8b23b688-2434-4cb7-8163-94ad65a302a8",
   "metadata": {},
   "outputs": [],
   "source": [
    "#func_seasonalvariation(x, a, b, c, d, e, tb, tc, td, te)\n",
    "#popt, pcov = curve_fit(func_seasonalvariation, xdata, ydata, bounds=(0, [3., 1., 0.5]))\n",
    "popt_m, pcov_m = curve_fit(func_seasonalvariation, xdata_m, ydata_m)"
   ]
  },
  {
   "cell_type": "code",
   "execution_count": null,
   "id": "68192e9a-ca53-465d-9505-82b586e39058",
   "metadata": {},
   "outputs": [],
   "source": [
    "popt_m"
   ]
  },
  {
   "cell_type": "code",
   "execution_count": null,
   "id": "375ecda6-12a5-4123-b2f3-97df350e64e5",
   "metadata": {},
   "outputs": [],
   "source": [
    "yfit_m = func_seasonalvariation(xfit_m,*popt_m)"
   ]
  },
  {
   "cell_type": "markdown",
   "id": "63660bff-aa50-40a6-9e7c-a3010a030ef0",
   "metadata": {},
   "source": [
    "### Save the residuals in pandas dataframe"
   ]
  },
  {
   "cell_type": "code",
   "execution_count": null,
   "id": "6f5de564-0c31-4edf-8021-af0007907393",
   "metadata": {},
   "outputs": [],
   "source": [
    "#### Save residuals in Merra2 pandas dataframe\n",
    "df_m2[\"TQVres\"] = ydata_m - func_seasonalvariation(xdata_m,*popt_m)\n",
    "ydata_m_res = df_m2[\"TQVres\"].values "
   ]
  },
  {
   "cell_type": "code",
   "execution_count": null,
   "id": "799edef9-12f4-4852-8f9b-3be19fa45d62",
   "metadata": {},
   "outputs": [],
   "source": [
    "#### Save residuals in Auxtel pandas dataframe\n",
    "df_spec_sel[\"pwv_m2_res\"] =  df_spec_sel[\"pwv_m2\"] - func_seasonalvariation(df_spec_sel[\"ex_mjd\"].values,*popt_m)"
   ]
  },
  {
   "cell_type": "code",
   "execution_count": null,
   "id": "629f6a79-36dc-4ec4-8c4d-1afed07834b8",
   "metadata": {},
   "outputs": [],
   "source": [
    "fig = plt.figure(figsize=(16,6),layout=\"constrained\")\n",
    "\n",
    "# 🔹 Utilisation de gridspec pour gérer l'espace\n",
    "gs = fig.add_gridspec(2, 1, height_ratios=[0.7, 0.3])  # 95% pour les subplots, 5% pour la colorbar\n",
    "\n",
    "# 🔹 Subplots principaux (en haut, dans la première ligne)\n",
    "ax1 = fig.add_subplot(gs[0])  # Premier subplot\n",
    "ax2 = fig.add_subplot(gs[1],sharex=ax1)  # Deuxième subplot\n",
    "\n",
    "ax1.plot(xdata_m,ydata_m,'b-')\n",
    "ax1.plot(xfit_m,yfit_m,'r-',lw=3)\n",
    "ax2.plot(xdata_m,ydata_m_res,'b-')\n",
    "ax2.axhline(0,color=\"r\",lw=3)\n",
    "\n",
    "ax1.set_ylabel(\"PWV (mm)\")\n",
    "ax2.set_ylabel(\"PWV residuals (mm)\")\n",
    "ax2.grid()\n",
    "ax1.set_title(\"Precipitable water vapor at Merra2\")\n",
    "ax2.set_xlabel(\"date (mjd)\")\n",
    "plt.show()"
   ]
  },
  {
   "cell_type": "markdown",
   "id": "7685c4b2-ad08-46c4-8092-06252173c1f8",
   "metadata": {},
   "source": [
    "### Fit Auxtel data with same sinusoid"
   ]
  },
  {
   "cell_type": "code",
   "execution_count": null,
   "id": "0151d372-b3ef-443f-9f81-1e07f47ad7c1",
   "metadata": {},
   "outputs": [],
   "source": [
    "xdata_a = df_spec_sel[\"ex_mjd\"].values \n",
    "ydata_a = df_spec_sel[\"PWV [mm]_x\"].values \n",
    "xdata_min = xdata_a.min()\n",
    "xdata_max = xdata_a.max()\n",
    "xfit_a = np.arange(xdata_min,xdata_max,1) "
   ]
  },
  {
   "cell_type": "code",
   "execution_count": null,
   "id": "346428c1-47d8-46f5-809e-f3a218923ad3",
   "metadata": {},
   "outputs": [],
   "source": [
    "lower_bounds = [-20.,-20.,-20.,-20.,-20.,\n",
    "                min(popt_m[5]*0.999, popt_m[5]*1.0001),\n",
    "                min(popt_m[6]*0.999, popt_m[6]*1.0001),\n",
    "                min(popt_m[7]*0.999, popt_m[7]*1.0001),\n",
    "                min(popt_m[8]*0.999, popt_m[8]*1.0001)]\n",
    "upper_bounds = [20.,20.,20.,20.,20.,\n",
    "                max(popt_m[5]*0.999, popt_m[5]*1.0001),\n",
    "                max(popt_m[6]*0.999, popt_m[6]*1.0001),\n",
    "                max(popt_m[7]*0.999, popt_m[7]*1.0001),\n",
    "                max(popt_m[8]*0.999, popt_m[8]*1.0001)]"
   ]
  },
  {
   "cell_type": "code",
   "execution_count": null,
   "id": "7bea870e-3aff-4bdf-bb35-2aad6c82caeb",
   "metadata": {},
   "outputs": [],
   "source": [
    "#func_seasonalvariation(x, a, b, c, d, e, tb, tc, td, te)\n",
    "popt, pcov = curve_fit(func_seasonalvariation, xdata_a, ydata_a, p0 = popt_m, bounds=(lower_bounds , upper_bounds ))"
   ]
  },
  {
   "cell_type": "code",
   "execution_count": null,
   "id": "fd629f11-c129-4a75-8855-3a4414940889",
   "metadata": {},
   "outputs": [],
   "source": [
    "popt"
   ]
  },
  {
   "cell_type": "code",
   "execution_count": null,
   "id": "c367d01c-e0d1-4e45-b333-d54937f350e0",
   "metadata": {},
   "outputs": [],
   "source": [
    "yfit_a = func_seasonalvariation(xfit_a,*popt)"
   ]
  },
  {
   "cell_type": "markdown",
   "id": "9e902d61-2e12-436b-bd27-134f13234d53",
   "metadata": {},
   "source": [
    "#### Keep the residuals of Auxtel wrt the seasonal model"
   ]
  },
  {
   "cell_type": "code",
   "execution_count": null,
   "id": "695d205c-e161-445c-a070-361f7ef920d4",
   "metadata": {},
   "outputs": [],
   "source": [
    "### Save the residuals in auxtel pandas dataframe wrt seasonal variation\n",
    "df_spec_sel[\"PWV [mm]_x_res\"] = ydata_a - func_seasonalvariation(xdata_a,*popt)\n",
    "ydata_a_res = df_spec_sel[\"PWV [mm]_x_res\"]"
   ]
  },
  {
   "cell_type": "code",
   "execution_count": null,
   "id": "c14c7a87-c00f-4014-82a7-af4b8b3bc7fc",
   "metadata": {},
   "outputs": [],
   "source": [
    "fig = plt.figure(figsize=(14,8),layout=\"constrained\")\n",
    "\n",
    "# 🔹 Utilisation de gridspec pour gérer l'espace\n",
    "gs = fig.add_gridspec(2, 1, height_ratios=[0.7, 0.3])  # 95% pour les subplots, 5% pour la colorbar\n",
    "\n",
    "# 🔹 Subplots principaux (en haut, dans la première ligne)\n",
    "ax1 = fig.add_subplot(gs[0])  # Premier subplot\n",
    "ax2 = fig.add_subplot(gs[1],sharex=ax1)  # Deuxième subplot\n",
    "\n",
    "\n",
    "ax1.plot(xdata_a,ydata_a,'o',c=\"r\",ms=2.,label=\"Auxtel data\")\n",
    "ax1.plot(xfit_m,yfit_m,'b-',lw=3,label=\"fit seasonal model Merra2\")\n",
    "ax1.plot(xdata_m,ydata_m,'.',c=\"b\",ms=0.5,label=\"Merra2 data\")\n",
    "ax1.plot(xfit_a,yfit_a,'r-',lw=3,label=\"fit seasonal model Auxtel\")\n",
    "ax1.set_xlim(xdata_min,xdata_max)\n",
    "ax1.legend()\n",
    "ax1.set_title(\"Comparison of PWV in Auxtel and Merra2 and resoduals wrt fitted model\")\n",
    "ax1.set_ylabel(\"PWV (mm)\")\n",
    "ax1.set_xlabel(\"date (mjd)\")\n",
    "ax1.grid()\n",
    "\n",
    "\n",
    "ax2.plot(xdata_m,ydata_m_res,'.',color='b',ms=0.5)\n",
    "ax2.axhline(0,color=\"b\",lw=3)\n",
    "\n",
    "ax2.plot(xdata_a,ydata_a_res,'o',c=\"r\",ms=2.,label=\"Auxtel\")\n",
    "ax2.axhline(0,color=\"r\",lw=3)\n",
    "\n",
    "ax2.set_ylabel(\"PWV residuals (mm)\")\n",
    "ax2.grid()\n",
    "ax2.set_xlabel(\"date (mjd)\")\n",
    "\n",
    "plt.show()"
   ]
  },
  {
   "cell_type": "markdown",
   "id": "c9d4fe67-b193-4292-992a-41bf3505f79c",
   "metadata": {},
   "source": [
    "### Compare the residuals Auxtel - Merra2 after subtraction of seasonal variation"
   ]
  },
  {
   "cell_type": "code",
   "execution_count": null,
   "id": "cdb06fb7-5273-4ef5-b5c1-bb275b5d47a5",
   "metadata": {},
   "outputs": [],
   "source": [
    "df_spec_sel[\"dpwv2\"] = df_spec_sel[\"PWV [mm]_x_res\"] - df_spec_sel[\"pwv_m2_res\"]"
   ]
  },
  {
   "cell_type": "code",
   "execution_count": null,
   "id": "c7371781-0898-479b-abf6-a6c02f51889e",
   "metadata": {},
   "outputs": [],
   "source": [
    "fig,(ax1,ax2)  = plt.subplots(1,2,figsize=(14,5),layout=\"constrained\")\n",
    "#df_spec_sel.plot.scatter(x=\"PWV [mm]_x_res\", y = \"pwv_m2_res\", c=\"ex_mjd\",marker=\"+\",ax=ax1)\n",
    "sc1 = ax1.scatter(data=df_spec_sel, x='pwv_m2_res', y='PWV [mm]_x_res', c='ex_mjd', marker=\"+\",s=30,cmap='rainbow')\n",
    "ax1.grid()\n",
    "ax1.set_xlim(-5,8)\n",
    "ax1.set_ylim(-5,8)\n",
    "ax1.set_aspect(\"equal\")\n",
    "ax1.plot([-5,8],[-5,8],'-k')\n",
    "ax1.set_ylabel(\"PWV residuals Auxtel(mm)\")\n",
    "ax1.set_xlabel(\"PWV residuals Merra2 (mm)\")\n",
    "\n",
    "cbar = plt.colorbar(sc1)\n",
    "cbar.set_label('mjd', rotation=90)\n",
    "df_spec_sel[\"dpwv2\"].hist(bins=50,ax=ax2,histtype=\"step\",linewidth=3,color=\"b\")\n",
    "ax2.set_xlabel(\"$\\Delta PWV$-residuals (Auxtel-Merra2) (mm)\")\n",
    "ax2.set_xlim(-5,5)\n",
    "plt.suptitle(\"PWV residuals after seasonal variation correction\",y=1.01,fontsize=10)\n",
    "plt.show()"
   ]
  },
  {
   "cell_type": "markdown",
   "id": "483687ce-4762-4125-882e-54abe9039ac7",
   "metadata": {},
   "source": [
    "## Now we need to compute the residuals wrt to the fitted model"
   ]
  },
  {
   "cell_type": "code",
   "execution_count": null,
   "id": "5ef118b9-7c98-4e17-842d-f123a221add1",
   "metadata": {},
   "outputs": [],
   "source": [
    "df_spec_sel"
   ]
  },
  {
   "cell_type": "markdown",
   "id": "920ed4cb-6561-4067-af68-8db88018cb28",
   "metadata": {},
   "source": [
    "### Comparison of Auxtel Selected data and Merra2"
   ]
  },
  {
   "cell_type": "code",
   "execution_count": null,
   "id": "b25d112b-e935-4570-8b3e-158100e154a3",
   "metadata": {},
   "outputs": [],
   "source": [
    "fig,axs = plt.subplots(1,1,figsize=(14,7),layout='constrained')\n",
    "ax  = axs\n",
    "leg=ax.get_legend()\n",
    "\n",
    "#df_m.plot(x=\"mjd\",y=\"TQV\",ax=ax,marker=\".\",c=\"b\",lw=1,ms=1,ls=\"-\",label=\"Merra2\",legend=leg)  \n",
    "df_m2.plot(x=\"mjd\",y=\"TQV\",ax=ax,marker=\".\",c=\"b\",lw=0,ms=3,label=\"Merra2\",legend=leg)  \n",
    "df_spec_sel.plot(x=\"ex_mjd\",y=\"PWV [mm]_x\",ax=ax,marker='o',ms=3,c=\"r\",lw=0.0,grid=True,label=tag,legend=leg)\n",
    "\n",
    "\n",
    "ax.set_ylabel(\"PWV [mm]_x\")\n",
    "ax.set_xlabel(\"date\")\n",
    "#ax.xaxis.set_major_formatter(date_form)\n",
    "ax.set_title(\"Precipitable water vapor measured by Auxtel (holo) \\n and comparison with Merra2 data\",fontweight=\"bold\")\n",
    "ax.legend()\n",
    "\n",
    "#for key, tt in dn.items():\n",
    "#    ax.axvspan(tt[0],tt[1], color='blue', alpha=0.1)\n",
    "\n",
    "ax.axvspan(TMINMJD,DATEMJD_WITHCOLLIMATOR , color='yellow', alpha=0.1)\n",
    "\n",
    "plt.tight_layout()\n",
    " \n",
    "ax.set_ylim(0.,20.)\n",
    "ax.set_xlim(TMINMJD,TMAXMJD)\n",
    "\n",
    "figname =f\"{pathfigs}/pwvholoM2_allpoints_allnights_mjd\"+figtype\n",
    "plt.savefig(figname)\n",
    "plt.show()"
   ]
  },
  {
   "cell_type": "code",
   "execution_count": null,
   "id": "a13ebd0b-999b-4b49-9f3b-460469edd58a",
   "metadata": {},
   "outputs": [],
   "source": [
    "fig = plt.figure(figsize=(16,8),layout='constrained')\n",
    "\n",
    "gs = gridspec.GridSpec(2,1,height_ratios=[2, 1])\n",
    "ax1 = fig.add_subplot(gs[0])\n",
    "ax2 = fig.add_subplot(gs[1], sharex=ax1)\n",
    "\n",
    "leg1=ax1.get_legend()\n",
    "leg2=ax2.get_legend()\n",
    "\n",
    "df_m2.plot(x=\"mjd\",y=\"TQV\",ax=ax1,marker=\".\",c=\"b\",lw=0,ms=5,label=\"Merra2\",legend=leg1)  \n",
    "#df_spec_sel.plot(x=\"ex_mjd\",y=\"PWV [mm]_x\",ax=ax1,marker='o',ms=5,c=\"r\",lw=0.0,grid=True,label=\"data\",legend=leg1)\n",
    "\n",
    "df_spec_wp.plot(x=\"ex_mjd\",y=\"PWV [mm]_x\",ax=ax1,marker='o',ms=5,c=\"r\",lw=0.0,grid=True,label=\"with polar\",legend=leg1)\n",
    "df_spec_np_b.plot(x=\"ex_mjd\",y=\"PWV [mm]_x\",ax=ax1,marker='o',ms=5,c=\"purple\",lw=0.0,grid=True,label=\"non polar bright\",legend=leg1)\n",
    "df_spec_np_f.plot(x=\"ex_mjd\",y=\"PWV [mm]_x\",ax=ax1,marker='o',ms=5,c=\"green\",lw=0.0,grid=True,label=\"non polar faint\",legend=leg1)\n",
    "\n",
    "\n",
    "ax1.set_ylabel(\"PWV [mm]_x\")\n",
    "\n",
    "#ax.xaxis.set_major_formatter(date_form)\n",
    "ax1.set_title(\"Precipitable water vapor measured by Auxtel (holo) \\n comparison with Merra2 and relative difference\",fontweight=\"bold\")\n",
    "ax1.legend()\n",
    "\n",
    "ax1.set_ylim(0.,15.)\n",
    "ax1.set_xlim(TMINMJD,TMAXMJD)\n",
    "ax1.axvspan(TMINMJD,DATEMJD_WITHCOLLIMATOR , color='yellow', alpha=0.1)\n",
    "\n",
    "#df_spec_sel.plot(x=\"ex_mjd\",y=\"dpwv\",ax=ax2,marker='o',ms=5,c=\"r\",lw=0.0,grid=True,label=\"data- merra2\",legend=leg2)\n",
    "df_spec_wp.plot(x=\"ex_mjd\",y=\"dpwv\",ax=ax2,marker='o',ms=4,c=\"r\",lw=0.0,grid=True,label=\"with polar\",legend=leg2)\n",
    "df_spec_np_b.plot(x=\"ex_mjd\",y=\"dpwv\",ax=ax2,marker='o',ms=4,c=\"purple\",lw=0.0,grid=True,label=\"non polar bright\",legend=leg2)\n",
    "df_spec_np_f.plot(x=\"ex_mjd\",y=\"dpwv\",ax=ax2,marker='o',ms=4,c=\"green\",lw=0.0,grid=True,label=\"non polar faint\",legend=leg2)\n",
    "\n",
    "ax2.set_ylabel(\"$\\Delta PWV$ (mm)\")\n",
    "ax2.set_xlabel(\"date\")\n",
    "ax2.axvspan(TMINMJD,DATEMJD_WITHCOLLIMATOR , color='yellow', alpha=0.1)\n",
    "ax2.legend()\n",
    "\n",
    "\n",
    "plt.tight_layout()\n",
    "#figname =f\"{pathfigs}/pwvholoM2_allpoints_allnights_mjd\"+figtype\n",
    "#plt.savefig(figname)\n",
    "plt.show()"
   ]
  },
  {
   "cell_type": "markdown",
   "id": "17aafe95-ff77-4258-b250-51370f2d5155",
   "metadata": {},
   "source": [
    "### $\\Delta PWV$ vs PWV\n",
    "\n",
    "$$\n",
    "\\Delta PWV = PW{auxtel} - PWV_{merra2}\n",
    "$$"
   ]
  },
  {
   "cell_type": "code",
   "execution_count": null,
   "id": "92e25879-df63-4c03-9eea-043b1c7b48b8",
   "metadata": {},
   "outputs": [],
   "source": [
    "fig,axs = plt.subplots(1,2,figsize=(14,6),layout='constrained')\n",
    "ax1,ax2  = axs\n",
    "leg=ax.get_legend()\n",
    "\n",
    "#sc = ax.scatter(data=df_spec_sel, x='PWV [mm]_x', y='dpwv', c='ex_mjd', marker=\"+\",s=30,cmap='rainbow')\n",
    "sc1 = ax1.scatter(data=df_spec_sel, x='pwv_m2', y='dpwv', c='ex_mjd', marker=\"+\",s=30,cmap='rainbow')\n",
    "\n",
    "ax1.set_title(\"$\\Delta PWV$ vs PWV\")\n",
    "ax1.set_xlabel(\"PWV (mm) (Merra)\")\n",
    "ax1.set_ylabel(\"$\\Delta$ PWV (Merra) (mm)\")\n",
    "\n",
    "\n",
    "#\n",
    "sc1 = ax2.scatter(data=df_spec_sel, x='pwv_m2', y='dpwv', c='ex_mjd', marker=\"+\",s=30,cmap='rainbow')\n",
    "\n",
    "ax2.set_title(\"$\\Delta PWV$ vs PWV\")\n",
    "ax2.set_xlabel(\"PWV (mm) (AUXTEL)\")\n",
    "ax2.set_ylabel(\"$\\Delta$ PWV (mm)\")\n",
    "sc2 = ax2.scatter(data=df_spec_sel, x='PWV [mm]_x', y='dpwv', c='ex_mjd', marker=\"+\",s=30,cmap='rainbow')\n",
    "cbar = plt.colorbar(sc1)\n",
    "plt.show()"
   ]
  },
  {
   "cell_type": "code",
   "execution_count": null,
   "id": "31f36d00-93fd-4a23-8351-fc6c0ecf6080",
   "metadata": {},
   "outputs": [],
   "source": [
    "fig,axs = plt.subplots(1,2,figsize=(14,6),layout='constrained')\n",
    "ax1,ax2  = axs\n",
    "leg=ax.get_legend()\n",
    "\n",
    "#sc = ax.scatter(data=df_spec_sel, x='PWV [mm]_x', y='dpwv', c='ex_mjd', marker=\"+\",s=30,cmap='rainbow')\n",
    "sc1 = ax1.scatter(data=df_spec_sel, x='pwv_m2', y='dpwv2', c='ex_mjd', marker=\"+\",s=30,cmap='rainbow')\n",
    "\n",
    "ax1.set_title(\"$\\Delta PWV_2$ vs PWV\")\n",
    "ax1.set_xlabel(\"PWV (mm) (Merra)\")\n",
    "ax1.set_ylabel(\"$\\Delta$ PWV2 (Merra) (mm)\")\n",
    "\n",
    "\n",
    "#\n",
    "sc1 = ax2.scatter(data=df_spec_sel, x='pwv_m2', y='dpwv2', c='ex_mjd', marker=\"+\",s=30,cmap='rainbow')\n",
    "\n",
    "ax2.set_title(\"$\\Delta PWV_2$ vs PWV\")\n",
    "ax2.set_xlabel(\"PWV (mm) (AUXTEL)\")\n",
    "ax2.set_ylabel(\"$\\Delta$ PWV2 (mm)\")\n",
    "sc2 = ax2.scatter(data=df_spec_sel, x='PWV [mm]_x', y='dpwv2', c='ex_mjd', marker=\"+\",s=30,cmap='rainbow')\n",
    "cbar = plt.colorbar(sc1)\n",
    "plt.show()"
   ]
  },
  {
   "cell_type": "markdown",
   "id": "64958f61-1ede-4120-ae6c-014ecbea0c18",
   "metadata": {},
   "source": [
    "## Fit a straight line to find a link between PWV Merra2 - PWV Auxtel"
   ]
  },
  {
   "cell_type": "code",
   "execution_count": null,
   "id": "c091d89b-fe63-4b72-b0c8-014a9590ddcc",
   "metadata": {},
   "outputs": [],
   "source": [
    "# 🌟 Modèle linéaire : y = ax + b\n",
    "def linearmodel(x, a, b):\n",
    "    return a * x + b"
   ]
  },
  {
   "cell_type": "code",
   "execution_count": null,
   "id": "d372622f-297e-4404-9c30-b37a35464944",
   "metadata": {},
   "outputs": [],
   "source": [
    "#def error_propagation(x, popt, pcov):\n",
    "#    \"\"\"Calcule l'incertitude sur y(x) en tenant compte des erreurs sur a et b.\"\"\"\n",
    "#    g = np.array([x, 1])  # Gradient de f(x) = ax + b\n",
    "#    sigma_y2 = g.T @ pcov @ g  # Variance de y\n",
    "#    return np.sqrt(sigma_y2)  # Écart-type\n",
    "\n",
    "def error_propagation(x, popt, pcov):\n",
    "    \"\"\"Calcule l'incertitude sur y(x) pour un x scalaire ou un tableau numpy.\"\"\"\n",
    "    x = np.atleast_1d(x)  # S'assure que x est un tableau\n",
    "    g = np.vstack([x, np.ones_like(x)])  # Matrice (2, N) avec les gradients [x, 1] en colonne\n",
    "    sigma_y2 = np.einsum('ij,jk,ik->i', g.T, pcov, g.T)  # Produit matriciel pour chaque x\n",
    "    return np.sqrt(sigma_y2)  # Retourne l'écart-type de y(x)\n",
    "\n",
    "def ndof(x,popt):\n",
    "    dof = len(x) - len(popt) \n",
    "    return dof\n",
    "    \n",
    "\n",
    "def error_propagation_with_IC(x, popt, pcov, dof, confidence=0.95):\n",
    "    \"\"\"Calcule l'intervalle de confiance à `confidence` % sur y(x).\"\"\"\n",
    "    x = np.atleast_1d(x)  \n",
    "    g = np.vstack([x, np.ones_like(x)])  # Matrice (2, N) des gradients [x, 1]\n",
    "    sigma_y2 = np.einsum('ij,jk,ik->i', g.T, pcov, g.T)  # Variance de y(x)\n",
    "    sigma_y = np.sqrt(sigma_y2)  # Écart-type\n",
    "    \n",
    "    # Facteur de Student pour l'intervalle de confiance\n",
    "    alpha = 1 - confidence\n",
    "    t_factor = t.ppf(1 - alpha / 2, dof)  # Quantile de Student\n",
    "\n",
    "    return sigma_y * t_factor  # Intervalle de confiance autour de y(x)"
   ]
  },
  {
   "cell_type": "code",
   "execution_count": null,
   "id": "a820ef32-48ad-40f0-9641-c63d723467f5",
   "metadata": {},
   "outputs": [],
   "source": [
    "def param_label(popt):\n",
    "    txt_param1 = f\"slope = {popt[0]:.3f}\"\n",
    "    txt_param2 = f\"intercept = {popt[1]:.3f}\"\n",
    "    txtstr = \"\\n\".join([txt_param1,txt_param2])\n",
    "    return txtstr"
   ]
  },
  {
   "cell_type": "code",
   "execution_count": null,
   "id": "e398b484-98b6-4423-9eed-5221b0ea82ed",
   "metadata": {},
   "outputs": [],
   "source": [
    "XMIN = 0.\n",
    "XMAX = 15.\n",
    "xfit = np.linspace(XMIN,XMAX,500)\n",
    "\n",
    "# define a model for a line\n",
    "line_orig = models.Linear1D(slope=1.0, intercept=0.5)\n",
    "\n",
    "# initialize a linear fitter (astropy)\n",
    "fit = fitting.LinearLSQFitter()\n",
    "# initialize a linear model\n",
    "line_init = models.Linear1D()\n",
    "line_init1 = models.Linear1D()\n",
    "line_init2 = models.Linear1D()\n",
    "line_init3 = models.Linear1D()"
   ]
  },
  {
   "cell_type": "markdown",
   "id": "eafe835d-880d-4211-8418-0be9a2ef3e51",
   "metadata": {},
   "source": [
    "#### Better fit with with curve_fit"
   ]
  },
  {
   "cell_type": "code",
   "execution_count": null,
   "id": "92d76c77-6f37-4caf-b595-20587572d175",
   "metadata": {},
   "outputs": [],
   "source": [
    "# Use selected data\n",
    "\n",
    "x = df_spec_sel[\"pwv_m2\"].values\n",
    "y = df_spec_sel[\"PWV [mm]_x\"].values\n",
    "fitted_line = fit(line_init, x, y)\n",
    "\n",
    "# Fit all selected data\n",
    "# use curve_fit by constaining the slope\n",
    "#popt, pcov = curve_fit(linearmodel, x, y, sigma=np.ones_like(y) * 1.0, absolute_sigma = True)\n",
    "popt, pcov = curve_fit(linearmodel, x, y, sigma=np.ones_like(y) * 1.0, p0 = [1, 0], bounds=([0.99, -np.inf], [1.01, np.inf]),absolute_sigma = True)\n",
    "perr = np.sqrt(np.diag(pcov))\n",
    "dof = ndof(x,popt)\n",
    "txtstr = param_label(popt)\n",
    "\n",
    "# Fit all selected polar data\n",
    "x1 = df_spec_wp[\"pwv_m2\"].values\n",
    "y1 = df_spec_wp[\"PWV [mm]_x\"].values\n",
    "fitted_line1 = fit(line_init1, x1, y1)\n",
    "#popt1, pcov1 = curve_fit(linearmodel, x1, y1)\n",
    "popt1, pcov1 = curve_fit(linearmodel, x1, y1, sigma=np.ones_like(y1) * 1.0, p0 = [1, 0], bounds=([0.99, -np.inf], [1.01, np.inf]),absolute_sigma = True)\n",
    "perr1 = np.sqrt(np.diag(pcov1))\n",
    "dof1 = ndof(x1,popt1)\n",
    "txtstr1 = param_label(popt1)\n",
    "\n",
    "# Fit all selected non polar bright data\n",
    "x2 = df_spec_np_b[\"pwv_m2\"].values\n",
    "y2 = df_spec_np_b[\"PWV [mm]_x\"].values\n",
    "fitted_line2 = fit(line_init2, x2, y2)\n",
    "#popt2, pcov2 = curve_fit(linearmodel, x2, y2)\n",
    "popt2, pcov2 = curve_fit(linearmodel, x2, y2,sigma=np.ones_like(y2) * 1.0, p0 = [1, 0], bounds=([0.99, -np.inf], [1.01, np.inf]),absolute_sigma = True)\n",
    "perr2 = np.sqrt(np.diag(pcov2))\n",
    "dof2 = ndof(x2,popt2)\n",
    "txtstr2 = param_label(popt2)\n",
    "\n",
    "# Fit all selected non polar faint data\n",
    "x3 = df_spec_np_f[\"pwv_m2\"].values\n",
    "y3 = df_spec_np_f[\"PWV [mm]_x\"].values\n",
    "fitted_line3 = fit(line_init3, x3, y3)\n",
    "#popt3, pcov3 = curve_fit(linearmodel, x3, y3)\n",
    "popt3, pcov3 = curve_fit(linearmodel, x3, y3,sigma=np.ones_like(y3) * 1.0, p0 = [1, 0], bounds=([0.99, -np.inf], [1.01, np.inf]),absolute_sigma = True)\n",
    "perr3 = np.sqrt(np.diag(pcov3))\n",
    "dof3 = ndof(x3,popt3)\n",
    "txtstr3 = param_label(popt3)"
   ]
  },
  {
   "cell_type": "markdown",
   "id": "ea82315a-a552-4e5c-9cbc-0a773caae220",
   "metadata": {},
   "source": [
    "### Plot correlation Auxtel Merra2"
   ]
  },
  {
   "cell_type": "code",
   "execution_count": null,
   "id": "0340967f-492a-4154-ad34-0bee342e1b84",
   "metadata": {},
   "outputs": [],
   "source": [
    "palette = sns.color_palette(\"hls\", 3)\n",
    "\n",
    "fig,axs = plt.subplots(1,1,figsize=(6,6),layout='constrained')\n",
    "ax  = axs\n",
    "leg=ax.get_legend()\n",
    "\n",
    "#df_spec_sel.plot(x=\"pwv_m2\",y=\"PWV [mm]_x\",ax=ax,marker='o',ms=5,c=\"grey\",lw=0.0,grid=True,label=\"\",legend=leg)\n",
    "df_spec_wp.plot(x=\"pwv_m2\",y=\"PWV [mm]_x\",ax=ax,marker='+',ms=8,c=palette[0],lw=0.0,grid=True,label=\"with polar\",legend=leg)\n",
    "df_spec_np_b.plot(x=\"pwv_m2\",y=\"PWV [mm]_x\",ax=ax,marker='+',ms=8,c=palette[1],lw=0.0,grid=True,label=\"non polar bright\",legend=leg)\n",
    "df_spec_np_f.plot(x=\"pwv_m2\",y=\"PWV [mm]_x\",ax=ax,marker='+',ms=8,c=palette[2],lw=0.0,grid=True,label=\"non polar faint\",legend=leg)\n",
    "\n",
    "ax.set_aspect(\"equal\")\n",
    "ax.set_xlim(0.,15.)\n",
    "ax.set_ylim(0.,15.)\n",
    "\n",
    "yfit = linearmodel(xfit,*popt)\n",
    "#yfit_err = error_propagation(xfit, popt, pcov)\n",
    "yfit_err =  error_propagation_with_IC(xfit, popt, pcov, dof, confidence=0.95)\n",
    "\n",
    "ax.plot(xfit,yfit,\"-k\",lw=3)\n",
    "ax.fill_between(xfit, yfit - yfit_err, yfit + yfit_err, color='grey', alpha=0.2, label=\"confidence belt 95% CL\")\n",
    "\n",
    "ax.set_ylabel(\"PWV - Auxtel (mm)\")\n",
    "ax.set_xlabel(\"PWV - Merra2 (mm)\")\n",
    "\n",
    "ax.text(0.1, 0.95, txtstr, transform=ax.transAxes, fontsize=16,verticalalignment='top', bbox=props)\n",
    "\n",
    "\n",
    "ax.legend(loc=\"upper right\")\n",
    "ax.set_title(\"PWV-Auxtel vs PWV-Merra2\")\n",
    "plt.show()"
   ]
  },
  {
   "cell_type": "markdown",
   "id": "b5f7da23-f63d-4487-8be6-0e896b68af1a",
   "metadata": {},
   "source": [
    "### Plot correlation Auxtel Merra2, separating polar, bright non polar and faint no polar"
   ]
  },
  {
   "cell_type": "code",
   "execution_count": null,
   "id": "b720ab39-2ad8-4b1c-9bd9-f5ab2d3c83bb",
   "metadata": {},
   "outputs": [],
   "source": [
    "import matplotlib.pyplot as plt\n",
    "import numpy as np\n",
    "\n",
    "# 🔹 Création de la figure avec 3 subplots\n",
    "fig = plt.figure(figsize=(18,6))\n",
    "\n",
    "# 🔹 Utilisation de gridspec pour gérer l'espace\n",
    "gs = fig.add_gridspec(2, 3, height_ratios=[0.95, 0.05])  # 95% pour les subplots, 5% pour la colorbar\n",
    "\n",
    "# 🔹 Subplots principaux (en haut, dans la première ligne)\n",
    "ax1 = fig.add_subplot(gs[0, 0])  # Premier subplot\n",
    "ax2 = fig.add_subplot(gs[0, 1],sharex=ax1, sharey=ax1)  # Deuxième subplot\n",
    "ax3 = fig.add_subplot(gs[0, 2],sharex=ax1, sharey=ax1)  # Troisième subplot\n",
    "\n",
    "\n",
    "# 🔹 Tracé des graphiques (exemple de scatter plots)\n",
    "leg1=ax1.get_legend()\n",
    "leg2=ax2.get_legend()\n",
    "leg3=ax3.get_legend()\n",
    "\n",
    "\n",
    "#df_spec_wp.plot(x=\"pwv_m2\",y=\"PWV [mm]_x\",ax=ax1,marker='o',ms=3,c=\"r\",lw=0.0,grid=True,label=\"with polar\",legend=leg1)\n",
    "sc1 = ax1.scatter(data=df_spec_wp, x='pwv_m2', y='PWV [mm]_x', c='ex_mjd', marker=\"+\",s=30,cmap='rainbow',label=\"polar\")\n",
    "\n",
    "#df_spec_np_b.plot(x=\"pwv_m2\",y=\"PWV [mm]_x\",ax=ax2,marker='o',ms=3,c=\"purple\",lw=0.0,grid=True,label=\"non polar bright\",legend=leg2)\n",
    "sc2 = ax2.scatter(data=df_spec_np_b, x='pwv_m2', y='PWV [mm]_x', c='ex_mjd', marker=\"+\",s=30,cmap='rainbow',label=\"non-polar bright\")\n",
    "\n",
    "#df_spec_np_f.plot(x=\"pwv_m2\",y=\"PWV [mm]_x\",ax=ax3,marker='o',ms=3,c=\"green\",lw=0.0,grid=True,label=\"non polar faint\",legend=leg3)\n",
    "sc3 = ax3.scatter(data=df_spec_np_f, x='pwv_m2', y='PWV [mm]_x', c='ex_mjd', marker=\"+\",s=30,cmap='rainbow',label=\"non-polar faint\")\n",
    "\n",
    "\n",
    "ax1.set_aspect(\"equal\")\n",
    "ax2.set_aspect(\"equal\")\n",
    "ax3.set_aspect(\"equal\")\n",
    "\n",
    "ax1.set_xlim(0.,15.)\n",
    "ax1.set_ylim(0.,15.)\n",
    "ax1.text(0.1, 0.95, txtstr1, transform=ax1.transAxes, fontsize=16,verticalalignment='top', bbox=props)\n",
    "\n",
    "yfit1 = linearmodel(xfit,*popt1)\n",
    "yfit_err1 =  error_propagation_with_IC(xfit, popt1, pcov1, dof1, confidence=0.95)\n",
    "ax1.plot(xfit,yfit1,\"-k\",lw=3)\n",
    "ax1.fill_between(xfit, yfit1- yfit_err1, yfit1+ yfit_err1, color='grey', alpha=0.2,label=\"confidence belt 95% CL\")\n",
    "\n",
    "\n",
    "\n",
    "ax2.text(0.1, 0.95, txtstr2, transform=ax2.transAxes, fontsize=16,verticalalignment='top', bbox=props)\n",
    "#ax2.plot(xfit,fitted_line2(xfit),\"-k\",lw=3)\n",
    "yfit2 = linearmodel(xfit,*popt2)\n",
    "yfit_err2 =  error_propagation_with_IC(xfit, popt2, pcov2, dof2, confidence=0.95)\n",
    "ax2.plot(xfit,yfit2,\"-k\",lw=3)\n",
    "ax2.fill_between(xfit, yfit2 - yfit_err2, yfit2 + yfit_err2, color='grey', alpha=0.2,label=\"confidence belt 95% CL\")\n",
    "\n",
    "ax3.text(0.1, 0.95, txtstr3, transform=ax3.transAxes, fontsize=16,verticalalignment='top', bbox=props)\n",
    "#ax3.plot(xfit,fitted_line3(xfit),\"-k\",lw=3)\n",
    "yfit3 = linearmodel(xfit,*popt3)\n",
    "yfit_err3 =  error_propagation_with_IC(xfit, popt3, pcov3, dof3, confidence=0.95)\n",
    "ax3.plot(xfit,yfit3,\"-k\",lw=3)\n",
    "ax3.fill_between(xfit, yfit3 - yfit_err3, yfit3 + yfit_err3, color='grey', alpha=0.2,label=\"confidence belt 95% CL\")\n",
    "\n",
    "ax1.legend()\n",
    "ax2.legend()\n",
    "ax3.legend()\n",
    "\n",
    "ax1.set_ylabel(\"PWV - Auxtel (mm)\")\n",
    "ax1.set_xlabel(\"PWV - Merra2 (mm)\")\n",
    "ax2.set_xlabel(\"PWV - Merra2 (mm)\")\n",
    "ax3.set_xlabel(\"PWV - Merra2 (mm)\")\n",
    "ax1.plot([0,15],[0,15],'-.k')\n",
    "ax2.plot([0,15],[0,15],'-.k')\n",
    "ax3.plot([0,15],[0,15],'-.k')\n",
    "\n",
    "# 🔹 Mise en forme et personnalisation des axes\n",
    "ax1.set_aspect(\"equal\")\n",
    "ax2.set_aspect(\"equal\")\n",
    "ax3.set_aspect(\"equal\")\n",
    "\n",
    "ax1.set_xlim(0.,15.)\n",
    "ax1.set_ylim(0.,15.)\n",
    "\n",
    "# 🔹 Ajout de la colorbar sous les axes (dans la deuxième ligne de gridspec)\n",
    "ax_cbar = fig.add_subplot(gs[1, :])  # Colorbar occupe toute la largeur de la deuxième ligne\n",
    "\n",
    "\n",
    "fig.colorbar(sc1, cax=ax_cbar, orientation='horizontal')\n",
    "cbar.set_label('date (MJD)', fontsize=12)\n",
    "#cbar.ax.yaxis.set_label_position('center')  # Déplacer le label à droite si nécessaire\n",
    "\n",
    "plt.suptitle(\"PWV Auxtel vs PWV Merra2\")\n",
    "plt.tight_layout()\n",
    "\n",
    "# 🔹 Affichage du graphique\n",
    "plt.show()\n"
   ]
  },
  {
   "cell_type": "code",
   "execution_count": null,
   "id": "22093a32-df7a-4177-ad33-e5c1611fe1fb",
   "metadata": {},
   "outputs": [],
   "source": [
    "all_selected_nights = df_spec_sel[\"nightObs\"].unique()"
   ]
  },
  {
   "cell_type": "code",
   "execution_count": null,
   "id": "9706b6a4-d66b-4a6c-8794-8a147f5113ea",
   "metadata": {},
   "outputs": [],
   "source": [
    "#all_selected_nights "
   ]
  },
  {
   "cell_type": "markdown",
   "id": "0766a319-9fb6-41d2-94cf-0a065cda2b1a",
   "metadata": {},
   "source": [
    "## LombScargle"
   ]
  },
  {
   "cell_type": "code",
   "execution_count": null,
   "id": "63f7e443-0693-4555-a672-7d9803419e2e",
   "metadata": {},
   "outputs": [],
   "source": [
    "x = df_spec_sel[\"ex_mjd\"].values\n",
    "y = df_spec_sel[\"PWV [mm]_x\"].values"
   ]
  },
  {
   "cell_type": "code",
   "execution_count": null,
   "id": "18beffec-477e-4947-bb57-975d78641d54",
   "metadata": {},
   "outputs": [],
   "source": [
    "fig,ax = plt.subplots(1,1,figsize = (FIGXSIZE_0,FIGYSIZE_0),layout=\"constrained\")\n",
    "LombScargle_analysis(x,y, ax=ax ,mode= \"logxliny\",\n",
    "                 title = \"LombScargle : PWV  (Auxtel)\",\n",
    "                 xlabel=\"frequency (days$^{-1}$)\",\n",
    "                 ylabel=\" \",\n",
    "                 label=\"Auxtel  PWV\")\n",
    "figname =f\"{pathfigs}/pwv_LombScargle_auxtel\"+figtype\n",
    "fig.savefig(figname)\n",
    "plt.show()"
   ]
  },
  {
   "cell_type": "code",
   "execution_count": null,
   "id": "c3c4664b-e84a-4a8d-b86b-7202e50a3272",
   "metadata": {},
   "outputs": [],
   "source": [
    "x = df_spec_sel[\"ex_mjd\"].values\n",
    "y = df_spec_sel[\"PWV [mm]_x_res\"].values"
   ]
  },
  {
   "cell_type": "code",
   "execution_count": null,
   "id": "4b07700e-3398-4b20-97a5-11abc5afaaab",
   "metadata": {},
   "outputs": [],
   "source": [
    "fig,ax = plt.subplots(1,1,figsize = (FIGXSIZE_0,FIGYSIZE_0),layout=\"constrained\")\n",
    "LombScargle_analysis(x,y, ax=ax ,mode= \"logxliny\",\n",
    "                 title = \"LombScargle : PWV  (Auxtel)\",\n",
    "                 xlabel=\"frequency (days$^{-1}$)\",\n",
    "                 ylabel=\" \",\n",
    "                 label=\"Auxtel  PWV\")\n",
    "figname =f\"{pathfigs}/pwv_LombScargle_auxtel\"+figtype\n",
    "fig.savefig(figname)\n",
    "plt.show()"
   ]
  },
  {
   "cell_type": "markdown",
   "id": "06546dbd-ee68-4ec1-83c7-463b1a33c9df",
   "metadata": {},
   "source": [
    "## Discrete Covariance curve"
   ]
  },
  {
   "cell_type": "code",
   "execution_count": null,
   "id": "550701e0-9ca8-4154-bf51-339bf13bddc4",
   "metadata": {},
   "outputs": [],
   "source": [
    "SIGMA_REPEATABILITY = 0.26"
   ]
  },
  {
   "cell_type": "code",
   "execution_count": null,
   "id": "0c55e2fb-45c9-4efa-b3f0-4fd7010fe31f",
   "metadata": {},
   "outputs": [],
   "source": [
    "def ComputeZDCF(filename_in,df_pwv_curve,minpts=0):\n",
    "    \"\"\"\n",
    "    Compute the Discrete Covariance Curve with pyzdcf\n",
    "\n",
    "    parameters :\n",
    "    - df_pwv_curve : pandas dataframe with 3 columns : (time, pwv, sigma)\n",
    "      The time has to be chosen in terms of days/hours,min ..., outside this function\n",
    "    - filename_in : csv file where are written the tempory DTC curve\n",
    "    \n",
    "    \"\"\"\n",
    "    \n",
    "\n",
    "\n",
    "    # add the error on the point \n",
    "    #df_pwvc = df_pwvc.assign(sig_pwv = lambda x: sigma_repeatability)\n",
    "\n",
    "    full_filename_in = os.path.join(dcf_path_input,filename_in)\n",
    "    df_pwv_curve.to_csv(full_filename_in, index=False,header=False)\n",
    "\n",
    "    # parameters for the pyzdcf\n",
    "    params_dcf = dict(autocf    =  True, # Autocorrelation (T) or cross-correlation (F)\n",
    "              prefix            = 'acf',  # Output files prefix\n",
    "              uniform_sampling  =  False, # Uniform sampling?\n",
    "              omit_zero_lags    =  False,  # Omit zero lag points?\n",
    "              minpts            =  minpts,     # Min. num. of points per bin (0 is a flag for default value of 11)\n",
    "              num_MC            =  100,   # Num. of Monte Carlo simulations for error estimation\n",
    "              lc1_name          =  filename_in,   # Name of the first light curve file\n",
    "              lc2_name          =  filename_in    # Name of the second light curve file (required only if we do CCF)\n",
    "             )\n",
    "\n",
    "    # compute the ZDCF\n",
    "    \n",
    "    dcf_df = pyzdcf(input_dir  =  dcf_path_input + \"/\" , \n",
    "                    output_dir = dcf_path_output + \"/\", \n",
    "                    intr       = False, \n",
    "                    parameters = params_dcf, \n",
    "                    sep        = ',', \n",
    "                    sparse     = 'auto', \n",
    "                    verbose    = False)\n",
    "    return dcf_df"
   ]
  },
  {
   "cell_type": "code",
   "execution_count": null,
   "id": "5fdbc50d-4f1a-44b7-9187-d7076cb0de40",
   "metadata": {},
   "outputs": [],
   "source": [
    "def ComputeCrossZDCF(filename_in1,filename_in2,df_pwv_curve1,df_pwv_curve2,minpts=0):\n",
    "    \"\"\"\n",
    "    Compute the Discrete Covariance Curve with pyzdcf\n",
    "\n",
    "    parameters :\n",
    "    - df_pwv_curve : pandas dataframe with 3 columns : (time, pwv, sigma)\n",
    "      The time has to be chosen in terms of days/hours,min ..., outside this function\n",
    "    - filename_in : csv file where are written the tempory DTC curve\n",
    "    \n",
    "    \"\"\"\n",
    "\n",
    "    # add the error on the point \n",
    "    #df_pwvc = df_pwvc.assign(sig_pwv = lambda x: sigma_repeatability)\n",
    "\n",
    "    full_filename_in1 = os.path.join(dcf_path_input,filename_in1)\n",
    "    df_pwv_curve1.to_csv(full_filename_in1, index=False,header=False)\n",
    "\n",
    "    full_filename_in2 = os.path.join(dcf_path_input,filename_in2)\n",
    "    df_pwv_curve2.to_csv(full_filename_in2, index=False,header=False)\n",
    "\n",
    "    # parameters for the pyzdcf\n",
    "    params_dcf = dict(autocf    =  False, # Autocorrelation (T) or cross-correlation (F)\n",
    "              prefix            = 'crosscf',  # Output files prefix\n",
    "              uniform_sampling  =  False, # Uniform sampling?\n",
    "              omit_zero_lags    =  False,  # Omit zero lag points?\n",
    "              minpts            =  minpts,     # Min. num. of points per bin (0 is a flag for default value of 11)\n",
    "              num_MC            =  100,   # Num. of Monte Carlo simulations for error estimation\n",
    "              lc1_name          =  filename_in1,   # Name of the first light curve file\n",
    "              lc2_name          =  filename_in2    # Name of the second light curve file (required only if we do CCF)\n",
    "             )\n",
    "\n",
    "    # compute the ZDCF\n",
    "    \n",
    "    dcf_df = pyzdcf(input_dir  =  dcf_path_input + \"/\" , \n",
    "                    output_dir = dcf_path_output + \"/\", \n",
    "                    intr       = False, \n",
    "                    parameters = params_dcf, \n",
    "                    sep        = ',', \n",
    "                    sparse     = 'auto', \n",
    "                    verbose    = False)\n",
    "    return dcf_df"
   ]
  },
  {
   "cell_type": "markdown",
   "id": "54e6288b-e5e5-4bea-a7c1-55fde17277fa",
   "metadata": {},
   "source": [
    "### a) Search for long timescale correlation in PWV Auxtel Data"
   ]
  },
  {
   "cell_type": "markdown",
   "id": "bc944f05-2d9d-4ec9-8328-ff925781ff40",
   "metadata": {},
   "source": [
    "#### Discrete corvariance on the PWV values"
   ]
  },
  {
   "cell_type": "markdown",
   "id": "ce5c1e7e-43a9-466f-a12d-91c5ef2cf6d5",
   "metadata": {},
   "source": [
    "##### Prepare the data with the three required columns"
   ]
  },
  {
   "cell_type": "code",
   "execution_count": null,
   "id": "c173bbf7-d005-43be-9d63-3163571f98d9",
   "metadata": {},
   "outputs": [],
   "source": [
    "df_dcf_in = df_spec_sel[[\"ex_mjd\",\"PWV [mm]_x\"]]"
   ]
  },
  {
   "cell_type": "code",
   "execution_count": null,
   "id": "ede76829-b53a-4f33-b3e2-cb64faaa5ab0",
   "metadata": {},
   "outputs": [],
   "source": [
    "tstart = df_dcf_in[\"ex_mjd\"].min()\n",
    "df_dcf_in[\"t_day\"] = df_dcf_in[\"ex_mjd\"] - tstart"
   ]
  },
  {
   "cell_type": "code",
   "execution_count": null,
   "id": "33d31233-dcaa-4138-8f7c-18d629a06a15",
   "metadata": {},
   "outputs": [],
   "source": [
    "df_dcf_in = df_dcf_in.assign(sig_pwv = lambda x: SIGMA_REPEATABILITY)"
   ]
  },
  {
   "cell_type": "code",
   "execution_count": null,
   "id": "0cb70736-8d9c-4e93-9862-48f39818dc9a",
   "metadata": {},
   "outputs": [],
   "source": [
    "df_dcf_in = df_dcf_in[[\"t_day\",\"PWV [mm]_x\",\"sig_pwv\"]]"
   ]
  },
  {
   "cell_type": "code",
   "execution_count": null,
   "id": "59703ca4-01e2-42aa-b48c-994930349dac",
   "metadata": {},
   "outputs": [],
   "source": [
    "df_dcf_in.head() "
   ]
  },
  {
   "cell_type": "code",
   "execution_count": null,
   "id": "5d58d5be-e2ed-47a1-a760-f5ee002b2c1a",
   "metadata": {},
   "outputs": [],
   "source": [
    "df_dcf_out = ComputeZDCF(\"dcf_in_pwv_auxtel.csv\",df_dcf_in, minpts = 21 )\n",
    "#df_dcf_out = ComputeZDCF(\"dcf_in_pwv_auxtel.csv\",df_dcf_in, minpts = 101 )"
   ]
  },
  {
   "cell_type": "code",
   "execution_count": null,
   "id": "4105d6de-c33d-45da-b974-e3381eacb1c4",
   "metadata": {},
   "outputs": [],
   "source": [
    "xerr = df_dcf_out[[\"-sig(tau)\",\"+sig(tau)\"]].values.T\t\n",
    "yerr = df_dcf_out[[\"-err(dcf)\",\"+err(dcf)\"]].values.T\t\n",
    "x = df_dcf_out[\"tau\"].values\n",
    "y = df_dcf_out[\"dcf\"].values"
   ]
  },
  {
   "cell_type": "code",
   "execution_count": null,
   "id": "11ea1099-2b35-4d8d-9dd6-45d90bca4ed9",
   "metadata": {},
   "outputs": [],
   "source": [
    "fig,ax = plt.subplots(1,1,figsize=(12,6),layout=\"constrained\")\n",
    "ax.errorbar(x,y,xerr=xerr,yerr=yerr,marker='o', mfc='red',linewidth=0.5,\n",
    "         mec='red', ms=2, mew=2,ecolor=\"k\",elinewidth=2,capsize=2,uplims=True, lolims=True)\n",
    "ax.grid()\n",
    "ax.set_ylim(-1.2,1.2)\n",
    "ax.set_title(f\"Discrete covariance function on PWV measurements in Auxtel (holo)\")\n",
    "ax.set_xlabel(\"Time (days)\")\n",
    "ax.set_ylabel(\"DCF (no units)\")"
   ]
  },
  {
   "cell_type": "markdown",
   "id": "1b1ccc7e-1ea1-4744-b92b-066d2152ad8d",
   "metadata": {},
   "source": [
    "### b) Search for short timescale correlations in PWV Auxtel resudials Data"
   ]
  },
  {
   "cell_type": "markdown",
   "id": "fb03746d-87c7-489e-88f0-8d7c7599cfb0",
   "metadata": {},
   "source": [
    "#### Prepare the data with the three required columns"
   ]
  },
  {
   "cell_type": "code",
   "execution_count": null,
   "id": "f4d37e86-be7f-43fb-bd83-fac2230a6cb8",
   "metadata": {},
   "outputs": [],
   "source": [
    " df_spec_sel.head()"
   ]
  },
  {
   "cell_type": "code",
   "execution_count": null,
   "id": "b94a0efc-7b3a-49af-9aaa-5b9bca0b260a",
   "metadata": {},
   "outputs": [],
   "source": [
    "df_dcf_in = df_spec_sel[[\"ex_mjd\",\"PWV [mm]_x_res\"]]"
   ]
  },
  {
   "cell_type": "code",
   "execution_count": null,
   "id": "2c0f7982-6754-4abe-9fcc-30cc7592a6f0",
   "metadata": {},
   "outputs": [],
   "source": [
    "tstart = df_dcf_in[\"ex_mjd\"].min()\n",
    "df_dcf_in[\"t_day\"] = (df_dcf_in[\"ex_mjd\"] - tstart)"
   ]
  },
  {
   "cell_type": "code",
   "execution_count": null,
   "id": "6940c7b5-37f6-408e-9068-649f08d5b3a3",
   "metadata": {},
   "outputs": [],
   "source": [
    "df_dcf_in = df_dcf_in.assign(sig_pwv = lambda x: SIGMA_REPEATABILITY)"
   ]
  },
  {
   "cell_type": "code",
   "execution_count": null,
   "id": "0efe9dae-ef4b-4861-8b82-f2250b16d3a3",
   "metadata": {},
   "outputs": [],
   "source": [
    "df_dcf_in = df_dcf_in[[\"t_day\",\"PWV [mm]_x_res\",\"sig_pwv\"]]"
   ]
  },
  {
   "cell_type": "code",
   "execution_count": null,
   "id": "9be3e46e-9068-4800-9714-b576ed6f5234",
   "metadata": {},
   "outputs": [],
   "source": [
    "df_dcf_out = ComputeZDCF(\"dcf_in_pwvres_auxtel.csv\",df_dcf_in, minpts = 21)"
   ]
  },
  {
   "cell_type": "code",
   "execution_count": null,
   "id": "99d053b6-271b-4af7-a2d2-956879b23ad7",
   "metadata": {},
   "outputs": [],
   "source": [
    "xerr = df_dcf_out[[\"-sig(tau)\",\"+sig(tau)\"]].values.T\t\n",
    "yerr = df_dcf_out[[\"-err(dcf)\",\"+err(dcf)\"]].values.T\t\n",
    "x = df_dcf_out[\"tau\"].values\n",
    "y = df_dcf_out[\"dcf\"].values"
   ]
  },
  {
   "cell_type": "code",
   "execution_count": null,
   "id": "a3e0d7ab-46ea-4278-a02f-01c1a33eef3d",
   "metadata": {},
   "outputs": [],
   "source": [
    "fig,ax = plt.subplots(1,1,figsize=(12,6),layout=\"constrained\")\n",
    "ax.errorbar(x,y,xerr=xerr,yerr=yerr,marker='o', mfc='red',linewidth=0.5,\n",
    "         mec='red', ms=2, mew=2,ecolor=\"k\",elinewidth=2,capsize=2,uplims=True, lolims=True)\n",
    "ax.grid()\n",
    "ax.set_ylim(-1,1)\n",
    "ax.set_title(f\"Discrete covariance function on PWV residuals in Auxtel (holo)\")\n",
    "ax.set_xlabel(\"Time (days)\")\n",
    "ax.set_ylabel(\"DCF (no units)\")\n",
    "ax.set_xlim(0.,100.)\n",
    "#ax.set_xscale(\"log\")"
   ]
  },
  {
   "cell_type": "markdown",
   "id": "0debcd09-7b01-4ada-85e6-f9c7b3ba1b36",
   "metadata": {},
   "source": [
    "## My calculation of cross autocorrelation"
   ]
  },
  {
   "cell_type": "code",
   "execution_count": null,
   "id": "3a1159bc-2f93-4d50-8a20-edf6f1fe5b18",
   "metadata": {},
   "outputs": [],
   "source": [
    "df_dcf_in = df_spec_sel[[\"ex_mjd\",\"PWV [mm]_x\"]]\n",
    "tstart = df_dcf_in[\"ex_mjd\"].min()\n",
    "df_dcf_in[\"t_day\"] = (df_dcf_in[\"ex_mjd\"] - tstart)"
   ]
  },
  {
   "cell_type": "code",
   "execution_count": null,
   "id": "3925c29f-1c20-429c-9bb4-6d399b8b8fc0",
   "metadata": {},
   "outputs": [],
   "source": [
    "df_dcf_in = df_dcf_in[[\"t_day\",\"PWV [mm]_x\"]]\n",
    "df_dcf_in = df_dcf_in .rename(columns={'t_day': 't', 'PWV [mm]_x':'pwv' })"
   ]
  },
  {
   "cell_type": "code",
   "execution_count": null,
   "id": "3182eb4b-b23d-480f-bb9d-3193c6ccd7ef",
   "metadata": {},
   "outputs": [],
   "source": [
    "df_dcf_in.head()"
   ]
  },
  {
   "cell_type": "code",
   "execution_count": null,
   "id": "599bc8c2-218e-4123-9f6c-e0c261ed1437",
   "metadata": {},
   "outputs": [],
   "source": [
    "countPWV,meanPWV,stdPWV = df_dcf_in[\"pwv\"].agg([\"count\",\"mean\",\"std\"])\n",
    "txt_str=f\"N= {countPWV}\""
   ]
  },
  {
   "cell_type": "code",
   "execution_count": null,
   "id": "4f0165d3-fb61-4c43-9dc2-b3ae275beb2e",
   "metadata": {},
   "outputs": [],
   "source": [
    "fig,ax = plt.subplots(1,1,figsize=(14,4),layout=\"constrained\")\n",
    "#ax = axs.flatten()\n",
    "df_dcf_in.plot.scatter(x=\"t\",y=\"pwv\",ax=ax,c=\"b\")\n",
    "ax.axhline(meanPWV,color=\"r\") \n",
    "ax.axhspan(meanPWV-stdPWV,meanPWV+stdPWV, color='yellow', alpha=0.4)\n",
    "ax.text(0.01, 0.95, txt_str, transform=ax.transAxes, fontsize=16,verticalalignment='top', bbox=props)\n",
    "ax.set_title(\"PWV : mean and sigma \")\n",
    "plt.show()"
   ]
  },
  {
   "cell_type": "code",
   "execution_count": null,
   "id": "34b6c5aa-8183-44aa-8ada-fb7fcf7b85a8",
   "metadata": {},
   "outputs": [],
   "source": [
    "def ComputePWVAndTimeDiffence(df,meanpwv):\n",
    "    \"\"\"\n",
    "    For each night return a number of quanitites related to pair differences.\n",
    "    The pairs are ordered bi increaing time (t2>t1)\n",
    "\n",
    "    Return \n",
    "        all_DPWV = [] # Difference in PWV for the pair (PWV2-PWV1)\n",
    "        all_DT = []   # Difference  in time for the pair (t2-t1) which is > 0\n",
    "        all_pwvpwv = []  # Product of (PW1 -meanPWV)(PWV2 - meanPWV) where the meanPWV is taken over the night \n",
    "        all_PWVpairs = [] # (Keep the values of PWV1,PWV2)\n",
    "    \"\"\"\n",
    "    all_DPWV = [] # Difference in PWV for the pair (PWV2-PWV1)\n",
    "    all_DT = []   # Difference  in time for the pair (t2-t1) which is > 0\n",
    "    all_pwvpwv = []  # Product of (PW1 -meanPWV)(PWV2 - meanPWV) where the meanPWV is taken over the night \n",
    "    all_PWVpairs = [] # (Keep the values of PWV1,PWV2)\n",
    "    \n",
    "    N = len(df)\n",
    "\n",
    "    meanPWV = df.describe().loc[\"mean\"][\"pwv\"] \n",
    "\n",
    "    # loop on first element\n",
    "    for row1 in df.iterrows(): \n",
    "        t1 = row1[1][\"t\"]\n",
    "        PWV1 = row1[1][\"pwv\"]\n",
    "        pwv1 = PWV1 - meanPWV\n",
    "        \n",
    "\n",
    "        # loop on second element\n",
    "        for row2 in df.iterrows(): \n",
    "            t2 = row2[1][\"t\"]\n",
    "            PWV2 = row2[1][\"pwv\"]\n",
    "            pwv2 = PWV2 - meanPWV\n",
    "            Delta_t = t2-t1\n",
    "            Delta_pwv = PWV2-PWV1\n",
    "            pwv1pwv2 = pwv1*pwv2\n",
    "           \n",
    "            if  Delta_t>= -0.000001:\n",
    "                all_DPWV.append(Delta_pwv)\n",
    "                all_DT.append(Delta_t)\n",
    "                all_pwvpwv.append(pwv1pwv2)\n",
    "                all_PWVpairs.append([PWV1,PWV2])\n",
    "    return np.array(all_DT), np.array(all_DPWV), np.array(all_pwvpwv), np.array(all_PWVpairs) "
   ]
  },
  {
   "cell_type": "markdown",
   "id": "78a91cab-51c5-4ea4-b71c-25128b4a49c9",
   "metadata": {},
   "source": [
    "### Compute statistics for pairs"
   ]
  },
  {
   "cell_type": "code",
   "execution_count": null,
   "id": "4c7717d2-d08c-4ba2-8cb6-cc7db19418e0",
   "metadata": {},
   "outputs": [],
   "source": [
    "## Compute statistics for pairs\n",
    "all_dt,all_dpwv,all_pwvpwv, all_pwv1pwv2 = ComputePWVAndTimeDiffence(df_dcf_in,meanPWV)"
   ]
  },
  {
   "cell_type": "code",
   "execution_count": null,
   "id": "99327db8-38ee-48c3-a9cd-63d0cee7de5d",
   "metadata": {},
   "outputs": [],
   "source": [
    "logbins  = np.logspace(-3.5228787452803374,2.5,50)\n",
    "logbins  = np.insert(logbins , 0, 0.000000 , axis=0)"
   ]
  },
  {
   "cell_type": "code",
   "execution_count": null,
   "id": "ea290589-e389-49fa-86e1-9060b353ab89",
   "metadata": {},
   "outputs": [],
   "source": [
    "logbins[:3]"
   ]
  },
  {
   "cell_type": "code",
   "execution_count": null,
   "id": "661f89d9-9a59-4ee0-b943-873df641ed32",
   "metadata": {},
   "outputs": [],
   "source": [
    "750/5/2"
   ]
  },
  {
   "cell_type": "code",
   "execution_count": null,
   "id": "62bc3e38-537e-48dd-b566-60e5e3bf6dcf",
   "metadata": {},
   "outputs": [],
   "source": [
    "linbins = np.linspace(0.0003,750.0003,75)\n",
    "linbins  = np.insert(linbins , 0, 0.000000 , axis=0)"
   ]
  },
  {
   "cell_type": "code",
   "execution_count": null,
   "id": "457f6f86-43fc-4069-8ce5-68360ce9bc20",
   "metadata": {},
   "outputs": [],
   "source": [
    "linbins[:10]"
   ]
  },
  {
   "cell_type": "code",
   "execution_count": null,
   "id": "b17953a3-5448-491f-bc3b-4657ee1faa91",
   "metadata": {},
   "outputs": [],
   "source": [
    "fig,ax = plt.subplots(1,1,figsize=(16,4),layout=\"constrained\")\n",
    "#counts, edges, _ = ax.hist(all_dt,bins=150,range=(0,750));\n",
    "#counts, edges, _ = ax.hist(all_dt,bins=750,range=(0,750));\n",
    "#counts, edges, _ = ax.hist(all_dt,bins=logbins);\n",
    "counts, edges, _ = ax.hist(all_dt,bins=linbins);\n",
    "ax.set_yscale(\"log\")\n",
    "ax.set_xlabel(\"$\\Delta t$ (days)\")\n",
    "ax.set_title(\"Distribution of pairs\")\n",
    "plt.show()"
   ]
  },
  {
   "cell_type": "code",
   "execution_count": null,
   "id": "a4c3f373-d9c7-42cb-9da9-941c385a0472",
   "metadata": {},
   "outputs": [],
   "source": [
    "counts[:3]"
   ]
  },
  {
   "cell_type": "code",
   "execution_count": null,
   "id": "4eeacace-6933-4ec1-84b6-92ae15793d37",
   "metadata": {},
   "outputs": [],
   "source": [
    "edges[:3]"
   ]
  },
  {
   "cell_type": "markdown",
   "id": "5667fcac-ebf5-47b9-97a0-42967595180c",
   "metadata": {},
   "source": [
    "### build the dataframe of pairs"
   ]
  },
  {
   "cell_type": "code",
   "execution_count": null,
   "id": "76456213-05f3-4eb2-9ebe-94ac18b0d165",
   "metadata": {},
   "outputs": [],
   "source": [
    "df_pairs = pd.DataFrame()\n",
    "df_pairs[\"dt\"] = all_dt\n",
    "df_pairs[\"dPWV\"] = all_dpwv\n",
    "df_pairs[\"PwvixPwvj\"] = all_pwvpwv"
   ]
  },
  {
   "cell_type": "code",
   "execution_count": null,
   "id": "eb27fcd3-391d-474f-a81a-0f4b6d3ed741",
   "metadata": {},
   "outputs": [],
   "source": [
    "df_pairs[df_pairs.dt==0]"
   ]
  },
  {
   "cell_type": "code",
   "execution_count": null,
   "id": "1c46cabe-1963-48a7-8828-3c3f5c6d6bf7",
   "metadata": {},
   "outputs": [],
   "source": [
    "fig,ax = plt.subplots(1,1,figsize=(16,2),layout=\"constrained\")\n",
    "df_pairs[\"dt\"].hist(bins=100,range=(0.,60./24./60.),ax=ax)\n",
    "ax.axvline(0.0003,color=\"r\")\n",
    "ax.set_xlabel(\"days\")\n",
    "ax.set_yscale(\"log\")\n",
    "plt.show()"
   ]
  },
  {
   "cell_type": "code",
   "execution_count": null,
   "id": "c6e3fc36-6d7a-473f-b9aa-f2d8bc5cfeb5",
   "metadata": {},
   "outputs": [],
   "source": [
    "def ComputeMyDCF_PwvixPwvj(df,list_of_bins,averPWV,sigPWV):\n",
    "    \"\"\"\n",
    "    Compute my average Discrete Covariance Function\n",
    "    mean,sigma : per night\n",
    "    Note : the good function\n",
    "    Parameters\n",
    "     df : dataframe containing the data : (dt, pwv1 x pwv2)\n",
    "     list_of_bins : array contining the edges of timebin separation\n",
    "    Return\n",
    "     xcenter,ydata,ydataerr for the auto correlation function\n",
    "    \"\"\"\n",
    "    Nbins = len(list_of_bins)\n",
    "\n",
    "    xcenter = (list_of_bins[0:-1]+ list_of_bins[1:])/2.\n",
    "    N = len(xcenter)\n",
    "    ydata = np.zeros(N)\n",
    "    ydataerr = np.zeros(N)\n",
    "\n",
    "    # loop on time-bins\n",
    "    for ibin in range(Nbins-1):\n",
    "\n",
    "        # select all pairs in the timebin ibin\n",
    "        cut = (df[\"dt\"] >= list_of_bins[ibin]) & (df[\"dt\"] < list_of_bins[ibin+1])\n",
    "        df_sel = df[cut]\n",
    "    \n",
    "        \n",
    "        all_yinthatbin = df_sel[\"PwvixPwvj\"]/sigPWV**2\n",
    "        \n",
    "       \n",
    "        # calculate the average over all night in that timebin\n",
    "        n = len(all_yinthatbin)\n",
    "        ydata[ibin] =  np.mean(all_yinthatbin)\n",
    "        ydataerr[ibin] = np.std(all_yinthatbin)\n",
    "        if n>0:\n",
    "            ydataerr[ibin] /= np.sqrt(n)\n",
    "            \n",
    "          \n",
    "    return xcenter,ydata,ydataerr"
   ]
  },
  {
   "cell_type": "code",
   "execution_count": null,
   "id": "92022383-b2a0-4017-95bc-b45580be648b",
   "metadata": {},
   "outputs": [],
   "source": [
    "xcenter,ydata,ydataerr = ComputeMyDCF_PwvixPwvj(df_pairs,edges,meanPWV,stdPWV )\n",
    "txtstr = \"\\n\".join([f\" meanPWV = {meanPWV:.2f} mm\",f\" sigmaPWV = {stdPWV:.2f} mm\"])"
   ]
  },
  {
   "cell_type": "code",
   "execution_count": null,
   "id": "f72a9543-fdc9-4c3c-90eb-3562c1eb73bf",
   "metadata": {},
   "outputs": [],
   "source": [
    "fig,ax = plt.subplots(1,1,figsize=(12,6))\n",
    "#ax.plot(tt1,yy1,'o-b',label=\"method 1 : \\n $mean_{pwv},\\sigma_{pwv}$ all nights\")\n",
    "#ax.errorbar(tt1,yy1,yerr=yyerr1,c=\"grey\")\n",
    "\n",
    "ax.plot(xcenter,ydata,'o-r',label=\"all nights\")\n",
    "ax.errorbar(xcenter,ydata,yerr=ydataerr ,c=\"grey\",lw=0.5)\n",
    "\n",
    "ax.legend(loc=\"upper right\")\n",
    "ax.text(0.01, 0.95, txtstr, transform=ax.transAxes, fontsize=12,verticalalignment='top', bbox=props,alpha=1)\n",
    "\n",
    "ax.set_title(\"Discrete Covariance Function \")\n",
    "ax.set_xlabel(\"$\\Delta t$ (days)\")\n",
    "ax.axhline(0,color=\"k\")\n",
    "ax.set_ylim(-1.5,1.5)\n",
    "#ax.set_xscale(\"log\")\n",
    "plt.show()"
   ]
  },
  {
   "cell_type": "markdown",
   "id": "09983ef8-c9b0-41b4-835e-1dfd36e21de5",
   "metadata": {},
   "source": [
    "## TODO Cross-Correlation"
   ]
  },
  {
   "cell_type": "code",
   "execution_count": null,
   "id": "3ede921c-a99a-4c55-8a33-3b0e3aaccc53",
   "metadata": {},
   "outputs": [],
   "source": [
    "# 1mm after 1 hour\n",
    "SIGMA_MERRA2 = 1.0"
   ]
  },
  {
   "cell_type": "code",
   "execution_count": null,
   "id": "c1809c5d-546c-4f63-9229-489ffec4cef4",
   "metadata": {},
   "outputs": [],
   "source": [
    "tstart"
   ]
  },
  {
   "cell_type": "code",
   "execution_count": null,
   "id": "0142c6fd-9d4b-4480-af63-0f0309af9b44",
   "metadata": {},
   "outputs": [],
   "source": [
    "df_dcf_in1 = df_spec_sel[[\"ex_mjd\",\"PWV [mm]_x\"]]\n",
    "df_dcf_in2 = df_m2[[\"mjd\",\"TQV\"]]"
   ]
  },
  {
   "cell_type": "code",
   "execution_count": null,
   "id": "833a9b20-db3e-4801-826c-530c05ce7c3e",
   "metadata": {},
   "outputs": [],
   "source": [
    "df_dcf_in1[\"t_day\"] = (df_dcf_in1[\"ex_mjd\"] - tstart)\n",
    "df_dcf_in1 = df_dcf_in1[[\"t_day\",\"PWV [mm]_x\"]]"
   ]
  },
  {
   "cell_type": "code",
   "execution_count": null,
   "id": "d75986ff-7104-4aec-babe-38ade5920f81",
   "metadata": {},
   "outputs": [],
   "source": [
    "df_dcf_in2[\"t_day\"]  = df_dcf_in2[\"mjd\"] - tstart\n",
    "df_dcf_in2 = df_dcf_in2[[\"t_day\",\"TQV\"]]"
   ]
  },
  {
   "cell_type": "code",
   "execution_count": null,
   "id": "31f6476f-a0b5-4e1c-ab94-561a36426e8a",
   "metadata": {},
   "outputs": [],
   "source": [
    "df_dcf_in1 = df_dcf_in1.assign(sig_pwv = lambda x: SIGMA_REPEATABILITY)\n",
    "df_dcf_in2 = df_dcf_in2.assign(sig_pwv = lambda x: SIGMA_MERRA2)"
   ]
  },
  {
   "cell_type": "code",
   "execution_count": null,
   "id": "a9a1f7be-c109-4d11-a09e-538509320e1d",
   "metadata": {},
   "outputs": [],
   "source": [
    "df_dcf_in1 = df_dcf_in1[ df_dcf_in1[\"t_day\"]>=0]\n",
    "df_dcf_in2 = df_dcf_in2[ df_dcf_in2[\"t_day\"]>=0]"
   ]
  },
  {
   "cell_type": "code",
   "execution_count": null,
   "id": "f4c96092-af6f-4a18-9384-9304a9c73717",
   "metadata": {},
   "outputs": [],
   "source": [
    "df_dcf_in1.head()"
   ]
  },
  {
   "cell_type": "code",
   "execution_count": null,
   "id": "185a0c27-e87b-40ba-98cf-67e61edf0079",
   "metadata": {},
   "outputs": [],
   "source": [
    "df_dcf_in2.head()"
   ]
  },
  {
   "cell_type": "code",
   "execution_count": null,
   "id": "5f8d30b7-f0c2-482c-89d0-18032f256f18",
   "metadata": {},
   "outputs": [],
   "source": [
    "fig,axs = plt.subplots(1,1,figsize=(14,6),layout='constrained')\n",
    "ax  = axs\n",
    "leg=ax.get_legend()\n",
    "\n",
    "#df_m.plot(x=\"mjd\",y=\"TQV\",ax=ax,marker=\".\",c=\"b\",lw=1,ms=1,ls=\"-\",label=\"Merra2\",legend=leg)  \n",
    "df_dcf_in2.plot(x=\"t_day\",y=\"TQV\",ax=ax,marker=\".\",c=\"b\",lw=0,ms=3,label=\"Merra2\",legend=leg)  \n",
    "df_dcf_in1.plot(x=\"t_day\",y=\"PWV [mm]_x\",ax=ax,marker='o',ms=3,c=\"r\",lw=0.0,grid=True,label=tag,legend=leg)\n",
    "\n",
    "\n",
    "ax.set_ylabel(\"PWV [mm]_x\")\n",
    "ax.set_xlabel(\"date\")\n",
    "\n",
    "ax.set_title(\"Precipitable water vapor measured by Auxtel (holo) \\n and comparison with Merra2 data\",fontweight=\"bold\")\n",
    "ax.legend()\n",
    "\n",
    " \n",
    "ax.set_ylim(0.,20.)\n",
    "\n",
    "plt.show()"
   ]
  },
  {
   "cell_type": "code",
   "execution_count": null,
   "id": "3b3a8b2c-4147-44cf-b7ea-840fe0099ba0",
   "metadata": {},
   "outputs": [],
   "source": [
    "df_dcf_cross_out = ComputeCrossZDCF(\"dcf_in_pwv_auxtel_cross1.csv\",\"dcf_in_pwv_merra2_cross2.csv\", df_dcf_in1, df_dcf_in2 , minpts = 21 )"
   ]
  },
  {
   "cell_type": "code",
   "execution_count": null,
   "id": "a1d23150-3121-4e5c-abfe-feeba3db1870",
   "metadata": {},
   "outputs": [],
   "source": [
    "xerr = df_dcf_cross_out[[\"-sig(tau)\",\"+sig(tau)\"]].values.T\t\n",
    "yerr = df_dcf_cross_out[[\"-err(dcf)\",\"+err(dcf)\"]].values.T\t\n",
    "x = df_dcf_cross_out[\"tau\"].values\n",
    "y = df_dcf_cross_out[\"dcf\"].values"
   ]
  },
  {
   "cell_type": "code",
   "execution_count": null,
   "id": "dae71a3e-eb18-49aa-9f8d-5a7420d83612",
   "metadata": {},
   "outputs": [],
   "source": [
    "fig,ax = plt.subplots(1,1,figsize=(12,5),layout=\"constrained\")\n",
    "ax.errorbar(x,y,xerr=xerr,yerr=yerr,marker='o', mfc='red',linewidth=0.5,\n",
    "         mec='red', ms=2, mew=2,ecolor=\"k\",elinewidth=2,capsize=2,uplims=True, lolims=True)\n",
    "ax.grid()\n",
    "ax.set_ylim(-1,1)\n",
    "ax.set_title(f\"Discrete cross covariance function on PWV Auxtel (holo) - PWV Merra2\")\n",
    "ax.set_xlabel(\"Time (days)\")\n",
    "ax.set_ylabel(\"DCF (no units)\")\n",
    "#ax.set_xlim(0.,100.)\n",
    "#ax.set_xscale(\"log\")"
   ]
  },
  {
   "cell_type": "code",
   "execution_count": null,
   "id": "bd1a2c1c-8c0e-4451-ab04-bc951b18985a",
   "metadata": {},
   "outputs": [],
   "source": []
  }
 ],
 "metadata": {
  "kernelspec": {
   "display_name": "conda_py311",
   "language": "python",
   "name": "conda_py311"
  },
  "language_info": {
   "codemirror_mode": {
    "name": "ipython",
    "version": 3
   },
   "file_extension": ".py",
   "mimetype": "text/x-python",
   "name": "python",
   "nbconvert_exporter": "python",
   "pygments_lexer": "ipython3",
   "version": "3.11.11"
  }
 },
 "nbformat": 4,
 "nbformat_minor": 5
}
