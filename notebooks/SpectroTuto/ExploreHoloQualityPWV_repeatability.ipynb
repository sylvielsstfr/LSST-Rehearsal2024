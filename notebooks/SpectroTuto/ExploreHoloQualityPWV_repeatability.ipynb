{
 "cells": [
  {
   "cell_type": "markdown",
   "id": "45bf4242-bfc5-4d43-88c4-a8059ae148df",
   "metadata": {},
   "source": [
    "# Explore hologram data Repeatability on PWV"
   ]
  },
  {
   "cell_type": "markdown",
   "id": "01993b6e-6438-4fca-a5d5-1f9791336847",
   "metadata": {},
   "source": [
    "- author Sylvie Dagoret-Campagne\n",
    "- affiliation : IJCLab\n",
    "- creation date 2024-10-07 : version v4\n",
    "- last update : 2024-10-12 : Flag on collimator on\n",
    "- last update: 2024-10-18 : v5\n",
    "- last update : 2024-10-19 : Update quality cut\n",
    "- last update : 2025-02-10 : prepare meeting\n",
    "- Kernel @usdf **w_2024_50*\n",
    "- Office emac : mamba_py311\n",
    "- Home emac : base (conda)\n",
    "- laptop : conda_py310"
   ]
  },
  {
   "cell_type": "markdown",
   "id": "0219159d-6865-4311-ac1d-99d11dad223f",
   "metadata": {},
   "source": [
    "**Goal** : Show Night variations of PWV wrt date and Time. Fit a straight line."
   ]
  },
  {
   "cell_type": "code",
   "execution_count": null,
   "id": "63a2b2ef-0bc2-45eb-91d9-87835d264751",
   "metadata": {
    "execution": {
     "iopub.execute_input": "2025-02-10T18:50:59.275647Z",
     "iopub.status.busy": "2025-02-10T18:50:59.275501Z",
     "iopub.status.idle": "2025-02-10T18:50:59.278437Z",
     "shell.execute_reply": "2025-02-10T18:50:59.277999Z",
     "shell.execute_reply.started": "2025-02-10T18:50:59.275631Z"
    },
    "tags": []
   },
   "outputs": [],
   "source": [
    "from platform import python_version\n",
    "print(python_version())"
   ]
  },
  {
   "cell_type": "code",
   "execution_count": null,
   "id": "dcc53afe-c58f-4948-92c9-0090d373ad2a",
   "metadata": {
    "execution": {
     "iopub.execute_input": "2025-02-10T18:50:59.279001Z",
     "iopub.status.busy": "2025-02-10T18:50:59.278885Z",
     "iopub.status.idle": "2025-02-10T18:50:59.289138Z",
     "shell.execute_reply": "2025-02-10T18:50:59.288705Z",
     "shell.execute_reply.started": "2025-02-10T18:50:59.278989Z"
    }
   },
   "outputs": [],
   "source": [
    "import warnings\n",
    "warnings.resetwarnings()\n",
    "warnings.simplefilter('ignore')"
   ]
  },
  {
   "cell_type": "code",
   "execution_count": null,
   "id": "8026d265-2493-4045-afec-26205ff71f7c",
   "metadata": {
    "execution": {
     "iopub.execute_input": "2025-02-10T18:50:59.289752Z",
     "iopub.status.busy": "2025-02-10T18:50:59.289629Z",
     "iopub.status.idle": "2025-02-10T18:50:59.296686Z",
     "shell.execute_reply": "2025-02-10T18:50:59.296196Z",
     "shell.execute_reply.started": "2025-02-10T18:50:59.289740Z"
    },
    "tags": []
   },
   "outputs": [],
   "source": [
    "from platform import python_version\n",
    "print(python_version())"
   ]
  },
  {
   "cell_type": "code",
   "execution_count": null,
   "id": "eb1f116e-80e3-46ad-a7db-7f253632e5ca",
   "metadata": {
    "execution": {
     "iopub.execute_input": "2025-02-10T18:50:59.298593Z",
     "iopub.status.busy": "2025-02-10T18:50:59.298436Z",
     "iopub.status.idle": "2025-02-10T18:50:59.304440Z",
     "shell.execute_reply": "2025-02-10T18:50:59.303965Z",
     "shell.execute_reply.started": "2025-02-10T18:50:59.298576Z"
    }
   },
   "outputs": [],
   "source": [
    "import os"
   ]
  },
  {
   "cell_type": "code",
   "execution_count": null,
   "id": "3ec760cd-3d3f-4a34-a6f6-b226fe500951",
   "metadata": {
    "execution": {
     "iopub.execute_input": "2025-02-10T18:50:59.305071Z",
     "iopub.status.busy": "2025-02-10T18:50:59.304920Z",
     "iopub.status.idle": "2025-02-10T18:50:59.313771Z",
     "shell.execute_reply": "2025-02-10T18:50:59.313318Z",
     "shell.execute_reply.started": "2025-02-10T18:50:59.305056Z"
    }
   },
   "outputs": [],
   "source": [
    "# where are stored the figures\n",
    "pathfigs = \"figsPWVRepeatability\"\n",
    "if not os.path.exists(pathfigs):\n",
    "    os.makedirs(pathfigs) \n",
    "figtype = \".png\""
   ]
  },
  {
   "cell_type": "code",
   "execution_count": null,
   "id": "bf752b70-e6ca-4cbf-8e8c-20bf7f0d8f61",
   "metadata": {
    "execution": {
     "iopub.execute_input": "2025-02-10T18:50:59.314453Z",
     "iopub.status.busy": "2025-02-10T18:50:59.314254Z",
     "iopub.status.idle": "2025-02-10T18:51:01.216984Z",
     "shell.execute_reply": "2025-02-10T18:51:01.216533Z",
     "shell.execute_reply.started": "2025-02-10T18:50:59.314435Z"
    }
   },
   "outputs": [],
   "source": [
    "import numpy as np\n",
    "from numpy.linalg import inv\n",
    "import matplotlib as mpl\n",
    "import matplotlib.pyplot as plt\n",
    "%matplotlib inline\n",
    "from mpl_toolkits.axes_grid1 import make_axes_locatable\n",
    "from matplotlib.colors import LogNorm,SymLogNorm\n",
    "from matplotlib.patches import Circle,Annulus\n",
    "from astropy.visualization import ZScaleInterval\n",
    "props = dict(boxstyle='round', facecolor=\"white\", alpha=0.1)\n",
    "#props = dict(boxstyle='round')\n",
    "\n",
    "import matplotlib.colors as colors\n",
    "import matplotlib.cm as cmx\n",
    "\n",
    "import matplotlib.ticker                         # here's where the formatter is\n",
    "from matplotlib.ticker import (MultipleLocator, FormatStrFormatter,\n",
    "                               AutoMinorLocator)\n",
    "\n",
    "from matplotlib.gridspec import GridSpec\n",
    "\n",
    "from astropy.visualization import (MinMaxInterval, SqrtStretch,ZScaleInterval,PercentileInterval,\n",
    "                                   ImageNormalize,imshow_norm)\n",
    "from astropy.visualization.stretch import SinhStretch, LinearStretch,AsinhStretch,LogStretch\n",
    "\n",
    "from astropy.io import fits\n",
    "from astropy.wcs import WCS\n",
    "from astropy import units as u\n",
    "from astropy import constants as c\n",
    "\n",
    "from astropy.coordinates.earth import EarthLocation\n",
    "from datetime import datetime\n",
    "from pytz import timezone\n",
    "\n",
    "from scipy import interpolate\n",
    "from sklearn.neighbors import NearestNeighbors\n",
    "from sklearn.neighbors import KDTree, BallTree\n",
    "\n",
    "import pandas as pd\n",
    "pd.set_option(\"display.max_columns\", None)\n",
    "pd.set_option('display.max_rows', 100)\n",
    "\n",
    "import matplotlib.ticker                         # here's where the formatter is\n",
    "import os\n",
    "import re\n",
    "import pandas as pd\n",
    "import pickle\n",
    "from collections import OrderedDict\n",
    "\n",
    "plt.rcParams[\"figure.figsize\"] = (4,3)\n",
    "plt.rcParams[\"axes.labelsize\"] = 'xx-large'\n",
    "plt.rcParams['axes.titlesize'] = 'xx-large'\n",
    "plt.rcParams['xtick.labelsize']= 'xx-large'\n",
    "plt.rcParams['ytick.labelsize']= 'xx-large'\n",
    "\n",
    "import scipy\n",
    "from scipy.optimize import curve_fit,least_squares\n",
    "\n",
    "\n",
    "# new color correction model\n",
    "import pickle\n",
    "from scipy.interpolate import RegularGridInterpolator"
   ]
  },
  {
   "cell_type": "code",
   "execution_count": null,
   "id": "0ca0d1e6-5f82-4c43-aaa3-8524fc2bc5ba",
   "metadata": {
    "execution": {
     "iopub.execute_input": "2025-02-10T18:51:01.217758Z",
     "iopub.status.busy": "2025-02-10T18:51:01.217489Z",
     "iopub.status.idle": "2025-02-10T18:51:01.220647Z",
     "shell.execute_reply": "2025-02-10T18:51:01.220201Z",
     "shell.execute_reply.started": "2025-02-10T18:51:01.217745Z"
    }
   },
   "outputs": [],
   "source": [
    "from matplotlib.ticker import (MultipleLocator, FormatStrFormatter,\n",
    "                               AutoMinorLocator)\n",
    "\n",
    "from astropy.visualization import (MinMaxInterval, SqrtStretch,ZScaleInterval,PercentileInterval,\n",
    "                                   ImageNormalize,imshow_norm)\n",
    "from astropy.visualization.stretch import SinhStretch, LinearStretch,AsinhStretch,LogStretch\n",
    "\n",
    "from astropy.time import Time\n"
   ]
  },
  {
   "cell_type": "code",
   "execution_count": null,
   "id": "e189816c-5048-43ab-a01a-7c078af54489",
   "metadata": {
    "execution": {
     "iopub.execute_input": "2025-02-10T18:51:01.221400Z",
     "iopub.status.busy": "2025-02-10T18:51:01.221252Z",
     "iopub.status.idle": "2025-02-10T18:51:01.227966Z",
     "shell.execute_reply": "2025-02-10T18:51:01.227604Z",
     "shell.execute_reply.started": "2025-02-10T18:51:01.221385Z"
    }
   },
   "outputs": [],
   "source": [
    "# Remove to run faster the notebook\n",
    "#import ipywidgets as widgets\n",
    "#%matplotlib widget"
   ]
  },
  {
   "cell_type": "code",
   "execution_count": null,
   "id": "67327fd4-e405-45ce-8923-cd46ebaa0c0f",
   "metadata": {
    "execution": {
     "iopub.execute_input": "2025-02-10T18:51:01.228467Z",
     "iopub.status.busy": "2025-02-10T18:51:01.228355Z",
     "iopub.status.idle": "2025-02-10T18:51:01.234263Z",
     "shell.execute_reply": "2025-02-10T18:51:01.233781Z",
     "shell.execute_reply.started": "2025-02-10T18:51:01.228456Z"
    },
    "tags": []
   },
   "outputs": [],
   "source": [
    "from importlib.metadata import version"
   ]
  },
  {
   "cell_type": "code",
   "execution_count": null,
   "id": "af8332dd-24f9-4b19-88f9-c62d0a4aebf1",
   "metadata": {
    "execution": {
     "iopub.execute_input": "2025-02-10T18:51:01.234856Z",
     "iopub.status.busy": "2025-02-10T18:51:01.234735Z",
     "iopub.status.idle": "2025-02-10T18:51:01.240087Z",
     "shell.execute_reply": "2025-02-10T18:51:01.239743Z",
     "shell.execute_reply.started": "2025-02-10T18:51:01.234845Z"
    },
    "tags": []
   },
   "outputs": [],
   "source": [
    "# wavelength bin colors\n",
    "#jet = plt.get_cmap('jet')\n",
    "#cNorm = mpl.colors.Normalize(vmin=0, vmax=NSED)\n",
    "#scalarMap = cmx.ScalarMappable(norm=cNorm, cmap=jet)\n",
    "#all_colors = scalarMap.to_rgba(np.arange(NSED), alpha=1)"
   ]
  },
  {
   "cell_type": "code",
   "execution_count": null,
   "id": "1003d9d6-a40f-48b1-9ffc-bfab9f45ba93",
   "metadata": {
    "execution": {
     "iopub.execute_input": "2025-02-10T18:51:01.240582Z",
     "iopub.status.busy": "2025-02-10T18:51:01.240473Z",
     "iopub.status.idle": "2025-02-10T18:51:01.246940Z",
     "shell.execute_reply": "2025-02-10T18:51:01.246616Z",
     "shell.execute_reply.started": "2025-02-10T18:51:01.240571Z"
    }
   },
   "outputs": [],
   "source": [
    "np.__version__"
   ]
  },
  {
   "cell_type": "code",
   "execution_count": null,
   "id": "c4cb2652-cb22-432e-b110-ae71d59dc793",
   "metadata": {
    "execution": {
     "iopub.execute_input": "2025-02-10T18:51:01.247547Z",
     "iopub.status.busy": "2025-02-10T18:51:01.247392Z",
     "iopub.status.idle": "2025-02-10T18:51:01.253180Z",
     "shell.execute_reply": "2025-02-10T18:51:01.252814Z",
     "shell.execute_reply.started": "2025-02-10T18:51:01.247532Z"
    }
   },
   "outputs": [],
   "source": [
    "pd.__version__"
   ]
  },
  {
   "cell_type": "code",
   "execution_count": null,
   "id": "d2aa2a94-47b7-4563-87da-75376774b34f",
   "metadata": {
    "execution": {
     "iopub.execute_input": "2025-02-10T18:51:01.253765Z",
     "iopub.status.busy": "2025-02-10T18:51:01.253626Z",
     "iopub.status.idle": "2025-02-10T18:51:01.259666Z",
     "shell.execute_reply": "2025-02-10T18:51:01.259272Z",
     "shell.execute_reply.started": "2025-02-10T18:51:01.253750Z"
    }
   },
   "outputs": [],
   "source": [
    "def convertNumToDatestr(num):\n",
    "    year = num//10_000\n",
    "    month= (num-year*10_000)//100\n",
    "    day = (num-year*10_000-month*100)\n",
    "\n",
    "    year_str = str(year).zfill(4)\n",
    "    month_str = str(month).zfill(2)\n",
    "    day_str = str(day).zfill(2)\n",
    "    \n",
    "    datestr = f\"{year_str}-{month_str}-{day_str}\"\n",
    "    return pd.to_datetime(datestr)"
   ]
  },
  {
   "cell_type": "markdown",
   "id": "4f13d6a3-7793-4bc0-920a-1d690d9f84b2",
   "metadata": {},
   "source": [
    "### Configuration"
   ]
  },
  {
   "cell_type": "code",
   "execution_count": null,
   "id": "f0dad200-ad5d-427c-a1da-e30da0dd00bd",
   "metadata": {
    "execution": {
     "iopub.execute_input": "2025-02-10T18:51:01.260287Z",
     "iopub.status.busy": "2025-02-10T18:51:01.260130Z",
     "iopub.status.idle": "2025-02-10T18:51:01.743126Z",
     "shell.execute_reply": "2025-02-10T18:51:01.742686Z",
     "shell.execute_reply.started": "2025-02-10T18:51:01.260273Z"
    }
   },
   "outputs": [],
   "source": [
    "observing_location = EarthLocation.of_site('Rubin Observatory')\n",
    "tz = timezone('America/Santiago')"
   ]
  },
  {
   "cell_type": "code",
   "execution_count": null,
   "id": "a6d313e9-1621-40fb-a7d8-6d01522c7485",
   "metadata": {
    "execution": {
     "iopub.execute_input": "2025-02-10T18:51:01.743786Z",
     "iopub.status.busy": "2025-02-10T18:51:01.743649Z",
     "iopub.status.idle": "2025-02-10T18:51:01.748681Z",
     "shell.execute_reply": "2025-02-10T18:51:01.748215Z",
     "shell.execute_reply.started": "2025-02-10T18:51:01.743774Z"
    }
   },
   "outputs": [],
   "source": [
    "FLAG_WITHCOLLIMATOR = True\n",
    "DATE_WITHCOLLIMATOR = 20230930\n",
    "datetime_WITHCOLLIMATOR = convertNumToDatestr(DATE_WITHCOLLIMATOR)\n",
    "datetime_WITHCOLLIMATOR = pd.to_datetime(\"2023-09-30 00:00:00.0+0000\")\n",
    "datetime_WITHCOLLIMATOR"
   ]
  },
  {
   "cell_type": "code",
   "execution_count": null,
   "id": "09612427-a361-483a-9803-a0a69a6520f0",
   "metadata": {
    "execution": {
     "iopub.execute_input": "2025-02-10T18:51:01.749358Z",
     "iopub.status.busy": "2025-02-10T18:51:01.749204Z",
     "iopub.status.idle": "2025-02-10T18:51:01.755634Z",
     "shell.execute_reply": "2025-02-10T18:51:01.755207Z",
     "shell.execute_reply.started": "2025-02-10T18:51:01.749343Z"
    }
   },
   "outputs": [],
   "source": [
    "version_results = \"v5\"\n",
    "legendtag = {\"v1\" : \"old v3.1.0\",\n",
    "            \"v2\" : \"v3.1.0-PWV<10mm\",\n",
    "            \"v3\" : \"v3.1.0-PWV<15mm\",\n",
    "            \"v4\" : \"Auxtel holo v3.1.0\",\n",
    "            \"v5\" : \"Auxtel holo v3.1.0 09/22 - 10/24\"}"
   ]
  },
  {
   "cell_type": "code",
   "execution_count": null,
   "id": "552d4238-4ae2-4d8a-821f-8b6bdfa9fdb4",
   "metadata": {
    "execution": {
     "iopub.execute_input": "2025-02-10T18:51:01.756263Z",
     "iopub.status.busy": "2025-02-10T18:51:01.756124Z",
     "iopub.status.idle": "2025-02-10T18:51:01.762402Z",
     "shell.execute_reply": "2025-02-10T18:51:01.762045Z",
     "shell.execute_reply.started": "2025-02-10T18:51:01.756251Z"
    }
   },
   "outputs": [],
   "source": [
    "atmfilenamesdict = {\"v1\" : \"data/spectro/auxtel_atmosphere_202301_v3.1.0_doSensorFlat_rebin2_testWithMaskedEdges_newBoundaries_newPolysRescaled_newFitBounds_adjustA1_lockedOrder2_removeThroughputTails_2.npy\",\n",
    "                    \"v2\" : \"auxtel_atmosphere_202301_v3.1.0_doSensorFlat_rebin2_lockedOrder2_FixA1_FixA2_FitAngstrom_FixA1_FixA2_FitAngstrom_WithGaia_freePressure_newThroughput6_BG40Scaled1.09_PeekFinder.npy\",\n",
    "                    \"v3\" : \"u_dagoret_auxtel_atmosphere_202301_v3.1.0_doSensorFlat_rebin2_lockedOrder2_FixA1_FixA2_FitAngstrom_WithGaia_freePressure_newThroughput6_BG40Scaled1.09_AtmoFitPressureA2_SpecErr_PeekFinder_20240924T161119Z.npy\",\n",
    "                    \"v4\" : \"u_dagoret_auxtel_atmosphere_202301_v3.1.0_doSensorFlat_rebin2_lockedOrder2_FixA1_FixA2_FitAngstrom_WithGaia_freePressure_newThroughput6_BG40Scaled1.09_AtmoFitPressureA2_SpecErr_PeekFinder_20240924T161119Z_spectrfullextend.npy\",\n",
    "                    \"v5\" : \"u_dagoret_auxtel_atmosphere_202209_v3.1.0_doSensorFlat_rebin2_lockedOrder2_FixA1_FixA2_FitAngstrom_WithGaia_freePressure_newThroughput6_BG40Scaled1.09_AtmoFitPressureA2_SpecErr_No5SigmaClip_20241016T184601Z_spectrfullextended.npy\"}"
   ]
  },
  {
   "cell_type": "code",
   "execution_count": null,
   "id": "f5ee7d08-244a-462a-b9fc-ff5cd4d3e801",
   "metadata": {
    "execution": {
     "iopub.execute_input": "2025-02-10T18:51:01.762939Z",
     "iopub.status.busy": "2025-02-10T18:51:01.762823Z",
     "iopub.status.idle": "2025-02-10T18:51:01.768832Z",
     "shell.execute_reply": "2025-02-10T18:51:01.768492Z",
     "shell.execute_reply.started": "2025-02-10T18:51:01.762928Z"
    },
    "tags": []
   },
   "outputs": [],
   "source": [
    "atmfilename = atmfilenamesdict[version_results]\n",
    "tag = legendtag[version_results] "
   ]
  },
  {
   "cell_type": "markdown",
   "id": "a30a15de-34f1-4f2b-afb9-52143c1cff27",
   "metadata": {},
   "source": [
    "## Initialisation"
   ]
  },
  {
   "cell_type": "markdown",
   "id": "4053343d-8e37-4402-b49f-c28dbb9e4afb",
   "metadata": {},
   "source": [
    "### Read the file"
   ]
  },
  {
   "cell_type": "code",
   "execution_count": null,
   "id": "ad60336b-f26f-4184-bcdf-e596329ecbbd",
   "metadata": {
    "execution": {
     "iopub.execute_input": "2025-02-10T18:51:01.771724Z",
     "iopub.status.busy": "2025-02-10T18:51:01.771590Z",
     "iopub.status.idle": "2025-02-10T18:51:02.137048Z",
     "shell.execute_reply": "2025-02-10T18:51:02.136577Z",
     "shell.execute_reply.started": "2025-02-10T18:51:01.771711Z"
    }
   },
   "outputs": [],
   "source": [
    "specdata = np.load(atmfilename,allow_pickle=True)"
   ]
  },
  {
   "cell_type": "code",
   "execution_count": null,
   "id": "3d9c7249-f818-4a98-8000-9be75b3c7a21",
   "metadata": {
    "execution": {
     "iopub.execute_input": "2025-02-10T18:51:02.137720Z",
     "iopub.status.busy": "2025-02-10T18:51:02.137586Z",
     "iopub.status.idle": "2025-02-10T18:51:02.223526Z",
     "shell.execute_reply": "2025-02-10T18:51:02.222940Z",
     "shell.execute_reply.started": "2025-02-10T18:51:02.137708Z"
    }
   },
   "outputs": [],
   "source": [
    "df_spec = pd.DataFrame(specdata)"
   ]
  },
  {
   "cell_type": "code",
   "execution_count": null,
   "id": "a19b591a-d479-4507-b241-81070420c847",
   "metadata": {
    "execution": {
     "iopub.execute_input": "2025-02-10T18:51:02.224292Z",
     "iopub.status.busy": "2025-02-10T18:51:02.224132Z",
     "iopub.status.idle": "2025-02-10T18:51:02.228281Z",
     "shell.execute_reply": "2025-02-10T18:51:02.227918Z",
     "shell.execute_reply.started": "2025-02-10T18:51:02.224278Z"
    },
    "tags": []
   },
   "outputs": [],
   "source": [
    "list(df_spec.columns)"
   ]
  },
  {
   "cell_type": "markdown",
   "id": "3af3b3b6-7774-4b43-830b-a287c4e3281b",
   "metadata": {},
   "source": [
    "### Compute NightObs"
   ]
  },
  {
   "cell_type": "code",
   "execution_count": null,
   "id": "4de5d570-2e92-468b-ab07-63fffd8d2b8c",
   "metadata": {
    "execution": {
     "iopub.execute_input": "2025-02-10T18:51:02.228833Z",
     "iopub.status.busy": "2025-02-10T18:51:02.228713Z",
     "iopub.status.idle": "2025-02-10T18:51:02.289016Z",
     "shell.execute_reply": "2025-02-10T18:51:02.288567Z",
     "shell.execute_reply.started": "2025-02-10T18:51:02.228821Z"
    }
   },
   "outputs": [],
   "source": [
    "df_spec[\"nightObs\"] = df_spec.apply(lambda x: x['id']//100_000, axis=1)"
   ]
  },
  {
   "cell_type": "code",
   "execution_count": null,
   "id": "079b9ebb-4e59-4364-8ffa-f0439e943959",
   "metadata": {
    "execution": {
     "iopub.execute_input": "2025-02-10T18:51:02.289657Z",
     "iopub.status.busy": "2025-02-10T18:51:02.289529Z",
     "iopub.status.idle": "2025-02-10T18:51:02.296418Z",
     "shell.execute_reply": "2025-02-10T18:51:02.296044Z",
     "shell.execute_reply.started": "2025-02-10T18:51:02.289645Z"
    }
   },
   "outputs": [],
   "source": [
    "if FLAG_WITHCOLLIMATOR:\n",
    "    df_spec = df_spec[df_spec[\"nightObs\"]> DATE_WITHCOLLIMATOR]\n",
    "    "
   ]
  },
  {
   "cell_type": "markdown",
   "id": "d168efc6-680e-4c3f-a5c0-d2936de8ee49",
   "metadata": {},
   "source": [
    "#### Series on spec"
   ]
  },
  {
   "cell_type": "code",
   "execution_count": null,
   "id": "49c29905-817c-4fe8-ae2e-93351e765333",
   "metadata": {
    "execution": {
     "iopub.execute_input": "2025-02-10T18:51:02.296944Z",
     "iopub.status.busy": "2025-02-10T18:51:02.296824Z",
     "iopub.status.idle": "2025-02-10T18:51:02.301593Z",
     "shell.execute_reply": "2025-02-10T18:51:02.301195Z",
     "shell.execute_reply.started": "2025-02-10T18:51:02.296933Z"
    },
    "tags": []
   },
   "outputs": [],
   "source": [
    "ser_spec_size = df_spec.groupby([\"nightObs\"]).size()"
   ]
  },
  {
   "cell_type": "code",
   "execution_count": null,
   "id": "6ce22f7e-bf6b-470a-af72-325d4a0077ab",
   "metadata": {
    "execution": {
     "iopub.execute_input": "2025-02-10T18:51:02.302172Z",
     "iopub.status.busy": "2025-02-10T18:51:02.302047Z",
     "iopub.status.idle": "2025-02-10T18:51:02.410045Z",
     "shell.execute_reply": "2025-02-10T18:51:02.409658Z",
     "shell.execute_reply.started": "2025-02-10T18:51:02.302161Z"
    }
   },
   "outputs": [],
   "source": [
    "fig,ax = plt.subplots(1,1)\n",
    "ax.hist(ser_spec_size.values,bins=50,facecolor=\"b\")\n",
    "ax.set_title(\"nb obs per night\")\n",
    "ax.set_xlabel(\"Nobs/night\")"
   ]
  },
  {
   "cell_type": "markdown",
   "id": "5fc5edf7-b634-4694-b946-c53c080e80b7",
   "metadata": {},
   "source": [
    "##### Make 3 series"
   ]
  },
  {
   "cell_type": "code",
   "execution_count": null,
   "id": "faff0c81-88d9-466b-808c-801800256275",
   "metadata": {
    "execution": {
     "iopub.execute_input": "2025-02-10T18:51:02.410627Z",
     "iopub.status.busy": "2025-02-10T18:51:02.410496Z",
     "iopub.status.idle": "2025-02-10T18:51:02.440076Z",
     "shell.execute_reply": "2025-02-10T18:51:02.439686Z",
     "shell.execute_reply.started": "2025-02-10T18:51:02.410614Z"
    },
    "tags": []
   },
   "outputs": [],
   "source": [
    "ser_CHI2_FIT = df_spec[[\"CHI2_FIT\",\"nightObs\"]].groupby([\"nightObs\"]).agg(['count','min', 'max','mean','std','median'])\n",
    "ser_PWV = df_spec[[\"PWV [mm]_x\",\"nightObs\"]].groupby([\"nightObs\"]).agg(['count','min', 'max','mean','std','median'])\n",
    "ser_PWV_CHI2_FIT = df_spec[[\"PWV [mm]_x\",\"CHI2_FIT\",\"nightObs\"]].groupby([\"nightObs\"]).agg(['count','min', 'max','mean','std','median'])"
   ]
  },
  {
   "cell_type": "code",
   "execution_count": null,
   "id": "e26f48e9-02dd-4cdd-abf1-11fc5d0ccd0d",
   "metadata": {
    "execution": {
     "iopub.execute_input": "2025-02-10T18:51:02.440726Z",
     "iopub.status.busy": "2025-02-10T18:51:02.440583Z",
     "iopub.status.idle": "2025-02-10T18:51:02.442837Z",
     "shell.execute_reply": "2025-02-10T18:51:02.442416Z",
     "shell.execute_reply.started": "2025-02-10T18:51:02.440714Z"
    }
   },
   "outputs": [],
   "source": [
    "#ser_PWV"
   ]
  },
  {
   "cell_type": "code",
   "execution_count": null,
   "id": "31cd0a79-1b0b-4af3-8f7f-eb01342048ca",
   "metadata": {
    "execution": {
     "iopub.execute_input": "2025-02-10T18:51:02.443411Z",
     "iopub.status.busy": "2025-02-10T18:51:02.443287Z",
     "iopub.status.idle": "2025-02-10T18:51:02.448914Z",
     "shell.execute_reply": "2025-02-10T18:51:02.448561Z",
     "shell.execute_reply.started": "2025-02-10T18:51:02.443401Z"
    },
    "tags": []
   },
   "outputs": [],
   "source": [
    "#ser_CHI2_FIT"
   ]
  },
  {
   "cell_type": "code",
   "execution_count": null,
   "id": "3429f0df-af66-4c8b-9e1f-ca934fc2dc13",
   "metadata": {
    "execution": {
     "iopub.execute_input": "2025-02-10T18:51:02.449462Z",
     "iopub.status.busy": "2025-02-10T18:51:02.449344Z",
     "iopub.status.idle": "2025-02-10T18:51:02.455503Z",
     "shell.execute_reply": "2025-02-10T18:51:02.455065Z",
     "shell.execute_reply.started": "2025-02-10T18:51:02.449452Z"
    },
    "tags": []
   },
   "outputs": [],
   "source": [
    "#ser_PWV_CHI2_FIT "
   ]
  },
  {
   "cell_type": "markdown",
   "id": "d7c4cd36-ab87-41c0-a25a-e48cb8bee9e7",
   "metadata": {},
   "source": [
    "### Plot PWV and Chi2 from sereis before any selection"
   ]
  },
  {
   "cell_type": "code",
   "execution_count": null,
   "id": "80317b40-62e1-4b9d-9411-ddca229fa9aa",
   "metadata": {
    "execution": {
     "iopub.execute_input": "2025-02-10T18:51:02.456107Z",
     "iopub.status.busy": "2025-02-10T18:51:02.455955Z",
     "iopub.status.idle": "2025-02-10T18:51:03.103187Z",
     "shell.execute_reply": "2025-02-10T18:51:03.102750Z",
     "shell.execute_reply.started": "2025-02-10T18:51:02.456095Z"
    },
    "tags": []
   },
   "outputs": [],
   "source": [
    "fig,ax = plt.subplots(1,1,figsize=(18,3))\n",
    "ser_PWV.unstack()[\"PWV [mm]_x\"][\"count\"].plot(kind='bar', ax=ax,subplots=False, rot=90,figsize=(18,4),facecolor=\"b\",grid=True,title=\"Number of measurements per night\")\n",
    "plt.tight_layout()"
   ]
  },
  {
   "cell_type": "code",
   "execution_count": null,
   "id": "c8bfe4d6-fe88-4187-be0f-29be89a45523",
   "metadata": {
    "execution": {
     "iopub.execute_input": "2025-02-10T18:51:03.103859Z",
     "iopub.status.busy": "2025-02-10T18:51:03.103717Z",
     "iopub.status.idle": "2025-02-10T18:51:03.769708Z",
     "shell.execute_reply": "2025-02-10T18:51:03.769326Z",
     "shell.execute_reply.started": "2025-02-10T18:51:03.103847Z"
    },
    "tags": []
   },
   "outputs": [],
   "source": [
    "fig,ax = plt.subplots(1,1,figsize=(18,3))\n",
    "ser_PWV.unstack()[\"PWV [mm]_x\"][\"mean\"].plot(kind='bar',ax=ax ,subplots=False, rot=90,figsize=(18,4),facecolor='b',grid=True,title=\"Mean PWV per night\")\n",
    "plt.tight_layout()"
   ]
  },
  {
   "cell_type": "code",
   "execution_count": null,
   "id": "e3e93140-4e76-41ec-8670-2043771a7e00",
   "metadata": {
    "execution": {
     "iopub.execute_input": "2025-02-10T18:51:03.770340Z",
     "iopub.status.busy": "2025-02-10T18:51:03.770206Z",
     "iopub.status.idle": "2025-02-10T18:51:04.369083Z",
     "shell.execute_reply": "2025-02-10T18:51:04.368694Z",
     "shell.execute_reply.started": "2025-02-10T18:51:03.770328Z"
    },
    "tags": []
   },
   "outputs": [],
   "source": [
    "fig,ax = plt.subplots(1,1,figsize=(18,3))\n",
    "ser_PWV.unstack()[\"PWV [mm]_x\"][\"median\"].plot(kind='bar',ax=ax ,subplots=False, rot=90,figsize=(18,4),facecolor='b',grid=True,title=\"Median PWV per night\")\n",
    "plt.tight_layout()"
   ]
  },
  {
   "cell_type": "code",
   "execution_count": null,
   "id": "67e69917-efb7-40f3-9a4c-1b9d579e9cad",
   "metadata": {
    "execution": {
     "iopub.execute_input": "2025-02-10T18:51:04.369714Z",
     "iopub.status.busy": "2025-02-10T18:51:04.369586Z",
     "iopub.status.idle": "2025-02-10T18:51:05.004797Z",
     "shell.execute_reply": "2025-02-10T18:51:05.004411Z",
     "shell.execute_reply.started": "2025-02-10T18:51:04.369702Z"
    },
    "tags": []
   },
   "outputs": [],
   "source": [
    "fig,ax = plt.subplots(1,1,figsize=(18,3))\n",
    "ser_PWV.unstack()[\"PWV [mm]_x\"][\"std\"].plot(kind='bar', subplots=False, rot=90,figsize=(18,4),facecolor='b',grid=True,title=\"STD variation for PWV per night\")\n",
    "plt.tight_layout()"
   ]
  },
  {
   "cell_type": "code",
   "execution_count": null,
   "id": "a20e0562-16d6-4e90-a167-0d858327d347",
   "metadata": {
    "execution": {
     "iopub.execute_input": "2025-02-10T18:51:05.005402Z",
     "iopub.status.busy": "2025-02-10T18:51:05.005273Z",
     "iopub.status.idle": "2025-02-10T18:51:05.584871Z",
     "shell.execute_reply": "2025-02-10T18:51:05.584480Z",
     "shell.execute_reply.started": "2025-02-10T18:51:05.005389Z"
    },
    "tags": []
   },
   "outputs": [],
   "source": [
    "fig,ax = plt.subplots(1,1,figsize=(18,3))\n",
    "ser_CHI2_FIT.unstack()[\"CHI2_FIT\"][\"count\"].plot(kind='bar', ax=ax,subplots=False, rot=90,figsize=(18,4),facecolor=\"r\",grid=True,title=\"Number of measurements per night\")\n",
    "plt.tight_layout()"
   ]
  },
  {
   "cell_type": "code",
   "execution_count": null,
   "id": "be19fd80-6fd1-41ad-ae5a-224b4655b51d",
   "metadata": {
    "execution": {
     "iopub.execute_input": "2025-02-10T18:51:05.585499Z",
     "iopub.status.busy": "2025-02-10T18:51:05.585365Z",
     "iopub.status.idle": "2025-02-10T18:51:06.314297Z",
     "shell.execute_reply": "2025-02-10T18:51:06.313885Z",
     "shell.execute_reply.started": "2025-02-10T18:51:05.585487Z"
    },
    "tags": []
   },
   "outputs": [],
   "source": [
    "fig,ax = plt.subplots(1,1,figsize=(18,3))\n",
    "ser_CHI2_FIT.unstack()[\"CHI2_FIT\"][\"mean\"].plot(kind='bar',ax=ax ,subplots=False, rot=90,figsize=(18,4),facecolor='r',grid=True,title=\"Mean CHI2 per night\")\n",
    "plt.tight_layout()"
   ]
  },
  {
   "cell_type": "code",
   "execution_count": null,
   "id": "6c7ff0b5-3c40-4921-9c2f-9455c51e99a5",
   "metadata": {
    "execution": {
     "iopub.execute_input": "2025-02-10T18:51:06.314945Z",
     "iopub.status.busy": "2025-02-10T18:51:06.314800Z",
     "iopub.status.idle": "2025-02-10T18:51:06.892550Z",
     "shell.execute_reply": "2025-02-10T18:51:06.892147Z",
     "shell.execute_reply.started": "2025-02-10T18:51:06.314931Z"
    },
    "tags": []
   },
   "outputs": [],
   "source": [
    "fig,ax = plt.subplots(1,1,figsize=(18,3))\n",
    "ser_CHI2_FIT.unstack()[\"CHI2_FIT\"][\"median\"].plot(kind='bar',ax=ax ,subplots=False, rot=90,figsize=(18,4),facecolor='r',grid=True,title=\"Median CHI2 per night\")\n",
    "plt.tight_layout()"
   ]
  },
  {
   "cell_type": "code",
   "execution_count": null,
   "id": "f1cefb7f-ed65-45a4-9f92-5655081afe10",
   "metadata": {
    "execution": {
     "iopub.execute_input": "2025-02-10T18:51:06.893159Z",
     "iopub.status.busy": "2025-02-10T18:51:06.893030Z",
     "iopub.status.idle": "2025-02-10T18:51:07.498316Z",
     "shell.execute_reply": "2025-02-10T18:51:07.497850Z",
     "shell.execute_reply.started": "2025-02-10T18:51:06.893147Z"
    },
    "tags": []
   },
   "outputs": [],
   "source": [
    "fig,ax = plt.subplots(1,1,figsize=(18,3))\n",
    "ser_CHI2_FIT.unstack()[\"CHI2_FIT\"][\"std\"].plot(kind='bar',ax=ax ,subplots=False, rot=90,figsize=(18,4),facecolor='r',grid=True,title=\"STD variation CHI2 per night\")\n",
    "plt.tight_layout()"
   ]
  },
  {
   "cell_type": "code",
   "execution_count": null,
   "id": "90ead6bb-6366-4927-beca-79f8fc1b4477",
   "metadata": {
    "execution": {
     "iopub.execute_input": "2025-02-10T18:51:07.499222Z",
     "iopub.status.busy": "2025-02-10T18:51:07.498909Z",
     "iopub.status.idle": "2025-02-10T18:51:07.501489Z",
     "shell.execute_reply": "2025-02-10T18:51:07.501104Z",
     "shell.execute_reply.started": "2025-02-10T18:51:07.499202Z"
    },
    "tags": []
   },
   "outputs": [],
   "source": [
    "#ser_PWV_CHI2_FIT "
   ]
  },
  {
   "cell_type": "code",
   "execution_count": null,
   "id": "702a26c1-4b22-4b1c-9f8b-ebd3f2de61a1",
   "metadata": {
    "execution": {
     "iopub.execute_input": "2025-02-10T18:51:07.502230Z",
     "iopub.status.busy": "2025-02-10T18:51:07.502020Z",
     "iopub.status.idle": "2025-02-10T18:51:07.511408Z",
     "shell.execute_reply": "2025-02-10T18:51:07.510946Z",
     "shell.execute_reply.started": "2025-02-10T18:51:07.502211Z"
    },
    "tags": []
   },
   "outputs": [],
   "source": [
    "ser_PWV_CHI2_FIT.loc[20231010,:]"
   ]
  },
  {
   "cell_type": "code",
   "execution_count": null,
   "id": "c463654d-ce69-48fb-b14d-0d466258f917",
   "metadata": {
    "execution": {
     "iopub.execute_input": "2025-02-10T18:51:07.512137Z",
     "iopub.status.busy": "2025-02-10T18:51:07.511953Z",
     "iopub.status.idle": "2025-02-10T18:51:07.527214Z",
     "shell.execute_reply": "2025-02-10T18:51:07.526829Z",
     "shell.execute_reply.started": "2025-02-10T18:51:07.512119Z"
    },
    "tags": []
   },
   "outputs": [],
   "source": [
    "df_unstack = ser_PWV_CHI2_FIT.loc[20231010,:].unstack()\n",
    "df_unstack"
   ]
  },
  {
   "cell_type": "code",
   "execution_count": null,
   "id": "665aeaea-a974-4cac-95bc-14ef9d4298c5",
   "metadata": {
    "execution": {
     "iopub.execute_input": "2025-02-10T18:51:07.527907Z",
     "iopub.status.busy": "2025-02-10T18:51:07.527721Z",
     "iopub.status.idle": "2025-02-10T18:51:07.531656Z",
     "shell.execute_reply": "2025-02-10T18:51:07.531135Z",
     "shell.execute_reply.started": "2025-02-10T18:51:07.527889Z"
    },
    "tags": []
   },
   "outputs": [],
   "source": [
    "ser_PWV_CHI2_FIT.loc[20231010,\"PWV [mm]_x\"][\"count\"]"
   ]
  },
  {
   "cell_type": "code",
   "execution_count": null,
   "id": "005f6704-1ee2-403f-bfc7-e07e311cbb31",
   "metadata": {
    "execution": {
     "iopub.execute_input": "2025-02-10T18:51:07.532398Z",
     "iopub.status.busy": "2025-02-10T18:51:07.532218Z",
     "iopub.status.idle": "2025-02-10T18:51:07.538281Z",
     "shell.execute_reply": "2025-02-10T18:51:07.537856Z",
     "shell.execute_reply.started": "2025-02-10T18:51:07.532380Z"
    },
    "tags": []
   },
   "outputs": [],
   "source": [
    "df_unstack.loc[\"PWV [mm]_x\",\"count\"]"
   ]
  },
  {
   "cell_type": "markdown",
   "id": "6e0d7d30-8bea-4fd0-ad1e-0b934c20b39c",
   "metadata": {},
   "source": [
    "#### Add aggregate data added to pandas dataframe"
   ]
  },
  {
   "cell_type": "code",
   "execution_count": null,
   "id": "6c777a31-67c1-4466-8808-e975dda49994",
   "metadata": {
    "execution": {
     "iopub.execute_input": "2025-02-10T18:51:07.538974Z",
     "iopub.status.busy": "2025-02-10T18:51:07.538791Z",
     "iopub.status.idle": "2025-02-10T18:51:07.545702Z",
     "shell.execute_reply": "2025-02-10T18:51:07.545306Z",
     "shell.execute_reply.started": "2025-02-10T18:51:07.538957Z"
    },
    "tags": []
   },
   "outputs": [],
   "source": [
    "def FillAgreggates(row):\n",
    "    the_nightObs = row[\"nightObs\"]\n",
    "    df_night = ser_PWV_CHI2_FIT.loc[the_nightObs,:].unstack()\n",
    "    count = df_night.loc[\"PWV [mm]_x\",\"count\"]\n",
    "    pwvmin = df_night.loc[\"PWV [mm]_x\",\"min\"]\n",
    "    pwvmax = df_night.loc[\"PWV [mm]_x\",\"max\"]\n",
    "    pwvmean = df_night.loc[\"PWV [mm]_x\",\"mean\"]\n",
    "    pwvmedian = df_night.loc[\"PWV [mm]_x\",\"median\"]\n",
    "    pwvstd = df_night.loc[\"PWV [mm]_x\",\"std\"]\n",
    "    chi2min = df_night.loc[\"CHI2_FIT\",\"min\"]\n",
    "    chi2max = df_night.loc[\"CHI2_FIT\",\"max\"]\n",
    "    chi2mean = df_night.loc[\"CHI2_FIT\",\"mean\"]\n",
    "    chi2median = df_night.loc[\"CHI2_FIT\",\"median\"]\n",
    "    chi2std = df_night.loc[\"CHI2_FIT\",\"std\"]\n",
    "    \n",
    "    d = {\"_count\":count,\"_pwvmin\":pwvmin,\"_pwvmax\":pwvmax,\"_pwvmean\":pwvmean,\"_pwvmedian\":pwvmedian,\"_pwvstd\":pwvstd,\n",
    "        \"_chi2min\":chi2min,\"_chi2max\":chi2max,\"_chi2mean\":chi2mean,\"_chi2median\":chi2median,\"_chi2std\":chi2std}\n",
    "    \n",
    "    ser = pd.Series(data=d)\n",
    "\n",
    "    return ser"
   ]
  },
  {
   "cell_type": "code",
   "execution_count": null,
   "id": "3fe7741b-b438-4fbd-b881-1cab01ee9d92",
   "metadata": {
    "execution": {
     "iopub.execute_input": "2025-02-10T18:51:07.546385Z",
     "iopub.status.busy": "2025-02-10T18:51:07.546202Z",
     "iopub.status.idle": "2025-02-10T18:51:07.552540Z",
     "shell.execute_reply": "2025-02-10T18:51:07.552046Z",
     "shell.execute_reply.started": "2025-02-10T18:51:07.546367Z"
    },
    "tags": []
   },
   "outputs": [],
   "source": [
    "row = df_spec.iloc[0]"
   ]
  },
  {
   "cell_type": "code",
   "execution_count": null,
   "id": "f001cb73-c1c5-4019-a8ae-b148aeec0bf7",
   "metadata": {
    "execution": {
     "iopub.execute_input": "2025-02-10T18:51:07.553520Z",
     "iopub.status.busy": "2025-02-10T18:51:07.553029Z",
     "iopub.status.idle": "2025-02-10T18:51:07.560118Z",
     "shell.execute_reply": "2025-02-10T18:51:07.559765Z",
     "shell.execute_reply.started": "2025-02-10T18:51:07.553505Z"
    },
    "tags": []
   },
   "outputs": [],
   "source": [
    "row"
   ]
  },
  {
   "cell_type": "code",
   "execution_count": null,
   "id": "c2a13cbb-fe9f-45ef-be3c-53d345da591d",
   "metadata": {
    "execution": {
     "iopub.execute_input": "2025-02-10T18:51:07.560927Z",
     "iopub.status.busy": "2025-02-10T18:51:07.560700Z",
     "iopub.status.idle": "2025-02-10T18:51:07.568394Z",
     "shell.execute_reply": "2025-02-10T18:51:07.568018Z",
     "shell.execute_reply.started": "2025-02-10T18:51:07.560914Z"
    },
    "tags": []
   },
   "outputs": [],
   "source": [
    "FillAgreggates(row)"
   ]
  },
  {
   "cell_type": "markdown",
   "id": "14159722-9ba2-46b5-93d1-17d493d20526",
   "metadata": {},
   "source": [
    "#### join dataframe + aggregates"
   ]
  },
  {
   "cell_type": "code",
   "execution_count": null,
   "id": "7078b47e-2d0a-40bc-b225-c321abd1af88",
   "metadata": {
    "execution": {
     "iopub.execute_input": "2025-02-10T18:51:07.569035Z",
     "iopub.status.busy": "2025-02-10T18:51:07.568857Z",
     "iopub.status.idle": "2025-02-10T18:51:09.587796Z",
     "shell.execute_reply": "2025-02-10T18:51:09.587227Z",
     "shell.execute_reply.started": "2025-02-10T18:51:07.569017Z"
    },
    "tags": []
   },
   "outputs": [],
   "source": [
    "df_spec = df_spec.join(df_spec.apply(FillAgreggates,axis=1,result_type=\"expand\"))"
   ]
  },
  {
   "cell_type": "markdown",
   "id": "a4f8b443-4bc5-46fc-a548-33441edee6da",
   "metadata": {},
   "source": [
    "## Apply Quality selection"
   ]
  },
  {
   "cell_type": "code",
   "execution_count": null,
   "id": "2325b3ff-29c2-445a-b25e-cc11aba4f45a",
   "metadata": {
    "execution": {
     "iopub.execute_input": "2025-02-10T18:51:09.588475Z",
     "iopub.status.busy": "2025-02-10T18:51:09.588337Z",
     "iopub.status.idle": "2025-02-10T18:51:09.804971Z",
     "shell.execute_reply": "2025-02-10T18:51:09.804577Z",
     "shell.execute_reply.started": "2025-02-10T18:51:09.588464Z"
    },
    "tags": []
   },
   "outputs": [],
   "source": [
    "fig,ax = plt.subplots(1,1)\n",
    "df_spec[\"CHI2_FIT\"].hist(bins=50,ax=ax,range=(0,200))\n",
    "ax.set_yscale(\"log\")"
   ]
  },
  {
   "cell_type": "markdown",
   "id": "a7aaca44-ad09-4883-8a7d-413b71e8b4a2",
   "metadata": {},
   "source": [
    "### Add the Time in pd.datetime"
   ]
  },
  {
   "cell_type": "code",
   "execution_count": null,
   "id": "0d10c1ad-c5dc-4487-baa9-7c71ec531f45",
   "metadata": {
    "execution": {
     "iopub.execute_input": "2025-02-10T18:51:09.805582Z",
     "iopub.status.busy": "2025-02-10T18:51:09.805450Z",
     "iopub.status.idle": "2025-02-10T18:51:09.810561Z",
     "shell.execute_reply": "2025-02-10T18:51:09.810182Z",
     "shell.execute_reply.started": "2025-02-10T18:51:09.805569Z"
    }
   },
   "outputs": [],
   "source": [
    "df_spec[\"Time\"] = pd.to_datetime(df_spec[\"DATE-OBS\"])"
   ]
  },
  {
   "cell_type": "markdown",
   "id": "90783a42-5ed9-4ad8-8457-bbe1569413fe",
   "metadata": {},
   "source": [
    "## Compute night boundaries"
   ]
  },
  {
   "cell_type": "code",
   "execution_count": null,
   "id": "0ee7679a-ea50-4190-9400-664370a6b7f0",
   "metadata": {
    "execution": {
     "iopub.execute_input": "2025-02-10T18:51:09.811098Z",
     "iopub.status.busy": "2025-02-10T18:51:09.810964Z",
     "iopub.status.idle": "2025-02-10T18:51:09.817482Z",
     "shell.execute_reply": "2025-02-10T18:51:09.817066Z",
     "shell.execute_reply.started": "2025-02-10T18:51:09.811086Z"
    },
    "tags": []
   },
   "outputs": [],
   "source": [
    "def GetNightBoundariesDict(df_spec):\n",
    "    \"\"\"\n",
    "    input:\n",
    "      df_spec the dataframe for spectroscopy summary results\n",
    "    output:\n",
    "      the dict of night boudaries\n",
    "    \"\"\"\n",
    "    \n",
    "    Dt = pd.Timedelta(minutes=30)\n",
    "    d = {}\n",
    "    list_of_nightobs = df_spec[\"nightObs\"].unique()\n",
    "    for nightobs in list_of_nightobs:\n",
    "        sel_flag = df_spec[\"nightObs\"]== nightobs\n",
    "        df_night = df_spec[sel_flag]\n",
    "        tmin = df_night[\"Time\"].min()-Dt\n",
    "        tmax = df_night[\"Time\"].max()+Dt\n",
    "        d[nightobs] = (tmin,tmax)\n",
    "    return d"
   ]
  },
  {
   "cell_type": "code",
   "execution_count": null,
   "id": "b4e4e1eb-c4c1-4bdf-b88f-b44bd55b2435",
   "metadata": {
    "execution": {
     "iopub.execute_input": "2025-02-10T18:51:09.817986Z",
     "iopub.status.busy": "2025-02-10T18:51:09.817871Z",
     "iopub.status.idle": "2025-02-10T18:51:09.875360Z",
     "shell.execute_reply": "2025-02-10T18:51:09.874932Z",
     "shell.execute_reply.started": "2025-02-10T18:51:09.817975Z"
    },
    "tags": []
   },
   "outputs": [],
   "source": [
    "dn = GetNightBoundariesDict(df_spec)"
   ]
  },
  {
   "cell_type": "markdown",
   "id": "715cae7e-32ff-46c8-8d1a-a7c220a9eaed",
   "metadata": {},
   "source": [
    "## Plot all data"
   ]
  },
  {
   "cell_type": "code",
   "execution_count": null,
   "id": "3fd02994-4a05-4145-8da9-10ac7f5b920a",
   "metadata": {
    "execution": {
     "iopub.execute_input": "2025-02-10T18:51:09.876226Z",
     "iopub.status.busy": "2025-02-10T18:51:09.875843Z",
     "iopub.status.idle": "2025-02-10T18:51:10.248288Z",
     "shell.execute_reply": "2025-02-10T18:51:10.247812Z",
     "shell.execute_reply.started": "2025-02-10T18:51:09.876210Z"
    }
   },
   "outputs": [],
   "source": [
    "from matplotlib.dates import DateFormatter\n",
    "date_form = DateFormatter(\"%y-%m-%dT%H:%M\")\n",
    "fig,axs = plt.subplots(1,1,figsize=(14,6))\n",
    "ax  = axs\n",
    "leg=ax.get_legend()\n",
    "\n",
    "df_spec.plot(x=\"Time\",y=\"PWV [mm]_x\",ax=ax,marker='+',c=\"r\",lw=0.0,grid=True,label=tag,legend=leg)\n",
    "ax.set_ylabel(\"PWV [mm]_x\")\n",
    "\n",
    "ax.set_xlabel(\"time\")\n",
    "ax.xaxis.set_major_formatter(date_form)\n",
    "ax.set_title(\"Precipitable water vapor measured by holo vs time\")\n",
    "\n",
    "for key, tt in dn.items():\n",
    "    ax.axvspan(tt[0],tt[1], color='blue', alpha=0.1)\n",
    "\n",
    "plt.tight_layout()"
   ]
  },
  {
   "cell_type": "markdown",
   "id": "564f9a05-b3e2-4d61-9457-cda76ebd2a1b",
   "metadata": {},
   "source": [
    "## Apply Quality selection cuts"
   ]
  },
  {
   "cell_type": "code",
   "execution_count": null,
   "id": "cde62465-0e2e-4216-8deb-0659b8e42f52",
   "metadata": {
    "execution": {
     "iopub.execute_input": "2025-02-10T18:51:10.248941Z",
     "iopub.status.busy": "2025-02-10T18:51:10.248807Z",
     "iopub.status.idle": "2025-02-10T18:51:10.251678Z",
     "shell.execute_reply": "2025-02-10T18:51:10.251282Z",
     "shell.execute_reply.started": "2025-02-10T18:51:10.248928Z"
    },
    "tags": []
   },
   "outputs": [],
   "source": [
    "def getSelectionCutOld(df_spec, chi2max=20., pwvmin=0.1, pwvmax = 14.9):\n",
    "    cut =  (df_spec[\"CHI2_FIT\"]<chi2max) & (df_spec[\"PWV [mm]_x\"] > pwvmin) & (df_spec[\"PWV [mm]_x\"] < pwvmax) \n",
    "    return cut"
   ]
  },
  {
   "cell_type": "code",
   "execution_count": null,
   "id": "6cdcc23d-e76d-44ea-9cd8-6607b2d14fde",
   "metadata": {
    "execution": {
     "iopub.execute_input": "2025-02-10T18:51:10.252294Z",
     "iopub.status.busy": "2025-02-10T18:51:10.252153Z",
     "iopub.status.idle": "2025-02-10T18:51:10.262553Z",
     "shell.execute_reply": "2025-02-10T18:51:10.262196Z",
     "shell.execute_reply.started": "2025-02-10T18:51:10.252283Z"
    }
   },
   "outputs": [],
   "source": [
    "def getSelectionCut(df_spec, chi2max=20., pwvmin=0.1, pwvmax = 14.9,ozmin=100.,ozmax=600.):\n",
    "    cut =  (df_spec[\"CHI2_FIT\"]<chi2max) & (df_spec[\"PWV [mm]_x\"] > pwvmin) & (df_spec[\"PWV [mm]_x\"] < pwvmax) & (df_spec[\"D2CCD\"]>186.5) &  (df_spec[\"D2CCD\"]<187.3) & \\\n",
    "    (df_spec['EXPTIME'] > 20.) & (df_spec[\"PWV [mm]_y\"] > pwvmin) & (df_spec[\"PWV [mm]_y\"] < pwvmax) & \\\n",
    "    (df_spec[\"ozone [db]_y\"] > ozmin) & (df_spec[\"ozone [db]_y\"] < ozmax) \n",
    "    return cut"
   ]
  },
  {
   "cell_type": "code",
   "execution_count": null,
   "id": "4fd887fa-0420-483e-a71e-4a476d418675",
   "metadata": {
    "execution": {
     "iopub.execute_input": "2025-02-10T18:51:10.263138Z",
     "iopub.status.busy": "2025-02-10T18:51:10.263016Z",
     "iopub.status.idle": "2025-02-10T18:51:10.270318Z",
     "shell.execute_reply": "2025-02-10T18:51:10.269847Z",
     "shell.execute_reply.started": "2025-02-10T18:51:10.263127Z"
    },
    "tags": []
   },
   "outputs": [],
   "source": [
    "cut = getSelectionCut(df_spec)"
   ]
  },
  {
   "cell_type": "code",
   "execution_count": null,
   "id": "e1cbfa40-4395-47f4-9acf-6a9f531fabd4",
   "metadata": {
    "execution": {
     "iopub.execute_input": "2025-02-10T18:51:10.270824Z",
     "iopub.status.busy": "2025-02-10T18:51:10.270704Z",
     "iopub.status.idle": "2025-02-10T18:51:10.277947Z",
     "shell.execute_reply": "2025-02-10T18:51:10.277598Z",
     "shell.execute_reply.started": "2025-02-10T18:51:10.270813Z"
    }
   },
   "outputs": [],
   "source": [
    "df_spec_sel = df_spec[cut].drop(labels=['_count', '_pwvmin', '_pwvmax', '_pwvmean', '_pwvmedian', '_pwvstd','_chi2min', '_chi2max', '_chi2mean', '_chi2median', '_chi2std'],axis=1)"
   ]
  },
  {
   "cell_type": "code",
   "execution_count": null,
   "id": "bae62b07-17d4-423e-bdfe-634272a040a2",
   "metadata": {
    "execution": {
     "iopub.execute_input": "2025-02-10T18:51:10.278508Z",
     "iopub.status.busy": "2025-02-10T18:51:10.278388Z",
     "iopub.status.idle": "2025-02-10T18:51:10.282357Z",
     "shell.execute_reply": "2025-02-10T18:51:10.281972Z",
     "shell.execute_reply.started": "2025-02-10T18:51:10.278497Z"
    },
    "tags": []
   },
   "outputs": [],
   "source": [
    "df_spec_sel.reset_index(drop=True,inplace=True)"
   ]
  },
  {
   "cell_type": "markdown",
   "id": "0a5d81d8-0614-413f-93fb-d38f2912f3bc",
   "metadata": {},
   "source": [
    "## Compute per-night aggregates"
   ]
  },
  {
   "cell_type": "markdown",
   "id": "3d8a4e1d-9849-41d0-991e-f8cd9b98d786",
   "metadata": {
    "tags": []
   },
   "source": [
    "### Compute series per night"
   ]
  },
  {
   "cell_type": "code",
   "execution_count": null,
   "id": "5f2bb2b2-a77b-485d-975b-88912029b163",
   "metadata": {
    "execution": {
     "iopub.execute_input": "2025-02-10T18:51:10.282875Z",
     "iopub.status.busy": "2025-02-10T18:51:10.282755Z",
     "iopub.status.idle": "2025-02-10T18:51:10.291767Z",
     "shell.execute_reply": "2025-02-10T18:51:10.291370Z",
     "shell.execute_reply.started": "2025-02-10T18:51:10.282863Z"
    },
    "tags": []
   },
   "outputs": [],
   "source": [
    "ser_PWV_CHI2_FIT_sel = df_spec_sel[[\"PWV [mm]_x\",\"CHI2_FIT\",\"nightObs\"]].groupby([\"nightObs\"]).agg(['count','min', 'max','mean','std','median'])"
   ]
  },
  {
   "cell_type": "code",
   "execution_count": null,
   "id": "32089a52-fb70-4ef2-b900-c34975c325c8",
   "metadata": {
    "execution": {
     "iopub.execute_input": "2025-02-10T18:51:10.292328Z",
     "iopub.status.busy": "2025-02-10T18:51:10.292164Z",
     "iopub.status.idle": "2025-02-10T18:51:10.296060Z",
     "shell.execute_reply": "2025-02-10T18:51:10.295700Z",
     "shell.execute_reply.started": "2025-02-10T18:51:10.292310Z"
    },
    "tags": []
   },
   "outputs": [],
   "source": [
    "def FillAgreggatesSel(row):\n",
    "    the_nightObs = row[\"nightObs\"]\n",
    "    df_night = ser_PWV_CHI2_FIT_sel.loc[the_nightObs,:].unstack()\n",
    "    count = df_night.loc[\"PWV [mm]_x\",\"count\"]\n",
    "    pwvmin = df_night.loc[\"PWV [mm]_x\",\"min\"]\n",
    "    pwvmax = df_night.loc[\"PWV [mm]_x\",\"max\"]\n",
    "    pwvmean = df_night.loc[\"PWV [mm]_x\",\"mean\"]\n",
    "    pwvmedian = df_night.loc[\"PWV [mm]_x\",\"median\"]\n",
    "    pwvstd = df_night.loc[\"PWV [mm]_x\",\"std\"]\n",
    "    chi2min = df_night.loc[\"CHI2_FIT\",\"min\"]\n",
    "    chi2max = df_night.loc[\"CHI2_FIT\",\"max\"]\n",
    "    chi2mean = df_night.loc[\"CHI2_FIT\",\"mean\"]\n",
    "    chi2median = df_night.loc[\"CHI2_FIT\",\"median\"]\n",
    "    chi2std = df_night.loc[\"CHI2_FIT\",\"std\"]\n",
    "    \n",
    "    d = {\"_count\":count,\"_pwvmin\":pwvmin,\"_pwvmax\":pwvmax,\"_pwvmean\":pwvmean,\"_pwvmedian\":pwvmedian,\"_pwvstd\":pwvstd,\n",
    "        \"_chi2min\":chi2min,\"_chi2max\":chi2max,\"_chi2mean\":chi2mean,\"_chi2median\":chi2median,\"_chi2std\":chi2std}\n",
    "    \n",
    "    ser = pd.Series(data=d)\n",
    "\n",
    "    return ser\n",
    "    "
   ]
  },
  {
   "cell_type": "code",
   "execution_count": null,
   "id": "7df3b6b8-24f7-4639-a94e-35f345c5e450",
   "metadata": {
    "execution": {
     "iopub.execute_input": "2025-02-10T18:51:10.296605Z",
     "iopub.status.busy": "2025-02-10T18:51:10.296485Z",
     "iopub.status.idle": "2025-02-10T18:51:11.056471Z",
     "shell.execute_reply": "2025-02-10T18:51:11.056102Z",
     "shell.execute_reply.started": "2025-02-10T18:51:10.296594Z"
    },
    "tags": []
   },
   "outputs": [],
   "source": [
    "df_spec_sel = df_spec_sel.join(df_spec_sel.apply(FillAgreggatesSel,axis=1,result_type=\"expand\"))"
   ]
  },
  {
   "cell_type": "markdown",
   "id": "030bf82d-8d80-492c-96cf-4506c2eac282",
   "metadata": {
    "tags": []
   },
   "source": [
    "## Recompute night boundaries"
   ]
  },
  {
   "cell_type": "code",
   "execution_count": null,
   "id": "1e41540b-d7cd-49c8-88dc-4175db604a17",
   "metadata": {
    "execution": {
     "iopub.execute_input": "2025-02-10T18:51:11.056993Z",
     "iopub.status.busy": "2025-02-10T18:51:11.056867Z",
     "iopub.status.idle": "2025-02-10T18:51:11.107848Z",
     "shell.execute_reply": "2025-02-10T18:51:11.107516Z",
     "shell.execute_reply.started": "2025-02-10T18:51:11.056981Z"
    },
    "tags": []
   },
   "outputs": [],
   "source": [
    "dn = GetNightBoundariesDict(df_spec_sel)"
   ]
  },
  {
   "cell_type": "markdown",
   "id": "c4c10f08-5d32-465f-afd6-e51c1716bbd2",
   "metadata": {},
   "source": [
    "## Plot all data"
   ]
  },
  {
   "cell_type": "code",
   "execution_count": null,
   "id": "58b3d86e-7a6a-4685-8f5c-af994b7b2164",
   "metadata": {
    "execution": {
     "iopub.execute_input": "2025-02-10T18:51:11.108364Z",
     "iopub.status.busy": "2025-02-10T18:51:11.108239Z",
     "iopub.status.idle": "2025-02-10T18:51:11.684972Z",
     "shell.execute_reply": "2025-02-10T18:51:11.684642Z",
     "shell.execute_reply.started": "2025-02-10T18:51:11.108352Z"
    },
    "tags": []
   },
   "outputs": [],
   "source": [
    "from matplotlib.dates import DateFormatter\n",
    "date_form = DateFormatter(\"%y-%m-%dT%H:%M\")\n",
    "fig,axs = plt.subplots(1,1,figsize=(14,6))\n",
    "ax  = axs\n",
    "leg=ax.get_legend()\n",
    "\n",
    "df_spec_sel.plot(x=\"Time\",y=\"PWV [mm]_x\",ax=ax,marker='+',c=\"r\",lw=0.0,grid=True,label=tag,legend=leg,ms=10)\n",
    "ax.set_ylabel(\"PWV [mm]_x\")\n",
    "ax.set_xlabel(\"time\")\n",
    "ax.xaxis.set_major_formatter(date_form)\n",
    "ax.set_title(\"Precipitable water vapor measured by holo selected vs time\")\n",
    "\n",
    "for key, tt in dn.items():\n",
    "    ax.axvspan(tt[0],tt[1], color='blue', alpha=0.1)\n",
    "\n",
    "plt.tight_layout()\n",
    "figname =f\"{pathfigs}/pwv_allpoints_allnights\"+figtype\n",
    "plt.savefig(figname)\n",
    "plt.show()"
   ]
  },
  {
   "cell_type": "markdown",
   "id": "71b1a2b3-a78d-4123-abf3-bb9ea159346c",
   "metadata": {},
   "source": [
    "## Plot series on selected data"
   ]
  },
  {
   "cell_type": "code",
   "execution_count": null,
   "id": "6e3a3cb8-0ec9-45db-8439-25d6a6a57527",
   "metadata": {
    "execution": {
     "iopub.execute_input": "2025-02-10T18:51:11.685535Z",
     "iopub.status.busy": "2025-02-10T18:51:11.685405Z",
     "iopub.status.idle": "2025-02-10T18:51:11.692675Z",
     "shell.execute_reply": "2025-02-10T18:51:11.692384Z",
     "shell.execute_reply.started": "2025-02-10T18:51:11.685523Z"
    },
    "tags": []
   },
   "outputs": [],
   "source": [
    "ser_CHI2_FIT_sel = df_spec_sel[[\"CHI2_FIT\",\"nightObs\"]].groupby([\"nightObs\"]).agg(['count','min', 'max','mean','std','median'])\n",
    "ser_PWV_sel = df_spec_sel[[\"PWV [mm]_x\",\"nightObs\"]].groupby([\"nightObs\"]).agg(['count','min', 'max','mean','std','median'])"
   ]
  },
  {
   "cell_type": "code",
   "execution_count": null,
   "id": "592ee0e1-64fb-40c3-b57f-8362d1a05be8",
   "metadata": {
    "execution": {
     "iopub.execute_input": "2025-02-10T18:51:11.696439Z",
     "iopub.status.busy": "2025-02-10T18:51:11.696309Z",
     "iopub.status.idle": "2025-02-10T18:51:12.273698Z",
     "shell.execute_reply": "2025-02-10T18:51:12.273376Z",
     "shell.execute_reply.started": "2025-02-10T18:51:11.696427Z"
    },
    "tags": []
   },
   "outputs": [],
   "source": [
    "fig,ax = plt.subplots(1,1,figsize=(18,3))\n",
    "ser_PWV_sel.unstack()[\"PWV [mm]_x\"][\"count\"].plot(kind='bar', ax=ax,subplots=False, rot=90,figsize=(18,4),facecolor=\"b\",grid=True,title=\"Number of measurements per night after selection\")\n",
    "plt.tight_layout()"
   ]
  },
  {
   "cell_type": "code",
   "execution_count": null,
   "id": "77ab654f-1ca7-42a1-9939-920126c1899f",
   "metadata": {
    "execution": {
     "iopub.execute_input": "2025-02-10T18:51:12.274235Z",
     "iopub.status.busy": "2025-02-10T18:51:12.274096Z",
     "iopub.status.idle": "2025-02-10T18:51:12.836935Z",
     "shell.execute_reply": "2025-02-10T18:51:12.836604Z",
     "shell.execute_reply.started": "2025-02-10T18:51:12.274221Z"
    },
    "tags": []
   },
   "outputs": [],
   "source": [
    "fig,ax = plt.subplots(1,1,figsize=(18,3))\n",
    "ser_PWV_sel.unstack()[\"PWV [mm]_x\"][\"mean\"].plot(kind='bar',ax=ax ,subplots=False, rot=90,figsize=(18,4),facecolor='b',grid=True,title=\"Mean PWV per night after selection\")\n",
    "plt.tight_layout()"
   ]
  },
  {
   "cell_type": "code",
   "execution_count": null,
   "id": "4b391453-3c1e-4c6d-8e57-4df77c0d4fca",
   "metadata": {
    "execution": {
     "iopub.execute_input": "2025-02-10T18:51:12.837461Z",
     "iopub.status.busy": "2025-02-10T18:51:12.837336Z",
     "iopub.status.idle": "2025-02-10T18:51:13.426396Z",
     "shell.execute_reply": "2025-02-10T18:51:13.426066Z",
     "shell.execute_reply.started": "2025-02-10T18:51:12.837449Z"
    },
    "tags": []
   },
   "outputs": [],
   "source": [
    "fig,ax = plt.subplots(1,1,figsize=(18,3))\n",
    "ser_PWV_sel.unstack()[\"PWV [mm]_x\"][\"median\"].plot(kind='bar',ax=ax ,subplots=False, rot=90,figsize=(18,4),facecolor='b',grid=True,title=\"Median PWV per night after selection\")\n",
    "plt.tight_layout()"
   ]
  },
  {
   "cell_type": "code",
   "execution_count": null,
   "id": "8f90c624-4571-4c84-87b8-a71e49f91af6",
   "metadata": {
    "execution": {
     "iopub.execute_input": "2025-02-10T18:51:13.426917Z",
     "iopub.status.busy": "2025-02-10T18:51:13.426790Z",
     "iopub.status.idle": "2025-02-10T18:51:14.005111Z",
     "shell.execute_reply": "2025-02-10T18:51:14.004661Z",
     "shell.execute_reply.started": "2025-02-10T18:51:13.426904Z"
    },
    "tags": []
   },
   "outputs": [],
   "source": [
    "fig,ax = plt.subplots(1,1,figsize=(18,3))\n",
    "ser_PWV_sel.unstack()[\"PWV [mm]_x\"][\"std\"].plot(kind='bar', subplots=False, rot=90,figsize=(18,4),facecolor='b',grid=True,title=\"STD variation for PWV per night after selection\")\n",
    "plt.tight_layout()"
   ]
  },
  {
   "cell_type": "code",
   "execution_count": null,
   "id": "438bb890-9dc1-4ece-801e-63c849d73358",
   "metadata": {
    "execution": {
     "iopub.execute_input": "2025-02-10T18:51:14.005736Z",
     "iopub.status.busy": "2025-02-10T18:51:14.005609Z",
     "iopub.status.idle": "2025-02-10T18:51:14.726740Z",
     "shell.execute_reply": "2025-02-10T18:51:14.726423Z",
     "shell.execute_reply.started": "2025-02-10T18:51:14.005724Z"
    },
    "tags": []
   },
   "outputs": [],
   "source": [
    "fig,ax = plt.subplots(1,1,figsize=(18,3))\n",
    "ser_CHI2_FIT_sel.unstack()[\"CHI2_FIT\"][\"mean\"].plot(kind='bar',ax=ax ,subplots=False, rot=90,figsize=(18,4),facecolor='r',grid=True,title=\"Mean CHI2 per night after selection\")\n",
    "plt.tight_layout()"
   ]
  },
  {
   "cell_type": "code",
   "execution_count": null,
   "id": "fccf0310-c102-4a36-a14f-63e724ccceb1",
   "metadata": {
    "execution": {
     "iopub.execute_input": "2025-02-10T18:51:14.727289Z",
     "iopub.status.busy": "2025-02-10T18:51:14.727148Z",
     "iopub.status.idle": "2025-02-10T18:51:15.279239Z",
     "shell.execute_reply": "2025-02-10T18:51:15.278914Z",
     "shell.execute_reply.started": "2025-02-10T18:51:14.727276Z"
    },
    "tags": []
   },
   "outputs": [],
   "source": [
    "fig,ax = plt.subplots(1,1,figsize=(18,3))\n",
    "ser_CHI2_FIT_sel.unstack()[\"CHI2_FIT\"][\"median\"].plot(kind='bar',ax=ax ,subplots=False, rot=90,figsize=(18,4),facecolor='r',grid=True,title=\"Median CHI2 per night after selection\")\n",
    "plt.tight_layout()"
   ]
  },
  {
   "cell_type": "code",
   "execution_count": null,
   "id": "b2c26008-c15e-4cf3-ace1-3ddddda64abd",
   "metadata": {
    "execution": {
     "iopub.execute_input": "2025-02-10T18:51:15.279745Z",
     "iopub.status.busy": "2025-02-10T18:51:15.279623Z",
     "iopub.status.idle": "2025-02-10T18:51:15.850020Z",
     "shell.execute_reply": "2025-02-10T18:51:15.849695Z",
     "shell.execute_reply.started": "2025-02-10T18:51:15.279733Z"
    },
    "tags": []
   },
   "outputs": [],
   "source": [
    "fig,ax = plt.subplots(1,1,figsize=(18,3))\n",
    "ser_CHI2_FIT_sel.unstack()[\"CHI2_FIT\"][\"std\"].plot(kind='bar',ax=ax ,subplots=False, rot=90,figsize=(18,4),facecolor='r',grid=True,title=\"STD variation CHI2 per night after selection\")\n",
    "plt.tight_layout()"
   ]
  },
  {
   "cell_type": "markdown",
   "id": "2e327548-326f-428f-867f-3ad46e7f6753",
   "metadata": {},
   "source": [
    "## Show time variation each night"
   ]
  },
  {
   "cell_type": "code",
   "execution_count": null,
   "id": "7320d772-3123-4866-8d2c-3c9f0d8769ad",
   "metadata": {
    "execution": {
     "iopub.execute_input": "2025-02-10T18:51:15.850581Z",
     "iopub.status.busy": "2025-02-10T18:51:15.850423Z",
     "iopub.status.idle": "2025-02-10T18:51:15.853069Z",
     "shell.execute_reply": "2025-02-10T18:51:15.852773Z",
     "shell.execute_reply.started": "2025-02-10T18:51:15.850565Z"
    }
   },
   "outputs": [],
   "source": [
    "all_selected_nights = df_spec_sel[\"nightObs\"].unique()"
   ]
  },
  {
   "cell_type": "code",
   "execution_count": null,
   "id": "c8c101b3-7120-4e5b-9da8-f712b21f6c48",
   "metadata": {
    "execution": {
     "iopub.execute_input": "2025-02-10T18:51:15.853564Z",
     "iopub.status.busy": "2025-02-10T18:51:15.853434Z",
     "iopub.status.idle": "2025-02-10T18:51:15.860495Z",
     "shell.execute_reply": "2025-02-10T18:51:15.860191Z",
     "shell.execute_reply.started": "2025-02-10T18:51:15.853549Z"
    }
   },
   "outputs": [],
   "source": [
    "def funclineres(params, x, y, yerr):\n",
    "    # Return residual = fit-observed\n",
    "    return (y-params[0] -params[1]*x)/yerr\n",
    "def funcline(params,x):\n",
    "    return params[0] + params[1]*x"
   ]
  },
  {
   "cell_type": "code",
   "execution_count": null,
   "id": "7f44d061-a0d0-47e6-a47d-13cbe89df180",
   "metadata": {
    "execution": {
     "iopub.execute_input": "2025-02-10T18:51:15.860956Z",
     "iopub.status.busy": "2025-02-10T18:51:15.860840Z",
     "iopub.status.idle": "2025-02-10T18:51:15.867480Z",
     "shell.execute_reply": "2025-02-10T18:51:15.867140Z",
     "shell.execute_reply.started": "2025-02-10T18:51:15.860945Z"
    },
    "tags": []
   },
   "outputs": [],
   "source": [
    "def MakeLineFit(df_night_pwv_curve):\n",
    "    \"\"\"\n",
    "    \"\"\"\n",
    "\n",
    "    x = df_night_pwv_curve[\"dt\"].values\n",
    "    y = df_night_pwv_curve[\"PWV [mm]_x\"].values\n",
    "    yerr = df_night_pwv_curve[\"PWV [mm]_err_x\"].values\n",
    "    n = len(y)\n",
    "        \n",
    "    #popt, pcov = optimize.curve_fit(f, x, y, [1,-4])\n",
    "    fit_res = least_squares(funclineres,[5.,0],args = (x,y,yerr))\n",
    "    popt = fit_res.x \n",
    "    npar = len(popt)\n",
    "    J = fit_res.jac\n",
    "    cov = np.linalg.inv(J.T.dot(J))\n",
    "    chi2dof = ((funclineres(popt,x,y,yerr))**2).sum()/(n-npar)\n",
    "    cov *= chi2dof\n",
    "    perr = np.sqrt(np.diagonal(cov)) \n",
    "    \n",
    "    xfit = np.linspace(x.min()*0.99,x.max()*1.05)\n",
    "    yfit = funcline(popt,xfit)\n",
    "        \n",
    "    slope = popt[1]\n",
    "    slope_err = perr[1]\n",
    "\n",
    "    return x,y,yerr,n,chi2dof,xfit,yfit,slope,slope_err"
   ]
  },
  {
   "cell_type": "markdown",
   "id": "d284eb37-3604-4c46-99d8-19ab0cfe82ed",
   "metadata": {},
   "source": [
    "### Plot night by night"
   ]
  },
  {
   "cell_type": "code",
   "execution_count": null,
   "id": "8ac8f7bb-b70b-419b-bce2-1cde2a694441",
   "metadata": {
    "execution": {
     "iopub.execute_input": "2025-02-10T18:51:15.867945Z",
     "iopub.status.busy": "2025-02-10T18:51:15.867829Z",
     "iopub.status.idle": "2025-02-10T18:51:15.875720Z",
     "shell.execute_reply": "2025-02-10T18:51:15.875370Z",
     "shell.execute_reply.started": "2025-02-10T18:51:15.867934Z"
    },
    "tags": []
   },
   "outputs": [],
   "source": [
    "df_spec_night = df_spec_sel[df_spec_sel[\"nightObs\"] == 20240923]\n",
    "#select the variables\n",
    "df_night_pwv_curve = df_spec_night[[\"nightObs\",\"Time\",\"PWV [mm]_x\",\"PWV [mm]_err_x\",\"PWV [mm]_y\",\"PWV [mm]_err_y\",\"TARGET\"]]\n",
    "tmin = df_night_pwv_curve[\"Time\"].min()\n",
    "df_night_pwv_curve[\"dt\"] = (df_night_pwv_curve[\"Time\"] - tmin).dt.total_seconds()/3600."
   ]
  },
  {
   "cell_type": "code",
   "execution_count": null,
   "id": "f92dcd83-cfb9-4746-998e-1744a274e6f1",
   "metadata": {
    "execution": {
     "iopub.execute_input": "2025-02-10T18:51:15.876218Z",
     "iopub.status.busy": "2025-02-10T18:51:15.876085Z",
     "iopub.status.idle": "2025-02-10T18:51:15.883446Z",
     "shell.execute_reply": "2025-02-10T18:51:15.883102Z",
     "shell.execute_reply.started": "2025-02-10T18:51:15.876206Z"
    },
    "tags": []
   },
   "outputs": [],
   "source": [
    "df_night_pwv_curve.iloc[0]"
   ]
  },
  {
   "cell_type": "code",
   "execution_count": null,
   "id": "1135437e-fab5-4ea0-be44-522c141421a5",
   "metadata": {
    "execution": {
     "iopub.execute_input": "2025-02-10T18:51:15.883934Z",
     "iopub.status.busy": "2025-02-10T18:51:15.883812Z",
     "iopub.status.idle": "2025-02-10T18:51:15.891127Z",
     "shell.execute_reply": "2025-02-10T18:51:15.890778Z",
     "shell.execute_reply.started": "2025-02-10T18:51:15.883923Z"
    },
    "tags": []
   },
   "outputs": [],
   "source": [
    "def ComputeRepeatability(df):\n",
    "    \"\"\"\n",
    "    Compute Repeatability of PWV for Spectrogram and and Spectrum\n",
    "    \n",
    "    \"\"\"\n",
    "    N = len(df)\n",
    "    dfout = pd.DataFrame(index=df.index,columns = [\"nightObs\",\"dt\",\"dt_rep\",\"dPWVx_rep\",\"dPWVy_rep\",\"targflag_rep\",\"Npoints\"])\n",
    "    dfout[\"targflag_rep\"].astype(bool)\n",
    "    #dfout[\"Npoints\"].astype(int)\n",
    "    \n",
    "    target_old = \"No\"\n",
    "    time_old = 0.\n",
    "    pwvx_old = 0.\n",
    "    pwvy_old = 0.\n",
    "    \n",
    "    for index in range(N):\n",
    "        \n",
    "        nightObs =  df.iloc[index][\"nightObs\"]\n",
    "        \n",
    "        if index ==0:\n",
    "            dt0 = df.iloc[index][\"dt\"]\n",
    "            dfout.iloc[index] = [ nightObs,dt0, 0., 0., 0., False,N]\n",
    "        else:\n",
    "            target_new = df.iloc[index][\"TARGET\"]\n",
    "            time_new = df.iloc[index][\"dt\"]\n",
    "            pwvx_new = df.iloc[index][\"PWV [mm]_x\"]\n",
    "            pwvy_new = df.iloc[index][\"PWV [mm]_y\"]\n",
    "            \n",
    "            flag_target = (target_new == target_old)\n",
    "            dPWVx_rep = pwvx_new - pwvx_old\n",
    "            dPWVy_rep = pwvy_new - pwvy_old\n",
    "            dt_rep = (time_new-time_old)*3600. # in seconds\n",
    "            \n",
    "            dfout.iloc[index] = [ nightObs,time_new, dt_rep, dPWVx_rep, dPWVy_rep, flag_target,N]\n",
    "        \n",
    "        target_old = df.iloc[index][\"TARGET\"]\n",
    "        time_old = df.iloc[index][\"dt\"]\n",
    "        pwvx_old = df.iloc[index][\"PWV [mm]_x\"]\n",
    "        pwvy_old = df.iloc[index][\"PWV [mm]_y\"]\n",
    "        \n",
    "    return dfout"
   ]
  },
  {
   "cell_type": "code",
   "execution_count": null,
   "id": "32c57a40-49a0-407d-8e0a-41bbf3697c49",
   "metadata": {
    "execution": {
     "iopub.execute_input": "2025-02-10T18:51:15.891647Z",
     "iopub.status.busy": "2025-02-10T18:51:15.891516Z",
     "iopub.status.idle": "2025-02-10T18:51:15.907837Z",
     "shell.execute_reply": "2025-02-10T18:51:15.907498Z",
     "shell.execute_reply.started": "2025-02-10T18:51:15.891636Z"
    },
    "tags": []
   },
   "outputs": [],
   "source": [
    "ComputeRepeatability(df_night_pwv_curve).head()"
   ]
  },
  {
   "cell_type": "code",
   "execution_count": null,
   "id": "e325547d-9f5e-4336-9fe4-5778597333cf",
   "metadata": {
    "execution": {
     "iopub.execute_input": "2025-02-10T18:51:15.908355Z",
     "iopub.status.busy": "2025-02-10T18:51:15.908231Z",
     "iopub.status.idle": "2025-02-10T18:51:50.390645Z",
     "shell.execute_reply": "2025-02-10T18:51:50.390188Z",
     "shell.execute_reply.started": "2025-02-10T18:51:15.908343Z"
    }
   },
   "outputs": [],
   "source": [
    "all_df_repeatability = []\n",
    "\n",
    "# loop on nights\n",
    "for night in all_selected_nights:\n",
    "    # Select the night\n",
    "    df_spec_night = df_spec_sel[df_spec_sel[\"nightObs\"] == night]\n",
    "    \n",
    "    # Select the variables\n",
    "    df_night_pwv_curve = df_spec_night[[\"nightObs\",\"Time\",\"PWV [mm]_x\",\"PWV [mm]_err_x\",\"PWV [mm]_y\",\"PWV [mm]_err_y\",\"TARGET\"]]\n",
    "\n",
    "    tmin = df_night_pwv_curve[\"Time\"].min()\n",
    "\n",
    "    # Convert in hours\n",
    "    df_night_pwv_curve[\"dt\"] = (df_night_pwv_curve[\"Time\"] - tmin).dt.total_seconds()/3600.\n",
    "    \n",
    "    # Compute the repeatability on PWV x and y\n",
    "    df_rep = ComputeRepeatability(df_night_pwv_curve)\n",
    "    \n",
    "    # Keep all repeatability\n",
    "    all_df_repeatability.append(df_rep)\n",
    "    \n",
    "    cut_on_dt = (df_rep[\"dt_rep\"]>0.) & (df_rep[\"dt_rep\"]< 120.)   \n",
    "    cut_on_target = df_rep[\"targflag_rep\"]\n",
    "    \n",
    "    cut_loose = cut_on_dt\n",
    "    cut_strong = cut_on_dt & cut_on_target \n",
    "        \n",
    "    # plot  \n",
    "    fig,(ax1,ax2,ax3) = plt.subplots(1,3,figsize=(12,4))\n",
    "    \n",
    "    leg1 = ax1.get_legend()\n",
    "    leg2 = ax2.get_legend()\n",
    "    \n",
    "      \n",
    "    df_rep[cut_strong][\"dPWVx_rep\"].hist(ax=ax1,bins=60,range=(-3,3),facecolor=\"b\",legend=leg1,label=\"Same target\")\n",
    "    df_rep[cut_strong][\"dPWVy_rep\"].hist(ax=ax2,bins=60,range=(-3,3),facecolor=\"b\")\n",
    "    \n",
    "    df_rep[cut_loose][\"dPWVx_rep\"].hist(ax=ax1,bins=60,range=(-3,3),color=\"r\",lw=3,histtype=\"step\")\n",
    "    df_rep[cut_loose][\"dPWVy_rep\"].hist(ax=ax2,bins=60,range=(-3,3),color=\"r\",lw=3,histtype=\"step\")\n",
    "    \n",
    "    ax1.set_xlabel(\"PWV (mm)\")\n",
    "    ax1.set_title(\"Spectrogram\")\n",
    "    ax2.set_xlabel(\"PWV (mm)\")\n",
    "    ax2.set_title(\"1D-Spectrum\")\n",
    "    \n",
    "    df_rep[cut_strong].plot.scatter(x=\"dPWVx_rep\",y=\"dPWVy_rep\",marker='.',c=\"b\",ax=ax3)\n",
    "    ax3.set_xlim(-3,3.)\n",
    "    ax3.set_ylim(-3,3.)\n",
    "    ax3.grid()\n",
    "    ax3.set_xlabel(\"PWV (2D) (mm)\")\n",
    "    ax3.set_ylabel(\"PWV (1D) (mm)\")\n",
    "    \n",
    "    \n",
    "    title = f\"PWV repeatability for Night {night}\"\n",
    "    plt.suptitle(title) \n",
    "    plt.tight_layout()\n",
    "    #figname =f\"{pathfigs}/pwv_per_night_{night}\"+figtype\n",
    "    #    plt.savefig(figname)\n",
    "    plt.show()\n",
    "\n",
    "       "
   ]
  },
  {
   "cell_type": "markdown",
   "id": "895370fa-22d6-4f0b-9c2d-ccf93542e7b6",
   "metadata": {},
   "source": [
    "## Merge all repeatability dataFrame"
   ]
  },
  {
   "cell_type": "code",
   "execution_count": null,
   "id": "4c5ba795-ce75-45ae-a56a-f68e3abe4f6f",
   "metadata": {
    "execution": {
     "iopub.execute_input": "2025-02-10T18:51:50.391284Z",
     "iopub.status.busy": "2025-02-10T18:51:50.391134Z",
     "iopub.status.idle": "2025-02-10T18:51:50.396609Z",
     "shell.execute_reply": "2025-02-10T18:51:50.396130Z",
     "shell.execute_reply.started": "2025-02-10T18:51:50.391271Z"
    },
    "tags": []
   },
   "outputs": [],
   "source": [
    "df_allrep = pd.concat(all_df_repeatability)"
   ]
  },
  {
   "cell_type": "code",
   "execution_count": null,
   "id": "2befb9b6-3662-4118-9043-b24398948cc3",
   "metadata": {
    "execution": {
     "iopub.execute_input": "2025-02-10T18:51:50.397116Z",
     "iopub.status.busy": "2025-02-10T18:51:50.396998Z",
     "iopub.status.idle": "2025-02-10T18:51:50.407382Z",
     "shell.execute_reply": "2025-02-10T18:51:50.407000Z",
     "shell.execute_reply.started": "2025-02-10T18:51:50.397105Z"
    },
    "tags": []
   },
   "outputs": [],
   "source": [
    "df_allrep.head()"
   ]
  },
  {
   "cell_type": "markdown",
   "id": "1f3e910e-1dab-4da8-b9ef-6156a63f69b8",
   "metadata": {},
   "source": [
    "## Selection"
   ]
  },
  {
   "cell_type": "code",
   "execution_count": null,
   "id": "5c8f7262-63b8-4d88-b12f-a2dd9d8c7825",
   "metadata": {
    "execution": {
     "iopub.execute_input": "2025-02-10T18:51:50.407954Z",
     "iopub.status.busy": "2025-02-10T18:51:50.407830Z",
     "iopub.status.idle": "2025-02-10T18:51:50.414908Z",
     "shell.execute_reply": "2025-02-10T18:51:50.414519Z",
     "shell.execute_reply.started": "2025-02-10T18:51:50.407942Z"
    },
    "tags": []
   },
   "outputs": [],
   "source": [
    "cut_on_dt = (df_allrep[\"dt_rep\"]>0.) & (df_allrep[\"dt_rep\"]< 120.) & (df_allrep[\"Npoints\"] > 10.)     \n",
    "cut_on_target = df_allrep[\"targflag_rep\"]\n",
    "    \n",
    "cut_loose = cut_on_dt\n",
    "cut_strong = cut_on_dt & cut_on_target "
   ]
  },
  {
   "cell_type": "code",
   "execution_count": null,
   "id": "2ad0b431-1278-43f8-a544-f9523b910669",
   "metadata": {
    "execution": {
     "iopub.execute_input": "2025-02-10T18:51:50.415545Z",
     "iopub.status.busy": "2025-02-10T18:51:50.415385Z",
     "iopub.status.idle": "2025-02-10T18:51:50.423822Z",
     "shell.execute_reply": "2025-02-10T18:51:50.423438Z",
     "shell.execute_reply.started": "2025-02-10T18:51:50.415533Z"
    },
    "tags": []
   },
   "outputs": [],
   "source": [
    "dfl = df_allrep[cut_loose][[\"dt\",\"dt_rep\",\"dPWVx_rep\",\"dPWVy_rep\"]]\n",
    "dfs = df_allrep[cut_strong][[\"dt\",\"dt_rep\",\"dPWVx_rep\",\"dPWVy_rep\"]]"
   ]
  },
  {
   "cell_type": "markdown",
   "id": "cbbb1cd2-5777-4971-8eaa-2631b50872f1",
   "metadata": {},
   "source": [
    "### Compute Statistics\n",
    "\n",
    "- apply statistics on strong criteria"
   ]
  },
  {
   "cell_type": "code",
   "execution_count": null,
   "id": "e3ec7d93-ecbf-4ed4-aa39-a36d20ccbde0",
   "metadata": {
    "execution": {
     "iopub.execute_input": "2025-02-10T18:51:50.424380Z",
     "iopub.status.busy": "2025-02-10T18:51:50.424254Z",
     "iopub.status.idle": "2025-02-10T18:51:50.442086Z",
     "shell.execute_reply": "2025-02-10T18:51:50.441687Z",
     "shell.execute_reply.started": "2025-02-10T18:51:50.424369Z"
    },
    "tags": []
   },
   "outputs": [],
   "source": [
    "dfs_stat = dfs.aggregate([\"count\",\"mean\",\"std\"])\n",
    "meanx = dfs_stat.loc[\"mean\",\"dPWVx_rep\"]\n",
    "stdx = dfs_stat.loc[\"std\",\"dPWVx_rep\"]\n",
    "meany = dfs_stat.loc[\"mean\",\"dPWVy_rep\"]\n",
    "stdy = dfs_stat.loc[\"std\",\"dPWVy_rep\"]\n",
    "\n",
    "dfs[\"ddPWVx_rep\"] = np.abs(dfs[\"dPWVx_rep\"] - meanx)\n",
    "dfs[\"ddPWVy_rep\"] = np.abs(dfs[\"dPWVy_rep\"] - meany)\n",
    "\n",
    "dfs_stat = dfs.aggregate([\"count\",\"mean\",\"std\"])\n",
    "\n",
    "meanx = dfs_stat.loc[\"mean\",\"dPWVx_rep\"]\n",
    "stdx = dfs_stat.loc[\"std\",\"dPWVx_rep\"]\n",
    "madx =  dfs_stat.loc[\"mean\",\"ddPWVx_rep\"]\n",
    "sigma_madx = np.sqrt(np.pi/2.)*madx\n",
    "\n",
    "meany = dfs_stat.loc[\"mean\",\"dPWVy_rep\"]\n",
    "stdy = dfs_stat.loc[\"std\",\"dPWVy_rep\"]\n",
    "mady =  dfs_stat.loc[\"mean\",\"ddPWVy_rep\"]\n",
    "sigma_mady = np.sqrt(np.pi/2.)*mady\n",
    "\n",
    "textstr_pwvx = \"$\\delta_{pwv}$ = \"+ f\"{meanx:.2f}\" + \"$\\pm + $\" + f\"{stdx:.2f} mm\" + \"\\n\" + \"$\\\\sigma_{MAD} = $\" + f\" {sigma_madx:.2f} mm\"\n",
    "textstr_pwvy = \"$\\delta_{pwv}$ = \"+ f\"{meany:.2f}\" + \"$\\pm + $\" + f\"{stdy:.2f} mm\" + \"\\n\" + \"$\\\\sigma_{MAD} = $\" + f\" {sigma_mady:.2f} mm\""
   ]
  },
  {
   "cell_type": "markdown",
   "id": "a86c1815-896b-4d16-b26a-239cf73e2232",
   "metadata": {},
   "source": [
    "## Plot repeatability"
   ]
  },
  {
   "cell_type": "code",
   "execution_count": null,
   "id": "f8c46edb-ac4b-4919-96dd-0a69f8067c41",
   "metadata": {
    "execution": {
     "iopub.execute_input": "2025-02-10T19:06:19.822953Z",
     "iopub.status.busy": "2025-02-10T19:06:19.822396Z",
     "iopub.status.idle": "2025-02-10T19:06:20.121229Z",
     "shell.execute_reply": "2025-02-10T19:06:20.120788Z",
     "shell.execute_reply.started": "2025-02-10T19:06:19.822937Z"
    },
    "tags": []
   },
   "outputs": [],
   "source": [
    "# plot  \n",
    "fig,ax1 = plt.subplots(1,1,figsize=(4,4),layout='constrained')\n",
    "    \n",
    "leg1 = ax1.get_legend()\n",
    "     \n",
    "df_allrep[cut_strong][\"dPWVx_rep\"].hist(ax=ax1,bins=60,range=(-3,3),facecolor=\"b\",legend=leg1,label=\"Same target\") \n",
    "df_allrep[cut_loose][\"dPWVx_rep\"].hist(ax=ax1,bins=60,range=(-3,3),color=\"r\",lw=3,histtype=\"step\")\n",
    "\n",
    "ax1.set_xlabel(\"$\\Delta$ PWV (mm)\")\n",
    "\n",
    "if FLAG_WITHCOLLIMATOR:\n",
    "    title = \"PWV repeatability over all nights (2023-2024)\"\n",
    "else:\n",
    "    title = \"PWV repeatability over all nights (01/2023-10/2024)\"\n",
    "\n",
    "ax1.set_title(title,fontsize=12)\n",
    "ax1.text(0.05, 0.95, textstr_pwvx, transform=ax1.transAxes, fontsize=14,verticalalignment='top', bbox=props)\n",
    "#ax1.legend()\n",
    "\n",
    "figname =f\"{pathfigs}/pwv_repeatability_allnights_single\"+figtype\n",
    "plt.savefig(figname)\n",
    "plt.show()"
   ]
  },
  {
   "cell_type": "code",
   "execution_count": null,
   "id": "a7a925fa-e995-4544-b8ff-cbf513dc1e47",
   "metadata": {},
   "outputs": [],
   "source": []
  }
 ],
 "metadata": {
  "kernelspec": {
   "display_name": "Python 3 (ipykernel)",
   "language": "python",
   "name": "python3"
  },
  "language_info": {
   "codemirror_mode": {
    "name": "ipython",
    "version": 3
   },
   "file_extension": ".py",
   "mimetype": "text/x-python",
   "name": "python",
   "nbconvert_exporter": "python",
   "pygments_lexer": "ipython3",
   "version": "3.11.9"
  }
 },
 "nbformat": 4,
 "nbformat_minor": 5
}
