{
 "cells": [
  {
   "cell_type": "markdown",
   "id": "1a116759-4795-407d-b4bf-a9bf0bc825ff",
   "metadata": {},
   "source": [
    "## Butler queries"
   ]
  },
  {
   "cell_type": "markdown",
   "id": "7268473d-63cd-4229-98a0-0156192770c4",
   "metadata": {},
   "source": [
    "#### Butler access\n",
    "\n",
    "- these access may change with time\n",
    "- check my collections are found"
   ]
  },
  {
   "cell_type": "code",
   "execution_count": null,
   "id": "4e993061-f9f9-4bda-baea-83712a642619",
   "metadata": {
    "execution": {
     "iopub.execute_input": "2025-01-08T15:03:22.720511Z",
     "iopub.status.busy": "2025-01-08T15:03:22.720372Z",
     "iopub.status.idle": "2025-01-08T15:03:28.828350Z",
     "shell.execute_reply": "2025-01-08T15:03:28.827762Z",
     "shell.execute_reply.started": "2025-01-08T15:03:22.720496Z"
    }
   },
   "outputs": [],
   "source": [
    "from lsst.summit.utils.utils import checkStackSetup\n",
    "checkStackSetup()"
   ]
  },
  {
   "cell_type": "code",
   "execution_count": null,
   "id": "559fc298-c885-4c85-9587-53d8b8f3528d",
   "metadata": {
    "execution": {
     "iopub.execute_input": "2025-01-08T15:03:28.829592Z",
     "iopub.status.busy": "2025-01-08T15:03:28.828967Z",
     "iopub.status.idle": "2025-01-08T15:03:30.181500Z",
     "shell.execute_reply": "2025-01-08T15:03:30.181011Z",
     "shell.execute_reply.started": "2025-01-08T15:03:28.829575Z"
    }
   },
   "outputs": [],
   "source": [
    "#Notice before I had to use these lines to access to butler\n",
    "import lsst.summit.utils.butlerUtils as butlerUtils\n",
    "butler = butlerUtils.makeDefaultLatissButler(embargo=True)\n",
    "\n",
    "# Now I have to use these lines\n",
    "import lsst.daf.butler as dafButler\n",
    "#repo = \"/repo/main\"\n",
    "#repo = \"/repo/embargo_old\"\n",
    "repo = \"/repo/embargo\"\n",
    "\n",
    "\n",
    "butler = dafButler.Butler(repo)\n",
    "registry = butler.registry\n",
    "\n",
    "for c in sorted(registry.queryCollections()):\n",
    "    #if \"u/jneveu\" in c and \"auxtel_atmo\" in c and \"SensorFlat\" in c and \"FixA1\" in c:\n",
    "    if \"u/dagoret\" in c and \"auxtel_atmo\" in c and \"SensorFlat\" in c and \"FixA1\" in c:\n",
    "        print(c)"
   ]
  },
  {
   "cell_type": "code",
   "execution_count": null,
   "id": "8e0257e4-51d3-4ccb-a84c-49d9c06b05a7",
   "metadata": {
    "execution": {
     "iopub.execute_input": "2025-01-08T15:03:30.182207Z",
     "iopub.status.busy": "2025-01-08T15:03:30.182040Z",
     "iopub.status.idle": "2025-01-08T15:03:30.695399Z",
     "shell.execute_reply": "2025-01-08T15:03:30.694926Z",
     "shell.execute_reply.started": "2025-01-08T15:03:30.182191Z"
    }
   },
   "outputs": [],
   "source": [
    "for c in sorted(registry.queryCollections()):\n",
    "    if \"ptc\" in c:\n",
    "        print(c)"
   ]
  },
  {
   "cell_type": "code",
   "execution_count": null,
   "id": "2be40ccd-b1fe-46ea-9c36-b6a2bbec8129",
   "metadata": {},
   "outputs": [],
   "source": []
  }
 ],
 "metadata": {
  "kernelspec": {
   "display_name": "LSST",
   "language": "python",
   "name": "lsst"
  },
  "language_info": {
   "codemirror_mode": {
    "name": "ipython",
    "version": 3
   },
   "file_extension": ".py",
   "mimetype": "text/x-python",
   "name": "python",
   "nbconvert_exporter": "python",
   "pygments_lexer": "ipython3",
   "version": "3.11.9"
  }
 },
 "nbformat": 4,
 "nbformat_minor": 5
}
