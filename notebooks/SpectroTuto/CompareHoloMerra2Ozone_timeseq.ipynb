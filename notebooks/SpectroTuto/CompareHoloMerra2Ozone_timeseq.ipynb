{
 "cells": [
  {
   "cell_type": "markdown",
   "id": "45bf4242-bfc5-4d43-88c4-a8059ae148df",
   "metadata": {},
   "source": [
    "# Compare hologram data with MERRA2 on Ozone"
   ]
  },
  {
   "cell_type": "markdown",
   "id": "01993b6e-6438-4fca-a5d5-1f9791336847",
   "metadata": {},
   "source": [
    "- author Sylvie Dagoret-Campagne\n",
    "- affiliation : IJCLab\n",
    "- creation date 2024-10-15\n",
    "- last update 2024-10-16 (faint,bright, polar or not)\n",
    "- last update 2024-10-17 with version v5\n",
    "- last update 2024-10-18 : SupperImpose 2022,2023,2024\n",
    "- last update : 2024-10-19 : Correct bugs on individual night curves\n",
    "- Office emac : mamba_py311\n",
    "- Home emac : base (conda)\n",
    "- laptop : conda_py310"
   ]
  },
  {
   "cell_type": "markdown",
   "id": "c025250c-6ceb-42f6-b2cc-2aa07987df55",
   "metadata": {},
   "source": [
    "**Goal** : Show Night variations of Ozone wrt date and Time. Fit a straight line."
   ]
  },
  {
   "cell_type": "code",
   "execution_count": null,
   "id": "dcc53afe-c58f-4948-92c9-0090d373ad2a",
   "metadata": {
    "execution": {
     "iopub.execute_input": "2024-12-09T16:23:45.958402Z",
     "iopub.status.busy": "2024-12-09T16:23:45.958080Z",
     "iopub.status.idle": "2024-12-09T16:23:45.960233Z",
     "shell.execute_reply": "2024-12-09T16:23:45.959929Z",
     "shell.execute_reply.started": "2024-12-09T16:23:45.958388Z"
    }
   },
   "outputs": [],
   "source": [
    "import warnings\n",
    "warnings.resetwarnings()\n",
    "warnings.simplefilter('ignore')"
   ]
  },
  {
   "cell_type": "code",
   "execution_count": null,
   "id": "8026d265-2493-4045-afec-26205ff71f7c",
   "metadata": {
    "execution": {
     "iopub.execute_input": "2024-12-09T16:23:45.960717Z",
     "iopub.status.busy": "2024-12-09T16:23:45.960597Z",
     "iopub.status.idle": "2024-12-09T16:23:45.971238Z",
     "shell.execute_reply": "2024-12-09T16:23:45.970946Z",
     "shell.execute_reply.started": "2024-12-09T16:23:45.960706Z"
    },
    "tags": []
   },
   "outputs": [],
   "source": [
    "from platform import python_version\n",
    "print(python_version())"
   ]
  },
  {
   "cell_type": "code",
   "execution_count": null,
   "id": "eb1f116e-80e3-46ad-a7db-7f253632e5ca",
   "metadata": {
    "execution": {
     "iopub.execute_input": "2024-12-09T16:23:45.971717Z",
     "iopub.status.busy": "2024-12-09T16:23:45.971585Z",
     "iopub.status.idle": "2024-12-09T16:23:45.977312Z",
     "shell.execute_reply": "2024-12-09T16:23:45.977037Z",
     "shell.execute_reply.started": "2024-12-09T16:23:45.971705Z"
    }
   },
   "outputs": [],
   "source": [
    "import os"
   ]
  },
  {
   "cell_type": "code",
   "execution_count": null,
   "id": "3ec760cd-3d3f-4a34-a6f6-b226fe500951",
   "metadata": {
    "execution": {
     "iopub.execute_input": "2024-12-09T16:23:45.978855Z",
     "iopub.status.busy": "2024-12-09T16:23:45.978593Z",
     "iopub.status.idle": "2024-12-09T16:23:45.983819Z",
     "shell.execute_reply": "2024-12-09T16:23:45.983513Z",
     "shell.execute_reply.started": "2024-12-09T16:23:45.978841Z"
    }
   },
   "outputs": [],
   "source": [
    "# where are stored the figures\n",
    "pathfigs = \"figsHoloMetta2Ozone\"\n",
    "if not os.path.exists(pathfigs):\n",
    "    os.makedirs(pathfigs) \n",
    "figtype = \".png\""
   ]
  },
  {
   "cell_type": "code",
   "execution_count": null,
   "id": "bf752b70-e6ca-4cbf-8e8c-20bf7f0d8f61",
   "metadata": {
    "execution": {
     "iopub.execute_input": "2024-12-09T16:23:45.984359Z",
     "iopub.status.busy": "2024-12-09T16:23:45.984227Z",
     "iopub.status.idle": "2024-12-09T16:23:47.021710Z",
     "shell.execute_reply": "2024-12-09T16:23:47.021332Z",
     "shell.execute_reply.started": "2024-12-09T16:23:45.984347Z"
    }
   },
   "outputs": [],
   "source": [
    "import numpy as np\n",
    "from numpy.linalg import inv\n",
    "import matplotlib as mpl\n",
    "import matplotlib.pyplot as plt\n",
    "%matplotlib inline\n",
    "from mpl_toolkits.axes_grid1 import make_axes_locatable\n",
    "from matplotlib.colors import LogNorm,SymLogNorm\n",
    "from matplotlib.patches import Circle,Annulus\n",
    "from astropy.visualization import ZScaleInterval\n",
    "props = dict(boxstyle='round', facecolor=\"white\", alpha=0.1)\n",
    "#props = dict(boxstyle='round')\n",
    "\n",
    "import matplotlib.colors as colors\n",
    "import matplotlib.cm as cmx\n",
    "\n",
    "import matplotlib.ticker                         # here's where the formatter is\n",
    "from matplotlib.ticker import (MultipleLocator, FormatStrFormatter,\n",
    "                               AutoMinorLocator)\n",
    "\n",
    "from matplotlib.gridspec import GridSpec\n",
    "\n",
    "from astropy.visualization import (MinMaxInterval, SqrtStretch,ZScaleInterval,PercentileInterval,\n",
    "                                   ImageNormalize,imshow_norm)\n",
    "from astropy.visualization.stretch import SinhStretch, LinearStretch,AsinhStretch,LogStretch\n",
    "\n",
    "from astropy.io import fits\n",
    "from astropy.wcs import WCS\n",
    "from astropy import units as u\n",
    "from astropy import constants as c\n",
    "\n",
    "from astropy.coordinates.earth import EarthLocation\n",
    "from datetime import datetime\n",
    "from pytz import timezone\n",
    "\n",
    "from scipy import interpolate\n",
    "from sklearn.neighbors import NearestNeighbors\n",
    "from sklearn.neighbors import KDTree, BallTree\n",
    "\n",
    "import pandas as pd\n",
    "pd.set_option(\"display.max_columns\", None)\n",
    "pd.set_option('display.max_rows', 100)\n",
    "\n",
    "import matplotlib.ticker                         # here's where the formatter is\n",
    "import os\n",
    "import re\n",
    "import pandas as pd\n",
    "import pickle\n",
    "from collections import OrderedDict\n",
    "\n",
    "plt.rcParams[\"figure.figsize\"] = (4,3)\n",
    "plt.rcParams[\"axes.labelsize\"] = 'xx-large'\n",
    "plt.rcParams['axes.titlesize'] = 'xx-large'\n",
    "plt.rcParams['xtick.labelsize']= 'xx-large'\n",
    "plt.rcParams['ytick.labelsize']= 'xx-large'\n",
    "\n",
    "import scipy\n",
    "from scipy.optimize import curve_fit,least_squares\n",
    "\n",
    "\n",
    "# new color correction model\n",
    "import pickle\n",
    "from scipy.interpolate import RegularGridInterpolator"
   ]
  },
  {
   "cell_type": "code",
   "execution_count": null,
   "id": "0ca0d1e6-5f82-4c43-aaa3-8524fc2bc5ba",
   "metadata": {
    "execution": {
     "iopub.execute_input": "2024-12-09T16:23:47.022463Z",
     "iopub.status.busy": "2024-12-09T16:23:47.022172Z",
     "iopub.status.idle": "2024-12-09T16:23:47.024826Z",
     "shell.execute_reply": "2024-12-09T16:23:47.024533Z",
     "shell.execute_reply.started": "2024-12-09T16:23:47.022436Z"
    }
   },
   "outputs": [],
   "source": [
    "from matplotlib.ticker import (MultipleLocator, FormatStrFormatter,\n",
    "                               AutoMinorLocator)\n",
    "\n",
    "from astropy.visualization import (MinMaxInterval, SqrtStretch,ZScaleInterval,PercentileInterval,\n",
    "                                   ImageNormalize,imshow_norm)\n",
    "from astropy.visualization.stretch import SinhStretch, LinearStretch,AsinhStretch,LogStretch\n",
    "\n",
    "from astropy.time import Time\n"
   ]
  },
  {
   "cell_type": "code",
   "execution_count": null,
   "id": "e189816c-5048-43ab-a01a-7c078af54489",
   "metadata": {
    "execution": {
     "iopub.execute_input": "2024-12-09T16:23:47.025362Z",
     "iopub.status.busy": "2024-12-09T16:23:47.025163Z",
     "iopub.status.idle": "2024-12-09T16:23:47.031915Z",
     "shell.execute_reply": "2024-12-09T16:23:47.031634Z",
     "shell.execute_reply.started": "2024-12-09T16:23:47.025350Z"
    }
   },
   "outputs": [],
   "source": [
    "# Remove this if want to run faster the ntoebook\n",
    "#import ipywidgets as widgets\n",
    "#%matplotlib widget"
   ]
  },
  {
   "cell_type": "code",
   "execution_count": null,
   "id": "67327fd4-e405-45ce-8923-cd46ebaa0c0f",
   "metadata": {
    "execution": {
     "iopub.execute_input": "2024-12-09T16:23:47.032370Z",
     "iopub.status.busy": "2024-12-09T16:23:47.032248Z",
     "iopub.status.idle": "2024-12-09T16:23:47.038423Z",
     "shell.execute_reply": "2024-12-09T16:23:47.038155Z",
     "shell.execute_reply.started": "2024-12-09T16:23:47.032358Z"
    },
    "tags": []
   },
   "outputs": [],
   "source": [
    "from importlib.metadata import version"
   ]
  },
  {
   "cell_type": "code",
   "execution_count": null,
   "id": "af8332dd-24f9-4b19-88f9-c62d0a4aebf1",
   "metadata": {
    "execution": {
     "iopub.execute_input": "2024-12-09T16:23:47.038873Z",
     "iopub.status.busy": "2024-12-09T16:23:47.038752Z",
     "iopub.status.idle": "2024-12-09T16:23:47.044229Z",
     "shell.execute_reply": "2024-12-09T16:23:47.043963Z",
     "shell.execute_reply.started": "2024-12-09T16:23:47.038862Z"
    },
    "tags": []
   },
   "outputs": [],
   "source": [
    "# wavelength bin colors\n",
    "#jet = plt.get_cmap('jet')\n",
    "#cNorm = mpl.colors.Normalize(vmin=0, vmax=NSED)\n",
    "#scalarMap = cmx.ScalarMappable(norm=cNorm, cmap=jet)\n",
    "#all_colors = scalarMap.to_rgba(np.arange(NSED), alpha=1)"
   ]
  },
  {
   "cell_type": "code",
   "execution_count": null,
   "id": "1d91654a-81b0-400c-b527-410d78091cda",
   "metadata": {
    "execution": {
     "iopub.execute_input": "2024-12-09T16:23:47.044708Z",
     "iopub.status.busy": "2024-12-09T16:23:47.044589Z",
     "iopub.status.idle": "2024-12-09T16:23:47.050735Z",
     "shell.execute_reply": "2024-12-09T16:23:47.050437Z",
     "shell.execute_reply.started": "2024-12-09T16:23:47.044698Z"
    }
   },
   "outputs": [],
   "source": [
    "def convertNumToDatestr(num):\n",
    "    year = num//10_000\n",
    "    month= (num-year*10_000)//100\n",
    "    day = (num-year*10_000-month*100)\n",
    "\n",
    "    year_str = str(year).zfill(4)\n",
    "    month_str = str(month).zfill(2)\n",
    "    day_str = str(day).zfill(2)\n",
    "    \n",
    "    datestr = f\"{year_str}-{month_str}-{day_str}\"\n",
    "    return pd.to_datetime(datestr)"
   ]
  },
  {
   "cell_type": "markdown",
   "id": "4f13d6a3-7793-4bc0-920a-1d690d9f84b2",
   "metadata": {},
   "source": [
    "## Configuration"
   ]
  },
  {
   "cell_type": "code",
   "execution_count": null,
   "id": "cdc3ec4a-8902-4bc6-aa65-ed657e1bed3c",
   "metadata": {
    "execution": {
     "iopub.execute_input": "2024-12-09T16:23:47.051295Z",
     "iopub.status.busy": "2024-12-09T16:23:47.051080Z",
     "iopub.status.idle": "2024-12-09T16:23:47.160632Z",
     "shell.execute_reply": "2024-12-09T16:23:47.160164Z",
     "shell.execute_reply.started": "2024-12-09T16:23:47.051283Z"
    }
   },
   "outputs": [],
   "source": [
    "observing_location = EarthLocation.of_site('Rubin Observatory')\n",
    "tz = timezone('America/Santiago')"
   ]
  },
  {
   "cell_type": "markdown",
   "id": "b360ed09-ca61-47d8-9399-430f96e52591",
   "metadata": {},
   "source": [
    "### Spectro Hologram data"
   ]
  },
  {
   "cell_type": "code",
   "execution_count": null,
   "id": "315dbd63-428d-4d7e-8c2a-1dd7e8b05983",
   "metadata": {
    "execution": {
     "iopub.execute_input": "2024-12-09T16:23:47.161130Z",
     "iopub.status.busy": "2024-12-09T16:23:47.160978Z",
     "iopub.status.idle": "2024-12-09T16:23:47.164830Z",
     "shell.execute_reply": "2024-12-09T16:23:47.164339Z",
     "shell.execute_reply.started": "2024-12-09T16:23:47.161118Z"
    }
   },
   "outputs": [],
   "source": [
    "FLAG_WITHCOLLIMATOR = True\n",
    "DATE_WITHCOLLIMATOR = 20230930\n",
    "datetime_WITHCOLLIMATOR = convertNumToDatestr(DATE_WITHCOLLIMATOR)\n",
    "datetime_WITHCOLLIMATOR = pd.to_datetime(\"2023-09-30 00:00:00.0+0000\")\n",
    "datetime_WITHCOLLIMATOR"
   ]
  },
  {
   "cell_type": "code",
   "execution_count": null,
   "id": "5bac0cab-3886-4683-b1c8-fc59edacfd46",
   "metadata": {
    "execution": {
     "iopub.execute_input": "2024-12-09T16:23:47.165467Z",
     "iopub.status.busy": "2024-12-09T16:23:47.165257Z",
     "iopub.status.idle": "2024-12-09T16:23:47.171110Z",
     "shell.execute_reply": "2024-12-09T16:23:47.170728Z",
     "shell.execute_reply.started": "2024-12-09T16:23:47.165455Z"
    },
    "tags": []
   },
   "outputs": [],
   "source": [
    "version_results = \"v5\"\n",
    "legendtag = {\"v1\" : \"old v3.1.0\",\n",
    "            \"v2\" : \"v3.1.0-PWV<10mm\",\n",
    "            \"v3\" : \"v3.1.0-PWV<15mm\",\n",
    "            \"v4\" : \"Auxtel holo v3.1.0\",\n",
    "            \"v5\" : \"Auxtel holo v3.1.0 09/22 - 10/24\"}"
   ]
  },
  {
   "cell_type": "code",
   "execution_count": null,
   "id": "6cae5fdd-2d14-4f15-ae3f-0a093a045cff",
   "metadata": {
    "execution": {
     "iopub.execute_input": "2024-12-09T16:23:47.171793Z",
     "iopub.status.busy": "2024-12-09T16:23:47.171613Z",
     "iopub.status.idle": "2024-12-09T16:23:47.177748Z",
     "shell.execute_reply": "2024-12-09T16:23:47.177347Z",
     "shell.execute_reply.started": "2024-12-09T16:23:47.171780Z"
    }
   },
   "outputs": [],
   "source": [
    "atmfilenamesdict = {\"v1\" : \"data/spectro/auxtel_atmosphere_202301_v3.1.0_doSensorFlat_rebin2_testWithMaskedEdges_newBoundaries_newPolysRescaled_newFitBounds_adjustA1_lockedOrder2_removeThroughputTails_2.npy\",\n",
    "                    \"v2\" : \"auxtel_atmosphere_202301_v3.1.0_doSensorFlat_rebin2_lockedOrder2_FixA1_FixA2_FitAngstrom_FixA1_FixA2_FitAngstrom_WithGaia_freePressure_newThroughput6_BG40Scaled1.09_PeekFinder.npy\",\n",
    "                    \"v3\" : \"u_dagoret_auxtel_atmosphere_202301_v3.1.0_doSensorFlat_rebin2_lockedOrder2_FixA1_FixA2_FitAngstrom_WithGaia_freePressure_newThroughput6_BG40Scaled1.09_AtmoFitPressureA2_SpecErr_PeekFinder_20240924T161119Z.npy\",\n",
    "                    \"v4\" : \"u_dagoret_auxtel_atmosphere_202301_v3.1.0_doSensorFlat_rebin2_lockedOrder2_FixA1_FixA2_FitAngstrom_WithGaia_freePressure_newThroughput6_BG40Scaled1.09_AtmoFitPressureA2_SpecErr_PeekFinder_20240924T161119Z_spectrfullextend.npy\",\n",
    "                    \"v5\" : \"u_dagoret_auxtel_atmosphere_202209_v3.1.0_doSensorFlat_rebin2_lockedOrder2_FixA1_FixA2_FitAngstrom_WithGaia_freePressure_newThroughput6_BG40Scaled1.09_AtmoFitPressureA2_SpecErr_No5SigmaClip_20241016T184601Z_spectrfullextended.npy\"}"
   ]
  },
  {
   "cell_type": "code",
   "execution_count": null,
   "id": "a2a9c11f-05b8-4465-b96a-3f18d81572f0",
   "metadata": {
    "execution": {
     "iopub.execute_input": "2024-12-09T16:23:47.178293Z",
     "iopub.status.busy": "2024-12-09T16:23:47.178176Z",
     "iopub.status.idle": "2024-12-09T16:23:47.183981Z",
     "shell.execute_reply": "2024-12-09T16:23:47.183575Z",
     "shell.execute_reply.started": "2024-12-09T16:23:47.178282Z"
    }
   },
   "outputs": [],
   "source": [
    "atmfilename = atmfilenamesdict[version_results]\n",
    "tag = legendtag[version_results] "
   ]
  },
  {
   "cell_type": "markdown",
   "id": "54a67a3a-0065-4305-b384-14ea7a930bf9",
   "metadata": {},
   "source": [
    "### MERRA2"
   ]
  },
  {
   "cell_type": "code",
   "execution_count": null,
   "id": "7a6a72c0-b7c3-4dbd-9a0a-600d3d91e98f",
   "metadata": {
    "execution": {
     "iopub.execute_input": "2024-12-09T16:23:47.184632Z",
     "iopub.status.busy": "2024-12-09T16:23:47.184493Z",
     "iopub.status.idle": "2024-12-09T16:23:47.191131Z",
     "shell.execute_reply": "2024-12-09T16:23:47.190809Z",
     "shell.execute_reply.started": "2024-12-09T16:23:47.184620Z"
    }
   },
   "outputs": [],
   "source": [
    "filename_m2 = \"../SpectroMerra2/MerradataMerged/Merge_inst1_2d_asm_Nx_M2I1NXASM-2021-2024.csv\""
   ]
  },
  {
   "cell_type": "code",
   "execution_count": null,
   "id": "1e08df07-6223-4bcf-bcb6-2226de55433c",
   "metadata": {
    "execution": {
     "iopub.execute_input": "2024-12-09T16:23:47.191665Z",
     "iopub.status.busy": "2024-12-09T16:23:47.191521Z",
     "iopub.status.idle": "2024-12-09T16:23:47.255313Z",
     "shell.execute_reply": "2024-12-09T16:23:47.254856Z",
     "shell.execute_reply.started": "2024-12-09T16:23:47.191655Z"
    }
   },
   "outputs": [],
   "source": [
    "df_m = pd.read_csv(filename_m2)"
   ]
  },
  {
   "cell_type": "markdown",
   "id": "f7458eb3-ece8-4c6d-969e-ee8edc0bcbef",
   "metadata": {},
   "source": [
    "## Initialisation"
   ]
  },
  {
   "cell_type": "markdown",
   "id": "862ec9d0-2c81-4fda-8a5a-4ba1d24fb1b0",
   "metadata": {},
   "source": [
    "### Read the file"
   ]
  },
  {
   "cell_type": "code",
   "execution_count": null,
   "id": "ad60336b-f26f-4184-bcdf-e596329ecbbd",
   "metadata": {
    "execution": {
     "iopub.execute_input": "2024-12-09T16:23:47.255922Z",
     "iopub.status.busy": "2024-12-09T16:23:47.255791Z",
     "iopub.status.idle": "2024-12-09T16:23:47.427057Z",
     "shell.execute_reply": "2024-12-09T16:23:47.426596Z",
     "shell.execute_reply.started": "2024-12-09T16:23:47.255910Z"
    }
   },
   "outputs": [],
   "source": [
    "specdata = np.load(atmfilename,allow_pickle=True)"
   ]
  },
  {
   "cell_type": "code",
   "execution_count": null,
   "id": "3d9c7249-f818-4a98-8000-9be75b3c7a21",
   "metadata": {
    "execution": {
     "iopub.execute_input": "2024-12-09T16:23:47.430157Z",
     "iopub.status.busy": "2024-12-09T16:23:47.429966Z",
     "iopub.status.idle": "2024-12-09T16:23:47.444324Z",
     "shell.execute_reply": "2024-12-09T16:23:47.443904Z",
     "shell.execute_reply.started": "2024-12-09T16:23:47.430143Z"
    }
   },
   "outputs": [],
   "source": [
    "df_spec = pd.DataFrame(specdata)"
   ]
  },
  {
   "cell_type": "markdown",
   "id": "62c4f792-6c5c-4c9b-a628-7cf9d0a5c048",
   "metadata": {},
   "source": [
    "### Define if a target is faint or bright"
   ]
  },
  {
   "cell_type": "code",
   "execution_count": null,
   "id": "0a0b1545-f79d-437f-95f2-39f1945cada7",
   "metadata": {
    "execution": {
     "iopub.execute_input": "2024-12-09T16:23:47.444960Z",
     "iopub.status.busy": "2024-12-09T16:23:47.444821Z",
     "iopub.status.idle": "2024-12-09T16:23:47.447483Z",
     "shell.execute_reply": "2024-12-09T16:23:47.447111Z",
     "shell.execute_reply.started": "2024-12-09T16:23:47.444943Z"
    }
   },
   "outputs": [],
   "source": [
    "def IsFaint(row):\n",
    "    List_Of_Faint_targets = ['Feige110','HD074000','HD115169','HD031128','HD200654','HD167060','HD009051','HD142331','HD160617','HD111980']\n",
    "    List_Of_faint_selected = List_Of_Faint_targets[:10]\n",
    "    if row[\"TARGET\"] in List_Of_faint_selected:\n",
    "        return True\n",
    "    else:\n",
    "        return False"
   ]
  },
  {
   "cell_type": "code",
   "execution_count": null,
   "id": "f6232b90-16d5-4cf7-958c-630d298f2583",
   "metadata": {
    "execution": {
     "iopub.execute_input": "2024-12-09T16:23:47.448011Z",
     "iopub.status.busy": "2024-12-09T16:23:47.447887Z",
     "iopub.status.idle": "2024-12-09T16:23:47.508854Z",
     "shell.execute_reply": "2024-12-09T16:23:47.508399Z",
     "shell.execute_reply.started": "2024-12-09T16:23:47.447996Z"
    }
   },
   "outputs": [],
   "source": [
    "df_spec[\"isFaint\"] = df_spec.apply(IsFaint,axis=1)"
   ]
  },
  {
   "cell_type": "markdown",
   "id": "18c6084d-c8db-4275-a950-1b8a355c6dec",
   "metadata": {},
   "source": [
    "### Compute NightObs"
   ]
  },
  {
   "cell_type": "code",
   "execution_count": null,
   "id": "4de5d570-2e92-468b-ab07-63fffd8d2b8c",
   "metadata": {
    "execution": {
     "iopub.execute_input": "2024-12-09T16:23:47.509542Z",
     "iopub.status.busy": "2024-12-09T16:23:47.509357Z",
     "iopub.status.idle": "2024-12-09T16:23:47.561487Z",
     "shell.execute_reply": "2024-12-09T16:23:47.560998Z",
     "shell.execute_reply.started": "2024-12-09T16:23:47.509529Z"
    }
   },
   "outputs": [],
   "source": [
    "df_spec[\"nightObs\"] = df_spec.apply(lambda x: x['id']//100_000, axis=1)"
   ]
  },
  {
   "cell_type": "code",
   "execution_count": null,
   "id": "41d0454f-dbb9-4242-861b-78d4392ef6ab",
   "metadata": {
    "execution": {
     "iopub.execute_input": "2024-12-09T16:23:47.562236Z",
     "iopub.status.busy": "2024-12-09T16:23:47.562003Z",
     "iopub.status.idle": "2024-12-09T16:23:47.566631Z",
     "shell.execute_reply": "2024-12-09T16:23:47.566183Z",
     "shell.execute_reply.started": "2024-12-09T16:23:47.562221Z"
    }
   },
   "outputs": [],
   "source": [
    "if FLAG_WITHCOLLIMATOR:\n",
    "    df_spec = df_spec[df_spec[\"nightObs\"]> DATE_WITHCOLLIMATOR]"
   ]
  },
  {
   "cell_type": "markdown",
   "id": "a4f8b443-4bc5-46fc-a548-33441edee6da",
   "metadata": {},
   "source": [
    "## Apply Quality selection"
   ]
  },
  {
   "cell_type": "code",
   "execution_count": null,
   "id": "2325b3ff-29c2-445a-b25e-cc11aba4f45a",
   "metadata": {
    "execution": {
     "iopub.execute_input": "2024-12-09T16:23:47.567235Z",
     "iopub.status.busy": "2024-12-09T16:23:47.567107Z",
     "iopub.status.idle": "2024-12-09T16:23:47.790129Z",
     "shell.execute_reply": "2024-12-09T16:23:47.789749Z",
     "shell.execute_reply.started": "2024-12-09T16:23:47.567222Z"
    },
    "tags": []
   },
   "outputs": [],
   "source": [
    "fig,ax = plt.subplots(1,1)\n",
    "df_spec[\"CHI2_FIT\"].hist(bins=50,ax=ax,range=(0,200))\n",
    "ax.set_yscale(\"log\")"
   ]
  },
  {
   "cell_type": "markdown",
   "id": "bed85d32-aad9-4eb1-9927-2672e2e0b237",
   "metadata": {},
   "source": [
    "### Add the Time in pd.datetime"
   ]
  },
  {
   "cell_type": "markdown",
   "id": "7257c7bd-d5d7-456f-8f51-4321bc715a56",
   "metadata": {},
   "source": [
    "#### UTC"
   ]
  },
  {
   "cell_type": "code",
   "execution_count": null,
   "id": "0d10c1ad-c5dc-4487-baa9-7c71ec531f45",
   "metadata": {
    "execution": {
     "iopub.execute_input": "2024-12-09T16:23:47.790808Z",
     "iopub.status.busy": "2024-12-09T16:23:47.790621Z",
     "iopub.status.idle": "2024-12-09T16:23:47.795127Z",
     "shell.execute_reply": "2024-12-09T16:23:47.794789Z",
     "shell.execute_reply.started": "2024-12-09T16:23:47.790794Z"
    }
   },
   "outputs": [],
   "source": [
    "df_spec[\"Time\"] = pd.to_datetime(df_spec[\"DATE-OBS\"])"
   ]
  },
  {
   "cell_type": "code",
   "execution_count": null,
   "id": "405b9210-7708-4fc7-b303-34d41a0e8c80",
   "metadata": {
    "execution": {
     "iopub.execute_input": "2024-12-09T16:23:47.795696Z",
     "iopub.status.busy": "2024-12-09T16:23:47.795559Z",
     "iopub.status.idle": "2024-12-09T16:23:47.801837Z",
     "shell.execute_reply": "2024-12-09T16:23:47.801451Z",
     "shell.execute_reply.started": "2024-12-09T16:23:47.795684Z"
    }
   },
   "outputs": [],
   "source": [
    "DT = pd.Timedelta(minutes=7*24*60)\n",
    "TMIN  = df_spec[\"Time\"].min()-DT\n",
    "TMAX  = df_spec[\"Time\"].max()+DT"
   ]
  },
  {
   "cell_type": "markdown",
   "id": "4a695ffa-6264-4bd8-b740-061545ba869a",
   "metadata": {},
   "source": [
    "### Compute relative time to Mid-night"
   ]
  },
  {
   "cell_type": "code",
   "execution_count": null,
   "id": "0c7f58cd-73e2-40a8-85b4-48275727f15b",
   "metadata": {
    "execution": {
     "iopub.execute_input": "2024-12-09T16:23:47.802356Z",
     "iopub.status.busy": "2024-12-09T16:23:47.802237Z",
     "iopub.status.idle": "2024-12-09T16:23:47.808312Z",
     "shell.execute_reply": "2024-12-09T16:23:47.807968Z",
     "shell.execute_reply.started": "2024-12-09T16:23:47.802345Z"
    }
   },
   "outputs": [],
   "source": [
    "def GetTimeToMidNight(row):\n",
    "    observing_time = Time(row['DATE-OBS'], scale='utc', location=observing_location)\n",
    "\n",
    "    # time at the location , either before or after midnight\n",
    "    local_time =  observing_time.to_datetime(timezone=tz)\n",
    "\n",
    "    # take time independent  of any location now\n",
    "    local_time_new = datetime(local_time.year,local_time.month,local_time.day,local_time.hour,local_time.minute,local_time.second)\n",
    "    local_time_midnight = datetime(local_time_new.year,local_time_new.month,local_time_new.day)\n",
    "    dt_hour = (local_time_new -local_time_midnight).seconds/3600.\n",
    "\n",
    "    # we took the previous night mid-night , must subtract 24H\n",
    "    if dt_hour > 12.:\n",
    "        dt_hour_new = (dt_hour - 24.)\n",
    "    else:\n",
    "        dt_hour_new = dt_hour\n",
    "        \n",
    "    return dt_hour_new"
   ]
  },
  {
   "cell_type": "code",
   "execution_count": null,
   "id": "66f78ba1-b65e-4728-bb9f-e4abf7ad7a3b",
   "metadata": {
    "execution": {
     "iopub.execute_input": "2024-12-09T16:23:47.808938Z",
     "iopub.status.busy": "2024-12-09T16:23:47.808744Z",
     "iopub.status.idle": "2024-12-09T16:23:49.070407Z",
     "shell.execute_reply": "2024-12-09T16:23:49.069973Z",
     "shell.execute_reply.started": "2024-12-09T16:23:47.808926Z"
    }
   },
   "outputs": [],
   "source": [
    "df_spec[\"dt_midnight\"] = df_spec.apply(GetTimeToMidNight,axis=1)"
   ]
  },
  {
   "cell_type": "code",
   "execution_count": null,
   "id": "3f8525bf-cc49-43a4-9e8a-a5ddbfcc93be",
   "metadata": {},
   "outputs": [],
   "source": []
  },
  {
   "cell_type": "code",
   "execution_count": null,
   "id": "fd51b32f-f238-4737-a970-15805e837de5",
   "metadata": {
    "execution": {
     "iopub.execute_input": "2024-12-09T16:23:49.071013Z",
     "iopub.status.busy": "2024-12-09T16:23:49.070883Z",
     "iopub.status.idle": "2024-12-09T16:23:49.166152Z",
     "shell.execute_reply": "2024-12-09T16:23:49.165720Z",
     "shell.execute_reply.started": "2024-12-09T16:23:49.071001Z"
    }
   },
   "outputs": [],
   "source": [
    "df_spec[\"dt_midnight\"].hist(bins=48,range=(-12,12),facecolor=\"b\") "
   ]
  },
  {
   "cell_type": "markdown",
   "id": "c417c123-6bab-472b-994b-d6abb1ba59b8",
   "metadata": {},
   "source": [
    "### Compute Date relative to January"
   ]
  },
  {
   "cell_type": "code",
   "execution_count": null,
   "id": "dba17d2a-eed3-43a8-9ca6-6ce7be70faf6",
   "metadata": {
    "execution": {
     "iopub.execute_input": "2024-12-09T16:23:49.166823Z",
     "iopub.status.busy": "2024-12-09T16:23:49.166670Z",
     "iopub.status.idle": "2024-12-09T16:23:49.169859Z",
     "shell.execute_reply": "2024-12-09T16:23:49.169517Z",
     "shell.execute_reply.started": "2024-12-09T16:23:49.166807Z"
    }
   },
   "outputs": [],
   "source": [
    "def GetDateToMidJanuary(row):\n",
    "    observing_time = Time(row['DATE-OBS'], scale='utc', location=observing_location)\n",
    "\n",
    "    # time at the location , either before or after midnight\n",
    "    local_time =  observing_time.to_datetime(timezone=tz)\n",
    "\n",
    "    # take time independent  of any location now\n",
    "    local_time_new = datetime(2024,local_time.month,local_time.day,local_time.hour,local_time.minute,local_time.second)\n",
    "    \n",
    "          \n",
    "    return pd.to_datetime(local_time_new)"
   ]
  },
  {
   "cell_type": "code",
   "execution_count": null,
   "id": "bc8ed610-00d8-426f-b23e-7df387c45de4",
   "metadata": {
    "execution": {
     "iopub.execute_input": "2024-12-09T16:23:49.170524Z",
     "iopub.status.busy": "2024-12-09T16:23:49.170244Z",
     "iopub.status.idle": "2024-12-09T16:23:49.175788Z",
     "shell.execute_reply": "2024-12-09T16:23:49.175462Z",
     "shell.execute_reply.started": "2024-12-09T16:23:49.170506Z"
    }
   },
   "outputs": [],
   "source": [
    "#df_spec[\"Time_january\"] = df_spec.apply(GetDateToMidJanuary,axis=1)"
   ]
  },
  {
   "cell_type": "code",
   "execution_count": null,
   "id": "eeda27c7-a3c2-4f41-aebd-ce30f88a7e08",
   "metadata": {
    "execution": {
     "iopub.execute_input": "2024-12-09T16:23:49.176301Z",
     "iopub.status.busy": "2024-12-09T16:23:49.176187Z",
     "iopub.status.idle": "2024-12-09T16:23:49.181976Z",
     "shell.execute_reply": "2024-12-09T16:23:49.181634Z",
     "shell.execute_reply.started": "2024-12-09T16:23:49.176290Z"
    }
   },
   "outputs": [],
   "source": [
    "def GetDateToMidJanuaryAndYear(row):\n",
    "    observing_time = Time(row['DATE-OBS'], scale='utc', location=observing_location)\n",
    "\n",
    "    # time at the location , either before or after midnight\n",
    "    local_time =  observing_time.to_datetime(timezone=tz)\n",
    "\n",
    "    # take time independent  of any location now\n",
    "    local_time_new = datetime(2024,local_time.month,local_time.day,local_time.hour,local_time.minute,local_time.second)\n",
    "           \n",
    "    return pd.to_datetime(local_time_new),local_time.year "
   ]
  },
  {
   "cell_type": "code",
   "execution_count": null,
   "id": "93dcc2d7-fa80-42a4-9a3c-0ed63e178baf",
   "metadata": {
    "execution": {
     "iopub.execute_input": "2024-12-09T16:23:49.182641Z",
     "iopub.status.busy": "2024-12-09T16:23:49.182374Z",
     "iopub.status.idle": "2024-12-09T16:23:50.647946Z",
     "shell.execute_reply": "2024-12-09T16:23:50.647520Z",
     "shell.execute_reply.started": "2024-12-09T16:23:49.182629Z"
    }
   },
   "outputs": [],
   "source": [
    "df_spec[[\"Time_january\",\"Year\"]] = df_spec.apply(GetDateToMidJanuaryAndYear,axis=1,result_type=\"expand\")"
   ]
  },
  {
   "cell_type": "code",
   "execution_count": null,
   "id": "132896be-138d-4a8d-ac71-b687859fe04c",
   "metadata": {
    "execution": {
     "iopub.execute_input": "2024-12-09T16:23:50.648629Z",
     "iopub.status.busy": "2024-12-09T16:23:50.648436Z",
     "iopub.status.idle": "2024-12-09T16:23:50.656878Z",
     "shell.execute_reply": "2024-12-09T16:23:50.656463Z",
     "shell.execute_reply.started": "2024-12-09T16:23:50.648616Z"
    }
   },
   "outputs": [],
   "source": [
    "df_spec[[\"Time_january\",\"Year\"]]"
   ]
  },
  {
   "cell_type": "markdown",
   "id": "96512b2a-93e2-4911-a11f-530f4d13229a",
   "metadata": {},
   "source": [
    "## Compute night boundaries"
   ]
  },
  {
   "cell_type": "code",
   "execution_count": null,
   "id": "c6d2eb8d-e7ab-4c45-8db9-07706079d932",
   "metadata": {
    "execution": {
     "iopub.execute_input": "2024-12-09T16:23:50.657431Z",
     "iopub.status.busy": "2024-12-09T16:23:50.657308Z",
     "iopub.status.idle": "2024-12-09T16:23:50.660309Z",
     "shell.execute_reply": "2024-12-09T16:23:50.659975Z",
     "shell.execute_reply.started": "2024-12-09T16:23:50.657419Z"
    }
   },
   "outputs": [],
   "source": [
    "def GetNightBoundariesDict(df_spec):\n",
    "    \"\"\"\n",
    "    input:\n",
    "      df_spec the dataframe for spectroscopy summary results\n",
    "    output:\n",
    "      the dict of night boudaries\n",
    "    \"\"\"\n",
    "    \n",
    "    Dt = pd.Timedelta(minutes=30)\n",
    "    d = {}\n",
    "    list_of_nightobs = df_spec[\"nightObs\"].unique()\n",
    "    for nightobs in list_of_nightobs:\n",
    "        sel_flag = df_spec[\"nightObs\"]== nightobs\n",
    "        df_night = df_spec[sel_flag]\n",
    "        tmin = df_night[\"Time\"].min()-Dt\n",
    "        tmax = df_night[\"Time\"].max()+Dt\n",
    "        d[nightobs] = (tmin,tmax)\n",
    "    return d"
   ]
  },
  {
   "cell_type": "code",
   "execution_count": null,
   "id": "1d501ce6-4b93-445f-b2f1-9ebdb5fe2dbc",
   "metadata": {
    "execution": {
     "iopub.execute_input": "2024-12-09T16:23:50.660855Z",
     "iopub.status.busy": "2024-12-09T16:23:50.660737Z",
     "iopub.status.idle": "2024-12-09T16:23:50.717990Z",
     "shell.execute_reply": "2024-12-09T16:23:50.717644Z",
     "shell.execute_reply.started": "2024-12-09T16:23:50.660843Z"
    }
   },
   "outputs": [],
   "source": [
    "dn = GetNightBoundariesDict(df_spec)"
   ]
  },
  {
   "cell_type": "markdown",
   "id": "66f5730e-37e1-4ead-ab78-f79dd6273107",
   "metadata": {},
   "source": [
    "## Plot all data"
   ]
  },
  {
   "cell_type": "code",
   "execution_count": null,
   "id": "3fd02994-4a05-4145-8da9-10ac7f5b920a",
   "metadata": {
    "execution": {
     "iopub.execute_input": "2024-12-09T16:23:50.718580Z",
     "iopub.status.busy": "2024-12-09T16:23:50.718452Z",
     "iopub.status.idle": "2024-12-09T16:23:51.288228Z",
     "shell.execute_reply": "2024-12-09T16:23:51.287759Z",
     "shell.execute_reply.started": "2024-12-09T16:23:50.718569Z"
    }
   },
   "outputs": [],
   "source": [
    "from matplotlib.dates import DateFormatter\n",
    "#date_form = DateFormatter(\"%y-%m-%dT%H:%M\")\n",
    "date_form = DateFormatter(\"%y-%m-%d\")\n",
    "fig,axs = plt.subplots(1,1,figsize=(14,6))\n",
    "ax  = axs\n",
    "leg=ax.get_legend()\n",
    "\n",
    "ax.set_xlim(TMIN,TMAX) \n",
    "df_m.plot(x=\"Time\",y=\"TO3\",ax=ax,marker=\".\",c=\"b\",lw=0.5,label=\"Merra2\",ms=1,legend=leg)   \n",
    "df_spec.plot(x=\"Time\",y=\"ozone [db]_x\",ax=ax,marker='+',c=\"r\",lw=0.0,grid=True,label=tag,legend=leg)\n",
    "ax.set_ylabel(\"ozone [db]_x\")\n",
    "\n",
    "ax.set_xlabel(\"time\")\n",
    "ax.xaxis.set_major_formatter(date_form)\n",
    "ax.set_title(\"Ozone meas by holo vs time (before quality cuts)\")\n",
    "ax.legend()\n",
    "ax.set_ylim(100.,600.)\n",
    "\n",
    "for key, tt in dn.items():\n",
    "    ax.axvspan(tt[0],tt[1], color='blue', alpha=0.1)\n",
    "\n",
    "ax.axvspan(TMIN,datetime_WITHCOLLIMATOR, color='yellow', alpha=0.1)\n",
    "\n",
    "figname =f\"{pathfigs}/ozone_allpoints_allnights_nocuts\"+figtype\n",
    "plt.savefig(figname)\n",
    "plt.show()"
   ]
  },
  {
   "cell_type": "markdown",
   "id": "564f9a05-b3e2-4d61-9457-cda76ebd2a1b",
   "metadata": {},
   "source": [
    "## Apply Quality selection cuts"
   ]
  },
  {
   "cell_type": "code",
   "execution_count": null,
   "id": "4507d45c-4df8-4ab6-906e-282709ee4048",
   "metadata": {
    "execution": {
     "iopub.execute_input": "2024-12-09T16:23:51.288878Z",
     "iopub.status.busy": "2024-12-09T16:23:51.288741Z",
     "iopub.status.idle": "2024-12-09T16:23:51.291526Z",
     "shell.execute_reply": "2024-12-09T16:23:51.291093Z",
     "shell.execute_reply.started": "2024-12-09T16:23:51.288864Z"
    },
    "tags": []
   },
   "outputs": [],
   "source": [
    "def getSelectionCut_old(df_spec, chi2max=20., o3min=1.0, o3max = 599.):\n",
    "    cut =  (df_spec[\"CHI2_FIT\"]<chi2max) & (df_spec[\"ozone [db]_x\"] > o3min) & (df_spec[\"ozone [db]_x\"] < o3max) \n",
    "    return cut"
   ]
  },
  {
   "cell_type": "code",
   "execution_count": null,
   "id": "cefe8b67-34bc-4490-9bee-de492defc61b",
   "metadata": {
    "execution": {
     "iopub.execute_input": "2024-12-09T16:23:51.292112Z",
     "iopub.status.busy": "2024-12-09T16:23:51.291985Z",
     "iopub.status.idle": "2024-12-09T16:23:51.298710Z",
     "shell.execute_reply": "2024-12-09T16:23:51.298353Z",
     "shell.execute_reply.started": "2024-12-09T16:23:51.292100Z"
    }
   },
   "outputs": [],
   "source": [
    "def getSelectionCut(df_spec, chi2max=20., pwvmin=0.1, pwvmax = 14.9,ozmin=100.,ozmax=600.):\n",
    "    cut =  (df_spec[\"CHI2_FIT\"]<chi2max) & (df_spec[\"PWV [mm]_x\"] > pwvmin) & (df_spec[\"PWV [mm]_x\"] < pwvmax) & (df_spec[\"D2CCD\"]>186.5) &  (df_spec[\"D2CCD\"]<187.3) & \\\n",
    "    (df_spec['EXPTIME'] > 20.) & (df_spec[\"PWV [mm]_y\"] > pwvmin) & (df_spec[\"PWV [mm]_y\"] < pwvmax) & (df_spec[\"ozone [db]_y\"] > ozmin) & (df_spec[\"ozone [db]_y\"] < ozmax) \n",
    "    return cut"
   ]
  },
  {
   "cell_type": "code",
   "execution_count": null,
   "id": "b7c8f122-8343-4961-8875-a999da39ab59",
   "metadata": {
    "execution": {
     "iopub.execute_input": "2024-12-09T16:23:51.299329Z",
     "iopub.status.busy": "2024-12-09T16:23:51.299205Z",
     "iopub.status.idle": "2024-12-09T16:23:51.305616Z",
     "shell.execute_reply": "2024-12-09T16:23:51.305258Z",
     "shell.execute_reply.started": "2024-12-09T16:23:51.299318Z"
    },
    "tags": []
   },
   "outputs": [],
   "source": [
    "def getSelectionCutNoPolar(df_spec, chi2max=20., pwvmin=0.1, pwvmax = 14.9,ozmin=100.,ozmax=600.):\n",
    "    cut =  (df_spec[\"CHI2_FIT\"]<chi2max) & (df_spec[\"PWV [mm]_x\"] > pwvmin) & (df_spec[\"PWV [mm]_x\"] < pwvmax) & (df_spec[\"D2CCD\"]>186.5) &  (df_spec[\"D2CCD\"]<187.3) & \\\n",
    "    (df_spec['EXPTIME'] > 20.) & (df_spec[\"PWV [mm]_y\"] > pwvmin) & (df_spec[\"PWV [mm]_y\"] < pwvmax) & \\\n",
    "    (df_spec[\"ozone [db]_y\"] > ozmin) & (df_spec[\"ozone [db]_y\"] < ozmax) & (df_spec[\"TARGET\"] != \"HD185975\")\n",
    "    return cut"
   ]
  },
  {
   "cell_type": "code",
   "execution_count": null,
   "id": "4a8cbda1-38dd-4127-84c1-5ea57ab57c61",
   "metadata": {
    "execution": {
     "iopub.execute_input": "2024-12-09T16:23:51.306159Z",
     "iopub.status.busy": "2024-12-09T16:23:51.306035Z",
     "iopub.status.idle": "2024-12-09T16:23:51.312049Z",
     "shell.execute_reply": "2024-12-09T16:23:51.311704Z",
     "shell.execute_reply.started": "2024-12-09T16:23:51.306148Z"
    }
   },
   "outputs": [],
   "source": [
    "def getSelectionCutWithPolar(df_spec, chi2max=20., pwvmin=0.1, pwvmax = 14.9,ozmin=100.,ozmax=600.):\n",
    "    cut =  (df_spec[\"CHI2_FIT\"]<chi2max) & (df_spec[\"PWV [mm]_x\"] > pwvmin) & (df_spec[\"PWV [mm]_x\"] < pwvmax) & (df_spec[\"D2CCD\"]>186.5) &  (df_spec[\"D2CCD\"]<187.3) & \\\n",
    "    (df_spec['EXPTIME'] > 20.) & (df_spec[\"PWV [mm]_y\"] > pwvmin) & (df_spec[\"PWV [mm]_y\"] < pwvmax) & \\\n",
    "    (df_spec[\"ozone [db]_y\"] > ozmin) & (df_spec[\"ozone [db]_y\"] < ozmax) & (df_spec[\"TARGET\"] == \"HD185975\")\n",
    "    return cut"
   ]
  },
  {
   "cell_type": "code",
   "execution_count": null,
   "id": "eb50d3a2-717c-49ad-9085-6901f4705903",
   "metadata": {
    "execution": {
     "iopub.execute_input": "2024-12-09T16:23:51.312635Z",
     "iopub.status.busy": "2024-12-09T16:23:51.312514Z",
     "iopub.status.idle": "2024-12-09T16:23:51.324820Z",
     "shell.execute_reply": "2024-12-09T16:23:51.324466Z",
     "shell.execute_reply.started": "2024-12-09T16:23:51.312624Z"
    },
    "tags": []
   },
   "outputs": [],
   "source": [
    "cut = getSelectionCut(df_spec) \n",
    "cut_nopolar_bright = getSelectionCutNoPolar(df_spec) & (~df_spec[\"isFaint\"])\n",
    "cut_nopolar_faint = getSelectionCutNoPolar(df_spec) & (df_spec[\"isFaint\"])\n",
    "cut_wthpolar = getSelectionCutWithPolar(df_spec)\n",
    "cut_nopolar = getSelectionCutNoPolar(df_spec)"
   ]
  },
  {
   "cell_type": "code",
   "execution_count": null,
   "id": "e1cbfa40-4395-47f4-9acf-6a9f531fabd4",
   "metadata": {
    "execution": {
     "iopub.execute_input": "2024-12-09T16:23:51.325319Z",
     "iopub.status.busy": "2024-12-09T16:23:51.325199Z",
     "iopub.status.idle": "2024-12-09T16:23:51.330239Z",
     "shell.execute_reply": "2024-12-09T16:23:51.329850Z",
     "shell.execute_reply.started": "2024-12-09T16:23:51.325308Z"
    }
   },
   "outputs": [],
   "source": [
    "df_spec_sel = df_spec[cut]\n",
    "df_spec_np_b = df_spec[cut_nopolar_bright]\n",
    "df_spec_np_f = df_spec[cut_nopolar_faint]\n",
    "df_spec_wp = df_spec[cut_wthpolar]\n",
    "df_spec_np = df_spec[cut_nopolar] "
   ]
  },
  {
   "cell_type": "code",
   "execution_count": null,
   "id": "3ae63d65-ebbb-4fa1-92bb-7cecf0ef37c5",
   "metadata": {
    "execution": {
     "iopub.execute_input": "2024-12-09T16:23:51.330835Z",
     "iopub.status.busy": "2024-12-09T16:23:51.330708Z",
     "iopub.status.idle": "2024-12-09T16:23:51.334272Z",
     "shell.execute_reply": "2024-12-09T16:23:51.333909Z",
     "shell.execute_reply.started": "2024-12-09T16:23:51.330824Z"
    }
   },
   "outputs": [],
   "source": [
    "print(\"Total number of Spectra          : \",len(df_spec))\n",
    "print(\"Number of selected Spectra       : \",len(df_spec_sel))\n",
    "print(\"Number of selected Polars        : \",len(df_spec_wp))\n",
    "print(\"Number of selected Non-Polars    : \",len(df_spec_np))\n",
    "print(\"Number of selected Non-Polars Bright : \",len(df_spec_np_b))\n",
    "print(\"Number of selected Non-Polars Faint  : \",len(df_spec_np_f))"
   ]
  },
  {
   "cell_type": "code",
   "execution_count": null,
   "id": "bae62b07-17d4-423e-bdfe-634272a040a2",
   "metadata": {
    "execution": {
     "iopub.execute_input": "2024-12-09T16:23:51.334765Z",
     "iopub.status.busy": "2024-12-09T16:23:51.334636Z",
     "iopub.status.idle": "2024-12-09T16:23:51.340538Z",
     "shell.execute_reply": "2024-12-09T16:23:51.340190Z",
     "shell.execute_reply.started": "2024-12-09T16:23:51.334753Z"
    },
    "tags": []
   },
   "outputs": [],
   "source": [
    "df_spec_sel.reset_index(drop=True,inplace=True)\n",
    "df_spec_np_b.reset_index(drop=True,inplace=True)\n",
    "df_spec_np_f.reset_index(drop=True,inplace=True)\n",
    "df_spec_wp.reset_index(drop=True,inplace=True) \n",
    "df_spec_np.reset_index(drop=True,inplace=True)"
   ]
  },
  {
   "cell_type": "code",
   "execution_count": null,
   "id": "43b390dd-bf7b-4e96-bb20-4408324d21dc",
   "metadata": {
    "execution": {
     "iopub.execute_input": "2024-12-09T16:23:51.341068Z",
     "iopub.status.busy": "2024-12-09T16:23:51.340948Z",
     "iopub.status.idle": "2024-12-09T16:23:51.347756Z",
     "shell.execute_reply": "2024-12-09T16:23:51.347368Z",
     "shell.execute_reply.started": "2024-12-09T16:23:51.341058Z"
    }
   },
   "outputs": [],
   "source": [
    "#List_Of_Faint_targets = ['Feige110','HD074000','HD115169','HD031128','HD200654','HD167060','HD009051','HD142331','HD160617','HD111980']\n",
    "print(\"Polar            :\",len(df_spec_wp[\"TARGET\"].unique()),\"\\t\", df_spec_wp[\"TARGET\"].unique()) \n",
    "print(\"Non Polar        :\",len(df_spec_np[\"TARGET\"].unique()),\"\\t\" ,df_spec_np[\"TARGET\"].unique())\n",
    "print(\"Non Polar Bright :\",len(df_spec_np_b[\"TARGET\"].unique()),\"\\t\" ,df_spec_np_b[\"TARGET\"].unique())\n",
    "print(\"Non Polar Faint  :\",len(df_spec_np_f[\"TARGET\"].unique()),\"\\t\",df_spec_np_f[\"TARGET\"].unique())"
   ]
  },
  {
   "cell_type": "markdown",
   "id": "f8bc5aeb-ed74-48a0-88a2-49eb1ae2ff4d",
   "metadata": {
    "tags": []
   },
   "source": [
    "## Recompute night boundaries"
   ]
  },
  {
   "cell_type": "code",
   "execution_count": null,
   "id": "41e2df17-41d6-4e84-8135-ccca5c7086a2",
   "metadata": {
    "execution": {
     "iopub.execute_input": "2024-12-09T16:23:51.348277Z",
     "iopub.status.busy": "2024-12-09T16:23:51.348156Z",
     "iopub.status.idle": "2024-12-09T16:23:51.353158Z",
     "shell.execute_reply": "2024-12-09T16:23:51.352813Z",
     "shell.execute_reply.started": "2024-12-09T16:23:51.348266Z"
    },
    "tags": []
   },
   "outputs": [],
   "source": [
    "#dn = GetNightBoundariesDict(df_spec_sel)"
   ]
  },
  {
   "cell_type": "markdown",
   "id": "6c4212d5-3f49-41f3-9ba9-42ac23b2f2dd",
   "metadata": {},
   "source": [
    "## Plot all data"
   ]
  },
  {
   "cell_type": "code",
   "execution_count": null,
   "id": "58b3d86e-7a6a-4685-8f5c-af994b7b2164",
   "metadata": {
    "execution": {
     "iopub.execute_input": "2024-12-09T16:23:51.353702Z",
     "iopub.status.busy": "2024-12-09T16:23:51.353586Z",
     "iopub.status.idle": "2024-12-09T16:23:51.887290Z",
     "shell.execute_reply": "2024-12-09T16:23:51.886778Z",
     "shell.execute_reply.started": "2024-12-09T16:23:51.353691Z"
    },
    "tags": []
   },
   "outputs": [],
   "source": [
    "from matplotlib.dates import DateFormatter\n",
    "#date_form = DateFormatter(\"%y-%m-%dT%H:%M\")\n",
    "date_form = DateFormatter(\"%y-%m-%d\")\n",
    "fig,axs = plt.subplots(1,1,figsize=(14,6),layout='constrained')\n",
    "ax  = axs\n",
    "leg=ax.get_legend()\n",
    "\n",
    "ax.set_xlim(TMIN,TMAX) \n",
    "df_m.plot(x=\"Time\",y=\"TO3\",ax=ax,marker=\".\",c=\"b\",lw=0.5,ls=\":\",label=\"Merra2\",ms=1,legend=leg)     \n",
    "\n",
    "#df_spec_sel.plot(x=\"Time\",y=\"ozone [db]_x\",ax=ax,marker='o',c=\"r\",lw=0.0,grid=True,label=tag,legend=leg,ms=5,alpha=0.2)\n",
    "#df_spec_np_f.plot(x=\"Time\",y=\"ozone [db]_x\",ax=ax,marker='o',c=\"grey\",lw=0.0,grid=True,label=\"faint, no polar\",legend=leg,ms=5,alpha=0.2)\n",
    "\n",
    "df_spec_np.plot(x=\"Time\",y=\"ozone [db]_x\",ax=ax,marker='+',c=\"orange\",lw=0.0,grid=True,label=\"no polar\",legend=leg,ms=5,alpha=1)\n",
    "df_spec_np_b.plot(x=\"Time\",y=\"ozone [db]_x\",ax=ax,marker='+',c=\"r\",lw=0.0,grid=True,label=\"bright,no polar\",legend=leg,ms=5,alpha=1)\n",
    "df_spec_wp.plot(x=\"Time\",y=\"ozone [db]_x\",ax=ax,marker='+',c=\"g\",lw=0.0,grid=True,label=\"with polar\",legend=leg,ms=5,alpha=1)\n",
    "ax.set_ylabel(\"ozone [db]_x\")\n",
    "\n",
    "ax.set_xlabel(\"time\")\n",
    "ax.xaxis.set_major_formatter(date_form)\n",
    "ax.set_title(\"Ozone measured by holo selected vs time\",fontweight=\"bold\")\n",
    "ax.legend(loc=\"upper right\")\n",
    "ax.set_ylim(100.,600.)\n",
    "\n",
    "for key, tt in dn.items():\n",
    "    ax.axvspan(tt[0],tt[1], color='blue', alpha=0.1)\n",
    "\n",
    "\n",
    "ax.axvspan(TMIN,datetime_WITHCOLLIMATOR, color='yellow', alpha=0.1)\n",
    "\n",
    "\n",
    "figname =f\"{pathfigs}/ozone_allpoints_allnights_wthcuts\"+figtype\n",
    "plt.savefig(figname)\n",
    "plt.show()"
   ]
  },
  {
   "cell_type": "code",
   "execution_count": null,
   "id": "dd316818-ce54-41a1-9de1-cc415f6190b6",
   "metadata": {
    "execution": {
     "iopub.execute_input": "2024-12-09T16:23:51.888118Z",
     "iopub.status.busy": "2024-12-09T16:23:51.887915Z",
     "iopub.status.idle": "2024-12-09T16:23:52.727815Z",
     "shell.execute_reply": "2024-12-09T16:23:52.727275Z",
     "shell.execute_reply.started": "2024-12-09T16:23:51.888104Z"
    }
   },
   "outputs": [],
   "source": [
    "from matplotlib.dates import DateFormatter\n",
    "#date_form = DateFormatter(\"%y-%m-%dT%H:%M\")\n",
    "date_form = DateFormatter(\"%y-%m-%d\")\n",
    "\n",
    "fig = plt.figure(figsize=(14,8),layout='constrained')\n",
    "gs = GridSpec(2, 1,  height_ratios=[1,2],figure=fig)\n",
    "\n",
    "# left figure\n",
    "ax = fig.add_subplot(gs[0])\n",
    "ax2 = fig.add_subplot(gs[1],sharex=ax)\n",
    "\n",
    "leg=ax.get_legend()\n",
    "leg2=ax2.get_legend()\n",
    "\n",
    "# top\n",
    "ax.set_xlim(TMIN,TMAX) \n",
    "df_m.plot(x=\"Time\",y=\"TO3\",ax=ax,marker=\".\",c=\"b\",lw=0.5,ls=\":\",grid=True,label=\"Merra2\",ms=1,legend=leg)     \n",
    "ax.set_ylabel(\"ozone (DU)\")\n",
    "ax.set_ylim(200.,400.)\n",
    "ax.legend()\n",
    "\n",
    "#bottom\n",
    "df_spec_np.plot(x=\"Time\",y=\"ozone [db]_x\",ax=ax2,marker='+',c=\"orange\",lw=0.0,grid=True,label=\"no polar\",legend=leg2,ms=5,alpha=1)\n",
    "df_spec_np_b.plot(x=\"Time\",y=\"ozone [db]_x\",ax=ax2,marker='+',c=\"r\",lw=0.0,grid=True,label=\"bright,no polar\",legend=leg2,ms=5,alpha=1)\n",
    "df_spec_wp.plot(x=\"Time\",y=\"ozone [db]_x\",ax=ax2,marker='+',c=\"g\",lw=0.0,grid=True,label=\"with polar\",legend=leg2,ms=5,alpha=1)\n",
    "ax2.set_ylabel(\"ozone [db]_x\")\n",
    "\n",
    "ax2.set_xlabel(\"time\")\n",
    "ax2.xaxis.set_major_formatter(date_form)\n",
    "ax.set_title(\"Ozone measured by holo selected vs time\",fontweight=\"bold\")\n",
    "ax2.legend(loc=\"upper right\")\n",
    "ax2.set_ylim(100.,600.)\n",
    "for key, tt in dn.items():\n",
    "    ax2.axvspan(tt[0],tt[1], color='blue', alpha=0.1)\n",
    "\n",
    "\n",
    "ax2.axvspan(TMIN,datetime_WITHCOLLIMATOR, color='yellow', alpha=0.1)\n",
    "\n",
    "\n",
    "figname =f\"{pathfigs}/ozone_allpoints_allnights_wthcuts_separatemeera\"+figtype\n",
    "plt.savefig(figname)\n",
    "plt.show()"
   ]
  },
  {
   "cell_type": "code",
   "execution_count": null,
   "id": "6032eff3-f95f-4d0e-b329-e75077742012",
   "metadata": {
    "execution": {
     "iopub.execute_input": "2024-12-09T16:23:52.728517Z",
     "iopub.status.busy": "2024-12-09T16:23:52.728330Z",
     "iopub.status.idle": "2024-12-09T16:23:52.898996Z",
     "shell.execute_reply": "2024-12-09T16:23:52.898615Z",
     "shell.execute_reply.started": "2024-12-09T16:23:52.728503Z"
    }
   },
   "outputs": [],
   "source": [
    "fig,axs = plt.subplots(1,1,figsize=(6,4),layout='constrained')\n",
    "ax  = axs\n",
    "leg=ax.get_legend()\n",
    "df_spec_wp.plot(x=\"dt_midnight\",y=\"ozone [db]_x\",ax=ax,marker='+',c=\"g\",lw=0.0,grid=True,label=\"with polar\",legend=leg,ms=5,alpha=0.5)\n",
    "ax.set_ylim(200.,500.)\n",
    "ax.legend()\n",
    "ax.set_xlabel(\"time relative to midnight (hour)\")\n",
    "ax.set_title(\"Ozone\")\n",
    "ax.set_ylabel(\"Ozone (DU)\")"
   ]
  },
  {
   "cell_type": "code",
   "execution_count": null,
   "id": "40bdd519-c109-4956-a099-a7892b4111d6",
   "metadata": {
    "execution": {
     "iopub.execute_input": "2024-12-09T16:23:52.899616Z",
     "iopub.status.busy": "2024-12-09T16:23:52.899485Z",
     "iopub.status.idle": "2024-12-09T16:23:53.084675Z",
     "shell.execute_reply": "2024-12-09T16:23:53.084294Z",
     "shell.execute_reply.started": "2024-12-09T16:23:52.899604Z"
    }
   },
   "outputs": [],
   "source": [
    "fig,axs = plt.subplots(1,1,figsize=(6,6),layout='constrained')\n",
    "ax  = axs\n",
    "leg=ax.get_legend()\n",
    "ax.plot([0.,600.],[0.,600.],\"k-\")\n",
    "df_spec_wp.plot(x=\"ozone [db]_x\",y=\"ozone [db]_y\",ax=ax,marker='+',c=\"g\",lw=0.0,grid=True,label=\"polar\",legend=leg,ms=5,alpha=0.5)\n",
    "df_spec_np.plot(x=\"ozone [db]_x\",y=\"ozone [db]_y\",ax=ax,marker='+',c=\"r\",lw=0.0,grid=True,label=\"no polar\",legend=leg,ms=5,alpha=0.5)\n",
    "ax.set_ylim(0.,600.)\n",
    "ax.set_xlim(0.,600.)\n",
    "\n",
    "ax.legend()\n",
    "ax.set_xlabel(\"Ozone_x (DU)\")\n",
    "ax.set_title(\"Correlation Ozone 1D-2D\")\n",
    "ax.set_ylabel(\"Ozone_y (DU)\")"
   ]
  },
  {
   "cell_type": "code",
   "execution_count": null,
   "id": "a2356590-e05c-4547-a601-4e88903a949e",
   "metadata": {
    "execution": {
     "iopub.execute_input": "2024-12-09T16:23:53.085264Z",
     "iopub.status.busy": "2024-12-09T16:23:53.085136Z",
     "iopub.status.idle": "2024-12-09T16:23:53.088899Z",
     "shell.execute_reply": "2024-12-09T16:23:53.088566Z",
     "shell.execute_reply.started": "2024-12-09T16:23:53.085252Z"
    }
   },
   "outputs": [],
   "source": [
    "list(df_spec_wp.columns)"
   ]
  },
  {
   "cell_type": "code",
   "execution_count": null,
   "id": "79c2ebf6-ac23-4ed7-a69b-05dacb85b4f3",
   "metadata": {
    "execution": {
     "iopub.execute_input": "2024-12-09T16:23:53.089380Z",
     "iopub.status.busy": "2024-12-09T16:23:53.089263Z",
     "iopub.status.idle": "2024-12-09T16:23:53.293561Z",
     "shell.execute_reply": "2024-12-09T16:23:53.293127Z",
     "shell.execute_reply.started": "2024-12-09T16:23:53.089370Z"
    }
   },
   "outputs": [],
   "source": [
    "fig,axs = plt.subplots(1,1,figsize=(6,6),layout='constrained')\n",
    "ax  = axs\n",
    "leg=ax.get_legend()\n",
    "df_spec_wp.plot(x=\"ozone [db]_x\",y=\"VAOD_x\",ax=ax,marker='+',c=\"g\",lw=0.0,grid=True,label=\"polar\",legend=leg,ms=5,alpha=0.5)\n",
    "df_spec_np.plot(x=\"ozone [db]_x\",y=\"VAOD_x\",ax=ax,marker='+',c=\"r\",lw=0.0,grid=True,label=\"no polar\",legend=leg,ms=5,alpha=0.5)\n",
    "\n",
    "ax.legend()\n",
    "ax.set_xlabel(\"Ozone_x (DU)\")\n",
    "ax.set_title(\"Correlation Ozone - VAOD \")\n",
    "ax.set_ylabel(\"VAOD\")\n",
    "ax.set_ylim(0.,0.2)\n",
    "ax.set_xlim(200.,500.)"
   ]
  },
  {
   "cell_type": "code",
   "execution_count": null,
   "id": "6e79503d-20c8-4918-aef1-8f24a216cf74",
   "metadata": {
    "execution": {
     "iopub.execute_input": "2024-12-09T16:23:53.294258Z",
     "iopub.status.busy": "2024-12-09T16:23:53.294074Z",
     "iopub.status.idle": "2024-12-09T16:23:53.775871Z",
     "shell.execute_reply": "2024-12-09T16:23:53.775466Z",
     "shell.execute_reply.started": "2024-12-09T16:23:53.294245Z"
    }
   },
   "outputs": [],
   "source": [
    "from matplotlib.dates import DateFormatter\n",
    "date_form = DateFormatter(\"%y-%m-%d\")\n",
    "\n",
    "fig,axs = plt.subplots(1,1,figsize=(14,6),layout='constrained')\n",
    "ax  = axs\n",
    "leg=ax.get_legend()\n",
    "\n",
    "\n",
    "df_spec_np_b[df_spec_np_b.Year == 2022].plot(x=\"Time_january\",y=\"ozone [db]_x\",ax=ax,marker='o',c=\"g\",lw=0.0,grid=True,label=\"2022 (no polar)\",legend=leg,ms=5,alpha=0.5)\n",
    "df_spec_wp[df_spec_wp.Year == 2022].plot(x=\"Time_january\",y=\"ozone [db]_x\",ax=ax,marker='+',c=\"g\",lw=0.0,grid=True,label=\"2022 (polar)\",legend=leg,ms=8,alpha=1)\n",
    "\n",
    "df_spec_np_b[df_spec_np_b.Year == 2023].plot(x=\"Time_january\",y=\"ozone [db]_x\",ax=ax,marker='o',c=\"b\",lw=0.0,grid=True,label=\"2023 (no polar)\",legend=leg,ms=5,alpha=0.5)\n",
    "df_spec_wp[df_spec_wp.Year == 2023].plot(x=\"Time_january\",y=\"ozone [db]_x\",ax=ax,marker='+',c=\"b\",lw=0.0,grid=True,label=\"2023 (polar)\",legend=leg,ms=8,alpha=1)\n",
    "\n",
    "df_spec_np_b[df_spec_np_b.Year == 2024].plot(x=\"Time_january\",y=\"ozone [db]_x\",ax=ax,marker='o',c=\"r\",lw=0.0,grid=True,label=\"2024 (no polar)\",legend=leg,ms=5,alpha=0.5)\n",
    "df_spec_wp[df_spec_wp.Year == 2024].plot(x=\"Time_january\",y=\"ozone [db]_x\",ax=ax,marker='+',c=\"r\",lw=0.0,grid=True,label=\"2024 (polar)\",legend=leg,ms=8,alpha=1)\n",
    "\n",
    "\n",
    "\n",
    "\n",
    "\n",
    "ax.set_ylabel(\"ozone [db]_x\")\n",
    "ax.set_xlabel(\"date (since January)\")\n",
    "ax.xaxis.set_major_formatter(date_form)\n",
    "ax.set_title(\"Ozone measured by holo selected vs time (modulo 1 year)\",fontweight=\"bold\")\n",
    "ax.legend(loc=\"upper right\")\n",
    "\n",
    "#for key, tt in dn.items():\n",
    "#    ax.axvspan(tt[0],tt[1], color='blue', alpha=0.1)\n",
    "\n",
    "\n",
    "#ax.axvspan(TMIN,datetime_WITHCOLLIMATOR, color='yellow', alpha=0.1)\n",
    "\n",
    "\n",
    "plt.tight_layout()\n",
    " \n",
    "\n",
    "\n",
    "ax.set_ylim(100.,600.)\n",
    "#ax.set_xlim(TMIN,TMAX)\n",
    "\n",
    "figname =f\"{pathfigs}/ozoneholoM2_allpoints_allnights_modulo1year\"+figtype\n",
    "plt.savefig(figname)\n",
    "plt.show()"
   ]
  },
  {
   "cell_type": "code",
   "execution_count": null,
   "id": "ef992017-30dc-4cc5-b402-1d5286e16978",
   "metadata": {
    "execution": {
     "iopub.execute_input": "2024-12-09T16:23:53.776478Z",
     "iopub.status.busy": "2024-12-09T16:23:53.776343Z",
     "iopub.status.idle": "2024-12-09T16:23:54.109798Z",
     "shell.execute_reply": "2024-12-09T16:23:54.109365Z",
     "shell.execute_reply.started": "2024-12-09T16:23:53.776465Z"
    }
   },
   "outputs": [],
   "source": [
    "from matplotlib.dates import DateFormatter\n",
    "date_form = DateFormatter(\"%y-%m-%d\")\n",
    "\n",
    "fig,axs = plt.subplots(1,1,figsize=(14,6),layout='constrained')\n",
    "ax  = axs\n",
    "leg=ax.get_legend()\n",
    "\n",
    "\n",
    "#df_spec_np_b[df_spec_np_b.Year == 2022].plot(x=\"Time_january\",y=\"ozone [db]_x\",ax=ax,marker='o',c=\"g\",lw=0.0,grid=True,label=\"2022 (no polar)\",legend=leg,ms=5,alpha=0.5)\n",
    "df_spec_wp[df_spec_wp.Year == 2022].plot(x=\"Time_january\",y=\"ozone [db]_x\",ax=ax,marker='+',c=\"g\",lw=0.0,grid=True,label=\"2022 (polar)\",legend=leg,ms=8,alpha=1)\n",
    "\n",
    "#df_spec_np_b[df_spec_np_b.Year == 2023].plot(x=\"Time_january\",y=\"ozone [db]_x\",ax=ax,marker='o',c=\"b\",lw=0.0,grid=True,label=\"2023 (no polar)\",legend=leg,ms=5,alpha=0.5)\n",
    "df_spec_wp[df_spec_wp.Year == 2023].plot(x=\"Time_january\",y=\"ozone [db]_x\",ax=ax,marker='+',c=\"b\",lw=0.0,grid=True,label=\"2023 (polar)\",legend=leg,ms=8,alpha=1)\n",
    "\n",
    "#df_spec_np_b[df_spec_np_b.Year == 2024].plot(x=\"Time_january\",y=\"ozone [db]_x\",ax=ax,marker='o',c=\"r\",lw=0.0,grid=True,label=\"2024 (no polar)\",legend=leg,ms=5,alpha=0.5)\n",
    "df_spec_wp[df_spec_wp.Year == 2024].plot(x=\"Time_january\",y=\"ozone [db]_x\",ax=ax,marker='+',c=\"r\",lw=0.0,grid=True,label=\"2024 (polar)\",legend=leg,ms=8,alpha=1)\n",
    "\n",
    "\n",
    "ax.set_ylabel(\"ozone [db]_x\")\n",
    "ax.set_xlabel(\"date (since January)\")\n",
    "ax.xaxis.set_major_formatter(date_form)\n",
    "ax.set_title(\"Ozone measured by holo selected vs time (modulo 1 year)\",fontweight=\"bold\")\n",
    "ax.legend(loc=\"upper right\")\n",
    "\n",
    "#for key, tt in dn.items():\n",
    "#    ax.axvspan(tt[0],tt[1], color='blue', alpha=0.1)\n",
    "\n",
    "#ax.axvspan(TMIN,datetime_WITHCOLLIMATOR, color='yellow', alpha=0.1)\n",
    "\n",
    "plt.tight_layout()\n",
    " \n",
    "ax.set_ylim(100.,600.)\n",
    "#ax.set_xlim(TMIN,TMAX)\n",
    "\n",
    "figname =f\"{pathfigs}/ozoneholoM2_allpoints_allnights_wp_modulo1year\"+figtype\n",
    "plt.savefig(figname)\n",
    "plt.show()"
   ]
  },
  {
   "cell_type": "markdown",
   "id": "2e327548-326f-428f-867f-3ad46e7f6753",
   "metadata": {},
   "source": [
    "## Show time variation each night"
   ]
  },
  {
   "cell_type": "code",
   "execution_count": null,
   "id": "7320d772-3123-4866-8d2c-3c9f0d8769ad",
   "metadata": {
    "execution": {
     "iopub.execute_input": "2024-12-09T16:23:54.110467Z",
     "iopub.status.busy": "2024-12-09T16:23:54.110324Z",
     "iopub.status.idle": "2024-12-09T16:23:54.113046Z",
     "shell.execute_reply": "2024-12-09T16:23:54.112592Z",
     "shell.execute_reply.started": "2024-12-09T16:23:54.110453Z"
    }
   },
   "outputs": [],
   "source": [
    "all_selected_nights = df_spec_sel[\"nightObs\"].unique()"
   ]
  },
  {
   "cell_type": "code",
   "execution_count": null,
   "id": "c8c101b3-7120-4e5b-9da8-f712b21f6c48",
   "metadata": {
    "execution": {
     "iopub.execute_input": "2024-12-09T16:23:54.113840Z",
     "iopub.status.busy": "2024-12-09T16:23:54.113611Z",
     "iopub.status.idle": "2024-12-09T16:23:54.119722Z",
     "shell.execute_reply": "2024-12-09T16:23:54.119351Z",
     "shell.execute_reply.started": "2024-12-09T16:23:54.113827Z"
    }
   },
   "outputs": [],
   "source": [
    "def funclineres(params, x, y, yerr):\n",
    "    # Return residual = fit-observed\n",
    "    return (y-params[0] -params[1]*x)/yerr\n",
    "def funcline(params,x):\n",
    "    return params[0] + params[1]*x"
   ]
  },
  {
   "cell_type": "code",
   "execution_count": null,
   "id": "cd606d78-286e-4d98-a24c-41bdfd455fd6",
   "metadata": {
    "execution": {
     "iopub.execute_input": "2024-12-09T16:23:54.120258Z",
     "iopub.status.busy": "2024-12-09T16:23:54.120140Z",
     "iopub.status.idle": "2024-12-09T16:23:54.127181Z",
     "shell.execute_reply": "2024-12-09T16:23:54.126802Z",
     "shell.execute_reply.started": "2024-12-09T16:23:54.120246Z"
    },
    "tags": []
   },
   "outputs": [],
   "source": [
    "def MakeLineFit(df_night_pwv_curve):\n",
    "    \"\"\"\n",
    "    \"\"\"\n",
    "\n",
    "    x = df_night_pwv_curve[\"dt_midnight\"].values\n",
    "    y = df_night_pwv_curve[\"ozone [db]_x\"].values\n",
    "    yerr = df_night_pwv_curve[\"ozone [db]_err_x\"].values\n",
    "    n = len(y)\n",
    "        \n",
    "    #popt, pcov = optimize.curve_fit(f, x, y, [1,-4])\n",
    "    fit_res = least_squares(funclineres,[5.,0],args = (x,y,yerr))\n",
    "    popt = fit_res.x \n",
    "    npar = len(popt)\n",
    "    J = fit_res.jac\n",
    "    cov = np.linalg.inv(J.T.dot(J))\n",
    "    chi2dof = ((funclineres(popt,x,y,yerr))**2).sum()/(n-npar)\n",
    "    cov *= chi2dof\n",
    "    perr = np.sqrt(np.diagonal(cov)) \n",
    "    \n",
    "    xfit = np.linspace(x.min()*0.99,x.max()*1.05)\n",
    "    yfit = funcline(popt,xfit)\n",
    "        \n",
    "    slope = popt[1]\n",
    "    slope_err = perr[1]\n",
    "\n",
    "    return x,y,yerr,n,chi2dof,xfit,yfit,slope,slope_err"
   ]
  },
  {
   "cell_type": "markdown",
   "id": "42511dcd-06f2-4a69-a94d-db35b9fec8a8",
   "metadata": {},
   "source": [
    "### Plot night by night"
   ]
  },
  {
   "cell_type": "code",
   "execution_count": null,
   "id": "8f5ba3c6-db68-4368-ae9f-e12d3fd7de3e",
   "metadata": {
    "execution": {
     "iopub.execute_input": "2024-12-09T16:23:54.127780Z",
     "iopub.status.busy": "2024-12-09T16:23:54.127644Z",
     "iopub.status.idle": "2024-12-09T16:23:54.135526Z",
     "shell.execute_reply": "2024-12-09T16:23:54.135155Z",
     "shell.execute_reply.started": "2024-12-09T16:23:54.127768Z"
    }
   },
   "outputs": [],
   "source": [
    "def ComputeRepeatability(df):\n",
    "    \"\"\"\n",
    "    Compute Repeatability of Ozone for Spectrogram and and Spectrum\n",
    "    \n",
    "    \"\"\"\n",
    "    N = len(df)\n",
    "    dfout = pd.DataFrame(index=df.index,columns = [\"nightObs\",\"dt\",\"dt_rep\",\"dOZx_rep\",\"dOZy_rep\",\"targflag_rep\",\"Npoints\"])\n",
    "    dfout[\"targflag_rep\"].astype(bool)\n",
    "    #dfout[\"Npoints\"].astype(int)\n",
    "    \n",
    "    target_old = \"No\"\n",
    "    time_old = 0.\n",
    "    OZx_old = 0.\n",
    "    OZy_old = 0.\n",
    "    \n",
    "    for index in range(N):\n",
    "        \n",
    "        nightObs =  df.iloc[index][\"nightObs\"]\n",
    "        \n",
    "        if index ==0:\n",
    "            dt0 = df.iloc[index][\"dt\"]\n",
    "            dfout.iloc[index] = [ nightObs,dt0, 0., 0., 0., False,N]\n",
    "        else:\n",
    "            target_new = df.iloc[index][\"TARGET\"]\n",
    "            time_new = df.iloc[index][\"dt\"]\n",
    "            OZx_new = df.iloc[index][\"ozone [db]_x\"]\n",
    "            OZy_new = df.iloc[index][\"ozone [db]_y\"]\n",
    "            \n",
    "            flag_target = (target_new == target_old)\n",
    "            dOZx_rep = OZx_new - OZx_old\n",
    "            dOZy_rep = OZy_new - OZy_old\n",
    "            dt_rep = (time_new-time_old)*3600. # in seconds\n",
    "            \n",
    "            dfout.iloc[index] = [ nightObs,time_new, dt_rep, dOZx_rep, dOZy_rep, flag_target,N]\n",
    "        \n",
    "        target_old = df.iloc[index][\"TARGET\"]\n",
    "        time_old = df.iloc[index][\"dt\"]\n",
    "        OZx_old = df.iloc[index][\"ozone [db]_x\"]\n",
    "        OZy_old = df.iloc[index][\"ozone [db]_y\"]\n",
    "        \n",
    "    return dfout"
   ]
  },
  {
   "cell_type": "code",
   "execution_count": null,
   "id": "e325547d-9f5e-4336-9fe4-5778597333cf",
   "metadata": {
    "execution": {
     "iopub.execute_input": "2024-12-09T16:23:54.136158Z",
     "iopub.status.busy": "2024-12-09T16:23:54.136023Z",
     "iopub.status.idle": "2024-12-09T16:24:14.709715Z",
     "shell.execute_reply": "2024-12-09T16:24:14.709277Z",
     "shell.execute_reply.started": "2024-12-09T16:23:54.136143Z"
    }
   },
   "outputs": [],
   "source": [
    "all_dateObs_sel = {}\n",
    "\n",
    "# loop on nights\n",
    "for night in all_selected_nights:\n",
    "    #select the night\n",
    "    \n",
    "    # Choose the kind of observation\n",
    "    df_spec_night = df_spec_sel[df_spec_sel[\"nightObs\"] == night]\n",
    "    df_spec_night_wp = df_spec_wp[df_spec_wp[\"nightObs\"] == night]\n",
    "    df_spec_night_np = df_spec_np[df_spec_np[\"nightObs\"] == night]\n",
    "    df_spec_night_np_f = df_spec_np_f[df_spec_np_f[\"nightObs\"] == night]\n",
    "    df_spec_night_np_b = df_spec_np_b[df_spec_np_b[\"nightObs\"] == night]\n",
    "\n",
    "    \n",
    "    #select the variables\n",
    "    df_night_o3_curve = df_spec_night[[\"Time\",\"ozone [db]_x\",\"ozone [db]_err_x\",\"ozone [db]_y\",\"ozone [db]_err_y\",\"dt_midnight\",\"AIRMASS\",\"TARGET\"]]\n",
    "    df_night_o3_curve_wp = df_spec_night_wp[[\"Time\",\"ozone [db]_x\",\"ozone [db]_err_x\",\"ozone [db]_y\",\"ozone [db]_err_y\",\"dt_midnight\",\"AIRMASS\",\"TARGET\"]]\n",
    "    df_night_o3_curve_np = df_spec_night_np[[\"Time\",\"ozone [db]_x\",\"ozone [db]_err_x\",\"ozone [db]_y\",\"ozone [db]_err_y\",\"dt_midnight\",\"AIRMASS\",\"TARGET\"]]\n",
    "    df_night_o3_curve_np_b = df_spec_night_np_b[[\"Time\",\"ozone [db]_x\",\"ozone [db]_err_x\",\"ozone [db]_y\",\"ozone [db]_err_y\",\"dt_midnight\",\"AIRMASS\",\"TARGET\"]]\n",
    "    df_night_o3_curve_np_f = df_spec_night_np_f[[\"Time\",\"ozone [db]_x\",\"ozone [db]_err_x\",\"ozone [db]_y\",\"ozone [db]_err_y\",\"dt_midnight\",\"AIRMASS\",\"TARGET\"]]\n",
    "\n",
    "    tmin = df_night_o3_curve[\"Time\"].min()\n",
    "    tmax = df_night_o3_curve[\"Time\"].max()\n",
    "\n",
    "\n",
    "    list_of_targets = df_night_o3_curve[\"TARGET\"].unique()\n",
    "    str_list_of_targets = \"\\n\".join(list_of_targets)\n",
    "\n",
    "    # convert in hours\n",
    "    df_night_o3_curve[\"dt\"] = (df_night_o3_curve[\"Time\"] - tmin).dt.total_seconds()/3600.\n",
    "    df_night_o3_curve_wp[\"dt\"] = (df_night_o3_curve_wp[\"Time\"] - tmin).dt.total_seconds()/3600.\n",
    "    df_night_o3_curve_np[\"dt\"] = (df_night_o3_curve_np[\"Time\"] - tmin).dt.total_seconds()/3600.\n",
    "    df_night_o3_curve_np_b[\"dt\"] = (df_night_o3_curve_np_b[\"Time\"] - tmin).dt.total_seconds()/3600.\n",
    "    df_night_o3_curve_np_f[\"dt\"] = (df_night_o3_curve_np_f[\"Time\"] - tmin).dt.total_seconds()/3600.\n",
    "    \n",
    "    \n",
    "    stat = df_night_o3_curve[[\"ozone [db]_x\"]].describe()\n",
    "    date_form = DateFormatter(\"%y-%m-%dT%H:%M\")\n",
    "    count = int(stat.loc[\"count\"].values[0])\n",
    "    mean = stat.loc[\"mean\"].values[0]\n",
    "    median = stat.loc[\"50%\"].values[0]\n",
    "    std = stat.loc[\"std\"].values[0]\n",
    "    textstr = \"\\n\".join((f\"count : {count}\",\n",
    "                     f\"mean : {mean:.1f} mm\",\n",
    "                     f\"median : {median:.1f} mm\",\n",
    "                     f\"std : {std:.1f} mm\",\n",
    "                    ))\n",
    "\n",
    "\n",
    "    \n",
    "\n",
    "    N= len(df_night_o3_curve)\n",
    "\n",
    "    if N>10:\n",
    "        # does the fit\n",
    "        \n",
    "        x,y,yerr,n,chi2dof,xfit,yfit,slope,slope_err = MakeLineFit(df_night_o3_curve)\n",
    "        \n",
    "        textstr2 = \"\\n\".join((f\"d(Ozone/dt) : \",\n",
    "                     f\"slope : {slope:.3f} DU/h \",\n",
    "                     f\"slope err : {slope_err:.3f} DU/h\",\n",
    "                     f\"chi2/ndeg : {chi2dof:.2f}\",       \n",
    "                    ))\n",
    "\n",
    "        textstr3 = \"\\n\".join((f\"d(Ozone/dt) : \",\n",
    "                     f\"slope : {slope:.3f} DU/h \",\n",
    "                     f\"slope err : {slope_err:.3f} DU/h\",  \n",
    "                    ))\n",
    "    \n",
    "\n",
    "        stat.loc[\"slope\",\"ozone [db]_x\"] = slope \n",
    "        stat.loc[\"slope_err\",\"ozone [db]_err_x\"] = slope_err \n",
    "        stat.loc[\"chi2\",\"ozone [db]_x\"] = chi2dof\n",
    "        \n",
    "        # plot\n",
    "        \n",
    "        fig = plt.figure(figsize=(16,6))\n",
    "        gs = GridSpec(1, 2,  width_ratios=[1.5,1],figure=fig)\n",
    "\n",
    "        # left figure\n",
    "        ax = fig.add_subplot(gs[0])\n",
    "        ax2 = fig.add_subplot(gs[1],sharey=ax)\n",
    "        #ax2 = fig.add_subplot(gs[1])\n",
    "        ax.set_xlim(tmin,tmax)\n",
    "        df_m.plot(x=\"Time\",y=\"TO3\",ax=ax,marker=\"o\",c=\"b\",lw=0.5,ms=5,label=\"Merra2\",legend=leg)  \n",
    "        #df_night_o3_curve.plot(x=\"Time\",y=\"ozone [db]_x\",ax=ax,marker='+',c=\"k\",lw=0.0,grid=True,legend=leg,label=\"all\",ms=8)\n",
    "        ax.errorbar(x=df_night_o3_curve.Time, y=df_night_o3_curve[\"ozone [db]_x\"],yerr=df_night_o3_curve[\"ozone [db]_err_x\"],fmt=\".\",color=\"k\",ecolor=\"k\",ms=1,label='all')\n",
    "        df_night_o3_curve_wp.plot(x=\"Time\",y=\"ozone [db]_x\",c=\"cyan\",ax=ax,marker='o',lw=0.0,grid=True,legend=leg2,label=\"polar\",ms=6,alpha=1)\n",
    "        df_night_o3_curve_np_b.plot(x=\"Time\",y=\"ozone [db]_x\",c=\"r\",ax=ax,marker='o',lw=0.0,grid=True,legend=leg2,label=\"bright, no polar\",ms=6,alpha=1)\n",
    "        df_night_o3_curve_np_f.plot(x=\"Time\",y=\"ozone [db]_x\",c=\"g\",ax=ax,marker='o',lw=0.0,grid=True,legend=leg2,label=\"faint, no polar\",ms=6,alpha=1)\n",
    "        \n",
    "        \n",
    "        ax.legend(loc=\"upper right\")\n",
    "        ax.set_ylabel(\"ozone [db]_x\")\n",
    "        ax.set_xlabel(\"time\")\n",
    "        ax.xaxis.set_major_formatter(date_form)\n",
    "        ax.set_ylim(0.,600.)\n",
    "        ax.text(0.03, 0.95, textstr, transform=ax.transAxes, fontsize=14,\n",
    "        verticalalignment='top', bbox=props)\n",
    "        #ax.text(0.35, 0.95, textstr3, transform=ax.transAxes, fontsize=14,verticalalignment='top', bbox=props)\n",
    "        ax.text(0.35, 0.95, str_list_of_targets, transform=ax.transAxes, fontsize=12,verticalalignment='top', bbox=props)\n",
    "        ax.set_title(f\"night {night}\")\n",
    "        \n",
    "        # right figure\n",
    "        ax2.errorbar(x=df_night_o3_curve.dt_midnight, y=df_night_o3_curve[\"ozone [db]_x\"],yerr=df_night_o3_curve[\"ozone [db]_err_x\"],fmt=\".\",color=\"k\",ecolor=\"k\",ms=1,label=\"all\")\n",
    "        df_night_o3_curve_wp.plot(x=\"dt_midnight\",y=\"ozone [db]_x\",c=\"cyan\",ax=ax2,marker='o',lw=0.0,grid=True,legend=leg,label=\"polar\",ms=6,alpha=1)\n",
    "        df_night_o3_curve_np_b.plot(x=\"dt_midnight\",y=\"ozone [db]_x\",c=\"r\",ax=ax2,marker='o',lw=0.0,grid=True,legend=leg,label=\"bright, no polar\",ms=6,alpha=1)\n",
    "        df_night_o3_curve_np_f.plot(x=\"dt_midnight\",y=\"ozone [db]_x\",c=\"g\",ax=ax2,marker='o',lw=0.0,grid=True,legend=leg,label=\"faint, no polar\",ms=6,alpha=1)\n",
    "        \n",
    "        ax2.set_xlabel(\"hours\")\n",
    "        ax2.set_ylim(0.,600.)\n",
    "        ax2.legend(loc=\"upper right\")\n",
    "        ax2.plot(xfit,yfit,\"k-\")\n",
    "        ax2.text(0.05, 0.95, textstr2, transform=ax2.transAxes, fontsize=14,verticalalignment='top', bbox=props)\n",
    "        ax2.set_title(f\"night {night}\")\n",
    "        ax2.axvline(x=0,color=\"k\",lw=2)\n",
    "        \n",
    "        plt.tight_layout()\n",
    "        figname =f\"{pathfigs}/o3_per_night_{night}\"+figtype\n",
    "        plt.savefig(figname)\n",
    "        plt.show()\n",
    "\n",
    "        # add statistics\n",
    "        all_dateObs_sel[night] = stat"
   ]
  },
  {
   "cell_type": "markdown",
   "id": "8f3f4be1-1f9c-4fae-a893-0e0c06c94625",
   "metadata": {},
   "source": [
    "### Version v2 for Blois Conference"
   ]
  },
  {
   "cell_type": "code",
   "execution_count": null,
   "id": "e20fa3f3-f994-4d89-a956-3e8a1e3d4883",
   "metadata": {
    "execution": {
     "iopub.execute_input": "2024-12-09T16:24:14.710368Z",
     "iopub.status.busy": "2024-12-09T16:24:14.710235Z",
     "iopub.status.idle": "2024-12-09T16:24:23.834726Z",
     "shell.execute_reply": "2024-12-09T16:24:23.834346Z",
     "shell.execute_reply.started": "2024-12-09T16:24:14.710356Z"
    }
   },
   "outputs": [],
   "source": [
    "\n",
    "\n",
    "# loop on nights\n",
    "for night in all_selected_nights:\n",
    "    #select the night\n",
    "    \n",
    "    # Choose the kind of observation\n",
    "    df_spec_night = df_spec_sel[df_spec_sel[\"nightObs\"] == night]\n",
    "    df_spec_night_wp = df_spec_wp[df_spec_wp[\"nightObs\"] == night]\n",
    "    df_spec_night_np = df_spec_np[df_spec_np[\"nightObs\"] == night]\n",
    "    df_spec_night_np_f = df_spec_np_f[df_spec_np_f[\"nightObs\"] == night]\n",
    "    df_spec_night_np_b = df_spec_np_b[df_spec_np_b[\"nightObs\"] == night]\n",
    "\n",
    "    \n",
    "    #select the variables\n",
    "    df_night_o3_curve = df_spec_night[[\"Time\",\"ozone [db]_x\",\"ozone [db]_err_x\",\"ozone [db]_y\",\"ozone [db]_err_y\",\"dt_midnight\",\"AIRMASS\",\"TARGET\"]]\n",
    "    df_night_o3_curve_wp = df_spec_night_wp[[\"Time\",\"ozone [db]_x\",\"ozone [db]_err_x\",\"ozone [db]_y\",\"ozone [db]_err_y\",\"dt_midnight\",\"AIRMASS\",\"TARGET\"]]\n",
    "    df_night_o3_curve_np = df_spec_night_np[[\"Time\",\"ozone [db]_x\",\"ozone [db]_err_x\",\"ozone [db]_y\",\"ozone [db]_err_y\",\"dt_midnight\",\"AIRMASS\",\"TARGET\"]]\n",
    "    df_night_o3_curve_np_b = df_spec_night_np_b[[\"Time\",\"ozone [db]_x\",\"ozone [db]_err_x\",\"ozone [db]_y\",\"ozone [db]_err_y\",\"dt_midnight\",\"AIRMASS\",\"TARGET\"]]\n",
    "    df_night_o3_curve_np_f = df_spec_night_np_f[[\"Time\",\"ozone [db]_x\",\"ozone [db]_err_x\",\"ozone [db]_y\",\"ozone [db]_err_y\",\"dt_midnight\",\"AIRMASS\",\"TARGET\"]]\n",
    "\n",
    "    tmin = df_night_o3_curve[\"Time\"].min()\n",
    "    tmax = df_night_o3_curve[\"Time\"].max()\n",
    "\n",
    "\n",
    "    list_of_targets = df_night_o3_curve[\"TARGET\"].unique()\n",
    "    str_list_of_targets = \"\\n\".join(list_of_targets)\n",
    "    str_list_of_targets = \"\\n\".join([\"targets:\",str_list_of_targets])\n",
    "\n",
    "    # convert in hours\n",
    "    df_night_o3_curve[\"dt\"] = (df_night_o3_curve[\"Time\"] - tmin).dt.total_seconds()/3600.\n",
    "    df_night_o3_curve_wp[\"dt\"] = (df_night_o3_curve_wp[\"Time\"] - tmin).dt.total_seconds()/3600.\n",
    "    df_night_o3_curve_np[\"dt\"] = (df_night_o3_curve_np[\"Time\"] - tmin).dt.total_seconds()/3600.\n",
    "    df_night_o3_curve_np_b[\"dt\"] = (df_night_o3_curve_np_b[\"Time\"] - tmin).dt.total_seconds()/3600.\n",
    "    df_night_o3_curve_np_f[\"dt\"] = (df_night_o3_curve_np_f[\"Time\"] - tmin).dt.total_seconds()/3600.\n",
    "    \n",
    "    \n",
    "    stat = df_night_o3_curve[[\"ozone [db]_x\"]].describe()\n",
    "    date_form = DateFormatter(\"%y-%m-%dT%H:%M\")\n",
    "    count = int(stat.loc[\"count\"].values[0])\n",
    "    mean = stat.loc[\"mean\"].values[0]\n",
    "    median = stat.loc[\"50%\"].values[0]\n",
    "    std = stat.loc[\"std\"].values[0]\n",
    "    textstr = \"\\n\".join((f\"count : {count}\",\n",
    "                     f\"mean : {mean:.1f} mm\",\n",
    "                     f\"median : {median:.1f} mm\",\n",
    "                     f\"std : {std:.1f} mm\",\n",
    "                    ))\n",
    "\n",
    "\n",
    "    \n",
    "\n",
    "    N= len(df_night_o3_curve)\n",
    "\n",
    "    if N>10:\n",
    "        # does the fit\n",
    "        \n",
    "        x,y,yerr,n,chi2dof,xfit,yfit,slope,slope_err = MakeLineFit(df_night_o3_curve)\n",
    "        \n",
    "        textstr2 = \"\\n\".join((f\"d(Ozone/dt) : \",\n",
    "                     f\"slope : {slope:.3f} DU/h \",\n",
    "                     f\"slope err : {slope_err:.3f} DU/h\",\n",
    "                     f\"chi2/ndeg : {chi2dof:.2f}\",       \n",
    "                    ))\n",
    "\n",
    "        textstr3 = \"\\n\".join((f\"d(Ozone/dt) : \",\n",
    "                     f\"slope : {slope:.3f} DU/h \",\n",
    "                     f\"slope err : {slope_err:.3f} DU/h\",  \n",
    "                    ))\n",
    "    \n",
    "\n",
    "        stat.loc[\"slope\",\"ozone [db]_x\"] = slope \n",
    "        stat.loc[\"slope_err\",\"ozone [db]_err_x\"] = slope_err \n",
    "        stat.loc[\"chi2\",\"ozone [db]_x\"] = chi2dof\n",
    "        \n",
    "        # plot\n",
    "        \n",
    "        fig,ax  = plt.subplots(1,1,figsize=(8,4))\n",
    "        leg=ax.get_legend()\n",
    "       \n",
    "        \n",
    "        # figure\n",
    "        ax.errorbar(x=df_night_o3_curve.dt_midnight, y=df_night_o3_curve[\"ozone [db]_x\"],yerr=df_night_o3_curve[\"ozone [db]_err_x\"],fmt=\".\",color=\"k\",ecolor=\"k\",ms=1,label=\"stat err\")\n",
    "        df_night_o3_curve_wp.plot(x=\"dt_midnight\",y=\"ozone [db]_x\",c=\"cyan\",ax=ax,marker='o',lw=0.0,grid=True,legend=leg,label=\"polar\",ms=6,alpha=1)\n",
    "        df_night_o3_curve_np_b.plot(x=\"dt_midnight\",y=\"ozone [db]_x\",c=\"r\",ax=ax,marker='o',lw=0.0,grid=True,legend=leg,label=\"bright, no polar\",ms=6,alpha=1)\n",
    "        df_night_o3_curve_np_f.plot(x=\"dt_midnight\",y=\"ozone [db]_x\",c=\"g\",ax=ax,marker='o',lw=0.0,grid=True,legend=leg,label=\"faint, no polar\",ms=6,alpha=1)\n",
    "        \n",
    "        ax.set_xlabel(\"hours since midnight\")\n",
    "        ax.set_ylim(0.,600.)\n",
    "        ax.set_ylabel(\"Ozone (DU)\")\n",
    "        ax.legend(loc=\"upper right\")\n",
    "        ax.plot(xfit,yfit,\"k:\",lw=0.1)\n",
    "        #ax.text(0.05, 0.95, textstr2, transform=ax.transAxes, fontsize=14,verticalalignment='top', bbox=props)\n",
    "        ax.text(0.01, 0.95, str_list_of_targets, transform=ax.transAxes, fontsize=12,verticalalignment='top', bbox=props,alpha=0.5)\n",
    "        ax.set_title(f\"night {night}\")\n",
    "        ax.axvline(x=0,color=\"k\",lw=2)\n",
    "        \n",
    "        plt.tight_layout()\n",
    "        figname =f\"{pathfigs}/o3_per_night_{night}_confblois24\"+figtype\n",
    "        plt.savefig(figname)\n",
    "        plt.show()\n",
    "\n"
   ]
  },
  {
   "cell_type": "markdown",
   "id": "97b44c4b-b7d6-40c2-bdd5-976c712f5ee2",
   "metadata": {},
   "source": [
    "## Make a summary of Night quality"
   ]
  },
  {
   "cell_type": "code",
   "execution_count": null,
   "id": "bfa3a59b-6f7c-41d5-a29a-78e55a6ada7f",
   "metadata": {
    "execution": {
     "iopub.execute_input": "2024-12-09T16:24:23.835338Z",
     "iopub.status.busy": "2024-12-09T16:24:23.835204Z",
     "iopub.status.idle": "2024-12-09T16:24:23.838500Z",
     "shell.execute_reply": "2024-12-09T16:24:23.838154Z",
     "shell.execute_reply.started": "2024-12-09T16:24:23.835325Z"
    },
    "tags": []
   },
   "outputs": [],
   "source": [
    "def GetStatistics(all_dateObs_sel):\n",
    "    df = pd.DataFrame(columns = [\"count\",\"mean\",\"median\",\"std\",\"slope\",\"slope_err\"])\n",
    "    \n",
    "    for nightObs, stat in all_dateObs_sel.items():\n",
    "        count = int(stat.loc[\"count\"].values[0])\n",
    "        mean = stat.loc[\"mean\"].values[0]\n",
    "        median = stat.loc[\"50%\"].values[0]\n",
    "        std = stat.loc[\"std\"].values[0]\n",
    "        slope = stat.loc[\"slope\"].values[0]\n",
    "        slope_err = stat.loc[\"slope_err\"].values[0]\n",
    "        df.loc[nightObs] = [count,mean,median,std,slope,slope_err]\n",
    "    return df"
   ]
  },
  {
   "cell_type": "code",
   "execution_count": null,
   "id": "ee183be8-d164-47f1-9197-ec551b9d83ef",
   "metadata": {
    "execution": {
     "iopub.execute_input": "2024-12-09T16:24:23.839081Z",
     "iopub.status.busy": "2024-12-09T16:24:23.838961Z",
     "iopub.status.idle": "2024-12-09T16:24:23.876378Z",
     "shell.execute_reply": "2024-12-09T16:24:23.875936Z",
     "shell.execute_reply.started": "2024-12-09T16:24:23.839070Z"
    },
    "tags": []
   },
   "outputs": [],
   "source": [
    "df = GetStatistics(all_dateObs_sel)"
   ]
  },
  {
   "cell_type": "markdown",
   "id": "16430af9-5fc4-4398-9440-a7816b3723ce",
   "metadata": {},
   "source": [
    "### Convert dateobs into datetime"
   ]
  },
  {
   "cell_type": "code",
   "execution_count": null,
   "id": "a7d41f71-743d-432e-a431-c53e7373d6d0",
   "metadata": {
    "execution": {
     "iopub.execute_input": "2024-12-09T16:24:23.879997Z",
     "iopub.status.busy": "2024-12-09T16:24:23.879867Z",
     "iopub.status.idle": "2024-12-09T16:24:23.882775Z",
     "shell.execute_reply": "2024-12-09T16:24:23.882401Z",
     "shell.execute_reply.started": "2024-12-09T16:24:23.879986Z"
    }
   },
   "outputs": [],
   "source": [
    "def ComputeDataTimeStr(num):\n",
    "    year = num//10000\n",
    "    remain = (num-year*10000)\n",
    "    month = remain//100\n",
    "    day = remain-100*month\n",
    "    yearstr = f\"{year}\"\n",
    "    monthstr = f\"{month}\"\n",
    "    daystr= f\"{day}\"\n",
    "    stry = yearstr.zfill(4)\n",
    "    strm = monthstr.zfill(2)\n",
    "    strd = daystr.zfill(2)\n",
    "    \n",
    "    str = f\"{stry}-{strm}-{strd}\"\n",
    "    return str"
   ]
  },
  {
   "cell_type": "code",
   "execution_count": null,
   "id": "52cad1fd-2fce-4659-ac9d-e86db14e8add",
   "metadata": {
    "execution": {
     "iopub.execute_input": "2024-12-09T16:24:23.883453Z",
     "iopub.status.busy": "2024-12-09T16:24:23.883241Z",
     "iopub.status.idle": "2024-12-09T16:24:23.889291Z",
     "shell.execute_reply": "2024-12-09T16:24:23.888684Z",
     "shell.execute_reply.started": "2024-12-09T16:24:23.883435Z"
    }
   },
   "outputs": [],
   "source": [
    "df[\"Time\"] = pd.to_datetime([ ComputeDataTimeStr(num) for  num in df.index])"
   ]
  },
  {
   "cell_type": "markdown",
   "id": "cd25edb3-2a19-44a1-a0a1-76b44ebc5607",
   "metadata": {},
   "source": [
    "### Plot summary"
   ]
  },
  {
   "cell_type": "code",
   "execution_count": null,
   "id": "c64dba7f-f24b-4fc8-b731-9f3db4c1263c",
   "metadata": {
    "execution": {
     "iopub.execute_input": "2024-12-09T16:24:23.889870Z",
     "iopub.status.busy": "2024-12-09T16:24:23.889751Z",
     "iopub.status.idle": "2024-12-09T16:24:24.338180Z",
     "shell.execute_reply": "2024-12-09T16:24:24.337778Z",
     "shell.execute_reply.started": "2024-12-09T16:24:23.889859Z"
    }
   },
   "outputs": [],
   "source": [
    "from matplotlib.dates import DateFormatter\n",
    "date_form = DateFormatter(\"%y-%m-%d\")\n",
    "fig,axs = plt.subplots(2,1,figsize=(12,8),sharex=True)\n",
    "ax1,ax2  = axs\n",
    "\n",
    "leg1=ax1.get_legend()\n",
    "leg2=ax2.get_legend()\n",
    "\n",
    "ax1.set_xlim(TMIN,TMAX)\n",
    "df_m.plot(x=\"Time\",y=\"TO3\",ax=ax1,marker=\".\",c=\"b\",lw=0.5,label=\"Merra2\",ms=1,legend=leg)   \n",
    "df.plot(x=\"Time\",y=\"median\",ax=ax1,marker='+',c=\"r\",lw=0.0,grid=True,ms=10,label=tag,legend=leg1)\n",
    "ax1.errorbar(x=df[\"Time\"], y=df[\"median\"],yerr=df[\"std\"],fmt=\".\",color=\"r\",ecolor=\"k\")\n",
    "\n",
    "ax1.set_ylabel(\"Ozone (DU)\")\n",
    "ax1.set_xlabel(\"time\")\n",
    "ax1.xaxis.set_major_formatter(date_form)\n",
    "ax1.set_title(\"Median Ozone per night\")\n",
    "ax1.set_ylim(0.,600.)\n",
    "ax1.legend(loc=\"upper right\")\n",
    "ax1.axvspan(TMIN,datetime_WITHCOLLIMATOR, color='yellow', alpha=0.1)\n",
    "\n",
    "\n",
    "ax2.set_title(\"Fitted drift per night\")\n",
    "ax2.errorbar(x=df[\"Time\"], y=df[\"slope\"],yerr=df[\"slope_err\"],fmt=\".\",color=\"r\",ecolor=\"k\",ms=10,label=tag,legend=leg2)\n",
    "ax2.grid()\n",
    "ax2.set_ylabel(\"dOzone/dt (DU/h)\")\n",
    "ax2.set_xlabel(\"time\")\n",
    "ax2.set_ylim(-50.,50.)\n",
    "ax2.xaxis.set_major_formatter(date_form)\n",
    "ax2.legend(loc=\"upper right\")\n",
    "\n",
    "ax2.tick_params(axis='x', labelrotation=45)\n",
    "ax2.axvspan(TMIN,datetime_WITHCOLLIMATOR, color='yellow', alpha=0.1)\n",
    "\n",
    "plt.tight_layout()\n",
    "figname =f\"{pathfigs}/ozone_medianspredslope_allnights\"+figtype\n",
    "plt.savefig(figname)\n",
    "plt.show()\n"
   ]
  },
  {
   "cell_type": "code",
   "execution_count": null,
   "id": "6b9b1cf9-b7a0-448f-8262-c3277de89d62",
   "metadata": {
    "execution": {
     "iopub.execute_input": "2024-12-09T16:24:24.338892Z",
     "iopub.status.busy": "2024-12-09T16:24:24.338638Z",
     "iopub.status.idle": "2024-12-09T16:24:24.550745Z",
     "shell.execute_reply": "2024-12-09T16:24:24.550281Z",
     "shell.execute_reply.started": "2024-12-09T16:24:24.338879Z"
    }
   },
   "outputs": [],
   "source": [
    "from matplotlib.dates import DateFormatter\n",
    "date_form = DateFormatter(\"%y-%m-%d\")\n",
    "fig,axs = plt.subplots(1,1,figsize=(14,6))\n",
    "ax = axs\n",
    "leg=ax.get_legend()\n",
    "\n",
    "ax.set_xlim(TMIN,TMAX)\n",
    "df_m.plot(x=\"Time\",y=\"TO3\",ax=ax,marker=\".\",c=\"b\",lw=0.5,label=\"Merra2\",ms=1,legend=leg)   \n",
    "df.plot(x=\"Time\",y=\"median\",ax=ax,marker='+',c=\"r\",ms=20,lw=0.0,grid=True,label=tag,legend=leg)\n",
    "ax.errorbar(x=df[\"Time\"], y=df[\"median\"],yerr=df[\"std\"],fmt=\"o\",ms=5,color=\"r\",ecolor=\"k\")\n",
    "ax.set_ylabel(\"Ozone (DU)\")\n",
    "ax.set_xlabel(\"time\")\n",
    "ax.xaxis.set_major_formatter(date_form)\n",
    "ax.set_title(\"Median and spread of Ozone per night\")\n",
    "ax.set_ylim(0.,600)\n",
    "\n",
    "ax.axvspan(TMIN,datetime_WITHCOLLIMATOR, color='yellow', alpha=0.1)\n",
    "ax.legend(loc=\"upper right\")\n",
    "\n",
    "figname =f\"{pathfigs}/ozone_medians_allnights\"+figtype\n",
    "plt.savefig(figname)\n",
    "plt.show()\n"
   ]
  }
 ],
 "metadata": {
  "kernelspec": {
   "display_name": "Python 3 (ipykernel)",
   "language": "python",
   "name": "python3"
  },
  "language_info": {
   "codemirror_mode": {
    "name": "ipython",
    "version": 3
   },
   "file_extension": ".py",
   "mimetype": "text/x-python",
   "name": "python",
   "nbconvert_exporter": "python",
   "pygments_lexer": "ipython3",
   "version": "3.11.9"
  }
 },
 "nbformat": 4,
 "nbformat_minor": 5
}
