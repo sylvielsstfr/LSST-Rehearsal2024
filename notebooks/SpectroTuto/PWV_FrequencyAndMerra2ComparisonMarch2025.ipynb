{
 "cells": [
  {
   "cell_type": "markdown",
   "id": "45bf4242-bfc5-4d43-88c4-a8059ae148df",
   "metadata": {},
   "source": [
    "# Frequencies in PWV rariation and comparison to Merra2"
   ]
  },
  {
   "cell_type": "markdown",
   "id": "01993b6e-6438-4fca-a5d5-1f9791336847",
   "metadata": {},
   "source": [
    "- author Sylvie Dagoret-Campagne\n",
    "- affiliation : IJCLab\n",
    "- creation date 2025-03-03 :\n",
    "- last update 2025-03-03\n",
    "- last update : 2025-03-06  : test stationarity # p-value for a 2-sided t-test from scipy import stats\n",
    "        2*(stats.t.sf( abs(tau_avg) ,dof=1000 ))\n",
    "        https://stackoverflow.com/questions/35544233/fit-a-curve-to-a-histogram-in-python\n",
    "        statsmodels\n",
    "- Kernel @usdf **w_2025_50*\n",
    "- Office emac : mamba_py311\n",
    "- Home emac : base (conda)\n"
   ]
  },
  {
   "cell_type": "markdown",
   "id": "0219159d-6865-4311-ac1d-99d11dad223f",
   "metadata": {},
   "source": [
    "**Goal** : Show correlation holo /Merra"
   ]
  },
  {
   "cell_type": "code",
   "execution_count": null,
   "id": "63a2b2ef-0bc2-45eb-91d9-87835d264751",
   "metadata": {
    "tags": []
   },
   "outputs": [],
   "source": [
    "from platform import python_version\n",
    "print(python_version())"
   ]
  },
  {
   "cell_type": "code",
   "execution_count": null,
   "id": "dcc53afe-c58f-4948-92c9-0090d373ad2a",
   "metadata": {},
   "outputs": [],
   "source": [
    "import warnings\n",
    "warnings.resetwarnings()\n",
    "warnings.simplefilter('ignore')"
   ]
  },
  {
   "cell_type": "code",
   "execution_count": null,
   "id": "8026d265-2493-4045-afec-26205ff71f7c",
   "metadata": {
    "tags": []
   },
   "outputs": [],
   "source": [
    "from platform import python_version\n",
    "print(python_version())"
   ]
  },
  {
   "cell_type": "code",
   "execution_count": null,
   "id": "eb1f116e-80e3-46ad-a7db-7f253632e5ca",
   "metadata": {},
   "outputs": [],
   "source": [
    "import os,glob"
   ]
  },
  {
   "cell_type": "code",
   "execution_count": null,
   "id": "c4ff1199-6b0a-4147-a425-59405f74c454",
   "metadata": {},
   "outputs": [],
   "source": [
    "#from pyzdcf import pyzdcf"
   ]
  },
  {
   "cell_type": "code",
   "execution_count": null,
   "id": "3ec760cd-3d3f-4a34-a6f6-b226fe500951",
   "metadata": {},
   "outputs": [],
   "source": [
    "# where are stored the figures\n",
    "pathfigs = \"figsPWVFrequenciesAndMerra2\"\n",
    "if not os.path.exists(pathfigs):\n",
    "    os.makedirs(pathfigs) \n",
    "figtype = \".png\""
   ]
  },
  {
   "cell_type": "code",
   "execution_count": null,
   "id": "805cabc7-2030-4e0b-9150-9f3186ff4821",
   "metadata": {},
   "outputs": [],
   "source": [
    "pathdata = \"dataPWVFrequenciesAndMerra2\"\n",
    "if not os.path.exists(pathdata):\n",
    "    os.makedirs(pathdata) \n",
    "datapath_input = os.path.join(pathdata,\"timecurves\") \n",
    "datapath_output = os.path.join(pathdata,\"results\") \n",
    "if not os.path.exists(datapath_input):\n",
    "    os.makedirs(datapath_input) \n",
    "if not os.path.exists(datapath_output):\n",
    "    os.makedirs(datapath_output) "
   ]
  },
  {
   "cell_type": "code",
   "execution_count": null,
   "id": "d12fd731-fca9-40a9-8541-53afb074548f",
   "metadata": {},
   "outputs": [],
   "source": [
    "ls ../SpectroSimulation/AnaMerra2/"
   ]
  },
  {
   "cell_type": "code",
   "execution_count": null,
   "id": "efba64b8-2433-4b09-a2ed-abd428632693",
   "metadata": {},
   "outputs": [],
   "source": [
    "# where are stored the figures\n",
    "inputpathm2residualsdata = \"../SpectroSimulation/AnaMerra2/dataFitGPPerAtmosphereFromMerra2\"\n",
    "if not os.path.exists(inputpathm2residualsdata):\n",
    "    #os.makedirs(pathdata) \n",
    "    raise Exception(\"Missing input Merra2 data on residuals\")\n",
    "else:\n",
    "    filessearch_str = os.path.join(inputpathm2residualsdata ,\"*.csv\")\n",
    "    filelist = glob.glob( filessearch_str)"
   ]
  },
  {
   "cell_type": "code",
   "execution_count": null,
   "id": "11e6415b-1ac4-47e2-ba40-c322f37e5878",
   "metadata": {},
   "outputs": [],
   "source": [
    "filename_residuals = {}\n",
    "for tag in [\"pwv\", \"ozone\",\"vaod\", \"angstrom\"]:\n",
    "    for filename in filelist:\n",
    "        if tag in filename:\n",
    "            filename_residuals[tag] = filename\n",
    "            break\n",
    "filename_residuals  "
   ]
  },
  {
   "cell_type": "code",
   "execution_count": null,
   "id": "bf752b70-e6ca-4cbf-8e8c-20bf7f0d8f61",
   "metadata": {},
   "outputs": [],
   "source": [
    "import numpy as np\n",
    "from numpy.linalg import inv\n",
    "import matplotlib as mpl\n",
    "import matplotlib.pyplot as plt\n",
    "%matplotlib inline\n",
    "\n",
    "import matplotlib.gridspec as gridspec\n",
    "\n",
    "from mpl_toolkits.axes_grid1 import make_axes_locatable\n",
    "from matplotlib.colors import LogNorm,SymLogNorm\n",
    "from matplotlib.patches import Circle,Annulus\n",
    "from astropy.visualization import ZScaleInterval\n",
    "props = dict(boxstyle='round', facecolor=\"white\", alpha=0.1)\n",
    "#props = dict(boxstyle='round')\n",
    "\n",
    "import matplotlib.colors as colors\n",
    "import matplotlib.cm as cmx\n",
    "\n",
    "import matplotlib.ticker                         # here's where the formatter is\n",
    "from matplotlib.ticker import (MultipleLocator, FormatStrFormatter,\n",
    "                               AutoMinorLocator)\n",
    "\n",
    "from matplotlib.gridspec import GridSpec\n",
    "\n",
    "from astropy.visualization import (MinMaxInterval, SqrtStretch,ZScaleInterval,PercentileInterval,\n",
    "                                   ImageNormalize,imshow_norm)\n",
    "from astropy.visualization.stretch import SinhStretch, LinearStretch,AsinhStretch,LogStretch\n",
    "\n",
    "from astropy.io import fits\n",
    "from astropy.wcs import WCS\n",
    "from astropy import units as u\n",
    "from astropy import constants as c\n",
    "\n",
    "from astropy.coordinates.earth import EarthLocation\n",
    "from datetime import datetime\n",
    "from pytz import timezone\n",
    "\n",
    "from scipy import interpolate\n",
    "from sklearn.neighbors import NearestNeighbors\n",
    "from sklearn.neighbors import KDTree, BallTree\n",
    "\n",
    "import pandas as pd\n",
    "pd.set_option(\"display.max_columns\", None)\n",
    "pd.set_option('display.max_rows', 100)\n",
    "\n",
    "import matplotlib.ticker                         # here's where the formatter is\n",
    "import os\n",
    "import re\n",
    "import pandas as pd\n",
    "import pickle\n",
    "from collections import OrderedDict\n",
    "\n",
    "plt.rcParams[\"figure.figsize\"] = (4,3)\n",
    "plt.rcParams[\"axes.labelsize\"] = 'xx-large'\n",
    "plt.rcParams['axes.titlesize'] = 'xx-large'\n",
    "plt.rcParams['xtick.labelsize']= 'xx-large'\n",
    "plt.rcParams['ytick.labelsize']= 'xx-large'\n",
    "\n",
    "import scipy\n",
    "from scipy.optimize import curve_fit,least_squares\n",
    "\n",
    "\n",
    "# new color correction model\n",
    "import pickle\n",
    "#from scipy.interpolate import RegularGridInterpolator"
   ]
  },
  {
   "cell_type": "code",
   "execution_count": null,
   "id": "62a8d6b4-61ec-4810-a058-e5d7f46b5ff7",
   "metadata": {},
   "outputs": [],
   "source": [
    "from astropy.modeling import models, fitting"
   ]
  },
  {
   "cell_type": "code",
   "execution_count": null,
   "id": "98268139-19c9-46c3-af3b-42fb49770b26",
   "metadata": {},
   "outputs": [],
   "source": [
    "from mpl_toolkits.axes_grid1.inset_locator import inset_axes"
   ]
  },
  {
   "cell_type": "code",
   "execution_count": null,
   "id": "0ca0d1e6-5f82-4c43-aaa3-8524fc2bc5ba",
   "metadata": {},
   "outputs": [],
   "source": [
    "from matplotlib.ticker import (MultipleLocator, FormatStrFormatter,\n",
    "                               AutoMinorLocator)\n",
    "\n",
    "from astropy.visualization import (MinMaxInterval, SqrtStretch,ZScaleInterval,PercentileInterval,\n",
    "                                   ImageNormalize,imshow_norm)\n",
    "from astropy.visualization.stretch import SinhStretch, LinearStretch,AsinhStretch,LogStretch\n",
    "\n",
    "from astropy.time import Time\n",
    "from astropy.timeseries import LombScargle\n",
    "\n",
    "from scipy.stats import t  # Loi de Student"
   ]
  },
  {
   "cell_type": "code",
   "execution_count": null,
   "id": "4ea761f2-08a7-4c62-acea-0999264701b8",
   "metadata": {},
   "outputs": [],
   "source": [
    "#from scipy.interpolate import interp"
   ]
  },
  {
   "cell_type": "code",
   "execution_count": null,
   "id": "304287e5-3105-4dd8-93eb-d675a9c0e911",
   "metadata": {},
   "outputs": [],
   "source": [
    "from sklearn.gaussian_process.kernels import RBF\n",
    "from sklearn.gaussian_process.kernels import ExpSineSquared\n",
    "from sklearn.gaussian_process.kernels import RationalQuadratic\n",
    "from sklearn.gaussian_process.kernels import WhiteKernel\n",
    "from sklearn.gaussian_process.kernels import ConstantKernel\n",
    "from sklearn.gaussian_process import GaussianProcessRegressor"
   ]
  },
  {
   "cell_type": "code",
   "execution_count": null,
   "id": "e189816c-5048-43ab-a01a-7c078af54489",
   "metadata": {},
   "outputs": [],
   "source": [
    "# Remove to run faster the notebook\n",
    "import ipywidgets as widgets\n",
    "%matplotlib widget"
   ]
  },
  {
   "cell_type": "code",
   "execution_count": null,
   "id": "67327fd4-e405-45ce-8923-cd46ebaa0c0f",
   "metadata": {
    "tags": []
   },
   "outputs": [],
   "source": [
    "from importlib.metadata import version"
   ]
  },
  {
   "cell_type": "code",
   "execution_count": null,
   "id": "af8332dd-24f9-4b19-88f9-c62d0a4aebf1",
   "metadata": {
    "tags": []
   },
   "outputs": [],
   "source": [
    "# wavelength bin colors\n",
    "#jet = plt.get_cmap('jet')\n",
    "#cNorm = mpl.colors.Normalize(vmin=0, vmax=NSED)\n",
    "#scalarMap = cmx.ScalarMappable(norm=cNorm, cmap=jet)\n",
    "#all_colors = scalarMap.to_rgba(np.arange(NSED), alpha=1)"
   ]
  },
  {
   "cell_type": "code",
   "execution_count": null,
   "id": "1003d9d6-a40f-48b1-9ffc-bfab9f45ba93",
   "metadata": {},
   "outputs": [],
   "source": [
    "np.__version__"
   ]
  },
  {
   "cell_type": "code",
   "execution_count": null,
   "id": "c4cb2652-cb22-432e-b110-ae71d59dc793",
   "metadata": {},
   "outputs": [],
   "source": [
    "import pandas as pd\n",
    "pd.__version__"
   ]
  },
  {
   "cell_type": "code",
   "execution_count": null,
   "id": "ad03dc3d-6741-4478-82ba-1d5447529d9a",
   "metadata": {},
   "outputs": [],
   "source": [
    "def convertNumToDatestr(num):\n",
    "    year = num//10_000\n",
    "    month= (num-year*10_000)//100\n",
    "    day = (num-year*10_000-month*100)\n",
    "\n",
    "    year_str = str(year).zfill(4)\n",
    "    month_str = str(month).zfill(2)\n",
    "    day_str = str(day).zfill(2)\n",
    "    \n",
    "    datestr = f\"{year_str}-{month_str}-{day_str}\"\n",
    "    return pd.to_datetime(datestr)"
   ]
  },
  {
   "cell_type": "code",
   "execution_count": null,
   "id": "d593f5e5-df02-42f7-b138-1440e2585a18",
   "metadata": {},
   "outputs": [],
   "source": [
    "YEAR = 365.25\n",
    "MONTHS6 = YEAR/2.\n",
    "MONTHS4 = YEAR/3.\n",
    "QUARTER = YEAR/4. \n",
    "DAY = 1.\n",
    "MONTH = YEAR/12.\n",
    "WEEK = 7*DAY"
   ]
  },
  {
   "cell_type": "code",
   "execution_count": null,
   "id": "f2acbe22-b2d3-454e-ad8a-1a63b8f340c5",
   "metadata": {},
   "outputs": [],
   "source": [
    "FIGXSIZE_1 = 14\n",
    "FIGYSIZE_1 = 8\n",
    "\n",
    "FIGXSIZE_0 = 14\n",
    "FIGYSIZE_0 = 5"
   ]
  },
  {
   "cell_type": "code",
   "execution_count": null,
   "id": "05efc580-59a7-422a-aa9b-deacf4c34f12",
   "metadata": {},
   "outputs": [],
   "source": [
    "def LombScargle_analysis(dates, values, ax ,mode = \"logxlogy\",title=\"LombScargle - Spectrum\",\n",
    "                    xlabel=\"frequency (day)$^{-1}$\",ylabel=\"y-unit\",label=\"Lomb Scargle\", legendout = True, datecut = 0 ):\n",
    "    # Centrer les données autour de la moyenne\n",
    "\n",
    "\n",
    "    if datecut>0:\n",
    "        index_selected = np.where(dates >= datecut)[0]\n",
    "        dates = dates[index_selected]\n",
    "        values = values[index_selected]\n",
    "\n",
    "    \n",
    "    values_centered = values - np.mean(values)\n",
    "    \n",
    "\n",
    "    # Nombre de points\n",
    "    N = len(dates)\n",
    "\n",
    "    # sigma\n",
    "    sigma_x = np.sqrt(np.sum(values_centered**2)/N)\n",
    "    \n",
    "    # Intervalle d'échantillonnage (assume 1 jour entre chaque point)\n",
    "    T = np.mean(np.diff(dates))  # Période d'échantillonnage\n",
    "\n",
    "    # Fréquence de Nyquist (limite de Shannon)\n",
    "    f_nyquist = 1 / (2 * T)\n",
    "    \n",
    "\n",
    "    freqs, power = LombScargle(dates, values_centered).autopower()\n",
    "   \n",
    "    ax.plot(freqs, power,'ob-' ,ms=5,label=label)\n",
    "\n",
    "    if mode == \"logxliny\":\n",
    "        ax.set_xscale(\"log\")  # Définit l'axe X en échelle logarithmique\n",
    "        ax.set_yscale(\"linear\")  # Garde l'axe Y en échelle linéaire\n",
    "    elif mode == \"logxlogy\":\n",
    "        ax.set_xscale(\"log\")  # Définit l'axe X en échelle logarithmique\n",
    "        ax.set_yscale(\"log\")  # Garde l'axe Y en échelle logarithmique\n",
    "    elif mode == \"linxlogy\":\n",
    "        ax.set_xscale(\"linear\")  # Définit l'axe X en  échelle linéaire\n",
    "        ax.set_yscale(\"log\")  # Garde l'axe Y en échelle logarithmique\n",
    "    elif mode == \"linxliny\":\n",
    "        ax.set_xscale(\"linear\")  # Définit l'axe X en échelle linéaire\n",
    "        ax.set_yscale(\"linear\")  # Garde l'axe Y en échelle linéaire\n",
    "        \n",
    "    ax.set_xlabel(xlabel)\n",
    "    ax.set_ylabel(ylabel)\n",
    "    ax.set_title(title)\n",
    "    \n",
    "\n",
    "    ax.axvline(1/YEAR, color='r', linestyle='-', label=\"Cycle : 365 days - 1 year\")\n",
    "    ax.axvline(1/MONTHS6, color='r', linestyle='--', label=\"Cycle : 182.6 days - 6 months\")\n",
    "    ax.axvline(1/MONTHS4, color='r', linestyle=':', label=\"Cycle : 121.7 days - 4 months\")\n",
    "    ax.axvline(1/QUARTER, color='r', linestyle='-.', label=\"Cycle : 91.3 days - 3 months\")\n",
    "    ax.axvline(1/MONTH, color='r', linestyle=':', label=\"Cycle : 30.4 days - 1 month\")\n",
    "    ax.axvline(1/WEEK, color='purple', linestyle='--', label=\"Cycle : 7 days - 1 week\")\n",
    "    ax.axvline(DAY, color='purple', linestyle='-', label=\"Cycle : 1 day \")\n",
    "    ax.axvline(1./(0.5*DAY), color='purple', linestyle='-.', label=\"Cycle : 0.5 day \")\n",
    "\n",
    "    #ax.axvline(f_nyquist, color='g', linestyle='--', label=f\"Nyquist frequency({f_nyquist:.3f} cycles/days)\")\n",
    "\n",
    "    txtstr_sigma = \"$\\sigma_x$ = \" + f\" {sigma_x:0.3f}\" \n",
    "    ax.text(0.01, 0.95, txtstr_sigma, transform=ax.transAxes, fontsize=16,verticalalignment='top', bbox=props)\n",
    "    \n",
    "\n",
    "    if legendout:\n",
    "        ax.legend(bbox_to_anchor=(1.05, 1.05),fontsize=12)\n",
    "    else:\n",
    "        ax.legend(fontsize=10,fancybox=True, framealpha=0.5)\n",
    "        \n"
   ]
  },
  {
   "cell_type": "markdown",
   "id": "4f13d6a3-7793-4bc0-920a-1d690d9f84b2",
   "metadata": {},
   "source": [
    "## Configuration"
   ]
  },
  {
   "cell_type": "code",
   "execution_count": null,
   "id": "c8cb2e48-0b34-4cbf-8379-43f7065112f7",
   "metadata": {},
   "outputs": [],
   "source": [
    "observing_location = EarthLocation.of_site('Rubin Observatory')\n",
    "tz = timezone('America/Santiago')"
   ]
  },
  {
   "cell_type": "markdown",
   "id": "3fa1daa3-8d08-4f42-ab9b-b29b796da806",
   "metadata": {},
   "source": [
    "## Merra2"
   ]
  },
  {
   "cell_type": "code",
   "execution_count": null,
   "id": "4d84f26b-e246-4215-bc35-4382bdb57799",
   "metadata": {},
   "outputs": [],
   "source": [
    "filename_m2 = \"../SpectroMerra2/MerradataMerged/Merge_inst1_2d_asm_Nx_M2I1NXASM-2021-2024.csv\"\n",
    "if not os.path.isfile(filename_m2):\n",
    "    #os.makedirs(pathdata) \n",
    "    raise Exception(\"Missing input Merra2 input file {filename_m2}\")"
   ]
  },
  {
   "cell_type": "code",
   "execution_count": null,
   "id": "b35d51c2-cddf-4205-aaba-4effcce200ef",
   "metadata": {},
   "outputs": [],
   "source": [
    "df_m = pd.read_csv(filename_m2,index_col=0)"
   ]
  },
  {
   "cell_type": "code",
   "execution_count": null,
   "id": "f239a5fd-0e33-4afb-a03d-ada5c32bf27e",
   "metadata": {},
   "outputs": [],
   "source": [
    "df_m[\"mjd\"] = Time(pd.to_datetime(df_m.time.values)).mjd"
   ]
  },
  {
   "cell_type": "code",
   "execution_count": null,
   "id": "6ed17238-5d2d-4ae9-b081-0ec038a6050b",
   "metadata": {},
   "outputs": [],
   "source": [
    "df_m.head()"
   ]
  },
  {
   "cell_type": "code",
   "execution_count": null,
   "id": "dc3586c0-aaa9-449d-8b36-8ebbcb2b0de6",
   "metadata": {},
   "outputs": [],
   "source": [
    "df_m"
   ]
  },
  {
   "cell_type": "markdown",
   "id": "4a6c80d3-43f5-4189-80f0-ae20b16f5eaf",
   "metadata": {},
   "source": [
    "#### Add residuals from Gaussian process periodic fit"
   ]
  },
  {
   "cell_type": "code",
   "execution_count": null,
   "id": "a5f006ec-367c-43ee-8fcc-133922765fd3",
   "metadata": {},
   "outputs": [],
   "source": [
    "full_filename_m2res = filename_residuals[\"pwv\"]\n",
    "print(full_filename_m2res)\n",
    "df_m2res = pd.read_csv(full_filename_m2res,index_col=0)"
   ]
  },
  {
   "cell_type": "code",
   "execution_count": null,
   "id": "3a86ee5e-4825-4451-b5d6-d42b08faa35d",
   "metadata": {},
   "outputs": [],
   "source": [
    "df_m2res"
   ]
  },
  {
   "cell_type": "code",
   "execution_count": null,
   "id": "6cdf681a-713d-41e4-86fb-58b0b953a2da",
   "metadata": {},
   "outputs": [],
   "source": [
    "df_m2 = pd.merge(df_m, df_m2res, on='mjd')"
   ]
  },
  {
   "cell_type": "code",
   "execution_count": null,
   "id": "15090546-31d5-4d7c-bd36-e5af21051bae",
   "metadata": {},
   "outputs": [],
   "source": [
    "df_m2.plot(x=\"mjd\",y=\"res\")"
   ]
  },
  {
   "cell_type": "markdown",
   "id": "ee4402bd-3177-472f-9333-aac297913278",
   "metadata": {},
   "source": [
    "#### Build the Interpolation Function"
   ]
  },
  {
   "cell_type": "code",
   "execution_count": null,
   "id": "5fb9cbc8-20e5-413d-8105-6db6d0372fe6",
   "metadata": {},
   "outputs": [],
   "source": [
    "X_M2 = df_m2.mjd.values\n",
    "Y_M2 = df_m2.TQV.values\t\n",
    "Y_M2res = df_m2.res.values\t\n",
    "func_M2interp = lambda x : np.interp(x,X_M2,Y_M2) \n",
    "func_M2resinterp = lambda x : np.interp(x,X_M2,Y_M2res) "
   ]
  },
  {
   "cell_type": "markdown",
   "id": "b884e71c-39cb-43e1-9edf-4a2cade9196e",
   "metadata": {},
   "source": [
    "### Spectro Hologram data"
   ]
  },
  {
   "cell_type": "code",
   "execution_count": null,
   "id": "a6d313e9-1621-40fb-a7d8-6d01522c7485",
   "metadata": {},
   "outputs": [],
   "source": [
    "FLAG_WITHCOLLIMATOR = True\n",
    "DATE_WITHCOLLIMATOR = 20230930\n",
    "datetime_WITHCOLLIMATOR = convertNumToDatestr(DATE_WITHCOLLIMATOR)\n",
    "datetime_WITHCOLLIMATOR = pd.to_datetime(\"2023-09-30 00:00:00.0+0000\")\n",
    "DATEMJD_WITHCOLLIMATOR = Time(datetime_WITHCOLLIMATOR).mjd"
   ]
  },
  {
   "cell_type": "code",
   "execution_count": null,
   "id": "5bac0cab-3886-4683-b1c8-fc59edacfd46",
   "metadata": {
    "tags": []
   },
   "outputs": [],
   "source": [
    "version_results = \"v5\"\n",
    "legendtag = {\"v1\" : \"old v3.1.0\",\n",
    "            \"v2\" : \"v3.1.0-PWV<10mm\",\n",
    "            \"v3\" : \"v3.1.0-PWV<15mm\",\n",
    "            \"v4\" : \"Auxtel holo v3.1.0\",\n",
    "            \"v5\" : \"Auxtel holo v3.1.0 09/22 - 10/24\"}"
   ]
  },
  {
   "cell_type": "code",
   "execution_count": null,
   "id": "99436fe6-ad07-4796-b982-7dd89f554f0c",
   "metadata": {
    "tags": []
   },
   "outputs": [],
   "source": [
    "atmfilenamesdict = {\"v1\" : \"data/spectro/auxtel_atmosphere_202301_v3.1.0_doSensorFlat_rebin2_testWithMaskedEdges_newBoundaries_newPolysRescaled_newFitBounds_adjustA1_lockedOrder2_removeThroughputTails_2.npy\",\n",
    "                    \"v2\" : \"auxtel_atmosphere_202301_v3.1.0_doSensorFlat_rebin2_lockedOrder2_FixA1_FixA2_FitAngstrom_FixA1_FixA2_FitAngstrom_WithGaia_freePressure_newThroughput6_BG40Scaled1.09_PeekFinder.npy\",\n",
    "                    \"v3\" : \"u_dagoret_auxtel_atmosphere_202301_v3.1.0_doSensorFlat_rebin2_lockedOrder2_FixA1_FixA2_FitAngstrom_WithGaia_freePressure_newThroughput6_BG40Scaled1.09_AtmoFitPressureA2_SpecErr_PeekFinder_20240924T161119Z.npy\",\n",
    "                    \"v4\" : \"u_dagoret_auxtel_atmosphere_202301_v3.1.0_doSensorFlat_rebin2_lockedOrder2_FixA1_FixA2_FitAngstrom_WithGaia_freePressure_newThroughput6_BG40Scaled1.09_AtmoFitPressureA2_SpecErr_PeekFinder_20240924T161119Z_spectrfullextend.npy\",\n",
    "                    \"v5\" : \"u_dagoret_auxtel_atmosphere_202209_v3.1.0_doSensorFlat_rebin2_lockedOrder2_FixA1_FixA2_FitAngstrom_WithGaia_freePressure_newThroughput6_BG40Scaled1.09_AtmoFitPressureA2_SpecErr_No5SigmaClip_20241016T184601Z_spectrfullextended.npy\"}"
   ]
  },
  {
   "cell_type": "code",
   "execution_count": null,
   "id": "f5ee7d08-244a-462a-b9fc-ff5cd4d3e801",
   "metadata": {
    "tags": []
   },
   "outputs": [],
   "source": [
    "atmfilename = atmfilenamesdict[version_results]\n",
    "tag = legendtag[version_results] "
   ]
  },
  {
   "cell_type": "markdown",
   "id": "a30a15de-34f1-4f2b-afb9-52143c1cff27",
   "metadata": {},
   "source": [
    "## Initialisation"
   ]
  },
  {
   "cell_type": "markdown",
   "id": "4053343d-8e37-4402-b49f-c28dbb9e4afb",
   "metadata": {},
   "source": [
    "### Read the file"
   ]
  },
  {
   "cell_type": "code",
   "execution_count": null,
   "id": "ad60336b-f26f-4184-bcdf-e596329ecbbd",
   "metadata": {},
   "outputs": [],
   "source": [
    "specdata = np.load(atmfilename,allow_pickle=True)"
   ]
  },
  {
   "cell_type": "code",
   "execution_count": null,
   "id": "3d9c7249-f818-4a98-8000-9be75b3c7a21",
   "metadata": {},
   "outputs": [],
   "source": [
    "df_spec = pd.DataFrame(specdata)"
   ]
  },
  {
   "cell_type": "code",
   "execution_count": null,
   "id": "0a0c5cb3-92c0-4202-b445-56a13429cb63",
   "metadata": {},
   "outputs": [],
   "source": [
    "df_spec['pwv_m2'] = df_spec[\"ex_mjd\"].apply(func_M2interp)\n",
    "df_spec['pwvres_m2'] = df_spec[\"ex_mjd\"].apply(func_M2resinterp)\n",
    "df_spec[\"dpwv\"] =   df_spec[\"PWV [mm]_x\"] - df_spec['pwv_m2']"
   ]
  },
  {
   "cell_type": "markdown",
   "id": "bc819873-96bb-450f-bec4-7049af8b8b3d",
   "metadata": {},
   "source": [
    "### Remove spectra with red filter"
   ]
  },
  {
   "cell_type": "code",
   "execution_count": null,
   "id": "dde97a6e-2400-4ea9-83fe-e0fc8a14e391",
   "metadata": {},
   "outputs": [],
   "source": [
    "df_spec['FILTER'].unique()"
   ]
  },
  {
   "cell_type": "code",
   "execution_count": null,
   "id": "716b7967-d722-4287-8cce-6fa7ea3cbf19",
   "metadata": {},
   "outputs": [],
   "source": [
    "FLAG_REMOVE_FILTERS = True\n",
    "if FLAG_REMOVE_FILTERS:\n",
    "    df_spec=df_spec[df_spec[\"FILTER\"] == 'empty']\n",
    "    df_spec.reset_index(inplace=True)  "
   ]
  },
  {
   "cell_type": "markdown",
   "id": "a81b1aa2-7edc-4a24-9c44-c24c3826c18f",
   "metadata": {
    "tags": []
   },
   "source": [
    "### Define if a target is faint or bright"
   ]
  },
  {
   "cell_type": "code",
   "execution_count": null,
   "id": "412e59e0-f026-42d0-b6e1-7e5185c7e9dd",
   "metadata": {
    "tags": []
   },
   "outputs": [],
   "source": [
    "def IsFaint(row):\n",
    "    List_Of_Faint_targets = ['Feige110','HD074000','HD115169','HD031128','HD200654','HD167060','HD009051','HD142331','HD160617','HD111980']\n",
    "    List_Of_faint_selected = List_Of_Faint_targets[:10]\n",
    "    if row[\"TARGET\"] in List_Of_faint_selected:\n",
    "        return True\n",
    "    else:\n",
    "        return False"
   ]
  },
  {
   "cell_type": "code",
   "execution_count": null,
   "id": "07cd52bf-50de-4190-ad3f-d68aaf18039e",
   "metadata": {},
   "outputs": [],
   "source": [
    "df_spec[\"isFaint\"] = df_spec.apply(IsFaint,axis=1)"
   ]
  },
  {
   "cell_type": "markdown",
   "id": "3af3b3b6-7774-4b43-830b-a287c4e3281b",
   "metadata": {},
   "source": [
    "### Compute NightObs"
   ]
  },
  {
   "cell_type": "code",
   "execution_count": null,
   "id": "4de5d570-2e92-468b-ab07-63fffd8d2b8c",
   "metadata": {},
   "outputs": [],
   "source": [
    "df_spec[\"nightObs\"] = df_spec.apply(lambda x: x['id']//100_000, axis=1)"
   ]
  },
  {
   "cell_type": "code",
   "execution_count": null,
   "id": "079b9ebb-4e59-4364-8ffa-f0439e943959",
   "metadata": {},
   "outputs": [],
   "source": [
    "if FLAG_WITHCOLLIMATOR:\n",
    "    df_spec = df_spec[df_spec[\"nightObs\"]> DATE_WITHCOLLIMATOR]"
   ]
  },
  {
   "cell_type": "markdown",
   "id": "a4f8b443-4bc5-46fc-a548-33441edee6da",
   "metadata": {},
   "source": [
    "## Apply Quality selection"
   ]
  },
  {
   "cell_type": "code",
   "execution_count": null,
   "id": "2325b3ff-29c2-445a-b25e-cc11aba4f45a",
   "metadata": {
    "tags": []
   },
   "outputs": [],
   "source": [
    "fig,ax = plt.subplots(1,1)\n",
    "df_spec[\"CHI2_FIT\"].hist(bins=50,ax=ax,range=(0,200))\n",
    "ax.set_yscale(\"log\")"
   ]
  },
  {
   "cell_type": "markdown",
   "id": "a7aaca44-ad09-4883-8a7d-413b71e8b4a2",
   "metadata": {},
   "source": [
    "### Add the Time in pd.datetime"
   ]
  },
  {
   "cell_type": "markdown",
   "id": "6a2222de-f3b7-4678-b2dc-d4c89102e0ab",
   "metadata": {},
   "source": [
    "#### UTC"
   ]
  },
  {
   "cell_type": "code",
   "execution_count": null,
   "id": "0d10c1ad-c5dc-4487-baa9-7c71ec531f45",
   "metadata": {},
   "outputs": [],
   "source": [
    "df_spec[\"Time\"] = pd.to_datetime(df_spec[\"DATE-OBS\"])"
   ]
  },
  {
   "cell_type": "code",
   "execution_count": null,
   "id": "66cfe082-4e0c-4b83-ac40-122ba4c58ec4",
   "metadata": {
    "tags": []
   },
   "outputs": [],
   "source": [
    "DT = pd.Timedelta(minutes=7*24*60)\n",
    "TMIN  = df_spec[\"Time\"].min()-DT\n",
    "TMAX  = df_spec[\"Time\"].max()+DT\n",
    "\n",
    "TMINMJD = Time(TMIN).mjd\n",
    "TMAXMJD = Time(TMAX).mjd"
   ]
  },
  {
   "cell_type": "markdown",
   "id": "433fdc22-9674-47c9-a11c-1e6acfc52311",
   "metadata": {
    "tags": []
   },
   "source": [
    "### Compute relative time to Mid-night"
   ]
  },
  {
   "cell_type": "code",
   "execution_count": null,
   "id": "0de9a173-9144-4c45-a93f-f7df8b5905b7",
   "metadata": {},
   "outputs": [],
   "source": [
    "def GetTimeToMidNight(row):\n",
    "    observing_time = Time(row['DATE-OBS'], scale='utc', location=observing_location)\n",
    "\n",
    "    # time at the location , either before or after midnight\n",
    "    local_time =  observing_time.to_datetime(timezone=tz)\n",
    "\n",
    "    # take time independent  of any location now\n",
    "    local_time_new = datetime(local_time.year,local_time.month,local_time.day,local_time.hour,local_time.minute,local_time.second)\n",
    "    local_time_midnight = datetime(local_time_new.year,local_time_new.month,local_time_new.day)\n",
    "    dt_hour = (local_time_new -local_time_midnight).seconds/3600.\n",
    "\n",
    "    # we took the previous night mid-night , must subtract 24H\n",
    "    if dt_hour > 12.:\n",
    "        dt_hour_new = (dt_hour - 24.)\n",
    "    else:\n",
    "        dt_hour_new = dt_hour\n",
    "        \n",
    "    return dt_hour_new"
   ]
  },
  {
   "cell_type": "code",
   "execution_count": null,
   "id": "05bfba4e-45f5-4020-953f-b6205001b698",
   "metadata": {},
   "outputs": [],
   "source": [
    "df_spec[\"dt_midnight\"] = df_spec.apply(GetTimeToMidNight,axis=1)"
   ]
  },
  {
   "cell_type": "code",
   "execution_count": null,
   "id": "154fc415-c965-44c2-8ec0-95f95c1616a3",
   "metadata": {},
   "outputs": [],
   "source": [
    "fig,ax = plt.subplots(1,1,figsize=(6,4))\n",
    "df_spec[\"dt_midnight\"].hist(bins=48,range=(-12,12),ax=ax,facecolor=\"blue\") \n",
    "ax.set_xlabel(\"time relative to midnight (hour)\")\n",
    "ax.set_title(\"Observation time\")"
   ]
  },
  {
   "cell_type": "markdown",
   "id": "649915d4-df38-43ae-8b7a-f0f72e70590d",
   "metadata": {},
   "source": [
    "### Compute Date relative to January"
   ]
  },
  {
   "cell_type": "code",
   "execution_count": null,
   "id": "e5e99394-ff09-4ab6-b0c0-0fccce1be86c",
   "metadata": {},
   "outputs": [],
   "source": [
    "def GetDateToMidJanuary(row):\n",
    "    observing_time = Time(row['DATE-OBS'], scale='utc', location=observing_location)\n",
    "\n",
    "    # time at the location , either before or after midnight\n",
    "    local_time =  observing_time.to_datetime(timezone=tz)\n",
    "\n",
    "    # take time independent  of any location now\n",
    "    local_time_new = datetime(2024,local_time.month,local_time.day,local_time.hour,local_time.minute,local_time.second)\n",
    "           \n",
    "    return pd.to_datetime(local_time_new)"
   ]
  },
  {
   "cell_type": "code",
   "execution_count": null,
   "id": "2e991a33-84e9-4766-98fb-665bada15c6d",
   "metadata": {},
   "outputs": [],
   "source": [
    "#df_spec[\"Time_january\"] = df_spec.apply(GetDateToMidJanuary,axis=1)"
   ]
  },
  {
   "cell_type": "code",
   "execution_count": null,
   "id": "42779ad2-8f3f-44c7-9a0b-a9dcb33065e9",
   "metadata": {},
   "outputs": [],
   "source": [
    "def GetDateToMidJanuaryAndYear(row):\n",
    "    observing_time = Time(row['DATE-OBS'], scale='utc', location=observing_location)\n",
    "\n",
    "    # time at the location , either before or after midnight\n",
    "    local_time =  observing_time.to_datetime(timezone=tz)\n",
    "\n",
    "    # take time independent  of any location now\n",
    "    local_time_new = datetime(2024,local_time.month,local_time.day,local_time.hour,local_time.minute,local_time.second)\n",
    "           \n",
    "    return pd.to_datetime(local_time_new),local_time.year "
   ]
  },
  {
   "cell_type": "code",
   "execution_count": null,
   "id": "3e747bbc-1357-447b-8cfb-1b22573f022c",
   "metadata": {},
   "outputs": [],
   "source": [
    "df_spec[[\"Time_january\",\"Year\"]] = df_spec.apply(GetDateToMidJanuaryAndYear,axis=1,result_type=\"expand\")"
   ]
  },
  {
   "cell_type": "code",
   "execution_count": null,
   "id": "4076ca2e-03ea-4373-8b55-fdb6ae49de51",
   "metadata": {},
   "outputs": [],
   "source": [
    "df_spec[[\"Time_january\",\"Year\"]]"
   ]
  },
  {
   "cell_type": "markdown",
   "id": "90783a42-5ed9-4ad8-8457-bbe1569413fe",
   "metadata": {},
   "source": [
    "## Compute night boundaries"
   ]
  },
  {
   "cell_type": "code",
   "execution_count": null,
   "id": "0ee7679a-ea50-4190-9400-664370a6b7f0",
   "metadata": {
    "tags": []
   },
   "outputs": [],
   "source": [
    "def GetNightBoundariesDict(df_spec):\n",
    "    \"\"\"\n",
    "    input:\n",
    "      df_spec the dataframe for spectroscopy summary results\n",
    "    output:\n",
    "      the dict of night boudaries\n",
    "    \"\"\"\n",
    "    \n",
    "    Dt = pd.Timedelta(minutes=30)\n",
    "    d = {}\n",
    "    list_of_nightobs = df_spec[\"nightObs\"].unique()\n",
    "    for nightobs in list_of_nightobs:\n",
    "        sel_flag = df_spec[\"nightObs\"]== nightobs\n",
    "        df_night = df_spec[sel_flag]\n",
    "        tmin = df_night[\"Time\"].min()-Dt\n",
    "        tmax = df_night[\"Time\"].max()+Dt\n",
    "        d[nightobs] = (tmin,tmax)\n",
    "    return d"
   ]
  },
  {
   "cell_type": "code",
   "execution_count": null,
   "id": "b4e4e1eb-c4c1-4bdf-b88f-b44bd55b2435",
   "metadata": {
    "tags": []
   },
   "outputs": [],
   "source": [
    "dn = GetNightBoundariesDict(df_spec)"
   ]
  },
  {
   "cell_type": "markdown",
   "id": "715cae7e-32ff-46c8-8d1a-a7c220a9eaed",
   "metadata": {},
   "source": [
    "## Plot all data"
   ]
  },
  {
   "cell_type": "code",
   "execution_count": null,
   "id": "52f3617a-66ac-4021-82b5-2ab076e32d7a",
   "metadata": {},
   "outputs": [],
   "source": [
    "from matplotlib.dates import DateFormatter\n",
    "#date_form = DateFormatter(\"%y-%m-%dT%H:%M\")\n",
    "date_form = DateFormatter(\"%y-%m-%d\")\n",
    "fig,axs = plt.subplots(1,1,figsize=(14,6))\n",
    "ax  = axs\n",
    "leg=ax.get_legend()\n",
    "\n",
    "ax.set_xlim(TMIN,TMAX) \n",
    "#df_m.plot(x=\"Time\",y=\"PShP\",ax=ax,marker=\".\",c=\"b\",lw=0.5,label=\"Merra2\",ms=1,legend=leg)   \n",
    "df_spec.plot(x=\"Time\",y=\"OUTPRESS\",ax=ax,marker='+',c=\"r\",lw=0.0,grid=True,label=tag,legend=leg)\n",
    "ax.set_ylabel(\"OUTPRESS\")\n",
    "\n",
    "ax.set_xlabel(\"time\")\n",
    "ax.xaxis.set_major_formatter(date_form)\n",
    "ax.set_title(\"Pressure (before quality cuts)\")\n",
    "ax.legend()\n",
    "\n",
    "if not FLAG_WITHCOLLIMATOR:\n",
    "    ax.axvspan(TMIN,datetime_WITHCOLLIMATOR, color='yellow', alpha=0.1)\n",
    "\n",
    "\n",
    "for key, tt in dn.items():\n",
    "    ax.axvspan(tt[0],tt[1], color='blue', alpha=0.1)\n",
    "\n",
    "\n",
    "#ax.set_ylim(0.,15.)\n",
    "\n",
    "figname =f\"{pathfigs}/pressure_allpoints_allnights_nocuts\"+figtype\n",
    "plt.savefig(figname)\n",
    "plt.show()\n"
   ]
  },
  {
   "cell_type": "code",
   "execution_count": null,
   "id": "3fd02994-4a05-4145-8da9-10ac7f5b920a",
   "metadata": {},
   "outputs": [],
   "source": [
    "from matplotlib.dates import DateFormatter\n",
    "#date_form = DateFormatter(\"%y-%m-%dT%H:%M\")\n",
    "date_form = DateFormatter(\"%y-%m-%d\")\n",
    "fig,axs = plt.subplots(1,1,figsize=(18,8))\n",
    "ax  = axs\n",
    "leg=ax.get_legend()\n",
    "\n",
    "ax.set_xlim(TMIN,TMAX)   \n",
    "\n",
    "df_m.plot(x=\"Time\",y=\"TQV\",ax=ax,marker=\".\",c=\"b\",lw=1,ms=1,ls=\"-\",label=\"Merra2\",legend=leg)   \n",
    "df_spec.plot(x=\"Time\",y=\"PWV [mm]_x\",ax=ax,marker='+',c=\"r\",lw=0.0,grid=True,label=tag,legend=leg)\n",
    "ax.set_ylabel(\"PWV [mm]_x\")\n",
    "\n",
    "ax.set_xlabel(\"time\")\n",
    "ax.xaxis.set_major_formatter(date_form)\n",
    "ax.set_title(\"Precipitable water vapor measured by holo vs time (before quality cuts)\")\n",
    "ax.legend()\n",
    "\n",
    "if not FLAG_WITHCOLLIMATOR:\n",
    "    ax.axvspan(TMIN,datetime_WITHCOLLIMATOR, color='yellow', alpha=0.1)\n",
    "\n",
    "\n",
    "for key, tt in dn.items():\n",
    "    ax.axvspan(tt[0],tt[1], color='blue', alpha=0.1)\n",
    "\n",
    "\n",
    "ax.set_ylim(0.,15.)\n",
    "\n",
    "figname =f\"{pathfigs}/pwv_allpoints_allnights_nocuts\"+figtype\n",
    "plt.savefig(figname)\n",
    "plt.show()\n"
   ]
  },
  {
   "cell_type": "markdown",
   "id": "564f9a05-b3e2-4d61-9457-cda76ebd2a1b",
   "metadata": {},
   "source": [
    "## Apply Quality selection cuts"
   ]
  },
  {
   "cell_type": "code",
   "execution_count": null,
   "id": "51bff128-4de1-4396-ac64-e56336d8dd67",
   "metadata": {},
   "outputs": [],
   "source": [
    "def getSelectionCut(df_spec, chi2max=20., pwvmin=0.1, pwvmax = 14.9,ozmin=100.,ozmax=600.,vaodmax=0.1):\n",
    "    #cut =  (df_spec[\"CHI2_FIT\"]<chi2max) & (df_spec[\"PWV [mm]_x\"] > pwvmin) & (df_spec[\"PWV [mm]_x\"] < pwvmax) & (df_spec[\"D2CCD\"]>186.5) &  (df_spec[\"D2CCD\"]<187.3) & \\\n",
    "    cut =  (df_spec[\"CHI2_FIT\"]<chi2max) & (df_spec[\"PWV [mm]_x\"] > pwvmin) & (df_spec[\"PWV [mm]_x\"] < pwvmax) & (df_spec[\"D2CCD\"]>186.75) &  (df_spec[\"D2CCD\"]<187.75) &  (df_spec[\"VAOD_x\"]<0.1) & \\\n",
    "    (df_spec['EXPTIME'] > 20.) & (df_spec[\"PWV [mm]_y\"] > pwvmin) & (df_spec[\"PWV [mm]_y\"] < pwvmax) & \\\n",
    "    (df_spec[\"ozone [db]_y\"] > ozmin) & (df_spec[\"ozone [db]_y\"] < ozmax) & \\\n",
    "    (df_spec[\"AIRMASS\"] < 2)\n",
    "    return cut"
   ]
  },
  {
   "cell_type": "code",
   "execution_count": null,
   "id": "99017666-4267-4f7c-a926-2da40fe78c00",
   "metadata": {},
   "outputs": [],
   "source": [
    "def getSelectionCutNoPolar(df_spec, chi2max=20., pwvmin=0.1, pwvmax = 14.9,ozmin=100.,ozmax=600.,vaodmax=0.1):\n",
    "    #cut =  (df_spec[\"CHI2_FIT\"]<chi2max) & (df_spec[\"PWV [mm]_x\"] > pwvmin) & (df_spec[\"PWV [mm]_x\"] < pwvmax) & (df_spec[\"D2CCD\"]>186.5) &  (df_spec[\"D2CCD\"]<187.3) & \\\n",
    "    cut =  (df_spec[\"CHI2_FIT\"]<chi2max) & (df_spec[\"PWV [mm]_x\"] > pwvmin) & (df_spec[\"PWV [mm]_x\"] < pwvmax) & (df_spec[\"D2CCD\"]>186.75) &  (df_spec[\"D2CCD\"]<187.75) &  (df_spec[\"VAOD_x\"]<0.1) & \\\n",
    "    (df_spec['EXPTIME'] > 20.) & (df_spec[\"PWV [mm]_y\"] > pwvmin) & (df_spec[\"PWV [mm]_y\"] < pwvmax) & \\\n",
    "    (df_spec[\"ozone [db]_y\"] > ozmin) & (df_spec[\"ozone [db]_y\"] < ozmax) & (df_spec[\"TARGET\"] != \"HD185975\") & \\\n",
    "    (df_spec[\"AIRMASS\"] < 2)\n",
    "    return cut"
   ]
  },
  {
   "cell_type": "code",
   "execution_count": null,
   "id": "19b35b65-0191-4f70-9623-b3ecaeebe96e",
   "metadata": {},
   "outputs": [],
   "source": [
    "def getSelectionCutWithPolar(df_spec, chi2max=20., pwvmin=0.1, pwvmax = 14.9,ozmin=100.,ozmax=600.,vaodmax=0.1):\n",
    "    #cut =  (df_spec[\"CHI2_FIT\"]<chi2max) & (df_spec[\"PWV [mm]_x\"] > pwvmin) & (df_spec[\"PWV [mm]_x\"] < pwvmax) & (df_spec[\"D2CCD\"]>186.5) &  (df_spec[\"D2CCD\"]<187.3) & \\\n",
    "    cut =  (df_spec[\"CHI2_FIT\"]<chi2max) & (df_spec[\"PWV [mm]_x\"] > pwvmin) & (df_spec[\"PWV [mm]_x\"] < pwvmax) & (df_spec[\"D2CCD\"]>186.75) &  (df_spec[\"D2CCD\"]<187.75) &  (df_spec[\"VAOD_x\"]<0.1) & \\\n",
    "    (df_spec['EXPTIME'] > 20.) & (df_spec[\"PWV [mm]_y\"] > pwvmin) & (df_spec[\"PWV [mm]_y\"] < pwvmax) & \\\n",
    "    (df_spec[\"ozone [db]_y\"] > ozmin) & (df_spec[\"ozone [db]_y\"] < ozmax) & (df_spec[\"TARGET\"] == \"HD185975\") & \\\n",
    "    (df_spec[\"AIRMASS\"] < 2)\n",
    "    return cut"
   ]
  },
  {
   "cell_type": "code",
   "execution_count": null,
   "id": "1b675e35-55ff-41af-82bf-85bb4c3267be",
   "metadata": {
    "tags": []
   },
   "outputs": [],
   "source": [
    "cut = getSelectionCut(df_spec) \n",
    "cut_nopolar = getSelectionCutNoPolar(df_spec) \n",
    "cut_nopolar_bright = getSelectionCutNoPolar(df_spec) & (~df_spec[\"isFaint\"])\n",
    "cut_nopolar_faint = getSelectionCutNoPolar(df_spec) & (df_spec[\"isFaint\"])\n",
    "cut_wthpolar = getSelectionCutWithPolar(df_spec)"
   ]
  },
  {
   "cell_type": "code",
   "execution_count": null,
   "id": "e1cbfa40-4395-47f4-9acf-6a9f531fabd4",
   "metadata": {},
   "outputs": [],
   "source": [
    "df_spec_sel = df_spec[cut]\n",
    "df_spec_np = df_spec[cut_nopolar] \n",
    "df_spec_np_b = df_spec[cut_nopolar_bright]\n",
    "df_spec_np_f = df_spec[cut_nopolar_faint]\n",
    "df_spec_wp = df_spec[cut_wthpolar]"
   ]
  },
  {
   "cell_type": "code",
   "execution_count": null,
   "id": "3c2b44e0-c554-4265-8caf-25b77c33ab1c",
   "metadata": {},
   "outputs": [],
   "source": [
    "print(\"Total number of Spectra          : \",len(df_spec))\n",
    "print(\"Number of selected Spectra       : \",len(df_spec_sel))\n",
    "print(\"Number of selected Polars        : \",len(df_spec_wp))\n",
    "print(\"Number of selected Non-Polars    : \",len(df_spec_np))\n",
    "print(\"Number of selected Non-Polars Bright : \",len(df_spec_np_b))\n",
    "print(\"Number of selected Non-Polars Faint  : \",len(df_spec_np_f))"
   ]
  },
  {
   "cell_type": "code",
   "execution_count": null,
   "id": "bae62b07-17d4-423e-bdfe-634272a040a2",
   "metadata": {
    "tags": []
   },
   "outputs": [],
   "source": [
    "df_spec_sel.reset_index(drop=True,inplace=True)\n",
    "df_spec_np.reset_index(drop=True,inplace=True)\n",
    "df_spec_wp.reset_index(drop=True,inplace=True) \n",
    "df_spec_np_b.reset_index(drop=True,inplace=True)\n",
    "df_spec_np_f.reset_index(drop=True,inplace=True)"
   ]
  },
  {
   "cell_type": "code",
   "execution_count": null,
   "id": "cef3e8dd-b2b7-4fcb-a676-3cef4d07f6c7",
   "metadata": {},
   "outputs": [],
   "source": [
    "#List_Of_Faint_targets = ['Feige110','HD074000','HD115169','HD031128','HD200654','HD167060','HD009051','HD142331','HD160617','HD111980']\n",
    "print(\"Polar            :\",len(df_spec_wp[\"TARGET\"].unique()),\"\\t\", df_spec_wp[\"TARGET\"].unique()) \n",
    "print(\"Non Polar        :\",len(df_spec_np[\"TARGET\"].unique()),\"\\t\" ,df_spec_np[\"TARGET\"].unique())\n",
    "print(\"Non Polar Bright :\",len(df_spec_np_b[\"TARGET\"].unique()),\"\\t\" ,df_spec_np_b[\"TARGET\"].unique())\n",
    "print(\"Non Polar Faint  :\",len(df_spec_np_f[\"TARGET\"].unique()),\"\\t\",df_spec_np_f[\"TARGET\"].unique())"
   ]
  },
  {
   "cell_type": "markdown",
   "id": "030bf82d-8d80-492c-96cf-4506c2eac282",
   "metadata": {
    "tags": []
   },
   "source": [
    "## Recompute night boundaries"
   ]
  },
  {
   "cell_type": "code",
   "execution_count": null,
   "id": "1e41540b-d7cd-49c8-88dc-4175db604a17",
   "metadata": {
    "tags": []
   },
   "outputs": [],
   "source": [
    "#dn = GetNightBoundariesDict(df_spec_sel)"
   ]
  },
  {
   "cell_type": "markdown",
   "id": "c4c10f08-5d32-465f-afd6-e51c1716bbd2",
   "metadata": {},
   "source": [
    "## Plot all data"
   ]
  },
  {
   "cell_type": "code",
   "execution_count": null,
   "id": "a2b12d05-8396-4a3c-bcfb-75de6ac63ee5",
   "metadata": {},
   "outputs": [],
   "source": [
    "from matplotlib.dates import DateFormatter\n",
    "date_form = DateFormatter(\"%y-%m-%d\")\n",
    "\n",
    "fig,axs = plt.subplots(1,1,figsize=(14,6),layout='constrained')\n",
    "ax  = axs\n",
    "leg=ax.get_legend()\n",
    "\n",
    "ax.set_xlim(TMIN,TMAX) \n",
    "#df_m.plot(x=\"Time\",y=\"TQV\",ax=ax,marker=\".\",c=\"b\",lw=0.5,ms=1,label=\"Merra2\",legend=leg)     \n",
    "\n",
    "df_m.plot(x=\"Time\",y=\"TQV\",ax=ax,marker=\".\",c=\"b\",lw=1,ms=1,ls=\"-\",label=\"Merra2\",legend=leg)  \n",
    "df_spec_sel.plot(x=\"Time\",y=\"PWV [mm]_x\",ax=ax,marker='+',c=\"r\",lw=0.0,grid=True,label=tag,legend=leg)\n",
    "\n",
    "#df_spec_sel[df_spec_sel.Year==2022].plot(x=\"Time_january\",y=\"PWV [mm]_x\",ax=ax,marker='+',c=\"g\",lw=0.0,grid=True,label=\"2022\",legend=leg,ms=5,alpha=1.)\n",
    "#df_spec_sel[df_spec_sel.Year==2023].plot(x=\"Time_january\",y=\"PWV [mm]_x\",ax=ax,marker='+',c=\"b\",lw=0.0,grid=True,label=\"2023\",legend=leg,ms=5,alpha=1.)\n",
    "#df_spec_sel[df_spec_sel.Year==2024].plot(x=\"Time_january\",y=\"PWV [mm]_x\",ax=ax,marker='+',c=\"r\",lw=0.0,grid=True,label=\"2024\",legend=leg,ms=5,alpha=1.)\n",
    "\n",
    "ax.set_ylabel(\"PWV [mm]_x\")\n",
    "ax.set_xlabel(\"date\")\n",
    "ax.xaxis.set_major_formatter(date_form)\n",
    "ax.set_title(\"Precipitable water vapor measured by holo\",fontweight=\"bold\")\n",
    "ax.legend()\n",
    "\n",
    "for key, tt in dn.items():\n",
    "    ax.axvspan(tt[0],tt[1], color='blue', alpha=0.1)\n",
    "\n",
    "ax.axvspan(TMIN,datetime_WITHCOLLIMATOR, color='yellow', alpha=0.1)\n",
    "\n",
    "plt.tight_layout()\n",
    " \n",
    "ax.set_ylim(0.,15.)\n",
    "#ax.set_xlim(TMIN,TMAX)\n",
    "\n",
    "figname =f\"{pathfigs}/pwvholoM2_allpoints_allnights\"+figtype\n",
    "plt.savefig(figname)\n",
    "plt.show()"
   ]
  },
  {
   "cell_type": "code",
   "execution_count": null,
   "id": "41abb550-7d43-4dab-b851-489145f90e0c",
   "metadata": {},
   "outputs": [],
   "source": [
    "x_mjd = np.arange(TMINMJD,TMAXMJD,1/24/60)\n",
    "y_mjd = func_M2interp(x_mjd)"
   ]
  },
  {
   "cell_type": "code",
   "execution_count": null,
   "id": "40c9eb85-eeaf-4004-a60b-e195c4daa22d",
   "metadata": {},
   "outputs": [],
   "source": [
    "fig,axs = plt.subplots(1,1,figsize=(14,6),layout='constrained')\n",
    "ax  = axs\n",
    "leg=ax.get_legend()\n",
    "\n",
    "\n",
    "df_m.plot(x=\"mjd\",y=\"TQV\",ax=ax,marker=\".\",c=\"b\",lw=0,ms=5,label=\"Merra2\",legend=leg)  \n",
    "\n",
    "ax.plot(x_mjd,y_mjd,'-k',lw=0.5)\n",
    "\n",
    "ax.set_ylabel(\"PWV [mm]_x\")\n",
    "ax.set_xlabel(\"date\")\n",
    "#ax.xaxis.set_major_formatter(date_form)\n",
    "ax.set_title(\"Precipitable water vapor measured by Mera2\",fontweight=\"bold\")\n",
    "ax.legend()\n",
    "\n",
    "#for key, tt in dn.items():\n",
    "#    ax.axvspan(tt[0],tt[1], color='blue', alpha=0.1)\n",
    "\n",
    "\n",
    "plt.tight_layout()\n",
    " \n",
    "ax.set_ylim(0.,25.)\n",
    "ax.set_xlim(TMINMJD,TMAXMJD)\n",
    "\n",
    "\n",
    "plt.show()"
   ]
  },
  {
   "cell_type": "code",
   "execution_count": null,
   "id": "b25d112b-e935-4570-8b3e-158100e154a3",
   "metadata": {},
   "outputs": [],
   "source": [
    "fig,axs = plt.subplots(1,1,figsize=(14,6),layout='constrained')\n",
    "ax  = axs\n",
    "leg=ax.get_legend()\n",
    "\n",
    "#df_m.plot(x=\"mjd\",y=\"TQV\",ax=ax,marker=\".\",c=\"b\",lw=1,ms=1,ls=\"-\",label=\"Merra2\",legend=leg)  \n",
    "df_m.plot(x=\"mjd\",y=\"TQV\",ax=ax,marker=\".\",c=\"b\",lw=0,ms=3,label=\"Merra2\",legend=leg)  \n",
    "df_spec_sel.plot(x=\"ex_mjd\",y=\"PWV [mm]_x\",ax=ax,marker='o',ms=3,c=\"r\",lw=0.0,grid=True,label=tag,legend=leg)\n",
    "\n",
    "\n",
    "ax.set_ylabel(\"PWV [mm]_x\")\n",
    "ax.set_xlabel(\"date\")\n",
    "#ax.xaxis.set_major_formatter(date_form)\n",
    "ax.set_title(\"Precipitable water vapor measured by holo\",fontweight=\"bold\")\n",
    "ax.legend()\n",
    "\n",
    "#for key, tt in dn.items():\n",
    "#    ax.axvspan(tt[0],tt[1], color='blue', alpha=0.1)\n",
    "\n",
    "ax.axvspan(TMINMJD,DATEMJD_WITHCOLLIMATOR , color='yellow', alpha=0.1)\n",
    "\n",
    "plt.tight_layout()\n",
    " \n",
    "ax.set_ylim(0.,20.)\n",
    "ax.set_xlim(TMINMJD,TMAXMJD)\n",
    "\n",
    "figname =f\"{pathfigs}/pwvholoM2_allpoints_allnights_mjd\"+figtype\n",
    "plt.savefig(figname)\n",
    "plt.show()"
   ]
  },
  {
   "cell_type": "code",
   "execution_count": null,
   "id": "a13ebd0b-999b-4b49-9f3b-460469edd58a",
   "metadata": {},
   "outputs": [],
   "source": [
    "fig = plt.figure(figsize=(16,10),layout='constrained')\n",
    "\n",
    "gs = gridspec.GridSpec(2,1,height_ratios=[2, 1])\n",
    "ax1 = fig.add_subplot(gs[0])\n",
    "ax2 = fig.add_subplot(gs[1], sharex=ax1)\n",
    "\n",
    "leg1=ax1.get_legend()\n",
    "leg2=ax2.get_legend()\n",
    "\n",
    "df_m.plot(x=\"mjd\",y=\"TQV\",ax=ax1,marker=\".\",c=\"b\",lw=0,ms=5,label=\"Merra2\",legend=leg1)  \n",
    "#df_spec_sel.plot(x=\"ex_mjd\",y=\"PWV [mm]_x\",ax=ax1,marker='o',ms=5,c=\"r\",lw=0.0,grid=True,label=\"data\",legend=leg1)\n",
    "\n",
    "df_spec_wp.plot(x=\"ex_mjd\",y=\"PWV [mm]_x\",ax=ax1,marker='o',ms=5,c=\"r\",lw=0.0,grid=True,label=\"with polar\",legend=leg1)\n",
    "df_spec_np_b.plot(x=\"ex_mjd\",y=\"PWV [mm]_x\",ax=ax1,marker='o',ms=5,c=\"purple\",lw=0.0,grid=True,label=\"non polar bright\",legend=leg1)\n",
    "df_spec_np_f.plot(x=\"ex_mjd\",y=\"PWV [mm]_x\",ax=ax1,marker='o',ms=5,c=\"green\",lw=0.0,grid=True,label=\"non polar faint\",legend=leg1)\n",
    "\n",
    "\n",
    "ax1.set_ylabel(\"PWV [mm]_x\")\n",
    "\n",
    "#ax.xaxis.set_major_formatter(date_form)\n",
    "ax1.set_title(\"Precipitable water vapor measured by holo\",fontweight=\"bold\")\n",
    "ax1.legend()\n",
    "\n",
    "ax1.set_ylim(0.,15.)\n",
    "ax1.set_xlim(TMINMJD,TMAXMJD)\n",
    "ax1.axvspan(TMINMJD,DATEMJD_WITHCOLLIMATOR , color='yellow', alpha=0.1)\n",
    "\n",
    "#df_spec_sel.plot(x=\"ex_mjd\",y=\"dpwv\",ax=ax2,marker='o',ms=5,c=\"r\",lw=0.0,grid=True,label=\"data- merra2\",legend=leg2)\n",
    "df_spec_wp.plot(x=\"ex_mjd\",y=\"dpwv\",ax=ax2,marker='o',ms=4,c=\"r\",lw=0.0,grid=True,label=\"with polar\",legend=leg2)\n",
    "df_spec_np_b.plot(x=\"ex_mjd\",y=\"dpwv\",ax=ax2,marker='o',ms=4,c=\"purple\",lw=0.0,grid=True,label=\"non polar bright\",legend=leg2)\n",
    "df_spec_np_f.plot(x=\"ex_mjd\",y=\"dpwv\",ax=ax2,marker='o',ms=4,c=\"green\",lw=0.0,grid=True,label=\"non polar faint\",legend=leg2)\n",
    "\n",
    "ax2.set_ylabel(\"$\\Delta PWV$ (mm)\")\n",
    "ax2.set_xlabel(\"date\")\n",
    "ax2.axvspan(TMINMJD,DATEMJD_WITHCOLLIMATOR , color='yellow', alpha=0.1)\n",
    "ax2.legend()\n",
    "\n",
    "\n",
    "plt.tight_layout()\n",
    "#figname =f\"{pathfigs}/pwvholoM2_allpoints_allnights_mjd\"+figtype\n",
    "#plt.savefig(figname)\n",
    "plt.show()"
   ]
  },
  {
   "cell_type": "code",
   "execution_count": null,
   "id": "92e25879-df63-4c03-9eea-043b1c7b48b8",
   "metadata": {},
   "outputs": [],
   "source": [
    "fig,axs = plt.subplots(1,2,figsize=(14,6),layout='constrained')\n",
    "ax1,ax2  = axs\n",
    "leg=ax.get_legend()\n",
    "\n",
    "#sc = ax.scatter(data=df_spec_sel, x='PWV [mm]_x', y='dpwv', c='ex_mjd', marker=\"+\",s=30,cmap='rainbow')\n",
    "sc1 = ax1.scatter(data=df_spec_sel, x='pwv_m2', y='dpwv', c='ex_mjd', marker=\"+\",s=30,cmap='rainbow')\n",
    "\n",
    "ax1.set_title(\"$\\Delta PWV$ vs PWV\")\n",
    "ax1.set_xlabel(\"PWV (mm) (Merra)\")\n",
    "ax1.set_ylabel(\"$\\Delta$ PWV (Merra) (mm)\")\n",
    "\n",
    "\n",
    "#\n",
    "sc1 = ax2.scatter(data=df_spec_sel, x='pwv_m2', y='dpwv', c='ex_mjd', marker=\"+\",s=30,cmap='rainbow')\n",
    "\n",
    "ax2.set_title(\"$\\Delta PWV$ vs PWV\")\n",
    "ax2.set_xlabel(\"PWV (mm) (AUXTEL)\")\n",
    "ax2.set_ylabel(\"$\\Delta$ PWV (mm)\")\n",
    "sc2 = ax2.scatter(data=df_spec_sel, x='PWV [mm]_x', y='dpwv', c='ex_mjd', marker=\"+\",s=30,cmap='rainbow')\n",
    "\n",
    "\n",
    "cbar = plt.colorbar(sc1)\n",
    "plt.show()"
   ]
  },
  {
   "cell_type": "markdown",
   "id": "64958f61-1ede-4120-ae6c-014ecbea0c18",
   "metadata": {},
   "source": [
    "### Fit straight line to find a link between "
   ]
  },
  {
   "cell_type": "markdown",
   "id": "51d61daf-c08b-4e89-8dec-9b9ba1e4db73",
   "metadata": {},
   "source": [
    "### The two functions "
   ]
  },
  {
   "cell_type": "code",
   "execution_count": null,
   "id": "c091d89b-fe63-4b72-b0c8-014a9590ddcc",
   "metadata": {},
   "outputs": [],
   "source": [
    "# 🌟 Modèle linéaire : y = ax + b\n",
    "def linearmodel(x, a, b):\n",
    "    return a * x + b"
   ]
  },
  {
   "cell_type": "code",
   "execution_count": null,
   "id": "d372622f-297e-4404-9c30-b37a35464944",
   "metadata": {},
   "outputs": [],
   "source": [
    "#def error_propagation(x, popt, pcov):\n",
    "#    \"\"\"Calcule l'incertitude sur y(x) en tenant compte des erreurs sur a et b.\"\"\"\n",
    "#    g = np.array([x, 1])  # Gradient de f(x) = ax + b\n",
    "#    sigma_y2 = g.T @ pcov @ g  # Variance de y\n",
    "#    return np.sqrt(sigma_y2)  # Écart-type\n",
    "\n",
    "def error_propagation(x, popt, pcov):\n",
    "    \"\"\"Calcule l'incertitude sur y(x) pour un x scalaire ou un tableau numpy.\"\"\"\n",
    "    x = np.atleast_1d(x)  # S'assure que x est un tableau\n",
    "    g = np.vstack([x, np.ones_like(x)])  # Matrice (2, N) avec les gradients [x, 1] en colonne\n",
    "    sigma_y2 = np.einsum('ij,jk,ik->i', g.T, pcov, g.T)  # Produit matriciel pour chaque x\n",
    "    return np.sqrt(sigma_y2)  # Retourne l'écart-type de y(x)\n",
    "\n",
    "def ndof(x,popt):\n",
    "    dof = len(x) - len(popt) \n",
    "    return dof\n",
    "    \n",
    "\n",
    "def error_propagation_with_IC(x, popt, pcov, dof, confidence=0.95):\n",
    "    \"\"\"Calcule l'intervalle de confiance à `confidence` % sur y(x).\"\"\"\n",
    "    x = np.atleast_1d(x)  \n",
    "    g = np.vstack([x, np.ones_like(x)])  # Matrice (2, N) des gradients [x, 1]\n",
    "    sigma_y2 = np.einsum('ij,jk,ik->i', g.T, pcov, g.T)  # Variance de y(x)\n",
    "    sigma_y = np.sqrt(sigma_y2)  # Écart-type\n",
    "    \n",
    "    # Facteur de Student pour l'intervalle de confiance\n",
    "    alpha = 1 - confidence\n",
    "    t_factor = t.ppf(1 - alpha / 2, dof)  # Quantile de Student\n",
    "\n",
    "    return sigma_y * t_factor  # Intervalle de confiance autour de y(x)"
   ]
  },
  {
   "cell_type": "code",
   "execution_count": null,
   "id": "a820ef32-48ad-40f0-9641-c63d723467f5",
   "metadata": {},
   "outputs": [],
   "source": [
    "def param_label(popt):\n",
    "    txt_param1 = f\"slope = {popt[0]:.3f}\"\n",
    "    txt_param2 = f\"intercept = {popt[1]:.3f}\"\n",
    "    txtstr = \"\\n\".join([txt_param1,txt_param2])\n",
    "    return txtstr"
   ]
  },
  {
   "cell_type": "code",
   "execution_count": null,
   "id": "e398b484-98b6-4423-9eed-5221b0ea82ed",
   "metadata": {},
   "outputs": [],
   "source": [
    "XMIN = 0.\n",
    "XMAX = 15.\n",
    "xfit = np.linspace(XMIN,XMAX,500)\n",
    "\n",
    "# define a model for a line\n",
    "line_orig = models.Linear1D(slope=1.0, intercept=0.5)\n",
    "\n",
    "# initialize a linear fitter\n",
    "fit = fitting.LinearLSQFitter()\n",
    "\n",
    "# initialize a linear model\n",
    "line_init = models.Linear1D()\n",
    "line_init1 = models.Linear1D()\n",
    "line_init2 = models.Linear1D()\n",
    "line_init3 = models.Linear1D()"
   ]
  },
  {
   "cell_type": "code",
   "execution_count": null,
   "id": "92d76c77-6f37-4caf-b595-20587572d175",
   "metadata": {},
   "outputs": [],
   "source": [
    "# fit the data with the fitter\n",
    "\n",
    "x = df_spec_sel[\"pwv_m2\"].values\n",
    "y = df_spec_sel[\"PWV [mm]_x\"].values\n",
    "fitted_line = fit(line_init, x, y)\n",
    "\n",
    "\n",
    "#popt, pcov = curve_fit(linearmodel, x, y, sigma=np.ones_like(y) * 1.0, absolute_sigma = True)\n",
    "popt, pcov = curve_fit(linearmodel, x, y, sigma=np.ones_like(y) * 1.0, p0 = [1, 0], bounds=([0.99, -np.inf], [1.01, np.inf]),absolute_sigma = True)\n",
    "perr = np.sqrt(np.diag(pcov))\n",
    "dof = ndof(x,popt)\n",
    "\n",
    "txtstr = param_label(popt)\n",
    "\n",
    "x1 = df_spec_wp[\"pwv_m2\"].values\n",
    "y1 = df_spec_wp[\"PWV [mm]_x\"].values\n",
    "fitted_line1 = fit(line_init1, x1, y1)\n",
    "#popt1, pcov1 = curve_fit(linearmodel, x1, y1)\n",
    "popt1, pcov1 = curve_fit(linearmodel, x1, y1, sigma=np.ones_like(y1) * 1.0, p0 = [1, 0], bounds=([0.99, -np.inf], [1.01, np.inf]),absolute_sigma = True)\n",
    "perr1 = np.sqrt(np.diag(pcov1))\n",
    "dof1 = ndof(x1,popt1)\n",
    "\n",
    "txtstr1 = param_label(popt1)\n",
    "\n",
    "x2 = df_spec_np_b[\"pwv_m2\"].values\n",
    "y2 = df_spec_np_b[\"PWV [mm]_x\"].values\n",
    "fitted_line2 = fit(line_init2, x2, y2)\n",
    "#popt2, pcov2 = curve_fit(linearmodel, x2, y2)\n",
    "popt2, pcov2 = curve_fit(linearmodel, x2, y2,sigma=np.ones_like(y2) * 1.0, p0 = [1, 0], bounds=([0.99, -np.inf], [1.01, np.inf]),absolute_sigma = True)\n",
    "perr2 = np.sqrt(np.diag(pcov2))\n",
    "dof2 = ndof(x2,popt2)\n",
    "\n",
    "txtstr2 = param_label(popt2)\n",
    "\n",
    "x3 = df_spec_np_f[\"pwv_m2\"].values\n",
    "y3 = df_spec_np_f[\"PWV [mm]_x\"].values\n",
    "fitted_line3 = fit(line_init3, x3, y3)\n",
    "#popt3, pcov3 = curve_fit(linearmodel, x3, y3)\n",
    "popt3, pcov3 = curve_fit(linearmodel, x3, y3,sigma=np.ones_like(y3) * 1.0, p0 = [1, 0], bounds=([0.99, -np.inf], [1.01, np.inf]),absolute_sigma = True)\n",
    "perr3 = np.sqrt(np.diag(pcov3))\n",
    "dof3 = ndof(x3,popt3)\n",
    "\n",
    "txtstr3 = param_label(popt3)"
   ]
  },
  {
   "cell_type": "code",
   "execution_count": null,
   "id": "6604fb84-7282-4f45-837d-fa9aa1aec8cd",
   "metadata": {},
   "outputs": [],
   "source": [
    "pcov"
   ]
  },
  {
   "cell_type": "code",
   "execution_count": null,
   "id": "0340967f-492a-4154-ad34-0bee342e1b84",
   "metadata": {},
   "outputs": [],
   "source": [
    "fig,axs = plt.subplots(1,1,figsize=(8,8),layout='constrained')\n",
    "ax  = axs\n",
    "leg=ax.get_legend()\n",
    "\n",
    "#df_spec_sel.plot(x=\"pwv_m2\",y=\"PWV [mm]_x\",ax=ax,marker='o',ms=5,c=\"grey\",lw=0.0,grid=True,label=\"\",legend=leg)\n",
    "df_spec_wp.plot(x=\"pwv_m2\",y=\"PWV [mm]_x\",ax=ax,marker='o',ms=5,c=\"r\",lw=0.0,grid=True,label=\"with polar\",legend=leg)\n",
    "df_spec_np_b.plot(x=\"pwv_m2\",y=\"PWV [mm]_x\",ax=ax,marker='o',ms=5,c=\"purple\",lw=0.0,grid=True,label=\"non polar bright\",legend=leg)\n",
    "df_spec_np_f.plot(x=\"pwv_m2\",y=\"PWV [mm]_x\",ax=ax,marker='o',ms=5,c=\"green\",lw=0.0,grid=True,label=\"non polar faint\",legend=leg)\n",
    "\n",
    "ax.set_aspect(\"equal\")\n",
    "ax.set_xlim(0.,15.)\n",
    "ax.set_ylim(0.,15.)\n",
    "\n",
    "yfit = linearmodel(xfit,*popt)\n",
    "#yfit_err = error_propagation(xfit, popt, pcov)\n",
    "yfit_err =  error_propagation_with_IC(xfit, popt, pcov, dof, confidence=0.95)\n",
    "\n",
    "ax.plot(xfit,yfit,\"-k\",lw=3)\n",
    "ax.fill_between(xfit, yfit- yfit_err, yfit+ yfit_err, color='grey', alpha=0.2, label=\"confidence belt 95% CL\")\n",
    "\n",
    "ax.set_ylabel(\"PWV - Auxtel (mm)\")\n",
    "ax.set_xlabel(\"PWV - Merra2 (mm)\")\n",
    "\n",
    "ax.text(0.1, 0.95, txtstr, transform=ax.transAxes, fontsize=16,verticalalignment='top', bbox=props)\n",
    "\n",
    "\n",
    "ax.legend(loc=\"upper right\")"
   ]
  },
  {
   "cell_type": "code",
   "execution_count": null,
   "id": "b720ab39-2ad8-4b1c-9bd9-f5ab2d3c83bb",
   "metadata": {},
   "outputs": [],
   "source": [
    "import matplotlib.pyplot as plt\n",
    "import numpy as np\n",
    "\n",
    "# 🔹 Création de la figure avec 3 subplots\n",
    "fig = plt.figure(figsize=(18,6))\n",
    "\n",
    "# 🔹 Utilisation de gridspec pour gérer l'espace\n",
    "gs = fig.add_gridspec(2, 3, height_ratios=[0.95, 0.05])  # 95% pour les subplots, 5% pour la colorbar\n",
    "\n",
    "# 🔹 Subplots principaux (en haut, dans la première ligne)\n",
    "ax1 = fig.add_subplot(gs[0, 0])  # Premier subplot\n",
    "ax2 = fig.add_subplot(gs[0, 1],sharex=ax1, sharey=ax1)  # Deuxième subplot\n",
    "ax3 = fig.add_subplot(gs[0, 2],sharex=ax1, sharey=ax1)  # Troisième subplot\n",
    "\n",
    "\n",
    "# 🔹 Tracé des graphiques (exemple de scatter plots)\n",
    "leg1=ax1.get_legend()\n",
    "leg2=ax2.get_legend()\n",
    "leg3=ax3.get_legend()\n",
    "\n",
    "\n",
    "#df_spec_wp.plot(x=\"pwv_m2\",y=\"PWV [mm]_x\",ax=ax1,marker='o',ms=3,c=\"r\",lw=0.0,grid=True,label=\"with polar\",legend=leg1)\n",
    "sc1 = ax1.scatter(data=df_spec_wp, x='pwv_m2', y='PWV [mm]_x', c='ex_mjd', marker=\"+\",s=30,cmap='rainbow',label=\"polar\")\n",
    "\n",
    "#df_spec_np_b.plot(x=\"pwv_m2\",y=\"PWV [mm]_x\",ax=ax2,marker='o',ms=3,c=\"purple\",lw=0.0,grid=True,label=\"non polar bright\",legend=leg2)\n",
    "sc2 = ax2.scatter(data=df_spec_np_b, x='pwv_m2', y='PWV [mm]_x', c='ex_mjd', marker=\"+\",s=30,cmap='rainbow',label=\"non-polar bright\")\n",
    "\n",
    "#df_spec_np_f.plot(x=\"pwv_m2\",y=\"PWV [mm]_x\",ax=ax3,marker='o',ms=3,c=\"green\",lw=0.0,grid=True,label=\"non polar faint\",legend=leg3)\n",
    "sc3 = ax3.scatter(data=df_spec_np_f, x='pwv_m2', y='PWV [mm]_x', c='ex_mjd', marker=\"+\",s=30,cmap='rainbow',label=\"non-polar faint\")\n",
    "\n",
    "\n",
    "ax1.set_aspect(\"equal\")\n",
    "ax2.set_aspect(\"equal\")\n",
    "ax3.set_aspect(\"equal\")\n",
    "\n",
    "ax1.set_xlim(0.,15.)\n",
    "ax1.set_ylim(0.,15.)\n",
    "ax1.text(0.1, 0.95, txtstr1, transform=ax1.transAxes, fontsize=16,verticalalignment='top', bbox=props)\n",
    "\n",
    "yfit1 = linearmodel(xfit,*popt1)\n",
    "yfit_err1 =  error_propagation_with_IC(xfit, popt1, pcov1, dof1, confidence=0.95)\n",
    "ax1.plot(xfit,yfit1,\"-k\",lw=3)\n",
    "ax1.fill_between(xfit, yfit1- yfit_err1, yfit1+ yfit_err1, color='grey', alpha=0.2,label=\"confidence belt 95% CL\")\n",
    "\n",
    "\n",
    "\n",
    "ax2.text(0.1, 0.95, txtstr2, transform=ax2.transAxes, fontsize=16,verticalalignment='top', bbox=props)\n",
    "#ax2.plot(xfit,fitted_line2(xfit),\"-k\",lw=3)\n",
    "yfit2 = linearmodel(xfit,*popt2)\n",
    "yfit_err2 =  error_propagation_with_IC(xfit, popt2, pcov2, dof2, confidence=0.95)\n",
    "ax2.plot(xfit,yfit2,\"-k\",lw=3)\n",
    "ax2.fill_between(xfit, yfit2 - yfit_err2, yfit2 + yfit_err2, color='grey', alpha=0.2,label=\"confidence belt 95% CL\")\n",
    "\n",
    "ax3.text(0.1, 0.95, txtstr3, transform=ax3.transAxes, fontsize=16,verticalalignment='top', bbox=props)\n",
    "#ax3.plot(xfit,fitted_line3(xfit),\"-k\",lw=3)\n",
    "yfit3 = linearmodel(xfit,*popt3)\n",
    "yfit_err3 =  error_propagation_with_IC(xfit, popt3, pcov3, dof3, confidence=0.95)\n",
    "ax3.plot(xfit,yfit3,\"-k\",lw=3)\n",
    "ax3.fill_between(xfit, yfit3 - yfit_err3, yfit3 + yfit_err3, color='grey', alpha=0.2,label=\"confidence belt 95% CL\")\n",
    "\n",
    "\n",
    "\n",
    "ax1.legend()\n",
    "ax2.legend()\n",
    "ax3.legend()\n",
    "\n",
    "ax1.set_ylabel(\"PWV - Auxtel (mm)\")\n",
    "ax1.set_xlabel(\"PWV - Merra2 (mm)\")\n",
    "ax2.set_xlabel(\"PWV - Merra2 (mm)\")\n",
    "ax3.set_xlabel(\"PWV - Merra2 (mm)\")\n",
    "ax1.plot([0,15],[0,15])\n",
    "ax2.plot([0,15],[0,15])\n",
    "ax3.plot([0,15],[0,15])\n",
    "\n",
    "# 🔹 Mise en forme et personnalisation des axes\n",
    "ax1.set_aspect(\"equal\")\n",
    "ax2.set_aspect(\"equal\")\n",
    "ax3.set_aspect(\"equal\")\n",
    "\n",
    "ax1.set_xlim(0.,15.)\n",
    "ax1.set_ylim(0.,15.)\n",
    "\n",
    "# 🔹 Ajout de la colorbar sous les axes (dans la deuxième ligne de gridspec)\n",
    "ax_cbar = fig.add_subplot(gs[1, :])  # Colorbar occupe toute la largeur de la deuxième ligne\n",
    "\n",
    "\n",
    "fig.colorbar(sc1, cax=ax_cbar, orientation='horizontal')\n",
    "cbar.set_label('date (MJD)', fontsize=12)\n",
    "#cbar.ax.yaxis.set_label_position('center')  # Déplacer le label à droite si nécessaire\n",
    "\n",
    "plt.suptitle(\"PWV Auxtel vs PWV Merra2\")\n",
    "plt.tight_layout()\n",
    "\n",
    "# 🔹 Affichage du graphique\n",
    "plt.show()\n"
   ]
  },
  {
   "cell_type": "code",
   "execution_count": null,
   "id": "06fc1c53-3a6c-4fe2-aab7-c07ffec10e2c",
   "metadata": {},
   "outputs": [],
   "source": [
    "cut = df_spec_np_b[\"pwv_m2\"]>14\n",
    "df_spec_np_b[cut]"
   ]
  },
  {
   "cell_type": "code",
   "execution_count": null,
   "id": "22093a32-df7a-4177-ad33-e5c1611fe1fb",
   "metadata": {},
   "outputs": [],
   "source": [
    "all_selected_nights = df_spec_sel[\"nightObs\"].unique()"
   ]
  },
  {
   "cell_type": "code",
   "execution_count": null,
   "id": "9706b6a4-d66b-4a6c-8794-8a147f5113ea",
   "metadata": {},
   "outputs": [],
   "source": [
    "#all_selected_nights "
   ]
  },
  {
   "cell_type": "markdown",
   "id": "0766a319-9fb6-41d2-94cf-0a065cda2b1a",
   "metadata": {},
   "source": [
    "## LombScargle"
   ]
  },
  {
   "cell_type": "code",
   "execution_count": null,
   "id": "63f7e443-0693-4555-a672-7d9803419e2e",
   "metadata": {},
   "outputs": [],
   "source": [
    "x = df_spec[\"ex_mjd\"].values\n",
    "y = df_spec[\"PWV [mm]_x\"].values"
   ]
  },
  {
   "cell_type": "code",
   "execution_count": null,
   "id": "18beffec-477e-4947-bb57-975d78641d54",
   "metadata": {},
   "outputs": [],
   "source": [
    "fig,ax = plt.subplots(1,1,figsize = (FIGXSIZE_0,FIGYSIZE_0),layout=\"constrained\")\n",
    "LombScargle_analysis(x,y, ax=ax ,mode= \"logxliny\",\n",
    "                 title = \"LombScargle : PWV residuals\",\n",
    "                 xlabel=\"frequency (days$^{-1}$)\",\n",
    "                 ylabel=\" \",\n",
    "                 label=\"Merra2 PWV\")\n",
    "figname =f\"{pathfigs}/pwv_finalres_LombScargle_merra2\"+figtype\n",
    "fig.savefig(figname)\n",
    "plt.show()"
   ]
  },
  {
   "cell_type": "markdown",
   "id": "f1f9d98b-4245-4152-be3e-0315f401683d",
   "metadata": {},
   "source": [
    "## Define Kernels"
   ]
  },
  {
   "cell_type": "code",
   "execution_count": null,
   "id": "9f2f9914-5c90-4e12-a86c-ffa5b2751eb5",
   "metadata": {},
   "outputs": [],
   "source": [
    "# Tendance long terme\n",
    "long_term_trend_kernel = ConstantKernel(.5, (0.0, 10.0)) * RBF(length_scale=365.0)\n",
    "\n",
    "periodic_1year_kernel =  ConstantKernel(3.0, (0.1, 10.0)) * ExpSineSquared(length_scale= 10*YEAR, periodicity= YEAR,\n",
    "                                                                           length_scale_bounds=\"fixed\",periodicity_bounds=\"fixed\")\n",
    "periodic_6months_kernel = ConstantKernel(2.5, (0.1, 10.0)) * ExpSineSquared(length_scale= 20*MONTHS6,periodicity=MONTHS6,\n",
    "                                                                            length_scale_bounds=\"fixed\",periodicity_bounds=\"fixed\") \n",
    "periodic_3months_kernel = ConstantKernel(2.5, (0.1, 10.0)) * ExpSineSquared(length_scale= 40*QUARTER, periodicity=QUARTER,\n",
    "                                                                            length_scale_bounds=\"fixed\",periodicity_bounds=\"fixed\")\n",
    "periodic_4months_kernel = ConstantKernel(2.5, (0.1, 10.0)) * ExpSineSquared(length_scale= 30*MONTHS4, periodicity=MONTHS4,\n",
    "                                                                            length_scale_bounds=\"fixed\",periodicity_bounds=\"fixed\")\n",
    "\n",
    "seasonal_enveloppe = RBF(length_scale=YEAR, length_scale_bounds=(0.5*YEAR, 10*YEAR))\n",
    "\n",
    "# Saisonnalité multi-échelle\n",
    "seasonal_kernel = (\n",
    "    #seasonal_enveloppe * ( periodic_1year_kernel + periodic_6months_kernel + periodic_3months_kernel)\n",
    "    #seasonal_enveloppe * ( periodic_1year_kernel  + periodic_3months_kernel)\n",
    "    #periodic_1year_kernel  + periodic_6months_kernel + periodic_3months_kernel\n",
    "    #periodic_1year_kernel  + periodic_6months_kernel + periodic_4months_kernel + periodic_3months_kernel\n",
    "    periodic_1year_kernel\n",
    ")\n",
    "\n",
    "\n",
    "# Petites fluctuations irrégulières\n",
    "irregularities_kernel = ConstantKernel(1.0, (0.0, 10.0)) * RationalQuadratic(length_scale=DAY, alpha=1.0)\n",
    "\n",
    "# Bruit et variations locales\n",
    "#noise_kernel = ConstantKernel(1.0, (0., 10.0)) * RBF(length_scale=1.0) + WhiteKernel(noise_level=1.0**2)\n",
    "noise_kernel = ConstantKernel(1.0, (0., 10.0)) * RBF(length_scale=1.0) \n",
    "\n",
    "# Kernel total\n",
    "#full_kernel = long_term_trend_kernel + seasonal_kernel + irregularities_kernel + noise_kernel\n",
    "#full_kernel = seasonal_kernel + irregularities_kernel\n",
    "full_kernel = seasonal_kernel \n"
   ]
  },
  {
   "cell_type": "code",
   "execution_count": null,
   "id": "4076df96-5793-4a1c-b763-db10059737c6",
   "metadata": {},
   "outputs": [],
   "source": [
    "pwv_kernel = full_kernel"
   ]
  },
  {
   "cell_type": "code",
   "execution_count": null,
   "id": "fda487c3-e12d-41a0-b473-01b344bf0029",
   "metadata": {},
   "outputs": [],
   "source": [
    "# subset of values choosen randomly to be fitted on \n",
    "\n",
    "x = df_spec[\"ex_mjd\"].values\n",
    "X = x.reshape(-1, 1)\n",
    "y = df_spec[\"PWV [mm]_x\"].values\n",
    "y_median = np.median(y)\n",
    "y_mean = np.mean(y)"
   ]
  },
  {
   "cell_type": "code",
   "execution_count": null,
   "id": "88d76a03-1bcc-4589-bdf1-3e0eea65dc55",
   "metadata": {},
   "outputs": [],
   "source": [
    "gaussian_process = GaussianProcessRegressor(kernel=pwv_kernel, normalize_y= True)\n",
    "gaussian_process.fit(X, y)"
   ]
  },
  {
   "cell_type": "code",
   "execution_count": null,
   "id": "35207b6a-9c24-4d6f-9ccb-ad0735703863",
   "metadata": {},
   "outputs": [],
   "source": [
    "txtstr_kernel = f\"{gaussian_process.kernel_}\"\n",
    "txtstr_kernel = \"\\n + \".join(txtstr_kernel.split(\"+ \"))"
   ]
  },
  {
   "cell_type": "code",
   "execution_count": null,
   "id": "d27479f2-883c-4740-a6f4-67271569a451",
   "metadata": {},
   "outputs": [],
   "source": [
    "mjd_min = x.min()\n",
    "mjd_max = x.max() + YEAR\n",
    "\n",
    "mjd_zoom_start = Time(\"2024-01-01\").mjd\n",
    "mjd_zoom_stop = Time(\"2025-06-30\").mjd\n",
    "\n",
    "mjd_obs_start = x.min()\n",
    "mjd_obs_stop = x.max()"
   ]
  },
  {
   "cell_type": "code",
   "execution_count": null,
   "id": "4c9cf7ce-e335-4a78-8cda-0b5e8285bbbe",
   "metadata": {},
   "outputs": [],
   "source": [
    "x_test = np.arange(start=mjd_min, stop=mjd_max,step=2)\n",
    "X_test = x_test.reshape(-1,1)\n",
    "mean_y_pred, std_y_pred = gaussian_process.predict(X_test, return_std=True)"
   ]
  },
  {
   "cell_type": "code",
   "execution_count": null,
   "id": "adba5e85-da62-4cef-bfcb-cb44fef3b7c8",
   "metadata": {},
   "outputs": [],
   "source": [
    "fig = plt.figure(figsize=(12,6),layout=\"constrained\")\n",
    "gs = GridSpec(2, 1,figure=fig)\n",
    "#gs = GridSpec(1, 1,figure=fig)\n",
    "ax1 = fig.add_subplot(gs[0])\n",
    "ax2 = fig.add_subplot(gs[1])\n",
    "ax1.plot(x,y,'-o',color=\"k\",ms=5,linestyle=\"dashed\", label=\"M2 Measurements\")\n",
    "ax1.plot(x_test,mean_y_pred,color=\"tab:blue\", lw=3 ,alpha=1.0, label=\"Gaussian process\")\n",
    "ax1.fill_between(\n",
    "    X_test.ravel(),\n",
    "    mean_y_pred - std_y_pred,\n",
    "    mean_y_pred + std_y_pred,\n",
    "    color=\"tab:blue\",\n",
    "    alpha=0.2,\n",
    ")\n",
    "ax1.legend()\n",
    "\n",
    "ax1.set_ylabel(\"PWV (mm)\")\n",
    "ax1.set_xlabel(\"mjd\")\n",
    "ax1.set_title(\"Fit PWV with Gaussian process (subsample)\")\n",
    "ax1.text(0.1, 0.95, txtstr_kernel, transform=ax1.transAxes, fontsize=16,verticalalignment='top', bbox=props)\n",
    "\n",
    "ax2.plot(x,y,'-o',color=\"k\",ms=5,linestyle=\"dashed\", label=\"M2 Measurements\")\n",
    "ax2.plot(x_test,mean_y_pred,color=\"tab:blue\",lw=3 ,alpha=1.0, label=\"Gaussian process\")\n",
    "ax2.fill_between(\n",
    "    X_test.ravel(),\n",
    "    mean_y_pred - std_y_pred,\n",
    "    mean_y_pred + std_y_pred,\n",
    "    color=\"tab:blue\",\n",
    "    alpha=0.2,\n",
    ")\n",
    "ax2.legend()\n",
    "\n",
    "ax2.set_ylabel(\"PWV (mm)\")\n",
    "ax2.set_xlabel(\"mjd\")\n",
    "ax2.set_title(\"Time-Zoom on Fit PWV with Gaussian process\")\n",
    "ax2.set_xlim(mjd_zoom_start,mjd_zoom_stop)\n",
    "ax2.text(0.1, 0.95, txtstr_kernel, transform=ax2.transAxes, fontsize=16,verticalalignment='top', bbox=props)\n",
    "\n",
    "\n",
    "\n",
    "figname =f\"{pathfigs}/pwv_fitgp_merra2\"+figtype\n",
    "fig.savefig(figname)\n",
    "plt.show()\n"
   ]
  },
  {
   "cell_type": "markdown",
   "id": "6ba612cb-5d6c-4ead-b6dc-d674630e58ba",
   "metadata": {},
   "source": [
    "## Residuals"
   ]
  },
  {
   "cell_type": "code",
   "execution_count": null,
   "id": "bba5a720-0f33-4f0d-bb12-f8da494da8bd",
   "metadata": {},
   "outputs": [],
   "source": [
    "mean_y_pred_data, std_y_pred_data = gaussian_process.predict(X, return_std=True)"
   ]
  },
  {
   "cell_type": "code",
   "execution_count": null,
   "id": "d03be3a6-f968-4514-9097-8600f574f8b6",
   "metadata": {},
   "outputs": [],
   "source": [
    "residuals = y -  mean_y_pred_data\n",
    "residuals_normalised = residuals/std_y_pred_data "
   ]
  },
  {
   "cell_type": "code",
   "execution_count": null,
   "id": "d55c8aed-030a-40a5-aa60-6b145263766e",
   "metadata": {},
   "outputs": [],
   "source": [
    "fig = plt.figure(figsize=(12,4),layout=\"constrained\")\n",
    "#gs = GridSpec(2, 1,figure=fig)\n",
    "gs = GridSpec(1, 1,figure=fig)\n",
    "ax1 = fig.add_subplot(gs[0])\n",
    "#ax2 = fig.add_subplot(gs[1])\n",
    "ax1.plot(x,residuals,'-',color=\"k\",ms=5,linestyle=\"dotted\")\n",
    "ax1.plot(x,residuals,'o',color=\"r\",ms=5,label=\"M2 Measurements\")\n",
    "#ax1.fill_between(x,residuals, - std_y_pred_data, + std_y_pred_data,  color=\"tab:blue\",alpha=0.2)\n",
    "ax1.legend()\n",
    "\n",
    "ax1.set_ylabel(\"$\\Delta$ PWV (mm)\")\n",
    "ax1.set_xlabel(\"mjd\")\n",
    "ax1.set_title(\"Residuals after Fit PWV with Gaussian process \")\n",
    "ax1.text(0.1, 0.95, txtstr_kernel, transform=ax1.transAxes, fontsize=16,verticalalignment='top', bbox=props)\n",
    "\n",
    "#ax2.plot(x,residuals,'-o',color=\"k\",ms=5,linestyle=\"dotted\", label=\"M2 Measurements\")\n",
    "#ax2.fill_between(x,residuals, - std_y_pred_data, + std_y_pred_data,  color=\"tab:blue\",alpha=0.2)\n",
    "\n",
    "#ax2.legend()\n",
    "\n",
    "#ax2.set_ylabel(\"PWV (mm)\")\n",
    "#ax2.set_xlabel(\"mjd\")\n",
    "#ax2.set_title(\"Time-Zoom on Fit PWV with Gaussian process\")\n",
    "#ax2.set_xlim(mjd_zoom_start,mjd_zoom_stop)\n",
    "#ax2.text(0.1, 0.95, txtstr_kernel, transform=ax2.transAxes, fontsize=16,verticalalignment='top', bbox=props)\n",
    "\n",
    "figname =f\"{pathfigs}/pwvres_fitgp_merra2\"+figtype\n",
    "fig.savefig(figname)\n",
    "plt.show()\n"
   ]
  },
  {
   "cell_type": "code",
   "execution_count": null,
   "id": "ba07da4d-9436-466f-a35c-3b62f7719741",
   "metadata": {},
   "outputs": [],
   "source": []
  }
 ],
 "metadata": {
  "kernelspec": {
   "display_name": "conda_py311",
   "language": "python",
   "name": "conda_py311"
  },
  "language_info": {
   "codemirror_mode": {
    "name": "ipython",
    "version": 3
   },
   "file_extension": ".py",
   "mimetype": "text/x-python",
   "name": "python",
   "nbconvert_exporter": "python",
   "pygments_lexer": "ipython3",
   "version": "3.11.11"
  }
 },
 "nbformat": 4,
 "nbformat_minor": 5
}
