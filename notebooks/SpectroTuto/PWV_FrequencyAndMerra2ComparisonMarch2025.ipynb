{
 "cells": [
  {
   "cell_type": "markdown",
   "id": "45bf4242-bfc5-4d43-88c4-a8059ae148df",
   "metadata": {},
   "source": [
    "# Frequencies in PWV rariation and comparison to Merra2"
   ]
  },
  {
   "cell_type": "markdown",
   "id": "01993b6e-6438-4fca-a5d5-1f9791336847",
   "metadata": {},
   "source": [
    "- author Sylvie Dagoret-Campagne\n",
    "- affiliation : IJCLab\n",
    "- creation date 2025-03-03 :\n",
    "- last update 2025-03-03\n",
    "\n",
    "- Kernel @usdf **w_2025_50*\n",
    "- Office emac : mamba_py311\n",
    "- Home emac : base (conda)\n"
   ]
  },
  {
   "cell_type": "markdown",
   "id": "0219159d-6865-4311-ac1d-99d11dad223f",
   "metadata": {},
   "source": [
    "**Goal** : Show correlation holo /Merra"
   ]
  },
  {
   "cell_type": "code",
   "execution_count": null,
   "id": "63a2b2ef-0bc2-45eb-91d9-87835d264751",
   "metadata": {
    "execution": {
     "iopub.execute_input": "2025-03-03T16:04:16.001755Z",
     "iopub.status.busy": "2025-03-03T16:04:16.001622Z",
     "iopub.status.idle": "2025-03-03T16:04:16.003996Z",
     "shell.execute_reply": "2025-03-03T16:04:16.003636Z",
     "shell.execute_reply.started": "2025-03-03T16:04:16.001741Z"
    },
    "tags": []
   },
   "outputs": [],
   "source": [
    "from platform import python_version\n",
    "print(python_version())"
   ]
  },
  {
   "cell_type": "code",
   "execution_count": null,
   "id": "dcc53afe-c58f-4948-92c9-0090d373ad2a",
   "metadata": {
    "execution": {
     "iopub.execute_input": "2025-03-03T16:04:16.004637Z",
     "iopub.status.busy": "2025-03-03T16:04:16.004431Z",
     "iopub.status.idle": "2025-03-03T16:04:16.012845Z",
     "shell.execute_reply": "2025-03-03T16:04:16.012386Z",
     "shell.execute_reply.started": "2025-03-03T16:04:16.004624Z"
    }
   },
   "outputs": [],
   "source": [
    "import warnings\n",
    "warnings.resetwarnings()\n",
    "warnings.simplefilter('ignore')"
   ]
  },
  {
   "cell_type": "code",
   "execution_count": null,
   "id": "8026d265-2493-4045-afec-26205ff71f7c",
   "metadata": {
    "execution": {
     "iopub.execute_input": "2025-03-03T16:04:16.013417Z",
     "iopub.status.busy": "2025-03-03T16:04:16.013293Z",
     "iopub.status.idle": "2025-03-03T16:04:16.018759Z",
     "shell.execute_reply": "2025-03-03T16:04:16.018411Z",
     "shell.execute_reply.started": "2025-03-03T16:04:16.013405Z"
    },
    "tags": []
   },
   "outputs": [],
   "source": [
    "from platform import python_version\n",
    "print(python_version())"
   ]
  },
  {
   "cell_type": "code",
   "execution_count": null,
   "id": "eb1f116e-80e3-46ad-a7db-7f253632e5ca",
   "metadata": {
    "execution": {
     "iopub.execute_input": "2025-03-03T16:04:16.020177Z",
     "iopub.status.busy": "2025-03-03T16:04:16.020024Z",
     "iopub.status.idle": "2025-03-03T16:04:16.024112Z",
     "shell.execute_reply": "2025-03-03T16:04:16.023783Z",
     "shell.execute_reply.started": "2025-03-03T16:04:16.020163Z"
    }
   },
   "outputs": [],
   "source": [
    "import os"
   ]
  },
  {
   "cell_type": "code",
   "execution_count": null,
   "id": "c4ff1199-6b0a-4147-a425-59405f74c454",
   "metadata": {
    "execution": {
     "iopub.execute_input": "2025-03-03T16:04:16.024656Z",
     "iopub.status.busy": "2025-03-03T16:04:16.024523Z",
     "iopub.status.idle": "2025-03-03T16:04:16.516891Z",
     "shell.execute_reply": "2025-03-03T16:04:16.516455Z",
     "shell.execute_reply.started": "2025-03-03T16:04:16.024644Z"
    }
   },
   "outputs": [],
   "source": [
    "from pyzdcf import pyzdcf"
   ]
  },
  {
   "cell_type": "code",
   "execution_count": null,
   "id": "3ec760cd-3d3f-4a34-a6f6-b226fe500951",
   "metadata": {
    "execution": {
     "iopub.execute_input": "2025-03-03T16:04:16.517593Z",
     "iopub.status.busy": "2025-03-03T16:04:16.517341Z",
     "iopub.status.idle": "2025-03-03T16:04:16.519871Z",
     "shell.execute_reply": "2025-03-03T16:04:16.519535Z",
     "shell.execute_reply.started": "2025-03-03T16:04:16.517579Z"
    }
   },
   "outputs": [],
   "source": [
    "# where are stored the figures\n",
    "pathfigs = \"figsPWVFrequenciesAndMerra2\"\n",
    "if not os.path.exists(pathfigs):\n",
    "    os.makedirs(pathfigs) \n",
    "figtype = \".png\""
   ]
  },
  {
   "cell_type": "code",
   "execution_count": null,
   "id": "805cabc7-2030-4e0b-9150-9f3186ff4821",
   "metadata": {
    "execution": {
     "iopub.execute_input": "2025-03-03T16:04:16.520495Z",
     "iopub.status.busy": "2025-03-03T16:04:16.520291Z",
     "iopub.status.idle": "2025-03-03T16:04:16.529394Z",
     "shell.execute_reply": "2025-03-03T16:04:16.529058Z",
     "shell.execute_reply.started": "2025-03-03T16:04:16.520482Z"
    }
   },
   "outputs": [],
   "source": [
    "pathdata = \"dataPWVFrequenciesAndMerra2\"\n",
    "if not os.path.exists(pathdata):\n",
    "    os.makedirs(pathdata) \n",
    "datapath_input = os.path.join(pathdata,\"timecurves\") \n",
    "datapath_output = os.path.join(pathdata,\"results\") \n",
    "if not os.path.exists(datapath_input):\n",
    "    os.makedirs(datapath_input) \n",
    "if not os.path.exists(datapath_output):\n",
    "    os.makedirs(datapath_output) "
   ]
  },
  {
   "cell_type": "code",
   "execution_count": null,
   "id": "bf752b70-e6ca-4cbf-8e8c-20bf7f0d8f61",
   "metadata": {
    "execution": {
     "iopub.execute_input": "2025-03-03T16:04:16.529946Z",
     "iopub.status.busy": "2025-03-03T16:04:16.529826Z",
     "iopub.status.idle": "2025-03-03T16:04:17.096638Z",
     "shell.execute_reply": "2025-03-03T16:04:17.096093Z",
     "shell.execute_reply.started": "2025-03-03T16:04:16.529933Z"
    }
   },
   "outputs": [],
   "source": [
    "import numpy as np\n",
    "from numpy.linalg import inv\n",
    "import matplotlib as mpl\n",
    "import matplotlib.pyplot as plt\n",
    "%matplotlib inline\n",
    "from mpl_toolkits.axes_grid1 import make_axes_locatable\n",
    "from matplotlib.colors import LogNorm,SymLogNorm\n",
    "from matplotlib.patches import Circle,Annulus\n",
    "from astropy.visualization import ZScaleInterval\n",
    "props = dict(boxstyle='round', facecolor=\"white\", alpha=0.1)\n",
    "#props = dict(boxstyle='round')\n",
    "\n",
    "import matplotlib.colors as colors\n",
    "import matplotlib.cm as cmx\n",
    "\n",
    "import matplotlib.ticker                         # here's where the formatter is\n",
    "from matplotlib.ticker import (MultipleLocator, FormatStrFormatter,\n",
    "                               AutoMinorLocator)\n",
    "\n",
    "from matplotlib.gridspec import GridSpec\n",
    "\n",
    "from astropy.visualization import (MinMaxInterval, SqrtStretch,ZScaleInterval,PercentileInterval,\n",
    "                                   ImageNormalize,imshow_norm)\n",
    "from astropy.visualization.stretch import SinhStretch, LinearStretch,AsinhStretch,LogStretch\n",
    "\n",
    "from astropy.io import fits\n",
    "from astropy.wcs import WCS\n",
    "from astropy import units as u\n",
    "from astropy import constants as c\n",
    "\n",
    "from astropy.coordinates.earth import EarthLocation\n",
    "from datetime import datetime\n",
    "from pytz import timezone\n",
    "\n",
    "from scipy import interpolate\n",
    "from sklearn.neighbors import NearestNeighbors\n",
    "from sklearn.neighbors import KDTree, BallTree\n",
    "\n",
    "import pandas as pd\n",
    "pd.set_option(\"display.max_columns\", None)\n",
    "pd.set_option('display.max_rows', 100)\n",
    "\n",
    "import matplotlib.ticker                         # here's where the formatter is\n",
    "import os\n",
    "import re\n",
    "import pandas as pd\n",
    "import pickle\n",
    "from collections import OrderedDict\n",
    "\n",
    "plt.rcParams[\"figure.figsize\"] = (4,3)\n",
    "plt.rcParams[\"axes.labelsize\"] = 'xx-large'\n",
    "plt.rcParams['axes.titlesize'] = 'xx-large'\n",
    "plt.rcParams['xtick.labelsize']= 'xx-large'\n",
    "plt.rcParams['ytick.labelsize']= 'xx-large'\n",
    "\n",
    "import scipy\n",
    "from scipy.optimize import curve_fit,least_squares\n",
    "\n",
    "\n",
    "# new color correction model\n",
    "import pickle\n",
    "from scipy.interpolate import RegularGridInterpolator"
   ]
  },
  {
   "cell_type": "code",
   "execution_count": null,
   "id": "98268139-19c9-46c3-af3b-42fb49770b26",
   "metadata": {
    "execution": {
     "iopub.execute_input": "2025-03-03T16:04:17.097530Z",
     "iopub.status.busy": "2025-03-03T16:04:17.097230Z",
     "iopub.status.idle": "2025-03-03T16:04:17.104271Z",
     "shell.execute_reply": "2025-03-03T16:04:17.103863Z",
     "shell.execute_reply.started": "2025-03-03T16:04:17.097507Z"
    }
   },
   "outputs": [],
   "source": [
    "from mpl_toolkits.axes_grid1.inset_locator import inset_axes"
   ]
  },
  {
   "cell_type": "code",
   "execution_count": null,
   "id": "0ca0d1e6-5f82-4c43-aaa3-8524fc2bc5ba",
   "metadata": {
    "execution": {
     "iopub.execute_input": "2025-03-03T16:04:17.104865Z",
     "iopub.status.busy": "2025-03-03T16:04:17.104713Z",
     "iopub.status.idle": "2025-03-03T16:04:17.194953Z",
     "shell.execute_reply": "2025-03-03T16:04:17.194544Z",
     "shell.execute_reply.started": "2025-03-03T16:04:17.104848Z"
    }
   },
   "outputs": [],
   "source": [
    "from matplotlib.ticker import (MultipleLocator, FormatStrFormatter,\n",
    "                               AutoMinorLocator)\n",
    "\n",
    "from astropy.visualization import (MinMaxInterval, SqrtStretch,ZScaleInterval,PercentileInterval,\n",
    "                                   ImageNormalize,imshow_norm)\n",
    "from astropy.visualization.stretch import SinhStretch, LinearStretch,AsinhStretch,LogStretch\n",
    "\n",
    "from astropy.time import Time\n",
    "from astropy.timeseries import LombScargle"
   ]
  },
  {
   "cell_type": "code",
   "execution_count": null,
   "id": "e189816c-5048-43ab-a01a-7c078af54489",
   "metadata": {
    "execution": {
     "iopub.execute_input": "2025-03-03T16:04:17.195641Z",
     "iopub.status.busy": "2025-03-03T16:04:17.195406Z",
     "iopub.status.idle": "2025-03-03T16:04:17.197429Z",
     "shell.execute_reply": "2025-03-03T16:04:17.197104Z",
     "shell.execute_reply.started": "2025-03-03T16:04:17.195628Z"
    }
   },
   "outputs": [],
   "source": [
    "# Remove to run faster the notebook\n",
    "#import ipywidgets as widgets\n",
    "#%matplotlib widget"
   ]
  },
  {
   "cell_type": "code",
   "execution_count": null,
   "id": "67327fd4-e405-45ce-8923-cd46ebaa0c0f",
   "metadata": {
    "execution": {
     "iopub.execute_input": "2025-03-03T16:04:17.197988Z",
     "iopub.status.busy": "2025-03-03T16:04:17.197869Z",
     "iopub.status.idle": "2025-03-03T16:04:17.208058Z",
     "shell.execute_reply": "2025-03-03T16:04:17.207719Z",
     "shell.execute_reply.started": "2025-03-03T16:04:17.197977Z"
    },
    "tags": []
   },
   "outputs": [],
   "source": [
    "from importlib.metadata import version"
   ]
  },
  {
   "cell_type": "code",
   "execution_count": null,
   "id": "af8332dd-24f9-4b19-88f9-c62d0a4aebf1",
   "metadata": {
    "execution": {
     "iopub.execute_input": "2025-03-03T16:04:17.208611Z",
     "iopub.status.busy": "2025-03-03T16:04:17.208477Z",
     "iopub.status.idle": "2025-03-03T16:04:17.213837Z",
     "shell.execute_reply": "2025-03-03T16:04:17.213495Z",
     "shell.execute_reply.started": "2025-03-03T16:04:17.208599Z"
    },
    "tags": []
   },
   "outputs": [],
   "source": [
    "# wavelength bin colors\n",
    "#jet = plt.get_cmap('jet')\n",
    "#cNorm = mpl.colors.Normalize(vmin=0, vmax=NSED)\n",
    "#scalarMap = cmx.ScalarMappable(norm=cNorm, cmap=jet)\n",
    "#all_colors = scalarMap.to_rgba(np.arange(NSED), alpha=1)"
   ]
  },
  {
   "cell_type": "code",
   "execution_count": null,
   "id": "1003d9d6-a40f-48b1-9ffc-bfab9f45ba93",
   "metadata": {
    "execution": {
     "iopub.execute_input": "2025-03-03T16:04:17.214349Z",
     "iopub.status.busy": "2025-03-03T16:04:17.214228Z",
     "iopub.status.idle": "2025-03-03T16:04:17.220026Z",
     "shell.execute_reply": "2025-03-03T16:04:17.219678Z",
     "shell.execute_reply.started": "2025-03-03T16:04:17.214334Z"
    }
   },
   "outputs": [],
   "source": [
    "np.__version__"
   ]
  },
  {
   "cell_type": "code",
   "execution_count": null,
   "id": "c4cb2652-cb22-432e-b110-ae71d59dc793",
   "metadata": {
    "execution": {
     "iopub.execute_input": "2025-03-03T16:04:17.220672Z",
     "iopub.status.busy": "2025-03-03T16:04:17.220419Z",
     "iopub.status.idle": "2025-03-03T16:04:17.225945Z",
     "shell.execute_reply": "2025-03-03T16:04:17.225624Z",
     "shell.execute_reply.started": "2025-03-03T16:04:17.220659Z"
    }
   },
   "outputs": [],
   "source": [
    "pd.__version__"
   ]
  },
  {
   "cell_type": "code",
   "execution_count": null,
   "id": "ad03dc3d-6741-4478-82ba-1d5447529d9a",
   "metadata": {
    "execution": {
     "iopub.execute_input": "2025-03-03T16:04:17.226509Z",
     "iopub.status.busy": "2025-03-03T16:04:17.226393Z",
     "iopub.status.idle": "2025-03-03T16:04:17.232449Z",
     "shell.execute_reply": "2025-03-03T16:04:17.232112Z",
     "shell.execute_reply.started": "2025-03-03T16:04:17.226498Z"
    }
   },
   "outputs": [],
   "source": [
    "def convertNumToDatestr(num):\n",
    "    year = num//10_000\n",
    "    month= (num-year*10_000)//100\n",
    "    day = (num-year*10_000-month*100)\n",
    "\n",
    "    year_str = str(year).zfill(4)\n",
    "    month_str = str(month).zfill(2)\n",
    "    day_str = str(day).zfill(2)\n",
    "    \n",
    "    datestr = f\"{year_str}-{month_str}-{day_str}\"\n",
    "    return pd.to_datetime(datestr)"
   ]
  },
  {
   "cell_type": "code",
   "execution_count": null,
   "id": "d593f5e5-df02-42f7-b138-1440e2585a18",
   "metadata": {
    "execution": {
     "iopub.execute_input": "2025-03-03T16:04:17.232936Z",
     "iopub.status.busy": "2025-03-03T16:04:17.232822Z",
     "iopub.status.idle": "2025-03-03T16:04:17.238705Z",
     "shell.execute_reply": "2025-03-03T16:04:17.238359Z",
     "shell.execute_reply.started": "2025-03-03T16:04:17.232925Z"
    }
   },
   "outputs": [],
   "source": [
    "YEAR = 365.25\n",
    "MONTHS6 = YEAR/2.\n",
    "MONTHS4 = YEAR/3.\n",
    "QUARTER = YEAR/4. \n",
    "DAY = 1.\n",
    "MONTH = YEAR/12.\n",
    "WEEK = 7*DAY"
   ]
  },
  {
   "cell_type": "code",
   "execution_count": null,
   "id": "f2acbe22-b2d3-454e-ad8a-1a63b8f340c5",
   "metadata": {
    "execution": {
     "iopub.execute_input": "2025-03-03T16:04:17.239192Z",
     "iopub.status.busy": "2025-03-03T16:04:17.239079Z",
     "iopub.status.idle": "2025-03-03T16:04:17.244279Z",
     "shell.execute_reply": "2025-03-03T16:04:17.243954Z",
     "shell.execute_reply.started": "2025-03-03T16:04:17.239181Z"
    }
   },
   "outputs": [],
   "source": [
    "FIGXSIZE_1 = 14\n",
    "FIGYSIZE_1 = 8\n",
    "\n",
    "FIGXSIZE_0 = 14\n",
    "FIGYSIZE_0 = 5"
   ]
  },
  {
   "cell_type": "code",
   "execution_count": null,
   "id": "05efc580-59a7-422a-aa9b-deacf4c34f12",
   "metadata": {
    "execution": {
     "iopub.execute_input": "2025-03-03T16:20:22.068662Z",
     "iopub.status.busy": "2025-03-03T16:20:22.068133Z",
     "iopub.status.idle": "2025-03-03T16:20:22.076850Z",
     "shell.execute_reply": "2025-03-03T16:20:22.076462Z",
     "shell.execute_reply.started": "2025-03-03T16:20:22.068643Z"
    }
   },
   "outputs": [],
   "source": [
    "def LombScargle_analysis(dates, values, ax ,mode = \"logxlogy\",title=\"LombScargle - Spectrum\",\n",
    "                    xlabel=\"frequency (day)$^{-1}$\",ylabel=\"y-unit\",label=\"Lomb Scargle\", legendout = True, datecut = 0 ):\n",
    "    # Centrer les données autour de la moyenne\n",
    "\n",
    "\n",
    "    if datecut>0:\n",
    "        index_selected = np.where(dates >= datecut)[0]\n",
    "        dates = dates[index_selected]\n",
    "        values = values[index_selected]\n",
    "\n",
    "    \n",
    "    values_centered = values - np.mean(values)\n",
    "    \n",
    "\n",
    "    # Nombre de points\n",
    "    N = len(dates)\n",
    "\n",
    "    # sigma\n",
    "    sigma_x = np.sqrt(np.sum(values_centered**2)/N)\n",
    "    \n",
    "    # Intervalle d'échantillonnage (assume 1 jour entre chaque point)\n",
    "    T = np.mean(np.diff(dates))  # Période d'échantillonnage\n",
    "\n",
    "    # Fréquence de Nyquist (limite de Shannon)\n",
    "    f_nyquist = 1 / (2 * T)\n",
    "    \n",
    "\n",
    "    freqs, power = LombScargle(dates, values_centered).autopower()\n",
    "   \n",
    "    ax.plot(freqs, power,'ob-' ,ms=5,label=label)\n",
    "\n",
    "    if mode == \"logxliny\":\n",
    "        ax.set_xscale(\"log\")  # Définit l'axe X en échelle logarithmique\n",
    "        ax.set_yscale(\"linear\")  # Garde l'axe Y en échelle linéaire\n",
    "    elif mode == \"logxlogy\":\n",
    "        ax.set_xscale(\"log\")  # Définit l'axe X en échelle logarithmique\n",
    "        ax.set_yscale(\"log\")  # Garde l'axe Y en échelle logarithmique\n",
    "    elif mode == \"linxlogy\":\n",
    "        ax.set_xscale(\"linear\")  # Définit l'axe X en  échelle linéaire\n",
    "        ax.set_yscale(\"log\")  # Garde l'axe Y en échelle logarithmique\n",
    "    elif mode == \"linxliny\":\n",
    "        ax.set_xscale(\"linear\")  # Définit l'axe X en échelle linéaire\n",
    "        ax.set_yscale(\"linear\")  # Garde l'axe Y en échelle linéaire\n",
    "        \n",
    "    ax.set_xlabel(xlabel)\n",
    "    ax.set_ylabel(ylabel)\n",
    "    ax.set_title(title)\n",
    "    \n",
    "\n",
    "    ax.axvline(1/YEAR, color='r', linestyle='-', label=\"Cycle : 365 days - 1 year\")\n",
    "    ax.axvline(1/MONTHS6, color='r', linestyle='--', label=\"Cycle : 182.6 days - 6 months\")\n",
    "    ax.axvline(1/MONTHS4, color='r', linestyle=':', label=\"Cycle : 121.7 days - 4 months\")\n",
    "    ax.axvline(1/QUARTER, color='r', linestyle='-.', label=\"Cycle : 91.3 days - 3 months\")\n",
    "    ax.axvline(1/MONTH, color='r', linestyle=':', label=\"Cycle : 30.4 days - 1 month\")\n",
    "    ax.axvline(1/WEEK, color='purple', linestyle='--', label=\"Cycle : 7 days - 1 week\")\n",
    "    ax.axvline(DAY, color='purple', linestyle='-', label=\"Cycle : 1 day \")\n",
    "    ax.axvline(1./(0.5*DAY), color='purple', linestyle='-.', label=\"Cycle : 0.5 day \")\n",
    "\n",
    "    #ax.axvline(f_nyquist, color='g', linestyle='--', label=f\"Nyquist frequency({f_nyquist:.3f} cycles/days)\")\n",
    "\n",
    "    txtstr_sigma = \"$\\sigma_x$ = \" + f\" {sigma_x:0.3f}\" \n",
    "    ax.text(0.01, 0.95, txtstr_sigma, transform=ax.transAxes, fontsize=16,verticalalignment='top', bbox=props)\n",
    "    \n",
    "\n",
    "    if legendout:\n",
    "        ax.legend(bbox_to_anchor=(1.05, 1.05),fontsize=12)\n",
    "    else:\n",
    "        ax.legend(fontsize=10,fancybox=True, framealpha=0.5)\n",
    "        \n"
   ]
  },
  {
   "cell_type": "markdown",
   "id": "4f13d6a3-7793-4bc0-920a-1d690d9f84b2",
   "metadata": {},
   "source": [
    "## Configuration"
   ]
  },
  {
   "cell_type": "code",
   "execution_count": null,
   "id": "c8cb2e48-0b34-4cbf-8379-43f7065112f7",
   "metadata": {
    "execution": {
     "iopub.execute_input": "2025-03-03T16:04:17.254318Z",
     "iopub.status.busy": "2025-03-03T16:04:17.254184Z",
     "iopub.status.idle": "2025-03-03T16:04:17.364808Z",
     "shell.execute_reply": "2025-03-03T16:04:17.364426Z",
     "shell.execute_reply.started": "2025-03-03T16:04:17.254307Z"
    }
   },
   "outputs": [],
   "source": [
    "observing_location = EarthLocation.of_site('Rubin Observatory')\n",
    "tz = timezone('America/Santiago')"
   ]
  },
  {
   "cell_type": "markdown",
   "id": "3fa1daa3-8d08-4f42-ab9b-b29b796da806",
   "metadata": {},
   "source": [
    "## Merra2"
   ]
  },
  {
   "cell_type": "code",
   "execution_count": null,
   "id": "4d84f26b-e246-4215-bc35-4382bdb57799",
   "metadata": {
    "execution": {
     "iopub.execute_input": "2025-03-03T16:04:17.365375Z",
     "iopub.status.busy": "2025-03-03T16:04:17.365258Z",
     "iopub.status.idle": "2025-03-03T16:04:17.367249Z",
     "shell.execute_reply": "2025-03-03T16:04:17.366852Z",
     "shell.execute_reply.started": "2025-03-03T16:04:17.365364Z"
    }
   },
   "outputs": [],
   "source": [
    "filename_m2 = \"../SpectroMerra2/MerradataMerged/Merge_inst1_2d_asm_Nx_M2I1NXASM-2021-2024.csv\""
   ]
  },
  {
   "cell_type": "code",
   "execution_count": null,
   "id": "b35d51c2-cddf-4205-aaba-4effcce200ef",
   "metadata": {
    "execution": {
     "iopub.execute_input": "2025-03-03T16:04:17.367818Z",
     "iopub.status.busy": "2025-03-03T16:04:17.367702Z",
     "iopub.status.idle": "2025-03-03T16:04:17.438296Z",
     "shell.execute_reply": "2025-03-03T16:04:17.437890Z",
     "shell.execute_reply.started": "2025-03-03T16:04:17.367807Z"
    }
   },
   "outputs": [],
   "source": [
    "df_m = pd.read_csv(filename_m2)"
   ]
  },
  {
   "cell_type": "code",
   "execution_count": null,
   "id": "f239a5fd-0e33-4afb-a03d-ada5c32bf27e",
   "metadata": {
    "execution": {
     "iopub.execute_input": "2025-03-03T16:04:17.438885Z",
     "iopub.status.busy": "2025-03-03T16:04:17.438758Z",
     "iopub.status.idle": "2025-03-03T16:04:17.591236Z",
     "shell.execute_reply": "2025-03-03T16:04:17.590868Z",
     "shell.execute_reply.started": "2025-03-03T16:04:17.438873Z"
    }
   },
   "outputs": [],
   "source": [
    "df_m[\"mjd\"] = Time(pd.to_datetime(df_m.time.values)).mjd"
   ]
  },
  {
   "cell_type": "code",
   "execution_count": null,
   "id": "6ed17238-5d2d-4ae9-b081-0ec038a6050b",
   "metadata": {
    "execution": {
     "iopub.execute_input": "2025-03-03T16:04:17.591898Z",
     "iopub.status.busy": "2025-03-03T16:04:17.591766Z",
     "iopub.status.idle": "2025-03-03T16:04:17.604587Z",
     "shell.execute_reply": "2025-03-03T16:04:17.604252Z",
     "shell.execute_reply.started": "2025-03-03T16:04:17.591885Z"
    }
   },
   "outputs": [],
   "source": [
    "df_m.head()"
   ]
  },
  {
   "cell_type": "markdown",
   "id": "b884e71c-39cb-43e1-9edf-4a2cade9196e",
   "metadata": {},
   "source": [
    "### Spectro Hologram data"
   ]
  },
  {
   "cell_type": "code",
   "execution_count": null,
   "id": "a6d313e9-1621-40fb-a7d8-6d01522c7485",
   "metadata": {
    "execution": {
     "iopub.execute_input": "2025-03-03T16:04:17.605120Z",
     "iopub.status.busy": "2025-03-03T16:04:17.604999Z",
     "iopub.status.idle": "2025-03-03T16:04:17.608107Z",
     "shell.execute_reply": "2025-03-03T16:04:17.607798Z",
     "shell.execute_reply.started": "2025-03-03T16:04:17.605108Z"
    }
   },
   "outputs": [],
   "source": [
    "FLAG_WITHCOLLIMATOR = False\n",
    "DATE_WITHCOLLIMATOR = 20230930\n",
    "datetime_WITHCOLLIMATOR = convertNumToDatestr(DATE_WITHCOLLIMATOR)\n",
    "datetime_WITHCOLLIMATOR = pd.to_datetime(\"2023-09-30 00:00:00.0+0000\")\n",
    "datetime_WITHCOLLIMATOR"
   ]
  },
  {
   "cell_type": "code",
   "execution_count": null,
   "id": "5bac0cab-3886-4683-b1c8-fc59edacfd46",
   "metadata": {
    "execution": {
     "iopub.execute_input": "2025-03-03T16:04:17.608643Z",
     "iopub.status.busy": "2025-03-03T16:04:17.608512Z",
     "iopub.status.idle": "2025-03-03T16:04:17.613738Z",
     "shell.execute_reply": "2025-03-03T16:04:17.613397Z",
     "shell.execute_reply.started": "2025-03-03T16:04:17.608632Z"
    },
    "tags": []
   },
   "outputs": [],
   "source": [
    "version_results = \"v5\"\n",
    "legendtag = {\"v1\" : \"old v3.1.0\",\n",
    "            \"v2\" : \"v3.1.0-PWV<10mm\",\n",
    "            \"v3\" : \"v3.1.0-PWV<15mm\",\n",
    "            \"v4\" : \"Auxtel holo v3.1.0\",\n",
    "            \"v5\" : \"Auxtel holo v3.1.0 09/22 - 10/24\"}"
   ]
  },
  {
   "cell_type": "code",
   "execution_count": null,
   "id": "99436fe6-ad07-4796-b982-7dd89f554f0c",
   "metadata": {
    "execution": {
     "iopub.execute_input": "2025-03-03T16:04:17.614269Z",
     "iopub.status.busy": "2025-03-03T16:04:17.614152Z",
     "iopub.status.idle": "2025-03-03T16:04:17.619931Z",
     "shell.execute_reply": "2025-03-03T16:04:17.619608Z",
     "shell.execute_reply.started": "2025-03-03T16:04:17.614257Z"
    },
    "tags": []
   },
   "outputs": [],
   "source": [
    "atmfilenamesdict = {\"v1\" : \"data/spectro/auxtel_atmosphere_202301_v3.1.0_doSensorFlat_rebin2_testWithMaskedEdges_newBoundaries_newPolysRescaled_newFitBounds_adjustA1_lockedOrder2_removeThroughputTails_2.npy\",\n",
    "                    \"v2\" : \"auxtel_atmosphere_202301_v3.1.0_doSensorFlat_rebin2_lockedOrder2_FixA1_FixA2_FitAngstrom_FixA1_FixA2_FitAngstrom_WithGaia_freePressure_newThroughput6_BG40Scaled1.09_PeekFinder.npy\",\n",
    "                    \"v3\" : \"u_dagoret_auxtel_atmosphere_202301_v3.1.0_doSensorFlat_rebin2_lockedOrder2_FixA1_FixA2_FitAngstrom_WithGaia_freePressure_newThroughput6_BG40Scaled1.09_AtmoFitPressureA2_SpecErr_PeekFinder_20240924T161119Z.npy\",\n",
    "                    \"v4\" : \"u_dagoret_auxtel_atmosphere_202301_v3.1.0_doSensorFlat_rebin2_lockedOrder2_FixA1_FixA2_FitAngstrom_WithGaia_freePressure_newThroughput6_BG40Scaled1.09_AtmoFitPressureA2_SpecErr_PeekFinder_20240924T161119Z_spectrfullextend.npy\",\n",
    "                    \"v5\" : \"u_dagoret_auxtel_atmosphere_202209_v3.1.0_doSensorFlat_rebin2_lockedOrder2_FixA1_FixA2_FitAngstrom_WithGaia_freePressure_newThroughput6_BG40Scaled1.09_AtmoFitPressureA2_SpecErr_No5SigmaClip_20241016T184601Z_spectrfullextended.npy\"}"
   ]
  },
  {
   "cell_type": "code",
   "execution_count": null,
   "id": "f5ee7d08-244a-462a-b9fc-ff5cd4d3e801",
   "metadata": {
    "execution": {
     "iopub.execute_input": "2025-03-03T16:04:17.620449Z",
     "iopub.status.busy": "2025-03-03T16:04:17.620331Z",
     "iopub.status.idle": "2025-03-03T16:04:17.625832Z",
     "shell.execute_reply": "2025-03-03T16:04:17.625501Z",
     "shell.execute_reply.started": "2025-03-03T16:04:17.620434Z"
    },
    "tags": []
   },
   "outputs": [],
   "source": [
    "atmfilename = atmfilenamesdict[version_results]\n",
    "tag = legendtag[version_results] "
   ]
  },
  {
   "cell_type": "markdown",
   "id": "a30a15de-34f1-4f2b-afb9-52143c1cff27",
   "metadata": {},
   "source": [
    "## Initialisation"
   ]
  },
  {
   "cell_type": "markdown",
   "id": "4053343d-8e37-4402-b49f-c28dbb9e4afb",
   "metadata": {},
   "source": [
    "### Read the file"
   ]
  },
  {
   "cell_type": "code",
   "execution_count": null,
   "id": "ad60336b-f26f-4184-bcdf-e596329ecbbd",
   "metadata": {
    "execution": {
     "iopub.execute_input": "2025-03-03T16:04:17.626384Z",
     "iopub.status.busy": "2025-03-03T16:04:17.626264Z",
     "iopub.status.idle": "2025-03-03T16:04:17.733748Z",
     "shell.execute_reply": "2025-03-03T16:04:17.733276Z",
     "shell.execute_reply.started": "2025-03-03T16:04:17.626373Z"
    }
   },
   "outputs": [],
   "source": [
    "specdata = np.load(atmfilename,allow_pickle=True)"
   ]
  },
  {
   "cell_type": "code",
   "execution_count": null,
   "id": "3d9c7249-f818-4a98-8000-9be75b3c7a21",
   "metadata": {
    "execution": {
     "iopub.execute_input": "2025-03-03T16:04:17.734452Z",
     "iopub.status.busy": "2025-03-03T16:04:17.734264Z",
     "iopub.status.idle": "2025-03-03T16:04:17.748370Z",
     "shell.execute_reply": "2025-03-03T16:04:17.747947Z",
     "shell.execute_reply.started": "2025-03-03T16:04:17.734439Z"
    }
   },
   "outputs": [],
   "source": [
    "df_spec = pd.DataFrame(specdata)"
   ]
  },
  {
   "cell_type": "code",
   "execution_count": null,
   "id": "a19b591a-d479-4507-b241-81070420c847",
   "metadata": {
    "execution": {
     "iopub.execute_input": "2025-03-03T16:04:17.748940Z",
     "iopub.status.busy": "2025-03-03T16:04:17.748810Z",
     "iopub.status.idle": "2025-03-03T16:04:17.752582Z",
     "shell.execute_reply": "2025-03-03T16:04:17.752117Z",
     "shell.execute_reply.started": "2025-03-03T16:04:17.748927Z"
    },
    "tags": []
   },
   "outputs": [],
   "source": [
    "list(df_spec.columns)"
   ]
  },
  {
   "cell_type": "code",
   "execution_count": null,
   "id": "0a0c5cb3-92c0-4202-b445-56a13429cb63",
   "metadata": {
    "execution": {
     "iopub.execute_input": "2025-03-03T16:04:17.753191Z",
     "iopub.status.busy": "2025-03-03T16:04:17.753019Z",
     "iopub.status.idle": "2025-03-03T16:04:17.760033Z",
     "shell.execute_reply": "2025-03-03T16:04:17.759686Z",
     "shell.execute_reply.started": "2025-03-03T16:04:17.753179Z"
    }
   },
   "outputs": [],
   "source": [
    "df_spec['ex_mjd']"
   ]
  },
  {
   "cell_type": "markdown",
   "id": "bc819873-96bb-450f-bec4-7049af8b8b3d",
   "metadata": {},
   "source": [
    "### Remove spectra with red filter"
   ]
  },
  {
   "cell_type": "code",
   "execution_count": null,
   "id": "dde97a6e-2400-4ea9-83fe-e0fc8a14e391",
   "metadata": {
    "execution": {
     "iopub.execute_input": "2025-03-03T16:04:17.760548Z",
     "iopub.status.busy": "2025-03-03T16:04:17.760421Z",
     "iopub.status.idle": "2025-03-03T16:04:17.766629Z",
     "shell.execute_reply": "2025-03-03T16:04:17.766254Z",
     "shell.execute_reply.started": "2025-03-03T16:04:17.760536Z"
    }
   },
   "outputs": [],
   "source": [
    "df_spec['FILTER'].unique()"
   ]
  },
  {
   "cell_type": "code",
   "execution_count": null,
   "id": "716b7967-d722-4287-8cce-6fa7ea3cbf19",
   "metadata": {
    "execution": {
     "iopub.execute_input": "2025-03-03T16:04:17.767167Z",
     "iopub.status.busy": "2025-03-03T16:04:17.767044Z",
     "iopub.status.idle": "2025-03-03T16:04:17.776159Z",
     "shell.execute_reply": "2025-03-03T16:04:17.775817Z",
     "shell.execute_reply.started": "2025-03-03T16:04:17.767155Z"
    }
   },
   "outputs": [],
   "source": [
    "FLAG_REMOVE_FILTERS = True\n",
    "if FLAG_REMOVE_FILTERS:\n",
    "    df_spec=df_spec[df_spec[\"FILTER\"] == 'empty']\n",
    "    df_spec.reset_index(inplace=True)  "
   ]
  },
  {
   "cell_type": "markdown",
   "id": "a81b1aa2-7edc-4a24-9c44-c24c3826c18f",
   "metadata": {
    "tags": []
   },
   "source": [
    "### Define if a target is faint or bright"
   ]
  },
  {
   "cell_type": "code",
   "execution_count": null,
   "id": "412e59e0-f026-42d0-b6e1-7e5185c7e9dd",
   "metadata": {
    "execution": {
     "iopub.execute_input": "2025-03-03T16:04:17.776712Z",
     "iopub.status.busy": "2025-03-03T16:04:17.776559Z",
     "iopub.status.idle": "2025-03-03T16:04:17.779518Z",
     "shell.execute_reply": "2025-03-03T16:04:17.779192Z",
     "shell.execute_reply.started": "2025-03-03T16:04:17.776699Z"
    },
    "tags": []
   },
   "outputs": [],
   "source": [
    "def IsFaint(row):\n",
    "    List_Of_Faint_targets = ['Feige110','HD074000','HD115169','HD031128','HD200654','HD167060','HD009051','HD142331','HD160617','HD111980']\n",
    "    List_Of_faint_selected = List_Of_Faint_targets[:10]\n",
    "    if row[\"TARGET\"] in List_Of_faint_selected:\n",
    "        return True\n",
    "    else:\n",
    "        return False"
   ]
  },
  {
   "cell_type": "code",
   "execution_count": null,
   "id": "07cd52bf-50de-4190-ad3f-d68aaf18039e",
   "metadata": {
    "execution": {
     "iopub.execute_input": "2025-03-03T16:04:17.780039Z",
     "iopub.status.busy": "2025-03-03T16:04:17.779895Z",
     "iopub.status.idle": "2025-03-03T16:04:17.830779Z",
     "shell.execute_reply": "2025-03-03T16:04:17.830338Z",
     "shell.execute_reply.started": "2025-03-03T16:04:17.780027Z"
    }
   },
   "outputs": [],
   "source": [
    "df_spec[\"isFaint\"] = df_spec.apply(IsFaint,axis=1)"
   ]
  },
  {
   "cell_type": "markdown",
   "id": "3af3b3b6-7774-4b43-830b-a287c4e3281b",
   "metadata": {},
   "source": [
    "### Compute NightObs"
   ]
  },
  {
   "cell_type": "code",
   "execution_count": null,
   "id": "4de5d570-2e92-468b-ab07-63fffd8d2b8c",
   "metadata": {
    "execution": {
     "iopub.execute_input": "2025-03-03T16:04:17.831377Z",
     "iopub.status.busy": "2025-03-03T16:04:17.831244Z",
     "iopub.status.idle": "2025-03-03T16:04:17.877550Z",
     "shell.execute_reply": "2025-03-03T16:04:17.877120Z",
     "shell.execute_reply.started": "2025-03-03T16:04:17.831364Z"
    }
   },
   "outputs": [],
   "source": [
    "df_spec[\"nightObs\"] = df_spec.apply(lambda x: x['id']//100_000, axis=1)"
   ]
  },
  {
   "cell_type": "code",
   "execution_count": null,
   "id": "079b9ebb-4e59-4364-8ffa-f0439e943959",
   "metadata": {
    "execution": {
     "iopub.execute_input": "2025-03-03T16:04:17.878186Z",
     "iopub.status.busy": "2025-03-03T16:04:17.878046Z",
     "iopub.status.idle": "2025-03-03T16:04:17.880496Z",
     "shell.execute_reply": "2025-03-03T16:04:17.880164Z",
     "shell.execute_reply.started": "2025-03-03T16:04:17.878174Z"
    }
   },
   "outputs": [],
   "source": [
    "if FLAG_WITHCOLLIMATOR:\n",
    "    df_spec = df_spec[df_spec[\"nightObs\"]> DATE_WITHCOLLIMATOR]"
   ]
  },
  {
   "cell_type": "markdown",
   "id": "a4f8b443-4bc5-46fc-a548-33441edee6da",
   "metadata": {},
   "source": [
    "## Apply Quality selection"
   ]
  },
  {
   "cell_type": "code",
   "execution_count": null,
   "id": "2325b3ff-29c2-445a-b25e-cc11aba4f45a",
   "metadata": {
    "execution": {
     "iopub.execute_input": "2025-03-03T16:04:17.880990Z",
     "iopub.status.busy": "2025-03-03T16:04:17.880874Z",
     "iopub.status.idle": "2025-03-03T16:04:18.100886Z",
     "shell.execute_reply": "2025-03-03T16:04:18.100439Z",
     "shell.execute_reply.started": "2025-03-03T16:04:17.880979Z"
    },
    "tags": []
   },
   "outputs": [],
   "source": [
    "fig,ax = plt.subplots(1,1)\n",
    "df_spec[\"CHI2_FIT\"].hist(bins=50,ax=ax,range=(0,200))\n",
    "ax.set_yscale(\"log\")"
   ]
  },
  {
   "cell_type": "markdown",
   "id": "a7aaca44-ad09-4883-8a7d-413b71e8b4a2",
   "metadata": {},
   "source": [
    "### Add the Time in pd.datetime"
   ]
  },
  {
   "cell_type": "markdown",
   "id": "6a2222de-f3b7-4678-b2dc-d4c89102e0ab",
   "metadata": {},
   "source": [
    "#### UTC"
   ]
  },
  {
   "cell_type": "code",
   "execution_count": null,
   "id": "0d10c1ad-c5dc-4487-baa9-7c71ec531f45",
   "metadata": {
    "execution": {
     "iopub.execute_input": "2025-03-03T16:04:18.101599Z",
     "iopub.status.busy": "2025-03-03T16:04:18.101413Z",
     "iopub.status.idle": "2025-03-03T16:04:18.107685Z",
     "shell.execute_reply": "2025-03-03T16:04:18.107302Z",
     "shell.execute_reply.started": "2025-03-03T16:04:18.101585Z"
    }
   },
   "outputs": [],
   "source": [
    "df_spec[\"Time\"] = pd.to_datetime(df_spec[\"DATE-OBS\"])"
   ]
  },
  {
   "cell_type": "code",
   "execution_count": null,
   "id": "66cfe082-4e0c-4b83-ac40-122ba4c58ec4",
   "metadata": {
    "execution": {
     "iopub.execute_input": "2025-03-03T16:04:18.108389Z",
     "iopub.status.busy": "2025-03-03T16:04:18.108196Z",
     "iopub.status.idle": "2025-03-03T16:04:18.114700Z",
     "shell.execute_reply": "2025-03-03T16:04:18.114349Z",
     "shell.execute_reply.started": "2025-03-03T16:04:18.108377Z"
    },
    "tags": []
   },
   "outputs": [],
   "source": [
    "DT = pd.Timedelta(minutes=7*24*60)\n",
    "TMIN  = df_spec[\"Time\"].min()-DT\n",
    "TMAX  = df_spec[\"Time\"].max()+DT"
   ]
  },
  {
   "cell_type": "markdown",
   "id": "433fdc22-9674-47c9-a11c-1e6acfc52311",
   "metadata": {
    "tags": []
   },
   "source": [
    "### Compute relative time to Mid-night"
   ]
  },
  {
   "cell_type": "code",
   "execution_count": null,
   "id": "0de9a173-9144-4c45-a93f-f7df8b5905b7",
   "metadata": {
    "execution": {
     "iopub.execute_input": "2025-03-03T16:04:18.115342Z",
     "iopub.status.busy": "2025-03-03T16:04:18.115125Z",
     "iopub.status.idle": "2025-03-03T16:04:18.121105Z",
     "shell.execute_reply": "2025-03-03T16:04:18.120777Z",
     "shell.execute_reply.started": "2025-03-03T16:04:18.115329Z"
    }
   },
   "outputs": [],
   "source": [
    "def GetTimeToMidNight(row):\n",
    "    observing_time = Time(row['DATE-OBS'], scale='utc', location=observing_location)\n",
    "\n",
    "    # time at the location , either before or after midnight\n",
    "    local_time =  observing_time.to_datetime(timezone=tz)\n",
    "\n",
    "    # take time independent  of any location now\n",
    "    local_time_new = datetime(local_time.year,local_time.month,local_time.day,local_time.hour,local_time.minute,local_time.second)\n",
    "    local_time_midnight = datetime(local_time_new.year,local_time_new.month,local_time_new.day)\n",
    "    dt_hour = (local_time_new -local_time_midnight).seconds/3600.\n",
    "\n",
    "    # we took the previous night mid-night , must subtract 24H\n",
    "    if dt_hour > 12.:\n",
    "        dt_hour_new = (dt_hour - 24.)\n",
    "    else:\n",
    "        dt_hour_new = dt_hour\n",
    "        \n",
    "    return dt_hour_new"
   ]
  },
  {
   "cell_type": "code",
   "execution_count": null,
   "id": "05bfba4e-45f5-4020-953f-b6205001b698",
   "metadata": {
    "execution": {
     "iopub.execute_input": "2025-03-03T16:04:18.121577Z",
     "iopub.status.busy": "2025-03-03T16:04:18.121453Z",
     "iopub.status.idle": "2025-03-03T16:04:20.668748Z",
     "shell.execute_reply": "2025-03-03T16:04:20.668327Z",
     "shell.execute_reply.started": "2025-03-03T16:04:18.121565Z"
    }
   },
   "outputs": [],
   "source": [
    "df_spec[\"dt_midnight\"] = df_spec.apply(GetTimeToMidNight,axis=1)"
   ]
  },
  {
   "cell_type": "code",
   "execution_count": null,
   "id": "154fc415-c965-44c2-8ec0-95f95c1616a3",
   "metadata": {
    "execution": {
     "iopub.execute_input": "2025-03-03T16:04:20.669374Z",
     "iopub.status.busy": "2025-03-03T16:04:20.669239Z",
     "iopub.status.idle": "2025-03-03T16:04:20.785171Z",
     "shell.execute_reply": "2025-03-03T16:04:20.784794Z",
     "shell.execute_reply.started": "2025-03-03T16:04:20.669361Z"
    }
   },
   "outputs": [],
   "source": [
    "fig,ax = plt.subplots(1,1,figsize=(6,4))\n",
    "df_spec[\"dt_midnight\"].hist(bins=48,range=(-12,12),ax=ax,facecolor=\"blue\") \n",
    "ax.set_xlabel(\"time relative to midnight (hour)\")\n",
    "ax.set_title(\"Observation time\")"
   ]
  },
  {
   "cell_type": "markdown",
   "id": "649915d4-df38-43ae-8b7a-f0f72e70590d",
   "metadata": {},
   "source": [
    "### Compute Date relative to January"
   ]
  },
  {
   "cell_type": "code",
   "execution_count": null,
   "id": "e5e99394-ff09-4ab6-b0c0-0fccce1be86c",
   "metadata": {
    "execution": {
     "iopub.execute_input": "2025-03-03T16:04:20.785877Z",
     "iopub.status.busy": "2025-03-03T16:04:20.785655Z",
     "iopub.status.idle": "2025-03-03T16:04:20.788681Z",
     "shell.execute_reply": "2025-03-03T16:04:20.788311Z",
     "shell.execute_reply.started": "2025-03-03T16:04:20.785865Z"
    }
   },
   "outputs": [],
   "source": [
    "def GetDateToMidJanuary(row):\n",
    "    observing_time = Time(row['DATE-OBS'], scale='utc', location=observing_location)\n",
    "\n",
    "    # time at the location , either before or after midnight\n",
    "    local_time =  observing_time.to_datetime(timezone=tz)\n",
    "\n",
    "    # take time independent  of any location now\n",
    "    local_time_new = datetime(2024,local_time.month,local_time.day,local_time.hour,local_time.minute,local_time.second)\n",
    "           \n",
    "    return pd.to_datetime(local_time_new)"
   ]
  },
  {
   "cell_type": "code",
   "execution_count": null,
   "id": "2e991a33-84e9-4766-98fb-665bada15c6d",
   "metadata": {
    "execution": {
     "iopub.execute_input": "2025-03-03T16:04:20.789245Z",
     "iopub.status.busy": "2025-03-03T16:04:20.789126Z",
     "iopub.status.idle": "2025-03-03T16:04:20.795191Z",
     "shell.execute_reply": "2025-03-03T16:04:20.794836Z",
     "shell.execute_reply.started": "2025-03-03T16:04:20.789233Z"
    }
   },
   "outputs": [],
   "source": [
    "#df_spec[\"Time_january\"] = df_spec.apply(GetDateToMidJanuary,axis=1)"
   ]
  },
  {
   "cell_type": "code",
   "execution_count": null,
   "id": "42779ad2-8f3f-44c7-9a0b-a9dcb33065e9",
   "metadata": {
    "execution": {
     "iopub.execute_input": "2025-03-03T16:04:20.795750Z",
     "iopub.status.busy": "2025-03-03T16:04:20.795629Z",
     "iopub.status.idle": "2025-03-03T16:04:20.802070Z",
     "shell.execute_reply": "2025-03-03T16:04:20.801653Z",
     "shell.execute_reply.started": "2025-03-03T16:04:20.795738Z"
    }
   },
   "outputs": [],
   "source": [
    "def GetDateToMidJanuaryAndYear(row):\n",
    "    observing_time = Time(row['DATE-OBS'], scale='utc', location=observing_location)\n",
    "\n",
    "    # time at the location , either before or after midnight\n",
    "    local_time =  observing_time.to_datetime(timezone=tz)\n",
    "\n",
    "    # take time independent  of any location now\n",
    "    local_time_new = datetime(2024,local_time.month,local_time.day,local_time.hour,local_time.minute,local_time.second)\n",
    "           \n",
    "    return pd.to_datetime(local_time_new),local_time.year "
   ]
  },
  {
   "cell_type": "code",
   "execution_count": null,
   "id": "3e747bbc-1357-447b-8cfb-1b22573f022c",
   "metadata": {
    "execution": {
     "iopub.execute_input": "2025-03-03T16:04:20.802495Z",
     "iopub.status.busy": "2025-03-03T16:04:20.802368Z",
     "iopub.status.idle": "2025-03-03T16:04:23.716963Z",
     "shell.execute_reply": "2025-03-03T16:04:23.716539Z",
     "shell.execute_reply.started": "2025-03-03T16:04:20.802483Z"
    }
   },
   "outputs": [],
   "source": [
    "df_spec[[\"Time_january\",\"Year\"]] = df_spec.apply(GetDateToMidJanuaryAndYear,axis=1,result_type=\"expand\")"
   ]
  },
  {
   "cell_type": "code",
   "execution_count": null,
   "id": "4076ca2e-03ea-4373-8b55-fdb6ae49de51",
   "metadata": {
    "execution": {
     "iopub.execute_input": "2025-03-03T16:04:23.717603Z",
     "iopub.status.busy": "2025-03-03T16:04:23.717462Z",
     "iopub.status.idle": "2025-03-03T16:04:23.724036Z",
     "shell.execute_reply": "2025-03-03T16:04:23.723701Z",
     "shell.execute_reply.started": "2025-03-03T16:04:23.717591Z"
    }
   },
   "outputs": [],
   "source": [
    "df_spec[[\"Time_january\",\"Year\"]]"
   ]
  },
  {
   "cell_type": "markdown",
   "id": "90783a42-5ed9-4ad8-8457-bbe1569413fe",
   "metadata": {},
   "source": [
    "## Compute night boundaries"
   ]
  },
  {
   "cell_type": "code",
   "execution_count": null,
   "id": "0ee7679a-ea50-4190-9400-664370a6b7f0",
   "metadata": {
    "execution": {
     "iopub.execute_input": "2025-03-03T16:04:23.724634Z",
     "iopub.status.busy": "2025-03-03T16:04:23.724494Z",
     "iopub.status.idle": "2025-03-03T16:04:23.727678Z",
     "shell.execute_reply": "2025-03-03T16:04:23.727329Z",
     "shell.execute_reply.started": "2025-03-03T16:04:23.724622Z"
    },
    "tags": []
   },
   "outputs": [],
   "source": [
    "def GetNightBoundariesDict(df_spec):\n",
    "    \"\"\"\n",
    "    input:\n",
    "      df_spec the dataframe for spectroscopy summary results\n",
    "    output:\n",
    "      the dict of night boudaries\n",
    "    \"\"\"\n",
    "    \n",
    "    Dt = pd.Timedelta(minutes=30)\n",
    "    d = {}\n",
    "    list_of_nightobs = df_spec[\"nightObs\"].unique()\n",
    "    for nightobs in list_of_nightobs:\n",
    "        sel_flag = df_spec[\"nightObs\"]== nightobs\n",
    "        df_night = df_spec[sel_flag]\n",
    "        tmin = df_night[\"Time\"].min()-Dt\n",
    "        tmax = df_night[\"Time\"].max()+Dt\n",
    "        d[nightobs] = (tmin,tmax)\n",
    "    return d"
   ]
  },
  {
   "cell_type": "code",
   "execution_count": null,
   "id": "b4e4e1eb-c4c1-4bdf-b88f-b44bd55b2435",
   "metadata": {
    "execution": {
     "iopub.execute_input": "2025-03-03T16:04:23.728231Z",
     "iopub.status.busy": "2025-03-03T16:04:23.728109Z",
     "iopub.status.idle": "2025-03-03T16:04:23.803774Z",
     "shell.execute_reply": "2025-03-03T16:04:23.803310Z",
     "shell.execute_reply.started": "2025-03-03T16:04:23.728219Z"
    },
    "tags": []
   },
   "outputs": [],
   "source": [
    "dn = GetNightBoundariesDict(df_spec)"
   ]
  },
  {
   "cell_type": "markdown",
   "id": "715cae7e-32ff-46c8-8d1a-a7c220a9eaed",
   "metadata": {},
   "source": [
    "## Plot all data"
   ]
  },
  {
   "cell_type": "code",
   "execution_count": null,
   "id": "52f3617a-66ac-4021-82b5-2ab076e32d7a",
   "metadata": {
    "execution": {
     "iopub.execute_input": "2025-03-03T16:04:23.804408Z",
     "iopub.status.busy": "2025-03-03T16:04:23.804274Z",
     "iopub.status.idle": "2025-03-03T16:04:24.393150Z",
     "shell.execute_reply": "2025-03-03T16:04:24.392748Z",
     "shell.execute_reply.started": "2025-03-03T16:04:23.804397Z"
    }
   },
   "outputs": [],
   "source": [
    "from matplotlib.dates import DateFormatter\n",
    "#date_form = DateFormatter(\"%y-%m-%dT%H:%M\")\n",
    "date_form = DateFormatter(\"%y-%m-%d\")\n",
    "fig,axs = plt.subplots(1,1,figsize=(14,6))\n",
    "ax  = axs\n",
    "leg=ax.get_legend()\n",
    "\n",
    "ax.set_xlim(TMIN,TMAX) \n",
    "#df_m.plot(x=\"Time\",y=\"PShP\",ax=ax,marker=\".\",c=\"b\",lw=0.5,label=\"Merra2\",ms=1,legend=leg)   \n",
    "df_spec.plot(x=\"Time\",y=\"OUTPRESS\",ax=ax,marker='+',c=\"r\",lw=0.0,grid=True,label=tag,legend=leg)\n",
    "ax.set_ylabel(\"OUTPRESS\")\n",
    "\n",
    "ax.set_xlabel(\"time\")\n",
    "ax.xaxis.set_major_formatter(date_form)\n",
    "ax.set_title(\"Pressure (before quality cuts)\")\n",
    "ax.legend()\n",
    "\n",
    "if not FLAG_WITHCOLLIMATOR:\n",
    "    ax.axvspan(TMIN,datetime_WITHCOLLIMATOR, color='yellow', alpha=0.1)\n",
    "\n",
    "\n",
    "for key, tt in dn.items():\n",
    "    ax.axvspan(tt[0],tt[1], color='blue', alpha=0.1)\n",
    "\n",
    "\n",
    "#ax.set_ylim(0.,15.)\n",
    "\n",
    "figname =f\"{pathfigs}/pressure_allpoints_allnights_nocuts\"+figtype\n",
    "plt.savefig(figname)\n",
    "plt.show()\n"
   ]
  },
  {
   "cell_type": "code",
   "execution_count": null,
   "id": "3fd02994-4a05-4145-8da9-10ac7f5b920a",
   "metadata": {
    "execution": {
     "iopub.execute_input": "2025-03-03T16:04:24.393781Z",
     "iopub.status.busy": "2025-03-03T16:04:24.393646Z",
     "iopub.status.idle": "2025-03-03T16:04:25.203905Z",
     "shell.execute_reply": "2025-03-03T16:04:25.203498Z",
     "shell.execute_reply.started": "2025-03-03T16:04:24.393769Z"
    }
   },
   "outputs": [],
   "source": [
    "from matplotlib.dates import DateFormatter\n",
    "#date_form = DateFormatter(\"%y-%m-%dT%H:%M\")\n",
    "date_form = DateFormatter(\"%y-%m-%d\")\n",
    "fig,axs = plt.subplots(1,1,figsize=(14,6))\n",
    "ax  = axs\n",
    "leg=ax.get_legend()\n",
    "\n",
    "ax.set_xlim(TMIN,TMAX)   \n",
    "\n",
    "df_m.plot(x=\"Time\",y=\"TQV\",ax=ax,marker=\".\",c=\"b\",lw=1,ms=1,ls=\"-\",label=\"Merra2\",legend=leg)   \n",
    "df_spec.plot(x=\"Time\",y=\"PWV [mm]_x\",ax=ax,marker='+',c=\"r\",lw=0.0,grid=True,label=tag,legend=leg)\n",
    "ax.set_ylabel(\"PWV [mm]_x\")\n",
    "\n",
    "ax.set_xlabel(\"time\")\n",
    "ax.xaxis.set_major_formatter(date_form)\n",
    "ax.set_title(\"Precipitable water vapor measured by holo vs time (before quality cuts)\")\n",
    "ax.legend()\n",
    "\n",
    "if not FLAG_WITHCOLLIMATOR:\n",
    "    ax.axvspan(TMIN,datetime_WITHCOLLIMATOR, color='yellow', alpha=0.1)\n",
    "\n",
    "\n",
    "for key, tt in dn.items():\n",
    "    ax.axvspan(tt[0],tt[1], color='blue', alpha=0.1)\n",
    "\n",
    "\n",
    "ax.set_ylim(0.,15.)\n",
    "\n",
    "figname =f\"{pathfigs}/pwv_allpoints_allnights_nocuts\"+figtype\n",
    "plt.savefig(figname)\n",
    "plt.show()\n"
   ]
  },
  {
   "cell_type": "markdown",
   "id": "564f9a05-b3e2-4d61-9457-cda76ebd2a1b",
   "metadata": {},
   "source": [
    "## Apply Quality selection cuts"
   ]
  },
  {
   "cell_type": "code",
   "execution_count": null,
   "id": "51bff128-4de1-4396-ac64-e56336d8dd67",
   "metadata": {
    "execution": {
     "iopub.execute_input": "2025-03-03T16:04:25.204543Z",
     "iopub.status.busy": "2025-03-03T16:04:25.204401Z",
     "iopub.status.idle": "2025-03-03T16:04:25.207666Z",
     "shell.execute_reply": "2025-03-03T16:04:25.207305Z",
     "shell.execute_reply.started": "2025-03-03T16:04:25.204530Z"
    }
   },
   "outputs": [],
   "source": [
    "def getSelectionCut(df_spec, chi2max=20., pwvmin=0.1, pwvmax = 14.9,ozmin=100.,ozmax=600.,vaodmax=0.1):\n",
    "    #cut =  (df_spec[\"CHI2_FIT\"]<chi2max) & (df_spec[\"PWV [mm]_x\"] > pwvmin) & (df_spec[\"PWV [mm]_x\"] < pwvmax) & (df_spec[\"D2CCD\"]>186.5) &  (df_spec[\"D2CCD\"]<187.3) & \\\n",
    "    cut =  (df_spec[\"CHI2_FIT\"]<chi2max) & (df_spec[\"PWV [mm]_x\"] > pwvmin) & (df_spec[\"PWV [mm]_x\"] < pwvmax) & (df_spec[\"D2CCD\"]>186.75) &  (df_spec[\"D2CCD\"]<187.75) &  (df_spec[\"VAOD_x\"]<0.1) & \\\n",
    "    (df_spec['EXPTIME'] > 20.) & (df_spec[\"PWV [mm]_y\"] > pwvmin) & (df_spec[\"PWV [mm]_y\"] < pwvmax) & \\\n",
    "    (df_spec[\"ozone [db]_y\"] > ozmin) & (df_spec[\"ozone [db]_y\"] < ozmax) \n",
    "    return cut"
   ]
  },
  {
   "cell_type": "code",
   "execution_count": null,
   "id": "99017666-4267-4f7c-a926-2da40fe78c00",
   "metadata": {
    "execution": {
     "iopub.execute_input": "2025-03-03T16:04:25.208217Z",
     "iopub.status.busy": "2025-03-03T16:04:25.208094Z",
     "iopub.status.idle": "2025-03-03T16:04:25.214664Z",
     "shell.execute_reply": "2025-03-03T16:04:25.214318Z",
     "shell.execute_reply.started": "2025-03-03T16:04:25.208205Z"
    }
   },
   "outputs": [],
   "source": [
    "def getSelectionCutNoPolar(df_spec, chi2max=20., pwvmin=0.1, pwvmax = 14.9,ozmin=100.,ozmax=600.,vaodmax=0.1):\n",
    "    #cut =  (df_spec[\"CHI2_FIT\"]<chi2max) & (df_spec[\"PWV [mm]_x\"] > pwvmin) & (df_spec[\"PWV [mm]_x\"] < pwvmax) & (df_spec[\"D2CCD\"]>186.5) &  (df_spec[\"D2CCD\"]<187.3) & \\\n",
    "    cut =  (df_spec[\"CHI2_FIT\"]<chi2max) & (df_spec[\"PWV [mm]_x\"] > pwvmin) & (df_spec[\"PWV [mm]_x\"] < pwvmax) & (df_spec[\"D2CCD\"]>186.75) &  (df_spec[\"D2CCD\"]<187.75) &  (df_spec[\"VAOD_x\"]<0.1) & \\\n",
    "    (df_spec['EXPTIME'] > 20.) & (df_spec[\"PWV [mm]_y\"] > pwvmin) & (df_spec[\"PWV [mm]_y\"] < pwvmax) & \\\n",
    "    (df_spec[\"ozone [db]_y\"] > ozmin) & (df_spec[\"ozone [db]_y\"] < ozmax) & (df_spec[\"TARGET\"] != \"HD185975\")\n",
    "    return cut"
   ]
  },
  {
   "cell_type": "code",
   "execution_count": null,
   "id": "19b35b65-0191-4f70-9623-b3ecaeebe96e",
   "metadata": {
    "execution": {
     "iopub.execute_input": "2025-03-03T16:04:25.215186Z",
     "iopub.status.busy": "2025-03-03T16:04:25.215065Z",
     "iopub.status.idle": "2025-03-03T16:04:25.221278Z",
     "shell.execute_reply": "2025-03-03T16:04:25.220932Z",
     "shell.execute_reply.started": "2025-03-03T16:04:25.215175Z"
    }
   },
   "outputs": [],
   "source": [
    "def getSelectionCutWithPolar(df_spec, chi2max=20., pwvmin=0.1, pwvmax = 14.9,ozmin=100.,ozmax=600.,vaodmax=0.1):\n",
    "    #cut =  (df_spec[\"CHI2_FIT\"]<chi2max) & (df_spec[\"PWV [mm]_x\"] > pwvmin) & (df_spec[\"PWV [mm]_x\"] < pwvmax) & (df_spec[\"D2CCD\"]>186.5) &  (df_spec[\"D2CCD\"]<187.3) & \\\n",
    "    cut =  (df_spec[\"CHI2_FIT\"]<chi2max) & (df_spec[\"PWV [mm]_x\"] > pwvmin) & (df_spec[\"PWV [mm]_x\"] < pwvmax) & (df_spec[\"D2CCD\"]>186.75) &  (df_spec[\"D2CCD\"]<187.75) &  (df_spec[\"VAOD_x\"]<0.1) & \\\n",
    "    (df_spec['EXPTIME'] > 20.) & (df_spec[\"PWV [mm]_y\"] > pwvmin) & (df_spec[\"PWV [mm]_y\"] < pwvmax) & \\\n",
    "    (df_spec[\"ozone [db]_y\"] > ozmin) & (df_spec[\"ozone [db]_y\"] < ozmax) & (df_spec[\"TARGET\"] == \"HD185975\")\n",
    "    return cut"
   ]
  },
  {
   "cell_type": "code",
   "execution_count": null,
   "id": "1b675e35-55ff-41af-82bf-85bb4c3267be",
   "metadata": {
    "execution": {
     "iopub.execute_input": "2025-03-03T16:04:25.221821Z",
     "iopub.status.busy": "2025-03-03T16:04:25.221700Z",
     "iopub.status.idle": "2025-03-03T16:04:25.234795Z",
     "shell.execute_reply": "2025-03-03T16:04:25.234443Z",
     "shell.execute_reply.started": "2025-03-03T16:04:25.221809Z"
    },
    "tags": []
   },
   "outputs": [],
   "source": [
    "cut = getSelectionCut(df_spec) \n",
    "cut_nopolar = getSelectionCutNoPolar(df_spec) \n",
    "cut_nopolar_bright = getSelectionCutNoPolar(df_spec) & (~df_spec[\"isFaint\"])\n",
    "cut_nopolar_faint = getSelectionCutNoPolar(df_spec) & (df_spec[\"isFaint\"])\n",
    "cut_wthpolar = getSelectionCutWithPolar(df_spec)"
   ]
  },
  {
   "cell_type": "code",
   "execution_count": null,
   "id": "e1cbfa40-4395-47f4-9acf-6a9f531fabd4",
   "metadata": {
    "execution": {
     "iopub.execute_input": "2025-03-03T16:04:25.235335Z",
     "iopub.status.busy": "2025-03-03T16:04:25.235213Z",
     "iopub.status.idle": "2025-03-03T16:04:25.240892Z",
     "shell.execute_reply": "2025-03-03T16:04:25.240525Z",
     "shell.execute_reply.started": "2025-03-03T16:04:25.235323Z"
    }
   },
   "outputs": [],
   "source": [
    "df_spec_sel = df_spec[cut]\n",
    "df_spec_np = df_spec[cut_nopolar] \n",
    "df_spec_np_b = df_spec[cut_nopolar_bright]\n",
    "df_spec_np_f = df_spec[cut_nopolar_faint]\n",
    "df_spec_wp = df_spec[cut_wthpolar]"
   ]
  },
  {
   "cell_type": "code",
   "execution_count": null,
   "id": "3c2b44e0-c554-4265-8caf-25b77c33ab1c",
   "metadata": {
    "execution": {
     "iopub.execute_input": "2025-03-03T16:04:25.241393Z",
     "iopub.status.busy": "2025-03-03T16:04:25.241273Z",
     "iopub.status.idle": "2025-03-03T16:04:25.244233Z",
     "shell.execute_reply": "2025-03-03T16:04:25.243869Z",
     "shell.execute_reply.started": "2025-03-03T16:04:25.241382Z"
    }
   },
   "outputs": [],
   "source": [
    "print(\"Total number of Spectra          : \",len(df_spec))\n",
    "print(\"Number of selected Spectra       : \",len(df_spec_sel))\n",
    "print(\"Number of selected Polars        : \",len(df_spec_wp))\n",
    "print(\"Number of selected Non-Polars    : \",len(df_spec_np))\n",
    "print(\"Number of selected Non-Polars Bright : \",len(df_spec_np_b))\n",
    "print(\"Number of selected Non-Polars Faint  : \",len(df_spec_np_f))"
   ]
  },
  {
   "cell_type": "code",
   "execution_count": null,
   "id": "bae62b07-17d4-423e-bdfe-634272a040a2",
   "metadata": {
    "execution": {
     "iopub.execute_input": "2025-03-03T16:04:25.244712Z",
     "iopub.status.busy": "2025-03-03T16:04:25.244598Z",
     "iopub.status.idle": "2025-03-03T16:04:25.250279Z",
     "shell.execute_reply": "2025-03-03T16:04:25.249903Z",
     "shell.execute_reply.started": "2025-03-03T16:04:25.244700Z"
    },
    "tags": []
   },
   "outputs": [],
   "source": [
    "df_spec_sel.reset_index(drop=True,inplace=True)\n",
    "df_spec_np.reset_index(drop=True,inplace=True)\n",
    "df_spec_wp.reset_index(drop=True,inplace=True) \n",
    "df_spec_np_b.reset_index(drop=True,inplace=True)\n",
    "df_spec_np_f.reset_index(drop=True,inplace=True)"
   ]
  },
  {
   "cell_type": "code",
   "execution_count": null,
   "id": "cef3e8dd-b2b7-4fcb-a676-3cef4d07f6c7",
   "metadata": {
    "execution": {
     "iopub.execute_input": "2025-03-03T16:04:25.250937Z",
     "iopub.status.busy": "2025-03-03T16:04:25.250801Z",
     "iopub.status.idle": "2025-03-03T16:04:25.257711Z",
     "shell.execute_reply": "2025-03-03T16:04:25.257348Z",
     "shell.execute_reply.started": "2025-03-03T16:04:25.250926Z"
    }
   },
   "outputs": [],
   "source": [
    "#List_Of_Faint_targets = ['Feige110','HD074000','HD115169','HD031128','HD200654','HD167060','HD009051','HD142331','HD160617','HD111980']\n",
    "print(\"Polar            :\",len(df_spec_wp[\"TARGET\"].unique()),\"\\t\", df_spec_wp[\"TARGET\"].unique()) \n",
    "print(\"Non Polar        :\",len(df_spec_np[\"TARGET\"].unique()),\"\\t\" ,df_spec_np[\"TARGET\"].unique())\n",
    "print(\"Non Polar Bright :\",len(df_spec_np_b[\"TARGET\"].unique()),\"\\t\" ,df_spec_np_b[\"TARGET\"].unique())\n",
    "print(\"Non Polar Faint  :\",len(df_spec_np_f[\"TARGET\"].unique()),\"\\t\",df_spec_np_f[\"TARGET\"].unique())"
   ]
  },
  {
   "cell_type": "markdown",
   "id": "030bf82d-8d80-492c-96cf-4506c2eac282",
   "metadata": {
    "tags": []
   },
   "source": [
    "## Recompute night boundaries"
   ]
  },
  {
   "cell_type": "code",
   "execution_count": null,
   "id": "1e41540b-d7cd-49c8-88dc-4175db604a17",
   "metadata": {
    "execution": {
     "iopub.execute_input": "2025-03-03T16:04:25.261262Z",
     "iopub.status.busy": "2025-03-03T16:04:25.260999Z",
     "iopub.status.idle": "2025-03-03T16:04:25.263051Z",
     "shell.execute_reply": "2025-03-03T16:04:25.262709Z",
     "shell.execute_reply.started": "2025-03-03T16:04:25.261249Z"
    },
    "tags": []
   },
   "outputs": [],
   "source": [
    "#dn = GetNightBoundariesDict(df_spec_sel)"
   ]
  },
  {
   "cell_type": "markdown",
   "id": "c4c10f08-5d32-465f-afd6-e51c1716bbd2",
   "metadata": {},
   "source": [
    "## Plot all data"
   ]
  },
  {
   "cell_type": "code",
   "execution_count": null,
   "id": "a2b12d05-8396-4a3c-bcfb-75de6ac63ee5",
   "metadata": {
    "execution": {
     "iopub.execute_input": "2025-03-03T16:04:25.263540Z",
     "iopub.status.busy": "2025-03-03T16:04:25.263413Z",
     "iopub.status.idle": "2025-03-03T16:04:26.018261Z",
     "shell.execute_reply": "2025-03-03T16:04:26.017852Z",
     "shell.execute_reply.started": "2025-03-03T16:04:25.263524Z"
    }
   },
   "outputs": [],
   "source": [
    "from matplotlib.dates import DateFormatter\n",
    "date_form = DateFormatter(\"%y-%m-%d\")\n",
    "\n",
    "fig,axs = plt.subplots(1,1,figsize=(14,6),layout='constrained')\n",
    "ax  = axs\n",
    "leg=ax.get_legend()\n",
    "\n",
    "ax.set_xlim(TMIN,TMAX) \n",
    "#df_m.plot(x=\"Time\",y=\"TQV\",ax=ax,marker=\".\",c=\"b\",lw=0.5,ms=1,label=\"Merra2\",legend=leg)     \n",
    "\n",
    "df_m.plot(x=\"Time\",y=\"TQV\",ax=ax,marker=\".\",c=\"b\",lw=1,ms=1,ls=\"-\",label=\"Merra2\",legend=leg)  \n",
    "df_spec_sel.plot(x=\"Time\",y=\"PWV [mm]_x\",ax=ax,marker='+',c=\"r\",lw=0.0,grid=True,label=tag,legend=leg)\n",
    "\n",
    "#df_spec_sel[df_spec_sel.Year==2022].plot(x=\"Time_january\",y=\"PWV [mm]_x\",ax=ax,marker='+',c=\"g\",lw=0.0,grid=True,label=\"2022\",legend=leg,ms=5,alpha=1.)\n",
    "#df_spec_sel[df_spec_sel.Year==2023].plot(x=\"Time_january\",y=\"PWV [mm]_x\",ax=ax,marker='+',c=\"b\",lw=0.0,grid=True,label=\"2023\",legend=leg,ms=5,alpha=1.)\n",
    "#df_spec_sel[df_spec_sel.Year==2024].plot(x=\"Time_january\",y=\"PWV [mm]_x\",ax=ax,marker='+',c=\"r\",lw=0.0,grid=True,label=\"2024\",legend=leg,ms=5,alpha=1.)\n",
    "\n",
    "ax.set_ylabel(\"PWV [mm]_x\")\n",
    "ax.set_xlabel(\"date\")\n",
    "ax.xaxis.set_major_formatter(date_form)\n",
    "ax.set_title(\"Precipitable water vapor measured by holo\",fontweight=\"bold\")\n",
    "ax.legend()\n",
    "\n",
    "for key, tt in dn.items():\n",
    "    ax.axvspan(tt[0],tt[1], color='blue', alpha=0.1)\n",
    "\n",
    "ax.axvspan(TMIN,datetime_WITHCOLLIMATOR, color='yellow', alpha=0.1)\n",
    "\n",
    "plt.tight_layout()\n",
    " \n",
    "ax.set_ylim(0.,15.)\n",
    "#ax.set_xlim(TMIN,TMAX)\n",
    "\n",
    "figname =f\"{pathfigs}/pwvholoM2_allpoints_allnights\"+figtype\n",
    "plt.savefig(figname)\n",
    "plt.show()"
   ]
  },
  {
   "cell_type": "code",
   "execution_count": null,
   "id": "b25d112b-e935-4570-8b3e-158100e154a3",
   "metadata": {
    "execution": {
     "iopub.execute_input": "2025-03-03T16:04:26.018840Z",
     "iopub.status.busy": "2025-03-03T16:04:26.018706Z",
     "iopub.status.idle": "2025-03-03T16:04:26.561043Z",
     "shell.execute_reply": "2025-03-03T16:04:26.560638Z",
     "shell.execute_reply.started": "2025-03-03T16:04:26.018828Z"
    }
   },
   "outputs": [],
   "source": [
    "fig,axs = plt.subplots(1,1,figsize=(14,6),layout='constrained')\n",
    "ax  = axs\n",
    "leg=ax.get_legend()\n",
    "\n",
    "\n",
    "\n",
    "df_m.plot(x=\"mjd\",y=\"TQV\",ax=ax,marker=\".\",c=\"b\",lw=1,ms=1,ls=\"-\",label=\"Merra2\",legend=leg)  \n",
    "df_spec_sel.plot(x=\"ex_mjd\",y=\"PWV [mm]_x\",ax=ax,marker='o',c=\"r\",lw=0.0,grid=True,label=tag,legend=leg)\n",
    "\n",
    "\n",
    "ax.set_ylabel(\"PWV [mm]_x\")\n",
    "ax.set_xlabel(\"date (since January)\")\n",
    "ax.xaxis.set_major_formatter(date_form)\n",
    "ax.set_title(\"Precipitable water vapor measured by holo\",fontweight=\"bold\")\n",
    "ax.legend()\n",
    "\n",
    "#for key, tt in dn.items():\n",
    "#    ax.axvspan(tt[0],tt[1], color='blue', alpha=0.1)\n",
    "\n",
    "#ax.axvspan(TMIN,datetime_WITHCOLLIMATOR, color='yellow', alpha=0.1)\n",
    "\n",
    "plt.tight_layout()\n",
    " \n",
    "ax.set_ylim(0.,15.)\n",
    "#ax.set_xlim(TMIN,TMAX)\n",
    "\n",
    "figname =f\"{pathfigs}/pwvholoM2_allpoints_allnights_mjd\"+figtype\n",
    "plt.savefig(figname)\n",
    "plt.show()"
   ]
  },
  {
   "cell_type": "code",
   "execution_count": null,
   "id": "22093a32-df7a-4177-ad33-e5c1611fe1fb",
   "metadata": {
    "execution": {
     "iopub.execute_input": "2025-03-03T16:04:26.561663Z",
     "iopub.status.busy": "2025-03-03T16:04:26.561530Z",
     "iopub.status.idle": "2025-03-03T16:04:26.564024Z",
     "shell.execute_reply": "2025-03-03T16:04:26.563691Z",
     "shell.execute_reply.started": "2025-03-03T16:04:26.561650Z"
    }
   },
   "outputs": [],
   "source": [
    "all_selected_nights = df_spec_sel[\"nightObs\"].unique()"
   ]
  },
  {
   "cell_type": "code",
   "execution_count": null,
   "id": "9706b6a4-d66b-4a6c-8794-8a147f5113ea",
   "metadata": {
    "execution": {
     "iopub.execute_input": "2025-03-03T16:04:26.564678Z",
     "iopub.status.busy": "2025-03-03T16:04:26.564512Z",
     "iopub.status.idle": "2025-03-03T16:04:26.589736Z",
     "shell.execute_reply": "2025-03-03T16:04:26.589390Z",
     "shell.execute_reply.started": "2025-03-03T16:04:26.564660Z"
    }
   },
   "outputs": [],
   "source": [
    "all_selected_nights "
   ]
  },
  {
   "cell_type": "markdown",
   "id": "0766a319-9fb6-41d2-94cf-0a065cda2b1a",
   "metadata": {},
   "source": [
    "## LombScargle"
   ]
  },
  {
   "cell_type": "code",
   "execution_count": null,
   "id": "63f7e443-0693-4555-a672-7d9803419e2e",
   "metadata": {
    "execution": {
     "iopub.execute_input": "2025-03-03T16:04:26.590232Z",
     "iopub.status.busy": "2025-03-03T16:04:26.590109Z",
     "iopub.status.idle": "2025-03-03T16:04:26.595333Z",
     "shell.execute_reply": "2025-03-03T16:04:26.594973Z",
     "shell.execute_reply.started": "2025-03-03T16:04:26.590220Z"
    }
   },
   "outputs": [],
   "source": [
    "x = df_spec[\"ex_mjd\"].values\n",
    "y = df_spec[\"PWV [mm]_x\"].values"
   ]
  },
  {
   "cell_type": "code",
   "execution_count": null,
   "id": "18beffec-477e-4947-bb57-975d78641d54",
   "metadata": {
    "execution": {
     "iopub.execute_input": "2025-03-03T16:20:29.806696Z",
     "iopub.status.busy": "2025-03-03T16:20:29.806382Z",
     "iopub.status.idle": "2025-03-03T16:20:30.554674Z",
     "shell.execute_reply": "2025-03-03T16:20:30.554333Z",
     "shell.execute_reply.started": "2025-03-03T16:20:29.806679Z"
    }
   },
   "outputs": [],
   "source": [
    "fig,ax = plt.subplots(1,1,figsize = (FIGXSIZE_0,FIGYSIZE_0),layout=\"constrained\")\n",
    "LombScargle_analysis(x,y, ax=ax ,mode= \"logxliny\",\n",
    "                 title = \"LombScargle : PWV residuals\",\n",
    "                 xlabel=\"frequency (days$^{-1}$)\",\n",
    "                 ylabel=\" \",\n",
    "                 label=\"Merra2 PWV\")\n",
    "figname =f\"{pathfigs}/pwv_finalres_LombScargle_merra2\"+figtype\n",
    "fig.savefig(figname)\n",
    "plt.show()"
   ]
  },
  {
   "cell_type": "code",
   "execution_count": null,
   "id": "9e5f182a-7529-470c-af9e-bc43808c47d8",
   "metadata": {},
   "outputs": [],
   "source": []
  }
 ],
 "metadata": {
  "kernelspec": {
   "display_name": "LSST",
   "language": "python",
   "name": "lsst"
  },
  "language_info": {
   "codemirror_mode": {
    "name": "ipython",
    "version": 3
   },
   "file_extension": ".py",
   "mimetype": "text/x-python",
   "name": "python",
   "nbconvert_exporter": "python",
   "pygments_lexer": "ipython3",
   "version": "3.11.9"
  }
 },
 "nbformat": 4,
 "nbformat_minor": 5
}
