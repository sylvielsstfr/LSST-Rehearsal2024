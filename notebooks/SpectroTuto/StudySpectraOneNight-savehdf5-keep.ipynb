{
 "cells": [
  {
   "cell_type": "markdown",
   "id": "45bf4242-bfc5-4d43-88c4-a8059ae148df",
   "metadata": {},
   "source": [
    "# Study spectra from one night\n",
    "\n",
    "- Develop read-write in hdf5 file in this notebook before moving it to libanaspectra.py"
   ]
  },
  {
   "cell_type": "markdown",
   "id": "01993b6e-6438-4fca-a5d5-1f9791336847",
   "metadata": {},
   "source": [
    "- author Sylvie Dagoret-Campagne\n",
    "- affiliation : IJCLab\n",
    "- creation date 2024-11-14 :\n",
    "- last update 2024-11-14 :\n",
    "- Kernel @usdf **w_2024_41*\n",
    "- Office emac : mamba_py311\n",
    "- Home emac : base (conda)\n",
    "- laptop : conda_py310\n",
    "- MUST RUN AT USDF\n",
    "\n",
    "Goal develop saving the hdf5 file and readback"
   ]
  },
  {
   "cell_type": "markdown",
   "id": "0219159d-6865-4311-ac1d-99d11dad223f",
   "metadata": {},
   "source": [
    "**Goal** : Show correlation holo /Merra"
   ]
  },
  {
   "cell_type": "code",
   "execution_count": null,
   "id": "63a2b2ef-0bc2-45eb-91d9-87835d264751",
   "metadata": {
    "execution": {
     "iopub.execute_input": "2024-11-17T12:42:29.489831Z",
     "iopub.status.busy": "2024-11-17T12:42:29.489706Z",
     "iopub.status.idle": "2024-11-17T12:42:29.492137Z",
     "shell.execute_reply": "2024-11-17T12:42:29.491775Z",
     "shell.execute_reply.started": "2024-11-17T12:42:29.489818Z"
    },
    "tags": []
   },
   "outputs": [],
   "source": [
    "from platform import python_version\n",
    "print(python_version())"
   ]
  },
  {
   "cell_type": "code",
   "execution_count": null,
   "id": "dcc53afe-c58f-4948-92c9-0090d373ad2a",
   "metadata": {
    "execution": {
     "iopub.execute_input": "2024-11-17T12:42:29.492687Z",
     "iopub.status.busy": "2024-11-17T12:42:29.492570Z",
     "iopub.status.idle": "2024-11-17T12:42:29.503096Z",
     "shell.execute_reply": "2024-11-17T12:42:29.502772Z",
     "shell.execute_reply.started": "2024-11-17T12:42:29.492675Z"
    }
   },
   "outputs": [],
   "source": [
    "import warnings\n",
    "warnings.resetwarnings()\n",
    "warnings.simplefilter('ignore')"
   ]
  },
  {
   "cell_type": "code",
   "execution_count": null,
   "id": "8026d265-2493-4045-afec-26205ff71f7c",
   "metadata": {
    "execution": {
     "iopub.execute_input": "2024-11-17T12:42:29.503622Z",
     "iopub.status.busy": "2024-11-17T12:42:29.503508Z",
     "iopub.status.idle": "2024-11-17T12:42:29.509078Z",
     "shell.execute_reply": "2024-11-17T12:42:29.508724Z",
     "shell.execute_reply.started": "2024-11-17T12:42:29.503611Z"
    },
    "tags": []
   },
   "outputs": [],
   "source": [
    "from platform import python_version\n",
    "print(python_version())"
   ]
  },
  {
   "cell_type": "code",
   "execution_count": null,
   "id": "eb1f116e-80e3-46ad-a7db-7f253632e5ca",
   "metadata": {
    "execution": {
     "iopub.execute_input": "2024-11-17T12:42:29.510369Z",
     "iopub.status.busy": "2024-11-17T12:42:29.510249Z",
     "iopub.status.idle": "2024-11-17T12:42:29.515409Z",
     "shell.execute_reply": "2024-11-17T12:42:29.515051Z",
     "shell.execute_reply.started": "2024-11-17T12:42:29.510357Z"
    }
   },
   "outputs": [],
   "source": [
    "import os"
   ]
  },
  {
   "cell_type": "markdown",
   "id": "9b7d1780-5d55-420e-bdff-6e2822028032",
   "metadata": {},
   "source": [
    "#### Create output directory for figures and data"
   ]
  },
  {
   "cell_type": "code",
   "execution_count": null,
   "id": "3ec760cd-3d3f-4a34-a6f6-b226fe500951",
   "metadata": {
    "execution": {
     "iopub.execute_input": "2024-11-17T12:42:29.515989Z",
     "iopub.status.busy": "2024-11-17T12:42:29.515874Z",
     "iopub.status.idle": "2024-11-17T12:42:29.521349Z",
     "shell.execute_reply": "2024-11-17T12:42:29.521015Z",
     "shell.execute_reply.started": "2024-11-17T12:42:29.515978Z"
    }
   },
   "outputs": [],
   "source": [
    "# where are stored the figures\n",
    "pathfigs = \"figsStudyNightSpectra\"\n",
    "if not os.path.exists(pathfigs):\n",
    "    os.makedirs(pathfigs) \n",
    "figtype = \".png\""
   ]
  },
  {
   "cell_type": "code",
   "execution_count": null,
   "id": "bb905fbb-b876-478c-a242-8a8b347cf4af",
   "metadata": {
    "execution": {
     "iopub.execute_input": "2024-11-17T12:42:29.521862Z",
     "iopub.status.busy": "2024-11-17T12:42:29.521747Z",
     "iopub.status.idle": "2024-11-17T12:42:29.527845Z",
     "shell.execute_reply": "2024-11-17T12:42:29.527530Z",
     "shell.execute_reply.started": "2024-11-17T12:42:29.521851Z"
    }
   },
   "outputs": [],
   "source": [
    "pathdata = \"dataStudyNightSpectra\"\n",
    "if not os.path.exists(pathdata):\n",
    "    os.makedirs(pathdata) \n",
    "datapath_output = os.path.join(pathdata,\"pernightspectra\") \n",
    "if not os.path.exists(datapath_output):\n",
    "    os.makedirs(datapath_output) "
   ]
  },
  {
   "cell_type": "markdown",
   "id": "b98a1aae-58b3-4135-9e74-7809c35eeba2",
   "metadata": {},
   "source": [
    "#### Imports"
   ]
  },
  {
   "cell_type": "code",
   "execution_count": null,
   "id": "bf752b70-e6ca-4cbf-8e8c-20bf7f0d8f61",
   "metadata": {
    "execution": {
     "iopub.execute_input": "2024-11-17T12:42:29.528339Z",
     "iopub.status.busy": "2024-11-17T12:42:29.528223Z",
     "iopub.status.idle": "2024-11-17T12:42:30.598983Z",
     "shell.execute_reply": "2024-11-17T12:42:30.598557Z",
     "shell.execute_reply.started": "2024-11-17T12:42:29.528328Z"
    }
   },
   "outputs": [],
   "source": [
    "import matplotlib as mpl\n",
    "import matplotlib.pyplot as plt\n",
    "%matplotlib inline\n",
    "from mpl_toolkits.axes_grid1 import make_axes_locatable\n",
    "from matplotlib.colors import LogNorm,SymLogNorm\n",
    "from matplotlib.patches import Circle,Annulus\n",
    "from astropy.visualization import ZScaleInterval\n",
    "props = dict(boxstyle='round', facecolor=\"white\", alpha=0.1)\n",
    "#props = dict(boxstyle='round')\n",
    "\n",
    "import matplotlib.colors as colors\n",
    "import matplotlib.cm as cmx\n",
    "\n",
    "import matplotlib.ticker                         # here's where the formatter is\n",
    "from matplotlib.ticker import (MultipleLocator, FormatStrFormatter,\n",
    "                               AutoMinorLocator)\n",
    "\n",
    "from matplotlib.gridspec import GridSpec\n",
    "\n",
    "from astropy.visualization import (MinMaxInterval, SqrtStretch,ZScaleInterval,PercentileInterval,\n",
    "                                   ImageNormalize,imshow_norm)\n",
    "from astropy.visualization.stretch import SinhStretch, LinearStretch,AsinhStretch,LogStretch\n",
    "\n",
    "import numpy as np\n",
    "from numpy.linalg import inv\n",
    "\n",
    "\n",
    "from astropy.io import fits\n",
    "from astropy.wcs import WCS\n",
    "from astropy import units as u\n",
    "from astropy import constants as c\n",
    "\n",
    "from astropy.coordinates.earth import EarthLocation\n",
    "from datetime import datetime\n",
    "from pytz import timezone\n",
    "\n",
    "import scipy\n",
    "from scipy.optimize import curve_fit,least_squares\n",
    "from scipy.interpolate import RegularGridInterpolator\n",
    "from scipy import interpolate\n",
    "from sklearn.neighbors import NearestNeighbors\n",
    "from sklearn.neighbors import KDTree, BallTree\n",
    "\n",
    "import pandas as pd\n",
    "pd.set_option(\"display.max_columns\", None)\n",
    "pd.set_option('display.max_rows', 100)\n",
    "\n",
    "import matplotlib.ticker                         # here's where the formatter is\n",
    "import os\n",
    "import re\n",
    "import pandas as pd\n",
    "import pickle\n",
    "from collections import OrderedDict\n",
    "\n",
    "plt.rcParams[\"figure.figsize\"] = (4,3)\n",
    "plt.rcParams[\"axes.labelsize\"] = 'xx-large'\n",
    "plt.rcParams['axes.titlesize'] = 'xx-large'\n",
    "plt.rcParams['xtick.labelsize']= 'xx-large'\n",
    "plt.rcParams['ytick.labelsize']= 'xx-large'\n",
    "plt.rcParams['legend.fontsize']=  12\n",
    "plt.rcParams['font.size'] = 12\n",
    "\n",
    "# new color correction model\n",
    "import pickle\n",
    "\n",
    "from tqdm import tqdm"
   ]
  },
  {
   "cell_type": "code",
   "execution_count": null,
   "id": "98268139-19c9-46c3-af3b-42fb49770b26",
   "metadata": {
    "execution": {
     "iopub.execute_input": "2024-11-17T12:42:30.599681Z",
     "iopub.status.busy": "2024-11-17T12:42:30.599430Z",
     "iopub.status.idle": "2024-11-17T12:42:30.605765Z",
     "shell.execute_reply": "2024-11-17T12:42:30.605418Z",
     "shell.execute_reply.started": "2024-11-17T12:42:30.599667Z"
    }
   },
   "outputs": [],
   "source": [
    "from mpl_toolkits.axes_grid1.inset_locator import inset_axes"
   ]
  },
  {
   "cell_type": "code",
   "execution_count": null,
   "id": "0ca0d1e6-5f82-4c43-aaa3-8524fc2bc5ba",
   "metadata": {
    "execution": {
     "iopub.execute_input": "2024-11-17T12:42:30.606305Z",
     "iopub.status.busy": "2024-11-17T12:42:30.606183Z",
     "iopub.status.idle": "2024-11-17T12:42:30.609262Z",
     "shell.execute_reply": "2024-11-17T12:42:30.608903Z",
     "shell.execute_reply.started": "2024-11-17T12:42:30.606293Z"
    }
   },
   "outputs": [],
   "source": [
    "from matplotlib.ticker import (MultipleLocator, FormatStrFormatter,\n",
    "                               AutoMinorLocator)\n",
    "\n",
    "from astropy.visualization import (MinMaxInterval, SqrtStretch,ZScaleInterval,PercentileInterval,\n",
    "                                   ImageNormalize,imshow_norm)\n",
    "from astropy.visualization.stretch import SinhStretch, LinearStretch,AsinhStretch,LogStretch\n",
    "\n",
    "from astropy.time import Time\n"
   ]
  },
  {
   "cell_type": "code",
   "execution_count": null,
   "id": "e189816c-5048-43ab-a01a-7c078af54489",
   "metadata": {
    "execution": {
     "iopub.execute_input": "2024-11-17T12:42:30.609803Z",
     "iopub.status.busy": "2024-11-17T12:42:30.609684Z",
     "iopub.status.idle": "2024-11-17T12:42:30.616157Z",
     "shell.execute_reply": "2024-11-17T12:42:30.615809Z",
     "shell.execute_reply.started": "2024-11-17T12:42:30.609791Z"
    }
   },
   "outputs": [],
   "source": [
    "# Remove to run faster the notebook\n",
    "#import ipywidgets as widgets\n",
    "#%matplotlib widget"
   ]
  },
  {
   "cell_type": "code",
   "execution_count": null,
   "id": "67327fd4-e405-45ce-8923-cd46ebaa0c0f",
   "metadata": {
    "execution": {
     "iopub.execute_input": "2024-11-17T12:42:30.616710Z",
     "iopub.status.busy": "2024-11-17T12:42:30.616592Z",
     "iopub.status.idle": "2024-11-17T12:42:30.621675Z",
     "shell.execute_reply": "2024-11-17T12:42:30.621348Z",
     "shell.execute_reply.started": "2024-11-17T12:42:30.616699Z"
    },
    "tags": []
   },
   "outputs": [],
   "source": [
    "from importlib.metadata import version"
   ]
  },
  {
   "cell_type": "code",
   "execution_count": null,
   "id": "d8bbab49-a26b-4f5e-82c1-800d57fa5294",
   "metadata": {
    "execution": {
     "iopub.execute_input": "2024-11-17T12:42:30.622194Z",
     "iopub.status.busy": "2024-11-17T12:42:30.622067Z",
     "iopub.status.idle": "2024-11-17T12:42:30.627228Z",
     "shell.execute_reply": "2024-11-17T12:42:30.626898Z",
     "shell.execute_reply.started": "2024-11-17T12:42:30.622183Z"
    }
   },
   "outputs": [],
   "source": [
    "import warnings\n",
    "warnings.filterwarnings(\"ignore\")"
   ]
  },
  {
   "cell_type": "code",
   "execution_count": null,
   "id": "9ca2734f-e551-49dd-9e2e-aa00f6c0416e",
   "metadata": {
    "execution": {
     "iopub.execute_input": "2024-11-17T12:42:30.627702Z",
     "iopub.status.busy": "2024-11-17T12:42:30.627592Z",
     "iopub.status.idle": "2024-11-17T12:42:30.632463Z",
     "shell.execute_reply": "2024-11-17T12:42:30.632153Z",
     "shell.execute_reply.started": "2024-11-17T12:42:30.627692Z"
    }
   },
   "outputs": [],
   "source": [
    "# wavelength bin colors\n",
    "#jet = plt.get_cmap('jet')\n",
    "#cNorm = mpl.colors.Normalize(vmin=0, vmax=NSED)\n",
    "#scalarMap = cmx.ScalarMappable(norm=cNorm, cmap=jet)\n",
    "#all_colors = scalarMap.to_rgba(np.arange(NSED), alpha=1)"
   ]
  },
  {
   "cell_type": "code",
   "execution_count": null,
   "id": "fe2bd763-d19f-477b-b13b-5ee2a3244fce",
   "metadata": {
    "execution": {
     "iopub.execute_input": "2024-11-17T12:42:30.632990Z",
     "iopub.status.busy": "2024-11-17T12:42:30.632874Z",
     "iopub.status.idle": "2024-11-17T12:42:31.334462Z",
     "shell.execute_reply": "2024-11-17T12:42:31.333974Z",
     "shell.execute_reply.started": "2024-11-17T12:42:30.632979Z"
    }
   },
   "outputs": [],
   "source": [
    "import spectractor\n",
    "from spectractor.tools import from_lambda_to_colormap, wavelength_to_rgb\n",
    "from spectractor.simulation.throughput import load_transmission,plot_transmission_simple,TelescopeTransmission\n",
    "from spectractor import parameters\n",
    "from spectractor.extractor import dispersers\n",
    "from spectractor.config import load_config,set_logger\n",
    "import os,sys,re"
   ]
  },
  {
   "cell_type": "code",
   "execution_count": null,
   "id": "7e48b5c0-3292-4438-98e0-22109009f033",
   "metadata": {
    "execution": {
     "iopub.execute_input": "2024-11-17T12:42:31.335273Z",
     "iopub.status.busy": "2024-11-17T12:42:31.334963Z",
     "iopub.status.idle": "2024-11-17T12:42:31.433788Z",
     "shell.execute_reply": "2024-11-17T12:42:31.433374Z",
     "shell.execute_reply.started": "2024-11-17T12:42:31.335260Z"
    }
   },
   "outputs": [],
   "source": [
    "import getCalspec.getCalspec as gcal"
   ]
  },
  {
   "cell_type": "markdown",
   "id": "0c04c695-e9c1-4c8b-9dee-194a59f1012c",
   "metadata": {},
   "source": [
    "#### Butler access\n",
    "\n",
    "- these access may change with time\n",
    "- check my collections are found"
   ]
  },
  {
   "cell_type": "code",
   "execution_count": null,
   "id": "5031a87c-0488-4497-9dcd-e363077ccb86",
   "metadata": {
    "execution": {
     "iopub.execute_input": "2024-11-17T12:42:31.434470Z",
     "iopub.status.busy": "2024-11-17T12:42:31.434220Z",
     "iopub.status.idle": "2024-11-17T12:42:31.436647Z",
     "shell.execute_reply": "2024-11-17T12:42:31.436299Z",
     "shell.execute_reply.started": "2024-11-17T12:42:31.434458Z"
    }
   },
   "outputs": [],
   "source": [
    "def get_whereclause(expos_id):\n",
    "    return f\"exposure.id = {expos_id} and instrument = \\'LATISS\\'\""
   ]
  },
  {
   "cell_type": "code",
   "execution_count": null,
   "id": "c7edb7d7-78f7-469f-b235-ae6429f38f90",
   "metadata": {
    "execution": {
     "iopub.execute_input": "2024-11-17T12:42:31.437287Z",
     "iopub.status.busy": "2024-11-17T12:42:31.437160Z",
     "iopub.status.idle": "2024-11-17T12:42:35.036811Z",
     "shell.execute_reply": "2024-11-17T12:42:35.036458Z",
     "shell.execute_reply.started": "2024-11-17T12:42:31.437275Z"
    }
   },
   "outputs": [],
   "source": [
    "from lsst.summit.utils.utils import checkStackSetup\n",
    "checkStackSetup()"
   ]
  },
  {
   "cell_type": "code",
   "execution_count": null,
   "id": "4cd91ced-1a0b-4099-b84e-e447d02f9b79",
   "metadata": {
    "execution": {
     "iopub.execute_input": "2024-11-17T12:42:35.037853Z",
     "iopub.status.busy": "2024-11-17T12:42:35.037240Z",
     "iopub.status.idle": "2024-11-17T12:42:36.314744Z",
     "shell.execute_reply": "2024-11-17T12:42:36.314259Z",
     "shell.execute_reply.started": "2024-11-17T12:42:35.037839Z"
    }
   },
   "outputs": [],
   "source": [
    "# Notice before I had to use these lines to access to butler\n",
    "import lsst.summit.utils.butlerUtils as butlerUtils\n",
    "butler = butlerUtils.makeDefaultLatissButler(embargo=True)\n",
    "\n",
    "# Now I have to use these lines\n",
    "import lsst.daf.butler as dafButler\n",
    "#repo = \"/repo/main\"\n",
    "repo = \"/repo/embargo_old\"\n",
    "\n",
    "\n",
    "butler = dafButler.Butler(repo)\n",
    "registry = butler.registry\n",
    "\n",
    "for c in sorted(registry.queryCollections()):\n",
    "    #if \"u/jneveu\" in c and \"auxtel_atmo\" in c and \"SensorFlat\" in c and \"FixA1\" in c:\n",
    "    if \"u/dagoret\" in c and \"auxtel_atmo\" in c and \"SensorFlat\" in c and \"FixA1\" in c:\n",
    "        print(c)"
   ]
  },
  {
   "cell_type": "markdown",
   "id": "efde2b71-16eb-484b-97f5-52611eb85410",
   "metadata": {},
   "source": [
    "#### Environnement for rubinsimphot\n",
    "- Configure to access to rubinsimphot\n",
    "- Note it is important to have the rubinsimphot path in the python path\n",
    "- check the dm_version repository the newpythonpath "
   ]
  },
  {
   "cell_type": "code",
   "execution_count": null,
   "id": "127cae08-bcb7-4afc-8ca7-10f149b668bc",
   "metadata": {
    "execution": {
     "iopub.execute_input": "2024-11-17T12:42:36.317474Z",
     "iopub.status.busy": "2024-11-17T12:42:36.317337Z",
     "iopub.status.idle": "2024-11-17T12:42:36.321469Z",
     "shell.execute_reply": "2024-11-17T12:42:36.321112Z",
     "shell.execute_reply.started": "2024-11-17T12:42:36.317461Z"
    }
   },
   "outputs": [],
   "source": [
    "dm_version=\"repos_w_2024_41\" \n",
    "machine_name = os.uname().nodename\n",
    "print(machine_name)\n",
    "if 'sdf' in machine_name:\n",
    "    #machine_name_usdf = 'sdfrome001'\n",
    "    #machine_name_notebook platform = 'dagoret-nb'\n",
    "    print(\"Set environement for USDF\")\n",
    "    newpythonpath = os.path.join(os.getenv(\"HOME\"),f\"repos/{dm_version}/rubinsimphot/src\")\n",
    "    sys.path.append(newpythonpath)\n",
    "    newpythonpath = os.path.join(os.getenv(\"HOME\"),\"rubin-user/RubinLSSTPhotometricCorrTuto/notebooks/lib\")\n",
    "    sys.path.append(newpythonpath)   \n",
    "elif \"dagoret-nb\" in machine_name:\n",
    "    print(\"Set environement for Rubin Platform at  USDF\")\n",
    "    newpythonpath = os.path.join(os.getenv(\"HOME\"),f\"repos/{dm_version}/rubinsimphot/src\")\n",
    "    sys.path.append(newpythonpath)\n",
    "    newpythonpath = os.path.join(os.getenv(\"HOME\"),\"rubin-user/RubinLSSTPhotometricCorrTuto/notebooks/lib\")\n",
    "    sys.path.append(newpythonpath)\n",
    "elif 'mac' in machine_name:\n",
    "    print(\"Be sure to run this notebook in conda environnement named conda_py310\")\n",
    "else:\n",
    "    print(\"Your current machine name is {machine_name}. Check your python environment\")"
   ]
  },
  {
   "cell_type": "code",
   "execution_count": null,
   "id": "c9312f5a-a683-47cb-83fb-dddd29ae0872",
   "metadata": {
    "execution": {
     "iopub.execute_input": "2024-11-17T12:42:36.321970Z",
     "iopub.status.busy": "2024-11-17T12:42:36.321853Z",
     "iopub.status.idle": "2024-11-17T12:42:36.353622Z",
     "shell.execute_reply": "2024-11-17T12:42:36.353275Z",
     "shell.execute_reply.started": "2024-11-17T12:42:36.321959Z"
    }
   },
   "outputs": [],
   "source": [
    "from rubinsimphot.phot_utils import Bandpass, Sed\n",
    "from rubinsimphot.data.data_sets import  get_data_dir\n",
    "\n",
    "#README.md        darksky.dat      filter_r.dat     hardware_g.dat   hardware_y.dat   lens3.dat        total_g.dat      total_y.dat\n",
    "#README_SOURCE.md detector.dat     filter_u.dat     hardware_i.dat   hardware_z.dat   m1.dat           total_i.dat      total_z.dat\n",
    "#atmos_10.dat     filter_g.dat     filter_y.dat     hardware_r.dat   lens1.dat        m2.dat           total_r.dat      version_info\n",
    "#atmos_std.dat    filter_i.dat     filter_z.dat     hardware_u.dat   lens2.dat        m3.dat           total_u.dat\n",
    "hardware_filenames = [\"hardware_u.dat\",\"hardware_g.dat\",\"hardware_r.dat\",\"hardware_i.dat\",\"hardware_z.dat\",\"hardware_y.dat\"] \n",
    "filter_filenames = [\"filter_u.dat\",\"filter_g.dat\",\"filter_r.dat\",\"filter_i.dat\",\"filter_z.dat\",\"filter_y.dat\" ]\n",
    "total_filenames = [\"total_u.dat\",\"total_g.dat\",\"total_r.dat\",\"total_i.dat\",\"total_z.dat\",\"total_y.dat\" ]\n",
    "filter_tagnames = [\"u\",\"g\",\"r\",\"i\",\"z\",\"y\"]\n",
    "Filter_tagnames = [\"U\",\"G\",\"R\",\"I\",\"Z\",\"Y\"]\n",
    "filtercolor_tagnames = [\"u-g\",\"g-r\",\"r-i\",\"i-z\",\"z-y\"]\n",
    "Filtercolor_tagnames = [\"U-G\",\"G-R\",\"R-I\",\"I-Y\",\"Z-Y\"]\n",
    "filter_color = [\"b\",\"g\",\"r\",\"orange\",\"grey\",\"k\"]\n",
    "NFILT=len(filter_filenames)\n",
    "\n",
    "WLMIN=300.\n",
    "WLMAX=1100.\n",
    "WLBIN=1.\n",
    "NWLBIN=int((WLMAX-WLMIN)/WLBIN)\n",
    "WL=np.linspace(WLMIN,WLMAX,NWLBIN)"
   ]
  },
  {
   "cell_type": "code",
   "execution_count": null,
   "id": "0e1b36c7-52df-4ef0-97fb-329769bf05a9",
   "metadata": {
    "execution": {
     "iopub.execute_input": "2024-11-17T12:42:36.354192Z",
     "iopub.status.busy": "2024-11-17T12:42:36.354063Z",
     "iopub.status.idle": "2024-11-17T12:42:36.357987Z",
     "shell.execute_reply": "2024-11-17T12:42:36.357644Z",
     "shell.execute_reply.started": "2024-11-17T12:42:36.354181Z"
    }
   },
   "outputs": [],
   "source": [
    "#FILTERWL: precalculated array containing center, boundaries and width of each filter.\n",
    "#index 0 : minimum wavelength of filter border\n",
    "#index 1 : minimum wavelength of filter border\n",
    "#index 2 : center wavelength of filter\n",
    "#index 3 : filter width\n",
    "\n",
    "\n",
    "FILTERWL = np.array([[ 324.03003755,  402.12765957,  363.59690349,   78.09762203],\n",
    "       [ 392.11514393,  561.32665832,  473.54069923,  169.21151439],\n",
    "       [ 542.3028786 ,  700.50062578,  619.49926767,  158.19774718],\n",
    "       [ 681.47684606,  827.65957447,  752.01084117,  146.18272841],\n",
    "       [ 808.63579474,  932.79098874,  868.488419  ,  124.15519399],\n",
    "       [ 914.76846058, 1044.93116395,  969.10570859,  130.16270338]])\n",
    "\n",
    "FILTERWL_auxtel = np.array([[ 352.7 ,  395.9 ,  374.3 ,   43.2 ],\n",
    "                     [ 387.6 ,  566.2 ,  476.9 ,  178.6 ],\n",
    "                     [ 541.4 ,  715.5 ,  628.45,  174.1 ],\n",
    "                     [ 673.3 ,  870.9 ,  772.1 ,  197.6 ],\n",
    "                     [ 805.6 , 1090.7 ,  948.15,  285.1 ]])\n",
    "\n",
    "\n",
    "F0 = 3631.0 # Jy 1, Jy = 10^{-23} erg.cm^{-2}.s^{-1}.Hz^{-1}\n",
    "Jy_to_ergcmm2sm1hzm1 = 1e-23\n",
    "DT = 30.0 # seconds\n",
    "gel = 1.1\n",
    "#hP = 6.62607015E-34 # J⋅Hz−1\n",
    "hP = 6.626196E-27\n",
    "A  = np.pi*642.3**2 # cm2  Reff=6.423 m\n",
    "A_auxtel  = 9636.0 # cm2\n",
    "\n",
    "#ZPT_cont =  2.5 \\log_{10} \\left(\\frac{F_0 A \\Delta T}{g_{el} h} \\right)\n",
    "ZPTconst = 2.5*np.log10(F0*Jy_to_ergcmm2sm1hzm1*A*DT/gel/hP)"
   ]
  },
  {
   "cell_type": "code",
   "execution_count": null,
   "id": "cfa1ffb8-317a-4b76-a38c-851c45cdf91c",
   "metadata": {
    "execution": {
     "iopub.execute_input": "2024-11-17T12:42:36.358487Z",
     "iopub.status.busy": "2024-11-17T12:42:36.358371Z",
     "iopub.status.idle": "2024-11-17T12:42:36.384413Z",
     "shell.execute_reply": "2024-11-17T12:42:36.384038Z",
     "shell.execute_reply.started": "2024-11-17T12:42:36.358476Z"
    }
   },
   "outputs": [],
   "source": [
    "fdir = get_data_dir()\n",
    "bandpass_inst = {}\n",
    "path_rubin_sim_throughput = os.path.join(fdir, 'throughputs', 'baseline')\n",
    "for index,filename in enumerate(hardware_filenames):\n",
    "    fullfilename=os.path.join(path_rubin_sim_throughput,filename)\n",
    "    arr= np.loadtxt(fullfilename)\n",
    "    # interpolate  filter transmission\n",
    "    ff = interpolate.interp1d(x=arr[:,0], y=arr[:,1],fill_value=\"extrapolate\")\n",
    "    fname = filter_tagnames[index]\n",
    "    bandpass_inst[fname] = Bandpass(wavelen=WL,sb=ff(WL))"
   ]
  },
  {
   "cell_type": "code",
   "execution_count": null,
   "id": "102ffdc7-b312-47db-b915-73b640fe4fbe",
   "metadata": {
    "execution": {
     "iopub.execute_input": "2024-11-17T12:42:36.384939Z",
     "iopub.status.busy": "2024-11-17T12:42:36.384823Z",
     "iopub.status.idle": "2024-11-17T12:42:36.505432Z",
     "shell.execute_reply": "2024-11-17T12:42:36.505033Z",
     "shell.execute_reply.started": "2024-11-17T12:42:36.384927Z"
    }
   },
   "outputs": [],
   "source": [
    "%matplotlib inline\n",
    "fig, axs = plt.subplots(1,1,figsize=(6,4))\n",
    "# loop on filter\n",
    "for index,f in enumerate(filter_tagnames):\n",
    "    \n",
    "    axs.plot(WL,bandpass_inst[f].sb,color=filter_color[index]) \n",
    "    axs.fill_between(WL,bandpass_inst[f].sb,color=filter_color[index],alpha=0.2) \n",
    "    axs.axvline(FILTERWL[index,2],color=filter_color[index],linestyle=\"-.\")\n",
    "    \n",
    "axs.set_xlabel(\"$\\\\lambda$ (nm)\")\n",
    "axs.set_title(\"Total Rubin-LSST filter throughput\")\n",
    "plt.show()"
   ]
  },
  {
   "cell_type": "markdown",
   "id": "a92067cc-ffbc-418e-89bb-56e357be9e78",
   "metadata": {},
   "source": [
    "## Access to throughput\n",
    "\n",
    "- Please check the curve used for the Throughput\n",
    "- The version of throughput is defined in ~/rubin-user/holo_atmo_2024-10-16 /processStar.yaml\n",
    "as 'instrumentTransmissionOverride': 'multispectra_holo4_003_HD142331_20230802_348-594_HD146233_AuxTel_v3\n",
    ".1.0_doSensorFlat_FreePressure_BG40ReScaled1.09_throughput.txt'"
   ]
  },
  {
   "cell_type": "code",
   "execution_count": null,
   "id": "ce79f5cd-8fc8-43ff-8633-8e4be180e380",
   "metadata": {
    "execution": {
     "iopub.execute_input": "2024-11-17T12:42:36.506047Z",
     "iopub.status.busy": "2024-11-17T12:42:36.505912Z",
     "iopub.status.idle": "2024-11-17T12:42:36.508748Z",
     "shell.execute_reply": "2024-11-17T12:42:36.508407Z",
     "shell.execute_reply.started": "2024-11-17T12:42:36.506035Z"
    }
   },
   "outputs": [],
   "source": [
    "spectractor_path = spectractor.__path__[0]\n",
    "spectractor_path"
   ]
  },
  {
   "cell_type": "code",
   "execution_count": null,
   "id": "2dda197c-bb72-495c-a5ef-1b07e9f91157",
   "metadata": {
    "execution": {
     "iopub.execute_input": "2024-11-17T12:42:36.509307Z",
     "iopub.status.busy": "2024-11-17T12:42:36.509182Z",
     "iopub.status.idle": "2024-11-17T12:42:36.515175Z",
     "shell.execute_reply": "2024-11-17T12:42:36.514677Z",
     "shell.execute_reply.started": "2024-11-17T12:42:36.509295Z"
    }
   },
   "outputs": [],
   "source": [
    "#config_path = \"~/repos/repos_w_2023_44/Spectractor/config/auxtel.ini\"\n",
    "config_path = f\"/home/d/dagoret/repos/repos_w_2024_41/Spectractor/config/auxtel.ini\"\n",
    "config_fullpath = os.path.join(spectractor.__path__[0],\"../config/auxtel.ini\")\n",
    "throughput_path = \"/home/d/dagoret/repos/repos_w_2024_41/Spectractor/spectractor/simulation/AuxTelThroughput\"\n",
    "#throughput_filename=\"multispectra_holo4_003_HD142331_20230802_AuxTel_doGainsPTC_v3.0.3_throughput.txt\"\n",
    "throughput_filename=\"multispectra_holo4_003_HD142331_20230802_348-594_HD146233_AuxTel_v3.1.0_doSensorFlat_FreePressure_BG40ReScaled1.09_throughput.txt\""
   ]
  },
  {
   "cell_type": "code",
   "execution_count": null,
   "id": "68e1cf22-4806-4d3e-8eb9-df60a649eea2",
   "metadata": {
    "execution": {
     "iopub.execute_input": "2024-11-17T12:42:36.515870Z",
     "iopub.status.busy": "2024-11-17T12:42:36.515718Z",
     "iopub.status.idle": "2024-11-17T12:42:36.522803Z",
     "shell.execute_reply": "2024-11-17T12:42:36.522460Z",
     "shell.execute_reply.started": "2024-11-17T12:42:36.515856Z"
    }
   },
   "outputs": [],
   "source": [
    "throughput_fullfilename = os.path.join(throughput_path,throughput_filename)"
   ]
  },
  {
   "cell_type": "code",
   "execution_count": null,
   "id": "009c81e6-7010-48d7-bd00-cb60bc41ec21",
   "metadata": {
    "execution": {
     "iopub.execute_input": "2024-11-17T12:42:36.523356Z",
     "iopub.status.busy": "2024-11-17T12:42:36.523235Z",
     "iopub.status.idle": "2024-11-17T12:42:36.530271Z",
     "shell.execute_reply": "2024-11-17T12:42:36.529905Z",
     "shell.execute_reply.started": "2024-11-17T12:42:36.523345Z"
    }
   },
   "outputs": [],
   "source": [
    "#tel_lambdas, tel_thr, tel_errthr = load_transmission(throughput_fullfilename) \n",
    "tel_arr = np.loadtxt(throughput_fullfilename)\n",
    "tel_lambdas = tel_arr[:,0] \n",
    "tel_thr = tel_arr[:,1]\n",
    "tel_errthr = tel_arr[:,2]\n",
    "\n",
    "class Telescope():\n",
    "    tel_lambdas = tel_lambdas \n",
    "    tel_thr  = tel_thr \n",
    "    tel_errthr = tel_errthr \n",
    "    func = interpolate.interp1d(tel_lambdas, tel_thr, kind='linear',  bounds_error=False, fill_value=0, \n",
    "                                    assume_sorted=False)\n",
    "    @classmethod\n",
    "    def transmission(cls, wls):\n",
    "        return  cls.func(wls)         "
   ]
  },
  {
   "cell_type": "code",
   "execution_count": null,
   "id": "109c5511-2c9b-43a6-88d6-1bf2477e09ae",
   "metadata": {
    "execution": {
     "iopub.execute_input": "2024-11-17T12:42:36.530748Z",
     "iopub.status.busy": "2024-11-17T12:42:36.530632Z",
     "iopub.status.idle": "2024-11-17T12:42:36.606782Z",
     "shell.execute_reply": "2024-11-17T12:42:36.606426Z",
     "shell.execute_reply.started": "2024-11-17T12:42:36.530737Z"
    }
   },
   "outputs": [],
   "source": [
    "%matplotlib inline\n",
    "fig = plt.figure(figsize=(8,4))\n",
    "ax = fig.add_subplot()\n",
    "ax.plot(tel_lambdas,tel_thr,'r-') \n",
    "ax.fill_between(tel_lambdas, y1=tel_thr-tel_errthr , y2=tel_thr+tel_errthr,facecolor=\"grey\")\n",
    "ax.set_xlabel(\"$\\lambda$ (nm)\")\n",
    "ax.set_ylabel(\"Throughput\")\n",
    "ax.set_title(\"Auxtel Telescope throughput\")\n",
    "plt.show()"
   ]
  },
  {
   "cell_type": "code",
   "execution_count": null,
   "id": "493ef7b6-c63e-47eb-a344-ad3c8ccfa221",
   "metadata": {
    "execution": {
     "iopub.execute_input": "2024-11-17T12:42:36.607351Z",
     "iopub.status.busy": "2024-11-17T12:42:36.607224Z",
     "iopub.status.idle": "2024-11-17T12:42:36.657417Z",
     "shell.execute_reply": "2024-11-17T12:42:36.657067Z",
     "shell.execute_reply.started": "2024-11-17T12:42:36.607339Z"
    }
   },
   "outputs": [],
   "source": [
    "plt.plot(WL,Telescope.transmission(WL))"
   ]
  },
  {
   "cell_type": "markdown",
   "id": "2268563d-9b11-4761-82ea-70c8dcc83762",
   "metadata": {},
   "source": [
    "#### Hologram throughput"
   ]
  },
  {
   "cell_type": "code",
   "execution_count": null,
   "id": "24934209-deae-4b00-89f5-254844b56682",
   "metadata": {
    "execution": {
     "iopub.execute_input": "2024-11-17T12:42:36.657927Z",
     "iopub.status.busy": "2024-11-17T12:42:36.657808Z",
     "iopub.status.idle": "2024-11-17T12:42:36.659831Z",
     "shell.execute_reply": "2024-11-17T12:42:36.659506Z",
     "shell.execute_reply.started": "2024-11-17T12:42:36.657916Z"
    }
   },
   "outputs": [],
   "source": [
    "holo_fullfilename  =\"/home/d/dagoret/repos/repos_w_2024_41/Spectractor/spectractor/extractor/dispersers/holo4_003/transmission.txt\""
   ]
  },
  {
   "cell_type": "code",
   "execution_count": null,
   "id": "1018d159-e619-4891-a46f-6b6d7b04356a",
   "metadata": {
    "execution": {
     "iopub.execute_input": "2024-11-17T12:42:36.660350Z",
     "iopub.status.busy": "2024-11-17T12:42:36.660236Z",
     "iopub.status.idle": "2024-11-17T12:42:36.666791Z",
     "shell.execute_reply": "2024-11-17T12:42:36.666446Z",
     "shell.execute_reply.started": "2024-11-17T12:42:36.660339Z"
    }
   },
   "outputs": [],
   "source": [
    "holo_arr = np.loadtxt(holo_fullfilename)\n",
    "holo_lambdas = holo_arr[:,0] \n",
    "holo_thr = holo_arr[:,1]\n",
    "holo_errthr = holo_arr[:,2]\n",
    "\n",
    "class Disp():\n",
    "    holo_lambdas = holo_lambdas \n",
    "    holo_thr  = holo_thr \n",
    "    holo_errthr = holo_errthr \n",
    "    func = interpolate.interp1d(holo_lambdas, holo_thr, kind='linear',  bounds_error=False, fill_value=0, \n",
    "                                    assume_sorted=False)\n",
    "    @classmethod\n",
    "    def transmission(cls, wls):\n",
    "        return  cls.func(wls)       "
   ]
  },
  {
   "cell_type": "code",
   "execution_count": null,
   "id": "58d7f59c-e76d-4c24-b023-c7da80fe0632",
   "metadata": {
    "execution": {
     "iopub.execute_input": "2024-11-17T12:42:36.667334Z",
     "iopub.status.busy": "2024-11-17T12:42:36.667215Z",
     "iopub.status.idle": "2024-11-17T12:42:36.741412Z",
     "shell.execute_reply": "2024-11-17T12:42:36.741067Z",
     "shell.execute_reply.started": "2024-11-17T12:42:36.667323Z"
    }
   },
   "outputs": [],
   "source": [
    "%matplotlib inline\n",
    "fig = plt.figure(figsize=(8,4))\n",
    "ax = fig.add_subplot()\n",
    "ax.plot(holo_lambdas,holo_thr,'r-') \n",
    "ax.fill_between(holo_lambdas, y1=holo_thr-holo_errthr , y2=holo_thr+holo_errthr,facecolor=\"grey\")\n",
    "ax.set_xlabel(\"$\\lambda$ (nm)\")\n",
    "ax.set_ylabel(\"Transmission\")\n",
    "ax.set_title(\"Hologram transmission\")\n",
    "plt.show()"
   ]
  },
  {
   "cell_type": "code",
   "execution_count": null,
   "id": "d8654084-6f53-4347-8a5f-b7fc5bb43052",
   "metadata": {
    "execution": {
     "iopub.execute_input": "2024-11-17T12:42:36.741920Z",
     "iopub.status.busy": "2024-11-17T12:42:36.741802Z",
     "iopub.status.idle": "2024-11-17T12:42:36.791138Z",
     "shell.execute_reply": "2024-11-17T12:42:36.790742Z",
     "shell.execute_reply.started": "2024-11-17T12:42:36.741909Z"
    }
   },
   "outputs": [],
   "source": [
    "plt.plot(WL,Disp.transmission(WL))"
   ]
  },
  {
   "cell_type": "markdown",
   "id": "357863bb-a7a4-4dce-9fc7-a901ae6ff34d",
   "metadata": {
    "execution": {
     "iopub.execute_input": "2024-11-13T10:34:05.736273Z",
     "iopub.status.busy": "2024-11-13T10:34:05.736142Z",
     "iopub.status.idle": "2024-11-13T10:34:05.968740Z",
     "shell.execute_reply": "2024-11-13T10:34:05.968057Z",
     "shell.execute_reply.started": "2024-11-13T10:34:05.736259Z"
    }
   },
   "source": [
    "### Load my stuff"
   ]
  },
  {
   "cell_type": "code",
   "execution_count": null,
   "id": "8e1afb4c-cca5-431b-a78f-779a96383265",
   "metadata": {
    "execution": {
     "iopub.execute_input": "2024-11-17T12:42:36.791701Z",
     "iopub.status.busy": "2024-11-17T12:42:36.791580Z",
     "iopub.status.idle": "2024-11-17T12:42:37.044358Z",
     "shell.execute_reply": "2024-11-17T12:42:37.043906Z",
     "shell.execute_reply.started": "2024-11-17T12:42:36.791690Z"
    }
   },
   "outputs": [],
   "source": [
    "sys.path.append(\"../lib\")\n",
    "from libauxtelspectra import *\n",
    "from libanaspectra import *\n",
    "from config_spectractor import *"
   ]
  },
  {
   "cell_type": "code",
   "execution_count": null,
   "id": "69c2484e-2728-465f-97a3-dfdccf8df91c",
   "metadata": {
    "execution": {
     "iopub.execute_input": "2024-11-17T12:42:37.044988Z",
     "iopub.status.busy": "2024-11-17T12:42:37.044846Z",
     "iopub.status.idle": "2024-11-17T12:42:37.046950Z",
     "shell.execute_reply": "2024-11-17T12:42:37.046611Z",
     "shell.execute_reply.started": "2024-11-17T12:42:37.044975Z"
    }
   },
   "outputs": [],
   "source": [
    "#config_fullpath = os.path.join(spectractor.__path__[0],\"../config/auxtel.ini\")\n",
    "#load_config_local(config_fullpath)"
   ]
  },
  {
   "cell_type": "code",
   "execution_count": null,
   "id": "db6282ae-b8e1-4d6f-a4c8-f60b6ac9c6a1",
   "metadata": {
    "execution": {
     "iopub.execute_input": "2024-11-17T12:42:37.047468Z",
     "iopub.status.busy": "2024-11-17T12:42:37.047350Z",
     "iopub.status.idle": "2024-11-17T12:42:37.054330Z",
     "shell.execute_reply": "2024-11-17T12:42:37.054004Z",
     "shell.execute_reply.started": "2024-11-17T12:42:37.047457Z"
    }
   },
   "outputs": [],
   "source": [
    "parameters.OBS_NAME"
   ]
  },
  {
   "cell_type": "markdown",
   "id": "2235372c-8b77-4bb6-bff6-e472157d24bd",
   "metadata": {},
   "source": [
    "## Access to spectra\n",
    "\n",
    "- But here we don't want to get all spectra. We fetch the sepected ones later"
   ]
  },
  {
   "cell_type": "code",
   "execution_count": null,
   "id": "5dca832b-2573-4545-a5bb-7f19669ea376",
   "metadata": {
    "execution": {
     "iopub.execute_input": "2024-11-17T12:42:37.054886Z",
     "iopub.status.busy": "2024-11-17T12:42:37.054735Z",
     "iopub.status.idle": "2024-11-17T12:42:37.164933Z",
     "shell.execute_reply": "2024-11-17T12:42:37.164566Z",
     "shell.execute_reply.started": "2024-11-17T12:42:37.054840Z"
    }
   },
   "outputs": [],
   "source": [
    "# my run 2024-09-24\n",
    "#my_collection = ['u/dagoret/auxtel_atmosphere_202301_v3.1.0_doSensorFlat_rebin2_lockedOrder2_FixA1_FixA2_FitAngstrom_WithGaia_freePressure_newThroughput6_BG40Scaled1.09_AtmoFitPressureA2_SpecErr_PeekFinder/20240924T161119Z']\n",
    "# my run 2024-10-16\n",
    "my_collection = ['u/dagoret/auxtel_atmosphere_202209_v3.1.0_doSensorFlat_rebin2_lockedOrder2_FixA1_FixA2_FitAngstrom_WithGaia_freePressure_newThroughput6_BG40Scaled1.09_AtmoFitPressureA2_SpecErr_No5SigmaClip/20241016T184601Z']\n",
    "datasetRefs = registry.queryDatasets(datasetType='spectractorSpectrum', collections=my_collection, where= \"instrument='LATISS'\")"
   ]
  },
  {
   "cell_type": "code",
   "execution_count": null,
   "id": "9a0495b3-0b26-43a7-8161-1615d2234e68",
   "metadata": {
    "execution": {
     "iopub.execute_input": "2024-11-17T12:42:37.165506Z",
     "iopub.status.busy": "2024-11-17T12:42:37.165379Z",
     "iopub.status.idle": "2024-11-17T12:42:37.564060Z",
     "shell.execute_reply": "2024-11-17T12:42:37.563586Z",
     "shell.execute_reply.started": "2024-11-17T12:42:37.165495Z"
    }
   },
   "outputs": [],
   "source": [
    "where = \"instrument='LATISS'\" \n",
    "records = list(butler.registry.queryDimensionRecords('visit', datasets='spectractorSpectrum', where=where,  collections=my_collection))\n",
    "\n",
    "refs = list(set(butler.registry.queryDatasets('spectractorSpectrum',  where=where,  collections=my_collection)))\n",
    "# records = list(butler.registry.queryDimensionRecords('visit', datasets='raw', where=where))"
   ]
  },
  {
   "cell_type": "code",
   "execution_count": null,
   "id": "41e2d12a-67fe-40b9-9d63-d26432b62851",
   "metadata": {
    "execution": {
     "iopub.execute_input": "2024-11-17T12:42:37.564707Z",
     "iopub.status.busy": "2024-11-17T12:42:37.564571Z",
     "iopub.status.idle": "2024-11-17T12:42:37.568662Z",
     "shell.execute_reply": "2024-11-17T12:42:37.568313Z",
     "shell.execute_reply.started": "2024-11-17T12:42:37.564694Z"
    }
   },
   "outputs": [],
   "source": [
    "print(len(records))\n",
    "records[0]"
   ]
  },
  {
   "cell_type": "code",
   "execution_count": null,
   "id": "8c04fd1a-15e5-41a7-bdb2-7644008e0a30",
   "metadata": {
    "execution": {
     "iopub.execute_input": "2024-11-17T12:42:37.569249Z",
     "iopub.status.busy": "2024-11-17T12:42:37.569124Z",
     "iopub.status.idle": "2024-11-17T12:42:37.577017Z",
     "shell.execute_reply": "2024-11-17T12:42:37.576667Z",
     "shell.execute_reply.started": "2024-11-17T12:42:37.569237Z"
    }
   },
   "outputs": [],
   "source": [
    "def GetListOfSpectra(butler,list_of_visits,the_collection):\n",
    "    \"\"\"\n",
    "    Retrieve a list of Spectra:\n",
    "    Parameters:\n",
    "      butler : the butler\n",
    "      list_of_visits : the list of visit id\n",
    "      collection : the collection\n",
    "\n",
    "    Returns:\n",
    "     all_params_spectrum = []\n",
    "     all_params_spectrogram = []\n",
    "     all_visitid = []\n",
    "     all_headers = []\n",
    "     all_spectra = []\n",
    "    \"\"\"\n",
    "\n",
    "\n",
    "    # container contining the data\n",
    "    all_params_spectrum = []\n",
    "    all_params_spectrogram = []\n",
    "    all_visitid = []\n",
    "    all_headers = []\n",
    "    all_spectra = []\n",
    "\n",
    "    # loop on visits\n",
    "    for idx, visitid in enumerate(list_of_visits):\n",
    "        try:         \n",
    "            spec =  butler.get('spectractorSpectrum', visit=visitid, collections=the_collection, detector=0, instrument='LATISS')\n",
    "            all_headers.append(spec.header)\n",
    "            all_spectra.append(spec)\n",
    "            p = butler.get('spectrumLibradtranFitParameters', visit=visitid, collections=the_collection, detector=0, instrument='LATISS')\n",
    "            all_params_spectrum.append(p)\n",
    "            p = butler.get('spectrogramLibradtranFitParameters', visit=visitid, collections=the_collection, detector=0, instrument='LATISS')\n",
    "            all_params_spectrogram.append(p)\n",
    "            all_visitid.append(visitid)\n",
    "        #except ValueError:\n",
    "        except Exception as inst:\n",
    "            except_type = type(inst)\n",
    "            except_args = inst.args\n",
    "            print(\"catch exception \", inst, \"type =\",except_type, \"args = \",except_args) \n",
    "            print(\"\\t >>>>> Skip visitid \", visitid)\n",
    "            continue\n",
    "    return all_visitid, all_headers, all_params_spectrum , all_params_spectrogram, all_spectra\n",
    "    \n"
   ]
  },
  {
   "cell_type": "markdown",
   "id": "a6cae4e0-b037-4abe-82fa-24e5ba3b7a79",
   "metadata": {},
   "source": [
    "## Functions"
   ]
  },
  {
   "cell_type": "code",
   "execution_count": null,
   "id": "1003d9d6-a40f-48b1-9ffc-bfab9f45ba93",
   "metadata": {
    "execution": {
     "iopub.execute_input": "2024-11-17T12:42:37.577582Z",
     "iopub.status.busy": "2024-11-17T12:42:37.577460Z",
     "iopub.status.idle": "2024-11-17T12:42:37.583643Z",
     "shell.execute_reply": "2024-11-17T12:42:37.583242Z",
     "shell.execute_reply.started": "2024-11-17T12:42:37.577570Z"
    }
   },
   "outputs": [],
   "source": [
    "np.__version__"
   ]
  },
  {
   "cell_type": "code",
   "execution_count": null,
   "id": "c4cb2652-cb22-432e-b110-ae71d59dc793",
   "metadata": {
    "execution": {
     "iopub.execute_input": "2024-11-17T12:42:37.584188Z",
     "iopub.status.busy": "2024-11-17T12:42:37.584061Z",
     "iopub.status.idle": "2024-11-17T12:42:37.589429Z",
     "shell.execute_reply": "2024-11-17T12:42:37.589102Z",
     "shell.execute_reply.started": "2024-11-17T12:42:37.584176Z"
    }
   },
   "outputs": [],
   "source": [
    "pd.__version__"
   ]
  },
  {
   "cell_type": "code",
   "execution_count": null,
   "id": "ad03dc3d-6741-4478-82ba-1d5447529d9a",
   "metadata": {
    "execution": {
     "iopub.execute_input": "2024-11-17T12:42:37.589912Z",
     "iopub.status.busy": "2024-11-17T12:42:37.589796Z",
     "iopub.status.idle": "2024-11-17T12:42:37.595442Z",
     "shell.execute_reply": "2024-11-17T12:42:37.595108Z",
     "shell.execute_reply.started": "2024-11-17T12:42:37.589900Z"
    }
   },
   "outputs": [],
   "source": [
    "def convertNumToDatestr(num):\n",
    "    year = num//10_000\n",
    "    month= (num-year*10_000)//100\n",
    "    day = (num-year*10_000-month*100)\n",
    "\n",
    "    year_str = str(year).zfill(4)\n",
    "    month_str = str(month).zfill(2)\n",
    "    day_str = str(day).zfill(2)\n",
    "    \n",
    "    datestr = f\"{year_str}-{month_str}-{day_str}\"\n",
    "    return pd.to_datetime(datestr)"
   ]
  },
  {
   "cell_type": "markdown",
   "id": "4f13d6a3-7793-4bc0-920a-1d690d9f84b2",
   "metadata": {},
   "source": [
    "## Configuration"
   ]
  },
  {
   "cell_type": "code",
   "execution_count": null,
   "id": "c8cb2e48-0b34-4cbf-8379-43f7065112f7",
   "metadata": {
    "execution": {
     "iopub.execute_input": "2024-11-17T12:42:37.595972Z",
     "iopub.status.busy": "2024-11-17T12:42:37.595852Z",
     "iopub.status.idle": "2024-11-17T12:42:37.752729Z",
     "shell.execute_reply": "2024-11-17T12:42:37.752319Z",
     "shell.execute_reply.started": "2024-11-17T12:42:37.595960Z"
    }
   },
   "outputs": [],
   "source": [
    "observing_location = EarthLocation.of_site('Rubin Observatory')\n",
    "tz = timezone('America/Santiago')"
   ]
  },
  {
   "cell_type": "markdown",
   "id": "b884e71c-39cb-43e1-9edf-4a2cade9196e",
   "metadata": {},
   "source": [
    "### Spectro Hologram data"
   ]
  },
  {
   "cell_type": "code",
   "execution_count": null,
   "id": "a6d313e9-1621-40fb-a7d8-6d01522c7485",
   "metadata": {
    "execution": {
     "iopub.execute_input": "2024-11-17T12:42:37.753313Z",
     "iopub.status.busy": "2024-11-17T12:42:37.753186Z",
     "iopub.status.idle": "2024-11-17T12:42:37.756696Z",
     "shell.execute_reply": "2024-11-17T12:42:37.756371Z",
     "shell.execute_reply.started": "2024-11-17T12:42:37.753301Z"
    }
   },
   "outputs": [],
   "source": [
    "FLAG_WITHCOLLIMATOR = True\n",
    "DATE_WITHCOLLIMATOR = 20230930\n",
    "datetime_WITHCOLLIMATOR = convertNumToDatestr(DATE_WITHCOLLIMATOR)\n",
    "datetime_WITHCOLLIMATOR = pd.to_datetime(\"2023-09-30 00:00:00.0+0000\")\n",
    "datetime_WITHCOLLIMATOR"
   ]
  },
  {
   "cell_type": "code",
   "execution_count": null,
   "id": "5bac0cab-3886-4683-b1c8-fc59edacfd46",
   "metadata": {
    "execution": {
     "iopub.execute_input": "2024-11-17T12:42:37.757237Z",
     "iopub.status.busy": "2024-11-17T12:42:37.757121Z",
     "iopub.status.idle": "2024-11-17T12:42:37.762619Z",
     "shell.execute_reply": "2024-11-17T12:42:37.762299Z",
     "shell.execute_reply.started": "2024-11-17T12:42:37.757225Z"
    },
    "tags": []
   },
   "outputs": [],
   "source": [
    "version_results = \"v5\"\n",
    "legendtag = {\"v1\" : \"old v3.1.0\",\n",
    "            \"v2\" : \"v3.1.0-PWV<10mm\",\n",
    "            \"v3\" : \"v3.1.0-PWV<15mm\",\n",
    "            \"v4\" : \"Auxtel holo v3.1.0\",\n",
    "            \"v5\" : \"Auxtel holo v3.1.0 09/22 - 10/24\"}"
   ]
  },
  {
   "cell_type": "code",
   "execution_count": null,
   "id": "99436fe6-ad07-4796-b982-7dd89f554f0c",
   "metadata": {
    "execution": {
     "iopub.execute_input": "2024-11-17T12:42:37.763212Z",
     "iopub.status.busy": "2024-11-17T12:42:37.763091Z",
     "iopub.status.idle": "2024-11-17T12:42:37.768369Z",
     "shell.execute_reply": "2024-11-17T12:42:37.768044Z",
     "shell.execute_reply.started": "2024-11-17T12:42:37.763201Z"
    },
    "tags": []
   },
   "outputs": [],
   "source": [
    "atmfilenamesdict = {\"v1\" : \"data/spectro/auxtel_atmosphere_202301_v3.1.0_doSensorFlat_rebin2_testWithMaskedEdges_newBoundaries_newPolysRescaled_newFitBounds_adjustA1_lockedOrder2_removeThroughputTails_2.npy\",\n",
    "                    \"v2\" : \"auxtel_atmosphere_202301_v3.1.0_doSensorFlat_rebin2_lockedOrder2_FixA1_FixA2_FitAngstrom_FixA1_FixA2_FitAngstrom_WithGaia_freePressure_newThroughput6_BG40Scaled1.09_PeekFinder.npy\",\n",
    "                    \"v3\" : \"u_dagoret_auxtel_atmosphere_202301_v3.1.0_doSensorFlat_rebin2_lockedOrder2_FixA1_FixA2_FitAngstrom_WithGaia_freePressure_newThroughput6_BG40Scaled1.09_AtmoFitPressureA2_SpecErr_PeekFinder_20240924T161119Z.npy\",\n",
    "                    \"v4\" : \"u_dagoret_auxtel_atmosphere_202301_v3.1.0_doSensorFlat_rebin2_lockedOrder2_FixA1_FixA2_FitAngstrom_WithGaia_freePressure_newThroughput6_BG40Scaled1.09_AtmoFitPressureA2_SpecErr_PeekFinder_20240924T161119Z_spectrfullextend.npy\",\n",
    "                    \"v5\" : \"u_dagoret_auxtel_atmosphere_202209_v3.1.0_doSensorFlat_rebin2_lockedOrder2_FixA1_FixA2_FitAngstrom_WithGaia_freePressure_newThroughput6_BG40Scaled1.09_AtmoFitPressureA2_SpecErr_No5SigmaClip_20241016T184601Z_spectrfullextended.npy\"}"
   ]
  },
  {
   "cell_type": "code",
   "execution_count": null,
   "id": "f5ee7d08-244a-462a-b9fc-ff5cd4d3e801",
   "metadata": {
    "execution": {
     "iopub.execute_input": "2024-11-17T12:42:37.768937Z",
     "iopub.status.busy": "2024-11-17T12:42:37.768827Z",
     "iopub.status.idle": "2024-11-17T12:42:37.774117Z",
     "shell.execute_reply": "2024-11-17T12:42:37.773813Z",
     "shell.execute_reply.started": "2024-11-17T12:42:37.768926Z"
    },
    "tags": []
   },
   "outputs": [],
   "source": [
    "atmfilename = atmfilenamesdict[version_results]\n",
    "tag = legendtag[version_results] "
   ]
  },
  {
   "cell_type": "markdown",
   "id": "a30a15de-34f1-4f2b-afb9-52143c1cff27",
   "metadata": {},
   "source": [
    "## Initialisation"
   ]
  },
  {
   "cell_type": "markdown",
   "id": "4053343d-8e37-4402-b49f-c28dbb9e4afb",
   "metadata": {},
   "source": [
    "### Read the file"
   ]
  },
  {
   "cell_type": "code",
   "execution_count": null,
   "id": "ad60336b-f26f-4184-bcdf-e596329ecbbd",
   "metadata": {
    "execution": {
     "iopub.execute_input": "2024-11-17T12:42:37.774618Z",
     "iopub.status.busy": "2024-11-17T12:42:37.774508Z",
     "iopub.status.idle": "2024-11-17T12:42:37.875721Z",
     "shell.execute_reply": "2024-11-17T12:42:37.875268Z",
     "shell.execute_reply.started": "2024-11-17T12:42:37.774607Z"
    }
   },
   "outputs": [],
   "source": [
    "specdata = np.load(atmfilename,allow_pickle=True)"
   ]
  },
  {
   "cell_type": "code",
   "execution_count": null,
   "id": "3d9c7249-f818-4a98-8000-9be75b3c7a21",
   "metadata": {
    "execution": {
     "iopub.execute_input": "2024-11-17T12:42:37.876352Z",
     "iopub.status.busy": "2024-11-17T12:42:37.876222Z",
     "iopub.status.idle": "2024-11-17T12:42:37.891559Z",
     "shell.execute_reply": "2024-11-17T12:42:37.891120Z",
     "shell.execute_reply.started": "2024-11-17T12:42:37.876339Z"
    }
   },
   "outputs": [],
   "source": [
    "df_spec = pd.DataFrame(specdata)"
   ]
  },
  {
   "cell_type": "code",
   "execution_count": null,
   "id": "a19b591a-d479-4507-b241-81070420c847",
   "metadata": {
    "execution": {
     "iopub.execute_input": "2024-11-17T12:42:37.892256Z",
     "iopub.status.busy": "2024-11-17T12:42:37.892122Z",
     "iopub.status.idle": "2024-11-17T12:42:37.895873Z",
     "shell.execute_reply": "2024-11-17T12:42:37.895547Z",
     "shell.execute_reply.started": "2024-11-17T12:42:37.892244Z"
    },
    "tags": []
   },
   "outputs": [],
   "source": [
    "list(df_spec.columns)"
   ]
  },
  {
   "cell_type": "markdown",
   "id": "68aab053-d9d5-4a93-98b2-5bb49b65fdd8",
   "metadata": {},
   "source": [
    "### Remove spectra with red filter"
   ]
  },
  {
   "cell_type": "code",
   "execution_count": null,
   "id": "53487c66-88fc-4c63-9296-e3ab009bc34a",
   "metadata": {
    "execution": {
     "iopub.execute_input": "2024-11-17T12:42:37.896385Z",
     "iopub.status.busy": "2024-11-17T12:42:37.896260Z",
     "iopub.status.idle": "2024-11-17T12:42:37.902110Z",
     "shell.execute_reply": "2024-11-17T12:42:37.901792Z",
     "shell.execute_reply.started": "2024-11-17T12:42:37.896372Z"
    }
   },
   "outputs": [],
   "source": [
    "df_spec['FILTER'].unique()"
   ]
  },
  {
   "cell_type": "code",
   "execution_count": null,
   "id": "952da4c8-0f60-47e7-82fe-20bb46499680",
   "metadata": {
    "execution": {
     "iopub.execute_input": "2024-11-17T12:42:37.902587Z",
     "iopub.status.busy": "2024-11-17T12:42:37.902475Z",
     "iopub.status.idle": "2024-11-17T12:42:37.912154Z",
     "shell.execute_reply": "2024-11-17T12:42:37.911710Z",
     "shell.execute_reply.started": "2024-11-17T12:42:37.902577Z"
    }
   },
   "outputs": [],
   "source": [
    "FLAG_REMOVE_FILTERS = True\n",
    "if FLAG_REMOVE_FILTERS:\n",
    "    df_spec=df_spec[df_spec[\"FILTER\"] == 'empty']\n",
    "    df_spec.reset_index(inplace=True)  "
   ]
  },
  {
   "cell_type": "markdown",
   "id": "a81b1aa2-7edc-4a24-9c44-c24c3826c18f",
   "metadata": {
    "tags": []
   },
   "source": [
    "### Define if a target is faint or bright"
   ]
  },
  {
   "cell_type": "code",
   "execution_count": null,
   "id": "412e59e0-f026-42d0-b6e1-7e5185c7e9dd",
   "metadata": {
    "execution": {
     "iopub.execute_input": "2024-11-17T12:42:37.912797Z",
     "iopub.status.busy": "2024-11-17T12:42:37.912651Z",
     "iopub.status.idle": "2024-11-17T12:42:37.917237Z",
     "shell.execute_reply": "2024-11-17T12:42:37.916863Z",
     "shell.execute_reply.started": "2024-11-17T12:42:37.912783Z"
    },
    "tags": []
   },
   "outputs": [],
   "source": [
    "def IsFaint(row):\n",
    "    List_Of_Faint_targets = ['Feige110','HD074000','HD115169','HD031128','HD200654','HD167060','HD009051','HD142331','HD160617','HD111980']\n",
    "    List_Of_faint_selected = List_Of_Faint_targets[:10]\n",
    "    if row[\"TARGET\"] in List_Of_faint_selected:\n",
    "        return True\n",
    "    else:\n",
    "        return False"
   ]
  },
  {
   "cell_type": "code",
   "execution_count": null,
   "id": "07cd52bf-50de-4190-ad3f-d68aaf18039e",
   "metadata": {
    "execution": {
     "iopub.execute_input": "2024-11-17T12:42:37.917851Z",
     "iopub.status.busy": "2024-11-17T12:42:37.917734Z",
     "iopub.status.idle": "2024-11-17T12:42:37.969095Z",
     "shell.execute_reply": "2024-11-17T12:42:37.968655Z",
     "shell.execute_reply.started": "2024-11-17T12:42:37.917840Z"
    }
   },
   "outputs": [],
   "source": [
    "df_spec[\"isFaint\"] = df_spec.apply(IsFaint,axis=1)"
   ]
  },
  {
   "cell_type": "markdown",
   "id": "3af3b3b6-7774-4b43-830b-a287c4e3281b",
   "metadata": {},
   "source": [
    "### Compute NightObs"
   ]
  },
  {
   "cell_type": "code",
   "execution_count": null,
   "id": "4de5d570-2e92-468b-ab07-63fffd8d2b8c",
   "metadata": {
    "execution": {
     "iopub.execute_input": "2024-11-17T12:42:37.969714Z",
     "iopub.status.busy": "2024-11-17T12:42:37.969582Z",
     "iopub.status.idle": "2024-11-17T12:42:38.020155Z",
     "shell.execute_reply": "2024-11-17T12:42:38.019727Z",
     "shell.execute_reply.started": "2024-11-17T12:42:37.969702Z"
    }
   },
   "outputs": [],
   "source": [
    "df_spec[\"nightObs\"] = df_spec.apply(lambda x: x['id']//100_000, axis=1)"
   ]
  },
  {
   "cell_type": "code",
   "execution_count": null,
   "id": "079b9ebb-4e59-4364-8ffa-f0439e943959",
   "metadata": {
    "execution": {
     "iopub.execute_input": "2024-11-17T12:42:38.020772Z",
     "iopub.status.busy": "2024-11-17T12:42:38.020639Z",
     "iopub.status.idle": "2024-11-17T12:42:38.024629Z",
     "shell.execute_reply": "2024-11-17T12:42:38.024284Z",
     "shell.execute_reply.started": "2024-11-17T12:42:38.020760Z"
    }
   },
   "outputs": [],
   "source": [
    "if FLAG_WITHCOLLIMATOR:\n",
    "    df_spec = df_spec[df_spec[\"nightObs\"]> DATE_WITHCOLLIMATOR]"
   ]
  },
  {
   "cell_type": "markdown",
   "id": "a4f8b443-4bc5-46fc-a548-33441edee6da",
   "metadata": {},
   "source": [
    "## Apply Quality selection"
   ]
  },
  {
   "cell_type": "code",
   "execution_count": null,
   "id": "2325b3ff-29c2-445a-b25e-cc11aba4f45a",
   "metadata": {
    "execution": {
     "iopub.execute_input": "2024-11-17T12:42:38.025211Z",
     "iopub.status.busy": "2024-11-17T12:42:38.025080Z",
     "iopub.status.idle": "2024-11-17T12:42:38.449046Z",
     "shell.execute_reply": "2024-11-17T12:42:38.448645Z",
     "shell.execute_reply.started": "2024-11-17T12:42:38.025200Z"
    },
    "tags": []
   },
   "outputs": [],
   "source": [
    "fig,ax = plt.subplots(1,1)\n",
    "df_spec[\"CHI2_FIT\"].hist(bins=50,ax=ax,range=(0,200))\n",
    "ax.set_yscale(\"log\")"
   ]
  },
  {
   "cell_type": "markdown",
   "id": "a7aaca44-ad09-4883-8a7d-413b71e8b4a2",
   "metadata": {},
   "source": [
    "### Add the Time in pd.datetime"
   ]
  },
  {
   "cell_type": "markdown",
   "id": "6a2222de-f3b7-4678-b2dc-d4c89102e0ab",
   "metadata": {},
   "source": [
    "#### UTC"
   ]
  },
  {
   "cell_type": "code",
   "execution_count": null,
   "id": "0d10c1ad-c5dc-4487-baa9-7c71ec531f45",
   "metadata": {
    "execution": {
     "iopub.execute_input": "2024-11-17T12:42:38.449685Z",
     "iopub.status.busy": "2024-11-17T12:42:38.449548Z",
     "iopub.status.idle": "2024-11-17T12:42:38.454968Z",
     "shell.execute_reply": "2024-11-17T12:42:38.454561Z",
     "shell.execute_reply.started": "2024-11-17T12:42:38.449673Z"
    }
   },
   "outputs": [],
   "source": [
    "df_spec[\"Time\"] = pd.to_datetime(df_spec[\"DATE-OBS\"])"
   ]
  },
  {
   "cell_type": "code",
   "execution_count": null,
   "id": "66cfe082-4e0c-4b83-ac40-122ba4c58ec4",
   "metadata": {
    "execution": {
     "iopub.execute_input": "2024-11-17T12:42:38.455556Z",
     "iopub.status.busy": "2024-11-17T12:42:38.455431Z",
     "iopub.status.idle": "2024-11-17T12:42:38.461687Z",
     "shell.execute_reply": "2024-11-17T12:42:38.461333Z",
     "shell.execute_reply.started": "2024-11-17T12:42:38.455544Z"
    },
    "tags": []
   },
   "outputs": [],
   "source": [
    "DT = pd.Timedelta(minutes=7*24*60)\n",
    "TMIN  = df_spec[\"Time\"].min()-DT\n",
    "TMAX  = df_spec[\"Time\"].max()+DT"
   ]
  },
  {
   "cell_type": "markdown",
   "id": "433fdc22-9674-47c9-a11c-1e6acfc52311",
   "metadata": {
    "tags": []
   },
   "source": [
    "### Compute relative time to Mid-night"
   ]
  },
  {
   "cell_type": "code",
   "execution_count": null,
   "id": "0de9a173-9144-4c45-a93f-f7df8b5905b7",
   "metadata": {
    "execution": {
     "iopub.execute_input": "2024-11-17T12:42:38.462244Z",
     "iopub.status.busy": "2024-11-17T12:42:38.462122Z",
     "iopub.status.idle": "2024-11-17T12:42:38.467934Z",
     "shell.execute_reply": "2024-11-17T12:42:38.467582Z",
     "shell.execute_reply.started": "2024-11-17T12:42:38.462233Z"
    }
   },
   "outputs": [],
   "source": [
    "def GetTimeToMidNight(row):\n",
    "    observing_time = Time(row['DATE-OBS'], scale='utc', location=observing_location)\n",
    "\n",
    "    # time at the location , either before or after midnight\n",
    "    local_time =  observing_time.to_datetime(timezone=tz)\n",
    "\n",
    "    # take time independent  of any location now\n",
    "    local_time_new = datetime(local_time.year,local_time.month,local_time.day,local_time.hour,local_time.minute,local_time.second)\n",
    "    local_time_midnight = datetime(local_time_new.year,local_time_new.month,local_time_new.day)\n",
    "    dt_hour = (local_time_new -local_time_midnight).seconds/3600.\n",
    "\n",
    "    # we took the previous night mid-night , must subtract 24H\n",
    "    if dt_hour > 12.:\n",
    "        dt_hour_new = (dt_hour - 24.)\n",
    "    else:\n",
    "        dt_hour_new = dt_hour\n",
    "        \n",
    "    return dt_hour_new"
   ]
  },
  {
   "cell_type": "code",
   "execution_count": null,
   "id": "05bfba4e-45f5-4020-953f-b6205001b698",
   "metadata": {
    "execution": {
     "iopub.execute_input": "2024-11-17T12:42:38.468484Z",
     "iopub.status.busy": "2024-11-17T12:42:38.468363Z",
     "iopub.status.idle": "2024-11-17T12:42:39.572061Z",
     "shell.execute_reply": "2024-11-17T12:42:39.571645Z",
     "shell.execute_reply.started": "2024-11-17T12:42:38.468472Z"
    }
   },
   "outputs": [],
   "source": [
    "df_spec[\"dt_midnight\"] = df_spec.apply(GetTimeToMidNight,axis=1)"
   ]
  },
  {
   "cell_type": "code",
   "execution_count": null,
   "id": "154fc415-c965-44c2-8ec0-95f95c1616a3",
   "metadata": {
    "execution": {
     "iopub.execute_input": "2024-11-17T12:42:39.572684Z",
     "iopub.status.busy": "2024-11-17T12:42:39.572555Z",
     "iopub.status.idle": "2024-11-17T12:42:39.672253Z",
     "shell.execute_reply": "2024-11-17T12:42:39.671799Z",
     "shell.execute_reply.started": "2024-11-17T12:42:39.572672Z"
    }
   },
   "outputs": [],
   "source": [
    "fig,ax = plt.subplots(1,1,figsize=(6,4))\n",
    "df_spec[\"dt_midnight\"].hist(bins=48,range=(-12,12),ax=ax,facecolor=\"blue\") \n",
    "ax.set_xlabel(\"time relative to midnight (hour)\")\n",
    "ax.set_title(\"Observation time\")"
   ]
  },
  {
   "cell_type": "markdown",
   "id": "649915d4-df38-43ae-8b7a-f0f72e70590d",
   "metadata": {},
   "source": [
    "### Compute Date relative to January"
   ]
  },
  {
   "cell_type": "code",
   "execution_count": null,
   "id": "e5e99394-ff09-4ab6-b0c0-0fccce1be86c",
   "metadata": {
    "execution": {
     "iopub.execute_input": "2024-11-17T12:42:39.678877Z",
     "iopub.status.busy": "2024-11-17T12:42:39.678722Z",
     "iopub.status.idle": "2024-11-17T12:42:39.681802Z",
     "shell.execute_reply": "2024-11-17T12:42:39.681397Z",
     "shell.execute_reply.started": "2024-11-17T12:42:39.678858Z"
    }
   },
   "outputs": [],
   "source": [
    "def GetDateToMidJanuary(row):\n",
    "    observing_time = Time(row['DATE-OBS'], scale='utc', location=observing_location)\n",
    "\n",
    "    # time at the location , either before or after midnight\n",
    "    local_time =  observing_time.to_datetime(timezone=tz)\n",
    "\n",
    "    # take time independent  of any location now\n",
    "    local_time_new = datetime(2024,local_time.month,local_time.day,local_time.hour,local_time.minute,local_time.second)\n",
    "           \n",
    "    return pd.to_datetime(local_time_new)"
   ]
  },
  {
   "cell_type": "code",
   "execution_count": null,
   "id": "2e991a33-84e9-4766-98fb-665bada15c6d",
   "metadata": {
    "execution": {
     "iopub.execute_input": "2024-11-17T12:42:39.682423Z",
     "iopub.status.busy": "2024-11-17T12:42:39.682263Z",
     "iopub.status.idle": "2024-11-17T12:42:39.687483Z",
     "shell.execute_reply": "2024-11-17T12:42:39.687104Z",
     "shell.execute_reply.started": "2024-11-17T12:42:39.682409Z"
    }
   },
   "outputs": [],
   "source": [
    "#df_spec[\"Time_january\"] = df_spec.apply(GetDateToMidJanuary,axis=1)"
   ]
  },
  {
   "cell_type": "code",
   "execution_count": null,
   "id": "42779ad2-8f3f-44c7-9a0b-a9dcb33065e9",
   "metadata": {
    "execution": {
     "iopub.execute_input": "2024-11-17T12:42:39.688162Z",
     "iopub.status.busy": "2024-11-17T12:42:39.687995Z",
     "iopub.status.idle": "2024-11-17T12:42:39.694015Z",
     "shell.execute_reply": "2024-11-17T12:42:39.693614Z",
     "shell.execute_reply.started": "2024-11-17T12:42:39.688140Z"
    }
   },
   "outputs": [],
   "source": [
    "def GetDateToMidJanuaryAndYear(row):\n",
    "    observing_time = Time(row['DATE-OBS'], scale='utc', location=observing_location)\n",
    "\n",
    "    # time at the location , either before or after midnight\n",
    "    local_time =  observing_time.to_datetime(timezone=tz)\n",
    "\n",
    "    # take time independent  of any location now\n",
    "    local_time_new = datetime(2024,local_time.month,local_time.day,local_time.hour,local_time.minute,local_time.second)\n",
    "           \n",
    "    return pd.to_datetime(local_time_new),local_time.year "
   ]
  },
  {
   "cell_type": "code",
   "execution_count": null,
   "id": "3e747bbc-1357-447b-8cfb-1b22573f022c",
   "metadata": {
    "execution": {
     "iopub.execute_input": "2024-11-17T12:42:39.694620Z",
     "iopub.status.busy": "2024-11-17T12:42:39.694477Z",
     "iopub.status.idle": "2024-11-17T12:42:41.114262Z",
     "shell.execute_reply": "2024-11-17T12:42:41.113814Z",
     "shell.execute_reply.started": "2024-11-17T12:42:39.694603Z"
    }
   },
   "outputs": [],
   "source": [
    "df_spec[[\"Time_january\",\"Year\"]] = df_spec.apply(GetDateToMidJanuaryAndYear,axis=1,result_type=\"expand\")"
   ]
  },
  {
   "cell_type": "code",
   "execution_count": null,
   "id": "4076ca2e-03ea-4373-8b55-fdb6ae49de51",
   "metadata": {
    "execution": {
     "iopub.execute_input": "2024-11-17T12:42:41.114853Z",
     "iopub.status.busy": "2024-11-17T12:42:41.114727Z",
     "iopub.status.idle": "2024-11-17T12:42:41.123196Z",
     "shell.execute_reply": "2024-11-17T12:42:41.122847Z",
     "shell.execute_reply.started": "2024-11-17T12:42:41.114841Z"
    }
   },
   "outputs": [],
   "source": [
    "df_spec[[\"Time_january\",\"Year\"]]"
   ]
  },
  {
   "cell_type": "markdown",
   "id": "90783a42-5ed9-4ad8-8457-bbe1569413fe",
   "metadata": {},
   "source": [
    "## Compute night boundaries"
   ]
  },
  {
   "cell_type": "code",
   "execution_count": null,
   "id": "0ee7679a-ea50-4190-9400-664370a6b7f0",
   "metadata": {
    "execution": {
     "iopub.execute_input": "2024-11-17T12:42:41.123687Z",
     "iopub.status.busy": "2024-11-17T12:42:41.123571Z",
     "iopub.status.idle": "2024-11-17T12:42:41.126579Z",
     "shell.execute_reply": "2024-11-17T12:42:41.126234Z",
     "shell.execute_reply.started": "2024-11-17T12:42:41.123675Z"
    },
    "tags": []
   },
   "outputs": [],
   "source": [
    "def GetNightBoundariesDict(df_spec):\n",
    "    \"\"\"\n",
    "    input:\n",
    "      df_spec the dataframe for spectroscopy summary results\n",
    "    output:\n",
    "      the dict of night boudaries\n",
    "    \"\"\"\n",
    "    \n",
    "    Dt = pd.Timedelta(minutes=30)\n",
    "    d = {}\n",
    "    list_of_nightobs = df_spec[\"nightObs\"].unique()\n",
    "    for nightobs in list_of_nightobs:\n",
    "        sel_flag = df_spec[\"nightObs\"]== nightobs\n",
    "        df_night = df_spec[sel_flag]\n",
    "        tmin = df_night[\"Time\"].min()-Dt\n",
    "        tmax = df_night[\"Time\"].max()+Dt\n",
    "        d[nightobs] = (tmin,tmax)\n",
    "    return d"
   ]
  },
  {
   "cell_type": "code",
   "execution_count": null,
   "id": "b4e4e1eb-c4c1-4bdf-b88f-b44bd55b2435",
   "metadata": {
    "execution": {
     "iopub.execute_input": "2024-11-17T12:42:41.127241Z",
     "iopub.status.busy": "2024-11-17T12:42:41.126983Z",
     "iopub.status.idle": "2024-11-17T12:42:41.178751Z",
     "shell.execute_reply": "2024-11-17T12:42:41.178388Z",
     "shell.execute_reply.started": "2024-11-17T12:42:41.127228Z"
    },
    "tags": []
   },
   "outputs": [],
   "source": [
    "dn = GetNightBoundariesDict(df_spec)"
   ]
  },
  {
   "cell_type": "markdown",
   "id": "564f9a05-b3e2-4d61-9457-cda76ebd2a1b",
   "metadata": {},
   "source": [
    "## Apply Quality selection cuts"
   ]
  },
  {
   "cell_type": "code",
   "execution_count": null,
   "id": "51bff128-4de1-4396-ac64-e56336d8dd67",
   "metadata": {
    "execution": {
     "iopub.execute_input": "2024-11-17T12:42:41.179318Z",
     "iopub.status.busy": "2024-11-17T12:42:41.179195Z",
     "iopub.status.idle": "2024-11-17T12:42:41.182346Z",
     "shell.execute_reply": "2024-11-17T12:42:41.181997Z",
     "shell.execute_reply.started": "2024-11-17T12:42:41.179306Z"
    }
   },
   "outputs": [],
   "source": [
    "def getSelectionCut(df_spec, chi2max=20., pwvmin=0.1, pwvmax = 14.9,ozmin=100.,ozmax=600.):\n",
    "    cut =  (df_spec[\"CHI2_FIT\"]<chi2max) & (df_spec[\"PWV [mm]_x\"] > pwvmin) & (df_spec[\"PWV [mm]_x\"] < pwvmax) & (df_spec[\"D2CCD\"]>186.5) &  (df_spec[\"D2CCD\"]<187.3) & \\\n",
    "    (df_spec['EXPTIME'] > 20.) & (df_spec[\"PWV [mm]_y\"] > pwvmin) & (df_spec[\"PWV [mm]_y\"] < pwvmax) & \\\n",
    "    (df_spec[\"ozone [db]_y\"] > ozmin) & (df_spec[\"ozone [db]_y\"] < ozmax) \n",
    "    return cut"
   ]
  },
  {
   "cell_type": "code",
   "execution_count": null,
   "id": "99017666-4267-4f7c-a926-2da40fe78c00",
   "metadata": {
    "execution": {
     "iopub.execute_input": "2024-11-17T12:42:41.182833Z",
     "iopub.status.busy": "2024-11-17T12:42:41.182718Z",
     "iopub.status.idle": "2024-11-17T12:42:41.188840Z",
     "shell.execute_reply": "2024-11-17T12:42:41.188512Z",
     "shell.execute_reply.started": "2024-11-17T12:42:41.182822Z"
    }
   },
   "outputs": [],
   "source": [
    "def getSelectionCutNoPolar(df_spec, chi2max=20., pwvmin=0.1, pwvmax = 14.9,ozmin=100.,ozmax=600.):\n",
    "    cut =  (df_spec[\"CHI2_FIT\"]<chi2max) & (df_spec[\"PWV [mm]_x\"] > pwvmin) & (df_spec[\"PWV [mm]_x\"] < pwvmax) & (df_spec[\"D2CCD\"]>186.5) &  (df_spec[\"D2CCD\"]<187.3) & \\\n",
    "    (df_spec['EXPTIME'] > 20.) & (df_spec[\"PWV [mm]_y\"] > pwvmin) & (df_spec[\"PWV [mm]_y\"] < pwvmax) & \\\n",
    "    (df_spec[\"ozone [db]_y\"] > ozmin) & (df_spec[\"ozone [db]_y\"] < ozmax) & (df_spec[\"TARGET\"] != \"HD185975\")\n",
    "    return cut"
   ]
  },
  {
   "cell_type": "code",
   "execution_count": null,
   "id": "19b35b65-0191-4f70-9623-b3ecaeebe96e",
   "metadata": {
    "execution": {
     "iopub.execute_input": "2024-11-17T12:42:41.189368Z",
     "iopub.status.busy": "2024-11-17T12:42:41.189249Z",
     "iopub.status.idle": "2024-11-17T12:42:41.195365Z",
     "shell.execute_reply": "2024-11-17T12:42:41.195003Z",
     "shell.execute_reply.started": "2024-11-17T12:42:41.189356Z"
    }
   },
   "outputs": [],
   "source": [
    "def getSelectionCutWithPolar(df_spec, chi2max=20., pwvmin=0.1, pwvmax = 14.9,ozmin=100.,ozmax=600.):\n",
    "    cut =  (df_spec[\"CHI2_FIT\"]<chi2max) & (df_spec[\"PWV [mm]_x\"] > pwvmin) & (df_spec[\"PWV [mm]_x\"] < pwvmax) & (df_spec[\"D2CCD\"]>186.5) &  (df_spec[\"D2CCD\"]<187.3) & \\\n",
    "    (df_spec['EXPTIME'] > 20.) & (df_spec[\"PWV [mm]_y\"] > pwvmin) & (df_spec[\"PWV [mm]_y\"] < pwvmax) & \\\n",
    "    (df_spec[\"ozone [db]_y\"] > ozmin) & (df_spec[\"ozone [db]_y\"] < ozmax) & (df_spec[\"TARGET\"] == \"HD185975\")\n",
    "    return cut"
   ]
  },
  {
   "cell_type": "code",
   "execution_count": null,
   "id": "1b675e35-55ff-41af-82bf-85bb4c3267be",
   "metadata": {
    "execution": {
     "iopub.execute_input": "2024-11-17T12:42:41.195863Z",
     "iopub.status.busy": "2024-11-17T12:42:41.195747Z",
     "iopub.status.idle": "2024-11-17T12:42:41.207546Z",
     "shell.execute_reply": "2024-11-17T12:42:41.207081Z",
     "shell.execute_reply.started": "2024-11-17T12:42:41.195852Z"
    },
    "tags": []
   },
   "outputs": [],
   "source": [
    "cut = getSelectionCut(df_spec) \n",
    "cut_nopolar = getSelectionCutNoPolar(df_spec) \n",
    "cut_nopolar_bright = getSelectionCutNoPolar(df_spec) & (~df_spec[\"isFaint\"])\n",
    "cut_nopolar_faint = getSelectionCutNoPolar(df_spec) & (df_spec[\"isFaint\"])\n",
    "cut_wthpolar = getSelectionCutWithPolar(df_spec)"
   ]
  },
  {
   "cell_type": "code",
   "execution_count": null,
   "id": "e1cbfa40-4395-47f4-9acf-6a9f531fabd4",
   "metadata": {
    "execution": {
     "iopub.execute_input": "2024-11-17T12:42:41.208187Z",
     "iopub.status.busy": "2024-11-17T12:42:41.208057Z",
     "iopub.status.idle": "2024-11-17T12:42:41.212640Z",
     "shell.execute_reply": "2024-11-17T12:42:41.212289Z",
     "shell.execute_reply.started": "2024-11-17T12:42:41.208176Z"
    }
   },
   "outputs": [],
   "source": [
    "df_spec_sel = df_spec[cut]\n",
    "df_spec_np = df_spec[cut_nopolar] \n",
    "df_spec_np_b = df_spec[cut_nopolar_bright]\n",
    "df_spec_np_f = df_spec[cut_nopolar_faint]\n",
    "df_spec_wp = df_spec[cut_wthpolar]"
   ]
  },
  {
   "cell_type": "code",
   "execution_count": null,
   "id": "3c2b44e0-c554-4265-8caf-25b77c33ab1c",
   "metadata": {
    "execution": {
     "iopub.execute_input": "2024-11-17T12:42:41.213150Z",
     "iopub.status.busy": "2024-11-17T12:42:41.213024Z",
     "iopub.status.idle": "2024-11-17T12:42:41.216166Z",
     "shell.execute_reply": "2024-11-17T12:42:41.215794Z",
     "shell.execute_reply.started": "2024-11-17T12:42:41.213139Z"
    }
   },
   "outputs": [],
   "source": [
    "print(\"Total number of Spectra          : \",len(df_spec))\n",
    "print(\"Number of selected Spectra       : \",len(df_spec_sel))\n",
    "print(\"Number of selected Polars        : \",len(df_spec_wp))\n",
    "print(\"Number of selected Non-Polars    : \",len(df_spec_np))\n",
    "print(\"Number of selected Non-Polars Bright : \",len(df_spec_np_b))\n",
    "print(\"Number of selected Non-Polars Faint  : \",len(df_spec_np_f))"
   ]
  },
  {
   "cell_type": "code",
   "execution_count": null,
   "id": "bae62b07-17d4-423e-bdfe-634272a040a2",
   "metadata": {
    "execution": {
     "iopub.execute_input": "2024-11-17T12:42:41.216729Z",
     "iopub.status.busy": "2024-11-17T12:42:41.216615Z",
     "iopub.status.idle": "2024-11-17T12:42:41.222028Z",
     "shell.execute_reply": "2024-11-17T12:42:41.221684Z",
     "shell.execute_reply.started": "2024-11-17T12:42:41.216718Z"
    },
    "tags": []
   },
   "outputs": [],
   "source": [
    "df_spec_sel.reset_index(drop=True,inplace=True)\n",
    "df_spec_np.reset_index(drop=True,inplace=True)\n",
    "df_spec_wp.reset_index(drop=True,inplace=True) \n",
    "df_spec_np_b.reset_index(drop=True,inplace=True)\n",
    "df_spec_np_f.reset_index(drop=True,inplace=True)"
   ]
  },
  {
   "cell_type": "code",
   "execution_count": null,
   "id": "cef3e8dd-b2b7-4fcb-a676-3cef4d07f6c7",
   "metadata": {
    "execution": {
     "iopub.execute_input": "2024-11-17T12:42:41.222541Z",
     "iopub.status.busy": "2024-11-17T12:42:41.222425Z",
     "iopub.status.idle": "2024-11-17T12:42:41.244289Z",
     "shell.execute_reply": "2024-11-17T12:42:41.243843Z",
     "shell.execute_reply.started": "2024-11-17T12:42:41.222530Z"
    }
   },
   "outputs": [],
   "source": [
    "#List_Of_Faint_targets = ['Feige110','HD074000','HD115169','HD031128','HD200654','HD167060','HD009051','HD142331','HD160617','HD111980']\n",
    "print(\"Polar            :\",len(df_spec_wp[\"TARGET\"].unique()),\"\\t\", df_spec_wp[\"TARGET\"].unique()) \n",
    "print(\"Non Polar        :\",len(df_spec_np[\"TARGET\"].unique()),\"\\t\" ,df_spec_np[\"TARGET\"].unique())\n",
    "print(\"Non Polar Bright :\",len(df_spec_np_b[\"TARGET\"].unique()),\"\\t\" ,df_spec_np_b[\"TARGET\"].unique())\n",
    "print(\"Non Polar Faint  :\",len(df_spec_np_f[\"TARGET\"].unique()),\"\\t\",df_spec_np_f[\"TARGET\"].unique())"
   ]
  },
  {
   "cell_type": "markdown",
   "id": "030bf82d-8d80-492c-96cf-4506c2eac282",
   "metadata": {
    "tags": []
   },
   "source": [
    "### Recompute night boundaries"
   ]
  },
  {
   "cell_type": "code",
   "execution_count": null,
   "id": "1e41540b-d7cd-49c8-88dc-4175db604a17",
   "metadata": {
    "execution": {
     "iopub.execute_input": "2024-11-17T12:42:41.244992Z",
     "iopub.status.busy": "2024-11-17T12:42:41.244822Z",
     "iopub.status.idle": "2024-11-17T12:42:41.248848Z",
     "shell.execute_reply": "2024-11-17T12:42:41.248524Z",
     "shell.execute_reply.started": "2024-11-17T12:42:41.244975Z"
    },
    "tags": []
   },
   "outputs": [],
   "source": [
    "#dn = GetNightBoundariesDict(df_spec_sel)"
   ]
  },
  {
   "cell_type": "markdown",
   "id": "8bcc811a-d7c3-41ea-836c-65b4fcb36c4b",
   "metadata": {},
   "source": [
    "### Check regularisation"
   ]
  },
  {
   "cell_type": "code",
   "execution_count": null,
   "id": "aaf8d89b-7573-4638-9e7f-3d0eb412479f",
   "metadata": {
    "execution": {
     "iopub.execute_input": "2024-11-17T12:42:41.249374Z",
     "iopub.status.busy": "2024-11-17T12:42:41.249258Z",
     "iopub.status.idle": "2024-11-17T12:42:41.470010Z",
     "shell.execute_reply": "2024-11-17T12:42:41.469642Z",
     "shell.execute_reply.started": "2024-11-17T12:42:41.249363Z"
    }
   },
   "outputs": [],
   "source": [
    "fig,axs = plt.subplots(1,2,figsize=(12,4))\n",
    "\n",
    "ax1,ax2 = axs\n",
    "#df_spec['PSF_REG'].hist(bins=50,ax=ax1,range=(0,5))\n",
    "ax1.hist(np.log10(df_spec['PSF_REG'].values),bins=50,histtype=\"step\",color=\"b\")\n",
    "ax1.hist(np.log10(df_spec_sel['PSF_REG'].values),bins=50,histtype=\"step\",color=\"r\")\n",
    "ax1.grid()\n",
    "ax1.set_xlabel(\"$\\log_{10}(PSF\\_REG)$\")\n",
    "\n",
    "df_spec['TRACE_R'].hist(bins=50,ax=ax2,histtype=\"step\",color=\"b\")\n",
    "df_spec_sel['TRACE_R'].hist(bins=50,ax=ax2,histtype=\"step\",color=\"r\")\n",
    "ax2.set_yscale(\"log\")\n",
    "ax2.set_xlabel(\"TRACE_R\")\n",
    "\n",
    "plt.suptitle(\"Regularisation parameters\")"
   ]
  },
  {
   "cell_type": "markdown",
   "id": "53a5e8cd-51f5-4d34-875a-2c93a90fbf21",
   "metadata": {},
   "source": [
    "## Plot night by night"
   ]
  },
  {
   "cell_type": "code",
   "execution_count": null,
   "id": "c37844d9-5689-4fdf-8bb0-41afcfeeea61",
   "metadata": {
    "execution": {
     "iopub.execute_input": "2024-11-17T12:42:41.470578Z",
     "iopub.status.busy": "2024-11-17T12:42:41.470452Z",
     "iopub.status.idle": "2024-11-17T12:42:41.475127Z",
     "shell.execute_reply": "2024-11-17T12:42:41.474771Z",
     "shell.execute_reply.started": "2024-11-17T12:42:41.470567Z"
    }
   },
   "outputs": [],
   "source": [
    "def ComputeRepeatability(df):\n",
    "    \"\"\"\n",
    "    Compute Repeatability of PWV for Spectrogram and and Spectrum\n",
    "    \n",
    "    \"\"\"\n",
    "    N = len(df)\n",
    "    dfout = pd.DataFrame(index=df.index,columns = [\"nightObs\",\"dt\",\"dt_rep\",\"dPWVx_rep\",\"dPWVy_rep\",\"targflag_rep\",\"Npoints\"])\n",
    "    dfout[\"targflag_rep\"].astype(bool)\n",
    "    #dfout[\"Npoints\"].astype(int)\n",
    "    \n",
    "    target_old = \"No\"\n",
    "    time_old = 0.\n",
    "    pwvx_old = 0.\n",
    "    pwvy_old = 0.\n",
    "    \n",
    "    for index in range(N):\n",
    "        \n",
    "        nightObs =  df.iloc[index][\"nightObs\"]\n",
    "        \n",
    "        if index ==0:\n",
    "            dt0 = df.iloc[index][\"dt\"]\n",
    "            dfout.iloc[index] = [ nightObs,dt0, 0., 0., 0., False,N]\n",
    "        else:\n",
    "            target_new = df.iloc[index][\"TARGET\"]\n",
    "            time_new = df.iloc[index][\"dt\"]\n",
    "            pwvx_new = df.iloc[index][\"PWV [mm]_x\"]\n",
    "            pwvy_new = df.iloc[index][\"PWV [mm]_y\"]\n",
    "            \n",
    "            flag_target = (target_new == target_old)\n",
    "            dPWVx_rep = pwvx_new - pwvx_old\n",
    "            dPWVy_rep = pwvy_new - pwvy_old\n",
    "            dt_rep = (time_new-time_old)*3600. # in seconds\n",
    "            \n",
    "            dfout.iloc[index] = [ nightObs,time_new, dt_rep, dPWVx_rep, dPWVy_rep, flag_target,N]\n",
    "        \n",
    "        target_old = df.iloc[index][\"TARGET\"]\n",
    "        time_old = df.iloc[index][\"dt\"]\n",
    "        pwvx_old = df.iloc[index][\"PWV [mm]_x\"]\n",
    "        pwvy_old = df.iloc[index][\"PWV [mm]_y\"]\n",
    "        \n",
    "    return dfout"
   ]
  },
  {
   "cell_type": "code",
   "execution_count": null,
   "id": "22093a32-df7a-4177-ad33-e5c1611fe1fb",
   "metadata": {
    "execution": {
     "iopub.execute_input": "2024-11-17T12:42:41.475619Z",
     "iopub.status.busy": "2024-11-17T12:42:41.475499Z",
     "iopub.status.idle": "2024-11-17T12:42:41.480890Z",
     "shell.execute_reply": "2024-11-17T12:42:41.480557Z",
     "shell.execute_reply.started": "2024-11-17T12:42:41.475608Z"
    }
   },
   "outputs": [],
   "source": [
    "all_selected_nights = df_spec_sel[\"nightObs\"].unique()"
   ]
  },
  {
   "cell_type": "markdown",
   "id": "0766a319-9fb6-41d2-94cf-0a065cda2b1a",
   "metadata": {},
   "source": [
    "## Fits gaussien et lineaires"
   ]
  },
  {
   "cell_type": "code",
   "execution_count": null,
   "id": "d355d92c-a45d-4b2d-a130-4469337acfe0",
   "metadata": {
    "execution": {
     "iopub.execute_input": "2024-11-17T12:42:41.481413Z",
     "iopub.status.busy": "2024-11-17T12:42:41.481296Z",
     "iopub.status.idle": "2024-11-17T12:42:41.500258Z",
     "shell.execute_reply": "2024-11-17T12:42:41.499904Z",
     "shell.execute_reply.started": "2024-11-17T12:42:41.481403Z"
    }
   },
   "outputs": [],
   "source": [
    "def funclineres(params, x, y, yerr):\n",
    "    # Return residual = fit-observed\n",
    "    return (y-params[0] -params[1]*x)/yerr\n",
    "def funcline(params,x):\n",
    "    return params[0] + params[1]*x"
   ]
  },
  {
   "cell_type": "code",
   "execution_count": null,
   "id": "01b3bcad-f3ae-4cb1-8619-35f152b94551",
   "metadata": {
    "execution": {
     "iopub.execute_input": "2024-11-17T12:42:41.500770Z",
     "iopub.status.busy": "2024-11-17T12:42:41.500656Z",
     "iopub.status.idle": "2024-11-17T12:42:41.507348Z",
     "shell.execute_reply": "2024-11-17T12:42:41.506970Z",
     "shell.execute_reply.started": "2024-11-17T12:42:41.500759Z"
    }
   },
   "outputs": [],
   "source": [
    "def MakeLineFit(df_night_pwv_curve):\n",
    "    \"\"\"\n",
    "    \"\"\"\n",
    "\n",
    "    x = df_night_pwv_curve[\"dt_midnight\"].values\n",
    "    y = df_night_pwv_curve[\"PWV [mm]_x\"].values\n",
    "    yerr = df_night_pwv_curve[\"PWV [mm]_err_x\"].values\n",
    "    n = len(y)\n",
    "        \n",
    "    #popt, pcov = optimize.curve_fit(f, x, y, [1,-4])\n",
    "    fit_res = least_squares(funclineres,[5.,0],args = (x,y,yerr))\n",
    "    popt = fit_res.x \n",
    "    npar = len(popt)\n",
    "    J = fit_res.jac\n",
    "    cov = np.linalg.inv(J.T.dot(J))\n",
    "    chi2dof = ((funclineres(popt,x,y,yerr))**2).sum()/(n-npar)\n",
    "    cov *= chi2dof\n",
    "    perr = np.sqrt(np.diagonal(cov)) \n",
    "    \n",
    "    xfit = np.linspace(x.min()*0.99,x.max()*1.05)\n",
    "    yfit = funcline(popt,xfit)\n",
    "        \n",
    "    slope = popt[1]\n",
    "    slope_err = perr[1]\n",
    "\n",
    "    return x,y,yerr,n,chi2dof,xfit,yfit,slope,slope_err"
   ]
  },
  {
   "cell_type": "code",
   "execution_count": null,
   "id": "dd7e71f3-6405-4a9d-84a4-0560f0a8e34f",
   "metadata": {
    "execution": {
     "iopub.execute_input": "2024-11-17T12:42:41.507823Z",
     "iopub.status.busy": "2024-11-17T12:42:41.507707Z",
     "iopub.status.idle": "2024-11-17T12:42:41.513345Z",
     "shell.execute_reply": "2024-11-17T12:42:41.512990Z",
     "shell.execute_reply.started": "2024-11-17T12:42:41.507811Z"
    }
   },
   "outputs": [],
   "source": [
    "#\n",
    "# Gaussian Process regression\n",
    "# https://scikit-learn.org/1.5/auto_examples/gaussian_process/plot_gpr_noisy_targets.html\n",
    "from sklearn.gaussian_process import GaussianProcessRegressor\n",
    "from sklearn.gaussian_process.kernels import RBF"
   ]
  },
  {
   "cell_type": "code",
   "execution_count": null,
   "id": "a575d2cf-0c37-4e58-b351-eaf193360a9f",
   "metadata": {
    "execution": {
     "iopub.execute_input": "2024-11-17T12:42:41.513838Z",
     "iopub.status.busy": "2024-11-17T12:42:41.513725Z",
     "iopub.status.idle": "2024-11-17T12:42:41.520274Z",
     "shell.execute_reply": "2024-11-17T12:42:41.519886Z",
     "shell.execute_reply.started": "2024-11-17T12:42:41.513827Z"
    }
   },
   "outputs": [],
   "source": [
    "def MakeGaussianProcessFit(df_night_pwv_curve):\n",
    "    \"\"\"\n",
    "    \"\"\"\n",
    "\n",
    "    x_train = df_night_pwv_curve[\"dt_midnight\"].values\n",
    "    xmin =  x_train.min()\n",
    "    xmax = x_train.max()\n",
    "    xfit = np.linspace(xmin,xmax,50)\n",
    "    X_fit =xfit.reshape(-1,1)\n",
    "    X_train = x_train.reshape(-1, 1)\n",
    "    \n",
    "    y_train = df_night_pwv_curve[\"PWV [mm]_x\"].values\n",
    "    y_mean = y_train.mean()\n",
    "    yerr_train = df_night_pwv_curve[\"PWV [mm]_err_x\"].values\n",
    "    n = len(y_train)\n",
    "\n",
    "    noise_std= 0.5\n",
    "    \n",
    "    kernel = 1. * RBF(length_scale=5.0, length_scale_bounds=(0.5, 12.))\n",
    "    gaussian_process = GaussianProcessRegressor(kernel=kernel,alpha=noise_std**2 ,n_restarts_optimizer=9)\n",
    "    \n",
    "    gaussian_process.fit(X_train, y_train)\n",
    "\n",
    "    mean_prediction, std_prediction = gaussian_process.predict(X_fit, return_std=True)\n",
    "    return xfit, mean_prediction, std_prediction, gaussian_process"
   ]
  },
  {
   "cell_type": "code",
   "execution_count": null,
   "id": "985ed841-edd7-4187-b6e8-1fb419beb46d",
   "metadata": {
    "execution": {
     "iopub.execute_input": "2024-11-17T12:42:41.520776Z",
     "iopub.status.busy": "2024-11-17T12:42:41.520660Z",
     "iopub.status.idle": "2024-11-17T12:42:41.527161Z",
     "shell.execute_reply": "2024-11-17T12:42:41.526817Z",
     "shell.execute_reply.started": "2024-11-17T12:42:41.520764Z"
    }
   },
   "outputs": [],
   "source": [
    "from sklearn.pipeline import make_pipeline\n",
    "from sklearn.preprocessing import PolynomialFeatures, StandardScaler\n",
    "# https://scikit-learn.org/1.5/auto_examples/linear_model/plot_ard.html\n",
    "from sklearn.linear_model import ARDRegression,BayesianRidge"
   ]
  },
  {
   "cell_type": "code",
   "execution_count": null,
   "id": "e02741ac-94de-47e4-9d60-5027379ca791",
   "metadata": {
    "execution": {
     "iopub.execute_input": "2024-11-17T12:42:41.527681Z",
     "iopub.status.busy": "2024-11-17T12:42:41.527567Z",
     "iopub.status.idle": "2024-11-17T12:42:41.532268Z",
     "shell.execute_reply": "2024-11-17T12:42:41.531916Z",
     "shell.execute_reply.started": "2024-11-17T12:42:41.527670Z"
    }
   },
   "outputs": [],
   "source": [
    "POLY_DEGREE_MAX = 10"
   ]
  },
  {
   "cell_type": "code",
   "execution_count": null,
   "id": "a3e22a78-872e-43cd-b549-72f586a068f7",
   "metadata": {
    "execution": {
     "iopub.execute_input": "2024-11-17T12:42:41.532779Z",
     "iopub.status.busy": "2024-11-17T12:42:41.532667Z",
     "iopub.status.idle": "2024-11-17T12:42:41.540542Z",
     "shell.execute_reply": "2024-11-17T12:42:41.540174Z",
     "shell.execute_reply.started": "2024-11-17T12:42:41.532768Z"
    }
   },
   "outputs": [],
   "source": [
    "def MakeLinearModelFit(df_night_pwv_curve,degree_max = POLY_DEGREE_MAX ):\n",
    "    \"\"\"\n",
    "    https://scikit-learn.org/1.5/auto_examples/linear_model/plot_ard.html\n",
    "    ARDRegression and BayesianRidge\n",
    "    \"\"\"\n",
    "\n",
    "    x_train = df_night_pwv_curve[\"dt_midnight\"].values\n",
    "    xmin =  x_train.min()\n",
    "    xmax = x_train.max()\n",
    "    xfit = np.linspace(xmin,xmax,50)\n",
    "    X_fit =xfit.reshape(-1,1)\n",
    "    X_train = x_train.reshape(-1, 1)\n",
    "    \n",
    "    y_train = df_night_pwv_curve[\"PWV [mm]_x\"].values\n",
    "    y_mean = y_train.mean()\n",
    "    yerr_train = df_night_pwv_curve[\"PWV [mm]_err_x\"].values\n",
    "    n = len(y_train)\n",
    "\n",
    "    ard_poly = make_pipeline(\n",
    "    PolynomialFeatures(degree=degree_max, include_bias=False),StandardScaler(),ARDRegression(),).fit(X_train, y_train)\n",
    "    \n",
    "    brr_poly = make_pipeline(\n",
    "    PolynomialFeatures(degree=degree_max, include_bias=False),StandardScaler(),BayesianRidge(),).fit(X_train, y_train)\n",
    "\n",
    "    y_ard, y_ard_std = ard_poly.predict(X_fit, return_std=True)\n",
    "    y_brr, y_brr_std = brr_poly.predict(X_fit, return_std=True)\n",
    "\n",
    "    y_ard_pred = ard_poly.predict(X_train,return_std=False)\n",
    "    resy = y_train - y_ard_pred\n",
    "    \n",
    "    return xfit,y_ard, y_ard_std, y_brr, y_brr_std, resy, y_mean"
   ]
  },
  {
   "cell_type": "markdown",
   "id": "9d84b312-4ce3-4e06-81a6-4e7779f4f4c8",
   "metadata": {},
   "source": [
    "### Mute Spectractor messages"
   ]
  },
  {
   "cell_type": "code",
   "execution_count": null,
   "id": "f7d069d1-ff02-4335-94d2-d2c7fc19ba1e",
   "metadata": {
    "execution": {
     "iopub.execute_input": "2024-11-17T12:42:41.541080Z",
     "iopub.status.busy": "2024-11-17T12:42:41.540962Z",
     "iopub.status.idle": "2024-11-17T12:42:41.546351Z",
     "shell.execute_reply": "2024-11-17T12:42:41.545987Z",
     "shell.execute_reply.started": "2024-11-17T12:42:41.541069Z"
    }
   },
   "outputs": [],
   "source": [
    "import logging\n",
    "spec_logger = logging.getLogger('Spectrum')\n",
    "spec_logger.setLevel(logging.CRITICAL)"
   ]
  },
  {
   "cell_type": "markdown",
   "id": "9d056bcf-5baa-4e3b-bf1a-7f87ee8fdebd",
   "metadata": {},
   "source": [
    "## Fetch Spectra and transmission curve"
   ]
  },
  {
   "cell_type": "markdown",
   "id": "90072b9c-f455-4035-9b1c-112507475981",
   "metadata": {},
   "source": [
    "### Select one night"
   ]
  },
  {
   "cell_type": "code",
   "execution_count": null,
   "id": "a0626330-1680-47a4-94fc-7307a7b7b00a",
   "metadata": {
    "execution": {
     "iopub.execute_input": "2024-11-17T12:42:41.546855Z",
     "iopub.status.busy": "2024-11-17T12:42:41.546742Z",
     "iopub.status.idle": "2024-11-17T12:42:41.552435Z",
     "shell.execute_reply": "2024-11-17T12:42:41.552063Z",
     "shell.execute_reply.started": "2024-11-17T12:42:41.546845Z"
    }
   },
   "outputs": [],
   "source": [
    "#night = all_selected_nights[-5]\n",
    "#night = 20240925\n",
    "#night = 20231116\n",
    "night = 20231212"
   ]
  },
  {
   "cell_type": "markdown",
   "id": "d8d873f3-0b84-433f-a7e2-c54c31ea98ef",
   "metadata": {},
   "source": [
    "### make lists of night"
   ]
  },
  {
   "cell_type": "code",
   "execution_count": null,
   "id": "76e79ca7-2914-4d80-afe4-63bff6760111",
   "metadata": {
    "execution": {
     "iopub.execute_input": "2024-11-17T12:42:41.552901Z",
     "iopub.status.busy": "2024-11-17T12:42:41.552793Z",
     "iopub.status.idle": "2024-11-17T12:42:41.558577Z",
     "shell.execute_reply": "2024-11-17T12:42:41.558246Z",
     "shell.execute_reply.started": "2024-11-17T12:42:41.552891Z"
    }
   },
   "outputs": [],
   "source": [
    "df_spec_night = df_spec_sel[df_spec_sel[\"nightObs\"] == night]"
   ]
  },
  {
   "cell_type": "code",
   "execution_count": null,
   "id": "e6923594-bc16-4923-acda-ebfa7e4f3309",
   "metadata": {
    "execution": {
     "iopub.execute_input": "2024-11-17T12:42:41.559071Z",
     "iopub.status.busy": "2024-11-17T12:42:41.558958Z",
     "iopub.status.idle": "2024-11-17T12:42:41.565716Z",
     "shell.execute_reply": "2024-11-17T12:42:41.565377Z",
     "shell.execute_reply.started": "2024-11-17T12:42:41.559061Z"
    }
   },
   "outputs": [],
   "source": [
    "tmin = df_spec_night[\"Time\"].min()\n",
    "tmax = df_spec_night[\"Time\"].max()\n",
    "\n",
    "list_of_targets = df_spec_night[\"TARGET\"].unique()\n",
    "str_list_of_targets = \"\\n\".join(list_of_targets)\n",
    "     \n",
    "# convert in hours wrt midnight\n",
    "df_spec_night.assign(dt = lambda row : (row[\"Time\"]-tmin).dt.seconds/3600.,inplace=True);\n"
   ]
  },
  {
   "cell_type": "code",
   "execution_count": null,
   "id": "949f8946-fc1e-476c-bfbe-c138befe0747",
   "metadata": {},
   "outputs": [],
   "source": []
  },
  {
   "cell_type": "markdown",
   "id": "21e6f329-3de5-4c99-83ac-70c085a9ff42",
   "metadata": {},
   "source": [
    "### Make list of visitid"
   ]
  },
  {
   "cell_type": "code",
   "execution_count": null,
   "id": "6e51b67f-ae4d-4589-bac2-0e6f360c1677",
   "metadata": {
    "execution": {
     "iopub.execute_input": "2024-11-17T12:42:41.566244Z",
     "iopub.status.busy": "2024-11-17T12:42:41.566123Z",
     "iopub.status.idle": "2024-11-17T12:42:41.570064Z",
     "shell.execute_reply": "2024-11-17T12:42:41.569751Z",
     "shell.execute_reply.started": "2024-11-17T12:42:41.566233Z"
    }
   },
   "outputs": [],
   "source": [
    "list_visitid = list(df_spec_night[\"id\"])"
   ]
  },
  {
   "cell_type": "code",
   "execution_count": null,
   "id": "d1efa9e8-3cf3-4e55-a1fe-e68301c3fa09",
   "metadata": {
    "execution": {
     "iopub.execute_input": "2024-11-17T12:42:41.570583Z",
     "iopub.status.busy": "2024-11-17T12:42:41.570468Z",
     "iopub.status.idle": "2024-11-17T12:42:41.575760Z",
     "shell.execute_reply": "2024-11-17T12:42:41.575433Z",
     "shell.execute_reply.started": "2024-11-17T12:42:41.570572Z"
    }
   },
   "outputs": [],
   "source": [
    "list_of_all_targets = np.unique(list(df_spec_night[\"TARGET\"]))"
   ]
  },
  {
   "cell_type": "markdown",
   "id": "ca481814-159d-4af3-b9e3-0680f82024d7",
   "metadata": {},
   "source": [
    "### Get Spectra"
   ]
  },
  {
   "cell_type": "code",
   "execution_count": null,
   "id": "50000ba9-e4b1-4d77-8ec1-cff297d7b76c",
   "metadata": {
    "execution": {
     "iopub.execute_input": "2024-11-17T12:42:41.576266Z",
     "iopub.status.busy": "2024-11-17T12:42:41.576151Z",
     "iopub.status.idle": "2024-11-17T12:42:46.763071Z",
     "shell.execute_reply": "2024-11-17T12:42:46.762599Z",
     "shell.execute_reply.started": "2024-11-17T12:42:41.576255Z"
    }
   },
   "outputs": [],
   "source": [
    "all_foundvisitid, all_headers, all_params_spectrum , all_params_spectrogram, all_spectra = GetListOfSpectra(butler,list_visitid,my_collection)"
   ]
  },
  {
   "cell_type": "code",
   "execution_count": null,
   "id": "447284bc-1e17-462a-a9a3-30b11545a6ee",
   "metadata": {
    "execution": {
     "iopub.execute_input": "2024-11-17T12:42:46.763753Z",
     "iopub.status.busy": "2024-11-17T12:42:46.763616Z",
     "iopub.status.idle": "2024-11-17T12:42:46.767165Z",
     "shell.execute_reply": "2024-11-17T12:42:46.766779Z",
     "shell.execute_reply.started": "2024-11-17T12:42:46.763740Z"
    }
   },
   "outputs": [],
   "source": [
    "all_params_spectrum[-5]"
   ]
  },
  {
   "cell_type": "code",
   "execution_count": null,
   "id": "5882ad00-60db-4a72-a8fa-916250bd90eb",
   "metadata": {
    "execution": {
     "iopub.execute_input": "2024-11-17T12:42:46.767783Z",
     "iopub.status.busy": "2024-11-17T12:42:46.767633Z",
     "iopub.status.idle": "2024-11-17T12:42:46.774620Z",
     "shell.execute_reply": "2024-11-17T12:42:46.774274Z",
     "shell.execute_reply.started": "2024-11-17T12:42:46.767769Z"
    }
   },
   "outputs": [],
   "source": [
    "all_params_spectrogram[-5] "
   ]
  },
  {
   "cell_type": "markdown",
   "id": "df3db30c-9803-4cb9-99cc-7d0ff099232a",
   "metadata": {},
   "source": [
    "### Get SED"
   ]
  },
  {
   "cell_type": "code",
   "execution_count": null,
   "id": "a34943fc-a8dd-4ddc-ab67-36a7a1bbe20e",
   "metadata": {
    "execution": {
     "iopub.execute_input": "2024-11-17T12:42:46.775132Z",
     "iopub.status.busy": "2024-11-17T12:42:46.775003Z",
     "iopub.status.idle": "2024-11-17T12:42:46.847303Z",
     "shell.execute_reply": "2024-11-17T12:42:46.846891Z",
     "shell.execute_reply.started": "2024-11-17T12:42:46.775121Z"
    }
   },
   "outputs": [],
   "source": [
    "all_calspecs = {}\n",
    "for target_name in list_of_all_targets:\n",
    "    c =  gcal.Calspec(target_name) \n",
    "    all_calspecs[target_name] = c.get_spectrum_numpy() "
   ]
  },
  {
   "cell_type": "code",
   "execution_count": null,
   "id": "672001c7-ca45-4df3-9b4a-f05d32eba1b9",
   "metadata": {
    "execution": {
     "iopub.execute_input": "2024-11-17T12:42:46.847911Z",
     "iopub.status.busy": "2024-11-17T12:42:46.847787Z",
     "iopub.status.idle": "2024-11-17T12:42:46.987227Z",
     "shell.execute_reply": "2024-11-17T12:42:46.986852Z",
     "shell.execute_reply.started": "2024-11-17T12:42:46.847899Z"
    }
   },
   "outputs": [],
   "source": [
    "all_calspecs_sm = {}\n",
    "fig = plt.figure(figsize=(8,6))\n",
    "ax = fig.add_subplot()\n",
    "span = 5\n",
    "fmax = np.zeros(len(list_of_all_targets))\n",
    "for idx,target_name in enumerate(list_of_all_targets):\n",
    "    c_dict = all_calspecs[target_name]\n",
    "    wls = c_dict[\"WAVELENGTH\"].value\n",
    "    sed = c_dict[\"FLUX\"].value\n",
    "    ax.plot(wls,sed,'b-',label=target_name)\n",
    "\n",
    "    fmax[idx] = sed[np.where(np.logical_and(wls>WLMIN*10,wls<WLMAX*10))[0]].max()\n",
    "    \n",
    "    sedm = smooth_data_np_convolve(sed,span)\n",
    "    c_dict_sm = {\"WAVELENGTH\":wls,\"FLUX\":sedm}\n",
    "    all_calspecs_sm[target_name] = c_dict_sm\n",
    "    ax.plot(wls,sedm,'r-',label=\"smooth \" +target_name)\n",
    "ax.legend()\n",
    "ax.set_xlim(3000.,10000.)   \n",
    "ax.set_ylim(0.,fmax.max()*1.1)\n",
    "ax.set_title(f\"SEDs for night {night}\")"
   ]
  },
  {
   "cell_type": "code",
   "execution_count": null,
   "id": "4aaf3104-f407-4afe-b91b-e44a11ac1e6e",
   "metadata": {
    "execution": {
     "iopub.execute_input": "2024-11-17T12:42:46.987799Z",
     "iopub.status.busy": "2024-11-17T12:42:46.987674Z",
     "iopub.status.idle": "2024-11-17T12:42:46.990237Z",
     "shell.execute_reply": "2024-11-17T12:42:46.989883Z",
     "shell.execute_reply.started": "2024-11-17T12:42:46.987788Z"
    }
   },
   "outputs": [],
   "source": [
    "all_lists_of_targets = []\n",
    "DATEOBS = night\n",
    "print(idx,DATEOBS,len(all_spectra)) "
   ]
  },
  {
   "cell_type": "code",
   "execution_count": null,
   "id": "11a72834-b018-41bd-bb27-b5f3a92a79f1",
   "metadata": {
    "execution": {
     "iopub.execute_input": "2024-11-17T12:42:46.990737Z",
     "iopub.status.busy": "2024-11-17T12:42:46.990621Z",
     "iopub.status.idle": "2024-11-17T12:42:47.185402Z",
     "shell.execute_reply": "2024-11-17T12:42:47.185042Z",
     "shell.execute_reply.started": "2024-11-17T12:42:46.990726Z"
    }
   },
   "outputs": [],
   "source": [
    "fig,ax = plt.subplots(1,1,figsize=(10,6))\n",
    "plot_spectra_ax(all_spectra, ax, [spec.airmass for spec in all_spectra],dateobs=DATEOBS)\n",
    "ax.set_title(f\"atmospheric transmission for night {night}\")"
   ]
  },
  {
   "cell_type": "code",
   "execution_count": null,
   "id": "bf906bfb-df4a-4778-8007-9ef870f9137a",
   "metadata": {
    "execution": {
     "iopub.execute_input": "2024-11-17T12:42:47.185959Z",
     "iopub.status.busy": "2024-11-17T12:42:47.185798Z",
     "iopub.status.idle": "2024-11-17T12:42:55.245946Z",
     "shell.execute_reply": "2024-11-17T12:42:55.245558Z",
     "shell.execute_reply.started": "2024-11-17T12:42:47.185947Z"
    }
   },
   "outputs": [],
   "source": [
    "for idx,spec  in enumerate(all_spectra):\n",
    "    print(idx,\") :: \",df_spec_night.iloc[idx][[\"id\",\"TARGET\",\"AIRMASS\",'PSF_REG','TRACE_R']])\n",
    "    spec.plot_spectrum_summary()"
   ]
  },
  {
   "cell_type": "code",
   "execution_count": null,
   "id": "ee5d730d-dd59-4a36-9326-500669d5517f",
   "metadata": {
    "execution": {
     "iopub.execute_input": "2024-11-17T12:42:55.246526Z",
     "iopub.status.busy": "2024-11-17T12:42:55.246399Z",
     "iopub.status.idle": "2024-11-17T12:42:55.254260Z",
     "shell.execute_reply": "2024-11-17T12:42:55.253909Z",
     "shell.execute_reply.started": "2024-11-17T12:42:55.246514Z"
    }
   },
   "outputs": [],
   "source": [
    "def savehdf5_pernightspectra(spectra,df_spec_night,all_calspecs_sm,tel,disp,dateobs,pathdata):\n",
    "    \"\"\"\n",
    "    Save Spectra, atmospheric transmission in hdf5 files \n",
    "\n",
    "    refer to \n",
    "    $$\n",
    "    T(z_{pred}) = \\frac{ \\left( T(z_{meas}) \\right)^\\left( \\frac{z_{pred}}{z_{meas}}\\right)}{(T^{grey}_{z_{meas}})^{z_{pred}}}\n",
    "    $$\n",
    "    \n",
    "    \"\"\"\n",
    "\n",
    "    # create the file\n",
    "    file_hdf5 = f\"spectra_transmission_{dateobs}.h5\"\n",
    "    ffile_hdf5 = os.path.join(pathdata,file_hdf5)\n",
    "\n",
    "    print(f\">>>> create file hdf5 {ffile_hdf5}\")\n",
    "    hf = h5py.File(ffile_hdf5, 'w')\n",
    "\n",
    "    # Find the relattive time wrt midnight\n",
    "    tmin = df_spec_night[\"Time\"].min()\n",
    "    tmax = df_spec_night[\"Time\"].max()\n",
    "    df_spec_night.assign(dt = lambda row : (row[\"Time\"]-tmin).dt.seconds/3600.,inplace=True)\n",
    "\n",
    "    list_of_targets = df_spec_night[\"TARGET\"].unique()\n",
    "\n",
    "    list_visitid = list(df_spec_night[\"id\"])\n",
    "     \n",
    "    # convert in hours wrt midnight\n",
    "  \n",
    "\n",
    "    for idx,visitid in enumerate(list_visitid):\n",
    "        group_name = f'spectrum_{visitid}'\n",
    "        spec = spectra[idx]\n",
    "        target_name = spec.target.label\n",
    "        airmass = spec.airmass \n",
    "   \n",
    "        #print(f\">>>> create group {group_name}\")\n",
    "        g_spec = hf.create_group(group_name)\n",
    "\n",
    "        g_spec.attrs['airmass'] = airmass\n",
    "        g_spec.attrs['visitid'] = visitid\n",
    "        g_spec.attrs[\"target\"] = target_name\n",
    "\n",
    "        \n",
    "        # extract the flux\n",
    "        wls = spec.lambdas\n",
    "        flx = spec.data\n",
    "        flx_err = spec.err\n",
    "\n",
    "        # save the flux\n",
    "        d = g_spec.create_dataset(\"wls\",data=wls,compression=\"gzip\", compression_opts=9)\n",
    "        d = g_spec.create_dataset(\"fls\",data=flx,compression=\"gzip\", compression_opts=9)\n",
    "        d = g_spec.create_dataset(\"fls_err\",data=flx_err,compression=\"gzip\", compression_opts=9)\n",
    "\n",
    "        # extract SED\n",
    "        c_dict = all_calspecs_sm[target_name] \n",
    "        sed=np.interp(wls, c_dict[\"WAVELENGTH\"]/10.,c_dict[\"FLUX\"]*10.,left=1e-15,right=1e-15)\n",
    "                         \n",
    "        ratio_atz = flx/tel.transmission(wls)/disp.transmission(wls)/sed\n",
    "        ratio_atz_err = flx_err/tel.transmission(wls)/disp.transmission(wls)/sed\n",
    "\n",
    "        d = g_spec.create_dataset(\"transm_atz\",data=ratio_atz,compression=\"gzip\", compression_opts=9)\n",
    "        d = g_spec.create_dataset(\"transm_atz_err\",data=ratio_atz_err,compression=\"gzip\", compression_opts=9)\n",
    "\n",
    "        ratio_atz1 = np.power(ratio_atz,1./airmass)\n",
    "        ratio_atz1_err = 1/airmass * ratio_atz_err/np.power(ratio_atz,1.-1./airmass)\n",
    "    \n",
    "        d = g_spec.create_dataset(\"transm_atz1\",data=ratio_atz1,compression=\"gzip\", compression_opts=9)\n",
    "        d = g_spec.create_dataset(\"transm_atz1_err\",data=ratio_atz1_err,compression=\"gzip\", compression_opts=9)\n",
    "\n",
    "        d = g_spec.create_dataset(\"sed\",data=sed,compression=\"gzip\", compression_opts=9)\n",
    "        d = g_spec.create_dataset(\"disptransm\",data=disp.transmission(wls),compression=\"gzip\", compression_opts=9)\n",
    "        d = g_spec.create_dataset(\"teltransm\",data=tel.transmission(wls),compression=\"gzip\", compression_opts=9)\n",
    "        \n",
    "    \n",
    "    #print(f\">>>> save file hdf5 {ffile_hdf5}\")\n",
    "    hf.close() \n",
    "    return ffile_hdf5"
   ]
  },
  {
   "cell_type": "code",
   "execution_count": null,
   "id": "1629b3da-ee01-433b-95a3-6fe049d8daf9",
   "metadata": {
    "execution": {
     "iopub.execute_input": "2024-11-17T12:42:55.254830Z",
     "iopub.status.busy": "2024-11-17T12:42:55.254705Z",
     "iopub.status.idle": "2024-11-17T12:42:55.421521Z",
     "shell.execute_reply": "2024-11-17T12:42:55.421107Z",
     "shell.execute_reply.started": "2024-11-17T12:42:55.254818Z"
    }
   },
   "outputs": [],
   "source": [
    "the_h5_file = savehdf5_pernightspectra(all_spectra,df_spec_night,all_calspecs_sm,Telescope,Disp,night,datapath_output)"
   ]
  },
  {
   "cell_type": "code",
   "execution_count": null,
   "id": "c1a8ee07-12e3-4b1e-a8dc-7a017904b8ef",
   "metadata": {
    "execution": {
     "iopub.execute_input": "2024-11-17T12:42:55.422120Z",
     "iopub.status.busy": "2024-11-17T12:42:55.421985Z",
     "iopub.status.idle": "2024-11-17T12:42:55.424740Z",
     "shell.execute_reply": "2024-11-17T12:42:55.424391Z",
     "shell.execute_reply.started": "2024-11-17T12:42:55.422108Z"
    }
   },
   "outputs": [],
   "source": [
    "the_h5_file"
   ]
  },
  {
   "cell_type": "code",
   "execution_count": null,
   "id": "613f5c87-c403-436f-a57f-8e0ab6a545cf",
   "metadata": {
    "execution": {
     "iopub.execute_input": "2024-11-17T12:42:55.425422Z",
     "iopub.status.busy": "2024-11-17T12:42:55.425253Z",
     "iopub.status.idle": "2024-11-17T12:42:55.432714Z",
     "shell.execute_reply": "2024-11-17T12:42:55.432378Z",
     "shell.execute_reply.started": "2024-11-17T12:42:55.425409Z"
    }
   },
   "outputs": [],
   "source": [
    "hf = h5py.File(the_h5_file, 'r')\n",
    "list_of_keys = list(hf.keys())\n",
    "list_of_keys"
   ]
  },
  {
   "cell_type": "code",
   "execution_count": null,
   "id": "4a35d339-17fa-46dd-bc8f-4fc241d6c209",
   "metadata": {
    "execution": {
     "iopub.execute_input": "2024-11-17T12:42:55.433322Z",
     "iopub.status.busy": "2024-11-17T12:42:55.433205Z",
     "iopub.status.idle": "2024-11-17T12:42:55.470979Z",
     "shell.execute_reply": "2024-11-17T12:42:55.470609Z",
     "shell.execute_reply.started": "2024-11-17T12:42:55.433311Z"
    }
   },
   "outputs": [],
   "source": [
    "dict_spectra = {}\n",
    "for a_group_key, h5obj in hf.items():\n",
    "    if isinstance(h5obj,h5py.Group):\n",
    "        print(a_group_key,'is a Group')\n",
    "        group_number = int(a_group_key.split('_')[1])\n",
    "            \n",
    "        dict_spectrum_attributes = {}\n",
    "        dict_spectrum_datasets = {}\n",
    "        group = hf[a_group_key]\n",
    "        \n",
    "        list_of_datasets = group.keys()\n",
    "        list_of_attributes = group.attrs.keys()\n",
    "        \n",
    "        print(\"\\t attributes : \",list_of_attributes)\n",
    "        for key in list_of_attributes:\n",
    "            dict_spectrum_attributes[key] = group.attrs[key]\n",
    "        print(\"\\t datasets   : \", list_of_datasets)\n",
    "        for key in list_of_datasets:\n",
    "            dict_spectrum_datasets[key] = group[key][:]\n",
    "            \n",
    "        dict_spectra[group_number] = dict(attr=dict_spectrum_attributes, datasets=dict_spectrum_datasets)   \n",
    "            \n",
    "    elif isinstance(h5obj,h5py.Dataset):\n",
    "        print(a_group_key,'is a Dataset')"
   ]
  },
  {
   "cell_type": "code",
   "execution_count": null,
   "id": "f4079d36-9170-4986-a7f0-f5f1cee7b84b",
   "metadata": {
    "execution": {
     "iopub.execute_input": "2024-11-17T12:42:55.471484Z",
     "iopub.status.busy": "2024-11-17T12:42:55.471366Z",
     "iopub.status.idle": "2024-11-17T12:42:55.473541Z",
     "shell.execute_reply": "2024-11-17T12:42:55.473210Z",
     "shell.execute_reply.started": "2024-11-17T12:42:55.471472Z"
    }
   },
   "outputs": [],
   "source": [
    "wls = dict_spectra[2023121200275]['datasets']['wls']\n",
    "transm =  dict_spectra[2023121200275]['datasets']['transm_atz1']"
   ]
  },
  {
   "cell_type": "code",
   "execution_count": null,
   "id": "261eb9da-6276-43b1-b029-10dfb150df62",
   "metadata": {
    "execution": {
     "iopub.execute_input": "2024-11-17T12:42:55.474131Z",
     "iopub.status.busy": "2024-11-17T12:42:55.474010Z",
     "iopub.status.idle": "2024-11-17T12:42:55.536308Z",
     "shell.execute_reply": "2024-11-17T12:42:55.535971Z",
     "shell.execute_reply.started": "2024-11-17T12:42:55.474119Z"
    }
   },
   "outputs": [],
   "source": [
    "fig,ax = plt.subplots(1,1)\n",
    "ax.plot(wls,transm)\n",
    "ax.set_ylim(0.,1.)"
   ]
  },
  {
   "cell_type": "code",
   "execution_count": null,
   "id": "dcf03d06-85f4-4046-85f3-5fb6533c645e",
   "metadata": {
    "execution": {
     "iopub.execute_input": "2024-11-17T12:42:55.536831Z",
     "iopub.status.busy": "2024-11-17T12:42:55.536710Z",
     "iopub.status.idle": "2024-11-17T12:42:55.540305Z",
     "shell.execute_reply": "2024-11-17T12:42:55.539968Z",
     "shell.execute_reply.started": "2024-11-17T12:42:55.536819Z"
    }
   },
   "outputs": [],
   "source": [
    "def readhdf5_pernightspectra(the_h5_file):\n",
    "    \"\"\"\n",
    "    read Spectra, atmospheric transmission from hdf5 files \n",
    "\n",
    "    Parameters:\n",
    "        the_h5_file : full filename (path and filename)\n",
    "    \"\"\"\n",
    "\n",
    "    hf = h5py.File(the_h5_file, 'r')\n",
    "    list_of_keys = list(hf.keys())\n",
    "    \n",
    "    dict_spectra = {}\n",
    "    for a_group_key, h5obj in hf.items():\n",
    "        if isinstance(h5obj,h5py.Group):\n",
    "            #print(a_group_key,'is a Group')\n",
    "            group_number = int(a_group_key.split('_')[1])\n",
    "            \n",
    "            dict_spectrum_attributes = {}\n",
    "            dict_spectrum_datasets = {}\n",
    "            group = hf[a_group_key]\n",
    "        \n",
    "            list_of_datasets = group.keys()\n",
    "            list_of_attributes = group.attrs.keys()\n",
    "        \n",
    "            #print(\"\\t attributes : \",list_of_attributes)\n",
    "            for key in list_of_attributes:\n",
    "                dict_spectrum_attributes[key] = group.attrs[key]\n",
    "            #print(\"\\t datasets   : \", list_of_datasets)\n",
    "            for key in list_of_datasets:\n",
    "                dict_spectrum_datasets[key] = group[key][:]\n",
    "            \n",
    "            dict_spectra[group_number] = dict(attr=dict_spectrum_attributes, datasets=dict_spectrum_datasets)   \n",
    "            \n",
    "        elif isinstance(h5obj,h5py.Dataset):\n",
    "            #print(a_group_key,'is a Dataset')\n",
    "            pass\n",
    "    return  dict_spectra"
   ]
  },
  {
   "cell_type": "code",
   "execution_count": null,
   "id": "a1b81ed0-2d47-4571-b7d9-0c8f1508c280",
   "metadata": {
    "execution": {
     "iopub.execute_input": "2024-11-17T12:42:55.540892Z",
     "iopub.status.busy": "2024-11-17T12:42:55.540774Z",
     "iopub.status.idle": "2024-11-17T12:42:55.572968Z",
     "shell.execute_reply": "2024-11-17T12:42:55.572618Z",
     "shell.execute_reply.started": "2024-11-17T12:42:55.540881Z"
    }
   },
   "outputs": [],
   "source": [
    "night_dict = readhdf5_pernightspectra(the_h5_file)"
   ]
  },
  {
   "cell_type": "code",
   "execution_count": null,
   "id": "9ce834e1-3a02-45a5-a094-53a3d822c758",
   "metadata": {
    "execution": {
     "iopub.execute_input": "2024-11-17T12:42:55.573529Z",
     "iopub.status.busy": "2024-11-17T12:42:55.573407Z",
     "iopub.status.idle": "2024-11-17T12:42:55.719391Z",
     "shell.execute_reply": "2024-11-17T12:42:55.718976Z",
     "shell.execute_reply.started": "2024-11-17T12:42:55.573517Z"
    }
   },
   "outputs": [],
   "source": [
    "fig,ax = plt.subplots(1,1,figsize=(10,6))\n",
    "for key in night_dict.keys():\n",
    "    the_datasets =  night_dict[key][\"datasets\"]\n",
    "    wls = the_datasets['wls']\n",
    "    transm = the_datasets['transm_atz1']\n",
    "    ax.plot(wls,transm)\n",
    "    transm =  the_datasets['transm_atz1']\n",
    "    the_attributes =  night_dict[key][\"attr\"]\n",
    "    print(the_attributes)\n",
    "ax.set_ylim(0,1.2)  \n",
    "ax.grid()\n",
    "#ax.axvline(486.86,lw=1,color=\"k\")\n",
    "#ax.axvline(656.279,lw=1,color=\"k\")\n",
    "\n",
    "ax.axvline(490.00,lw=1,color=\"k\")\n",
    "ax.axvline(650.00,lw=1,color=\"k\")\n",
    "ax.set_xlabel(\"$\\\\lambda$ (nm)\")\n",
    "ax.set_ylabel(\"transmission at z=1\")\n",
    "ax.set_title(f\"atmospheric transmission for night {night}\")"
   ]
  },
  {
   "cell_type": "code",
   "execution_count": null,
   "id": "0b0b54d5-d355-4c85-9f82-f24488277679",
   "metadata": {
    "execution": {
     "iopub.execute_input": "2024-11-17T12:42:55.719928Z",
     "iopub.status.busy": "2024-11-17T12:42:55.719804Z",
     "iopub.status.idle": "2024-11-17T12:42:55.724719Z",
     "shell.execute_reply": "2024-11-17T12:42:55.724257Z",
     "shell.execute_reply.started": "2024-11-17T12:42:55.719917Z"
    }
   },
   "outputs": [],
   "source": [
    "wl_sel = np.arange(490,650,1)\n",
    "Nwl = len(wl_sel)\n",
    "Nt = len(night_dict.keys())\n",
    "all_transm_sel = np.zeros((Nt ,Nwl))\n",
    "all_airmass = np.zeros(Nt)\n",
    "for idx,key in enumerate(night_dict.keys()):\n",
    "    the_datasets =  night_dict[key][\"datasets\"]\n",
    "    the_attributes =  night_dict[key][\"attr\"]\n",
    "    wls = the_datasets['wls']\n",
    "    transm = the_datasets['transm_atz1']\n",
    "    func = interpolate.interp1d(wls,transm,kind='linear',  bounds_error=False, fill_value=0, \n",
    "                                    assume_sorted=False)\n",
    "    transm_sel = func(wl_sel)\n",
    "    all_transm_sel[idx,:]= transm_sel\n",
    "    all_airmass[idx] = the_attributes['airmass']"
   ]
  },
  {
   "cell_type": "code",
   "execution_count": null,
   "id": "427f4190-c107-4c57-a610-a3baaaafce0c",
   "metadata": {
    "execution": {
     "iopub.execute_input": "2024-11-17T12:42:55.725375Z",
     "iopub.status.busy": "2024-11-17T12:42:55.725260Z",
     "iopub.status.idle": "2024-11-17T12:42:55.730129Z",
     "shell.execute_reply": "2024-11-17T12:42:55.729686Z",
     "shell.execute_reply.started": "2024-11-17T12:42:55.725364Z"
    }
   },
   "outputs": [],
   "source": [
    "all_airmass "
   ]
  },
  {
   "cell_type": "code",
   "execution_count": null,
   "id": "e97b00ee-866f-41ea-8f0b-505cb9919654",
   "metadata": {
    "execution": {
     "iopub.execute_input": "2024-11-17T12:42:55.730709Z",
     "iopub.status.busy": "2024-11-17T12:42:55.730582Z",
     "iopub.status.idle": "2024-11-17T12:42:55.736033Z",
     "shell.execute_reply": "2024-11-17T12:42:55.735680Z",
     "shell.execute_reply.started": "2024-11-17T12:42:55.730698Z"
    }
   },
   "outputs": [],
   "source": [
    "colormap = cm.jet \n",
    "normalize = mcolors.Normalize(vmin=np.min(all_airmass), vmax=np.max(all_airmass))\n",
    "# Colorbar setup\n",
    "s_map = cm.ScalarMappable(norm=normalize, cmap=colormap)\n",
    "s_map.set_array(all_airmass)"
   ]
  },
  {
   "cell_type": "code",
   "execution_count": null,
   "id": "61d956d8-6e74-4ab1-9627-7a783af24107",
   "metadata": {
    "execution": {
     "iopub.execute_input": "2024-11-17T12:42:55.736558Z",
     "iopub.status.busy": "2024-11-17T12:42:55.736436Z",
     "iopub.status.idle": "2024-11-17T12:42:56.080306Z",
     "shell.execute_reply": "2024-11-17T12:42:56.079919Z",
     "shell.execute_reply.started": "2024-11-17T12:42:55.736547Z"
    }
   },
   "outputs": [],
   "source": [
    "# use constrained_layout=True to align the subplots\n",
    "fig,(ax1,ax2,ax3) = plt.subplots(3,1,figsize=(12,8),sharex=True,constrained_layout=True)\n",
    "for idx in range(Nt) :\n",
    "    color = colormap(normalize(all_airmass[idx]))\n",
    "    ax1.plot(wl_sel,all_transm_sel[idx,:],color=color)  \n",
    "ax1.grid()\n",
    "ax1.set_ylabel(\"transm\")\n",
    "\n",
    "ax2.errorbar(wl_sel,all_transm_sel.mean(axis=0),yerr=all_transm_sel.std(axis=0),color=\"g\")\n",
    "ax2.set_ylabel(\"mean transm\")\n",
    "ax2.grid()\n",
    "\n",
    "ax3.plot(wl_sel,all_transm_sel.std(axis=0)/all_transm_sel.mean(axis=0),'b-o')\n",
    "ax3.set_ylabel(\"dT/T\")\n",
    "ax3.grid()\n",
    "ax3.set_xlabel(\"$\\lambda$ (nm)\")\n",
    "\n",
    "fig1 = ax1.figure\n",
    "cbar = fig1.colorbar(s_map,ax=ax1)\n",
    "cbar.set_label(\"Airmass $z$\")\n",
    "\n",
    "ax1.set_title(f\"atmospheric transmission for night {night}\")\n",
    "\n",
    "plt.show()"
   ]
  },
  {
   "cell_type": "code",
   "execution_count": null,
   "id": "7fbb7b14-5936-4f0a-aeb4-072347119e69",
   "metadata": {
    "execution": {
     "iopub.execute_input": "2024-11-17T12:42:56.080878Z",
     "iopub.status.busy": "2024-11-17T12:42:56.080752Z",
     "iopub.status.idle": "2024-11-17T12:42:56.083804Z",
     "shell.execute_reply": "2024-11-17T12:42:56.083457Z",
     "shell.execute_reply.started": "2024-11-17T12:42:56.080867Z"
    }
   },
   "outputs": [],
   "source": [
    "group.attrs.keys()"
   ]
  },
  {
   "cell_type": "code",
   "execution_count": null,
   "id": "a78764c7-7e91-4465-8f4f-bfd1f0e38b1a",
   "metadata": {
    "execution": {
     "iopub.execute_input": "2024-11-17T12:42:56.084296Z",
     "iopub.status.busy": "2024-11-17T12:42:56.084183Z",
     "iopub.status.idle": "2024-11-17T12:42:56.089819Z",
     "shell.execute_reply": "2024-11-17T12:42:56.089478Z",
     "shell.execute_reply.started": "2024-11-17T12:42:56.084285Z"
    }
   },
   "outputs": [],
   "source": [
    "group.attrs['airmass']"
   ]
  },
  {
   "cell_type": "code",
   "execution_count": null,
   "id": "f454d880-d12e-4187-9eef-8fc1069aec0e",
   "metadata": {
    "execution": {
     "iopub.execute_input": "2024-11-17T12:42:56.090336Z",
     "iopub.status.busy": "2024-11-17T12:42:56.090219Z",
     "iopub.status.idle": "2024-11-17T12:42:56.311650Z",
     "shell.execute_reply": "2024-11-17T12:42:56.311219Z",
     "shell.execute_reply.started": "2024-11-17T12:42:56.090325Z"
    }
   },
   "outputs": [],
   "source": [
    "plot_atmtransmission(all_spectra, [spec.airmass for spec in all_spectra],all_calspecs_sm,Telescope,Disp,collection=my_collection,dateobs=DATEOBS,figsize=(12,8))"
   ]
  },
  {
   "cell_type": "markdown",
   "id": "4bcab7db-e9c0-4068-a3ae-dbd290193fca",
   "metadata": {},
   "source": [
    "## Plot atmospheric transmissions for airmass = 1\n",
    "\n",
    "$$\n",
    "T(z_{pred}) = \\frac{ \\left( T(z_{meas}) \\right)^\\left( \\frac{z_{pred}}{z_{meas}}\\right)}{(T^{grey}_{z_{meas}})^{z_{pred}}}\n",
    "$$"
   ]
  },
  {
   "cell_type": "code",
   "execution_count": null,
   "id": "29f01160-214a-425a-ac9a-978411e9938a",
   "metadata": {
    "execution": {
     "iopub.execute_input": "2024-11-17T12:42:56.312220Z",
     "iopub.status.busy": "2024-11-17T12:42:56.312082Z",
     "iopub.status.idle": "2024-11-17T12:42:56.533547Z",
     "shell.execute_reply": "2024-11-17T12:42:56.533111Z",
     "shell.execute_reply.started": "2024-11-17T12:42:56.312208Z"
    }
   },
   "outputs": [],
   "source": [
    "plot_atmtransmission_zcorr(all_spectra, [ spec.airmass for spec in all_spectra ],all_calspecs_sm,Telescope,Disp,collection=my_collection,dateobs=DATEOBS,figsize=(14,8) )"
   ]
  },
  {
   "cell_type": "raw",
   "id": "cc234572-41ca-4747-bb17-0c6cbee59602",
   "metadata": {},
   "source": [
    "## Save all figs in a pdf file"
   ]
  },
  {
   "cell_type": "code",
   "execution_count": null,
   "id": "6d4dc091-ac5c-493d-9c24-2838c9d76101",
   "metadata": {
    "execution": {
     "iopub.execute_input": "2024-11-17T12:42:56.534229Z",
     "iopub.status.busy": "2024-11-17T12:42:56.534068Z",
     "iopub.status.idle": "2024-11-17T12:42:56.590693Z",
     "shell.execute_reply": "2024-11-17T12:42:56.590255Z",
     "shell.execute_reply.started": "2024-11-17T12:42:56.534216Z"
    }
   },
   "outputs": [],
   "source": [
    "from matplotlib.backends.backend_pdf import PdfPages\n",
    "#pdf_filename = f\"holo_PWV_night_fitvariation_andSpectra.pdf\"\n",
    "#pdf_fullfilename = os.path.join(pathfigs,pdf_filename)\n",
    "#with PdfPages(pdf_fullfilename) as pdf:\n",
    "#    for fig in all_figs_to_pdf:\n",
    "#        pdf.savefig(fig, bbox_inches='tight') "
   ]
  },
  {
   "cell_type": "code",
   "execution_count": null,
   "id": "52e5c1e0-47c0-4109-8c66-e3dd94c56efd",
   "metadata": {
    "execution": {
     "iopub.execute_input": "2024-11-17T12:42:56.591301Z",
     "iopub.status.busy": "2024-11-17T12:42:56.591172Z",
     "iopub.status.idle": "2024-11-17T12:42:56.593164Z",
     "shell.execute_reply": "2024-11-17T12:42:56.592825Z",
     "shell.execute_reply.started": "2024-11-17T12:42:56.591289Z"
    }
   },
   "outputs": [],
   "source": [
    "#pdf_filename = f\"holo_PWV_night_fitvariation_andSpectra_tight.pdf\"\n",
    "#pdf_fullfilename = os.path.join(pathfigs,pdf_filename)\n",
    "#with PdfPages(pdf_fullfilename) as pdf:\n",
    "#    for fig in all_figs_to_pdf:\n",
    "#        pdf.savefig(fig, bbox_inches='tight') "
   ]
  },
  {
   "cell_type": "code",
   "execution_count": null,
   "id": "0e87bcfd-4d62-4a66-ae89-e832019ecbc7",
   "metadata": {
    "execution": {
     "iopub.execute_input": "2024-11-17T12:42:56.593684Z",
     "iopub.status.busy": "2024-11-17T12:42:56.593565Z",
     "iopub.status.idle": "2024-11-17T12:42:56.599264Z",
     "shell.execute_reply": "2024-11-17T12:42:56.598929Z",
     "shell.execute_reply.started": "2024-11-17T12:42:56.593672Z"
    }
   },
   "outputs": [],
   "source": [
    "#pdf_filename = f\"holo_PWV_night_fitvariation_andSpectra_nottight.pdf\"\n",
    "#pdf_fullfilename = os.path.join(pathfigs,pdf_filename)\n",
    "#with PdfPages(pdf_fullfilename) as pdf:\n",
    "#    for fig in all_figs_to_pdf:\n",
    "#        pdf.savefig(fig) "
   ]
  },
  {
   "cell_type": "code",
   "execution_count": null,
   "id": "da56edeb-775b-445a-af3e-7b947c7fa916",
   "metadata": {},
   "outputs": [],
   "source": []
  }
 ],
 "metadata": {
  "kernelspec": {
   "display_name": "LSST",
   "language": "python",
   "name": "lsst"
  },
  "language_info": {
   "codemirror_mode": {
    "name": "ipython",
    "version": 3
   },
   "file_extension": ".py",
   "mimetype": "text/x-python",
   "name": "python",
   "nbconvert_exporter": "python",
   "pygments_lexer": "ipython3",
   "version": "3.11.9"
  }
 },
 "nbformat": 4,
 "nbformat_minor": 5
}
