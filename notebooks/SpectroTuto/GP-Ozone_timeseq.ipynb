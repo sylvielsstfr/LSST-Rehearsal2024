{
 "cells": [
  {
   "cell_type": "markdown",
   "id": "45bf4242-bfc5-4d43-88c4-a8059ae148df",
   "metadata": {},
   "source": [
    "# Gaussian process and linear fit on PWV time sequence"
   ]
  },
  {
   "cell_type": "markdown",
   "id": "01993b6e-6438-4fca-a5d5-1f9791336847",
   "metadata": {},
   "source": [
    "- author Sylvie Dagoret-Campagne\n",
    "- affiliation : IJCLab\n",
    "- creation date 2024-11-07\n",
    "- last update 2024-11-07 \n",
    "- Office emac : mamba_py311\n",
    "- Home emac : base (conda)\n",
    "- laptop : conda_py310"
   ]
  },
  {
   "cell_type": "markdown",
   "id": "c025250c-6ceb-42f6-b2cc-2aa07987df55",
   "metadata": {},
   "source": [
    "**Goal** : Show Night variations of Ozone wrt date and Time. Fit a straight line."
   ]
  },
  {
   "cell_type": "code",
   "execution_count": null,
   "id": "dcc53afe-c58f-4948-92c9-0090d373ad2a",
   "metadata": {
    "execution": {
     "iopub.execute_input": "2024-12-10T09:56:27.490832Z",
     "iopub.status.busy": "2024-12-10T09:56:27.490709Z",
     "iopub.status.idle": "2024-12-10T09:56:27.492927Z",
     "shell.execute_reply": "2024-12-10T09:56:27.492502Z",
     "shell.execute_reply.started": "2024-12-10T09:56:27.490819Z"
    }
   },
   "outputs": [],
   "source": [
    "import warnings\n",
    "warnings.resetwarnings()\n",
    "warnings.simplefilter('ignore')"
   ]
  },
  {
   "cell_type": "code",
   "execution_count": null,
   "id": "8026d265-2493-4045-afec-26205ff71f7c",
   "metadata": {
    "execution": {
     "iopub.execute_input": "2024-12-10T09:56:27.493501Z",
     "iopub.status.busy": "2024-12-10T09:56:27.493382Z",
     "iopub.status.idle": "2024-12-10T09:56:27.504317Z",
     "shell.execute_reply": "2024-12-10T09:56:27.503937Z",
     "shell.execute_reply.started": "2024-12-10T09:56:27.493489Z"
    },
    "tags": []
   },
   "outputs": [],
   "source": [
    "from platform import python_version\n",
    "print(python_version())"
   ]
  },
  {
   "cell_type": "code",
   "execution_count": null,
   "id": "eb1f116e-80e3-46ad-a7db-7f253632e5ca",
   "metadata": {
    "execution": {
     "iopub.execute_input": "2024-12-10T09:56:27.504890Z",
     "iopub.status.busy": "2024-12-10T09:56:27.504762Z",
     "iopub.status.idle": "2024-12-10T09:56:27.509941Z",
     "shell.execute_reply": "2024-12-10T09:56:27.509583Z",
     "shell.execute_reply.started": "2024-12-10T09:56:27.504878Z"
    }
   },
   "outputs": [],
   "source": [
    "import os"
   ]
  },
  {
   "cell_type": "code",
   "execution_count": null,
   "id": "3ec760cd-3d3f-4a34-a6f6-b226fe500951",
   "metadata": {
    "execution": {
     "iopub.execute_input": "2024-12-10T09:56:27.511412Z",
     "iopub.status.busy": "2024-12-10T09:56:27.511289Z",
     "iopub.status.idle": "2024-12-10T09:56:27.516509Z",
     "shell.execute_reply": "2024-12-10T09:56:27.516104Z",
     "shell.execute_reply.started": "2024-12-10T09:56:27.511400Z"
    }
   },
   "outputs": [],
   "source": [
    "# where are stored the figures\n",
    "pathfigs = \"figsHoloLinearandGPFitOzone\"\n",
    "if not os.path.exists(pathfigs):\n",
    "    os.makedirs(pathfigs) \n",
    "figtype = \".png\""
   ]
  },
  {
   "cell_type": "code",
   "execution_count": null,
   "id": "bf752b70-e6ca-4cbf-8e8c-20bf7f0d8f61",
   "metadata": {
    "execution": {
     "iopub.execute_input": "2024-12-10T09:56:27.517216Z",
     "iopub.status.busy": "2024-12-10T09:56:27.516919Z",
     "iopub.status.idle": "2024-12-10T09:56:28.932943Z",
     "shell.execute_reply": "2024-12-10T09:56:28.932492Z",
     "shell.execute_reply.started": "2024-12-10T09:56:27.517195Z"
    }
   },
   "outputs": [],
   "source": [
    "import numpy as np\n",
    "from numpy.linalg import inv\n",
    "import matplotlib as mpl\n",
    "import matplotlib.pyplot as plt\n",
    "%matplotlib inline\n",
    "from mpl_toolkits.axes_grid1 import make_axes_locatable\n",
    "from matplotlib.colors import LogNorm,SymLogNorm\n",
    "from matplotlib.patches import Circle,Annulus\n",
    "from astropy.visualization import ZScaleInterval\n",
    "props = dict(boxstyle='round', facecolor=\"white\", alpha=0.1)\n",
    "#props = dict(boxstyle='round')\n",
    "\n",
    "import matplotlib.colors as colors\n",
    "import matplotlib.cm as cmx\n",
    "\n",
    "import matplotlib.ticker                         # here's where the formatter is\n",
    "from matplotlib.ticker import (MultipleLocator, FormatStrFormatter,\n",
    "                               AutoMinorLocator)\n",
    "\n",
    "from matplotlib.gridspec import GridSpec\n",
    "\n",
    "from astropy.visualization import (MinMaxInterval, SqrtStretch,ZScaleInterval,PercentileInterval,\n",
    "                                   ImageNormalize,imshow_norm)\n",
    "from astropy.visualization.stretch import SinhStretch, LinearStretch,AsinhStretch,LogStretch\n",
    "\n",
    "from astropy.io import fits\n",
    "from astropy.wcs import WCS\n",
    "from astropy import units as u\n",
    "from astropy import constants as c\n",
    "\n",
    "from astropy.coordinates.earth import EarthLocation\n",
    "from datetime import datetime\n",
    "from pytz import timezone\n",
    "\n",
    "from scipy import interpolate\n",
    "from sklearn.neighbors import NearestNeighbors\n",
    "from sklearn.neighbors import KDTree, BallTree\n",
    "\n",
    "import pandas as pd\n",
    "pd.set_option(\"display.max_columns\", None)\n",
    "pd.set_option('display.max_rows', 100)\n",
    "\n",
    "import matplotlib.ticker                         # here's where the formatter is\n",
    "import os\n",
    "import re\n",
    "import pandas as pd\n",
    "import pickle\n",
    "from collections import OrderedDict\n",
    "\n",
    "plt.rcParams[\"figure.figsize\"] = (4,3)\n",
    "plt.rcParams[\"axes.labelsize\"] = 'xx-large'\n",
    "plt.rcParams['axes.titlesize'] = 'xx-large'\n",
    "plt.rcParams['xtick.labelsize']= 'xx-large'\n",
    "plt.rcParams['ytick.labelsize']= 'xx-large'\n",
    "\n",
    "import scipy\n",
    "from scipy.optimize import curve_fit,least_squares\n",
    "\n",
    "\n",
    "# new color correction model\n",
    "import pickle\n",
    "from scipy.interpolate import RegularGridInterpolator"
   ]
  },
  {
   "cell_type": "code",
   "execution_count": null,
   "id": "0ca0d1e6-5f82-4c43-aaa3-8524fc2bc5ba",
   "metadata": {
    "execution": {
     "iopub.execute_input": "2024-12-10T09:56:28.933723Z",
     "iopub.status.busy": "2024-12-10T09:56:28.933452Z",
     "iopub.status.idle": "2024-12-10T09:56:28.940280Z",
     "shell.execute_reply": "2024-12-10T09:56:28.939908Z",
     "shell.execute_reply.started": "2024-12-10T09:56:28.933710Z"
    }
   },
   "outputs": [],
   "source": [
    "from mpl_toolkits.axes_grid1.inset_locator import inset_axes\n",
    "from matplotlib.ticker import (MultipleLocator, FormatStrFormatter,\n",
    "                               AutoMinorLocator)\n",
    "\n",
    "from astropy.visualization import (MinMaxInterval, SqrtStretch,ZScaleInterval,PercentileInterval,\n",
    "                                   ImageNormalize,imshow_norm)\n",
    "from astropy.visualization.stretch import SinhStretch, LinearStretch,AsinhStretch,LogStretch\n",
    "\n",
    "from astropy.time import Time\n"
   ]
  },
  {
   "cell_type": "code",
   "execution_count": null,
   "id": "e189816c-5048-43ab-a01a-7c078af54489",
   "metadata": {
    "execution": {
     "iopub.execute_input": "2024-12-10T09:56:28.940817Z",
     "iopub.status.busy": "2024-12-10T09:56:28.940698Z",
     "iopub.status.idle": "2024-12-10T09:56:28.944397Z",
     "shell.execute_reply": "2024-12-10T09:56:28.944055Z",
     "shell.execute_reply.started": "2024-12-10T09:56:28.940806Z"
    }
   },
   "outputs": [],
   "source": [
    "# Remove this if want to run faster the ntoebook\n",
    "#import ipywidgets as widgets\n",
    "#%matplotlib widget"
   ]
  },
  {
   "cell_type": "code",
   "execution_count": null,
   "id": "67327fd4-e405-45ce-8923-cd46ebaa0c0f",
   "metadata": {
    "execution": {
     "iopub.execute_input": "2024-12-10T09:56:28.945030Z",
     "iopub.status.busy": "2024-12-10T09:56:28.944783Z",
     "iopub.status.idle": "2024-12-10T09:56:28.950455Z",
     "shell.execute_reply": "2024-12-10T09:56:28.950085Z",
     "shell.execute_reply.started": "2024-12-10T09:56:28.945018Z"
    },
    "tags": []
   },
   "outputs": [],
   "source": [
    "from importlib.metadata import version"
   ]
  },
  {
   "cell_type": "code",
   "execution_count": null,
   "id": "af8332dd-24f9-4b19-88f9-c62d0a4aebf1",
   "metadata": {
    "execution": {
     "iopub.execute_input": "2024-12-10T09:56:28.950920Z",
     "iopub.status.busy": "2024-12-10T09:56:28.950809Z",
     "iopub.status.idle": "2024-12-10T09:56:28.956297Z",
     "shell.execute_reply": "2024-12-10T09:56:28.955926Z",
     "shell.execute_reply.started": "2024-12-10T09:56:28.950910Z"
    },
    "tags": []
   },
   "outputs": [],
   "source": [
    "# wavelength bin colors\n",
    "#jet = plt.get_cmap('jet')\n",
    "#cNorm = mpl.colors.Normalize(vmin=0, vmax=NSED)\n",
    "#scalarMap = cmx.ScalarMappable(norm=cNorm, cmap=jet)\n",
    "#all_colors = scalarMap.to_rgba(np.arange(NSED), alpha=1)"
   ]
  },
  {
   "cell_type": "code",
   "execution_count": null,
   "id": "1d91654a-81b0-400c-b527-410d78091cda",
   "metadata": {
    "execution": {
     "iopub.execute_input": "2024-12-10T09:56:28.956944Z",
     "iopub.status.busy": "2024-12-10T09:56:28.956829Z",
     "iopub.status.idle": "2024-12-10T09:56:28.962373Z",
     "shell.execute_reply": "2024-12-10T09:56:28.961990Z",
     "shell.execute_reply.started": "2024-12-10T09:56:28.956933Z"
    }
   },
   "outputs": [],
   "source": [
    "def convertNumToDatestr(num):\n",
    "    year = num//10_000\n",
    "    month= (num-year*10_000)//100\n",
    "    day = (num-year*10_000-month*100)\n",
    "\n",
    "    year_str = str(year).zfill(4)\n",
    "    month_str = str(month).zfill(2)\n",
    "    day_str = str(day).zfill(2)\n",
    "    \n",
    "    datestr = f\"{year_str}-{month_str}-{day_str}\"\n",
    "    return pd.to_datetime(datestr)"
   ]
  },
  {
   "cell_type": "markdown",
   "id": "4f13d6a3-7793-4bc0-920a-1d690d9f84b2",
   "metadata": {},
   "source": [
    "## Configuration"
   ]
  },
  {
   "cell_type": "code",
   "execution_count": null,
   "id": "cdc3ec4a-8902-4bc6-aa65-ed657e1bed3c",
   "metadata": {
    "execution": {
     "iopub.execute_input": "2024-12-10T09:56:28.962870Z",
     "iopub.status.busy": "2024-12-10T09:56:28.962756Z",
     "iopub.status.idle": "2024-12-10T09:56:29.083659Z",
     "shell.execute_reply": "2024-12-10T09:56:29.083230Z",
     "shell.execute_reply.started": "2024-12-10T09:56:28.962859Z"
    }
   },
   "outputs": [],
   "source": [
    "observing_location = EarthLocation.of_site('Rubin Observatory')\n",
    "tz = timezone('America/Santiago')"
   ]
  },
  {
   "cell_type": "markdown",
   "id": "b360ed09-ca61-47d8-9399-430f96e52591",
   "metadata": {},
   "source": [
    "### Spectro Hologram data"
   ]
  },
  {
   "cell_type": "code",
   "execution_count": null,
   "id": "315dbd63-428d-4d7e-8c2a-1dd7e8b05983",
   "metadata": {
    "execution": {
     "iopub.execute_input": "2024-12-10T09:56:29.084332Z",
     "iopub.status.busy": "2024-12-10T09:56:29.084168Z",
     "iopub.status.idle": "2024-12-10T09:56:29.088493Z",
     "shell.execute_reply": "2024-12-10T09:56:29.088060Z",
     "shell.execute_reply.started": "2024-12-10T09:56:29.084317Z"
    }
   },
   "outputs": [],
   "source": [
    "FLAG_WITHCOLLIMATOR = False\n",
    "DATE_WITHCOLLIMATOR = 20230930\n",
    "datetime_WITHCOLLIMATOR = convertNumToDatestr(DATE_WITHCOLLIMATOR)\n",
    "datetime_WITHCOLLIMATOR = pd.to_datetime(\"2023-09-30 00:00:00.0+0000\")\n",
    "datetime_WITHCOLLIMATOR"
   ]
  },
  {
   "cell_type": "code",
   "execution_count": null,
   "id": "5bac0cab-3886-4683-b1c8-fc59edacfd46",
   "metadata": {
    "execution": {
     "iopub.execute_input": "2024-12-10T09:56:29.088989Z",
     "iopub.status.busy": "2024-12-10T09:56:29.088878Z",
     "iopub.status.idle": "2024-12-10T09:56:29.094259Z",
     "shell.execute_reply": "2024-12-10T09:56:29.093858Z",
     "shell.execute_reply.started": "2024-12-10T09:56:29.088979Z"
    },
    "tags": []
   },
   "outputs": [],
   "source": [
    "version_results = \"v5\"\n",
    "legendtag = {\"v1\" : \"old v3.1.0\",\n",
    "            \"v2\" : \"v3.1.0-PWV<10mm\",\n",
    "            \"v3\" : \"v3.1.0-PWV<15mm\",\n",
    "            \"v4\" : \"Auxtel holo v3.1.0\",\n",
    "            \"v5\" : \"Auxtel holo v3.1.0 09/22 - 10/24\"}"
   ]
  },
  {
   "cell_type": "code",
   "execution_count": null,
   "id": "6cae5fdd-2d14-4f15-ae3f-0a093a045cff",
   "metadata": {
    "execution": {
     "iopub.execute_input": "2024-12-10T09:56:29.094761Z",
     "iopub.status.busy": "2024-12-10T09:56:29.094651Z",
     "iopub.status.idle": "2024-12-10T09:56:29.100632Z",
     "shell.execute_reply": "2024-12-10T09:56:29.100220Z",
     "shell.execute_reply.started": "2024-12-10T09:56:29.094750Z"
    }
   },
   "outputs": [],
   "source": [
    "atmfilenamesdict = {\"v1\" : \"data/spectro/auxtel_atmosphere_202301_v3.1.0_doSensorFlat_rebin2_testWithMaskedEdges_newBoundaries_newPolysRescaled_newFitBounds_adjustA1_lockedOrder2_removeThroughputTails_2.npy\",\n",
    "                    \"v2\" : \"auxtel_atmosphere_202301_v3.1.0_doSensorFlat_rebin2_lockedOrder2_FixA1_FixA2_FitAngstrom_FixA1_FixA2_FitAngstrom_WithGaia_freePressure_newThroughput6_BG40Scaled1.09_PeekFinder.npy\",\n",
    "                    \"v3\" : \"u_dagoret_auxtel_atmosphere_202301_v3.1.0_doSensorFlat_rebin2_lockedOrder2_FixA1_FixA2_FitAngstrom_WithGaia_freePressure_newThroughput6_BG40Scaled1.09_AtmoFitPressureA2_SpecErr_PeekFinder_20240924T161119Z.npy\",\n",
    "                    \"v4\" : \"u_dagoret_auxtel_atmosphere_202301_v3.1.0_doSensorFlat_rebin2_lockedOrder2_FixA1_FixA2_FitAngstrom_WithGaia_freePressure_newThroughput6_BG40Scaled1.09_AtmoFitPressureA2_SpecErr_PeekFinder_20240924T161119Z_spectrfullextend.npy\",\n",
    "                    \"v5\" : \"u_dagoret_auxtel_atmosphere_202209_v3.1.0_doSensorFlat_rebin2_lockedOrder2_FixA1_FixA2_FitAngstrom_WithGaia_freePressure_newThroughput6_BG40Scaled1.09_AtmoFitPressureA2_SpecErr_No5SigmaClip_20241016T184601Z_spectrfullextended.npy\"}"
   ]
  },
  {
   "cell_type": "code",
   "execution_count": null,
   "id": "a2a9c11f-05b8-4465-b96a-3f18d81572f0",
   "metadata": {
    "execution": {
     "iopub.execute_input": "2024-12-10T09:56:29.101198Z",
     "iopub.status.busy": "2024-12-10T09:56:29.101083Z",
     "iopub.status.idle": "2024-12-10T09:56:29.107623Z",
     "shell.execute_reply": "2024-12-10T09:56:29.107195Z",
     "shell.execute_reply.started": "2024-12-10T09:56:29.101187Z"
    }
   },
   "outputs": [],
   "source": [
    "atmfilename = atmfilenamesdict[version_results]\n",
    "tag = legendtag[version_results] "
   ]
  },
  {
   "cell_type": "markdown",
   "id": "f7458eb3-ece8-4c6d-969e-ee8edc0bcbef",
   "metadata": {},
   "source": [
    "## Initialisation"
   ]
  },
  {
   "cell_type": "markdown",
   "id": "862ec9d0-2c81-4fda-8a5a-4ba1d24fb1b0",
   "metadata": {},
   "source": [
    "### Read the file"
   ]
  },
  {
   "cell_type": "code",
   "execution_count": null,
   "id": "ad60336b-f26f-4184-bcdf-e596329ecbbd",
   "metadata": {
    "execution": {
     "iopub.execute_input": "2024-12-10T09:56:29.108159Z",
     "iopub.status.busy": "2024-12-10T09:56:29.108047Z",
     "iopub.status.idle": "2024-12-10T09:56:29.304245Z",
     "shell.execute_reply": "2024-12-10T09:56:29.303747Z",
     "shell.execute_reply.started": "2024-12-10T09:56:29.108148Z"
    }
   },
   "outputs": [],
   "source": [
    "specdata = np.load(atmfilename,allow_pickle=True)"
   ]
  },
  {
   "cell_type": "code",
   "execution_count": null,
   "id": "3d9c7249-f818-4a98-8000-9be75b3c7a21",
   "metadata": {
    "execution": {
     "iopub.execute_input": "2024-12-10T09:56:29.305027Z",
     "iopub.status.busy": "2024-12-10T09:56:29.304865Z",
     "iopub.status.idle": "2024-12-10T09:56:29.322518Z",
     "shell.execute_reply": "2024-12-10T09:56:29.322077Z",
     "shell.execute_reply.started": "2024-12-10T09:56:29.305015Z"
    }
   },
   "outputs": [],
   "source": [
    "df_spec = pd.DataFrame(specdata)"
   ]
  },
  {
   "cell_type": "markdown",
   "id": "58d6f249-61eb-410e-9695-0518e78aeb89",
   "metadata": {},
   "source": [
    "### Remove spectra with red filter"
   ]
  },
  {
   "cell_type": "code",
   "execution_count": null,
   "id": "599b9902-4239-4255-aee8-9b571dea1839",
   "metadata": {
    "execution": {
     "iopub.execute_input": "2024-12-10T09:56:29.323105Z",
     "iopub.status.busy": "2024-12-10T09:56:29.322981Z",
     "iopub.status.idle": "2024-12-10T09:56:29.329347Z",
     "shell.execute_reply": "2024-12-10T09:56:29.328967Z",
     "shell.execute_reply.started": "2024-12-10T09:56:29.323094Z"
    }
   },
   "outputs": [],
   "source": [
    "df_spec['FILTER'].unique()"
   ]
  },
  {
   "cell_type": "code",
   "execution_count": null,
   "id": "f622b991-d9ce-4487-af99-375494ea4c8c",
   "metadata": {
    "execution": {
     "iopub.execute_input": "2024-12-10T09:56:29.331987Z",
     "iopub.status.busy": "2024-12-10T09:56:29.331864Z",
     "iopub.status.idle": "2024-12-10T09:56:29.340669Z",
     "shell.execute_reply": "2024-12-10T09:56:29.340309Z",
     "shell.execute_reply.started": "2024-12-10T09:56:29.331976Z"
    }
   },
   "outputs": [],
   "source": [
    "FLAG_REMOVE_FILTERS = True\n",
    "if FLAG_REMOVE_FILTERS:\n",
    "    df_spec=df_spec[df_spec[\"FILTER\"] == 'empty']\n",
    "    df_spec.reset_index(inplace=True)  "
   ]
  },
  {
   "cell_type": "markdown",
   "id": "62c4f792-6c5c-4c9b-a628-7cf9d0a5c048",
   "metadata": {},
   "source": [
    "### Define if a target is faint or bright"
   ]
  },
  {
   "cell_type": "code",
   "execution_count": null,
   "id": "0a0b1545-f79d-437f-95f2-39f1945cada7",
   "metadata": {
    "execution": {
     "iopub.execute_input": "2024-12-10T09:56:29.341166Z",
     "iopub.status.busy": "2024-12-10T09:56:29.341051Z",
     "iopub.status.idle": "2024-12-10T09:56:29.343704Z",
     "shell.execute_reply": "2024-12-10T09:56:29.343356Z",
     "shell.execute_reply.started": "2024-12-10T09:56:29.341156Z"
    }
   },
   "outputs": [],
   "source": [
    "def IsFaint(row):\n",
    "    List_Of_Faint_targets = ['Feige110','HD074000','HD115169','HD031128','HD200654','HD167060','HD009051','HD142331','HD160617','HD111980']\n",
    "    List_Of_faint_selected = List_Of_Faint_targets[:10]\n",
    "    if row[\"TARGET\"] in List_Of_faint_selected:\n",
    "        return True\n",
    "    else:\n",
    "        return False"
   ]
  },
  {
   "cell_type": "code",
   "execution_count": null,
   "id": "f6232b90-16d5-4cf7-958c-630d298f2583",
   "metadata": {
    "execution": {
     "iopub.execute_input": "2024-12-10T09:56:29.344200Z",
     "iopub.status.busy": "2024-12-10T09:56:29.344083Z",
     "iopub.status.idle": "2024-12-10T09:56:29.395806Z",
     "shell.execute_reply": "2024-12-10T09:56:29.395344Z",
     "shell.execute_reply.started": "2024-12-10T09:56:29.344189Z"
    }
   },
   "outputs": [],
   "source": [
    "df_spec[\"isFaint\"] = df_spec.apply(IsFaint,axis=1)"
   ]
  },
  {
   "cell_type": "markdown",
   "id": "18c6084d-c8db-4275-a950-1b8a355c6dec",
   "metadata": {},
   "source": [
    "### Compute NightObs"
   ]
  },
  {
   "cell_type": "code",
   "execution_count": null,
   "id": "4de5d570-2e92-468b-ab07-63fffd8d2b8c",
   "metadata": {
    "execution": {
     "iopub.execute_input": "2024-12-10T09:56:29.396409Z",
     "iopub.status.busy": "2024-12-10T09:56:29.396280Z",
     "iopub.status.idle": "2024-12-10T09:56:29.443766Z",
     "shell.execute_reply": "2024-12-10T09:56:29.443302Z",
     "shell.execute_reply.started": "2024-12-10T09:56:29.396398Z"
    }
   },
   "outputs": [],
   "source": [
    "df_spec[\"nightObs\"] = df_spec.apply(lambda x: x['id']//100_000, axis=1)"
   ]
  },
  {
   "cell_type": "code",
   "execution_count": null,
   "id": "41d0454f-dbb9-4242-861b-78d4392ef6ab",
   "metadata": {
    "execution": {
     "iopub.execute_input": "2024-12-10T09:56:29.444385Z",
     "iopub.status.busy": "2024-12-10T09:56:29.444251Z",
     "iopub.status.idle": "2024-12-10T09:56:29.446670Z",
     "shell.execute_reply": "2024-12-10T09:56:29.446312Z",
     "shell.execute_reply.started": "2024-12-10T09:56:29.444373Z"
    }
   },
   "outputs": [],
   "source": [
    "if FLAG_WITHCOLLIMATOR:\n",
    "    df_spec = df_spec[df_spec[\"nightObs\"]> DATE_WITHCOLLIMATOR]"
   ]
  },
  {
   "cell_type": "markdown",
   "id": "a4f8b443-4bc5-46fc-a548-33441edee6da",
   "metadata": {},
   "source": [
    "## Apply Quality selection"
   ]
  },
  {
   "cell_type": "code",
   "execution_count": null,
   "id": "2325b3ff-29c2-445a-b25e-cc11aba4f45a",
   "metadata": {
    "execution": {
     "iopub.execute_input": "2024-12-10T09:56:29.447193Z",
     "iopub.status.busy": "2024-12-10T09:56:29.447075Z",
     "iopub.status.idle": "2024-12-10T09:56:29.673816Z",
     "shell.execute_reply": "2024-12-10T09:56:29.673429Z",
     "shell.execute_reply.started": "2024-12-10T09:56:29.447182Z"
    },
    "tags": []
   },
   "outputs": [],
   "source": [
    "fig,ax = plt.subplots(1,1)\n",
    "df_spec[\"CHI2_FIT\"].hist(bins=50,ax=ax,range=(0,200))\n",
    "ax.set_yscale(\"log\")"
   ]
  },
  {
   "cell_type": "markdown",
   "id": "bed85d32-aad9-4eb1-9927-2672e2e0b237",
   "metadata": {},
   "source": [
    "### Add the Time in pd.datetime"
   ]
  },
  {
   "cell_type": "markdown",
   "id": "7257c7bd-d5d7-456f-8f51-4321bc715a56",
   "metadata": {},
   "source": [
    "#### UTC"
   ]
  },
  {
   "cell_type": "code",
   "execution_count": null,
   "id": "0d10c1ad-c5dc-4487-baa9-7c71ec531f45",
   "metadata": {
    "execution": {
     "iopub.execute_input": "2024-12-10T09:56:29.674530Z",
     "iopub.status.busy": "2024-12-10T09:56:29.674378Z",
     "iopub.status.idle": "2024-12-10T09:56:29.681165Z",
     "shell.execute_reply": "2024-12-10T09:56:29.680809Z",
     "shell.execute_reply.started": "2024-12-10T09:56:29.674513Z"
    }
   },
   "outputs": [],
   "source": [
    "df_spec[\"Time\"] = pd.to_datetime(df_spec[\"DATE-OBS\"])"
   ]
  },
  {
   "cell_type": "code",
   "execution_count": null,
   "id": "405b9210-7708-4fc7-b303-34d41a0e8c80",
   "metadata": {
    "execution": {
     "iopub.execute_input": "2024-12-10T09:56:29.681727Z",
     "iopub.status.busy": "2024-12-10T09:56:29.681606Z",
     "iopub.status.idle": "2024-12-10T09:56:29.689052Z",
     "shell.execute_reply": "2024-12-10T09:56:29.688647Z",
     "shell.execute_reply.started": "2024-12-10T09:56:29.681716Z"
    }
   },
   "outputs": [],
   "source": [
    "DT = pd.Timedelta(minutes=7*24*60)\n",
    "TMIN  = df_spec[\"Time\"].min()-DT\n",
    "TMAX  = df_spec[\"Time\"].max()+DT"
   ]
  },
  {
   "cell_type": "markdown",
   "id": "4a695ffa-6264-4bd8-b740-061545ba869a",
   "metadata": {},
   "source": [
    "### Compute relative time to Mid-night"
   ]
  },
  {
   "cell_type": "code",
   "execution_count": null,
   "id": "0c7f58cd-73e2-40a8-85b4-48275727f15b",
   "metadata": {
    "execution": {
     "iopub.execute_input": "2024-12-10T09:56:29.689739Z",
     "iopub.status.busy": "2024-12-10T09:56:29.689612Z",
     "iopub.status.idle": "2024-12-10T09:56:29.695548Z",
     "shell.execute_reply": "2024-12-10T09:56:29.695189Z",
     "shell.execute_reply.started": "2024-12-10T09:56:29.689727Z"
    }
   },
   "outputs": [],
   "source": [
    "def GetTimeToMidNight(row):\n",
    "    observing_time = Time(row['DATE-OBS'], scale='utc', location=observing_location)\n",
    "\n",
    "    # time at the location , either before or after midnight\n",
    "    local_time =  observing_time.to_datetime(timezone=tz)\n",
    "\n",
    "    # take time independent  of any location now\n",
    "    local_time_new = datetime(local_time.year,local_time.month,local_time.day,local_time.hour,local_time.minute,local_time.second)\n",
    "    local_time_midnight = datetime(local_time_new.year,local_time_new.month,local_time_new.day)\n",
    "    dt_hour = (local_time_new -local_time_midnight).seconds/3600.\n",
    "\n",
    "    # we took the previous night mid-night , must subtract 24H\n",
    "    if dt_hour > 12.:\n",
    "        dt_hour_new = (dt_hour - 24.)\n",
    "    else:\n",
    "        dt_hour_new = dt_hour\n",
    "        \n",
    "    return dt_hour_new"
   ]
  },
  {
   "cell_type": "code",
   "execution_count": null,
   "id": "66f78ba1-b65e-4728-bb9f-e4abf7ad7a3b",
   "metadata": {
    "execution": {
     "iopub.execute_input": "2024-12-10T09:56:29.696069Z",
     "iopub.status.busy": "2024-12-10T09:56:29.695953Z",
     "iopub.status.idle": "2024-12-10T09:56:32.201393Z",
     "shell.execute_reply": "2024-12-10T09:56:32.200947Z",
     "shell.execute_reply.started": "2024-12-10T09:56:29.696058Z"
    }
   },
   "outputs": [],
   "source": [
    "df_spec[\"dt_midnight\"] = df_spec.apply(GetTimeToMidNight,axis=1)"
   ]
  },
  {
   "cell_type": "code",
   "execution_count": null,
   "id": "fd51b32f-f238-4737-a970-15805e837de5",
   "metadata": {
    "execution": {
     "iopub.execute_input": "2024-12-10T09:56:32.201962Z",
     "iopub.status.busy": "2024-12-10T09:56:32.201839Z",
     "iopub.status.idle": "2024-12-10T09:56:32.318376Z",
     "shell.execute_reply": "2024-12-10T09:56:32.317995Z",
     "shell.execute_reply.started": "2024-12-10T09:56:32.201951Z"
    }
   },
   "outputs": [],
   "source": [
    "fig,ax = plt.subplots(1,1,figsize=(6,4))\n",
    "df_spec[\"dt_midnight\"].hist(bins=48,range=(-12,12),ax=ax,facecolor=\"blue\") \n",
    "ax.set_xlabel(\"time relative to midnight (hour)\")\n",
    "ax.set_title(\"Observation time\")"
   ]
  },
  {
   "cell_type": "markdown",
   "id": "c417c123-6bab-472b-994b-d6abb1ba59b8",
   "metadata": {},
   "source": [
    "### Compute Date relative to January"
   ]
  },
  {
   "cell_type": "code",
   "execution_count": null,
   "id": "dba17d2a-eed3-43a8-9ca6-6ce7be70faf6",
   "metadata": {
    "execution": {
     "iopub.execute_input": "2024-12-10T09:56:32.318961Z",
     "iopub.status.busy": "2024-12-10T09:56:32.318837Z",
     "iopub.status.idle": "2024-12-10T09:56:32.321576Z",
     "shell.execute_reply": "2024-12-10T09:56:32.321225Z",
     "shell.execute_reply.started": "2024-12-10T09:56:32.318950Z"
    }
   },
   "outputs": [],
   "source": [
    "def GetDateToMidJanuary(row):\n",
    "    observing_time = Time(row['DATE-OBS'], scale='utc', location=observing_location)\n",
    "\n",
    "    # time at the location , either before or after midnight\n",
    "    local_time =  observing_time.to_datetime(timezone=tz)\n",
    "\n",
    "    # take time independent  of any location now\n",
    "    local_time_new = datetime(2024,local_time.month,local_time.day,local_time.hour,local_time.minute,local_time.second)\n",
    "    \n",
    "          \n",
    "    return pd.to_datetime(local_time_new)"
   ]
  },
  {
   "cell_type": "code",
   "execution_count": null,
   "id": "bc8ed610-00d8-426f-b23e-7df387c45de4",
   "metadata": {
    "execution": {
     "iopub.execute_input": "2024-12-10T09:56:32.322054Z",
     "iopub.status.busy": "2024-12-10T09:56:32.321944Z",
     "iopub.status.idle": "2024-12-10T09:56:32.328148Z",
     "shell.execute_reply": "2024-12-10T09:56:32.327802Z",
     "shell.execute_reply.started": "2024-12-10T09:56:32.322043Z"
    }
   },
   "outputs": [],
   "source": [
    "#df_spec[\"Time_january\"] = df_spec.apply(GetDateToMidJanuary,axis=1)"
   ]
  },
  {
   "cell_type": "code",
   "execution_count": null,
   "id": "eeda27c7-a3c2-4f41-aebd-ce30f88a7e08",
   "metadata": {
    "execution": {
     "iopub.execute_input": "2024-12-10T09:56:32.328523Z",
     "iopub.status.busy": "2024-12-10T09:56:32.328417Z",
     "iopub.status.idle": "2024-12-10T09:56:32.334548Z",
     "shell.execute_reply": "2024-12-10T09:56:32.334159Z",
     "shell.execute_reply.started": "2024-12-10T09:56:32.328512Z"
    }
   },
   "outputs": [],
   "source": [
    "def GetDateToMidJanuaryAndYear(row):\n",
    "    observing_time = Time(row['DATE-OBS'], scale='utc', location=observing_location)\n",
    "\n",
    "    # time at the location , either before or after midnight\n",
    "    local_time =  observing_time.to_datetime(timezone=tz)\n",
    "\n",
    "    # take time independent  of any location now\n",
    "    local_time_new = datetime(2024,local_time.month,local_time.day,local_time.hour,local_time.minute,local_time.second)\n",
    "           \n",
    "    return pd.to_datetime(local_time_new),local_time.year "
   ]
  },
  {
   "cell_type": "code",
   "execution_count": null,
   "id": "93dcc2d7-fa80-42a4-9a3c-0ed63e178baf",
   "metadata": {
    "execution": {
     "iopub.execute_input": "2024-12-10T09:56:32.335012Z",
     "iopub.status.busy": "2024-12-10T09:56:32.334900Z",
     "iopub.status.idle": "2024-12-10T09:56:35.368148Z",
     "shell.execute_reply": "2024-12-10T09:56:35.367734Z",
     "shell.execute_reply.started": "2024-12-10T09:56:32.335001Z"
    }
   },
   "outputs": [],
   "source": [
    "df_spec[[\"Time_january\",\"Year\"]] = df_spec.apply(GetDateToMidJanuaryAndYear,axis=1,result_type=\"expand\")"
   ]
  },
  {
   "cell_type": "code",
   "execution_count": null,
   "id": "132896be-138d-4a8d-ac71-b687859fe04c",
   "metadata": {
    "execution": {
     "iopub.execute_input": "2024-12-10T09:56:35.368838Z",
     "iopub.status.busy": "2024-12-10T09:56:35.368657Z",
     "iopub.status.idle": "2024-12-10T09:56:35.380499Z",
     "shell.execute_reply": "2024-12-10T09:56:35.380147Z",
     "shell.execute_reply.started": "2024-12-10T09:56:35.368820Z"
    }
   },
   "outputs": [],
   "source": [
    "df_spec[[\"Time_january\",\"Year\"]]"
   ]
  },
  {
   "cell_type": "markdown",
   "id": "96512b2a-93e2-4911-a11f-530f4d13229a",
   "metadata": {},
   "source": [
    "## Compute night boundaries"
   ]
  },
  {
   "cell_type": "code",
   "execution_count": null,
   "id": "c6d2eb8d-e7ab-4c45-8db9-07706079d932",
   "metadata": {
    "execution": {
     "iopub.execute_input": "2024-12-10T09:56:35.381031Z",
     "iopub.status.busy": "2024-12-10T09:56:35.380911Z",
     "iopub.status.idle": "2024-12-10T09:56:35.383963Z",
     "shell.execute_reply": "2024-12-10T09:56:35.383622Z",
     "shell.execute_reply.started": "2024-12-10T09:56:35.381020Z"
    }
   },
   "outputs": [],
   "source": [
    "def GetNightBoundariesDict(df_spec):\n",
    "    \"\"\"\n",
    "    input:\n",
    "      df_spec the dataframe for spectroscopy summary results\n",
    "    output:\n",
    "      the dict of night boudaries\n",
    "    \"\"\"\n",
    "    \n",
    "    Dt = pd.Timedelta(minutes=30)\n",
    "    d = {}\n",
    "    list_of_nightobs = df_spec[\"nightObs\"].unique()\n",
    "    for nightobs in list_of_nightobs:\n",
    "        sel_flag = df_spec[\"nightObs\"]== nightobs\n",
    "        df_night = df_spec[sel_flag]\n",
    "        tmin = df_night[\"Time\"].min()-Dt\n",
    "        tmax = df_night[\"Time\"].max()+Dt\n",
    "        d[nightobs] = (tmin,tmax)\n",
    "    return d"
   ]
  },
  {
   "cell_type": "code",
   "execution_count": null,
   "id": "1d501ce6-4b93-445f-b2f1-9ebdb5fe2dbc",
   "metadata": {
    "execution": {
     "iopub.execute_input": "2024-12-10T09:56:35.384574Z",
     "iopub.status.busy": "2024-12-10T09:56:35.384397Z",
     "iopub.status.idle": "2024-12-10T09:56:35.459449Z",
     "shell.execute_reply": "2024-12-10T09:56:35.459089Z",
     "shell.execute_reply.started": "2024-12-10T09:56:35.384556Z"
    }
   },
   "outputs": [],
   "source": [
    "dn = GetNightBoundariesDict(df_spec)"
   ]
  },
  {
   "cell_type": "markdown",
   "id": "66f5730e-37e1-4ead-ab78-f79dd6273107",
   "metadata": {},
   "source": [
    "## Plot all data"
   ]
  },
  {
   "cell_type": "markdown",
   "id": "564f9a05-b3e2-4d61-9457-cda76ebd2a1b",
   "metadata": {},
   "source": [
    "## Apply Quality selection cuts"
   ]
  },
  {
   "cell_type": "code",
   "execution_count": null,
   "id": "4507d45c-4df8-4ab6-906e-282709ee4048",
   "metadata": {
    "execution": {
     "iopub.execute_input": "2024-12-10T09:56:35.459947Z",
     "iopub.status.busy": "2024-12-10T09:56:35.459832Z",
     "iopub.status.idle": "2024-12-10T09:56:35.462294Z",
     "shell.execute_reply": "2024-12-10T09:56:35.461894Z",
     "shell.execute_reply.started": "2024-12-10T09:56:35.459937Z"
    },
    "tags": []
   },
   "outputs": [],
   "source": [
    "def getSelectionCut_old(df_spec, chi2max=20., o3min=1.0, o3max = 599.):\n",
    "    cut =  (df_spec[\"CHI2_FIT\"]<chi2max) & (df_spec[\"ozone [db]_x\"] > o3min) & (df_spec[\"ozone [db]_x\"] < o3max) \n",
    "    return cut"
   ]
  },
  {
   "cell_type": "code",
   "execution_count": null,
   "id": "cefe8b67-34bc-4490-9bee-de492defc61b",
   "metadata": {
    "execution": {
     "iopub.execute_input": "2024-12-10T09:56:35.462816Z",
     "iopub.status.busy": "2024-12-10T09:56:35.462701Z",
     "iopub.status.idle": "2024-12-10T09:56:35.469068Z",
     "shell.execute_reply": "2024-12-10T09:56:35.468726Z",
     "shell.execute_reply.started": "2024-12-10T09:56:35.462806Z"
    }
   },
   "outputs": [],
   "source": [
    "def getSelectionCut(df_spec, chi2max=20., pwvmin=0.1, pwvmax = 14.9,ozmin=100.,ozmax=600.):\n",
    "    cut =  (df_spec[\"CHI2_FIT\"]<chi2max) & (df_spec[\"PWV [mm]_x\"] > pwvmin) & (df_spec[\"PWV [mm]_x\"] < pwvmax) & (df_spec[\"D2CCD\"]>186.5) &  (df_spec[\"D2CCD\"]<187.3) & \\\n",
    "    (df_spec['EXPTIME'] > 20.) & (df_spec[\"PWV [mm]_y\"] > pwvmin) & (df_spec[\"PWV [mm]_y\"] < pwvmax) & (df_spec[\"ozone [db]_y\"] > ozmin) & (df_spec[\"ozone [db]_y\"] < ozmax) \n",
    "    return cut"
   ]
  },
  {
   "cell_type": "code",
   "execution_count": null,
   "id": "b7c8f122-8343-4961-8875-a999da39ab59",
   "metadata": {
    "execution": {
     "iopub.execute_input": "2024-12-10T09:56:35.469544Z",
     "iopub.status.busy": "2024-12-10T09:56:35.469432Z",
     "iopub.status.idle": "2024-12-10T09:56:35.475572Z",
     "shell.execute_reply": "2024-12-10T09:56:35.475223Z",
     "shell.execute_reply.started": "2024-12-10T09:56:35.469534Z"
    },
    "tags": []
   },
   "outputs": [],
   "source": [
    "def getSelectionCutNoPolar(df_spec, chi2max=20., pwvmin=0.1, pwvmax = 14.9,ozmin=100.,ozmax=600.):\n",
    "    cut =  (df_spec[\"CHI2_FIT\"]<chi2max) & (df_spec[\"PWV [mm]_x\"] > pwvmin) & (df_spec[\"PWV [mm]_x\"] < pwvmax) & (df_spec[\"D2CCD\"]>186.5) &  (df_spec[\"D2CCD\"]<187.3) & \\\n",
    "    (df_spec['EXPTIME'] > 20.) & (df_spec[\"PWV [mm]_y\"] > pwvmin) & (df_spec[\"PWV [mm]_y\"] < pwvmax) & \\\n",
    "    (df_spec[\"ozone [db]_y\"] > ozmin) & (df_spec[\"ozone [db]_y\"] < ozmax) & (df_spec[\"TARGET\"] != \"HD185975\")\n",
    "    return cut"
   ]
  },
  {
   "cell_type": "code",
   "execution_count": null,
   "id": "4a8cbda1-38dd-4127-84c1-5ea57ab57c61",
   "metadata": {
    "execution": {
     "iopub.execute_input": "2024-12-10T09:56:35.476067Z",
     "iopub.status.busy": "2024-12-10T09:56:35.475953Z",
     "iopub.status.idle": "2024-12-10T09:56:35.482284Z",
     "shell.execute_reply": "2024-12-10T09:56:35.481897Z",
     "shell.execute_reply.started": "2024-12-10T09:56:35.476057Z"
    }
   },
   "outputs": [],
   "source": [
    "def getSelectionCutWithPolar(df_spec, chi2max=20., pwvmin=0.1, pwvmax = 14.9,ozmin=100.,ozmax=600.):\n",
    "    cut =  (df_spec[\"CHI2_FIT\"]<chi2max) & (df_spec[\"PWV [mm]_x\"] > pwvmin) & (df_spec[\"PWV [mm]_x\"] < pwvmax) & (df_spec[\"D2CCD\"]>186.5) &  (df_spec[\"D2CCD\"]<187.3) & \\\n",
    "    (df_spec['EXPTIME'] > 20.) & (df_spec[\"PWV [mm]_y\"] > pwvmin) & (df_spec[\"PWV [mm]_y\"] < pwvmax) & \\\n",
    "    (df_spec[\"ozone [db]_y\"] > ozmin) & (df_spec[\"ozone [db]_y\"] < ozmax) & (df_spec[\"TARGET\"] == \"HD185975\")\n",
    "    return cut"
   ]
  },
  {
   "cell_type": "code",
   "execution_count": null,
   "id": "eb50d3a2-717c-49ad-9085-6901f4705903",
   "metadata": {
    "execution": {
     "iopub.execute_input": "2024-12-10T09:56:35.482906Z",
     "iopub.status.busy": "2024-12-10T09:56:35.482762Z",
     "iopub.status.idle": "2024-12-10T09:56:35.495057Z",
     "shell.execute_reply": "2024-12-10T09:56:35.494711Z",
     "shell.execute_reply.started": "2024-12-10T09:56:35.482893Z"
    },
    "tags": []
   },
   "outputs": [],
   "source": [
    "cut = getSelectionCut(df_spec) \n",
    "cut_nopolar_bright = getSelectionCutNoPolar(df_spec) & (~df_spec[\"isFaint\"])\n",
    "cut_nopolar_faint = getSelectionCutNoPolar(df_spec) & (df_spec[\"isFaint\"])\n",
    "cut_wthpolar = getSelectionCutWithPolar(df_spec)\n",
    "cut_nopolar = getSelectionCutNoPolar(df_spec)"
   ]
  },
  {
   "cell_type": "code",
   "execution_count": null,
   "id": "e1cbfa40-4395-47f4-9acf-6a9f531fabd4",
   "metadata": {
    "execution": {
     "iopub.execute_input": "2024-12-10T09:56:35.495562Z",
     "iopub.status.busy": "2024-12-10T09:56:35.495448Z",
     "iopub.status.idle": "2024-12-10T09:56:35.501047Z",
     "shell.execute_reply": "2024-12-10T09:56:35.500702Z",
     "shell.execute_reply.started": "2024-12-10T09:56:35.495551Z"
    }
   },
   "outputs": [],
   "source": [
    "df_spec_sel = df_spec[cut]\n",
    "df_spec_np_b = df_spec[cut_nopolar_bright]\n",
    "df_spec_np_f = df_spec[cut_nopolar_faint]\n",
    "df_spec_wp = df_spec[cut_wthpolar]\n",
    "df_spec_np = df_spec[cut_nopolar] "
   ]
  },
  {
   "cell_type": "code",
   "execution_count": null,
   "id": "3ae63d65-ebbb-4fa1-92bb-7cecf0ef37c5",
   "metadata": {
    "execution": {
     "iopub.execute_input": "2024-12-10T09:56:35.501533Z",
     "iopub.status.busy": "2024-12-10T09:56:35.501421Z",
     "iopub.status.idle": "2024-12-10T09:56:35.508534Z",
     "shell.execute_reply": "2024-12-10T09:56:35.508137Z",
     "shell.execute_reply.started": "2024-12-10T09:56:35.501523Z"
    }
   },
   "outputs": [],
   "source": [
    "print(\"Total number of Spectra          : \",len(df_spec))\n",
    "print(\"Number of selected Spectra       : \",len(df_spec_sel))\n",
    "print(\"Number of selected Polars        : \",len(df_spec_wp))\n",
    "print(\"Number of selected Non-Polars    : \",len(df_spec_np))\n",
    "print(\"Number of selected Non-Polars Bright : \",len(df_spec_np_b))\n",
    "print(\"Number of selected Non-Polars Faint  : \",len(df_spec_np_f))"
   ]
  },
  {
   "cell_type": "code",
   "execution_count": null,
   "id": "bae62b07-17d4-423e-bdfe-634272a040a2",
   "metadata": {
    "execution": {
     "iopub.execute_input": "2024-12-10T09:56:35.509003Z",
     "iopub.status.busy": "2024-12-10T09:56:35.508893Z",
     "iopub.status.idle": "2024-12-10T09:56:35.514342Z",
     "shell.execute_reply": "2024-12-10T09:56:35.514004Z",
     "shell.execute_reply.started": "2024-12-10T09:56:35.508993Z"
    },
    "tags": []
   },
   "outputs": [],
   "source": [
    "df_spec_sel.reset_index(drop=True,inplace=True)\n",
    "df_spec_np_b.reset_index(drop=True,inplace=True)\n",
    "df_spec_np_f.reset_index(drop=True,inplace=True)\n",
    "df_spec_wp.reset_index(drop=True,inplace=True) \n",
    "df_spec_np.reset_index(drop=True,inplace=True)"
   ]
  },
  {
   "cell_type": "code",
   "execution_count": null,
   "id": "43b390dd-bf7b-4e96-bb20-4408324d21dc",
   "metadata": {
    "execution": {
     "iopub.execute_input": "2024-12-10T09:56:35.514857Z",
     "iopub.status.busy": "2024-12-10T09:56:35.514744Z",
     "iopub.status.idle": "2024-12-10T09:56:35.521887Z",
     "shell.execute_reply": "2024-12-10T09:56:35.521516Z",
     "shell.execute_reply.started": "2024-12-10T09:56:35.514846Z"
    }
   },
   "outputs": [],
   "source": [
    "#List_Of_Faint_targets = ['Feige110','HD074000','HD115169','HD031128','HD200654','HD167060','HD009051','HD142331','HD160617','HD111980']\n",
    "print(\"Polar            :\",len(df_spec_wp[\"TARGET\"].unique()),\"\\t\", df_spec_wp[\"TARGET\"].unique()) \n",
    "print(\"Non Polar        :\",len(df_spec_np[\"TARGET\"].unique()),\"\\t\" ,df_spec_np[\"TARGET\"].unique())\n",
    "print(\"Non Polar Bright :\",len(df_spec_np_b[\"TARGET\"].unique()),\"\\t\" ,df_spec_np_b[\"TARGET\"].unique())\n",
    "print(\"Non Polar Faint  :\",len(df_spec_np_f[\"TARGET\"].unique()),\"\\t\",df_spec_np_f[\"TARGET\"].unique())"
   ]
  },
  {
   "cell_type": "markdown",
   "id": "f8bc5aeb-ed74-48a0-88a2-49eb1ae2ff4d",
   "metadata": {
    "tags": []
   },
   "source": [
    "## Recompute night boundaries"
   ]
  },
  {
   "cell_type": "code",
   "execution_count": null,
   "id": "41e2df17-41d6-4e84-8135-ccca5c7086a2",
   "metadata": {
    "execution": {
     "iopub.execute_input": "2024-12-10T09:56:35.522286Z",
     "iopub.status.busy": "2024-12-10T09:56:35.522172Z",
     "iopub.status.idle": "2024-12-10T09:56:35.526901Z",
     "shell.execute_reply": "2024-12-10T09:56:35.526564Z",
     "shell.execute_reply.started": "2024-12-10T09:56:35.522275Z"
    },
    "tags": []
   },
   "outputs": [],
   "source": [
    "#dn = GetNightBoundariesDict(df_spec_sel)"
   ]
  },
  {
   "cell_type": "markdown",
   "id": "6c4212d5-3f49-41f3-9ba9-42ac23b2f2dd",
   "metadata": {},
   "source": [
    "## Plot all data"
   ]
  },
  {
   "cell_type": "code",
   "execution_count": null,
   "id": "58b3d86e-7a6a-4685-8f5c-af994b7b2164",
   "metadata": {
    "execution": {
     "iopub.execute_input": "2024-12-10T09:56:35.527385Z",
     "iopub.status.busy": "2024-12-10T09:56:35.527272Z",
     "iopub.status.idle": "2024-12-10T09:56:36.258065Z",
     "shell.execute_reply": "2024-12-10T09:56:36.257654Z",
     "shell.execute_reply.started": "2024-12-10T09:56:35.527375Z"
    },
    "tags": []
   },
   "outputs": [],
   "source": [
    "from matplotlib.dates import DateFormatter\n",
    "#date_form = DateFormatter(\"%y-%m-%dT%H:%M\")\n",
    "date_form = DateFormatter(\"%y-%m-%d\")\n",
    "fig,axs = plt.subplots(1,1,figsize=(14,6),layout='constrained')\n",
    "ax  = axs\n",
    "leg=ax.get_legend()\n",
    "\n",
    "ax.set_xlim(TMIN,TMAX) \n",
    "\n",
    "#df_spec_sel.plot(x=\"Time\",y=\"ozone [db]_x\",ax=ax,marker='o',c=\"r\",lw=0.0,grid=True,label=tag,legend=leg,ms=5,alpha=0.2)\n",
    "#df_spec_np_f.plot(x=\"Time\",y=\"ozone [db]_x\",ax=ax,marker='o',c=\"grey\",lw=0.0,grid=True,label=\"faint, no polar\",legend=leg,ms=5,alpha=0.2)\n",
    "\n",
    "df_spec_np.plot(x=\"Time\",y=\"ozone [db]_x\",ax=ax,marker='+',c=\"orange\",lw=0.0,grid=True,label=\"no polar\",legend=leg,ms=5,alpha=1)\n",
    "df_spec_np_b.plot(x=\"Time\",y=\"ozone [db]_x\",ax=ax,marker='+',c=\"r\",lw=0.0,grid=True,label=\"bright,no polar\",legend=leg,ms=5,alpha=1)\n",
    "df_spec_wp.plot(x=\"Time\",y=\"ozone [db]_x\",ax=ax,marker='+',c=\"g\",lw=0.0,grid=True,label=\"with polar\",legend=leg,ms=5,alpha=1)\n",
    "ax.set_ylabel(\"ozone [db]_x\")\n",
    "\n",
    "ax.set_xlabel(\"time\")\n",
    "ax.xaxis.set_major_formatter(date_form)\n",
    "ax.set_title(\"Ozone measured by holo selected vs time\",fontweight=\"bold\")\n",
    "ax.legend(loc=\"upper right\")\n",
    "ax.set_ylim(100.,600.)\n",
    "\n",
    "for key, tt in dn.items():\n",
    "    ax.axvspan(tt[0],tt[1], color='blue', alpha=0.1)\n",
    "\n",
    "\n",
    "ax.axvspan(TMIN,datetime_WITHCOLLIMATOR, color='yellow', alpha=0.1)\n",
    "\n",
    "\n",
    "figname =f\"{pathfigs}/ozone_allpoints_allnights_wthcuts\"+figtype\n",
    "plt.savefig(figname)\n",
    "plt.show()"
   ]
  },
  {
   "cell_type": "code",
   "execution_count": null,
   "id": "dd316818-ce54-41a1-9de1-cc415f6190b6",
   "metadata": {
    "execution": {
     "iopub.execute_input": "2024-12-10T09:56:36.258682Z",
     "iopub.status.busy": "2024-12-10T09:56:36.258553Z",
     "iopub.status.idle": "2024-12-10T09:56:37.552212Z",
     "shell.execute_reply": "2024-12-10T09:56:37.551814Z",
     "shell.execute_reply.started": "2024-12-10T09:56:36.258670Z"
    }
   },
   "outputs": [],
   "source": [
    "from matplotlib.dates import DateFormatter\n",
    "#date_form = DateFormatter(\"%y-%m-%dT%H:%M\")\n",
    "date_form = DateFormatter(\"%y-%m-%d\")\n",
    "\n",
    "fig = plt.figure(figsize=(14,8),layout='constrained')\n",
    "gs = GridSpec(2, 1,  height_ratios=[1,2],figure=fig)\n",
    "\n",
    "# left figure\n",
    "ax = fig.add_subplot(gs[0])\n",
    "ax2 = fig.add_subplot(gs[1],sharex=ax)\n",
    "\n",
    "leg=ax.get_legend()\n",
    "leg2=ax2.get_legend()\n",
    "\n",
    "# top\n",
    "ax.set_xlim(TMIN,TMAX)   \n",
    "ax.set_ylabel(\"ozone (DU)\")\n",
    "ax.set_ylim(200.,400.)\n",
    "ax.legend()\n",
    "\n",
    "#bottom\n",
    "df_spec_np.plot(x=\"Time\",y=\"ozone [db]_x\",ax=ax2,marker='+',c=\"orange\",lw=0.0,grid=True,label=\"no polar\",legend=leg2,ms=5,alpha=1)\n",
    "df_spec_np_b.plot(x=\"Time\",y=\"ozone [db]_x\",ax=ax2,marker='+',c=\"r\",lw=0.0,grid=True,label=\"bright,no polar\",legend=leg2,ms=5,alpha=1)\n",
    "df_spec_wp.plot(x=\"Time\",y=\"ozone [db]_x\",ax=ax2,marker='+',c=\"g\",lw=0.0,grid=True,label=\"with polar\",legend=leg2,ms=5,alpha=1)\n",
    "ax2.set_ylabel(\"ozone [db]_x\")\n",
    "\n",
    "ax2.set_xlabel(\"time\")\n",
    "ax2.xaxis.set_major_formatter(date_form)\n",
    "ax.set_title(\"Ozone measured by holo selected vs time\",fontweight=\"bold\")\n",
    "ax2.legend(loc=\"upper right\")\n",
    "ax2.set_ylim(100.,600.)\n",
    "for key, tt in dn.items():\n",
    "    ax2.axvspan(tt[0],tt[1], color='blue', alpha=0.1)\n",
    "\n",
    "\n",
    "ax2.axvspan(TMIN,datetime_WITHCOLLIMATOR, color='yellow', alpha=0.1)\n",
    "\n",
    "\n",
    "figname =f\"{pathfigs}/ozone_allpoints_allnights_wthcuts_separatemeera\"+figtype\n",
    "plt.savefig(figname)\n",
    "plt.show()"
   ]
  },
  {
   "cell_type": "code",
   "execution_count": null,
   "id": "6032eff3-f95f-4d0e-b329-e75077742012",
   "metadata": {
    "execution": {
     "iopub.execute_input": "2024-12-10T09:56:37.552813Z",
     "iopub.status.busy": "2024-12-10T09:56:37.552683Z",
     "iopub.status.idle": "2024-12-10T09:56:37.713470Z",
     "shell.execute_reply": "2024-12-10T09:56:37.713113Z",
     "shell.execute_reply.started": "2024-12-10T09:56:37.552801Z"
    }
   },
   "outputs": [],
   "source": [
    "fig,axs = plt.subplots(1,1,figsize=(6,4),layout='constrained')\n",
    "ax  = axs\n",
    "leg=ax.get_legend()\n",
    "df_spec_wp.plot(x=\"dt_midnight\",y=\"ozone [db]_x\",ax=ax,marker='+',c=\"g\",lw=0.0,grid=True,label=\"with polar\",legend=leg,ms=5,alpha=0.5)\n",
    "ax.set_ylim(200.,500.)\n",
    "ax.legend()\n",
    "ax.set_xlabel(\"time relative to midnight (hour)\")\n",
    "ax.set_title(\"Ozone\")\n",
    "ax.set_ylabel(\"Ozone (DU)\")"
   ]
  },
  {
   "cell_type": "code",
   "execution_count": null,
   "id": "40bdd519-c109-4956-a099-a7892b4111d6",
   "metadata": {
    "execution": {
     "iopub.execute_input": "2024-12-10T09:56:37.714007Z",
     "iopub.status.busy": "2024-12-10T09:56:37.713885Z",
     "iopub.status.idle": "2024-12-10T09:56:37.897894Z",
     "shell.execute_reply": "2024-12-10T09:56:37.897552Z",
     "shell.execute_reply.started": "2024-12-10T09:56:37.713996Z"
    }
   },
   "outputs": [],
   "source": [
    "fig,axs = plt.subplots(1,1,figsize=(6,6),layout='constrained')\n",
    "ax  = axs\n",
    "leg=ax.get_legend()\n",
    "ax.plot([0.,600.],[0.,600.],\"k-\")\n",
    "df_spec_wp.plot(x=\"ozone [db]_x\",y=\"ozone [db]_y\",ax=ax,marker='+',c=\"g\",lw=0.0,grid=True,label=\"polar\",legend=leg,ms=5,alpha=0.5)\n",
    "df_spec_np.plot(x=\"ozone [db]_x\",y=\"ozone [db]_y\",ax=ax,marker='+',c=\"r\",lw=0.0,grid=True,label=\"no polar\",legend=leg,ms=5,alpha=0.5)\n",
    "ax.set_ylim(0.,600.)\n",
    "ax.set_xlim(0.,600.)\n",
    "\n",
    "ax.legend()\n",
    "ax.set_xlabel(\"Ozone_x (DU)\")\n",
    "ax.set_title(\"Correlation Ozone 1D-2D\")\n",
    "ax.set_ylabel(\"Ozone_y (DU)\")"
   ]
  },
  {
   "cell_type": "code",
   "execution_count": null,
   "id": "a2356590-e05c-4547-a601-4e88903a949e",
   "metadata": {
    "execution": {
     "iopub.execute_input": "2024-12-10T09:56:37.898443Z",
     "iopub.status.busy": "2024-12-10T09:56:37.898323Z",
     "iopub.status.idle": "2024-12-10T09:56:37.900374Z",
     "shell.execute_reply": "2024-12-10T09:56:37.900039Z",
     "shell.execute_reply.started": "2024-12-10T09:56:37.898432Z"
    }
   },
   "outputs": [],
   "source": [
    "#list(df_spec_wp.columns)"
   ]
  },
  {
   "cell_type": "code",
   "execution_count": null,
   "id": "79c2ebf6-ac23-4ed7-a69b-05dacb85b4f3",
   "metadata": {
    "execution": {
     "iopub.execute_input": "2024-12-10T09:56:37.900882Z",
     "iopub.status.busy": "2024-12-10T09:56:37.900768Z",
     "iopub.status.idle": "2024-12-10T09:56:38.100558Z",
     "shell.execute_reply": "2024-12-10T09:56:38.100222Z",
     "shell.execute_reply.started": "2024-12-10T09:56:37.900871Z"
    }
   },
   "outputs": [],
   "source": [
    "fig,axs = plt.subplots(1,1,figsize=(6,6),layout='constrained')\n",
    "ax  = axs\n",
    "leg=ax.get_legend()\n",
    "df_spec_wp.plot(x=\"ozone [db]_x\",y=\"VAOD_x\",ax=ax,marker='+',c=\"g\",lw=0.0,grid=True,label=\"polar\",legend=leg,ms=5,alpha=0.5)\n",
    "df_spec_np.plot(x=\"ozone [db]_x\",y=\"VAOD_x\",ax=ax,marker='+',c=\"r\",lw=0.0,grid=True,label=\"no polar\",legend=leg,ms=5,alpha=0.5)\n",
    "\n",
    "ax.legend()\n",
    "ax.set_xlabel(\"Ozone_x (DU)\")\n",
    "ax.set_title(\"Correlation Ozone - VAOD \")\n",
    "ax.set_ylabel(\"VAOD\")\n",
    "ax.set_ylim(0.,0.2)\n",
    "ax.set_xlim(200.,500.)"
   ]
  },
  {
   "cell_type": "code",
   "execution_count": null,
   "id": "6e79503d-20c8-4918-aef1-8f24a216cf74",
   "metadata": {
    "execution": {
     "iopub.execute_input": "2024-12-10T09:56:38.101102Z",
     "iopub.status.busy": "2024-12-10T09:56:38.100985Z",
     "iopub.status.idle": "2024-12-10T09:56:38.476510Z",
     "shell.execute_reply": "2024-12-10T09:56:38.476098Z",
     "shell.execute_reply.started": "2024-12-10T09:56:38.101091Z"
    }
   },
   "outputs": [],
   "source": [
    "from matplotlib.dates import DateFormatter\n",
    "date_form = DateFormatter(\"%y-%m-%d\")\n",
    "\n",
    "fig,axs = plt.subplots(1,1,figsize=(14,6),layout='constrained')\n",
    "ax  = axs\n",
    "leg=ax.get_legend()\n",
    "\n",
    "\n",
    "df_spec_np_b[df_spec_np_b.Year == 2022].plot(x=\"Time_january\",y=\"ozone [db]_x\",ax=ax,marker='o',c=\"g\",lw=0.0,grid=True,label=\"2022 (no polar)\",legend=leg,ms=5,alpha=0.5)\n",
    "df_spec_wp[df_spec_wp.Year == 2022].plot(x=\"Time_january\",y=\"ozone [db]_x\",ax=ax,marker='+',c=\"g\",lw=0.0,grid=True,label=\"2022 (polar)\",legend=leg,ms=8,alpha=1)\n",
    "\n",
    "df_spec_np_b[df_spec_np_b.Year == 2023].plot(x=\"Time_january\",y=\"ozone [db]_x\",ax=ax,marker='o',c=\"b\",lw=0.0,grid=True,label=\"2023 (no polar)\",legend=leg,ms=5,alpha=0.5)\n",
    "df_spec_wp[df_spec_wp.Year == 2023].plot(x=\"Time_january\",y=\"ozone [db]_x\",ax=ax,marker='+',c=\"b\",lw=0.0,grid=True,label=\"2023 (polar)\",legend=leg,ms=8,alpha=1)\n",
    "\n",
    "df_spec_np_b[df_spec_np_b.Year == 2024].plot(x=\"Time_january\",y=\"ozone [db]_x\",ax=ax,marker='o',c=\"r\",lw=0.0,grid=True,label=\"2024 (no polar)\",legend=leg,ms=5,alpha=0.5)\n",
    "df_spec_wp[df_spec_wp.Year == 2024].plot(x=\"Time_january\",y=\"ozone [db]_x\",ax=ax,marker='+',c=\"r\",lw=0.0,grid=True,label=\"2024 (polar)\",legend=leg,ms=8,alpha=1)\n",
    "\n",
    "\n",
    "ax.set_ylabel(\"ozone [db]_x\")\n",
    "ax.set_xlabel(\"date (since January)\")\n",
    "ax.xaxis.set_major_formatter(date_form)\n",
    "ax.set_title(\"Ozone measured by holo selected vs time (modulo 1 year)\",fontweight=\"bold\")\n",
    "ax.legend(loc=\"upper right\")\n",
    "\n",
    "#for key, tt in dn.items():\n",
    "#    ax.axvspan(tt[0],tt[1], color='blue', alpha=0.1)\n",
    "\n",
    "\n",
    "#ax.axvspan(TMIN,datetime_WITHCOLLIMATOR, color='yellow', alpha=0.1)\n",
    "\n",
    "\n",
    "plt.tight_layout()\n",
    " \n",
    "\n",
    "\n",
    "ax.set_ylim(100.,600.)\n",
    "#ax.set_xlim(TMIN,TMAX)\n",
    "\n",
    "figname =f\"{pathfigs}/ozoneholoM2_allpoints_allnights_modulo1year\"+figtype\n",
    "plt.savefig(figname)\n",
    "plt.show()"
   ]
  },
  {
   "cell_type": "code",
   "execution_count": null,
   "id": "ef992017-30dc-4cc5-b402-1d5286e16978",
   "metadata": {
    "execution": {
     "iopub.execute_input": "2024-12-10T09:56:38.477129Z",
     "iopub.status.busy": "2024-12-10T09:56:38.476997Z",
     "iopub.status.idle": "2024-12-10T09:56:38.780773Z",
     "shell.execute_reply": "2024-12-10T09:56:38.780402Z",
     "shell.execute_reply.started": "2024-12-10T09:56:38.477117Z"
    }
   },
   "outputs": [],
   "source": [
    "from matplotlib.dates import DateFormatter\n",
    "date_form = DateFormatter(\"%y-%m-%d\")\n",
    "\n",
    "fig,axs = plt.subplots(1,1,figsize=(14,6),layout='constrained')\n",
    "ax  = axs\n",
    "leg=ax.get_legend()\n",
    "\n",
    "\n",
    "#df_spec_np_b[df_spec_np_b.Year == 2022].plot(x=\"Time_january\",y=\"ozone [db]_x\",ax=ax,marker='o',c=\"g\",lw=0.0,grid=True,label=\"2022 (no polar)\",legend=leg,ms=5,alpha=0.5)\n",
    "df_spec_wp[df_spec_wp.Year == 2022].plot(x=\"Time_january\",y=\"ozone [db]_x\",ax=ax,marker='+',c=\"g\",lw=0.0,grid=True,label=\"2022 (polar)\",legend=leg,ms=8,alpha=1)\n",
    "\n",
    "#df_spec_np_b[df_spec_np_b.Year == 2023].plot(x=\"Time_january\",y=\"ozone [db]_x\",ax=ax,marker='o',c=\"b\",lw=0.0,grid=True,label=\"2023 (no polar)\",legend=leg,ms=5,alpha=0.5)\n",
    "df_spec_wp[df_spec_wp.Year == 2023].plot(x=\"Time_january\",y=\"ozone [db]_x\",ax=ax,marker='+',c=\"b\",lw=0.0,grid=True,label=\"2023 (polar)\",legend=leg,ms=8,alpha=1)\n",
    "\n",
    "#df_spec_np_b[df_spec_np_b.Year == 2024].plot(x=\"Time_january\",y=\"ozone [db]_x\",ax=ax,marker='o',c=\"r\",lw=0.0,grid=True,label=\"2024 (no polar)\",legend=leg,ms=5,alpha=0.5)\n",
    "df_spec_wp[df_spec_wp.Year == 2024].plot(x=\"Time_january\",y=\"ozone [db]_x\",ax=ax,marker='+',c=\"r\",lw=0.0,grid=True,label=\"2024 (polar)\",legend=leg,ms=8,alpha=1)\n",
    "\n",
    "\n",
    "ax.set_ylabel(\"ozone [db]_x\")\n",
    "ax.set_xlabel(\"date (since January)\")\n",
    "ax.xaxis.set_major_formatter(date_form)\n",
    "ax.set_title(\"Ozone measured by holo selected vs time (modulo 1 year)\",fontweight=\"bold\")\n",
    "ax.legend(loc=\"upper right\")\n",
    "\n",
    "#for key, tt in dn.items():\n",
    "#    ax.axvspan(tt[0],tt[1], color='blue', alpha=0.1)\n",
    "\n",
    "#ax.axvspan(TMIN,datetime_WITHCOLLIMATOR, color='yellow', alpha=0.1)\n",
    "\n",
    "plt.tight_layout()\n",
    " \n",
    "ax.set_ylim(100.,600.)\n",
    "#ax.set_xlim(TMIN,TMAX)\n",
    "\n",
    "figname =f\"{pathfigs}/ozoneholoM2_allpoints_allnights_wp_modulo1year\"+figtype\n",
    "plt.savefig(figname)\n",
    "plt.show()"
   ]
  },
  {
   "cell_type": "markdown",
   "id": "2e327548-326f-428f-867f-3ad46e7f6753",
   "metadata": {},
   "source": [
    "## Show time variation each night"
   ]
  },
  {
   "cell_type": "code",
   "execution_count": null,
   "id": "7320d772-3123-4866-8d2c-3c9f0d8769ad",
   "metadata": {
    "execution": {
     "iopub.execute_input": "2024-12-10T09:56:38.781367Z",
     "iopub.status.busy": "2024-12-10T09:56:38.781241Z",
     "iopub.status.idle": "2024-12-10T09:56:38.783753Z",
     "shell.execute_reply": "2024-12-10T09:56:38.783378Z",
     "shell.execute_reply.started": "2024-12-10T09:56:38.781355Z"
    }
   },
   "outputs": [],
   "source": [
    "all_selected_nights = df_spec_sel[\"nightObs\"].unique()"
   ]
  },
  {
   "cell_type": "code",
   "execution_count": null,
   "id": "c8c101b3-7120-4e5b-9da8-f712b21f6c48",
   "metadata": {
    "execution": {
     "iopub.execute_input": "2024-12-10T09:56:38.784301Z",
     "iopub.status.busy": "2024-12-10T09:56:38.784170Z",
     "iopub.status.idle": "2024-12-10T09:56:38.789916Z",
     "shell.execute_reply": "2024-12-10T09:56:38.789583Z",
     "shell.execute_reply.started": "2024-12-10T09:56:38.784290Z"
    }
   },
   "outputs": [],
   "source": [
    "def funclineres(params, x, y, yerr):\n",
    "    # Return residual = fit-observed\n",
    "    return (y-params[0] -params[1]*x)/yerr\n",
    "def funcline(params,x):\n",
    "    return params[0] + params[1]*x"
   ]
  },
  {
   "cell_type": "code",
   "execution_count": null,
   "id": "cd606d78-286e-4d98-a24c-41bdfd455fd6",
   "metadata": {
    "execution": {
     "iopub.execute_input": "2024-12-10T09:56:38.790410Z",
     "iopub.status.busy": "2024-12-10T09:56:38.790294Z",
     "iopub.status.idle": "2024-12-10T09:56:38.796781Z",
     "shell.execute_reply": "2024-12-10T09:56:38.796437Z",
     "shell.execute_reply.started": "2024-12-10T09:56:38.790399Z"
    },
    "tags": []
   },
   "outputs": [],
   "source": [
    "def MakeLineFit(df_night_pwv_curve):\n",
    "    \"\"\"\n",
    "    \"\"\"\n",
    "\n",
    "    x = df_night_pwv_curve[\"dt_midnight\"].values\n",
    "    y = df_night_pwv_curve[\"ozone [db]_x\"].values\n",
    "    yerr = df_night_pwv_curve[\"ozone [db]_err_x\"].values\n",
    "    n = len(y)\n",
    "        \n",
    "    #popt, pcov = optimize.curve_fit(f, x, y, [1,-4])\n",
    "    fit_res = least_squares(funclineres,[5.,0],args = (x,y,yerr))\n",
    "    popt = fit_res.x \n",
    "    npar = len(popt)\n",
    "    J = fit_res.jac\n",
    "    cov = np.linalg.inv(J.T.dot(J))\n",
    "    chi2dof = ((funclineres(popt,x,y,yerr))**2).sum()/(n-npar)\n",
    "    cov *= chi2dof\n",
    "    perr = np.sqrt(np.diagonal(cov)) \n",
    "    \n",
    "    xfit = np.linspace(x.min()*0.99,x.max()*1.05)\n",
    "    yfit = funcline(popt,xfit)\n",
    "        \n",
    "    slope = popt[1]\n",
    "    slope_err = perr[1]\n",
    "\n",
    "    return x,y,yerr,n,chi2dof,xfit,yfit,slope,slope_err"
   ]
  },
  {
   "cell_type": "markdown",
   "id": "42511dcd-06f2-4a69-a94d-db35b9fec8a8",
   "metadata": {},
   "source": [
    "### Plot night by night"
   ]
  },
  {
   "cell_type": "code",
   "execution_count": null,
   "id": "8f5ba3c6-db68-4368-ae9f-e12d3fd7de3e",
   "metadata": {
    "execution": {
     "iopub.execute_input": "2024-12-10T09:56:38.797282Z",
     "iopub.status.busy": "2024-12-10T09:56:38.797159Z",
     "iopub.status.idle": "2024-12-10T09:56:38.804884Z",
     "shell.execute_reply": "2024-12-10T09:56:38.804558Z",
     "shell.execute_reply.started": "2024-12-10T09:56:38.797271Z"
    }
   },
   "outputs": [],
   "source": [
    "def ComputeRepeatability(df):\n",
    "    \"\"\"\n",
    "    Compute Repeatability of Ozone for Spectrogram and and Spectrum\n",
    "    \n",
    "    \"\"\"\n",
    "    N = len(df)\n",
    "    dfout = pd.DataFrame(index=df.index,columns = [\"nightObs\",\"dt\",\"dt_rep\",\"dOZx_rep\",\"dOZy_rep\",\"targflag_rep\",\"Npoints\"])\n",
    "    dfout[\"targflag_rep\"].astype(bool)\n",
    "    #dfout[\"Npoints\"].astype(int)\n",
    "    \n",
    "    target_old = \"No\"\n",
    "    time_old = 0.\n",
    "    OZx_old = 0.\n",
    "    OZy_old = 0.\n",
    "    \n",
    "    for index in range(N):\n",
    "        \n",
    "        nightObs =  df.iloc[index][\"nightObs\"]\n",
    "        \n",
    "        if index ==0:\n",
    "            dt0 = df.iloc[index][\"dt\"]\n",
    "            dfout.iloc[index] = [ nightObs,dt0, 0., 0., 0., False,N]\n",
    "        else:\n",
    "            target_new = df.iloc[index][\"TARGET\"]\n",
    "            time_new = df.iloc[index][\"dt\"]\n",
    "            OZx_new = df.iloc[index][\"ozone [db]_x\"]\n",
    "            OZy_new = df.iloc[index][\"ozone [db]_y\"]\n",
    "            \n",
    "            flag_target = (target_new == target_old)\n",
    "            dOZx_rep = OZx_new - OZx_old\n",
    "            dOZy_rep = OZy_new - OZy_old\n",
    "            dt_rep = (time_new-time_old)*3600. # in seconds\n",
    "            \n",
    "            dfout.iloc[index] = [ nightObs,time_new, dt_rep, dOZx_rep, dOZy_rep, flag_target,N]\n",
    "        \n",
    "        target_old = df.iloc[index][\"TARGET\"]\n",
    "        time_old = df.iloc[index][\"dt\"]\n",
    "        OZx_old = df.iloc[index][\"ozone [db]_x\"]\n",
    "        OZy_old = df.iloc[index][\"ozone [db]_y\"]\n",
    "        \n",
    "    return dfout"
   ]
  },
  {
   "cell_type": "code",
   "execution_count": null,
   "id": "502cf646-2b18-4340-9c85-063efe4e7981",
   "metadata": {
    "execution": {
     "iopub.execute_input": "2024-12-10T09:56:38.805371Z",
     "iopub.status.busy": "2024-12-10T09:56:38.805255Z",
     "iopub.status.idle": "2024-12-10T09:56:38.811147Z",
     "shell.execute_reply": "2024-12-10T09:56:38.810806Z",
     "shell.execute_reply.started": "2024-12-10T09:56:38.805360Z"
    }
   },
   "outputs": [],
   "source": [
    "all_selected_nights = df_spec_sel[\"nightObs\"].unique()"
   ]
  },
  {
   "cell_type": "markdown",
   "id": "1a8702cc-b117-4e6b-ad62-4344156b7aa7",
   "metadata": {},
   "source": [
    "## Fits gaussien et lineaires"
   ]
  },
  {
   "cell_type": "code",
   "execution_count": null,
   "id": "dd80b932-69e6-4cce-a366-e70f43a861ee",
   "metadata": {
    "execution": {
     "iopub.execute_input": "2024-12-10T09:56:38.811650Z",
     "iopub.status.busy": "2024-12-10T09:56:38.811537Z",
     "iopub.status.idle": "2024-12-10T09:56:38.817059Z",
     "shell.execute_reply": "2024-12-10T09:56:38.816684Z",
     "shell.execute_reply.started": "2024-12-10T09:56:38.811639Z"
    }
   },
   "outputs": [],
   "source": [
    "def funclineres(params, x, y, yerr):\n",
    "    # Return residual = fit-observed\n",
    "    return (y-params[0] -params[1]*x)/yerr\n",
    "def funcline(params,x):\n",
    "    return params[0] + params[1]*x"
   ]
  },
  {
   "cell_type": "code",
   "execution_count": null,
   "id": "4e55a31b-eb0e-48f7-b7cb-7689ea370a41",
   "metadata": {
    "execution": {
     "iopub.execute_input": "2024-12-10T09:56:38.817621Z",
     "iopub.status.busy": "2024-12-10T09:56:38.817501Z",
     "iopub.status.idle": "2024-12-10T09:56:38.823929Z",
     "shell.execute_reply": "2024-12-10T09:56:38.823588Z",
     "shell.execute_reply.started": "2024-12-10T09:56:38.817610Z"
    }
   },
   "outputs": [],
   "source": [
    "def MakeLineFit(df_night_o3_curve):\n",
    "    \"\"\"\n",
    "    \"\"\"\n",
    "\n",
    "    x = df_night_o3_curve[\"dt_midnight\"].values\n",
    "    y = df_night_o3_curve[\"ozone [db]_x\"].values\n",
    "    yerr = df_night_o3_curve[\"ozone [db]_err_x\"].values\n",
    "    n = len(y)\n",
    "        \n",
    "    #popt, pcov = optimize.curve_fit(f, x, y, [1,-4])\n",
    "    fit_res = least_squares(funclineres,[5.,0],args = (x,y,yerr))\n",
    "    popt = fit_res.x \n",
    "    npar = len(popt)\n",
    "    J = fit_res.jac\n",
    "    cov = np.linalg.inv(J.T.dot(J))\n",
    "    chi2dof = ((funclineres(popt,x,y,yerr))**2).sum()/(n-npar)\n",
    "    cov *= chi2dof\n",
    "    perr = np.sqrt(np.diagonal(cov)) \n",
    "    \n",
    "    xfit = np.linspace(x.min()*0.99,x.max()*1.05)\n",
    "    yfit = funcline(popt,xfit)\n",
    "        \n",
    "    slope = popt[1]\n",
    "    slope_err = perr[1]\n",
    "\n",
    "    return x,y,yerr,n,chi2dof,xfit,yfit,slope,slope_err"
   ]
  },
  {
   "cell_type": "code",
   "execution_count": null,
   "id": "cde37bf4-93c9-4313-88f0-4bd7a407e66c",
   "metadata": {
    "execution": {
     "iopub.execute_input": "2024-12-10T09:56:38.824409Z",
     "iopub.status.busy": "2024-12-10T09:56:38.824293Z",
     "iopub.status.idle": "2024-12-10T09:56:38.833072Z",
     "shell.execute_reply": "2024-12-10T09:56:38.832723Z",
     "shell.execute_reply.started": "2024-12-10T09:56:38.824398Z"
    }
   },
   "outputs": [],
   "source": [
    "#\n",
    "# Gaussian Process regression\n",
    "# https://scikit-learn.org/1.5/auto_examples/gaussian_process/plot_gpr_noisy_targets.html\n",
    "from sklearn.gaussian_process import GaussianProcessRegressor\n",
    "from sklearn.gaussian_process.kernels import RBF"
   ]
  },
  {
   "cell_type": "code",
   "execution_count": null,
   "id": "9bcbef86-6fd6-4a29-b054-5e228c71fb9c",
   "metadata": {
    "execution": {
     "iopub.execute_input": "2024-12-10T09:56:38.833720Z",
     "iopub.status.busy": "2024-12-10T09:56:38.833596Z",
     "iopub.status.idle": "2024-12-10T09:56:38.837009Z",
     "shell.execute_reply": "2024-12-10T09:56:38.836663Z",
     "shell.execute_reply.started": "2024-12-10T09:56:38.833708Z"
    }
   },
   "outputs": [],
   "source": [
    "def MakeGaussianProcessFit(df_night_o3_curve):\n",
    "    \"\"\"\n",
    "    \"\"\"\n",
    "\n",
    "    x_train = df_night_o3_curve[\"dt_midnight\"].values\n",
    "    xmin =  x_train.min()\n",
    "    xmax = x_train.max()\n",
    "    xfit = np.linspace(xmin,xmax,50)\n",
    "    X_fit =xfit.reshape(-1,1)\n",
    "    X_train = x_train.reshape(-1, 1)\n",
    "    \n",
    "    y_train = df_night_o3_curve[\"ozone [db]_x\"].values\n",
    "    y_mean = y_train.mean()\n",
    "    yerr_train = df_night_o3_curve[\"ozone [db]_err_x\"].values\n",
    "    n = len(y_train)\n",
    "\n",
    "    noise_std= 0.5\n",
    "    \n",
    "    kernel = 1. * RBF(length_scale=5.0, length_scale_bounds=(0.5, 12.))\n",
    "    gaussian_process = GaussianProcessRegressor(kernel=kernel,alpha=noise_std**2 ,n_restarts_optimizer=9)\n",
    "    \n",
    "    gaussian_process.fit(X_train, y_train)\n",
    "\n",
    "    mean_prediction, std_prediction = gaussian_process.predict(X_fit, return_std=True)\n",
    "    return xfit, mean_prediction, std_prediction, gaussian_process"
   ]
  },
  {
   "cell_type": "code",
   "execution_count": null,
   "id": "220c52c3-bfca-40e6-9f49-9576dacdc603",
   "metadata": {
    "execution": {
     "iopub.execute_input": "2024-12-10T09:56:38.840840Z",
     "iopub.status.busy": "2024-12-10T09:56:38.840588Z",
     "iopub.status.idle": "2024-12-10T09:56:38.845158Z",
     "shell.execute_reply": "2024-12-10T09:56:38.844822Z",
     "shell.execute_reply.started": "2024-12-10T09:56:38.840827Z"
    }
   },
   "outputs": [],
   "source": [
    "from sklearn.pipeline import make_pipeline\n",
    "from sklearn.preprocessing import PolynomialFeatures, StandardScaler\n",
    "# https://scikit-learn.org/1.5/auto_examples/linear_model/plot_ard.html\n",
    "from sklearn.linear_model import ARDRegression,BayesianRidge"
   ]
  },
  {
   "cell_type": "code",
   "execution_count": null,
   "id": "f56eb8ec-b9f5-419a-ba03-e36e834b6653",
   "metadata": {
    "execution": {
     "iopub.execute_input": "2024-12-10T09:56:38.845774Z",
     "iopub.status.busy": "2024-12-10T09:56:38.845661Z",
     "iopub.status.idle": "2024-12-10T09:56:38.849537Z",
     "shell.execute_reply": "2024-12-10T09:56:38.849198Z",
     "shell.execute_reply.started": "2024-12-10T09:56:38.845763Z"
    }
   },
   "outputs": [],
   "source": [
    "POLY_DEGREE_MAX = 10"
   ]
  },
  {
   "cell_type": "code",
   "execution_count": null,
   "id": "eefaf69b-c491-4780-985c-e93bf2945951",
   "metadata": {
    "execution": {
     "iopub.execute_input": "2024-12-10T09:56:38.850014Z",
     "iopub.status.busy": "2024-12-10T09:56:38.849896Z",
     "iopub.status.idle": "2024-12-10T09:56:38.856559Z",
     "shell.execute_reply": "2024-12-10T09:56:38.856218Z",
     "shell.execute_reply.started": "2024-12-10T09:56:38.850003Z"
    }
   },
   "outputs": [],
   "source": [
    "def MakeLinearModelFit(df_night_o3_curve,degree_max = POLY_DEGREE_MAX ):\n",
    "    \"\"\"\n",
    "    https://scikit-learn.org/1.5/auto_examples/linear_model/plot_ard.html\n",
    "    ARDRegression and BayesianRidge\n",
    "    \"\"\"\n",
    "\n",
    "    x_train = df_night_o3_curve[\"dt_midnight\"].values\n",
    "    xmin =  x_train.min()\n",
    "    xmax = x_train.max()\n",
    "    xfit = np.linspace(xmin,xmax,50)\n",
    "    X_fit =xfit.reshape(-1,1)\n",
    "    X_train = x_train.reshape(-1, 1)\n",
    "    \n",
    "    y_train = df_night_o3_curve[\"ozone [db]_x\"].values\n",
    "    y_mean = y_train.mean()\n",
    "    yerr_train = df_night_o3_curve[\"ozone [db]_err_x\"].values\n",
    "    n = len(y_train)\n",
    "\n",
    "    ard_poly = make_pipeline(\n",
    "    PolynomialFeatures(degree=degree_max, include_bias=False),StandardScaler(),ARDRegression(),).fit(X_train, y_train)\n",
    "    \n",
    "    brr_poly = make_pipeline(\n",
    "    PolynomialFeatures(degree=degree_max, include_bias=False),StandardScaler(),BayesianRidge(),).fit(X_train, y_train)\n",
    "\n",
    "    y_ard, y_ard_std = ard_poly.predict(X_fit, return_std=True)\n",
    "    y_brr, y_brr_std = brr_poly.predict(X_fit, return_std=True)\n",
    "\n",
    "    y_ard_pred = ard_poly.predict(X_train,return_std=False)\n",
    "    resy = y_train - y_ard_pred\n",
    "    \n",
    "    return xfit,y_ard, y_ard_std, y_brr, y_brr_std, resy, y_mean"
   ]
  },
  {
   "cell_type": "code",
   "execution_count": null,
   "id": "0dae329c-a062-4f22-bdd2-5a368d43b14e",
   "metadata": {
    "execution": {
     "iopub.execute_input": "2024-12-10T09:56:38.857041Z",
     "iopub.status.busy": "2024-12-10T09:56:38.856924Z",
     "iopub.status.idle": "2024-12-10T09:56:38.862166Z",
     "shell.execute_reply": "2024-12-10T09:56:38.861809Z",
     "shell.execute_reply.started": "2024-12-10T09:56:38.857029Z"
    }
   },
   "outputs": [],
   "source": [
    "# Container of images that all goes in a pdf\n",
    "all_figs_to_pdf = []"
   ]
  },
  {
   "cell_type": "code",
   "execution_count": null,
   "id": "e325547d-9f5e-4336-9fe4-5778597333cf",
   "metadata": {
    "execution": {
     "iopub.execute_input": "2024-12-10T09:56:38.862807Z",
     "iopub.status.busy": "2024-12-10T09:56:38.862686Z",
     "iopub.status.idle": "2024-12-10T09:57:26.485520Z",
     "shell.execute_reply": "2024-12-10T09:57:26.485040Z",
     "shell.execute_reply.started": "2024-12-10T09:56:38.862796Z"
    }
   },
   "outputs": [],
   "source": [
    "all_dateObs_sel = {}\n",
    "\n",
    "# loop on nights\n",
    "for night in all_selected_nights:\n",
    "    #select the night\n",
    "    \n",
    "    # Choose the kind of observation\n",
    "    df_spec_night = df_spec_sel[df_spec_sel[\"nightObs\"] == night]\n",
    "    df_spec_night_wp = df_spec_wp[df_spec_wp[\"nightObs\"] == night]\n",
    "    df_spec_night_np = df_spec_np[df_spec_np[\"nightObs\"] == night]\n",
    "    df_spec_night_np_f = df_spec_np_f[df_spec_np_f[\"nightObs\"] == night]\n",
    "    df_spec_night_np_b = df_spec_np_b[df_spec_np_b[\"nightObs\"] == night]\n",
    "\n",
    "    \n",
    "    #select the variables\n",
    "    df_night_o3_curve = df_spec_night[[\"Time\",\"ozone [db]_x\",\"ozone [db]_err_x\",\"ozone [db]_y\",\"ozone [db]_err_y\",\"dt_midnight\",\"AIRMASS\",\"TARGET\"]]\n",
    "    df_night_o3_curve_wp = df_spec_night_wp[[\"Time\",\"ozone [db]_x\",\"ozone [db]_err_x\",\"ozone [db]_y\",\"ozone [db]_err_y\",\"dt_midnight\",\"AIRMASS\",\"TARGET\"]]\n",
    "    df_night_o3_curve_np = df_spec_night_np[[\"Time\",\"ozone [db]_x\",\"ozone [db]_err_x\",\"ozone [db]_y\",\"ozone [db]_err_y\",\"dt_midnight\",\"AIRMASS\",\"TARGET\"]]\n",
    "    df_night_o3_curve_np_b = df_spec_night_np_b[[\"Time\",\"ozone [db]_x\",\"ozone [db]_err_x\",\"ozone [db]_y\",\"ozone [db]_err_y\",\"dt_midnight\",\"AIRMASS\",\"TARGET\"]]\n",
    "    df_night_o3_curve_np_f = df_spec_night_np_f[[\"Time\",\"ozone [db]_x\",\"ozone [db]_err_x\",\"ozone [db]_y\",\"ozone [db]_err_y\",\"dt_midnight\",\"AIRMASS\",\"TARGET\"]]\n",
    "\n",
    "    tmin = df_night_o3_curve[\"Time\"].min()\n",
    "    tmax = df_night_o3_curve[\"Time\"].max()\n",
    "\n",
    "\n",
    "    list_of_targets = df_night_o3_curve[\"TARGET\"].unique()\n",
    "    str_list_of_targets = \"\\n\".join(list_of_targets)\n",
    "\n",
    "    # convert in hours\n",
    "    df_night_o3_curve[\"dt\"] = (df_night_o3_curve[\"Time\"] - tmin).dt.total_seconds()/3600.\n",
    "    df_night_o3_curve_wp[\"dt\"] = (df_night_o3_curve_wp[\"Time\"] - tmin).dt.total_seconds()/3600.\n",
    "    df_night_o3_curve_np[\"dt\"] = (df_night_o3_curve_np[\"Time\"] - tmin).dt.total_seconds()/3600.\n",
    "    df_night_o3_curve_np_b[\"dt\"] = (df_night_o3_curve_np_b[\"Time\"] - tmin).dt.total_seconds()/3600.\n",
    "    df_night_o3_curve_np_f[\"dt\"] = (df_night_o3_curve_np_f[\"Time\"] - tmin).dt.total_seconds()/3600.\n",
    "    \n",
    "    \n",
    "    stat = df_night_o3_curve[[\"ozone [db]_x\"]].describe()\n",
    "    date_form = DateFormatter(\"%y-%m-%dT%H:%M\")\n",
    "    count = int(stat.loc[\"count\"].values[0])\n",
    "    mean = stat.loc[\"mean\"].values[0]\n",
    "    median = stat.loc[\"50%\"].values[0]\n",
    "    std = stat.loc[\"std\"].values[0]\n",
    "    textstr = \"\\n\".join((f\"count : {count}\",\n",
    "                     f\"mean : {mean:.1f} mm\",\n",
    "                     f\"median : {median:.1f} mm\",\n",
    "                     f\"std : {std:.1f} mm\",\n",
    "                    ))\n",
    "\n",
    "\n",
    "    \n",
    "\n",
    "    N= len(df_night_o3_curve)\n",
    "\n",
    "    if N>10:\n",
    "        # does the fit\n",
    "        \n",
    "        #x,y,yerr,n,chi2dof,xfit,yfit,slope,slope_err = MakeLineFit(df_night_o3_curve)\n",
    "\n",
    "\n",
    "        xfit, mean_prediction, std_prediction, gp = MakeGaussianProcessFit(df_night_o3_curve)\n",
    "        xfit2, y_ard, y_ard_std, y_brr, y_brr_std, resy, y_mean = MakeLinearModelFit(df_night_o3_curve)\n",
    "        \n",
    "        #textstr2 = \"\\n\".join((f\"d(Ozone/dt) : \",\n",
    "        #             f\"slope : {slope:.3f} DU/h \",\n",
    "        #             f\"slope err : {slope_err:.3f} DU/h\",\n",
    "        #             f\"chi2/ndeg : {chi2dof:.2f}\",       \n",
    "        #            ))\n",
    "\n",
    "        #textstr3 = \"\\n\".join((f\"d(Ozone/dt) : \",\n",
    "        #             f\"slope : {slope:.3f} DU/h \",\n",
    "        #             f\"slope err : {slope_err:.3f} DU/h\",  \n",
    "        #            ))\n",
    "    \n",
    "\n",
    "        #stat.loc[\"slope\",\"ozone [db]_x\"] = slope \n",
    "        #stat.loc[\"slope_err\",\"ozone [db]_err_x\"] = slope_err \n",
    "        #stat.loc[\"chi2\",\"ozone [db]_x\"] = chi2dof\n",
    "        \n",
    "        # plot\n",
    "        \n",
    "        fig = plt.figure(figsize=(16,4),constrained_layout=True)\n",
    "        gs = GridSpec(1, 2,  width_ratios=[1,1],figure=fig)\n",
    "\n",
    "        # left figure\n",
    "        ax = fig.add_subplot(gs[0])\n",
    "        ax2 = fig.add_subplot(gs[1],sharey=ax)\n",
    "\n",
    "        leg=ax.get_legend()\n",
    "        leg2=ax2.get_legend()\n",
    "\n",
    "        \n",
    "        #ax2 = fig.add_subplot(gs[1])\n",
    "        #ax.set_xlim(tmin,tmax)\n",
    "\n",
    "        ################################\n",
    "        # left figure : Gaussian Process\n",
    "        ################################\n",
    "        \n",
    "        \n",
    "        ax.errorbar(x=df_night_o3_curve.dt_midnight, y=df_night_o3_curve[\"ozone [db]_x\"],yerr=df_night_o3_curve[\"ozone [db]_err_x\"],fmt=\".\",color=\"k\",ecolor=\"k\",ms=1,label='all')\n",
    "        df_night_o3_curve_wp.plot(x=\"dt_midnight\",y=\"ozone [db]_x\",c=\"cyan\",ax=ax,marker='o',lw=0.0,grid=True,legend=leg2,label=\"polar\",ms=6,alpha=1)\n",
    "        df_night_o3_curve_np_b.plot(x=\"dt_midnight\",y=\"ozone [db]_x\",c=\"r\",ax=ax,marker='o',lw=0.0,grid=True,legend=leg2,label=\"bright, no polar\",ms=6,alpha=1)\n",
    "        df_night_o3_curve_np_f.plot(x=\"dt_midnight\",y=\"ozone [db]_x\",c=\"g\",ax=ax,marker='o',lw=0.0,grid=True,legend=leg2,label=\"faint, no polar\",ms=6,alpha=1)\n",
    "\n",
    "\n",
    "        # fit result\n",
    "        ax.plot(xfit, mean_prediction,\"b-\",lw=3,label=\"Gaussian Process (RBF)\")\n",
    "        ax.fill_between(xfit,mean_prediction - 1.96 * std_prediction,mean_prediction + 1.96 * std_prediction,alpha=0.3,label=r\"95% CL\",facecolor='grey')\n",
    "        \n",
    "        ax.set_xlabel(\"hours\")\n",
    "        ax.legend(loc=\"upper right\")\n",
    "        ax.set_ylabel(\"ozone [db]_x\")\n",
    "        ax.set_title(f\"GP fit for night {night}\")\n",
    "        ax.axvline(x=0,color=\"k\",lw=2)\n",
    "\n",
    "        \n",
    "        \n",
    "        ############################\n",
    "        # right figure : linear fits\n",
    "        ############################\n",
    "        \n",
    "        ax2.errorbar(x=df_night_o3_curve.dt_midnight, y=df_night_o3_curve[\"ozone [db]_x\"],yerr=df_night_o3_curve[\"ozone [db]_err_x\"],fmt=\".\",color=\"k\",ecolor=\"k\",ms=1)\n",
    "        df_night_o3_curve_wp.plot(x=\"dt_midnight\",y=\"ozone [db]_x\",c=\"cyan\",ax=ax2,marker='o',lw=0.0,grid=True,legend=leg,label=\"polar\",ms=6,alpha=1)\n",
    "        df_night_o3_curve_np_b.plot(x=\"dt_midnight\",y=\"ozone [db]_x\",c=\"r\",ax=ax2,marker='o',lw=0.0,grid=True,legend=leg,label=\"bright, no polar\",ms=6,alpha=1)\n",
    "        df_night_o3_curve_np_f.plot(x=\"dt_midnight\",y=\"ozone [db]_x\",c=\"g\",ax=ax2,marker='o',lw=0.0,grid=True,legend=leg,label=\"faint, no polar\",ms=6,alpha=1)\n",
    "\n",
    "        ax2.plot(xfit2, y_ard,\"g-\",lw=3,label=\"ARDRegression\")\n",
    "        ax2.fill_between(xfit2, y_ard - 1.96 * y_ard_std,y_ard + 1.96 * y_ard_std,alpha=0.3,label=r\"95% CL\",facecolor='green')\n",
    "        \n",
    "        \n",
    "        ax2.set_title(f\"Linear fit for night {night}\")\n",
    "        ax2.set_xlabel(\"hours\")\n",
    "        ax2.set_ylim(0.,600.)\n",
    "        ax2.legend()\n",
    "        ax2.axvline(x=0,color=\"k\",lw=2)\n",
    "        \n",
    "        \n",
    "        #ax2.set_xlabel(\"hours\")\n",
    "        #ax2.set_ylim(0.,600.)\n",
    "        #ax2.legend(loc=\"upper right\")\n",
    "        #ax2.plot(xfit,yfit,\"k-\")\n",
    "        #ax2.text(0.05, 0.95, textstr2, transform=ax2.transAxes, fontsize=14,verticalalignment='top', bbox=props)\n",
    "        #ax2.set_title(f\"night {night}\")\n",
    "        #ax2.axvline(x=0,color=\"k\",lw=2)\n",
    "        \n",
    "        #plt.tight_layout()\n",
    "\n",
    "        all_figs_to_pdf.append(fig) \n",
    "\n",
    "        figname =f\"{pathfigs}/gp_ard_o3_per_night_{night}\"+figtype\n",
    "        \n",
    "        plt.savefig(figname)\n",
    "        plt.show()\n",
    "\n",
    "        # add statistics\n",
    "        all_dateObs_sel[night] = stat"
   ]
  },
  {
   "cell_type": "markdown",
   "id": "b223e988-d04d-4f7f-8bf2-d5bc55b72d9b",
   "metadata": {
    "execution": {
     "iopub.status.busy": "2024-12-09T16:56:35.523589Z",
     "iopub.status.idle": "2024-12-09T16:56:35.523733Z",
     "shell.execute_reply": "2024-12-09T16:56:35.523663Z",
     "shell.execute_reply.started": "2024-12-09T16:56:35.523657Z"
    }
   },
   "source": [
    "## Plot night by night on single plot"
   ]
  },
  {
   "cell_type": "code",
   "execution_count": null,
   "id": "b8a0af79-c082-47e5-9f3a-f081af24ee49",
   "metadata": {
    "execution": {
     "iopub.execute_input": "2024-12-10T09:57:26.486236Z",
     "iopub.status.busy": "2024-12-10T09:57:26.486054Z",
     "iopub.status.idle": "2024-12-10T09:57:50.517740Z",
     "shell.execute_reply": "2024-12-10T09:57:50.517305Z",
     "shell.execute_reply.started": "2024-12-10T09:57:26.486222Z"
    }
   },
   "outputs": [],
   "source": [
    "all_o3 = []\n",
    "all_sigmao3 = []\n",
    "\n",
    "# loop on nights\n",
    "for night in all_selected_nights:\n",
    "    #select the night\n",
    "    # Choose the kind of observation\n",
    "    df_spec_night = df_spec_sel[df_spec_sel[\"nightObs\"] == night]\n",
    "    df_spec_night_wp = df_spec_wp[df_spec_wp[\"nightObs\"] == night]\n",
    "    df_spec_night_np = df_spec_np[df_spec_np[\"nightObs\"] == night]\n",
    "    df_spec_night_np_f = df_spec_np_f[df_spec_np_f[\"nightObs\"] == night]\n",
    "    df_spec_night_np_b = df_spec_np_b[df_spec_np_b[\"nightObs\"] == night]\n",
    "\n",
    "\n",
    "\n",
    "\n",
    "\n",
    "    #select the variables\n",
    "    df_night_o3_curve = df_spec_night[[\"Time\",\"ozone [db]_x\",\"ozone [db]_err_x\",\"ozone [db]_y\",\"ozone [db]_err_y\",\"dt_midnight\",\"AIRMASS\",\"TARGET\"]]\n",
    "    df_night_o3_curve_wp = df_spec_night_wp[[\"Time\",\"ozone [db]_x\",\"ozone [db]_err_x\",\"ozone [db]_y\",\"ozone [db]_err_y\",\"dt_midnight\",\"AIRMASS\",\"TARGET\"]]\n",
    "    df_night_o3_curve_np = df_spec_night_np[[\"Time\",\"ozone [db]_x\",\"ozone [db]_err_x\",\"ozone [db]_y\",\"ozone [db]_err_y\",\"dt_midnight\",\"AIRMASS\",\"TARGET\"]]\n",
    "    df_night_o3_curve_np_b = df_spec_night_np_b[[\"Time\",\"ozone [db]_x\",\"ozone [db]_err_x\",\"ozone [db]_y\",\"ozone [db]_err_y\",\"dt_midnight\",\"AIRMASS\",\"TARGET\"]]\n",
    "    df_night_o3_curve_np_f = df_spec_night_np_f[[\"Time\",\"ozone [db]_x\",\"ozone [db]_err_x\",\"ozone [db]_y\",\"ozone [db]_err_y\",\"dt_midnight\",\"AIRMASS\",\"TARGET\"]]\n",
    "\n",
    "    tmin = df_night_o3_curve[\"Time\"].min()\n",
    "    tmax = df_night_o3_curve[\"Time\"].max()\n",
    "\n",
    "\n",
    "    list_of_targets = df_night_o3_curve[\"TARGET\"].unique()\n",
    "    str_list_of_targets = \"\\n\".join(list_of_targets)\n",
    "\n",
    "    # convert in hours\n",
    "    df_night_o3_curve[\"dt\"] = (df_night_o3_curve[\"Time\"] - tmin).dt.total_seconds()/3600.\n",
    "    df_night_o3_curve_wp[\"dt\"] = (df_night_o3_curve_wp[\"Time\"] - tmin).dt.total_seconds()/3600.\n",
    "    df_night_o3_curve_np[\"dt\"] = (df_night_o3_curve_np[\"Time\"] - tmin).dt.total_seconds()/3600.\n",
    "    df_night_o3_curve_np_b[\"dt\"] = (df_night_o3_curve_np_b[\"Time\"] - tmin).dt.total_seconds()/3600.\n",
    "    df_night_o3_curve_np_f[\"dt\"] = (df_night_o3_curve_np_f[\"Time\"] - tmin).dt.total_seconds()/3600.\n",
    "\n",
    "\n",
    "    \n",
    "    \n",
    "    \n",
    "    # extract statistics on pwv\n",
    "    stat = df_night_o3_curve[[\"ozone [db]_x\"]].describe()\n",
    "    date_form = DateFormatter(\"%y-%m-%dT%H:%M\")\n",
    "    #date_form = DateFormatter(\"%y-%m-%dT%H\")\n",
    "    count = int(stat.loc[\"count\"].values[0])\n",
    "    mean = stat.loc[\"mean\"].values[0]\n",
    "    median = stat.loc[\"50%\"].values[0]\n",
    "    std = stat.loc[\"std\"].values[0]\n",
    "    textstr = \"\\n\".join((f\"count : {count}\",\n",
    "                     f\"mean : {mean:.1f} mm\",\n",
    "                     f\"median : {median:.1f} mm\",\n",
    "                     f\"std : {std:.1f} mm\",\n",
    "                    ))\n",
    "\n",
    "\n",
    "    N= len(df_night_o3_curve)\n",
    "\n",
    "    if N>10:\n",
    "        # does the fit\n",
    "        \n",
    "        #x,y,yerr,n,chi2dof,xfit,yfit,slope,slope_err = MakeLineFit(df_night_pwv_curve)\n",
    "        xfit, y_ard, y_ard_std, y_brr, y_brr_std, resy, y_mean = MakeLinearModelFit(df_night_o3_curve)\n",
    "            \n",
    "        sigma = np.std(resy)\n",
    "        all_o3.append(y_mean)\n",
    "        all_sigmao3.append(sigma )\n",
    "\n",
    "        \n",
    "        #textstr2 = \"\\n\".join((f\"d(PWV/dt) : \",\n",
    "        #             f\"slope : {slope:.3f} mm/h\",\n",
    "        #             f\"slope err : {slope_err:.3f} mm/h\",\n",
    "        #             f\"chi2/ndeg : {chi2dof:.2f}\",       \n",
    "        #            ))\n",
    "\n",
    "        #textstr3 = \"\\n\".join((f\"d(PWV/dt) : \",\n",
    "        #             f\"slope : {slope:.3f} mm/h\",\n",
    "        #             f\"slope err : {slope_err:.3f} mm/h\",  \n",
    "        #            ))\n",
    "    \n",
    "\n",
    "        #stat.loc[\"slope\",\"PWV [mm]_x\"] = slope \n",
    "        #stat.loc[\"slope_err\",\"PWV [mm]_x\"] = slope_err \n",
    "        #stat.loc[\"chi2\",\"PWV [mm]_x\"] = chi2dof\n",
    "\n",
    "        ##########\n",
    "        # plot\n",
    "        ############\n",
    "        \n",
    "        fig,ax  = plt.subplots(1,1,figsize=(10,4))\n",
    "        leg=ax.get_legend()\n",
    "        \n",
    "        ax.errorbar(x=df_night_o3_curve.dt_midnight, y=df_night_o3_curve[\"ozone [db]_x\"],yerr=df_night_o3_curve[\"ozone [db]_err_x\"],fmt=\"+\",color=\"r\",ecolor=\"k\",label=\"stat err\",ms=1)\n",
    "        df_night_o3_curve_wp.plot(x=\"dt_midnight\",y=\"ozone [db]_x\",c=\"cyan\",ax=ax,marker='o',lw=0.0,grid=True,legend=leg,label=\"polar\",ms=6,alpha=1)\n",
    "        df_night_o3_curve_np_b.plot(x=\"dt_midnight\",y=\"ozone [db]_x\",c=\"r\",ax=ax,marker='o',lw=0.0,grid=True,legend=leg,label=\"bright, no polar\",ms=6,alpha=1)\n",
    "        df_night_o3_curve_np_f.plot(x=\"dt_midnight\",y=\"ozone [db]_x\",c=\"g\",ax=ax,marker='o',lw=0.0,grid=True,legend=leg,label=\"faint, no polar\",ms=6,alpha=1)\n",
    "        ax.set_xlabel(\"hours since midnight\")\n",
    "        ax.set_ylim(0.,600.)\n",
    "        ax.set_ylabel(\"ozone [db]_x\")\n",
    "        ax.legend(loc=\"upper right\")\n",
    "\n",
    "        ax.plot(xfit, y_ard,\"g-\",lw=3,label=\"ARDRegression\")\n",
    "        ax.fill_between(xfit, y_ard - 1.96 * y_ard_std,y_ard + 1.96 * y_ard_std,alpha=0.3,label=r\"95% CL\",facecolor='green')\n",
    "\n",
    "        #ax.plot(xfit2, y_brr,\"r-\",label=\"BayesianRidge\")\n",
    "        #ax.fill_between(xfit2, y_brr - 1.96 * y_brr_std,y_brr + 1.96 * y_brr_std,alpha=0.5,label=r\"95% CL\",facecolor='red')\n",
    "      \n",
    "       \n",
    "        ax.text(0.8, 0.5, str_list_of_targets, transform=ax.transAxes, fontsize=12,verticalalignment='top', bbox=props,alpha=0.5)\n",
    "        ax.set_title(f\"night {night}\")\n",
    "        ax.axvline(x=0,color=\"k\",lw=2)\n",
    "\n",
    "\n",
    "        inset_ax = inset_axes(ax,width=\"20%\", # width = 30% of parent_bbox\n",
    "                                          height=\"40%\", # height : 1 inch\n",
    "                                          loc=\"upper left\")\n",
    "        \n",
    "        textstr_sigma = f\"$\\sigma = $\" +f\"{sigma:.2f} mm\"\n",
    "        inset_ax.hist(resy,bins=30,facecolor=\"b\")\n",
    "        inset_ax.set_xlabel(\"residuals (DU)\")\n",
    "        inset_ax.text(0.1, 0.9, textstr_sigma , transform=inset_ax.transAxes, fontsize=8,verticalalignment='top', bbox=props,alpha=1)\n",
    "\n",
    "\n",
    "        all_figs_to_pdf.append(fig) \n",
    "        \n",
    "        plt.tight_layout()\n",
    "        figname =f\"{pathfigs}/ardfit_o3_per_night_{night}\"+figtype\n",
    "        plt.savefig(figname)\n",
    "        plt.show()\n"
   ]
  },
  {
   "cell_type": "markdown",
   "id": "8f3f4be1-1f9c-4fae-a893-0e0c06c94625",
   "metadata": {},
   "source": [
    "### Version v2 for Blois Conference"
   ]
  },
  {
   "cell_type": "code",
   "execution_count": null,
   "id": "e20fa3f3-f994-4d89-a956-3e8a1e3d4883",
   "metadata": {
    "execution": {
     "iopub.execute_input": "2024-12-10T09:57:50.518362Z",
     "iopub.status.busy": "2024-12-10T09:57:50.518231Z",
     "iopub.status.idle": "2024-12-10T09:58:09.058861Z",
     "shell.execute_reply": "2024-12-10T09:58:09.058489Z",
     "shell.execute_reply.started": "2024-12-10T09:57:50.518350Z"
    }
   },
   "outputs": [],
   "source": [
    "\n",
    "\n",
    "# loop on nights\n",
    "for night in all_selected_nights:\n",
    "    #select the night\n",
    "    \n",
    "    # Choose the kind of observation\n",
    "    df_spec_night = df_spec_sel[df_spec_sel[\"nightObs\"] == night]\n",
    "    df_spec_night_wp = df_spec_wp[df_spec_wp[\"nightObs\"] == night]\n",
    "    df_spec_night_np = df_spec_np[df_spec_np[\"nightObs\"] == night]\n",
    "    df_spec_night_np_f = df_spec_np_f[df_spec_np_f[\"nightObs\"] == night]\n",
    "    df_spec_night_np_b = df_spec_np_b[df_spec_np_b[\"nightObs\"] == night]\n",
    "\n",
    "    \n",
    "    #select the variables\n",
    "    df_night_o3_curve = df_spec_night[[\"Time\",\"ozone [db]_x\",\"ozone [db]_err_x\",\"ozone [db]_y\",\"ozone [db]_err_y\",\"dt_midnight\",\"AIRMASS\",\"TARGET\"]]\n",
    "    df_night_o3_curve_wp = df_spec_night_wp[[\"Time\",\"ozone [db]_x\",\"ozone [db]_err_x\",\"ozone [db]_y\",\"ozone [db]_err_y\",\"dt_midnight\",\"AIRMASS\",\"TARGET\"]]\n",
    "    df_night_o3_curve_np = df_spec_night_np[[\"Time\",\"ozone [db]_x\",\"ozone [db]_err_x\",\"ozone [db]_y\",\"ozone [db]_err_y\",\"dt_midnight\",\"AIRMASS\",\"TARGET\"]]\n",
    "    df_night_o3_curve_np_b = df_spec_night_np_b[[\"Time\",\"ozone [db]_x\",\"ozone [db]_err_x\",\"ozone [db]_y\",\"ozone [db]_err_y\",\"dt_midnight\",\"AIRMASS\",\"TARGET\"]]\n",
    "    df_night_o3_curve_np_f = df_spec_night_np_f[[\"Time\",\"ozone [db]_x\",\"ozone [db]_err_x\",\"ozone [db]_y\",\"ozone [db]_err_y\",\"dt_midnight\",\"AIRMASS\",\"TARGET\"]]\n",
    "\n",
    "    tmin = df_night_o3_curve[\"Time\"].min()\n",
    "    tmax = df_night_o3_curve[\"Time\"].max()\n",
    "\n",
    "\n",
    "    list_of_targets = df_night_o3_curve[\"TARGET\"].unique()\n",
    "    str_list_of_targets = \"\\n\".join(list_of_targets)\n",
    "    str_list_of_targets = \"\\n\".join([\"targets:\",str_list_of_targets])\n",
    "\n",
    "    # convert in hours\n",
    "    df_night_o3_curve[\"dt\"] = (df_night_o3_curve[\"Time\"] - tmin).dt.total_seconds()/3600.\n",
    "    df_night_o3_curve_wp[\"dt\"] = (df_night_o3_curve_wp[\"Time\"] - tmin).dt.total_seconds()/3600.\n",
    "    df_night_o3_curve_np[\"dt\"] = (df_night_o3_curve_np[\"Time\"] - tmin).dt.total_seconds()/3600.\n",
    "    df_night_o3_curve_np_b[\"dt\"] = (df_night_o3_curve_np_b[\"Time\"] - tmin).dt.total_seconds()/3600.\n",
    "    df_night_o3_curve_np_f[\"dt\"] = (df_night_o3_curve_np_f[\"Time\"] - tmin).dt.total_seconds()/3600.\n",
    "    \n",
    "    \n",
    "    stat = df_night_o3_curve[[\"ozone [db]_x\"]].describe()\n",
    "    date_form = DateFormatter(\"%y-%m-%dT%H:%M\")\n",
    "    count = int(stat.loc[\"count\"].values[0])\n",
    "    mean = stat.loc[\"mean\"].values[0]\n",
    "    median = stat.loc[\"50%\"].values[0]\n",
    "    std = stat.loc[\"std\"].values[0]\n",
    "    textstr = \"\\n\".join((f\"count : {count}\",\n",
    "                     f\"mean : {mean:.1f} mm\",\n",
    "                     f\"median : {median:.1f} mm\",\n",
    "                     f\"std : {std:.1f} mm\",\n",
    "                    ))\n",
    "\n",
    "\n",
    "    \n",
    "\n",
    "    N= len(df_night_o3_curve)\n",
    "\n",
    "    if N>10:\n",
    "        # does the fit\n",
    "        \n",
    "        x,y,yerr,n,chi2dof,xfit,yfit,slope,slope_err = MakeLineFit(df_night_o3_curve)\n",
    "        \n",
    "        textstr2 = \"\\n\".join((f\"d(Ozone/dt) : \",\n",
    "                     f\"slope : {slope:.3f} DU/h \",\n",
    "                     f\"slope err : {slope_err:.3f} DU/h\",\n",
    "                     f\"chi2/ndeg : {chi2dof:.2f}\",       \n",
    "                    ))\n",
    "\n",
    "        textstr3 = \"\\n\".join((f\"d(Ozone/dt) : \",\n",
    "                     f\"slope : {slope:.3f} DU/h \",\n",
    "                     f\"slope err : {slope_err:.3f} DU/h\",  \n",
    "                    ))\n",
    "    \n",
    "\n",
    "        stat.loc[\"slope\",\"ozone [db]_x\"] = slope \n",
    "        stat.loc[\"slope_err\",\"ozone [db]_err_x\"] = slope_err \n",
    "        stat.loc[\"chi2\",\"ozone [db]_x\"] = chi2dof\n",
    "        \n",
    "        # plot\n",
    "        \n",
    "        fig,ax  = plt.subplots(1,1,figsize=(16,4))\n",
    "        leg=ax.get_legend()\n",
    "       \n",
    "        \n",
    "        # figure\n",
    "        ax.errorbar(x=df_night_o3_curve.dt_midnight, y=df_night_o3_curve[\"ozone [db]_x\"],yerr=df_night_o3_curve[\"ozone [db]_err_x\"],fmt=\".\",color=\"k\",ecolor=\"k\",ms=1,label=\"stat err\")\n",
    "        df_night_o3_curve_wp.plot(x=\"dt_midnight\",y=\"ozone [db]_x\",c=\"cyan\",ax=ax,marker='o',lw=0.0,grid=True,legend=leg,label=\"polar\",ms=6,alpha=1)\n",
    "        df_night_o3_curve_np_b.plot(x=\"dt_midnight\",y=\"ozone [db]_x\",c=\"r\",ax=ax,marker='o',lw=0.0,grid=True,legend=leg,label=\"bright, no polar\",ms=6,alpha=1)\n",
    "        df_night_o3_curve_np_f.plot(x=\"dt_midnight\",y=\"ozone [db]_x\",c=\"g\",ax=ax,marker='o',lw=0.0,grid=True,legend=leg,label=\"faint, no polar\",ms=6,alpha=1)\n",
    "        \n",
    "        ax.set_xlabel(\"hours since midnight\")\n",
    "        ax.set_ylim(0.,600.)\n",
    "        ax.set_ylabel(\"Ozone (DU)\")\n",
    "        ax.legend(loc=\"upper right\")\n",
    "        ax.plot(xfit,yfit,\"k:\",lw=0.1)\n",
    "        #ax.text(0.05, 0.95, textstr2, transform=ax.transAxes, fontsize=14,verticalalignment='top', bbox=props)\n",
    "        ax.text(0.01, 0.95, str_list_of_targets, transform=ax.transAxes, fontsize=12,verticalalignment='top', bbox=props,alpha=0.5)\n",
    "        ax.set_title(f\"night {night}\")\n",
    "        ax.axvline(x=0,color=\"k\",lw=2)\n",
    "        \n",
    "        plt.tight_layout()\n",
    "        figname =f\"{pathfigs}/o3_per_night_{night}_confblois24\"+figtype\n",
    "        plt.savefig(figname)\n",
    "        plt.show()\n",
    "\n"
   ]
  },
  {
   "cell_type": "code",
   "execution_count": null,
   "id": "5ae77ae4-fc2e-4c0a-a286-d18bf6180c4a",
   "metadata": {
    "execution": {
     "iopub.execute_input": "2024-12-10T09:58:09.059449Z",
     "iopub.status.busy": "2024-12-10T09:58:09.059311Z",
     "iopub.status.idle": "2024-12-10T09:58:09.135311Z",
     "shell.execute_reply": "2024-12-10T09:58:09.134967Z",
     "shell.execute_reply.started": "2024-12-10T09:58:09.059436Z"
    }
   },
   "outputs": [],
   "source": [
    "fig,ax  = plt.subplots(1,1,figsize=(5,4))   \n",
    "ax.scatter(all_o3,all_sigmao3,marker='o',c='b')\n",
    "ax.set_xlabel(\"$\\overline{O_3}$ (DU)\")\n",
    "ax.set_ylabel(\"$\\sigma(O_3)$ (DU)\")\n",
    "ax.set_title(\"Variability of Ozone\")\n",
    "all_figs_to_pdf.append(fig)\n",
    "plt.show()"
   ]
  },
  {
   "cell_type": "markdown",
   "id": "c131f079-9b51-450c-935b-52b5af74f187",
   "metadata": {},
   "source": [
    "## Save all figs in a pdf file"
   ]
  },
  {
   "cell_type": "code",
   "execution_count": null,
   "id": "09dec7bb-9f24-4acf-9d09-52acfcddf1ec",
   "metadata": {
    "execution": {
     "iopub.execute_input": "2024-12-10T09:58:09.135816Z",
     "iopub.status.busy": "2024-12-10T09:58:09.135693Z",
     "iopub.status.idle": "2024-12-10T09:58:32.864497Z",
     "shell.execute_reply": "2024-12-10T09:58:32.864060Z",
     "shell.execute_reply.started": "2024-12-10T09:58:09.135805Z"
    }
   },
   "outputs": [],
   "source": [
    "from matplotlib.backends.backend_pdf import PdfPages\n",
    "pdf_filename = f\"holo_O3_night_fitvariation_polydeg_{POLY_DEGREE_MAX}_tight.pdf\"\n",
    "pdf_fullfilename = os.path.join(pathfigs,pdf_filename)\n",
    "with PdfPages(pdf_fullfilename) as pdf:\n",
    "    for fig in all_figs_to_pdf:\n",
    "        pdf.savefig(fig, bbox_inches='tight') "
   ]
  },
  {
   "cell_type": "code",
   "execution_count": null,
   "id": "ef313b54-8fe6-4a14-bd44-8448f02a1da9",
   "metadata": {
    "execution": {
     "iopub.execute_input": "2024-12-10T09:58:32.865431Z",
     "iopub.status.busy": "2024-12-10T09:58:32.865100Z",
     "iopub.status.idle": "2024-12-10T09:58:53.382330Z",
     "shell.execute_reply": "2024-12-10T09:58:53.381910Z",
     "shell.execute_reply.started": "2024-12-10T09:58:32.865418Z"
    }
   },
   "outputs": [],
   "source": [
    "pdf_filename = f\"holo_O3_night_fitvariation_polydeg_{POLY_DEGREE_MAX}_notight.pdf\"\n",
    "pdf_fullfilename = os.path.join(pathfigs,pdf_filename)\n",
    "with PdfPages(pdf_fullfilename) as pdf:\n",
    "    for fig in all_figs_to_pdf:\n",
    "        pdf.savefig(fig) "
   ]
  },
  {
   "cell_type": "code",
   "execution_count": null,
   "id": "6b00ae23-3adc-4de3-baaa-918aa21b42ee",
   "metadata": {
    "execution": {
     "iopub.execute_input": "2024-12-10T09:58:53.382998Z",
     "iopub.status.busy": "2024-12-10T09:58:53.382873Z",
     "iopub.status.idle": "2024-12-10T09:58:53.385644Z",
     "shell.execute_reply": "2024-12-10T09:58:53.385326Z",
     "shell.execute_reply.started": "2024-12-10T09:58:53.382986Z"
    }
   },
   "outputs": [],
   "source": [
    "len(all_figs_to_pdf) "
   ]
  },
  {
   "cell_type": "code",
   "execution_count": null,
   "id": "06127098-5dde-4541-90d8-387a82e760b0",
   "metadata": {},
   "outputs": [],
   "source": []
  }
 ],
 "metadata": {
  "kernelspec": {
   "display_name": "Python 3 (ipykernel)",
   "language": "python",
   "name": "python3"
  },
  "language_info": {
   "codemirror_mode": {
    "name": "ipython",
    "version": 3
   },
   "file_extension": ".py",
   "mimetype": "text/x-python",
   "name": "python",
   "nbconvert_exporter": "python",
   "pygments_lexer": "ipython3",
   "version": "3.11.9"
  }
 },
 "nbformat": 4,
 "nbformat_minor": 5
}
