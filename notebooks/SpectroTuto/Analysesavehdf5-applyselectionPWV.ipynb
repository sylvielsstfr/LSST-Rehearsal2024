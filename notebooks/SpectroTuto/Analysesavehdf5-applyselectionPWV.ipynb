{
 "cells": [
  {
   "cell_type": "markdown",
   "id": "45bf4242-bfc5-4d43-88c4-a8059ae148df",
   "metadata": {},
   "source": [
    "# Analyse  Spectra and apply photometric selection from spectra saved in hdf5 for photometric night and View PWV\n",
    "\n",
    "- The spectra and the transmission has been generated from **Fit_GP_PWV_timeseq-and-FetchSpectra-savehdf5.ipynb**\n",
    "- The selection of photometric nights is done in **Analysesavehdf5-transmission.ipynb**"
   ]
  },
  {
   "cell_type": "markdown",
   "id": "01993b6e-6438-4fca-a5d5-1f9791336847",
   "metadata": {},
   "source": [
    "- author Sylvie Dagoret-Campagne\n",
    "- affiliation : IJCLab\n",
    "- creation date 2024-12-10 :\n",
    "- Kernel @usdf **w_2024_41*\n",
    "- Office emac : mamba_py311\n",
    "- Home emac : base (conda)\n",
    "- laptop : conda_py310\n",
    "- MUST RUN AT USDF"
   ]
  },
  {
   "cell_type": "markdown",
   "id": "0219159d-6865-4311-ac1d-99d11dad223f",
   "metadata": {},
   "source": [
    "**Goal** : Show correlation holo /Merra"
   ]
  },
  {
   "cell_type": "code",
   "execution_count": null,
   "id": "63a2b2ef-0bc2-45eb-91d9-87835d264751",
   "metadata": {
    "execution": {
     "iopub.execute_input": "2024-12-10T17:06:58.592175Z",
     "iopub.status.busy": "2024-12-10T17:06:58.592052Z",
     "iopub.status.idle": "2024-12-10T17:06:58.594387Z",
     "shell.execute_reply": "2024-12-10T17:06:58.594038Z",
     "shell.execute_reply.started": "2024-12-10T17:06:58.592163Z"
    },
    "tags": []
   },
   "outputs": [],
   "source": [
    "from platform import python_version\n",
    "print(python_version())"
   ]
  },
  {
   "cell_type": "code",
   "execution_count": null,
   "id": "dcc53afe-c58f-4948-92c9-0090d373ad2a",
   "metadata": {
    "execution": {
     "iopub.execute_input": "2024-12-10T17:06:58.595328Z",
     "iopub.status.busy": "2024-12-10T17:06:58.595196Z",
     "iopub.status.idle": "2024-12-10T17:06:58.603961Z",
     "shell.execute_reply": "2024-12-10T17:06:58.603613Z",
     "shell.execute_reply.started": "2024-12-10T17:06:58.595317Z"
    }
   },
   "outputs": [],
   "source": [
    "import warnings\n",
    "warnings.resetwarnings()\n",
    "warnings.simplefilter('ignore')"
   ]
  },
  {
   "cell_type": "code",
   "execution_count": null,
   "id": "8026d265-2493-4045-afec-26205ff71f7c",
   "metadata": {
    "execution": {
     "iopub.execute_input": "2024-12-10T17:06:58.604508Z",
     "iopub.status.busy": "2024-12-10T17:06:58.604391Z",
     "iopub.status.idle": "2024-12-10T17:06:58.609803Z",
     "shell.execute_reply": "2024-12-10T17:06:58.609430Z",
     "shell.execute_reply.started": "2024-12-10T17:06:58.604496Z"
    },
    "tags": []
   },
   "outputs": [],
   "source": [
    "from platform import python_version\n",
    "print(python_version())"
   ]
  },
  {
   "cell_type": "code",
   "execution_count": null,
   "id": "eb1f116e-80e3-46ad-a7db-7f253632e5ca",
   "metadata": {
    "execution": {
     "iopub.execute_input": "2024-12-10T17:06:58.610332Z",
     "iopub.status.busy": "2024-12-10T17:06:58.610203Z",
     "iopub.status.idle": "2024-12-10T17:06:58.615128Z",
     "shell.execute_reply": "2024-12-10T17:06:58.614806Z",
     "shell.execute_reply.started": "2024-12-10T17:06:58.610320Z"
    }
   },
   "outputs": [],
   "source": [
    "import os,re"
   ]
  },
  {
   "cell_type": "markdown",
   "id": "9b7d1780-5d55-420e-bdff-6e2822028032",
   "metadata": {},
   "source": [
    "#### Create output directory for figures and data"
   ]
  },
  {
   "cell_type": "code",
   "execution_count": null,
   "id": "3ec760cd-3d3f-4a34-a6f6-b226fe500951",
   "metadata": {
    "execution": {
     "iopub.execute_input": "2024-12-10T17:06:58.615568Z",
     "iopub.status.busy": "2024-12-10T17:06:58.615455Z",
     "iopub.status.idle": "2024-12-10T17:06:58.621205Z",
     "shell.execute_reply": "2024-12-10T17:06:58.620889Z",
     "shell.execute_reply.started": "2024-12-10T17:06:58.615557Z"
    }
   },
   "outputs": [],
   "source": [
    "# where are stored the figures\n",
    "pathfigs = \"AnalyseApplyPhotomPWVPernightSpectra\"\n",
    "if not os.path.exists(pathfigs):\n",
    "    os.makedirs(pathfigs) \n",
    "figtype = \".png\""
   ]
  },
  {
   "cell_type": "code",
   "execution_count": null,
   "id": "bb905fbb-b876-478c-a242-8a8b347cf4af",
   "metadata": {
    "execution": {
     "iopub.execute_input": "2024-12-10T17:06:58.621707Z",
     "iopub.status.busy": "2024-12-10T17:06:58.621589Z",
     "iopub.status.idle": "2024-12-10T17:06:58.627714Z",
     "shell.execute_reply": "2024-12-10T17:06:58.627377Z",
     "shell.execute_reply.started": "2024-12-10T17:06:58.621695Z"
    }
   },
   "outputs": [],
   "source": [
    "pathdata = \"dataHoloFITLinearandGPPWVandFetchNightSpectra\"\n",
    "if not os.path.exists(pathdata):\n",
    "    os.makedirs(pathdata) \n",
    "datapath_input = os.path.join(pathdata,\"pernightspectra\") \n",
    "if not os.path.exists(datapath_input):\n",
    "    assert False"
   ]
  },
  {
   "cell_type": "code",
   "execution_count": null,
   "id": "3eb9fd4b-ea0d-4bd6-a68c-70287d5a92c1",
   "metadata": {
    "execution": {
     "iopub.execute_input": "2024-12-10T17:06:58.628203Z",
     "iopub.status.busy": "2024-12-10T17:06:58.628082Z",
     "iopub.status.idle": "2024-12-10T17:06:58.632973Z",
     "shell.execute_reply": "2024-12-10T17:06:58.632646Z",
     "shell.execute_reply.started": "2024-12-10T17:06:58.628192Z"
    }
   },
   "outputs": [],
   "source": [
    "pathdatain_selection = \"dataHoloAnalyseSlelectPhotometricNightSpectra\""
   ]
  },
  {
   "cell_type": "markdown",
   "id": "b98a1aae-58b3-4135-9e74-7809c35eeba2",
   "metadata": {},
   "source": [
    "#### Imports"
   ]
  },
  {
   "cell_type": "code",
   "execution_count": null,
   "id": "bf752b70-e6ca-4cbf-8e8c-20bf7f0d8f61",
   "metadata": {
    "execution": {
     "iopub.execute_input": "2024-12-10T17:06:58.706478Z",
     "iopub.status.busy": "2024-12-10T17:06:58.706247Z",
     "iopub.status.idle": "2024-12-10T17:06:59.817549Z",
     "shell.execute_reply": "2024-12-10T17:06:59.817000Z",
     "shell.execute_reply.started": "2024-12-10T17:06:58.706465Z"
    }
   },
   "outputs": [],
   "source": [
    "import matplotlib as mpl\n",
    "import matplotlib.pyplot as plt\n",
    "%matplotlib inline\n",
    "from mpl_toolkits.axes_grid1 import make_axes_locatable\n",
    "from matplotlib.colors import LogNorm,SymLogNorm\n",
    "from matplotlib.patches import Circle,Annulus\n",
    "from astropy.visualization import ZScaleInterval\n",
    "props = dict(boxstyle='round', facecolor=\"white\", alpha=0.1)\n",
    "#props = dict(boxstyle='round')\n",
    "\n",
    "import matplotlib.colors as colors\n",
    "import matplotlib.cm as cmx\n",
    "\n",
    "import matplotlib.ticker                         # here's where the formatter is\n",
    "from matplotlib.ticker import (MultipleLocator, FormatStrFormatter,\n",
    "                               AutoMinorLocator)\n",
    "\n",
    "from matplotlib.gridspec import GridSpec\n",
    "\n",
    "from astropy.visualization import (MinMaxInterval, SqrtStretch,ZScaleInterval,PercentileInterval,\n",
    "                                   ImageNormalize,imshow_norm)\n",
    "from astropy.visualization.stretch import SinhStretch, LinearStretch,AsinhStretch,LogStretch\n",
    "\n",
    "import numpy as np\n",
    "from numpy.linalg import inv\n",
    "\n",
    "\n",
    "from astropy.io import fits\n",
    "from astropy.wcs import WCS\n",
    "from astropy import units as u\n",
    "from astropy import constants as c\n",
    "\n",
    "from astropy.coordinates.earth import EarthLocation\n",
    "from datetime import datetime\n",
    "from pytz import timezone\n",
    "\n",
    "import scipy\n",
    "from scipy.optimize import curve_fit,least_squares\n",
    "from scipy.interpolate import RegularGridInterpolator\n",
    "from scipy import interpolate\n",
    "from sklearn.neighbors import NearestNeighbors\n",
    "from sklearn.neighbors import KDTree, BallTree\n",
    "\n",
    "import pandas as pd\n",
    "pd.set_option(\"display.max_columns\", None)\n",
    "pd.set_option('display.max_rows', 100)\n",
    "\n",
    "import matplotlib.ticker                         # here's where the formatter is\n",
    "import os\n",
    "import re\n",
    "import pandas as pd\n",
    "import pickle\n",
    "from collections import OrderedDict\n",
    "\n",
    "plt.rcParams[\"figure.figsize\"] = (4,3)\n",
    "plt.rcParams[\"axes.labelsize\"] = 'xx-large'\n",
    "plt.rcParams['axes.titlesize'] = 'xx-large'\n",
    "plt.rcParams['xtick.labelsize']= 'xx-large'\n",
    "plt.rcParams['ytick.labelsize']= 'xx-large'\n",
    "plt.rcParams['legend.fontsize']=  12\n",
    "plt.rcParams['font.size'] = 12\n",
    "\n",
    "# new color correction model\n",
    "import pickle\n",
    "\n",
    "from tqdm import tqdm"
   ]
  },
  {
   "cell_type": "code",
   "execution_count": null,
   "id": "98268139-19c9-46c3-af3b-42fb49770b26",
   "metadata": {
    "execution": {
     "iopub.execute_input": "2024-12-10T17:06:59.818949Z",
     "iopub.status.busy": "2024-12-10T17:06:59.818566Z",
     "iopub.status.idle": "2024-12-10T17:06:59.825621Z",
     "shell.execute_reply": "2024-12-10T17:06:59.825192Z",
     "shell.execute_reply.started": "2024-12-10T17:06:59.818935Z"
    }
   },
   "outputs": [],
   "source": [
    "from mpl_toolkits.axes_grid1.inset_locator import inset_axes"
   ]
  },
  {
   "cell_type": "code",
   "execution_count": null,
   "id": "0ca0d1e6-5f82-4c43-aaa3-8524fc2bc5ba",
   "metadata": {
    "execution": {
     "iopub.execute_input": "2024-12-10T17:06:59.826367Z",
     "iopub.status.busy": "2024-12-10T17:06:59.826083Z",
     "iopub.status.idle": "2024-12-10T17:06:59.829427Z",
     "shell.execute_reply": "2024-12-10T17:06:59.828947Z",
     "shell.execute_reply.started": "2024-12-10T17:06:59.826354Z"
    }
   },
   "outputs": [],
   "source": [
    "from matplotlib.ticker import (MultipleLocator, FormatStrFormatter,\n",
    "                               AutoMinorLocator)\n",
    "\n",
    "from astropy.visualization import (MinMaxInterval, SqrtStretch,ZScaleInterval,PercentileInterval,\n",
    "                                   ImageNormalize,imshow_norm)\n",
    "from astropy.visualization.stretch import SinhStretch, LinearStretch,AsinhStretch,LogStretch\n",
    "\n",
    "from astropy.time import Time\n"
   ]
  },
  {
   "cell_type": "code",
   "execution_count": null,
   "id": "e189816c-5048-43ab-a01a-7c078af54489",
   "metadata": {
    "execution": {
     "iopub.execute_input": "2024-12-10T17:06:59.830398Z",
     "iopub.status.busy": "2024-12-10T17:06:59.829987Z",
     "iopub.status.idle": "2024-12-10T17:06:59.835364Z",
     "shell.execute_reply": "2024-12-10T17:06:59.834950Z",
     "shell.execute_reply.started": "2024-12-10T17:06:59.830383Z"
    }
   },
   "outputs": [],
   "source": [
    "# Remove to run faster the notebook\n",
    "#import ipywidgets as widgets\n",
    "#%matplotlib widget"
   ]
  },
  {
   "cell_type": "code",
   "execution_count": null,
   "id": "67327fd4-e405-45ce-8923-cd46ebaa0c0f",
   "metadata": {
    "execution": {
     "iopub.execute_input": "2024-12-10T17:06:59.836679Z",
     "iopub.status.busy": "2024-12-10T17:06:59.836534Z",
     "iopub.status.idle": "2024-12-10T17:06:59.841800Z",
     "shell.execute_reply": "2024-12-10T17:06:59.841346Z",
     "shell.execute_reply.started": "2024-12-10T17:06:59.836667Z"
    },
    "tags": []
   },
   "outputs": [],
   "source": [
    "from importlib.metadata import version"
   ]
  },
  {
   "cell_type": "code",
   "execution_count": null,
   "id": "d8bbab49-a26b-4f5e-82c1-800d57fa5294",
   "metadata": {
    "execution": {
     "iopub.execute_input": "2024-12-10T17:06:59.842344Z",
     "iopub.status.busy": "2024-12-10T17:06:59.842220Z",
     "iopub.status.idle": "2024-12-10T17:06:59.848003Z",
     "shell.execute_reply": "2024-12-10T17:06:59.847623Z",
     "shell.execute_reply.started": "2024-12-10T17:06:59.842333Z"
    }
   },
   "outputs": [],
   "source": [
    "import warnings\n",
    "warnings.filterwarnings(\"ignore\")"
   ]
  },
  {
   "cell_type": "code",
   "execution_count": null,
   "id": "9ca2734f-e551-49dd-9e2e-aa00f6c0416e",
   "metadata": {
    "execution": {
     "iopub.execute_input": "2024-12-10T17:06:59.848559Z",
     "iopub.status.busy": "2024-12-10T17:06:59.848442Z",
     "iopub.status.idle": "2024-12-10T17:06:59.854369Z",
     "shell.execute_reply": "2024-12-10T17:06:59.854004Z",
     "shell.execute_reply.started": "2024-12-10T17:06:59.848548Z"
    }
   },
   "outputs": [],
   "source": [
    "# wavelength bin colors\n",
    "#jet = plt.get_cmap('jet')\n",
    "#cNorm = mpl.colors.Normalize(vmin=0, vmax=NSED)\n",
    "#scalarMap = cmx.ScalarMappable(norm=cNorm, cmap=jet)\n",
    "#all_colors = scalarMap.to_rgba(np.arange(NSED), alpha=1)"
   ]
  },
  {
   "cell_type": "markdown",
   "id": "0c04c695-e9c1-4c8b-9dee-194a59f1012c",
   "metadata": {},
   "source": [
    "#### Butler access\n",
    "\n",
    "- these access may change with time\n",
    "- check my collections are found"
   ]
  },
  {
   "cell_type": "markdown",
   "id": "efde2b71-16eb-484b-97f5-52611eb85410",
   "metadata": {},
   "source": [
    "#### Environnement for rubinsimphot\n",
    "- Configure to access to rubinsimphot\n",
    "- Note it is important to have the rubinsimphot path in the python path\n",
    "- check the dm_version repository the newpythonpath "
   ]
  },
  {
   "cell_type": "code",
   "execution_count": null,
   "id": "127cae08-bcb7-4afc-8ca7-10f149b668bc",
   "metadata": {
    "execution": {
     "iopub.execute_input": "2024-12-10T17:06:59.854921Z",
     "iopub.status.busy": "2024-12-10T17:06:59.854802Z",
     "iopub.status.idle": "2024-12-10T17:06:59.861862Z",
     "shell.execute_reply": "2024-12-10T17:06:59.861478Z",
     "shell.execute_reply.started": "2024-12-10T17:06:59.854910Z"
    }
   },
   "outputs": [],
   "source": [
    "dm_version=\"repos_w_2024_41\" \n",
    "machine_name = os.uname().nodename\n",
    "print(machine_name)\n",
    "if 'sdf' in machine_name:\n",
    "    #machine_name_usdf = 'sdfrome001'\n",
    "    #machine_name_notebook platform = 'dagoret-nb'\n",
    "    print(\"Set environement for USDF\")\n",
    "    newpythonpath = os.path.join(os.getenv(\"HOME\"),f\"repos/{dm_version}/rubinsimphot/src\")\n",
    "    sys.path.append(newpythonpath)\n",
    "    newpythonpath = os.path.join(os.getenv(\"HOME\"),\"rubin-user/RubinLSSTPhotometricCorrTuto/notebooks/lib\")\n",
    "    sys.path.append(newpythonpath)   \n",
    "elif \"dagoret-nb\" in machine_name:\n",
    "    print(\"Set environement for Rubin Platform at  USDF\")\n",
    "    newpythonpath = os.path.join(os.getenv(\"HOME\"),f\"repos/{dm_version}/rubinsimphot/src\")\n",
    "    sys.path.append(newpythonpath)\n",
    "    newpythonpath = os.path.join(os.getenv(\"HOME\"),\"rubin-user/RubinLSSTPhotometricCorrTuto/notebooks/lib\")\n",
    "    sys.path.append(newpythonpath)\n",
    "elif 'mac' in machine_name:\n",
    "    print(\"Be sure to run this notebook in conda environnement named conda_py310\")\n",
    "else:\n",
    "    print(\"Your current machine name is {machine_name}. Check your python environment\")"
   ]
  },
  {
   "cell_type": "code",
   "execution_count": null,
   "id": "c9312f5a-a683-47cb-83fb-dddd29ae0872",
   "metadata": {
    "execution": {
     "iopub.execute_input": "2024-12-10T17:06:59.862414Z",
     "iopub.status.busy": "2024-12-10T17:06:59.862294Z",
     "iopub.status.idle": "2024-12-10T17:06:59.887276Z",
     "shell.execute_reply": "2024-12-10T17:06:59.886930Z",
     "shell.execute_reply.started": "2024-12-10T17:06:59.862403Z"
    }
   },
   "outputs": [],
   "source": [
    "from rubinsimphot.phot_utils import Bandpass, Sed\n",
    "from rubinsimphot.data.data_sets import  get_data_dir\n",
    "\n",
    "#README.md        darksky.dat      filter_r.dat     hardware_g.dat   hardware_y.dat   lens3.dat        total_g.dat      total_y.dat\n",
    "#README_SOURCE.md detector.dat     filter_u.dat     hardware_i.dat   hardware_z.dat   m1.dat           total_i.dat      total_z.dat\n",
    "#atmos_10.dat     filter_g.dat     filter_y.dat     hardware_r.dat   lens1.dat        m2.dat           total_r.dat      version_info\n",
    "#atmos_std.dat    filter_i.dat     filter_z.dat     hardware_u.dat   lens2.dat        m3.dat           total_u.dat\n",
    "hardware_filenames = [\"hardware_u.dat\",\"hardware_g.dat\",\"hardware_r.dat\",\"hardware_i.dat\",\"hardware_z.dat\",\"hardware_y.dat\"] \n",
    "filter_filenames = [\"filter_u.dat\",\"filter_g.dat\",\"filter_r.dat\",\"filter_i.dat\",\"filter_z.dat\",\"filter_y.dat\" ]\n",
    "total_filenames = [\"total_u.dat\",\"total_g.dat\",\"total_r.dat\",\"total_i.dat\",\"total_z.dat\",\"total_y.dat\" ]\n",
    "filter_tagnames = [\"u\",\"g\",\"r\",\"i\",\"z\",\"y\"]\n",
    "Filter_tagnames = [\"U\",\"G\",\"R\",\"I\",\"Z\",\"Y\"]\n",
    "filtercolor_tagnames = [\"u-g\",\"g-r\",\"r-i\",\"i-z\",\"z-y\"]\n",
    "Filtercolor_tagnames = [\"U-G\",\"G-R\",\"R-I\",\"I-Y\",\"Z-Y\"]\n",
    "filter_color = [\"b\",\"g\",\"r\",\"orange\",\"grey\",\"k\"]\n",
    "NFILT=len(filter_filenames)\n",
    "\n",
    "WLMIN=300.\n",
    "WLMAX=1100.\n",
    "WLBIN=1.\n",
    "NWLBIN=int((WLMAX-WLMIN)/WLBIN)\n",
    "WL=np.linspace(WLMIN,WLMAX,NWLBIN)"
   ]
  },
  {
   "cell_type": "code",
   "execution_count": null,
   "id": "0e1b36c7-52df-4ef0-97fb-329769bf05a9",
   "metadata": {
    "execution": {
     "iopub.execute_input": "2024-12-10T17:06:59.887829Z",
     "iopub.status.busy": "2024-12-10T17:06:59.887703Z",
     "iopub.status.idle": "2024-12-10T17:06:59.891544Z",
     "shell.execute_reply": "2024-12-10T17:06:59.891193Z",
     "shell.execute_reply.started": "2024-12-10T17:06:59.887818Z"
    }
   },
   "outputs": [],
   "source": [
    "#FILTERWL: precalculated array containing center, boundaries and width of each filter.\n",
    "#index 0 : minimum wavelength of filter border\n",
    "#index 1 : minimum wavelength of filter border\n",
    "#index 2 : center wavelength of filter\n",
    "#index 3 : filter width\n",
    "\n",
    "\n",
    "FILTERWL = np.array([[ 324.03003755,  402.12765957,  363.59690349,   78.09762203],\n",
    "       [ 392.11514393,  561.32665832,  473.54069923,  169.21151439],\n",
    "       [ 542.3028786 ,  700.50062578,  619.49926767,  158.19774718],\n",
    "       [ 681.47684606,  827.65957447,  752.01084117,  146.18272841],\n",
    "       [ 808.63579474,  932.79098874,  868.488419  ,  124.15519399],\n",
    "       [ 914.76846058, 1044.93116395,  969.10570859,  130.16270338]])\n",
    "\n",
    "FILTERWL_auxtel = np.array([[ 352.7 ,  395.9 ,  374.3 ,   43.2 ],\n",
    "                     [ 387.6 ,  566.2 ,  476.9 ,  178.6 ],\n",
    "                     [ 541.4 ,  715.5 ,  628.45,  174.1 ],\n",
    "                     [ 673.3 ,  870.9 ,  772.1 ,  197.6 ],\n",
    "                     [ 805.6 , 1090.7 ,  948.15,  285.1 ]])\n",
    "\n",
    "\n",
    "F0 = 3631.0 # Jy 1, Jy = 10^{-23} erg.cm^{-2}.s^{-1}.Hz^{-1}\n",
    "Jy_to_ergcmm2sm1hzm1 = 1e-23\n",
    "DT = 30.0 # seconds\n",
    "gel = 1.1\n",
    "#hP = 6.62607015E-34 # J⋅Hz−1\n",
    "hP = 6.626196E-27\n",
    "A  = np.pi*642.3**2 # cm2  Reff=6.423 m\n",
    "A_auxtel  = 9636.0 # cm2\n",
    "\n",
    "#ZPT_cont =  2.5 \\log_{10} \\left(\\frac{F_0 A \\Delta T}{g_{el} h} \\right)\n",
    "ZPTconst = 2.5*np.log10(F0*Jy_to_ergcmm2sm1hzm1*A*DT/gel/hP)"
   ]
  },
  {
   "cell_type": "code",
   "execution_count": null,
   "id": "cfa1ffb8-317a-4b76-a38c-851c45cdf91c",
   "metadata": {
    "execution": {
     "iopub.execute_input": "2024-12-10T17:06:59.892105Z",
     "iopub.status.busy": "2024-12-10T17:06:59.891989Z",
     "iopub.status.idle": "2024-12-10T17:06:59.921467Z",
     "shell.execute_reply": "2024-12-10T17:06:59.921090Z",
     "shell.execute_reply.started": "2024-12-10T17:06:59.892094Z"
    }
   },
   "outputs": [],
   "source": [
    "fdir = get_data_dir()\n",
    "bandpass_inst = {}\n",
    "path_rubin_sim_throughput = os.path.join(fdir, 'throughputs', 'baseline')\n",
    "for index,filename in enumerate(hardware_filenames):\n",
    "    fullfilename=os.path.join(path_rubin_sim_throughput,filename)\n",
    "    arr= np.loadtxt(fullfilename)\n",
    "    # interpolate  filter transmission\n",
    "    ff = interpolate.interp1d(x=arr[:,0], y=arr[:,1],fill_value=\"extrapolate\")\n",
    "    fname = filter_tagnames[index]\n",
    "    bandpass_inst[fname] = Bandpass(wavelen=WL,sb=ff(WL))"
   ]
  },
  {
   "cell_type": "code",
   "execution_count": null,
   "id": "102ffdc7-b312-47db-b915-73b640fe4fbe",
   "metadata": {
    "execution": {
     "iopub.execute_input": "2024-12-10T17:06:59.922016Z",
     "iopub.status.busy": "2024-12-10T17:06:59.921897Z",
     "iopub.status.idle": "2024-12-10T17:07:00.125290Z",
     "shell.execute_reply": "2024-12-10T17:07:00.124911Z",
     "shell.execute_reply.started": "2024-12-10T17:06:59.922004Z"
    }
   },
   "outputs": [],
   "source": [
    "%matplotlib inline\n",
    "fig, axs = plt.subplots(1,1,figsize=(6,4))\n",
    "# loop on filter\n",
    "for index,f in enumerate(filter_tagnames):\n",
    "    \n",
    "    axs.plot(WL,bandpass_inst[f].sb,color=filter_color[index]) \n",
    "    axs.fill_between(WL,bandpass_inst[f].sb,color=filter_color[index],alpha=0.2) \n",
    "    axs.axvline(FILTERWL[index,2],color=filter_color[index],linestyle=\"-.\")\n",
    "    \n",
    "axs.set_xlabel(\"$\\\\lambda$ (nm)\")\n",
    "axs.set_title(\"Total Rubin-LSST filter throughput\")\n",
    "plt.show()"
   ]
  },
  {
   "cell_type": "markdown",
   "id": "357863bb-a7a4-4dce-9fc7-a901ae6ff34d",
   "metadata": {
    "execution": {
     "iopub.execute_input": "2024-11-13T10:34:05.736273Z",
     "iopub.status.busy": "2024-11-13T10:34:05.736142Z",
     "iopub.status.idle": "2024-11-13T10:34:05.968740Z",
     "shell.execute_reply": "2024-11-13T10:34:05.968057Z",
     "shell.execute_reply.started": "2024-11-13T10:34:05.736259Z"
    }
   },
   "source": [
    "### Load my stuff"
   ]
  },
  {
   "cell_type": "code",
   "execution_count": null,
   "id": "8e1afb4c-cca5-431b-a78f-779a96383265",
   "metadata": {
    "execution": {
     "iopub.execute_input": "2024-12-10T17:07:00.125869Z",
     "iopub.status.busy": "2024-12-10T17:07:00.125744Z",
     "iopub.status.idle": "2024-12-10T17:07:00.807291Z",
     "shell.execute_reply": "2024-12-10T17:07:00.806867Z",
     "shell.execute_reply.started": "2024-12-10T17:07:00.125857Z"
    }
   },
   "outputs": [],
   "source": [
    "sys.path.append(\"../lib\")\n",
    "from libauxtelspectra import *\n",
    "from libanaspectra import *"
   ]
  },
  {
   "cell_type": "markdown",
   "id": "a6cae4e0-b037-4abe-82fa-24e5ba3b7a79",
   "metadata": {},
   "source": [
    "## Functions"
   ]
  },
  {
   "cell_type": "code",
   "execution_count": null,
   "id": "1003d9d6-a40f-48b1-9ffc-bfab9f45ba93",
   "metadata": {
    "execution": {
     "iopub.execute_input": "2024-12-10T17:07:00.809367Z",
     "iopub.status.busy": "2024-12-10T17:07:00.809234Z",
     "iopub.status.idle": "2024-12-10T17:07:00.812022Z",
     "shell.execute_reply": "2024-12-10T17:07:00.811701Z",
     "shell.execute_reply.started": "2024-12-10T17:07:00.809355Z"
    }
   },
   "outputs": [],
   "source": [
    "np.__version__"
   ]
  },
  {
   "cell_type": "code",
   "execution_count": null,
   "id": "c4cb2652-cb22-432e-b110-ae71d59dc793",
   "metadata": {
    "execution": {
     "iopub.execute_input": "2024-12-10T17:07:00.812653Z",
     "iopub.status.busy": "2024-12-10T17:07:00.812486Z",
     "iopub.status.idle": "2024-12-10T17:07:00.824094Z",
     "shell.execute_reply": "2024-12-10T17:07:00.823701Z",
     "shell.execute_reply.started": "2024-12-10T17:07:00.812637Z"
    }
   },
   "outputs": [],
   "source": [
    "pd.__version__"
   ]
  },
  {
   "cell_type": "code",
   "execution_count": null,
   "id": "ad03dc3d-6741-4478-82ba-1d5447529d9a",
   "metadata": {
    "execution": {
     "iopub.execute_input": "2024-12-10T17:07:00.824807Z",
     "iopub.status.busy": "2024-12-10T17:07:00.824642Z",
     "iopub.status.idle": "2024-12-10T17:07:00.830635Z",
     "shell.execute_reply": "2024-12-10T17:07:00.830308Z",
     "shell.execute_reply.started": "2024-12-10T17:07:00.824792Z"
    }
   },
   "outputs": [],
   "source": [
    "def convertNumToDatestr(num):\n",
    "    year = num//10_000\n",
    "    month= (num-year*10_000)//100\n",
    "    day = (num-year*10_000-month*100)\n",
    "\n",
    "    year_str = str(year).zfill(4)\n",
    "    month_str = str(month).zfill(2)\n",
    "    day_str = str(day).zfill(2)\n",
    "    \n",
    "    datestr = f\"{year_str}-{month_str}-{day_str}\"\n",
    "    return pd.to_datetime(datestr)"
   ]
  },
  {
   "cell_type": "markdown",
   "id": "4f13d6a3-7793-4bc0-920a-1d690d9f84b2",
   "metadata": {},
   "source": [
    "## Configuration"
   ]
  },
  {
   "cell_type": "code",
   "execution_count": null,
   "id": "c8cb2e48-0b34-4cbf-8379-43f7065112f7",
   "metadata": {
    "execution": {
     "iopub.execute_input": "2024-12-10T17:07:00.831153Z",
     "iopub.status.busy": "2024-12-10T17:07:00.831037Z",
     "iopub.status.idle": "2024-12-10T17:07:00.971896Z",
     "shell.execute_reply": "2024-12-10T17:07:00.971527Z",
     "shell.execute_reply.started": "2024-12-10T17:07:00.831141Z"
    }
   },
   "outputs": [],
   "source": [
    "observing_location = EarthLocation.of_site('Rubin Observatory')\n",
    "tz = timezone('America/Santiago')"
   ]
  },
  {
   "cell_type": "markdown",
   "id": "b884e71c-39cb-43e1-9edf-4a2cade9196e",
   "metadata": {},
   "source": [
    "### Spectro Hologram data"
   ]
  },
  {
   "cell_type": "code",
   "execution_count": null,
   "id": "a6d313e9-1621-40fb-a7d8-6d01522c7485",
   "metadata": {
    "execution": {
     "iopub.execute_input": "2024-12-10T17:07:00.972452Z",
     "iopub.status.busy": "2024-12-10T17:07:00.972323Z",
     "iopub.status.idle": "2024-12-10T17:07:00.975643Z",
     "shell.execute_reply": "2024-12-10T17:07:00.975300Z",
     "shell.execute_reply.started": "2024-12-10T17:07:00.972440Z"
    }
   },
   "outputs": [],
   "source": [
    "FLAG_WITHCOLLIMATOR = False\n",
    "DATE_WITHCOLLIMATOR = 20230930\n",
    "datetime_WITHCOLLIMATOR = convertNumToDatestr(DATE_WITHCOLLIMATOR)\n",
    "datetime_WITHCOLLIMATOR = pd.to_datetime(\"2023-09-30 00:00:00.0+0000\")\n",
    "datetime_WITHCOLLIMATOR"
   ]
  },
  {
   "cell_type": "code",
   "execution_count": null,
   "id": "5bac0cab-3886-4683-b1c8-fc59edacfd46",
   "metadata": {
    "execution": {
     "iopub.execute_input": "2024-12-10T17:07:00.976149Z",
     "iopub.status.busy": "2024-12-10T17:07:00.976030Z",
     "iopub.status.idle": "2024-12-10T17:07:00.984756Z",
     "shell.execute_reply": "2024-12-10T17:07:00.984395Z",
     "shell.execute_reply.started": "2024-12-10T17:07:00.976136Z"
    },
    "tags": []
   },
   "outputs": [],
   "source": [
    "version_results = \"v5\"\n",
    "legendtag = {\"v1\" : \"old v3.1.0\",\n",
    "            \"v2\" : \"v3.1.0-PWV<10mm\",\n",
    "            \"v3\" : \"v3.1.0-PWV<15mm\",\n",
    "            \"v4\" : \"Auxtel holo v3.1.0\",\n",
    "            \"v5\" : \"Auxtel holo v3.1.0 09/22 - 10/24\"}"
   ]
  },
  {
   "cell_type": "code",
   "execution_count": null,
   "id": "99436fe6-ad07-4796-b982-7dd89f554f0c",
   "metadata": {
    "execution": {
     "iopub.execute_input": "2024-12-10T17:07:00.985397Z",
     "iopub.status.busy": "2024-12-10T17:07:00.985252Z",
     "iopub.status.idle": "2024-12-10T17:07:00.990723Z",
     "shell.execute_reply": "2024-12-10T17:07:00.990387Z",
     "shell.execute_reply.started": "2024-12-10T17:07:00.985384Z"
    },
    "tags": []
   },
   "outputs": [],
   "source": [
    "atmfilenamesdict = {\"v1\" : \"data/spectro/auxtel_atmosphere_202301_v3.1.0_doSensorFlat_rebin2_testWithMaskedEdges_newBoundaries_newPolysRescaled_newFitBounds_adjustA1_lockedOrder2_removeThroughputTails_2.npy\",\n",
    "                    \"v2\" : \"auxtel_atmosphere_202301_v3.1.0_doSensorFlat_rebin2_lockedOrder2_FixA1_FixA2_FitAngstrom_FixA1_FixA2_FitAngstrom_WithGaia_freePressure_newThroughput6_BG40Scaled1.09_PeekFinder.npy\",\n",
    "                    \"v3\" : \"u_dagoret_auxtel_atmosphere_202301_v3.1.0_doSensorFlat_rebin2_lockedOrder2_FixA1_FixA2_FitAngstrom_WithGaia_freePressure_newThroughput6_BG40Scaled1.09_AtmoFitPressureA2_SpecErr_PeekFinder_20240924T161119Z.npy\",\n",
    "                    \"v4\" : \"u_dagoret_auxtel_atmosphere_202301_v3.1.0_doSensorFlat_rebin2_lockedOrder2_FixA1_FixA2_FitAngstrom_WithGaia_freePressure_newThroughput6_BG40Scaled1.09_AtmoFitPressureA2_SpecErr_PeekFinder_20240924T161119Z_spectrfullextend.npy\",\n",
    "                    \"v5\" : \"u_dagoret_auxtel_atmosphere_202209_v3.1.0_doSensorFlat_rebin2_lockedOrder2_FixA1_FixA2_FitAngstrom_WithGaia_freePressure_newThroughput6_BG40Scaled1.09_AtmoFitPressureA2_SpecErr_No5SigmaClip_20241016T184601Z_spectrfullextended.npy\"}"
   ]
  },
  {
   "cell_type": "code",
   "execution_count": null,
   "id": "f5ee7d08-244a-462a-b9fc-ff5cd4d3e801",
   "metadata": {
    "execution": {
     "iopub.execute_input": "2024-12-10T17:07:00.991241Z",
     "iopub.status.busy": "2024-12-10T17:07:00.991123Z",
     "iopub.status.idle": "2024-12-10T17:07:00.996836Z",
     "shell.execute_reply": "2024-12-10T17:07:00.996522Z",
     "shell.execute_reply.started": "2024-12-10T17:07:00.991230Z"
    },
    "tags": []
   },
   "outputs": [],
   "source": [
    "atmfilename = atmfilenamesdict[version_results]\n",
    "tag = legendtag[version_results] "
   ]
  },
  {
   "cell_type": "markdown",
   "id": "a30a15de-34f1-4f2b-afb9-52143c1cff27",
   "metadata": {},
   "source": [
    "## Initialisation"
   ]
  },
  {
   "cell_type": "markdown",
   "id": "4053343d-8e37-4402-b49f-c28dbb9e4afb",
   "metadata": {},
   "source": [
    "### Read the file"
   ]
  },
  {
   "cell_type": "code",
   "execution_count": null,
   "id": "ad60336b-f26f-4184-bcdf-e596329ecbbd",
   "metadata": {
    "execution": {
     "iopub.execute_input": "2024-12-10T17:07:00.997316Z",
     "iopub.status.busy": "2024-12-10T17:07:00.997202Z",
     "iopub.status.idle": "2024-12-10T17:07:01.207371Z",
     "shell.execute_reply": "2024-12-10T17:07:01.206911Z",
     "shell.execute_reply.started": "2024-12-10T17:07:00.997306Z"
    }
   },
   "outputs": [],
   "source": [
    "specdata = np.load(atmfilename,allow_pickle=True)"
   ]
  },
  {
   "cell_type": "code",
   "execution_count": null,
   "id": "3d9c7249-f818-4a98-8000-9be75b3c7a21",
   "metadata": {
    "execution": {
     "iopub.execute_input": "2024-12-10T17:07:01.208005Z",
     "iopub.status.busy": "2024-12-10T17:07:01.207871Z",
     "iopub.status.idle": "2024-12-10T17:07:01.223618Z",
     "shell.execute_reply": "2024-12-10T17:07:01.223160Z",
     "shell.execute_reply.started": "2024-12-10T17:07:01.207993Z"
    }
   },
   "outputs": [],
   "source": [
    "df_spec = pd.DataFrame(specdata)"
   ]
  },
  {
   "cell_type": "code",
   "execution_count": null,
   "id": "a19b591a-d479-4507-b241-81070420c847",
   "metadata": {
    "execution": {
     "iopub.execute_input": "2024-12-10T17:07:01.224374Z",
     "iopub.status.busy": "2024-12-10T17:07:01.224226Z",
     "iopub.status.idle": "2024-12-10T17:07:01.226199Z",
     "shell.execute_reply": "2024-12-10T17:07:01.225873Z",
     "shell.execute_reply.started": "2024-12-10T17:07:01.224361Z"
    },
    "tags": []
   },
   "outputs": [],
   "source": [
    "#list(df_spec.columns)"
   ]
  },
  {
   "cell_type": "markdown",
   "id": "68aab053-d9d5-4a93-98b2-5bb49b65fdd8",
   "metadata": {},
   "source": [
    "### Remove spectra with red filter"
   ]
  },
  {
   "cell_type": "code",
   "execution_count": null,
   "id": "53487c66-88fc-4c63-9296-e3ab009bc34a",
   "metadata": {
    "execution": {
     "iopub.execute_input": "2024-12-10T17:07:01.226744Z",
     "iopub.status.busy": "2024-12-10T17:07:01.226627Z",
     "iopub.status.idle": "2024-12-10T17:07:01.241045Z",
     "shell.execute_reply": "2024-12-10T17:07:01.240702Z",
     "shell.execute_reply.started": "2024-12-10T17:07:01.226733Z"
    }
   },
   "outputs": [],
   "source": [
    "df_spec['FILTER'].unique()"
   ]
  },
  {
   "cell_type": "code",
   "execution_count": null,
   "id": "952da4c8-0f60-47e7-82fe-20bb46499680",
   "metadata": {
    "execution": {
     "iopub.execute_input": "2024-12-10T17:07:01.241583Z",
     "iopub.status.busy": "2024-12-10T17:07:01.241465Z",
     "iopub.status.idle": "2024-12-10T17:07:01.251427Z",
     "shell.execute_reply": "2024-12-10T17:07:01.251027Z",
     "shell.execute_reply.started": "2024-12-10T17:07:01.241572Z"
    }
   },
   "outputs": [],
   "source": [
    "FLAG_REMOVE_FILTERS = True\n",
    "if FLAG_REMOVE_FILTERS:\n",
    "    df_spec=df_spec[df_spec[\"FILTER\"] == 'empty']\n",
    "    df_spec.reset_index(inplace=True)  "
   ]
  },
  {
   "cell_type": "markdown",
   "id": "a81b1aa2-7edc-4a24-9c44-c24c3826c18f",
   "metadata": {
    "tags": []
   },
   "source": [
    "### Define if a target is faint or bright"
   ]
  },
  {
   "cell_type": "code",
   "execution_count": null,
   "id": "412e59e0-f026-42d0-b6e1-7e5185c7e9dd",
   "metadata": {
    "execution": {
     "iopub.execute_input": "2024-12-10T17:07:01.252012Z",
     "iopub.status.busy": "2024-12-10T17:07:01.251887Z",
     "iopub.status.idle": "2024-12-10T17:07:01.254669Z",
     "shell.execute_reply": "2024-12-10T17:07:01.254309Z",
     "shell.execute_reply.started": "2024-12-10T17:07:01.252001Z"
    },
    "tags": []
   },
   "outputs": [],
   "source": [
    "def IsFaint(row):\n",
    "    List_Of_Faint_targets = ['Feige110','HD074000','HD115169','HD031128','HD200654','HD167060','HD009051','HD142331','HD160617','HD111980']\n",
    "    List_Of_faint_selected = List_Of_Faint_targets[:10]\n",
    "    if row[\"TARGET\"] in List_Of_faint_selected:\n",
    "        return True\n",
    "    else:\n",
    "        return False"
   ]
  },
  {
   "cell_type": "code",
   "execution_count": null,
   "id": "07cd52bf-50de-4190-ad3f-d68aaf18039e",
   "metadata": {
    "execution": {
     "iopub.execute_input": "2024-12-10T17:07:01.255228Z",
     "iopub.status.busy": "2024-12-10T17:07:01.255099Z",
     "iopub.status.idle": "2024-12-10T17:07:01.307093Z",
     "shell.execute_reply": "2024-12-10T17:07:01.306610Z",
     "shell.execute_reply.started": "2024-12-10T17:07:01.255205Z"
    }
   },
   "outputs": [],
   "source": [
    "df_spec[\"isFaint\"] = df_spec.apply(IsFaint,axis=1)"
   ]
  },
  {
   "cell_type": "markdown",
   "id": "3af3b3b6-7774-4b43-830b-a287c4e3281b",
   "metadata": {},
   "source": [
    "### Compute NightObs"
   ]
  },
  {
   "cell_type": "code",
   "execution_count": null,
   "id": "4de5d570-2e92-468b-ab07-63fffd8d2b8c",
   "metadata": {
    "execution": {
     "iopub.execute_input": "2024-12-10T17:07:01.307743Z",
     "iopub.status.busy": "2024-12-10T17:07:01.307603Z",
     "iopub.status.idle": "2024-12-10T17:07:01.354809Z",
     "shell.execute_reply": "2024-12-10T17:07:01.354373Z",
     "shell.execute_reply.started": "2024-12-10T17:07:01.307730Z"
    }
   },
   "outputs": [],
   "source": [
    "df_spec[\"nightObs\"] = df_spec.apply(lambda x: x['id']//100_000, axis=1)"
   ]
  },
  {
   "cell_type": "code",
   "execution_count": null,
   "id": "079b9ebb-4e59-4364-8ffa-f0439e943959",
   "metadata": {
    "execution": {
     "iopub.execute_input": "2024-12-10T17:07:01.355452Z",
     "iopub.status.busy": "2024-12-10T17:07:01.355321Z",
     "iopub.status.idle": "2024-12-10T17:07:01.357533Z",
     "shell.execute_reply": "2024-12-10T17:07:01.357182Z",
     "shell.execute_reply.started": "2024-12-10T17:07:01.355441Z"
    }
   },
   "outputs": [],
   "source": [
    "if FLAG_WITHCOLLIMATOR:\n",
    "    df_spec = df_spec[df_spec[\"nightObs\"]> DATE_WITHCOLLIMATOR]"
   ]
  },
  {
   "cell_type": "markdown",
   "id": "a7aaca44-ad09-4883-8a7d-413b71e8b4a2",
   "metadata": {},
   "source": [
    "### Add the Time in pd.datetime"
   ]
  },
  {
   "cell_type": "markdown",
   "id": "6a2222de-f3b7-4678-b2dc-d4c89102e0ab",
   "metadata": {},
   "source": [
    "#### UTC"
   ]
  },
  {
   "cell_type": "code",
   "execution_count": null,
   "id": "0d10c1ad-c5dc-4487-baa9-7c71ec531f45",
   "metadata": {
    "execution": {
     "iopub.execute_input": "2024-12-10T17:07:01.358053Z",
     "iopub.status.busy": "2024-12-10T17:07:01.357936Z",
     "iopub.status.idle": "2024-12-10T17:07:01.367146Z",
     "shell.execute_reply": "2024-12-10T17:07:01.366815Z",
     "shell.execute_reply.started": "2024-12-10T17:07:01.358041Z"
    }
   },
   "outputs": [],
   "source": [
    "df_spec[\"Time\"] = pd.to_datetime(df_spec[\"DATE-OBS\"])"
   ]
  },
  {
   "cell_type": "code",
   "execution_count": null,
   "id": "66cfe082-4e0c-4b83-ac40-122ba4c58ec4",
   "metadata": {
    "execution": {
     "iopub.execute_input": "2024-12-10T17:07:01.367664Z",
     "iopub.status.busy": "2024-12-10T17:07:01.367545Z",
     "iopub.status.idle": "2024-12-10T17:07:01.373694Z",
     "shell.execute_reply": "2024-12-10T17:07:01.373345Z",
     "shell.execute_reply.started": "2024-12-10T17:07:01.367653Z"
    },
    "tags": []
   },
   "outputs": [],
   "source": [
    "DT = pd.Timedelta(minutes=7*24*60)\n",
    "TMIN  = df_spec[\"Time\"].min()-DT\n",
    "TMAX  = df_spec[\"Time\"].max()+DT"
   ]
  },
  {
   "cell_type": "markdown",
   "id": "433fdc22-9674-47c9-a11c-1e6acfc52311",
   "metadata": {
    "tags": []
   },
   "source": [
    "### Compute relative time to Mid-night"
   ]
  },
  {
   "cell_type": "code",
   "execution_count": null,
   "id": "0de9a173-9144-4c45-a93f-f7df8b5905b7",
   "metadata": {
    "execution": {
     "iopub.execute_input": "2024-12-10T17:07:01.374246Z",
     "iopub.status.busy": "2024-12-10T17:07:01.374113Z",
     "iopub.status.idle": "2024-12-10T17:07:01.380428Z",
     "shell.execute_reply": "2024-12-10T17:07:01.380066Z",
     "shell.execute_reply.started": "2024-12-10T17:07:01.374235Z"
    }
   },
   "outputs": [],
   "source": [
    "def GetTimeToMidNight(row):\n",
    "    observing_time = Time(row['DATE-OBS'], scale='utc', location=observing_location)\n",
    "\n",
    "    # time at the location , either before or after midnight\n",
    "    local_time =  observing_time.to_datetime(timezone=tz)\n",
    "\n",
    "    # take time independent  of any location now\n",
    "    local_time_new = datetime(local_time.year,local_time.month,local_time.day,local_time.hour,local_time.minute,local_time.second)\n",
    "    local_time_midnight = datetime(local_time_new.year,local_time_new.month,local_time_new.day)\n",
    "    dt_hour = (local_time_new -local_time_midnight).seconds/3600.\n",
    "\n",
    "    # we took the previous night mid-night , must subtract 24H\n",
    "    if dt_hour > 12.:\n",
    "        dt_hour_new = (dt_hour - 24.)\n",
    "    else:\n",
    "        dt_hour_new = dt_hour\n",
    "        \n",
    "    return dt_hour_new"
   ]
  },
  {
   "cell_type": "code",
   "execution_count": null,
   "id": "05bfba4e-45f5-4020-953f-b6205001b698",
   "metadata": {
    "execution": {
     "iopub.execute_input": "2024-12-10T17:07:01.380973Z",
     "iopub.status.busy": "2024-12-10T17:07:01.380849Z",
     "iopub.status.idle": "2024-12-10T17:07:03.721537Z",
     "shell.execute_reply": "2024-12-10T17:07:03.721129Z",
     "shell.execute_reply.started": "2024-12-10T17:07:01.380962Z"
    }
   },
   "outputs": [],
   "source": [
    "df_spec[\"dt_midnight\"] = df_spec.apply(GetTimeToMidNight,axis=1)"
   ]
  },
  {
   "cell_type": "markdown",
   "id": "649915d4-df38-43ae-8b7a-f0f72e70590d",
   "metadata": {},
   "source": [
    "### Compute Date relative to January"
   ]
  },
  {
   "cell_type": "code",
   "execution_count": null,
   "id": "e5e99394-ff09-4ab6-b0c0-0fccce1be86c",
   "metadata": {
    "execution": {
     "iopub.execute_input": "2024-12-10T17:07:03.722137Z",
     "iopub.status.busy": "2024-12-10T17:07:03.722014Z",
     "iopub.status.idle": "2024-12-10T17:07:03.724689Z",
     "shell.execute_reply": "2024-12-10T17:07:03.724397Z",
     "shell.execute_reply.started": "2024-12-10T17:07:03.722125Z"
    }
   },
   "outputs": [],
   "source": [
    "def GetDateToMidJanuary(row):\n",
    "    observing_time = Time(row['DATE-OBS'], scale='utc', location=observing_location)\n",
    "\n",
    "    # time at the location , either before or after midnight\n",
    "    local_time =  observing_time.to_datetime(timezone=tz)\n",
    "\n",
    "    # take time independent  of any location now\n",
    "    local_time_new = datetime(2024,local_time.month,local_time.day,local_time.hour,local_time.minute,local_time.second)\n",
    "           \n",
    "    return pd.to_datetime(local_time_new)"
   ]
  },
  {
   "cell_type": "code",
   "execution_count": null,
   "id": "2e991a33-84e9-4766-98fb-665bada15c6d",
   "metadata": {
    "execution": {
     "iopub.execute_input": "2024-12-10T17:07:03.725139Z",
     "iopub.status.busy": "2024-12-10T17:07:03.725025Z",
     "iopub.status.idle": "2024-12-10T17:07:03.731197Z",
     "shell.execute_reply": "2024-12-10T17:07:03.730918Z",
     "shell.execute_reply.started": "2024-12-10T17:07:03.725129Z"
    }
   },
   "outputs": [],
   "source": [
    "#df_spec[\"Time_january\"] = df_spec.apply(GetDateToMidJanuary,axis=1)"
   ]
  },
  {
   "cell_type": "code",
   "execution_count": null,
   "id": "42779ad2-8f3f-44c7-9a0b-a9dcb33065e9",
   "metadata": {
    "execution": {
     "iopub.execute_input": "2024-12-10T17:07:03.731640Z",
     "iopub.status.busy": "2024-12-10T17:07:03.731527Z",
     "iopub.status.idle": "2024-12-10T17:07:03.737619Z",
     "shell.execute_reply": "2024-12-10T17:07:03.737307Z",
     "shell.execute_reply.started": "2024-12-10T17:07:03.731629Z"
    }
   },
   "outputs": [],
   "source": [
    "def GetDateToMidJanuaryAndYear(row):\n",
    "    observing_time = Time(row['DATE-OBS'], scale='utc', location=observing_location)\n",
    "\n",
    "    # time at the location , either before or after midnight\n",
    "    local_time =  observing_time.to_datetime(timezone=tz)\n",
    "\n",
    "    # take time independent  of any location now\n",
    "    local_time_new = datetime(2024,local_time.month,local_time.day,local_time.hour,local_time.minute,local_time.second)\n",
    "           \n",
    "    return pd.to_datetime(local_time_new),local_time.year "
   ]
  },
  {
   "cell_type": "code",
   "execution_count": null,
   "id": "3e747bbc-1357-447b-8cfb-1b22573f022c",
   "metadata": {
    "execution": {
     "iopub.execute_input": "2024-12-10T17:07:03.738058Z",
     "iopub.status.busy": "2024-12-10T17:07:03.737947Z",
     "iopub.status.idle": "2024-12-10T17:07:06.719162Z",
     "shell.execute_reply": "2024-12-10T17:07:06.718812Z",
     "shell.execute_reply.started": "2024-12-10T17:07:03.738048Z"
    }
   },
   "outputs": [],
   "source": [
    "df_spec[[\"Time_january\",\"Year\"]] = df_spec.apply(GetDateToMidJanuaryAndYear,axis=1,result_type=\"expand\")"
   ]
  },
  {
   "cell_type": "code",
   "execution_count": null,
   "id": "4076ca2e-03ea-4373-8b55-fdb6ae49de51",
   "metadata": {
    "execution": {
     "iopub.execute_input": "2024-12-10T17:07:06.719718Z",
     "iopub.status.busy": "2024-12-10T17:07:06.719583Z",
     "iopub.status.idle": "2024-12-10T17:07:06.728902Z",
     "shell.execute_reply": "2024-12-10T17:07:06.728508Z",
     "shell.execute_reply.started": "2024-12-10T17:07:06.719705Z"
    }
   },
   "outputs": [],
   "source": [
    "df_spec[[\"Time_january\",\"Year\"]]"
   ]
  },
  {
   "cell_type": "markdown",
   "id": "90783a42-5ed9-4ad8-8457-bbe1569413fe",
   "metadata": {},
   "source": [
    "## Compute night boundaries"
   ]
  },
  {
   "cell_type": "code",
   "execution_count": null,
   "id": "0ee7679a-ea50-4190-9400-664370a6b7f0",
   "metadata": {
    "execution": {
     "iopub.execute_input": "2024-12-10T17:07:06.729389Z",
     "iopub.status.busy": "2024-12-10T17:07:06.729267Z",
     "iopub.status.idle": "2024-12-10T17:07:06.732311Z",
     "shell.execute_reply": "2024-12-10T17:07:06.731900Z",
     "shell.execute_reply.started": "2024-12-10T17:07:06.729377Z"
    },
    "tags": []
   },
   "outputs": [],
   "source": [
    "def GetNightBoundariesDict(df_spec):\n",
    "    \"\"\"\n",
    "    input:\n",
    "      df_spec the dataframe for spectroscopy summary results\n",
    "    output:\n",
    "      the dict of night boudaries\n",
    "    \"\"\"\n",
    "    \n",
    "    Dt = pd.Timedelta(minutes=30)\n",
    "    d = {}\n",
    "    list_of_nightobs = df_spec[\"nightObs\"].unique()\n",
    "    for nightobs in list_of_nightobs:\n",
    "        sel_flag = df_spec[\"nightObs\"]== nightobs\n",
    "        df_night = df_spec[sel_flag]\n",
    "        tmin = df_night[\"Time\"].min()-Dt\n",
    "        tmax = df_night[\"Time\"].max()+Dt\n",
    "        d[nightobs] = (tmin,tmax)\n",
    "    return d"
   ]
  },
  {
   "cell_type": "code",
   "execution_count": null,
   "id": "b4e4e1eb-c4c1-4bdf-b88f-b44bd55b2435",
   "metadata": {
    "execution": {
     "iopub.execute_input": "2024-12-10T17:07:06.735961Z",
     "iopub.status.busy": "2024-12-10T17:07:06.735835Z",
     "iopub.status.idle": "2024-12-10T17:07:06.813770Z",
     "shell.execute_reply": "2024-12-10T17:07:06.813435Z",
     "shell.execute_reply.started": "2024-12-10T17:07:06.735949Z"
    },
    "tags": []
   },
   "outputs": [],
   "source": [
    "dn = GetNightBoundariesDict(df_spec)"
   ]
  },
  {
   "cell_type": "markdown",
   "id": "564f9a05-b3e2-4d61-9457-cda76ebd2a1b",
   "metadata": {},
   "source": [
    "## Apply Quality selection cuts"
   ]
  },
  {
   "cell_type": "code",
   "execution_count": null,
   "id": "51bff128-4de1-4396-ac64-e56336d8dd67",
   "metadata": {
    "execution": {
     "iopub.execute_input": "2024-12-10T17:07:06.814272Z",
     "iopub.status.busy": "2024-12-10T17:07:06.814135Z",
     "iopub.status.idle": "2024-12-10T17:07:06.817099Z",
     "shell.execute_reply": "2024-12-10T17:07:06.816811Z",
     "shell.execute_reply.started": "2024-12-10T17:07:06.814260Z"
    }
   },
   "outputs": [],
   "source": [
    "def getSelectionCut(df_spec, chi2max=20., pwvmin=0.1, pwvmax = 14.9,ozmin=100.,ozmax=600.):\n",
    "    cut =  (df_spec[\"CHI2_FIT\"]<chi2max) & (df_spec[\"PWV [mm]_x\"] > pwvmin) & (df_spec[\"PWV [mm]_x\"] < pwvmax) & (df_spec[\"D2CCD\"]>186.5) &  (df_spec[\"D2CCD\"]<187.3) & \\\n",
    "    (df_spec['EXPTIME'] > 20.) & (df_spec[\"PWV [mm]_y\"] > pwvmin) & (df_spec[\"PWV [mm]_y\"] < pwvmax) & \\\n",
    "    (df_spec[\"ozone [db]_y\"] > ozmin) & (df_spec[\"ozone [db]_y\"] < ozmax) \n",
    "    return cut"
   ]
  },
  {
   "cell_type": "code",
   "execution_count": null,
   "id": "99017666-4267-4f7c-a926-2da40fe78c00",
   "metadata": {
    "execution": {
     "iopub.execute_input": "2024-12-10T17:07:06.817558Z",
     "iopub.status.busy": "2024-12-10T17:07:06.817441Z",
     "iopub.status.idle": "2024-12-10T17:07:06.823562Z",
     "shell.execute_reply": "2024-12-10T17:07:06.823281Z",
     "shell.execute_reply.started": "2024-12-10T17:07:06.817546Z"
    }
   },
   "outputs": [],
   "source": [
    "def getSelectionCutNoPolar(df_spec, chi2max=20., pwvmin=0.1, pwvmax = 14.9,ozmin=100.,ozmax=600.):\n",
    "    cut =  (df_spec[\"CHI2_FIT\"]<chi2max) & (df_spec[\"PWV [mm]_x\"] > pwvmin) & (df_spec[\"PWV [mm]_x\"] < pwvmax) & (df_spec[\"D2CCD\"]>186.5) &  (df_spec[\"D2CCD\"]<187.3) & \\\n",
    "    (df_spec['EXPTIME'] > 20.) & (df_spec[\"PWV [mm]_y\"] > pwvmin) & (df_spec[\"PWV [mm]_y\"] < pwvmax) & \\\n",
    "    (df_spec[\"ozone [db]_y\"] > ozmin) & (df_spec[\"ozone [db]_y\"] < ozmax) & (df_spec[\"TARGET\"] != \"HD185975\")\n",
    "    return cut"
   ]
  },
  {
   "cell_type": "code",
   "execution_count": null,
   "id": "19b35b65-0191-4f70-9623-b3ecaeebe96e",
   "metadata": {
    "execution": {
     "iopub.execute_input": "2024-12-10T17:07:06.824004Z",
     "iopub.status.busy": "2024-12-10T17:07:06.823889Z",
     "iopub.status.idle": "2024-12-10T17:07:06.835322Z",
     "shell.execute_reply": "2024-12-10T17:07:06.835042Z",
     "shell.execute_reply.started": "2024-12-10T17:07:06.823993Z"
    }
   },
   "outputs": [],
   "source": [
    "def getSelectionCutWithPolar(df_spec, chi2max=20., pwvmin=0.1, pwvmax = 14.9,ozmin=100.,ozmax=600.):\n",
    "    cut =  (df_spec[\"CHI2_FIT\"]<chi2max) & (df_spec[\"PWV [mm]_x\"] > pwvmin) & (df_spec[\"PWV [mm]_x\"] < pwvmax) & (df_spec[\"D2CCD\"]>186.5) &  (df_spec[\"D2CCD\"]<187.3) & \\\n",
    "    (df_spec['EXPTIME'] > 20.) & (df_spec[\"PWV [mm]_y\"] > pwvmin) & (df_spec[\"PWV [mm]_y\"] < pwvmax) & \\\n",
    "    (df_spec[\"ozone [db]_y\"] > ozmin) & (df_spec[\"ozone [db]_y\"] < ozmax) & (df_spec[\"TARGET\"] == \"HD185975\")\n",
    "    return cut"
   ]
  },
  {
   "cell_type": "code",
   "execution_count": null,
   "id": "1b675e35-55ff-41af-82bf-85bb4c3267be",
   "metadata": {
    "execution": {
     "iopub.execute_input": "2024-12-10T17:07:06.835738Z",
     "iopub.status.busy": "2024-12-10T17:07:06.835627Z",
     "iopub.status.idle": "2024-12-10T17:07:06.848189Z",
     "shell.execute_reply": "2024-12-10T17:07:06.847899Z",
     "shell.execute_reply.started": "2024-12-10T17:07:06.835727Z"
    },
    "tags": []
   },
   "outputs": [],
   "source": [
    "cut = getSelectionCut(df_spec) \n",
    "cut_nopolar = getSelectionCutNoPolar(df_spec) \n",
    "cut_nopolar_bright = getSelectionCutNoPolar(df_spec) & (~df_spec[\"isFaint\"])\n",
    "cut_nopolar_faint = getSelectionCutNoPolar(df_spec) & (df_spec[\"isFaint\"])\n",
    "cut_wthpolar = getSelectionCutWithPolar(df_spec)"
   ]
  },
  {
   "cell_type": "code",
   "execution_count": null,
   "id": "e1cbfa40-4395-47f4-9acf-6a9f531fabd4",
   "metadata": {
    "execution": {
     "iopub.execute_input": "2024-12-10T17:07:06.848641Z",
     "iopub.status.busy": "2024-12-10T17:07:06.848521Z",
     "iopub.status.idle": "2024-12-10T17:07:06.854527Z",
     "shell.execute_reply": "2024-12-10T17:07:06.854131Z",
     "shell.execute_reply.started": "2024-12-10T17:07:06.848630Z"
    }
   },
   "outputs": [],
   "source": [
    "df_spec_sel = df_spec[cut]\n",
    "df_spec_np = df_spec[cut_nopolar] \n",
    "df_spec_np_b = df_spec[cut_nopolar_bright]\n",
    "df_spec_np_f = df_spec[cut_nopolar_faint]\n",
    "df_spec_wp = df_spec[cut_wthpolar]"
   ]
  },
  {
   "cell_type": "code",
   "execution_count": null,
   "id": "3c2b44e0-c554-4265-8caf-25b77c33ab1c",
   "metadata": {
    "execution": {
     "iopub.execute_input": "2024-12-10T17:07:06.855010Z",
     "iopub.status.busy": "2024-12-10T17:07:06.854893Z",
     "iopub.status.idle": "2024-12-10T17:07:06.858168Z",
     "shell.execute_reply": "2024-12-10T17:07:06.857874Z",
     "shell.execute_reply.started": "2024-12-10T17:07:06.854999Z"
    }
   },
   "outputs": [],
   "source": [
    "print(\"Total number of Spectra          : \",len(df_spec))\n",
    "print(\"Number of selected Spectra       : \",len(df_spec_sel))\n",
    "print(\"Number of selected Polars        : \",len(df_spec_wp))\n",
    "print(\"Number of selected Non-Polars    : \",len(df_spec_np))\n",
    "print(\"Number of selected Non-Polars Bright : \",len(df_spec_np_b))\n",
    "print(\"Number of selected Non-Polars Faint  : \",len(df_spec_np_f))"
   ]
  },
  {
   "cell_type": "code",
   "execution_count": null,
   "id": "bae62b07-17d4-423e-bdfe-634272a040a2",
   "metadata": {
    "execution": {
     "iopub.execute_input": "2024-12-10T17:07:06.858611Z",
     "iopub.status.busy": "2024-12-10T17:07:06.858497Z",
     "iopub.status.idle": "2024-12-10T17:07:06.863928Z",
     "shell.execute_reply": "2024-12-10T17:07:06.863653Z",
     "shell.execute_reply.started": "2024-12-10T17:07:06.858600Z"
    },
    "tags": []
   },
   "outputs": [],
   "source": [
    "df_spec_sel.reset_index(drop=True,inplace=True)\n",
    "df_spec_np.reset_index(drop=True,inplace=True)\n",
    "df_spec_wp.reset_index(drop=True,inplace=True) \n",
    "df_spec_np_b.reset_index(drop=True,inplace=True)\n",
    "df_spec_np_f.reset_index(drop=True,inplace=True)"
   ]
  },
  {
   "cell_type": "code",
   "execution_count": null,
   "id": "cef3e8dd-b2b7-4fcb-a676-3cef4d07f6c7",
   "metadata": {
    "execution": {
     "iopub.execute_input": "2024-12-10T17:07:06.864372Z",
     "iopub.status.busy": "2024-12-10T17:07:06.864258Z",
     "iopub.status.idle": "2024-12-10T17:07:06.870997Z",
     "shell.execute_reply": "2024-12-10T17:07:06.870718Z",
     "shell.execute_reply.started": "2024-12-10T17:07:06.864361Z"
    }
   },
   "outputs": [],
   "source": [
    "#List_Of_Faint_targets = ['Feige110','HD074000','HD115169','HD031128','HD200654','HD167060','HD009051','HD142331','HD160617','HD111980']\n",
    "print(\"Polar            :\",len(df_spec_wp[\"TARGET\"].unique()),\"\\t\", df_spec_wp[\"TARGET\"].unique()) \n",
    "print(\"Non Polar        :\",len(df_spec_np[\"TARGET\"].unique()),\"\\t\" ,df_spec_np[\"TARGET\"].unique())\n",
    "print(\"Non Polar Bright :\",len(df_spec_np_b[\"TARGET\"].unique()),\"\\t\" ,df_spec_np_b[\"TARGET\"].unique())\n",
    "print(\"Non Polar Faint  :\",len(df_spec_np_f[\"TARGET\"].unique()),\"\\t\",df_spec_np_f[\"TARGET\"].unique())"
   ]
  },
  {
   "cell_type": "code",
   "execution_count": null,
   "id": "1e41540b-d7cd-49c8-88dc-4175db604a17",
   "metadata": {
    "execution": {
     "iopub.execute_input": "2024-12-10T17:07:06.871505Z",
     "iopub.status.busy": "2024-12-10T17:07:06.871330Z",
     "iopub.status.idle": "2024-12-10T17:07:06.876043Z",
     "shell.execute_reply": "2024-12-10T17:07:06.875765Z",
     "shell.execute_reply.started": "2024-12-10T17:07:06.871494Z"
    },
    "tags": []
   },
   "outputs": [],
   "source": [
    "#dn = GetNightBoundariesDict(df_spec_sel)"
   ]
  },
  {
   "cell_type": "markdown",
   "id": "1cfdea9d-38b1-49a9-8c79-66ff02b11a6d",
   "metadata": {},
   "source": [
    "## Check saved hdf5 files"
   ]
  },
  {
   "cell_type": "code",
   "execution_count": null,
   "id": "49865b30-2e72-47f4-b9c1-e15ac7dfb2f2",
   "metadata": {
    "execution": {
     "iopub.execute_input": "2024-12-10T17:07:06.876475Z",
     "iopub.status.busy": "2024-12-10T17:07:06.876364Z",
     "iopub.status.idle": "2024-12-10T17:07:06.884470Z",
     "shell.execute_reply": "2024-12-10T17:07:06.884196Z",
     "shell.execute_reply.started": "2024-12-10T17:07:06.876465Z"
    }
   },
   "outputs": [],
   "source": [
    "list_of_hdf5_files = sorted(os.listdir(datapath_input))\n",
    "list_of_hdf5_files"
   ]
  },
  {
   "cell_type": "markdown",
   "id": "b5b6e687-315c-4e90-afb8-78d6b127387f",
   "metadata": {},
   "source": [
    "## Select photometric night "
   ]
  },
  {
   "cell_type": "code",
   "execution_count": null,
   "id": "0a83532d-fae6-4231-889a-b91e5d853719",
   "metadata": {
    "execution": {
     "iopub.execute_input": "2024-12-10T17:07:06.884899Z",
     "iopub.status.busy": "2024-12-10T17:07:06.884787Z",
     "iopub.status.idle": "2024-12-10T17:07:06.890131Z",
     "shell.execute_reply": "2024-12-10T17:07:06.889855Z",
     "shell.execute_reply.started": "2024-12-10T17:07:06.884888Z"
    }
   },
   "outputs": [],
   "source": [
    "fullfile_selection = os.path.join(pathdatain_selection,\"selection_photomnight.csv\")\n",
    "df_selection = pd.read_csv(fullfile_selection,index_col=0)"
   ]
  },
  {
   "cell_type": "code",
   "execution_count": null,
   "id": "754a5a2f-c8a5-4405-820b-e22ea67fc630",
   "metadata": {
    "execution": {
     "iopub.execute_input": "2024-12-10T17:07:06.890593Z",
     "iopub.status.busy": "2024-12-10T17:07:06.890478Z",
     "iopub.status.idle": "2024-12-10T17:07:06.898955Z",
     "shell.execute_reply": "2024-12-10T17:07:06.898687Z",
     "shell.execute_reply.started": "2024-12-10T17:07:06.890582Z"
    }
   },
   "outputs": [],
   "source": [
    "df_selection"
   ]
  },
  {
   "cell_type": "code",
   "execution_count": null,
   "id": "46851253-1de8-4a1b-90e8-3008e98b6e4e",
   "metadata": {
    "execution": {
     "iopub.execute_input": "2024-12-10T17:07:06.899401Z",
     "iopub.status.busy": "2024-12-10T17:07:06.899285Z",
     "iopub.status.idle": "2024-12-10T17:07:06.905188Z",
     "shell.execute_reply": "2024-12-10T17:07:06.904888Z",
     "shell.execute_reply.started": "2024-12-10T17:07:06.899390Z"
    }
   },
   "outputs": [],
   "source": [
    "df_selection = df_selection[df_selection[\"flag_photom\"]]\n",
    "df_selection.drop([\"flag_photom\"],axis=1,inplace=True)\n",
    "list_of_selected_nights = df_selection[\"nights\"].unique()"
   ]
  },
  {
   "cell_type": "code",
   "execution_count": null,
   "id": "98716309-ef88-4771-a9e8-cb14da6b9783",
   "metadata": {
    "execution": {
     "iopub.execute_input": "2024-12-10T17:07:06.905745Z",
     "iopub.status.busy": "2024-12-10T17:07:06.905537Z",
     "iopub.status.idle": "2024-12-10T17:07:06.910650Z",
     "shell.execute_reply": "2024-12-10T17:07:06.910377Z",
     "shell.execute_reply.started": "2024-12-10T17:07:06.905734Z"
    }
   },
   "outputs": [],
   "source": [
    "#print(list_of_selected_nights)"
   ]
  },
  {
   "cell_type": "code",
   "execution_count": null,
   "id": "e03fe7ca-36f3-44ad-afa7-94455c2ecd73",
   "metadata": {
    "execution": {
     "iopub.execute_input": "2024-12-10T17:07:06.911083Z",
     "iopub.status.busy": "2024-12-10T17:07:06.910969Z",
     "iopub.status.idle": "2024-12-10T17:07:06.918645Z",
     "shell.execute_reply": "2024-12-10T17:07:06.918363Z",
     "shell.execute_reply.started": "2024-12-10T17:07:06.911072Z"
    }
   },
   "outputs": [],
   "source": [
    "list_of_hdf5_files_selected = []\n",
    "list_of_hdf5_files_rejected = []\n",
    "for file in list_of_hdf5_files:\n",
    "    nightnumstr = re.findall(\"^spectra_transmission_(.*)[.]h5$\",file)[0]\n",
    "    nightnum = int(nightnumstr)\n",
    "    if nightnum in list_of_selected_nights:\n",
    "        list_of_hdf5_files_selected.append(file)\n",
    "    else:\n",
    "        list_of_hdf5_files_rejected.append(file) "
   ]
  },
  {
   "cell_type": "code",
   "execution_count": null,
   "id": "5c6e1cc5-8cb7-4af2-a1cf-e311eb2b71e6",
   "metadata": {
    "execution": {
     "iopub.execute_input": "2024-12-10T17:07:06.919082Z",
     "iopub.status.busy": "2024-12-10T17:07:06.918968Z",
     "iopub.status.idle": "2024-12-10T17:07:06.925251Z",
     "shell.execute_reply": "2024-12-10T17:07:06.924968Z",
     "shell.execute_reply.started": "2024-12-10T17:07:06.919070Z"
    }
   },
   "outputs": [],
   "source": [
    "list_of_hdf5_files_selected "
   ]
  },
  {
   "cell_type": "code",
   "execution_count": null,
   "id": "b9f64712-785a-4a6a-b01d-56b02f7e6a27",
   "metadata": {
    "execution": {
     "iopub.execute_input": "2024-12-10T17:07:06.925673Z",
     "iopub.status.busy": "2024-12-10T17:07:06.925562Z",
     "iopub.status.idle": "2024-12-10T17:07:06.931648Z",
     "shell.execute_reply": "2024-12-10T17:07:06.931335Z",
     "shell.execute_reply.started": "2024-12-10T17:07:06.925662Z"
    }
   },
   "outputs": [],
   "source": [
    "list_of_hdf5_files_rejected "
   ]
  },
  {
   "cell_type": "code",
   "execution_count": null,
   "id": "55347513-d718-4615-a3b4-2a26fae90f7f",
   "metadata": {
    "execution": {
     "iopub.execute_input": "2024-12-10T17:07:06.932071Z",
     "iopub.status.busy": "2024-12-10T17:07:06.931961Z",
     "iopub.status.idle": "2024-12-10T17:07:06.937330Z",
     "shell.execute_reply": "2024-12-10T17:07:06.937029Z",
     "shell.execute_reply.started": "2024-12-10T17:07:06.932060Z"
    }
   },
   "outputs": [],
   "source": [
    "list_of_hdf5_files  = list_of_hdf5_files_selected "
   ]
  },
  {
   "cell_type": "markdown",
   "id": "27409058-ef58-4587-a345-961771430822",
   "metadata": {},
   "source": [
    "## Per night transmission at airmass z=1"
   ]
  },
  {
   "cell_type": "code",
   "execution_count": null,
   "id": "47ad5faa-f87f-42d2-a712-88903d6765d9",
   "metadata": {
    "execution": {
     "iopub.execute_input": "2024-12-10T17:07:06.937756Z",
     "iopub.status.busy": "2024-12-10T17:07:06.937650Z",
     "iopub.status.idle": "2024-12-10T17:07:06.943250Z",
     "shell.execute_reply": "2024-12-10T17:07:06.942948Z",
     "shell.execute_reply.started": "2024-12-10T17:07:06.937746Z"
    }
   },
   "outputs": [],
   "source": [
    "#colormap = cm.jet \n",
    "#normalize = mcolors.Normalize(vmin=np.min(airmass), vmax=np.max(airmass))"
   ]
  },
  {
   "cell_type": "code",
   "execution_count": null,
   "id": "c099c35d-b4b1-4476-a951-4df3b5a597f7",
   "metadata": {
    "execution": {
     "iopub.execute_input": "2024-12-10T17:07:06.943696Z",
     "iopub.status.busy": "2024-12-10T17:07:06.943588Z",
     "iopub.status.idle": "2024-12-10T17:07:39.354420Z",
     "shell.execute_reply": "2024-12-10T17:07:39.353966Z",
     "shell.execute_reply.started": "2024-12-10T17:07:06.943686Z"
    }
   },
   "outputs": [],
   "source": [
    "XMIN=900.\n",
    "XMAX=980.\n",
    "XMINSEL = 380.\n",
    "XMAXSEL=980.\n",
    "FLAG_SHOWGREYPATCHS = True\n",
    "\n",
    "\n",
    "all_figs_to_pdf = []\n",
    "all_night_dict = []\n",
    "all_night_dateobs = []\n",
    "\n",
    "for idx_file,fname in enumerate(list_of_hdf5_files):\n",
    "    ffname = os.path.join(datapath_input,fname)\n",
    "    night_dict = readhdf5_pernightspectra(ffname)\n",
    "    dateobs = int(re.findall(\"^spectra_transmission_(.*)[.]h5\",fname)[0])\n",
    "\n",
    "    all_night_dict.append(night_dict)\n",
    "    all_night_dateobs.append(dateobs)\n",
    "\n",
    "    # find the airmasses\n",
    "    Nobs = len(night_dict)\n",
    "    all_airmasses = np.zeros(Nobs)\n",
    "    all_dt = np.zeros(Nobs)\n",
    "    all_targets = []\n",
    "    for idx,key in enumerate(night_dict.keys()):\n",
    "        all_airmasses[idx]  = night_dict[key]['attr']['airmass']\n",
    "        all_dt[idx] = night_dict[key]['attr']['dt_midnight']\n",
    "        all_targets.append(night_dict[key]['attr']['target'])\n",
    "\n",
    "    list_of_targets = np.array(all_targets)\n",
    "    list_of_targets = np.unique(list_of_targets)\n",
    "    textstr_targets = '\\n'.join(list_of_targets)\n",
    "    Ntargets = len(list_of_targets) \n",
    "        \n",
    "    colormap = cm.jet \n",
    "    normalize = mcolors.Normalize(vmin=np.min(all_airmasses), vmax=np.max(all_airmasses))\n",
    "    \n",
    "    # Colorbar setup\n",
    "    s_map = cm.ScalarMappable(norm=normalize, cmap=colormap)\n",
    "    s_map.set_array(all_airmasses)\n",
    "\n",
    "    zmin = all_airmasses.min()\n",
    "    zmax = all_airmasses.max()\n",
    "    \n",
    "    textstr = '\\n'.join((\n",
    "    r'$N_{spec}=%.0f$' % (Nobs, ),\n",
    "    f' {zmin:.2f} < airmass < {zmax:.2f}' ))\n",
    "\n",
    "\n",
    "    all_colors = []\n",
    "    \n",
    "    #fig,ax = plt.subplots(1,1,figsize=(12,6))\n",
    "\n",
    "    fig = plt.figure(figsize=(12,10),constrained_layout=True)\n",
    "    gs = fig.add_gridspec(2, 1,height_ratios=[4,1.5])\n",
    "    ax = fig.add_subplot(gs[0,0])\n",
    "    ax1 = fig.add_subplot(gs[1,0])\n",
    "\n",
    "    \n",
    "    for key in night_dict.keys():\n",
    "\n",
    "        the_airmass = night_dict[key]['attr']['airmass']\n",
    "        the_color = colormap(normalize(the_airmass))\n",
    "        all_colors.append(the_color) \n",
    "        \n",
    "        the_datasets =  night_dict[key][\"datasets\"]\n",
    "        wls = the_datasets['wls']\n",
    "        transm = the_datasets['transm_atz12']\n",
    "        ax.plot(wls,transm,color=the_color)\n",
    "        transm =  the_datasets['transm_atz12']\n",
    "        the_attributes =  night_dict[key][\"attr\"]\n",
    "        \n",
    "    ax.set_ylim(0,1.2)  \n",
    "\n",
    "    if FLAG_SHOWGREYPATCHS:\n",
    "        ax.set_xlim(XMIN,XMAX)  \n",
    "        ax.axvspan(XMIN,XMINSEL, alpha=0.5, color='grey')\n",
    "        ax.axvspan(XMAXSEL,XMAX, alpha=0.5, color='grey')\n",
    "    else: \n",
    "        ax.set_xlim(XMINSEL,XMAXSEL)\n",
    "\n",
    "    \n",
    "    ax.grid()\n",
    "    #ax.axvline(486.86,lw=1,color=\"k\")\n",
    "    #ax.axvline(656.279,lw=1,color=\"k\")\n",
    "\n",
    "    ax.text(0.1, 0.2, textstr, transform=ax.transAxes, fontsize=14,verticalalignment='top', bbox=props)\n",
    "    ax.text(0.78, 0.02*(Ntargets-1), textstr_targets,transform=ax.transAxes, fontsize=14,verticalalignment='bottom', bbox=props)  \n",
    "    \n",
    "    cbar = fig.colorbar(s_map,ax=ax)\n",
    "    cbar.set_label(\"Airmass $z$\")\n",
    "\n",
    "    ax.axvline(490.00,lw=1,color=\"k\",ls=\":\")\n",
    "    ax.axvline(650.00,lw=1,color=\"k\",ls=\":\")\n",
    "    ax.set_xlabel(\"$\\\\lambda$ (nm)\")\n",
    "    ax.set_ylabel(\"transmission at z=1\")\n",
    "    ax.set_title(f\"atmospheric transmission for night {dateobs}\")\n",
    "\n",
    "\n",
    "    ax1.scatter(all_dt,all_airmasses,marker=\"o\",color=all_colors) \n",
    "    #ax1.set_ylim(zmax*1.1,zmin*0.9)\n",
    "    ax1.set_ylim(2.6,0.9)\n",
    "    ax1.set_ylabel(\"airmass\")\n",
    "    ax1.set_xlabel(\"time since midnight (hours)\")\n",
    "    ax1.grid()\n",
    "\n",
    "    for idx, target in enumerate(all_targets):\n",
    "        ax1.text(all_dt[idx], 2.5, target,color=all_colors[idx],rotation=\"vertical\",fontsize=10)\n",
    "    \n",
    "\n",
    "\n",
    "\n",
    "    # save fig in fig container\n",
    "\n",
    "    all_figs_to_pdf.append(fig) \n",
    "\n",
    "    # save individual figures\n",
    "    figname =f\"{pathfigs}/annnighttransmissionam1_{dateobs}\"+figtype\n",
    "    plt.savefig(figname)\n",
    "      \n",
    "\n",
    "\n",
    "    plt.show()\n",
    "\n",
    "    #if idx_file == 0:\n",
    "    #    break\n",
    "\n",
    "      "
   ]
  },
  {
   "cell_type": "markdown",
   "id": "087e787e-b0e4-463d-a97e-415df6afd64b",
   "metadata": {},
   "source": [
    "## Transmission at Airmass Z"
   ]
  },
  {
   "cell_type": "code",
   "execution_count": null,
   "id": "ef3ef442-2fa6-4086-9fae-e4e7917f95c1",
   "metadata": {
    "execution": {
     "iopub.execute_input": "2024-12-10T17:07:39.355059Z",
     "iopub.status.busy": "2024-12-10T17:07:39.354925Z",
     "iopub.status.idle": "2024-12-10T17:08:12.708757Z",
     "shell.execute_reply": "2024-12-10T17:08:12.708334Z",
     "shell.execute_reply.started": "2024-12-10T17:07:39.355047Z"
    }
   },
   "outputs": [],
   "source": [
    "XMIN=900.\n",
    "XMAX=980.\n",
    "XMINSEL = 380.\n",
    "XMAXSEL=980.\n",
    "FLAG_SHOWGREYPATCHS = True\n",
    "\n",
    "\n",
    "all_figs_to_pdf = []\n",
    "all_night_dict = []\n",
    "all_night_dateobs = []\n",
    "\n",
    "for idx_file,fname in enumerate(list_of_hdf5_files):\n",
    "    ffname = os.path.join(datapath_input,fname)\n",
    "    night_dict = readhdf5_pernightspectra(ffname)\n",
    "    dateobs = int(re.findall(\"^spectra_transmission_(.*)[.]h5\",fname)[0])\n",
    "\n",
    "    all_night_dict.append(night_dict)\n",
    "    all_night_dateobs.append(dateobs)\n",
    "\n",
    "    # find the airmasses\n",
    "    Nobs = len(night_dict)\n",
    "    all_airmasses = np.zeros(Nobs)\n",
    "    all_dt = np.zeros(Nobs)\n",
    "    all_targets = []\n",
    "    for idx,key in enumerate(night_dict.keys()):\n",
    "        all_airmasses[idx]  = night_dict[key]['attr']['airmass']\n",
    "        all_dt[idx] = night_dict[key]['attr']['dt_midnight']\n",
    "        all_targets.append(night_dict[key]['attr']['target'])\n",
    "\n",
    "    list_of_targets = np.array(all_targets)\n",
    "    list_of_targets = np.unique(list_of_targets)\n",
    "    textstr_targets = '\\n'.join(list_of_targets)\n",
    "    Ntargets = len(list_of_targets) \n",
    "        \n",
    "    colormap = cm.jet \n",
    "    normalize = mcolors.Normalize(vmin=np.min(all_airmasses), vmax=np.max(all_airmasses))\n",
    "    \n",
    "    # Colorbar setup\n",
    "    s_map = cm.ScalarMappable(norm=normalize, cmap=colormap)\n",
    "    s_map.set_array(all_airmasses)\n",
    "\n",
    "    zmin = all_airmasses.min()\n",
    "    zmax = all_airmasses.max()\n",
    "    \n",
    "    textstr = '\\n'.join((\n",
    "    r'$N_{spec}=%.0f$' % (Nobs, ),\n",
    "    f' {zmin:.2f} < airmass < {zmax:.2f}' ))\n",
    "\n",
    "\n",
    "    all_colors = []\n",
    "    \n",
    "    #fig,ax = plt.subplots(1,1,figsize=(12,6))\n",
    "\n",
    "    fig = plt.figure(figsize=(12,10),constrained_layout=True)\n",
    "    gs = fig.add_gridspec(2, 1,height_ratios=[4,1.5])\n",
    "    ax = fig.add_subplot(gs[0,0])\n",
    "    ax1 = fig.add_subplot(gs[1,0])\n",
    "\n",
    "    \n",
    "    for key in night_dict.keys():\n",
    "\n",
    "        the_airmass = night_dict[key]['attr']['airmass']\n",
    "        the_color = colormap(normalize(the_airmass))\n",
    "        all_colors.append(the_color) \n",
    "        \n",
    "        the_datasets =  night_dict[key][\"datasets\"]\n",
    "        wls = the_datasets['wls']\n",
    "        transm = the_datasets['transm_atz']\n",
    "        ax.plot(wls,transm,color=the_color)\n",
    "        transm =  the_datasets['transm_atz']\n",
    "        the_attributes =  night_dict[key][\"attr\"]\n",
    "        \n",
    "    ax.set_ylim(0,1.2)  \n",
    "\n",
    "    if FLAG_SHOWGREYPATCHS:\n",
    "        ax.set_xlim(XMIN,XMAX)  \n",
    "        ax.axvspan(XMIN,XMINSEL, alpha=0.5, color='grey')\n",
    "        ax.axvspan(XMAXSEL,XMAX, alpha=0.5, color='grey')\n",
    "    else: \n",
    "        ax.set_xlim(XMINSEL,XMAXSEL)\n",
    "\n",
    "    \n",
    "    ax.grid()\n",
    "    #ax.axvline(486.86,lw=1,color=\"k\")\n",
    "    #ax.axvline(656.279,lw=1,color=\"k\")\n",
    "\n",
    "    ax.text(0.1, 0.2, textstr, transform=ax.transAxes, fontsize=14,verticalalignment='top', bbox=props)\n",
    "    ax.text(0.78, 0.02*(Ntargets-1), textstr_targets,transform=ax.transAxes, fontsize=14,verticalalignment='bottom', bbox=props)  \n",
    "    \n",
    "    cbar = fig.colorbar(s_map,ax=ax)\n",
    "    cbar.set_label(\"Airmass $z$\")\n",
    "\n",
    "    ax.axvline(490.00,lw=1,color=\"k\",ls=\":\")\n",
    "    ax.axvline(650.00,lw=1,color=\"k\",ls=\":\")\n",
    "    ax.set_xlabel(\"$\\\\lambda$ (nm)\")\n",
    "    ax.set_ylabel(\"transmission at z\")\n",
    "    ax.set_title(f\"atmospheric transmission for night {dateobs}\")\n",
    "\n",
    "\n",
    "    ax1.scatter(all_dt,all_airmasses,marker=\"o\",color=all_colors) \n",
    "    #ax1.set_ylim(zmax*1.1,zmin*0.9)\n",
    "    ax1.set_ylim(2.6,0.9)\n",
    "    ax1.set_ylabel(\"airmass\")\n",
    "    ax1.set_xlabel(\"time since midnight (hours)\")\n",
    "    ax1.grid()\n",
    "\n",
    "    for idx, target in enumerate(all_targets):\n",
    "        ax1.text(all_dt[idx], 2.5, target,color=all_colors[idx],rotation=\"vertical\",fontsize=10)\n",
    "    \n",
    "\n",
    "\n",
    "\n",
    "    # save fig in fig container\n",
    "\n",
    "    all_figs_to_pdf.append(fig) \n",
    "\n",
    "    # save individual figures\n",
    "    figname =f\"{pathfigs}/annnighttransmissionamz_{dateobs}\"+figtype\n",
    "    plt.savefig(figname)\n",
    "      \n",
    "\n",
    "\n",
    "    plt.show()\n",
    "\n",
    "    #if idx_file == 0:\n",
    "    #    break\n",
    "\n",
    "      "
   ]
  },
  {
   "cell_type": "markdown",
   "id": "925bc525-7bfd-4625-8829-5c2951364553",
   "metadata": {},
   "source": [
    "## Make BouguerLine\n",
    "\n",
    "- Simpler than in https://github.com/sylvielsstfr/AuxTelComm/blob/main/notebooks_usdf/BouguerLines/202307/MLfit_bouguer_linearfit-OneBigBin-20230118-empty~holo_psf2dffm-rebin1.ipynb"
   ]
  },
  {
   "cell_type": "code",
   "execution_count": null,
   "id": "19adfd30-d0e4-42e2-9a94-b82fdf08565f",
   "metadata": {
    "execution": {
     "iopub.execute_input": "2024-12-10T17:08:12.709430Z",
     "iopub.status.busy": "2024-12-10T17:08:12.709290Z",
     "iopub.status.idle": "2024-12-10T17:08:12.714264Z",
     "shell.execute_reply": "2024-12-10T17:08:12.713911Z",
     "shell.execute_reply.started": "2024-12-10T17:08:12.709418Z"
    }
   },
   "outputs": [],
   "source": [
    "def MakeBouguerLinesFromTransmission(fname,wlcenter,wlwidth):\n",
    "    \"\"\"\n",
    "\n",
    "    Simple method to do the Bouguer line: Compute the average transmission in the wavelength bin.\n",
    "    Another method would integrate the SED-Flux and the Spectrum flux. To be done later\n",
    "\n",
    "    Parameters:\n",
    "        fname : hdf5 file containing the spectra\n",
    "        wlcenter,wlwidth : wavelength bin for which compute wavelength\n",
    "    \"\"\"\n",
    "\n",
    "    ffname = os.path.join(datapath_input,fname)\n",
    "    night_dict = readhdf5_pernightspectra(ffname)\n",
    "    dateobs = int(re.findall(\"^spectra_transmission_(.*)[.]h5\",fname)[0])\n",
    "\n",
    "\n",
    "    # find the airmasses\n",
    "    Nobs = len(night_dict)\n",
    "    all_airmasses = np.zeros(Nobs)\n",
    "    all_pwv = np.zeros(Nobs)\n",
    "    all_dt = np.zeros(Nobs)\n",
    "    all_targets = []\n",
    "    all_transm_mean =  np.zeros(Nobs)\n",
    "    all_transm_std =  np.zeros(Nobs)\n",
    "        \n",
    "\n",
    "    # loop on observation\n",
    "    for idx,key in enumerate(night_dict.keys()):\n",
    "        all_airmasses[idx]  = night_dict[key]['attr']['airmass']\n",
    "        pwv = night_dict[key]['attr']['PWV [mm]_x']\n",
    "        all_pwv[idx] = pwv\n",
    "        all_dt[idx] = night_dict[key]['attr']['dt_midnight']\n",
    "        all_targets.append(night_dict[key]['attr']['target'])\n",
    "        the_datasets =  night_dict[key][\"datasets\"]\n",
    "        wls = the_datasets['wls']\n",
    "        transm = the_datasets['transm_atz']\n",
    "        indexes_wls = np.where(np.logical_and(wls>= wlcenter-wlwidth/2.,wls<wlcenter+wlwidth/2.))[0]\n",
    "        transm_selected = transm[indexes_wls] \n",
    "        all_transm_mean[idx] = transm_selected.mean()\n",
    "        all_transm_std[idx] = transm_selected.std()\n",
    "        \n",
    "        \n",
    "    list_of_targets = np.array(all_targets)\n",
    "    list_of_targets = np.unique(list_of_targets)\n",
    "   \n",
    "    Ntargets = len(list_of_targets) \n",
    "    return all_airmasses,all_pwv,all_transm_mean,all_transm_std, dateobs\n"
   ]
  },
  {
   "cell_type": "code",
   "execution_count": null,
   "id": "6770c52e-b084-45f9-8b5f-537d3227db2b",
   "metadata": {
    "execution": {
     "iopub.execute_input": "2024-12-10T17:08:12.714778Z",
     "iopub.status.busy": "2024-12-10T17:08:12.714656Z",
     "iopub.status.idle": "2024-12-10T17:08:12.722821Z",
     "shell.execute_reply": "2024-12-10T17:08:12.722475Z",
     "shell.execute_reply.started": "2024-12-10T17:08:12.714766Z"
    }
   },
   "outputs": [],
   "source": [
    "print(list_of_hdf5_files)"
   ]
  },
  {
   "cell_type": "code",
   "execution_count": null,
   "id": "d5f64b49-6370-40bb-9112-8727f49a9eec",
   "metadata": {
    "execution": {
     "iopub.execute_input": "2024-12-10T17:08:12.723348Z",
     "iopub.status.busy": "2024-12-10T17:08:12.723229Z",
     "iopub.status.idle": "2024-12-10T17:08:12.914216Z",
     "shell.execute_reply": "2024-12-10T17:08:12.913739Z",
     "shell.execute_reply.started": "2024-12-10T17:08:12.723337Z"
    }
   },
   "outputs": [],
   "source": [
    "am,pwv,y,ey, dateobs = MakeBouguerLinesFromTransmission('spectra_transmission_20241015.h5',940.,15.)\n",
    "am,pwv,y,ey, dateobs = MakeBouguerLinesFromTransmission('spectra_transmission_20240925.h5',940.,15.)"
   ]
  },
  {
   "cell_type": "code",
   "execution_count": null,
   "id": "7f58fe40-2d86-4152-bef0-bae7a9dcaff0",
   "metadata": {},
   "outputs": [],
   "source": []
  },
  {
   "cell_type": "code",
   "execution_count": null,
   "id": "d0d72e4a-52d4-4223-8cd7-2a527e41025d",
   "metadata": {
    "execution": {
     "iopub.execute_input": "2024-12-10T17:08:12.914844Z",
     "iopub.status.busy": "2024-12-10T17:08:12.914711Z",
     "iopub.status.idle": "2024-12-10T17:08:12.916905Z",
     "shell.execute_reply": "2024-12-10T17:08:12.916558Z",
     "shell.execute_reply.started": "2024-12-10T17:08:12.914832Z"
    }
   },
   "outputs": [],
   "source": [
    "wlbins = np.arange(900.,980.,10)"
   ]
  },
  {
   "cell_type": "code",
   "execution_count": null,
   "id": "40aa2e73-fc77-4626-9986-153aab9cb5ac",
   "metadata": {
    "execution": {
     "iopub.execute_input": "2024-12-10T17:08:12.917434Z",
     "iopub.status.busy": "2024-12-10T17:08:12.917315Z",
     "iopub.status.idle": "2024-12-10T17:08:12.925257Z",
     "shell.execute_reply": "2024-12-10T17:08:12.924849Z",
     "shell.execute_reply.started": "2024-12-10T17:08:12.917423Z"
    }
   },
   "outputs": [],
   "source": [
    "wlbins"
   ]
  },
  {
   "cell_type": "code",
   "execution_count": null,
   "id": "ed44c1a5-f22c-45b7-8f87-219eb97b8964",
   "metadata": {
    "execution": {
     "iopub.execute_input": "2024-12-10T17:08:12.925819Z",
     "iopub.status.busy": "2024-12-10T17:08:12.925700Z",
     "iopub.status.idle": "2024-12-10T17:08:12.931085Z",
     "shell.execute_reply": "2024-12-10T17:08:12.930745Z",
     "shell.execute_reply.started": "2024-12-10T17:08:12.925808Z"
    }
   },
   "outputs": [],
   "source": [
    "colormap = cm.jet \n",
    "normalize = mcolors.Normalize(vmin=np.min(wlbins), vmax=np.max(wlbins))\n",
    "# Colorbar setup\n",
    "#s_map = cm.ScalarMappable(norm=normalize, cmap=colormap)\n",
    "#s_map.set_array(wlbins)"
   ]
  },
  {
   "cell_type": "code",
   "execution_count": null,
   "id": "ee04aae5-33f6-462f-8de3-4d993aad5a38",
   "metadata": {
    "execution": {
     "iopub.execute_input": "2024-12-10T17:08:12.931614Z",
     "iopub.status.busy": "2024-12-10T17:08:12.931496Z",
     "iopub.status.idle": "2024-12-10T17:08:13.234919Z",
     "shell.execute_reply": "2024-12-10T17:08:13.234565Z",
     "shell.execute_reply.started": "2024-12-10T17:08:12.931603Z"
    }
   },
   "outputs": [],
   "source": [
    "fig,(ax1,ax2) = plt.subplots(1,2,figsize=(16,5),constrained_layout=True)\n",
    "\n",
    "zpwv = am*pwv\n",
    "mag = -2.5*np.log10(y)\n",
    "emag = ey/y\n",
    "\n",
    "magmax = np.max(mag+emag)\n",
    "\n",
    "ax1.errorbar(zpwv,mag,yerr=emag,fmt=\"o\",color=\"r\",ecolor=\"k\")\n",
    "ax1.set_xlim(0.,zpwv.max()*1.2)\n",
    "ax1.set_ylim(0.,magmax)\n",
    "\n",
    "ax2.errorbar(zpwv,mag,yerr=emag,fmt=\"o\",color=\"r\",ecolor=\"k\")\n",
    "ax2.set_xlim(0.1,zpwv.max()*1.2)\n",
    "ax2.set_ylim(0,magmax)\n",
    "ax2.set_xscale(\"log\")"
   ]
  },
  {
   "cell_type": "code",
   "execution_count": null,
   "id": "48428e26-718a-4f16-a57e-459597ca8ace",
   "metadata": {
    "execution": {
     "iopub.execute_input": "2024-12-10T17:08:13.235503Z",
     "iopub.status.busy": "2024-12-10T17:08:13.235374Z",
     "iopub.status.idle": "2024-12-10T17:08:14.546509Z",
     "shell.execute_reply": "2024-12-10T17:08:14.546104Z",
     "shell.execute_reply.started": "2024-12-10T17:08:13.235492Z"
    }
   },
   "outputs": [],
   "source": [
    "fname = 'spectra_transmission_20240925.h5'\n",
    "\n",
    "fig,axs = plt.subplots(2,2,figsize=(16,10),constrained_layout=True)\n",
    "\n",
    "ax1,ax2,ax3,ax4 = axs.flat\n",
    "\n",
    "all_am = np.array([])\n",
    "all_zpwv = np.array([])\n",
    "all_magmax = np.array([])\n",
    "\n",
    "for idx_wl ,wlbin in enumerate(wlbins):\n",
    "    the_color = colormap(normalize(wlbin))\n",
    "    am,pwv,y,ey,dateobs = MakeBouguerLinesFromTransmission(fname,wlbin,15.)\n",
    "\n",
    "    label = f\"$\\lambda = $\" +f\"{wlbin:.1f} nm\"\n",
    "\n",
    "    zpwv = am*pwv\n",
    "    mag = -2.5*np.log10(y)\n",
    "    emag = ey/y\n",
    "    magmax = np.max(mag+emag)\n",
    "    \n",
    "    all_am = np.append(all_am,am)\n",
    "    all_zpwv = np.append(all_zpwv,zpwv)\n",
    "    all_magmax = np.append(all_magmax,magmax)\n",
    "\n",
    "    ax1.errorbar(am,mag,yerr=emag,fmt=\"o\",color=the_color,ecolor=\"k\",label=label)\n",
    "    ax2.errorbar(am,mag,yerr=emag,fmt=\"o\",color=the_color,ecolor=\"k\")\n",
    "    \n",
    "\n",
    "    ax3.errorbar(zpwv,mag,yerr=emag,fmt=\"o\",color=the_color,ecolor=\"k\")\n",
    "    \n",
    "    ax4.errorbar(zpwv,mag,yerr=emag,fmt=\"o\",color=the_color,ecolor=\"k\")\n",
    "\n",
    "ax1.set_xlim(0.,all_am.max()*1.2)\n",
    "ax1.set_ylim(0.,all_magmax.max())\n",
    "ax1.set_xlabel(\"airmass\")\n",
    "ax1.set_ylabel(\"$-2.5\\log_{10} (T_\\\\lambda)$\")\n",
    "ax1.grid()\n",
    "ax1.legend()\n",
    "\n",
    "ax2.set_xlim(0.1,all_am.max()*1.2)\n",
    "ax2.set_ylim(0.,all_magmax.max())\n",
    "ax2.set_xlabel(\"airmass (log scale)\")\n",
    "ax2.set_xscale(\"log\")\n",
    "ax2.grid()\n",
    "\n",
    "ax3.set_xlim(0.,all_zpwv.max()*1.2)\n",
    "ax3.set_ylim(0.,all_magmax.max())\n",
    "ax3.set_xlabel(\"airmass x pwv (mm)\")\n",
    "ax3.set_ylabel(\"$-2.5\\log_{10} (T_\\\\lambda)$\")\n",
    "ax3.grid()\n",
    "\n",
    "ax4.set_xlim(0.1,all_zpwv.max()*1.2)\n",
    "ax4.set_ylim(0.,all_magmax.max())\n",
    "ax4.set_xscale(\"log\")\n",
    "ax4.set_xlabel(\"airmass x pwv (mm) (log scale)\")\n",
    "ax4.grid()\n",
    "\n",
    "suptitle = f\"Bouguer curves in PWV region night = {dateobs}\"\n",
    "plt.suptitle(suptitle,fontsize=20,fontweight='bold')\n",
    "plt.show()"
   ]
  },
  {
   "cell_type": "code",
   "execution_count": null,
   "id": "8b521164-949f-4d1f-946a-333eb0fe75e6",
   "metadata": {
    "execution": {
     "iopub.execute_input": "2024-12-10T17:08:14.547145Z",
     "iopub.status.busy": "2024-12-10T17:08:14.547007Z",
     "iopub.status.idle": "2024-12-10T17:08:14.553912Z",
     "shell.execute_reply": "2024-12-10T17:08:14.553535Z",
     "shell.execute_reply.started": "2024-12-10T17:08:14.547133Z"
    }
   },
   "outputs": [],
   "source": [
    "def PlotBouguerlineCurves(fname,wlbins,wlwidth):\n",
    "    \"\"\"\n",
    "    \"\"\"\n",
    "    fig,axs = plt.subplots(2,2,figsize=(16,10),constrained_layout=True)\n",
    "\n",
    "    ax1,ax2,ax3,ax4 = axs.flat\n",
    "\n",
    "    all_am = np.array([])\n",
    "    all_zpwv = np.array([])\n",
    "    all_magmax = np.array([])\n",
    "\n",
    "    for idx_wl ,wlbin in enumerate(wlbins):\n",
    "        the_color = colormap(normalize(wlbin))\n",
    "        am,pwv,y,ey,dateobs = MakeBouguerLinesFromTransmission(fname,wlbin,wlwidth)\n",
    "\n",
    "        label = f\"$\\lambda = $\" +f\"{wlbin:.1f} nm\"\n",
    "\n",
    "        zpwv = am*pwv\n",
    "        mag = -2.5*np.log10(y)\n",
    "        emag = ey/y\n",
    "        magmax = np.max(mag+emag)\n",
    "    \n",
    "        all_am = np.append(all_am,am)\n",
    "        all_zpwv = np.append(all_zpwv,zpwv)\n",
    "        all_magmax = np.append(all_magmax,magmax)\n",
    "\n",
    "        ax1.errorbar(am,mag,yerr=emag,fmt=\"o\",color=the_color,ecolor=\"k\",label=label)\n",
    "        ax2.errorbar(am,mag,yerr=emag,fmt=\"o\",color=the_color,ecolor=\"k\")\n",
    "        ax3.errorbar(zpwv,mag,yerr=emag,fmt=\"o\",color=the_color,ecolor=\"k\")\n",
    "        ax4.errorbar(zpwv,mag,yerr=emag,fmt=\"o\",color=the_color,ecolor=\"k\")\n",
    "\n",
    "    ax1.set_xlim(0.,all_am.max()*1.2)\n",
    "    ax1.set_ylim(0.,all_magmax.max())\n",
    "    ax1.set_xlabel(\"airmass\")\n",
    "    ax1.set_ylabel(\"$-2.5\\log_{10} (T_\\\\lambda)$\")\n",
    "    ax1.grid()\n",
    "    ax1.legend()\n",
    "\n",
    "    ax2.set_xlim(0.1,all_am.max()*1.2)\n",
    "    ax2.set_ylim(0.,all_magmax.max())\n",
    "    ax2.set_xlabel(\"airmass (log scale)\")\n",
    "    ax2.set_xscale(\"log\")\n",
    "    ax2.grid()\n",
    "\n",
    "    ax3.set_xlim(0.,all_zpwv.max()*1.2)\n",
    "    ax3.set_ylim(0.,all_magmax.max())\n",
    "    ax3.set_xlabel(\"airmass x pwv (mm)\")\n",
    "    ax3.set_ylabel(\"$-2.5\\log_{10} (T_\\\\lambda)$\")\n",
    "    ax3.grid()\n",
    "\n",
    "    ax4.set_xlim(0.1,all_zpwv.max()*1.2)\n",
    "    ax4.set_ylim(0.,all_magmax.max())\n",
    "    ax4.set_xscale(\"log\")\n",
    "    ax4.set_xlabel(\"airmass x pwv (mm) (log scale)\")\n",
    "    ax4.grid()\n",
    "\n",
    "    suptitle = f\"Bouguer curves in PWV region night = {dateobs}\"\n",
    "    plt.suptitle(suptitle,fontsize=20,fontweight='bold')\n",
    "    plt.show()"
   ]
  },
  {
   "cell_type": "code",
   "execution_count": null,
   "id": "df133310-d58d-42fc-991e-dba6af3eadc8",
   "metadata": {
    "execution": {
     "iopub.execute_input": "2024-12-10T17:08:14.554480Z",
     "iopub.status.busy": "2024-12-10T17:08:14.554340Z",
     "iopub.status.idle": "2024-12-10T17:09:05.404007Z",
     "shell.execute_reply": "2024-12-10T17:09:05.403563Z",
     "shell.execute_reply.started": "2024-12-10T17:08:14.554467Z"
    }
   },
   "outputs": [],
   "source": [
    "wlbins = np.arange(900.,980.,10)\n",
    "wlwidth = 15\n",
    "for idx_file,fname in enumerate(list_of_hdf5_files):\n",
    "    PlotBouguerlineCurves(fname,wlbins,wlwidth)\n",
    "    "
   ]
  },
  {
   "cell_type": "code",
   "execution_count": null,
   "id": "66ebb0fa-dea5-4901-a14a-59460d901ba5",
   "metadata": {
    "execution": {
     "iopub.execute_input": "2024-12-10T17:09:05.404825Z",
     "iopub.status.busy": "2024-12-10T17:09:05.404642Z",
     "iopub.status.idle": "2024-12-10T17:09:05.408704Z",
     "shell.execute_reply": "2024-12-10T17:09:05.408344Z",
     "shell.execute_reply.started": "2024-12-10T17:09:05.404813Z"
    }
   },
   "outputs": [],
   "source": [
    "def ExtractBouguerlineCurves(fname,wlbins,wlwidth):\n",
    "    \"\"\"\n",
    "    Extract Bouguer lineCurves (Not plot)\n",
    "\n",
    "    Parameters\n",
    "       fname : filename\n",
    "       wlbins : array of wavelengths\n",
    "       wlwidth : bin size\n",
    "    \"\"\"\n",
    "\n",
    "\n",
    "    all_am = []\n",
    "    all_pwv = []\n",
    "    all_zpwv = []\n",
    "    all_mag = []\n",
    "    all_emag = []\n",
    "    all_dateobs = []\n",
    "\n",
    "    # loop on wavelengths bins\n",
    "    for idx_wl ,wlbin in enumerate(wlbins):\n",
    "        the_color = colormap(normalize(wlbin))\n",
    "        am,pwv,y,ey,dateobs = MakeBouguerLinesFromTransmission(fname,wlbin,wlwidth)\n",
    "\n",
    "        zpwv = am*pwv\n",
    "        mag = -2.5*np.log10(y)\n",
    "        emag = ey/y\n",
    "    \n",
    "        all_am.append(am)\n",
    "        all_pwv.append(pwv)\n",
    "        all_zpwv.append(zpwv)\n",
    "        all_mag.append(mag)\n",
    "        all_emag.append(emag)\n",
    "        all_dateobs.append(dateobs)\n",
    "\n",
    "    return all_am,all_pwv,all_zpwv,all_mag,all_emag,all_dateobs\n"
   ]
  },
  {
   "cell_type": "markdown",
   "id": "c625cce8-335b-4be8-ac99-626093fbf5ed",
   "metadata": {},
   "source": [
    "## Plot"
   ]
  },
  {
   "cell_type": "code",
   "execution_count": null,
   "id": "20ef6a2f-040f-4e6d-8929-f19710e3ed4c",
   "metadata": {
    "execution": {
     "iopub.execute_input": "2024-12-10T17:46:15.833402Z",
     "iopub.status.busy": "2024-12-10T17:46:15.833094Z"
    }
   },
   "outputs": [],
   "source": [
    "fig,(ax1,ax2) = plt.subplots(2,1,figsize=(16,16),constrained_layout=True)\n",
    "\n",
    "\n",
    "wlbins = np.arange(900.,980.,10)\n",
    "wlwidth = 15\n",
    "colormap = cm.jet \n",
    "normalize = mcolors.Normalize(vmin=np.min(wlbins), vmax=np.max(wlbins))\n",
    "\n",
    "\n",
    "\n",
    "for idx_file,fname in enumerate(list_of_hdf5_files):\n",
    "    all_am,all_pwv,all_zpwv,all_mag,all_emag,all_dateobs = ExtractBouguerlineCurves(fname,wlbins,wlwidth)\n",
    "\n",
    "\n",
    "    for idx_wl ,wlbin in enumerate(wlbins):\n",
    "        the_color = colormap(normalize(wlbin))\n",
    "        \n",
    "        am = all_am[idx_wl]\n",
    "        pwv = all_pwv[idx_wl]\n",
    "        zpwv = all_zpwv[idx_wl]\n",
    "        mag = all_mag[idx_wl]\n",
    "        emag = all_emag[idx_wl]\n",
    "       \n",
    "\n",
    "        ax1.errorbar(zpwv,mag,yerr=emag,fmt=\"o\",color=the_color,ecolor=\"k\")\n",
    "        ax2.errorbar(zpwv,mag,yerr=emag,fmt=\"o\",color=the_color,ecolor=\"k\")\n",
    "\n",
    "xmin,xmax = ax1.get_xlim()\n",
    "ymin,ymax = ax1.get_ylim()\n",
    "\n",
    "ax1.set_xlim(0.,xmax*1.2)\n",
    "ax1.set_ylim(0.,ymax*1.1)\n",
    "ax1.set_xlabel(\"airmass x pwv (mm)\")\n",
    "ax1.set_ylabel(\"$-2.5\\log_{10} (T_\\\\lambda)$\")\n",
    "ax1.grid()\n",
    "\n",
    " \n",
    "   \n",
    "\n",
    "xmin,xmax = ax2.get_xlim()\n",
    "ymin,ymax = ax2.get_ylim()\n",
    "\n",
    "ax2.set_xlim(1.,xmax*1.2)\n",
    "ax2.set_ylim(0,ymax)\n",
    "ax2.set_xlabel(\"airmass x pwv (mm) (log scale)\")\n",
    "ax2.set_ylabel(\"$-2.5\\log_{10} (T_\\\\lambda)$\")\n",
    "ax2.set_xscale(\"log\")\n",
    "ax2.grid()"
   ]
  },
  {
   "cell_type": "code",
   "execution_count": null,
   "id": "fa56e88a-6070-458a-b24c-cbb21dba0d5f",
   "metadata": {},
   "outputs": [],
   "source": []
  },
  {
   "cell_type": "code",
   "execution_count": null,
   "id": "b6d61984-249b-47dd-ae36-0cccd73d0c00",
   "metadata": {},
   "outputs": [],
   "source": []
  },
  {
   "cell_type": "code",
   "execution_count": null,
   "id": "ce2ef25a-7c53-4a93-8300-d07a60f9fe95",
   "metadata": {},
   "outputs": [],
   "source": []
  },
  {
   "cell_type": "code",
   "execution_count": null,
   "id": "594c964e-a0c1-4625-b497-dc317ed88490",
   "metadata": {
    "execution": {
     "iopub.execute_input": "2024-12-10T17:09:31.228626Z",
     "iopub.status.busy": "2024-12-10T17:09:31.228485Z",
     "iopub.status.idle": "2024-12-10T17:09:31.313417Z",
     "shell.execute_reply": "2024-12-10T17:09:31.312854Z",
     "shell.execute_reply.started": "2024-12-10T17:09:31.228614Z"
    }
   },
   "outputs": [],
   "source": [
    "assert False"
   ]
  },
  {
   "cell_type": "markdown",
   "id": "edbbf96e-831a-45e6-b6b8-1656b7877f59",
   "metadata": {},
   "source": [
    "### Save all transmission curves "
   ]
  },
  {
   "cell_type": "code",
   "execution_count": null,
   "id": "461fc098-f189-4002-bf4e-a740c1547c36",
   "metadata": {
    "execution": {
     "iopub.status.busy": "2024-12-10T17:09:31.313818Z",
     "iopub.status.idle": "2024-12-10T17:09:31.313977Z",
     "shell.execute_reply": "2024-12-10T17:09:31.313902Z",
     "shell.execute_reply.started": "2024-12-10T17:09:31.313894Z"
    }
   },
   "outputs": [],
   "source": [
    "from matplotlib.backends.backend_pdf import PdfPages"
   ]
  },
  {
   "cell_type": "code",
   "execution_count": null,
   "id": "8e635ad5-86fd-46e1-bb77-28f3e79d19b7",
   "metadata": {
    "execution": {
     "iopub.status.busy": "2024-12-10T17:09:31.314614Z",
     "iopub.status.idle": "2024-12-10T17:09:31.314877Z",
     "shell.execute_reply": "2024-12-10T17:09:31.314794Z",
     "shell.execute_reply.started": "2024-12-10T17:09:31.314786Z"
    }
   },
   "outputs": [],
   "source": [
    "pdf_filename = f\"holo_night_transmissionsz_tight.pdf\"\n",
    "pdf_fullfilename = os.path.join(pathfigs,pdf_filename)\n",
    "with PdfPages(pdf_fullfilename) as pdf:\n",
    "    for fig in all_figs_to_pdf:\n",
    "        pdf.savefig(fig, bbox_inches='tight') "
   ]
  },
  {
   "cell_type": "code",
   "execution_count": null,
   "id": "d0b124c2-6362-4725-b96b-6b4c1fea7b1b",
   "metadata": {
    "execution": {
     "iopub.status.busy": "2024-12-10T17:09:31.315441Z",
     "iopub.status.idle": "2024-12-10T17:09:31.315595Z",
     "shell.execute_reply": "2024-12-10T17:09:31.315520Z",
     "shell.execute_reply.started": "2024-12-10T17:09:31.315514Z"
    }
   },
   "outputs": [],
   "source": [
    "pdf_filename = f\"holo_night_transmissionsz_nottight.pdf\"\n",
    "pdf_fullfilename = os.path.join(pathfigs,pdf_filename)\n",
    "with PdfPages(pdf_fullfilename) as pdf:\n",
    "    for fig in all_figs_to_pdf:\n",
    "        pdf.savefig(fig) "
   ]
  }
 ],
 "metadata": {
  "kernelspec": {
   "display_name": "LSST",
   "language": "python",
   "name": "lsst"
  },
  "language_info": {
   "codemirror_mode": {
    "name": "ipython",
    "version": 3
   },
   "file_extension": ".py",
   "mimetype": "text/x-python",
   "name": "python",
   "nbconvert_exporter": "python",
   "pygments_lexer": "ipython3",
   "version": "3.11.9"
  }
 },
 "nbformat": 4,
 "nbformat_minor": 5
}
