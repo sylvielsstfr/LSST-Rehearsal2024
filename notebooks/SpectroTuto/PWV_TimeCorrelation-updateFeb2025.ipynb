{
 "cells": [
  {
   "cell_type": "markdown",
   "id": "45bf4242-bfc5-4d43-88c4-a8059ae148df",
   "metadata": {},
   "source": [
    "# Time correlation on PWV and Discrete Covariance Function"
   ]
  },
  {
   "cell_type": "markdown",
   "id": "01993b6e-6438-4fca-a5d5-1f9791336847",
   "metadata": {},
   "source": [
    "- author Sylvie Dagoret-Campagne\n",
    "- affiliation : IJCLab\n",
    "- creation date 2024-11-08 :\n",
    "- update 2025-02-05 \n",
    "\n",
    "- Kernel @usdf **w_2025_50*\n",
    "- Office emac : mamba_py311\n",
    "- Home emac : base (conda)\n",
    "- laptop : conda_py310\n",
    "- pyzdcf : readthedoc , https://pyzdcf.readthedocs.io/en/latest/ and github, https://github.com/LSST-sersag/pyzdcf, availle in pypi : https://pypi.org/project/pyzdcf/\n",
    "- CANNOT INSTALL PYZDCF AT USDF"
   ]
  },
  {
   "cell_type": "markdown",
   "id": "0219159d-6865-4311-ac1d-99d11dad223f",
   "metadata": {},
   "source": [
    "**Goal** : Show correlation holo /Merra"
   ]
  },
  {
   "cell_type": "code",
   "execution_count": null,
   "id": "63a2b2ef-0bc2-45eb-91d9-87835d264751",
   "metadata": {
    "execution": {
     "iopub.execute_input": "2025-02-05T14:19:27.091878Z",
     "iopub.status.busy": "2025-02-05T14:19:27.091735Z",
     "iopub.status.idle": "2025-02-05T14:19:27.094670Z",
     "shell.execute_reply": "2025-02-05T14:19:27.094261Z",
     "shell.execute_reply.started": "2025-02-05T14:19:27.091862Z"
    },
    "tags": []
   },
   "outputs": [],
   "source": [
    "from platform import python_version\n",
    "print(python_version())"
   ]
  },
  {
   "cell_type": "code",
   "execution_count": null,
   "id": "dcc53afe-c58f-4948-92c9-0090d373ad2a",
   "metadata": {
    "execution": {
     "iopub.execute_input": "2025-02-05T14:19:27.095361Z",
     "iopub.status.busy": "2025-02-05T14:19:27.095222Z",
     "iopub.status.idle": "2025-02-05T14:19:27.105127Z",
     "shell.execute_reply": "2025-02-05T14:19:27.104741Z",
     "shell.execute_reply.started": "2025-02-05T14:19:27.095346Z"
    }
   },
   "outputs": [],
   "source": [
    "import warnings\n",
    "warnings.resetwarnings()\n",
    "warnings.simplefilter('ignore')"
   ]
  },
  {
   "cell_type": "code",
   "execution_count": null,
   "id": "8026d265-2493-4045-afec-26205ff71f7c",
   "metadata": {
    "execution": {
     "iopub.execute_input": "2025-02-05T14:19:27.105886Z",
     "iopub.status.busy": "2025-02-05T14:19:27.105739Z",
     "iopub.status.idle": "2025-02-05T14:19:27.112993Z",
     "shell.execute_reply": "2025-02-05T14:19:27.112595Z",
     "shell.execute_reply.started": "2025-02-05T14:19:27.105870Z"
    },
    "tags": []
   },
   "outputs": [],
   "source": [
    "from platform import python_version\n",
    "print(python_version())"
   ]
  },
  {
   "cell_type": "code",
   "execution_count": null,
   "id": "eb1f116e-80e3-46ad-a7db-7f253632e5ca",
   "metadata": {
    "execution": {
     "iopub.execute_input": "2025-02-05T14:19:27.113562Z",
     "iopub.status.busy": "2025-02-05T14:19:27.113426Z",
     "iopub.status.idle": "2025-02-05T14:19:27.120056Z",
     "shell.execute_reply": "2025-02-05T14:19:27.119624Z",
     "shell.execute_reply.started": "2025-02-05T14:19:27.113546Z"
    }
   },
   "outputs": [],
   "source": [
    "import os"
   ]
  },
  {
   "cell_type": "code",
   "execution_count": null,
   "id": "c4ff1199-6b0a-4147-a425-59405f74c454",
   "metadata": {
    "execution": {
     "iopub.execute_input": "2025-02-05T14:19:27.120728Z",
     "iopub.status.busy": "2025-02-05T14:19:27.120577Z",
     "iopub.status.idle": "2025-02-05T14:19:27.713098Z",
     "shell.execute_reply": "2025-02-05T14:19:27.712586Z",
     "shell.execute_reply.started": "2025-02-05T14:19:27.120712Z"
    }
   },
   "outputs": [],
   "source": [
    "from pyzdcf import pyzdcf"
   ]
  },
  {
   "cell_type": "code",
   "execution_count": null,
   "id": "3ec760cd-3d3f-4a34-a6f6-b226fe500951",
   "metadata": {
    "execution": {
     "iopub.execute_input": "2025-02-05T14:19:27.713994Z",
     "iopub.status.busy": "2025-02-05T14:19:27.713706Z",
     "iopub.status.idle": "2025-02-05T14:19:27.716745Z",
     "shell.execute_reply": "2025-02-05T14:19:27.716317Z",
     "shell.execute_reply.started": "2025-02-05T14:19:27.713979Z"
    }
   },
   "outputs": [],
   "source": [
    "# where are stored the figures\n",
    "pathfigs = \"figsHoloCorrelationPWVTime-v2\"\n",
    "if not os.path.exists(pathfigs):\n",
    "    os.makedirs(pathfigs) \n",
    "figtype = \".png\""
   ]
  },
  {
   "cell_type": "code",
   "execution_count": null,
   "id": "805cabc7-2030-4e0b-9150-9f3186ff4821",
   "metadata": {
    "execution": {
     "iopub.execute_input": "2025-02-05T14:19:27.717516Z",
     "iopub.status.busy": "2025-02-05T14:19:27.717218Z",
     "iopub.status.idle": "2025-02-05T14:19:27.724741Z",
     "shell.execute_reply": "2025-02-05T14:19:27.724303Z",
     "shell.execute_reply.started": "2025-02-05T14:19:27.717500Z"
    }
   },
   "outputs": [],
   "source": [
    "pathdata = \"dataHoloCorrelationPWVTime\"\n",
    "if not os.path.exists(pathdata):\n",
    "    os.makedirs(pathdata) \n",
    "datapath_input = os.path.join(pathdata,\"timecurves\") \n",
    "datapath_output = os.path.join(pathdata,\"results\") \n",
    "if not os.path.exists(datapath_input):\n",
    "    os.makedirs(datapath_input) \n",
    "if not os.path.exists(datapath_output):\n",
    "    os.makedirs(datapath_output) "
   ]
  },
  {
   "cell_type": "code",
   "execution_count": null,
   "id": "bf752b70-e6ca-4cbf-8e8c-20bf7f0d8f61",
   "metadata": {
    "execution": {
     "iopub.execute_input": "2025-02-05T14:19:27.725602Z",
     "iopub.status.busy": "2025-02-05T14:19:27.725290Z",
     "iopub.status.idle": "2025-02-05T14:19:28.528998Z",
     "shell.execute_reply": "2025-02-05T14:19:28.528405Z",
     "shell.execute_reply.started": "2025-02-05T14:19:27.725585Z"
    }
   },
   "outputs": [],
   "source": [
    "import numpy as np\n",
    "from numpy.linalg import inv\n",
    "import matplotlib as mpl\n",
    "import matplotlib.pyplot as plt\n",
    "%matplotlib inline\n",
    "from mpl_toolkits.axes_grid1 import make_axes_locatable\n",
    "from matplotlib.colors import LogNorm,SymLogNorm\n",
    "from matplotlib.patches import Circle,Annulus\n",
    "from astropy.visualization import ZScaleInterval\n",
    "props = dict(boxstyle='round', facecolor=\"white\", alpha=0.1)\n",
    "#props = dict(boxstyle='round')\n",
    "\n",
    "import matplotlib.colors as colors\n",
    "import matplotlib.cm as cmx\n",
    "\n",
    "import matplotlib.ticker                         # here's where the formatter is\n",
    "from matplotlib.ticker import (MultipleLocator, FormatStrFormatter,\n",
    "                               AutoMinorLocator)\n",
    "\n",
    "from matplotlib.gridspec import GridSpec\n",
    "\n",
    "from astropy.visualization import (MinMaxInterval, SqrtStretch,ZScaleInterval,PercentileInterval,\n",
    "                                   ImageNormalize,imshow_norm)\n",
    "from astropy.visualization.stretch import SinhStretch, LinearStretch,AsinhStretch,LogStretch\n",
    "\n",
    "from astropy.io import fits\n",
    "from astropy.wcs import WCS\n",
    "from astropy import units as u\n",
    "from astropy import constants as c\n",
    "\n",
    "from astropy.coordinates.earth import EarthLocation\n",
    "from datetime import datetime\n",
    "from pytz import timezone\n",
    "\n",
    "from scipy import interpolate\n",
    "from sklearn.neighbors import NearestNeighbors\n",
    "from sklearn.neighbors import KDTree, BallTree\n",
    "\n",
    "import pandas as pd\n",
    "pd.set_option(\"display.max_columns\", None)\n",
    "pd.set_option('display.max_rows', 100)\n",
    "\n",
    "import matplotlib.ticker                         # here's where the formatter is\n",
    "import os\n",
    "import re\n",
    "import pandas as pd\n",
    "import pickle\n",
    "from collections import OrderedDict\n",
    "\n",
    "plt.rcParams[\"figure.figsize\"] = (4,3)\n",
    "plt.rcParams[\"axes.labelsize\"] = 'xx-large'\n",
    "plt.rcParams['axes.titlesize'] = 'xx-large'\n",
    "plt.rcParams['xtick.labelsize']= 'xx-large'\n",
    "plt.rcParams['ytick.labelsize']= 'xx-large'\n",
    "\n",
    "import scipy\n",
    "from scipy.optimize import curve_fit,least_squares\n",
    "\n",
    "\n",
    "# new color correction model\n",
    "import pickle\n",
    "from scipy.interpolate import RegularGridInterpolator"
   ]
  },
  {
   "cell_type": "code",
   "execution_count": null,
   "id": "98268139-19c9-46c3-af3b-42fb49770b26",
   "metadata": {
    "execution": {
     "iopub.execute_input": "2025-02-05T14:19:28.530040Z",
     "iopub.status.busy": "2025-02-05T14:19:28.529685Z",
     "iopub.status.idle": "2025-02-05T14:19:28.537477Z",
     "shell.execute_reply": "2025-02-05T14:19:28.537029Z",
     "shell.execute_reply.started": "2025-02-05T14:19:28.530021Z"
    }
   },
   "outputs": [],
   "source": [
    "from mpl_toolkits.axes_grid1.inset_locator import inset_axes"
   ]
  },
  {
   "cell_type": "code",
   "execution_count": null,
   "id": "0ca0d1e6-5f82-4c43-aaa3-8524fc2bc5ba",
   "metadata": {
    "execution": {
     "iopub.execute_input": "2025-02-05T14:19:28.538742Z",
     "iopub.status.busy": "2025-02-05T14:19:28.538590Z",
     "iopub.status.idle": "2025-02-05T14:19:28.541593Z",
     "shell.execute_reply": "2025-02-05T14:19:28.541171Z",
     "shell.execute_reply.started": "2025-02-05T14:19:28.538726Z"
    }
   },
   "outputs": [],
   "source": [
    "from matplotlib.ticker import (MultipleLocator, FormatStrFormatter,\n",
    "                               AutoMinorLocator)\n",
    "\n",
    "from astropy.visualization import (MinMaxInterval, SqrtStretch,ZScaleInterval,PercentileInterval,\n",
    "                                   ImageNormalize,imshow_norm)\n",
    "from astropy.visualization.stretch import SinhStretch, LinearStretch,AsinhStretch,LogStretch\n",
    "\n",
    "from astropy.time import Time\n"
   ]
  },
  {
   "cell_type": "code",
   "execution_count": null,
   "id": "e189816c-5048-43ab-a01a-7c078af54489",
   "metadata": {
    "execution": {
     "iopub.execute_input": "2025-02-05T14:19:28.542300Z",
     "iopub.status.busy": "2025-02-05T14:19:28.542148Z",
     "iopub.status.idle": "2025-02-05T14:19:28.547789Z",
     "shell.execute_reply": "2025-02-05T14:19:28.547356Z",
     "shell.execute_reply.started": "2025-02-05T14:19:28.542283Z"
    }
   },
   "outputs": [],
   "source": [
    "# Remove to run faster the notebook\n",
    "#import ipywidgets as widgets\n",
    "#%matplotlib widget"
   ]
  },
  {
   "cell_type": "code",
   "execution_count": null,
   "id": "67327fd4-e405-45ce-8923-cd46ebaa0c0f",
   "metadata": {
    "execution": {
     "iopub.execute_input": "2025-02-05T14:19:28.552270Z",
     "iopub.status.busy": "2025-02-05T14:19:28.551984Z",
     "iopub.status.idle": "2025-02-05T14:19:28.556027Z",
     "shell.execute_reply": "2025-02-05T14:19:28.555598Z",
     "shell.execute_reply.started": "2025-02-05T14:19:28.552257Z"
    },
    "tags": []
   },
   "outputs": [],
   "source": [
    "from importlib.metadata import version"
   ]
  },
  {
   "cell_type": "code",
   "execution_count": null,
   "id": "af8332dd-24f9-4b19-88f9-c62d0a4aebf1",
   "metadata": {
    "execution": {
     "iopub.execute_input": "2025-02-05T14:19:28.556838Z",
     "iopub.status.busy": "2025-02-05T14:19:28.556546Z",
     "iopub.status.idle": "2025-02-05T14:19:28.563162Z",
     "shell.execute_reply": "2025-02-05T14:19:28.562750Z",
     "shell.execute_reply.started": "2025-02-05T14:19:28.556822Z"
    },
    "tags": []
   },
   "outputs": [],
   "source": [
    "# wavelength bin colors\n",
    "#jet = plt.get_cmap('jet')\n",
    "#cNorm = mpl.colors.Normalize(vmin=0, vmax=NSED)\n",
    "#scalarMap = cmx.ScalarMappable(norm=cNorm, cmap=jet)\n",
    "#all_colors = scalarMap.to_rgba(np.arange(NSED), alpha=1)"
   ]
  },
  {
   "cell_type": "code",
   "execution_count": null,
   "id": "1003d9d6-a40f-48b1-9ffc-bfab9f45ba93",
   "metadata": {
    "execution": {
     "iopub.execute_input": "2025-02-05T14:19:28.563814Z",
     "iopub.status.busy": "2025-02-05T14:19:28.563661Z",
     "iopub.status.idle": "2025-02-05T14:19:28.570786Z",
     "shell.execute_reply": "2025-02-05T14:19:28.570361Z",
     "shell.execute_reply.started": "2025-02-05T14:19:28.563788Z"
    }
   },
   "outputs": [],
   "source": [
    "np.__version__"
   ]
  },
  {
   "cell_type": "code",
   "execution_count": null,
   "id": "c4cb2652-cb22-432e-b110-ae71d59dc793",
   "metadata": {
    "execution": {
     "iopub.execute_input": "2025-02-05T14:19:28.571387Z",
     "iopub.status.busy": "2025-02-05T14:19:28.571243Z",
     "iopub.status.idle": "2025-02-05T14:19:28.577962Z",
     "shell.execute_reply": "2025-02-05T14:19:28.577512Z",
     "shell.execute_reply.started": "2025-02-05T14:19:28.571365Z"
    }
   },
   "outputs": [],
   "source": [
    "pd.__version__"
   ]
  },
  {
   "cell_type": "code",
   "execution_count": null,
   "id": "ad03dc3d-6741-4478-82ba-1d5447529d9a",
   "metadata": {
    "execution": {
     "iopub.execute_input": "2025-02-05T14:19:28.578858Z",
     "iopub.status.busy": "2025-02-05T14:19:28.578473Z",
     "iopub.status.idle": "2025-02-05T14:19:28.585588Z",
     "shell.execute_reply": "2025-02-05T14:19:28.584989Z",
     "shell.execute_reply.started": "2025-02-05T14:19:28.578838Z"
    }
   },
   "outputs": [],
   "source": [
    "def convertNumToDatestr(num):\n",
    "    year = num//10_000\n",
    "    month= (num-year*10_000)//100\n",
    "    day = (num-year*10_000-month*100)\n",
    "\n",
    "    year_str = str(year).zfill(4)\n",
    "    month_str = str(month).zfill(2)\n",
    "    day_str = str(day).zfill(2)\n",
    "    \n",
    "    datestr = f\"{year_str}-{month_str}-{day_str}\"\n",
    "    return pd.to_datetime(datestr)"
   ]
  },
  {
   "cell_type": "markdown",
   "id": "4f13d6a3-7793-4bc0-920a-1d690d9f84b2",
   "metadata": {},
   "source": [
    "## Configuration"
   ]
  },
  {
   "cell_type": "code",
   "execution_count": null,
   "id": "c8cb2e48-0b34-4cbf-8379-43f7065112f7",
   "metadata": {
    "execution": {
     "iopub.execute_input": "2025-02-05T14:19:28.586460Z",
     "iopub.status.busy": "2025-02-05T14:19:28.586246Z",
     "iopub.status.idle": "2025-02-05T14:19:28.793358Z",
     "shell.execute_reply": "2025-02-05T14:19:28.792822Z",
     "shell.execute_reply.started": "2025-02-05T14:19:28.586441Z"
    }
   },
   "outputs": [],
   "source": [
    "observing_location = EarthLocation.of_site('Rubin Observatory')\n",
    "tz = timezone('America/Santiago')"
   ]
  },
  {
   "cell_type": "markdown",
   "id": "b884e71c-39cb-43e1-9edf-4a2cade9196e",
   "metadata": {},
   "source": [
    "### Spectro Hologram data"
   ]
  },
  {
   "cell_type": "code",
   "execution_count": null,
   "id": "a6d313e9-1621-40fb-a7d8-6d01522c7485",
   "metadata": {
    "execution": {
     "iopub.execute_input": "2025-02-05T14:19:28.794080Z",
     "iopub.status.busy": "2025-02-05T14:19:28.793939Z",
     "iopub.status.idle": "2025-02-05T14:19:28.798169Z",
     "shell.execute_reply": "2025-02-05T14:19:28.797761Z",
     "shell.execute_reply.started": "2025-02-05T14:19:28.794066Z"
    }
   },
   "outputs": [],
   "source": [
    "FLAG_WITHCOLLIMATOR = False\n",
    "DATE_WITHCOLLIMATOR = 20230930\n",
    "datetime_WITHCOLLIMATOR = convertNumToDatestr(DATE_WITHCOLLIMATOR)\n",
    "datetime_WITHCOLLIMATOR = pd.to_datetime(\"2023-09-30 00:00:00.0+0000\")\n",
    "datetime_WITHCOLLIMATOR"
   ]
  },
  {
   "cell_type": "code",
   "execution_count": null,
   "id": "5bac0cab-3886-4683-b1c8-fc59edacfd46",
   "metadata": {
    "execution": {
     "iopub.execute_input": "2025-02-05T14:19:28.798944Z",
     "iopub.status.busy": "2025-02-05T14:19:28.798798Z",
     "iopub.status.idle": "2025-02-05T14:19:28.804638Z",
     "shell.execute_reply": "2025-02-05T14:19:28.804225Z",
     "shell.execute_reply.started": "2025-02-05T14:19:28.798930Z"
    },
    "tags": []
   },
   "outputs": [],
   "source": [
    "version_results = \"v5\"\n",
    "legendtag = {\"v1\" : \"old v3.1.0\",\n",
    "            \"v2\" : \"v3.1.0-PWV<10mm\",\n",
    "            \"v3\" : \"v3.1.0-PWV<15mm\",\n",
    "            \"v4\" : \"Auxtel holo v3.1.0\",\n",
    "            \"v5\" : \"Auxtel holo v3.1.0 09/22 - 10/24\"}"
   ]
  },
  {
   "cell_type": "code",
   "execution_count": null,
   "id": "99436fe6-ad07-4796-b982-7dd89f554f0c",
   "metadata": {
    "execution": {
     "iopub.execute_input": "2025-02-05T14:19:28.805272Z",
     "iopub.status.busy": "2025-02-05T14:19:28.805128Z",
     "iopub.status.idle": "2025-02-05T14:19:28.811397Z",
     "shell.execute_reply": "2025-02-05T14:19:28.810989Z",
     "shell.execute_reply.started": "2025-02-05T14:19:28.805257Z"
    },
    "tags": []
   },
   "outputs": [],
   "source": [
    "atmfilenamesdict = {\"v1\" : \"data/spectro/auxtel_atmosphere_202301_v3.1.0_doSensorFlat_rebin2_testWithMaskedEdges_newBoundaries_newPolysRescaled_newFitBounds_adjustA1_lockedOrder2_removeThroughputTails_2.npy\",\n",
    "                    \"v2\" : \"auxtel_atmosphere_202301_v3.1.0_doSensorFlat_rebin2_lockedOrder2_FixA1_FixA2_FitAngstrom_FixA1_FixA2_FitAngstrom_WithGaia_freePressure_newThroughput6_BG40Scaled1.09_PeekFinder.npy\",\n",
    "                    \"v3\" : \"u_dagoret_auxtel_atmosphere_202301_v3.1.0_doSensorFlat_rebin2_lockedOrder2_FixA1_FixA2_FitAngstrom_WithGaia_freePressure_newThroughput6_BG40Scaled1.09_AtmoFitPressureA2_SpecErr_PeekFinder_20240924T161119Z.npy\",\n",
    "                    \"v4\" : \"u_dagoret_auxtel_atmosphere_202301_v3.1.0_doSensorFlat_rebin2_lockedOrder2_FixA1_FixA2_FitAngstrom_WithGaia_freePressure_newThroughput6_BG40Scaled1.09_AtmoFitPressureA2_SpecErr_PeekFinder_20240924T161119Z_spectrfullextend.npy\",\n",
    "                    \"v5\" : \"u_dagoret_auxtel_atmosphere_202209_v3.1.0_doSensorFlat_rebin2_lockedOrder2_FixA1_FixA2_FitAngstrom_WithGaia_freePressure_newThroughput6_BG40Scaled1.09_AtmoFitPressureA2_SpecErr_No5SigmaClip_20241016T184601Z_spectrfullextended.npy\"}"
   ]
  },
  {
   "cell_type": "code",
   "execution_count": null,
   "id": "f5ee7d08-244a-462a-b9fc-ff5cd4d3e801",
   "metadata": {
    "execution": {
     "iopub.execute_input": "2025-02-05T14:19:28.812109Z",
     "iopub.status.busy": "2025-02-05T14:19:28.811839Z",
     "iopub.status.idle": "2025-02-05T14:19:28.818491Z",
     "shell.execute_reply": "2025-02-05T14:19:28.818076Z",
     "shell.execute_reply.started": "2025-02-05T14:19:28.812094Z"
    },
    "tags": []
   },
   "outputs": [],
   "source": [
    "atmfilename = atmfilenamesdict[version_results]\n",
    "tag = legendtag[version_results] "
   ]
  },
  {
   "cell_type": "markdown",
   "id": "a30a15de-34f1-4f2b-afb9-52143c1cff27",
   "metadata": {},
   "source": [
    "## Initialisation"
   ]
  },
  {
   "cell_type": "markdown",
   "id": "4053343d-8e37-4402-b49f-c28dbb9e4afb",
   "metadata": {},
   "source": [
    "### Read the file"
   ]
  },
  {
   "cell_type": "code",
   "execution_count": null,
   "id": "ad60336b-f26f-4184-bcdf-e596329ecbbd",
   "metadata": {
    "execution": {
     "iopub.execute_input": "2025-02-05T14:19:28.819238Z",
     "iopub.status.busy": "2025-02-05T14:19:28.819104Z",
     "iopub.status.idle": "2025-02-05T14:19:28.962434Z",
     "shell.execute_reply": "2025-02-05T14:19:28.961857Z",
     "shell.execute_reply.started": "2025-02-05T14:19:28.819225Z"
    }
   },
   "outputs": [],
   "source": [
    "specdata = np.load(atmfilename,allow_pickle=True)"
   ]
  },
  {
   "cell_type": "code",
   "execution_count": null,
   "id": "3d9c7249-f818-4a98-8000-9be75b3c7a21",
   "metadata": {
    "execution": {
     "iopub.execute_input": "2025-02-05T14:19:28.963166Z",
     "iopub.status.busy": "2025-02-05T14:19:28.963021Z",
     "iopub.status.idle": "2025-02-05T14:19:28.983181Z",
     "shell.execute_reply": "2025-02-05T14:19:28.982613Z",
     "shell.execute_reply.started": "2025-02-05T14:19:28.963151Z"
    }
   },
   "outputs": [],
   "source": [
    "df_spec = pd.DataFrame(specdata)"
   ]
  },
  {
   "cell_type": "code",
   "execution_count": null,
   "id": "a19b591a-d479-4507-b241-81070420c847",
   "metadata": {
    "execution": {
     "iopub.execute_input": "2025-02-05T14:19:28.983989Z",
     "iopub.status.busy": "2025-02-05T14:19:28.983842Z",
     "iopub.status.idle": "2025-02-05T14:19:28.988847Z",
     "shell.execute_reply": "2025-02-05T14:19:28.988397Z",
     "shell.execute_reply.started": "2025-02-05T14:19:28.983974Z"
    },
    "tags": []
   },
   "outputs": [],
   "source": [
    "list(df_spec.columns)"
   ]
  },
  {
   "cell_type": "markdown",
   "id": "bc819873-96bb-450f-bec4-7049af8b8b3d",
   "metadata": {},
   "source": [
    "### Remove spectra with red filter"
   ]
  },
  {
   "cell_type": "code",
   "execution_count": null,
   "id": "dde97a6e-2400-4ea9-83fe-e0fc8a14e391",
   "metadata": {
    "execution": {
     "iopub.execute_input": "2025-02-05T14:19:28.989505Z",
     "iopub.status.busy": "2025-02-05T14:19:28.989334Z",
     "iopub.status.idle": "2025-02-05T14:19:28.996522Z",
     "shell.execute_reply": "2025-02-05T14:19:28.996054Z",
     "shell.execute_reply.started": "2025-02-05T14:19:28.989462Z"
    }
   },
   "outputs": [],
   "source": [
    "df_spec['FILTER'].unique()"
   ]
  },
  {
   "cell_type": "code",
   "execution_count": null,
   "id": "716b7967-d722-4287-8cce-6fa7ea3cbf19",
   "metadata": {
    "execution": {
     "iopub.execute_input": "2025-02-05T14:19:28.997170Z",
     "iopub.status.busy": "2025-02-05T14:19:28.997026Z",
     "iopub.status.idle": "2025-02-05T14:19:29.007098Z",
     "shell.execute_reply": "2025-02-05T14:19:29.006582Z",
     "shell.execute_reply.started": "2025-02-05T14:19:28.997149Z"
    }
   },
   "outputs": [],
   "source": [
    "FLAG_REMOVE_FILTERS = True\n",
    "if FLAG_REMOVE_FILTERS:\n",
    "    df_spec=df_spec[df_spec[\"FILTER\"] == 'empty']\n",
    "    df_spec.reset_index(inplace=True)  "
   ]
  },
  {
   "cell_type": "markdown",
   "id": "a81b1aa2-7edc-4a24-9c44-c24c3826c18f",
   "metadata": {
    "tags": []
   },
   "source": [
    "### Define if a target is faint or bright"
   ]
  },
  {
   "cell_type": "code",
   "execution_count": null,
   "id": "412e59e0-f026-42d0-b6e1-7e5185c7e9dd",
   "metadata": {
    "execution": {
     "iopub.execute_input": "2025-02-05T14:19:29.007834Z",
     "iopub.status.busy": "2025-02-05T14:19:29.007684Z",
     "iopub.status.idle": "2025-02-05T14:19:29.010985Z",
     "shell.execute_reply": "2025-02-05T14:19:29.010570Z",
     "shell.execute_reply.started": "2025-02-05T14:19:29.007819Z"
    },
    "tags": []
   },
   "outputs": [],
   "source": [
    "def IsFaint(row):\n",
    "    List_Of_Faint_targets = ['Feige110','HD074000','HD115169','HD031128','HD200654','HD167060','HD009051','HD142331','HD160617','HD111980']\n",
    "    List_Of_faint_selected = List_Of_Faint_targets[:10]\n",
    "    if row[\"TARGET\"] in List_Of_faint_selected:\n",
    "        return True\n",
    "    else:\n",
    "        return False"
   ]
  },
  {
   "cell_type": "code",
   "execution_count": null,
   "id": "07cd52bf-50de-4190-ad3f-d68aaf18039e",
   "metadata": {
    "execution": {
     "iopub.execute_input": "2025-02-05T14:19:29.011612Z",
     "iopub.status.busy": "2025-02-05T14:19:29.011476Z",
     "iopub.status.idle": "2025-02-05T14:19:29.076075Z",
     "shell.execute_reply": "2025-02-05T14:19:29.075505Z",
     "shell.execute_reply.started": "2025-02-05T14:19:29.011598Z"
    }
   },
   "outputs": [],
   "source": [
    "df_spec[\"isFaint\"] = df_spec.apply(IsFaint,axis=1)"
   ]
  },
  {
   "cell_type": "markdown",
   "id": "3af3b3b6-7774-4b43-830b-a287c4e3281b",
   "metadata": {},
   "source": [
    "### Compute NightObs"
   ]
  },
  {
   "cell_type": "code",
   "execution_count": null,
   "id": "4de5d570-2e92-468b-ab07-63fffd8d2b8c",
   "metadata": {
    "execution": {
     "iopub.execute_input": "2025-02-05T14:19:29.076898Z",
     "iopub.status.busy": "2025-02-05T14:19:29.076733Z",
     "iopub.status.idle": "2025-02-05T14:19:29.136888Z",
     "shell.execute_reply": "2025-02-05T14:19:29.136219Z",
     "shell.execute_reply.started": "2025-02-05T14:19:29.076882Z"
    }
   },
   "outputs": [],
   "source": [
    "df_spec[\"nightObs\"] = df_spec.apply(lambda x: x['id']//100_000, axis=1)"
   ]
  },
  {
   "cell_type": "code",
   "execution_count": null,
   "id": "079b9ebb-4e59-4364-8ffa-f0439e943959",
   "metadata": {
    "execution": {
     "iopub.execute_input": "2025-02-05T14:19:29.137645Z",
     "iopub.status.busy": "2025-02-05T14:19:29.137493Z",
     "iopub.status.idle": "2025-02-05T14:19:29.140249Z",
     "shell.execute_reply": "2025-02-05T14:19:29.139823Z",
     "shell.execute_reply.started": "2025-02-05T14:19:29.137628Z"
    }
   },
   "outputs": [],
   "source": [
    "if FLAG_WITHCOLLIMATOR:\n",
    "    df_spec = df_spec[df_spec[\"nightObs\"]> DATE_WITHCOLLIMATOR]"
   ]
  },
  {
   "cell_type": "markdown",
   "id": "a4f8b443-4bc5-46fc-a548-33441edee6da",
   "metadata": {},
   "source": [
    "## Apply Quality selection"
   ]
  },
  {
   "cell_type": "code",
   "execution_count": null,
   "id": "2325b3ff-29c2-445a-b25e-cc11aba4f45a",
   "metadata": {
    "execution": {
     "iopub.execute_input": "2025-02-05T14:19:29.140902Z",
     "iopub.status.busy": "2025-02-05T14:19:29.140751Z",
     "iopub.status.idle": "2025-02-05T14:19:29.395633Z",
     "shell.execute_reply": "2025-02-05T14:19:29.395149Z",
     "shell.execute_reply.started": "2025-02-05T14:19:29.140887Z"
    },
    "tags": []
   },
   "outputs": [],
   "source": [
    "fig,ax = plt.subplots(1,1)\n",
    "df_spec[\"CHI2_FIT\"].hist(bins=50,ax=ax,range=(0,200))\n",
    "ax.set_yscale(\"log\")"
   ]
  },
  {
   "cell_type": "markdown",
   "id": "a7aaca44-ad09-4883-8a7d-413b71e8b4a2",
   "metadata": {},
   "source": [
    "### Add the Time in pd.datetime"
   ]
  },
  {
   "cell_type": "markdown",
   "id": "6a2222de-f3b7-4678-b2dc-d4c89102e0ab",
   "metadata": {},
   "source": [
    "#### UTC"
   ]
  },
  {
   "cell_type": "code",
   "execution_count": null,
   "id": "0d10c1ad-c5dc-4487-baa9-7c71ec531f45",
   "metadata": {
    "execution": {
     "iopub.execute_input": "2025-02-05T14:19:29.396352Z",
     "iopub.status.busy": "2025-02-05T14:19:29.396205Z",
     "iopub.status.idle": "2025-02-05T14:19:29.404234Z",
     "shell.execute_reply": "2025-02-05T14:19:29.403777Z",
     "shell.execute_reply.started": "2025-02-05T14:19:29.396336Z"
    }
   },
   "outputs": [],
   "source": [
    "df_spec[\"Time\"] = pd.to_datetime(df_spec[\"DATE-OBS\"])"
   ]
  },
  {
   "cell_type": "code",
   "execution_count": null,
   "id": "66cfe082-4e0c-4b83-ac40-122ba4c58ec4",
   "metadata": {
    "execution": {
     "iopub.execute_input": "2025-02-05T14:19:29.404897Z",
     "iopub.status.busy": "2025-02-05T14:19:29.404755Z",
     "iopub.status.idle": "2025-02-05T14:19:29.410919Z",
     "shell.execute_reply": "2025-02-05T14:19:29.410478Z",
     "shell.execute_reply.started": "2025-02-05T14:19:29.404881Z"
    },
    "tags": []
   },
   "outputs": [],
   "source": [
    "DT = pd.Timedelta(minutes=7*24*60)\n",
    "TMIN  = df_spec[\"Time\"].min()-DT\n",
    "TMAX  = df_spec[\"Time\"].max()+DT"
   ]
  },
  {
   "cell_type": "markdown",
   "id": "433fdc22-9674-47c9-a11c-1e6acfc52311",
   "metadata": {
    "tags": []
   },
   "source": [
    "### Compute relative time to Mid-night"
   ]
  },
  {
   "cell_type": "code",
   "execution_count": null,
   "id": "0de9a173-9144-4c45-a93f-f7df8b5905b7",
   "metadata": {
    "execution": {
     "iopub.execute_input": "2025-02-05T14:19:29.411799Z",
     "iopub.status.busy": "2025-02-05T14:19:29.411533Z",
     "iopub.status.idle": "2025-02-05T14:19:29.418577Z",
     "shell.execute_reply": "2025-02-05T14:19:29.418122Z",
     "shell.execute_reply.started": "2025-02-05T14:19:29.411749Z"
    }
   },
   "outputs": [],
   "source": [
    "def GetTimeToMidNight(row):\n",
    "    observing_time = Time(row['DATE-OBS'], scale='utc', location=observing_location)\n",
    "\n",
    "    # time at the location , either before or after midnight\n",
    "    local_time =  observing_time.to_datetime(timezone=tz)\n",
    "\n",
    "    # take time independent  of any location now\n",
    "    local_time_new = datetime(local_time.year,local_time.month,local_time.day,local_time.hour,local_time.minute,local_time.second)\n",
    "    local_time_midnight = datetime(local_time_new.year,local_time_new.month,local_time_new.day)\n",
    "    dt_hour = (local_time_new -local_time_midnight).seconds/3600.\n",
    "\n",
    "    # we took the previous night mid-night , must subtract 24H\n",
    "    if dt_hour > 12.:\n",
    "        dt_hour_new = (dt_hour - 24.)\n",
    "    else:\n",
    "        dt_hour_new = dt_hour\n",
    "        \n",
    "    return dt_hour_new"
   ]
  },
  {
   "cell_type": "code",
   "execution_count": null,
   "id": "05bfba4e-45f5-4020-953f-b6205001b698",
   "metadata": {
    "execution": {
     "iopub.execute_input": "2025-02-05T14:19:29.419317Z",
     "iopub.status.busy": "2025-02-05T14:19:29.419175Z",
     "iopub.status.idle": "2025-02-05T14:19:32.344583Z",
     "shell.execute_reply": "2025-02-05T14:19:32.343990Z",
     "shell.execute_reply.started": "2025-02-05T14:19:29.419303Z"
    }
   },
   "outputs": [],
   "source": [
    "df_spec[\"dt_midnight\"] = df_spec.apply(GetTimeToMidNight,axis=1)"
   ]
  },
  {
   "cell_type": "code",
   "execution_count": null,
   "id": "154fc415-c965-44c2-8ec0-95f95c1616a3",
   "metadata": {
    "execution": {
     "iopub.execute_input": "2025-02-05T14:19:32.345432Z",
     "iopub.status.busy": "2025-02-05T14:19:32.345261Z",
     "iopub.status.idle": "2025-02-05T14:19:32.478843Z",
     "shell.execute_reply": "2025-02-05T14:19:32.478351Z",
     "shell.execute_reply.started": "2025-02-05T14:19:32.345417Z"
    }
   },
   "outputs": [],
   "source": [
    "fig,ax = plt.subplots(1,1,figsize=(6,4))\n",
    "df_spec[\"dt_midnight\"].hist(bins=48,range=(-12,12),ax=ax,facecolor=\"blue\") \n",
    "ax.set_xlabel(\"time relative to midnight (hour)\")\n",
    "ax.set_title(\"Observation time\")"
   ]
  },
  {
   "cell_type": "markdown",
   "id": "649915d4-df38-43ae-8b7a-f0f72e70590d",
   "metadata": {},
   "source": [
    "### Compute Date relative to January"
   ]
  },
  {
   "cell_type": "code",
   "execution_count": null,
   "id": "e5e99394-ff09-4ab6-b0c0-0fccce1be86c",
   "metadata": {
    "execution": {
     "iopub.execute_input": "2025-02-05T14:19:32.479678Z",
     "iopub.status.busy": "2025-02-05T14:19:32.479524Z",
     "iopub.status.idle": "2025-02-05T14:19:32.482839Z",
     "shell.execute_reply": "2025-02-05T14:19:32.482399Z",
     "shell.execute_reply.started": "2025-02-05T14:19:32.479663Z"
    }
   },
   "outputs": [],
   "source": [
    "def GetDateToMidJanuary(row):\n",
    "    observing_time = Time(row['DATE-OBS'], scale='utc', location=observing_location)\n",
    "\n",
    "    # time at the location , either before or after midnight\n",
    "    local_time =  observing_time.to_datetime(timezone=tz)\n",
    "\n",
    "    # take time independent  of any location now\n",
    "    local_time_new = datetime(2024,local_time.month,local_time.day,local_time.hour,local_time.minute,local_time.second)\n",
    "           \n",
    "    return pd.to_datetime(local_time_new)"
   ]
  },
  {
   "cell_type": "code",
   "execution_count": null,
   "id": "2e991a33-84e9-4766-98fb-665bada15c6d",
   "metadata": {
    "execution": {
     "iopub.execute_input": "2025-02-05T14:19:32.483480Z",
     "iopub.status.busy": "2025-02-05T14:19:32.483327Z",
     "iopub.status.idle": "2025-02-05T14:19:32.490087Z",
     "shell.execute_reply": "2025-02-05T14:19:32.489612Z",
     "shell.execute_reply.started": "2025-02-05T14:19:32.483465Z"
    }
   },
   "outputs": [],
   "source": [
    "#df_spec[\"Time_january\"] = df_spec.apply(GetDateToMidJanuary,axis=1)"
   ]
  },
  {
   "cell_type": "code",
   "execution_count": null,
   "id": "42779ad2-8f3f-44c7-9a0b-a9dcb33065e9",
   "metadata": {
    "execution": {
     "iopub.execute_input": "2025-02-05T14:19:32.491060Z",
     "iopub.status.busy": "2025-02-05T14:19:32.490667Z",
     "iopub.status.idle": "2025-02-05T14:19:32.497569Z",
     "shell.execute_reply": "2025-02-05T14:19:32.497047Z",
     "shell.execute_reply.started": "2025-02-05T14:19:32.491043Z"
    }
   },
   "outputs": [],
   "source": [
    "def GetDateToMidJanuaryAndYear(row):\n",
    "    observing_time = Time(row['DATE-OBS'], scale='utc', location=observing_location)\n",
    "\n",
    "    # time at the location , either before or after midnight\n",
    "    local_time =  observing_time.to_datetime(timezone=tz)\n",
    "\n",
    "    # take time independent  of any location now\n",
    "    local_time_new = datetime(2024,local_time.month,local_time.day,local_time.hour,local_time.minute,local_time.second)\n",
    "           \n",
    "    return pd.to_datetime(local_time_new),local_time.year "
   ]
  },
  {
   "cell_type": "code",
   "execution_count": null,
   "id": "3e747bbc-1357-447b-8cfb-1b22573f022c",
   "metadata": {
    "execution": {
     "iopub.execute_input": "2025-02-05T14:19:32.498249Z",
     "iopub.status.busy": "2025-02-05T14:19:32.498106Z",
     "iopub.status.idle": "2025-02-05T14:19:35.802812Z",
     "shell.execute_reply": "2025-02-05T14:19:35.802267Z",
     "shell.execute_reply.started": "2025-02-05T14:19:32.498234Z"
    }
   },
   "outputs": [],
   "source": [
    "df_spec[[\"Time_january\",\"Year\"]] = df_spec.apply(GetDateToMidJanuaryAndYear,axis=1,result_type=\"expand\")"
   ]
  },
  {
   "cell_type": "code",
   "execution_count": null,
   "id": "4076ca2e-03ea-4373-8b55-fdb6ae49de51",
   "metadata": {
    "execution": {
     "iopub.execute_input": "2025-02-05T14:19:35.803572Z",
     "iopub.status.busy": "2025-02-05T14:19:35.803426Z",
     "iopub.status.idle": "2025-02-05T14:19:35.813152Z",
     "shell.execute_reply": "2025-02-05T14:19:35.812641Z",
     "shell.execute_reply.started": "2025-02-05T14:19:35.803557Z"
    }
   },
   "outputs": [],
   "source": [
    "df_spec[[\"Time_january\",\"Year\"]]"
   ]
  },
  {
   "cell_type": "markdown",
   "id": "90783a42-5ed9-4ad8-8457-bbe1569413fe",
   "metadata": {},
   "source": [
    "## Compute night boundaries"
   ]
  },
  {
   "cell_type": "code",
   "execution_count": null,
   "id": "0ee7679a-ea50-4190-9400-664370a6b7f0",
   "metadata": {
    "execution": {
     "iopub.execute_input": "2025-02-05T14:19:35.813820Z",
     "iopub.status.busy": "2025-02-05T14:19:35.813674Z",
     "iopub.status.idle": "2025-02-05T14:19:35.817273Z",
     "shell.execute_reply": "2025-02-05T14:19:35.816874Z",
     "shell.execute_reply.started": "2025-02-05T14:19:35.813804Z"
    },
    "tags": []
   },
   "outputs": [],
   "source": [
    "def GetNightBoundariesDict(df_spec):\n",
    "    \"\"\"\n",
    "    input:\n",
    "      df_spec the dataframe for spectroscopy summary results\n",
    "    output:\n",
    "      the dict of night boudaries\n",
    "    \"\"\"\n",
    "    \n",
    "    Dt = pd.Timedelta(minutes=30)\n",
    "    d = {}\n",
    "    list_of_nightobs = df_spec[\"nightObs\"].unique()\n",
    "    for nightobs in list_of_nightobs:\n",
    "        sel_flag = df_spec[\"nightObs\"]== nightobs\n",
    "        df_night = df_spec[sel_flag]\n",
    "        tmin = df_night[\"Time\"].min()-Dt\n",
    "        tmax = df_night[\"Time\"].max()+Dt\n",
    "        d[nightobs] = (tmin,tmax)\n",
    "    return d"
   ]
  },
  {
   "cell_type": "code",
   "execution_count": null,
   "id": "b4e4e1eb-c4c1-4bdf-b88f-b44bd55b2435",
   "metadata": {
    "execution": {
     "iopub.execute_input": "2025-02-05T14:19:35.817836Z",
     "iopub.status.busy": "2025-02-05T14:19:35.817709Z",
     "iopub.status.idle": "2025-02-05T14:19:35.901435Z",
     "shell.execute_reply": "2025-02-05T14:19:35.900893Z",
     "shell.execute_reply.started": "2025-02-05T14:19:35.817823Z"
    },
    "tags": []
   },
   "outputs": [],
   "source": [
    "dn = GetNightBoundariesDict(df_spec)"
   ]
  },
  {
   "cell_type": "markdown",
   "id": "715cae7e-32ff-46c8-8d1a-a7c220a9eaed",
   "metadata": {},
   "source": [
    "## Plot all data"
   ]
  },
  {
   "cell_type": "code",
   "execution_count": null,
   "id": "52f3617a-66ac-4021-82b5-2ab076e32d7a",
   "metadata": {
    "execution": {
     "iopub.execute_input": "2025-02-05T14:19:35.902187Z",
     "iopub.status.busy": "2025-02-05T14:19:35.902038Z",
     "iopub.status.idle": "2025-02-05T14:19:36.568277Z",
     "shell.execute_reply": "2025-02-05T14:19:36.567521Z",
     "shell.execute_reply.started": "2025-02-05T14:19:35.902171Z"
    }
   },
   "outputs": [],
   "source": [
    "from matplotlib.dates import DateFormatter\n",
    "#date_form = DateFormatter(\"%y-%m-%dT%H:%M\")\n",
    "date_form = DateFormatter(\"%y-%m-%d\")\n",
    "fig,axs = plt.subplots(1,1,figsize=(14,6))\n",
    "ax  = axs\n",
    "leg=ax.get_legend()\n",
    "\n",
    "ax.set_xlim(TMIN,TMAX) \n",
    "#df_m.plot(x=\"Time\",y=\"PShP\",ax=ax,marker=\".\",c=\"b\",lw=0.5,label=\"Merra2\",ms=1,legend=leg)   \n",
    "df_spec.plot(x=\"Time\",y=\"OUTPRESS\",ax=ax,marker='+',c=\"r\",lw=0.0,grid=True,label=tag,legend=leg)\n",
    "ax.set_ylabel(\"OUTPRESS\")\n",
    "\n",
    "ax.set_xlabel(\"time\")\n",
    "ax.xaxis.set_major_formatter(date_form)\n",
    "ax.set_title(\"Pressure (before quality cuts)\")\n",
    "ax.legend()\n",
    "\n",
    "if not FLAG_WITHCOLLIMATOR:\n",
    "    ax.axvspan(TMIN,datetime_WITHCOLLIMATOR, color='yellow', alpha=0.1)\n",
    "\n",
    "\n",
    "for key, tt in dn.items():\n",
    "    ax.axvspan(tt[0],tt[1], color='blue', alpha=0.1)\n",
    "\n",
    "\n",
    "#ax.set_ylim(0.,15.)\n",
    "\n",
    "figname =f\"{pathfigs}/pressure_allpoints_allnights_nocuts\"+figtype\n",
    "plt.savefig(figname)\n",
    "plt.show()\n"
   ]
  },
  {
   "cell_type": "code",
   "execution_count": null,
   "id": "3fd02994-4a05-4145-8da9-10ac7f5b920a",
   "metadata": {
    "execution": {
     "iopub.execute_input": "2025-02-05T14:19:36.569127Z",
     "iopub.status.busy": "2025-02-05T14:19:36.568967Z",
     "iopub.status.idle": "2025-02-05T14:19:37.413027Z",
     "shell.execute_reply": "2025-02-05T14:19:37.412513Z",
     "shell.execute_reply.started": "2025-02-05T14:19:36.569110Z"
    }
   },
   "outputs": [],
   "source": [
    "from matplotlib.dates import DateFormatter\n",
    "#date_form = DateFormatter(\"%y-%m-%dT%H:%M\")\n",
    "date_form = DateFormatter(\"%y-%m-%d\")\n",
    "fig,axs = plt.subplots(1,1,figsize=(14,6))\n",
    "ax  = axs\n",
    "leg=ax.get_legend()\n",
    "\n",
    "ax.set_xlim(TMIN,TMAX)   \n",
    "df_spec.plot(x=\"Time\",y=\"PWV [mm]_x\",ax=ax,marker='+',c=\"r\",lw=0.0,grid=True,label=tag,legend=leg)\n",
    "ax.set_ylabel(\"PWV [mm]_x\")\n",
    "\n",
    "ax.set_xlabel(\"time\")\n",
    "ax.xaxis.set_major_formatter(date_form)\n",
    "ax.set_title(\"Precipitable water vapor measured by holo vs time (before quality cuts)\")\n",
    "ax.legend()\n",
    "\n",
    "if not FLAG_WITHCOLLIMATOR:\n",
    "    ax.axvspan(TMIN,datetime_WITHCOLLIMATOR, color='yellow', alpha=0.1)\n",
    "\n",
    "\n",
    "for key, tt in dn.items():\n",
    "    ax.axvspan(tt[0],tt[1], color='blue', alpha=0.1)\n",
    "\n",
    "\n",
    "ax.set_ylim(0.,15.)\n",
    "\n",
    "figname =f\"{pathfigs}/pwv_allpoints_allnights_nocuts\"+figtype\n",
    "plt.savefig(figname)\n",
    "plt.show()\n"
   ]
  },
  {
   "cell_type": "markdown",
   "id": "564f9a05-b3e2-4d61-9457-cda76ebd2a1b",
   "metadata": {},
   "source": [
    "## Apply Quality selection cuts"
   ]
  },
  {
   "cell_type": "code",
   "execution_count": null,
   "id": "51bff128-4de1-4396-ac64-e56336d8dd67",
   "metadata": {
    "execution": {
     "iopub.execute_input": "2025-02-05T14:19:37.413737Z",
     "iopub.status.busy": "2025-02-05T14:19:37.413591Z",
     "iopub.status.idle": "2025-02-05T14:19:37.417402Z",
     "shell.execute_reply": "2025-02-05T14:19:37.416965Z",
     "shell.execute_reply.started": "2025-02-05T14:19:37.413722Z"
    }
   },
   "outputs": [],
   "source": [
    "def getSelectionCut(df_spec, chi2max=20., pwvmin=0.1, pwvmax = 14.9,ozmin=100.,ozmax=600.):\n",
    "    cut =  (df_spec[\"CHI2_FIT\"]<chi2max) & (df_spec[\"PWV [mm]_x\"] > pwvmin) & (df_spec[\"PWV [mm]_x\"] < pwvmax) & (df_spec[\"D2CCD\"]>186.5) &  (df_spec[\"D2CCD\"]<187.3) & \\\n",
    "    (df_spec['EXPTIME'] > 20.) & (df_spec[\"PWV [mm]_y\"] > pwvmin) & (df_spec[\"PWV [mm]_y\"] < pwvmax) & \\\n",
    "    (df_spec[\"ozone [db]_y\"] > ozmin) & (df_spec[\"ozone [db]_y\"] < ozmax) \n",
    "    return cut"
   ]
  },
  {
   "cell_type": "code",
   "execution_count": null,
   "id": "99017666-4267-4f7c-a926-2da40fe78c00",
   "metadata": {
    "execution": {
     "iopub.execute_input": "2025-02-05T14:19:37.418100Z",
     "iopub.status.busy": "2025-02-05T14:19:37.417948Z",
     "iopub.status.idle": "2025-02-05T14:19:37.425075Z",
     "shell.execute_reply": "2025-02-05T14:19:37.424663Z",
     "shell.execute_reply.started": "2025-02-05T14:19:37.418086Z"
    }
   },
   "outputs": [],
   "source": [
    "def getSelectionCutNoPolar(df_spec, chi2max=20., pwvmin=0.1, pwvmax = 14.9,ozmin=100.,ozmax=600.):\n",
    "    cut =  (df_spec[\"CHI2_FIT\"]<chi2max) & (df_spec[\"PWV [mm]_x\"] > pwvmin) & (df_spec[\"PWV [mm]_x\"] < pwvmax) & (df_spec[\"D2CCD\"]>186.5) &  (df_spec[\"D2CCD\"]<187.3) & \\\n",
    "    (df_spec['EXPTIME'] > 20.) & (df_spec[\"PWV [mm]_y\"] > pwvmin) & (df_spec[\"PWV [mm]_y\"] < pwvmax) & \\\n",
    "    (df_spec[\"ozone [db]_y\"] > ozmin) & (df_spec[\"ozone [db]_y\"] < ozmax) & (df_spec[\"TARGET\"] != \"HD185975\")\n",
    "    return cut"
   ]
  },
  {
   "cell_type": "code",
   "execution_count": null,
   "id": "19b35b65-0191-4f70-9623-b3ecaeebe96e",
   "metadata": {
    "execution": {
     "iopub.execute_input": "2025-02-05T14:19:37.425688Z",
     "iopub.status.busy": "2025-02-05T14:19:37.425557Z",
     "iopub.status.idle": "2025-02-05T14:19:37.432031Z",
     "shell.execute_reply": "2025-02-05T14:19:37.431625Z",
     "shell.execute_reply.started": "2025-02-05T14:19:37.425675Z"
    }
   },
   "outputs": [],
   "source": [
    "def getSelectionCutWithPolar(df_spec, chi2max=20., pwvmin=0.1, pwvmax = 14.9,ozmin=100.,ozmax=600.):\n",
    "    cut =  (df_spec[\"CHI2_FIT\"]<chi2max) & (df_spec[\"PWV [mm]_x\"] > pwvmin) & (df_spec[\"PWV [mm]_x\"] < pwvmax) & (df_spec[\"D2CCD\"]>186.5) &  (df_spec[\"D2CCD\"]<187.3) & \\\n",
    "    (df_spec['EXPTIME'] > 20.) & (df_spec[\"PWV [mm]_y\"] > pwvmin) & (df_spec[\"PWV [mm]_y\"] < pwvmax) & \\\n",
    "    (df_spec[\"ozone [db]_y\"] > ozmin) & (df_spec[\"ozone [db]_y\"] < ozmax) & (df_spec[\"TARGET\"] == \"HD185975\")\n",
    "    return cut"
   ]
  },
  {
   "cell_type": "code",
   "execution_count": null,
   "id": "1b675e35-55ff-41af-82bf-85bb4c3267be",
   "metadata": {
    "execution": {
     "iopub.execute_input": "2025-02-05T14:19:37.432591Z",
     "iopub.status.busy": "2025-02-05T14:19:37.432465Z",
     "iopub.status.idle": "2025-02-05T14:19:37.448729Z",
     "shell.execute_reply": "2025-02-05T14:19:37.448296Z",
     "shell.execute_reply.started": "2025-02-05T14:19:37.432578Z"
    },
    "tags": []
   },
   "outputs": [],
   "source": [
    "cut = getSelectionCut(df_spec) \n",
    "cut_nopolar = getSelectionCutNoPolar(df_spec) \n",
    "cut_nopolar_bright = getSelectionCutNoPolar(df_spec) & (~df_spec[\"isFaint\"])\n",
    "cut_nopolar_faint = getSelectionCutNoPolar(df_spec) & (df_spec[\"isFaint\"])\n",
    "cut_wthpolar = getSelectionCutWithPolar(df_spec)"
   ]
  },
  {
   "cell_type": "code",
   "execution_count": null,
   "id": "e1cbfa40-4395-47f4-9acf-6a9f531fabd4",
   "metadata": {
    "execution": {
     "iopub.execute_input": "2025-02-05T14:19:37.449317Z",
     "iopub.status.busy": "2025-02-05T14:19:37.449180Z",
     "iopub.status.idle": "2025-02-05T14:19:37.456945Z",
     "shell.execute_reply": "2025-02-05T14:19:37.456423Z",
     "shell.execute_reply.started": "2025-02-05T14:19:37.449304Z"
    }
   },
   "outputs": [],
   "source": [
    "df_spec_sel = df_spec[cut]\n",
    "df_spec_np = df_spec[cut_nopolar] \n",
    "df_spec_np_b = df_spec[cut_nopolar_bright]\n",
    "df_spec_np_f = df_spec[cut_nopolar_faint]\n",
    "df_spec_wp = df_spec[cut_wthpolar]"
   ]
  },
  {
   "cell_type": "code",
   "execution_count": null,
   "id": "3c2b44e0-c554-4265-8caf-25b77c33ab1c",
   "metadata": {
    "execution": {
     "iopub.execute_input": "2025-02-05T14:19:37.457666Z",
     "iopub.status.busy": "2025-02-05T14:19:37.457511Z",
     "iopub.status.idle": "2025-02-05T14:19:37.461515Z",
     "shell.execute_reply": "2025-02-05T14:19:37.461072Z",
     "shell.execute_reply.started": "2025-02-05T14:19:37.457651Z"
    }
   },
   "outputs": [],
   "source": [
    "print(\"Total number of Spectra          : \",len(df_spec))\n",
    "print(\"Number of selected Spectra       : \",len(df_spec_sel))\n",
    "print(\"Number of selected Polars        : \",len(df_spec_wp))\n",
    "print(\"Number of selected Non-Polars    : \",len(df_spec_np))\n",
    "print(\"Number of selected Non-Polars Bright : \",len(df_spec_np_b))\n",
    "print(\"Number of selected Non-Polars Faint  : \",len(df_spec_np_f))"
   ]
  },
  {
   "cell_type": "code",
   "execution_count": null,
   "id": "bae62b07-17d4-423e-bdfe-634272a040a2",
   "metadata": {
    "execution": {
     "iopub.execute_input": "2025-02-05T14:19:37.462175Z",
     "iopub.status.busy": "2025-02-05T14:19:37.462033Z",
     "iopub.status.idle": "2025-02-05T14:19:37.468620Z",
     "shell.execute_reply": "2025-02-05T14:19:37.468025Z",
     "shell.execute_reply.started": "2025-02-05T14:19:37.462159Z"
    },
    "tags": []
   },
   "outputs": [],
   "source": [
    "df_spec_sel.reset_index(drop=True,inplace=True)\n",
    "df_spec_np.reset_index(drop=True,inplace=True)\n",
    "df_spec_wp.reset_index(drop=True,inplace=True) \n",
    "df_spec_np_b.reset_index(drop=True,inplace=True)\n",
    "df_spec_np_f.reset_index(drop=True,inplace=True)"
   ]
  },
  {
   "cell_type": "code",
   "execution_count": null,
   "id": "cef3e8dd-b2b7-4fcb-a676-3cef4d07f6c7",
   "metadata": {
    "execution": {
     "iopub.execute_input": "2025-02-05T14:19:37.469319Z",
     "iopub.status.busy": "2025-02-05T14:19:37.469177Z",
     "iopub.status.idle": "2025-02-05T14:19:37.477280Z",
     "shell.execute_reply": "2025-02-05T14:19:37.476850Z",
     "shell.execute_reply.started": "2025-02-05T14:19:37.469305Z"
    }
   },
   "outputs": [],
   "source": [
    "#List_Of_Faint_targets = ['Feige110','HD074000','HD115169','HD031128','HD200654','HD167060','HD009051','HD142331','HD160617','HD111980']\n",
    "print(\"Polar            :\",len(df_spec_wp[\"TARGET\"].unique()),\"\\t\", df_spec_wp[\"TARGET\"].unique()) \n",
    "print(\"Non Polar        :\",len(df_spec_np[\"TARGET\"].unique()),\"\\t\" ,df_spec_np[\"TARGET\"].unique())\n",
    "print(\"Non Polar Bright :\",len(df_spec_np_b[\"TARGET\"].unique()),\"\\t\" ,df_spec_np_b[\"TARGET\"].unique())\n",
    "print(\"Non Polar Faint  :\",len(df_spec_np_f[\"TARGET\"].unique()),\"\\t\",df_spec_np_f[\"TARGET\"].unique())"
   ]
  },
  {
   "cell_type": "markdown",
   "id": "030bf82d-8d80-492c-96cf-4506c2eac282",
   "metadata": {
    "tags": []
   },
   "source": [
    "## Recompute night boundaries"
   ]
  },
  {
   "cell_type": "code",
   "execution_count": null,
   "id": "1e41540b-d7cd-49c8-88dc-4175db604a17",
   "metadata": {
    "execution": {
     "iopub.execute_input": "2025-02-05T14:19:37.477866Z",
     "iopub.status.busy": "2025-02-05T14:19:37.477737Z",
     "iopub.status.idle": "2025-02-05T14:19:37.482329Z",
     "shell.execute_reply": "2025-02-05T14:19:37.481932Z",
     "shell.execute_reply.started": "2025-02-05T14:19:37.477853Z"
    },
    "tags": []
   },
   "outputs": [],
   "source": [
    "#dn = GetNightBoundariesDict(df_spec_sel)"
   ]
  },
  {
   "cell_type": "markdown",
   "id": "c4c10f08-5d32-465f-afd6-e51c1716bbd2",
   "metadata": {},
   "source": [
    "## Plot all data"
   ]
  },
  {
   "cell_type": "code",
   "execution_count": null,
   "id": "a2b12d05-8396-4a3c-bcfb-75de6ac63ee5",
   "metadata": {
    "execution": {
     "iopub.execute_input": "2025-02-05T14:19:37.482946Z",
     "iopub.status.busy": "2025-02-05T14:19:37.482811Z",
     "iopub.status.idle": "2025-02-05T14:19:38.207413Z",
     "shell.execute_reply": "2025-02-05T14:19:38.206896Z",
     "shell.execute_reply.started": "2025-02-05T14:19:37.482933Z"
    }
   },
   "outputs": [],
   "source": [
    "from matplotlib.dates import DateFormatter\n",
    "date_form = DateFormatter(\"%y-%m-%d\")\n",
    "\n",
    "fig,axs = plt.subplots(1,1,figsize=(14,6),layout='constrained')\n",
    "ax  = axs\n",
    "leg=ax.get_legend()\n",
    "\n",
    "#ax.set_xlim(TMIN,TMAX) \n",
    "#df_m.plot(x=\"Time\",y=\"TQV\",ax=ax,marker=\".\",c=\"b\",lw=0.5,ms=1,label=\"Merra2\",legend=leg)     \n",
    "    \n",
    "df_spec_sel[df_spec_sel.Year==2022].plot(x=\"Time_january\",y=\"PWV [mm]_x\",ax=ax,marker='+',c=\"g\",lw=0.0,grid=True,label=\"2022\",legend=leg,ms=5,alpha=1.)\n",
    "df_spec_sel[df_spec_sel.Year==2023].plot(x=\"Time_january\",y=\"PWV [mm]_x\",ax=ax,marker='+',c=\"b\",lw=0.0,grid=True,label=\"2023\",legend=leg,ms=5,alpha=1.)\n",
    "df_spec_sel[df_spec_sel.Year==2024].plot(x=\"Time_january\",y=\"PWV [mm]_x\",ax=ax,marker='+',c=\"r\",lw=0.0,grid=True,label=\"2024\",legend=leg,ms=5,alpha=1.)\n",
    "#df_spec_np_f.plot(x=\"Time\",y=\"PWV [mm]_x\",ax=ax,marker='o',c=\"grey\",lw=0.0,grid=True,label=\"faint,no polar\",legend=leg,ms=5,alpha=0.2)\n",
    "#df_spec_np_b.plot(x=\"Time_january\",y=\"PWV [mm]_x\",ax=ax,marker='o',c=\"r\",lw=0.0,grid=True,label=\"bright,no polar\",legend=leg,ms=5,alpha=0.2)\n",
    "#df_spec_np.plot(x=\"Time\",y=\"PWV [mm]_x\",ax=ax,marker='o',c=\"m\",lw=0.0,grid=True,label=\"no polar\",legend=leg,ms=5,alpha=0.5)\n",
    "#df_spec_wp.plot(x=\"Time_january\",y=\"PWV [mm]_x\",ax=ax,marker='o',c=\"g\",lw=0.0,grid=True,label=\"with polar\",legend=leg,ms=5,alpha=0.5)\n",
    "ax.set_ylabel(\"PWV [mm]_x\")\n",
    "ax.set_xlabel(\"date (since January)\")\n",
    "ax.xaxis.set_major_formatter(date_form)\n",
    "ax.set_title(\"Precipitable water vapor measured by holo (modulo 1 year)\",fontweight=\"bold\")\n",
    "ax.legend()\n",
    "\n",
    "for key, tt in dn.items():\n",
    "    ax.axvspan(tt[0],tt[1], color='blue', alpha=0.1)\n",
    "\n",
    "ax.axvspan(TMIN,datetime_WITHCOLLIMATOR, color='yellow', alpha=0.1)\n",
    "\n",
    "plt.tight_layout()\n",
    " \n",
    "ax.set_ylim(0.,15.)\n",
    "#ax.set_xlim(TMIN,TMAX)\n",
    "\n",
    "figname =f\"{pathfigs}/pwvholoM2_allpoints_allnights_modulo1year\"+figtype\n",
    "plt.savefig(figname)\n",
    "plt.show()"
   ]
  },
  {
   "cell_type": "markdown",
   "id": "53a5e8cd-51f5-4d34-875a-2c93a90fbf21",
   "metadata": {},
   "source": [
    "## Plot night by night"
   ]
  },
  {
   "cell_type": "code",
   "execution_count": null,
   "id": "c37844d9-5689-4fdf-8bb0-41afcfeeea61",
   "metadata": {
    "execution": {
     "iopub.execute_input": "2025-02-05T14:19:38.208144Z",
     "iopub.status.busy": "2025-02-05T14:19:38.207995Z",
     "iopub.status.idle": "2025-02-05T14:19:38.213536Z",
     "shell.execute_reply": "2025-02-05T14:19:38.213019Z",
     "shell.execute_reply.started": "2025-02-05T14:19:38.208129Z"
    }
   },
   "outputs": [],
   "source": [
    "def ComputeRepeatability(df):\n",
    "    \"\"\"\n",
    "    Compute Repeatability of PWV for Spectrogram and and Spectrum\n",
    "    \n",
    "    \"\"\"\n",
    "    N = len(df)\n",
    "    dfout = pd.DataFrame(index=df.index,columns = [\"nightObs\",\"dt\",\"dt_rep\",\"dPWVx_rep\",\"dPWVy_rep\",\"targflag_rep\",\"Npoints\"])\n",
    "    dfout[\"targflag_rep\"].astype(bool)\n",
    "    #dfout[\"Npoints\"].astype(int)\n",
    "    \n",
    "    target_old = \"No\"\n",
    "    time_old = 0.\n",
    "    pwvx_old = 0.\n",
    "    pwvy_old = 0.\n",
    "    \n",
    "    for index in range(N):\n",
    "        \n",
    "        nightObs =  df.iloc[index][\"nightObs\"]\n",
    "        \n",
    "        if index ==0:\n",
    "            dt0 = df.iloc[index][\"dt\"]\n",
    "            dfout.iloc[index] = [ nightObs,dt0, 0., 0., 0., False,N]\n",
    "        else:\n",
    "            target_new = df.iloc[index][\"TARGET\"]\n",
    "            time_new = df.iloc[index][\"dt\"]\n",
    "            pwvx_new = df.iloc[index][\"PWV [mm]_x\"]\n",
    "            pwvy_new = df.iloc[index][\"PWV [mm]_y\"]\n",
    "            \n",
    "            flag_target = (target_new == target_old)\n",
    "            dPWVx_rep = pwvx_new - pwvx_old\n",
    "            dPWVy_rep = pwvy_new - pwvy_old\n",
    "            dt_rep = (time_new-time_old)*3600. # in seconds\n",
    "            \n",
    "            dfout.iloc[index] = [ nightObs,time_new, dt_rep, dPWVx_rep, dPWVy_rep, flag_target,N]\n",
    "        \n",
    "        target_old = df.iloc[index][\"TARGET\"]\n",
    "        time_old = df.iloc[index][\"dt\"]\n",
    "        pwvx_old = df.iloc[index][\"PWV [mm]_x\"]\n",
    "        pwvy_old = df.iloc[index][\"PWV [mm]_y\"]\n",
    "        \n",
    "    return dfout"
   ]
  },
  {
   "cell_type": "code",
   "execution_count": null,
   "id": "22093a32-df7a-4177-ad33-e5c1611fe1fb",
   "metadata": {
    "execution": {
     "iopub.execute_input": "2025-02-05T14:19:38.214013Z",
     "iopub.status.busy": "2025-02-05T14:19:38.213885Z",
     "iopub.status.idle": "2025-02-05T14:19:38.221025Z",
     "shell.execute_reply": "2025-02-05T14:19:38.220572Z",
     "shell.execute_reply.started": "2025-02-05T14:19:38.214000Z"
    }
   },
   "outputs": [],
   "source": [
    "all_selected_nights = df_spec_sel[\"nightObs\"].unique()"
   ]
  },
  {
   "cell_type": "markdown",
   "id": "0766a319-9fb6-41d2-94cf-0a065cda2b1a",
   "metadata": {},
   "source": [
    "## Fits gaussien et lineaires"
   ]
  },
  {
   "cell_type": "code",
   "execution_count": null,
   "id": "d355d92c-a45d-4b2d-a130-4469337acfe0",
   "metadata": {
    "execution": {
     "iopub.execute_input": "2025-02-05T14:19:38.221620Z",
     "iopub.status.busy": "2025-02-05T14:19:38.221483Z",
     "iopub.status.idle": "2025-02-05T14:19:38.227988Z",
     "shell.execute_reply": "2025-02-05T14:19:38.227576Z",
     "shell.execute_reply.started": "2025-02-05T14:19:38.221606Z"
    }
   },
   "outputs": [],
   "source": [
    "def funclineres(params, x, y, yerr):\n",
    "    # Return residual = fit-observed\n",
    "    return (y-params[0] -params[1]*x)/yerr\n",
    "def funcline(params,x):\n",
    "    return params[0] + params[1]*x"
   ]
  },
  {
   "cell_type": "code",
   "execution_count": null,
   "id": "01b3bcad-f3ae-4cb1-8619-35f152b94551",
   "metadata": {
    "execution": {
     "iopub.execute_input": "2025-02-05T14:19:38.228606Z",
     "iopub.status.busy": "2025-02-05T14:19:38.228469Z",
     "iopub.status.idle": "2025-02-05T14:19:38.235950Z",
     "shell.execute_reply": "2025-02-05T14:19:38.235555Z",
     "shell.execute_reply.started": "2025-02-05T14:19:38.228592Z"
    }
   },
   "outputs": [],
   "source": [
    "def MakeLineFit(df_night_pwv_curve):\n",
    "    \"\"\"\n",
    "    \"\"\"\n",
    "\n",
    "    x = df_night_pwv_curve[\"dt_midnight\"].values\n",
    "    y = df_night_pwv_curve[\"PWV [mm]_x\"].values\n",
    "    yerr = df_night_pwv_curve[\"PWV [mm]_err_x\"].values\n",
    "    n = len(y)\n",
    "        \n",
    "    #popt, pcov = optimize.curve_fit(f, x, y, [1,-4])\n",
    "    fit_res = least_squares(funclineres,[5.,0],args = (x,y,yerr))\n",
    "    popt = fit_res.x \n",
    "    npar = len(popt)\n",
    "    J = fit_res.jac\n",
    "    cov = np.linalg.inv(J.T.dot(J))\n",
    "    chi2dof = ((funclineres(popt,x,y,yerr))**2).sum()/(n-npar)\n",
    "    cov *= chi2dof\n",
    "    perr = np.sqrt(np.diagonal(cov)) \n",
    "    \n",
    "    xfit = np.linspace(x.min()*0.99,x.max()*1.05)\n",
    "    yfit = funcline(popt,xfit)\n",
    "        \n",
    "    slope = popt[1]\n",
    "    slope_err = perr[1]\n",
    "\n",
    "    return x,y,yerr,n,chi2dof,xfit,yfit,slope,slope_err"
   ]
  },
  {
   "cell_type": "code",
   "execution_count": null,
   "id": "dd7e71f3-6405-4a9d-84a4-0560f0a8e34f",
   "metadata": {
    "execution": {
     "iopub.execute_input": "2025-02-05T14:19:38.236572Z",
     "iopub.status.busy": "2025-02-05T14:19:38.236429Z",
     "iopub.status.idle": "2025-02-05T14:19:38.246012Z",
     "shell.execute_reply": "2025-02-05T14:19:38.245616Z",
     "shell.execute_reply.started": "2025-02-05T14:19:38.236551Z"
    }
   },
   "outputs": [],
   "source": [
    "#\n",
    "# Gaussian Process regression\n",
    "# https://scikit-learn.org/1.5/auto_examples/gaussian_process/plot_gpr_noisy_targets.html\n",
    "from sklearn.gaussian_process import GaussianProcessRegressor\n",
    "from sklearn.gaussian_process.kernels import RBF"
   ]
  },
  {
   "cell_type": "code",
   "execution_count": null,
   "id": "a575d2cf-0c37-4e58-b351-eaf193360a9f",
   "metadata": {
    "execution": {
     "iopub.execute_input": "2025-02-05T14:19:38.246769Z",
     "iopub.status.busy": "2025-02-05T14:19:38.246629Z",
     "iopub.status.idle": "2025-02-05T14:19:38.250496Z",
     "shell.execute_reply": "2025-02-05T14:19:38.250088Z",
     "shell.execute_reply.started": "2025-02-05T14:19:38.246755Z"
    }
   },
   "outputs": [],
   "source": [
    "def MakeGaussianProcessFit(df_night_pwv_curve):\n",
    "    \"\"\"\n",
    "    \"\"\"\n",
    "\n",
    "    x_train = df_night_pwv_curve[\"dt_midnight\"].values\n",
    "    xmin =  x_train.min()\n",
    "    xmax = x_train.max()\n",
    "    xfit = np.linspace(xmin,xmax,50)\n",
    "    X_fit =xfit.reshape(-1,1)\n",
    "    X_train = x_train.reshape(-1, 1)\n",
    "    \n",
    "    y_train = df_night_pwv_curve[\"PWV [mm]_x\"].values\n",
    "    y_mean = y_train.mean()\n",
    "    yerr_train = df_night_pwv_curve[\"PWV [mm]_err_x\"].values\n",
    "    n = len(y_train)\n",
    "\n",
    "    noise_std= 0.5\n",
    "    \n",
    "    kernel = 1. * RBF(length_scale=5.0, length_scale_bounds=(0.5, 12.))\n",
    "    gaussian_process = GaussianProcessRegressor(kernel=kernel,alpha=noise_std**2 ,n_restarts_optimizer=9)\n",
    "    \n",
    "    gaussian_process.fit(X_train, y_train)\n",
    "\n",
    "    mean_prediction, std_prediction = gaussian_process.predict(X_fit, return_std=True)\n",
    "    return xfit, mean_prediction, std_prediction, gaussian_process"
   ]
  },
  {
   "cell_type": "code",
   "execution_count": null,
   "id": "985ed841-edd7-4187-b6e8-1fb419beb46d",
   "metadata": {
    "execution": {
     "iopub.execute_input": "2025-02-05T14:19:38.257198Z",
     "iopub.status.busy": "2025-02-05T14:19:38.256913Z",
     "iopub.status.idle": "2025-02-05T14:19:38.260453Z",
     "shell.execute_reply": "2025-02-05T14:19:38.260042Z",
     "shell.execute_reply.started": "2025-02-05T14:19:38.257184Z"
    }
   },
   "outputs": [],
   "source": [
    "from sklearn.pipeline import make_pipeline\n",
    "from sklearn.preprocessing import PolynomialFeatures, StandardScaler\n",
    "# https://scikit-learn.org/1.5/auto_examples/linear_model/plot_ard.html\n",
    "from sklearn.linear_model import ARDRegression,BayesianRidge"
   ]
  },
  {
   "cell_type": "code",
   "execution_count": null,
   "id": "e02741ac-94de-47e4-9d60-5027379ca791",
   "metadata": {
    "execution": {
     "iopub.execute_input": "2025-02-05T14:19:38.261012Z",
     "iopub.status.busy": "2025-02-05T14:19:38.260881Z",
     "iopub.status.idle": "2025-02-05T14:19:38.266364Z",
     "shell.execute_reply": "2025-02-05T14:19:38.265971Z",
     "shell.execute_reply.started": "2025-02-05T14:19:38.260999Z"
    }
   },
   "outputs": [],
   "source": [
    "POLY_DEGREE_MAX = 10"
   ]
  },
  {
   "cell_type": "code",
   "execution_count": null,
   "id": "a3e22a78-872e-43cd-b549-72f586a068f7",
   "metadata": {
    "execution": {
     "iopub.execute_input": "2025-02-05T14:19:38.266932Z",
     "iopub.status.busy": "2025-02-05T14:19:38.266806Z",
     "iopub.status.idle": "2025-02-05T14:19:38.274665Z",
     "shell.execute_reply": "2025-02-05T14:19:38.274249Z",
     "shell.execute_reply.started": "2025-02-05T14:19:38.266919Z"
    }
   },
   "outputs": [],
   "source": [
    "def MakeLinearModelFit(df_night_pwv_curve,degree_max = POLY_DEGREE_MAX ):\n",
    "    \"\"\"\n",
    "    https://scikit-learn.org/1.5/auto_examples/linear_model/plot_ard.html\n",
    "    ARDRegression and BayesianRidge\n",
    "    \"\"\"\n",
    "\n",
    "    x_train = df_night_pwv_curve[\"dt_midnight\"].values\n",
    "    xmin =  x_train.min()\n",
    "    xmax = x_train.max()\n",
    "    xfit = np.linspace(xmin,xmax,50)\n",
    "    X_fit =xfit.reshape(-1,1)\n",
    "    X_train = x_train.reshape(-1, 1)\n",
    "    \n",
    "    y_train = df_night_pwv_curve[\"PWV [mm]_x\"].values\n",
    "    y_mean = y_train.mean()\n",
    "    yerr_train = df_night_pwv_curve[\"PWV [mm]_err_x\"].values\n",
    "    n = len(y_train)\n",
    "\n",
    "    ard_poly = make_pipeline(\n",
    "    PolynomialFeatures(degree=degree_max, include_bias=False),StandardScaler(),ARDRegression(),).fit(X_train, y_train)\n",
    "    \n",
    "    brr_poly = make_pipeline(\n",
    "    PolynomialFeatures(degree=degree_max, include_bias=False),StandardScaler(),BayesianRidge(),).fit(X_train, y_train)\n",
    "\n",
    "    y_ard, y_ard_std = ard_poly.predict(X_fit, return_std=True)\n",
    "    y_brr, y_brr_std = brr_poly.predict(X_fit, return_std=True)\n",
    "\n",
    "    y_ard_pred = ard_poly.predict(X_train,return_std=False)\n",
    "    resy = y_train - y_ard_pred\n",
    "    \n",
    "    return xfit,y_ard, y_ard_std, y_brr, y_brr_std, resy, y_mean"
   ]
  },
  {
   "cell_type": "code",
   "execution_count": null,
   "id": "f86663f2-d194-4513-a80f-77a14e9a7a47",
   "metadata": {
    "execution": {
     "iopub.execute_input": "2025-02-05T14:19:38.275317Z",
     "iopub.status.busy": "2025-02-05T14:19:38.275186Z",
     "iopub.status.idle": "2025-02-05T14:19:38.281009Z",
     "shell.execute_reply": "2025-02-05T14:19:38.280616Z",
     "shell.execute_reply.started": "2025-02-05T14:19:38.275304Z"
    }
   },
   "outputs": [],
   "source": [
    "# Container of images that all goes in a pdf\n",
    "all_figs_to_pdf = []"
   ]
  },
  {
   "cell_type": "code",
   "execution_count": null,
   "id": "23e66ab2-c1cc-46ac-9f49-a8d6cdc9a0a2",
   "metadata": {
    "execution": {
     "iopub.execute_input": "2025-02-05T14:19:38.281755Z",
     "iopub.status.busy": "2025-02-05T14:19:38.281568Z",
     "iopub.status.idle": "2025-02-05T14:19:39.437482Z",
     "shell.execute_reply": "2025-02-05T14:19:39.436931Z",
     "shell.execute_reply.started": "2025-02-05T14:19:38.281738Z"
    }
   },
   "outputs": [],
   "source": [
    "all_dateObs_sel = {}\n",
    "\n",
    "# loop on nights\n",
    "for night in all_selected_nights:\n",
    "    #select the night\n",
    "    # Choose the kind of observation\n",
    "    df_spec_night = df_spec_sel[df_spec_sel[\"nightObs\"] == night]\n",
    "    df_spec_night_wp = df_spec_wp[df_spec_wp[\"nightObs\"] == night]\n",
    "    df_spec_night_np = df_spec_np[df_spec_np[\"nightObs\"] == night]\n",
    "    df_spec_night_np_f = df_spec_np_f[df_spec_np_f[\"nightObs\"] == night]\n",
    "    df_spec_night_np_b = df_spec_np_b[df_spec_np_b[\"nightObs\"] == night]\n",
    "    \n",
    "    #select the variables\n",
    "    df_night_pwv_curve = df_spec_night[[\"Time\",\"PWV [mm]_x\",\"PWV [mm]_err_x\",\"PWV [mm]_y\",\"PWV [mm]_err_y\",\"dt_midnight\",\"AIRMASS\",\"TARGET\"]]\n",
    "    df_night_pwv_curve_wp = df_spec_night_wp[[\"Time\",\"PWV [mm]_x\",\"PWV [mm]_err_x\",\"PWV [mm]_y\",\"PWV [mm]_err_y\",\"dt_midnight\",\"AIRMASS\",\"TARGET\"]]\n",
    "    df_night_pwv_curve_np_b = df_spec_night_np_b[[\"Time\",\"PWV [mm]_x\",\"PWV [mm]_err_x\",\"PWV [mm]_y\",\"PWV [mm]_err_y\",\"dt_midnight\",\"AIRMASS\",\"TARGET\"]]\n",
    "    df_night_pwv_curve_np_f = df_spec_night_np_f[[\"Time\",\"PWV [mm]_x\",\"PWV [mm]_err_x\",\"PWV [mm]_y\",\"PWV [mm]_err_y\",\"dt_midnight\",\"AIRMASS\",\"TARGET\"]]\n",
    "    df_night_pwv_curve_np = df_spec_night_np[[\"Time\",\"PWV [mm]_x\",\"PWV [mm]_err_x\",\"PWV [mm]_y\",\"PWV [mm]_err_y\",\"dt_midnight\",\"AIRMASS\",\"TARGET\"]]\n",
    "\n",
    "    tmin = df_night_pwv_curve[\"Time\"].min()\n",
    "    tmax = df_night_pwv_curve[\"Time\"].max()\n",
    "\n",
    "    list_of_targets = df_night_pwv_curve[\"TARGET\"].unique()\n",
    "    str_list_of_targets = \"\\n\".join(list_of_targets)\n",
    "     \n",
    "    # convert in hours\n",
    "    df_night_pwv_curve[\"dt\"] = (df_night_pwv_curve[\"Time\"] - tmin).dt.total_seconds()/3600.\n",
    "    df_night_pwv_curve_wp[\"dt\"] = (df_night_pwv_curve_wp[\"Time\"] - tmin).dt.total_seconds()/3600.\n",
    "    df_night_pwv_curve_np[\"dt\"] = (df_night_pwv_curve_np[\"Time\"] - tmin).dt.total_seconds()/3600.\n",
    "    df_night_pwv_curve_np_f[\"dt\"] = (df_night_pwv_curve_np_f[\"Time\"] - tmin).dt.total_seconds()/3600.\n",
    "    df_night_pwv_curve_np_b[\"dt\"] = (df_night_pwv_curve_np_b[\"Time\"] - tmin).dt.total_seconds()/3600.\n",
    "    \n",
    "    # extract statistics on pwv\n",
    "    stat = df_night_pwv_curve[[\"PWV [mm]_x\"]].describe()\n",
    "    date_form = DateFormatter(\"%y-%m-%dT%H:%M\")\n",
    "    #date_form = DateFormatter(\"%y-%m-%dT%H\")\n",
    "    count = int(stat.loc[\"count\"].values[0])\n",
    "    mean = stat.loc[\"mean\"].values[0]\n",
    "    median = stat.loc[\"50%\"].values[0]\n",
    "    std = stat.loc[\"std\"].values[0]\n",
    "    textstr = \"\\n\".join((f\"count : {count}\",\n",
    "                     f\"mean : {mean:.1f} mm\",\n",
    "                     f\"median : {median:.1f} mm\",\n",
    "                     f\"std : {std:.1f} mm\",\n",
    "                    ))\n",
    "\n",
    "\n",
    "    N= len(df_night_pwv_curve)\n",
    "\n",
    "    if N>10:\n",
    "\n",
    "        if 0:\n",
    "        \n",
    "            # does the fit\n",
    "        \n",
    "            #x,y,yerr,n,chi2dof,xfit,yfit,slope,slope_err = MakeLineFit(df_night_pwv_curve)\n",
    "            \n",
    "            xfit, mean_prediction, std_prediction, gp = MakeGaussianProcessFit(df_night_pwv_curve)\n",
    "            xfit2, y_ard, y_ard_std, y_brr, y_brr_std, resy, y_mean = MakeLinearModelFit(df_night_pwv_curve)\n",
    "        \n",
    "       \n",
    "    \n",
    "        \n",
    "            # plot\n",
    "\n",
    "            #layout=\"constrained\"\n",
    "            fig = plt.figure(figsize=(16,4),constrained_layout=True)\n",
    "            gs = GridSpec(1, 2,  width_ratios=[1,1],figure=fig)\n",
    "    \n",
    "            ax = fig.add_subplot(gs[0])\n",
    "            ax2 = fig.add_subplot(gs[1])\n",
    "        \n",
    "            leg=ax.get_legend()\n",
    "            leg2=ax2.get_legend()\n",
    "      \n",
    "        \n",
    "            ################################\n",
    "            # left figure : Gaussian Process\n",
    "            ################################\n",
    "        \n",
    "            ax.errorbar(x=df_night_pwv_curve.dt_midnight, y=df_night_pwv_curve[\"PWV [mm]_x\"],yerr=df_night_pwv_curve[\"PWV [mm]_err_x\"],fmt=\"+\",color=\"r\",ecolor=\"k\",ms=1)\n",
    "            df_night_pwv_curve_wp.plot(x=\"dt_midnight\",y=\"PWV [mm]_x\",c=\"cyan\",ax=ax,marker='o',lw=0.0,grid=True,legend=leg2,label=\"polar\",ms=6,alpha=1)\n",
    "            df_night_pwv_curve_np_b.plot(x=\"dt_midnight\",y=\"PWV [mm]_x\",c=\"r\",ax=ax,marker='o',lw=0.0,grid=True,legend=leg2,label=\"bright, no polar\",ms=6,alpha=1)\n",
    "            df_night_pwv_curve_np_f.plot(x=\"dt_midnight\",y=\"PWV [mm]_x\",c=\"g\",ax=ax,marker='o',lw=0.0,grid=True,legend=leg2,label=\"faint, no polar\",ms=6,alpha=1)\n",
    "\n",
    "            # fit result\n",
    "            ax.plot(xfit, mean_prediction,\"b-\",lw=3,label=\"Gaussian Process (RBF)\")\n",
    "            ax.fill_between(xfit,mean_prediction - 1.96 * std_prediction,mean_prediction + 1.96 * std_prediction,alpha=0.3,label=r\"95% CL\",facecolor='grey')\n",
    "        \n",
    "            ax.set_xlabel(\"hours\")\n",
    "            ax.set_ylim(0.,15.)\n",
    "            ax.legend(loc=\"upper right\")\n",
    "        \n",
    "            ax.set_title(f\"GP fit for night {night}\")\n",
    "            ax.axvline(x=0,color=\"k\",lw=2)\n",
    "\n",
    "\n",
    "            ############################\n",
    "            # right figure : linear fits\n",
    "            ############################\n",
    "            ax2.errorbar(x=df_night_pwv_curve.dt_midnight, y=df_night_pwv_curve[\"PWV [mm]_x\"],yerr=df_night_pwv_curve[\"PWV [mm]_err_x\"],fmt=\"+\",color=\"r\",ecolor=\"k\",ms=1)\n",
    "            df_night_pwv_curve_wp.plot(x=\"dt_midnight\",y=\"PWV [mm]_x\",c=\"cyan\",ax=ax2,marker='o',lw=0.0,grid=True,legend=leg2,label=\"polar\",ms=6,alpha=1)\n",
    "            df_night_pwv_curve_np_b.plot(x=\"dt_midnight\",y=\"PWV [mm]_x\",c=\"r\",ax=ax2,marker='o',lw=0.0,grid=True,legend=leg2,label=\"bright, no polar\",ms=6,alpha=1)\n",
    "            df_night_pwv_curve_np_f.plot(x=\"dt_midnight\",y=\"PWV [mm]_x\",c=\"g\",ax=ax2,marker='o',lw=0.0,grid=True,legend=leg2,label=\"faint, no polar\",ms=6,alpha=1)\n",
    "\n",
    "\n",
    "            ax2.plot(xfit2, y_ard,\"g-\",lw=3,label=\"ARDRegression\")\n",
    "            ax2.fill_between(xfit2, y_ard - 1.96 * y_ard_std,y_ard + 1.96 * y_ard_std,alpha=0.3,label=r\"95% CL\",facecolor='green')\n",
    "\n",
    "        \n",
    "\n",
    "        \n",
    "            ax2.set_title(f\"Linear fit for night {night}\")\n",
    "            ax2.set_xlabel(\"hours\")\n",
    "            ax2.set_ylim(0.,15.)\n",
    "            ax2.legend()\n",
    "            ax2.axvline(x=0,color=\"k\",lw=2)\n",
    "        \n",
    "        \n",
    "\n",
    "        \n",
    "\n",
    "            figname =f\"{pathfigs}/gp_ard_pwv_per_night_{night}\"+figtype\n",
    "            plt.savefig(figname)\n",
    "            plt.show()\n",
    "\n",
    "        # add statistics\n",
    "        all_dateObs_sel[night] = stat\n",
    "        "
   ]
  },
  {
   "cell_type": "markdown",
   "id": "0ce4e223-40a9-4eea-ab18-5185210262e0",
   "metadata": {},
   "source": [
    "## PWV difference and Time difference"
   ]
  },
  {
   "cell_type": "code",
   "execution_count": null,
   "id": "37077a4e-d838-484a-bd57-9ce273db186a",
   "metadata": {
    "execution": {
     "iopub.execute_input": "2025-02-05T14:19:39.438211Z",
     "iopub.status.busy": "2025-02-05T14:19:39.438060Z",
     "iopub.status.idle": "2025-02-05T14:19:39.442738Z",
     "shell.execute_reply": "2025-02-05T14:19:39.442299Z",
     "shell.execute_reply.started": "2025-02-05T14:19:39.438194Z"
    }
   },
   "outputs": [],
   "source": [
    "def ComputePWVAndTimeDiffence(df):\n",
    "    \"\"\"\n",
    "    For each measuremet retrun the delta pwv nd delta_t with next measurements\n",
    "\n",
    "    \"\"\"\n",
    "    all_DPWV = []\n",
    "    all_DT = []\n",
    "    all_pwvpwv = []\n",
    "    \n",
    "    N = len(df)\n",
    "\n",
    "    meanPWV = df.describe().loc[\"mean\"][\"PWV [mm]_x\"] \n",
    "        \n",
    "    for row1 in df.iterrows(): \n",
    "        t1 = row1[1][\"dt\"]\n",
    "        PWV1 = row1[1][\"PWV [mm]_x\"]\n",
    "        pwv1 = PWV1 - meanPWV\n",
    "        for row2 in df.iterrows(): \n",
    "            t2 = row2[1][\"dt\"]\n",
    "            PWV2 = row2[1][\"PWV [mm]_x\"]\n",
    "            pwv2 = PWV2 - meanPWV\n",
    "            Delta_t = t2-t1\n",
    "            Delta_pwv = PWV2-PWV1\n",
    "            pwv1pwv2 = pwv1*pwv2\n",
    "            if  Delta_t>0:\n",
    "                all_DPWV.append(Delta_pwv)\n",
    "                all_DT.append(Delta_t)\n",
    "                all_pwvpwv.append(pwv1pwv2)\n",
    "    return np.array(all_DT), np.array(all_DPWV), np.array(all_pwvpwv)  "
   ]
  },
  {
   "cell_type": "code",
   "execution_count": null,
   "id": "fd2ca24c-3f2f-48a9-a9f8-6ddf44fc545c",
   "metadata": {
    "execution": {
     "iopub.execute_input": "2025-02-05T14:19:39.443325Z",
     "iopub.status.busy": "2025-02-05T14:19:39.443184Z",
     "iopub.status.idle": "2025-02-05T14:19:39.459872Z",
     "shell.execute_reply": "2025-02-05T14:19:39.459401Z",
     "shell.execute_reply.started": "2025-02-05T14:19:39.443309Z"
    }
   },
   "outputs": [],
   "source": [
    "df_night_pwv_curve.describe().loc[\"mean\"][\"PWV [mm]_x\"] "
   ]
  },
  {
   "cell_type": "code",
   "execution_count": null,
   "id": "fd42dad5-58a5-4d2f-9698-71770f6211c6",
   "metadata": {
    "execution": {
     "iopub.execute_input": "2025-02-05T14:19:39.460580Z",
     "iopub.status.busy": "2025-02-05T14:19:39.460418Z",
     "iopub.status.idle": "2025-02-05T14:19:39.462781Z",
     "shell.execute_reply": "2025-02-05T14:19:39.462342Z",
     "shell.execute_reply.started": "2025-02-05T14:19:39.460562Z"
    }
   },
   "outputs": [],
   "source": [
    "sigma_repeatability = 0.26"
   ]
  },
  {
   "cell_type": "markdown",
   "id": "7252d231-eead-42f2-a6ec-02807f84d600",
   "metadata": {},
   "source": [
    "## Plot the time behaviour"
   ]
  },
  {
   "cell_type": "code",
   "execution_count": null,
   "id": "08c615d1-c632-4df9-acb0-f571c1424743",
   "metadata": {
    "execution": {
     "iopub.execute_input": "2025-02-05T14:19:39.463554Z",
     "iopub.status.busy": "2025-02-05T14:19:39.463401Z",
     "iopub.status.idle": "2025-02-05T14:20:50.914799Z",
     "shell.execute_reply": "2025-02-05T14:20:50.914304Z",
     "shell.execute_reply.started": "2025-02-05T14:19:39.463539Z"
    }
   },
   "outputs": [],
   "source": [
    "# container of all quantities\n",
    "all_sigmapwv = []\n",
    "all_meanpwv = []\n",
    "all_TimeDifferences = [] # t2-t1\n",
    "all_PWVDifferences = [] # PWV2-PWV1\n",
    "all_PWVProducts = [] # pwvi x pwvj\n",
    "all_nights_forpairs = []\n",
    "\n",
    "\n",
    "# loop on nights\n",
    "for night in all_selected_nights:\n",
    "    #select the night\n",
    "    # Choose the kind of observation\n",
    "    df_spec_night = df_spec_sel[df_spec_sel[\"nightObs\"] == night]\n",
    "    df_spec_night_wp = df_spec_wp[df_spec_wp[\"nightObs\"] == night]\n",
    "    df_spec_night_np = df_spec_np[df_spec_np[\"nightObs\"] == night]\n",
    "    df_spec_night_np_f = df_spec_np_f[df_spec_np_f[\"nightObs\"] == night]\n",
    "    df_spec_night_np_b = df_spec_np_b[df_spec_np_b[\"nightObs\"] == night]\n",
    "    \n",
    "    #select the variables\n",
    "    df_night_pwv_curve = df_spec_night[[\"Time\",\"PWV [mm]_x\",\"PWV [mm]_err_x\",\"PWV [mm]_y\",\"PWV [mm]_err_y\",\"dt_midnight\",\"AIRMASS\",\"TARGET\"]]\n",
    "    df_night_pwv_curve_wp = df_spec_night_wp[[\"Time\",\"PWV [mm]_x\",\"PWV [mm]_err_x\",\"PWV [mm]_y\",\"PWV [mm]_err_y\",\"dt_midnight\",\"AIRMASS\",\"TARGET\"]]\n",
    "    df_night_pwv_curve_np_b = df_spec_night_np_b[[\"Time\",\"PWV [mm]_x\",\"PWV [mm]_err_x\",\"PWV [mm]_y\",\"PWV [mm]_err_y\",\"dt_midnight\",\"AIRMASS\",\"TARGET\"]]\n",
    "    df_night_pwv_curve_np_f = df_spec_night_np_f[[\"Time\",\"PWV [mm]_x\",\"PWV [mm]_err_x\",\"PWV [mm]_y\",\"PWV [mm]_err_y\",\"dt_midnight\",\"AIRMASS\",\"TARGET\"]]\n",
    "    df_night_pwv_curve_np = df_spec_night_np[[\"Time\",\"PWV [mm]_x\",\"PWV [mm]_err_x\",\"PWV [mm]_y\",\"PWV [mm]_err_y\",\"dt_midnight\",\"AIRMASS\",\"TARGET\"]]\n",
    "\n",
    "    tmin = df_night_pwv_curve[\"Time\"].min()\n",
    "    tmax = df_night_pwv_curve[\"Time\"].max()\n",
    "\n",
    "    list_of_targets = df_night_pwv_curve[\"TARGET\"].unique()\n",
    "    str_list_of_targets = \"\\n\".join(list_of_targets)\n",
    "    str_list_of_targets = \"\\n\".join([\"targets:\",str_list_of_targets])\n",
    "     \n",
    "\n",
    "    # convert in hours\n",
    "    df_night_pwv_curve[\"dt\"] = (df_night_pwv_curve[\"Time\"] - tmin).dt.total_seconds()/3600.\n",
    "    df_night_pwv_curve_wp[\"dt\"] = (df_night_pwv_curve_wp[\"Time\"] - tmin).dt.total_seconds()/3600.\n",
    "    df_night_pwv_curve_np[\"dt\"] = (df_night_pwv_curve_np[\"Time\"] - tmin).dt.total_seconds()/3600.\n",
    "    df_night_pwv_curve_np_f[\"dt\"] = (df_night_pwv_curve_np_f[\"Time\"] - tmin).dt.total_seconds()/3600.\n",
    "    df_night_pwv_curve_np_b[\"dt\"] = (df_night_pwv_curve_np_b[\"Time\"] - tmin).dt.total_seconds()/3600.\n",
    "    \n",
    "    # extract statistics on pwv\n",
    "    stat = df_night_pwv_curve[[\"PWV [mm]_x\"]].describe()\n",
    "    date_form = DateFormatter(\"%y-%m-%dT%H:%M\")\n",
    "    #date_form = DateFormatter(\"%y-%m-%dT%H\")\n",
    "    count = int(stat.loc[\"count\"].values[0])\n",
    "    mean = stat.loc[\"mean\"].values[0]\n",
    "    median = stat.loc[\"50%\"].values[0]\n",
    "    std = stat.loc[\"std\"].values[0]\n",
    "    textstr = \"\\n\".join((f\"count : {count}\",\n",
    "                     f\"mean : {mean:.1f} mm\",\n",
    "                     f\"median : {median:.1f} mm\",\n",
    "                     f\"std : {std:.1f} mm\",\n",
    "                    ))\n",
    "\n",
    "\n",
    "    N= len(df_night_pwv_curve)\n",
    "\n",
    "    if N>10:\n",
    "        # does the fit\n",
    "        \n",
    "        #x,y,yerr,n,chi2dof,xfit,yfit,slope,slope_err = MakeLineFit(df_night_pwv_curve)\n",
    "        xfit, y_ard, y_ard_std, y_brr, y_brr_std, resy, y_mean = MakeLinearModelFit(df_night_pwv_curve)\n",
    "        all_dt,all_dpwv,all_pwvpwv = ComputePWVAndTimeDiffence(df_night_pwv_curve)\n",
    "        sigma_of_the_night = np.std(resy)\n",
    "\n",
    "\n",
    "        all_nights_forpairs.append(night)\n",
    "        \n",
    "        # Fill t,pwv\n",
    "        all_TimeDifferences.append(all_dt)\n",
    "        all_PWVDifferences.append(all_dpwv)\n",
    "        all_PWVProducts.append(all_pwvpwv)\n",
    "            \n",
    "        #mean and std of the night\n",
    "        all_meanpwv.append(y_mean)\n",
    "        all_sigmapwv.append(sigma_of_the_night)\n",
    "\n",
    "        \n",
    "        #textstr2 = \"\\n\".join((f\"d(PWV/dt) : \",\n",
    "        #             f\"slope : {slope:.3f} mm/h\",\n",
    "        #             f\"slope err : {slope_err:.3f} mm/h\",\n",
    "        #             f\"chi2/ndeg : {chi2dof:.2f}\",       \n",
    "        #            ))\n",
    "\n",
    "        #textstr3 = \"\\n\".join((f\"d(PWV/dt) : \",\n",
    "        #             f\"slope : {slope:.3f} mm/h\",\n",
    "        #             f\"slope err : {slope_err:.3f} mm/h\",  \n",
    "        #            ))\n",
    "    \n",
    "\n",
    "        #stat.loc[\"slope\",\"PWV [mm]_x\"] = slope \n",
    "        #stat.loc[\"slope_err\",\"PWV [mm]_x\"] = slope_err \n",
    "        #stat.loc[\"chi2\",\"PWV [mm]_x\"] = chi2dof\n",
    "\n",
    "        ##########\n",
    "        # plot\n",
    "        ############\n",
    "        \n",
    "\n",
    "        fig = plt.figure(figsize=(18,4),constrained_layout=True)\n",
    "        gs = GridSpec(1, 3,  width_ratios=[2,1,1],figure=fig)\n",
    "    \n",
    "        ax = fig.add_subplot(gs[0])\n",
    "        ax2 = fig.add_subplot(gs[1])\n",
    "        ax3 = fig.add_subplot(gs[2])\n",
    "        \n",
    "        leg=ax.get_legend()\n",
    "        leg2=ax2.get_legend()\n",
    "        leg3=ax3.get_legend()\n",
    "        \n",
    "        ax.errorbar(x=df_night_pwv_curve.dt_midnight, y=df_night_pwv_curve[\"PWV [mm]_x\"],yerr=df_night_pwv_curve[\"PWV [mm]_err_x\"],fmt=\"+\",color=\"r\",ecolor=\"k\",label=\"stat err\",ms=1)\n",
    "        df_night_pwv_curve_wp.plot(x=\"dt_midnight\",y=\"PWV [mm]_x\",c=\"cyan\",ax=ax,marker='o',lw=0.0,grid=True,legend=leg,label=\"polar\",ms=6,alpha=1)\n",
    "        df_night_pwv_curve_np_b.plot(x=\"dt_midnight\",y=\"PWV [mm]_x\",c=\"r\",ax=ax,marker='o',lw=0.0,grid=True,legend=leg,label=\"bright, no polar\",ms=6,alpha=1)\n",
    "        df_night_pwv_curve_np_f.plot(x=\"dt_midnight\",y=\"PWV [mm]_x\",c=\"g\",ax=ax,marker='o',lw=0.0,grid=True,legend=leg,label=\"faint, no polar\",ms=6,alpha=1)\n",
    "        ax.set_xlabel(\"hours since midnight\")\n",
    "        ax.set_ylim(0.,15.)\n",
    "        ax.set_ylabel(\"PWV (mm)\")\n",
    "        ax.legend(loc=\"upper right\")\n",
    "\n",
    "        ax.plot(xfit, y_ard,\"g-\",lw=3,label=\"ARDRegression\")\n",
    "        ax.fill_between(xfit, y_ard - 1.96 * y_ard_std,y_ard + 1.96 * y_ard_std,alpha=0.3,label=r\"95% CL\",facecolor='green')\n",
    "\n",
    "        #ax.plot(xfit2, y_brr,\"r-\",label=\"BayesianRidge\")\n",
    "        #ax.fill_between(xfit2, y_brr - 1.96 * y_brr_std,y_brr + 1.96 * y_brr_std,alpha=0.5,label=r\"95% CL\",facecolor='red')\n",
    "      \n",
    "       \n",
    "        ax.text(0.8, 0.5, str_list_of_targets, transform=ax.transAxes, fontsize=12,verticalalignment='top', bbox=props,alpha=0.5)\n",
    "        ax.set_title(f\"night {night}\")\n",
    "        ax.axvline(x=0,color=\"k\",lw=2)\n",
    "\n",
    "\n",
    "        inset_ax = inset_axes(ax,width=\"20%\", # width = 30% of parent_bbox\n",
    "                                          height=\"40%\", # height : 1 inch\n",
    "                                          loc=\"upper left\")\n",
    "        \n",
    "        textstr_sigma = f\"$\\sigma = $\" +f\"{sigma_of_the_night:.2f} mm\"\n",
    "        inset_ax.hist(resy,bins=30,facecolor=\"b\")\n",
    "        inset_ax.set_xlabel(\"residuals (mm)\")\n",
    "        inset_ax.text(0.1, 0.9, textstr_sigma , transform=inset_ax.transAxes, fontsize=8,verticalalignment='top', bbox=props,alpha=1)\n",
    "\n",
    "\n",
    "\n",
    "        ax2.scatter(all_dt,np.abs(all_dpwv),marker=\"o\",c=\"b\",s=20,alpha=.5)\n",
    "        ax2.set_xlabel(\"$\\Delta t$ (hours)\")\n",
    "        ax2.set_ylabel(\"$|\\Delta PWV |$ (mm)\")\n",
    "        ax2.grid()\n",
    "        ax2.set_title(\"PWV difference and time difference\")\n",
    "        #ax2.axhspan(0, 2*sigma_repeatability, facecolor=\"grey\", alpha=0.8,label=\"95 CL PWV repeatability\")\n",
    "        ax2.set_xscale(\"log\")\n",
    "        ax2.legend()\n",
    "\n",
    "        ax3.scatter(all_dt,all_pwvpwv/sigma_repeatability**2,marker=\"o\",c=\"r\",s=20,alpha=.5)\n",
    "        ax3.set_xlabel(\"$\\Delta t$ (hours)\")\n",
    "        ax3.set_ylabel(\"$ dpwv1 \\cdot dpwv2/\\sigma^2$\")\n",
    "        ax3.grid()\n",
    "        ax3.set_title(\"$ dpwv1 \\cdot dpwv2/\\sigma^2 \\; vs\\; \\delta t$\")\n",
    "        #ax2.axhspan(0, 2*sigma_repeatability, facecolor=\"grey\", alpha=0.8,label=\"95 CL PWV repeatability\")\n",
    "        ax3.set_xscale(\"log\")\n",
    "        ax3.legend()\n",
    "\n",
    "\n",
    "        \n",
    "        all_figs_to_pdf.append(fig) \n",
    "        \n",
    "        plt.tight_layout()\n",
    "        figname =f\"{pathfigs}/pwvtimecorrelation_per_night_{night}\"+figtype\n",
    "        plt.savefig(figname)\n",
    "        plt.show()\n"
   ]
  },
  {
   "cell_type": "markdown",
   "id": "76feaa44-40e9-4fa5-86fe-34aad03dddee",
   "metadata": {},
   "source": [
    "## Make a pandas dataframe with all time and pwv differences"
   ]
  },
  {
   "cell_type": "code",
   "execution_count": null,
   "id": "d76959df-4813-4c8f-b756-b6f4a70ec583",
   "metadata": {
    "execution": {
     "iopub.execute_input": "2025-02-05T14:20:50.915550Z",
     "iopub.status.busy": "2025-02-05T14:20:50.915395Z",
     "iopub.status.idle": "2025-02-05T14:21:02.129306Z",
     "shell.execute_reply": "2025-02-05T14:21:02.128727Z",
     "shell.execute_reply.started": "2025-02-05T14:20:50.915535Z"
    }
   },
   "outputs": [],
   "source": [
    "# loop on nights\n",
    "df_pairs = pd.DataFrame(columns = [\"idxnight\",\"idxpair\",\"nightobs\",\"meanpwv\",\"sigmapwv\",\"dt\",\"dPwv\",\"PwvixPwvj\"])\n",
    "ientry = 0\n",
    "\n",
    "for idxnight, night in enumerate(all_nights_forpairs):\n",
    "    the_sigmapwv = all_sigmapwv[idxnight]\n",
    "    the_meanpwv = all_meanpwv[idxnight]\n",
    "    the_TimeDifferences = all_TimeDifferences[idxnight]\n",
    "    the_PWVDifferences = all_PWVDifferences[idxnight]\n",
    "    the_PWVProducts = all_PWVProducts[idxnight]\n",
    "\n",
    "    Npairs = len(the_TimeDifferences)\n",
    "\n",
    "    # loop on pairs \n",
    "    for idxpair in range(Npairs):\n",
    "        df_pairs.loc[ientry] = [idxnight,idxpair, night,the_meanpwv , the_sigmapwv, the_TimeDifferences[idxpair], the_PWVDifferences[idxpair], the_PWVProducts[idxpair]  ]\n",
    "        ientry+=1"
   ]
  },
  {
   "cell_type": "code",
   "execution_count": null,
   "id": "026d9449-82ff-4a35-8c33-0ba9aa0fc292",
   "metadata": {
    "execution": {
     "iopub.execute_input": "2025-02-05T14:21:02.130154Z",
     "iopub.status.busy": "2025-02-05T14:21:02.129999Z",
     "iopub.status.idle": "2025-02-05T14:21:02.134672Z",
     "shell.execute_reply": "2025-02-05T14:21:02.134196Z",
     "shell.execute_reply.started": "2025-02-05T14:21:02.130139Z"
    }
   },
   "outputs": [],
   "source": [
    "df_pairs = df_pairs.astype({\"idxnight\":\"int\",\"idxpair\":\"int\",\"nightobs\":\"int\"})"
   ]
  },
  {
   "cell_type": "code",
   "execution_count": null,
   "id": "98ae8a58-03de-46c3-ace0-061d1bc9e1df",
   "metadata": {
    "execution": {
     "iopub.execute_input": "2025-02-05T14:21:02.135415Z",
     "iopub.status.busy": "2025-02-05T14:21:02.135256Z",
     "iopub.status.idle": "2025-02-05T14:21:02.147171Z",
     "shell.execute_reply": "2025-02-05T14:21:02.146710Z",
     "shell.execute_reply.started": "2025-02-05T14:21:02.135400Z"
    }
   },
   "outputs": [],
   "source": [
    "df_pairs"
   ]
  },
  {
   "cell_type": "markdown",
   "id": "76738635-e316-484d-a1b2-fcfba29f4e0b",
   "metadata": {
    "execution": {
     "iopub.status.busy": "2025-02-05T13:16:16.428794Z",
     "iopub.status.idle": "2025-02-05T13:16:16.428966Z",
     "shell.execute_reply": "2025-02-05T13:16:16.428887Z",
     "shell.execute_reply.started": "2025-02-05T13:16:16.428879Z"
    }
   },
   "source": [
    "## Stat plot "
   ]
  },
  {
   "cell_type": "code",
   "execution_count": null,
   "id": "8debe1f0-07fa-40ef-bb19-29f6cd3a2812",
   "metadata": {
    "execution": {
     "iopub.execute_input": "2025-02-05T14:21:02.147859Z",
     "iopub.status.busy": "2025-02-05T14:21:02.147708Z",
     "iopub.status.idle": "2025-02-05T14:21:02.358430Z",
     "shell.execute_reply": "2025-02-05T14:21:02.357849Z",
     "shell.execute_reply.started": "2025-02-05T14:21:02.147844Z"
    }
   },
   "outputs": [],
   "source": [
    "import seaborn as sns"
   ]
  },
  {
   "cell_type": "code",
   "execution_count": null,
   "id": "ad7e41f3-38c0-4959-8ebd-89ec67b8a237",
   "metadata": {
    "execution": {
     "iopub.execute_input": "2025-02-05T14:21:02.359701Z",
     "iopub.status.busy": "2025-02-05T14:21:02.359095Z",
     "iopub.status.idle": "2025-02-05T14:21:02.471408Z",
     "shell.execute_reply": "2025-02-05T14:21:02.470919Z",
     "shell.execute_reply.started": "2025-02-05T14:21:02.359681Z"
    }
   },
   "outputs": [],
   "source": [
    "sns.violinplot(x=df_pairs[\"dt\"])"
   ]
  },
  {
   "cell_type": "code",
   "execution_count": null,
   "id": "54529a8a-c08d-45e1-9008-bdc90daeb62e",
   "metadata": {
    "execution": {
     "iopub.execute_input": "2025-02-05T14:21:02.472136Z",
     "iopub.status.busy": "2025-02-05T14:21:02.471987Z",
     "iopub.status.idle": "2025-02-05T14:21:02.594369Z",
     "shell.execute_reply": "2025-02-05T14:21:02.593786Z",
     "shell.execute_reply.started": "2025-02-05T14:21:02.472120Z"
    }
   },
   "outputs": [],
   "source": [
    "sns.violinplot(x=df_pairs[\"dPwv\"])"
   ]
  },
  {
   "cell_type": "markdown",
   "id": "3cfd74e9-3e33-4918-9e79-1c0000a171cd",
   "metadata": {},
   "source": [
    "### Generate time bins"
   ]
  },
  {
   "cell_type": "code",
   "execution_count": null,
   "id": "d8dcc575-9da2-49cf-a88c-866d4d6d480a",
   "metadata": {
    "execution": {
     "iopub.execute_input": "2025-02-05T14:21:02.595143Z",
     "iopub.status.busy": "2025-02-05T14:21:02.594983Z",
     "iopub.status.idle": "2025-02-05T14:21:02.597902Z",
     "shell.execute_reply": "2025-02-05T14:21:02.597484Z",
     "shell.execute_reply.started": "2025-02-05T14:21:02.595126Z"
    }
   },
   "outputs": [],
   "source": [
    "MAXHOURTIMES = 10.0    # hours\n",
    "TIMEBINWIDTHMIN = 10.0 # in minutes\n",
    "NUMBEROFTIMEBINS = int(MAXHOURTIMES*60.0/TIMEBINWIDTHMIN)"
   ]
  },
  {
   "cell_type": "code",
   "execution_count": null,
   "id": "6715430c-9f55-407e-adac-fa29e7adaaa0",
   "metadata": {
    "execution": {
     "iopub.execute_input": "2025-02-05T14:21:02.598559Z",
     "iopub.status.busy": "2025-02-05T14:21:02.598411Z",
     "iopub.status.idle": "2025-02-05T14:21:02.605117Z",
     "shell.execute_reply": "2025-02-05T14:21:02.604655Z",
     "shell.execute_reply.started": "2025-02-05T14:21:02.598544Z"
    }
   },
   "outputs": [],
   "source": [
    "def time_to_bintime(thour,binwidth=TIMEBINWIDTHMIN):\n",
    "    \"\"\"\n",
    "    thour : time difference in hour\n",
    "    binwidth : width of the bin\n",
    "    \"\"\"\n",
    "\n",
    "    # convert time \n",
    "    minutes_bin  = (thour*60 /binwidth)\n",
    "    binnum = round(minutes_bin)\n",
    "    return pd.Series( data = [binnum, (binnum*binwidth)/60.],index = [\"binnum\",\"hourbin\"])"
   ]
  },
  {
   "cell_type": "code",
   "execution_count": null,
   "id": "d7d0c563-55a5-4056-bde6-85cbc4a0f165",
   "metadata": {
    "execution": {
     "iopub.execute_input": "2025-02-05T14:21:02.605938Z",
     "iopub.status.busy": "2025-02-05T14:21:02.605643Z",
     "iopub.status.idle": "2025-02-05T14:21:06.218349Z",
     "shell.execute_reply": "2025-02-05T14:21:06.217869Z",
     "shell.execute_reply.started": "2025-02-05T14:21:02.605921Z"
    }
   },
   "outputs": [],
   "source": [
    "df_pairs[\"dt\"].apply(time_to_bintime)"
   ]
  },
  {
   "cell_type": "code",
   "execution_count": null,
   "id": "96639974-eaa3-4418-abe5-3907a28d1cec",
   "metadata": {
    "execution": {
     "iopub.execute_input": "2025-02-05T14:21:06.219096Z",
     "iopub.status.busy": "2025-02-05T14:21:06.218953Z",
     "iopub.status.idle": "2025-02-05T14:21:08.975982Z",
     "shell.execute_reply": "2025-02-05T14:21:08.975478Z",
     "shell.execute_reply.started": "2025-02-05T14:21:06.219080Z"
    }
   },
   "outputs": [],
   "source": [
    "df_pairs[[\"binnum\",\"hour_bin\"]]= df_pairs[\"dt\"].apply(time_to_bintime)\n",
    "df_pairs = df_pairs.astype({\"binnum\":\"int\"})"
   ]
  },
  {
   "cell_type": "code",
   "execution_count": null,
   "id": "64d3d8d4-48a4-4e08-b454-8d38e9b74ef8",
   "metadata": {
    "execution": {
     "iopub.execute_input": "2025-02-05T14:21:08.976719Z",
     "iopub.status.busy": "2025-02-05T14:21:08.976575Z",
     "iopub.status.idle": "2025-02-05T14:21:08.979874Z",
     "shell.execute_reply": "2025-02-05T14:21:08.979484Z",
     "shell.execute_reply.started": "2025-02-05T14:21:08.976704Z"
    }
   },
   "outputs": [],
   "source": [
    ".5*60/10"
   ]
  },
  {
   "cell_type": "code",
   "execution_count": null,
   "id": "bd4ddc95-eb90-42ec-ac67-2844b08239e6",
   "metadata": {
    "execution": {
     "iopub.execute_input": "2025-02-05T14:21:08.980477Z",
     "iopub.status.busy": "2025-02-05T14:21:08.980341Z",
     "iopub.status.idle": "2025-02-05T14:21:08.993040Z",
     "shell.execute_reply": "2025-02-05T14:21:08.992629Z",
     "shell.execute_reply.started": "2025-02-05T14:21:08.980463Z"
    }
   },
   "outputs": [],
   "source": [
    "df_pairs"
   ]
  },
  {
   "cell_type": "code",
   "execution_count": null,
   "id": "6ebca8bb-0d3b-4d81-b17f-3c1f8dc6047f",
   "metadata": {
    "execution": {
     "iopub.execute_input": "2025-02-05T14:21:08.993676Z",
     "iopub.status.busy": "2025-02-05T14:21:08.993542Z",
     "iopub.status.idle": "2025-02-05T14:21:09.103734Z",
     "shell.execute_reply": "2025-02-05T14:21:09.103254Z",
     "shell.execute_reply.started": "2025-02-05T14:21:08.993663Z"
    }
   },
   "outputs": [],
   "source": [
    "df_pairs[\"binnum\"].hist(bins=NUMBEROFTIMEBINS,range=[0,50])"
   ]
  },
  {
   "cell_type": "markdown",
   "id": "d0d68d33-7296-4fc9-865f-94c9bcba7a23",
   "metadata": {},
   "source": [
    "### home made profile plot"
   ]
  },
  {
   "cell_type": "code",
   "execution_count": null,
   "id": "6887e3f5-5c60-43cf-8e3b-78538b3faaa4",
   "metadata": {
    "execution": {
     "iopub.execute_input": "2025-02-05T14:45:13.917158Z",
     "iopub.status.busy": "2025-02-05T14:45:13.916461Z",
     "iopub.status.idle": "2025-02-05T14:45:13.933267Z",
     "shell.execute_reply": "2025-02-05T14:45:13.932756Z",
     "shell.execute_reply.started": "2025-02-05T14:45:13.917128Z"
    }
   },
   "outputs": [],
   "source": [
    "all_bin_numbers = df_pairs[\"binnum\"].unique()\n",
    "all_bin_numbers = sorted(all_bin_numbers)\n",
    "\n",
    "# loop on time-bins\n",
    "all_df = []\n",
    "for ibin in all_bin_numbers:\n",
    "    df = df_pairs[df_pairs[\"binnum\"] == ibin ]\n",
    "    all_df.append(df)"
   ]
  },
  {
   "cell_type": "code",
   "execution_count": null,
   "id": "314c3b58-ccf4-46c3-b6c6-c0d130d1bb66",
   "metadata": {
    "execution": {
     "iopub.execute_input": "2025-02-05T14:57:34.671324Z",
     "iopub.status.busy": "2025-02-05T14:57:34.670713Z",
     "iopub.status.idle": "2025-02-05T14:57:35.439545Z",
     "shell.execute_reply": "2025-02-05T14:57:35.439036Z",
     "shell.execute_reply.started": "2025-02-05T14:57:34.671306Z"
    }
   },
   "outputs": [],
   "source": [
    "fig,ax = plt.subplots(1,1,figsize=(10,5))\n",
    "for ibin in range(15):\n",
    "    all_df[ibin][\"dt\"].hist(bins=NUMBEROFTIMEBINS,range=[0,2],ax=ax)\n"
   ]
  },
  {
   "cell_type": "markdown",
   "id": "441803df-10a3-4526-9bef-1917a7662871",
   "metadata": {},
   "source": [
    "### boxplot"
   ]
  },
  {
   "cell_type": "markdown",
   "id": "279cf950-c981-48a0-a396-c70acfd22fb5",
   "metadata": {},
   "source": [
    "- https://wellbeingatschool.org.nz/information-sheet/understanding-and-interpreting-box-plots\n",
    "\n",
    "- https://stackoverflow.com/questions/33328774/box-plot-with-min-max-average-and-standard-deviation"
   ]
  },
  {
   "cell_type": "code",
   "execution_count": null,
   "id": "95903ce6-907b-449c-b236-fa58e7616cb5",
   "metadata": {
    "execution": {
     "iopub.execute_input": "2025-02-05T14:52:12.565011Z",
     "iopub.status.busy": "2025-02-05T14:52:12.564449Z",
     "iopub.status.idle": "2025-02-05T14:52:13.107971Z",
     "shell.execute_reply": "2025-02-05T14:52:13.107512Z",
     "shell.execute_reply.started": "2025-02-05T14:52:12.564993Z"
    }
   },
   "outputs": [],
   "source": [
    "fig,ax = plt.subplots(1,1,figsize=(16,6))\n",
    "sns.boxplot(x=df_pairs[\"binnum\"],y=df_pairs[\"dPwv\"],ax=ax,color=\"r\",notch=False)\n",
    "\n",
    "ax.set_xticks(ax.get_xticks())\n",
    "ax.set_xticklabels(ax.get_xticklabels(), rotation=90, ha='right',color=\"b\");\n",
    "ax.grid()\n",
    "ax.set_ylim(-4,4)\n",
    "ax.set_title(f\"Box-Plot : PWV difference in pairs in bins of {TIMEBINWIDTHMIN:.0f} minutes\")"
   ]
  },
  {
   "cell_type": "code",
   "execution_count": null,
   "id": "955e69d7-a9de-4e45-ab61-16f96e647d8a",
   "metadata": {
    "execution": {
     "iopub.execute_input": "2025-02-05T14:22:47.666418Z",
     "iopub.status.busy": "2025-02-05T14:22:47.666061Z",
     "iopub.status.idle": "2025-02-05T14:22:48.436894Z",
     "shell.execute_reply": "2025-02-05T14:22:48.436400Z",
     "shell.execute_reply.started": "2025-02-05T14:22:47.666399Z"
    }
   },
   "outputs": [],
   "source": [
    "fig,ax = plt.subplots(1,1,figsize=(16,6))\n",
    "sns.violinplot(x=df_pairs[\"binnum\"],y=df_pairs[\"dPwv\"],ax=ax,color=\"r\")\n",
    "\n",
    "ax.set_xticks(ax.get_xticks())\n",
    "ax.set_xticklabels(ax.get_xticklabels(), rotation=90, ha='right',color=\"b\");\n",
    "ax.grid()\n",
    "ax.set_ylim(-4,4)"
   ]
  },
  {
   "cell_type": "code",
   "execution_count": null,
   "id": "b6b6883a-bd7a-413f-aa80-05010e8cff00",
   "metadata": {
    "execution": {
     "iopub.execute_input": "2025-02-05T14:21:09.828967Z",
     "iopub.status.busy": "2025-02-05T14:21:09.828692Z",
     "iopub.status.idle": "2025-02-05T14:21:09.838834Z",
     "shell.execute_reply": "2025-02-05T14:21:09.838381Z",
     "shell.execute_reply.started": "2025-02-05T14:21:09.828949Z"
    }
   },
   "outputs": [],
   "source": [
    "df_pairs"
   ]
  },
  {
   "cell_type": "code",
   "execution_count": null,
   "id": "891005e0-eeac-49a8-aabc-11a0d833892a",
   "metadata": {
    "execution": {
     "iopub.execute_input": "2025-02-05T14:21:09.839528Z",
     "iopub.status.busy": "2025-02-05T14:21:09.839370Z",
     "iopub.status.idle": "2025-02-05T14:21:09.953351Z",
     "shell.execute_reply": "2025-02-05T14:21:09.952624Z",
     "shell.execute_reply.started": "2025-02-05T14:21:09.839512Z"
    }
   },
   "outputs": [],
   "source": [
    "assert False"
   ]
  },
  {
   "cell_type": "markdown",
   "id": "aad927de-233c-40c6-81df-f1f24506902f",
   "metadata": {},
   "source": [
    "## Do some old plots"
   ]
  },
  {
   "cell_type": "code",
   "execution_count": null,
   "id": "d510ebcb-de6d-45c3-9d86-0a99dbb1f4e6",
   "metadata": {
    "execution": {
     "iopub.status.busy": "2025-02-05T14:21:09.953797Z",
     "iopub.status.idle": "2025-02-05T14:21:09.953995Z",
     "shell.execute_reply": "2025-02-05T14:21:09.953899Z",
     "shell.execute_reply.started": "2025-02-05T14:21:09.953890Z"
    }
   },
   "outputs": [],
   "source": [
    "fig,ax  = plt.subplots(1,1,figsize=(8,5))   \n",
    "ax.scatter(all_pwv,all_sigmapwv,marker='o',c='b')\n",
    "ax.set_xlabel(\"$\\overline{PWV}$ (mm)\")\n",
    "ax.set_ylabel(\"$\\sigma(PWV)$ (mm)\")\n",
    "ax.set_title(\"Variability of PWV\")\n",
    "ax.axhspan(0, 2*sigma_repeatability, facecolor=\"grey\", alpha=0.5,label=\"95 CL PWV repeatability\")\n",
    "ax.legend()\n",
    "all_figs_to_pdf.append(fig)\n",
    "plt.show()"
   ]
  },
  {
   "cell_type": "markdown",
   "id": "88a34cc8-87f7-4874-828d-0020e748ee3d",
   "metadata": {},
   "source": [
    "## All night combined"
   ]
  },
  {
   "cell_type": "markdown",
   "id": "764bcc1d-8f20-4e2a-aca1-f058516b58fb",
   "metadata": {},
   "source": [
    "### Merge all night arrays"
   ]
  },
  {
   "cell_type": "code",
   "execution_count": null,
   "id": "56433189-ed5e-4f7f-bfdd-eb467bd42a0d",
   "metadata": {
    "execution": {
     "iopub.status.busy": "2025-02-05T14:21:09.954524Z",
     "iopub.status.idle": "2025-02-05T14:21:09.954696Z",
     "shell.execute_reply": "2025-02-05T14:21:09.954617Z",
     "shell.execute_reply.started": "2025-02-05T14:21:09.954609Z"
    }
   },
   "outputs": [],
   "source": [
    "# Merge all night arrays\n",
    "X = np.concatenate(all_X)   \n",
    "Y = np.concatenate(all_Y)\n",
    "Z = np.concatenate(all_Z)"
   ]
  },
  {
   "cell_type": "markdown",
   "id": "899da07d-bdb9-44db-a9dd-e5aa9aa6a8cc",
   "metadata": {},
   "source": [
    "### Plot "
   ]
  },
  {
   "cell_type": "markdown",
   "id": "9272703f-dcb2-4204-9d3a-12683f362e2f",
   "metadata": {},
   "source": [
    "#### PWV difference"
   ]
  },
  {
   "cell_type": "code",
   "execution_count": null,
   "id": "b87e634a-c7c4-4357-bc9e-fd65237b71e5",
   "metadata": {
    "execution": {
     "iopub.status.busy": "2025-02-05T14:21:09.955242Z",
     "iopub.status.idle": "2025-02-05T14:21:09.955411Z",
     "shell.execute_reply": "2025-02-05T14:21:09.955328Z",
     "shell.execute_reply.started": "2025-02-05T14:21:09.955320Z"
    }
   },
   "outputs": [],
   "source": [
    "\n",
    "fig,ax = plt.subplots(1,1,figsize=(8,5))\n",
    "ax.scatter(X,np.abs(Y),marker=\"o\",s=1,c=\"r\",alpha=1)\n",
    "ax.set_xscale(\"log\")\n",
    "ax.set_xlim(0.,2.)\n",
    "ax.grid()\n",
    "ax.set_xlabel(\"$\\Delta t$ (hours)\")\n",
    "ax.set_ylabel(\"$|\\Delta PWV |$ (mm)\")\n",
    "ax.set_title(\"PWV difference and time difference\")\n",
    "all_figs_to_pdf.append(fig)\n",
    "plt.show()"
   ]
  },
  {
   "cell_type": "code",
   "execution_count": null,
   "id": "2e091426-bc43-4f28-9fe3-8baf2527395e",
   "metadata": {
    "execution": {
     "iopub.status.busy": "2025-02-05T14:21:09.955888Z",
     "iopub.status.idle": "2025-02-05T14:21:09.956052Z",
     "shell.execute_reply": "2025-02-05T14:21:09.955973Z",
     "shell.execute_reply.started": "2025-02-05T14:21:09.955966Z"
    }
   },
   "outputs": [],
   "source": [
    "fig,ax = plt.subplots(1,1,figsize=(8,5))\n",
    "ax.hist2d(np.log10(X),np.abs(Y),bins=(50,50),range=((-2,1),(0,2)),cmap=\"YlOrRd\",density=True);\n",
    "#ax.hist2d(X,Y,bins=(50,50),range=((0,2),(0,2)),cmap=\"YlOrRd\",density=True);\n",
    "ax.grid()\n",
    "#ax.set_xlabel(\"$\\log_{10}(\\Delta t/1hour)$\")\n",
    "ax.set_xlabel(\"$\\log_{10}(\\Delta t/1hour$)\")\n",
    "ax.set_ylabel(\"$/\\log_{10}(|\\Delta PWV |$ (mm))\")\n",
    "ax.set_title(\"PWV difference and time difference\")\n",
    "all_figs_to_pdf.append(fig)\n",
    "plt.show()"
   ]
  },
  {
   "cell_type": "markdown",
   "id": "bae8e7b4-958d-47d6-b29b-b7c748cfb1c9",
   "metadata": {},
   "source": [
    "### Correlation function"
   ]
  },
  {
   "cell_type": "code",
   "execution_count": null,
   "id": "143b25a2-204e-4671-b0f1-94e7bad9fdba",
   "metadata": {
    "execution": {
     "iopub.status.busy": "2025-02-05T14:21:09.956766Z",
     "iopub.status.idle": "2025-02-05T14:21:09.956931Z",
     "shell.execute_reply": "2025-02-05T14:21:09.956853Z",
     "shell.execute_reply.started": "2025-02-05T14:21:09.956845Z"
    }
   },
   "outputs": [],
   "source": [
    "fig,ax = plt.subplots(1,1,figsize=(8,5))\n",
    "ax.scatter(X,np.abs(Z),marker=\"o\",s=1,c=\"r\",alpha=1)\n",
    "ax.set_xscale(\"log\")\n",
    "ax.grid()\n",
    "ax.set_xlabel(\"$\\Delta t$ (hours)\")\n",
    "ax.set_ylabel(\"$ (dpwv_1\\cdot dpwv_2)/\\sigma^2$ \")\n",
    "ax.set_title(\"$Autocorrelation$\")\n",
    "ax.set_ylim(0,5.)\n",
    "all_figs_to_pdf.append(fig)\n",
    "plt.show()"
   ]
  },
  {
   "cell_type": "code",
   "execution_count": null,
   "id": "5934c564-d45f-4e3e-b39e-213673e24813",
   "metadata": {
    "execution": {
     "iopub.status.busy": "2025-02-05T14:21:09.957530Z",
     "iopub.status.idle": "2025-02-05T14:21:09.957702Z",
     "shell.execute_reply": "2025-02-05T14:21:09.957617Z",
     "shell.execute_reply.started": "2025-02-05T14:21:09.957609Z"
    }
   },
   "outputs": [],
   "source": [
    "fig,ax = plt.subplots(1,1,figsize=(8,5))\n",
    "\n",
    "ax.hist2d(np.log10(X),np.abs(Z),bins=(50,50),range=((-2,1),(0,0.1)),cmap=\"YlOrRd\",density=True)\n",
    "ax.grid()\n",
    "ax.set_xlabel(\"$\\log_{10}(\\Delta t/1hour)$\")\n",
    "ax.set_ylabel(\"$ (dpwv_1\\cdot dpwv_2)/\\sigma^2$\")\n",
    "ax.set_title(\"Auto correlation\")\n",
    "all_figs_to_pdf.append(fig)\n",
    "plt.show()"
   ]
  },
  {
   "cell_type": "markdown",
   "id": "f3c4088b-475c-4545-abf5-7490d67a62c9",
   "metadata": {},
   "source": [
    "## Discrete correlation function"
   ]
  },
  {
   "cell_type": "code",
   "execution_count": null,
   "id": "c103141a-f86c-41a5-82b0-6d5f80d570d5",
   "metadata": {
    "execution": {
     "iopub.status.busy": "2025-02-05T14:21:09.958061Z",
     "iopub.status.idle": "2025-02-05T14:21:09.958217Z",
     "shell.execute_reply": "2025-02-05T14:21:09.958142Z",
     "shell.execute_reply.started": "2025-02-05T14:21:09.958135Z"
    }
   },
   "outputs": [],
   "source": [
    "for night in all_selected_nights:\n",
    "    #select the night\n",
    "    # Choose the kind of observation\n",
    "    df_spec_night = df_spec_sel[df_spec_sel[\"nightObs\"] == night]\n",
    "    N = len( df_spec_night)\n",
    "    print(night,N)\n",
    "    if night == 20230131:\n",
    "        break"
   ]
  },
  {
   "cell_type": "code",
   "execution_count": null,
   "id": "1a4c0426-9d7e-4bc7-9dcc-0fb8e16ea33a",
   "metadata": {
    "execution": {
     "iopub.status.busy": "2025-02-05T14:21:09.958760Z",
     "iopub.status.idle": "2025-02-05T14:21:09.958931Z",
     "shell.execute_reply": "2025-02-05T14:21:09.958847Z",
     "shell.execute_reply.started": "2025-02-05T14:21:09.958838Z"
    }
   },
   "outputs": [],
   "source": [
    "def ComputeZDCF(night,df_night_pwv_curve):\n",
    "    \"\"\"\n",
    "    Compute the Discrete Covariance Curve with pyzdcf\n",
    "    \"\"\"\n",
    "    # convert to seconds\n",
    "    df_night_pwv_curve[\"t_sec_rel\"] = df_night_pwv_curve.dt_midnight*3600.0\n",
    "\n",
    "    # compute the time index (integer) in seconds\n",
    "    t_sec_rel_min = df_night_pwv_curve[\"t_sec_rel\"].min()\n",
    "    df_night_pwv_curve[\"t_sec_abs\"] = (df_night_pwv_curve[\"t_sec_rel\"] - t_sec_rel_min).astype(int)\n",
    "\n",
    "    # create the curve in the required format\n",
    "    df_pwvc = df_night_pwv_curve[[\"t_sec_abs\",\"PWV [mm]_x\"]]\n",
    "\n",
    "    # add the error on the point \n",
    "    df_pwvc = df_pwvc.assign(sig_pwv = lambda x: sigma_repeatability)\n",
    "\n",
    "    # save the pwv curve in a file\n",
    "    fn = f\"pwv_curve_{night}.csv\"\n",
    "    ffn = os.path.join(datapath_input,fn)\n",
    "    df_pwvc.to_csv(ffn, index=False,header=False)\n",
    "\n",
    "    # parameters for the pyzdcf\n",
    "    params_dcf = dict(autocf    =  True, # Autocorrelation (T) or cross-correlation (F)\n",
    "              prefix            = 'acf',  # Output files prefix\n",
    "              uniform_sampling  =  False, # Uniform sampling?\n",
    "              omit_zero_lags    =  False,  # Omit zero lag points?\n",
    "              minpts            =  20,     # Min. num. of points per bin (0 is a flag for default value of 11)\n",
    "              num_MC            =  100,   # Num. of Monte Carlo simulations for error estimation\n",
    "              lc1_name          =  fn,   # Name of the first light curve file\n",
    "              lc2_name          =  fn    # Name of the second light curve file (required only if we do CCF)\n",
    "             )\n",
    "\n",
    "    # compute the ZDCF\n",
    "    dcf_df = pyzdcf(input_dir  = datapath_input+\"/\" , \n",
    "                    output_dir = datapath_output+\"/\", \n",
    "                    intr       = False, \n",
    "                    parameters = params_dcf, \n",
    "                    sep        = ',', \n",
    "                    sparse     = 'auto', \n",
    "                    verbose    = False)\n",
    "    return dcf_df\n"
   ]
  },
  {
   "cell_type": "code",
   "execution_count": null,
   "id": "17299c52-7805-4317-b41f-7e0e06ce15c1",
   "metadata": {
    "execution": {
     "iopub.status.busy": "2025-02-05T14:21:09.959473Z",
     "iopub.status.idle": "2025-02-05T14:21:09.959635Z",
     "shell.execute_reply": "2025-02-05T14:21:09.959558Z",
     "shell.execute_reply.started": "2025-02-05T14:21:09.959551Z"
    }
   },
   "outputs": [],
   "source": [
    "df_night_pwv_curve = df_spec_night[[\"Time\",\"PWV [mm]_x\",\"PWV [mm]_err_x\",\"PWV [mm]_y\",\"PWV [mm]_err_y\",\"dt_midnight\",\"ex_mjd\",\"AIRMASS\",\"TARGET\"]]"
   ]
  },
  {
   "cell_type": "code",
   "execution_count": null,
   "id": "31d67c39-3511-46e2-a4ad-09a2e8b418dd",
   "metadata": {
    "execution": {
     "iopub.status.busy": "2025-02-05T14:21:09.959980Z",
     "iopub.status.idle": "2025-02-05T14:21:09.960129Z",
     "shell.execute_reply": "2025-02-05T14:21:09.960057Z",
     "shell.execute_reply.started": "2025-02-05T14:21:09.960050Z"
    }
   },
   "outputs": [],
   "source": [
    "dcf_df = ComputeZDCF(night,df_night_pwv_curve)"
   ]
  },
  {
   "cell_type": "code",
   "execution_count": null,
   "id": "ec5c0ae6-551f-450b-882c-28468f26405a",
   "metadata": {
    "execution": {
     "iopub.status.busy": "2025-02-05T14:21:09.960793Z",
     "iopub.status.idle": "2025-02-05T14:21:09.960954Z",
     "shell.execute_reply": "2025-02-05T14:21:09.960874Z",
     "shell.execute_reply.started": "2025-02-05T14:21:09.960868Z"
    }
   },
   "outputs": [],
   "source": [
    "dcf_df"
   ]
  },
  {
   "cell_type": "code",
   "execution_count": null,
   "id": "4c7272b8-ebfe-4c4f-81bc-2bc2c917dd62",
   "metadata": {
    "execution": {
     "iopub.status.busy": "2025-02-05T14:21:09.961395Z",
     "iopub.status.idle": "2025-02-05T14:21:09.961554Z",
     "shell.execute_reply": "2025-02-05T14:21:09.961478Z",
     "shell.execute_reply.started": "2025-02-05T14:21:09.961471Z"
    }
   },
   "outputs": [],
   "source": [
    "xerr = dcf_df[[\"-sig(tau)\",\"+sig(tau)\"]].values.T/3600. \t\n",
    "yerr = dcf_df[[\"-err(dcf)\",\"+err(dcf)\"]].values.T/3600.\t\n",
    "x = dcf_df[\"tau\"].values/3600.\n",
    "y = dcf_df[\"dcf\"].values"
   ]
  },
  {
   "cell_type": "code",
   "execution_count": null,
   "id": "2a12e7f9-8581-47ff-8f49-17199cde2536",
   "metadata": {
    "execution": {
     "iopub.status.busy": "2025-02-05T14:21:09.962225Z",
     "iopub.status.idle": "2025-02-05T14:21:09.962400Z",
     "shell.execute_reply": "2025-02-05T14:21:09.962308Z",
     "shell.execute_reply.started": "2025-02-05T14:21:09.962301Z"
    }
   },
   "outputs": [],
   "source": [
    "fig,ax = plt.subplots(1,1,figsize=(10,4))\n",
    "ax.errorbar(x,y,xerr=xerr,yerr=yerr,marker='o', mfc='red',linewidth=0.5,\n",
    "         mec='red', ms=2, mew=2,ecolor=\"k\",elinewidth=2,capsize=2,uplims=True, lolims=True)\n",
    "ax.grid()\n",
    "ax.set_ylim(-1,1)\n",
    "ax.set_title(f\"Discrete covariance function night {night}\")\n",
    "ax.set_xlabel(\"Time (hours)\")\n",
    "ax.set_ylabel(\"DCF (no units)\")"
   ]
  },
  {
   "cell_type": "markdown",
   "id": "4cf3b3d3-e926-47d7-97ef-d3a837caf961",
   "metadata": {},
   "source": [
    "## Compute the DCF over all nights"
   ]
  },
  {
   "cell_type": "code",
   "execution_count": null,
   "id": "37abdd2e-478d-450b-88d1-833d81655aef",
   "metadata": {
    "execution": {
     "iopub.status.busy": "2025-02-05T14:21:09.962859Z",
     "iopub.status.idle": "2025-02-05T14:21:09.963025Z",
     "shell.execute_reply": "2025-02-05T14:21:09.962942Z",
     "shell.execute_reply.started": "2025-02-05T14:21:09.962934Z"
    }
   },
   "outputs": [],
   "source": [
    "# RESET figures\n",
    "all_figs_to_pdf = []"
   ]
  },
  {
   "cell_type": "code",
   "execution_count": null,
   "id": "6fc16764-382e-44ab-8d40-0ab954709e8c",
   "metadata": {
    "execution": {
     "iopub.status.busy": "2025-02-05T14:21:09.963546Z",
     "iopub.status.idle": "2025-02-05T14:21:09.963707Z",
     "shell.execute_reply": "2025-02-05T14:21:09.963627Z",
     "shell.execute_reply.started": "2025-02-05T14:21:09.963620Z"
    }
   },
   "outputs": [],
   "source": [
    "#all_pwv = []\n",
    "#all_sigmapwv = []\n",
    "\n",
    "all_T = []\n",
    "all_DCF = []\n",
    "\n",
    "# loop on nights\n",
    "for night in all_selected_nights:\n",
    "    #select the night\n",
    "    # Choose the kind of observation\n",
    "    df_spec_night = df_spec_sel[df_spec_sel[\"nightObs\"] == night]\n",
    "    df_spec_night_wp = df_spec_wp[df_spec_wp[\"nightObs\"] == night]\n",
    "    df_spec_night_np = df_spec_np[df_spec_np[\"nightObs\"] == night]\n",
    "    df_spec_night_np_f = df_spec_np_f[df_spec_np_f[\"nightObs\"] == night]\n",
    "    df_spec_night_np_b = df_spec_np_b[df_spec_np_b[\"nightObs\"] == night]\n",
    "    \n",
    "    #select the variables\n",
    "    df_night_pwv_curve = df_spec_night[[\"Time\",\"PWV [mm]_x\",\"PWV [mm]_err_x\",\"PWV [mm]_y\",\"PWV [mm]_err_y\",\"dt_midnight\",\"AIRMASS\",\"TARGET\"]]\n",
    "    df_night_pwv_curve_wp = df_spec_night_wp[[\"Time\",\"PWV [mm]_x\",\"PWV [mm]_err_x\",\"PWV [mm]_y\",\"PWV [mm]_err_y\",\"dt_midnight\",\"AIRMASS\",\"TARGET\"]]\n",
    "    df_night_pwv_curve_np_b = df_spec_night_np_b[[\"Time\",\"PWV [mm]_x\",\"PWV [mm]_err_x\",\"PWV [mm]_y\",\"PWV [mm]_err_y\",\"dt_midnight\",\"AIRMASS\",\"TARGET\"]]\n",
    "    df_night_pwv_curve_np_f = df_spec_night_np_f[[\"Time\",\"PWV [mm]_x\",\"PWV [mm]_err_x\",\"PWV [mm]_y\",\"PWV [mm]_err_y\",\"dt_midnight\",\"AIRMASS\",\"TARGET\"]]\n",
    "    df_night_pwv_curve_np = df_spec_night_np[[\"Time\",\"PWV [mm]_x\",\"PWV [mm]_err_x\",\"PWV [mm]_y\",\"PWV [mm]_err_y\",\"dt_midnight\",\"AIRMASS\",\"TARGET\"]]\n",
    "\n",
    "    tmin = df_night_pwv_curve[\"Time\"].min()\n",
    "    tmax = df_night_pwv_curve[\"Time\"].max()\n",
    "\n",
    "    list_of_targets = df_night_pwv_curve[\"TARGET\"].unique()\n",
    "    str_list_of_targets = \"\\n\".join(list_of_targets)\n",
    "    str_list_of_targets = \"\\n\".join([\"targets:\",str_list_of_targets])\n",
    "     \n",
    "\n",
    "    # convert in hours\n",
    "    df_night_pwv_curve[\"dt\"] = (df_night_pwv_curve[\"Time\"] - tmin).dt.total_seconds()/3600.\n",
    "    df_night_pwv_curve_wp[\"dt\"] = (df_night_pwv_curve_wp[\"Time\"] - tmin).dt.total_seconds()/3600.\n",
    "    df_night_pwv_curve_np[\"dt\"] = (df_night_pwv_curve_np[\"Time\"] - tmin).dt.total_seconds()/3600.\n",
    "    df_night_pwv_curve_np_f[\"dt\"] = (df_night_pwv_curve_np_f[\"Time\"] - tmin).dt.total_seconds()/3600.\n",
    "    df_night_pwv_curve_np_b[\"dt\"] = (df_night_pwv_curve_np_b[\"Time\"] - tmin).dt.total_seconds()/3600.\n",
    "    \n",
    "    # extract statistics on pwv\n",
    "    stat = df_night_pwv_curve[[\"PWV [mm]_x\"]].describe()\n",
    "    date_form = DateFormatter(\"%y-%m-%dT%H:%M\")\n",
    "    #date_form = DateFormatter(\"%y-%m-%dT%H\")\n",
    "    count = int(stat.loc[\"count\"].values[0])\n",
    "    mean = stat.loc[\"mean\"].values[0]\n",
    "    median = stat.loc[\"50%\"].values[0]\n",
    "    std = stat.loc[\"std\"].values[0]\n",
    "    textstr = \"\\n\".join((f\"count : {count}\",\n",
    "                     f\"mean : {mean:.1f} mm\",\n",
    "                     f\"median : {median:.1f} mm\",\n",
    "                     f\"std : {std:.1f} mm\",\n",
    "                    ))\n",
    "\n",
    "\n",
    "    N= len(df_night_pwv_curve)\n",
    "\n",
    "    if N>10:\n",
    "        # does the fit\n",
    "        \n",
    "        #x,y,yerr,n,chi2dof,xfit,yfit,slope,slope_err = MakeLineFit(df_night_pwv_curve)\n",
    "        xfit, y_ard, y_ard_std, y_brr, y_brr_std, resy, y_mean = MakeLinearModelFit(df_night_pwv_curve)\n",
    "\n",
    "\n",
    "        # Compute the DCF\n",
    "        # convert the relative time in seconds\n",
    "        df_dcf = ComputeZDCF(night,df_night_pwv_curve)\n",
    "        \n",
    "        \n",
    "        \n",
    "        #textstr2 = \"\\n\".join((f\"d(PWV/dt) : \",\n",
    "        #             f\"slope : {slope:.3f} mm/h\",\n",
    "        #             f\"slope err : {slope_err:.3f} mm/h\",\n",
    "        #             f\"chi2/ndeg : {chi2dof:.2f}\",       \n",
    "        #            ))\n",
    "\n",
    "        #textstr3 = \"\\n\".join((f\"d(PWV/dt) : \",\n",
    "        #             f\"slope : {slope:.3f} mm/h\",\n",
    "        #             f\"slope err : {slope_err:.3f} mm/h\",  \n",
    "        #            ))\n",
    "    \n",
    "\n",
    "        #stat.loc[\"slope\",\"PWV [mm]_x\"] = slope \n",
    "        #stat.loc[\"slope_err\",\"PWV [mm]_x\"] = slope_err \n",
    "        #stat.loc[\"chi2\",\"PWV [mm]_x\"] = chi2dof\n",
    "\n",
    "        ##########\n",
    "        # plot\n",
    "        ############\n",
    "        \n",
    "\n",
    "        fig = plt.figure(figsize=(18,4),constrained_layout=True)\n",
    "        gs = GridSpec(1, 2,  width_ratios=[1,1],figure=fig)\n",
    "    \n",
    "        ax = fig.add_subplot(gs[0])\n",
    "        ax2 = fig.add_subplot(gs[1])\n",
    "       \n",
    "        leg=ax.get_legend()\n",
    "        leg2=ax2.get_legend()\n",
    "        \n",
    "        ax.errorbar(x=df_night_pwv_curve.dt_midnight, y=df_night_pwv_curve[\"PWV [mm]_x\"],yerr=df_night_pwv_curve[\"PWV [mm]_err_x\"],fmt=\"+\",color=\"r\",ecolor=\"k\",label=\"stat err\",ms=1)\n",
    "        df_night_pwv_curve_wp.plot(x=\"dt_midnight\",y=\"PWV [mm]_x\",c=\"cyan\",ax=ax,marker='o',lw=0.0,grid=True,legend=leg,label=\"polar\",ms=6,alpha=1)\n",
    "        df_night_pwv_curve_np_b.plot(x=\"dt_midnight\",y=\"PWV [mm]_x\",c=\"r\",ax=ax,marker='o',lw=0.0,grid=True,legend=leg,label=\"bright, no polar\",ms=6,alpha=1)\n",
    "        df_night_pwv_curve_np_f.plot(x=\"dt_midnight\",y=\"PWV [mm]_x\",c=\"g\",ax=ax,marker='o',lw=0.0,grid=True,legend=leg,label=\"faint, no polar\",ms=6,alpha=1)\n",
    "        ax.set_xlabel(\"hours since midnight\")\n",
    "        ax.set_ylim(0.,15.)\n",
    "        ax.set_ylabel(\"PWV (mm)\")\n",
    "        ax.legend(loc=\"upper right\")\n",
    "\n",
    "        ax.plot(xfit, y_ard,\"g-\",lw=3,label=\"ARDRegression\")\n",
    "        ax.fill_between(xfit, y_ard - 1.96 * y_ard_std,y_ard + 1.96 * y_ard_std,alpha=0.3,label=r\"95% CL\",facecolor='green')\n",
    "\n",
    "        #ax.plot(xfit2, y_brr,\"r-\",label=\"BayesianRidge\")\n",
    "        #ax.fill_between(xfit2, y_brr - 1.96 * y_brr_std,y_brr + 1.96 * y_brr_std,alpha=0.5,label=r\"95% CL\",facecolor='red')\n",
    "      \n",
    "       \n",
    "        ax.text(0.8, 0.5, str_list_of_targets, transform=ax.transAxes, fontsize=12,verticalalignment='top', bbox=props,alpha=0.5)\n",
    "        ax.set_title(f\"night {night}\")\n",
    "        ax.axvline(x=0,color=\"k\",lw=2)\n",
    "\n",
    "\n",
    "        inset_ax = inset_axes(ax,width=\"20%\", # width = 30% of parent_bbox\n",
    "                                          height=\"40%\", # height : 1 inch\n",
    "                                          loc=\"upper left\")\n",
    "        \n",
    "        textstr_sigma = f\"$\\sigma = $\" +f\"{sigma:.2f} mm\"\n",
    "        inset_ax.hist(resy,bins=30,facecolor=\"b\")\n",
    "        inset_ax.set_xlabel(\"residuals (mm)\")\n",
    "        inset_ax.text(0.1, 0.9, textstr_sigma , transform=inset_ax.transAxes, fontsize=8,verticalalignment='top', bbox=props,alpha=1)\n",
    "\n",
    "\n",
    "\n",
    "        ## plot DCF\n",
    "   \n",
    "        xerr = df_dcf[[\"-sig(tau)\",\"+sig(tau)\"]].values.T/3600. \t\n",
    "        yerr = df_dcf[[\"-err(dcf)\",\"+err(dcf)\"]].values.T/3600.\t\n",
    "        xerr= xerr.clip(0)\n",
    "        yerr= yerr.clip(0)\n",
    "        \n",
    "        x = df_dcf[\"tau\"].values/3600.\n",
    "        y = df_dcf[\"dcf\"].values\n",
    "\n",
    "        all_T.append(x)\n",
    "        all_DCF.append(y)\n",
    "        \n",
    "        ax2.errorbar(x,y,xerr=xerr,yerr=yerr,marker='o', mfc='red',linewidth=0.5,\n",
    "        mec='red', ms=2, mew=2,ecolor=\"k\",elinewidth=2,capsize=2,uplims=True, lolims=True)\n",
    "        ax2.grid()\n",
    "        ax2.set_ylim(-1,1)\n",
    "        ax2.set_title(f\"Discrete covariance function night {night}\")\n",
    "        ax2.set_xlabel(\"Time (hours)\")\n",
    "        ax2.set_ylabel(\"DCF (no units)\")\n",
    "\n",
    "\n",
    "        all_figs_to_pdf.append(fig) \n",
    "        \n",
    "        plt.tight_layout()\n",
    "        figname =f\"{pathfigs}/pwvdcf_per_night_{night}\"+figtype\n",
    "        plt.savefig(figname)\n",
    "        plt.show()\n"
   ]
  },
  {
   "cell_type": "markdown",
   "id": "f4753902-63ac-4a04-b123-5017262b8359",
   "metadata": {},
   "source": [
    "## Summary over all DCF\n",
    "\n",
    "- colors : https://r02b.github.io/seaborn_palettes/"
   ]
  },
  {
   "cell_type": "code",
   "execution_count": null,
   "id": "ec380b51-cfa0-49af-8106-35b874788046",
   "metadata": {
    "execution": {
     "iopub.status.busy": "2025-02-05T14:21:09.964120Z",
     "iopub.status.idle": "2025-02-05T14:21:09.964281Z",
     "shell.execute_reply": "2025-02-05T14:21:09.964200Z",
     "shell.execute_reply.started": "2025-02-05T14:21:09.964193Z"
    }
   },
   "outputs": [],
   "source": [
    "import seaborn as sns"
   ]
  },
  {
   "cell_type": "code",
   "execution_count": null,
   "id": "693495af-c5e3-4a81-85e3-2470a1c75c49",
   "metadata": {
    "execution": {
     "iopub.status.busy": "2025-02-05T14:21:09.964801Z",
     "iopub.status.idle": "2025-02-05T14:21:09.964960Z",
     "shell.execute_reply": "2025-02-05T14:21:09.964884Z",
     "shell.execute_reply.started": "2025-02-05T14:21:09.964877Z"
    }
   },
   "outputs": [],
   "source": [
    "NNt = len(all_T)\n",
    "NNd = len(all_DCF)\n",
    "assert NNt == NNd"
   ]
  },
  {
   "cell_type": "code",
   "execution_count": null,
   "id": "264b5380-0b25-4d30-9018-e8324f238b92",
   "metadata": {
    "execution": {
     "iopub.status.busy": "2025-02-05T14:21:09.965419Z",
     "iopub.status.idle": "2025-02-05T14:21:09.965574Z",
     "shell.execute_reply": "2025-02-05T14:21:09.965498Z",
     "shell.execute_reply.started": "2025-02-05T14:21:09.965491Z"
    }
   },
   "outputs": [],
   "source": [
    "NNt"
   ]
  },
  {
   "cell_type": "code",
   "execution_count": null,
   "id": "f326a030-6ba9-43e5-ad92-2d6bedabdf88",
   "metadata": {
    "execution": {
     "iopub.status.busy": "2025-02-05T14:21:09.966041Z",
     "iopub.status.idle": "2025-02-05T14:21:09.966195Z",
     "shell.execute_reply": "2025-02-05T14:21:09.966121Z",
     "shell.execute_reply.started": "2025-02-05T14:21:09.966114Z"
    }
   },
   "outputs": [],
   "source": [
    "palette = sns.color_palette(\"bright\",NNt)"
   ]
  },
  {
   "cell_type": "code",
   "execution_count": null,
   "id": "806e5782-3a57-4243-9428-be277c8db3ba",
   "metadata": {
    "execution": {
     "iopub.status.busy": "2025-02-05T14:21:09.966638Z",
     "iopub.status.idle": "2025-02-05T14:21:09.966795Z",
     "shell.execute_reply": "2025-02-05T14:21:09.966720Z",
     "shell.execute_reply.started": "2025-02-05T14:21:09.966713Z"
    }
   },
   "outputs": [],
   "source": [
    "palette"
   ]
  },
  {
   "cell_type": "code",
   "execution_count": null,
   "id": "e3c49001-080a-4f5e-bc73-8760dcad4350",
   "metadata": {
    "execution": {
     "iopub.status.busy": "2025-02-05T14:21:09.967398Z",
     "iopub.status.idle": "2025-02-05T14:21:09.967552Z",
     "shell.execute_reply": "2025-02-05T14:21:09.967477Z",
     "shell.execute_reply.started": "2025-02-05T14:21:09.967470Z"
    }
   },
   "outputs": [],
   "source": [
    "palette[1]"
   ]
  },
  {
   "cell_type": "code",
   "execution_count": null,
   "id": "62b12c8a-84f9-4099-addf-4d415152f119",
   "metadata": {
    "execution": {
     "iopub.status.busy": "2025-02-05T14:21:09.968128Z",
     "iopub.status.idle": "2025-02-05T14:21:09.968292Z",
     "shell.execute_reply": "2025-02-05T14:21:09.968211Z",
     "shell.execute_reply.started": "2025-02-05T14:21:09.968204Z"
    }
   },
   "outputs": [],
   "source": [
    "fig,ax = plt.subplots(1,1,figsize=(10,6))\n",
    "for idx in range(NNt):\n",
    "    x = all_T[idx]\n",
    "    y = all_DCF[idx]\n",
    "    ax.plot(x,y,marker= 'o',color=palette[idx],lw=2)\n",
    "ax.grid()\n",
    "ax.set_xscale(\"log\")\n",
    "ax.set_title(\"Discrete covariance function for all nights\")\n",
    "ax.set_xlabel(\"Time (hours)\")\n",
    "ax.set_ylabel(\"DCF (no units)\")"
   ]
  },
  {
   "cell_type": "code",
   "execution_count": null,
   "id": "13643538-8357-4352-9c89-fb4dcef8b321",
   "metadata": {
    "execution": {
     "iopub.status.busy": "2025-02-05T14:21:09.968890Z",
     "iopub.status.idle": "2025-02-05T14:21:09.969077Z",
     "shell.execute_reply": "2025-02-05T14:21:09.968983Z",
     "shell.execute_reply.started": "2025-02-05T14:21:09.968975Z"
    }
   },
   "outputs": [],
   "source": [
    "all_T_flat = np.concatenate(all_T)\n",
    "all_DCF_flat = np.concatenate(all_DCF)"
   ]
  },
  {
   "cell_type": "code",
   "execution_count": null,
   "id": "4f13a46b-dea7-48b8-98b4-0c184c0d1d7e",
   "metadata": {
    "execution": {
     "iopub.status.busy": "2025-02-05T14:21:09.969492Z",
     "iopub.status.idle": "2025-02-05T14:21:09.969652Z",
     "shell.execute_reply": "2025-02-05T14:21:09.969577Z",
     "shell.execute_reply.started": "2025-02-05T14:21:09.969570Z"
    }
   },
   "outputs": [],
   "source": [
    "fig,ax = plt.subplots(1,1,figsize=(8,5))\n",
    "\n",
    "ax.hist2d(all_T_flat,np.abs(all_DCF_flat),bins=(50,50),range=((0,2),(0,1)),cmap=\"YlOrRd\")\n",
    "ax.grid()\n",
    "ax.set_xlabel(\"$\\Delta t/1hour)$\")\n",
    "ax.set_ylabel(\"$DCF$\")\n",
    "ax.set_title(\"Auto correlation function\")\n",
    "all_figs_to_pdf.append(fig)\n",
    "plt.show()"
   ]
  },
  {
   "cell_type": "code",
   "execution_count": null,
   "id": "f3890e8b-984c-4728-abf8-992f07d3a9dd",
   "metadata": {
    "execution": {
     "iopub.status.busy": "2025-02-05T14:21:09.970239Z",
     "iopub.status.idle": "2025-02-05T14:21:09.970411Z",
     "shell.execute_reply": "2025-02-05T14:21:09.970322Z",
     "shell.execute_reply.started": "2025-02-05T14:21:09.970315Z"
    }
   },
   "outputs": [],
   "source": [
    "index_sel = np.where(all_T_flat > 0 )[0]\n",
    "all_T_flat = all_T_flat[index_sel]\n",
    "all_DCF_flat = all_DCF_flat[index_sel]"
   ]
  },
  {
   "cell_type": "code",
   "execution_count": null,
   "id": "98c41973-e6ca-4aab-aea0-0112fe35329f",
   "metadata": {
    "execution": {
     "iopub.status.busy": "2025-02-05T14:21:09.971034Z",
     "iopub.status.idle": "2025-02-05T14:21:09.971194Z",
     "shell.execute_reply": "2025-02-05T14:21:09.971115Z",
     "shell.execute_reply.started": "2025-02-05T14:21:09.971108Z"
    }
   },
   "outputs": [],
   "source": [
    "fig,ax = plt.subplots(1,1,figsize=(8,5))\n",
    "\n",
    "ax.hist2d(np.log10(all_T_flat),np.abs(all_DCF_flat),bins=(50,50),range=((-2,1),(0,1)),cmap=\"YlOrRd\")\n",
    "ax.grid()\n",
    "ax.set_xlabel(\"$\\log_{10}(\\Delta t/1hour)$\")\n",
    "ax.set_ylabel(\"$DCF$\")\n",
    "ax.set_title(\"Auto correlation function\")\n",
    "all_figs_to_pdf.append(fig)\n",
    "plt.show()"
   ]
  },
  {
   "cell_type": "markdown",
   "id": "97fba6df-38b1-4082-9b0c-3a3ab8551d52",
   "metadata": {},
   "source": [
    "## Save all figs in a pdf file"
   ]
  },
  {
   "cell_type": "code",
   "execution_count": null,
   "id": "6d4dc091-ac5c-493d-9c24-2838c9d76101",
   "metadata": {
    "execution": {
     "iopub.status.busy": "2025-02-05T14:21:09.971542Z",
     "iopub.status.idle": "2025-02-05T14:21:09.971697Z",
     "shell.execute_reply": "2025-02-05T14:21:09.971621Z",
     "shell.execute_reply.started": "2025-02-05T14:21:09.971614Z"
    }
   },
   "outputs": [],
   "source": [
    "from matplotlib.backends.backend_pdf import PdfPages\n",
    "pdf_filename = f\"holo_PWV_night_fitvariation_polydeg_{POLY_DEGREE_MAX}_timecorrelationDCF_tight.pdf\"\n",
    "pdf_fullfilename = os.path.join(pathfigs,pdf_filename)\n",
    "with PdfPages(pdf_fullfilename) as pdf:\n",
    "    for fig in all_figs_to_pdf:\n",
    "        pdf.savefig(fig, bbox_inches='tight') "
   ]
  },
  {
   "cell_type": "code",
   "execution_count": null,
   "id": "179ea176-2e40-4e39-b364-84fa7545b5fb",
   "metadata": {
    "execution": {
     "iopub.status.busy": "2025-02-05T14:21:09.972186Z",
     "iopub.status.idle": "2025-02-05T14:21:09.972342Z",
     "shell.execute_reply": "2025-02-05T14:21:09.972267Z",
     "shell.execute_reply.started": "2025-02-05T14:21:09.972260Z"
    }
   },
   "outputs": [],
   "source": [
    "pdf_filename = f\"holo_PWV_night_fitvariation_polydeg_{POLY_DEGREE_MAX}_timecorrelationDCF_notight.pdf\"\n",
    "pdf_fullfilename = os.path.join(pathfigs,pdf_filename)\n",
    "with PdfPages(pdf_fullfilename) as pdf:\n",
    "    for fig in all_figs_to_pdf:\n",
    "        pdf.savefig(fig) "
   ]
  }
 ],
 "metadata": {
  "kernelspec": {
   "display_name": "LSST",
   "language": "python",
   "name": "lsst"
  },
  "language_info": {
   "codemirror_mode": {
    "name": "ipython",
    "version": 3
   },
   "file_extension": ".py",
   "mimetype": "text/x-python",
   "name": "python",
   "nbconvert_exporter": "python",
   "pygments_lexer": "ipython3",
   "version": "3.11.9"
  }
 },
 "nbformat": 4,
 "nbformat_minor": 5
}
