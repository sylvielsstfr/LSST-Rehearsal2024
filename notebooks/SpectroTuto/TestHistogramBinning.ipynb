{
 "cells": [
  {
   "cell_type": "markdown",
   "id": "eca66c96-a44c-4412-8ec7-7834e8433666",
   "metadata": {},
   "source": [
    "# Test the histogramm variable binning\n",
    "\n",
    "- author : Sylvie Dagoret-Campagne\n",
    "- creation date : 2025-02-07"
   ]
  },
  {
   "cell_type": "markdown",
   "id": "ea931208-f029-4977-8a6a-c7d9e477a301",
   "metadata": {},
   "source": [
    "## Import"
   ]
  },
  {
   "cell_type": "code",
   "execution_count": null,
   "id": "50fa5367-8787-4932-95b9-4cbe23757499",
   "metadata": {
    "execution": {
     "iopub.execute_input": "2025-02-07T15:50:27.631305Z",
     "iopub.status.busy": "2025-02-07T15:50:27.631017Z",
     "iopub.status.idle": "2025-02-07T15:50:28.615410Z",
     "shell.execute_reply": "2025-02-07T15:50:28.614856Z",
     "shell.execute_reply.started": "2025-02-07T15:50:27.631287Z"
    }
   },
   "outputs": [],
   "source": [
    "import numpy as np\n",
    "from numpy.linalg import inv\n",
    "import matplotlib as mpl\n",
    "import matplotlib.pyplot as plt\n",
    "%matplotlib inline\n",
    "from mpl_toolkits.axes_grid1 import make_axes_locatable\n",
    "from matplotlib.colors import LogNorm,SymLogNorm\n",
    "from matplotlib.patches import Circle,Annulus\n",
    "from astropy.visualization import ZScaleInterval\n",
    "props = dict(boxstyle='round', facecolor=\"white\", alpha=0.1)\n",
    "#props = dict(boxstyle='round')\n",
    "\n",
    "import matplotlib.colors as colors\n",
    "import matplotlib.cm as cmx\n",
    "\n",
    "import matplotlib.ticker                         # here's where the formatter is\n",
    "from matplotlib.ticker import (MultipleLocator, FormatStrFormatter,AutoMinorLocator)\n",
    "  \n",
    "\n",
    "plt.rcParams[\"figure.figsize\"] = (4,3)\n",
    "plt.rcParams[\"axes.labelsize\"] = 'xx-large'\n",
    "plt.rcParams['axes.titlesize'] = 'xx-large'\n",
    "plt.rcParams['xtick.labelsize']= 'xx-large'\n",
    "plt.rcParams['ytick.labelsize']= 'xx-large'\n",
    "\n",
    "from matplotlib.gridspec import GridSpec\n",
    "\n",
    "from astropy.visualization import (MinMaxInterval, SqrtStretch,ZScaleInterval,PercentileInterval,\n",
    "                                   ImageNormalize,imshow_norm)\n",
    "from astropy.visualization.stretch import SinhStretch, LinearStretch,AsinhStretch,LogStretch\n",
    "\n",
    "from astropy.io import fits\n",
    "from astropy.wcs import WCS\n",
    "from astropy import units as u\n",
    "from astropy import constants as c\n",
    "\n",
    "from astropy.coordinates.earth import EarthLocation\n",
    "from datetime import datetime\n",
    "from pytz import timezone\n",
    "import pandas as pd"
   ]
  },
  {
   "cell_type": "markdown",
   "id": "1dd2f654-7c7b-457d-9f95-ba33b2674fdc",
   "metadata": {},
   "source": [
    "## Configuration"
   ]
  },
  {
   "cell_type": "code",
   "execution_count": null,
   "id": "b6ea8fd4-3423-4524-ae02-0fd847ed26dd",
   "metadata": {
    "execution": {
     "iopub.execute_input": "2025-02-07T15:50:28.616287Z",
     "iopub.status.busy": "2025-02-07T15:50:28.615976Z",
     "iopub.status.idle": "2025-02-07T15:50:28.619175Z",
     "shell.execute_reply": "2025-02-07T15:50:28.618726Z",
     "shell.execute_reply.started": "2025-02-07T15:50:28.616270Z"
    }
   },
   "outputs": [],
   "source": [
    "# where are stored the figures\n",
    "pathfigs = \"figsTestVariableBinning\"\n",
    "if not os.path.exists(pathfigs):\n",
    "    os.makedirs(pathfigs) \n",
    "figtype = \".png\""
   ]
  },
  {
   "cell_type": "code",
   "execution_count": null,
   "id": "eed17247-57fa-47c1-bb22-f8c92f32b368",
   "metadata": {
    "execution": {
     "iopub.execute_input": "2025-02-07T15:50:28.619799Z",
     "iopub.status.busy": "2025-02-07T15:50:28.619662Z",
     "iopub.status.idle": "2025-02-07T15:50:28.625526Z",
     "shell.execute_reply": "2025-02-07T15:50:28.625101Z",
     "shell.execute_reply.started": "2025-02-07T15:50:28.619785Z"
    }
   },
   "outputs": [],
   "source": [
    "pathdata = \"dataHoloCorrelationPWVTime-v3\""
   ]
  },
  {
   "cell_type": "code",
   "execution_count": null,
   "id": "abbfed29-36d1-4264-aed1-6677e86e6b87",
   "metadata": {
    "execution": {
     "iopub.execute_input": "2025-02-07T15:50:28.626311Z",
     "iopub.status.busy": "2025-02-07T15:50:28.626040Z",
     "iopub.status.idle": "2025-02-07T15:50:28.632273Z",
     "shell.execute_reply": "2025-02-07T15:50:28.631846Z",
     "shell.execute_reply.started": "2025-02-07T15:50:28.626294Z"
    }
   },
   "outputs": [],
   "source": [
    "input_filename_pairs_clearsky = f\"{pathdata}/pairs_tpwv_vs_dt_clearsky_nobinning.csv\"\n",
    "input_filename_pairs_clouddy = f\"{pathdata}/pairs_tpwv_vs_dt_clouddy_nobinning.csv\""
   ]
  },
  {
   "cell_type": "markdown",
   "id": "30e1bbdf-baad-4515-8880-d3ab9b7d972b",
   "metadata": {},
   "source": [
    "## Initialisation"
   ]
  },
  {
   "cell_type": "code",
   "execution_count": null,
   "id": "4ae7f4ad-079f-40be-9682-91e0ab349bcf",
   "metadata": {
    "execution": {
     "iopub.execute_input": "2025-02-07T15:50:28.633066Z",
     "iopub.status.busy": "2025-02-07T15:50:28.632753Z",
     "iopub.status.idle": "2025-02-07T15:50:28.670481Z",
     "shell.execute_reply": "2025-02-07T15:50:28.669941Z",
     "shell.execute_reply.started": "2025-02-07T15:50:28.633050Z"
    }
   },
   "outputs": [],
   "source": [
    "df_clearsky = pd.read_csv(input_filename_pairs_clearsky)\n",
    "df_clouddy = pd.read_csv(input_filename_pairs_clouddy)"
   ]
  },
  {
   "cell_type": "markdown",
   "id": "bf56944c-f748-4227-8dbc-7ac9db98bb79",
   "metadata": {},
   "source": [
    "## Histograms"
   ]
  },
  {
   "cell_type": "code",
   "execution_count": null,
   "id": "af67b422-ad23-499d-b00d-fd3ce271990f",
   "metadata": {
    "execution": {
     "iopub.execute_input": "2025-02-07T15:50:28.671269Z",
     "iopub.status.busy": "2025-02-07T15:50:28.671111Z",
     "iopub.status.idle": "2025-02-07T15:50:28.683539Z",
     "shell.execute_reply": "2025-02-07T15:50:28.683102Z",
     "shell.execute_reply.started": "2025-02-07T15:50:28.671252Z"
    }
   },
   "outputs": [],
   "source": [
    "df_clearsky "
   ]
  },
  {
   "cell_type": "code",
   "execution_count": null,
   "id": "67bc7bc2-9e09-44f8-af34-bf78f30b7a07",
   "metadata": {
    "execution": {
     "iopub.execute_input": "2025-02-07T15:50:28.684228Z",
     "iopub.status.busy": "2025-02-07T15:50:28.684088Z",
     "iopub.status.idle": "2025-02-07T15:50:29.014029Z",
     "shell.execute_reply": "2025-02-07T15:50:29.013503Z",
     "shell.execute_reply.started": "2025-02-07T15:50:28.684213Z"
    }
   },
   "outputs": [],
   "source": [
    "fig,axs = plt.subplots(1,2,figsize=(16,4))\n",
    "ax1,ax2 = axs.flatten()\n",
    "df_clearsky['dt'].hist(bins=50,ax=ax1)\n",
    "df_clouddy['dt'].hist(bins=50,ax=ax2)\n",
    "ax1.set_title(\"clearsky : pair time difference\")\n",
    "ax1.set_xlabel(\"$\\Delta t$ (hours)\")\n",
    "ax2.set_title(\"clouddy : pair time difference\")\n",
    "ax2.set_xlabel(\"$\\Delta t$ (hours)\")"
   ]
  },
  {
   "cell_type": "markdown",
   "id": "21cb19a0-32a4-49b0-b461-8639d3b70123",
   "metadata": {},
   "source": [
    "## Special binning\n",
    "https://docs.astropy.org/en/stable/visualization/histogram.html"
   ]
  },
  {
   "cell_type": "code",
   "execution_count": null,
   "id": "d329062e-0540-49a7-a54d-b38b3441af96",
   "metadata": {
    "execution": {
     "iopub.execute_input": "2025-02-07T15:50:29.014862Z",
     "iopub.status.busy": "2025-02-07T15:50:29.014674Z",
     "iopub.status.idle": "2025-02-07T15:50:29.017659Z",
     "shell.execute_reply": "2025-02-07T15:50:29.017223Z",
     "shell.execute_reply.started": "2025-02-07T15:50:29.014835Z"
    }
   },
   "outputs": [],
   "source": [
    "from astropy.visualization import hist"
   ]
  },
  {
   "cell_type": "code",
   "execution_count": null,
   "id": "555063bd-5313-4d71-9191-eccc91903b0f",
   "metadata": {
    "execution": {
     "iopub.execute_input": "2025-02-07T15:50:29.018333Z",
     "iopub.status.busy": "2025-02-07T15:50:29.018180Z",
     "iopub.status.idle": "2025-02-07T15:50:29.025087Z",
     "shell.execute_reply": "2025-02-07T15:50:29.024676Z",
     "shell.execute_reply.started": "2025-02-07T15:50:29.018316Z"
    }
   },
   "outputs": [],
   "source": [
    "dt = df_clearsky['dt'].values"
   ]
  },
  {
   "cell_type": "code",
   "execution_count": null,
   "id": "d6d1ad8c-6a58-4d5b-812a-d23318ff65ff",
   "metadata": {
    "execution": {
     "iopub.execute_input": "2025-02-07T15:50:29.025663Z",
     "iopub.status.busy": "2025-02-07T15:50:29.025523Z",
     "iopub.status.idle": "2025-02-07T15:50:33.710548Z",
     "shell.execute_reply": "2025-02-07T15:50:33.709968Z",
     "shell.execute_reply.started": "2025-02-07T15:50:29.025649Z"
    }
   },
   "outputs": [],
   "source": [
    "# draw histograms with two different bin widths\n",
    "fig, ax = plt.subplots(1, 2, figsize=(14, 6),layout=\"constrained\")\n",
    "\n",
    "fig.subplots_adjust(left=0.1, right=0.95, bottom=0.15)\n",
    "for i, bins in enumerate(['knuth', 'blocks']):\n",
    "    hist(dt, bins=bins, ax=ax[i], histtype='stepfilled',alpha=0.2, density=True)\n",
    "    ax[i].set_xlabel('t')\n",
    "    ax[i].set_ylabel('P(t)')\n",
    "    ax[i].set_title(f'hist(t, bins=\"{bins}\")',fontdict=dict(family='monospace'))\n",
    "    if i==1:\n",
    "        ax[i].set_yscale('log')\n",
    "plt.suptitle(\"clearsky\",fontsize=20)\n"
   ]
  },
  {
   "cell_type": "code",
   "execution_count": null,
   "id": "313da828-5908-4f61-ace2-5eb46eb0e70e",
   "metadata": {
    "execution": {
     "iopub.execute_input": "2025-02-07T15:50:33.711517Z",
     "iopub.status.busy": "2025-02-07T15:50:33.711186Z",
     "iopub.status.idle": "2025-02-07T15:50:33.714519Z",
     "shell.execute_reply": "2025-02-07T15:50:33.714060Z",
     "shell.execute_reply.started": "2025-02-07T15:50:33.711501Z"
    }
   },
   "outputs": [],
   "source": [
    "dt = df_clouddy['dt'].values"
   ]
  },
  {
   "cell_type": "code",
   "execution_count": null,
   "id": "176f9d3a-ec05-4a50-827c-e2b5a4c432f7",
   "metadata": {
    "execution": {
     "iopub.execute_input": "2025-02-07T15:50:33.715244Z",
     "iopub.status.busy": "2025-02-07T15:50:33.715090Z",
     "iopub.status.idle": "2025-02-07T15:50:35.773955Z",
     "shell.execute_reply": "2025-02-07T15:50:35.773445Z",
     "shell.execute_reply.started": "2025-02-07T15:50:33.715229Z"
    }
   },
   "outputs": [],
   "source": [
    "# draw histograms with two different bin widths\n",
    "fig, ax = plt.subplots(1, 2, figsize=(14, 6),layout=\"constrained\")\n",
    "\n",
    "fig.subplots_adjust(left=0.1, right=0.95, bottom=0.15)\n",
    "for i, bins in enumerate(['knuth', 'blocks']):\n",
    "    hist(dt, bins=bins, ax=ax[i], histtype='stepfilled',alpha=0.2, density=True)\n",
    "    ax[i].set_xlabel('t')\n",
    "    ax[i].set_ylabel('P(t)')\n",
    "    ax[i].set_title(f'hist(t, bins=\"{bins}\")',fontdict=dict(family='monospace'))\n",
    "    if i==1:\n",
    "        ax[i].set_yscale('log')\n",
    "plt.suptitle(\"clouddy\",fontsize=20)"
   ]
  },
  {
   "cell_type": "markdown",
   "id": "5250e9c6-9c42-461d-bddf-eee9f7446a64",
   "metadata": {},
   "source": [
    "## Binning with Bayesian blocks"
   ]
  },
  {
   "cell_type": "code",
   "execution_count": null,
   "id": "a04daa15-aaba-4325-b96e-514c8d489889",
   "metadata": {
    "execution": {
     "iopub.execute_input": "2025-02-07T15:50:35.774668Z",
     "iopub.status.busy": "2025-02-07T15:50:35.774523Z",
     "iopub.status.idle": "2025-02-07T15:50:35.777451Z",
     "shell.execute_reply": "2025-02-07T15:50:35.777038Z",
     "shell.execute_reply.started": "2025-02-07T15:50:35.774653Z"
    }
   },
   "outputs": [],
   "source": [
    "from astropy.stats import bayesian_blocks\n",
    "from astropy.stats import histogram"
   ]
  },
  {
   "cell_type": "code",
   "execution_count": null,
   "id": "d37ab25e-2e5e-47eb-a12a-316263375b2f",
   "metadata": {
    "execution": {
     "iopub.execute_input": "2025-02-07T15:50:35.778119Z",
     "iopub.status.busy": "2025-02-07T15:50:35.777941Z",
     "iopub.status.idle": "2025-02-07T15:50:40.957209Z",
     "shell.execute_reply": "2025-02-07T15:50:40.956433Z",
     "shell.execute_reply.started": "2025-02-07T15:50:35.778105Z"
    }
   },
   "outputs": [],
   "source": [
    "dt = df_clearsky['dt'].values\n",
    "edges_clearsky = bayesian_blocks(dt,fitness='events', p0=0.01)\n",
    "hist1,bin_edge1 = np.histogram(dt, bins=edges_clearsky)\n",
    "dt = df_clouddy['dt'].values\n",
    "edges_clouddy = bayesian_blocks(dt,fitness='events', p0=0.01)\n",
    "hist2,bin_edge2 = np.histogram(dt, bins=edges_clouddy)"
   ]
  },
  {
   "cell_type": "code",
   "execution_count": null,
   "id": "93d22c2a-a0fa-4175-b8a7-6fb4bdfac5d6",
   "metadata": {
    "execution": {
     "iopub.execute_input": "2025-02-07T15:50:40.958345Z",
     "iopub.status.busy": "2025-02-07T15:50:40.958178Z",
     "iopub.status.idle": "2025-02-07T15:50:41.275146Z",
     "shell.execute_reply": "2025-02-07T15:50:41.274655Z",
     "shell.execute_reply.started": "2025-02-07T15:50:40.958329Z"
    }
   },
   "outputs": [],
   "source": [
    "fig, ax = plt.subplots(1, 1, figsize=(12, 6),layout=\"constrained\")\n",
    "ax.plot(edges_clearsky,'-or',label=\"clearsky\")\n",
    "ax.plot(bin_edge1,'-.r')\n",
    "ax.plot(edges_clouddy,'-ob',label=\"clouddy\")\n",
    "ax.plot(bin_edge2,'-.b')\n",
    "ax.set_xlabel(\"bin number\")\n",
    "ax.set_ylabel(\"bin-edge (hours)\")\n",
    "ax.set_title(\"Histogram binning with. bayesian block\")\n",
    "ax.legend()\n",
    "\n",
    "ax2 = ax.twinx()\n",
    "ax2.step(hist1,'r',label=\"clearsky\")\n",
    "ax2.step(hist2,'b',label=\"clouddy\")\n",
    "ax2.legend()\n",
    "ax2.set_ylabel(\"counts per bin\")"
   ]
  },
  {
   "cell_type": "code",
   "execution_count": null,
   "id": "d7d9112e-9ec5-4671-954f-070fa4dc7274",
   "metadata": {
    "execution": {
     "iopub.execute_input": "2025-02-07T15:50:41.275895Z",
     "iopub.status.busy": "2025-02-07T15:50:41.275735Z",
     "iopub.status.idle": "2025-02-07T15:50:46.864205Z",
     "shell.execute_reply": "2025-02-07T15:50:46.863831Z",
     "shell.execute_reply.started": "2025-02-07T15:50:41.275879Z"
    }
   },
   "outputs": [],
   "source": [
    "fig, axs = plt.subplots(2, 1, figsize=(12, 8),layout=\"constrained\")\n",
    "ax1,ax2 = axs.flatten()\n",
    "dt = df_clearsky['dt'].values\n",
    "edges_clearsky = bayesian_blocks(dt,fitness='events', p0=0.01)\n",
    "hist1,bin_edge1 = np.histogram(dt, bins=edges_clearsky)\n",
    "ax1.hist(dt,bins=edges_clearsky,color='r',label=\"clearsky\",histtype=\"step\",lw=3);\n",
    "ax2.hist(dt,bins=edges_clearsky,color='r',label=\"clearsky\",histtype=\"step\",lw=3);\n",
    "dt = df_clouddy['dt'].values\n",
    "edges_clouddy = bayesian_blocks(dt,fitness='events', p0=0.01)\n",
    "hist2,bin_edge2 = np.histogram(dt, bins=edges_clouddy)\n",
    "ax1.hist(dt,bins=edges_clouddy,color='b',label=\"clouddy\",histtype=\"step\",lw=3);\n",
    "ax2.hist(dt,bins=edges_clouddy,color='b',label=\"clouddy\",histtype=\"step\",lw=3);\n",
    "ax1.legend()\n",
    "ax2.legend()\n",
    "ax2.set_yscale(\"log\")\n",
    "\n",
    "ax1.set_title(\"counts per bin\")\n",
    "ax2.set_xlabel(\"$\\Delta t$ (hours)\")\n",
    "plt.suptitle(\"Histogram with Bayesian blocks\",fontsize=20)"
   ]
  },
  {
   "cell_type": "markdown",
   "id": "79c4e04c-d22e-4904-9efb-6ab39bb9b454",
   "metadata": {},
   "source": [
    "## Binning Using astropy histograms with Blocks"
   ]
  },
  {
   "cell_type": "code",
   "execution_count": null,
   "id": "a3fe38a6-f1f0-411e-a77b-7df6054aa8a0",
   "metadata": {
    "execution": {
     "iopub.execute_input": "2025-02-07T15:50:46.864789Z",
     "iopub.status.busy": "2025-02-07T15:50:46.864656Z",
     "iopub.status.idle": "2025-02-07T15:50:51.995089Z",
     "shell.execute_reply": "2025-02-07T15:50:51.994556Z",
     "shell.execute_reply.started": "2025-02-07T15:50:46.864775Z"
    }
   },
   "outputs": [],
   "source": [
    "dt = df_clearsky['dt'].values\n",
    "hist_clearsky, bin_edges_clearsky = histogram(dt, bins='blocks')\n",
    "dt = df_clouddy['dt'].values\n",
    "hist_clouddy, bin_edges_clouddy = histogram(dt, bins='blocks')"
   ]
  },
  {
   "cell_type": "code",
   "execution_count": null,
   "id": "3f10e896-7211-43c1-a87d-75a21600f6e6",
   "metadata": {
    "execution": {
     "iopub.execute_input": "2025-02-07T15:50:51.995681Z",
     "iopub.status.busy": "2025-02-07T15:50:51.995548Z",
     "iopub.status.idle": "2025-02-07T15:50:52.309548Z",
     "shell.execute_reply": "2025-02-07T15:50:52.309073Z",
     "shell.execute_reply.started": "2025-02-07T15:50:51.995667Z"
    }
   },
   "outputs": [],
   "source": [
    "fig, ax = plt.subplots(1, 1, figsize=(12, 6),layout=\"constrained\")\n",
    "ax.plot(bin_edges_clearsky,'-or',label=\"clearsky\")\n",
    "ax.plot(bin_edges_clouddy,'-ob',label=\"clouddy\")\n",
    "ax.set_xlabel(\"bin number\")\n",
    "ax.set_ylabel(\"bin-edge (hours)\")\n",
    "ax.set_title(\"Histogram binning with histrogram blocks\")\n",
    "ax.legend()\n",
    "\n",
    "ax2 = ax.twinx()\n",
    "ax2.step(hist_clearsky,'r',label=\"clearsky\")\n",
    "ax2.step(hist_clouddy,'b',label=\"clouddy\")\n",
    "ax2.legend()\n",
    "ax2.set_ylabel(\"counts per bin\")"
   ]
  },
  {
   "cell_type": "code",
   "execution_count": null,
   "id": "0b3cc448-a347-4704-bb1d-2500b68146fc",
   "metadata": {
    "execution": {
     "iopub.execute_input": "2025-02-07T15:50:52.310198Z",
     "iopub.status.busy": "2025-02-07T15:50:52.310057Z",
     "iopub.status.idle": "2025-02-07T15:50:57.790413Z",
     "shell.execute_reply": "2025-02-07T15:50:57.789992Z",
     "shell.execute_reply.started": "2025-02-07T15:50:52.310180Z"
    }
   },
   "outputs": [],
   "source": [
    "fig, axs = plt.subplots(2, 1, figsize=(12, 8),layout=\"constrained\")\n",
    "ax1,ax2 = axs.flatten()\n",
    "dt = df_clearsky['dt'].values\n",
    "hist_clearsky, bin_edges_clearsky = histogram(dt, bins='blocks')\n",
    "ax1.hist(dt,bins=bin_edges_clearsky,color='r',label=\"clearsky\",histtype=\"step\",lw=3);\n",
    "ax2.hist(dt,bins=bin_edges_clearsky,color='r',label=\"clearsky\",histtype=\"step\",lw=3);\n",
    "dt = df_clouddy['dt'].values\n",
    "hist_clouddy, bin_edges_clouddy = histogram(dt, bins='blocks')\n",
    "ax1.hist(dt,bins=bin_edges_clouddy,color='b',label=\"clouddy\",histtype=\"step\",lw=3);\n",
    "ax2.hist(dt,bins=bin_edges_clouddy,color='b',label=\"clouddy\",histtype=\"step\",lw=3);\n",
    "ax1.legend()\n",
    "ax2.legend()\n",
    "ax2.set_yscale(\"log\")\n",
    "ax1.set_title(\"counts per bin\")\n",
    "ax2.set_xlabel(\"$\\Delta t$ (hours)\")\n",
    "plt.suptitle(\"Histogram with astropy histogram blocks\",fontsize=20)"
   ]
  },
  {
   "cell_type": "markdown",
   "id": "a9db7cc3-b889-4344-a15e-5bdd5e97b937",
   "metadata": {},
   "source": [
    "## Compute the function generating the bin num and the bin center"
   ]
  },
  {
   "cell_type": "markdown",
   "id": "ffe6dcab-6d30-4a27-96cf-22063e73ccc5",
   "metadata": {},
   "source": [
    "### Digitize compute the bin number"
   ]
  },
  {
   "cell_type": "code",
   "execution_count": null,
   "id": "4b5db7fc-10bd-4cce-a8e4-7865a2eeb438",
   "metadata": {
    "execution": {
     "iopub.execute_input": "2025-02-07T15:50:57.791327Z",
     "iopub.status.busy": "2025-02-07T15:50:57.791068Z",
     "iopub.status.idle": "2025-02-07T15:51:02.871238Z",
     "shell.execute_reply": "2025-02-07T15:51:02.870704Z",
     "shell.execute_reply.started": "2025-02-07T15:50:57.791300Z"
    }
   },
   "outputs": [],
   "source": [
    "dt1 = df_clearsky['dt'].values\n",
    "edges_clearsky = bayesian_blocks(dt1,fitness='events', p0=0.01)\n",
    "bin_numbers_clearsky = np.digitize(dt1, bins=edges_clearsky, right=False)\n",
    "dt2 = df_clouddy['dt'].values\n",
    "edges_clouddy = bayesian_blocks(dt2,fitness='events', p0=0.01)\n",
    "bin_numbers_clouddy = np.digitize(dt2, bins=edges_clouddy, right=False)"
   ]
  },
  {
   "cell_type": "code",
   "execution_count": null,
   "id": "bd4fab39-76b6-458f-8d0c-61e28c78d887",
   "metadata": {
    "execution": {
     "iopub.execute_input": "2025-02-07T15:51:02.874900Z",
     "iopub.status.busy": "2025-02-07T15:51:02.874632Z",
     "iopub.status.idle": "2025-02-07T15:51:02.877862Z",
     "shell.execute_reply": "2025-02-07T15:51:02.877414Z",
     "shell.execute_reply.started": "2025-02-07T15:51:02.874886Z"
    }
   },
   "outputs": [],
   "source": [
    "print(f\"clearsky : number of bins {len(edges_clearsky)} bin_numbers_clearsky\")\n",
    "print(f\"\\t binnum : min-max = {bin_numbers_clearsky.min()} - {bin_numbers_clearsky.max()} \")"
   ]
  },
  {
   "cell_type": "code",
   "execution_count": null,
   "id": "106f9dd2-abfb-454e-b853-2aad00c6531b",
   "metadata": {
    "execution": {
     "iopub.execute_input": "2025-02-07T15:51:02.878607Z",
     "iopub.status.busy": "2025-02-07T15:51:02.878461Z",
     "iopub.status.idle": "2025-02-07T15:51:02.884920Z",
     "shell.execute_reply": "2025-02-07T15:51:02.884490Z",
     "shell.execute_reply.started": "2025-02-07T15:51:02.878592Z"
    }
   },
   "outputs": [],
   "source": [
    "print(f\"clouddy number of bins {len(edges_clouddy)} bin_numbers_clouddy\")\n",
    "print(f\"binnum-min = {bin_numbers_clouddy.min()} - {bin_numbers_clouddy.max()} \")"
   ]
  },
  {
   "cell_type": "code",
   "execution_count": null,
   "id": "c875585f-736a-45a8-9cb5-214f7ebef1c6",
   "metadata": {
    "execution": {
     "iopub.execute_input": "2025-02-07T15:51:02.885508Z",
     "iopub.status.busy": "2025-02-07T15:51:02.885373Z",
     "iopub.status.idle": "2025-02-07T15:51:02.892211Z",
     "shell.execute_reply": "2025-02-07T15:51:02.891805Z",
     "shell.execute_reply.started": "2025-02-07T15:51:02.885494Z"
    }
   },
   "outputs": [],
   "source": [
    "np.digitize([.0,60./3600.], bins=edges_clearsky, right=False)"
   ]
  },
  {
   "cell_type": "code",
   "execution_count": null,
   "id": "eb41e981-85ab-4997-816e-60f19696ca6c",
   "metadata": {
    "execution": {
     "iopub.execute_input": "2025-02-07T15:51:02.892906Z",
     "iopub.status.busy": "2025-02-07T15:51:02.892768Z",
     "iopub.status.idle": "2025-02-07T15:51:02.899563Z",
     "shell.execute_reply": "2025-02-07T15:51:02.899111Z",
     "shell.execute_reply.started": "2025-02-07T15:51:02.892892Z"
    }
   },
   "outputs": [],
   "source": [
    "np.digitize([.0], bins=edges_clouddy, right=False)"
   ]
  },
  {
   "cell_type": "code",
   "execution_count": null,
   "id": "94eb8ec8-5907-4fb7-9546-45d83f7a3d61",
   "metadata": {
    "execution": {
     "iopub.execute_input": "2025-02-07T15:51:02.900178Z",
     "iopub.status.busy": "2025-02-07T15:51:02.900040Z",
     "iopub.status.idle": "2025-02-07T15:51:04.359758Z",
     "shell.execute_reply": "2025-02-07T15:51:04.359219Z",
     "shell.execute_reply.started": "2025-02-07T15:51:02.900162Z"
    }
   },
   "outputs": [],
   "source": [
    "fig, ax = plt.subplots(1, 1, figsize=(12, 6),layout=\"constrained\")\n",
    "ax.scatter(dt1,bin_numbers_clearsky,marker='.',color=\"r\",label=\"clearsky\")\n",
    "ax.scatter(dt2,bin_numbers_clouddy,marker='.',color=\"b\",label=\"clouddy\")\n",
    "ax.set_xlabel(\"$\\Delta t$ (hours)\")\n",
    "ax.set_ylabel(\"bin-number\")\n",
    "ax.set_title(\"mapping $\\Delta t$ to bin-number\")\n",
    "ax.legend()\n",
    "for x in edges_clearsky:\n",
    "    ax.axvline(x,ls='-',color=\"r\",linewidth=0.3)\n",
    "for x in edges_clouddy:\n",
    "    ax.axvline(x,ls='-',color=\"b\",linewidth=0.3)\n",
    "\n",
    "xcenters = (edges_clearsky[:-1] + edges_clearsky[1:]) / 2\n",
    "for x in xcenter:\n",
    "    ax.axvline(x,ls='-',color=\"r\",linewidth=0.3)"
   ]
  },
  {
   "cell_type": "code",
   "execution_count": null,
   "id": "35e96b18-d4ff-4261-ab3e-445c2d522e81",
   "metadata": {
    "execution": {
     "iopub.execute_input": "2025-02-07T16:01:17.489855Z",
     "iopub.status.busy": "2025-02-07T16:01:17.489538Z",
     "iopub.status.idle": "2025-02-07T16:01:19.622611Z",
     "shell.execute_reply": "2025-02-07T16:01:19.622092Z",
     "shell.execute_reply.started": "2025-02-07T16:01:17.489838Z"
    }
   },
   "outputs": [],
   "source": [
    "fig, axs = plt.subplots(1, 2, figsize=(12, 6),layout=\"constrained\")\n",
    "ax1,ax2 = axs.flatten()\n",
    "ax1.scatter(dt1*3600,bin_numbers_clearsky,marker='.',color=\"r\",label=\"clearsky\")\n",
    "ax1.scatter(dt2*3600,bin_numbers_clouddy,marker='.',color=\"b\",label=\"clouddy\")\n",
    "ax1.set_xlabel(\"$\\Delta t$ (seconds)\")\n",
    "ax1.set_ylabel(\"bin-number\")\n",
    "ax1.set_title(\"mapping $\\Delta t$ to bin-number\")\n",
    "ax1.legend()\n",
    "for x in edges_clearsky:\n",
    "    ax1.axvline(x*3600,ls='-',color=\"r\",linewidth=0.3)\n",
    "for x in edges_clouddy:\n",
    "    ax1.axvline(x*3600,ls='-',color=\"b\",linewidth=0.3)\n",
    "ax1.set_xlim(0.,0.1*3600)\n",
    "ax1.grid()\n",
    "\n",
    "ax2.scatter(dt1*3600,bin_numbers_clearsky,marker='.',color=\"r\",label=\"clearsky\")\n",
    "ax2.scatter(dt2*3600,bin_numbers_clouddy,marker='.',color=\"b\",label=\"clouddy\")\n",
    "ax2.set_xlabel(\"$\\Delta t$ (seconds)\")\n",
    "ax2.set_ylabel(\"bin-number\")\n",
    "ax2.set_title(\"mapping $\\Delta t$ to bin-number\")\n",
    "ax2.legend()\n",
    "for x in edges_clearsky:\n",
    "    ax2.axvline(x*3600,ls='-',color=\"r\",linewidth=0.3)\n",
    "for x in edges_clouddy:\n",
    "    ax2.axvline(x*3600,ls='-',color=\"b\",linewidth=0.3)\n",
    "ax2.set_xlim(20000. ,10*3600)\n",
    "\n"
   ]
  },
  {
   "cell_type": "code",
   "execution_count": null,
   "id": "a44b4c59-c3df-4833-bb62-aac7ad6fb1cd",
   "metadata": {
    "execution": {
     "iopub.execute_input": "2025-02-07T15:53:40.327752Z",
     "iopub.status.busy": "2025-02-07T15:53:40.327428Z",
     "iopub.status.idle": "2025-02-07T15:53:40.331216Z",
     "shell.execute_reply": "2025-02-07T15:53:40.330714Z",
     "shell.execute_reply.started": "2025-02-07T15:53:40.327735Z"
    }
   },
   "outputs": [],
   "source": [
    "len(edges_clearsky)"
   ]
  },
  {
   "cell_type": "code",
   "execution_count": null,
   "id": "efa374da-c59e-4e7d-b058-5892cac93657",
   "metadata": {
    "execution": {
     "iopub.execute_input": "2025-02-07T16:01:49.177387Z",
     "iopub.status.busy": "2025-02-07T16:01:49.177151Z",
     "iopub.status.idle": "2025-02-07T16:01:49.181287Z",
     "shell.execute_reply": "2025-02-07T16:01:49.180846Z",
     "shell.execute_reply.started": "2025-02-07T16:01:49.177370Z"
    }
   },
   "outputs": [],
   "source": [
    "edges_clearsky"
   ]
  },
  {
   "cell_type": "code",
   "execution_count": null,
   "id": "630ab011-3a8c-45bb-ab26-28218c99cbd0",
   "metadata": {
    "execution": {
     "iopub.execute_input": "2025-02-07T16:02:06.157436Z",
     "iopub.status.busy": "2025-02-07T16:02:06.157110Z",
     "iopub.status.idle": "2025-02-07T16:02:06.161537Z",
     "shell.execute_reply": "2025-02-07T16:02:06.161095Z",
     "shell.execute_reply.started": "2025-02-07T16:02:06.157409Z"
    }
   },
   "outputs": [],
   "source": [
    "np.roll(edges_clearsky,-1)"
   ]
  },
  {
   "cell_type": "code",
   "execution_count": null,
   "id": "f5555750-3fe2-4aae-ac22-787e4388afa1",
   "metadata": {
    "execution": {
     "iopub.execute_input": "2025-02-07T16:05:34.486142Z",
     "iopub.status.busy": "2025-02-07T16:05:34.485816Z",
     "iopub.status.idle": "2025-02-07T16:05:34.489398Z",
     "shell.execute_reply": "2025-02-07T16:05:34.488761Z",
     "shell.execute_reply.started": "2025-02-07T16:05:34.486124Z"
    }
   },
   "outputs": [],
   "source": [
    "xcenters = (edges_clearsky[:-1] + edges_clearsky[1:]) / 2"
   ]
  },
  {
   "cell_type": "code",
   "execution_count": null,
   "id": "5e9c5ecb-fa34-4e13-9f22-286bacabf5b0",
   "metadata": {
    "execution": {
     "iopub.execute_input": "2025-02-07T16:05:42.211759Z",
     "iopub.status.busy": "2025-02-07T16:05:42.211425Z",
     "iopub.status.idle": "2025-02-07T16:05:42.215943Z",
     "shell.execute_reply": "2025-02-07T16:05:42.215432Z",
     "shell.execute_reply.started": "2025-02-07T16:05:42.211732Z"
    }
   },
   "outputs": [],
   "source": [
    "xcenters"
   ]
  },
  {
   "cell_type": "code",
   "execution_count": null,
   "id": "ad2c63d9-94bb-40bf-a584-cbdf0c3fa5d0",
   "metadata": {},
   "outputs": [],
   "source": []
  }
 ],
 "metadata": {
  "kernelspec": {
   "display_name": "LSST",
   "language": "python",
   "name": "lsst"
  },
  "language_info": {
   "codemirror_mode": {
    "name": "ipython",
    "version": 3
   },
   "file_extension": ".py",
   "mimetype": "text/x-python",
   "name": "python",
   "nbconvert_exporter": "python",
   "pygments_lexer": "ipython3",
   "version": "3.11.9"
  }
 },
 "nbformat": 4,
 "nbformat_minor": 5
}
