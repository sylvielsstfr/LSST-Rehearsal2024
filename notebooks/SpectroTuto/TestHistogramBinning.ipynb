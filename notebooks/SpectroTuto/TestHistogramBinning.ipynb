{
 "cells": [
  {
   "cell_type": "markdown",
   "id": "eca66c96-a44c-4412-8ec7-7834e8433666",
   "metadata": {},
   "source": [
    "# Test the histogramm variable binning\n",
    "\n",
    "- author : Sylvie Dagoret-Campagne\n",
    "- creation date : 2025-02-07\n",
    "- last update : 2025-02-08\n",
    "- environnement : w_2024_50 at usdf and conda_py311 on my laptop"
   ]
  },
  {
   "cell_type": "markdown",
   "id": "ea931208-f029-4977-8a6a-c7d9e477a301",
   "metadata": {},
   "source": [
    "## Import"
   ]
  },
  {
   "cell_type": "code",
   "execution_count": null,
   "id": "50fa5367-8787-4932-95b9-4cbe23757499",
   "metadata": {},
   "outputs": [],
   "source": [
    "import numpy as np\n",
    "from numpy.linalg import inv\n",
    "import matplotlib as mpl\n",
    "import matplotlib.pyplot as plt\n",
    "%matplotlib inline\n",
    "from mpl_toolkits.axes_grid1 import make_axes_locatable\n",
    "from matplotlib.colors import LogNorm,SymLogNorm\n",
    "from matplotlib.patches import Circle,Annulus\n",
    "from astropy.visualization import ZScaleInterval\n",
    "props = dict(boxstyle='round', facecolor=\"white\", alpha=0.1)\n",
    "#props = dict(boxstyle='round')\n",
    "\n",
    "import matplotlib.colors as colors\n",
    "import matplotlib.cm as cmx\n",
    "\n",
    "import matplotlib.ticker                         # here's where the formatter is\n",
    "from matplotlib.ticker import (MultipleLocator, FormatStrFormatter,AutoMinorLocator)\n",
    "  \n",
    "\n",
    "plt.rcParams[\"figure.figsize\"] = (4,3)\n",
    "plt.rcParams[\"axes.labelsize\"] = 'xx-large'\n",
    "plt.rcParams['axes.titlesize'] = 'xx-large'\n",
    "plt.rcParams['xtick.labelsize']= 'xx-large'\n",
    "plt.rcParams['ytick.labelsize']= 'xx-large'\n",
    "\n",
    "from matplotlib.gridspec import GridSpec\n",
    "\n",
    "from astropy.visualization import (MinMaxInterval, SqrtStretch,ZScaleInterval,PercentileInterval,\n",
    "                                   ImageNormalize,imshow_norm)\n",
    "from astropy.visualization.stretch import SinhStretch, LinearStretch,AsinhStretch,LogStretch\n",
    "\n",
    "from astropy.io import fits\n",
    "from astropy.wcs import WCS\n",
    "from astropy import units as u\n",
    "from astropy import constants as c\n",
    "\n",
    "from astropy.coordinates.earth import EarthLocation\n",
    "from datetime import datetime\n",
    "from pytz import timezone\n",
    "import pandas as pd\n",
    "import os"
   ]
  },
  {
   "cell_type": "markdown",
   "id": "1dd2f654-7c7b-457d-9f95-ba33b2674fdc",
   "metadata": {},
   "source": [
    "## Configuration"
   ]
  },
  {
   "cell_type": "code",
   "execution_count": null,
   "id": "b6ea8fd4-3423-4524-ae02-0fd847ed26dd",
   "metadata": {},
   "outputs": [],
   "source": [
    "# where are stored the figures\n",
    "pathfigs = \"figsTestVariableBinning\"\n",
    "if not os.path.exists(pathfigs):\n",
    "    os.makedirs(pathfigs) \n",
    "figtype = \".png\""
   ]
  },
  {
   "cell_type": "code",
   "execution_count": null,
   "id": "eed17247-57fa-47c1-bb22-f8c92f32b368",
   "metadata": {},
   "outputs": [],
   "source": [
    "pathdata = \"dataHoloCorrelationPWVTime-v3\""
   ]
  },
  {
   "cell_type": "code",
   "execution_count": null,
   "id": "abbfed29-36d1-4264-aed1-6677e86e6b87",
   "metadata": {},
   "outputs": [],
   "source": [
    "input_filename_pairs_clearsky = f\"{pathdata}/pairs_tpwv_vs_dt_clearsky_nobinning.csv\"\n",
    "input_filename_pairs_clouddy = f\"{pathdata}/pairs_tpwv_vs_dt_clouddy_nobinning.csv\""
   ]
  },
  {
   "cell_type": "markdown",
   "id": "30e1bbdf-baad-4515-8880-d3ab9b7d972b",
   "metadata": {},
   "source": [
    "## Initialisation"
   ]
  },
  {
   "cell_type": "code",
   "execution_count": null,
   "id": "4ae7f4ad-079f-40be-9682-91e0ab349bcf",
   "metadata": {},
   "outputs": [],
   "source": [
    "df_clearsky = pd.read_csv(input_filename_pairs_clearsky)\n",
    "df_clouddy = pd.read_csv(input_filename_pairs_clouddy)"
   ]
  },
  {
   "cell_type": "markdown",
   "id": "bf56944c-f748-4227-8dbc-7ac9db98bb79",
   "metadata": {},
   "source": [
    "## Histograms"
   ]
  },
  {
   "cell_type": "code",
   "execution_count": null,
   "id": "af67b422-ad23-499d-b00d-fd3ce271990f",
   "metadata": {},
   "outputs": [],
   "source": [
    "df_clearsky "
   ]
  },
  {
   "cell_type": "code",
   "execution_count": null,
   "id": "67bc7bc2-9e09-44f8-af34-bf78f30b7a07",
   "metadata": {},
   "outputs": [],
   "source": [
    "fig,axs = plt.subplots(1,2,figsize=(16,4))\n",
    "ax1,ax2 = axs.flatten()\n",
    "df_clearsky['dt'].hist(bins=50,ax=ax1)\n",
    "df_clouddy['dt'].hist(bins=50,ax=ax2)\n",
    "ax1.set_title(\"clearsky : pair time difference\")\n",
    "ax1.set_xlabel(\"$\\Delta t$ (hours)\")\n",
    "ax2.set_title(\"clouddy : pair time difference\")\n",
    "ax2.set_xlabel(\"$\\Delta t$ (hours)\")"
   ]
  },
  {
   "cell_type": "markdown",
   "id": "21cb19a0-32a4-49b0-b461-8639d3b70123",
   "metadata": {},
   "source": [
    "## Special binning\n",
    "https://docs.astropy.org/en/stable/visualization/histogram.html"
   ]
  },
  {
   "cell_type": "code",
   "execution_count": null,
   "id": "d329062e-0540-49a7-a54d-b38b3441af96",
   "metadata": {},
   "outputs": [],
   "source": [
    "from astropy.visualization import hist"
   ]
  },
  {
   "cell_type": "code",
   "execution_count": null,
   "id": "555063bd-5313-4d71-9191-eccc91903b0f",
   "metadata": {},
   "outputs": [],
   "source": [
    "dt = df_clearsky['dt'].values"
   ]
  },
  {
   "cell_type": "code",
   "execution_count": null,
   "id": "d6d1ad8c-6a58-4d5b-812a-d23318ff65ff",
   "metadata": {},
   "outputs": [],
   "source": [
    "# draw histograms with two different bin widths\n",
    "fig, ax = plt.subplots(1, 2, figsize=(14, 6),layout=\"constrained\")\n",
    "\n",
    "fig.subplots_adjust(left=0.1, right=0.95, bottom=0.15)\n",
    "for i, bins in enumerate(['knuth', 'blocks']):\n",
    "    hist(dt, bins=bins, ax=ax[i], histtype='stepfilled',alpha=0.2, density=True)\n",
    "    ax[i].set_xlabel('t')\n",
    "    ax[i].set_ylabel('P(t)')\n",
    "    ax[i].set_title(f'hist(t, bins=\"{bins}\")',fontdict=dict(family='monospace'))\n",
    "    if i==1:\n",
    "        ax[i].set_yscale('log')\n",
    "plt.suptitle(\"clearsky\",fontsize=20)\n"
   ]
  },
  {
   "cell_type": "code",
   "execution_count": null,
   "id": "313da828-5908-4f61-ace2-5eb46eb0e70e",
   "metadata": {},
   "outputs": [],
   "source": [
    "dt = df_clouddy['dt'].values"
   ]
  },
  {
   "cell_type": "code",
   "execution_count": null,
   "id": "176f9d3a-ec05-4a50-827c-e2b5a4c432f7",
   "metadata": {},
   "outputs": [],
   "source": [
    "# draw histograms with two different bin widths\n",
    "fig, ax = plt.subplots(1, 2, figsize=(14, 6),layout=\"constrained\")\n",
    "\n",
    "fig.subplots_adjust(left=0.1, right=0.95, bottom=0.15)\n",
    "for i, bins in enumerate(['knuth', 'blocks']):\n",
    "    hist(dt, bins=bins, ax=ax[i], histtype='stepfilled',alpha=0.2, density=True)\n",
    "    ax[i].set_xlabel('t')\n",
    "    ax[i].set_ylabel('P(t)')\n",
    "    ax[i].set_title(f'hist(t, bins=\"{bins}\")',fontdict=dict(family='monospace'))\n",
    "    if i==1:\n",
    "        ax[i].set_yscale('log')\n",
    "plt.suptitle(\"clouddy\",fontsize=20)"
   ]
  },
  {
   "cell_type": "markdown",
   "id": "5250e9c6-9c42-461d-bddf-eee9f7446a64",
   "metadata": {},
   "source": [
    "## Binning with Bayesian blocks"
   ]
  },
  {
   "cell_type": "code",
   "execution_count": null,
   "id": "a04daa15-aaba-4325-b96e-514c8d489889",
   "metadata": {},
   "outputs": [],
   "source": [
    "from astropy.stats import bayesian_blocks\n",
    "from astropy.stats import histogram"
   ]
  },
  {
   "cell_type": "code",
   "execution_count": null,
   "id": "d37ab25e-2e5e-47eb-a12a-316263375b2f",
   "metadata": {},
   "outputs": [],
   "source": [
    "dt = df_clearsky['dt'].values\n",
    "edges_clearsky = bayesian_blocks(dt,fitness='events', p0=0.01)\n",
    "hist1,bin_edge1 = np.histogram(dt, bins=edges_clearsky)\n",
    "dt = df_clouddy['dt'].values\n",
    "edges_clouddy = bayesian_blocks(dt,fitness='events', p0=0.01)\n",
    "hist2,bin_edge2 = np.histogram(dt, bins=edges_clouddy)"
   ]
  },
  {
   "cell_type": "code",
   "execution_count": null,
   "id": "93d22c2a-a0fa-4175-b8a7-6fb4bdfac5d6",
   "metadata": {},
   "outputs": [],
   "source": [
    "fig, ax = plt.subplots(1, 1, figsize=(12, 6),layout=\"constrained\")\n",
    "ax.plot(edges_clearsky,'-or',label=\"clearsky\")\n",
    "ax.plot(bin_edge1,'-.r')\n",
    "ax.plot(edges_clouddy,'-ob',label=\"clouddy\")\n",
    "ax.plot(bin_edge2,'-.b')\n",
    "ax.set_xlabel(\"bin number\")\n",
    "ax.set_ylabel(\"bin-edge (hours)\")\n",
    "ax.set_title(\"Histogram binning with. bayesian block\")\n",
    "ax.legend()\n",
    "\n",
    "ax2 = ax.twinx()\n",
    "ax2.step(hist1,'r',label=\"clearsky\")\n",
    "ax2.step(hist2,'b',label=\"clouddy\")\n",
    "ax2.legend()\n",
    "ax2.set_ylabel(\"counts per bin\")"
   ]
  },
  {
   "cell_type": "code",
   "execution_count": null,
   "id": "d7d9112e-9ec5-4671-954f-070fa4dc7274",
   "metadata": {},
   "outputs": [],
   "source": [
    "fig, axs = plt.subplots(2, 1, figsize=(12, 8),layout=\"constrained\")\n",
    "ax1,ax2 = axs.flatten()\n",
    "dt = df_clearsky['dt'].values\n",
    "edges_clearsky = bayesian_blocks(dt,fitness='events', p0=0.01)\n",
    "hist1,bin_edge1 = np.histogram(dt, bins=edges_clearsky)\n",
    "ax1.hist(dt,bins=edges_clearsky,color='r',label=\"clearsky\",histtype=\"step\",lw=3);\n",
    "ax2.hist(dt,bins=edges_clearsky,color='r',label=\"clearsky\",histtype=\"step\",lw=3);\n",
    "dt = df_clouddy['dt'].values\n",
    "edges_clouddy = bayesian_blocks(dt,fitness='events', p0=0.01)\n",
    "hist2,bin_edge2 = np.histogram(dt, bins=edges_clouddy)\n",
    "ax1.hist(dt,bins=edges_clouddy,color='b',label=\"clouddy\",histtype=\"step\",lw=3);\n",
    "ax2.hist(dt,bins=edges_clouddy,color='b',label=\"clouddy\",histtype=\"step\",lw=3);\n",
    "ax1.legend()\n",
    "ax2.legend()\n",
    "ax2.set_yscale(\"log\")\n",
    "\n",
    "ax1.set_title(\"counts per bin\")\n",
    "ax2.set_xlabel(\"$\\Delta t$ (hours)\")\n",
    "plt.suptitle(\"Histogram with Bayesian blocks\",fontsize=20)"
   ]
  },
  {
   "cell_type": "markdown",
   "id": "79c4e04c-d22e-4904-9efb-6ab39bb9b454",
   "metadata": {},
   "source": [
    "## Binning Using astropy histograms with Blocks"
   ]
  },
  {
   "cell_type": "code",
   "execution_count": null,
   "id": "a3fe38a6-f1f0-411e-a77b-7df6054aa8a0",
   "metadata": {},
   "outputs": [],
   "source": [
    "dt = df_clearsky['dt'].values\n",
    "hist_clearsky, bin_edges_clearsky = histogram(dt, bins='blocks')\n",
    "dt = df_clouddy['dt'].values\n",
    "hist_clouddy, bin_edges_clouddy = histogram(dt, bins='blocks')"
   ]
  },
  {
   "cell_type": "code",
   "execution_count": null,
   "id": "3f10e896-7211-43c1-a87d-75a21600f6e6",
   "metadata": {},
   "outputs": [],
   "source": [
    "fig, ax = plt.subplots(1, 1, figsize=(12, 6),layout=\"constrained\")\n",
    "ax.plot(bin_edges_clearsky,'-or',label=\"clearsky\")\n",
    "ax.plot(bin_edges_clouddy,'-ob',label=\"clouddy\")\n",
    "ax.set_xlabel(\"bin number\")\n",
    "ax.set_ylabel(\"bin-edge (hours)\")\n",
    "ax.set_title(\"Histogram binning with histrogram blocks\")\n",
    "ax.legend()\n",
    "\n",
    "ax2 = ax.twinx()\n",
    "ax2.step(hist_clearsky,'r',label=\"clearsky\")\n",
    "ax2.step(hist_clouddy,'b',label=\"clouddy\")\n",
    "ax2.legend()\n",
    "ax2.set_ylabel(\"counts per bin\")"
   ]
  },
  {
   "cell_type": "code",
   "execution_count": null,
   "id": "0b3cc448-a347-4704-bb1d-2500b68146fc",
   "metadata": {},
   "outputs": [],
   "source": [
    "fig, axs = plt.subplots(2, 1, figsize=(12, 8),layout=\"constrained\")\n",
    "ax1,ax2 = axs.flatten()\n",
    "dt = df_clearsky['dt'].values\n",
    "hist_clearsky, bin_edges_clearsky = histogram(dt, bins='blocks')\n",
    "ax1.hist(dt,bins=bin_edges_clearsky,color='r',label=\"clearsky\",histtype=\"step\",lw=3);\n",
    "ax2.hist(dt,bins=bin_edges_clearsky,color='r',label=\"clearsky\",histtype=\"step\",lw=3);\n",
    "dt = df_clouddy['dt'].values\n",
    "hist_clouddy, bin_edges_clouddy = histogram(dt, bins='blocks')\n",
    "ax1.hist(dt,bins=bin_edges_clouddy,color='b',label=\"clouddy\",histtype=\"step\",lw=3);\n",
    "ax2.hist(dt,bins=bin_edges_clouddy,color='b',label=\"clouddy\",histtype=\"step\",lw=3);\n",
    "ax1.legend()\n",
    "ax2.legend()\n",
    "ax2.set_yscale(\"log\")\n",
    "ax1.set_title(\"counts per bin\")\n",
    "ax2.set_xlabel(\"$\\Delta t$ (hours)\")\n",
    "plt.suptitle(\"Histogram with astropy histogram blocks\",fontsize=20)"
   ]
  },
  {
   "cell_type": "markdown",
   "id": "a9db7cc3-b889-4344-a15e-5bdd5e97b937",
   "metadata": {},
   "source": [
    "## Compute the function generating the bin num and the bin center"
   ]
  },
  {
   "cell_type": "markdown",
   "id": "ffe6dcab-6d30-4a27-96cf-22063e73ccc5",
   "metadata": {},
   "source": [
    "### Digitize compute the bin number"
   ]
  },
  {
   "cell_type": "code",
   "execution_count": null,
   "id": "4b5db7fc-10bd-4cce-a8e4-7865a2eeb438",
   "metadata": {},
   "outputs": [],
   "source": [
    "dt1 = df_clearsky['dt'].values\n",
    "edges_clearsky = bayesian_blocks(dt1,fitness='events', p0=0.01)\n",
    "bin_numbers_clearsky = np.digitize(dt1, bins=edges_clearsky, right=False)\n",
    "dt2 = df_clouddy['dt'].values\n",
    "edges_clouddy = bayesian_blocks(dt2,fitness='events', p0=0.01)\n",
    "bin_numbers_clouddy = np.digitize(dt2, bins=edges_clouddy, right=False)"
   ]
  },
  {
   "cell_type": "code",
   "execution_count": null,
   "id": "bd4fab39-76b6-458f-8d0c-61e28c78d887",
   "metadata": {},
   "outputs": [],
   "source": [
    "print(f\"clearsky : number of bins {len(edges_clearsky)} bin_numbers_clearsky\")\n",
    "print(f\"\\t binnum : min-max = {bin_numbers_clearsky.min()} - {bin_numbers_clearsky.max()} \")"
   ]
  },
  {
   "cell_type": "code",
   "execution_count": null,
   "id": "106f9dd2-abfb-454e-b853-2aad00c6531b",
   "metadata": {},
   "outputs": [],
   "source": [
    "print(f\"clouddy number of bins {len(edges_clouddy)} bin_numbers_clouddy\")\n",
    "print(f\"binnum-min = {bin_numbers_clouddy.min()} - {bin_numbers_clouddy.max()} \")"
   ]
  },
  {
   "cell_type": "code",
   "execution_count": null,
   "id": "c875585f-736a-45a8-9cb5-214f7ebef1c6",
   "metadata": {},
   "outputs": [],
   "source": [
    "np.digitize([.0,60./3600.], bins=edges_clearsky, right=False)"
   ]
  },
  {
   "cell_type": "code",
   "execution_count": null,
   "id": "eb41e981-85ab-4997-816e-60f19696ca6c",
   "metadata": {},
   "outputs": [],
   "source": [
    "np.digitize([.0], bins=edges_clouddy, right=False)"
   ]
  },
  {
   "cell_type": "code",
   "execution_count": null,
   "id": "94eb8ec8-5907-4fb7-9546-45d83f7a3d61",
   "metadata": {},
   "outputs": [],
   "source": [
    "fig, ax = plt.subplots(1, 1, figsize=(12, 6),layout=\"constrained\")\n",
    "ax.scatter(dt1,bin_numbers_clearsky,marker='.',color=\"r\",label=\"clearsky\")\n",
    "ax.scatter(dt2,bin_numbers_clouddy,marker='.',color=\"b\",label=\"clouddy\")\n",
    "ax.set_xlabel(\"$\\Delta t$ (hours)\")\n",
    "ax.set_ylabel(\"bin-number\")\n",
    "ax.set_title(\"mapping $\\Delta t$ to bin-number\")\n",
    "ax.legend()\n",
    "for x in edges_clearsky:\n",
    "    ax.axvline(x,ls='-',color=\"r\",linewidth=0.3)\n",
    "for x in edges_clouddy:\n",
    "    ax.axvline(x,ls='-',color=\"b\",linewidth=0.3)\n",
    "\n",
    "xcenters = (edges_clearsky[:-1] + edges_clearsky[1:]) / 2\n",
    "for x in xcenters:\n",
    "    ax.axvline(x,ls='-',color=\"k\",linewidth=0.3)"
   ]
  },
  {
   "cell_type": "code",
   "execution_count": null,
   "id": "35e96b18-d4ff-4261-ab3e-445c2d522e81",
   "metadata": {},
   "outputs": [],
   "source": [
    "fig, axs = plt.subplots(1, 2, figsize=(12, 6),layout=\"constrained\")\n",
    "ax1,ax2 = axs.flatten()\n",
    "ax1.scatter(dt1*3600,bin_numbers_clearsky,marker='.',color=\"r\",label=\"clearsky\")\n",
    "ax1.scatter(dt2*3600,bin_numbers_clouddy,marker='.',color=\"b\",label=\"clouddy\")\n",
    "ax1.set_xlabel(\"$\\Delta t$ (seconds)\")\n",
    "ax1.set_ylabel(\"bin-number\")\n",
    "ax1.set_title(\"mapping $\\Delta t$ to bin-number\")\n",
    "ax1.legend()\n",
    "for x in edges_clearsky:\n",
    "    ax1.axvline(x*3600,ls='-',color=\"r\",linewidth=0.3)\n",
    "for x in edges_clouddy:\n",
    "    ax1.axvline(x*3600,ls='-',color=\"b\",linewidth=0.3)\n",
    "ax1.set_xlim(0.,0.1*3600)\n",
    "ax1.grid()\n",
    "\n",
    "ax2.scatter(dt1*3600,bin_numbers_clearsky,marker='.',color=\"r\",label=\"clearsky\")\n",
    "ax2.scatter(dt2*3600,bin_numbers_clouddy,marker='.',color=\"b\",label=\"clouddy\")\n",
    "ax2.set_xlabel(\"$\\Delta t$ (seconds)\")\n",
    "ax2.set_ylabel(\"bin-number\")\n",
    "ax2.set_title(\"mapping $\\Delta t$ to bin-number\")\n",
    "ax2.legend()\n",
    "for x in edges_clearsky:\n",
    "    ax2.axvline(x*3600,ls='-',color=\"r\",linewidth=0.3)\n",
    "for x in edges_clouddy:\n",
    "    ax2.axvline(x*3600,ls='-',color=\"b\",linewidth=0.3)\n",
    "ax2.set_xlim(20000. ,10*3600)\n",
    "\n",
    "xcenters = (edges_clearsky[:-1] + edges_clearsky[1:]) / 2\n",
    "for x in xcenters:\n",
    "    ax1.axvline(x*3600,ls='-',color=\"k\",linewidth=0.5)\n",
    "    ax2.axvline(x*3600,ls='-',color=\"k\",linewidth=0.5)"
   ]
  },
  {
   "cell_type": "markdown",
   "id": "6a1f9943-7e61-4994-978c-0bce6502a164",
   "metadata": {},
   "source": [
    "## We want larger bins at low dt"
   ]
  },
  {
   "cell_type": "code",
   "execution_count": null,
   "id": "be862a85-b1f8-4d3f-ab53-d92ca2153695",
   "metadata": {},
   "outputs": [],
   "source": [
    "# minimum timebin width\n",
    "TIMEBINWIDTHMIN = 4.0 # in minutes\n",
    "TIMEBINWIDTHHOUR = TIMEBINWIDTHMIN/60. # hours"
   ]
  },
  {
   "cell_type": "code",
   "execution_count": null,
   "id": "4e237259-9e4a-4752-b899-da8e073c6a03",
   "metadata": {},
   "outputs": [],
   "source": [
    "# Compute bin edges and centers\n",
    "dt1 = df_clearsky['dt'].values\n",
    "BIN_EDGES = bayesian_blocks(dt,fitness='events', p0=0.01)\n",
    "# add one more bin otherwise the largest dt is not in a bin\n",
    "BIN_EDGES = np.append(BIN_EDGES, BIN_EDGES[-1] + np.diff(BIN_EDGES)[-1])\n",
    "\n",
    "BIN_CENTERS = (BIN_EDGES[:-1] + BIN_EDGES[1:]) / 2\n",
    "NUMBEROFTIMEBINS = len(BIN_EDGES)-1\n",
    "TTMAX = dt.max()\n",
    "TTMIN = dt.min()"
   ]
  },
  {
   "cell_type": "code",
   "execution_count": null,
   "id": "6dc3becb-d984-4b38-9854-6508a0a7643b",
   "metadata": {},
   "outputs": [],
   "source": [
    "print(f\"NUMBEROFTIMEBINS = {NUMBEROFTIMEBINS}\")"
   ]
  },
  {
   "cell_type": "code",
   "execution_count": null,
   "id": "c8e344c7-1352-4dcf-801d-342c8d0809cf",
   "metadata": {},
   "outputs": [],
   "source": [
    "print(f\"TTMIN = {TTMIN}, TTMAX = {TTMAX}\")"
   ]
  },
  {
   "cell_type": "code",
   "execution_count": null,
   "id": "6726fc83-fee6-4c71-a373-9e7755f25ff0",
   "metadata": {},
   "outputs": [],
   "source": [
    "bayesian_blocks_binwidth = np.diff(BIN_EDGES)\n",
    "too_short_timebins = np.where(bayesian_blocks_binwidth<TIMEBINWIDTHHOUR)[0]"
   ]
  },
  {
   "cell_type": "code",
   "execution_count": null,
   "id": "02b29970-b518-479e-80b5-527a96933276",
   "metadata": {},
   "outputs": [],
   "source": [
    "too_short_timebins"
   ]
  },
  {
   "cell_type": "code",
   "execution_count": null,
   "id": "76959c28-c126-4e27-b94d-75be2d07dafc",
   "metadata": {},
   "outputs": [],
   "source": [
    "bins_to_suppress_max = too_short_timebins.max()"
   ]
  },
  {
   "cell_type": "code",
   "execution_count": null,
   "id": "809535d8-4941-4e53-8b41-baabd60b9f4b",
   "metadata": {},
   "outputs": [],
   "source": [
    "bins_to_suppress_max"
   ]
  },
  {
   "cell_type": "code",
   "execution_count": null,
   "id": "126452c6-c189-41b8-aaf9-7c20f86060d3",
   "metadata": {},
   "outputs": [],
   "source": [
    "BIN_EDGES_selected = BIN_EDGES[bins_to_suppress_max+1:]\n",
    "#BIN_EDGES_selected = BIN_EDGES[bins_to_suppress_max:] \n",
    "BIN_CENTERS_selected = (BIN_EDGES_selected[:-1] + BIN_EDGES_selected[1:]) / 2\n",
    "t_stop = BIN_EDGES_selected[0]"
   ]
  },
  {
   "cell_type": "code",
   "execution_count": null,
   "id": "6d47d366-313b-46be-a102-71eebf2a53b8",
   "metadata": {},
   "outputs": [],
   "source": [
    "t_stop"
   ]
  },
  {
   "cell_type": "code",
   "execution_count": null,
   "id": "352fe041-55fb-4d53-8b36-1170703fa080",
   "metadata": {},
   "outputs": [],
   "source": [
    "fig, ax = plt.subplots(1, 1, figsize=(12, 6),layout=\"constrained\")\n",
    "ax.plot(BIN_EDGES_selected,'-or',label=\"bin_edges_selected\")\n",
    "ax.plot(BIN_CENTERS_selected,'-ok',label=\"bin_center_selected\")\n",
    "ax.set_xlabel(\"bin number\")\n",
    "ax.set_ylabel(\"bin-edge (hours)\")\n",
    "ax.set_title(f\"Selected Histogram binswith histrogram blocks Nbins={NBINS_selected }\")\n",
    "ax.legend()"
   ]
  },
  {
   "cell_type": "markdown",
   "id": "55026df0-4b51-4710-8fae-0da0fa2fa75d",
   "metadata": {},
   "source": [
    "### Then generate the first bins"
   ]
  },
  {
   "cell_type": "code",
   "execution_count": null,
   "id": "ba85b060-df2e-4700-bd92-f814819952d7",
   "metadata": {},
   "outputs": [],
   "source": [
    "veryfirst_bins = np.arange(t_stop,-TIMEBINWIDTHHOUR, -TIMEBINWIDTHHOUR)[::-1][:-1]\n",
    "if veryfirst_bins[0]<0:\n",
    "    veryfirst_bins[0] = 0    \n",
    "NBINS_first = len(veryfirst_bins)-1"
   ]
  },
  {
   "cell_type": "code",
   "execution_count": null,
   "id": "dacc4d14-1c28-4bb8-b925-8bd3b2d62262",
   "metadata": {},
   "outputs": [],
   "source": [
    "fig, ax = plt.subplots(1, 1, figsize=(12, 6),layout=\"constrained\")\n",
    "ax.plot(veryfirst_bins,'-or',label=\"very first bins\")\n",
    "ax.set_xlabel(\"bin number\")\n",
    "ax.set_ylabel(\"bin-edge (hours)\")\n",
    "ax.set_title(f\"Very firs bins  Nbins={NBINS_first}\")\n",
    "ax.legend()"
   ]
  },
  {
   "cell_type": "markdown",
   "id": "4e9b3a0a-8f2e-4722-8b35-a29b9898e5bb",
   "metadata": {},
   "source": [
    "#### Join the two types of bins"
   ]
  },
  {
   "cell_type": "code",
   "execution_count": null,
   "id": "fd272878-7e2a-4b11-8520-0a72cf815362",
   "metadata": {},
   "outputs": [],
   "source": [
    "BIN_EDGES = np.union1d(veryfirst_bins, BIN_EDGES_selected)\n",
    "BIN_CENTERS = (BIN_EDGES[:-1] + BIN_EDGES[1:]) / 2\n",
    "NUMBEROFTIMEBINS = len(BIN_EDGES)-1"
   ]
  },
  {
   "cell_type": "code",
   "execution_count": null,
   "id": "8495afe0-33a6-4f6f-9cdd-1c281e9281e3",
   "metadata": {},
   "outputs": [],
   "source": [
    "fig, ax = plt.subplots(1, 1, figsize=(12, 6),layout=\"constrained\")\n",
    "ax.plot(BIN_EDGES,'-or',label=\"bin_edges_final\")\n",
    "ax.plot(BIN_CENTERS,'-ok',label=\"bin_center_final\")\n",
    "ax.set_xlabel(\"bin number\")\n",
    "ax.set_ylabel(\"bin-edge (hours)\")\n",
    "ax.set_title(f\"Combined bins : Nbins = {NUMBEROFTIMEBINS}\")\n",
    "ax.legend()\n",
    "ax2 = ax.twinx()\n",
    "ax2.plot(np.diff(BIN_EDGES),'-.b')\n",
    "ax2.set_ylabel(\"bin width\")\n",
    "plt.show()"
   ]
  },
  {
   "cell_type": "code",
   "execution_count": null,
   "id": "556d55bd-70c4-4b4f-806c-d455351a1964",
   "metadata": {},
   "outputs": [],
   "source": [
    "fig, ax = plt.subplots(1, 1, figsize=(12, 8),layout=\"constrained\")\n",
    "dt = df_clearsky['dt'].values\n",
    "ax.hist(dt,bins=BIN_EDGES,color='r',label=\"clearsky\",histtype=\"step\",lw=3);"
   ]
  },
  {
   "cell_type": "code",
   "execution_count": null,
   "id": "40972f0f-f3b2-47d8-bb28-11f0be5fdc41",
   "metadata": {},
   "outputs": [],
   "source": []
  }
 ],
 "metadata": {
  "kernelspec": {
   "display_name": "Python 3 (ipykernel)",
   "language": "python",
   "name": "python3"
  },
  "language_info": {
   "codemirror_mode": {
    "name": "ipython",
    "version": 3
   },
   "file_extension": ".py",
   "mimetype": "text/x-python",
   "name": "python",
   "nbconvert_exporter": "python",
   "pygments_lexer": "ipython3",
   "version": "3.11.9"
  }
 },
 "nbformat": 4,
 "nbformat_minor": 5
}
