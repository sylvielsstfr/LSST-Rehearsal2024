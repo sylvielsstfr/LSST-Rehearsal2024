{
 "cells": [
  {
   "cell_type": "markdown",
   "id": "45bf4242-bfc5-4d43-88c4-a8059ae148df",
   "metadata": {},
   "source": [
    "# Simulate Atmosphere from Merra2"
   ]
  },
  {
   "cell_type": "markdown",
   "id": "01993b6e-6438-4fca-a5d5-1f9791336847",
   "metadata": {},
   "source": [
    "- author Sylvie Dagoret-Campagne\n",
    "- affiliation : IJCLab\n",
    "- creation date 2025-10-11 :\n",
    "- last update : 2025-02-12\n",
    "- Kernel @usdf **w_2024_50*\n",
    "- Office emac : mamba_py311\n",
    "- Home emac : base (conda)\n",
    "- laptop : conda_py311"
   ]
  },
  {
   "cell_type": "markdown",
   "id": "0219159d-6865-4311-ac1d-99d11dad223f",
   "metadata": {},
   "source": [
    "**Goal** : Show correlation holo /Merra"
   ]
  },
  {
   "cell_type": "code",
   "execution_count": null,
   "id": "63a2b2ef-0bc2-45eb-91d9-87835d264751",
   "metadata": {
    "tags": []
   },
   "outputs": [],
   "source": [
    "from platform import python_version\n",
    "print(python_version())"
   ]
  },
  {
   "cell_type": "code",
   "execution_count": null,
   "id": "dcc53afe-c58f-4948-92c9-0090d373ad2a",
   "metadata": {},
   "outputs": [],
   "source": [
    "import warnings\n",
    "warnings.resetwarnings()\n",
    "warnings.simplefilter('ignore')"
   ]
  },
  {
   "cell_type": "code",
   "execution_count": null,
   "id": "8026d265-2493-4045-afec-26205ff71f7c",
   "metadata": {
    "tags": []
   },
   "outputs": [],
   "source": [
    "from platform import python_version\n",
    "print(python_version())"
   ]
  },
  {
   "cell_type": "code",
   "execution_count": null,
   "id": "eb1f116e-80e3-46ad-a7db-7f253632e5ca",
   "metadata": {},
   "outputs": [],
   "source": [
    "import os"
   ]
  },
  {
   "cell_type": "code",
   "execution_count": null,
   "id": "3ec760cd-3d3f-4a34-a6f6-b226fe500951",
   "metadata": {},
   "outputs": [],
   "source": [
    "# where are stored the figures\n",
    "pathfigs = \"figsSimulateAtmosphereFomMerra2\"\n",
    "if not os.path.exists(pathfigs):\n",
    "    os.makedirs(pathfigs) \n",
    "figtype = \".png\""
   ]
  },
  {
   "cell_type": "code",
   "execution_count": null,
   "id": "bf752b70-e6ca-4cbf-8e8c-20bf7f0d8f61",
   "metadata": {},
   "outputs": [],
   "source": [
    "import numpy as np\n",
    "from numpy.linalg import inv\n",
    "import matplotlib as mpl\n",
    "import matplotlib.pyplot as plt\n",
    "%matplotlib inline\n",
    "from mpl_toolkits.axes_grid1 import make_axes_locatable\n",
    "from matplotlib.colors import LogNorm,SymLogNorm\n",
    "from matplotlib.patches import Circle,Annulus\n",
    "from astropy.visualization import ZScaleInterval\n",
    "props = dict(boxstyle='round', facecolor=\"white\", alpha=0.1)\n",
    "#props = dict(boxstyle='round')\n",
    "\n",
    "import matplotlib.colors as colors\n",
    "import matplotlib.cm as cmx\n",
    "\n",
    "import matplotlib.ticker                         # here's where the formatter is\n",
    "from matplotlib.ticker import (MultipleLocator, FormatStrFormatter,\n",
    "                               AutoMinorLocator)\n",
    "\n",
    "from matplotlib.gridspec import GridSpec\n",
    "\n",
    "from astropy.visualization import (MinMaxInterval, SqrtStretch,ZScaleInterval,PercentileInterval,\n",
    "                                   ImageNormalize,imshow_norm)\n",
    "from astropy.visualization.stretch import SinhStretch, LinearStretch,AsinhStretch,LogStretch\n",
    "\n",
    "from astropy.io import fits\n",
    "from astropy.wcs import WCS\n",
    "from astropy import units as u\n",
    "from astropy import constants as c\n",
    "\n",
    "from astropy.coordinates.earth import EarthLocation\n",
    "from datetime import datetime\n",
    "from pytz import timezone\n",
    "\n",
    "from scipy import interpolate\n",
    "from sklearn.neighbors import NearestNeighbors\n",
    "from sklearn.neighbors import KDTree, BallTree\n",
    "\n",
    "import pandas as pd\n",
    "pd.set_option(\"display.max_columns\", None)\n",
    "pd.set_option('display.max_rows', 100)\n",
    "\n",
    "import matplotlib.ticker                         # here's where the formatter is\n",
    "import os\n",
    "import re\n",
    "import pandas as pd\n",
    "import pickle\n",
    "from collections import OrderedDict\n",
    "\n",
    "plt.rcParams[\"figure.figsize\"] = (4,3)\n",
    "plt.rcParams[\"axes.labelsize\"] = 'xx-large'\n",
    "plt.rcParams['axes.titlesize'] = 'xx-large'\n",
    "plt.rcParams['xtick.labelsize']= 'xx-large'\n",
    "plt.rcParams['ytick.labelsize']= 'xx-large'\n",
    "\n",
    "import scipy\n",
    "from scipy.optimize import curve_fit,least_squares\n",
    "\n",
    "\n",
    "# new color correction model\n",
    "import pickle\n",
    "from scipy.interpolate import RegularGridInterpolator"
   ]
  },
  {
   "cell_type": "code",
   "execution_count": null,
   "id": "ad1b1943-5173-40b8-8ac8-442e6ecc47d0",
   "metadata": {},
   "outputs": [],
   "source": [
    "from astropy.modeling import models"
   ]
  },
  {
   "cell_type": "code",
   "execution_count": null,
   "id": "46fe722f-bb23-4c29-8efb-4c096c72eec9",
   "metadata": {},
   "outputs": [],
   "source": [
    "from numpy.random import lognormal"
   ]
  },
  {
   "cell_type": "code",
   "execution_count": null,
   "id": "0ca0d1e6-5f82-4c43-aaa3-8524fc2bc5ba",
   "metadata": {},
   "outputs": [],
   "source": [
    "from matplotlib.ticker import (MultipleLocator, FormatStrFormatter,\n",
    "                               AutoMinorLocator)\n",
    "\n",
    "from astropy.visualization import (MinMaxInterval, SqrtStretch,ZScaleInterval,PercentileInterval,\n",
    "                                   ImageNormalize,imshow_norm)\n",
    "from astropy.visualization.stretch import SinhStretch, LinearStretch,AsinhStretch,LogStretch\n",
    "\n",
    "from astropy.time import Time\n"
   ]
  },
  {
   "cell_type": "code",
   "execution_count": null,
   "id": "e189816c-5048-43ab-a01a-7c078af54489",
   "metadata": {},
   "outputs": [],
   "source": [
    "# Remove to run faster the notebook\n",
    "#import ipywidgets as widgets\n",
    "#%matplotlib widget"
   ]
  },
  {
   "cell_type": "code",
   "execution_count": null,
   "id": "67327fd4-e405-45ce-8923-cd46ebaa0c0f",
   "metadata": {
    "tags": []
   },
   "outputs": [],
   "source": [
    "from importlib.metadata import version"
   ]
  },
  {
   "cell_type": "code",
   "execution_count": null,
   "id": "af8332dd-24f9-4b19-88f9-c62d0a4aebf1",
   "metadata": {
    "tags": []
   },
   "outputs": [],
   "source": [
    "# wavelength bin colors\n",
    "#jet = plt.get_cmap('jet')\n",
    "#cNorm = mpl.colors.Normalize(vmin=0, vmax=NSED)\n",
    "#scalarMap = cmx.ScalarMappable(norm=cNorm, cmap=jet)\n",
    "#all_colors = scalarMap.to_rgba(np.arange(NSED), alpha=1)"
   ]
  },
  {
   "cell_type": "code",
   "execution_count": null,
   "id": "1003d9d6-a40f-48b1-9ffc-bfab9f45ba93",
   "metadata": {},
   "outputs": [],
   "source": [
    "np.__version__"
   ]
  },
  {
   "cell_type": "code",
   "execution_count": null,
   "id": "c4cb2652-cb22-432e-b110-ae71d59dc793",
   "metadata": {},
   "outputs": [],
   "source": [
    "pd.__version__"
   ]
  },
  {
   "cell_type": "code",
   "execution_count": null,
   "id": "ad03dc3d-6741-4478-82ba-1d5447529d9a",
   "metadata": {},
   "outputs": [],
   "source": [
    "def convertNumToDatestr(num):\n",
    "    year = num//10_000\n",
    "    month= (num-year*10_000)//100\n",
    "    day = (num-year*10_000-month*100)\n",
    "\n",
    "    year_str = str(year).zfill(4)\n",
    "    month_str = str(month).zfill(2)\n",
    "    day_str = str(day).zfill(2)\n",
    "    \n",
    "    datestr = f\"{year_str}-{month_str}-{day_str}\"\n",
    "    return pd.to_datetime(datestr)"
   ]
  },
  {
   "cell_type": "code",
   "execution_count": null,
   "id": "b38653bf-649e-4bd5-a75a-ab8908dbe7e4",
   "metadata": {},
   "outputs": [],
   "source": [
    "def pdf_lognormal(x,a0,mu,sigma):\n",
    "    \"\"\"\n",
    "    \"\"\"\n",
    "    pdf = a0*(np.exp(-(np.log(x) - mu)**2 / (2 * sigma**2))/ (x * sigma * np.sqrt(2 * np.pi)))\n",
    "    return pdf"
   ]
  },
  {
   "cell_type": "code",
   "execution_count": null,
   "id": "54c28920-c2a0-48a2-bf53-d2abee893332",
   "metadata": {},
   "outputs": [],
   "source": [
    "x = np.linspace(0,15)\n",
    "y = pdf_lognormal(x,a0=100,mu=1,sigma=0.5)"
   ]
  },
  {
   "cell_type": "code",
   "execution_count": null,
   "id": "6aa0951a-306d-4ac0-a96c-2644c256af87",
   "metadata": {},
   "outputs": [],
   "source": [
    "plt.plot(x,y)"
   ]
  },
  {
   "cell_type": "markdown",
   "id": "4f13d6a3-7793-4bc0-920a-1d690d9f84b2",
   "metadata": {},
   "source": [
    "## Configuration"
   ]
  },
  {
   "cell_type": "code",
   "execution_count": null,
   "id": "c8cb2e48-0b34-4cbf-8379-43f7065112f7",
   "metadata": {},
   "outputs": [],
   "source": [
    "observing_location = EarthLocation.of_site('Rubin Observatory')\n",
    "tz = timezone('America/Santiago')"
   ]
  },
  {
   "cell_type": "markdown",
   "id": "6175a4a4-5c98-4e09-8ffd-a17282f6094e",
   "metadata": {},
   "source": [
    "### MERRA2"
   ]
  },
  {
   "cell_type": "code",
   "execution_count": null,
   "id": "d84a85da-768d-459f-8711-54e04f2cff75",
   "metadata": {
    "tags": []
   },
   "outputs": [],
   "source": [
    "filename_m2 = \"../SpectroMerra2/MerradataMerged/Merge_inst1_2d_asm_Nx_M2I1NXASM-2021-2024.csv\"\n",
    "filename_m2b = \"../SpectroMerra2/MerradataMerged/Merge_tavg1_2d_aer_Nx_M2T1NXAER-2021-2024.csv\""
   ]
  },
  {
   "cell_type": "code",
   "execution_count": null,
   "id": "dd89c1b3-43c8-43ae-b10d-f39e8f8b2963",
   "metadata": {
    "tags": []
   },
   "outputs": [],
   "source": [
    "df_m = pd.read_csv(filename_m2)\n",
    "df_mb = pd.read_csv(filename_m2b)"
   ]
  },
  {
   "cell_type": "code",
   "execution_count": null,
   "id": "e1e70f0b-8123-48fc-8faa-f5f468c85a3a",
   "metadata": {},
   "outputs": [],
   "source": [
    "df_mb.columns"
   ]
  },
  {
   "cell_type": "code",
   "execution_count": null,
   "id": "0078d85a-f0a9-43f7-bb1a-30358769fe86",
   "metadata": {},
   "outputs": [],
   "source": [
    "TMIN = pd.to_datetime(df_m.time.min())\n",
    "TMAX = pd.to_datetime(df_m.time.max())"
   ]
  },
  {
   "cell_type": "code",
   "execution_count": null,
   "id": "057a8286-3c9d-42b5-bd06-d8940779ac6e",
   "metadata": {},
   "outputs": [],
   "source": [
    "pd.to_datetime(df_m.Time.values)"
   ]
  },
  {
   "cell_type": "code",
   "execution_count": null,
   "id": "3fd02994-4a05-4145-8da9-10ac7f5b920a",
   "metadata": {},
   "outputs": [],
   "source": [
    "from matplotlib.dates import DateFormatter\n",
    "#date_form = DateFormatter(\"%y-%m-%dT%H:%M\")\n",
    "date_form = DateFormatter(\"%y-%m\")\n",
    "\n",
    "fig = plt.figure(figsize=(18,5))\n",
    "gs = GridSpec(1, 2,  width_ratios=[2,1],figure=fig)\n",
    "ax1 = fig.add_subplot(gs[0])\n",
    "ax2 = fig.add_subplot(gs[1])\n",
    "        \n",
    "leg1=ax1.get_legend()\n",
    "leg2=ax2.get_legend()\n",
    "\n",
    "\n",
    "ax1.plot(pd.to_datetime(df_m.Time.values), df_m.TQV.values,c=\"b\",lw=0.5,label=\"Merra2\")\n",
    "ax1.set_xlabel(\"time\")\n",
    "ax1.xaxis.set_major_formatter(date_form)\n",
    "ax1.set_title(\"Precipitable water vapor from Merra2\")\n",
    "ax1.legend()\n",
    "ax1.set_ylabel(\"PWV (mm)\")\n",
    "#ax.set_xlim(TMIN,TMAX)\n",
    "\n",
    "data = df_m.TQV.values\n",
    "mean = np.mean(data)\n",
    "median = np.median(data)\n",
    "std = np.std(data)\n",
    "textstr = \"\\n\".join((f\"Expected max-range for PWV : \",\n",
    "                     f\"- average : {mean:.2f} mm\",\n",
    "                     f\"- median : {median:.2f} mm\",\n",
    "                     f\"- sigma : {std:.2f} mm\",     \n",
    "                    ))\n",
    "ax1.text(0.05, 0.95, textstr, transform=ax1.transAxes, fontsize=14,verticalalignment='top', bbox=props)\n",
    "\n",
    "XMIN = 0.\n",
    "XMAX = 30.\n",
    "counts,xedges, _ = ax2.hist(df_m.TQV.values,bins=50,histtype=\"step\",color=\"b\",ls=\"-\",lw=3)\n",
    "xcenters = (xedges[:-1] + xedges[1:]) / 2\n",
    "\n",
    "xdata = xcenters\n",
    "ydata = counts\n",
    "\n",
    "popt, pcov = curve_fit(pdf_lognormal, xdata, ydata, p0 = [100.,1.,0.5])\n",
    "sigmas = np.diag(pcov)\n",
    "xfit = np.linspace(XMIN,XMAX,50)\n",
    "yfit = pdf_lognormal(xfit,*popt)\n",
    "ax2.plot(xfit,yfit,\"-r\")\n",
    "textstr2 = \"\\n\".join((f\"Parameters : \",\n",
    "                     f\"- mu : {popt[1]:.2f}\",\n",
    "                     f\"- sigma : {popt[2]:.2f}\",     \n",
    "                    ))\n",
    "ax2.text(0.35, 0.9, textstr2, transform=ax2.transAxes, fontsize=14,verticalalignment='top', bbox=props)\n",
    "ax2.set_xlabel(\"PWV (mm)\")\n",
    "ax2.set_title(\"Fitted log-normal pdf\")\n",
    "\n",
    "figname =f\"{pathfigs}/pwv_allpoints_merra2\"+figtype\n",
    "plt.savefig(figname)\n",
    "plt.show()\n"
   ]
  },
  {
   "cell_type": "code",
   "execution_count": null,
   "id": "6d4dc091-ac5c-493d-9c24-2838c9d76101",
   "metadata": {},
   "outputs": [],
   "source": [
    "data_sim_pwv = np.random.lognormal(popt[1],popt[2],50000)"
   ]
  },
  {
   "cell_type": "code",
   "execution_count": null,
   "id": "b8f7f16e-36c0-4f87-8856-601c80643258",
   "metadata": {},
   "outputs": [],
   "source": [
    "plt.hist(data_sim_pwv,bins=100,facecolor=\"b\");"
   ]
  },
  {
   "cell_type": "code",
   "execution_count": null,
   "id": "fbe59757-4742-4a83-b5b6-a43953a6c5d4",
   "metadata": {},
   "outputs": [],
   "source": [
    "from matplotlib.dates import DateFormatter\n",
    "#date_form = DateFormatter(\"%y-%m-%dT%H:%M\")\n",
    "date_form = DateFormatter(\"%y-%m\")\n",
    "\n",
    "fig = plt.figure(figsize=(18,5))\n",
    "gs = GridSpec(1, 2,  width_ratios=[2,1],figure=fig)\n",
    "ax1 = fig.add_subplot(gs[0])\n",
    "ax2 = fig.add_subplot(gs[1])\n",
    "        \n",
    "leg1=ax1.get_legend()\n",
    "leg2=ax2.get_legend()\n",
    "\n",
    "\n",
    "ax1.plot(pd.to_datetime(df_m.Time.values), df_m.TO3.values,c=\"r\",lw=0.5,label=\"Merra2\")\n",
    "ax1.set_xlabel(\"time\")\n",
    "ax1.xaxis.set_major_formatter(date_form)\n",
    "ax1.set_title(\"Ozone from Merra2\")\n",
    "#ax1.legend()\n",
    "ax1.set_ylabel(\"Ozone (HU)\")\n",
    "#ax.set_xlim(TMIN,TMAX)\n",
    "\n",
    "data = df_m.TO3.values\n",
    "mean = np.mean(data)\n",
    "median = np.median(data)\n",
    "std = np.std(data)\n",
    "textstr = \"\\n\".join((f\"Expected range for Ozone : \",\n",
    "                     f\"- average : {mean:.2f} DU\",\n",
    "                     f\"- median : {median:.2f} DU\",\n",
    "                     f\"- sigma : {std:.2f} DU\",     \n",
    "                    ))\n",
    "ax1.text(0.05, 0.95, textstr, transform=ax1.transAxes, fontsize=14,verticalalignment='top', bbox=props)\n",
    "\n",
    "\n",
    "\n",
    "\n",
    "XMIN = 0.\n",
    "XMAX = 600.\n",
    "counts,xedges, _ = ax2.hist(df_m.TO3.values,bins=50,histtype=\"step\",color=\"b\",ls=\"-\",lw=3)\n",
    "xcenters = (xedges[:-1] + xedges[1:]) / 2\n",
    "\n",
    "xdata = xcenters\n",
    "ydata = counts\n",
    "\n",
    "popt, pcov = curve_fit(pdf_lognormal, xdata, ydata, p0 = [100.,300.,100])\n",
    "sigmas = np.diag(pcov)\n",
    "xfit = np.linspace(XMIN,XMAX,100)\n",
    "yfit = pdf_lognormal(xfit,*popt)\n",
    "ax2.plot(xfit,yfit,\"-r\")\n",
    "textstr2 = \"\\n\".join((f\"Parameters : \",\n",
    "                     f\"- mu : {popt[1]:.2f}\",\n",
    "                     f\"- sigma : {popt[2]:.2f}\",     \n",
    "                    ))\n",
    "ax2.text(0.05, 0.9, textstr2, transform=ax2.transAxes, fontsize=14,verticalalignment='top', bbox=props)\n",
    "ax2.set_xlabel(\"Ozone (DU)\")\n",
    "ax2.set_title(\"Fitted log-normal pdf\")\n",
    "\n",
    "\n",
    "figname =f\"{pathfigs}/ozone_allpoints_merra2\"+figtype\n",
    "plt.savefig(figname)\n",
    "plt.show()\n"
   ]
  },
  {
   "cell_type": "code",
   "execution_count": null,
   "id": "9f802854-5389-4b2a-8e7e-9ac7cd70874c",
   "metadata": {},
   "outputs": [],
   "source": [
    "data_sim_o3 = np.random.lognormal(popt[1],popt[2],50000)\n",
    "fig, ax = plt.subplots(1,1,figsize=(6,4))\n",
    "ax.hist(data_sim_o3,bins=100,facecolor=\"r\");\n",
    "ax.set_xlim(0.,600.)"
   ]
  },
  {
   "cell_type": "code",
   "execution_count": null,
   "id": "8424c184-6bc3-4adf-942a-cffd5f9b924f",
   "metadata": {},
   "outputs": [],
   "source": [
    "from matplotlib.dates import DateFormatter\n",
    "#date_form = DateFormatter(\"%y-%m-%dT%H:%M\")\n",
    "date_form = DateFormatter(\"%y-%m\")\n",
    "\n",
    "fig = plt.figure(figsize=(18,5))\n",
    "gs = GridSpec(1, 2,  width_ratios=[2,1],figure=fig)\n",
    "ax1 = fig.add_subplot(gs[0])\n",
    "ax2 = fig.add_subplot(gs[1])\n",
    "        \n",
    "leg1=ax1.get_legend()\n",
    "leg2=ax2.get_legend()\n",
    "\n",
    "\n",
    "ax1.plot(pd.to_datetime(df_mb.Time.values), df_mb.TOTEXTTAU.values,c=\"g\",lw=0.5,label=\"Merra2\")\n",
    "ax1.set_xlabel(\"time\")\n",
    "ax1.xaxis.set_major_formatter(date_form)\n",
    "ax1.set_title(\"VAOD from Merra2\")\n",
    "ax1.legend()\n",
    "ax1.set_ylabel(\"VAOD\")\n",
    "#ax.set_xlim(TMIN,TMAX)\n",
    "data = df_mb.TOTEXTTAU.values\n",
    "mean = np.mean(data)\n",
    "median = np.median(data)\n",
    "std = np.std(data)\n",
    "textstr = \"\\n\".join((f\"Expected max-range for VAOD : \",\n",
    "                     f\"- average : {mean:.3f}\",\n",
    "                     f\"- median : {median:.3f}\",\n",
    "                     f\"- sigma : {std:.3f}\",     \n",
    "                    ))\n",
    "ax1.text(0.05, 0.95, textstr, transform=ax1.transAxes, fontsize=14,verticalalignment='top', bbox=props)\n",
    "\n",
    "\n",
    "XMIN = 0.\n",
    "XMAX = 0.3\n",
    "counts,xedges, _ = ax2.hist(df_mb.TOTEXTTAU.values,bins=50,histtype=\"step\",color=\"g\",ls=\"-\",lw=3)\n",
    "xcenters = (xedges[:-1] + xedges[1:]) / 2\n",
    "\n",
    "xdata = xcenters\n",
    "ydata = counts\n",
    "\n",
    "popt, pcov = curve_fit(pdf_lognormal, xdata, ydata, p0 = [100.,1.,0.5])\n",
    "sigmas = np.diag(pcov)\n",
    "xfit = np.linspace(XMIN,XMAX,100)\n",
    "yfit = pdf_lognormal(xfit,*popt)\n",
    "ax2.plot(xfit,yfit,\"-r\")\n",
    "textstr2 = \"\\n\".join((f\"Parameters : \",\n",
    "                     f\"- mu : {popt[1]:.3f}\",\n",
    "                     f\"- sigma : {popt[2]:.3f}\",     \n",
    "                    ))\n",
    "ax2.text(0.15, 0.9, textstr2, transform=ax2.transAxes, fontsize=14,verticalalignment='top', bbox=props)\n",
    "ax2.set_xlabel(\"VAOD\")\n",
    "ax2.set_title(\"Fitted log-normal pdf\")\n",
    "\n",
    "\n",
    "figname =f\"{pathfigs}/vaod_allpoints_merra2\"+figtype\n",
    "plt.savefig(figname)\n",
    "plt.show()\n"
   ]
  },
  {
   "cell_type": "code",
   "execution_count": null,
   "id": "c98b9c95-49a4-46c6-8209-40418e082b2d",
   "metadata": {},
   "outputs": [],
   "source": [
    "data_sim_vaod = np.random.lognormal(popt[1],popt[2],50000)\n",
    "fig, ax = plt.subplots(1,1,figsize=(6,4))\n",
    "ax.hist(data_sim_vaod,bins=100,facecolor=\"g\");\n",
    "ax.set_xlim(0.,1.)"
   ]
  },
  {
   "cell_type": "code",
   "execution_count": null,
   "id": "bdbbe50f-56ca-4c7d-ae34-ea25d0e6b07d",
   "metadata": {},
   "outputs": [],
   "source": [
    "from matplotlib.dates import DateFormatter\n",
    "#date_form = DateFormatter(\"%y-%m-%dT%H:%M\")\n",
    "date_form = DateFormatter(\"%y-%m\")\n",
    "\n",
    "fig = plt.figure(figsize=(18,5))\n",
    "gs = GridSpec(1, 2,  width_ratios=[2,1],figure=fig)\n",
    "ax1 = fig.add_subplot(gs[0])\n",
    "ax2 = fig.add_subplot(gs[1])\n",
    "        \n",
    "leg1=ax1.get_legend()\n",
    "leg2=ax2.get_legend()\n",
    "\n",
    "\n",
    "ax1.plot(pd.to_datetime(df_mb.Time.values), df_mb.TOTANGSTR.values,c=\"purple\",lw=0.5,label=\"Merra2\")\n",
    "ax1.set_xlabel(\"time\")\n",
    "ax1.xaxis.set_major_formatter(date_form)\n",
    "ax1.set_title(\"VAOD_Angstrom from Merra2\")\n",
    "ax1.legend()\n",
    "ax1.set_ylabel(\"VAOD_Angstrom\")\n",
    "#ax.set_xlim(TMIN,TMAX)\n",
    "data = df_mb.TOTANGSTR.values\n",
    "mean = np.mean(data)\n",
    "median = np.median(data)\n",
    "std = np.std(data)\n",
    "textstr = \"\\n\".join((f\"Expected max-range for VAOD-Angstrom : \",\n",
    "                     f\"- average : {mean:.3f}\",\n",
    "                     f\"- median : {median:.3f}\",\n",
    "                     f\"- sigma : {std:.3f}\",     \n",
    "                    ))\n",
    "ax1.text(0.05, 0.95, textstr, transform=ax1.transAxes, fontsize=14,verticalalignment='top', bbox=props)\n",
    "\n",
    "\n",
    "\n",
    "XMIN = 0.\n",
    "XMAX = 3.\n",
    "counts,xedges, _ = ax2.hist(df_mb.TOTANGSTR.values,bins=50,histtype=\"step\",color=\"purple\",ls=\"-\",lw=3)\n",
    "xcenters = (xedges[:-1] + xedges[1:]) / 2\n",
    "\n",
    "xdata = xcenters\n",
    "ydata = counts\n",
    "\n",
    "popt, pcov = curve_fit(pdf_lognormal, xdata, ydata, p0 = [100.,1.,0.5])\n",
    "sigmas = np.diag(pcov)\n",
    "xfit = np.linspace(XMIN,XMAX,100)\n",
    "yfit = pdf_lognormal(xfit,*popt)\n",
    "ax2.plot(xfit,yfit,\"-r\")\n",
    "textstr2 = \"\\n\".join((f\"Parameters : \",\n",
    "                     f\"- mu : {popt[1]:.2f}\",\n",
    "                     f\"- sigma : {popt[2]:.2f}\",     \n",
    "                    ))\n",
    "ax2.text(0.05, 0.9, textstr2, transform=ax2.transAxes, fontsize=14,verticalalignment='top', bbox=props)\n",
    "ax2.set_xlabel(\"VAOD-Angstrom\")\n",
    "ax2.set_title(\"Fitted log-normal pdf\")\n",
    "\n",
    "\n",
    "figname =f\"{pathfigs}/vaodangstrom_allpoints_merra2\"+figtype\n",
    "plt.savefig(figname)\n",
    "plt.show()"
   ]
  },
  {
   "cell_type": "code",
   "execution_count": null,
   "id": "b55fdaa4-8da1-4878-abc0-82baa38eed96",
   "metadata": {},
   "outputs": [],
   "source": [
    "data_sim_angstrom = np.random.lognormal(popt[1],popt[2],50000)\n",
    "fig, ax = plt.subplots(1,1,figsize=(6,4))\n",
    "ax.hist(data_sim_angstrom,bins=100,facecolor=\"purple\");\n",
    "ax.set_xlim(0.,3.)"
   ]
  },
  {
   "cell_type": "code",
   "execution_count": null,
   "id": "13c9c7bf-43db-4fe6-971f-83aad663e2b8",
   "metadata": {},
   "outputs": [],
   "source": [
    "all_percentiles = np.arange(0.01,1.0,0.01)\n",
    "Npercentiles = len(all_percentiles)\n",
    "xquantiles_pwv = [ np.quantile(data_sim_pwv, q) for q in all_percentiles]\n",
    "xquantiles_o3 = [ np.quantile(data_sim_o3, q) for q in all_percentiles]\n",
    "xquantiles_vaod = [ np.quantile(data_sim_vaod, q) for q in all_percentiles]\n",
    "xquantiles_angstrom = [ np.quantile(data_sim_angstrom, q) for q in all_percentiles]"
   ]
  },
  {
   "cell_type": "markdown",
   "id": "6fe81772-a1a4-4d9f-b85c-e2dd58ced2f2",
   "metadata": {},
   "source": [
    "### Make colormaps"
   ]
  },
  {
   "cell_type": "code",
   "execution_count": null,
   "id": "608b9c13-0167-4281-92c5-607667475f34",
   "metadata": {},
   "outputs": [],
   "source": [
    "cmap = mpl.colormaps['Blues']\n",
    "cmap_invert = mpl.colormaps['Blues_r']\n",
    "colors1 = cmap(np.linspace(0, 1, Npercentiles//2))\n",
    "colors2 = cmap_invert(np.linspace(0, 1, Npercentiles - Npercentiles//2))\n",
    "all_colors_blues = np.vstack((colors1,colors2))"
   ]
  },
  {
   "cell_type": "code",
   "execution_count": null,
   "id": "cb3bb80a-e5f9-4f67-b469-cd480fc478e7",
   "metadata": {},
   "outputs": [],
   "source": [
    "cmap = mpl.colormaps['Reds']\n",
    "cmap_invert = mpl.colormaps['Reds_r']\n",
    "colors1 = cmap(np.linspace(0, 1, Npercentiles//2))\n",
    "colors2 = cmap_invert(np.linspace(0, 1, Npercentiles - Npercentiles//2))\n",
    "all_colors_reds = np.vstack((colors1,colors2))"
   ]
  },
  {
   "cell_type": "code",
   "execution_count": null,
   "id": "e0d6d5fa-8aa8-49f3-9bda-d2521f764d42",
   "metadata": {},
   "outputs": [],
   "source": [
    "cmap = mpl.colormaps['Greens']\n",
    "cmap_invert = mpl.colormaps['Greens_r']\n",
    "colors1 = cmap(np.linspace(0, 1, Npercentiles//2))\n",
    "colors2 = cmap_invert(np.linspace(0, 1, Npercentiles - Npercentiles//2))\n",
    "all_colors_greens = np.vstack((colors1,colors2))"
   ]
  },
  {
   "cell_type": "code",
   "execution_count": null,
   "id": "96c9f2dd-8190-4ad5-93f6-d45204f412fc",
   "metadata": {},
   "outputs": [],
   "source": [
    "cmap = mpl.colormaps['Purples']\n",
    "cmap_invert = mpl.colormaps['Purples_r']\n",
    "colors1 = cmap(np.linspace(0, 1, Npercentiles//2))\n",
    "colors2 = cmap_invert(np.linspace(0, 1, Npercentiles - Npercentiles//2))\n",
    "all_colors_purples = np.vstack((colors1,colors2))"
   ]
  },
  {
   "cell_type": "markdown",
   "id": "02fba974-fdbe-4186-9a70-ff919248e7b4",
   "metadata": {},
   "source": [
    "### Simulate transparencies"
   ]
  },
  {
   "cell_type": "code",
   "execution_count": null,
   "id": "681851bd-8a57-4dae-bd78-8622ab3ec2b2",
   "metadata": {},
   "outputs": [],
   "source": [
    "from getObsAtmo.getObsAtmo import ObsAtmo,validateObsName,Dict_Of_sitesPressures,getObsSiteDataFrame"
   ]
  },
  {
   "cell_type": "code",
   "execution_count": null,
   "id": "f68d304c-a434-439b-81f5-bd06a6d73059",
   "metadata": {},
   "outputs": [],
   "source": [
    "emul =  ObsAtmo(obs_str= \"LSST\")\n",
    "WL = emul.GetWL()"
   ]
  },
  {
   "cell_type": "code",
   "execution_count": null,
   "id": "1e3cd105-7a66-4162-8846-52a8dde6dca1",
   "metadata": {},
   "outputs": [],
   "source": [
    "am0 = 1.2\n",
    "pwv0 = 5.3\n",
    "oz0 = 267.\n",
    "\n",
    "fig = plt.figure(figsize=(12, 8),layout=\"constrained\")\n",
    "gs = fig.add_gridspec(2, 1  , height_ratios=(3 ,1),left=0.1, right=0.9, bottom=0.1, top=0.9,wspace=0.01, hspace=0.01)\n",
    "ax1 = fig.add_subplot(gs[0])\n",
    "ax2 = fig.add_subplot(gs[1],sharex=ax)\n",
    "\n",
    "for idx,quantile in enumerate(xquantiles_pwv ):\n",
    "    pwv0 = quantile\n",
    "    if pwv0<15.0:\n",
    "        transm = emul.GetAllTransparencies(WL,am0,pwv0,oz0)\n",
    "        ax1.plot(WL,transm,color=all_colors_blues[idx]) \n",
    "    if idx== Npercentiles//2:\n",
    "        label = f\"PWV(median) = {pwv0:.2f} mm\"\n",
    "        ax1.plot(WL,transm,color=all_colors_blues[idx],label=label) \n",
    "        transm_median = transm\n",
    "\n",
    "for idx,quantile in enumerate(xquantiles_pwv ):\n",
    "    pwv0 = quantile\n",
    "    if pwv0<15.0:\n",
    "        transm = emul.GetAllTransparencies(WL,am0,pwv0,oz0)\n",
    "        ax2.plot(WL,transm/transm_median,color=all_colors_blues[idx]) \n",
    "\n",
    "        \n",
    "transm = emul.GetAllTransparencies(WL,am0,0,0,0)\n",
    "ax1.plot(WL,transm,color='k',label=\"no PWV,Ozone,aerosols\") \n",
    "ax1.set_title(f\"Atmospheric transparency variations by precipitable water vapor (1%-99%percentile) airmass = {am0:.2f}\")\n",
    "ax2.set_xlabel(\"$\\lambda$ (nm)\")\n",
    "ax2.set_ylabel(\"ratio\")\n",
    "ax1.set_ylabel(\"Atmospheric transparency\")\n",
    "ax1.legend()\n",
    "\n",
    "figname =f\"{pathfigs}/atmtransmpwv_predmerra2\"+figtype\n",
    "fig.savefig(figname)\n",
    "\n",
    "plt.show()"
   ]
  },
  {
   "cell_type": "code",
   "execution_count": null,
   "id": "246e66b8-5ca4-4c16-a951-5841a15fa517",
   "metadata": {},
   "outputs": [],
   "source": []
  },
  {
   "cell_type": "code",
   "execution_count": null,
   "id": "f3eecb17-8b22-41f1-88a4-5089ca10f5f1",
   "metadata": {},
   "outputs": [],
   "source": [
    "am0 = 1.2\n",
    "pwv0 = 5.3\n",
    "oz0 = 267.\n",
    "\n",
    "\n",
    "fig = plt.figure(figsize=(12, 8),layout=\"constrained\")\n",
    "gs = fig.add_gridspec(2, 1  , height_ratios=(3 ,1),left=0.1, right=0.9, bottom=0.1, top=0.9,wspace=0.01, hspace=0.01)\n",
    "ax1 = fig.add_subplot(gs[0])\n",
    "ax2 = fig.add_subplot(gs[1],sharex=ax)\n",
    "\n",
    "for idx,quantile in enumerate(xquantiles_o3 ):\n",
    "    oz = quantile\n",
    "   \n",
    "    transm = emul.GetAllTransparencies(WL,am0,pwv0,oz,0)\n",
    "    ax1.plot(WL,transm,color=all_colors_reds[idx]) \n",
    "    if idx== Npercentiles//2:\n",
    "        label = f\"Ozone(median) = {oz0:.2f} DU\"\n",
    "        ax1.plot(WL,transm,color=all_colors_reds[idx],label=label) \n",
    "        transm_median = transm\n",
    "        \n",
    "for idx,quantile in enumerate(xquantiles_o3 ):\n",
    "    oz = quantile\n",
    "    transm = emul.GetAllTransparencies(WL,am0,pwv0,oz)\n",
    "    ax2.plot(WL,transm/transm_median,color=all_colors_reds[idx]) \n",
    "\n",
    "\n",
    "transm = emul.GetAllTransparencies(WL,am0,0,0)\n",
    "ax1.plot(WL,transm,color='k',label=\"No PWV,Ozone,aerosols\") \n",
    "\n",
    "ax1.set_title(f\"Atmospheric transparency variations by Ozone (1%-99%percentile) airmass = {am0:.2f}\")\n",
    "ax2.set_xlabel(\"$\\lambda$ (nm)\")\n",
    "ax1.set_ylabel(\"Atmospheric transparency\")\n",
    "ax2.set_ylim(0.99,1.01)\n",
    "ax2.set_ylabel(\"ratio\")\n",
    "ax1.legend()\n",
    "\n",
    "figname =f\"{pathfigs}/atmtransmozone_predmerra2\"+figtype\n",
    "fig.savefig(figname)\n",
    "\n",
    "\n",
    "plt.show()"
   ]
  },
  {
   "cell_type": "code",
   "execution_count": null,
   "id": "5d84686c-260e-428b-97cb-be964ba1a582",
   "metadata": {},
   "outputs": [],
   "source": [
    "am0 = 1.2\n",
    "pwv0 = 5.3\n",
    "oz0 = 267.\n",
    "ang0 = 1.435\n",
    "\n",
    "\n",
    "fig = plt.figure(figsize=(12, 8),layout=\"constrained\")\n",
    "gs = fig.add_gridspec(2, 1  , height_ratios=(3 ,1),left=0.1, right=0.9, bottom=0.1, top=0.9,wspace=0.01, hspace=0.01)\n",
    "ax1 = fig.add_subplot(gs[0])\n",
    "ax2 = fig.add_subplot(gs[1],sharex=ax)\n",
    "\n",
    "for idx,quantile in enumerate(xquantiles_vaod ):\n",
    "    vaod = quantile\n",
    "   \n",
    "    transm = emul.GetAllTransparencies(WL,am0,pwv0,oz0,tau=vaod,beta=ang0)\n",
    "    ax1.plot(WL,transm,color=all_colors_greens[idx]) \n",
    "    if idx== Npercentiles//2:\n",
    "        label = f\"VAOD(median) = {vaod:.2f}\"\n",
    "        ax1.plot(WL,transm,color=all_colors_greens[idx],label=label)\n",
    "        transm_median = transm\n",
    "\n",
    "for idx,quantile in enumerate(xquantiles_vaod ):\n",
    "    vaod = quantile\n",
    "    transm = emul.GetAllTransparencies(WL,am0,pwv0,oz0,tau=vaod,beta=ang0)\n",
    "    ax2.plot(WL,transm/transm_median,color=all_colors_greens[idx]) \n",
    "    \n",
    "\n",
    "\n",
    "transm = emul.GetAllTransparencies(WL,am0,0,0)\n",
    "ax1.plot(WL,transm,color='k',label=\"No PWV,Ozone,aerosols\") \n",
    "\n",
    "ax1.set_title(f\"Atmospheric transparency variations by Aerosols VAOD (1%-99%percentile) airmass = {am0:.2f}\")\n",
    "ax2.set_xlabel(\"$\\lambda$ (nm)\")\n",
    "ax1.set_ylabel(\"Atmospheric transparency\")\n",
    "ax1.legend()\n",
    "ax2.set_ylabel(\"ratio\")\n",
    "\n",
    "figname =f\"{pathfigs}/atmtransmvaod_predmerra2\"+figtype\n",
    "fig.savefig(figname)\n",
    "\n",
    "plt.show()"
   ]
  },
  {
   "cell_type": "code",
   "execution_count": null,
   "id": "39e7d836-fefd-4c92-b3f5-c19f9cadd311",
   "metadata": {},
   "outputs": [],
   "source": []
  },
  {
   "cell_type": "code",
   "execution_count": null,
   "id": "53af0f50-5afa-461f-b9ff-3558435fa678",
   "metadata": {},
   "outputs": [],
   "source": [
    "am0 = 1.2\n",
    "pwv0 = 5.3\n",
    "oz0 = 267.\n",
    "vaod0= 0.04\n",
    "\n",
    "fig = plt.figure(figsize=(12, 8),layout=\"constrained\")\n",
    "gs = fig.add_gridspec(2, 1  , height_ratios=(3 ,1),left=0.1, right=0.9, bottom=0.1, top=0.9,wspace=0.01, hspace=0.01)\n",
    "ax1 = fig.add_subplot(gs[0])\n",
    "ax2 = fig.add_subplot(gs[1],sharex=ax)\n",
    "\n",
    "for idx,quantile in enumerate(xquantiles_angstrom ):\n",
    "    ang = quantile\n",
    "   \n",
    "    transm = emul.GetAllTransparencies(WL,am0,pwv0,oz0,tau=vaod0,beta=ang )\n",
    "    ax1.plot(WL,transm,color=all_colors_purples[idx]) \n",
    "    if idx== Npercentiles//2:\n",
    "        label = f\"VAOD-Angstrop(median) = {ang:.2f}\"\n",
    "        ax1.plot(WL,transm,color=all_colors_purples[idx],label=label) \n",
    "        transm_median = transm\n",
    "\n",
    "for idx,quantile in enumerate(xquantiles_angstrom ):\n",
    "    ang = quantile\n",
    "    transm = emul.GetAllTransparencies(WL,am0,pwv0,oz0,tau=vaod0,beta=ang )\n",
    "    ax2.plot(WL,transm/transm_median,color=all_colors_purples[idx]) \n",
    "\n",
    "transm = emul.GetAllTransparencies(WL,am0,0,0)\n",
    "ax1.plot(WL,transm,color='k',label=\"No PWV,Ozone,aerosols\") \n",
    "ax1.set_title(f\"Atmospheric transparency variations by Aerosols-Angstrom (1%-99%percentile) airmass = {am0:.2f}\")\n",
    "ax2.set_xlabel(\"$\\lambda$ (nm)\")\n",
    "ax2.set_ylim(0.99,1.01)\n",
    "ax1.set_ylabel(\"Atmospheric transparency\")\n",
    "ax1.legend()\n",
    "ax2.set_ylabel(\"ratio\")\n",
    "\n",
    "figname =f\"{pathfigs}/atmtransmangstrom_predmerra2\"+figtype\n",
    "fig.savefig(figname)\n",
    "\n",
    "plt.show()"
   ]
  },
  {
   "cell_type": "code",
   "execution_count": null,
   "id": "bcfe8e4c-7436-48df-800c-2feb8cb4aab9",
   "metadata": {},
   "outputs": [],
   "source": [
    "fig, ax = plt.subplots(1,1,figsize=(12,8))\n",
    "\n",
    "\n",
    "am0 = 1.2\n",
    "pwv0 = 5.3\n",
    "oz0 = 267.\n",
    "vaod0= 0.04\n",
    "ang0 = 1.435\n",
    "\n",
    "\n",
    "# Ozone\n",
    "#for idx,quantile in enumerate(xquantiles_o3):\n",
    "#    oz = quantile  \n",
    "#    transm = emul.GetAllTransparencies(WL,am0,pwv0,oz,vaod0,ang0)\n",
    "#    ax.plot(WL,transm,color=all_colors_reds[idx]) \n",
    "#    if idx== Npercentiles//2:\n",
    "#        label = f\"Ozone(median) = {oz0:.2f} DU\"\n",
    "#        ax.plot(WL,transm,color=all_colors_reds[idx],label=label,lw=3) \n",
    "\n",
    "\n",
    "# Angstrom\n",
    "#for idx,quantile in enumerate(xquantiles_angstrom):\n",
    "#    ang = quantile   \n",
    "#    transm = emul.GetAllTransparencies(WL,am0,pwv0,oz0,tau=vaod0,beta=ang )\n",
    "#    ax.plot(WL,transm,color=all_colors_purples[idx]) \n",
    "#    if idx== Npercentiles//2:\n",
    "#        label = f\"VAOD-Angstrop(median) = {ang:.2f}\"\n",
    "#        ax.plot(WL,transm,color=all_colors_purples[idx],label=label,lw=3) \n",
    "\n",
    "#VAOD\n",
    "for idx,quantile in enumerate(xquantiles_vaod ):\n",
    "    vaod = quantile\n",
    "   \n",
    "    transm = emul.GetAllTransparencies(WL,am0,pwv0,oz0,tau=vaod,beta=ang0)\n",
    "    ax.plot(WL,transm,color=all_colors_greens[idx]) \n",
    "    if idx== Npercentiles//2:\n",
    "        label = f\"VAOD(median) = {vaod:.2f}\"\n",
    "        ax.plot(WL,transm,color=all_colors_greens[idx],label=label,lw=3) \n",
    "\n",
    "# PWV\n",
    "for idx,quantile in enumerate(xquantiles_pwv):\n",
    "    pwv = quantile\n",
    "    if pwv<15.0:\n",
    "        transm = emul.GetAllTransparencies(WL,am0,pwv,oz0,vaod0,ang0)\n",
    "        ax.plot(WL,transm,color=all_colors_blues[idx]) \n",
    "    if idx== Npercentiles//2:\n",
    "        label = f\"PWV(median) = {pwv0:.2f} mm\"\n",
    "        ax.plot(WL,transm,color=all_colors_blues[idx],label=label,lw=3) \n",
    "\n",
    "\n",
    "\n",
    "        \n",
    "transm = emul.GetAllTransparencies(WL,am0,0,0,0)\n",
    "ax.plot(WL,transm,color='k',label=\"no PWV,Ozone,aerosols\") \n",
    "\n",
    "ax.set_title(f\"Atmospheric transparency variations(1%-99%percentile) airmass = {am0:.2f}\")\n",
    "ax.set_xlabel(\"$\\lambda$ (nm)\")\n",
    "ax.set_ylabel(\"Atmospheric transparency\")\n",
    "ax.legend()\n",
    "\n",
    "figname =f\"{pathfigs}/atmtransmpwvvaodcombined_predmerra2\"+figtype\n",
    "fig.savefig(figname)\n",
    "\n",
    "\n",
    "plt.show()"
   ]
  },
  {
   "cell_type": "code",
   "execution_count": null,
   "id": "4914110e-a9d9-4792-b0fb-c309bc793011",
   "metadata": {},
   "outputs": [],
   "source": []
  }
 ],
 "metadata": {
  "kernelspec": {
   "display_name": "conda_py311",
   "language": "python",
   "name": "conda_py311"
  },
  "language_info": {
   "codemirror_mode": {
    "name": "ipython",
    "version": 3
   },
   "file_extension": ".py",
   "mimetype": "text/x-python",
   "name": "python",
   "nbconvert_exporter": "python",
   "pygments_lexer": "ipython3",
   "version": "3.11.11"
  }
 },
 "nbformat": 4,
 "nbformat_minor": 5
}
