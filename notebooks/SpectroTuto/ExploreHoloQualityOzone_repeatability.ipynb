{
 "cells": [
  {
   "cell_type": "markdown",
   "id": "45bf4242-bfc5-4d43-88c4-a8059ae148df",
   "metadata": {},
   "source": [
    "# Explore hologram data  Repeatability on Ozone"
   ]
  },
  {
   "cell_type": "markdown",
   "id": "01993b6e-6438-4fca-a5d5-1f9791336847",
   "metadata": {},
   "source": [
    "- author Sylvie Dagoret-Campagne\n",
    "- affiliation : IJCLab\n",
    "- creation date 2024-10-09\n",
    "- last update : 2024-10-12 : Flag on collimator on\n",
    "- last update : 2024-10-18 : v5\n",
    "- last update : 2024-10-19 : Quality cut correction\n",
    "- Kernel @usdf **w_2024_37**\n",
    "- Office emac : mamba_py311\n",
    "- Home emac : base (conda)\n",
    "- laptop : conda_py310"
   ]
  },
  {
   "cell_type": "markdown",
   "id": "c025250c-6ceb-42f6-b2cc-2aa07987df55",
   "metadata": {},
   "source": [
    "**Goal** : Show Night variations of Ozone wrt date and Time. Fit a straight line."
   ]
  },
  {
   "cell_type": "code",
   "execution_count": null,
   "id": "dcc53afe-c58f-4948-92c9-0090d373ad2a",
   "metadata": {
    "execution": {
     "iopub.execute_input": "2025-02-10T19:05:35.508183Z",
     "iopub.status.busy": "2025-02-10T19:05:35.508046Z",
     "iopub.status.idle": "2025-02-10T19:05:35.510418Z",
     "shell.execute_reply": "2025-02-10T19:05:35.510031Z",
     "shell.execute_reply.started": "2025-02-10T19:05:35.508163Z"
    }
   },
   "outputs": [],
   "source": [
    "import warnings\n",
    "warnings.resetwarnings()\n",
    "warnings.simplefilter('ignore')"
   ]
  },
  {
   "cell_type": "code",
   "execution_count": null,
   "id": "8026d265-2493-4045-afec-26205ff71f7c",
   "metadata": {
    "execution": {
     "iopub.execute_input": "2025-02-10T19:05:35.510950Z",
     "iopub.status.busy": "2025-02-10T19:05:35.510825Z",
     "iopub.status.idle": "2025-02-10T19:05:35.520695Z",
     "shell.execute_reply": "2025-02-10T19:05:35.520345Z",
     "shell.execute_reply.started": "2025-02-10T19:05:35.510938Z"
    },
    "tags": []
   },
   "outputs": [],
   "source": [
    "from platform import python_version\n",
    "print(python_version())"
   ]
  },
  {
   "cell_type": "code",
   "execution_count": null,
   "id": "eb1f116e-80e3-46ad-a7db-7f253632e5ca",
   "metadata": {
    "execution": {
     "iopub.execute_input": "2025-02-10T19:05:35.521197Z",
     "iopub.status.busy": "2025-02-10T19:05:35.521066Z",
     "iopub.status.idle": "2025-02-10T19:05:35.528053Z",
     "shell.execute_reply": "2025-02-10T19:05:35.527720Z",
     "shell.execute_reply.started": "2025-02-10T19:05:35.521184Z"
    }
   },
   "outputs": [],
   "source": [
    "import os"
   ]
  },
  {
   "cell_type": "code",
   "execution_count": null,
   "id": "3ec760cd-3d3f-4a34-a6f6-b226fe500951",
   "metadata": {
    "execution": {
     "iopub.execute_input": "2025-02-10T19:05:35.529587Z",
     "iopub.status.busy": "2025-02-10T19:05:35.529249Z",
     "iopub.status.idle": "2025-02-10T19:05:35.536314Z",
     "shell.execute_reply": "2025-02-10T19:05:35.535961Z",
     "shell.execute_reply.started": "2025-02-10T19:05:35.529573Z"
    }
   },
   "outputs": [],
   "source": [
    "# where are stored the figures\n",
    "pathfigs = \"figsOzoneRepeatability\"\n",
    "if not os.path.exists(pathfigs):\n",
    "    os.makedirs(pathfigs) \n",
    "figtype = \".png\""
   ]
  },
  {
   "cell_type": "code",
   "execution_count": null,
   "id": "bf752b70-e6ca-4cbf-8e8c-20bf7f0d8f61",
   "metadata": {
    "execution": {
     "iopub.execute_input": "2025-02-10T19:05:35.536818Z",
     "iopub.status.busy": "2025-02-10T19:05:35.536690Z",
     "iopub.status.idle": "2025-02-10T19:05:36.777375Z",
     "shell.execute_reply": "2025-02-10T19:05:36.776929Z",
     "shell.execute_reply.started": "2025-02-10T19:05:35.536806Z"
    }
   },
   "outputs": [],
   "source": [
    "import numpy as np\n",
    "from numpy.linalg import inv\n",
    "import matplotlib as mpl\n",
    "import matplotlib.pyplot as plt\n",
    "%matplotlib inline\n",
    "from mpl_toolkits.axes_grid1 import make_axes_locatable\n",
    "from matplotlib.colors import LogNorm,SymLogNorm\n",
    "from matplotlib.patches import Circle,Annulus\n",
    "from astropy.visualization import ZScaleInterval\n",
    "props = dict(boxstyle='round', facecolor=\"white\", alpha=0.1)\n",
    "#props = dict(boxstyle='round')\n",
    "\n",
    "import matplotlib.colors as colors\n",
    "import matplotlib.cm as cmx\n",
    "\n",
    "import matplotlib.ticker                         # here's where the formatter is\n",
    "from matplotlib.ticker import (MultipleLocator, FormatStrFormatter,\n",
    "                               AutoMinorLocator)\n",
    "\n",
    "from matplotlib.gridspec import GridSpec\n",
    "\n",
    "from astropy.visualization import (MinMaxInterval, SqrtStretch,ZScaleInterval,PercentileInterval,\n",
    "                                   ImageNormalize,imshow_norm)\n",
    "from astropy.visualization.stretch import SinhStretch, LinearStretch,AsinhStretch,LogStretch\n",
    "\n",
    "from astropy.io import fits\n",
    "from astropy.wcs import WCS\n",
    "from astropy import units as u\n",
    "from astropy import constants as c\n",
    "\n",
    "from scipy import interpolate\n",
    "from sklearn.neighbors import NearestNeighbors\n",
    "from sklearn.neighbors import KDTree, BallTree\n",
    "\n",
    "import pandas as pd\n",
    "pd.set_option(\"display.max_columns\", None)\n",
    "pd.set_option('display.max_rows', 100)\n",
    "\n",
    "import matplotlib.ticker                         # here's where the formatter is\n",
    "import os\n",
    "import re\n",
    "import pandas as pd\n",
    "import pickle\n",
    "from collections import OrderedDict\n",
    "\n",
    "plt.rcParams[\"figure.figsize\"] = (4,3)\n",
    "plt.rcParams[\"axes.labelsize\"] = 'xx-large'\n",
    "plt.rcParams['axes.titlesize'] = 'xx-large'\n",
    "plt.rcParams['xtick.labelsize']= 'xx-large'\n",
    "plt.rcParams['ytick.labelsize']= 'xx-large'\n",
    "\n",
    "import scipy\n",
    "from scipy.optimize import curve_fit,least_squares\n",
    "\n",
    "\n",
    "# new color correction model\n",
    "import pickle\n",
    "from scipy.interpolate import RegularGridInterpolator"
   ]
  },
  {
   "cell_type": "code",
   "execution_count": null,
   "id": "0ca0d1e6-5f82-4c43-aaa3-8524fc2bc5ba",
   "metadata": {
    "execution": {
     "iopub.execute_input": "2025-02-10T19:05:36.778128Z",
     "iopub.status.busy": "2025-02-10T19:05:36.777859Z",
     "iopub.status.idle": "2025-02-10T19:05:36.780735Z",
     "shell.execute_reply": "2025-02-10T19:05:36.780393Z",
     "shell.execute_reply.started": "2025-02-10T19:05:36.778114Z"
    }
   },
   "outputs": [],
   "source": [
    "from matplotlib.ticker import (MultipleLocator, FormatStrFormatter,\n",
    "                               AutoMinorLocator)\n",
    "\n",
    "from astropy.visualization import (MinMaxInterval, SqrtStretch,ZScaleInterval,PercentileInterval,\n",
    "                                   ImageNormalize,imshow_norm)\n",
    "from astropy.visualization.stretch import SinhStretch, LinearStretch,AsinhStretch,LogStretch\n",
    "\n",
    "from astropy.time import Time\n"
   ]
  },
  {
   "cell_type": "code",
   "execution_count": null,
   "id": "e189816c-5048-43ab-a01a-7c078af54489",
   "metadata": {
    "execution": {
     "iopub.execute_input": "2025-02-10T19:05:36.781231Z",
     "iopub.status.busy": "2025-02-10T19:05:36.781101Z",
     "iopub.status.idle": "2025-02-10T19:05:36.788430Z",
     "shell.execute_reply": "2025-02-10T19:05:36.788039Z",
     "shell.execute_reply.started": "2025-02-10T19:05:36.781219Z"
    }
   },
   "outputs": [],
   "source": [
    "# Remove this if want to run faster the ntoebook\n",
    "# import ipywidgets as widgets\n",
    "# %matplotlib widget"
   ]
  },
  {
   "cell_type": "code",
   "execution_count": null,
   "id": "67327fd4-e405-45ce-8923-cd46ebaa0c0f",
   "metadata": {
    "execution": {
     "iopub.execute_input": "2025-02-10T19:05:36.788945Z",
     "iopub.status.busy": "2025-02-10T19:05:36.788829Z",
     "iopub.status.idle": "2025-02-10T19:05:36.795365Z",
     "shell.execute_reply": "2025-02-10T19:05:36.795031Z",
     "shell.execute_reply.started": "2025-02-10T19:05:36.788934Z"
    },
    "tags": []
   },
   "outputs": [],
   "source": [
    "from importlib.metadata import version"
   ]
  },
  {
   "cell_type": "code",
   "execution_count": null,
   "id": "af8332dd-24f9-4b19-88f9-c62d0a4aebf1",
   "metadata": {
    "execution": {
     "iopub.execute_input": "2025-02-10T19:05:36.795886Z",
     "iopub.status.busy": "2025-02-10T19:05:36.795755Z",
     "iopub.status.idle": "2025-02-10T19:05:36.802006Z",
     "shell.execute_reply": "2025-02-10T19:05:36.801666Z",
     "shell.execute_reply.started": "2025-02-10T19:05:36.795875Z"
    },
    "tags": []
   },
   "outputs": [],
   "source": [
    "# wavelength bin colors\n",
    "#jet = plt.get_cmap('jet')\n",
    "#cNorm = mpl.colors.Normalize(vmin=0, vmax=NSED)\n",
    "#scalarMap = cmx.ScalarMappable(norm=cNorm, cmap=jet)\n",
    "#all_colors = scalarMap.to_rgba(np.arange(NSED), alpha=1)"
   ]
  },
  {
   "cell_type": "code",
   "execution_count": null,
   "id": "bbbdecce-c9e0-4fce-8225-72f30e21bd16",
   "metadata": {
    "execution": {
     "iopub.execute_input": "2025-02-10T19:05:36.802528Z",
     "iopub.status.busy": "2025-02-10T19:05:36.802409Z",
     "iopub.status.idle": "2025-02-10T19:05:36.808968Z",
     "shell.execute_reply": "2025-02-10T19:05:36.808630Z",
     "shell.execute_reply.started": "2025-02-10T19:05:36.802517Z"
    }
   },
   "outputs": [],
   "source": [
    "def convertNumToDatestr(num):\n",
    "    year = num//10_000\n",
    "    month= (num-year*10_000)//100\n",
    "    day = (num-year*10_000-month*100)\n",
    "\n",
    "    year_str = str(year).zfill(4)\n",
    "    month_str = str(month).zfill(2)\n",
    "    day_str = str(day).zfill(2)\n",
    "    \n",
    "    datestr = f\"{year_str}-{month_str}-{day_str}\"\n",
    "    return pd.to_datetime(datestr)"
   ]
  },
  {
   "cell_type": "markdown",
   "id": "4f13d6a3-7793-4bc0-920a-1d690d9f84b2",
   "metadata": {},
   "source": [
    "## Configuration"
   ]
  },
  {
   "cell_type": "code",
   "execution_count": null,
   "id": "f347c2f4-5a6d-4782-9180-c798441f534c",
   "metadata": {
    "execution": {
     "iopub.execute_input": "2025-02-10T19:05:36.809468Z",
     "iopub.status.busy": "2025-02-10T19:05:36.809339Z",
     "iopub.status.idle": "2025-02-10T19:05:36.815088Z",
     "shell.execute_reply": "2025-02-10T19:05:36.814746Z",
     "shell.execute_reply.started": "2025-02-10T19:05:36.809456Z"
    }
   },
   "outputs": [],
   "source": [
    "FLAG_WITHCOLLIMATOR = True"
   ]
  },
  {
   "cell_type": "code",
   "execution_count": null,
   "id": "049d4ead-328c-483b-a26c-b735d4c96fff",
   "metadata": {
    "execution": {
     "iopub.execute_input": "2025-02-10T19:05:36.815677Z",
     "iopub.status.busy": "2025-02-10T19:05:36.815549Z",
     "iopub.status.idle": "2025-02-10T19:05:36.822701Z",
     "shell.execute_reply": "2025-02-10T19:05:36.822376Z",
     "shell.execute_reply.started": "2025-02-10T19:05:36.815665Z"
    }
   },
   "outputs": [],
   "source": [
    "FLAG_WITHCOLLIMATOR = True\n",
    "DATE_WITHCOLLIMATOR = 20230930\n",
    "datetime_WITHCOLLIMATOR = convertNumToDatestr(DATE_WITHCOLLIMATOR)\n",
    "datetime_WITHCOLLIMATOR = pd.to_datetime(\"2023-09-30 00:00:00.0+0000\")\n",
    "datetime_WITHCOLLIMATOR"
   ]
  },
  {
   "cell_type": "code",
   "execution_count": null,
   "id": "51b1b66a-2db6-4ed9-801a-f615701e6baa",
   "metadata": {
    "execution": {
     "iopub.execute_input": "2025-02-10T19:05:36.823226Z",
     "iopub.status.busy": "2025-02-10T19:05:36.823094Z",
     "iopub.status.idle": "2025-02-10T19:05:36.828757Z",
     "shell.execute_reply": "2025-02-10T19:05:36.828403Z",
     "shell.execute_reply.started": "2025-02-10T19:05:36.823214Z"
    }
   },
   "outputs": [],
   "source": [
    "version_results = \"v5\"\n",
    "legendtag = {\"v1\" : \"old v3.1.0\",\n",
    "            \"v2\" : \"v3.1.0-PWV<10mm\",\n",
    "            \"v3\" : \"v3.1.0-PWV<15mm\",\n",
    "            \"v4\" : \"Auxtel holo v3.1.0\",\n",
    "            \"v5\" : \"Auxtel holo v3.1.0 09/22 - 10/24\"}"
   ]
  },
  {
   "cell_type": "code",
   "execution_count": null,
   "id": "0da5b88c-eb55-4f34-9336-b38c360c92cc",
   "metadata": {
    "execution": {
     "iopub.execute_input": "2025-02-10T19:05:36.829285Z",
     "iopub.status.busy": "2025-02-10T19:05:36.829156Z",
     "iopub.status.idle": "2025-02-10T19:05:36.835309Z",
     "shell.execute_reply": "2025-02-10T19:05:36.834944Z",
     "shell.execute_reply.started": "2025-02-10T19:05:36.829274Z"
    }
   },
   "outputs": [],
   "source": [
    "atmfilenamesdict = {\"v1\" : \"data/spectro/auxtel_atmosphere_202301_v3.1.0_doSensorFlat_rebin2_testWithMaskedEdges_newBoundaries_newPolysRescaled_newFitBounds_adjustA1_lockedOrder2_removeThroughputTails_2.npy\",\n",
    "                    \"v2\" : \"auxtel_atmosphere_202301_v3.1.0_doSensorFlat_rebin2_lockedOrder2_FixA1_FixA2_FitAngstrom_FixA1_FixA2_FitAngstrom_WithGaia_freePressure_newThroughput6_BG40Scaled1.09_PeekFinder.npy\",\n",
    "                    \"v3\" : \"u_dagoret_auxtel_atmosphere_202301_v3.1.0_doSensorFlat_rebin2_lockedOrder2_FixA1_FixA2_FitAngstrom_WithGaia_freePressure_newThroughput6_BG40Scaled1.09_AtmoFitPressureA2_SpecErr_PeekFinder_20240924T161119Z.npy\",\n",
    "                    \"v4\" : \"u_dagoret_auxtel_atmosphere_202301_v3.1.0_doSensorFlat_rebin2_lockedOrder2_FixA1_FixA2_FitAngstrom_WithGaia_freePressure_newThroughput6_BG40Scaled1.09_AtmoFitPressureA2_SpecErr_PeekFinder_20240924T161119Z_spectrfullextend.npy\",\n",
    "                    \"v5\" : \"u_dagoret_auxtel_atmosphere_202209_v3.1.0_doSensorFlat_rebin2_lockedOrder2_FixA1_FixA2_FitAngstrom_WithGaia_freePressure_newThroughput6_BG40Scaled1.09_AtmoFitPressureA2_SpecErr_No5SigmaClip_20241016T184601Z_spectrfullextended.npy\"}"
   ]
  },
  {
   "cell_type": "code",
   "execution_count": null,
   "id": "a2a9c11f-05b8-4465-b96a-3f18d81572f0",
   "metadata": {
    "execution": {
     "iopub.execute_input": "2025-02-10T19:05:36.835841Z",
     "iopub.status.busy": "2025-02-10T19:05:36.835722Z",
     "iopub.status.idle": "2025-02-10T19:05:36.841943Z",
     "shell.execute_reply": "2025-02-10T19:05:36.841462Z",
     "shell.execute_reply.started": "2025-02-10T19:05:36.835830Z"
    }
   },
   "outputs": [],
   "source": [
    "atmfilename = atmfilenamesdict[version_results]\n",
    "tag = legendtag[version_results] "
   ]
  },
  {
   "cell_type": "markdown",
   "id": "f7458eb3-ece8-4c6d-969e-ee8edc0bcbef",
   "metadata": {},
   "source": [
    "## Initialisation"
   ]
  },
  {
   "cell_type": "markdown",
   "id": "862ec9d0-2c81-4fda-8a5a-4ba1d24fb1b0",
   "metadata": {},
   "source": [
    "### Read the file"
   ]
  },
  {
   "cell_type": "code",
   "execution_count": null,
   "id": "ad60336b-f26f-4184-bcdf-e596329ecbbd",
   "metadata": {
    "execution": {
     "iopub.execute_input": "2025-02-10T19:05:36.842493Z",
     "iopub.status.busy": "2025-02-10T19:05:36.842374Z",
     "iopub.status.idle": "2025-02-10T19:05:37.054164Z",
     "shell.execute_reply": "2025-02-10T19:05:37.053705Z",
     "shell.execute_reply.started": "2025-02-10T19:05:36.842482Z"
    }
   },
   "outputs": [],
   "source": [
    "specdata = np.load(atmfilename,allow_pickle=True)"
   ]
  },
  {
   "cell_type": "code",
   "execution_count": null,
   "id": "3d9c7249-f818-4a98-8000-9be75b3c7a21",
   "metadata": {
    "execution": {
     "iopub.execute_input": "2025-02-10T19:05:37.054834Z",
     "iopub.status.busy": "2025-02-10T19:05:37.054694Z",
     "iopub.status.idle": "2025-02-10T19:05:37.140185Z",
     "shell.execute_reply": "2025-02-10T19:05:37.139748Z",
     "shell.execute_reply.started": "2025-02-10T19:05:37.054821Z"
    }
   },
   "outputs": [],
   "source": [
    "df_spec = pd.DataFrame(specdata)"
   ]
  },
  {
   "cell_type": "markdown",
   "id": "18c6084d-c8db-4275-a950-1b8a355c6dec",
   "metadata": {},
   "source": [
    "### Compute NightObs"
   ]
  },
  {
   "cell_type": "code",
   "execution_count": null,
   "id": "4de5d570-2e92-468b-ab07-63fffd8d2b8c",
   "metadata": {
    "execution": {
     "iopub.execute_input": "2025-02-10T19:05:37.140769Z",
     "iopub.status.busy": "2025-02-10T19:05:37.140645Z",
     "iopub.status.idle": "2025-02-10T19:05:37.196574Z",
     "shell.execute_reply": "2025-02-10T19:05:37.196111Z",
     "shell.execute_reply.started": "2025-02-10T19:05:37.140757Z"
    }
   },
   "outputs": [],
   "source": [
    "df_spec[\"nightObs\"] = df_spec.apply(lambda x: x['id']//100_000, axis=1)"
   ]
  },
  {
   "cell_type": "code",
   "execution_count": null,
   "id": "4c5c927a-3f57-4d16-9d2e-79a6f22394ee",
   "metadata": {
    "execution": {
     "iopub.execute_input": "2025-02-10T19:05:37.199614Z",
     "iopub.status.busy": "2025-02-10T19:05:37.199230Z",
     "iopub.status.idle": "2025-02-10T19:05:37.204587Z",
     "shell.execute_reply": "2025-02-10T19:05:37.204194Z",
     "shell.execute_reply.started": "2025-02-10T19:05:37.199599Z"
    }
   },
   "outputs": [],
   "source": [
    "if FLAG_WITHCOLLIMATOR:\n",
    "    df_spec = df_spec[df_spec[\"nightObs\"]> 20230930]"
   ]
  },
  {
   "cell_type": "markdown",
   "id": "a169fe26-d26c-4b91-81e2-f0d7545e723a",
   "metadata": {},
   "source": [
    "#### Series on spec"
   ]
  },
  {
   "cell_type": "code",
   "execution_count": null,
   "id": "49c29905-817c-4fe8-ae2e-93351e765333",
   "metadata": {
    "execution": {
     "iopub.execute_input": "2025-02-10T19:05:37.205186Z",
     "iopub.status.busy": "2025-02-10T19:05:37.205050Z",
     "iopub.status.idle": "2025-02-10T19:05:37.209563Z",
     "shell.execute_reply": "2025-02-10T19:05:37.209194Z",
     "shell.execute_reply.started": "2025-02-10T19:05:37.205166Z"
    },
    "tags": []
   },
   "outputs": [],
   "source": [
    "ser_spec_size = df_spec.groupby([\"nightObs\"]).size()"
   ]
  },
  {
   "cell_type": "code",
   "execution_count": null,
   "id": "6ce22f7e-bf6b-470a-af72-325d4a0077ab",
   "metadata": {
    "execution": {
     "iopub.execute_input": "2025-02-10T19:05:37.210125Z",
     "iopub.status.busy": "2025-02-10T19:05:37.209993Z",
     "iopub.status.idle": "2025-02-10T19:05:37.326889Z",
     "shell.execute_reply": "2025-02-10T19:05:37.326431Z",
     "shell.execute_reply.started": "2025-02-10T19:05:37.210113Z"
    }
   },
   "outputs": [],
   "source": [
    "fig,ax = plt.subplots(1,1)\n",
    "ax.hist(ser_spec_size.values,bins=50,facecolor=\"b\")\n",
    "ax.set_title(\"nb obs per night\")\n",
    "ax.set_xlabel(\"Nobs/night\")"
   ]
  },
  {
   "cell_type": "markdown",
   "id": "1ab48a04-9369-4cc5-bcc4-102bc5eb6965",
   "metadata": {},
   "source": [
    "##### Make 3 series"
   ]
  },
  {
   "cell_type": "code",
   "execution_count": null,
   "id": "faff0c81-88d9-466b-808c-801800256275",
   "metadata": {
    "execution": {
     "iopub.execute_input": "2025-02-10T19:05:37.327537Z",
     "iopub.status.busy": "2025-02-10T19:05:37.327400Z",
     "iopub.status.idle": "2025-02-10T19:05:37.340311Z",
     "shell.execute_reply": "2025-02-10T19:05:37.339919Z",
     "shell.execute_reply.started": "2025-02-10T19:05:37.327525Z"
    },
    "tags": []
   },
   "outputs": [],
   "source": [
    "ser_CHI2_FIT = df_spec[[\"CHI2_FIT\",\"nightObs\"]].groupby([\"nightObs\"]).agg(['count','min', 'max','mean','std','median'])\n",
    "ser_O3 = df_spec[[\"ozone [db]_x\",\"nightObs\"]].groupby([\"nightObs\"]).agg(['count','min', 'max','mean','std','median'])\n",
    "ser_O3_CHI2_FIT = df_spec[[\"ozone [db]_x\",\"CHI2_FIT\",\"nightObs\"]].groupby([\"nightObs\"]).agg(['count','min', 'max','mean','std','median'])"
   ]
  },
  {
   "cell_type": "code",
   "execution_count": null,
   "id": "e26f48e9-02dd-4cdd-abf1-11fc5d0ccd0d",
   "metadata": {
    "execution": {
     "iopub.execute_input": "2025-02-10T19:05:37.340909Z",
     "iopub.status.busy": "2025-02-10T19:05:37.340787Z",
     "iopub.status.idle": "2025-02-10T19:05:37.343203Z",
     "shell.execute_reply": "2025-02-10T19:05:37.342817Z",
     "shell.execute_reply.started": "2025-02-10T19:05:37.340897Z"
    }
   },
   "outputs": [],
   "source": [
    "#ser_O3"
   ]
  },
  {
   "cell_type": "code",
   "execution_count": null,
   "id": "31cd0a79-1b0b-4af3-8f7f-eb01342048ca",
   "metadata": {
    "execution": {
     "iopub.execute_input": "2025-02-10T19:05:37.343720Z",
     "iopub.status.busy": "2025-02-10T19:05:37.343600Z",
     "iopub.status.idle": "2025-02-10T19:05:37.349672Z",
     "shell.execute_reply": "2025-02-10T19:05:37.349303Z",
     "shell.execute_reply.started": "2025-02-10T19:05:37.343709Z"
    },
    "tags": []
   },
   "outputs": [],
   "source": [
    "#ser_CHI2_FIT"
   ]
  },
  {
   "cell_type": "code",
   "execution_count": null,
   "id": "3429f0df-af66-4c8b-9e1f-ca934fc2dc13",
   "metadata": {
    "execution": {
     "iopub.execute_input": "2025-02-10T19:05:37.350182Z",
     "iopub.status.busy": "2025-02-10T19:05:37.350059Z",
     "iopub.status.idle": "2025-02-10T19:05:37.356338Z",
     "shell.execute_reply": "2025-02-10T19:05:37.355957Z",
     "shell.execute_reply.started": "2025-02-10T19:05:37.350164Z"
    },
    "tags": []
   },
   "outputs": [],
   "source": [
    "#ser_O3_CHI2_FIT "
   ]
  },
  {
   "cell_type": "markdown",
   "id": "d7c4cd36-ab87-41c0-a25a-e48cb8bee9e7",
   "metadata": {},
   "source": [
    "### Plot Ozone and Chi2 before anly selection"
   ]
  },
  {
   "cell_type": "code",
   "execution_count": null,
   "id": "80317b40-62e1-4b9d-9411-ddca229fa9aa",
   "metadata": {
    "execution": {
     "iopub.execute_input": "2025-02-10T19:05:37.356868Z",
     "iopub.status.busy": "2025-02-10T19:05:37.356750Z",
     "iopub.status.idle": "2025-02-10T19:05:37.989688Z",
     "shell.execute_reply": "2025-02-10T19:05:37.989298Z",
     "shell.execute_reply.started": "2025-02-10T19:05:37.356857Z"
    },
    "tags": []
   },
   "outputs": [],
   "source": [
    "fig,ax = plt.subplots(1,1,figsize=(18,3))\n",
    "ser_O3.unstack()[\"ozone [db]_x\"][\"count\"].plot(kind='bar', ax=ax,subplots=False, rot=90,figsize=(18,4),facecolor=\"b\",grid=True,title=\"Number of measurements per night\")\n",
    "plt.tight_layout()"
   ]
  },
  {
   "cell_type": "code",
   "execution_count": null,
   "id": "c8bfe4d6-fe88-4187-be0f-29be89a45523",
   "metadata": {
    "execution": {
     "iopub.execute_input": "2025-02-10T19:05:37.990335Z",
     "iopub.status.busy": "2025-02-10T19:05:37.990196Z",
     "iopub.status.idle": "2025-02-10T19:05:38.676725Z",
     "shell.execute_reply": "2025-02-10T19:05:38.676320Z",
     "shell.execute_reply.started": "2025-02-10T19:05:37.990323Z"
    },
    "tags": []
   },
   "outputs": [],
   "source": [
    "fig,ax = plt.subplots(1,1,figsize=(18,3))\n",
    "ser_O3.unstack()[\"ozone [db]_x\"][\"mean\"].plot(kind='bar',ax=ax ,subplots=False, rot=90,figsize=(18,4),facecolor='b',grid=True,title=\"Mean Ozone per night\")\n",
    "plt.tight_layout()"
   ]
  },
  {
   "cell_type": "code",
   "execution_count": null,
   "id": "e3e93140-4e76-41ec-8670-2043771a7e00",
   "metadata": {
    "execution": {
     "iopub.execute_input": "2025-02-10T19:05:38.677329Z",
     "iopub.status.busy": "2025-02-10T19:05:38.677168Z",
     "iopub.status.idle": "2025-02-10T19:05:39.239120Z",
     "shell.execute_reply": "2025-02-10T19:05:39.238634Z",
     "shell.execute_reply.started": "2025-02-10T19:05:38.677313Z"
    },
    "tags": []
   },
   "outputs": [],
   "source": [
    "fig,ax = plt.subplots(1,1,figsize=(18,3))\n",
    "ser_O3.unstack()[\"ozone [db]_x\"][\"median\"].plot(kind='bar',ax=ax ,subplots=False, rot=90,figsize=(18,4),facecolor='b',grid=True,title=\"Median Ozone per night\")\n",
    "plt.tight_layout()"
   ]
  },
  {
   "cell_type": "code",
   "execution_count": null,
   "id": "67e69917-efb7-40f3-9a4c-1b9d579e9cad",
   "metadata": {
    "execution": {
     "iopub.execute_input": "2025-02-10T19:05:39.239778Z",
     "iopub.status.busy": "2025-02-10T19:05:39.239645Z",
     "iopub.status.idle": "2025-02-10T19:05:39.841362Z",
     "shell.execute_reply": "2025-02-10T19:05:39.840946Z",
     "shell.execute_reply.started": "2025-02-10T19:05:39.239766Z"
    },
    "tags": []
   },
   "outputs": [],
   "source": [
    "fig,ax = plt.subplots(1,1,figsize=(18,3))\n",
    "ser_O3.unstack()[\"ozone [db]_x\"][\"std\"].plot(kind='bar', subplots=False, rot=90,figsize=(18,4),facecolor='b',grid=True,title=\"STD variation for Ozone per night\")\n",
    "plt.tight_layout()"
   ]
  },
  {
   "cell_type": "code",
   "execution_count": null,
   "id": "a20e0562-16d6-4e90-a167-0d858327d347",
   "metadata": {
    "execution": {
     "iopub.execute_input": "2025-02-10T19:05:39.841986Z",
     "iopub.status.busy": "2025-02-10T19:05:39.841854Z",
     "iopub.status.idle": "2025-02-10T19:05:40.445578Z",
     "shell.execute_reply": "2025-02-10T19:05:40.445198Z",
     "shell.execute_reply.started": "2025-02-10T19:05:39.841974Z"
    },
    "tags": []
   },
   "outputs": [],
   "source": [
    "fig,ax = plt.subplots(1,1,figsize=(18,3))\n",
    "ser_CHI2_FIT.unstack()[\"CHI2_FIT\"][\"count\"].plot(kind='bar', ax=ax,subplots=False, rot=90,figsize=(18,4),facecolor=\"r\",grid=True,title=\"Number of measurements per night\")\n",
    "plt.tight_layout()"
   ]
  },
  {
   "cell_type": "code",
   "execution_count": null,
   "id": "be19fd80-6fd1-41ad-ae5a-224b4655b51d",
   "metadata": {
    "execution": {
     "iopub.execute_input": "2025-02-10T19:05:40.446139Z",
     "iopub.status.busy": "2025-02-10T19:05:40.446008Z",
     "iopub.status.idle": "2025-02-10T19:05:41.141194Z",
     "shell.execute_reply": "2025-02-10T19:05:41.140810Z",
     "shell.execute_reply.started": "2025-02-10T19:05:40.446127Z"
    },
    "tags": []
   },
   "outputs": [],
   "source": [
    "fig,ax = plt.subplots(1,1,figsize=(18,3))\n",
    "ser_CHI2_FIT.unstack()[\"CHI2_FIT\"][\"mean\"].plot(kind='bar',ax=ax ,subplots=False, rot=90,figsize=(18,4),facecolor='r',grid=True,title=\"Mean CHI2 per night\")\n",
    "plt.tight_layout()"
   ]
  },
  {
   "cell_type": "code",
   "execution_count": null,
   "id": "6c7ff0b5-3c40-4921-9c2f-9455c51e99a5",
   "metadata": {
    "execution": {
     "iopub.execute_input": "2025-02-10T19:05:41.141747Z",
     "iopub.status.busy": "2025-02-10T19:05:41.141624Z",
     "iopub.status.idle": "2025-02-10T19:05:41.726542Z",
     "shell.execute_reply": "2025-02-10T19:05:41.726100Z",
     "shell.execute_reply.started": "2025-02-10T19:05:41.141735Z"
    },
    "tags": []
   },
   "outputs": [],
   "source": [
    "fig,ax = plt.subplots(1,1,figsize=(18,3))\n",
    "ser_CHI2_FIT.unstack()[\"CHI2_FIT\"][\"median\"].plot(kind='bar',ax=ax ,subplots=False, rot=90,figsize=(18,4),facecolor='r',grid=True,title=\"Median CHI2 per night\")\n",
    "plt.tight_layout()"
   ]
  },
  {
   "cell_type": "code",
   "execution_count": null,
   "id": "f1cefb7f-ed65-45a4-9f92-5655081afe10",
   "metadata": {
    "execution": {
     "iopub.execute_input": "2025-02-10T19:05:41.727308Z",
     "iopub.status.busy": "2025-02-10T19:05:41.727158Z",
     "iopub.status.idle": "2025-02-10T19:05:42.305929Z",
     "shell.execute_reply": "2025-02-10T19:05:42.305522Z",
     "shell.execute_reply.started": "2025-02-10T19:05:41.727296Z"
    },
    "tags": []
   },
   "outputs": [],
   "source": [
    "fig,ax = plt.subplots(1,1,figsize=(18,3))\n",
    "ser_CHI2_FIT.unstack()[\"CHI2_FIT\"][\"std\"].plot(kind='bar',ax=ax ,subplots=False, rot=90,figsize=(18,4),facecolor='r',grid=True,title=\"STD variation CHI2 per night\")\n",
    "plt.tight_layout()"
   ]
  },
  {
   "cell_type": "code",
   "execution_count": null,
   "id": "90ead6bb-6366-4927-beca-79f8fc1b4477",
   "metadata": {
    "execution": {
     "iopub.execute_input": "2025-02-10T19:05:42.306571Z",
     "iopub.status.busy": "2025-02-10T19:05:42.306432Z",
     "iopub.status.idle": "2025-02-10T19:05:42.308664Z",
     "shell.execute_reply": "2025-02-10T19:05:42.308316Z",
     "shell.execute_reply.started": "2025-02-10T19:05:42.306558Z"
    },
    "tags": []
   },
   "outputs": [],
   "source": [
    "#ser_O3_CHI2_FIT "
   ]
  },
  {
   "cell_type": "code",
   "execution_count": null,
   "id": "702a26c1-4b22-4b1c-9f8b-ebd3f2de61a1",
   "metadata": {
    "execution": {
     "iopub.execute_input": "2025-02-10T19:05:42.309369Z",
     "iopub.status.busy": "2025-02-10T19:05:42.309083Z",
     "iopub.status.idle": "2025-02-10T19:05:42.318631Z",
     "shell.execute_reply": "2025-02-10T19:05:42.318292Z",
     "shell.execute_reply.started": "2025-02-10T19:05:42.309357Z"
    },
    "tags": []
   },
   "outputs": [],
   "source": [
    "ser_O3_CHI2_FIT.loc[20231010,:]"
   ]
  },
  {
   "cell_type": "code",
   "execution_count": null,
   "id": "c463654d-ce69-48fb-b14d-0d466258f917",
   "metadata": {
    "execution": {
     "iopub.execute_input": "2025-02-10T19:05:42.319204Z",
     "iopub.status.busy": "2025-02-10T19:05:42.319072Z",
     "iopub.status.idle": "2025-02-10T19:05:42.331733Z",
     "shell.execute_reply": "2025-02-10T19:05:42.331413Z",
     "shell.execute_reply.started": "2025-02-10T19:05:42.319190Z"
    },
    "tags": []
   },
   "outputs": [],
   "source": [
    "df_unstack = ser_O3_CHI2_FIT.loc[20231010,:].unstack()\n",
    "df_unstack"
   ]
  },
  {
   "cell_type": "code",
   "execution_count": null,
   "id": "665aeaea-a974-4cac-95bc-14ef9d4298c5",
   "metadata": {
    "execution": {
     "iopub.execute_input": "2025-02-10T19:05:42.332265Z",
     "iopub.status.busy": "2025-02-10T19:05:42.332126Z",
     "iopub.status.idle": "2025-02-10T19:05:42.335573Z",
     "shell.execute_reply": "2025-02-10T19:05:42.335194Z",
     "shell.execute_reply.started": "2025-02-10T19:05:42.332251Z"
    },
    "tags": []
   },
   "outputs": [],
   "source": [
    "ser_O3_CHI2_FIT.loc[20231010,\"ozone [db]_x\"][\"count\"]"
   ]
  },
  {
   "cell_type": "code",
   "execution_count": null,
   "id": "005f6704-1ee2-403f-bfc7-e07e311cbb31",
   "metadata": {
    "execution": {
     "iopub.execute_input": "2025-02-10T19:05:42.336105Z",
     "iopub.status.busy": "2025-02-10T19:05:42.335987Z",
     "iopub.status.idle": "2025-02-10T19:05:42.342581Z",
     "shell.execute_reply": "2025-02-10T19:05:42.342165Z",
     "shell.execute_reply.started": "2025-02-10T19:05:42.336094Z"
    },
    "tags": []
   },
   "outputs": [],
   "source": [
    "df_unstack.loc[\"ozone [db]_x\",\"count\"]"
   ]
  },
  {
   "cell_type": "markdown",
   "id": "25efd6a8-35a5-4cbf-bf75-0a4131cdf1ba",
   "metadata": {},
   "source": [
    "#### Add aggregate data added to pandas dataframe"
   ]
  },
  {
   "cell_type": "code",
   "execution_count": null,
   "id": "6c777a31-67c1-4466-8808-e975dda49994",
   "metadata": {
    "execution": {
     "iopub.execute_input": "2025-02-10T19:05:42.343140Z",
     "iopub.status.busy": "2025-02-10T19:05:42.343021Z",
     "iopub.status.idle": "2025-02-10T19:05:42.350459Z",
     "shell.execute_reply": "2025-02-10T19:05:42.350028Z",
     "shell.execute_reply.started": "2025-02-10T19:05:42.343129Z"
    },
    "tags": []
   },
   "outputs": [],
   "source": [
    "def FillAgreggates(row):\n",
    "    the_nightObs = row[\"nightObs\"]\n",
    "    df_night = ser_O3_CHI2_FIT.loc[the_nightObs,:].unstack()\n",
    "    count = df_night.loc[\"ozone [db]_x\",\"count\"]\n",
    "    o3min = df_night.loc[\"ozone [db]_x\",\"min\"]\n",
    "    o3max = df_night.loc[\"ozone [db]_x\",\"max\"]\n",
    "    o3mean = df_night.loc[\"ozone [db]_x\",\"mean\"]\n",
    "    o3median = df_night.loc[\"ozone [db]_x\",\"median\"]\n",
    "    o3std = df_night.loc[\"ozone [db]_x\",\"std\"]\n",
    "    chi2min = df_night.loc[\"CHI2_FIT\",\"min\"]\n",
    "    chi2max = df_night.loc[\"CHI2_FIT\",\"max\"]\n",
    "    chi2mean = df_night.loc[\"CHI2_FIT\",\"mean\"]\n",
    "    chi2median = df_night.loc[\"CHI2_FIT\",\"median\"]\n",
    "    chi2std = df_night.loc[\"CHI2_FIT\",\"std\"]\n",
    "    \n",
    "    d = {\"_count\":count,\"_o3min\":o3min,\"_o3max\":o3max,\"_o3mean\":o3mean,\"_o3median\":o3median,\"_o3std\":o3std,\n",
    "        \"_chi2min\":chi2min,\"_chi2max\":chi2max,\"_chi2mean\":chi2mean,\"_chi2median\":chi2median,\"_chi2std\":chi2std}\n",
    "    \n",
    "    ser = pd.Series(data=d)\n",
    "\n",
    "    return ser\n",
    "    "
   ]
  },
  {
   "cell_type": "code",
   "execution_count": null,
   "id": "3fe7741b-b438-4fbd-b881-1cab01ee9d92",
   "metadata": {
    "execution": {
     "iopub.execute_input": "2025-02-10T19:05:42.351034Z",
     "iopub.status.busy": "2025-02-10T19:05:42.350917Z",
     "iopub.status.idle": "2025-02-10T19:05:42.356863Z",
     "shell.execute_reply": "2025-02-10T19:05:42.356510Z",
     "shell.execute_reply.started": "2025-02-10T19:05:42.351023Z"
    },
    "tags": []
   },
   "outputs": [],
   "source": [
    "row = df_spec.iloc[0]"
   ]
  },
  {
   "cell_type": "code",
   "execution_count": null,
   "id": "f001cb73-c1c5-4019-a8ae-b148aeec0bf7",
   "metadata": {
    "execution": {
     "iopub.execute_input": "2025-02-10T19:05:42.357385Z",
     "iopub.status.busy": "2025-02-10T19:05:42.357266Z",
     "iopub.status.idle": "2025-02-10T19:05:42.364288Z",
     "shell.execute_reply": "2025-02-10T19:05:42.363927Z",
     "shell.execute_reply.started": "2025-02-10T19:05:42.357374Z"
    },
    "tags": []
   },
   "outputs": [],
   "source": [
    "row"
   ]
  },
  {
   "cell_type": "code",
   "execution_count": null,
   "id": "c2a13cbb-fe9f-45ef-be3c-53d345da591d",
   "metadata": {
    "execution": {
     "iopub.execute_input": "2025-02-10T19:05:42.364787Z",
     "iopub.status.busy": "2025-02-10T19:05:42.364670Z",
     "iopub.status.idle": "2025-02-10T19:05:42.371964Z",
     "shell.execute_reply": "2025-02-10T19:05:42.371624Z",
     "shell.execute_reply.started": "2025-02-10T19:05:42.364776Z"
    },
    "tags": []
   },
   "outputs": [],
   "source": [
    "FillAgreggates(row)"
   ]
  },
  {
   "cell_type": "markdown",
   "id": "2d738135-cd0b-4476-813d-2622d322ced7",
   "metadata": {},
   "source": [
    "#### join dataframe + aggregates"
   ]
  },
  {
   "cell_type": "code",
   "execution_count": null,
   "id": "7078b47e-2d0a-40bc-b225-c321abd1af88",
   "metadata": {
    "execution": {
     "iopub.execute_input": "2025-02-10T19:05:42.372491Z",
     "iopub.status.busy": "2025-02-10T19:05:42.372373Z",
     "iopub.status.idle": "2025-02-10T19:05:44.397445Z",
     "shell.execute_reply": "2025-02-10T19:05:44.396911Z",
     "shell.execute_reply.started": "2025-02-10T19:05:42.372479Z"
    },
    "tags": []
   },
   "outputs": [],
   "source": [
    "df_spec = df_spec.join(df_spec.apply(FillAgreggates,axis=1,result_type=\"expand\"))"
   ]
  },
  {
   "cell_type": "markdown",
   "id": "a4f8b443-4bc5-46fc-a548-33441edee6da",
   "metadata": {},
   "source": [
    "## Apply Quality selection"
   ]
  },
  {
   "cell_type": "code",
   "execution_count": null,
   "id": "2325b3ff-29c2-445a-b25e-cc11aba4f45a",
   "metadata": {
    "execution": {
     "iopub.execute_input": "2025-02-10T19:05:44.398325Z",
     "iopub.status.busy": "2025-02-10T19:05:44.397949Z",
     "iopub.status.idle": "2025-02-10T19:05:44.596033Z",
     "shell.execute_reply": "2025-02-10T19:05:44.595622Z",
     "shell.execute_reply.started": "2025-02-10T19:05:44.398311Z"
    },
    "tags": []
   },
   "outputs": [],
   "source": [
    "fig,ax = plt.subplots(1,1)\n",
    "df_spec[\"CHI2_FIT\"].hist(bins=50,ax=ax,range=(0,200))\n",
    "ax.set_yscale(\"log\")"
   ]
  },
  {
   "cell_type": "markdown",
   "id": "bed85d32-aad9-4eb1-9927-2672e2e0b237",
   "metadata": {},
   "source": [
    "### Add the Time in pd.datetime"
   ]
  },
  {
   "cell_type": "code",
   "execution_count": null,
   "id": "0d10c1ad-c5dc-4487-baa9-7c71ec531f45",
   "metadata": {
    "execution": {
     "iopub.execute_input": "2025-02-10T19:05:44.596615Z",
     "iopub.status.busy": "2025-02-10T19:05:44.596487Z",
     "iopub.status.idle": "2025-02-10T19:05:44.601120Z",
     "shell.execute_reply": "2025-02-10T19:05:44.600589Z",
     "shell.execute_reply.started": "2025-02-10T19:05:44.596603Z"
    }
   },
   "outputs": [],
   "source": [
    "df_spec[\"Time\"] = pd.to_datetime(df_spec[\"DATE-OBS\"])"
   ]
  },
  {
   "cell_type": "markdown",
   "id": "96512b2a-93e2-4911-a11f-530f4d13229a",
   "metadata": {},
   "source": [
    "## Compute night boundaries"
   ]
  },
  {
   "cell_type": "code",
   "execution_count": null,
   "id": "c6d2eb8d-e7ab-4c45-8db9-07706079d932",
   "metadata": {
    "execution": {
     "iopub.execute_input": "2025-02-10T19:05:44.601775Z",
     "iopub.status.busy": "2025-02-10T19:05:44.601650Z",
     "iopub.status.idle": "2025-02-10T19:05:44.608088Z",
     "shell.execute_reply": "2025-02-10T19:05:44.607701Z",
     "shell.execute_reply.started": "2025-02-10T19:05:44.601762Z"
    }
   },
   "outputs": [],
   "source": [
    "def GetNightBoundariesDict(df_spec):\n",
    "    \"\"\"\n",
    "    input:\n",
    "      df_spec the dataframe for spectroscopy summary results\n",
    "    output:\n",
    "      the dict of night boudaries\n",
    "    \"\"\"\n",
    "    \n",
    "    Dt = pd.Timedelta(minutes=30)\n",
    "    d = {}\n",
    "    list_of_nightobs = df_spec[\"nightObs\"].unique()\n",
    "    for nightobs in list_of_nightobs:\n",
    "        sel_flag = df_spec[\"nightObs\"]== nightobs\n",
    "        df_night = df_spec[sel_flag]\n",
    "        tmin = df_night[\"Time\"].min()-Dt\n",
    "        tmax = df_night[\"Time\"].max()+Dt\n",
    "        d[nightobs] = (tmin,tmax)\n",
    "    return d"
   ]
  },
  {
   "cell_type": "code",
   "execution_count": null,
   "id": "1d501ce6-4b93-445f-b2f1-9ebdb5fe2dbc",
   "metadata": {
    "execution": {
     "iopub.execute_input": "2025-02-10T19:05:44.608645Z",
     "iopub.status.busy": "2025-02-10T19:05:44.608522Z",
     "iopub.status.idle": "2025-02-10T19:05:44.664208Z",
     "shell.execute_reply": "2025-02-10T19:05:44.663767Z",
     "shell.execute_reply.started": "2025-02-10T19:05:44.608633Z"
    }
   },
   "outputs": [],
   "source": [
    "dn = GetNightBoundariesDict(df_spec)"
   ]
  },
  {
   "cell_type": "markdown",
   "id": "66f5730e-37e1-4ead-ab78-f79dd6273107",
   "metadata": {},
   "source": [
    "## Plot all data"
   ]
  },
  {
   "cell_type": "code",
   "execution_count": null,
   "id": "3fd02994-4a05-4145-8da9-10ac7f5b920a",
   "metadata": {
    "execution": {
     "iopub.execute_input": "2025-02-10T19:05:44.664819Z",
     "iopub.status.busy": "2025-02-10T19:05:44.664688Z",
     "iopub.status.idle": "2025-02-10T19:05:45.013739Z",
     "shell.execute_reply": "2025-02-10T19:05:45.013270Z",
     "shell.execute_reply.started": "2025-02-10T19:05:44.664807Z"
    }
   },
   "outputs": [],
   "source": [
    "from matplotlib.dates import DateFormatter\n",
    "date_form = DateFormatter(\"%y-%m-%dT%H:%M\")\n",
    "fig,axs = plt.subplots(1,1,figsize=(14,6))\n",
    "ax  = axs\n",
    "leg=ax.get_legend()\n",
    "df_spec.plot(x=\"Time\",y=\"ozone [db]_x\",ax=ax,marker='+',c=\"r\",lw=0.0,grid=True,label=tag,legend=leg)\n",
    "ax.set_ylabel(\"ozone [db]_x\")\n",
    "\n",
    "ax.set_xlabel(\"time\")\n",
    "ax.xaxis.set_major_formatter(date_form)\n",
    "ax.set_title(\"Ozone meas by holo vs time\")\n",
    "\n",
    "for key, tt in dn.items():\n",
    "    ax.axvspan(tt[0],tt[1], color='blue', alpha=0.1)\n",
    "\n",
    "plt.tight_layout()"
   ]
  },
  {
   "cell_type": "markdown",
   "id": "564f9a05-b3e2-4d61-9457-cda76ebd2a1b",
   "metadata": {},
   "source": [
    "## Apply Quality selection cuts"
   ]
  },
  {
   "cell_type": "code",
   "execution_count": null,
   "id": "4507d45c-4df8-4ab6-906e-282709ee4048",
   "metadata": {
    "execution": {
     "iopub.execute_input": "2025-02-10T19:05:45.014413Z",
     "iopub.status.busy": "2025-02-10T19:05:45.014283Z",
     "iopub.status.idle": "2025-02-10T19:05:45.017029Z",
     "shell.execute_reply": "2025-02-10T19:05:45.016612Z",
     "shell.execute_reply.started": "2025-02-10T19:05:45.014401Z"
    },
    "tags": []
   },
   "outputs": [],
   "source": [
    "def getSelectionCutOld(df_spec, chi2max=20., o3min=1.0, o3max = 599.):\n",
    "    cut =  (df_spec[\"CHI2_FIT\"]<chi2max) & (df_spec[\"ozone [db]_x\"] > o3min) & (df_spec[\"ozone [db]_x\"] < o3max) \n",
    "    return cut"
   ]
  },
  {
   "cell_type": "code",
   "execution_count": null,
   "id": "fd752275-5e8d-48a2-96eb-65fb41475742",
   "metadata": {
    "execution": {
     "iopub.execute_input": "2025-02-10T19:05:45.017555Z",
     "iopub.status.busy": "2025-02-10T19:05:45.017434Z",
     "iopub.status.idle": "2025-02-10T19:05:45.033856Z",
     "shell.execute_reply": "2025-02-10T19:05:45.033500Z",
     "shell.execute_reply.started": "2025-02-10T19:05:45.017544Z"
    }
   },
   "outputs": [],
   "source": [
    "def getSelectionCut(df_spec, chi2max=20., pwvmin=0.1, pwvmax = 14.9,ozmin=100.,ozmax=600.):\n",
    "    cut =  (df_spec[\"CHI2_FIT\"]<chi2max) & (df_spec[\"PWV [mm]_x\"] > pwvmin) & (df_spec[\"PWV [mm]_x\"] < pwvmax) & (df_spec[\"D2CCD\"]>186.5) &  (df_spec[\"D2CCD\"]<187.3) & \\\n",
    "    (df_spec['EXPTIME'] > 20.) & (df_spec[\"PWV [mm]_y\"] > pwvmin) & (df_spec[\"PWV [mm]_y\"] < pwvmax) & \\\n",
    "    (df_spec[\"ozone [db]_y\"] > ozmin) & (df_spec[\"ozone [db]_y\"] < ozmax) \n",
    "    return cut"
   ]
  },
  {
   "cell_type": "code",
   "execution_count": null,
   "id": "eb50d3a2-717c-49ad-9085-6901f4705903",
   "metadata": {
    "execution": {
     "iopub.execute_input": "2025-02-10T19:05:45.034400Z",
     "iopub.status.busy": "2025-02-10T19:05:45.034282Z",
     "iopub.status.idle": "2025-02-10T19:05:45.041457Z",
     "shell.execute_reply": "2025-02-10T19:05:45.041076Z",
     "shell.execute_reply.started": "2025-02-10T19:05:45.034389Z"
    },
    "tags": []
   },
   "outputs": [],
   "source": [
    "cut = getSelectionCut(df_spec)"
   ]
  },
  {
   "cell_type": "code",
   "execution_count": null,
   "id": "e1cbfa40-4395-47f4-9acf-6a9f531fabd4",
   "metadata": {
    "execution": {
     "iopub.execute_input": "2025-02-10T19:05:45.041976Z",
     "iopub.status.busy": "2025-02-10T19:05:45.041853Z",
     "iopub.status.idle": "2025-02-10T19:05:45.050760Z",
     "shell.execute_reply": "2025-02-10T19:05:45.050369Z",
     "shell.execute_reply.started": "2025-02-10T19:05:45.041964Z"
    }
   },
   "outputs": [],
   "source": [
    "df_spec_sel = df_spec[cut].drop(labels=['_count', '_o3min', '_o3max', '_o3mean', '_o3median', '_o3std','_chi2min', '_chi2max', '_chi2mean', '_chi2median', '_chi2std'],axis=1)"
   ]
  },
  {
   "cell_type": "code",
   "execution_count": null,
   "id": "bae62b07-17d4-423e-bdfe-634272a040a2",
   "metadata": {
    "execution": {
     "iopub.execute_input": "2025-02-10T19:05:45.051284Z",
     "iopub.status.busy": "2025-02-10T19:05:45.051152Z",
     "iopub.status.idle": "2025-02-10T19:05:45.054180Z",
     "shell.execute_reply": "2025-02-10T19:05:45.053821Z",
     "shell.execute_reply.started": "2025-02-10T19:05:45.051268Z"
    },
    "tags": []
   },
   "outputs": [],
   "source": [
    "df_spec_sel.reset_index(drop=True,inplace=True)"
   ]
  },
  {
   "cell_type": "markdown",
   "id": "7578a335-a4db-428d-aac0-56f4f11272c5",
   "metadata": {},
   "source": [
    "## Compute per-night aggregates"
   ]
  },
  {
   "cell_type": "markdown",
   "id": "8ba71f74-8257-47a7-8e51-6d67aa9f7407",
   "metadata": {},
   "source": [
    "### Compute series per night"
   ]
  },
  {
   "cell_type": "code",
   "execution_count": null,
   "id": "5f2bb2b2-a77b-485d-975b-88912029b163",
   "metadata": {
    "execution": {
     "iopub.execute_input": "2025-02-10T19:05:45.054690Z",
     "iopub.status.busy": "2025-02-10T19:05:45.054571Z",
     "iopub.status.idle": "2025-02-10T19:05:45.064002Z",
     "shell.execute_reply": "2025-02-10T19:05:45.063612Z",
     "shell.execute_reply.started": "2025-02-10T19:05:45.054679Z"
    },
    "tags": []
   },
   "outputs": [],
   "source": [
    "ser_O3_CHI2_FIT_sel = df_spec_sel[[\"ozone [db]_x\",\"CHI2_FIT\",\"nightObs\"]].groupby([\"nightObs\"]).agg(['count','min', 'max','mean','std','median'])"
   ]
  },
  {
   "cell_type": "code",
   "execution_count": null,
   "id": "32089a52-fb70-4ef2-b900-c34975c325c8",
   "metadata": {
    "execution": {
     "iopub.execute_input": "2025-02-10T19:05:45.064558Z",
     "iopub.status.busy": "2025-02-10T19:05:45.064435Z",
     "iopub.status.idle": "2025-02-10T19:05:45.068500Z",
     "shell.execute_reply": "2025-02-10T19:05:45.068119Z",
     "shell.execute_reply.started": "2025-02-10T19:05:45.064546Z"
    },
    "tags": []
   },
   "outputs": [],
   "source": [
    "def FillAgreggatesSel(row):\n",
    "    the_nightObs = row[\"nightObs\"]\n",
    "    df_night = ser_O3_CHI2_FIT_sel.loc[the_nightObs,:].unstack()\n",
    "    count = df_night.loc[\"ozone [db]_x\",\"count\"]\n",
    "    o3min = df_night.loc[\"ozone [db]_x\",\"min\"]\n",
    "    o3max = df_night.loc[\"ozone [db]_x\",\"max\"]\n",
    "    o3mean = df_night.loc[\"ozone [db]_x\",\"mean\"]\n",
    "    o3median = df_night.loc[\"ozone [db]_x\",\"median\"]\n",
    "    o3std = df_night.loc[\"ozone [db]_x\",\"std\"]\n",
    "    chi2min = df_night.loc[\"CHI2_FIT\",\"min\"]\n",
    "    chi2max = df_night.loc[\"CHI2_FIT\",\"max\"]\n",
    "    chi2mean = df_night.loc[\"CHI2_FIT\",\"mean\"]\n",
    "    chi2median = df_night.loc[\"CHI2_FIT\",\"median\"]\n",
    "    chi2std = df_night.loc[\"CHI2_FIT\",\"std\"]\n",
    "    \n",
    "    d = {\"_count\":count,\"_o3min\":o3min,\"_o3max\":o3max,\"_o3mean\":o3mean,\"_o3median\":o3median,\"_o3std\":o3std,\n",
    "        \"_chi2min\":chi2min,\"_chi2max\":chi2max,\"_chi2mean\":chi2mean,\"_chi2median\":chi2median,\"_chi2std\":chi2std}\n",
    "    \n",
    "    ser = pd.Series(data=d)\n",
    "\n",
    "    return ser\n",
    "    "
   ]
  },
  {
   "cell_type": "code",
   "execution_count": null,
   "id": "7df3b6b8-24f7-4639-a94e-35f345c5e450",
   "metadata": {
    "execution": {
     "iopub.execute_input": "2025-02-10T19:05:45.069006Z",
     "iopub.status.busy": "2025-02-10T19:05:45.068884Z",
     "iopub.status.idle": "2025-02-10T19:05:45.872452Z",
     "shell.execute_reply": "2025-02-10T19:05:45.871935Z",
     "shell.execute_reply.started": "2025-02-10T19:05:45.068996Z"
    },
    "tags": []
   },
   "outputs": [],
   "source": [
    "df_spec_sel = df_spec_sel.join(df_spec_sel.apply(FillAgreggatesSel,axis=1,result_type=\"expand\"))"
   ]
  },
  {
   "cell_type": "markdown",
   "id": "f8bc5aeb-ed74-48a0-88a2-49eb1ae2ff4d",
   "metadata": {
    "tags": []
   },
   "source": [
    "## Recompute night boundaries"
   ]
  },
  {
   "cell_type": "code",
   "execution_count": null,
   "id": "41e2df17-41d6-4e84-8135-ccca5c7086a2",
   "metadata": {
    "execution": {
     "iopub.execute_input": "2025-02-10T19:05:45.873161Z",
     "iopub.status.busy": "2025-02-10T19:05:45.872970Z",
     "iopub.status.idle": "2025-02-10T19:05:45.924538Z",
     "shell.execute_reply": "2025-02-10T19:05:45.924035Z",
     "shell.execute_reply.started": "2025-02-10T19:05:45.873148Z"
    },
    "tags": []
   },
   "outputs": [],
   "source": [
    "dn = GetNightBoundariesDict(df_spec_sel)"
   ]
  },
  {
   "cell_type": "markdown",
   "id": "6c4212d5-3f49-41f3-9ba9-42ac23b2f2dd",
   "metadata": {},
   "source": [
    "## Plot all data"
   ]
  },
  {
   "cell_type": "code",
   "execution_count": null,
   "id": "58b3d86e-7a6a-4685-8f5c-af994b7b2164",
   "metadata": {
    "execution": {
     "iopub.execute_input": "2025-02-10T19:05:45.925346Z",
     "iopub.status.busy": "2025-02-10T19:05:45.925188Z",
     "iopub.status.idle": "2025-02-10T19:05:46.375824Z",
     "shell.execute_reply": "2025-02-10T19:05:46.375407Z",
     "shell.execute_reply.started": "2025-02-10T19:05:45.925332Z"
    },
    "tags": []
   },
   "outputs": [],
   "source": [
    "from matplotlib.dates import DateFormatter\n",
    "date_form = DateFormatter(\"%y-%m-%dT%H:%M\")\n",
    "fig,axs = plt.subplots(1,1,figsize=(14,6))\n",
    "ax  = axs\n",
    "leg=ax.get_legend()\n",
    "\n",
    "df_spec_sel.plot(x=\"Time\",y=\"ozone [db]_x\",ax=ax,marker='+',c=\"r\",lw=0.0,grid=True,label=tag,legend=leg,ms=10)\n",
    "ax.set_ylabel(\"ozone [db]_x\")\n",
    "\n",
    "ax.set_xlabel(\"time\")\n",
    "ax.xaxis.set_major_formatter(date_form)\n",
    "ax.set_title(\"Ozone measured by holo selected vs time\")\n",
    "\n",
    "for key, tt in dn.items():\n",
    "    ax.axvspan(tt[0],tt[1], color='blue', alpha=0.1)\n",
    "\n",
    "plt.tight_layout()\n",
    "figname =f\"{pathfigs}/ozone_allpoints_allnights\"+figtype\n",
    "plt.savefig(figname)\n",
    "plt.show()"
   ]
  },
  {
   "cell_type": "markdown",
   "id": "7cf5d9d3-5d21-42df-b484-eaf4ca3a3b54",
   "metadata": {},
   "source": [
    "## Plot series on selected data"
   ]
  },
  {
   "cell_type": "code",
   "execution_count": null,
   "id": "6e3a3cb8-0ec9-45db-8439-25d6a6a57527",
   "metadata": {
    "execution": {
     "iopub.execute_input": "2025-02-10T19:05:46.376431Z",
     "iopub.status.busy": "2025-02-10T19:05:46.376304Z",
     "iopub.status.idle": "2025-02-10T19:05:46.384320Z",
     "shell.execute_reply": "2025-02-10T19:05:46.383946Z",
     "shell.execute_reply.started": "2025-02-10T19:05:46.376420Z"
    },
    "tags": []
   },
   "outputs": [],
   "source": [
    "ser_CHI2_FIT_sel = df_spec_sel[[\"CHI2_FIT\",\"nightObs\"]].groupby([\"nightObs\"]).agg(['count','min', 'max','mean','std','median'])\n",
    "ser_O3_sel = df_spec_sel[[\"ozone [db]_x\",\"nightObs\"]].groupby([\"nightObs\"]).agg(['count','min', 'max','mean','std','median'])"
   ]
  },
  {
   "cell_type": "code",
   "execution_count": null,
   "id": "592ee0e1-64fb-40c3-b57f-8362d1a05be8",
   "metadata": {
    "execution": {
     "iopub.execute_input": "2025-02-10T19:05:46.384856Z",
     "iopub.status.busy": "2025-02-10T19:05:46.384734Z",
     "iopub.status.idle": "2025-02-10T19:05:47.100758Z",
     "shell.execute_reply": "2025-02-10T19:05:47.100341Z",
     "shell.execute_reply.started": "2025-02-10T19:05:46.384844Z"
    },
    "tags": []
   },
   "outputs": [],
   "source": [
    "fig,ax = plt.subplots(1,1,figsize=(18,3))\n",
    "ser_O3_sel.unstack()[\"ozone [db]_x\"][\"count\"].plot(kind='bar', ax=ax,subplots=False, rot=90,figsize=(18,4),facecolor=\"b\",grid=True,title=\"Number of measurements per night after selection\")\n",
    "plt.tight_layout()"
   ]
  },
  {
   "cell_type": "code",
   "execution_count": null,
   "id": "77ab654f-1ca7-42a1-9939-920126c1899f",
   "metadata": {
    "execution": {
     "iopub.execute_input": "2025-02-10T19:05:47.101377Z",
     "iopub.status.busy": "2025-02-10T19:05:47.101249Z",
     "iopub.status.idle": "2025-02-10T19:05:47.699006Z",
     "shell.execute_reply": "2025-02-10T19:05:47.698557Z",
     "shell.execute_reply.started": "2025-02-10T19:05:47.101366Z"
    },
    "tags": []
   },
   "outputs": [],
   "source": [
    "fig,ax = plt.subplots(1,1,figsize=(18,3))\n",
    "ser_O3_sel.unstack()[\"ozone [db]_x\"][\"mean\"].plot(kind='bar',ax=ax ,subplots=False, rot=90,figsize=(18,4),facecolor='b',grid=True,title=\"Mean Ozone per night after selection\")\n",
    "plt.tight_layout()"
   ]
  },
  {
   "cell_type": "code",
   "execution_count": null,
   "id": "4b391453-3c1e-4c6d-8e57-4df77c0d4fca",
   "metadata": {
    "execution": {
     "iopub.execute_input": "2025-02-10T19:05:47.699600Z",
     "iopub.status.busy": "2025-02-10T19:05:47.699471Z",
     "iopub.status.idle": "2025-02-10T19:05:48.266212Z",
     "shell.execute_reply": "2025-02-10T19:05:48.265760Z",
     "shell.execute_reply.started": "2025-02-10T19:05:47.699587Z"
    },
    "tags": []
   },
   "outputs": [],
   "source": [
    "fig,ax = plt.subplots(1,1,figsize=(18,3))\n",
    "ser_O3_sel.unstack()[\"ozone [db]_x\"][\"median\"].plot(kind='bar',ax=ax ,subplots=False, rot=90,figsize=(18,4),facecolor='b',grid=True,title=\"Median Ozone per night after selection\")\n",
    "plt.tight_layout()"
   ]
  },
  {
   "cell_type": "code",
   "execution_count": null,
   "id": "8f90c624-4571-4c84-87b8-a71e49f91af6",
   "metadata": {
    "execution": {
     "iopub.execute_input": "2025-02-10T19:05:48.266849Z",
     "iopub.status.busy": "2025-02-10T19:05:48.266720Z",
     "iopub.status.idle": "2025-02-10T19:05:48.840319Z",
     "shell.execute_reply": "2025-02-10T19:05:48.839805Z",
     "shell.execute_reply.started": "2025-02-10T19:05:48.266837Z"
    },
    "tags": []
   },
   "outputs": [],
   "source": [
    "fig,ax = plt.subplots(1,1,figsize=(18,3))\n",
    "ser_O3_sel.unstack()[\"ozone [db]_x\"][\"std\"].plot(kind='bar', subplots=False, rot=90,figsize=(18,4),facecolor='b',grid=True,title=\"STD variation for Ozone per night after selection\")\n",
    "plt.tight_layout()"
   ]
  },
  {
   "cell_type": "code",
   "execution_count": null,
   "id": "438bb890-9dc1-4ece-801e-63c849d73358",
   "metadata": {
    "execution": {
     "iopub.execute_input": "2025-02-10T19:05:48.844412Z",
     "iopub.status.busy": "2025-02-10T19:05:48.844258Z",
     "iopub.status.idle": "2025-02-10T19:05:49.574254Z",
     "shell.execute_reply": "2025-02-10T19:05:49.573736Z",
     "shell.execute_reply.started": "2025-02-10T19:05:48.844399Z"
    },
    "tags": []
   },
   "outputs": [],
   "source": [
    "fig,ax = plt.subplots(1,1,figsize=(18,3))\n",
    "ser_CHI2_FIT_sel.unstack()[\"CHI2_FIT\"][\"mean\"].plot(kind='bar',ax=ax ,subplots=False, rot=90,figsize=(18,4),facecolor='r',grid=True,title=\"Mean CHI2 per night after selection\")\n",
    "plt.tight_layout()"
   ]
  },
  {
   "cell_type": "code",
   "execution_count": null,
   "id": "fccf0310-c102-4a36-a14f-63e724ccceb1",
   "metadata": {
    "execution": {
     "iopub.execute_input": "2025-02-10T19:05:49.574954Z",
     "iopub.status.busy": "2025-02-10T19:05:49.574814Z",
     "iopub.status.idle": "2025-02-10T19:05:50.166601Z",
     "shell.execute_reply": "2025-02-10T19:05:50.166137Z",
     "shell.execute_reply.started": "2025-02-10T19:05:49.574942Z"
    },
    "tags": []
   },
   "outputs": [],
   "source": [
    "fig,ax = plt.subplots(1,1,figsize=(18,3))\n",
    "ser_CHI2_FIT_sel.unstack()[\"CHI2_FIT\"][\"median\"].plot(kind='bar',ax=ax ,subplots=False, rot=90,figsize=(18,4),facecolor='r',grid=True,title=\"Median CHI2 per night after selection\")\n",
    "plt.tight_layout()"
   ]
  },
  {
   "cell_type": "code",
   "execution_count": null,
   "id": "b2c26008-c15e-4cf3-ace1-3ddddda64abd",
   "metadata": {
    "execution": {
     "iopub.execute_input": "2025-02-10T19:05:50.167446Z",
     "iopub.status.busy": "2025-02-10T19:05:50.167089Z",
     "iopub.status.idle": "2025-02-10T19:05:50.728969Z",
     "shell.execute_reply": "2025-02-10T19:05:50.728563Z",
     "shell.execute_reply.started": "2025-02-10T19:05:50.167433Z"
    },
    "tags": []
   },
   "outputs": [],
   "source": [
    "fig,ax = plt.subplots(1,1,figsize=(18,3))\n",
    "ser_CHI2_FIT_sel.unstack()[\"CHI2_FIT\"][\"std\"].plot(kind='bar',ax=ax ,subplots=False, rot=90,figsize=(18,4),facecolor='r',grid=True,title=\"STD variation CHI2 per night after selection\")\n",
    "plt.tight_layout()"
   ]
  },
  {
   "cell_type": "markdown",
   "id": "2e327548-326f-428f-867f-3ad46e7f6753",
   "metadata": {},
   "source": [
    "## Show time variation each night"
   ]
  },
  {
   "cell_type": "code",
   "execution_count": null,
   "id": "7320d772-3123-4866-8d2c-3c9f0d8769ad",
   "metadata": {
    "execution": {
     "iopub.execute_input": "2025-02-10T19:05:50.729578Z",
     "iopub.status.busy": "2025-02-10T19:05:50.729442Z",
     "iopub.status.idle": "2025-02-10T19:05:50.732050Z",
     "shell.execute_reply": "2025-02-10T19:05:50.731675Z",
     "shell.execute_reply.started": "2025-02-10T19:05:50.729565Z"
    }
   },
   "outputs": [],
   "source": [
    "all_selected_nights = df_spec_sel[\"nightObs\"].unique()"
   ]
  },
  {
   "cell_type": "code",
   "execution_count": null,
   "id": "c8c101b3-7120-4e5b-9da8-f712b21f6c48",
   "metadata": {
    "execution": {
     "iopub.execute_input": "2025-02-10T19:05:50.732750Z",
     "iopub.status.busy": "2025-02-10T19:05:50.732467Z",
     "iopub.status.idle": "2025-02-10T19:05:50.739969Z",
     "shell.execute_reply": "2025-02-10T19:05:50.739615Z",
     "shell.execute_reply.started": "2025-02-10T19:05:50.732737Z"
    }
   },
   "outputs": [],
   "source": [
    "def funclineres(params, x, y, yerr):\n",
    "    # Return residual = fit-observed\n",
    "    return (y-params[0] -params[1]*x)/yerr\n",
    "def funcline(params,x):\n",
    "    return params[0] + params[1]*x"
   ]
  },
  {
   "cell_type": "code",
   "execution_count": null,
   "id": "cd606d78-286e-4d98-a24c-41bdfd455fd6",
   "metadata": {
    "execution": {
     "iopub.execute_input": "2025-02-10T19:05:50.740681Z",
     "iopub.status.busy": "2025-02-10T19:05:50.740384Z",
     "iopub.status.idle": "2025-02-10T19:05:50.746901Z",
     "shell.execute_reply": "2025-02-10T19:05:50.746535Z",
     "shell.execute_reply.started": "2025-02-10T19:05:50.740668Z"
    },
    "tags": []
   },
   "outputs": [],
   "source": [
    "def MakeLineFit(df_night_o3_curve):\n",
    "    \"\"\"\n",
    "    \"\"\"\n",
    "\n",
    "    x = df_night_o3_curve[\"dt\"].values\n",
    "    y = df_night_o3_curve[\"ozone [db]_x\"].values\n",
    "    yerr = df_night_o3_curve[\"ozone [db]_err_x\"].values\n",
    "    n = len(y)\n",
    "        \n",
    "    #popt, pcov = optimize.curve_fit(f, x, y, [1,-4])\n",
    "    fit_res = least_squares(funclineres,[5.,0],args = (x,y,yerr))\n",
    "    popt = fit_res.x \n",
    "    npar = len(popt)\n",
    "    J = fit_res.jac\n",
    "    cov = np.linalg.inv(J.T.dot(J))\n",
    "    chi2dof = ((funclineres(popt,x,y,yerr))**2).sum()/(n-npar)\n",
    "    cov *= chi2dof\n",
    "    perr = np.sqrt(np.diagonal(cov)) \n",
    "    \n",
    "    xfit = np.linspace(x.min()*0.99,x.max()*1.05)\n",
    "    yfit = funcline(popt,xfit)\n",
    "        \n",
    "    slope = popt[1]\n",
    "    slope_err = perr[1]\n",
    "\n",
    "    return x,y,yerr,n,chi2dof,xfit,yfit,slope,slope_err"
   ]
  },
  {
   "cell_type": "markdown",
   "id": "42511dcd-06f2-4a69-a94d-db35b9fec8a8",
   "metadata": {},
   "source": [
    "### Plot night by night"
   ]
  },
  {
   "cell_type": "code",
   "execution_count": null,
   "id": "b9b9eb1a-1b16-4e8d-ac7d-d2228f77b216",
   "metadata": {
    "execution": {
     "iopub.execute_input": "2025-02-10T19:05:50.747453Z",
     "iopub.status.busy": "2025-02-10T19:05:50.747329Z",
     "iopub.status.idle": "2025-02-10T19:05:50.755696Z",
     "shell.execute_reply": "2025-02-10T19:05:50.755336Z",
     "shell.execute_reply.started": "2025-02-10T19:05:50.747441Z"
    }
   },
   "outputs": [],
   "source": [
    "df_spec_night = df_spec_sel[df_spec_sel[\"nightObs\"] == 20240923]\n",
    "#select the variables\n",
    "df_night_o3_curve = df_spec_night[[\"nightObs\",\"Time\",\"ozone [db]_x\",\"ozone [db]_err_x\",\"ozone [db]_y\",\"ozone [db]_err_y\",\"TARGET\"]]\n",
    "tmin = df_night_o3_curve[\"Time\"].min()\n",
    "df_night_o3_curve[\"dt\"] = (df_night_o3_curve[\"Time\"] - tmin).dt.total_seconds()/3600."
   ]
  },
  {
   "cell_type": "code",
   "execution_count": null,
   "id": "6f932120-eac9-40fc-999c-f5f421eabc38",
   "metadata": {
    "execution": {
     "iopub.execute_input": "2025-02-10T19:05:50.756365Z",
     "iopub.status.busy": "2025-02-10T19:05:50.756238Z",
     "iopub.status.idle": "2025-02-10T19:05:50.763777Z",
     "shell.execute_reply": "2025-02-10T19:05:50.763412Z",
     "shell.execute_reply.started": "2025-02-10T19:05:50.756354Z"
    }
   },
   "outputs": [],
   "source": [
    "def ComputeRepeatability(df):\n",
    "    \"\"\"\n",
    "    Compute Repeatability of Ozone for Spectrogram and and Spectrum\n",
    "    \n",
    "    \"\"\"\n",
    "    N = len(df)\n",
    "    dfout = pd.DataFrame(index=df.index,columns = [\"nightObs\",\"dt\",\"dt_rep\",\"dOZx_rep\",\"dOZy_rep\",\"targflag_rep\",\"Npoints\"])\n",
    "    dfout[\"targflag_rep\"].astype(bool)\n",
    "    #dfout[\"Npoints\"].astype(int)\n",
    "    \n",
    "    target_old = \"No\"\n",
    "    time_old = 0.\n",
    "    OZx_old = 0.\n",
    "    OZy_old = 0.\n",
    "    \n",
    "    for index in range(N):\n",
    "        \n",
    "        nightObs =  df.iloc[index][\"nightObs\"]\n",
    "        \n",
    "        if index ==0:\n",
    "            dt0 = df.iloc[index][\"dt\"]\n",
    "            dfout.iloc[index] = [ nightObs,dt0, 0., 0., 0., False,N]\n",
    "        else:\n",
    "            target_new = df.iloc[index][\"TARGET\"]\n",
    "            time_new = df.iloc[index][\"dt\"]\n",
    "            OZx_new = df.iloc[index][\"ozone [db]_x\"]\n",
    "            OZy_new = df.iloc[index][\"ozone [db]_y\"]\n",
    "            \n",
    "            flag_target = (target_new == target_old)\n",
    "            dOZx_rep = OZx_new - OZx_old\n",
    "            dOZy_rep = OZy_new - OZy_old\n",
    "            dt_rep = (time_new-time_old)*3600. # in seconds\n",
    "            \n",
    "            dfout.iloc[index] = [ nightObs,time_new, dt_rep, dOZx_rep, dOZy_rep, flag_target,N]\n",
    "        \n",
    "        target_old = df.iloc[index][\"TARGET\"]\n",
    "        time_old = df.iloc[index][\"dt\"]\n",
    "        OZx_old = df.iloc[index][\"ozone [db]_x\"]\n",
    "        OZy_old = df.iloc[index][\"ozone [db]_y\"]\n",
    "        \n",
    "    return dfout"
   ]
  },
  {
   "cell_type": "code",
   "execution_count": null,
   "id": "ce9e1f96-22f0-411b-bd6f-f7090192cd11",
   "metadata": {
    "execution": {
     "iopub.execute_input": "2025-02-10T19:05:50.764265Z",
     "iopub.status.busy": "2025-02-10T19:05:50.764141Z",
     "iopub.status.idle": "2025-02-10T19:05:50.783543Z",
     "shell.execute_reply": "2025-02-10T19:05:50.783190Z",
     "shell.execute_reply.started": "2025-02-10T19:05:50.764253Z"
    }
   },
   "outputs": [],
   "source": [
    "ComputeRepeatability(df_night_o3_curve).head()"
   ]
  },
  {
   "cell_type": "code",
   "execution_count": null,
   "id": "b0e94f81-4a2b-4ec1-8dcd-cdcb7067c065",
   "metadata": {
    "execution": {
     "iopub.execute_input": "2025-02-10T19:05:50.784041Z",
     "iopub.status.busy": "2025-02-10T19:05:50.783924Z"
    }
   },
   "outputs": [],
   "source": [
    "all_df_repeatability = []\n",
    "\n",
    "# loop on nights\n",
    "for night in all_selected_nights:\n",
    "    # Select the night\n",
    "    df_spec_night = df_spec_sel[df_spec_sel[\"nightObs\"] == night]\n",
    "    \n",
    "    # Select the variables\n",
    "    df_night_o3_curve = df_spec_night[[\"nightObs\",\"Time\",\"ozone [db]_x\",\"ozone [db]_err_x\",\"ozone [db]_y\",\"ozone [db]_err_y\",\"TARGET\"]]\n",
    "\n",
    "    tmin = df_night_o3_curve[\"Time\"].min()\n",
    "\n",
    "    # Convert in hours\n",
    "    df_night_o3_curve[\"dt\"] = (df_night_o3_curve[\"Time\"] - tmin).dt.total_seconds()/3600.\n",
    "    \n",
    "    # Compute the repeatability on PWV x and y\n",
    "    df_rep = ComputeRepeatability(df_night_o3_curve)\n",
    "    \n",
    "    # Keep all repeatability\n",
    "    all_df_repeatability.append(df_rep)\n",
    "    \n",
    "    cut_on_dt = (df_rep[\"dt_rep\"]>0.) & (df_rep[\"dt_rep\"]< 120.)   \n",
    "    cut_on_target = df_rep[\"targflag_rep\"]\n",
    "    \n",
    "    cut_loose = cut_on_dt\n",
    "    cut_strong = cut_on_dt & cut_on_target \n",
    "        \n",
    "    # plot  \n",
    "    fig,(ax1,ax2,ax3) = plt.subplots(1,3,figsize=(12,4))\n",
    "    \n",
    "    leg1 = ax1.get_legend()\n",
    "    leg2 = ax2.get_legend()\n",
    "    \n",
    "      \n",
    "    df_rep[cut_strong][\"dOZx_rep\"].hist(ax=ax1,bins=60,range=(-50,50),facecolor=\"b\",legend=leg1,label=\"Same target\")\n",
    "    df_rep[cut_strong][\"dOZy_rep\"].hist(ax=ax2,bins=60,range=(-50,50),facecolor=\"b\")\n",
    "    \n",
    "    df_rep[cut_loose][\"dOZx_rep\"].hist(ax=ax1,bins=60,range=(-50,50),color=\"r\",lw=3,histtype=\"step\")\n",
    "    df_rep[cut_loose][\"dOZy_rep\"].hist(ax=ax2,bins=60,range=(-50,50),color=\"r\",lw=3,histtype=\"step\")\n",
    "    \n",
    "    ax1.set_xlabel(\"Ozone (DU)\")\n",
    "    ax1.set_title(\"Spectrogram\")\n",
    "    ax2.set_xlabel(\"Ozone (DU)\")\n",
    "    ax2.set_title(\"1D-Spectrum\")\n",
    "    \n",
    "    df_rep[cut_strong].plot.scatter(x=\"dOZx_rep\",y=\"dOZy_rep\",marker='.',c=\"b\",ax=ax3)\n",
    "    ax3.set_xlim(-50.,50.)\n",
    "    ax3.set_ylim(-50.,50.)\n",
    "    ax3.grid()\n",
    "    ax3.set_xlabel(\"Ozone (2D) (DU)\")\n",
    "    ax3.set_ylabel(\"Ozone (1D) (DU)\")\n",
    "    \n",
    "    \n",
    "    title = f\"Ozone repeatability for Night {night}\"\n",
    "    plt.suptitle(title) \n",
    "    plt.tight_layout()\n",
    "    #figname =f\"{pathfigs}/pwv_per_night_{night}\"+figtype\n",
    "    #    plt.savefig(figname)\n",
    "    plt.show()"
   ]
  },
  {
   "cell_type": "markdown",
   "id": "450f41b4-4611-4239-a113-8b7aa28d1ff8",
   "metadata": {},
   "source": [
    "## Merge all repeatability dataFrame"
   ]
  },
  {
   "cell_type": "code",
   "execution_count": null,
   "id": "3dfbb352-fb08-4a59-aab6-79bcd934784f",
   "metadata": {},
   "outputs": [],
   "source": [
    "df_allrep = pd.concat(all_df_repeatability)"
   ]
  },
  {
   "cell_type": "code",
   "execution_count": null,
   "id": "ea3ab734-f28f-40a7-9af6-3cdebc596450",
   "metadata": {},
   "outputs": [],
   "source": [
    "df_allrep.head()"
   ]
  },
  {
   "cell_type": "markdown",
   "id": "db6305cc-46d5-4fc1-b65d-ae8d1632706c",
   "metadata": {},
   "source": [
    "## Selection\n",
    "\n",
    "- stat on strong cut"
   ]
  },
  {
   "cell_type": "code",
   "execution_count": null,
   "id": "b20bbee3-85cd-424b-b23f-6853b4a860aa",
   "metadata": {},
   "outputs": [],
   "source": [
    "cut_on_dt = (df_allrep[\"dt_rep\"]>0.) & (df_allrep[\"dt_rep\"]< 120.) & (df_allrep[\"Npoints\"] > 10.)     \n",
    "cut_on_target = df_allrep[\"targflag_rep\"]\n",
    "    \n",
    "cut_loose = cut_on_dt\n",
    "cut_strong = cut_on_dt & cut_on_target "
   ]
  },
  {
   "cell_type": "code",
   "execution_count": null,
   "id": "13b3314f-cafd-4110-807b-8a17b45df520",
   "metadata": {},
   "outputs": [],
   "source": [
    "dfl = df_allrep[cut_loose][[\"dt\",\"dt_rep\",\"dOZx_rep\",\"dOZy_rep\"]]\n",
    "dfs = df_allrep[cut_strong][[\"dt\",\"dt_rep\",\"dOZx_rep\",\"dOZy_rep\"]]"
   ]
  },
  {
   "cell_type": "code",
   "execution_count": null,
   "id": "6a427293-a566-49e0-8d2c-e378478d4ca5",
   "metadata": {},
   "outputs": [],
   "source": [
    "dfs_stat = dfs.aggregate([\"count\",\"mean\",\"std\"])\n",
    "meanx = dfs_stat.loc[\"mean\",\"dOZx_rep\"]\n",
    "stdx = dfs_stat.loc[\"std\",\"dOZx_rep\"]\n",
    "meany = dfs_stat.loc[\"mean\",\"dOZy_rep\"]\n",
    "stdy = dfs_stat.loc[\"std\",\"dOZy_rep\"]\n",
    "\n",
    "dfs[\"ddOZx_rep\"] = np.abs(dfs[\"dOZx_rep\"] - meanx)\n",
    "dfs[\"ddOZy_rep\"] = np.abs(dfs[\"dOZy_rep\"] - meany)\n",
    "\n",
    "dfs_stat = dfs.aggregate([\"count\",\"mean\",\"std\"])\n",
    "\n",
    "meanx = dfs_stat.loc[\"mean\",\"dOZx_rep\"]\n",
    "stdx = dfs_stat.loc[\"std\",\"dOZx_rep\"]\n",
    "madx =  dfs_stat.loc[\"mean\",\"ddOZx_rep\"]\n",
    "sigma_madx = np.sqrt(np.pi/2.)*madx\n",
    "\n",
    "meany = dfs_stat.loc[\"mean\",\"dOZy_rep\"]\n",
    "stdy = dfs_stat.loc[\"std\",\"dOZy_rep\"]\n",
    "mady =  dfs_stat.loc[\"mean\",\"ddOZy_rep\"]\n",
    "sigma_mady = np.sqrt(np.pi/2.)*mady\n",
    "\n",
    "textstr_ozx = \"$\\delta_{oz}$ = \"+ f\"{meanx:.1f}\" + \"$\\pm + $\" + f\"{stdx:.2f} DU\" + \"\\n\" + \"$\\\\sigma_{MAD} = $\" + f\" {sigma_madx:.2f} DU\"\n",
    "textstr_ozy = \"$\\delta_{oz}$ = \"+ f\"{meany:.1f}\" + \"$\\pm + $\" + f\"{stdy:.2f} DU\" + \"\\n\" + \"$\\\\sigma_{MAD} = $\" + f\" {sigma_mady:.2f} DU\""
   ]
  },
  {
   "cell_type": "markdown",
   "id": "c25d186c-6734-4820-8cfb-8ed57d7933b7",
   "metadata": {},
   "source": [
    "### Plot repeatability"
   ]
  },
  {
   "cell_type": "code",
   "execution_count": null,
   "id": "a740beff-ea40-4cd3-b65a-792b6f760db6",
   "metadata": {},
   "outputs": [],
   "source": [
    "# plot  \n",
    "fig,(ax1,ax2,ax3) = plt.subplots(1,3,figsize=(12,4),layout='constrained')\n",
    "    \n",
    "leg1 = ax1.get_legend()\n",
    "leg2 = ax2.get_legend()\n",
    "    \n",
    "      \n",
    "df_allrep[cut_strong][\"dOZx_rep\"].hist(ax=ax1,bins=60,range=(-100,100),facecolor=\"b\",legend=leg1,label=\"Same target\")\n",
    "df_allrep[cut_strong][\"dOZy_rep\"].hist(ax=ax2,bins=60,range=(-100,100),facecolor=\"b\")\n",
    "    \n",
    "df_allrep[cut_loose][\"dOZx_rep\"].hist(ax=ax1,bins=60,range=(-100.,100.),color=\"r\",lw=3,histtype=\"step\")\n",
    "df_allrep[cut_loose][\"dOZy_rep\"].hist(ax=ax2,bins=60,range=(-100.,100.),color=\"r\",lw=3,histtype=\"step\")\n",
    "    \n",
    "ax1.set_xlabel(\"$\\delta$ Ozone (DU)\")\n",
    "ax1.set_title(\"Spectrogram\")\n",
    "ax2.set_xlabel(\"$\\delta$ Ozone (DU)\")\n",
    "ax2.set_title(\"1D-Spectrum\")\n",
    "\n",
    "ax1.text(0.05, 0.95, textstr_ozx, transform=ax1.transAxes, fontsize=14,verticalalignment='top', bbox=props)\n",
    "ax2.text(0.05, 0.95, textstr_ozy, transform=ax2.transAxes, fontsize=14,verticalalignment='top', bbox=props)\n",
    "    \n",
    "df_allrep[cut_strong].plot.scatter(x=\"dOZx_rep\",y=\"dOZy_rep\",marker='.',c=\"b\",ax=ax3)\n",
    "ax3.set_xlim(-100,100.)\n",
    "ax3.set_ylim(-100,100.)\n",
    "ax3.grid()\n",
    "ax3.set_xlabel(\"$\\delta $ Ozone (2D) (DU)\")\n",
    "ax3.set_ylabel(\"$\\delta $ Ozone (1D) (DU)\")\n",
    "\n",
    "if FLAG_WITHCOLLIMATOR:\n",
    "    title = \"Ozone repeatability over all nights (10/2023-10/2024)\"\n",
    "else:\n",
    "    title = \"Ozone repeatability over all nights (01/2023-10/2024)\"\n",
    "\n",
    "\n",
    "plt.suptitle(title)\n",
    "#plt.tight_layout()\n",
    "figname =f\"{pathfigs}/ozone_repeatability_allnights\"+figtype\n",
    "plt.savefig(figname)\n",
    "plt.show()"
   ]
  },
  {
   "cell_type": "code",
   "execution_count": null,
   "id": "95aef21b-43ba-40d6-b950-6a730420852a",
   "metadata": {},
   "outputs": [],
   "source": [
    "# plot  \n",
    "fig,ax1 = plt.subplots(1,1,figsize=(4,4),layout='constrained')\n",
    "leg1 = ax1.get_legend()\n",
    "     \n",
    "df_allrep[cut_strong][\"dOZx_rep\"].hist(ax=ax1,bins=60,range=(-100,100),facecolor=\"b\",legend=leg1,label=\"Same target\")\n",
    "df_allrep[cut_loose][\"dOZx_rep\"].hist(ax=ax1,bins=60,range=(-100.,100.),color=\"r\",lw=3,histtype=\"step\")\n",
    "\n",
    "ax1.set_xlabel(\"$\\Delta$ Ozone (DU)\")\n",
    "\n",
    "if FLAG_WITHCOLLIMATOR:\n",
    "    title = \"Ozone repeatability over all nights (2023-2024)\"\n",
    "else:\n",
    "    title = \"Ozone repeatability over all nights (01/2023-10/2024)\"\n",
    "\n",
    "ax1.set_title(title,fontsize=12)\n",
    "ax1.text(0.05, 0.95, textstr_ozx, transform=ax1.transAxes, fontsize=14,verticalalignment='top', bbox=props)\n",
    "\n",
    "\n",
    "figname =f\"{pathfigs}/ozone_repeatability_allnights_single\"+figtype\n",
    "plt.savefig(figname)\n",
    "plt.show()"
   ]
  }
 ],
 "metadata": {
  "kernelspec": {
   "display_name": "Python 3 (ipykernel)",
   "language": "python",
   "name": "python3"
  },
  "language_info": {
   "codemirror_mode": {
    "name": "ipython",
    "version": 3
   },
   "file_extension": ".py",
   "mimetype": "text/x-python",
   "name": "python",
   "nbconvert_exporter": "python",
   "pygments_lexer": "ipython3",
   "version": "3.11.9"
  }
 },
 "nbformat": 4,
 "nbformat_minor": 5
}
