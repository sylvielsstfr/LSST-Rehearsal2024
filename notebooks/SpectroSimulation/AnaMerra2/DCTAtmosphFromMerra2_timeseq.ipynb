{
 "cells": [
  {
   "cell_type": "markdown",
   "id": "45bf4242-bfc5-4d43-88c4-a8059ae148df",
   "metadata": {},
   "source": [
    "# Discrete Covariance Function from time sequences from Merra2"
   ]
  },
  {
   "cell_type": "markdown",
   "id": "01993b6e-6438-4fca-a5d5-1f9791336847",
   "metadata": {},
   "source": [
    "- author Sylvie Dagoret-Campagne\n",
    "- affiliation : IJCLab\n",
    "- creation date 2025-03-08 \n",
    "- last update : 2025-03-08\n",
    "- Kernel @usdf **w_2024_50*\n",
    "- Office emac : mamba_py311\n",
    "- Home emac : base (conda)\n",
    "- laptop : conda_py311"
   ]
  },
  {
   "cell_type": "markdown",
   "id": "0219159d-6865-4311-ac1d-99d11dad223f",
   "metadata": {},
   "source": [
    "**Goal** : Fit the variation of Merra2 parameter impact the transmission\n",
    "\n",
    "- CO2 fit : https://scikit-learn.org/stable/auto_examples/gaussian_process/plot_gpr_co2.html#sphx-glr-auto-examples-gaussian-process-plot-gpr-co2-py\n",
    "\n",
    "- Kernels : https://scikit-learn.org/stable/modules/gaussian_process.html#gp-kernels"
   ]
  },
  {
   "cell_type": "code",
   "execution_count": null,
   "id": "63a2b2ef-0bc2-45eb-91d9-87835d264751",
   "metadata": {
    "tags": []
   },
   "outputs": [],
   "source": [
    "from platform import python_version\n",
    "print(python_version())"
   ]
  },
  {
   "cell_type": "code",
   "execution_count": null,
   "id": "dcc53afe-c58f-4948-92c9-0090d373ad2a",
   "metadata": {},
   "outputs": [],
   "source": [
    "import warnings\n",
    "warnings.resetwarnings()\n",
    "warnings.simplefilter('ignore')"
   ]
  },
  {
   "cell_type": "code",
   "execution_count": null,
   "id": "8026d265-2493-4045-afec-26205ff71f7c",
   "metadata": {
    "tags": []
   },
   "outputs": [],
   "source": [
    "from platform import python_version\n",
    "print(python_version())"
   ]
  },
  {
   "cell_type": "code",
   "execution_count": null,
   "id": "eb1f116e-80e3-46ad-a7db-7f253632e5ca",
   "metadata": {},
   "outputs": [],
   "source": [
    "import os"
   ]
  },
  {
   "cell_type": "code",
   "execution_count": null,
   "id": "3ec760cd-3d3f-4a34-a6f6-b226fe500951",
   "metadata": {},
   "outputs": [],
   "source": [
    "# where are stored the figures\n",
    "pathfigs = \"figsDCTAtmosphereFomMerra2\"\n",
    "if not os.path.exists(pathfigs):\n",
    "    os.makedirs(pathfigs)\n",
    "figtype = \".png\""
   ]
  },
  {
   "cell_type": "code",
   "execution_count": null,
   "id": "bd052c5f-6273-48fd-9895-5ea0d38097a6",
   "metadata": {},
   "outputs": [],
   "source": [
    "# where are stored the figures\n",
    "pathdata = \"dataDCTAtmosphereFromMerra2\"\n",
    "if not os.path.exists(pathdata):\n",
    "    os.makedirs(pathdata) \n",
    "datatype = \".csv\"\n",
    "\n",
    "dcf_path_input = os.path.join(pathdata,\"dcf_timecurves\") \n",
    "dcf_path_output = os.path.join(pathdata,\"dcf_results\") \n",
    "if not os.path.exists(dcf_path_input):\n",
    "    os.makedirs(dcf_path_input) \n",
    "if not os.path.exists(dcf_path_output):\n",
    "    os.makedirs(dcf_path_output) "
   ]
  },
  {
   "cell_type": "code",
   "execution_count": null,
   "id": "bf752b70-e6ca-4cbf-8e8c-20bf7f0d8f61",
   "metadata": {},
   "outputs": [],
   "source": [
    "import numpy as np\n",
    "from numpy.linalg import inv\n",
    "import matplotlib as mpl\n",
    "import matplotlib.pyplot as plt\n",
    "%matplotlib inline\n",
    "from mpl_toolkits.axes_grid1 import make_axes_locatable\n",
    "from matplotlib.colors import LogNorm,SymLogNorm\n",
    "from matplotlib.patches import Circle,Annulus\n",
    "from astropy.visualization import ZScaleInterval\n",
    "props = dict(boxstyle='round', facecolor=\"white\", alpha=0.1)\n",
    "#props = dict(boxstyle='round')\n",
    "\n",
    "import matplotlib.colors as colors\n",
    "import matplotlib.cm as cmx\n",
    "\n",
    "import matplotlib.ticker                         # here's where the formatter is\n",
    "from matplotlib.ticker import (MultipleLocator, FormatStrFormatter,\n",
    "                               AutoMinorLocator)\n",
    "\n",
    "from matplotlib.gridspec import GridSpec\n",
    "\n",
    "from astropy.visualization import (MinMaxInterval, SqrtStretch,ZScaleInterval,PercentileInterval,\n",
    "                                   ImageNormalize,imshow_norm)\n",
    "from astropy.visualization.stretch import SinhStretch, LinearStretch,AsinhStretch,LogStretch\n",
    "\n",
    "from astropy.io import fits\n",
    "from astropy.wcs import WCS\n",
    "from astropy import units as u\n",
    "from astropy import constants as c\n",
    "\n",
    "from astropy.coordinates.earth import EarthLocation\n",
    "from datetime import datetime\n",
    "from pytz import timezone\n",
    "\n",
    "from scipy import interpolate\n",
    "from sklearn.neighbors import NearestNeighbors\n",
    "from sklearn.neighbors import KDTree, BallTree\n",
    "\n",
    "import pandas as pd\n",
    "pd.set_option(\"display.max_columns\", None)\n",
    "pd.set_option('display.max_rows', 100)\n",
    "\n",
    "import matplotlib.ticker                         # here's where the formatter is\n",
    "import os\n",
    "import re\n",
    "import pandas as pd\n",
    "import pickle\n",
    "from collections import OrderedDict\n",
    "\n",
    "plt.rcParams[\"figure.figsize\"] = (4,3)\n",
    "plt.rcParams[\"axes.labelsize\"] = 'xx-large'\n",
    "plt.rcParams['axes.titlesize'] = 'xx-large'\n",
    "plt.rcParams['xtick.labelsize']= 'xx-large'\n",
    "plt.rcParams['ytick.labelsize']= 'xx-large'\n",
    "\n",
    "import scipy\n",
    "from scipy.optimize import curve_fit,least_squares"
   ]
  },
  {
   "cell_type": "code",
   "execution_count": null,
   "id": "f7644ca1-08b3-4882-86c0-c02540d63cd4",
   "metadata": {},
   "outputs": [],
   "source": [
    "props = dict(boxstyle='round', facecolor='white', alpha=0.5)"
   ]
  },
  {
   "cell_type": "code",
   "execution_count": null,
   "id": "ad1b1943-5173-40b8-8ac8-442e6ecc47d0",
   "metadata": {},
   "outputs": [],
   "source": [
    "from astropy.modeling import models"
   ]
  },
  {
   "cell_type": "code",
   "execution_count": null,
   "id": "46fe722f-bb23-4c29-8efb-4c096c72eec9",
   "metadata": {},
   "outputs": [],
   "source": [
    "from numpy.random import lognormal"
   ]
  },
  {
   "cell_type": "code",
   "execution_count": null,
   "id": "0ca0d1e6-5f82-4c43-aaa3-8524fc2bc5ba",
   "metadata": {},
   "outputs": [],
   "source": [
    "from matplotlib.ticker import (MultipleLocator, FormatStrFormatter,\n",
    "                               AutoMinorLocator)\n",
    "from astropy.visualization import (MinMaxInterval, SqrtStretch,ZScaleInterval,PercentileInterval,\n",
    "                                   ImageNormalize,imshow_norm)\n",
    "from astropy.visualization.stretch import SinhStretch, LinearStretch,AsinhStretch,LogStretch\n",
    "\n",
    "from astropy.time import Time\n",
    "from astropy.timeseries import TimeSeries\n",
    "\n",
    "from astropy.modeling import models, fitting"
   ]
  },
  {
   "cell_type": "code",
   "execution_count": null,
   "id": "e189816c-5048-43ab-a01a-7c078af54489",
   "metadata": {},
   "outputs": [],
   "source": [
    "# Remove to run faster the notebook\n",
    "import ipywidgets as widgets\n",
    "%matplotlib widget"
   ]
  },
  {
   "cell_type": "code",
   "execution_count": null,
   "id": "67327fd4-e405-45ce-8923-cd46ebaa0c0f",
   "metadata": {
    "tags": []
   },
   "outputs": [],
   "source": [
    "from importlib.metadata import version"
   ]
  },
  {
   "cell_type": "code",
   "execution_count": null,
   "id": "af8332dd-24f9-4b19-88f9-c62d0a4aebf1",
   "metadata": {
    "tags": []
   },
   "outputs": [],
   "source": [
    "# wavelength bin colors\n",
    "#jet = plt.get_cmap('jet')\n",
    "#cNorm = mpl.colors.Normalize(vmin=0, vmax=NSED)\n",
    "#scalarMap = cmx.ScalarMappable(norm=cNorm, cmap=jet)\n",
    "#all_colors = scalarMap.to_rgba(np.arange(NSED), alpha=1)"
   ]
  },
  {
   "cell_type": "code",
   "execution_count": null,
   "id": "1003d9d6-a40f-48b1-9ffc-bfab9f45ba93",
   "metadata": {},
   "outputs": [],
   "source": [
    "np.__version__"
   ]
  },
  {
   "cell_type": "code",
   "execution_count": null,
   "id": "c4cb2652-cb22-432e-b110-ae71d59dc793",
   "metadata": {},
   "outputs": [],
   "source": [
    "pd.__version__"
   ]
  },
  {
   "cell_type": "code",
   "execution_count": null,
   "id": "27abb749-99c7-4cf2-a9f6-5dae740ebe88",
   "metadata": {},
   "outputs": [],
   "source": [
    "from scipy.fftpack import fft, fftfreq\n",
    "\n",
    "from pyzdcf import pyzdcf"
   ]
  },
  {
   "cell_type": "code",
   "execution_count": null,
   "id": "ad03dc3d-6741-4478-82ba-1d5447529d9a",
   "metadata": {},
   "outputs": [],
   "source": [
    "def convertNumToDatestr(num):\n",
    "    year = num//10_000\n",
    "    month= (num-year*10_000)//100\n",
    "    day = (num-year*10_000-month*100)\n",
    "\n",
    "    year_str = str(year).zfill(4)\n",
    "    month_str = str(month).zfill(2)\n",
    "    day_str = str(day).zfill(2)\n",
    "    \n",
    "    datestr = f\"{year_str}-{month_str}-{day_str}\"\n",
    "    return pd.to_datetime(datestr)"
   ]
  },
  {
   "cell_type": "code",
   "execution_count": null,
   "id": "b38653bf-649e-4bd5-a75a-ab8908dbe7e4",
   "metadata": {},
   "outputs": [],
   "source": [
    "def pdf_lognormal(x,a0,mu,sigma):\n",
    "    \"\"\"\n",
    "    \"\"\"\n",
    "    pdf = a0*(np.exp(-(np.log(x) - mu)**2 / (2 * sigma**2))/ (x * sigma * np.sqrt(2 * np.pi)))\n",
    "    return pdf"
   ]
  },
  {
   "cell_type": "code",
   "execution_count": null,
   "id": "8a537aec-10d7-43c3-bb3f-170eee3e6960",
   "metadata": {},
   "outputs": [],
   "source": [
    "FIGXSIZE_1 = 14\n",
    "FIGYSIZE_1 = 8\n",
    "\n",
    "FIGXSIZE_0 = 14\n",
    "FIGYSIZE_0 = 7"
   ]
  },
  {
   "cell_type": "code",
   "execution_count": null,
   "id": "5d4208db-6ca6-45ac-a947-90ee94f5326f",
   "metadata": {},
   "outputs": [],
   "source": [
    "YEAR = 365.25\n",
    "MONTHS6 = YEAR/2.\n",
    "MONTHS4 = YEAR/3.\n",
    "QUARTER = YEAR/4. \n",
    "DAY = 1.\n",
    "MONTH = YEAR/12.\n",
    "WEEK = 7*DAY"
   ]
  },
  {
   "cell_type": "code",
   "execution_count": null,
   "id": "b6f35d9c-7652-4c23-b006-f11672a5f6bd",
   "metadata": {},
   "outputs": [],
   "source": [
    "def fourier_analysis_old(dates, values,mode = \"logxlogy\",title=\"Analyse de Fourier - Spectre des fréquences\",\n",
    "                    xlabel=\"Fréquence (cycles par jour)\",ylabel=\"Amplitude\",label=\"Amplitude spectrale\", legendout = True, datecut = 59500,figname=\"\"):\n",
    "    # Centrer les données autour de la moyenne\n",
    "\n",
    "\n",
    "    if datecut>0:\n",
    "        index_selected = np.where(dates >= datecut)[0]\n",
    "        dates = dates[index_selected]\n",
    "        values = values[index_selected]\n",
    "\n",
    "    \n",
    "    values_centered = values - np.mean(values)\n",
    "    \n",
    "\n",
    "    # Nombre de points\n",
    "    N = len(dates)\n",
    "\n",
    "    # sigma\n",
    "    sigma_x = np.sqrt(np.sum(values_centered**2)/N)\n",
    "    \n",
    "    # Intervalle d'échantillonnage (assume 1 jour entre chaque point)\n",
    "    T = np.mean(np.diff(dates))  # Période d'échantillonnage\n",
    "\n",
    "    # Fréquence de Nyquist (limite de Shannon)\n",
    "    f_nyquist = 1 / (2 * T)\n",
    "    \n",
    "    # Transformée de Fourier\n",
    "    fft_values = fft(values_centered)/ np.sqrt(N)\n",
    "    freqs = fftfreq(N, T)  # Fréquences associées\n",
    "\n",
    "    \n",
    "\n",
    "    # Seulement la moitié du spectre est utile (symétrie)\n",
    "    positive_freqs = freqs[:N // 2]\n",
    "    positive_fft_values = np.abs(fft_values[:N // 2])\n",
    "\n",
    "    # Tracer le spectre\n",
    "    fig, ax = plt.subplots(1,1,figsize=(FIGXSIZE_0, FIGYSIZE_0),layout=\"constrained\")\n",
    "    \n",
    "    ax.plot(positive_freqs, positive_fft_values,'ob-' ,ms=5,label=label)\n",
    "\n",
    "    if mode == \"logxliny\":\n",
    "        plt.xscale(\"log\")  # Définit l'axe X en échelle logarithmique\n",
    "        plt.yscale(\"linear\")  # Garde l'axe Y en échelle linéaire\n",
    "    elif mode == \"logxlogy\":\n",
    "        plt.xscale(\"log\")  # Définit l'axe X en échelle logarithmique\n",
    "        plt.yscale(\"log\")  # Garde l'axe Y en échelle logarithmique\n",
    "    elif mode == \"linxlogy\":\n",
    "        plt.xscale(\"linear\")  # Définit l'axe X en  échelle linéaire\n",
    "        plt.yscale(\"log\")  # Garde l'axe Y en échelle logarithmique\n",
    "    elif mode == \"linxliny\":\n",
    "        plt.xscale(\"linear\")  # Définit l'axe X en échelle linéaire\n",
    "        plt.yscale(\"linear\")  # Garde l'axe Y en échelle linéaire\n",
    "        \n",
    "    ax.set_xlabel(xlabel)\n",
    "    ax.set_ylabel(ylabel)\n",
    "    ax.set_title(title)\n",
    "    \n",
    "\n",
    "    ax.axvline(1/YEAR, color='r', linestyle='-', label=\"Cycle : 365 days - 1 year\")\n",
    "    ax.axvline(1/MONTHS6, color='r', linestyle='--', label=\"Cycle : 182.6 days - 6 months\")\n",
    "    ax.axvline(1/MONTHS4, color='r', linestyle=':', label=\"Cycle : 121.7 days - 4 months\")\n",
    "    ax.axvline(1/QUARTER, color='r', linestyle='-.', label=\"Cycle : 91.3 days - 3 months\")\n",
    "    ax.axvline(1/MONTH, color='r', linestyle=':', label=\"Cycle : 30.4 days - 1 month\")\n",
    "    ax.axvline(1/WEEK, color='purple', linestyle='--', label=\"Cycle : 7 days - 1 week\")\n",
    "    ax.axvline(DAY, color='purple', linestyle='-', label=\"Cycle : 1 day \")\n",
    "    ax.axvline(1./(0.5*DAY), color='purple', linestyle='-.', label=\"Cycle : 0.5 day \")\n",
    "\n",
    "    ax.axvline(f_nyquist, color='g', linestyle='--', label=f\"Nyquist frequency({f_nyquist:.3f} cycles/days)\")\n",
    "\n",
    "    txtstr_sigma = \"$\\sigma_x$ = \" + f\" {sigma_x:0.3f}\" \n",
    "    ax.text(0.01, 0.95, txtstr_sigma, transform=ax.transAxes, fontsize=16,verticalalignment='top', bbox=props)\n",
    "    \n",
    "\n",
    "    if legendout:\n",
    "        ax.legend(bbox_to_anchor=(1.05, 1.05),fontsize=12)\n",
    "    else:\n",
    "        ax.legend(fontsize=10,fancybox=True, framealpha=0.5)\n",
    "        \n",
    "    \n",
    "\n",
    "    if figname !=\"\":\n",
    "        fig.savefig(figname)\n",
    "        \n",
    "    \n",
    "    plt.show()\n",
    "\n",
    "# Appelle la fonction avec tes données\n",
    "# fourier_analysis(dates, values)"
   ]
  },
  {
   "cell_type": "code",
   "execution_count": null,
   "id": "32307950-eeb2-42a6-85e8-aa733729d95f",
   "metadata": {},
   "outputs": [],
   "source": [
    "def fourier_analysis(dates, values, ax, mode = \"logxlogy\",title=\"Analyse de Fourier - Spectre des fréquences\",\n",
    "                    xlabel=\"frequency (day)$^{-1}$\",ylabel=\"y-unit $\\cdot \\sqrt{day}$\",label=\"DFT amplitude\", legendout = True, datecut = 59500):\n",
    "    # Centrer les données autour de la moyenne\n",
    "\n",
    "\n",
    "    if datecut>0:\n",
    "        index_selected = np.where(dates >= datecut)[0]\n",
    "        dates = dates[index_selected]\n",
    "        values = values[index_selected]\n",
    "    \n",
    "    values_centered = values - np.mean(values)\n",
    "\n",
    "    # Nombre de points\n",
    "    N = len(dates)\n",
    "    # Intervalle d'échantillonnage (assume 1 jour entre chaque point)\n",
    "    T = np.mean(np.diff(dates))  # Période d'échantillonnage\n",
    "\n",
    "    # signal duration\n",
    "    Delta_T = dates.max()-dates.min()\n",
    "\n",
    "    #frequency spacing\n",
    "    Delta_f = 1/Delta_T\n",
    "    \n",
    "\n",
    "    # Fréquence de Nyquist (limite de Shannon)\n",
    "    f_nyquist = 1 / (2 * T)\n",
    "    \n",
    "    # Transformée de Fourier\n",
    "    fft_values = fft(values_centered)/ np.sqrt(N)\n",
    "    freqs = fftfreq(N, T)  # Fréquences associées\n",
    "\n",
    "    # sigma_x\n",
    "    sigma_x = np.sqrt(np.sum(values_centered**2)/N)\n",
    "\n",
    "    \n",
    "\n",
    "    # Seulement la moitié du spectre est utile (symétrie)\n",
    "    positive_freqs = freqs[:N // 2]\n",
    "    positive_fft_values = np.abs(fft_values[:N // 2])\n",
    "\n",
    "    # Calcul de l'écart-type fréquentiel en Hz\n",
    "    power_spectrum = np.abs(positive_fft_values) ** 2\n",
    "    sigma_f = np.sqrt(np.sum(positive_freqs**2 * power_spectrum) / np.sum(power_spectrum))\n",
    "    \n",
    "    sigma_pp = np.sqrt(np.sum(power_spectrum))\n",
    "    sigma_x = np.sqrt(np.sum(values_centered**2)/N)\n",
    "\n",
    "    # Tracer le spectre\n",
    "    #plt.figure(figsize=(16, 6),layout=\"constrained\")\n",
    "    \n",
    "    ax.plot(positive_freqs, positive_fft_values,'ob-' ,ms=5,label=label)\n",
    "\n",
    "    if mode == \"logxliny\":\n",
    "        ax.set_xscale(\"log\")  # Définit l'axe X en échelle logarithmique\n",
    "        ax.set_yscale(\"linear\")  # Garde l'axe Y en échelle linéaire\n",
    "    elif mode == \"logxlogy\":\n",
    "        ax.set_xscale(\"log\")  # Définit l'axe X en échelle logarithmique\n",
    "        ax.set_yscale(\"log\")  # Garde l'axe Y en échelle logarithmique\n",
    "    elif mode == \"linxlogy\":\n",
    "        ax.set_xscale(\"linear\")  # Définit l'axe X en  échelle linéaire\n",
    "        ax.set_yscale(\"log\")  # Garde l'axe Y en échelle logarithmique\n",
    "    elif mode == \"linxliny\":\n",
    "        ax.set_xscale(\"linear\")  # Définit l'axe X en échelle linéaire\n",
    "        ax.set_yscale(\"linear\")  # Garde l'axe Y en échelle linéaire\n",
    "        \n",
    "    ax.set_xlabel(xlabel)\n",
    "    ax.set_ylabel(ylabel)\n",
    "    ax.set_title(title)\n",
    "    \n",
    "\n",
    "    ax.axvline(1/YEAR, color='r', linestyle='-', label=\"Cycle : 365 days - 1 year\")\n",
    "    ax.axvline(1/MONTHS6, color='r', linestyle='--', label=\"Cycle : 182.6 days - 6 months\")\n",
    "    ax.axvline(1/MONTHS4, color='r', linestyle=':', label=\"Cycle : 121.7 days - 4 months\")\n",
    "    ax.axvline(1/QUARTER, color='r', linestyle='-.', label=\"Cycle : 91.3 days - 3 months\")\n",
    "    ax.axvline(1/MONTH, color='r', linestyle=':', label=\"Cycle : 30.4 days - 1 month\")\n",
    "    ax.axvline(1/WEEK, color='purple', linestyle='--', label=\"Cycle : 7 days - 1 week\")\n",
    "    ax.axvline(DAY, color='purple', linestyle='-', label=\"Cycle : 1 day \")\n",
    "    ax.axvline(1./(0.5*DAY), color='purple', linestyle='-.', label=\"Cycle : 0.5 day \")\n",
    "\n",
    "    ax.axvline(f_nyquist, color='g', linestyle='--', label=f\"Nyquist frequency({f_nyquist:.3f} cycles/days)\")\n",
    "\n",
    "    if legendout:\n",
    "        ax.legend(bbox_to_anchor=(1.05, 1.05),fontsize=12)\n",
    "    else:\n",
    "        ax.legend(fontsize=10,fancybox=True, framealpha=0.5)\n",
    "\n",
    "    txtstr_sigma = \"$\\sigma_x$ = \" + f\" {sigma_x:0.3f}\" \n",
    "    txtstr_Ts = \"$T_s$ = \"  + f\" {T:0.3f} days\" \n",
    "    txtstr_Fs = \"$f_s$ = \"  + f\" {Delta_f:0.3f} / days\" \n",
    "\n",
    "    txtstr_info = \"\\n\".join([txtstr_sigma,txtstr_Ts ,txtstr_Fs])\n",
    "    ax.text(0.01, 0.95, txtstr_info, transform=ax.transAxes, fontsize=16,verticalalignment='top', bbox=props)\n",
    "    \n",
    "    \n",
    " \n",
    "    \n",
    "# Appelle la fonction avec tes données\n",
    "# fourier_analysis(dates, values)\n",
    "    return positive_freqs, positive_fft_values, sigma_x,sigma_pp"
   ]
  },
  {
   "cell_type": "code",
   "execution_count": null,
   "id": "e2afdf4c-c645-431a-bab5-bd5e0b2ddeb6",
   "metadata": {},
   "outputs": [],
   "source": [
    "def ComputeZDCF(filename_in,df_pwv_curve,minpts=20):\n",
    "    \"\"\"\n",
    "    Compute the Discrete Covariance Curve with pyzdcf\n",
    "\n",
    "    parameters :\n",
    "    - df_pwv_curve : pandas dataframe with 3 columns : (time, pwv, sigma)\n",
    "      The time has to be chosen in terms of days/hours,min ..., outside this function\n",
    "    - filename_in : csv file where are written the tempory DTC curve\n",
    "    \n",
    "    \"\"\"\n",
    "    \n",
    "\n",
    "\n",
    "    # add the error on the point \n",
    "    #df_pwvc = df_pwvc.assign(sig_pwv = lambda x: sigma_repeatability)\n",
    "\n",
    "    full_filename_in = os.path.join(dcf_path_input,filename_in)\n",
    "    df_pwv_curve.to_csv(full_filename_in, index=False,header=False)\n",
    "\n",
    "    # parameters for the pyzdcf\n",
    "    params_dcf = dict(autocf    =  True, # Autocorrelation (T) or cross-correlation (F)\n",
    "              prefix            = 'acf',  # Output files prefix\n",
    "              uniform_sampling  =  False, # Uniform sampling?\n",
    "              omit_zero_lags    =  False,  # Omit zero lag points?\n",
    "              minpts            =  minpts,     # Min. num. of points per bin (0 is a flag for default value of 11)\n",
    "              num_MC            =  100,   # Num. of Monte Carlo simulations for error estimation\n",
    "              lc1_name          =  filename_in,   # Name of the first light curve file\n",
    "              lc2_name          =  filename_in    # Name of the second light curve file (required only if we do CCF)\n",
    "             )\n",
    "\n",
    "    # compute the ZDCF\n",
    "    \n",
    "    dcf_df = pyzdcf(input_dir  =  dcf_path_input + \"/\" , \n",
    "                    output_dir = dcf_path_output + \"/\", \n",
    "                    intr       = False, \n",
    "                    parameters = params_dcf, \n",
    "                    sep        = ',', \n",
    "                    sparse     = 'auto', \n",
    "                    verbose    = False)\n",
    "    return dcf_df"
   ]
  },
  {
   "cell_type": "markdown",
   "id": "4f13d6a3-7793-4bc0-920a-1d690d9f84b2",
   "metadata": {},
   "source": [
    "## Configuration"
   ]
  },
  {
   "cell_type": "code",
   "execution_count": null,
   "id": "d0150403-bf34-4e93-bf32-5561a0d4b395",
   "metadata": {},
   "outputs": [],
   "source": [
    "tmin_select = 59500"
   ]
  },
  {
   "cell_type": "code",
   "execution_count": null,
   "id": "c8cb2e48-0b34-4cbf-8379-43f7065112f7",
   "metadata": {},
   "outputs": [],
   "source": [
    "observing_location = EarthLocation.of_site('Rubin Observatory')\n",
    "tz = timezone('America/Santiago')"
   ]
  },
  {
   "cell_type": "markdown",
   "id": "6175a4a4-5c98-4e09-8ffd-a17282f6094e",
   "metadata": {},
   "source": [
    "### MERRA2"
   ]
  },
  {
   "cell_type": "code",
   "execution_count": null,
   "id": "d84a85da-768d-459f-8711-54e04f2cff75",
   "metadata": {
    "tags": []
   },
   "outputs": [],
   "source": [
    "filename_m2 = \"../../SpectroMerra2/MerradataMerged/Merge_inst1_2d_asm_Nx_M2I1NXASM-2021-2024.csv\"\n",
    "filename_m2b = \"../../SpectroMerra2/MerradataMerged/Merge_tavg1_2d_aer_Nx_M2T1NXAER-2021-2024.csv\""
   ]
  },
  {
   "cell_type": "code",
   "execution_count": null,
   "id": "dd89c1b3-43c8-43ae-b10d-f39e8f8b2963",
   "metadata": {
    "tags": []
   },
   "outputs": [],
   "source": [
    "df_m = pd.read_csv(filename_m2)\n",
    "df_mb = pd.read_csv(filename_m2b)"
   ]
  },
  {
   "cell_type": "code",
   "execution_count": null,
   "id": "a4c21a3e-f004-4b43-871d-8b479451b594",
   "metadata": {},
   "outputs": [],
   "source": [
    "Nm = len(df_m)\n",
    "Nmb = len(df_mb)\n",
    "print(\"Number of points :: \",Nm,Nmb)"
   ]
  },
  {
   "cell_type": "code",
   "execution_count": null,
   "id": "e1e70f0b-8123-48fc-8faa-f5f468c85a3a",
   "metadata": {},
   "outputs": [],
   "source": [
    "df_mb.columns"
   ]
  },
  {
   "cell_type": "code",
   "execution_count": null,
   "id": "0078d85a-f0a9-43f7-bb1a-30358769fe86",
   "metadata": {},
   "outputs": [],
   "source": [
    "TMIN = pd.to_datetime(df_m.time.min())\n",
    "TMAX = pd.to_datetime(df_m.time.max())"
   ]
  },
  {
   "cell_type": "markdown",
   "id": "e65aa79a-58d6-4022-8000-f2d8900c8f43",
   "metadata": {},
   "source": [
    "### Convert in MJD"
   ]
  },
  {
   "cell_type": "code",
   "execution_count": null,
   "id": "b58fea8d-18e5-4f69-ad7d-50b5af7150a9",
   "metadata": {
    "tags": []
   },
   "outputs": [],
   "source": [
    "df_m[\"mjd\"] = Time(pd.to_datetime(df_m.time.values)).mjd\n",
    "df_mb[\"mjd\"] = Time(pd.to_datetime(df_mb.time.values)).mjd"
   ]
  },
  {
   "cell_type": "code",
   "execution_count": null,
   "id": "fc6b3b3d-7161-44ee-94e4-d06eaec6745c",
   "metadata": {},
   "outputs": [],
   "source": [
    "mjd_zoom_start = Time(\"2024-01-01\").mjd\n",
    "mjd_zoom_stop = Time(\"2025-06-30\").mjd"
   ]
  },
  {
   "cell_type": "code",
   "execution_count": null,
   "id": "3f167569-b85b-4ef7-9c48-deda686e4139",
   "metadata": {
    "tags": []
   },
   "outputs": [],
   "source": [
    "mjd_obs_start = df_m[\"mjd\"].min() \n",
    "mjd_obs_stop = df_m[\"mjd\"].max() "
   ]
  },
  {
   "cell_type": "markdown",
   "id": "1de0255c-cbc2-4603-997c-8eaaa18eeef2",
   "metadata": {},
   "source": [
    "## PWV"
   ]
  },
  {
   "cell_type": "code",
   "execution_count": null,
   "id": "3fd02994-4a05-4145-8da9-10ac7f5b920a",
   "metadata": {},
   "outputs": [],
   "source": [
    "from matplotlib.dates import DateFormatter\n",
    "#date_form = DateFormatter(\"%y-%m-%dT%H:%M\")\n",
    "date_form = DateFormatter(\"%y-%m\")\n",
    "\n",
    "fig = plt.figure(figsize=(18,10))\n",
    "gs = GridSpec(2, 1,figure=fig)\n",
    "#gs = GridSpec(1, 1,figure=fig)\n",
    "ax1 = fig.add_subplot(gs[0])\n",
    "ax2 = fig.add_subplot(gs[1])\n",
    "        \n",
    "leg1=ax1.get_legend()\n",
    "leg2=ax2.get_legend()\n",
    "\n",
    "\n",
    "ax1.plot(pd.to_datetime(df_m.Time.values), df_m.TQV.values,c=\"b\",lw=0.5,label=\"Merra2\")\n",
    "ax1.set_xlabel(\"time\")\n",
    "ax1.xaxis.set_major_formatter(date_form)\n",
    "ax1.set_title(\"Precipitable water vapor from Merra2\")\n",
    "ax1.legend()\n",
    "ax1.set_ylabel(\"PWV (mm)\")\n",
    "#ax.set_xlim(TMIN,TMAX)\n",
    "\n",
    "data = df_m.TQV.values\n",
    "mean = np.mean(data)\n",
    "median = np.median(data)\n",
    "std = np.std(data)\n",
    "textstr = \"\\n\".join((f\"Expected max-range for PWV : \",\n",
    "                     f\"- average : {mean:.2f} mm\",\n",
    "                     f\"- median : {median:.2f} mm\",\n",
    "                     f\"- sigma : {std:.2f} mm\",     \n",
    "                    ))\n",
    "ax1.text(0.05, 0.95, textstr, transform=ax1.transAxes, fontsize=14,verticalalignment='top', bbox=props)\n",
    "\n",
    "\n",
    "ax2.plot(df_m.mjd, df_m.TQV.values,c=\"b\",lw=0.5,label=\"Merra2\")\n",
    "ax2.set_xlabel(\"time (MJD)\")\n",
    "ax2.legend()\n",
    "ax2.set_ylabel(\"PWV (mm)\")\n",
    "\n",
    "figname =f\"{pathfigs}/pwv_allpoints_merra2\"+figtype\n",
    "fig.savefig(figname)\n",
    "plt.show()\n"
   ]
  },
  {
   "cell_type": "markdown",
   "id": "bb566395-2061-4c56-a1c3-1ba49928e429",
   "metadata": {},
   "source": [
    "### DCT for PWV"
   ]
  },
  {
   "cell_type": "code",
   "execution_count": null,
   "id": "f87b6753-bffb-431f-a121-e91ba2fd4a26",
   "metadata": {},
   "outputs": [],
   "source": [
    "df_m = df_m[df_m.mjd>tmin_select]\n",
    "Nm = len(df_m)"
   ]
  },
  {
   "cell_type": "code",
   "execution_count": null,
   "id": "ae775ef6-a031-4f92-821c-0de8d0b422d9",
   "metadata": {},
   "outputs": [],
   "source": [
    "NSAMP = 10000\n",
    "index_range = np.arange(0,Nm ,1)\n",
    "index_selected = np.random.choice(index_range , size=NSAMP,replace = False)\n",
    "index_selected = np.sort(index_selected)\n",
    "index_selected = index_range "
   ]
  },
  {
   "cell_type": "code",
   "execution_count": null,
   "id": "72567688-536e-44b5-b23c-4372167bf9f7",
   "metadata": {},
   "outputs": [],
   "source": [
    "SIGMA_PWVREPEATABILITY = 0.26"
   ]
  },
  {
   "cell_type": "code",
   "execution_count": null,
   "id": "418b331f-b7e7-418c-b8c9-eb2c6dd2132c",
   "metadata": {},
   "outputs": [],
   "source": [
    "df_dcf_in = df_m[[\"mjd\",\"TQV\"]]\n",
    "tstart = df_dcf_in[\"mjd\"].min()\n",
    "tstop = df_dcf_in[\"mjd\"].max()\n",
    "df_dcf_in[\"t_day\"] = df_dcf_in[\"mjd\"] - tstart\n",
    "df_dcf_in = df_dcf_in[[\"t_day\",\"TQV\"]] "
   ]
  },
  {
   "cell_type": "code",
   "execution_count": null,
   "id": "50d72dbd-2839-4633-b6ba-4828a98f71fc",
   "metadata": {},
   "outputs": [],
   "source": [
    "df_dcf_in = df_dcf_in.assign(sig_pwv = lambda x: SIGMA_PWVREPEATABILITY)\n",
    "df_dcf_in = df_dcf_in.iloc[index_selected]"
   ]
  },
  {
   "cell_type": "code",
   "execution_count": null,
   "id": "447078b8-da13-41fb-af9a-132c6a185395",
   "metadata": {},
   "outputs": [],
   "source": [
    "df_dcf_out = ComputeZDCF(\"dcf_in_pwv_merra2.csv\",df_dcf_in, minpts=20)"
   ]
  },
  {
   "cell_type": "code",
   "execution_count": null,
   "id": "11840807-cd36-48fa-af83-091b9e4c2422",
   "metadata": {},
   "outputs": [],
   "source": [
    "xerr = df_dcf_out[[\"-sig(tau)\",\"+sig(tau)\"]].values.T\t\n",
    "yerr = df_dcf_out[[\"-err(dcf)\",\"+err(dcf)\"]].values.T\t\n",
    "x = df_dcf_out[\"tau\"].values\n",
    "y = df_dcf_out[\"dcf\"].values"
   ]
  },
  {
   "cell_type": "code",
   "execution_count": null,
   "id": "d021dd4d-a398-45d9-9a78-9b41870e5b00",
   "metadata": {},
   "outputs": [],
   "source": [
    "fig,ax = plt.subplots(1,1,figsize=(12,5),layout=\"constrained\")\n",
    "ax.errorbar(x,y,xerr=xerr,yerr=yerr,marker='o', mfc='red',linewidth=0.5,\n",
    "         mec='blue', ms=2, mew=2,ecolor=\"k\",elinewidth=2,capsize=2,uplims=True, lolims=True)\n",
    "ax.grid()\n",
    "ax.set_ylim(-1,1)\n",
    "ax.set_title(f\"Discrete covariance function on PWV measurements in Merra2\")\n",
    "ax.set_xlabel(\"Time (days)\")\n",
    "ax.set_ylabel(\"DCF (no units)\")"
   ]
  },
  {
   "cell_type": "markdown",
   "id": "3338a245-30b8-444c-971e-d5d1efc68b1f",
   "metadata": {},
   "source": [
    "## Ozone"
   ]
  },
  {
   "cell_type": "code",
   "execution_count": null,
   "id": "fbe59757-4742-4a83-b5b6-a43953a6c5d4",
   "metadata": {},
   "outputs": [],
   "source": [
    "from matplotlib.dates import DateFormatter\n",
    "#date_form = DateFormatter(\"%y-%m-%dT%H:%M\")\n",
    "date_form = DateFormatter(\"%y-%m\")\n",
    "\n",
    "fig = plt.figure(figsize=(18,10))\n",
    "gs = GridSpec(2, 1,figure=fig)\n",
    "\n",
    "ax1 = fig.add_subplot(gs[0])\n",
    "ax2 = fig.add_subplot(gs[1])\n",
    "        \n",
    "leg1=ax1.get_legend()\n",
    "leg2=ax2.get_legend()\n",
    "\n",
    "\n",
    "ax1.plot(pd.to_datetime(df_m.Time.values), df_m.TO3.values,c=\"r\",lw=0.5,label=\"Merra2\")\n",
    "ax1.set_xlabel(\"time\")\n",
    "ax1.xaxis.set_major_formatter(date_form)\n",
    "ax1.set_title(\"Ozone from Merra2\")\n",
    "#ax1.legend()\n",
    "ax1.set_ylabel(\"Ozone (DU)\")\n",
    "#ax.set_xlim(TMIN,TMAX)\n",
    "\n",
    "data = df_m.TO3.values\n",
    "mean = np.mean(data)\n",
    "median = np.median(data)\n",
    "std = np.std(data)\n",
    "textstr = \"\\n\".join((f\"Expected range for Ozone : \",\n",
    "                     f\"- average : {mean:.2f} DU\",\n",
    "                     f\"- median : {median:.2f} DU\",\n",
    "                     f\"- sigma : {std:.2f} DU\",     \n",
    "                    ))\n",
    "ax1.text(0.05, 0.95, textstr, transform=ax1.transAxes, fontsize=14,verticalalignment='top', bbox=props)\n",
    "\n",
    "ax2.plot(df_m.mjd, df_m.TO3.values,c=\"r\",lw=0.5,label=\"Merra2\")\n",
    "ax2.set_xlabel(\"time (MJD)\")\n",
    "ax2.legend()\n",
    "ax2.set_ylabel(\"Ozone (DU)\")\n",
    "\n",
    "\n",
    "figname =f\"{pathfigs}/ozone_allpoints_merra2\"+figtype\n",
    "fig.savefig(figname)\n",
    "plt.show()\n"
   ]
  },
  {
   "cell_type": "markdown",
   "id": "e03808f5-012a-406d-aba5-049a5c44cb95",
   "metadata": {},
   "source": [
    "### DCT for ozone"
   ]
  },
  {
   "cell_type": "code",
   "execution_count": null,
   "id": "5f9b82fd-63f4-474b-8251-56b487636537",
   "metadata": {},
   "outputs": [],
   "source": [
    "SIGMA_OZONEREPEATABILITY = 5."
   ]
  },
  {
   "cell_type": "code",
   "execution_count": null,
   "id": "b8f29bb5-78bb-4871-b129-9ef83b030aa9",
   "metadata": {},
   "outputs": [],
   "source": [
    "df_m = df_m[df_m.mjd>tmin_select]\n",
    "Nm = len(df_m)"
   ]
  },
  {
   "cell_type": "code",
   "execution_count": null,
   "id": "e26defa2-afa4-464b-9186-4641b539d6a9",
   "metadata": {},
   "outputs": [],
   "source": [
    "NSAMP = 10000\n",
    "index_range = np.arange(0,Nm ,1)\n",
    "index_selected = np.random.choice(index_range , size=NSAMP,replace = False)\n",
    "index_selected = np.sort(index_selected)\n",
    "index_selected = index_range"
   ]
  },
  {
   "cell_type": "code",
   "execution_count": null,
   "id": "f3692590-f5fd-492f-97d6-bfc99b2365ff",
   "metadata": {},
   "outputs": [],
   "source": [
    "df_dcf_in = df_m[[\"mjd\",\"TO3\"]]\n",
    "tstart = df_dcf_in[\"mjd\"].min()\n",
    "tstop = df_dcf_in[\"mjd\"].max()\n",
    "df_dcf_in[\"t_day\"] = df_dcf_in[\"mjd\"] - tstart\n",
    "df_dcf_in = df_dcf_in[[\"t_day\",\"TO3\"]] "
   ]
  },
  {
   "cell_type": "code",
   "execution_count": null,
   "id": "1cb58d98-718a-4b62-9e2b-7df23f807110",
   "metadata": {},
   "outputs": [],
   "source": [
    "df_dcf_in = df_dcf_in.assign(sig_ozone = lambda x: SIGMA_OZONEREPEATABILITY )\n",
    "df_dcf_in = df_dcf_in.iloc[index_selected]"
   ]
  },
  {
   "cell_type": "code",
   "execution_count": null,
   "id": "622e571b-73e7-4eae-bacc-9cb8cbaa4dd1",
   "metadata": {},
   "outputs": [],
   "source": [
    "df_dcf_out = ComputeZDCF(\"dcf_in_ozone_merra2.csv\",df_dcf_in, minpts = 20)"
   ]
  },
  {
   "cell_type": "code",
   "execution_count": null,
   "id": "631edcf5-5ff6-49f7-a6b9-40ecf89f5a2a",
   "metadata": {},
   "outputs": [],
   "source": [
    "xerr = df_dcf_out[[\"-sig(tau)\",\"+sig(tau)\"]].values.T\t\n",
    "yerr = df_dcf_out[[\"-err(dcf)\",\"+err(dcf)\"]].values.T\t\n",
    "x = df_dcf_out[\"tau\"].values\n",
    "y = df_dcf_out[\"dcf\"].values"
   ]
  },
  {
   "cell_type": "code",
   "execution_count": null,
   "id": "c00ebbdf-ac1e-4d1f-98d3-9822ab4f3cd3",
   "metadata": {},
   "outputs": [],
   "source": [
    "fig,ax = plt.subplots(1,1,figsize=(12,5),layout=\"constrained\")\n",
    "ax.errorbar(x,y,xerr=xerr,yerr=yerr,marker='o', mfc='red',linewidth=0.5,\n",
    "         mec='red', ms=2, mew=2,ecolor=\"k\",elinewidth=2,capsize=2,uplims=True, lolims=True)\n",
    "ax.grid()\n",
    "ax.set_ylim(-1,1)\n",
    "ax.set_title(f\"Discrete covariance function on Ozone measurements in Merra2\")\n",
    "ax.set_xlabel(\"Time (days)\")\n",
    "ax.set_ylabel(\"DCF (no units)\")"
   ]
  },
  {
   "cell_type": "markdown",
   "id": "58b4ac69-947d-4b40-9b5f-aec8c9d6f841",
   "metadata": {},
   "source": [
    "## Aerosol VAOD"
   ]
  },
  {
   "cell_type": "code",
   "execution_count": null,
   "id": "8424c184-6bc3-4adf-942a-cffd5f9b924f",
   "metadata": {},
   "outputs": [],
   "source": [
    "from matplotlib.dates import DateFormatter\n",
    "#date_form = DateFormatter(\"%y-%m-%dT%H:%M\")\n",
    "date_form = DateFormatter(\"%y-%m\")\n",
    "\n",
    "fig = plt.figure(figsize=(18,10))\n",
    "gs = GridSpec(2, 1,figure=fig)\n",
    "ax1 = fig.add_subplot(gs[0])\n",
    "ax2 = fig.add_subplot(gs[1])\n",
    "        \n",
    "leg1=ax1.get_legend()\n",
    "leg2=ax2.get_legend()\n",
    "\n",
    "\n",
    "ax1.plot(pd.to_datetime(df_mb.Time.values), df_mb.TOTEXTTAU.values,c=\"g\",lw=0.5,label=\"Merra2\")\n",
    "ax1.set_xlabel(\"time\")\n",
    "ax1.xaxis.set_major_formatter(date_form)\n",
    "ax1.set_title(\"VAOD from Merra2\")\n",
    "ax1.legend()\n",
    "ax1.set_ylabel(\"VAOD\")\n",
    "#ax.set_xlim(TMIN,TMAX)\n",
    "data = df_mb.TOTEXTTAU.values\n",
    "mean = np.mean(data)\n",
    "median = np.median(data)\n",
    "std = np.std(data)\n",
    "textstr = \"\\n\".join((f\"Expected max-range for VAOD : \",\n",
    "                     f\"- average : {mean:.3f}\",\n",
    "                     f\"- median : {median:.3f}\",\n",
    "                     f\"- sigma : {std:.3f}\",     \n",
    "                    ))\n",
    "ax1.text(0.05, 0.95, textstr, transform=ax1.transAxes, fontsize=14,verticalalignment='top', bbox=props)\n",
    "\n",
    "ax2.plot(df_mb.mjd, df_mb.TOTEXTTAU.values,c=\"g\",lw=0.5,label=\"Merra2\")\n",
    "ax2.set_xlabel(\"time (MJD)\")\n",
    "ax2.legend()\n",
    "ax2.set_ylabel(\"VAOD\")\n",
    "\n",
    "\n",
    "figname =f\"{pathfigs}/vaod_allpoints_merra2\"+figtype\n",
    "fig.savefig(figname)\n",
    "plt.show()\n"
   ]
  },
  {
   "cell_type": "markdown",
   "id": "951ceb33-29f4-4a32-83c5-a9d111048ae6",
   "metadata": {},
   "source": [
    "### DCT for VAOD "
   ]
  },
  {
   "cell_type": "code",
   "execution_count": null,
   "id": "5ff70c3a-32c2-4528-9b2f-12c6778335f4",
   "metadata": {},
   "outputs": [],
   "source": [
    "SIGMA_VAODREPEATABILITY = 0.01"
   ]
  },
  {
   "cell_type": "code",
   "execution_count": null,
   "id": "6afc8b96-63f1-4ce9-82e6-ed7cc46ba31d",
   "metadata": {},
   "outputs": [],
   "source": [
    "df_mb = df_mb[df_mb.mjd>tmin_select]\n",
    "Nmb = len(df_mb)"
   ]
  },
  {
   "cell_type": "code",
   "execution_count": null,
   "id": "d827cc45-ea06-4292-8e2f-2eb0591087d7",
   "metadata": {},
   "outputs": [],
   "source": [
    "NSAMP = 10000\n",
    "index_range = np.arange(0,Nmb ,1)\n",
    "index_selected = np.random.choice(index_range , size=NSAMP,replace = False)\n",
    "index_selected = np.sort(index_selected)\n",
    "index_selected = index_range"
   ]
  },
  {
   "cell_type": "code",
   "execution_count": null,
   "id": "388841d5-c7e1-4f30-811b-b9464a4abe5f",
   "metadata": {},
   "outputs": [],
   "source": [
    "df_dcf_in = df_mb[[\"mjd\",\"TOTEXTTAU\"]]\n",
    "tstart = df_dcf_in[\"mjd\"].min()\n",
    "tstop = df_dcf_in[\"mjd\"].max()\n",
    "df_dcf_in[\"t_day\"] = df_dcf_in[\"mjd\"] - tstart\n",
    "df_dcf_in = df_dcf_in[[\"t_day\",\"TOTEXTTAU\"]] "
   ]
  },
  {
   "cell_type": "code",
   "execution_count": null,
   "id": "339b5262-f1db-4813-abf1-1a53b47f6d04",
   "metadata": {},
   "outputs": [],
   "source": [
    "df_dcf_in = df_dcf_in.assign(sig_vaod = lambda x: SIGMA_VAODREPEATABILITY )\n",
    "df_dcf_in = df_dcf_in.iloc[index_selected]"
   ]
  },
  {
   "cell_type": "code",
   "execution_count": null,
   "id": "de4c22ac-cf47-40e3-b206-e293fb74d228",
   "metadata": {},
   "outputs": [],
   "source": [
    "df_dcf_out = ComputeZDCF(\"dcf_in_vaod_merra2.csv\",df_dcf_in, minpts = 20 )"
   ]
  },
  {
   "cell_type": "code",
   "execution_count": null,
   "id": "8d7d7acd-4ae0-4cf1-9aa3-4255eafe6f41",
   "metadata": {},
   "outputs": [],
   "source": [
    "xerr = df_dcf_out[[\"-sig(tau)\",\"+sig(tau)\"]].values.T\t\n",
    "yerr = df_dcf_out[[\"-err(dcf)\",\"+err(dcf)\"]].values.T\t\n",
    "x = df_dcf_out[\"tau\"].values\n",
    "y = df_dcf_out[\"dcf\"].values"
   ]
  },
  {
   "cell_type": "code",
   "execution_count": null,
   "id": "baa800bd-2455-4819-b0d1-fa0f5655c2b4",
   "metadata": {},
   "outputs": [],
   "source": [
    "fig,ax = plt.subplots(1,1,figsize=(12,5),layout=\"constrained\")\n",
    "ax.errorbar(x,y,xerr=xerr,yerr=yerr,marker='o', mfc='green',linewidth=0.5,\n",
    "         mec='green', ms=2, mew=2,ecolor=\"k\",elinewidth=2,capsize=2,uplims=True, lolims=True)\n",
    "ax.grid()\n",
    "ax.set_ylim(-1,1)\n",
    "ax.set_title(f\"Discrete covariance function on VAOD measurements in Merra2\")\n",
    "ax.set_xlabel(\"Time (days)\")\n",
    "ax.set_ylabel(\"DCF (no units)\")"
   ]
  },
  {
   "cell_type": "markdown",
   "id": "70e98d5e-523d-423b-8b16-808ca897107c",
   "metadata": {},
   "source": [
    "## Aerosol Angstrom"
   ]
  },
  {
   "cell_type": "code",
   "execution_count": null,
   "id": "bdbbe50f-56ca-4c7d-ae34-ea25d0e6b07d",
   "metadata": {},
   "outputs": [],
   "source": [
    "from matplotlib.dates import DateFormatter\n",
    "#date_form = DateFormatter(\"%y-%m-%dT%H:%M\")\n",
    "date_form = DateFormatter(\"%y-%m\")\n",
    "\n",
    "fig = plt.figure(figsize=(18,10))\n",
    "gs = GridSpec(2, 1,figure=fig)\n",
    "\n",
    "ax1 = fig.add_subplot(gs[0])\n",
    "ax2 = fig.add_subplot(gs[1])\n",
    "        \n",
    "leg1=ax1.get_legend()\n",
    "leg2=ax2.get_legend()\n",
    "\n",
    "\n",
    "ax1.plot(pd.to_datetime(df_mb.Time.values), df_mb.TOTANGSTR.values,c=\"purple\",lw=0.5,label=\"Merra2\")\n",
    "ax1.set_xlabel(\"time\")\n",
    "ax1.xaxis.set_major_formatter(date_form)\n",
    "ax1.set_title(\"VAOD_Angstrom from Merra2\")\n",
    "ax1.legend()\n",
    "ax1.set_ylabel(\"VAOD_Angstrom\")\n",
    "#ax.set_xlim(TMIN,TMAX)\n",
    "data = df_mb.TOTANGSTR.values\n",
    "mean = np.mean(data)\n",
    "median = np.median(data)\n",
    "std = np.std(data)\n",
    "textstr = \"\\n\".join((f\"Expected max-range for VAOD-Angstrom : \",\n",
    "                     f\"- average : {mean:.3f}\",\n",
    "                     f\"- median : {median:.3f}\",\n",
    "                     f\"- sigma : {std:.3f}\",     \n",
    "                    ))\n",
    "ax1.text(0.05, 0.95, textstr, transform=ax1.transAxes, fontsize=14,verticalalignment='top', bbox=props)\n",
    "\n",
    "\n",
    "ax2.plot(df_mb.mjd, df_mb.TOTANGSTR.values,c=\"purple\",lw=0.5,label=\"Merra2\")\n",
    "ax2.set_xlabel(\"time (MJD)\")\n",
    "ax2.legend()\n",
    "ax2.set_ylabel(\"VAOD\")\n",
    "\n",
    "\n",
    "\n",
    "figname =f\"{pathfigs}/vaodangstrom_allpoints_merra2\"+figtype\n",
    "fig.savefig(figname)\n",
    "plt.show()"
   ]
  },
  {
   "cell_type": "markdown",
   "id": "c9bef469-82df-4b27-a08f-21af85491afa",
   "metadata": {},
   "source": [
    "### DCT for Angstrom"
   ]
  },
  {
   "cell_type": "code",
   "execution_count": null,
   "id": "9c0e8bfc-de62-4c39-9765-ebd070bccd8f",
   "metadata": {},
   "outputs": [],
   "source": [
    "SIGMA_ANGSTROMREPEATABILITY = 0.008"
   ]
  },
  {
   "cell_type": "code",
   "execution_count": null,
   "id": "6d4ef544-30cb-4112-bc57-194306737c08",
   "metadata": {},
   "outputs": [],
   "source": [
    "df_mb = df_mb[df_mb.mjd>tmin_select]\n",
    "Nmb = len(df_mb)"
   ]
  },
  {
   "cell_type": "code",
   "execution_count": null,
   "id": "c5ec3e75-286e-41cb-89fc-6ac690874eff",
   "metadata": {},
   "outputs": [],
   "source": [
    "NSAMP = 10000\n",
    "index_range = np.arange(0,Nmb ,1)\n",
    "index_selected = np.random.choice(index_range , size=NSAMP,replace = False)\n",
    "index_selected = np.sort(index_selected)\n",
    "index_selected = index_range"
   ]
  },
  {
   "cell_type": "code",
   "execution_count": null,
   "id": "164c1717-fcde-469b-9319-f155581df66d",
   "metadata": {},
   "outputs": [],
   "source": [
    "df_dcf_in = df_mb[[\"mjd\",\"TOTANGSTR\"]]\n",
    "tstart = df_dcf_in[\"mjd\"].min()\n",
    "tstop = df_dcf_in[\"mjd\"].max()\n",
    "df_dcf_in[\"t_day\"] = df_dcf_in[\"mjd\"] - tstart\n",
    "df_dcf_in = df_dcf_in[[\"t_day\",\"TOTANGSTR\"]] "
   ]
  },
  {
   "cell_type": "code",
   "execution_count": null,
   "id": "0d27383a-2416-4ad3-9bc3-e977e30ae0f5",
   "metadata": {},
   "outputs": [],
   "source": [
    "df_dcf_in = df_dcf_in.assign(sig_ozone = lambda x: SIGMA_ANGSTROMREPEATABILITY )\n",
    "df_dcf_in = df_dcf_in.iloc[index_selected]"
   ]
  },
  {
   "cell_type": "code",
   "execution_count": null,
   "id": "16c35fb3-2578-4691-933e-e993835cf39e",
   "metadata": {},
   "outputs": [],
   "source": [
    "df_dcf_out = ComputeZDCF(\"dcf_in_angstrom_merra2.csv\",df_dcf_in, minpts = 20)"
   ]
  },
  {
   "cell_type": "code",
   "execution_count": null,
   "id": "ee81c784-dda0-4efc-a75a-1d0687eea7f1",
   "metadata": {},
   "outputs": [],
   "source": [
    "xerr = df_dcf_out[[\"-sig(tau)\",\"+sig(tau)\"]].values.T\t\n",
    "yerr = df_dcf_out[[\"-err(dcf)\",\"+err(dcf)\"]].values.T\t\n",
    "x = df_dcf_out[\"tau\"].values\n",
    "y = df_dcf_out[\"dcf\"].values"
   ]
  },
  {
   "cell_type": "code",
   "execution_count": null,
   "id": "3e57ccac-66fc-431e-bb9e-6300a366b63f",
   "metadata": {},
   "outputs": [],
   "source": [
    "fig,ax = plt.subplots(1,1,figsize=(12,5),layout=\"constrained\")\n",
    "ax.errorbar(x,y,xerr=xerr,yerr=yerr,marker='o', mfc='red',linewidth=0.5,\n",
    "         mec='purple', ms=2, mew=2,ecolor=\"k\",elinewidth=2,capsize=2,uplims=True, lolims=True)\n",
    "ax.grid()\n",
    "ax.set_ylim(-1,1)\n",
    "ax.set_title(f\"Discrete covariance function on Angstrom exponent measurements in Merra2\")\n",
    "ax.set_xlabel(\"Time (days)\")\n",
    "ax.set_ylabel(\"DCF (no units)\")"
   ]
  },
  {
   "cell_type": "code",
   "execution_count": null,
   "id": "e7e70c60-c85f-427d-8e22-f5cc4b5f9d07",
   "metadata": {},
   "outputs": [],
   "source": []
  }
 ],
 "metadata": {
  "kernelspec": {
   "display_name": "conda_py311",
   "language": "python",
   "name": "conda_py311"
  },
  "language_info": {
   "codemirror_mode": {
    "name": "ipython",
    "version": 3
   },
   "file_extension": ".py",
   "mimetype": "text/x-python",
   "name": "python",
   "nbconvert_exporter": "python",
   "pygments_lexer": "ipython3",
   "version": "3.11.11"
  }
 },
 "nbformat": 4,
 "nbformat_minor": 5
}
