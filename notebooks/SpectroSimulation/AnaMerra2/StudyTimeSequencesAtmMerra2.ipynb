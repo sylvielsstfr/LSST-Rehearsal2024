{
 "cells": [
  {
   "cell_type": "markdown",
   "id": "45bf4242-bfc5-4d43-88c4-a8059ae148df",
   "metadata": {},
   "source": [
    "# Fit Atmosphere time sequences with Gaussian Processes Periodic variations from Merra2"
   ]
  },
  {
   "cell_type": "markdown",
   "id": "01993b6e-6438-4fca-a5d5-1f9791336847",
   "metadata": {},
   "source": [
    "- author Sylvie Dagoret-Campagne\n",
    "- affiliation : IJCLab\n",
    "- creation date 2025-10-20 :\n",
    "- last update : 2025-02-25 : Discuss with ChatGPT to do GP fit\n",
    "- last update : 2025-02-26 : Do GP periodic fit first\n",
    "- Kernel @usdf **w_2024_50*\n",
    "- Office emac : mamba_py311\n",
    "- Home emac : base (conda)\n",
    "- laptop : conda_py311"
   ]
  },
  {
   "cell_type": "markdown",
   "id": "0219159d-6865-4311-ac1d-99d11dad223f",
   "metadata": {},
   "source": [
    "**Goal** : Fit the variation of Merra2 parameter impact the transmission\n",
    "\n",
    "- CO2 fit : https://scikit-learn.org/stable/auto_examples/gaussian_process/plot_gpr_co2.html#sphx-glr-auto-examples-gaussian-process-plot-gpr-co2-py\n",
    "\n",
    "- Kernels : https://scikit-learn.org/stable/modules/gaussian_process.html#gp-kernels"
   ]
  },
  {
   "cell_type": "code",
   "execution_count": null,
   "id": "63a2b2ef-0bc2-45eb-91d9-87835d264751",
   "metadata": {
    "execution": {
     "iopub.execute_input": "2025-03-03T14:44:54.344187Z",
     "iopub.status.busy": "2025-03-03T14:44:54.344066Z",
     "iopub.status.idle": "2025-03-03T14:44:54.346390Z",
     "shell.execute_reply": "2025-03-03T14:44:54.346028Z",
     "shell.execute_reply.started": "2025-03-03T14:44:54.344175Z"
    },
    "tags": []
   },
   "outputs": [],
   "source": [
    "from platform import python_version\n",
    "print(python_version())"
   ]
  },
  {
   "cell_type": "code",
   "execution_count": null,
   "id": "dcc53afe-c58f-4948-92c9-0090d373ad2a",
   "metadata": {
    "execution": {
     "iopub.execute_input": "2025-03-03T14:44:54.346925Z",
     "iopub.status.busy": "2025-03-03T14:44:54.346808Z",
     "iopub.status.idle": "2025-03-03T14:44:54.355669Z",
     "shell.execute_reply": "2025-03-03T14:44:54.355331Z",
     "shell.execute_reply.started": "2025-03-03T14:44:54.346913Z"
    }
   },
   "outputs": [],
   "source": [
    "import warnings\n",
    "warnings.resetwarnings()\n",
    "warnings.simplefilter('ignore')"
   ]
  },
  {
   "cell_type": "code",
   "execution_count": null,
   "id": "8026d265-2493-4045-afec-26205ff71f7c",
   "metadata": {
    "execution": {
     "iopub.execute_input": "2025-03-03T14:44:54.356201Z",
     "iopub.status.busy": "2025-03-03T14:44:54.356084Z",
     "iopub.status.idle": "2025-03-03T14:44:54.361973Z",
     "shell.execute_reply": "2025-03-03T14:44:54.361651Z",
     "shell.execute_reply.started": "2025-03-03T14:44:54.356190Z"
    },
    "tags": []
   },
   "outputs": [],
   "source": [
    "from platform import python_version\n",
    "print(python_version())"
   ]
  },
  {
   "cell_type": "code",
   "execution_count": null,
   "id": "eb1f116e-80e3-46ad-a7db-7f253632e5ca",
   "metadata": {
    "execution": {
     "iopub.execute_input": "2025-03-03T14:44:54.362964Z",
     "iopub.status.busy": "2025-03-03T14:44:54.362843Z",
     "iopub.status.idle": "2025-03-03T14:44:54.367937Z",
     "shell.execute_reply": "2025-03-03T14:44:54.367582Z",
     "shell.execute_reply.started": "2025-03-03T14:44:54.362952Z"
    }
   },
   "outputs": [],
   "source": [
    "import os"
   ]
  },
  {
   "cell_type": "code",
   "execution_count": null,
   "id": "3ec760cd-3d3f-4a34-a6f6-b226fe500951",
   "metadata": {
    "execution": {
     "iopub.execute_input": "2025-03-03T14:44:54.445155Z",
     "iopub.status.busy": "2025-03-03T14:44:54.445024Z",
     "iopub.status.idle": "2025-03-03T14:44:54.447287Z",
     "shell.execute_reply": "2025-03-03T14:44:54.446944Z",
     "shell.execute_reply.started": "2025-03-03T14:44:54.445142Z"
    }
   },
   "outputs": [],
   "source": [
    "# where are stored the figures\n",
    "pathfigs = \"figsFitGPPerAtmosphereFomMerra2\"\n",
    "if not os.path.exists(pathfigs):\n",
    "    os.makedirs(pathfigs) \n",
    "figtype = \".png\""
   ]
  },
  {
   "cell_type": "code",
   "execution_count": null,
   "id": "60192a62-fc75-4dd6-80c3-d67a76f5be37",
   "metadata": {
    "execution": {
     "iopub.execute_input": "2025-03-03T14:44:54.448011Z",
     "iopub.status.busy": "2025-03-03T14:44:54.447893Z",
     "iopub.status.idle": "2025-03-03T14:44:54.453182Z",
     "shell.execute_reply": "2025-03-03T14:44:54.452862Z",
     "shell.execute_reply.started": "2025-03-03T14:44:54.447999Z"
    }
   },
   "outputs": [],
   "source": [
    "# where are stored the figures\n",
    "pathdata = \"dataFitGPPerAtmosphereFomMerra2\"\n",
    "if not os.path.exists(pathdata):\n",
    "    os.makedirs(pathdata) \n",
    "datatype = \".csv\""
   ]
  },
  {
   "cell_type": "code",
   "execution_count": null,
   "id": "bf752b70-e6ca-4cbf-8e8c-20bf7f0d8f61",
   "metadata": {
    "execution": {
     "iopub.execute_input": "2025-03-03T14:44:54.453732Z",
     "iopub.status.busy": "2025-03-03T14:44:54.453617Z",
     "iopub.status.idle": "2025-03-03T14:44:55.732762Z",
     "shell.execute_reply": "2025-03-03T14:44:55.732278Z",
     "shell.execute_reply.started": "2025-03-03T14:44:54.453721Z"
    }
   },
   "outputs": [],
   "source": [
    "import numpy as np\n",
    "from numpy.linalg import inv\n",
    "import matplotlib as mpl\n",
    "import matplotlib.pyplot as plt\n",
    "%matplotlib inline\n",
    "from mpl_toolkits.axes_grid1 import make_axes_locatable\n",
    "from matplotlib.colors import LogNorm,SymLogNorm\n",
    "from matplotlib.patches import Circle,Annulus\n",
    "from astropy.visualization import ZScaleInterval\n",
    "props = dict(boxstyle='round', facecolor=\"white\", alpha=0.1)\n",
    "#props = dict(boxstyle='round')\n",
    "\n",
    "import matplotlib.colors as colors\n",
    "import matplotlib.cm as cmx\n",
    "\n",
    "import matplotlib.ticker                         # here's where the formatter is\n",
    "from matplotlib.ticker import (MultipleLocator, FormatStrFormatter,\n",
    "                               AutoMinorLocator)\n",
    "\n",
    "from matplotlib.gridspec import GridSpec\n",
    "\n",
    "from astropy.visualization import (MinMaxInterval, SqrtStretch,ZScaleInterval,PercentileInterval,\n",
    "                                   ImageNormalize,imshow_norm)\n",
    "from astropy.visualization.stretch import SinhStretch, LinearStretch,AsinhStretch,LogStretch\n",
    "\n",
    "from astropy.io import fits\n",
    "from astropy.wcs import WCS\n",
    "from astropy import units as u\n",
    "from astropy import constants as c\n",
    "\n",
    "from astropy.coordinates.earth import EarthLocation\n",
    "from datetime import datetime\n",
    "from pytz import timezone\n",
    "\n",
    "from scipy import interpolate\n",
    "from sklearn.neighbors import NearestNeighbors\n",
    "from sklearn.neighbors import KDTree, BallTree\n",
    "\n",
    "import pandas as pd\n",
    "pd.set_option(\"display.max_columns\", None)\n",
    "pd.set_option('display.max_rows', 100)\n",
    "\n",
    "import matplotlib.ticker                         # here's where the formatter is\n",
    "import os\n",
    "import re\n",
    "import pandas as pd\n",
    "import pickle\n",
    "from collections import OrderedDict\n",
    "\n",
    "plt.rcParams[\"figure.figsize\"] = (4,3)\n",
    "plt.rcParams[\"axes.labelsize\"] = 'xx-large'\n",
    "plt.rcParams['axes.titlesize'] = 'xx-large'\n",
    "plt.rcParams['xtick.labelsize']= 'xx-large'\n",
    "plt.rcParams['ytick.labelsize']= 'xx-large'\n",
    "\n",
    "import scipy\n",
    "from scipy.optimize import curve_fit,least_squares\n",
    "\n",
    "\n",
    "props = dict(boxstyle='round', facecolor='white', alpha=0.5)"
   ]
  },
  {
   "cell_type": "code",
   "execution_count": null,
   "id": "12fc8f48-c073-433f-aa4e-2a8b785100e6",
   "metadata": {
    "execution": {
     "iopub.execute_input": "2025-03-03T14:44:55.733994Z",
     "iopub.status.busy": "2025-03-03T14:44:55.733726Z",
     "iopub.status.idle": "2025-03-03T14:44:55.779604Z",
     "shell.execute_reply": "2025-03-03T14:44:55.779243Z",
     "shell.execute_reply.started": "2025-03-03T14:44:55.733980Z"
    }
   },
   "outputs": [],
   "source": [
    "# Remove to run faster the notebook\n",
    "import ipywidgets as widgets\n",
    "%matplotlib widget"
   ]
  },
  {
   "cell_type": "code",
   "execution_count": null,
   "id": "ad1b1943-5173-40b8-8ac8-442e6ecc47d0",
   "metadata": {
    "execution": {
     "iopub.execute_input": "2025-03-03T14:44:55.780193Z",
     "iopub.status.busy": "2025-03-03T14:44:55.780067Z",
     "iopub.status.idle": "2025-03-03T14:44:56.068425Z",
     "shell.execute_reply": "2025-03-03T14:44:56.067959Z",
     "shell.execute_reply.started": "2025-03-03T14:44:55.780181Z"
    }
   },
   "outputs": [],
   "source": [
    "from astropy.modeling import models"
   ]
  },
  {
   "cell_type": "code",
   "execution_count": null,
   "id": "46fe722f-bb23-4c29-8efb-4c096c72eec9",
   "metadata": {
    "execution": {
     "iopub.execute_input": "2025-03-03T14:44:56.069194Z",
     "iopub.status.busy": "2025-03-03T14:44:56.068955Z",
     "iopub.status.idle": "2025-03-03T14:44:56.071189Z",
     "shell.execute_reply": "2025-03-03T14:44:56.070834Z",
     "shell.execute_reply.started": "2025-03-03T14:44:56.069181Z"
    }
   },
   "outputs": [],
   "source": [
    "from numpy.random import lognormal"
   ]
  },
  {
   "cell_type": "code",
   "execution_count": null,
   "id": "0ca0d1e6-5f82-4c43-aaa3-8524fc2bc5ba",
   "metadata": {
    "execution": {
     "iopub.execute_input": "2025-03-03T14:44:56.071775Z",
     "iopub.status.busy": "2025-03-03T14:44:56.071653Z",
     "iopub.status.idle": "2025-03-03T14:44:56.124103Z",
     "shell.execute_reply": "2025-03-03T14:44:56.123752Z",
     "shell.execute_reply.started": "2025-03-03T14:44:56.071764Z"
    }
   },
   "outputs": [],
   "source": [
    "from matplotlib.ticker import (MultipleLocator, FormatStrFormatter,\n",
    "                               AutoMinorLocator)\n",
    "from astropy.visualization import (MinMaxInterval, SqrtStretch,ZScaleInterval,PercentileInterval,\n",
    "                                   ImageNormalize,imshow_norm)\n",
    "from astropy.visualization.stretch import SinhStretch, LinearStretch,AsinhStretch,LogStretch\n",
    "\n",
    "from astropy.time import Time\n",
    "from astropy.timeseries import TimeSeries"
   ]
  },
  {
   "cell_type": "code",
   "execution_count": null,
   "id": "e189816c-5048-43ab-a01a-7c078af54489",
   "metadata": {
    "execution": {
     "iopub.execute_input": "2025-03-03T14:44:56.124778Z",
     "iopub.status.busy": "2025-03-03T14:44:56.124555Z",
     "iopub.status.idle": "2025-03-03T14:44:56.128661Z",
     "shell.execute_reply": "2025-03-03T14:44:56.128283Z",
     "shell.execute_reply.started": "2025-03-03T14:44:56.124766Z"
    }
   },
   "outputs": [],
   "source": [
    "# Remove to run faster the notebook\n",
    "import ipywidgets as widgets\n",
    "%matplotlib widget"
   ]
  },
  {
   "cell_type": "code",
   "execution_count": null,
   "id": "67327fd4-e405-45ce-8923-cd46ebaa0c0f",
   "metadata": {
    "execution": {
     "iopub.execute_input": "2025-03-03T14:44:56.129240Z",
     "iopub.status.busy": "2025-03-03T14:44:56.129121Z",
     "iopub.status.idle": "2025-03-03T14:44:56.136041Z",
     "shell.execute_reply": "2025-03-03T14:44:56.135699Z",
     "shell.execute_reply.started": "2025-03-03T14:44:56.129229Z"
    },
    "tags": []
   },
   "outputs": [],
   "source": [
    "from importlib.metadata import version"
   ]
  },
  {
   "cell_type": "code",
   "execution_count": null,
   "id": "af8332dd-24f9-4b19-88f9-c62d0a4aebf1",
   "metadata": {
    "execution": {
     "iopub.execute_input": "2025-03-03T14:44:56.137569Z",
     "iopub.status.busy": "2025-03-03T14:44:56.137437Z",
     "iopub.status.idle": "2025-03-03T14:44:56.142473Z",
     "shell.execute_reply": "2025-03-03T14:44:56.142137Z",
     "shell.execute_reply.started": "2025-03-03T14:44:56.137558Z"
    },
    "tags": []
   },
   "outputs": [],
   "source": [
    "# wavelength bin colors\n",
    "#jet = plt.get_cmap('jet')\n",
    "#cNorm = mpl.colors.Normalize(vmin=0, vmax=NSED)\n",
    "#scalarMap = cmx.ScalarMappable(norm=cNorm, cmap=jet)\n",
    "#all_colors = scalarMap.to_rgba(np.arange(NSED), alpha=1)"
   ]
  },
  {
   "cell_type": "code",
   "execution_count": null,
   "id": "1003d9d6-a40f-48b1-9ffc-bfab9f45ba93",
   "metadata": {
    "execution": {
     "iopub.execute_input": "2025-03-03T14:44:56.143015Z",
     "iopub.status.busy": "2025-03-03T14:44:56.142892Z",
     "iopub.status.idle": "2025-03-03T14:44:56.151323Z",
     "shell.execute_reply": "2025-03-03T14:44:56.150995Z",
     "shell.execute_reply.started": "2025-03-03T14:44:56.143004Z"
    }
   },
   "outputs": [],
   "source": [
    "np.__version__"
   ]
  },
  {
   "cell_type": "code",
   "execution_count": null,
   "id": "c4cb2652-cb22-432e-b110-ae71d59dc793",
   "metadata": {
    "execution": {
     "iopub.execute_input": "2025-03-03T14:44:56.151842Z",
     "iopub.status.busy": "2025-03-03T14:44:56.151725Z",
     "iopub.status.idle": "2025-03-03T14:44:56.159028Z",
     "shell.execute_reply": "2025-03-03T14:44:56.158697Z",
     "shell.execute_reply.started": "2025-03-03T14:44:56.151829Z"
    }
   },
   "outputs": [],
   "source": [
    "pd.__version__"
   ]
  },
  {
   "cell_type": "code",
   "execution_count": null,
   "id": "49592406-fcc6-4aa4-8904-21b611ecd896",
   "metadata": {
    "execution": {
     "iopub.execute_input": "2025-03-03T14:44:56.159673Z",
     "iopub.status.busy": "2025-03-03T14:44:56.159556Z",
     "iopub.status.idle": "2025-03-03T14:44:56.168145Z",
     "shell.execute_reply": "2025-03-03T14:44:56.167805Z",
     "shell.execute_reply.started": "2025-03-03T14:44:56.159662Z"
    }
   },
   "outputs": [],
   "source": [
    "from sklearn.gaussian_process.kernels import RBF\n",
    "from sklearn.gaussian_process.kernels import ExpSineSquared\n",
    "from sklearn.gaussian_process.kernels import RationalQuadratic\n",
    "from sklearn.gaussian_process.kernels import WhiteKernel\n",
    "from sklearn.gaussian_process.kernels import ConstantKernel"
   ]
  },
  {
   "cell_type": "code",
   "execution_count": null,
   "id": "303b52d7-4653-40c5-9565-416b995c53d5",
   "metadata": {
    "execution": {
     "iopub.execute_input": "2025-03-03T14:44:56.168693Z",
     "iopub.status.busy": "2025-03-03T14:44:56.168574Z",
     "iopub.status.idle": "2025-03-03T14:44:56.170921Z",
     "shell.execute_reply": "2025-03-03T14:44:56.170592Z",
     "shell.execute_reply.started": "2025-03-03T14:44:56.168682Z"
    },
    "tags": []
   },
   "outputs": [],
   "source": [
    "from sklearn.gaussian_process import GaussianProcessRegressor"
   ]
  },
  {
   "cell_type": "code",
   "execution_count": null,
   "id": "5a2ecdd5-5400-4eea-8f62-f515f4fec198",
   "metadata": {
    "execution": {
     "iopub.execute_input": "2025-03-03T14:44:56.171528Z",
     "iopub.status.busy": "2025-03-03T14:44:56.171405Z",
     "iopub.status.idle": "2025-03-03T14:44:56.177444Z",
     "shell.execute_reply": "2025-03-03T14:44:56.177128Z",
     "shell.execute_reply.started": "2025-03-03T14:44:56.171512Z"
    }
   },
   "outputs": [],
   "source": [
    "from scipy.fftpack import fft, fftfreq"
   ]
  },
  {
   "cell_type": "code",
   "execution_count": null,
   "id": "60594dbd-a8f5-4570-8250-c4c018795671",
   "metadata": {
    "execution": {
     "iopub.execute_input": "2025-03-03T14:44:56.177980Z",
     "iopub.status.busy": "2025-03-03T14:44:56.177865Z",
     "iopub.status.idle": "2025-03-03T14:44:56.183951Z",
     "shell.execute_reply": "2025-03-03T14:44:56.183620Z",
     "shell.execute_reply.started": "2025-03-03T14:44:56.177969Z"
    }
   },
   "outputs": [],
   "source": [
    "YEAR = 365.25\n",
    "MONTHS6 = YEAR/2.\n",
    "MONTHS4 = YEAR/3.\n",
    "QUARTER = YEAR/4. \n",
    "DAY = 1.\n",
    "MONTH = YEAR/12.\n",
    "WEEK = 7*DAY"
   ]
  },
  {
   "cell_type": "code",
   "execution_count": null,
   "id": "ad03dc3d-6741-4478-82ba-1d5447529d9a",
   "metadata": {
    "execution": {
     "iopub.execute_input": "2025-03-03T14:44:56.184494Z",
     "iopub.status.busy": "2025-03-03T14:44:56.184378Z",
     "iopub.status.idle": "2025-03-03T14:44:56.190176Z",
     "shell.execute_reply": "2025-03-03T14:44:56.189832Z",
     "shell.execute_reply.started": "2025-03-03T14:44:56.184483Z"
    }
   },
   "outputs": [],
   "source": [
    "def convertNumToDatestr(num):\n",
    "    year = num//10_000\n",
    "    month= (num-year*10_000)//100\n",
    "    day = (num-year*10_000-month*100)\n",
    "\n",
    "    year_str = str(year).zfill(4)\n",
    "    month_str = str(month).zfill(2)\n",
    "    day_str = str(day).zfill(2)\n",
    "    \n",
    "    datestr = f\"{year_str}-{month_str}-{day_str}\"\n",
    "    return pd.to_datetime(datestr)"
   ]
  },
  {
   "cell_type": "code",
   "execution_count": null,
   "id": "b38653bf-649e-4bd5-a75a-ab8908dbe7e4",
   "metadata": {
    "execution": {
     "iopub.execute_input": "2025-03-03T14:44:56.190803Z",
     "iopub.status.busy": "2025-03-03T14:44:56.190686Z",
     "iopub.status.idle": "2025-03-03T14:44:56.196392Z",
     "shell.execute_reply": "2025-03-03T14:44:56.196050Z",
     "shell.execute_reply.started": "2025-03-03T14:44:56.190792Z"
    }
   },
   "outputs": [],
   "source": [
    "def pdf_lognormal(x,a0,mu,sigma):\n",
    "    \"\"\"\n",
    "    \"\"\"\n",
    "    pdf = a0*(np.exp(-(np.log(x) - mu)**2 / (2 * sigma**2))/ (x * sigma * np.sqrt(2 * np.pi)))\n",
    "    return pdf"
   ]
  },
  {
   "cell_type": "markdown",
   "id": "e3689d01-cbb7-4ea4-977a-9e284f6f5718",
   "metadata": {},
   "source": [
    "https://scikit-learn.org/stable/auto_examples/gaussian_process/plot_gpr_prior_posterior.html"
   ]
  },
  {
   "cell_type": "code",
   "execution_count": null,
   "id": "14eda506-44d9-4d0e-abed-6b402c85514e",
   "metadata": {
    "execution": {
     "iopub.execute_input": "2025-03-03T14:44:56.196967Z",
     "iopub.status.busy": "2025-03-03T14:44:56.196847Z",
     "iopub.status.idle": "2025-03-03T14:44:56.207527Z",
     "shell.execute_reply": "2025-03-03T14:44:56.207160Z",
     "shell.execute_reply.started": "2025-03-03T14:44:56.196957Z"
    },
    "tags": []
   },
   "outputs": [],
   "source": [
    "def plot_gpr_samples(gpr_model, n_samples, ax , x, label):\n",
    "    \"\"\"Plot samples drawn from the Gaussian process model.\n",
    "\n",
    "    If the Gaussian process model is not trained then the drawn samples are\n",
    "    drawn from the prior distribution. Otherwise, the samples are drawn from\n",
    "    the posterior distribution. Be aware that a sample here corresponds to a\n",
    "    function.\n",
    "\n",
    "    Parameters\n",
    "    ----------\n",
    "    gpr_model : `GaussianProcessRegressor`\n",
    "        A :class:`~sklearn.gaussian_process.GaussianProcessRegressor` model.\n",
    "    n_samples : int\n",
    "        The number of samples to draw from the Gaussian process distribution.\n",
    "    ax : matplotlib axis\n",
    "        The matplotlib axis where to plot the samples.\n",
    "    \"\"\"\n",
    "    #x = np.linspace(0, 5, 100)\n",
    "    X = x.reshape(-1, 1)\n",
    "\n",
    "    y_mean, y_std = gpr_model.predict(X, return_std=True)\n",
    "    y_samples = gpr_model.sample_y(X, n_samples)\n",
    "\n",
    "    for idx, single_prior in enumerate(y_samples.T):\n",
    "        if idx==0:\n",
    "            ax.plot(\n",
    "                x,\n",
    "                single_prior,\n",
    "                linestyle=\"--\",\n",
    "                alpha=0.7,\n",
    "                label=label\n",
    "            )\n",
    "        else:\n",
    "            ax.plot(\n",
    "                x,\n",
    "                single_prior,\n",
    "                linestyle=\"--\",\n",
    "                alpha=0.7\n",
    "            )\n",
    "            \n",
    "        \n",
    "        \n",
    "    ax.plot(x, y_mean, color=\"black\", label=\"Mean\")\n",
    "    ax.fill_between(\n",
    "        x,\n",
    "        y_mean - y_std,\n",
    "        y_mean + y_std,\n",
    "        alpha=0.1,\n",
    "        color=\"black\",\n",
    "        label=r\"$\\pm$ 1 std. dev.\",\n",
    "    )\n",
    "    \n",
    "    #ax.set_ylim([-3, 3])"
   ]
  },
  {
   "cell_type": "code",
   "execution_count": null,
   "id": "1edd4a0c-b827-4e5f-a5c2-2ca232d42116",
   "metadata": {
    "execution": {
     "iopub.execute_input": "2025-03-03T14:44:56.208112Z",
     "iopub.status.busy": "2025-03-03T14:44:56.207992Z",
     "iopub.status.idle": "2025-03-03T14:44:56.216944Z",
     "shell.execute_reply": "2025-03-03T14:44:56.216588Z",
     "shell.execute_reply.started": "2025-03-03T14:44:56.208101Z"
    }
   },
   "outputs": [],
   "source": [
    "def fourier_analysis(dates, values, ax, mode = \"logxlogy\",title=\"Analyse de Fourier - Spectre des fréquences\",\n",
    "                    xlabel=\"Fréquence (cycles par jour)\",ylabel=\"Amplitude\",label=\"Amplitude spectrale\"):\n",
    "    # Centrer les données autour de la moyenne\n",
    "    values_centered = values - np.mean(values)\n",
    "\n",
    "    # Nombre de points\n",
    "    N = len(dates)\n",
    "    # Intervalle d'échantillonnage (assume 1 jour entre chaque point)\n",
    "    T = np.mean(np.diff(dates))  # Période d'échantillonnage\n",
    "\n",
    "    # Fréquence de Nyquist (limite de Shannon)\n",
    "    f_nyquist = 1 / (2 * T)\n",
    "    \n",
    "    # Transformée de Fourier\n",
    "    fft_values = fft(values_centered)/ np.sqrt(N)\n",
    "    freqs = fftfreq(N, T)  # Fréquences associées\n",
    "\n",
    "    \n",
    "\n",
    "    # Seulement la moitié du spectre est utile (symétrie)\n",
    "    positive_freqs = freqs[:N // 2]\n",
    "    positive_fft_values = np.abs(fft_values[:N // 2])\n",
    "\n",
    "    # Tracer le spectre\n",
    "    #plt.figure(figsize=(16, 6),layout=\"constrained\")\n",
    "    \n",
    "    ax.plot(positive_freqs, positive_fft_values,'ob-' ,ms=5,label=label)\n",
    "\n",
    "    if mode == \"logxliny\":\n",
    "        ax.set_xscale(\"log\")  # Définit l'axe X en échelle logarithmique\n",
    "        ax.set_yscale(\"linear\")  # Garde l'axe Y en échelle linéaire\n",
    "    elif mode == \"logxlogy\":\n",
    "        ax.set_xscale(\"log\")  # Définit l'axe X en échelle logarithmique\n",
    "        ax.set_yscale(\"log\")  # Garde l'axe Y en échelle logarithmique\n",
    "    elif mode == \"linxlogy\":\n",
    "        ax.set_xscale(\"linear\")  # Définit l'axe X en  échelle linéaire\n",
    "        ax.set_yscale(\"log\")  # Garde l'axe Y en échelle logarithmique\n",
    "    elif mode == \"linxliny\":\n",
    "        ax.set_xscale(\"linear\")  # Définit l'axe X en échelle linéaire\n",
    "        ax.set_yscale(\"linear\")  # Garde l'axe Y en échelle linéaire\n",
    "        \n",
    "    ax.set_xlabel(xlabel)\n",
    "    ax.set_ylabel(ylabel)\n",
    "    ax.set_title(title)\n",
    "    #ax.axvline(1/365.25, color='r', linestyle='-', label=\"Cycle : 365 days - 1 year\")\n",
    "    #ax.axvline(1/182.625, color='r', linestyle='--', label=\"Cycle : 182.6 days - 6 months\")\n",
    "    #ax.axvline(1/91.3125, color='r', linestyle='-.', label=\"Cycle : 91.3 days - 3 months\")\n",
    "    #ax.axvline(1/30.4375, color='r', linestyle=':', label=\"Cycle : 30.4 days - 1 month\")\n",
    "    #ax.axvline(1/7, color='purple', linestyle='--', label=\"Cycle : 7 days - 1 week\")\n",
    "    #ax.axvline(1, color='purple', linestyle='-', label=\"Cycle : 1 day \")\n",
    "    #ax.axvline(1/0.5, color='purple', linestyle='-.', label=\"Cycle : 0.5 day \")\n",
    "\n",
    "    ax.axvline(1/YEAR, color='r', linestyle='-', label=\"Cycle : 365 days - 1 year\")\n",
    "    ax.axvline(1/MONTHS6, color='r', linestyle='--', label=\"Cycle : 182.6 days - 6 months\")\n",
    "    ax.axvline(1/MONTHS4, color='r', linestyle=':', label=\"Cycle : 121.7 days - 4 months\")\n",
    "    ax.axvline(1/QUARTER, color='r', linestyle='-.', label=\"Cycle : 91.3 days - 3 months\")\n",
    "    ax.axvline(1/MONTH, color='r', linestyle=':', label=\"Cycle : 30.4 days - 1 month\")\n",
    "    ax.axvline(1/WEEK, color='purple', linestyle='--', label=\"Cycle : 7 days - 1 week\")\n",
    "    ax.axvline(DAY, color='purple', linestyle='-', label=\"Cycle : 1 day \")\n",
    "    ax.axvline(1./(0.5*DAY), color='purple', linestyle='-.', label=\"Cycle : 0.5 day \")\n",
    "\n",
    "    ax.axvline(f_nyquist, color='g', linestyle='--', label=f\"Nyquist frequency({f_nyquist:.3f} cycles/days)\")\n",
    "    ax.legend(bbox_to_anchor=(1.05, 1.05),fontsize=12)\n",
    "\n",
    "    #if figname !=\"\":\n",
    "    #    plt.savefig(figname)\n",
    "        \n",
    "    \n",
    "    #plt.show()\n",
    "\n",
    "# Appelle la fonction avec tes données\n",
    "# fourier_analysis(dates, values)"
   ]
  },
  {
   "cell_type": "markdown",
   "id": "4f13d6a3-7793-4bc0-920a-1d690d9f84b2",
   "metadata": {},
   "source": [
    "## Configuration"
   ]
  },
  {
   "cell_type": "code",
   "execution_count": null,
   "id": "c8cb2e48-0b34-4cbf-8379-43f7065112f7",
   "metadata": {
    "execution": {
     "iopub.execute_input": "2025-03-03T14:44:56.217603Z",
     "iopub.status.busy": "2025-03-03T14:44:56.217474Z",
     "iopub.status.idle": "2025-03-03T14:44:56.268212Z",
     "shell.execute_reply": "2025-03-03T14:44:56.267851Z",
     "shell.execute_reply.started": "2025-03-03T14:44:56.217592Z"
    }
   },
   "outputs": [],
   "source": [
    "observing_location = EarthLocation.of_site('Rubin Observatory')\n",
    "tz = timezone('America/Santiago')"
   ]
  },
  {
   "cell_type": "markdown",
   "id": "6175a4a4-5c98-4e09-8ffd-a17282f6094e",
   "metadata": {},
   "source": [
    "### MERRA2 files"
   ]
  },
  {
   "cell_type": "code",
   "execution_count": null,
   "id": "d84a85da-768d-459f-8711-54e04f2cff75",
   "metadata": {
    "execution": {
     "iopub.execute_input": "2025-03-03T14:44:56.268769Z",
     "iopub.status.busy": "2025-03-03T14:44:56.268649Z",
     "iopub.status.idle": "2025-03-03T14:44:56.270620Z",
     "shell.execute_reply": "2025-03-03T14:44:56.270283Z",
     "shell.execute_reply.started": "2025-03-03T14:44:56.268758Z"
    },
    "tags": []
   },
   "outputs": [],
   "source": [
    "filename_m2 = \"../../SpectroMerra2/MerradataMerged/Merge_inst1_2d_asm_Nx_M2I1NXASM-2021-2024.csv\"\n",
    "filename_m2b = \"../../SpectroMerra2/MerradataMerged/Merge_tavg1_2d_aer_Nx_M2T1NXAER-2021-2024.csv\""
   ]
  },
  {
   "cell_type": "code",
   "execution_count": null,
   "id": "dd89c1b3-43c8-43ae-b10d-f39e8f8b2963",
   "metadata": {
    "execution": {
     "iopub.execute_input": "2025-03-03T14:44:56.271161Z",
     "iopub.status.busy": "2025-03-03T14:44:56.271038Z",
     "iopub.status.idle": "2025-03-03T14:44:56.362405Z",
     "shell.execute_reply": "2025-03-03T14:44:56.361937Z",
     "shell.execute_reply.started": "2025-03-03T14:44:56.271150Z"
    },
    "tags": []
   },
   "outputs": [],
   "source": [
    "df_m = pd.read_csv(filename_m2)\n",
    "df_mb = pd.read_csv(filename_m2b)"
   ]
  },
  {
   "cell_type": "code",
   "execution_count": null,
   "id": "a4c21a3e-f004-4b43-871d-8b479451b594",
   "metadata": {
    "execution": {
     "iopub.execute_input": "2025-03-03T14:44:56.363027Z",
     "iopub.status.busy": "2025-03-03T14:44:56.362901Z",
     "iopub.status.idle": "2025-03-03T14:44:56.365505Z",
     "shell.execute_reply": "2025-03-03T14:44:56.365150Z",
     "shell.execute_reply.started": "2025-03-03T14:44:56.363015Z"
    }
   },
   "outputs": [],
   "source": [
    "Nm = len(df_m)\n",
    "Nmb = len(df_mb)\n",
    "print(\"Number of points :: \",Nm,Nmb)"
   ]
  },
  {
   "cell_type": "code",
   "execution_count": null,
   "id": "e1e70f0b-8123-48fc-8faa-f5f468c85a3a",
   "metadata": {
    "execution": {
     "iopub.execute_input": "2025-03-03T14:44:56.366046Z",
     "iopub.status.busy": "2025-03-03T14:44:56.365931Z",
     "iopub.status.idle": "2025-03-03T14:44:56.372188Z",
     "shell.execute_reply": "2025-03-03T14:44:56.371850Z",
     "shell.execute_reply.started": "2025-03-03T14:44:56.366035Z"
    }
   },
   "outputs": [],
   "source": [
    "df_mb.columns"
   ]
  },
  {
   "cell_type": "code",
   "execution_count": null,
   "id": "0078d85a-f0a9-43f7-bb1a-30358769fe86",
   "metadata": {
    "execution": {
     "iopub.execute_input": "2025-03-03T14:44:56.372726Z",
     "iopub.status.busy": "2025-03-03T14:44:56.372609Z",
     "iopub.status.idle": "2025-03-03T14:44:56.381893Z",
     "shell.execute_reply": "2025-03-03T14:44:56.381501Z",
     "shell.execute_reply.started": "2025-03-03T14:44:56.372715Z"
    }
   },
   "outputs": [],
   "source": [
    "TMIN = pd.to_datetime(df_m.time.min())\n",
    "TMAX = pd.to_datetime(df_m.time.max())"
   ]
  },
  {
   "cell_type": "markdown",
   "id": "e65aa79a-58d6-4022-8000-f2d8900c8f43",
   "metadata": {},
   "source": [
    "### Convert in MJD"
   ]
  },
  {
   "cell_type": "code",
   "execution_count": null,
   "id": "b58fea8d-18e5-4f69-ad7d-50b5af7150a9",
   "metadata": {
    "execution": {
     "iopub.execute_input": "2025-03-03T14:44:56.382426Z",
     "iopub.status.busy": "2025-03-03T14:44:56.382306Z",
     "iopub.status.idle": "2025-03-03T14:44:56.685553Z",
     "shell.execute_reply": "2025-03-03T14:44:56.685107Z",
     "shell.execute_reply.started": "2025-03-03T14:44:56.382413Z"
    },
    "tags": []
   },
   "outputs": [],
   "source": [
    "df_m[\"mjd\"] = Time(pd.to_datetime(df_m.time.values)).mjd\n",
    "df_mb[\"mjd\"] = Time(pd.to_datetime(df_mb.time.values)).mjd"
   ]
  },
  {
   "cell_type": "code",
   "execution_count": null,
   "id": "fc6b3b3d-7161-44ee-94e4-d06eaec6745c",
   "metadata": {
    "execution": {
     "iopub.execute_input": "2025-03-03T14:44:56.687649Z",
     "iopub.status.busy": "2025-03-03T14:44:56.687508Z",
     "iopub.status.idle": "2025-03-03T14:44:56.690366Z",
     "shell.execute_reply": "2025-03-03T14:44:56.689987Z",
     "shell.execute_reply.started": "2025-03-03T14:44:56.687636Z"
    }
   },
   "outputs": [],
   "source": [
    "mjd_zoom_start = Time(\"2024-01-01\").mjd\n",
    "mjd_zoom_stop = Time(\"2025-06-30\").mjd"
   ]
  },
  {
   "cell_type": "code",
   "execution_count": null,
   "id": "3f167569-b85b-4ef7-9c48-deda686e4139",
   "metadata": {
    "execution": {
     "iopub.execute_input": "2025-03-03T14:44:56.690928Z",
     "iopub.status.busy": "2025-03-03T14:44:56.690810Z",
     "iopub.status.idle": "2025-03-03T14:44:56.698271Z",
     "shell.execute_reply": "2025-03-03T14:44:56.697883Z",
     "shell.execute_reply.started": "2025-03-03T14:44:56.690917Z"
    },
    "tags": []
   },
   "outputs": [],
   "source": [
    "mjd_obs_start = df_m[\"mjd\"].min() \n",
    "mjd_obs_stop = df_m[\"mjd\"].max() "
   ]
  },
  {
   "cell_type": "markdown",
   "id": "0d46117d-ca5c-4820-bf77-5948804f8513",
   "metadata": {},
   "source": [
    "# Start analysis"
   ]
  },
  {
   "cell_type": "markdown",
   "id": "1de0255c-cbc2-4603-997c-8eaaa18eeef2",
   "metadata": {},
   "source": [
    "## Analysis of PWV"
   ]
  },
  {
   "cell_type": "code",
   "execution_count": null,
   "id": "3fd02994-4a05-4145-8da9-10ac7f5b920a",
   "metadata": {
    "execution": {
     "iopub.execute_input": "2025-03-03T14:46:03.369775Z",
     "iopub.status.busy": "2025-03-03T14:46:03.369213Z",
     "iopub.status.idle": "2025-03-03T14:46:03.849258Z",
     "shell.execute_reply": "2025-03-03T14:46:03.848837Z",
     "shell.execute_reply.started": "2025-03-03T14:46:03.369757Z"
    }
   },
   "outputs": [],
   "source": [
    "from matplotlib.dates import DateFormatter\n",
    "#date_form = DateFormatter(\"%y-%m-%dT%H:%M\")\n",
    "date_form = DateFormatter(\"%y-%m\")\n",
    "\n",
    "fig = plt.figure(figsize=(12,6),layout=\"constrained\")\n",
    "gs = GridSpec(2, 1,figure=fig)\n",
    "#gs = GridSpec(1, 1,figure=fig)\n",
    "ax1 = fig.add_subplot(gs[0])\n",
    "ax2 = fig.add_subplot(gs[1])\n",
    "        \n",
    "leg1=ax1.get_legend()\n",
    "leg2=ax2.get_legend()\n",
    "\n",
    "\n",
    "ax1.plot(pd.to_datetime(df_m.Time.values), df_m.TQV.values,c=\"b\",lw=0.5,label=\"Merra2\")\n",
    "ax1.set_xlabel(\"time\")\n",
    "ax1.xaxis.set_major_formatter(date_form)\n",
    "ax1.set_title(\"Precipitable water vapor from Merra2\")\n",
    "ax1.legend()\n",
    "ax1.set_ylabel(\"PWV (mm)\")\n",
    "#ax.set_xlim(TMIN,TMAX)\n",
    "\n",
    "data = df_m.TQV.values\n",
    "mean = np.mean(data)\n",
    "median = np.median(data)\n",
    "std = np.std(data)\n",
    "textstr = \"\\n\".join((f\"Expected max-range for PWV : \",\n",
    "                     f\"- average : {mean:.2f} mm\",\n",
    "                     f\"- median : {median:.2f} mm\",\n",
    "                     f\"- sigma : {std:.2f} mm\",     \n",
    "                    ))\n",
    "ax1.text(0.05, 0.95, textstr, transform=ax1.transAxes, fontsize=14,verticalalignment='top', bbox=props)\n",
    "\n",
    "\n",
    "ax2.plot(df_m.mjd, df_m.TQV.values,'o',c=\"b\",ms=1,lw=0.5,label=\"Merra2\")\n",
    "ax2.set_xlabel(\"time (MJD)\")\n",
    "ax2.legend()\n",
    "ax2.set_ylabel(\"PWV (mm)\")\n",
    "\n",
    "figname =f\"{pathfigs}/pwv_allpoints_merra2\"+figtype\n",
    "fig.savefig(figname)\n",
    "plt.show()\n"
   ]
  },
  {
   "cell_type": "code",
   "execution_count": null,
   "id": "1d1350f2-a41b-4cb9-94df-f6ca7e5f10b3",
   "metadata": {},
   "outputs": [],
   "source": []
  }
 ],
 "metadata": {
  "kernelspec": {
   "display_name": "LSST",
   "language": "python",
   "name": "lsst"
  },
  "language_info": {
   "codemirror_mode": {
    "name": "ipython",
    "version": 3
   },
   "file_extension": ".py",
   "mimetype": "text/x-python",
   "name": "python",
   "nbconvert_exporter": "python",
   "pygments_lexer": "ipython3",
   "version": "3.11.9"
  }
 },
 "nbformat": 4,
 "nbformat_minor": 5
}
