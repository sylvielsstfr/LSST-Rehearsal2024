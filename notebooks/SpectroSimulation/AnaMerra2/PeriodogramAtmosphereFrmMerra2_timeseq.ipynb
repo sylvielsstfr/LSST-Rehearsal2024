{
 "cells": [
  {
   "cell_type": "markdown",
   "id": "45bf4242-bfc5-4d43-88c4-a8059ae148df",
   "metadata": {},
   "source": [
    "# Do Periodograms with  Atmospheric parameters time sequences from Merra2"
   ]
  },
  {
   "cell_type": "markdown",
   "id": "01993b6e-6438-4fca-a5d5-1f9791336847",
   "metadata": {},
   "source": [
    "- author Sylvie Dagoret-Campagne\n",
    "- affiliation : IJCLab\n",
    "- creation date 2025-10-24 :\n",
    "- last update : 2025-02-24\n",
    "- Kernel @usdf **w_2024_50*\n",
    "- Office emac : mamba_py311\n",
    "- Home emac : base (conda)\n",
    "- laptop : conda_py311"
   ]
  },
  {
   "cell_type": "markdown",
   "id": "236422ed-57e6-495a-a3ef-18b5aa02baf7",
   "metadata": {},
   "source": [
    "## Doc on periodograms\n",
    "https://docs.scipy.org/doc/scipy/reference/generated/scipy.signal.periodogram.html"
   ]
  },
  {
   "cell_type": "code",
   "execution_count": null,
   "id": "63a2b2ef-0bc2-45eb-91d9-87835d264751",
   "metadata": {
    "tags": []
   },
   "outputs": [],
   "source": [
    "from platform import python_version\n",
    "print(python_version())"
   ]
  },
  {
   "cell_type": "code",
   "execution_count": null,
   "id": "dcc53afe-c58f-4948-92c9-0090d373ad2a",
   "metadata": {},
   "outputs": [],
   "source": [
    "import warnings\n",
    "warnings.resetwarnings()\n",
    "warnings.simplefilter('ignore')"
   ]
  },
  {
   "cell_type": "code",
   "execution_count": null,
   "id": "8026d265-2493-4045-afec-26205ff71f7c",
   "metadata": {
    "tags": []
   },
   "outputs": [],
   "source": [
    "from platform import python_version\n",
    "print(python_version())"
   ]
  },
  {
   "cell_type": "code",
   "execution_count": null,
   "id": "eb1f116e-80e3-46ad-a7db-7f253632e5ca",
   "metadata": {},
   "outputs": [],
   "source": [
    "import os"
   ]
  },
  {
   "cell_type": "code",
   "execution_count": null,
   "id": "3ec760cd-3d3f-4a34-a6f6-b226fe500951",
   "metadata": {},
   "outputs": [],
   "source": [
    "# where are stored the figures\n",
    "pathfigs = \"figsPeriodogramsAtmosphereFomMerra2\"\n",
    "if not os.path.exists(pathfigs):\n",
    "    os.makedirs(pathfigs) \n",
    "figtype = \".pdf\""
   ]
  },
  {
   "cell_type": "code",
   "execution_count": null,
   "id": "bf752b70-e6ca-4cbf-8e8c-20bf7f0d8f61",
   "metadata": {},
   "outputs": [],
   "source": [
    "import numpy as np\n",
    "from numpy.linalg import inv\n",
    "import matplotlib as mpl\n",
    "import matplotlib.pyplot as plt\n",
    "%matplotlib inline\n",
    "from mpl_toolkits.axes_grid1 import make_axes_locatable\n",
    "from matplotlib.colors import LogNorm,SymLogNorm\n",
    "from matplotlib.patches import Circle,Annulus\n",
    "from astropy.visualization import ZScaleInterval\n",
    "props = dict(boxstyle='round', facecolor=\"white\", alpha=0.1)\n",
    "#props = dict(boxstyle='round')\n",
    "\n",
    "import matplotlib.colors as colors\n",
    "import matplotlib.cm as cmx\n",
    "\n",
    "import matplotlib.ticker                         # here's where the formatter is\n",
    "from matplotlib.ticker import (MultipleLocator, FormatStrFormatter,\n",
    "                               AutoMinorLocator)\n",
    "\n",
    "from matplotlib.gridspec import GridSpec\n",
    "\n",
    "from astropy.visualization import (MinMaxInterval, SqrtStretch,ZScaleInterval,PercentileInterval,\n",
    "                                   ImageNormalize,imshow_norm)\n",
    "from astropy.visualization.stretch import SinhStretch, LinearStretch,AsinhStretch,LogStretch\n",
    "\n",
    "from astropy.io import fits\n",
    "from astropy.wcs import WCS\n",
    "from astropy import units as u\n",
    "from astropy import constants as c\n",
    "\n",
    "from astropy.coordinates.earth import EarthLocation\n",
    "from datetime import datetime\n",
    "from pytz import timezone\n",
    "\n",
    "from scipy import interpolate\n",
    "from sklearn.neighbors import NearestNeighbors\n",
    "from sklearn.neighbors import KDTree, BallTree\n",
    "\n",
    "import pandas as pd\n",
    "pd.set_option(\"display.max_columns\", None)\n",
    "pd.set_option('display.max_rows', 100)\n",
    "\n",
    "import matplotlib.ticker                         # here's where the formatter is\n",
    "import os\n",
    "import re\n",
    "import pandas as pd\n",
    "import pickle\n",
    "from collections import OrderedDict\n",
    "\n",
    "plt.rcParams[\"figure.figsize\"] = (4,3)\n",
    "plt.rcParams[\"axes.labelsize\"] = 'xx-large'\n",
    "plt.rcParams['axes.titlesize'] = 'xx-large'\n",
    "plt.rcParams['xtick.labelsize']= 'xx-large'\n",
    "plt.rcParams['ytick.labelsize']= 'xx-large'\n",
    "\n",
    "import scipy\n",
    "from scipy.optimize import curve_fit,least_squares\n",
    "\n",
    "\n",
    "# new color correction model\n",
    "import pickle\n",
    "from scipy.interpolate import RegularGridInterpolator"
   ]
  },
  {
   "cell_type": "code",
   "execution_count": null,
   "id": "ad1b1943-5173-40b8-8ac8-442e6ecc47d0",
   "metadata": {},
   "outputs": [],
   "source": [
    "from astropy.modeling import models"
   ]
  },
  {
   "cell_type": "code",
   "execution_count": null,
   "id": "46fe722f-bb23-4c29-8efb-4c096c72eec9",
   "metadata": {},
   "outputs": [],
   "source": [
    "from numpy.random import lognormal"
   ]
  },
  {
   "cell_type": "code",
   "execution_count": null,
   "id": "0ca0d1e6-5f82-4c43-aaa3-8524fc2bc5ba",
   "metadata": {},
   "outputs": [],
   "source": [
    "from matplotlib.ticker import (MultipleLocator, FormatStrFormatter,\n",
    "                               AutoMinorLocator)\n",
    "from astropy.visualization import (MinMaxInterval, SqrtStretch,ZScaleInterval,PercentileInterval,\n",
    "                                   ImageNormalize,imshow_norm)\n",
    "from astropy.visualization.stretch import SinhStretch, LinearStretch,AsinhStretch,LogStretch\n",
    "\n",
    "from astropy.time import Time\n",
    "from astropy.timeseries import TimeSeries"
   ]
  },
  {
   "cell_type": "code",
   "execution_count": null,
   "id": "e189816c-5048-43ab-a01a-7c078af54489",
   "metadata": {},
   "outputs": [],
   "source": [
    "# Remove to run faster the notebook\n",
    "#import ipywidgets as widgets\n",
    "#%matplotlib widget"
   ]
  },
  {
   "cell_type": "code",
   "execution_count": null,
   "id": "67327fd4-e405-45ce-8923-cd46ebaa0c0f",
   "metadata": {
    "tags": []
   },
   "outputs": [],
   "source": [
    "from importlib.metadata import version"
   ]
  },
  {
   "cell_type": "code",
   "execution_count": null,
   "id": "af8332dd-24f9-4b19-88f9-c62d0a4aebf1",
   "metadata": {
    "tags": []
   },
   "outputs": [],
   "source": [
    "# wavelength bin colors\n",
    "#jet = plt.get_cmap('jet')\n",
    "#cNorm = mpl.colors.Normalize(vmin=0, vmax=NSED)\n",
    "#scalarMap = cmx.ScalarMappable(norm=cNorm, cmap=jet)\n",
    "#all_colors = scalarMap.to_rgba(np.arange(NSED), alpha=1)"
   ]
  },
  {
   "cell_type": "code",
   "execution_count": null,
   "id": "1003d9d6-a40f-48b1-9ffc-bfab9f45ba93",
   "metadata": {},
   "outputs": [],
   "source": [
    "np.__version__"
   ]
  },
  {
   "cell_type": "code",
   "execution_count": null,
   "id": "c4cb2652-cb22-432e-b110-ae71d59dc793",
   "metadata": {},
   "outputs": [],
   "source": [
    "pd.__version__"
   ]
  },
  {
   "cell_type": "code",
   "execution_count": null,
   "id": "3b04bd0e-f314-4a4b-8d67-b7a1b973b080",
   "metadata": {},
   "outputs": [],
   "source": [
    "from scipy import signal"
   ]
  },
  {
   "cell_type": "code",
   "execution_count": null,
   "id": "ad03dc3d-6741-4478-82ba-1d5447529d9a",
   "metadata": {},
   "outputs": [],
   "source": [
    "def convertNumToDatestr(num):\n",
    "    year = num//10_000\n",
    "    month= (num-year*10_000)//100\n",
    "    day = (num-year*10_000-month*100)\n",
    "\n",
    "    year_str = str(year).zfill(4)\n",
    "    month_str = str(month).zfill(2)\n",
    "    day_str = str(day).zfill(2)\n",
    "    \n",
    "    datestr = f\"{year_str}-{month_str}-{day_str}\"\n",
    "    return pd.to_datetime(datestr)"
   ]
  },
  {
   "cell_type": "code",
   "execution_count": null,
   "id": "b38653bf-649e-4bd5-a75a-ab8908dbe7e4",
   "metadata": {},
   "outputs": [],
   "source": [
    "def pdf_lognormal(x,a0,mu,sigma):\n",
    "    \"\"\"\n",
    "    \"\"\"\n",
    "    pdf = a0*(np.exp(-(np.log(x) - mu)**2 / (2 * sigma**2))/ (x * sigma * np.sqrt(2 * np.pi)))\n",
    "    return pdf"
   ]
  },
  {
   "cell_type": "markdown",
   "id": "e3689d01-cbb7-4ea4-977a-9e284f6f5718",
   "metadata": {},
   "source": [
    "https://scikit-learn.org/stable/auto_examples/gaussian_process/plot_gpr_prior_posterior.html"
   ]
  },
  {
   "cell_type": "code",
   "execution_count": null,
   "id": "14eda506-44d9-4d0e-abed-6b402c85514e",
   "metadata": {
    "tags": []
   },
   "outputs": [],
   "source": [
    "def plot_gpr_samples(gpr_model, n_samples, ax , x, label):\n",
    "    \"\"\"Plot samples drawn from the Gaussian process model.\n",
    "\n",
    "    If the Gaussian process model is not trained then the drawn samples are\n",
    "    drawn from the prior distribution. Otherwise, the samples are drawn from\n",
    "    the posterior distribution. Be aware that a sample here corresponds to a\n",
    "    function.\n",
    "\n",
    "    Parameters\n",
    "    ----------\n",
    "    gpr_model : `GaussianProcessRegressor`\n",
    "        A :class:`~sklearn.gaussian_process.GaussianProcessRegressor` model.\n",
    "    n_samples : int\n",
    "        The number of samples to draw from the Gaussian process distribution.\n",
    "    ax : matplotlib axis\n",
    "        The matplotlib axis where to plot the samples.\n",
    "    \"\"\"\n",
    "    #x = np.linspace(0, 5, 100)\n",
    "    X = x.reshape(-1, 1)\n",
    "\n",
    "    y_mean, y_std = gpr_model.predict(X, return_std=True)\n",
    "    y_samples = gpr_model.sample_y(X, n_samples)\n",
    "\n",
    "    for idx, single_prior in enumerate(y_samples.T):\n",
    "        if idx==0:\n",
    "            ax.plot(\n",
    "                x,\n",
    "                single_prior,\n",
    "                linestyle=\"--\",\n",
    "                alpha=0.7,\n",
    "                label=label\n",
    "            )\n",
    "        else:\n",
    "            ax.plot(\n",
    "                x,\n",
    "                single_prior,\n",
    "                linestyle=\"--\",\n",
    "                alpha=0.7\n",
    "            )\n",
    "            \n",
    "        \n",
    "        \n",
    "    ax.plot(x, y_mean, color=\"black\", label=\"Mean\")\n",
    "    ax.fill_between(\n",
    "        x,\n",
    "        y_mean - y_std,\n",
    "        y_mean + y_std,\n",
    "        alpha=0.1,\n",
    "        color=\"black\",\n",
    "        label=r\"$\\pm$ 1 std. dev.\",\n",
    "    )\n",
    "    \n",
    "    #ax.set_ylim([-3, 3])"
   ]
  },
  {
   "cell_type": "markdown",
   "id": "4f13d6a3-7793-4bc0-920a-1d690d9f84b2",
   "metadata": {},
   "source": [
    "## Configuration"
   ]
  },
  {
   "cell_type": "code",
   "execution_count": null,
   "id": "c8cb2e48-0b34-4cbf-8379-43f7065112f7",
   "metadata": {},
   "outputs": [],
   "source": [
    "observing_location = EarthLocation.of_site('Rubin Observatory')\n",
    "tz = timezone('America/Santiago')"
   ]
  },
  {
   "cell_type": "markdown",
   "id": "6175a4a4-5c98-4e09-8ffd-a17282f6094e",
   "metadata": {},
   "source": [
    "### MERRA2"
   ]
  },
  {
   "cell_type": "code",
   "execution_count": null,
   "id": "d84a85da-768d-459f-8711-54e04f2cff75",
   "metadata": {
    "tags": []
   },
   "outputs": [],
   "source": [
    "filename_m2 = \"../../SpectroMerra2/MerradataMerged/Merge_inst1_2d_asm_Nx_M2I1NXASM-2021-2024.csv\"\n",
    "filename_m2b = \"../../SpectroMerra2/MerradataMerged/Merge_tavg1_2d_aer_Nx_M2T1NXAER-2021-2024.csv\""
   ]
  },
  {
   "cell_type": "code",
   "execution_count": null,
   "id": "dd89c1b3-43c8-43ae-b10d-f39e8f8b2963",
   "metadata": {
    "tags": []
   },
   "outputs": [],
   "source": [
    "df_m = pd.read_csv(filename_m2)\n",
    "df_mb = pd.read_csv(filename_m2b)"
   ]
  },
  {
   "cell_type": "code",
   "execution_count": null,
   "id": "a4c21a3e-f004-4b43-871d-8b479451b594",
   "metadata": {},
   "outputs": [],
   "source": [
    "Nm = len(df_m)\n",
    "Nmb = len(df_mb)\n",
    "print(\"Number of points :: \",Nm,Nmb)"
   ]
  },
  {
   "cell_type": "code",
   "execution_count": null,
   "id": "e1e70f0b-8123-48fc-8faa-f5f468c85a3a",
   "metadata": {},
   "outputs": [],
   "source": [
    "df_mb.columns"
   ]
  },
  {
   "cell_type": "code",
   "execution_count": null,
   "id": "0078d85a-f0a9-43f7-bb1a-30358769fe86",
   "metadata": {},
   "outputs": [],
   "source": [
    "TMIN = pd.to_datetime(df_m.time.min())\n",
    "TMAX = pd.to_datetime(df_m.time.max())"
   ]
  },
  {
   "cell_type": "markdown",
   "id": "e65aa79a-58d6-4022-8000-f2d8900c8f43",
   "metadata": {},
   "source": [
    "### Convert in MJD"
   ]
  },
  {
   "cell_type": "code",
   "execution_count": null,
   "id": "b58fea8d-18e5-4f69-ad7d-50b5af7150a9",
   "metadata": {
    "tags": []
   },
   "outputs": [],
   "source": [
    "df_m[\"mjd\"] = Time(pd.to_datetime(df_m.time.values)).mjd\n",
    "df_mb[\"mjd\"] = Time(pd.to_datetime(df_mb.time.values)).mjd"
   ]
  },
  {
   "cell_type": "code",
   "execution_count": null,
   "id": "fc6b3b3d-7161-44ee-94e4-d06eaec6745c",
   "metadata": {},
   "outputs": [],
   "source": [
    "mjd_zoom_start = Time(\"2024-01-01\").mjd\n",
    "mjd_zoom_stop = Time(\"2025-06-30\").mjd"
   ]
  },
  {
   "cell_type": "code",
   "execution_count": null,
   "id": "3f167569-b85b-4ef7-9c48-deda686e4139",
   "metadata": {
    "tags": []
   },
   "outputs": [],
   "source": [
    "mjd_obs_start = df_m[\"mjd\"].min() \n",
    "mjd_obs_stop = df_m[\"mjd\"].max() "
   ]
  },
  {
   "cell_type": "markdown",
   "id": "1de0255c-cbc2-4603-997c-8eaaa18eeef2",
   "metadata": {},
   "source": [
    "## PWV"
   ]
  },
  {
   "cell_type": "code",
   "execution_count": null,
   "id": "3fd02994-4a05-4145-8da9-10ac7f5b920a",
   "metadata": {},
   "outputs": [],
   "source": [
    "from matplotlib.dates import DateFormatter\n",
    "#date_form = DateFormatter(\"%y-%m-%dT%H:%M\")\n",
    "date_form = DateFormatter(\"%y-%m\")\n",
    "\n",
    "fig = plt.figure(figsize=(18,10))\n",
    "gs = GridSpec(2, 1,figure=fig)\n",
    "#gs = GridSpec(1, 1,figure=fig)\n",
    "ax1 = fig.add_subplot(gs[0])\n",
    "ax2 = fig.add_subplot(gs[1])\n",
    "        \n",
    "leg1=ax1.get_legend()\n",
    "leg2=ax2.get_legend()\n",
    "\n",
    "\n",
    "ax1.plot(pd.to_datetime(df_m.Time.values), df_m.TQV.values,c=\"b\",lw=0.5,label=\"Merra2\")\n",
    "ax1.set_xlabel(\"time\")\n",
    "ax1.xaxis.set_major_formatter(date_form)\n",
    "ax1.set_title(\"Precipitable water vapor from Merra2\")\n",
    "ax1.legend()\n",
    "ax1.set_ylabel(\"PWV (mm)\")\n",
    "#ax.set_xlim(TMIN,TMAX)\n",
    "\n",
    "data = df_m.TQV.values\n",
    "mean = np.mean(data)\n",
    "median = np.median(data)\n",
    "std = np.std(data)\n",
    "textstr = \"\\n\".join((f\"Expected max-range for PWV : \",\n",
    "                     f\"- average : {mean:.2f} mm\",\n",
    "                     f\"- median : {median:.2f} mm\",\n",
    "                     f\"- sigma : {std:.2f} mm\",     \n",
    "                    ))\n",
    "ax1.text(0.05, 0.95, textstr, transform=ax1.transAxes, fontsize=14,verticalalignment='top', bbox=props)\n",
    "\n",
    "\n",
    "ax2.plot(df_m.mjd, df_m.TQV.values,c=\"b\",lw=0.5,label=\"Merra2\")\n",
    "ax2.set_xlabel(\"time (MJD)\")\n",
    "ax2.legend()\n",
    "ax2.set_ylabel(\"PWV (mm)\")\n",
    "\n",
    "figname =f\"{pathfigs}/pwv_allpoints_merra2\"+figtype\n",
    "fig.savefig(figname)\n",
    "plt.show()\n"
   ]
  },
  {
   "cell_type": "code",
   "execution_count": null,
   "id": "79e054bc-ed2d-4020-9cf0-b8a7540d2ebd",
   "metadata": {
    "tags": []
   },
   "outputs": [],
   "source": [
    "fig,ax =plt.subplots(1,1,figsize=(6,4))\n",
    "\n",
    "hist_sampling = np.diff(df_m.mjd)\n",
    "ax.hist(hist_sampling,bins=100,range=(0,0.2))\n",
    "ax.set_title(\"sampling time for PWV\")\n",
    "ax.set_xlabel('day')\n",
    "plt.show()"
   ]
  },
  {
   "cell_type": "code",
   "execution_count": null,
   "id": "6e7c0e09-cc1f-4f39-bb70-6e75194e6a3a",
   "metadata": {},
   "outputs": [],
   "source": [
    "ts = hist_sampling.mean()\n",
    "fs = 1/ts\n",
    "x = df_m.TQV.values"
   ]
  },
  {
   "cell_type": "code",
   "execution_count": null,
   "id": "ef51fdbf-0e8e-48e1-a266-aed5dfd91d35",
   "metadata": {
    "tags": []
   },
   "outputs": [],
   "source": [
    "print(\"sampling time in minutes\",ts*24*60)"
   ]
  },
  {
   "cell_type": "code",
   "execution_count": null,
   "id": "936c71e1-349d-4238-847b-16ec564bc8be",
   "metadata": {},
   "outputs": [],
   "source": [
    "fig,ax =plt.subplots(1,1,figsize=(10,6))\n",
    "f, Pxx_den = signal.periodogram(x, fs)\n",
    "ax.semilogy(f, Pxx_den,color=\"b\")\n",
    "ax.set_ylim([1e-10, 1e4])\n",
    "ax.set_xlabel('frequency [1/days]')\n",
    "ax.set_ylabel('PSD [mm**2/day]')\n",
    "ax.set_title(\"Periodogram for PWV at Merra2\")\n",
    "plt.show()"
   ]
  },
  {
   "cell_type": "code",
   "execution_count": null,
   "id": "93ba7fdc-1a3b-4620-8696-53ed95e709b0",
   "metadata": {
    "tags": []
   },
   "outputs": [],
   "source": [
    "fig,ax =plt.subplots(1,1,figsize=(10,6))\n",
    "f, Pxx_den = signal.periodogram(x, fs)\n",
    "ax.loglog(f, Pxx_den,color=\"b\")\n",
    "ax.set_ylim([1e-10, 1e4])\n",
    "ax.set_xlabel('frequency [1/days]')\n",
    "ax.set_ylabel('PSD [mm**2/day]')\n",
    "ax.set_title(\"Periodogram for PWV at Merra2\")\n",
    "plt.show()"
   ]
  },
  {
   "cell_type": "code",
   "execution_count": null,
   "id": "48c37afe-b61f-4d88-a50d-17443c012261",
   "metadata": {
    "tags": []
   },
   "outputs": [],
   "source": [
    "assert False"
   ]
  },
  {
   "cell_type": "markdown",
   "id": "3338a245-30b8-444c-971e-d5d1efc68b1f",
   "metadata": {},
   "source": [
    "## Ozone"
   ]
  },
  {
   "cell_type": "code",
   "execution_count": null,
   "id": "fbe59757-4742-4a83-b5b6-a43953a6c5d4",
   "metadata": {},
   "outputs": [],
   "source": [
    "from matplotlib.dates import DateFormatter\n",
    "#date_form = DateFormatter(\"%y-%m-%dT%H:%M\")\n",
    "date_form = DateFormatter(\"%y-%m\")\n",
    "\n",
    "fig = plt.figure(figsize=(18,10))\n",
    "gs = GridSpec(2, 1,figure=fig)\n",
    "\n",
    "ax1 = fig.add_subplot(gs[0])\n",
    "ax2 = fig.add_subplot(gs[1])\n",
    "        \n",
    "leg1=ax1.get_legend()\n",
    "leg2=ax2.get_legend()\n",
    "\n",
    "\n",
    "ax1.plot(pd.to_datetime(df_m.Time.values), df_m.TO3.values,c=\"r\",lw=0.5,label=\"Merra2\")\n",
    "ax1.set_xlabel(\"time\")\n",
    "ax1.xaxis.set_major_formatter(date_form)\n",
    "ax1.set_title(\"Ozone from Merra2\")\n",
    "#ax1.legend()\n",
    "ax1.set_ylabel(\"Ozone (DU)\")\n",
    "#ax.set_xlim(TMIN,TMAX)\n",
    "\n",
    "data = df_m.TO3.values\n",
    "mean = np.mean(data)\n",
    "median = np.median(data)\n",
    "std = np.std(data)\n",
    "textstr = \"\\n\".join((f\"Expected range for Ozone : \",\n",
    "                     f\"- average : {mean:.2f} DU\",\n",
    "                     f\"- median : {median:.2f} DU\",\n",
    "                     f\"- sigma : {std:.2f} DU\",     \n",
    "                    ))\n",
    "ax1.text(0.05, 0.95, textstr, transform=ax1.transAxes, fontsize=14,verticalalignment='top', bbox=props)\n",
    "\n",
    "ax2.plot(df_m.mjd, df_m.TO3.values,c=\"r\",lw=0.5,label=\"Merra2\")\n",
    "ax2.set_xlabel(\"time (MJD)\")\n",
    "ax2.legend()\n",
    "ax2.set_ylabel(\"Ozone (DU)\")\n",
    "\n",
    "\n",
    "figname =f\"{pathfigs}/ozone_allpoints_merra2\"+figtype\n",
    "fig.savefig(figname)\n",
    "plt.show()\n"
   ]
  },
  {
   "cell_type": "markdown",
   "id": "90f02a69-886e-48e3-9775-6fb554b06f98",
   "metadata": {},
   "source": [
    "### Define the kernels"
   ]
  },
  {
   "cell_type": "code",
   "execution_count": null,
   "id": "22aa691a-2fa2-4af1-b446-a04706032b3a",
   "metadata": {
    "tags": []
   },
   "outputs": [],
   "source": [
    "long_term_trend_kernel = 5.0**2 * RBF(length_scale=50.0)\n",
    "\n",
    "seasonal_kernel = (\n",
    "    2.0**2\n",
    "    * RBF(length_scale=1000.0)\n",
    "    * ExpSineSquared(length_scale=365.25, periodicity=1.0, periodicity_bounds=\"fixed\")\n",
    ")\n",
    "\n",
    "irregularities_kernel = 2.0**2 * RationalQuadratic(length_scale=10.0, alpha=1.0)\n",
    "\n",
    "noise_kernel = 0.1**2 * RBF(length_scale=1.) + WhiteKernel(\n",
    "    noise_level=1.**2, noise_level_bounds=(1e-5, 1e5)\n",
    ")"
   ]
  },
  {
   "cell_type": "code",
   "execution_count": null,
   "id": "2a717d51-4eb7-4ef1-a719-1baf6df22fc1",
   "metadata": {
    "tags": []
   },
   "outputs": [],
   "source": [
    "ozone_kernel = (\n",
    "    long_term_trend_kernel + seasonal_kernel + irregularities_kernel + noise_kernel\n",
    "    #seasonal_kernel + irregularities_kernel + noise_kernel\n",
    "    #seasonal_kernel + irregularities_kernel \n",
    ")"
   ]
  },
  {
   "cell_type": "code",
   "execution_count": null,
   "id": "3928c31b-f0bd-4804-a743-62d2499f0451",
   "metadata": {
    "tags": []
   },
   "outputs": [],
   "source": [
    "x = df_m.mjd.values[index_selected]\n",
    "X = x.reshape(-1, 1)\n",
    "y = df_m.TO3.values[index_selected]\n",
    "y_mean = y.mean()\n",
    "\n",
    "gaussian_process = GaussianProcessRegressor(kernel=ozone_kernel, normalize_y=False)\n",
    "gaussian_process.fit(X, y - y_mean)"
   ]
  },
  {
   "cell_type": "markdown",
   "id": "5165726c-40e1-43cc-bc59-603a1d7b23b2",
   "metadata": {},
   "source": [
    "### Prediction"
   ]
  },
  {
   "cell_type": "code",
   "execution_count": null,
   "id": "6eea6a1e-1cd0-45df-b375-7577cf325987",
   "metadata": {
    "tags": []
   },
   "outputs": [],
   "source": [
    "x_test = np.arange(start=mjd_min, stop=mjd_max,step=2)\n",
    "X_test = x_test.reshape(-1,1)\n",
    "mean_y_pred, std_y_pred = gaussian_process.predict(X_test, return_std=True)\n",
    "mean_y_pred += y_mean"
   ]
  },
  {
   "cell_type": "code",
   "execution_count": null,
   "id": "f6d5fd18-8b1e-4936-8adf-4adb20ac0883",
   "metadata": {
    "tags": []
   },
   "outputs": [],
   "source": [
    "fig = plt.figure(figsize=(18,10),layout=\"constrained\")\n",
    "gs = GridSpec(2, 1,figure=fig)\n",
    "#gs = GridSpec(1, 1,figure=fig)\n",
    "ax1 = fig.add_subplot(gs[0])\n",
    "ax2 = fig.add_subplot(gs[1])\n",
    "ax1.plot(x,y,'-',color=\"k\",linestyle=\"dashed\", label=\"M2 Measurements\")\n",
    "ax1.plot(x_test,mean_y_pred,color=\"tab:red\", alpha=1.0, label=\"Gaussian process\")\n",
    "ax1.fill_between(\n",
    "    X_test.ravel(),\n",
    "    mean_y_pred - std_y_pred,\n",
    "    mean_y_pred + std_y_pred,\n",
    "    color=\"tab:red\",\n",
    "    alpha=0.2,\n",
    ")\n",
    "ax1.legend()\n",
    "ax1.set_ylabel(\"Ozone (DU)\")\n",
    "ax1.set_xlabel(\"mjd\")\n",
    "ax1.set_title(\"Fit Ozone with Gaussian process\")\n",
    "\n",
    "\n",
    "ax2.plot(x,y,'-',color=\"k\",linestyle=\"dashed\", label=\"M2 Measurements\")\n",
    "ax2.plot(x_test,mean_y_pred,color=\"tab:blue\", alpha=1.0, label=\"Gaussian process\")\n",
    "ax2.fill_between(\n",
    "    X_test.ravel(),\n",
    "    mean_y_pred - std_y_pred,\n",
    "    mean_y_pred + std_y_pred,\n",
    "    color=\"tab:red\",\n",
    "    alpha=0.2,\n",
    ")\n",
    "ax2.legend()\n",
    "\n",
    "ax2.set_ylabel(\"Ozone (DU)\")\n",
    "ax2.set_xlabel(\"mjd\")\n",
    "ax2.set_title(\"Time-Zoom on Fit Ozone with Gaussian process\")\n",
    "ax2.set_xlim(mjd_zoom_start,mjd_zoom_stop)\n",
    "\n",
    "\n",
    "\n",
    "figname =f\"{pathfigs}/ozone_fitgp_merra2\"+figtype\n",
    "fig.savefig(figname)\n",
    "plt.show()\n"
   ]
  },
  {
   "cell_type": "markdown",
   "id": "bcea6033-138c-40e7-bf55-31dd90d4d82f",
   "metadata": {},
   "source": [
    "### Interpretation of hyper-parameters\n",
    "\n",
    "\n",
    "- model of CO2 : https://scikit-learn.org/stable/auto_examples/gaussian_process/plot_gpr_co2.html#sphx-glr-auto-examples-gaussian-process-plot-gpr-co2-py\n",
    "- see the different types of kernels here : https://scikit-learn.org/stable/modules/gaussian_process.html#gp-kernels and implementation here  https://scikit-learn.org/stable/auto_examples/gaussian_process/plot_gpr_prior_posterior.html"
   ]
  },
  {
   "cell_type": "code",
   "execution_count": null,
   "id": "b9b9908e-0c56-4468-b067-98dd4a53d661",
   "metadata": {
    "tags": []
   },
   "outputs": [],
   "source": [
    "gaussian_process.kernel_"
   ]
  },
  {
   "cell_type": "code",
   "execution_count": null,
   "id": "be666a95-fef4-4b1d-804e-7cb38957692c",
   "metadata": {
    "tags": []
   },
   "outputs": [],
   "source": [
    "### pickup kernels one by one\n",
    "the_kernel_a = 0.0931**2 * RBF(length_scale=1e-05)\n",
    "label_a = \"gpr_a : 0.0931**2 * RBF(length_scale=1e-05)\"\n",
    "\n",
    "the_kernel_b = 0.0209**2 * RBF(length_scale=1e+05) * ExpSineSquared(length_scale=42.9, periodicity=1)\n",
    "label_b = \"gpr_b : 0.0209**2 * RBF(length_scale=1e+05) * ExpSineSquared(length_scale=42.9, periodicity=1)\"\n",
    "\n",
    "the_kernel_c = 16.3**2 * RationalQuadratic(alpha=0.11, length_scale=0.687)\n",
    "label_c = \"gpr_c : 16.3**2 * RationalQuadratic(alpha=0.11, length_scale=0.687)\"                                         \n",
    "                                          \n",
    "the_kernel_d = 15.4**2 * RBF(length_scale=83.6)\n",
    "label_d = \"gpr_d : 15.4**2 * RBF(length_scale=83.6)\"\n",
    "                                           \n",
    "the_kernel_e =  WhiteKernel(noise_level=0.0448)\n",
    "label_e= \"gpr_e : WhiteKernel(noise_level=0.0448)\"\n",
    "\n",
    "### generate gaussian process from each kernel\n",
    "gpr_a = GaussianProcessRegressor(kernel=the_kernel_a, random_state=0)\n",
    "gpr_b = GaussianProcessRegressor(kernel=the_kernel_b, random_state=0)\n",
    "gpr_c = GaussianProcessRegressor(kernel=the_kernel_c, random_state=0)\n",
    "gpr_d = GaussianProcessRegressor(kernel=the_kernel_d, random_state=0)\n",
    "gpr_e = GaussianProcessRegressor(kernel=the_kernel_e, random_state=0)\n",
    "\n",
    "fig, axs = plt.subplots(nrows=5, sharex=True, sharey=True, figsize=(10, 8),layout=\"constrained\")\n",
    "n_samples=3\n",
    "\n",
    "# plot prior\n",
    "plot_gpr_samples(gpr_a, n_samples = n_samples, ax=axs[0], x=mjd_obs_range,label=label_a)\n",
    "axs[0].legend()\n",
    "plot_gpr_samples(gpr_b, n_samples = n_samples, ax=axs[1], x=mjd_obs_range, label=label_b)\n",
    "axs[1].legend()\n",
    "plot_gpr_samples(gpr_c, n_samples = n_samples, ax=axs[2], x=mjd_obs_range,label=label_c)\n",
    "axs[2].legend()\n",
    "plot_gpr_samples(gpr_d, n_samples = n_samples, ax=axs[3], x=mjd_obs_range,label=label_d)\n",
    "axs[3].legend()\n",
    "plot_gpr_samples(gpr_e, n_samples = n_samples, ax=axs[4], x=mjd_obs_range,label=label_e)\n",
    "axs[4].legend()\n",
    "\n",
    "axs[0].set_title(\"Kernel functions for Ozone\")\n",
    "figname =f\"{pathfigs}/ozone_kernelcomponents_merra2\"+figtype\n",
    "fig.savefig(figname)\n",
    "plt.show()\n"
   ]
  },
  {
   "cell_type": "markdown",
   "id": "58b4ac69-947d-4b40-9b5f-aec8c9d6f841",
   "metadata": {},
   "source": [
    "## Aerosol VAOD"
   ]
  },
  {
   "cell_type": "code",
   "execution_count": null,
   "id": "8424c184-6bc3-4adf-942a-cffd5f9b924f",
   "metadata": {},
   "outputs": [],
   "source": [
    "from matplotlib.dates import DateFormatter\n",
    "#date_form = DateFormatter(\"%y-%m-%dT%H:%M\")\n",
    "date_form = DateFormatter(\"%y-%m\")\n",
    "\n",
    "fig = plt.figure(figsize=(18,10))\n",
    "gs = GridSpec(2, 1,figure=fig)\n",
    "ax1 = fig.add_subplot(gs[0])\n",
    "ax2 = fig.add_subplot(gs[1])\n",
    "        \n",
    "leg1=ax1.get_legend()\n",
    "leg2=ax2.get_legend()\n",
    "\n",
    "\n",
    "ax1.plot(pd.to_datetime(df_mb.Time.values), df_mb.TOTEXTTAU.values,c=\"g\",lw=0.5,label=\"Merra2\")\n",
    "ax1.set_xlabel(\"time\")\n",
    "ax1.xaxis.set_major_formatter(date_form)\n",
    "ax1.set_title(\"VAOD from Merra2\")\n",
    "ax1.legend()\n",
    "ax1.set_ylabel(\"VAOD\")\n",
    "#ax.set_xlim(TMIN,TMAX)\n",
    "data = df_mb.TOTEXTTAU.values\n",
    "mean = np.mean(data)\n",
    "median = np.median(data)\n",
    "std = np.std(data)\n",
    "textstr = \"\\n\".join((f\"Expected max-range for VAOD : \",\n",
    "                     f\"- average : {mean:.3f}\",\n",
    "                     f\"- median : {median:.3f}\",\n",
    "                     f\"- sigma : {std:.3f}\",     \n",
    "                    ))\n",
    "ax1.text(0.05, 0.95, textstr, transform=ax1.transAxes, fontsize=14,verticalalignment='top', bbox=props)\n",
    "\n",
    "ax2.plot(df_mb.mjd, df_mb.TOTEXTTAU.values,c=\"g\",lw=0.5,label=\"Merra2\")\n",
    "ax2.set_xlabel(\"time (MJD)\")\n",
    "ax2.legend()\n",
    "ax2.set_ylabel(\"VAOD\")\n",
    "\n",
    "\n",
    "figname =f\"{pathfigs}/vaod_allpoints_merra2\"+figtype\n",
    "fig.savefig(figname)\n",
    "plt.show()\n"
   ]
  },
  {
   "cell_type": "markdown",
   "id": "27c583fd-7e8a-44d7-91cd-74e0d8da725e",
   "metadata": {},
   "source": [
    "### Define the kernels"
   ]
  },
  {
   "cell_type": "code",
   "execution_count": null,
   "id": "9e6b13b8-ed3e-4bc4-bda9-8d80c3243c63",
   "metadata": {
    "tags": []
   },
   "outputs": [],
   "source": [
    "long_term_trend_kernel = 5.0**2 * RBF(length_scale=50.0)\n",
    "\n",
    "seasonal_kernel = (\n",
    "    2.0**2\n",
    "    * RBF(length_scale=1000.0)\n",
    "    * ExpSineSquared(length_scale=365.25, periodicity=1.0, periodicity_bounds=\"fixed\")\n",
    ")\n",
    "\n",
    "irregularities_kernel = 2.0**2 * RationalQuadratic(length_scale=10.0, alpha=1.0)\n",
    "\n",
    "noise_kernel = 0.1**2 * RBF(length_scale=1.) + WhiteKernel(\n",
    "    noise_level=1.**2, noise_level_bounds=(1e-5, 1e5)\n",
    ")"
   ]
  },
  {
   "cell_type": "code",
   "execution_count": null,
   "id": "3cf1cef0-86ea-47cb-8665-77fb5f24f364",
   "metadata": {
    "tags": []
   },
   "outputs": [],
   "source": [
    "vaod_kernel = (\n",
    "    long_term_trend_kernel + seasonal_kernel + irregularities_kernel + noise_kernel\n",
    "    #seasonal_kernel + irregularities_kernel + noise_kernel\n",
    "    #seasonal_kernel + irregularities_kernel \n",
    ")"
   ]
  },
  {
   "cell_type": "markdown",
   "id": "9d1a872f-6340-4861-a92f-8c8094954706",
   "metadata": {},
   "source": [
    "### Make a subsample"
   ]
  },
  {
   "cell_type": "code",
   "execution_count": null,
   "id": "bb56429d-5658-4b96-84a2-99d8a7f9d403",
   "metadata": {
    "tags": []
   },
   "outputs": [],
   "source": [
    "a = np.arange(0,Nmb ,1)\n",
    "#b = np.random.choice(a, size=10000,replace=False)\n",
    "b = np.random.choice(a, size=1000,replace=False)"
   ]
  },
  {
   "cell_type": "code",
   "execution_count": null,
   "id": "93a286de-2319-4d09-a274-f349df7ac4c8",
   "metadata": {
    "tags": []
   },
   "outputs": [],
   "source": [
    "unique, counts = np.unique(b, return_counts=True)"
   ]
  },
  {
   "cell_type": "code",
   "execution_count": null,
   "id": "3e42a97b-6106-48a6-8091-72c4d6feb59e",
   "metadata": {
    "tags": []
   },
   "outputs": [],
   "source": [
    "index_selected = np.sort(b)"
   ]
  },
  {
   "cell_type": "markdown",
   "id": "15e11411-1d59-42eb-8546-3f855c2bd9e6",
   "metadata": {},
   "source": [
    "### Fit the gaussian process"
   ]
  },
  {
   "cell_type": "code",
   "execution_count": null,
   "id": "ec0183b0-d769-4db4-92c2-e1e5428e13af",
   "metadata": {
    "tags": []
   },
   "outputs": [],
   "source": [
    "x = df_mb.mjd.values[index_selected]\n",
    "X = x.reshape(-1, 1)\n",
    "y = df_mb.TOTEXTTAU.values[index_selected]\n",
    "y_mean = y.mean()\n",
    "\n",
    "gaussian_process = GaussianProcessRegressor(kernel=vaod_kernel, normalize_y=False)\n",
    "gaussian_process.fit(X, y - y_mean)"
   ]
  },
  {
   "cell_type": "markdown",
   "id": "d4f55ec7-f8cb-441e-ba4f-a7bb436410b8",
   "metadata": {},
   "source": [
    "## Prediction"
   ]
  },
  {
   "cell_type": "code",
   "execution_count": null,
   "id": "d1f3394c-ad92-4525-8aeb-ba9b69580eb9",
   "metadata": {
    "tags": []
   },
   "outputs": [],
   "source": [
    "mjd_min_b = df_mb.mjd.values.min()\n",
    "mjd_max_b = df_mb.mjd.values.max() + 360"
   ]
  },
  {
   "cell_type": "code",
   "execution_count": null,
   "id": "5c8701c9-e883-4645-83c3-a42dbcdf0dde",
   "metadata": {
    "tags": []
   },
   "outputs": [],
   "source": [
    "x_test = np.arange(start=mjd_min_b, stop=mjd_max_b,step=2)\n",
    "X_test = x_test.reshape(-1,1)\n",
    "mean_y_pred, std_y_pred = gaussian_process.predict(X_test, return_std=True)\n",
    "mean_y_pred += y_mean"
   ]
  },
  {
   "cell_type": "code",
   "execution_count": null,
   "id": "38ff40ec-ed36-41e9-bd42-09cdc536647b",
   "metadata": {
    "tags": []
   },
   "outputs": [],
   "source": [
    "fig = plt.figure(figsize=(18,10),layout=\"constrained\")\n",
    "gs = GridSpec(2, 1,figure=fig)\n",
    "#gs = GridSpec(1, 1,figure=fig)\n",
    "ax1 = fig.add_subplot(gs[0])\n",
    "ax2 = fig.add_subplot(gs[1])\n",
    "ax1.plot(x,y,'-',color=\"k\",linestyle=\"dashed\", label=\"M2 Measurements\")\n",
    "ax1.plot(x_test,mean_y_pred,color=\"tab:green\", alpha=1.0, label=\"Gaussian process\")\n",
    "ax1.fill_between(\n",
    "    X_test.ravel(),\n",
    "    mean_y_pred - std_y_pred,\n",
    "    mean_y_pred + std_y_pred,\n",
    "    color=\"tab:green\",\n",
    "    alpha=0.2,\n",
    ")\n",
    "ax1.legend()\n",
    "\n",
    "ax1.set_ylabel(\"VAOD\")\n",
    "ax1.set_xlabel(\"mjd\")\n",
    "ax1.set_title(\"Fit Aerosol VAOD with Gaussian process\")\n",
    "\n",
    "\n",
    "\n",
    "ax2.plot(x,y,'-',color=\"k\",linestyle=\"dashed\", label=\"M2 Measurements\")\n",
    "ax2.plot(x_test,mean_y_pred,color=\"tab:blue\", alpha=1.0, label=\"Gaussian process\")\n",
    "ax2.fill_between(\n",
    "    X_test.ravel(),\n",
    "    mean_y_pred - std_y_pred,\n",
    "    mean_y_pred + std_y_pred,\n",
    "    color=\"tab:green\",\n",
    "    alpha=0.2,\n",
    ")\n",
    "ax2.legend()\n",
    "\n",
    "ax2.set_ylabel(\"VAOD\")\n",
    "ax2.set_xlabel(\"mjd\")\n",
    "ax2.set_title(\"Time-Zoom on Fit VAOD with Gaussian process\")\n",
    "ax2.set_xlim(mjd_zoom_start,mjd_zoom_stop)\n",
    "\n",
    "\n",
    "\n",
    "figname =f\"{pathfigs}/aervaod_fitgp_merra2\"+figtype\n",
    "fig.savefig(figname)\n",
    "plt.show()\n"
   ]
  },
  {
   "cell_type": "markdown",
   "id": "7f4282fb-0011-496b-854a-db1f2b1f61a8",
   "metadata": {},
   "source": [
    "### Interpretation of hyper-parameters\n",
    "\n",
    "\n",
    "- model of CO2 : https://scikit-learn.org/stable/auto_examples/gaussian_process/plot_gpr_co2.html#sphx-glr-auto-examples-gaussian-process-plot-gpr-co2-py\n",
    "- see the different types of kernels here : https://scikit-learn.org/stable/modules/gaussian_process.html#gp-kernels and implementation here  https://scikit-learn.org/stable/auto_examples/gaussian_process/plot_gpr_prior_posterior.html"
   ]
  },
  {
   "cell_type": "code",
   "execution_count": null,
   "id": "b49c4326-606b-49f2-a1b6-7167cc137373",
   "metadata": {
    "tags": []
   },
   "outputs": [],
   "source": [
    "gaussian_process.kernel_"
   ]
  },
  {
   "cell_type": "code",
   "execution_count": null,
   "id": "df95d44d-01f6-46db-aee8-9a59e4cfef6b",
   "metadata": {
    "tags": []
   },
   "outputs": [],
   "source": [
    "mjd_obs_start = df_mb[\"mjd\"].min() \n",
    "mjd_obs_stop = df_mb[\"mjd\"].max() \n",
    "mjd_obs_range = np.arange(mjd_obs_start,mjd_obs_stop,1)"
   ]
  },
  {
   "cell_type": "code",
   "execution_count": null,
   "id": "7715a7b9-0e25-4791-9ed0-088c4370a94d",
   "metadata": {
    "tags": []
   },
   "outputs": [],
   "source": [
    "### pickup kernels one by one\n",
    "the_kernel_a = 0.00316**2 * RBF(length_scale=1e+05)\n",
    "label_a = \"gpr_a : 0.00316**2 * RBF(length_scale=1e+05)\"\n",
    "\n",
    "the_kernel_b =  0.00762**2 * RBF(length_scale=7.64e+04) * ExpSineSquared(length_scale=0.84, periodicity=1)\n",
    "label_b = \"gpr_b :  0.00762**2 * RBF(length_scale=7.64e+04) * ExpSineSquared(length_scale=0.84, periodicity=1)\"\n",
    "\n",
    "the_kernel_c = 0.00316**2 * RationalQuadratic(alpha=1.51, length_scale=1e+05)\n",
    "label_c = \"gpr_c : 0.00316**2 * RationalQuadratic(alpha=1.51, length_scale=1e+05)\"                                         \n",
    "                                          \n",
    "the_kernel_d = 0.0355**2 * RBF(length_scale=0.507)\n",
    "label_d = \"gpr_d : 0.0355**2 * RBF(length_scale=0.507)\"\n",
    "                                           \n",
    "the_kernel_e =  WhiteKernel(noise_level=4.57e-05)\n",
    "label_e= \"gpr_e : WhiteKernel(noise_level=4.57e-05)\"\n",
    "\n",
    "### generate gaussian process from each kernel\n",
    "gpr_a = GaussianProcessRegressor(kernel=the_kernel_a, random_state=0)\n",
    "gpr_b = GaussianProcessRegressor(kernel=the_kernel_b, random_state=0)\n",
    "gpr_c = GaussianProcessRegressor(kernel=the_kernel_c, random_state=0)\n",
    "gpr_d = GaussianProcessRegressor(kernel=the_kernel_d, random_state=0)\n",
    "gpr_e = GaussianProcessRegressor(kernel=the_kernel_e, random_state=0)\n",
    "\n",
    "fig, axs = plt.subplots(nrows=5, sharex=True, sharey=True, figsize=(10, 8),layout=\"constrained\")\n",
    "n_samples=3\n",
    "\n",
    "# plot prior\n",
    "plot_gpr_samples(gpr_a, n_samples = n_samples, ax=axs[0], x=mjd_obs_range,label=label_a)\n",
    "axs[0].legend()\n",
    "plot_gpr_samples(gpr_b, n_samples = n_samples, ax=axs[1], x=mjd_obs_range, label=label_b)\n",
    "axs[1].legend()\n",
    "plot_gpr_samples(gpr_c, n_samples = n_samples, ax=axs[2], x=mjd_obs_range,label=label_c)\n",
    "axs[2].legend()\n",
    "plot_gpr_samples(gpr_d, n_samples = n_samples, ax=axs[3], x=mjd_obs_range,label=label_d)\n",
    "axs[3].legend()\n",
    "plot_gpr_samples(gpr_e, n_samples = n_samples, ax=axs[4], x=mjd_obs_range,label=label_e)\n",
    "axs[4].legend()\n",
    "\n",
    "axs[0].set_title(\"Kernel functions for VAOD\")\n",
    "figname =f\"{pathfigs}/vaod_kernelcomponents_merra2\"+figtype\n",
    "fig.savefig(figname)\n",
    "plt.show()\n"
   ]
  },
  {
   "cell_type": "markdown",
   "id": "70e98d5e-523d-423b-8b16-808ca897107c",
   "metadata": {},
   "source": [
    "## Aerosol Angstrom"
   ]
  },
  {
   "cell_type": "code",
   "execution_count": null,
   "id": "bdbbe50f-56ca-4c7d-ae34-ea25d0e6b07d",
   "metadata": {},
   "outputs": [],
   "source": [
    "from matplotlib.dates import DateFormatter\n",
    "#date_form = DateFormatter(\"%y-%m-%dT%H:%M\")\n",
    "date_form = DateFormatter(\"%y-%m\")\n",
    "\n",
    "fig = plt.figure(figsize=(18,10))\n",
    "gs = GridSpec(2, 1,figure=fig)\n",
    "\n",
    "ax1 = fig.add_subplot(gs[0])\n",
    "ax2 = fig.add_subplot(gs[1])\n",
    "        \n",
    "leg1=ax1.get_legend()\n",
    "leg2=ax2.get_legend()\n",
    "\n",
    "\n",
    "ax1.plot(pd.to_datetime(df_mb.Time.values), df_mb.TOTANGSTR.values,c=\"purple\",lw=0.5,label=\"Merra2\")\n",
    "ax1.set_xlabel(\"time\")\n",
    "ax1.xaxis.set_major_formatter(date_form)\n",
    "ax1.set_title(\"VAOD_Angstrom from Merra2\")\n",
    "ax1.legend()\n",
    "ax1.set_ylabel(\"VAOD_Angstrom\")\n",
    "#ax.set_xlim(TMIN,TMAX)\n",
    "data = df_mb.TOTANGSTR.values\n",
    "mean = np.mean(data)\n",
    "median = np.median(data)\n",
    "std = np.std(data)\n",
    "textstr = \"\\n\".join((f\"Expected max-range for VAOD-Angstrom : \",\n",
    "                     f\"- average : {mean:.3f}\",\n",
    "                     f\"- median : {median:.3f}\",\n",
    "                     f\"- sigma : {std:.3f}\",     \n",
    "                    ))\n",
    "ax1.text(0.05, 0.95, textstr, transform=ax1.transAxes, fontsize=14,verticalalignment='top', bbox=props)\n",
    "\n",
    "\n",
    "ax2.plot(df_mb.mjd, df_mb.TOTANGSTR.values,c=\"purple\",lw=0.5,label=\"Merra2\")\n",
    "ax2.set_xlabel(\"time (MJD)\")\n",
    "ax2.legend()\n",
    "ax2.set_ylabel(\"VAOD\")\n",
    "\n",
    "\n",
    "\n",
    "figname =f\"{pathfigs}/vaodangstrom_allpoints_merra2\"+figtype\n",
    "fig.savefig(figname)\n",
    "plt.show()"
   ]
  },
  {
   "cell_type": "markdown",
   "id": "df1f80a5-6a94-46ec-b28b-0a9b49c503be",
   "metadata": {},
   "source": [
    "### Define kernels"
   ]
  },
  {
   "cell_type": "code",
   "execution_count": null,
   "id": "99cd9726-9832-4f83-ba3f-573c206ceb20",
   "metadata": {
    "tags": []
   },
   "outputs": [],
   "source": [
    "long_term_trend_kernel = 5.0**2 * RBF(length_scale=50.0)\n",
    "\n",
    "seasonal_kernel = (\n",
    "    2.0**2\n",
    "    * RBF(length_scale=1000.0)\n",
    "    * ExpSineSquared(length_scale=365.25, periodicity=1.0, periodicity_bounds=\"fixed\")\n",
    ")\n",
    "\n",
    "irregularities_kernel = 2.0**2 * RationalQuadratic(length_scale=10.0, alpha=1.0)\n",
    "\n",
    "noise_kernel = 0.1**2 * RBF(length_scale=1.) + WhiteKernel(\n",
    "    noise_level=1.**2, noise_level_bounds=(1e-5, 1e5)\n",
    ")"
   ]
  },
  {
   "cell_type": "code",
   "execution_count": null,
   "id": "c01c5914-9d2d-49fa-bb0f-809dbf542ad8",
   "metadata": {
    "tags": []
   },
   "outputs": [],
   "source": [
    "angstrom_kernel = (\n",
    "    long_term_trend_kernel + seasonal_kernel + irregularities_kernel + noise_kernel\n",
    "    #seasonal_kernel + irregularities_kernel + noise_kernel\n",
    "    #seasonal_kernel + irregularities_kernel \n",
    ")"
   ]
  },
  {
   "cell_type": "markdown",
   "id": "091d3306-aaa1-42d5-8aed-8594d4d83d42",
   "metadata": {},
   "source": [
    "### Fit the gaussian process model"
   ]
  },
  {
   "cell_type": "code",
   "execution_count": null,
   "id": "57499637-edec-44d9-bb72-6068b655beb4",
   "metadata": {
    "tags": []
   },
   "outputs": [],
   "source": [
    "x = df_mb.mjd.values[index_selected]\n",
    "X = x.reshape(-1, 1)\n",
    "y = df_mb.TOTANGSTR.values[index_selected]\n",
    "y_mean = y.mean()\n",
    "\n",
    "gaussian_process = GaussianProcessRegressor(kernel=angstrom_kernel, normalize_y=False)\n",
    "gaussian_process.fit(X, y - y_mean)"
   ]
  },
  {
   "cell_type": "markdown",
   "id": "7ebef1b7-9631-4930-a736-afaf854a7af3",
   "metadata": {},
   "source": [
    "### Prediction"
   ]
  },
  {
   "cell_type": "code",
   "execution_count": null,
   "id": "d0ef28be-7595-439f-9b4e-60266849642f",
   "metadata": {
    "tags": []
   },
   "outputs": [],
   "source": [
    "x_test = np.arange(start=mjd_min_b, stop=mjd_max_b,step=2)\n",
    "X_test = x_test.reshape(-1,1)\n",
    "mean_y_pred, std_y_pred = gaussian_process.predict(X_test, return_std=True)\n",
    "mean_y_pred += y_mean"
   ]
  },
  {
   "cell_type": "code",
   "execution_count": null,
   "id": "27b4eef1-a8d5-4ad9-bd57-dc877ebaea61",
   "metadata": {
    "tags": []
   },
   "outputs": [],
   "source": [
    "fig = plt.figure(figsize=(18,10),layout=\"constrained\")\n",
    "gs = GridSpec(2, 1,figure=fig)\n",
    "#gs = GridSpec(1, 1,figure=fig)\n",
    "ax1 = fig.add_subplot(gs[0])\n",
    "ax2 = fig.add_subplot(gs[1])\n",
    "ax1.plot(x,y,'-',color=\"k\",linestyle=\"dashed\", label=\"M2 Measurements\")\n",
    "ax1.plot(x_test,mean_y_pred,color=\"tab:purple\", alpha=1.0, label=\"Gaussian process\")\n",
    "ax1.fill_between(\n",
    "    X_test.ravel(),\n",
    "    mean_y_pred - std_y_pred,\n",
    "    mean_y_pred + std_y_pred,\n",
    "    color=\"tab:purple\",\n",
    "    alpha=0.2,\n",
    ")\n",
    "ax1.legend()\n",
    "\n",
    "ax1.set_ylabel(\"Angstrom\")\n",
    "ax1.set_xlabel(\"mjd\")\n",
    "ax1.set_title(\"Fit Aerosol Angstrom exponent with Gaussian process\")\n",
    "\n",
    "\n",
    "\n",
    "\n",
    "ax2.plot(x,y,'-',color=\"k\",linestyle=\"dashed\", label=\"M2 Measurements\")\n",
    "ax2.plot(x_test,mean_y_pred,color=\"tab:blue\", alpha=1.0, label=\"Gaussian process\")\n",
    "ax2.fill_between(\n",
    "    X_test.ravel(),\n",
    "    mean_y_pred - std_y_pred,\n",
    "    mean_y_pred + std_y_pred,\n",
    "    color=\"tab:purple\",\n",
    "    alpha=0.2,\n",
    ")\n",
    "ax2.legend()\n",
    "\n",
    "\n",
    "ax2.set_ylabel(\"Angstrom\")\n",
    "ax2.set_xlabel(\"mjd\")\n",
    "ax2.set_title(\"Time-Zoom on Angstrom exponent with Gaussian process\")\n",
    "ax2.set_xlim(mjd_zoom_start,mjd_zoom_stop)\n",
    "\n",
    "\n",
    "\n",
    "figname =f\"{pathfigs}/aerangstrom_fitgp_merra2\"+figtype\n",
    "fig.savefig(figname)\n",
    "plt.show()\n"
   ]
  },
  {
   "cell_type": "markdown",
   "id": "85513581-6b43-4d6c-9b62-437dbfaf7fb8",
   "metadata": {},
   "source": [
    "### Interpretation of hyper-parameters\n",
    "\n",
    "\n",
    "- model of CO2 : https://scikit-learn.org/stable/auto_examples/gaussian_process/plot_gpr_co2.html#sphx-glr-auto-examples-gaussian-process-plot-gpr-co2-py\n",
    "- see the different types of kernels here : https://scikit-learn.org/stable/modules/gaussian_process.html#gp-kernels and implementation here  https://scikit-learn.org/stable/auto_examples/gaussian_process/plot_gpr_prior_posterior.html"
   ]
  },
  {
   "cell_type": "code",
   "execution_count": null,
   "id": "510ec090-9a93-4607-b868-992a00bf065a",
   "metadata": {
    "tags": []
   },
   "outputs": [],
   "source": [
    "gaussian_process.kernel_"
   ]
  },
  {
   "cell_type": "code",
   "execution_count": null,
   "id": "db705cef-55ba-4e21-92a9-29bf071316ac",
   "metadata": {
    "tags": []
   },
   "outputs": [],
   "source": [
    "### pickup kernels one by one\n",
    "the_kernel_a = 0.00316**2 * RBF(length_scale=4.65e+04)\n",
    "label_a = \"gpr_a : 0.00316**2 * RBF(length_scale=4.65e+04)\"\n",
    "\n",
    "the_kernel_b =  0.035**2 * RBF(length_scale=1.31e+03) * ExpSineSquared(length_scale=1.34, periodicity=1)\n",
    "label_b = \"gpr_b : 0.035**2 * RBF(length_scale=1.31e+03) * ExpSineSquared(length_scale=1.34, periodicity=1)\"\n",
    "\n",
    "the_kernel_c = 0.122**2 * RationalQuadratic(alpha=0.184, length_scale=0.37)\n",
    "label_c = \"gpr_c : 0.122**2 * RationalQuadratic(alpha=0.184, length_scale=0.37)\"                                         \n",
    "                                          \n",
    "the_kernel_d =  0.0436**2 * RBF(length_scale=0.447) \n",
    "label_d = \"gpr_d : 0.0436**2 * RBF(length_scale=0.447) \"\n",
    "                                           \n",
    "the_kernel_e =  WhiteKernel(noise_level=0.000249)\n",
    "label_e= \"gpr_e : WhiteKernel(noise_level=0.000249)\"\n",
    "\n",
    "### generate gaussian process from each kernel\n",
    "gpr_a = GaussianProcessRegressor(kernel=the_kernel_a, random_state=0)\n",
    "gpr_b = GaussianProcessRegressor(kernel=the_kernel_b, random_state=0)\n",
    "gpr_c = GaussianProcessRegressor(kernel=the_kernel_c, random_state=0)\n",
    "gpr_d = GaussianProcessRegressor(kernel=the_kernel_d, random_state=0)\n",
    "gpr_e = GaussianProcessRegressor(kernel=the_kernel_e, random_state=0)\n",
    "\n",
    "fig, axs = plt.subplots(nrows=5, sharex=True, sharey=True, figsize=(10, 8),layout=\"constrained\")\n",
    "n_samples=3\n",
    "\n",
    "# plot prior\n",
    "plot_gpr_samples(gpr_a, n_samples = n_samples, ax=axs[0], x=mjd_obs_range,label=label_a)\n",
    "axs[0].legend()\n",
    "plot_gpr_samples(gpr_b, n_samples = n_samples, ax=axs[1], x=mjd_obs_range, label=label_b)\n",
    "axs[1].legend()\n",
    "plot_gpr_samples(gpr_c, n_samples = n_samples, ax=axs[2], x=mjd_obs_range,label=label_c)\n",
    "axs[2].legend()\n",
    "plot_gpr_samples(gpr_d, n_samples = n_samples, ax=axs[3], x=mjd_obs_range,label=label_d)\n",
    "axs[3].legend()\n",
    "plot_gpr_samples(gpr_e, n_samples = n_samples, ax=axs[4], x=mjd_obs_range,label=label_e)\n",
    "axs[4].legend()\n",
    "\n",
    "\n",
    "axs[0].set_title(\"Kernel functions for Angstrom component\")\n",
    "figname =f\"{pathfigs}/angstrom_kernelcomponents_merra2\"+figtype\n",
    "fig.savefig(figname)\n",
    "plt.show()"
   ]
  },
  {
   "cell_type": "code",
   "execution_count": null,
   "id": "2fb4f531-c82f-40fa-9f65-c9bd86ac9b6d",
   "metadata": {},
   "outputs": [],
   "source": []
  }
 ],
 "metadata": {
  "kernelspec": {
   "display_name": "conda_py311",
   "language": "python",
   "name": "conda_py311"
  },
  "language_info": {
   "codemirror_mode": {
    "name": "ipython",
    "version": 3
   },
   "file_extension": ".py",
   "mimetype": "text/x-python",
   "name": "python",
   "nbconvert_exporter": "python",
   "pygments_lexer": "ipython3",
   "version": "3.11.11"
  }
 },
 "nbformat": 4,
 "nbformat_minor": 5
}
