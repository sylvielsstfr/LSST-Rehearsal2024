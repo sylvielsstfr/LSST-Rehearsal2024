{
 "cells": [
  {
   "cell_type": "markdown",
   "id": "45bf4242-bfc5-4d43-88c4-a8059ae148df",
   "metadata": {},
   "source": [
    "# Fit Atmosphere Short time scale sequences with Gaussian Processes from Merra2"
   ]
  },
  {
   "cell_type": "markdown",
   "id": "01993b6e-6438-4fca-a5d5-1f9791336847",
   "metadata": {},
   "source": [
    "- author Sylvie Dagoret-Campagne\n",
    "- affiliation : IJCLab\n",
    "- creation date 2025-10-26 :\n",
    "- last update : 2025-02-27 :  Use mattern in PWV to simulate long-tails\n",
    "- last update : 2025-02-28 : update FFT and fit with Levy\n",
    "- last update : 225-03-01 : improve histo fitting : https://stackoverflow.com/questions/35544233/fit-a-curve-to-a-histogram-in-python\n",
    "- Kernel @usdf **w_2024_50*\n",
    "- Office emac : mamba_py311\n",
    "- Home emac : base (conda)\n",
    "- laptop : conda_py311"
   ]
  },
  {
   "cell_type": "markdown",
   "id": "0219159d-6865-4311-ac1d-99d11dad223f",
   "metadata": {},
   "source": [
    "**Goal** : Fit the variation of Merra2 parameter impact the transmission\n",
    "\n",
    "- CO2 fit : https://scikit-learn.org/stable/auto_examples/gaussian_process/plot_gpr_co2.html#sphx-glr-auto-examples-gaussian-process-plot-gpr-co2-py\n",
    "\n",
    "- Kernels : https://scikit-learn.org/stable/modules/gaussian_process.html#gp-kernels"
   ]
  },
  {
   "cell_type": "code",
   "execution_count": null,
   "id": "63a2b2ef-0bc2-45eb-91d9-87835d264751",
   "metadata": {
    "execution": {
     "iopub.execute_input": "2025-03-03T09:33:24.407389Z",
     "iopub.status.busy": "2025-03-03T09:33:24.407267Z",
     "iopub.status.idle": "2025-03-03T09:33:24.409609Z",
     "shell.execute_reply": "2025-03-03T09:33:24.409241Z",
     "shell.execute_reply.started": "2025-03-03T09:33:24.407377Z"
    },
    "tags": []
   },
   "outputs": [],
   "source": [
    "from platform import python_version\n",
    "print(python_version())"
   ]
  },
  {
   "cell_type": "code",
   "execution_count": null,
   "id": "dcc53afe-c58f-4948-92c9-0090d373ad2a",
   "metadata": {
    "execution": {
     "iopub.execute_input": "2025-03-03T09:33:24.410114Z",
     "iopub.status.busy": "2025-03-03T09:33:24.409994Z",
     "iopub.status.idle": "2025-03-03T09:33:24.418832Z",
     "shell.execute_reply": "2025-03-03T09:33:24.418473Z",
     "shell.execute_reply.started": "2025-03-03T09:33:24.410102Z"
    }
   },
   "outputs": [],
   "source": [
    "import warnings\n",
    "warnings.resetwarnings()\n",
    "warnings.simplefilter('ignore')"
   ]
  },
  {
   "cell_type": "code",
   "execution_count": null,
   "id": "8026d265-2493-4045-afec-26205ff71f7c",
   "metadata": {
    "execution": {
     "iopub.execute_input": "2025-03-03T09:33:24.419356Z",
     "iopub.status.busy": "2025-03-03T09:33:24.419229Z",
     "iopub.status.idle": "2025-03-03T09:33:24.433703Z",
     "shell.execute_reply": "2025-03-03T09:33:24.433363Z",
     "shell.execute_reply.started": "2025-03-03T09:33:24.419342Z"
    },
    "tags": []
   },
   "outputs": [],
   "source": [
    "from platform import python_version\n",
    "print(python_version())"
   ]
  },
  {
   "cell_type": "code",
   "execution_count": null,
   "id": "eb1f116e-80e3-46ad-a7db-7f253632e5ca",
   "metadata": {
    "execution": {
     "iopub.execute_input": "2025-03-03T09:33:24.434956Z",
     "iopub.status.busy": "2025-03-03T09:33:24.434834Z",
     "iopub.status.idle": "2025-03-03T09:33:24.444324Z",
     "shell.execute_reply": "2025-03-03T09:33:24.443997Z",
     "shell.execute_reply.started": "2025-03-03T09:33:24.434944Z"
    }
   },
   "outputs": [],
   "source": [
    "import os"
   ]
  },
  {
   "cell_type": "code",
   "execution_count": null,
   "id": "3ec760cd-3d3f-4a34-a6f6-b226fe500951",
   "metadata": {
    "execution": {
     "iopub.execute_input": "2025-03-03T09:33:24.444824Z",
     "iopub.status.busy": "2025-03-03T09:33:24.444695Z",
     "iopub.status.idle": "2025-03-03T09:33:24.451824Z",
     "shell.execute_reply": "2025-03-03T09:33:24.451488Z",
     "shell.execute_reply.started": "2025-03-03T09:33:24.444809Z"
    }
   },
   "outputs": [],
   "source": [
    "# where are stored the figures\n",
    "pathfigs = \"figsFitGPShortTimeAtmosphereFomMerra2\"\n",
    "if not os.path.exists(pathfigs):\n",
    "    os.makedirs(pathfigs) \n",
    "figtype = \".png\""
   ]
  },
  {
   "cell_type": "code",
   "execution_count": null,
   "id": "60192a62-fc75-4dd6-80c3-d67a76f5be37",
   "metadata": {
    "execution": {
     "iopub.execute_input": "2025-03-03T09:33:24.452363Z",
     "iopub.status.busy": "2025-03-03T09:33:24.452247Z",
     "iopub.status.idle": "2025-03-03T09:33:24.456951Z",
     "shell.execute_reply": "2025-03-03T09:33:24.456614Z",
     "shell.execute_reply.started": "2025-03-03T09:33:24.452351Z"
    }
   },
   "outputs": [],
   "source": [
    "# where are stored the figures\n",
    "pathdata = \"dataFitGPPerAtmosphereFomMerra2\"\n",
    "if not os.path.exists(pathdata):\n",
    "    os.makedirs(pathdata) \n",
    "datatype = \".csv\""
   ]
  },
  {
   "cell_type": "code",
   "execution_count": null,
   "id": "bf752b70-e6ca-4cbf-8e8c-20bf7f0d8f61",
   "metadata": {
    "execution": {
     "iopub.execute_input": "2025-03-03T09:33:24.457431Z",
     "iopub.status.busy": "2025-03-03T09:33:24.457320Z",
     "iopub.status.idle": "2025-03-03T09:33:25.610034Z",
     "shell.execute_reply": "2025-03-03T09:33:25.609624Z",
     "shell.execute_reply.started": "2025-03-03T09:33:24.457420Z"
    }
   },
   "outputs": [],
   "source": [
    "import numpy as np\n",
    "from numpy.linalg import inv\n",
    "import matplotlib as mpl\n",
    "import matplotlib.pyplot as plt\n",
    "%matplotlib inline\n",
    "from mpl_toolkits.axes_grid1 import make_axes_locatable\n",
    "from matplotlib.colors import LogNorm,SymLogNorm\n",
    "from matplotlib.patches import Circle,Annulus\n",
    "from astropy.visualization import ZScaleInterval\n",
    "props = dict(boxstyle='round', facecolor=\"white\", alpha=0.1)\n",
    "#props = dict(boxstyle='round')\n",
    "\n",
    "import matplotlib.colors as colors\n",
    "import matplotlib.cm as cmx\n",
    "\n",
    "import matplotlib.ticker                         # here's where the formatter is\n",
    "from matplotlib.ticker import (MultipleLocator, FormatStrFormatter,\n",
    "                               AutoMinorLocator)\n",
    "\n",
    "from matplotlib.gridspec import GridSpec\n",
    "\n",
    "from astropy.visualization import (MinMaxInterval, SqrtStretch,ZScaleInterval,PercentileInterval,\n",
    "                                   ImageNormalize,imshow_norm)\n",
    "from astropy.visualization.stretch import SinhStretch, LinearStretch,AsinhStretch,LogStretch\n",
    "\n",
    "from astropy.io import fits\n",
    "from astropy.wcs import WCS\n",
    "from astropy import units as u\n",
    "from astropy import constants as c\n",
    "\n",
    "from astropy.coordinates.earth import EarthLocation\n",
    "from datetime import datetime\n",
    "from pytz import timezone\n",
    "\n",
    "from scipy import interpolate\n",
    "from sklearn.neighbors import NearestNeighbors\n",
    "from sklearn.neighbors import KDTree, BallTree\n",
    "\n",
    "import pandas as pd\n",
    "pd.set_option(\"display.max_columns\", None)\n",
    "pd.set_option('display.max_rows', 100)\n",
    "\n",
    "import matplotlib.ticker                         # here's where the formatter is\n",
    "import os\n",
    "import re\n",
    "import pandas as pd\n",
    "import pickle\n",
    "from collections import OrderedDict\n",
    "\n",
    "plt.rcParams[\"figure.figsize\"] = (4,3)\n",
    "plt.rcParams[\"axes.labelsize\"] = 'xx-large'\n",
    "plt.rcParams['axes.titlesize'] = 'xx-large'\n",
    "plt.rcParams['xtick.labelsize']= 'xx-large'\n",
    "plt.rcParams['ytick.labelsize']= 'xx-large'\n",
    "\n",
    "import scipy\n",
    "from scipy import stats\n",
    "from scipy.optimize import curve_fit,least_squares\n",
    "\n",
    "\n",
    "props = dict(boxstyle='round', facecolor='white', alpha=0.5)"
   ]
  },
  {
   "cell_type": "code",
   "execution_count": null,
   "id": "12fc8f48-c073-433f-aa4e-2a8b785100e6",
   "metadata": {
    "execution": {
     "iopub.execute_input": "2025-03-03T09:33:25.610720Z",
     "iopub.status.busy": "2025-03-03T09:33:25.610451Z",
     "iopub.status.idle": "2025-03-03T09:33:25.658331Z",
     "shell.execute_reply": "2025-03-03T09:33:25.658003Z",
     "shell.execute_reply.started": "2025-03-03T09:33:25.610706Z"
    }
   },
   "outputs": [],
   "source": [
    "# Remove to run faster the notebook\n",
    "import ipywidgets as widgets\n",
    "%matplotlib widget"
   ]
  },
  {
   "cell_type": "code",
   "execution_count": null,
   "id": "ad1b1943-5173-40b8-8ac8-442e6ecc47d0",
   "metadata": {
    "execution": {
     "iopub.execute_input": "2025-03-03T09:33:25.658857Z",
     "iopub.status.busy": "2025-03-03T09:33:25.658731Z",
     "iopub.status.idle": "2025-03-03T09:33:25.969561Z",
     "shell.execute_reply": "2025-03-03T09:33:25.969118Z",
     "shell.execute_reply.started": "2025-03-03T09:33:25.658845Z"
    }
   },
   "outputs": [],
   "source": [
    "from astropy.modeling import models"
   ]
  },
  {
   "cell_type": "code",
   "execution_count": null,
   "id": "46fe722f-bb23-4c29-8efb-4c096c72eec9",
   "metadata": {
    "execution": {
     "iopub.execute_input": "2025-03-03T09:33:25.970261Z",
     "iopub.status.busy": "2025-03-03T09:33:25.970019Z",
     "iopub.status.idle": "2025-03-03T09:33:25.972381Z",
     "shell.execute_reply": "2025-03-03T09:33:25.972027Z",
     "shell.execute_reply.started": "2025-03-03T09:33:25.970247Z"
    }
   },
   "outputs": [],
   "source": [
    "from numpy.random import lognormal"
   ]
  },
  {
   "cell_type": "code",
   "execution_count": null,
   "id": "0ca0d1e6-5f82-4c43-aaa3-8524fc2bc5ba",
   "metadata": {
    "execution": {
     "iopub.execute_input": "2025-03-03T09:33:25.972884Z",
     "iopub.status.busy": "2025-03-03T09:33:25.972759Z",
     "iopub.status.idle": "2025-03-03T09:33:25.985374Z",
     "shell.execute_reply": "2025-03-03T09:33:25.985013Z",
     "shell.execute_reply.started": "2025-03-03T09:33:25.972872Z"
    }
   },
   "outputs": [],
   "source": [
    "from matplotlib.ticker import (MultipleLocator, FormatStrFormatter,\n",
    "                               AutoMinorLocator)\n",
    "from astropy.visualization import (MinMaxInterval, SqrtStretch,ZScaleInterval,PercentileInterval,\n",
    "                                   ImageNormalize,imshow_norm)\n",
    "from astropy.visualization.stretch import SinhStretch, LinearStretch,AsinhStretch,LogStretch\n",
    "\n",
    "from astropy.time import Time\n",
    "from astropy.timeseries import TimeSeries"
   ]
  },
  {
   "cell_type": "code",
   "execution_count": null,
   "id": "e189816c-5048-43ab-a01a-7c078af54489",
   "metadata": {
    "execution": {
     "iopub.execute_input": "2025-03-03T09:33:25.985977Z",
     "iopub.status.busy": "2025-03-03T09:33:25.985762Z",
     "iopub.status.idle": "2025-03-03T09:33:25.989990Z",
     "shell.execute_reply": "2025-03-03T09:33:25.989639Z",
     "shell.execute_reply.started": "2025-03-03T09:33:25.985964Z"
    }
   },
   "outputs": [],
   "source": [
    "# Remove to run faster the notebook\n",
    "import ipywidgets as widgets\n",
    "%matplotlib widget"
   ]
  },
  {
   "cell_type": "code",
   "execution_count": null,
   "id": "67327fd4-e405-45ce-8923-cd46ebaa0c0f",
   "metadata": {
    "execution": {
     "iopub.execute_input": "2025-03-03T09:33:25.990498Z",
     "iopub.status.busy": "2025-03-03T09:33:25.990372Z",
     "iopub.status.idle": "2025-03-03T09:33:25.993847Z",
     "shell.execute_reply": "2025-03-03T09:33:25.993487Z",
     "shell.execute_reply.started": "2025-03-03T09:33:25.990487Z"
    },
    "tags": []
   },
   "outputs": [],
   "source": [
    "from importlib.metadata import version"
   ]
  },
  {
   "cell_type": "code",
   "execution_count": null,
   "id": "af8332dd-24f9-4b19-88f9-c62d0a4aebf1",
   "metadata": {
    "execution": {
     "iopub.execute_input": "2025-03-03T09:33:25.994348Z",
     "iopub.status.busy": "2025-03-03T09:33:25.994224Z",
     "iopub.status.idle": "2025-03-03T09:33:25.999610Z",
     "shell.execute_reply": "2025-03-03T09:33:25.999250Z",
     "shell.execute_reply.started": "2025-03-03T09:33:25.994337Z"
    },
    "tags": []
   },
   "outputs": [],
   "source": [
    "# wavelength bin colors\n",
    "#jet = plt.get_cmap('jet')\n",
    "#cNorm = mpl.colors.Normalize(vmin=0, vmax=NSED)\n",
    "#scalarMap = cmx.ScalarMappable(norm=cNorm, cmap=jet)\n",
    "#all_colors = scalarMap.to_rgba(np.arange(NSED), alpha=1)"
   ]
  },
  {
   "cell_type": "code",
   "execution_count": null,
   "id": "1003d9d6-a40f-48b1-9ffc-bfab9f45ba93",
   "metadata": {
    "execution": {
     "iopub.execute_input": "2025-03-03T09:33:26.000104Z",
     "iopub.status.busy": "2025-03-03T09:33:25.999981Z",
     "iopub.status.idle": "2025-03-03T09:33:26.005974Z",
     "shell.execute_reply": "2025-03-03T09:33:26.005633Z",
     "shell.execute_reply.started": "2025-03-03T09:33:26.000093Z"
    }
   },
   "outputs": [],
   "source": [
    "np.__version__"
   ]
  },
  {
   "cell_type": "code",
   "execution_count": null,
   "id": "c4cb2652-cb22-432e-b110-ae71d59dc793",
   "metadata": {
    "execution": {
     "iopub.execute_input": "2025-03-03T09:33:26.006462Z",
     "iopub.status.busy": "2025-03-03T09:33:26.006338Z",
     "iopub.status.idle": "2025-03-03T09:33:26.012117Z",
     "shell.execute_reply": "2025-03-03T09:33:26.011783Z",
     "shell.execute_reply.started": "2025-03-03T09:33:26.006450Z"
    }
   },
   "outputs": [],
   "source": [
    "pd.__version__"
   ]
  },
  {
   "cell_type": "code",
   "execution_count": null,
   "id": "1abb40c0-6423-4051-8173-5746ead823d4",
   "metadata": {
    "execution": {
     "iopub.execute_input": "2025-03-03T09:33:26.012612Z",
     "iopub.status.busy": "2025-03-03T09:33:26.012480Z",
     "iopub.status.idle": "2025-03-03T09:33:26.018060Z",
     "shell.execute_reply": "2025-03-03T09:33:26.017726Z",
     "shell.execute_reply.started": "2025-03-03T09:33:26.012600Z"
    }
   },
   "outputs": [],
   "source": [
    "from astropy.timeseries import LombScargle"
   ]
  },
  {
   "cell_type": "code",
   "execution_count": null,
   "id": "49592406-fcc6-4aa4-8904-21b611ecd896",
   "metadata": {
    "execution": {
     "iopub.execute_input": "2025-03-03T09:33:26.018564Z",
     "iopub.status.busy": "2025-03-03T09:33:26.018435Z",
     "iopub.status.idle": "2025-03-03T09:33:26.027435Z",
     "shell.execute_reply": "2025-03-03T09:33:26.027083Z",
     "shell.execute_reply.started": "2025-03-03T09:33:26.018552Z"
    }
   },
   "outputs": [],
   "source": [
    "from sklearn.gaussian_process.kernels import RBF\n",
    "from sklearn.gaussian_process.kernels import ExpSineSquared\n",
    "from sklearn.gaussian_process.kernels import RationalQuadratic\n",
    "from sklearn.gaussian_process.kernels import WhiteKernel\n",
    "from sklearn.gaussian_process.kernels import ConstantKernel\n",
    "from sklearn.gaussian_process.kernels import Matern\n",
    "from sklearn.gaussian_process.kernels import Kernel, Hyperparameter"
   ]
  },
  {
   "cell_type": "code",
   "execution_count": null,
   "id": "303b52d7-4653-40c5-9565-416b995c53d5",
   "metadata": {
    "execution": {
     "iopub.execute_input": "2025-03-03T09:33:26.030265Z",
     "iopub.status.busy": "2025-03-03T09:33:26.030012Z",
     "iopub.status.idle": "2025-03-03T09:33:26.032326Z",
     "shell.execute_reply": "2025-03-03T09:33:26.031976Z",
     "shell.execute_reply.started": "2025-03-03T09:33:26.030251Z"
    },
    "tags": []
   },
   "outputs": [],
   "source": [
    "from sklearn.gaussian_process import GaussianProcessRegressor\n",
    "from scipy.special import gamma\n",
    "from scipy.stats import levy_stable,cauchy, laplace, norm"
   ]
  },
  {
   "cell_type": "code",
   "execution_count": null,
   "id": "900380d9-90e9-4772-9021-d8705954ad85",
   "metadata": {
    "execution": {
     "iopub.execute_input": "2025-03-03T09:33:26.032821Z",
     "iopub.status.busy": "2025-03-03T09:33:26.032695Z",
     "iopub.status.idle": "2025-03-03T09:33:26.037868Z",
     "shell.execute_reply": "2025-03-03T09:33:26.037528Z",
     "shell.execute_reply.started": "2025-03-03T09:33:26.032809Z"
    }
   },
   "outputs": [],
   "source": [
    "from astropy.modeling import models, fitting"
   ]
  },
  {
   "cell_type": "code",
   "execution_count": null,
   "id": "3f6a69f5-2bf8-4871-810b-b76b787cd753",
   "metadata": {
    "execution": {
     "iopub.execute_input": "2025-03-03T09:33:26.038385Z",
     "iopub.status.busy": "2025-03-03T09:33:26.038261Z",
     "iopub.status.idle": "2025-03-03T09:33:26.047024Z",
     "shell.execute_reply": "2025-03-03T09:33:26.046675Z",
     "shell.execute_reply.started": "2025-03-03T09:33:26.038373Z"
    }
   },
   "outputs": [],
   "source": [
    "class GammaKernel(Kernel):\n",
    "    \"\"\"Noyau gamma personnalisé.\n",
    "        Explications :\n",
    "       np.clip : Limite les valeurs de distance pour éviter les dépassements lors de l'élévation à la puissance \n",
    "       gamma.\n",
    "       np.nan_to_num : Remplace les valeurs infinies ou NaN par des zéros pour éviter les problèmes \n",
    "       lors des calculs ultérieurs.\n",
    "    Augmentation des itérations : Le nombre d'itérations pour l'optimiseur est augmenté pour améliorer la convergence.\n",
    "       Ces ajustements devraient aider à réduire les avertissements et à améliorer la stabilité du modèle. Si vous avez d'autres questions ou des problèmes persistants, n'hésitez pas à me le faire savoir !\n",
    "    \"\"\"\n",
    "\n",
    "    def __init__(self, length_scale=1.0, length_scale_bounds=(1e-5, 1e5), gamma=1.0, gamma_bounds=(1e-5, 1e5)):\n",
    "        self.length_scale = length_scale\n",
    "        self.length_scale_bounds = length_scale_bounds\n",
    "        self.gamma = gamma\n",
    "        self.gamma_bounds = gamma_bounds\n",
    "\n",
    "    @property\n",
    "    def hyperparameter_length_scale(self):\n",
    "        return Hyperparameter(\"length_scale\", \"numeric\", self.length_scale_bounds)\n",
    "\n",
    "    @property\n",
    "    def hyperparameter_gamma(self):\n",
    "        return Hyperparameter(\"gamma\", \"numeric\", self.gamma_bounds)\n",
    "\n",
    "    def __call__(self, X, Y=None, eval_gradient=False):\n",
    "        if Y is None:\n",
    "            Y = X\n",
    "        # Calculer la matrice de distance\n",
    "        dists = np.abs(X[:, np.newaxis, :] - Y[np.newaxis, :, :])\n",
    "        # Éviter les dépassements en utilisant np.clip\n",
    "        dists = np.clip(dists, a_min=1e-10, a_max=10) ** self.gamma\n",
    "        # Calculer la matrice de covariance\n",
    "        K = np.exp(-dists.squeeze() / self.length_scale)\n",
    "        # Remplacer les valeurs infinies ou NaN par 0\n",
    "        K = np.nan_to_num(K)\n",
    "        if eval_gradient:\n",
    "            if not self.hyperparameter_length_scale.fixed:\n",
    "                K_gradient = (\n",
    "                    K * dists.squeeze() / self.length_scale**2\n",
    "                )\n",
    "                K_gradient = np.nan_to_num(K_gradient)\n",
    "                return K, np.dstack((K_gradient, K_gradient))\n",
    "            else:\n",
    "                return K, np.empty((X.shape[0], X.shape[0], 0))\n",
    "        else:\n",
    "            return K\n",
    "\n",
    "    def diag(self, X):\n",
    "        return np.ones(X.shape[0])\n",
    "\n",
    "    def is_stationary(self):\n",
    "        return True\n",
    "\n"
   ]
  },
  {
   "cell_type": "code",
   "execution_count": null,
   "id": "ee0fdd5c-47ee-47e8-8622-47c7709d98b3",
   "metadata": {
    "execution": {
     "iopub.execute_input": "2025-03-03T09:33:26.047537Z",
     "iopub.status.busy": "2025-03-03T09:33:26.047405Z",
     "iopub.status.idle": "2025-03-03T09:33:26.054372Z",
     "shell.execute_reply": "2025-03-03T09:33:26.054021Z",
     "shell.execute_reply.started": "2025-03-03T09:33:26.047525Z"
    }
   },
   "outputs": [],
   "source": [
    "class PoissonKernel(Kernel):\n",
    "    def __init__(self, intensity=1.0):\n",
    "        self.intensity = intensity\n",
    "\n",
    "    def __call__(self, X, Y=None, eval_gradient=False):\n",
    "        X = np.atleast_2d(X)\n",
    "        Y = X if Y is None else np.atleast_2d(Y)\n",
    "\n",
    "        dists = np.linalg.norm(X[:, np.newaxis] - Y, axis=2)\n",
    "        K = np.exp(-self.intensity * dists)\n",
    "\n",
    "        if eval_gradient:\n",
    "            grad_K = (-dists * K)[:, :, np.newaxis]  # Gradient par rapport à intensity\n",
    "            return K, grad_K\n",
    "\n",
    "        return K\n",
    "\n",
    "    def diag(self, X):\n",
    "        return np.ones(X.shape[0])\n",
    "\n",
    "    def is_stationary(self):\n",
    "        return True\n",
    "\n",
    "    @property\n",
    "    def hyperparameter_intensity(self):\n",
    "        return Hyperparameter(\"intensity\", \"numeric\", (1e-2, 10), fixed=False)\n"
   ]
  },
  {
   "cell_type": "code",
   "execution_count": null,
   "id": "5a2ecdd5-5400-4eea-8f62-f515f4fec198",
   "metadata": {
    "execution": {
     "iopub.execute_input": "2025-03-03T09:33:26.054887Z",
     "iopub.status.busy": "2025-03-03T09:33:26.054759Z",
     "iopub.status.idle": "2025-03-03T09:33:26.060580Z",
     "shell.execute_reply": "2025-03-03T09:33:26.060220Z",
     "shell.execute_reply.started": "2025-03-03T09:33:26.054875Z"
    }
   },
   "outputs": [],
   "source": [
    "from scipy.fftpack import fft, fftfreq, rfft, rfftfreq"
   ]
  },
  {
   "cell_type": "code",
   "execution_count": null,
   "id": "60594dbd-a8f5-4570-8250-c4c018795671",
   "metadata": {
    "execution": {
     "iopub.execute_input": "2025-03-03T09:33:26.061055Z",
     "iopub.status.busy": "2025-03-03T09:33:26.060935Z",
     "iopub.status.idle": "2025-03-03T09:33:26.067121Z",
     "shell.execute_reply": "2025-03-03T09:33:26.066782Z",
     "shell.execute_reply.started": "2025-03-03T09:33:26.061044Z"
    }
   },
   "outputs": [],
   "source": [
    "YEAR = 365.25\n",
    "MONTHS6 = YEAR/2.\n",
    "MONTHS4 = YEAR/3.\n",
    "QUARTER = YEAR/4. \n",
    "DAY = 1.\n",
    "MONTH = YEAR/12.\n",
    "WEEK = 7*DAY"
   ]
  },
  {
   "cell_type": "code",
   "execution_count": null,
   "id": "6484a574-1f52-43d0-8385-9eb112bac791",
   "metadata": {
    "execution": {
     "iopub.execute_input": "2025-03-03T09:33:26.067628Z",
     "iopub.status.busy": "2025-03-03T09:33:26.067491Z",
     "iopub.status.idle": "2025-03-03T09:33:26.073293Z",
     "shell.execute_reply": "2025-03-03T09:33:26.072959Z",
     "shell.execute_reply.started": "2025-03-03T09:33:26.067617Z"
    }
   },
   "outputs": [],
   "source": [
    "FIGXSIZE_1 = 14\n",
    "FIGYSIZE_1 = 8\n",
    "\n",
    "FIGXSIZE_0 = 14\n",
    "FIGYSIZE_0 = 5"
   ]
  },
  {
   "cell_type": "code",
   "execution_count": null,
   "id": "14eda506-44d9-4d0e-abed-6b402c85514e",
   "metadata": {
    "execution": {
     "iopub.execute_input": "2025-03-03T09:33:26.073805Z",
     "iopub.status.busy": "2025-03-03T09:33:26.073680Z",
     "iopub.status.idle": "2025-03-03T09:33:26.080687Z",
     "shell.execute_reply": "2025-03-03T09:33:26.080277Z",
     "shell.execute_reply.started": "2025-03-03T09:33:26.073793Z"
    },
    "tags": []
   },
   "outputs": [],
   "source": [
    "def plot_gpr_samples(gpr_model, n_samples, ax , x, label):\n",
    "    \"\"\"Plot samples drawn from the Gaussian process model.\n",
    "\n",
    "    If the Gaussian process model is not trained then the drawn samples are\n",
    "    drawn from the prior distribution. Otherwise, the samples are drawn from\n",
    "    the posterior distribution. Be aware that a sample here corresponds to a\n",
    "    function.\n",
    "\n",
    "    Parameters\n",
    "    ----------\n",
    "    gpr_model : `GaussianProcessRegressor`\n",
    "        A :class:`~sklearn.gaussian_process.GaussianProcessRegressor` model.\n",
    "    n_samples : int\n",
    "        The number of samples to draw from the Gaussian process distribution.\n",
    "    ax : matplotlib axis\n",
    "        The matplotlib axis where to plot the samples.\n",
    "    \"\"\"\n",
    "    #x = np.linspace(0, 5, 100)\n",
    "    X = x.reshape(-1, 1)\n",
    "\n",
    "    y_mean, y_std = gpr_model.predict(X, return_std=True)\n",
    "    y_samples = gpr_model.sample_y(X, n_samples)\n",
    "\n",
    "    for idx, single_prior in enumerate(y_samples.T):\n",
    "        if idx==0:\n",
    "            ax.plot(\n",
    "                x,\n",
    "                single_prior,\n",
    "                linestyle=\"--\",\n",
    "                alpha=0.7,\n",
    "                label=label\n",
    "            )\n",
    "        else:\n",
    "            ax.plot(\n",
    "                x,\n",
    "                single_prior,\n",
    "                linestyle=\"--\",\n",
    "                alpha=0.7\n",
    "            )\n",
    "            \n",
    "        \n",
    "        \n",
    "    ax.plot(x, y_mean, color=\"black\", label=\"Mean\")\n",
    "    ax.fill_between(\n",
    "        x,\n",
    "        y_mean - y_std,\n",
    "        y_mean + y_std,\n",
    "        alpha=0.1,\n",
    "        color=\"black\",\n",
    "        label=r\"$\\pm$ 1 std. dev.\",\n",
    "    )\n",
    "    \n",
    "    #ax.set_ylim([-3, 3])"
   ]
  },
  {
   "cell_type": "code",
   "execution_count": null,
   "id": "852e649f-3b0d-4d18-b129-d9e575a1fd5e",
   "metadata": {
    "execution": {
     "iopub.execute_input": "2025-03-03T09:33:26.081174Z",
     "iopub.status.busy": "2025-03-03T09:33:26.081052Z",
     "iopub.status.idle": "2025-03-03T09:33:26.094713Z",
     "shell.execute_reply": "2025-03-03T09:33:26.094368Z",
     "shell.execute_reply.started": "2025-03-03T09:33:26.081163Z"
    }
   },
   "outputs": [],
   "source": [
    "def fourier_analysis(dates, values, ax, mode = \"logxlogy\",title=\"Analyse de Fourier - Spectre des fréquences\",\n",
    "                    xlabel=\"frequency (day)$^{-1}$\",ylabel=\"y-unit $\\cdot \\sqrt{day}$\",label=\"DFT amplitude\", legendout = True, datecut = 59500):\n",
    "    # Centrer les données autour de la moyenne\n",
    "\n",
    "\n",
    "    if datecut>0:\n",
    "        index_selected = np.where(dates >= datecut)[0]\n",
    "        dates = dates[index_selected]\n",
    "        values = values[index_selected]\n",
    "    \n",
    "    values_centered = values - np.mean(values)\n",
    "\n",
    "    # Nombre de points\n",
    "    N = len(dates)\n",
    "    # Intervalle d'échantillonnage (assume 1 jour entre chaque point)\n",
    "    T = np.mean(np.diff(dates))  # Période d'échantillonnage\n",
    "\n",
    "    # signal duration\n",
    "    Delta_T = dates.max()-dates.min()\n",
    "\n",
    "    #frequency spacing\n",
    "    Delta_f = 1/Delta_T\n",
    "    \n",
    "\n",
    "    # Fréquence de Nyquist (limite de Shannon)\n",
    "    f_nyquist = 1 / (2 * T)\n",
    "    \n",
    "    # Transformée de Fourier\n",
    "    fft_values = fft(values_centered)/ np.sqrt(N)\n",
    "    freqs = fftfreq(N, T)  # Fréquences associées\n",
    "\n",
    "    # sigma_x\n",
    "    sigma_x = np.sqrt(np.sum(values_centered**2)/N)\n",
    "\n",
    "    \n",
    "\n",
    "    # Seulement la moitié du spectre est utile (symétrie)\n",
    "    positive_freqs = freqs[:N // 2]\n",
    "    positive_fft_values = np.abs(fft_values[:N // 2])\n",
    "\n",
    "    # Calcul de l'écart-type fréquentiel en Hz\n",
    "    power_spectrum = np.abs(positive_fft_values) ** 2\n",
    "    sigma_f = np.sqrt(np.sum(positive_freqs**2 * power_spectrum) / np.sum(power_spectrum))\n",
    "    \n",
    "    sigma_pp = np.sqrt(np.sum(power_spectrum))\n",
    "    sigma_x = np.sqrt(np.sum(values_centered**2)/N)\n",
    "\n",
    "    # Tracer le spectre\n",
    "    #plt.figure(figsize=(16, 6),layout=\"constrained\")\n",
    "    \n",
    "    ax.plot(positive_freqs, positive_fft_values,'ob-' ,ms=5,label=label)\n",
    "\n",
    "    if mode == \"logxliny\":\n",
    "        ax.set_xscale(\"log\")  # Définit l'axe X en échelle logarithmique\n",
    "        ax.set_yscale(\"linear\")  # Garde l'axe Y en échelle linéaire\n",
    "    elif mode == \"logxlogy\":\n",
    "        ax.set_xscale(\"log\")  # Définit l'axe X en échelle logarithmique\n",
    "        ax.set_yscale(\"log\")  # Garde l'axe Y en échelle logarithmique\n",
    "    elif mode == \"linxlogy\":\n",
    "        ax.set_xscale(\"linear\")  # Définit l'axe X en  échelle linéaire\n",
    "        ax.set_yscale(\"log\")  # Garde l'axe Y en échelle logarithmique\n",
    "    elif mode == \"linxliny\":\n",
    "        ax.set_xscale(\"linear\")  # Définit l'axe X en échelle linéaire\n",
    "        ax.set_yscale(\"linear\")  # Garde l'axe Y en échelle linéaire\n",
    "        \n",
    "    ax.set_xlabel(xlabel)\n",
    "    ax.set_ylabel(ylabel)\n",
    "    ax.set_title(title)\n",
    "    \n",
    "\n",
    "    ax.axvline(1/YEAR, color='r', linestyle='-', label=\"Cycle : 365 days - 1 year\")\n",
    "    ax.axvline(1/MONTHS6, color='r', linestyle='--', label=\"Cycle : 182.6 days - 6 months\")\n",
    "    ax.axvline(1/MONTHS4, color='r', linestyle=':', label=\"Cycle : 121.7 days - 4 months\")\n",
    "    ax.axvline(1/QUARTER, color='r', linestyle='-.', label=\"Cycle : 91.3 days - 3 months\")\n",
    "    ax.axvline(1/MONTH, color='r', linestyle=':', label=\"Cycle : 30.4 days - 1 month\")\n",
    "    ax.axvline(1/WEEK, color='purple', linestyle='--', label=\"Cycle : 7 days - 1 week\")\n",
    "    ax.axvline(DAY, color='purple', linestyle='-', label=\"Cycle : 1 day \")\n",
    "    ax.axvline(1./(0.5*DAY), color='purple', linestyle='-.', label=\"Cycle : 0.5 day \")\n",
    "\n",
    "    ax.axvline(f_nyquist, color='g', linestyle='--', label=f\"Nyquist frequency({f_nyquist:.3f} cycles/days)\")\n",
    "\n",
    "    if legendout:\n",
    "        ax.legend(bbox_to_anchor=(1.05, 1.05),fontsize=12)\n",
    "    else:\n",
    "        ax.legend(fontsize=10,fancybox=True, framealpha=0.5)\n",
    "\n",
    "    txtstr_sigma = \"$\\sigma_x$ = \" + f\" {sigma_x:0.3f}\" \n",
    "    txtstr_Ts = \"$T_s$ = \"  + f\" {T:0.3f} days\" \n",
    "    txtstr_Fs = \"$f_s$ = \"  + f\" {Delta_f:0.3f} / days\" \n",
    "\n",
    "    txtstr_info = \"\\n\".join([txtstr_sigma,txtstr_Ts ,txtstr_Fs])\n",
    "    ax.text(0.01, 0.95, txtstr_info, transform=ax.transAxes, fontsize=16,verticalalignment='top', bbox=props)\n",
    "    \n",
    "    \n",
    "# Appelle la fonction avec tes données\n",
    "# fourier_analysis(dates, values)\n",
    "    return positive_freqs, positive_fft_values, sigma_x,sigma_pp"
   ]
  },
  {
   "cell_type": "code",
   "execution_count": null,
   "id": "2b6e2dd5-a1cc-4e94-9336-3da368a98e26",
   "metadata": {
    "execution": {
     "iopub.execute_input": "2025-03-03T09:33:26.095193Z",
     "iopub.status.busy": "2025-03-03T09:33:26.095076Z",
     "iopub.status.idle": "2025-03-03T09:33:26.104656Z",
     "shell.execute_reply": "2025-03-03T09:33:26.104365Z",
     "shell.execute_reply.started": "2025-03-03T09:33:26.095183Z"
    }
   },
   "outputs": [],
   "source": [
    "def LombScargle_analysis(dates, values, ax ,mode = \"logxlogy\",title=\"LombScargle - Spectrum\",\n",
    "                    xlabel=\"frequency (day)$^{-1}$\",ylabel=\"y-unit\",label=\"Lomb Scargle\", legendout = True, datecut = 0 ):\n",
    "    # Centrer les données autour de la moyenne\n",
    "\n",
    "\n",
    "    if datecut>0:\n",
    "        index_selected = np.where(dates >= datecut)[0]\n",
    "        dates = dates[index_selected]\n",
    "        values = values[index_selected]\n",
    "\n",
    "    \n",
    "    values_centered = values - np.mean(values)\n",
    "    \n",
    "\n",
    "    # Nombre de points\n",
    "    N = len(dates)\n",
    "\n",
    "    # sigma\n",
    "    sigma_x = np.sqrt(np.sum(values_centered**2)/N)\n",
    "    \n",
    "    # Intervalle d'échantillonnage (assume 1 jour entre chaque point)\n",
    "    T = np.mean(np.diff(dates))  # Période d'échantillonnage\n",
    "\n",
    "    # Fréquence de Nyquist (limite de Shannon)\n",
    "    f_nyquist = 1 / (2 * T)\n",
    "    \n",
    "\n",
    "    freqs, power = LombScargle(dates, values_centered).autopower()\n",
    "   \n",
    "    ax.plot(freqs, power,'ob-' ,ms=5,label=label)\n",
    "\n",
    "    if mode == \"logxliny\":\n",
    "        ax.set_xscale(\"log\")  # Définit l'axe X en échelle logarithmique\n",
    "        ax.set_yscale(\"linear\")  # Garde l'axe Y en échelle linéaire\n",
    "    elif mode == \"logxlogy\":\n",
    "        ax.set_xscale(\"log\")  # Définit l'axe X en échelle logarithmique\n",
    "        ax.set_yscale(\"log\")  # Garde l'axe Y en échelle logarithmique\n",
    "    elif mode == \"linxlogy\":\n",
    "        ax.set_xscale(\"linear\")  # Définit l'axe X en  échelle linéaire\n",
    "        ax.set_yscale(\"log\")  # Garde l'axe Y en échelle logarithmique\n",
    "    elif mode == \"linxliny\":\n",
    "        ax.set_xscale(\"linear\")  # Définit l'axe X en échelle linéaire\n",
    "        ax.set_yscale(\"linear\")  # Garde l'axe Y en échelle linéaire\n",
    "        \n",
    "    ax.set_xlabel(xlabel)\n",
    "    ax.set_ylabel(ylabel)\n",
    "    ax.set_title(title)\n",
    "    \n",
    "\n",
    "    ax.axvline(1/YEAR, color='r', linestyle='-', label=\"Cycle : 365 days - 1 year\")\n",
    "    ax.axvline(1/MONTHS6, color='r', linestyle='--', label=\"Cycle : 182.6 days - 6 months\")\n",
    "    ax.axvline(1/MONTHS4, color='r', linestyle=':', label=\"Cycle : 121.7 days - 4 months\")\n",
    "    ax.axvline(1/QUARTER, color='r', linestyle='-.', label=\"Cycle : 91.3 days - 3 months\")\n",
    "    ax.axvline(1/MONTH, color='r', linestyle=':', label=\"Cycle : 30.4 days - 1 month\")\n",
    "    ax.axvline(1/WEEK, color='purple', linestyle='--', label=\"Cycle : 7 days - 1 week\")\n",
    "    ax.axvline(DAY, color='purple', linestyle='-', label=\"Cycle : 1 day \")\n",
    "    ax.axvline(1./(0.5*DAY), color='purple', linestyle='-.', label=\"Cycle : 0.5 day \")\n",
    "\n",
    "    ax.axvline(f_nyquist, color='g', linestyle='--', label=f\"Nyquist frequency({f_nyquist:.3f} cycles/days)\")\n",
    "\n",
    "    txtstr_sigma = \"$\\sigma_x$ = \" + f\" {sigma_x:0.3f}\" \n",
    "    ax.text(0.01, 0.95, txtstr_sigma, transform=ax.transAxes, fontsize=16,verticalalignment='top', bbox=props)\n",
    "    \n",
    "\n",
    "    if legendout:\n",
    "        ax.legend(bbox_to_anchor=(1.05, 1.05),fontsize=12)\n",
    "    else:\n",
    "        ax.legend(fontsize=10,fancybox=True, framealpha=0.5)\n",
    "        \n"
   ]
  },
  {
   "cell_type": "markdown",
   "id": "4f13d6a3-7793-4bc0-920a-1d690d9f84b2",
   "metadata": {},
   "source": [
    "## Configuration"
   ]
  },
  {
   "cell_type": "markdown",
   "id": "6175a4a4-5c98-4e09-8ffd-a17282f6094e",
   "metadata": {},
   "source": [
    "### Residuals"
   ]
  },
  {
   "cell_type": "code",
   "execution_count": null,
   "id": "7761791b-d61c-4780-86e1-304af6531a65",
   "metadata": {
    "execution": {
     "iopub.execute_input": "2025-03-03T09:33:26.105131Z",
     "iopub.status.busy": "2025-03-03T09:33:26.105017Z",
     "iopub.status.idle": "2025-03-03T09:33:26.110667Z",
     "shell.execute_reply": "2025-03-03T09:33:26.110368Z",
     "shell.execute_reply.started": "2025-03-03T09:33:26.105120Z"
    }
   },
   "outputs": [],
   "source": [
    "files_residuals = [\"pwv_fitgpresiduals_merra2.csv\", \n",
    "                   \"ozone_fitgpresiduals_merra2.csv\", \n",
    "                   \"vaod_fitgpresiduals_merra2.csv\",\n",
    "                   \"angstrom_fitgpresiduals_merra2.csv\"] "
   ]
  },
  {
   "cell_type": "markdown",
   "id": "0d46117d-ca5c-4820-bf77-5948804f8513",
   "metadata": {},
   "source": [
    "# Start analysis"
   ]
  },
  {
   "cell_type": "markdown",
   "id": "1de0255c-cbc2-4603-997c-8eaaa18eeef2",
   "metadata": {},
   "source": [
    "## Analysis of PWV"
   ]
  },
  {
   "cell_type": "code",
   "execution_count": null,
   "id": "519fc82e-1b99-4e92-bdc1-da95dfd13334",
   "metadata": {
    "execution": {
     "iopub.execute_input": "2025-03-03T09:33:26.111125Z",
     "iopub.status.busy": "2025-03-03T09:33:26.110997Z",
     "iopub.status.idle": "2025-03-03T09:33:26.117125Z",
     "shell.execute_reply": "2025-03-03T09:33:26.116838Z",
     "shell.execute_reply.started": "2025-03-03T09:33:26.111112Z"
    }
   },
   "outputs": [],
   "source": [
    "index_fn = 0\n",
    "full_filename = os.path.join(pathdata,files_residuals[index_fn])"
   ]
  },
  {
   "cell_type": "code",
   "execution_count": null,
   "id": "9d99cc67-f116-4af4-ab0c-934245c8fccd",
   "metadata": {
    "execution": {
     "iopub.execute_input": "2025-03-03T09:33:26.117565Z",
     "iopub.status.busy": "2025-03-03T09:33:26.117448Z",
     "iopub.status.idle": "2025-03-03T09:33:26.137136Z",
     "shell.execute_reply": "2025-03-03T09:33:26.136851Z",
     "shell.execute_reply.started": "2025-03-03T09:33:26.117554Z"
    }
   },
   "outputs": [],
   "source": [
    "df = pd.read_csv(full_filename,index_col=0)\n",
    "N = len(df)"
   ]
  },
  {
   "cell_type": "code",
   "execution_count": null,
   "id": "97b0f768-1e81-4c40-8e2e-c1d99242e732",
   "metadata": {
    "execution": {
     "iopub.execute_input": "2025-03-03T09:33:26.137583Z",
     "iopub.status.busy": "2025-03-03T09:33:26.137463Z",
     "iopub.status.idle": "2025-03-03T09:33:26.139697Z",
     "shell.execute_reply": "2025-03-03T09:33:26.139382Z",
     "shell.execute_reply.started": "2025-03-03T09:33:26.137572Z"
    }
   },
   "outputs": [],
   "source": [
    "x_full = df[\"mjd\"].values\n",
    "y_full = df[\"res\"].values\n",
    "X_full = x_full.reshape(-1, 1)"
   ]
  },
  {
   "cell_type": "code",
   "execution_count": null,
   "id": "4fd96c71-1b9d-4878-86a3-243d6be8930b",
   "metadata": {
    "execution": {
     "iopub.execute_input": "2025-03-03T09:33:26.140274Z",
     "iopub.status.busy": "2025-03-03T09:33:26.140023Z",
     "iopub.status.idle": "2025-03-03T09:33:26.145422Z",
     "shell.execute_reply": "2025-03-03T09:33:26.145124Z",
     "shell.execute_reply.started": "2025-03-03T09:33:26.140262Z"
    }
   },
   "outputs": [],
   "source": [
    "tmin_select = 59500\n",
    "tmax_select = x_full.max()\n",
    "good_indexes_forresiduals = np.where(np.logical_and(x_full > tmin_select, x_full< tmax_select ))[0]"
   ]
  },
  {
   "cell_type": "code",
   "execution_count": null,
   "id": "cc09625b-7a5d-4b37-bdac-807895078602",
   "metadata": {
    "execution": {
     "iopub.execute_input": "2025-03-03T09:33:26.145864Z",
     "iopub.status.busy": "2025-03-03T09:33:26.145753Z",
     "iopub.status.idle": "2025-03-03T09:33:26.290630Z",
     "shell.execute_reply": "2025-03-03T09:33:26.290253Z",
     "shell.execute_reply.started": "2025-03-03T09:33:26.145853Z"
    }
   },
   "outputs": [],
   "source": [
    "fig,ax = plt.subplots(1,1,figsize=(4,3))\n",
    "ax.hist(y_full[good_indexes_forresiduals],bins=200,facecolor=\"tab:blue\");\n",
    "ax.set_xlabel(\"mm\")\n",
    "ax.set_title(\"input residuals PWV\")"
   ]
  },
  {
   "cell_type": "code",
   "execution_count": null,
   "id": "3fd02994-4a05-4145-8da9-10ac7f5b920a",
   "metadata": {
    "execution": {
     "iopub.execute_input": "2025-03-03T09:33:26.291208Z",
     "iopub.status.busy": "2025-03-03T09:33:26.291077Z",
     "iopub.status.idle": "2025-03-03T09:33:26.602857Z",
     "shell.execute_reply": "2025-03-03T09:33:26.602480Z",
     "shell.execute_reply.started": "2025-03-03T09:33:26.291193Z"
    }
   },
   "outputs": [],
   "source": [
    "fig = plt.figure(figsize=(FIGXSIZE_0,FIGYSIZE_0),layout=\"constrained\")\n",
    "#gs = GridSpec(2, 1,figure=fig)\n",
    "gs = GridSpec(1, 1,figure=fig)\n",
    "ax1 = fig.add_subplot(gs[0])\n",
    "#ax2 = fig.add_subplot(gs[1])\n",
    "        \n",
    "leg1=ax1.get_legend()\n",
    "#leg2=ax2.get_legend()\n",
    "ax1.plot(x_full,y_full,c=\"b\",lw=0.5,label=\"Merra2\")\n",
    "ax1.set_xlabel(\"time (MJD)\")\n",
    "ax1.legend()\n",
    "ax1.set_ylabel(\"PWV residuals (mm)\")\n",
    "ax1.set_title(\"PWV residuals after GP-Periodic removal\")\n",
    "figname =f\"{pathfigs}/pwv_resGPper_timeseqall_merra2\"+figtype\n",
    "ax1.axvline(tmin_select,color=\"k\",ls=':')\n",
    "ax1.axvline(tmax_select,color=\"k\",ls=':')\n",
    "fig.savefig(figname)\n",
    "plt.show()\n"
   ]
  },
  {
   "cell_type": "code",
   "execution_count": null,
   "id": "ede82b1a-0bc7-43c7-875b-7aa25eac87ad",
   "metadata": {
    "execution": {
     "iopub.execute_input": "2025-03-03T09:33:26.603450Z",
     "iopub.status.busy": "2025-03-03T09:33:26.603321Z",
     "iopub.status.idle": "2025-03-03T09:33:27.250643Z",
     "shell.execute_reply": "2025-03-03T09:33:27.250228Z",
     "shell.execute_reply.started": "2025-03-03T09:33:26.603438Z"
    }
   },
   "outputs": [],
   "source": [
    "fig,ax = plt.subplots(1,1,figsize=(FIGXSIZE_0,FIGYSIZE_0),layout=\"constrained\")\n",
    "positive_freqs, positive_fft_values, sigma_x, sigma_pp = fourier_analysis(x_full,y_full,ax=ax ,mode= \"logxliny\",\n",
    "                 title = \"PWV residuals after GP-Periodic removal (absolute  FFT)\",\n",
    "                 xlabel=\"frequency (days$^{-1}$)\",\n",
    "                 ylabel=\" mm\",\n",
    "                 label=\"FFT residuals\")\n",
    "\n",
    "txtstr_sigma = \"$\\sigma_x$ = \" + f\" {sigma_x:0.2f} mm\" \n",
    "ax.text(0.01, 0.95, txtstr_sigma, transform=ax.transAxes, fontsize=16,verticalalignment='top', bbox=props)\n",
    "\n",
    "figname =f\"{pathfigs}/pwv_resGPper_FFTdata_merra2\"+figtype\n",
    "fig.savefig(figname)\n",
    "plt.show()"
   ]
  },
  {
   "cell_type": "markdown",
   "id": "d8b54579-6a0a-4d4b-9311-54f22e73d5ca",
   "metadata": {},
   "source": [
    "### Define the kernels for PWV"
   ]
  },
  {
   "cell_type": "code",
   "execution_count": null,
   "id": "4747dec6-720a-4055-a573-0e6c926a4501",
   "metadata": {
    "execution": {
     "iopub.execute_input": "2025-03-03T09:33:27.251276Z",
     "iopub.status.busy": "2025-03-03T09:33:27.251145Z",
     "iopub.status.idle": "2025-03-03T09:33:27.256955Z",
     "shell.execute_reply": "2025-03-03T09:33:27.256613Z",
     "shell.execute_reply.started": "2025-03-03T09:33:27.251264Z"
    },
    "tags": []
   },
   "outputs": [],
   "source": [
    "# Tendance long terme\n",
    "long_term_trend_kernel = ConstantKernel(.5, (0.0, 10.0)) * RBF(length_scale=365.0)\n",
    "\n",
    "periodic_1year_kernel =  ConstantKernel(3.0, (0.1, 10.0)) * ExpSineSquared(length_scale= 10*YEAR, periodicity= YEAR,\n",
    "                                                                           length_scale_bounds=\"fixed\",periodicity_bounds=\"fixed\")\n",
    "periodic_6months_kernel = ConstantKernel(2.5, (0.1, 10.0)) * ExpSineSquared(length_scale= 20*MONTHS6,periodicity=MONTHS6,\n",
    "                                                                            length_scale_bounds=\"fixed\",periodicity_bounds=\"fixed\") \n",
    "periodic_3months_kernel = ConstantKernel(2.5, (0.1, 10.0)) * ExpSineSquared(length_scale= 40*QUARTER, periodicity=QUARTER,\n",
    "                                                                            length_scale_bounds=\"fixed\",periodicity_bounds=\"fixed\")\n",
    "periodic_4months_kernel = ConstantKernel(2.5, (0.1, 10.0)) * ExpSineSquared(length_scale= 30*MONTHS4, periodicity=MONTHS4,\n",
    "                                                                            length_scale_bounds=\"fixed\",periodicity_bounds=\"fixed\")\n",
    "\n",
    "seasonal_enveloppe = RBF(length_scale=YEAR, length_scale_bounds=(0.5*YEAR, 10*YEAR))\n",
    "\n",
    "# Saisonnalité multi-échelle\n",
    "seasonal_kernel = (\n",
    "    #seasonal_enveloppe * ( periodic_1year_kernel + periodic_6months_kernel + periodic_3months_kernel)\n",
    "    #seasonal_enveloppe * ( periodic_1year_kernel  + periodic_3months_kernel)\n",
    "    #periodic_1year_kernel  + periodic_6months_kernel + periodic_3months_kernel\n",
    "    periodic_1year_kernel  + periodic_6months_kernel + periodic_4months_kernel + periodic_3months_kernel\n",
    "    #periodic_1year_kernel\n",
    ")\n",
    "# variation journaliere\n",
    "periodic_1day_kernel = ConstantKernel(2.5, (0., 10.0)) * ExpSineSquared(length_scale= 4*YEAR, periodicity=DAY,\n",
    "                                                                            length_scale_bounds=\"fixed\",periodicity_bounds=\"fixed\")\n",
    "\n",
    "#periodic_1day_kernel = ConstantKernel(2.5, (0., 10.0)) *  RBF(length_scale=DAY,length_scale_bounds=\"fixed\")\n",
    "\n",
    "\n",
    "# Petites fluctuations irrégulières\n",
    "#irregularities_kernel = ConstantKernel(1.0, (0.0, 10.0)) * RationalQuadratic(length_scale=DAY, alpha=1.0)\n",
    "#irregularities_kernel = ConstantKernel(1.0, (0.0, 10.0)) * Matern(length_scale=DAY, nu=3.5)\n",
    "#irregularities_kernel = ConstantKernel(1.0, (0.0, 10.0)) * Matern(length_scale=DAY, nu=1.5) + ConstantKernel(1.0, (0.0, 10.0)) * RationalQuadratic(length_scale=DAY, alpha=1.0)\n",
    "irregularities_kernel = ConstantKernel(1.0, (0.0, 10.0)) * Matern(length_scale=DAY, nu=0.5) + ConstantKernel(1.0, (0.0, 10.0)) * RationalQuadratic(length_scale=DAY, alpha=1.0)\n",
    "\n",
    "# with Gamma kernel that is not converging\n",
    "#irregularities_kernel = ConstantKernel(1.0, (0.0, 10.0)) * RationalQuadratic(length_scale=DAY, alpha=1.0) + ConstantKernel(1.0, (0.0, 10.0)) * GammaKernel(alpha=2.0, length_scale=1.0)\n",
    "\n",
    "# with Poisson Kernel (slow)\n",
    "#poisson_kernel = PoissonKernel(intensity=1.0)\n",
    "#irregularities_kernel = ConstantKernel(1.0, (0.0, 10.0)) * RationalQuadratic(length_scale=DAY, alpha=1.0) + poisson_kernel\n",
    "#irregularities_kernel = ConstantKernel(1.0, (0.0, 10.0)) * Matern(length_scale=DAY, nu=0.5) + poisson_kernel\n",
    "\n",
    "# Bruit et variations locales\n",
    "noise_kernel = ConstantKernel(1.0, (0., 10.0)) * RBF(length_scale=1.0) + WhiteKernel(noise_level=1.0**2,noise_level_bounds=\"fixed\")\n",
    "#noise_kernel = ConstantKernel(1.0, (0., 10.0)) * RBF(length_scale=1.0) \n",
    "\n",
    "# Kernel total\n",
    "#full_kernel = long_term_trend_kernel + seasonal_kernel + irregularities_kernel + noise_kernel\n",
    "#full_kernel = seasonal_kernel + irregularities_kernel\n",
    "#full_kernel = irregularities_kernel + WhiteKernel(noise_level=1.0**2)\n",
    "#full_kernel = irregularities_kernel + periodic_1day_kernel + noise_kernel\n",
    "full_kernel = irregularities_kernel * seasonal_enveloppe "
   ]
  },
  {
   "cell_type": "code",
   "execution_count": null,
   "id": "dedf1dc5-6f82-49c0-adef-dfaf46bae274",
   "metadata": {
    "execution": {
     "iopub.execute_input": "2025-03-03T09:33:27.257472Z",
     "iopub.status.busy": "2025-03-03T09:33:27.257358Z",
     "iopub.status.idle": "2025-03-03T09:33:27.264930Z",
     "shell.execute_reply": "2025-03-03T09:33:27.264597Z",
     "shell.execute_reply.started": "2025-03-03T09:33:27.257461Z"
    },
    "tags": []
   },
   "outputs": [],
   "source": [
    "pwv_kernel = full_kernel"
   ]
  },
  {
   "cell_type": "markdown",
   "id": "2d6d42a7-7e3e-4f4d-b587-fc2bb4cd1c4f",
   "metadata": {},
   "source": [
    "### Make a subsample"
   ]
  },
  {
   "cell_type": "code",
   "execution_count": null,
   "id": "37d9969c-f3b8-471e-aa2d-98dabdf65da2",
   "metadata": {
    "execution": {
     "iopub.execute_input": "2025-03-03T09:33:27.265553Z",
     "iopub.status.busy": "2025-03-03T09:33:27.265340Z",
     "iopub.status.idle": "2025-03-03T09:33:27.271987Z",
     "shell.execute_reply": "2025-03-03T09:33:27.271647Z",
     "shell.execute_reply.started": "2025-03-03T09:33:27.265541Z"
    },
    "tags": []
   },
   "outputs": [],
   "source": [
    "NSAMP = 4000\n",
    "a = np.arange(0,N ,1)\n",
    "b = np.random.choice(a, size=NSAMP,replace = False)\n",
    "index_selected = np.sort(b)"
   ]
  },
  {
   "cell_type": "code",
   "execution_count": null,
   "id": "be884359-cbed-463f-b930-fff0c2bfb23a",
   "metadata": {
    "execution": {
     "iopub.execute_input": "2025-03-03T09:33:27.272480Z",
     "iopub.status.busy": "2025-03-03T09:33:27.272364Z",
     "iopub.status.idle": "2025-03-03T09:33:27.277864Z",
     "shell.execute_reply": "2025-03-03T09:33:27.277528Z",
     "shell.execute_reply.started": "2025-03-03T09:33:27.272468Z"
    },
    "tags": []
   },
   "outputs": [],
   "source": [
    "unique, counts = np.unique(b, return_counts = True)"
   ]
  },
  {
   "cell_type": "markdown",
   "id": "a20b4b09-aef8-4528-91ac-948dfb68ef99",
   "metadata": {},
   "source": [
    "### subset of values choosen randomly to be fitted on "
   ]
  },
  {
   "cell_type": "code",
   "execution_count": null,
   "id": "c16a17f5-7f24-471a-b648-cfab3510594c",
   "metadata": {
    "execution": {
     "iopub.execute_input": "2025-03-03T09:33:27.278422Z",
     "iopub.status.busy": "2025-03-03T09:33:27.278276Z",
     "iopub.status.idle": "2025-03-03T09:33:27.283768Z",
     "shell.execute_reply": "2025-03-03T09:33:27.283418Z",
     "shell.execute_reply.started": "2025-03-03T09:33:27.278410Z"
    }
   },
   "outputs": [],
   "source": [
    "# subset of values choosen randomly to be fitted on \n",
    "x = x_full[index_selected]\n",
    "X = x.reshape(-1, 1)\n",
    "y = y_full[index_selected]"
   ]
  },
  {
   "cell_type": "markdown",
   "id": "6f5fa915-d027-4ad6-afe4-6a7409275ac0",
   "metadata": {},
   "source": [
    "### Fit GP"
   ]
  },
  {
   "cell_type": "code",
   "execution_count": null,
   "id": "c01e76da-c11e-4854-85f6-970243f9aacb",
   "metadata": {
    "execution": {
     "iopub.execute_input": "2025-03-03T09:33:27.284272Z",
     "iopub.status.busy": "2025-03-03T09:33:27.284161Z",
     "iopub.status.idle": "2025-03-03T09:36:57.577120Z",
     "shell.execute_reply": "2025-03-03T09:36:57.576735Z",
     "shell.execute_reply.started": "2025-03-03T09:33:27.284261Z"
    },
    "tags": []
   },
   "outputs": [],
   "source": [
    "gaussian_process = GaussianProcessRegressor(kernel=pwv_kernel, normalize_y= True)\n",
    "gaussian_process.fit(X, y)"
   ]
  },
  {
   "cell_type": "code",
   "execution_count": null,
   "id": "a08c9e2e-612f-459a-9416-31448c7832a8",
   "metadata": {
    "execution": {
     "iopub.execute_input": "2025-03-03T09:36:57.585654Z",
     "iopub.status.busy": "2025-03-03T09:36:57.577560Z",
     "iopub.status.idle": "2025-03-03T09:36:57.588771Z",
     "shell.execute_reply": "2025-03-03T09:36:57.588401Z",
     "shell.execute_reply.started": "2025-03-03T09:36:57.585639Z"
    }
   },
   "outputs": [],
   "source": [
    "txtstr_kernel = f\"{gaussian_process.kernel_}\"\n",
    "txtstr_kernel = \"\\n + \".join(txtstr_kernel.split(\"+ \"))"
   ]
  },
  {
   "cell_type": "code",
   "execution_count": null,
   "id": "33ef5394-5701-461a-bb84-d9b6e0ce93b4",
   "metadata": {
    "execution": {
     "iopub.execute_input": "2025-03-03T09:36:57.589412Z",
     "iopub.status.busy": "2025-03-03T09:36:57.589294Z",
     "iopub.status.idle": "2025-03-03T09:36:57.596285Z",
     "shell.execute_reply": "2025-03-03T09:36:57.595950Z",
     "shell.execute_reply.started": "2025-03-03T09:36:57.589401Z"
    }
   },
   "outputs": [],
   "source": [
    "txtstr_kernel"
   ]
  },
  {
   "cell_type": "markdown",
   "id": "612a1c2a-6ca9-4d4f-be39-abcba7f6321c",
   "metadata": {},
   "source": [
    "### Prediction on subsample"
   ]
  },
  {
   "cell_type": "code",
   "execution_count": null,
   "id": "75bab313-8f43-41df-8646-b5ac7abf6a93",
   "metadata": {
    "execution": {
     "iopub.execute_input": "2025-03-03T09:36:57.596793Z",
     "iopub.status.busy": "2025-03-03T09:36:57.596677Z",
     "iopub.status.idle": "2025-03-03T09:36:57.603455Z",
     "shell.execute_reply": "2025-03-03T09:36:57.603115Z",
     "shell.execute_reply.started": "2025-03-03T09:36:57.596783Z"
    }
   },
   "outputs": [],
   "source": [
    "mjd_min = x_full.min()\n",
    "mjd_max = x_full.max() + YEAR\n",
    "mjd_zoom_start = Time(\"2024-01-01\").mjd\n",
    "mjd_zoom_stop = Time(\"2025-06-30\").mjd"
   ]
  },
  {
   "cell_type": "code",
   "execution_count": null,
   "id": "407d8091-6246-4c9c-9c6a-bdf6f023066c",
   "metadata": {
    "execution": {
     "iopub.execute_input": "2025-03-03T09:36:57.603991Z",
     "iopub.status.busy": "2025-03-03T09:36:57.603872Z",
     "iopub.status.idle": "2025-03-03T09:36:57.830430Z",
     "shell.execute_reply": "2025-03-03T09:36:57.829867Z",
     "shell.execute_reply.started": "2025-03-03T09:36:57.603981Z"
    }
   },
   "outputs": [],
   "source": [
    "x_test = np.arange(start=mjd_min, stop=mjd_max,step=2)\n",
    "X_test = x_test.reshape(-1,1)\n",
    "mean_y_pred, std_y_pred = gaussian_process.predict(X_test, return_std=True)"
   ]
  },
  {
   "cell_type": "code",
   "execution_count": null,
   "id": "3225e38f-2d00-4bf6-b8e7-b4ac31eeb173",
   "metadata": {
    "execution": {
     "iopub.execute_input": "2025-03-03T09:36:57.831218Z",
     "iopub.status.busy": "2025-03-03T09:36:57.831060Z",
     "iopub.status.idle": "2025-03-03T09:36:58.336272Z",
     "shell.execute_reply": "2025-03-03T09:36:58.335867Z",
     "shell.execute_reply.started": "2025-03-03T09:36:57.831203Z"
    }
   },
   "outputs": [],
   "source": [
    "fig = plt.figure(figsize=(FIGXSIZE_1,FIGYSIZE_1),layout=\"constrained\")\n",
    "gs = GridSpec(2, 1,figure=fig)\n",
    "#gs = GridSpec(1, 1,figure=fig)\n",
    "ax1 = fig.add_subplot(gs[0])\n",
    "ax2 = fig.add_subplot(gs[1])\n",
    "ax1.plot(x,y,'-',color=\"k\",linestyle=\"dashed\", label=\"M2 Measurements\")\n",
    "ax1.plot(x_test,mean_y_pred,color=\"tab:blue\", lw=3 ,alpha=1.0, label=\"Gaussian process\")\n",
    "ax1.fill_between(\n",
    "    X_test.ravel(),\n",
    "    mean_y_pred - std_y_pred,\n",
    "    mean_y_pred + std_y_pred,\n",
    "    color=\"tab:blue\",\n",
    "    alpha=0.2,\n",
    ")\n",
    "ax1.legend()\n",
    "\n",
    "ax1.set_ylabel(\"PWV (mm)\")\n",
    "ax1.set_xlabel(\"mjd\")\n",
    "ax1.set_title(\"Fit PWV with Gaussian process (subsample)\")\n",
    "ax1.text(0.1, 0.95, txtstr_kernel, transform=ax1.transAxes, fontsize=16,verticalalignment='top', bbox=props)\n",
    "\n",
    "ax2.plot(x,y,'-',color=\"k\",linestyle=\"dashed\", label=\"M2 Measurements\")\n",
    "ax2.plot(x_test,mean_y_pred,color=\"tab:blue\",lw=3 ,alpha=1.0, label=\"Gaussian process\")\n",
    "ax2.fill_between(\n",
    "    X_test.ravel(),\n",
    "    mean_y_pred - std_y_pred,\n",
    "    mean_y_pred + std_y_pred,\n",
    "    color=\"tab:blue\",\n",
    "    alpha=0.2,\n",
    ")\n",
    "ax2.legend()\n",
    "\n",
    "ax2.set_ylabel(\"PWV (mm)\")\n",
    "ax2.set_xlabel(\"mjd\")\n",
    "ax2.set_title(\"Time-Zoom on Fit PWV with Gaussian process\")\n",
    "ax2.set_xlim(mjd_zoom_start,mjd_zoom_stop)\n",
    "ax2.text(0.1, 0.95, txtstr_kernel, transform=ax2.transAxes, fontsize=16,verticalalignment='top', bbox=props)\n",
    "\n",
    "figname =f\"{pathfigs}/pwv_fitgpPeriodicresidualsubsample_merra2\"+figtype\n",
    "fig.savefig(figname)\n",
    "plt.show()\n"
   ]
  },
  {
   "cell_type": "code",
   "execution_count": null,
   "id": "cac6b306-6545-446d-ad7e-f28c98161ef0",
   "metadata": {
    "execution": {
     "iopub.execute_input": "2025-03-03T09:36:58.336972Z",
     "iopub.status.busy": "2025-03-03T09:36:58.336755Z",
     "iopub.status.idle": "2025-03-03T09:36:58.340216Z",
     "shell.execute_reply": "2025-03-03T09:36:58.339822Z",
     "shell.execute_reply.started": "2025-03-03T09:36:58.336960Z"
    }
   },
   "outputs": [],
   "source": [
    "gaussian_process.kernel_"
   ]
  },
  {
   "cell_type": "markdown",
   "id": "d24fd890-5275-4059-9695-ba5942a5d7ff",
   "metadata": {},
   "source": [
    "### Residuals on the whole statistics"
   ]
  },
  {
   "cell_type": "code",
   "execution_count": null,
   "id": "a9f99529-5bf0-4c31-838b-fe59883c0dc8",
   "metadata": {
    "execution": {
     "iopub.execute_input": "2025-03-03T09:36:58.340726Z",
     "iopub.status.busy": "2025-03-03T09:36:58.340609Z",
     "iopub.status.idle": "2025-03-03T09:37:06.045077Z",
     "shell.execute_reply": "2025-03-03T09:37:06.044687Z",
     "shell.execute_reply.started": "2025-03-03T09:36:58.340716Z"
    }
   },
   "outputs": [],
   "source": [
    "mean_yfull_pred, std_yfull_pred = gaussian_process.predict(X_full, return_std=True)"
   ]
  },
  {
   "cell_type": "code",
   "execution_count": null,
   "id": "bab04ca1-d759-497d-9c87-418243fee4bb",
   "metadata": {
    "execution": {
     "iopub.execute_input": "2025-03-03T09:37:06.045720Z",
     "iopub.status.busy": "2025-03-03T09:37:06.045581Z",
     "iopub.status.idle": "2025-03-03T09:37:06.048427Z",
     "shell.execute_reply": "2025-03-03T09:37:06.048085Z",
     "shell.execute_reply.started": "2025-03-03T09:37:06.045708Z"
    }
   },
   "outputs": [],
   "source": [
    "residuals = y_full -  mean_yfull_pred\n",
    "residuals_normalized = residuals/std_yfull_pred"
   ]
  },
  {
   "cell_type": "code",
   "execution_count": null,
   "id": "f23157db-0e00-4e32-a072-912862f01aa8",
   "metadata": {
    "execution": {
     "iopub.execute_input": "2025-03-03T09:37:06.048941Z",
     "iopub.status.busy": "2025-03-03T09:37:06.048832Z",
     "iopub.status.idle": "2025-03-03T09:37:06.056415Z",
     "shell.execute_reply": "2025-03-03T09:37:06.056081Z",
     "shell.execute_reply.started": "2025-03-03T09:37:06.048930Z"
    }
   },
   "outputs": [],
   "source": [
    "stat_mean = np.mean(residuals[good_indexes_forresiduals])\n",
    "stat_med = np.median(residuals[good_indexes_forresiduals])\n",
    "stat_std = np.std(residuals[good_indexes_forresiduals])"
   ]
  },
  {
   "cell_type": "code",
   "execution_count": null,
   "id": "aa2a93ac-c3e1-4f80-bc10-fa0840092c6e",
   "metadata": {
    "execution": {
     "iopub.execute_input": "2025-03-03T09:37:06.056911Z",
     "iopub.status.busy": "2025-03-03T09:37:06.056797Z",
     "iopub.status.idle": "2025-03-03T09:37:06.062534Z",
     "shell.execute_reply": "2025-03-03T09:37:06.062207Z",
     "shell.execute_reply.started": "2025-03-03T09:37:06.056901Z"
    }
   },
   "outputs": [],
   "source": [
    "txtstr_stat = [f\"mean = {stat_mean:.2f} mm \", f\"median = {stat_med:.2f} mm\",f\"std = {stat_std:.2f} mm\"]\n",
    "txtstr_stat = \"\\n\".join(txtstr_stat)"
   ]
  },
  {
   "cell_type": "code",
   "execution_count": null,
   "id": "f5e43725-1d1b-4636-aea1-9c27f421ef11",
   "metadata": {
    "execution": {
     "iopub.execute_input": "2025-03-03T09:37:06.063059Z",
     "iopub.status.busy": "2025-03-03T09:37:06.062943Z",
     "iopub.status.idle": "2025-03-03T09:37:07.377257Z",
     "shell.execute_reply": "2025-03-03T09:37:07.376874Z",
     "shell.execute_reply.started": "2025-03-03T09:37:06.063049Z"
    }
   },
   "outputs": [],
   "source": [
    "fig = plt.figure(figsize=(FIGXSIZE_1,FIGYSIZE_1),layout=\"constrained\")\n",
    "gs = GridSpec(2, 1,figure=fig)\n",
    "#gs = GridSpec(1, 1,figure=fig)\n",
    "ax1 = fig.add_subplot(gs[0])\n",
    "ax2 = fig.add_subplot(gs[1])\n",
    "ax1.plot(x_full,y_full,'-',color=\"k\",linestyle=\"dashed\", label=\"M2 Measurements\")\n",
    "ax1.plot(x_full,mean_yfull_pred,color=\"tab:blue\", lw=3 ,alpha=1.0, label=\"Gaussian process\")\n",
    "ax1.fill_between(\n",
    "    X_full.ravel(),\n",
    "    mean_yfull_pred - std_yfull_pred,\n",
    "    mean_yfull_pred + std_yfull_pred,\n",
    "    color=\"tab:blue\",\n",
    "    alpha=0.2,\n",
    ")\n",
    "ax1.legend()\n",
    "\n",
    "ax1.set_ylabel(\"PWV (mm)\")\n",
    "ax1.set_xlabel(\"mjd\")\n",
    "ax1.set_title(\"Fit PWV with Gaussian process\")\n",
    "ax1.text(0.1, 0.95, txtstr_kernel, transform=ax1.transAxes, fontsize=16,verticalalignment='top', bbox=props)\n",
    "\n",
    "\n",
    "ax2.plot(x_full,residuals,'-',color=\"k\",linestyle=\"solid\", label=\"Residuals\")\n",
    "ax2.fill_between(\n",
    "    X_full.ravel(),\n",
    "    - std_yfull_pred,\n",
    "    std_yfull_pred,\n",
    "    color=\"tab:blue\",\n",
    "    alpha=0.2,\n",
    ")\n",
    "ax2.legend()\n",
    "\n",
    "ax2.set_ylabel(\"PWV residuals (mm)\")\n",
    "ax2.set_xlabel(\"mjd\")\n",
    "ax2.set_title(\"Residuals on Fit PWV with Gaussian process\")\n",
    "ax2.axhline(0,color=\"tab:blue\",linewidth=3)\n",
    "ax2.text(0.01, 0.95, txtstr_stat, transform=ax2.transAxes, fontsize=16,verticalalignment='top', bbox=props)\n",
    "\n",
    "\n",
    "figname =f\"{pathfigs}/pwv_fitgpfinalresidualsall_merra2\"+figtype\n",
    "fig.savefig(figname)\n",
    "plt.show()\n"
   ]
  },
  {
   "cell_type": "markdown",
   "id": "fb1d1e9f-82d8-4bbb-b761-7194d74e8471",
   "metadata": {},
   "source": [
    "#### Jump statistical laws"
   ]
  },
  {
   "cell_type": "markdown",
   "id": "6aa237c1-0e85-44e2-8826-f272ce24b777",
   "metadata": {},
   "source": [
    "https://stackoverflow.com/questions/35544233/fit-a-curve-to-a-histogram-in-python"
   ]
  },
  {
   "cell_type": "code",
   "execution_count": null,
   "id": "9dcb49b7-1148-4e6b-a8f0-a531a7a0860d",
   "metadata": {
    "execution": {
     "iopub.execute_input": "2025-03-03T09:37:07.377855Z",
     "iopub.status.busy": "2025-03-03T09:37:07.377728Z",
     "iopub.status.idle": "2025-03-03T09:37:07.380499Z",
     "shell.execute_reply": "2025-03-03T09:37:07.380186Z",
     "shell.execute_reply.started": "2025-03-03T09:37:07.377844Z"
    }
   },
   "outputs": [],
   "source": [
    "# Ajustement d'une distribution alpha-stable aux résidus\n",
    "# use subsample because this fit is too slow\n",
    "#residuals_subsamples = residuals[index_selected]\n",
    "#residuals_subsamples_normalized = residuals[index_selected]/std_y_pred\n",
    "#alpha, beta, loc, scale = levy_stable.fit(residuals_subsamples)\n",
    "#print(f\"Levy Stable process : alpha = {alpha:.3f} , beta = {beta:.3f}, loc = {loc:.3f} , scale = {scale:.3f}\")"
   ]
  },
  {
   "cell_type": "markdown",
   "id": "678e732d-ac94-4658-a46d-098f4869af46",
   "metadata": {},
   "source": [
    "#### Must clean the residuals from bad dates and bad values"
   ]
  },
  {
   "cell_type": "code",
   "execution_count": null,
   "id": "50e41be0-591e-44d5-8056-115c6bb4d67c",
   "metadata": {
    "execution": {
     "iopub.execute_input": "2025-03-03T09:37:07.380979Z",
     "iopub.status.busy": "2025-03-03T09:37:07.380865Z",
     "iopub.status.idle": "2025-03-03T09:37:07.389743Z",
     "shell.execute_reply": "2025-03-03T09:37:07.389417Z",
     "shell.execute_reply.started": "2025-03-03T09:37:07.380969Z"
    }
   },
   "outputs": [],
   "source": [
    "#good_indexes_forresiduals = np.where(np.logical_and(x_full > 60000, x_full<x_full.max() ))[0]"
   ]
  },
  {
   "cell_type": "markdown",
   "id": "faace07b-3ca1-43e2-b504-e29cb362c58a",
   "metadata": {},
   "source": [
    "#### with scipy.stats"
   ]
  },
  {
   "cell_type": "code",
   "execution_count": null,
   "id": "588278ac-8815-4519-90c4-d13ee0bfe974",
   "metadata": {
    "execution": {
     "iopub.execute_input": "2025-03-03T09:37:07.390239Z",
     "iopub.status.busy": "2025-03-03T09:37:07.390124Z",
     "iopub.status.idle": "2025-03-03T09:37:07.418360Z",
     "shell.execute_reply": "2025-03-03T09:37:07.418027Z",
     "shell.execute_reply.started": "2025-03-03T09:37:07.390228Z"
    }
   },
   "outputs": [],
   "source": [
    "loc_c,scale_c = cauchy.fit(residuals[good_indexes_forresiduals])\n",
    "loc_l,scale_l = laplace.fit(residuals[good_indexes_forresiduals])\n",
    "loc_n,scale_n = norm.fit(residuals[good_indexes_forresiduals])\n",
    "\n",
    "loc_c0,scale_c0 = cauchy.fit(residuals_normalized[good_indexes_forresiduals])\n",
    "loc_l0,scale_l0 = laplace.fit(residuals_normalized[good_indexes_forresiduals])\n",
    "loc_n0,scale_n0 = norm.fit(residuals_normalized[good_indexes_forresiduals])"
   ]
  },
  {
   "cell_type": "code",
   "execution_count": null,
   "id": "98805fa2-6b66-48e8-bf96-a1a255c16b45",
   "metadata": {
    "execution": {
     "iopub.execute_input": "2025-03-03T09:37:07.418847Z",
     "iopub.status.busy": "2025-03-03T09:37:07.418732Z",
     "iopub.status.idle": "2025-03-03T09:37:07.422155Z",
     "shell.execute_reply": "2025-03-03T09:37:07.421812Z",
     "shell.execute_reply.started": "2025-03-03T09:37:07.418836Z"
    }
   },
   "outputs": [],
   "source": [
    "print(\"cauchy\",loc_c,scale_c)\n",
    "print(\"laplace\",loc_l,scale_l)\n",
    "print(\"norm\",loc_n,scale_n) \n",
    "\n",
    "print(\"cauchy0\",loc_c0,scale_c0)\n",
    "print(\"laplace0\",loc_l0,scale_l0)\n",
    "print(\"norm0\",loc_n0,scale_n0) "
   ]
  },
  {
   "cell_type": "code",
   "execution_count": null,
   "id": "6887cc43-f1e6-4b3c-b3c3-f92ff793bb15",
   "metadata": {
    "execution": {
     "iopub.execute_input": "2025-03-03T09:37:07.422681Z",
     "iopub.status.busy": "2025-03-03T09:37:07.422562Z",
     "iopub.status.idle": "2025-03-03T09:37:07.430551Z",
     "shell.execute_reply": "2025-03-03T09:37:07.430147Z",
     "shell.execute_reply.started": "2025-03-03T09:37:07.422670Z"
    }
   },
   "outputs": [],
   "source": [
    "def plot_histdata_andfit(data,ax, models, fitter,plotdata=True,datacolor=\"\",function_name=\"gauss\"):\n",
    "    \"\"\"\n",
    "    \"\"\"\n",
    "\n",
    "    fcolor = {\"gauss\":\"r\",\"lorentz\":\"g\"}\n",
    "    \n",
    "    bin_heights, bin_borders = np.histogram(data, bins='auto')\n",
    "    bin_widths = np.diff(bin_borders)\n",
    "    bin_centers = bin_borders[:-1] + bin_widths / 2\n",
    "\n",
    "    # define the statistics to fit\n",
    "    \n",
    "    if function_name == \"lorentz\":\n",
    "        t_init = models.Lorentz1D() \n",
    "    elif function_name == \"gauss\":\n",
    "        t_init = models.Gaussian1D()\n",
    "    else:\n",
    "        function_name = \"gauss\"\n",
    "        t_init = models.Gaussian1D()\n",
    "        \n",
    "\n",
    "    # define the fit method\n",
    "    fit_t = fitter.LevMarLSQFitter()\n",
    "\n",
    "    #does the fit on histogram data\n",
    "    t = fit_t(t_init, bin_centers, bin_heights)\n",
    "\n",
    "    x_interval_for_fit = np.linspace(bin_borders[0], bin_borders[-1], 1000)\n",
    "\n",
    "    if plotdata:\n",
    "        ax.bar(bin_centers, bin_heights, width=bin_widths, label='data',color=datacolor)\n",
    "        \n",
    "    ax.plot(x_interval_for_fit, t(x_interval_for_fit), label=function_name, c=fcolor[function_name])\n",
    "    \n",
    "    ax.set_xlim(bin_borders.min(),bin_borders.max())\n",
    "    ax.set_ylim(0., bin_heights.max()*1.2)\n",
    "    ax.legend()"
   ]
  },
  {
   "cell_type": "code",
   "execution_count": null,
   "id": "1c2439c5-c837-4ba8-98e2-3b66e308079d",
   "metadata": {
    "execution": {
     "iopub.execute_input": "2025-03-03T09:37:07.431094Z",
     "iopub.status.busy": "2025-03-03T09:37:07.430978Z",
     "iopub.status.idle": "2025-03-03T09:37:07.440104Z",
     "shell.execute_reply": "2025-03-03T09:37:07.439765Z",
     "shell.execute_reply.started": "2025-03-03T09:37:07.431083Z"
    }
   },
   "outputs": [],
   "source": [
    "XXMAX = np.max(np.abs(residuals))\n",
    "XXMIN = - XXMAX\n",
    "xx = np.linspace(XXMIN,XXMAX,100)\n",
    "#rv = levy_stable(alpha, beta)\n",
    "rv_c = cauchy({'loc':loc_c,'scale':scale_c})\n",
    "rv_l = laplace({'loc':loc_l,'scale':scale_l})\n",
    "rv_n = norm({'loc':loc_n,'scale':scale_n})\n",
    "rv_c0 = cauchy({'loc':loc_c0,'scale':scale_c0})\n",
    "rv_l0 = laplace({'loc':loc_l0,'scale':scale_l0})\n",
    "rv_n0 = norm({'loc':loc_n0,'scale':scale_n0})"
   ]
  },
  {
   "cell_type": "code",
   "execution_count": null,
   "id": "28efc43b-587d-4099-99a6-62cb33a0c646",
   "metadata": {
    "execution": {
     "iopub.execute_input": "2025-03-03T09:37:07.440650Z",
     "iopub.status.busy": "2025-03-03T09:37:07.440528Z",
     "iopub.status.idle": "2025-03-03T09:37:08.511911Z",
     "shell.execute_reply": "2025-03-03T09:37:08.511527Z",
     "shell.execute_reply.started": "2025-03-03T09:37:07.440639Z"
    }
   },
   "outputs": [],
   "source": [
    "fig,(ax1,ax2) = plt.subplots(1,2,figsize=(10,4),layout=\"constrained\")\n",
    "\n",
    "plot_histdata_andfit(residuals[good_indexes_forresiduals],ax1,models, fitting, plotdata=True,datacolor=\"tab:blue\",function_name=\"gauss\")\n",
    "plot_histdata_andfit(residuals[good_indexes_forresiduals],ax1,models, fitting,plotdata=False,datacolor=\"tab:blue\",function_name=\"lorentz\")\n",
    "#ax1.hist(residuals,bins=50,facecolor=\"tab:blue\",density=True)\n",
    "ax1.set_title(\"PWV final Residuals\")\n",
    "ax1.text(0.55, 0.95, txtstr_stat, transform=ax1.transAxes, fontsize=12,verticalalignment='top', bbox=props)\n",
    "ax1.set_xlabel(\"$\\Delta PWV$ (mm)\")\n",
    "#ax1.set_yscale(\"log\")\n",
    "#ax1.set_xlim(XXMIN,XXMAX)\n",
    "#ax1.plot(xx, rv.pdf(xx), 'k-', lw=2, label='Levy stable')\n",
    "#ax1.plot(xx, rv_c.pdf(xx), 'r-', lw=2, label='cauchy')\n",
    "#ax1.plot(xx, rv_l.pdf(xx), 'g-', lw=2, label='laplace')\n",
    "#ax1.plot(xx, rv_n.pdf(xx), 'b-', lw=2, label='norm')\n",
    "ax1.legend(loc=\"upper left\")\n",
    "ax1.set_ylim(0,2e3)\n",
    "\n",
    "\n",
    "#ax2.set_ylim(1e-3,1)\n",
    "ax2.set_title(\"PWV final Residuals normalized\")\n",
    "#ax2.hist(residuals_normalized,bins=50,facecolor=\"tab:blue\",density=True)\n",
    "plot_histdata_andfit(residuals_normalized[good_indexes_forresiduals],ax2,models, fitting,plotdata=True,datacolor=\"tab:blue\",function_name=\"gauss\")\n",
    "plot_histdata_andfit(residuals_normalized[good_indexes_forresiduals],ax2,models, fitting,plotdata=False,datacolor=\"tab:blue\",function_name=\"lorentz\")\n",
    "#ax2.plot(xx, rv.pdf(xx), 'k-', lw=2, label='Levy stable pdf')\n",
    "#ax2.plot(xx, rv_c0.pdf(xx), 'r-', lw=2, label='cauchy')\n",
    "#ax2.plot(xx, rv_l0.pdf(xx), 'g-', lw=2, label='laplace')\n",
    "#ax2.plot(xx, rv_n0.pdf(xx), 'b-', lw=2, label='norm')\n",
    "ax2.set_xlabel(\"$\\\\frac{\\Delta PWV}{\\sigma}$\")\n",
    "ax2.legend()\n",
    "ax2.set_xlim(-10.,10.)\n",
    "#ax2.set_yscale(\"log\")\n",
    "ax2.set_ylim(1e0,2e3)\n",
    "\n",
    "figname =f\"{pathfigs}/pwv_finalres_histdata_merra2\"+figtype\n",
    "fig.savefig(figname)\n",
    "plt.show()"
   ]
  },
  {
   "cell_type": "code",
   "execution_count": null,
   "id": "5dde698f-a6e5-417a-8dcb-f119ba438845",
   "metadata": {
    "execution": {
     "iopub.execute_input": "2025-03-03T09:37:08.512501Z",
     "iopub.status.busy": "2025-03-03T09:37:08.512376Z",
     "iopub.status.idle": "2025-03-03T09:37:09.002388Z",
     "shell.execute_reply": "2025-03-03T09:37:09.001961Z",
     "shell.execute_reply.started": "2025-03-03T09:37:08.512489Z"
    }
   },
   "outputs": [],
   "source": [
    "fig,ax = plt.subplots(1,1,figsize=(FIGXSIZE_0,FIGYSIZE_0),layout=\"constrained\")\n",
    "positive_freqs, positive_fft_values, sigma_x, _ = fourier_analysis(x_full,residuals,ax=ax ,mode= \"logxliny\",\n",
    "                 title = \"PWV final residuals (absolute  FFT)\",\n",
    "                 xlabel=\"frequency (days$^{-1}$)\",\n",
    "                 ylabel=\" mm\",\n",
    "                 label=\"FFT residuals\")\n",
    "\n",
    "#txtstr_sigma = \"$\\sigma$ = \" + f\" {sigma_x:0.2f} mm\"\n",
    "#ax.text(0.01, 0.95, txtstr_sigma, transform=ax.transAxes, fontsize=16,verticalalignment='top', bbox=props)\n",
    "\n",
    "figname =f\"{pathfigs}/pwv_finalres_FFTdata_merra2\"+figtype\n",
    "fig.savefig(figname)\n",
    "plt.show()"
   ]
  },
  {
   "cell_type": "code",
   "execution_count": null,
   "id": "ef4b6b1f-5896-4522-bfab-f469611fe340",
   "metadata": {
    "execution": {
     "iopub.execute_input": "2025-03-03T09:37:09.003024Z",
     "iopub.status.busy": "2025-03-03T09:37:09.002893Z",
     "iopub.status.idle": "2025-03-03T09:37:10.717434Z",
     "shell.execute_reply": "2025-03-03T09:37:10.717043Z",
     "shell.execute_reply.started": "2025-03-03T09:37:09.003012Z"
    }
   },
   "outputs": [],
   "source": [
    "fig,ax = plt.subplots(1,1,figsize = (FIGXSIZE_0,FIGYSIZE_0),layout=\"constrained\")\n",
    "LombScargle_analysis(x_full,residuals, ax=ax ,mode= \"logxliny\",\n",
    "                 title = \"LombScargle : PWV residuals\",\n",
    "                 xlabel=\"frequency (days$^{-1}$)\",\n",
    "                 ylabel=\" \",\n",
    "                 label=\"Merra2 PWV\")\n",
    "figname =f\"{pathfigs}/pwv_finalres_LombScargle_merra2\"+figtype\n",
    "fig.savefig(figname)\n",
    "plt.show()"
   ]
  },
  {
   "cell_type": "markdown",
   "id": "3338a245-30b8-444c-971e-d5d1efc68b1f",
   "metadata": {},
   "source": [
    "## Analysis of Ozone"
   ]
  },
  {
   "cell_type": "code",
   "execution_count": null,
   "id": "aece4bfa-d37a-4c98-b98f-a857c0c24c30",
   "metadata": {
    "execution": {
     "iopub.execute_input": "2025-03-03T09:37:10.718039Z",
     "iopub.status.busy": "2025-03-03T09:37:10.717898Z",
     "iopub.status.idle": "2025-03-03T09:37:10.721119Z",
     "shell.execute_reply": "2025-03-03T09:37:10.720788Z",
     "shell.execute_reply.started": "2025-03-03T09:37:10.718027Z"
    }
   },
   "outputs": [],
   "source": [
    "index_fn = 1\n",
    "full_filename = os.path.join(pathdata,files_residuals[index_fn])"
   ]
  },
  {
   "cell_type": "code",
   "execution_count": null,
   "id": "2af1a218-0874-4922-8c35-27dce903750d",
   "metadata": {
    "execution": {
     "iopub.execute_input": "2025-03-03T09:37:10.728125Z",
     "iopub.status.busy": "2025-03-03T09:37:10.727997Z",
     "iopub.status.idle": "2025-03-03T09:37:10.743442Z",
     "shell.execute_reply": "2025-03-03T09:37:10.743094Z",
     "shell.execute_reply.started": "2025-03-03T09:37:10.728113Z"
    }
   },
   "outputs": [],
   "source": [
    "df = pd.read_csv(full_filename,index_col=0)\n",
    "N = len(df)"
   ]
  },
  {
   "cell_type": "code",
   "execution_count": null,
   "id": "2bd90847-1689-43f1-93e9-be281f133600",
   "metadata": {
    "execution": {
     "iopub.execute_input": "2025-03-03T09:37:10.743999Z",
     "iopub.status.busy": "2025-03-03T09:37:10.743880Z",
     "iopub.status.idle": "2025-03-03T09:37:10.747082Z",
     "shell.execute_reply": "2025-03-03T09:37:10.746717Z",
     "shell.execute_reply.started": "2025-03-03T09:37:10.743988Z"
    }
   },
   "outputs": [],
   "source": [
    "x_full = df[\"mjd\"].values\n",
    "y_full = df[\"res\"].values\n",
    "X_full = x_full.reshape(-1, 1)"
   ]
  },
  {
   "cell_type": "code",
   "execution_count": null,
   "id": "3b6a1653-6d61-4f81-aa88-3cb1272d4655",
   "metadata": {
    "execution": {
     "iopub.execute_input": "2025-03-03T09:37:10.747566Z",
     "iopub.status.busy": "2025-03-03T09:37:10.747444Z",
     "iopub.status.idle": "2025-03-03T09:37:10.755287Z",
     "shell.execute_reply": "2025-03-03T09:37:10.754951Z",
     "shell.execute_reply.started": "2025-03-03T09:37:10.747555Z"
    }
   },
   "outputs": [],
   "source": [
    "tmin_select = 59500\n",
    "tmax_select = x_full.max()\n",
    "good_indexes_forresiduals = np.where(np.logical_and(x_full > tmin_select, x_full< tmax_select ))[0]"
   ]
  },
  {
   "cell_type": "code",
   "execution_count": null,
   "id": "c6fd44bd-0f32-47f2-98ca-33a3bb9701e9",
   "metadata": {
    "execution": {
     "iopub.execute_input": "2025-03-03T09:37:10.755818Z",
     "iopub.status.busy": "2025-03-03T09:37:10.755699Z",
     "iopub.status.idle": "2025-03-03T09:37:11.024760Z",
     "shell.execute_reply": "2025-03-03T09:37:11.024271Z",
     "shell.execute_reply.started": "2025-03-03T09:37:10.755807Z"
    }
   },
   "outputs": [],
   "source": [
    "fig,ax = plt.subplots(1,1,figsize=(4,3))\n",
    "ax.hist(y_full[good_indexes_forresiduals],bins=200,facecolor=\"tab:red\");\n",
    "ax.set_xlabel(\"DU\")\n",
    "ax.set_title(\"input residuals Ozone\")"
   ]
  },
  {
   "cell_type": "code",
   "execution_count": null,
   "id": "4c9bb094-fd92-4fde-b34f-0addf4674885",
   "metadata": {
    "execution": {
     "iopub.execute_input": "2025-03-03T09:37:11.025340Z",
     "iopub.status.busy": "2025-03-03T09:37:11.025212Z",
     "iopub.status.idle": "2025-03-03T09:37:11.333377Z",
     "shell.execute_reply": "2025-03-03T09:37:11.332981Z",
     "shell.execute_reply.started": "2025-03-03T09:37:11.025328Z"
    }
   },
   "outputs": [],
   "source": [
    "fig = plt.figure(figsize=(FIGXSIZE_0,FIGYSIZE_0),layout=\"constrained\")\n",
    "#gs = GridSpec(2, 1,figure=fig)\n",
    "gs = GridSpec(1, 1,figure=fig)\n",
    "ax1 = fig.add_subplot(gs[0])\n",
    "#ax2 = fig.add_subplot(gs[1])\n",
    "        \n",
    "leg1=ax1.get_legend()\n",
    "#leg2=ax2.get_legend()\n",
    "ax1.plot(x_full,y_full,c=\"tab:red\",lw=0.5,label=\"Merra2\")\n",
    "ax1.set_xlabel(\"time (MJD)\")\n",
    "ax1.legend()\n",
    "ax1.set_ylabel(\"Ozone residuals(DU)\")\n",
    "ax1.set_title(\"Ozone residuals after GP-Periodic removal\")\n",
    "figname =f\"{pathfigs}/ozone_resGPper_timeseqall_merra2\"+figtype\n",
    "fig.savefig(figname)\n",
    "plt.show()"
   ]
  },
  {
   "cell_type": "code",
   "execution_count": null,
   "id": "eae126bb-8b71-423f-801c-8a0128071acc",
   "metadata": {
    "execution": {
     "iopub.execute_input": "2025-03-03T09:37:11.333963Z",
     "iopub.status.busy": "2025-03-03T09:37:11.333837Z",
     "iopub.status.idle": "2025-03-03T09:37:11.862384Z",
     "shell.execute_reply": "2025-03-03T09:37:11.862007Z",
     "shell.execute_reply.started": "2025-03-03T09:37:11.333952Z"
    }
   },
   "outputs": [],
   "source": [
    "fig,ax = plt.subplots(1,1,figsize=(FIGXSIZE_0,FIGYSIZE_0),layout=\"constrained\")\n",
    "positive_freqs, positive_fft_values, sigma_x, _ = fourier_analysis(x_full,y_full,ax=ax ,mode= \"logxliny\",\n",
    "                 title = \"Ozone residuals after GP-Periodic removal (absolute  FFT)\",\n",
    "                 xlabel=\"frequency (days$^{-1}$)\",\n",
    "                 ylabel=\"DU\",\n",
    "                 label=\"FFT residuals\")\n",
    "figname =f\"{pathfigs}/ozone_resGPper_FFTdata_merra2\"+figtype\n",
    "\n",
    "txtstr_sigma = \"$\\sigma$ = \" + f\" {sigma_x:0.2f} DU\"\n",
    "ax.text(0.01, 0.95, txtstr_sigma, transform=ax.transAxes, fontsize=16,verticalalignment='top', bbox=props)\n",
    "\n",
    "fig.savefig(figname)\n",
    "plt.show()"
   ]
  },
  {
   "cell_type": "markdown",
   "id": "90f02a69-886e-48e3-9775-6fb554b06f98",
   "metadata": {},
   "source": [
    "### Define the kernels"
   ]
  },
  {
   "cell_type": "code",
   "execution_count": null,
   "id": "5e45dcfb-c2d1-409b-8d75-e6ea360df48d",
   "metadata": {
    "execution": {
     "iopub.execute_input": "2025-03-03T09:37:11.863093Z",
     "iopub.status.busy": "2025-03-03T09:37:11.862962Z",
     "iopub.status.idle": "2025-03-03T09:37:11.869561Z",
     "shell.execute_reply": "2025-03-03T09:37:11.869198Z",
     "shell.execute_reply.started": "2025-03-03T09:37:11.863081Z"
    }
   },
   "outputs": [],
   "source": [
    "# Tendance long terme\n",
    "long_term_trend_kernel = ConstantKernel(.5, (0.0, 50.0)) * RBF(length_scale=365.0)\n",
    "\n",
    "periodic_1year_kernel =  ConstantKernel(3.0, (0.1, 50.0)) * ExpSineSquared(length_scale= 10*YEAR, periodicity= YEAR,\n",
    "                                                                           length_scale_bounds=\"fixed\",periodicity_bounds=\"fixed\")\n",
    "periodic_6months_kernel = ConstantKernel(2.5, (0.1, 50.0)) * ExpSineSquared(length_scale= 20*MONTHS6,periodicity=MONTHS6,\n",
    "                                                                            length_scale_bounds=\"fixed\",periodicity_bounds=\"fixed\") \n",
    "periodic_3months_kernel = ConstantKernel(2.5, (0.1, 50.0)) * ExpSineSquared(length_scale= 40*QUARTER, periodicity=QUARTER,\n",
    "                                                                            length_scale_bounds=\"fixed\",periodicity_bounds=\"fixed\")\n",
    "periodic_4months_kernel = ConstantKernel(2.5, (0.1, 50.0)) * ExpSineSquared(length_scale= 30*MONTHS4, periodicity=MONTHS4,\n",
    "                                                                            length_scale_bounds=\"fixed\",periodicity_bounds=\"fixed\")\n",
    "\n",
    "seasonal_enveloppe = RBF(length_scale=YEAR, length_scale_bounds=(0.5*YEAR, 10*YEAR))\n",
    "\n",
    "# Saisonnalité multi-échelle\n",
    "seasonal_kernel = (\n",
    "    #seasonal_enveloppe * ( periodic_1year_kernel + periodic_6months_kernel + periodic_3months_kernel)\n",
    "    #seasonal_enveloppe * ( periodic_1year_kernel  + periodic_3months_kernel)\n",
    "    #periodic_1year_kernel  + periodic_6months_kernel + periodic_3months_kernel\n",
    "    periodic_1year_kernel  + periodic_6months_kernel + periodic_4months_kernel + periodic_3months_kernel\n",
    "    #periodic_1year_kernel\n",
    ")\n",
    "# variation journaliere\n",
    "#periodic_1day_kernel = ConstantKernel(2.5, (0., 10.0)) * ExpSineSquared(length_scale= 4*YEAR, periodicity=DAY,\n",
    "#                                                                            length_scale_bounds=\"fixed\",periodicity_bounds=\"fixed\")\n",
    "\n",
    "periodic_1day_kernel = ConstantKernel(2.5, (0., 50.0)) *  RBF(length_scale=DAY,length_scale_bounds=\"fixed\")\n",
    "\n",
    "\n",
    "# Petites fluctuations irrégulières\n",
    "#irregularities_kernel = ConstantKernel(10.0, (0.0, 50.0)) * RationalQuadratic(length_scale=DAY, alpha=1.0)\n",
    "#irregularities_kernel = ConstantKernel(1.0, (0.0, 50.0)) * Matern(length_scale=DAY, nu=1.5) +  ConstantKernel(1.0, (0.0, 50.0)) * RationalQuadratic(length_scale=DAY, alpha=1.0)\n",
    "irregularities_kernel = ConstantKernel(10.0, (0.0, 50.0)) * Matern(length_scale=DAY, nu=0.5) + ConstantKernel(10.0, (0.0, 50.0)) * RationalQuadratic(length_scale=DAY, alpha=1.0)\n",
    "\n",
    "# with Gamma kernel that is not converging\n",
    "#irregularities_kernel = ConstantKernel(1.0, (0.0, 10.0)) * RationalQuadratic(length_scale=DAY, alpha=1.0) + ConstantKernel(1.0, (0.0, 10.0)) * GammaKernel(alpha=2.0, length_scale=1.0)\n",
    "\n",
    "# with Poisson Kernel (slow)\n",
    "#poisson_kernel = PoissonKernel(intensity=1.0)\n",
    "#irregularities_kernel = ConstantKernel(1.0, (0.0, 10.0)) * RationalQuadratic(length_scale=DAY, alpha=1.0) + poisson_kernel\n",
    "#irregularities_kernel = ConstantKernel(1.0, (0.0, 10.0)) * Matern(length_scale=DAY, nu=0.5) + poisson_kernel\n",
    "\n",
    "\n",
    "# Bruit et variations locales\n",
    "noise_kernel = ConstantKernel(1.0, (0., 50.0)) * RBF(length_scale=1.0) + WhiteKernel(noise_level=1.0**2)\n",
    "#noise_kernel = ConstantKernel(1.0, (0., 10.0)) * RBF(length_scale=1.0) \n",
    "\n",
    "# Kernel total\n",
    "#full_kernel = long_term_trend_kernel + seasonal_kernel + irregularities_kernel + noise_kernel\n",
    "#full_kernel = seasonal_kernel + irregularities_kernel\n",
    "#full_kernel = irregularities_kernel + WhiteKernel(noise_level=1**2)\n",
    "#full_kernel = irregularities_kernel + periodic_1day_kernel + noise_kernel\n",
    "full_kernel = irregularities_kernel  * seasonal_enveloppe"
   ]
  },
  {
   "cell_type": "code",
   "execution_count": null,
   "id": "2a717d51-4eb7-4ef1-a719-1baf6df22fc1",
   "metadata": {
    "execution": {
     "iopub.execute_input": "2025-03-03T09:37:11.870067Z",
     "iopub.status.busy": "2025-03-03T09:37:11.869948Z",
     "iopub.status.idle": "2025-03-03T09:37:11.877940Z",
     "shell.execute_reply": "2025-03-03T09:37:11.877526Z",
     "shell.execute_reply.started": "2025-03-03T09:37:11.870056Z"
    },
    "tags": []
   },
   "outputs": [],
   "source": [
    "ozone_kernel = full_kernel"
   ]
  },
  {
   "cell_type": "markdown",
   "id": "9cb25d1b-5423-4494-8bd7-5102d58f5be9",
   "metadata": {},
   "source": [
    "### Make subsample"
   ]
  },
  {
   "cell_type": "code",
   "execution_count": null,
   "id": "d4bef654-798a-4c3b-be17-71c254962ea0",
   "metadata": {
    "execution": {
     "iopub.execute_input": "2025-03-03T09:37:11.878481Z",
     "iopub.status.busy": "2025-03-03T09:37:11.878262Z",
     "iopub.status.idle": "2025-03-03T09:37:11.885367Z",
     "shell.execute_reply": "2025-03-03T09:37:11.885018Z",
     "shell.execute_reply.started": "2025-03-03T09:37:11.878470Z"
    }
   },
   "outputs": [],
   "source": [
    "NSAMP = 4000\n",
    "a = np.arange(0,N ,1)\n",
    "b = np.random.choice(a, size=NSAMP,replace = False)\n",
    "index_selected = np.sort(b)"
   ]
  },
  {
   "cell_type": "code",
   "execution_count": null,
   "id": "8d9e7772-2f44-4fc8-a55a-bb5499baef97",
   "metadata": {
    "execution": {
     "iopub.execute_input": "2025-03-03T09:37:11.885897Z",
     "iopub.status.busy": "2025-03-03T09:37:11.885775Z",
     "iopub.status.idle": "2025-03-03T09:37:11.891433Z",
     "shell.execute_reply": "2025-03-03T09:37:11.891024Z",
     "shell.execute_reply.started": "2025-03-03T09:37:11.885886Z"
    }
   },
   "outputs": [],
   "source": [
    "# subset of values choosen randomly to be fitted on \n",
    "x = x_full[index_selected]\n",
    "X = x.reshape(-1, 1)\n",
    "y = y_full[index_selected]"
   ]
  },
  {
   "cell_type": "markdown",
   "id": "c435b349-f550-492d-9ab2-7e7682989c8b",
   "metadata": {},
   "source": [
    "### Gaussian Fit"
   ]
  },
  {
   "cell_type": "code",
   "execution_count": null,
   "id": "65cd548b-e217-4167-8586-64820a1b7c36",
   "metadata": {
    "execution": {
     "iopub.execute_input": "2025-03-03T09:37:11.891999Z",
     "iopub.status.busy": "2025-03-03T09:37:11.891880Z",
     "iopub.status.idle": "2025-03-03T09:39:43.870933Z",
     "shell.execute_reply": "2025-03-03T09:39:43.870527Z",
     "shell.execute_reply.started": "2025-03-03T09:37:11.891989Z"
    }
   },
   "outputs": [],
   "source": [
    "gaussian_process = GaussianProcessRegressor(kernel=ozone_kernel, normalize_y=True)\n",
    "gaussian_process.fit(X, y)"
   ]
  },
  {
   "cell_type": "code",
   "execution_count": null,
   "id": "abe972be-0cd7-4f02-b786-48b5de83a3df",
   "metadata": {
    "execution": {
     "iopub.execute_input": "2025-03-03T09:39:43.871485Z",
     "iopub.status.busy": "2025-03-03T09:39:43.871360Z",
     "iopub.status.idle": "2025-03-03T09:39:43.875204Z",
     "shell.execute_reply": "2025-03-03T09:39:43.874826Z",
     "shell.execute_reply.started": "2025-03-03T09:39:43.871474Z"
    }
   },
   "outputs": [],
   "source": [
    "txtstr_kernel = f\"{gaussian_process.kernel_}\"\n",
    "txtstr_kernel = \"\\n + \".join(txtstr_kernel.split(\"+ \"))"
   ]
  },
  {
   "cell_type": "markdown",
   "id": "5165726c-40e1-43cc-bc59-603a1d7b23b2",
   "metadata": {},
   "source": [
    "### Prediction on subsample"
   ]
  },
  {
   "cell_type": "code",
   "execution_count": null,
   "id": "f2a3a169-3229-41ea-8b30-ef365d90382e",
   "metadata": {
    "execution": {
     "iopub.execute_input": "2025-03-03T09:39:43.875688Z",
     "iopub.status.busy": "2025-03-03T09:39:43.875573Z",
     "iopub.status.idle": "2025-03-03T09:39:43.884370Z",
     "shell.execute_reply": "2025-03-03T09:39:43.883986Z",
     "shell.execute_reply.started": "2025-03-03T09:39:43.875677Z"
    }
   },
   "outputs": [],
   "source": [
    "mjd_min = x_full.min()\n",
    "mjd_max = x_full.max() + YEAR\n",
    "mjd_zoom_start = Time(\"2024-01-01\").mjd\n",
    "mjd_zoom_stop = Time(\"2025-06-30\").mjd"
   ]
  },
  {
   "cell_type": "code",
   "execution_count": null,
   "id": "6eea6a1e-1cd0-45df-b375-7577cf325987",
   "metadata": {
    "execution": {
     "iopub.execute_input": "2025-03-03T09:39:43.884936Z",
     "iopub.status.busy": "2025-03-03T09:39:43.884816Z",
     "iopub.status.idle": "2025-03-03T09:39:44.113681Z",
     "shell.execute_reply": "2025-03-03T09:39:44.113281Z",
     "shell.execute_reply.started": "2025-03-03T09:39:43.884925Z"
    },
    "tags": []
   },
   "outputs": [],
   "source": [
    "x_test = np.arange(start=mjd_min, stop=mjd_max,step=2)\n",
    "X_test = x_test.reshape(-1,1)\n",
    "mean_y_pred, std_y_pred = gaussian_process.predict(X_test, return_std=True)"
   ]
  },
  {
   "cell_type": "code",
   "execution_count": null,
   "id": "f6d5fd18-8b1e-4936-8adf-4adb20ac0883",
   "metadata": {
    "execution": {
     "iopub.execute_input": "2025-03-03T09:39:44.114385Z",
     "iopub.status.busy": "2025-03-03T09:39:44.114257Z",
     "iopub.status.idle": "2025-03-03T09:39:44.637816Z",
     "shell.execute_reply": "2025-03-03T09:39:44.637370Z",
     "shell.execute_reply.started": "2025-03-03T09:39:44.114373Z"
    },
    "tags": []
   },
   "outputs": [],
   "source": [
    "fig = plt.figure(figsize=(FIGXSIZE_1,FIGYSIZE_1),layout=\"constrained\")\n",
    "gs = GridSpec(2, 1,figure=fig)\n",
    "#gs = GridSpec(1, 1,figure=fig)\n",
    "ax1 = fig.add_subplot(gs[0])\n",
    "ax2 = fig.add_subplot(gs[1])\n",
    "ax1.plot(x,y,'-',color=\"k\",linestyle=\"dashed\", label=\"M2 Measurements\")\n",
    "ax1.plot(x_test,mean_y_pred,color=\"tab:red\", lw=3,alpha=1.0, label=\"Gaussian process\")\n",
    "ax1.fill_between(\n",
    "    X_test.ravel(),\n",
    "    mean_y_pred - std_y_pred,\n",
    "    mean_y_pred + std_y_pred,\n",
    "    color=\"tab:red\",\n",
    "    alpha=0.2,\n",
    ")\n",
    "ax1.legend()\n",
    "ax1.set_ylabel(\"Ozone (DU)\")\n",
    "ax1.set_xlabel(\"mjd\")\n",
    "ax1.set_title(\"Fit Ozone with Gaussian process (subsamples)\")\n",
    "ax1.text(0.1, 0.95, txtstr_kernel, transform=ax1.transAxes, fontsize=16,verticalalignment='top', bbox=props)\n",
    "\n",
    "\n",
    "ax2.plot(x,y,'-',color=\"k\",linestyle=\"dashed\", label=\"M2 Measurements\")\n",
    "ax2.plot(x_test,mean_y_pred,color=\"tab:red\", lw=3,alpha=1.0, label=\"Gaussian process\")\n",
    "ax2.fill_between(\n",
    "    X_test.ravel(),\n",
    "    mean_y_pred - std_y_pred,\n",
    "    mean_y_pred + std_y_pred,\n",
    "    color=\"tab:red\",\n",
    "    alpha=0.2,\n",
    ")\n",
    "ax2.legend()\n",
    "\n",
    "ax2.set_ylabel(\"Ozone (DU)\")\n",
    "ax2.set_xlabel(\"mjd\")\n",
    "ax2.set_title(\"Time-Zoom on Fit Ozone with Gaussian process\")\n",
    "ax2.set_xlim(mjd_zoom_start,mjd_zoom_stop)\n",
    "ax2.text(0.1, 0.95, txtstr_kernel, transform=ax2.transAxes, fontsize=16,verticalalignment='top', bbox=props)\n",
    "\n",
    "\n",
    "figname =f\"{pathfigs}/ozone_fitgpPeriodicresidualsubsample_merra2\"+figtype\n",
    "fig.savefig(figname)\n",
    "plt.show()\n"
   ]
  },
  {
   "cell_type": "markdown",
   "id": "99a5ba16-35dc-454b-b9d7-e746f877d987",
   "metadata": {},
   "source": [
    "### Residuals on the whole statistics"
   ]
  },
  {
   "cell_type": "code",
   "execution_count": null,
   "id": "37fcf157-c468-486f-bc06-5380cbe812a6",
   "metadata": {
    "execution": {
     "iopub.execute_input": "2025-03-03T09:39:44.638411Z",
     "iopub.status.busy": "2025-03-03T09:39:44.638280Z",
     "iopub.status.idle": "2025-03-03T09:39:52.709241Z",
     "shell.execute_reply": "2025-03-03T09:39:52.708786Z",
     "shell.execute_reply.started": "2025-03-03T09:39:44.638399Z"
    }
   },
   "outputs": [],
   "source": [
    "mean_yfull_pred, std_yfull_pred = gaussian_process.predict(X_full, return_std=True)"
   ]
  },
  {
   "cell_type": "code",
   "execution_count": null,
   "id": "0364ec68-0241-449f-af75-008530120b83",
   "metadata": {
    "execution": {
     "iopub.execute_input": "2025-03-03T09:39:52.709825Z",
     "iopub.status.busy": "2025-03-03T09:39:52.709697Z",
     "iopub.status.idle": "2025-03-03T09:39:52.714157Z",
     "shell.execute_reply": "2025-03-03T09:39:52.713729Z",
     "shell.execute_reply.started": "2025-03-03T09:39:52.709813Z"
    }
   },
   "outputs": [],
   "source": [
    "residuals = y_full -  mean_yfull_pred\n",
    "residuals_normalized = residuals/std_yfull_pred"
   ]
  },
  {
   "cell_type": "code",
   "execution_count": null,
   "id": "ac609872-a1bf-4bf4-a059-71a3bf196595",
   "metadata": {
    "execution": {
     "iopub.execute_input": "2025-03-03T09:39:52.714723Z",
     "iopub.status.busy": "2025-03-03T09:39:52.714599Z",
     "iopub.status.idle": "2025-03-03T09:39:52.740865Z",
     "shell.execute_reply": "2025-03-03T09:39:52.740581Z",
     "shell.execute_reply.started": "2025-03-03T09:39:52.714712Z"
    }
   },
   "outputs": [],
   "source": [
    "stat_mean = np.mean(residuals[good_indexes_forresiduals])\n",
    "stat_med = np.median(residuals[good_indexes_forresiduals])\n",
    "stat_std = np.std(residuals[good_indexes_forresiduals])"
   ]
  },
  {
   "cell_type": "code",
   "execution_count": null,
   "id": "d062764d-f6e4-4dff-8354-7b5dcd51fbfd",
   "metadata": {
    "execution": {
     "iopub.execute_input": "2025-03-03T09:39:52.741368Z",
     "iopub.status.busy": "2025-03-03T09:39:52.741247Z",
     "iopub.status.idle": "2025-03-03T09:39:52.747022Z",
     "shell.execute_reply": "2025-03-03T09:39:52.746578Z",
     "shell.execute_reply.started": "2025-03-03T09:39:52.741356Z"
    }
   },
   "outputs": [],
   "source": [
    "txtstr_stat = [f\"mean = {stat_mean:.2f} DU \", f\"median = {stat_med:.2f} DU\",f\"std = {stat_std:.2f} DU\"]\n",
    "txtstr_stat = \"\\n\".join(txtstr_stat)"
   ]
  },
  {
   "cell_type": "code",
   "execution_count": null,
   "id": "889f90d0-47da-4c1a-abc7-a5c0f74fc181",
   "metadata": {
    "execution": {
     "iopub.execute_input": "2025-03-03T09:39:52.747570Z",
     "iopub.status.busy": "2025-03-03T09:39:52.747444Z",
     "iopub.status.idle": "2025-03-03T09:39:53.705662Z",
     "shell.execute_reply": "2025-03-03T09:39:53.705250Z",
     "shell.execute_reply.started": "2025-03-03T09:39:52.747559Z"
    }
   },
   "outputs": [],
   "source": [
    "fig = plt.figure(figsize=(FIGXSIZE_1,FIGYSIZE_1),layout=\"constrained\")\n",
    "gs = GridSpec(2, 1,figure=fig)\n",
    "#gs = GridSpec(1, 1,figure=fig)\n",
    "ax1 = fig.add_subplot(gs[0])\n",
    "ax2 = fig.add_subplot(gs[1])\n",
    "ax1.plot(x_full,y_full,'-',color=\"k\",linestyle=\"dashed\", label=\"M2 Measurements\")\n",
    "ax1.plot(x_full,mean_yfull_pred,color=\"tab:red\", lw=3 ,alpha=1.0, label=\"Gaussian process\")\n",
    "ax1.fill_between(\n",
    "    X_full.ravel(),\n",
    "    mean_yfull_pred - std_yfull_pred,\n",
    "    mean_yfull_pred + std_yfull_pred,\n",
    "    color=\"tab:red\",\n",
    "    alpha=0.2,\n",
    ")\n",
    "ax1.legend()\n",
    "\n",
    "ax1.set_ylabel(\"Ozone (DU)\")\n",
    "ax1.set_xlabel(\"mjd\")\n",
    "ax1.set_title(\"Fit Ozone with Gaussian process\")\n",
    "ax1.text(0.1, 0.95, txtstr_kernel, transform=ax1.transAxes, fontsize=16,verticalalignment='top', bbox=props)\n",
    "\n",
    "\n",
    "ax2.plot(x_full,residuals,'-',color=\"k\",linestyle=\"solid\", label=\"Residuals\")\n",
    "ax2.fill_between(\n",
    "    X_full.ravel(),\n",
    "    - std_yfull_pred,\n",
    "    std_yfull_pred,\n",
    "    color=\"tab:red\",\n",
    "    alpha=0.2,\n",
    ")\n",
    "ax2.legend()\n",
    "\n",
    "ax2.set_ylabel(\"Ozone residuals (DU)\")\n",
    "ax2.set_xlabel(\"mjd\")\n",
    "ax2.set_title(\"Residuals on Fit Ozone with Gaussian process\")\n",
    "ax2.axhline(0,color=\"tab:red\",linewidth=3)\n",
    "ax2.text(0.01, 0.95, txtstr_stat, transform=ax2.transAxes, fontsize=16,verticalalignment='top', bbox=props)\n",
    "\n",
    "\n",
    "figname =f\"{pathfigs}/ozone_fitgpfinalresidualsall_merra2\"+figtype\n",
    "fig.savefig(figname)\n",
    "plt.show()\n"
   ]
  },
  {
   "cell_type": "markdown",
   "id": "cc298866-609f-4357-9df6-e1c4a402ef3e",
   "metadata": {},
   "source": [
    "### Statistical Law of jumps"
   ]
  },
  {
   "cell_type": "code",
   "execution_count": null,
   "id": "9bb0a1e4-28cb-433c-9eed-480db17164e6",
   "metadata": {
    "execution": {
     "iopub.execute_input": "2025-03-03T09:39:53.706275Z",
     "iopub.status.busy": "2025-03-03T09:39:53.706151Z",
     "iopub.status.idle": "2025-03-03T09:39:53.710483Z",
     "shell.execute_reply": "2025-03-03T09:39:53.710071Z",
     "shell.execute_reply.started": "2025-03-03T09:39:53.706263Z"
    }
   },
   "outputs": [],
   "source": [
    "# Ajustement d'une distribution alpha-stable aux résidus\n",
    "residuals_subsamples = residuals[index_selected]\n",
    "#alpha, beta, loc, scale = levy_stable.fit(residuals_subsamples)\n",
    "#print(f\"Levy Stable process : alpha = {alpha:.3f} , beta = {beta:.3f}, loc = {loc:.3f} , scale = {scale:.3f}\")"
   ]
  },
  {
   "cell_type": "code",
   "execution_count": null,
   "id": "c1508e2c-55ed-4e65-9628-c0db9afe1237",
   "metadata": {
    "execution": {
     "iopub.execute_input": "2025-03-03T09:39:53.710984Z",
     "iopub.status.busy": "2025-03-03T09:39:53.710871Z",
     "iopub.status.idle": "2025-03-03T09:39:53.727388Z",
     "shell.execute_reply": "2025-03-03T09:39:53.726988Z",
     "shell.execute_reply.started": "2025-03-03T09:39:53.710973Z"
    }
   },
   "outputs": [],
   "source": [
    "loc_c,scale_c = cauchy.fit(residuals_subsamples)\n",
    "loc_l,scale_l = laplace.fit(residuals_subsamples)\n",
    "loc_n,scale_n = norm.fit(residuals_subsamples)"
   ]
  },
  {
   "cell_type": "code",
   "execution_count": null,
   "id": "1e4dec57-58ac-4b2b-86bf-10854b2ba592",
   "metadata": {
    "execution": {
     "iopub.execute_input": "2025-03-03T09:39:53.727900Z",
     "iopub.status.busy": "2025-03-03T09:39:53.727785Z",
     "iopub.status.idle": "2025-03-03T09:39:53.732286Z",
     "shell.execute_reply": "2025-03-03T09:39:53.731907Z",
     "shell.execute_reply.started": "2025-03-03T09:39:53.727888Z"
    }
   },
   "outputs": [],
   "source": [
    "print(\"cauchy\",loc_c,scale_c)\n",
    "print(\"laplace\",loc_l,scale_l)\n",
    "print(\"norm\",loc_n,scale_n) "
   ]
  },
  {
   "cell_type": "code",
   "execution_count": null,
   "id": "ec7be3af-d8f6-4623-8f6c-e44f852c40f4",
   "metadata": {
    "execution": {
     "iopub.execute_input": "2025-03-03T09:39:53.732971Z",
     "iopub.status.busy": "2025-03-03T09:39:53.732735Z",
     "iopub.status.idle": "2025-03-03T09:39:53.740162Z",
     "shell.execute_reply": "2025-03-03T09:39:53.739739Z",
     "shell.execute_reply.started": "2025-03-03T09:39:53.732959Z"
    }
   },
   "outputs": [],
   "source": [
    "XXMAX = np.max(np.abs(residuals))\n",
    "XXMIN = - XXMAX\n",
    "xx = np.linspace(1.5*XXMIN,1.5*XXMAX,100)\n",
    "#rv = levy_stable(alpha, beta)\n",
    "#rv_c = cauchy({'loc':loc_c,'scale':scale_c})\n",
    "#rv_l = laplace({'loc':loc_l,'scale':scale_l})\n",
    "#rv_n = norm({'loc':loc_n,'scale':scale_n})\n",
    "rv_c = cauchy()\n",
    "rv_l = laplace()\n",
    "rv_n = norm()"
   ]
  },
  {
   "cell_type": "code",
   "execution_count": null,
   "id": "735d380c-e082-4cb8-99c6-bd2a0783cf17",
   "metadata": {
    "execution": {
     "iopub.execute_input": "2025-03-03T09:39:53.740712Z",
     "iopub.status.busy": "2025-03-03T09:39:53.740594Z",
     "iopub.status.idle": "2025-03-03T09:39:54.585422Z",
     "shell.execute_reply": "2025-03-03T09:39:54.585036Z",
     "shell.execute_reply.started": "2025-03-03T09:39:53.740702Z"
    }
   },
   "outputs": [],
   "source": [
    "fig,(ax1,ax2) = plt.subplots(1,2,figsize=(10,4),layout=\"constrained\")\n",
    "\n",
    "plot_histdata_andfit(residuals[good_indexes_forresiduals],ax1,models, fitting, plotdata=True,datacolor=\"tab:red\",function_name=\"gauss\")\n",
    "plot_histdata_andfit(residuals[good_indexes_forresiduals],ax1,models, fitting,plotdata=False,datacolor=\"tab:red\",function_name=\"lorentz\")\n",
    "#ax1.hist(residuals,bins=50,facecolor=\"tab:blue\",density=True)\n",
    "ax1.set_title(\"Ozone final Residuals\")\n",
    "ax1.text(0.55, 0.95, txtstr_stat, transform=ax1.transAxes, fontsize=12,verticalalignment='top', bbox=props)\n",
    "ax1.set_xlabel(\"$\\Delta Ozone$ (DU)\")\n",
    "#ax1.set_yscale(\"log\")\n",
    "#ax1.set_xlim(XXMIN,XXMAX)\n",
    "#ax1.plot(xx, rv.pdf(xx), 'k-', lw=2, label='Levy stable')\n",
    "#ax1.plot(xx, rv_c.pdf(xx), 'r-', lw=2, label='cauchy')\n",
    "#ax1.plot(xx, rv_l.pdf(xx), 'g-', lw=2, label='laplace')\n",
    "#ax1.plot(xx, rv_n.pdf(xx), 'b-', lw=2, label='norm')\n",
    "ax1.legend(loc=\"upper left\")\n",
    "ax1.set_ylim(0,2e3)\n",
    "\n",
    "\n",
    "#ax2.set_ylim(1e-3,1)\n",
    "ax2.set_title(\"Ozone final Residuals normalized\")\n",
    "#ax2.hist(residuals_normalized,bins=50,facecolor=\"tab:blue\",density=True)\n",
    "plot_histdata_andfit(residuals_normalized[good_indexes_forresiduals],ax2,models, fitting,plotdata=True,datacolor=\"tab:red\",function_name=\"gauss\")\n",
    "plot_histdata_andfit(residuals_normalized[good_indexes_forresiduals],ax2,models, fitting,plotdata=False,datacolor=\"tab:red\",function_name=\"lorentz\")\n",
    "#ax2.plot(xx, rv.pdf(xx), 'k-', lw=2, label='Levy stable pdf')\n",
    "#ax2.plot(xx, rv_c0.pdf(xx), 'r-', lw=2, label='cauchy')\n",
    "#ax2.plot(xx, rv_l0.pdf(xx), 'g-', lw=2, label='laplace')\n",
    "#ax2.plot(xx, rv_n0.pdf(xx), 'b-', lw=2, label='norm')\n",
    "ax2.set_xlabel(\"$\\\\frac{\\Delta Ozone}{\\sigma}$\")\n",
    "ax2.legend()\n",
    "ax2.set_xlim(-10.,10.)\n",
    "#ax2.set_yscale(\"log\")\n",
    "ax2.set_ylim(1e0,2e3)\n",
    "\n",
    "figname =f\"{pathfigs}/ozone_finalres_histdata_merra2\"+figtype\n",
    "fig.savefig(figname)\n",
    "plt.show()"
   ]
  },
  {
   "cell_type": "code",
   "execution_count": null,
   "id": "5ff61b8c-8f5d-4ec5-906c-a1d95999c9a1",
   "metadata": {
    "execution": {
     "iopub.execute_input": "2025-03-03T09:39:54.586061Z",
     "iopub.status.busy": "2025-03-03T09:39:54.585938Z",
     "iopub.status.idle": "2025-03-03T09:39:54.590500Z",
     "shell.execute_reply": "2025-03-03T09:39:54.590142Z",
     "shell.execute_reply.started": "2025-03-03T09:39:54.586050Z"
    }
   },
   "outputs": [],
   "source": [
    "#fig,(ax1,ax2) = plt.subplots(1,2,figsize=(10,4),layout=\"constrained\")\n",
    "#ax1.hist(residuals,bins=50,facecolor=\"tab:red\",density=True)\n",
    "#ax1.set_title(\"Ozone final Residuals\")\n",
    "#ax1.text(0.55, 0.95, txtstr_stat, transform=ax1.transAxes, fontsize=12,verticalalignment='top', bbox=props)\n",
    "#ax1.set_xlabel(\"$\\Delta Ozone$ (DU)\")\n",
    "#ax1.set_yscale(\"log\")\n",
    "#ax1.set_xlim(XXMIN,XXMAX)\n",
    "#ax1.plot(xx, rv.pdf(xx), 'k-', lw=2, label='Levy stable')\n",
    "#ax1.plot(xx, rv_c.pdf(xx), 'r-', lw=2, label='cauchy')\n",
    "#ax1.plot(xx, rv_l.pdf(xx), 'g-', lw=2, label='laplace')\n",
    "#ax1.plot(xx, rv_n.pdf(xx), 'b-', lw=2, label='norm')\n",
    "#ax1.legend(loc=\"upper left\")\n",
    "#ax1.set_ylim(1e-3,1)\n",
    "\n",
    "#ax2.plot(xx, rv.pdf(xx), 'k-', lw=2, label='Levy stable pdf')\n",
    "#ax2.plot(xx, rv_c.pdf(xx), 'r-', lw=2, label='cauchy')\n",
    "#ax2.plot(xx, rv_l.pdf(xx), 'g-', lw=2, label='laplace')\n",
    "#ax2.plot(xx, rv_n.pdf(xx), 'b-', lw=2, label='norm')\n",
    "#ax2.set_ylim(1e-3,1)\n",
    "#ax2.legend()\n",
    "#ax2.set_yscale(\"log\")\n",
    "\n",
    "#figname =f\"{pathfigs}/ozone_finalres_histdata_merra2\"+figtype\n",
    "#fig.savefig(figname)\n",
    "#plt.show()"
   ]
  },
  {
   "cell_type": "code",
   "execution_count": null,
   "id": "cc702691-057e-40f5-9d5c-4ff06b62e75a",
   "metadata": {
    "execution": {
     "iopub.execute_input": "2025-03-03T09:39:54.591054Z",
     "iopub.status.busy": "2025-03-03T09:39:54.590943Z",
     "iopub.status.idle": "2025-03-03T09:39:55.102184Z",
     "shell.execute_reply": "2025-03-03T09:39:55.101803Z",
     "shell.execute_reply.started": "2025-03-03T09:39:54.591044Z"
    }
   },
   "outputs": [],
   "source": [
    "fig,ax = plt.subplots(1,1,figsize=(FIGXSIZE_0,FIGYSIZE_0),layout=\"constrained\")\n",
    "positive_freqs, positive_fft_values, sigma_x, _ = fourier_analysis(x_full,residuals,ax=ax ,mode= \"logxliny\",\n",
    "                 title = \"Ozone final residuals (absolute  FFT)\",\n",
    "                 xlabel=\"frequency (days$^{-1}$)\",\n",
    "                 ylabel=\"DU $\\cdot \\sqrt{day}$\",\n",
    "                 label=\"FFT residuals\")\n",
    "\n",
    "#txtstr_sigma = \"$\\sigma$ = \" + f\" {sigma_x:0.2f} DU\"\n",
    "#ax.text(0.01, 0.95, txtstr_sigma, transform=ax.transAxes, fontsize=16,verticalalignment='top', bbox=props)\n",
    "\n",
    "figname =f\"{pathfigs}/ozone_finalres_FFTdata_merra2\"+figtype\n",
    "fig.savefig(figname)\n",
    "plt.show()"
   ]
  },
  {
   "cell_type": "code",
   "execution_count": null,
   "id": "c476232d-adb2-4e82-8920-0e792fb00ee0",
   "metadata": {
    "execution": {
     "iopub.execute_input": "2025-03-03T09:39:55.102808Z",
     "iopub.status.busy": "2025-03-03T09:39:55.102681Z",
     "iopub.status.idle": "2025-03-03T09:39:56.815869Z",
     "shell.execute_reply": "2025-03-03T09:39:56.815352Z",
     "shell.execute_reply.started": "2025-03-03T09:39:55.102796Z"
    }
   },
   "outputs": [],
   "source": [
    "fig,ax = plt.subplots(1,1,figsize = (FIGXSIZE_0,FIGYSIZE_0),layout=\"constrained\")\n",
    "LombScargle_analysis(x_full,residuals, ax=ax ,mode= \"logxliny\",\n",
    "                 title = \"LombScargle : Ozone residuals\",\n",
    "                 #xlabel=\"frequency (days$^{-1}$)\",\n",
    "                 ylabel=\"DU\",\n",
    "                 label=\"Merra2 Ozone\")\n",
    "figname =f\"{pathfigs}/ozone_finalres_LombScargle_merra2\"+figtype\n",
    "fig.savefig(figname)\n",
    "plt.show()"
   ]
  },
  {
   "cell_type": "markdown",
   "id": "58b4ac69-947d-4b40-9b5f-aec8c9d6f841",
   "metadata": {},
   "source": [
    "## Aerosol VAOD"
   ]
  },
  {
   "cell_type": "code",
   "execution_count": null,
   "id": "679c4243-6f0d-4cd4-9655-6319904242ae",
   "metadata": {
    "execution": {
     "iopub.execute_input": "2025-03-03T09:39:56.816526Z",
     "iopub.status.busy": "2025-03-03T09:39:56.816396Z",
     "iopub.status.idle": "2025-03-03T09:39:56.821384Z",
     "shell.execute_reply": "2025-03-03T09:39:56.820911Z",
     "shell.execute_reply.started": "2025-03-03T09:39:56.816508Z"
    }
   },
   "outputs": [],
   "source": [
    "index_fn = 2\n",
    "full_filename = os.path.join(pathdata,files_residuals[index_fn])"
   ]
  },
  {
   "cell_type": "code",
   "execution_count": null,
   "id": "e1932ec1-31fe-4f91-ad0d-d4ceee374242",
   "metadata": {
    "execution": {
     "iopub.execute_input": "2025-03-03T09:39:56.822034Z",
     "iopub.status.busy": "2025-03-03T09:39:56.821918Z",
     "iopub.status.idle": "2025-03-03T09:39:56.839648Z",
     "shell.execute_reply": "2025-03-03T09:39:56.839176Z",
     "shell.execute_reply.started": "2025-03-03T09:39:56.822023Z"
    }
   },
   "outputs": [],
   "source": [
    "df = pd.read_csv(full_filename,index_col=0)\n",
    "N = len(df)"
   ]
  },
  {
   "cell_type": "code",
   "execution_count": null,
   "id": "4ef9e73a-ab80-49fb-b2cf-d36a59688d90",
   "metadata": {
    "execution": {
     "iopub.execute_input": "2025-03-03T09:39:56.840242Z",
     "iopub.status.busy": "2025-03-03T09:39:56.840122Z",
     "iopub.status.idle": "2025-03-03T09:39:56.844896Z",
     "shell.execute_reply": "2025-03-03T09:39:56.844393Z",
     "shell.execute_reply.started": "2025-03-03T09:39:56.840231Z"
    }
   },
   "outputs": [],
   "source": [
    "x_full = df[\"mjd\"].values\n",
    "y_full = df[\"res\"].values\n",
    "X_full = x_full.reshape(-1, 1)"
   ]
  },
  {
   "cell_type": "code",
   "execution_count": null,
   "id": "b3d32f7f-8396-469c-a6d6-0bb9f1d4fd9c",
   "metadata": {
    "execution": {
     "iopub.execute_input": "2025-03-03T09:39:56.845402Z",
     "iopub.status.busy": "2025-03-03T09:39:56.845291Z",
     "iopub.status.idle": "2025-03-03T09:39:56.852325Z",
     "shell.execute_reply": "2025-03-03T09:39:56.851854Z",
     "shell.execute_reply.started": "2025-03-03T09:39:56.845392Z"
    }
   },
   "outputs": [],
   "source": [
    "tmin_select = 59500\n",
    "tmax_select = x_full.max()\n",
    "good_indexes_forresiduals = np.where(np.logical_and(x_full > tmin_select, x_full< tmax_select ))[0]"
   ]
  },
  {
   "cell_type": "code",
   "execution_count": null,
   "id": "a753bb2c-a0a1-4b69-ae39-8057f04b087a",
   "metadata": {
    "execution": {
     "iopub.execute_input": "2025-03-03T09:39:56.852875Z",
     "iopub.status.busy": "2025-03-03T09:39:56.852761Z",
     "iopub.status.idle": "2025-03-03T09:39:56.987114Z",
     "shell.execute_reply": "2025-03-03T09:39:56.986703Z",
     "shell.execute_reply.started": "2025-03-03T09:39:56.852864Z"
    }
   },
   "outputs": [],
   "source": [
    "fig,ax = plt.subplots(1,1,figsize=(4,3))\n",
    "ax.hist(y_full[good_indexes_forresiduals],bins=200,facecolor=\"tab:green\");\n",
    "ax.set_xlabel(\"VAOD\")\n",
    "ax.set_title(\"input residuals VAOD\")"
   ]
  },
  {
   "cell_type": "code",
   "execution_count": null,
   "id": "c561ceab-d38f-4c51-b8c3-ccd4e979bcac",
   "metadata": {
    "execution": {
     "iopub.execute_input": "2025-03-03T09:39:56.987704Z",
     "iopub.status.busy": "2025-03-03T09:39:56.987576Z",
     "iopub.status.idle": "2025-03-03T09:39:57.444350Z",
     "shell.execute_reply": "2025-03-03T09:39:57.443974Z",
     "shell.execute_reply.started": "2025-03-03T09:39:56.987692Z"
    }
   },
   "outputs": [],
   "source": [
    "fig = plt.figure(figsize=(FIGXSIZE_0,FIGYSIZE_0),layout=\"constrained\")\n",
    "#gs = GridSpec(2, 1,figure=fig)\n",
    "gs = GridSpec(1, 1,figure=fig)\n",
    "ax1 = fig.add_subplot(gs[0])\n",
    "#ax2 = fig.add_subplot(gs[1])\n",
    "        \n",
    "leg1=ax1.get_legend()\n",
    "#leg2=ax2.get_legend()\n",
    "ax1.plot(x_full,y_full,c=\"tab:green\",lw=0.5,label=\"Merra2\")\n",
    "ax1.set_xlabel(\"time (MJD)\")\n",
    "ax1.legend()\n",
    "ax1.set_ylabel(\"VAOD residuals\")\n",
    "ax1.set_title(\"VAOD residuals after GP-Periodic removal (absolute  FFT)\")\n",
    "figname =f\"{pathfigs}/vaod_resGPper_timeseqall_merra2\"+figtype\n",
    "fig.savefig(figname)\n",
    "plt.show()"
   ]
  },
  {
   "cell_type": "code",
   "execution_count": null,
   "id": "f9a452a8-f70e-462c-a8a2-b3cdb01a5066",
   "metadata": {
    "execution": {
     "iopub.execute_input": "2025-03-03T09:39:57.444947Z",
     "iopub.status.busy": "2025-03-03T09:39:57.444820Z",
     "iopub.status.idle": "2025-03-03T09:39:57.974093Z",
     "shell.execute_reply": "2025-03-03T09:39:57.973587Z",
     "shell.execute_reply.started": "2025-03-03T09:39:57.444936Z"
    }
   },
   "outputs": [],
   "source": [
    "fig,ax = plt.subplots(1,1,figsize=(FIGXSIZE_0,FIGYSIZE_0),layout=\"constrained\")\n",
    "positive_freqs, positive_fft_values, sigma_x, _ = fourier_analysis(x_full,y_full,ax=ax ,mode= \"logxliny\",\n",
    "                 title = \"VAOD residuals after GP-Periodic removal (absolute  FFT)\",\n",
    "                 xlabel=\"frequency (days$^{-1}$)\",\n",
    "                 ylabel=\"\",\n",
    "                 label=\"FFT residuals\")\n",
    "\n",
    "#txtstr_sigma = \"$\\sigma$ = \" + f\" {sigma_x:0.3f}\"\n",
    "#ax.text(0.01, 0.95, txtstr_sigma, transform=ax.transAxes, fontsize=16,verticalalignment='top', bbox=props)\n",
    "\n",
    "figname =f\"{pathfigs}/vaod_resGPper_FFTdata_merra2\"+figtype\n",
    "fig.savefig(figname)\n",
    "plt.show()"
   ]
  },
  {
   "cell_type": "markdown",
   "id": "27c583fd-7e8a-44d7-91cd-74e0d8da725e",
   "metadata": {},
   "source": [
    "### Define the kernels"
   ]
  },
  {
   "cell_type": "code",
   "execution_count": null,
   "id": "ca7b4c0b-f5b0-4cbf-98ae-90cf97ea14cb",
   "metadata": {
    "execution": {
     "iopub.execute_input": "2025-03-03T09:39:57.974707Z",
     "iopub.status.busy": "2025-03-03T09:39:57.974582Z",
     "iopub.status.idle": "2025-03-03T09:39:57.983122Z",
     "shell.execute_reply": "2025-03-03T09:39:57.982646Z",
     "shell.execute_reply.started": "2025-03-03T09:39:57.974695Z"
    }
   },
   "outputs": [],
   "source": [
    "# Tendance long terme\n",
    "long_term_trend_kernel = ConstantKernel(.5, (0.0, 50.0)) * RBF(length_scale=365.0)\n",
    "\n",
    "\n",
    "periodic_1year_kernel =  ConstantKernel(0.1, (0, 2.)) * ExpSineSquared(length_scale= 10*YEAR, periodicity= YEAR,\n",
    "                                                                           length_scale_bounds=\"fixed\",periodicity_bounds=\"fixed\")\n",
    "periodic_6months_kernel = ConstantKernel(0.1, (0, 2.)) * ExpSineSquared(length_scale= 20*MONTHS6,periodicity=MONTHS6,\n",
    "                                                                            length_scale_bounds=\"fixed\",periodicity_bounds=\"fixed\") \n",
    "periodic_3months_kernel = ConstantKernel(0.1, (0, 2.)) * ExpSineSquared(length_scale= 40*QUARTER, periodicity=QUARTER,\n",
    "                                                                            length_scale_bounds=\"fixed\",periodicity_bounds=\"fixed\")\n",
    "periodic_4months_kernel = ConstantKernel(0.1, (0, 2.)) * ExpSineSquared(length_scale= 30*MONTHS4, periodicity=MONTHS4,\n",
    "                                                                            length_scale_bounds=\"fixed\",periodicity_bounds=\"fixed\")\n",
    "\n",
    "periodic_1months_kernel = ConstantKernel(0.1, (0, 2.)) * ExpSineSquared(length_scale= 4+12*MONTH, periodicity=MONTH,\n",
    "                                                                            length_scale_bounds=\"fixed\",periodicity_bounds=\"fixed\")\n",
    "\n",
    "\n",
    "seasonal_enveloppe = RBF(length_scale=YEAR, length_scale_bounds=(0.5*YEAR, 10*YEAR))\n",
    "\n",
    "# Saisonnalité multi-échelle\n",
    "seasonal_kernel = (\n",
    "    #seasonal_enveloppe * ( periodic_1year_kernel + periodic_6months_kernel + periodic_3months_kernel)\n",
    "    #seasonal_enveloppe * ( periodic_1year_kernel  + periodic_3months_kernel)\n",
    "    #periodic_1year_kernel  + periodic_6months_kernel + periodic_3months_kernel\n",
    "    periodic_1year_kernel  + periodic_6months_kernel + periodic_4months_kernel + periodic_3months_kernel\n",
    "    #periodic_1year_kernel\n",
    ")\n",
    "# variation journaliere\n",
    "#periodic_1day_kernel = ConstantKernel(2.5, (0., 10.0)) * ExpSineSquared(length_scale= 4*YEAR, periodicity=DAY,\n",
    "#                                                                            length_scale_bounds=\"fixed\",periodicity_bounds=\"fixed\")\n",
    "\n",
    "periodic_1day_kernel = ConstantKernel(2.5, (0., 50.0)) *  RBF(length_scale=DAY,length_scale_bounds=\"fixed\")\n",
    "\n",
    "\n",
    "# Petites fluctuations irrégulières\n",
    "#irregularities_kernel = ConstantKernel(.1, (0.0, 5.0)) * RationalQuadratic(length_scale=DAY, alpha=1.0)\n",
    "#irregularities_kernel = ConstantKernel(.1, (0.0, 5.0)) * Matern(length_scale=DAY, nu=1.5) +  ConstantKernel(.1, (0.0, 5.0)) * RationalQuadratic(length_scale=DAY, alpha=1.0)\n",
    "irregularities_kernel = ConstantKernel(0.1, (0.0, 5.0)) * Matern(length_scale=DAY, nu=0.5) + ConstantKernel(.1, (0.0, 5.0)) * RationalQuadratic(length_scale=DAY, alpha=1.0)\n",
    "\n",
    "\n",
    "\n",
    "# Bruit et variations locales\n",
    "noise_kernel = ConstantKernel(0.1, (0., 5.0)) * RBF(length_scale=1.0) + WhiteKernel(noise_level=1.0**2)\n",
    "#noise_kernel = ConstantKernel(1.0, (0., 10.0)) * RBF(length_scale=1.0) \n",
    "\n",
    "# Kernel total\n",
    "#full_kernel = long_term_trend_kernel + seasonal_kernel + irregularities_kernel + noise_kernel\n",
    "#full_kernel = seasonal_kernel + irregularities_kernel\n",
    "#full_kernel = irregularities_kernel + WhiteKernel(noise_level=1**2)\n",
    "#full_kernel = irregularities_kernel + periodic_1day_kernel + noise_kernel\n",
    "full_kernel = irregularities_kernel * seasonal_enveloppe"
   ]
  },
  {
   "cell_type": "code",
   "execution_count": null,
   "id": "3cf1cef0-86ea-47cb-8665-77fb5f24f364",
   "metadata": {
    "execution": {
     "iopub.execute_input": "2025-03-03T09:39:57.983713Z",
     "iopub.status.busy": "2025-03-03T09:39:57.983592Z",
     "iopub.status.idle": "2025-03-03T09:39:57.991568Z",
     "shell.execute_reply": "2025-03-03T09:39:57.991095Z",
     "shell.execute_reply.started": "2025-03-03T09:39:57.983702Z"
    },
    "tags": []
   },
   "outputs": [],
   "source": [
    "vaod_kernel = (\n",
    "    full_kernel\n",
    ")"
   ]
  },
  {
   "cell_type": "markdown",
   "id": "9d1a872f-6340-4861-a92f-8c8094954706",
   "metadata": {},
   "source": [
    "### Make a subsample"
   ]
  },
  {
   "cell_type": "code",
   "execution_count": null,
   "id": "9c87e7a6-5647-45f2-bd9e-32f116296788",
   "metadata": {
    "execution": {
     "iopub.execute_input": "2025-03-03T09:39:57.992124Z",
     "iopub.status.busy": "2025-03-03T09:39:57.992009Z",
     "iopub.status.idle": "2025-03-03T09:39:57.998731Z",
     "shell.execute_reply": "2025-03-03T09:39:57.998260Z",
     "shell.execute_reply.started": "2025-03-03T09:39:57.992113Z"
    }
   },
   "outputs": [],
   "source": [
    "NSAMP = 4000\n",
    "a = np.arange(0,N ,1)\n",
    "b = np.random.choice(a, size=NSAMP,replace = False)\n",
    "index_selected = np.sort(b)"
   ]
  },
  {
   "cell_type": "code",
   "execution_count": null,
   "id": "f9effa0b-6eaa-4690-a19d-52afca092406",
   "metadata": {
    "execution": {
     "iopub.execute_input": "2025-03-03T09:39:57.999204Z",
     "iopub.status.busy": "2025-03-03T09:39:57.999090Z",
     "iopub.status.idle": "2025-03-03T09:39:58.005136Z",
     "shell.execute_reply": "2025-03-03T09:39:58.004679Z",
     "shell.execute_reply.started": "2025-03-03T09:39:57.999193Z"
    }
   },
   "outputs": [],
   "source": [
    "# subset of values choosen randomly to be fitted on \n",
    "x = x_full[index_selected]\n",
    "X = x.reshape(-1, 1)\n",
    "y = y_full[index_selected]"
   ]
  },
  {
   "cell_type": "markdown",
   "id": "15e11411-1d59-42eb-8546-3f855c2bd9e6",
   "metadata": {},
   "source": [
    "### Fit the gaussian process"
   ]
  },
  {
   "cell_type": "code",
   "execution_count": null,
   "id": "ec0183b0-d769-4db4-92c2-e1e5428e13af",
   "metadata": {
    "execution": {
     "iopub.execute_input": "2025-03-03T09:39:58.005711Z",
     "iopub.status.busy": "2025-03-03T09:39:58.005592Z",
     "iopub.status.idle": "2025-03-03T09:42:30.685860Z",
     "shell.execute_reply": "2025-03-03T09:42:30.685482Z",
     "shell.execute_reply.started": "2025-03-03T09:39:58.005700Z"
    },
    "tags": []
   },
   "outputs": [],
   "source": [
    "gaussian_process = GaussianProcessRegressor(kernel=vaod_kernel, normalize_y=True)\n",
    "gaussian_process.fit(X, y)"
   ]
  },
  {
   "cell_type": "code",
   "execution_count": null,
   "id": "29442ec8-815b-4810-9ce7-e5c294f5d7de",
   "metadata": {
    "execution": {
     "iopub.execute_input": "2025-03-03T09:42:30.686447Z",
     "iopub.status.busy": "2025-03-03T09:42:30.686319Z",
     "iopub.status.idle": "2025-03-03T09:42:30.690570Z",
     "shell.execute_reply": "2025-03-03T09:42:30.690250Z",
     "shell.execute_reply.started": "2025-03-03T09:42:30.686435Z"
    }
   },
   "outputs": [],
   "source": [
    "txtstr_kernel = f\"{gaussian_process.kernel_}\"\n",
    "txtstr_kernel = \"\\n + \".join(txtstr_kernel.split(\"+ \"))"
   ]
  },
  {
   "cell_type": "markdown",
   "id": "d4f55ec7-f8cb-441e-ba4f-a7bb436410b8",
   "metadata": {},
   "source": [
    "### Prediction"
   ]
  },
  {
   "cell_type": "code",
   "execution_count": null,
   "id": "16677236-1545-4b6b-806b-2ca0c5803902",
   "metadata": {
    "execution": {
     "iopub.execute_input": "2025-03-03T09:42:30.691079Z",
     "iopub.status.busy": "2025-03-03T09:42:30.690965Z",
     "iopub.status.idle": "2025-03-03T09:42:30.710615Z",
     "shell.execute_reply": "2025-03-03T09:42:30.710260Z",
     "shell.execute_reply.started": "2025-03-03T09:42:30.691069Z"
    }
   },
   "outputs": [],
   "source": [
    "mjd_min = x_full.min()\n",
    "mjd_max = x_full.max() + YEAR\n",
    "mjd_zoom_start = Time(\"2024-01-01\").mjd\n",
    "mjd_zoom_stop = Time(\"2025-06-30\").mjd"
   ]
  },
  {
   "cell_type": "code",
   "execution_count": null,
   "id": "5c8701c9-e883-4645-83c3-a42dbcdf0dde",
   "metadata": {
    "execution": {
     "iopub.execute_input": "2025-03-03T09:42:30.711119Z",
     "iopub.status.busy": "2025-03-03T09:42:30.711003Z",
     "iopub.status.idle": "2025-03-03T09:42:30.937812Z",
     "shell.execute_reply": "2025-03-03T09:42:30.937431Z",
     "shell.execute_reply.started": "2025-03-03T09:42:30.711109Z"
    },
    "tags": []
   },
   "outputs": [],
   "source": [
    "x_test = np.arange(start=mjd_min, stop=mjd_max,step=2)\n",
    "X_test = x_test.reshape(-1,1)\n",
    "mean_y_pred, std_y_pred = gaussian_process.predict(X_test, return_std=True)"
   ]
  },
  {
   "cell_type": "code",
   "execution_count": null,
   "id": "38ff40ec-ed36-41e9-bd42-09cdc536647b",
   "metadata": {
    "execution": {
     "iopub.execute_input": "2025-03-03T09:42:30.938427Z",
     "iopub.status.busy": "2025-03-03T09:42:30.938291Z",
     "iopub.status.idle": "2025-03-03T09:42:31.398030Z",
     "shell.execute_reply": "2025-03-03T09:42:31.397664Z",
     "shell.execute_reply.started": "2025-03-03T09:42:30.938415Z"
    },
    "tags": []
   },
   "outputs": [],
   "source": [
    "fig = plt.figure(figsize=(FIGXSIZE_1,FIGYSIZE_1),layout=\"constrained\")\n",
    "gs = GridSpec(2, 1,figure=fig)\n",
    "#gs = GridSpec(1, 1,figure=fig)\n",
    "ax1 = fig.add_subplot(gs[0])\n",
    "ax2 = fig.add_subplot(gs[1])\n",
    "ax1.plot(x,y,'-',color=\"k\",linestyle=\"dashed\", label=\"M2 Measurements\")\n",
    "ax1.plot(x_test,mean_y_pred,color=\"tab:green\", lw=3,alpha=1.0, label=\"Gaussian process\")\n",
    "ax1.fill_between(\n",
    "    X_test.ravel(),\n",
    "    mean_y_pred - std_y_pred,\n",
    "    mean_y_pred + std_y_pred,\n",
    "    color=\"tab:green\",\n",
    "    alpha=0.2,\n",
    ")\n",
    "ax1.legend()\n",
    "ax1.text(0.1, 0.95, txtstr_kernel, transform=ax1.transAxes, fontsize=12,verticalalignment='top', bbox=props)\n",
    "\n",
    "ax1.set_ylabel(\"VAOD\")\n",
    "ax1.set_xlabel(\"mjd\")\n",
    "ax1.set_title(\"Fit Aerosol VAOD with Gaussian process\")\n",
    "\n",
    "ax2.plot(x,y,'-',color=\"k\",linestyle=\"dashed\", label=\"M2 Measurements\")\n",
    "ax2.plot(x_test,mean_y_pred,color=\"tab:green\", lw=3 ,alpha=1.0, label=\"Gaussian process\")\n",
    "ax2.fill_between(\n",
    "    X_test.ravel(),\n",
    "    mean_y_pred - std_y_pred,\n",
    "    mean_y_pred + std_y_pred,\n",
    "    color=\"tab:green\",\n",
    "    alpha=0.2,\n",
    ")\n",
    "ax2.legend()\n",
    "\n",
    "ax2.set_ylabel(\"VAOD\")\n",
    "ax2.set_xlabel(\"mjd\")\n",
    "ax2.set_title(\"Time-Zoom on Fit VAOD with Gaussian process\")\n",
    "ax2.set_xlim(mjd_zoom_start,mjd_zoom_stop)\n",
    "ax2.text(0.1, 0.95, txtstr_kernel, transform=ax2.transAxes, fontsize=12,verticalalignment='top', bbox=props)\n",
    "\n",
    "\n",
    "figname =f\"{pathfigs}/vaod_fitgpPeriodicresidualsubsample_merra2\"+figtype\n",
    "fig.savefig(figname)\n",
    "plt.show()\n"
   ]
  },
  {
   "cell_type": "markdown",
   "id": "e7a7c04e-c47c-41de-9cdf-1d7e7ee2b627",
   "metadata": {},
   "source": [
    "### Residuals on the whole statistics"
   ]
  },
  {
   "cell_type": "code",
   "execution_count": null,
   "id": "6e729d0d-89c8-49be-8c07-f9edff93e869",
   "metadata": {
    "execution": {
     "iopub.execute_input": "2025-03-03T09:42:31.398588Z",
     "iopub.status.busy": "2025-03-03T09:42:31.398458Z",
     "iopub.status.idle": "2025-03-03T09:42:38.843702Z",
     "shell.execute_reply": "2025-03-03T09:42:38.843289Z",
     "shell.execute_reply.started": "2025-03-03T09:42:31.398576Z"
    }
   },
   "outputs": [],
   "source": [
    "mean_yfull_pred, std_yfull_pred = gaussian_process.predict(X_full, return_std=True)"
   ]
  },
  {
   "cell_type": "code",
   "execution_count": null,
   "id": "01aa5f65-c798-43eb-be72-043e2f031443",
   "metadata": {
    "execution": {
     "iopub.execute_input": "2025-03-03T09:42:38.844257Z",
     "iopub.status.busy": "2025-03-03T09:42:38.844133Z",
     "iopub.status.idle": "2025-03-03T09:42:38.848438Z",
     "shell.execute_reply": "2025-03-03T09:42:38.848106Z",
     "shell.execute_reply.started": "2025-03-03T09:42:38.844245Z"
    }
   },
   "outputs": [],
   "source": [
    "residuals = y_full -  mean_yfull_pred\n",
    "residuals_normalized = residuals/std_yfull_pred"
   ]
  },
  {
   "cell_type": "code",
   "execution_count": null,
   "id": "f1942df7-9c9b-4d52-a0ae-56c50dd650a7",
   "metadata": {
    "execution": {
     "iopub.execute_input": "2025-03-03T09:42:38.849018Z",
     "iopub.status.busy": "2025-03-03T09:42:38.848904Z",
     "iopub.status.idle": "2025-03-03T09:42:38.856685Z",
     "shell.execute_reply": "2025-03-03T09:42:38.856347Z",
     "shell.execute_reply.started": "2025-03-03T09:42:38.849008Z"
    }
   },
   "outputs": [],
   "source": [
    "stat_mean = np.mean(residuals[good_indexes_forresiduals])\n",
    "stat_med = np.median(residuals[good_indexes_forresiduals])\n",
    "stat_std = np.std(residuals[good_indexes_forresiduals])"
   ]
  },
  {
   "cell_type": "code",
   "execution_count": null,
   "id": "d1ecfed4-d3e5-48ee-aed4-fdacbb9c8181",
   "metadata": {
    "execution": {
     "iopub.execute_input": "2025-03-03T09:42:38.857261Z",
     "iopub.status.busy": "2025-03-03T09:42:38.857142Z",
     "iopub.status.idle": "2025-03-03T09:42:38.862530Z",
     "shell.execute_reply": "2025-03-03T09:42:38.862188Z",
     "shell.execute_reply.started": "2025-03-03T09:42:38.857250Z"
    }
   },
   "outputs": [],
   "source": [
    "txtstr_stat = [f\"mean = {stat_mean:.3f}\", f\"median = {stat_med:.3f}\",f\"std = {stat_std:.3f}\"]\n",
    "txtstr_stat = \"\\n\".join(txtstr_stat)"
   ]
  },
  {
   "cell_type": "code",
   "execution_count": null,
   "id": "39c79bbe-e2db-459d-8668-b370647572f4",
   "metadata": {
    "execution": {
     "iopub.execute_input": "2025-03-03T09:42:38.863020Z",
     "iopub.status.busy": "2025-03-03T09:42:38.862905Z",
     "iopub.status.idle": "2025-03-03T09:42:39.648740Z",
     "shell.execute_reply": "2025-03-03T09:42:39.648436Z",
     "shell.execute_reply.started": "2025-03-03T09:42:38.863008Z"
    }
   },
   "outputs": [],
   "source": [
    "fig = plt.figure(figsize=(FIGXSIZE_1,FIGYSIZE_1),layout=\"constrained\")\n",
    "gs = GridSpec(2, 1,figure=fig)\n",
    "#gs = GridSpec(1, 1,figure=fig)\n",
    "ax1 = fig.add_subplot(gs[0])\n",
    "ax2 = fig.add_subplot(gs[1])\n",
    "ax1.plot(x_full,y_full,'-',color=\"k\",linestyle=\"dashed\", label=\"M2 Measurements\")\n",
    "ax1.plot(x_full,mean_yfull_pred,color=\"tab:green\", lw=3 ,alpha=1.0, label=\"Gaussian process\")\n",
    "ax1.fill_between(\n",
    "    X_full.ravel(),\n",
    "    mean_yfull_pred - std_yfull_pred,\n",
    "    mean_yfull_pred + std_yfull_pred,\n",
    "    color=\"tab:green\",\n",
    "    alpha=0.2,\n",
    ")\n",
    "ax1.legend()\n",
    "\n",
    "ax1.set_ylabel(\"VAOD residuals\")\n",
    "ax1.set_xlabel(\"mjd\")\n",
    "ax1.set_title(\"Fit VAOD residuals with Gaussian process\")\n",
    "ax1.text(0.1, 0.95, txtstr_kernel, transform=ax1.transAxes, fontsize=12,verticalalignment='top', bbox=props)\n",
    "\n",
    "\n",
    "ax2.plot(x_full,residuals,'-',color=\"k\",linestyle=\"solid\", label=\"Residuals\")\n",
    "ax2.fill_between(\n",
    "    X_full.ravel(),\n",
    "    - std_yfull_pred,\n",
    "    std_yfull_pred,\n",
    "    color=\"tab:green\",\n",
    "    alpha=0.2,\n",
    ")\n",
    "ax2.legend()\n",
    "\n",
    "ax2.set_ylabel(\"VAOD residuals\")\n",
    "ax2.set_xlabel(\"mjd\")\n",
    "ax2.set_title(\"Residuals on Fit VAOD with Gaussian process\")\n",
    "ax2.axhline(0,color=\"tab:green\",linewidth=3)\n",
    "ax2.text(0.01, 0.95, txtstr_stat, transform=ax2.transAxes, fontsize=12,verticalalignment='top', bbox=props)\n",
    "\n",
    "figname =f\"{pathfigs}/vaod_fitgpfinalresidualsall_merra2\"+figtype\n",
    "\n",
    "fig.savefig(figname)\n",
    "plt.show()\n"
   ]
  },
  {
   "cell_type": "markdown",
   "id": "640e057f-bf23-4856-b9ab-06440b188821",
   "metadata": {},
   "source": [
    "### Statistical Law of jumps"
   ]
  },
  {
   "cell_type": "code",
   "execution_count": null,
   "id": "0a22336e-f5a4-4115-ac73-3ac015a728e2",
   "metadata": {
    "execution": {
     "iopub.execute_input": "2025-03-03T09:42:39.649243Z",
     "iopub.status.busy": "2025-03-03T09:42:39.649119Z",
     "iopub.status.idle": "2025-03-03T09:42:39.653093Z",
     "shell.execute_reply": "2025-03-03T09:42:39.652823Z",
     "shell.execute_reply.started": "2025-03-03T09:42:39.649232Z"
    }
   },
   "outputs": [],
   "source": [
    "# Ajustement d'une distribution alpha-stable aux résidus\n",
    "#residuals_subsamples = residuals[index_selected]\n",
    "#alpha, beta, loc, scale = levy_stable.fit(residuals_subsamples)\n",
    "#print(f\"Levy Stable process : alpha = {alpha:.3f} , beta = {beta:.3f}, loc = {loc:.3f} , scale = {scale:.3f}\")"
   ]
  },
  {
   "cell_type": "code",
   "execution_count": null,
   "id": "e0960e65-8e6a-43ab-9650-0228f542be23",
   "metadata": {
    "execution": {
     "iopub.execute_input": "2025-03-03T09:42:39.653555Z",
     "iopub.status.busy": "2025-03-03T09:42:39.653432Z",
     "iopub.status.idle": "2025-03-03T09:42:39.698689Z",
     "shell.execute_reply": "2025-03-03T09:42:39.698422Z",
     "shell.execute_reply.started": "2025-03-03T09:42:39.653544Z"
    }
   },
   "outputs": [],
   "source": [
    "params_c = cauchy.fit(residuals_subsamples)\n",
    "params_l = laplace.fit(residuals_subsamples)\n",
    "params_n = norm.fit(residuals_subsamples)\n",
    "\n",
    "loc_c,scale_c = params_c\n",
    "loc_l,scale_l = params_l\n",
    "loc_n,scale_n = params_n"
   ]
  },
  {
   "cell_type": "code",
   "execution_count": null,
   "id": "b427624e-dc02-4b62-a15a-78816a149df3",
   "metadata": {
    "execution": {
     "iopub.execute_input": "2025-03-03T09:42:39.699133Z",
     "iopub.status.busy": "2025-03-03T09:42:39.699015Z",
     "iopub.status.idle": "2025-03-03T09:42:39.703130Z",
     "shell.execute_reply": "2025-03-03T09:42:39.702851Z",
     "shell.execute_reply.started": "2025-03-03T09:42:39.699123Z"
    }
   },
   "outputs": [],
   "source": [
    "print(\"cauchy\",loc_c,scale_c)\n",
    "print(\"laplace\",loc_l,scale_l)\n",
    "print(\"norm\",loc_n,scale_n) "
   ]
  },
  {
   "cell_type": "code",
   "execution_count": null,
   "id": "9d1f6122-d1ce-4a88-aaf9-ae063f8feb6c",
   "metadata": {
    "execution": {
     "iopub.execute_input": "2025-03-03T09:42:39.703571Z",
     "iopub.status.busy": "2025-03-03T09:42:39.703453Z",
     "iopub.status.idle": "2025-03-03T09:42:39.712222Z",
     "shell.execute_reply": "2025-03-03T09:42:39.711946Z",
     "shell.execute_reply.started": "2025-03-03T09:42:39.703560Z"
    }
   },
   "outputs": [],
   "source": [
    "XXMAX = np.max(np.abs(residuals))\n",
    "XXMIN = - XXMAX\n",
    "xx = np.linspace(1.5*XXMIN,1.5*XXMAX,100)\n",
    "#rv = levy_stable(alpha, beta)\n",
    "rv_c = cauchy({'loc':loc_c,'scale':scale_c})\n",
    "rv_l = laplace({'loc':loc_l,'scale':scale_l})\n",
    "rv_n = norm({'loc':loc_n,'scale':scale_n})\n",
    "#rv_c = cauchy(params_c)\n",
    "#rv_l = laplace(params_l)\n",
    "#rv_n = norm(params_n)"
   ]
  },
  {
   "cell_type": "code",
   "execution_count": null,
   "id": "668d9707-acd0-45e3-9f26-b3707c39f04c",
   "metadata": {
    "execution": {
     "iopub.execute_input": "2025-03-03T09:42:39.712753Z",
     "iopub.status.busy": "2025-03-03T09:42:39.712630Z",
     "iopub.status.idle": "2025-03-03T09:42:43.563944Z",
     "shell.execute_reply": "2025-03-03T09:42:43.563410Z",
     "shell.execute_reply.started": "2025-03-03T09:42:39.712742Z"
    }
   },
   "outputs": [],
   "source": [
    "fig,(ax1,ax2) = plt.subplots(1,2,figsize=(10,4),layout=\"constrained\")\n",
    "\n",
    "plot_histdata_andfit(residuals[good_indexes_forresiduals],ax1,models, fitting, plotdata=True,datacolor=\"tab:green\",function_name=\"gauss\")\n",
    "plot_histdata_andfit(residuals[good_indexes_forresiduals],ax1,models, fitting,plotdata=False,datacolor=\"tab:green\",function_name=\"lorentz\")\n",
    "#ax1.hist(residuals,bins=50,facecolor=\"tab:blue\",density=True)\n",
    "ax1.set_title(\"VAOD final Residuals\")\n",
    "ax1.text(0.55, 0.95, txtstr_stat, transform=ax1.transAxes, fontsize=12,verticalalignment='top', bbox=props)\n",
    "ax1.set_xlabel(\"$\\Delta VAOD$\")\n",
    "#ax1.set_yscale(\"log\")\n",
    "#ax1.set_xlim(XXMIN,XXMAX)\n",
    "#ax1.plot(xx, rv.pdf(xx), 'k-', lw=2, label='Levy stable')\n",
    "#ax1.plot(xx, rv_c.pdf(xx), 'r-', lw=2, label='cauchy')\n",
    "#ax1.plot(xx, rv_l.pdf(xx), 'g-', lw=2, label='laplace')\n",
    "#ax1.plot(xx, rv_n.pdf(xx), 'b-', lw=2, label='norm')\n",
    "ax1.legend(loc=\"upper left\")\n",
    "ax1.set_ylim(0,1e3)\n",
    "\n",
    "\n",
    "#ax2.set_ylim(1e-3,1)\n",
    "ax2.set_title(\"VAOD final Residuals normalized\")\n",
    "#ax2.hist(residuals_normalized,bins=50,facecolor=\"tab:blue\",density=True)\n",
    "plot_histdata_andfit(residuals_normalized[good_indexes_forresiduals],ax2,models, fitting,plotdata=True,datacolor=\"tab:green\",function_name=\"gauss\")\n",
    "plot_histdata_andfit(residuals_normalized[good_indexes_forresiduals],ax2,models, fitting,plotdata=False,datacolor=\"tab:green\",function_name=\"lorentz\")\n",
    "#ax2.plot(xx, rv.pdf(xx), 'k-', lw=2, label='Levy stable pdf')\n",
    "#ax2.plot(xx, rv_c0.pdf(xx), 'r-', lw=2, label='cauchy')\n",
    "#ax2.plot(xx, rv_l0.pdf(xx), 'g-', lw=2, label='laplace')\n",
    "#ax2.plot(xx, rv_n0.pdf(xx), 'b-', lw=2, label='norm')\n",
    "ax2.set_xlabel(\"$\\\\frac{\\Delta VAOD}{\\sigma}$\")\n",
    "ax2.legend()\n",
    "ax2.set_xlim(-10.,10.)\n",
    "#ax2.set_yscale(\"log\")\n",
    "ax2.set_ylim(1e0,1e3)\n",
    "\n",
    "figname =f\"{pathfigs}/vaod_finalres_histdata_merra2\"+figtype\n",
    "fig.savefig(figname)\n",
    "plt.show()"
   ]
  },
  {
   "cell_type": "code",
   "execution_count": null,
   "id": "45713ff8-b529-4dbd-860b-2ce700f3e060",
   "metadata": {
    "execution": {
     "iopub.execute_input": "2025-03-03T09:42:43.564822Z",
     "iopub.status.busy": "2025-03-03T09:42:43.564621Z",
     "iopub.status.idle": "2025-03-03T09:42:43.569591Z",
     "shell.execute_reply": "2025-03-03T09:42:43.569116Z",
     "shell.execute_reply.started": "2025-03-03T09:42:43.564803Z"
    }
   },
   "outputs": [],
   "source": [
    "#fig,(ax1,ax2) = plt.subplots(1,2,figsize=(10,4),layout=\"constrained\")\n",
    "#ax1.hist(residuals,bins=50,facecolor=\"tab:green\",density=True)\n",
    "#ax1.set_title(\"VAOD final Residuals\")\n",
    "#ax1.text(0.55, 0.95, txtstr_stat, transform=ax1.transAxes, fontsize=12,verticalalignment='top', bbox=props)\n",
    "#ax1.set_xlabel(\"$\\Delta VAOD$\")\n",
    "#ax1.set_yscale(\"log\")\n",
    "#ax1.set_xlim(XXMIN,XXMAX)\n",
    "#ax1.plot(xx, rv.pdf(xx), 'k-', lw=2, label='Levy stable')\n",
    "#ax1.plot(xx, rv_c.pdf(xx), 'r-', lw=2, label='cauchy')\n",
    "#ax1.plot(xx, rv_l.pdf(xx), 'g-', lw=2, label='laplace')\n",
    "#ax1.plot(xx, rv_n.pdf(xx), 'b-', lw=2, label='norm')\n",
    "#ax1.legend(loc=\"upper left\")\n",
    "#ax1.set_ylim(1e-3,100)\n",
    "\n",
    "#ax2.plot(xx, rv.pdf(xx), 'k-', lw=2, label='Levy stable pdf')\n",
    "#ax2.plot(xx, rv_c.pdf(xx), 'r-', lw=2, label='cauchy')\n",
    "#ax2.plot(xx, rv_l.pdf(xx), 'g-', lw=2, label='laplace')\n",
    "#ax2.plot(xx, rv_n.pdf(xx), 'b-', lw=2, label='norm')\n",
    "#ax2.set_ylim(1e-3,100)\n",
    "#ax2.legend()\n",
    "#ax2.set_yscale(\"log\")\n",
    "\n",
    "#figname =f\"{pathfigs}/vaod_finalres_histdata_merra2\"+figtype\n",
    "#fig.savefig(figname)\n",
    "#plt.show()"
   ]
  },
  {
   "cell_type": "code",
   "execution_count": null,
   "id": "18e2f454-3562-4917-9012-add1b474a9c3",
   "metadata": {
    "execution": {
     "iopub.execute_input": "2025-03-03T09:42:43.570355Z",
     "iopub.status.busy": "2025-03-03T09:42:43.570165Z",
     "iopub.status.idle": "2025-03-03T09:42:44.083892Z",
     "shell.execute_reply": "2025-03-03T09:42:44.083385Z",
     "shell.execute_reply.started": "2025-03-03T09:42:43.570337Z"
    }
   },
   "outputs": [],
   "source": [
    "fig,ax = plt.subplots(1,1,figsize=(FIGXSIZE_0,FIGYSIZE_0),layout=\"constrained\")\n",
    "positive_freqs, positive_fft_values, sigma_x, _ = fourier_analysis(x_full,residuals,ax=ax ,mode= \"logxliny\",\n",
    "                 title = \"VAOD final residuals (absolute  FFT)\",\n",
    "                 #xlabel=\"frequency (days$^{-1}$)\",\n",
    "                 ylabel=\"\",\n",
    "                 label=\"FFT residuals\")\n",
    "\n",
    "#txtstr_sigma = \"$\\sigma$ = \" + f\" {sigma_x:0.3f}\"\n",
    "#ax.text(0.01, 0.95, txtstr_sigma, transform=ax.transAxes, fontsize=16,verticalalignment='top', bbox=props)\n",
    "\n",
    "figname =f\"{pathfigs}/vaod_finalres_FFTdata_merra2\"+figtype\n",
    "fig.savefig(figname)\n",
    "plt.show()"
   ]
  },
  {
   "cell_type": "code",
   "execution_count": null,
   "id": "3b9a261b-c370-4173-bf10-7f7e5618794d",
   "metadata": {
    "execution": {
     "iopub.execute_input": "2025-03-03T09:42:44.084705Z",
     "iopub.status.busy": "2025-03-03T09:42:44.084508Z",
     "iopub.status.idle": "2025-03-03T09:42:45.801654Z",
     "shell.execute_reply": "2025-03-03T09:42:45.801068Z",
     "shell.execute_reply.started": "2025-03-03T09:42:44.084687Z"
    }
   },
   "outputs": [],
   "source": [
    "fig,ax = plt.subplots(1,1,figsize = (FIGXSIZE_0,FIGYSIZE_0),layout=\"constrained\")\n",
    "LombScargle_analysis(x_full,residuals, ax=ax ,mode= \"logxliny\",\n",
    "                 title = \"LombScargle : VAOD residuals\",\n",
    "                 xlabel=\"frequency (days$^{-1}$)\",\n",
    "                 #ylabel=\"VAOD\",\n",
    "                 label=\"Merra2 VAOD\")\n",
    "figname =f\"{pathfigs}/vaod_finalres_LombScargle_merra2\"+figtype\n",
    "fig.savefig(figname)\n",
    "plt.show()"
   ]
  },
  {
   "cell_type": "markdown",
   "id": "70e98d5e-523d-423b-8b16-808ca897107c",
   "metadata": {},
   "source": [
    "## Aerosol Angstrom"
   ]
  },
  {
   "cell_type": "code",
   "execution_count": null,
   "id": "80f313dd-5016-483d-a23c-851f8f20bdfb",
   "metadata": {
    "execution": {
     "iopub.execute_input": "2025-03-03T09:42:45.802274Z",
     "iopub.status.busy": "2025-03-03T09:42:45.802149Z",
     "iopub.status.idle": "2025-03-03T09:42:45.806830Z",
     "shell.execute_reply": "2025-03-03T09:42:45.806482Z",
     "shell.execute_reply.started": "2025-03-03T09:42:45.802263Z"
    }
   },
   "outputs": [],
   "source": [
    "index_fn = 3\n",
    "full_filename = os.path.join(pathdata,files_residuals[index_fn])"
   ]
  },
  {
   "cell_type": "code",
   "execution_count": null,
   "id": "c132f7c3-a953-4388-b6dd-8f62a3eee272",
   "metadata": {
    "execution": {
     "iopub.execute_input": "2025-03-03T09:42:45.807323Z",
     "iopub.status.busy": "2025-03-03T09:42:45.807202Z",
     "iopub.status.idle": "2025-03-03T09:42:45.842489Z",
     "shell.execute_reply": "2025-03-03T09:42:45.842156Z",
     "shell.execute_reply.started": "2025-03-03T09:42:45.807311Z"
    }
   },
   "outputs": [],
   "source": [
    "df = pd.read_csv(full_filename,index_col=0)\n",
    "N = len(df)"
   ]
  },
  {
   "cell_type": "code",
   "execution_count": null,
   "id": "ad08e379-b70f-4eb9-b5d9-f9eca22bafca",
   "metadata": {
    "execution": {
     "iopub.execute_input": "2025-03-03T09:42:45.843031Z",
     "iopub.status.busy": "2025-03-03T09:42:45.842912Z",
     "iopub.status.idle": "2025-03-03T09:42:45.847457Z",
     "shell.execute_reply": "2025-03-03T09:42:45.847122Z",
     "shell.execute_reply.started": "2025-03-03T09:42:45.843020Z"
    }
   },
   "outputs": [],
   "source": [
    "x_full = df[\"mjd\"].values\n",
    "y_full = df[\"res\"].values\n",
    "X_full = x_full.reshape(-1, 1)"
   ]
  },
  {
   "cell_type": "code",
   "execution_count": null,
   "id": "69eb18a6-d445-495e-814d-ea2503710aef",
   "metadata": {
    "execution": {
     "iopub.execute_input": "2025-03-03T09:42:45.847987Z",
     "iopub.status.busy": "2025-03-03T09:42:45.847869Z",
     "iopub.status.idle": "2025-03-03T09:42:45.855170Z",
     "shell.execute_reply": "2025-03-03T09:42:45.854825Z",
     "shell.execute_reply.started": "2025-03-03T09:42:45.847976Z"
    }
   },
   "outputs": [],
   "source": [
    "tmin_select = 59500\n",
    "tmax_select = x_full.max()\n",
    "good_indexes_forresiduals = np.where(np.logical_and(x_full > tmin_select, x_full< tmax_select ))[0]"
   ]
  },
  {
   "cell_type": "code",
   "execution_count": null,
   "id": "da4bad31-a57c-4d34-9a65-0052c1e5e8d8",
   "metadata": {
    "execution": {
     "iopub.execute_input": "2025-03-03T09:42:45.855723Z",
     "iopub.status.busy": "2025-03-03T09:42:45.855605Z",
     "iopub.status.idle": "2025-03-03T09:42:45.989879Z",
     "shell.execute_reply": "2025-03-03T09:42:45.989473Z",
     "shell.execute_reply.started": "2025-03-03T09:42:45.855713Z"
    }
   },
   "outputs": [],
   "source": [
    "fig,ax = plt.subplots(1,1,figsize=(4,3))\n",
    "ax.hist(y_full[good_indexes_forresiduals],bins=200,facecolor=\"tab:purple\");\n",
    "ax.set_xlabel(\"angstrom\")\n",
    "ax.set_title(\"input residuals Angstrom\")"
   ]
  },
  {
   "cell_type": "code",
   "execution_count": null,
   "id": "54c11669-5662-4498-a93e-f5f706307c5c",
   "metadata": {
    "execution": {
     "iopub.execute_input": "2025-03-03T09:42:45.990448Z",
     "iopub.status.busy": "2025-03-03T09:42:45.990325Z",
     "iopub.status.idle": "2025-03-03T09:42:46.288403Z",
     "shell.execute_reply": "2025-03-03T09:42:46.288028Z",
     "shell.execute_reply.started": "2025-03-03T09:42:45.990437Z"
    }
   },
   "outputs": [],
   "source": [
    "fig = plt.figure(figsize=(FIGXSIZE_0,FIGYSIZE_0),layout=\"constrained\")\n",
    "#gs = GridSpec(2, 1,figure=fig)\n",
    "gs = GridSpec(1, 1,figure=fig)\n",
    "ax1 = fig.add_subplot(gs[0])\n",
    "#ax2 = fig.add_subplot(gs[1])\n",
    "        \n",
    "leg1=ax1.get_legend()\n",
    "#leg2=ax2.get_legend()\n",
    "ax1.plot(x_full,y_full,c=\"tab:purple\",lw=1,label=\"Merra2\")\n",
    "ax1.set_xlabel(\"time (MJD)\")\n",
    "ax1.legend()\n",
    "ax1.set_ylabel(\"Angstrom residuals\")\n",
    "ax1.set_title(\"Angstrom residuals wrt periodic fit\")\n",
    "figname =f\"{pathfigs}/angstrom_resGPper_timeseqall_merra2\"+figtype\n",
    "fig.savefig(figname)\n",
    "plt.show()"
   ]
  },
  {
   "cell_type": "code",
   "execution_count": null,
   "id": "ee2dec36-724d-42ff-936a-12edb290c5ea",
   "metadata": {
    "execution": {
     "iopub.execute_input": "2025-03-03T09:42:46.289026Z",
     "iopub.status.busy": "2025-03-03T09:42:46.288900Z",
     "iopub.status.idle": "2025-03-03T09:42:46.797029Z",
     "shell.execute_reply": "2025-03-03T09:42:46.796650Z",
     "shell.execute_reply.started": "2025-03-03T09:42:46.289014Z"
    }
   },
   "outputs": [],
   "source": [
    "fig,ax = plt.subplots(1,1,figsize=(FIGXSIZE_0,FIGYSIZE_0),layout=\"constrained\")\n",
    "positive_freqs, positive_fft_values, sigma_x, _ = fourier_analysis(x_full,y_full,ax=ax ,mode= \"logxliny\",\n",
    "                 title = \"Angstrom residuals after GP-Periodic removal (absolute  FFT)\",\n",
    "                 xlabel=\"frequency (days$^{-1}$)\",\n",
    "                 ylabel=\"\",\n",
    "                 label=\"FFT residuals\")\n",
    "\n",
    "#txtstr_sigma = \"$\\sigma$ = \" + f\" {sigma_x:0.3f}\"\n",
    "#ax.text(0.01, 0.95, txtstr_sigma, transform=ax.transAxes, fontsize=16,verticalalignment='top', bbox=props)\n",
    "\n",
    "figname =f\"{pathfigs}/angstrom_resGPper_FFTdata_merra2\"+figtype\n",
    "fig.savefig(figname)\n",
    "plt.show()"
   ]
  },
  {
   "cell_type": "markdown",
   "id": "df1f80a5-6a94-46ec-b28b-0a9b49c503be",
   "metadata": {},
   "source": [
    "### Define kernels"
   ]
  },
  {
   "cell_type": "code",
   "execution_count": null,
   "id": "bf5d9f16-c0ff-4e96-bf7d-a2061a40ff64",
   "metadata": {
    "execution": {
     "iopub.execute_input": "2025-03-03T09:42:46.797648Z",
     "iopub.status.busy": "2025-03-03T09:42:46.797520Z",
     "iopub.status.idle": "2025-03-03T09:42:46.805527Z",
     "shell.execute_reply": "2025-03-03T09:42:46.805194Z",
     "shell.execute_reply.started": "2025-03-03T09:42:46.797636Z"
    }
   },
   "outputs": [],
   "source": [
    "# Tendance long terme\n",
    "long_term_trend_kernel = ConstantKernel(1., (0.0, 4.0)) * RBF(length_scale=365.0)\n",
    "\n",
    "\n",
    "periodic_1year_kernel =  ConstantKernel(1., (0, 4.)) * ExpSineSquared(length_scale= 10*YEAR, periodicity= YEAR,\n",
    "                                                                           length_scale_bounds=\"fixed\",periodicity_bounds=\"fixed\")\n",
    "periodic_6months_kernel = ConstantKernel(1., (0, 4.)) * ExpSineSquared(length_scale= 20*MONTHS6,periodicity=MONTHS6,\n",
    "                                                                            length_scale_bounds=\"fixed\",periodicity_bounds=\"fixed\") \n",
    "periodic_3months_kernel = ConstantKernel(1., (0, 4.)) * ExpSineSquared(length_scale= 40*QUARTER, periodicity=QUARTER,\n",
    "                                                                            length_scale_bounds=\"fixed\",periodicity_bounds=\"fixed\")\n",
    "periodic_4months_kernel = ConstantKernel(1., (0, 4.)) * ExpSineSquared(length_scale= 30*MONTHS4, periodicity=MONTHS4,\n",
    "                                                                            length_scale_bounds=\"fixed\",periodicity_bounds=\"fixed\")\n",
    "\n",
    "periodic_1months_kernel = ConstantKernel(1., (0, 4.)) * ExpSineSquared(length_scale= 4+12*MONTH, periodicity=MONTH,\n",
    "                                                                            length_scale_bounds=\"fixed\",periodicity_bounds=\"fixed\")\n",
    "\n",
    "\n",
    "seasonal_enveloppe = RBF(length_scale=YEAR, length_scale_bounds=(0.5*YEAR, 10*YEAR))\n",
    "\n",
    "# Saisonnalité multi-échelle\n",
    "seasonal_kernel = (\n",
    "    #seasonal_enveloppe * ( periodic_1year_kernel + periodic_6months_kernel + periodic_3months_kernel)\n",
    "    #seasonal_enveloppe * ( periodic_1year_kernel  + periodic_3months_kernel)\n",
    "    #periodic_1year_kernel  + periodic_6months_kernel + periodic_3months_kernel\n",
    "    periodic_1year_kernel  + periodic_6months_kernel + periodic_4months_kernel + periodic_3months_kernel\n",
    "    #periodic_1year_kernel\n",
    ")\n",
    "# variation journaliere\n",
    "#periodic_1day_kernel = ConstantKernel(2.5, (0., 10.0)) * ExpSineSquared(length_scale= 4*YEAR, periodicity=DAY,\n",
    "#                                                                            length_scale_bounds=\"fixed\",periodicity_bounds=\"fixed\")\n",
    "\n",
    "periodic_1day_kernel = ConstantKernel(1., (0., 4.0)) *  RBF(length_scale=DAY,length_scale_bounds=\"fixed\")\n",
    "\n",
    "\n",
    "# Petites fluctuations irrégulières\n",
    "#irregularities_kernel = ConstantKernel(1., (0.0, 4.0)) * RationalQuadratic(length_scale=DAY, alpha=1.0)\n",
    "#irregularities_kernel = ConstantKernel(1, (0.0, 4.0)) * Matern(length_scale=DAY, nu=1.5) +  ConstantKernel(1., (0.0, 4.)) * RationalQuadratic(length_scale=DAY, alpha=1.0)\n",
    "irregularities_kernel = ConstantKernel(1.0, (0.0, 4.0)) * Matern(length_scale=DAY, nu=0.5) + ConstantKernel(1.0, (0.0, 4.0)) * RationalQuadratic(length_scale=DAY, alpha=1.0)\n",
    "\n",
    "\n",
    "\n",
    "# Bruit et variations locales\n",
    "noise_kernel = ConstantKernel(1., (0., 4.0)) * RBF(length_scale=1.0) + WhiteKernel(noise_level=1.0**2)\n",
    "#noise_kernel = ConstantKernel(1.0, (0., 10.0)) * RBF(length_scale=1.0) \n",
    "\n",
    "# Kernel total\n",
    "#full_kernel = long_term_trend_kernel + seasonal_kernel + irregularities_kernel + noise_kernel\n",
    "#full_kernel = seasonal_kernel + irregularities_kernel\n",
    "#full_kernel = irregularities_kernel + WhiteKernel(noise_level=1**2)\n",
    "#full_kernel = irregularities_kernel + periodic_1day_kernel + noise_kernel\n",
    "full_kernel = irregularities_kernel * seasonal_enveloppe"
   ]
  },
  {
   "cell_type": "code",
   "execution_count": null,
   "id": "c01c5914-9d2d-49fa-bb0f-809dbf542ad8",
   "metadata": {
    "execution": {
     "iopub.execute_input": "2025-03-03T09:42:46.806072Z",
     "iopub.status.busy": "2025-03-03T09:42:46.805955Z",
     "iopub.status.idle": "2025-03-03T09:42:46.813949Z",
     "shell.execute_reply": "2025-03-03T09:42:46.813613Z",
     "shell.execute_reply.started": "2025-03-03T09:42:46.806060Z"
    },
    "tags": []
   },
   "outputs": [],
   "source": [
    "angstrom_kernel = (\n",
    "    full_kernel\n",
    ")"
   ]
  },
  {
   "cell_type": "markdown",
   "id": "79fef7cb-8465-456a-a3d8-bc0b3746ffb6",
   "metadata": {},
   "source": [
    "### subsample"
   ]
  },
  {
   "cell_type": "code",
   "execution_count": null,
   "id": "e0fae561-a615-41d3-a585-c4b911c36cd4",
   "metadata": {
    "execution": {
     "iopub.execute_input": "2025-03-03T09:42:46.814449Z",
     "iopub.status.busy": "2025-03-03T09:42:46.814333Z",
     "iopub.status.idle": "2025-03-03T09:42:46.820813Z",
     "shell.execute_reply": "2025-03-03T09:42:46.820482Z",
     "shell.execute_reply.started": "2025-03-03T09:42:46.814438Z"
    }
   },
   "outputs": [],
   "source": [
    "NSAMP = 4000\n",
    "a = np.arange(0,N ,1)\n",
    "b = np.random.choice(a, size=NSAMP,replace = False)\n",
    "index_selected = np.sort(b)"
   ]
  },
  {
   "cell_type": "code",
   "execution_count": null,
   "id": "9c14327f-4a8e-4edc-bd41-f4632491b367",
   "metadata": {
    "execution": {
     "iopub.execute_input": "2025-03-03T09:42:46.821390Z",
     "iopub.status.busy": "2025-03-03T09:42:46.821247Z",
     "iopub.status.idle": "2025-03-03T09:42:46.826486Z",
     "shell.execute_reply": "2025-03-03T09:42:46.826145Z",
     "shell.execute_reply.started": "2025-03-03T09:42:46.821379Z"
    }
   },
   "outputs": [],
   "source": [
    "# subset of values choosen randomly to be fitted on \n",
    "x = x_full[index_selected]\n",
    "X = x.reshape(-1, 1)\n",
    "y = y_full[index_selected]"
   ]
  },
  {
   "cell_type": "markdown",
   "id": "091d3306-aaa1-42d5-8aed-8594d4d83d42",
   "metadata": {},
   "source": [
    "### Fit the gaussian process model"
   ]
  },
  {
   "cell_type": "code",
   "execution_count": null,
   "id": "57499637-edec-44d9-bb72-6068b655beb4",
   "metadata": {
    "execution": {
     "iopub.execute_input": "2025-03-03T09:42:46.827030Z",
     "iopub.status.busy": "2025-03-03T09:42:46.826909Z"
    },
    "tags": []
   },
   "outputs": [],
   "source": [
    "gaussian_process = GaussianProcessRegressor(kernel=angstrom_kernel, normalize_y= True)\n",
    "gaussian_process.fit(X, y )"
   ]
  },
  {
   "cell_type": "code",
   "execution_count": null,
   "id": "5a7681c3-3d37-4b4b-b10a-d3933f28567a",
   "metadata": {},
   "outputs": [],
   "source": [
    "txtstr_kernel = f\"{gaussian_process.kernel_}\"\n",
    "txtstr_kernel = \"\\n + \".join(txtstr_kernel.split(\"+ \"))"
   ]
  },
  {
   "cell_type": "markdown",
   "id": "7ebef1b7-9631-4930-a736-afaf854a7af3",
   "metadata": {},
   "source": [
    "### Prediction"
   ]
  },
  {
   "cell_type": "code",
   "execution_count": null,
   "id": "44d032b8-d92f-481e-bd21-c7cf31ac06bd",
   "metadata": {},
   "outputs": [],
   "source": [
    "mjd_min = x_full.min()\n",
    "mjd_max = x_full.max() + YEAR\n",
    "mjd_zoom_start = Time(\"2024-01-01\").mjd\n",
    "mjd_zoom_stop = Time(\"2025-06-30\").mjd"
   ]
  },
  {
   "cell_type": "code",
   "execution_count": null,
   "id": "d0ef28be-7595-439f-9b4e-60266849642f",
   "metadata": {
    "tags": []
   },
   "outputs": [],
   "source": [
    "x_test = np.arange(start=mjd_min, stop=mjd_max,step=2)\n",
    "X_test = x_test.reshape(-1,1)\n",
    "mean_y_pred, std_y_pred = gaussian_process.predict(X_test, return_std=True)"
   ]
  },
  {
   "cell_type": "code",
   "execution_count": null,
   "id": "27b4eef1-a8d5-4ad9-bd57-dc877ebaea61",
   "metadata": {
    "tags": []
   },
   "outputs": [],
   "source": [
    "fig = plt.figure(figsize=(FIGXSIZE_1,FIGYSIZE_1),layout=\"constrained\")\n",
    "gs = GridSpec(2, 1,figure=fig)\n",
    "#gs = GridSpec(1, 1,figure=fig)\n",
    "ax1 = fig.add_subplot(gs[0])\n",
    "ax2 = fig.add_subplot(gs[1])\n",
    "ax1.plot(x,y,'-',color=\"k\",linestyle=\"dashed\", label=\"M2 Measurements\")\n",
    "ax1.plot(x_test,mean_y_pred,color=\"tab:purple\",lw=3 ,alpha=1.0, label=\"Gaussian process\")\n",
    "ax1.fill_between(\n",
    "    X_test.ravel(),\n",
    "    mean_y_pred - std_y_pred,\n",
    "    mean_y_pred + std_y_pred,\n",
    "    color=\"tab:purple\",\n",
    "    alpha=0.2,\n",
    ")\n",
    "ax1.legend()\n",
    "\n",
    "ax1.set_ylabel(\"Angstrom\")\n",
    "ax1.set_xlabel(\"mjd\")\n",
    "ax1.set_title(\"Fit Aerosol Angstrom exponent with Gaussian process\")\n",
    "ax1.text(0.1, 0.95, txtstr_kernel, transform=ax1.transAxes, fontsize=12,verticalalignment='top', bbox=props)\n",
    "\n",
    "ax2.plot(x,y,'-',color=\"k\",linestyle=\"dashed\", label=\"M2 Measurements\")\n",
    "ax2.plot(x_test,mean_y_pred,color=\"tab:purple\", lw=3, alpha=1.0, label=\"Gaussian process\")\n",
    "ax2.fill_between(\n",
    "    X_test.ravel(),\n",
    "    mean_y_pred - std_y_pred,\n",
    "    mean_y_pred + std_y_pred,\n",
    "    color=\"tab:purple\",\n",
    "    alpha=0.2,\n",
    ")\n",
    "ax2.legend()\n",
    "\n",
    "\n",
    "ax2.set_ylabel(\"Angstrom\")\n",
    "ax2.set_xlabel(\"mjd\")\n",
    "ax2.set_title(\"Time-Zoom on Angstrom exponent with Gaussian process\")\n",
    "ax2.set_xlim(mjd_zoom_start,mjd_zoom_stop)\n",
    "ax2.text(0.1, 0.95, txtstr_kernel, transform=ax2.transAxes, fontsize=12,verticalalignment='top', bbox=props)\n",
    "\n",
    "\n",
    "figname =f\"{pathfigs}/angstrom_fitgpPeriodicresidualsubsample_merra2\"+figtype\n",
    "fig.savefig(figname)\n",
    "plt.show()\n"
   ]
  },
  {
   "cell_type": "markdown",
   "id": "3a76af3d-d256-44e4-b1eb-fc6438a58a92",
   "metadata": {},
   "source": [
    "### Residuals on the whole statistics"
   ]
  },
  {
   "cell_type": "code",
   "execution_count": null,
   "id": "a26c4534-0a73-4be5-815c-c014f237951c",
   "metadata": {},
   "outputs": [],
   "source": [
    "mean_yfull_pred, std_yfull_pred = gaussian_process.predict(X_full, return_std=True)"
   ]
  },
  {
   "cell_type": "code",
   "execution_count": null,
   "id": "0d7ae45c-b7a5-4d3d-b366-1408cdaf025d",
   "metadata": {},
   "outputs": [],
   "source": [
    "residuals = y_full -  mean_yfull_pred\n",
    "residuals_normalized = residuals/std_yfull_pred"
   ]
  },
  {
   "cell_type": "code",
   "execution_count": null,
   "id": "394d41dd-d38f-4c0b-855d-d9c1fbd4596f",
   "metadata": {},
   "outputs": [],
   "source": [
    "stat_mean = np.mean(residuals[good_indexes_forresiduals])\n",
    "stat_med = np.median(residuals[good_indexes_forresiduals])\n",
    "stat_std = np.std(residuals[good_indexes_forresiduals])"
   ]
  },
  {
   "cell_type": "code",
   "execution_count": null,
   "id": "5595dfc7-68b1-4320-ba31-b9a19e558298",
   "metadata": {},
   "outputs": [],
   "source": [
    "txtstr_stat = [f\"mean = {stat_mean:.3f}\", f\"median = {stat_med:.3f}\",f\"std = {stat_std:.3f}\"]\n",
    "txtstr_stat = \"\\n\".join(txtstr_stat)"
   ]
  },
  {
   "cell_type": "code",
   "execution_count": null,
   "id": "4463cd5b-f15d-41e8-86ed-aa72fe5a5a6d",
   "metadata": {},
   "outputs": [],
   "source": [
    "fig = plt.figure(figsize=(FIGXSIZE_1,FIGYSIZE_1),layout=\"constrained\")\n",
    "gs = GridSpec(2, 1,figure=fig)\n",
    "#gs = GridSpec(1, 1,figure=fig)\n",
    "ax1 = fig.add_subplot(gs[0])\n",
    "ax2 = fig.add_subplot(gs[1],sharey=ax1)\n",
    "ax1.plot(x_full,y_full,'-',color=\"k\",linestyle=\"dashed\", label=\"M2 Measurements\")\n",
    "ax1.plot(x_full,mean_yfull_pred,color=\"tab:purple\", lw=3 ,alpha=1.0, label=\"Gaussian process\")\n",
    "ax1.fill_between(\n",
    "    X_full.ravel(),\n",
    "    mean_yfull_pred - std_yfull_pred,\n",
    "    mean_yfull_pred + std_yfull_pred,\n",
    "    color=\"tab:purple\",\n",
    "    alpha=0.2,\n",
    ")\n",
    "ax1.legend()\n",
    "\n",
    "ax1.set_ylabel(\"Angstrom exponent\")\n",
    "ax1.set_xlabel(\"mjd\")\n",
    "ax1.set_title(\"Fit Angstrom with Gaussian process\")\n",
    "ax1.text(0.3, 0.95, txtstr_kernel, transform=ax1.transAxes, fontsize=12,verticalalignment='top', bbox=props)\n",
    "\n",
    "\n",
    "ax2.plot(x_full,residuals,'-',color=\"k\",linestyle=\"solid\", label=\"Residuals\")\n",
    "ax2.fill_between(\n",
    "    X_full.ravel(),\n",
    "    - std_yfull_pred,\n",
    "    std_yfull_pred,\n",
    "    color=\"tab:purple\",\n",
    "    alpha=0.2,\n",
    ")\n",
    "ax2.legend()\n",
    "\n",
    "ax2.set_ylabel(\"Angstrom residuals\")\n",
    "ax2.set_xlabel(\"mjd\")\n",
    "ax2.set_title(\"Residuals on Fit Angstrom exponent with Gaussian process\")\n",
    "ax2.axhline(0,color=\"tab:purple\",linewidth=3)\n",
    "ax2.text(0.01, 0.95, txtstr_stat, transform=ax2.transAxes, fontsize=12,verticalalignment='top', bbox=props)\n",
    "\n",
    "\n",
    "figname =f\"{pathfigs}/angstrom_fitgpfinalresidualsall_merra2\"+figtype\n",
    "fig.savefig(figname)\n",
    "plt.show()\n"
   ]
  },
  {
   "cell_type": "markdown",
   "id": "5163a1b7-7a3f-4311-9429-3e6e5ebce4e5",
   "metadata": {},
   "source": [
    "### Statistical law of jumps"
   ]
  },
  {
   "cell_type": "code",
   "execution_count": null,
   "id": "bd0c550b-07fa-4fcf-9fb2-bdf709f6d409",
   "metadata": {},
   "outputs": [],
   "source": [
    "# Ajustement d'une distribution alpha-stable aux résidus\n",
    "residuals_subsamples = residuals[index_selected]\n",
    "#alpha, beta, loc, scale = levy_stable.fit(residuals_subsamples)\n",
    "#print(f\"Levy Stable process : alpha = {alpha:.3f} , beta = {beta:.3f}, loc = {loc:.3f} , scale = {scale:.3f}\")"
   ]
  },
  {
   "cell_type": "code",
   "execution_count": null,
   "id": "6a70e69e-0dc3-4e6f-a4f3-d954eedb694e",
   "metadata": {},
   "outputs": [],
   "source": [
    "loc_c,scale_c = cauchy.fit(residuals_subsamples)\n",
    "loc_l,scale_l = laplace.fit(residuals_subsamples)\n",
    "loc_n,scale_n = norm.fit(residuals_subsamples)"
   ]
  },
  {
   "cell_type": "code",
   "execution_count": null,
   "id": "54fa58ec-19c4-4b1b-88db-bab7c02cf7b5",
   "metadata": {},
   "outputs": [],
   "source": [
    "print(\"cauchy\",loc_c,scale_c)\n",
    "print(\"laplace\",loc_l,scale_l)\n",
    "print(\"norm\",loc_n,scale_n) "
   ]
  },
  {
   "cell_type": "code",
   "execution_count": null,
   "id": "a10a38a6-85e2-445f-a2b8-22c91d7df594",
   "metadata": {},
   "outputs": [],
   "source": [
    "XXMAX = np.max(np.abs(residuals))\n",
    "XXMIN = - XXMAX\n",
    "xx = np.linspace(1.5*XXMIN,1.5*XXMAX,100)\n",
    "#rv = levy_stable(alpha, beta)\n",
    "#rv_c = cauchy({'loc':loc_c,'scale':scale_c})\n",
    "#rv_l = laplace({'loc':loc_l,'scale':scale_l})\n",
    "#rv_n = norm({'loc':loc_n,'scale':scale_n})\n",
    "rv_c = cauchy()\n",
    "rv_l = laplace()\n",
    "rv_n = norm()"
   ]
  },
  {
   "cell_type": "code",
   "execution_count": null,
   "id": "d6f5af68-ba6d-47ab-9ee6-75ee7da73263",
   "metadata": {},
   "outputs": [],
   "source": [
    "fig,(ax1,ax2) = plt.subplots(1,2,figsize=(10,4),layout=\"constrained\")\n",
    "\n",
    "plot_histdata_andfit(residuals[good_indexes_forresiduals],ax1,models, fitting, plotdata=True,datacolor=\"tab:purple\",function_name=\"gauss\")\n",
    "plot_histdata_andfit(residuals[good_indexes_forresiduals],ax1,models, fitting,plotdata=False,datacolor=\"tab:purple\",function_name=\"lorentz\")\n",
    "#ax1.hist(residuals,bins=50,facecolor=\"tab:blue\",density=True)\n",
    "ax1.set_title(\"Angstrom final Residuals\")\n",
    "ax1.text(0.55, 0.95, txtstr_stat, transform=ax1.transAxes, fontsize=12,verticalalignment='top', bbox=props)\n",
    "ax1.set_xlabel(\"$\\Delta Angstrom$\")\n",
    "#ax1.set_yscale(\"log\")\n",
    "#ax1.set_xlim(XXMIN,XXMAX)\n",
    "#ax1.plot(xx, rv.pdf(xx), 'k-', lw=2, label='Levy stable')\n",
    "#ax1.plot(xx, rv_c.pdf(xx), 'r-', lw=2, label='cauchy')\n",
    "#ax1.plot(xx, rv_l.pdf(xx), 'g-', lw=2, label='laplace')\n",
    "#ax1.plot(xx, rv_n.pdf(xx), 'b-', lw=2, label='norm')\n",
    "ax1.legend(loc=\"upper left\")\n",
    "ax1.set_ylim(0,2e3)\n",
    "\n",
    "\n",
    "#ax2.set_ylim(1e-3,1)\n",
    "ax2.set_title(\"Angstrom final Residuals normalized\")\n",
    "#ax2.hist(residuals_normalized,bins=50,facecolor=\"tab:blue\",density=True)\n",
    "plot_histdata_andfit(residuals_normalized[good_indexes_forresiduals],ax2,models, fitting,plotdata=True,datacolor=\"tab:purple\",function_name=\"gauss\")\n",
    "plot_histdata_andfit(residuals_normalized[good_indexes_forresiduals],ax2,models, fitting,plotdata=False,datacolor=\"tab:purple\",function_name=\"lorentz\")\n",
    "#ax2.plot(xx, rv.pdf(xx), 'k-', lw=2, label='Levy stable pdf')\n",
    "#ax2.plot(xx, rv_c0.pdf(xx), 'r-', lw=2, label='cauchy')\n",
    "#ax2.plot(xx, rv_l0.pdf(xx), 'g-', lw=2, label='laplace')\n",
    "#ax2.plot(xx, rv_n0.pdf(xx), 'b-', lw=2, label='norm')\n",
    "ax2.set_xlabel(\"$\\\\frac{\\Delta Angstrom}{\\sigma}$\")\n",
    "ax2.legend()\n",
    "ax2.set_xlim(-10.,10.)\n",
    "#ax2.set_yscale(\"log\")\n",
    "ax2.set_ylim(1e0,2e3)\n",
    "\n",
    "figname =f\"{pathfigs}/angstrom_finalres_histdata_merra2\"+figtype\n",
    "fig.savefig(figname)\n",
    "plt.show()"
   ]
  },
  {
   "cell_type": "code",
   "execution_count": null,
   "id": "8c1acaf2-90fd-4449-9d6c-a3a70b0ddf48",
   "metadata": {},
   "outputs": [],
   "source": [
    "#fig,(ax1,ax2) = plt.subplots(1,2,figsize=(10,4),layout=\"constrained\")\n",
    "#ax1.hist(residuals,bins=50,facecolor=\"tab:purple\",density=True)\n",
    "#ax1.set_title(\"Angstrom final Residuals\")\n",
    "#ax1.text(0.55, 0.95, txtstr_stat, transform=ax1.transAxes, fontsize=12,verticalalignment='top', bbox=props)\n",
    "#ax1.set_xlabel(\"$\\Delta$ Angstrom\")\n",
    "#ax1.set_yscale(\"log\")\n",
    "#ax1.set_xlim(XXMIN,XXMAX)\n",
    "#ax1.plot(xx, rv.pdf(xx), 'k-', lw=2, label='Levy stable')\n",
    "#ax1.plot(xx, rv_c.pdf(xx), 'r-', lw=2, label='cauchy')\n",
    "#ax1.plot(xx, rv_l.pdf(xx), 'g-', lw=2, label='laplace')\n",
    "#ax1.plot(xx, rv_n.pdf(xx), 'b-', lw=2, label='norm')\n",
    "#ax1.legend(loc=\"upper left\")\n",
    "#ax1.set_ylim(1e-3,100)\n",
    "\n",
    "#ax2.plot(xx, rv.pdf(xx), 'k-', lw=2, label='Levy stable pdf')\n",
    "#ax2.plot(xx, rv_c.pdf(xx), 'r-', lw=2, label='cauchy')\n",
    "#ax2.plot(xx, rv_l.pdf(xx), 'g-', lw=2, label='laplace')\n",
    "#ax2.plot(xx, rv_n.pdf(xx), 'b-', lw=2, label='norm')\n",
    "#ax2.set_ylim(1e-3,100)\n",
    "#ax2.legend()\n",
    "#ax2.set_yscale(\"log\")\n",
    "\n",
    "#figname =f\"{pathfigs}/angstrom_finalres_histdata_merra2\"+figtype\n",
    "#fig.savefig(figname)\n",
    "#plt.show()"
   ]
  },
  {
   "cell_type": "code",
   "execution_count": null,
   "id": "bc6d577f-2cf4-4746-833a-9871e6159b64",
   "metadata": {},
   "outputs": [],
   "source": [
    "#fig,ax = plt.subplots(1,1,figsize=(6,4),layout=\"constrained\")\n",
    "#ax.hist(residuals,bins=50,facecolor=\"tab:purple\")\n",
    "#ax.set_title(\"Residuals to Angstrol GP periodic model\")\n",
    "#ax.text(0.45, 0.95, txtstr_stat, transform=ax.transAxes, fontsize=12,verticalalignment='top', bbox=props)\n",
    "#ax.set_xlabel(\"$\\Delta$ Angstrom\")\n",
    "#figname =f\"{pathfigs}/angstrom_finalres_histdata_merra2\"+figtype\n",
    "#fig.savefig(figname)\n",
    "#plt.show()"
   ]
  },
  {
   "cell_type": "code",
   "execution_count": null,
   "id": "4cedfaea-71c3-4639-b3ad-7ec95950d65f",
   "metadata": {},
   "outputs": [],
   "source": [
    "fig,ax = plt.subplots(1,1,figsize=(FIGXSIZE_0,FIGYSIZE_0),layout=\"constrained\")\n",
    "positive_freqs, positive_fft_values, sigma_x, _ = fourier_analysis(x_full,residuals,ax=ax ,mode= \"logxliny\",\n",
    "                 title = \"Angstrom final residuals (absolute  FFT)\",\n",
    "                 #xlabel=\"frequency (days$^{-1}$)\",\n",
    "                 ylabel=\"\",\n",
    "                 label=\"FFT residuals\")\n",
    "\n",
    "#txtstr_sigma = \"$\\sigma$ = \" + f\" {sigma_x:0.3f}\"\n",
    "#ax.text(0.01, 0.95, txtstr_sigma, transform=ax.transAxes, fontsize=16,verticalalignment='top', bbox=props)\n",
    "\n",
    "figname =f\"{pathfigs}/angstrom_finalres_FFTdata_merra2\"+figtype\n",
    "fig.savefig(figname)\n",
    "plt.show()"
   ]
  },
  {
   "cell_type": "code",
   "execution_count": null,
   "id": "74461b4f-553a-4ab8-9605-4c6ac15783a8",
   "metadata": {},
   "outputs": [],
   "source": [
    "fig,ax = plt.subplots(1,1,figsize = (FIGXSIZE_0,FIGYSIZE_0),layout=\"constrained\")\n",
    "LombScargle_analysis(x_full,residuals, ax=ax ,mode= \"logxliny\",\n",
    "                 title = \"LombScargle : Angstrom exponent residuals\",\n",
    "                 #xlabel=\"frequency (days$^{-1}$)\",\n",
    "                 ylabel=\"Angstrom exponent\",\n",
    "                 label=\"Merra2 Angstrom exponent\")\n",
    "figname =f\"{pathfigs}/angstrom_finalres_LombScargle_merra2\"+figtype\n",
    "fig.savefig(figname)\n",
    "plt.show()"
   ]
  }
 ],
 "metadata": {
  "kernelspec": {
   "display_name": "LSST",
   "language": "python",
   "name": "lsst"
  },
  "language_info": {
   "codemirror_mode": {
    "name": "ipython",
    "version": 3
   },
   "file_extension": ".py",
   "mimetype": "text/x-python",
   "name": "python",
   "nbconvert_exporter": "python",
   "pygments_lexer": "ipython3",
   "version": "3.11.9"
  }
 },
 "nbformat": 4,
 "nbformat_minor": 5
}
