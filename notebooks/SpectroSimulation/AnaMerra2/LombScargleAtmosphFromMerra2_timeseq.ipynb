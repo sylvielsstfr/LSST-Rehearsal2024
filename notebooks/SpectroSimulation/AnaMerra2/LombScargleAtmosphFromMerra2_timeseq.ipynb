{
 "cells": [
  {
   "cell_type": "markdown",
   "id": "45bf4242-bfc5-4d43-88c4-a8059ae148df",
   "metadata": {},
   "source": [
    "# Lomb-Scargle decomposition Atmosphere time sequences from Merra2"
   ]
  },
  {
   "cell_type": "markdown",
   "id": "01993b6e-6438-4fca-a5d5-1f9791336847",
   "metadata": {},
   "source": [
    "- author Sylvie Dagoret-Campagne\n",
    "- affiliation : IJCLab\n",
    "- creation date 2025-10-27 :\n",
    "- last update : 2025-02-28 : units\n",
    "- Kernel @usdf **w_2024_50*\n",
    "- Office emac : mamba_py311\n",
    "- Home emac : base (conda)\n",
    "- laptop : conda_py311"
   ]
  },
  {
   "cell_type": "markdown",
   "id": "6acb14a0-86d7-4f25-9a94-fc6ac018b758",
   "metadata": {},
   "source": [
    "https://docs.astropy.org/en/latest/timeseries/lombscargle.html"
   ]
  },
  {
   "cell_type": "code",
   "execution_count": null,
   "id": "63a2b2ef-0bc2-45eb-91d9-87835d264751",
   "metadata": {
    "execution": {
     "iopub.execute_input": "2025-03-03T09:27:40.620480Z",
     "iopub.status.busy": "2025-03-03T09:27:40.620358Z",
     "iopub.status.idle": "2025-03-03T09:27:40.622774Z",
     "shell.execute_reply": "2025-03-03T09:27:40.622378Z",
     "shell.execute_reply.started": "2025-03-03T09:27:40.620468Z"
    },
    "tags": []
   },
   "outputs": [],
   "source": [
    "from platform import python_version\n",
    "print(python_version())"
   ]
  },
  {
   "cell_type": "code",
   "execution_count": null,
   "id": "dcc53afe-c58f-4948-92c9-0090d373ad2a",
   "metadata": {
    "execution": {
     "iopub.execute_input": "2025-03-03T09:27:40.623272Z",
     "iopub.status.busy": "2025-03-03T09:27:40.623152Z",
     "iopub.status.idle": "2025-03-03T09:27:40.631874Z",
     "shell.execute_reply": "2025-03-03T09:27:40.631531Z",
     "shell.execute_reply.started": "2025-03-03T09:27:40.623259Z"
    }
   },
   "outputs": [],
   "source": [
    "import warnings\n",
    "warnings.resetwarnings()\n",
    "warnings.simplefilter('ignore')"
   ]
  },
  {
   "cell_type": "code",
   "execution_count": null,
   "id": "8026d265-2493-4045-afec-26205ff71f7c",
   "metadata": {
    "execution": {
     "iopub.execute_input": "2025-03-03T09:27:40.632336Z",
     "iopub.status.busy": "2025-03-03T09:27:40.632219Z",
     "iopub.status.idle": "2025-03-03T09:27:40.638158Z",
     "shell.execute_reply": "2025-03-03T09:27:40.637809Z",
     "shell.execute_reply.started": "2025-03-03T09:27:40.632325Z"
    },
    "tags": []
   },
   "outputs": [],
   "source": [
    "from platform import python_version\n",
    "print(python_version())"
   ]
  },
  {
   "cell_type": "code",
   "execution_count": null,
   "id": "eb1f116e-80e3-46ad-a7db-7f253632e5ca",
   "metadata": {
    "execution": {
     "iopub.execute_input": "2025-03-03T09:27:40.639444Z",
     "iopub.status.busy": "2025-03-03T09:27:40.639322Z",
     "iopub.status.idle": "2025-03-03T09:27:40.644193Z",
     "shell.execute_reply": "2025-03-03T09:27:40.643876Z",
     "shell.execute_reply.started": "2025-03-03T09:27:40.639432Z"
    }
   },
   "outputs": [],
   "source": [
    "import os"
   ]
  },
  {
   "cell_type": "code",
   "execution_count": null,
   "id": "3ec760cd-3d3f-4a34-a6f6-b226fe500951",
   "metadata": {
    "execution": {
     "iopub.execute_input": "2025-03-03T09:27:40.644649Z",
     "iopub.status.busy": "2025-03-03T09:27:40.644531Z",
     "iopub.status.idle": "2025-03-03T09:27:40.652148Z",
     "shell.execute_reply": "2025-03-03T09:27:40.651786Z",
     "shell.execute_reply.started": "2025-03-03T09:27:40.644637Z"
    }
   },
   "outputs": [],
   "source": [
    "# where are stored the figures\n",
    "pathfigs = \"figs LombScargleAtmosphFomMerra2\"\n",
    "if not os.path.exists(pathfigs):\n",
    "    os.makedirs(pathfigs)\n",
    "figtype = \".png\""
   ]
  },
  {
   "cell_type": "code",
   "execution_count": null,
   "id": "bf752b70-e6ca-4cbf-8e8c-20bf7f0d8f61",
   "metadata": {
    "execution": {
     "iopub.execute_input": "2025-03-03T09:27:40.652716Z",
     "iopub.status.busy": "2025-03-03T09:27:40.652587Z",
     "iopub.status.idle": "2025-03-03T09:27:41.891448Z",
     "shell.execute_reply": "2025-03-03T09:27:41.891019Z",
     "shell.execute_reply.started": "2025-03-03T09:27:40.652704Z"
    }
   },
   "outputs": [],
   "source": [
    "import numpy as np\n",
    "from numpy.linalg import inv\n",
    "import matplotlib as mpl\n",
    "import matplotlib.pyplot as plt\n",
    "%matplotlib inline\n",
    "from mpl_toolkits.axes_grid1 import make_axes_locatable\n",
    "from matplotlib.colors import LogNorm,SymLogNorm\n",
    "from matplotlib.patches import Circle,Annulus\n",
    "from astropy.visualization import ZScaleInterval\n",
    "props = dict(boxstyle='round', facecolor=\"white\", alpha=0.1)\n",
    "#props = dict(boxstyle='round')\n",
    "\n",
    "import matplotlib.colors as colors\n",
    "import matplotlib.cm as cmx\n",
    "\n",
    "import matplotlib.ticker                         # here's where the formatter is\n",
    "from matplotlib.ticker import (MultipleLocator, FormatStrFormatter,\n",
    "                               AutoMinorLocator)\n",
    "\n",
    "from matplotlib.gridspec import GridSpec\n",
    "\n",
    "from astropy.visualization import (MinMaxInterval, SqrtStretch,ZScaleInterval,PercentileInterval,\n",
    "                                   ImageNormalize,imshow_norm)\n",
    "from astropy.visualization.stretch import SinhStretch, LinearStretch,AsinhStretch,LogStretch\n",
    "\n",
    "from astropy.io import fits\n",
    "from astropy.wcs import WCS\n",
    "from astropy import units as u\n",
    "from astropy import constants as c\n",
    "\n",
    "from astropy.coordinates.earth import EarthLocation\n",
    "from datetime import datetime\n",
    "from pytz import timezone\n",
    "\n",
    "from scipy import interpolate\n",
    "from sklearn.neighbors import NearestNeighbors\n",
    "from sklearn.neighbors import KDTree, BallTree\n",
    "\n",
    "import pandas as pd\n",
    "pd.set_option(\"display.max_columns\", None)\n",
    "pd.set_option('display.max_rows', 100)\n",
    "\n",
    "import matplotlib.ticker                         # here's where the formatter is\n",
    "import os\n",
    "import re\n",
    "import pandas as pd\n",
    "import pickle\n",
    "from collections import OrderedDict\n",
    "\n",
    "plt.rcParams[\"figure.figsize\"] = (4,3)\n",
    "plt.rcParams[\"axes.labelsize\"] = 'xx-large'\n",
    "plt.rcParams['axes.titlesize'] = 'xx-large'\n",
    "plt.rcParams['xtick.labelsize']= 'xx-large'\n",
    "plt.rcParams['ytick.labelsize']= 'xx-large'\n",
    "\n",
    "import scipy\n",
    "from scipy.optimize import curve_fit,least_squares"
   ]
  },
  {
   "cell_type": "code",
   "execution_count": null,
   "id": "f7644ca1-08b3-4882-86c0-c02540d63cd4",
   "metadata": {
    "execution": {
     "iopub.execute_input": "2025-03-03T09:27:41.892224Z",
     "iopub.status.busy": "2025-03-03T09:27:41.891959Z",
     "iopub.status.idle": "2025-03-03T09:27:41.894583Z",
     "shell.execute_reply": "2025-03-03T09:27:41.894204Z",
     "shell.execute_reply.started": "2025-03-03T09:27:41.892211Z"
    }
   },
   "outputs": [],
   "source": [
    "props = dict(boxstyle='round', facecolor='white', alpha=0.5)"
   ]
  },
  {
   "cell_type": "code",
   "execution_count": null,
   "id": "ad1b1943-5173-40b8-8ac8-442e6ecc47d0",
   "metadata": {
    "execution": {
     "iopub.execute_input": "2025-03-03T09:27:41.895126Z",
     "iopub.status.busy": "2025-03-03T09:27:41.895004Z",
     "iopub.status.idle": "2025-03-03T09:27:42.197810Z",
     "shell.execute_reply": "2025-03-03T09:27:42.197341Z",
     "shell.execute_reply.started": "2025-03-03T09:27:41.895114Z"
    }
   },
   "outputs": [],
   "source": [
    "from astropy.modeling import models"
   ]
  },
  {
   "cell_type": "code",
   "execution_count": null,
   "id": "46fe722f-bb23-4c29-8efb-4c096c72eec9",
   "metadata": {
    "execution": {
     "iopub.execute_input": "2025-03-03T09:27:42.198589Z",
     "iopub.status.busy": "2025-03-03T09:27:42.198319Z",
     "iopub.status.idle": "2025-03-03T09:27:42.200811Z",
     "shell.execute_reply": "2025-03-03T09:27:42.200446Z",
     "shell.execute_reply.started": "2025-03-03T09:27:42.198575Z"
    }
   },
   "outputs": [],
   "source": [
    "from numpy.random import lognormal"
   ]
  },
  {
   "cell_type": "code",
   "execution_count": null,
   "id": "0ca0d1e6-5f82-4c43-aaa3-8524fc2bc5ba",
   "metadata": {
    "execution": {
     "iopub.execute_input": "2025-03-03T09:27:42.201355Z",
     "iopub.status.busy": "2025-03-03T09:27:42.201227Z",
     "iopub.status.idle": "2025-03-03T09:27:42.215192Z",
     "shell.execute_reply": "2025-03-03T09:27:42.214847Z",
     "shell.execute_reply.started": "2025-03-03T09:27:42.201343Z"
    }
   },
   "outputs": [],
   "source": [
    "from matplotlib.ticker import (MultipleLocator, FormatStrFormatter,\n",
    "                               AutoMinorLocator)\n",
    "from astropy.visualization import (MinMaxInterval, SqrtStretch,ZScaleInterval,PercentileInterval,\n",
    "                                   ImageNormalize,imshow_norm)\n",
    "from astropy.visualization.stretch import SinhStretch, LinearStretch,AsinhStretch,LogStretch\n",
    "\n",
    "from astropy.time import Time\n",
    "from astropy.timeseries import TimeSeries"
   ]
  },
  {
   "cell_type": "code",
   "execution_count": null,
   "id": "e189816c-5048-43ab-a01a-7c078af54489",
   "metadata": {
    "execution": {
     "iopub.execute_input": "2025-03-03T09:27:42.215856Z",
     "iopub.status.busy": "2025-03-03T09:27:42.215618Z",
     "iopub.status.idle": "2025-03-03T09:27:42.217653Z",
     "shell.execute_reply": "2025-03-03T09:27:42.217303Z",
     "shell.execute_reply.started": "2025-03-03T09:27:42.215844Z"
    }
   },
   "outputs": [],
   "source": [
    "# Remove to run faster the notebook\n",
    "#import ipywidgets as widgets\n",
    "#%matplotlib widget"
   ]
  },
  {
   "cell_type": "code",
   "execution_count": null,
   "id": "67327fd4-e405-45ce-8923-cd46ebaa0c0f",
   "metadata": {
    "execution": {
     "iopub.execute_input": "2025-03-03T09:27:42.218181Z",
     "iopub.status.busy": "2025-03-03T09:27:42.218065Z",
     "iopub.status.idle": "2025-03-03T09:27:42.223444Z",
     "shell.execute_reply": "2025-03-03T09:27:42.223118Z",
     "shell.execute_reply.started": "2025-03-03T09:27:42.218170Z"
    },
    "tags": []
   },
   "outputs": [],
   "source": [
    "from importlib.metadata import version"
   ]
  },
  {
   "cell_type": "code",
   "execution_count": null,
   "id": "af8332dd-24f9-4b19-88f9-c62d0a4aebf1",
   "metadata": {
    "execution": {
     "iopub.execute_input": "2025-03-03T09:27:42.223967Z",
     "iopub.status.busy": "2025-03-03T09:27:42.223848Z",
     "iopub.status.idle": "2025-03-03T09:27:42.229210Z",
     "shell.execute_reply": "2025-03-03T09:27:42.228887Z",
     "shell.execute_reply.started": "2025-03-03T09:27:42.223956Z"
    },
    "tags": []
   },
   "outputs": [],
   "source": [
    "# wavelength bin colors\n",
    "#jet = plt.get_cmap('jet')\n",
    "#cNorm = mpl.colors.Normalize(vmin=0, vmax=NSED)\n",
    "#scalarMap = cmx.ScalarMappable(norm=cNorm, cmap=jet)\n",
    "#all_colors = scalarMap.to_rgba(np.arange(NSED), alpha=1)"
   ]
  },
  {
   "cell_type": "code",
   "execution_count": null,
   "id": "1003d9d6-a40f-48b1-9ffc-bfab9f45ba93",
   "metadata": {
    "execution": {
     "iopub.execute_input": "2025-03-03T09:27:42.229727Z",
     "iopub.status.busy": "2025-03-03T09:27:42.229610Z",
     "iopub.status.idle": "2025-03-03T09:27:42.235861Z",
     "shell.execute_reply": "2025-03-03T09:27:42.235529Z",
     "shell.execute_reply.started": "2025-03-03T09:27:42.229716Z"
    }
   },
   "outputs": [],
   "source": [
    "np.__version__"
   ]
  },
  {
   "cell_type": "code",
   "execution_count": null,
   "id": "c4cb2652-cb22-432e-b110-ae71d59dc793",
   "metadata": {
    "execution": {
     "iopub.execute_input": "2025-03-03T09:27:42.236374Z",
     "iopub.status.busy": "2025-03-03T09:27:42.236258Z",
     "iopub.status.idle": "2025-03-03T09:27:42.241855Z",
     "shell.execute_reply": "2025-03-03T09:27:42.241532Z",
     "shell.execute_reply.started": "2025-03-03T09:27:42.236363Z"
    }
   },
   "outputs": [],
   "source": [
    "pd.__version__"
   ]
  },
  {
   "cell_type": "code",
   "execution_count": null,
   "id": "27abb749-99c7-4cf2-a9f6-5dae740ebe88",
   "metadata": {
    "execution": {
     "iopub.execute_input": "2025-03-03T09:27:42.242458Z",
     "iopub.status.busy": "2025-03-03T09:27:42.242332Z",
     "iopub.status.idle": "2025-03-03T09:27:42.247588Z",
     "shell.execute_reply": "2025-03-03T09:27:42.247262Z",
     "shell.execute_reply.started": "2025-03-03T09:27:42.242447Z"
    }
   },
   "outputs": [],
   "source": [
    "from scipy.fftpack import fft, fftfreq"
   ]
  },
  {
   "cell_type": "code",
   "execution_count": null,
   "id": "4dd302a8-0635-42c3-9df2-4c342c66d7ea",
   "metadata": {
    "execution": {
     "iopub.execute_input": "2025-03-03T09:27:42.248077Z",
     "iopub.status.busy": "2025-03-03T09:27:42.247964Z",
     "iopub.status.idle": "2025-03-03T09:27:42.254051Z",
     "shell.execute_reply": "2025-03-03T09:27:42.253689Z",
     "shell.execute_reply.started": "2025-03-03T09:27:42.248066Z"
    }
   },
   "outputs": [],
   "source": [
    "from astropy.timeseries import LombScargle"
   ]
  },
  {
   "cell_type": "code",
   "execution_count": null,
   "id": "ad03dc3d-6741-4478-82ba-1d5447529d9a",
   "metadata": {
    "execution": {
     "iopub.execute_input": "2025-03-03T09:27:42.254570Z",
     "iopub.status.busy": "2025-03-03T09:27:42.254440Z",
     "iopub.status.idle": "2025-03-03T09:27:42.260804Z",
     "shell.execute_reply": "2025-03-03T09:27:42.260377Z",
     "shell.execute_reply.started": "2025-03-03T09:27:42.254558Z"
    }
   },
   "outputs": [],
   "source": [
    "def convertNumToDatestr(num):\n",
    "    year = num//10_000\n",
    "    month= (num-year*10_000)//100\n",
    "    day = (num-year*10_000-month*100)\n",
    "\n",
    "    year_str = str(year).zfill(4)\n",
    "    month_str = str(month).zfill(2)\n",
    "    day_str = str(day).zfill(2)\n",
    "    \n",
    "    datestr = f\"{year_str}-{month_str}-{day_str}\"\n",
    "    return pd.to_datetime(datestr)"
   ]
  },
  {
   "cell_type": "code",
   "execution_count": null,
   "id": "b38653bf-649e-4bd5-a75a-ab8908dbe7e4",
   "metadata": {
    "execution": {
     "iopub.execute_input": "2025-03-03T09:27:42.264176Z",
     "iopub.status.busy": "2025-03-03T09:27:42.263908Z",
     "iopub.status.idle": "2025-03-03T09:27:42.268302Z",
     "shell.execute_reply": "2025-03-03T09:27:42.267960Z",
     "shell.execute_reply.started": "2025-03-03T09:27:42.264162Z"
    }
   },
   "outputs": [],
   "source": [
    "def pdf_lognormal(x,a0,mu,sigma):\n",
    "    \"\"\"\n",
    "    \"\"\"\n",
    "    pdf = a0*(np.exp(-(np.log(x) - mu)**2 / (2 * sigma**2))/ (x * sigma * np.sqrt(2 * np.pi)))\n",
    "    return pdf"
   ]
  },
  {
   "cell_type": "code",
   "execution_count": null,
   "id": "8a537aec-10d7-43c3-bb3f-170eee3e6960",
   "metadata": {
    "execution": {
     "iopub.execute_input": "2025-03-03T09:27:42.268806Z",
     "iopub.status.busy": "2025-03-03T09:27:42.268685Z",
     "iopub.status.idle": "2025-03-03T09:27:42.274697Z",
     "shell.execute_reply": "2025-03-03T09:27:42.274349Z",
     "shell.execute_reply.started": "2025-03-03T09:27:42.268795Z"
    }
   },
   "outputs": [],
   "source": [
    "FIGXSIZE_1 = 14\n",
    "FIGYSIZE_1 = 8\n",
    "\n",
    "FIGXSIZE_0 = 14\n",
    "FIGYSIZE_0 = 6"
   ]
  },
  {
   "cell_type": "code",
   "execution_count": null,
   "id": "5d4208db-6ca6-45ac-a947-90ee94f5326f",
   "metadata": {
    "execution": {
     "iopub.execute_input": "2025-03-03T09:27:42.275216Z",
     "iopub.status.busy": "2025-03-03T09:27:42.275095Z",
     "iopub.status.idle": "2025-03-03T09:27:42.281305Z",
     "shell.execute_reply": "2025-03-03T09:27:42.280940Z",
     "shell.execute_reply.started": "2025-03-03T09:27:42.275205Z"
    }
   },
   "outputs": [],
   "source": [
    "YEAR = 365.25\n",
    "MONTHS6 = YEAR/2.\n",
    "MONTHS4 = YEAR/3.\n",
    "QUARTER = YEAR/4. \n",
    "DAY = 1.\n",
    "MONTH = YEAR/12.\n",
    "WEEK = 7*DAY"
   ]
  },
  {
   "cell_type": "code",
   "execution_count": null,
   "id": "b6f35d9c-7652-4c23-b006-f11672a5f6bd",
   "metadata": {
    "execution": {
     "iopub.execute_input": "2025-03-03T09:27:42.281904Z",
     "iopub.status.busy": "2025-03-03T09:27:42.281774Z",
     "iopub.status.idle": "2025-03-03T09:27:42.292779Z",
     "shell.execute_reply": "2025-03-03T09:27:42.292409Z",
     "shell.execute_reply.started": "2025-03-03T09:27:42.281892Z"
    }
   },
   "outputs": [],
   "source": [
    "def fourier_analysis(dates, values, ax, mode = \"logxlogy\",title=\"FFT - Spectrum\",\n",
    "                    xlabel=\"frequency (day)$^{-1}$\",ylabel=\"y-unit $\\cdot \\sqrt{day}$\",label=\"DFT amplitude\", legendout = True, datecut = 59500 ):\n",
    "    # Centrer les données autour de la moyenne\n",
    "\n",
    "\n",
    "    if datecut>0:\n",
    "        index_selected = np.where(dates >= datecut)[0]\n",
    "        dates = dates[index_selected]\n",
    "        values = values[index_selected]\n",
    "\n",
    "    \n",
    "    values_centered = values - np.mean(values)\n",
    "    \n",
    "\n",
    "    # Nombre de points\n",
    "    N = len(dates)\n",
    "    # signal duration\n",
    "    Delta_T = dates.max()-dates.min()\n",
    "\n",
    "    #frequency spacing\n",
    "    Delta_f = 1/Delta_T\n",
    "\n",
    "    # sigma_x\n",
    "    sigma_x = np.sqrt(np.sum(values_centered**2)/N)\n",
    "    \n",
    "    # Intervalle d'échantillonnage (assume 1 jour entre chaque point)\n",
    "    T = np.mean(np.diff(dates))  # Période d'échantillonnage\n",
    "\n",
    "    # Fréquence de Nyquist (limite de Shannon)\n",
    "    f_nyquist = 1 / (2 * T)\n",
    "    \n",
    "    # Transformée de Fourier\n",
    "    fft_values = fft(values_centered)/ np.sqrt(N)\n",
    "    freqs = fftfreq(N, T)  # Fréquences associées\n",
    "\n",
    "\n",
    "    # Seulement la moitié du spectre est utile (symétrie)\n",
    "    positive_freqs = freqs[:N // 2]\n",
    "    positive_fft_values = np.abs(fft_values[:N // 2])\n",
    "\n",
    "    # convert in values units x sqrt(day)\n",
    "    positive_fft_values /= np.sqrt(Delta_f)\n",
    "\n",
    "    # Tracer le spectre\n",
    "    #fig, ax = plt.subplots(1,1,figsize=(FIGXSIZE_0, FIGYSIZE_0),layout=\"constrained\")\n",
    "    \n",
    "    ax.plot(positive_freqs, positive_fft_values,'ob-' ,ms=5,label=label)\n",
    "\n",
    "    if mode == \"logxliny\":\n",
    "        ax.set_xscale(\"log\")  # Définit l'axe X en échelle logarithmique\n",
    "        ax.set_yscale(\"linear\")  # Garde l'axe Y en échelle linéaire\n",
    "    elif mode == \"logxlogy\":\n",
    "        ax.set_xscale(\"log\")  # Définit l'axe X en échelle logarithmique\n",
    "        ax.set_yscale(\"log\")  # Garde l'axe Y en échelle logarithmique\n",
    "    elif mode == \"linxlogy\":\n",
    "        ax.set_xscale(\"linear\")  # Définit l'axe X en  échelle linéaire\n",
    "        ax.set_yscale(\"log\")  # Garde l'axe Y en échelle logarithmique\n",
    "    elif mode == \"linxliny\":\n",
    "        ax.set_xscale(\"linear\")  # Définit l'axe X en échelle linéaire\n",
    "        ax.set_yscale(\"linear\")  # Garde l'axe Y en échelle linéaire\n",
    "        \n",
    "    ax.set_xlabel(xlabel)\n",
    "    ax.set_ylabel(ylabel)\n",
    "    ax.set_title(title)\n",
    "    \n",
    "\n",
    "    ax.axvline(1/YEAR, color='r', linestyle='-', label=\"Cycle : 365 days - 1 year\")\n",
    "    ax.axvline(1/MONTHS6, color='r', linestyle='--', label=\"Cycle : 182.6 days - 6 months\")\n",
    "    ax.axvline(1/MONTHS4, color='r', linestyle=':', label=\"Cycle : 121.7 days - 4 months\")\n",
    "    ax.axvline(1/QUARTER, color='r', linestyle='-.', label=\"Cycle : 91.3 days - 3 months\")\n",
    "    ax.axvline(1/MONTH, color='r', linestyle=':', label=\"Cycle : 30.4 days - 1 month\")\n",
    "    ax.axvline(1/WEEK, color='purple', linestyle='--', label=\"Cycle : 7 days - 1 week\")\n",
    "    ax.axvline(DAY, color='purple', linestyle='-', label=\"Cycle : 1 day \")\n",
    "    ax.axvline(1./(0.5*DAY), color='purple', linestyle='-.', label=\"Cycle : 0.5 day \")\n",
    "\n",
    "    ax.axvline(f_nyquist, color='g', linestyle='--', label=f\"Nyquist frequency({f_nyquist:.3f} cycles/days)\")\n",
    "\n",
    "    txtstr_sigma = \"$\\sigma_x$ = \" + f\" {sigma_x:0.3f}\" \n",
    "    txtstr_Ts = \"$T_s$ = \"  + f\" {T:0.3f} days\" \n",
    "    txtstr_Fs = \"$f_s$ = \"  + f\" {Delta_f:0.3f} / days\" \n",
    "\n",
    "    txtstr_info = \"\\n\".join([txtstr_sigma,txtstr_Ts ,txtstr_Fs])\n",
    "    ax.text(0.01, 0.95, txtstr_info, transform=ax.transAxes, fontsize=16,verticalalignment='top', bbox=props)\n",
    "    \n",
    "\n",
    "    if legendout:\n",
    "        ax.legend(bbox_to_anchor=(1.05, 1.05),fontsize=12)\n",
    "    else:\n",
    "        ax.legend(fontsize=10,fancybox=True, framealpha=0.5)\n",
    "        \n"
   ]
  },
  {
   "cell_type": "code",
   "execution_count": null,
   "id": "e4675f10-c973-44c6-86c0-1df832100a47",
   "metadata": {
    "execution": {
     "iopub.execute_input": "2025-03-03T09:27:42.293318Z",
     "iopub.status.busy": "2025-03-03T09:27:42.293198Z",
     "iopub.status.idle": "2025-03-03T09:27:42.302858Z",
     "shell.execute_reply": "2025-03-03T09:27:42.302497Z",
     "shell.execute_reply.started": "2025-03-03T09:27:42.293307Z"
    }
   },
   "outputs": [],
   "source": [
    "def LombScargle_analysis(dates, values, ax ,mode = \"logxlogy\",title=\"LombScargle - Spectrum\",\n",
    "                    xlabel=\"frequency (day)$^{-1}$\",ylabel=\"y-unit\",label=\"Lomb Scargle\", legendout = True, datecut = 0 ):\n",
    "    # Centrer les données autour de la moyenne\n",
    "\n",
    "\n",
    "    if datecut>0:\n",
    "        index_selected = np.where(dates >= datecut)[0]\n",
    "        dates = dates[index_selected]\n",
    "        values = values[index_selected]\n",
    "\n",
    "    \n",
    "    values_centered = values - np.mean(values)\n",
    "    \n",
    "\n",
    "    # Nombre de points\n",
    "    N = len(dates)\n",
    "\n",
    "    # sigma\n",
    "    sigma_x = np.sqrt(np.sum(values_centered**2)/N)\n",
    "    \n",
    "    # Intervalle d'échantillonnage (assume 1 jour entre chaque point)\n",
    "    T = np.mean(np.diff(dates))  # Période d'échantillonnage\n",
    "\n",
    "    # Fréquence de Nyquist (limite de Shannon)\n",
    "    f_nyquist = 1 / (2 * T)\n",
    "    \n",
    "\n",
    "    freqs, power = LombScargle(dates, values_centered).autopower()\n",
    "   \n",
    "    ax.plot(freqs, np.sqrt(power),'ob-' ,ms=5,label=label)\n",
    "\n",
    "    if mode == \"logxliny\":\n",
    "        ax.set_xscale(\"log\")  # Définit l'axe X en échelle logarithmique\n",
    "        ax.set_yscale(\"linear\")  # Garde l'axe Y en échelle linéaire\n",
    "    elif mode == \"logxlogy\":\n",
    "        ax.set_xscale(\"log\")  # Définit l'axe X en échelle logarithmique\n",
    "        ax.set_yscale(\"log\")  # Garde l'axe Y en échelle logarithmique\n",
    "    elif mode == \"linxlogy\":\n",
    "        ax.set_xscale(\"linear\")  # Définit l'axe X en  échelle linéaire\n",
    "        ax.set_yscale(\"log\")  # Garde l'axe Y en échelle logarithmique\n",
    "    elif mode == \"linxliny\":\n",
    "        ax.set_xscale(\"linear\")  # Définit l'axe X en échelle linéaire\n",
    "        ax.set_yscale(\"linear\")  # Garde l'axe Y en échelle linéaire\n",
    "        \n",
    "    ax.set_xlabel(xlabel)\n",
    "    ax.set_ylabel(ylabel)\n",
    "    ax.set_title(title)\n",
    "    \n",
    "\n",
    "    ax.axvline(1/YEAR, color='r', linestyle='-', label=\"Cycle : 365 days - 1 year\")\n",
    "    ax.axvline(1/MONTHS6, color='r', linestyle='--', label=\"Cycle : 182.6 days - 6 months\")\n",
    "    ax.axvline(1/MONTHS4, color='r', linestyle=':', label=\"Cycle : 121.7 days - 4 months\")\n",
    "    ax.axvline(1/QUARTER, color='r', linestyle='-.', label=\"Cycle : 91.3 days - 3 months\")\n",
    "    ax.axvline(1/MONTH, color='r', linestyle=':', label=\"Cycle : 30.4 days - 1 month\")\n",
    "    ax.axvline(1/WEEK, color='purple', linestyle='--', label=\"Cycle : 7 days - 1 week\")\n",
    "    ax.axvline(DAY, color='purple', linestyle='-', label=\"Cycle : 1 day \")\n",
    "    ax.axvline(1./(0.5*DAY), color='purple', linestyle='-.', label=\"Cycle : 0.5 day \")\n",
    "\n",
    "    ax.axvline(f_nyquist, color='g', linestyle='--', label=f\"Nyquist frequency({f_nyquist:.3f} cycles/days)\")\n",
    "\n",
    "    txtstr_sigma = \"$\\sigma_x$ = \" + f\" {sigma_x:0.3f}\" \n",
    "    ax.text(0.01, 0.95, txtstr_sigma, transform=ax.transAxes, fontsize=16,verticalalignment='top', bbox=props)\n",
    "    \n",
    "\n",
    "    if legendout:\n",
    "        ax.legend(bbox_to_anchor=(1.05, 1.05),fontsize=12)\n",
    "    else:\n",
    "        ax.legend(fontsize=10,fancybox=True, framealpha=0.5)\n",
    "        \n"
   ]
  },
  {
   "cell_type": "markdown",
   "id": "4f13d6a3-7793-4bc0-920a-1d690d9f84b2",
   "metadata": {},
   "source": [
    "## Configuration"
   ]
  },
  {
   "cell_type": "code",
   "execution_count": null,
   "id": "c8cb2e48-0b34-4cbf-8379-43f7065112f7",
   "metadata": {
    "execution": {
     "iopub.execute_input": "2025-03-03T09:27:42.303381Z",
     "iopub.status.busy": "2025-03-03T09:27:42.303261Z",
     "iopub.status.idle": "2025-03-03T09:27:42.352597Z",
     "shell.execute_reply": "2025-03-03T09:27:42.352204Z",
     "shell.execute_reply.started": "2025-03-03T09:27:42.303370Z"
    }
   },
   "outputs": [],
   "source": [
    "observing_location = EarthLocation.of_site('Rubin Observatory')\n",
    "tz = timezone('America/Santiago')"
   ]
  },
  {
   "cell_type": "markdown",
   "id": "6175a4a4-5c98-4e09-8ffd-a17282f6094e",
   "metadata": {},
   "source": [
    "### MERRA2"
   ]
  },
  {
   "cell_type": "code",
   "execution_count": null,
   "id": "d84a85da-768d-459f-8711-54e04f2cff75",
   "metadata": {
    "execution": {
     "iopub.execute_input": "2025-03-03T09:27:42.353184Z",
     "iopub.status.busy": "2025-03-03T09:27:42.353053Z",
     "iopub.status.idle": "2025-03-03T09:27:42.355282Z",
     "shell.execute_reply": "2025-03-03T09:27:42.354940Z",
     "shell.execute_reply.started": "2025-03-03T09:27:42.353172Z"
    },
    "tags": []
   },
   "outputs": [],
   "source": [
    "filename_m2 = \"../../SpectroMerra2/MerradataMerged/Merge_inst1_2d_asm_Nx_M2I1NXASM-2021-2024.csv\"\n",
    "filename_m2b = \"../../SpectroMerra2/MerradataMerged/Merge_tavg1_2d_aer_Nx_M2T1NXAER-2021-2024.csv\""
   ]
  },
  {
   "cell_type": "code",
   "execution_count": null,
   "id": "dd89c1b3-43c8-43ae-b10d-f39e8f8b2963",
   "metadata": {
    "execution": {
     "iopub.execute_input": "2025-03-03T09:27:42.355817Z",
     "iopub.status.busy": "2025-03-03T09:27:42.355691Z",
     "iopub.status.idle": "2025-03-03T09:27:42.457062Z",
     "shell.execute_reply": "2025-03-03T09:27:42.456655Z",
     "shell.execute_reply.started": "2025-03-03T09:27:42.355803Z"
    },
    "tags": []
   },
   "outputs": [],
   "source": [
    "df_m = pd.read_csv(filename_m2)\n",
    "df_mb = pd.read_csv(filename_m2b)"
   ]
  },
  {
   "cell_type": "code",
   "execution_count": null,
   "id": "a4c21a3e-f004-4b43-871d-8b479451b594",
   "metadata": {
    "execution": {
     "iopub.execute_input": "2025-03-03T09:27:42.457659Z",
     "iopub.status.busy": "2025-03-03T09:27:42.457531Z",
     "iopub.status.idle": "2025-03-03T09:27:42.460137Z",
     "shell.execute_reply": "2025-03-03T09:27:42.459787Z",
     "shell.execute_reply.started": "2025-03-03T09:27:42.457647Z"
    }
   },
   "outputs": [],
   "source": [
    "Nm = len(df_m)\n",
    "Nmb = len(df_mb)\n",
    "print(\"Number of points :: \",Nm,Nmb)"
   ]
  },
  {
   "cell_type": "code",
   "execution_count": null,
   "id": "e1e70f0b-8123-48fc-8faa-f5f468c85a3a",
   "metadata": {
    "execution": {
     "iopub.execute_input": "2025-03-03T09:27:42.460649Z",
     "iopub.status.busy": "2025-03-03T09:27:42.460531Z",
     "iopub.status.idle": "2025-03-03T09:27:42.466646Z",
     "shell.execute_reply": "2025-03-03T09:27:42.466294Z",
     "shell.execute_reply.started": "2025-03-03T09:27:42.460638Z"
    }
   },
   "outputs": [],
   "source": [
    "df_mb.columns"
   ]
  },
  {
   "cell_type": "code",
   "execution_count": null,
   "id": "0078d85a-f0a9-43f7-bb1a-30358769fe86",
   "metadata": {
    "execution": {
     "iopub.execute_input": "2025-03-03T09:27:42.467152Z",
     "iopub.status.busy": "2025-03-03T09:27:42.467036Z",
     "iopub.status.idle": "2025-03-03T09:27:42.475730Z",
     "shell.execute_reply": "2025-03-03T09:27:42.475369Z",
     "shell.execute_reply.started": "2025-03-03T09:27:42.467142Z"
    }
   },
   "outputs": [],
   "source": [
    "TMIN = pd.to_datetime(df_m.time.min())\n",
    "TMAX = pd.to_datetime(df_m.time.max())"
   ]
  },
  {
   "cell_type": "markdown",
   "id": "e65aa79a-58d6-4022-8000-f2d8900c8f43",
   "metadata": {},
   "source": [
    "### Convert in MJD"
   ]
  },
  {
   "cell_type": "code",
   "execution_count": null,
   "id": "b58fea8d-18e5-4f69-ad7d-50b5af7150a9",
   "metadata": {
    "execution": {
     "iopub.execute_input": "2025-03-03T09:27:42.476245Z",
     "iopub.status.busy": "2025-03-03T09:27:42.476127Z",
     "iopub.status.idle": "2025-03-03T09:27:42.785876Z",
     "shell.execute_reply": "2025-03-03T09:27:42.785423Z",
     "shell.execute_reply.started": "2025-03-03T09:27:42.476234Z"
    },
    "tags": []
   },
   "outputs": [],
   "source": [
    "df_m[\"mjd\"] = Time(pd.to_datetime(df_m.time.values)).mjd\n",
    "df_mb[\"mjd\"] = Time(pd.to_datetime(df_mb.time.values)).mjd"
   ]
  },
  {
   "cell_type": "code",
   "execution_count": null,
   "id": "fc6b3b3d-7161-44ee-94e4-d06eaec6745c",
   "metadata": {
    "execution": {
     "iopub.execute_input": "2025-03-03T09:27:42.786498Z",
     "iopub.status.busy": "2025-03-03T09:27:42.786363Z",
     "iopub.status.idle": "2025-03-03T09:27:42.789407Z",
     "shell.execute_reply": "2025-03-03T09:27:42.789056Z",
     "shell.execute_reply.started": "2025-03-03T09:27:42.786486Z"
    }
   },
   "outputs": [],
   "source": [
    "mjd_zoom_start = Time(\"2024-01-01\").mjd\n",
    "mjd_zoom_stop = Time(\"2025-06-30\").mjd"
   ]
  },
  {
   "cell_type": "code",
   "execution_count": null,
   "id": "3f167569-b85b-4ef7-9c48-deda686e4139",
   "metadata": {
    "execution": {
     "iopub.execute_input": "2025-03-03T09:27:42.789962Z",
     "iopub.status.busy": "2025-03-03T09:27:42.789840Z",
     "iopub.status.idle": "2025-03-03T09:27:42.798010Z",
     "shell.execute_reply": "2025-03-03T09:27:42.797661Z",
     "shell.execute_reply.started": "2025-03-03T09:27:42.789951Z"
    },
    "tags": []
   },
   "outputs": [],
   "source": [
    "mjd_obs_start = df_m[\"mjd\"].min() \n",
    "mjd_obs_stop = df_m[\"mjd\"].max() "
   ]
  },
  {
   "cell_type": "markdown",
   "id": "1de0255c-cbc2-4603-997c-8eaaa18eeef2",
   "metadata": {},
   "source": [
    "## PWV"
   ]
  },
  {
   "cell_type": "code",
   "execution_count": null,
   "id": "3fd02994-4a05-4145-8da9-10ac7f5b920a",
   "metadata": {
    "execution": {
     "iopub.execute_input": "2025-03-03T09:27:42.798557Z",
     "iopub.status.busy": "2025-03-03T09:27:42.798425Z",
     "iopub.status.idle": "2025-03-03T09:27:43.284704Z",
     "shell.execute_reply": "2025-03-03T09:27:43.284263Z",
     "shell.execute_reply.started": "2025-03-03T09:27:42.798545Z"
    }
   },
   "outputs": [],
   "source": [
    "from matplotlib.dates import DateFormatter\n",
    "#date_form = DateFormatter(\"%y-%m-%dT%H:%M\")\n",
    "date_form = DateFormatter(\"%y-%m\")\n",
    "\n",
    "fig = plt.figure(figsize=(18,10))\n",
    "gs = GridSpec(2, 1,figure=fig)\n",
    "#gs = GridSpec(1, 1,figure=fig)\n",
    "ax1 = fig.add_subplot(gs[0])\n",
    "ax2 = fig.add_subplot(gs[1])\n",
    "        \n",
    "leg1=ax1.get_legend()\n",
    "leg2=ax2.get_legend()\n",
    "\n",
    "\n",
    "ax1.plot(pd.to_datetime(df_m.Time.values), df_m.TQV.values,c=\"b\",lw=0.5,label=\"Merra2\")\n",
    "ax1.set_xlabel(\"time\")\n",
    "ax1.xaxis.set_major_formatter(date_form)\n",
    "ax1.set_title(\"Precipitable water vapor from Merra2\")\n",
    "ax1.legend()\n",
    "ax1.set_ylabel(\"PWV (mm)\")\n",
    "#ax.set_xlim(TMIN,TMAX)\n",
    "\n",
    "data = df_m.TQV.values\n",
    "mean = np.mean(data)\n",
    "median = np.median(data)\n",
    "std = np.std(data)\n",
    "textstr = \"\\n\".join((f\"Expected max-range for PWV : \",\n",
    "                     f\"- average : {mean:.2f} mm\",\n",
    "                     f\"- median : {median:.2f} mm\",\n",
    "                     f\"- sigma : {std:.2f} mm\",     \n",
    "                    ))\n",
    "ax1.text(0.05, 0.95, textstr, transform=ax1.transAxes, fontsize=14,verticalalignment='top', bbox=props)\n",
    "\n",
    "\n",
    "ax2.plot(df_m.mjd, df_m.TQV.values,c=\"b\",lw=0.5,label=\"Merra2\")\n",
    "ax2.set_xlabel(\"time (MJD)\")\n",
    "ax2.legend()\n",
    "ax2.set_ylabel(\"PWV (mm)\")\n",
    "\n",
    "figname =f\"{pathfigs}/pwv_allpoints_merra2\"+figtype\n",
    "fig.savefig(figname)\n",
    "plt.show()\n"
   ]
  },
  {
   "cell_type": "markdown",
   "id": "ddf3e1f7-e905-475b-854d-9092bf1b742c",
   "metadata": {},
   "source": [
    "### FFT for  PWV"
   ]
  },
  {
   "cell_type": "code",
   "execution_count": null,
   "id": "c93dc892-97ce-4f0d-a8de-0e4b8a4c8cd0",
   "metadata": {
    "execution": {
     "iopub.execute_input": "2025-03-03T09:27:43.285334Z",
     "iopub.status.busy": "2025-03-03T09:27:43.285196Z",
     "iopub.status.idle": "2025-03-03T09:27:43.287851Z",
     "shell.execute_reply": "2025-03-03T09:27:43.287469Z",
     "shell.execute_reply.started": "2025-03-03T09:27:43.285321Z"
    }
   },
   "outputs": [],
   "source": [
    "dates = df_m.mjd\n",
    "values = df_m.TQV.values\n",
    "figname =f\"{pathfigs}/pwv_FFT_merra2\"+figtype"
   ]
  },
  {
   "cell_type": "code",
   "execution_count": null,
   "id": "671a2d61-5f45-4e00-b7a2-302875c9162d",
   "metadata": {
    "execution": {
     "iopub.execute_input": "2025-03-03T09:27:43.288438Z",
     "iopub.status.busy": "2025-03-03T09:27:43.288308Z",
     "iopub.status.idle": "2025-03-03T09:27:43.923329Z",
     "shell.execute_reply": "2025-03-03T09:27:43.922990Z",
     "shell.execute_reply.started": "2025-03-03T09:27:43.288426Z"
    }
   },
   "outputs": [],
   "source": [
    "fig,ax = plt.subplots(1,1,figsize = (FIGXSIZE_0,FIGYSIZE_0),layout=\"constrained\")\n",
    "fourier_analysis(dates, values, ax=ax ,mode= \"logxliny\",\n",
    "                 title = \"FFT : PWV (Absolute value of FFT)\",\n",
    "                 #xlabel=\"frequency (days$^{-1}$)\",\n",
    "                 ylabel=\"mm $\\cdot \\sqrt{day}$\",\n",
    "                 label=\"Merra2 PWV\")\n",
    "fig.savefig(figname)\n",
    "plt.show()"
   ]
  },
  {
   "cell_type": "code",
   "execution_count": null,
   "id": "d915d883-83a9-465a-bea5-7f1e7bf49ffe",
   "metadata": {
    "execution": {
     "iopub.execute_input": "2025-03-03T09:27:43.923881Z",
     "iopub.status.busy": "2025-03-03T09:27:43.923750Z",
     "iopub.status.idle": "2025-03-03T09:27:45.850635Z",
     "shell.execute_reply": "2025-03-03T09:27:45.850292Z",
     "shell.execute_reply.started": "2025-03-03T09:27:43.923870Z"
    }
   },
   "outputs": [],
   "source": [
    "fig,ax = plt.subplots(1,1,figsize = (FIGXSIZE_0,FIGYSIZE_0),layout=\"constrained\")\n",
    "LombScargle_analysis(dates, values, ax=ax ,mode= \"logxliny\",\n",
    "                 title = \"LombScargle : PWV  ($\\sqrt{LombScargle}$)\",\n",
    "                 #xlabel=\"frequency (days$^{-1}$)\",\n",
    "                 ylabel=\"mm\",\n",
    "                 label=\"Merra2 PWV amplitude\")\n",
    "figname =f\"{pathfigs}/pwv_LombScargle_merra2\"+figtype\n",
    "fig.savefig(figname)\n",
    "plt.show()"
   ]
  },
  {
   "cell_type": "code",
   "execution_count": null,
   "id": "3bbfb074-2dcd-4c20-a59b-adfe8f822a12",
   "metadata": {
    "execution": {
     "iopub.execute_input": "2025-03-03T09:27:45.851178Z",
     "iopub.status.busy": "2025-03-03T09:27:45.851048Z",
     "iopub.status.idle": "2025-03-03T09:27:50.308075Z",
     "shell.execute_reply": "2025-03-03T09:27:50.307619Z",
     "shell.execute_reply.started": "2025-03-03T09:27:45.851165Z"
    }
   },
   "outputs": [],
   "source": [
    "fig,axs = plt.subplots(1,2,figsize = (FIGXSIZE_0,FIGYSIZE_0),layout=\"constrained\")\n",
    "ax1,ax2 = axs.flatten()\n",
    "\n",
    "fourier_analysis(dates, values, ax=ax1 ,mode= \"logxliny\",\n",
    "                 title = \"FFT : PWV (Absolute value of FFT)\",\n",
    "                 #xlabel=\"frequency (days$^{-1}$)\",\n",
    "                 ylabel=\"mm $\\cdot \\sqrt{day}$\",\n",
    "                 label=\"Merra2 PWV amplitude\",legendout = False)\n",
    "\n",
    "LombScargle_analysis(dates, values, ax=ax2 ,mode= \"logxliny\",\n",
    "                 title = \"LombScargle : PWV ($\\sqrt{LombScargle}$)\",\n",
    "                 #xlabel=\"frequency (days$^{-1}$)\",\n",
    "                 ylabel=\"mm\",\n",
    "                 label=\"Merra2 PWV amplitude\",legendout = False)\n",
    "\n",
    "figname =f\"{pathfigs}/pwv_FFTLombScargle_merra2\"+figtype\n",
    "fig.savefig(figname)\n",
    "plt.show()"
   ]
  },
  {
   "cell_type": "markdown",
   "id": "3338a245-30b8-444c-971e-d5d1efc68b1f",
   "metadata": {},
   "source": [
    "## Ozone"
   ]
  },
  {
   "cell_type": "code",
   "execution_count": null,
   "id": "fbe59757-4742-4a83-b5b6-a43953a6c5d4",
   "metadata": {
    "execution": {
     "iopub.execute_input": "2025-03-03T09:27:50.308716Z",
     "iopub.status.busy": "2025-03-03T09:27:50.308584Z",
     "iopub.status.idle": "2025-03-03T09:27:50.739683Z",
     "shell.execute_reply": "2025-03-03T09:27:50.739280Z",
     "shell.execute_reply.started": "2025-03-03T09:27:50.308703Z"
    }
   },
   "outputs": [],
   "source": [
    "from matplotlib.dates import DateFormatter\n",
    "#date_form = DateFormatter(\"%y-%m-%dT%H:%M\")\n",
    "date_form = DateFormatter(\"%y-%m\")\n",
    "\n",
    "fig = plt.figure(figsize=(18,10))\n",
    "gs = GridSpec(2, 1,figure=fig)\n",
    "\n",
    "ax1 = fig.add_subplot(gs[0])\n",
    "ax2 = fig.add_subplot(gs[1])\n",
    "        \n",
    "leg1=ax1.get_legend()\n",
    "leg2=ax2.get_legend()\n",
    "\n",
    "\n",
    "ax1.plot(pd.to_datetime(df_m.Time.values), df_m.TO3.values,c=\"r\",lw=0.5,label=\"Merra2\")\n",
    "ax1.set_xlabel(\"time\")\n",
    "ax1.xaxis.set_major_formatter(date_form)\n",
    "ax1.set_title(\"Ozone from Merra2\")\n",
    "#ax1.legend()\n",
    "ax1.set_ylabel(\"Ozone (DU)\")\n",
    "#ax.set_xlim(TMIN,TMAX)\n",
    "\n",
    "data = df_m.TO3.values\n",
    "mean = np.mean(data)\n",
    "median = np.median(data)\n",
    "std = np.std(data)\n",
    "textstr = \"\\n\".join((f\"Expected range for Ozone : \",\n",
    "                     f\"- average : {mean:.2f} DU\",\n",
    "                     f\"- median : {median:.2f} DU\",\n",
    "                     f\"- sigma : {std:.2f} DU\",     \n",
    "                    ))\n",
    "ax1.text(0.05, 0.95, textstr, transform=ax1.transAxes, fontsize=14,verticalalignment='top', bbox=props)\n",
    "\n",
    "ax2.plot(df_m.mjd, df_m.TO3.values,c=\"r\",lw=0.5,label=\"Merra2\")\n",
    "ax2.set_xlabel(\"time (MJD)\")\n",
    "ax2.legend()\n",
    "ax2.set_ylabel(\"Ozone (DU)\")\n",
    "\n",
    "\n",
    "figname =f\"{pathfigs}/ozone_allpoints_merra2\"+figtype\n",
    "fig.savefig(figname)\n",
    "plt.show()\n"
   ]
  },
  {
   "cell_type": "markdown",
   "id": "09d9e5d2-0f36-4520-a414-a1f64afc8a3f",
   "metadata": {},
   "source": [
    "### FFT for Ozone"
   ]
  },
  {
   "cell_type": "code",
   "execution_count": null,
   "id": "be822593-a1db-42e0-95ed-294a1c277fa7",
   "metadata": {
    "execution": {
     "iopub.execute_input": "2025-03-03T09:27:50.740276Z",
     "iopub.status.busy": "2025-03-03T09:27:50.740145Z",
     "iopub.status.idle": "2025-03-03T09:27:50.742717Z",
     "shell.execute_reply": "2025-03-03T09:27:50.742355Z",
     "shell.execute_reply.started": "2025-03-03T09:27:50.740264Z"
    }
   },
   "outputs": [],
   "source": [
    "dates = df_m.mjd\n",
    "values = df_m.TO3.values\n",
    "figname =f\"{pathfigs}/ozone_FFT_merra2\"+figtype"
   ]
  },
  {
   "cell_type": "code",
   "execution_count": null,
   "id": "4a9bb68d-cb7f-459a-9b67-1d745679e65a",
   "metadata": {
    "execution": {
     "iopub.execute_input": "2025-03-03T09:27:50.743232Z",
     "iopub.status.busy": "2025-03-03T09:27:50.743112Z",
     "iopub.status.idle": "2025-03-03T09:27:51.307884Z",
     "shell.execute_reply": "2025-03-03T09:27:51.307486Z",
     "shell.execute_reply.started": "2025-03-03T09:27:50.743221Z"
    }
   },
   "outputs": [],
   "source": [
    "fig,ax = plt.subplots(1,1,figsize = (FIGXSIZE_0,FIGYSIZE_0),layout=\"constrained\")\n",
    "fourier_analysis(dates, values, ax=ax ,mode= \"logxliny\",\n",
    "                 title = \"FFT : Ozone (Absolute value of FFT)\",\n",
    "                 #xlabel=\"frequency (days$^{-1}$)\",\n",
    "                 ylabel=\"$DU \\cdot \\sqrt{day}$\",\n",
    "                 label=\"Merra2 Ozone\")\n",
    "fig.savefig(figname)\n",
    "plt.show()"
   ]
  },
  {
   "cell_type": "code",
   "execution_count": null,
   "id": "ca3f3002-3c12-4d82-a9f7-0a675690a78b",
   "metadata": {
    "execution": {
     "iopub.execute_input": "2025-03-03T09:27:51.308457Z",
     "iopub.status.busy": "2025-03-03T09:27:51.308318Z",
     "iopub.status.idle": "2025-03-03T09:27:53.223653Z",
     "shell.execute_reply": "2025-03-03T09:27:53.223210Z",
     "shell.execute_reply.started": "2025-03-03T09:27:51.308444Z"
    }
   },
   "outputs": [],
   "source": [
    "fig,ax = plt.subplots(1,1,figsize = (FIGXSIZE_0,FIGYSIZE_0),layout=\"constrained\")\n",
    "LombScargle_analysis(dates, values, ax=ax ,mode= \"logxliny\",\n",
    "                 title = \"LombScargle : Ozone ($\\sqrt{LombScargle}$)\",\n",
    "                 #xlabel=\"frequency (days$^{-1}$)\",\n",
    "                 ylabel=\"DU\",\n",
    "                 label=\"Merra2 Ozone\")\n",
    "figname =f\"{pathfigs}/ozone_LombScargle_merra2\"+figtype\n",
    "fig.savefig(figname)\n",
    "plt.show()"
   ]
  },
  {
   "cell_type": "code",
   "execution_count": null,
   "id": "c2e0d586-9d28-49df-956c-5cb2de0c4a14",
   "metadata": {
    "execution": {
     "iopub.execute_input": "2025-03-03T09:27:53.224246Z",
     "iopub.status.busy": "2025-03-03T09:27:53.224116Z",
     "iopub.status.idle": "2025-03-03T09:27:56.912426Z",
     "shell.execute_reply": "2025-03-03T09:27:56.911986Z",
     "shell.execute_reply.started": "2025-03-03T09:27:53.224234Z"
    }
   },
   "outputs": [],
   "source": [
    "fig,axs = plt.subplots(1,2,figsize = (FIGXSIZE_0,FIGYSIZE_0),layout=\"constrained\")\n",
    "ax1,ax2 = axs.flatten()\n",
    "\n",
    "fourier_analysis(dates, values, ax=ax1 ,mode= \"logxliny\",\n",
    "                 title = \"FFT : Ozone (Absolute value of FFT)\",\n",
    "                 #xlabel=\"frequency (days$^{-1}$)\",\n",
    "                 ylabel=\"$DU \\cdot \\sqrt{day}$\",\n",
    "                 label=\"Merra2 Ozone\",legendout = False)\n",
    "\n",
    "LombScargle_analysis(dates, values, ax=ax2 ,mode= \"logxliny\",\n",
    "                 title = \"LombScargle : Ozone (($\\sqrt{LombScargle}$)\",\n",
    "                 #xlabel=\"frequency (days$^{-1}$)\",\n",
    "                 ylabel=\"DU\",\n",
    "                 label=\"Merra2 Ozone\",legendout = False)\n",
    "\n",
    "figname =f\"{pathfigs}/ozone_FFTLombScargle_merra2\"+figtype\n",
    "fig.savefig(figname)\n",
    "plt.show()"
   ]
  },
  {
   "cell_type": "markdown",
   "id": "58b4ac69-947d-4b40-9b5f-aec8c9d6f841",
   "metadata": {},
   "source": [
    "## Aerosol VAOD"
   ]
  },
  {
   "cell_type": "code",
   "execution_count": null,
   "id": "8424c184-6bc3-4adf-942a-cffd5f9b924f",
   "metadata": {
    "execution": {
     "iopub.execute_input": "2025-03-03T09:27:56.913048Z",
     "iopub.status.busy": "2025-03-03T09:27:56.912914Z",
     "iopub.status.idle": "2025-03-03T09:27:57.318247Z",
     "shell.execute_reply": "2025-03-03T09:27:57.317850Z",
     "shell.execute_reply.started": "2025-03-03T09:27:56.913036Z"
    }
   },
   "outputs": [],
   "source": [
    "from matplotlib.dates import DateFormatter\n",
    "#date_form = DateFormatter(\"%y-%m-%dT%H:%M\")\n",
    "date_form = DateFormatter(\"%y-%m\")\n",
    "\n",
    "fig = plt.figure(figsize=(18,10))\n",
    "gs = GridSpec(2, 1,figure=fig)\n",
    "ax1 = fig.add_subplot(gs[0])\n",
    "ax2 = fig.add_subplot(gs[1])\n",
    "        \n",
    "leg1=ax1.get_legend()\n",
    "leg2=ax2.get_legend()\n",
    "\n",
    "\n",
    "ax1.plot(pd.to_datetime(df_mb.Time.values), df_mb.TOTEXTTAU.values,c=\"g\",lw=0.5,label=\"Merra2\")\n",
    "ax1.set_xlabel(\"time\")\n",
    "ax1.xaxis.set_major_formatter(date_form)\n",
    "ax1.set_title(\"VAOD from Merra2\")\n",
    "ax1.legend()\n",
    "ax1.set_ylabel(\"VAOD\")\n",
    "#ax.set_xlim(TMIN,TMAX)\n",
    "data = df_mb.TOTEXTTAU.values\n",
    "mean = np.mean(data)\n",
    "median = np.median(data)\n",
    "std = np.std(data)\n",
    "textstr = \"\\n\".join((f\"Expected max-range for VAOD : \",\n",
    "                     f\"- average : {mean:.3f}\",\n",
    "                     f\"- median : {median:.3f}\",\n",
    "                     f\"- sigma : {std:.3f}\",     \n",
    "                    ))\n",
    "ax1.text(0.05, 0.95, textstr, transform=ax1.transAxes, fontsize=14,verticalalignment='top', bbox=props)\n",
    "\n",
    "ax2.plot(df_mb.mjd, df_mb.TOTEXTTAU.values,c=\"g\",lw=0.5,label=\"Merra2\")\n",
    "ax2.set_xlabel(\"time (MJD)\")\n",
    "ax2.legend()\n",
    "ax2.set_ylabel(\"VAOD\")\n",
    "\n",
    "\n",
    "figname =f\"{pathfigs}/vaod_allpoints_merra2\"+figtype\n",
    "fig.savefig(figname)\n",
    "plt.show()\n"
   ]
  },
  {
   "cell_type": "markdown",
   "id": "34d939d0-44a0-4906-b631-c63fd0ce9179",
   "metadata": {},
   "source": [
    "### FFT for aerosols - VAOD"
   ]
  },
  {
   "cell_type": "code",
   "execution_count": null,
   "id": "d08f4c98-970b-4d69-97dd-31ed266628d8",
   "metadata": {
    "execution": {
     "iopub.execute_input": "2025-03-03T09:27:57.318842Z",
     "iopub.status.busy": "2025-03-03T09:27:57.318709Z",
     "iopub.status.idle": "2025-03-03T09:27:57.321143Z",
     "shell.execute_reply": "2025-03-03T09:27:57.320807Z",
     "shell.execute_reply.started": "2025-03-03T09:27:57.318830Z"
    }
   },
   "outputs": [],
   "source": [
    "dates = df_mb.mjd\n",
    "values = df_mb.TOTEXTTAU.values\n",
    "figname =f\"{pathfigs}/vaod_FFT_merra2\"+figtype"
   ]
  },
  {
   "cell_type": "code",
   "execution_count": null,
   "id": "db1962e7-7b46-424a-a795-e0b859875b76",
   "metadata": {
    "execution": {
     "iopub.execute_input": "2025-03-03T09:27:57.321676Z",
     "iopub.status.busy": "2025-03-03T09:27:57.321552Z",
     "iopub.status.idle": "2025-03-03T09:27:57.909942Z",
     "shell.execute_reply": "2025-03-03T09:27:57.909537Z",
     "shell.execute_reply.started": "2025-03-03T09:27:57.321663Z"
    }
   },
   "outputs": [],
   "source": [
    "fig,ax = plt.subplots(1,1,figsize = (FIGXSIZE_0,FIGYSIZE_0),layout=\"constrained\")\n",
    "fourier_analysis(dates, values, ax=ax ,mode= \"logxliny\",\n",
    "                 title = \"FFT : VAOD (Absolute value of FFT)\",\n",
    "                 #xlabel=\"frequency (days$^{-1}$)\",\n",
    "                 #ylabel=\"VAOD\",\n",
    "                 label=\"Merra2 VAOD\")\n",
    "fig.savefig(figname)\n",
    "plt.show()"
   ]
  },
  {
   "cell_type": "code",
   "execution_count": null,
   "id": "fe5331ef-b6d4-43f2-b5bc-7a8c1400978f",
   "metadata": {
    "execution": {
     "iopub.execute_input": "2025-03-03T09:27:57.910543Z",
     "iopub.status.busy": "2025-03-03T09:27:57.910401Z",
     "iopub.status.idle": "2025-03-03T09:28:00.307866Z",
     "shell.execute_reply": "2025-03-03T09:28:00.307530Z",
     "shell.execute_reply.started": "2025-03-03T09:27:57.910530Z"
    }
   },
   "outputs": [],
   "source": [
    "fig,ax = plt.subplots(1,1,figsize = (FIGXSIZE_0,FIGYSIZE_0),layout=\"constrained\")\n",
    "LombScargle_analysis(dates, values, ax=ax ,mode= \"logxliny\",\n",
    "                 title = \"LombScargle : VAOD ($\\sqrt{LombScargle}$)\",\n",
    "                 #xlabel=\"frequency (days$^{-1}$)\",\n",
    "                 #ylabel=\"\",\n",
    "                 label=\"Merra2 VAOD\")\n",
    "figname =f\"{pathfigs}/vaod_LombScargle_merra2\"+figtype\n",
    "fig.savefig(figname)\n",
    "plt.show()"
   ]
  },
  {
   "cell_type": "code",
   "execution_count": null,
   "id": "b22d25db-b133-4088-9313-749a5b3af8a4",
   "metadata": {
    "execution": {
     "iopub.execute_input": "2025-03-03T09:28:00.308398Z",
     "iopub.status.busy": "2025-03-03T09:28:00.308268Z",
     "iopub.status.idle": "2025-03-03T09:28:04.210524Z",
     "shell.execute_reply": "2025-03-03T09:28:04.210126Z",
     "shell.execute_reply.started": "2025-03-03T09:28:00.308385Z"
    }
   },
   "outputs": [],
   "source": [
    "fig,axs = plt.subplots(1,2,figsize = (FIGXSIZE_0,FIGYSIZE_0),layout=\"constrained\")\n",
    "ax1,ax2 = axs.flatten()\n",
    "\n",
    "fourier_analysis(dates, values, ax=ax1 ,mode= \"logxliny\",\n",
    "                 title = \"FFT : VAOD (Absolute value of FFT)\",\n",
    "                 #xlabel=\"frequency (days$^{-1}$)\",\n",
    "                 #ylabel=\"VAOD\",\n",
    "                 label=\"Merra2 VAOD\",legendout = False)\n",
    "\n",
    "LombScargle_analysis(dates, values, ax=ax2 ,mode= \"logxliny\",\n",
    "                 title = \"LombScargle : VAOD ($\\sqrt{LombScargle}$)\",\n",
    "                 #xlabel=\"frequency (days$^{-1}$)\",\n",
    "                 #ylabel=\"\",\n",
    "                 label=\"Merra2 VAOD\",legendout = False)\n",
    "\n",
    "figname =f\"{pathfigs}/vaod_FFTLombScargle_merra2\"+figtype\n",
    "fig.savefig(figname)\n",
    "plt.show()\n"
   ]
  },
  {
   "cell_type": "markdown",
   "id": "70e98d5e-523d-423b-8b16-808ca897107c",
   "metadata": {},
   "source": [
    "## Aerosol Angstrom"
   ]
  },
  {
   "cell_type": "code",
   "execution_count": null,
   "id": "bdbbe50f-56ca-4c7d-ae34-ea25d0e6b07d",
   "metadata": {
    "execution": {
     "iopub.execute_input": "2025-03-03T09:28:04.211104Z",
     "iopub.status.busy": "2025-03-03T09:28:04.210975Z",
     "iopub.status.idle": "2025-03-03T09:28:04.683599Z",
     "shell.execute_reply": "2025-03-03T09:28:04.683193Z",
     "shell.execute_reply.started": "2025-03-03T09:28:04.211092Z"
    }
   },
   "outputs": [],
   "source": [
    "from matplotlib.dates import DateFormatter\n",
    "#date_form = DateFormatter(\"%y-%m-%dT%H:%M\")\n",
    "date_form = DateFormatter(\"%y-%m\")\n",
    "\n",
    "fig = plt.figure(figsize=(18,10))\n",
    "gs = GridSpec(2, 1,figure=fig)\n",
    "\n",
    "ax1 = fig.add_subplot(gs[0])\n",
    "ax2 = fig.add_subplot(gs[1])\n",
    "        \n",
    "leg1=ax1.get_legend()\n",
    "leg2=ax2.get_legend()\n",
    "\n",
    "\n",
    "ax1.plot(pd.to_datetime(df_mb.Time.values), df_mb.TOTANGSTR.values,c=\"purple\",lw=0.5,label=\"Merra2\")\n",
    "ax1.set_xlabel(\"time\")\n",
    "ax1.xaxis.set_major_formatter(date_form)\n",
    "ax1.set_title(\"Angstrom from Merra2\")\n",
    "ax1.legend()\n",
    "ax1.set_ylabel(\"Angstrom\")\n",
    "#ax.set_xlim(TMIN,TMAX)\n",
    "data = df_mb.TOTANGSTR.values\n",
    "mean = np.mean(data)\n",
    "median = np.median(data)\n",
    "std = np.std(data)\n",
    "textstr = \"\\n\".join((f\"Expected max-range for Angstrom : \",\n",
    "                     f\"- average : {mean:.3f}\",\n",
    "                     f\"- median : {median:.3f}\",\n",
    "                     f\"- sigma : {std:.3f}\",     \n",
    "                    ))\n",
    "ax1.text(0.05, 0.95, textstr, transform=ax1.transAxes, fontsize=14,verticalalignment='top', bbox=props)\n",
    "\n",
    "\n",
    "ax2.plot(df_mb.mjd, df_mb.TOTANGSTR.values,c=\"purple\",lw=0.5,label=\"Merra2\")\n",
    "ax2.set_xlabel(\"time (MJD)\")\n",
    "ax2.legend()\n",
    "ax2.set_ylabel(\"Angstrom\")\n",
    "\n",
    "\n",
    "\n",
    "figname =f\"{pathfigs}/vaodangstrom_allpoints_merra2\"+figtype\n",
    "fig.savefig(figname)\n",
    "plt.show()"
   ]
  },
  {
   "cell_type": "markdown",
   "id": "79cae33c-eb5c-45be-9a1d-56b0c3b52fe0",
   "metadata": {},
   "source": [
    "### FFT For Aerosol Angstrom"
   ]
  },
  {
   "cell_type": "code",
   "execution_count": null,
   "id": "70b3d1f3-9b60-4963-9630-ffbaaa6f3da6",
   "metadata": {
    "execution": {
     "iopub.execute_input": "2025-03-03T09:28:04.684202Z",
     "iopub.status.busy": "2025-03-03T09:28:04.684068Z",
     "iopub.status.idle": "2025-03-03T09:28:04.686504Z",
     "shell.execute_reply": "2025-03-03T09:28:04.686167Z",
     "shell.execute_reply.started": "2025-03-03T09:28:04.684190Z"
    }
   },
   "outputs": [],
   "source": [
    "dates = df_mb.mjd\n",
    "values = df_mb.TOTANGSTR.values\n",
    "figname =f\"{pathfigs}/angstrom_FFT_merra2\"+figtype"
   ]
  },
  {
   "cell_type": "code",
   "execution_count": null,
   "id": "5147ecb5-4c84-4ee2-8a1f-0c17b9f10439",
   "metadata": {
    "execution": {
     "iopub.execute_input": "2025-03-03T09:28:04.687012Z",
     "iopub.status.busy": "2025-03-03T09:28:04.686893Z",
     "iopub.status.idle": "2025-03-03T09:28:05.440226Z",
     "shell.execute_reply": "2025-03-03T09:28:05.439833Z",
     "shell.execute_reply.started": "2025-03-03T09:28:04.687000Z"
    }
   },
   "outputs": [],
   "source": [
    "fig,ax = plt.subplots(1,1,figsize = (FIGXSIZE_0,FIGYSIZE_0),layout=\"constrained\")\n",
    "fourier_analysis(dates, values, ax=ax ,mode= \"logxliny\",\n",
    "                 title = \"FFT : Angstrom Exponent (Absolute value of FFT)\",\n",
    "                 #xlabel=\"frequency (days$^{-1}$)\",\n",
    "                 #ylabel=\"Angstrom exp\",\n",
    "                 label=\"Merra2 Angstrom exponent\")\n",
    "fig.savefig(figname)\n",
    "plt.show()"
   ]
  },
  {
   "cell_type": "code",
   "execution_count": null,
   "id": "bf368f9c-b5a6-4076-a8f2-6b0fe2d756ff",
   "metadata": {
    "execution": {
     "iopub.execute_input": "2025-03-03T09:28:05.440804Z",
     "iopub.status.busy": "2025-03-03T09:28:05.440672Z",
     "iopub.status.idle": "2025-03-03T09:28:07.322715Z",
     "shell.execute_reply": "2025-03-03T09:28:07.322291Z",
     "shell.execute_reply.started": "2025-03-03T09:28:05.440791Z"
    }
   },
   "outputs": [],
   "source": [
    "fig,ax = plt.subplots(1,1,figsize = (FIGXSIZE_0,FIGYSIZE_0),layout=\"constrained\")\n",
    "LombScargle_analysis(dates, values, ax=ax ,mode= \"logxliny\",\n",
    "                 title = \"LombScargle : Angstrom exponent ($\\sqrt{LombScargle}$)\",\n",
    "                 #xlabel=\"frequency (days$^{-1}$)\",\n",
    "                 #ylabel=\"\",\n",
    "                 label=\"Merra2 Angstrom exponent\")\n",
    "figname =f\"{pathfigs}/angstrom_LombScargle_merra2\"+figtype\n",
    "fig.savefig(figname)\n",
    "plt.show()"
   ]
  },
  {
   "cell_type": "code",
   "execution_count": null,
   "id": "dbcf1d3a-3086-4aa0-b725-2549711bf472",
   "metadata": {
    "execution": {
     "iopub.execute_input": "2025-03-03T09:28:07.323335Z",
     "iopub.status.busy": "2025-03-03T09:28:07.323202Z",
     "iopub.status.idle": "2025-03-03T09:28:11.119247Z",
     "shell.execute_reply": "2025-03-03T09:28:11.118828Z",
     "shell.execute_reply.started": "2025-03-03T09:28:07.323323Z"
    }
   },
   "outputs": [],
   "source": [
    "fig,axs = plt.subplots(1,2,figsize = (FIGXSIZE_0,FIGYSIZE_0),layout=\"constrained\")\n",
    "ax1,ax2 = axs.flatten()\n",
    "\n",
    "fourier_analysis(dates, values, ax=ax1 ,mode= \"logxliny\",\n",
    "                 title = \"FFT : Angstrom Exponent (Absolute value of FFT)\",\n",
    "                 #xlabel=\"frequency (days$^{-1}$)\",\n",
    "                 #ylabel=\"Angstrom exp\",\n",
    "                 label=\"Merra2 Angstrom amplitude\",legendout = False)\n",
    "\n",
    "LombScargle_analysis(dates, values, ax=ax2 ,mode= \"logxliny\",\n",
    "                 title = \"LombScargle : Angstrom exponent ($\\sqrt{LombScargle}$)\",\n",
    "                 #xlabel=\"frequency (days$^{-1}$)\",\n",
    "                 #ylabel=\"\",\n",
    "                 label=\"Merra2 Angstrom exponent\",legendout = False)\n",
    "\n",
    "figname =f\"{pathfigs}/angstrom_FFTLombScargle_merra2\"+figtype\n",
    "fig.savefig(figname)\n",
    "plt.show()\n"
   ]
  },
  {
   "cell_type": "code",
   "execution_count": null,
   "id": "e4a9a88a-6a01-49d0-a4d6-69a7198f8400",
   "metadata": {},
   "outputs": [],
   "source": []
  }
 ],
 "metadata": {
  "kernelspec": {
   "display_name": "LSST",
   "language": "python",
   "name": "lsst"
  },
  "language_info": {
   "codemirror_mode": {
    "name": "ipython",
    "version": 3
   },
   "file_extension": ".py",
   "mimetype": "text/x-python",
   "name": "python",
   "nbconvert_exporter": "python",
   "pygments_lexer": "ipython3",
   "version": "3.11.9"
  }
 },
 "nbformat": 4,
 "nbformat_minor": 5
}
