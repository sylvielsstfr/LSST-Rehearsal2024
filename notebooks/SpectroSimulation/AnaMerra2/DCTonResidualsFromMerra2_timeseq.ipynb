{
 "cells": [
  {
   "cell_type": "markdown",
   "id": "45bf4242-bfc5-4d43-88c4-a8059ae148df",
   "metadata": {},
   "source": [
    "# Discrete Covariance Function On residuals from time sequences from Merra2"
   ]
  },
  {
   "cell_type": "markdown",
   "id": "01993b6e-6438-4fca-a5d5-1f9791336847",
   "metadata": {},
   "source": [
    "- author Sylvie Dagoret-Campagne\n",
    "- affiliation : IJCLab\n",
    "- creation date 2025-03-08 \n",
    "- last update : 2025-03-08\n",
    "- Kernel @usdf **w_2024_50*\n",
    "- Office emac : mamba_py311\n",
    "- Home emac : base (conda)\n",
    "- laptop : conda_py311"
   ]
  },
  {
   "cell_type": "markdown",
   "id": "0219159d-6865-4311-ac1d-99d11dad223f",
   "metadata": {},
   "source": [
    "**Goal** : Fit the variation of Merra2 parameter impact the transmission\n",
    "\n",
    "- CO2 fit : https://scikit-learn.org/stable/auto_examples/gaussian_process/plot_gpr_co2.html#sphx-glr-auto-examples-gaussian-process-plot-gpr-co2-py\n",
    "\n",
    "- Kernels : https://scikit-learn.org/stable/modules/gaussian_process.html#gp-kernels"
   ]
  },
  {
   "cell_type": "code",
   "execution_count": null,
   "id": "63a2b2ef-0bc2-45eb-91d9-87835d264751",
   "metadata": {
    "tags": []
   },
   "outputs": [],
   "source": [
    "from platform import python_version\n",
    "print(python_version())"
   ]
  },
  {
   "cell_type": "code",
   "execution_count": null,
   "id": "dcc53afe-c58f-4948-92c9-0090d373ad2a",
   "metadata": {},
   "outputs": [],
   "source": [
    "import warnings\n",
    "warnings.resetwarnings()\n",
    "warnings.simplefilter('ignore')"
   ]
  },
  {
   "cell_type": "code",
   "execution_count": null,
   "id": "8026d265-2493-4045-afec-26205ff71f7c",
   "metadata": {
    "tags": []
   },
   "outputs": [],
   "source": [
    "from platform import python_version\n",
    "print(python_version())"
   ]
  },
  {
   "cell_type": "code",
   "execution_count": null,
   "id": "eb1f116e-80e3-46ad-a7db-7f253632e5ca",
   "metadata": {},
   "outputs": [],
   "source": [
    "import os,glob"
   ]
  },
  {
   "cell_type": "code",
   "execution_count": null,
   "id": "3ec760cd-3d3f-4a34-a6f6-b226fe500951",
   "metadata": {},
   "outputs": [],
   "source": [
    "# where are stored the figures\n",
    "pathfigs = \"figsDCTResidualsAtmosphereFomMerra22\"\n",
    "if not os.path.exists(pathfigs):\n",
    "    os.makedirs(pathfigs) \n",
    "figtype = \".png\""
   ]
  },
  {
   "cell_type": "code",
   "execution_count": null,
   "id": "235dff4d-b2e5-4217-a33b-354dbad5bb1e",
   "metadata": {},
   "outputs": [],
   "source": [
    "# where are stored the data\n",
    "pathdata = \"dataDCTResidualsAtmosphereFromMerra2\"\n",
    "if not os.path.exists(pathdata):\n",
    "    os.makedirs(pathdata) \n",
    "datatype = \".csv\"\n",
    "\n",
    "dcf_path_input = os.path.join(pathdata,\"dcf_timecurves\") \n",
    "dcf_path_output = os.path.join(pathdata,\"dcf_results\") \n",
    "if not os.path.exists(dcf_path_input):\n",
    "    os.makedirs(dcf_path_input) \n",
    "if not os.path.exists(dcf_path_output):\n",
    "    os.makedirs(dcf_path_output) "
   ]
  },
  {
   "cell_type": "code",
   "execution_count": null,
   "id": "e73d8e6c-6480-45bf-9fca-82e729e12c6f",
   "metadata": {},
   "outputs": [],
   "source": [
    "# where are stored the redsiduals\n",
    "inputpathdata = \"dataFitGPPerAtmosphereFromMerra2\"\n",
    "if not os.path.exists(inputpathdata):\n",
    "    #os.makedirs(pathdata) \n",
    "    raise Exception(\"Missing input data on residuals\")\n",
    "else:\n",
    "    filessearch_str = os.path.join(inputpathdata ,\"*.csv\")\n",
    "    filelist = glob.glob( filessearch_str)"
   ]
  },
  {
   "cell_type": "code",
   "execution_count": null,
   "id": "9b545d5b-973e-43de-9d93-8d5c137805a5",
   "metadata": {},
   "outputs": [],
   "source": [
    "filename_residuals = {}\n",
    "for tag in [\"pwv\", \"ozone\",\"vaod\", \"angstrom\"]:\n",
    "    for filename in filelist:\n",
    "        if tag in filename:\n",
    "            filename_residuals[tag] = filename\n",
    "            break\n",
    "filename_residuals            "
   ]
  },
  {
   "cell_type": "code",
   "execution_count": null,
   "id": "bf752b70-e6ca-4cbf-8e8c-20bf7f0d8f61",
   "metadata": {},
   "outputs": [],
   "source": [
    "import numpy as np\n",
    "from numpy.linalg import inv\n",
    "import matplotlib as mpl\n",
    "import matplotlib.pyplot as plt\n",
    "%matplotlib inline\n",
    "from mpl_toolkits.axes_grid1 import make_axes_locatable\n",
    "from matplotlib.colors import LogNorm,SymLogNorm\n",
    "from matplotlib.patches import Circle,Annulus\n",
    "from astropy.visualization import ZScaleInterval\n",
    "props = dict(boxstyle='round', facecolor=\"white\", alpha=0.1)\n",
    "#props = dict(boxstyle='round')\n",
    "\n",
    "import matplotlib.colors as colors\n",
    "import matplotlib.cm as cmx\n",
    "\n",
    "import matplotlib.ticker                         # here's where the formatter is\n",
    "from matplotlib.ticker import (MultipleLocator, FormatStrFormatter,\n",
    "                               AutoMinorLocator)\n",
    "\n",
    "from matplotlib.gridspec import GridSpec\n",
    "\n",
    "from astropy.visualization import (MinMaxInterval, SqrtStretch,ZScaleInterval,PercentileInterval,\n",
    "                                   ImageNormalize,imshow_norm)\n",
    "from astropy.visualization.stretch import SinhStretch, LinearStretch,AsinhStretch,LogStretch\n",
    "\n",
    "from astropy.io import fits\n",
    "from astropy.wcs import WCS\n",
    "from astropy import units as u\n",
    "from astropy import constants as c\n",
    "\n",
    "from astropy.coordinates.earth import EarthLocation\n",
    "from datetime import datetime\n",
    "from pytz import timezone\n",
    "\n",
    "from scipy import interpolate\n",
    "from sklearn.neighbors import NearestNeighbors\n",
    "from sklearn.neighbors import KDTree, BallTree\n",
    "\n",
    "import pandas as pd\n",
    "pd.set_option(\"display.max_columns\", None)\n",
    "pd.set_option('display.max_rows', 100)\n",
    "\n",
    "import matplotlib.ticker                         # here's where the formatter is\n",
    "import os\n",
    "import re\n",
    "import pandas as pd\n",
    "import pickle\n",
    "from collections import OrderedDict\n",
    "\n",
    "plt.rcParams[\"figure.figsize\"] = (4,3)\n",
    "plt.rcParams[\"axes.labelsize\"] = 'xx-large'\n",
    "plt.rcParams['axes.titlesize'] = 'xx-large'\n",
    "plt.rcParams['xtick.labelsize']= 'xx-large'\n",
    "plt.rcParams['ytick.labelsize']= 'xx-large'\n",
    "\n",
    "import scipy\n",
    "from scipy import stats\n",
    "from scipy.optimize import curve_fit,least_squares\n",
    "\n",
    "# https://www.statsmodels.org/dev/generated/statsmodels.tsa.stattools.adfuller.html\n",
    "\n",
    "props = dict(boxstyle='round', facecolor='white', alpha=0.5)"
   ]
  },
  {
   "cell_type": "code",
   "execution_count": null,
   "id": "12fc8f48-c073-433f-aa4e-2a8b785100e6",
   "metadata": {},
   "outputs": [],
   "source": [
    "# Remove to run faster the notebook\n",
    "import ipywidgets as widgets\n",
    "%matplotlib widget"
   ]
  },
  {
   "cell_type": "code",
   "execution_count": null,
   "id": "ad1b1943-5173-40b8-8ac8-442e6ecc47d0",
   "metadata": {},
   "outputs": [],
   "source": [
    "from astropy.modeling import models"
   ]
  },
  {
   "cell_type": "code",
   "execution_count": null,
   "id": "46fe722f-bb23-4c29-8efb-4c096c72eec9",
   "metadata": {},
   "outputs": [],
   "source": [
    "from numpy.random import lognormal"
   ]
  },
  {
   "cell_type": "code",
   "execution_count": null,
   "id": "0ca0d1e6-5f82-4c43-aaa3-8524fc2bc5ba",
   "metadata": {},
   "outputs": [],
   "source": [
    "from matplotlib.ticker import (MultipleLocator, FormatStrFormatter,\n",
    "                               AutoMinorLocator)\n",
    "from astropy.visualization import (MinMaxInterval, SqrtStretch,ZScaleInterval,PercentileInterval,\n",
    "                                   ImageNormalize,imshow_norm)\n",
    "from astropy.visualization.stretch import SinhStretch, LinearStretch,AsinhStretch,LogStretch\n",
    "\n",
    "from astropy.time import Time\n",
    "from astropy.timeseries import TimeSeries\n",
    "from statsmodels.tsa.stattools import adfuller, kpss"
   ]
  },
  {
   "cell_type": "code",
   "execution_count": null,
   "id": "e189816c-5048-43ab-a01a-7c078af54489",
   "metadata": {},
   "outputs": [],
   "source": [
    "# Remove to run faster the notebook\n",
    "import ipywidgets as widgets\n",
    "%matplotlib widget"
   ]
  },
  {
   "cell_type": "code",
   "execution_count": null,
   "id": "67327fd4-e405-45ce-8923-cd46ebaa0c0f",
   "metadata": {
    "tags": []
   },
   "outputs": [],
   "source": [
    "from importlib.metadata import version"
   ]
  },
  {
   "cell_type": "code",
   "execution_count": null,
   "id": "af8332dd-24f9-4b19-88f9-c62d0a4aebf1",
   "metadata": {
    "tags": []
   },
   "outputs": [],
   "source": [
    "# wavelength bin colors\n",
    "#jet = plt.get_cmap('jet')\n",
    "#cNorm = mpl.colors.Normalize(vmin=0, vmax=NSED)\n",
    "#scalarMap = cmx.ScalarMappable(norm=cNorm, cmap=jet)\n",
    "#all_colors = scalarMap.to_rgba(np.arange(NSED), alpha=1)"
   ]
  },
  {
   "cell_type": "code",
   "execution_count": null,
   "id": "1003d9d6-a40f-48b1-9ffc-bfab9f45ba93",
   "metadata": {},
   "outputs": [],
   "source": [
    "np.__version__"
   ]
  },
  {
   "cell_type": "code",
   "execution_count": null,
   "id": "c4cb2652-cb22-432e-b110-ae71d59dc793",
   "metadata": {},
   "outputs": [],
   "source": [
    "pd.__version__"
   ]
  },
  {
   "cell_type": "code",
   "execution_count": null,
   "id": "1abb40c0-6423-4051-8173-5746ead823d4",
   "metadata": {},
   "outputs": [],
   "source": [
    "from astropy.timeseries import LombScargle"
   ]
  },
  {
   "cell_type": "code",
   "execution_count": null,
   "id": "49592406-fcc6-4aa4-8904-21b611ecd896",
   "metadata": {},
   "outputs": [],
   "source": [
    "from sklearn.gaussian_process.kernels import RBF\n",
    "from sklearn.gaussian_process.kernels import ExpSineSquared\n",
    "from sklearn.gaussian_process.kernels import RationalQuadratic\n",
    "from sklearn.gaussian_process.kernels import WhiteKernel\n",
    "from sklearn.gaussian_process.kernels import ConstantKernel\n",
    "from sklearn.gaussian_process.kernels import Matern\n",
    "from sklearn.gaussian_process.kernels import Kernel, Hyperparameter"
   ]
  },
  {
   "cell_type": "code",
   "execution_count": null,
   "id": "303b52d7-4653-40c5-9565-416b995c53d5",
   "metadata": {
    "tags": []
   },
   "outputs": [],
   "source": [
    "from sklearn.gaussian_process import GaussianProcessRegressor\n",
    "from scipy.special import gamma\n",
    "from scipy.stats import levy_stable,cauchy, laplace, norm"
   ]
  },
  {
   "cell_type": "code",
   "execution_count": null,
   "id": "900380d9-90e9-4772-9021-d8705954ad85",
   "metadata": {},
   "outputs": [],
   "source": [
    "from astropy.modeling import models, fitting\n",
    "from pyzdcf import pyzdcf"
   ]
  },
  {
   "cell_type": "code",
   "execution_count": null,
   "id": "60594dbd-a8f5-4570-8250-c4c018795671",
   "metadata": {},
   "outputs": [],
   "source": [
    "YEAR = 365.25\n",
    "MONTHS6 = YEAR/2.\n",
    "MONTHS4 = YEAR/3.\n",
    "QUARTER = YEAR/4. \n",
    "DAY = 1.\n",
    "MONTH = YEAR/12.\n",
    "WEEK = 7*DAY"
   ]
  },
  {
   "cell_type": "code",
   "execution_count": null,
   "id": "6484a574-1f52-43d0-8385-9eb112bac791",
   "metadata": {},
   "outputs": [],
   "source": [
    "FIGXSIZE_1 = 14\n",
    "FIGYSIZE_1 = 8\n",
    "\n",
    "FIGXSIZE_0 = 14\n",
    "FIGYSIZE_0 = 5"
   ]
  },
  {
   "cell_type": "code",
   "execution_count": null,
   "id": "33f7b495-f773-45f6-a837-9bb6983ab15e",
   "metadata": {},
   "outputs": [],
   "source": [
    "def ComputeZDCF(filename_in,df_pwv_curve,minpts=20):\n",
    "    \"\"\"\n",
    "    Compute the Discrete Covariance Curve with pyzdcf\n",
    "\n",
    "    parameters :\n",
    "    - df_pwv_curve : pandas dataframe with 3 columns : (time, pwv, sigma)\n",
    "      The time has to be chosen in terms of days/hours,min ..., outside this function\n",
    "    - filename_in : csv file where are written the tempory DTC curve\n",
    "    \n",
    "    \"\"\"\n",
    "    \n",
    "    # add the error on the point \n",
    "    #df_pwvc = df_pwvc.assign(sig_pwv = lambda x: sigma_repeatability)\n",
    "\n",
    "    full_filename_in = os.path.join(dcf_path_input,filename_in)\n",
    "    df_pwv_curve.to_csv(full_filename_in, index=False,header=False)\n",
    "\n",
    "    # parameters for the pyzdcf\n",
    "    params_dcf = dict(autocf    =  True, # Autocorrelation (T) or cross-correlation (F)\n",
    "              prefix            = 'acf',  # Output files prefix\n",
    "              uniform_sampling  =  False, # Uniform sampling?\n",
    "              omit_zero_lags    =  False,  # Omit zero lag points?\n",
    "              minpts            =  minpts,     # Min. num. of points per bin (0 is a flag for default value of 11)\n",
    "              num_MC            =  100,   # Num. of Monte Carlo simulations for error estimation\n",
    "              lc1_name          =  filename_in,   # Name of the first light curve file\n",
    "              lc2_name          =  filename_in    # Name of the second light curve file (required only if we do CCF)\n",
    "             )\n",
    "\n",
    "    # compute the ZDCF\n",
    "    \n",
    "    dcf_df = pyzdcf(input_dir  =  dcf_path_input + \"/\" , \n",
    "                    output_dir = dcf_path_output + \"/\", \n",
    "                    intr       = False, \n",
    "                    parameters = params_dcf, \n",
    "                    sep        = ',', \n",
    "                    sparse     = 'auto', \n",
    "                    verbose    = False)\n",
    "    return dcf_df"
   ]
  },
  {
   "cell_type": "markdown",
   "id": "4f13d6a3-7793-4bc0-920a-1d690d9f84b2",
   "metadata": {},
   "source": [
    "## Configuration"
   ]
  },
  {
   "cell_type": "code",
   "execution_count": null,
   "id": "29f8ef51-15e0-4139-ae26-830cbaeebe73",
   "metadata": {},
   "outputs": [],
   "source": [
    "tmin_select = 59500"
   ]
  },
  {
   "cell_type": "markdown",
   "id": "6175a4a4-5c98-4e09-8ffd-a17282f6094e",
   "metadata": {},
   "source": [
    "### Residuals"
   ]
  },
  {
   "cell_type": "markdown",
   "id": "0d46117d-ca5c-4820-bf77-5948804f8513",
   "metadata": {},
   "source": [
    "# Start analysis"
   ]
  },
  {
   "cell_type": "markdown",
   "id": "1de0255c-cbc2-4603-997c-8eaaa18eeef2",
   "metadata": {},
   "source": [
    "## Analysis of PWV"
   ]
  },
  {
   "cell_type": "code",
   "execution_count": null,
   "id": "519fc82e-1b99-4e92-bdc1-da95dfd13334",
   "metadata": {},
   "outputs": [],
   "source": [
    "full_filename = filename_residuals[\"pwv\"]\n",
    "print(full_filename)"
   ]
  },
  {
   "cell_type": "code",
   "execution_count": null,
   "id": "9d99cc67-f116-4af4-ab0c-934245c8fccd",
   "metadata": {},
   "outputs": [],
   "source": [
    "df = pd.read_csv(full_filename,index_col=0)\n",
    "N = len(df)"
   ]
  },
  {
   "cell_type": "code",
   "execution_count": null,
   "id": "97b0f768-1e81-4c40-8e2e-c1d99242e732",
   "metadata": {},
   "outputs": [],
   "source": [
    "x_full = df[\"mjd\"].values\n",
    "y_full = df[\"res\"].values\n",
    "X_full = x_full.reshape(-1, 1)"
   ]
  },
  {
   "cell_type": "markdown",
   "id": "15953c67-a184-4216-ade1-638fb0330930",
   "metadata": {},
   "source": [
    "### Continue in GP Fit if iregularities"
   ]
  },
  {
   "cell_type": "code",
   "execution_count": null,
   "id": "4fd96c71-1b9d-4878-86a3-243d6be8930b",
   "metadata": {},
   "outputs": [],
   "source": [
    "\n",
    "tmax_select = x_full.max()\n",
    "good_indexes_forresiduals = np.where(np.logical_and(x_full > tmin_select, x_full< tmax_select ))[0]"
   ]
  },
  {
   "cell_type": "code",
   "execution_count": null,
   "id": "cc09625b-7a5d-4b37-bdac-807895078602",
   "metadata": {},
   "outputs": [],
   "source": [
    "fig,ax = plt.subplots(1,1,figsize=(4,3))\n",
    "ax.hist(y_full[good_indexes_forresiduals],bins=200,facecolor=\"tab:blue\");\n",
    "ax.set_xlabel(\"mm\")\n",
    "ax.set_title(\"input residuals PWV\")"
   ]
  },
  {
   "cell_type": "code",
   "execution_count": null,
   "id": "3fd02994-4a05-4145-8da9-10ac7f5b920a",
   "metadata": {},
   "outputs": [],
   "source": [
    "fig = plt.figure(figsize=(FIGXSIZE_0,FIGYSIZE_0),layout=\"constrained\")\n",
    "#gs = GridSpec(2, 1,figure=fig)\n",
    "gs = GridSpec(1, 1,figure=fig)\n",
    "ax1 = fig.add_subplot(gs[0])\n",
    "#ax2 = fig.add_subplot(gs[1])\n",
    "        \n",
    "leg1=ax1.get_legend()\n",
    "#leg2=ax2.get_legend()\n",
    "ax1.plot(x_full,y_full,c=\"b\",lw=0.5,label=\"Merra2\")\n",
    "ax1.set_xlabel(\"time (MJD)\")\n",
    "ax1.legend()\n",
    "ax1.set_ylabel(\"PWV residuals (mm)\")\n",
    "ax1.set_title(\"PWV residuals after GP-Periodic removal\")\n",
    "figname =f\"{pathfigs}/pwv_resGPper_timeseqall_merra2\"+figtype\n",
    "ax1.axvline(tmin_select,color=\"k\",ls=':')\n",
    "ax1.axvline(tmax_select,color=\"k\",ls=':')\n",
    "fig.savefig(figname)\n",
    "plt.show()\n"
   ]
  },
  {
   "cell_type": "code",
   "execution_count": null,
   "id": "dbebb44c-f87e-4d37-9556-ccf8ad04a1ca",
   "metadata": {},
   "outputs": [],
   "source": [
    "df = df[df.mjd>tmin_select]\n",
    "N = len(df)\n",
    "NSAMP = 10000\n",
    "index_range = np.arange(0,N ,1)\n",
    "index_selected = np.random.choice(index_range , size=NSAMP,replace = False)\n",
    "index_selected = np.sort(index_selected)\n",
    "index_selected = index_range "
   ]
  },
  {
   "cell_type": "code",
   "execution_count": null,
   "id": "3e091214-6a5c-43e1-af22-ccbe8b3e5c14",
   "metadata": {},
   "outputs": [],
   "source": [
    "SIGMA_PWVREPEATABILITY = 0.26"
   ]
  },
  {
   "cell_type": "code",
   "execution_count": null,
   "id": "c2f6ccef-02b7-4bc3-b92a-3490aa1f0f20",
   "metadata": {},
   "outputs": [],
   "source": [
    "df_dcf_in = df[[\"mjd\",\"res\"]]\n",
    "tstart = df_dcf_in[\"mjd\"].min()\n",
    "tstop = df_dcf_in[\"mjd\"].max()\n",
    "df_dcf_in[\"t_day\"] = df_dcf_in[\"mjd\"] - tstart\n",
    "df_dcf_in = df_dcf_in[[\"t_day\",\"res\"]] \n",
    "\n",
    "df_dcf_in = df_dcf_in.assign(sig_pwv = lambda x: SIGMA_PWVREPEATABILITY)\n",
    "df_dcf_in = df_dcf_in.iloc[index_selected]"
   ]
  },
  {
   "cell_type": "code",
   "execution_count": null,
   "id": "01007a38-1d54-4aac-b88f-350e72c89e0a",
   "metadata": {},
   "outputs": [],
   "source": [
    "df_dcf_out = ComputeZDCF(\"dcf_in_pwvres_merra2.csv\",df_dcf_in, minpts=20)"
   ]
  },
  {
   "cell_type": "code",
   "execution_count": null,
   "id": "c3de10b1-da68-4af0-979e-e6f7fd2eb675",
   "metadata": {},
   "outputs": [],
   "source": [
    "xerr = df_dcf_out[[\"-sig(tau)\",\"+sig(tau)\"]].values.T\t\n",
    "yerr = df_dcf_out[[\"-err(dcf)\",\"+err(dcf)\"]].values.T\t\n",
    "x = df_dcf_out[\"tau\"].values\n",
    "y = df_dcf_out[\"dcf\"].values"
   ]
  },
  {
   "cell_type": "code",
   "execution_count": null,
   "id": "716ca702-0c07-4dbf-abbe-e2870430d6c2",
   "metadata": {},
   "outputs": [],
   "source": [
    "fig,ax = plt.subplots(1,1,figsize=(12,5),layout=\"constrained\")\n",
    "ax.errorbar(x,y,xerr=xerr,yerr=yerr,marker='o', mfc='red',linewidth=0.5,\n",
    "         mec='blue', ms=2, mew=2,ecolor=\"k\",elinewidth=2,capsize=2,uplims=True, lolims=True)\n",
    "ax.grid()\n",
    "ax.set_ylim(-1,1)\n",
    "ax.set_title(f\"Discrete covariance function on PWV residuals in Merra2\")\n",
    "ax.set_xlabel(\"Time (days)\")\n",
    "ax.set_ylabel(\"DCF (no units)\")"
   ]
  },
  {
   "cell_type": "markdown",
   "id": "3338a245-30b8-444c-971e-d5d1efc68b1f",
   "metadata": {},
   "source": [
    "## Analysis of Ozone"
   ]
  },
  {
   "cell_type": "code",
   "execution_count": null,
   "id": "aece4bfa-d37a-4c98-b98f-a857c0c24c30",
   "metadata": {},
   "outputs": [],
   "source": [
    "full_filename = filename_residuals[\"ozone\"]\n",
    "print(full_filename)"
   ]
  },
  {
   "cell_type": "code",
   "execution_count": null,
   "id": "2af1a218-0874-4922-8c35-27dce903750d",
   "metadata": {},
   "outputs": [],
   "source": [
    "df = pd.read_csv(full_filename,index_col=0)\n",
    "N = len(df)"
   ]
  },
  {
   "cell_type": "code",
   "execution_count": null,
   "id": "2bd90847-1689-43f1-93e9-be281f133600",
   "metadata": {},
   "outputs": [],
   "source": [
    "x_full = df[\"mjd\"].values\n",
    "y_full = df[\"res\"].values\n",
    "X_full = x_full.reshape(-1, 1)"
   ]
  },
  {
   "cell_type": "markdown",
   "id": "552da08d-0ef6-40be-b870-9ddc4bdcc0bb",
   "metadata": {},
   "source": [
    "### Continue on fit"
   ]
  },
  {
   "cell_type": "code",
   "execution_count": null,
   "id": "3b6a1653-6d61-4f81-aa88-3cb1272d4655",
   "metadata": {},
   "outputs": [],
   "source": [
    "tmin_select = 59500\n",
    "tmax_select = x_full.max()\n",
    "good_indexes_forresiduals = np.where(np.logical_and(x_full > tmin_select, x_full< tmax_select ))[0]"
   ]
  },
  {
   "cell_type": "code",
   "execution_count": null,
   "id": "c6fd44bd-0f32-47f2-98ca-33a3bb9701e9",
   "metadata": {},
   "outputs": [],
   "source": [
    "fig,ax = plt.subplots(1,1,figsize=(4,3))\n",
    "ax.hist(y_full[good_indexes_forresiduals],bins=200,facecolor=\"tab:red\");\n",
    "ax.set_xlabel(\"DU\")\n",
    "ax.set_title(\"input residuals Ozone\")"
   ]
  },
  {
   "cell_type": "code",
   "execution_count": null,
   "id": "8011abee-17f2-4570-87fd-c7d112c98c2f",
   "metadata": {},
   "outputs": [],
   "source": [
    "fig = plt.figure(figsize=(FIGXSIZE_0,FIGYSIZE_0),layout=\"constrained\")\n",
    "#gs = GridSpec(2, 1,figure=fig)\n",
    "gs = GridSpec(1, 1,figure=fig)\n",
    "ax1 = fig.add_subplot(gs[0])\n",
    "#ax2 = fig.add_subplot(gs[1])\n",
    "        \n",
    "leg1=ax1.get_legend()\n",
    "#leg2=ax2.get_legend()\n",
    "ax1.plot(x_full,y_full,c=\"r\",lw=0.5,label=\"Merra2\")\n",
    "ax1.set_xlabel(\"time (MJD)\")\n",
    "ax1.legend()\n",
    "ax1.set_ylabel(\"Ozone residuals (DU)\")\n",
    "ax1.set_title(\"Ozone residuals after GP-Periodic removal\")\n",
    "figname =f\"{pathfigs}/ozone_resGPper_timeseqall_merra2\"+figtype\n",
    "ax1.axvline(tmin_select,color=\"k\",ls=':')\n",
    "ax1.axvline(tmax_select,color=\"k\",ls=':')\n",
    "fig.savefig(figname)\n",
    "plt.show()"
   ]
  },
  {
   "cell_type": "code",
   "execution_count": null,
   "id": "fd077eea-650c-4279-ad33-f08704eb7621",
   "metadata": {},
   "outputs": [],
   "source": [
    "SIGMA_OZONEREPEATABILITY = 5."
   ]
  },
  {
   "cell_type": "code",
   "execution_count": null,
   "id": "74c4e6e4-14f6-452d-a567-d8efb45cf49e",
   "metadata": {},
   "outputs": [],
   "source": [
    "df = df[df.mjd>tmin_select]\n",
    "N = len(df)\n",
    "NSAMP = 10000\n",
    "index_range = np.arange(0,N ,1)\n",
    "index_selected = np.random.choice(index_range , size=NSAMP,replace = False)\n",
    "index_selected = np.sort(index_selected)\n",
    "index_selected = index_range "
   ]
  },
  {
   "cell_type": "code",
   "execution_count": null,
   "id": "14dc7ec0-1042-4cca-b102-7bedb75e531f",
   "metadata": {},
   "outputs": [],
   "source": [
    "df_dcf_in = df[[\"mjd\",\"res\"]]\n",
    "tstart = df_dcf_in[\"mjd\"].min()\n",
    "tstop = df_dcf_in[\"mjd\"].max()\n",
    "df_dcf_in[\"t_day\"] = df_dcf_in[\"mjd\"] - tstart\n",
    "df_dcf_in = df_dcf_in[[\"t_day\",\"res\"]] \n",
    "\n",
    "df_dcf_in = df_dcf_in.assign(sig_ozone = lambda x: SIGMA_PWVREPEATABILITY)\n",
    "df_dcf_in = df_dcf_in.iloc[index_selected]"
   ]
  },
  {
   "cell_type": "code",
   "execution_count": null,
   "id": "f2bbecd4-377a-4b03-a9ef-5da0386bd16e",
   "metadata": {},
   "outputs": [],
   "source": [
    "df_dcf_out = ComputeZDCF(\"dcf_in_ozoneres_merra2.csv\",df_dcf_in, minpts=20)"
   ]
  },
  {
   "cell_type": "code",
   "execution_count": null,
   "id": "86397a59-3326-4321-98fb-94ff3d6713c0",
   "metadata": {},
   "outputs": [],
   "source": [
    "xerr = df_dcf_out[[\"-sig(tau)\",\"+sig(tau)\"]].values.T\t\n",
    "yerr = df_dcf_out[[\"-err(dcf)\",\"+err(dcf)\"]].values.T\t\n",
    "x = df_dcf_out[\"tau\"].values\n",
    "y = df_dcf_out[\"dcf\"].values"
   ]
  },
  {
   "cell_type": "code",
   "execution_count": null,
   "id": "ad0339d9-4ecb-41b7-9b87-470366a56218",
   "metadata": {},
   "outputs": [],
   "source": [
    "fig,ax = plt.subplots(1,1,figsize=(12,5),layout=\"constrained\")\n",
    "ax.errorbar(x,y,xerr=xerr,yerr=yerr,marker='o', mfc='red',linewidth=0.5,\n",
    "         mec='red', ms=2, mew=2,ecolor=\"k\",elinewidth=2,capsize=2,uplims=True, lolims=True)\n",
    "ax.grid()\n",
    "ax.set_ylim(-1,1)\n",
    "ax.set_title(f\"Discrete covariance function on Ozone residuals in Merra2\")\n",
    "ax.set_xlabel(\"Time (days)\")\n",
    "ax.set_ylabel(\"DCF (no units)\")"
   ]
  },
  {
   "cell_type": "markdown",
   "id": "58b4ac69-947d-4b40-9b5f-aec8c9d6f841",
   "metadata": {},
   "source": [
    "## Aerosol VAOD"
   ]
  },
  {
   "cell_type": "code",
   "execution_count": null,
   "id": "679c4243-6f0d-4cd4-9655-6319904242ae",
   "metadata": {},
   "outputs": [],
   "source": [
    "full_filename = filename_residuals[\"vaod\"]\n",
    "print(full_filename)"
   ]
  },
  {
   "cell_type": "code",
   "execution_count": null,
   "id": "e1932ec1-31fe-4f91-ad0d-d4ceee374242",
   "metadata": {},
   "outputs": [],
   "source": [
    "df = pd.read_csv(full_filename,index_col=0)\n",
    "N = len(df)"
   ]
  },
  {
   "cell_type": "code",
   "execution_count": null,
   "id": "4ef9e73a-ab80-49fb-b2cf-d36a59688d90",
   "metadata": {},
   "outputs": [],
   "source": [
    "x_full = df[\"mjd\"].values\n",
    "y_full = df[\"res\"].values\n",
    "X_full = x_full.reshape(-1, 1)"
   ]
  },
  {
   "cell_type": "code",
   "execution_count": null,
   "id": "b3d32f7f-8396-469c-a6d6-0bb9f1d4fd9c",
   "metadata": {},
   "outputs": [],
   "source": [
    "tmin_select = 59500\n",
    "tmax_select = x_full.max()\n",
    "good_indexes_forresiduals = np.where(np.logical_and(x_full > tmin_select, x_full< tmax_select ))[0]"
   ]
  },
  {
   "cell_type": "code",
   "execution_count": null,
   "id": "a753bb2c-a0a1-4b69-ae39-8057f04b087a",
   "metadata": {},
   "outputs": [],
   "source": [
    "fig,ax = plt.subplots(1,1,figsize=(4,3))\n",
    "ax.hist(y_full[good_indexes_forresiduals],bins=200,facecolor=\"tab:green\");\n",
    "ax.set_xlabel(\"VAOD\")\n",
    "ax.set_title(\"input residuals VAOD\")"
   ]
  },
  {
   "cell_type": "code",
   "execution_count": null,
   "id": "a8100c9c-f15f-44bf-b2db-75efceba231f",
   "metadata": {},
   "outputs": [],
   "source": [
    "fig = plt.figure(figsize=(FIGXSIZE_0,FIGYSIZE_0),layout=\"constrained\")\n",
    "#gs = GridSpec(2, 1,figure=fig)\n",
    "gs = GridSpec(1, 1,figure=fig)\n",
    "ax1 = fig.add_subplot(gs[0])\n",
    "#ax2 = fig.add_subplot(gs[1])\n",
    "        \n",
    "leg1=ax1.get_legend()\n",
    "#leg2=ax2.get_legend()\n",
    "ax1.plot(x_full,y_full,c=\"g\",lw=0.5,label=\"Merra2\")\n",
    "ax1.set_xlabel(\"time (MJD)\")\n",
    "ax1.legend()\n",
    "ax1.set_ylabel(\"VAOD residuals\")\n",
    "ax1.set_title(\"VAOD residuals after GP-Periodic removal\")\n",
    "figname =f\"{pathfigs}/vaod_resGPper_timeseqall_merra2\"+figtype\n",
    "ax1.axvline(tmin_select,color=\"k\",ls=':')\n",
    "ax1.axvline(tmax_select,color=\"k\",ls=':')\n",
    "fig.savefig(figname)\n",
    "plt.show()"
   ]
  },
  {
   "cell_type": "code",
   "execution_count": null,
   "id": "87207555-fad6-4893-9888-6823c01de3fb",
   "metadata": {},
   "outputs": [],
   "source": [
    "SIGMA_VAODREPEATABILITY = 0.01"
   ]
  },
  {
   "cell_type": "code",
   "execution_count": null,
   "id": "ad4a6dd1-1027-4d22-9ec2-5e6a87047075",
   "metadata": {},
   "outputs": [],
   "source": [
    "df = df[df.mjd>tmin_select]\n",
    "N = len(df)\n",
    "NSAMP = 10000\n",
    "index_range = np.arange(0,N ,1)\n",
    "index_selected = np.random.choice(index_range , size=NSAMP,replace = False)\n",
    "index_selected = np.sort(index_selected)\n",
    "index_selected = index_range "
   ]
  },
  {
   "cell_type": "code",
   "execution_count": null,
   "id": "759c4ee1-c890-47e8-86db-1ada93a3965e",
   "metadata": {},
   "outputs": [],
   "source": [
    "df_dcf_in = df[[\"mjd\",\"res\"]]\n",
    "tstart = df_dcf_in[\"mjd\"].min()\n",
    "tstop = df_dcf_in[\"mjd\"].max()\n",
    "df_dcf_in[\"t_day\"] = df_dcf_in[\"mjd\"] - tstart\n",
    "df_dcf_in = df_dcf_in[[\"t_day\",\"res\"]] \n",
    "\n",
    "df_dcf_in = df_dcf_in.assign(sig_ozone = lambda x: SIGMA_VAODREPEATABILITY)\n",
    "df_dcf_in = df_dcf_in.iloc[index_selected]"
   ]
  },
  {
   "cell_type": "code",
   "execution_count": null,
   "id": "76fafb53-c1ee-4194-b37f-04473b066f32",
   "metadata": {},
   "outputs": [],
   "source": [
    "df_dcf_out = ComputeZDCF(\"dcf_in_vaod_merra2.csv\",df_dcf_in, minpts=20)"
   ]
  },
  {
   "cell_type": "code",
   "execution_count": null,
   "id": "3542bd33-2300-4513-a58e-d4c77843a631",
   "metadata": {},
   "outputs": [],
   "source": [
    "xerr = df_dcf_out[[\"-sig(tau)\",\"+sig(tau)\"]].values.T\t\n",
    "yerr = df_dcf_out[[\"-err(dcf)\",\"+err(dcf)\"]].values.T\t\n",
    "x = df_dcf_out[\"tau\"].values\n",
    "y = df_dcf_out[\"dcf\"].values"
   ]
  },
  {
   "cell_type": "code",
   "execution_count": null,
   "id": "00ff2221-bf55-4158-8922-00fd97fb0b87",
   "metadata": {},
   "outputs": [],
   "source": [
    "fig,ax = plt.subplots(1,1,figsize=(12,5),layout=\"constrained\")\n",
    "ax.errorbar(x,y,xerr=xerr,yerr=yerr,marker='o', mfc='red',linewidth=0.5,\n",
    "         mec='green', ms=2, mew=2,ecolor=\"k\",elinewidth=2,capsize=2,uplims=True, lolims=True)\n",
    "ax.grid()\n",
    "ax.set_ylim(-1,1)\n",
    "ax.set_title(f\"Discrete covariance function on VAOD residuals in Merra2\")\n",
    "ax.set_xlabel(\"Time (days)\")\n",
    "ax.set_ylabel(\"DCF (no units)\")"
   ]
  },
  {
   "cell_type": "markdown",
   "id": "70e98d5e-523d-423b-8b16-808ca897107c",
   "metadata": {},
   "source": [
    "## Aerosol Angstrom"
   ]
  },
  {
   "cell_type": "code",
   "execution_count": null,
   "id": "80f313dd-5016-483d-a23c-851f8f20bdfb",
   "metadata": {},
   "outputs": [],
   "source": [
    "full_filename = filename_residuals[\"angstrom\"]\n",
    "print(full_filename)"
   ]
  },
  {
   "cell_type": "code",
   "execution_count": null,
   "id": "c132f7c3-a953-4388-b6dd-8f62a3eee272",
   "metadata": {},
   "outputs": [],
   "source": [
    "df = pd.read_csv(full_filename,index_col=0)\n",
    "N = len(df)"
   ]
  },
  {
   "cell_type": "code",
   "execution_count": null,
   "id": "ad08e379-b70f-4eb9-b5d9-f9eca22bafca",
   "metadata": {},
   "outputs": [],
   "source": [
    "x_full = df[\"mjd\"].values\n",
    "y_full = df[\"res\"].values\n",
    "X_full = x_full.reshape(-1, 1)"
   ]
  },
  {
   "cell_type": "code",
   "execution_count": null,
   "id": "69eb18a6-d445-495e-814d-ea2503710aef",
   "metadata": {},
   "outputs": [],
   "source": [
    "tmin_select = 59500\n",
    "tmax_select = x_full.max()\n",
    "good_indexes_forresiduals = np.where(np.logical_and(x_full > tmin_select, x_full< tmax_select ))[0]"
   ]
  },
  {
   "cell_type": "code",
   "execution_count": null,
   "id": "da4bad31-a57c-4d34-9a65-0052c1e5e8d8",
   "metadata": {},
   "outputs": [],
   "source": [
    "fig,ax = plt.subplots(1,1,figsize=(4,3))\n",
    "ax.hist(y_full[good_indexes_forresiduals],bins=200,facecolor=\"tab:purple\");\n",
    "ax.set_xlabel(\"angstrom\")\n",
    "ax.set_title(\"input residuals Angstrom\")"
   ]
  },
  {
   "cell_type": "code",
   "execution_count": null,
   "id": "41869d9d-4ff7-4d90-9236-d313f3a6c701",
   "metadata": {},
   "outputs": [],
   "source": [
    "fig = plt.figure(figsize=(FIGXSIZE_0,FIGYSIZE_0),layout=\"constrained\")\n",
    "#gs = GridSpec(2, 1,figure=fig)\n",
    "gs = GridSpec(1, 1,figure=fig)\n",
    "ax1 = fig.add_subplot(gs[0])\n",
    "#ax2 = fig.add_subplot(gs[1])\n",
    "        \n",
    "leg1=ax1.get_legend()\n",
    "#leg2=ax2.get_legend()\n",
    "ax1.plot(x_full,y_full,c=\"purple\",lw=0.5,label=\"Merra2\")\n",
    "ax1.set_xlabel(\"time (MJD)\")\n",
    "ax1.legend()\n",
    "ax1.set_ylabel(\"Angstrom residuals\")\n",
    "ax1.set_title(\"Angstrom residuals after GP-Periodic removal\")\n",
    "figname =f\"{pathfigs}/angstrom_resGPper_timeseqall_merra2\"+figtype\n",
    "ax1.axvline(tmin_select,color=\"k\",ls=':')\n",
    "ax1.axvline(tmax_select,color=\"k\",ls=':')\n",
    "fig.savefig(figname)\n",
    "plt.show()"
   ]
  },
  {
   "cell_type": "code",
   "execution_count": null,
   "id": "1d16343e-2bc7-4649-a1a1-03222e450e87",
   "metadata": {},
   "outputs": [],
   "source": [
    "SIGMA_ANGSTROMREPEATABILITY = 0.001"
   ]
  },
  {
   "cell_type": "code",
   "execution_count": null,
   "id": "cb4fb9bb-cb94-4cb3-99d0-9d6afdd41ccd",
   "metadata": {},
   "outputs": [],
   "source": [
    "df = df[df.mjd>tmin_select]\n",
    "N = len(df)\n",
    "NSAMP = 10000\n",
    "index_range = np.arange(0,N ,1)\n",
    "index_selected = np.random.choice(index_range , size=NSAMP,replace = False)\n",
    "index_selected = np.sort(index_selected)\n",
    "index_selected = index_range "
   ]
  },
  {
   "cell_type": "code",
   "execution_count": null,
   "id": "4ce8c73f-f0b2-492e-bc90-17a5479fd39c",
   "metadata": {},
   "outputs": [],
   "source": [
    "df_dcf_in = df[[\"mjd\",\"res\"]]\n",
    "tstart = df_dcf_in[\"mjd\"].min()\n",
    "tstop = df_dcf_in[\"mjd\"].max()\n",
    "df_dcf_in[\"t_day\"] = df_dcf_in[\"mjd\"] - tstart\n",
    "df_dcf_in = df_dcf_in[[\"t_day\",\"res\"]] \n",
    "\n",
    "df_dcf_in = df_dcf_in.assign(sig_ozone = lambda x: SIGMA_ANGSTROMREPEATABILITY )\n",
    "df_dcf_in = df_dcf_in.iloc[index_selected]"
   ]
  },
  {
   "cell_type": "code",
   "execution_count": null,
   "id": "84efca47-d638-46d6-abba-52c72e0027ca",
   "metadata": {},
   "outputs": [],
   "source": [
    "df_dcf_out = ComputeZDCF(\"dcf_in_angstrom_merra2.csv\",df_dcf_in, minpts=20)"
   ]
  },
  {
   "cell_type": "code",
   "execution_count": null,
   "id": "3fc3af43-4998-4ee6-8d8c-2b7c304e0979",
   "metadata": {},
   "outputs": [],
   "source": [
    "xerr = df_dcf_out[[\"-sig(tau)\",\"+sig(tau)\"]].values.T\t\n",
    "yerr = df_dcf_out[[\"-err(dcf)\",\"+err(dcf)\"]].values.T\t\n",
    "x = df_dcf_out[\"tau\"].values\n",
    "y = df_dcf_out[\"dcf\"].values"
   ]
  },
  {
   "cell_type": "code",
   "execution_count": null,
   "id": "6372f10e-27dd-463b-86f8-1ee6c85eda60",
   "metadata": {},
   "outputs": [],
   "source": [
    "fig,ax = plt.subplots(1,1,figsize=(12,5),layout=\"constrained\")\n",
    "ax.errorbar(x,y,xerr=xerr,yerr=yerr,marker='o', mfc='red',linewidth=0.5,\n",
    "         mec='purple', ms=2, mew=2,ecolor=\"k\",elinewidth=2,capsize=2,uplims=True, lolims=True)\n",
    "ax.grid()\n",
    "ax.set_ylim(-1,1)\n",
    "ax.set_title(f\"Discrete covariance function on Angstrom residuals in Merra2\")\n",
    "ax.set_xlabel(\"Time (days)\")\n",
    "ax.set_ylabel(\"DCF (no units)\")"
   ]
  }
 ],
 "metadata": {
  "kernelspec": {
   "display_name": "conda_py311",
   "language": "python",
   "name": "conda_py311"
  },
  "language_info": {
   "codemirror_mode": {
    "name": "ipython",
    "version": 3
   },
   "file_extension": ".py",
   "mimetype": "text/x-python",
   "name": "python",
   "nbconvert_exporter": "python",
   "pygments_lexer": "ipython3",
   "version": "3.11.11"
  }
 },
 "nbformat": 4,
 "nbformat_minor": 5
}
