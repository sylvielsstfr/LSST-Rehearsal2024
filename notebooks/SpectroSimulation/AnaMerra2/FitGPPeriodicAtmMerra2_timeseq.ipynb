{
 "cells": [
  {
   "cell_type": "markdown",
   "id": "45bf4242-bfc5-4d43-88c4-a8059ae148df",
   "metadata": {},
   "source": [
    "# Fit Atmosphere time sequences with Gaussian Processes Periodic variations from Merra2"
   ]
  },
  {
   "cell_type": "markdown",
   "id": "01993b6e-6438-4fca-a5d5-1f9791336847",
   "metadata": {},
   "source": [
    "- author Sylvie Dagoret-Campagne\n",
    "- affiliation : IJCLab\n",
    "- creation date 2025-10-20 :\n",
    "- last update : 2025-02-25 : Discuss with ChatGPT to do GP fit\n",
    "- last update : 2025-02-26 : Do GP periodic fit first\n",
    "- last update : 2025-03-04 : Save Gaussian process parameters and plot kernel in a function, be carefull with ozone that have not definit positive kernel thus use an alpha parameter for regularisation\n",
    "- Kernel @usdf **w_2024_50*\n",
    "- Office emac : mamba_py311\n",
    "- Home emac : base (conda)\n",
    "- laptop : conda_py311"
   ]
  },
  {
   "cell_type": "markdown",
   "id": "0219159d-6865-4311-ac1d-99d11dad223f",
   "metadata": {},
   "source": [
    "**Goal** : Fit the variation of Merra2 parameter impact the transmission\n",
    "\n",
    "- CO2 fit : https://scikit-learn.org/stable/auto_examples/gaussian_process/plot_gpr_co2.html#sphx-glr-auto-examples-gaussian-process-plot-gpr-co2-py\n",
    "\n",
    "- Kernels : https://scikit-learn.org/stable/modules/gaussian_process.html#gp-kernels"
   ]
  },
  {
   "cell_type": "code",
   "execution_count": null,
   "id": "63a2b2ef-0bc2-45eb-91d9-87835d264751",
   "metadata": {
    "tags": []
   },
   "outputs": [],
   "source": [
    "from platform import python_version\n",
    "print(python_version())"
   ]
  },
  {
   "cell_type": "code",
   "execution_count": null,
   "id": "dcc53afe-c58f-4948-92c9-0090d373ad2a",
   "metadata": {},
   "outputs": [],
   "source": [
    "import warnings\n",
    "warnings.resetwarnings()\n",
    "warnings.simplefilter('ignore')"
   ]
  },
  {
   "cell_type": "code",
   "execution_count": null,
   "id": "8026d265-2493-4045-afec-26205ff71f7c",
   "metadata": {
    "tags": []
   },
   "outputs": [],
   "source": [
    "from platform import python_version\n",
    "print(python_version())"
   ]
  },
  {
   "cell_type": "code",
   "execution_count": null,
   "id": "eb1f116e-80e3-46ad-a7db-7f253632e5ca",
   "metadata": {},
   "outputs": [],
   "source": [
    "import os"
   ]
  },
  {
   "cell_type": "code",
   "execution_count": null,
   "id": "3ec760cd-3d3f-4a34-a6f6-b226fe500951",
   "metadata": {},
   "outputs": [],
   "source": [
    "# where are stored the figures\n",
    "pathfigs = \"figsFitGPPerAtmosphereFomMerra2\"\n",
    "if not os.path.exists(pathfigs):\n",
    "    os.makedirs(pathfigs) \n",
    "figtype = \".png\""
   ]
  },
  {
   "cell_type": "code",
   "execution_count": null,
   "id": "60192a62-fc75-4dd6-80c3-d67a76f5be37",
   "metadata": {},
   "outputs": [],
   "source": [
    "# where are stored the figures\n",
    "pathdata = \"dataFitGPPerAtmosphereFomMerra2\"\n",
    "if not os.path.exists(pathdata):\n",
    "    os.makedirs(pathdata) \n",
    "datatype = \".csv\""
   ]
  },
  {
   "cell_type": "code",
   "execution_count": null,
   "id": "bf752b70-e6ca-4cbf-8e8c-20bf7f0d8f61",
   "metadata": {},
   "outputs": [],
   "source": [
    "import numpy as np\n",
    "from numpy.linalg import inv\n",
    "import matplotlib as mpl\n",
    "import matplotlib.pyplot as plt\n",
    "%matplotlib inline\n",
    "from mpl_toolkits.axes_grid1 import make_axes_locatable\n",
    "from matplotlib.colors import LogNorm,SymLogNorm\n",
    "from matplotlib.patches import Circle,Annulus\n",
    "from astropy.visualization import ZScaleInterval\n",
    "props = dict(boxstyle='round', facecolor=\"white\", alpha=0.1)\n",
    "#props = dict(boxstyle='round')\n",
    "\n",
    "import matplotlib.colors as colors\n",
    "import matplotlib.cm as cmx\n",
    "\n",
    "import matplotlib.ticker                         # here's where the formatter is\n",
    "from matplotlib.ticker import (MultipleLocator, FormatStrFormatter,\n",
    "                               AutoMinorLocator)\n",
    "\n",
    "from matplotlib.gridspec import GridSpec\n",
    "\n",
    "from astropy.visualization import (MinMaxInterval, SqrtStretch,ZScaleInterval,PercentileInterval,\n",
    "                                   ImageNormalize,imshow_norm)\n",
    "from astropy.visualization.stretch import SinhStretch, LinearStretch,AsinhStretch,LogStretch\n",
    "\n",
    "from astropy.io import fits\n",
    "from astropy.wcs import WCS\n",
    "from astropy import units as u\n",
    "from astropy import constants as c\n",
    "\n",
    "from astropy.coordinates.earth import EarthLocation\n",
    "from datetime import datetime\n",
    "from pytz import timezone\n",
    "\n",
    "from scipy import interpolate\n",
    "from sklearn.neighbors import NearestNeighbors\n",
    "from sklearn.neighbors import KDTree, BallTree\n",
    "\n",
    "import pandas as pd\n",
    "pd.set_option(\"display.max_columns\", None)\n",
    "pd.set_option('display.max_rows', 100)\n",
    "\n",
    "import matplotlib.ticker                         # here's where the formatter is\n",
    "import os\n",
    "import re\n",
    "import pandas as pd\n",
    "import pickle\n",
    "from collections import OrderedDict\n",
    "\n",
    "plt.rcParams[\"figure.figsize\"] = (4,3)\n",
    "plt.rcParams[\"axes.labelsize\"] = 'xx-large'\n",
    "plt.rcParams['axes.titlesize'] = 'xx-large'\n",
    "plt.rcParams['xtick.labelsize']= 'xx-large'\n",
    "plt.rcParams['ytick.labelsize']= 'xx-large'\n",
    "\n",
    "import scipy\n",
    "from scipy.optimize import curve_fit,least_squares\n",
    "\n",
    "\n",
    "props = dict(boxstyle='round', facecolor='white', alpha=0.5)"
   ]
  },
  {
   "cell_type": "code",
   "execution_count": null,
   "id": "12fc8f48-c073-433f-aa4e-2a8b785100e6",
   "metadata": {},
   "outputs": [],
   "source": [
    "# Remove to run faster the notebook\n",
    "import ipywidgets as widgets\n",
    "%matplotlib widget"
   ]
  },
  {
   "cell_type": "code",
   "execution_count": null,
   "id": "ad1b1943-5173-40b8-8ac8-442e6ecc47d0",
   "metadata": {},
   "outputs": [],
   "source": [
    "from astropy.modeling import models"
   ]
  },
  {
   "cell_type": "code",
   "execution_count": null,
   "id": "46fe722f-bb23-4c29-8efb-4c096c72eec9",
   "metadata": {},
   "outputs": [],
   "source": [
    "from numpy.random import lognormal"
   ]
  },
  {
   "cell_type": "code",
   "execution_count": null,
   "id": "0ca0d1e6-5f82-4c43-aaa3-8524fc2bc5ba",
   "metadata": {},
   "outputs": [],
   "source": [
    "from matplotlib.ticker import (MultipleLocator, FormatStrFormatter,\n",
    "                               AutoMinorLocator)\n",
    "from astropy.visualization import (MinMaxInterval, SqrtStretch,ZScaleInterval,PercentileInterval,\n",
    "                                   ImageNormalize,imshow_norm)\n",
    "from astropy.visualization.stretch import SinhStretch, LinearStretch,AsinhStretch,LogStretch\n",
    "\n",
    "from astropy.time import Time\n",
    "from astropy.timeseries import TimeSeries\n",
    "\n",
    "import pickle"
   ]
  },
  {
   "cell_type": "code",
   "execution_count": null,
   "id": "e189816c-5048-43ab-a01a-7c078af54489",
   "metadata": {},
   "outputs": [],
   "source": [
    "# Remove to run faster the notebook\n",
    "import ipywidgets as widgets\n",
    "%matplotlib widget"
   ]
  },
  {
   "cell_type": "code",
   "execution_count": null,
   "id": "67327fd4-e405-45ce-8923-cd46ebaa0c0f",
   "metadata": {
    "tags": []
   },
   "outputs": [],
   "source": [
    "from importlib.metadata import version"
   ]
  },
  {
   "cell_type": "code",
   "execution_count": null,
   "id": "af8332dd-24f9-4b19-88f9-c62d0a4aebf1",
   "metadata": {
    "tags": []
   },
   "outputs": [],
   "source": [
    "# wavelength bin colors\n",
    "#jet = plt.get_cmap('jet')\n",
    "#cNorm = mpl.colors.Normalize(vmin=0, vmax=NSED)\n",
    "#scalarMap = cmx.ScalarMappable(norm=cNorm, cmap=jet)\n",
    "#all_colors = scalarMap.to_rgba(np.arange(NSED), alpha=1)"
   ]
  },
  {
   "cell_type": "code",
   "execution_count": null,
   "id": "1003d9d6-a40f-48b1-9ffc-bfab9f45ba93",
   "metadata": {},
   "outputs": [],
   "source": [
    "np.__version__"
   ]
  },
  {
   "cell_type": "code",
   "execution_count": null,
   "id": "c4cb2652-cb22-432e-b110-ae71d59dc793",
   "metadata": {},
   "outputs": [],
   "source": [
    "pd.__version__"
   ]
  },
  {
   "cell_type": "code",
   "execution_count": null,
   "id": "49592406-fcc6-4aa4-8904-21b611ecd896",
   "metadata": {},
   "outputs": [],
   "source": [
    "from sklearn.gaussian_process.kernels import RBF\n",
    "from sklearn.gaussian_process.kernels import ExpSineSquared\n",
    "from sklearn.gaussian_process.kernels import RationalQuadratic\n",
    "from sklearn.gaussian_process.kernels import WhiteKernel\n",
    "from sklearn.gaussian_process.kernels import ConstantKernel"
   ]
  },
  {
   "cell_type": "code",
   "execution_count": null,
   "id": "303b52d7-4653-40c5-9565-416b995c53d5",
   "metadata": {
    "tags": []
   },
   "outputs": [],
   "source": [
    "from sklearn.gaussian_process import GaussianProcessRegressor"
   ]
  },
  {
   "cell_type": "code",
   "execution_count": null,
   "id": "5a2ecdd5-5400-4eea-8f62-f515f4fec198",
   "metadata": {},
   "outputs": [],
   "source": [
    "from scipy.fftpack import fft, fftfreq"
   ]
  },
  {
   "cell_type": "code",
   "execution_count": null,
   "id": "60594dbd-a8f5-4570-8250-c4c018795671",
   "metadata": {},
   "outputs": [],
   "source": [
    "YEAR = 365.25\n",
    "MONTHS6 = YEAR/2.\n",
    "MONTHS4 = YEAR/3.\n",
    "QUARTER = YEAR/4. \n",
    "DAY = 1.\n",
    "MONTH = YEAR/12.\n",
    "WEEK = 7*DAY"
   ]
  },
  {
   "cell_type": "code",
   "execution_count": null,
   "id": "7092499c-ca80-4bcc-922d-6127ad5beed5",
   "metadata": {},
   "outputs": [],
   "source": [
    "FIGXSIZE_1 = 14\n",
    "FIGYSIZE_1 = 8\n",
    "\n",
    "FIGXSIZE_0 = 14\n",
    "FIGYSIZE_0 = 5"
   ]
  },
  {
   "cell_type": "code",
   "execution_count": null,
   "id": "ad03dc3d-6741-4478-82ba-1d5447529d9a",
   "metadata": {},
   "outputs": [],
   "source": [
    "def convertNumToDatestr(num):\n",
    "    year = num//10_000\n",
    "    month= (num-year*10_000)//100\n",
    "    day = (num-year*10_000-month*100)\n",
    "\n",
    "    year_str = str(year).zfill(4)\n",
    "    month_str = str(month).zfill(2)\n",
    "    day_str = str(day).zfill(2)\n",
    "    \n",
    "    datestr = f\"{year_str}-{month_str}-{day_str}\"\n",
    "    return pd.to_datetime(datestr)"
   ]
  },
  {
   "cell_type": "code",
   "execution_count": null,
   "id": "b38653bf-649e-4bd5-a75a-ab8908dbe7e4",
   "metadata": {},
   "outputs": [],
   "source": [
    "def pdf_lognormal(x,a0,mu,sigma):\n",
    "    \"\"\"\n",
    "    \"\"\"\n",
    "    pdf = a0*(np.exp(-(np.log(x) - mu)**2 / (2 * sigma**2))/ (x * sigma * np.sqrt(2 * np.pi)))\n",
    "    return pdf"
   ]
  },
  {
   "cell_type": "markdown",
   "id": "e3689d01-cbb7-4ea4-977a-9e284f6f5718",
   "metadata": {},
   "source": [
    "https://scikit-learn.org/stable/auto_examples/gaussian_process/plot_gpr_prior_posterior.html"
   ]
  },
  {
   "cell_type": "code",
   "execution_count": null,
   "id": "14eda506-44d9-4d0e-abed-6b402c85514e",
   "metadata": {
    "tags": []
   },
   "outputs": [],
   "source": [
    "def plot_gpr_samples(gpr_model, n_samples, ax , x, label):\n",
    "    \"\"\"Plot samples drawn from the Gaussian process model.\n",
    "\n",
    "    If the Gaussian process model is not trained then the drawn samples are\n",
    "    drawn from the prior distribution. Otherwise, the samples are drawn from\n",
    "    the posterior distribution. Be aware that a sample here corresponds to a\n",
    "    function.\n",
    "\n",
    "    Parameters\n",
    "    ----------\n",
    "    gpr_model : `GaussianProcessRegressor`\n",
    "        A :class:`~sklearn.gaussian_process.GaussianProcessRegressor` model.\n",
    "    n_samples : int\n",
    "        The number of samples to draw from the Gaussian process distribution.\n",
    "    ax : matplotlib axis\n",
    "        The matplotlib axis where to plot the samples.\n",
    "    \"\"\"\n",
    "    #x = np.linspace(0, 5, 100)\n",
    "    X = x.reshape(-1, 1)\n",
    "\n",
    "    y_mean, y_std = gpr_model.predict(X, return_std=True)\n",
    "    y_samples = gpr_model.sample_y(X, n_samples)\n",
    "\n",
    "    for idx, single_prior in enumerate(y_samples.T):\n",
    "        if idx==0:\n",
    "            ax.plot(\n",
    "                x,\n",
    "                single_prior,\n",
    "                linestyle=\"--\",\n",
    "                alpha=0.7,\n",
    "                label=label\n",
    "            )\n",
    "        else:\n",
    "            ax.plot(\n",
    "                x,\n",
    "                single_prior,\n",
    "                linestyle=\"--\",\n",
    "                alpha=0.7\n",
    "            )\n",
    "            \n",
    "        \n",
    "        \n",
    "    ax.plot(x, y_mean, color=\"black\", label=\"Mean\")\n",
    "    ax.fill_between(\n",
    "        x,\n",
    "        y_mean - y_std,\n",
    "        y_mean + y_std,\n",
    "        alpha=0.1,\n",
    "        color=\"black\",\n",
    "        label=r\"$\\pm$ 1 std. dev.\",\n",
    "    )\n",
    "    \n",
    "    #ax.set_ylim([-3, 3])"
   ]
  },
  {
   "cell_type": "code",
   "execution_count": null,
   "id": "1edd4a0c-b827-4e5f-a5c2-2ca232d42116",
   "metadata": {},
   "outputs": [],
   "source": [
    "def fourier_analysis(dates, values, ax, mode = \"logxlogy\",title=\"Analyse de Fourier - Spectre des fréquences\",\n",
    "                    xlabel=\"Fréquence (cycles par jour)\",ylabel=\"Amplitude\",label=\"Amplitude spectrale\"):\n",
    "    # Centrer les données autour de la moyenne\n",
    "    values_centered = values - np.mean(values)\n",
    "\n",
    "    # Nombre de points\n",
    "    N = len(dates)\n",
    "    # Intervalle d'échantillonnage (assume 1 jour entre chaque point)\n",
    "    T = np.mean(np.diff(dates))  # Période d'échantillonnage\n",
    "\n",
    "    # Fréquence de Nyquist (limite de Shannon)\n",
    "    f_nyquist = 1 / (2 * T)\n",
    "    \n",
    "    # Transformée de Fourier\n",
    "    fft_values = fft(values_centered)/ np.sqrt(N)\n",
    "    freqs = fftfreq(N, T)  # Fréquences associées\n",
    "\n",
    "    \n",
    "\n",
    "    # Seulement la moitié du spectre est utile (symétrie)\n",
    "    positive_freqs = freqs[:N // 2]\n",
    "    positive_fft_values = np.abs(fft_values[:N // 2])\n",
    "\n",
    "    # Tracer le spectre\n",
    "    #plt.figure(figsize=(16, 6),layout=\"constrained\")\n",
    "    \n",
    "    ax.plot(positive_freqs, positive_fft_values,'ob-' ,ms=5,label=label)\n",
    "\n",
    "    if mode == \"logxliny\":\n",
    "        ax.set_xscale(\"log\")  # Définit l'axe X en échelle logarithmique\n",
    "        ax.set_yscale(\"linear\")  # Garde l'axe Y en échelle linéaire\n",
    "    elif mode == \"logxlogy\":\n",
    "        ax.set_xscale(\"log\")  # Définit l'axe X en échelle logarithmique\n",
    "        ax.set_yscale(\"log\")  # Garde l'axe Y en échelle logarithmique\n",
    "    elif mode == \"linxlogy\":\n",
    "        ax.set_xscale(\"linear\")  # Définit l'axe X en  échelle linéaire\n",
    "        ax.set_yscale(\"log\")  # Garde l'axe Y en échelle logarithmique\n",
    "    elif mode == \"linxliny\":\n",
    "        ax.set_xscale(\"linear\")  # Définit l'axe X en échelle linéaire\n",
    "        ax.set_yscale(\"linear\")  # Garde l'axe Y en échelle linéaire\n",
    "        \n",
    "    ax.set_xlabel(xlabel)\n",
    "    ax.set_ylabel(ylabel)\n",
    "    ax.set_title(title)\n",
    "    #ax.axvline(1/365.25, color='r', linestyle='-', label=\"Cycle : 365 days - 1 year\")\n",
    "    #ax.axvline(1/182.625, color='r', linestyle='--', label=\"Cycle : 182.6 days - 6 months\")\n",
    "    #ax.axvline(1/91.3125, color='r', linestyle='-.', label=\"Cycle : 91.3 days - 3 months\")\n",
    "    #ax.axvline(1/30.4375, color='r', linestyle=':', label=\"Cycle : 30.4 days - 1 month\")\n",
    "    #ax.axvline(1/7, color='purple', linestyle='--', label=\"Cycle : 7 days - 1 week\")\n",
    "    #ax.axvline(1, color='purple', linestyle='-', label=\"Cycle : 1 day \")\n",
    "    #ax.axvline(1/0.5, color='purple', linestyle='-.', label=\"Cycle : 0.5 day \")\n",
    "\n",
    "    ax.axvline(1/YEAR, color='r', linestyle='-', label=\"Cycle : 365 days - 1 year\")\n",
    "    ax.axvline(1/MONTHS6, color='r', linestyle='--', label=\"Cycle : 182.6 days - 6 months\")\n",
    "    ax.axvline(1/MONTHS4, color='r', linestyle=':', label=\"Cycle : 121.7 days - 4 months\")\n",
    "    ax.axvline(1/QUARTER, color='r', linestyle='-.', label=\"Cycle : 91.3 days - 3 months\")\n",
    "    ax.axvline(1/MONTH, color='r', linestyle=':', label=\"Cycle : 30.4 days - 1 month\")\n",
    "    ax.axvline(1/WEEK, color='purple', linestyle='--', label=\"Cycle : 7 days - 1 week\")\n",
    "    ax.axvline(DAY, color='purple', linestyle='-', label=\"Cycle : 1 day \")\n",
    "    ax.axvline(1./(0.5*DAY), color='purple', linestyle='-.', label=\"Cycle : 0.5 day \")\n",
    "\n",
    "    ax.axvline(f_nyquist, color='g', linestyle='--', label=f\"Nyquist frequency({f_nyquist:.3f} cycles/days)\")\n",
    "    ax.legend(bbox_to_anchor=(1.05, 1.05),fontsize=12)\n",
    "\n",
    "    #if figname !=\"\":\n",
    "    #    plt.savefig(figname)\n",
    "        \n",
    "    \n",
    "    #plt.show()\n",
    "\n",
    "# Appelle la fonction avec tes données\n",
    "# fourier_analysis(dates, values)"
   ]
  },
  {
   "cell_type": "code",
   "execution_count": null,
   "id": "5f63ab1a-6f96-4213-8242-1bf3f8e15a48",
   "metadata": {},
   "outputs": [],
   "source": [
    "def GetPWVPeriodicKernel_merra2():\n",
    "    \"\"\"\n",
    "    \"\"\"\n",
    "\n",
    "    # Tendance long terme\n",
    "    long_term_trend_kernel = ConstantKernel(.5, (0.0, 10.0)) * RBF(length_scale=365.0)\n",
    "    periodic_1year_kernel =  ConstantKernel(3.0, (0.1, 10.0)) * ExpSineSquared(length_scale= 10*YEAR, periodicity= YEAR,                                                                          length_scale_bounds=\"fixed\",periodicity_bounds=\"fixed\")\n",
    "    periodic_6months_kernel = ConstantKernel(2.5, (0.1, 10.0)) * ExpSineSquared(length_scale= 20*MONTHS6,periodicity=MONTHS6,\n",
    "                                                                            length_scale_bounds=\"fixed\",periodicity_bounds=\"fixed\") \n",
    "    periodic_3months_kernel = ConstantKernel(2.5, (0.1, 10.0)) * ExpSineSquared(length_scale= 40*QUARTER, periodicity=QUARTER,\n",
    "                                                                            length_scale_bounds=\"fixed\",periodicity_bounds=\"fixed\")\n",
    "    periodic_4months_kernel = ConstantKernel(2.5, (0.1, 10.0)) * ExpSineSquared(length_scale= 30*MONTHS4, periodicity=MONTHS4,\n",
    "                                                                            length_scale_bounds=\"fixed\",periodicity_bounds=\"fixed\")\n",
    "\n",
    "    seasonal_enveloppe = RBF(length_scale=YEAR, length_scale_bounds=(0.5*YEAR, 10*YEAR))\n",
    "\n",
    "    # Saisonnalité multi-échelle\n",
    "    seasonal_kernel = (\n",
    "        #seasonal_enveloppe * ( periodic_1year_kernel + periodic_6months_kernel + periodic_3months_kernel)\n",
    "        #seasonal_enveloppe * ( periodic_1year_kernel  + periodic_3months_kernel)\n",
    "        #periodic_1year_kernel  + periodic_6months_kernel + periodic_3months_kernel\n",
    "        periodic_1year_kernel  + periodic_6months_kernel + periodic_4months_kernel + periodic_3months_kernel\n",
    "        #periodic_1year_kernel\n",
    "    )\n",
    "\n",
    "\n",
    "    # Petites fluctuations irrégulières\n",
    "    irregularities_kernel = ConstantKernel(1.0, (0.0, 10.0)) * RationalQuadratic(length_scale=DAY, alpha=1.0)\n",
    "\n",
    "    # Bruit et variations locales\n",
    "    #noise_kernel = ConstantKernel(1.0, (0., 10.0)) * RBF(length_scale=1.0) + WhiteKernel(noise_level=1.0**2)\n",
    "    noise_kernel = ConstantKernel(1.0, (0., 10.0)) * RBF(length_scale=1.0) \n",
    "\n",
    "    # Kernel total\n",
    "    #full_kernel = long_term_trend_kernel + seasonal_kernel + irregularities_kernel + noise_kernel\n",
    "    #full_kernel = seasonal_kernel + irregularities_kernel\n",
    "    full_kernel = seasonal_kernel \n",
    "\n",
    "    return full_kernel\n"
   ]
  },
  {
   "cell_type": "code",
   "execution_count": null,
   "id": "c7fc2e34-edff-4fa1-9379-c3dcc3680d5f",
   "metadata": {},
   "outputs": [],
   "source": [
    "def GetOzonePeriodicKernel_merra2():\n",
    "    \"\"\"\n",
    "    \"\"\"\n",
    "\n",
    "    # Tendance long terme\n",
    "    long_term_trend_kernel = ConstantKernel(3, (0., 10.0)) * RBF(length_scale=YEAR)\n",
    "\n",
    "    periodic_1year_kernel =  ConstantKernel(200, (0., 500.0)) * ExpSineSquared(length_scale= 15*YEAR, periodicity= YEAR,periodicity_bounds=\"fixed\",length_scale_bounds=\"fixed\")\n",
    "    periodic_6months_kernel = ConstantKernel(300, (0., 500.0)) * ExpSineSquared(length_scale= 20*MONTHS6, periodicity=MONTHS6) \n",
    "    periodic_3months_kernel = ConstantKernel(300, (0., 500.0)) * ExpSineSquared(length_scale= 40*QUARTER, periodicity=QUARTER)\n",
    "\n",
    "    seasonal_enveloppe = RBF(length_scale=YEAR, length_scale_bounds=(0.5*YEAR, 10*YEAR))\n",
    "\n",
    "    # Saisonnalité multi-échelle\n",
    "    seasonal_kernel = (\n",
    "        #seasonal_enveloppe * ( periodic_1year_kernel + periodic_6months_kernel + periodic_3months_kernel)\n",
    "        #seasonal_enveloppe * ( periodic_1year_kernel + periodic_6months_kernel )\n",
    "         periodic_1year_kernel\n",
    "    )\n",
    "\n",
    "\n",
    "    # Petites fluctuations irrégulières\n",
    "    irregularities_kernel = ConstantKernel(2, (0, 5.0)) * RationalQuadratic(length_scale=MONTH, alpha=1.0)\n",
    "\n",
    "    # Bruit et variations locales\n",
    "    #noise_kernel = ConstantKernel(1.0, (0., 10.0)) * RBF(length_scale=1.0) + WhiteKernel(noise_level=1.0**2)\n",
    "    noise_kernel =  ConstantKernel(1, (0, 5.0))  * RBF(length_scale=1.0) \n",
    "\n",
    "    # Kernel total\n",
    "    #full_kernel = long_term_trend_kernel + seasonal_kernel + irregularities_kernel + noise_kernel\n",
    "    full_kernel = seasonal_kernel\n",
    "\n",
    "    return full_kernel\n"
   ]
  },
  {
   "cell_type": "code",
   "execution_count": null,
   "id": "6f606608-e1c5-43d0-845c-147ebac8f089",
   "metadata": {},
   "outputs": [],
   "source": [
    "def GetVAODPeriodicKernel_merra2():\n",
    "    \"\"\"\n",
    "    \"\"\"\n",
    "\n",
    "\n",
    "    # Tendance long terme\n",
    "    long_term_trend_kernel = ConstantKernel(3, (0., 10.0)) * RBF(length_scale=YEAR)\n",
    "\n",
    "    periodic_1year_kernel =  ConstantKernel(0.1, (0, 2.)) * ExpSineSquared(length_scale= 10*YEAR, periodicity= YEAR,\n",
    "                                                                           length_scale_bounds=\"fixed\",periodicity_bounds=\"fixed\")\n",
    "    periodic_6months_kernel = ConstantKernel(0.1, (0, 2.)) * ExpSineSquared(length_scale= 20*MONTHS6,periodicity=MONTHS6,\n",
    "                                                                            length_scale_bounds=\"fixed\",periodicity_bounds=\"fixed\") \n",
    "    periodic_3months_kernel = ConstantKernel(0.1, (0, 2.)) * ExpSineSquared(length_scale= 40*QUARTER, periodicity=QUARTER,\n",
    "                                                                            length_scale_bounds=\"fixed\",periodicity_bounds=\"fixed\")\n",
    "    periodic_4months_kernel = ConstantKernel(0.1, (0, 2.)) * ExpSineSquared(length_scale= 30*MONTHS4, periodicity=MONTHS4,\n",
    "                                                                            length_scale_bounds=\"fixed\",periodicity_bounds=\"fixed\")\n",
    "\n",
    "    periodic_1months_kernel = ConstantKernel(0.1, (0, 2.)) * ExpSineSquared(length_scale= 4+12*MONTH, periodicity=MONTH,\n",
    "                                                                            length_scale_bounds=\"fixed\",periodicity_bounds=\"fixed\")\n",
    "\n",
    "\n",
    "    seasonal_enveloppe = RBF(length_scale=YEAR, length_scale_bounds=(0.5*YEAR, 5*YEAR))\n",
    "\n",
    "    # Saisonnalité multi-échelle\n",
    "    seasonal_kernel = (\n",
    "        #seasonal_enveloppe * ( periodic_1year_kernel + periodic_6months_kernel + periodic_3months_kernel)\n",
    "        #seasonal_enveloppe * ( periodic_1year_kernel )\n",
    "        periodic_1year_kernel + periodic_6months_kernel + periodic_4months_kernel + periodic_3months_kernel + periodic_1months_kernel\n",
    "    )\n",
    "\n",
    "    # Petites fluctuations irrégulières\n",
    "    irregularities_kernel = ConstantKernel(0.1, (0, 5.0)) * RationalQuadratic(length_scale=MONTH, alpha=1.0)\n",
    "\n",
    "    # Bruit et variations locales\n",
    "    #noise_kernel = ConstantKernel(1.0, (0., 10.0)) * RBF(length_scale=1.0) + WhiteKernel(noise_level=1.0**2)\n",
    "    noise_kernel =  ConstantKernel(0.1, (0, 5.0))  * RBF(length_scale=1.0) \n",
    "\n",
    "    # Kernel total\n",
    "    #full_kernel = long_term_trend_kernel + seasonal_kernel + irregularities_kernel + noise_kernel\n",
    "    full_kernel = seasonal_kernel \n",
    "\n",
    "    return full_kernel\n"
   ]
  },
  {
   "cell_type": "code",
   "execution_count": null,
   "id": "05a9f15d-3bc0-4394-9133-c98370ceddf5",
   "metadata": {},
   "outputs": [],
   "source": [
    "def GetAngstromPeriodicKernel_merra2():\n",
    "    \"\"\"\n",
    "    \"\"\"\n",
    "\n",
    "\n",
    "\n",
    "    # Tendance long terme\n",
    "    long_term_trend_kernel = ConstantKernel(3, (0., 4.0)) * RBF(length_scale=YEAR)\n",
    "\n",
    "    periodic_1year_kernel =  ConstantKernel(0.1, (0, 4.)) * ExpSineSquared(length_scale= 10*YEAR, periodicity= YEAR,\n",
    "                                                                           length_scale_bounds=\"fixed\",periodicity_bounds=\"fixed\")\n",
    "    periodic_6months_kernel = ConstantKernel(0.1, (0, 4.)) * ExpSineSquared(length_scale= 20*MONTHS6,periodicity=MONTHS6,\n",
    "                                                                            length_scale_bounds=\"fixed\",periodicity_bounds=\"fixed\") \n",
    "    periodic_3months_kernel = ConstantKernel(0.1, (0, 4.)) * ExpSineSquared(length_scale= 40*QUARTER, periodicity=QUARTER,\n",
    "                                                                            length_scale_bounds=\"fixed\",periodicity_bounds=\"fixed\")\n",
    "    periodic_4months_kernel = ConstantKernel(0.1, (0, 4.)) * ExpSineSquared(length_scale= 30*MONTHS4, periodicity=MONTHS4,\n",
    "                                                                            length_scale_bounds=\"fixed\",periodicity_bounds=\"fixed\")\n",
    "\n",
    "    periodic_1months_kernel = ConstantKernel(0.1, (0, 4.)) * ExpSineSquared(length_scale= 4+12*MONTH, periodicity=MONTH,\n",
    "                                                                            length_scale_bounds=\"fixed\",periodicity_bounds=\"fixed\")\n",
    "\n",
    "    seasonal_enveloppe = RBF(length_scale=YEAR, length_scale_bounds=(0.5*YEAR, 5*YEAR))\n",
    "\n",
    "    # Saisonnalité multi-échelle\n",
    "    seasonal_kernel = (\n",
    "        #seasonal_enveloppe * ( periodic_1year_kernel + periodic_6months_kernel + periodic_3months_kernel)\n",
    "        #seasonal_enveloppe * ( periodic_1year_kernel )\n",
    "        periodic_1year_kernel + periodic_6months_kernel  +  periodic_4months_kernel +periodic_3months_kernel + periodic_1months_kernel\n",
    "    )\n",
    "\n",
    "\n",
    "    # Petites fluctuations irrégulières\n",
    "    irregularities_kernel = ConstantKernel(0.1, (0, 5.0)) * RationalQuadratic(length_scale=MONTH, alpha=1.0)\n",
    "\n",
    "    # Bruit et variations locales\n",
    "    #noise_kernel = ConstantKernel(1.0, (0., 10.0)) * RBF(length_scale=1.0) + WhiteKernel(noise_level=1.0**2)\n",
    "    noise_kernel =  ConstantKernel(0.1, (0, 5.0))  * RBF(length_scale=1.0) \n",
    "\n",
    "    # Kernel total\n",
    "    #full_kernel = long_term_trend_kernel + seasonal_kernel + irregularities_kernel + noise_kernel\n",
    "    full_kernel = seasonal_kernel \n",
    "\n",
    "    return full_kernel\n"
   ]
  },
  {
   "cell_type": "markdown",
   "id": "4f13d6a3-7793-4bc0-920a-1d690d9f84b2",
   "metadata": {},
   "source": [
    "## Configuration"
   ]
  },
  {
   "cell_type": "code",
   "execution_count": null,
   "id": "c8cb2e48-0b34-4cbf-8379-43f7065112f7",
   "metadata": {},
   "outputs": [],
   "source": [
    "observing_location = EarthLocation.of_site('Rubin Observatory')\n",
    "tz = timezone('America/Santiago')"
   ]
  },
  {
   "cell_type": "markdown",
   "id": "6175a4a4-5c98-4e09-8ffd-a17282f6094e",
   "metadata": {},
   "source": [
    "### MERRA2 files"
   ]
  },
  {
   "cell_type": "code",
   "execution_count": null,
   "id": "d84a85da-768d-459f-8711-54e04f2cff75",
   "metadata": {
    "tags": []
   },
   "outputs": [],
   "source": [
    "filename_m2 = \"../../SpectroMerra2/MerradataMerged/Merge_inst1_2d_asm_Nx_M2I1NXASM-2021-2024.csv\"\n",
    "filename_m2b = \"../../SpectroMerra2/MerradataMerged/Merge_tavg1_2d_aer_Nx_M2T1NXAER-2021-2024.csv\""
   ]
  },
  {
   "cell_type": "code",
   "execution_count": null,
   "id": "dd89c1b3-43c8-43ae-b10d-f39e8f8b2963",
   "metadata": {
    "tags": []
   },
   "outputs": [],
   "source": [
    "df_m = pd.read_csv(filename_m2)\n",
    "df_mb = pd.read_csv(filename_m2b)"
   ]
  },
  {
   "cell_type": "code",
   "execution_count": null,
   "id": "a4c21a3e-f004-4b43-871d-8b479451b594",
   "metadata": {},
   "outputs": [],
   "source": [
    "Nm = len(df_m)\n",
    "Nmb = len(df_mb)\n",
    "print(\"Number of points :: \",Nm,Nmb)"
   ]
  },
  {
   "cell_type": "code",
   "execution_count": null,
   "id": "e1e70f0b-8123-48fc-8faa-f5f468c85a3a",
   "metadata": {},
   "outputs": [],
   "source": [
    "df_mb.columns"
   ]
  },
  {
   "cell_type": "code",
   "execution_count": null,
   "id": "0078d85a-f0a9-43f7-bb1a-30358769fe86",
   "metadata": {},
   "outputs": [],
   "source": [
    "TMIN = pd.to_datetime(df_m.time.min())\n",
    "TMAX = pd.to_datetime(df_m.time.max())"
   ]
  },
  {
   "cell_type": "markdown",
   "id": "e65aa79a-58d6-4022-8000-f2d8900c8f43",
   "metadata": {},
   "source": [
    "### Convert in MJD"
   ]
  },
  {
   "cell_type": "code",
   "execution_count": null,
   "id": "b58fea8d-18e5-4f69-ad7d-50b5af7150a9",
   "metadata": {
    "tags": []
   },
   "outputs": [],
   "source": [
    "df_m[\"mjd\"] = Time(pd.to_datetime(df_m.time.values)).mjd\n",
    "df_mb[\"mjd\"] = Time(pd.to_datetime(df_mb.time.values)).mjd"
   ]
  },
  {
   "cell_type": "code",
   "execution_count": null,
   "id": "fc6b3b3d-7161-44ee-94e4-d06eaec6745c",
   "metadata": {},
   "outputs": [],
   "source": [
    "mjd_zoom_start = Time(\"2024-01-01\").mjd\n",
    "mjd_zoom_stop = Time(\"2025-06-30\").mjd"
   ]
  },
  {
   "cell_type": "code",
   "execution_count": null,
   "id": "3f167569-b85b-4ef7-9c48-deda686e4139",
   "metadata": {
    "tags": []
   },
   "outputs": [],
   "source": [
    "mjd_obs_start = df_m[\"mjd\"].min() \n",
    "mjd_obs_stop = df_m[\"mjd\"].max() "
   ]
  },
  {
   "cell_type": "markdown",
   "id": "0d46117d-ca5c-4820-bf77-5948804f8513",
   "metadata": {},
   "source": [
    "# Start analysis"
   ]
  },
  {
   "cell_type": "markdown",
   "id": "1de0255c-cbc2-4603-997c-8eaaa18eeef2",
   "metadata": {},
   "source": [
    "## Analysis of PWV"
   ]
  },
  {
   "cell_type": "code",
   "execution_count": null,
   "id": "3fd02994-4a05-4145-8da9-10ac7f5b920a",
   "metadata": {},
   "outputs": [],
   "source": [
    "from matplotlib.dates import DateFormatter\n",
    "#date_form = DateFormatter(\"%y-%m-%dT%H:%M\")\n",
    "date_form = DateFormatter(\"%y-%m\")\n",
    "\n",
    "fig = plt.figure(figsize=(12,6),layout=\"constrained\")\n",
    "gs = GridSpec(2, 1,figure=fig)\n",
    "#gs = GridSpec(1, 1,figure=fig)\n",
    "ax1 = fig.add_subplot(gs[0])\n",
    "ax2 = fig.add_subplot(gs[1])\n",
    "        \n",
    "leg1=ax1.get_legend()\n",
    "leg2=ax2.get_legend()\n",
    "\n",
    "\n",
    "ax1.plot(pd.to_datetime(df_m.Time.values), df_m.TQV.values,c=\"b\",lw=0.5,label=\"Merra2\")\n",
    "ax1.set_xlabel(\"time\")\n",
    "ax1.xaxis.set_major_formatter(date_form)\n",
    "ax1.set_title(\"Precipitable water vapor from Merra2\")\n",
    "ax1.legend()\n",
    "ax1.set_ylabel(\"PWV (mm)\")\n",
    "#ax.set_xlim(TMIN,TMAX)\n",
    "\n",
    "data = df_m.TQV.values\n",
    "mean = np.mean(data)\n",
    "median = np.median(data)\n",
    "std = np.std(data)\n",
    "textstr = \"\\n\".join((f\"Expected max-range for PWV : \",\n",
    "                     f\"- average : {mean:.2f} mm\",\n",
    "                     f\"- median : {median:.2f} mm\",\n",
    "                     f\"- sigma : {std:.2f} mm\",     \n",
    "                    ))\n",
    "ax1.text(0.05, 0.95, textstr, transform=ax1.transAxes, fontsize=14,verticalalignment='top', bbox=props)\n",
    "\n",
    "\n",
    "ax2.plot(df_m.mjd, df_m.TQV.values,c=\"b\",lw=0.5,label=\"Merra2\")\n",
    "ax2.set_xlabel(\"time (MJD)\")\n",
    "ax2.legend()\n",
    "ax2.set_ylabel(\"PWV (mm)\")\n",
    "\n",
    "figname =f\"{pathfigs}/pwv_allpoints_merra2\"+figtype\n",
    "fig.savefig(figname)\n",
    "plt.show()\n"
   ]
  },
  {
   "cell_type": "markdown",
   "id": "d8b54579-6a0a-4d4b-9311-54f22e73d5ca",
   "metadata": {},
   "source": [
    "### Define the kernels for PWV"
   ]
  },
  {
   "cell_type": "code",
   "execution_count": null,
   "id": "dedf1dc5-6f82-49c0-adef-dfaf46bae274",
   "metadata": {
    "tags": []
   },
   "outputs": [],
   "source": [
    "pwv_kernel = GetPWVPeriodicKernel_merra2()"
   ]
  },
  {
   "cell_type": "markdown",
   "id": "2d6d42a7-7e3e-4f4d-b587-fc2bb4cd1c4f",
   "metadata": {},
   "source": [
    "### Make a subsample"
   ]
  },
  {
   "cell_type": "code",
   "execution_count": null,
   "id": "37d9969c-f3b8-471e-aa2d-98dabdf65da2",
   "metadata": {
    "tags": []
   },
   "outputs": [],
   "source": [
    "NSAMP = 4000\n",
    "a = np.arange(0,Nm ,1)\n",
    "b = np.random.choice(a, size=NSAMP,replace = False)\n",
    "index_selected = np.sort(b)"
   ]
  },
  {
   "cell_type": "code",
   "execution_count": null,
   "id": "be884359-cbed-463f-b930-fff0c2bfb23a",
   "metadata": {
    "tags": []
   },
   "outputs": [],
   "source": [
    "unique, counts = np.unique(b, return_counts = True)"
   ]
  },
  {
   "cell_type": "markdown",
   "id": "5333625e-3cdf-4bed-bd38-98b21c71f216",
   "metadata": {},
   "source": [
    "### Index selected and Fit with gaussian process"
   ]
  },
  {
   "cell_type": "code",
   "execution_count": null,
   "id": "6d7839ba-a1e1-4222-a5f0-0605153cfe41",
   "metadata": {
    "tags": []
   },
   "outputs": [],
   "source": [
    "# all values without sampling\n",
    "x_full = df_m.mjd.values\n",
    "X_full = x_full.reshape(-1, 1)\n",
    "y_full = df_m.TQV.values"
   ]
  },
  {
   "cell_type": "code",
   "execution_count": null,
   "id": "04a5c1b0-4c2e-48ce-8501-fa3c3a9f23d1",
   "metadata": {},
   "outputs": [],
   "source": [
    "fig,ax = plt.subplots(1,1,figsize=(12,4),layout=\"constrained\")\n",
    "fourier_analysis(x_full,y_full,ax=ax ,mode= \"logxliny\",\n",
    "                 title = \"PWV : absolute  FFT\",\n",
    "                 xlabel=\"days\",\n",
    "                 ylabel=\" mm\",\n",
    "                 label=\"FFT\")\n",
    "figname =f\"{pathfigs}/pwv_FFTdata_merra2\"+figtype\n",
    "fig.savefig(figname)\n",
    "plt.show()"
   ]
  },
  {
   "cell_type": "markdown",
   "id": "a20b4b09-aef8-4528-91ac-948dfb68ef99",
   "metadata": {},
   "source": [
    "### subset of values choosen randomly to be fitted on "
   ]
  },
  {
   "cell_type": "code",
   "execution_count": null,
   "id": "c16a17f5-7f24-471a-b648-cfab3510594c",
   "metadata": {},
   "outputs": [],
   "source": [
    "# subset of values choosen randomly to be fitted on \n",
    "x = df_m.mjd.values[index_selected]\n",
    "X = x.reshape(-1, 1)\n",
    "y = df_m.TQV.values[index_selected]\n",
    "y_median = np.median(y)\n",
    "y_mean = np.mean(y)"
   ]
  },
  {
   "cell_type": "markdown",
   "id": "6f5fa915-d027-4ad6-afe4-6a7409275ac0",
   "metadata": {},
   "source": [
    "### Fit GP"
   ]
  },
  {
   "cell_type": "code",
   "execution_count": null,
   "id": "c01e76da-c11e-4854-85f6-970243f9aacb",
   "metadata": {
    "tags": []
   },
   "outputs": [],
   "source": [
    "#gaussian_process = GaussianProcessRegressor(kernel=pwv_kernel, normalize_y= True)\n",
    "#gaussian_process.fit(X, y)\n",
    "\n",
    "gaussian_process = GaussianProcessRegressor(kernel=pwv_kernel, normalize_y= False)\n",
    "gaussian_process.fit(X, y-y_median)"
   ]
  },
  {
   "cell_type": "code",
   "execution_count": null,
   "id": "a08c9e2e-612f-459a-9416-31448c7832a8",
   "metadata": {},
   "outputs": [],
   "source": [
    "txtstr_kernel = f\"{gaussian_process.kernel_}\"\n",
    "txtstr_kernel = \"\\n + \".join(txtstr_kernel.split(\"+ \"))"
   ]
  },
  {
   "cell_type": "code",
   "execution_count": null,
   "id": "33ef5394-5701-461a-bb84-d9b6e0ce93b4",
   "metadata": {},
   "outputs": [],
   "source": [
    "txtstr_kernel"
   ]
  },
  {
   "cell_type": "markdown",
   "id": "d7daaf4f-a7d8-414a-b717-2b4f02ea03c1",
   "metadata": {},
   "source": [
    "### Save Gaussian Kernel"
   ]
  },
  {
   "cell_type": "code",
   "execution_count": null,
   "id": "87904187-daa8-4b4b-8847-d4fd6fe47086",
   "metadata": {},
   "outputs": [],
   "source": [
    "# save\n",
    "\n",
    "gpparams_model_filename = 'model_gpperiodic_pwv_wthnorm.pkl'\n",
    "gpparams_model_fullfilename = os.path.join(pathdata,gpparams_model_filename)\n",
    "\n",
    "with open(gpparams_model_fullfilename,'wb') as f:\n",
    "    pickle.dump(gaussian_process,f)\n"
   ]
  },
  {
   "cell_type": "code",
   "execution_count": null,
   "id": "a9a33b8b-744e-4dff-99b4-7faa9b8ebc99",
   "metadata": {},
   "outputs": [],
   "source": [
    "# load\n",
    "with open(gpparams_model_fullfilename, 'rb') as f:\n",
    "    gp_regressor = pickle.load(f)\n",
    "    print(gp_regressor)"
   ]
  },
  {
   "cell_type": "code",
   "execution_count": null,
   "id": "90624845-1097-4dcf-8eb5-f3e79c239c61",
   "metadata": {},
   "outputs": [],
   "source": [
    "fig,ax = plt.subplots(1,1,figsize=(5,5))\n",
    "ax.imshow(gp_regressor.kernel(X),origin=\"lower\",cmap=\"rainbow\")\n",
    "plt.show()"
   ]
  },
  {
   "cell_type": "markdown",
   "id": "612a1c2a-6ca9-4d4f-be39-abcba7f6321c",
   "metadata": {},
   "source": [
    "### Prediction on subsample"
   ]
  },
  {
   "cell_type": "code",
   "execution_count": null,
   "id": "75bab313-8f43-41df-8646-b5ac7abf6a93",
   "metadata": {},
   "outputs": [],
   "source": [
    "mjd_min = df_m.mjd.values.min()\n",
    "mjd_max = df_m.mjd.values.max() + YEAR"
   ]
  },
  {
   "cell_type": "code",
   "execution_count": null,
   "id": "407d8091-6246-4c9c-9c6a-bdf6f023066c",
   "metadata": {},
   "outputs": [],
   "source": [
    "x_test = np.arange(start=mjd_min, stop=mjd_max,step=2)\n",
    "X_test = x_test.reshape(-1,1)\n",
    "mean_y_pred, std_y_pred = gaussian_process.predict(X_test, return_std=True)"
   ]
  },
  {
   "cell_type": "code",
   "execution_count": null,
   "id": "a4f13e2c-2e90-4968-b6af-99457318750f",
   "metadata": {},
   "outputs": [],
   "source": [
    "mean_y_pred += y_median"
   ]
  },
  {
   "cell_type": "code",
   "execution_count": null,
   "id": "3225e38f-2d00-4bf6-b8e7-b4ac31eeb173",
   "metadata": {},
   "outputs": [],
   "source": [
    "fig = plt.figure(figsize=(12,6),layout=\"constrained\")\n",
    "gs = GridSpec(2, 1,figure=fig)\n",
    "#gs = GridSpec(1, 1,figure=fig)\n",
    "ax1 = fig.add_subplot(gs[0])\n",
    "ax2 = fig.add_subplot(gs[1])\n",
    "ax1.plot(x,y,'-',color=\"k\",linestyle=\"dashed\", label=\"M2 Measurements\")\n",
    "ax1.plot(x_test,mean_y_pred,color=\"tab:blue\", lw=3 ,alpha=1.0, label=\"Gaussian process\")\n",
    "ax1.fill_between(\n",
    "    X_test.ravel(),\n",
    "    mean_y_pred - std_y_pred,\n",
    "    mean_y_pred + std_y_pred,\n",
    "    color=\"tab:blue\",\n",
    "    alpha=0.2,\n",
    ")\n",
    "ax1.legend()\n",
    "\n",
    "ax1.set_ylabel(\"PWV (mm)\")\n",
    "ax1.set_xlabel(\"mjd\")\n",
    "ax1.set_title(\"Fit PWV with Gaussian process (subsample)\")\n",
    "ax1.text(0.1, 0.95, txtstr_kernel, transform=ax1.transAxes, fontsize=16,verticalalignment='top', bbox=props)\n",
    "\n",
    "ax2.plot(x,y,'-',color=\"k\",linestyle=\"dashed\", label=\"M2 Measurements\")\n",
    "ax2.plot(x_test,mean_y_pred,color=\"tab:blue\",lw=3 ,alpha=1.0, label=\"Gaussian process\")\n",
    "ax2.fill_between(\n",
    "    X_test.ravel(),\n",
    "    mean_y_pred - std_y_pred,\n",
    "    mean_y_pred + std_y_pred,\n",
    "    color=\"tab:blue\",\n",
    "    alpha=0.2,\n",
    ")\n",
    "ax2.legend()\n",
    "\n",
    "ax2.set_ylabel(\"PWV (mm)\")\n",
    "ax2.set_xlabel(\"mjd\")\n",
    "ax2.set_title(\"Time-Zoom on Fit PWV with Gaussian process\")\n",
    "ax2.set_xlim(mjd_zoom_start,mjd_zoom_stop)\n",
    "ax2.text(0.1, 0.95, txtstr_kernel, transform=ax2.transAxes, fontsize=16,verticalalignment='top', bbox=props)\n",
    "\n",
    "\n",
    "\n",
    "figname =f\"{pathfigs}/pwv_fitgp_merra2\"+figtype\n",
    "fig.savefig(figname)\n",
    "plt.show()\n"
   ]
  },
  {
   "cell_type": "markdown",
   "id": "d24fd890-5275-4059-9695-ba5942a5d7ff",
   "metadata": {},
   "source": [
    "### Residuals on the whole statistics"
   ]
  },
  {
   "cell_type": "code",
   "execution_count": null,
   "id": "a9f99529-5bf0-4c31-838b-fe59883c0dc8",
   "metadata": {},
   "outputs": [],
   "source": [
    "mean_yfull_pred, std_yfull_pred = gaussian_process.predict(X_full, return_std=True)\n",
    "mean_yfull_pred += y_median"
   ]
  },
  {
   "cell_type": "code",
   "execution_count": null,
   "id": "bab04ca1-d759-497d-9c87-418243fee4bb",
   "metadata": {},
   "outputs": [],
   "source": [
    "residuals = y_full -  mean_yfull_pred"
   ]
  },
  {
   "cell_type": "code",
   "execution_count": null,
   "id": "f23157db-0e00-4e32-a072-912862f01aa8",
   "metadata": {},
   "outputs": [],
   "source": [
    "stat_mean = np.mean(residuals)\n",
    "stat_med = np.median(residuals)\n",
    "stat_std = np.std(residuals)"
   ]
  },
  {
   "cell_type": "code",
   "execution_count": null,
   "id": "aa2a93ac-c3e1-4f80-bc10-fa0840092c6e",
   "metadata": {},
   "outputs": [],
   "source": [
    "txtstr_stat = [f\"mean = {stat_mean:.2f} mm \", f\"median = {stat_med:.2f} mm\",f\"std = {stat_std:.2f} mm\"]\n",
    "txtstr_stat = \"\\n\".join(txtstr_stat)"
   ]
  },
  {
   "cell_type": "code",
   "execution_count": null,
   "id": "f5e43725-1d1b-4636-aea1-9c27f421ef11",
   "metadata": {},
   "outputs": [],
   "source": [
    "fig = plt.figure(figsize=(12,6),layout=\"constrained\")\n",
    "gs = GridSpec(2, 1,figure=fig)\n",
    "#gs = GridSpec(1, 1,figure=fig)\n",
    "ax1 = fig.add_subplot(gs[0])\n",
    "ax2 = fig.add_subplot(gs[1])\n",
    "ax1.plot(x_full,y_full,'-',color=\"k\",linestyle=\"dashed\", label=\"M2 Measurements\")\n",
    "ax1.plot(x_full,mean_yfull_pred,color=\"tab:blue\", lw=3 ,alpha=1.0, label=\"Gaussian process\")\n",
    "ax1.fill_between(\n",
    "    X_full.ravel(),\n",
    "    mean_yfull_pred - std_yfull_pred,\n",
    "    mean_yfull_pred + std_yfull_pred,\n",
    "    color=\"tab:blue\",\n",
    "    alpha=0.2,\n",
    ")\n",
    "ax1.legend()\n",
    "\n",
    "ax1.set_ylabel(\"PWV (mm)\")\n",
    "ax1.set_xlabel(\"mjd\")\n",
    "ax1.set_title(\"Fit PWV with Gaussian process\")\n",
    "ax1.text(0.1, 0.95, txtstr_kernel, transform=ax1.transAxes, fontsize=16,verticalalignment='top', bbox=props)\n",
    "\n",
    "\n",
    "ax2.plot(x_full,residuals,'-',color=\"k\",linestyle=\"solid\", label=\"Residuals\")\n",
    "ax2.fill_between(\n",
    "    X_full.ravel(),\n",
    "    - std_yfull_pred,\n",
    "    std_yfull_pred,\n",
    "    color=\"tab:blue\",\n",
    "    alpha=0.2,\n",
    ")\n",
    "ax2.legend()\n",
    "\n",
    "ax2.set_ylabel(\"PWV residuals (mm)\")\n",
    "ax2.set_xlabel(\"mjd\")\n",
    "ax2.set_title(\"Residuals on Fit PWV with Gaussian process\")\n",
    "ax2.axhline(0,color=\"tab:blue\",linewidth=3)\n",
    "ax2.text(0.01, 0.95, txtstr_stat, transform=ax2.transAxes, fontsize=16,verticalalignment='top', bbox=props)\n",
    "\n",
    "\n",
    "figname =f\"{pathfigs}/pwv_fitgpresiduals_merra2\"+figtype\n",
    "fig.savefig(figname)\n",
    "plt.show()\n"
   ]
  },
  {
   "cell_type": "code",
   "execution_count": null,
   "id": "28efc43b-587d-4099-99a6-62cb33a0c646",
   "metadata": {},
   "outputs": [],
   "source": [
    "fig,ax = plt.subplots(1,1,figsize=(6,4),layout=\"constrained\")\n",
    "ax.hist(residuals,bins=50,facecolor=\"tab:blue\")\n",
    "ax.set_title(\"Residuals to PWV GP periodic model\")\n",
    "ax.text(0.45, 0.95, txtstr_stat, transform=ax.transAxes, fontsize=12,verticalalignment='top', bbox=props)\n",
    "ax.set_xlabel(\"$\\Delta PWV$ (mm)\")\n",
    "figname =f\"{pathfigs}/pwvres_histdata_merra2\"+figtype\n",
    "fig.savefig(figname)\n",
    "plt.show()"
   ]
  },
  {
   "cell_type": "code",
   "execution_count": null,
   "id": "5dde698f-a6e5-417a-8dcb-f119ba438845",
   "metadata": {},
   "outputs": [],
   "source": [
    "fig,ax = plt.subplots(1,1,figsize=(12,4),layout=\"constrained\")\n",
    "fourier_analysis(x_full,residuals,ax=ax ,mode= \"logxliny\",\n",
    "                 title = \"PWV periodic-GP fit residuals absolute  FFT\",\n",
    "                 xlabel=\"days\",\n",
    "                 ylabel=\" mm\",\n",
    "                 label=\"FFT residuals\")\n",
    "figname =f\"{pathfigs}/pwvres_FFTdata_merra2\"+figtype\n",
    "fig.savefig(figname)\n",
    "plt.show()"
   ]
  },
  {
   "cell_type": "markdown",
   "id": "75f24d37-23aa-4805-af97-e3ee810a4c63",
   "metadata": {},
   "source": [
    "### Save residuals data in a file"
   ]
  },
  {
   "cell_type": "code",
   "execution_count": null,
   "id": "0ba76744-d79d-4430-9c85-f749f1591bd7",
   "metadata": {},
   "outputs": [],
   "source": [
    "df_out = pd.DataFrame({'mjd': x_full, \"res\" : residuals})\n",
    "datafilename = f\"{pathdata}/pwv_fitgpresiduals_merra2\"+datatype\n",
    "df_out.to_csv(datafilename)"
   ]
  },
  {
   "cell_type": "markdown",
   "id": "3338a245-30b8-444c-971e-d5d1efc68b1f",
   "metadata": {},
   "source": [
    "## Ozone"
   ]
  },
  {
   "cell_type": "code",
   "execution_count": null,
   "id": "fbe59757-4742-4a83-b5b6-a43953a6c5d4",
   "metadata": {},
   "outputs": [],
   "source": [
    "from matplotlib.dates import DateFormatter\n",
    "#date_form = DateFormatter(\"%y-%m-%dT%H:%M\")\n",
    "date_form = DateFormatter(\"%y-%m\")\n",
    "\n",
    "fig = plt.figure(figsize=(12,6),layout=\"constrained\")\n",
    "gs = GridSpec(2, 1,figure=fig)\n",
    "\n",
    "ax1 = fig.add_subplot(gs[0])\n",
    "ax2 = fig.add_subplot(gs[1])\n",
    "        \n",
    "leg1=ax1.get_legend()\n",
    "leg2=ax2.get_legend()\n",
    "\n",
    "\n",
    "ax1.plot(pd.to_datetime(df_m.Time.values), df_m.TO3.values,c=\"r\",lw=0.5,label=\"Merra2\")\n",
    "ax1.set_xlabel(\"time\")\n",
    "ax1.xaxis.set_major_formatter(date_form)\n",
    "ax1.set_title(\"Ozone from Merra2\")\n",
    "#ax1.legend()\n",
    "ax1.set_ylabel(\"Ozone (DU)\")\n",
    "#ax.set_xlim(TMIN,TMAX)\n",
    "\n",
    "data = df_m.TO3.values\n",
    "mean = np.mean(data)\n",
    "median = np.median(data)\n",
    "std = np.std(data)\n",
    "textstr = \"\\n\".join((f\"Expected range for Ozone : \",\n",
    "                     f\"- average : {mean:.2f} DU\",\n",
    "                     f\"- median : {median:.2f} DU\",\n",
    "                     f\"- sigma : {std:.2f} DU\",     \n",
    "                    ))\n",
    "ax1.text(0.05, 0.95, textstr, transform=ax1.transAxes, fontsize=14,verticalalignment='top', bbox=props)\n",
    "\n",
    "ax2.plot(df_m.mjd, df_m.TO3.values,c=\"r\",lw=0.5,label=\"Merra2\")\n",
    "ax2.set_xlabel(\"time (MJD)\")\n",
    "ax2.legend()\n",
    "ax2.set_ylabel(\"Ozone (DU)\")\n",
    "\n",
    "\n",
    "figname =f\"{pathfigs}/ozone_allpoints_merra2\"+figtype\n",
    "fig.savefig(figname)\n",
    "plt.show()\n"
   ]
  },
  {
   "cell_type": "markdown",
   "id": "90f02a69-886e-48e3-9775-6fb554b06f98",
   "metadata": {},
   "source": [
    "### Define the kernels"
   ]
  },
  {
   "cell_type": "code",
   "execution_count": null,
   "id": "2a717d51-4eb7-4ef1-a719-1baf6df22fc1",
   "metadata": {
    "tags": []
   },
   "outputs": [],
   "source": [
    "#ozone_kernel = full_kernel\n",
    "ozone_kernel = GetOzonePeriodicKernel_merra2()"
   ]
  },
  {
   "cell_type": "markdown",
   "id": "ae0c82d6-6d76-4556-8ead-a4c7f31e4956",
   "metadata": {},
   "source": [
    "### FFT over the full Ozone dataset"
   ]
  },
  {
   "cell_type": "code",
   "execution_count": null,
   "id": "3834dcc9-2e05-434d-a38f-af6878328a94",
   "metadata": {},
   "outputs": [],
   "source": [
    "# all values without sampling\n",
    "x_full = df_m.mjd.values\n",
    "X_full = x_full.reshape(-1, 1)\n",
    "y_full = df_m.TO3.values"
   ]
  },
  {
   "cell_type": "code",
   "execution_count": null,
   "id": "bc32b282-4d72-4dbf-84e3-51652349a638",
   "metadata": {},
   "outputs": [],
   "source": [
    "fig,ax = plt.subplots(1,1,figsize=(12,4),layout=\"constrained\")\n",
    "fourier_analysis(x_full,y_full,ax=ax ,mode= \"logxliny\",\n",
    "                 title = \"Ozone : absolute  FFT (full sample)\",\n",
    "                 xlabel=\"days\",\n",
    "                 ylabel=\"DU\",\n",
    "                 label=\"FFT\")\n",
    "figname =f\"{pathfigs}/ozone_FFTdata_merra2\"+figtype\n",
    "fig.savefig(figname)\n",
    "plt.show()"
   ]
  },
  {
   "cell_type": "markdown",
   "id": "4e5957a3-1422-48e8-8304-d0d59cb30157",
   "metadata": {},
   "source": [
    "### Subsampling"
   ]
  },
  {
   "cell_type": "code",
   "execution_count": null,
   "id": "b335f138-eb83-45f8-aeea-0a67202c3fea",
   "metadata": {},
   "outputs": [],
   "source": [
    "NSAMP = 4000\n",
    "a = np.arange(0,Nm ,1)\n",
    "b = np.random.choice(a, size=NSAMP,replace = False)\n",
    "index_selected = np.sort(b)\n",
    "print(index_selected)"
   ]
  },
  {
   "cell_type": "code",
   "execution_count": null,
   "id": "3928c31b-f0bd-4804-a743-62d2499f0451",
   "metadata": {
    "tags": []
   },
   "outputs": [],
   "source": [
    "x = df_m.mjd.values[index_selected]\n",
    "X = x.reshape(-1, 1)\n",
    "y = df_m.TO3.values[index_selected]\n",
    "y_mean = y.mean()"
   ]
  },
  {
   "cell_type": "code",
   "execution_count": null,
   "id": "215b0e74-adc9-447c-adef-c0d8fafbaf3b",
   "metadata": {},
   "outputs": [],
   "source": [
    "y_mean"
   ]
  },
  {
   "cell_type": "code",
   "execution_count": null,
   "id": "2a7797ad-feee-40bb-93f3-94c71360d8d3",
   "metadata": {},
   "outputs": [],
   "source": [
    "y"
   ]
  },
  {
   "cell_type": "code",
   "execution_count": null,
   "id": "4c816e30-985a-4cfc-aead-39cfd4fa29fd",
   "metadata": {},
   "outputs": [],
   "source": [
    "fig,ax = plt.subplots(1,1,figsize=(FIGXSIZE_0,FIGYSIZE_0))\n",
    "ax.plot(x,y)\n",
    "ax.set_title(\"sampled values for ozone\")\n",
    "plt.show()"
   ]
  },
  {
   "cell_type": "markdown",
   "id": "c435b349-f550-492d-9ab2-7e7682989c8b",
   "metadata": {},
   "source": [
    "### Gaussian Fit\n",
    "\n",
    "- **Note here I should not ask for internal normalisation**\n",
    "\n",
    "- **Note here the alpha parameter help in having a definit positive kernel function. It act as a regularisation"
   ]
  },
  {
   "cell_type": "code",
   "execution_count": null,
   "id": "65cd548b-e217-4167-8586-64820a1b7c36",
   "metadata": {},
   "outputs": [],
   "source": [
    "#gaussian_process = GaussianProcessRegressor(kernel=ozone_kernel, normalize_y=False)\n",
    "gaussian_process = GaussianProcessRegressor(kernel=ozone_kernel,alpha=0.0001,normalize_y=False,random_state=2)\n",
    "gaussian_process.fit(X, y - y_mean)\n",
    "                                  "
   ]
  },
  {
   "cell_type": "code",
   "execution_count": null,
   "id": "abe972be-0cd7-4f02-b786-48b5de83a3df",
   "metadata": {},
   "outputs": [],
   "source": [
    "txtstr_kernel = f\"{gaussian_process.kernel_}\"\n",
    "txtstr_kernel = \"\\n + \".join(txtstr_kernel.split(\"+ \"))"
   ]
  },
  {
   "cell_type": "markdown",
   "id": "5165726c-40e1-43cc-bc59-603a1d7b23b2",
   "metadata": {},
   "source": [
    "### Prediction"
   ]
  },
  {
   "cell_type": "code",
   "execution_count": null,
   "id": "6eea6a1e-1cd0-45df-b375-7577cf325987",
   "metadata": {
    "tags": []
   },
   "outputs": [],
   "source": [
    "x_test = np.arange(start=mjd_min, stop=mjd_max,step=2)\n",
    "X_test = x_test.reshape(-1,1)\n",
    "mean_y_pred, std_y_pred = gaussian_process.predict(X_test, return_std=True)\n",
    "mean_y_pred += y_mean"
   ]
  },
  {
   "cell_type": "code",
   "execution_count": null,
   "id": "f6d5fd18-8b1e-4936-8adf-4adb20ac0883",
   "metadata": {
    "tags": []
   },
   "outputs": [],
   "source": [
    "fig = plt.figure(figsize=(FIGXSIZE_1,FIGYSIZE_1),layout=\"constrained\")\n",
    "gs = GridSpec(2, 1,figure=fig)\n",
    "#gs = GridSpec(1, 1,figure=fig)\n",
    "ax1 = fig.add_subplot(gs[0])\n",
    "ax2 = fig.add_subplot(gs[1])\n",
    "ax1.plot(x,y,'-',color=\"k\",linestyle=\"dashed\", label=\"M2 Measurements\")\n",
    "ax1.plot(x_test,mean_y_pred,color=\"tab:red\", lw=3,alpha=1.0, label=\"Gaussian process\")\n",
    "ax1.fill_between(\n",
    "    X_test.ravel(),\n",
    "    mean_y_pred - std_y_pred,\n",
    "    mean_y_pred + std_y_pred,\n",
    "    color=\"tab:red\",\n",
    "    alpha=0.2,\n",
    ")\n",
    "ax1.legend()\n",
    "ax1.set_ylabel(\"Ozone (DU)\")\n",
    "ax1.set_xlabel(\"mjd\")\n",
    "ax1.set_title(\"Fit Ozone with Gaussian process (subsamples)\")\n",
    "ax1.text(0.1, 0.95, txtstr_kernel, transform=ax1.transAxes, fontsize=16,verticalalignment='top', bbox=props)\n",
    "ax1.set_ylim(0.,600.)\n",
    "\n",
    "\n",
    "ax2.plot(x,y,'-',color=\"k\",linestyle=\"dashed\", label=\"M2 Measurements\")\n",
    "ax2.plot(x_test,mean_y_pred,color=\"tab:red\", lw=3,alpha=1.0, label=\"Gaussian process\")\n",
    "ax2.fill_between(\n",
    "    X_test.ravel(),\n",
    "    mean_y_pred - std_y_pred,\n",
    "    mean_y_pred + std_y_pred,\n",
    "    color=\"tab:red\",\n",
    "    alpha=0.2,\n",
    ")\n",
    "ax2.legend()\n",
    "\n",
    "ax2.set_ylabel(\"Ozone (DU)\")\n",
    "ax2.set_xlabel(\"mjd\")\n",
    "ax2.set_title(\"Time-Zoom on Fit Ozone with Gaussian process\")\n",
    "ax2.set_xlim(mjd_zoom_start,mjd_zoom_stop)\n",
    "ax2.text(0.1, 0.95, txtstr_kernel, transform=ax2.transAxes, fontsize=16,verticalalignment='top', bbox=props)\n",
    "\n",
    "\n",
    "\n",
    "figname =f\"{pathfigs}/ozone_fitgp_merra2\"+figtype\n",
    "fig.savefig(figname)\n",
    "plt.show()\n"
   ]
  },
  {
   "cell_type": "markdown",
   "id": "fab70821-d19d-4347-b1e5-3765b9183ce6",
   "metadata": {},
   "source": [
    "### Save gaussian Kernel parameters"
   ]
  },
  {
   "cell_type": "code",
   "execution_count": null,
   "id": "a24d51f5-dd15-4b5a-922f-1be591e2c7e5",
   "metadata": {},
   "outputs": [],
   "source": [
    "# save\n",
    "\n",
    "gpparams_model_filename = 'model_gpperiodic_ozone_nonorm.pkl'\n",
    "gpparams_model_fullfilename = os.path.join(pathdata,gpparams_model_filename)\n",
    "\n",
    "with open(gpparams_model_fullfilename,'wb') as f:\n",
    "    pickle.dump(gaussian_process,f)\n"
   ]
  },
  {
   "cell_type": "code",
   "execution_count": null,
   "id": "c939aee6-ccd5-4541-a934-cf5af19deb23",
   "metadata": {},
   "outputs": [],
   "source": [
    "# load\n",
    "with open(gpparams_model_fullfilename, 'rb') as f:\n",
    "    gp_regressor = pickle.load(f)\n",
    "    print(gp_regressor)"
   ]
  },
  {
   "cell_type": "code",
   "execution_count": null,
   "id": "46b8ad2a-4281-48f4-82ff-a696a3a9747a",
   "metadata": {},
   "outputs": [],
   "source": [
    "fig,ax = plt.subplots(1,1,figsize=(5,5))\n",
    "ax.imshow(gp_regressor.kernel(X),origin=\"lower\",cmap=\"rainbow\")\n",
    "plt.show()"
   ]
  },
  {
   "cell_type": "markdown",
   "id": "99a5ba16-35dc-454b-b9d7-e746f877d987",
   "metadata": {},
   "source": [
    "### Residuals on the whole statistics\n",
    "\n",
    "- Note here the gaussian process is learned without internal normalisation"
   ]
  },
  {
   "cell_type": "code",
   "execution_count": null,
   "id": "37fcf157-c468-486f-bc06-5380cbe812a6",
   "metadata": {},
   "outputs": [],
   "source": [
    "mean_yfull_pred, std_yfull_pred = gaussian_process.predict(X_full, return_std=True)\n",
    "mean_yfull_pred += y_mean"
   ]
  },
  {
   "cell_type": "code",
   "execution_count": null,
   "id": "0364ec68-0241-449f-af75-008530120b83",
   "metadata": {},
   "outputs": [],
   "source": [
    "residuals = y_full -  mean_yfull_pred"
   ]
  },
  {
   "cell_type": "code",
   "execution_count": null,
   "id": "ac609872-a1bf-4bf4-a059-71a3bf196595",
   "metadata": {},
   "outputs": [],
   "source": [
    "stat_mean = np.mean(residuals)\n",
    "stat_med = np.median(residuals)\n",
    "stat_std = np.std(residuals)"
   ]
  },
  {
   "cell_type": "code",
   "execution_count": null,
   "id": "d062764d-f6e4-4dff-8354-7b5dcd51fbfd",
   "metadata": {},
   "outputs": [],
   "source": [
    "txtstr_stat = [f\"mean = {stat_mean:.2f} DU \", f\"median = {stat_med:.2f} DU\",f\"std = {stat_std:.2f} DU\"]\n",
    "txtstr_stat = \"\\n\".join(txtstr_stat)"
   ]
  },
  {
   "cell_type": "code",
   "execution_count": null,
   "id": "889f90d0-47da-4c1a-abc7-a5c0f74fc181",
   "metadata": {},
   "outputs": [],
   "source": [
    "fig = plt.figure(figsize=(FIGXSIZE_1,FIGYSIZE_1),layout=\"constrained\")\n",
    "gs = GridSpec(2, 1,figure=fig)\n",
    "#gs = GridSpec(1, 1,figure=fig)\n",
    "ax1 = fig.add_subplot(gs[0])\n",
    "ax2 = fig.add_subplot(gs[1])\n",
    "ax1.plot(x_full,y_full,'-',color=\"k\",linestyle=\"dashed\", label=\"M2 Measurements\")\n",
    "ax1.plot(x_full,mean_yfull_pred,color=\"tab:red\", lw=3 ,alpha=1.0, label=\"Gaussian process\")\n",
    "ax1.fill_between(\n",
    "    X_full.ravel(),\n",
    "    mean_yfull_pred - std_yfull_pred,\n",
    "    mean_yfull_pred + std_yfull_pred,\n",
    "    color=\"tab:red\",\n",
    "    alpha=0.2,\n",
    ")\n",
    "ax1.legend()\n",
    "\n",
    "ax1.set_ylabel(\"Ozone (DU)\")\n",
    "ax1.set_xlabel(\"mjd\")\n",
    "ax1.set_title(\"Fit Ozone with Gaussian process\")\n",
    "ax1.text(0.1, 0.95, txtstr_kernel, transform=ax1.transAxes, fontsize=16,verticalalignment='top', bbox=props)\n",
    "\n",
    "\n",
    "ax2.plot(x_full,residuals,'-',color=\"k\",linestyle=\"solid\", label=\"Residuals\")\n",
    "ax2.fill_between(\n",
    "    X_full.ravel(),\n",
    "    - std_yfull_pred,\n",
    "    std_yfull_pred,\n",
    "    color=\"tab:red\",\n",
    "    alpha=0.2,\n",
    ")\n",
    "ax2.legend()\n",
    "\n",
    "ax2.set_ylabel(\"Ozone residuals (DU)\")\n",
    "ax2.set_xlabel(\"mjd\")\n",
    "ax2.set_title(\"Residuals on Fit Ozone with Gaussian process\")\n",
    "ax2.axhline(0,color=\"tab:red\",linewidth=3)\n",
    "ax2.text(0.01, 0.95, txtstr_stat, transform=ax2.transAxes, fontsize=16,verticalalignment='top', bbox=props)\n",
    "\n",
    "\n",
    "figname =f\"{pathfigs}/ozone_fitgpresiduals_merra2\"+figtype\n",
    "fig.savefig(figname)\n",
    "plt.show()\n"
   ]
  },
  {
   "cell_type": "code",
   "execution_count": null,
   "id": "f57f1859-bd16-42aa-94a8-d9dbb33d3727",
   "metadata": {},
   "outputs": [],
   "source": [
    "fig,ax = plt.subplots(1,1,figsize=(6,4),layout=\"constrained\")\n",
    "ax.hist(residuals,bins=50,facecolor=\"tab:red\")\n",
    "ax.set_title(\"Residuals to Ozone GP periodic model\")\n",
    "ax.text(0.45, 0.95, txtstr_stat, transform=ax.transAxes, fontsize=12,verticalalignment='top', bbox=props)\n",
    "ax.set_xlabel(\"$\\Delta$ Ozone (DU)\")\n",
    "figname =f\"{pathfigs}/ozoneres_histdata_merra2\"+figtype\n",
    "fig.savefig(figname)\n",
    "plt.show()"
   ]
  },
  {
   "cell_type": "code",
   "execution_count": null,
   "id": "cc702691-057e-40f5-9d5c-4ff06b62e75a",
   "metadata": {},
   "outputs": [],
   "source": [
    "fig,ax = plt.subplots(1,1,figsize=(12,4),layout=\"constrained\")\n",
    "fourier_analysis(x_full,residuals,ax=ax ,mode= \"logxliny\",\n",
    "                 title = \"Ozone periodic-GP fit residuals absolute  FFT\",\n",
    "                 xlabel=\"days\",\n",
    "                 ylabel=\"DU\",\n",
    "                 label=\"FFT residuals\")\n",
    "figname =f\"{pathfigs}/ozoneres_FFTdata_merra2\"+figtype\n",
    "fig.savefig(figname)\n",
    "plt.show()"
   ]
  },
  {
   "cell_type": "markdown",
   "id": "0a6a7df1-bfc5-4a82-8604-b08027bbb1c6",
   "metadata": {},
   "source": [
    "### Save data file"
   ]
  },
  {
   "cell_type": "code",
   "execution_count": null,
   "id": "46871280-46aa-4d87-b5eb-53156a267aeb",
   "metadata": {},
   "outputs": [],
   "source": [
    "df_out = pd.DataFrame({'mjd': x_full, \"res\" : residuals})\n",
    "datafilename = f\"{pathdata}/ozone_fitgpresiduals_merra2\"+datatype\n",
    "df_out.to_csv(datafilename)"
   ]
  },
  {
   "cell_type": "markdown",
   "id": "58b4ac69-947d-4b40-9b5f-aec8c9d6f841",
   "metadata": {},
   "source": [
    "## Aerosol VAOD"
   ]
  },
  {
   "cell_type": "code",
   "execution_count": null,
   "id": "8424c184-6bc3-4adf-942a-cffd5f9b924f",
   "metadata": {},
   "outputs": [],
   "source": [
    "from matplotlib.dates import DateFormatter\n",
    "#date_form = DateFormatter(\"%y-%m-%dT%H:%M\")\n",
    "date_form = DateFormatter(\"%y-%m\")\n",
    "\n",
    "fig = plt.figure(figsize=(12,6))\n",
    "gs = GridSpec(2, 1,figure=fig)\n",
    "ax1 = fig.add_subplot(gs[0])\n",
    "ax2 = fig.add_subplot(gs[1])\n",
    "        \n",
    "leg1=ax1.get_legend()\n",
    "leg2=ax2.get_legend()\n",
    "\n",
    "\n",
    "ax1.plot(pd.to_datetime(df_mb.Time.values), df_mb.TOTEXTTAU.values,c=\"g\",lw=0.5,label=\"Merra2\")\n",
    "ax1.set_xlabel(\"time\")\n",
    "ax1.xaxis.set_major_formatter(date_form)\n",
    "ax1.set_title(\"VAOD from Merra2\")\n",
    "ax1.legend()\n",
    "ax1.set_ylabel(\"VAOD\")\n",
    "#ax.set_xlim(TMIN,TMAX)\n",
    "data = df_mb.TOTEXTTAU.values\n",
    "mean = np.mean(data)\n",
    "median = np.median(data)\n",
    "std = np.std(data)\n",
    "textstr = \"\\n\".join((f\"Expected max-range for VAOD : \",\n",
    "                     f\"- average : {mean:.3f}\",\n",
    "                     f\"- median : {median:.3f}\",\n",
    "                     f\"- sigma : {std:.3f}\",     \n",
    "                    ))\n",
    "ax1.text(0.05, 0.95, textstr, transform=ax1.transAxes, fontsize=14,verticalalignment='top', bbox=props)\n",
    "\n",
    "ax2.plot(df_mb.mjd, df_mb.TOTEXTTAU.values,c=\"g\",lw=0.5,label=\"Merra2\")\n",
    "ax2.set_xlabel(\"time (MJD)\")\n",
    "ax2.legend()\n",
    "ax2.set_ylabel(\"VAOD\")\n",
    "\n",
    "\n",
    "figname =f\"{pathfigs}/vaod_allpoints_merra2\"+figtype\n",
    "fig.savefig(figname)\n",
    "plt.show()\n"
   ]
  },
  {
   "cell_type": "markdown",
   "id": "27c583fd-7e8a-44d7-91cd-74e0d8da725e",
   "metadata": {},
   "source": [
    "### Define the kernels"
   ]
  },
  {
   "cell_type": "code",
   "execution_count": null,
   "id": "c332cdad-f524-46b3-bed6-66a6635f62ca",
   "metadata": {},
   "outputs": [],
   "source": [
    "full_kernel =  GetVAODPeriodicKernel_merra2()"
   ]
  },
  {
   "cell_type": "code",
   "execution_count": null,
   "id": "3cf1cef0-86ea-47cb-8665-77fb5f24f364",
   "metadata": {
    "tags": []
   },
   "outputs": [],
   "source": [
    "vaod_kernel = (\n",
    "    full_kernel\n",
    ")"
   ]
  },
  {
   "cell_type": "markdown",
   "id": "9a6ba737-6fab-46c7-9dec-b827227a529b",
   "metadata": {},
   "source": [
    "### Full sample"
   ]
  },
  {
   "cell_type": "code",
   "execution_count": null,
   "id": "59df2e49-d616-4178-9fc8-ad20b63ebeb1",
   "metadata": {},
   "outputs": [],
   "source": [
    "# all values without sampling\n",
    "x_full = df_mb.mjd.values\n",
    "X_full = x_full.reshape(-1, 1)\n",
    "y_full =  df_mb.TOTEXTTAU.values"
   ]
  },
  {
   "cell_type": "code",
   "execution_count": null,
   "id": "efee1742-9d12-4466-a310-b03fc99d37f5",
   "metadata": {},
   "outputs": [],
   "source": [
    "fig,ax = plt.subplots(1,1,figsize=(12,4),layout=\"constrained\")\n",
    "fourier_analysis(x_full,y_full,ax=ax ,mode= \"logxliny\",\n",
    "                 title = \"VAOD : absolute  FFT (full sample)\",\n",
    "                 xlabel=\"days\",\n",
    "                 ylabel=\"no-unit\",\n",
    "                 label=\"FFT\")\n",
    "figname =f\"{pathfigs}/vaod_FFTdata_merra2\"+figtype\n",
    "fig.savefig(figname)\n",
    "plt.show()"
   ]
  },
  {
   "cell_type": "markdown",
   "id": "9d1a872f-6340-4861-a92f-8c8094954706",
   "metadata": {},
   "source": [
    "### Make a subsample"
   ]
  },
  {
   "cell_type": "code",
   "execution_count": null,
   "id": "bb56429d-5658-4b96-84a2-99d8a7f9d403",
   "metadata": {
    "tags": []
   },
   "outputs": [],
   "source": [
    "NSAMP = 4000\n",
    "a = np.arange(0,Nmb ,1)\n",
    "#b = np.random.choice(a, size=10000,replace=False)\n",
    "b = np.random.choice(a, size=NSAMP,replace=False)"
   ]
  },
  {
   "cell_type": "code",
   "execution_count": null,
   "id": "93a286de-2319-4d09-a274-f349df7ac4c8",
   "metadata": {
    "tags": []
   },
   "outputs": [],
   "source": [
    "unique, counts = np.unique(b, return_counts=True)"
   ]
  },
  {
   "cell_type": "code",
   "execution_count": null,
   "id": "3e42a97b-6106-48a6-8091-72c4d6feb59e",
   "metadata": {
    "tags": []
   },
   "outputs": [],
   "source": [
    "index_selected = np.sort(b)"
   ]
  },
  {
   "cell_type": "code",
   "execution_count": null,
   "id": "397bc005-aa1b-4974-b6ad-b294d9c61212",
   "metadata": {},
   "outputs": [],
   "source": [
    "x = df_mb.mjd.values[index_selected]\n",
    "X = x.reshape(-1, 1)\n",
    "y = df_mb.TOTEXTTAU.values[index_selected]\n",
    "y_mean = 0."
   ]
  },
  {
   "cell_type": "markdown",
   "id": "15e11411-1d59-42eb-8546-3f855c2bd9e6",
   "metadata": {},
   "source": [
    "### Fit the gaussian process"
   ]
  },
  {
   "cell_type": "code",
   "execution_count": null,
   "id": "ec0183b0-d769-4db4-92c2-e1e5428e13af",
   "metadata": {
    "tags": []
   },
   "outputs": [],
   "source": [
    "gaussian_process = GaussianProcessRegressor(kernel=vaod_kernel, normalize_y=True)\n",
    "gaussian_process.fit(X, y - y_mean)"
   ]
  },
  {
   "cell_type": "code",
   "execution_count": null,
   "id": "29442ec8-815b-4810-9ce7-e5c294f5d7de",
   "metadata": {},
   "outputs": [],
   "source": [
    "txtstr_kernel = f\"{gaussian_process.kernel_}\"\n",
    "txtstr_kernel = \"\\n + \".join(txtstr_kernel.split(\"+ \"))"
   ]
  },
  {
   "cell_type": "markdown",
   "id": "4a883491-4fe7-47f1-8b23-00168c3ee950",
   "metadata": {},
   "source": [
    "### Save gaussian kernel"
   ]
  },
  {
   "cell_type": "code",
   "execution_count": null,
   "id": "397b7bf6-5878-42b6-9c75-dd75ef595957",
   "metadata": {},
   "outputs": [],
   "source": [
    "# save\n",
    "\n",
    "gpparams_model_filename = 'model_gpperiodic_vaod_wthnorm.pkl'\n",
    "gpparams_model_fullfilename = os.path.join(pathdata,gpparams_model_filename)\n",
    "\n",
    "with open(gpparams_model_fullfilename,'wb') as f:\n",
    "    pickle.dump(gaussian_process,f)"
   ]
  },
  {
   "cell_type": "code",
   "execution_count": null,
   "id": "a1ffbed6-d126-4e4a-bbd6-be6ba28f4ab4",
   "metadata": {},
   "outputs": [],
   "source": [
    "# load\n",
    "with open(gpparams_model_fullfilename, 'rb') as f:\n",
    "    gp_regressor = pickle.load(f)\n",
    "    print(gp_regressor)"
   ]
  },
  {
   "cell_type": "code",
   "execution_count": null,
   "id": "0e429293-c84e-49d8-9f5d-4985a48f0c3a",
   "metadata": {},
   "outputs": [],
   "source": [
    "fig,ax = plt.subplots(1,1,figsize=(5,5))\n",
    "ax.imshow(gp_regressor.kernel(X),origin=\"lower\",cmap=\"rainbow\")\n",
    "plt.show()"
   ]
  },
  {
   "cell_type": "markdown",
   "id": "d4f55ec7-f8cb-441e-ba4f-a7bb436410b8",
   "metadata": {},
   "source": [
    "### Prediction"
   ]
  },
  {
   "cell_type": "code",
   "execution_count": null,
   "id": "d1f3394c-ad92-4525-8aeb-ba9b69580eb9",
   "metadata": {
    "tags": []
   },
   "outputs": [],
   "source": [
    "mjd_min_b = df_mb.mjd.values.min()\n",
    "mjd_max_b = df_mb.mjd.values.max() + YEAR"
   ]
  },
  {
   "cell_type": "code",
   "execution_count": null,
   "id": "5c8701c9-e883-4645-83c3-a42dbcdf0dde",
   "metadata": {
    "tags": []
   },
   "outputs": [],
   "source": [
    "x_test = np.arange(start=mjd_min_b, stop=mjd_max_b,step=2)\n",
    "X_test = x_test.reshape(-1,1)\n",
    "mean_y_pred, std_y_pred = gaussian_process.predict(X_test, return_std=True)\n",
    "mean_y_pred += y_mean"
   ]
  },
  {
   "cell_type": "code",
   "execution_count": null,
   "id": "38ff40ec-ed36-41e9-bd42-09cdc536647b",
   "metadata": {
    "tags": []
   },
   "outputs": [],
   "source": [
    "fig = plt.figure(figsize=(12,6),layout=\"constrained\")\n",
    "gs = GridSpec(2, 1,figure=fig)\n",
    "#gs = GridSpec(1, 1,figure=fig)\n",
    "ax1 = fig.add_subplot(gs[0])\n",
    "ax2 = fig.add_subplot(gs[1])\n",
    "ax1.plot(x,y,'-',color=\"k\",linestyle=\"dashed\", label=\"M2 Measurements\")\n",
    "ax1.plot(x_test,mean_y_pred,color=\"tab:green\", lw=3,alpha=1.0, label=\"Gaussian process\")\n",
    "ax1.fill_between(\n",
    "    X_test.ravel(),\n",
    "    mean_y_pred - std_y_pred,\n",
    "    mean_y_pred + std_y_pred,\n",
    "    color=\"tab:green\",\n",
    "    alpha=0.2,\n",
    ")\n",
    "ax1.legend()\n",
    "ax1.text(0.1, 0.95, txtstr_kernel, transform=ax1.transAxes, fontsize=12,verticalalignment='top', bbox=props)\n",
    "\n",
    "ax1.set_ylabel(\"VAOD\")\n",
    "ax1.set_xlabel(\"mjd\")\n",
    "ax1.set_title(\"Fit Aerosol VAOD with Gaussian process\")\n",
    "\n",
    "ax2.plot(x,y,'-',color=\"k\",linestyle=\"dashed\", label=\"M2 Measurements\")\n",
    "ax2.plot(x_test,mean_y_pred,color=\"tab:green\", lw=3 ,alpha=1.0, label=\"Gaussian process\")\n",
    "ax2.fill_between(\n",
    "    X_test.ravel(),\n",
    "    mean_y_pred - std_y_pred,\n",
    "    mean_y_pred + std_y_pred,\n",
    "    color=\"tab:green\",\n",
    "    alpha=0.2,\n",
    ")\n",
    "ax2.legend()\n",
    "\n",
    "ax2.set_ylabel(\"VAOD\")\n",
    "ax2.set_xlabel(\"mjd\")\n",
    "ax2.set_title(\"Time-Zoom on Fit VAOD with Gaussian process\")\n",
    "ax2.set_xlim(mjd_zoom_start,mjd_zoom_stop)\n",
    "ax2.text(0.1, 0.95, txtstr_kernel, transform=ax2.transAxes, fontsize=12,verticalalignment='top', bbox=props)\n",
    "\n",
    "\n",
    "\n",
    "figname =f\"{pathfigs}/aervaod_fitgp_merra2\"+figtype\n",
    "fig.savefig(figname)\n",
    "plt.show()\n"
   ]
  },
  {
   "cell_type": "markdown",
   "id": "e7a7c04e-c47c-41de-9cdf-1d7e7ee2b627",
   "metadata": {},
   "source": [
    "### Residuals on the whole statistics"
   ]
  },
  {
   "cell_type": "code",
   "execution_count": null,
   "id": "6e729d0d-89c8-49be-8c07-f9edff93e869",
   "metadata": {},
   "outputs": [],
   "source": [
    "mean_yfull_pred, std_yfull_pred = gaussian_process.predict(X_full, return_std=True)\n",
    "mean_yfull_pred += y_mean"
   ]
  },
  {
   "cell_type": "code",
   "execution_count": null,
   "id": "01aa5f65-c798-43eb-be72-043e2f031443",
   "metadata": {},
   "outputs": [],
   "source": [
    "residuals = y_full -  mean_yfull_pred"
   ]
  },
  {
   "cell_type": "code",
   "execution_count": null,
   "id": "f1942df7-9c9b-4d52-a0ae-56c50dd650a7",
   "metadata": {},
   "outputs": [],
   "source": [
    "stat_mean = np.mean(residuals)\n",
    "stat_med = np.median(residuals)\n",
    "stat_std = np.std(residuals)"
   ]
  },
  {
   "cell_type": "code",
   "execution_count": null,
   "id": "d1ecfed4-d3e5-48ee-aed4-fdacbb9c8181",
   "metadata": {},
   "outputs": [],
   "source": [
    "txtstr_stat = [f\"mean = {stat_mean:.2f}\", f\"median = {stat_med:.2f}\",f\"std = {stat_std:.2f}\"]\n",
    "txtstr_stat = \"\\n\".join(txtstr_stat)"
   ]
  },
  {
   "cell_type": "code",
   "execution_count": null,
   "id": "39c79bbe-e2db-459d-8668-b370647572f4",
   "metadata": {},
   "outputs": [],
   "source": [
    "fig = plt.figure(figsize=(12,6),layout=\"constrained\")\n",
    "gs = GridSpec(2, 1,figure=fig)\n",
    "#gs = GridSpec(1, 1,figure=fig)\n",
    "ax1 = fig.add_subplot(gs[0])\n",
    "ax2 = fig.add_subplot(gs[1])\n",
    "ax1.plot(x_full,y_full,'-',color=\"k\",linestyle=\"dashed\", label=\"M2 Measurements\")\n",
    "ax1.plot(x_full,mean_yfull_pred,color=\"tab:green\", lw=3 ,alpha=1.0, label=\"Gaussian process\")\n",
    "ax1.fill_between(\n",
    "    X_full.ravel(),\n",
    "    mean_yfull_pred - std_yfull_pred,\n",
    "    mean_yfull_pred + std_yfull_pred,\n",
    "    color=\"tab:green\",\n",
    "    alpha=0.2,\n",
    ")\n",
    "ax1.legend()\n",
    "\n",
    "ax1.set_ylabel(\"VAOD\")\n",
    "ax1.set_xlabel(\"mjd\")\n",
    "ax1.set_title(\"Fit VAOD with Gaussian process\")\n",
    "ax1.text(0.1, 0.95, txtstr_kernel, transform=ax1.transAxes, fontsize=12,verticalalignment='top', bbox=props)\n",
    "\n",
    "\n",
    "ax2.plot(x_full,residuals,'-',color=\"k\",linestyle=\"solid\", label=\"Residuals\")\n",
    "ax2.fill_between(\n",
    "    X_full.ravel(),\n",
    "    - std_yfull_pred,\n",
    "    std_yfull_pred,\n",
    "    color=\"tab:green\",\n",
    "    alpha=0.2,\n",
    ")\n",
    "ax2.legend()\n",
    "\n",
    "ax2.set_ylabel(\"VAOD residuals\")\n",
    "ax2.set_xlabel(\"mjd\")\n",
    "ax2.set_title(\"Residuals on Fit VAOD with Gaussian process\")\n",
    "ax2.axhline(0,color=\"tab:green\",linewidth=3)\n",
    "ax2.text(0.01, 0.95, txtstr_stat, transform=ax2.transAxes, fontsize=12,verticalalignment='top', bbox=props)\n",
    "\n",
    "\n",
    "figname =f\"{pathfigs}/vaod_fitgpresiduals_merra2\"+figtype\n",
    "fig.savefig(figname)\n",
    "plt.show()\n"
   ]
  },
  {
   "cell_type": "code",
   "execution_count": null,
   "id": "674f4284-9618-4ef1-8dbe-ab6169d287e2",
   "metadata": {},
   "outputs": [],
   "source": [
    "fig,ax = plt.subplots(1,1,figsize=(6,4),layout=\"constrained\")\n",
    "ax.hist(residuals,bins=50,facecolor=\"tab:green\")\n",
    "ax.set_title(\"Residuals to VAOD GP periodic model\")\n",
    "ax.text(0.45, 0.95, txtstr_stat, transform=ax.transAxes, fontsize=12,verticalalignment='top', bbox=props)\n",
    "ax.set_xlabel(\"$\\Delta$ VAOD\")\n",
    "figname =f\"{pathfigs}/vaodres_histdata_merra2\"+figtype\n",
    "fig.savefig(figname)\n",
    "plt.show()"
   ]
  },
  {
   "cell_type": "code",
   "execution_count": null,
   "id": "18e2f454-3562-4917-9012-add1b474a9c3",
   "metadata": {},
   "outputs": [],
   "source": [
    "fig,ax = plt.subplots(1,1,figsize=(12,4),layout=\"constrained\")\n",
    "fourier_analysis(x_full,residuals,ax=ax ,mode= \"logxliny\",\n",
    "                 title = \"VAOD periodic-GP fit residuals absolute  FFT\",\n",
    "                 xlabel=\"days\",\n",
    "                 ylabel=\"\",\n",
    "                 label=\"FFT residuals\")\n",
    "figname =f\"{pathfigs}/vaodres_FFTdata_merra2\"+figtype\n",
    "fig.savefig(figname)\n",
    "plt.show()"
   ]
  },
  {
   "cell_type": "markdown",
   "id": "928e2a09-c910-4d6b-a408-c43d6fc6177b",
   "metadata": {},
   "source": [
    "### Save data file"
   ]
  },
  {
   "cell_type": "code",
   "execution_count": null,
   "id": "d90ca34b-ea5b-462d-bf8b-00ab98f6618d",
   "metadata": {},
   "outputs": [],
   "source": [
    "df_out = pd.DataFrame({'mjd': x_full, \"res\" : residuals})\n",
    "datafilename = f\"{pathdata}/vaod_fitgpresiduals_merra2\"+datatype\n",
    "df_out.to_csv(datafilename)"
   ]
  },
  {
   "cell_type": "markdown",
   "id": "70e98d5e-523d-423b-8b16-808ca897107c",
   "metadata": {},
   "source": [
    "## Aerosol Angstrom"
   ]
  },
  {
   "cell_type": "code",
   "execution_count": null,
   "id": "bdbbe50f-56ca-4c7d-ae34-ea25d0e6b07d",
   "metadata": {},
   "outputs": [],
   "source": [
    "from matplotlib.dates import DateFormatter\n",
    "#date_form = DateFormatter(\"%y-%m-%dT%H:%M\")\n",
    "date_form = DateFormatter(\"%y-%m\")\n",
    "\n",
    "fig = plt.figure(figsize=(12,6))\n",
    "gs = GridSpec(2, 1,figure=fig)\n",
    "\n",
    "ax1 = fig.add_subplot(gs[0])\n",
    "ax2 = fig.add_subplot(gs[1])\n",
    "        \n",
    "leg1=ax1.get_legend()\n",
    "leg2=ax2.get_legend()\n",
    "\n",
    "\n",
    "ax1.plot(pd.to_datetime(df_mb.Time.values), df_mb.TOTANGSTR.values,c=\"purple\",lw=0.5,label=\"Merra2\")\n",
    "ax1.set_xlabel(\"time\")\n",
    "ax1.xaxis.set_major_formatter(date_form)\n",
    "ax1.set_title(\"VAOD_Angstrom from Merra2\")\n",
    "ax1.legend()\n",
    "ax1.set_ylabel(\"VAOD_Angstrom\")\n",
    "#ax.set_xlim(TMIN,TMAX)\n",
    "data = df_mb.TOTANGSTR.values\n",
    "mean = np.mean(data)\n",
    "median = np.median(data)\n",
    "std = np.std(data)\n",
    "textstr = \"\\n\".join((f\"Expected max-range for VAOD-Angstrom : \",\n",
    "                     f\"- average : {mean:.3f}\",\n",
    "                     f\"- median : {median:.3f}\",\n",
    "                     f\"- sigma : {std:.3f}\",     \n",
    "                    ))\n",
    "ax1.text(0.05, 0.95, textstr, transform=ax1.transAxes, fontsize=14,verticalalignment='top', bbox=props)\n",
    "\n",
    "\n",
    "ax2.plot(df_mb.mjd, df_mb.TOTANGSTR.values,c=\"purple\",lw=0.5,label=\"Merra2\")\n",
    "ax2.set_xlabel(\"time (MJD)\")\n",
    "ax2.legend()\n",
    "ax2.set_ylabel(\"VAOD\")\n",
    "\n",
    "\n",
    "\n",
    "figname =f\"{pathfigs}/vaodangstrom_allpoints_merra2\"+figtype\n",
    "fig.savefig(figname)\n",
    "plt.show()"
   ]
  },
  {
   "cell_type": "markdown",
   "id": "df1f80a5-6a94-46ec-b28b-0a9b49c503be",
   "metadata": {},
   "source": [
    "### Define kernels"
   ]
  },
  {
   "cell_type": "code",
   "execution_count": null,
   "id": "b9b3183a-ff9a-419c-9f97-f762cc25648b",
   "metadata": {},
   "outputs": [],
   "source": [
    "# Tendance long terme\n",
    "long_term_trend_kernel = ConstantKernel(3, (0., 4.0)) * RBF(length_scale=YEAR)\n",
    "\n",
    "periodic_1year_kernel =  ConstantKernel(0.1, (0, 4.)) * ExpSineSquared(length_scale= 10*YEAR, periodicity= YEAR,\n",
    "                                                                           length_scale_bounds=\"fixed\",periodicity_bounds=\"fixed\")\n",
    "periodic_6months_kernel = ConstantKernel(0.1, (0, 4.)) * ExpSineSquared(length_scale= 20*MONTHS6,periodicity=MONTHS6,\n",
    "                                                                            length_scale_bounds=\"fixed\",periodicity_bounds=\"fixed\") \n",
    "periodic_3months_kernel = ConstantKernel(0.1, (0, 4.)) * ExpSineSquared(length_scale= 40*QUARTER, periodicity=QUARTER,\n",
    "                                                                            length_scale_bounds=\"fixed\",periodicity_bounds=\"fixed\")\n",
    "periodic_4months_kernel = ConstantKernel(0.1, (0, 4.)) * ExpSineSquared(length_scale= 30*MONTHS4, periodicity=MONTHS4,\n",
    "                                                                            length_scale_bounds=\"fixed\",periodicity_bounds=\"fixed\")\n",
    "\n",
    "periodic_1months_kernel = ConstantKernel(0.1, (0, 4.)) * ExpSineSquared(length_scale= 4+12*MONTH, periodicity=MONTH,\n",
    "                                                                            length_scale_bounds=\"fixed\",periodicity_bounds=\"fixed\")\n",
    "\n",
    "seasonal_enveloppe = RBF(length_scale=YEAR, length_scale_bounds=(0.5*YEAR, 5*YEAR))\n",
    "\n",
    "# Saisonnalité multi-échelle\n",
    "seasonal_kernel = (\n",
    "    #seasonal_enveloppe * ( periodic_1year_kernel + periodic_6months_kernel + periodic_3months_kernel)\n",
    "    #seasonal_enveloppe * ( periodic_1year_kernel )\n",
    "    periodic_1year_kernel + periodic_6months_kernel  +  periodic_4months_kernel +periodic_3months_kernel + periodic_1months_kernel\n",
    ")\n",
    "\n",
    "\n",
    "# Petites fluctuations irrégulières\n",
    "irregularities_kernel = ConstantKernel(0.1, (0, 5.0)) * RationalQuadratic(length_scale=MONTH, alpha=1.0)\n",
    "\n",
    "# Bruit et variations locales\n",
    "#noise_kernel = ConstantKernel(1.0, (0., 10.0)) * RBF(length_scale=1.0) + WhiteKernel(noise_level=1.0**2)\n",
    "noise_kernel =  ConstantKernel(0.1, (0, 5.0))  * RBF(length_scale=1.0) \n",
    "\n",
    "# Kernel total\n",
    "#full_kernel = long_term_trend_kernel + seasonal_kernel + irregularities_kernel + noise_kernel\n",
    "full_kernel = seasonal_kernel \n"
   ]
  },
  {
   "cell_type": "code",
   "execution_count": null,
   "id": "13b8a0a3-01b5-48c9-bb21-2bcf752517c3",
   "metadata": {},
   "outputs": [],
   "source": [
    "full_kernel = GetAngstromPeriodicKernel_merra2()"
   ]
  },
  {
   "cell_type": "code",
   "execution_count": null,
   "id": "c01c5914-9d2d-49fa-bb0f-809dbf542ad8",
   "metadata": {
    "tags": []
   },
   "outputs": [],
   "source": [
    "angstrom_kernel = full_kernel"
   ]
  },
  {
   "cell_type": "markdown",
   "id": "3079aae5-469b-4c4d-9db7-489eb01c7ddc",
   "metadata": {},
   "source": [
    "### Full sample"
   ]
  },
  {
   "cell_type": "code",
   "execution_count": null,
   "id": "ef82403f-a590-4c85-89c4-2fc5a5f088f6",
   "metadata": {},
   "outputs": [],
   "source": [
    "# all values without sampling\n",
    "x_full = df_mb.mjd.values\n",
    "X_full = x_full.reshape(-1, 1)\n",
    "y_full =  df_mb.TOTANGSTR.values"
   ]
  },
  {
   "cell_type": "markdown",
   "id": "48651edb-4475-45b7-aa31-8a96a15b314f",
   "metadata": {},
   "source": [
    "### FFT over full sample"
   ]
  },
  {
   "cell_type": "code",
   "execution_count": null,
   "id": "1db50edd-9dd9-493f-b6a5-6e905eac6dd8",
   "metadata": {},
   "outputs": [],
   "source": [
    "fig,ax = plt.subplots(1,1,figsize=(12,4),layout=\"constrained\")\n",
    "fourier_analysis(x_full,y_full,ax=ax ,mode= \"logxliny\",\n",
    "                 title = \"Aerosol-Angstrom : absolute  FFT (full sample)\",\n",
    "                 xlabel=\"days\",\n",
    "                 ylabel=\"\",\n",
    "                 label=\"FFT\")\n",
    "figname =f\"{pathfigs}/angstrom_FFTdata_merra2\"+figtype\n",
    "fig.savefig(figname)\n",
    "plt.show()"
   ]
  },
  {
   "cell_type": "markdown",
   "id": "79fef7cb-8465-456a-a3d8-bc0b3746ffb6",
   "metadata": {},
   "source": [
    "### subsample"
   ]
  },
  {
   "cell_type": "code",
   "execution_count": null,
   "id": "e0fae561-a615-41d3-a585-c4b911c36cd4",
   "metadata": {},
   "outputs": [],
   "source": [
    "x = df_mb.mjd.values[index_selected]\n",
    "X = x.reshape(-1, 1)\n",
    "y = df_mb.TOTANGSTR.values[index_selected]\n",
    "y_mean = 0."
   ]
  },
  {
   "cell_type": "markdown",
   "id": "091d3306-aaa1-42d5-8aed-8594d4d83d42",
   "metadata": {},
   "source": [
    "### Fit the gaussian process model"
   ]
  },
  {
   "cell_type": "code",
   "execution_count": null,
   "id": "57499637-edec-44d9-bb72-6068b655beb4",
   "metadata": {
    "tags": []
   },
   "outputs": [],
   "source": [
    "gaussian_process = GaussianProcessRegressor(kernel=angstrom_kernel, normalize_y= True)\n",
    "gaussian_process.fit(X, y - y_mean)"
   ]
  },
  {
   "cell_type": "code",
   "execution_count": null,
   "id": "5a7681c3-3d37-4b4b-b10a-d3933f28567a",
   "metadata": {},
   "outputs": [],
   "source": [
    "txtstr_kernel = f\"{gaussian_process.kernel_}\"\n",
    "txtstr_kernel = \"\\n + \".join(txtstr_kernel.split(\"+ \"))"
   ]
  },
  {
   "cell_type": "markdown",
   "id": "e33a8c68-b9d1-48ed-aa7d-f7bbff483dbe",
   "metadata": {},
   "source": [
    "### Save parameters"
   ]
  },
  {
   "cell_type": "code",
   "execution_count": null,
   "id": "f01c5ebc-8016-42d1-86e4-092c624401ba",
   "metadata": {},
   "outputs": [],
   "source": [
    "# save\n",
    "\n",
    "gpparams_model_filename = 'model_gpperiodic_angstrom_wthnorm.pkl'\n",
    "gpparams_model_fullfilename = os.path.join(pathdata,gpparams_model_filename)\n",
    "\n",
    "with open(gpparams_model_fullfilename,'wb') as f:\n",
    "    pickle.dump(gaussian_process,f)\n"
   ]
  },
  {
   "cell_type": "code",
   "execution_count": null,
   "id": "45459ab1-4800-461f-912e-085a9ad37302",
   "metadata": {},
   "outputs": [],
   "source": [
    "# load\n",
    "with open(gpparams_model_fullfilename, 'rb') as f:\n",
    "    gp_regressor = pickle.load(f)\n",
    "    print(gp_regressor)"
   ]
  },
  {
   "cell_type": "code",
   "execution_count": null,
   "id": "2ae510ba-890f-4b18-a801-ec181ff6f926",
   "metadata": {},
   "outputs": [],
   "source": [
    "fig,ax = plt.subplots(1,1,figsize=(5,5))\n",
    "ax.imshow(gp_regressor.kernel(X),origin=\"lower\",cmap=\"rainbow\")\n",
    "plt.show()"
   ]
  },
  {
   "cell_type": "markdown",
   "id": "7ebef1b7-9631-4930-a736-afaf854a7af3",
   "metadata": {},
   "source": [
    "### Prediction"
   ]
  },
  {
   "cell_type": "code",
   "execution_count": null,
   "id": "d0ef28be-7595-439f-9b4e-60266849642f",
   "metadata": {
    "tags": []
   },
   "outputs": [],
   "source": [
    "x_test = np.arange(start=mjd_min_b, stop=mjd_max_b,step=2)\n",
    "X_test = x_test.reshape(-1,1)\n",
    "mean_y_pred, std_y_pred = gaussian_process.predict(X_test, return_std=True)\n",
    "mean_y_pred += y_mean"
   ]
  },
  {
   "cell_type": "code",
   "execution_count": null,
   "id": "27b4eef1-a8d5-4ad9-bd57-dc877ebaea61",
   "metadata": {
    "tags": []
   },
   "outputs": [],
   "source": [
    "fig = plt.figure(figsize=(12,6),layout=\"constrained\")\n",
    "gs = GridSpec(2, 1,figure=fig)\n",
    "#gs = GridSpec(1, 1,figure=fig)\n",
    "ax1 = fig.add_subplot(gs[0])\n",
    "ax2 = fig.add_subplot(gs[1])\n",
    "ax1.plot(x,y,'-',color=\"k\",linestyle=\"dashed\", label=\"M2 Measurements\")\n",
    "ax1.plot(x_test,mean_y_pred,color=\"tab:purple\",lw=3 ,alpha=1.0, label=\"Gaussian process\")\n",
    "ax1.fill_between(\n",
    "    X_test.ravel(),\n",
    "    mean_y_pred - std_y_pred,\n",
    "    mean_y_pred + std_y_pred,\n",
    "    color=\"tab:purple\",\n",
    "    alpha=0.2,\n",
    ")\n",
    "ax1.legend()\n",
    "\n",
    "ax1.set_ylabel(\"Angstrom\")\n",
    "ax1.set_xlabel(\"mjd\")\n",
    "ax1.set_title(\"Fit Aerosol Angstrom exponent with Gaussian process\")\n",
    "ax1.text(0.1, 0.95, txtstr_kernel, transform=ax1.transAxes, fontsize=12,verticalalignment='top', bbox=props)\n",
    "\n",
    "ax2.plot(x,y,'-',color=\"k\",linestyle=\"dashed\", label=\"M2 Measurements\")\n",
    "ax2.plot(x_test,mean_y_pred,color=\"tab:purple\", lw=3, alpha=1.0, label=\"Gaussian process\")\n",
    "ax2.fill_between(\n",
    "    X_test.ravel(),\n",
    "    mean_y_pred - std_y_pred,\n",
    "    mean_y_pred + std_y_pred,\n",
    "    color=\"tab:purple\",\n",
    "    alpha=0.2,\n",
    ")\n",
    "ax2.legend()\n",
    "\n",
    "\n",
    "ax2.set_ylabel(\"Angstrom\")\n",
    "ax2.set_xlabel(\"mjd\")\n",
    "ax2.set_title(\"Time-Zoom on Angstrom exponent with Gaussian process\")\n",
    "ax2.set_xlim(mjd_zoom_start,mjd_zoom_stop)\n",
    "ax2.text(0.1, 0.95, txtstr_kernel, transform=ax2.transAxes, fontsize=12,verticalalignment='top', bbox=props)\n",
    "\n",
    "\n",
    "figname =f\"{pathfigs}/aerangstrom_fitgp_merra2\"+figtype\n",
    "fig.savefig(figname)\n",
    "plt.show()\n"
   ]
  },
  {
   "cell_type": "markdown",
   "id": "3a76af3d-d256-44e4-b1eb-fc6438a58a92",
   "metadata": {},
   "source": [
    "### Residuals on the whole statistics"
   ]
  },
  {
   "cell_type": "code",
   "execution_count": null,
   "id": "a26c4534-0a73-4be5-815c-c014f237951c",
   "metadata": {},
   "outputs": [],
   "source": [
    "mean_yfull_pred, std_yfull_pred = gaussian_process.predict(X_full, return_std=True)\n",
    "mean_yfull_pred += y_mean"
   ]
  },
  {
   "cell_type": "code",
   "execution_count": null,
   "id": "0d7ae45c-b7a5-4d3d-b366-1408cdaf025d",
   "metadata": {},
   "outputs": [],
   "source": [
    "residuals = y_full -  mean_yfull_pred"
   ]
  },
  {
   "cell_type": "code",
   "execution_count": null,
   "id": "394d41dd-d38f-4c0b-855d-d9c1fbd4596f",
   "metadata": {},
   "outputs": [],
   "source": [
    "stat_mean = np.mean(residuals)\n",
    "stat_med = np.median(residuals)\n",
    "stat_std = np.std(residuals)"
   ]
  },
  {
   "cell_type": "code",
   "execution_count": null,
   "id": "5595dfc7-68b1-4320-ba31-b9a19e558298",
   "metadata": {},
   "outputs": [],
   "source": [
    "txtstr_stat = [f\"mean = {stat_mean:.2f}\", f\"median = {stat_med:.2f}\",f\"std = {stat_std:.2f}\"]\n",
    "txtstr_stat = \"\\n\".join(txtstr_stat)"
   ]
  },
  {
   "cell_type": "code",
   "execution_count": null,
   "id": "4463cd5b-f15d-41e8-86ed-aa72fe5a5a6d",
   "metadata": {},
   "outputs": [],
   "source": [
    "fig = plt.figure(figsize=(12,6),layout=\"constrained\")\n",
    "gs = GridSpec(2, 1,figure=fig)\n",
    "#gs = GridSpec(1, 1,figure=fig)\n",
    "ax1 = fig.add_subplot(gs[0])\n",
    "ax2 = fig.add_subplot(gs[1],sharey=ax1)\n",
    "ax1.plot(x_full,y_full,'-',color=\"k\",linestyle=\"dashed\", label=\"M2 Measurements\")\n",
    "ax1.plot(x_full,mean_yfull_pred,color=\"tab:purple\", lw=3 ,alpha=1.0, label=\"Gaussian process\")\n",
    "ax1.fill_between(\n",
    "    X_full.ravel(),\n",
    "    mean_yfull_pred - std_yfull_pred,\n",
    "    mean_yfull_pred + std_yfull_pred,\n",
    "    color=\"tab:purple\",\n",
    "    alpha=0.2,\n",
    ")\n",
    "ax1.legend()\n",
    "\n",
    "ax1.set_ylabel(\"Angstrom exponent\")\n",
    "ax1.set_xlabel(\"mjd\")\n",
    "ax1.set_title(\"Fit Angstrom with Gaussian process\")\n",
    "ax1.text(0.3, 0.5, txtstr_kernel, transform=ax1.transAxes, fontsize=12,verticalalignment='top', bbox=props)\n",
    "\n",
    "\n",
    "ax2.plot(x_full,residuals,'-',color=\"k\",linestyle=\"solid\", label=\"Residuals\")\n",
    "ax2.fill_between(\n",
    "    X_full.ravel(),\n",
    "    - std_yfull_pred,\n",
    "    std_yfull_pred,\n",
    "    color=\"tab:purple\",\n",
    "    alpha=0.2,\n",
    ")\n",
    "ax2.legend()\n",
    "\n",
    "ax2.set_ylabel(\"Angstrom residuals\")\n",
    "ax2.set_xlabel(\"mjd\")\n",
    "ax2.set_title(\"Residuals on Fit Angstrom exponent with Gaussian process\")\n",
    "ax2.axhline(0,color=\"tab:purple\",linewidth=3)\n",
    "ax2.text(0.01, 0.95, txtstr_stat, transform=ax2.transAxes, fontsize=12,verticalalignment='top', bbox=props)\n",
    "\n",
    "\n",
    "figname =f\"{pathfigs}/angstrom_fitgpresiduals_merra2\"+figtype\n",
    "fig.savefig(figname)\n",
    "plt.show()\n"
   ]
  },
  {
   "cell_type": "code",
   "execution_count": null,
   "id": "bc6d577f-2cf4-4746-833a-9871e6159b64",
   "metadata": {},
   "outputs": [],
   "source": [
    "fig,ax = plt.subplots(1,1,figsize=(6,4),layout=\"constrained\")\n",
    "ax.hist(residuals,bins=50,facecolor=\"tab:purple\")\n",
    "ax.set_title(\"Residuals to Angstrol GP periodic model\")\n",
    "ax.text(0.45, 0.95, txtstr_stat, transform=ax.transAxes, fontsize=12,verticalalignment='top', bbox=props)\n",
    "ax.set_xlabel(\"$\\Delta$ Angstrom\")\n",
    "figname =f\"{pathfigs}/angstromres_histdata_merra2\"+figtype\n",
    "fig.savefig(figname)\n",
    "plt.show()"
   ]
  },
  {
   "cell_type": "code",
   "execution_count": null,
   "id": "4cedfaea-71c3-4639-b3ad-7ec95950d65f",
   "metadata": {},
   "outputs": [],
   "source": [
    "fig,ax = plt.subplots(1,1,figsize=(12,4),layout=\"constrained\")\n",
    "fourier_analysis(x_full,residuals,ax=ax ,mode= \"logxliny\",\n",
    "                 title = \"Angstrom periodic-GP fit residuals absolute  FFT\",\n",
    "                 xlabel=\"days\",\n",
    "                 ylabel=\"\",\n",
    "                 label=\"FFT residuals\")\n",
    "figname =f\"{pathfigs}/angstromres_FFTdata_merra2\"+figtype\n",
    "fig.savefig(figname)\n",
    "plt.show()"
   ]
  },
  {
   "cell_type": "markdown",
   "id": "74379716-9002-48f3-9ce7-8b26ec559a9a",
   "metadata": {},
   "source": [
    "### save datafile"
   ]
  },
  {
   "cell_type": "code",
   "execution_count": null,
   "id": "e413d844-e1f3-47c5-a11e-2416dab4ca55",
   "metadata": {},
   "outputs": [],
   "source": [
    "df_out = pd.DataFrame({'mjd': x_full, \"res\" : residuals})\n",
    "datafilename = f\"{pathdata}/angstrom_fitgpresiduals_merra2\"+datatype\n",
    "df_out.to_csv(datafilename)"
   ]
  }
 ],
 "metadata": {
  "kernelspec": {
   "display_name": "conda_py311",
   "language": "python",
   "name": "conda_py311"
  },
  "language_info": {
   "codemirror_mode": {
    "name": "ipython",
    "version": 3
   },
   "file_extension": ".py",
   "mimetype": "text/x-python",
   "name": "python",
   "nbconvert_exporter": "python",
   "pygments_lexer": "ipython3",
   "version": "3.11.11"
  }
 },
 "nbformat": 4,
 "nbformat_minor": 5
}
