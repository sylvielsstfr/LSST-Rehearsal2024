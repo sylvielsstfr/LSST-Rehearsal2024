{
 "cells": [
  {
   "cell_type": "markdown",
   "id": "45bf4242-bfc5-4d43-88c4-a8059ae148df",
   "metadata": {},
   "source": [
    "# FFT decomposition Atmosphere time sequences from Merra2"
   ]
  },
  {
   "cell_type": "markdown",
   "id": "01993b6e-6438-4fca-a5d5-1f9791336847",
   "metadata": {},
   "source": [
    "- author Sylvie Dagoret-Campagne\n",
    "- affiliation : IJCLab\n",
    "- creation date 2025-10-20 :\n",
    "- last update : 2025-03-03\n",
    "- Kernel @usdf **w_2024_50*\n",
    "- Office emac : mamba_py311\n",
    "- Home emac : base (conda)\n",
    "- laptop : conda_py311"
   ]
  },
  {
   "cell_type": "markdown",
   "id": "0219159d-6865-4311-ac1d-99d11dad223f",
   "metadata": {},
   "source": [
    "**Goal** : Fit the variation of Merra2 parameter impact the transmission\n",
    "\n",
    "- CO2 fit : https://scikit-learn.org/stable/auto_examples/gaussian_process/plot_gpr_co2.html#sphx-glr-auto-examples-gaussian-process-plot-gpr-co2-py\n",
    "\n",
    "- Kernels : https://scikit-learn.org/stable/modules/gaussian_process.html#gp-kernels"
   ]
  },
  {
   "cell_type": "code",
   "execution_count": null,
   "id": "63a2b2ef-0bc2-45eb-91d9-87835d264751",
   "metadata": {
    "execution": {
     "iopub.execute_input": "2025-03-03T15:23:27.241090Z",
     "iopub.status.busy": "2025-03-03T15:23:27.240967Z",
     "iopub.status.idle": "2025-03-03T15:23:27.243135Z",
     "shell.execute_reply": "2025-03-03T15:23:27.242852Z",
     "shell.execute_reply.started": "2025-03-03T15:23:27.241077Z"
    },
    "tags": []
   },
   "outputs": [],
   "source": [
    "from platform import python_version\n",
    "print(python_version())"
   ]
  },
  {
   "cell_type": "code",
   "execution_count": null,
   "id": "dcc53afe-c58f-4948-92c9-0090d373ad2a",
   "metadata": {
    "execution": {
     "iopub.execute_input": "2025-03-03T15:23:27.243674Z",
     "iopub.status.busy": "2025-03-03T15:23:27.243542Z",
     "iopub.status.idle": "2025-03-03T15:23:27.253047Z",
     "shell.execute_reply": "2025-03-03T15:23:27.252757Z",
     "shell.execute_reply.started": "2025-03-03T15:23:27.243661Z"
    }
   },
   "outputs": [],
   "source": [
    "import warnings\n",
    "warnings.resetwarnings()\n",
    "warnings.simplefilter('ignore')"
   ]
  },
  {
   "cell_type": "code",
   "execution_count": null,
   "id": "8026d265-2493-4045-afec-26205ff71f7c",
   "metadata": {
    "execution": {
     "iopub.execute_input": "2025-03-03T15:23:27.253480Z",
     "iopub.status.busy": "2025-03-03T15:23:27.253363Z",
     "iopub.status.idle": "2025-03-03T15:23:27.259335Z",
     "shell.execute_reply": "2025-03-03T15:23:27.259058Z",
     "shell.execute_reply.started": "2025-03-03T15:23:27.253468Z"
    },
    "tags": []
   },
   "outputs": [],
   "source": [
    "from platform import python_version\n",
    "print(python_version())"
   ]
  },
  {
   "cell_type": "code",
   "execution_count": null,
   "id": "eb1f116e-80e3-46ad-a7db-7f253632e5ca",
   "metadata": {
    "execution": {
     "iopub.execute_input": "2025-03-03T15:23:27.260497Z",
     "iopub.status.busy": "2025-03-03T15:23:27.260349Z",
     "iopub.status.idle": "2025-03-03T15:23:27.265388Z",
     "shell.execute_reply": "2025-03-03T15:23:27.265113Z",
     "shell.execute_reply.started": "2025-03-03T15:23:27.260484Z"
    }
   },
   "outputs": [],
   "source": [
    "import os"
   ]
  },
  {
   "cell_type": "code",
   "execution_count": null,
   "id": "3ec760cd-3d3f-4a34-a6f6-b226fe500951",
   "metadata": {
    "execution": {
     "iopub.execute_input": "2025-03-03T15:23:27.265845Z",
     "iopub.status.busy": "2025-03-03T15:23:27.265723Z",
     "iopub.status.idle": "2025-03-03T15:23:27.271683Z",
     "shell.execute_reply": "2025-03-03T15:23:27.271398Z",
     "shell.execute_reply.started": "2025-03-03T15:23:27.265833Z"
    }
   },
   "outputs": [],
   "source": [
    "# where are stored the figures\n",
    "pathfigs = \"figsFFTAtmosphereFomMerra2\"\n",
    "if not os.path.exists(pathfigs):\n",
    "    os.makedirs(pathfigs)\n",
    "figtype = \".png\""
   ]
  },
  {
   "cell_type": "code",
   "execution_count": null,
   "id": "bf752b70-e6ca-4cbf-8e8c-20bf7f0d8f61",
   "metadata": {
    "execution": {
     "iopub.execute_input": "2025-03-03T15:23:27.272139Z",
     "iopub.status.busy": "2025-03-03T15:23:27.272021Z",
     "iopub.status.idle": "2025-03-03T15:23:28.393340Z",
     "shell.execute_reply": "2025-03-03T15:23:28.392917Z",
     "shell.execute_reply.started": "2025-03-03T15:23:27.272127Z"
    }
   },
   "outputs": [],
   "source": [
    "import numpy as np\n",
    "from numpy.linalg import inv\n",
    "import matplotlib as mpl\n",
    "import matplotlib.pyplot as plt\n",
    "%matplotlib inline\n",
    "from mpl_toolkits.axes_grid1 import make_axes_locatable\n",
    "from matplotlib.colors import LogNorm,SymLogNorm\n",
    "from matplotlib.patches import Circle,Annulus\n",
    "from astropy.visualization import ZScaleInterval\n",
    "props = dict(boxstyle='round', facecolor=\"white\", alpha=0.1)\n",
    "#props = dict(boxstyle='round')\n",
    "\n",
    "import matplotlib.colors as colors\n",
    "import matplotlib.cm as cmx\n",
    "\n",
    "import matplotlib.ticker                         # here's where the formatter is\n",
    "from matplotlib.ticker import (MultipleLocator, FormatStrFormatter,\n",
    "                               AutoMinorLocator)\n",
    "\n",
    "from matplotlib.gridspec import GridSpec\n",
    "\n",
    "from astropy.visualization import (MinMaxInterval, SqrtStretch,ZScaleInterval,PercentileInterval,\n",
    "                                   ImageNormalize,imshow_norm)\n",
    "from astropy.visualization.stretch import SinhStretch, LinearStretch,AsinhStretch,LogStretch\n",
    "\n",
    "from astropy.io import fits\n",
    "from astropy.wcs import WCS\n",
    "from astropy import units as u\n",
    "from astropy import constants as c\n",
    "\n",
    "from astropy.coordinates.earth import EarthLocation\n",
    "from datetime import datetime\n",
    "from pytz import timezone\n",
    "\n",
    "from scipy import interpolate\n",
    "from sklearn.neighbors import NearestNeighbors\n",
    "from sklearn.neighbors import KDTree, BallTree\n",
    "\n",
    "import pandas as pd\n",
    "pd.set_option(\"display.max_columns\", None)\n",
    "pd.set_option('display.max_rows', 100)\n",
    "\n",
    "import matplotlib.ticker                         # here's where the formatter is\n",
    "import os\n",
    "import re\n",
    "import pandas as pd\n",
    "import pickle\n",
    "from collections import OrderedDict\n",
    "\n",
    "plt.rcParams[\"figure.figsize\"] = (4,3)\n",
    "plt.rcParams[\"axes.labelsize\"] = 'xx-large'\n",
    "plt.rcParams['axes.titlesize'] = 'xx-large'\n",
    "plt.rcParams['xtick.labelsize']= 'xx-large'\n",
    "plt.rcParams['ytick.labelsize']= 'xx-large'\n",
    "\n",
    "import scipy\n",
    "from scipy.optimize import curve_fit,least_squares"
   ]
  },
  {
   "cell_type": "code",
   "execution_count": null,
   "id": "f7644ca1-08b3-4882-86c0-c02540d63cd4",
   "metadata": {
    "execution": {
     "iopub.execute_input": "2025-03-03T15:23:28.394052Z",
     "iopub.status.busy": "2025-03-03T15:23:28.393788Z",
     "iopub.status.idle": "2025-03-03T15:23:28.396267Z",
     "shell.execute_reply": "2025-03-03T15:23:28.395914Z",
     "shell.execute_reply.started": "2025-03-03T15:23:28.394038Z"
    }
   },
   "outputs": [],
   "source": [
    "props = dict(boxstyle='round', facecolor='white', alpha=0.5)"
   ]
  },
  {
   "cell_type": "code",
   "execution_count": null,
   "id": "ad1b1943-5173-40b8-8ac8-442e6ecc47d0",
   "metadata": {
    "execution": {
     "iopub.execute_input": "2025-03-03T15:23:28.396854Z",
     "iopub.status.busy": "2025-03-03T15:23:28.396690Z",
     "iopub.status.idle": "2025-03-03T15:23:28.692836Z",
     "shell.execute_reply": "2025-03-03T15:23:28.692404Z",
     "shell.execute_reply.started": "2025-03-03T15:23:28.396840Z"
    }
   },
   "outputs": [],
   "source": [
    "from astropy.modeling import models"
   ]
  },
  {
   "cell_type": "code",
   "execution_count": null,
   "id": "46fe722f-bb23-4c29-8efb-4c096c72eec9",
   "metadata": {
    "execution": {
     "iopub.execute_input": "2025-03-03T15:23:28.693590Z",
     "iopub.status.busy": "2025-03-03T15:23:28.693323Z",
     "iopub.status.idle": "2025-03-03T15:23:28.695620Z",
     "shell.execute_reply": "2025-03-03T15:23:28.695273Z",
     "shell.execute_reply.started": "2025-03-03T15:23:28.693576Z"
    }
   },
   "outputs": [],
   "source": [
    "from numpy.random import lognormal"
   ]
  },
  {
   "cell_type": "code",
   "execution_count": null,
   "id": "0ca0d1e6-5f82-4c43-aaa3-8524fc2bc5ba",
   "metadata": {
    "execution": {
     "iopub.execute_input": "2025-03-03T15:23:28.696135Z",
     "iopub.status.busy": "2025-03-03T15:23:28.696016Z",
     "iopub.status.idle": "2025-03-03T15:23:28.709744Z",
     "shell.execute_reply": "2025-03-03T15:23:28.709347Z",
     "shell.execute_reply.started": "2025-03-03T15:23:28.696124Z"
    }
   },
   "outputs": [],
   "source": [
    "from matplotlib.ticker import (MultipleLocator, FormatStrFormatter,\n",
    "                               AutoMinorLocator)\n",
    "from astropy.visualization import (MinMaxInterval, SqrtStretch,ZScaleInterval,PercentileInterval,\n",
    "                                   ImageNormalize,imshow_norm)\n",
    "from astropy.visualization.stretch import SinhStretch, LinearStretch,AsinhStretch,LogStretch\n",
    "\n",
    "from astropy.time import Time\n",
    "from astropy.timeseries import TimeSeries"
   ]
  },
  {
   "cell_type": "code",
   "execution_count": null,
   "id": "e189816c-5048-43ab-a01a-7c078af54489",
   "metadata": {
    "execution": {
     "iopub.execute_input": "2025-03-03T15:23:28.710602Z",
     "iopub.status.busy": "2025-03-03T15:23:28.710198Z",
     "iopub.status.idle": "2025-03-03T15:23:28.712355Z",
     "shell.execute_reply": "2025-03-03T15:23:28.712009Z",
     "shell.execute_reply.started": "2025-03-03T15:23:28.710588Z"
    }
   },
   "outputs": [],
   "source": [
    "# Remove to run faster the notebook\n",
    "#import ipywidgets as widgets\n",
    "#%matplotlib widget"
   ]
  },
  {
   "cell_type": "code",
   "execution_count": null,
   "id": "67327fd4-e405-45ce-8923-cd46ebaa0c0f",
   "metadata": {
    "execution": {
     "iopub.execute_input": "2025-03-03T15:23:28.712847Z",
     "iopub.status.busy": "2025-03-03T15:23:28.712731Z",
     "iopub.status.idle": "2025-03-03T15:23:28.718273Z",
     "shell.execute_reply": "2025-03-03T15:23:28.717938Z",
     "shell.execute_reply.started": "2025-03-03T15:23:28.712836Z"
    },
    "tags": []
   },
   "outputs": [],
   "source": [
    "from importlib.metadata import version"
   ]
  },
  {
   "cell_type": "code",
   "execution_count": null,
   "id": "af8332dd-24f9-4b19-88f9-c62d0a4aebf1",
   "metadata": {
    "execution": {
     "iopub.execute_input": "2025-03-03T15:23:28.718800Z",
     "iopub.status.busy": "2025-03-03T15:23:28.718685Z",
     "iopub.status.idle": "2025-03-03T15:23:28.723930Z",
     "shell.execute_reply": "2025-03-03T15:23:28.723595Z",
     "shell.execute_reply.started": "2025-03-03T15:23:28.718788Z"
    },
    "tags": []
   },
   "outputs": [],
   "source": [
    "# wavelength bin colors\n",
    "#jet = plt.get_cmap('jet')\n",
    "#cNorm = mpl.colors.Normalize(vmin=0, vmax=NSED)\n",
    "#scalarMap = cmx.ScalarMappable(norm=cNorm, cmap=jet)\n",
    "#all_colors = scalarMap.to_rgba(np.arange(NSED), alpha=1)"
   ]
  },
  {
   "cell_type": "code",
   "execution_count": null,
   "id": "1003d9d6-a40f-48b1-9ffc-bfab9f45ba93",
   "metadata": {
    "execution": {
     "iopub.execute_input": "2025-03-03T15:23:28.724460Z",
     "iopub.status.busy": "2025-03-03T15:23:28.724342Z",
     "iopub.status.idle": "2025-03-03T15:23:28.730094Z",
     "shell.execute_reply": "2025-03-03T15:23:28.729531Z",
     "shell.execute_reply.started": "2025-03-03T15:23:28.724448Z"
    }
   },
   "outputs": [],
   "source": [
    "np.__version__"
   ]
  },
  {
   "cell_type": "code",
   "execution_count": null,
   "id": "c4cb2652-cb22-432e-b110-ae71d59dc793",
   "metadata": {
    "execution": {
     "iopub.execute_input": "2025-03-03T15:23:28.730779Z",
     "iopub.status.busy": "2025-03-03T15:23:28.730637Z",
     "iopub.status.idle": "2025-03-03T15:23:28.736270Z",
     "shell.execute_reply": "2025-03-03T15:23:28.735917Z",
     "shell.execute_reply.started": "2025-03-03T15:23:28.730765Z"
    }
   },
   "outputs": [],
   "source": [
    "pd.__version__"
   ]
  },
  {
   "cell_type": "code",
   "execution_count": null,
   "id": "27abb749-99c7-4cf2-a9f6-5dae740ebe88",
   "metadata": {
    "execution": {
     "iopub.execute_input": "2025-03-03T15:23:28.736802Z",
     "iopub.status.busy": "2025-03-03T15:23:28.736684Z",
     "iopub.status.idle": "2025-03-03T15:23:28.741264Z",
     "shell.execute_reply": "2025-03-03T15:23:28.740900Z",
     "shell.execute_reply.started": "2025-03-03T15:23:28.736789Z"
    }
   },
   "outputs": [],
   "source": [
    "from scipy.fftpack import fft, fftfreq"
   ]
  },
  {
   "cell_type": "code",
   "execution_count": null,
   "id": "ad03dc3d-6741-4478-82ba-1d5447529d9a",
   "metadata": {
    "execution": {
     "iopub.execute_input": "2025-03-03T15:23:28.741760Z",
     "iopub.status.busy": "2025-03-03T15:23:28.741647Z",
     "iopub.status.idle": "2025-03-03T15:23:28.747297Z",
     "shell.execute_reply": "2025-03-03T15:23:28.746961Z",
     "shell.execute_reply.started": "2025-03-03T15:23:28.741748Z"
    }
   },
   "outputs": [],
   "source": [
    "def convertNumToDatestr(num):\n",
    "    year = num//10_000\n",
    "    month= (num-year*10_000)//100\n",
    "    day = (num-year*10_000-month*100)\n",
    "\n",
    "    year_str = str(year).zfill(4)\n",
    "    month_str = str(month).zfill(2)\n",
    "    day_str = str(day).zfill(2)\n",
    "    \n",
    "    datestr = f\"{year_str}-{month_str}-{day_str}\"\n",
    "    return pd.to_datetime(datestr)"
   ]
  },
  {
   "cell_type": "code",
   "execution_count": null,
   "id": "b38653bf-649e-4bd5-a75a-ab8908dbe7e4",
   "metadata": {
    "execution": {
     "iopub.execute_input": "2025-03-03T15:23:28.747753Z",
     "iopub.status.busy": "2025-03-03T15:23:28.747640Z",
     "iopub.status.idle": "2025-03-03T15:23:28.753060Z",
     "shell.execute_reply": "2025-03-03T15:23:28.752735Z",
     "shell.execute_reply.started": "2025-03-03T15:23:28.747742Z"
    }
   },
   "outputs": [],
   "source": [
    "def pdf_lognormal(x,a0,mu,sigma):\n",
    "    \"\"\"\n",
    "    \"\"\"\n",
    "    pdf = a0*(np.exp(-(np.log(x) - mu)**2 / (2 * sigma**2))/ (x * sigma * np.sqrt(2 * np.pi)))\n",
    "    return pdf"
   ]
  },
  {
   "cell_type": "code",
   "execution_count": null,
   "id": "8a537aec-10d7-43c3-bb3f-170eee3e6960",
   "metadata": {
    "execution": {
     "iopub.execute_input": "2025-03-03T15:23:28.756467Z",
     "iopub.status.busy": "2025-03-03T15:23:28.756231Z",
     "iopub.status.idle": "2025-03-03T15:23:28.763540Z",
     "shell.execute_reply": "2025-03-03T15:23:28.763212Z",
     "shell.execute_reply.started": "2025-03-03T15:23:28.756454Z"
    }
   },
   "outputs": [],
   "source": [
    "FIGXSIZE_1 = 14\n",
    "FIGYSIZE_1 = 8\n",
    "\n",
    "FIGXSIZE_0 = 14\n",
    "FIGYSIZE_0 = 5"
   ]
  },
  {
   "cell_type": "code",
   "execution_count": null,
   "id": "5d4208db-6ca6-45ac-a947-90ee94f5326f",
   "metadata": {
    "execution": {
     "iopub.execute_input": "2025-03-03T15:23:28.764081Z",
     "iopub.status.busy": "2025-03-03T15:23:28.763962Z",
     "iopub.status.idle": "2025-03-03T15:23:28.775431Z",
     "shell.execute_reply": "2025-03-03T15:23:28.775101Z",
     "shell.execute_reply.started": "2025-03-03T15:23:28.764069Z"
    }
   },
   "outputs": [],
   "source": [
    "YEAR = 365.25\n",
    "MONTHS6 = YEAR/2.\n",
    "MONTHS4 = YEAR/3.\n",
    "QUARTER = YEAR/4. \n",
    "DAY = 1.\n",
    "MONTH = YEAR/12.\n",
    "WEEK = 7*DAY"
   ]
  },
  {
   "cell_type": "code",
   "execution_count": null,
   "id": "b6f35d9c-7652-4c23-b006-f11672a5f6bd",
   "metadata": {
    "execution": {
     "iopub.execute_input": "2025-03-03T15:23:28.776002Z",
     "iopub.status.busy": "2025-03-03T15:23:28.775885Z",
     "iopub.status.idle": "2025-03-03T15:23:28.786286Z",
     "shell.execute_reply": "2025-03-03T15:23:28.785922Z",
     "shell.execute_reply.started": "2025-03-03T15:23:28.775990Z"
    }
   },
   "outputs": [],
   "source": [
    "def fourier_analysis_old(dates, values,mode = \"logxlogy\",title=\"Analyse de Fourier - Spectre des fréquences\",\n",
    "                    xlabel=\"Fréquence (cycles par jour)\",ylabel=\"Amplitude\",label=\"Amplitude spectrale\", legendout = True, datecut = 59500,figname=\"\"):\n",
    "    # Centrer les données autour de la moyenne\n",
    "\n",
    "\n",
    "    if datecut>0:\n",
    "        index_selected = np.where(dates >= datecut)[0]\n",
    "        dates = dates[index_selected]\n",
    "        values = values[index_selected]\n",
    "\n",
    "    \n",
    "    values_centered = values - np.mean(values)\n",
    "    \n",
    "\n",
    "    # Nombre de points\n",
    "    N = len(dates)\n",
    "\n",
    "    # sigma\n",
    "    sigma_x = np.sqrt(np.sum(values_centered**2)/N)\n",
    "    \n",
    "    # Intervalle d'échantillonnage (assume 1 jour entre chaque point)\n",
    "    T = np.mean(np.diff(dates))  # Période d'échantillonnage\n",
    "\n",
    "    # Fréquence de Nyquist (limite de Shannon)\n",
    "    f_nyquist = 1 / (2 * T)\n",
    "    \n",
    "    # Transformée de Fourier\n",
    "    fft_values = fft(values_centered)/ np.sqrt(N)\n",
    "    freqs = fftfreq(N, T)  # Fréquences associées\n",
    "\n",
    "    \n",
    "\n",
    "    # Seulement la moitié du spectre est utile (symétrie)\n",
    "    positive_freqs = freqs[:N // 2]\n",
    "    positive_fft_values = np.abs(fft_values[:N // 2])\n",
    "\n",
    "    # Tracer le spectre\n",
    "    fig, ax = plt.subplots(1,1,figsize=(FIGXSIZE_0, FIGYSIZE_0),layout=\"constrained\")\n",
    "    \n",
    "    ax.plot(positive_freqs, positive_fft_values,'ob-' ,ms=5,label=label)\n",
    "\n",
    "    if mode == \"logxliny\":\n",
    "        plt.xscale(\"log\")  # Définit l'axe X en échelle logarithmique\n",
    "        plt.yscale(\"linear\")  # Garde l'axe Y en échelle linéaire\n",
    "    elif mode == \"logxlogy\":\n",
    "        plt.xscale(\"log\")  # Définit l'axe X en échelle logarithmique\n",
    "        plt.yscale(\"log\")  # Garde l'axe Y en échelle logarithmique\n",
    "    elif mode == \"linxlogy\":\n",
    "        plt.xscale(\"linear\")  # Définit l'axe X en  échelle linéaire\n",
    "        plt.yscale(\"log\")  # Garde l'axe Y en échelle logarithmique\n",
    "    elif mode == \"linxliny\":\n",
    "        plt.xscale(\"linear\")  # Définit l'axe X en échelle linéaire\n",
    "        plt.yscale(\"linear\")  # Garde l'axe Y en échelle linéaire\n",
    "        \n",
    "    ax.set_xlabel(xlabel)\n",
    "    ax.set_ylabel(ylabel)\n",
    "    ax.set_title(title)\n",
    "    \n",
    "\n",
    "    ax.axvline(1/YEAR, color='r', linestyle='-', label=\"Cycle : 365 days - 1 year\")\n",
    "    ax.axvline(1/MONTHS6, color='r', linestyle='--', label=\"Cycle : 182.6 days - 6 months\")\n",
    "    ax.axvline(1/MONTHS4, color='r', linestyle=':', label=\"Cycle : 121.7 days - 4 months\")\n",
    "    ax.axvline(1/QUARTER, color='r', linestyle='-.', label=\"Cycle : 91.3 days - 3 months\")\n",
    "    ax.axvline(1/MONTH, color='r', linestyle=':', label=\"Cycle : 30.4 days - 1 month\")\n",
    "    ax.axvline(1/WEEK, color='purple', linestyle='--', label=\"Cycle : 7 days - 1 week\")\n",
    "    ax.axvline(DAY, color='purple', linestyle='-', label=\"Cycle : 1 day \")\n",
    "    ax.axvline(1./(0.5*DAY), color='purple', linestyle='-.', label=\"Cycle : 0.5 day \")\n",
    "\n",
    "    ax.axvline(f_nyquist, color='g', linestyle='--', label=f\"Nyquist frequency({f_nyquist:.3f} cycles/days)\")\n",
    "\n",
    "    txtstr_sigma = \"$\\sigma_x$ = \" + f\" {sigma_x:0.3f}\" \n",
    "    ax.text(0.01, 0.95, txtstr_sigma, transform=ax.transAxes, fontsize=16,verticalalignment='top', bbox=props)\n",
    "    \n",
    "\n",
    "    if legendout:\n",
    "        ax.legend(bbox_to_anchor=(1.05, 1.05),fontsize=12)\n",
    "    else:\n",
    "        ax.legend(fontsize=10,fancybox=True, framealpha=0.5)\n",
    "        \n",
    "    \n",
    "\n",
    "    if figname !=\"\":\n",
    "        fig.savefig(figname)\n",
    "        \n",
    "    \n",
    "    plt.show()\n",
    "\n",
    "# Appelle la fonction avec tes données\n",
    "# fourier_analysis(dates, values)"
   ]
  },
  {
   "cell_type": "code",
   "execution_count": null,
   "id": "32307950-eeb2-42a6-85e8-aa733729d95f",
   "metadata": {
    "execution": {
     "iopub.execute_input": "2025-03-03T15:23:28.786957Z",
     "iopub.status.busy": "2025-03-03T15:23:28.786783Z",
     "iopub.status.idle": "2025-03-03T15:23:28.797761Z",
     "shell.execute_reply": "2025-03-03T15:23:28.797427Z",
     "shell.execute_reply.started": "2025-03-03T15:23:28.786944Z"
    }
   },
   "outputs": [],
   "source": [
    "def fourier_analysis(dates, values, ax, mode = \"logxlogy\",title=\"Analyse de Fourier - Spectre des fréquences\",\n",
    "                    xlabel=\"frequency (day)$^{-1}$\",ylabel=\"y-unit $\\cdot \\sqrt{day}$\",label=\"DFT amplitude\", legendout = True, datecut = 59500):\n",
    "    # Centrer les données autour de la moyenne\n",
    "\n",
    "\n",
    "    if datecut>0:\n",
    "        index_selected = np.where(dates >= datecut)[0]\n",
    "        dates = dates[index_selected]\n",
    "        values = values[index_selected]\n",
    "    \n",
    "    values_centered = values - np.mean(values)\n",
    "\n",
    "    # Nombre de points\n",
    "    N = len(dates)\n",
    "    # Intervalle d'échantillonnage (assume 1 jour entre chaque point)\n",
    "    T = np.mean(np.diff(dates))  # Période d'échantillonnage\n",
    "\n",
    "    # signal duration\n",
    "    Delta_T = dates.max()-dates.min()\n",
    "\n",
    "    #frequency spacing\n",
    "    Delta_f = 1/Delta_T\n",
    "    \n",
    "\n",
    "    # Fréquence de Nyquist (limite de Shannon)\n",
    "    f_nyquist = 1 / (2 * T)\n",
    "    \n",
    "    # Transformée de Fourier\n",
    "    fft_values = fft(values_centered)/ np.sqrt(N)\n",
    "    freqs = fftfreq(N, T)  # Fréquences associées\n",
    "\n",
    "    # sigma_x\n",
    "    sigma_x = np.sqrt(np.sum(values_centered**2)/N)\n",
    "\n",
    "    \n",
    "\n",
    "    # Seulement la moitié du spectre est utile (symétrie)\n",
    "    positive_freqs = freqs[:N // 2]\n",
    "    positive_fft_values = np.abs(fft_values[:N // 2])\n",
    "\n",
    "    # Calcul de l'écart-type fréquentiel en Hz\n",
    "    power_spectrum = np.abs(positive_fft_values) ** 2\n",
    "    sigma_f = np.sqrt(np.sum(positive_freqs**2 * power_spectrum) / np.sum(power_spectrum))\n",
    "    \n",
    "    sigma_pp = np.sqrt(np.sum(power_spectrum))\n",
    "    sigma_x = np.sqrt(np.sum(values_centered**2)/N)\n",
    "\n",
    "    # Tracer le spectre\n",
    "    #plt.figure(figsize=(16, 6),layout=\"constrained\")\n",
    "    \n",
    "    ax.plot(positive_freqs, positive_fft_values,'ob-' ,ms=5,label=label)\n",
    "\n",
    "    if mode == \"logxliny\":\n",
    "        ax.set_xscale(\"log\")  # Définit l'axe X en échelle logarithmique\n",
    "        ax.set_yscale(\"linear\")  # Garde l'axe Y en échelle linéaire\n",
    "    elif mode == \"logxlogy\":\n",
    "        ax.set_xscale(\"log\")  # Définit l'axe X en échelle logarithmique\n",
    "        ax.set_yscale(\"log\")  # Garde l'axe Y en échelle logarithmique\n",
    "    elif mode == \"linxlogy\":\n",
    "        ax.set_xscale(\"linear\")  # Définit l'axe X en  échelle linéaire\n",
    "        ax.set_yscale(\"log\")  # Garde l'axe Y en échelle logarithmique\n",
    "    elif mode == \"linxliny\":\n",
    "        ax.set_xscale(\"linear\")  # Définit l'axe X en échelle linéaire\n",
    "        ax.set_yscale(\"linear\")  # Garde l'axe Y en échelle linéaire\n",
    "        \n",
    "    ax.set_xlabel(xlabel)\n",
    "    ax.set_ylabel(ylabel)\n",
    "    ax.set_title(title)\n",
    "    \n",
    "\n",
    "    ax.axvline(1/YEAR, color='r', linestyle='-', label=\"Cycle : 365 days - 1 year\")\n",
    "    ax.axvline(1/MONTHS6, color='r', linestyle='--', label=\"Cycle : 182.6 days - 6 months\")\n",
    "    ax.axvline(1/MONTHS4, color='r', linestyle=':', label=\"Cycle : 121.7 days - 4 months\")\n",
    "    ax.axvline(1/QUARTER, color='r', linestyle='-.', label=\"Cycle : 91.3 days - 3 months\")\n",
    "    ax.axvline(1/MONTH, color='r', linestyle=':', label=\"Cycle : 30.4 days - 1 month\")\n",
    "    ax.axvline(1/WEEK, color='purple', linestyle='--', label=\"Cycle : 7 days - 1 week\")\n",
    "    ax.axvline(DAY, color='purple', linestyle='-', label=\"Cycle : 1 day \")\n",
    "    ax.axvline(1./(0.5*DAY), color='purple', linestyle='-.', label=\"Cycle : 0.5 day \")\n",
    "\n",
    "    ax.axvline(f_nyquist, color='g', linestyle='--', label=f\"Nyquist frequency({f_nyquist:.3f} cycles/days)\")\n",
    "\n",
    "    if legendout:\n",
    "        ax.legend(bbox_to_anchor=(1.05, 1.05),fontsize=12)\n",
    "    else:\n",
    "        ax.legend(fontsize=10,fancybox=True, framealpha=0.5)\n",
    "\n",
    "    txtstr_sigma = \"$\\sigma_x$ = \" + f\" {sigma_x:0.3f}\" \n",
    "    txtstr_Ts = \"$T_s$ = \"  + f\" {T:0.3f} days\" \n",
    "    txtstr_Fs = \"$f_s$ = \"  + f\" {Delta_f:0.3f} / days\" \n",
    "\n",
    "    txtstr_info = \"\\n\".join([txtstr_sigma,txtstr_Ts ,txtstr_Fs])\n",
    "    ax.text(0.01, 0.95, txtstr_info, transform=ax.transAxes, fontsize=16,verticalalignment='top', bbox=props)\n",
    "    \n",
    "    \n",
    " \n",
    "    \n",
    "# Appelle la fonction avec tes données\n",
    "# fourier_analysis(dates, values)\n",
    "    return positive_freqs, positive_fft_values, sigma_x,sigma_pp"
   ]
  },
  {
   "cell_type": "markdown",
   "id": "4f13d6a3-7793-4bc0-920a-1d690d9f84b2",
   "metadata": {},
   "source": [
    "## Configuration"
   ]
  },
  {
   "cell_type": "code",
   "execution_count": null,
   "id": "c8cb2e48-0b34-4cbf-8379-43f7065112f7",
   "metadata": {
    "execution": {
     "iopub.execute_input": "2025-03-03T15:23:28.798276Z",
     "iopub.status.busy": "2025-03-03T15:23:28.798159Z",
     "iopub.status.idle": "2025-03-03T15:23:28.848872Z",
     "shell.execute_reply": "2025-03-03T15:23:28.848482Z",
     "shell.execute_reply.started": "2025-03-03T15:23:28.798264Z"
    }
   },
   "outputs": [],
   "source": [
    "observing_location = EarthLocation.of_site('Rubin Observatory')\n",
    "tz = timezone('America/Santiago')"
   ]
  },
  {
   "cell_type": "markdown",
   "id": "6175a4a4-5c98-4e09-8ffd-a17282f6094e",
   "metadata": {},
   "source": [
    "### MERRA2"
   ]
  },
  {
   "cell_type": "code",
   "execution_count": null,
   "id": "d84a85da-768d-459f-8711-54e04f2cff75",
   "metadata": {
    "execution": {
     "iopub.execute_input": "2025-03-03T15:23:28.849525Z",
     "iopub.status.busy": "2025-03-03T15:23:28.849338Z",
     "iopub.status.idle": "2025-03-03T15:23:28.851675Z",
     "shell.execute_reply": "2025-03-03T15:23:28.851301Z",
     "shell.execute_reply.started": "2025-03-03T15:23:28.849500Z"
    },
    "tags": []
   },
   "outputs": [],
   "source": [
    "filename_m2 = \"../../SpectroMerra2/MerradataMerged/Merge_inst1_2d_asm_Nx_M2I1NXASM-2021-2024.csv\"\n",
    "filename_m2b = \"../../SpectroMerra2/MerradataMerged/Merge_tavg1_2d_aer_Nx_M2T1NXAER-2021-2024.csv\""
   ]
  },
  {
   "cell_type": "code",
   "execution_count": null,
   "id": "dd89c1b3-43c8-43ae-b10d-f39e8f8b2963",
   "metadata": {
    "execution": {
     "iopub.execute_input": "2025-03-03T15:23:28.852339Z",
     "iopub.status.busy": "2025-03-03T15:23:28.852088Z",
     "iopub.status.idle": "2025-03-03T15:23:28.950479Z",
     "shell.execute_reply": "2025-03-03T15:23:28.949973Z",
     "shell.execute_reply.started": "2025-03-03T15:23:28.852326Z"
    },
    "tags": []
   },
   "outputs": [],
   "source": [
    "df_m = pd.read_csv(filename_m2)\n",
    "df_mb = pd.read_csv(filename_m2b)"
   ]
  },
  {
   "cell_type": "code",
   "execution_count": null,
   "id": "a4c21a3e-f004-4b43-871d-8b479451b594",
   "metadata": {
    "execution": {
     "iopub.execute_input": "2025-03-03T15:23:28.951164Z",
     "iopub.status.busy": "2025-03-03T15:23:28.951034Z",
     "iopub.status.idle": "2025-03-03T15:23:28.953612Z",
     "shell.execute_reply": "2025-03-03T15:23:28.953258Z",
     "shell.execute_reply.started": "2025-03-03T15:23:28.951150Z"
    }
   },
   "outputs": [],
   "source": [
    "Nm = len(df_m)\n",
    "Nmb = len(df_mb)\n",
    "print(\"Number of points :: \",Nm,Nmb)"
   ]
  },
  {
   "cell_type": "code",
   "execution_count": null,
   "id": "e1e70f0b-8123-48fc-8faa-f5f468c85a3a",
   "metadata": {
    "execution": {
     "iopub.execute_input": "2025-03-03T15:23:28.954175Z",
     "iopub.status.busy": "2025-03-03T15:23:28.954055Z",
     "iopub.status.idle": "2025-03-03T15:23:28.960043Z",
     "shell.execute_reply": "2025-03-03T15:23:28.959713Z",
     "shell.execute_reply.started": "2025-03-03T15:23:28.954163Z"
    }
   },
   "outputs": [],
   "source": [
    "df_mb.columns"
   ]
  },
  {
   "cell_type": "code",
   "execution_count": null,
   "id": "0078d85a-f0a9-43f7-bb1a-30358769fe86",
   "metadata": {
    "execution": {
     "iopub.execute_input": "2025-03-03T15:23:28.960612Z",
     "iopub.status.busy": "2025-03-03T15:23:28.960488Z",
     "iopub.status.idle": "2025-03-03T15:23:28.969886Z",
     "shell.execute_reply": "2025-03-03T15:23:28.969534Z",
     "shell.execute_reply.started": "2025-03-03T15:23:28.960601Z"
    }
   },
   "outputs": [],
   "source": [
    "TMIN = pd.to_datetime(df_m.time.min())\n",
    "TMAX = pd.to_datetime(df_m.time.max())"
   ]
  },
  {
   "cell_type": "markdown",
   "id": "e65aa79a-58d6-4022-8000-f2d8900c8f43",
   "metadata": {},
   "source": [
    "### Convert in MJD"
   ]
  },
  {
   "cell_type": "code",
   "execution_count": null,
   "id": "b58fea8d-18e5-4f69-ad7d-50b5af7150a9",
   "metadata": {
    "execution": {
     "iopub.execute_input": "2025-03-03T15:23:28.970426Z",
     "iopub.status.busy": "2025-03-03T15:23:28.970307Z",
     "iopub.status.idle": "2025-03-03T15:23:29.283564Z",
     "shell.execute_reply": "2025-03-03T15:23:29.283098Z",
     "shell.execute_reply.started": "2025-03-03T15:23:28.970414Z"
    },
    "tags": []
   },
   "outputs": [],
   "source": [
    "df_m[\"mjd\"] = Time(pd.to_datetime(df_m.time.values)).mjd\n",
    "df_mb[\"mjd\"] = Time(pd.to_datetime(df_mb.time.values)).mjd"
   ]
  },
  {
   "cell_type": "code",
   "execution_count": null,
   "id": "fc6b3b3d-7161-44ee-94e4-d06eaec6745c",
   "metadata": {
    "execution": {
     "iopub.execute_input": "2025-03-03T15:23:29.284188Z",
     "iopub.status.busy": "2025-03-03T15:23:29.284059Z",
     "iopub.status.idle": "2025-03-03T15:23:29.287045Z",
     "shell.execute_reply": "2025-03-03T15:23:29.286684Z",
     "shell.execute_reply.started": "2025-03-03T15:23:29.284175Z"
    }
   },
   "outputs": [],
   "source": [
    "mjd_zoom_start = Time(\"2024-01-01\").mjd\n",
    "mjd_zoom_stop = Time(\"2025-06-30\").mjd"
   ]
  },
  {
   "cell_type": "code",
   "execution_count": null,
   "id": "3f167569-b85b-4ef7-9c48-deda686e4139",
   "metadata": {
    "execution": {
     "iopub.execute_input": "2025-03-03T15:23:29.287687Z",
     "iopub.status.busy": "2025-03-03T15:23:29.287566Z",
     "iopub.status.idle": "2025-03-03T15:23:29.293777Z",
     "shell.execute_reply": "2025-03-03T15:23:29.293400Z",
     "shell.execute_reply.started": "2025-03-03T15:23:29.287675Z"
    },
    "tags": []
   },
   "outputs": [],
   "source": [
    "mjd_obs_start = df_m[\"mjd\"].min() \n",
    "mjd_obs_stop = df_m[\"mjd\"].max() "
   ]
  },
  {
   "cell_type": "markdown",
   "id": "1de0255c-cbc2-4603-997c-8eaaa18eeef2",
   "metadata": {},
   "source": [
    "## PWV"
   ]
  },
  {
   "cell_type": "code",
   "execution_count": null,
   "id": "3fd02994-4a05-4145-8da9-10ac7f5b920a",
   "metadata": {
    "execution": {
     "iopub.execute_input": "2025-03-03T15:23:29.294299Z",
     "iopub.status.busy": "2025-03-03T15:23:29.294182Z",
     "iopub.status.idle": "2025-03-03T15:23:29.768043Z",
     "shell.execute_reply": "2025-03-03T15:23:29.767600Z",
     "shell.execute_reply.started": "2025-03-03T15:23:29.294288Z"
    }
   },
   "outputs": [],
   "source": [
    "from matplotlib.dates import DateFormatter\n",
    "#date_form = DateFormatter(\"%y-%m-%dT%H:%M\")\n",
    "date_form = DateFormatter(\"%y-%m\")\n",
    "\n",
    "fig = plt.figure(figsize=(18,10))\n",
    "gs = GridSpec(2, 1,figure=fig)\n",
    "#gs = GridSpec(1, 1,figure=fig)\n",
    "ax1 = fig.add_subplot(gs[0])\n",
    "ax2 = fig.add_subplot(gs[1])\n",
    "        \n",
    "leg1=ax1.get_legend()\n",
    "leg2=ax2.get_legend()\n",
    "\n",
    "\n",
    "ax1.plot(pd.to_datetime(df_m.Time.values), df_m.TQV.values,c=\"b\",lw=0.5,label=\"Merra2\")\n",
    "ax1.set_xlabel(\"time\")\n",
    "ax1.xaxis.set_major_formatter(date_form)\n",
    "ax1.set_title(\"Precipitable water vapor from Merra2\")\n",
    "ax1.legend()\n",
    "ax1.set_ylabel(\"PWV (mm)\")\n",
    "#ax.set_xlim(TMIN,TMAX)\n",
    "\n",
    "data = df_m.TQV.values\n",
    "mean = np.mean(data)\n",
    "median = np.median(data)\n",
    "std = np.std(data)\n",
    "textstr = \"\\n\".join((f\"Expected max-range for PWV : \",\n",
    "                     f\"- average : {mean:.2f} mm\",\n",
    "                     f\"- median : {median:.2f} mm\",\n",
    "                     f\"- sigma : {std:.2f} mm\",     \n",
    "                    ))\n",
    "ax1.text(0.05, 0.95, textstr, transform=ax1.transAxes, fontsize=14,verticalalignment='top', bbox=props)\n",
    "\n",
    "\n",
    "ax2.plot(df_m.mjd, df_m.TQV.values,c=\"b\",lw=0.5,label=\"Merra2\")\n",
    "ax2.set_xlabel(\"time (MJD)\")\n",
    "ax2.legend()\n",
    "ax2.set_ylabel(\"PWV (mm)\")\n",
    "\n",
    "figname =f\"{pathfigs}/pwv_allpoints_merra2\"+figtype\n",
    "fig.savefig(figname)\n",
    "plt.show()\n"
   ]
  },
  {
   "cell_type": "markdown",
   "id": "ddf3e1f7-e905-475b-854d-9092bf1b742c",
   "metadata": {},
   "source": [
    "### FFT for  PWV"
   ]
  },
  {
   "cell_type": "code",
   "execution_count": null,
   "id": "c93dc892-97ce-4f0d-a8de-0e4b8a4c8cd0",
   "metadata": {
    "execution": {
     "iopub.execute_input": "2025-03-03T15:23:29.768737Z",
     "iopub.status.busy": "2025-03-03T15:23:29.768584Z",
     "iopub.status.idle": "2025-03-03T15:23:29.771114Z",
     "shell.execute_reply": "2025-03-03T15:23:29.770754Z",
     "shell.execute_reply.started": "2025-03-03T15:23:29.768722Z"
    }
   },
   "outputs": [],
   "source": [
    "dates = df_m.mjd\n",
    "values = df_m.TQV.values\n",
    "figname =f\"{pathfigs}/FFT_pwv_merra2\"+figtype"
   ]
  },
  {
   "cell_type": "code",
   "execution_count": null,
   "id": "76cbc83c-52ed-4a80-b812-723181674bbb",
   "metadata": {
    "execution": {
     "iopub.execute_input": "2025-03-03T15:23:29.771661Z",
     "iopub.status.busy": "2025-03-03T15:23:29.771534Z",
     "iopub.status.idle": "2025-03-03T15:23:30.368738Z",
     "shell.execute_reply": "2025-03-03T15:23:30.368296Z",
     "shell.execute_reply.started": "2025-03-03T15:23:29.771648Z"
    }
   },
   "outputs": [],
   "source": [
    "fig,ax = plt.subplots(1,1,figsize=(FIGXSIZE_0,FIGYSIZE_0),layout=\"constrained\")\n",
    "positive_freqs, positive_fft_values, sigma_x, _ = fourier_analysis(dates, values,ax=ax ,mode= \"logxliny\",\n",
    "                 title = \"PWV (absolute  FFT)\",\n",
    "                 xlabel=\"frequency (days$^{-1}$)\",\n",
    "                 ylabel=\" mm\",\n",
    "                 label=\"FFT Merra2\")\n",
    "\n",
    "#txtstr_sigma = \"$\\sigma$ = \" + f\" {sigma_x:0.2f} mm\"\n",
    "#ax.text(0.01, 0.95, txtstr_sigma, transform=ax.transAxes, fontsize=16,verticalalignment='top', bbox=props)\n",
    "fig.savefig(figname)\n",
    "plt.show()"
   ]
  },
  {
   "cell_type": "markdown",
   "id": "3338a245-30b8-444c-971e-d5d1efc68b1f",
   "metadata": {},
   "source": [
    "## Ozone"
   ]
  },
  {
   "cell_type": "code",
   "execution_count": null,
   "id": "fbe59757-4742-4a83-b5b6-a43953a6c5d4",
   "metadata": {
    "execution": {
     "iopub.execute_input": "2025-03-03T15:23:30.369318Z",
     "iopub.status.busy": "2025-03-03T15:23:30.369188Z",
     "iopub.status.idle": "2025-03-03T15:23:30.793866Z",
     "shell.execute_reply": "2025-03-03T15:23:30.793444Z",
     "shell.execute_reply.started": "2025-03-03T15:23:30.369306Z"
    }
   },
   "outputs": [],
   "source": [
    "from matplotlib.dates import DateFormatter\n",
    "#date_form = DateFormatter(\"%y-%m-%dT%H:%M\")\n",
    "date_form = DateFormatter(\"%y-%m\")\n",
    "\n",
    "fig = plt.figure(figsize=(18,10))\n",
    "gs = GridSpec(2, 1,figure=fig)\n",
    "\n",
    "ax1 = fig.add_subplot(gs[0])\n",
    "ax2 = fig.add_subplot(gs[1])\n",
    "        \n",
    "leg1=ax1.get_legend()\n",
    "leg2=ax2.get_legend()\n",
    "\n",
    "\n",
    "ax1.plot(pd.to_datetime(df_m.Time.values), df_m.TO3.values,c=\"r\",lw=0.5,label=\"Merra2\")\n",
    "ax1.set_xlabel(\"time\")\n",
    "ax1.xaxis.set_major_formatter(date_form)\n",
    "ax1.set_title(\"Ozone from Merra2\")\n",
    "#ax1.legend()\n",
    "ax1.set_ylabel(\"Ozone (DU)\")\n",
    "#ax.set_xlim(TMIN,TMAX)\n",
    "\n",
    "data = df_m.TO3.values\n",
    "mean = np.mean(data)\n",
    "median = np.median(data)\n",
    "std = np.std(data)\n",
    "textstr = \"\\n\".join((f\"Expected range for Ozone : \",\n",
    "                     f\"- average : {mean:.2f} DU\",\n",
    "                     f\"- median : {median:.2f} DU\",\n",
    "                     f\"- sigma : {std:.2f} DU\",     \n",
    "                    ))\n",
    "ax1.text(0.05, 0.95, textstr, transform=ax1.transAxes, fontsize=14,verticalalignment='top', bbox=props)\n",
    "\n",
    "ax2.plot(df_m.mjd, df_m.TO3.values,c=\"r\",lw=0.5,label=\"Merra2\")\n",
    "ax2.set_xlabel(\"time (MJD)\")\n",
    "ax2.legend()\n",
    "ax2.set_ylabel(\"Ozone (DU)\")\n",
    "\n",
    "\n",
    "figname =f\"{pathfigs}/ozone_allpoints_merra2\"+figtype\n",
    "fig.savefig(figname)\n",
    "plt.show()\n"
   ]
  },
  {
   "cell_type": "markdown",
   "id": "09d9e5d2-0f36-4520-a414-a1f64afc8a3f",
   "metadata": {},
   "source": [
    "### FFT for Ozone"
   ]
  },
  {
   "cell_type": "code",
   "execution_count": null,
   "id": "be822593-a1db-42e0-95ed-294a1c277fa7",
   "metadata": {
    "execution": {
     "iopub.execute_input": "2025-03-03T15:23:30.794487Z",
     "iopub.status.busy": "2025-03-03T15:23:30.794351Z",
     "iopub.status.idle": "2025-03-03T15:23:30.796882Z",
     "shell.execute_reply": "2025-03-03T15:23:30.796506Z",
     "shell.execute_reply.started": "2025-03-03T15:23:30.794473Z"
    }
   },
   "outputs": [],
   "source": [
    "dates = df_m.mjd\n",
    "values = df_m.TO3.values\n",
    "figname =f\"{pathfigs}/FFT_ozone_merra2\"+figtype"
   ]
  },
  {
   "cell_type": "code",
   "execution_count": null,
   "id": "64bf3577-af72-47da-9a82-216484177908",
   "metadata": {
    "execution": {
     "iopub.execute_input": "2025-03-03T15:23:30.797784Z",
     "iopub.status.busy": "2025-03-03T15:23:30.797440Z",
     "iopub.status.idle": "2025-03-03T15:23:31.457160Z",
     "shell.execute_reply": "2025-03-03T15:23:31.456781Z",
     "shell.execute_reply.started": "2025-03-03T15:23:30.797770Z"
    }
   },
   "outputs": [],
   "source": [
    "fig,ax = plt.subplots(1,1,figsize=(FIGXSIZE_0,FIGYSIZE_0),layout=\"constrained\")\n",
    "positive_freqs, positive_fft_values, sigma_x, _ = fourier_analysis(dates,values,ax=ax ,mode= \"logxliny\",\n",
    "                 title = \"Ozone  (absolute  FFT)\",\n",
    "                 xlabel=\"frequency (days$^{-1}$)\",\n",
    "                 ylabel=\"DU\",\n",
    "                 label=\"FFT Merra2 Ozone\")\n",
    "#figname =f\"{pathfigs}/ozone_resGPper_FFTdata_merra2\"+figtype\n",
    "\n",
    "#txtstr_sigma = \"$\\sigma$ = \" + f\" {sigma_x:0.2f} DU\"\n",
    "#ax.text(0.01, 0.95, txtstr_sigma, transform=ax.transAxes, fontsize=16,verticalalignment='top', bbox=props)\n",
    "\n",
    "fig.savefig(figname)\n",
    "plt.show()"
   ]
  },
  {
   "cell_type": "markdown",
   "id": "58b4ac69-947d-4b40-9b5f-aec8c9d6f841",
   "metadata": {},
   "source": [
    "## Aerosol VAOD"
   ]
  },
  {
   "cell_type": "code",
   "execution_count": null,
   "id": "8424c184-6bc3-4adf-942a-cffd5f9b924f",
   "metadata": {
    "execution": {
     "iopub.execute_input": "2025-03-03T15:23:31.457771Z",
     "iopub.status.busy": "2025-03-03T15:23:31.457637Z",
     "iopub.status.idle": "2025-03-03T15:23:31.860554Z",
     "shell.execute_reply": "2025-03-03T15:23:31.860110Z",
     "shell.execute_reply.started": "2025-03-03T15:23:31.457758Z"
    }
   },
   "outputs": [],
   "source": [
    "from matplotlib.dates import DateFormatter\n",
    "#date_form = DateFormatter(\"%y-%m-%dT%H:%M\")\n",
    "date_form = DateFormatter(\"%y-%m\")\n",
    "\n",
    "fig = plt.figure(figsize=(18,10))\n",
    "gs = GridSpec(2, 1,figure=fig)\n",
    "ax1 = fig.add_subplot(gs[0])\n",
    "ax2 = fig.add_subplot(gs[1])\n",
    "        \n",
    "leg1=ax1.get_legend()\n",
    "leg2=ax2.get_legend()\n",
    "\n",
    "\n",
    "ax1.plot(pd.to_datetime(df_mb.Time.values), df_mb.TOTEXTTAU.values,c=\"g\",lw=0.5,label=\"Merra2\")\n",
    "ax1.set_xlabel(\"time\")\n",
    "ax1.xaxis.set_major_formatter(date_form)\n",
    "ax1.set_title(\"VAOD from Merra2\")\n",
    "ax1.legend()\n",
    "ax1.set_ylabel(\"VAOD\")\n",
    "#ax.set_xlim(TMIN,TMAX)\n",
    "data = df_mb.TOTEXTTAU.values\n",
    "mean = np.mean(data)\n",
    "median = np.median(data)\n",
    "std = np.std(data)\n",
    "textstr = \"\\n\".join((f\"Expected max-range for VAOD : \",\n",
    "                     f\"- average : {mean:.3f}\",\n",
    "                     f\"- median : {median:.3f}\",\n",
    "                     f\"- sigma : {std:.3f}\",     \n",
    "                    ))\n",
    "ax1.text(0.05, 0.95, textstr, transform=ax1.transAxes, fontsize=14,verticalalignment='top', bbox=props)\n",
    "\n",
    "ax2.plot(df_mb.mjd, df_mb.TOTEXTTAU.values,c=\"g\",lw=0.5,label=\"Merra2\")\n",
    "ax2.set_xlabel(\"time (MJD)\")\n",
    "ax2.legend()\n",
    "ax2.set_ylabel(\"VAOD\")\n",
    "\n",
    "\n",
    "figname =f\"{pathfigs}/vaod_allpoints_merra2\"+figtype\n",
    "fig.savefig(figname)\n",
    "plt.show()\n"
   ]
  },
  {
   "cell_type": "markdown",
   "id": "34d939d0-44a0-4906-b631-c63fd0ce9179",
   "metadata": {},
   "source": [
    "### FFT for aerosols - VAOD"
   ]
  },
  {
   "cell_type": "code",
   "execution_count": null,
   "id": "d08f4c98-970b-4d69-97dd-31ed266628d8",
   "metadata": {
    "execution": {
     "iopub.execute_input": "2025-03-03T15:23:31.861182Z",
     "iopub.status.busy": "2025-03-03T15:23:31.861046Z",
     "iopub.status.idle": "2025-03-03T15:23:31.863443Z",
     "shell.execute_reply": "2025-03-03T15:23:31.863088Z",
     "shell.execute_reply.started": "2025-03-03T15:23:31.861169Z"
    }
   },
   "outputs": [],
   "source": [
    "dates = df_mb.mjd\n",
    "values = df_mb.TOTEXTTAU.values\n",
    "figname =f\"{pathfigs}/FFT_vaod_merra2\"+figtype"
   ]
  },
  {
   "cell_type": "code",
   "execution_count": null,
   "id": "d4bba695-615c-4fd6-9f0b-72f914c2aee8",
   "metadata": {
    "execution": {
     "iopub.execute_input": "2025-03-03T15:23:31.864009Z",
     "iopub.status.busy": "2025-03-03T15:23:31.863883Z",
     "iopub.status.idle": "2025-03-03T15:23:32.417242Z",
     "shell.execute_reply": "2025-03-03T15:23:32.416860Z",
     "shell.execute_reply.started": "2025-03-03T15:23:31.863997Z"
    }
   },
   "outputs": [],
   "source": [
    "fig,ax = plt.subplots(1,1,figsize=(FIGXSIZE_0,FIGYSIZE_0),layout=\"constrained\")\n",
    "positive_freqs, positive_fft_values, sigma_x, _ = fourier_analysis(dates,values,ax=ax ,mode= \"logxliny\",\n",
    "                 title = \"VAOD (absolute  FFT)\",\n",
    "                 xlabel=\"frequency (days$^{-1}$)\",\n",
    "                 ylabel=\"\",\n",
    "                 label=\"FFT Merra2\")\n",
    "\n",
    "#txtstr_sigma = \"$\\sigma$ = \" + f\" {sigma_x:0.3f}\"\n",
    "#ax.text(0.01, 0.95, txtstr_sigma, transform=ax.transAxes, fontsize=16,verticalalignment='top', bbox=props)\n",
    "\n",
    "fig.savefig(figname)\n",
    "plt.show()"
   ]
  },
  {
   "cell_type": "markdown",
   "id": "70e98d5e-523d-423b-8b16-808ca897107c",
   "metadata": {},
   "source": [
    "## Aerosol Angstrom"
   ]
  },
  {
   "cell_type": "code",
   "execution_count": null,
   "id": "bdbbe50f-56ca-4c7d-ae34-ea25d0e6b07d",
   "metadata": {
    "execution": {
     "iopub.execute_input": "2025-03-03T15:23:32.417832Z",
     "iopub.status.busy": "2025-03-03T15:23:32.417671Z",
     "iopub.status.idle": "2025-03-03T15:23:32.912576Z",
     "shell.execute_reply": "2025-03-03T15:23:32.912178Z",
     "shell.execute_reply.started": "2025-03-03T15:23:32.417819Z"
    }
   },
   "outputs": [],
   "source": [
    "from matplotlib.dates import DateFormatter\n",
    "#date_form = DateFormatter(\"%y-%m-%dT%H:%M\")\n",
    "date_form = DateFormatter(\"%y-%m\")\n",
    "\n",
    "fig = plt.figure(figsize=(18,10))\n",
    "gs = GridSpec(2, 1,figure=fig)\n",
    "\n",
    "ax1 = fig.add_subplot(gs[0])\n",
    "ax2 = fig.add_subplot(gs[1])\n",
    "        \n",
    "leg1=ax1.get_legend()\n",
    "leg2=ax2.get_legend()\n",
    "\n",
    "\n",
    "ax1.plot(pd.to_datetime(df_mb.Time.values), df_mb.TOTANGSTR.values,c=\"purple\",lw=0.5,label=\"Merra2\")\n",
    "ax1.set_xlabel(\"time\")\n",
    "ax1.xaxis.set_major_formatter(date_form)\n",
    "ax1.set_title(\"VAOD_Angstrom from Merra2\")\n",
    "ax1.legend()\n",
    "ax1.set_ylabel(\"VAOD_Angstrom\")\n",
    "#ax.set_xlim(TMIN,TMAX)\n",
    "data = df_mb.TOTANGSTR.values\n",
    "mean = np.mean(data)\n",
    "median = np.median(data)\n",
    "std = np.std(data)\n",
    "textstr = \"\\n\".join((f\"Expected max-range for VAOD-Angstrom : \",\n",
    "                     f\"- average : {mean:.3f}\",\n",
    "                     f\"- median : {median:.3f}\",\n",
    "                     f\"- sigma : {std:.3f}\",     \n",
    "                    ))\n",
    "ax1.text(0.05, 0.95, textstr, transform=ax1.transAxes, fontsize=14,verticalalignment='top', bbox=props)\n",
    "\n",
    "\n",
    "ax2.plot(df_mb.mjd, df_mb.TOTANGSTR.values,c=\"purple\",lw=0.5,label=\"Merra2\")\n",
    "ax2.set_xlabel(\"time (MJD)\")\n",
    "ax2.legend()\n",
    "ax2.set_ylabel(\"VAOD\")\n",
    "\n",
    "\n",
    "\n",
    "figname =f\"{pathfigs}/vaodangstrom_allpoints_merra2\"+figtype\n",
    "fig.savefig(figname)\n",
    "plt.show()"
   ]
  },
  {
   "cell_type": "markdown",
   "id": "79cae33c-eb5c-45be-9a1d-56b0c3b52fe0",
   "metadata": {},
   "source": [
    "### FFT For Aerosol Angstrom"
   ]
  },
  {
   "cell_type": "code",
   "execution_count": null,
   "id": "70b3d1f3-9b60-4963-9630-ffbaaa6f3da6",
   "metadata": {
    "execution": {
     "iopub.execute_input": "2025-03-03T15:23:32.913155Z",
     "iopub.status.busy": "2025-03-03T15:23:32.913019Z",
     "iopub.status.idle": "2025-03-03T15:23:32.915373Z",
     "shell.execute_reply": "2025-03-03T15:23:32.915019Z",
     "shell.execute_reply.started": "2025-03-03T15:23:32.913142Z"
    }
   },
   "outputs": [],
   "source": [
    "dates = df_mb.mjd\n",
    "values = df_mb.TOTANGSTR.values\n",
    "figname =f\"{pathfigs}/FFT_angstrom_merra2\"+figtype"
   ]
  },
  {
   "cell_type": "code",
   "execution_count": null,
   "id": "12dac8b7-444d-4af3-af6f-51a677b15dcb",
   "metadata": {
    "execution": {
     "iopub.execute_input": "2025-03-03T15:23:32.915860Z",
     "iopub.status.busy": "2025-03-03T15:23:32.915734Z",
     "iopub.status.idle": "2025-03-03T15:23:33.458692Z",
     "shell.execute_reply": "2025-03-03T15:23:33.458313Z",
     "shell.execute_reply.started": "2025-03-03T15:23:32.915848Z"
    }
   },
   "outputs": [],
   "source": [
    "fig,ax = plt.subplots(1,1,figsize=(FIGXSIZE_0,FIGYSIZE_0),layout=\"constrained\")\n",
    "positive_freqs, positive_fft_values, sigma_x, _ = fourier_analysis(dates,values,ax=ax ,mode= \"logxliny\",\n",
    "                 title = \"Angstrom exponent (absolute  FFT)\",\n",
    "                 xlabel=\"frequency (days$^{-1}$)\",\n",
    "                 ylabel=\"\",\n",
    "                 label=\"FFT Merra2 Angstrom\")\n",
    "\n",
    "\n",
    "fig.savefig(figname)\n",
    "plt.show()"
   ]
  }
 ],
 "metadata": {
  "kernelspec": {
   "display_name": "LSST",
   "language": "python",
   "name": "lsst"
  },
  "language_info": {
   "codemirror_mode": {
    "name": "ipython",
    "version": 3
   },
   "file_extension": ".py",
   "mimetype": "text/x-python",
   "name": "python",
   "nbconvert_exporter": "python",
   "pygments_lexer": "ipython3",
   "version": "3.11.9"
  }
 },
 "nbformat": 4,
 "nbformat_minor": 5
}
