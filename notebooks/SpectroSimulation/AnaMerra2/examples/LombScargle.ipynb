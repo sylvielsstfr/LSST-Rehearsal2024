{
 "cells": [
  {
   "cell_type": "markdown",
   "id": "4d1bcd34-e048-47dc-a395-f29004e85103",
   "metadata": {},
   "source": [
    "# Periodogram Lomb Scargle"
   ]
  },
  {
   "cell_type": "markdown",
   "id": "47f68bd7-dc61-486d-9c9d-1f496b9525c4",
   "metadata": {},
   "source": []
  },
  {
   "cell_type": "code",
   "execution_count": null,
   "id": "e1892d18-1e91-4f7b-bcce-41813e6c7645",
   "metadata": {},
   "outputs": [],
   "source": [
    "import numpy as np\n",
    "import matplotlib.pyplot as plt\n",
    "from astropy.timeseries import LombScargle\n",
    "\n",
    "# Générer un signal avec bruit et échantillonnage irrégulier\n",
    "np.random.seed(42)\n",
    "t = np.sort(np.random.uniform(0, 10, 50))  # Temps irrégulier\n",
    "y = np.sin(2 * np.pi * t) + 0.5 * np.random.randn(len(t))  # Signal sinusoïdal bruité\n",
    "\n",
    "# Calculer le périodogramme\n",
    "frequencies, power = LombScargle(t, y).autopower()\n",
    "\n",
    "# Affichage\n",
    "plt.plot(frequencies, power)\n",
    "plt.xlabel(\"Fréquence (Hz)\")\n",
    "plt.ylabel(\"Puissance\")\n",
    "plt.title(\"Périodogramme de Lomb-Scargle\")\n",
    "plt.show()\n"
   ]
  },
  {
   "cell_type": "code",
   "execution_count": null,
   "id": "496d454c-d4bf-48ff-a4ba-4b7993047793",
   "metadata": {},
   "outputs": [],
   "source": []
  }
 ],
 "metadata": {
  "kernelspec": {
   "display_name": "conda_py311",
   "language": "python",
   "name": "conda_py311"
  },
  "language_info": {
   "codemirror_mode": {
    "name": "ipython",
    "version": 3
   },
   "file_extension": ".py",
   "mimetype": "text/x-python",
   "name": "python",
   "nbconvert_exporter": "python",
   "pygments_lexer": "ipython3",
   "version": "3.11.11"
  }
 },
 "nbformat": 4,
 "nbformat_minor": 5
}
