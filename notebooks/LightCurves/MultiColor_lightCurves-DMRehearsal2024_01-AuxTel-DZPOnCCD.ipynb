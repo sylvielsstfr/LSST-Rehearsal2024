{
 "cells": [
  {
   "cell_type": "markdown",
   "id": "5fb8b13a-5169-4188-9fb8-8bfb44518205",
   "metadata": {},
   "source": [
    "# Multi Color Light Curves  applied to LATISS DZP on CCD\n",
    "\n",
    "\n",
    "- author Sylvie Dagoret-Campagne\n",
    "- creation date 2024-05-03\n",
    "- last update 2024-07-29\n",
    "\n",
    "w_2024_16\n",
    "  \n",
    "``Quantum Graphs``: https://tigress-web.princeton.edu/~lkelvin/pipelines/ \n",
    "\n",
    "\n",
    "https://tigress-web.princeton.edu/~lkelvin/pipelines/current/drp_pipe/LSSTComCamSim/nightly-validation-ops-rehearsal-3/\n",
    "\n",
    "``CalibrateTask``: \n",
    "https://github.com/lsst/pipe_tasks/blob/main/python/lsst/pipe/tasks/calibrate.py#L392-L399\n",
    "\n",
    "\n",
    "``Shemas``:\n",
    "https://dm.lsst.org/sdm_schemas/browser/"
   ]
  },
  {
   "cell_type": "code",
   "execution_count": null,
   "id": "3de4fd1f-8c60-4d0e-be77-c516b572c25a",
   "metadata": {},
   "outputs": [],
   "source": [
    "from lsst.daf.butler import Butler\n",
    "\n",
    "import astropy.units as u\n",
    "import numpy as np \n",
    "import pandas as pd\n",
    "pd.set_option(\"display.max_columns\", None)\n",
    "from astropy.time import Time\n",
    "\n",
    "import scipy.stats\n",
    "\n",
    "import matplotlib\n",
    "%matplotlib inline\n",
    "from matplotlib import pyplot as plt\n",
    "from mpl_toolkits.axes_grid1 import make_axes_locatable\n",
    "from matplotlib.colors import LogNorm,SymLogNorm\n",
    "\n",
    "import lsst.afw.display.rgb as afwRgb\n",
    "import lsst.afw.image as afwImage\n",
    "import lsst.geom as geom\n",
    "import pickle\n",
    "from astropy.stats import SigmaClip"
   ]
  },
  {
   "cell_type": "code",
   "execution_count": null,
   "id": "534790ff-0b3d-4d49-9d6f-30def6c6e816",
   "metadata": {},
   "outputs": [],
   "source": [
    "#xx-small\n",
    "#x-small\n",
    "#small\n",
    "#medium\n",
    "#large\n",
    "#x-large\n",
    "#xx-large\n",
    "\n",
    "plt.rcParams[\"figure.figsize\"] = (10,6)\n",
    "plt.rcParams[\"axes.labelsize\"] = 'x-large'\n",
    "plt.rcParams['axes.titlesize'] = 'x-large'\n",
    "plt.rcParams['xtick.labelsize']= 'x-large'\n",
    "plt.rcParams['ytick.labelsize']= 'x-large'"
   ]
  },
  {
   "cell_type": "code",
   "execution_count": null,
   "id": "c79d12f9-6908-438a-bb09-b604f39d2d4b",
   "metadata": {},
   "outputs": [],
   "source": [
    "from shapely.geometry import Point as shapelyPoint\n",
    "from shapely.geometry.polygon import Polygon as shapelyPolygon"
   ]
  },
  {
   "cell_type": "code",
   "execution_count": null,
   "id": "a681670d-59bc-482e-a4d1-8c8e4b7ff4f6",
   "metadata": {},
   "outputs": [],
   "source": [
    "def is_in_polygon(x,y,ll,lr,ur,ul):\n",
    "    point = shapelyPoint(x, y)\n",
    "    polygon = shapelyPolygon([ll, lr, ur, ul])\n",
    "    return polygon.contains(point)"
   ]
  },
  {
   "cell_type": "code",
   "execution_count": null,
   "id": "f4436a17-776e-47ce-b8b9-55d9f3930f80",
   "metadata": {},
   "outputs": [],
   "source": [
    "def angle_in_range(alpha, lower, upper):\n",
    "    return (alpha - lower) % 360 <= (upper - lower) % 360"
   ]
  },
  {
   "cell_type": "code",
   "execution_count": null,
   "id": "55b79a54-12ac-4db0-8dd4-5f04d020d151",
   "metadata": {},
   "outputs": [],
   "source": [
    "def isradec_inbbox_radec(ra,dec,ramin,ramax,decmin,decmax):\n",
    "    \"\"\"\n",
    "    Return the corners in RA,Dec in degrees given the WCS and bounding box for an image.\n",
    "\n",
    "    Parameters\n",
    "    ----------\n",
    "    ra: ra in degree\n",
    "    dec: dec in degree\n",
    "    wcs: image WCS returned by the Butler\n",
    "    bbox: bounding box returned by the Butler\n",
    "\n",
    "    Returns\n",
    "    -------\n",
    "    Bool\n",
    "    \n",
    "    \"\"\"\n",
    "\n",
    "\n",
    "    flag_ra = angle_in_range(ra,ramin,ramax)\n",
    "    flag_dec = angle_in_range(dec,decmin,decmax)\n",
    "\n",
    "    flag = flag_ra and flag_dec\n",
    "    return flag\n"
   ]
  },
  {
   "cell_type": "code",
   "execution_count": null,
   "id": "dfcfc3c9-242a-4016-bad7-4e0a12acd3d8",
   "metadata": {},
   "outputs": [],
   "source": [
    "def get_corners_radec(wcs, bbox):\n",
    "    \"\"\"\n",
    "    Return the corners in RA,Dec in degrees given the WCS and bounding box for an image.\n",
    "\n",
    "    Parameters\n",
    "    ----------\n",
    "    wcs: image WCS returned by the Butler\n",
    "    bbox: bounding box returned by the Butler\n",
    "\n",
    "    Returns\n",
    "    -------\n",
    "    corners_ra, corners_dec in decimal degrees\n",
    "    \"\"\"\n",
    "\n",
    "    corners_x = [bbox.beginX, bbox.beginX, bbox.endX, bbox.endX]\n",
    "    corners_y = [bbox.beginY, bbox.endY, bbox.endY, bbox.beginY]\n",
    "    corners_ra = []\n",
    "    corners_dec = []\n",
    "    for i in range(4):\n",
    "        radec = wcs.pixelToSky(corners_x[i], corners_y[i])\n",
    "        corners_ra.append(radec.getRa().asDegrees())\n",
    "        corners_dec.append(radec.getDec().asDegrees())\n",
    "    \n",
    "    return corners_ra, corners_dec"
   ]
  },
  {
   "cell_type": "code",
   "execution_count": null,
   "id": "12e89c3a",
   "metadata": {},
   "outputs": [],
   "source": [
    "saveDir = \"./lc_output_dmrehearsal2024-latiss\"\n",
    "doSaveFigs = False  # set to True if you actually want to save the figures in the above dir"
   ]
  },
  {
   "cell_type": "code",
   "execution_count": null,
   "id": "ff630ae4",
   "metadata": {},
   "outputs": [],
   "source": [
    "# Set some selections for reliable data\n",
    "minNumMatches = 3\n",
    "minSnCalibFlux =  50 #100"
   ]
  },
  {
   "cell_type": "code",
   "execution_count": null,
   "id": "313383f9",
   "metadata": {},
   "outputs": [],
   "source": [
    "# INSERT YOUR collection and tract\n",
    "# for rehearsal use collection 2 which have CCDvisit\n",
    "butlerRoot = \"/repo/embargo\"\n",
    "\n",
    "collection1 = 'LSSTComCamSim/runs/nightlyvalidation/20240402/d_2024_03_29/DM-43612'\n",
    "collection2 = 'LSSTComCamSim/runs/nightlyvalidation/20240403/d_2024_03_29/DM-43612'\n",
    "collection3 = 'LSSTComCamSim/runs/nightlyvalidation/20240404/d_2024_03_29/DM-43612'\n",
    "#collection = 'LATISS/runs/AUXTEL_DRP_IMAGING_20230509_20240311/w_2024_10/PREOPS-4985'\n",
    "#collection = 'LATISS/runs/AUXTEL_DRP_IMAGING_20230509_20240414/w_2024_15/PREOPS-5069' \n",
    "collection = 'LATISS/runs/AUXTEL_DRP_IMAGING_20230509_20240513/w_2024_20/PREOPS-5146' # test this one today 2024/06/22\n",
    "collectionn = collection\n",
    "#collections = [collection1,collection2,collection3]\n",
    "collections = [collection]\n",
    "collectionStr = collectionn.replace(\"/\", \"_\")\n",
    "instrument = 'LATISS'\n",
    "skymapName = \"latiss_v1\"\n",
    "where_clause = \"instrument = \\'\" + instrument+ \"\\'\"\n",
    "tract = 3864 # mostly for light-curves\n",
    "#tract = 5615\n",
    "# tract = 5634 # interesting to view calib parameters\n",
    "suptitle = collectionStr + f\" inst = {instrument} tract = {tract}\"\n",
    "\n",
    "calibFluxStr = \"apFlux_35_0_instFlux\"\n",
    "calibFluxErrStr = \"apFlux_35_0_instFluxErr\"\n",
    "calibFluxMagStr = \"apFlux_35_0_instMag\"\n",
    "calibFluxMagErrStr = \"apFlux_35_0_instMagErr\"\n",
    "\n",
    "calibFluxCalStr = \"apFlux_35_0_calFlux\"\n",
    "calibFluxCalErrStr = \"apFlux_35_0_calFluxErr\"\n",
    "calibFluxCalMagStr = \"apFlux_35_0_calMag\"\n",
    "calibFluxCalMagErrStr = \"apFlux_35_0_calMagErr\"\n",
    "\n",
    "file_output_selectedsources = f\"lightcurves-dmrehearsal2024_04_03-latiss-tract{tract}.csv\"\n",
    "fullname_file_output_selectedsources = os.path.join(saveDir,file_output_selectedsources)"
   ]
  },
  {
   "cell_type": "markdown",
   "id": "ed31cddb-dfe0-425d-b1d3-b45fb2d3482a",
   "metadata": {},
   "source": [
    "## Initiate butler from variables set above"
   ]
  },
  {
   "cell_type": "code",
   "execution_count": null,
   "id": "36adc6e2-03ab-4642-9955-02be089091ef",
   "metadata": {},
   "outputs": [],
   "source": [
    "# Initiate butler from variables set above\n",
    "butler = Butler(butlerRoot, collections=collections, instrument=instrument, skymap=skymapName)\n",
    "camera = butler.get(\"camera\", instrument=instrument)\n",
    "skymap = butler.get(\"skyMap\")\n",
    "print(\"camera_name = {}\".format(camera.getName()))\n",
    "print(\"collections = {}\".format(collections))"
   ]
  },
  {
   "cell_type": "markdown",
   "id": "2cfc46cc-47af-4a18-ac72-aef517f0ce7d",
   "metadata": {},
   "source": [
    "## load isolated_star_sources"
   ]
  },
  {
   "cell_type": "code",
   "execution_count": null,
   "id": "c8cbc8e2-711b-4175-92c3-61aa37beee5b",
   "metadata": {},
   "outputs": [],
   "source": [
    "# Try to get the Schema\n",
    "all_tracts = []\n",
    "data_product = \"isolated_star_sources\"\n",
    "datasetRefs = butler.registry.queryDatasets(datasetType=data_product, collections=collections, where= where_clause)\n",
    "for i, ref in enumerate(datasetRefs):\n",
    "    print(i,ref.dataId)\n",
    "    all_tracts.append(ref.dataId[\"tract\"])\n",
    "    #butler_data = butler.get(ref)\n",
    "\n",
    "all_tracts = sorted(all_tracts)\n",
    "print(\"all tracts : \", all_tracts)\n",
    "\n",
    "#if not isinstance(butler_data, pd.core.frame.DataFrame):\n",
    "#    print(butler_data.getSchema())"
   ]
  },
  {
   "cell_type": "markdown",
   "id": "122dcf42-a6bd-4c49-b336-39e861c9c5e4",
   "metadata": {},
   "source": [
    "## isolated_star_sources Keeping all bands here, but keep the tract selection\n",
    "\n",
    "The main starting point is the table of isolated_star_sources which has been constructed in step 2a from a catalog\n",
    "Note that isolated star sources are associated to an object (a static starobject)\n",
    "Here the work is doneband by band.\n",
    "It is a good idea to work band by band."
   ]
  },
  {
   "cell_type": "code",
   "execution_count": null,
   "id": "8856e2a2",
   "metadata": {},
   "outputs": [],
   "source": [
    "# Load in isolated_star_sources and trim to band of interest and select the tract\n",
    "isolatedStarSourcesFull = butler.get(\"isolated_star_sources\", tract=tract)\n",
    "#isolatedStarSourcesFull = isolatedStarSourcesFull[isolatedStarSourcesFull[\"band\"] == band]"
   ]
  },
  {
   "cell_type": "code",
   "execution_count": null,
   "id": "450bca82-7431-4b60-b85c-b110197285e5",
   "metadata": {},
   "outputs": [],
   "source": [
    "tract"
   ]
  },
  {
   "cell_type": "code",
   "execution_count": null,
   "id": "de5544aa-e9dc-45bc-a172-a6592b0c4a57",
   "metadata": {},
   "outputs": [],
   "source": [
    "len(isolatedStarSourcesFull)"
   ]
  },
  {
   "cell_type": "code",
   "execution_count": null,
   "id": "6870648f-3609-440d-8eea-69885e264602",
   "metadata": {},
   "outputs": [],
   "source": [
    "# Just to have a look at what's in the catalog:\n",
    "isolatedStarSourcesFull[isolatedStarSourcesFull.index == 0]"
   ]
  },
  {
   "cell_type": "code",
   "execution_count": null,
   "id": "773ffada-3c31-4e62-b15b-b67926fc6c08",
   "metadata": {},
   "outputs": [],
   "source": [
    "isolatedStarSourcesFull.head()"
   ]
  },
  {
   "cell_type": "code",
   "execution_count": null,
   "id": "c5b25eeb-5b8c-4b49-b556-496198adf8a5",
   "metadata": {},
   "outputs": [],
   "source": [
    "isolatedStarSourcesFull.tail()"
   ]
  },
  {
   "cell_type": "code",
   "execution_count": null,
   "id": "1674462b-8b58-4dde-8086-5e7249ad7290",
   "metadata": {},
   "outputs": [],
   "source": [
    "isolatedStarSourcesFull.columns"
   ]
  },
  {
   "cell_type": "code",
   "execution_count": null,
   "id": "160b31e8-e76e-474e-adc5-4ad19833fd71",
   "metadata": {},
   "outputs": [],
   "source": [
    "#print(sorted(isolatedStarSourcesFull[\"visit\"].unique()))"
   ]
  },
  {
   "cell_type": "code",
   "execution_count": null,
   "id": "05cd1b17-9aea-4362-a278-97da5377d4c6",
   "metadata": {},
   "outputs": [],
   "source": [
    "# Just to have a look at what's in the catalog:\n",
    "isolatedStarSourcesFull[isolatedStarSourcesFull.index == 0]"
   ]
  },
  {
   "cell_type": "code",
   "execution_count": null,
   "id": "dadab2ff-40f2-4cb3-8048-d873c0b89f19",
   "metadata": {},
   "outputs": [],
   "source": [
    "print(\"calibFluxStr = {},,minSnCalibFlux = {}, minNumMatches = {}\".format(calibFluxStr,minSnCalibFlux,minNumMatches))"
   ]
  },
  {
   "cell_type": "markdown",
   "id": "da9344e8-96c4-4317-83c9-b65522db1c8b",
   "metadata": {},
   "source": [
    "## Select a number of visits with enough good sources but in all bands here\n",
    "\n",
    "- extract the list of known objects"
   ]
  },
  {
   "cell_type": "code",
   "execution_count": null,
   "id": "0894cc5c-0907-4a41-9927-492a871ec300",
   "metadata": {},
   "outputs": [],
   "source": [
    "calibFluxStr"
   ]
  },
  {
   "cell_type": "code",
   "execution_count": null,
   "id": "0c681a8d-2485-4f2e-b005-ee7d9a44a3be",
   "metadata": {},
   "outputs": [],
   "source": [
    "minSnCalibFlux"
   ]
  },
  {
   "cell_type": "code",
   "execution_count": null,
   "id": "60e9fbfd",
   "metadata": {},
   "outputs": [],
   "source": [
    "# Trim the isolated_star_sources cat to those PSF S/N > minSnCalibFlux\n",
    "# and number of matches sources > minNumMatches.\n",
    "objIndexListFull = list(set(isolatedStarSourcesFull[\"obj_index\"].values))\n",
    "\n",
    "# Select the bright stars above a minimum of S/N ratio\n",
    "if minSnCalibFlux is not None:\n",
    "    snCalibFlux = isolatedStarSourcesFull[calibFluxStr]/isolatedStarSourcesFull[calibFluxStr + \"Err\"]\n",
    "    snMask = snCalibFlux > minSnCalibFlux\n",
    "    isolatedStarSourcesMinSn = isolatedStarSourcesFull[snMask].copy(deep=True)\n",
    "else:\n",
    "    isolatedStarSourcesMinSn = isolatedStarSourcesFull.copy(deep=True)\n",
    "\n",
    "# object index with obj index in above selected bright selected star\n",
    "objIndexListMinSn = list(set(isolatedStarSourcesMinSn[\"obj_index\"].values))\n",
    "\n",
    "# requires that the object is associated to several sources (at least minNumMatches sources)\n",
    "# loop on object having sources with S/N aboe selection \n",
    "objIndexList = []\n",
    "for objIndex in objIndexListMinSn:\n",
    "    objData = isolatedStarSourcesMinSn[isolatedStarSourcesMinSn[\"obj_index\"] == objIndex]\n",
    "    if len(objData) >= minNumMatches:\n",
    "        objIndexList.append(objIndex)\n",
    "numTrimmed = len(objIndexListFull) - len(objIndexList)\n",
    "\n",
    "mask = []\n",
    "for objIndex, visit in zip(isolatedStarSourcesMinSn[\"obj_index\"], isolatedStarSourcesMinSn[\"visit\"]):\n",
    "    if objIndex in objIndexList:\n",
    "        mask.append(True)\n",
    "    else:\n",
    "        mask.append(False)\n",
    "isolatedStarSources = isolatedStarSourcesMinSn[mask].copy(deep=True)\n",
    "\n",
    "# Select a number of visits according quality criteria\n",
    "visitList = list(set(isolatedStarSources[\"visit\"].values))\n",
    "\n",
    "if minSnCalibFlux is not None:\n",
    "    print(\"Trimmed isolated_star_sources catalog to S/N {} > {} (leaving N={} matched sources from original {})\".format(\n",
    "        calibFluxStr, minSnCalibFlux, len(isolatedStarSources), len(isolatedStarSourcesFull)))\n",
    "print(\"Trimmed isolated_star_sources catalog to objecst with nMatches >= {} (leaving {} objects from {}).\".format(\n",
    "    minNumMatches, len(objIndexList), len(objIndexListFull)))"
   ]
  },
  {
   "cell_type": "code",
   "execution_count": null,
   "id": "0258c3d3-7781-4440-b1cb-40832fff1326",
   "metadata": {},
   "outputs": [],
   "source": [
    "sorted_visitList = sorted(visitList)\n",
    "#sorted_visitList "
   ]
  },
  {
   "cell_type": "code",
   "execution_count": null,
   "id": "b1566990-7330-4b3d-8433-c8b811df4dd9",
   "metadata": {},
   "outputs": [],
   "source": [
    "def convertVisitToDatestr(visit):\n",
    "\n",
    "    num = visit//100_000\n",
    "    year = num//10_000\n",
    "    month= (num-year*10_000)//100\n",
    "    day = (num-year*10_000-month*100)\n",
    "\n",
    "    year_str = str(year).zfill(4)\n",
    "    month_str = str(month).zfill(2)\n",
    "    day_str = str(day).zfill(2)\n",
    "    \n",
    "    datestr = f\"{year_str}-{month_str}-{day_str}\"\n",
    "    return datestr"
   ]
  },
  {
   "cell_type": "code",
   "execution_count": null,
   "id": "e78a9cdd-1906-4b11-90b6-ac09ca7689b1",
   "metadata": {},
   "outputs": [],
   "source": [
    "def convertVisitToMJD(visit):\n",
    "    return Time(convertVisitToDatestr(visit)).mjd"
   ]
  },
  {
   "cell_type": "code",
   "execution_count": null,
   "id": "ebfc17b1-4874-4343-accb-2d0763a0f677",
   "metadata": {},
   "outputs": [],
   "source": [
    "sorted_visits_mjd = list(map(convertVisitToMJD, sorted_visitList))"
   ]
  },
  {
   "cell_type": "markdown",
   "id": "93fecc9f-d378-4b8d-9625-1e54e499f1db",
   "metadata": {},
   "source": [
    "## sourceTable_visit\n",
    "\n",
    "This is the main output of FGCM calibration which has selected a number of sources. These sources were originally selected from isolated sources."
   ]
  },
  {
   "cell_type": "code",
   "execution_count": null,
   "id": "db71f9f1",
   "metadata": {},
   "outputs": [],
   "source": [
    "# Extra columns to load from sourceTable_visit catalogs\n",
    "names = [\"psfFlux\", \"psfFluxErr\", \"psfFlux_flag\", \"psfFlux_apCorr\", \"psfFlux_apCorrErr\",\n",
    "         \"extendedness\", \"detect_isPrimary\", \"deblend_skipped\",\n",
    "         \"gaussianFlux\", \"gaussianFluxErr\", \"gaussianFlux_flag\",\n",
    "         \"localPhotoCalib\", \"localPhotoCalibErr\", \"localPhotoCalib_flag\"]"
   ]
  },
  {
   "cell_type": "markdown",
   "id": "c208ad09-925e-4fcb-9ebf-5d9967886d5e",
   "metadata": {},
   "source": [
    "## Note that some sourceTable_visit not found for some visits in isolated_star_sources "
   ]
  },
  {
   "cell_type": "code",
   "execution_count": null,
   "id": "831061be-bb2c-48f5-8dda-82d66a25c71a",
   "metadata": {},
   "outputs": [],
   "source": [
    "#visitList"
   ]
  },
  {
   "cell_type": "code",
   "execution_count": null,
   "id": "638a0e06",
   "metadata": {},
   "outputs": [],
   "source": [
    "# Load in the sourceTable_visit catalogs to get the psfFlux and other useful info per source.\n",
    "# Columns loaded are those in names above.\n",
    "# The selected sources from the sourceTable_visit will go in a list inside the sourceCatalog\n",
    "sourceCatalogs = []\n",
    "nSourceDict = {}\n",
    "visitsToRemove = []\n",
    "\n",
    "# loop over all selected visit and load sourceTable_visit visit per visit\n",
    "for visit in visitList:\n",
    "    try:\n",
    "        sourceCatalogOrig = butler.get(\"sourceTable_visit\", visit=visit, parameters={\"columns\": names})\n",
    "        primaryCat = sourceCatalogOrig[sourceCatalogOrig[\"detect_isPrimary\"]].copy(deep=True)\n",
    "        nSourceDict[visit] = sum(primaryCat[\"psfFlux\"]/primaryCat[\"psfFluxErr\"] > 5)\n",
    "        sourceCatalogs.append(primaryCat)\n",
    "    except LookupError:\n",
    "        print(\"sourceTable_visit not found for visit {}\".format(visit))\n",
    "        isolatedStarSources = isolatedStarSources[isolatedStarSources[\"visit\"] != visit].copy(deep=True)\n",
    "        visitsToRemove.append(visit)\n",
    "visitList = list(set(visitList) - set(visitsToRemove))\n",
    "\n",
    "# Do the minNumMatches cut again since visits may have been removed due to lack of sourceTable_visit\n",
    "print(\"Number of objects with >=3 matches before sourceTable_visit exsistence check: {}\".format(len(objIndexList)))\n",
    "objIndexListAllNew = list(set(isolatedStarSources[\"obj_index\"].values))\n",
    "objIndexList = []\n",
    "for objIndex in objIndexListAllNew:\n",
    "    objData = isolatedStarSources[isolatedStarSources[\"obj_index\"] == objIndex]\n",
    "    if len(objData) >= minNumMatches:\n",
    "        objIndexList.append(objIndex)\n",
    "mask = []\n",
    "for objIndex, visit in zip(isolatedStarSources[\"obj_index\"], isolatedStarSources[\"visit\"]):\n",
    "    if objIndex in objIndexList:\n",
    "        mask.append(True)\n",
    "    else:\n",
    "        mask.append(False)\n",
    "isolatedStarSources = isolatedStarSources[mask].copy(deep=True)\n",
    "visitList = list(set(isolatedStarSources[\"visit\"].values))\n",
    "print(\"Number of objects with >=3 matches after sourceTable_visit exsistence check: {}\".format(len(objIndexList)))\n",
    "dataJoined = pd.concat(sourceCatalogs).merge(isolatedStarSources, on=\"sourceId\", how=\"inner\")"
   ]
  },
  {
   "cell_type": "code",
   "execution_count": null,
   "id": "ac91d0ce-2ac8-4f90-b315-bb7a97f9f44d",
   "metadata": {},
   "outputs": [],
   "source": [
    "len(sourceCatalogs)"
   ]
  },
  {
   "cell_type": "code",
   "execution_count": null,
   "id": "3d070e59-201a-4f3d-ad99-2b2ca3bd2e31",
   "metadata": {},
   "outputs": [],
   "source": [
    "#nSourceDict"
   ]
  },
  {
   "cell_type": "code",
   "execution_count": null,
   "id": "ba968c36-32ae-4124-80fc-69f6c115af2e",
   "metadata": {},
   "outputs": [],
   "source": [
    "#visitList"
   ]
  },
  {
   "cell_type": "code",
   "execution_count": null,
   "id": "b7a2acc3-cf74-4345-a293-c9d887f98eb9",
   "metadata": {},
   "outputs": [],
   "source": [
    "visitsToRemove "
   ]
  },
  {
   "cell_type": "markdown",
   "id": "da99b858-3add-4a24-8361-c61369ff31c8",
   "metadata": {
    "execution": {
     "iopub.execute_input": "2024-03-06T16:09:45.477682Z",
     "iopub.status.busy": "2024-03-06T16:09:45.477549Z",
     "iopub.status.idle": "2024-03-06T16:09:45.489584Z",
     "shell.execute_reply": "2024-03-06T16:09:45.489237Z",
     "shell.execute_reply.started": "2024-03-06T16:09:45.477669Z"
    }
   },
   "source": [
    "## Will start to work on dataJoined which associate selected \"isolated_star_sources\" in the selected band and visits the good calibration in \"sourceTable_visit\""
   ]
  },
  {
   "cell_type": "markdown",
   "id": "f219f59b-1c36-4bc1-aa41-ac481f96f74e",
   "metadata": {
    "execution": {
     "iopub.execute_input": "2024-02-29T10:26:18.613944Z",
     "iopub.status.busy": "2024-02-29T10:26:18.613360Z",
     "iopub.status.idle": "2024-02-29T10:26:18.648236Z",
     "shell.execute_reply": "2024-02-29T10:26:18.647844Z",
     "shell.execute_reply.started": "2024-02-29T10:26:18.613928Z"
    }
   },
   "source": [
    "### retrieve the CCD Visit Table\n",
    "\n",
    "- it provides airmass and initial zero-point"
   ]
  },
  {
   "cell_type": "code",
   "execution_count": null,
   "id": "cd30aa6b-e263-4e19-9ca3-b3c7c447b7fa",
   "metadata": {},
   "outputs": [],
   "source": [
    "ccdVisitTable = butler.get(\"ccdVisitTable\")"
   ]
  },
  {
   "cell_type": "code",
   "execution_count": null,
   "id": "3708af94-dfe9-4518-9409-0b723a72d732",
   "metadata": {},
   "outputs": [],
   "source": [
    "ccdVisitTable"
   ]
  },
  {
   "cell_type": "code",
   "execution_count": null,
   "id": "c579afda-9128-4bc6-a577-7cee07fe2111",
   "metadata": {},
   "outputs": [],
   "source": [
    "ccdVisitTable_subset = ccdVisitTable.iloc[:20][[\"visitId\",\"detector\",\"band\"]]\n",
    "ccdVisitTable_subset"
   ]
  },
  {
   "cell_type": "code",
   "execution_count": null,
   "id": "6e6ae010-b027-472f-8063-1514bb4152d4",
   "metadata": {},
   "outputs": [],
   "source": [
    "ccdVisitTable.groupby([\"visitId\",\"ccdVisitId\",\"detector\"]).size()"
   ]
  },
  {
   "cell_type": "code",
   "execution_count": null,
   "id": "de423eae-56bc-44e3-993c-d79bc15225d3",
   "metadata": {},
   "outputs": [],
   "source": [
    "for visit in visitList:\n",
    "    if visit in ccdVisitTable[\"visitId\"].values:\n",
    "        print(ccdVisitTable[ccdVisitTable[\"visitId\"] == visit][\"zeroPoint\"])\n",
    "        print(ccdVisitTable[ccdVisitTable[\"visitId\"] == visit][\"detector\"])\n",
    "        break"
   ]
  },
  {
   "cell_type": "code",
   "execution_count": null,
   "id": "85790b46-5b68-49e4-ae91-9ccf5dba5ce5",
   "metadata": {},
   "outputs": [],
   "source": [
    "ccdVisitTable[\"airmass\"] = ccdVisitTable[\"zenithDistance\"].apply(lambda x: 1/np.cos(np.pi/180.*x))\n",
    "ccdVisitTable[\"medianE\"] = np.sqrt(ccdVisitTable[\"psfStarDeltaE1Median\"] ** 2.0 + ccdVisitTable[\"psfStarDeltaE2Median\"] ** 2.0)"
   ]
  },
  {
   "cell_type": "code",
   "execution_count": null,
   "id": "b0db3e84",
   "metadata": {},
   "outputs": [],
   "source": [
    "# Collect useful columns from ccdVisitTable\n",
    "# This is wrong when we have several detectors per visit\n",
    "if 0:\n",
    "    visitsCCDToRemove = []\n",
    "\n",
    "    #Note there is one value per detector\n",
    "    psfSigmaDict = {}\n",
    "    skyBgDict = {}\n",
    "    skyNoiseDict = {}\n",
    "    expTimeDict = {}\n",
    "    expMidptMjdDict = {}\n",
    "    medianEDict = {}\n",
    "    psfStarScaledDeltaSizeScatterDict = {}\n",
    "    astromOffsetStdDict = {}\n",
    "    psfTraceRadiusDeltaDict = {}\n",
    "    zeroPointDict = {}\n",
    "    airmassDict = {}\n",
    "    seeingDict = {}\n",
    "\n",
    "    # for visit in ccdVisitTable[\"visitId\"].values:\n",
    "    #     if visit in visitList:\n",
    "    for visit in visitList:\n",
    "        if visit in ccdVisitTable[\"visitId\"].values:\n",
    "            psfSigmaDict[visit] = ccdVisitTable[ccdVisitTable[\"visitId\"] == visit][\"psfSigma\"].values[0]\n",
    "            skyBgDict[visit] = ccdVisitTable[ccdVisitTable[\"visitId\"] == visit][\"skyBg\"].values[0]\n",
    "            skyNoiseDict[visit] = ccdVisitTable[ccdVisitTable[\"visitId\"] == visit][\"skyNoise\"].values[0]\n",
    "            expTimeDict[visit] = ccdVisitTable[ccdVisitTable[\"visitId\"] == visit][\"expTime\"].values[0]\n",
    "            expMidptMjdDict[visit] = ccdVisitTable[ccdVisitTable[\"visitId\"] == visit][\"expMidptMJD\"].values[0]\n",
    "            medianEDict[visit] = ccdVisitTable[ccdVisitTable[\"visitId\"] == visit][\"medianE\"].values[0]\n",
    "            psfStarScaledDeltaSizeScatterDict[visit] = ccdVisitTable[ccdVisitTable[\"visitId\"] == visit][\"psfStarScaledDeltaSizeScatter\"].values[0]\n",
    "            astromOffsetStdDict[visit] = ccdVisitTable[ccdVisitTable[\"visitId\"] == visit][\"astromOffsetStd\"].values[0]\n",
    "            psfTraceRadiusDeltaDict[visit] = ccdVisitTable[ccdVisitTable[\"visitId\"] == visit][\"psfTraceRadiusDelta\"].values[0]\n",
    "            zeroPointDict[visit] = ccdVisitTable[ccdVisitTable[\"visitId\"] == visit][\"zeroPoint\"].values[0]\n",
    "            airmassDict[visit] = ccdVisitTable[ccdVisitTable[\"visitId\"] == visit][\"airmass\"].values[0]\n",
    "            seeingDict[visit] = ccdVisitTable[ccdVisitTable[\"visitId\"] == visit][\"seeing\"].values[0]\n",
    "\n",
    "        else:\n",
    "            #raise RuntimeError(\"ERROR: visit {} not found in ccdVisitTable\".format(visit))\n",
    "            print(\"ERROR: CCD visit {} not found in ccdVisitTable\".format(visit))\n",
    "            visitsCCDToRemove.append(visit) \n",
    "            psfSigmaDict[visit] = np.nan\n",
    "            skyBgDict[visit] = np.nan\n",
    "            skyNoiseDict[visit] = np.nan\n",
    "            expTimeDict[visit] = np.nan\n",
    "            expMidptMjdDict[visit] = np.nan\n",
    "            medianEDict[visit] = np.nan\n",
    "            psfStarScaledDeltaSizeScatterDict[visit] = np.nan\n",
    "            astromOffsetStdDict[visit] = np.nan\n",
    "            psfTraceRadiusDeltaDict[visit] = np.nan\n",
    "            zeroPointDict[visit] = np.nan\n",
    "            airmassDict[visit] = np.nan\n",
    "            seeingDict[visit] = np.nan"
   ]
  },
  {
   "cell_type": "code",
   "execution_count": null,
   "id": "fb0df495-7b6c-4955-bb9e-ce5e3adc6766",
   "metadata": {},
   "outputs": [],
   "source": [
    "#visitList"
   ]
  },
  {
   "cell_type": "code",
   "execution_count": null,
   "id": "072a0b02-b8ea-4e46-aab7-a43dfe6fa760",
   "metadata": {},
   "outputs": [],
   "source": [
    "#visitsToRemove "
   ]
  },
  {
   "cell_type": "code",
   "execution_count": null,
   "id": "fa595417",
   "metadata": {},
   "outputs": [],
   "source": [
    "# Just to have a look at what's in the catalog:\n",
    "#ccdVisitTable[ccdVisitTable.index == ccdVisitTable.index[0]] "
   ]
  },
  {
   "cell_type": "markdown",
   "id": "4f746c17-519f-4070-b4aa-3ea31f375350",
   "metadata": {},
   "source": [
    "### Plot visits versus time"
   ]
  },
  {
   "cell_type": "code",
   "execution_count": null,
   "id": "185d3e42-3c2d-4936-b36b-6c1d1871f8c1",
   "metadata": {},
   "outputs": [],
   "source": [
    "ccdVisitTable_subset = ccdVisitTable[[\"visitId\",\"band\",\"zeroPoint\",\"psfSigma\",\"skyBg\",\"skyNoise\",\"seeing\",\"expMidptMJD\",\"obsStart\",\"airmass\",\"llcra\",\"llcdec\",\"ulcra\",\"ulcdec\",\"urcra\",\"urcdec\",\"lrcra\",\"lrcdec\"]]"
   ]
  },
  {
   "cell_type": "markdown",
   "id": "ed21ff6e-0700-4aea-b2f3-ede77c64cfcb",
   "metadata": {},
   "source": [
    "#### compute nightObs and datetime time"
   ]
  },
  {
   "cell_type": "code",
   "execution_count": null,
   "id": "96469585-180b-45bb-8bc7-03d8b17d5cde",
   "metadata": {},
   "outputs": [],
   "source": [
    "ccdVisitTable_subset[\"nightObs\"] =ccdVisitTable_subset.apply(lambda x: x['visitId']//100_000, axis=1)\n",
    "ccdVisitTable_subset[\"Time\"] = pd.to_datetime(ccdVisitTable_subset['obsStart'])"
   ]
  },
  {
   "cell_type": "code",
   "execution_count": null,
   "id": "a2550a1a-3b0e-4e38-9a0a-96e7873aa117",
   "metadata": {},
   "outputs": [],
   "source": [
    "ccdVisitTable_g = ccdVisitTable_subset[ccdVisitTable_subset.band== \"g\"]\n",
    "ccdVisitTable_r = ccdVisitTable_subset[ccdVisitTable_subset.band== \"r\"]\n",
    "ccdVisitTable_i = ccdVisitTable_subset[ccdVisitTable_subset.band== \"i\"]\n",
    "ccdVisitTable_z = ccdVisitTable_subset[ccdVisitTable_subset.band== \"z\"]\n",
    "ccdVisitTable_y = ccdVisitTable_subset[ccdVisitTable_subset.band== \"y\"]"
   ]
  },
  {
   "cell_type": "code",
   "execution_count": null,
   "id": "cb4519a1-a9aa-491f-b894-f8c01368bb10",
   "metadata": {},
   "outputs": [],
   "source": [
    "ccdVisitTable_subset.head()"
   ]
  },
  {
   "cell_type": "code",
   "execution_count": null,
   "id": "2adfb6c4-c5a5-4652-aa66-0069524a5e05",
   "metadata": {},
   "outputs": [],
   "source": [
    "ccdVisitTable_subset.tail()"
   ]
  },
  {
   "cell_type": "markdown",
   "id": "60144129-4b5f-4584-8369-a38a91b7bf06",
   "metadata": {},
   "source": [
    "### Search for removed visit in CCD Visit Tables"
   ]
  },
  {
   "cell_type": "code",
   "execution_count": null,
   "id": "d0ff9eee-2b08-4192-8acb-4a89cdedb92a",
   "metadata": {},
   "outputs": [],
   "source": [
    "ccdVisitTable_subset[\"removed\"] = ccdVisitTable_subset[\"visitId\"].apply(lambda x: True if x in visitsToRemove else False) \n",
    "ccdVisitTable_subset_removed = ccdVisitTable_subset[ccdVisitTable_subset[\"removed\"]] \n",
    "ccdVisitTable_subset_removed "
   ]
  },
  {
   "cell_type": "markdown",
   "id": "a9d427f2-1c66-404c-a4ff-cf2297ba0499",
   "metadata": {},
   "source": [
    "#### Thus the visit IN isolated-star_sources and MISSING in sourceTable are also NOT in ccdVisitTable !!!"
   ]
  },
  {
   "cell_type": "code",
   "execution_count": null,
   "id": "9ec1948a-7d9f-4f00-8c5e-a5bed1a0a2d6",
   "metadata": {},
   "outputs": [],
   "source": [
    "# function of time conversion\n",
    "from astropy.time import Time\n",
    "\n",
    "def dt_to_mjd(dt):\n",
    "    t = Time(dt)\n",
    "    return t.to_value('mjd','float')\n",
    "\n",
    "def mjd_to_dt(mjd):\n",
    "    tm = Time(mjd, format='mjd')\n",
    "    # Convert to datetime\n",
    "    utc =tm.to_datetime()\n",
    "    return utc"
   ]
  },
  {
   "cell_type": "code",
   "execution_count": null,
   "id": "d2997460-053c-41ee-a7ee-fe3e3ec3dd1f",
   "metadata": {},
   "outputs": [],
   "source": [
    "dt = ccdVisitTable_subset.iloc[0]['Time']\n",
    "dt"
   ]
  },
  {
   "cell_type": "code",
   "execution_count": null,
   "id": "4fff423a-2b28-4284-94ae-4606b42e94de",
   "metadata": {},
   "outputs": [],
   "source": [
    "type(dt)"
   ]
  },
  {
   "cell_type": "code",
   "execution_count": null,
   "id": "e98adce6-3e7b-4800-9cef-8e113cbc6a67",
   "metadata": {},
   "outputs": [],
   "source": [
    "mjd = dt_to_mjd(dt)\n",
    "mjd"
   ]
  },
  {
   "cell_type": "code",
   "execution_count": null,
   "id": "15d8d330-2fcc-4d6a-a135-dbfdf0dd5de2",
   "metadata": {},
   "outputs": [],
   "source": [
    "tm = mjd_to_dt(mjd)"
   ]
  },
  {
   "cell_type": "code",
   "execution_count": null,
   "id": "51511042-acd8-4801-88fb-5515e895ead0",
   "metadata": {},
   "outputs": [],
   "source": [
    "#ax.secondary_xaxis?"
   ]
  },
  {
   "cell_type": "code",
   "execution_count": null,
   "id": "edd57de3-2a1f-40e6-bf96-2b021cf83cb0",
   "metadata": {
    "scrolled": true
   },
   "outputs": [],
   "source": [
    "from matplotlib.dates import DateFormatter\n",
    "date_form = DateFormatter(\"%y-%m-%dT%H:%M\")\n",
    "\n",
    "fig,axs = plt.subplots(3,1,figsize=(16,10))\n",
    "ax1,ax2,ax3 = axs\n",
    "ccdVisitTable_g.plot(x=\"Time\",y=\"zeroPoint\",marker='+',c=\"g\",lw=0.0,ax=ax1,grid=True,label=\"g\")\n",
    "ccdVisitTable_r.plot(x=\"Time\",y=\"zeroPoint\",marker='+',c=\"r\",lw=0.0,ax=ax1,grid=True,label=\"r\")\n",
    "ccdVisitTable_i.plot(x=\"Time\",y=\"zeroPoint\",marker='+',c=\"orange\",lw=0.0,ax=ax1,grid=True,label=\"i\")\n",
    "ccdVisitTable_z.plot(x=\"Time\",y=\"zeroPoint\",marker='+',c=\"grey\",lw=0.0,ax=ax1,grid=True,label=\"z\")\n",
    "ccdVisitTable_g.plot(x=\"Time\",y=\"zeroPoint\",marker='+',c=\"k\",lw=0.0,ax=ax1,grid=True,label=\"y\")\n",
    "ax1.set_ylabel(\"zeroPoint\")\n",
    "ax1.xaxis.set_major_formatter(date_form)\n",
    "#ax1_up = ax1.secondary_xaxis(\"top\", functions=( dt_to_mjd, mjd_to_dt))\n",
    "#ccdVisitTable_g.plot(x=\"expMidptMJD\",y=\"zeroPoint\",marker='+',c=\"g\",lw=0.0,ax=ax1_up,grid=True,label=\"g\")\n",
    "\n",
    "\n",
    "ccdVisitTable_g.plot(x=\"Time\",y=\"airmass\",marker='+',c=\"g\",lw=0.0,ax=ax2,grid=True,label=\"g\")\n",
    "ccdVisitTable_r.plot(x=\"Time\",y=\"airmass\",marker='+',c=\"r\",lw=0.0,ax=ax2,grid=True,label=\"r\")\n",
    "ccdVisitTable_i.plot(x=\"Time\",y=\"airmass\",marker='+',c=\"orange\",lw=0.0,ax=ax2,grid=True,label=\"i\")\n",
    "ccdVisitTable_z.plot(x=\"Time\",y=\"airmass\",marker='+',c=\"grey\",lw=0.0,ax=ax2,grid=True,label=\"z\")\n",
    "ccdVisitTable_y.plot(x=\"Time\",y=\"airmass\",marker='+',c=\"k\",lw=0.0,ax=ax2,grid=True,label=\"y\")\n",
    "ax2.set_ylabel(\"airmass\")\n",
    "ax2.xaxis.set_major_formatter(date_form)\n",
    "\n",
    "ccdVisitTable_g.plot(x=\"Time\",y=\"seeing\",marker='+',c=\"g\",lw=0.0,ax=ax3,grid=True,label=\"g\")\n",
    "ccdVisitTable_r.plot(x=\"Time\",y=\"seeing\",marker='+',c=\"r\",lw=0.0,ax=ax3,grid=True,label=\"r\")\n",
    "ccdVisitTable_i.plot(x=\"Time\",y=\"seeing\",marker='+',c=\"orange\",lw=0.0,ax=ax3,grid=True,label=\"i\")\n",
    "ccdVisitTable_z.plot(x=\"Time\",y=\"seeing\",marker='+',c=\"grey\",lw=0.0,ax=ax3,grid=True,label=\"z\")\n",
    "ccdVisitTable_y.plot(x=\"Time\",y=\"seeing\",marker='+',c=\"k\",lw=0.0,ax=ax3,grid=True,label=\"y\")\n",
    "ax3.set_ylabel(\"seeing\")\n",
    "ax3.xaxis.set_major_formatter(date_form)\n",
    "\n",
    "\n",
    "\n",
    "\n",
    "#df.plot(x=\"Time\",y=\"coord_dec\",marker='o',c=\"g\",lw=0.0,ax=ax2,grid=True)\n",
    "plt.suptitle(suptitle,y=1.0,fontsize=16)\n",
    "plt.tight_layout()\n",
    "\n"
   ]
  },
  {
   "cell_type": "code",
   "execution_count": null,
   "id": "2ca506df-6842-4f41-b5f1-b33e1b0d4306",
   "metadata": {},
   "outputs": [],
   "source": [
    "fig,axs = plt.subplots(3,1,figsize=(10,16))\n",
    "ax1,ax2,ax3 = axs\n",
    "ccdVisitTable_g.plot(x=\"airmass\",y=\"zeroPoint\",marker='+',c=\"g\",lw=0.0,ax=ax1,grid=True,label=\"g\")\n",
    "ccdVisitTable_r.plot(x=\"airmass\",y=\"zeroPoint\",marker='+',c=\"r\",lw=0.0,ax=ax1,grid=True,label=\"r\")\n",
    "ccdVisitTable_i.plot(x=\"airmass\",y=\"zeroPoint\",marker='+',c=\"orange\",lw=0.0,ax=ax1,grid=True,label=\"i\")\n",
    "ccdVisitTable_z.plot(x=\"airmass\",y=\"zeroPoint\",marker='+',c=\"grey\",lw=0.0,ax=ax1,grid=True,label=\"z\")\n",
    "ccdVisitTable_y.plot(x=\"airmass\",y=\"zeroPoint\",marker='+',c=\"k\",lw=0.0,ax=ax1,grid=True,label=\"y\")\n",
    "ax1.set_ylabel(\"zeroPoint vs airmass\")\n",
    "#ax1_up = ax1.secondary_xaxis(\"top\", functions=( dt_to_mjd, mjd_to_dt))\n",
    "#ccdVisitTable_g.plot(x=\"expMidptMJD\",y=\"zeroPoint\",marker='+',c=\"g\",lw=0.0,ax=ax1_up,grid=True,label=\"g\")\n",
    "\n",
    "ccdVisitTable_g.plot(x=\"seeing\",y=\"zeroPoint\",marker='+',c=\"g\",lw=0.0,ax=ax2,grid=True,label=\"g\")\n",
    "ccdVisitTable_r.plot(x=\"seeing\",y=\"zeroPoint\",marker='+',c=\"r\",lw=0.0,ax=ax2,grid=True,label=\"r\")\n",
    "ccdVisitTable_i.plot(x=\"seeing\",y=\"zeroPoint\",marker='+',c=\"orange\",lw=0.0,ax=ax2,grid=True,label=\"i\")\n",
    "ccdVisitTable_z.plot(x=\"seeing\",y=\"zeroPoint\",marker='+',c=\"grey\",lw=0.0,ax=ax2,grid=True,label=\"z\")\n",
    "ccdVisitTable_y.plot(x=\"seeing\",y=\"zeroPoint\",marker='+',c=\"k\",lw=0.0,ax=ax2,grid=True,label=\"y\")\n",
    "ax2.set_ylabel(\"zero point vs seeing\")\n",
    "\n",
    "ccdVisitTable_g.plot(x=\"airmass\",y=\"seeing\",marker='+',c=\"g\",lw=0.0,ax=ax3,grid=True,label=\"g\")\n",
    "ccdVisitTable_r.plot(x=\"airmass\",y=\"seeing\",marker='+',c=\"r\",lw=0.0,ax=ax3,grid=True,label=\"r\")\n",
    "ccdVisitTable_i.plot(x=\"airmass\",y=\"seeing\",marker='+',c=\"orange\",lw=0.0,ax=ax3,grid=True,label=\"i\")\n",
    "ccdVisitTable_z.plot(x=\"airmass\",y=\"seeing\",marker='+',c=\"grey\",lw=0.0,ax=ax3,grid=True,label=\"z\")\n",
    "ccdVisitTable_y.plot(x=\"airmass\",y=\"seeing\",marker='+',c=\"k\",lw=0.0,ax=ax3,grid=True,label=\"y\")\n",
    "ax3.set_ylabel(\"seeing vs airmass\")\n",
    "\n",
    "#df.plot(x=\"Time\",y=\"coord_dec\",marker='o',c=\"g\",lw=0.0,ax=ax2,grid=True)\n",
    "plt.suptitle(suptitle,y=1.0,fontsize=16)\n",
    "plt.tight_layout()"
   ]
  },
  {
   "cell_type": "markdown",
   "id": "45865071-6c19-4de1-9aae-a212de7727ee",
   "metadata": {},
   "source": [
    "## Come-back to dataJoined"
   ]
  },
  {
   "cell_type": "code",
   "execution_count": null,
   "id": "7e850a5f-6297-4438-9e0b-735b25229cc5",
   "metadata": {},
   "outputs": [],
   "source": [
    "dataJoined.columns"
   ]
  },
  {
   "cell_type": "markdown",
   "id": "2741477a-1b8d-4a6c-9b3f-9a4fa81d4b34",
   "metadata": {},
   "source": [
    "### recalculate sources properties inside dataJoined before adding CCDVisit info"
   ]
  },
  {
   "cell_type": "code",
   "execution_count": null,
   "id": "6d2b44a3-d5f2-4a6c-9116-404f0f9abd14",
   "metadata": {},
   "outputs": [],
   "source": [
    "# Add columns into dataJoined table to have them all in one place\n",
    "dataJoined[\"psfSn\"] = dataJoined[\"psfFlux\"]/dataJoined[\"psfFluxErr\"]\n",
    "dataJoined[\"psfMag\"] = (dataJoined[\"psfFlux\"].values*u.nJy).to(u.ABmag).value\n",
    "dataJoined[\"psfMagErr\"] = 2.5/np.log(10.0)*(dataJoined[\"psfFluxErr\"].values/dataJoined[\"psfFlux\"].values)\n",
    "\n",
    "#dataJoined[\"apFlux_35_0_calFlux\"] = dataJoined[\"apFlux_35_0_instFlux\"]*dataJoined[\"localPhotoCalib\"]\n",
    "#dataJoined[\"apFlux_35_0_calFluxErr\"] = dataJoined[\"apFlux_35_0_instFluxErr\"]*dataJoined[\"localPhotoCalib\"]\n",
    "# This is the way to apply aperture corrections :\n",
    "dataJoined[calibFluxCalStr] = dataJoined[calibFluxStr]*dataJoined[\"localPhotoCalib\"]\n",
    "dataJoined[calibFluxCalErrStr] = dataJoined[calibFluxErrStr]*dataJoined[\"localPhotoCalib\"]\n",
    "\n",
    "#dataJoined[calibFluxStr] = (dataJoined[calibFluxStr].values*u.nJy).to(u.ABmag).value\n",
    "#dataJoined[calibFluxStr] = 2.5/np.log(10.0)*(dataJoined[calibFluxStr].values/dataJoined[calibFluxStr].values)\n",
    "dataJoined[calibFluxCalMagStr] = (dataJoined[calibFluxCalStr].values*u.nJy).to(u.ABmag).value\n",
    "dataJoined[calibFluxCalMagErrStr] = 2.5/np.log(10.0)*(dataJoined[calibFluxCalErrStr].values/dataJoined[calibFluxCalStr].values)\n",
    "\n",
    "# NOTE: psfFlux is the fgcm calibrated flux.  I'm pretty sure you get the \"instrumental\" \n",
    "# flux by dividing psfFlux by the localPhotoCalib value.\n",
    "dataJoined[\"psfInstMag\"] = ((dataJoined[\"psfFlux\"].values/dataJoined[\"localPhotoCalib\"].values)*u.nJy).to(u.ABmag).value\n",
    "dataJoined[\"psfGausFluxRatio\"] = dataJoined[\"psfFlux\"]/dataJoined[\"gaussianFlux\"]"
   ]
  },
  {
   "cell_type": "markdown",
   "id": "c4bd598b-3dee-4d11-8542-887075cb1203",
   "metadata": {},
   "source": [
    "### Extract info from CCDVisit"
   ]
  },
  {
   "cell_type": "code",
   "execution_count": null,
   "id": "f145354d-3760-44e8-8195-181fa5ba344a",
   "metadata": {},
   "outputs": [],
   "source": [
    "# Example of apply function format  that does what we expect\n",
    "# dataJoined[[\"ra\",\"dec\"]].apply(lambda x: pd.Series([x[\"ra\"], x[\"dec\"]], index=['ra_2', 'dec_2']), axis=1)"
   ]
  },
  {
   "cell_type": "code",
   "execution_count": null,
   "id": "639ab1e4-2944-488e-8019-a48d1e586e6b",
   "metadata": {},
   "outputs": [],
   "source": [
    "# Example of function calculating in which detector is the source\n",
    "def findCCDVisitPerSource(x):\n",
    "    \"\"\"\n",
    "    Find the CCD visit cooresponding to that source\n",
    "    \"\"\"\n",
    "    visitId = x[\"visit\"]\n",
    "    ra0 = x[\"ra\"]\n",
    "    dec0 = x [\"dec\"]\n",
    "    ccd_visit_table_forthatvisit = ccdVisitTable[ccdVisitTable.visitId == visitId]\n",
    "    ccd_visit_table_forthatvisit[\"select\"] =  ccd_visit_table_forthatvisit.apply(lambda x :  is_in_polygon(ra0,dec0,(x[\"llcra\"],x[\"llcdec\"]), (x[\"lrcra\"],x[\"lrcdec\"]), (x[\"urcra\"],x[\"urcdec\"]),(x[\"ulcra\"],x[\"ulcdec\"])),axis=1)\n",
    "    ccd_visit_table_forthatvisit = ccd_visit_table_forthatvisit[ccd_visit_table_forthatvisit[\"select\"]] \n",
    "    ccd_visit_table_forthatvisit[\"dra\"] = ra0 - ccd_visit_table_forthatvisit[\"ra\"] \n",
    "    ccd_visit_table_forthatvisit[\"ddec\"] = dec0 - ccd_visit_table_forthatvisit[\"dec\"] \n",
    "    ccd_visit_table_forthatvisit.reset_index(inplace=True)\n",
    "    ccd_visit_table_forthatvisit.rename(columns = {'ccdVisitId':'ccd_ccdVisitId',\"visitId\": \"ccd_visitId\",\"band\":\"ccd_band\",\"detector\":\"ccd_detector\"}, inplace = True) \n",
    "    ccd_visit_table_forthatvisit.drop(columns = [\"physical_filter\",\"ra\",\"dec\",\"select\"],inplace=True)\n",
    "    \n",
    "    assert len(ccd_visit_table_forthatvisit == 1)\n",
    "    # Convert the dataframe into a pandas series\n",
    "    # Do not do ccd_visit_table_forthatvisit.T\n",
    "    ser =  ccd_visit_table_forthatvisit.iloc[0,:]\n",
    "    ser.name = \"ccd_visit_table_forthatvisit\"\n",
    "    return ser"
   ]
  },
  {
   "cell_type": "code",
   "execution_count": null,
   "id": "ffb47d0e-6891-4c3c-b615-956c6e871930",
   "metadata": {},
   "outputs": [],
   "source": [
    "dataJoined_subset = dataJoined.iloc[:10]\n",
    "dataJoined_subset_toadd = dataJoined_subset.apply(findCCDVisitPerSource,axis=1)\n",
    "dataJoined_subset_toadd"
   ]
  },
  {
   "cell_type": "code",
   "execution_count": null,
   "id": "43637f9c-58fc-4941-81c0-ae721be3d950",
   "metadata": {},
   "outputs": [],
   "source": [
    "dataJoined_subset_toadd"
   ]
  },
  {
   "cell_type": "code",
   "execution_count": null,
   "id": "0b0a3057-b062-4ccb-8a5f-d2a45e0c5109",
   "metadata": {},
   "outputs": [],
   "source": [
    "dataJoined_subset.join(dataJoined_subset_toadd) "
   ]
  },
  {
   "cell_type": "markdown",
   "id": "d5f52d89-16d0-4e38-a270-bc32e93a52e7",
   "metadata": {},
   "source": [
    "### Extract the columns from the CCDVisitTable corresponding to each row of dataJoined"
   ]
  },
  {
   "cell_type": "code",
   "execution_count": null,
   "id": "4378253d-0871-4bf4-8e08-7ac320add103",
   "metadata": {},
   "outputs": [],
   "source": [
    "dataJoined_toadd = dataJoined.apply(findCCDVisitPerSource,axis=1)"
   ]
  },
  {
   "cell_type": "code",
   "execution_count": null,
   "id": "583a377c-ef16-44cc-b75c-0286a29884f5",
   "metadata": {},
   "outputs": [],
   "source": [
    "dataJoined = dataJoined.join(dataJoined_toadd) "
   ]
  },
  {
   "cell_type": "code",
   "execution_count": null,
   "id": "498af53a-e100-44af-a6ea-e7d2da5abed2",
   "metadata": {},
   "outputs": [],
   "source": [
    "dataJoined.plot.scatter(x=\"visit\",y=\"ccd_visitId\") "
   ]
  },
  {
   "cell_type": "code",
   "execution_count": null,
   "id": "2f2fd98b",
   "metadata": {},
   "outputs": [],
   "source": [
    "#dataJoined[\"psfSigma\"] = dataJoined.apply(lambda x: psfSigmaDict[x[\"visit\"]], axis=1)\n",
    "#dataJoined[\"skyBg\"] = dataJoined.apply(lambda x: skyBgDict[x[\"visit\"]], axis=1)\n",
    "#dataJoined[\"expTime\"] = dataJoined.apply(lambda x: expTimeDict[x[\"visit\"]], axis=1)\n",
    "#dataJoined[\"expMidptMjd\"] = dataJoined.apply(lambda x: expMidptMjdDict[x[\"visit\"]], axis=1)\n",
    "#dataJoined[\"nSource\"] = dataJoined.apply(lambda x: nSourceDict[x[\"visit\"]], axis=1)\n",
    "#dataJoined[\"medianE\"] = dataJoined.apply(lambda x: medianEDict[x[\"visit\"]], axis=1)\n",
    "#dataJoined[\"psfStarScaledDeltaSizeScatter\"] = dataJoined.apply(lambda x: psfStarScaledDeltaSizeScatterDict[x[\"visit\"]], axis=1)\n",
    "#dataJoined[\"astromOffsetStd\"] = dataJoined.apply(lambda x: astromOffsetStdDict[x[\"visit\"]], axis=1)\n",
    "#dataJoined[\"psfTraceRadiusDelta\"] = dataJoined.apply(lambda x: psfTraceRadiusDeltaDict[x[\"visit\"]], axis=1)\n",
    "\n",
    "# I add the airmass and zero-point I want to keep here\n",
    "#dataJoined[\"zeroPoint\"] = dataJoined.apply(lambda x: zeroPointDict[x[\"visit\"]], axis=1)\n",
    "#dataJoined[\"localPhotoCalib\"] = dataJoined.apply(lambda x: localPhotoCalibDict[x[\"visit\"]], axis=1)\n",
    "#dataJoined[\"airmass\"] = dataJoined.apply(lambda x: airmassDict[x[\"visit\"]], axis=1)\n",
    "#dataJoined[\"seeing\"] = dataJoined.apply(lambda x: seeingDict[x[\"visit\"]], axis=1)\n",
    "#dataJoined[\"DZP\"] = dataJoined.apply(lambda x: DZPDict[x[\"visit\"]], axis=1)\n",
    "\n",
    "matchedObjIdList = list(set(dataJoined[\"obj_index\"]))"
   ]
  },
  {
   "cell_type": "code",
   "execution_count": null,
   "id": "46757b52-79b5-40aa-8deb-5c3612f8c062",
   "metadata": {},
   "outputs": [],
   "source": [
    "matchedObjIdList = list(set(dataJoined[\"obj_index\"]))"
   ]
  },
  {
   "cell_type": "code",
   "execution_count": null,
   "id": "ddb12466",
   "metadata": {},
   "outputs": [],
   "source": [
    "dataJoined[dataJoined.index == 0]"
   ]
  },
  {
   "cell_type": "markdown",
   "id": "d9097dac-56de-482c-9d7a-3d83dcc83a3a",
   "metadata": {},
   "source": [
    "## The association between the independent sources is done through the object index \n",
    "\n",
    "- for plotting the repeatability"
   ]
  },
  {
   "cell_type": "code",
   "execution_count": null,
   "id": "1c5b85d8",
   "metadata": {},
   "outputs": [],
   "source": [
    "# Compute repeatability related values per object/object group and add\n",
    "# them inplace to the dataJoined DataFrame.\n",
    "psfMagDiffMmagDfList = []\n",
    "psfMagStdMmagAll = []\n",
    "psfMagStdMmagDict = {}\n",
    "psfMagDiffChiDfList = []\n",
    "psfSnAll = []\n",
    "raDiffMasDfList = []\n",
    "decDiffMasDfList = []\n",
    "raCosDecDiffMasDfList = []\n",
    "objRaDegList = []\n",
    "objDecDegList = []\n",
    "raStdMasAll = []\n",
    "decStdMasAll = []\n",
    "raCosDecStdMasAll = []\n",
    "objDataList = []\n",
    "\n",
    "# loop on objects\n",
    "for objIndex in matchedObjIdList:\n",
    "    # select sources corresponding to that object\n",
    "    objData = dataJoined[dataJoined[\"obj_index\"] == objIndex]\n",
    "    psfMag = objData[\"psfMag\"]\n",
    "    psfMagErr = objData[\"psfMagErr\"]\n",
    "\n",
    "    # average flux over all visits\n",
    "    clippedMeanMagArray = scipy.stats.sigmaclip(psfMag, low=3.0, high=3.0).clipped\n",
    "    clippedMeanMag = np.mean(clippedMeanMagArray)\n",
    "    clippedMeanMagErr = np.std(clippedMeanMagArray)/np.sqrt(len(clippedMeanMagArray))\n",
    "\n",
    "    # array of difference between flux an clipped mean average\n",
    "    psfMagDiffMmag = 1000*(psfMag - clippedMeanMag)\n",
    "    # sigma arrays over the difference\n",
    "    psfMagStdMmag = np.std(psfMagDiffMmag)\n",
    "    # residuals array\n",
    "    psfMagDiffChi = (psfMag - clippedMeanMag)/np.sqrt(psfMagErr**2 + clippedMeanMagErr**2)\n",
    "    \n",
    "    clippedMeanRaArray = scipy.stats.sigmaclip(objData[\"ra\"], low=3.0, high=3.0).clipped\n",
    "    clippedMeanRa = np.mean(clippedMeanRaArray)\n",
    "    raDiffMas = (objData[\"ra\"] - clippedMeanRa)*3600*1000\n",
    "    \n",
    "    clippedMeanDecArray = scipy.stats.sigmaclip(objData[\"dec\"], low=3.0, high=3.0).clipped\n",
    "    clippedMeanDec = np.mean(clippedMeanDecArray)\n",
    "    decDiffMas = (objData[\"dec\"] - clippedMeanDec)*3600*1000\n",
    "    \n",
    "    raCosDec = np.deg2rad(objData[\"ra\"])*np.cos(np.deg2rad(objData[\"dec\"]))\n",
    "    clippedMeanRaCosDecArray = scipy.stats.sigmaclip(raCosDec, low=3.0, high=3.0).clipped\n",
    "    clippedMeanRaCosDec = np.mean(clippedMeanRaCosDecArray)\n",
    "    raCosDecDiffRad = (raCosDec - clippedMeanRaCosDec)\n",
    "    raCosDecDiffMas = np.rad2deg(raCosDecDiffRad)*3600*1000\n",
    "\n",
    "    # save for all sources of the object\n",
    "    psfMagDiffMmagDfList.append(psfMagDiffMmag)\n",
    "    psfMagStdMmagAll.append(psfMagStdMmag)\n",
    "    psfMagDiffChiDfList.append(psfMagDiffChi)\n",
    "\n",
    "    raDiffMasDfList.append(raDiffMas)\n",
    "    decDiffMasDfList.append(decDiffMas)\n",
    "    raCosDecDiffMasDfList.append(raCosDecDiffMas)\n",
    "    \n",
    "    objRaDegList.append(clippedMeanRa)\n",
    "    objDecDegList.append(clippedMeanDec)\n",
    "\n",
    "    raStdMas = np.std(raDiffMas)\n",
    "    raStdMasAll.append(raStdMas)\n",
    "    decStdMas = np.std(decDiffMas)\n",
    "    decStdMasAll.append(decStdMas)\n",
    "    raCosDecStdMas = np.std(raCosDecDiffMas)\n",
    "    raCosDecStdMasAll.append(raCosDecStdMas)\n",
    "    psfMagStdMmagDict[objIndex] = psfMagStdMmag\n",
    "\n",
    "# concatenate over all objects - all sources\n",
    "psfMagDiffMmagDf = pd.concat(psfMagDiffMmagDfList)\n",
    "psfMagDiffChiDf = pd.concat(psfMagDiffChiDfList)\n",
    "raDiffMasDf = pd.concat(raDiffMasDfList)\n",
    "decDiffMasDf = pd.concat(decDiffMasDfList)\n",
    "raCosDecDiffMasDf = pd.concat(raCosDecDiffMasDfList)\n",
    "\n",
    "# add this common properties to each source in dataJoined\n",
    "dataJoined.loc[:, \"psfMagDiffMmag\"] = psfMagDiffMmagDf\n",
    "dataJoined.loc[:, \"psfMagDiffChi\"] = psfMagDiffChiDf\n",
    "dataJoined.loc[:, \"raDiffMas\"] = raDiffMasDf\n",
    "dataJoined.loc[:, \"decDiffMas\"] = decDiffMasDf\n",
    "dataJoined.loc[:, \"raCosDecDiffMas\"] = raCosDecDiffMasDf"
   ]
  },
  {
   "cell_type": "code",
   "execution_count": null,
   "id": "a8a83802",
   "metadata": {},
   "outputs": [],
   "source": [
    "dataJoined[dataJoined.index == 0]"
   ]
  },
  {
   "cell_type": "code",
   "execution_count": null,
   "id": "6e609b37-c7d5-4d62-94b4-b7c896816fc5",
   "metadata": {},
   "outputs": [],
   "source": [
    "dataJoined.head()"
   ]
  },
  {
   "cell_type": "markdown",
   "id": "b76e9a2c-5d83-44d4-b851-fde34a364f01",
   "metadata": {},
   "source": [
    "## Check the correlation between the flux psf and apperture flux\n",
    "\n",
    "### Compute DPZ"
   ]
  },
  {
   "cell_type": "code",
   "execution_count": null,
   "id": "a8490aeb-0320-44c5-a660-76909a1b961f",
   "metadata": {},
   "outputs": [],
   "source": [
    "#dataJoined[\"localPhotoCalibMag\"] = (dataJoined[\"localPhotoCalib\"].values*u.nJy).to(u.ABmag).value\n",
    "#dataJoined[\"DZP\"] = dataJoined[\"localPhotoCalibMag\"] - dataJoined[\"zeroPoint\"]"
   ]
  },
  {
   "cell_type": "code",
   "execution_count": null,
   "id": "9341f929-7aad-4ed0-80c6-3c01c285046f",
   "metadata": {},
   "outputs": [],
   "source": [
    "dataJoined[\"localPhotoCalibMag\"] = (dataJoined[\"localPhotoCalib\"].values*u.nJy).to(u.ABmag).value\n",
    "dataJoined[\"localPhotoCalibMagErr\"] =   2.5/np.log(10.0)*dataJoined[\"localPhotoCalibErr\"].values/dataJoined[\"localPhotoCalib\"].values\n",
    "dataJoined[\"DZP\"] = dataJoined[\"localPhotoCalibMag\"] - dataJoined[\"zeroPoint\"]"
   ]
  },
  {
   "cell_type": "markdown",
   "id": "d3822743-b788-4c8e-8c57-bef52eba9e39",
   "metadata": {
    "execution": {
     "iopub.execute_input": "2024-03-21T09:53:37.961103Z",
     "iopub.status.busy": "2024-03-21T09:53:37.960978Z",
     "iopub.status.idle": "2024-03-21T09:53:37.966760Z",
     "shell.execute_reply": "2024-03-21T09:53:37.963474Z",
     "shell.execute_reply.started": "2024-03-21T09:53:37.961092Z"
    }
   },
   "source": [
    "- The goal is to understand what flux is calibrated what flux is not calibrated "
   ]
  },
  {
   "cell_type": "code",
   "execution_count": null,
   "id": "dee63f10-268e-4bf0-bf6c-46bc8bdb792a",
   "metadata": {},
   "outputs": [],
   "source": [
    "dataJoined_subset = dataJoined[[\"obj_index\",\"sourceId\",\"band\",\"visit\",\"ra\",\"dec\",\"psfMag\",\"psfFlux\",\"gaussianFlux\",calibFluxCalStr,calibFluxCalMagStr,calibFluxStr,\"psfFlux_apCorr\",\n",
    "                                \"psfMagErr\",\"psfFluxErr\",\"gaussianFluxErr\",calibFluxCalErrStr,calibFluxCalMagErrStr,calibFluxErrStr,\"skyBg\",\"zeroPoint\",\"localPhotoCalib\",\"localPhotoCalibMag\",\"DZP\",\"localPhotoCalibMagErr\",\"x\",\"y\"]].copy()"
   ]
  },
  {
   "cell_type": "code",
   "execution_count": null,
   "id": "f799abc6-7b2c-4758-beb2-fee9ca89bb37",
   "metadata": {},
   "outputs": [],
   "source": [
    "dataJoined_subset.sort_values(by=[\"obj_index\",\"band\",\"visit\"])"
   ]
  },
  {
   "cell_type": "code",
   "execution_count": null,
   "id": "7ed4334a-0cfb-478c-a139-910a1d6397a2",
   "metadata": {},
   "outputs": [],
   "source": [
    "dataJoined_subset_g = dataJoined_subset[dataJoined_subset[\"band\"] == \"g\"]\n",
    "dataJoined_subset_r = dataJoined_subset[dataJoined_subset[\"band\"] == \"r\"]\n",
    "dataJoined_subset_i = dataJoined_subset[dataJoined_subset[\"band\"] == \"i\"]\n",
    "dataJoined_subset_z = dataJoined_subset[dataJoined_subset[\"band\"] == \"z\"]\n",
    "dataJoined_subset_y = dataJoined_subset[dataJoined_subset[\"band\"] == \"y\"]"
   ]
  },
  {
   "cell_type": "markdown",
   "id": "2d7ae684-28bf-46bd-a0b7-76f92413d9ec",
   "metadata": {},
   "source": [
    "### Histogram on calibration"
   ]
  },
  {
   "cell_type": "code",
   "execution_count": null,
   "id": "bbaada13-0018-4ddd-822f-9ef64563f1b9",
   "metadata": {},
   "outputs": [],
   "source": [
    "all_dpz_std = []\n",
    "all_labels = []\n",
    "fig,ax = plt.subplots(1,1,figsize=(8,6))\n",
    "\n",
    "std = dataJoined_subset_g[\"DZP\"].std()*1000\n",
    "label = f\"g, sig(DPZ) = {std:.2f} mmag\"\n",
    "all_dpz_std.append(std)\n",
    "all_labels.append(label) \n",
    "dataJoined_subset_g[\"DZP\"].plot.hist(bins=50,histtype=\"step\",density=True,ax=ax,color=\"g\",lw=2,label=label)\n",
    "\n",
    "std = dataJoined_subset_r[\"DZP\"].std()*1000\n",
    "label = f\"r, sig(DPZ) = {std:.2f} mmag\"\n",
    "all_dpz_std.append(std)\n",
    "all_labels.append(label) \n",
    "dataJoined_subset_r[\"DZP\"].plot.hist(bins=50,histtype=\"step\",density=True,ax=ax,color=\"r\",lw=2,label=label)\n",
    "\n",
    "std = dataJoined_subset_i[\"DZP\"].std()*1000\n",
    "label = f\"i, sig(DPZ) = {std:.2f} mmag\"\n",
    "all_dpz_std.append(std)\n",
    "all_labels.append(label) \n",
    "dataJoined_subset_i[\"DZP\"].plot.hist(bins=50,histtype=\"step\",density=True,ax=ax,color=\"orange\",lw=2,label=label)\n",
    "\n",
    "std = dataJoined_subset_z[\"DZP\"].std()*1000\n",
    "label = f\"z, sig(DPZ) = {std:.2f} mmag\"\n",
    "all_dpz_std.append(std)\n",
    "all_labels.append(label) \n",
    "dataJoined_subset_z[\"DZP\"].plot.hist(bins=50,histtype=\"step\",density=True,ax=ax,color=\"grey\",lw=2,label=label)\n",
    "\n",
    "std = dataJoined_subset_y[\"DZP\"].std()*1000\n",
    "label = f\"y, sig(DPZ) = {std:.2f} mmag\"\n",
    "all_dpz_std.append(std)\n",
    "all_labels.append(label) \n",
    "dataJoined_subset_y[\"DZP\"].plot.hist(bins=50,histtype=\"step\",density=True,ax=ax,color=\"k\",lw=2,label=label)\n",
    "\n",
    "ax.set_xlabel(\"DZP : localPhotoCalib - zeroPoint (mag)\")\n",
    "ax.set_xlim(-0.05,0.05)\n",
    "ax.grid()\n",
    "ax.legend()\n",
    "ax.set_title(\"Photometric calibration parameters: localPhotoCalib(sourceTable)-PZ(CCDvisitTable)\")\n",
    "plt.suptitle(suptitle,y=1.0,fontsize=8)\n",
    "plt.tight_layout()"
   ]
  },
  {
   "cell_type": "code",
   "execution_count": null,
   "id": "2d44fbd8-dde8-4840-a3eb-b13309258f21",
   "metadata": {},
   "outputs": [],
   "source": [
    "fig,axs = plt.subplots(1,5,figsize=(18,4),sharex=True,sharey=True)\n",
    "ax1,ax2,ax3,ax4,ax5 =axs\n",
    "dataJoined_subset_g.plot.scatter(x=\"psfMag\",y=\"DZP\",ax=ax1,color=\"g\",marker=\"+\",lw=1,label=\"g\",title=all_labels[0],grid=True,alpha=0.5)\n",
    "dataJoined_subset_r.plot.scatter(x=\"psfMag\",y=\"DZP\",ax=ax2,color=\"r\",marker=\"+\",lw=1,label=\"r\",title=all_labels[1],grid=True,alpha=0.5)\n",
    "dataJoined_subset_i.plot.scatter(x=\"psfMag\",y=\"DZP\",ax=ax3,color=\"orange\",marker=\"+\",lw=1,label=\"i\",title=all_labels[2],grid=True,alpha=0.5)\n",
    "dataJoined_subset_z.plot.scatter(x=\"psfMag\",y=\"DZP\",ax=ax4,color=\"grey\",marker=\"+\",lw=0.5,label=\"z\",title=all_labels[3],grid=True,alpha=0.5)\n",
    "dataJoined_subset_y.plot.scatter(x=\"psfMag\",y=\"DZP\",ax=ax5,color=\"k\",marker=\"+\",lw=0.5,label=\"y\",title=all_labels[4],grid=True,alpha=0.5)\n",
    "ax1.set_ylabel(\"DPZ (mag)\")\n",
    "plt.suptitle(suptitle,y=1.0,fontsize=8)\n",
    "plt.tight_layout()"
   ]
  },
  {
   "cell_type": "code",
   "execution_count": null,
   "id": "f7016367-dc31-48e1-95b8-0600faf7bfdc",
   "metadata": {},
   "outputs": [],
   "source": [
    "all_localPhotoCalibMagErr_aver = []\n",
    "all_labels = []\n",
    "\n",
    "aver = dataJoined_subset_g[\"localPhotoCalibMagErr\"].mean()*1000\n",
    "label = f\"g, aver(locPCalErr) = {aver:.2f} mmag\"\n",
    "all_localPhotoCalibMagErr_aver.append(std)\n",
    "all_labels.append(label) \n",
    "\n",
    "aver = dataJoined_subset_r[\"localPhotoCalibMagErr\"].mean()*1000\n",
    "label = f\"r, aver(locPCalErr) = {aver:.2f} mmag\"\n",
    "all_localPhotoCalibMagErr_aver.append(std)\n",
    "all_labels.append(label) \n",
    "\n",
    "aver = dataJoined_subset_i[\"localPhotoCalibMagErr\"].mean()*1000\n",
    "label = f\"i, aver(locPCalErr) = {aver:.2f} mmag\"\n",
    "all_localPhotoCalibMagErr_aver.append(std)\n",
    "all_labels.append(label) \n",
    "\n",
    "aver = dataJoined_subset_z[\"localPhotoCalibMagErr\"].mean()*1000\n",
    "label = f\"z, aver(locPCalErr) = {aver:.2f} mmag\"\n",
    "all_localPhotoCalibMagErr_aver.append(std)\n",
    "all_labels.append(label) \n",
    "\n",
    "aver = dataJoined_subset_y[\"localPhotoCalibMagErr\"].mean()*1000\n",
    "label = f\"y, aver(locPCalErr) = {aver:.2f} mmag\"\n",
    "all_localPhotoCalibMagErr_aver.append(std)\n",
    "all_labels.append(label) \n"
   ]
  },
  {
   "cell_type": "code",
   "execution_count": null,
   "id": "1eb3de59-9abf-4235-a9ee-12076ea03844",
   "metadata": {},
   "outputs": [],
   "source": [
    "fig,axs = plt.subplots(1,5,figsize=(18,4),sharex=True,sharey=True)\n",
    "ax1,ax2,ax3,ax4,ax5 =axs\n",
    "dataJoined_subset_g.plot.scatter(x=\"psfMag\",y=\"localPhotoCalibMagErr\",ax=ax1,color=\"g\",marker=\"+\",lw=1,label=\"g\",title=all_labels[0],grid=True,alpha=0.5)\n",
    "dataJoined_subset_r.plot.scatter(x=\"psfMag\",y=\"localPhotoCalibMagErr\",ax=ax2,color=\"r\",marker=\"+\",lw=1,label=\"r\",title=all_labels[1],grid=True,alpha=0.5)\n",
    "dataJoined_subset_i.plot.scatter(x=\"psfMag\",y=\"localPhotoCalibMagErr\",ax=ax3,color=\"orange\",marker=\"+\",lw=1,label=\"i\",title=all_labels[2],grid=True,alpha=0.5)\n",
    "dataJoined_subset_z.plot.scatter(x=\"psfMag\",y=\"localPhotoCalibMagErr\",ax=ax4,color=\"grey\",marker=\"+\",lw=0.5,label=\"z\",title=all_labels[3],grid=True,alpha=0.5)\n",
    "dataJoined_subset_y.plot.scatter(x=\"psfMag\",y=\"localPhotoCalibMagErr\",ax=ax5,color=\"k\",marker=\"+\",lw=0.5,label=\"y\",title=all_labels[4],grid=True,alpha=0.5)\n",
    "ax1.set_ylabel(\"localPhotoCalibMagErr (mag)\")\n",
    "ax1.set_ylim(0.,0.01)\n",
    "plt.suptitle(suptitle,y=1.0,fontsize=8)\n",
    "plt.tight_layout()"
   ]
  },
  {
   "cell_type": "markdown",
   "id": "c9f99d40-e109-4a04-9d21-ebef80ba2d6d",
   "metadata": {},
   "source": [
    "## Non uniformity on CCD"
   ]
  },
  {
   "cell_type": "code",
   "execution_count": null,
   "id": "7f0bfb30-eedc-43dc-a4d5-77f7a10d29cd",
   "metadata": {},
   "outputs": [],
   "source": [
    "fig,axs = plt.subplots(2,3,figsize=(18,8))\n",
    "ax1,ax2,ax3,ax4,ax5 = axs[0,0], axs[0,1],axs[0,2],axs[1,0],axs[1,1]\n",
    "\n",
    "std = dataJoined_subset_g[\"DZP\"].std()*1000\n",
    "label = f\"g, sig(DPZ) = {std:.2f} mmag\"\n",
    "dataJoined_subset_g.plot.scatter(x=\"x\",y=\"y\",ax=ax1,marker=\"+\",lw=1,c=\"DZP\",cmap=\"seismic\",label=\"g\",title=label,grid=True,alpha=1,colorbar=True,vmin=-0.05,vmax=0.05)\n",
    "ax1.set_aspect(\"equal\")\n",
    "\n",
    "std = dataJoined_subset_r[\"DZP\"].std()*1000\n",
    "label = f\"r, sig(DPZ) = {std:.2f} mmag\"\n",
    "dataJoined_subset_r.plot.scatter(x=\"x\",y=\"y\",ax=ax2,marker=\"+\",lw=1,c=\"DZP\",cmap=\"seismic\",label=\"r\",title=label,grid=True,alpha=1,colorbar=True,vmin=-0.05,vmax=0.05)\n",
    "ax2.set_aspect(\"equal\")\n",
    "\n",
    "std = dataJoined_subset_i[\"DZP\"].std()*1000\n",
    "label = f\"i, sig(DPZ) = {std:.2f} mmag\"\n",
    "dataJoined_subset_i.plot.scatter(x=\"x\",y=\"y\",ax=ax3,marker=\"+\",lw=1,c=\"DZP\",cmap=\"seismic\",label=\"i\",title=label,grid=True,alpha=1,colorbar=True,vmin=-0.05,vmax=0.05)\n",
    "ax3.set_aspect(\"equal\")\n",
    "\n",
    "std = dataJoined_subset_z[\"DZP\"].std()*1000\n",
    "label = f\"z, sig(DPZ) = {std:.2f} mmag\"\n",
    "dataJoined_subset_z.plot.scatter(x=\"x\",y=\"y\",ax=ax4,marker=\"+\",lw=1,c=\"DZP\",cmap=\"seismic\",label=\"z\",title=label,grid=True,alpha=1,colorbar=True,vmin=-0.05,vmax=0.05)\n",
    "ax4.set_aspect(\"equal\")\n",
    "\n",
    "\n",
    "std = dataJoined_subset_y[\"DZP\"].std()*1000\n",
    "label = f\"y, sig(DPZ) = {std:.2f} mmag\"\n",
    "dataJoined_subset_y.plot.scatter(x=\"x\",y=\"y\",ax=ax5,marker=\"+\",lw=1,c=\"DZP\",cmap=\"seismic\",label=\"z\",title=label,grid=True,alpha=1,colorbar=True,vmin=-0.05,vmax=0.05)\n",
    "ax5.set_aspect(\"equal\")\n",
    "\n",
    "\n",
    "plt.suptitle(suptitle)\n",
    "plt.tight_layout()"
   ]
  },
  {
   "cell_type": "markdown",
   "id": "35f3cbd2-8a62-4fd0-bbfc-1538a183085c",
   "metadata": {},
   "source": [
    "### Check visit by visit in each filter"
   ]
  },
  {
   "cell_type": "code",
   "execution_count": null,
   "id": "010c8db8-9554-46c1-837a-fa1ad39c2070",
   "metadata": {},
   "outputs": [],
   "source": [
    "NROWS = 10\n",
    "NCOLS = 3\n",
    "NIMGS = NROWS*NCOLS\n",
    "index0 = 0"
   ]
  },
  {
   "cell_type": "markdown",
   "id": "813a5886-1a5b-40f7-8225-c24e4f234221",
   "metadata": {},
   "source": [
    "#### In green filter"
   ]
  },
  {
   "cell_type": "code",
   "execution_count": null,
   "id": "b7b1cc3a-67d8-46bf-ae7c-a60aa67687cd",
   "metadata": {},
   "outputs": [],
   "source": [
    "listofvisits = dataJoined_subset_g[\"visit\"].unique()\n",
    "listofvisits = sorted(listofvisits)"
   ]
  },
  {
   "cell_type": "code",
   "execution_count": null,
   "id": "fb7ea5ae-4a2f-412c-9fc9-92ed00f53873",
   "metadata": {},
   "outputs": [],
   "source": [
    "fig,axs = plt.subplots(NROWS,NCOLS,figsize=(NCOLS*3,NROWS*3))\n",
    "for index,ax in enumerate(axs.flatten()):\n",
    "    the_visit = listofvisits[index]\n",
    "    df =  dataJoined_subset_g[dataJoined_subset_g[\"visit\"] == the_visit ]\n",
    "    std = df[\"DZP\"].std()*1000\n",
    "    label = f\"{the_visit},{std:.2f}\"\n",
    "    df.plot.scatter(x=\"x\",y=\"y\",ax=ax,marker=\"o\",lw=1,c=\"DZP\",cmap=\"seismic\",title=label,grid=True,alpha=1,colorbar=False,vmin=-0.05,vmax=0.05)\n",
    "    ax.set_aspect(\"equal\")\n",
    "\n",
    "plt.suptitle(suptitle)\n",
    "plt.tight_layout()"
   ]
  },
  {
   "cell_type": "markdown",
   "id": "94a3e4e6-bd26-41f3-aa21-90d425488f32",
   "metadata": {},
   "source": [
    "### In red filter"
   ]
  },
  {
   "cell_type": "code",
   "execution_count": null,
   "id": "55dcc11b-95bc-4fe5-92f2-be3622910dc6",
   "metadata": {},
   "outputs": [],
   "source": [
    "listofvisits = dataJoined_subset_r[\"visit\"].unique()\n",
    "listofvisits = sorted(listofvisits)"
   ]
  },
  {
   "cell_type": "code",
   "execution_count": null,
   "id": "4af03e33-41a4-4aef-990b-12e87af8132c",
   "metadata": {},
   "outputs": [],
   "source": [
    "fig,axs = plt.subplots(NROWS,NCOLS,figsize=(NCOLS*3,NROWS*3))\n",
    "for index,ax in enumerate(axs.flatten()):\n",
    "    the_visit = listofvisits[index]\n",
    "    df =  dataJoined_subset_r[dataJoined_subset_r[\"visit\"] == the_visit ]\n",
    "    std = df[\"DZP\"].std()*1000\n",
    "    label = f\"{the_visit},{std:.2f}\"\n",
    "    df.plot.scatter(x=\"x\",y=\"y\",ax=ax,marker=\"o\",lw=1,c=\"DZP\",cmap=\"seismic\",title=label,grid=True,alpha=1,colorbar=False,vmin=-0.05,vmax=0.05)\n",
    "    ax.set_aspect(\"equal\")\n",
    "\n",
    "plt.suptitle(suptitle)\n",
    "plt.tight_layout()"
   ]
  },
  {
   "cell_type": "markdown",
   "id": "6ac1a22a-7817-473f-b27f-1e030c66323d",
   "metadata": {},
   "source": [
    "## In Z filter"
   ]
  },
  {
   "cell_type": "code",
   "execution_count": null,
   "id": "7c590c52-16b6-4d3d-b409-f19a8f1098fe",
   "metadata": {},
   "outputs": [],
   "source": [
    "listofvisits = dataJoined_subset_z[\"visit\"].unique()\n",
    "listofvisits = sorted(listofvisits)"
   ]
  },
  {
   "cell_type": "code",
   "execution_count": null,
   "id": "32e6bf16-ee68-476f-b5e2-1a7f5a76c438",
   "metadata": {},
   "outputs": [],
   "source": [
    "fig,axs = plt.subplots(NROWS,NCOLS,figsize=(NCOLS*3,NROWS*3))\n",
    "for index,ax in enumerate(axs.flatten()):\n",
    "    the_visit = listofvisits[index]\n",
    "    df =  dataJoined_subset_z[dataJoined_subset_z[\"visit\"] == the_visit ]\n",
    "    std = df[\"DZP\"].std()*1000\n",
    "    label = f\"{the_visit}, {std:.2f}\"\n",
    "    df.plot.scatter(x=\"x\",y=\"y\",ax=ax,marker=\"o\",lw=1,c=\"DZP\",cmap=\"seismic\",title=label,grid=True,alpha=1,colorbar=False,vmin=-0.05,vmax=0.05)\n",
    "    ax.set_aspect(\"equal\")\n",
    "\n",
    "plt.suptitle(suptitle)\n",
    "plt.tight_layout()"
   ]
  },
  {
   "cell_type": "markdown",
   "id": "31765c63-7a05-48fb-b70c-104aa59b0252",
   "metadata": {},
   "source": [
    "## In Y filter"
   ]
  },
  {
   "cell_type": "code",
   "execution_count": null,
   "id": "169505e1-458c-4d73-8643-495154dc32ba",
   "metadata": {},
   "outputs": [],
   "source": [
    "listofvisits = dataJoined_subset_y[\"visit\"].unique()\n",
    "listofvisits = sorted(listofvisits)"
   ]
  },
  {
   "cell_type": "code",
   "execution_count": null,
   "id": "61e376e7-d28d-4793-af91-ee0ae7d276fe",
   "metadata": {},
   "outputs": [],
   "source": [
    "fig,axs = plt.subplots(NROWS,NCOLS,figsize=(NCOLS*3,NROWS*3))\n",
    "for index,ax in enumerate(axs.flatten()):\n",
    "    the_visit = listofvisits[index]\n",
    "    df =  dataJoined_subset_y[dataJoined_subset_y[\"visit\"] == the_visit ]\n",
    "    std = df[\"DZP\"].std()*1000\n",
    "    label = f\"{the_visit}, {std:.2f}\"\n",
    "    df.plot.scatter(x=\"x\",y=\"y\",ax=ax,marker=\"o\",lw=1,c=\"DZP\",cmap=\"seismic\",title=label,grid=True,alpha=1,colorbar=False,vmin=-0.05,vmax=0.05)\n",
    "    ax.set_aspect(\"equal\")\n",
    "\n",
    "plt.suptitle(suptitle)\n",
    "plt.tight_layout()"
   ]
  },
  {
   "cell_type": "code",
   "execution_count": null,
   "id": "172c9e9e-c3d8-4909-8339-172639031b6c",
   "metadata": {},
   "outputs": [],
   "source": []
  }
 ],
 "metadata": {
  "kernelspec": {
   "display_name": "LSST",
   "language": "python",
   "name": "lsst"
  },
  "language_info": {
   "codemirror_mode": {
    "name": "ipython",
    "version": 3
   },
   "file_extension": ".py",
   "mimetype": "text/x-python",
   "name": "python",
   "nbconvert_exporter": "python",
   "pygments_lexer": "ipython3",
   "version": "3.11.7"
  }
 },
 "nbformat": 4,
 "nbformat_minor": 5
}
