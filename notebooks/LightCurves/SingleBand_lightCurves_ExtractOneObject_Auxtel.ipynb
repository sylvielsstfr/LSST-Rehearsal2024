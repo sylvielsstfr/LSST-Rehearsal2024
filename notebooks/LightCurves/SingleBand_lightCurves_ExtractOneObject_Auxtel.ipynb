{
 "cells": [
  {
   "cell_type": "markdown",
   "id": "5fb8b13a-5169-4188-9fb8-8bfb44518205",
   "metadata": {},
   "source": [
    "# Extract one Object from Light Curves in single band at AuxTel\n",
    "\n",
    "- author Sylvie Dagoret-Campagne (from Lauren macArthur)\n",
    "- creation date 2024-05-28\n",
    "- last update 2024-06-01\n",
    "\n",
    "w_2024_16\n",
    "  \n",
    "``Quantum Graphs``: https://tigress-web.princeton.edu/~lkelvin/pipelines/ \n",
    "\n",
    "\n",
    "https://tigress-web.princeton.edu/~lkelvin/pipelines/current/drp_pipe/LSSTComCamSim/nightly-validation-ops-rehearsal-3/\n",
    "\n",
    "``CalibrateTask``: \n",
    "https://github.com/lsst/pipe_tasks/blob/main/python/lsst/pipe/tasks/calibrate.py#L392-L399\n",
    "\n",
    "\n",
    "``Shemas``:\n",
    "https://dm.lsst.org/sdm_schemas/browser/\n",
    "\n"
   ]
  },
  {
   "cell_type": "code",
   "execution_count": null,
   "id": "3de4fd1f-8c60-4d0e-be77-c516b572c25a",
   "metadata": {},
   "outputs": [],
   "source": [
    "from lsst.daf.butler import Butler\n",
    "\n",
    "import astropy.units as u\n",
    "import numpy as np \n",
    "import pandas as pd\n",
    "pd.set_option(\"display.max_columns\", None)\n",
    "pd.set_option('display.max_rows', 100)\n",
    "from astropy.time import Time\n",
    "\n",
    "import scipy.stats\n",
    "\n",
    "import matplotlib\n",
    "%matplotlib inline\n",
    "from matplotlib import pyplot as plt\n",
    "props = dict(boxstyle='round', facecolor='wheat', alpha=0.5)\n",
    "\n",
    "import lsst.afw.display.rgb as afwRgb\n",
    "import lsst.afw.image as afwImage\n",
    "import lsst.geom as geom"
   ]
  },
  {
   "cell_type": "code",
   "execution_count": null,
   "id": "a593625b-9903-4486-bfa3-d5d9aba23c3d",
   "metadata": {},
   "outputs": [],
   "source": [
    "from collections import OrderedDict"
   ]
  },
  {
   "cell_type": "code",
   "execution_count": null,
   "id": "83fb0e01-0953-4365-8318-6c0d27a3d93c",
   "metadata": {},
   "outputs": [],
   "source": [
    "#xx-small\n",
    "#x-small\n",
    "#small\n",
    "#medium\n",
    "#large\n",
    "#x-large\n",
    "#xx-large\n",
    "\n",
    "plt.rcParams[\"figure.figsize\"] = (10,6)\n",
    "plt.rcParams[\"axes.labelsize\"] = 'xx-large'\n",
    "plt.rcParams['axes.titlesize'] = 'xx-large'\n",
    "plt.rcParams['xtick.labelsize']= 'xx-large'\n",
    "plt.rcParams['ytick.labelsize']= 'xx-large'"
   ]
  },
  {
   "cell_type": "code",
   "execution_count": null,
   "id": "12e89c3a",
   "metadata": {},
   "outputs": [],
   "source": [
    "saveDir = \"./\"\n",
    "doSaveFigs = False  # set to True if you actually want to save the figures in the above dir"
   ]
  },
  {
   "cell_type": "code",
   "execution_count": null,
   "id": "ff630ae4",
   "metadata": {},
   "outputs": [],
   "source": [
    "# Set some selections for reliable data\n",
    "minNumMatches = 3\n",
    "minSnCalibFlux = 50  # 100"
   ]
  },
  {
   "cell_type": "code",
   "execution_count": null,
   "id": "313383f9",
   "metadata": {},
   "outputs": [],
   "source": [
    "# INSERT YOUR auxTel/LATISS collection and tract/band HERE\n",
    "butlerRoot = \"/repo/embargo\"\n",
    "# collection = \"LATISS/runs/AUXTEL_DRP_IMAGING_20230509_20231207/w_2023_49/PREOPS-4648\"\n",
    "#collection = \"LATISS/runs/AUXTEL_DRP_IMAGING_20230509_20240201/w_2024_05/PREOPS-4871\"\n",
    "collection = 'LATISS/runs/AUXTEL_DRP_IMAGING_20230509_20240414/w_2024_15/PREOPS-5069' # COMPLETED\n",
    "\n",
    "collectionStr = collection.replace(\"/\", \"_\")\n",
    "instrument = \"LATISS\"\n",
    "skymapName = \"latiss_v1\"\n",
    "#band = \"i\"\n",
    "#tract = 5615\n",
    "band = \"g\"\n",
    "tract = 3864\n",
    "\n",
    "#Aperture flux in instrumental\n",
    "calibFluxStr = \"apFlux_35_0_instFlux\"\n",
    "calibFluxErrStr = \"apFlux_35_0_instFluxErr\"\n",
    "calibFluxMagStr = \"apFlux_35_0_instMag\"\n",
    "calibFluxMagErrStr = \"apFlux_35_0_instMagErr\"\n",
    "\n",
    "#Aperture flux in instrumental\n",
    "calibFluxStr2 = \"apFlux_50_0_instFlux\"\n",
    "calibFluxErrStr2 = \"apFlux_50_0_instFluxErr\"\n",
    "calibFluxMagStr2 = \"apFlux_50_0_instMag\"\n",
    "calibFluxMagErrStr2 = \"apFlux_50_0_instMagErr\"\n",
    "\n",
    "#Aperture flux calibrated calibrated in AB\n",
    "calibFluxCalStr = \"apFlux_35_0_calFlux\"\n",
    "calibFluxCalErrStr = \"apFlux_35_0_calFluxErr\"\n",
    "calibFluxCalMagStr = \"apFlux_35_0_calMag\"\n",
    "calibFluxCalMagErrStr = \"apFlux_35_0_calMagErr\"\n",
    "\n",
    "#Aperture flux calibrated calibrated in AB\n",
    "calibFluxCalStr2 = \"apFlux_50_0_calFlux\"\n",
    "calibFluxCalErrStr2 = \"apFlux_50_0_calFluxErr\"\n",
    "calibFluxCalMagStr2 = \"apFlux_50_0_calMag\"\n",
    "calibFluxCalMagErrStr2 = \"apFlux_50_0_calMagErr\"\n",
    "\n",
    "\n",
    "\n",
    "file_output_selectedsources = f\"lightcurves-selectedsources_tract{tract}_band{band}.csv\"\n",
    "fullname_file_output_selectedsources = os.path.join(saveDir,file_output_selectedsources)"
   ]
  },
  {
   "cell_type": "code",
   "execution_count": null,
   "id": "875b2088-bc35-42e8-a1bb-e08451d9e9b3",
   "metadata": {},
   "outputs": [],
   "source": [
    "pd.set_option('display.max_rows', 100)"
   ]
  },
  {
   "cell_type": "code",
   "execution_count": null,
   "id": "67ae361e-308a-45b6-aaf7-37c27871a070",
   "metadata": {},
   "outputs": [],
   "source": [
    "output_objects_file = f\"objectTable-t{tract}-b{band}-{collectionStr}.csv\"\n",
    "output_objects_file_truncated = f\"objectTable-t{tract}-b{band}\"\n",
    "print(output_objects_file)"
   ]
  },
  {
   "cell_type": "code",
   "execution_count": null,
   "id": "3a81be1e-060d-40e9-b493-40d9c9cdc485",
   "metadata": {},
   "outputs": [],
   "source": [
    "!ls ../Visits"
   ]
  },
  {
   "cell_type": "code",
   "execution_count": null,
   "id": "6a589912-7985-4f17-9b84-8f23ecacfd29",
   "metadata": {},
   "outputs": [],
   "source": [
    "file_selected_visits = \"../Visits/ccdVisittractpatch_LATISS_runs_AUXTEL_DRP_IMAGING_20230509_20240414_w_2024_15_PREOPS-5069.csv\""
   ]
  },
  {
   "cell_type": "code",
   "execution_count": null,
   "id": "f0129514-a870-43e2-b1d9-1dfd64bc9484",
   "metadata": {},
   "outputs": [],
   "source": [
    "df_myselectedvisits = pd.read_csv(file_selected_visits,index_col=0)\n",
    "my_selectedvisits = list(df_myselectedvisits.index)"
   ]
  },
  {
   "cell_type": "code",
   "execution_count": null,
   "id": "511041b2-af65-4fd0-b59f-69a626db2a8d",
   "metadata": {},
   "outputs": [],
   "source": [
    "df_myselectedvisits"
   ]
  },
  {
   "cell_type": "code",
   "execution_count": null,
   "id": "859873dc-c7ad-45b1-8aa1-9bd2cc2a702a",
   "metadata": {},
   "outputs": [],
   "source": [
    "# Testing on an HSC RC2 run\n",
    "# butlerRoot = \"/repo/main\"\n",
    "# collection = \"HSC/runs/RC2/w_2024_06/DM-42797\"\n",
    "\n",
    "# collectionStr = collection.replace(\"/\", \"_\")\n",
    "# instrument = \"HSC\"\n",
    "# skymapName = \"hsc_rings_v1\"\n",
    "# band = \"i\"\n",
    "# tract = 9813\n",
    "\n",
    "# calibFluxStr = \"apFlux_12_0_instFlux\""
   ]
  },
  {
   "cell_type": "code",
   "execution_count": null,
   "id": "59fe3761",
   "metadata": {},
   "outputs": [],
   "source": [
    "# Initiate butler from variables set above\n",
    "butler = Butler(butlerRoot, collections=collection, instrument=instrument, skymap=skymapName)\n",
    "camera = butler.get(\"camera\", instrument=instrument)\n",
    "skymap = butler.get(\"skyMap\")\n",
    "print(\"camera_name = {}\".format(camera.getName()))\n",
    "print(\"collection = {}\".format(collection))"
   ]
  },
  {
   "cell_type": "code",
   "execution_count": null,
   "id": "7525a250-b3b9-4d45-9f21-1a74c8d6f1dc",
   "metadata": {},
   "outputs": [],
   "source": [
    "# Try to get the Schema\n",
    "data_product = \"isolated_star_sources\"\n",
    "datasetRefs = butler.registry.queryDatasets(datasetType=data_product, collections=collection, where= \"instrument='LATISS'\")\n",
    "for i, ref in enumerate(datasetRefs):\n",
    "    print(i,ref)\n",
    "    butler_data = butler.get(ref)\n",
    "    break\n",
    "\n",
    "if not isinstance(butler_data, pd.core.frame.DataFrame):\n",
    "    print(butler_data.getSchema())"
   ]
  },
  {
   "cell_type": "markdown",
   "id": "122dcf42-a6bd-4c49-b336-39e861c9c5e4",
   "metadata": {},
   "source": [
    "## isolated_star_sources\n",
    "\n",
    "The main starting point is the table of isolated_star_sources which has been constructed in step 2a from a catalog\n",
    "Note that isolated star sources are associated to an object (a static starobject)\n",
    "Here the work is doneband by band.\n",
    "It is a good idea to work band by band."
   ]
  },
  {
   "cell_type": "code",
   "execution_count": null,
   "id": "8856e2a2",
   "metadata": {},
   "outputs": [],
   "source": [
    "# Load in isolated_star_sources and trim to band of interest and select the tract\n",
    "isolatedStarSourcesFull = butler.get(\"isolated_star_sources\", tract=tract)\n",
    "isolatedStarSourcesFull = isolatedStarSourcesFull[isolatedStarSourcesFull[\"band\"] == band]"
   ]
  },
  {
   "cell_type": "code",
   "execution_count": null,
   "id": "773ffada-3c31-4e62-b15b-b67926fc6c08",
   "metadata": {},
   "outputs": [],
   "source": [
    "isolatedStarSourcesFull.head()"
   ]
  },
  {
   "cell_type": "code",
   "execution_count": null,
   "id": "1674462b-8b58-4dde-8086-5e7249ad7290",
   "metadata": {},
   "outputs": [],
   "source": [
    "isolatedStarSourcesFull.columns"
   ]
  },
  {
   "cell_type": "markdown",
   "id": "f58dda1f-5506-4645-b292-a4446df54b4d",
   "metadata": {},
   "source": [
    "## Select the visits in the preselected list : Desactivated now\n",
    "\n",
    "I add here my filter to select the visits I want to focus on from file_selected_visits = \"../data/202402/SelectedVisits_fall2023_tract_3864.csv\"\n",
    "It include all bands"
   ]
  },
  {
   "cell_type": "code",
   "execution_count": null,
   "id": "0d5ce2c3-0bf4-4b99-9973-92aae5b66b22",
   "metadata": {},
   "outputs": [],
   "source": [
    "#def SelectByVisit(row):\n",
    "#    if row[\"visit\"] in my_selectedvisits:\n",
    "#        return True\n",
    "#    else:\n",
    "#        return False"
   ]
  },
  {
   "cell_type": "code",
   "execution_count": null,
   "id": "dee7564a-5b01-4198-bfd0-82770cd57156",
   "metadata": {},
   "outputs": [],
   "source": [
    "#isolatedStarSourcesFull[\"flag\"] = isolatedStarSourcesFull.apply(SelectByVisit,axis=1,raw=False)"
   ]
  },
  {
   "cell_type": "code",
   "execution_count": null,
   "id": "43b8528f-670b-405b-aa97-2dbefa735003",
   "metadata": {},
   "outputs": [],
   "source": [
    "#isolatedStarSourcesFull = isolatedStarSourcesFull[isolatedStarSourcesFull[\"flag\"]]\n",
    "#isolatedStarSourcesFull.drop(\"flag\",axis=1,inplace=True)"
   ]
  },
  {
   "cell_type": "code",
   "execution_count": null,
   "id": "3a699fdd-697e-4f0a-a5b9-d830f7796754",
   "metadata": {},
   "outputs": [],
   "source": [
    "isolatedStarSourcesFull"
   ]
  },
  {
   "cell_type": "code",
   "execution_count": null,
   "id": "05cd1b17-9aea-4362-a278-97da5377d4c6",
   "metadata": {},
   "outputs": [],
   "source": [
    "# Just to have a look at what's in the catalog:\n",
    "isolatedStarSourcesFull[isolatedStarSourcesFull.index == 0]"
   ]
  },
  {
   "cell_type": "code",
   "execution_count": null,
   "id": "dadab2ff-40f2-4cb3-8048-d873c0b89f19",
   "metadata": {},
   "outputs": [],
   "source": [
    "print(\"calibFluxStr = {},,minSnCalibFlux = {}, minNumMatches = {}\".format(calibFluxStr,minSnCalibFlux,minNumMatches))"
   ]
  },
  {
   "cell_type": "markdown",
   "id": "da9344e8-96c4-4317-83c9-b65522db1c8b",
   "metadata": {},
   "source": [
    "## Select a number of visits with enough good sources in the required band\n",
    "\n",
    "- extract the list of known objects"
   ]
  },
  {
   "cell_type": "code",
   "execution_count": null,
   "id": "60e9fbfd",
   "metadata": {},
   "outputs": [],
   "source": [
    "# Trim the isolated_star_sources cat to those PSF S/N > minSnCalibFlux\n",
    "# and number of matches sources > minNumMatches.\n",
    "objIndexListFull = list(set(isolatedStarSourcesFull[\"obj_index\"].values))\n",
    "\n",
    "# Select the bright stars above a minimum of S/N ratio\n",
    "if minSnCalibFlux is not None:\n",
    "    snCalibFlux = isolatedStarSourcesFull[calibFluxStr]/isolatedStarSourcesFull[calibFluxStr + \"Err\"]\n",
    "    snMask = snCalibFlux > minSnCalibFlux\n",
    "    isolatedStarSourcesMinSn = isolatedStarSourcesFull[snMask].copy(deep=True)\n",
    "else:\n",
    "    isolatedStarSourcesMinSn = isolatedStarSourcesFull.copy(deep=True)\n",
    "\n",
    "# object index with obj index in above selected bright selected star\n",
    "objIndexListMinSn = list(set(isolatedStarSourcesMinSn[\"obj_index\"].values))\n",
    "\n",
    "# requires that the object is associated to several sources (at least minNumMatches sources)\n",
    "objIndexList = []\n",
    "for objIndex in objIndexListMinSn:\n",
    "    objData = isolatedStarSourcesMinSn[isolatedStarSourcesMinSn[\"obj_index\"] == objIndex]\n",
    "    if len(objData) >= minNumMatches:\n",
    "        objIndexList.append(objIndex)\n",
    "numTrimmed = len(objIndexListFull) - len(objIndexList)\n",
    "\n",
    "mask = []\n",
    "for objIndex, visit in zip(isolatedStarSourcesMinSn[\"obj_index\"], isolatedStarSourcesMinSn[\"visit\"]):\n",
    "    if objIndex in objIndexList:\n",
    "        mask.append(True)\n",
    "    else:\n",
    "        mask.append(False)\n",
    "isolatedStarSources = isolatedStarSourcesMinSn[mask].copy(deep=True)\n",
    "\n",
    "# Select a number of visits according quality criteria\n",
    "visitList = list(set(isolatedStarSources[\"visit\"].values))\n",
    "\n",
    "if minSnCalibFlux is not None:\n",
    "    print(\"Trimmed isolated_star_sources catalog to S/N {} > {} (leaving N={} matched souces from original {})\".format(\n",
    "        calibFluxStr, minSnCalibFlux, len(isolatedStarSources), len(isolatedStarSourcesFull)))\n",
    "print(\"Trimmed isolated_star_sources catalog to objecst with nMatches >= {} (leaving {} objects from {}).\".format(\n",
    "    minNumMatches, len(objIndexList), len(objIndexListFull)))"
   ]
  },
  {
   "cell_type": "code",
   "execution_count": null,
   "id": "0258c3d3-7781-4440-b1cb-40832fff1326",
   "metadata": {},
   "outputs": [],
   "source": [
    "sorted_visitList = sorted(visitList)\n",
    "sorted_visitList[:20] "
   ]
  },
  {
   "cell_type": "code",
   "execution_count": null,
   "id": "b1566990-7330-4b3d-8433-c8b811df4dd9",
   "metadata": {},
   "outputs": [],
   "source": [
    "def convertVisitToDatestr(visit):\n",
    "\n",
    "    num = visit//100_000\n",
    "    year = num//10_000\n",
    "    month= (num-year*10_000)//100\n",
    "    day = (num-year*10_000-month*100)\n",
    "\n",
    "    year_str = str(year).zfill(4)\n",
    "    month_str = str(month).zfill(2)\n",
    "    day_str = str(day).zfill(2)\n",
    "    \n",
    "    datestr = f\"{year_str}-{month_str}-{day_str}\"\n",
    "    return datestr"
   ]
  },
  {
   "cell_type": "code",
   "execution_count": null,
   "id": "e78a9cdd-1906-4b11-90b6-ac09ca7689b1",
   "metadata": {},
   "outputs": [],
   "source": [
    "def convertVisitToMJD(visit):\n",
    "    return Time(convertVisitToDatestr(visit)).mjd"
   ]
  },
  {
   "cell_type": "code",
   "execution_count": null,
   "id": "ebfc17b1-4874-4343-accb-2d0763a0f677",
   "metadata": {},
   "outputs": [],
   "source": [
    "sorted_visits_mjd = list(map(convertVisitToMJD, sorted_visitList))"
   ]
  },
  {
   "cell_type": "markdown",
   "id": "93fecc9f-d378-4b8d-9625-1e54e499f1db",
   "metadata": {},
   "source": [
    "## sourceTable_visit\n",
    "\n",
    "This is the main output of FGCM calibration which has selected a number of sources. These sources were originally selected from isolated sources."
   ]
  },
  {
   "cell_type": "code",
   "execution_count": null,
   "id": "db71f9f1",
   "metadata": {},
   "outputs": [],
   "source": [
    "# Extra columns to load from sourceTable_visit catalogs\n",
    "names = [\"psfFlux\", \"psfFluxErr\", \"psfFlux_flag\", \"psfFlux_apCorr\", \"psfFlux_apCorrErr\",\n",
    "         \"extendedness\", \"detect_isPrimary\", \"deblend_skipped\",\n",
    "         \"gaussianFlux\", \"gaussianFluxErr\", \"gaussianFlux_flag\",\n",
    "         \"localPhotoCalib\", \"localPhotoCalibErr\", \"localPhotoCalib_flag\"]"
   ]
  },
  {
   "cell_type": "code",
   "execution_count": null,
   "id": "638a0e06",
   "metadata": {},
   "outputs": [],
   "source": [
    "# Load in the sourceTable_visit catalogs to get the psfFlux and other useful info per source.\n",
    "# Columns loaded are those in names above.\n",
    "sourceCatalogs = []\n",
    "nSourceDict = {}\n",
    "visitsToRemove = []\n",
    "\n",
    "# loop over all selected visit\n",
    "for visit in visitList:\n",
    "    try:\n",
    "        sourceCatalogOrig = butler.get(\"sourceTable_visit\", visit=visit, parameters={\"columns\": names})\n",
    "        primaryCat = sourceCatalogOrig[sourceCatalogOrig[\"detect_isPrimary\"]].copy(deep=True)\n",
    "        nSourceDict[visit] = sum(primaryCat[\"psfFlux\"]/primaryCat[\"psfFluxErr\"] > 5)\n",
    "        sourceCatalogs.append(primaryCat)\n",
    "    except LookupError:\n",
    "        print(\"sourceTable_visit not found for visit {}\".format(visit))\n",
    "        isolatedStarSources = isolatedStarSources[isolatedStarSources[\"visit\"] != visit].copy(deep=True)\n",
    "        visitsToRemove.append(visit)\n",
    "visitList = list(set(visitList) - set(visitsToRemove))\n",
    "\n",
    "# Do the minNumMatches cut again since visits may have been removed due to lack of sourceTable_visit\n",
    "print(\"Number of objects with >=3 matches before sourceTable_visit exsistence check: {}\".format(len(objIndexList)))\n",
    "objIndexListAllNew = list(set(isolatedStarSources[\"obj_index\"].values))\n",
    "objIndexList = []\n",
    "for objIndex in objIndexListAllNew:\n",
    "    objData = isolatedStarSources[isolatedStarSources[\"obj_index\"] == objIndex]\n",
    "    if len(objData) >= minNumMatches:\n",
    "        objIndexList.append(objIndex)\n",
    "mask = []\n",
    "for objIndex, visit in zip(isolatedStarSources[\"obj_index\"], isolatedStarSources[\"visit\"]):\n",
    "    if objIndex in objIndexList:\n",
    "        mask.append(True)\n",
    "    else:\n",
    "        mask.append(False)\n",
    "isolatedStarSources = isolatedStarSources[mask].copy(deep=True)\n",
    "visitList = list(set(isolatedStarSources[\"visit\"].values))\n",
    "print(\"Number of objects with >=3 matches after sourceTable_visit exsistence check: {}\".format(len(objIndexList)))\n",
    "dataJoined = pd.concat(sourceCatalogs).merge(isolatedStarSources, on=\"sourceId\", how=\"inner\")"
   ]
  },
  {
   "cell_type": "code",
   "execution_count": null,
   "id": "b7a2acc3-cf74-4345-a293-c9d887f98eb9",
   "metadata": {},
   "outputs": [],
   "source": [
    "visitsToRemove "
   ]
  },
  {
   "cell_type": "markdown",
   "id": "da99b858-3add-4a24-8361-c61369ff31c8",
   "metadata": {
    "execution": {
     "iopub.execute_input": "2024-03-06T16:09:45.477682Z",
     "iopub.status.busy": "2024-03-06T16:09:45.477549Z",
     "iopub.status.idle": "2024-03-06T16:09:45.489584Z",
     "shell.execute_reply": "2024-03-06T16:09:45.489237Z",
     "shell.execute_reply.started": "2024-03-06T16:09:45.477669Z"
    }
   },
   "source": [
    "## Will start to work on dataJoined which associate selected \"isolated_star_sources\" in the selected band and visits the good calibration in \"sourceTable_visit\""
   ]
  },
  {
   "cell_type": "markdown",
   "id": "f219f59b-1c36-4bc1-aa41-ac481f96f74e",
   "metadata": {
    "execution": {
     "iopub.execute_input": "2024-02-29T10:26:18.613944Z",
     "iopub.status.busy": "2024-02-29T10:26:18.613360Z",
     "iopub.status.idle": "2024-02-29T10:26:18.648236Z",
     "shell.execute_reply": "2024-02-29T10:26:18.647844Z",
     "shell.execute_reply.started": "2024-02-29T10:26:18.613928Z"
    }
   },
   "source": [
    "### add my info from CCD Visit Table\n",
    "\n",
    "- CCD visit table is a pre-FGCM calibration\n",
    "- it provides airmass and initial zero-point"
   ]
  },
  {
   "cell_type": "code",
   "execution_count": null,
   "id": "6f07195f-0f97-4590-bd39-3584cd580afc",
   "metadata": {},
   "outputs": [],
   "source": [
    "# need also. [\"zeroPoint\",\"airmass\"]"
   ]
  },
  {
   "cell_type": "code",
   "execution_count": null,
   "id": "b0db3e84",
   "metadata": {},
   "outputs": [],
   "source": [
    "# Collect useful columns from ccdVisitTable\n",
    "ccdVisitTable = butler.get(\"ccdVisitTable\")\n",
    "ccdVisitTable[\"airmass\"] = ccdVisitTable[\"zenithDistance\"].apply(lambda x: 1/np.cos(np.pi/180.*x))\n",
    "ccdVisitTable[\"medianE\"] = np.sqrt(ccdVisitTable[\"psfStarDeltaE1Median\"] ** 2.0 + \n",
    "                                    ccdVisitTable[\"psfStarDeltaE2Median\"] ** 2.0)\n",
    "psfSigmaDict = {}\n",
    "skyBgDict = {}\n",
    "skyNoiseDict = {}\n",
    "expTimeDict = {}\n",
    "expMidptMjdDict = {}\n",
    "medianEDict = {}\n",
    "psfStarScaledDeltaSizeScatterDict = {}\n",
    "astromOffsetStdDict = {}\n",
    "psfTraceRadiusDeltaDict = {}\n",
    "zeroPointDict = {}\n",
    "airmassDict = {}\n",
    "seeingDict = {}\n",
    "npsfStarsDict = {}\n",
    "psfSigmaDict = {}\n",
    "# for visit in ccdVisitTable[\"visitId\"].values:\n",
    "#     if visit in visitList:\n",
    "for visit in visitList:\n",
    "    if visit in ccdVisitTable[\"visitId\"].values:\n",
    "        psfSigmaDict[visit] = ccdVisitTable[ccdVisitTable[\"visitId\"] == visit][\"psfSigma\"].values[0]\n",
    "        skyBgDict[visit] = ccdVisitTable[ccdVisitTable[\"visitId\"] == visit][\"skyBg\"].values[0]\n",
    "        skyNoiseDict[visit] = ccdVisitTable[ccdVisitTable[\"visitId\"] == visit][\"skyNoise\"].values[0]\n",
    "        expTimeDict[visit] = ccdVisitTable[ccdVisitTable[\"visitId\"] == visit][\"expTime\"].values[0]\n",
    "        expMidptMjdDict[visit] = ccdVisitTable[ccdVisitTable[\"visitId\"] == visit][\"expMidptMJD\"].values[0]\n",
    "        medianEDict[visit] = ccdVisitTable[ccdVisitTable[\"visitId\"] == visit][\"medianE\"].values[0]\n",
    "        psfStarScaledDeltaSizeScatterDict[visit] = ccdVisitTable[ccdVisitTable[\"visitId\"] == visit][\"psfStarScaledDeltaSizeScatter\"].values[0]\n",
    "        astromOffsetStdDict[visit] = ccdVisitTable[ccdVisitTable[\"visitId\"] == visit][\"astromOffsetStd\"].values[0]\n",
    "        psfTraceRadiusDeltaDict[visit] = ccdVisitTable[ccdVisitTable[\"visitId\"] == visit][\"psfTraceRadiusDelta\"].values[0]\n",
    "        zeroPointDict[visit] = ccdVisitTable[ccdVisitTable[\"visitId\"] == visit][\"zeroPoint\"].values[0]\n",
    "        airmassDict[visit] = ccdVisitTable[ccdVisitTable[\"visitId\"] == visit][\"airmass\"].values[0]\n",
    "        seeingDict[visit] = ccdVisitTable[ccdVisitTable[\"visitId\"] == visit][\"seeing\"].values[0]\n",
    "        npsfStarsDict[visit] = ccdVisitTable[ccdVisitTable[\"visitId\"] == visit][\"nPsfStar\"].values[0]\n",
    "        psfSigmaDict[visit] = ccdVisitTable[ccdVisitTable[\"visitId\"] == visit][\"psfSigma\"].values[0]\n",
    "    else:\n",
    "        raise RuntimeError(\"ERROR: visit {} not found in ccdVisitTable\".format(visit))"
   ]
  },
  {
   "cell_type": "code",
   "execution_count": null,
   "id": "fa595417",
   "metadata": {},
   "outputs": [],
   "source": [
    "# Just to have a look at what's in the catalog:\n",
    "ccdVisitTable[ccdVisitTable.index == ccdVisitTable.index[0]] "
   ]
  },
  {
   "cell_type": "code",
   "execution_count": null,
   "id": "7e850a5f-6297-4438-9e0b-735b25229cc5",
   "metadata": {},
   "outputs": [],
   "source": [
    "dataJoined.columns"
   ]
  },
  {
   "cell_type": "code",
   "execution_count": null,
   "id": "fdc7494f-6067-4310-8878-673b2b9b1f49",
   "metadata": {},
   "outputs": [],
   "source": [
    "calibFluxCalStr"
   ]
  },
  {
   "cell_type": "code",
   "execution_count": null,
   "id": "2f2fd98b",
   "metadata": {},
   "outputs": [],
   "source": [
    "# Add columns into dataJoined table to have them all in one place\n",
    "dataJoined[\"psfSn\"] = dataJoined[\"psfFlux\"]/dataJoined[\"psfFluxErr\"]\n",
    "dataJoined[\"psfMag\"] = (dataJoined[\"psfFlux\"].values*u.nJy).to(u.ABmag).value\n",
    "dataJoined[\"psfMagErr\"] = 2.5/np.log(10.0)*(dataJoined[\"psfFluxErr\"].values/dataJoined[\"psfFlux\"].values)\n",
    "# NOTE: psfFlux is the fgcm calibrated flux.  I'm pretty sure you get the \"instrumental\" \n",
    "# flux by dividing psfFlux by the localPhotoCalib value.\n",
    "\n",
    "dataJoined[calibFluxCalStr] = dataJoined[calibFluxStr]*dataJoined[\"localPhotoCalib\"]\n",
    "dataJoined[calibFluxCalErrStr] = dataJoined[calibFluxErrStr]*dataJoined[\"localPhotoCalib\"]\n",
    "\n",
    "dataJoined[calibFluxCalMagStr] = (dataJoined[calibFluxCalStr].values*u.nJy).to(u.ABmag).value\n",
    "dataJoined[calibFluxCalMagErrStr] = 2.5/np.log(10.0)*(dataJoined[calibFluxCalErrStr].values/dataJoined[calibFluxCalStr].values)\n",
    "\n",
    "dataJoined[calibFluxCalStr2] = dataJoined[calibFluxStr2]*dataJoined[\"localPhotoCalib\"]\n",
    "dataJoined[calibFluxCalErrStr2] = dataJoined[calibFluxErrStr2]*dataJoined[\"localPhotoCalib\"]\n",
    "\n",
    "dataJoined[calibFluxCalMagStr2] = (dataJoined[calibFluxCalStr2].values*u.nJy).to(u.ABmag).value\n",
    "dataJoined[calibFluxCalMagErrStr2] = 2.5/np.log(10.0)*(dataJoined[calibFluxCalErrStr2].values/dataJoined[calibFluxCalStr2].values)\n",
    "\n",
    "\n",
    "\n",
    "dataJoined[\"psfInstMag\"] = ((dataJoined[\"psfFlux\"].values/dataJoined[\"localPhotoCalib\"].values)*u.nJy).to(u.ABmag).value\n",
    "dataJoined[\"psfInstMagErr\"] = 2.5/np.log(10.0)*(dataJoined[\"psfFluxErr\"].values/dataJoined[\"psfFlux\"].values)\n",
    "\n",
    "\n",
    "dataJoined[\"psfGausFluxRatio\"] = dataJoined[\"psfFlux\"]/dataJoined[\"gaussianFlux\"]\n",
    "\n",
    "dataJoined[\"psfSigma\"] = dataJoined.apply(lambda x: psfSigmaDict[x[\"visit\"]], axis=1)\n",
    "\n",
    "dataJoined[\"skyBg\"] = dataJoined.apply(lambda x: skyBgDict[x[\"visit\"]], axis=1)\n",
    "dataJoined[\"skyNoise\"] = dataJoined.apply(lambda x: skyNoiseDict[x[\"visit\"]], axis=1)\n",
    "\n",
    "dataJoined[\"expTime\"] = dataJoined.apply(lambda x: expTimeDict[x[\"visit\"]], axis=1)\n",
    "dataJoined[\"expMidptMjd\"] = dataJoined.apply(lambda x: expMidptMjdDict[x[\"visit\"]], axis=1)\n",
    "\n",
    "dataJoined[\"nSource\"] = dataJoined.apply(lambda x: nSourceDict[x[\"visit\"]], axis=1)\n",
    "\n",
    "dataJoined[\"medianE\"] = dataJoined.apply(lambda x: medianEDict[x[\"visit\"]], axis=1)\n",
    "\n",
    "dataJoined[\"psfStarScaledDeltaSizeScatter\"] = dataJoined.apply(lambda x: psfStarScaledDeltaSizeScatterDict[x[\"visit\"]], axis=1)\n",
    "dataJoined[\"astromOffsetStd\"] = dataJoined.apply(lambda x: astromOffsetStdDict[x[\"visit\"]], axis=1)\n",
    "dataJoined[\"psfTraceRadiusDelta\"] = dataJoined.apply(lambda x: psfTraceRadiusDeltaDict[x[\"visit\"]], axis=1)\n",
    "\n",
    "# I add the airmass and zero-point I want to keep here\n",
    "dataJoined[\"zeroPoint\"] = dataJoined.apply(lambda x: zeroPointDict[x[\"visit\"]], axis=1)\n",
    "dataJoined[\"airmass\"] = dataJoined.apply(lambda x: airmassDict[x[\"visit\"]], axis=1)\n",
    "dataJoined[\"seeing\"] = dataJoined.apply(lambda x: seeingDict[x[\"visit\"]], axis=1)\n",
    "dataJoined[\"nPsfStars\"] = dataJoined.apply(lambda x: npsfStarsDict[x[\"visit\"]], axis=1)\n",
    "\n",
    "matchedObjIdList = list(set(dataJoined[\"obj_index\"]))"
   ]
  },
  {
   "cell_type": "code",
   "execution_count": null,
   "id": "ddb12466",
   "metadata": {},
   "outputs": [],
   "source": [
    "dataJoined[dataJoined.index == 0]"
   ]
  },
  {
   "cell_type": "code",
   "execution_count": null,
   "id": "949f02f7-08e4-4bb3-9761-f51cfc5b5709",
   "metadata": {},
   "outputs": [],
   "source": [
    "dataJoined.columns"
   ]
  },
  {
   "cell_type": "markdown",
   "id": "d9097dac-56de-482c-9d7a-3d83dcc83a3a",
   "metadata": {},
   "source": [
    "## The association between the independent sources is done through the object index \n",
    "\n",
    "- for plotting the repeatability"
   ]
  },
  {
   "cell_type": "code",
   "execution_count": null,
   "id": "167212ad-bd38-4974-a464-08b0aa6abcf4",
   "metadata": {},
   "outputs": [],
   "source": [
    "dataJoined.columns"
   ]
  },
  {
   "cell_type": "code",
   "execution_count": null,
   "id": "1c5b85d8",
   "metadata": {},
   "outputs": [],
   "source": [
    "# Compute repeatability related values per object/object group and add\n",
    "# them inplace to the dataJoined DataFrame.\n",
    "nSourcesCliAll = []\n",
    "raSourcesCliAll = []\n",
    "decSourcesCliAll = []\n",
    "\n",
    "# in AB magnitudes\n",
    "psfMagDiffMmagDfList = []\n",
    "psfMagStdMmagAll = []\n",
    "psfMagMeanMagAll = []\n",
    "psfMagMeanMagErrAll = []\n",
    "\n",
    "psfMagStdMmagDict = OrderedDict()\n",
    "psfMagMeanMagDict = OrderedDict()  # add the mean magnitude\n",
    "psfMagDiffChiDfList = []\n",
    "\n",
    "\n",
    "# aperture in ADU\n",
    "\n",
    "ap35InstMagMeanMagAll = []\n",
    "ap35InstMagMeanMagErrAll = []\n",
    "\n",
    "ap50InstMagMeanMagAll = []\n",
    "ap50InstMagMeanMagErrAll = []\n",
    "\n",
    "\n",
    "\n",
    "psfSnAll = []\n",
    "\n",
    "# in ADU\n",
    "dataJoined.columns\n",
    "\n",
    "\n",
    "raDiffMasDfList = []\n",
    "decDiffMasDfList = []\n",
    "raCosDecDiffMasDfList = []\n",
    "objRaDegList = []\n",
    "objDecDegList = []\n",
    "raStdMasAll = []\n",
    "decStdMasAll = []\n",
    "raCosDecStdMasAll = []\n",
    "objDataList = OrderedDict()\n",
    "\n",
    "\n",
    "# loop on objects along ther object index number and compute quantities per object\n",
    "\n",
    "for objIndex in matchedObjIdList:\n",
    "    # select sources corresponding to that object\n",
    "    objData = dataJoined[dataJoined[\"obj_index\"] == objIndex]\n",
    "\n",
    "    # flux with psf\n",
    "    psfMag = objData[\"psfMag\"]\n",
    "    psfMagErr = objData[\"psfMagErr\"]\n",
    "    psfFluxes = objData['psfFlux']\n",
    "    psfFluxesErr = objData['psfFluxErr']\n",
    "    psfSn = psfFluxes/psfFluxesErr\n",
    "    # average flux over all visits\n",
    "\n",
    "    clippedMeanMagArray = scipy.stats.sigmaclip(psfMag, low=3.0, high=3.0).clipped\n",
    "    clippedMeanMag = np.mean(clippedMeanMagArray)\n",
    "    clippedMeanMagErr = np.std(clippedMeanMagArray)/np.sqrt(len(clippedMeanMagArray))\n",
    "    nSourcesCli= len(clippedMeanMagArray)\n",
    "\n",
    "    # flux with aperture\n",
    "    #apFlux_35_0_instFlux',\n",
    "    #'apFlux_35_0_instFluxErr',\n",
    "\n",
    "    ap35InstMag =  -2.5*np.log10(objData[\"apFlux_35_0_instFlux\"])\n",
    "    #ap35MagErr =  2.5/np.log(10.0)*(objData[\"apFlux_35_0_instFluxErr\"]/objData[\"apFlux_35_0_instFlux\"])\n",
    "    clippedMeanAp35InstMagArray = scipy.stats.sigmaclip(ap35InstMag, low=3.0, high=3.0).clipped\n",
    "    clippedMeanAp35InstMag = np.mean(clippedMeanAp35InstMagArray)\n",
    "    clippedMeanAp35InstMagErr = np.std(clippedMeanAp35InstMagArray)/np.sqrt(len(clippedMeanAp35InstMagArray))\n",
    "    \n",
    "\n",
    "    ap50InstMag =  -2.5*np.log10(objData[\"apFlux_50_0_instFlux\"])\n",
    "    #ap35MagErr =  2.5/np.log(10.0)*(objData[\"apFlux_35_0_instFluxErr\"]/objData[\"apFlux_35_0_instFlux\"])\n",
    "    clippedMeanAp50InstMagArray = scipy.stats.sigmaclip(ap50InstMag, low=3.0, high=3.0).clipped\n",
    "    clippedMeanAp50InstMag = np.mean(clippedMeanAp50InstMagArray)\n",
    "    clippedMeanAp50InstMagErr = np.std(clippedMeanAp50InstMagArray)/np.sqrt(len(clippedMeanAp50InstMagArray))\n",
    "\n",
    "\n",
    "    # Signal to Noise \n",
    "    clippedpsfSnArray = scipy.stats.sigmaclip(psfSn, low=3.0, high=3.0).clipped\n",
    "    clippedpsfSnMean = np.mean(clippedpsfSnArray)\n",
    "    \n",
    "    # array of difference between flux an clipped mean average in mmag\n",
    "    psfMagDiffMmag = 1000*(psfMag - clippedMeanMag)\n",
    "    # sigma arrays over the difference\n",
    "    psfMagStdMmag = np.std(psfMagDiffMmag)\n",
    "    # residuals array\n",
    "    psfMagDiffChi = (psfMag - clippedMeanMag)/np.sqrt(psfMagErr**2 + clippedMeanMagErr**2)\n",
    "\n",
    "    objData[\"psfMagDiffMmag\"] = psfMagDiffMmag\n",
    "    objData[\"psfMagDiffChi\"] = psfMagDiffChi\n",
    "    \n",
    "    clippedMeanRaArray = scipy.stats.sigmaclip(objData[\"ra\"], low=3.0, high=3.0).clipped\n",
    "    clippedMeanRa = np.mean(clippedMeanRaArray)\n",
    "    raDiffMas = (objData[\"ra\"] - clippedMeanRa)*3600*1000\n",
    "\n",
    "    objData[\"raDiffMas\"] = raDiffMas\n",
    "    \n",
    "    clippedMeanDecArray = scipy.stats.sigmaclip(objData[\"dec\"], low=3.0, high=3.0).clipped\n",
    "    clippedMeanDec = np.mean(clippedMeanDecArray)\n",
    "    decDiffMas = (objData[\"dec\"] - clippedMeanDec)*3600*1000\n",
    "\n",
    "    objData[\"decDiffMas\"] = decDiffMas\n",
    "    \n",
    "    raCosDec = np.deg2rad(objData[\"ra\"])*np.cos(np.deg2rad(objData[\"dec\"]))\n",
    "    clippedMeanRaCosDecArray = scipy.stats.sigmaclip(raCosDec, low=3.0, high=3.0).clipped\n",
    "    clippedMeanRaCosDec = np.mean(clippedMeanRaCosDecArray)\n",
    "    raCosDecDiffRad = (raCosDec - clippedMeanRaCosDec)\n",
    "    raCosDecDiffMas = np.rad2deg(raCosDecDiffRad)*3600*1000\n",
    "\n",
    "    objData[\"raCosDecDiffMas\"] = raCosDecDiffMas\n",
    "\n",
    "    # save for all sources of the object in list\n",
    "    nSourcesCliAll.append(nSourcesCli)\n",
    "\n",
    "    raSourcesCliAll.append(clippedMeanRa)\n",
    "    decSourcesCliAll.append(clippedMeanDec)\n",
    "\n",
    "    psfMagMeanMagAll.append(clippedMeanMag)\n",
    "    psfMagMeanMagErrAll.append(clippedMeanMagErr)\n",
    "    psfSnAll.append(clippedpsfSnMean) \n",
    "    \n",
    "    psfMagDiffMmagDfList.append(psfMagDiffMmag)\n",
    "    psfMagStdMmagAll.append(psfMagStdMmag)\n",
    "    psfMagDiffChiDfList.append(psfMagDiffChi)\n",
    "\n",
    "\n",
    "    #ap35MagDiffMmagDfList = []\n",
    "    #ap35MagStdMmagAll = []\n",
    "    ap35InstMagMeanMagAll.append(clippedMeanAp35InstMag)\n",
    "    ap35InstMagMeanMagErrAll.append(clippedMeanAp35InstMagErr)\n",
    "\n",
    "    #ap50MagDiffMmagDfList = []\n",
    "    #ap50MagStdMmagAll = []\n",
    "    ap50InstMagMeanMagAll.append(clippedMeanAp50InstMag)\n",
    "    ap50InstMagMeanMagErrAll.append(clippedMeanAp50InstMagErr) \n",
    "\n",
    "\n",
    "    raDiffMasDfList.append(raDiffMas)\n",
    "    decDiffMasDfList.append(decDiffMas)\n",
    "    raCosDecDiffMasDfList.append(raCosDecDiffMas)\n",
    "    \n",
    "    objRaDegList.append(clippedMeanRa)\n",
    "    objDecDegList.append(clippedMeanDec)\n",
    "\n",
    "    raStdMas = np.std(raDiffMas)\n",
    "    raStdMasAll.append(raStdMas)\n",
    "    decStdMas = np.std(decDiffMas)\n",
    "    decStdMasAll.append(decStdMas)\n",
    "    raCosDecStdMas = np.std(raCosDecDiffMas)\n",
    "    raCosDecStdMasAll.append(raCosDecStdMas)\n",
    "\n",
    "    # save in Dictionnaries\n",
    "    psfMagStdMmagDict[objIndex] = psfMagStdMmag\n",
    "    psfMagMeanMagDict[objIndex] = clippedMeanMag     \n",
    "    objDataList[objIndex] = objData\n",
    "\n",
    "# concatenate over all objects - all sources\n",
    "psfMagDiffMmagDf = pd.concat(psfMagDiffMmagDfList)\n",
    "psfMagDiffChiDf = pd.concat(psfMagDiffChiDfList)\n",
    "raDiffMasDf = pd.concat(raDiffMasDfList)\n",
    "decDiffMasDf = pd.concat(decDiffMasDfList)\n",
    "raCosDecDiffMasDf = pd.concat(raCosDecDiffMasDfList)\n",
    "\n",
    "# add this common properties to each source in dataJoined\n",
    "dataJoined.loc[:, \"psfMagDiffMmag\"] = psfMagDiffMmagDf\n",
    "dataJoined.loc[:, \"psfMagDiffChi\"] = psfMagDiffChiDf\n",
    "dataJoined.loc[:, \"raDiffMas\"] = raDiffMasDf\n",
    "dataJoined.loc[:, \"decDiffMas\"] = decDiffMasDf\n",
    "dataJoined.loc[:, \"raCosDecDiffMas\"] = raCosDecDiffMasDf"
   ]
  },
  {
   "cell_type": "code",
   "execution_count": null,
   "id": "8759484e-a8fc-4cc6-aeb0-e22747a40bc6",
   "metadata": {},
   "outputs": [],
   "source": [
    "pd.set_option('display.max_rows', None)"
   ]
  },
  {
   "cell_type": "code",
   "execution_count": null,
   "id": "658b9a6e-db1e-4aaa-9fd0-ce5988fb0396",
   "metadata": {},
   "outputs": [],
   "source": [
    "print(matchedObjIdList)"
   ]
  },
  {
   "cell_type": "markdown",
   "id": "b61aa6ef-70cb-4dfb-ab30-9f3bc3ae43a9",
   "metadata": {},
   "source": [
    "### Create a pandas dataframe from all objects"
   ]
  },
  {
   "cell_type": "code",
   "execution_count": null,
   "id": "82979310-3f72-4a4d-806f-c6fb560b7f23",
   "metadata": {},
   "outputs": [],
   "source": [
    "df_obj = pd.DataFrame()"
   ]
  },
  {
   "cell_type": "code",
   "execution_count": null,
   "id": "f7dda97f-a970-43ec-9174-723ea4e89024",
   "metadata": {},
   "outputs": [],
   "source": [
    "df_obj[\"objindex\"] = matchedObjIdList\n",
    "df_obj[\"ra\"] = raSourcesCliAll\n",
    "df_obj[\"dec\"] = decSourcesCliAll\n",
    "df_obj[\"nSources\"] = nSourcesCliAll\n",
    "df_obj[\"psfSn\"] = psfSnAll\n",
    "df_obj[\"psfMag\"] = psfMagMeanMagAll\n",
    "df_obj[\"psfMagErr\"] = psfMagMeanMagErrAll\n",
    "df_obj[\"psfMagStdMmag\"]  =   psfMagStdMmagAll\n",
    "df_obj[\"ap35InstMeanMag\"] = ap35InstMagMeanMagAll\n",
    "df_obj[\"ap35InstMeanMagErr\"] = ap35InstMagMeanMagErrAll\n",
    "df_obj[\"ap50InstMeanMag\"] = ap50InstMagMeanMagAll\n",
    "df_obj[\"ap50InstMeanMagErr\"] = ap50InstMagMeanMagErrAll\n"
   ]
  },
  {
   "cell_type": "code",
   "execution_count": null,
   "id": "d6113cc7-7120-4206-9a72-5775caec6f5f",
   "metadata": {},
   "outputs": [],
   "source": [
    "df_obj.sort_values('psfMag',ascending=True,inplace=True)"
   ]
  },
  {
   "cell_type": "code",
   "execution_count": null,
   "id": "38f312ef-df6f-4297-957d-7f173c32e370",
   "metadata": {},
   "outputs": [],
   "source": [
    "df_obj"
   ]
  },
  {
   "cell_type": "code",
   "execution_count": null,
   "id": "7b0c8566-4ceb-42e2-ae83-15d1c035e960",
   "metadata": {},
   "outputs": [],
   "source": [
    "df_obj.to_csv(output_objects_file)"
   ]
  },
  {
   "cell_type": "markdown",
   "id": "6607d115-af9a-44b8-ad34-dd40aa166578",
   "metadata": {},
   "source": [
    "### Example of source in object table"
   ]
  },
  {
   "cell_type": "code",
   "execution_count": null,
   "id": "a8a83802",
   "metadata": {},
   "outputs": [],
   "source": [
    "dataJoined[dataJoined.index == 0]"
   ]
  },
  {
   "cell_type": "code",
   "execution_count": null,
   "id": "6e609b37-c7d5-4d62-94b4-b7c896816fc5",
   "metadata": {},
   "outputs": [],
   "source": [
    "dataJoined.head()"
   ]
  },
  {
   "cell_type": "code",
   "execution_count": null,
   "id": "cd8e2763-9632-4bca-87fd-163138ad1e75",
   "metadata": {},
   "outputs": [],
   "source": [
    "dataJoined.columns"
   ]
  },
  {
   "cell_type": "code",
   "execution_count": null,
   "id": "76a4b2dd-7dd9-409f-b99f-c9e6940bc0d0",
   "metadata": {},
   "outputs": [],
   "source": [
    "dataJoined[\"psfMagDiffMmag\"]"
   ]
  },
  {
   "cell_type": "markdown",
   "id": "ff1674f7-8145-4af4-ae81-3739972e9d28",
   "metadata": {},
   "source": [
    "## Plot the per object source "
   ]
  },
  {
   "cell_type": "code",
   "execution_count": null,
   "id": "f926e051",
   "metadata": {},
   "outputs": [],
   "source": [
    "fig, ax = plt.subplots(1, 1, figsize=(8,6))\n",
    "ax.set_title(\"{}\\n{} {} (max visit: {})\".format(collection, tract, band, max(dataJoined[\"visit\"])), fontsize=8)\n",
    "nBins = 16 if len(dataJoined) < 4000 else 100\n",
    "histData = psfMagStdMmagAll\n",
    "xLabelStr = \"std(psfFlux - psfFluxMean) ({} mmag)\".format(band)\n",
    "medianPsfFluxStd = np.median(histData)\n",
    "n, bins, patches = ax.hist(histData, bins=nBins, density=True, histtype=\"step\", lw=2, label=\"data (N = {})\".format(len(histData)))\n",
    "ax.axvline(x=medianPsfFluxStd, color=\"gray\", linestyle='--', linewidth=1, label=\"median: {:.2f}\".format(medianPsfFluxStd))\n",
    "\n",
    "ax.tick_params(labelsize=7)\n",
    "ax.set_xlabel(xLabelStr, fontsize=9)\n",
    "ax.set_ylabel(\"Normalized (PDF)\".format(band), fontsize=9)\n",
    "\n",
    "ax.legend(fontsize=8)\n",
    "if doSaveFigs:\n",
    "    filename = \"{}psfFluxStdHist_{}_{}_{}\".format(saveDir, tract, band, collectionStr)\n",
    "    print(\"Saving file in: {}\".format(filename))\n",
    "    fig.savefig(filename, dpi=150)"
   ]
  },
  {
   "cell_type": "code",
   "execution_count": null,
   "id": "c92d2c6a",
   "metadata": {},
   "outputs": [],
   "source": [
    "fig, ax = plt.subplots(1, 1, figsize=(8,6))\n",
    "ax.set_title(\"{}\\n{} {} (max visit: {})\".format(collection, tract, band, max(dataJoined[\"visit\"])), fontsize=8)\n",
    "\n",
    "medianRaStd = np.median(raStdMasAll)\n",
    "n, bins, patches = ax.hist(raStdMasAll, bins=nBins, density=True, histtype=\"step\", color=\"tab:blue\", lw=2, label=\"RA (N = {})\".format(len(raStdMasAll)))\n",
    "\n",
    "medianDecStd = np.median(decStdMasAll)\n",
    "n, bins, patches = ax.hist(decStdMasAll, bins=nBins, density=True, histtype=\"step\", color=\"tab:orange\", lw=2, label=\"Dec (N = {})\".format(len(decStdMasAll)))\n",
    "\n",
    "medianRaCosDecStd = np.median(raCosDecStdMasAll)\n",
    "n, bins, patches = ax.hist(raCosDecStdMasAll, bins=nBins, density=True, histtype=\"step\", color=\"tab:green\", lw=2, label=\"RA*cos(Dec) (N = {})\".format(len(raCosDecStdMasAll)))\n",
    "\n",
    "ax.axvline(x=medianRaStd, linestyle='--', color=\"tab:blue\", linewidth=1, label=\"median: {:.2f} (mas)\".format(medianRaStd))\n",
    "ax.axvline(x=medianDecStd, linestyle='--', color=\"tab:orange\", linewidth=1, label=\"median: {:.2f} (mas)\".format(medianDecStd))\n",
    "ax.axvline(x=medianRaCosDecStd, linestyle='--', color=\"tab:green\", linewidth=1, label=\"median: {:.2f} (mas)\".format(medianRaCosDecStd))\n",
    "\n",
    "\n",
    "ax.tick_params(labelsize=7)\n",
    "ax.set_xlabel(\"std(value - valueMean) ({} mas)\".format(band), fontsize=9)\n",
    "ax.set_ylabel(\"Normalized (PDF)\".format(band), fontsize=9)\n",
    "\n",
    "# ax.set_xlim(0, 400)\n",
    "ax.legend(fontsize=8)\n",
    "if doSaveFigs:\n",
    "    filename = \"{}RaDecStdHist_{}_{}_{}\".format(saveDir, tract, band, collectionStr)\n",
    "    print(\"Saving file in: {}\".format(filename))\n",
    "    fig.savefig(filename, dpi=150)"
   ]
  },
  {
   "cell_type": "code",
   "execution_count": null,
   "id": "afa47871",
   "metadata": {},
   "outputs": [],
   "source": [
    "fig, (ax1, ax2) = plt.subplots(1, 2, figsize=(10,4))\n",
    "# ax.set_title(\"{} {} {}\".format(collection, tract, band), fontsize=8)\n",
    "fig.suptitle(\"{}\\n{} {} (max visit: {})\".format(collection, tract, band, max(dataJoined[\"visit\"])),\n",
    "             fontsize=10, y=0.98)\n",
    "ax1.axvline(x=0.0, color=\"gray\", linestyle='--', linewidth=1)\n",
    "\n",
    "n, bins, patches = ax1.hist(dataJoined[\"psfMagDiffMmag\"], bins=2*nBins, density=True, histtype=\"step\", lw=2, label=\"data\")\n",
    "\n",
    "# Gaussian fit of all data\n",
    "(mu, sigma) = scipy.stats.norm.fit(dataJoined[\"psfMagDiffMmag\"])\n",
    "yFit = scipy.stats.norm.pdf(bins, mu, sigma)\n",
    "ax1.plot(bins, yFit, \"--\", lw=1, fillstyle=\"full\",\n",
    "        label=\"Gaussian fit all\\n(N={}) \\n$\\mu$={:.2f} (mmag)\\n$\\sigma$={:.2f}(mmag)\".format(len(dataJoined), mu, sigma))\n",
    "ax1.fill_between(bins, yFit, alpha=0.2)\n",
    "\n",
    "# Gassian fit of 3-sigma clipped data\n",
    "clippedDiffArray = scipy.stats.sigmaclip(dataJoined[\"psfMagDiffMmag\"], low=3.0, high=3.0).clipped\n",
    "\n",
    "(muClipped, sigmaClipped) = scipy.stats.norm.fit(clippedDiffArray)\n",
    "yFitClipped = scipy.stats.norm.pdf(bins, muClipped, sigmaClipped)\n",
    "ax1.plot(bins, yFitClipped, \"--\", lw=1, fillstyle=\"full\",\n",
    "        label=\"3-$\\sigma$-clipped\\n(N={}) \\n$\\mu$={:.2f} (mmag) \\n$\\sigma$={:.2f}(mmag)\".format(len(clippedDiffArray), muClipped, sigmaClipped))\n",
    "ax1.fill_between(bins, yFitClipped, alpha=0.2)\n",
    "\n",
    "ax1.tick_params(labelsize=7)\n",
    "ax1.set_xlabel(\"psfFlux - psfFluxMean ({} mmag)\".format(band), fontsize=9)\n",
    "ax1.set_ylabel(\"Normalized (PDF)\".format(band), fontsize=9)\n",
    "\n",
    "ax1.set_xlim(-200, 200)\n",
    "ax1.legend(fontsize=12,loc=\"upper left\")\n",
    "\n",
    "# Plot chi histogram\n",
    "ax2.axvline(x=0.0, color=\"gray\", linestyle='--', linewidth=1)\n",
    "n, bins, patches = ax2.hist(dataJoined[\"psfMagDiffChi\"], bins=2*nBins, density=True, histtype=\"step\", lw=2, label=\"data\")\n",
    "\n",
    "# Gaussian fit of all data\n",
    "(mu, sigma) = scipy.stats.norm.fit(dataJoined[\"psfMagDiffChi\"])\n",
    "yFit = scipy.stats.norm.pdf(bins, mu, sigma)\n",
    "ax2.plot(bins, yFit, \"--\", lw=1, fillstyle=\"full\",\n",
    "        label=\"Gaussian fit all\\n(N={}) \\n$\\mu$={:.2f}\\n$\\sigma$={:.2f}\".format(len(dataJoined), mu, sigma))\n",
    "ax2.fill_between(bins, yFit, alpha=0.2)\n",
    "\n",
    "# Gassian fit of 3-sigma clipped data\n",
    "clippedDiffArray = scipy.stats.sigmaclip(dataJoined[\"psfMagDiffChi\"], low=3.0, high=3.0).clipped\n",
    "(muClipped, sigmaClipped) = scipy.stats.norm.fit(clippedDiffArray)\n",
    "yFitClipped = scipy.stats.norm.pdf(bins, muClipped, sigmaClipped)\n",
    "ax2.plot(bins, yFitClipped, \"--\", lw=1, fillstyle=\"full\",\n",
    "        label=\"3-$\\sigma$-clipped\\n(N={}) \\n$\\mu$={:.2f}\\n$\\sigma$={:.2f}\".format(len(clippedDiffArray), muClipped, sigmaClipped))\n",
    "ax2.fill_between(bins, yFitClipped, alpha=0.2)\n",
    "\n",
    "ax2.tick_params(labelsize=7)\n",
    "ax2.set_xlabel(\"$\\chi$ = (psfMagDiff)/(psfMagErr$^2$ + psfMagMeanErr$^2$)$^{1/2}$\", fontsize=9)\n",
    "ax2.set_ylabel(\"Normalized (PDF)\".format(band), fontsize=9)\n",
    "\n",
    "ax2.set_xlim(-20, 20)\n",
    "ax2.legend(fontsize=12,loc=\"upper left\")\n",
    "\n",
    "if doSaveFigs:\n",
    "    filename = \"{}psfFluxDiffHist_{}_{}_{}{}\".format(saveDir, tract, band, collectionStr, maxVisitStr)\n",
    "    print(\"Saving file in: {}\".format(filename))\n",
    "    fig.savefig(filename, dpi=150)"
   ]
  },
  {
   "cell_type": "code",
   "execution_count": null,
   "id": "b5383416-e5de-4cc5-b5c0-be590e35cb9d",
   "metadata": {},
   "outputs": [],
   "source": [
    "band"
   ]
  },
  {
   "cell_type": "code",
   "execution_count": null,
   "id": "680e5a17-5259-4168-abfe-8951945bdd75",
   "metadata": {},
   "outputs": [],
   "source": [
    "fig, ax1 = plt.subplots(1, 1, figsize=(6,5))\n",
    "# ax.set_title(\"{} {} {}\".format(collection, tract, band), fontsize=8)\n",
    "fig.suptitle(\"{}\\n{} {} (max visit: {})\".format(collection, tract, band, max(dataJoined[\"visit\"])),\n",
    "             fontsize=10, y=0.98)\n",
    "ax1.axvline(x=0.0, color=\"gray\", linestyle='--', linewidth=1)\n",
    "\n",
    "n, bins, patches = ax1.hist(dataJoined[\"psfMagDiffMmag\"], bins=2*nBins, density=True, histtype=\"step\", lw=2, label=\"data\")\n",
    "\n",
    "# Gaussian fit of all data\n",
    "(mu, sigma) = scipy.stats.norm.fit(dataJoined[\"psfMagDiffMmag\"])\n",
    "yFit = scipy.stats.norm.pdf(bins, mu, sigma)\n",
    "ax1.plot(bins, yFit, \"--\", lw=1, fillstyle=\"full\",\n",
    "        label=\"Gaussian fit all\\n(N={}) \\n$\\mu$={:.2f} (mmag)\\n$\\sigma$={:.2f}(mmag)\".format(len(dataJoined), mu, sigma))\n",
    "ax1.fill_between(bins, yFit, alpha=0.2)\n",
    "\n",
    "# Gassian fit of 3-sigma clipped data\n",
    "clippedDiffArray = scipy.stats.sigmaclip(dataJoined[\"psfMagDiffMmag\"], low=3.0, high=3.0).clipped\n",
    "\n",
    "(muClipped, sigmaClipped) = scipy.stats.norm.fit(clippedDiffArray)\n",
    "yFitClipped = scipy.stats.norm.pdf(bins, muClipped, sigmaClipped)\n",
    "ax1.plot(bins, yFitClipped, \"--\", lw=1, fillstyle=\"full\",\n",
    "        label=\"3-$\\sigma$-clipped\\n(N={}) \\n$\\mu$={:.2f} (mmag) \\n$\\sigma$={:.2f}(mmag)\".format(len(clippedDiffArray), muClipped, sigmaClipped))\n",
    "ax1.fill_between(bins, yFitClipped, alpha=0.2)\n",
    "\n",
    "ax1.tick_params(labelsize=7)\n",
    "ax1.set_xlabel(\"psfFlux - psfFluxMean ({} mmag)\".format(band), fontsize=9)\n",
    "ax1.set_ylabel(\"Normalized (PDF)\".format(band), fontsize=9)\n",
    "\n",
    "ax1.set_xlim(-200, 200)\n",
    "ax1.legend(fontsize=12,loc=\"upper right\")\n",
    "ax1.text(0.1, 0.95, \"AUXTEL\", transform=ax1.transAxes, fontsize=12,color=\"red\",verticalalignment='top', bbox=props)\n",
    "figname = f\"photomrepeat_band_{band}_auxtel.png\"\n",
    "plt.savefig(figname)\n",
    "plt.show()"
   ]
  },
  {
   "cell_type": "code",
   "execution_count": null,
   "id": "ed08acd4-da08-4689-bfce-d4652c81ae78",
   "metadata": {},
   "outputs": [],
   "source": [
    "Band_To_Cmap_Dict = {\"g\":plt.cm.Greens,\"r\":plt.cm.Reds,\"i\":plt.cm.Oranges,\"z\":plt.cm.Purples,\"y\":plt.cm.Greys}"
   ]
  },
  {
   "cell_type": "code",
   "execution_count": null,
   "id": "4090bd53-6972-4c82-b736-da84c6a573da",
   "metadata": {},
   "outputs": [],
   "source": [
    "fig, (ax1, ax2) = plt.subplots(1, 2, figsize=(10,4))\n",
    "# ax.set_title(\"{} {} {}\".format(collection, tract, band), fontsize=8)\n",
    "fig.suptitle(\"{}\\n{} {} (max visit: {})\".format(collection, tract, band, max(dataJoined[\"visit\"])),\n",
    "             fontsize=10, y=0.98)\n",
    "ax1.axvline(x=0.0, color=\"gray\", linestyle='--', linewidth=1)\n",
    "\n",
    "#n, bins, patches = ax1.hist(dataJoined[\"psfMagDiffMmag\"], bins=2*nBins, density=True, histtype=\"step\", lw=2, label=\"data\")\n",
    "ax1.hist2d(dataJoined[\"psfMag\"],dataJoined[\"psfMagDiffMmag\"], bins=max(2*nBins,100), cmap=Band_To_Cmap_Dict[band], label=\"data\")\n",
    "ax1.tick_params(labelsize=7)\n",
    "ax1.set_ylabel(\"psfFlux - psfFluxMean ({} mmag)\".format(band), fontsize=9)\n",
    "ax1.set_xlabel(\"psfMag ({})mag \".format(band), fontsize=9)\n",
    "\n",
    "ax1.set_ylim(-100, 100)\n",
    "ax1.legend(fontsize=8)\n",
    "ax1.grid()\n",
    "\n",
    "# Plot chi histogram\n",
    "ax2.axvline(x=0.0, color=\"gray\", linestyle='--', linewidth=1)\n",
    "ax2.hist2d(dataJoined[\"psfMag\"],dataJoined[\"psfMagDiffChi\"], bins=max(2*nBins,100),cmap=Band_To_Cmap_Dict[band], lw=2, label=\"data\")\n",
    "\n",
    "\n",
    "ax2.tick_params(labelsize=7)\n",
    "ax2.set_ylabel(\"$\\chi$ = (psfMagDiff)/(psfMagErr$^2$ + psfMagMeanErr$^2$)$^{1/2}$\", fontsize=9)\n",
    "ax2.set_xlabel(\"psfMag ({})mag \".format(band), fontsize=9)\n",
    "\n",
    "ax2.set_ylim(-10, 10)\n",
    "ax2.legend(fontsize=8)\n",
    "ax2.grid()\n",
    "\n",
    "if doSaveFigs:\n",
    "    filename = \"{}psfFluxDiffHist2D_{}_{}_{}{}\".format(saveDir, tract, band, collectionStr, maxVisitStr)\n",
    "    print(\"Saving file in: {}\".format(filename))\n",
    "    fig.savefig(filename, dpi=150)"
   ]
  },
  {
   "cell_type": "markdown",
   "id": "cfeb0d8b-0221-4438-99aa-9cbb51425537",
   "metadata": {},
   "source": [
    "## Classify the object into two categories according the value their psfMag dispersion (low or high)"
   ]
  },
  {
   "cell_type": "code",
   "execution_count": null,
   "id": "b4b533e5",
   "metadata": {},
   "outputs": [],
   "source": [
    "# Split out the smallest and largest PSF mag std objects (just to easily look at the extremes).\n",
    "# Large dispersion sample\n",
    "largeStdList = [index for index in psfMagStdMmagDict if psfMagStdMmagDict[index] >= 1.4*medianPsfFluxStd]\n",
    "smallStdList= [index for index in psfMagStdMmagDict if psfMagStdMmagDict[index] < 0.4*medianPsfFluxStd]\n",
    "for objectIndex in largeStdList:\n",
    "    print(\"Large Std: objectIndex = {}  number of matches = {}\".format(objectIndex, len(dataJoined[dataJoined[\"obj_index\"] == objectIndex])))\n",
    "# Low dispersion sample\n",
    "for objectIndex in smallStdList:\n",
    "    print(\"Small Std: objectIndex = {}  number of matches = {}\".format(objectIndex, len(dataJoined[dataJoined[\"obj_index\"] == objectIndex])))"
   ]
  },
  {
   "cell_type": "markdown",
   "id": "5a410bc7-36b9-4921-a82f-273e76298092",
   "metadata": {},
   "source": [
    "## Fetch calexp to extract cutout"
   ]
  },
  {
   "cell_type": "code",
   "execution_count": null,
   "id": "0a1f0771",
   "metadata": {},
   "outputs": [],
   "source": [
    "# Plot cutouts centered on matched sources from different visits for a couple of objects.\n",
    "# Selecting from the small/largeStdLists made above to look at the extremes.\n",
    "imMin, imMax, Q = -0.001, 0.004, 8\n",
    "expMin, expMax = -25, 100\n",
    "numSub = 8\n",
    "for maxBoxSize in [71]:\n",
    "    plt.close(\"all\")\n",
    "    for objInd in smallStdList[0:3] + largeStdList[1:2]:\n",
    "        joinedObjects = dataJoined[dataJoined[\"obj_index\"] == objInd]\n",
    "        numObj = len(joinedObjects)\n",
    "        print(\"numObj = {} [with obj_index = {}]\".format(numObj, objInd))\n",
    "        nRow = 1 if numObj <= numSub else (numObj // numSub) + 1\n",
    "        # print(\"nRow = {}\".format(nRow))\n",
    "        fig, axes = plt.subplots(nRow, numSub, figsize=(3*numSub, 3*nRow), constrained_layout=True)\n",
    "        joinedObjects = dataJoined[dataJoined[\"obj_index\"] == objInd]\n",
    "        \n",
    "        psfMag = joinedObjects[\"psfMag\"]\n",
    "        psfMagErr = joinedObjects[\"psfMagErr\"]\n",
    "        psfMagDiffMmag = joinedObjects[\"psfMagDiffMmag\"].values\n",
    "        psfMagStdMmag = psfMagStdMmagDict[objInd]\n",
    "\n",
    "        clippedMeanRaArray = scipy.stats.sigmaclip(joinedObjects[\"ra\"], low=3.0, high=3.0).clipped\n",
    "        clippedMeanRa = np.mean(clippedMeanRaArray)\n",
    "        clippedMeanDecArray = scipy.stats.sigmaclip(joinedObjects[\"dec\"], low=3.0, high=3.0).clipped\n",
    "        clippedMeanDec = np.mean(clippedMeanDecArray)\n",
    "\n",
    "        iObj = -1\n",
    "        for ax in axes.ravel():\n",
    "            iObj += 1\n",
    "            if iObj < numObj:\n",
    "                row = joinedObjects[iObj:iObj + 1]\n",
    "                detector = row[\"detector\"].values[0]\n",
    "                visit = row[\"visit\"].values[0]\n",
    "                psfMag = (row[\"psfFlux\"].values[0]*u.nJy).to(u.ABmag)\n",
    "                # build the data id to access to the calexp\n",
    "                dataId = {\"detector\": detector, \"visit\": visit}\n",
    "                exp = butler.get(\"calexp\", dataId)\n",
    "                wcs = exp.wcs\n",
    "                pt = geom.SpherePoint(geom.Angle(row[\"ra\"].values[0], geom.degrees),\n",
    "                                      geom.Angle(row[\"dec\"].values[0], geom.degrees))\n",
    "                (xSrc, ySrc) = wcs.skyToPixel(pt)\n",
    "                #define the bounding box\n",
    "                boxSize = int(min(maxBoxSize, xSrc, exp.getWidth()-xSrc, ySrc, exp.getHeight()-ySrc) - 1)\n",
    "\n",
    "                minBbox = geom.Point2I(int(xSrc) - boxSize ,int(ySrc) - boxSize)\n",
    "                maxBbox = geom.Point2I(int(xSrc) + boxSize, int(ySrc) + boxSize)\n",
    "                srcBbox = geom.Box2I(minBbox, maxBbox)\n",
    "\n",
    "                # Make the cutout\n",
    "                subimg = afwImage.ExposureF(exp, srcBbox, afwImage.PARENT, True)\n",
    "                subimgRgb = afwRgb.makeRGB(subimg.image.array, None, None, expMin, expMax - expMin, Q)\n",
    "\n",
    "                # Do imshow without lower ???\n",
    "                im = ax.imshow(subimgRgb, interpolation=\"nearest\", origin=\"lower\")\n",
    "                ax.text(0.5, 0.06, \"psfSig: {:.2f} pix\".format(row[\"psfSigma\"].values[0]),\n",
    "                        color=\"cyan\", fontsize=14, ha=\"center\", va=\"center\", transform=ax.transAxes)\n",
    "                ax.text(0.5, 0.15, \"{:.2f}\".format(psfMag),\n",
    "                        color=\"violet\", fontsize=14, ha=\"center\", va=\"center\", transform=ax.transAxes)\n",
    "\n",
    "                diffColor = \"red\" if np.abs(psfMagDiffMmag[iObj]) > 100 else \"lawngreen\"\n",
    "                ax.text(0.5, 0.92, \"diff: {:.2f} mmag\".format(psfMagDiffMmag[iObj]),\n",
    "                        color=diffColor, fontsize=14, ha=\"center\", va=\"center\", transform=ax.transAxes)\n",
    "\n",
    "                ax.set_title(\"{} {}sec\".format(visit, row[\"expTime\"].values[0]), fontsize=12)\n",
    "\n",
    "        color = \"green\"\n",
    "        plt.text(0.5, 0.84, \"std: {:.2f} mmag\".format(psfMagStdMmag), color=color, fontsize=14,\n",
    "                 ha=\"center\", va=\"center\", transform=ax.transAxes)\n",
    "\n",
    "        if doSaveFigs:\n",
    "            filename = \"{}{}_allOjbectsSmallStd_{}_{}_{}\".format(saveDir, camera.getName(), objInd, maxBoxSize, collectionStr)\n",
    "            print(\"Saving file in: {}\".format(filename))\n",
    "            plt.savefig(filename, dpi=250)"
   ]
  },
  {
   "cell_type": "code",
   "execution_count": null,
   "id": "8cdd225d",
   "metadata": {},
   "outputs": [],
   "source": [
    "# Plot all light curves (or as many as you include from stdList)\n",
    "stdList = [index for index in psfMagStdMmagDict]\n",
    "# Make light curves for both:\n",
    "#     psfInstMag: the \"instrument\" magnitude\n",
    "#     psfMag: the calibrated magnitude\n",
    "for magStr in [\"psfInstMag\", \"psfMag\"]:\n",
    "    fig, ax = plt.subplots(1, 1, figsize=(14, 10))\n",
    "    for objInd in stdList[:25]:\n",
    "        joinedObjects = dataJoined[dataJoined[\"obj_index\"] == objInd]\n",
    "        xData = joinedObjects[\"expMidptMjd\"]\n",
    "        yData = joinedObjects[magStr]\n",
    "        yDataErr = joinedObjects[\"psfMagErr\"]\n",
    "        yDataSorted = [y for _, y in sorted(zip(xData, yData))]\n",
    "        yDataErrSorted = [y for _, y in sorted(zip(xData, yDataErr))]\n",
    "        xDataSorted = sorted(xData)\n",
    "        ax.errorbar(xDataSorted, yDataSorted, yerr=yDataErrSorted, linestyle=\"-\", alpha=0.6, label=\"{}\".format(objInd))\n",
    "        ax.scatter(xDataSorted, yDataSorted, s=9, alpha=1.0)\n",
    "    ax.legend(fontsize=6, loc=\"upper right\")\n",
    "    ax.set_xlabel(\"{}{}\".format(\"expMidpdMjd\", \" (MJD)\"), fontsize=10)\n",
    "    ax.set_ylabel(\"{}_{}\".format(band, magStr), fontsize=10)\n",
    "    title = f\"Light Curves {magStr} for tract {tract} in band {band} (AUXTEL)\"\n",
    "    ax.set_title(title)\n",
    "    if doSaveFigs:\n",
    "        filename = \"{}{}_lightCurves_{}\".format(saveDir, camera.getName(),collectionStr)\n",
    "        print(\"Saving file in: {}\".format(filename))\n",
    "        plt.savefig(filename, dpi=150)\n",
    "    ax.grid()"
   ]
  },
  {
   "cell_type": "code",
   "execution_count": null,
   "id": "7018234b",
   "metadata": {},
   "outputs": [],
   "source": [
    "# Plot light curves divided by photo Std\n",
    "magStr = \"psfMag\"\n",
    "largeThresh = min(2.0*medianPsfFluxStd, 0.8*max(psfMagStdMmagDict.values()))\n",
    "smallThresh = max(0.5*medianPsfFluxStd, 0.2*min(psfMagStdMmagDict.values()))\n",
    "mediumThreshLower = medianPsfFluxStd - 0.04*medianPsfFluxStd\n",
    "mediumThreshUpper = medianPsfFluxStd + 0.04*medianPsfFluxStd\n",
    "largeStdList = [index for index in psfMagStdMmagDict if psfMagStdMmagDict[index] > largeThresh]\n",
    "mediumUpperStdList = [index for index in psfMagStdMmagDict if (psfMagStdMmagDict[index] < mediumThreshUpper and psfMagStdMmagDict[index] > medianPsfFluxStd)]\n",
    "mediumLowerStdList = [index for index in psfMagStdMmagDict if (psfMagStdMmagDict[index] < medianPsfFluxStd and psfMagStdMmagDict[index] > mediumThreshLower)]\n",
    "smallStdList = [index for index in psfMagStdMmagDict if psfMagStdMmagDict[index] < smallThresh]\n",
    "titleStrList = [\"psf diff std > {:.2f} mmag\".format(largeThresh),\n",
    "                \"psf diff {:.2f} < std < {:.2f} mmag\".format(medianPsfFluxStd, mediumThreshUpper),\n",
    "                \"psf diff {:.2f} < std < {:.2f} mmag\".format(mediumThreshLower, medianPsfFluxStd),\n",
    "                \"psf diff std < {:.2f} mmag\".format(smallThresh)]\n",
    "\n",
    "fig, axes = plt.subplots(4, 1, figsize=(14, 20))\n",
    "for stdList, titleStr, ax in zip([largeStdList[:10], mediumUpperStdList[:10], mediumLowerStdList[:10], smallStdList[:10]], titleStrList, axes):\n",
    "    for objInd in stdList:\n",
    "        joinedObjects = dataJoined[dataJoined[\"obj_index\"] == objInd]\n",
    "        xData = joinedObjects[\"expMidptMjd\"]\n",
    "        yData = joinedObjects[magStr]\n",
    "        yDataErr = joinedObjects[\"psfMagErr\"]\n",
    "        yDataSorted = [y for _, y in sorted(zip(xData, yData))]\n",
    "        yDataErrSorted = [y for _, y in sorted(zip(xData, yDataErr))]\n",
    "        xDataSorted = sorted(xData)\n",
    "        ax.errorbar(xDataSorted, yDataSorted, yerr=yDataErrSorted, linestyle=\"-\", alpha=0.6, label=\"{}\".format(objInd))\n",
    "        ax.scatter(xDataSorted, yDataSorted, s=9, alpha=1.0)\n",
    "    ax.legend(fontsize=6)\n",
    "    ax.set_xlabel(\"{}{}\".format(\"expMidpdMjd\", \" (MJD)\"), fontsize=10)\n",
    "    ax.set_ylabel(\"{}_psf (mag)\".format(band), fontsize=10)\n",
    "    ax.set_title(titleStr, fontsize=12, pad=4)\n",
    "    ax.grid()\n",
    "suptitle = f\"Light Curves {magStr} for tract {tract} in band {band} (AUXTEL)\"\n",
    "plt.suptitle(suptitle)\n",
    "plt.tight_layout()\n",
    "if doSaveFigs:\n",
    "    filename = \"{}{}_lightCurves_{}\".format(saveDir, camera.getName(),collectionStr)\n",
    "    print(\"Saving file in: {}\".format(filename))\n",
    "    plt.savefig(filename, dpi=150)\n",
    "plt.tight_layout()"
   ]
  },
  {
   "cell_type": "markdown",
   "id": "5bbdd82b-103f-4d92-a804-c0334cf54490",
   "metadata": {},
   "source": [
    "# Select the objects"
   ]
  },
  {
   "cell_type": "code",
   "execution_count": null,
   "id": "079ef29d-0233-4cb6-9afd-37af844ec245",
   "metadata": {},
   "outputs": [],
   "source": [
    "#index_min = min(psfMagMeanMagDict, key=psfMagMeanMagDict.get)\n",
    "index_min, magmin = min(psfMagMeanMagDict.items(), key=lambda x: x[1]) "
   ]
  },
  {
   "cell_type": "code",
   "execution_count": null,
   "id": "81b25eef-5d82-49b0-b33b-8661d2b2988c",
   "metadata": {},
   "outputs": [],
   "source": [
    "index_min, magmin "
   ]
  },
  {
   "cell_type": "code",
   "execution_count": null,
   "id": "7e68e493-8a9e-4a40-b458-1175ada6cf0b",
   "metadata": {},
   "outputs": [],
   "source": [
    "psfMagStdMmagDict[index_min]"
   ]
  },
  {
   "cell_type": "code",
   "execution_count": null,
   "id": "70d37bd1-07b0-45d2-990e-ee197e87d59a",
   "metadata": {},
   "outputs": [],
   "source": [
    "magStr"
   ]
  },
  {
   "cell_type": "code",
   "execution_count": null,
   "id": "ebfbe9e0-7f7a-428d-87aa-6a841be76621",
   "metadata": {},
   "outputs": [],
   "source": [
    "index_sel = index_min"
   ]
  },
  {
   "cell_type": "code",
   "execution_count": null,
   "id": "1c7d5426-0c59-4e33-ab23-4aaf949f4583",
   "metadata": {},
   "outputs": [],
   "source": [
    "the_selected_object = objDataList[index_sel]\n",
    "the_selected_object"
   ]
  },
  {
   "cell_type": "code",
   "execution_count": null,
   "id": "9ee744bc-89d5-420f-a40c-2fba61a5f1e0",
   "metadata": {},
   "outputs": [],
   "source": [
    "row_obj = df_obj[df_obj.objindex==index_sel]"
   ]
  },
  {
   "cell_type": "code",
   "execution_count": null,
   "id": "dd261ecd-8e78-4007-b128-087ff61e378b",
   "metadata": {},
   "outputs": [],
   "source": [
    "#output_objects_file = f\"objectTable-t{tract}-b{band}-{collectionStr}.csv\"\n",
    "#output_objects_file_truncated = f\"objectTable-t{tract}-b{band}\"\n",
    "this_object_output_file = 'sources_'+output_objects_file.replace(output_objects_file_truncated,output_objects_file_truncated+f\"-o{index_sel}\")   "
   ]
  },
  {
   "cell_type": "code",
   "execution_count": null,
   "id": "0f22465c-55ff-4f6c-b3dc-a8659b320614",
   "metadata": {},
   "outputs": [],
   "source": [
    "output_objects_file"
   ]
  },
  {
   "cell_type": "code",
   "execution_count": null,
   "id": "811e97c3-69bc-4a92-a9b0-9eeb59a529a8",
   "metadata": {},
   "outputs": [],
   "source": [
    "the_selected_object.to_csv(this_object_output_file)"
   ]
  },
  {
   "cell_type": "code",
   "execution_count": null,
   "id": "d4feb1f0-b3b0-44a7-aaec-eb48fdd286f8",
   "metadata": {},
   "outputs": [],
   "source": [
    "row_obj "
   ]
  },
  {
   "cell_type": "code",
   "execution_count": null,
   "id": "36a03f7c-9493-4dfc-ac0f-d46d6e494ce8",
   "metadata": {},
   "outputs": [],
   "source": []
  },
  {
   "cell_type": "code",
   "execution_count": null,
   "id": "0bd58023-12c1-4985-86b3-1800b990b978",
   "metadata": {},
   "outputs": [],
   "source": [
    "for magStr in [\"psfInstMag\", \"psfMag\",\"apFlux_35_0_calMag\",\"apFlux_50_0_calMag\",\"localPhotoCalib\"]:  \n",
    "    magerrStr = magStr+\"Err\"\n",
    "    fig, ax = plt.subplots(1, 1, figsize=(14, 2))   \n",
    "    xData = the_selected_object[\"expMidptMjd\"]\n",
    "    yData = the_selected_object[magStr]\n",
    "    yDataErr = the_selected_object[magerrStr]\n",
    "    yDataSorted = [y for _, y in sorted(zip(xData, yData))]\n",
    "    yDataErrSorted = [y for _, y in sorted(zip(xData, yDataErr))]\n",
    "    xDataSorted = sorted(xData)\n",
    "    \n",
    "    ax.errorbar(xDataSorted, yDataSorted, yerr=yDataErrSorted, linestyle=\"-\", color=\"b\",alpha=0.6, label=f\"{magStr}\".format(objInd))\n",
    "    ax.scatter(xDataSorted, yDataSorted, s=9, c='r',alpha=1.0)\n",
    "    ax.grid()\n",
    "\n",
    "    \n",
    "    ax.legend(fontsize=6, loc=\"upper right\")\n",
    "    ax.set_xlabel(\"{}{}\".format(\"expMidpdMjd\", \" (MJD)\"), fontsize=10)\n",
    "    ax.set_ylabel(\"{}_{}\".format(band, magStr), fontsize=10)\n",
    "    title = f\"Light Curve for object {index_sel}  {magStr} for tract {tract} in band {band} (AUXTEL)\"\n",
    "    ax.set_title(title)"
   ]
  },
  {
   "cell_type": "code",
   "execution_count": null,
   "id": "a933270c-2570-41b6-a1e0-a21aaff52a3b",
   "metadata": {},
   "outputs": [],
   "source": [
    "fig, ax = plt.subplots(1, 1, figsize=(14, 2))   \n",
    "xData = the_selected_object[\"expMidptMjd\"]\n",
    "yData = the_selected_object[\"apFlux_50_0_calMag\"] - the_selected_object[\"apFlux_35_0_calMag\"]\n",
    "label = \"apFlux_50_0_calMag - apFlux_35_0_calMag\"\n",
    "yDataErr = np.sqrt(the_selected_object[\"apFlux_35_0_calMagErr\"]**2 + the_selected_object[\"apFlux_50_0_calMagErr\"]**2)\n",
    "yDataSorted = [y for _, y in sorted(zip(xData, yData))]\n",
    "yDataErrSorted = [y for _, y in sorted(zip(xData, yDataErr))]\n",
    "xDataSorted = sorted(xData)\n",
    "ax.errorbar(xDataSorted, yDataSorted, yerr=yDataErrSorted, linestyle=\"-\", color=\"b\",alpha=0.6, label=label.format(objInd))\n",
    "ax.scatter(xDataSorted, yDataSorted, s=9, c='r',alpha=1.0)\n",
    "ax.grid()\n",
    "ax.legend(fontsize=6, loc=\"upper right\")\n",
    "ax.set_xlabel(\"{}{}\".format(\"expMidpdMjd\", \" (MJD)\"), fontsize=10)\n",
    "ax.set_ylabel(\"{}_{}\".format(band, magStr), fontsize=10)\n",
    "title = f\"Light Curve for object {index_sel} {label} for tract {tract} in band {band} (AUXTEL)\"\n",
    "ax.set_title(title)"
   ]
  },
  {
   "cell_type": "code",
   "execution_count": null,
   "id": "ce11ec18-33b0-4f5a-aee2-3cfd2f8ae9cf",
   "metadata": {},
   "outputs": [],
   "source": [
    "fig, ax = plt.subplots(1, 1, figsize=(14, 2))   \n",
    "xData = the_selected_object[\"expMidptMjd\"]\n",
    "yData = the_selected_object[\"psfMag\"] - the_selected_object[\"apFlux_35_0_calMag\"]\n",
    "label = \"psfMag - apFlux_35_0_calMag\"\n",
    "yDataErr = np.sqrt(the_selected_object[\"apFlux_35_0_calMagErr\"]**2 + the_selected_object[\"psfMagErr\"]**2)\n",
    "yDataSorted = [y for _, y in sorted(zip(xData, yData))]\n",
    "yDataErrSorted = [y for _, y in sorted(zip(xData, yDataErr))]\n",
    "xDataSorted = sorted(xData)\n",
    "ax.errorbar(xDataSorted, yDataSorted, yerr=yDataErrSorted, linestyle=\"-\", color=\"b\",alpha=0.6, label=label.format(objInd))\n",
    "ax.scatter(xDataSorted, yDataSorted, s=9, c='r',alpha=1.0)\n",
    "ax.grid()\n",
    "ax.legend(fontsize=6, loc=\"upper right\")\n",
    "ax.set_xlabel(\"{}{}\".format(\"expMidpdMjd\", \" (MJD)\"), fontsize=10)\n",
    "ax.set_ylabel(\"{}_{}\".format(band, magStr), fontsize=10)\n",
    "title = f\"Light Curve for object {index_sel} {label} for tract {tract} in band {band} (AUXTEL)\"\n",
    "ax.set_title(title)"
   ]
  },
  {
   "cell_type": "code",
   "execution_count": null,
   "id": "2251572b-447c-4ba4-b042-b4b3c493d1dc",
   "metadata": {},
   "outputs": [],
   "source": [
    "fig, ax = plt.subplots(1, 1, figsize=(14, 2))   \n",
    "xData = the_selected_object[\"expMidptMjd\"]\n",
    "yData = the_selected_object[\"psfMag\"] - the_selected_object[\"apFlux_50_0_calMag\"]\n",
    "label = \"psfMag - apFlux_50_0_calMag\"\n",
    "yDataErr = np.sqrt(the_selected_object[\"apFlux_50_0_calMagErr\"]**2 + the_selected_object[\"psfMagErr\"]**2)\n",
    "yDataSorted = [y for _, y in sorted(zip(xData, yData))]\n",
    "yDataErrSorted = [y for _, y in sorted(zip(xData, yDataErr))]\n",
    "xDataSorted = sorted(xData)\n",
    "ax.errorbar(xDataSorted, yDataSorted, yerr=yDataErrSorted, linestyle=\"-\", color=\"b\",alpha=0.6, label=label.format(objInd))\n",
    "ax.scatter(xDataSorted, yDataSorted, s=9, c='r',alpha=1.0)\n",
    "ax.grid()\n",
    "ax.legend(fontsize=6, loc=\"upper right\")\n",
    "ax.set_xlabel(\"{}{}\".format(\"expMidpdMjd\", \" (MJD)\"), fontsize=10)\n",
    "ax.set_ylabel(\"{}_{}\".format(band, magStr), fontsize=10)\n",
    "title = f\"Light Curve for object {index_sel} {label} for tract {tract} in band {band} (AUXTEL)\"\n",
    "ax.set_title(title)"
   ]
  },
  {
   "cell_type": "code",
   "execution_count": null,
   "id": "eb25456c-501a-4730-b1c6-f831adb0b686",
   "metadata": {},
   "outputs": [],
   "source": [
    "the_selected_object[\"visit\"]"
   ]
  },
  {
   "cell_type": "code",
   "execution_count": null,
   "id": "be1a6233-ef96-46f7-8bf1-164acba9598a",
   "metadata": {},
   "outputs": [],
   "source": [
    "fig, ax = plt.subplots(1, 1, figsize=(14, 3))   \n",
    "the_selected_object.plot.scatter(x=\"visit\",y=\"psfMag\",s=5.,c=\"seeing\",ax=ax,cmap=\"jet\",rot=45)\n"
   ]
  },
  {
   "cell_type": "code",
   "execution_count": null,
   "id": "aca1c707-3d01-48e7-a902-2ad24460b06e",
   "metadata": {},
   "outputs": [],
   "source": [
    "type(the_selected_object)"
   ]
  },
  {
   "cell_type": "code",
   "execution_count": null,
   "id": "31359e98-6f09-421f-bf62-33c1d79766ca",
   "metadata": {},
   "outputs": [],
   "source": [
    "index_sel = 912"
   ]
  },
  {
   "cell_type": "code",
   "execution_count": null,
   "id": "ecd96540-7884-4043-a89c-516c2d2b2394",
   "metadata": {},
   "outputs": [],
   "source": [
    "the_selected_object = objDataList[index_sel]\n",
    "the_selected_object"
   ]
  },
  {
   "cell_type": "code",
   "execution_count": null,
   "id": "91a106cb-c840-4fc7-bd2d-883c9b7c6d9a",
   "metadata": {},
   "outputs": [],
   "source": [
    "row_obj = df_obj[df_obj.objindex==index_sel]"
   ]
  },
  {
   "cell_type": "code",
   "execution_count": null,
   "id": "d7976e1c-f70f-4c99-b7bc-bc28fbea7f86",
   "metadata": {},
   "outputs": [],
   "source": [
    "#output_objects_file = f\"objectTable-t{tract}-b{band}-{collectionStr}.csv\"\n",
    "#output_objects_file_truncated = f\"objectTable-t{tract}-b{band}\"\n",
    "#this_object_output_file = output_objects_file.replace(output_objects_file_truncated,output_objects_file_truncated+f\"-o{index_sel}\")   \n",
    "this_object_output_file = 'sources_'+output_objects_file.replace(output_objects_file_truncated,output_objects_file_truncated+f\"-o{index_sel}\")   "
   ]
  },
  {
   "cell_type": "code",
   "execution_count": null,
   "id": "dd969b40-a0e9-4de4-9757-2c74da791687",
   "metadata": {},
   "outputs": [],
   "source": [
    "the_selected_object.to_csv(this_object_output_file)"
   ]
  },
  {
   "cell_type": "code",
   "execution_count": null,
   "id": "d0b7261f-8818-42b3-bb6d-11ae2d7796b9",
   "metadata": {},
   "outputs": [],
   "source": [
    "row_obj = df_obj[df_obj.objindex==index_sel]"
   ]
  },
  {
   "cell_type": "code",
   "execution_count": null,
   "id": "8a03fc2a-4d91-42f5-86c8-17d4bdfd0f14",
   "metadata": {},
   "outputs": [],
   "source": [
    "#for magStr in [\"psfInstMag\", \"psfMag\"]:   \n",
    "for magStr in [\"psfInstMag\", \"psfMag\",\"apFlux_35_0_calMag\",\"apFlux_50_0_calMag\",\"localPhotoCalib\"]:  \n",
    "    magerrStr = magStr+\"Err\"\n",
    "    fig, ax = plt.subplots(1, 1, figsize=(14, 2))   \n",
    "    xData = the_selected_object[\"expMidptMjd\"]\n",
    "    yData = the_selected_object[magStr]\n",
    "    yDataErr = the_selected_object[magerrStr]\n",
    "    yDataSorted = [y for _, y in sorted(zip(xData, yData))]\n",
    "    yDataErrSorted = [y for _, y in sorted(zip(xData, yDataErr))]\n",
    "    xDataSorted = sorted(xData)\n",
    "    ax.errorbar(xDataSorted, yDataSorted, yerr=yDataErrSorted, linestyle=\"-\", color=\"b\",alpha=0.6, label=\"{}\".format(objInd))\n",
    "    ax.scatter(xDataSorted, yDataSorted, s=9, c='r',alpha=1.0)\n",
    "    ax.legend(fontsize=6, loc=\"upper right\")\n",
    "    ax.grid()\n",
    "    ax.set_xlabel(\"{}{}\".format(\"expMidpdMjd\", \" (MJD)\"), fontsize=10)\n",
    "    ax.set_ylabel(\"{}_{}\".format(band, magStr), fontsize=10)\n",
    "    #title = f\"Light Curves {magStr} for tract {tract} in band {band} (AUXTEL)\"\n",
    "    title = f\"Light Curve for object {index_sel}  {magStr} for tract {tract} in band {band} (AUXTEL)\"\n",
    "    ax.set_title(title)"
   ]
  },
  {
   "cell_type": "code",
   "execution_count": null,
   "id": "5c2ac971-65ea-4997-a11f-5ae7a6ae5abc",
   "metadata": {},
   "outputs": [],
   "source": [
    "fig, ax = plt.subplots(1, 1, figsize=(14, 2))   \n",
    "xData = the_selected_object[\"expMidptMjd\"]\n",
    "yData = the_selected_object[\"apFlux_50_0_calMag\"] - the_selected_object[\"apFlux_35_0_calMag\"]\n",
    "label = \"apFlux_50_0_calMag - apFlux_35_0_calMag\"\n",
    "yDataErr = np.sqrt(the_selected_object[\"apFlux_35_0_calMagErr\"]**2 + the_selected_object[\"apFlux_50_0_calMagErr\"]**2)\n",
    "yDataSorted = [y for _, y in sorted(zip(xData, yData))]\n",
    "yDataErrSorted = [y for _, y in sorted(zip(xData, yDataErr))]\n",
    "xDataSorted = sorted(xData)\n",
    "ax.errorbar(xDataSorted, yDataSorted, yerr=yDataErrSorted, linestyle=\"-\", color=\"b\",alpha=0.6, label=label.format(objInd))\n",
    "ax.scatter(xDataSorted, yDataSorted, s=9, c='r',alpha=1.0)\n",
    "ax.grid()\n",
    "ax.legend(fontsize=6, loc=\"upper right\")\n",
    "ax.set_xlabel(\"{}{}\".format(\"expMidpdMjd\", \" (MJD)\"), fontsize=10)\n",
    "ax.set_ylabel(\"{}_{}\".format(band, magStr), fontsize=10)\n",
    "title = f\"Light Curve for object {index_sel} {label} for tract {tract} in band {band} (AUXTEL)\"\n",
    "ax.set_title(title)"
   ]
  },
  {
   "cell_type": "code",
   "execution_count": null,
   "id": "c7ecddc7-0e29-4bcf-b513-fa65704d631c",
   "metadata": {},
   "outputs": [],
   "source": [
    "fig, ax = plt.subplots(1, 1, figsize=(14, 2))   \n",
    "xData = the_selected_object[\"expMidptMjd\"]\n",
    "yData = the_selected_object[\"psfMag\"] - the_selected_object[\"apFlux_35_0_calMag\"]\n",
    "label = \"psfMag - apFlux_35_0_calMag\"\n",
    "yDataErr = np.sqrt(the_selected_object[\"apFlux_35_0_calMagErr\"]**2 + the_selected_object[\"psfMagErr\"]**2)\n",
    "yDataSorted = [y for _, y in sorted(zip(xData, yData))]\n",
    "yDataErrSorted = [y for _, y in sorted(zip(xData, yDataErr))]\n",
    "xDataSorted = sorted(xData)\n",
    "ax.errorbar(xDataSorted, yDataSorted, yerr=yDataErrSorted, linestyle=\"-\", color=\"b\",alpha=0.6, label=label.format(objInd))\n",
    "ax.scatter(xDataSorted, yDataSorted, s=9, c='r',alpha=1.0)\n",
    "ax.grid()\n",
    "ax.legend(fontsize=6, loc=\"upper right\")\n",
    "ax.set_xlabel(\"{}{}\".format(\"expMidpdMjd\", \" (MJD)\"), fontsize=10)\n",
    "ax.set_ylabel(\"{}_{}\".format(band, magStr), fontsize=10)\n",
    "title = f\"Light Curve for object {index_sel} {label} for tract {tract} in band {band} (AUXTEL)\"\n",
    "ax.set_title(title)"
   ]
  },
  {
   "cell_type": "code",
   "execution_count": null,
   "id": "a64fa9c8-cece-4e0e-9acd-60ef23b41d0e",
   "metadata": {},
   "outputs": [],
   "source": [
    "fig, ax = plt.subplots(1, 1, figsize=(14, 2))   \n",
    "xData = the_selected_object[\"expMidptMjd\"]\n",
    "yData = the_selected_object[\"psfMag\"] - the_selected_object[\"apFlux_50_0_calMag\"]\n",
    "label = \"psfMag - apFlux_50_0_calMag\"\n",
    "yDataErr = np.sqrt(the_selected_object[\"apFlux_50_0_calMagErr\"]**2 + the_selected_object[\"psfMagErr\"]**2)\n",
    "yDataSorted = [y for _, y in sorted(zip(xData, yData))]\n",
    "yDataErrSorted = [y for _, y in sorted(zip(xData, yDataErr))]\n",
    "xDataSorted = sorted(xData)\n",
    "ax.errorbar(xDataSorted, yDataSorted, yerr=yDataErrSorted, linestyle=\"-\", color=\"b\",alpha=0.6, label=label.format(objInd))\n",
    "ax.scatter(xDataSorted, yDataSorted, s=9, c='r',alpha=1.0)\n",
    "ax.grid()\n",
    "ax.legend(fontsize=6, loc=\"upper right\")\n",
    "ax.set_xlabel(\"{}{}\".format(\"expMidpdMjd\", \" (MJD)\"), fontsize=10)\n",
    "ax.set_ylabel(\"{}_{}\".format(band, magStr), fontsize=10)\n",
    "title = f\"Light Curve for object {index_sel} {label} for tract {tract} in band {band} (AUXTEL)\"\n",
    "ax.set_title(title)"
   ]
  }
 ],
 "metadata": {
  "kernelspec": {
   "display_name": "LSST",
   "language": "python",
   "name": "lsst"
  },
  "language_info": {
   "codemirror_mode": {
    "name": "ipython",
    "version": 3
   },
   "file_extension": ".py",
   "mimetype": "text/x-python",
   "name": "python",
   "nbconvert_exporter": "python",
   "pygments_lexer": "ipython3",
   "version": "3.11.7"
  }
 },
 "nbformat": 4,
 "nbformat_minor": 5
}
