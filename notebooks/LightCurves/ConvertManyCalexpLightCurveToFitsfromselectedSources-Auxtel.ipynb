{
 "cells": [
  {
   "cell_type": "markdown",
   "id": "45bf4242-bfc5-4d43-88c4-a8059ae148df",
   "metadata": {},
   "source": [
    "# Convert a series of calexp into fits files from sources Light Curve"
   ]
  },
  {
   "cell_type": "markdown",
   "id": "01993b6e-6438-4fca-a5d5-1f9791336847",
   "metadata": {},
   "source": [
    "- author Sylvie Dagoret-Campagne\n",
    "- creation date 2024-05-29\n",
    "- last update 2024-05-31\n",
    "- affiliation : IJCLab\n",
    "- Kernel **w_2024_16**\n"
   ]
  },
  {
   "cell_type": "code",
   "execution_count": null,
   "id": "bf752b70-e6ca-4cbf-8e8c-20bf7f0d8f61",
   "metadata": {},
   "outputs": [],
   "source": [
    "import numpy as np\n",
    "import matplotlib.pyplot as plt\n",
    "%matplotlib inline\n",
    "from mpl_toolkits.axes_grid1 import make_axes_locatable\n",
    "from matplotlib.colors import LogNorm,SymLogNorm\n",
    "\n",
    "\n",
    "import matplotlib.ticker                         # here's where the formatter is\n",
    "from matplotlib.ticker import (MultipleLocator, FormatStrFormatter,\n",
    "                               AutoMinorLocator)\n",
    "\n",
    "from astropy.visualization import (MinMaxInterval, SqrtStretch,ZScaleInterval,PercentileInterval,\n",
    "                                   ImageNormalize,imshow_norm)\n",
    "from astropy.visualization.stretch import SinhStretch, LinearStretch,AsinhStretch,LogStretch\n",
    "\n",
    "from astropy.io import fits\n",
    "from astropy.wcs import WCS\n",
    "\n",
    "\n",
    "import pandas as pd\n",
    "pd.set_option(\"display.max_columns\", None)\n",
    "pd.set_option('display.max_rows', 100)\n",
    "\n",
    "import matplotlib.ticker                         # here's where the formatter is\n",
    "import os\n",
    "import re\n",
    "import pandas as pd\n",
    "import pickle\n",
    "from collections import OrderedDict\n",
    "\n",
    "plt.rcParams[\"figure.figsize\"] = (4,3)\n",
    "plt.rcParams[\"axes.labelsize\"] = 'x-large'\n",
    "plt.rcParams['axes.titlesize'] = 'x-large'\n",
    "plt.rcParams['xtick.labelsize']= 'x-large'\n",
    "plt.rcParams['ytick.labelsize']= 'x-large'"
   ]
  },
  {
   "cell_type": "code",
   "execution_count": null,
   "id": "4950be9c-6c53-44ba-9804-d89a6b877534",
   "metadata": {},
   "outputs": [],
   "source": [
    "import gc"
   ]
  },
  {
   "cell_type": "code",
   "execution_count": null,
   "id": "0ca0d1e6-5f82-4c43-aaa3-8524fc2bc5ba",
   "metadata": {},
   "outputs": [],
   "source": [
    "from matplotlib.ticker import (MultipleLocator, FormatStrFormatter,\n",
    "                               AutoMinorLocator)\n",
    "\n",
    "from astropy.visualization import (MinMaxInterval, SqrtStretch,ZScaleInterval,PercentileInterval,\n",
    "                                   ImageNormalize,imshow_norm)\n",
    "from astropy.visualization.stretch import SinhStretch, LinearStretch,AsinhStretch,LogStretch\n",
    "\n",
    "from astropy.time import Time\n"
   ]
  },
  {
   "cell_type": "code",
   "execution_count": null,
   "id": "51ddfce4-9a0f-4804-bc6a-7f9138874f16",
   "metadata": {},
   "outputs": [],
   "source": [
    "import lsst.daf.butler as dafButler\n",
    "#import lsst.summit.utils.butlerUtils as butlerUtils"
   ]
  },
  {
   "cell_type": "code",
   "execution_count": null,
   "id": "34f037b5-b6a2-4f93-b86b-a6108d8a5ea7",
   "metadata": {},
   "outputs": [],
   "source": [
    "import lsst.afw.image as afwImage\n",
    "import lsst.afw.display as afwDisplay\n",
    "import lsst.afw.table as afwTable\n",
    "import lsst.geom as geom"
   ]
  },
  {
   "cell_type": "code",
   "execution_count": null,
   "id": "7f26c627-fc82-4f60-8e0a-c25657f092f9",
   "metadata": {},
   "outputs": [],
   "source": [
    "# LSST Display\n",
    "import lsst.afw.display as afwDisplay\n",
    "afwDisplay.setDefaultBackend('matplotlib')"
   ]
  },
  {
   "cell_type": "code",
   "execution_count": null,
   "id": "aba2cfa4-809a-4f1c-8e8f-9f81547e0b5e",
   "metadata": {},
   "outputs": [],
   "source": [
    "transform = AsinhStretch() + PercentileInterval(99.)"
   ]
  },
  {
   "cell_type": "code",
   "execution_count": null,
   "id": "b26e1f0b-83be-4348-b87c-88294ec7c8d6",
   "metadata": {},
   "outputs": [],
   "source": [
    "# INSERT YOUR collection and tract\n",
    "# for rehearsal use collection 2 which have CCDvisit\n",
    "butlerRoot = \"/repo/embargo\"\n",
    "\n",
    "collection1 = 'LSSTComCamSim/runs/nightlyvalidation/20240402/d_2024_03_29/DM-43612'\n",
    "collection2 = 'LSSTComCamSim/runs/nightlyvalidation/20240403/d_2024_03_29/DM-43612'\n",
    "collection3 = 'LSSTComCamSim/runs/nightlyvalidation/20240404/d_2024_03_29/DM-43612'\n",
    "collection = 'LATISS/runs/AUXTEL_DRP_IMAGING_20230509_20240414/w_2024_15/PREOPS-5069' # COMPLETED\n",
    "\n",
    "collectionn = collection\n",
    "#collections = [collection1,collection2,collection3]\n",
    "collections = [collection]\n",
    "collectionStr = collectionn.replace(\"/\", \"_\")\n",
    "fn_ccdVisit_tracts_patches = f\"ccdVisittractpatch_{collectionStr}.csv\"\n",
    "instrument = 'LATISS'\n",
    "skymapName = \"latiss_v1\"\n",
    "where_clause = \"instrument = \\'\" + instrument+ \"\\'\"\n",
    "tract = 3864 # mostly for light-curves\n",
    "patch_sel = 236\n",
    "band = 'g'\n",
    "#tract = 5615\n",
    "# tract = 5634 # interesting to view calib parameters\n",
    "suptitle = collectionStr + f\" inst = {instrument} tract = {tract}\""
   ]
  },
  {
   "cell_type": "code",
   "execution_count": null,
   "id": "3048e2e2-2489-43e0-a96d-848c548700cb",
   "metadata": {},
   "outputs": [],
   "source": [
    "#dataId = {\"skymap\": \"latiss_v1\", \"tract\": 5615, \"instrument\": \"LATISS\"}\n",
    "dataId = {\"skymap\": skymapName, \"tract\": tract, \"instrument\": instrument}\n",
    "repo = '/sdf/group/rubin/repo/oga/'\n",
    "butler = dafButler.Butler(repo)\n",
    "#t = Butler.get(table_sel, dataId=dataId, collections=collections)\n",
    "registry = butler.registry"
   ]
  },
  {
   "cell_type": "code",
   "execution_count": null,
   "id": "d87b3bde-871f-4eba-87f7-1ee1ade704c5",
   "metadata": {},
   "outputs": [],
   "source": [
    "skymap_auxtel ='latiss_v1'\n",
    "skymap = butler.get('skyMap', skymap=skymap_auxtel, collections=collections)"
   ]
  },
  {
   "cell_type": "code",
   "execution_count": null,
   "id": "aabccbc1-c6dd-42b5-b766-84d15c9e1ab6",
   "metadata": {},
   "outputs": [],
   "source": [
    "def remove_figure(fig):\n",
    "    \"\"\"\n",
    "    Remove a figure to reduce memory footprint.\n",
    "\n",
    "    Parameters\n",
    "    ----------\n",
    "    fig: matplotlib.figure.Figure\n",
    "        Figure to be removed.\n",
    "\n",
    "    Returns\n",
    "    -------\n",
    "    None\n",
    "    \"\"\"\n",
    "    # get the axes and clear their images\n",
    "    for ax in fig.get_axes():\n",
    "        for im in ax.get_images():\n",
    "            im.remove()\n",
    "    fig.clf()       # clear the figure\n",
    "    plt.close(fig)  # close the figure\n",
    "    gc.collect()    # call the garbage collector"
   ]
  },
  {
   "cell_type": "code",
   "execution_count": null,
   "id": "217d9116-61a1-4ab3-9ba4-4cc8668956e8",
   "metadata": {},
   "outputs": [],
   "source": [
    "def get_corners_radec(wcs, bbox):\n",
    "    \"\"\"\n",
    "    Return the corners in RA,Dec in degrees given the WCS and bounding box for an image.\n",
    "\n",
    "    Parameters\n",
    "    ----------\n",
    "    wcs: image WCS returned by the Butler\n",
    "    bbox: bounding box returned by the Butler\n",
    "\n",
    "    Returns\n",
    "    -------\n",
    "    corners_ra, corners_dec in decimal degrees\n",
    "    \"\"\"\n",
    "\n",
    "    corners_x = [bbox.beginX, bbox.beginX, bbox.endX, bbox.endX]\n",
    "    corners_y = [bbox.beginY, bbox.endY, bbox.endY, bbox.beginY]\n",
    "    corners_ra = []\n",
    "    corners_dec = []\n",
    "    for i in range(4):\n",
    "        radec = wcs.pixelToSky(corners_x[i], corners_y[i])\n",
    "        corners_ra.append(radec.getRa().asDegrees())\n",
    "        corners_dec.append(radec.getDec().asDegrees())\n",
    "    \n",
    "    return corners_ra, corners_dec"
   ]
  },
  {
   "cell_type": "code",
   "execution_count": null,
   "id": "81240109-5d2e-4829-82dc-dddc9d4cda05",
   "metadata": {},
   "outputs": [],
   "source": [
    "def convert_fluxtomag(x) :\n",
    "    \"\"\"\n",
    "    The object and source catalogs store only fluxes. There are hundreds of flux-related columns, \n",
    "    and to store them also as magnitudes would be redundant, and a waste of space.\n",
    "    All flux units are nanojanskys. The AB Magnitudes Wikipedia page provides a concise resource \n",
    "    for users unfamiliar with AB magnitudes and jansky fluxes. To convert to AB magnitudes use:\n",
    "    As demonstrated in Section 2.3.2, to add columns of magnitudes after retrieving columns of flux, users can do this:\n",
    "    results_table['r_calibMag'] = -2.50 * numpy.log10(results_table['r_calibFlux']) + 31.4\n",
    "    results_table['r_cModelMag'] = -2.50 * numpy.log10(results_table['r_cModelFlux']) + 31.4\n",
    "    (from DP0 tutorial)\n",
    "    \"\"\"\n",
    "    return -2.50 * np.log10(x) + 31.4"
   ]
  },
  {
   "cell_type": "code",
   "execution_count": null,
   "id": "376d915b-f1cd-47ab-9d83-5e7a368da1a4",
   "metadata": {},
   "outputs": [],
   "source": [
    "def savecalexp(visitId,path):\n",
    "    \"\"\"\n",
    "    inputs\n",
    "      - visitid\n",
    "      - path\n",
    "      - collection\n",
    "    \"\"\"\n",
    "\n",
    "    filename_out = f\"exposure_{visitId}_calexp.fits\"\n",
    "    fullfilename_out=os.path.join(path,filename_out)\n",
    "\n",
    "    datasetType = 'calexp'\n",
    "    dataId = {'visit': visitId, 'instrument':instrument , 'detector': 0}\n",
    "    datasetRefs = registry.queryDatasets(datasetType, dataId=dataId, collections  = collection)\n",
    "\n",
    "    for i, ref in enumerate(datasetRefs):\n",
    "        print(ref.dataId)\n",
    "        print(\"band:\", ref.dataId['band'])\n",
    "        band = ref.dataId['band']\n",
    "    \n",
    "    calexp = butler.get(datasetType, **dataId,collections=collections)\n",
    "    calexp_info = calexp.getInfo()\n",
    "    photocalib = calexp_info.getPhotoCalib()\n",
    "    expo_photocalibconstant_mean = photocalib.getCalibrationMean()\n",
    "    expo_photocalibconstant_error = photocalib.getCalibrationErr()\n",
    "    calexp_md = calexp_info.getMetadata()\n",
    "    magzero,magzero_rms,magzero_nobj = calexp_md[\"MAGZERO\"],calexp_md[\"MAGZERO_RMS\"],calexp_md[\"MAGZERO_NOBJ\"] \n",
    "    bgmean,bgvar = calexp_md[\"BGMEAN\"],calexp_md[\"BGVAR\"]\n",
    "\n",
    "    mask = calexp.mask.array\n",
    "    the_mask = np.where(mask==0,1,0)\n",
    "\n",
    "    img = calexp.image.array \n",
    "    wcs = calexp.getWcs()\n",
    "    # Convert WCS-DM to astropy WCS\n",
    "    the_fits_WCS = WCS(wcs.getFitsMetadata())\n",
    "\n",
    "    # create the header\n",
    "    header = the_fits_WCS.to_header()\n",
    "\n",
    "    md = calexp_md.toDict() \n",
    "\n",
    "    for key,value in md.items():\n",
    "    # DS9 cannot read long cards    \n",
    "        if len(key)<8:\n",
    "            header[str(key)] = value\n",
    " \n",
    "    primary_hdu = fits.PrimaryHDU(header=header)\n",
    "    image_hdu = fits.ImageHDU(img)\n",
    "    hdu_list = fits.HDUList([primary_hdu, image_hdu])\n",
    "    hdu_list.writeto(fullfilename_out,overwrite=True)    \n",
    "\n",
    "    return header\n"
   ]
  },
  {
   "cell_type": "markdown",
   "id": "45ce64d8-57d2-434a-8eb9-6806ad91796d",
   "metadata": {},
   "source": [
    "## Get Pixel Scale"
   ]
  },
  {
   "cell_type": "code",
   "execution_count": null,
   "id": "4768de88-d762-4653-9172-b46d50b25e40",
   "metadata": {},
   "outputs": [],
   "source": [
    "import lsst.geom as geom\n",
    "import lsst.sphgeom\n",
    "\n",
    "skymap = butler.get('skyMap', skymap=skymapName, collections=collections )\n",
    "tractInfo = skymap.generateTract(tract)\n",
    "for patch in tractInfo:    \n",
    "    patchID = patch.getSequentialIndex()\n",
    "        \n",
    "    ibb=patch.getInnerBBox()\n",
    "    tWCS=tractInfo.getWcs()\n",
    "       \n",
    "    # loop on the 4 corners\n",
    "    for icorn,corner in enumerate(ibb.getCorners()):\n",
    "        p = geom.Point2D(corner.getX(), corner.getY())\n",
    "        coord = tWCS.pixelToSky(p)"
   ]
  },
  {
   "cell_type": "code",
   "execution_count": null,
   "id": "634358b4-e8a9-489f-b7a2-88f0a1414e95",
   "metadata": {},
   "outputs": [],
   "source": [
    "tWCS"
   ]
  },
  {
   "cell_type": "code",
   "execution_count": null,
   "id": "1ba56f4f-773a-4287-89ba-7e9559a2a1c7",
   "metadata": {},
   "outputs": [],
   "source": [
    "#arcsec/pixel\n",
    "pixel_scale = tWCS.getPixelScale().asArcseconds()"
   ]
  },
  {
   "cell_type": "markdown",
   "id": "35b5b65f-a6ca-4e98-a54c-d72cf3f5ca89",
   "metadata": {},
   "source": [
    "## Selected visits"
   ]
  },
  {
   "cell_type": "code",
   "execution_count": null,
   "id": "d9f0bdef-d228-43ed-afa3-ebc48db575c7",
   "metadata": {},
   "outputs": [],
   "source": [
    "#inputfilename = \"sources_objectTable-t3864-bg-o547-LATISS_runs_AUXTEL_DRP_IMAGING_20230509_20240414_w_2024_15_PREOPS-5069.csv\"\n",
    "inputfilename = \"sources_objectTable-t3864-bg-o912-LATISS_runs_AUXTEL_DRP_IMAGING_20230509_20240414_w_2024_15_PREOPS-5069.csv\"\n",
    "df_myselectedvisits = pd.read_csv(inputfilename ,index_col=0)\n",
    "tract = 3864\n",
    "band = \"g\"\n",
    "objectname = 912\n",
    "path = f\"calexp_t{tract}_b{band}_o{objectname}\"\n",
    "title = f\"Auxtel Light Curves : tract = {tract}, band = {band}, object = {objectname} \"\n",
    "suptitle = inputfilename "
   ]
  },
  {
   "cell_type": "code",
   "execution_count": null,
   "id": "12f6aaf4-efdb-43b7-ab2f-0076078ba2c8",
   "metadata": {},
   "outputs": [],
   "source": [
    "if not os.path.exists(path):\n",
    "    os.mkdir(path)"
   ]
  },
  {
   "cell_type": "code",
   "execution_count": null,
   "id": "178b2ca6-b787-410f-8667-36a2b65e9eb6",
   "metadata": {},
   "outputs": [],
   "source": [
    "df_myselectedvisits.sort_values(\"visit\",inplace=True)\n",
    "#df_myselectedvisits.sort_index(inplace=True)"
   ]
  },
  {
   "cell_type": "code",
   "execution_count": null,
   "id": "53e7e649-c9e7-408f-a4bc-9d7a1ec0ff59",
   "metadata": {},
   "outputs": [],
   "source": [
    "df_myselectedvisits"
   ]
  },
  {
   "cell_type": "code",
   "execution_count": null,
   "id": "3f7866e0-b685-4abd-9b68-15cc21d0c001",
   "metadata": {},
   "outputs": [],
   "source": [
    "fig,ax = plt.subplots(1,1,figsize=(14,4))\n",
    "df_myselectedvisits.plot.scatter(x=\"expMidptMjd\",y=\"psfMag\",ax=ax,s=20,c=\"zeroPoint\",cmap=\"jet\",grid=True,rot=45)\n",
    "ax.set_title(title)\n",
    "plt.suptitle(suptitle)\n",
    "plt.tight_layout()\n",
    "plt.show()"
   ]
  },
  {
   "cell_type": "code",
   "execution_count": null,
   "id": "a5a96371-d784-4027-b404-35f06dbd0ba2",
   "metadata": {},
   "outputs": [],
   "source": [
    "print(path)"
   ]
  },
  {
   "cell_type": "code",
   "execution_count": null,
   "id": "3912d138-dea8-4e21-8714-63e239c5cdd3",
   "metadata": {},
   "outputs": [],
   "source": [
    "listOfVisitId = df_myselectedvisits[\"visit\"].values\n",
    "listOfVisitId"
   ]
  },
  {
   "cell_type": "code",
   "execution_count": null,
   "id": "71440acf-8aa8-4cfa-83c7-ce2077e4d446",
   "metadata": {},
   "outputs": [],
   "source": [
    "all_headers = []\n",
    "for visit in listOfVisitId:\n",
    "    h = savecalexp(visit,path)\n",
    "    all_headers.append(h) \n",
    "    "
   ]
  }
 ],
 "metadata": {
  "kernelspec": {
   "display_name": "LSST",
   "language": "python",
   "name": "lsst"
  },
  "language_info": {
   "codemirror_mode": {
    "name": "ipython",
    "version": 3
   },
   "file_extension": ".py",
   "mimetype": "text/x-python",
   "name": "python",
   "nbconvert_exporter": "python",
   "pygments_lexer": "ipython3",
   "version": "3.11.7"
  }
 },
 "nbformat": 4,
 "nbformat_minor": 5
}
