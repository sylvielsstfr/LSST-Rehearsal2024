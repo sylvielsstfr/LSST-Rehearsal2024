{
 "cells": [
  {
   "cell_type": "markdown",
   "id": "bf7ac831-c58c-4343-88f6-b57e67eda286",
   "metadata": {},
   "source": [
    "# Study Colors of isolated objects\n",
    "\n",
    "\n",
    "ColorIsolatedObjects.ipynb:\n",
    "The goal is to generate a non-buggy list of colored objects in order to have the correct color distribution.\n",
    "The original list **list_of_isolatedobjects.csv** produced by **MultiColor_lightCurves-DMRehearsal2024_01-AuxTel.ipynb** had a bug.\n",
    "\n",
    "Now this notebook produce the file to use **isolated_objects_magandcolors_psfap_good.csv** from the original source files **sources_objectTable-t3864-multibands-o(.*)-LATISS_runs_AUXTEL_DRP_IMAGING_20230509_20240513_w_2024_20_PREOPS-5146.csv**\n",
    "in folder **data/photom/sources_objectTable**.\n",
    "\n",
    "- author : Sylvie Dagoret-Campagne\n",
    "- creation : 2024-08-01\n",
    "- update : 2024-08-02 : number id of object + add (ra,dec)\n",
    "- last update : 2024-09-05 : add comment\n",
    "- last update : 2024-09-08 : add number of object"
   ]
  },
  {
   "cell_type": "code",
   "execution_count": null,
   "id": "36001f47-1d8b-4420-86b8-f748d61dea8d",
   "metadata": {},
   "outputs": [],
   "source": [
    "import os\n",
    "import astropy.units as u\n",
    "import numpy as np \n",
    "import pandas as pd\n",
    "pd.options.mode.chained_assignment = None\n",
    "pd.set_option(\"display.max_columns\", None)\n",
    "from astropy.time import Time\n",
    "\n",
    "import scipy.stats\n",
    "\n",
    "import matplotlib\n",
    "import matplotlib.pyplot as plt\n",
    "%matplotlib inline\n",
    "from matplotlib import pyplot as plt\n",
    "from mpl_toolkits.axes_grid1 import make_axes_locatable\n",
    "from matplotlib.colors import LogNorm,SymLogNorm\n",
    "from matplotlib.patches import Circle,Annulus\n",
    "\n",
    "\n",
    "from astropy.stats import SigmaClip"
   ]
  },
  {
   "cell_type": "code",
   "execution_count": null,
   "id": "27ef635f-ceab-4e29-b7e3-0c40af27cd5d",
   "metadata": {},
   "outputs": [],
   "source": [
    "from astropy.io import fits\n",
    "from astropy.wcs import WCS\n",
    "\n",
    "\n",
    "import pandas as pd\n",
    "pd.set_option(\"display.max_columns\", None)\n",
    "pd.set_option('display.max_rows', 100)\n",
    "\n",
    "import matplotlib.ticker                         # here's where the formatter is\n",
    "import os\n",
    "import re\n",
    "import pandas as pd\n",
    "import pickle\n",
    "from collections import OrderedDict\n",
    "\n",
    "plt.rcParams[\"figure.figsize\"] = (4,3)\n",
    "plt.rcParams[\"axes.labelsize\"] = 'xx-large'\n",
    "plt.rcParams['axes.titlesize'] = 'xx-large'\n",
    "plt.rcParams['xtick.labelsize']= 'xx-large'\n",
    "plt.rcParams['ytick.labelsize']= 'xx-large'\n",
    "\n",
    "import scipy\n",
    "from scipy.optimize import curve_fit"
   ]
  },
  {
   "cell_type": "code",
   "execution_count": null,
   "id": "beb8dafd-92b5-42f7-8779-f0ca2371d378",
   "metadata": {},
   "outputs": [],
   "source": [
    "def convert_fluxtomag(x) :\n",
    "    \"\"\"\n",
    "    The object and source catalogs store only fluxes. There are hundreds of flux-related columns, \n",
    "    and to store them also as magnitudes would be redundant, and a waste of space.\n",
    "    All flux units are nanojanskys. The AB Magnitudes Wikipedia page provides a concise resource \n",
    "    for users unfamiliar with AB magnitudes and jansky fluxes. To convert to AB magnitudes use:\n",
    "    As demonstrated in Section 2.3.2, to add columns of magnitudes after retrieving columns of flux, users can do this:\n",
    "    results_table['r_calibMag'] = -2.50 * numpy.log10(results_table['r_calibFlux']) + 31.4\n",
    "    results_table['r_cModelMag'] = -2.50 * numpy.log10(results_table['r_cModelFlux']) + 31.4\n",
    "    (from DP0 tutorial)\n",
    "    \"\"\"\n",
    "    return -2.50 * np.log10(x) + 31.4"
   ]
  },
  {
   "cell_type": "code",
   "execution_count": null,
   "id": "731812c4-11d0-4c85-b248-99ba888e1d51",
   "metadata": {},
   "outputs": [],
   "source": [
    "def convert_fluxtomagerr(row) :\n",
    "    \"\"\"\n",
    "    The object and source catalogs store only fluxes. There are hundreds of flux-related columns, \n",
    "    and to store them also as magnitudes would be redundant, and a waste of space.\n",
    "    All flux units are nanojanskys. The AB Magnitudes Wikipedia page provides a concise resource \n",
    "    for users unfamiliar with AB magnitudes and jansky fluxes. To convert to AB magnitudes use:\n",
    "    As demonstrated in Section 2.3.2, to add columns of magnitudes after retrieving columns of flux, users can do this:\n",
    "    results_table['r_calibMag'] = -2.50 * numpy.log10(results_table['r_calibFlux']) + 31.4\n",
    "    results_table['r_cModelMag'] = -2.50 * numpy.log10(results_table['r_cModelFlux']) + 31.4\n",
    "    (from DP0 tutorial)\n",
    "    \"\"\"\n",
    "    x= row[\"apFlux_35_0_instFlux\"]\n",
    "    dx = row[\"apFlux_35_0_instFluxErr\"]\n",
    "    mag =  -2.50 * np.log10(x) + 31.4\n",
    "    emag = 2.5/np.log(10)*dx/x\n",
    "    return mag,emag"
   ]
  },
  {
   "cell_type": "code",
   "execution_count": null,
   "id": "de8cf2e4-2f6b-4885-98ed-25329e20dc0c",
   "metadata": {},
   "outputs": [],
   "source": [
    "def get_df_perband(df):\n",
    "    dfg = df[df.band == \"g\"]\n",
    "    dfr = df[df.band == \"r\"]\n",
    "    dfi = df[df.band == \"i\"]\n",
    "    dfz = df[df.band == \"z\"]\n",
    "    dfy = df[df.band == \"y\"]\n",
    "    return (dfg,dfr,dfi,dfz,dfy)"
   ]
  },
  {
   "cell_type": "code",
   "execution_count": null,
   "id": "9237375e-4a86-42ac-abcf-0480c166700b",
   "metadata": {},
   "outputs": [],
   "source": [
    "def get_df_median(df,ctag=\"mag\"):\n",
    "    dfg,dfr,dfi,dfz,dfy = get_df_perband(df)\n",
    "    medg = dfg[ctag].median()\n",
    "    medr = dfr[ctag].median()\n",
    "    medi = dfi[ctag].median()\n",
    "    medz = dfz[ctag].median()\n",
    "    medy = dfy[ctag].median()\n",
    "    return (medg,medr,medi,medz,medy)    "
   ]
  },
  {
   "cell_type": "code",
   "execution_count": null,
   "id": "b6714c91-6879-4b4b-8664-7affca41ea33",
   "metadata": {},
   "outputs": [],
   "source": [
    "def get_df_sigma(df,ctag=\"mag\"):\n",
    "    dfg,dfr,dfi,dfz,dfy = get_df_perband(df)   \n",
    "    (medg,medr,medi,medz,medy) = get_df_median(df,ctag)\n",
    "    \n",
    "    #dfg[\"sigma\"] = (dfg[tag]- medg)**2\n",
    "    dfg.loc[:,\"sigma\"] = dfg.apply( lambda row : (row[ctag]- medg)**2,axis=1,result_type=\"expand\")\n",
    "    dfr[\"sigma\"] = dfr.apply( lambda row : (row[ctag]- medr)**2,axis=1,result_type=\"expand\")\n",
    "    if len(dfi)>0:\n",
    "        flag_dfi = True\n",
    "        dfi[\"sigma\"] = dfi.apply( lambda row : (row[ctag]- medi)**2,axis=1,result_type=\"expand\")\n",
    "    else:\n",
    "        flag_dfi = False\n",
    "    dfz[\"sigma\"] = dfz.apply( lambda row : (row[ctag]- medz)**2,axis=1,result_type=\"expand\")\n",
    "    dfy[\"sigma\"] = dfy.apply( lambda row : (row[ctag]- medy)**2,axis=1,result_type=\"expand\")\n",
    "    \n",
    "    sigg = np.sqrt(dfg[\"sigma\"].mean())\n",
    "    sigr = np.sqrt(dfr[\"sigma\"].mean())\n",
    "    if flag_dfi:\n",
    "        sigi = np.sqrt(dfi[\"sigma\"].mean())\n",
    "    else:\n",
    "        sigi = 0\n",
    "    sigz = np.sqrt(dfz[\"sigma\"].mean())\n",
    "    sigy = np.sqrt(dfy[\"sigma\"].mean())\n",
    "    return (sigg,sigr,sigi,sigz,sigy)\n",
    "\n",
    "    "
   ]
  },
  {
   "cell_type": "code",
   "execution_count": null,
   "id": "613f86b9-b665-48d7-accc-2e9ed2995fdb",
   "metadata": {},
   "outputs": [],
   "source": [
    "def plothistogram_magperband(df):\n",
    "    objectnum = df[\"obj_index\"].unique()[0]\n",
    "    dfg,dfr,dfi,dfz,dfy = get_df_perband(df)\n",
    "\n",
    "    (medg,medr,medi,medz,medy) = get_df_median(df)\n",
    "    (sigg,sigr,sigi,sigz,sigy) = get_df_sigma(df)\n",
    "    \n",
    "    fig,axs = plt.subplots(1,5,figsize=(16,3))\n",
    "    axes = axs.flatten()\n",
    "    \n",
    "    label = f\"$\\sigma = $ {sigg*1000:.2f} mmag\"\n",
    "    dfg[\"mag\"].plot.hist(ax=axes[0],bins=20,facecolor=\"g\",xlabel=\"mag\")\n",
    "    axes[0].axvline(medg,color=\"b\",lw=3)\n",
    "    axes[0].set_title(label)\n",
    "\n",
    "    label = f\"$\\sigma = $ {sigr*1000:.2f} mmag\"\n",
    "    dfr[\"mag\"].plot.hist(ax=axes[1],bins=20,facecolor=\"r\",xlabel=\"mag\")\n",
    "    axes[1].axvline(medr,color=\"b\",lw=3)\n",
    "    axes[1].set_title(label)\n",
    "\n",
    "    label = f\"$\\sigma = $ {sigi*1000:.2f} mmag\"\n",
    "    dfi[\"mag\"].plot.hist(ax=axes[2],bins=20,facecolor=\"y\",xlabel=\"mag\")\n",
    "    axes[2].axvline(medi,color=\"b\",lw=3)\n",
    "    axes[2].set_title(label)\n",
    "\n",
    "    label = f\"$\\sigma = $ {sigz*1000:.2f} mmag\"\n",
    "    dfz[\"mag\"].plot.hist(ax=axes[3],bins=20,facecolor=\"grey\",xlabel=\"mag\")\n",
    "    axes[3].axvline(medz,color=\"b\",lw=3)\n",
    "    axes[3].set_title(label)\n",
    "\n",
    "    label = f\"$\\sigma = $ {sigy*1000:.2f} mmag\"\n",
    "    dfy[\"mag\"].plot.hist(ax=axes[4],bins=20,facecolor=\"k\",xlabel=\"mag\")\n",
    "    axes[4].axvline(medy,color=\"b\",lw=3)\n",
    "    axes[4].set_title(label)\n",
    "\n",
    "    title = f\"object {objectnum}\"\n",
    "    plt.suptitle(title,fontsize=14,fontweight=\"bold\")\n",
    "    plt.tight_layout()\n",
    "    plt.show()\n",
    "       "
   ]
  },
  {
   "cell_type": "code",
   "execution_count": null,
   "id": "26a6cb11-565d-42a7-85ad-e4ffe1d348c5",
   "metadata": {},
   "outputs": [],
   "source": [
    "def plothistogram_valperband(df,ctag):\n",
    "    objectnum = df[\"obj_index\"].unique()[0]\n",
    "    dfg,dfr,dfi,dfz,dfy = get_df_perband(df)\n",
    "\n",
    "    (medg,medr,medi,medz,medy) = get_df_median(df,ctag)\n",
    "    (sigg,sigr,sigi,sigz,sigy) = get_df_sigma(df,ctag)\n",
    "    \n",
    "    fig,axs = plt.subplots(1,5,figsize=(16,3))\n",
    "    axes = axs.flatten()\n",
    "    \n",
    "    label = f\"$\\sigma = $ {sigg*1000:.2f} mmag\"\n",
    "    dfg[ctag].plot.hist(ax=axes[0],bins=20,facecolor=\"g\",xlabel=\"mag\")\n",
    "    axes[0].axvline(medg,color=\"b\",lw=3)\n",
    "    axes[0].set_title(label)\n",
    "\n",
    "    label = f\"$\\sigma = $ {sigr*1000:.2f} mmag\"\n",
    "    dfr[ctag].plot.hist(ax=axes[1],bins=20,facecolor=\"r\",xlabel=\"mag\")\n",
    "    axes[1].axvline(medr,color=\"b\",lw=3)\n",
    "    axes[1].set_title(label)\n",
    "\n",
    "    label = f\"$\\sigma = $ {sigi*1000:.2f} mmag\"\n",
    "    dfi[ctag].plot.hist(ax=axes[2],bins=20,facecolor=\"y\",xlabel=\"mag\")\n",
    "    axes[2].axvline(medi,color=\"b\",lw=3)\n",
    "    axes[2].set_title(label)\n",
    "\n",
    "    label = f\"$\\sigma = $ {sigz*1000:.2f} mmag\"\n",
    "    dfz[ctag].plot.hist(ax=axes[3],bins=20,facecolor=\"grey\",xlabel=\"mag\")\n",
    "    axes[3].axvline(medz,color=\"b\",lw=3)\n",
    "    axes[3].set_title(label)\n",
    "\n",
    "    label = f\"$\\sigma = $ {sigy*1000:.2f} mmag\"\n",
    "    dfy[ctag].plot.hist(ax=axes[4],bins=20,facecolor=\"k\",xlabel=\"mag\")\n",
    "    axes[4].axvline(medy,color=\"b\",lw=3)\n",
    "    axes[4].set_title(label)\n",
    "\n",
    "    title = f\"object {objectnum}\"\n",
    "    plt.suptitle(title,fontsize=14,fontweight=\"bold\")\n",
    "    plt.tight_layout()\n",
    "    plt.show()\n",
    "       "
   ]
  },
  {
   "cell_type": "markdown",
   "id": "bc4c50dc-632d-4036-bdeb-20674262c0b9",
   "metadata": {},
   "source": [
    "## Config"
   ]
  },
  {
   "cell_type": "code",
   "execution_count": null,
   "id": "7366182b-98a4-417a-810b-d758b9147ce0",
   "metadata": {},
   "outputs": [],
   "source": [
    "path = \"data/photom/sources_objectTable\""
   ]
  },
  {
   "cell_type": "markdown",
   "id": "72ad0e33-af30-49b8-9794-576b75be159f",
   "metadata": {},
   "source": [
    "## Find input files"
   ]
  },
  {
   "cell_type": "code",
   "execution_count": null,
   "id": "5a9e52e3-35c0-48df-b69b-c2f22e9efc21",
   "metadata": {},
   "outputs": [],
   "source": [
    "list_of_files = os.listdir(path) \n",
    "list_of_files = sorted(list_of_files)"
   ]
  },
  {
   "cell_type": "code",
   "execution_count": null,
   "id": "14bd0d7c-62fa-45b3-ae82-7b484d3283fd",
   "metadata": {},
   "outputs": [],
   "source": [
    "tag = \"^sources_objectTable-t3864-multibands-o(.*)-LATISS_runs_AUXTEL_DRP_IMAGING_20230509_20240513_w_2024_20_PREOPS-5146.csv$\"\n",
    "selected_files = []\n",
    "selected_objectnum = []\n",
    "for filename in list_of_files: \n",
    "    result = re.findall(tag,filename)\n",
    "    if len(result)>0:\n",
    "        num = int(result[0])\n",
    "        selected_objectnum.append(num)\n",
    "        selected_files.append(filename) \n",
    "        \n",
    "selected_objectnum = np.array(selected_objectnum)\n",
    "selected_files = np.array(selected_files)"
   ]
  },
  {
   "cell_type": "code",
   "execution_count": null,
   "id": "542913e6-aa40-428e-983a-832595dae4fc",
   "metadata": {},
   "outputs": [],
   "source": [
    "index_sorted = np.argsort(selected_objectnum)\n",
    "selected_objectnum = selected_objectnum[index_sorted] \n",
    "selected_files = selected_files[index_sorted]\n",
    "N = len(selected_files)"
   ]
  },
  {
   "cell_type": "markdown",
   "id": "58a37e4d-f79e-4678-8e40-c64ceabec406",
   "metadata": {},
   "source": [
    "## Read pandas dataframe"
   ]
  },
  {
   "cell_type": "code",
   "execution_count": null,
   "id": "0a47ec74-467a-4a90-9e74-ef3dd10e5bb4",
   "metadata": {},
   "outputs": [],
   "source": [
    "all_df = []\n",
    "for index,filename in enumerate(selected_files):\n",
    "    fullfilename = os.path.join(path,filename)\n",
    "    df = pd.read_csv(fullfilename,index_col=0)\n",
    "    # calculate the magnitude I want\n",
    "    df[[\"mag\",\"emag\"]] = df.apply(lambda row : convert_fluxtomagerr(row), axis=1,result_type = 'expand')\n",
    "    all_df.append(df)"
   ]
  },
  {
   "cell_type": "markdown",
   "id": "962b7728-ce21-4f86-90df-5e160a69936c",
   "metadata": {},
   "source": [
    "## Study magnitudes"
   ]
  },
  {
   "cell_type": "code",
   "execution_count": null,
   "id": "045584d3-6c06-491b-b42e-a94cc03b126f",
   "metadata": {},
   "outputs": [],
   "source": [
    "index = 0\n",
    "objectnum = selected_objectnum[index] "
   ]
  },
  {
   "cell_type": "code",
   "execution_count": null,
   "id": "1d526e70-1e3d-4651-90aa-75cb2b39cca4",
   "metadata": {},
   "outputs": [],
   "source": [
    "the_df = all_df[index]"
   ]
  },
  {
   "cell_type": "code",
   "execution_count": null,
   "id": "1051000b-2223-4e0a-bd31-f084010c9d68",
   "metadata": {},
   "outputs": [],
   "source": [
    "the_df.head()"
   ]
  },
  {
   "cell_type": "code",
   "execution_count": null,
   "id": "8484cc8e-aef5-4cea-9543-4d2886b3b53e",
   "metadata": {},
   "outputs": [],
   "source": [
    "plothistogram_magperband(the_df)"
   ]
  },
  {
   "cell_type": "code",
   "execution_count": null,
   "id": "9c93248e-d37b-44a6-adc2-d515f9af5886",
   "metadata": {},
   "outputs": [],
   "source": [
    "plothistogram_valperband(the_df,ctag=\"psfMag\")"
   ]
  },
  {
   "cell_type": "code",
   "execution_count": null,
   "id": "e5247549-38a9-4727-ba83-27021cd818b3",
   "metadata": {},
   "outputs": [],
   "source": [
    "dfg,dfr,dfi,dfz,dfy = get_df_perband(the_df)   \n",
    "(medg,medr,medi,medz,medy) = get_df_median(the_df)\n",
    "(sigg,sigr,sigi,sigz,sigy) = get_df_sigma(the_df)"
   ]
  },
  {
   "cell_type": "markdown",
   "id": "02bf81c3-9765-4424-a096-ea0a3094e811",
   "metadata": {},
   "source": [
    "## Create pandas dataframe on aperture photometry isolated object data"
   ]
  },
  {
   "cell_type": "code",
   "execution_count": null,
   "id": "61fa9cdf-b732-45d5-b2a5-1074cd59c9d6",
   "metadata": {},
   "outputs": [],
   "source": [
    "df_col_ap = pd.DataFrame(columns=[\"obj\",\"ra\",\"dec\",\"g\",\"r\",\"i\",\"z\",\"y\",\"sg\",\"sr\",\"si\",\"sz\",\"sy\"])\n",
    "for index in range(N):\n",
    "    the_df = all_df[index]\n",
    "    ra = the_df['ra'].mean()\n",
    "    dec = the_df['dec'].mean()\n",
    "    obj=selected_objectnum[index]\n",
    "    plothistogram_magperband(the_df)\n",
    "\n",
    "    (medg,medr,medi,medz,medy) = get_df_median(the_df)\n",
    "    (sigg,sigr,sigi,sigz,sigy) = get_df_sigma(the_df)\n",
    "    df_col_ap.loc[index]=[obj,ra,dec,medg,medr,medi,medz,medy,sigg,sigr,sigi,sigz,sigy]"
   ]
  },
  {
   "cell_type": "code",
   "execution_count": null,
   "id": "cbdd19fa-73f0-4451-94ce-b16bf204c18e",
   "metadata": {},
   "outputs": [],
   "source": [
    "ramin = df_col_ap[\"ra\"].min()\n",
    "ramax = df_col_ap[\"ra\"].max()\n",
    "decmin = df_col_ap[\"dec\"].min()\n",
    "decmax = df_col_ap[\"dec\"].max()\n",
    "dra = (ramax-ramin)*60.\n",
    "ddec = (decmax-decmin)*60"
   ]
  },
  {
   "cell_type": "code",
   "execution_count": null,
   "id": "f841a8d9-aa0f-45f5-ae33-ca51747c3215",
   "metadata": {},
   "outputs": [],
   "source": [
    "props = dict(boxstyle='round', facecolor='white', alpha=0.5)\n",
    "#textstr = '\\n'.join((\n",
    "#    r'$\\mu=%.2f$' % (mu, ),\n",
    "#    r'$\\mathrm{median}=%.2f$' % (median, ),\n",
    "#    r'$\\sigma=%.2f$' % (sigma, )))\n",
    "textstr = f\"FOV = {dra:.2f} arcmin x {ddec:.2f} arcmin\""
   ]
  },
  {
   "cell_type": "code",
   "execution_count": null,
   "id": "14346149-fd56-4a5a-b795-d59e91555dcf",
   "metadata": {},
   "outputs": [],
   "source": [
    "df_col_ap[\"g_r\"] = df_col_ap[\"g\"]- df_col_ap[\"r\"]\n",
    "df_col_ap[\"z_y\"] = df_col_ap[\"z\"]- df_col_ap[\"y\"]\n",
    "df_col_ap[\"sig_g_r\"] = df_col_ap.apply(lambda row: np.sqrt(row[\"sg\"]**2+ row[\"sr\"]**2),axis=1)\n",
    "df_col_ap[\"sig_z_y\"] = df_col_ap.apply(lambda row: np.sqrt(row[\"sz\"]**2+ row[\"sy\"]**2),axis=1)"
   ]
  },
  {
   "cell_type": "code",
   "execution_count": null,
   "id": "f608567a-bcae-479a-bf06-c43c7d26fe52",
   "metadata": {},
   "outputs": [],
   "source": [
    "#df_col_ap"
   ]
  },
  {
   "cell_type": "code",
   "execution_count": null,
   "id": "8ae44b9a-edae-4c9e-9098-2ced65534aca",
   "metadata": {},
   "outputs": [],
   "source": [
    "fig,ax = plt.subplots(1,1,figsize=(16,16))\n",
    "ax.errorbar(df_col_ap[\"z_y\"],df_col_ap[\"g_r\"],xerr=df_col_ap[\"sig_z_y\"] , yerr=df_col_ap[\"sig_g_r\"], fmt=\".\",color='k',ecolor='k',markersize=1) \n",
    "df_col_ap.plot.scatter(x=\"z_y\", y=\"g_r\",marker= \"o\", s=80,c=\"sy\",cmap=\"jet\",ax=ax,colorbar=False)\n",
    "ax.set_xlabel(\"Z-Y (mag)\")\n",
    "ax.set_ylabel(\"G-R (mag)\")\n",
    "ax.set_title(\"color-color on aperture photometry\")\n",
    "ax.set_aspect(\"equal\")\n",
    "ax.grid()\n",
    "\n",
    "\n",
    "for index,row in df_col_ap.iterrows():\n",
    "    idobj = int(row.obj)\n",
    "    txtlabel = f\"{idobj}({index})\"\n",
    "    x = row[\"z_y\"]\n",
    "    y = row[\"g_r\"]\n",
    "    if index%2 == 0:\n",
    "        ax.text(x-0.005,y+.005,txtlabel,size= 'xx-large',color=\"r\")\n",
    "    else:\n",
    "        ax.text(x+0.005,y-0.005,txtlabel,size= 'xx-large',color=\"r\")\n",
    "\n",
    "\n",
    "plt.show()"
   ]
  },
  {
   "cell_type": "code",
   "execution_count": null,
   "id": "2b1934d6-08a4-4915-b6ff-80980018a8d9",
   "metadata": {},
   "outputs": [],
   "source": [
    "fig,ax = plt.subplots(1,1,figsize=(15,15))\n",
    "df_col_ap.plot.scatter(x=\"ra\", y=\"dec\",marker= \"o\", s=100,c=\"z_y\",cmap=\"jet\",ax=ax,colorbar=False)\n",
    "ax.set_xlabel(\"ra (degree)\")\n",
    "ax.set_ylabel(\"dec (mag)\")\n",
    "ax.set_title(\"Isolated object\")\n",
    "ax.set_aspect(\"equal\")\n",
    "ax.grid()\n",
    "\n",
    "cbar = plt.colorbar(ax.collections[0],ax=ax,orientation = 'horizontal',shrink=1.0)\n",
    "cbar.ax.set_xlabel('Z-Y (mag) (aperture photometry)', rotation=0)\n",
    "\n",
    "for index,row in df_col_ap.iterrows():\n",
    "    idobj = int(row.obj)\n",
    "    x = row[\"ra\"]\n",
    "    y = row[\"dec\"]\n",
    "    if index%2 == 0:\n",
    "        ax.text(x-0.002,y+.002,str(idobj),size= 'x-large')\n",
    "    else:\n",
    "        ax.text(x+0.002,y-0.002,str(idobj),size= 'x-large')\n",
    "\n",
    "\n",
    "ax.text(0.01, 0.99, textstr, transform=ax.transAxes, fontsize=14,\n",
    "        verticalalignment='top', bbox=props)\n",
    "plt.tight_layout()\n",
    "plt.show()"
   ]
  },
  {
   "cell_type": "markdown",
   "id": "1e92057e-18a4-433e-8ac4-f27067c16cc9",
   "metadata": {},
   "source": [
    "## Create pandas dataframe on psf photometry isolated object data"
   ]
  },
  {
   "cell_type": "code",
   "execution_count": null,
   "id": "91b95c26-e4a5-46bd-8567-8fa1159f0789",
   "metadata": {},
   "outputs": [],
   "source": [
    "df_col_psf = pd.DataFrame(columns=[\"obj\",\"ra\",\"dec\",\"g\",\"r\",\"i\",\"z\",\"y\",\"sg\",\"sr\",\"si\",\"sz\",\"sy\"])\n",
    "for index in range(N):\n",
    "    the_df = all_df[index]\n",
    "    ra = the_df['ra'].mean()\n",
    "    dec = the_df['dec'].mean()\n",
    "    obj=selected_objectnum[index]\n",
    "    \n",
    "    plothistogram_valperband(the_df,ctag=\"psfMag\")\n",
    "\n",
    "    (medg,medr,medi,medz,medy) = get_df_median(the_df,ctag=\"psfMag\")\n",
    "    (sigg,sigr,sigi,sigz,sigy) = get_df_sigma(the_df,ctag=\"psfMag\")\n",
    "    df_col_psf.loc[index]=[obj,ra,dec,medg,medr,medi,medz,medy,sigg,sigr,sigi,sigz,sigy]"
   ]
  },
  {
   "cell_type": "code",
   "execution_count": null,
   "id": "e35404dc-9c95-4c59-ae8a-056c5c64c18f",
   "metadata": {},
   "outputs": [],
   "source": [
    "df_col_psf[\"g_r\"] = df_col_psf[\"g\"]- df_col_psf[\"r\"]\n",
    "df_col_psf[\"z_y\"] = df_col_psf[\"z\"]- df_col_psf[\"y\"]\n",
    "df_col_psf[\"sig_g_r\"] = df_col_psf.apply(lambda row: np.sqrt(row[\"sg\"]**2+ row[\"sr\"]**2),axis=1)\n",
    "df_col_psf[\"sig_z_y\"] = df_col_psf.apply(lambda row: np.sqrt(row[\"sz\"]**2+ row[\"sy\"]**2),axis=1)"
   ]
  },
  {
   "cell_type": "code",
   "execution_count": null,
   "id": "d7ef93a7-5020-4665-8e96-7e2e38e24864",
   "metadata": {},
   "outputs": [],
   "source": [
    "fig,ax = plt.subplots(1,1,figsize=(16,16))\n",
    "ax.errorbar(df_col_psf[\"z_y\"],df_col_psf[\"g_r\"],xerr=df_col_psf[\"sig_z_y\"] , yerr=df_col_psf[\"sig_g_r\"], fmt=\".\",color='k',ecolor='k',markersize=1) \n",
    "df_col_psf.plot.scatter(x=\"z_y\", y=\"g_r\",marker= \"o\", s=80,c=\"sy\",cmap=\"jet\",ax=ax,colorbar=False)\n",
    "ax.set_xlabel(\"Z-Y mag\")\n",
    "ax.set_ylabel(\"G-R mag\")\n",
    "ax.set_title(\"color-color on psf photometry\")\n",
    "ax.set_aspect(\"equal\")\n",
    "ax.grid()\n",
    "\n",
    "for index,row in df_col_psf.iterrows():\n",
    "    idobj = int(row.obj)\n",
    "    txtlabel = f\"{idobj}({index})\"\n",
    "    x = row[\"z_y\"]\n",
    "    y = row[\"g_r\"]\n",
    "    if index%2 == 0:\n",
    "        ax.text(x-0.005,y+.005,txtlabel,size= 'xx-large',color=\"r\")\n",
    "    else:\n",
    "        ax.text(x+0.005,y-0.005,txtlabel,size= 'xx-large',color=\"r\")\n",
    "\n",
    "\n",
    "plt.show()"
   ]
  },
  {
   "cell_type": "code",
   "execution_count": null,
   "id": "5da977fd-57e5-4373-ba10-05436bda40bf",
   "metadata": {},
   "outputs": [],
   "source": [
    "df_col_psf"
   ]
  },
  {
   "cell_type": "code",
   "execution_count": null,
   "id": "9d3ca073-0bca-4006-a8fa-46ead909cd7d",
   "metadata": {
    "tags": []
   },
   "outputs": [],
   "source": [
    "df_col_psf[\"sizecode\"] = (15.5-df_col_psf[\"z\"])*50"
   ]
  },
  {
   "cell_type": "code",
   "execution_count": null,
   "id": "16834fb7-1579-4887-8dff-129c76afab6f",
   "metadata": {
    "tags": []
   },
   "outputs": [],
   "source": [
    "N"
   ]
  },
  {
   "cell_type": "code",
   "execution_count": null,
   "id": "ac8a268b-295a-4ac2-9f5f-a8538daf761f",
   "metadata": {},
   "outputs": [],
   "source": [
    "flag_show_numbers = False\n",
    "\n",
    "fig,ax = plt.subplots(1,1,figsize=(10,12))\n",
    "df_col_psf.plot.scatter(x=\"ra\", y=\"dec\",marker= \"o\", s=\"sizecode\",c=\"z_y\",cmap=\"jet\",ax=ax,colorbar=False)\n",
    "ax.set_xlabel(\"ra (degree)\")\n",
    "ax.set_ylabel(\"dec (mag)\")\n",
    "ax.set_title(\"Isolated object\")\n",
    "ax.set_aspect(\"equal\")\n",
    "ax.grid()\n",
    "\n",
    "cbar = plt.colorbar(ax.collections[0],ax=ax,orientation = 'horizontal',shrink=1.0,pad=0.08)\n",
    "cbar.ax.set_xlabel('Z-Y (mag)(calib AB psf photometry)', rotation=0)\n",
    "\n",
    "if flag_show_numbers:\n",
    "    for index,row in df_col_psf.iterrows():\n",
    "        idobj = int(row.obj)\n",
    "        x = row[\"ra\"]\n",
    "        y = row[\"dec\"]\n",
    "        if index%2 == 0:\n",
    "            ax.text(x-0.002,y+.002,str(idobj),size= 'x-large')\n",
    "        else:\n",
    "            ax.text(x+0.002,y-0.002,str(idobj),size= 'x-large')\n",
    "\n",
    "ax.text(0.01, 0.99, textstr, transform=ax.transAxes, fontsize=14,verticalalignment='top', bbox=props)\n",
    "ax.text(0.85, 0.99, f\"Nobj = {N}\", transform=ax.transAxes, fontsize=14,verticalalignment='top', bbox=props)\n",
    "plt.tight_layout()\n",
    "plt.show()"
   ]
  },
  {
   "cell_type": "markdown",
   "id": "07028ff2-9592-439c-a683-0a2b41c3b383",
   "metadata": {},
   "source": [
    "## Save file"
   ]
  },
  {
   "cell_type": "code",
   "execution_count": null,
   "id": "182a4a0c-9732-4d6e-ad3f-b74e216a16c2",
   "metadata": {},
   "outputs": [],
   "source": [
    "df_obj_colors = pd.merge(left=df_col_psf,right=df_col_ap,on=\"obj\",suffixes=(\"_psf\",\"_ap\"))"
   ]
  },
  {
   "cell_type": "code",
   "execution_count": null,
   "id": "b6caa773-582e-4bbf-9ffa-61f53ae1995b",
   "metadata": {},
   "outputs": [],
   "source": [
    "df_obj_colors.to_csv(\"isolated_objects_magandcolors_psfap_good.csv\")"
   ]
  },
  {
   "cell_type": "code",
   "execution_count": null,
   "id": "ef34e5cc-f414-4fd2-bdc8-8d3adb8b5297",
   "metadata": {},
   "outputs": [],
   "source": []
  }
 ],
 "metadata": {
  "kernelspec": {
   "display_name": "Python 3 (ipykernel)",
   "language": "python",
   "name": "python3"
  },
  "language_info": {
   "codemirror_mode": {
    "name": "ipython",
    "version": 3
   },
   "file_extension": ".py",
   "mimetype": "text/x-python",
   "name": "python",
   "nbconvert_exporter": "python",
   "pygments_lexer": "ipython3",
   "version": "3.11.5"
  }
 },
 "nbformat": 4,
 "nbformat_minor": 5
}
