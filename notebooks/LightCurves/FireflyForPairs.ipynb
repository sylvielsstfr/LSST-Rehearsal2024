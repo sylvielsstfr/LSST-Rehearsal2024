{
 "cells": [
  {
   "cell_type": "markdown",
   "id": "4f8ff5c7-b871-44e4-af51-8b37317dc90e",
   "metadata": {},
   "source": [
    "## Plot Calexp for pairs for Auxtel"
   ]
  },
  {
   "cell_type": "markdown",
   "id": "de8c2ec6-5365-46dc-b71e-ce76d98bae72",
   "metadata": {
    "execution": {
     "iopub.execute_input": "2024-06-28T08:43:45.475346Z",
     "iopub.status.busy": "2024-06-28T08:43:45.475139Z",
     "iopub.status.idle": "2024-06-28T08:43:45.478340Z",
     "shell.execute_reply": "2024-06-28T08:43:45.477888Z",
     "shell.execute_reply.started": "2024-06-28T08:43:45.475330Z"
    }
   },
   "source": [
    "- author Sylvie Dagoret-Campagne\n",
    "- creation date 2024-06-28\n",
    "- last update 2024-07-29\n",
    "- affiliation : IJCLab\n",
    "- Kernel **w_2024_16**"
   ]
  },
  {
   "cell_type": "code",
   "execution_count": null,
   "id": "6772083e-50da-4ec9-8d02-42decf170af1",
   "metadata": {},
   "outputs": [],
   "source": [
    "import warnings\n",
    "warnings.resetwarnings()\n",
    "warnings.simplefilter('ignore')"
   ]
  },
  {
   "cell_type": "code",
   "execution_count": null,
   "id": "ae04b85a-6b08-4b15-9b32-0fb4be2114fc",
   "metadata": {},
   "outputs": [],
   "source": [
    "import lsst.daf.butler as dafButler\n",
    "import lsst.afw.image as afwImage\n",
    "import lsst.afw.display as afwDisplay\n",
    "import lsst.afw.table as afwTable\n",
    "import lsst.geom as geom\n",
    "import pprint\n",
    "# Let us also set `lsst.afw.display` to use the `matplotlib` backend:\n",
    "#afwDisplay.setDefaultBackend('matplotlib')\n",
    "afwDisplay.setDefaultBackend('firefly')"
   ]
  },
  {
   "cell_type": "code",
   "execution_count": null,
   "id": "3580d50c-8b3b-4014-a422-c0646a758770",
   "metadata": {},
   "outputs": [],
   "source": [
    "# INSERT YOUR collection and tract\n",
    "# for rehearsal use collection 2 which have CCDvisit\n",
    "butlerRoot = \"/repo/embargo\"\n",
    "\n",
    "collection1 = 'LSSTComCamSim/runs/nightlyvalidation/20240402/d_2024_03_29/DM-43612'\n",
    "collection2 = 'LSSTComCamSim/runs/nightlyvalidation/20240403/d_2024_03_29/DM-43612'\n",
    "collection3 = 'LSSTComCamSim/runs/nightlyvalidation/20240404/d_2024_03_29/DM-43612'\n",
    "#collection = 'LATISS/runs/AUXTEL_DRP_IMAGING_20230509_20240414/w_2024_15/PREOPS-5069' # COMPLETED\n",
    "collection = 'LATISS/runs/AUXTEL_DRP_IMAGING_20230509_20240513/w_2024_20/PREOPS-5146' # test this one today 2024/06/22\n",
    "\n",
    "collectionn = collection\n",
    "#collections = [collection1,collection2,collection3]\n",
    "collections = [collection]\n",
    "collectionStr = collectionn.replace(\"/\", \"_\")\n",
    "fn_ccdVisit_tracts_patches = f\"ccdVisittractpatch_{collectionStr}.csv\"\n",
    "instrument = 'LATISS'\n",
    "skymapName = \"latiss_v1\"\n",
    "where_clause = \"instrument = \\'\" + instrument+ \"\\'\"\n",
    "tract = 3864 # mostly for light-curves\n",
    "patch_sel = 236\n",
    "#tract = 5615\n",
    "# tract = 5634 # interesting to view calib parameters\n",
    "suptitle = collectionStr + f\" inst = {instrument} tract = {tract}\""
   ]
  },
  {
   "cell_type": "code",
   "execution_count": null,
   "id": "97255ad3-7a0d-4dee-9003-38433fe9da42",
   "metadata": {},
   "outputs": [],
   "source": [
    "#dataId = {\"skymap\": \"latiss_v1\", \"tract\": 5615, \"instrument\": \"LATISS\"}\n",
    "dataId = {\"skymap\": skymapName, \"tract\": tract, \"instrument\": instrument}\n",
    "repo = '/sdf/group/rubin/repo/oga/'\n",
    "butler = dafButler.Butler(repo)\n",
    "#t = Butler.get(table_sel, dataId=dataId, collections=collections)\n",
    "registry = butler.registry"
   ]
  },
  {
   "cell_type": "code",
   "execution_count": null,
   "id": "d29d7129-aec3-4d67-a4bd-c973412c0b9b",
   "metadata": {},
   "outputs": [],
   "source": [
    "skymap_auxtel ='latiss_v1'\n",
    "skymap = butler.get('skyMap', skymap=skymap_auxtel, collections=collections)"
   ]
  },
  {
   "cell_type": "code",
   "execution_count": null,
   "id": "001ec92e-c524-4bb6-98cb-b15824749aec",
   "metadata": {},
   "outputs": [],
   "source": [
    "import pandas as pd"
   ]
  },
  {
   "cell_type": "code",
   "execution_count": null,
   "id": "8e6c52ca-f572-4218-b0a2-cc4dd4b66006",
   "metadata": {},
   "outputs": [],
   "source": []
  },
  {
   "cell_type": "code",
   "execution_count": null,
   "id": "29489963-3782-41e1-adde-6866a3779ce8",
   "metadata": {},
   "outputs": [],
   "source": []
  },
  {
   "cell_type": "code",
   "execution_count": null,
   "id": "b624959f-4585-46dc-9433-476994e310a4",
   "metadata": {},
   "outputs": [],
   "source": []
  },
  {
   "cell_type": "markdown",
   "id": "3a934aaf-7903-4bfb-b968-5e31e7c171b8",
   "metadata": {},
   "source": [
    "## Read the pair file"
   ]
  },
  {
   "cell_type": "code",
   "execution_count": null,
   "id": "13e55826-bccc-4ae7-89af-b2eada0d41c0",
   "metadata": {},
   "outputs": [],
   "source": [
    "pair_num = 93\n",
    "obj1 = 97\n",
    "obj2 = 262\n",
    "file_pair = f\"pair_num_{pair_num:.0f}-o{obj1:.0f}-o{obj2:.0f}-colZ-Y.csv\""
   ]
  },
  {
   "cell_type": "code",
   "execution_count": null,
   "id": "e7eb5c0a-1472-429e-9100-93a48b747035",
   "metadata": {},
   "outputs": [],
   "source": [
    "file_pair"
   ]
  },
  {
   "cell_type": "code",
   "execution_count": null,
   "id": "f6a66eda-16b9-4302-865e-d2605dba22b4",
   "metadata": {},
   "outputs": [],
   "source": [
    "df = pd.read_csv(file_pair,index_col=0)"
   ]
  },
  {
   "cell_type": "code",
   "execution_count": null,
   "id": "ce6e9da6-e998-4fd1-a258-45a0387c4211",
   "metadata": {},
   "outputs": [],
   "source": [
    "df[[\"x11\",\"x12\",\"x21\",\"x22\"]]"
   ]
  },
  {
   "cell_type": "code",
   "execution_count": null,
   "id": "ca3d2811-57d1-46d5-ac68-77fe2bb2d88e",
   "metadata": {},
   "outputs": [],
   "source": [
    "df"
   ]
  },
  {
   "cell_type": "code",
   "execution_count": null,
   "id": "3505b8c5-9479-4301-bc6c-f73e7b223533",
   "metadata": {},
   "outputs": [],
   "source": [
    "count = 0\n",
    "for idx,row in df.iterrows():\n",
    "   \n",
    "    band1 = row[\"band1\"]\n",
    "    expo1 = row[\"exposure1\"]\n",
    "    x11 = row[\"x11\"]\n",
    "    y11 = row[\"y11\"]\n",
    "    x12 = row[\"x12\"]\n",
    "    y12 = row[\"y12\"]\n",
    "    dataId1 = {'visit': expo1, 'instrument':instrument , 'detector': 0}\n",
    "\n",
    "    calexp1 = butler.get('calexp', **dataId1,collections=collections)\n",
    "    the_title1 = f\"expo {expo1} band {band1}\"\n",
    "\n",
    "    band2 = row[\"band2\"]\n",
    "    expo2 = row[\"exposure2\"]\n",
    "    x21 = row[\"x21\"]\n",
    "    y21 = row[\"y21\"]\n",
    "    x22 = row[\"x22\"]\n",
    "    y22 = row[\"y22\"]\n",
    "    \n",
    "    dataId2 = {'visit': expo2, 'instrument':instrument , 'detector': 0}\n",
    "    \n",
    "    calexp2 = butler.get('calexp', **dataId2,collections=collections)\n",
    "    the_title2 = f\"expo {expo2} band {band2}\"\n",
    "\n",
    "    count+=1\n",
    "    afw_display = afwDisplay.Display(frame=count)\n",
    "    afw_display.scale('asinh', 'zscale')\n",
    "    afw_display.mtv(calexp1.image,title=the_title1 )\n",
    "    afw_display.dot('o', x11, y11, size=20, ctype='red')\n",
    "    afw_display.dot('o', x12, y12, size=20, ctype='blue')\n",
    "    afw_display.setMaskTransparency(80)\n",
    "\n",
    "    count+=1\n",
    "    afw_display = afwDisplay.Display(frame=count)\n",
    "    afw_display.scale('asinh', 'zscale')\n",
    "    afw_display.mtv(calexp2.image,title=the_title2 )\n",
    "    afw_display.dot('o', x21, y21, size=20, ctype='red')\n",
    "    afw_display.dot('o', x22, y22, size=20, ctype='blue')\n",
    "    afw_display.setMaskTransparency(80)\n",
    "\n",
    "    if idx> 2 :\n",
    "        break"
   ]
  },
  {
   "cell_type": "code",
   "execution_count": null,
   "id": "35563e1b-010b-456a-9f98-6360a64d9fa0",
   "metadata": {},
   "outputs": [],
   "source": []
  },
  {
   "cell_type": "code",
   "execution_count": null,
   "id": "65a96f87-38de-4836-a7d2-7bc130ee8775",
   "metadata": {},
   "outputs": [],
   "source": []
  },
  {
   "cell_type": "code",
   "execution_count": null,
   "id": "f316a63c-705f-4417-8fcb-860f884be6a5",
   "metadata": {},
   "outputs": [],
   "source": []
  }
 ],
 "metadata": {
  "kernelspec": {
   "display_name": "LSST",
   "language": "python",
   "name": "lsst"
  },
  "language_info": {
   "codemirror_mode": {
    "name": "ipython",
    "version": 3
   },
   "file_extension": ".py",
   "mimetype": "text/x-python",
   "name": "python",
   "nbconvert_exporter": "python",
   "pygments_lexer": "ipython3",
   "version": "3.11.7"
  }
 },
 "nbformat": 4,
 "nbformat_minor": 5
}
