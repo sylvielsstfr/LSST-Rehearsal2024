{
 "cells": [
  {
   "cell_type": "markdown",
   "id": "bfa1c2e3-f01e-4436-bfb3-402936143a58",
   "metadata": {},
   "source": [
    "## Map Object Data to Pickles\n",
    "\n",
    "- author : Sylvie Dagoret-Campagne\n",
    "- creation date : 2024-09-05\n",
    "- last update : 2024-09-05\n",
    "\n",
    "Goal generate a csv file that maps object number over Pickle filename from NearestNeighbourg in (G-R, Z-Y) color plane \n"
   ]
  },
  {
   "cell_type": "code",
   "execution_count": null,
   "id": "66a069c1-f9f8-4865-89ae-b403ba334bd6",
   "metadata": {},
   "outputs": [],
   "source": [
    "import numpy as np\n",
    "import matplotlib.pyplot as plt\n",
    "%matplotlib inline\n",
    "import matplotlib as mpl\n",
    "import matplotlib.colors as colors\n",
    "import matplotlib.cm as cmx\n",
    "from mpl_toolkits.axes_grid1 import make_axes_locatable\n",
    "from matplotlib.colors import LogNorm\n",
    "from matplotlib.gridspec import GridSpec\n",
    "import pandas as pd\n",
    "\n",
    "import matplotlib.ticker                         # here's where the formatter is\n",
    "import os,sys\n",
    "import re\n",
    "import pandas as pd\n",
    "\n",
    "from astropy.io import fits\n",
    "from astropy import units as u\n",
    "from astropy import constants as c\n",
    "\n",
    "plt.rcParams[\"figure.figsize\"] = (8,6)\n",
    "plt.rcParams[\"axes.labelsize\"] = 'x-large'\n",
    "plt.rcParams['axes.titlesize'] = 'x-large'\n",
    "plt.rcParams['xtick.labelsize']= 'x-large'\n",
    "plt.rcParams['ytick.labelsize']= 'x-large'"
   ]
  },
  {
   "cell_type": "code",
   "execution_count": null,
   "id": "e681239e-c5f7-4b89-a946-e20ccfdfd431",
   "metadata": {},
   "outputs": [],
   "source": [
    "from scipy import interpolate\n",
    "from sklearn.neighbors import NearestNeighbors\n",
    "from sklearn.neighbors import KDTree, BallTree"
   ]
  },
  {
   "cell_type": "code",
   "execution_count": null,
   "id": "8a10f8cf-17f8-4c7d-9676-bee94db96c74",
   "metadata": {},
   "outputs": [],
   "source": [
    "def FindNearestNeighbors(X_data,X_neigh):\n",
    "    nbrs = NearestNeighbors(n_neighbors=1, algorithm='ball_tree').fit(X_neigh)\n",
    "    distances, indices = nbrs.kneighbors(X_data)\n",
    "    return indices,distances  "
   ]
  },
  {
   "cell_type": "code",
   "execution_count": null,
   "id": "4380da37-5a86-445b-a15d-11141eecbf33",
   "metadata": {},
   "outputs": [],
   "source": [
    "def FindNearestKDT(X_data,X_neigh):\n",
    "    kdt = KDTree(X_neigh,leaf_size=30, metric='euclidean')\n",
    "    distances,indices = kdt.query(X_data, k=1, return_distance=True)\n",
    "    return indices,distances "
   ]
  },
  {
   "cell_type": "code",
   "execution_count": null,
   "id": "be179cb2-4644-4505-a5f6-cc0e2c74a43c",
   "metadata": {},
   "outputs": [],
   "source": [
    "def FindNearestBallT(X_data,X_neigh):\n",
    "    bt = BallTree(X_neigh, metric='euclidean')\n",
    "    distances,indices = bt.query(X_data,k=1,return_distance=True)\n",
    "    return indices,distances  "
   ]
  },
  {
   "cell_type": "code",
   "execution_count": null,
   "id": "57bac3ca-d2e3-4b57-b049-1d897ada7cc2",
   "metadata": {},
   "outputs": [],
   "source": [
    "machine_name = os.uname().nodename\n",
    "path_rubinsimphot = \"repos/repos_w_2024_17/rubinsimphot/src\"\n",
    "if 'sdf' in machine_name:\n",
    "    #machine_name_usdf = 'sdfrome001'\n",
    "    print(\"Set environment for USDF\")\n",
    "    newpythonpath = os.path.join(os.getenv(\"HOME\"),path_rubinsimphot)\n",
    "    sys.path.append(newpythonpath)\n",
    "elif 'dagoret-nb' in machine_name:\n",
    "    print(\"Set environment for USDF Rubin Science Platform\")\n",
    "    newpythonpath = os.path.join(os.getenv(\"HOME\"),path_rubinsimphot)\n",
    "    sys.path.append(newpythonpath)    \n",
    "elif 'mac' in machine_name:\n",
    "    print(\"Be sure to run this notebook in conda environment named conda_py310\")\n",
    "else:\n",
    "    print(f\"Your current machine name is {machine_name}. Check your python environment\")"
   ]
  },
  {
   "cell_type": "code",
   "execution_count": null,
   "id": "fb810a5c-5481-45d0-acd6-43916598e2c9",
   "metadata": {},
   "outputs": [],
   "source": [
    "# reference flux in Jy\n",
    "F0 = ((0.*u.ABmag).to(u.Jy)).value\n",
    "F0\n"
   ]
  },
  {
   "cell_type": "markdown",
   "id": "776a81b1-5b80-484c-9611-e6f7dcf7093d",
   "metadata": {},
   "source": [
    "## Initialisation"
   ]
  },
  {
   "cell_type": "code",
   "execution_count": null,
   "id": "d0efd8da-adb8-42f5-a1dc-3b2df1c38ec0",
   "metadata": {
    "tags": []
   },
   "outputs": [],
   "source": [
    "filename_catalogmatching = \"catalog_match_objtopickles.csv\" "
   ]
  },
  {
   "cell_type": "markdown",
   "id": "1cc5be07-6b2e-4233-aa5f-8ceb728f81d0",
   "metadata": {
    "tags": []
   },
   "source": [
    "### Read the list of objects"
   ]
  },
  {
   "cell_type": "code",
   "execution_count": null,
   "id": "b66ab173-5c92-4c5d-b1eb-7b7bf3927f50",
   "metadata": {},
   "outputs": [],
   "source": [
    "#filename_data =  \"list_of_isolatedobjects.csv\" # 67 objects, produced by buggy **MultiColor_lightCurves-DMRehearsal2024_01-AuxTel.ipynb**\n",
    "filename_data = \"isolated_objects_magandcolors_psfap_good.csv\" # Must use this file produced by **ColorIsolatedObjects.ipynb**"
   ]
  },
  {
   "cell_type": "code",
   "execution_count": null,
   "id": "c09de760-5e0c-41c4-9c82-931276b89c3a",
   "metadata": {
    "tags": []
   },
   "outputs": [],
   "source": [
    "df_data = pd.read_csv(filename_data ,index_col=0)"
   ]
  },
  {
   "cell_type": "code",
   "execution_count": null,
   "id": "cdcb695b-4e5f-46ba-a587-cffae20c4575",
   "metadata": {
    "tags": []
   },
   "outputs": [],
   "source": [
    "df_data"
   ]
  },
  {
   "cell_type": "code",
   "execution_count": null,
   "id": "48821ce8-e989-4715-a5dc-7a94c279d387",
   "metadata": {
    "tags": []
   },
   "outputs": [],
   "source": [
    "def ComputeErrors(row):\n",
    "    \"\"\"\n",
    "    \"\"\"\n",
    "    s_GR = np.sqrt(row[\"smagG\"]**2 + row[\"smagR\"]**2)\n",
    "    s_ZY = np.sqrt(row[\"smagZ\"]**2 + row[\"smagY\"]**2)\n",
    "    s_ap_GR = np.sqrt(row[\"sapmagG\"]**2 + row[\"sapmagR\"]**2)\n",
    "    s_ap_ZY = np.sqrt(row[\"sapmagZ\"]**2 + row[\"sapmagY\"]**2)\n",
    "    return pd.Series(data = [s_GR,s_ZY,s_ap_GR,s_ap_ZY],index= [\"s_GR\",\"s_ZY\",\"s_ap_GR\",\"s_ap_ZY\"])"
   ]
  },
  {
   "cell_type": "code",
   "execution_count": null,
   "id": "0aca5fa0-41a8-4bbc-beee-ece8d6af03c9",
   "metadata": {},
   "outputs": [],
   "source": [
    "if filename_data ==  \"list_of_isolatedobjects.csv\":\n",
    "    df_data_err = df_data.apply(ComputeErrors,axis=1,result_type='expand')\n",
    "    df_data_comb = df_data.join(df_data_err)\n",
    "    df_data =   df_data_comb"
   ]
  },
  {
   "cell_type": "code",
   "execution_count": null,
   "id": "581b9c34-91ce-4d74-82f5-25c61aa788fe",
   "metadata": {
    "tags": []
   },
   "outputs": [],
   "source": []
  },
  {
   "cell_type": "markdown",
   "id": "9887e828-acdc-4804-8822-dc8c40cc1d69",
   "metadata": {},
   "source": [
    "### Atmosphere"
   ]
  },
  {
   "cell_type": "code",
   "execution_count": null,
   "id": "203c2fd0-507e-4bd0-a924-b4abd0552722",
   "metadata": {},
   "outputs": [],
   "source": [
    "from importlib.metadata import version\n",
    "the_ver = version('getObsAtmo')\n",
    "print(f\"Version of getObsAtmo : {the_ver}\")"
   ]
  },
  {
   "cell_type": "code",
   "execution_count": null,
   "id": "2c901301-0275-4018-a08d-ac85c64a01ea",
   "metadata": {},
   "outputs": [],
   "source": [
    "from getObsAtmo import ObsAtmo\n",
    "emul = ObsAtmo(\"AUXTEL\")"
   ]
  },
  {
   "cell_type": "markdown",
   "id": "a3179442-438e-4585-abf7-d59133a02770",
   "metadata": {},
   "source": [
    "### My tool to process atmosphere"
   ]
  },
  {
   "cell_type": "code",
   "execution_count": null,
   "id": "204f3749-7c87-4576-be6a-691517b99d6f",
   "metadata": {},
   "outputs": [],
   "source": [
    "import sys\n",
    "sys.path.append('../lib')\n",
    "#import libAtmosphericFit\n",
    "# This package encapsulate the calculation on calibration used in this nb\n",
    "from libPhotometricCorrections_auxtel import *"
   ]
  },
  {
   "cell_type": "code",
   "execution_count": null,
   "id": "e4f4d393-9ee9-4af2-b1b2-d2dcee3eb25a",
   "metadata": {},
   "outputs": [],
   "source": [
    "def set_photometric_parameters(exptime, nexp, readnoise=None):\n",
    "    # readnoise = None will use the default (8.8 e/pixel). Readnoise should be in electrons/pixel.\n",
    "    photParams = PhotometricParameters(exptime=exptime, nexp=nexp, readnoise=readnoise)\n",
    "    return photParams"
   ]
  },
  {
   "cell_type": "code",
   "execution_count": null,
   "id": "e676df54-db3b-4876-82d3-6fc12db097cb",
   "metadata": {
    "tags": []
   },
   "outputs": [],
   "source": [
    "def scale_sed(ref_mag, ref_filter, sed):\n",
    "    fluxNorm = sed.calc_flux_norm(ref_mag, lsst_std[ref_filter])\n",
    "    sed.multiply_flux_norm(fluxNorm)\n",
    "    return sed"
   ]
  },
  {
   "cell_type": "code",
   "execution_count": null,
   "id": "eea66668-f708-4c9d-ac35-413132325bdb",
   "metadata": {
    "tags": []
   },
   "outputs": [],
   "source": [
    "def ComputeColors(the_pc,the_sed1,the_sed2): \n",
    "    \"\"\"\n",
    "    parameters:\n",
    "     the_pc : PhotometricCorrections object with multi-values PWV\n",
    "     the_sed1 : the rubin_sim SED for object 1\n",
    "     the_sed2 : another rubin_sim SED for object 2\n",
    "     \n",
    "    return:\n",
    "     all_df_magcol : pandas dataframe with calculated colors G-R and Z-Y for the two objects \n",
    "    \"\"\"\n",
    "    all_df_magcol = []\n",
    "    for index,pwv in enumerate(all_pwv):\n",
    "        atm_bands = the_pc.coll_bandpass_total_nonstd[index]\n",
    "        mags_pwv1 = {}\n",
    "        mags_pwv2 = {}\n",
    "        madus_pwv1 = {}\n",
    "        madus_pwv2 = {}\n",
    "        for f in filter_tagnames: \n",
    "            mags_pwv1[f] = the_sed1.calc_mag(atm_bands[f])\n",
    "            mags_pwv2[f] = the_sed2.calc_mag(atm_bands[f])\n",
    "            madus_pwv1[f] = -2.5*np.log10(the_sed1.calc_adu(atm_bands[f],photoparams))\n",
    "            madus_pwv2[f] = -2.5*np.log10(the_sed2.calc_adu(atm_bands[f],photoparams))\n",
    "        # AB colors for star 1\n",
    "        mags_pwv1[\"g-r\"] = mags_pwv1[\"g\"]- mags_pwv1[\"r\"]  \n",
    "        mags_pwv1[\"z-y\"] = mags_pwv1[\"z\"]- mags_pwv1[\"y\"] \n",
    "        # AB colors for star 2\n",
    "        mags_pwv2[\"g-r\"] = mags_pwv2[\"g\"]- mags_pwv2[\"r\"]  \n",
    "        mags_pwv2[\"z-y\"] = mags_pwv2[\"z\"]- mags_pwv2[\"y\"] \n",
    "        # ADU mag colors for star 1\n",
    "        # MADU colors for star 1\n",
    "        madus_pwv1[\"g-r\"] = madus_pwv1[\"g\"]- madus_pwv1[\"r\"]  \n",
    "        madus_pwv1[\"z-y\"] = madus_pwv1[\"z\"]- madus_pwv1[\"y\"] \n",
    "        # MADU colors for star 2\n",
    "        madus_pwv2[\"g-r\"] = madus_pwv2[\"g\"]- madus_pwv2[\"r\"]  \n",
    "        madus_pwv2[\"z-y\"] = madus_pwv2[\"z\"]- madus_pwv2[\"y\"] \n",
    "        \n",
    "        df1 = pd.DataFrame(mags_pwv1, index=[\"abmag_1\"]).T\n",
    "        df2 = pd.DataFrame(mags_pwv2, index=[\"abmag_2\"]).T\n",
    "        df3 = pd.DataFrame(madus_pwv1, index=[\"instmag_1\"]).T\n",
    "        df4 = pd.DataFrame(madus_pwv2, index=[\"instmag_2\"]).T\n",
    "        df = pd.concat([df1,df2,df3,df4],axis=1)\n",
    "        all_df_magcol.append(df)\n",
    "        \n",
    "    return all_df_magcol"
   ]
  },
  {
   "cell_type": "code",
   "execution_count": null,
   "id": "7b56f9b2-056c-49e1-8623-7c2fead6ca17",
   "metadata": {
    "tags": []
   },
   "outputs": [],
   "source": [
    "def ComputeRelativeDiffColor(the_all_df_magcol):\n",
    "    \"\"\"\n",
    "    parameters:\n",
    "    - the_all_df_magcol : pandas dataframe containing colors for the two SED objects\n",
    "    return:\n",
    "    \n",
    "    \"\"\"\n",
    "\n",
    "    df_diffcol = pd.DataFrame(columns=[\"pwv\",\"Czy1_Czy2_abmag\",\"Czy1_Czy2_instmag\"])\n",
    "    for index,pwv in enumerate(all_pwv):\n",
    "        the_df = the_all_df_magcol[index]\n",
    "        DCzyabmag = the_df.loc[\"z-y\",\"abmag_1\"] - the_df.loc[\"z-y\",\"abmag_2\"]\n",
    "        DCzyadumag = the_df.loc[\"z-y\",\"instmag_1\"] - the_df.loc[\"z-y\",\"instmag_2\"]\n",
    "        df_diffcol.loc[index] = [pwv,DCzyabmag,DCzyadumag]\n",
    "\n",
    "    # Relative difference color is in mmag for plotting\n",
    "    df_diffcol[\"Czy1_Czy2_abmag_rel\"] =  (df_diffcol[\"Czy1_Czy2_abmag\"] - df_diffcol.loc[0,\"Czy1_Czy2_abmag\"])*1000\n",
    "    df_diffcol[\"Czy1_Czy2_instmag_rel\"] =  (df_diffcol[\"Czy1_Czy2_instmag\"] - df_diffcol.loc[0,\"Czy1_Czy2_instmag\"])*1000\n",
    "\n",
    "    # differentiation  mmag per mm\n",
    "    dx = np.diff(df_diffcol.pwv.values).mean()\n",
    "    dy1 = np.diff(df_diffcol[\"Czy1_Czy2_abmag_rel\"].values)\n",
    "    dy2 = np.diff(df_diffcol[\"Czy1_Czy2_instmag_rel\"].values)\n",
    "    z_y0 = df_diffcol.loc[0,\"Czy1_Czy2_abmag\"]\n",
    "    return df_diffcol"
   ]
  },
  {
   "cell_type": "markdown",
   "id": "dc05e441-eb80-4146-8fc5-51dc9bd7b169",
   "metadata": {},
   "source": [
    "### rubinsimphot"
   ]
  },
  {
   "cell_type": "code",
   "execution_count": null,
   "id": "1e2b06fc-244c-48de-9de3-89591176ef50",
   "metadata": {
    "tags": []
   },
   "outputs": [],
   "source": [
    "from rubinsimphot.phot_utils import Bandpass, Sed\n",
    "from rubinsimphot.data import get_data_dir\n"
   ]
  },
  {
   "cell_type": "code",
   "execution_count": null,
   "id": "0023d515-c051-4ebf-8c7a-73c7652b33de",
   "metadata": {
    "tags": []
   },
   "outputs": [],
   "source": [
    "am0 =1.20    # airmass\n",
    "pwv0 = 3.0  # Precipitable water vapor vertical column depth in mm\n",
    "oz0 = 300.  # Ozone vertical column depth in Dobson Unit (DU)\n",
    "ncomp=1     # Number of aerosol components\n",
    "tau0= 0.04 # Vertical Aerosol depth (VAOD) \n",
    "beta0 = 1.2 # Aerosol Angstrom exponent"
   ]
  },
  {
   "cell_type": "code",
   "execution_count": null,
   "id": "55cbc726-fca8-4ef1-a5d9-585d53f80019",
   "metadata": {
    "tags": []
   },
   "outputs": [],
   "source": [
    "pc = PhotometricCorrections(am0,pwv0,oz0,tau0,beta0)"
   ]
  },
  {
   "cell_type": "markdown",
   "id": "1ab90f30-0b9b-4fc5-ade6-b50c240181a4",
   "metadata": {},
   "source": [
    "### SED pickles"
   ]
  },
  {
   "cell_type": "code",
   "execution_count": null,
   "id": "c3278d41-16af-4814-b0a1-6f91984bc710",
   "metadata": {
    "tags": []
   },
   "outputs": [],
   "source": [
    "# Find the throughputs directory \n",
    "#fdir = os.getenv('RUBIN_SIM_DATA_DIR')\n",
    "fdir = get_data_dir()\n",
    "if fdir is None:  #environment variable not set\n",
    "    fdir = os.path.join(os.getenv('HOME'), 'rubin_sim_data')\n",
    "seddir = os.path.join(fdir, 'pysynphot', 'pickles')\n",
    "seddir_uvk = os.path.join(seddir,\"dat_uvk\")\n",
    "all_pickles_uvk = sorted(os.listdir(seddir_uvk))\n",
    "file_ref = os.path.join(seddir_uvk, \"pickles_uk.fits\")\n",
    "hdul = fits.open(file_ref)\n",
    "df_pickle = pd.DataFrame(hdul[1].data)"
   ]
  },
  {
   "cell_type": "code",
   "execution_count": null,
   "id": "82a226ee-2cfc-4ede-b6ab-a0d75de1580c",
   "metadata": {
    "tags": []
   },
   "outputs": [],
   "source": [
    "NSED = len(df_pickle)"
   ]
  },
  {
   "cell_type": "code",
   "execution_count": null,
   "id": "7ff064da-de77-46e5-a97c-c84ea4a2967a",
   "metadata": {
    "tags": []
   },
   "outputs": [],
   "source": [
    "# wavelength bin colors\n",
    "jet = plt.get_cmap('jet')\n",
    "cNorm = mpl.colors.Normalize(vmin=0, vmax=NSED)\n",
    "scalarMap = cmx.ScalarMappable(norm=cNorm, cmap=jet)\n",
    "all_colors = scalarMap.to_rgba(np.arange(NSED), alpha=1)"
   ]
  },
  {
   "cell_type": "code",
   "execution_count": null,
   "id": "0e5afba0-828e-42ab-91d9-1d9bd8ce2df1",
   "metadata": {
    "tags": []
   },
   "outputs": [],
   "source": [
    "fig, ax = plt.subplots(figsize=(18, 0.2), layout='constrained')\n",
    "cmap = mpl.cm.jet\n",
    "norm = mpl.colors.Normalize(vmin=0, vmax=NSED)\n",
    "cbar = fig.colorbar(mpl.cm.ScalarMappable(norm=norm, cmap=cmap),cax=ax, orientation='horizontal', label='spectral type')\n",
    "\n",
    "# change the number of labels\n",
    "labels = [item.get_text() for item in cbar.ax.get_xticklabels()]\n",
    "cbar.ax.locator_params(axis='x', nbins=4*len(labels)) \n",
    "labels = [item.get_text() for item in cbar.ax.get_xticklabels()]\n",
    "\n",
    "# rename the labels\n",
    "Nlabels = len(labels)\n",
    "for ilab in range(0,Nlabels-1):\n",
    "    the_label = int(labels[ilab])\n",
    "    labels[ilab] = df_pickle.loc[the_label,\"SPTYPE\"]\n",
    "cbar.ax.set_xticklabels(labels,rotation=45);\n",
    "plt.show()\n",
    "\n"
   ]
  },
  {
   "cell_type": "code",
   "execution_count": null,
   "id": "c8875318-4b28-47db-9ac4-4d979eaff485",
   "metadata": {
    "tags": []
   },
   "outputs": [],
   "source": [
    "fig,ax = plt.subplots(1,1,figsize=(8,6))\n",
    "for index in np.arange(NSED):\n",
    "    filename = df_pickle.loc[index,\"FILENAME\"].strip()+\".fits\"\n",
    "    fullfilename = os.path.join(seddir_uvk,filename) \n",
    "    hdul = fits.open(fullfilename)\n",
    "    dff = pd.DataFrame(hdul[1].data)\n",
    "    if index < 100 or index > 104: \n",
    "        ax.plot(dff.WAVELENGTH,dff.FLUX,color=all_colors[index])\n",
    "ax.set_yscale('log')\n",
    "ax.set_xlim(3000.,11000)\n",
    "ax.set_ylim(1e-11,1e-6)\n",
    "ax.grid()\n",
    "ax.set_title(\"Pickles $F_\\lambda$\")\n",
    "ax.set_ylabel(\"$F_\\lambda$\")\n",
    "ax.set_xlabel(\"$\\lambda \\, (\\AA$)\")\n",
    "#plt.colorbar(ax.collections[0],ax=ax,orientation = 'horizontal',shrink=0.8)\n",
    "#ax.collections[-1].colorbar\n",
    "\n",
    "cbar =fig.colorbar(mpl.cm.ScalarMappable(norm=norm, cmap=cmap),ax=ax, orientation='vertical', label='spectral type')\n",
    "\n",
    "#cbar = plt.colorbar(ax.collections[0],ax=ax)\n",
    "#cbar.ax.set_ylabel('spectral type', rotation=90)\n",
    "\n",
    "labels = [item.get_text() for item in cbar.ax.get_yticklabels()]\n",
    "cbar.ax.locator_params(axis='y', nbins=2*len(labels)) \n",
    "labels = [item.get_text() for item in cbar.ax.get_yticklabels()]\n",
    "\n",
    "Nlabels = len(labels)\n",
    "for ilab in range(0,Nlabels-1):\n",
    "    the_label = int(labels[ilab])\n",
    "    labels[ilab] = df_pickle.loc[the_label,\"SPTYPE\"]\n",
    "cbar.ax.set_yticklabels(labels,rotation=0);\n",
    "plt.tight_layout()\n"
   ]
  },
  {
   "cell_type": "markdown",
   "id": "08c8b5dc-592c-40fa-86d6-ee413f9f1baa",
   "metadata": {},
   "source": [
    "#### Convert Pickles SED in ubin_sim Photmat"
   ]
  },
  {
   "cell_type": "code",
   "execution_count": null,
   "id": "0670d7bc-c26b-4d0d-8df5-0ce06cd110d2",
   "metadata": {
    "tags": []
   },
   "outputs": [],
   "source": [
    "all_sed = []\n",
    "all_sed_type = []\n",
    "all_sed_filename = []\n",
    "zmag = 20.0\n",
    "for index in np.arange(NSED):\n",
    "    if index < 100 or index > 104: \n",
    "        spectype = df_pickle.loc[index,\"SPTYPE\"].strip()\n",
    "        filename = df_pickle.loc[index,\"FILENAME\"].strip()+\".fits\"\n",
    "        fullfilename = os.path.join(seddir_uvk,filename) \n",
    "        hdul = fits.open(fullfilename)\n",
    "        dff = pd.DataFrame(hdul[1].data)\n",
    "        wl= dff.WAVELENGTH.values\n",
    "        flux = dff.FLUX.values\n",
    "        #wavelen (nm)\n",
    "        #flambda (ergs/cm^2/s/nm)\n",
    "        the_sed = Sed(wavelen=wl/10., flambda=flux*10., name=spectype)\n",
    "        flux_norm = the_sed.calc_flux_norm(zmag, pc.bandpass_total_std['r'])\n",
    "        the_sed.multiply_flux_norm(flux_norm)\n",
    "        all_sed.append(the_sed) \n",
    "        all_sed_type.append(spectype) \n",
    "        all_sed_filename.append(filename)\n",
    "NSED = len(all_sed)"
   ]
  },
  {
   "cell_type": "markdown",
   "id": "6e690d27-a647-4af1-834a-d4eb3ab04144",
   "metadata": {},
   "source": [
    "## Simulate multi atmospheres"
   ]
  },
  {
   "cell_type": "code",
   "execution_count": null,
   "id": "8a90e21a-fccc-45b7-876a-c24fa87785a6",
   "metadata": {},
   "outputs": [],
   "source": [
    "am = 1.2\n",
    "am1 = 1.0\n",
    "am2 = 1.5\n",
    "am3 = 2.0\n",
    "oz = 300\n",
    "tau= 0.04\n",
    "beta = 1\n",
    "all_pwv = np.arange(0,15.,0.5)\n",
    "NPWV = len(all_pwv)"
   ]
  },
  {
   "cell_type": "code",
   "execution_count": null,
   "id": "2e47d087-993a-420d-8a0b-878391143bc9",
   "metadata": {
    "tags": []
   },
   "outputs": [],
   "source": [
    "pc.CalculateMultiObs(am,all_pwv,oz,tau,beta)"
   ]
  },
  {
   "cell_type": "code",
   "execution_count": null,
   "id": "620ab842-26de-4b17-89f5-8b712351ce48",
   "metadata": {
    "tags": []
   },
   "outputs": [],
   "source": [
    "NOBS = len(all_pwv)\n",
    "\n",
    "# wavelength bin colors\n",
    "jet = plt.get_cmap('jet')\n",
    "cNorm = colors.Normalize(vmin=0, vmax=NOBS)\n",
    "scalarMap = cmx.ScalarMappable(norm=cNorm, cmap=jet)\n",
    "all_colors = scalarMap.to_rgba(np.arange(NOBS), alpha=1)\n",
    "\n",
    "\n",
    "fig = plt.figure(figsize=(8,4))\n",
    "\n",
    "# Figure 1\n",
    "axs=fig.add_subplot(1,1,1)\n",
    "for index,pwv in enumerate(all_pwv):\n",
    "  \n",
    "    atm_bands = pc.coll_bandpass_total_nonstd[index]\n",
    "  \n",
    "    \n",
    "    label = f\"pwv={pwv:.1f}\" \n",
    "\n",
    "    for f in filter_tagnames: \n",
    "        axs.plot(atm_bands[f].wavelen,atm_bands[f].sb,color=all_colors[index],label=label,lw=0.5)\n",
    "  \n",
    "   \n",
    "axs.plot(pc.WL,pc.atm_std,color=\"k\",lw=2,label=\"standard atmosphere\")\n",
    "#axs.legend(bbox_to_anchor=(1.03, 1.0))  \n",
    "axs.set_xlabel(\"$\\lambda$ (nm)\")\n",
    "axs.set_title(\"standard and observed transmission for airmass 1.2\")\n",
    "\n",
    "ax2 = axs.twinx()\n",
    "for ifilt,f in enumerate(filter_tagnames):\n",
    "    ax2.fill_between(pc.bandpass_total_std[f].wavelen,pc.bandpass_total_std[f].sb,color=filter_color[ifilt],alpha=0.1) \n",
    "    ax2.set_yticks([])\n",
    "\n",
    "\n",
    "plt.tight_layout()\n",
    "plt.show()\n",
    "\n"
   ]
  },
  {
   "cell_type": "code",
   "execution_count": null,
   "id": "4a91c285-d1ce-476a-ae92-145a919fe787",
   "metadata": {
    "tags": []
   },
   "outputs": [],
   "source": [
    "#all_df_magcol = ComputeColors(pc,the_sed1,the_sed2)\n",
    "#df_diffcol = ComputeRelativeDiffColor(all_df_magcol)\n",
    "#z_y0 = df_diffcol.loc[0,\"Czy1_Czy2_abmag\"]\n",
    "\n",
    "#dx = np.diff(df_diffcol.pwv.values).mean()\n",
    "#dy1 = np.diff(df_diffcol[\"Czy1_Czy2_abmag_rel\"].values)\n",
    "#dy2 = np.diff(df_diffcol[\"Czy1_Czy2_instmag_rel\"].values)"
   ]
  },
  {
   "cell_type": "code",
   "execution_count": null,
   "id": "b72acdbe-2bf0-4ad4-b4ed-549f53485bf6",
   "metadata": {},
   "outputs": [],
   "source": [
    "df_mag_pkl = pd.DataFrame(columns = [\"index\",\"filename\",\"spectype\",\n",
    "                                 \"magu\",\"magg\",\"magr\",\"magi\",\"magz\",\"magy\",\n",
    "                                 \"aduu\",\"adug\",\"adur\",\"adui\",\"aduz\",\"aduy\"])\n",
    "mags_std = {}\n",
    "adcs_stdmag = {}\n",
    "\n",
    "for index in np.arange(NSED):\n",
    "    spectype = all_sed_type[index]\n",
    "    filename = all_sed_filename[index]\n",
    "    the_sed = all_sed[index] \n",
    "    for index2,f in enumerate(filter_tagnames) :\n",
    "        mags_std[f] = the_sed.calc_mag(pc.bandpass_total_std[f])\n",
    "        adcs_stdmag[f] = -2.5*np.log10(the_sed.calc_adu(pc.bandpass_total_std[f],photoparams))\n",
    "    df_mag_pkl.loc[index] = [ index,filename, spectype ,\n",
    "                    mags_std[\"u\"],mags_std[\"g\"],mags_std[\"r\"],mags_std[\"i\"],mags_std[\"z\"],mags_std[\"y\"],\n",
    "                    adcs_stdmag[\"u\"],adcs_stdmag[\"g\"],adcs_stdmag[\"r\"],adcs_stdmag[\"i\"],adcs_stdmag[\"z\"],adcs_stdmag[\"y\"]]\n",
    "                                \n",
    "df_mag_pkl[\"magG_R\"] = df_mag_pkl[\"magg\"] - df_mag_pkl[\"magr\"]\n",
    "df_mag_pkl[\"magZ_Y\"] = df_mag_pkl[\"magz\"] - df_mag_pkl[\"magy\"]\n",
    "df_mag_pkl[\"aduG_R\"] = df_mag_pkl[\"adug\"] - df_mag_pkl[\"adur\"]\n",
    "df_mag_pkl[\"aduZ_Y\"] = df_mag_pkl[\"aduz\"] - df_mag_pkl[\"aduy\"]\n"
   ]
  },
  {
   "cell_type": "code",
   "execution_count": null,
   "id": "0a9de2a6-8b6a-4966-934c-f98e5e0d82a5",
   "metadata": {
    "tags": []
   },
   "outputs": [],
   "source": [
    " df_mag_pkl"
   ]
  },
  {
   "cell_type": "code",
   "execution_count": null,
   "id": "943f4aaf-9324-45de-9b49-beb92897eb91",
   "metadata": {
    "tags": []
   },
   "outputs": [],
   "source": [
    "fig,ax = plt.subplots(1,1,figsize=(10,8))\n",
    "\n",
    "df_mag_pkl.plot.scatter(x=\"aduZ_Y\",y=\"aduG_R\",marker=\"+\",c=\"index\",s=60,colormap=\"jet\",ax=ax,grid=True,colorbar=False,label=\"Pickles\")\n",
    "#cbar = plt.colorbar(ax.collections[0],ax=ax,orientation = 'horizontal',shrink=0.8)\n",
    "cbar = plt.colorbar(ax.collections[0],ax=ax)\n",
    "cbar.ax.set_ylabel('spectral type', rotation=90)\n",
    "\n",
    "labels = [item.get_text() for item in cbar.ax.get_yticklabels()]\n",
    "cbar.ax.locator_params(axis='y', nbins=2*len(labels)) \n",
    "labels = [item.get_text() for item in cbar.ax.get_yticklabels()]\n",
    "\n",
    "Nlabels = len(labels)\n",
    "\n",
    "for ilab in range(0,Nlabels-1):\n",
    "    the_label = int(labels[ilab])\n",
    "    labels[ilab] = df_mag_pkl.loc[the_label,\"spectype\"]\n",
    "cbar.ax.set_yticklabels(labels,rotation=0);\n",
    "ax.set_title(\"Color-Color plot (obs ADU mag) of Pickles stars\")\n",
    "ax.set_xlabel(\"Z-Y (adu) (mag)\")\n",
    "ax.set_ylabel(\"G-R (adu) (mag)\")\n",
    "ax.set_aspect(\"equal\")\n",
    "ax.errorbar(df_data[\"z_y_ap\"],df_data[\"g_r_ap\"],xerr=df_data[\"sig_z_y_ap\"] , yerr=df_data[\"sig_g_r_ap\"], fmt=\"o\",color='k',ecolor=\"grey\",label=\"Auxtel data (Aperture flux)\")\n",
    "\n",
    "\n",
    "ax.legend()\n"
   ]
  },
  {
   "cell_type": "code",
   "execution_count": null,
   "id": "186a4c3a-c856-4ac3-a640-3de6c4806e62",
   "metadata": {},
   "outputs": [],
   "source": [
    "fig,ax = plt.subplots(1,1,figsize=(10,8))\n",
    "\n",
    "df_mag_pkl.plot.scatter(x=\"magZ_Y\",y=\"magG_R\",marker=\"+\",c=\"index\",s=60,colormap=\"jet\",ax=ax,grid=True,colorbar=False,label=\"Pickles\")\n",
    "#cbar = plt.colorbar(ax.collections[0],ax=ax,orientation = 'horizontal',shrink=0.8)\n",
    "cbar = plt.colorbar(ax.collections[0],ax=ax)\n",
    "cbar.ax.set_ylabel('spectral type', rotation=90)\n",
    "\n",
    "labels = [item.get_text() for item in cbar.ax.get_yticklabels()]\n",
    "cbar.ax.locator_params(axis='y', nbins=2*len(labels)) \n",
    "labels = [item.get_text() for item in cbar.ax.get_yticklabels()]\n",
    "\n",
    "Nlabels = len(labels)\n",
    "\n",
    "for ilab in range(0,Nlabels-1):\n",
    "    the_label = int(labels[ilab])\n",
    "    labels[ilab] = df_mag_pkl.loc[the_label,\"spectype\"]\n",
    "cbar.ax.set_yticklabels(labels,rotation=0);\n",
    "ax.set_title(\"Color-Color plot (AB mag) of Pickles stars\")\n",
    "ax.set_xlabel(\"Z-Y (AB) (mag)\")\n",
    "ax.set_ylabel(\"G-R (AB) (mag)\")\n",
    "ax.set_aspect(\"equal\")\n",
    "ax.errorbar(df_data[\"z_y_psf\"],df_data[\"g_r_psf\"],xerr=df_data[\"sig_z_y_psf\"] , yerr=df_data[\"sig_g_r_psf\"], fmt=\"o\",color='k',ecolor=\"grey\",label=\"Auxtel data (PSF flux)\")\n",
    "\n",
    "ax.legend()\n"
   ]
  },
  {
   "cell_type": "markdown",
   "id": "966e04d3-63cb-47bc-930f-92f9a2b3a33d",
   "metadata": {},
   "source": [
    "## Extract the Neighbourgs and Data for NearestNeighbourg"
   ]
  },
  {
   "cell_type": "code",
   "execution_count": null,
   "id": "e5ca47b3-7ab6-4818-ba84-385f756a5a7a",
   "metadata": {
    "tags": []
   },
   "outputs": [],
   "source": [
    "# neighbourgs\n",
    "df_colors = df_mag_pkl[[\"index\",\"spectype\",\"magG_R\",\"magZ_Y\"]]\n",
    "x_pkl = df_colors[\"magZ_Y\"].values\n",
    "y_pkl = df_colors[\"magG_R\"].values\n",
    "X_pkl = list(zip(x_pkl,y_pkl))"
   ]
  },
  {
   "cell_type": "code",
   "execution_count": null,
   "id": "f51bd7f7-b46f-4b06-ae98-d4be8ee82b53",
   "metadata": {
    "tags": []
   },
   "outputs": [],
   "source": [
    "# data\n",
    "x_dat = df_data[\"z_y_psf\"].values\n",
    "y_dat = df_data[\"g_r_psf\"].values\n",
    "X_data = list(zip(x_dat,y_dat))\n"
   ]
  },
  {
   "cell_type": "code",
   "execution_count": null,
   "id": "6053cd18-cf6f-447c-9248-df8a383240ee",
   "metadata": {
    "tags": []
   },
   "outputs": [],
   "source": [
    "indices1,distances1 = FindNearestNeighbors(X_data,X_pkl)\n",
    "indices2,distances2 = FindNearestKDT(X_data,X_pkl)\n",
    "indices3,distances3 = FindNearestBallT(X_data,X_pkl)"
   ]
  },
  {
   "cell_type": "code",
   "execution_count": null,
   "id": "c40a52ef-3776-478e-9bc2-a9ea0662dbf0",
   "metadata": {
    "tags": []
   },
   "outputs": [],
   "source": [
    "indices_flat = indices1.flatten()"
   ]
  },
  {
   "cell_type": "code",
   "execution_count": null,
   "id": "48d02403-213e-4a16-a74b-5e06881cc341",
   "metadata": {},
   "outputs": [],
   "source": [
    "#np.hstack([indices1,indices2,indices3])"
   ]
  },
  {
   "cell_type": "code",
   "execution_count": null,
   "id": "8eee77af-5d6a-44e2-a73e-85177711e1a6",
   "metadata": {
    "tags": []
   },
   "outputs": [],
   "source": [
    "Ndata = len(df_data)\n",
    "photom_wl = np.array([FILTERWL[1,2],FILTERWL[2,2],FILTERWL[3,2],FILTERWL[4,2],FILTERWL[5,2]])"
   ]
  },
  {
   "cell_type": "code",
   "execution_count": null,
   "id": "c06c2f1a-09d7-46af-8b45-9f9a2f52d026",
   "metadata": {
    "tags": []
   },
   "outputs": [],
   "source": [
    "df_matchobjsed = pd.DataFrame(columns=[\"objnum\",\"sedfnname\",\"sedtype\"])\n",
    "\n",
    "for idx_data in range(Ndata):\n",
    "    row  = df_data.iloc[idx_data]\n",
    "    objnum = int(row.obj)\n",
    "    idx_sed = indices_flat[idx_data]   \n",
    "    sed_type = all_sed_type[idx_sed]\n",
    "    sed_filename = all_sed_filename[idx_sed]\n",
    "    df_matchobjsed.loc[idx_data] = [objnum,sed_filename,sed_type]  \n",
    "    "
   ]
  },
  {
   "cell_type": "code",
   "execution_count": null,
   "id": "75df2724-3729-4a8c-9eb4-fe76a2d6b542",
   "metadata": {
    "tags": []
   },
   "outputs": [],
   "source": [
    "df_matchobjsed"
   ]
  },
  {
   "cell_type": "code",
   "execution_count": null,
   "id": "ef8d8a63-0cea-4d9a-a60f-f0bd938c5839",
   "metadata": {
    "tags": []
   },
   "outputs": [],
   "source": [
    "for idx_data in range(Ndata):\n",
    "    fig,(ax,ax2) = plt.subplots(1,2,figsize=(16,6))\n",
    "    \n",
    "    #get the data\n",
    "    row  = df_data.iloc[idx_data]\n",
    "    objnum = int(row.obj)\n",
    "    label_data = f\"object {objnum}\"\n",
    "    mags = np.array([row[\"g_psf\"],row[\"r_psf\"],row[\"i_psf\"],row[\"z_psf\"], row[\"y_psf\"]])\n",
    "    mags_err = np.array([row[\"sg_psf\"],row[\"sr_psf\"],row[\"si_psf\"],row[\"sz_psf\"], row[\"sy_psf\"]])\n",
    "    \n",
    "    \n",
    "    ### Left plot\n",
    "\n",
    "    # plot data\n",
    "    ax.errorbar(photom_wl,mags,yerr=mags_err,fmt=\".\",color=\"k\",ecolor=\"grey\",elinewidth=1.)  \n",
    "    ax.scatter(photom_wl,mags,marker=\"o\",color=\"k\",s=20,label=label_data) \n",
    "    \n",
    "    ax.set_xlim(300.,1100.)\n",
    "    \n",
    "    \n",
    "    # get the SED\n",
    "   \n",
    "    idx_sed = indices_flat[idx_data]\n",
    "    the_sed = all_sed[idx_sed]\n",
    "    flux_norm = the_sed.calc_flux_norm(row[\"r_psf\"], pc.bandpass_total_std['r'])\n",
    "    the_sed.multiply_flux_norm(flux_norm)\n",
    "    name_sed = the_sed.name\n",
    "    sed_type = all_sed_type[idx_sed]\n",
    "    \n",
    "    assert name_sed == sed_type\n",
    "    sed_filename = all_sed_filename[idx_sed]\n",
    "        \n",
    "    mags_pkl = {}\n",
    "    \n",
    "    for f in [\"g\",\"r\",\"i\",\"z\",\"y\"] :\n",
    "        mags_pkl[f] = the_sed.calc_mag(pc.bandpass_total_std[f])\n",
    "        \n",
    "    all_mag_pkl = np.array([mags_pkl[\"g\"],mags_pkl[\"r\"],mags_pkl[\"i\"],mags_pkl[\"z\"],mags_pkl[\"y\"]])    \n",
    "    label_simmag = f\"calc AB mag for pickle {name_sed}\"\n",
    "    \n",
    "    ax.scatter(photom_wl,all_mag_pkl,marker = \"o\",color=\"r\",label=label_simmag)\n",
    "    \n",
    "    \n",
    "    label_sed = f\"pickle spectrum sed_fn : {sed_filename}\"\n",
    "    ax.plot(the_sed.wavelen,-2.5*np.log10(the_sed.fnu/F0),\"b:\",label=label_sed)\n",
    "    \n",
    "    ax.legend()\n",
    "    \n",
    "    ax.set_xlabel(\"$\\lambda \\, (nm)$\")\n",
    "    ax.set_ylabel(\"Magnitude (AB-mag)\")\n",
    "    ax.yaxis.set_inverted(True)\n",
    "    ax.set_ylim(20.,12.)\n",
    "   \n",
    "    \n",
    "   \n",
    "\n",
    "    ## Right plot\n",
    "    \n",
    "    # data point : convert mags in fnu then in flambda\n",
    "    all_fnudata_points = F0*np.power(10,-0.4*mags)\n",
    "    data_sed_points =  Sed(wavelen=photom_wl,fnu=all_fnudata_points)\n",
    "    data_flux_flambda = data_sed_points.flambda\n",
    "    data_flux_flambda_err =  data_flux_flambda*mags_err*np.log(10)/2.5 \n",
    "    \n",
    "    ax2.errorbar(photom_wl, data_flux_flambda,yerr=data_flux_flambda_err,fmt=\".\",color=\"k\",ecolor=\"grey\",elinewidth=1.)  \n",
    "    ax2.scatter(photom_wl,  data_flux_flambda ,marker = \"o\",color=\"k\",label=label_data)\n",
    "    \n",
    "    \n",
    "    # pickle points : convert mags in fnu then in flambda\n",
    "    all_fnusim_points = F0*np.power(10,-0.4*all_mag_pkl)\n",
    "    sim_sed_points = Sed(wavelen=photom_wl,fnu=all_fnusim_points)\n",
    "    label_simmag = f\"band average $f_\\lambda$ for pickle {name_sed}\"\n",
    "    ax2.scatter(photom_wl, sim_sed_points.flambda,marker = \"o\",color=\"r\",label=label_simmag)\n",
    "    \n",
    "    ax2.plot(the_sed.wavelen,the_sed.flambda,\"b:\",label=label_sed)\n",
    "    \n",
    "    ax2.set_xlim(300.,1100.)\n",
    "    ax2.set_xlabel(\"$\\lambda \\, (nm)$\")\n",
    "    ax2.set_ylabel(\"$f_\\lambda \\,\\; (ergs/cm^2/s/nm)$\")\n",
    "    ax2.legend()\n",
    "    \n",
    "    plt.suptitle(f\"Flux comparison data/pickle for object {objnum}\",y=.95,fontsize=16)\n",
    "    \n",
    "    plt.tight_layout()\n",
    "    plt.show()"
   ]
  },
  {
   "cell_type": "markdown",
   "id": "3ab99922-4077-4a77-8486-ed596e71d2a8",
   "metadata": {},
   "source": [
    "## Save"
   ]
  },
  {
   "cell_type": "code",
   "execution_count": null,
   "id": "6eceb499-efc1-400d-a254-fa8c67c4c487",
   "metadata": {
    "tags": []
   },
   "outputs": [],
   "source": [
    "df_matchobjsed"
   ]
  },
  {
   "cell_type": "code",
   "execution_count": null,
   "id": "b0256978-2829-42f3-8d28-5ce9f9bc532c",
   "metadata": {
    "tags": []
   },
   "outputs": [],
   "source": [
    "df_matchobjsed.to_csv(filename_catalogmatching) "
   ]
  },
  {
   "cell_type": "code",
   "execution_count": null,
   "id": "311d73de-52c1-4e86-a4d6-ace0cf7f10b5",
   "metadata": {},
   "outputs": [],
   "source": []
  }
 ],
 "metadata": {
  "kernelspec": {
   "display_name": "Python 3 (ipykernel)",
   "language": "python",
   "name": "python3"
  },
  "language_info": {
   "codemirror_mode": {
    "name": "ipython",
    "version": 3
   },
   "file_extension": ".py",
   "mimetype": "text/x-python",
   "name": "python",
   "nbconvert_exporter": "python",
   "pygments_lexer": "ipython3",
   "version": "3.11.5"
  }
 },
 "nbformat": 4,
 "nbformat_minor": 5
}
