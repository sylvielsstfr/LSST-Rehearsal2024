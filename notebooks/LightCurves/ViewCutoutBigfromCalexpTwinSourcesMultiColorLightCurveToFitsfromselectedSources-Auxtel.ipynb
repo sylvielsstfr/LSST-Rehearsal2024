{
 "cells": [
  {
   "cell_type": "markdown",
   "id": "45bf4242-bfc5-4d43-88c4-a8059ae148df",
   "metadata": {},
   "source": [
    "# Cutout with twin color pairs with 2 stars closeby in multi colors"
   ]
  },
  {
   "cell_type": "markdown",
   "id": "01993b6e-6438-4fca-a5d5-1f9791336847",
   "metadata": {},
   "source": [
    "- author Sylvie Dagoret-Campagne\n",
    "- creation date 2024-06-18\n",
    "- last update 2024-06-18\n",
    "- affiliation : IJCLab\n",
    "- Kernel **w_2024_16**"
   ]
  },
  {
   "cell_type": "markdown",
   "id": "e1b442f0-f745-442b-bc99-2ad838d61d45",
   "metadata": {
    "execution": {
     "iopub.execute_input": "2024-06-06T08:45:15.979992Z",
     "iopub.status.busy": "2024-06-06T08:45:15.979867Z",
     "iopub.status.idle": "2024-06-06T08:45:15.982489Z",
     "shell.execute_reply": "2024-06-06T08:45:15.982072Z",
     "shell.execute_reply.started": "2024-06-06T08:45:15.979981Z"
    }
   },
   "source": [
    "- want to see within 30 arcsec from main source thus need box size of 300 pixel"
   ]
  },
  {
   "cell_type": "code",
   "execution_count": null,
   "id": "bf752b70-e6ca-4cbf-8e8c-20bf7f0d8f61",
   "metadata": {},
   "outputs": [],
   "source": [
    "import numpy as np\n",
    "import matplotlib.pyplot as plt\n",
    "%matplotlib inline\n",
    "from mpl_toolkits.axes_grid1 import make_axes_locatable\n",
    "from matplotlib.colors import LogNorm,SymLogNorm\n",
    "from matplotlib.patches import Circle,Annulus\n",
    "from astropy.visualization import ZScaleInterval\n",
    "props = dict(boxstyle='round', facecolor=None, alpha=0.1)\n",
    "#props = dict(boxstyle='round')\n",
    "\n",
    "\n",
    "import matplotlib.ticker                         # here's where the formatter is\n",
    "from matplotlib.ticker import (MultipleLocator, FormatStrFormatter,\n",
    "                               AutoMinorLocator)\n",
    "\n",
    "from astropy.visualization import (MinMaxInterval, SqrtStretch,ZScaleInterval,PercentileInterval,\n",
    "                                   ImageNormalize,imshow_norm)\n",
    "from astropy.visualization.stretch import SinhStretch, LinearStretch,AsinhStretch,LogStretch\n",
    "\n",
    "from astropy.io import fits\n",
    "from astropy.wcs import WCS\n",
    "\n",
    "\n",
    "import pandas as pd\n",
    "pd.set_option(\"display.max_columns\", None)\n",
    "pd.set_option('display.max_rows', 100)\n",
    "\n",
    "import matplotlib.ticker                         # here's where the formatter is\n",
    "import os\n",
    "import re\n",
    "import pandas as pd\n",
    "import pickle\n",
    "from collections import OrderedDict\n",
    "\n",
    "plt.rcParams[\"figure.figsize\"] = (4,3)\n",
    "plt.rcParams[\"axes.labelsize\"] = 'xx-large'\n",
    "plt.rcParams['axes.titlesize'] = 'xx-large'\n",
    "plt.rcParams['xtick.labelsize']= 'xx-large'\n",
    "plt.rcParams['ytick.labelsize']= 'xx-large'\n",
    "\n",
    "import scipy\n",
    "from scipy.optimize import curve_fit"
   ]
  },
  {
   "cell_type": "code",
   "execution_count": null,
   "id": "4950be9c-6c53-44ba-9804-d89a6b877534",
   "metadata": {},
   "outputs": [],
   "source": [
    "import gc"
   ]
  },
  {
   "cell_type": "code",
   "execution_count": null,
   "id": "0ca0d1e6-5f82-4c43-aaa3-8524fc2bc5ba",
   "metadata": {},
   "outputs": [],
   "source": [
    "from matplotlib.ticker import (MultipleLocator, FormatStrFormatter,\n",
    "                               AutoMinorLocator)\n",
    "\n",
    "from astropy.visualization import (MinMaxInterval, SqrtStretch,ZScaleInterval,PercentileInterval,\n",
    "                                   ImageNormalize,imshow_norm)\n",
    "from astropy.visualization.stretch import SinhStretch, LinearStretch,AsinhStretch,LogStretch\n",
    "\n",
    "from astropy.time import Time\n",
    "import scipy"
   ]
  },
  {
   "cell_type": "code",
   "execution_count": null,
   "id": "51ddfce4-9a0f-4804-bc6a-7f9138874f16",
   "metadata": {},
   "outputs": [],
   "source": [
    "import lsst.daf.butler as dafButler\n",
    "#import lsst.summit.utils.butlerUtils as butlerUtils"
   ]
  },
  {
   "cell_type": "code",
   "execution_count": null,
   "id": "34f037b5-b6a2-4f93-b86b-a6108d8a5ea7",
   "metadata": {},
   "outputs": [],
   "source": [
    "import lsst.afw.image as afwImage\n",
    "import lsst.afw.display as afwDisplay\n",
    "import lsst.afw.table as afwTable\n",
    "import lsst.afw.display.rgb as afwRgb\n",
    "import lsst.afw.image as afwImage\n",
    "import lsst.geom as geom\n",
    "\n",
    "#import lsst.sphgeom\n",
    "from  lsst.geom import SpherePoint, Angle\n",
    "import lsst.sphgeom"
   ]
  },
  {
   "cell_type": "code",
   "execution_count": null,
   "id": "d017fb69-9a17-4137-9733-1104af59af03",
   "metadata": {},
   "outputs": [],
   "source": [
    "\n",
    "from astropy.wcs import WCS\n",
    "from astropy.visualization import make_lupton_rgb\n",
    "import gc\n",
    "\n",
    "import lsst.afw.display as afwDisplay\n",
    "from lsst.afw.image import MultibandExposure"
   ]
  },
  {
   "cell_type": "code",
   "execution_count": null,
   "id": "7f26c627-fc82-4f60-8e0a-c25657f092f9",
   "metadata": {},
   "outputs": [],
   "source": [
    "# LSST Display\n",
    "import lsst.afw.display as afwDisplay\n",
    "afwDisplay.setDefaultBackend('matplotlib')"
   ]
  },
  {
   "cell_type": "code",
   "execution_count": null,
   "id": "aba2cfa4-809a-4f1c-8e8f-9f81547e0b5e",
   "metadata": {},
   "outputs": [],
   "source": [
    "transform = AsinhStretch() + PercentileInterval(99.)"
   ]
  },
  {
   "cell_type": "code",
   "execution_count": null,
   "id": "b26e1f0b-83be-4348-b87c-88294ec7c8d6",
   "metadata": {},
   "outputs": [],
   "source": [
    "# INSERT YOUR collection and tract\n",
    "# for rehearsal use collection 2 which have CCDvisit\n",
    "butlerRoot = \"/repo/embargo\"\n",
    "\n",
    "collection1 = 'LSSTComCamSim/runs/nightlyvalidation/20240402/d_2024_03_29/DM-43612'\n",
    "collection2 = 'LSSTComCamSim/runs/nightlyvalidation/20240403/d_2024_03_29/DM-43612'\n",
    "collection3 = 'LSSTComCamSim/runs/nightlyvalidation/20240404/d_2024_03_29/DM-43612'\n",
    "collection = 'LATISS/runs/AUXTEL_DRP_IMAGING_20230509_20240414/w_2024_15/PREOPS-5069' # COMPLETED\n",
    "\n",
    "collectionn = collection\n",
    "#collections = [collection1,collection2,collection3]\n",
    "collections = [collection]\n",
    "collectionStr = collectionn.replace(\"/\", \"_\")\n",
    "fn_ccdVisit_tracts_patches = f\"ccdVisittractpatch_{collectionStr}.csv\"\n",
    "instrument = 'LATISS'\n",
    "skymapName = \"latiss_v1\"\n",
    "where_clause = \"instrument = \\'\" + instrument+ \"\\'\"\n",
    "tract = 3864 # mostly for light-curves\n",
    "patch_sel = 236\n",
    "#tract = 5615\n",
    "# tract = 5634 # interesting to view calib parameters\n",
    "suptitle = collectionStr + f\" inst = {instrument} tract = {tract}\""
   ]
  },
  {
   "cell_type": "code",
   "execution_count": null,
   "id": "3048e2e2-2489-43e0-a96d-848c548700cb",
   "metadata": {},
   "outputs": [],
   "source": [
    "#dataId = {\"skymap\": \"latiss_v1\", \"tract\": 5615, \"instrument\": \"LATISS\"}\n",
    "dataId = {\"skymap\": skymapName, \"tract\": tract, \"instrument\": instrument}\n",
    "repo = '/sdf/group/rubin/repo/oga/'\n",
    "butler = dafButler.Butler(repo)\n",
    "#t = Butler.get(table_sel, dataId=dataId, collections=collections)\n",
    "registry = butler.registry"
   ]
  },
  {
   "cell_type": "code",
   "execution_count": null,
   "id": "d87b3bde-871f-4eba-87f7-1ee1ade704c5",
   "metadata": {},
   "outputs": [],
   "source": [
    "skymap_auxtel ='latiss_v1'\n",
    "skymap = butler.get('skyMap', skymap=skymap_auxtel, collections=collections)"
   ]
  },
  {
   "cell_type": "code",
   "execution_count": null,
   "id": "aabccbc1-c6dd-42b5-b766-84d15c9e1ab6",
   "metadata": {},
   "outputs": [],
   "source": [
    "def remove_figure(fig):\n",
    "    \"\"\"\n",
    "    Remove a figure to reduce memory footprint.\n",
    "\n",
    "    Parameters\n",
    "    ----------\n",
    "    fig: matplotlib.figure.Figure\n",
    "        Figure to be removed.\n",
    "\n",
    "    Returns\n",
    "    -------\n",
    "    None\n",
    "    \"\"\"\n",
    "    # get the axes and clear their images\n",
    "    for ax in fig.get_axes():\n",
    "        for im in ax.get_images():\n",
    "            im.remove()\n",
    "    fig.clf()       # clear the figure\n",
    "    plt.close(fig)  # close the figure\n",
    "    gc.collect()    # call the garbage collector"
   ]
  },
  {
   "cell_type": "code",
   "execution_count": null,
   "id": "217d9116-61a1-4ab3-9ba4-4cc8668956e8",
   "metadata": {},
   "outputs": [],
   "source": [
    "def get_corners_radec(wcs, bbox):\n",
    "    \"\"\"\n",
    "    Return the corners in RA,Dec in degrees given the WCS and bounding box for an image.\n",
    "\n",
    "    Parameters\n",
    "    ----------\n",
    "    wcs: image WCS returned by the Butler\n",
    "    bbox: bounding box returned by the Butler\n",
    "\n",
    "    Returns\n",
    "    -------\n",
    "    corners_ra, corners_dec in decimal degrees\n",
    "    \"\"\"\n",
    "\n",
    "    corners_x = [bbox.beginX, bbox.beginX, bbox.endX, bbox.endX]\n",
    "    corners_y = [bbox.beginY, bbox.endY, bbox.endY, bbox.beginY]\n",
    "    corners_ra = []\n",
    "    corners_dec = []\n",
    "    for i in range(4):\n",
    "        radec = wcs.pixelToSky(corners_x[i], corners_y[i])\n",
    "        corners_ra.append(radec.getRa().asDegrees())\n",
    "        corners_dec.append(radec.getDec().asDegrees())\n",
    "    \n",
    "    return corners_ra, corners_dec"
   ]
  },
  {
   "cell_type": "code",
   "execution_count": null,
   "id": "81240109-5d2e-4829-82dc-dddc9d4cda05",
   "metadata": {},
   "outputs": [],
   "source": [
    "def convert_fluxtomag(x) :\n",
    "    \"\"\"\n",
    "    The object and source catalogs store only fluxes. There are hundreds of flux-related columns, \n",
    "    and to store them also as magnitudes would be redundant, and a waste of space.\n",
    "    All flux units are nanojanskys. The AB Magnitudes Wikipedia page provides a concise resource \n",
    "    for users unfamiliar with AB magnitudes and jansky fluxes. To convert to AB magnitudes use:\n",
    "    As demonstrated in Section 2.3.2, to add columns of magnitudes after retrieving columns of flux, users can do this:\n",
    "    results_table['r_calibMag'] = -2.50 * numpy.log10(results_table['r_calibFlux']) + 31.4\n",
    "    results_table['r_cModelMag'] = -2.50 * numpy.log10(results_table['r_cModelFlux']) + 31.4\n",
    "    (from DP0 tutorial)\n",
    "    \"\"\"\n",
    "    return -2.50 * np.log10(x) + 31.4"
   ]
  },
  {
   "cell_type": "code",
   "execution_count": null,
   "id": "8e568cf6-0318-476b-841c-a6de63ced2aa",
   "metadata": {},
   "outputs": [],
   "source": [
    "def cutout_coadd(butler, ra, dec, band='r', datasetType='deepCoadd',\n",
    "                 skymap=None, cutoutSideLength=51, **kwargs):\n",
    "    \"\"\"\n",
    "    Produce a cutout from a coadd at the given ra, dec position.\n",
    "\n",
    "    Adapted from DC2 tutorial notebook by Michael Wood-Vasey.\n",
    "\n",
    "    Parameters\n",
    "    ----------\n",
    "    butler: lsst.daf.persistence.Butler\n",
    "        Helper object providing access to a data repository\n",
    "    ra: float\n",
    "        Right ascension of the center of the cutout, in degrees\n",
    "    dec: float\n",
    "        Declination of the center of the cutout, in degrees\n",
    "    band: string\n",
    "        Filter of the image to load\n",
    "    datasetType: string ['deepCoadd']\n",
    "        Which type of coadd to load.  Doesn't support 'calexp'\n",
    "    skymap: lsst.afw.skyMap.SkyMap [optional]\n",
    "        Pass in to avoid the Butler read.  Useful if you have lots of them.\n",
    "    cutoutSideLength: float [optional]\n",
    "        Size of the cutout region in pixels.\n",
    "\n",
    "    Returns\n",
    "    -------\n",
    "    MaskedImage\n",
    "    \"\"\"\n",
    "    radec = geom.SpherePoint(ra, dec, geom.degrees)\n",
    "    cutoutSize = geom.ExtentI(cutoutSideLength, cutoutSideLength)\n",
    "\n",
    "    if skymap is None:\n",
    "        skymap = butler.get(\"skyMap\")\n",
    "\n",
    "    # Look up the tract, patch for the RA, Dec\n",
    "    tractInfo = skymap.findTract(radec)\n",
    "    patchInfo = tractInfo.findPatch(radec)\n",
    "    xy = geom.PointI(tractInfo.getWcs().skyToPixel(radec))\n",
    "    bbox = geom.BoxI(xy - cutoutSize // 2, cutoutSize)\n",
    "    patch = tractInfo.getSequentialPatchIndex(patchInfo)\n",
    "\n",
    "    coaddId = {'tract': tractInfo.getId(), 'patch': patch, 'band': band}\n",
    "    parameters = {'bbox': bbox}\n",
    "\n",
    "    cutout_image = butler.get(datasetType, parameters=parameters,\n",
    "                              dataId=coaddId)\n",
    "\n",
    "    return cutout_image"
   ]
  },
  {
   "cell_type": "code",
   "execution_count": null,
   "id": "7208ef02-6648-4977-a25f-7e44802afc91",
   "metadata": {},
   "outputs": [],
   "source": [
    "def cutout_calexp(butler, ra, dec, visit, detector, cutoutSideLength=51, **kwargs):\n",
    "    \n",
    "    \"\"\"\n",
    "    Produce a cutout from a calexp at the given ra, dec position.\n",
    "\n",
    "    Adapted from cutout_coadd which was adapted from a DC2 tutorial\n",
    "    notebook by Michael Wood-Vasey.\n",
    "\n",
    "    Parameters\n",
    "    ----------\n",
    "    butler: lsst.daf.persistence.Butler\n",
    "        Helper object providing access to a data repository\n",
    "    ra: float\n",
    "        Right ascension of the center of the cutout, in degrees\n",
    "    dec: float\n",
    "        Declination of the center of the cutout, in degrees\n",
    "    visit: int\n",
    "        Visit id of the calexp's visit\n",
    "    detector: int\n",
    "        Detector for the calexp\n",
    "    cutoutSideLength: float [optional]\n",
    "        Size of the cutout region in pixels.\n",
    "\n",
    "    Returns\n",
    "    -------\n",
    "    MaskedImage\n",
    "    \"\"\"\n",
    "    \n",
    "    dataId = {'visit': visit, 'detector': detector}    \n",
    "    radec = geom.SpherePoint(ra, dec, geom.degrees)\n",
    "    cutoutSize = geom.ExtentI(cutoutSideLength, cutoutSideLength)    \n",
    "    calexp_wcs = butler.get('calexp.wcs', **dataId)\n",
    "    xy = geom.PointI(calexp_wcs.skyToPixel(radec))\n",
    "    bbox = geom.BoxI(xy - cutoutSize // 2, cutoutSize)\n",
    "    parameters = {'bbox': bbox}\n",
    "    cutout_image = butler.get('calexp', parameters=parameters, **dataId)\n",
    "\n",
    "    return cutout_image"
   ]
  },
  {
   "cell_type": "code",
   "execution_count": null,
   "id": "b92643cd-11cd-46d3-a51b-aa20afa005f6",
   "metadata": {},
   "outputs": [],
   "source": [
    "def create_rgb(image, bgr=\"gri\", stretch=1, Q=10, scale=None):\n",
    "    \"\"\"\n",
    "    Create an RGB color composite image.\n",
    "\n",
    "    Parameters\n",
    "    ----------\n",
    "    image : `MultibandExposure`\n",
    "        `MultibandExposure` to display.\n",
    "    bgr : sequence\n",
    "        A 3-element sequence of filter names (i.e., keys of the exps dict)\n",
    "        indicating what band to use for each channel. If `image` only has\n",
    "        three filters then this parameter is ignored and the filters\n",
    "        in the image are used.\n",
    "    stretch: int\n",
    "        The linear stretch of the image.\n",
    "    Q: int\n",
    "        The Asinh softening parameter.\n",
    "    scale: list of 3 floats, each less than 1. (default: None)\n",
    "        Re-scales the RGB channels.\n",
    "\n",
    "    Returns\n",
    "    -------\n",
    "    rgb: ndarray\n",
    "        RGB (integer, 8-bits per channel) colour image as an NxNx3 numpy array.\n",
    "    \"\"\"\n",
    "\n",
    "    # If the image only has 3 bands, reverse the order of the bands\n",
    "    #   to produce the RGB image\n",
    "    if len(image) == 3:\n",
    "        bgr = image.filters\n",
    "\n",
    "    # Extract the primary image component of each Exposure with the\n",
    "    #   .image property, and use .array to get a NumPy array view.\n",
    "\n",
    "    if scale is None:\n",
    "        r_im = image[bgr[2]].array  # numpy array for the r channel\n",
    "        g_im = image[bgr[1]].array  # numpy array for the g channel\n",
    "        b_im = image[bgr[0]].array  # numpy array for the b channel\n",
    "    else:\n",
    "        # manually re-scaling the images here\n",
    "        r_im = image[bgr[2]].array * scale[0]\n",
    "        g_im = image[bgr[1]].array * scale[1]\n",
    "        b_im = image[bgr[0]].array * scale[2]\n",
    "\n",
    "    rgb = make_lupton_rgb(image_r=r_im,\n",
    "                          image_g=g_im,\n",
    "                          image_b=b_im,\n",
    "                          stretch=stretch, Q=Q)\n",
    "    # \"stretch\" and \"Q\" are parameters to stretch and scale the pixel values\n",
    "\n",
    "    return rgb"
   ]
  },
  {
   "cell_type": "code",
   "execution_count": null,
   "id": "6903422a-70c4-48e6-92bd-6a3719328c5f",
   "metadata": {},
   "outputs": [],
   "source": [
    "def find_neighbourg(ra0,dec0,src):\n",
    "    \"\"\" \n",
    "    \"\"\"\n",
    "    all_angles = []\n",
    "    for index, row in src.iterrows():\n",
    "        spherePointCenter = lsst.geom.SpherePoint(ra0*lsst.geom.degrees, dec0*lsst.geom.degrees)\n",
    "        spt = lsst.geom.SpherePoint(row[\"ra\"]*lsst.geom.degrees, row[\"dec\"]*lsst.geom.degrees)\n",
    "        ang = spherePointCenter.separation(spt)\n",
    "        ang_arcsec = ang.asArcseconds()\n",
    "        all_angles.append(ang_arcsec)\n",
    "    return all_angles"
   ]
  },
  {
   "cell_type": "code",
   "execution_count": null,
   "id": "b3994e00-172d-4a9c-a9f4-58d993985d8c",
   "metadata": {},
   "outputs": [],
   "source": [
    "def PlotAndFitHisto(data,std_clip,ax,nbins=50,xlabel=r'$(G-R)_1 - (G-R)_2$ :',title=\"Differential color with 2 stars\",xmin=-100.,xmax=100.):\n",
    "    #data = df_col_gr[\"ratio3\"].values\n",
    "\n",
    "    hist, bin_edges = np.histogram(data,bins=nbins,range=(xmin,xmax),density=True)\n",
    "    bin_centres = (bin_edges[:-1] + bin_edges[1:])/2\n",
    "\n",
    "    # Define model function to be used to fit to the data above:\n",
    "    def gauss(x, *p):\n",
    "        A, mu, sigma = p\n",
    "        return A*np.exp(-(x-mu)**2/(2.*sigma**2))\n",
    "\n",
    "    # p0 is the initial guess for the fitting coefficients (A, mu and sigma above)\n",
    "    p0 = [1., 0., 1.]\n",
    "\n",
    "    coeff, var_matrix = curve_fit(gauss, bin_centres, hist, p0=p0)\n",
    "\n",
    "    # Get the fitted curve\n",
    "    hist_fit = gauss(bin_centres, *coeff)\n",
    "\n",
    "    textstr = '\\n'.join((\n",
    "    xlabel,\n",
    "    r'$\\sigma_{clipped} = %.01f$ mmag' %(std_clip,),\n",
    "    r'$\\sigma_{fit} = %.01f$ mmag' %(coeff[2], )))\n",
    "\n",
    "    ax.step(bin_centres, hist,'k' ,label='data')\n",
    "    ax.plot(bin_centres, hist_fit,'r-', label='fit')\n",
    "    ax.set_xlabel(xlabel)\n",
    "    ax.legend()\n",
    "    ax.text(0.05, 0.95, textstr, transform=ax.transAxes, fontsize=16,verticalalignment='top',color=\"blue\", weight='bold',bbox=props)\n",
    "    ax.set_title(title)\n",
    "    ax.set_xlim(xmin,xmax)\n",
    "    # Finally, lets get the fitting parameters, i.e. the mean and standard deviation:\n",
    "    #print('Fitted mean = ', coeff[1])\n",
    "    #print('Fitted standard deviation = ', coeff[2])"
   ]
  },
  {
   "cell_type": "markdown",
   "id": "45ce64d8-57d2-434a-8eb9-6806ad91796d",
   "metadata": {},
   "source": [
    "## Get Pixel Scale"
   ]
  },
  {
   "cell_type": "code",
   "execution_count": null,
   "id": "4768de88-d762-4653-9172-b46d50b25e40",
   "metadata": {},
   "outputs": [],
   "source": [
    "import lsst.geom as geom\n",
    "import lsst.sphgeom\n",
    "\n",
    "skymap = butler.get('skyMap', skymap=skymapName, collections=collections )\n",
    "tractInfo = skymap.generateTract(tract)\n",
    "for patch in tractInfo:    \n",
    "    patchID = patch.getSequentialIndex()\n",
    "        \n",
    "    ibb=patch.getInnerBBox()\n",
    "    tWCS=tractInfo.getWcs()\n",
    "       \n",
    "    # loop on the 4 corners\n",
    "    for icorn,corner in enumerate(ibb.getCorners()):\n",
    "        p = geom.Point2D(corner.getX(), corner.getY())\n",
    "        coord = tWCS.pixelToSky(p)"
   ]
  },
  {
   "cell_type": "code",
   "execution_count": null,
   "id": "634358b4-e8a9-489f-b7a2-88f0a1414e95",
   "metadata": {},
   "outputs": [],
   "source": [
    "tWCS"
   ]
  },
  {
   "cell_type": "code",
   "execution_count": null,
   "id": "1ba56f4f-773a-4287-89ba-7e9559a2a1c7",
   "metadata": {},
   "outputs": [],
   "source": [
    "#arcsec/pixel\n",
    "pixel_scale = tWCS.getPixelScale().asArcseconds()"
   ]
  },
  {
   "cell_type": "markdown",
   "id": "35b5b65f-a6ca-4e98-a54c-d72cf3f5ca89",
   "metadata": {},
   "source": [
    "## Selected visits"
   ]
  },
  {
   "cell_type": "code",
   "execution_count": null,
   "id": "d9f0bdef-d228-43ed-afa3-ebc48db575c7",
   "metadata": {},
   "outputs": [],
   "source": [
    "#inputfilename = \"sources_objectTable-t3864-multibands-o912-LATISS_runs_AUXTEL_DRP_IMAGING_20230509_20240414_w_2024_15_PREOPS-5069.csv\"\n",
    "inputfilename1 = \"sources_objectTable-t3864-multibands-o617-LATISS_runs_AUXTEL_DRP_IMAGING_20230509_20240414_w_2024_15_PREOPS-5069.csv\"\n",
    "inputfilename2= \"sources_objectTable-t3864-multibands-o647-LATISS_runs_AUXTEL_DRP_IMAGING_20230509_20240414_w_2024_15_PREOPS-5069.csv\"\n",
    "df_myselectedvisits1 = pd.read_csv(inputfilename1 ,index_col=0)\n",
    "df_myselectedvisits2 = pd.read_csv(inputfilename2 ,index_col=0)\n",
    "tract = 3864\n",
    "#objectname = 547\n",
    "#objectname = 912\n",
    "objectname1 = 617\n",
    "objectname2 = 647\n",
    "path = f\"calexp_t{tract}_allband_o{objectname1}_{objectname2}\"\n",
    "title = f\"Auxtel Light Curves : tract = {tract}, objectIdx = {objectname1}, {objectname2} \"\n",
    "suptitle = inputfilename1 "
   ]
  },
  {
   "cell_type": "code",
   "execution_count": null,
   "id": "12f6aaf4-efdb-43b7-ab2f-0076078ba2c8",
   "metadata": {},
   "outputs": [],
   "source": [
    "if not os.path.exists(path):\n",
    "    os.mkdir(path)"
   ]
  },
  {
   "cell_type": "code",
   "execution_count": null,
   "id": "178b2ca6-b787-410f-8667-36a2b65e9eb6",
   "metadata": {},
   "outputs": [],
   "source": [
    "df_myselectedvisits1.sort_values(\"visit\",inplace=True)\n",
    "df_myselectedvisits2.sort_values(\"visit\",inplace=True)\n",
    "#df_myselectedvisits.sort_index(inplace=True)"
   ]
  },
  {
   "cell_type": "code",
   "execution_count": null,
   "id": "53e7e649-c9e7-408f-a4bc-9d7a1ec0ff59",
   "metadata": {},
   "outputs": [],
   "source": [
    "df_myselectedvisits1.head()"
   ]
  },
  {
   "cell_type": "code",
   "execution_count": null,
   "id": "915cd5db-8581-4e0b-bf88-73ca7960257b",
   "metadata": {},
   "outputs": [],
   "source": [
    "df_myselectedvisits2.head()"
   ]
  },
  {
   "cell_type": "code",
   "execution_count": null,
   "id": "fea5bd54-b609-4e4c-af2f-8d4163e2f880",
   "metadata": {},
   "outputs": [],
   "source": []
  },
  {
   "cell_type": "code",
   "execution_count": null,
   "id": "6d693ab6-3f6c-4826-95ac-349054ed4d72",
   "metadata": {},
   "outputs": [],
   "source": [
    "df_myselectedvisits1[\"nightObs\"] = df_myselectedvisits1.apply(lambda x: x['visit']//100_000 , axis=1)\n",
    "df_myselectedvisits1[\"Time\"] = pd.to_datetime(df_myselectedvisits1['obsStart'])\n",
    "\n",
    "df_myselectedvisits2[\"nightObs\"] = df_myselectedvisits2.apply(lambda x: x['visit']//100_000 , axis=1)\n",
    "df_myselectedvisits2[\"Time\"] = pd.to_datetime(df_myselectedvisits2['obsStart'])"
   ]
  },
  {
   "cell_type": "code",
   "execution_count": null,
   "id": "51135ed0-20b4-49c7-970e-216621677459",
   "metadata": {},
   "outputs": [],
   "source": [
    "df_myselectedvisits_g1 = df_myselectedvisits1[df_myselectedvisits1.band == \"g\"]\n",
    "df_myselectedvisits_r1 = df_myselectedvisits1[df_myselectedvisits1.band == \"r\"]\n",
    "df_myselectedvisits_z1 = df_myselectedvisits1[df_myselectedvisits1.band == \"z\"]\n",
    "df_myselectedvisits_y1 = df_myselectedvisits1[df_myselectedvisits1.band == \"y\"]\n",
    "\n",
    "df_myselectedvisits_g2 = df_myselectedvisits2[df_myselectedvisits2.band == \"g\"]\n",
    "df_myselectedvisits_r2 = df_myselectedvisits2[df_myselectedvisits2.band == \"r\"]\n",
    "df_myselectedvisits_z2 = df_myselectedvisits2[df_myselectedvisits2.band == \"z\"]\n",
    "df_myselectedvisits_y2 = df_myselectedvisits2[df_myselectedvisits2.band == \"y\"]"
   ]
  },
  {
   "cell_type": "code",
   "execution_count": null,
   "id": "dbcd08f4-81b9-421f-8c53-519f9842772d",
   "metadata": {},
   "outputs": [],
   "source": [
    "# no 2023112100507 in z\n",
    "df_myselectedvisits_y1[[\"nightObs\",\"visit\"]].head() "
   ]
  },
  {
   "cell_type": "code",
   "execution_count": null,
   "id": "6333a1a6-dae8-4d01-9107-166e89824b0f",
   "metadata": {},
   "outputs": [],
   "source": [
    "df_myselectedvisits_y2[[\"nightObs\",\"visit\"]].head() "
   ]
  },
  {
   "cell_type": "code",
   "execution_count": null,
   "id": "8d9b1ac3-3364-4517-97dc-b794dd6da4fb",
   "metadata": {},
   "outputs": [],
   "source": [
    "df_y = df_myselectedvisits_y1.merge(df_myselectedvisits_y2, left_on='visit', right_on='visit',how=\"inner\")\n",
    "df_z = df_myselectedvisits_z1.merge(df_myselectedvisits_z2, left_on='visit', right_on='visit',how=\"inner\")\n",
    "df_g = df_myselectedvisits_g1.merge(df_myselectedvisits_g2, left_on='visit', right_on='visit',how=\"inner\")\n",
    "df_r = df_myselectedvisits_r1.merge(df_myselectedvisits_r2, left_on='visit', right_on='visit',how=\"inner\")"
   ]
  },
  {
   "cell_type": "code",
   "execution_count": null,
   "id": "c7c6bc3d-50ed-430e-9edb-a0da5d0e5fcf",
   "metadata": {
    "scrolled": true
   },
   "outputs": [],
   "source": [
    "df_y.head()"
   ]
  },
  {
   "cell_type": "markdown",
   "id": "fcc56646-03c6-48a9-8fdd-8c3e10442865",
   "metadata": {},
   "source": [
    "### Distance in pixels"
   ]
  },
  {
   "cell_type": "code",
   "execution_count": null,
   "id": "ef42e6f4-caab-41c5-ba38-590d92c65ec1",
   "metadata": {},
   "outputs": [],
   "source": [
    "df_y[\"dx\"] = df_y['x_x'] - df_y['x_y']\n",
    "df_y[\"dy\"] = df_y['y_x'] - df_y['y_y']\n",
    "df_y[\"dpix\"] = np.sqrt(df_y[\"dx\"]**2 + df_y[\"dy\"]**2)"
   ]
  },
  {
   "cell_type": "code",
   "execution_count": null,
   "id": "1c082bcc-f155-45e5-83b7-1a953b1b7ecc",
   "metadata": {},
   "outputs": [],
   "source": [
    "df_y[\"dpix\"].hist(bins=50) "
   ]
  },
  {
   "cell_type": "code",
   "execution_count": null,
   "id": "af6b234f-cdc4-4a33-904e-70984145cda4",
   "metadata": {},
   "outputs": [],
   "source": [
    "df_y[\"expMidptMJD\"] = df_y[\"expMidptMJD_x\"]\n",
    "df_z[\"expMidptMJD\"] = df_z[\"expMidptMJD_x\"]\n",
    "df_g[\"expMidptMJD\"] = df_g[\"expMidptMJD_x\"]\n",
    "df_r[\"expMidptMJD\"] = df_r[\"expMidptMJD_x\"]"
   ]
  },
  {
   "cell_type": "code",
   "execution_count": null,
   "id": "11bb49b8-fb65-4f99-92b3-e45201eca380",
   "metadata": {},
   "outputs": [],
   "source": [
    "df_y[\"dpsfMag\"] = df_y[\"psfMag_x\"] -  df_y[\"psfMag_y\"]\n",
    "df_z[\"dpsfMag\"] = df_z[\"psfMag_x\"] -  df_z[\"psfMag_y\"]\n",
    "df_g[\"dpsfMag\"] = df_g[\"psfMag_x\"] -  df_g[\"psfMag_y\"]\n",
    "df_r[\"dpsfMag\"] = df_r[\"psfMag_x\"] -  df_r[\"psfMag_y\"]"
   ]
  },
  {
   "cell_type": "code",
   "execution_count": null,
   "id": "531956c1-3635-4b0e-9280-140da88fff74",
   "metadata": {},
   "outputs": [],
   "source": [
    "df_y[\"dpsfMagErr\"] = np.sqrt(df_y[\"psfMagErr_x\"]**2 +  df_y[\"psfMagErr_y\"]**2) \n",
    "df_z[\"dpsfMagErr\"] = np.sqrt(df_z[\"psfMagErr_x\"]**2 +  df_z[\"psfMagErr_y\"]**2) \n",
    "df_g[\"dpsfMagErr\"] = np.sqrt(df_g[\"psfMagErr_x\"]**2 +  df_g[\"psfMagErr_y\"]**2) \n",
    "df_r[\"dpsfMagErr\"] = np.sqrt(df_r[\"psfMagErr_x\"]**2 +  df_r[\"psfMagErr_y\"]**2) "
   ]
  },
  {
   "cell_type": "code",
   "execution_count": null,
   "id": "d6e0e792-d9fe-42d3-872d-8384c2d55409",
   "metadata": {},
   "outputs": [],
   "source": [
    "df_y[\"dapFlux_35_0_calMag\"] = df_y[\"apFlux_35_0_calMag_x\"] - df_y[\"apFlux_35_0_calMag_y\"]\n",
    "df_z[\"dapFlux_35_0_calMag\"] = df_z[\"apFlux_35_0_calMag_x\"] - df_z[\"apFlux_35_0_calMag_y\"]\n",
    "df_g[\"dapFlux_35_0_calMag\"] = df_g[\"apFlux_35_0_calMag_x\"] - df_g[\"apFlux_35_0_calMag_y\"]\n",
    "df_r[\"dapFlux_35_0_calMag\"] = df_r[\"apFlux_35_0_calMag_x\"] - df_r[\"apFlux_35_0_calMag_y\"]"
   ]
  },
  {
   "cell_type": "code",
   "execution_count": null,
   "id": "cfc67c8f-7304-4103-af5b-f5983bb07eee",
   "metadata": {},
   "outputs": [],
   "source": [
    "df_y[\"dapFlux_35_0_calMagErr\"] = np.sqrt(df_y[\"apFlux_35_0_calMagErr_x\"]**2 + df_y[\"apFlux_35_0_calMagErr_y\"]**2)\n",
    "df_z[\"dapFlux_35_0_calMagErr\"] = np.sqrt(df_z[\"apFlux_35_0_calMagErr_x\"]**2 + df_z[\"apFlux_35_0_calMagErr_y\"]**2)\n",
    "df_g[\"dapFlux_35_0_calMagErr\"] = np.sqrt(df_g[\"apFlux_35_0_calMagErr_x\"]**2 + df_g[\"apFlux_35_0_calMagErr_y\"]**2)\n",
    "df_r[\"dapFlux_35_0_calMagErr\"] = np.sqrt(df_r[\"apFlux_35_0_calMagErr_x\"]**2 + df_r[\"apFlux_35_0_calMagErr_y\"]**2)"
   ]
  },
  {
   "cell_type": "code",
   "execution_count": null,
   "id": "3f5e18ef-2e31-4d3c-9fd5-0ef40e614cfb",
   "metadata": {},
   "outputs": [],
   "source": [
    "df_y[\"d_psfMag\"] = df_y[\"dpsfMag\"] - df_y[\"dpsfMag\"].mean()\n",
    "df_z[\"d_psfMag\"] = df_z[\"dpsfMag\"] - df_z[\"dpsfMag\"].mean()\n",
    "df_g[\"d_psfMag\"] = df_g[\"dpsfMag\"] - df_g[\"dpsfMag\"].mean()\n",
    "df_r[\"d_psfMag\"] = df_r[\"dpsfMag\"] - df_r[\"dpsfMag\"].mean()"
   ]
  },
  {
   "cell_type": "code",
   "execution_count": null,
   "id": "f854581c-6a0b-4442-a16f-1c5cf1fb1791",
   "metadata": {},
   "outputs": [],
   "source": [
    "\n",
    "df_y[\"d_apFlux_35_0_calMag\"] = df_y[\"dapFlux_35_0_calMag\"] - df_y[\"dapFlux_35_0_calMag\"].mean()\n",
    "df_z[\"d_apFlux_35_0_calMag\"] = df_z[\"dapFlux_35_0_calMag\"] - df_z[\"dapFlux_35_0_calMag\"].mean()\n",
    "df_g[\"d_apFlux_35_0_calMag\"] = df_g[\"dapFlux_35_0_calMag\"] - df_g[\"dapFlux_35_0_calMag\"].mean()\n",
    "df_r[\"d_apFlux_35_0_calMag\"] = df_r[\"dapFlux_35_0_calMag\"] - df_r[\"dapFlux_35_0_calMag\"].mean()"
   ]
  },
  {
   "cell_type": "code",
   "execution_count": null,
   "id": "3f7866e0-b685-4abd-9b68-15cc21d0c001",
   "metadata": {},
   "outputs": [],
   "source": [
    "fig,(ax1,ax2,ax3,ax4) = plt.subplots(4,1,figsize=(12,10),sharex=True,sharey=True)\n",
    "title = f\"AuxtelLightCurves multi-band tract = {tract} objidx = {objectname1}-{objectname2}\"\n",
    "ax1.errorbar(df_g.expMidptMJD,df_g.d_psfMag,yerr=df_g.dpsfMagErr,fmt=\"o\",color=\"g\",label=\"band g\")\n",
    "ax1.set_title(title)\n",
    "ax2.errorbar(df_r.expMidptMJD,df_r.d_psfMag,yerr=df_r.dpsfMagErr,fmt=\"o\",color=\"r\",label=\"band r\")\n",
    "ax3.errorbar(df_z.expMidptMJD,df_z.d_psfMag,yerr=df_z.dpsfMagErr,fmt=\"o\",color=\"grey\",label=\"band z\")\n",
    "ax4.errorbar(df_y.expMidptMJD,df_y.d_psfMag,yerr=df_y.dpsfMagErr,fmt=\"o\",color=\"k\",label=\"band y\")\n",
    "#df_r.plot.scatter(x=\"expMidptMJD\",y=\"d_psfMag\",ax=ax2,s=20,c=\"zeroPoint_x\",cmap=\"jet\",label=\"band r\",grid=True,rot=45)\n",
    "#df_z.plot.scatter(x=\"expMidptMJD\",y=\"d_psfMag\",ax=ax3,s=20,c=\"zeroPoint_x\",cmap=\"jet\",label=\"band z\",grid=True,rot=45)\n",
    "#df_y.plot.scatter(x=\"expMidptMJD\",y=\"d_psfMag\",ax=ax4,s=20,c=\"zeroPoint_x\",cmap=\"jet\",label=\"band y\",grid=True,rot=45)\n",
    "#plt.setp(ax1.get_xticklabels(), visible=False)\n",
    "#plt.setp(ax2.get_xticklabels(), visible=False)\n",
    "#plt.setp(ax3.get_xticklabels(), visible=False)\n",
    "#plt.setp(ax4.get_xticklabels(), visible=True)\n",
    "#ax4.tick_params(labelbottom=True)\n",
    "ax1.set_ylim(-0.025,0.025)\n",
    "ax1.grid()\n",
    "ax2.grid()\n",
    "ax3.grid()\n",
    "ax4.grid()\n",
    "ax1.legend()\n",
    "ax2.legend()\n",
    "ax3.legend()\n",
    "ax4.legend()\n",
    "ax4.set_xlabel(\"expMidptMJD\")\n",
    "ax1.set_ylabel(\"$\\Delta \\; psfMag$ (mag)\")\n",
    "ax2.set_ylabel(\"$\\Delta \\; psfMag$ (mag)\")\n",
    "ax3.set_ylabel(\"$\\Delta \\; psfMag$ (mag)\")\n",
    "ax4.set_ylabel(\"$\\Delta \\; psfMag$ (mag)\")\n",
    "plt.suptitle(suptitle)\n",
    "plt.tight_layout()\n",
    "plt.show()"
   ]
  },
  {
   "cell_type": "code",
   "execution_count": null,
   "id": "242caf5a-66cc-4eb7-81f2-0c8093eaecf1",
   "metadata": {},
   "outputs": [],
   "source": [
    "fig,(ax1,ax2,ax3,ax4) = plt.subplots(4,1,figsize=(12,10),sharex=True,sharey=True)\n",
    "title = f\"AuxtelLightCurves multi-band tract = {tract} objidx = {objectname1}-{objectname2}\"\n",
    "df_g.plot.scatter(x=\"expMidptMJD\",y=\"d_psfMag\",ax=ax1,s=20,c=\"zeroPoint_x\",cmap=\"jet\",label=\"band g\",grid=True,rot=45)\n",
    "ax1.set_title(title)\n",
    "df_r.plot.scatter(x=\"expMidptMJD\",y=\"d_psfMag\",ax=ax2,s=20,c=\"zeroPoint_x\",cmap=\"jet\",label=\"band r\",grid=True,rot=45)\n",
    "df_z.plot.scatter(x=\"expMidptMJD\",y=\"d_psfMag\",ax=ax3,s=20,c=\"zeroPoint_x\",cmap=\"jet\",label=\"band z\",grid=True,rot=45)\n",
    "df_y.plot.scatter(x=\"expMidptMJD\",y=\"d_psfMag\",ax=ax4,s=20,c=\"zeroPoint_x\",cmap=\"jet\",label=\"band y\",grid=True,rot=45)\n",
    "#plt.setp(ax1.get_xticklabels(), visible=False)\n",
    "#plt.setp(ax2.get_xticklabels(), visible=False)\n",
    "#plt.setp(ax3.get_xticklabels(), visible=False)\n",
    "#plt.setp(ax4.get_xticklabels(), visible=True)\n",
    "ax4.tick_params(labelbottom=True)\n",
    "ax4.set_xlabel(\"expMidptMJD\")\n",
    "ax1.set_ylim(-0.025,0.025)\n",
    "plt.suptitle(suptitle)\n",
    "plt.tight_layout()\n",
    "plt.show()"
   ]
  },
  {
   "cell_type": "code",
   "execution_count": null,
   "id": "bada5874-5a50-4bea-b7e8-3b0f50ec9db9",
   "metadata": {},
   "outputs": [],
   "source": [
    "fig,(ax1,ax2,ax3,ax4) = plt.subplots(4,1,figsize=(12,10),sharex=True,sharey=True)\n",
    "title = f\"AuxtelLightCurves multi-band tract = {tract} objidx = {objectname1}-{objectname2}\"\n",
    "ax1.errorbar(df_g.expMidptMJD,df_g.d_apFlux_35_0_calMag,yerr=df_g.dapFlux_35_0_calMagErr,fmt=\"o\",color=\"g\",label=\"band g\")\n",
    "ax1.set_title(title)\n",
    "ax2.errorbar(df_r.expMidptMJD,df_r.d_apFlux_35_0_calMag,yerr=df_r.dapFlux_35_0_calMagErr,fmt=\"o\",color=\"r\",label=\"band r\")\n",
    "ax3.errorbar(df_z.expMidptMJD,df_z.d_apFlux_35_0_calMag,yerr=df_z.dapFlux_35_0_calMagErr,fmt=\"o\",color=\"grey\",label=\"band z\")\n",
    "ax4.errorbar(df_y.expMidptMJD,df_y.d_apFlux_35_0_calMag,yerr=df_y.dapFlux_35_0_calMagErr,fmt=\"o\",color=\"k\",label=\"band y\")\n",
    "#df_r.plot.scatter(x=\"expMidptMJD\",y=\"d_psfMag\",ax=ax2,s=20,c=\"zeroPoint_x\",cmap=\"jet\",label=\"band r\",grid=True,rot=45)\n",
    "#df_z.plot.scatter(x=\"expMidptMJD\",y=\"d_psfMag\",ax=ax3,s=20,c=\"zeroPoint_x\",cmap=\"jet\",label=\"band z\",grid=True,rot=45)\n",
    "#df_y.plot.scatter(x=\"expMidptMJD\",y=\"d_psfMag\",ax=ax4,s=20,c=\"zeroPoint_x\",cmap=\"jet\",label=\"band y\",grid=True,rot=45)\n",
    "#plt.setp(ax1.get_xticklabels(), visible=False)\n",
    "#plt.setp(ax2.get_xticklabels(), visible=False)\n",
    "#plt.setp(ax3.get_xticklabels(), visible=False)\n",
    "#plt.setp(ax4.get_xticklabels(), visible=True)\n",
    "#ax4.tick_params(labelbottom=True)\n",
    "ax1.set_ylim(-0.025,0.025)\n",
    "ax1.grid()\n",
    "ax2.grid()\n",
    "ax3.grid()\n",
    "ax4.grid()\n",
    "ax1.legend()\n",
    "ax2.legend()\n",
    "ax3.legend()\n",
    "ax4.legend()\n",
    "ax4.set_xlabel(\"expMidptMJD\")\n",
    "ax1.set_ylabel(\"$\\Delta \\; Ap35 Mag$ (mag)\")\n",
    "ax2.set_ylabel(\"$\\Delta \\; Ap35 Mag$ (mag)\")\n",
    "ax3.set_ylabel(\"$\\Delta \\; Ap35 Mag$ (mag)\")\n",
    "ax4.set_ylabel(\"$\\Delta \\; Ap35 Mag$ (mag)\")\n",
    "plt.suptitle(suptitle)\n",
    "plt.tight_layout()\n",
    "plt.show()"
   ]
  },
  {
   "cell_type": "code",
   "execution_count": null,
   "id": "e5f3bdc5-c66d-4d48-adb6-06b869d2a661",
   "metadata": {},
   "outputs": [],
   "source": [
    "fig,(ax1,ax2,ax3,ax4) = plt.subplots(4,1,figsize=(12,10),sharex=True,sharey=True)\n",
    "title = f\"AuxtelLightCurves multi-band tract = {tract} objidx = {objectname1}, {objectname2}\"\n",
    "df_g.plot.scatter(x=\"expMidptMJD\",y=\"d_apFlux_35_0_calMag\",ax=ax1,s=20,c=\"zeroPoint_x\",cmap=\"jet\",label=\"band g\",grid=True,rot=45)\n",
    "ax1.set_title(title)\n",
    "df_r.plot.scatter(x=\"expMidptMJD\",y=\"d_apFlux_35_0_calMag\",ax=ax2,s=20,c=\"zeroPoint_x\",cmap=\"jet\",label=\"band r\",grid=True,rot=45)\n",
    "df_z.plot.scatter(x=\"expMidptMJD\",y=\"d_apFlux_35_0_calMag\",ax=ax3,s=20,c=\"zeroPoint_x\",cmap=\"jet\",label=\"band z\",grid=True,rot=45)\n",
    "df_y.plot.scatter(x=\"expMidptMJD\",y=\"d_apFlux_35_0_calMag\",ax=ax4,s=20,c=\"zeroPoint_x\",cmap=\"jet\",label=\"band y\",grid=True,rot=45)\n",
    "#plt.setp(ax1.get_xticklabels(), visible=False)\n",
    "#plt.setp(ax2.get_xticklabels(), visible=False)\n",
    "#plt.setp(ax3.get_xticklabels(), visible=False)\n",
    "#plt.setp(ax4.get_xticklabels(), visible=True)\n",
    "ax4.tick_params(labelbottom=True)\n",
    "plt.suptitle(suptitle)\n",
    "plt.tight_layout()\n",
    "plt.show()"
   ]
  },
  {
   "cell_type": "markdown",
   "id": "5d623aec-fd52-40e1-9277-c167bd12dcd2",
   "metadata": {
    "execution": {
     "iopub.status.busy": "2024-06-18T14:50:00.191008Z",
     "iopub.status.idle": "2024-06-18T14:50:00.191164Z",
     "shell.execute_reply": "2024-06-18T14:50:00.191093Z",
     "shell.execute_reply.started": "2024-06-18T14:50:00.191087Z"
    }
   },
   "source": [
    "## Neighbouring visits"
   ]
  },
  {
   "cell_type": "code",
   "execution_count": null,
   "id": "081cd0f5-afb2-407b-b9b8-61753bcf8d8c",
   "metadata": {},
   "outputs": [],
   "source": [
    "groups_obs_size1 = df_myselectedvisits1.groupby(by=[\"nightObs\",\"band\"]).size()"
   ]
  },
  {
   "cell_type": "code",
   "execution_count": null,
   "id": "fdbc2b5f-e076-461e-a01f-948e25dbd84a",
   "metadata": {},
   "outputs": [],
   "source": [
    "groups_obs_size1"
   ]
  },
  {
   "cell_type": "code",
   "execution_count": null,
   "id": "a902109c-e77e-4fd8-abc5-a5c04d9222e9",
   "metadata": {},
   "outputs": [],
   "source": [
    "df_groups_obs_size1 = groups_obs_size1.unstack()\n",
    "df_groups_obs_size1"
   ]
  },
  {
   "cell_type": "code",
   "execution_count": null,
   "id": "ee3c6981-87e6-430a-99e9-c57ee12ee9ca",
   "metadata": {},
   "outputs": [],
   "source": [
    "#groups_obs_visit = df_myselectedvisits.groupby(by=[\"nightObs\",\"band\",\"visit\"]).mean()[\"psfMag\"]\n",
    "#groups_obs_visit "
   ]
  },
  {
   "cell_type": "code",
   "execution_count": null,
   "id": "4cd75f05-b733-43ac-8c03-7ae0c367490f",
   "metadata": {},
   "outputs": [],
   "source": [
    "groups_obs_visit1 = df_myselectedvisits1.groupby(by=[\"nightObs\",\"band\",\"visit\"]).agg(time = (\"Time\",\"mean\") ,psfMean = (\"psfMag\",\"mean\"),apFlux_50_0_instFlux = (\"apFlux_50_0_instFlux\",\"mean\"))\n",
    "groups_obs_visit1 "
   ]
  },
  {
   "cell_type": "code",
   "execution_count": null,
   "id": "ce59f64e-2a4e-4f73-96b0-01233770f1a9",
   "metadata": {},
   "outputs": [],
   "source": [
    "#groups_obs_visit.index"
   ]
  },
  {
   "cell_type": "code",
   "execution_count": null,
   "id": "0ed38e15-0521-4665-9bb6-696c56af926d",
   "metadata": {},
   "outputs": [],
   "source": [
    "#groups_obs_visit.query('\"nightObs\" == 20231121  & \"band\" == \"z\"')"
   ]
  },
  {
   "cell_type": "code",
   "execution_count": null,
   "id": "9bec3b1f-ba80-467b-b708-6e7af5975823",
   "metadata": {},
   "outputs": [],
   "source": [
    "#groups_obs_visit.loc[(20231121,'z',2023112100516)] "
   ]
  },
  {
   "cell_type": "code",
   "execution_count": null,
   "id": "952b0dc7-ce98-4b01-b9a5-6c08475d1b59",
   "metadata": {},
   "outputs": [],
   "source": [
    "groups_obs_bandg_visit1 = df_myselectedvisits_g1.groupby([\"nightObs\",\"visit\"]).agg(time = (\"Time\",\"mean\"))\n",
    "groups_obs_bandr_visit1 = df_myselectedvisits_r1.groupby([\"nightObs\",\"visit\"]).agg(time = (\"Time\",\"mean\"))\n",
    "groups_obs_bandz_visit1 = df_myselectedvisits_z1.groupby([\"nightObs\",\"visit\"]).agg(time = (\"Time\",\"mean\"))\n",
    "groups_obs_bandy_visit1 = df_myselectedvisits_y1.groupby([\"nightObs\",\"visit\"]).agg(time = (\"Time\",\"mean\"))"
   ]
  },
  {
   "cell_type": "code",
   "execution_count": null,
   "id": "aa558a4d-9da3-418a-9ed3-8db683cfc8ce",
   "metadata": {},
   "outputs": [],
   "source": [
    "groups_obs_bandg_visit2 = df_myselectedvisits_g2.groupby([\"nightObs\",\"visit\"]).agg(time = (\"Time\",\"mean\"))\n",
    "groups_obs_bandr_visit2 = df_myselectedvisits_r2.groupby([\"nightObs\",\"visit\"]).agg(time = (\"Time\",\"mean\"))\n",
    "groups_obs_bandz_visit2 = df_myselectedvisits_z2.groupby([\"nightObs\",\"visit\"]).agg(time = (\"Time\",\"mean\"))\n",
    "groups_obs_bandy_visit2 = df_myselectedvisits_y2.groupby([\"nightObs\",\"visit\"]).agg(time = (\"Time\",\"mean\"))"
   ]
  },
  {
   "cell_type": "code",
   "execution_count": null,
   "id": "68202f76-23e2-4aa8-ba7f-3b7539ac0a24",
   "metadata": {},
   "outputs": [],
   "source": [
    "groups_obs_bandz_visit1.iloc[:5]"
   ]
  },
  {
   "cell_type": "code",
   "execution_count": null,
   "id": "005deaa9-5020-4847-9df2-e95382a45e56",
   "metadata": {},
   "outputs": [],
   "source": [
    "groups_obs_bandz_visit2.iloc[:5]"
   ]
  },
  {
   "cell_type": "markdown",
   "id": "7e469adf-1133-4a5a-ac66-3baf2dd2b0ce",
   "metadata": {
    "execution": {
     "iopub.execute_input": "2024-06-08T14:17:48.416015Z",
     "iopub.status.busy": "2024-06-08T14:17:48.415706Z",
     "iopub.status.idle": "2024-06-08T14:17:49.020027Z",
     "shell.execute_reply": "2024-06-08T14:17:49.019705Z",
     "shell.execute_reply.started": "2024-06-08T14:17:48.416000Z"
    }
   },
   "source": [
    "## Process night-per night, band by band\n",
    "\n",
    "We want to associate pairs of observation in different bands:\n",
    "\n",
    "- visits in g with visits in r,z,y\n",
    "- visits in r with visits in z,y\n",
    "- visits in z with visits in y"
   ]
  },
  {
   "cell_type": "code",
   "execution_count": null,
   "id": "cfbc2b31-158e-48f5-9e59-8ab009249888",
   "metadata": {},
   "outputs": [],
   "source": [
    "def closestvisit(df1,df2):\n",
    "    \"\"\"\n",
    "    This function associate pairs of closest observation\n",
    "\n",
    "    input : the 2 dataframes (first to one for which one want to find the closest obs in dtaframe 2)\n",
    "    output : the dataframe of similar format as the first one having columns on nightobs , visit time, dt from second dataframe)\n",
    "    \"\"\"\n",
    "    d1 =df1.copy(deep=True)\n",
    "    d2 =df2.copy(deep=True)\n",
    "    all_samples = []\n",
    "    df = pd.DataFrame(index=d1.index,columns=[\"nightObs2\",\"visit2\",\"time2\",\"deltat\"])\n",
    "    for key in d1.index:\n",
    "        time1 = d1.loc[key][\"time\"]\n",
    "        d2[\"dt\"] = np.abs(d2[\"time\"]-time1)\n",
    "        d2[\"Dt\"] = d2[\"time\"]-time1\n",
    "        cut_sel = d2[\"dt\"] == d2[\"dt\"].min()\n",
    "        sample = d2[cut_sel]\n",
    "        #df.iloc[key] = [sample.index[0][0],sample.index[0][1],sample[\"time\"].values[0],sample['dt'].values[0]]\n",
    "        df.loc[key][\"nightObs2\"] = sample.index[0][0]\n",
    "        df.loc[key][\"visit2\"] = sample.index[0][1]\n",
    "        df.loc[key][\"time2\"] = sample[\"time\"].values[0]\n",
    "        df.loc[key][\"deltat\"] = pd.to_timedelta(sample[\"Dt\"].values[0], unit=\"s\").total_seconds()\n",
    "        all_samples.append(sample)\n",
    "    return df"
   ]
  },
  {
   "cell_type": "markdown",
   "id": "6505fa3f-7a20-46e2-b3c9-409c9ae42ae2",
   "metadata": {},
   "source": [
    "### process band g and r"
   ]
  },
  {
   "cell_type": "code",
   "execution_count": null,
   "id": "ab6ab1ca-f978-4cbb-9ea4-1b941924e7c6",
   "metadata": {},
   "outputs": [],
   "source": [
    "dfg_r = closestvisit(groups_obs_bandg_visit,groups_obs_bandr_visit)\n",
    "#dfg_r.drop(labels=\"deltat\", axis=1,inplace=True)\n",
    "dfg_r.columns = [\"nightObs_r\",\"visit_r\",\"time_r\",\"dtsec_r\"]"
   ]
  },
  {
   "cell_type": "code",
   "execution_count": null,
   "id": "d380d55d-5f0a-447a-94b8-0ee803dcc0ed",
   "metadata": {},
   "outputs": [],
   "source": [
    "groups_obs_bandg_visit.join(dfg_r).head()"
   ]
  },
  {
   "cell_type": "markdown",
   "id": "61e37396-a7da-4ad0-a71e-0bc7f685a135",
   "metadata": {},
   "source": [
    "### process band g and z"
   ]
  },
  {
   "cell_type": "code",
   "execution_count": null,
   "id": "7b699911-d4aa-4944-9566-31f3bf1d4a9a",
   "metadata": {},
   "outputs": [],
   "source": [
    "dfg_z = closestvisit(groups_obs_bandg_visit,groups_obs_bandz_visit)\n",
    "#dfg_z.drop(labels=\"deltat\", axis=1,inplace=True)\n",
    "dfg_z.columns = [\"nightObs_z\",\"visit_z\",\"time_z\",\"dtsec_z\"]"
   ]
  },
  {
   "cell_type": "code",
   "execution_count": null,
   "id": "07b0ff74-4dc0-4ae7-8e17-c6a840a4ce9c",
   "metadata": {},
   "outputs": [],
   "source": [
    "dfg_z.head()"
   ]
  },
  {
   "cell_type": "markdown",
   "id": "f53a4530-ebc0-47be-90a5-b230984531b8",
   "metadata": {},
   "source": [
    "### process band g and y"
   ]
  },
  {
   "cell_type": "code",
   "execution_count": null,
   "id": "83ff897d-a1a3-4d3c-b9c0-9ed353662c14",
   "metadata": {},
   "outputs": [],
   "source": [
    "dfg_y = closestvisit(groups_obs_bandg_visit,groups_obs_bandy_visit)\n",
    "#dfg_y.drop(labels=\"deltat\", axis=1,inplace=True)\n",
    "dfg_y.columns = [\"nightObs_y\",\"visit_y\",\"time_y\",\"dtsec_y\"]"
   ]
  },
  {
   "cell_type": "code",
   "execution_count": null,
   "id": "315499ad-ab65-406b-93d2-a63fe3c57eda",
   "metadata": {},
   "outputs": [],
   "source": [
    "dfg_y.head()"
   ]
  },
  {
   "cell_type": "markdown",
   "id": "96f594d0-facb-498d-8361-0c550d481ee0",
   "metadata": {},
   "source": [
    "### Concatenation g with r,z,y"
   ]
  },
  {
   "cell_type": "code",
   "execution_count": null,
   "id": "15020b19-6425-4deb-92a9-6cf9a67f5bc2",
   "metadata": {},
   "outputs": [],
   "source": [
    "dfg_rzy = pd.concat([groups_obs_bandg_visit,dfg_r,dfg_z,dfg_y],axis=1)"
   ]
  },
  {
   "cell_type": "code",
   "execution_count": null,
   "id": "abcc54cb-6791-4af8-8259-1185572a2a96",
   "metadata": {},
   "outputs": [],
   "source": [
    "dfg_rzy.head() "
   ]
  },
  {
   "cell_type": "markdown",
   "id": "4a0f5712-72a9-4eb6-a755-a76ebc28a02b",
   "metadata": {},
   "source": [
    "### process band r and z"
   ]
  },
  {
   "cell_type": "code",
   "execution_count": null,
   "id": "0a95a577-af7c-49f5-a02c-490b565258e7",
   "metadata": {},
   "outputs": [],
   "source": [
    "dfr_z = closestvisit(groups_obs_bandr_visit,groups_obs_bandz_visit)\n",
    "#dfr_z.drop(labels=\"deltat\", axis=1,inplace=True)\n",
    "dfr_z.columns = [\"nightObs_z\",\"visit_z\",\"time_z\",\"dtsec_z\"]"
   ]
  },
  {
   "cell_type": "code",
   "execution_count": null,
   "id": "c4eaac47-3b32-43c2-a863-0ea350db49a1",
   "metadata": {},
   "outputs": [],
   "source": [
    "dfr_z"
   ]
  },
  {
   "cell_type": "markdown",
   "id": "d2080d60-f375-410f-81ff-de7a4f58633d",
   "metadata": {},
   "source": [
    "### process band r and y"
   ]
  },
  {
   "cell_type": "code",
   "execution_count": null,
   "id": "1ea08129-ec88-4fb4-b54c-bae79115ae73",
   "metadata": {},
   "outputs": [],
   "source": [
    "dfr_y = closestvisit(groups_obs_bandr_visit,groups_obs_bandy_visit)\n",
    "#dfr_y.drop(labels=\"deltat\", axis=1,inplace=True)\n",
    "dfr_y.columns = [\"nightObs_y\",\"visit_y\",\"time_y\",\"dtsec_y\"]"
   ]
  },
  {
   "cell_type": "code",
   "execution_count": null,
   "id": "eb2966c2-2d33-48f6-ac67-f353ba050078",
   "metadata": {},
   "outputs": [],
   "source": [
    "dfr_y"
   ]
  },
  {
   "cell_type": "markdown",
   "id": "6786ae1a-19a4-4f0d-a5b4-b5d9fab2d987",
   "metadata": {},
   "source": [
    "### Concatenation of r with z,y"
   ]
  },
  {
   "cell_type": "code",
   "execution_count": null,
   "id": "5d4ca1c5-9199-45d8-bc61-6b0f8069973b",
   "metadata": {},
   "outputs": [],
   "source": [
    "dfr_zy = pd.concat([groups_obs_bandr_visit,dfr_z,dfr_y],axis=1)"
   ]
  },
  {
   "cell_type": "code",
   "execution_count": null,
   "id": "5db6cbb8-2a5a-47fe-822e-609a3153db94",
   "metadata": {},
   "outputs": [],
   "source": [
    "dfr_zy.head()"
   ]
  },
  {
   "cell_type": "markdown",
   "id": "0f5876b8-a23b-4c3a-8893-40fb9833fe85",
   "metadata": {},
   "source": [
    "### process band z and y"
   ]
  },
  {
   "cell_type": "code",
   "execution_count": null,
   "id": "aefcd09f-d838-41c2-bbea-b2e039982899",
   "metadata": {},
   "outputs": [],
   "source": [
    "dfz_y = closestvisit(groups_obs_bandz_visit,groups_obs_bandy_visit)\n",
    "#dfz_y.drop(labels=\"deltat\", axis=1,inplace=True)\n",
    "dfz_y.columns = [\"nightObs_y\",\"visit_y\",\"time_y\",\"dtsec_y\"]"
   ]
  },
  {
   "cell_type": "code",
   "execution_count": null,
   "id": "f7e613b3-d9cf-42e7-8424-e482512c2fb7",
   "metadata": {},
   "outputs": [],
   "source": [
    "dfz_y"
   ]
  },
  {
   "cell_type": "markdown",
   "id": "502036eb-f484-4f7c-ae38-567d841c76dc",
   "metadata": {},
   "source": [
    "### Concatenate z with y"
   ]
  },
  {
   "cell_type": "code",
   "execution_count": null,
   "id": "f899d996-733f-4aea-a707-942ce8e4c7e0",
   "metadata": {},
   "outputs": [],
   "source": [
    "dfz_y = pd.concat([groups_obs_bandz_visit,dfz_y],axis=1)"
   ]
  },
  {
   "cell_type": "code",
   "execution_count": null,
   "id": "e540e6d2-21ea-4ef4-b25d-2b2ac56533ef",
   "metadata": {},
   "outputs": [],
   "source": [
    "dfz_y"
   ]
  },
  {
   "cell_type": "markdown",
   "id": "c9aade7e-394e-4241-b8d6-a0ace29b06fa",
   "metadata": {},
   "source": [
    "## Fetch a pair of  stars"
   ]
  },
  {
   "cell_type": "code",
   "execution_count": null,
   "id": "ba4b4ee1-b58f-4059-b105-9c65453b119a",
   "metadata": {},
   "outputs": [],
   "source": [
    "def getcutoutandimage(visitId,df_selectedvisits,objectname=912):\n",
    "    \"\"\"\n",
    "    visitId : the calexp where are the two stars\n",
    "    df_selectedvisits : the list of all sources and visit of the main targeted star\n",
    "    \"\"\"\n",
    "    if objectname == 912:\n",
    "        boxSize = 500\n",
    "    else:\n",
    "        boxSize = 300\n",
    "\n",
    "    row_source = df_selectedvisits[df_selectedvisits.visit == visitId].iloc[0]  \n",
    "    band = row_source['band']\n",
    "\n",
    "    dataId = {'visit': visitId, 'instrument':instrument , 'detector': 0}\n",
    "    calexp = butler.get('calexp', **dataId,collections=collections)   \n",
    "    src_cat = butler.get('sourceTable',**dataId, collections=collections)\n",
    "\n",
    "    #select on star\n",
    "    src_cat = src_cat[(src_cat[\"extendedness\"]==0) & (src_cat[\"parentSourceId\"] == 0) ]\n",
    "    #src_cat = src_cat[src_cat[\"extendedness\"]==0 ]\n",
    "\n",
    "    #select on magnitude : search bright stars\n",
    "    src_cat[\"psfMag\"] = src_cat[\"psfFlux\"].apply(convert_fluxtomag)\n",
    "    if objectname == 545:\n",
    "        src_cat = src_cat[src_cat[\"psfMag\"]<16]\n",
    "    elif objectname == 912 and band == 'y':\n",
    "        src_cat = src_cat[src_cat[\"psfMag\"]<15]\n",
    "    elif objectname == 912 and band == 'g':\n",
    "        src_cat = src_cat[src_cat[\"psfMag\"]<16]\n",
    "    elif objectname == 912 and band == 'z':\n",
    "        src_cat = src_cat[src_cat[\"psfMag\"]<16]\n",
    "    elif objectname == 912 and band == 'r':\n",
    "        src_cat = src_cat[src_cat[\"psfMag\"]<16]\n",
    "\n",
    " \n",
    "    x_target = row_source['x']\n",
    "    y_target = row_source['y']\n",
    "    ra_target= row_source['ra']\n",
    "    dec_target= row_source['dec']\n",
    "    psfMag  = row_source['psfMag']  \n",
    "    psfSigma = row_source['psfSigma']\n",
    "    psfMagDiffMmag = row_source['psfMagDiffMmag'] \n",
    "    apFlux_50_0_instFlux = row_source['apFlux_50_0_instFlux']\n",
    "    apFlux_50_0_instFluxErr = row_source['apFlux_50_0_instFluxErr']\n",
    "\n",
    "\n",
    "    # searcch the neighbouring stars\n",
    "    separation = find_neighbourg(ra_target,dec_target,src_cat)\n",
    "    src_cat[\"sep\"] = separation\n",
    "\n",
    "    #select the source from separation\n",
    "    if objectname == 547:\n",
    "        cut_sep = ((src_cat[\"sep\"] > 25) & (src_cat[\"sep\"] < 27)) | (src_cat[\"sep\"] < 1)\n",
    "        #cut_sep = ( (src_cat[\"sep\"] < 27)) | (src_cat[\"sep\"] < 1)\n",
    "    elif objectname == 912:\n",
    "        cut_sep = (src_cat[\"sep\"] < 46)\n",
    "    src_cat = src_cat[cut_sep]\n",
    "    src_cat[\"psfSigma\"] = psfSigma\n",
    "    \n",
    "    neighbourgs = src_cat.sort_values(by=\"sep\").iloc[:5]\n",
    "    #print(f\"(target :: {x_target:.2f},{y_target:.2f}) , psfMag = {psfMag:.2f} mag, apFlux_50_0_instFlux={apFlux_50_0_instFlux:.0f} ADU\" )\n",
    "    #print(neighbourgs[[\"x\",\"y\",\"sep\",\"psfMag\",\"apFlux_50_0_instFlux\",\"ra\",\"dec\",\"deblend_skipped\"]])\n",
    "\n",
    "    flag_deblend_skipped = neighbourgs.iloc[0][\"deblend_skipped\"]\n",
    "\n",
    "    xSrc = x_target\n",
    "    ySrc = y_target\n",
    "    \n",
    "    minBbox = geom.Point2I(int(xSrc) - boxSize ,int(ySrc) - boxSize)\n",
    "    maxBbox = geom.Point2I(int(xSrc) + boxSize, int(ySrc) + boxSize)\n",
    "    srcBbox = geom.Box2I(minBbox, maxBbox)\n",
    "    # Make the cutout\n",
    "    try:\n",
    "        subimg = afwImage.ExposureF(calexp, srcBbox, afwImage.PARENT, True)\n",
    "        #subimg2 = calexp.getImage().array[int(ySrc) - boxSize: int(ySrc) + boxSize+1, int(xSrc) - boxSize:int(xSrc) + boxSize+1 ]\n",
    "        #subimgRgb = afwRgb.makeRGB(subimg.image.array, None, None, expMin, expMax - expMin, Q)\n",
    "        #all_cutout.append(subimgRgb)\n",
    "        cutout=subimg.image.array\n",
    "        \n",
    "    except Exception as inst:\n",
    "        print(type(inst))    # the exception type\n",
    "        print(inst.args)     # arguments stored in .args\n",
    "        print(inst)     \n",
    "        cutout = None\n",
    "        \n",
    "    return neighbourgs,cutout\n",
    "\n"
   ]
  },
  {
   "cell_type": "code",
   "execution_count": null,
   "id": "2e5f297f-0060-4721-9ba8-59efc988af3f",
   "metadata": {},
   "outputs": [],
   "source": [
    "def plotfullcalexp(df_pair,ax=None):\n",
    "    \"\"\"\n",
    "    \"\"\"\n",
    "    flag_ax = False\n",
    "    \n",
    "    if ax is None:\n",
    "        fig, ax = plt.subplots(1,1,figsize=(8,8))\n",
    "    else:\n",
    "        flag_ax = True\n",
    "\n",
    "    band = 0\n",
    "    ra = 0\n",
    "    dec = 0\n",
    "    \n",
    "    if len(df_pair)>0:\n",
    "        visitId = df_pair[\"visit\"].iloc[0]\n",
    "        band = df_pair[\"band\"].iloc[0]\n",
    "        psfMag1 = df_pair[\"psfMag\"].iloc[0]\n",
    "        psfSigma = df_pair[\"psfSigma\"].iloc[0]\n",
    "        x1 = df_pair[\"x\"].iloc[0]\n",
    "        y1 = df_pair[\"y\"].iloc[0]\n",
    "        ra1 = df_pair['ra'].iloc[0]\n",
    "        dec1 = df_pair['dec'].iloc[0]\n",
    "        flag_deblend_skipped = df_pair['deblend_skipped'].iloc[0]\n",
    "        ann1 = Annulus((x1,y1),r=5*psfSigma,width=0.1,color=\"r\")\n",
    "        ax.add_patch(ann1)\n",
    "\n",
    "    if len(df_pair)>1:\n",
    "        psfMag2 = df_pair[\"psfMag\"].iloc[1]\n",
    "        x2 = df_pair[\"x\"].iloc[1]\n",
    "        y2 = df_pair[\"y\"].iloc[1]\n",
    "        ra2 = df_pair['ra'].iloc[1]\n",
    "        dec2 = df_pair['dec'].iloc[1]\n",
    "        ann2 = Annulus((x2,y2),r=5*psfSigma,width=0.1,color=\"orange\")\n",
    "        ax.add_patch(ann2)\n",
    "\n",
    "    dataId = {'visit': visitId, 'instrument':instrument , 'detector': 0}\n",
    "    calexp = butler.get('calexp', **dataId,collections=collections)\n",
    "    imgarr = calexp.image.array \n",
    "    shape =  imgarr.shape\n",
    "   \n",
    "    z = ZScaleInterval()\n",
    "    z1,z2 = z.get_limits(imgarr)\n",
    "    im = ax.imshow(imgarr,cmap=\"grey\",vmin=z1, vmax=z2)\n",
    "    divider = make_axes_locatable(ax)\n",
    "    cax = divider.append_axes(\"right\", size=\"5%\", pad=\"1%\")\n",
    "    # useless with zscale\n",
    "    plt.colorbar(im, cax=cax)\n",
    "\n",
    "    \n",
    "    title = f\"calexp {visitId}, objidx:{objectname}, band :{band}\"\n",
    "    ax.set_title(title)\n",
    "\n",
    "    textstr = '\\n'.join((\n",
    "    r'$exposure = %.0f$' % (visitId, ),\n",
    "    r'$psfMag1 = %.02f mag$' %(psfMag1, ), \n",
    "    r'$psfMag2 = %.02f mag$' %(psfMag2, ),  \n",
    "    r'$ra_1 = %f deg $' %(ra1,),\n",
    "    r'$ra_2 = %f deg $' %(ra2,),  \n",
    "    r'$dec_1 = %f deg $' %(dec1,),\n",
    "    r'$dec_2 = %f deg $' %(dec2,)))  \n",
    "  \n",
    "\n",
    "    ax.text(0.05, 0.95, textstr, transform=ax.transAxes, fontsize=16,verticalalignment='top',color=\"y\", weight='bold',bbox=props) \n",
    "    #if flag_deblend_skipped:\n",
    "    #    ax.text(0.05, 0.95, textstr, transform=ax.transAxes, fontsize=16,verticalalignment='top',color=\"r\", weight='bold',bbox=props) \n",
    "    #else:\n",
    "    #    ax.text(0.05, 0.95, textstr, transform=ax.transAxes, fontsize=16,verticalalignment='top',color=\"g\", weight='bold',bbox=props) \n",
    "\n",
    "    if not flag_ax:\n",
    "        plt.show()   "
   ]
  },
  {
   "cell_type": "code",
   "execution_count": null,
   "id": "b012bcb8-f76f-464a-a48d-eec544cac3d1",
   "metadata": {},
   "outputs": [],
   "source": [
    "def plotcutout(df_pair,cutout,ax=None):\n",
    "    \"\"\"\n",
    "    \"\"\"\n",
    "    flag_ax = False\n",
    "    \n",
    "    if ax is None:\n",
    "        fig, ax = plt.subplots(1,1,figsize=(5,5))\n",
    "    else:\n",
    "        flag_ax = True\n",
    "\n",
    "    if cutout is None:\n",
    "        print(\"No Cutout\")\n",
    "        return\n",
    "\n",
    "    boxSize= cutout.shape[0]//2\n",
    "    extent = [ -cutout.shape[1]//2, cutout.shape[1]//2, -cutout.shape[0]//2, cutout.shape[0]//2]\n",
    "    \n",
    "    z = ZScaleInterval()\n",
    "    z1,z2 = z.get_limits(cutout)\n",
    "    im = ax.imshow(cutout,cmap=\"grey\",vmin=z1, vmax=z2,extent = extent)\n",
    "    #divider = make_axes_locatable(ax)\n",
    "    #cax = divider.append_axes(\"right\", size=\"5%\", pad=\"1%\")\n",
    "    # useless with zscale\n",
    "    #plt.colorbar(im, cax=cax)\n",
    "\n",
    "  \n",
    "\n",
    "    band = 0\n",
    "    ra = 0\n",
    "    dec = 0\n",
    "    \n",
    "    if len(df_pair)>0:\n",
    "        visitId = df_pair[\"visit\"].iloc[0]\n",
    "        band = df_pair[\"band\"].iloc[0]\n",
    "        psfMag1 = df_pair[\"psfMag\"].iloc[0]\n",
    "        psfSigma = df_pair[\"psfSigma\"].iloc[0]\n",
    "        x1 = df_pair[\"x\"].iloc[0]\n",
    "        y1 = df_pair[\"y\"].iloc[0]\n",
    "        ra = df_pair['ra'].iloc[0]\n",
    "        dec = df_pair['dec'].iloc[0]\n",
    "        flag_deblend_skipped = df_pair['deblend_skipped'].iloc[0]\n",
    "        ann1 = Annulus((0,0),r=5*psfSigma,width=0.1,color=\"r\")\n",
    "        ax.add_patch(ann1)\n",
    "\n",
    "    if len(df_pair)>1:\n",
    "        psfMag2 = df_pair[\"psfMag\"].iloc[1]\n",
    "        x2 = df_pair[\"x\"].iloc[1]\n",
    "        y2 = df_pair[\"y\"].iloc[1]\n",
    "        dx2 = x2-x1\n",
    "        # origin in top left corner instead if lower lesft corner\n",
    "        dy2 = -(y2-y1)\n",
    "        #dx2 =   x2 -  x1 + boxSize\n",
    "        #dy2 =   y2 -  y1 + boxSize\n",
    "        ann2 = Annulus((dx2,dy2),r=5*psfSigma,width=0.1,color=\"orange\")\n",
    "        ax.add_patch(ann2)\n",
    "    \n",
    "    title = f\"obj:{objectname}, b:{band}, (ra:{ra:.2f}, dec:{dec:.2f})\"\n",
    "    ax.set_title(title)\n",
    "\n",
    "    textstr = '\\n'.join((\n",
    "    r'$expos = %.0f$' % (visitId, ),\n",
    "    r'$psfMag1 = %.02f mag$' %(psfMag1, ), \n",
    "    r'$psfMag2 = %.02f mag$' %(psfMag2, ),  \n",
    "    r'$\\sigma_{PSF} = %.2f pix$' % (psfSigma , ),\n",
    "    r'$deb\\_skip = %.0f $' % (flag_deblend_skipped  , )))\n",
    "\n",
    "   \n",
    " \n",
    "\n",
    "    if flag_deblend_skipped:\n",
    "        ax.text(0.05, 0.95, textstr, transform=ax.transAxes, fontsize=16,verticalalignment='top',color=\"orange\", weight='bold',bbox=props) \n",
    "    else:\n",
    "        ax.text(0.05, 0.95, textstr, transform=ax.transAxes, fontsize=16,verticalalignment='top',color=\"yellow\", weight='bold',bbox=props) \n",
    "\n",
    "    \n",
    "    if not flag_ax:\n",
    "        plt.show()   "
   ]
  },
  {
   "cell_type": "code",
   "execution_count": null,
   "id": "1072e84a-db9d-426f-ab4d-4f7a9b56d0a7",
   "metadata": {},
   "outputs": [],
   "source": [
    "df_pair_g,cutout_g = getcutoutandimage(2023111500494,df_myselectedvisits_g)\n",
    "df_pair_g[\"psfMag\"] = df_pair_g[\"psfFlux\"].apply(convert_fluxtomag)"
   ]
  },
  {
   "cell_type": "code",
   "execution_count": null,
   "id": "7e237d71-43cf-472e-aeb5-8f7dd7f092e7",
   "metadata": {},
   "outputs": [],
   "source": [
    "df_pair_y,cutout_y = getcutoutandimage(2023112100509,df_myselectedvisits_y)\n",
    "df_pair_y[\"psfMag\"] = df_pair_y[\"psfFlux\"].apply(convert_fluxtomag)"
   ]
  },
  {
   "cell_type": "code",
   "execution_count": null,
   "id": "80389e53-cf46-492a-a34b-e2e0f4de89b5",
   "metadata": {},
   "outputs": [],
   "source": [
    "NROWS = 1\n",
    "NCOLS = 2\n",
    "fig, (ax1,ax2) = plt.subplots(ncols=NCOLS,nrows=NROWS,figsize=(6*NCOLS,6*NROWS))\n",
    "\n",
    "plotcutout(df_pair_g,cutout_g,ax=ax1)\n",
    "plotcutout(df_pair_y,cutout_y,ax=ax2)\n",
    "plt.show()"
   ]
  },
  {
   "cell_type": "code",
   "execution_count": null,
   "id": "02e393a1-7732-4b4f-8b81-fe25931a7308",
   "metadata": {},
   "outputs": [],
   "source": [
    "df_pair_g[[\"ra\",\"dec\"]]"
   ]
  },
  {
   "cell_type": "code",
   "execution_count": null,
   "id": "e13d7f9c-dc50-4381-a412-22a8aaca5ea5",
   "metadata": {},
   "outputs": [],
   "source": [
    "df_pair_g[[\"ra\",\"dec\"]].to_html()"
   ]
  },
  {
   "cell_type": "code",
   "execution_count": null,
   "id": "24f63dfc-209a-4876-aaa3-dd01b04c6294",
   "metadata": {},
   "outputs": [],
   "source": [
    "plotfullcalexp(df_pair_g)"
   ]
  },
  {
   "cell_type": "markdown",
   "id": "63ce58db-8764-44c5-94d4-f9010a8b231e",
   "metadata": {},
   "source": [
    "## Differential colors study (star 1 - star 2)"
   ]
  },
  {
   "cell_type": "markdown",
   "id": "a5fa74a5-870b-432d-935c-d62d9923799a",
   "metadata": {},
   "source": [
    "### Build color ratio in G and R band"
   ]
  },
  {
   "cell_type": "markdown",
   "id": "a354ee52-7aa5-46d2-85ce-4a91c30f1603",
   "metadata": {},
   "source": [
    "### G and R band colors"
   ]
  },
  {
   "cell_type": "code",
   "execution_count": null,
   "id": "ca68f5de-ee71-4ac4-9a4e-88bd2c211034",
   "metadata": {},
   "outputs": [],
   "source": [
    "dfg_r = dfg_rzy[[\"time\",\"nightObs_r\",\"visit_r\",\"time_r\",\"dtsec_r\"]] \n",
    "dfg_r.head()"
   ]
  },
  {
   "cell_type": "markdown",
   "id": "3bad50be-2f71-4097-b842-5e07913b9d9c",
   "metadata": {},
   "source": [
    "#### Select pairs in g,r within 1 minute"
   ]
  },
  {
   "cell_type": "code",
   "execution_count": null,
   "id": "3cb555e9-00b5-46fa-970a-affc38d2626b",
   "metadata": {},
   "outputs": [],
   "source": [
    "dfg_r_sel = dfg_r[np.abs(dfg_r[\"dtsec_r\"])<60]\n",
    "dfg_r_sel.head() "
   ]
  },
  {
   "cell_type": "code",
   "execution_count": null,
   "id": "3ad6a7b7-e140-420d-a046-ad388a9ae965",
   "metadata": {},
   "outputs": [],
   "source": [
    "df_myselectedvisits_g .head()"
   ]
  },
  {
   "cell_type": "markdown",
   "id": "2a384a7e-36b3-481f-b97f-9738d6b4d2f6",
   "metadata": {},
   "source": [
    "# Loop over band pairs exposures neraby in time to calculate colors and relative colors of two stars "
   ]
  },
  {
   "cell_type": "code",
   "execution_count": null,
   "id": "d17cc209-691c-4965-91e8-928eb61488d3",
   "metadata": {},
   "outputs": [],
   "source": [
    "def GetFluxes2StarsTwoBands(band1,band2,dfb1_b2,df_selectedvisits_b1,df_selectedvisits_b2):\n",
    "    \"\"\"\n",
    "    \"\"\"\n",
    "    df_col_b1b2 = pd.DataFrame(columns = [\"band1\",\"exposure1\",\"time1\",\"psfMag11\",\"psfMag12\",\"band2\",\"exposure2\",\"time2\",\"psfMag21\",\"psfMag22\",\"dt\"])\n",
    "    entrycount = 0\n",
    "    for idx,key in enumerate(dfb1_b2.index):\n",
    "        print(idx,key)\n",
    "        visit1 = key[1]\n",
    "        visit2 = dfb1_b2.loc[key][\"visit_\" + band2]\n",
    "        time1 = dfb1_b2.loc[key][\"time\"]\n",
    "        time2 = dfb1_b2.loc[key][\"time_\" + band2]\n",
    "        dt = dfb1_b2.loc[key][\"dtsec_\" + band2]\n",
    "        print(f\"======================= night :: {key[0]} ==> ({band1},{band2}) = ({visit1},{visit2}) =============================\" )\n",
    "        row_target = df_selectedvisits_b1[df_selectedvisits_b1.visit == visit1].iloc[0]\n",
    "        #print(row_target)\n",
    "        # the selected sources retrieved from the sources associated to that calexp\n",
    "        df_pair_b1,cutoutb1 = getcutoutandimage(visit1,df_selectedvisits_b1,objectname=912) \n",
    "        df_pair_b2,cutoutb2 = getcutoutandimage(visit2,df_selectedvisits_b2,objectname=912) \n",
    "        # compute magnitudes on psfFlux\n",
    "        df_pair_b1[\"psfMag\"] = df_pair_b1[\"psfFlux\"].apply(convert_fluxtomag)\n",
    "        df_pair_b2[\"psfMag\"] = df_pair_b2[\"psfFlux\"].apply(convert_fluxtomag)\n",
    "\n",
    "\n",
    "        if ( (len(df_pair_b1) == 2) and (len(df_pair_b2) == 2)):\n",
    "            try:\n",
    "                psfMag11 =  df_pair_b1[\"psfMag\"].iloc[0]\n",
    "                psfMag12 =  df_pair_b1[\"psfMag\"].iloc[1]\n",
    "                psfMag21 =  df_pair_b2[\"psfMag\"].iloc[0]\n",
    "                psfMag22 =  df_pair_b2[\"psfMag\"].iloc[1]\n",
    "                df_col_b1b2.loc[entrycount] = [band1,visit1,time1,psfMag11,psfMag12,band2,visit2,time2,psfMag21,psfMag22,dt]\n",
    "                entrycount+=1\n",
    "            except Exception as inst:\n",
    "                print(type(inst))    # the exception type\n",
    "                print(inst.args)     # arguments stored in .args\n",
    "                print(inst)\n",
    "                continue\n",
    "        else:\n",
    "            print(\">>> Bad size in df_pairs :: \")\n",
    "            print(\"dataframes size : \",len(df_pair_b1),len(df_pair_b2))\n",
    "            print(df_pair_b1.iloc[:,0:4])\n",
    "            print(df_pair_b2.iloc[:,0:4])\n",
    "            continue\n",
    "\n",
    "        if idx%10 == 0:\n",
    "            if cutoutb1 is not None and cutoutb2 is not None:\n",
    "                NROWS = 1\n",
    "                NCOLS = 2\n",
    "                fig, (ax1,ax2) = plt.subplots(ncols=NCOLS,nrows=NROWS,figsize=(6*NCOLS,6*NROWS))\n",
    "                plotcutout(df_pair_b1,cutoutb1,ax=ax1)\n",
    "                plotcutout(df_pair_b2,cutoutb2,ax=ax2)\n",
    "                plt.show()\n",
    "\n",
    "    return df_col_b1b2\n"
   ]
  },
  {
   "cell_type": "code",
   "execution_count": null,
   "id": "b3e28e7d-6398-44f2-bd86-72eb62b3f2c9",
   "metadata": {},
   "outputs": [],
   "source": [
    "df_col_gr = GetFluxes2StarsTwoBands(\"g\",\"r\",dfg_r_sel,df_myselectedvisits_g,df_myselectedvisits_r)"
   ]
  },
  {
   "cell_type": "code",
   "execution_count": null,
   "id": "e28f2ff0-dcd9-49e9-8833-b0c2d3b82099",
   "metadata": {},
   "outputs": [],
   "source": [
    "df_col_gr.head()"
   ]
  },
  {
   "cell_type": "code",
   "execution_count": null,
   "id": "3663f0f9-b428-4694-b76d-a239fb9476ac",
   "metadata": {},
   "outputs": [],
   "source": [
    "df_col_gr[\"ratio1\"] = (df_col_gr[\"psfMag11\"] - df_col_gr[\"psfMag12\"])*1000\n",
    "df_col_gr[\"ratio2\"] = (df_col_gr[\"psfMag11\"] -  df_col_gr[\"psfMag21\"])*1000\n",
    "df_col_gr[\"ratio3\"] = (df_col_gr[\"psfMag11\"] - df_col_gr[\"psfMag12\"]) -  (df_col_gr[\"psfMag21\"] - df_col_gr[\"psfMag22\"])*1000\n",
    "df_col_gr[\"g1-r1\"] = (df_col_gr[\"psfMag11\"] -  df_col_gr[\"psfMag21\"])\n",
    "df_col_gr[\"g2-r2\"] = (df_col_gr[\"psfMag12\"] -  df_col_gr[\"psfMag22\"])"
   ]
  },
  {
   "cell_type": "code",
   "execution_count": null,
   "id": "f7c64e15-8a5c-4947-895c-50794d72d5cf",
   "metadata": {},
   "outputs": [],
   "source": [
    "clippedMeanMagArray = scipy.stats.sigmaclip(df_col_gr[\"ratio1\"].values, low=3.0, high=3.0).clipped\n",
    "clippedMeanMag = np.mean(clippedMeanMagArray)\n",
    "df_col_gr[\"ratio1\"] = df_col_gr[\"ratio1\"] - clippedMeanMag \n",
    "clippedStd1 = np.std(clippedMeanMagArray-clippedMeanMag )\n",
    "clippedMeanMagArray = scipy.stats.sigmaclip(df_col_gr[\"ratio2\"].values, low=3.0, high=3.0).clipped\n",
    "clippedMeanMag = np.mean(clippedMeanMagArray)\n",
    "df_col_gr[\"ratio2\"] = df_col_gr[\"ratio2\"] - clippedMeanMag \n",
    "clippedStd2 = np.std(clippedMeanMagArray-clippedMeanMag )\n",
    "clippedMeanMagArray = scipy.stats.sigmaclip(df_col_gr[\"ratio3\"].values, low=3.0, high=3.0).clipped\n",
    "clippedMeanMag = np.mean(clippedMeanMagArray)\n",
    "df_col_gr[\"ratio3\"] = df_col_gr[\"ratio3\"] - clippedMeanMag \n",
    "clippedStd3 = np.std(clippedMeanMagArray-clippedMeanMag )"
   ]
  },
  {
   "cell_type": "code",
   "execution_count": null,
   "id": "5eccde84-7780-4618-a849-1880cb783964",
   "metadata": {},
   "outputs": [],
   "source": [
    "textstr = '\\n'.join((\n",
    "r'$\\sigma_{clipped}((G_1 - G_2)  = %.1f mmag $' %(clippedStd1, ),\n",
    "r'$\\sigma_{clipped}((G-R)_1)  = %.01f mmag$' %(clippedStd2, ),\n",
    "r'$\\sigma_{clipped}((G-R)_1 - (G-R)_2) = %.01f mmag$' %(clippedStd3, )))"
   ]
  },
  {
   "cell_type": "code",
   "execution_count": null,
   "id": "8622c439-6c51-4d0d-a7b4-abce89e7c15c",
   "metadata": {},
   "outputs": [],
   "source": [
    "from matplotlib.dates import DateFormatter\n",
    "date_form = DateFormatter(\"%y-%m-%dT%H:%M\")\n",
    "fig,axs = plt.subplots(1,1,figsize=(14,6))\n",
    "ax1  = axs\n",
    "df_col_gr.plot(x=\"time1\",y=\"ratio1\",ax=ax1,marker='o',c=\"r\",lw=0.0,grid=True,label=\"1) $G_1 - G_2\\;\\; \\sigma_{clip}=$\"+f\"{clippedStd1:.1f} mmag\")\n",
    "df_col_gr.plot(x=\"time1\",y=\"ratio2\",ax=ax1,marker='o',c=\"g\",lw=0.0,grid=True,label=\"2) $(G-R)_1 \\; \\;\\sigma_{clip}= $\"+f\"{clippedStd2:.1f} mmag\" )\n",
    "df_col_gr.plot(x=\"time1\",y=\"ratio3\",ax=ax1,marker='o',c=\"b\",lw=0.0,grid=True,label=\"3) $(G-R)_1-(G-R)_2 \\;\\;\\sigma_{clip}= $\"+f\"{clippedStd3:.1f} mmag\")\n",
    "ax1.set_ylabel(\"dispersion in mmag\")\n",
    "ax1.set_xlabel(\"time\")\n",
    "ax1.xaxis.set_major_formatter(date_form)\n",
    "ax1.axhline(color=\"k\")\n",
    "ax1.set_title(\"relative color dispersion: $1)G_1-G_2, \\;\\;2) (G-R)_1, \\;\\;3) (G-R)_1 - (G-R)_2$\")\n",
    "#ax1.set_ylabel(\"$(G-R)_1 - (G-R)_2$ mmag\")\n",
    "#ax1.text(0.05, 0.95, textstr, transform=ax1.transAxes, fontsize=16,verticalalignment='top',color=\"red\", weight='bold',bbox=props)\n",
    "ax1.set_ylim(-100.,100)"
   ]
  },
  {
   "cell_type": "code",
   "execution_count": null,
   "id": "358ace91-9455-433e-95d7-1a4a2da03002",
   "metadata": {},
   "outputs": [],
   "source": [
    "fig,axs = plt.subplots(1,3,figsize=(15,5))\n",
    "ax1,ax2,ax3  = axs\n",
    "\n",
    "data = df_col_gr[\"ratio1\"].values\n",
    "PlotAndFitHisto(data,clippedStd1,ax=ax1,nbins=60,xlabel=r'$G_1 - G_2$ mmag',title=\"Differ mag  G1-G2 with 2 stars\")\n",
    "\n",
    "data = df_col_gr[\"ratio2\"].values\n",
    "PlotAndFitHisto(data,clippedStd2,ax=ax2,nbins=60,xlabel=r'$(G-R)_1$ mmag',title=\"Differ color G-R with 1 star\")\n",
    "\n",
    "\n",
    "data = df_col_gr[\"ratio3\"].values\n",
    "PlotAndFitHisto(data,clippedStd3,ax=ax3,nbins=60,xlabel=r'$(G-R)_1 - (G-R)_2$ mmag',title=\"Differ color G-R with 2 stars\")\n",
    "\n",
    "\n",
    "plt.tight_layout()\n",
    "plt.show()"
   ]
  },
  {
   "cell_type": "markdown",
   "id": "4887841e-3e89-44e1-a82e-c4df1de49959",
   "metadata": {},
   "source": [
    "### G - Y bands"
   ]
  },
  {
   "cell_type": "code",
   "execution_count": null,
   "id": "82123934-b167-475a-82cc-2eade60340cf",
   "metadata": {},
   "outputs": [],
   "source": [
    "dfg_y = dfg_rzy[[\"time\",\"nightObs_y\",\"visit_y\",\"time_y\",\"dtsec_y\"]] \n",
    "dfg_y.head()"
   ]
  },
  {
   "cell_type": "markdown",
   "id": "021a95c3-d904-43eb-acc4-de4eba892ef2",
   "metadata": {},
   "source": [
    "#### select close measurement in time"
   ]
  },
  {
   "cell_type": "code",
   "execution_count": null,
   "id": "a6d4db37-a025-42a2-a28e-063c90ba60aa",
   "metadata": {},
   "outputs": [],
   "source": [
    "dfg_y_sel = dfg_y[np.abs(dfg_y[\"dtsec_y\"]<3600)]"
   ]
  },
  {
   "cell_type": "code",
   "execution_count": null,
   "id": "d3a2e1c2-e59f-40cc-9d09-0e2ba793d2d1",
   "metadata": {},
   "outputs": [],
   "source": [
    "dfg_y_sel.head()"
   ]
  },
  {
   "cell_type": "code",
   "execution_count": null,
   "id": "840b45a7-ff5b-45f4-a8e6-216391f84f36",
   "metadata": {},
   "outputs": [],
   "source": [
    "df_col_gy = GetFluxes2StarsTwoBands(\"g\",\"y\",dfg_y_sel,df_myselectedvisits_g,df_myselectedvisits_y)"
   ]
  },
  {
   "cell_type": "code",
   "execution_count": null,
   "id": "b986ce8b-906e-42af-9ba2-1e430388b222",
   "metadata": {},
   "outputs": [],
   "source": [
    "df_col_gy.head()"
   ]
  },
  {
   "cell_type": "code",
   "execution_count": null,
   "id": "ae360341-093b-4cd5-a089-96e5abc4c161",
   "metadata": {},
   "outputs": [],
   "source": [
    "df_col_gy[\"ratio1\"] = (df_col_gy[\"psfMag11\"] - df_col_gy[\"psfMag12\"])*1000\n",
    "df_col_gy[\"ratio2\"] = (df_col_gy[\"psfMag11\"] -  df_col_gy[\"psfMag21\"])*1000\n",
    "df_col_gy[\"ratio3\"] = (df_col_gy[\"psfMag11\"] - df_col_gy[\"psfMag12\"]) -  (df_col_gy[\"psfMag21\"] - df_col_gy[\"psfMag22\"])*1000\n",
    "df_col_gy[\"g1-y1\"] = (df_col_gy[\"psfMag11\"] -  df_col_gy[\"psfMag21\"])\n",
    "df_col_gy[\"g2-y2\"] = (df_col_gy[\"psfMag12\"] -  df_col_gy[\"psfMag22\"])"
   ]
  },
  {
   "cell_type": "code",
   "execution_count": null,
   "id": "92ec91b6-07d0-4e1d-9b04-771f73b2047d",
   "metadata": {},
   "outputs": [],
   "source": [
    "clippedMeanMagArray = scipy.stats.sigmaclip(df_col_gy[\"ratio1\"].values, low=3.0, high=3.0).clipped\n",
    "clippedMeanMag = np.mean(clippedMeanMagArray)\n",
    "df_col_gy[\"ratio1\"] = df_col_gy[\"ratio1\"] - clippedMeanMag \n",
    "clippedStd1 = np.std(clippedMeanMagArray-clippedMeanMag )\n",
    "clippedMeanMagArray = scipy.stats.sigmaclip(df_col_gy[\"ratio2\"].values, low=3.0, high=3.0).clipped\n",
    "clippedMeanMag = np.mean(clippedMeanMagArray)\n",
    "df_col_gy[\"ratio2\"] = df_col_gy[\"ratio2\"] - clippedMeanMag \n",
    "clippedStd2 = np.std(clippedMeanMagArray-clippedMeanMag )\n",
    "clippedMeanMagArray = scipy.stats.sigmaclip(df_col_gy[\"ratio3\"].values, low=3.0, high=3.0).clipped\n",
    "clippedMeanMag = np.mean(clippedMeanMagArray)\n",
    "df_col_gy[\"ratio3\"] = df_col_gy[\"ratio3\"] - clippedMeanMag \n",
    "clippedStd3 = np.std(clippedMeanMagArray-clippedMeanMag )"
   ]
  },
  {
   "cell_type": "code",
   "execution_count": null,
   "id": "a1e9737c-4a68-494f-bb84-92b02828e4de",
   "metadata": {},
   "outputs": [],
   "source": [
    "textstr = '\\n'.join((\n",
    "r'$\\sigma_{clipped}((G_1 - G_2)  = %.1f mmag $' %(clippedStd1, ),\n",
    "r'$\\sigma_{clipped}((G-Y)_1)  = %.01f mmag$' %(clippedStd2, ),\n",
    "r'$\\sigma_{clipped}((G-Y)_1 - (G-Y)_2) = %.01f mmag$' %(clippedStd3, )))"
   ]
  },
  {
   "cell_type": "code",
   "execution_count": null,
   "id": "f1482215-dd71-4d2e-b1aa-b53a866e9202",
   "metadata": {},
   "outputs": [],
   "source": [
    "from matplotlib.dates import DateFormatter\n",
    "date_form = DateFormatter(\"%y-%m-%dT%H:%M\")\n",
    "fig,axs = plt.subplots(1,1,figsize=(14,6))\n",
    "ax1  = axs\n",
    "df_col_gy.plot(x=\"time1\",y=\"ratio1\",ax=ax1,marker='o',c=\"r\",lw=0.0,grid=True,label=\"1) $G_1 - G_2\\;\\; \\sigma_{clip}=$\"+f\"{clippedStd1:.1f} mmag\")\n",
    "df_col_gy.plot(x=\"time1\",y=\"ratio2\",ax=ax1,marker='o',c=\"g\",lw=0.0,grid=True,label=\"2) $(G-Y)_1 \\; \\;\\sigma_{clip}= $\"+f\"{clippedStd2:.1f} mmag\" )\n",
    "df_col_gy.plot(x=\"time1\",y=\"ratio3\",ax=ax1,marker='o',c=\"b\",lw=0.0,grid=True,label=\"3) $(G-Y)_1-(G-Y)_2 \\;\\;\\sigma_{clip}= $\"+f\"{clippedStd3:.1f} mmag\")\n",
    "ax1.set_ylabel(\"dispersion in mmag\")\n",
    "ax1.set_xlabel(\"time\")\n",
    "ax1.xaxis.set_major_formatter(date_form)\n",
    "ax1.axhline(color=\"k\")\n",
    "ax1.set_title(\"relative color dispersion: $1)G_1-G_2, \\;\\;2) (G-Y)_1, \\;\\;3) (G-Y)_1 - (G-Y)_2$\")\n",
    "#ax1.set_ylabel(\"$(G-R)_1 - (G-R)_2$ mmag\")\n",
    "#ax1.text(0.05, 0.95, textstr, transform=ax1.transAxes, fontsize=16,verticalalignment='top',color=\"red\", weight='bold',bbox=props)\n",
    "ax1.set_ylim(-100.,100)"
   ]
  },
  {
   "cell_type": "code",
   "execution_count": null,
   "id": "67e963ce-97a8-4639-be01-64450d36d253",
   "metadata": {},
   "outputs": [],
   "source": [
    "fig,axs = plt.subplots(1,3,figsize=(15,5))\n",
    "ax1,ax2,ax3  = axs\n",
    "\n",
    "data = df_col_gy[\"ratio1\"].values\n",
    "PlotAndFitHisto(data,clippedStd1,ax=ax1,nbins=60,xlabel=r'$G_1 - G_2$ mmag',title=\"Differ mag  G1-G2 with 2 stars\")\n",
    "\n",
    "data = df_col_gy[\"ratio2\"].values\n",
    "PlotAndFitHisto(data,clippedStd2,ax=ax2,nbins=60,xlabel=r'$(G-Y)_1$ mmag',title=\"Differ color G-Y with 1 star\")\n",
    "\n",
    "\n",
    "data = df_col_gy[\"ratio3\"].values\n",
    "PlotAndFitHisto(data,clippedStd3,ax=ax3,nbins=60,xlabel=r'$(G-Y)_1 - (G-Y)_2$ mmag',title=\"Differ color G-Y with 2 stars\")\n",
    "\n",
    "plt.tight_layout()\n",
    "plt.show()"
   ]
  },
  {
   "cell_type": "markdown",
   "id": "87fea7d6-ef6b-47cf-93ea-24170e5f88cf",
   "metadata": {},
   "source": [
    "### R - Y bands"
   ]
  },
  {
   "cell_type": "code",
   "execution_count": null,
   "id": "9b415251-e5de-42b3-adc5-2243171dff7f",
   "metadata": {},
   "outputs": [],
   "source": [
    "dfr_y = dfr_zy[[\"time\",\"nightObs_y\",\"visit_y\",\"time_y\",\"dtsec_y\"]] \n",
    "dfr_y.head()"
   ]
  },
  {
   "cell_type": "code",
   "execution_count": null,
   "id": "6fbe9d31-f80a-445a-b655-da8549748a4a",
   "metadata": {},
   "outputs": [],
   "source": [
    "dfr_y_sel = dfr_y[np.abs(dfr_y[\"dtsec_y\"])<3600]"
   ]
  },
  {
   "cell_type": "code",
   "execution_count": null,
   "id": "447ba08d-e62c-4caf-8852-b0b6ca9c7f43",
   "metadata": {},
   "outputs": [],
   "source": [
    "dfr_y_sel"
   ]
  },
  {
   "cell_type": "code",
   "execution_count": null,
   "id": "aefcac99-7800-4587-8ff8-1e3e9cea8be9",
   "metadata": {},
   "outputs": [],
   "source": [
    "df_col_ry = GetFluxes2StarsTwoBands(\"r\",\"y\",dfr_y_sel,df_myselectedvisits_r,df_myselectedvisits_y)"
   ]
  },
  {
   "cell_type": "code",
   "execution_count": null,
   "id": "002e1b59-5990-4202-937e-bebafaf371de",
   "metadata": {},
   "outputs": [],
   "source": [
    "df_col_ry.head() "
   ]
  },
  {
   "cell_type": "code",
   "execution_count": null,
   "id": "b93980bd-33ee-4a9e-9299-bd3a829e062b",
   "metadata": {},
   "outputs": [],
   "source": [
    "df_col_ry = df_col_ry[np.abs(df_col_ry[\"dt\"])<3600]"
   ]
  },
  {
   "cell_type": "code",
   "execution_count": null,
   "id": "2c0e73bf-c57a-4f78-84ac-edee5fc0d4ef",
   "metadata": {},
   "outputs": [],
   "source": [
    "df_col_ry[\"ratio1\"] = (df_col_ry[\"psfMag11\"] - df_col_ry[\"psfMag12\"])*1000\n",
    "df_col_ry[\"ratio2\"] = (df_col_ry[\"psfMag11\"] - df_col_ry[\"psfMag21\"])*1000\n",
    "df_col_ry[\"ratio3\"] = (df_col_ry[\"psfMag11\"] - df_col_ry[\"psfMag12\"]) -  (df_col_ry[\"psfMag21\"] - df_col_ry[\"psfMag22\"])*1000\n",
    "df_col_ry[\"r1-y1\"] = (df_col_ry[\"psfMag11\"] -  df_col_ry[\"psfMag21\"])\n",
    "df_col_ry[\"r2-y2\"] = (df_col_ry[\"psfMag12\"] -  df_col_ry[\"psfMag22\"])"
   ]
  },
  {
   "cell_type": "code",
   "execution_count": null,
   "id": "093c104f-833a-4ee2-ae77-868bc3c40fe8",
   "metadata": {},
   "outputs": [],
   "source": [
    "clippedMeanMagArray = scipy.stats.sigmaclip(df_col_ry[\"ratio1\"].values, low=3.0, high=3.0).clipped\n",
    "clippedMeanMag = np.mean(clippedMeanMagArray)\n",
    "df_col_ry[\"ratio1\"] = df_col_ry[\"ratio1\"] - clippedMeanMag \n",
    "clippedStd1 = np.std(clippedMeanMagArray-clippedMeanMag )\n",
    "clippedMeanMagArray = scipy.stats.sigmaclip(df_col_ry[\"ratio2\"].values, low=3.0, high=3.0).clipped\n",
    "clippedMeanMag = np.mean(clippedMeanMagArray)\n",
    "df_col_ry[\"ratio2\"] = df_col_ry[\"ratio2\"] - clippedMeanMag \n",
    "clippedStd2 = np.std(clippedMeanMagArray-clippedMeanMag )\n",
    "clippedMeanMagArray = scipy.stats.sigmaclip(df_col_ry[\"ratio3\"].values, low=3.0, high=3.0).clipped\n",
    "clippedMeanMag = np.mean(clippedMeanMagArray)\n",
    "df_col_ry[\"ratio3\"] = df_col_ry[\"ratio3\"] - clippedMeanMag \n",
    "clippedStd3 = np.std(clippedMeanMagArray-clippedMeanMag )"
   ]
  },
  {
   "cell_type": "code",
   "execution_count": null,
   "id": "3f89c8cc-d098-490b-9ba6-4e2a36c946d3",
   "metadata": {},
   "outputs": [],
   "source": [
    "from matplotlib.dates import DateFormatter\n",
    "date_form = DateFormatter(\"%y-%m-%dT%H:%M\")\n",
    "fig,axs = plt.subplots(1,1,figsize=(14,6))\n",
    "ax1  = axs\n",
    "df_col_ry.plot(x=\"time1\",y=\"ratio1\",ax=ax1,marker='o',c=\"r\",lw=0.0,grid=True,label=\"1) $R_1 - R_2\\;\\; \\sigma_{clip}=$\"+f\"{clippedStd1:.1f} mmag\")\n",
    "df_col_ry.plot(x=\"time1\",y=\"ratio2\",ax=ax1,marker='o',c=\"g\",lw=0.0,grid=True,label=\"2) $(R-Y)_1 \\; \\;\\sigma_{clip}= $\"+f\"{clippedStd2:.1f} mmag\" )\n",
    "df_col_ry.plot(x=\"time1\",y=\"ratio3\",ax=ax1,marker='o',c=\"b\",lw=0.0,grid=True,label=\"3) $(R-Y)_1-(R-Y)_2 \\;\\;\\sigma_{clip}= $\"+f\"{clippedStd3:.1f} mmag\")\n",
    "ax1.set_ylabel(\"dispersion in mmag\")\n",
    "ax1.set_xlabel(\"time\")\n",
    "ax1.xaxis.set_major_formatter(date_form)\n",
    "ax1.axhline(color=\"k\")\n",
    "ax1.set_title(\"relative color dispersion: $1)R_1-R_2, \\;\\;2) (R-Y)_1, \\;\\;3) (R-Y)_1 - (R-Y)_2$\")\n",
    "#ax1.set_ylabel(\"$(G-R)_1 - (G-R)_2$ mmag\")\n",
    "#ax1.text(0.05, 0.95, textstr, transform=ax1.transAxes, fontsize=16,verticalalignment='top',color=\"red\", weight='bold',bbox=props)\n",
    "ax1.set_ylim(-100.,100)"
   ]
  },
  {
   "cell_type": "code",
   "execution_count": null,
   "id": "7467d786-d335-4bc5-9365-bd0bdfcaa1b3",
   "metadata": {},
   "outputs": [],
   "source": [
    "fig,axs = plt.subplots(1,3,figsize=(15,5))\n",
    "ax1,ax2,ax3  = axs\n",
    "\n",
    "data = df_col_ry[\"ratio1\"].values\n",
    "PlotAndFitHisto(data,clippedStd1,ax=ax1,nbins=60,xlabel=r'$R_1 - R_2$ mmag',title=\"Differ mag  R1-R2 with 2 stars\")\n",
    "\n",
    "data = df_col_ry[\"ratio2\"].values\n",
    "PlotAndFitHisto(data,clippedStd2,ax=ax2,nbins=60,xlabel=r'$(R-Y)_1$ mmag',title=\"Differ color R-Y with 1 star\")\n",
    "\n",
    "\n",
    "data = df_col_ry[\"ratio3\"].values\n",
    "PlotAndFitHisto(data,clippedStd3,ax=ax3,nbins=60,xlabel=r'$(R-Y)_1 - (R-Y)_2$ mmag',title=\"Differ color R-Y with 2 stars\")\n",
    "\n",
    "plt.tight_layout()\n",
    "plt.show()"
   ]
  },
  {
   "cell_type": "markdown",
   "id": "3f015388-102a-4828-b413-48cd7af027a3",
   "metadata": {},
   "source": [
    "### Z - Y bands"
   ]
  },
  {
   "cell_type": "code",
   "execution_count": null,
   "id": "a1020d32-4389-48e3-8f33-bf7357ccf660",
   "metadata": {},
   "outputs": [],
   "source": [
    "#dfz_y = dfz_y[[\"time\",\"nightObs_y\",\"visit_y\",\"time_y\",\"dtsec_y\"]] \n",
    "dfz_y.head()"
   ]
  },
  {
   "cell_type": "code",
   "execution_count": null,
   "id": "5494ce58-e1b3-4d84-8bf0-1556e64aee69",
   "metadata": {},
   "outputs": [],
   "source": [
    "dfz_y_sel = dfz_y[np.abs(dfz_y[\"dtsec_y\"])<3600]"
   ]
  },
  {
   "cell_type": "code",
   "execution_count": null,
   "id": "105d5b07-a9c0-4f0e-8d08-fa2713f34b2e",
   "metadata": {},
   "outputs": [],
   "source": [
    "dfz_y_sel"
   ]
  },
  {
   "cell_type": "code",
   "execution_count": null,
   "id": "0bfb6122-b9b5-4370-ab56-15898f766fa6",
   "metadata": {},
   "outputs": [],
   "source": [
    "# Need to drop  2023112100507 \t\n",
    "#dfz_y_sel = dfz_y_sel.drop(labels=(20231121,2023112100507), axis=0)"
   ]
  },
  {
   "cell_type": "code",
   "execution_count": null,
   "id": "8e1374ba-4cb1-4230-ade0-8d8b2025f7be",
   "metadata": {},
   "outputs": [],
   "source": [
    "df_myselectedvisits_z['visit']"
   ]
  },
  {
   "cell_type": "code",
   "execution_count": null,
   "id": "16a33b8d-0b10-4782-ab29-8ff627e68f78",
   "metadata": {},
   "outputs": [],
   "source": [
    "#df_myselectedvisits_z [df_myselectedvisits_z.visit == 2023112100507]\n",
    "#df_myselectedvisits_z [df_myselectedvisits_z.visit == 2023112100535]"
   ]
  },
  {
   "cell_type": "code",
   "execution_count": null,
   "id": "43b8d4fb-b307-4dd3-807f-8f58c1ce6dda",
   "metadata": {},
   "outputs": [],
   "source": [
    "df_col_zy = GetFluxes2StarsTwoBands(\"z\",\"y\",dfz_y_sel,df_myselectedvisits_z,df_myselectedvisits_y)"
   ]
  },
  {
   "cell_type": "code",
   "execution_count": null,
   "id": "a0790bad-6f52-4a96-aeb9-c162900cf8ee",
   "metadata": {},
   "outputs": [],
   "source": [
    "df_col_zy = df_col_zy[np.abs(df_col_zy[\"dt\"])<3600]"
   ]
  },
  {
   "cell_type": "code",
   "execution_count": null,
   "id": "9e8f5896-a3a9-4671-85c4-c096862d13f1",
   "metadata": {},
   "outputs": [],
   "source": [
    "df_col_zy"
   ]
  },
  {
   "cell_type": "code",
   "execution_count": null,
   "id": "3e651e96-3e61-4c67-8b50-da7b83e5e233",
   "metadata": {},
   "outputs": [],
   "source": [
    "df_col_zy[\"ratio1\"] = (df_col_zy[\"psfMag11\"] - df_col_zy[\"psfMag12\"])*1000\n",
    "df_col_zy[\"ratio2\"] = (df_col_zy[\"psfMag11\"] - df_col_zy[\"psfMag21\"])*1000\n",
    "df_col_zy[\"ratio3\"] = (df_col_zy[\"psfMag11\"] - df_col_zy[\"psfMag12\"]) -  (df_col_zy[\"psfMag21\"] - df_col_zy[\"psfMag22\"])*1000\n",
    "df_col_zy[\"z1-y1\"] = (df_col_zy[\"psfMag11\"] -  df_col_zy[\"psfMag21\"])\n",
    "df_col_zy[\"z2-y2\"] = (df_col_zy[\"psfMag12\"] -  df_col_zy[\"psfMag22\"])"
   ]
  },
  {
   "cell_type": "code",
   "execution_count": null,
   "id": "11c28b30-b884-4ba4-b63f-e36da4af779b",
   "metadata": {},
   "outputs": [],
   "source": [
    "clippedMeanMagArray = scipy.stats.sigmaclip(df_col_zy[\"ratio1\"].values, low=3.0, high=3.0).clipped\n",
    "clippedMeanMag = np.mean(clippedMeanMagArray)\n",
    "df_col_zy[\"ratio1\"] = df_col_zy[\"ratio1\"] - clippedMeanMag \n",
    "clippedStd1 = np.std(clippedMeanMagArray-clippedMeanMag )\n",
    "clippedMeanMagArray = scipy.stats.sigmaclip(df_col_zy[\"ratio2\"].values, low=3.0, high=3.0).clipped\n",
    "clippedMeanMag = np.mean(clippedMeanMagArray)\n",
    "df_col_zy[\"ratio2\"] = df_col_zy[\"ratio2\"] - clippedMeanMag \n",
    "clippedStd2 = np.std(clippedMeanMagArray-clippedMeanMag )\n",
    "clippedMeanMagArray = scipy.stats.sigmaclip(df_col_zy[\"ratio3\"].values, low=3.0, high=3.0).clipped\n",
    "clippedMeanMag = np.mean(clippedMeanMagArray)\n",
    "df_col_zy[\"ratio3\"] = df_col_zy[\"ratio3\"] - clippedMeanMag \n",
    "clippedStd3 = np.std(clippedMeanMagArray-clippedMeanMag )"
   ]
  },
  {
   "cell_type": "code",
   "execution_count": null,
   "id": "1bbda37e-2b16-4289-9dff-76ca78b359c5",
   "metadata": {},
   "outputs": [],
   "source": [
    "from matplotlib.dates import DateFormatter\n",
    "date_form = DateFormatter(\"%y-%m-%dT%H:%M\")\n",
    "fig,axs = plt.subplots(1,1,figsize=(14,6))\n",
    "ax1  = axs\n",
    "df_col_zy.plot(x=\"time1\",y=\"ratio1\",ax=ax1,marker='o',c=\"r\",lw=0.0,grid=True,label=\"1) $Z_1 - Z_2\\;\\; \\sigma_{clip}=$\"+f\"{clippedStd1:.1f} mmag\")\n",
    "df_col_zy.plot(x=\"time1\",y=\"ratio2\",ax=ax1,marker='o',c=\"g\",lw=0.0,grid=True,label=\"2) $(Z-Y)_1 \\; \\;\\sigma_{clip}= $\"+f\"{clippedStd2:.1f} mmag\" )\n",
    "df_col_zy.plot(x=\"time1\",y=\"ratio3\",ax=ax1,marker='o',c=\"b\",lw=0.0,grid=True,label=\"3) $(Z-Y)_1-(Z-Y)_2 \\;\\;\\sigma_{clip}= $\"+f\"{clippedStd3:.1f} mmag\")\n",
    "ax1.set_ylabel(\"dispersion in mmag\")\n",
    "ax1.set_xlabel(\"time\")\n",
    "ax1.xaxis.set_major_formatter(date_form)\n",
    "ax1.axhline(color=\"k\")\n",
    "ax1.set_title(\"relative color dispersion: $1)Z_1-Z_2, \\;\\;2) (Z-Y)_1, \\;\\;3) (Z-Y)_1 - (Z-Y)_2$\")\n",
    "#ax1.set_ylabel(\"$(G-R)_1 - (G-R)_2$ mmag\")\n",
    "#ax1.text(0.05, 0.95, textstr, transform=ax1.transAxes, fontsize=16,verticalalignment='top',color=\"red\", weight='bold',bbox=props)\n",
    "ax1.set_ylim(-100.,100)"
   ]
  },
  {
   "cell_type": "code",
   "execution_count": null,
   "id": "96d4f6a3-d8f1-481d-a953-95167dbba429",
   "metadata": {},
   "outputs": [],
   "source": [
    "fig,axs = plt.subplots(1,3,figsize=(15,5))\n",
    "ax1,ax2,ax3  = axs\n",
    "\n",
    "data = df_col_zy[\"ratio1\"].values\n",
    "PlotAndFitHisto(data,clippedStd1,ax=ax1,nbins=60,xlabel=r'$Z_1 - Z_2$ mmag',title=\"Differ mag  Z1-Z2 with 2 stars\")\n",
    "\n",
    "data = df_col_zy[\"ratio2\"].values\n",
    "PlotAndFitHisto(data,clippedStd2,ax=ax2,nbins=60,xlabel=r'$(Z-Y)_1$ mmag',title=\"Differ color Z-Y with 1 star\")\n",
    "\n",
    "\n",
    "data = df_col_zy[\"ratio3\"].values\n",
    "PlotAndFitHisto(data,clippedStd3,ax=ax3,nbins=60,xlabel=r'$(Z-Y)_1 - (Z-Y)_2$ mmag',title=\"Differ color Z-Y with 2 stars\")\n",
    "\n",
    "plt.tight_layout()\n",
    "plt.show()"
   ]
  },
  {
   "cell_type": "markdown",
   "id": "0faa93c6-1965-4eb3-9e22-b856e616f36c",
   "metadata": {},
   "source": [
    "# Colors"
   ]
  },
  {
   "cell_type": "code",
   "execution_count": null,
   "id": "5a270619-608b-44e1-b49f-e9a40ab4c3c5",
   "metadata": {},
   "outputs": [],
   "source": [
    "a = df_col_gr[[\"g1-r1\",\"g2-r2\"]].describe().loc[[\"mean\",\"std\"]]"
   ]
  },
  {
   "cell_type": "code",
   "execution_count": null,
   "id": "b2292b10-b80b-42be-9848-937d40126bc2",
   "metadata": {},
   "outputs": [],
   "source": [
    "b = df_col_gy[[\"g1-y1\",\"g2-y2\"]].describe().loc[[\"mean\",\"std\"]]"
   ]
  },
  {
   "cell_type": "code",
   "execution_count": null,
   "id": "9f9a6f09-6812-4b02-93b1-b144a59f743e",
   "metadata": {},
   "outputs": [],
   "source": [
    "c = df_col_ry[[\"r1-y1\",\"r2-y2\"]].describe().loc[[\"mean\",\"std\"]]"
   ]
  },
  {
   "cell_type": "code",
   "execution_count": null,
   "id": "12cc23c2-ff8a-4c53-a4bc-fe2c1fbd32b6",
   "metadata": {},
   "outputs": [],
   "source": [
    "d = df_col_zy[[\"z1-y1\",\"z2-y2\"]].describe().loc[[\"mean\",\"std\"]]"
   ]
  },
  {
   "cell_type": "code",
   "execution_count": null,
   "id": "b62ba6ce-1c53-4a89-b48e-1adeddf65e95",
   "metadata": {},
   "outputs": [],
   "source": [
    "df_col_summ = pd.concat([a,b,c,d],axis=1)"
   ]
  },
  {
   "cell_type": "code",
   "execution_count": null,
   "id": "dd3ec4b0-90b2-4128-890a-15760eff7cd9",
   "metadata": {},
   "outputs": [],
   "source": [
    "df_col_summ"
   ]
  },
  {
   "cell_type": "code",
   "execution_count": null,
   "id": "b47f64b0-e4a5-40dd-a44b-deb2fa3ff392",
   "metadata": {},
   "outputs": [],
   "source": [
    "df_col_summ.to_html()"
   ]
  },
  {
   "cell_type": "code",
   "execution_count": null,
   "id": "a3435847-f9b4-4c01-8c74-2a343cee01c3",
   "metadata": {},
   "outputs": [],
   "source": [
    "if 0:\n",
    "    df_col_gr = pd.DataFrame(columns = [\"band1\",\"exposure1\",\"time1\",\"psfMag11\",\"psfMag12\",\"band2\",\"exposure2\",\"time2\",\"psfMag21\",\"psfMag22\",\"dt\"])\n",
    "    band1 = \"g\"\n",
    "    band2 = \"r\"\n",
    "    entrycount = 0\n",
    "    for idx,key in enumerate(dfg_r_sel.index):\n",
    "        visit1 = key[1]\n",
    "        visit2 = dfg_r_sel.loc[key][\"visit_r\"]\n",
    "        time1 = dfg_r_sel.loc[key][\"time\"]\n",
    "        time2 = dfg_r_sel.loc[key][\"time_r\"]\n",
    "        dt = dfg_r_sel.loc[key][\"dtsec_r\"]\n",
    "        print(f\"======================= night :: {key[0]} ==> (g,r) = ({visit1},{visit2}) =============================\" )\n",
    "        # the target star from the external list of sources for the object\n",
    "        row_target = df_myselectedvisits_g[df_myselectedvisits_g.visit == visit1].iloc[0]\n",
    "        #print(row_target)\n",
    "        # the selected sources retrieved from the sources associated to that calexp\n",
    "        df_pair_g,cutoutg = getcutoutandimage(visit1,df_myselectedvisits_g,objectname=912) \n",
    "        df_pair_r,cutoutr = getcutoutandimage(visit2,df_myselectedvisits_r,objectname=912) \n",
    "        # compute magnitudes on psfFlux\n",
    "        df_pair_g[\"psfMag\"] = df_pair_g[\"psfFlux\"].apply(convert_fluxtomag)\n",
    "        df_pair_r[\"psfMag\"] = df_pair_r[\"psfFlux\"].apply(convert_fluxtomag)\n",
    "    \n",
    "        if ( (len(df_pair_g) == 2) and (len(df_pair_g) == 2)):\n",
    "            try:\n",
    "                psfMag11 =  df_pair_g[\"psfMag\"].iloc[0]\n",
    "                psfMag12 =  df_pair_g[\"psfMag\"].iloc[1]\n",
    "                psfMag21 =  df_pair_r[\"psfMag\"].iloc[0]\n",
    "                psfMag22 =  df_pair_r[\"psfMag\"].iloc[1]\n",
    "                df_col_gr.loc[entrycount] = [band1,visit1,time1,psfMag11,psfMag12,band2,visit2,time2,psfMag21,psfMag22,dt]\n",
    "                entrycount+=1\n",
    "            except Exception as inst:\n",
    "                print(type(inst))    # the exception type\n",
    "                print(inst.args)     # arguments stored in .args\n",
    "                print(inst)\n",
    "                continue\n",
    "        else:\n",
    "            print(\">>> Bad size in df_pairs :: \")\n",
    "            print(\"dataframes size : \",len(df_pair_g),len(df_pair_r))\n",
    "            print(df_pair_g.iloc[:,0:4])\n",
    "            print(df_pair_r.iloc[:,0:4])\n",
    "            continue\n",
    "    \n",
    "          \n",
    "        if idx%10 == 0:\n",
    "            if cutoutg is not None and cutoutr is not None:\n",
    "                NROWS = 1\n",
    "                NCOLS = 2\n",
    "                fig, (ax1,ax2) = plt.subplots(ncols=NCOLS,nrows=NROWS,figsize=(6*NCOLS,6*NROWS))\n",
    "                plotcutout(df_pair_g,cutoutg,ax=ax1)\n",
    "                plotcutout(df_pair_r,cutoutr,ax=ax2)\n",
    "                plt.show()\n",
    "        "
   ]
  },
  {
   "cell_type": "code",
   "execution_count": null,
   "id": "8f891ec8-b799-4abf-a5ba-fd32bf9b0086",
   "metadata": {},
   "outputs": [],
   "source": [
    "df_col_gr.head()"
   ]
  },
  {
   "cell_type": "code",
   "execution_count": null,
   "id": "cd82f433-6e09-412a-afbf-f2626228bc28",
   "metadata": {},
   "outputs": [],
   "source": [
    "df_col_gr[\"ratio\"] = (df_col_gr[\"psfMag11\"] - df_col_gr[\"psfMag12\"]) -  (df_col_gr[\"psfMag21\"] - df_col_gr[\"psfMag22\"])*1000"
   ]
  },
  {
   "cell_type": "code",
   "execution_count": null,
   "id": "d3b36a6b-d15a-40de-a0fa-b57988a26e9b",
   "metadata": {},
   "outputs": [],
   "source": [
    "clippedMeanMagArray = scipy.stats.sigmaclip(df_col_gr[\"ratio\"].values, low=3.0, high=3.0).clipped\n",
    "clippedMeanMag = np.mean(clippedMeanMagArray)"
   ]
  },
  {
   "cell_type": "code",
   "execution_count": null,
   "id": "bb2593cc-05f9-4037-88c4-ebf860433de4",
   "metadata": {},
   "outputs": [],
   "source": [
    "df_col_gr[\"ratio\"] = df_col_gr[\"ratio\"] - clippedMeanMag \n",
    "clippedStd = np.std(clippedMeanMagArray-clippedMeanMag )"
   ]
  },
  {
   "cell_type": "code",
   "execution_count": null,
   "id": "2e337623-665c-4f3e-bde6-b4ebd72c97b9",
   "metadata": {},
   "outputs": [],
   "source": [
    "textstr = '\\n'.join((\n",
    "r'$(G-R)_1 - (G-R)_2$ :' ,\n",
    "r'$\\sigma_{clipped} = %.02f$ mmag' %(clippedStd, )))"
   ]
  },
  {
   "cell_type": "code",
   "execution_count": null,
   "id": "afe4a055-d034-417f-8bd0-fe27b8f7fe91",
   "metadata": {},
   "outputs": [],
   "source": [
    "from matplotlib.dates import DateFormatter\n",
    "date_form = DateFormatter(\"%y-%m-%dT%H:%M\")\n",
    "fig,axs = plt.subplots(1,1,figsize=(18,5))\n",
    "ax1  = axs\n",
    "df_col_gr.plot(x=\"time1\",y=\"ratio\",marker='o',c=\"b\",lw=0.0,ax=ax1,grid=True,label=\"g-r\")\n",
    "ax1.set_ylabel(\"ratio\")\n",
    "ax1.xaxis.set_major_formatter(date_form)\n",
    "ax1.axhline(color=\"k\")\n",
    "ax1.set_title(\"relative color dispersion $(G-R)_1 - (G-R)_2$\")\n",
    "ax1.set_ylabel(\"$(G-R)_1 - (G-R)_2$ mmag\")\n",
    "ax1.text(0.05, 0.95, textstr, transform=ax1.transAxes, fontsize=16,verticalalignment='top',color=\"red\", weight='bold',bbox=props)"
   ]
  },
  {
   "cell_type": "markdown",
   "id": "91d4216e-39f7-4836-9308-2a779a7be68d",
   "metadata": {},
   "source": [
    "https://stackoverflow.com/questions/11507028/fit-a-gaussian-function"
   ]
  },
  {
   "cell_type": "code",
   "execution_count": null,
   "id": "9d4acd48-d226-4eac-8cf1-9bc9902709dd",
   "metadata": {},
   "outputs": [],
   "source": [
    "data = df_col_gr[\"ratio\"].values\n",
    "\n",
    "hist, bin_edges = np.histogram(data,bins=50 ,density=True)\n",
    "bin_centres = (bin_edges[:-1] + bin_edges[1:])/2\n",
    "\n",
    "# Define model function to be used to fit to the data above:\n",
    "def gauss(x, *p):\n",
    "    A, mu, sigma = p\n",
    "    return A*np.exp(-(x-mu)**2/(2.*sigma**2))\n",
    "\n",
    "# p0 is the initial guess for the fitting coefficients (A, mu and sigma above)\n",
    "p0 = [1., 0., 1.]\n",
    "\n",
    "coeff, var_matrix = curve_fit(gauss, bin_centres, hist, p0=p0)\n",
    "\n",
    "# Get the fitted curve\n",
    "hist_fit = gauss(bin_centres, *coeff)\n",
    "\n",
    "textstr = '\\n'.join((\n",
    "r'$(G-R)_1 - (G-R)_2$ :' ,\n",
    "r'$\\sigma_{clipped} = %.01f$ mmag' %(clippedStd,),\n",
    "r'$\\sigma_{fit} = %.01f$ mmag' %(coeff[2], )))\n",
    "\n",
    "fig,axs = plt.subplots(1,1,figsize=(5,5))\n",
    "ax  = axs\n",
    "\n",
    "ax.step(bin_centres, hist,'k' ,label='data')\n",
    "ax.plot(bin_centres, hist_fit,'r-', label='fit')\n",
    "ax.set_xlabel(\"$(G-R)_1 - (G-R)_2$ mmag\")\n",
    "ax.legend()\n",
    "ax.text(0.05, 0.95, textstr, transform=ax.transAxes, fontsize=16,verticalalignment='top',color=\"blue\", weight='bold',bbox=props)\n",
    "ax.set_title(\"Differential color with 2 stars\")\n",
    "# Finally, lets get the fitting parameters, i.e. the mean and standard deviation:\n",
    "#print('Fitted mean = ', coeff[1])\n",
    "#print('Fitted standard deviation = ', coeff[2])"
   ]
  },
  {
   "cell_type": "code",
   "execution_count": null,
   "id": "0063d91f-bcce-4c30-8cd4-3f80192e8df1",
   "metadata": {},
   "outputs": [],
   "source": [
    "fig,axs = plt.subplots(1,1,figsize=(5,4))\n",
    "ax1  = axs\n",
    "df_col_gr[\"ratio\"].hist(bins=50,lw=2,ax=ax1,histtype=\"step\",color=\"b\",grid=True,label=\"g-r\")\n",
    "ax1.set_xlabel(\"$(G-R)_1 - (G-R)_2$ mmag\")"
   ]
  },
  {
   "cell_type": "code",
   "execution_count": null,
   "id": "41076470-02e8-470f-aa6c-6b54dfbcee36",
   "metadata": {},
   "outputs": [],
   "source": []
  }
 ],
 "metadata": {
  "kernelspec": {
   "display_name": "LSST",
   "language": "python",
   "name": "lsst"
  },
  "language_info": {
   "codemirror_mode": {
    "name": "ipython",
    "version": 3
   },
   "file_extension": ".py",
   "mimetype": "text/x-python",
   "name": "python",
   "nbconvert_exporter": "python",
   "pygments_lexer": "ipython3",
   "version": "3.11.7"
  }
 },
 "nbformat": 4,
 "nbformat_minor": 5
}
