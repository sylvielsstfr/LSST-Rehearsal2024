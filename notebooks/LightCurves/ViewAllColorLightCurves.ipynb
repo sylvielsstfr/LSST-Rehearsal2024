{
 "cells": [
  {
   "cell_type": "markdown",
   "id": "7ce31619-38f8-4e97-889e-d15562068b9c",
   "metadata": {},
   "source": [
    "# View Color light-Curves and Histograms for repeatability"
   ]
  },
  {
   "cell_type": "markdown",
   "id": "e54b31d6-1acd-4657-8618-8e54b7fe81de",
   "metadata": {},
   "source": [
    "- author Sylvie Dagoret-Campagne\n",
    "- creation date 2024-09-07\n",
    "- last update 2024-09-07"
   ]
  },
  {
   "cell_type": "code",
   "execution_count": null,
   "id": "ec0ac857-ef70-434a-81db-6beb410cb90f",
   "metadata": {
    "tags": []
   },
   "outputs": [],
   "source": [
    "import warnings\n",
    "warnings.resetwarnings()\n",
    "warnings.simplefilter('ignore')"
   ]
  },
  {
   "cell_type": "code",
   "execution_count": null,
   "id": "8cac1097-f413-4361-a7a2-83274255460a",
   "metadata": {
    "tags": []
   },
   "outputs": [],
   "source": [
    "import numpy as np\n",
    "import matplotlib as mpl\n",
    "import matplotlib.pyplot as plt\n",
    "%matplotlib inline\n",
    "from mpl_toolkits.axes_grid1 import make_axes_locatable\n",
    "from matplotlib.colors import LogNorm,SymLogNorm\n",
    "from matplotlib.patches import Circle,Annulus\n",
    "from astropy.visualization import ZScaleInterval\n",
    "props = dict(boxstyle='round', facecolor=None, alpha=0.1)\n",
    "#props = dict(boxstyle='round')\n",
    "\n",
    "import matplotlib.colors as colors\n",
    "import matplotlib.cm as cmx\n",
    "\n",
    "import matplotlib.ticker                         # here's where the formatter is\n",
    "from matplotlib.ticker import (MultipleLocator, FormatStrFormatter,\n",
    "                               AutoMinorLocator)\n",
    "\n",
    "from matplotlib.gridspec import GridSpec\n",
    "\n",
    "from astropy.visualization import (MinMaxInterval, SqrtStretch,ZScaleInterval,PercentileInterval,\n",
    "                                   ImageNormalize,imshow_norm)\n",
    "from astropy.visualization.stretch import SinhStretch, LinearStretch,AsinhStretch,LogStretch"
   ]
  },
  {
   "cell_type": "code",
   "execution_count": null,
   "id": "d12e930b-379c-4541-ae00-74cbcb7c35f4",
   "metadata": {
    "tags": []
   },
   "outputs": [],
   "source": [
    "from astropy.io import fits\n",
    "from astropy.wcs import WCS\n",
    "from astropy.stats import SigmaClip\n",
    "\n",
    "\n",
    "import pandas as pd\n",
    "pd.set_option(\"display.max_columns\", None)\n",
    "pd.set_option('display.max_rows', 100)\n",
    "\n",
    "import matplotlib.ticker                         # here's where the formatter is\n",
    "import os\n",
    "import re\n",
    "import pandas as pd\n",
    "import pickle\n",
    "from collections import OrderedDict\n",
    "\n",
    "plt.rcParams[\"figure.figsize\"] = (4,3)\n",
    "plt.rcParams[\"axes.labelsize\"] = 'x-large'\n",
    "plt.rcParams['axes.titlesize'] = 'x-large'\n",
    "plt.rcParams['xtick.labelsize']= 'x-large'\n",
    "plt.rcParams['ytick.labelsize']= 'x-large'\n",
    "\n",
    "import scipy\n",
    "from scipy.optimize import curve_fit"
   ]
  },
  {
   "cell_type": "code",
   "execution_count": null,
   "id": "c83869fa-d756-453d-bcf7-62b392c71918",
   "metadata": {
    "tags": []
   },
   "outputs": [],
   "source": [
    "#inputfilename = \"sources_objectTable-t3864-multibands-o912-LATISS_runs_AUXTEL_DRP_IMAGING_20230509_20240414_w_2024_15_PREOPS-5069.csv\"\n",
    "\n",
    "## The two lists:\n",
    "theta_sep = 300.\n",
    "time_sep = 1800.\n",
    "NMAX = 50\n",
    "CBAND = \"G-R\"\n",
    "CBANDtag = \"G_R\"\n",
    "BAND1 = \"G\"\n",
    "BAND2 = \"R\"\n",
    "path_colorlc = f\"data_coloredlightcurves{CBANDtag}_thmax_{theta_sep:.0f}_tmax_{time_sep:.0f}\"\n",
    "\n",
    "summary_file = f\"photompairsummary{CBANDtag}_thmax_{theta_sep:.0f}_tmax_{time_sep:.0f}.csv\"\n",
    "fntag = f\"^color_lightcurve{CBANDtag}_(.*)_thmax_{theta_sep:.0f}_tmax_{time_sep:.0f}.csv$\"\n",
    "\n",
    "summary_fullfilename= os.path.join(path_colorlc,summary_file) \n",
    "\n",
    "dfc = pd.read_csv(summary_fullfilename,index_col=0)"
   ]
  },
  {
   "cell_type": "code",
   "execution_count": null,
   "id": "deaf84e6-b251-428f-b0d2-7c9d7cc21e00",
   "metadata": {
    "tags": []
   },
   "outputs": [],
   "source": [
    "dfc"
   ]
  },
  {
   "cell_type": "code",
   "execution_count": null,
   "id": "98eb3c88-1572-4955-8db9-b4be81a281fa",
   "metadata": {
    "tags": []
   },
   "outputs": [],
   "source": [
    "len(dfc.idx_pair.unique())"
   ]
  },
  {
   "cell_type": "code",
   "execution_count": null,
   "id": "64dfc5e5-138d-42b3-a938-05bd80ace76b",
   "metadata": {
    "tags": []
   },
   "outputs": [],
   "source": [
    "list_of_files = os.listdir(path_colorlc) "
   ]
  },
  {
   "cell_type": "code",
   "execution_count": null,
   "id": "37725614-5b5a-45d4-99f0-24ac9096d794",
   "metadata": {
    "tags": []
   },
   "outputs": [],
   "source": [
    "all_pairnum = []\n",
    "for idx,file in enumerate(list_of_files):\n",
    "    coll = re.findall(fntag,file)\n",
    "    if len(coll)>0:\n",
    "        all_pairnum.append(int(coll[0]))\n",
    "        \n",
    "all_pairnum = sorted(all_pairnum)  "
   ]
  },
  {
   "cell_type": "code",
   "execution_count": null,
   "id": "d5098283-ec54-4773-9ff7-6d51bcc83d35",
   "metadata": {
    "tags": []
   },
   "outputs": [],
   "source": [
    "print(all_pairnum) "
   ]
  },
  {
   "cell_type": "code",
   "execution_count": null,
   "id": "00719987-2718-4bd8-851b-7b883dcf3f8b",
   "metadata": {
    "tags": []
   },
   "outputs": [],
   "source": [
    "all_df = []\n",
    "for idx,idx_pair in enumerate(all_pairnum):\n",
    "    idx_pair_str = str(idx_pair).zfill(4)\n",
    "    filename =  f\"color_lightcurve{CBANDtag}_{idx_pair_str}_thmax_{theta_sep:.0f}_tmax_{time_sep:.0f}.csv\"\n",
    "    fullfilename = os.path.join(path_colorlc,filename)\n",
    "    df = pd.read_csv(fullfilename,index_col=0)\n",
    "    all_df.append(df)\n",
    "    "
   ]
  },
  {
   "cell_type": "code",
   "execution_count": null,
   "id": "a4e1b5b9-398a-4563-912a-84a1a04e54a5",
   "metadata": {
    "tags": []
   },
   "outputs": [],
   "source": [
    "df = all_df[0]"
   ]
  },
  {
   "cell_type": "markdown",
   "id": "ee49fa17-e899-477b-9c5a-2240dee482de",
   "metadata": {},
   "source": [
    "### Definitions\n",
    "\n",
    "            # first indec band, second index star\n",
    "            # Star 1 in band 1\n",
    "            psfMag11 =  row_pair_b1[\"psfMag_x\"]\n",
    "            \n",
    "            if FLAG_AP_FLUX_CAL:\n",
    "                apMag11 =  row_pair_b1[\"apFlux_35_0_calMag_x\"]\n",
    "            else:\n",
    "                apMag11 =  -2.5*np.log10(row_pair_b1[\"apFlux_35_0_instFlux_x\"])\n",
    " \n",
    "            # Star 2 in band 1\n",
    "            psfMag12 =  row_pair_b1[\"psfMag_y\"]\n",
    "\n",
    "\n",
    "            if FLAG_AP_FLUX_CAL:\n",
    "                apMag12 =  row_pair_b1[\"apFlux_35_0_calMag_y\"]\n",
    "  \n",
    "            else:\n",
    "                apMag12 =  -2.5*np.log10(row_pair_b1[\"apFlux_35_0_instFlux_y\"])\n",
    " \n",
    "            # Star 1 in band 2\n",
    "            psfMag21 =  row_pair_b2[\"psfMag_x\"]\n",
    "\n",
    "            if FLAG_AP_FLUX_CAL:\n",
    "                apMag21 =  row_pair_b2[\"apFlux_35_0_calMag_x\"]\n",
    "            else:\n",
    "                apMag21 =  -2.5*np.log10(row_pair_b2[\"apFlux_35_0_instFlux_x\"])\n",
    "\n",
    "            \n",
    "            # Star 2 in band 2\n",
    "            psfMag22 =  row_pair_b2[\"psfMag_y\"]\n",
    "\n",
    "            \n",
    "            if FLAG_AP_FLUX_CAL:\n",
    "                apMag22 =  row_pair_b2[\"apFlux_35_0_calMag_y\"]\n",
    "            else:\n",
    "                apMag22 =  -2.5*np.log10(row_pair_b2[\"apFlux_35_0_instFlux_y\"])\n",
    "\n",
    "        "
   ]
  },
  {
   "cell_type": "code",
   "execution_count": null,
   "id": "26782b4d-251e-4153-a140-353f129e1704",
   "metadata": {
    "tags": []
   },
   "outputs": [],
   "source": [
    "df.head()"
   ]
  },
  {
   "cell_type": "markdown",
   "id": "d0745848-1976-40f0-9dbe-5cf71952a653",
   "metadata": {},
   "source": [
    "        # band 1 : mag_star1-mag_star2 \n",
    "        df_col_b1b2[\"deltapsfmag_s12b1\"] =    (df_col_b1b2[\"psfMag11\"] - df_col_b1b2[\"psfMag12\"])\n",
    "        df_col_b1b2[\"deltapsfmagErr_s12b1\"] = np.sqrt(df_col_b1b2[\"psfMagErr11\"]**2 + df_col_b1b2[\"psfMagErr12\"]**2)\n",
    "\n",
    "        df_col_b1b2[\"deltaapmag_s12b1\"] = (df_col_b1b2[\"apMag11\"] - df_col_b1b2[\"apMag12\"])\n",
    "        df_col_b1b2[\"deltaapmagErr_s12b1\"] = np.sqrt(df_col_b1b2[\"apMagErr11\"]**2 + df_col_b1b2[\"apMagErr12\"]**2)\n",
    "    \n",
    "        # band 2 : mag_star1-mag_star2 \n",
    "        df_col_b1b2[\"deltapsfmag_s12b2\"] = (df_col_b1b2[\"psfMag21\"] - df_col_b1b2[\"psfMag22\"])\n",
    "        df_col_b1b2[\"deltapsfmagErr_s12b2\"] = np.sqrt(df_col_b1b2[\"psfMagErr21\"]**2 + df_col_b1b2[\"psfMagErr22\"]**2)\n",
    "        df_col_b1b2[\"deltaapmag_s12b2\"] = (df_col_b1b2[\"apMag21\"] - df_col_b1b2[\"apMag22\"])\n",
    "        df_col_b1b2[\"deltaapmagErr_s12b2\"] = np.sqrt(df_col_b1b2[\"apMagErr21\"]**2 + df_col_b1b2[\"apMagErr22\"]**2)\n",
    "\n",
    "    \n",
    "        # Star 1 : mag_band1-mag_band2 \n",
    "        df_col_b1b2[\"psfcol12_s1\"] = (df_col_b1b2[\"psfMag11\"] - df_col_b1b2[\"psfMag21\"])\n",
    "        df_col_b1b2[\"psfcol12Err_s1\"] = np.sqrt(df_col_b1b2[\"psfMagErr11\"]**2 + df_col_b1b2[\"psfMagErr21\"]**2)\n",
    "        df_col_b1b2[\"apcol12_s1\"] = (df_col_b1b2[\"apMag11\"] - df_col_b1b2[\"apMag21\"])\n",
    "        df_col_b1b2[\"apcol12Err_s1\"] = np.sqrt(df_col_b1b2[\"apMagErr11\"]**2 + df_col_b1b2[\"apMagErr21\"]**2)\n",
    "\n",
    "    \n",
    "       # Star 2 : mag_band1-mag_band2 \n",
    "       df_col_b1b2[\"psfcol12_s2\"] = (df_col_b1b2[\"psfMag12\"] - df_col_b1b2[\"psfMag22\"])\n",
    "       df_col_b1b2[\"psfcol12Err_s2\"] = np.sqrt(df_col_b1b2[\"psfMagErr12\"]**2 + df_col_b1b2[\"psfMagErr22\"]**2)\n",
    "       df_col_b1b2[\"apcol12_s2\"] = (df_col_b1b2[\"apMag12\"] - df_col_b1b2[\"apMag22\"])\n",
    "       df_col_b1b2[\"apcol12Err_s2\"] = np.sqrt(df_col_b1b2[\"apMagErr12\"]**2 + df_col_b1b2[\"apMagErr22\"]**2)\n",
    "\n",
    "    \n",
    "       # relative color star1 - star2\n",
    "       df_col_b1b2[\"psfcol12_s12\"] = np.abs(df_col_b1b2[\"psfcol12_s1\"] - df_col_b1b2[\"psfcol12_s2\"])\n",
    "       df_col_b1b2[\"psfcol12Err_s12\"] = np.sqrt(df_col_b1b2[\"psfcol12Err_s1\"]**2 + df_col_b1b2[\"psfcol12Err_s2\"]**2)\n",
    "       df_col_b1b2[\"apcol12_s12\"] = np.abs(df_col_b1b2[\"apcol12_s1\"] - df_col_b1b2[\"apcol12_s2\"])\n",
    "       df_col_b1b2[\"apcol12Err_s12\"] = np.sqrt(df_col_b1b2[\"apcol12Err_s1\"]**2 + df_col_b1b2[\"apcol12Err_s2\"]**2)\n",
    "\n",
    "\n",
    "       # Maximum magnitude in band b1 and band b2\n",
    "       df_col_b1b2[\"psfmagmax_s12b1\"] = np.fmax(df_col_b1b2[\"psfMag11\"],df_col_b1b2[\"psfMag12\"])\n",
    "       df_col_b1b2[\"psfmagmax_s12b2\"] = np.fmax(df_col_b1b2[\"psfMag21\"],df_col_b1b2[\"psfMag22\"])\n",
    "       df_col_b1b2[\"apmagmax_s12b1\"] = np.fmax(df_col_b1b2[\"apMag11\"],df_col_b1b2[\"apMag12\"])\n",
    "       df_col_b1b2[\"apmagmax_s12b2\"] = np.fmax(df_col_b1b2[\"apMag21\"],df_col_b1b2[\"apMag22\"])\n",
    "    "
   ]
  },
  {
   "cell_type": "code",
   "execution_count": null,
   "id": "e259eea5-4804-4296-80e9-a358a96d27d3",
   "metadata": {
    "tags": []
   },
   "outputs": [],
   "source": []
  },
  {
   "cell_type": "code",
   "execution_count": null,
   "id": "d581fe8a-3a41-473e-915a-5c8ca9d8f8df",
   "metadata": {
    "tags": []
   },
   "outputs": [],
   "source": [
    "residuals = []\n",
    "avgpsfmag = []\n",
    "\n",
    "FLAG_PSF = False"
   ]
  },
  {
   "cell_type": "code",
   "execution_count": null,
   "id": "fb5f4517-680d-4e75-84b4-47a0cb089235",
   "metadata": {},
   "outputs": [],
   "source": [
    "       # relative color star1 - star2\n",
    "       #df_col_b1b2[\"psfcol12_s12\"] = np.abs(df_col_b1b2[\"psfcol12_s1\"] - df_col_b1b2[\"psfcol12_s2\"])\n",
    "       #df_col_b1b2[\"psfcol12Err_s12\"] = np.sqrt(df_col_b1b2[\"psfcol12Err_s1\"]**2 + df_col_b1b2[\"psfcol12Err_s2\"]**2)\n",
    "       #df_col_b1b2[\"apcol12_s12\"] = np.abs(df_col_b1b2[\"apcol12_s1\"] - df_col_b1b2[\"apcol12_s2\"])\n",
    "       #df_col_b1b2[\"apcol12Err_s12\"] = np.sqrt(df_col_b1b2[\"apcol12Err_s1\"]**2 + df_col_b1b2[\"apcol12Err_s2\"]**2)"
   ]
  },
  {
   "cell_type": "code",
   "execution_count": null,
   "id": "afefc750-6430-4e80-aff6-e6bdee78d3c3",
   "metadata": {
    "tags": []
   },
   "outputs": [],
   "source": [
    "import matplotlib.dates as mdates\n",
    "month_locator = mdates.MonthLocator(interval=1)\n",
    "day_locator = mdates.DayLocator(interval=1)\n",
    "year_month_formatter = mdates.DateFormatter(\"%Y-%m\") \n",
    "\n",
    "\n",
    "# loop on individual objects\n",
    "for idx,df in enumerate(all_df):\n",
    "    pair_num = idx\n",
    "          \n",
    "   \n",
    "    X = pd.to_datetime(df['time1'].values)  \n",
    "    \n",
    "    # convert in mmag\n",
    "    if FLAG_PSF:    \n",
    "        Y = df['psfcol12_s12'].values*1000.\n",
    "        Yerr = df['psfcol12Err_s12'].values*1000.        \n",
    "    else:  \n",
    "        Y = df['apcol12_s12'].values*1000.\n",
    "        Yerr = df['apcol12Err_s12'].values*1000.\n",
    "                 \n",
    "        \n",
    "    N = len(Y)\n",
    "    \n",
    "    if N<NMAX:\n",
    "        continue\n",
    "        \n",
    "    clippedMeanMagArray = scipy.stats.sigmaclip(Y, low=3.0, high=3.0).clipped\n",
    "    clippedMeanMag = np.mean(clippedMeanMagArray)\n",
    "    clippedMeanMagErr = np.std(clippedMeanMagArray)/np.sqrt(len(clippedMeanMagArray))\n",
    "    clippeErrorMagArray = scipy.stats.sigmaclip(Y-clippedMeanMag,low=3.0, high=3.0).clipped\n",
    "    clippeErrorMagSigma = (np.sqrt(np.sum(clippeErrorMagArray**2))/np.sqrt(len(clippeErrorMagArray)))\n",
    "\n",
    " \n",
    "    ## Plot the color light curve\n",
    "    \n",
    "    fig,ax = plt.subplots(1,1,figsize=(12,4))\n",
    "    \n",
    "    magmax = df[\"apmagmax_s12b1\"].mean()\n",
    "  \n",
    "    \n",
    "    avgpsfmag.append(magmax)\n",
    "    residuals.append(clippeErrorMagArray)\n",
    "              \n",
    "    label = f\" band {CBAND} : magmax({BAND1}) = {magmax:.1f} mag , rms = {clippeErrorMagSigma:.0f} mmag, N= {N}\"\n",
    "    ax.errorbar(X,(Y-clippedMeanMag),yerr=Yerr,fmt='.',lw=0.5,c=\"b\",ecolor=\"k\") \n",
    "    ax.scatter(X,Y-clippedMeanMag,marker='o',s=10,c=\"b\",label=label) \n",
    "    ax.xaxis.set_major_locator(month_locator) # Locator for major axis only.\n",
    "    ax.xaxis.set_minor_locator(day_locator)\n",
    "    ax.xaxis.set_major_formatter(year_month_formatter)\n",
    "    ax.set_xticks(ax.get_xticks(), ax.get_xticklabels(), rotation=45, ha='right')\n",
    "    ax.grid()\n",
    "        \n",
    "    if FLAG_PSF:  \n",
    "        ax.set_title(f\"Color {CBAND} psf Magnitude difference for pair {idx}\")\n",
    "          \n",
    "    else:\n",
    "        ax.set_title(f\"Color {CBAND} Aperture Magnitude difference for pair {idx}\")\n",
    "               \n",
    "                \n",
    "    ax.set_xlabel(\"date obs\") \n",
    "    ax.set_ylabel(\"dev (mmag)\") \n",
    "    ax.legend(loc=\"upper left\")\n",
    "    ax.set_ylim(-60,60)\n",
    "    plt.tight_layout()\n",
    "    plt.show()\n",
    "    \n",
    "  \n",
    "    \n",
    "    "
   ]
  },
  {
   "cell_type": "markdown",
   "id": "d584329c-4af4-4189-8b0a-54be4296f6be",
   "metadata": {
    "tags": []
   },
   "source": [
    "## Histograms"
   ]
  },
  {
   "cell_type": "code",
   "execution_count": null,
   "id": "537a745e-d336-4675-8c58-b54fd7c19677",
   "metadata": {
    "tags": []
   },
   "outputs": [],
   "source": [
    "thresholds = np.array([15.,16.,17.])\n",
    "histoList1 = []\n",
    "histoList2 = []\n",
    "histoList3 = []\n",
    "histoLists = [ histoList1, histoList2, histoList3]\n",
    "Nthr = len(thresholds)\n",
    "color=[\"b\",\"g\",\"r\"]"
   ]
  },
  {
   "cell_type": "code",
   "execution_count": null,
   "id": "7be22150-9feb-44c8-93c7-c834ca8b0a95",
   "metadata": {},
   "outputs": [],
   "source": [
    "the_list_of_LC_average = avgpsfmag\n",
    "the_list_of_LC_residuals = residuals\n",
    "NLC = len(the_list_of_LC_average)\n",
    "\n",
    "## Loop on threshold\n",
    "for ith,th in enumerate(thresholds):\n",
    "    for iobs in range(NLC):\n",
    "        mag = the_list_of_LC_average[iobs]\n",
    "        res = the_list_of_LC_residuals[iobs] \n",
    "        if mag < th:\n",
    "            histoLists[ith].append(res)"
   ]
  },
  {
   "cell_type": "code",
   "execution_count": null,
   "id": "93d87699-76dd-42ab-b7eb-e696b81df417",
   "metadata": {
    "tags": []
   },
   "outputs": [],
   "source": [
    "for ith,th in enumerate(thresholds):\n",
    "    print(ith,th,len(histoLists[ith]))\n",
    "    histoLists[ith] = np.hstack(histoLists[ith])\n",
    "    print(ith,th,len(histoLists[ith]))\n",
    " \n"
   ]
  },
  {
   "cell_type": "code",
   "execution_count": null,
   "id": "55f36d8c-31f5-418f-8efb-92bda42c2909",
   "metadata": {
    "tags": []
   },
   "outputs": [],
   "source": [
    "fig,ax = plt.subplots(1,1,figsize=(6,5))\n",
    "for ith,th in enumerate(thresholds):\n",
    "    data = histoLists[2-ith]\n",
    "    sigma = np.std(data)\n",
    "    m = thresholds[2-ith]\n",
    "    label = f\" m < {m:.1f} mag\\n$\\sigma$ = {sigma:.1f} mmag\"\n",
    "    ax.hist(data,bins=50,range=(-100,100),facecolor=color[2-ith],alpha=0.9,label=label)\n",
    "ax.legend(loc=\"upper left\")\n",
    "if FLAG_PSF:\n",
    "    ax.set_title(f\"Color curve residuals in band {CBAND} (PSF Flux)\")\n",
    "else:\n",
    "    ax.set_title(f\"Color curve residuals in band {CBAND} (Aperture Flux)\")\n",
    "\n",
    "ax.set_xlabel(\"residuals (mmag)\")"
   ]
  },
  {
   "cell_type": "code",
   "execution_count": null,
   "id": "535bf1ab-e1a9-4286-b96b-d0c81bc583ed",
   "metadata": {},
   "outputs": [],
   "source": []
  }
 ],
 "metadata": {
  "kernelspec": {
   "display_name": "conda_py310",
   "language": "python",
   "name": "conda_py310"
  },
  "language_info": {
   "codemirror_mode": {
    "name": "ipython",
    "version": 3
   },
   "file_extension": ".py",
   "mimetype": "text/x-python",
   "name": "python",
   "nbconvert_exporter": "python",
   "pygments_lexer": "ipython3",
   "version": "3.10.12"
  }
 },
 "nbformat": 4,
 "nbformat_minor": 5
}
