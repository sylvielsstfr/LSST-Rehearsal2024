{
 "cells": [
  {
   "cell_type": "markdown",
   "id": "5fb8b13a-5169-4188-9fb8-8bfb44518205",
   "metadata": {},
   "source": [
    "# Multi Color Light Curves  applied to LATISS\n",
    "\n",
    "\n",
    "based on notebook from Lauren macArthur\n",
    "\n",
    "\n",
    "- author Sylvie Dagoret-Campagne\n",
    "- creation date 2024-04-11\n",
    "- last update 2024-06-11 : update to ad Ap50\n",
    "\n",
    "\n",
    "  \n",
    "``Quantum Graphs``: https://tigress-web.princeton.edu/~lkelvin/pipelines/ \n",
    "\n",
    "\n",
    "https://tigress-web.princeton.edu/~lkelvin/pipelines/current/drp_pipe/LSSTComCamSim/nightly-validation-ops-rehearsal-3/\n",
    "\n",
    "``CalibrateTask``: \n",
    "https://github.com/lsst/pipe_tasks/blob/main/python/lsst/pipe/tasks/calibrate.py#L392-L399\n",
    "\n",
    "\n",
    "``Shemas``:\n",
    "https://dm.lsst.org/sdm_schemas/browser/"
   ]
  },
  {
   "cell_type": "code",
   "execution_count": null,
   "id": "3de4fd1f-8c60-4d0e-be77-c516b572c25a",
   "metadata": {},
   "outputs": [],
   "source": [
    "from lsst.daf.butler import Butler\n",
    "\n",
    "import astropy.units as u\n",
    "import numpy as np \n",
    "import pandas as pd\n",
    "pd.set_option(\"display.max_columns\", None)\n",
    "from astropy.time import Time\n",
    "\n",
    "import scipy.stats\n",
    "\n",
    "import matplotlib\n",
    "%matplotlib inline\n",
    "from matplotlib import pyplot as plt\n",
    "from mpl_toolkits.axes_grid1 import make_axes_locatable\n",
    "from matplotlib.colors import LogNorm,SymLogNorm\n",
    "from matplotlib.patches import Circle,Annulus\n",
    "\n",
    "import lsst.afw.display.rgb as afwRgb\n",
    "import lsst.afw.image as afwImage\n",
    "import lsst.geom as geom\n",
    "import pickle\n",
    "from astropy.stats import SigmaClip"
   ]
  },
  {
   "cell_type": "code",
   "execution_count": null,
   "id": "534790ff-0b3d-4d49-9d6f-30def6c6e816",
   "metadata": {},
   "outputs": [],
   "source": [
    "#xx-small\n",
    "#x-small\n",
    "#small\n",
    "#medium\n",
    "#large\n",
    "#x-large\n",
    "#xx-large\n",
    "\n",
    "plt.rcParams[\"figure.figsize\"] = (10,6)\n",
    "plt.rcParams[\"axes.labelsize\"] = 'x-large'\n",
    "plt.rcParams['axes.titlesize'] = 'x-large'\n",
    "plt.rcParams['xtick.labelsize']= 'x-large'\n",
    "plt.rcParams['ytick.labelsize']= 'x-large'"
   ]
  },
  {
   "cell_type": "code",
   "execution_count": null,
   "id": "c79d12f9-6908-438a-bb09-b604f39d2d4b",
   "metadata": {},
   "outputs": [],
   "source": [
    "from shapely.geometry import Point as shapelyPoint\n",
    "from shapely.geometry.polygon import Polygon as shapelyPolygon"
   ]
  },
  {
   "cell_type": "code",
   "execution_count": null,
   "id": "a681670d-59bc-482e-a4d1-8c8e4b7ff4f6",
   "metadata": {},
   "outputs": [],
   "source": [
    "def is_in_polygon(x,y,ll,lr,ur,ul):\n",
    "    point = shapelyPoint(x, y)\n",
    "    polygon = shapelyPolygon([ll, lr, ur, ul])\n",
    "    return polygon.contains(point)"
   ]
  },
  {
   "cell_type": "code",
   "execution_count": null,
   "id": "f4436a17-776e-47ce-b8b9-55d9f3930f80",
   "metadata": {},
   "outputs": [],
   "source": [
    "def angle_in_range(alpha, lower, upper):\n",
    "    return (alpha - lower) % 360 <= (upper - lower) % 360"
   ]
  },
  {
   "cell_type": "code",
   "execution_count": null,
   "id": "55b79a54-12ac-4db0-8dd4-5f04d020d151",
   "metadata": {},
   "outputs": [],
   "source": [
    "def isradec_inbbox_radec(ra,dec,ramin,ramax,decmin,decmax):\n",
    "    \"\"\"\n",
    "    Return the corners in RA,Dec in degrees given the WCS and bounding box for an image.\n",
    "\n",
    "    Parameters\n",
    "    ----------\n",
    "    ra: ra in degree\n",
    "    dec: dec in degree\n",
    "    wcs: image WCS returned by the Butler\n",
    "    bbox: bounding box returned by the Butler\n",
    "\n",
    "    Returns\n",
    "    -------\n",
    "    Bool\n",
    "    \n",
    "    \"\"\"\n",
    "\n",
    "\n",
    "    flag_ra = angle_in_range(ra,ramin,ramax)\n",
    "    flag_dec = angle_in_range(dec,decmin,decmax)\n",
    "\n",
    "    flag = flag_ra and flag_dec\n",
    "    return flag\n"
   ]
  },
  {
   "cell_type": "code",
   "execution_count": null,
   "id": "dfcfc3c9-242a-4016-bad7-4e0a12acd3d8",
   "metadata": {},
   "outputs": [],
   "source": [
    "def get_corners_radec(wcs, bbox):\n",
    "    \"\"\"\n",
    "    Return the corners in RA,Dec in degrees given the WCS and bounding box for an image.\n",
    "\n",
    "    Parameters\n",
    "    ----------\n",
    "    wcs: image WCS returned by the Butler\n",
    "    bbox: bounding box returned by the Butler\n",
    "\n",
    "    Returns\n",
    "    -------\n",
    "    corners_ra, corners_dec in decimal degrees\n",
    "    \"\"\"\n",
    "\n",
    "    corners_x = [bbox.beginX, bbox.beginX, bbox.endX, bbox.endX]\n",
    "    corners_y = [bbox.beginY, bbox.endY, bbox.endY, bbox.beginY]\n",
    "    corners_ra = []\n",
    "    corners_dec = []\n",
    "    for i in range(4):\n",
    "        radec = wcs.pixelToSky(corners_x[i], corners_y[i])\n",
    "        corners_ra.append(radec.getRa().asDegrees())\n",
    "        corners_dec.append(radec.getDec().asDegrees())\n",
    "    \n",
    "    return corners_ra, corners_dec"
   ]
  },
  {
   "cell_type": "code",
   "execution_count": null,
   "id": "12e89c3a",
   "metadata": {},
   "outputs": [],
   "source": [
    "saveDir = \"./lc_output_dmrehearsal2024-latiss\"\n",
    "doSaveFigs = False  # set to True if you actually want to save the figures in the above dir"
   ]
  },
  {
   "cell_type": "code",
   "execution_count": null,
   "id": "ff630ae4",
   "metadata": {},
   "outputs": [],
   "source": [
    "# Set some selections for reliable data\n",
    "minNumMatches = 3\n",
    "minSnCalibFlux =  50 #100"
   ]
  },
  {
   "cell_type": "code",
   "execution_count": null,
   "id": "313383f9",
   "metadata": {},
   "outputs": [],
   "source": [
    "# INSERT YOUR collection and tract\n",
    "# for rehearsal use collection 2 which have CCDvisit\n",
    "butlerRoot = \"/repo/embargo\"\n",
    "\n",
    "collection1 = 'LSSTComCamSim/runs/nightlyvalidation/20240402/d_2024_03_29/DM-43612'\n",
    "collection2 = 'LSSTComCamSim/runs/nightlyvalidation/20240403/d_2024_03_29/DM-43612'\n",
    "collection3 = 'LSSTComCamSim/runs/nightlyvalidation/20240404/d_2024_03_29/DM-43612'\n",
    "#collection = 'LATISS/runs/AUXTEL_DRP_IMAGING_20230509_20240311/w_2024_10/PREOPS-4985'\n",
    "collection = 'LATISS/runs/AUXTEL_DRP_IMAGING_20230509_20240414/w_2024_15/PREOPS-5069' # COMPLETED Still OK today 2024/06/07\n",
    "collectionn = collection\n",
    "#collections = [collection1,collection2,collection3]\n",
    "collections = [collection]\n",
    "collectionStr = collectionn.replace(\"/\", \"_\")\n",
    "instrument = 'LATISS'\n",
    "skymapName = \"latiss_v1\"\n",
    "where_clause = \"instrument = \\'\" + instrument+ \"\\'\"\n",
    "tract = 3864 # mostly for light-curves\n",
    "#tract = 5615\n",
    "# tract = 5634 # interesting to view calib parameters\n",
    "suptitle = collectionStr + f\" inst = {instrument} tract = {tract}\"\n",
    "\n",
    "#Aperture flux in instrumental\n",
    "calibFluxStr = \"apFlux_35_0_instFlux\"\n",
    "calibFluxErrStr = \"apFlux_35_0_instFluxErr\"\n",
    "calibFluxMagStr = \"apFlux_35_0_instMag\"\n",
    "calibFluxMagErrStr = \"apFlux_35_0_instMagErr\"\n",
    "\n",
    "\n",
    "#Aperture flux in instrumental\n",
    "calibFluxStr2 = \"apFlux_50_0_instFlux\"\n",
    "calibFluxErrStr2 = \"apFlux_50_0_instFluxErr\"\n",
    "calibFluxMagStr2 = \"apFlux_50_0_instMag\"\n",
    "calibFluxMagErrStr2 = \"apFlux_50_0_instMagErr\"\n",
    "\n",
    "#Aperture flux calibrated calibrated in AB\n",
    "calibFluxCalStr = \"apFlux_35_0_calFlux\"\n",
    "calibFluxCalErrStr = \"apFlux_35_0_calFluxErr\"\n",
    "calibFluxCalMagStr = \"apFlux_35_0_calMag\"\n",
    "calibFluxCalMagErrStr = \"apFlux_35_0_calMagErr\"\n",
    "\n",
    "#Aperture flux calibrated calibrated in AB\n",
    "calibFluxCalStr2 = \"apFlux_50_0_calFlux\"\n",
    "calibFluxCalErrStr2 = \"apFlux_50_0_calFluxErr\"\n",
    "calibFluxCalMagStr2 = \"apFlux_50_0_calMag\"\n",
    "calibFluxCalMagErrStr2 = \"apFlux_50_0_calMagErr\"\n",
    "\n",
    "\n",
    "file_output_selectedsources = f\"lightcurves-dmrehearsal2024_04_03-latiss-tract{tract}.csv\"\n",
    "fullname_file_output_selectedsources = os.path.join(saveDir,file_output_selectedsources)"
   ]
  },
  {
   "cell_type": "markdown",
   "id": "ed31cddb-dfe0-425d-b1d3-b45fb2d3482a",
   "metadata": {},
   "source": [
    "## Initiate butler from variables set above"
   ]
  },
  {
   "cell_type": "code",
   "execution_count": null,
   "id": "36adc6e2-03ab-4642-9955-02be089091ef",
   "metadata": {},
   "outputs": [],
   "source": [
    "# Initiate butler from variables set above\n",
    "butler = Butler(butlerRoot, collections=collections, instrument=instrument, skymap=skymapName)\n",
    "camera = butler.get(\"camera\", instrument=instrument)\n",
    "skymap = butler.get(\"skyMap\")\n",
    "print(\"camera_name = {}\".format(camera.getName()))\n",
    "print(\"collections = {}\".format(collections))"
   ]
  },
  {
   "cell_type": "markdown",
   "id": "2cfc46cc-47af-4a18-ac72-aef517f0ce7d",
   "metadata": {},
   "source": [
    "## load isolated_star_sources"
   ]
  },
  {
   "cell_type": "code",
   "execution_count": null,
   "id": "c8cbc8e2-711b-4175-92c3-61aa37beee5b",
   "metadata": {},
   "outputs": [],
   "source": [
    "# Try to get the Schema\n",
    "all_tracts = []\n",
    "data_product = \"isolated_star_sources\"\n",
    "datasetRefs = butler.registry.queryDatasets(datasetType=data_product, collections=collections, where= where_clause)\n",
    "for i, ref in enumerate(datasetRefs):\n",
    "    print(i,ref.dataId)\n",
    "    all_tracts.append(ref.dataId[\"tract\"])\n",
    "    #butler_data = butler.get(ref)\n",
    "\n",
    "all_tracts = sorted(all_tracts)\n",
    "print(\"all tracts : \", all_tracts)\n",
    "\n",
    "#if not isinstance(butler_data, pd.core.frame.DataFrame):\n",
    "#    print(butler_data.getSchema())"
   ]
  },
  {
   "cell_type": "markdown",
   "id": "122dcf42-a6bd-4c49-b336-39e861c9c5e4",
   "metadata": {},
   "source": [
    "## isolated_star_sources Keeping all bands here, but keep the tract selection\n",
    "\n",
    "The main starting point is the table of isolated_star_sources which has been constructed in step 2a from a catalog\n",
    "Note that isolated star sources are associated to an object (a static starobject)\n",
    "Here the work is doneband by band.\n",
    "It is a good idea to work band by band."
   ]
  },
  {
   "cell_type": "code",
   "execution_count": null,
   "id": "8856e2a2",
   "metadata": {},
   "outputs": [],
   "source": [
    "# Load in isolated_star_sources and trim to band of interest and select the tract\n",
    "isolatedStarSourcesFull = butler.get(\"isolated_star_sources\", tract=tract)\n",
    "#isolatedStarSourcesFull = isolatedStarSourcesFull[isolatedStarSourcesFull[\"band\"] == band]"
   ]
  },
  {
   "cell_type": "code",
   "execution_count": null,
   "id": "450bca82-7431-4b60-b85c-b110197285e5",
   "metadata": {},
   "outputs": [],
   "source": [
    "tract"
   ]
  },
  {
   "cell_type": "code",
   "execution_count": null,
   "id": "de5544aa-e9dc-45bc-a172-a6592b0c4a57",
   "metadata": {},
   "outputs": [],
   "source": [
    "len(isolatedStarSourcesFull)"
   ]
  },
  {
   "cell_type": "code",
   "execution_count": null,
   "id": "6870648f-3609-440d-8eea-69885e264602",
   "metadata": {},
   "outputs": [],
   "source": [
    "# Just to have a look at what's in the catalog:\n",
    "isolatedStarSourcesFull[isolatedStarSourcesFull.index == 0]"
   ]
  },
  {
   "cell_type": "code",
   "execution_count": null,
   "id": "773ffada-3c31-4e62-b15b-b67926fc6c08",
   "metadata": {},
   "outputs": [],
   "source": [
    "isolatedStarSourcesFull.head()"
   ]
  },
  {
   "cell_type": "code",
   "execution_count": null,
   "id": "c5b25eeb-5b8c-4b49-b556-496198adf8a5",
   "metadata": {},
   "outputs": [],
   "source": [
    "isolatedStarSourcesFull.tail()"
   ]
  },
  {
   "cell_type": "code",
   "execution_count": null,
   "id": "1674462b-8b58-4dde-8086-5e7249ad7290",
   "metadata": {},
   "outputs": [],
   "source": [
    "isolatedStarSourcesFull.columns"
   ]
  },
  {
   "cell_type": "code",
   "execution_count": null,
   "id": "160b31e8-e76e-474e-adc5-4ad19833fd71",
   "metadata": {},
   "outputs": [],
   "source": [
    "#print(sorted(isolatedStarSourcesFull[\"visit\"].unique()))"
   ]
  },
  {
   "cell_type": "code",
   "execution_count": null,
   "id": "05cd1b17-9aea-4362-a278-97da5377d4c6",
   "metadata": {},
   "outputs": [],
   "source": [
    "# Just to have a look at what's in the catalog:\n",
    "isolatedStarSourcesFull[isolatedStarSourcesFull.index == 0]"
   ]
  },
  {
   "cell_type": "code",
   "execution_count": null,
   "id": "dadab2ff-40f2-4cb3-8048-d873c0b89f19",
   "metadata": {},
   "outputs": [],
   "source": [
    "print(\"calibFluxStr = {},,minSnCalibFlux = {}, minNumMatches = {}\".format(calibFluxStr,minSnCalibFlux,minNumMatches))"
   ]
  },
  {
   "cell_type": "markdown",
   "id": "da9344e8-96c4-4317-83c9-b65522db1c8b",
   "metadata": {},
   "source": [
    "## Select a number of visits with enough good sources but in all bands here\n",
    "\n",
    "- extract the list of known objects"
   ]
  },
  {
   "cell_type": "code",
   "execution_count": null,
   "id": "0894cc5c-0907-4a41-9927-492a871ec300",
   "metadata": {},
   "outputs": [],
   "source": [
    "calibFluxStr"
   ]
  },
  {
   "cell_type": "code",
   "execution_count": null,
   "id": "0c681a8d-2485-4f2e-b005-ee7d9a44a3be",
   "metadata": {},
   "outputs": [],
   "source": [
    "minSnCalibFlux"
   ]
  },
  {
   "cell_type": "code",
   "execution_count": null,
   "id": "60e9fbfd",
   "metadata": {},
   "outputs": [],
   "source": [
    "# Trim the isolated_star_sources cat to those PSF S/N > minSnCalibFlux\n",
    "# and number of matches sources > minNumMatches.\n",
    "objIndexListFull = list(set(isolatedStarSourcesFull[\"obj_index\"].values))\n",
    "\n",
    "# Select the bright stars above a minimum of S/N ratio\n",
    "if minSnCalibFlux is not None:\n",
    "    snCalibFlux = isolatedStarSourcesFull[calibFluxStr]/isolatedStarSourcesFull[calibFluxStr + \"Err\"]\n",
    "    snMask = snCalibFlux > minSnCalibFlux\n",
    "    isolatedStarSourcesMinSn = isolatedStarSourcesFull[snMask].copy(deep=True)\n",
    "else:\n",
    "    isolatedStarSourcesMinSn = isolatedStarSourcesFull.copy(deep=True)\n",
    "\n",
    "# object index with obj index in above selected bright selected star\n",
    "objIndexListMinSn = list(set(isolatedStarSourcesMinSn[\"obj_index\"].values))\n",
    "\n",
    "# requires that the object is associated to several sources (at least minNumMatches sources)\n",
    "# loop on object having sources with S/N aboe selection \n",
    "objIndexList = []\n",
    "for objIndex in objIndexListMinSn:\n",
    "    objData = isolatedStarSourcesMinSn[isolatedStarSourcesMinSn[\"obj_index\"] == objIndex]\n",
    "    if len(objData) >= minNumMatches:\n",
    "        objIndexList.append(objIndex)\n",
    "numTrimmed = len(objIndexListFull) - len(objIndexList)\n",
    "\n",
    "mask = []\n",
    "for objIndex, visit in zip(isolatedStarSourcesMinSn[\"obj_index\"], isolatedStarSourcesMinSn[\"visit\"]):\n",
    "    if objIndex in objIndexList:\n",
    "        mask.append(True)\n",
    "    else:\n",
    "        mask.append(False)\n",
    "isolatedStarSources = isolatedStarSourcesMinSn[mask].copy(deep=True)\n",
    "\n",
    "# Select a number of visits according quality criteria\n",
    "visitList = list(set(isolatedStarSources[\"visit\"].values))\n",
    "\n",
    "if minSnCalibFlux is not None:\n",
    "    print(\"Trimmed isolated_star_sources catalog to S/N {} > {} (leaving N={} matched sources from original {})\".format(\n",
    "        calibFluxStr, minSnCalibFlux, len(isolatedStarSources), len(isolatedStarSourcesFull)))\n",
    "print(\"Trimmed isolated_star_sources catalog to objecst with nMatches >= {} (leaving {} objects from {}).\".format(\n",
    "    minNumMatches, len(objIndexList), len(objIndexListFull)))"
   ]
  },
  {
   "cell_type": "code",
   "execution_count": null,
   "id": "0258c3d3-7781-4440-b1cb-40832fff1326",
   "metadata": {},
   "outputs": [],
   "source": [
    "sorted_visitList = sorted(visitList)\n",
    "#sorted_visitList "
   ]
  },
  {
   "cell_type": "code",
   "execution_count": null,
   "id": "b1566990-7330-4b3d-8433-c8b811df4dd9",
   "metadata": {},
   "outputs": [],
   "source": [
    "def convertVisitToDatestr(visit):\n",
    "\n",
    "    num = visit//100_000\n",
    "    year = num//10_000\n",
    "    month= (num-year*10_000)//100\n",
    "    day = (num-year*10_000-month*100)\n",
    "\n",
    "    year_str = str(year).zfill(4)\n",
    "    month_str = str(month).zfill(2)\n",
    "    day_str = str(day).zfill(2)\n",
    "    \n",
    "    datestr = f\"{year_str}-{month_str}-{day_str}\"\n",
    "    return datestr"
   ]
  },
  {
   "cell_type": "code",
   "execution_count": null,
   "id": "e78a9cdd-1906-4b11-90b6-ac09ca7689b1",
   "metadata": {},
   "outputs": [],
   "source": [
    "def convertVisitToMJD(visit):\n",
    "    return Time(convertVisitToDatestr(visit)).mjd"
   ]
  },
  {
   "cell_type": "code",
   "execution_count": null,
   "id": "ebfc17b1-4874-4343-accb-2d0763a0f677",
   "metadata": {},
   "outputs": [],
   "source": [
    "sorted_visits_mjd = list(map(convertVisitToMJD, sorted_visitList))"
   ]
  },
  {
   "cell_type": "markdown",
   "id": "93fecc9f-d378-4b8d-9625-1e54e499f1db",
   "metadata": {},
   "source": [
    "## sourceTable_visit\n",
    "\n",
    "This is the main output of FGCM calibration which has selected a number of sources. These sources were originally selected from isolated sources."
   ]
  },
  {
   "cell_type": "code",
   "execution_count": null,
   "id": "db71f9f1",
   "metadata": {},
   "outputs": [],
   "source": [
    "# Extra columns to load from sourceTable_visit catalogs\n",
    "names = [\"psfFlux\", \"psfFluxErr\", \"psfFlux_flag\", \"psfFlux_apCorr\", \"psfFlux_apCorrErr\",\n",
    "         \"extendedness\", \"detect_isPrimary\", \"deblend_skipped\",\n",
    "         \"gaussianFlux\", \"gaussianFluxErr\", \"gaussianFlux_flag\",\n",
    "         \"localPhotoCalib\", \"localPhotoCalibErr\", \"localPhotoCalib_flag\"]"
   ]
  },
  {
   "cell_type": "markdown",
   "id": "c208ad09-925e-4fcb-9ebf-5d9967886d5e",
   "metadata": {},
   "source": [
    "## Note that some sourceTable_visit not found for some visits in isolated_star_sources "
   ]
  },
  {
   "cell_type": "code",
   "execution_count": null,
   "id": "831061be-bb2c-48f5-8dda-82d66a25c71a",
   "metadata": {},
   "outputs": [],
   "source": [
    "#visitList"
   ]
  },
  {
   "cell_type": "code",
   "execution_count": null,
   "id": "638a0e06",
   "metadata": {},
   "outputs": [],
   "source": [
    "# Load in the sourceTable_visit catalogs to get the psfFlux and other useful info per source.\n",
    "# Columns loaded are those in names above.\n",
    "# The selected sources from the sourceTable_visit will go in a list inside the sourceCatalog\n",
    "sourceCatalogs = []\n",
    "nSourceDict = {}\n",
    "visitsToRemove = []\n",
    "\n",
    "# loop over all selected visit and load sourceTable_visit visit per visit\n",
    "for visit in visitList:\n",
    "    try:\n",
    "        sourceCatalogOrig = butler.get(\"sourceTable_visit\", visit=visit, parameters={\"columns\": names})\n",
    "        primaryCat = sourceCatalogOrig[sourceCatalogOrig[\"detect_isPrimary\"]].copy(deep=True)\n",
    "        nSourceDict[visit] = sum(primaryCat[\"psfFlux\"]/primaryCat[\"psfFluxErr\"] > 5)\n",
    "        sourceCatalogs.append(primaryCat)\n",
    "    except LookupError:\n",
    "        print(\"sourceTable_visit not found for visit {}\".format(visit))\n",
    "        isolatedStarSources = isolatedStarSources[isolatedStarSources[\"visit\"] != visit].copy(deep=True)\n",
    "        visitsToRemove.append(visit)\n",
    "visitList = list(set(visitList) - set(visitsToRemove))\n",
    "\n",
    "# Do the minNumMatches cut again since visits may have been removed due to lack of sourceTable_visit\n",
    "print(\"Number of objects with >=3 matches before sourceTable_visit exsistence check: {}\".format(len(objIndexList)))\n",
    "objIndexListAllNew = list(set(isolatedStarSources[\"obj_index\"].values))\n",
    "objIndexList = []\n",
    "for objIndex in objIndexListAllNew:\n",
    "    objData = isolatedStarSources[isolatedStarSources[\"obj_index\"] == objIndex]\n",
    "    if len(objData) >= minNumMatches:\n",
    "        objIndexList.append(objIndex)\n",
    "mask = []\n",
    "for objIndex, visit in zip(isolatedStarSources[\"obj_index\"], isolatedStarSources[\"visit\"]):\n",
    "    if objIndex in objIndexList:\n",
    "        mask.append(True)\n",
    "    else:\n",
    "        mask.append(False)\n",
    "isolatedStarSources = isolatedStarSources[mask].copy(deep=True)\n",
    "visitList = list(set(isolatedStarSources[\"visit\"].values))\n",
    "print(\"Number of objects with >=3 matches after sourceTable_visit exsistence check: {}\".format(len(objIndexList)))\n",
    "dataJoined = pd.concat(sourceCatalogs).merge(isolatedStarSources, on=\"sourceId\", how=\"inner\")"
   ]
  },
  {
   "cell_type": "code",
   "execution_count": null,
   "id": "ac91d0ce-2ac8-4f90-b315-bb7a97f9f44d",
   "metadata": {},
   "outputs": [],
   "source": [
    "len(sourceCatalogs)"
   ]
  },
  {
   "cell_type": "code",
   "execution_count": null,
   "id": "3d070e59-201a-4f3d-ad99-2b2ca3bd2e31",
   "metadata": {},
   "outputs": [],
   "source": [
    "#nSourceDict"
   ]
  },
  {
   "cell_type": "code",
   "execution_count": null,
   "id": "ba968c36-32ae-4124-80fc-69f6c115af2e",
   "metadata": {},
   "outputs": [],
   "source": [
    "#visitList"
   ]
  },
  {
   "cell_type": "code",
   "execution_count": null,
   "id": "b7a2acc3-cf74-4345-a293-c9d887f98eb9",
   "metadata": {},
   "outputs": [],
   "source": [
    "visitsToRemove "
   ]
  },
  {
   "cell_type": "markdown",
   "id": "da99b858-3add-4a24-8361-c61369ff31c8",
   "metadata": {
    "execution": {
     "iopub.execute_input": "2024-03-06T16:09:45.477682Z",
     "iopub.status.busy": "2024-03-06T16:09:45.477549Z",
     "iopub.status.idle": "2024-03-06T16:09:45.489584Z",
     "shell.execute_reply": "2024-03-06T16:09:45.489237Z",
     "shell.execute_reply.started": "2024-03-06T16:09:45.477669Z"
    }
   },
   "source": [
    "## Will start to work on dataJoined which associate selected \"isolated_star_sources\" in the selected band and visits the good calibration in \"sourceTable_visit\""
   ]
  },
  {
   "cell_type": "markdown",
   "id": "f219f59b-1c36-4bc1-aa41-ac481f96f74e",
   "metadata": {
    "execution": {
     "iopub.execute_input": "2024-02-29T10:26:18.613944Z",
     "iopub.status.busy": "2024-02-29T10:26:18.613360Z",
     "iopub.status.idle": "2024-02-29T10:26:18.648236Z",
     "shell.execute_reply": "2024-02-29T10:26:18.647844Z",
     "shell.execute_reply.started": "2024-02-29T10:26:18.613928Z"
    }
   },
   "source": [
    "### retrieve the CCD Visit Table\n",
    "\n",
    "- it provides airmass and initial zero-point"
   ]
  },
  {
   "cell_type": "code",
   "execution_count": null,
   "id": "cd30aa6b-e263-4e19-9ca3-b3c7c447b7fa",
   "metadata": {},
   "outputs": [],
   "source": [
    "ccdVisitTable = butler.get(\"ccdVisitTable\")"
   ]
  },
  {
   "cell_type": "code",
   "execution_count": null,
   "id": "3708af94-dfe9-4518-9409-0b723a72d732",
   "metadata": {},
   "outputs": [],
   "source": [
    "ccdVisitTable"
   ]
  },
  {
   "cell_type": "code",
   "execution_count": null,
   "id": "c579afda-9128-4bc6-a577-7cee07fe2111",
   "metadata": {},
   "outputs": [],
   "source": [
    "ccdVisitTable_subset = ccdVisitTable.iloc[:20][[\"visitId\",\"detector\",\"band\"]]\n",
    "ccdVisitTable_subset"
   ]
  },
  {
   "cell_type": "code",
   "execution_count": null,
   "id": "6e6ae010-b027-472f-8063-1514bb4152d4",
   "metadata": {},
   "outputs": [],
   "source": [
    "ccdVisitTable.groupby([\"visitId\",\"ccdVisitId\",\"detector\"]).size()"
   ]
  },
  {
   "cell_type": "code",
   "execution_count": null,
   "id": "de423eae-56bc-44e3-993c-d79bc15225d3",
   "metadata": {},
   "outputs": [],
   "source": [
    "for visit in visitList:\n",
    "    if visit in ccdVisitTable[\"visitId\"].values:\n",
    "        print(ccdVisitTable[ccdVisitTable[\"visitId\"] == visit][\"zeroPoint\"])\n",
    "        print(ccdVisitTable[ccdVisitTable[\"visitId\"] == visit][\"detector\"])\n",
    "        break"
   ]
  },
  {
   "cell_type": "code",
   "execution_count": null,
   "id": "85790b46-5b68-49e4-ae91-9ccf5dba5ce5",
   "metadata": {},
   "outputs": [],
   "source": [
    "ccdVisitTable[\"airmass\"] = ccdVisitTable[\"zenithDistance\"].apply(lambda x: 1/np.cos(np.pi/180.*x))\n",
    "ccdVisitTable[\"medianE\"] = np.sqrt(ccdVisitTable[\"psfStarDeltaE1Median\"] ** 2.0 + ccdVisitTable[\"psfStarDeltaE2Median\"] ** 2.0)"
   ]
  },
  {
   "cell_type": "markdown",
   "id": "c654cbfd-cd15-45a1-a791-366d8cc1f91c",
   "metadata": {},
   "source": [
    "#### The following lines are removed on purpose as we have the function findCCDVisitPerSource that is called instead"
   ]
  },
  {
   "cell_type": "code",
   "execution_count": null,
   "id": "b0db3e84",
   "metadata": {},
   "outputs": [],
   "source": [
    "# Collect useful columns from ccdVisitTable\n",
    "# This is wrong when we have several detectors per visit\n",
    "if 0:\n",
    "    visitsCCDToRemove = []\n",
    "\n",
    "    #Note there is one value per detector\n",
    "    psfSigmaDict = {}\n",
    "    skyBgDict = {}\n",
    "    skyNoiseDict = {}\n",
    "    expTimeDict = {}\n",
    "    expMidptMjdDict = {}\n",
    "    medianEDict = {}\n",
    "    psfStarScaledDeltaSizeScatterDict = {}\n",
    "    astromOffsetStdDict = {}\n",
    "    psfTraceRadiusDeltaDict = {}\n",
    "    zeroPointDict = {}\n",
    "    airmassDict = {}\n",
    "    seeingDict = {}\n",
    "    npsfStarsDict = {}\n",
    "    psfSigmaDict = {}\n",
    "\n",
    "    # for visit in ccdVisitTable[\"visitId\"].values:\n",
    "    #     if visit in visitList:\n",
    "    for visit in visitList:\n",
    "        if visit in ccdVisitTable[\"visitId\"].values:\n",
    "            psfSigmaDict[visit] = ccdVisitTable[ccdVisitTable[\"visitId\"] == visit][\"psfSigma\"].values[0]\n",
    "            skyBgDict[visit] = ccdVisitTable[ccdVisitTable[\"visitId\"] == visit][\"skyBg\"].values[0]\n",
    "            skyNoiseDict[visit] = ccdVisitTable[ccdVisitTable[\"visitId\"] == visit][\"skyNoise\"].values[0]\n",
    "            expTimeDict[visit] = ccdVisitTable[ccdVisitTable[\"visitId\"] == visit][\"expTime\"].values[0]\n",
    "            expMidptMjdDict[visit] = ccdVisitTable[ccdVisitTable[\"visitId\"] == visit][\"expMidptMJD\"].values[0]\n",
    "            medianEDict[visit] = ccdVisitTable[ccdVisitTable[\"visitId\"] == visit][\"medianE\"].values[0]\n",
    "            psfStarScaledDeltaSizeScatterDict[visit] = ccdVisitTable[ccdVisitTable[\"visitId\"] == visit][\"psfStarScaledDeltaSizeScatter\"].values[0]\n",
    "            astromOffsetStdDict[visit] = ccdVisitTable[ccdVisitTable[\"visitId\"] == visit][\"astromOffsetStd\"].values[0]\n",
    "            psfTraceRadiusDeltaDict[visit] = ccdVisitTable[ccdVisitTable[\"visitId\"] == visit][\"psfTraceRadiusDelta\"].values[0]\n",
    "            zeroPointDict[visit] = ccdVisitTable[ccdVisitTable[\"visitId\"] == visit][\"zeroPoint\"].values[0]\n",
    "            airmassDict[visit] = ccdVisitTable[ccdVisitTable[\"visitId\"] == visit][\"airmass\"].values[0]\n",
    "            seeingDict[visit] = ccdVisitTable[ccdVisitTable[\"visitId\"] == visit][\"seeing\"].values[0]\n",
    "            npsfStarsDict[visit] = ccdVisitTable[ccdVisitTable[\"visitId\"] == visit][\"nPsfStar\"].values[0]\n",
    "           \n",
    "\n",
    "        else:\n",
    "            #raise RuntimeError(\"ERROR: visit {} not found in ccdVisitTable\".format(visit))\n",
    "            print(\"ERROR: CCD visit {} not found in ccdVisitTable\".format(visit))\n",
    "            visitsCCDToRemove.append(visit) \n",
    "            psfSigmaDict[visit] = np.nan\n",
    "            skyBgDict[visit] = np.nan\n",
    "            skyNoiseDict[visit] = np.nan\n",
    "            expTimeDict[visit] = np.nan\n",
    "            expMidptMjdDict[visit] = np.nan\n",
    "            medianEDict[visit] = np.nan\n",
    "            psfStarScaledDeltaSizeScatterDict[visit] = np.nan\n",
    "            astromOffsetStdDict[visit] = np.nan\n",
    "            psfTraceRadiusDeltaDict[visit] = np.nan\n",
    "            zeroPointDict[visit] = np.nan\n",
    "            airmassDict[visit] = np.nan\n",
    "            seeingDict[visit] = np.nan\n",
    "            npsfStarsDict[visit] = np.nan\n",
    "          "
   ]
  },
  {
   "cell_type": "code",
   "execution_count": null,
   "id": "fb0df495-7b6c-4955-bb9e-ce5e3adc6766",
   "metadata": {},
   "outputs": [],
   "source": [
    "#visitList"
   ]
  },
  {
   "cell_type": "code",
   "execution_count": null,
   "id": "072a0b02-b8ea-4e46-aab7-a43dfe6fa760",
   "metadata": {},
   "outputs": [],
   "source": [
    "#visitsToRemove "
   ]
  },
  {
   "cell_type": "code",
   "execution_count": null,
   "id": "fa595417",
   "metadata": {},
   "outputs": [],
   "source": [
    "# Just to have a look at what's in the catalog:\n",
    "#ccdVisitTable[ccdVisitTable.index == ccdVisitTable.index[0]] "
   ]
  },
  {
   "cell_type": "markdown",
   "id": "4f746c17-519f-4070-b4aa-3ea31f375350",
   "metadata": {},
   "source": [
    "### Plot visits versus time"
   ]
  },
  {
   "cell_type": "code",
   "execution_count": null,
   "id": "185d3e42-3c2d-4936-b36b-6c1d1871f8c1",
   "metadata": {},
   "outputs": [],
   "source": [
    "ccdVisitTable_subset = ccdVisitTable[[\"visitId\",\"band\",\"zeroPoint\",\"psfSigma\",\"skyBg\",\"skyNoise\",\"seeing\",\"expMidptMJD\",\"obsStart\",\"airmass\",\"llcra\",\"llcdec\",\"ulcra\",\"ulcdec\",\"urcra\",\"urcdec\",\"lrcra\",\"lrcdec\"]]"
   ]
  },
  {
   "cell_type": "markdown",
   "id": "ed21ff6e-0700-4aea-b2f3-ede77c64cfcb",
   "metadata": {},
   "source": [
    "#### compute nightObs and datetime time"
   ]
  },
  {
   "cell_type": "code",
   "execution_count": null,
   "id": "96469585-180b-45bb-8bc7-03d8b17d5cde",
   "metadata": {},
   "outputs": [],
   "source": [
    "ccdVisitTable_subset[\"nightObs\"] =ccdVisitTable_subset.apply(lambda x: x['visitId']//100_000, axis=1)\n",
    "ccdVisitTable_subset[\"Time\"] = pd.to_datetime(ccdVisitTable_subset['obsStart'])"
   ]
  },
  {
   "cell_type": "code",
   "execution_count": null,
   "id": "a2550a1a-3b0e-4e38-9a0a-96e7873aa117",
   "metadata": {},
   "outputs": [],
   "source": [
    "ccdVisitTable_g = ccdVisitTable_subset[ccdVisitTable_subset.band== \"g\"]\n",
    "ccdVisitTable_r = ccdVisitTable_subset[ccdVisitTable_subset.band== \"r\"]\n",
    "ccdVisitTable_i = ccdVisitTable_subset[ccdVisitTable_subset.band== \"i\"]\n",
    "ccdVisitTable_z = ccdVisitTable_subset[ccdVisitTable_subset.band== \"z\"]\n",
    "ccdVisitTable_y = ccdVisitTable_subset[ccdVisitTable_subset.band== \"y\"]"
   ]
  },
  {
   "cell_type": "code",
   "execution_count": null,
   "id": "cb4519a1-a9aa-491f-b894-f8c01368bb10",
   "metadata": {},
   "outputs": [],
   "source": [
    "ccdVisitTable_subset.head()"
   ]
  },
  {
   "cell_type": "code",
   "execution_count": null,
   "id": "2adfb6c4-c5a5-4652-aa66-0069524a5e05",
   "metadata": {},
   "outputs": [],
   "source": [
    "ccdVisitTable_subset.tail()"
   ]
  },
  {
   "cell_type": "markdown",
   "id": "60144129-4b5f-4584-8369-a38a91b7bf06",
   "metadata": {},
   "source": [
    "### Search for removed visit in CCD Visit Tables"
   ]
  },
  {
   "cell_type": "code",
   "execution_count": null,
   "id": "d0ff9eee-2b08-4192-8acb-4a89cdedb92a",
   "metadata": {},
   "outputs": [],
   "source": [
    "ccdVisitTable_subset[\"removed\"] = ccdVisitTable_subset[\"visitId\"].apply(lambda x: True if x in visitsToRemove else False) \n",
    "ccdVisitTable_subset_removed = ccdVisitTable_subset[ccdVisitTable_subset[\"removed\"]] \n",
    "ccdVisitTable_subset_removed "
   ]
  },
  {
   "cell_type": "markdown",
   "id": "a9d427f2-1c66-404c-a4ff-cf2297ba0499",
   "metadata": {},
   "source": [
    "#### Thus the visit IN isolated-star_sources and MISSING in sourceTable are also NOT in ccdVisitTable !!!"
   ]
  },
  {
   "cell_type": "code",
   "execution_count": null,
   "id": "9ec1948a-7d9f-4f00-8c5e-a5bed1a0a2d6",
   "metadata": {},
   "outputs": [],
   "source": [
    "# function of time conversion\n",
    "from astropy.time import Time\n",
    "\n",
    "def dt_to_mjd(dt):\n",
    "    t = Time(dt)\n",
    "    return t.to_value('mjd','float')\n",
    "\n",
    "def mjd_to_dt(mjd):\n",
    "    tm = Time(mjd, format='mjd')\n",
    "    # Convert to datetime\n",
    "    utc =tm.to_datetime()\n",
    "    return utc"
   ]
  },
  {
   "cell_type": "code",
   "execution_count": null,
   "id": "d2997460-053c-41ee-a7ee-fe3e3ec3dd1f",
   "metadata": {},
   "outputs": [],
   "source": [
    "dt = ccdVisitTable_subset.iloc[0]['Time']\n",
    "dt"
   ]
  },
  {
   "cell_type": "code",
   "execution_count": null,
   "id": "4fff423a-2b28-4284-94ae-4606b42e94de",
   "metadata": {},
   "outputs": [],
   "source": [
    "type(dt)"
   ]
  },
  {
   "cell_type": "code",
   "execution_count": null,
   "id": "e98adce6-3e7b-4800-9cef-8e113cbc6a67",
   "metadata": {},
   "outputs": [],
   "source": [
    "mjd = dt_to_mjd(dt)\n",
    "mjd"
   ]
  },
  {
   "cell_type": "code",
   "execution_count": null,
   "id": "15d8d330-2fcc-4d6a-a135-dbfdf0dd5de2",
   "metadata": {},
   "outputs": [],
   "source": [
    "tm = mjd_to_dt(mjd)"
   ]
  },
  {
   "cell_type": "code",
   "execution_count": null,
   "id": "51511042-acd8-4801-88fb-5515e895ead0",
   "metadata": {},
   "outputs": [],
   "source": [
    "#ax.secondary_xaxis?"
   ]
  },
  {
   "cell_type": "code",
   "execution_count": null,
   "id": "edd57de3-2a1f-40e6-bf96-2b021cf83cb0",
   "metadata": {},
   "outputs": [],
   "source": [
    "from matplotlib.dates import DateFormatter\n",
    "date_form = DateFormatter(\"%y-%m-%dT%H:%M\")\n",
    "\n",
    "fig,axs = plt.subplots(3,1,figsize=(16,10))\n",
    "ax1,ax2,ax3 = axs\n",
    "ccdVisitTable_g.plot(x=\"Time\",y=\"zeroPoint\",marker='+',c=\"g\",lw=0.0,ax=ax1,grid=True,label=\"g\")\n",
    "ccdVisitTable_r.plot(x=\"Time\",y=\"zeroPoint\",marker='+',c=\"r\",lw=0.0,ax=ax1,grid=True,label=\"r\")\n",
    "ccdVisitTable_i.plot(x=\"Time\",y=\"zeroPoint\",marker='+',c=\"orange\",lw=0.0,ax=ax1,grid=True,label=\"i\")\n",
    "ccdVisitTable_z.plot(x=\"Time\",y=\"zeroPoint\",marker='+',c=\"grey\",lw=0.0,ax=ax1,grid=True,label=\"z\")\n",
    "ccdVisitTable_g.plot(x=\"Time\",y=\"zeroPoint\",marker='+',c=\"k\",lw=0.0,ax=ax1,grid=True,label=\"y\")\n",
    "ax1.set_ylabel(\"zeroPoint\")\n",
    "ax1.xaxis.set_major_formatter(date_form)\n",
    "#ax1_up = ax1.secondary_xaxis(\"top\", functions=( dt_to_mjd, mjd_to_dt))\n",
    "#ccdVisitTable_g.plot(x=\"expMidptMJD\",y=\"zeroPoint\",marker='+',c=\"g\",lw=0.0,ax=ax1_up,grid=True,label=\"g\")\n",
    "\n",
    "\n",
    "ccdVisitTable_g.plot(x=\"Time\",y=\"airmass\",marker='+',c=\"g\",lw=0.0,ax=ax2,grid=True,label=\"g\")\n",
    "ccdVisitTable_r.plot(x=\"Time\",y=\"airmass\",marker='+',c=\"r\",lw=0.0,ax=ax2,grid=True,label=\"r\")\n",
    "ccdVisitTable_i.plot(x=\"Time\",y=\"airmass\",marker='+',c=\"orange\",lw=0.0,ax=ax2,grid=True,label=\"i\")\n",
    "ccdVisitTable_z.plot(x=\"Time\",y=\"airmass\",marker='+',c=\"grey\",lw=0.0,ax=ax2,grid=True,label=\"z\")\n",
    "ccdVisitTable_y.plot(x=\"Time\",y=\"airmass\",marker='+',c=\"k\",lw=0.0,ax=ax2,grid=True,label=\"y\")\n",
    "ax2.set_ylabel(\"airmass\")\n",
    "ax2.xaxis.set_major_formatter(date_form)\n",
    "\n",
    "ccdVisitTable_g.plot(x=\"Time\",y=\"seeing\",marker='+',c=\"g\",lw=0.0,ax=ax3,grid=True,label=\"g\")\n",
    "ccdVisitTable_r.plot(x=\"Time\",y=\"seeing\",marker='+',c=\"r\",lw=0.0,ax=ax3,grid=True,label=\"r\")\n",
    "ccdVisitTable_i.plot(x=\"Time\",y=\"seeing\",marker='+',c=\"orange\",lw=0.0,ax=ax3,grid=True,label=\"i\")\n",
    "ccdVisitTable_z.plot(x=\"Time\",y=\"seeing\",marker='+',c=\"grey\",lw=0.0,ax=ax3,grid=True,label=\"z\")\n",
    "ccdVisitTable_y.plot(x=\"Time\",y=\"seeing\",marker='+',c=\"k\",lw=0.0,ax=ax3,grid=True,label=\"y\")\n",
    "ax3.set_ylabel(\"seeing\")\n",
    "ax3.xaxis.set_major_formatter(date_form)\n",
    "\n",
    "\n",
    "\n",
    "\n",
    "#df.plot(x=\"Time\",y=\"coord_dec\",marker='o',c=\"g\",lw=0.0,ax=ax2,grid=True)\n",
    "plt.suptitle(suptitle,y=1.0,fontsize=16)\n",
    "plt.tight_layout()\n",
    "\n"
   ]
  },
  {
   "cell_type": "code",
   "execution_count": null,
   "id": "2ca506df-6842-4f41-b5f1-b33e1b0d4306",
   "metadata": {},
   "outputs": [],
   "source": [
    "fig,axs = plt.subplots(3,1,figsize=(10,16))\n",
    "ax1,ax2,ax3 = axs\n",
    "ccdVisitTable_g.plot(x=\"airmass\",y=\"zeroPoint\",marker='+',c=\"g\",lw=0.0,ax=ax1,grid=True,label=\"g\")\n",
    "ccdVisitTable_r.plot(x=\"airmass\",y=\"zeroPoint\",marker='+',c=\"r\",lw=0.0,ax=ax1,grid=True,label=\"r\")\n",
    "ccdVisitTable_i.plot(x=\"airmass\",y=\"zeroPoint\",marker='+',c=\"orange\",lw=0.0,ax=ax1,grid=True,label=\"i\")\n",
    "ccdVisitTable_z.plot(x=\"airmass\",y=\"zeroPoint\",marker='+',c=\"grey\",lw=0.0,ax=ax1,grid=True,label=\"z\")\n",
    "ccdVisitTable_y.plot(x=\"airmass\",y=\"zeroPoint\",marker='+',c=\"k\",lw=0.0,ax=ax1,grid=True,label=\"y\")\n",
    "ax1.set_ylabel(\"zeroPoint vs airmass\")\n",
    "#ax1_up = ax1.secondary_xaxis(\"top\", functions=( dt_to_mjd, mjd_to_dt))\n",
    "#ccdVisitTable_g.plot(x=\"expMidptMJD\",y=\"zeroPoint\",marker='+',c=\"g\",lw=0.0,ax=ax1_up,grid=True,label=\"g\")\n",
    "\n",
    "ccdVisitTable_g.plot(x=\"seeing\",y=\"zeroPoint\",marker='+',c=\"g\",lw=0.0,ax=ax2,grid=True,label=\"g\")\n",
    "ccdVisitTable_r.plot(x=\"seeing\",y=\"zeroPoint\",marker='+',c=\"r\",lw=0.0,ax=ax2,grid=True,label=\"r\")\n",
    "ccdVisitTable_i.plot(x=\"seeing\",y=\"zeroPoint\",marker='+',c=\"orange\",lw=0.0,ax=ax2,grid=True,label=\"i\")\n",
    "ccdVisitTable_z.plot(x=\"seeing\",y=\"zeroPoint\",marker='+',c=\"grey\",lw=0.0,ax=ax2,grid=True,label=\"z\")\n",
    "ccdVisitTable_y.plot(x=\"seeing\",y=\"zeroPoint\",marker='+',c=\"k\",lw=0.0,ax=ax2,grid=True,label=\"y\")\n",
    "ax2.set_ylabel(\"zero point vs seeing\")\n",
    "\n",
    "ccdVisitTable_g.plot(x=\"airmass\",y=\"seeing\",marker='+',c=\"g\",lw=0.0,ax=ax3,grid=True,label=\"g\")\n",
    "ccdVisitTable_r.plot(x=\"airmass\",y=\"seeing\",marker='+',c=\"r\",lw=0.0,ax=ax3,grid=True,label=\"r\")\n",
    "ccdVisitTable_i.plot(x=\"airmass\",y=\"seeing\",marker='+',c=\"orange\",lw=0.0,ax=ax3,grid=True,label=\"i\")\n",
    "ccdVisitTable_z.plot(x=\"airmass\",y=\"seeing\",marker='+',c=\"grey\",lw=0.0,ax=ax3,grid=True,label=\"z\")\n",
    "ccdVisitTable_y.plot(x=\"airmass\",y=\"seeing\",marker='+',c=\"k\",lw=0.0,ax=ax3,grid=True,label=\"y\")\n",
    "ax3.set_ylabel(\"seeing vs airmass\")\n",
    "\n",
    "#df.plot(x=\"Time\",y=\"coord_dec\",marker='o',c=\"g\",lw=0.0,ax=ax2,grid=True)\n",
    "plt.suptitle(suptitle,y=1.0,fontsize=16)\n",
    "plt.tight_layout()"
   ]
  },
  {
   "cell_type": "markdown",
   "id": "45865071-6c19-4de1-9aae-a212de7727ee",
   "metadata": {},
   "source": [
    "## Come-back to dataJoined"
   ]
  },
  {
   "cell_type": "code",
   "execution_count": null,
   "id": "7e850a5f-6297-4438-9e0b-735b25229cc5",
   "metadata": {},
   "outputs": [],
   "source": [
    "dataJoined.columns"
   ]
  },
  {
   "cell_type": "code",
   "execution_count": null,
   "id": "db2c9093-ad67-45a0-80e0-e3af5e502a18",
   "metadata": {},
   "outputs": [],
   "source": [
    "#psfSigmaDict"
   ]
  },
  {
   "cell_type": "markdown",
   "id": "2741477a-1b8d-4a6c-9b3f-9a4fa81d4b34",
   "metadata": {},
   "source": [
    "### recalculate sources properties inside dataJoined before adding CCDVisit info"
   ]
  },
  {
   "cell_type": "code",
   "execution_count": null,
   "id": "6d2b44a3-d5f2-4a6c-9116-404f0f9abd14",
   "metadata": {},
   "outputs": [],
   "source": [
    "# Add columns into dataJoined table to have them all in one place\n",
    "dataJoined[\"psfSn\"] = dataJoined[\"psfFlux\"]/dataJoined[\"psfFluxErr\"]\n",
    "dataJoined[\"psfMag\"] = (dataJoined[\"psfFlux\"].values*u.nJy).to(u.ABmag).value\n",
    "dataJoined[\"psfMagErr\"] = 2.5/np.log(10.0)*(dataJoined[\"psfFluxErr\"].values/dataJoined[\"psfFlux\"].values)\n",
    "\n",
    "#dataJoined[\"apFlux_35_0_calFlux\"] = dataJoined[\"apFlux_35_0_instFlux\"]*dataJoined[\"localPhotoCalib\"]\n",
    "#dataJoined[\"apFlux_35_0_calFluxErr\"] = dataJoined[\"apFlux_35_0_instFluxErr\"]*dataJoined[\"localPhotoCalib\"]\n",
    "# This is the way to apply aperture corrections :\n",
    "dataJoined[calibFluxCalStr] = dataJoined[calibFluxStr]*dataJoined[\"localPhotoCalib\"]\n",
    "dataJoined[calibFluxCalErrStr] = dataJoined[calibFluxErrStr]*dataJoined[\"localPhotoCalib\"]\n",
    "\n",
    "#dataJoined[calibFluxStr] = (dataJoined[calibFluxStr].values*u.nJy).to(u.ABmag).value\n",
    "#dataJoined[calibFluxStr] = 2.5/np.log(10.0)*(dataJoined[calibFluxStr].values/dataJoined[calibFluxStr].values)\n",
    "dataJoined[calibFluxCalMagStr] = (dataJoined[calibFluxCalStr].values*u.nJy).to(u.ABmag).value\n",
    "dataJoined[calibFluxCalMagErrStr] = 2.5/np.log(10.0)*(dataJoined[calibFluxCalErrStr].values/dataJoined[calibFluxCalStr].values)\n",
    "\n",
    "dataJoined[calibFluxCalStr2] = dataJoined[calibFluxStr2]*dataJoined[\"localPhotoCalib\"]\n",
    "dataJoined[calibFluxCalErrStr2] = dataJoined[calibFluxErrStr2]*dataJoined[\"localPhotoCalib\"]\n",
    "\n",
    "dataJoined[calibFluxCalMagStr2] = (dataJoined[calibFluxCalStr2].values*u.nJy).to(u.ABmag).value\n",
    "dataJoined[calibFluxCalMagErrStr2] = 2.5/np.log(10.0)*(dataJoined[calibFluxCalErrStr2].values/dataJoined[calibFluxCalStr2].values)\n",
    "\n",
    "\n",
    "# NOTE: psfFlux is the fgcm calibrated flux.  I'm pretty sure you get the \"instrumental\" \n",
    "# flux by dividing psfFlux by the localPhotoCalib value.\n",
    "#dataJoined[\"psfInstMag\"] = ((dataJoined[\"psfFlux\"].values/dataJoined[\"localPhotoCalib\"].values)*u.nJy).to(u.ABmag).value\n",
    "#dataJoined[\"psfGausFluxRatio\"] = dataJoined[\"psfFlux\"]/dataJoined[\"gaussianFlux\"]\n",
    "\n",
    "dataJoined[\"psfInstMag\"] = ((dataJoined[\"psfFlux\"].values/dataJoined[\"localPhotoCalib\"].values)*u.nJy).to(u.ABmag).value\n",
    "dataJoined[\"psfInstMagErr\"] = 2.5/np.log(10.0)*(dataJoined[\"psfFluxErr\"].values/dataJoined[\"psfFlux\"].values)\n",
    "dataJoined[\"psfGausFluxRatio\"] = dataJoined[\"psfFlux\"]/dataJoined[\"gaussianFlux\"]\n",
    "\n",
    "#dataJoined[\"psfSigma\"] = dataJoined.apply(lambda x: psfSigmaDict[x[\"visit\"]], axis=1)\n",
    "\n",
    "#dataJoined[\"skyBg\"] = dataJoined.apply(lambda x: skyBgDict[x[\"visit\"]], axis=1)\n",
    "#dataJoined[\"skyNoise\"] = dataJoined.apply(lambda x: skyNoiseDict[x[\"visit\"]], axis=1)\n",
    "\n",
    "#dataJoined[\"expTime\"] = dataJoined.apply(lambda x: expTimeDict[x[\"visit\"]], axis=1)\n",
    "#dataJoined[\"expMidptMjd\"] = dataJoined.apply(lambda x: expMidptMjdDict[x[\"visit\"]], axis=1)\n",
    "\n",
    "#dataJoined[\"nSource\"] = dataJoined.apply(lambda x: nSourceDict[x[\"visit\"]], axis=1)\n",
    "\n",
    "#dataJoined[\"medianE\"] = dataJoined.apply(lambda x: medianEDict[x[\"visit\"]], axis=1)\n",
    "\n",
    "#dataJoined[\"psfStarScaledDeltaSizeScatter\"] = dataJoined.apply(lambda x: psfStarScaledDeltaSizeScatterDict[x[\"visit\"]], axis=1)\n",
    "#dataJoined[\"astromOffsetStd\"] = dataJoined.apply(lambda x: astromOffsetStdDict[x[\"visit\"]], axis=1)\n",
    "#dataJoined[\"psfTraceRadiusDelta\"] = dataJoined.apply(lambda x: psfTraceRadiusDeltaDict[x[\"visit\"]], axis=1)\n",
    "\n",
    "# I add the airmass and zero-point I want to keep here\n",
    "#dataJoined[\"zeroPoint\"] = dataJoined.apply(lambda x: zeroPointDict[x[\"visit\"]], axis=1)\n",
    "#dataJoined[\"airmass\"] = dataJoined.apply(lambda x: airmassDict[x[\"visit\"]], axis=1)\n",
    "#dataJoined[\"seeing\"] = dataJoined.apply(lambda x: seeingDict[x[\"visit\"]], axis=1)\n",
    "#dataJoined[\"nPsfStars\"] = dataJoined.apply(lambda x: npsfStarsDict[x[\"visit\"]], axis=1)\n",
    "\n"
   ]
  },
  {
   "cell_type": "markdown",
   "id": "c4bd598b-3dee-4d11-8542-887075cb1203",
   "metadata": {},
   "source": [
    "### Extract info from CCDVisit"
   ]
  },
  {
   "cell_type": "code",
   "execution_count": null,
   "id": "f145354d-3760-44e8-8195-181fa5ba344a",
   "metadata": {},
   "outputs": [],
   "source": [
    "# Example of apply function format  that does what we expect\n",
    "# dataJoined[[\"ra\",\"dec\"]].apply(lambda x: pd.Series([x[\"ra\"], x[\"dec\"]], index=['ra_2', 'dec_2']), axis=1)"
   ]
  },
  {
   "cell_type": "code",
   "execution_count": null,
   "id": "639ab1e4-2944-488e-8019-a48d1e586e6b",
   "metadata": {},
   "outputs": [],
   "source": [
    "# Example of function calculating in which detector is the source\n",
    "def findCCDVisitPerSource(x):\n",
    "    \"\"\"\n",
    "    Find the CCD visit cooresponding to that source\n",
    "    \"\"\"\n",
    "    visitId = x[\"visit\"]\n",
    "    ra0 = x[\"ra\"]\n",
    "    dec0 = x [\"dec\"]\n",
    "    ccd_visit_table_forthatvisit = ccdVisitTable[ccdVisitTable.visitId == visitId]\n",
    "    ccd_visit_table_forthatvisit[\"select\"] =  ccd_visit_table_forthatvisit.apply(lambda x :  is_in_polygon(ra0,dec0,(x[\"llcra\"],x[\"llcdec\"]), (x[\"lrcra\"],x[\"lrcdec\"]), (x[\"urcra\"],x[\"urcdec\"]),(x[\"ulcra\"],x[\"ulcdec\"])),axis=1)\n",
    "    ccd_visit_table_forthatvisit = ccd_visit_table_forthatvisit[ccd_visit_table_forthatvisit[\"select\"]] \n",
    "    ccd_visit_table_forthatvisit[\"dra\"] = ra0 - ccd_visit_table_forthatvisit[\"ra\"] \n",
    "    ccd_visit_table_forthatvisit[\"ddec\"] = dec0 - ccd_visit_table_forthatvisit[\"dec\"] \n",
    "    ccd_visit_table_forthatvisit.reset_index(inplace=True)\n",
    "    ccd_visit_table_forthatvisit.rename(columns = {'ccdVisitId':'ccd_ccdVisitId',\"visitId\": \"ccd_visitId\",\"band\":\"ccd_band\",\"detector\":\"ccd_detector\"}, inplace = True) \n",
    "    ccd_visit_table_forthatvisit.drop(columns = [\"physical_filter\",\"ra\",\"dec\",\"select\"],inplace=True)\n",
    "    \n",
    "    assert len(ccd_visit_table_forthatvisit == 1)\n",
    "    # Convert the dataframe into a pandas series\n",
    "    # Do not do ccd_visit_table_forthatvisit.T\n",
    "    ser =  ccd_visit_table_forthatvisit.iloc[0,:]\n",
    "    ser.name = \"ccd_visit_table_forthatvisit\"\n",
    "    return ser"
   ]
  },
  {
   "cell_type": "markdown",
   "id": "93b27cdc-732b-40c5-92f3-81c1dd42e793",
   "metadata": {},
   "source": [
    "### Create the list of columns to add to dataJoined"
   ]
  },
  {
   "cell_type": "markdown",
   "id": "31e5f9ba-4a72-405a-9269-965d1f862fbd",
   "metadata": {},
   "source": [
    "#### Test on a subset"
   ]
  },
  {
   "cell_type": "code",
   "execution_count": null,
   "id": "ffb47d0e-6891-4c3c-b615-956c6e871930",
   "metadata": {},
   "outputs": [],
   "source": [
    "dataJoined_subset = dataJoined.iloc[:5]\n",
    "dataJoined_subset_toadd = dataJoined_subset.apply(findCCDVisitPerSource,axis=1)\n",
    "dataJoined_subset_toadd"
   ]
  },
  {
   "cell_type": "code",
   "execution_count": null,
   "id": "43637f9c-58fc-4941-81c0-ae721be3d950",
   "metadata": {},
   "outputs": [],
   "source": [
    "dataJoined_subset_toadd"
   ]
  },
  {
   "cell_type": "code",
   "execution_count": null,
   "id": "0b0a3057-b062-4ccb-8a5f-d2a45e0c5109",
   "metadata": {},
   "outputs": [],
   "source": [
    "dataJoined_subset.join(dataJoined_subset_toadd) "
   ]
  },
  {
   "cell_type": "markdown",
   "id": "d5f52d89-16d0-4e38-a270-bc32e93a52e7",
   "metadata": {},
   "source": [
    "### Extract the columns from the CCDVisitTable corresponding to each row of dataJoined"
   ]
  },
  {
   "cell_type": "markdown",
   "id": "fa5cad7b-8c56-4e12-881d-3ff1ca4b4a52",
   "metadata": {},
   "source": [
    "#### applying to the whole dataset"
   ]
  },
  {
   "cell_type": "code",
   "execution_count": null,
   "id": "4378253d-0871-4bf4-8e08-7ac320add103",
   "metadata": {},
   "outputs": [],
   "source": [
    "dataJoined_toadd = dataJoined.apply(findCCDVisitPerSource,axis=1)"
   ]
  },
  {
   "cell_type": "code",
   "execution_count": null,
   "id": "cb44dc79-85db-4212-933d-876448a7b9a8",
   "metadata": {},
   "outputs": [],
   "source": [
    "dataJoined_toadd.head() "
   ]
  },
  {
   "cell_type": "code",
   "execution_count": null,
   "id": "583a377c-ef16-44cc-b75c-0286a29884f5",
   "metadata": {},
   "outputs": [],
   "source": [
    "dataJoined = dataJoined.join(dataJoined_toadd) "
   ]
  },
  {
   "cell_type": "code",
   "execution_count": null,
   "id": "498af53a-e100-44af-a6ea-e7d2da5abed2",
   "metadata": {},
   "outputs": [],
   "source": [
    "dataJoined.plot.scatter(x=\"visit\",y=\"ccd_visitId\") "
   ]
  },
  {
   "cell_type": "code",
   "execution_count": null,
   "id": "2f2fd98b",
   "metadata": {},
   "outputs": [],
   "source": [
    "#dataJoined[\"psfSigma\"] = dataJoined.apply(lambda x: psfSigmaDict[x[\"visit\"]], axis=1)\n",
    "#dataJoined[\"skyBg\"] = dataJoined.apply(lambda x: skyBgDict[x[\"visit\"]], axis=1)\n",
    "#dataJoined[\"expTime\"] = dataJoined.apply(lambda x: expTimeDict[x[\"visit\"]], axis=1)\n",
    "#dataJoined[\"expMidptMjd\"] = dataJoined.apply(lambda x: expMidptMjdDict[x[\"visit\"]], axis=1)\n",
    "#dataJoined[\"nSource\"] = dataJoined.apply(lambda x: nSourceDict[x[\"visit\"]], axis=1)\n",
    "#dataJoined[\"medianE\"] = dataJoined.apply(lambda x: medianEDict[x[\"visit\"]], axis=1)\n",
    "#dataJoined[\"psfStarScaledDeltaSizeScatter\"] = dataJoined.apply(lambda x: psfStarScaledDeltaSizeScatterDict[x[\"visit\"]], axis=1)\n",
    "#dataJoined[\"astromOffsetStd\"] = dataJoined.apply(lambda x: astromOffsetStdDict[x[\"visit\"]], axis=1)\n",
    "#dataJoined[\"psfTraceRadiusDelta\"] = dataJoined.apply(lambda x: psfTraceRadiusDeltaDict[x[\"visit\"]], axis=1)\n",
    "\n",
    "# I add the airmass and zero-point I want to keep here\n",
    "#dataJoined[\"zeroPoint\"] = dataJoined.apply(lambda x: zeroPointDict[x[\"visit\"]], axis=1)\n",
    "#dataJoined[\"localPhotoCalib\"] = dataJoined.apply(lambda x: localPhotoCalibDict[x[\"visit\"]], axis=1)\n",
    "#dataJoined[\"airmass\"] = dataJoined.apply(lambda x: airmassDict[x[\"visit\"]], axis=1)\n",
    "#dataJoined[\"seeing\"] = dataJoined.apply(lambda x: seeingDict[x[\"visit\"]], axis=1)\n",
    "#dataJoined[\"DZP\"] = dataJoined.apply(lambda x: DZPDict[x[\"visit\"]], axis=1)"
   ]
  },
  {
   "cell_type": "code",
   "execution_count": null,
   "id": "46757b52-79b5-40aa-8deb-5c3612f8c062",
   "metadata": {},
   "outputs": [],
   "source": [
    "matchedObjIdList = list(set(dataJoined[\"obj_index\"]))"
   ]
  },
  {
   "cell_type": "code",
   "execution_count": null,
   "id": "ddb12466",
   "metadata": {},
   "outputs": [],
   "source": [
    "dataJoined[dataJoined.index == 0]"
   ]
  },
  {
   "cell_type": "markdown",
   "id": "d9097dac-56de-482c-9d7a-3d83dcc83a3a",
   "metadata": {},
   "source": [
    "## The association between the independent sources is done through the object index \n",
    "\n",
    "- for plotting the repeatability"
   ]
  },
  {
   "cell_type": "code",
   "execution_count": null,
   "id": "1c5b85d8",
   "metadata": {},
   "outputs": [],
   "source": [
    "# Compute repeatability related values per object/object group and add\n",
    "# them inplace to the dataJoined DataFrame.\n",
    "psfMagDiffMmagDfList = []\n",
    "psfMagStdMmagAll = []\n",
    "psfMagStdMmagDict = {}\n",
    "psfMagDiffChiDfList = []\n",
    "psfSnAll = []\n",
    "raDiffMasDfList = []\n",
    "decDiffMasDfList = []\n",
    "raCosDecDiffMasDfList = []\n",
    "objRaDegList = []\n",
    "objDecDegList = []\n",
    "raStdMasAll = []\n",
    "decStdMasAll = []\n",
    "raCosDecStdMasAll = []\n",
    "objDataList = []\n",
    "\n",
    "# loop on objects\n",
    "for objIndex in matchedObjIdList:\n",
    "    # select sources corresponding to that object\n",
    "    objData = dataJoined[dataJoined[\"obj_index\"] == objIndex]\n",
    "    psfMag = objData[\"psfMag\"]\n",
    "    psfMagErr = objData[\"psfMagErr\"]\n",
    "\n",
    "    # average flux over all visits\n",
    "    clippedMeanMagArray = scipy.stats.sigmaclip(psfMag, low=3.0, high=3.0).clipped\n",
    "    clippedMeanMag = np.mean(clippedMeanMagArray)\n",
    "    clippedMeanMagErr = np.std(clippedMeanMagArray)/np.sqrt(len(clippedMeanMagArray))\n",
    "\n",
    "    # array of difference between flux an clipped mean average\n",
    "    psfMagDiffMmag = 1000*(psfMag - clippedMeanMag)\n",
    "    # sigma arrays over the difference\n",
    "    psfMagStdMmag = np.std(psfMagDiffMmag)\n",
    "    # residuals array\n",
    "    psfMagDiffChi = (psfMag - clippedMeanMag)/np.sqrt(psfMagErr**2 + clippedMeanMagErr**2)\n",
    "    \n",
    "    clippedMeanRaArray = scipy.stats.sigmaclip(objData[\"ra\"], low=3.0, high=3.0).clipped\n",
    "    clippedMeanRa = np.mean(clippedMeanRaArray)\n",
    "    raDiffMas = (objData[\"ra\"] - clippedMeanRa)*3600*1000\n",
    "    \n",
    "    clippedMeanDecArray = scipy.stats.sigmaclip(objData[\"dec\"], low=3.0, high=3.0).clipped\n",
    "    clippedMeanDec = np.mean(clippedMeanDecArray)\n",
    "    decDiffMas = (objData[\"dec\"] - clippedMeanDec)*3600*1000\n",
    "    \n",
    "    raCosDec = np.deg2rad(objData[\"ra\"])*np.cos(np.deg2rad(objData[\"dec\"]))\n",
    "    clippedMeanRaCosDecArray = scipy.stats.sigmaclip(raCosDec, low=3.0, high=3.0).clipped\n",
    "    clippedMeanRaCosDec = np.mean(clippedMeanRaCosDecArray)\n",
    "    raCosDecDiffRad = (raCosDec - clippedMeanRaCosDec)\n",
    "    raCosDecDiffMas = np.rad2deg(raCosDecDiffRad)*3600*1000\n",
    "\n",
    "    # save for all sources of the object\n",
    "    psfMagDiffMmagDfList.append(psfMagDiffMmag)\n",
    "    psfMagStdMmagAll.append(psfMagStdMmag)\n",
    "    psfMagDiffChiDfList.append(psfMagDiffChi)\n",
    "\n",
    "    raDiffMasDfList.append(raDiffMas)\n",
    "    decDiffMasDfList.append(decDiffMas)\n",
    "    raCosDecDiffMasDfList.append(raCosDecDiffMas)\n",
    "    \n",
    "    objRaDegList.append(clippedMeanRa)\n",
    "    objDecDegList.append(clippedMeanDec)\n",
    "\n",
    "    raStdMas = np.std(raDiffMas)\n",
    "    raStdMasAll.append(raStdMas)\n",
    "    decStdMas = np.std(decDiffMas)\n",
    "    decStdMasAll.append(decStdMas)\n",
    "    raCosDecStdMas = np.std(raCosDecDiffMas)\n",
    "    raCosDecStdMasAll.append(raCosDecStdMas)\n",
    "    psfMagStdMmagDict[objIndex] = psfMagStdMmag\n",
    "\n",
    "# concatenate over all objects - all sources\n",
    "psfMagDiffMmagDf = pd.concat(psfMagDiffMmagDfList)\n",
    "psfMagDiffChiDf = pd.concat(psfMagDiffChiDfList)\n",
    "raDiffMasDf = pd.concat(raDiffMasDfList)\n",
    "decDiffMasDf = pd.concat(decDiffMasDfList)\n",
    "raCosDecDiffMasDf = pd.concat(raCosDecDiffMasDfList)\n",
    "\n",
    "# add this common properties to each source in dataJoined\n",
    "dataJoined.loc[:, \"psfMagDiffMmag\"] = psfMagDiffMmagDf\n",
    "dataJoined.loc[:, \"psfMagDiffChi\"] = psfMagDiffChiDf\n",
    "dataJoined.loc[:, \"raDiffMas\"] = raDiffMasDf\n",
    "dataJoined.loc[:, \"decDiffMas\"] = decDiffMasDf\n",
    "dataJoined.loc[:, \"raCosDecDiffMas\"] = raCosDecDiffMasDf"
   ]
  },
  {
   "cell_type": "code",
   "execution_count": null,
   "id": "a8a83802",
   "metadata": {},
   "outputs": [],
   "source": [
    "dataJoined[dataJoined.index == 0]"
   ]
  },
  {
   "cell_type": "code",
   "execution_count": null,
   "id": "6e609b37-c7d5-4d62-94b4-b7c896816fc5",
   "metadata": {},
   "outputs": [],
   "source": [
    "dataJoined.head()"
   ]
  },
  {
   "cell_type": "markdown",
   "id": "b76e9a2c-5d83-44d4-b851-fde34a364f01",
   "metadata": {},
   "source": [
    "## Check the correlation between the flux psf and apperture flux\n",
    "\n",
    "### Compute DPZ"
   ]
  },
  {
   "cell_type": "code",
   "execution_count": null,
   "id": "a8490aeb-0320-44c5-a660-76909a1b961f",
   "metadata": {},
   "outputs": [],
   "source": [
    "#dataJoined[\"localPhotoCalibMag\"] = (dataJoined[\"localPhotoCalib\"].values*u.nJy).to(u.ABmag).value\n",
    "#dataJoined[\"DZP\"] = dataJoined[\"localPhotoCalibMag\"] - dataJoined[\"zeroPoint\"]"
   ]
  },
  {
   "cell_type": "code",
   "execution_count": null,
   "id": "9341f929-7aad-4ed0-80c6-3c01c285046f",
   "metadata": {},
   "outputs": [],
   "source": [
    "dataJoined[\"localPhotoCalibMag\"] = (dataJoined[\"localPhotoCalib\"].values*u.nJy).to(u.ABmag).value\n",
    "dataJoined[\"localPhotoCalibMagErr\"] =   2.5/np.log(10.0)*dataJoined[\"localPhotoCalibErr\"].values/dataJoined[\"localPhotoCalib\"].values\n",
    "dataJoined[\"DZP\"] = dataJoined[\"localPhotoCalibMag\"] - dataJoined[\"zeroPoint\"]"
   ]
  },
  {
   "cell_type": "markdown",
   "id": "d3822743-b788-4c8e-8c57-bef52eba9e39",
   "metadata": {
    "execution": {
     "iopub.execute_input": "2024-03-21T09:53:37.961103Z",
     "iopub.status.busy": "2024-03-21T09:53:37.960978Z",
     "iopub.status.idle": "2024-03-21T09:53:37.966760Z",
     "shell.execute_reply": "2024-03-21T09:53:37.963474Z",
     "shell.execute_reply.started": "2024-03-21T09:53:37.961092Z"
    }
   },
   "source": [
    "- The goal is to understand what flux is calibrated what flux is not calibrated "
   ]
  },
  {
   "cell_type": "code",
   "execution_count": null,
   "id": "dee63f10-268e-4bf0-bf6c-46bc8bdb792a",
   "metadata": {},
   "outputs": [],
   "source": [
    "dataJoined_subset = dataJoined[[\"obj_index\",\"sourceId\",\"band\",\"visit\",\"ra\",\"dec\",\"psfMag\",\"psfFlux\",\"gaussianFlux\",\"psfSn\",calibFluxCalStr,calibFluxCalMagStr,calibFluxStr,\"psfFlux_apCorr\",\n",
    "                                \"psfMagErr\",\"psfFluxErr\",\"gaussianFluxErr\",calibFluxCalErrStr,calibFluxCalMagErrStr,calibFluxErrStr,\"skyBg\",\"zeroPoint\",\"localPhotoCalib\",\"localPhotoCalibMag\",\"DZP\",\"localPhotoCalibMagErr\",\n",
    "                                \"detect_isPrimary\",\"deblend_skipped\",\"expMidpt\",\"expMidptMJD\",\"expTime\",\"obsStart\",\"obsStartMJD\"]].copy()"
   ]
  },
  {
   "cell_type": "code",
   "execution_count": null,
   "id": "825d77b8-26a2-42f9-bce8-b5ba72494c62",
   "metadata": {},
   "outputs": [],
   "source": [
    "#dataJoined_subset[\"localPhotoCalibMag\"] = (dataJoined_subset[\"localPhotoCalib\"].values*u.nJy).to(u.ABmag).value"
   ]
  },
  {
   "cell_type": "code",
   "execution_count": null,
   "id": "e17c237e-b725-441f-83bc-eee3af9a7539",
   "metadata": {},
   "outputs": [],
   "source": [
    "#dataJoined_subset[\"DZP\"] = dataJoined_subset[\"localPhotoCalibMag\"] - dataJoined_subset[\"zeroPoint\"]"
   ]
  },
  {
   "cell_type": "code",
   "execution_count": null,
   "id": "f799abc6-7b2c-4758-beb2-fee9ca89bb37",
   "metadata": {},
   "outputs": [],
   "source": [
    "dataJoined_subset.sort_values(by=[\"obj_index\",\"band\",\"visit\"])"
   ]
  },
  {
   "cell_type": "code",
   "execution_count": null,
   "id": "01f9bd41-6413-42f9-8089-0bf01004ad5e",
   "metadata": {},
   "outputs": [],
   "source": [
    "dataJoined_subset[dataJoined_subset.obj_index == 912] \t"
   ]
  },
  {
   "cell_type": "code",
   "execution_count": null,
   "id": "0d5c1e8e-0b3e-45a0-937c-fb461c2a4140",
   "metadata": {},
   "outputs": [],
   "source": [
    "dataJoined_subset[dataJoined_subset.obj_index == 912][\"band\"].unique() \t"
   ]
  },
  {
   "cell_type": "code",
   "execution_count": null,
   "id": "7ed4334a-0cfb-478c-a139-910a1d6397a2",
   "metadata": {},
   "outputs": [],
   "source": [
    "dataJoined_subset_g = dataJoined_subset[dataJoined_subset[\"band\"] == \"g\"]\n",
    "dataJoined_subset_r = dataJoined_subset[dataJoined_subset[\"band\"] == \"r\"]\n",
    "dataJoined_subset_i = dataJoined_subset[dataJoined_subset[\"band\"] == \"i\"]\n",
    "dataJoined_subset_z = dataJoined_subset[dataJoined_subset[\"band\"] == \"z\"]\n",
    "dataJoined_subset_y = dataJoined_subset[dataJoined_subset[\"band\"] == \"y\"]"
   ]
  },
  {
   "cell_type": "markdown",
   "id": "2d7ae684-28bf-46bd-a0b7-76f92413d9ec",
   "metadata": {},
   "source": [
    "### Histogram on calibration"
   ]
  },
  {
   "cell_type": "code",
   "execution_count": null,
   "id": "bbaada13-0018-4ddd-822f-9ef64563f1b9",
   "metadata": {},
   "outputs": [],
   "source": [
    "all_dpz_std = []\n",
    "all_labels = []\n",
    "fig,ax = plt.subplots(1,1,figsize=(8,6))\n",
    "\n",
    "std = dataJoined_subset_g[\"DZP\"].std()*1000\n",
    "label = f\"g, sig(DPZ) = {std:.2f} mmag\"\n",
    "all_dpz_std.append(std)\n",
    "all_labels.append(label) \n",
    "dataJoined_subset_g[\"DZP\"].plot.hist(bins=50,histtype=\"step\",density=True,ax=ax,color=\"g\",lw=2,label=label)\n",
    "\n",
    "std = dataJoined_subset_r[\"DZP\"].std()*1000\n",
    "label = f\"r, sig(DPZ) = {std:.2f} mmag\"\n",
    "all_dpz_std.append(std)\n",
    "all_labels.append(label) \n",
    "dataJoined_subset_r[\"DZP\"].plot.hist(bins=50,histtype=\"step\",density=True,ax=ax,color=\"r\",lw=2,label=label)\n",
    "\n",
    "std = dataJoined_subset_i[\"DZP\"].std()*1000\n",
    "label = f\"i, sig(DPZ) = {std:.2f} mmag\"\n",
    "all_dpz_std.append(std)\n",
    "all_labels.append(label) \n",
    "dataJoined_subset_i[\"DZP\"].plot.hist(bins=50,histtype=\"step\",density=True,ax=ax,color=\"orange\",lw=2,label=label)\n",
    "\n",
    "std = dataJoined_subset_z[\"DZP\"].std()*1000\n",
    "label = f\"z, sig(DPZ) = {std:.2f} mmag\"\n",
    "all_dpz_std.append(std)\n",
    "all_labels.append(label) \n",
    "dataJoined_subset_z[\"DZP\"].plot.hist(bins=50,histtype=\"step\",density=True,ax=ax,color=\"grey\",lw=2,label=label)\n",
    "\n",
    "std = dataJoined_subset_y[\"DZP\"].std()*1000\n",
    "label = f\"y, sig(DPZ) = {std:.2f} mmag\"\n",
    "all_dpz_std.append(std)\n",
    "all_labels.append(label) \n",
    "dataJoined_subset_y[\"DZP\"].plot.hist(bins=50,histtype=\"step\",density=True,ax=ax,color=\"k\",lw=2,label=label)\n",
    "\n",
    "ax.set_xlabel(\"DZP : localPhotoCalib - zeroPoint (mag)\")\n",
    "ax.set_xlim(-0.05,0.05)\n",
    "ax.grid()\n",
    "ax.legend()\n",
    "ax.set_title(\"Photometric calibration parameters: localPhotoCalib(sourceTable)-PZ(CCDvisitTable)\")\n",
    "plt.suptitle(suptitle,y=1.0,fontsize=8)\n",
    "plt.tight_layout()"
   ]
  },
  {
   "cell_type": "code",
   "execution_count": null,
   "id": "2d44fbd8-dde8-4840-a3eb-b13309258f21",
   "metadata": {},
   "outputs": [],
   "source": [
    "fig,axs = plt.subplots(1,5,figsize=(18,4),sharex=True,sharey=True)\n",
    "ax1,ax2,ax3,ax4,ax5 =axs\n",
    "dataJoined_subset_g.plot.scatter(x=\"psfMag\",y=\"DZP\",ax=ax1,color=\"g\",marker=\"+\",lw=1,label=\"g\",title=all_labels[0],grid=True,alpha=0.5)\n",
    "dataJoined_subset_r.plot.scatter(x=\"psfMag\",y=\"DZP\",ax=ax2,color=\"r\",marker=\"+\",lw=1,label=\"r\",title=all_labels[1],grid=True,alpha=0.5)\n",
    "dataJoined_subset_i.plot.scatter(x=\"psfMag\",y=\"DZP\",ax=ax3,color=\"orange\",marker=\"+\",lw=1,label=\"i\",title=all_labels[2],grid=True,alpha=0.5)\n",
    "dataJoined_subset_z.plot.scatter(x=\"psfMag\",y=\"DZP\",ax=ax4,color=\"grey\",marker=\"+\",lw=0.5,label=\"z\",title=all_labels[3],grid=True,alpha=0.5)\n",
    "dataJoined_subset_y.plot.scatter(x=\"psfMag\",y=\"DZP\",ax=ax5,color=\"k\",marker=\"+\",lw=0.5,label=\"y\",title=all_labels[4],grid=True,alpha=0.5)\n",
    "ax1.set_ylabel(\"DPZ (mag)\")\n",
    "plt.suptitle(suptitle,y=1.0,fontsize=8)\n",
    "plt.tight_layout()"
   ]
  },
  {
   "cell_type": "code",
   "execution_count": null,
   "id": "f7016367-dc31-48e1-95b8-0600faf7bfdc",
   "metadata": {},
   "outputs": [],
   "source": [
    "all_localPhotoCalibMagErr_aver = []\n",
    "all_labels = []\n",
    "\n",
    "aver = dataJoined_subset_g[\"localPhotoCalibMagErr\"].mean()*1000\n",
    "label = f\"g, aver(locPCalErr) = {aver:.2f} mmag\"\n",
    "all_localPhotoCalibMagErr_aver.append(std)\n",
    "all_labels.append(label) \n",
    "\n",
    "aver = dataJoined_subset_r[\"localPhotoCalibMagErr\"].mean()*1000\n",
    "label = f\"r, aver(locPCalErr) = {aver:.2f} mmag\"\n",
    "all_localPhotoCalibMagErr_aver.append(std)\n",
    "all_labels.append(label) \n",
    "\n",
    "aver = dataJoined_subset_i[\"localPhotoCalibMagErr\"].mean()*1000\n",
    "label = f\"i, aver(locPCalErr) = {aver:.2f} mmag\"\n",
    "all_localPhotoCalibMagErr_aver.append(std)\n",
    "all_labels.append(label) \n",
    "\n",
    "aver = dataJoined_subset_z[\"localPhotoCalibMagErr\"].mean()*1000\n",
    "label = f\"z, aver(locPCalErr) = {aver:.2f} mmag\"\n",
    "all_localPhotoCalibMagErr_aver.append(std)\n",
    "all_labels.append(label) \n",
    "\n",
    "aver = dataJoined_subset_y[\"localPhotoCalibMagErr\"].mean()*1000\n",
    "label = f\"y, aver(locPCalErr) = {aver:.2f} mmag\"\n",
    "all_localPhotoCalibMagErr_aver.append(std)\n",
    "all_labels.append(label) \n"
   ]
  },
  {
   "cell_type": "code",
   "execution_count": null,
   "id": "1eb3de59-9abf-4235-a9ee-12076ea03844",
   "metadata": {},
   "outputs": [],
   "source": [
    "fig,axs = plt.subplots(1,5,figsize=(18,4),sharex=True,sharey=True)\n",
    "ax1,ax2,ax3,ax4,ax5 =axs\n",
    "dataJoined_subset_g.plot.scatter(x=\"psfMag\",y=\"localPhotoCalibMagErr\",ax=ax1,color=\"g\",marker=\"+\",lw=1,label=\"g\",title=all_labels[0],grid=True,alpha=0.5)\n",
    "dataJoined_subset_r.plot.scatter(x=\"psfMag\",y=\"localPhotoCalibMagErr\",ax=ax2,color=\"r\",marker=\"+\",lw=1,label=\"r\",title=all_labels[1],grid=True,alpha=0.5)\n",
    "dataJoined_subset_i.plot.scatter(x=\"psfMag\",y=\"localPhotoCalibMagErr\",ax=ax3,color=\"orange\",marker=\"+\",lw=1,label=\"i\",title=all_labels[2],grid=True,alpha=0.5)\n",
    "dataJoined_subset_z.plot.scatter(x=\"psfMag\",y=\"localPhotoCalibMagErr\",ax=ax4,color=\"grey\",marker=\"+\",lw=0.5,label=\"z\",title=all_labels[3],grid=True,alpha=0.5)\n",
    "dataJoined_subset_y.plot.scatter(x=\"psfMag\",y=\"localPhotoCalibMagErr\",ax=ax5,color=\"k\",marker=\"+\",lw=0.5,label=\"y\",title=all_labels[4],grid=True,alpha=0.5)\n",
    "ax1.set_ylabel(\"localPhotoCalibMagErr (mag)\")\n",
    "ax1.set_ylim(0.,0.01)\n",
    "plt.suptitle(suptitle,y=1.0,fontsize=8)\n",
    "plt.tight_layout()"
   ]
  },
  {
   "cell_type": "markdown",
   "id": "9d5e3244-d331-40e7-af6e-19e86023fba4",
   "metadata": {},
   "source": [
    "### scatter plot on psf Flux vs aperture flux"
   ]
  },
  {
   "cell_type": "code",
   "execution_count": null,
   "id": "83c30669-aa3f-47a1-b465-97c68808bc2f",
   "metadata": {},
   "outputs": [],
   "source": [
    "fig,axs = plt.subplots(1,4,figsize=(16,4))\n",
    "ax=axs[0]\n",
    "dataJoined_subset_g.plot.scatter(x=\"psfFlux\",y=\"gaussianFlux\",ax=ax,color=\"g\",marker=\"+\",lw=1,label=\"g\")\n",
    "dataJoined_subset_r.plot.scatter(x=\"psfFlux\",y=\"gaussianFlux\",ax=ax,color=\"r\",marker=\"+\",lw=1,label=\"r\")\n",
    "dataJoined_subset_i.plot.scatter(x=\"psfFlux\",y=\"gaussianFlux\",ax=ax,color=\"orange\",marker=\"+\",lw=1,label=\"i\")\n",
    "dataJoined_subset_z.plot.scatter(x=\"psfFlux\",y=\"gaussianFlux\",ax=ax,color=\"grey\",marker=\"+\",lw=0.5,label=\"z\")\n",
    "dataJoined_subset_y.plot.scatter(x=\"psfFlux\",y=\"gaussianFlux\",ax=ax,color=\"k\",marker=\"+\",lw=0.5,label=\"y\")\n",
    "ax.set_aspect(\"equal\")\n",
    "#ax.set_xlim(0.,0.6e8)\n",
    "#ax.set_ylim(0.,0.6e8)\n",
    "ax.set_title(\"Gaussian flux vs psf Flux (nanojanskys)\")\n",
    "ax.grid()\n",
    "\n",
    "ax=axs[1]\n",
    "dataJoined_subset_g.plot.scatter(x=\"psfFlux\",y=calibFluxStr,ax=ax,color=\"g\",marker=\"+\",label=\"g\")\n",
    "dataJoined_subset_r.plot.scatter(x=\"psfFlux\",y=calibFluxStr,ax=ax,color=\"r\",marker=\"+\",label=\"r\")\n",
    "dataJoined_subset_i.plot.scatter(x=\"psfFlux\",y=calibFluxStr,ax=ax,color=\"orange\",marker=\"+\",label=\"i\")\n",
    "dataJoined_subset_z.plot.scatter(x=\"psfFlux\",y=calibFluxStr,ax=ax,color=\"grey\",marker=\"+\",label=\"z\")\n",
    "dataJoined_subset_y.plot.scatter(x=\"psfFlux\",y=calibFluxStr,ax=ax,color=\"k\",marker=\"+\",label=\"y\")\n",
    "ax.set_aspect(\"auto\")\n",
    "ax.set_title(f\"{calibFluxStr} flux (inst unit)  vs psf Flux (nanojanskys)\")\n",
    "ax.grid()\n",
    "\n",
    "ax=axs[2]\n",
    "dataJoined_subset_g.plot.scatter(x=\"psfFlux\",y=calibFluxCalStr,ax=ax,color=\"g\",marker=\"+\",label=\"g\")\n",
    "dataJoined_subset_r.plot.scatter(x=\"psfFlux\",y=calibFluxCalStr,ax=ax,color=\"r\",marker=\"+\",label=\"r\")\n",
    "dataJoined_subset_i.plot.scatter(x=\"psfFlux\",y=calibFluxCalStr,ax=ax,color=\"orange\",marker=\"+\",label=\"i\")\n",
    "dataJoined_subset_z.plot.scatter(x=\"psfFlux\",y=calibFluxCalStr,ax=ax,color=\"grey\",marker=\"+\",lw=0.5,label=\"z\")\n",
    "dataJoined_subset_y.plot.scatter(x=\"psfFlux\",y=calibFluxCalStr,ax=ax,color=\"k\",marker=\"+\",lw=0.5,label=\"y\")\n",
    "ax.set_aspect(\"equal\")\n",
    "#ax.set_xlim(0.,0.6e8)\n",
    "#ax.set_ylim(0.,0.6e8)\n",
    "ax.set_title(f\"{calibFluxCalStr} flux vs psf Flux  (nanojanskys)\")\n",
    "ax.grid()\n",
    "\n",
    "ax=axs[3]\n",
    "dataJoined_subset_g.plot.scatter(x=\"psfMag\",y=calibFluxCalMagStr,ax=ax,color=\"g\",marker=\"+\",label=\"g\")\n",
    "dataJoined_subset_r.plot.scatter(x=\"psfMag\",y=calibFluxCalMagStr,ax=ax,color=\"r\",marker=\"+\",label=\"r\")\n",
    "dataJoined_subset_i.plot.scatter(x=\"psfMag\",y=calibFluxCalMagStr,ax=ax,color=\"orange\",marker=\"+\",label=\"i\")\n",
    "dataJoined_subset_z.plot.scatter(x=\"psfMag\",y=calibFluxCalMagStr,ax=ax,color=\"grey\",marker=\"+\",lw=0.5,label=\"z\")\n",
    "dataJoined_subset_y.plot.scatter(x=\"psfMag\",y=calibFluxCalMagStr,ax=ax,color=\"k\",marker=\"+\",lw=0.5,label=\"y\")\n",
    "ax.set_aspect(\"equal\")\n",
    "#ax.set_xlim(0.,0.6e8)\n",
    "#ax.set_ylim(0.,0.6e8)\n",
    "ax.set_title(f\"{calibFluxCalMagStr} flux vs psfMag  (AB - mag)\")\n",
    "ax.grid()\n",
    "\n",
    "\n",
    "plt.suptitle(suptitle,y=1.0,fontsize=8)\n",
    "plt.tight_layout()"
   ]
  },
  {
   "cell_type": "code",
   "execution_count": null,
   "id": "75737a86-46e7-428d-a166-af650921583d",
   "metadata": {},
   "outputs": [],
   "source": [
    "fig,axs = plt.subplots(1,5,figsize=(16,4))\n",
    "ax=axs[0]\n",
    "dataJoined_subset_g.plot.scatter(x=\"psfFlux\",y=calibFluxCalStr,ax=ax,color=\"g\",marker=\"+\",label=\"g\",grid=True)\n",
    "ax.set_aspect('equal')\n",
    "ax=axs[1]\n",
    "dataJoined_subset_r.plot.scatter(x=\"psfFlux\",y=calibFluxCalStr,ax=ax,color=\"r\",marker=\"+\",label=\"r\",grid=True)\n",
    "ax.set_aspect('equal')\n",
    "ax=axs[2]\n",
    "dataJoined_subset_i.plot.scatter(x=\"psfFlux\",y=calibFluxCalStr ,ax=ax,color=\"orange\",marker=\"+\",label=\"i\",grid=True)\n",
    "ax.set_aspect('equal')\n",
    "ax=axs[3]\n",
    "dataJoined_subset_z.plot.scatter(x=\"psfFlux\",y=calibFluxCalStr ,ax=ax,color=\"grey\",marker=\"+\",lw=0.5,label=\"z\",grid=True)\n",
    "ax.set_aspect('equal')\n",
    "ax=axs[4]\n",
    "dataJoined_subset_y.plot.scatter(x=\"psfFlux\",y=calibFluxCalStr,ax=ax,color=\"k\",marker=\"+\",lw=0.5,label=\"y\",grid=True)\n",
    "ax.set_aspect('equal')\n",
    "plt.suptitle(suptitle,y=1.0,fontsize=8)\n",
    "plt.tight_layout()"
   ]
  },
  {
   "cell_type": "code",
   "execution_count": null,
   "id": "f0f09ef0-bd31-4c55-bdf1-d8a41c8a0e25",
   "metadata": {},
   "outputs": [],
   "source": [
    "fig,axs = plt.subplots(1,2,figsize=(12,4))\n",
    "ax=axs[0]\n",
    "dataJoined_subset_g.plot.scatter(x=\"psfFlux\",y=\"psfFluxErr\",ax=ax,color=\"g\",marker=\"+\",lw=1,label=\"g\")\n",
    "dataJoined_subset_r.plot.scatter(x=\"psfFlux\",y=\"psfFluxErr\",ax=ax,color=\"r\",marker=\"+\",lw=1,label=\"r\")\n",
    "dataJoined_subset_i.plot.scatter(x=\"psfFlux\",y=\"psfFluxErr\",ax=ax,color=\"orange\",marker=\"+\",lw=1,label=\"i\")\n",
    "dataJoined_subset_z.plot.scatter(x=\"psfFlux\",y=\"psfFluxErr\",ax=ax,color=\"grey\",marker=\"+\",lw=0.5,label=\"z\")\n",
    "dataJoined_subset_y.plot.scatter(x=\"psfFlux\",y=\"psfFluxErr\",ax=ax,color=\"k\",marker=\"+\",lw=0.5,label=\"y\")\n",
    "ax.set_aspect(\"auto\")\n",
    "\n",
    "ax.set_title(\"psf flux error vs psf Flux (nanojanskys)\")\n",
    "ax.grid()\n",
    "\n",
    "ax=axs[1]\n",
    "dataJoined_subset_g.plot.scatter(x=\"psfMag\",y=\"psfMagErr\",ax=ax,color=\"g\",marker=\"+\",lw=1,label=\"g\")\n",
    "dataJoined_subset_r.plot.scatter(x=\"psfMag\",y=\"psfMagErr\",ax=ax,color=\"r\",marker=\"+\",lw=1,label=\"r\")\n",
    "dataJoined_subset_i.plot.scatter(x=\"psfMag\",y=\"psfMagErr\",ax=ax,color=\"orange\",marker=\"+\",lw=1,label=\"i\")\n",
    "dataJoined_subset_z.plot.scatter(x=\"psfMag\",y=\"psfMagErr\",ax=ax,color=\"grey\",marker=\"+\",lw=0.5,label=\"z\")\n",
    "dataJoined_subset_y.plot.scatter(x=\"psfMag\",y=\"psfMagErr\",ax=ax,color=\"k\",marker=\"+\",lw=0.5,label=\"y\")\n",
    "ax.set_aspect(\"auto\")\n",
    "\n",
    "ax.set_title(\"psfMag error vs psfMag (AB Mag)\")\n",
    "ax.grid()\n",
    "\n",
    "plt.suptitle(suptitle,y=1.0,fontsize=10)\n",
    "plt.tight_layout()"
   ]
  },
  {
   "cell_type": "code",
   "execution_count": null,
   "id": "789889f0-d9e5-4f7d-8db8-144543fbe40c",
   "metadata": {},
   "outputs": [],
   "source": [
    "fig,axs = plt.subplots(1,2,figsize=(12,4))\n",
    "ax=axs[0]\n",
    "dataJoined_subset_g.plot.scatter(x=calibFluxCalStr,y=calibFluxCalErrStr,ax=ax,color=\"g\",marker=\"+\",lw=1,label=\"g\")\n",
    "dataJoined_subset_r.plot.scatter(x=calibFluxCalStr,y=calibFluxCalErrStr,ax=ax,color=\"r\",marker=\"+\",lw=1,label=\"r\")\n",
    "dataJoined_subset_i.plot.scatter(x=calibFluxCalStr,y=calibFluxCalErrStr,ax=ax,color=\"orange\",marker=\"+\",lw=1,label=\"i\")\n",
    "dataJoined_subset_z.plot.scatter(x=calibFluxCalStr,y=calibFluxCalErrStr,ax=ax,color=\"grey\",marker=\"+\",lw=0.5,label=\"z\")\n",
    "dataJoined_subset_y.plot.scatter(x=calibFluxCalStr,y=calibFluxCalErrStr,ax=ax,color=\"k\",marker=\"+\",lw=0.5,label=\"y\")\n",
    "ax.set_aspect(\"auto\")\n",
    "\n",
    "ax.set_title(\"Ap flux error vs Ap Flux (nanojanskys)\")\n",
    "ax.grid()\n",
    "\n",
    "ax=axs[1]\n",
    "dataJoined_subset_g.plot.scatter(x=calibFluxCalMagStr,y=calibFluxCalMagErrStr,ax=ax,color=\"g\",marker=\"+\",lw=1,label=\"g\")\n",
    "dataJoined_subset_r.plot.scatter(x=calibFluxCalMagStr,y=calibFluxCalMagErrStr,ax=ax,color=\"r\",marker=\"+\",lw=1,label=\"r\")\n",
    "dataJoined_subset_i.plot.scatter(x=calibFluxCalMagStr,y=calibFluxCalMagErrStr,ax=ax,color=\"orange\",marker=\"+\",lw=1,label=\"i\")\n",
    "dataJoined_subset_z.plot.scatter(x=calibFluxCalMagStr,y=calibFluxCalMagErrStr,ax=ax,color=\"grey\",marker=\"+\",lw=0.5,label=\"z\")\n",
    "dataJoined_subset_y.plot.scatter(x=calibFluxCalMagStr,y=calibFluxCalMagErrStr,ax=ax,color=\"k\",marker=\"+\",lw=0.5,label=\"y\")\n",
    "ax.set_aspect(\"auto\")\n",
    "\n",
    "ax.set_title(\"Ap Mag error vs Ap Mag (AB Mag)\")\n",
    "ax.grid()\n",
    "\n",
    "plt.suptitle(suptitle,y=1.0,fontsize=10)\n",
    "plt.tight_layout()"
   ]
  },
  {
   "cell_type": "markdown",
   "id": "20803b60-fec5-4866-bb9a-d11755212532",
   "metadata": {},
   "source": [
    "## Statistics on Light Curves\n",
    "\n",
    "- want number of source per object"
   ]
  },
  {
   "cell_type": "code",
   "execution_count": null,
   "id": "c19e571b-b5bc-4d5a-a22c-3d6a06f3c011",
   "metadata": {},
   "outputs": [],
   "source": [
    "#my_list = list(dataJoined.columns)\n",
    "#for name in my_list:\n",
    "#    print(name)"
   ]
  },
  {
   "cell_type": "markdown",
   "id": "b3ae83c7-b49d-4cfa-ac0b-c623719ca27b",
   "metadata": {},
   "source": [
    "#### Compute pandas series with multi-label or series per color "
   ]
  },
  {
   "cell_type": "code",
   "execution_count": null,
   "id": "73b14c5a-0d1e-48eb-a167-e5a56f7e044b",
   "metadata": {},
   "outputs": [],
   "source": [
    "count_source_visit = dataJoined_subset.groupby(by=[\"obj_index\",\"band\"]).count()[\"visit\"]\n",
    "size_source_visit = dataJoined_subset.groupby(by=[\"obj_index\",\"band\"]).size()\n",
    "count_source_visit_g = dataJoined_subset_g.groupby(by=[\"obj_index\"]).count()[\"sourceId\"]\n",
    "count_source_visit_r = dataJoined_subset_r.groupby(by=[\"obj_index\"]).count()[\"sourceId\"]\n",
    "count_source_visit_i = dataJoined_subset_i.groupby(by=[\"obj_index\"]).count()[\"sourceId\"]\n",
    "count_source_visit_z = dataJoined_subset_z.groupby(by=[\"obj_index\"]).count()[\"sourceId\"]\n",
    "count_source_visit_y = dataJoined_subset_y.groupby(by=[\"obj_index\"]).count()[\"sourceId\"]\n",
    "size_source_visit_g = dataJoined_subset_g.groupby(by=[\"obj_index\"]).size()\n",
    "size_source_visit_r = dataJoined_subset_r.groupby(by=[\"obj_index\"]).size()\n",
    "size_source_visit_i = dataJoined_subset_i.groupby(by=[\"obj_index\"]).size()\n",
    "size_source_visit_z = dataJoined_subset_z.groupby(by=[\"obj_index\"]).size()\n",
    "size_source_visit_y = dataJoined_subset_y.groupby(by=[\"obj_index\"]).size()"
   ]
  },
  {
   "cell_type": "code",
   "execution_count": null,
   "id": "a6f234f4-d399-462f-8537-e1a0b98de480",
   "metadata": {},
   "outputs": [],
   "source": [
    "fig,axs = plt.subplots(1,5,figsize=(16,3))\n",
    "ax=axs[0]\n",
    "size_source_visit_g.hist(bins=50,range=(0,100.),ax=ax,facecolor=\"g\",alpha=0.5,label=\"g\")\n",
    "ax.legend()\n",
    "ax.set_ylabel(\"number of sources per object\")\n",
    "ax=axs[1]\n",
    "size_source_visit_r.hist(bins=50,range=(0,100.),ax=ax,facecolor=\"r\",alpha=0.5,label=\"r\")\n",
    "ax.legend()\n",
    "ax=axs[2]\n",
    "size_source_visit_i.hist(bins=50,range=(0,100.),ax=ax,facecolor=\"orange\",alpha=0.5,label=\"i\")\n",
    "ax.legend()\n",
    "ax=axs[3]\n",
    "size_source_visit_z.hist(bins=50,range=(0,100.),ax=ax,facecolor=\"grey\",alpha=0.5,label=\"z\")\n",
    "ax.legend()\n",
    "ax=axs[4]\n",
    "size_source_visit_y.hist(bins=50,range=(0,100.),ax=ax,facecolor=\"k\",alpha=0.5,label=\"y\")\n",
    "ax.legend()\n",
    "\n",
    "\n",
    "plt.suptitle(suptitle,y=1.0,fontsize=10)\n",
    "plt.tight_layout()"
   ]
  },
  {
   "cell_type": "code",
   "execution_count": null,
   "id": "00e18f1e-88c7-4ef3-9806-cf35c240e88c",
   "metadata": {},
   "outputs": [],
   "source": [
    "#count_source_visit[3,\"r\"]"
   ]
  },
  {
   "cell_type": "markdown",
   "id": "cfbec62c-c1ba-4be1-9cce-601292b3f20e",
   "metadata": {},
   "source": [
    "### Filtering the object using pandas series and dataframe"
   ]
  },
  {
   "cell_type": "markdown",
   "id": "d1bc7d9c-3351-4125-a00f-89d92ee784c3",
   "metadata": {},
   "source": [
    "#### Unstacking a multi-label pandas series into a dataframe"
   ]
  },
  {
   "cell_type": "code",
   "execution_count": null,
   "id": "f967b79e-1c4a-4a47-8f7d-53d73cf06150",
   "metadata": {},
   "outputs": [],
   "source": [
    "NMIN = 20. # minimum number of visit in Y band\n",
    "NBANDMIN = 3 # nimimum number of bands"
   ]
  },
  {
   "cell_type": "code",
   "execution_count": null,
   "id": "b5a055d7-eb37-449a-a3e7-28224ed1b75b",
   "metadata": {},
   "outputs": [],
   "source": [
    "size_source_visit "
   ]
  },
  {
   "cell_type": "code",
   "execution_count": null,
   "id": "cd7de923-1a7e-4cfb-81e0-1c93348bd231",
   "metadata": {},
   "outputs": [],
   "source": [
    "size_source_visit_unstacked = size_source_visit.unstack()\n",
    "size_source_visit_unstacked "
   ]
  },
  {
   "cell_type": "markdown",
   "id": "d45d475f-74a4-4e10-a158-360840a2ac19",
   "metadata": {},
   "source": [
    "#### Apply the selection on the pandas series"
   ]
  },
  {
   "cell_type": "code",
   "execution_count": null,
   "id": "3ec00874-3a78-4b6e-be43-3a1bb0b1629d",
   "metadata": {},
   "outputs": [],
   "source": [
    "cut_on_size_in_bands =  (size_source_visit_unstacked.g>= NMIN) & (size_source_visit_unstacked.r>= NMIN) & (size_source_visit_unstacked.z>= NMIN ) &  (size_source_visit_unstacked.y>= NMIN )\n",
    "\n",
    "size_source_visit_unstacked = size_source_visit_unstacked[cut_on_size_in_bands ] \n",
    "size_source_visit_unstacked"
   ]
  },
  {
   "cell_type": "code",
   "execution_count": null,
   "id": "e5a3d2c1-b78c-47e3-af6a-693405d3b2f2",
   "metadata": {},
   "outputs": [],
   "source": [
    "len(size_source_visit_unstacked)"
   ]
  },
  {
   "cell_type": "markdown",
   "id": "eb0fe52a-c01d-491d-a3fd-26879ba12a13",
   "metadata": {},
   "source": [
    "#### Dropping the object not having a visit in all bands on the pandas dataframe from unstacked series"
   ]
  },
  {
   "cell_type": "code",
   "execution_count": null,
   "id": "42e57013-68f0-4cc2-ba1f-b72ee4f0f038",
   "metadata": {},
   "outputs": [],
   "source": [
    "#size_source_visit_selected =size_source_visit_unstacked.dropna(axis=0,how='any') \n",
    "size_source_visit_selected = size_source_visit_unstacked.dropna(axis=0,subset=[\"g\",\"r\",\"z\",\"y\"],how='any')\n",
    "size_source_visit_selected\n",
    "#size_source_visit_selected =size_source_visit_unstacked\n",
    "#size_source_visit_selected"
   ]
  },
  {
   "cell_type": "markdown",
   "id": "1da39da2-a37a-4545-afef-8895260489fc",
   "metadata": {},
   "source": [
    "#### Restack the pandas dataframe into a pandas series with multi-label"
   ]
  },
  {
   "cell_type": "code",
   "execution_count": null,
   "id": "33ef938b-20e3-498e-a82b-eb66e2557b0a",
   "metadata": {},
   "outputs": [],
   "source": [
    "ser_size_source_visit_selected = size_source_visit_selected.stack()\n",
    "ser_size_source_visit_selected "
   ]
  },
  {
   "cell_type": "markdown",
   "id": "bcd3aadb-e004-4f7e-9a0a-7713295ac7ab",
   "metadata": {},
   "source": [
    "#### Extract the list of selected objects from the pandas dataframe (from unstacked series)"
   ]
  },
  {
   "cell_type": "code",
   "execution_count": null,
   "id": "fc80afc0-1ff3-44ed-9a3f-6676db5cb7a5",
   "metadata": {},
   "outputs": [],
   "source": [
    "selected_objects_indexes = list(size_source_visit_selected.index)\n",
    "print(\"Nobj = \",len(selected_objects_indexes),\"::\",selected_objects_indexes )"
   ]
  },
  {
   "cell_type": "code",
   "execution_count": null,
   "id": "2f4f2a07-752c-40f2-8711-8fc2b49ee9a0",
   "metadata": {},
   "outputs": [],
   "source": [
    "selected_objects_indexes = list(set([912]) | set(selected_objects_indexes))"
   ]
  },
  {
   "cell_type": "code",
   "execution_count": null,
   "id": "521bf9a7-7385-47a6-8244-3a60a0322918",
   "metadata": {},
   "outputs": [],
   "source": [
    "#ser_size_source_visit_selected.keys() "
   ]
  },
  {
   "cell_type": "markdown",
   "id": "e830143b-4aa9-439a-ac31-923add461a76",
   "metadata": {},
   "source": [
    "#### Loop on keys multi-label in pandas series"
   ]
  },
  {
   "cell_type": "code",
   "execution_count": null,
   "id": "bcf7c00d-0cc9-407a-b5ac-691272a29447",
   "metadata": {},
   "outputs": [],
   "source": [
    "#for name,group in dataJoined_subset.groupby(by=[\"obj_index\",\"band\"]):\n",
    "#    print(\"name = \",name)\n",
    "#    print(\"group = \",group[\"visitId\"])"
   ]
  },
  {
   "cell_type": "code",
   "execution_count": null,
   "id": "d1c8439c-8f88-4265-bd7f-49f3ee7077d9",
   "metadata": {},
   "outputs": [],
   "source": [
    "#for (idx,band),val in count_source_visit:\n",
    "#    print(idx,band,val)"
   ]
  },
  {
   "cell_type": "markdown",
   "id": "073a5473-4179-4595-ba98-f7394b85fd2f",
   "metadata": {},
   "source": [
    "### Plot the SED with psf Flux or choose which type of photometry apFlux_35_0_calMag or psfMag"
   ]
  },
  {
   "cell_type": "code",
   "execution_count": null,
   "id": "7d17b246-9b8d-4144-8fdd-06f21567f027",
   "metadata": {},
   "outputs": [],
   "source": [
    "#because aperture magnitudes are less accurate than psf magnitudes\n",
    "FLAG_PSFMAG = True"
   ]
  },
  {
   "cell_type": "code",
   "execution_count": null,
   "id": "5f40c936-c510-48af-904f-7950d7eb7153",
   "metadata": {},
   "outputs": [],
   "source": [
    "df_obj_sed = pd.DataFrame(columns=['idx_obj', 'ra', 'dec','magG', 'magR','magI','magZ','magY'])\n",
    "\n",
    "icnt =0\n",
    "for idx_obj_sel in selected_objects_indexes:\n",
    "#for idx_obj_sel in [120]:\n",
    "    cut_sel_object = dataJoined_subset.obj_index == idx_obj_sel \n",
    "    isolatedStarSources_sel = dataJoined_subset[cut_sel_object] \n",
    "\n",
    "    isolatedStarSources_sel_g = isolatedStarSources_sel[isolatedStarSources_sel[\"band\"] == \"g\"]\n",
    "    isolatedStarSources_sel_r = isolatedStarSources_sel[isolatedStarSources_sel[\"band\"] == \"r\"]\n",
    "    isolatedStarSources_sel_i = isolatedStarSources_sel[isolatedStarSources_sel[\"band\"] == \"i\"]\n",
    "    isolatedStarSources_sel_z = isolatedStarSources_sel[isolatedStarSources_sel[\"band\"] == \"z\"]\n",
    "    isolatedStarSources_sel_y = isolatedStarSources_sel[isolatedStarSources_sel[\"band\"] == \"y\"]\n",
    "\n",
    "    ra = isolatedStarSources_sel_g['ra'].mean()\n",
    "    dec = isolatedStarSources_sel_g['dec'].mean()\n",
    "\n",
    "    if FLAG_PSFMAG:\n",
    "        df_obj_sed.loc[icnt] = [idx_obj_sel,ra,dec,\n",
    "                             isolatedStarSources_sel_g['psfMag'].median(),\n",
    "                             isolatedStarSources_sel_r['psfMag'].median(),   \n",
    "                             isolatedStarSources_sel_i['psfMag'].median(),   \n",
    "                             isolatedStarSources_sel_z['psfMag'].median(),\n",
    "                             isolatedStarSources_sel_y['psfMag'].median()]\n",
    "    else:\n",
    "        df_obj_sed.loc[icnt] = [idx_obj_sel,ra,dec,\n",
    "                             isolatedStarSources_sel_g[calibFluxCalMagStr].median(),\n",
    "                             isolatedStarSources_sel_r[calibFluxCalMagStr].median(),   \n",
    "                             isolatedStarSources_sel_i[calibFluxCalMagStr].median(),   \n",
    "                             isolatedStarSources_sel_z[calibFluxCalMagStr].median(),\n",
    "                             isolatedStarSources_sel_y[calibFluxCalMagStr].median()]\n",
    "\n",
    "    icnt +=1"
   ]
  },
  {
   "cell_type": "markdown",
   "id": "dcbfbc63-c789-4b45-8fac-d2a5cba28083",
   "metadata": {},
   "source": [
    "# Save a selected object and sources"
   ]
  },
  {
   "cell_type": "code",
   "execution_count": null,
   "id": "475a3d87-6517-4397-b4b0-72fb45d8e31d",
   "metadata": {},
   "outputs": [],
   "source": [
    "if 912 in selected_objects_indexes:\n",
    "    idx_obj_sel = 912\n",
    "    selected_objects_indexes = [idx_obj_sel] + selected_objects_indexes\n",
    "    output_objects_file = f\"sources_objectTable-t{tract}-multibands-o{idx_obj_sel}-{collectionStr}.csv\"\n",
    "    print(output_objects_file)\n",
    "    #cut_sel_object = dataJoined_subset.obj_index == idx_obj_sel \n",
    "    #isolatedStarSources_sel = dataJoined_subset[cut_sel_object] \n",
    "    cut_sel_object = dataJoined.obj_index == idx_obj_sel \n",
    "    isolatedStarSources_sel = dataJoined[cut_sel_object] \n",
    "    isolatedStarSources_sel.to_csv(output_objects_file)  "
   ]
  },
  {
   "cell_type": "code",
   "execution_count": null,
   "id": "bbec56ff-0bc4-4495-9258-ec70c6f0b755",
   "metadata": {},
   "outputs": [],
   "source": [
    "\n",
    "\n",
    "icnt = 0\n",
    "for idx_obj_sel in selected_objects_indexes:\n",
    "#for idx_obj_sel in [120]:\n",
    "    cut_sel_object = dataJoined_subset.obj_index == idx_obj_sel \n",
    "    isolatedStarSources_sel = dataJoined_subset[cut_sel_object] \n",
    "\n",
    "    isolatedStarSources_sel_g = isolatedStarSources_sel[isolatedStarSources_sel[\"band\"] == \"g\"]\n",
    "    isolatedStarSources_sel_r = isolatedStarSources_sel[isolatedStarSources_sel[\"band\"] == \"r\"]\n",
    "    isolatedStarSources_sel_i = isolatedStarSources_sel[isolatedStarSources_sel[\"band\"] == \"i\"]\n",
    "    isolatedStarSources_sel_z = isolatedStarSources_sel[isolatedStarSources_sel[\"band\"] == \"z\"]\n",
    "    isolatedStarSources_sel_y = isolatedStarSources_sel[isolatedStarSources_sel[\"band\"] == \"y\"]\n",
    "\n",
    "    ra = isolatedStarSources_sel_g['ra'].mean()\n",
    "    dec = isolatedStarSources_sel_g['dec'].mean()\n",
    "\n",
    "    icnt +=1\n",
    "\n",
    "    fig,axes = plt.subplots(1,5,figsize=(10,3))\n",
    "    axs= axes.flatten()\n",
    "    if FLAG_PSFMAG:\n",
    "        for idx,ax in enumerate(axs):\n",
    "            if idx==0:\n",
    "                print(len(isolatedStarSources_sel_g[\"psfFlux\"]))\n",
    "                isolatedStarSources_sel_g[\"psfFlux\"].hist(bins=100,facecolor=\"g\",ax=ax, orientation=\"horizontal\")\n",
    "                #isolatedStarSources_sel_g[\"psfFlux\"].hist(bins=100,facecolor=\"g\",ax=ax)\n",
    "                ax.legend(\"g\")\n",
    "                ax.set_ylabel(\"psfFlux (nanoJansky)\")\n",
    "            elif idx==1:\n",
    "                isolatedStarSources_sel_r[\"psfFlux\"].hist(bins=40,facecolor=\"r\",ax=ax, orientation=\"horizontal\")\n",
    "                ax.legend(\"r\")\n",
    "            elif idx==2:\n",
    "                isolatedStarSources_sel_i[\"psfFlux\"].hist(bins=40,facecolor=\"orange\",ax=ax, orientation=\"horizontal\")\n",
    "                ax.legend(\"z\")\n",
    "            elif idx==3:\n",
    "                isolatedStarSources_sel_z[\"psfFlux\"].hist(bins=40,facecolor=\"grey\",ax=ax, orientation=\"horizontal\")\n",
    "                ax.legend(\"z\")\n",
    "            elif idx==4:\n",
    "                isolatedStarSources_sel_y[\"psfFlux\"].hist(bins=40,facecolor=\"k\",ax=ax, orientation=\"horizontal\")\n",
    "                ax.legend(\"y\")\n",
    "    else:\n",
    "        for idx,ax in enumerate(axs):\n",
    "            if idx==0:\n",
    "                print(len(isolatedStarSources_sel_g[calibFluxCalStr]))\n",
    "                isolatedStarSources_sel_g[calibFluxCalMagStr].hist(bins=100,facecolor=\"g\",ax=ax, orientation=\"horizontal\")\n",
    "                #isolatedStarSources_sel_g[\"psfFlux\"].hist(bins=100,facecolor=\"g\",ax=ax)\n",
    "                ax.legend(\"g\")\n",
    "                ax.set_ylabel(\"Ap Flux (nanoJansky)\")\n",
    "            elif idx==1:\n",
    "                isolatedStarSources_sel_r[calibFluxCalStr].hist(bins=40,facecolor=\"r\",ax=ax, orientation=\"horizontal\")\n",
    "                ax.legend(\"r\")\n",
    "            elif idx==2:\n",
    "                isolatedStarSources_sel_i[calibFluxCalStr].hist(bins=40,facecolor=\"orange\",ax=ax, orientation=\"horizontal\")\n",
    "                ax.legend(\"z\")\n",
    "            elif idx==3:\n",
    "                isolatedStarSources_sel_z[calibFluxCalStr].hist(bins=40,facecolor=\"grey\",ax=ax, orientation=\"horizontal\")\n",
    "                ax.legend(\"z\")\n",
    "            elif idx==4:\n",
    "                isolatedStarSources_sel_y[calibFluxCalStr].hist(bins=40,facecolor=\"k\",ax=ax, orientation=\"horizontal\")\n",
    "                ax.legend(\"y\")\n",
    "\n",
    "    \n",
    "    plt.tight_layout(h_pad=0)  \n",
    "    title =f\"object {idx_obj_sel}\"\n",
    "    #filename = f\"sed_color_flux_obj_{idx_obj_sel}.png\"\n",
    "    plt.suptitle(title,y=1.000)\n",
    "    #plt.savefig(filename)\n",
    "    plt.show()\n",
    "\n",
    "    if icnt> 10:\n",
    "        break\n",
    "plt.suptitle(suptitle,y=1.0,fontsize=10)"
   ]
  },
  {
   "cell_type": "code",
   "execution_count": null,
   "id": "add5b591-9a69-4f84-8844-175bfc12eb4d",
   "metadata": {},
   "outputs": [],
   "source": [
    "icnt =0\n",
    "for idx_obj_sel in selected_objects_indexes:\n",
    "#for idx_obj_sel in [120]:\n",
    "    cut_sel_object = dataJoined_subset.obj_index == idx_obj_sel \n",
    "    isolatedStarSources_sel = dataJoined_subset[cut_sel_object] \n",
    "\n",
    "    isolatedStarSources_sel_g = isolatedStarSources_sel[isolatedStarSources_sel[\"band\"] == \"g\"]\n",
    "    isolatedStarSources_sel_r = isolatedStarSources_sel[isolatedStarSources_sel[\"band\"] == \"r\"]\n",
    "    isolatedStarSources_sel_i = isolatedStarSources_sel[isolatedStarSources_sel[\"band\"] == \"i\"]\n",
    "    isolatedStarSources_sel_z = isolatedStarSources_sel[isolatedStarSources_sel[\"band\"] == \"z\"]\n",
    "    isolatedStarSources_sel_y = isolatedStarSources_sel[isolatedStarSources_sel[\"band\"] == \"y\"]\n",
    "\n",
    "    ra = isolatedStarSources_sel_g['ra'].mean()\n",
    "    dec = isolatedStarSources_sel_g['dec'].mean()\n",
    "\n",
    "    icnt +=1\n",
    "\n",
    "    fig,axes = plt.subplots(1,5,figsize=(10,3))\n",
    "    axs= axes.flatten()\n",
    "\n",
    "\n",
    "    if FLAG_PSFMAG:\n",
    "        for idx,ax in enumerate(axs):\n",
    "            if idx==0:\n",
    "                isolatedStarSources_sel_g[\"psfMag\"].hist(bins=100,facecolor=\"g\",ax=ax, orientation=\"horizontal\")\n",
    "                #isolatedStarSources_sel_g[\"psfFlux\"].hist(bins=100,facecolor=\"g\",ax=ax)\n",
    "                ax.legend(\"g\")\n",
    "                ax.set_ylabel(\"psfMag (AB)\")\n",
    "            elif idx==1:\n",
    "                isolatedStarSources_sel_r[\"psfMag\"].hist(bins=40,facecolor=\"r\",ax=ax, orientation=\"horizontal\")\n",
    "                ax.legend(\"r\")\n",
    "            elif idx==2:\n",
    "                isolatedStarSources_sel_i[\"psfMag\"].hist(bins=40,facecolor=\"orange\",ax=ax, orientation=\"horizontal\")\n",
    "                ax.legend(\"i\")\n",
    "            elif idx==3:\n",
    "                isolatedStarSources_sel_z[\"psfMag\"].hist(bins=40,facecolor=\"grey\",ax=ax, orientation=\"horizontal\")\n",
    "                ax.legend(\"z\")\n",
    "            elif idx==4:\n",
    "                isolatedStarSources_sel_y[\"psfMag\"].hist(bins=40,facecolor=\"k\",ax=ax, orientation=\"horizontal\")\n",
    "                ax.legend(\"y\")\n",
    "\n",
    "    else:\n",
    "         for idx,ax in enumerate(axs):\n",
    "            if idx==0:\n",
    "                isolatedStarSources_sel_g[calibFluxCalMagStr].hist(bins=100,facecolor=\"g\",ax=ax, orientation=\"horizontal\")\n",
    "                #isolatedStarSources_sel_g[\"psfFlux\"].hist(bins=100,facecolor=\"g\",ax=ax)\n",
    "                ax.legend(\"g\")\n",
    "                ax.set_ylabel(\"Ap Mag (AB)\")\n",
    "            elif idx==1:\n",
    "                isolatedStarSources_sel_r[calibFluxCalMagStr].hist(bins=40,facecolor=\"r\",ax=ax, orientation=\"horizontal\")\n",
    "                ax.legend(\"r\")\n",
    "            elif idx==2:\n",
    "                isolatedStarSources_sel_i[calibFluxCalMagStr].hist(bins=40,facecolor=\"orange\",ax=ax, orientation=\"horizontal\")\n",
    "                ax.legend(\"i\")\n",
    "            elif idx==3:\n",
    "                isolatedStarSources_sel_z[calibFluxCalMagStr].hist(bins=40,facecolor=\"grey\",ax=ax, orientation=\"horizontal\")\n",
    "                ax.legend(\"z\")\n",
    "            elif idx==4:\n",
    "                isolatedStarSources_sel_y[calibFluxCalMagStr].hist(bins=40,facecolor=\"k\",ax=ax, orientation=\"horizontal\")\n",
    "                ax.legend(\"y\")\n",
    "                \n",
    "\n",
    "    plt.tight_layout(h_pad=0)  \n",
    "    title =f\"object {idx_obj_sel}\"\n",
    "    #filename = f\"sed_color_flux_obj_{idx_obj_sel}.png\"\n",
    "    plt.suptitle(title,y=1.000)\n",
    "    #plt.savefig(filename)\n",
    "    plt.show()\n",
    "\n",
    "    if icnt> 10:\n",
    "        break\n",
    "plt.suptitle(suptitle,y=1.0,fontsize=10)"
   ]
  },
  {
   "cell_type": "code",
   "execution_count": null,
   "id": "daf4b059-7f5e-4727-8bfa-36962cc43306",
   "metadata": {},
   "outputs": [],
   "source": [
    "# define the sigmaclip algo\n",
    "sigclip = SigmaClip(sigma=3, maxiters=None, cenfunc='mean')\n",
    "\n",
    "\n",
    "df_obj_sed = pd.DataFrame(columns=['idx_obj', 'ra', 'dec','magG', 'magR','magI','magZ','magY','smagG', 'smagR','smagI','smagZ','smagY'])\n",
    "\n",
    "icnt =0\n",
    "for idx_obj_sel in selected_objects_indexes:\n",
    "#for idx_obj_sel in [120]:\n",
    "    cut_sel_object = dataJoined_subset.obj_index == idx_obj_sel \n",
    "    isolatedStarSources_sel = dataJoined_subset[cut_sel_object] \n",
    "\n",
    "    isolatedStarSources_sel_g = isolatedStarSources_sel[isolatedStarSources_sel[\"band\"] == \"g\"]\n",
    "    isolatedStarSources_sel_r = isolatedStarSources_sel[isolatedStarSources_sel[\"band\"] == \"r\"]\n",
    "    isolatedStarSources_sel_i = isolatedStarSources_sel[isolatedStarSources_sel[\"band\"] == \"i\"]\n",
    "    isolatedStarSources_sel_z = isolatedStarSources_sel[isolatedStarSources_sel[\"band\"] == \"z\"]\n",
    "    isolatedStarSources_sel_y = isolatedStarSources_sel[isolatedStarSources_sel[\"band\"] == \"y\"]\n",
    "\n",
    "    if FLAG_PSFMAG:\n",
    "        sample_g = isolatedStarSources_sel_g['psfMag'].values\n",
    "        sample_r = isolatedStarSources_sel_r['psfMag'].values\n",
    "        sample_i = isolatedStarSources_sel_i['psfMag'].values\n",
    "        sample_z = isolatedStarSources_sel_z['psfMag'].values\n",
    "        sample_y = isolatedStarSources_sel_y['psfMag'].values\n",
    "    else:\n",
    "        sample_g = isolatedStarSources_sel_g[calibFluxCalMagStr].values\n",
    "        sample_r = isolatedStarSources_sel_r[calibFluxCalMagStr].values\n",
    "        sample_i = isolatedStarSources_sel_i[calibFluxCalMagStr].values\n",
    "        sample_z = isolatedStarSources_sel_z[calibFluxCalMagStr].values\n",
    "        sample_y = isolatedStarSources_sel_y[calibFluxCalMagStr].values\n",
    "        \n",
    " \n",
    "    sample_g = sigclip(sample_g, masked=False, copy=False)\n",
    "    sample_r = sigclip(sample_r, masked=False, copy=False)\n",
    "    sample_i = sigclip(sample_i, masked=False, copy=False)\n",
    "    sample_z = sigclip(sample_z, masked=False, copy=False)\n",
    "    sample_y = sigclip(sample_y, masked=False, copy=False)\n",
    "\n",
    "    # sig gaussian estimation\n",
    "    med_g = np.median(sample_g)\n",
    "    med_r = np.median(sample_r)\n",
    "    med_i = np.median(sample_i)\n",
    "    med_z = np.median(sample_z)\n",
    "    med_y = np.median(sample_y)\n",
    "    \n",
    "    sig_g = 0.7413*(np.percentile(sample_g,75.0) - np.percentile(sample_g,25.0))\n",
    "    sig_r = 0.7413*(np.percentile(sample_r,75.0) - np.percentile(sample_r,25.0))\n",
    "    #sig_i = 0.7413*(np.percentile(sample_i,75.0) - np.percentile(sample_i,25.0))\n",
    "    sig_i = np.std(sample_i)\n",
    "    \n",
    "    sig_z = 0.7413*(np.percentile(sample_z,75.0) - np.percentile(sample_z,25.0))\n",
    "    sig_y = 0.7413*(np.percentile(sample_y,75.0) - np.percentile(sample_y,25.0))\n",
    "    \n",
    "    ra = isolatedStarSources_sel_g['ra'].mean()\n",
    "    dec = isolatedStarSources_sel_g['dec'].mean()\n",
    "    \n",
    "    df_obj_sed.loc[icnt] = [idx_obj_sel,ra,dec,\n",
    "                             #sample_g.mean(),sample_r.mean(),sample_i.mean(),0.,0.,\n",
    "                             #sample_g.median(),sample_r.median(),sample_i.median(),0.,0.,\n",
    "                             #sample_g.std(),sample_r.std(),sample_i.std(),0.,0.\n",
    "                            med_g,med_r,med_i,med_z,med_y,\n",
    "                            sig_g,sig_r,sig_i,sig_z,sig_y\n",
    "                           ]\n",
    "\n",
    "    icnt +=1"
   ]
  },
  {
   "cell_type": "code",
   "execution_count": null,
   "id": "d01b5dff-6e02-4ed8-97d9-3cd9dc8b80b5",
   "metadata": {},
   "outputs": [],
   "source": [
    "dict_photores = {}\n",
    "Flist = [\"G\",\"R\",\"I\",\"Z\",\"Y\"]\n",
    "for f in Flist :\n",
    "    label = f\"smag{f}\"\n",
    "    samples = df_obj_sed[label].values\n",
    "    smean = np.median(samples)\n",
    "    smmag = smean*1000. \n",
    "    title = \"{} = {:.2f} mmag\".format(label,smmag)\n",
    "\n",
    "    d = dict(sig=smean,title=title)\n",
    "    dict_photores[f] = d"
   ]
  },
  {
   "cell_type": "code",
   "execution_count": null,
   "id": "74dd1e12-7499-4167-addb-a7e66b14bab6",
   "metadata": {},
   "outputs": [],
   "source": [
    "dict_photores"
   ]
  },
  {
   "cell_type": "code",
   "execution_count": null,
   "id": "b528ac33-dda1-47f1-946d-56642e48607e",
   "metadata": {},
   "outputs": [],
   "source": [
    "fig,axes = plt.subplots(1,5,figsize=(16,4),sharey=True)\n",
    "axs= axes.flatten()\n",
    "for idx,ax in enumerate(axs):\n",
    "    f = Flist[idx]\n",
    "    if idx==0:\n",
    "           \n",
    "            #isolatedStarSources_sel_g[\"psfMag\"].hist(bins=100,facecolor=\"g\",ax=ax, orientation=\"horizontal\")\n",
    "            df_obj_sed.plot.scatter( x=\"magG\", y=\"smagG\",marker= \"+\", color=\"g\",ax=ax)\n",
    "            ax.legend(\"g\")\n",
    "            ax.set_ylabel(\"sigma Mag (AB)\")\n",
    "            ax.grid()\n",
    "            ax.axhline(dict_photores[f]['sig'],color=\"g\",lw=3)\n",
    "            ax.set_title(dict_photores[f]['title'])\n",
    "   \n",
    "    elif idx==1:\n",
    "            df_obj_sed.plot.scatter( x=\"magR\", y=\"smagR\",marker= \"+\", color=\"r\",ax=ax)\n",
    "            ax.legend(\"r\")\n",
    "            ax.grid()\n",
    "            ax.axhline(dict_photores[f]['sig'],color=\"r\",lw=3)\n",
    "            ax.set_title(dict_photores[f]['title'])\n",
    "    elif idx==2:\n",
    "            df_obj_sed.plot.scatter( x=\"magI\", y=\"smagI\",marker= \"+\", color=\"orange\",ax=ax)\n",
    "            ax.legend(\"i\")   \n",
    "            ax.grid()\n",
    "            ax.axhline(dict_photores[f]['sig'],color=\"orange\",lw=3)\n",
    "            ax.set_title(dict_photores[f]['title'])\n",
    "    elif idx==3:\n",
    "            df_obj_sed.plot.scatter( x=\"magZ\", y=\"smagZ\",marker= \"+\", color=\"grey\",ax=ax)\n",
    "            ax.legend(\"z\")\n",
    "            ax.grid()\n",
    "            ax.axhline(dict_photores[f]['sig'],color=\"grey\")\n",
    "            ax.set_title(dict_photores[f]['title'])\n",
    "    elif idx==4:\n",
    "            df_obj_sed.plot.scatter( x=\"magY\", y=\"smagY\",marker= \"+\", color=\"k\",ax=ax)\n",
    "            ax.legend(\"y\")\n",
    "            ax.grid()\n",
    "            ax.axhline(dict_photores[f]['sig'],color=\"k\")\n",
    "            ax.set_title(dict_photores[f]['title'])\n",
    "ax.set_ylim(0.,0.05)\n",
    "plt.tight_layout(h_pad=0)  \n",
    "\n",
    "#    plt.suptitle(title,y=1.000)\n",
    "#    plt.savefig(filename)\n",
    "plt.suptitle(suptitle,y=1.0,fontsize=10)\n",
    "plt.show()"
   ]
  },
  {
   "cell_type": "markdown",
   "id": "5f7df96c-7e2b-43a2-b3ed-a674076e764b",
   "metadata": {},
   "source": [
    "### add object color"
   ]
  },
  {
   "cell_type": "code",
   "execution_count": null,
   "id": "994e2764-bdf6-4cb8-9e8a-25602aee5af3",
   "metadata": {},
   "outputs": [],
   "source": [
    "df_obj_sed[\"G_R\"] = df_obj_sed[\"magG\"] - df_obj_sed[\"magR\"]\n",
    "df_obj_sed[\"Z_Y\"] = df_obj_sed[\"magZ\"] - df_obj_sed[\"magI\"]"
   ]
  },
  {
   "cell_type": "code",
   "execution_count": null,
   "id": "56a6ca6b-efc7-4589-b728-fcc59d4f442e",
   "metadata": {},
   "outputs": [],
   "source": [
    "fig,ax = plt.subplots(1,1,figsize=(10,6))\n",
    "df_obj_sed.plot.scatter(x=\"Z_Y\", y=\"smagY\",marker= \"o\", color=\"k\",ax=ax,label=\"sigY vs Z-Y\")\n",
    "df_obj_sed.plot.scatter(x=\"Z_Y\", y=\"smagZ\",marker= \"o\", color=\"grey\",ax=ax,label=\"sigY vs Z-Y\")\n",
    "df_obj_sed.plot.scatter(x=\"G_R\", y=\"smagG\",marker= \"o\", color=\"g\",ax=ax,label=\"sigG vs G-R\")\n",
    "df_obj_sed.plot.scatter(x=\"G_R\", y=\"smagR\",marker= \"o\", color=\"r\",ax=ax,label=\"sigR vs G-R\")\n",
    "ax.set_xlabel(\"color (Z-Y, G-R)\")\n",
    "ax.set_ylabel(\"sigma-Mag (sigY, sigZ,sigG,sigR), mag\")\n",
    "ax.set_title(\"photometric repeatability vs color\")\n",
    "ax.grid()\n",
    "plt.suptitle(suptitle,y=1.0,fontsize=10)\n",
    "plt.show()"
   ]
  },
  {
   "cell_type": "code",
   "execution_count": null,
   "id": "a293ac1f-5aee-43cf-8541-9511f596f9b5",
   "metadata": {},
   "outputs": [],
   "source": [
    "#| color | g1-r1    | g2-r2   | g1-y1    | g2-y2    | r1-y1    | r2-y1    | z1-y1     | z2-y2    |\n",
    "#| ----- | -------- | ------- | -------- | -------- | -------- | -------- | --------- | -------- |\n",
    "#| mean  | 0.210940 | 0.70546 | 0.308111 | 1.216009 | 0.098398 | 0.512060 | -0.059711 | 0.016295 |\n",
    "#| std   | 0.032865 | 0.03095 | 0.043392 | 0.041790 | 0.057754 | 0.061969 | 0.051999  | 0.046869 |"
   ]
  },
  {
   "cell_type": "code",
   "execution_count": null,
   "id": "aba49ae3-4ed1-415a-9c8c-c2b928de7c54",
   "metadata": {},
   "outputs": [],
   "source": [
    "g_r_1 = 0.210940 \n",
    "z_y_1 = -0.059711\n",
    "\n",
    "g_r_2 = 0.03095 \n",
    "z_y_2 = 0.046869"
   ]
  },
  {
   "cell_type": "code",
   "execution_count": null,
   "id": "f71d42f4-93e6-4641-b44d-2e6817eb6b72",
   "metadata": {},
   "outputs": [],
   "source": [
    "fig,ax = plt.subplots(1,1,figsize=(10,6))\n",
    "df_obj_sed.plot.scatter(x=\"Z_Y\", y=\"G_R\",marker= \"o\", c=\"smagY\",cmap=\"jet\",ax=ax)\n",
    "ax.set_xlabel(\"Z-Y mag\")\n",
    "ax.set_ylabel(\"G-R mag\")\n",
    "ax.set_title(\"color-color plot\")\n",
    "ax.scatter([z_y_1 ,z_y_2],[ g_r_1,g_r_2],marker=\"o\", s=80, facecolors='none', edgecolors=['k','grey'],lw=2)\n",
    "#ann1 = Annulus((z_y_1,g_r_1),r=0.01,width=0.005,color=\"k\")\n",
    "#ax.add_patch(ann1)\n",
    "#ann2 = Annulus((z_y_2,g_r_2),r=0.01,width=0.005,color=\"grey\")\n",
    "#ax.add_patch(ann2)\n",
    "ax.grid()\n",
    "plt.suptitle(suptitle,y=1.0,fontsize=10)\n",
    "plt.show()"
   ]
  },
  {
   "cell_type": "code",
   "execution_count": null,
   "id": "67d20ba0-0d4c-4556-b053-509e7fce9c5e",
   "metadata": {},
   "outputs": [],
   "source": [
    "fig,axes = plt.subplots(1,5,figsize=(16,4),sharey=True)\n",
    "axs= axes.flatten()\n",
    "for idx,ax in enumerate(axs):\n",
    "    f = Flist[idx]\n",
    "    if idx==0:\n",
    "           \n",
    "            #isolatedStarSources_sel_g[\"psfMag\"].hist(bins=100,facecolor=\"g\",ax=ax, orientation=\"horizontal\")\n",
    "            df_obj_sed.hist(\"smagG\",bins=30,range=(0,0.05), color=\"g\",ax=ax)\n",
    "            ax.legend(\"g\")\n",
    "            ax.set_xlabel(\"sigma Mag (AB)\")\n",
    "            ax.grid()\n",
    "            ax.axvline(dict_photores[f]['sig'],color=\"g\",ls=\":\")\n",
    "            ax.set_title(dict_photores[f]['title'])\n",
    "   \n",
    "    elif idx==1:\n",
    "            df_obj_sed.hist(\"smagR\",bins=30,range=(0,0.05), color=\"r\",ax=ax)\n",
    "            ax.legend(\"r\")\n",
    "            ax.grid()\n",
    "            ax.set_xlabel(\"sigma Mag (AB)\")\n",
    "            ax.axvline(dict_photores[f]['sig'],color=\"r\",ls=\":\")\n",
    "            ax.set_title(dict_photores[f]['title'])\n",
    "    elif idx==2:\n",
    "            df_obj_sed.hist(\"smagI\",bins=30,range=(0,0.05), color=\"orange\",ax=ax)\n",
    "            ax.legend(\"i\")   \n",
    "            ax.grid()\n",
    "            ax.axvline(dict_photores[f]['sig'],color=\"orange\",ls=\":\")\n",
    "            ax.set_title(dict_photores[f]['title'])\n",
    "            ax.set_xlabel(\"sigma Mag (AB)\")\n",
    "    elif idx==3:\n",
    "            df_obj_sed.hist(\"smagZ\",bins=30,range=(0,0.05), color=\"grey\",ax=ax)\n",
    "            ax.legend(\"z\")\n",
    "            ax.grid()\n",
    "            ax.axvline(dict_photores[f]['sig'],color=\"grey\",ls=\":\")\n",
    "            ax.set_title(dict_photores[f]['title'])\n",
    "            ax.set_xlabel(\"sigma Mag (AB)\")\n",
    "    elif idx==4:\n",
    "            df_obj_sed.hist(\"smagY\",bins=30,range=(0,0.05), color=\"k\",ax=ax)\n",
    "            ax.legend(\"y\")\n",
    "            ax.grid()\n",
    "            ax.axvline(dict_photores[f]['sig'],color=\"k\",ls=\":\")\n",
    "            ax.set_title(dict_photores[f]['title'])\n",
    "            ax.set_xlabel(\"sigma Mag (AB)\")\n",
    "plt.tight_layout(h_pad=0)  \n",
    "\n",
    "#    plt.suptitle(title,y=1.000)\n",
    "#    plt.savefig(filename)\n",
    "plt.suptitle(suptitle,y=1.0,fontsize=10)\n",
    "plt.show()"
   ]
  },
  {
   "cell_type": "markdown",
   "id": "29232706-1c0f-40ee-9479-14147fd74dce",
   "metadata": {},
   "source": [
    "### Cut on selected light-curves"
   ]
  },
  {
   "cell_type": "code",
   "execution_count": null,
   "id": "389731b9-d7a9-4afb-baf2-882615fd0d78",
   "metadata": {},
   "outputs": [],
   "source": [
    "obj_ids_all = df_obj_sed.idx_obj.values.astype(int)"
   ]
  },
  {
   "cell_type": "code",
   "execution_count": null,
   "id": "b9edfdba-d90e-4a0c-b316-98d88cb46037",
   "metadata": {},
   "outputs": [],
   "source": [
    "cut_goods = (df_obj_sed[\"smagG\"]<0.025) & (df_obj_sed[\"smagR\"]<0.025)\t& (df_obj_sed[\"smagZ\"]<0.025) & (df_obj_sed[\"smagY\"]<0.025) \n",
    "cut_bads = (df_obj_sed[\"smagG\"]>0.1) | (df_obj_sed[\"smagI\"]>0.1) | (df_obj_sed[\"smagY\"] > 0.1)"
   ]
  },
  {
   "cell_type": "code",
   "execution_count": null,
   "id": "48719d36-6862-4266-81f2-8c8bf899b5a6",
   "metadata": {},
   "outputs": [],
   "source": [
    "df_obj_sed_goods = df_obj_sed[cut_goods]\n",
    "df_obj_sed_bads = df_obj_sed[cut_bads]"
   ]
  },
  {
   "cell_type": "code",
   "execution_count": null,
   "id": "806c2807-d4a5-4935-9262-4f06c75c2bb2",
   "metadata": {},
   "outputs": [],
   "source": [
    "df_obj_sed_goods"
   ]
  },
  {
   "cell_type": "code",
   "execution_count": null,
   "id": "4c4d2280-adac-4065-9409-31122283abda",
   "metadata": {},
   "outputs": [],
   "source": [
    "obj_ids_goods = df_obj_sed_goods.idx_obj.values.astype(int)\n",
    "obj_ids_goods "
   ]
  },
  {
   "cell_type": "code",
   "execution_count": null,
   "id": "b49b7fd7-90ab-491a-a5fa-38a83c6ba10e",
   "metadata": {},
   "outputs": [],
   "source": [
    "obj_ids_bads = df_obj_sed_bads.idx_obj.values.astype(int)\n",
    "obj_ids_bads "
   ]
  },
  {
   "cell_type": "code",
   "execution_count": null,
   "id": "1302e59c-742f-4d56-8d3d-58330642f2aa",
   "metadata": {},
   "outputs": [],
   "source": [
    "def plot_light_curves_from_objects(list_of_objids,obj_cat,src_cat,title=\"PhotometricRepeatab\",all_bands_name=[\"g\",\"r\",\"i\",\"z\",\"y\"],\n",
    "                                  all_bands_color=[\"g\",\"r\",\"orange\",\"grey\",\"k\"]):\n",
    "    \"\"\"\n",
    "    parameters :\n",
    "        list_of_objids : list of integers\n",
    "        obj_cat : df_obj_sed \n",
    "        src_cat : dataJoined\n",
    "    \"\"\"\n",
    "    nrows = len(list_of_objids)\n",
    "    \n",
    "    fig,axes = plt.subplots(nrows,1,figsize=(16,3*nrows),sharex=True)\n",
    "    axs= axes.flatten()\n",
    "\n",
    "    for idx,obj_id  in enumerate(list_of_objids):\n",
    "        ax = axs[idx]\n",
    "        cut = src_cat[\"obj_index\"] == obj_id\n",
    "        ax.set_title(f\" object = {obj_id}\")\n",
    "        sources = src_cat[cut]\n",
    "        for ib,band in enumerate(all_bands_name):\n",
    "            sources_inband = sources[sources[\"band\"] == band].sort_values(by=\"expMidptMJD\")\n",
    "            sources_inband.plot(x='expMidptMJD',y='psfMag',marker=\"+\",ls=\":\",color= all_bands_color[ib],legend=band,ax=ax,grid=True)\n",
    "        \n",
    "        ax.set_ylabel( \"psfMag\" + \" (mag)\" ) \n",
    "        \n",
    "    plt.suptitle(title+suptitle,y=1.0,fontsize=10)\n",
    "    plt.tight_layout()\n",
    "    plt.show()"
   ]
  },
  {
   "cell_type": "code",
   "execution_count": null,
   "id": "e6d68457-a5ea-4915-9d50-38ef978fbf80",
   "metadata": {},
   "outputs": [],
   "source": [
    "def plot_rel_light_curves_from_objects(list_of_objids,obj_cat,src_cat,title=\"PhotometricRepeatab\",all_bands_name=[\"g\",\"r\",\"i\",\"z\",\"y\"],\n",
    "                                  all_bands_color=[\"g\",\"r\",\"orange\",\"grey\",\"k\"]):\n",
    "    \"\"\"\n",
    "    parameters :\n",
    "        list_of_objids : list of integers\n",
    "        obj_cat : df_obj_sed \n",
    "        src_cat : dataJoined\n",
    "    \"\"\"\n",
    "    nrows = len(list_of_objids)\n",
    "    \n",
    "    fig,axes = plt.subplots(nrows,1,figsize=(16,3*nrows),sharex=True)\n",
    "    axs= axes.flatten()\n",
    "\n",
    "    for idx,obj_id  in enumerate(list_of_objids):\n",
    "        ax = axs[idx]\n",
    "        cut = src_cat[\"obj_index\"] == obj_id\n",
    "        ax.set_title(f\" object = {obj_id}\")\n",
    "        sources = src_cat[cut]\n",
    "        obj_cut = obj_cat.idx_obj ==  obj_id\n",
    "        objectline =  obj_cat[obj_cut]\n",
    "      \n",
    "        for ib,band in enumerate(all_bands_name):\n",
    "            tab_label = \"mag\"+band.upper()\n",
    "            aver_mag =  objectline[tab_label].values\n",
    "            N = len(aver_mag) \n",
    "          \n",
    "            if N ==1:\n",
    "                sources_inband = sources[sources[\"band\"] == band].sort_values(by=\"expMidptMJD\")\n",
    "                sources_inband[\"psfMagRel\"] =  sources_inband['psfMag'] -  aver_mag[0]\n",
    "                #sources_inband[\"psfMagRel\"] =  sources_inband['psfMag'] -  sources_inband['psfMag'].median()\n",
    "                sources_inband.plot(x='expMidptMJD',y='psfMagRel',marker=\"+\",ls=\":\",color= all_bands_color[ib],legend=band,ax=ax,grid=True)\n",
    "        \n",
    "        ax.set_ylabel( ax.get_ylabel() + \" (mag)\" ) \n",
    "    plt.suptitle(title+suptitle,y=1.0,fontsize=10)\n",
    "    plt.tight_layout()\n",
    "    plt.show()"
   ]
  },
  {
   "cell_type": "code",
   "execution_count": null,
   "id": "9bcdd2ea-31de-4e13-840d-68abe4e77ca9",
   "metadata": {},
   "outputs": [],
   "source": [
    "def plot_photomshift_vsquantity_from_objects(list_of_objids,obj_cat,src_cat,quantity,title=\"Photometric shift vs\",all_bands_name=[\"g\",\"r\",\"i\",\"z\",\"y\"],\n",
    "                                  all_bands_color=[\"g\",\"r\",\"orange\",\"grey\",\"k\"]):\n",
    "    \"\"\"\n",
    "    parameters :\n",
    "        list_of_objids : list of integers\n",
    "        obj_cat : df_obj_sed \n",
    "        src_cat : dataJoined\n",
    "        quantity : quantity to plot in the source catalog\n",
    "    \"\"\"\n",
    "   \n",
    "    \n",
    "    fig,ax = plt.subplots(1,1,figsize=(8,6),sharex=True)\n",
    "    \n",
    "    # loop on objects\n",
    "    for idx,obj_id  in enumerate(list_of_objids):\n",
    "\n",
    "        #select those sources belonging to this objecy\n",
    "        cut = src_cat[\"obj_index\"] == obj_id\n",
    "        sources = src_cat[cut]\n",
    "\n",
    "        # get info for this object\n",
    "        obj_cut = obj_cat.idx_obj ==  obj_id\n",
    "        objectline =  obj_cat[obj_cut]\n",
    "\n",
    "        # loop on bands\n",
    "        for ib,band in enumerate(all_bands_name):\n",
    "            tab_label = \"mag\"+band.upper()\n",
    "            aver_mag =  objectline[tab_label].values\n",
    "            N = len(aver_mag) \n",
    "          \n",
    "            if N ==1:\n",
    "                sources_inband = sources[sources[\"band\"] == band].sort_values(by=quantity)\n",
    "                sources_inband[\"psfMagRel\"] =  sources_inband['psfMag'] -  aver_mag[0]\n",
    "                #sources_inband[\"psfMagRel\"] =  sources_inband['psfMag'] -  sources_inband['psfMag'].median()\n",
    "                if idx==0:\n",
    "                    sources_inband.plot.scatter(x=quantity,y='psfMagRel',marker=\"o\",color= all_bands_color[ib],ax=ax,grid=True,label=band)\n",
    "                else:\n",
    "                    sources_inband.plot.scatter(x=quantity,y='psfMagRel',marker=\"o\",color= all_bands_color[ib],ax=ax,grid=True)\n",
    "        \n",
    "    ax.set_ylabel( ax.get_ylabel() + \" (mag)\" ) \n",
    "    plt.suptitle(title + quantity + \" \"+suptitle,y=1.0,fontsize=10)\n",
    "    plt.tight_layout()\n",
    "    plt.show()"
   ]
  },
  {
   "cell_type": "code",
   "execution_count": null,
   "id": "61e9a790-d964-497d-b51a-8b53aa5eac92",
   "metadata": {},
   "outputs": [],
   "source": [
    "def plot_photomshift_vsquantity_from_objects_v2(list_of_objids,obj_cat,src_cat,quantity,title=\"Photometric shift vs\",all_bands_name=[\"g\",\"r\",\"i\",\"z\",\"y\"],\n",
    "                                  all_bands_color=[\"g\",\"r\",\"orange\",\"grey\",\"k\"]):\n",
    "    \"\"\"\n",
    "    parameters :\n",
    "        list_of_objids : list of integers\n",
    "        obj_cat : df_obj_sed \n",
    "        src_cat : dataJoined\n",
    "        quantity : quantity to plot in the source catalog\n",
    "    \"\"\"\n",
    "  \n",
    "    \n",
    "    fig,ax = plt.subplots(1,1,figsize=(8,6),sharex=True)\n",
    "    \n",
    "\n",
    "    for idx,obj_id  in enumerate(list_of_objids):\n",
    "        cut = src_cat[\"obj_index\"] == obj_id\n",
    "      \n",
    "        sources = src_cat[cut]\n",
    "        obj_cut = obj_cat.idx_obj ==  obj_id\n",
    "        objectline =  obj_cat[obj_cut]\n",
    "      \n",
    "        for ib,band in enumerate(all_bands_name):\n",
    "            tab_label = \"mag\"+band.upper()\n",
    "            aver_mag =  objectline[tab_label].values\n",
    "            N = len(aver_mag) \n",
    "          \n",
    "            if N ==1:\n",
    "                sources_inband = sources[sources[\"band\"] == band]\n",
    "                sources_inband[\"psfMagRel\"] =  sources_inband['psfMag'] -  aver_mag[0]\n",
    "                #sources_inband[\"psfMagRel\"] =  sources_inband['psfMag'] -  sources_inband['psfMag'].median()\n",
    "                sources_inband[quantity] =  objectline[quantity]\n",
    "                if idx==0:\n",
    "                    sources_inband.plot.scatter(x=quantity,y='psfMagRel',marker=\"o\",color= all_bands_color[ib],ax=ax,grid=True,label=band)\n",
    "                else:\n",
    "                    sources_inband.plot.scatter(x=quantity,y='psfMagRel',marker=\"o\",color= all_bands_color[ib],ax=ax,grid=True)\n",
    "        \n",
    "    \n",
    "    plt.suptitle(title + quantity + \" \"+suptitle,y=1.0,fontsize=10)\n",
    "    plt.tight_layout()\n",
    "    plt.show()"
   ]
  },
  {
   "cell_type": "markdown",
   "id": "5a089705-d97d-49e5-9c05-3aaed2328eac",
   "metadata": {},
   "source": [
    "## Light curves for good objects"
   ]
  },
  {
   "cell_type": "code",
   "execution_count": null,
   "id": "068a0f06-621f-4aae-8269-6306b0fc87d9",
   "metadata": {},
   "outputs": [],
   "source": [
    "#dataJoined"
   ]
  },
  {
   "cell_type": "code",
   "execution_count": null,
   "id": "0f23d150-3350-4e7f-8ae1-59cd7baf5407",
   "metadata": {},
   "outputs": [],
   "source": [
    "plot_light_curves_from_objects(obj_ids_goods, df_obj_sed ,dataJoined)"
   ]
  },
  {
   "cell_type": "code",
   "execution_count": null,
   "id": "40742b57-0e56-47f4-86bb-6de281a8d00b",
   "metadata": {},
   "outputs": [],
   "source": [
    "plot_rel_light_curves_from_objects(obj_ids_goods, df_obj_sed ,dataJoined)"
   ]
  },
  {
   "cell_type": "markdown",
   "id": "d9a4ce5a-fae5-4f07-82ce-f8a69bcafd04",
   "metadata": {},
   "source": [
    "# *********   END ***********************"
   ]
  },
  {
   "cell_type": "code",
   "execution_count": null,
   "id": "4729d6f4-c3f4-491f-90ba-b43d4af39ef6",
   "metadata": {},
   "outputs": [],
   "source": [
    "assert False"
   ]
  },
  {
   "cell_type": "code",
   "execution_count": null,
   "id": "87cf220e-2951-4221-8722-9d4a8a5f61d3",
   "metadata": {},
   "outputs": [],
   "source": [
    "#plot_photomshift_vsquantity_from_objects(obj_ids_all, df_obj_sed ,dataJoined,\"airmass\")"
   ]
  },
  {
   "cell_type": "code",
   "execution_count": null,
   "id": "b7b27e30-09e6-4a79-b13b-d0e21784358d",
   "metadata": {},
   "outputs": [],
   "source": [
    "#plot_photomshift_vsquantity_from_objects(obj_ids_all, df_obj_sed ,dataJoined,\"seeing\")"
   ]
  },
  {
   "cell_type": "code",
   "execution_count": null,
   "id": "e0bc03c4-0bd7-4a2a-973a-0af2d2a27cac",
   "metadata": {},
   "outputs": [],
   "source": [
    "#plot_photomshift_vsquantity_from_objects(obj_ids_all, df_obj_sed ,dataJoined,\"DZP\")"
   ]
  },
  {
   "cell_type": "code",
   "execution_count": null,
   "id": "bf74a8ac-117f-4616-92d0-d46d2b06d6ad",
   "metadata": {},
   "outputs": [],
   "source": [
    "#plot_photomshift_vsquantity_from_objects(obj_ids_all, df_obj_sed ,dataJoined,\"DPZ\")"
   ]
  },
  {
   "cell_type": "code",
   "execution_count": null,
   "id": "e3671c90-e444-49bb-9f02-48470b7de93d",
   "metadata": {},
   "outputs": [],
   "source": [
    "#plot_photomshift_vsquantity_from_objects_v2(obj_ids_all,df_obj_sed ,dataJoined,quantity=\"Z_Y\",title=\"Photometric Shift vs\",all_bands_name=[\"y\"],\n",
    "#                                  all_bands_color=[\"k\"])"
   ]
  },
  {
   "cell_type": "markdown",
   "id": "eadc9a2f-b24f-41bc-a1a4-efe866aa94ce",
   "metadata": {},
   "source": [
    "### Light curves for Goods"
   ]
  },
  {
   "cell_type": "code",
   "execution_count": null,
   "id": "092c64ae-d4bd-4097-90d5-b504d9460233",
   "metadata": {},
   "outputs": [],
   "source": [
    "#plot_light_curves_from_objects(obj_ids_goods, df_obj_sed ,dataJoined)"
   ]
  },
  {
   "cell_type": "markdown",
   "id": "f55724c7-0870-4e4a-842d-db1fbfabd976",
   "metadata": {},
   "source": [
    "### Light curves for bads"
   ]
  },
  {
   "cell_type": "code",
   "execution_count": null,
   "id": "8b41a787-aff2-4d68-b5cb-e4845bba6fa3",
   "metadata": {},
   "outputs": [],
   "source": [
    "#plot_light_curves_from_objects(obj_ids_bads, df_obj_sed ,dataJoined)"
   ]
  },
  {
   "cell_type": "code",
   "execution_count": null,
   "id": "d0d07ee5-e7b6-4506-a0f0-beece3632c53",
   "metadata": {},
   "outputs": [],
   "source": [
    "#plot_rel_light_curves_from_objects(obj_ids_goods, df_obj_sed ,dataJoined)"
   ]
  },
  {
   "cell_type": "code",
   "execution_count": null,
   "id": "52247fd8-758e-4150-8251-9fa719f8cf59",
   "metadata": {},
   "outputs": [],
   "source": [
    "#plot_rel_light_curves_from_objects(obj_ids_bads, df_obj_sed ,dataJoined)"
   ]
  },
  {
   "cell_type": "code",
   "execution_count": null,
   "id": "169987c4-78e6-4490-a9c5-ca36869bc255",
   "metadata": {},
   "outputs": [],
   "source": [
    "#plot_photombias_vsquantity_from_objects(obj_ids_all, df_obj_sed ,dataJoined,\"airmass\")"
   ]
  },
  {
   "cell_type": "code",
   "execution_count": null,
   "id": "8328061e-7047-40d5-a553-71f57693deba",
   "metadata": {},
   "outputs": [],
   "source": [
    "#plot_photombias_vsquantity_from_objects(obj_ids_all, df_obj_sed ,dataJoined,\"seeing\")"
   ]
  },
  {
   "cell_type": "markdown",
   "id": "b0c76497-7db2-49ff-96fb-4544525b8df8",
   "metadata": {},
   "source": [
    "## Find the list of visits associated with an object"
   ]
  },
  {
   "cell_type": "code",
   "execution_count": null,
   "id": "c0a57237-cb5f-4b5a-a59e-b80bbb90bc31",
   "metadata": {},
   "outputs": [],
   "source": [
    "obj_index_sel  = obj_ids_all[0]  "
   ]
  },
  {
   "cell_type": "code",
   "execution_count": null,
   "id": "cc146b86-d80a-4130-9882-b4dd7255f5bf",
   "metadata": {},
   "outputs": [],
   "source": [
    "cut = dataJoined[\"obj_index\"] == obj_index_sel "
   ]
  },
  {
   "cell_type": "code",
   "execution_count": null,
   "id": "b0ef7c45-086c-46f3-b43b-a964162f7c95",
   "metadata": {},
   "outputs": [],
   "source": [
    "dataJoined_sel = dataJoined[cut]"
   ]
  },
  {
   "cell_type": "code",
   "execution_count": null,
   "id": "b6b4d6bc-674b-4434-8018-51dc0be8e1a5",
   "metadata": {},
   "outputs": [],
   "source": [
    "dataJoined_sel"
   ]
  },
  {
   "cell_type": "code",
   "execution_count": null,
   "id": "57f4af67-1c30-45b0-be1d-0fe1fb5c1d31",
   "metadata": {},
   "outputs": [],
   "source": [
    "ra = dataJoined_sel[\"ra\"].values\n",
    "dec = dataJoined_sel[\"dec\"].values"
   ]
  },
  {
   "cell_type": "code",
   "execution_count": null,
   "id": "89fb96c5-a28e-4b4a-9cc8-2dbc9bb6d205",
   "metadata": {},
   "outputs": [],
   "source": [
    "fig,ax=plt.subplots(1,1,figsize=(8,8))\n",
    "ax.set_title(f\"object = {obj_index_sel}\")\n",
    "dataJoined_sel[dataJoined_sel.band==\"g\"].plot.scatter(x=\"ra\",y=\"dec\",marker=\"+\",color=\"g\",ax=ax,grid=True,label=\"g\")\n",
    "dataJoined_sel[dataJoined_sel.band==\"r\"].plot.scatter(x=\"ra\",y=\"dec\",marker=\"+\",color=\"r\",ax=ax,grid=True,label=\"r\")\n",
    "dataJoined_sel[dataJoined_sel.band==\"i\"].plot.scatter(x=\"ra\",y=\"dec\",marker=\"+\",color=\"orange\",ax=ax,grid=True,label=\"i\")\n",
    "dataJoined_sel[dataJoined_sel.band==\"z\"].plot.scatter(x=\"ra\",y=\"dec\",marker=\"+\",color=\"grey\",ax=ax,grid=True,label=\"z\")\n",
    "dataJoined_sel[dataJoined_sel.band==\"y\"].plot.scatter(x=\"ra\",y=\"dec\",marker=\"+\",color=\"k\",ax=ax,grid=True,label=\"y\")\n",
    "\n",
    "ra_g = dataJoined_sel[dataJoined_sel.band==\"g\"][\"ra\"].mean()\n",
    "dec_g = dataJoined_sel[dataJoined_sel.band==\"g\"][\"dec\"].mean()\n",
    "ax.axvline(ra_g,color=\"g\")\n",
    "ax.axhline(dec_g,color=\"g\")\n",
    "\n",
    "plt.gca().ticklabel_format(axis='both', style='plain', useOffset=False)\n",
    "plt.gca().set_aspect('equal')\n",
    "plt.suptitle(suptitle)\n",
    "plt.tight_layout()"
   ]
  },
  {
   "cell_type": "code",
   "execution_count": null,
   "id": "d672520c-dfa5-466d-8451-633baa3fbb45",
   "metadata": {},
   "outputs": [],
   "source": [
    "from lsst.geom import Angle \n",
    "import lsst\n",
    "func_degToRad = lambda x : Angle(x,lsst.geom.degrees).asRadians()\n",
    "func_degToArcsec = lambda x : Angle(x,lsst.geom.degrees).asArcseconds()"
   ]
  },
  {
   "cell_type": "code",
   "execution_count": null,
   "id": "f55634e8-0004-4b11-b5de-00a8ee406603",
   "metadata": {},
   "outputs": [],
   "source": [
    "fig,axs=plt.subplots(1,2,figsize=(8,4))\n",
    "ax1,ax2 = axs\n",
    "#ax.set_title(f\"object = {obj_index_sel}\")\n",
    "for bandname,col  in zip([\"g\",\"r\",\"i\",\"z\",\"y\"],[\"g\",\"r\",\"orange\",\"grey\",\"k\"]):\n",
    "    \n",
    "    angle_sep_deg = (dataJoined_sel[dataJoined_sel.band==bandname][\"ra\"] - dataJoined_sel[dataJoined_sel.band==bandname][\"ra\"].mean())\n",
    "    angle_sep_arcsec = angle_sep_deg.apply(func_degToArcsec).values\n",
    "    ax1.hist(angle_sep_arcsec,bins=50,range=(-0.05,0.05),histtype=\"step\",color=col,density=True,label=bandname)\n",
    "    ax1.set_xlabel(\"delta-ra (arcsec)\")\n",
    "\n",
    "    angle_sep_deg = (dataJoined_sel[dataJoined_sel.band==bandname][\"dec\"] - dataJoined_sel[dataJoined_sel.band==bandname][\"dec\"].mean())\n",
    "    angle_sep_arcsec = angle_sep_deg.apply(func_degToArcsec).values\n",
    "    ax2.hist(angle_sep_arcsec,bins=50,range=(-0.05,0.05),histtype=\"step\",color=col,density=True,label=bandname)\n",
    "    ax2.set_xlabel(\"delta-dec (arcsec)\")\n",
    "\n",
    "\n",
    "plt.gca().ticklabel_format(axis='both', style='plain', useOffset=False)\n",
    "#plt.gca().set_aspect('equal')\n",
    "plt.suptitle(suptitle)\n",
    "plt.tight_layout()"
   ]
  },
  {
   "cell_type": "code",
   "execution_count": null,
   "id": "de664eea-eb24-4624-b60e-0788fd275424",
   "metadata": {},
   "outputs": [],
   "source": [
    "dataJoined_sel[[\"visit\",\"band\"]]"
   ]
  },
  {
   "cell_type": "code",
   "execution_count": null,
   "id": "5934e181-ef7b-492d-98f4-829accd6ffa6",
   "metadata": {},
   "outputs": [],
   "source": [
    "visit_id_band = dataJoined_sel[[\"visit\",\"band\"]].iloc[0]\n",
    "visit_id = visit_id_band['visit']\n",
    "band = visit_id_band['band']"
   ]
  },
  {
   "cell_type": "code",
   "execution_count": null,
   "id": "0f9ff6ff-eb9a-4206-b479-94b3019ad14a",
   "metadata": {},
   "outputs": [],
   "source": [
    "visit_id"
   ]
  },
  {
   "cell_type": "code",
   "execution_count": null,
   "id": "1d940f61-c16b-4d64-853a-9c3927fe5094",
   "metadata": {},
   "outputs": [],
   "source": [
    "dataId = {'visit': visit_id, 'instrument':instrument , 'detector': 0}"
   ]
  },
  {
   "cell_type": "code",
   "execution_count": null,
   "id": "452e6db1-e31a-417f-ba30-e929084fd41e",
   "metadata": {},
   "outputs": [],
   "source": [
    "img = butler.get(\"calexp\", dataId=dataId, collections=collection)\n",
    "bkgd = butler.get('calexpBackground', **dataId,collections=collection)\n",
    "\n",
    "wcs = img.getWcs()\n",
    "bbox = img.getBBox()\n",
    "corners_ra, corners_dec = get_corners_radec(wcs, bbox)\n",
    "extent = [np.min(corners_ra),np.max(corners_ra),np.min(corners_dec),np.max(corners_dec)]\n"
   ]
  },
  {
   "cell_type": "code",
   "execution_count": null,
   "id": "0b207079-f86c-4418-869b-c1845983466e",
   "metadata": {},
   "outputs": [],
   "source": [
    "all_id_obj = df_obj_sed.idx_obj.values.astype(int)\n",
    "all_ra_obj = df_obj_sed[\"ra\"].values \n",
    "all_dec_obj = df_obj_sed[\"dec\"].values "
   ]
  },
  {
   "cell_type": "code",
   "execution_count": null,
   "id": "fb476475-ca9b-4cf8-a430-b1db1130ad82",
   "metadata": {},
   "outputs": [],
   "source": [
    "#%matplotlib widget\n",
    "\n",
    "# Display the image with a suitable scaling\n",
    "med = np.median(img.image.array.flatten())\n",
    "sigMad = 1.4826 * np.median(np.fabs(img.image.array.flatten() - med))\n",
    "vmin = med - 3 * sigMad\n",
    "vmax = med + 3 * sigMad\n",
    "\n",
    "fig,axs = plt.subplots(2,1,figsize=(10,16))\n",
    "ax = axs[0]\n",
    "im=ax.imshow(img.image.array, origin=\"lower\",vmin=vmin, vmax=vmax, cmap=\"Greys\",extent=extent)\n",
    "divider = make_axes_locatable(ax)\n",
    "cax = divider.append_axes(\"right\", size=\"5%\", pad=0.05)\n",
    "the_title = f\"Calexp : visit = {visit_id}, band = {band}\"\n",
    "ax.set_title(the_title)\n",
    "ax.grid()\n",
    "ax.set_aspect('equal')\n",
    "ax.scatter(all_ra_obj,all_dec_obj,marker=\"o\",color=\"y\",s=200,facecolors='none', edgecolors='r')\n",
    "\n",
    "for x, y, txt in np.broadcast(all_ra_obj, all_dec_obj, all_id_obj):\n",
    "    ax.annotate(str(txt), (x, y),color=\"b\")\n",
    "\n",
    "plt.colorbar(im, cax=cax,ax=ax)\n",
    "\n",
    "\n",
    "ax2 = axs[1]\n",
    "im2=ax2.imshow(bkgd.getImage().array, origin=\"lower\", cmap=\"Greys\",extent=extent)\n",
    "divider = make_axes_locatable(ax2)\n",
    "cax2 = divider.append_axes(\"right\", size=\"5%\", pad=0.05)\n",
    "the_title2 = f\"Calexp_bkg : visit = {visit_id}, band = {band}\"\n",
    "ax2.set_title(the_title2)\n",
    "ax2.grid()\n",
    "ax2.set_aspect('equal')\n",
    "plt.colorbar(im2, cax=cax2,ax=ax2)\n",
    "ax2.scatter(all_ra_obj,all_dec_obj,marker=\"+\",color=\"r\",s=500)\n",
    "\n",
    "plt.suptitle(suptitle)\n",
    "plt.tight_layout()\n",
    "plt.show()"
   ]
  },
  {
   "cell_type": "code",
   "execution_count": null,
   "id": "4fd18396-2faf-49f8-8e77-bdd6e8585832",
   "metadata": {},
   "outputs": [],
   "source": [
    "#diagramme magnitude Z vs couleur (Z-Y) et voir l’étalement de\n",
    "#la séquence principale, et peut-être la branche des géantes rouges."
   ]
  },
  {
   "cell_type": "code",
   "execution_count": null,
   "id": "5db7c1e2-b91b-4d13-9e95-c33b9cad26c1",
   "metadata": {},
   "outputs": [],
   "source": [
    "Nobj = len(df_obj_sed)\n",
    "import seaborn as sns\n",
    "from matplotlib.colors import ListedColormap\n",
    "color_palette = sns.color_palette(\"hls\", Nobj)"
   ]
  },
  {
   "cell_type": "code",
   "execution_count": null,
   "id": "6b27d75d-c3d3-4b66-b1da-47578fab73e1",
   "metadata": {},
   "outputs": [],
   "source": [
    "color_palette"
   ]
  },
  {
   "cell_type": "code",
   "execution_count": null,
   "id": "2d5823d5-a75c-4034-b401-23df5c27b5ea",
   "metadata": {},
   "outputs": [],
   "source": [
    "mpl_colors = ListedColormap(sns.color_palette(color_palette).as_hex())"
   ]
  },
  {
   "cell_type": "code",
   "execution_count": null,
   "id": "7ac7f6f5-585c-4c73-b53b-53ccaa172641",
   "metadata": {},
   "outputs": [],
   "source": [
    "mpl_colors.colors"
   ]
  },
  {
   "cell_type": "code",
   "execution_count": null,
   "id": "d5692e81-b2f2-4a97-b405-2dc1fad7602b",
   "metadata": {},
   "outputs": [],
   "source": [
    "df_obj_sed[\"Z-Y\"] = df_obj_sed[\"magZ\"] - df_obj_sed[\"magY\"] \n",
    "df_obj_sed[\"G-R\"] = df_obj_sed[\"magG\"] - df_obj_sed[\"magR\"] "
   ]
  },
  {
   "cell_type": "code",
   "execution_count": null,
   "id": "d68d30f4-61d6-4f7b-b212-4b53209b679f",
   "metadata": {},
   "outputs": [],
   "source": [
    "fig,axs = plt.subplots(1,3,figsize=(14,4))\n",
    "\n",
    "ax=axs[0]\n",
    "df_obj_sed.plot.scatter(y=\"magR\",x=\"G-R\",ax=ax,color=mpl_colors.colors)\n",
    "ax.invert_yaxis()\n",
    "\n",
    "\n",
    "ax=axs[1]\n",
    "df_obj_sed.plot.scatter(y=\"magZ\",x=\"Z-Y\",ax=ax,color=mpl_colors.colors)\n",
    "ax.invert_yaxis()\n",
    "\n",
    "\n",
    "ax=axs[2]\n",
    "df_obj_sed.plot.scatter(y=\"Z-Y\",x=\"G-R\",ax=ax,color=mpl_colors.colors)\n",
    "#ax.invert_yaxis()\n",
    "\n",
    "plt.suptitle(suptitle + f\"in tract {tract}\")\n",
    "plt.tight_layout()"
   ]
  },
  {
   "cell_type": "code",
   "execution_count": null,
   "id": "4086ca39-6d6a-4f67-8e80-04c13740fc67",
   "metadata": {},
   "outputs": [],
   "source": [
    "df_obj_sed.to_csv(f\"isolated_source_objects_tract{tract}.csv\")"
   ]
  },
  {
   "cell_type": "code",
   "execution_count": null,
   "id": "87802c64-d426-4077-9dfc-e35883360b95",
   "metadata": {},
   "outputs": [],
   "source": [
    "# STOP HERE FOR THE MOMENT\n",
    "assert False"
   ]
  },
  {
   "cell_type": "code",
   "execution_count": null,
   "id": "11576fee-3e24-4e51-b4ac-688c3d89df98",
   "metadata": {},
   "outputs": [],
   "source": [
    "count_source_visit.hist(x=\"obj_index\")"
   ]
  },
  {
   "cell_type": "code",
   "execution_count": null,
   "id": "35764ce1-db3e-4b8f-8d21-e7fd0cc2c18a",
   "metadata": {},
   "outputs": [],
   "source": [
    "count_sources = dataJoined.groupby(by=\"obj_index\").count()[\"psfFlux\"]"
   ]
  },
  {
   "cell_type": "code",
   "execution_count": null,
   "id": "013af9ce-6c4c-4a16-8a35-f8134653047c",
   "metadata": {},
   "outputs": [],
   "source": [
    "count_source.hist(bins=100,range=(0,100))"
   ]
  },
  {
   "cell_type": "code",
   "execution_count": null,
   "id": "a78afede-1f63-495a-91c8-e2d7cdb03cc2",
   "metadata": {},
   "outputs": [],
   "source": [
    "assert False"
   ]
  },
  {
   "cell_type": "markdown",
   "id": "ff1674f7-8145-4af4-ae81-3739972e9d28",
   "metadata": {},
   "source": [
    "## Plot the per object source "
   ]
  },
  {
   "cell_type": "code",
   "execution_count": null,
   "id": "f926e051",
   "metadata": {},
   "outputs": [],
   "source": [
    "fig, ax = plt.subplots(1, 1, figsize=(8,6))\n",
    "ax.set_title(\"{}\\n{} {} (max visit: {})\".format(collection, tract, band, max(dataJoined[\"visit\"])), fontsize=8)\n",
    "nBins = 16 if len(dataJoined) < 4000 else 100\n",
    "histData = psfMagStdMmagAll\n",
    "xLabelStr = \"std(psfFlux - psfFluxMean) ({} mmag)\".format(band)\n",
    "medianPsfFluxStd = np.median(histData)\n",
    "n, bins, patches = ax.hist(histData, bins=nBins, density=True, histtype=\"step\", lw=2, label=\"data (N = {})\".format(len(histData)))\n",
    "ax.axvline(x=medianPsfFluxStd, color=\"gray\", linestyle='--', linewidth=1, label=\"median: {:.2f}\".format(medianPsfFluxStd))\n",
    "\n",
    "ax.tick_params(labelsize=7)\n",
    "ax.set_xlabel(xLabelStr, fontsize=9)\n",
    "ax.set_ylabel(\"Normalized (PDF)\".format(band), fontsize=9)\n",
    "\n",
    "ax.legend(fontsize=8)\n",
    "if doSaveFigs:\n",
    "    filename = \"{}psfFluxStdHist_{}_{}_{}\".format(saveDir, tract, band, collectionStr)\n",
    "    print(\"Saving file in: {}\".format(filename))\n",
    "    fig.savefig(filename, dpi=150)"
   ]
  },
  {
   "cell_type": "code",
   "execution_count": null,
   "id": "c92d2c6a",
   "metadata": {},
   "outputs": [],
   "source": [
    "fig, ax = plt.subplots(1, 1, figsize=(8,6))\n",
    "ax.set_title(\"{}\\n{} {} (max visit: {})\".format(collection, tract, band, max(dataJoined[\"visit\"])), fontsize=8)\n",
    "\n",
    "medianRaStd = np.median(raStdMasAll)\n",
    "n, bins, patches = ax.hist(raStdMasAll, bins=nBins, density=True, histtype=\"step\", color=\"tab:blue\", lw=2, label=\"RA (N = {})\".format(len(raStdMasAll)))\n",
    "\n",
    "medianDecStd = np.median(decStdMasAll)\n",
    "n, bins, patches = ax.hist(decStdMasAll, bins=nBins, density=True, histtype=\"step\", color=\"tab:orange\", lw=2, label=\"Dec (N = {})\".format(len(decStdMasAll)))\n",
    "\n",
    "medianRaCosDecStd = np.median(raCosDecStdMasAll)\n",
    "n, bins, patches = ax.hist(raCosDecStdMasAll, bins=nBins, density=True, histtype=\"step\", color=\"tab:green\", lw=2, label=\"RA*cos(Dec) (N = {})\".format(len(raCosDecStdMasAll)))\n",
    "\n",
    "ax.axvline(x=medianRaStd, linestyle='--', color=\"tab:blue\", linewidth=1, label=\"median: {:.2f} (mas)\".format(medianRaStd))\n",
    "ax.axvline(x=medianDecStd, linestyle='--', color=\"tab:orange\", linewidth=1, label=\"median: {:.2f} (mas)\".format(medianDecStd))\n",
    "ax.axvline(x=medianRaCosDecStd, linestyle='--', color=\"tab:green\", linewidth=1, label=\"median: {:.2f} (mas)\".format(medianRaCosDecStd))\n",
    "\n",
    "\n",
    "ax.tick_params(labelsize=7)\n",
    "ax.set_xlabel(\"std(value - valueMean) ({} mas)\".format(band), fontsize=9)\n",
    "ax.set_ylabel(\"Normalized (PDF)\".format(band), fontsize=9)\n",
    "\n",
    "# ax.set_xlim(0, 400)\n",
    "ax.legend(fontsize=8)\n",
    "if doSaveFigs:\n",
    "    filename = \"{}RaDecStdHist_{}_{}_{}\".format(saveDir, tract, band, collectionStr)\n",
    "    print(\"Saving file in: {}\".format(filename))\n",
    "    fig.savefig(filename, dpi=150)"
   ]
  },
  {
   "cell_type": "code",
   "execution_count": null,
   "id": "afa47871",
   "metadata": {},
   "outputs": [],
   "source": [
    "fig, (ax1, ax2) = plt.subplots(1, 2, figsize=(10,4))\n",
    "# ax.set_title(\"{} {} {}\".format(collection, tract, band), fontsize=8)\n",
    "fig.suptitle(\"{}\\n{} {} (max visit: {})\".format(collection, tract, band, max(dataJoined[\"visit\"])),\n",
    "             fontsize=10, y=0.98)\n",
    "ax1.axvline(x=0.0, color=\"gray\", linestyle='--', linewidth=1)\n",
    "\n",
    "n, bins, patches = ax1.hist(dataJoined[\"psfMagDiffMmag\"], bins=2*nBins, density=True, histtype=\"step\", lw=2, label=\"data\")\n",
    "\n",
    "# Gaussian fit of all data\n",
    "(mu, sigma) = scipy.stats.norm.fit(dataJoined[\"psfMagDiffMmag\"])\n",
    "yFit = scipy.stats.norm.pdf(bins, mu, sigma)\n",
    "ax1.plot(bins, yFit, \"--\", lw=1, fillstyle=\"full\",\n",
    "        label=\"Gaussian fit all\\n(N={}) \\n$\\mu$={:.2f} (mmag)\\n$\\sigma$={:.2f}(mmag)\".format(len(dataJoined), mu, sigma))\n",
    "ax1.fill_between(bins, yFit, alpha=0.2)\n",
    "\n",
    "# Gassian fit of 3-sigma clipped data\n",
    "clippedDiffArray = scipy.stats.sigmaclip(dataJoined[\"psfMagDiffMmag\"], low=3.0, high=3.0).clipped\n",
    "\n",
    "(muClipped, sigmaClipped) = scipy.stats.norm.fit(clippedDiffArray)\n",
    "yFitClipped = scipy.stats.norm.pdf(bins, muClipped, sigmaClipped)\n",
    "ax1.plot(bins, yFitClipped, \"--\", lw=1, fillstyle=\"full\",\n",
    "        label=\"3-$\\sigma$-clipped\\n(N={}) \\n$\\mu$={:.2f} (mmag) \\n$\\sigma$={:.2f}(mmag)\".format(len(clippedDiffArray), muClipped, sigmaClipped))\n",
    "ax1.fill_between(bins, yFitClipped, alpha=0.2)\n",
    "\n",
    "ax1.tick_params(labelsize=7)\n",
    "ax1.set_xlabel(\"psfFlux - psfFluxMean ({} mmag)\".format(band), fontsize=9)\n",
    "ax1.set_ylabel(\"Normalized (PDF)\".format(band), fontsize=9)\n",
    "\n",
    "ax1.set_xlim(-400, 400)\n",
    "ax1.legend(fontsize=8)\n",
    "\n",
    "# Plot chi histogram\n",
    "ax2.axvline(x=0.0, color=\"gray\", linestyle='--', linewidth=1)\n",
    "n, bins, patches = ax2.hist(dataJoined[\"psfMagDiffChi\"], bins=2*nBins, density=True, histtype=\"step\", lw=2, label=\"data\")\n",
    "\n",
    "# Gaussian fit of all data\n",
    "(mu, sigma) = scipy.stats.norm.fit(dataJoined[\"psfMagDiffChi\"])\n",
    "yFit = scipy.stats.norm.pdf(bins, mu, sigma)\n",
    "ax2.plot(bins, yFit, \"--\", lw=1, fillstyle=\"full\",\n",
    "        label=\"Gaussian fit all\\n(N={}) \\n$\\mu$={:.2f}\\n$\\sigma$={:.2f}\".format(len(dataJoined), mu, sigma))\n",
    "ax2.fill_between(bins, yFit, alpha=0.2)\n",
    "\n",
    "# Gassian fit of 3-sigma clipped data\n",
    "clippedDiffArray = scipy.stats.sigmaclip(dataJoined[\"psfMagDiffChi\"], low=3.0, high=3.0).clipped\n",
    "(muClipped, sigmaClipped) = scipy.stats.norm.fit(clippedDiffArray)\n",
    "yFitClipped = scipy.stats.norm.pdf(bins, muClipped, sigmaClipped)\n",
    "ax2.plot(bins, yFitClipped, \"--\", lw=1, fillstyle=\"full\",\n",
    "        label=\"3-$\\sigma$-clipped\\n(N={}) \\n$\\mu$={:.2f}\\n$\\sigma$={:.2f}\".format(len(clippedDiffArray), muClipped, sigmaClipped))\n",
    "ax2.fill_between(bins, yFitClipped, alpha=0.2)\n",
    "\n",
    "ax2.tick_params(labelsize=7)\n",
    "ax2.set_xlabel(\"$\\chi$ = (psfMagDiff)/(psfMagErr$^2$ + psfMagMeanErr$^2$)$^{1/2}$\", fontsize=9)\n",
    "ax2.set_ylabel(\"Normalized (PDF)\".format(band), fontsize=9)\n",
    "\n",
    "ax2.set_xlim(-20, 20)\n",
    "ax2.legend(fontsize=8)\n",
    "\n",
    "if doSaveFigs:\n",
    "    filename = \"{}psfFluxDiffHist_{}_{}_{}{}\".format(saveDir, tract, band, collectionStr, maxVisitStr)\n",
    "    print(\"Saving file in: {}\".format(filename))\n",
    "    fig.savefig(filename, dpi=150)"
   ]
  },
  {
   "cell_type": "code",
   "execution_count": null,
   "id": "176ce5cd-0568-4545-a6cc-19ec030a5acc",
   "metadata": {},
   "outputs": [],
   "source": [
    "dataJoined.columns"
   ]
  },
  {
   "cell_type": "code",
   "execution_count": null,
   "id": "a168feaf-bab1-4788-92f3-33a714ad9cc9",
   "metadata": {},
   "outputs": [],
   "source": [
    "Band_To_Cmap_Dict = {\"g\":plt.cm.Greens,\"r\":plt.cm.Reds,\"i\":plt.cm.Oranges,\"z\":plt.cm.Purples,\"y\":plt.cm.Greys}"
   ]
  },
  {
   "cell_type": "code",
   "execution_count": null,
   "id": "66a57a70-7822-4c37-8d15-ef38917338e7",
   "metadata": {},
   "outputs": [],
   "source": [
    "fig, (ax1, ax2) = plt.subplots(1, 2, figsize=(10,4))\n",
    "# ax.set_title(\"{} {} {}\".format(collection, tract, band), fontsize=8)\n",
    "fig.suptitle(\"{}\\n{} {} (max visit: {})\".format(collection, tract, band, max(dataJoined[\"visit\"])),\n",
    "             fontsize=10, y=0.98)\n",
    "ax1.axvline(x=0.0, color=\"gray\", linestyle='--', linewidth=1)\n",
    "\n",
    "#n, bins, patches = ax1.hist(dataJoined[\"psfMagDiffMmag\"], bins=2*nBins, density=True, histtype=\"step\", lw=2, label=\"data\")\n",
    "ax1.hist2d(dataJoined[\"psfMag\"],dataJoined[\"psfMagDiffMmag\"], bins=max(2*nBins,100), cmap=Band_To_Cmap_Dict[band], label=\"data\")\n",
    "ax1.tick_params(labelsize=7)\n",
    "ax1.set_ylabel(\"psfFlux - psfFluxMean ({} mmag)\".format(band), fontsize=9)\n",
    "ax1.set_xlabel(\"psfMag ({})mag \".format(band), fontsize=9)\n",
    "\n",
    "ax1.set_ylim(-100, 100)\n",
    "ax1.legend(fontsize=8)\n",
    "ax1.grid()\n",
    "\n",
    "# Plot chi histogram\n",
    "ax2.axvline(x=0.0, color=\"gray\", linestyle='--', linewidth=1)\n",
    "ax2.hist2d(dataJoined[\"psfMag\"],dataJoined[\"psfMagDiffChi\"], bins=max(2*nBins,100),cmap=Band_To_Cmap_Dict[band], lw=2, label=\"data\")\n",
    "\n",
    "\n",
    "ax2.tick_params(labelsize=7)\n",
    "ax2.set_ylabel(\"$\\chi$ = (psfMagDiff)/(psfMagErr$^2$ + psfMagMeanErr$^2$)$^{1/2}$\", fontsize=9)\n",
    "ax2.set_xlabel(\"psfMag ({})mag \".format(band), fontsize=9)\n",
    "\n",
    "ax2.set_ylim(-10, 10)\n",
    "ax2.legend(fontsize=8)\n",
    "ax2.grid()\n",
    "if doSaveFigs:\n",
    "    filename = \"{}psfFluxDiffHist2D_{}_{}_{}{}\".format(saveDir, tract, band, collectionStr, maxVisitStr)\n",
    "    print(\"Saving file in: {}\".format(filename))\n",
    "    fig.savefig(filename, dpi=150)"
   ]
  },
  {
   "cell_type": "code",
   "execution_count": null,
   "id": "7287bf5b-6196-47a0-9e99-d3f55e351781",
   "metadata": {},
   "outputs": [],
   "source": [
    "fig, (ax1, ax2) = plt.subplots(1, 2, figsize=(10,4))\n",
    "# ax.set_title(\"{} {} {}\".format(collection, tract, band), fontsize=8)\n",
    "fig.suptitle(\"{}\\n{} {} (max visit: {})\".format(collection, tract, band, max(dataJoined[\"visit\"])),\n",
    "             fontsize=10, y=0.98)\n",
    "ax1.axvline(x=0.0, color=\"gray\", linestyle='--', linewidth=1)\n",
    "\n",
    "#n, bins, patches = ax1.hist(dataJoined[\"psfMagDiffMmag\"], bins=2*nBins, density=True, histtype=\"step\", lw=2, label=\"data\")\n",
    "ax1.hist2d(dataJoined[\"PWV\"],dataJoined[\"psfMagDiffMmag\"], bins=max(2*nBins,50), cmap=Band_To_Cmap_Dict[band], label=\"data\")\n",
    "ax1.tick_params(labelsize=7)\n",
    "ax1.set_ylabel(\"psfFlux - psfFluxMean ({} mmag)\".format(band), fontsize=9)\n",
    "ax1.set_xlabel(\"PWV \", fontsize=9)\n",
    "\n",
    "ax1.set_ylim(-100, 100)\n",
    "ax1.set_xlim(1, 5.)\n",
    "ax1.grid()\n",
    "ax1.legend(fontsize=8)\n",
    "\n",
    "# Plot chi histogram\n",
    "ax2.axvline(x=0.0, color=\"gray\", linestyle='--', linewidth=1)\n",
    "ax2.hist2d(dataJoined[\"PWV\"],dataJoined[\"psfMagDiffChi\"], bins=max(2*nBins,50),cmap=Band_To_Cmap_Dict[band], lw=2, label=\"data\")\n",
    "\n",
    "\n",
    "ax2.tick_params(labelsize=7)\n",
    "ax2.set_ylabel(\"$\\chi$ = (psfMagDiff)/(psfMagErr$^2$ + psfMagMeanErr$^2$)$^{1/2}$\", fontsize=9)\n",
    "ax2.set_xlabel(\"PWV mm\", fontsize=9)\n",
    "\n",
    "ax2.set_ylim(-10, 10)\n",
    "ax2.set_xlim(1, 5.)\n",
    "ax2.grid()\n",
    "ax2.legend(fontsize=8)\n",
    "\n",
    "if doSaveFigs:\n",
    "    filename = \"{}psfFluxDiffHist2DPWV_{}_{}_{}{}\".format(saveDir, tract, band, collectionStr, maxVisitStr)\n",
    "    print(\"Saving file in: {}\".format(filename))\n",
    "    fig.savefig(filename, dpi=150)"
   ]
  },
  {
   "cell_type": "code",
   "execution_count": null,
   "id": "8d5e37f3-090d-4e35-b131-dea434bcad71",
   "metadata": {},
   "outputs": [],
   "source": [
    "fig, (ax1, ax2) = plt.subplots(1, 2, figsize=(10,4))\n",
    "# ax.set_title(\"{} {} {}\".format(collection, tract, band), fontsize=8)\n",
    "fig.suptitle(\"{}\\n{} {} (max visit: {})\".format(collection, tract, band, max(dataJoined[\"visit\"])),\n",
    "             fontsize=10, y=0.98)\n",
    "ax1.axvline(x=0.0, color=\"gray\", linestyle='--', linewidth=1)\n",
    "\n",
    "#n, bins, patches = ax1.hist(dataJoined[\"psfMagDiffMmag\"], bins=2*nBins, density=True, histtype=\"step\", lw=2, label=\"data\")\n",
    "ax1.hist2d(dataJoined[\"PWV\"],dataJoined[\"psfMagDiffMmag\"], bins=max(2*nBins,50), cmap=plt.cm.Reds, label=\"data\")\n",
    "ax1.tick_params(labelsize=7)\n",
    "ax1.set_ylabel(\"psfFlux - psfFluxMean ({} mmag)\".format(band), fontsize=9)\n",
    "ax1.set_xlabel(\"PWV \", fontsize=9)\n",
    "\n",
    "ax1.set_ylim(-100, 100)\n",
    "ax1.set_xlim(1, 5.)\n",
    "ax1.grid()\n",
    "ax1.legend(fontsize=8)\n",
    "\n",
    "# Plot chi histogram\n",
    "ax2.axvline(x=0.0, color=\"gray\", linestyle='--', linewidth=1)\n",
    "ax2.hist2d(dataJoined[\"PWV\"],dataJoined[\"psfMagDiffChi\"], bins=max(2*nBins,50),cmap=plt.cm.Reds, lw=2, label=\"data\")\n",
    "\n",
    "\n",
    "ax2.tick_params(labelsize=7)\n",
    "ax2.set_ylabel(\"$\\chi$ = (psfMagDiff)/(psfMagErr$^2$ + psfMagMeanErr$^2$)$^{1/2}$\", fontsize=9)\n",
    "ax2.set_xlabel(\"PWV mm\", fontsize=9)\n",
    "\n",
    "ax2.set_ylim(-20, 20)\n",
    "ax2.set_xlim(1, 5.)\n",
    "ax2.grid()\n",
    "ax2.legend(fontsize=8)\n",
    "\n",
    "if doSaveFigs:\n",
    "    filename = \"{}psfFluxDiffHist2DPWV_{}_{}_{}{}\".format(saveDir, tract, band, collectionStr, maxVisitStr)\n",
    "    print(\"Saving file in: {}\".format(filename))\n",
    "    fig.savefig(filename, dpi=150)"
   ]
  },
  {
   "cell_type": "code",
   "execution_count": null,
   "id": "ca436dd6-52f9-470e-81f4-b8312d13387a",
   "metadata": {},
   "outputs": [],
   "source": [
    "all_nightObs = dataJoined[\"nightObs\"].unique() \n",
    "all_X = []\n",
    "all_Y1 = []\n",
    "all_EY1 = []\n",
    "all_Y2 = []\n",
    "all_EY2 = []\n",
    "for night in all_nightObs:\n",
    "    cut = dataJoined[\"nightObs\"] == night\n",
    "    df_sel = dataJoined[cut]\n",
    "    pwv = df_sel[\"PWV\"].mean()\n",
    "    Y1 = df_sel[\"psfMagDiffMmag\"].mean()\n",
    "    EY1= df_sel[\"psfMagDiffMmag\"].std()\n",
    "    Y2 = df_sel[\"psfMagDiffChi\"].mean()\n",
    "    EY2 = df_sel[\"psfMagDiffChi\"].std()\n",
    "    all_X.append(pwv)\n",
    "    all_Y1.append(Y1)\n",
    "    all_EY1.append(EY1)\n",
    "    all_Y2.append(Y2)\n",
    "    all_EY2.append(EY2)\n",
    "fig, (ax1, ax2) = plt.subplots(1, 2, figsize=(10,4))\n",
    "# ax.set_title(\"{} {} {}\".format(collection, tract, band), fontsize=8)\n",
    "fig.suptitle(\"{}\\n{} {} (max visit: {})\".format(collection, tract, band, max(dataJoined[\"visit\"])),\n",
    "             fontsize=10, y=0.98)\n",
    "ax1.axhline(y=0.0, color=\"gray\", linestyle='--', linewidth=1)\n",
    "\n",
    "#n, bins, patches = ax1.hist(dataJoined[\"psfMagDiffMmag\"], bins=2*nBins, density=True, histtype=\"step\", lw=2, label=\"data\")\n",
    "ax1.hist2d(dataJoined[\"PWV\"],dataJoined[\"psfMagDiffMmag\"], bins=max(2*nBins,50), cmap=plt.cm.Reds, label=\"data\")\n",
    "ax1.tick_params(labelsize=7)\n",
    "ax1.set_ylabel(\"psfFlux - psfFluxMean ({} mmag)\".format(band), fontsize=9)\n",
    "ax1.set_xlabel(\"PWV \", fontsize=9)\n",
    "ax1.errorbar(all_X,all_Y1,yerr=all_EY1,fmt='o',lw=1,color='b',ecolor='b',markersize=6)\n",
    "\n",
    "ax1.set_ylim(-50, 50)\n",
    "ax1.set_xlim(1, 5.)\n",
    "ax1.grid()\n",
    "ax1.legend(fontsize=8)\n",
    "\n",
    "# Plot chi histogram\n",
    "ax2.axhline(y=0.0, color=\"gray\", linestyle='--', linewidth=1)\n",
    "ax2.hist2d(dataJoined[\"PWV\"],dataJoined[\"psfMagDiffChi\"], bins=max(2*nBins,50),cmap=plt.cm.Reds, lw=2, label=\"data\")\n",
    "ax2.errorbar(all_X,all_Y2,yerr=all_EY2,fmt='o',lw=1,color='b',ecolor='b',markersize=6)\n",
    "\n",
    "ax2.tick_params(labelsize=7)\n",
    "ax2.set_ylabel(\"$\\chi$ = (psfMagDiff)/(psfMagErr$^2$ + psfMagMeanErr$^2$)$^{1/2}$\", fontsize=9)\n",
    "ax2.set_xlabel(\"PWV mm\", fontsize=9)\n",
    "\n",
    "ax2.set_ylim(-10, 10)\n",
    "ax2.set_xlim(1, 5.)\n",
    "ax2.grid()\n",
    "ax2.legend(fontsize=8)\n",
    "\n",
    "if doSaveFigs:\n",
    "    filename = \"{}psfFluxDiffHist2DPWV_{}_{}_{}{}\".format(saveDir, tract, band, collectionStr, maxVisitStr)\n",
    "    print(\"Saving file in: {}\".format(filename))\n",
    "    fig.savefig(filename, dpi=150)     "
   ]
  },
  {
   "cell_type": "code",
   "execution_count": null,
   "id": "b4b533e5",
   "metadata": {},
   "outputs": [],
   "source": [
    "# Split out the smallest and largest PSF mag std objects (just to easily look at the extremes).\n",
    "largeStdList = [index for index in psfMagStdMmagDict if psfMagStdMmagDict[index] >= 1.4*medianPsfFluxStd]\n",
    "smallStdList= [index for index in psfMagStdMmagDict if psfMagStdMmagDict[index] < 0.4*medianPsfFluxStd]\n",
    "for objectIndex in largeStdList:\n",
    "    print(\"Large Std: objectIndex = {}  number of matches = {}\".format(objectIndex, len(dataJoined[dataJoined[\"obj_index\"] == objectIndex])))\n",
    "for objectIndex in smallStdList:\n",
    "    print(\"Small Std: objectIndex = {}  number of matches = {}\".format(objectIndex, len(dataJoined[dataJoined[\"obj_index\"] == objectIndex])))"
   ]
  },
  {
   "cell_type": "code",
   "execution_count": null,
   "id": "0a1f0771",
   "metadata": {},
   "outputs": [],
   "source": [
    "# Plot cutouts centered on matched sources from different visits for a couple of objects.\n",
    "# Selecting from the small/largeStdLists made above to look at the extremes.\n",
    "imMin, imMax, Q = -0.001, 0.004, 8\n",
    "expMin, expMax = -25, 100\n",
    "numSub = 8\n",
    "for maxBoxSize in [71]:\n",
    "    plt.close(\"all\")\n",
    "    for objInd in smallStdList[0:3] + largeStdList[1:2]:\n",
    "        joinedObjects = dataJoined[dataJoined[\"obj_index\"] == objInd]\n",
    "        numObj = len(joinedObjects)\n",
    "        print(\"numObj = {} [with obj_index = {}]\".format(numObj, objInd))\n",
    "        nRow = 1 if numObj <= numSub else (numObj // numSub) + 1\n",
    "        # print(\"nRow = {}\".format(nRow))\n",
    "        fig, axes = plt.subplots(nRow, numSub, figsize=(3*numSub, 3*nRow), constrained_layout=True)\n",
    "        joinedObjects = dataJoined[dataJoined[\"obj_index\"] == objInd]\n",
    "        \n",
    "        psfMag = joinedObjects[\"psfMag\"]\n",
    "        psfMagErr = joinedObjects[\"psfMagErr\"]\n",
    "        psfMagDiffMmag = joinedObjects[\"psfMagDiffMmag\"].values\n",
    "        psfMagStdMmag = psfMagStdMmagDict[objInd]\n",
    "\n",
    "        clippedMeanRaArray = scipy.stats.sigmaclip(joinedObjects[\"ra\"], low=3.0, high=3.0).clipped\n",
    "        clippedMeanRa = np.mean(clippedMeanRaArray)\n",
    "        clippedMeanDecArray = scipy.stats.sigmaclip(joinedObjects[\"dec\"], low=3.0, high=3.0).clipped\n",
    "        clippedMeanDec = np.mean(clippedMeanDecArray)\n",
    "\n",
    "        iObj = -1\n",
    "        for ax in axes.ravel():\n",
    "            iObj += 1\n",
    "            if iObj < numObj:\n",
    "                row = joinedObjects[iObj:iObj + 1]\n",
    "                detector = row[\"detector\"].values[0]\n",
    "                visit = row[\"visit\"].values[0]\n",
    "                psfMag = (row[\"psfFlux\"].values[0]*u.nJy).to(u.ABmag)\n",
    "\n",
    "                dataId = {\"detector\": detector, \"visit\": visit}\n",
    "                exp = butler.get(\"calexp\", dataId)\n",
    "                wcs = exp.wcs\n",
    "                pt = geom.SpherePoint(geom.Angle(row[\"ra\"].values[0], geom.degrees),\n",
    "                                      geom.Angle(row[\"dec\"].values[0], geom.degrees))\n",
    "                (xSrc, ySrc) = wcs.skyToPixel(pt)\n",
    "\n",
    "                boxSize = int(min(maxBoxSize, xSrc, exp.getWidth()-xSrc, ySrc, exp.getHeight()-ySrc) - 1)\n",
    "\n",
    "                minBbox = geom.Point2I(int(xSrc) - boxSize ,int(ySrc) - boxSize)\n",
    "                maxBbox = geom.Point2I(int(xSrc) + boxSize, int(ySrc) + boxSize)\n",
    "                srcBbox = geom.Box2I(minBbox, maxBbox)\n",
    "\n",
    "                subimg = afwImage.ExposureF(exp, srcBbox, afwImage.PARENT, True)\n",
    "                subimgRgb = afwRgb.makeRGB(subimg.image.array, None, None, expMin, expMax - expMin, Q)\n",
    "\n",
    "                im = ax.imshow(subimgRgb, interpolation=\"nearest\", origin=\"lower\")\n",
    "                ax.text(0.5, 0.06, \"psfSig: {:.2f} pix\".format(row[\"psfSigma\"].values[0]),\n",
    "                        color=\"cyan\", fontsize=14, ha=\"center\", va=\"center\", transform=ax.transAxes)\n",
    "                ax.text(0.5, 0.15, \"{:.2f}\".format(psfMag),\n",
    "                        color=\"violet\", fontsize=14, ha=\"center\", va=\"center\", transform=ax.transAxes)\n",
    "\n",
    "                diffColor = \"red\" if np.abs(psfMagDiffMmag[iObj]) > 100 else \"lawngreen\"\n",
    "                ax.text(0.5, 0.92, \"diff: {:.2f} mmag\".format(psfMagDiffMmag[iObj]),\n",
    "                        color=diffColor, fontsize=14, ha=\"center\", va=\"center\", transform=ax.transAxes)\n",
    "\n",
    "                ax.set_title(\"{} : {} {}sec\".format(iObj,visit, row[\"expTime\"].values[0]), fontsize=12)\n",
    "\n",
    "        color = \"green\"\n",
    "        plt.text(0.5, 0.84, \"std: {:.2f} mmag\".format(psfMagStdMmag), color=color, fontsize=14,\n",
    "                 ha=\"center\", va=\"center\", transform=ax.transAxes)\n",
    "\n",
    "        if doSaveFigs:\n",
    "            filename = \"{}{}_allOjbectsSmallStd_{}_{}_{}\".format(saveDir, camera.getName(), objInd, maxBoxSize, collectionStr)\n",
    "            print(\"Saving file in: {}\".format(filename))\n",
    "            plt.savefig(filename, dpi=250)"
   ]
  },
  {
   "cell_type": "code",
   "execution_count": null,
   "id": "8cdd225d",
   "metadata": {},
   "outputs": [],
   "source": [
    "# Plot all light curves (or as many as you include from stdList)\n",
    "stdList = [index for index in psfMagStdMmagDict]\n",
    "# Make light curves for both:\n",
    "#     psfInstMag: the \"instrument\" magnitude\n",
    "#     psfMag: the calibrated magnitude\n",
    "for magStr in [\"psfInstMag\", \"psfMag\"]:\n",
    "    fig, ax = plt.subplots(1, 1, figsize=(14, 10))\n",
    "    for objInd in stdList[:25]:\n",
    "        joinedObjects = dataJoined[dataJoined[\"obj_index\"] == objInd]\n",
    "        xData = joinedObjects[\"expMidptMjd\"]\n",
    "        yData = joinedObjects[magStr]\n",
    "        yDataErr = joinedObjects[\"psfMagErr\"]\n",
    "        yDataSorted = [y for _, y in sorted(zip(xData, yData))]\n",
    "        yDataErrSorted = [y for _, y in sorted(zip(xData, yDataErr))]\n",
    "        xDataSorted = sorted(xData)\n",
    "        ax.errorbar(xDataSorted, yDataSorted, yerr=yDataErrSorted, linestyle=\"-\", alpha=0.6, label=\"{}\".format(objInd))\n",
    "        ax.scatter(xDataSorted, yDataSorted, s=9, alpha=1.0)\n",
    "    ax.legend(fontsize=6, loc=\"upper right\")\n",
    "    ax.set_xlabel(\"{}{}\".format(\"expMidpdMjd\", \" (MJD)\"), fontsize=10)\n",
    "    ax.set_ylabel(\"{}_{}\".format(band, magStr), fontsize=10)\n",
    "    title = f\"Light Curves {magStr} for tract {tract} in band {band} (AUXTEL)\"\n",
    "    ax.set_title(title)\n",
    "    if doSaveFigs:\n",
    "        filename = \"{}{}_lightCurves_{}\".format(saveDir, camera.getName(),collectionStr)\n",
    "        print(\"Saving file in: {}\".format(filename))\n",
    "        plt.savefig(filename, dpi=150)\n",
    "    ax.grid()"
   ]
  },
  {
   "cell_type": "code",
   "execution_count": null,
   "id": "7018234b",
   "metadata": {},
   "outputs": [],
   "source": [
    "# Plot light curves divided by photo Std\n",
    "magStr = \"psfMag\"\n",
    "largeThresh = min(2.0*medianPsfFluxStd, 0.8*max(psfMagStdMmagDict.values()))\n",
    "smallThresh = max(0.5*medianPsfFluxStd, 0.2*min(psfMagStdMmagDict.values()))\n",
    "mediumThreshLower = medianPsfFluxStd - 0.04*medianPsfFluxStd\n",
    "mediumThreshUpper = medianPsfFluxStd + 0.04*medianPsfFluxStd\n",
    "largeStdList = [index for index in psfMagStdMmagDict if psfMagStdMmagDict[index] > largeThresh]\n",
    "mediumUpperStdList = [index for index in psfMagStdMmagDict if (psfMagStdMmagDict[index] < mediumThreshUpper and psfMagStdMmagDict[index] > medianPsfFluxStd)]\n",
    "mediumLowerStdList = [index for index in psfMagStdMmagDict if (psfMagStdMmagDict[index] < medianPsfFluxStd and psfMagStdMmagDict[index] > mediumThreshLower)]\n",
    "smallStdList = [index for index in psfMagStdMmagDict if psfMagStdMmagDict[index] < smallThresh]\n",
    "titleStrList = [\"psf diff std > {:.2f} mmag\".format(largeThresh),\n",
    "                \"psf diff {:.2f} < std < {:.2f} mmag\".format(medianPsfFluxStd, mediumThreshUpper),\n",
    "                \"psf diff {:.2f} < std < {:.2f} mmag\".format(mediumThreshLower, medianPsfFluxStd),\n",
    "                \"psf diff std < {:.2f} mmag\".format(smallThresh)]\n",
    "\n",
    "fig, axes = plt.subplots(4, 1, figsize=(14, 20))\n",
    "for stdList, titleStr, ax in zip([largeStdList[:10], mediumUpperStdList[:10], mediumLowerStdList[:10], smallStdList[:10]], titleStrList, axes):\n",
    "    for objInd in stdList:\n",
    "        joinedObjects = dataJoined[dataJoined[\"obj_index\"] == objInd]\n",
    "        xData = joinedObjects[\"expMidptMjd\"]\n",
    "        yData = joinedObjects[magStr]\n",
    "        yDataErr = joinedObjects[\"psfMagErr\"]\n",
    "        yDataSorted = [y for _, y in sorted(zip(xData, yData))]\n",
    "        yDataErrSorted = [y for _, y in sorted(zip(xData, yDataErr))]\n",
    "        xDataSorted = sorted(xData)\n",
    "        ax.errorbar(xDataSorted, yDataSorted, yerr=yDataErrSorted, linestyle=\"-\", alpha=0.6, label=\"{}\".format(objInd))\n",
    "        ax.scatter(xDataSorted, yDataSorted, s=9, alpha=1.0)\n",
    "    ax.legend(fontsize=6)\n",
    "    ax.set_xlabel(\"{}{}\".format(\"expMidpdMjd\", \" (MJD)\"), fontsize=10)\n",
    "    ax.set_ylabel(\"{}_psf (mag)\".format(band), fontsize=10)\n",
    "    ax.set_title(titleStr, fontsize=12, pad=4)\n",
    "    ax.grid()\n",
    "suptitle = f\"Light Curves {magStr} for tract {tract} in band {band} (AUXTEL)\"\n",
    "plt.suptitle(suptitle)\n",
    "plt.tight_layout()\n",
    "if doSaveFigs:\n",
    "    filename = \"{}{}_lightCurves_{}\".format(saveDir, camera.getName(),collectionStr)\n",
    "    print(\"Saving file in: {}\".format(filename))\n",
    "    plt.savefig(filename, dpi=150)"
   ]
  },
  {
   "cell_type": "code",
   "execution_count": null,
   "id": "b2beb675-63bd-4639-9c01-989e2ffd18de",
   "metadata": {},
   "outputs": [],
   "source": [
    "airmasses = [airmassDict[v] for v in sorted_visitList if v in airmassDict.keys() ]\n",
    "zeropoints = [zeroPointDict[v] for v in sorted_visitList if v in zeroPointDict.keys()]\n",
    "fig, ax = plt.subplots(1, 1, figsize=(14, 5))\n",
    "ax.plot(sorted_visits_mjd,airmasses,marker='o',lw=1,c=\"blue\",label=\"airmass\") \n",
    "ax.set_xlabel(\"MJD\")\n",
    "ax.set_ylabel(\"airmass\")\n",
    "ax2 =ax.twinx()\n",
    "ax2.plot(sorted_visits_mjd,zeropoints,marker='o',lw=1,c=\"red\",label=\"zeropoint\")\n",
    "ax2.set_ylabel(\"zero-point (mag)\")\n",
    "ax.legend(loc=\"upper left\")\n",
    "ax.set_ylim(1.,2)\n",
    "ax.grid()\n",
    "ax2.legend(loc=\"upper right\")\n",
    "suptitle = f\"Airmass and zero point for tract {tract} in band {band} (AUXTEL)\"\n",
    "ax.set_title(suptitle)\n",
    "#ax2.set_ylim(27,28.5)"
   ]
  },
  {
   "cell_type": "markdown",
   "id": "6e47a3dd-d0cb-4237-80f8-5ec870bab345",
   "metadata": {},
   "source": [
    "## Difference vs PWV"
   ]
  },
  {
   "cell_type": "code",
   "execution_count": null,
   "id": "8e3b271c-16cb-418d-bcf1-56e7bae58f81",
   "metadata": {},
   "outputs": [],
   "source": []
  },
  {
   "cell_type": "markdown",
   "id": "9e16f3c4-d084-48a4-be96-e6e59966d522",
   "metadata": {},
   "source": [
    "## Save the sources"
   ]
  },
  {
   "cell_type": "code",
   "execution_count": null,
   "id": "e93d2edc-c160-48a0-9a02-ad69878237cd",
   "metadata": {},
   "outputs": [],
   "source": [
    "dataJoined.to_csv(fullname_file_output_selectedsources)"
   ]
  },
  {
   "cell_type": "code",
   "execution_count": null,
   "id": "fb7ea5ae-4a2f-412c-9fc9-92ed00f53873",
   "metadata": {},
   "outputs": [],
   "source": []
  }
 ],
 "metadata": {
  "kernelspec": {
   "display_name": "LSST",
   "language": "python",
   "name": "lsst"
  },
  "language_info": {
   "codemirror_mode": {
    "name": "ipython",
    "version": 3
   },
   "file_extension": ".py",
   "mimetype": "text/x-python",
   "name": "python",
   "nbconvert_exporter": "python",
   "pygments_lexer": "ipython3",
   "version": "3.11.7"
  }
 },
 "nbformat": 4,
 "nbformat_minor": 5
}
