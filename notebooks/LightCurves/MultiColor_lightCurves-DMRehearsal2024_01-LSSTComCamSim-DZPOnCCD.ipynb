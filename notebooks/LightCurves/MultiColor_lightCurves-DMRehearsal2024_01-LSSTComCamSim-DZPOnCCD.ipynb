{
 "cells": [
  {
   "cell_type": "markdown",
   "id": "5fb8b13a-5169-4188-9fb8-8bfb44518205",
   "metadata": {},
   "source": [
    "# Multi Color Light Curves  applied LSSTComCamSim : DZP on CCD\n",
    "\n",
    "\n",
    "- author Sylvie Dagoret-Campagne\n",
    "- creation date 2024-05-03\n",
    "- last update 2024-06-02\n",
    "\n",
    "\n",
    "  \n",
    "``Quantum Graphs``: https://tigress-web.princeton.edu/~lkelvin/pipelines/ \n",
    "\n",
    "\n",
    "https://tigress-web.princeton.edu/~lkelvin/pipelines/current/drp_pipe/LSSTComCamSim/nightly-validation-ops-rehearsal-3/\n",
    "\n",
    "``CalibrateTask``: \n",
    "https://github.com/lsst/pipe_tasks/blob/main/python/lsst/pipe/tasks/calibrate.py#L392-L399\n",
    "\n",
    "\n",
    "``Shemas``:\n",
    "https://dm.lsst.org/sdm_schemas/browser/"
   ]
  },
  {
   "cell_type": "code",
   "execution_count": null,
   "id": "3de4fd1f-8c60-4d0e-be77-c516b572c25a",
   "metadata": {},
   "outputs": [],
   "source": [
    "from lsst.daf.butler import Butler\n",
    "\n",
    "import astropy.units as u\n",
    "import numpy as np \n",
    "import pandas as pd\n",
    "pd.set_option(\"display.max_columns\", None)\n",
    "from astropy.time import Time\n",
    "\n",
    "import scipy.stats\n",
    "\n",
    "import matplotlib\n",
    "%matplotlib inline\n",
    "from matplotlib import pyplot as plt\n",
    "from mpl_toolkits.axes_grid1 import make_axes_locatable\n",
    "from matplotlib.colors import LogNorm,SymLogNorm\n",
    "\n",
    "import lsst.afw.display.rgb as afwRgb\n",
    "import lsst.afw.image as afwImage\n",
    "import lsst.geom as geom\n",
    "import pickle\n",
    "from astropy.stats import SigmaClip"
   ]
  },
  {
   "cell_type": "code",
   "execution_count": null,
   "id": "534790ff-0b3d-4d49-9d6f-30def6c6e816",
   "metadata": {},
   "outputs": [],
   "source": [
    "#xx-small\n",
    "#x-small\n",
    "#small\n",
    "#medium\n",
    "#large\n",
    "#x-large\n",
    "#xx-large\n",
    "\n",
    "plt.rcParams[\"figure.figsize\"] = (10,6)\n",
    "plt.rcParams[\"axes.labelsize\"] = 'x-large'\n",
    "plt.rcParams['axes.titlesize'] = 'x-large'\n",
    "plt.rcParams['xtick.labelsize']= 'x-large'\n",
    "plt.rcParams['ytick.labelsize']= 'x-large'"
   ]
  },
  {
   "cell_type": "code",
   "execution_count": null,
   "id": "72f729cc-9486-4017-b306-e5c0896b043c",
   "metadata": {},
   "outputs": [],
   "source": [
    "from shapely.geometry import Point as shapelyPoint\n",
    "from shapely.geometry.polygon import Polygon as shapelyPolygon"
   ]
  },
  {
   "cell_type": "code",
   "execution_count": null,
   "id": "b7454442-254c-451a-8067-8d81b122ea1c",
   "metadata": {},
   "outputs": [],
   "source": [
    "def is_in_polygon(x,y,ll,lr,ur,ul):\n",
    "    point = shapelyPoint(x, y)\n",
    "    polygon = shapelyPolygon([ll, lr, ur, ul])\n",
    "    return polygon.contains(point)"
   ]
  },
  {
   "cell_type": "code",
   "execution_count": null,
   "id": "0d7917a0-4631-49e7-a4ac-fdc44aef9eca",
   "metadata": {},
   "outputs": [],
   "source": [
    "def angle_in_range(alpha, lower, upper):\n",
    "    return (alpha - lower) % 360 <= (upper - lower) % 360"
   ]
  },
  {
   "cell_type": "code",
   "execution_count": null,
   "id": "08cc816b-a2a4-4ef8-aad3-6ecc35b2ea7d",
   "metadata": {},
   "outputs": [],
   "source": [
    "def isradec_inbbox_radec(ra,dec,ramin,ramax,decmin,decmax):\n",
    "    \"\"\"\n",
    "    Return the corners in RA,Dec in degrees given the WCS and bounding box for an image.\n",
    "\n",
    "    Parameters\n",
    "    ----------\n",
    "    ra: ra in degree\n",
    "    dec: dec in degree\n",
    "    wcs: image WCS returned by the Butler\n",
    "    bbox: bounding box returned by the Butler\n",
    "\n",
    "    Returns\n",
    "    -------\n",
    "    Bool\n",
    "    \n",
    "    \"\"\"\n",
    "\n",
    "\n",
    "    flag_ra = angle_in_range(ra,ramin,ramax)\n",
    "    flag_dec = angle_in_range(dec,decmin,decmax)\n",
    "\n",
    "    flag = flag_ra and flag_dec\n",
    "    return flag\n"
   ]
  },
  {
   "cell_type": "code",
   "execution_count": null,
   "id": "dfcfc3c9-242a-4016-bad7-4e0a12acd3d8",
   "metadata": {},
   "outputs": [],
   "source": [
    "def get_corners_radec(wcs, bbox):\n",
    "    \"\"\"\n",
    "    Return the corners in RA,Dec in degrees given the WCS and bounding box for an image.\n",
    "\n",
    "    Parameters\n",
    "    ----------\n",
    "    wcs: image WCS returned by the Butler\n",
    "    bbox: bounding box returned by the Butler\n",
    "\n",
    "    Returns\n",
    "    -------\n",
    "    corners_ra, corners_dec in decimal degrees\n",
    "    \"\"\"\n",
    "\n",
    "    corners_x = [bbox.beginX, bbox.beginX, bbox.endX, bbox.endX]\n",
    "    corners_y = [bbox.beginY, bbox.endY, bbox.endY, bbox.beginY]\n",
    "    corners_ra = []\n",
    "    corners_dec = []\n",
    "    for i in range(4):\n",
    "        radec = wcs.pixelToSky(corners_x[i], corners_y[i])\n",
    "        corners_ra.append(radec.getRa().asDegrees())\n",
    "        corners_dec.append(radec.getDec().asDegrees())\n",
    "    \n",
    "    return corners_ra, corners_dec"
   ]
  },
  {
   "cell_type": "code",
   "execution_count": null,
   "id": "12e89c3a",
   "metadata": {},
   "outputs": [],
   "source": [
    "saveDir = \"./lc_output_dmrehearsal2024\"\n",
    "doSaveFigs = False  # set to True if you actually want to save the figures in the above dir"
   ]
  },
  {
   "cell_type": "code",
   "execution_count": null,
   "id": "ff630ae4",
   "metadata": {},
   "outputs": [],
   "source": [
    "# Set some selections for reliable data\n",
    "minNumMatches = 3\n",
    "minSnCalibFlux =  100"
   ]
  },
  {
   "cell_type": "code",
   "execution_count": null,
   "id": "313383f9",
   "metadata": {},
   "outputs": [],
   "source": [
    "# INSERT YOUR collection and tract\n",
    "# for rehearsal use collection 2 which have CCDvisit\n",
    "butlerRoot = \"/repo/embargo\"\n",
    "\n",
    "collection1 = 'LSSTComCamSim/runs/nightlyvalidation/20240402/d_2024_03_29/DM-43612'\n",
    "collection2 = 'LSSTComCamSim/runs/nightlyvalidation/20240403/d_2024_03_29/DM-43612'\n",
    "collection3 = 'LSSTComCamSim/runs/nightlyvalidation/20240404/d_2024_03_29/DM-43612'\n",
    "collectionn = 'LSSTComCamSim/runs/nightlyvalidation/20240403/d_2024_03_29/DM-43612'\n",
    "#collections = [collection1,collection2,collection3]\n",
    "collections = [collection2]\n",
    "collectionStr = collectionn.replace(\"/\", \"_\")\n",
    "instrument = 'LSSTComCamSim'\n",
    "skymapName = \"ops_rehersal_prep_2k_v1\"\n",
    "where_clause = \"instrument = \\'\" + instrument+ \"\\'\"\n",
    "#3533 : No matching visitId\n",
    "tract = 2494\n",
    "#tract = 7445\n",
    "#tract = 9880\n",
    "#band = \"r\"\n",
    "suptitle = collectionStr + f\" inst = {instrument} tract = {tract}\"\n",
    "\n",
    "calibFluxStr = \"apFlux_12_0_instFlux\"\n",
    "calibFluxErrStr = \"apFlux_12_0_instFluxErr\"\n",
    "calibFluxMagStr = \"apFlux_12_0_instMag\"\n",
    "calibFluxMagErrStr = \"apFlux_12_0_instMagErr\"\n",
    "\n",
    "calibFluxCalStr = \"apFlux_12_0_calFlux\"\n",
    "calibFluxCalErrStr = \"apFlux_12_0_calFluxErr\"\n",
    "calibFluxCalMagStr = \"apFlux_12_0_calMag\"\n",
    "calibFluxCalMagErrStr = \"apFlux_12_0_calMagErr\"\n",
    "\n",
    "file_output_selectedsources = f\"lightcurves-dmrehearsal2024_04_03_tract{tract}.csv\"\n",
    "fullname_file_output_selectedsources = os.path.join(saveDir,file_output_selectedsources)"
   ]
  },
  {
   "cell_type": "markdown",
   "id": "ed31cddb-dfe0-425d-b1d3-b45fb2d3482a",
   "metadata": {},
   "source": [
    "## Initiate butler from variables set above"
   ]
  },
  {
   "cell_type": "code",
   "execution_count": null,
   "id": "36adc6e2-03ab-4642-9955-02be089091ef",
   "metadata": {},
   "outputs": [],
   "source": [
    "# Initiate butler from variables set above\n",
    "butler = Butler(butlerRoot, collections=collections, instrument=instrument, skymap=skymapName)\n",
    "camera = butler.get(\"camera\", instrument=instrument)\n",
    "skymap = butler.get(\"skyMap\")\n",
    "print(\"camera_name = {}\".format(camera.getName()))\n",
    "print(\"collections = {}\".format(collections))"
   ]
  },
  {
   "cell_type": "markdown",
   "id": "2cfc46cc-47af-4a18-ac72-aef517f0ce7d",
   "metadata": {},
   "source": [
    "## load isolated_star_sources"
   ]
  },
  {
   "cell_type": "code",
   "execution_count": null,
   "id": "c8cbc8e2-711b-4175-92c3-61aa37beee5b",
   "metadata": {},
   "outputs": [],
   "source": [
    "# Try to get the Schema\n",
    "all_tracts = []\n",
    "data_product = \"isolated_star_sources\"\n",
    "datasetRefs = butler.registry.queryDatasets(datasetType=data_product, collections=collections, where= where_clause)\n",
    "for i, ref in enumerate(datasetRefs):\n",
    "    print(i,ref.dataId)\n",
    "    all_tracts.append(ref.dataId[\"tract\"])\n",
    "    #butler_data = butler.get(ref)\n",
    "\n",
    "all_tracts = sorted(all_tracts)\n",
    "print(\"all tracts : \", all_tracts)\n",
    "\n",
    "#if not isinstance(butler_data, pd.core.frame.DataFrame):\n",
    "#    print(butler_data.getSchema())"
   ]
  },
  {
   "cell_type": "markdown",
   "id": "122dcf42-a6bd-4c49-b336-39e861c9c5e4",
   "metadata": {},
   "source": [
    "## isolated_star_sources Keeping all bands here, but keep the tract selection\n",
    "\n",
    "The main starting point is the table of isolated_star_sources which has been constructed in step 2a from a catalog\n",
    "Note that isolated star sources are associated to an object (a static starobject)\n",
    "Here the work is doneband by band.\n",
    "It is a good idea to work band by band."
   ]
  },
  {
   "cell_type": "code",
   "execution_count": null,
   "id": "8856e2a2",
   "metadata": {},
   "outputs": [],
   "source": [
    "# Load in isolated_star_sources and trim to band of interest and select the tract\n",
    "isolatedStarSourcesFull = butler.get(\"isolated_star_sources\", tract=tract)\n",
    "#isolatedStarSourcesFull = isolatedStarSourcesFull[isolatedStarSourcesFull[\"band\"] == band]"
   ]
  },
  {
   "cell_type": "code",
   "execution_count": null,
   "id": "450bca82-7431-4b60-b85c-b110197285e5",
   "metadata": {},
   "outputs": [],
   "source": [
    "tract"
   ]
  },
  {
   "cell_type": "code",
   "execution_count": null,
   "id": "de5544aa-e9dc-45bc-a172-a6592b0c4a57",
   "metadata": {},
   "outputs": [],
   "source": [
    "len(isolatedStarSourcesFull)"
   ]
  },
  {
   "cell_type": "code",
   "execution_count": null,
   "id": "6870648f-3609-440d-8eea-69885e264602",
   "metadata": {},
   "outputs": [],
   "source": [
    "# Just to have a look at what's in the catalog:\n",
    "isolatedStarSourcesFull[isolatedStarSourcesFull.index == 0]"
   ]
  },
  {
   "cell_type": "code",
   "execution_count": null,
   "id": "773ffada-3c31-4e62-b15b-b67926fc6c08",
   "metadata": {},
   "outputs": [],
   "source": [
    "isolatedStarSourcesFull.head()"
   ]
  },
  {
   "cell_type": "code",
   "execution_count": null,
   "id": "c5b25eeb-5b8c-4b49-b556-496198adf8a5",
   "metadata": {},
   "outputs": [],
   "source": [
    "isolatedStarSourcesFull.tail()"
   ]
  },
  {
   "cell_type": "code",
   "execution_count": null,
   "id": "1674462b-8b58-4dde-8086-5e7249ad7290",
   "metadata": {},
   "outputs": [],
   "source": [
    "isolatedStarSourcesFull.columns"
   ]
  },
  {
   "cell_type": "code",
   "execution_count": null,
   "id": "160b31e8-e76e-474e-adc5-4ad19833fd71",
   "metadata": {},
   "outputs": [],
   "source": [
    "print(sorted(isolatedStarSourcesFull[\"visit\"].unique()))"
   ]
  },
  {
   "cell_type": "code",
   "execution_count": null,
   "id": "05cd1b17-9aea-4362-a278-97da5377d4c6",
   "metadata": {},
   "outputs": [],
   "source": [
    "# Just to have a look at what's in the catalog:\n",
    "isolatedStarSourcesFull[isolatedStarSourcesFull.index == 0]"
   ]
  },
  {
   "cell_type": "code",
   "execution_count": null,
   "id": "dadab2ff-40f2-4cb3-8048-d873c0b89f19",
   "metadata": {},
   "outputs": [],
   "source": [
    "print(\"calibFluxStr = {},,minSnCalibFlux = {}, minNumMatches = {}\".format(calibFluxStr,minSnCalibFlux,minNumMatches))"
   ]
  },
  {
   "cell_type": "markdown",
   "id": "7026b780-bc30-448e-b87e-431597774db8",
   "metadata": {},
   "source": [
    "## Statistics on detectors in isolated_star_sources"
   ]
  },
  {
   "cell_type": "code",
   "execution_count": null,
   "id": "e8f429d2-ff1e-4aea-84b9-0bcc0a0e843a",
   "metadata": {},
   "outputs": [],
   "source": [
    "ser_isolatedstar_perdetectorband_size = isolatedStarSourcesFull.groupby([\"detector\",\"band\"]).size()"
   ]
  },
  {
   "cell_type": "code",
   "execution_count": null,
   "id": "aaf40f52-20e3-4c5a-aebf-a5793af89894",
   "metadata": {},
   "outputs": [],
   "source": [
    "ser_isolatedstar_perdetectorband_size"
   ]
  },
  {
   "cell_type": "code",
   "execution_count": null,
   "id": "af7ef2d9-cedf-46e3-8c98-9d769ab4d667",
   "metadata": {},
   "outputs": [],
   "source": [
    "df_isolatedstar_perdetectorband = ser_isolatedstar_perdetectorband_size.unstack(level=1)\n",
    "df_isolatedstar_perdetectorband "
   ]
  },
  {
   "cell_type": "code",
   "execution_count": null,
   "id": "d322bf2f-031b-4b69-9f93-1f0ca59fca1c",
   "metadata": {},
   "outputs": [],
   "source": [
    "from itertools import cycle, islice\n",
    "my_colors = list(islice(cycle(['g', 'r', 'orange']), None, len(df_isolatedstar_perdetectorband)))\n",
    "df_isolatedstar_perdetectorband.plot.bar(color=my_colors,rot=0,title=f\"Number of isolated sources per detector and per filter in tract {tract}\") "
   ]
  },
  {
   "cell_type": "code",
   "execution_count": null,
   "id": "c51f3964-b413-418d-a97c-8691ebb6e633",
   "metadata": {},
   "outputs": [],
   "source": [
    "NDET=9\n",
    "import seaborn as sns"
   ]
  },
  {
   "cell_type": "code",
   "execution_count": null,
   "id": "db999401-51ca-461a-8564-05e8aa6bdd89",
   "metadata": {},
   "outputs": [],
   "source": [
    "from matplotlib.colors import ListedColormap\n",
    "cmap = ListedColormap(sns.color_palette(\"hls\", NDET))\n",
    "all_det_colors = [cmap.colors[idx] for idx in range(NDET)]"
   ]
  },
  {
   "cell_type": "code",
   "execution_count": null,
   "id": "d341c448-1b54-49e1-9d50-b3bd2d9bf731",
   "metadata": {},
   "outputs": [],
   "source": [
    "cmap"
   ]
  },
  {
   "cell_type": "code",
   "execution_count": null,
   "id": "96a72c7c-625b-4c48-b8fa-c0b186bd5c85",
   "metadata": {},
   "outputs": [],
   "source": [
    "df_isolatedstar_perdetectorband = ser_isolatedstar_perdetectorband_size.unstack(level=0)\n",
    "df_isolatedstar_perdetectorband "
   ]
  },
  {
   "cell_type": "code",
   "execution_count": null,
   "id": "18413764-3f8e-4eee-86af-f1f737ec2eae",
   "metadata": {},
   "outputs": [],
   "source": [
    "# not working \n",
    "#my_colors_cycle = list(islice(cycle(all_det_colors), None, len(df_isolatedstar_perdetectorband)))\n",
    "#my_colors_cycle = list(islice(cycle(all_det_colors),None,3))"
   ]
  },
  {
   "cell_type": "code",
   "execution_count": null,
   "id": "87ca44a9-97f4-496a-a886-a02ad18e387e",
   "metadata": {},
   "outputs": [],
   "source": [
    "# not working\n",
    "#import itertools\n",
    "#my_colors_cycle = itertools.cycle(all_det_colors)\n",
    "#my_colors_cycle = itertools.cycle(cmap)"
   ]
  },
  {
   "cell_type": "code",
   "execution_count": null,
   "id": "6d936e62-d788-4bb9-94bd-e380cee136c6",
   "metadata": {},
   "outputs": [],
   "source": [
    "df_isolatedstar_perdetectorband.plot.bar(color=all_det_colors + all_det_colors + all_det_colors,rot=0,title=f\"Number of isolated sources per detector and per filter in tract {tract}\") "
   ]
  },
  {
   "cell_type": "code",
   "execution_count": null,
   "id": "f1fdda7f-faab-4912-9206-b3a8308343e1",
   "metadata": {},
   "outputs": [],
   "source": [
    "my_colors = list(islice(cycle(['g', 'r', 'orange']), None, NDET))\n",
    "ser_isolatedstar_perdetectorband_size.plot.bar(x=\"detector\",color=my_colors,title=f\"Number of isolated sources per detector and per filter in tract {tract}\")"
   ]
  },
  {
   "cell_type": "markdown",
   "id": "da9344e8-96c4-4317-83c9-b65522db1c8b",
   "metadata": {},
   "source": [
    "## Select a number of visits with enough good sources but in all bands here\n",
    "\n",
    "- extract the list of known objects"
   ]
  },
  {
   "cell_type": "code",
   "execution_count": null,
   "id": "0894cc5c-0907-4a41-9927-492a871ec300",
   "metadata": {},
   "outputs": [],
   "source": [
    "calibFluxStr"
   ]
  },
  {
   "cell_type": "code",
   "execution_count": null,
   "id": "0c681a8d-2485-4f2e-b005-ee7d9a44a3be",
   "metadata": {},
   "outputs": [],
   "source": [
    "minSnCalibFlux"
   ]
  },
  {
   "cell_type": "code",
   "execution_count": null,
   "id": "60e9fbfd",
   "metadata": {},
   "outputs": [],
   "source": [
    "# Trim the isolated_star_sources cat to those PSF S/N > minSnCalibFlux\n",
    "# and number of matches sources > minNumMatches.\n",
    "objIndexListFull = list(set(isolatedStarSourcesFull[\"obj_index\"].values))\n",
    "\n",
    "# Select the bright stars above a minimum of S/N ratio\n",
    "if minSnCalibFlux is not None:\n",
    "    snCalibFlux = isolatedStarSourcesFull[calibFluxStr]/isolatedStarSourcesFull[calibFluxStr + \"Err\"]\n",
    "    snMask = snCalibFlux > minSnCalibFlux\n",
    "    isolatedStarSourcesMinSn = isolatedStarSourcesFull[snMask].copy(deep=True)\n",
    "else:\n",
    "    isolatedStarSourcesMinSn = isolatedStarSourcesFull.copy(deep=True)\n",
    "\n",
    "# object index with obj index in above selected bright selected star\n",
    "objIndexListMinSn = list(set(isolatedStarSourcesMinSn[\"obj_index\"].values))\n",
    "\n",
    "# requires that the object is associated to several sources (at least minNumMatches sources)\n",
    "# loop on object having sources with S/N aboe selection \n",
    "objIndexList = []\n",
    "for objIndex in objIndexListMinSn:\n",
    "    objData = isolatedStarSourcesMinSn[isolatedStarSourcesMinSn[\"obj_index\"] == objIndex]\n",
    "    if len(objData) >= minNumMatches:\n",
    "        objIndexList.append(objIndex)\n",
    "numTrimmed = len(objIndexListFull) - len(objIndexList)\n",
    "\n",
    "mask = []\n",
    "for objIndex, visit in zip(isolatedStarSourcesMinSn[\"obj_index\"], isolatedStarSourcesMinSn[\"visit\"]):\n",
    "    if objIndex in objIndexList:\n",
    "        mask.append(True)\n",
    "    else:\n",
    "        mask.append(False)\n",
    "isolatedStarSources = isolatedStarSourcesMinSn[mask].copy(deep=True)\n",
    "\n",
    "# Select a number of visits according quality criteria\n",
    "visitList = list(set(isolatedStarSources[\"visit\"].values))\n",
    "\n",
    "if minSnCalibFlux is not None:\n",
    "    print(\"Trimmed isolated_star_sources catalog to S/N {} > {} (leaving N={} matched sources from original {})\".format(\n",
    "        calibFluxStr, minSnCalibFlux, len(isolatedStarSources), len(isolatedStarSourcesFull)))\n",
    "print(\"Trimmed isolated_star_sources catalog to objecst with nMatches >= {} (leaving {} objects from {}).\".format(\n",
    "    minNumMatches, len(objIndexList), len(objIndexListFull)))"
   ]
  },
  {
   "cell_type": "code",
   "execution_count": null,
   "id": "0258c3d3-7781-4440-b1cb-40832fff1326",
   "metadata": {},
   "outputs": [],
   "source": [
    "sorted_visitList = sorted(visitList)\n",
    "#sorted_visitList "
   ]
  },
  {
   "cell_type": "code",
   "execution_count": null,
   "id": "b1566990-7330-4b3d-8433-c8b811df4dd9",
   "metadata": {},
   "outputs": [],
   "source": [
    "def convertVisitToDatestr(visit):\n",
    "\n",
    "    num = visit//100_000\n",
    "    year = num//10_000\n",
    "    month= (num-year*10_000)//100\n",
    "    day = (num-year*10_000-month*100)\n",
    "\n",
    "    year_str = str(year).zfill(4)\n",
    "    month_str = str(month).zfill(2)\n",
    "    day_str = str(day).zfill(2)\n",
    "    \n",
    "    datestr = f\"{year_str}-{month_str}-{day_str}\"\n",
    "    return datestr"
   ]
  },
  {
   "cell_type": "code",
   "execution_count": null,
   "id": "e78a9cdd-1906-4b11-90b6-ac09ca7689b1",
   "metadata": {},
   "outputs": [],
   "source": [
    "def convertVisitToMJD(visit):\n",
    "    return Time(convertVisitToDatestr(visit)).mjd"
   ]
  },
  {
   "cell_type": "code",
   "execution_count": null,
   "id": "ebfc17b1-4874-4343-accb-2d0763a0f677",
   "metadata": {},
   "outputs": [],
   "source": [
    "sorted_visits_mjd = list(map(convertVisitToMJD, sorted_visitList))"
   ]
  },
  {
   "cell_type": "markdown",
   "id": "93fecc9f-d378-4b8d-9625-1e54e499f1db",
   "metadata": {},
   "source": [
    "## sourceTable_visit\n",
    "\n",
    "This is the main output of FGCM calibration which has selected a number of sources. These sources were originally selected from isolated sources."
   ]
  },
  {
   "cell_type": "code",
   "execution_count": null,
   "id": "db71f9f1",
   "metadata": {},
   "outputs": [],
   "source": [
    "# Extra columns to load from sourceTable_visit catalogs\n",
    "names = [\"psfFlux\", \"psfFluxErr\", \"psfFlux_flag\", \"psfFlux_apCorr\", \"psfFlux_apCorrErr\",\n",
    "         \"extendedness\", \"detect_isPrimary\", \"deblend_skipped\",\n",
    "         \"gaussianFlux\", \"gaussianFluxErr\", \"gaussianFlux_flag\",\n",
    "         \"localPhotoCalib\", \"localPhotoCalibErr\", \"localPhotoCalib_flag\"]"
   ]
  },
  {
   "cell_type": "markdown",
   "id": "c208ad09-925e-4fcb-9ebf-5d9967886d5e",
   "metadata": {},
   "source": [
    "## Note that some sourceTable_visit not found for some visits in isolated_star_sources "
   ]
  },
  {
   "cell_type": "code",
   "execution_count": null,
   "id": "831061be-bb2c-48f5-8dda-82d66a25c71a",
   "metadata": {},
   "outputs": [],
   "source": [
    "#visitList"
   ]
  },
  {
   "cell_type": "markdown",
   "id": "ad67e241-b3d1-4a6f-a29e-e51374f47f4c",
   "metadata": {},
   "source": [
    "Note here that the sourceId is the same in isolated_source_table and sourceTable"
   ]
  },
  {
   "cell_type": "code",
   "execution_count": null,
   "id": "638a0e06",
   "metadata": {},
   "outputs": [],
   "source": [
    "# Load in the sourceTable_visit catalogs to get the psfFlux and other useful info per source.\n",
    "# Columns loaded are those in names above.\n",
    "# The selected sources from the sourceTable_visit will go in a list inside the sourceCatalog\n",
    "\n",
    "sourceCatalogs = []\n",
    "nSourceDict = {}\n",
    "visitsToRemove = []\n",
    "\n",
    "# loop over all selected visit and load sourceTable_visit visit per visit\n",
    "for visit in visitList:\n",
    "    try:\n",
    "        sourceCatalogOrig = butler.get(\"sourceTable_visit\", visit=visit, parameters={\"columns\": names})\n",
    "        #select all the sources that have a \"detect_isPrimary\" flag in the sourceTable_visit\n",
    "        primaryCat = sourceCatalogOrig[sourceCatalogOrig[\"detect_isPrimary\"]].copy(deep=True)\n",
    "        # count the number of sources having S/N > 5 in this visit\n",
    "        nSourceDict[visit] = sum(primaryCat[\"psfFlux\"]/primaryCat[\"psfFluxErr\"] > 5)\n",
    "        #keep those sources hat have a \"detect_isPrimary\" flag in the sourceTable_visit in a list of list of sources per visits\n",
    "        sourceCatalogs.append(primaryCat)\n",
    "    except LookupError:\n",
    "        print(\"sourceTable_visit not found for visit {} which was in isolated_star_sources\".format(visit))\n",
    "        isolatedStarSources = isolatedStarSources[isolatedStarSources[\"visit\"] != visit].copy(deep=True)\n",
    "        visitsToRemove.append(visit)\n",
    "visitList = list(set(visitList) - set(visitsToRemove))\n",
    "\n",
    "# Do the minNumMatches cut again since visits may have been removed due to lack of sourceTable_visit\n",
    "print(\"Number of objects with >=3 matches before sourceTable_visit exsistence check: {}\".format(len(objIndexList)))\n",
    "objIndexListAllNew = list(set(isolatedStarSources[\"obj_index\"].values))\n",
    "objIndexList = []\n",
    "for objIndex in objIndexListAllNew:\n",
    "    objData = isolatedStarSources[isolatedStarSources[\"obj_index\"] == objIndex]\n",
    "    if len(objData) >= minNumMatches:\n",
    "        objIndexList.append(objIndex)\n",
    "mask = []\n",
    "for objIndex, visit in zip(isolatedStarSources[\"obj_index\"], isolatedStarSources[\"visit\"]):\n",
    "    if objIndex in objIndexList:\n",
    "        mask.append(True)\n",
    "    else:\n",
    "        mask.append(False)\n",
    "isolatedStarSources = isolatedStarSources[mask].copy(deep=True)\n",
    "visitList = list(set(isolatedStarSources[\"visit\"].values))\n",
    "print(\"Number of objects with >=3 matches after sourceTable_visit existence check: {}\".format(len(objIndexList)))\n",
    "\n",
    "# Final action associate the source in the sourceTable if the visit to the source in the isolated_source_table \n",
    "# on source sourceid and then concat all merged \n",
    "dataJoined = pd.concat(sourceCatalogs).merge(isolatedStarSources, on=\"sourceId\", how=\"inner\")"
   ]
  },
  {
   "cell_type": "code",
   "execution_count": null,
   "id": "ac91d0ce-2ac8-4f90-b315-bb7a97f9f44d",
   "metadata": {},
   "outputs": [],
   "source": [
    "len(sourceCatalogs)"
   ]
  },
  {
   "cell_type": "code",
   "execution_count": null,
   "id": "3d070e59-201a-4f3d-ad99-2b2ca3bd2e31",
   "metadata": {},
   "outputs": [],
   "source": [
    "#nSourceDict"
   ]
  },
  {
   "cell_type": "code",
   "execution_count": null,
   "id": "ba968c36-32ae-4124-80fc-69f6c115af2e",
   "metadata": {},
   "outputs": [],
   "source": [
    "#visitList"
   ]
  },
  {
   "cell_type": "code",
   "execution_count": null,
   "id": "b7a2acc3-cf74-4345-a293-c9d887f98eb9",
   "metadata": {},
   "outputs": [],
   "source": [
    "visitsToRemove "
   ]
  },
  {
   "cell_type": "markdown",
   "id": "da99b858-3add-4a24-8361-c61369ff31c8",
   "metadata": {
    "execution": {
     "iopub.execute_input": "2024-03-06T16:09:45.477682Z",
     "iopub.status.busy": "2024-03-06T16:09:45.477549Z",
     "iopub.status.idle": "2024-03-06T16:09:45.489584Z",
     "shell.execute_reply": "2024-03-06T16:09:45.489237Z",
     "shell.execute_reply.started": "2024-03-06T16:09:45.477669Z"
    }
   },
   "source": [
    "## Will start to work on dataJoined which associate selected \"isolated_star_sources\" in the selected band and visits the good calibration in \"sourceTable_visit\""
   ]
  },
  {
   "cell_type": "markdown",
   "id": "f219f59b-1c36-4bc1-aa41-ac481f96f74e",
   "metadata": {
    "execution": {
     "iopub.execute_input": "2024-02-29T10:26:18.613944Z",
     "iopub.status.busy": "2024-02-29T10:26:18.613360Z",
     "iopub.status.idle": "2024-02-29T10:26:18.648236Z",
     "shell.execute_reply": "2024-02-29T10:26:18.647844Z",
     "shell.execute_reply.started": "2024-02-29T10:26:18.613928Z"
    }
   },
   "source": [
    "### retrieve CCD Visit Table\n",
    "\n",
    "- it provides airmass and initial zero-point"
   ]
  },
  {
   "cell_type": "code",
   "execution_count": null,
   "id": "9afb7ede-ebfe-40a2-b7c2-ed7a40f3831a",
   "metadata": {},
   "outputs": [],
   "source": [
    "ccdVisitTable = butler.get(\"ccdVisitTable\")"
   ]
  },
  {
   "cell_type": "code",
   "execution_count": null,
   "id": "3bb92247-c68c-4616-844e-7161e19e59d9",
   "metadata": {},
   "outputs": [],
   "source": [
    " ccdVisitTable"
   ]
  },
  {
   "cell_type": "code",
   "execution_count": null,
   "id": "ee212f0b-99cc-4e2c-a52a-52f8605d79b6",
   "metadata": {},
   "outputs": [],
   "source": [
    "ccdVisitTable_subset = ccdVisitTable.iloc[:20][[\"visitId\",\"detector\",\"band\"]]\n",
    "ccdVisitTable_subset"
   ]
  },
  {
   "cell_type": "code",
   "execution_count": null,
   "id": "e53f59d8-d1dd-4ad3-a22e-f621b6110160",
   "metadata": {},
   "outputs": [],
   "source": [
    "#ccdVisitTable_noindex = ccdVisitTable.reset_index()\n",
    "#ccdVisitTable_noindex\n",
    "#ccdVisitTable_noindex.groupby([\"ccdVisitId\",\"detector\"]).size()"
   ]
  },
  {
   "cell_type": "code",
   "execution_count": null,
   "id": "83422e0c-f6d5-4aea-867c-62463dc999cd",
   "metadata": {},
   "outputs": [],
   "source": [
    "ccdVisitTable.groupby([\"visitId\",\"ccdVisitId\",\"detector\"]).size()"
   ]
  },
  {
   "cell_type": "markdown",
   "id": "bafbc91b-7f99-42f9-a9e6-4e358020c0f0",
   "metadata": {},
   "source": [
    "Thus one ccvisit is associated to one visit id and a detector id\n",
    "wheras the visitId has"
   ]
  },
  {
   "cell_type": "code",
   "execution_count": null,
   "id": "43cd908b-6ea0-4e66-93ed-3e0813ee7136",
   "metadata": {},
   "outputs": [],
   "source": [
    "for visit in visitList:\n",
    "    if visit in ccdVisitTable[\"visitId\"].values:\n",
    "        print(ccdVisitTable[ccdVisitTable[\"visitId\"] == visit][\"zeroPoint\"])\n",
    "        print(ccdVisitTable[ccdVisitTable[\"visitId\"] == visit][\"detector\"])\n",
    "        break"
   ]
  },
  {
   "cell_type": "markdown",
   "id": "8c52160f-47dd-4aa5-ac21-178249c60694",
   "metadata": {},
   "source": [
    "### Calculate Airmass and Ellipticity"
   ]
  },
  {
   "cell_type": "code",
   "execution_count": null,
   "id": "63e4ac48-d5c1-4a9f-8b41-a812027ee952",
   "metadata": {},
   "outputs": [],
   "source": [
    "ccdVisitTable[\"airmass\"] = ccdVisitTable[\"zenithDistance\"].apply(lambda x: 1/np.cos(np.pi/180.*x))\n",
    "ccdVisitTable[\"medianE\"] = np.sqrt(ccdVisitTable[\"psfStarDeltaE1Median\"] ** 2.0 + ccdVisitTable[\"psfStarDeltaE2Median\"] ** 2.0)"
   ]
  },
  {
   "cell_type": "code",
   "execution_count": null,
   "id": "b0db3e84",
   "metadata": {},
   "outputs": [],
   "source": [
    "# Collect useful columns from ccdVisitTable\n",
    "# This is wrong when we have several detectors per visit\n",
    "if 0:\n",
    "    visitsCCDToRemove = []\n",
    "\n",
    "    #Note there is one value per detector\n",
    "    psfSigmaDict = {}\n",
    "    skyBgDict = {}\n",
    "    skyNoiseDict = {}\n",
    "    expTimeDict = {}\n",
    "    expMidptMjdDict = {}\n",
    "    medianEDict = {}\n",
    "    psfStarScaledDeltaSizeScatterDict = {}\n",
    "    astromOffsetStdDict = {}\n",
    "    psfTraceRadiusDeltaDict = {}\n",
    "    zeroPointDict = {}\n",
    "    airmassDict = {}\n",
    "    seeingDict = {}\n",
    "\n",
    "    for visit in visitList:\n",
    "        if visit in ccdVisitTable[\"visitId\"].values:\n",
    "            psfSigmaDict[visit] = ccdVisitTable[ccdVisitTable[\"visitId\"] == visit][\"psfSigma\"].values[0]\n",
    "            skyBgDict[visit] = ccdVisitTable[ccdVisitTable[\"visitId\"] == visit][\"skyBg\"].values[0]\n",
    "            skyNoiseDict[visit] = ccdVisitTable[ccdVisitTable[\"visitId\"] == visit][\"skyNoise\"].values[0]\n",
    "            expTimeDict[visit] = ccdVisitTable[ccdVisitTable[\"visitId\"] == visit][\"expTime\"].values[0]\n",
    "            expMidptMjdDict[visit] = ccdVisitTable[ccdVisitTable[\"visitId\"] == visit][\"expMidptMJD\"].values[0]\n",
    "            medianEDict[visit] = ccdVisitTable[ccdVisitTable[\"visitId\"] == visit][\"medianE\"].values[0]\n",
    "            psfStarScaledDeltaSizeScatterDict[visit] = ccdVisitTable[ccdVisitTable[\"visitId\"] == visit][\"psfStarScaledDeltaSizeScatter\"].values[0]\n",
    "            astromOffsetStdDict[visit] = ccdVisitTable[ccdVisitTable[\"visitId\"] == visit][\"astromOffsetStd\"].values[0]\n",
    "            psfTraceRadiusDeltaDict[visit] = ccdVisitTable[ccdVisitTable[\"visitId\"] == visit][\"psfTraceRadiusDelta\"].values[0]\n",
    "            zeroPointDict[visit] = ccdVisitTable[ccdVisitTable[\"visitId\"] == visit][\"zeroPoint\"].values[0]\n",
    "            airmassDict[visit] = ccdVisitTable[ccdVisitTable[\"visitId\"] == visit][\"airmass\"].values[0]\n",
    "            seeingDict[visit] = ccdVisitTable[ccdVisitTable[\"visitId\"] == visit][\"seeing\"].values[0]\n",
    "\n",
    "        else:\n",
    "            #raise RuntimeError(\"ERROR: visit {} not found in ccdVisitTable\".format(visit))\n",
    "            print(\"ERROR: CCD visit {} not found in ccdVisitTable\".format(visit))\n",
    "            visitsCCDToRemove.append(visit) \n",
    "            psfSigmaDict[visit] = np.nan\n",
    "            skyBgDict[visit] = np.nan\n",
    "            skyNoiseDict[visit] = np.nan\n",
    "            expTimeDict[visit] = np.nan\n",
    "            expMidptMjdDict[visit] = np.nan\n",
    "            medianEDict[visit] = np.nan\n",
    "            psfStarScaledDeltaSizeScatterDict[visit] = np.nan\n",
    "            astromOffsetStdDict[visit] = np.nan\n",
    "            psfTraceRadiusDeltaDict[visit] = np.nan\n",
    "            zeroPointDict[visit] = np.nan\n",
    "            airmassDict[visit] = np.nan\n",
    "            seeingDict[visit] = np.nan"
   ]
  },
  {
   "cell_type": "code",
   "execution_count": null,
   "id": "fb0df495-7b6c-4955-bb9e-ce5e3adc6766",
   "metadata": {},
   "outputs": [],
   "source": [
    "#visitList"
   ]
  },
  {
   "cell_type": "code",
   "execution_count": null,
   "id": "072a0b02-b8ea-4e46-aab7-a43dfe6fa760",
   "metadata": {},
   "outputs": [],
   "source": [
    "#visitsToRemove "
   ]
  },
  {
   "cell_type": "code",
   "execution_count": null,
   "id": "47a22b30-6bce-4ad3-8974-d0f2df74a401",
   "metadata": {},
   "outputs": [],
   "source": [
    "#visitsCCDToRemove"
   ]
  },
  {
   "cell_type": "code",
   "execution_count": null,
   "id": "fa595417",
   "metadata": {},
   "outputs": [],
   "source": [
    "# Just to have a look at what's in the catalog:\n",
    "#ccdVisitTable[ccdVisitTable.index == ccdVisitTable.index[:5]] "
   ]
  },
  {
   "cell_type": "markdown",
   "id": "4f746c17-519f-4070-b4aa-3ea31f375350",
   "metadata": {},
   "source": [
    "### Plot visits versus time"
   ]
  },
  {
   "cell_type": "code",
   "execution_count": null,
   "id": "185d3e42-3c2d-4936-b36b-6c1d1871f8c1",
   "metadata": {},
   "outputs": [],
   "source": [
    "ccdVisitTable_subset = ccdVisitTable[[\"visitId\",\"band\",\"zeroPoint\",\"psfSigma\",\"skyBg\",\"skyNoise\",\"seeing\",\"expTime\",\"expMidptMJD\",\"obsStart\",\"airmass\",\"medianE\",\"psfStarScaledDeltaSizeScatter\",\n",
    "                                      \"astromOffsetStd\",\"psfTraceRadiusDelta\",\n",
    "                                      \"llcra\",\"llcdec\",\"ulcra\",\"ulcdec\",\"urcra\",\"urcdec\",\"lrcra\",\"lrcdec\"]]"
   ]
  },
  {
   "cell_type": "markdown",
   "id": "ed21ff6e-0700-4aea-b2f3-ede77c64cfcb",
   "metadata": {},
   "source": [
    "#### compute nightObs and datetime time"
   ]
  },
  {
   "cell_type": "code",
   "execution_count": null,
   "id": "96469585-180b-45bb-8bc7-03d8b17d5cde",
   "metadata": {},
   "outputs": [],
   "source": [
    "ccdVisitTable_subset[\"nightObs\"] = ccdVisitTable_subset.apply(lambda x: x['visitId']//100_000 - 50000000, axis=1)\n",
    "ccdVisitTable_subset[\"Time\"] = pd.to_datetime(ccdVisitTable_subset['obsStart'])"
   ]
  },
  {
   "cell_type": "code",
   "execution_count": null,
   "id": "a2550a1a-3b0e-4e38-9a0a-96e7873aa117",
   "metadata": {},
   "outputs": [],
   "source": [
    "ccdVisitTable_g = ccdVisitTable_subset[ccdVisitTable_subset.band== \"g\"]\n",
    "ccdVisitTable_r = ccdVisitTable_subset[ccdVisitTable_subset.band== \"r\"]\n",
    "ccdVisitTable_i = ccdVisitTable_subset[ccdVisitTable_subset.band== \"i\"]\n",
    "#ccdVisitTable_z = ccdVisitTable_subset[ccdVisitTable_subset.band== \"z\"]\n",
    "#ccdVisitTable_y = ccdVisitTable_subset[ccdVisitTable_subset.band== \"y\"]"
   ]
  },
  {
   "cell_type": "code",
   "execution_count": null,
   "id": "cb4519a1-a9aa-491f-b894-f8c01368bb10",
   "metadata": {},
   "outputs": [],
   "source": [
    "ccdVisitTable_subset.head()"
   ]
  },
  {
   "cell_type": "code",
   "execution_count": null,
   "id": "32d776ea-ded9-4129-9702-56bf180e0676",
   "metadata": {},
   "outputs": [],
   "source": [
    "ccdVisitTable_subset[\"removed\"] = ccdVisitTable_subset[\"visitId\"].apply(lambda x: True if x in visitsToRemove else False) "
   ]
  },
  {
   "cell_type": "code",
   "execution_count": null,
   "id": "c4f978f6-afc9-4337-a63e-ff965c502d22",
   "metadata": {},
   "outputs": [],
   "source": [
    "ccdVisitTable_subset_removed = ccdVisitTable_subset[ccdVisitTable_subset[\"removed\"]] "
   ]
  },
  {
   "cell_type": "code",
   "execution_count": null,
   "id": "ba42cb4a-ebd9-43e2-9794-0ef6fab21ad9",
   "metadata": {},
   "outputs": [],
   "source": [
    "ccdVisitTable_subset_removed "
   ]
  },
  {
   "cell_type": "markdown",
   "id": "c14d7fd8-0835-49ab-884f-9d2ed14de671",
   "metadata": {},
   "source": [
    "#### Thus the visit IN isolated-star_sources and MISSING in sourceTable are also NOT in ccdVisitTable !!!"
   ]
  },
  {
   "cell_type": "code",
   "execution_count": null,
   "id": "2adfb6c4-c5a5-4652-aa66-0069524a5e05",
   "metadata": {},
   "outputs": [],
   "source": [
    "ccdVisitTable_subset.tail()"
   ]
  },
  {
   "cell_type": "code",
   "execution_count": null,
   "id": "9ec1948a-7d9f-4f00-8c5e-a5bed1a0a2d6",
   "metadata": {},
   "outputs": [],
   "source": [
    "# function of time conversion\n",
    "from astropy.time import Time\n",
    "\n",
    "def dt_to_mjd(dt):\n",
    "    t = Time(dt)\n",
    "    return t.to_value('mjd','float')\n",
    "\n",
    "def mjd_to_dt(mjd):\n",
    "    tm = Time(mjd, format='mjd')\n",
    "    # Convert to datetime\n",
    "    utc =tm.to_datetime()\n",
    "    return utc"
   ]
  },
  {
   "cell_type": "code",
   "execution_count": null,
   "id": "d2997460-053c-41ee-a7ee-fe3e3ec3dd1f",
   "metadata": {},
   "outputs": [],
   "source": [
    "dt = ccdVisitTable_subset.iloc[0]['Time']\n",
    "dt"
   ]
  },
  {
   "cell_type": "code",
   "execution_count": null,
   "id": "4fff423a-2b28-4284-94ae-4606b42e94de",
   "metadata": {},
   "outputs": [],
   "source": [
    "type(dt)"
   ]
  },
  {
   "cell_type": "code",
   "execution_count": null,
   "id": "e98adce6-3e7b-4800-9cef-8e113cbc6a67",
   "metadata": {},
   "outputs": [],
   "source": [
    "mjd = dt_to_mjd(dt)\n",
    "mjd"
   ]
  },
  {
   "cell_type": "code",
   "execution_count": null,
   "id": "15d8d330-2fcc-4d6a-a135-dbfdf0dd5de2",
   "metadata": {},
   "outputs": [],
   "source": [
    "tm = mjd_to_dt(mjd)"
   ]
  },
  {
   "cell_type": "code",
   "execution_count": null,
   "id": "51511042-acd8-4801-88fb-5515e895ead0",
   "metadata": {},
   "outputs": [],
   "source": [
    "#ax.secondary_xaxis?"
   ]
  },
  {
   "cell_type": "code",
   "execution_count": null,
   "id": "edd57de3-2a1f-40e6-bf96-2b021cf83cb0",
   "metadata": {},
   "outputs": [],
   "source": [
    "from matplotlib.dates import DateFormatter\n",
    "date_form = DateFormatter(\"%y-%m-%dT%H:%M\")\n",
    "\n",
    "fig,axs = plt.subplots(3,1,figsize=(16,10))\n",
    "ax1,ax2,ax3 = axs\n",
    "ccdVisitTable_g.plot(x=\"Time\",y=\"zeroPoint\",marker='+',c=\"g\",lw=0.0,ax=ax1,grid=True,label=\"g\")\n",
    "ccdVisitTable_r.plot(x=\"Time\",y=\"zeroPoint\",marker='+',c=\"r\",lw=0.0,ax=ax1,grid=True,label=\"r\")\n",
    "ccdVisitTable_i.plot(x=\"Time\",y=\"zeroPoint\",marker='+',c=\"orange\",lw=0.0,ax=ax1,grid=True,label=\"i\")\n",
    "#ccdVisitTable_z.plot(x=\"Time\",y=\"zeroPoint\",marker='+',c=\"grey\",lw=0.0,ax=ax1,grid=True,label=\"z\")\n",
    "#ccdVisitTable_g.plot(x=\"Time\",y=\"zeroPoint\",marker='+',c=\"k\",lw=0.0,ax=ax1,grid=True,label=\"y\")\n",
    "#ax1.set_title(\"zeroPoint\")\n",
    "ax1.set_ylabel(\"zeroPoint\")\n",
    "ax1.xaxis.set_major_formatter(date_form)\n",
    "#ax1_up = ax1.secondary_xaxis(\"top\", functions=( dt_to_mjd, mjd_to_dt))\n",
    "#ccdVisitTable_g.plot(x=\"expMidptMJD\",y=\"zeroPoint\",marker='+',c=\"g\",lw=0.0,ax=ax1_up,grid=True,label=\"g\")\n",
    "\n",
    "\n",
    "ccdVisitTable_g.plot(x=\"Time\",y=\"airmass\",marker='+',c=\"g\",lw=0.0,ax=ax2,grid=True,label=\"g\")\n",
    "ccdVisitTable_r.plot(x=\"Time\",y=\"airmass\",marker='+',c=\"r\",lw=0.0,ax=ax2,grid=True,label=\"r\")\n",
    "ccdVisitTable_i.plot(x=\"Time\",y=\"airmass\",marker='+',c=\"orange\",lw=0.0,ax=ax2,grid=True,label=\"i\")\n",
    "#ccdVisitTable_z.plot(x=\"Time\",y=\"airmass\",marker='+',c=\"grey\",lw=0.0,ax=ax2,grid=True,label=\"z\")\n",
    "#ccdVisitTable_y.plot(x=\"Time\",y=\"airmass\",marker='+',c=\"k\",lw=0.0,ax=ax2,grid=True,label=\"y\")\n",
    "#ax2.set_title(\"airmass\")\n",
    "ax2.set_ylabel(\"airmass\")\n",
    "ax2.xaxis.set_major_formatter(date_form)\n",
    "\n",
    "ccdVisitTable_g.plot(x=\"Time\",y=\"seeing\",marker='+',c=\"g\",lw=0.0,ax=ax3,grid=True,label=\"g\")\n",
    "ccdVisitTable_r.plot(x=\"Time\",y=\"seeing\",marker='+',c=\"r\",lw=0.0,ax=ax3,grid=True,label=\"r\")\n",
    "ccdVisitTable_i.plot(x=\"Time\",y=\"seeing\",marker='+',c=\"orange\",lw=0.0,ax=ax3,grid=True,label=\"i\")\n",
    "#ccdVisitTable_z.plot(x=\"Time\",y=\"seeing\",marker='+',c=\"grey\",lw=0.0,ax=ax3,grid=True,label=\"z\")\n",
    "#ccdVisitTable_y.plot(x=\"Time\",y=\"seeing\",marker='+',c=\"k\",lw=0.0,ax=ax3,grid=True,label=\"y\")\n",
    "#ax2.set_title(\"airmass\")\n",
    "ax3.set_ylabel(\"seeing\")\n",
    "ax3.xaxis.set_major_formatter(date_form)\n",
    "\n",
    "#df.plot(x=\"Time\",y=\"coord_dec\",marker='o',c=\"g\",lw=0.0,ax=ax2,grid=True)\n",
    "plt.suptitle(suptitle,y=1.0,fontsize=16)\n",
    "plt.tight_layout()\n",
    "\n"
   ]
  },
  {
   "cell_type": "code",
   "execution_count": null,
   "id": "2ca506df-6842-4f41-b5f1-b33e1b0d4306",
   "metadata": {},
   "outputs": [],
   "source": [
    "fig,axs = plt.subplots(3,1,figsize=(10,16))\n",
    "ax1,ax2,ax3 = axs\n",
    "ccdVisitTable_g.plot(x=\"airmass\",y=\"zeroPoint\",marker='+',c=\"g\",lw=0.0,ax=ax1,grid=True,label=\"g\")\n",
    "ccdVisitTable_r.plot(x=\"airmass\",y=\"zeroPoint\",marker='+',c=\"r\",lw=0.0,ax=ax1,grid=True,label=\"r\")\n",
    "ccdVisitTable_i.plot(x=\"airmass\",y=\"zeroPoint\",marker='+',c=\"orange\",lw=0.0,ax=ax1,grid=True,label=\"i\")\n",
    "#ccdVisitTable_z.plot(x=\"airmass\",y=\"zeroPoint\",marker='+',c=\"grey\",lw=0.0,ax=ax1,grid=True,label=\"z\")\n",
    "#ccdVisitTable_y.plot(x=\"airmass\",y=\"zeroPoint\",marker='+',c=\"k\",lw=0.0,ax=ax1,grid=True,label=\"y\")\n",
    "#ax1.set_title(\"zeroPoint\")\n",
    "ax1.set_ylabel(\"zeroPoint vs airmass\")\n",
    "#ax1_up = ax1.secondary_xaxis(\"top\", functions=( dt_to_mjd, mjd_to_dt))\n",
    "#ccdVisitTable_g.plot(x=\"expMidptMJD\",y=\"zeroPoint\",marker='+',c=\"g\",lw=0.0,ax=ax1_up,grid=True,label=\"g\")\n",
    "\n",
    "ccdVisitTable_g.plot(x=\"seeing\",y=\"zeroPoint\",marker='+',c=\"g\",lw=0.0,ax=ax2,grid=True,label=\"g\")\n",
    "ccdVisitTable_r.plot(x=\"seeing\",y=\"zeroPoint\",marker='+',c=\"r\",lw=0.0,ax=ax2,grid=True,label=\"r\")\n",
    "ccdVisitTable_i.plot(x=\"seeing\",y=\"zeroPoint\",marker='+',c=\"orange\",lw=0.0,ax=ax2,grid=True,label=\"i\")\n",
    "#ccdVisitTable_z.plot(x=\"seeing\",y=\"zeroPoint\",marker='+',c=\"grey\",lw=0.0,ax=ax2,grid=True,label=\"z\")\n",
    "#ccdVisitTable_y.plot(x=\"seeing\",y=\"zeroPoint\",marker='+',c=\"k\",lw=0.0,ax=ax2,grid=True,label=\"y\")\n",
    "#ax2.set_title(\"airmass\")\n",
    "ax2.set_ylabel(\"zero point vs seeing\")\n",
    "\n",
    "ccdVisitTable_g.plot(x=\"airmass\",y=\"seeing\",marker='+',c=\"g\",lw=0.0,ax=ax3,grid=True,label=\"g\")\n",
    "ccdVisitTable_r.plot(x=\"airmass\",y=\"seeing\",marker='+',c=\"r\",lw=0.0,ax=ax3,grid=True,label=\"r\")\n",
    "ccdVisitTable_i.plot(x=\"airmass\",y=\"seeing\",marker='+',c=\"orange\",lw=0.0,ax=ax3,grid=True,label=\"i\")\n",
    "#ccdVisitTable_z.plot(x=\"airmass\",y=\"seeing\",marker='+',c=\"grey\",lw=0.0,ax=ax3,grid=True,label=\"z\")\n",
    "#ccdVisitTable_y.plot(x=\"airmass\",y=\"seeing\",marker='+',c=\"k\",lw=0.0,ax=ax3,grid=True,label=\"y\")\n",
    "#ax2.set_title(\"airmass\")\n",
    "ax3.set_ylabel(\"seeing vs airmass\")\n",
    "\n",
    "#df.plot(x=\"Time\",y=\"coord_dec\",marker='o',c=\"g\",lw=0.0,ax=ax2,grid=True)\n",
    "plt.suptitle(suptitle,y=1.0,fontsize=16)\n",
    "plt.tight_layout()"
   ]
  },
  {
   "cell_type": "markdown",
   "id": "45865071-6c19-4de1-9aae-a212de7727ee",
   "metadata": {},
   "source": [
    "## Come-back to dataJoined"
   ]
  },
  {
   "cell_type": "code",
   "execution_count": null,
   "id": "7e850a5f-6297-4438-9e0b-735b25229cc5",
   "metadata": {},
   "outputs": [],
   "source": [
    "dataJoined.columns"
   ]
  },
  {
   "cell_type": "markdown",
   "id": "9d81350b-056f-4797-9062-2b929b7ef5ad",
   "metadata": {},
   "source": [
    "### recalculate sources properties inside dataJoined before adding CCDVisit info"
   ]
  },
  {
   "cell_type": "code",
   "execution_count": null,
   "id": "26cd8a9b-c722-4b4e-8f52-83d787eea27b",
   "metadata": {},
   "outputs": [],
   "source": [
    "# Add columns into dataJoined table to have them all in one place\n",
    "dataJoined[\"psfSn\"] = dataJoined[\"psfFlux\"]/dataJoined[\"psfFluxErr\"]\n",
    "dataJoined[\"psfMag\"] = (dataJoined[\"psfFlux\"].values*u.nJy).to(u.ABmag).value\n",
    "dataJoined[\"psfMagErr\"] = 2.5/np.log(10.0)*(dataJoined[\"psfFluxErr\"].values/dataJoined[\"psfFlux\"].values)\n",
    "\n",
    "#dataJoined[\"apFlux_35_0_calFlux\"] = dataJoined[\"apFlux_35_0_instFlux\"]*dataJoined[\"localPhotoCalib\"]\n",
    "#dataJoined[\"apFlux_35_0_calFluxErr\"] = dataJoined[\"apFlux_35_0_instFluxErr\"]*dataJoined[\"localPhotoCalib\"]\n",
    "# This is the way to apply aperture corrections :\n",
    "dataJoined[calibFluxCalStr] = dataJoined[calibFluxStr]*dataJoined[\"localPhotoCalib\"]\n",
    "dataJoined[calibFluxCalErrStr] = dataJoined[calibFluxErrStr]*dataJoined[\"localPhotoCalib\"]\n",
    "\n",
    "#dataJoined[calibFluxStr] = (dataJoined[calibFluxStr].values*u.nJy).to(u.ABmag).value\n",
    "#dataJoined[calibFluxStr] = 2.5/np.log(10.0)*(dataJoined[calibFluxStr].values/dataJoined[calibFluxStr].values)\n",
    "dataJoined[calibFluxCalMagStr] = (dataJoined[calibFluxCalStr].values*u.nJy).to(u.ABmag).value\n",
    "dataJoined[calibFluxCalMagErrStr] = 2.5/np.log(10.0)*(dataJoined[calibFluxCalErrStr].values/dataJoined[calibFluxCalStr].values)\n",
    "\n",
    "# NOTE: psfFlux is the fgcm calibrated flux.  I'm pretty sure you get the \"instrumental\" \n",
    "# flux by dividing psfFlux by the localPhotoCalib value.\n",
    "dataJoined[\"psfInstMag\"] = ((dataJoined[\"psfFlux\"].values/dataJoined[\"localPhotoCalib\"].values)*u.nJy).to(u.ABmag).value\n",
    "dataJoined[\"psfGausFluxRatio\"] = dataJoined[\"psfFlux\"]/dataJoined[\"gaussianFlux\"]"
   ]
  },
  {
   "cell_type": "markdown",
   "id": "6b9f05a7-bf5a-442e-a47b-ce78ec6b9040",
   "metadata": {},
   "source": [
    "### Extract info from CCDVisit"
   ]
  },
  {
   "cell_type": "code",
   "execution_count": null,
   "id": "26b32b6b-2cd6-427b-aaa3-e511199e3d37",
   "metadata": {},
   "outputs": [],
   "source": [
    "# Example of apply function format  that does what we expect\n",
    "# dataJoined[[\"ra\",\"dec\"]].apply(lambda x: pd.Series([x[\"ra\"], x[\"dec\"]], index=['ra_2', 'dec_2']), axis=1)"
   ]
  },
  {
   "cell_type": "code",
   "execution_count": null,
   "id": "0cc3a8b7-9beb-4735-a900-a2a3edb81841",
   "metadata": {},
   "outputs": [],
   "source": [
    "# Example of function calculating in which detector is the source\n",
    "def findCCDVisitPerSource(x):\n",
    "    \"\"\"\n",
    "    Find the CCD visit cooresponding to that source\n",
    "    \"\"\"\n",
    "    visitId = x[\"visit\"]\n",
    "    ra0 = x[\"ra\"]\n",
    "    dec0 = x [\"dec\"]\n",
    "    ccd_visit_table_forthatvisit = ccdVisitTable[ccdVisitTable.visitId == visitId]\n",
    "    ccd_visit_table_forthatvisit[\"select\"] =  ccd_visit_table_forthatvisit.apply(lambda x :  is_in_polygon(ra0,dec0,(x[\"llcra\"],x[\"llcdec\"]), (x[\"lrcra\"],x[\"lrcdec\"]), (x[\"urcra\"],x[\"urcdec\"]),(x[\"ulcra\"],x[\"ulcdec\"])),axis=1)\n",
    "    ccd_visit_table_forthatvisit = ccd_visit_table_forthatvisit[ccd_visit_table_forthatvisit[\"select\"]] \n",
    "    ccd_visit_table_forthatvisit[\"dra\"] = ra0 - ccd_visit_table_forthatvisit[\"ra\"] \n",
    "    ccd_visit_table_forthatvisit[\"ddec\"] = dec0 - ccd_visit_table_forthatvisit[\"dec\"] \n",
    "    ccd_visit_table_forthatvisit.reset_index(inplace=True)\n",
    "    ccd_visit_table_forthatvisit.rename(columns = {'ccdVisitId':'ccd_ccdVisitId',\"visitId\": \"ccd_visitId\",\"band\":\"ccd_band\",\"detector\":\"ccd_detector\"}, inplace = True) \n",
    "    ccd_visit_table_forthatvisit.drop(columns = [\"physical_filter\",\"ra\",\"dec\",\"select\"],inplace=True)\n",
    "    \n",
    "    assert len(ccd_visit_table_forthatvisit == 1)\n",
    "    # Convert the dataframe into a pandas series\n",
    "    # Do not do ccd_visit_table_forthatvisit.T\n",
    "    ser =  ccd_visit_table_forthatvisit.iloc[0,:]\n",
    "    ser.name = \"ccd_visit_table_forthatvisit\"\n",
    "    return ser\n",
    "    "
   ]
  },
  {
   "cell_type": "code",
   "execution_count": null,
   "id": "119801c5-fa6f-427f-86a7-4b06c331298c",
   "metadata": {},
   "outputs": [],
   "source": [
    "dataJoined_subset = dataJoined.iloc[:10]\n",
    "dataJoined_subset_toadd = dataJoined_subset.apply(findCCDVisitPerSource,axis=1)\n",
    "dataJoined_subset_toadd"
   ]
  },
  {
   "cell_type": "code",
   "execution_count": null,
   "id": "b07e6905-1534-44d9-ae23-4e2bba6ba588",
   "metadata": {},
   "outputs": [],
   "source": [
    "dataJoined_subset_toadd"
   ]
  },
  {
   "cell_type": "code",
   "execution_count": null,
   "id": "81de8d1a-6301-4ede-941a-7d037731bc38",
   "metadata": {},
   "outputs": [],
   "source": [
    "dataJoined_subset.join(dataJoined_subset_toadd) "
   ]
  },
  {
   "cell_type": "markdown",
   "id": "74cc9f4c-b709-4684-a573-d8b701d2d94f",
   "metadata": {},
   "source": [
    "### Extract the columns from the CCDVisitTable corresponding to each row of dataJoined"
   ]
  },
  {
   "cell_type": "code",
   "execution_count": null,
   "id": "412677c3-1327-4f48-a76b-47a35ab3baed",
   "metadata": {},
   "outputs": [],
   "source": [
    "dataJoined_toadd = dataJoined.apply(findCCDVisitPerSource,axis=1)"
   ]
  },
  {
   "cell_type": "code",
   "execution_count": null,
   "id": "4c1e1e22-77b9-46f7-919a-634a35d86da0",
   "metadata": {},
   "outputs": [],
   "source": [
    "dataJoined_toadd"
   ]
  },
  {
   "cell_type": "code",
   "execution_count": null,
   "id": "3d07121f-9497-4190-885c-4957d8c54a3e",
   "metadata": {},
   "outputs": [],
   "source": [
    "dataJoined = dataJoined.join(dataJoined_toadd) "
   ]
  },
  {
   "cell_type": "code",
   "execution_count": null,
   "id": "7a6bca78-8b0d-49f1-9a25-43b9e871df1c",
   "metadata": {},
   "outputs": [],
   "source": [
    "dataJoined.plot.scatter(x=\"detector\",y=\"ccd_detector\") "
   ]
  },
  {
   "cell_type": "code",
   "execution_count": null,
   "id": "0b41e597-ceed-41e2-a152-7e7f7dd2e42e",
   "metadata": {},
   "outputs": [],
   "source": [
    "dataJoined.plot.scatter(x=\"visit\",y=\"ccd_visitId\") "
   ]
  },
  {
   "cell_type": "code",
   "execution_count": null,
   "id": "2f2fd98b",
   "metadata": {},
   "outputs": [],
   "source": [
    "# Add columns into dataJoined table to have them all in one place\n",
    "#dataJoined[\"psfSn\"] = dataJoined[\"psfFlux\"]/dataJoined[\"psfFluxErr\"]\n",
    "#dataJoined[\"psfMag\"] = (dataJoined[\"psfFlux\"].values*u.nJy).to(u.ABmag).value\n",
    "#dataJoined[\"psfMagErr\"] = 2.5/np.log(10.0)*(dataJoined[\"psfFluxErr\"].values/dataJoined[\"psfFlux\"].values)\n",
    "\n",
    "##dataJoined[\"apFlux_35_0_calFlux\"] = dataJoined[\"apFlux_35_0_instFlux\"]*dataJoined[\"localPhotoCalib\"]\n",
    "##dataJoined[\"apFlux_35_0_calFluxErr\"] = dataJoined[\"apFlux_35_0_instFluxErr\"]*dataJoined[\"localPhotoCalib\"]\n",
    "# This is the way to apply aperture corrections :\n",
    "#dataJoined[calibFluxCalStr] = dataJoined[calibFluxStr]*dataJoined[\"localPhotoCalib\"]\n",
    "#dataJoined[calibFluxCalErrStr] = dataJoined[calibFluxErrStr]*dataJoined[\"localPhotoCalib\"]\n",
    "\n",
    "#dataJoined[calibFluxStr] = (dataJoined[calibFluxStr].values*u.nJy).to(u.ABmag).value\n",
    "#dataJoined[calibFluxStr] = 2.5/np.log(10.0)*(dataJoined[calibFluxStr].values/dataJoined[calibFluxStr].values)\n",
    "#dataJoined[calibFluxCalMagStr] = (dataJoined[calibFluxCalStr].values*u.nJy).to(u.ABmag).value\n",
    "#dataJoined[calibFluxCalMagErrStr] = 2.5/np.log(10.0)*(dataJoined[calibFluxCalErrStr].values/dataJoined[calibFluxCalStr].values)\n",
    "\n",
    "# NOTE: psfFlux is the fgcm calibrated flux.  I'm pretty sure you get the \"instrumental\" \n",
    "# flux by dividing psfFlux by the localPhotoCalib value.\n",
    "#dataJoined[\"psfInstMag\"] = ((dataJoined[\"psfFlux\"].values/dataJoined[\"localPhotoCalib\"].values)*u.nJy).to(u.ABmag).value\n",
    "#dataJoined[\"psfGausFluxRatio\"] = dataJoined[\"psfFlux\"]/dataJoined[\"gaussianFlux\"]\n",
    "\n",
    "#dataJoined[\"psfSigma\"] = dataJoined.apply(lambda x: psfSigmaDict[x[\"visit\"]], axis=1)\n",
    "#dataJoined[\"skyBg\"] = dataJoined.apply(lambda x: skyBgDict[x[\"visit\"]], axis=1)\n",
    "#dataJoined[\"expTime\"] = dataJoined.apply(lambda x: expTimeDict[x[\"visit\"]], axis=1)\n",
    "#dataJoined[\"expMidptMjd\"] = dataJoined.apply(lambda x: expMidptMjdDict[x[\"visit\"]], axis=1)\n",
    "#dataJoined[\"nSource\"] = dataJoined.apply(lambda x: nSourceDict[x[\"visit\"]], axis=1)\n",
    "#dataJoined[\"medianE\"] = dataJoined.apply(lambda x: medianEDict[x[\"visit\"]], axis=1)\n",
    "#dataJoined[\"psfStarScaledDeltaSizeScatter\"] = dataJoined.apply(lambda x: psfStarScaledDeltaSizeScatterDict[x[\"visit\"]], axis=1)\n",
    "#dataJoined[\"astromOffsetStd\"] = dataJoined.apply(lambda x: astromOffsetStdDict[x[\"visit\"]], axis=1)\n",
    "#dataJoined[\"psfTraceRadiusDelta\"] = dataJoined.apply(lambda x: psfTraceRadiusDeltaDict[x[\"visit\"]], axis=1)\n",
    "\n",
    "# I add the airmass and zero-point I want to keep here\n",
    "#dataJoined[\"zeroPoint\"] = dataJoined.apply(lambda x: zeroPointDict[x[\"visit\"]], axis=1)\n",
    "#dataJoined[\"localPhotoCalib\"] = dataJoined.apply(lambda x: localPhotoCalibDict[x[\"visit\"]], axis=1)\n",
    "#dataJoined[\"airmass\"] = dataJoined.apply(lambda x: airmassDict[x[\"visit\"]], axis=1)\n",
    "#dataJoined[\"seeing\"] = dataJoined.apply(lambda x: seeingDict[x[\"visit\"]], axis=1)\n",
    "#dataJoined[\"DZP\"] = dataJoined.apply(lambda x: DZPDict[x[\"visit\"]], axis=1)\n",
    "\n",
    "#matchedObjIdList = list(set(dataJoined[\"obj_index\"]))"
   ]
  },
  {
   "cell_type": "code",
   "execution_count": null,
   "id": "aa0cb484-67e2-4dc4-b670-f0fc78114e68",
   "metadata": {},
   "outputs": [],
   "source": [
    "matchedObjIdList = list(set(dataJoined[\"obj_index\"]))"
   ]
  },
  {
   "cell_type": "code",
   "execution_count": null,
   "id": "ddb12466",
   "metadata": {},
   "outputs": [],
   "source": [
    "dataJoined[dataJoined.index == 0]"
   ]
  },
  {
   "cell_type": "markdown",
   "id": "d9097dac-56de-482c-9d7a-3d83dcc83a3a",
   "metadata": {},
   "source": [
    "## The association between the independent sources is done through the object index \n",
    "\n",
    "- for plotting the repeatability"
   ]
  },
  {
   "cell_type": "code",
   "execution_count": null,
   "id": "b3346888-e2db-4eb2-aa42-66dbf2daaea6",
   "metadata": {},
   "outputs": [],
   "source": [
    "# Compute repeatability related values per object/object group and add\n",
    "# them inplace to the dataJoined DataFrame.\n",
    "psfMagDiffMmagDfList = []\n",
    "psfMagStdMmagAll = []\n",
    "psfMagStdMmagDict = {}\n",
    "psfMagDiffChiDfList = []\n",
    "psfSnAll = []\n",
    "raDiffMasDfList = []\n",
    "decDiffMasDfList = []\n",
    "raCosDecDiffMasDfList = []\n",
    "objRaDegList = []\n",
    "objDecDegList = []\n",
    "raStdMasAll = []\n",
    "decStdMasAll = []\n",
    "raCosDecStdMasAll = []\n",
    "objDataList = []\n",
    "\n",
    "# loop on objects\n",
    "for objIndex in matchedObjIdList:\n",
    "    # select sources corresponding to that object\n",
    "    objData = dataJoined[dataJoined[\"obj_index\"] == objIndex]\n",
    "    psfMag = objData[\"psfMag\"]\n",
    "    psfMagErr = objData[\"psfMagErr\"]\n",
    "\n",
    "    # average flux over all visits\n",
    "    clippedMeanMagArray = scipy.stats.sigmaclip(psfMag, low=3.0, high=3.0).clipped\n",
    "    clippedMeanMag = np.mean(clippedMeanMagArray)\n",
    "    clippedMeanMagErr = np.std(clippedMeanMagArray)/np.sqrt(len(clippedMeanMagArray))\n",
    "\n",
    "    # array of difference between flux an clipped mean average\n",
    "    psfMagDiffMmag = 1000*(psfMag - clippedMeanMag)\n",
    "    # sigma arrays over the difference\n",
    "    psfMagStdMmag = np.std(psfMagDiffMmag)\n",
    "    # residuals array\n",
    "    psfMagDiffChi = (psfMag - clippedMeanMag)/np.sqrt(psfMagErr**2 + clippedMeanMagErr**2)\n",
    "    \n",
    "    clippedMeanRaArray = scipy.stats.sigmaclip(objData[\"ra\"], low=3.0, high=3.0).clipped\n",
    "    clippedMeanRa = np.mean(clippedMeanRaArray)\n",
    "    raDiffMas = (objData[\"ra\"] - clippedMeanRa)*3600*1000\n",
    "    \n",
    "    clippedMeanDecArray = scipy.stats.sigmaclip(objData[\"dec\"], low=3.0, high=3.0).clipped\n",
    "    clippedMeanDec = np.mean(clippedMeanDecArray)\n",
    "    decDiffMas = (objData[\"dec\"] - clippedMeanDec)*3600*1000\n",
    "    \n",
    "    raCosDec = np.deg2rad(objData[\"ra\"])*np.cos(np.deg2rad(objData[\"dec\"]))\n",
    "    clippedMeanRaCosDecArray = scipy.stats.sigmaclip(raCosDec, low=3.0, high=3.0).clipped\n",
    "    clippedMeanRaCosDec = np.mean(clippedMeanRaCosDecArray)\n",
    "    raCosDecDiffRad = (raCosDec - clippedMeanRaCosDec)\n",
    "    raCosDecDiffMas = np.rad2deg(raCosDecDiffRad)*3600*1000\n",
    "\n",
    "    # save for all sources of the object\n",
    "    psfMagDiffMmagDfList.append(psfMagDiffMmag)\n",
    "    psfMagStdMmagAll.append(psfMagStdMmag)\n",
    "    psfMagDiffChiDfList.append(psfMagDiffChi)\n",
    "\n",
    "    raDiffMasDfList.append(raDiffMas)\n",
    "    decDiffMasDfList.append(decDiffMas)\n",
    "    raCosDecDiffMasDfList.append(raCosDecDiffMas)\n",
    "    \n",
    "    objRaDegList.append(clippedMeanRa)\n",
    "    objDecDegList.append(clippedMeanDec)\n",
    "\n",
    "    raStdMas = np.std(raDiffMas)\n",
    "    raStdMasAll.append(raStdMas)\n",
    "    decStdMas = np.std(decDiffMas)\n",
    "    decStdMasAll.append(decStdMas)\n",
    "    raCosDecStdMas = np.std(raCosDecDiffMas)\n",
    "    raCosDecStdMasAll.append(raCosDecStdMas)\n",
    "    psfMagStdMmagDict[objIndex] = psfMagStdMmag\n",
    "\n",
    "# concatenate over all objects - all sources\n",
    "psfMagDiffMmagDf = pd.concat(psfMagDiffMmagDfList)\n",
    "psfMagDiffChiDf = pd.concat(psfMagDiffChiDfList)\n",
    "raDiffMasDf = pd.concat(raDiffMasDfList)\n",
    "decDiffMasDf = pd.concat(decDiffMasDfList)\n",
    "raCosDecDiffMasDf = pd.concat(raCosDecDiffMasDfList)\n",
    "\n",
    "# add this common properties to each source in dataJoined\n",
    "dataJoined.loc[:, \"psfMagDiffMmag\"] = psfMagDiffMmagDf\n",
    "dataJoined.loc[:, \"psfMagDiffChi\"] = psfMagDiffChiDf\n",
    "dataJoined.loc[:, \"raDiffMas\"] = raDiffMasDf\n",
    "dataJoined.loc[:, \"decDiffMas\"] = decDiffMasDf\n",
    "dataJoined.loc[:, \"raCosDecDiffMas\"] = raCosDecDiffMasDf"
   ]
  },
  {
   "cell_type": "code",
   "execution_count": null,
   "id": "1c5b85d8",
   "metadata": {},
   "outputs": [],
   "source": [
    "if 0:\n",
    "    # Compute repeatability related values per object/object group and add\n",
    "    # them inplace to the dataJoined DataFrame.\n",
    "    psfMagDiffMmagDfList = []\n",
    "    psfMagStdMmagAll = []\n",
    "    psfMagStdMmagDict = {}\n",
    "    psfMagDiffChiDfList = []\n",
    "    psfSnAll = []\n",
    "    raDiffMasDfList = []\n",
    "    decDiffMasDfList = []\n",
    "    raCosDecDiffMasDfList = []\n",
    "    objRaDegList = []\n",
    "    objDecDegList = []\n",
    "    raStdMasAll = []\n",
    "    decStdMasAll = []\n",
    "    raCosDecStdMasAll = []\n",
    "    objDataList = []\n",
    "\n",
    "    # loop on objects\n",
    "    for objIndex in matchedObjIdList:\n",
    "        # select sources corresponding to that object\n",
    "        objData = dataJoined[dataJoined[\"obj_index\"] == objIndex]\n",
    "        psfMag = objData[\"psfMag\"]\n",
    "        psfMagErr = objData[\"psfMagErr\"]\n",
    "\n",
    "        # average flux over all visits\n",
    "        clippedMeanMagArray = scipy.stats.sigmaclip(psfMag, low=3.0, high=3.0).clipped\n",
    "        clippedMeanMag = np.mean(clippedMeanMagArray)\n",
    "        clippedMeanMagErr = np.std(clippedMeanMagArray)/np.sqrt(len(clippedMeanMagArray))\n",
    "\n",
    "        # array of difference between flux an clipped mean average\n",
    "        psfMagDiffMmag = 1000*(psfMag - clippedMeanMag)\n",
    "        # sigma arrays over the difference\n",
    "        psfMagStdMmag = np.std(psfMagDiffMmag)\n",
    "        # residuals array\n",
    "        psfMagDiffChi = (psfMag - clippedMeanMag)/np.sqrt(psfMagErr**2 + clippedMeanMagErr**2)\n",
    "    \n",
    "        clippedMeanRaArray = scipy.stats.sigmaclip(objData[\"ra\"], low=3.0, high=3.0).clipped\n",
    "        clippedMeanRa = np.mean(clippedMeanRaArray)\n",
    "        raDiffMas = (objData[\"ra\"] - clippedMeanRa)*3600*1000\n",
    "    \n",
    "        clippedMeanDecArray = scipy.stats.sigmaclip(objData[\"dec\"], low=3.0, high=3.0).clipped\n",
    "        clippedMeanDec = np.mean(clippedMeanDecArray)\n",
    "        decDiffMas = (objData[\"dec\"] - clippedMeanDec)*3600*1000\n",
    "    \n",
    "        raCosDec = np.deg2rad(objData[\"ra\"])*np.cos(np.deg2rad(objData[\"dec\"]))\n",
    "        clippedMeanRaCosDecArray = scipy.stats.sigmaclip(raCosDec, low=3.0, high=3.0).clipped\n",
    "        clippedMeanRaCosDec = np.mean(clippedMeanRaCosDecArray)\n",
    "        raCosDecDiffRad = (raCosDec - clippedMeanRaCosDec)\n",
    "        raCosDecDiffMas = np.rad2deg(raCosDecDiffRad)*3600*1000\n",
    "\n",
    "        # save for all sources of the object\n",
    "        psfMagDiffMmagDfList.append(psfMagDiffMmag)\n",
    "        psfMagStdMmagAll.append(psfMagStdMmag)\n",
    "        psfMagDiffChiDfList.append(psfMagDiffChi)\n",
    "\n",
    "        raDiffMasDfList.append(raDiffMas)\n",
    "        decDiffMasDfList.append(decDiffMas)\n",
    "        raCosDecDiffMasDfList.append(raCosDecDiffMas)\n",
    "    \n",
    "        objRaDegList.append(clippedMeanRa)\n",
    "        objDecDegList.append(clippedMeanDec)\n",
    "\n",
    "        raStdMas = np.std(raDiffMas)\n",
    "        raStdMasAll.append(raStdMas)\n",
    "        decStdMas = np.std(decDiffMas)\n",
    "        decStdMasAll.append(decStdMas)\n",
    "        raCosDecStdMas = np.std(raCosDecDiffMas)\n",
    "        raCosDecStdMasAll.append(raCosDecStdMas)\n",
    "        psfMagStdMmagDict[objIndex] = psfMagStdMmag\n",
    "\n",
    "    # concatenate over all objects - all sources\n",
    "    psfMagDiffMmagDf = pd.concat(psfMagDiffMmagDfList)\n",
    "    psfMagDiffChiDf = pd.concat(psfMagDiffChiDfList)\n",
    "    raDiffMasDf = pd.concat(raDiffMasDfList)\n",
    "    decDiffMasDf = pd.concat(decDiffMasDfList)\n",
    "    raCosDecDiffMasDf = pd.concat(raCosDecDiffMasDfList)\n",
    "\n",
    "    # add this common properties to each source in dataJoined\n",
    "    dataJoined.loc[:, \"psfMagDiffMmag\"] = psfMagDiffMmagDf\n",
    "    dataJoined.loc[:, \"psfMagDiffChi\"] = psfMagDiffChiDf\n",
    "    dataJoined.loc[:, \"raDiffMas\"] = raDiffMasDf\n",
    "    dataJoined.loc[:, \"decDiffMas\"] = decDiffMasDf\n",
    "    dataJoined.loc[:, \"raCosDecDiffMas\"] = raCosDecDiffMasDf"
   ]
  },
  {
   "cell_type": "code",
   "execution_count": null,
   "id": "a8a83802",
   "metadata": {},
   "outputs": [],
   "source": [
    "dataJoined[dataJoined.index == 0]"
   ]
  },
  {
   "cell_type": "code",
   "execution_count": null,
   "id": "6e609b37-c7d5-4d62-94b4-b7c896816fc5",
   "metadata": {},
   "outputs": [],
   "source": [
    "dataJoined.head()"
   ]
  },
  {
   "cell_type": "markdown",
   "id": "b76e9a2c-5d83-44d4-b851-fde34a364f01",
   "metadata": {},
   "source": [
    "## Check the correlation between the flux psf and apperture flux"
   ]
  },
  {
   "cell_type": "markdown",
   "id": "97236e19-8151-47e0-b75b-57a4cd4c66a8",
   "metadata": {},
   "source": [
    "### Compute DPZ"
   ]
  },
  {
   "cell_type": "code",
   "execution_count": null,
   "id": "b53d704f-84e0-4623-a331-37d6183b7280",
   "metadata": {},
   "outputs": [],
   "source": [
    "dataJoined[\"localPhotoCalibMag\"] = (dataJoined[\"localPhotoCalib\"].values*u.nJy).to(u.ABmag).value\n",
    "dataJoined[\"localPhotoCalibMagErr\"] =   2.5/np.log(10.0)*dataJoined[\"localPhotoCalibErr\"].values/dataJoined[\"localPhotoCalib\"].values\n",
    "dataJoined[\"DZP\"] = dataJoined[\"localPhotoCalibMag\"] - dataJoined[\"zeroPoint\"]"
   ]
  },
  {
   "cell_type": "markdown",
   "id": "d3822743-b788-4c8e-8c57-bef52eba9e39",
   "metadata": {
    "execution": {
     "iopub.execute_input": "2024-03-21T09:53:37.961103Z",
     "iopub.status.busy": "2024-03-21T09:53:37.960978Z",
     "iopub.status.idle": "2024-03-21T09:53:37.966760Z",
     "shell.execute_reply": "2024-03-21T09:53:37.963474Z",
     "shell.execute_reply.started": "2024-03-21T09:53:37.961092Z"
    }
   },
   "source": [
    "- The goal is to understand what flux is calibrated what flux is not calibrated "
   ]
  },
  {
   "cell_type": "code",
   "execution_count": null,
   "id": "dee63f10-268e-4bf0-bf6c-46bc8bdb792a",
   "metadata": {},
   "outputs": [],
   "source": [
    "dataJoined_subset = dataJoined[[\"obj_index\",\"sourceId\",\"band\",\"visit\",\"ra\",\"dec\",\"psfMag\",\"psfFlux\",\"gaussianFlux\",calibFluxCalStr,calibFluxCalMagStr,calibFluxStr,\"psfFlux_apCorr\",\n",
    "                                \"psfMagErr\",\"psfFluxErr\",\"gaussianFluxErr\",calibFluxCalErrStr,calibFluxCalMagErrStr,calibFluxErrStr,\"skyBg\",\"zeroPoint\",\"localPhotoCalib\",\"localPhotoCalibMag\",\"DZP\",\"localPhotoCalibMagErr\",\"airmass\",\"seeing\",\"detector\",\"x\",\"y\"]].copy()"
   ]
  },
  {
   "cell_type": "code",
   "execution_count": null,
   "id": "f799abc6-7b2c-4758-beb2-fee9ca89bb37",
   "metadata": {},
   "outputs": [],
   "source": [
    "dataJoined_subset.sort_values(by=[\"obj_index\",\"band\",\"visit\"])"
   ]
  },
  {
   "cell_type": "code",
   "execution_count": null,
   "id": "7ed4334a-0cfb-478c-a139-910a1d6397a2",
   "metadata": {},
   "outputs": [],
   "source": [
    "dataJoined_subset_g = dataJoined_subset[dataJoined_subset[\"band\"] == \"g\"]\n",
    "dataJoined_subset_r = dataJoined_subset[dataJoined_subset[\"band\"] == \"r\"]\n",
    "dataJoined_subset_i = dataJoined_subset[dataJoined_subset[\"band\"] == \"i\"]\n",
    "dataJoined_subset_z = dataJoined_subset[dataJoined_subset[\"band\"] == \"z\"]\n",
    "dataJoined_subset_y = dataJoined_subset[dataJoined_subset[\"band\"] == \"y\"]"
   ]
  },
  {
   "cell_type": "markdown",
   "id": "2d7ae684-28bf-46bd-a0b7-76f92413d9ec",
   "metadata": {},
   "source": [
    "### Histogram on calibration"
   ]
  },
  {
   "cell_type": "code",
   "execution_count": null,
   "id": "765430d7-5878-4545-9f72-87d5ae683692",
   "metadata": {},
   "outputs": [],
   "source": [
    "all_dpz_std = []\n",
    "all_labels = []\n",
    "fig,ax = plt.subplots(1,1,figsize=(8,6))\n",
    "\n",
    "std = dataJoined_subset_g[\"DZP\"].std()*1000\n",
    "label = f\"g, sig(DPZ) = {std:.2f} mmag\"\n",
    "all_dpz_std.append(std)\n",
    "all_labels.append(label) \n",
    "dataJoined_subset_g[\"DZP\"].plot.hist(bins=50,histtype=\"step\",density=True,ax=ax,color=\"g\",lw=2,label=label)\n",
    "\n",
    "std = dataJoined_subset_r[\"DZP\"].std()*1000\n",
    "label = f\"r, sig(DPZ) = {std:.2f} mmag\"\n",
    "all_dpz_std.append(std)\n",
    "all_labels.append(label) \n",
    "dataJoined_subset_r[\"DZP\"].plot.hist(bins=50,histtype=\"step\",density=True,ax=ax,color=\"r\",lw=2,label=label)\n",
    "\n",
    "std = dataJoined_subset_i[\"DZP\"].std()*1000\n",
    "label = f\"i, sig(DPZ) = {std:.2f} mmag\"\n",
    "all_dpz_std.append(std)\n",
    "all_labels.append(label) \n",
    "dataJoined_subset_i[\"DZP\"].plot.hist(bins=50,histtype=\"step\",density=True,ax=ax,color=\"orange\",lw=2,label=label)\n",
    "\n",
    "std = dataJoined_subset_z[\"DZP\"].std()*1000\n",
    "label = f\"z, sig(DPZ) = {std:.2f} mmag\"\n",
    "all_dpz_std.append(std)\n",
    "all_labels.append(label) \n",
    "dataJoined_subset_z[\"DZP\"].plot.hist(bins=50,histtype=\"step\",density=True,ax=ax,color=\"grey\",lw=2,label=label)\n",
    "\n",
    "std = dataJoined_subset_y[\"DZP\"].std()*1000\n",
    "label = f\"y, sig(DPZ) = {std:.2f} mmag\"\n",
    "all_dpz_std.append(std)\n",
    "all_labels.append(label) \n",
    "dataJoined_subset_y[\"DZP\"].plot.hist(bins=50,histtype=\"step\",density=True,ax=ax,color=\"k\",lw=2,label=label)\n",
    "\n",
    "ax.set_xlabel(\"DZP : localPhotoCalib - zeroPoint (mag)\")\n",
    "ax.set_xlim(-0.01,0.01)\n",
    "ax.grid()\n",
    "ax.legend()\n",
    "ax.set_title(f\"Photometric calibration parameters: localPhotoCalib(sourceTable)-PZ(CCDvisitTable) tract {tract}\",fontsize=12)\n",
    "plt.suptitle(suptitle,y=1.0,fontsize=8)\n",
    "plt.tight_layout()"
   ]
  },
  {
   "cell_type": "code",
   "execution_count": null,
   "id": "a1746ab9-fc62-4462-893a-91826645a532",
   "metadata": {},
   "outputs": [],
   "source": [
    "fig,axs = plt.subplots(1,3,figsize=(18,6),sharex=True,sharey=True)\n",
    "#ax1,ax2,ax3,ax4,ax5 =axs\n",
    "ax1,ax2,ax3 =axs\n",
    "dataJoined_subset_g.plot.scatter(x=\"psfMag\",y=\"DZP\",ax=ax1,color=\"g\",marker=\"+\",lw=1,label=\"g\",title=all_labels[0],grid=True,alpha=0.5)\n",
    "dataJoined_subset_r.plot.scatter(x=\"psfMag\",y=\"DZP\",ax=ax2,color=\"r\",marker=\"+\",lw=1,label=\"r\",title=all_labels[1],grid=True,alpha=0.5)\n",
    "dataJoined_subset_i.plot.scatter(x=\"psfMag\",y=\"DZP\",ax=ax3,color=\"orange\",marker=\"+\",lw=1,label=\"i\",title=all_labels[2],grid=True,alpha=0.5)\n",
    "#dataJoined_subset_z.plot.scatter(x=\"psfMag\",y=\"DZP\",ax=ax4,color=\"grey\",marker=\"+\",lw=0.5,label=\"z\",title=all_labels[3],grid=True,alpha=0.5)\n",
    "#dataJoined_subset_y.plot.scatter(x=\"psfMag\",y=\"DZP\",ax=ax5,color=\"k\",marker=\"+\",lw=0.5,label=\"y\",title=all_labels[4],grid=True,alpha=0.5)\n",
    "ax1.set_ylabel(\"DPZ (mag)\")\n",
    "plt.suptitle(suptitle,y=1.0,fontsize=8)\n",
    "plt.tight_layout()"
   ]
  },
  {
   "cell_type": "code",
   "execution_count": null,
   "id": "9a04a21a-c3a2-43e4-b757-d919a027c3b0",
   "metadata": {},
   "outputs": [],
   "source": [
    "fig,axs = plt.subplots(1,3,figsize=(18,6),sharex=True,sharey=True)\n",
    "#ax1,ax2,ax3,ax4,ax5 =axs\n",
    "ax1,ax2,ax3 =axs\n",
    "dataJoined_subset_g.plot.scatter(x=\"airmass\",y=\"DZP\",ax=ax1,color=\"g\",marker=\"+\",lw=1,label=\"g\",title=all_labels[0],grid=True,alpha=0.5)\n",
    "dataJoined_subset_r.plot.scatter(x=\"airmass\",y=\"DZP\",ax=ax2,color=\"r\",marker=\"+\",lw=1,label=\"r\",title=all_labels[1],grid=True,alpha=0.5)\n",
    "dataJoined_subset_i.plot.scatter(x=\"airmass\",y=\"DZP\",ax=ax3,color=\"orange\",marker=\"+\",lw=1,label=\"i\",title=all_labels[2],grid=True,alpha=0.5)\n",
    "#dataJoined_subset_z.plot.scatter(x=\"airmass\",y=\"DZP\",ax=ax4,color=\"grey\",marker=\"+\",lw=0.5,label=\"z\",title=all_labels[3],grid=True,alpha=0.5)\n",
    "#dataJoined_subset_y.plot.scatter(x=\"airmass\",y=\"DZP\",ax=ax5,color=\"k\",marker=\"+\",lw=0.5,label=\"y\",title=all_labels[4],grid=True,alpha=0.5)\n",
    "ax1.set_ylabel(\"DPZ (mag)\")\n",
    "plt.suptitle(suptitle,y=1.0,fontsize=8)\n",
    "plt.tight_layout()"
   ]
  },
  {
   "cell_type": "code",
   "execution_count": null,
   "id": "d211134a-d755-4745-86db-35c6470bc7d7",
   "metadata": {},
   "outputs": [],
   "source": [
    "fig,axs = plt.subplots(1,3,figsize=(18,6),sharex=True,sharey=True)\n",
    "#ax1,ax2,ax3,ax4,ax5 =axs\n",
    "ax1,ax2,ax3 = axs\n",
    "dataJoined_subset_g.plot.scatter(x=\"visit\",y=\"DZP\",ax=ax1,color=\"g\",marker=\"+\",lw=1,label=\"g\",title=all_labels[0],grid=True,alpha=0.5)\n",
    "dataJoined_subset_r.plot.scatter(x=\"visit\",y=\"DZP\",ax=ax2,color=\"r\",marker=\"+\",lw=1,label=\"r\",title=all_labels[1],grid=True,alpha=0.5)\n",
    "dataJoined_subset_i.plot.scatter(x=\"visit\",y=\"DZP\",ax=ax3,color=\"orange\",marker=\"+\",lw=1,label=\"i\",title=all_labels[2],grid=True,alpha=0.5)\n",
    "#dataJoined_subset_z.plot.scatter(x=\"visit\",y=\"DZP\",ax=ax4,color=\"grey\",marker=\"+\",lw=0.5,label=\"z\",title=all_labels[3],grid=True,alpha=0.5)\n",
    "#dataJoined_subset_y.plot.scatter(x=\"visit\",y=\"DZP\",ax=ax5,color=\"k\",marker=\"+\",lw=0.5,label=\"y\",title=all_labels[4],grid=True,alpha=0.5)\n",
    "ax1.set_ylabel(\"DPZ (mag)\")\n",
    "plt.suptitle(suptitle,y=1.0,fontsize=8)\n",
    "plt.tight_layout()"
   ]
  },
  {
   "cell_type": "code",
   "execution_count": null,
   "id": "cf031f35-2e00-4f70-95ab-a8e5394aad4d",
   "metadata": {},
   "outputs": [],
   "source": [
    "fig,axs = plt.subplots(1,3,figsize=(18,6),sharex=True,sharey=True)\n",
    "#ax1,ax2,ax3,ax4,ax5 =axs\n",
    "ax1,ax2,ax3 =axs\n",
    "dataJoined_subset_g.plot.scatter(x=\"detector\",y=\"DZP\",ax=ax1,color=\"g\",marker=\"o\",lw=1,label=\"g\",title=all_labels[0],grid=True,alpha=0.5)\n",
    "dataJoined_subset_r.plot.scatter(x=\"detector\",y=\"DZP\",ax=ax2,color=\"r\",marker=\"o\",lw=1,label=\"r\",title=all_labels[1],grid=True,alpha=0.5)\n",
    "dataJoined_subset_i.plot.scatter(x=\"detector\",y=\"DZP\",ax=ax3,color=\"orange\",marker=\"o\",lw=1,label=\"i\",title=all_labels[2],grid=True,alpha=0.5)\n",
    "#dataJoined_subset_z.plot.scatter(x=\"detector\",y=\"DZP\",ax=ax4,color=\"grey\",marker=\"o\",lw=0.5,label=\"z\",title=all_labels[3],grid=True,alpha=0.5)\n",
    "#dataJoined_subset_y.plot.scatter(x=\"detector\",y=\"DZP\",ax=ax5,color=\"k\",marker=\"o\",lw=0.5,label=\"y\",title=all_labels[4],grid=True,alpha=0.5)\n",
    "ax1.set_ylabel(\"DPZ (mag)\")\n",
    "plt.suptitle(suptitle,y=1.0,fontsize=8)\n",
    "plt.tight_layout()"
   ]
  },
  {
   "cell_type": "code",
   "execution_count": null,
   "id": "2c7a83f7-13d2-4e6a-9c33-c9173af88334",
   "metadata": {},
   "outputs": [],
   "source": [
    "all_localPhotoCalibMagErr_aver = []\n",
    "all_labels = []\n",
    "\n",
    "aver = dataJoined_subset_g[\"localPhotoCalibMagErr\"].mean()*1000\n",
    "label = f\"g, aver(locPCalErr) = {aver:.2f} mmag\"\n",
    "all_localPhotoCalibMagErr_aver.append(std)\n",
    "all_labels.append(label) \n",
    "\n",
    "aver = dataJoined_subset_r[\"localPhotoCalibMagErr\"].mean()*1000\n",
    "label = f\"r, aver(locPCalErr) = {aver:.2f} mmag\"\n",
    "all_localPhotoCalibMagErr_aver.append(std)\n",
    "all_labels.append(label) \n",
    "\n",
    "aver = dataJoined_subset_i[\"localPhotoCalibMagErr\"].mean()*1000\n",
    "label = f\"i, aver(locPCalErr) = {aver:.2f} mmag\"\n",
    "all_localPhotoCalibMagErr_aver.append(std)\n",
    "all_labels.append(label) \n",
    "\n",
    "aver = dataJoined_subset_z[\"localPhotoCalibMagErr\"].mean()*1000\n",
    "label = f\"z, aver(locPCalErr) = {aver:.2f} mmag\"\n",
    "all_localPhotoCalibMagErr_aver.append(std)\n",
    "all_labels.append(label) \n",
    "\n",
    "aver = dataJoined_subset_y[\"localPhotoCalibMagErr\"].mean()*1000\n",
    "label = f\"y, aver(locPCalErr) = {aver:.2f} mmag\"\n",
    "all_localPhotoCalibMagErr_aver.append(std)\n",
    "all_labels.append(label) "
   ]
  },
  {
   "cell_type": "code",
   "execution_count": null,
   "id": "ff7594d6-fb47-4bc8-8023-83fc18ddc522",
   "metadata": {},
   "outputs": [],
   "source": [
    "fig,axs = plt.subplots(1,3,figsize=(18,4),sharex=True,sharey=True)\n",
    "#ax1,ax2,ax3,ax4,ax5 =axs\n",
    "ax1,ax2,ax3 =axs\n",
    "dataJoined_subset_g.plot.scatter(x=\"psfMag\",y=\"localPhotoCalibMagErr\",ax=ax1,color=\"g\",marker=\"+\",lw=1,label=\"g\",title=all_labels[0],grid=True,alpha=0.5)\n",
    "dataJoined_subset_r.plot.scatter(x=\"psfMag\",y=\"localPhotoCalibMagErr\",ax=ax2,color=\"r\",marker=\"+\",lw=1,label=\"r\",title=all_labels[1],grid=True,alpha=0.5)\n",
    "dataJoined_subset_i.plot.scatter(x=\"psfMag\",y=\"localPhotoCalibMagErr\",ax=ax3,color=\"orange\",marker=\"+\",lw=1,label=\"i\",title=all_labels[2],grid=True,alpha=0.5)\n",
    "#dataJoined_subset_z.plot.scatter(x=\"psfMag\",y=\"localPhotoCalibMagErr\",ax=ax4,color=\"grey\",marker=\"+\",lw=0.5,label=\"z\",title=all_labels[3],grid=True,alpha=0.5)\n",
    "#dataJoined_subset_y.plot.scatter(x=\"psfMag\",y=\"localPhotoCalibMagErr\",ax=ax5,color=\"k\",marker=\"+\",lw=0.5,label=\"y\",title=all_labels[4],grid=True,alpha=0.5)\n",
    "ax1.set_ylabel(\"localPhotoCalibMagErr (mag)\")\n",
    "ax1.set_ylim(0.,0.001)\n",
    "plt.suptitle(suptitle,y=1.0,fontsize=8)\n",
    "plt.tight_layout()"
   ]
  },
  {
   "cell_type": "code",
   "execution_count": null,
   "id": "fc4fd578-5200-4977-a666-3a39751c49e7",
   "metadata": {},
   "outputs": [],
   "source": [
    "NDET"
   ]
  },
  {
   "cell_type": "code",
   "execution_count": null,
   "id": "32bde420-3d90-4301-a904-e7ae4e46ba9a",
   "metadata": {},
   "outputs": [],
   "source": [
    "all_det_colors"
   ]
  },
  {
   "cell_type": "code",
   "execution_count": null,
   "id": "bd2360a0-bf55-43c3-9103-fb531a6b1d97",
   "metadata": {},
   "outputs": [],
   "source": [
    "fig,axs = plt.subplots(1,3,figsize=(18,5),sharex=True,sharey=False)\n",
    "#ax1,ax2,ax3,ax4,ax5 =axs\n",
    "ax1,ax2,ax3 =axs\n",
    "for idet in range(NDET):\n",
    "    select_cut = dataJoined_subset_g[\"detector\"] == idet\n",
    "    the_color = all_det_colors[idet]\n",
    "    the_label = f\"det = {idet}\"\n",
    "    the_title = f\"band g , tract {tract}\"\n",
    "    the_data = dataJoined_subset_g[select_cut]\n",
    "    the_data.plot.scatter(x=\"airmass\",y=\"localPhotoCalibMag\",ax=ax1,color=the_color,marker=\"o\",lw=1,label=the_label,title=the_title,grid=True,alpha=0.5)\n",
    "\n",
    "for idet in range(NDET):\n",
    "    select_cut = dataJoined_subset_r[\"detector\"] == idet\n",
    "    the_color = all_det_colors[idet]\n",
    "    the_label = f\"det = {idet},\"\n",
    "    the_title = f\"band r , tract {tract}\"\n",
    "    the_data = dataJoined_subset_r[select_cut]\n",
    "    the_data.plot.scatter(x=\"airmass\",y=\"localPhotoCalibMag\",ax=ax2,color=the_color,marker=\"o\",lw=1,label=the_label,title=the_title,grid=True,alpha=0.5)\n",
    "\n",
    "for idet in range(NDET):\n",
    "    select_cut = dataJoined_subset_i[\"detector\"] == idet\n",
    "    the_color = all_det_colors[idet]\n",
    "    the_label = f\"det = {idet}\"\n",
    "    the_title = f\"band i , tract {tract}\"\n",
    "    the_data = dataJoined_subset_i[select_cut]\n",
    "    the_data.plot.scatter(x=\"airmass\",y=\"localPhotoCalibMag\",ax=ax3,color=the_color,marker=\"o\",lw=1,label=the_label,title=the_title,grid=True,alpha=0.5)\n",
    "    \n",
    "\n",
    "#ax1.set_ylabel(f\"localPhotoCalibMag (mag) for the different detectors (tract {tract})\")\n",
    "#ax1.set_ylim(0.,0.001)\n",
    "plt.suptitle(suptitle,y=1.0,fontsize=10)\n",
    "plt.tight_layout()"
   ]
  },
  {
   "cell_type": "code",
   "execution_count": null,
   "id": "bc380c87-f743-4b7d-a52e-2e872e6fedcb",
   "metadata": {},
   "outputs": [],
   "source": [
    "fig,axs = plt.subplots(1,3,figsize=(18,5),sharex=True,sharey=False)\n",
    "#ax1,ax2,ax3,ax4,ax5 =axs\n",
    "ax1,ax2,ax3 =axs\n",
    "for idet in range(NDET):\n",
    "    select_cut = dataJoined_subset_g[\"detector\"] == idet\n",
    "    the_color = all_det_colors[idet]\n",
    "    the_label = f\"det = {idet}\"\n",
    "    the_title = f\"band g , tract {tract}\"\n",
    "    the_data = dataJoined_subset_g[select_cut]\n",
    "    the_data.plot.scatter(x=\"airmass\",y=\"zeroPoint\",ax=ax1,color=the_color,marker=\"o\",lw=1,label=the_label,title=the_title,grid=True,alpha=0.5)\n",
    "\n",
    "for idet in range(NDET):\n",
    "    select_cut = dataJoined_subset_r[\"detector\"] == idet\n",
    "    the_color = all_det_colors[idet]\n",
    "    the_label = f\"det = {idet}\"\n",
    "    the_title = f\"band r , tract {tract}\"\n",
    "    the_data = dataJoined_subset_r[select_cut]\n",
    "    the_data.plot.scatter(x=\"airmass\",y=\"zeroPoint\",ax=ax2,color=the_color,marker=\"o\",lw=1,label=the_label,title=the_title,grid=True,alpha=0.5)\n",
    "\n",
    "for idet in range(NDET):\n",
    "    select_cut = dataJoined_subset_i[\"detector\"] == idet\n",
    "    the_color = all_det_colors[idet]\n",
    "    the_label = f\"det = {idet}\"\n",
    "    the_title = f\"band i , tract {tract}\"\n",
    "    the_data = dataJoined_subset_i[select_cut]\n",
    "    the_data.plot.scatter(x=\"airmass\",y=\"zeroPoint\",ax=ax3,color=the_color,marker=\"o\",lw=1,label=the_label,title=the_title,grid=True,alpha=0.5)\n",
    "    \n",
    "\n",
    "#ax.set_title(f\"zeroPoint (mag) for the different detectors (tract {tract})\")\n",
    "plt.suptitle(suptitle,y=1.0,fontsize=10)\n",
    "plt.tight_layout()"
   ]
  },
  {
   "cell_type": "markdown",
   "id": "27143fa0-3680-4140-8c97-d9ebe444dade",
   "metadata": {},
   "source": [
    "## Non uniformity on CCD"
   ]
  },
  {
   "cell_type": "code",
   "execution_count": null,
   "id": "fb7ea5ae-4a2f-412c-9fc9-92ed00f53873",
   "metadata": {},
   "outputs": [],
   "source": [
    "fig,axs = plt.subplots(1,3,figsize=(18,4))\n",
    "ax1,ax2,ax3 = axs[0], axs[1],axs[2]\n",
    "\n",
    "std = dataJoined_subset_g[\"DZP\"].std()*1000\n",
    "label = f\"g, sig(DPZ) = {std:.2f} mmag\"\n",
    "dataJoined_subset_g.plot.scatter(x=\"x\",y=\"y\",ax=ax1,marker=\"+\",lw=1,c=\"DZP\",cmap=\"seismic\",label=\"g\",title=label,grid=True,alpha=1,colorbar=\"True\",vmin=-0.002,vmax=0.002)\n",
    "ax1.set_aspect(\"equal\")\n",
    "\n",
    "std = dataJoined_subset_r[\"DZP\"].std()*1000\n",
    "label = f\"r, sig(DPZ) = {std:.2f} mmag\"\n",
    "dataJoined_subset_r.plot.scatter(x=\"x\",y=\"y\",ax=ax2,marker=\"+\",lw=1,c=\"DZP\",cmap=\"seismic\",label=\"r\",title=label,grid=True,alpha=1,colorbar=\"True\",vmin=-0.002,vmax=0.002)\n",
    "ax2.set_aspect(\"equal\")\n",
    "\n",
    "std = dataJoined_subset_i[\"DZP\"].std()*1000\n",
    "label = f\"i, sig(DPZ) = {std:.2f} mmag\"\n",
    "dataJoined_subset_i.plot.scatter(x=\"x\",y=\"y\",ax=ax3,marker=\"+\",lw=1,c=\"DZP\",cmap=\"seismic\",label=\"i\",title=label,grid=True,alpha=1,colorbar=\"True\",vmin=-0.002,vmax=0.002)\n",
    "ax3.set_aspect(\"equal\")\n",
    "\n",
    "\n",
    "plt.suptitle(suptitle)\n",
    "plt.tight_layout()"
   ]
  },
  {
   "cell_type": "code",
   "execution_count": null,
   "id": "8cc294bb-23e4-456f-a870-ad6385d4e61f",
   "metadata": {},
   "outputs": [],
   "source": [
    "the_subset = dataJoined_subset_g\n",
    "the_detector = the_subset[\"detector\"].unique()\n",
    "NDET = len(the_detector)"
   ]
  },
  {
   "cell_type": "code",
   "execution_count": null,
   "id": "a187892e-ceee-46f3-be3c-08bed762ee5e",
   "metadata": {},
   "outputs": [],
   "source": [
    "fig,axes = plt.subplots(3,3,figsize=(16,13))\n",
    "for i, ax in enumerate(axes.flat):\n",
    "    the_detector_subset = the_subset[the_subset[\"detector\"] == i ]\n",
    "    std = the_detector_subset[\"DZP\"].std()*1000\n",
    "    label = f\"g,{i} sig(DPZ) = {std:.2f} mmag\"\n",
    "    the_detector_subset.plot.scatter(x=\"x\",y=\"y\",ax=ax,marker=\"+\",lw=1,c=\"DZP\",cmap=\"seismic\",label=\"g\",title=label,grid=True,alpha=1,colorbar=\"True\",vmin=-0.002,vmax=0.002)\n",
    "    ax.set_aspect(\"equal\")\n",
    "\n",
    "\n",
    "plt.suptitle(\"g band multi-detector :\"+suptitle)\n",
    "plt.tight_layout()"
   ]
  },
  {
   "cell_type": "code",
   "execution_count": null,
   "id": "85c9a65b-f615-493c-af96-767def8fe532",
   "metadata": {},
   "outputs": [],
   "source": []
  }
 ],
 "metadata": {
  "kernelspec": {
   "display_name": "LSST",
   "language": "python",
   "name": "lsst"
  },
  "language_info": {
   "codemirror_mode": {
    "name": "ipython",
    "version": 3
   },
   "file_extension": ".py",
   "mimetype": "text/x-python",
   "name": "python",
   "nbconvert_exporter": "python",
   "pygments_lexer": "ipython3",
   "version": "3.11.7"
  }
 },
 "nbformat": 4,
 "nbformat_minor": 5
}
