{
 "cells": [
  {
   "cell_type": "markdown",
   "id": "45bf4242-bfc5-4d43-88c4-a8059ae148df",
   "metadata": {},
   "source": [
    "# Explore holo quality"
   ]
  },
  {
   "cell_type": "markdown",
   "id": "01993b6e-6438-4fca-a5d5-1f9791336847",
   "metadata": {},
   "source": [
    "- author Sylvie Dagoret-Campagne\n",
    "- creation date 2024-09-08   : time_sep = 1800.\n",
    "- last update : 2024-09-09  : choose time_sep = 3600. and show SED and data point. Use mapping file special Z-Y\n",
    "- last update : 2024-09-12 : can read other version of results and use the improved model on colors\n",
    "\n",
    "- affiliation : IJCLab\n",
    "- Kernel @usdf **w_2024_16**\n",
    "- Office emac : mamba_py311\n",
    "- Home emac : base (conda)\n",
    "- laptop : conda_py310\n",
    "\n",
    "** Run LoopTwinSource before this notebook**\n",
    "Must do quick run\n",
    "\n",
    "\n",
    "In addition this notebook does simulation. It needs:\n",
    "- getObsAtmo\n",
    "- rubinsimphot\n",
    "  "
   ]
  },
  {
   "cell_type": "code",
   "execution_count": null,
   "id": "dcc53afe-c58f-4948-92c9-0090d373ad2a",
   "metadata": {},
   "outputs": [],
   "source": [
    "import warnings\n",
    "warnings.resetwarnings()\n",
    "warnings.simplefilter('ignore')"
   ]
  },
  {
   "cell_type": "code",
   "execution_count": null,
   "id": "8026d265-2493-4045-afec-26205ff71f7c",
   "metadata": {
    "tags": []
   },
   "outputs": [],
   "source": [
    "from platform import python_version\n",
    "print(python_version())"
   ]
  },
  {
   "cell_type": "code",
   "execution_count": null,
   "id": "bf752b70-e6ca-4cbf-8e8c-20bf7f0d8f61",
   "metadata": {},
   "outputs": [],
   "source": [
    "import numpy as np\n",
    "import matplotlib as mpl\n",
    "import matplotlib.pyplot as plt\n",
    "%matplotlib inline\n",
    "from mpl_toolkits.axes_grid1 import make_axes_locatable\n",
    "from matplotlib.colors import LogNorm,SymLogNorm\n",
    "from matplotlib.patches import Circle,Annulus\n",
    "from astropy.visualization import ZScaleInterval\n",
    "props = dict(boxstyle='round', facecolor=\"white\", alpha=0.1)\n",
    "#props = dict(boxstyle='round')\n",
    "\n",
    "import matplotlib.colors as colors\n",
    "import matplotlib.cm as cmx\n",
    "\n",
    "import matplotlib.ticker                         # here's where the formatter is\n",
    "from matplotlib.ticker import (MultipleLocator, FormatStrFormatter,\n",
    "                               AutoMinorLocator)\n",
    "\n",
    "from matplotlib.gridspec import GridSpec\n",
    "\n",
    "from astropy.visualization import (MinMaxInterval, SqrtStretch,ZScaleInterval,PercentileInterval,\n",
    "                                   ImageNormalize,imshow_norm)\n",
    "from astropy.visualization.stretch import SinhStretch, LinearStretch,AsinhStretch,LogStretch\n",
    "\n",
    "from astropy.io import fits\n",
    "from astropy.wcs import WCS\n",
    "from astropy import units as u\n",
    "from astropy import constants as c\n",
    "\n",
    "from scipy import interpolate\n",
    "from sklearn.neighbors import NearestNeighbors\n",
    "from sklearn.neighbors import KDTree, BallTree\n",
    "\n",
    "import pandas as pd\n",
    "pd.set_option(\"display.max_columns\", None)\n",
    "pd.set_option('display.max_rows', 100)\n",
    "\n",
    "import matplotlib.ticker                         # here's where the formatter is\n",
    "import os\n",
    "import re\n",
    "import pandas as pd\n",
    "import pickle\n",
    "from collections import OrderedDict\n",
    "\n",
    "plt.rcParams[\"figure.figsize\"] = (4,3)\n",
    "plt.rcParams[\"axes.labelsize\"] = 'x-large'\n",
    "plt.rcParams['axes.titlesize'] = 'x-large'\n",
    "plt.rcParams['xtick.labelsize']= 'x-large'\n",
    "plt.rcParams['ytick.labelsize']= 'x-large'\n",
    "\n",
    "import scipy\n",
    "from scipy.optimize import curve_fit\n",
    "\n",
    "# new color correction model\n",
    "import pickle\n",
    "from scipy.interpolate import RegularGridInterpolator"
   ]
  },
  {
   "cell_type": "code",
   "execution_count": null,
   "id": "0ca0d1e6-5f82-4c43-aaa3-8524fc2bc5ba",
   "metadata": {},
   "outputs": [],
   "source": [
    "from matplotlib.ticker import (MultipleLocator, FormatStrFormatter,\n",
    "                               AutoMinorLocator)\n",
    "\n",
    "from astropy.visualization import (MinMaxInterval, SqrtStretch,ZScaleInterval,PercentileInterval,\n",
    "                                   ImageNormalize,imshow_norm)\n",
    "from astropy.visualization.stretch import SinhStretch, LinearStretch,AsinhStretch,LogStretch\n",
    "\n",
    "from astropy.time import Time\n"
   ]
  },
  {
   "cell_type": "code",
   "execution_count": null,
   "id": "e189816c-5048-43ab-a01a-7c078af54489",
   "metadata": {},
   "outputs": [],
   "source": [
    "import ipywidgets as widgets\n",
    "%matplotlib widget"
   ]
  },
  {
   "cell_type": "markdown",
   "id": "c3a8c167-bb89-483e-9e6e-62971be9c3ff",
   "metadata": {},
   "source": [
    "### Import getObsAtmo\n",
    "\n",
    "- to simulate atmosphere"
   ]
  },
  {
   "cell_type": "code",
   "execution_count": null,
   "id": "67327fd4-e405-45ce-8923-cd46ebaa0c0f",
   "metadata": {
    "tags": []
   },
   "outputs": [],
   "source": [
    "from importlib.metadata import version\n",
    "the_ver = version('getObsAtmo')\n",
    "print(f\"Version of getObsAtmo : {the_ver}\")"
   ]
  },
  {
   "cell_type": "code",
   "execution_count": null,
   "id": "21be0e66-ae08-4afd-9f18-078de9f5d7e8",
   "metadata": {
    "tags": []
   },
   "outputs": [],
   "source": [
    "from getObsAtmo import ObsAtmo\n",
    "emul = ObsAtmo(\"AUXTEL\")"
   ]
  },
  {
   "cell_type": "code",
   "execution_count": null,
   "id": "90568d44-a43d-4642-9375-3acdb6a48b0d",
   "metadata": {
    "tags": []
   },
   "outputs": [],
   "source": [
    "WL = emul.GetWL()"
   ]
  },
  {
   "cell_type": "markdown",
   "id": "ea3ab5c7-8c0e-46c1-9a2b-a194ce7bb942",
   "metadata": {},
   "source": [
    "### import Library that encapsulate calculations for Photometric correction\n",
    "\n",
    "from my package RubinLSSTPhotometricCorrTuto"
   ]
  },
  {
   "cell_type": "code",
   "execution_count": null,
   "id": "e1c6c659-4cc8-4a7d-b1e3-eed6c8d6b231",
   "metadata": {
    "tags": []
   },
   "outputs": [],
   "source": [
    "import sys\n",
    "sys.path.append('../lib')\n",
    "#import libAtmosphericFit"
   ]
  },
  {
   "cell_type": "code",
   "execution_count": null,
   "id": "527cad2d-a181-49c3-a595-07976c789035",
   "metadata": {
    "tags": []
   },
   "outputs": [],
   "source": [
    "# This package encapsulate the calculation on calibration used in this nb\n",
    "from libPhotometricCorrections_auxtel import *\n",
    "photom_wl = np.array([FILTERWL[1,2],FILTERWL[2,2],FILTERWL[3,2],FILTERWL[4,2],FILTERWL[5,2]])"
   ]
  },
  {
   "cell_type": "code",
   "execution_count": null,
   "id": "7e78c674-48b3-4d62-ba91-54af809ad9d6",
   "metadata": {
    "tags": []
   },
   "outputs": [],
   "source": [
    "def set_photometric_parameters(exptime, nexp, readnoise=None):\n",
    "    # readnoise = None will use the default (8.8 e/pixel). Readnoise should be in electrons/pixel.\n",
    "    photParams = PhotometricParameters(exptime=exptime, nexp=nexp, readnoise=readnoise)\n",
    "    return photParams"
   ]
  },
  {
   "cell_type": "code",
   "execution_count": null,
   "id": "ffdb4cbd-77bf-43d1-be74-7fc510326fd9",
   "metadata": {
    "tags": []
   },
   "outputs": [],
   "source": [
    "def scale_sed(ref_mag, ref_filter, sed):\n",
    "    fluxNorm = sed.calc_flux_norm(ref_mag, lsst_std[ref_filter])\n",
    "    sed.multiply_flux_norm(fluxNorm)\n",
    "    return sed\n"
   ]
  },
  {
   "cell_type": "code",
   "execution_count": null,
   "id": "aea8ad9b-6e9a-497a-a24b-8b8453fe87d2",
   "metadata": {},
   "outputs": [],
   "source": [
    "def ComputeColors(the_pc,the_sed1,the_sed2):\n",
    "    \n",
    "    all_df_magcol = []\n",
    "    for index,pwv in enumerate(all_pwv):\n",
    "        atm_bands = the_pc.coll_bandpass_total_nonstd[index]\n",
    "        mags_pwv1 = {}\n",
    "        mags_pwv2 = {}\n",
    "        madus_pwv1 = {}\n",
    "        madus_pwv2 = {}\n",
    "        for f in filter_tagnames: \n",
    "            mags_pwv1[f] = the_sed1.calc_mag(atm_bands[f])\n",
    "            mags_pwv2[f] = the_sed2.calc_mag(atm_bands[f])\n",
    "            madus_pwv1[f] = -2.5*np.log10(the_sed1.calc_adu(atm_bands[f],photoparams))\n",
    "            madus_pwv2[f] = -2.5*np.log10(the_sed2.calc_adu(atm_bands[f],photoparams))\n",
    "        # AB colors for star 1\n",
    "        mags_pwv1[\"g-r\"] = mags_pwv1[\"g\"]- mags_pwv1[\"r\"]  \n",
    "        mags_pwv1[\"z-y\"] = mags_pwv1[\"z\"]- mags_pwv1[\"y\"] \n",
    "        # AB colors for star 2\n",
    "        mags_pwv2[\"g-r\"] = mags_pwv2[\"g\"]- mags_pwv2[\"r\"]  \n",
    "        mags_pwv2[\"z-y\"] = mags_pwv2[\"z\"]- mags_pwv2[\"y\"] \n",
    "        # ADU mag colors for star 1\n",
    "        # MADU colors for star 1\n",
    "        madus_pwv1[\"g-r\"] = madus_pwv1[\"g\"]- madus_pwv1[\"r\"]  \n",
    "        madus_pwv1[\"z-y\"] = madus_pwv1[\"z\"]- madus_pwv1[\"y\"] \n",
    "        # MADU colors for star 2\n",
    "        madus_pwv2[\"g-r\"] = madus_pwv2[\"g\"]- madus_pwv2[\"r\"]  \n",
    "        madus_pwv2[\"z-y\"] = madus_pwv2[\"z\"]- madus_pwv2[\"y\"] \n",
    "        \n",
    "        df1 = pd.DataFrame(mags_pwv1, index=[\"abmag_1\"]).T\n",
    "        df2 = pd.DataFrame(mags_pwv2, index=[\"abmag_2\"]).T\n",
    "        df3 = pd.DataFrame(madus_pwv1, index=[\"instmag_1\"]).T\n",
    "        df4 = pd.DataFrame(madus_pwv2, index=[\"instmag_2\"]).T\n",
    "        df = pd.concat([df1,df2,df3,df4],axis=1)\n",
    "        all_df_magcol.append(df)\n",
    "        \n",
    "    return all_df_magcol"
   ]
  },
  {
   "cell_type": "code",
   "execution_count": null,
   "id": "b3f44884-e800-4221-b4e4-2437f1f17885",
   "metadata": {},
   "outputs": [],
   "source": [
    "def ComputeRelativeDiffColor(the_all_df_magcol):\n",
    "\n",
    "    df_diffcol = pd.DataFrame(columns=[\"pwv\",\"Czy1_Czy2_abmag\",\"Czy1_Czy2_instmag\"])\n",
    "    for index,pwv in enumerate(all_pwv):\n",
    "        the_df = the_all_df_magcol[index]\n",
    "        DCzyabmag = the_df.loc[\"z-y\",\"abmag_1\"] - the_df.loc[\"z-y\",\"abmag_2\"]\n",
    "        DCzyadumag = the_df.loc[\"z-y\",\"instmag_1\"] - the_df.loc[\"z-y\",\"instmag_2\"]\n",
    "        df_diffcol.loc[index] = [pwv,DCzyabmag,DCzyadumag]\n",
    "\n",
    "    # Relative difference color is in mmag for plotting\n",
    "    df_diffcol[\"Czy1_Czy2_abmag_rel\"] =  (df_diffcol[\"Czy1_Czy2_abmag\"] - df_diffcol.loc[0,\"Czy1_Czy2_abmag\"])*1000\n",
    "    df_diffcol[\"Czy1_Czy2_instmag_rel\"] =  (df_diffcol[\"Czy1_Czy2_instmag\"] - df_diffcol.loc[0,\"Czy1_Czy2_instmag\"])*1000\n",
    "\n",
    "    # differentiation  mmag per mm\n",
    "    dx = np.diff(df_diffcol.pwv.values).mean()\n",
    "    dy1 = np.diff(df_diffcol[\"Czy1_Czy2_abmag_rel\"].values)\n",
    "    dy2 = np.diff(df_diffcol[\"Czy1_Czy2_instmag_rel\"].values)\n",
    "    z_y0 = df_diffcol.loc[0,\"Czy1_Czy2_abmag\"]\n",
    "    return df_diffcol"
   ]
  },
  {
   "cell_type": "code",
   "execution_count": null,
   "id": "b9cabcaf-812c-455e-8fec-97b3266436df",
   "metadata": {
    "tags": []
   },
   "outputs": [],
   "source": [
    "def getSEDfromPickle(fn_sed,spectype,the_pc,refcalimag=20.0,reffilt=\"z\"):\n",
    "    \"\"\"\n",
    "    parameters:\n",
    "      fn_sed : filename of pickle sed\n",
    "      spectype : spectro type of the spectrum\n",
    "      the_pc : PhotometricCorrections object\n",
    "      refcalimag : magnitude to normalise the SED\n",
    "      reffilt : filter to which apply the refcalimag\n",
    "    \"\"\"\n",
    "    \n",
    "    fullfilename = os.path.join(seddir_uvk,fn_sed) \n",
    "    hdul = fits.open(fullfilename)\n",
    "    dff = pd.DataFrame(hdul[1].data)\n",
    "    \n",
    "    wl= dff.WAVELENGTH.values\n",
    "    flux = dff.FLUX.values\n",
    "    #wavelen (nm)\n",
    "    \n",
    "    #flambda (ergs/cm^2/s/nm)\n",
    "    the_sed = Sed(wavelen=wl/10., flambda=flux*10., name=spectype)\n",
    "    flux_norm = the_sed.calc_flux_norm(refcalimag, the_pc.bandpass_total_std[reffilt])\n",
    "    the_sed.multiply_flux_norm(flux_norm)\n",
    "    return the_sed\n",
    "    "
   ]
  },
  {
   "cell_type": "markdown",
   "id": "7f23e942-4a5c-45a1-a2bc-2972dc19fd07",
   "metadata": {},
   "source": [
    "### import library rubin_sim defining LSST parameters, namely for photometric calculations including access to Pickles templates"
   ]
  },
  {
   "cell_type": "code",
   "execution_count": null,
   "id": "48f85601-6c7c-40d9-8d04-a17d5526a398",
   "metadata": {
    "tags": []
   },
   "outputs": [],
   "source": [
    "from rubinsimphot.phot_utils import Bandpass, Sed\n",
    "from rubinsimphot.data import get_data_dir"
   ]
  },
  {
   "cell_type": "markdown",
   "id": "ec0fc659-fd96-4ff9-a06d-85bb927355e7",
   "metadata": {},
   "source": [
    "### Config for the color correction emulator"
   ]
  },
  {
   "cell_type": "code",
   "execution_count": null,
   "id": "6fd14235-48fb-436e-9cc7-febd56f4e240",
   "metadata": {},
   "outputs": [],
   "source": [
    "OBS_tag = \"AUXTEL\"\n",
    "file0_colordiffmodel = f\"ModelSEDColorCorrections/Z_Y/{OBS_tag}_atmosphericzycolorgrid_params.pickle\"\n",
    "file1_colordiffmodel = f\"ModelSEDColorCorrections/Z_Y/{OBS_tag}_atmosphericzycolorgrid_datagrid.npy\""
   ]
  },
  {
   "cell_type": "code",
   "execution_count": null,
   "id": "11c5192b-7584-4665-b935-21b91a5ee823",
   "metadata": {},
   "outputs": [],
   "source": [
    "with (open(file0_colordiffmodel, \"rb\")) as openfile:\n",
    "    while True:\n",
    "        try:\n",
    "            info_params_colordiffmodel = pickle.load(openfile)\n",
    "        except EOFError:\n",
    "            break"
   ]
  },
  {
   "cell_type": "code",
   "execution_count": null,
   "id": "de0f5d84-0f84-4e45-a5e1-f6a1036c0baa",
   "metadata": {},
   "outputs": [],
   "source": [
    "info_params_colordiffmodel"
   ]
  },
  {
   "cell_type": "code",
   "execution_count": null,
   "id": "fd4537e5-2e74-4a8a-a966-a5775d187b34",
   "metadata": {},
   "outputs": [],
   "source": [
    "all_pwv_colordiffmodel = info_params_colordiffmodel['PWV']\n",
    "all_zycolordiff_colordiffmodel = info_params_colordiffmodel['ZYCOLDIFF']"
   ]
  },
  {
   "cell_type": "code",
   "execution_count": null,
   "id": "d040ebef-dd84-443d-9598-51a8f4e437ed",
   "metadata": {},
   "outputs": [],
   "source": [
    "datagrid_colordiffmodel = np.load(file1_colordiffmodel,mmap_mode=None, allow_pickle=False)\n",
    "print(f\"...... datagrid file for colordiffmodel{file1_colordiffmodel} read\")"
   ]
  },
  {
   "cell_type": "markdown",
   "id": "09a4677c-bed8-42fa-8fe6-a9565c903c61",
   "metadata": {},
   "source": [
    "## Start Here"
   ]
  },
  {
   "cell_type": "code",
   "execution_count": null,
   "id": "e92c4042-3f0d-4832-87f4-fea30b2b6610",
   "metadata": {
    "tags": []
   },
   "outputs": [],
   "source": [
    "# reference flux in Jy\n",
    "F0 = ((0.*u.ABmag).to(u.Jy)).value\n",
    "F0"
   ]
  },
  {
   "cell_type": "markdown",
   "id": "e725e774-917e-4797-96a1-17e1823e58e1",
   "metadata": {},
   "source": [
    "#### basic test for libPhotometricCorrections_auxtel"
   ]
  },
  {
   "cell_type": "code",
   "execution_count": null,
   "id": "ffe33260-871d-4459-9372-96d0ada8fe24",
   "metadata": {
    "tags": []
   },
   "outputs": [],
   "source": [
    "am0 = 1.20    # airmass\n",
    "pwv0 = 3.0  # Precipitable water vapor vertical column depth in mm\n",
    "oz0 = 300.  # Ozone vertical column depth in Dobson Unit (DU)\n",
    "ncomp = 1     # Number of aerosol components\n",
    "tau0 = 0.04 # Vertical Aerosol depth (VAOD) \n",
    "beta0 = 1.2 # Aerosol Angstrom exponent"
   ]
  },
  {
   "cell_type": "code",
   "execution_count": null,
   "id": "abd874d3-8061-4743-9f09-f2293e4515a3",
   "metadata": {
    "tags": []
   },
   "outputs": [],
   "source": [
    "#same reference \n",
    "\n",
    "pc = PhotometricCorrections(am0,pwv0,oz0,tau0,beta0)\n",
    "pc1 = PhotometricCorrections(am0,pwv0,oz0,tau0,beta0)\n",
    "pc2 = PhotometricCorrections(am0,pwv0,oz0,tau0,beta0)"
   ]
  },
  {
   "cell_type": "code",
   "execution_count": null,
   "id": "26a7b190-0f90-4658-8ab5-c2dc86199749",
   "metadata": {
    "tags": []
   },
   "outputs": [],
   "source": [
    "am = 1.0\n",
    "oz = 300\n",
    "tau= 0.04\n",
    "beta = 1.2\n",
    "all_pwv = np.arange(0,15.,0.5)\n",
    "NPWV = len(all_pwv)"
   ]
  },
  {
   "cell_type": "code",
   "execution_count": null,
   "id": "8cbee9b7-9ec1-4eff-993c-8758522cb7bd",
   "metadata": {},
   "outputs": [],
   "source": [
    "pc.CalculateMultiObs(am,all_pwv,oz,tau,beta)\n",
    "pc1.CalculateMultiObs(1.2,all_pwv,oz,tau,beta)\n",
    "pc2.CalculateMultiObs(2.,all_pwv,oz,tau,beta)"
   ]
  },
  {
   "cell_type": "code",
   "execution_count": null,
   "id": "05d6e3aa-92f5-41e2-94ec-c21041d4b346",
   "metadata": {
    "tags": []
   },
   "outputs": [],
   "source": [
    "NOBS = len(all_pwv)\n",
    "\n",
    "# wavelength bin colors\n",
    "jet = plt.get_cmap('jet')\n",
    "cNorm = colors.Normalize(vmin=0, vmax=NOBS)\n",
    "scalarMap = cmx.ScalarMappable(norm=cNorm, cmap=jet)\n",
    "all_colors = scalarMap.to_rgba(np.arange(NOBS), alpha=1)\n",
    "\n",
    "\n",
    "fig,axs = plt.subplots(1,1,figsize=(6,4))\n",
    "\n",
    "# Figure 1\n",
    "#axs=fig.add_subplot(1,1,1)\n",
    "for index,pwv in enumerate(all_pwv):\n",
    "  \n",
    "    atm_bands = pc.coll_bandpass_total_nonstd[index]\n",
    "\n",
    "    label = f\"pwv={pwv:.1f}\" \n",
    "\n",
    "    for f in filter_tagnames: \n",
    "        axs.plot(atm_bands[f].wavelen,atm_bands[f].sb,color=all_colors[index],label=label,lw=0.5)\n",
    " \n",
    "   \n",
    "axs.plot(pc.WL,pc.atm_std,color=\"k\",lw=2,label=\"standard atmosphere\")\n",
    "#axs.legend(bbox_to_anchor=(1.03, 1.0))  \n",
    "axs.set_xlabel(\"$\\lambda$ (nm)\")\n",
    "axs.set_title(\"standard and observed transmission for airmass 1\")\n",
    "\n",
    "ax2 = axs.twinx()\n",
    "for ifilt,f in enumerate(filter_tagnames):\n",
    "    ax2.fill_between(pc.bandpass_total_std[f].wavelen,pc.bandpass_total_std[f].sb,color=filter_color[ifilt],alpha=0.1) \n",
    "    ax2.set_yticks([])\n",
    "\n",
    "\n",
    "plt.tight_layout()\n",
    "plt.show()\n"
   ]
  },
  {
   "cell_type": "markdown",
   "id": "60fcd4a8-7340-4016-8e57-2357402eb283",
   "metadata": {},
   "source": [
    "#### Check SED Pickles"
   ]
  },
  {
   "cell_type": "code",
   "execution_count": null,
   "id": "aba1669b-da53-4d8a-a9c6-bf470354143c",
   "metadata": {
    "tags": []
   },
   "outputs": [],
   "source": [
    "# Find the throughputs directory \n",
    "#fdir = os.getenv('RUBIN_SIM_DATA_DIR')\n",
    "fdir = get_data_dir()\n",
    "if fdir is None:  #environment variable not set\n",
    "    fdir = os.path.join(os.getenv('HOME'), 'rubin_sim_data')"
   ]
  },
  {
   "cell_type": "code",
   "execution_count": null,
   "id": "0a66ab18-d8a0-4649-b0a2-da331508a38b",
   "metadata": {
    "tags": []
   },
   "outputs": [],
   "source": [
    "seddir = os.path.join(fdir, 'pysynphot', 'pickles')\n",
    "seddir_uvk = os.path.join(seddir,\"dat_uvk\")\n",
    "all_pickles_uvk = sorted(os.listdir(seddir_uvk))\n",
    "file_ref = os.path.join(seddir_uvk, \"pickles_uk.fits\")\n",
    "hdul = fits.open(file_ref)\n",
    "df_pickle = pd.DataFrame(hdul[1].data)\n",
    "print(df_pickle.head())\n",
    "NSED = len(df_pickle)"
   ]
  },
  {
   "cell_type": "code",
   "execution_count": null,
   "id": "af8332dd-24f9-4b19-88f9-c62d0a4aebf1",
   "metadata": {
    "tags": []
   },
   "outputs": [],
   "source": [
    "# wavelength bin colors\n",
    "jet = plt.get_cmap('jet')\n",
    "cNorm = mpl.colors.Normalize(vmin=0, vmax=NSED)\n",
    "scalarMap = cmx.ScalarMappable(norm=cNorm, cmap=jet)\n",
    "all_colors = scalarMap.to_rgba(np.arange(NSED), alpha=1)\n",
    "\n",
    "fig, ax = plt.subplots(figsize=(18, 0.2), layout='constrained')\n",
    "cmap = mpl.cm.jet\n",
    "norm = mpl.colors.Normalize(vmin=0, vmax=NSED)\n",
    "cbar = fig.colorbar(mpl.cm.ScalarMappable(norm=norm, cmap=cmap),cax=ax, orientation='horizontal', label='spectral type')\n",
    "\n",
    "# change the number of labels\n",
    "labels = [item.get_text() for item in cbar.ax.get_xticklabels()]\n",
    "cbar.ax.locator_params(axis='x', nbins=4*len(labels)) \n",
    "labels = [item.get_text() for item in cbar.ax.get_xticklabels()]\n",
    "\n",
    "# rename the labels\n",
    "Nlabels = len(labels)\n",
    "for ilab in range(0,Nlabels-1):\n",
    "    the_label = int(labels[ilab])\n",
    "    labels[ilab] = df_pickle.loc[the_label,\"SPTYPE\"]\n",
    "cbar.ax.set_xticklabels(labels,rotation=45);\n",
    "plt.show()\n",
    "\n",
    "\n",
    "fig,ax = plt.subplots(1,1,figsize=(8,6))\n",
    "for index in np.arange(NSED):\n",
    "    filename = df_pickle.loc[index,\"FILENAME\"].strip()+\".fits\"\n",
    "    fullfilename = os.path.join(seddir_uvk,filename) \n",
    "    hdul = fits.open(fullfilename)\n",
    "    dff = pd.DataFrame(hdul[1].data)\n",
    "    if index < 100 or index > 104: \n",
    "        ax.plot(dff.WAVELENGTH,dff.FLUX,color=all_colors[index])\n",
    "ax.set_yscale('log')\n",
    "ax.set_xlim(3000.,11000)\n",
    "ax.set_ylim(1e-11,1e-6)\n",
    "ax.grid()\n",
    "ax.set_title(\"Pickles $F_\\lambda$\")\n",
    "ax.set_ylabel(\"$F_\\lambda$\")\n",
    "ax.set_xlabel(\"$\\lambda \\, (\\AA$)\")\n",
    "#plt.colorbar(ax.collections[0],ax=ax,orientation = 'horizontal',shrink=0.8)\n",
    "#ax.collections[-1].colorbar\n",
    "\n",
    "cbar =fig.colorbar(mpl.cm.ScalarMappable(norm=norm, cmap=cmap),ax=ax, orientation='vertical', label='spectral type')\n",
    "\n",
    "#cbar = plt.colorbar(ax.collections[0],ax=ax)\n",
    "#cbar.ax.set_ylabel('spectral type', rotation=90)\n",
    "\n",
    "labels = [item.get_text() for item in cbar.ax.get_yticklabels()]\n",
    "cbar.ax.locator_params(axis='y', nbins=2*len(labels)) \n",
    "labels = [item.get_text() for item in cbar.ax.get_yticklabels()]\n",
    "\n",
    "Nlabels = len(labels)\n",
    "for ilab in range(0,Nlabels-1):\n",
    "    the_label = int(labels[ilab])\n",
    "    labels[ilab] = df_pickle.loc[the_label,\"SPTYPE\"]\n",
    "cbar.ax.set_yticklabels(labels,rotation=0);\n",
    "plt.tight_layout()\n"
   ]
  },
  {
   "cell_type": "code",
   "execution_count": null,
   "id": "6374f0b7-bfcd-42bd-975b-164e11b40998",
   "metadata": {},
   "outputs": [],
   "source": [
    "fig, ax = plt.subplots(figsize=(18, 0.6), layout='constrained')\n",
    "cmap = mpl.cm.jet\n",
    "norm = mpl.colors.Normalize(vmin=0, vmax=NSED)\n",
    "cbar = fig.colorbar(mpl.cm.ScalarMappable(norm=norm, cmap=cmap),cax=ax, orientation='horizontal', label='spectral type')\n",
    "\n",
    "# change the number of labels\n",
    "labels = [item.get_text() for item in cbar.ax.get_xticklabels()]\n",
    "cbar.ax.locator_params(axis='x', nbins=4*len(labels)) \n",
    "labels = [item.get_text() for item in cbar.ax.get_xticklabels()]\n",
    "\n",
    "# rename the labels\n",
    "Nlabels = len(labels)\n",
    "for ilab in range(0,Nlabels-1):\n",
    "    the_label = int(labels[ilab])\n",
    "    labels[ilab] = df_pickle.loc[the_label,\"SPTYPE\"]\n",
    "cbar.ax.set_xticklabels(labels,rotation=45);\n",
    "plt.show()"
   ]
  },
  {
   "cell_type": "code",
   "execution_count": null,
   "id": "aba2cfa4-809a-4f1c-8e8f-9f81547e0b5e",
   "metadata": {},
   "outputs": [],
   "source": [
    "transform = AsinhStretch() + PercentileInterval(99.)"
   ]
  },
  {
   "cell_type": "code",
   "execution_count": null,
   "id": "b26e1f0b-83be-4348-b87c-88294ec7c8d6",
   "metadata": {},
   "outputs": [],
   "source": [
    "# INSERT YOUR collection and tract\n",
    "# for rehearsal use collection 2 which have CCDvisit\n",
    "butlerRoot = \"/repo/embargo\"\n",
    "\n",
    "collection1 = 'LSSTComCamSim/runs/nightlyvalidation/20240402/d_2024_03_29/DM-43612'\n",
    "collection2 = 'LSSTComCamSim/runs/nightlyvalidation/20240403/d_2024_03_29/DM-43612'\n",
    "collection3 = 'LSSTComCamSim/runs/nightlyvalidation/20240404/d_2024_03_29/DM-43612'\n",
    "collection = 'LATISS/runs/AUXTEL_DRP_IMAGING_20230509_20240414/w_2024_15/PREOPS-5069' # COMPLETED\n",
    "collection = 'LATISS/runs/AUXTEL_DRP_IMAGING_20230509_20240513/w_2024_20/PREOPS-5146' # test this one today 2024/06/22\n",
    "\n",
    "collectionn = collection\n",
    "#collections = [collection1,collection2,collection3]\n",
    "collections = [collection]\n",
    "collectionStr = collectionn.replace(\"/\", \"_\")\n",
    "fn_ccdVisit_tracts_patches = f\"ccdVisittractpatch_{collectionStr}.csv\"\n",
    "instrument = 'LATISS'\n",
    "skymapName = \"latiss_v1\"\n",
    "where_clause = \"instrument = \\'\" + instrument+ \"\\'\"\n",
    "tract = 3864 # mostly for light-curves\n",
    "patch_sel = 236\n",
    "#tract = 5615\n",
    "# tract = 5634 # interesting to view calib parameters\n",
    "suptitle = collectionStr + f\" inst = {instrument} tract = {tract}\""
   ]
  },
  {
   "cell_type": "code",
   "execution_count": null,
   "id": "88d24c56-bfe6-4fd6-8910-73156d6fe214",
   "metadata": {},
   "outputs": [],
   "source": [
    "# Max angular distance betwwen stars of the pair\n",
    "sep_max = 300.\n",
    "sep_time = 7200.\n",
    "version_results = \"v2\""
   ]
  },
  {
   "cell_type": "markdown",
   "id": "87219b6c-096e-4fff-be39-258302176bb8",
   "metadata": {},
   "source": [
    "## Definition of functions used"
   ]
  },
  {
   "cell_type": "code",
   "execution_count": null,
   "id": "81240109-5d2e-4829-82dc-dddc9d4cda05",
   "metadata": {},
   "outputs": [],
   "source": [
    "def convert_fluxtomag(x) :\n",
    "    \"\"\"\n",
    "    The object and source catalogs store only fluxes. There are hundreds of flux-related columns, \n",
    "    and to store them also as magnitudes would be redundant, and a waste of space.\n",
    "    All flux units are nanojanskys. The AB Magnitudes Wikipedia page provides a concise resource \n",
    "    for users unfamiliar with AB magnitudes and jansky fluxes. To convert to AB magnitudes use:\n",
    "    As demonstrated in Section 2.3.2, to add columns of magnitudes after retrieving columns of flux, users can do this:\n",
    "    results_table['r_calibMag'] = -2.50 * numpy.log10(results_table['r_calibFlux']) + 31.4\n",
    "    results_table['r_cModelMag'] = -2.50 * numpy.log10(results_table['r_cModelFlux']) + 31.4\n",
    "    (from DP0 tutorial)\n",
    "    \"\"\"\n",
    "    return -2.50 * np.log10(x) + 31.4"
   ]
  },
  {
   "cell_type": "code",
   "execution_count": null,
   "id": "f356473f-fb4a-47e2-a911-b6dfe60343b7",
   "metadata": {},
   "outputs": [],
   "source": [
    "def closestvisit(df1,df2):\n",
    "    \"\"\"\n",
    "    This function associate pairs of closest observation for photmetry\n",
    "\n",
    "    input : the 2 dataframes (first to one for which one want to find the closest obs in dtaframe 2)\n",
    "    output : the dataframe of similar format as the first one having columns on nightobs , visit time, dt from second dataframe)\n",
    "    \"\"\"\n",
    "    d1 =df1.copy(deep=True)\n",
    "    d2 =df2.copy(deep=True)\n",
    "    all_samples = []\n",
    "    df = pd.DataFrame(index=d1.index,columns=[\"nightObs2\",\"visit2\",\"time2\",\"deltat\"])\n",
    "    for key in d1.index:\n",
    "\n",
    "        nightObs = key[0]\n",
    "        time1 = d1.loc[key][\"time\"]\n",
    "        d2[\"dt\"] = np.abs(d2[\"time\"]-time1)\n",
    "        d2[\"Dt\"] = d2[\"time\"]-time1\n",
    "        cut_sel = (d2[\"dt\"] == d2[\"dt\"].min()) #& (d2[\"nightObs\"] == nightObs)\n",
    "        sample = d2[cut_sel]\n",
    "        #df.iloc[key] = [sample.index[0][0],sample.index[0][1],sample[\"time\"].values[0],sample['dt'].values[0]]\n",
    "        df.loc[key][\"nightObs2\"] = sample.index[0][0]\n",
    "        df.loc[key][\"visit2\"] = sample.index[0][1]\n",
    "        df.loc[key][\"time2\"] = sample[\"time\"].values[0]\n",
    "        df.loc[key][\"deltat\"] = pd.to_timedelta(sample[\"Dt\"].values[0], unit=\"s\").total_seconds()\n",
    "        all_samples.append(sample)\n",
    "\n",
    "    # select observations during the same night\n",
    "    df_back = df.copy(deep=True)\n",
    "    flag_sel = []\n",
    "    for key in df_back.index:\n",
    "        nightObs = key[0]\n",
    "        nightObs2 = df_back.loc[key][\"nightObs2\"]\n",
    "        flag_sel.append(nightObs == nightObs2)\n",
    "    df = df[flag_sel]\n",
    "    return df"
   ]
  },
  {
   "cell_type": "code",
   "execution_count": null,
   "id": "d982f435-311d-4bdf-aa5e-2e2d3fab8644",
   "metadata": {},
   "outputs": [],
   "source": [
    "def getcutoutandimage(visitId,df_selectedvisits):\n",
    "    \"\"\"\n",
    "    visitId : the calexp where are the two stars\n",
    "    df_selectedvisits : the list of all sources and visit of the main targeted star\n",
    "    \"\"\"\n",
    "\n",
    "    row_source = df_selectedvisits[df_selectedvisits.visit == visitId].iloc[0]  \n",
    "    band = row_source['band']\n",
    "\n",
    "    dataId = {'visit': visitId, 'instrument':instrument , 'detector': 0}\n",
    "    calexp = butler.get('calexp', **dataId,collections=collections)   \n",
    "    src_cat = butler.get('sourceTable',**dataId, collections=collections)\n",
    "\n",
    "    #select on star\n",
    "    #src_cat = src_cat[(src_cat[\"extendedness\"]==0) & (src_cat[\"parentSourceId\"] == 0) ]\n",
    "    #src_cat = src_cat[src_cat[\"extendedness\"]==0 ]\n",
    "\n",
    "    x1 = row_source['x_x']\n",
    "    y1 = row_source['y_x']\n",
    "    ra1= row_source['ra_x']\n",
    "    dec1= row_source['dec_x']\n",
    "    psfMag1  = row_source['psfMag_x']  \n",
    "    psfSigma1 = row_source['psfSigma_x']\n",
    "    psfMagDiffMmag1 = row_source['psfMagDiffMmag_x'] \n",
    "    apFlux_50_0_instFlux1 = row_source['apFlux_50_0_instFlux_x']\n",
    "    apFlux_50_0_instFluxErr1 = row_source['apFlux_50_0_instFluxErr_x']\n",
    "\n",
    "\n",
    "    x2 = row_source['x_y']\n",
    "    y2 = row_source['y_y']\n",
    "    ra2= row_source['ra_y']\n",
    "    dec2= row_source['dec_y']\n",
    "    psfMag2  = row_source['psfMag_y']  \n",
    "    psfSigma2 = row_source['psfSigma_y']\n",
    "    psfMagDiffMmag2 = row_source['psfMagDiffMmag_y'] \n",
    "    apFlux_50_0_instFlux2 = row_source['apFlux_50_0_instFlux_y']\n",
    "    apFlux_50_0_instFluxErr2 = row_source['apFlux_50_0_instFluxErr_y']\n",
    "\n",
    "    \n",
    "    # searcch the neighbouring stars\n",
    "    #separation = find_neighbourg(ra_target,dec_target,src_cat)\n",
    "    #src_cat[\"sep\"] = separation\n",
    "\n",
    "\n",
    "    spherePointCenter = lsst.geom.SpherePoint(ra1*lsst.geom.degrees, dec1*lsst.geom.degrees)\n",
    "    spt = lsst.geom.SpherePoint(ra2*lsst.geom.degrees, dec2*lsst.geom.degrees)\n",
    "    ang = spherePointCenter.separation(spt)\n",
    "    ang_arcsec = ang.asArcseconds()\n",
    "    \n",
    "   \n",
    "    x0 = (x1+x2)/2.\n",
    "    y0 = (y1+y2)/2.\n",
    "    ra0 = (ra1+ra2)/2.\n",
    "    dec0 = (dec1+dec2)/2.\n",
    "    \n",
    "\n",
    "    dx1 = x1-x0\n",
    "    dy1 = y1-y0\n",
    "    dx2 = x2-x0\n",
    "    dy2 = y2-y0\n",
    "    \n",
    "    \n",
    "    boxSize = int(max(np.abs(x1-x2),np.abs(y1-y2)))\n",
    "    xmin= x0-boxSize\n",
    "    xmax= x0+boxSize\n",
    "    ymin= y0-boxSize\n",
    "    ymax= y0+boxSize\n",
    "        \n",
    "    \n",
    "    minBbox = geom.Point2I(int(x0) - boxSize ,int(y0) - boxSize)\n",
    "    maxBbox = geom.Point2I(int(x0) + boxSize, int(y0) + boxSize)\n",
    "    \n",
    "    srcBbox = geom.Box2I(minBbox, maxBbox)\n",
    "\n",
    "\n",
    "    row_source['x0'] = x0\n",
    "    row_source['y0'] = y0\n",
    "    row_source['xmin'] = xmin\n",
    "    row_source['ymin'] = ymin\n",
    "    row_source['xmax'] = xmax\n",
    "    row_source['ymax'] = ymax\n",
    "    row_source['ra0'] = ra0\n",
    "    row_source['dec0'] = dec0\n",
    "\n",
    "    row_source['x1'] = x1\n",
    "    row_source['y1'] = y1\n",
    "    row_source['dx1'] = dx1\n",
    "    row_source['dy1'] = dy1\n",
    "    row_source['ra1'] = ra1\n",
    "    row_source['dec1'] = dec1\n",
    "\n",
    "    row_source['x2'] = x2\n",
    "    row_source['y2'] = y2\n",
    "    row_source['dx2'] = dx2\n",
    "    row_source['dy2'] = dy2\n",
    "    row_source['ra2'] = ra2\n",
    "    row_source['dec2'] = dec2\n",
    "    \n",
    "    \n",
    "    # Make the cutout\n",
    "    try:\n",
    "        subimg = afwImage.ExposureF(calexp, srcBbox, afwImage.PARENT, True)\n",
    "        #subimg2 = calexp.getImage().array[int(ySrc) - boxSize: int(ySrc) + boxSize+1, int(xSrc) - boxSize:int(xSrc) + boxSize+1 ]\n",
    "        #subimgRgb = afwRgb.makeRGB(subimg.image.array, None, None, expMin, expMax - expMin, Q)\n",
    "        #all_cutout.append(subimgRgb)\n",
    "        cutout=subimg.image.array\n",
    "        \n",
    "    except Exception as inst:\n",
    "        print(type(inst))    # the exception type\n",
    "        print(inst.args)     # arguments stored in .args\n",
    "        print(inst)     \n",
    "        cutout = None\n",
    "\n",
    "    df_pair = row_source.to_frame()\n",
    "    return row_source,cutout\n",
    "\n"
   ]
  },
  {
   "cell_type": "code",
   "execution_count": null,
   "id": "dc1aae2f-7a14-417e-8c2d-536431287e12",
   "metadata": {},
   "outputs": [],
   "source": [
    "def GetFluxes2StarsTwoBands(band1,band2,dfb1_b2,df_selectedvisits_b1,df_selectedvisits_b2):\n",
    "    \"\"\"\n",
    "    Extract color difference from two bright object sources.\n",
    "    band1 : first band tag \n",
    "    band2 : second band tag\n",
    "    dfb1_b2 : pandas dataframe associating visit in band 1 to visit in band 2\n",
    "    df_selectedvisits_b1: sources for object 1 and 2 in band 1\n",
    "    df_selectedvisits_b2: sources for object 1 and 2 in band 2\n",
    "    May plot some calexp cutout for checking\n",
    "    \"\"\"\n",
    "    df_col_b1b2 = pd.DataFrame(columns = [\"band1\",\"exposure1\",\"time1\",\"psfMag11\",\"psfMag12\",\n",
    "                                          \"psfMagErr11\",\"psfMagErr12\",\n",
    "                                          \"apMag11\",\"apMag12\",\"apMagErr11\",\"apMagErr12\",\n",
    "                                          \"band2\",\"exposure2\",\"time2\",\"psfMag21\",\"psfMag22\",\n",
    "                                          \"psfMagErr21\",\"psfMagErr22\",\n",
    "                                          \"apMag21\",\"apMag22\",\"apMagErr21\",\"apMagErr22\",\n",
    "                                          \"dt\",\"airmassb1\",\"airmassb2\",\n",
    "                                          \"x11\",\"y11\",\"x12\",\"y12\",\"x21\",\"y21\",\"x22\",\"y22\"])\n",
    "    entrycount = 0\n",
    "    for idx,key in enumerate(dfb1_b2.index):\n",
    "        print(idx,key)\n",
    "        visit1 = key[1]\n",
    "        visit2 = dfb1_b2.loc[key][\"visit_\" + band2]\n",
    "        time1 = dfb1_b2.loc[key][\"time\"]\n",
    "        time2 = dfb1_b2.loc[key][\"time_\" + band2]\n",
    "        dt = dfb1_b2.loc[key][\"dtsec_\" + band2]\n",
    "        print(f\"======================= night :: {key[0]} ==> ({band1},{band2}) = ({visit1},{visit2}) =============================\" )\n",
    "        #row_target = df_selectedvisits_b1[df_selectedvisits_b1.visit == visit1].iloc[0]\n",
    "        #print(row_target)\n",
    "        # the selected sources retrieved from the sources associated to that calexp\n",
    "        try:\n",
    "            row_pair_b1,cutoutb1 = getcutoutandimage(visit1,df_selectedvisits_b1) \n",
    "            row_pair_b2,cutoutb2 = getcutoutandimage(visit2,df_selectedvisits_b2) \n",
    "\n",
    "            airmassb1 = row_pair_b1[\"airmass_x\"] \n",
    "            airmassb2 = row_pair_b2[\"airmass_y\"] \n",
    "\n",
    "            # first indec band, second index star\n",
    "            # Star 1 in band 1\n",
    "            psfMag11 =  row_pair_b1[\"psfMag_x\"]\n",
    "            psfMagErr11 =  row_pair_b1[\"psfMagErr_x\"]\n",
    "            apMag11 =  -2.5*np.log10(row_pair_b1[\"apFlux_35_0_instFlux_x\"])\n",
    "            apMagErr11 =  2.5/np.log(10)*(row_pair_b1[\"apFlux_35_0_instFluxErr_x\"]/row_pair_b1[\"apFlux_35_0_instFlux_x\"])\n",
    "            x11 = row_pair_b1[\"x_x\"]\n",
    "            y11 = row_pair_b1[\"y_x\"]\n",
    "            \n",
    "            # Star 2 in band 1\n",
    "            psfMag12 =  row_pair_b1[\"psfMag_y\"]\n",
    "            psfMagErr12 =  row_pair_b1[\"psfMagErr_y\"]\n",
    "            apMag12 =  -2.5*np.log10(row_pair_b1[\"apFlux_35_0_instFlux_y\"])\n",
    "            apMagErr12 =  2.5/np.log(10)*(row_pair_b1[\"apFlux_35_0_instFluxErr_x\"]/row_pair_b1[\"apFlux_35_0_instFlux_y\"])\n",
    "            x12 = row_pair_b1[\"x_y\"]\n",
    "            y12 = row_pair_b1[\"y_y\"]\n",
    "            \n",
    "            # Star 1 in band 2\n",
    "            psfMag21 =  row_pair_b2[\"psfMag_x\"]\n",
    "            psfMagErr21 =  row_pair_b2[\"psfMagErr_x\"]\n",
    "            apMag21 =  -2.5*np.log10(row_pair_b2[\"apFlux_35_0_instFlux_x\"])\n",
    "            apMagErr21 =  2.5/np.log(10)*(row_pair_b2[\"apFlux_35_0_instFluxErr_x\"]/row_pair_b2[\"apFlux_35_0_instFlux_x\"])\n",
    "            x21 = row_pair_b2[\"x_x\"]\n",
    "            y21 = row_pair_b2[\"y_x\"]\n",
    "            \n",
    "            # Star 2 in band 2\n",
    "            psfMag22 =  row_pair_b2[\"psfMag_y\"]\n",
    "            psfMagErr22 =  row_pair_b2[\"psfMagErr_y\"]\n",
    "            apMag22 =  -2.5*np.log10(row_pair_b2[\"apFlux_35_0_instFlux_y\"])\n",
    "            apMagErr22 =  2.5/np.log(10)*(row_pair_b2[\"apFlux_35_0_instFluxErr_x\"]/row_pair_b2[\"apFlux_35_0_instFlux_y\"])\n",
    "            x22 = row_pair_b2[\"x_y\"]\n",
    "            y22 = row_pair_b2[\"y_y\"]\n",
    "\n",
    "\n",
    "            \n",
    "            df_col_b1b2.loc[entrycount] = [band1,visit1,time1,psfMag11,psfMag12,psfMagErr11,psfMagErr12,apMag11,apMag12,apMagErr11,apMagErr12,\n",
    "                                           band2,visit2,time2,psfMag21,psfMag22,psfMagErr21,psfMagErr22,apMag21,apMag22,apMagErr21,apMagErr22,dt,\n",
    "                                           airmassb1,airmassb2,x11,y11,x12,y12,x21,y21,x22,y22]\n",
    "            entrycount+=1\n",
    "\n",
    "        \n",
    "        except Exception as inst:\n",
    "            #print(type(inst))    # the exception type\n",
    "            #print(inst.args)     # arguments stored in .args\n",
    "            print(inst)\n",
    "            continue\n",
    "      \n",
    "\n",
    "        if idx%10 == 0:\n",
    "            if cutoutb1 is not None and cutoutb2 is not None:\n",
    "                NROWS = 1\n",
    "                NCOLS = 2\n",
    "                fig, (ax1,ax2) = plt.subplots(ncols=NCOLS,nrows=NROWS,figsize=(6*NCOLS,6*NROWS))\n",
    "                plotcutout(row_pair_b1,cutoutb1,ax=ax1)\n",
    "                plotcutout(row_pair_b2,cutoutb2,ax=ax2)\n",
    "                plt.show()\n",
    "\n",
    "    # band 1 : mag_star1-mag_star2 \n",
    "    df_col_b1b2[\"deltapsfmag_s12b1\"] = (df_col_b1b2[\"psfMag11\"] - df_col_b1b2[\"psfMag12\"])\n",
    "    df_col_b1b2[\"deltapsfmagErr_s12b1\"] = np.sqrt(df_col_b1b2[\"psfMagErr11\"]**2 + df_col_b1b2[\"psfMagErr12\"]**2)\n",
    "\n",
    "    df_col_b1b2[\"deltaapmag_s12b1\"] = (df_col_b1b2[\"apMag11\"] - df_col_b1b2[\"apMag12\"])\n",
    "    df_col_b1b2[\"deltaapmagErr_s12b1\"] = np.sqrt(df_col_b1b2[\"apMagErr11\"]**2 + df_col_b1b2[\"apMagErr12\"]**2)\n",
    "    \n",
    "    # band 2 : mag_star1-mag_star2 \n",
    "    df_col_b1b2[\"deltapsfmag_s12b2\"] = (df_col_b1b2[\"psfMag21\"] - df_col_b1b2[\"psfMag22\"])\n",
    "    df_col_b1b2[\"deltapsfmagErr_s12b2\"] = np.sqrt(df_col_b1b2[\"psfMagErr21\"]**2 + df_col_b1b2[\"psfMagErr22\"]**2)\n",
    "    df_col_b1b2[\"deltaapmag_s12b2\"] = (df_col_b1b2[\"apMag21\"] - df_col_b1b2[\"apMag22\"])\n",
    "    df_col_b1b2[\"deltaapmagErr_s12b2\"] = np.sqrt(df_col_b1b2[\"apMagErr21\"]**2 + df_col_b1b2[\"apMagErr22\"]**2)\n",
    "\n",
    "    \n",
    "    # Star 1 : mag_band1-mag_band2 \n",
    "    df_col_b1b2[\"psfcol12_s1\"] = (df_col_b1b2[\"psfMag11\"] - df_col_b1b2[\"psfMag21\"])\n",
    "    df_col_b1b2[\"psfcol12Err_s1\"] = np.sqrt(df_col_b1b2[\"psfMagErr11\"]**2 + df_col_b1b2[\"psfMagErr21\"]**2)\n",
    "    df_col_b1b2[\"apcol12_s1\"] = (df_col_b1b2[\"apMag11\"] - df_col_b1b2[\"apMag21\"])\n",
    "    df_col_b1b2[\"apcol12Err_s1\"] = np.sqrt(df_col_b1b2[\"apMagErr11\"]**2 + df_col_b1b2[\"apMagErr21\"]**2)\n",
    "\n",
    "    \n",
    "    # Star 2 : mag_band1-mag_band2 \n",
    "    df_col_b1b2[\"psfcol12_s2\"] = (df_col_b1b2[\"psfMag12\"] - df_col_b1b2[\"psfMag22\"])\n",
    "    df_col_b1b2[\"psfcol12Err_s2\"] = np.sqrt(df_col_b1b2[\"psfMagErr12\"]**2 + df_col_b1b2[\"psfMagErr22\"]**2)\n",
    "    df_col_b1b2[\"apcol12_s2\"] = (df_col_b1b2[\"apMag12\"] - df_col_b1b2[\"apMag22\"])\n",
    "    df_col_b1b2[\"apcol12Err_s2\"] = np.sqrt(df_col_b1b2[\"apMagErr12\"]**2 + df_col_b1b2[\"apMagErr22\"]**2)\n",
    "\n",
    "    \n",
    "    # relative color star1 - star2\n",
    "    df_col_b1b2[\"psfcol12_s12\"] = np.abs(df_col_b1b2[\"psfcol12_s1\"] - df_col_b1b2[\"psfcol12_s2\"])\n",
    "    df_col_b1b2[\"psfcol12Err_s12\"] = np.sqrt(df_col_b1b2[\"psfcol12Err_s1\"]**2 + df_col_b1b2[\"psfcol12Err_s2\"]**2)\n",
    "    df_col_b1b2[\"apcol12_s12\"] = np.abs(df_col_b1b2[\"apcol12_s1\"] - df_col_b1b2[\"apcol12_s2\"])\n",
    "    df_col_b1b2[\"apcol12Err_s12\"] = np.sqrt(df_col_b1b2[\"apcol12Err_s1\"]**2 + df_col_b1b2[\"apcol12Err_s2\"]**2)\n",
    "\n",
    "     # Maximum magnitude in band b1 and band b2\n",
    "    df_col_b1b2[\"psfmagmax_s12b1\"] = np.fmax(df_col_b1b2[\"psfMag11\"],df_col_b1b2[\"psfMag12\"])\n",
    "    df_col_b1b2[\"psfmagmax_s12b2\"] = np.fmax(df_col_b1b2[\"psfMag21\"],df_col_b1b2[\"psfMag22\"])\n",
    "\n",
    "    df_col_b1b2[\"apmagmax_s12b1\"] = np.fmax(df_col_b1b2[\"apMag11\"],df_col_b1b2[\"apMag12\"])\n",
    "    df_col_b1b2[\"apmagmax_s12b2\"] = np.fmax(df_col_b1b2[\"apMag21\"],df_col_b1b2[\"apMag22\"])\n",
    "    \n",
    "    \n",
    "    return df_col_b1b2\n"
   ]
  },
  {
   "cell_type": "code",
   "execution_count": null,
   "id": "5795d742-7e31-41e5-9b96-068e13434262",
   "metadata": {},
   "outputs": [],
   "source": [
    "def GetFluxes2StarsTwoBandsNoCutout(band1,band2,dfb1_b2,df_selectedvisits_b1,df_selectedvisits_b2):\n",
    "    \"\"\"\n",
    "    Extract color difference from two bright object sources.\n",
    "    band1 : first band tag \n",
    "    band2 : second band tag\n",
    "    dfb1_b2 : pandas dataframe associating visit in band 1 to visit in band 2\n",
    "    df_selectedvisits_b1: sources for object 1 and 2 in band 1\n",
    "    df_selectedvisits_b2: sources for object 1 and 2 in band 2\n",
    "    NO NOT plot some calexp cutout contrary to above function\n",
    "    \"\"\"\n",
    "    df_col_b1b2 = pd.DataFrame(columns = [\"band1\",\"exposure1\",\"time1\",\"psfMag11\",\"psfMag12\",\n",
    "                                          \"psfMagErr11\",\"psfMagErr12\",\n",
    "                                          \"apMag11\",\"apMag12\",\"apMagErr11\",\"apMagErr12\",\n",
    "                                          \"band2\",\"exposure2\",\"time2\",\"psfMag21\",\"psfMag22\",\n",
    "                                          \"psfMagErr21\",\"psfMagErr22\",\n",
    "                                          \"apMag21\",\"apMag22\",\"apMagErr21\",\"apMagErr22\",\n",
    "                                          \"dt\",\"airmassb1\",\"airmassb2\",\n",
    "                                          \"x11\",\"y11\",\"x12\",\"y12\",\"x21\",\"y21\",\"x22\",\"y22\"                                         \n",
    "                                         ])\n",
    "    \n",
    "    entrycount = 0\n",
    "    for idx,key in enumerate(dfb1_b2.index):\n",
    "        print(idx,key)\n",
    "        visit1 = key[1]\n",
    "        visit2 = dfb1_b2.loc[key][\"visit_\" + band2]\n",
    "        time1 = dfb1_b2.loc[key][\"time\"]\n",
    "        time2 = dfb1_b2.loc[key][\"time_\" + band2]\n",
    "        dt = dfb1_b2.loc[key][\"dtsec_\" + band2]\n",
    "        print(f\"======================= night :: {key[0]} ==> ({band1},{band2}) = ({visit1},{visit2}) =============================\" )\n",
    "        #row_target = df_selectedvisits_b1[df_selectedvisits_b1.visit == visit1].iloc[0]\n",
    "        #print(row_target)\n",
    "        # the selected sources retrieved from the sources associated to that calexp\n",
    "        try:\n",
    "            #row_pair_b1,cutoutb1 = getcutoutandimage(visit1,df_selectedvisits_b1) \n",
    "            #row_pair_b2,cutoutb2 = getcutoutandimage(visit2,df_selectedvisits_b2) \n",
    "            row_pair_b1  = df_selectedvisits_b1[df_selectedvisits_b1.visit == visit1].iloc[0]  \n",
    "            row_pair_b2  = df_selectedvisits_b2[df_selectedvisits_b2.visit == visit2].iloc[0]  \n",
    "\n",
    "            airmassb1 = row_pair_b1[\"airmass_x\"] \n",
    "            airmassb2 = row_pair_b2[\"airmass_y\"] \n",
    "            \n",
    "            # first indec band, second index star\n",
    "            # Star 1 in band 1\n",
    "            psfMag11 =  row_pair_b1[\"psfMag_x\"]\n",
    "            psfMagErr11 =  row_pair_b1[\"psfMagErr_x\"]    \n",
    "            apMag11 =  -2.5*np.log10(row_pair_b1[\"apFlux_35_0_instFlux_x\"])\n",
    "            apMagErr11 =  2.5/np.log(10.)*(row_pair_b1[\"apFlux_35_0_instFluxErr_x\"]/row_pair_b1[\"apFlux_35_0_instFlux_x\"])\n",
    "            x11 = row_pair_b1[\"x_x\"]\n",
    "            y11 = row_pair_b1[\"y_x\"]\n",
    "            \n",
    "            # Star 2 in band 1\n",
    "            psfMag12 =  row_pair_b1[\"psfMag_y\"]\n",
    "            psfMagErr12 =  row_pair_b1[\"psfMagErr_y\"]\n",
    "            apMag12 =  -2.5*np.log10(row_pair_b1[\"apFlux_35_0_instFlux_y\"])\n",
    "            apMagErr12 =  2.5/np.log(10.)*(row_pair_b1[\"apFlux_35_0_instFluxErr_x\"]/row_pair_b1[\"apFlux_35_0_instFlux_y\"])\n",
    "            x12 = row_pair_b1[\"x_y\"]\n",
    "            y12 = row_pair_b1[\"y_y\"]\n",
    "            \n",
    "            # Star 1 in band 2\n",
    "            psfMag21 =  row_pair_b2[\"psfMag_x\"]\n",
    "            psfMagErr21 =  row_pair_b2[\"psfMagErr_x\"]\n",
    "            apMag21 =  -2.5*np.log10(row_pair_b2[\"apFlux_35_0_instFlux_x\"])\n",
    "            apMagErr21 =  2.5/np.log(10.)*(row_pair_b2[\"apFlux_35_0_instFluxErr_x\"]/row_pair_b2[\"apFlux_35_0_instFlux_x\"])\n",
    "            x21 = row_pair_b2[\"x_x\"]\n",
    "            y21 = row_pair_b2[\"y_x\"]\n",
    "\n",
    "            \n",
    "            # Star 2 in band 2\n",
    "            psfMag22 =  row_pair_b2[\"psfMag_y\"]\n",
    "            psfMagErr22 =  row_pair_b2[\"psfMagErr_y\"]\n",
    "            apMag22 =  -2.5*np.log10(row_pair_b2[\"apFlux_35_0_instFlux_y\"])\n",
    "            apMagErr22 =  2.5/np.log(10.)*(row_pair_b2[\"apFlux_35_0_instFluxErr_x\"]/row_pair_b2[\"apFlux_35_0_instFlux_y\"])\n",
    "            x22 = row_pair_b2[\"x_y\"]\n",
    "            y22 = row_pair_b2[\"y_y\"]\n",
    "\n",
    "\n",
    "            \n",
    "            df_col_b1b2.loc[entrycount] = [band1,visit1,time1,psfMag11,psfMag12,psfMagErr11,psfMagErr12,apMag11,apMag12,apMagErr11,apMagErr12,\n",
    "                                           band2,visit2,time2,psfMag21,psfMag22,psfMagErr21,psfMagErr22,apMag21,apMag22,apMagErr21,apMagErr22,dt,airmassb1,airmassb2,\n",
    "                                           x11,y11,x12,y12,x21,y21,x22,y22]\n",
    "\n",
    "            entrycount+=1\n",
    "        except Exception as inst:\n",
    "            #print(type(inst))    # the exception type\n",
    "            #print(inst.args)     # arguments stored in .args\n",
    "            print(inst)\n",
    "            continue\n",
    "\n",
    "    # band 1 : mag_star1-mag_star2 \n",
    "    df_col_b1b2[\"deltapsfmag_s12b1\"] = (df_col_b1b2[\"psfMag11\"] - df_col_b1b2[\"psfMag12\"])\n",
    "    df_col_b1b2[\"deltapsfmagErr_s12b1\"] = np.sqrt(df_col_b1b2[\"psfMagErr11\"]**2 + df_col_b1b2[\"psfMagErr12\"]**2)\n",
    "\n",
    "    df_col_b1b2[\"deltaapmag_s12b1\"] = (df_col_b1b2[\"apMag11\"] - df_col_b1b2[\"apMag12\"])\n",
    "    df_col_b1b2[\"deltaapmagErr_s12b1\"] = np.sqrt(df_col_b1b2[\"apMagErr11\"]**2 + df_col_b1b2[\"apMagErr12\"]**2)\n",
    "    \n",
    "    # band 2 : mag_star1-mag_star2 \n",
    "    df_col_b1b2[\"deltapsfmag_s12b2\"] = (df_col_b1b2[\"psfMag21\"] - df_col_b1b2[\"psfMag22\"])\n",
    "    df_col_b1b2[\"deltapsfmagErr_s12b2\"] = np.sqrt(df_col_b1b2[\"psfMagErr21\"]**2 + df_col_b1b2[\"psfMagErr22\"]**2)\n",
    "    df_col_b1b2[\"deltaapmag_s12b2\"] = (df_col_b1b2[\"apMag21\"] - df_col_b1b2[\"apMag22\"])\n",
    "    df_col_b1b2[\"deltaapmagErr_s12b2\"] = np.sqrt(df_col_b1b2[\"apMagErr21\"]**2 + df_col_b1b2[\"apMagErr22\"]**2)\n",
    "\n",
    "    \n",
    "    # Star 1 : mag_band1-mag_band2 \n",
    "    df_col_b1b2[\"psfcol12_s1\"] = (df_col_b1b2[\"psfMag11\"] - df_col_b1b2[\"psfMag21\"])\n",
    "    df_col_b1b2[\"psfcol12Err_s1\"] = np.sqrt(df_col_b1b2[\"psfMagErr11\"]**2 + df_col_b1b2[\"psfMagErr21\"]**2)\n",
    "    df_col_b1b2[\"apcol12_s1\"] = (df_col_b1b2[\"apMag11\"] - df_col_b1b2[\"apMag21\"])\n",
    "    df_col_b1b2[\"apcol12Err_s1\"] = np.sqrt(df_col_b1b2[\"apMagErr11\"]**2 + df_col_b1b2[\"apMagErr21\"]**2)\n",
    "\n",
    "    \n",
    "    # Star 2 : mag_band1-mag_band2 \n",
    "    df_col_b1b2[\"psfcol12_s2\"] = (df_col_b1b2[\"psfMag12\"] - df_col_b1b2[\"psfMag22\"])\n",
    "    df_col_b1b2[\"psfcol12Err_s2\"] = np.sqrt(df_col_b1b2[\"psfMagErr12\"]**2 + df_col_b1b2[\"psfMagErr22\"]**2)\n",
    "    df_col_b1b2[\"apcol12_s2\"] = (df_col_b1b2[\"apMag12\"] - df_col_b1b2[\"apMag22\"])\n",
    "    df_col_b1b2[\"apcol12Err_s2\"] = np.sqrt(df_col_b1b2[\"apMagErr12\"]**2 + df_col_b1b2[\"apMagErr22\"]**2)\n",
    "\n",
    "    \n",
    "    # absolute relative color star1 - star2\n",
    "    df_col_b1b2[\"psfcol12_s12\"] = np.abs(df_col_b1b2[\"psfcol12_s1\"] - df_col_b1b2[\"psfcol12_s2\"])\n",
    "    df_col_b1b2[\"psfcol12Err_s12\"] = np.sqrt(df_col_b1b2[\"psfcol12Err_s1\"]**2 + df_col_b1b2[\"psfcol12Err_s2\"]**2)\n",
    "    df_col_b1b2[\"apcol12_s12\"] = np.abs(df_col_b1b2[\"apcol12_s1\"] - df_col_b1b2[\"apcol12_s2\"])\n",
    "    df_col_b1b2[\"apcol12Err_s12\"] = np.sqrt(df_col_b1b2[\"apcol12Err_s1\"]**2 + df_col_b1b2[\"apcol12Err_s2\"]**2)\n",
    "\n",
    "    # Maximum magnitude in band b1 and band b2\n",
    "    df_col_b1b2[\"psfmagmax_s12b1\"] = np.fmax(df_col_b1b2[\"psfMag11\"],df_col_b1b2[\"psfMag12\"])\n",
    "    df_col_b1b2[\"psfmagmax_s12b2\"] = np.fmax(df_col_b1b2[\"psfMag21\"],df_col_b1b2[\"psfMag22\"])\n",
    "\n",
    "    df_col_b1b2[\"apmagmax_s12b1\"] = np.fmax(df_col_b1b2[\"apMag11\"],df_col_b1b2[\"apMag12\"])\n",
    "    df_col_b1b2[\"apmagmax_s12b2\"] = np.fmax(df_col_b1b2[\"apMag21\"],df_col_b1b2[\"apMag22\"])\n",
    "    \n",
    "\n",
    "\n",
    "    return df_col_b1b2"
   ]
  },
  {
   "cell_type": "code",
   "execution_count": null,
   "id": "fefe114a-1d00-4343-8452-d58697404920",
   "metadata": {},
   "outputs": [],
   "source": [
    "def closesttimespectrophotom(df_photpair,df_spec):\n",
    "    \"\"\"\n",
    "    Search the closest spectroscopic time for a photometric light curve\n",
    "\n",
    "    - calculate with assign\n",
    "    df_spec[[\"Time\"]].assign( ddt = lambda row : np.abs((row[\"Time\"].loc[0].replace(tzinfo=None) - df_photpair[\"time1\"].loc[1]).total_seconds()))\n",
    "    - calculate with apply two quantities : dt_abs, dt_rel    \n",
    "    df_spec[[\"dt_abs\",\"td_rel\"]]=df_spec[[\"Time\"]].apply( lambda row : [ np.abs((row[\"Time\"].replace(tzinfo=None) - df_photpair[\"time1\"].loc[1]).total_seconds()),(row[\"Time\"].replace(tzinfo=None) - df_photpair[\"time1\"].loc[1]).total_seconds()],axis=1,result_type='expand')\n",
    "    \"\"\"\n",
    "    d1 =df_photpair.copy(deep=True)\n",
    "    d2 =df_spec.copy(deep=True)\n",
    "    all_samples = []\n",
    "    df = pd.DataFrame(index=d1.index,columns=[\"time1\",\"time2\",\"deltat\"])\n",
    "    \n",
    "    # loop on light curve datapoints times\n",
    "    all_spectro_associated = []\n",
    "    for key in d1.index:\n",
    "        # take the time of the first source \n",
    "        # remember dt must be small\n",
    "        tphotometric = df_photpair[\"time1\"].loc[key]\n",
    "        df_spec_copy = df_spec.copy(deep=True)\n",
    "        # compute relative and absolute time difference of spectro wrt photmetry\n",
    "        df_spec_copy[[\"dt_abs_specphot\",\"td_rel_specphot\"]]=df_spec_copy[[\"Time\"]].apply( lambda row : [ np.abs((row[\"Time\"].replace(tzinfo=None) - tphotometric).total_seconds()),(row[\"Time\"].replace(tzinfo=None) - tphotometric ).total_seconds()],axis=1,result_type='expand')\n",
    "        # find the minimum on absolute time difference between spectro and photometry\n",
    "        df_spec_sel = df_spec_copy[ df_spec_copy[\"dt_abs_specphot\"] == df_spec_copy[\"dt_abs_specphot\"].min()]\n",
    "        all_spectro_associated.append(df_spec_sel)\n",
    "\n",
    "    # merge all datapoint on single dataframe\n",
    "    df_spec_sel_concat = pd.concat(all_spectro_associated)\n",
    "    df_spec_sel_concat.reset_index(level=0, inplace=True)\n",
    "\n",
    "    # set nan if more than 12*3600 seconds outside\n",
    "    \n",
    "    return df_spec_sel_concat\n"
   ]
  },
  {
   "cell_type": "markdown",
   "id": "35b5b65f-a6ca-4e98-a54c-d72cf3f5ca89",
   "metadata": {},
   "source": [
    "## Selected visits"
   ]
  },
  {
   "cell_type": "markdown",
   "id": "4f13d6a3-7793-4bc0-920a-1d690d9f84b2",
   "metadata": {},
   "source": [
    "### Spectroscopy"
   ]
  },
  {
   "cell_type": "code",
   "execution_count": null,
   "id": "a2a9c11f-05b8-4465-b96a-3f18d81572f0",
   "metadata": {},
   "outputs": [],
   "source": [
    "if version_results == \"\":\n",
    "    atmfilename = \"data/spectro/auxtel_atmosphere_202301_v3.1.0_doSensorFlat_rebin2_testWithMaskedEdges_newBoundaries_newPolysRescaled_newFitBounds_adjustA1_lockedOrder2_removeThroughputTails_2.npy\"\n",
    "elif version_results == \"v2\":\n",
    "    atmfilename = \"data/spectro/auxtel_atmosphere_202301_v3.1.0_doSensorFlat_rebin2_lockedOrder2_FixA1_FixA2_FitAngstrom_FixA1_FixA2_FitAngstrom_WithGaia_freePressure_newThroughput6_BG40Scaled1.09_PeekFinder.npy\""
   ]
  },
  {
   "cell_type": "code",
   "execution_count": null,
   "id": "ad60336b-f26f-4184-bcdf-e596329ecbbd",
   "metadata": {},
   "outputs": [],
   "source": [
    "specdata = np.load(atmfilename,allow_pickle=True)"
   ]
  },
  {
   "cell_type": "code",
   "execution_count": null,
   "id": "3d9c7249-f818-4a98-8000-9be75b3c7a21",
   "metadata": {},
   "outputs": [],
   "source": [
    "df_spec = pd.DataFrame(specdata)\n",
    "df_spec"
   ]
  },
  {
   "cell_type": "code",
   "execution_count": null,
   "id": "ab592ed7-9f6d-4529-8088-7f3f4eb0c656",
   "metadata": {
    "tags": []
   },
   "outputs": [],
   "source": [
    "list(df_spec.columns)"
   ]
  },
  {
   "cell_type": "code",
   "execution_count": null,
   "id": "2325b3ff-29c2-445a-b25e-cc11aba4f45a",
   "metadata": {
    "tags": []
   },
   "outputs": [],
   "source": [
    "fig,ax = plt.subplots(1,1)\n",
    "df_spec[\"CHI2_FIT\"].hist(bins=50,ax=ax,range=(0,200))\n",
    "ax.set_yscale(\"log\")"
   ]
  },
  {
   "cell_type": "code",
   "execution_count": null,
   "id": "0d10c1ad-c5dc-4487-baa9-7c71ec531f45",
   "metadata": {},
   "outputs": [],
   "source": [
    "df_spec[\"Time\"] = pd.to_datetime(df_spec[\"DATE-OBS\"])\n",
    "#df_spec[\"PWV [mm]_x\"]"
   ]
  },
  {
   "cell_type": "code",
   "execution_count": null,
   "id": "3fd02994-4a05-4145-8da9-10ac7f5b920a",
   "metadata": {},
   "outputs": [],
   "source": [
    "from matplotlib.dates import DateFormatter\n",
    "date_form = DateFormatter(\"%y-%m-%dT%H:%M\")\n",
    "fig,axs = plt.subplots(2,1,figsize=(14,8))\n",
    "ax1,ax2  = axs\n",
    "df_spec.plot(x=\"Time\",y=\"PWV [mm]_x\",ax=ax1,marker='+',c=\"r\",lw=0.0,grid=True,label=\"PWV_x\")\n",
    "ax1.set_ylabel(\"PWV [mm]_x\")\n",
    "#df_spec.plot(x=\"Time\",y=\"PWV [mm]_y\",ax=ax2,marker='+',c=\"b\",lw=0.0,grid=True,label=\"PWV_y\")\n",
    "ax1.set_xlabel(\"time\")\n",
    "ax1.xaxis.set_major_formatter(date_form)\n",
    "ax2.set_xlabel(\"time\")\n",
    "ax2.set_ylabel(\"PWV [mm]_y\")\n",
    "ax2.xaxis.set_major_formatter(date_form)\n",
    "ax1.set_title(\"Precipibable water vapor meas by holo vs time\")\n",
    "plt.tight_layout()"
   ]
  },
  {
   "cell_type": "code",
   "execution_count": null,
   "id": "e1cbfa40-4395-47f4-9acf-6a9f531fabd4",
   "metadata": {},
   "outputs": [],
   "source": [
    "cut =  (df_spec[\"CHI2_FIT\"]<20) & (df_spec[\"PWV [mm]_x\"] >0.1) & (df_spec[\"PWV [mm]_x\"] < 9.8) \n",
    "df_spec_sel = df_spec[cut]"
   ]
  },
  {
   "cell_type": "code",
   "execution_count": null,
   "id": "58b3d86e-7a6a-4685-8f5c-af994b7b2164",
   "metadata": {
    "tags": []
   },
   "outputs": [],
   "source": [
    "from matplotlib.dates import DateFormatter\n",
    "date_form = DateFormatter(\"%y-%m-%dT%H:%M\")\n",
    "fig,axs = plt.subplots(2,1,figsize=(14,8))\n",
    "ax1,ax2  = axs\n",
    "df_spec_sel.plot(x=\"Time\",y=\"PWV [mm]_x\",ax=ax1,marker='+',c=\"r\",lw=0.0,grid=True,label=\"PWV_x\")\n",
    "ax1.set_ylabel(\"PWV [mm]_x\")\n",
    "#df_spec_sel.plot(x=\"Time\",y=\"PWV [mm]_y\",ax=ax2,marker='+',c=\"b\",lw=0.0,grid=True,label=\"PWV_y\")\n",
    "ax1.set_xlabel(\"time\")\n",
    "ax1.xaxis.set_major_formatter(date_form)\n",
    "ax2.set_xlabel(\"time\")\n",
    "ax2.set_ylabel(\"PWV [mm]_y\")\n",
    "ax2.xaxis.set_major_formatter(date_form)\n",
    "ax1.set_title(\"Precipibable water vapor meas by holo selected vs time\")\n",
    "plt.tight_layout()"
   ]
  },
  {
   "cell_type": "code",
   "execution_count": null,
   "id": "6e3a3cb8-0ec9-45db-8439-25d6a6a57527",
   "metadata": {},
   "outputs": [],
   "source": []
  }
 ],
 "metadata": {
  "kernelspec": {
   "display_name": "Python 3 (ipykernel)",
   "language": "python",
   "name": "python3"
  },
  "language_info": {
   "codemirror_mode": {
    "name": "ipython",
    "version": 3
   },
   "file_extension": ".py",
   "mimetype": "text/x-python",
   "name": "python",
   "nbconvert_exporter": "python",
   "pygments_lexer": "ipython3",
   "version": "3.11.5"
  }
 },
 "nbformat": 4,
 "nbformat_minor": 5
}
