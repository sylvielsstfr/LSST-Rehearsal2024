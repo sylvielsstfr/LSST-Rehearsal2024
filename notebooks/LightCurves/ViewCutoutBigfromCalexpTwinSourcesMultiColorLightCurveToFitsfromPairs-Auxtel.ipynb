{
 "cells": [
  {
   "cell_type": "markdown",
   "id": "45bf4242-bfc5-4d43-88c4-a8059ae148df",
   "metadata": {},
   "source": [
    "# Cutout with twin color pairs  multi colors"
   ]
  },
  {
   "cell_type": "markdown",
   "id": "01993b6e-6438-4fca-a5d5-1f9791336847",
   "metadata": {},
   "source": [
    "- author Sylvie Dagoret-Campagne\n",
    "- creation date 2024-06-21\n",
    "- last update 2024-06-22\n",
    "- affiliation : IJCLab\n",
    "- Kernel **w_2024_16**"
   ]
  },
  {
   "cell_type": "markdown",
   "id": "e1b442f0-f745-442b-bc99-2ad838d61d45",
   "metadata": {
    "execution": {
     "iopub.execute_input": "2024-06-06T08:45:15.979992Z",
     "iopub.status.busy": "2024-06-06T08:45:15.979867Z",
     "iopub.status.idle": "2024-06-06T08:45:15.982489Z",
     "shell.execute_reply": "2024-06-06T08:45:15.982072Z",
     "shell.execute_reply.started": "2024-06-06T08:45:15.979981Z"
    }
   },
   "source": [
    "- 1) Start by two-objects-lists sources in different bands. Thowe object are close enough to expect their visit in same calexp frequently\n",
    "- 2) **Merge above visits lists**  in same band/same calexp for object 1 and Object 2 : df_g, df_r, df_z, df_y\n",
    "- 3) Find closest time visit in other bands : dfg_r,"
   ]
  },
  {
   "cell_type": "code",
   "execution_count": null,
   "id": "597ee90f-e015-4990-9766-54a1495700a0",
   "metadata": {},
   "outputs": [],
   "source": [
    "import warnings\n",
    "warnings.resetwarnings()\n",
    "warnings.simplefilter('ignore')"
   ]
  },
  {
   "cell_type": "code",
   "execution_count": null,
   "id": "bf752b70-e6ca-4cbf-8e8c-20bf7f0d8f61",
   "metadata": {},
   "outputs": [],
   "source": [
    "import numpy as np\n",
    "import matplotlib.pyplot as plt\n",
    "%matplotlib inline\n",
    "from mpl_toolkits.axes_grid1 import make_axes_locatable\n",
    "from matplotlib.colors import LogNorm,SymLogNorm\n",
    "from matplotlib.patches import Circle,Annulus\n",
    "from astropy.visualization import ZScaleInterval\n",
    "props = dict(boxstyle='round', facecolor=None, alpha=0.1)\n",
    "#props = dict(boxstyle='round')\n",
    "\n",
    "\n",
    "import matplotlib.ticker                         # here's where the formatter is\n",
    "from matplotlib.ticker import (MultipleLocator, FormatStrFormatter,\n",
    "                               AutoMinorLocator)\n",
    "\n",
    "from astropy.visualization import (MinMaxInterval, SqrtStretch,ZScaleInterval,PercentileInterval,\n",
    "                                   ImageNormalize,imshow_norm)\n",
    "from astropy.visualization.stretch import SinhStretch, LinearStretch,AsinhStretch,LogStretch\n",
    "\n",
    "from astropy.io import fits\n",
    "from astropy.wcs import WCS\n",
    "\n",
    "\n",
    "import pandas as pd\n",
    "pd.set_option(\"display.max_columns\", None)\n",
    "pd.set_option('display.max_rows', 100)\n",
    "\n",
    "import matplotlib.ticker                         # here's where the formatter is\n",
    "import os\n",
    "import re\n",
    "import pandas as pd\n",
    "import pickle\n",
    "from collections import OrderedDict\n",
    "\n",
    "plt.rcParams[\"figure.figsize\"] = (4,3)\n",
    "plt.rcParams[\"axes.labelsize\"] = 'xx-large'\n",
    "plt.rcParams['axes.titlesize'] = 'xx-large'\n",
    "plt.rcParams['xtick.labelsize']= 'xx-large'\n",
    "plt.rcParams['ytick.labelsize']= 'xx-large'\n",
    "\n",
    "import scipy\n",
    "from scipy.optimize import curve_fit"
   ]
  },
  {
   "cell_type": "code",
   "execution_count": null,
   "id": "4950be9c-6c53-44ba-9804-d89a6b877534",
   "metadata": {},
   "outputs": [],
   "source": [
    "import gc"
   ]
  },
  {
   "cell_type": "code",
   "execution_count": null,
   "id": "0ca0d1e6-5f82-4c43-aaa3-8524fc2bc5ba",
   "metadata": {},
   "outputs": [],
   "source": [
    "from matplotlib.ticker import (MultipleLocator, FormatStrFormatter,\n",
    "                               AutoMinorLocator)\n",
    "\n",
    "from astropy.visualization import (MinMaxInterval, SqrtStretch,ZScaleInterval,PercentileInterval,\n",
    "                                   ImageNormalize,imshow_norm)\n",
    "from astropy.visualization.stretch import SinhStretch, LinearStretch,AsinhStretch,LogStretch\n",
    "\n",
    "from astropy.time import Time\n",
    "import scipy"
   ]
  },
  {
   "cell_type": "code",
   "execution_count": null,
   "id": "51ddfce4-9a0f-4804-bc6a-7f9138874f16",
   "metadata": {},
   "outputs": [],
   "source": [
    "import lsst.daf.butler as dafButler\n",
    "#import lsst.summit.utils.butlerUtils as butlerUtils"
   ]
  },
  {
   "cell_type": "code",
   "execution_count": null,
   "id": "34f037b5-b6a2-4f93-b86b-a6108d8a5ea7",
   "metadata": {},
   "outputs": [],
   "source": [
    "import lsst.afw.image as afwImage\n",
    "import lsst.afw.display as afwDisplay\n",
    "import lsst.afw.table as afwTable\n",
    "import lsst.afw.display.rgb as afwRgb\n",
    "import lsst.afw.image as afwImage\n",
    "import lsst.geom as geom\n",
    "\n",
    "#import lsst.sphgeom\n",
    "from  lsst.geom import SpherePoint, Angle\n",
    "import lsst.sphgeom"
   ]
  },
  {
   "cell_type": "code",
   "execution_count": null,
   "id": "d017fb69-9a17-4137-9733-1104af59af03",
   "metadata": {},
   "outputs": [],
   "source": [
    "\n",
    "from astropy.wcs import WCS\n",
    "from astropy.visualization import make_lupton_rgb\n",
    "import gc\n",
    "\n",
    "import lsst.afw.display as afwDisplay\n",
    "from lsst.afw.image import MultibandExposure"
   ]
  },
  {
   "cell_type": "code",
   "execution_count": null,
   "id": "7f26c627-fc82-4f60-8e0a-c25657f092f9",
   "metadata": {},
   "outputs": [],
   "source": [
    "# LSST Display\n",
    "import lsst.afw.display as afwDisplay\n",
    "afwDisplay.setDefaultBackend('matplotlib')"
   ]
  },
  {
   "cell_type": "code",
   "execution_count": null,
   "id": "aba2cfa4-809a-4f1c-8e8f-9f81547e0b5e",
   "metadata": {},
   "outputs": [],
   "source": [
    "transform = AsinhStretch() + PercentileInterval(99.)"
   ]
  },
  {
   "cell_type": "code",
   "execution_count": null,
   "id": "b26e1f0b-83be-4348-b87c-88294ec7c8d6",
   "metadata": {},
   "outputs": [],
   "source": [
    "# INSERT YOUR collection and tract\n",
    "# for rehearsal use collection 2 which have CCDvisit\n",
    "butlerRoot = \"/repo/embargo\"\n",
    "\n",
    "collection1 = 'LSSTComCamSim/runs/nightlyvalidation/20240402/d_2024_03_29/DM-43612'\n",
    "collection2 = 'LSSTComCamSim/runs/nightlyvalidation/20240403/d_2024_03_29/DM-43612'\n",
    "collection3 = 'LSSTComCamSim/runs/nightlyvalidation/20240404/d_2024_03_29/DM-43612'\n",
    "#collection = 'LATISS/runs/AUXTEL_DRP_IMAGING_20230509_20240414/w_2024_15/PREOPS-5069' # COMPLETED\n",
    "collection = 'LATISS/runs/AUXTEL_DRP_IMAGING_20230509_20240513/w_2024_20/PREOPS-5146' # test this one today 2024/06/22\n",
    "\n",
    "collectionn = collection\n",
    "#collections = [collection1,collection2,collection3]\n",
    "collections = [collection]\n",
    "collectionStr = collectionn.replace(\"/\", \"_\")\n",
    "fn_ccdVisit_tracts_patches = f\"ccdVisittractpatch_{collectionStr}.csv\"\n",
    "instrument = 'LATISS'\n",
    "skymapName = \"latiss_v1\"\n",
    "where_clause = \"instrument = \\'\" + instrument+ \"\\'\"\n",
    "tract = 3864 # mostly for light-curves\n",
    "patch_sel = 236\n",
    "#tract = 5615\n",
    "# tract = 5634 # interesting to view calib parameters\n",
    "suptitle = collectionStr + f\" inst = {instrument} tract = {tract}\""
   ]
  },
  {
   "cell_type": "code",
   "execution_count": null,
   "id": "3048e2e2-2489-43e0-a96d-848c548700cb",
   "metadata": {},
   "outputs": [],
   "source": [
    "#dataId = {\"skymap\": \"latiss_v1\", \"tract\": 5615, \"instrument\": \"LATISS\"}\n",
    "dataId = {\"skymap\": skymapName, \"tract\": tract, \"instrument\": instrument}\n",
    "repo = '/sdf/group/rubin/repo/oga/'\n",
    "butler = dafButler.Butler(repo)\n",
    "#t = Butler.get(table_sel, dataId=dataId, collections=collections)\n",
    "registry = butler.registry"
   ]
  },
  {
   "cell_type": "code",
   "execution_count": null,
   "id": "d87b3bde-871f-4eba-87f7-1ee1ade704c5",
   "metadata": {},
   "outputs": [],
   "source": [
    "skymap_auxtel ='latiss_v1'\n",
    "skymap = butler.get('skyMap', skymap=skymap_auxtel, collections=collections)"
   ]
  },
  {
   "cell_type": "markdown",
   "id": "87219b6c-096e-4fff-be39-258302176bb8",
   "metadata": {},
   "source": [
    "## Definition of functions used"
   ]
  },
  {
   "cell_type": "code",
   "execution_count": null,
   "id": "aabccbc1-c6dd-42b5-b766-84d15c9e1ab6",
   "metadata": {},
   "outputs": [],
   "source": [
    "def remove_figure(fig):\n",
    "    \"\"\"\n",
    "    Remove a figure to reduce memory footprint.\n",
    "\n",
    "    Parameters\n",
    "    ----------\n",
    "    fig: matplotlib.figure.Figure\n",
    "        Figure to be removed.\n",
    "\n",
    "    Returns\n",
    "    -------\n",
    "    None\n",
    "    \"\"\"\n",
    "    # get the axes and clear their images\n",
    "    for ax in fig.get_axes():\n",
    "        for im in ax.get_images():\n",
    "            im.remove()\n",
    "    fig.clf()       # clear the figure\n",
    "    plt.close(fig)  # close the figure\n",
    "    gc.collect()    # call the garbage collector"
   ]
  },
  {
   "cell_type": "code",
   "execution_count": null,
   "id": "217d9116-61a1-4ab3-9ba4-4cc8668956e8",
   "metadata": {},
   "outputs": [],
   "source": [
    "def get_corners_radec(wcs, bbox):\n",
    "    \"\"\"\n",
    "    Return the corners in RA,Dec in degrees given the WCS and bounding box for an image.\n",
    "\n",
    "    Parameters\n",
    "    ----------\n",
    "    wcs: image WCS returned by the Butler\n",
    "    bbox: bounding box returned by the Butler\n",
    "\n",
    "    Returns\n",
    "    -------\n",
    "    corners_ra, corners_dec in decimal degrees\n",
    "    \"\"\"\n",
    "\n",
    "    corners_x = [bbox.beginX, bbox.beginX, bbox.endX, bbox.endX]\n",
    "    corners_y = [bbox.beginY, bbox.endY, bbox.endY, bbox.beginY]\n",
    "    corners_ra = []\n",
    "    corners_dec = []\n",
    "    for i in range(4):\n",
    "        radec = wcs.pixelToSky(corners_x[i], corners_y[i])\n",
    "        corners_ra.append(radec.getRa().asDegrees())\n",
    "        corners_dec.append(radec.getDec().asDegrees())\n",
    "    \n",
    "    return corners_ra, corners_dec"
   ]
  },
  {
   "cell_type": "code",
   "execution_count": null,
   "id": "81240109-5d2e-4829-82dc-dddc9d4cda05",
   "metadata": {},
   "outputs": [],
   "source": [
    "def convert_fluxtomag(x) :\n",
    "    \"\"\"\n",
    "    The object and source catalogs store only fluxes. There are hundreds of flux-related columns, \n",
    "    and to store them also as magnitudes would be redundant, and a waste of space.\n",
    "    All flux units are nanojanskys. The AB Magnitudes Wikipedia page provides a concise resource \n",
    "    for users unfamiliar with AB magnitudes and jansky fluxes. To convert to AB magnitudes use:\n",
    "    As demonstrated in Section 2.3.2, to add columns of magnitudes after retrieving columns of flux, users can do this:\n",
    "    results_table['r_calibMag'] = -2.50 * numpy.log10(results_table['r_calibFlux']) + 31.4\n",
    "    results_table['r_cModelMag'] = -2.50 * numpy.log10(results_table['r_cModelFlux']) + 31.4\n",
    "    (from DP0 tutorial)\n",
    "    \"\"\"\n",
    "    return -2.50 * np.log10(x) + 31.4"
   ]
  },
  {
   "cell_type": "code",
   "execution_count": null,
   "id": "8e568cf6-0318-476b-841c-a6de63ced2aa",
   "metadata": {},
   "outputs": [],
   "source": [
    "def cutout_coadd(butler, ra, dec, band='r', datasetType='deepCoadd',\n",
    "                 skymap=None, cutoutSideLength=51, **kwargs):\n",
    "    \"\"\"\n",
    "    Produce a cutout from a coadd at the given ra, dec position.\n",
    "\n",
    "    Adapted from DC2 tutorial notebook by Michael Wood-Vasey.\n",
    "\n",
    "    Parameters\n",
    "    ----------\n",
    "    butler: lsst.daf.persistence.Butler\n",
    "        Helper object providing access to a data repository\n",
    "    ra: float\n",
    "        Right ascension of the center of the cutout, in degrees\n",
    "    dec: float\n",
    "        Declination of the center of the cutout, in degrees\n",
    "    band: string\n",
    "        Filter of the image to load\n",
    "    datasetType: string ['deepCoadd']\n",
    "        Which type of coadd to load.  Doesn't support 'calexp'\n",
    "    skymap: lsst.afw.skyMap.SkyMap [optional]\n",
    "        Pass in to avoid the Butler read.  Useful if you have lots of them.\n",
    "    cutoutSideLength: float [optional]\n",
    "        Size of the cutout region in pixels.\n",
    "\n",
    "    Returns\n",
    "    -------\n",
    "    MaskedImage\n",
    "    \"\"\"\n",
    "    radec = geom.SpherePoint(ra, dec, geom.degrees)\n",
    "    cutoutSize = geom.ExtentI(cutoutSideLength, cutoutSideLength)\n",
    "\n",
    "    if skymap is None:\n",
    "        skymap = butler.get(\"skyMap\")\n",
    "\n",
    "    # Look up the tract, patch for the RA, Dec\n",
    "    tractInfo = skymap.findTract(radec)\n",
    "    patchInfo = tractInfo.findPatch(radec)\n",
    "    xy = geom.PointI(tractInfo.getWcs().skyToPixel(radec))\n",
    "    bbox = geom.BoxI(xy - cutoutSize // 2, cutoutSize)\n",
    "    patch = tractInfo.getSequentialPatchIndex(patchInfo)\n",
    "\n",
    "    coaddId = {'tract': tractInfo.getId(), 'patch': patch, 'band': band}\n",
    "    parameters = {'bbox': bbox}\n",
    "\n",
    "    cutout_image = butler.get(datasetType, parameters=parameters,\n",
    "                              dataId=coaddId)\n",
    "\n",
    "    return cutout_image"
   ]
  },
  {
   "cell_type": "code",
   "execution_count": null,
   "id": "7208ef02-6648-4977-a25f-7e44802afc91",
   "metadata": {},
   "outputs": [],
   "source": [
    "def cutout_calexp(butler, ra, dec, visit, detector, cutoutSideLength=51, **kwargs):\n",
    "    \n",
    "    \"\"\"\n",
    "    Produce a cutout from a calexp at the given ra, dec position.\n",
    "\n",
    "    Adapted from cutout_coadd which was adapted from a DC2 tutorial\n",
    "    notebook by Michael Wood-Vasey.\n",
    "\n",
    "    Parameters\n",
    "    ----------\n",
    "    butler: lsst.daf.persistence.Butler\n",
    "        Helper object providing access to a data repository\n",
    "    ra: float\n",
    "        Right ascension of the center of the cutout, in degrees\n",
    "    dec: float\n",
    "        Declination of the center of the cutout, in degrees\n",
    "    visit: int\n",
    "        Visit id of the calexp's visit\n",
    "    detector: int\n",
    "        Detector for the calexp\n",
    "    cutoutSideLength: float [optional]\n",
    "        Size of the cutout region in pixels.\n",
    "\n",
    "    Returns\n",
    "    -------\n",
    "    MaskedImage\n",
    "    \"\"\"\n",
    "    \n",
    "    dataId = {'visit': visit, 'detector': detector}    \n",
    "    radec = geom.SpherePoint(ra, dec, geom.degrees)\n",
    "    cutoutSize = geom.ExtentI(cutoutSideLength, cutoutSideLength)    \n",
    "    calexp_wcs = butler.get('calexp.wcs', **dataId)\n",
    "    xy = geom.PointI(calexp_wcs.skyToPixel(radec))\n",
    "    bbox = geom.BoxI(xy - cutoutSize // 2, cutoutSize)\n",
    "    parameters = {'bbox': bbox}\n",
    "    cutout_image = butler.get('calexp', parameters=parameters, **dataId)\n",
    "\n",
    "    return cutout_image"
   ]
  },
  {
   "cell_type": "code",
   "execution_count": null,
   "id": "b92643cd-11cd-46d3-a51b-aa20afa005f6",
   "metadata": {},
   "outputs": [],
   "source": [
    "def create_rgb(image, bgr=\"gri\", stretch=1, Q=10, scale=None):\n",
    "    \"\"\"\n",
    "    Create an RGB color composite image.\n",
    "\n",
    "    Parameters\n",
    "    ----------\n",
    "    image : `MultibandExposure`\n",
    "        `MultibandExposure` to display.\n",
    "    bgr : sequence\n",
    "        A 3-element sequence of filter names (i.e., keys of the exps dict)\n",
    "        indicating what band to use for each channel. If `image` only has\n",
    "        three filters then this parameter is ignored and the filters\n",
    "        in the image are used.\n",
    "    stretch: int\n",
    "        The linear stretch of the image.\n",
    "    Q: int\n",
    "        The Asinh softening parameter.\n",
    "    scale: list of 3 floats, each less than 1. (default: None)\n",
    "        Re-scales the RGB channels.\n",
    "\n",
    "    Returns\n",
    "    -------\n",
    "    rgb: ndarray\n",
    "        RGB (integer, 8-bits per channel) colour image as an NxNx3 numpy array.\n",
    "    \"\"\"\n",
    "\n",
    "    # If the image only has 3 bands, reverse the order of the bands\n",
    "    #   to produce the RGB image\n",
    "    if len(image) == 3:\n",
    "        bgr = image.filters\n",
    "\n",
    "    # Extract the primary image component of each Exposure with the\n",
    "    #   .image property, and use .array to get a NumPy array view.\n",
    "\n",
    "    if scale is None:\n",
    "        r_im = image[bgr[2]].array  # numpy array for the r channel\n",
    "        g_im = image[bgr[1]].array  # numpy array for the g channel\n",
    "        b_im = image[bgr[0]].array  # numpy array for the b channel\n",
    "    else:\n",
    "        # manually re-scaling the images here\n",
    "        r_im = image[bgr[2]].array * scale[0]\n",
    "        g_im = image[bgr[1]].array * scale[1]\n",
    "        b_im = image[bgr[0]].array * scale[2]\n",
    "\n",
    "    rgb = make_lupton_rgb(image_r=r_im,\n",
    "                          image_g=g_im,\n",
    "                          image_b=b_im,\n",
    "                          stretch=stretch, Q=Q)\n",
    "    # \"stretch\" and \"Q\" are parameters to stretch and scale the pixel values\n",
    "\n",
    "    return rgb"
   ]
  },
  {
   "cell_type": "code",
   "execution_count": null,
   "id": "6903422a-70c4-48e6-92bd-6a3719328c5f",
   "metadata": {},
   "outputs": [],
   "source": [
    "def find_neighbourg(ra0,dec0,src):\n",
    "    \"\"\" \n",
    "    Calculate the angular separation of a list of sources in src pandas table from a (ra0,dec0) source location\n",
    "    \"\"\"\n",
    "    all_angles = []\n",
    "    for index, row in src.iterrows():\n",
    "        spherePointCenter = lsst.geom.SpherePoint(ra0*lsst.geom.degrees, dec0*lsst.geom.degrees)\n",
    "        spt = lsst.geom.SpherePoint(row[\"ra\"]*lsst.geom.degrees, row[\"dec\"]*lsst.geom.degrees)\n",
    "        ang = spherePointCenter.separation(spt)\n",
    "        ang_arcsec = ang.asArcseconds()\n",
    "        all_angles.append(ang_arcsec)\n",
    "    return all_angles"
   ]
  },
  {
   "cell_type": "code",
   "execution_count": null,
   "id": "b3994e00-172d-4a9c-a9f4-58d993985d8c",
   "metadata": {},
   "outputs": [],
   "source": [
    "def PlotAndFitHisto(data,std_clip,ax,nbins=50,xlabel=r'$(G-R)_1 - (G-R)_2$ :',title=\"Differential color with 2 stars\",xmin=-100.,xmax=100.):\n",
    "    #data = df_col_gr[\"ratio3\"].values\n",
    "\n",
    "    hist, bin_edges = np.histogram(data,bins=nbins,range=(xmin,xmax),density=True)\n",
    "    bin_centres = (bin_edges[:-1] + bin_edges[1:])/2\n",
    "\n",
    "    # Define model function to be used to fit to the data above:\n",
    "    def gauss(x, *p):\n",
    "        A, mu, sigma = p\n",
    "        return A*np.exp(-(x-mu)**2/(2.*sigma**2))\n",
    "\n",
    "    # p0 is the initial guess for the fitting coefficients (A, mu and sigma above)\n",
    "    p0 = [1., 0., 1.]\n",
    "\n",
    "    coeff, var_matrix = curve_fit(gauss, bin_centres, hist, p0=p0)\n",
    "\n",
    "    # Get the fitted curve\n",
    "    hist_fit = gauss(bin_centres, *coeff)\n",
    "\n",
    "    textstr = '\\n'.join((\n",
    "    xlabel,\n",
    "    r'$\\sigma_{clipped} = %.01f$ mmag' %(std_clip,),\n",
    "    r'$\\sigma_{fit} = %.01f$ mmag' %(coeff[2], )))\n",
    "\n",
    "    ax.step(bin_centres, hist,'k' ,label='data')\n",
    "    ax.plot(bin_centres, hist_fit,'r-', label='fit')\n",
    "    ax.set_xlabel(xlabel)\n",
    "    ax.legend()\n",
    "    ax.text(0.05, 0.95, textstr, transform=ax.transAxes, fontsize=16,verticalalignment='top',color=\"blue\", weight='bold',bbox=props)\n",
    "    ax.set_title(title)\n",
    "    ax.set_xlim(xmin,xmax)\n",
    "    # Finally, lets get the fitting parameters, i.e. the mean and standard deviation:\n",
    "    #print('Fitted mean = ', coeff[1])\n",
    "    #print('Fitted standard deviation = ', coeff[2])"
   ]
  },
  {
   "cell_type": "code",
   "execution_count": null,
   "id": "f356473f-fb4a-47e2-a911-b6dfe60343b7",
   "metadata": {},
   "outputs": [],
   "source": [
    "def closestvisit(df1,df2):\n",
    "    \"\"\"\n",
    "    This function associate pairs of closest observation\n",
    "\n",
    "    input : the 2 dataframes (first to one for which one want to find the closest obs in dtaframe 2)\n",
    "    output : the dataframe of similar format as the first one having columns on nightobs , visit time, dt from second dataframe)\n",
    "    \"\"\"\n",
    "    d1 =df1.copy(deep=True)\n",
    "    d2 =df2.copy(deep=True)\n",
    "    all_samples = []\n",
    "    df = pd.DataFrame(index=d1.index,columns=[\"nightObs2\",\"visit2\",\"time2\",\"deltat\"])\n",
    "    for key in d1.index:\n",
    "\n",
    "        nightObs = key[0]\n",
    "        time1 = d1.loc[key][\"time\"]\n",
    "        d2[\"dt\"] = np.abs(d2[\"time\"]-time1)\n",
    "        d2[\"Dt\"] = d2[\"time\"]-time1\n",
    "        cut_sel = (d2[\"dt\"] == d2[\"dt\"].min()) #& (d2[\"nightObs\"] == nightObs)\n",
    "        sample = d2[cut_sel]\n",
    "        #df.iloc[key] = [sample.index[0][0],sample.index[0][1],sample[\"time\"].values[0],sample['dt'].values[0]]\n",
    "        df.loc[key][\"nightObs2\"] = sample.index[0][0]\n",
    "        df.loc[key][\"visit2\"] = sample.index[0][1]\n",
    "        df.loc[key][\"time2\"] = sample[\"time\"].values[0]\n",
    "        df.loc[key][\"deltat\"] = pd.to_timedelta(sample[\"Dt\"].values[0], unit=\"s\").total_seconds()\n",
    "        all_samples.append(sample)\n",
    "\n",
    "    # select observations during the same night\n",
    "    df_back = df.copy(deep=True)\n",
    "    flag_sel = []\n",
    "    for key in df_back.index:\n",
    "        nightObs = key[0]\n",
    "        nightObs2 = df_back.loc[key][\"nightObs2\"]\n",
    "        flag_sel.append(nightObs == nightObs2)\n",
    "    df = df[flag_sel]\n",
    "    return df"
   ]
  },
  {
   "cell_type": "code",
   "execution_count": null,
   "id": "d982f435-311d-4bdf-aa5e-2e2d3fab8644",
   "metadata": {},
   "outputs": [],
   "source": [
    "def getcutoutandimage(visitId,df_selectedvisits):\n",
    "    \"\"\"\n",
    "    visitId : the calexp where are the two stars\n",
    "    df_selectedvisits : the list of all sources and visit of the main targeted star\n",
    "    \"\"\"\n",
    "\n",
    "    row_source = df_selectedvisits[df_selectedvisits.visit == visitId].iloc[0]  \n",
    "    band = row_source['band']\n",
    "\n",
    "    dataId = {'visit': visitId, 'instrument':instrument , 'detector': 0}\n",
    "    calexp = butler.get('calexp', **dataId,collections=collections)   \n",
    "    src_cat = butler.get('sourceTable',**dataId, collections=collections)\n",
    "\n",
    "    #select on star\n",
    "    #src_cat = src_cat[(src_cat[\"extendedness\"]==0) & (src_cat[\"parentSourceId\"] == 0) ]\n",
    "    #src_cat = src_cat[src_cat[\"extendedness\"]==0 ]\n",
    "\n",
    "    x1 = row_source['x_x']\n",
    "    y1 = row_source['y_x']\n",
    "    ra1= row_source['ra_x']\n",
    "    dec1= row_source['dec_x']\n",
    "    psfMag1  = row_source['psfMag_x']  \n",
    "    psfSigma1 = row_source['psfSigma_x']\n",
    "    psfMagDiffMmag1 = row_source['psfMagDiffMmag_x'] \n",
    "    apFlux_50_0_instFlux1 = row_source['apFlux_50_0_instFlux_x']\n",
    "    apFlux_50_0_instFluxErr1 = row_source['apFlux_50_0_instFluxErr_x']\n",
    "\n",
    "\n",
    "    x2 = row_source['x_y']\n",
    "    y2 = row_source['y_y']\n",
    "    ra2= row_source['ra_y']\n",
    "    dec2= row_source['dec_y']\n",
    "    psfMag2  = row_source['psfMag_y']  \n",
    "    psfSigma2 = row_source['psfSigma_y']\n",
    "    psfMagDiffMmag2 = row_source['psfMagDiffMmag_y'] \n",
    "    apFlux_50_0_instFlux2 = row_source['apFlux_50_0_instFlux_y']\n",
    "    apFlux_50_0_instFluxErr2 = row_source['apFlux_50_0_instFluxErr_y']\n",
    "\n",
    "    \n",
    "    # searcch the neighbouring stars\n",
    "    #separation = find_neighbourg(ra_target,dec_target,src_cat)\n",
    "    #src_cat[\"sep\"] = separation\n",
    "\n",
    "\n",
    "    spherePointCenter = lsst.geom.SpherePoint(ra1*lsst.geom.degrees, dec1*lsst.geom.degrees)\n",
    "    spt = lsst.geom.SpherePoint(ra2*lsst.geom.degrees, dec2*lsst.geom.degrees)\n",
    "    ang = spherePointCenter.separation(spt)\n",
    "    ang_arcsec = ang.asArcseconds()\n",
    "    \n",
    "   \n",
    "    x0 = (x1+x2)/2.\n",
    "    y0 = (y1+y2)/2.\n",
    "    ra0 = (ra1+ra2)/2.\n",
    "    dec0 = (dec1+dec2)/2.\n",
    "    \n",
    "\n",
    "    dx1 = x1-x0\n",
    "    dy1 = y1-y0\n",
    "    dx2 = x2-x0\n",
    "    dy2 = y2-y0\n",
    "    \n",
    "    \n",
    "    boxSize = int(max(np.abs(x1-x2),np.abs(y1-y2)))\n",
    "    xmin= x0-boxSize\n",
    "    xmax= x0+boxSize\n",
    "    ymin= y0-boxSize\n",
    "    ymax= y0+boxSize\n",
    "        \n",
    "    \n",
    "    minBbox = geom.Point2I(int(x0) - boxSize ,int(y0) - boxSize)\n",
    "    maxBbox = geom.Point2I(int(x0) + boxSize, int(y0) + boxSize)\n",
    "    \n",
    "    srcBbox = geom.Box2I(minBbox, maxBbox)\n",
    "\n",
    "\n",
    "    row_source['x0'] = x0\n",
    "    row_source['y0'] = y0\n",
    "    row_source['xmin'] = xmin\n",
    "    row_source['ymin'] = ymin\n",
    "    row_source['xmax'] = xmax\n",
    "    row_source['ymax'] = ymax\n",
    "    row_source['ra0'] = ra0\n",
    "    row_source['dec0'] = dec0\n",
    "\n",
    "    row_source['x1'] = x1\n",
    "    row_source['y1'] = y1\n",
    "    row_source['dx1'] = dx1\n",
    "    row_source['dy1'] = dy1\n",
    "    row_source['ra1'] = ra1\n",
    "    row_source['dec1'] = dec1\n",
    "\n",
    "    row_source['x2'] = x2\n",
    "    row_source['y2'] = y2\n",
    "    row_source['dx2'] = dx2\n",
    "    row_source['dy2'] = dy2\n",
    "    row_source['ra2'] = ra2\n",
    "    row_source['dec2'] = dec2\n",
    "    \n",
    "    \n",
    "    # Make the cutout\n",
    "    try:\n",
    "        subimg = afwImage.ExposureF(calexp, srcBbox, afwImage.PARENT, True)\n",
    "        #subimg2 = calexp.getImage().array[int(ySrc) - boxSize: int(ySrc) + boxSize+1, int(xSrc) - boxSize:int(xSrc) + boxSize+1 ]\n",
    "        #subimgRgb = afwRgb.makeRGB(subimg.image.array, None, None, expMin, expMax - expMin, Q)\n",
    "        #all_cutout.append(subimgRgb)\n",
    "        cutout=subimg.image.array\n",
    "        \n",
    "    except Exception as inst:\n",
    "        print(type(inst))    # the exception type\n",
    "        print(inst.args)     # arguments stored in .args\n",
    "        print(inst)     \n",
    "        cutout = None\n",
    "\n",
    "    df_pair = row_source.to_frame()\n",
    "    return row_source,cutout\n",
    "\n"
   ]
  },
  {
   "cell_type": "code",
   "execution_count": null,
   "id": "6a2f1f7b-9923-48d3-8a6d-da2cac0b1aea",
   "metadata": {},
   "outputs": [],
   "source": [
    "def plotfullcalexp(row_pair,ax=None):\n",
    "    \"\"\"\n",
    "    \"\"\"\n",
    "    flag_ax = False\n",
    "    \n",
    "    if ax is None:\n",
    "        fig, ax = plt.subplots(1,1,figsize=(10,10))\n",
    "    else:\n",
    "        flag_ax = True\n",
    "\n",
    "    band = 0\n",
    "    ra = 0\n",
    "    dec = 0\n",
    "\n",
    "    x0 = row_pair[\"x0\"]\n",
    "    y0 = row_pair[\"y0\"]\n",
    "    \n",
    "    visitId = row_pair[\"visit\"]\n",
    "    band = row_pair[\"band\"]\n",
    "    psfMag1 = row_pair[\"psfMag_x\"]\n",
    "    psfSigma1 = row_pair[\"psfSigma_x\"]\n",
    "    x1 = row_pair[\"x1\"]\n",
    "    y1 = row_pair[\"y1\"]\n",
    "    ra1 = row_pair['ra2']\n",
    "    dec1 = row_pair['dec2']\n",
    "    ann1 = Annulus((x1,y1),r=5*psfSigma1,width=0.1,color=\"r\")\n",
    "    ax.add_patch(ann1)\n",
    "\n",
    "  \n",
    "    psfMag2 = row_pair[\"psfMag_y\"]\n",
    "    psfSigma2 = row_pair[\"psfSigma_y\"]\n",
    "    x2 = row_pair[\"x2\"]\n",
    "    y2 = row_pair[\"y2\"]\n",
    "    ra2 = row_pair['ra2']\n",
    "    dec2 = row_pair['dec2']\n",
    "    ann2 = Annulus((x2,y2),r=5*psfSigma2,width=0.1,color=\"orange\")\n",
    "    ax.add_patch(ann2)\n",
    "\n",
    "    dataId = {'visit': visitId, 'instrument':instrument , 'detector': 0}\n",
    "    calexp = butler.get('calexp', **dataId,collections=collections)\n",
    "    imgarr = calexp.image.array \n",
    "    shape =  imgarr.shape\n",
    "    #extent = [x0-shape[1]/2., x0+shape[1]/2., y0-shape[0]/2., y0+shape[0]/2.]\n",
    "   \n",
    "    z = ZScaleInterval()\n",
    "    z1,z2 = z.get_limits(imgarr)\n",
    "    im = ax.imshow(imgarr,origin=\"lower\",cmap=\"grey\",vmin=z1, vmax=z2)\n",
    "    divider = make_axes_locatable(ax)\n",
    "    cax = divider.append_axes(\"right\", size=\"5%\", pad=\"1%\")\n",
    "    # useless with zscale\n",
    "    plt.colorbar(im, cax=cax)\n",
    "\n",
    "    \n",
    "    title = f\"calexp {visitId}, objidx:{objectname1},{objectname2} band :{band}\"\n",
    "    ax.set_title(title)\n",
    "    ax.axvline(x0,color=\"w\",linestyle=\":\")\n",
    "    ax.axhline(y0,color=\"w\",linestyle=\":\")\n",
    "    \n",
    "\n",
    "    textstr = '\\n'.join((\n",
    "    r'$exposure = %.0f$' % (visitId, ),\n",
    "    r'$psfMag1 = %.02f mag$' %(psfMag1, ), \n",
    "    r'$psfMag2 = %.02f mag$' %(psfMag2, ),  \n",
    "    r'$ra_1 = %f deg $' %(ra1,),\n",
    "    r'$ra_2 = %f deg $' %(ra2,),  \n",
    "    r'$dec_1 = %f deg $' %(dec1,),\n",
    "    r'$dec_2 = %f deg $' %(dec2,)))  \n",
    "  \n",
    "\n",
    "    ax.text(0.05, 0.95, textstr, transform=ax.transAxes, fontsize=16,verticalalignment='top',color=\"y\", weight='bold',bbox=props) \n",
    "    #if flag_deblend_skipped:\n",
    "    #    ax.text(0.05, 0.95, textstr, transform=ax.transAxes, fontsize=16,verticalalignment='top',color=\"r\", weight='bold',bbox=props) \n",
    "    #else:\n",
    "    #    ax.text(0.05, 0.95, textstr, transform=ax.transAxes, fontsize=16,verticalalignment='top',color=\"g\", weight='bold',bbox=props) \n",
    "\n",
    "    if not flag_ax:\n",
    "        plt.show()   "
   ]
  },
  {
   "cell_type": "code",
   "execution_count": null,
   "id": "becff74f-4dd3-4c01-8e47-ae94b42ee9ad",
   "metadata": {},
   "outputs": [],
   "source": [
    "def plotcutout(row_pair,cutout,ax=None):\n",
    "    \"\"\"\n",
    "    \"\"\"\n",
    "    flag_ax = False\n",
    "    \n",
    "    if ax is None:\n",
    "        fig, ax = plt.subplots(1,1,figsize=(5,5))\n",
    "    else:\n",
    "        flag_ax = True\n",
    "\n",
    "    if cutout is None:\n",
    "        print(\"No Cutout\")\n",
    "        return\n",
    "\n",
    "    boxSize= cutout.shape[0]//2\n",
    "    extent = [ row_pair['xmin'], row_pair['xmax'], row_pair['ymin'], row_pair['ymax']]\n",
    "    \n",
    "    z = ZScaleInterval()\n",
    "    z1,z2 = z.get_limits(cutout)\n",
    "    im = ax.imshow(cutout,origin='lower',cmap=\"grey\",vmin=z1, vmax=z2,extent = extent)\n",
    "    #divider = make_axes_locatable(ax)\n",
    "    #cax = divider.append_axes(\"right\", size=\"5%\", pad=\"1%\")\n",
    "    # useless with zscale\n",
    "    #plt.colorbar(im, cax=cax)\n",
    "\n",
    "  \n",
    "\n",
    "    band = 0\n",
    "    ra = 0\n",
    "    dec = 0\n",
    "    \n",
    "  \n",
    "    visitId = row_pair[\"visit\"]\n",
    "    band = row_pair[\"band\"]\n",
    "    psfMag1 = row_pair[\"psfMag_x\"]\n",
    "    psfSigma1 = row_pair[\"psfSigma_x\"]\n",
    "    x1 = row_pair[\"x1\"]\n",
    "    y1 = row_pair[\"y1\"]\n",
    "    ra1 = row_pair['ra1']\n",
    "    dec1 = row_pair['dec1']\n",
    "    ann1 = Annulus((x1,y1),r=3*psfSigma1,width=0.1,color=\"r\")\n",
    "    ax.add_patch(ann1)\n",
    "\n",
    "  \n",
    "    psfMag2 = row_pair[\"psfMag_y\"]\n",
    "    psfSigma2 = row_pair[\"psfSigma_y\"]\n",
    "    x2 = row_pair[\"x2\"]\n",
    "    y2 = row_pair[\"y2\"]\n",
    "    \n",
    "    ann2 = Annulus((x2,y2),r=3*psfSigma2,width=0.1,color=\"orange\")\n",
    "    ax.add_patch(ann2)\n",
    "    \n",
    "    #title = f\"obj:{objectname}, b:{band}, (ra:{ra:.2f}, dec:{dec:.2f})\"\n",
    "    #ax.set_title(title)\n",
    "\n",
    "    textstr = '\\n'.join((\n",
    "    r'$expos = %.0f$' % (visitId, ),\n",
    "    r'$band  = %s $' % (band,),\n",
    "    r'$psfMag1 = %.02f mag$' %(psfMag1, ), \n",
    "    r'$psfMag2 = %.02f mag$' %(psfMag2, ),  \n",
    "    r'$\\sigma_{PSF} = %.2f pix$' % (psfSigma1 , )))\n",
    "   \n",
    "  \n",
    "    ax.text(0.05, 0.97, textstr, transform=ax.transAxes, fontsize=16,verticalalignment='top',color=\"orange\", weight='bold',bbox=props) \n",
    "\n",
    "\n",
    "    \n",
    "    if not flag_ax:\n",
    "        plt.show()   "
   ]
  },
  {
   "cell_type": "code",
   "execution_count": null,
   "id": "dc1aae2f-7a14-417e-8c2d-536431287e12",
   "metadata": {},
   "outputs": [],
   "source": [
    "def GetFluxes2StarsTwoBands(band1,band2,dfb1_b2,df_selectedvisits_b1,df_selectedvisits_b2):\n",
    "    \"\"\"\n",
    "    Extract color difference from two bright object sources.\n",
    "    band1 : first band tag \n",
    "    band2 : second band tag\n",
    "    dfb1_b2 : pandas dataframe associating visit in band 1 to visit in band 2\n",
    "    df_selectedvisits_b1: sources for object 1 and 2 in band 1\n",
    "    df_selectedvisits_b2: sources for object 1 and 2 in band 2\n",
    "    May plot some calexp cutout for checking\n",
    "    \"\"\"\n",
    "    df_col_b1b2 = pd.DataFrame(columns = [\"band1\",\"exposure1\",\"time1\",\"psfMag11\",\"psfMag12\",\n",
    "                                          \"psfMagErr11\",\"psfMagErr12\",\n",
    "                                          \"apMag11\",\"apMag12\",\"apMagErr11\",\"apMagErr12\",\n",
    "                                          \"band2\",\"exposure2\",\"time2\",\"psfMag21\",\"psfMag22\",\n",
    "                                          \"psfMagErr21\",\"psfMagErr22\",\n",
    "                                          \"apMag21\",\"apMag22\",\"apMagErr21\",\"apMagErr22\",\n",
    "                                          \"dt\"])\n",
    "    entrycount = 0\n",
    "    for idx,key in enumerate(dfb1_b2.index):\n",
    "        print(idx,key)\n",
    "        visit1 = key[1]\n",
    "        visit2 = dfb1_b2.loc[key][\"visit_\" + band2]\n",
    "        time1 = dfb1_b2.loc[key][\"time\"]\n",
    "        time2 = dfb1_b2.loc[key][\"time_\" + band2]\n",
    "        dt = dfb1_b2.loc[key][\"dtsec_\" + band2]\n",
    "        print(f\"======================= night :: {key[0]} ==> ({band1},{band2}) = ({visit1},{visit2}) =============================\" )\n",
    "        #row_target = df_selectedvisits_b1[df_selectedvisits_b1.visit == visit1].iloc[0]\n",
    "        #print(row_target)\n",
    "        # the selected sources retrieved from the sources associated to that calexp\n",
    "        try:\n",
    "            row_pair_b1,cutoutb1 = getcutoutandimage(visit1,df_selectedvisits_b1) \n",
    "            row_pair_b2,cutoutb2 = getcutoutandimage(visit2,df_selectedvisits_b2) \n",
    "\n",
    "            # first indec band, second index star\n",
    "            # Star 1 in band 1\n",
    "            psfMag11 =  row_pair_b1[\"psfMag_x\"]\n",
    "            psfMagErr11 =  row_pair_b1[\"psfMagErr_x\"]\n",
    "            apMag11 =  -2.5*np.log10(row_pair_b1[\"apFlux_35_0_instFlux_x\"])\n",
    "            apMagErr11 =  2.5/np.log(10)*(row_pair_b1[\"apFlux_35_0_instFluxErr_x\"]/row_pair_b1[\"apFlux_35_0_instFlux_x\"])\n",
    "            \n",
    "            # Star 2 in band 1\n",
    "            psfMag12 =  row_pair_b1[\"psfMag_y\"]\n",
    "            psfMagErr12 =  row_pair_b1[\"psfMagErr_y\"]\n",
    "            apMag12 =  -2.5*np.log10(row_pair_b1[\"apFlux_35_0_instFlux_y\"])\n",
    "            apMagErr12 =  2.5/np.log(10)*(row_pair_b1[\"apFlux_35_0_instFluxErr_x\"]/row_pair_b1[\"apFlux_35_0_instFlux_y\"])\n",
    "            \n",
    "            # Star 1 in band 2\n",
    "            psfMag21 =  row_pair_b2[\"psfMag_x\"]\n",
    "            psfMagErr21 =  row_pair_b2[\"psfMagErr_x\"]\n",
    "            apMag21 =  -2.5*np.log10(row_pair_b2[\"apFlux_35_0_instFlux_x\"])\n",
    "            apMagErr21 =  2.5/np.log(10)*(row_pair_b2[\"apFlux_35_0_instFluxErr_x\"]/row_pair_b2[\"apFlux_35_0_instFlux_x\"])\n",
    "            \n",
    "            # Star 2 in band 2\n",
    "            psfMag22 =  row_pair_b2[\"psfMag_y\"]\n",
    "            psfMagErr22 =  row_pair_b2[\"psfMagErr_y\"]\n",
    "            apMag22 =  -2.5*np.log10(row_pair_b2[\"apFlux_35_0_instFlux_y\"])\n",
    "            apMagErr22 =  2.5/np.log(10)*(row_pair_b2[\"apFlux_35_0_instFluxErr_x\"]/row_pair_b2[\"apFlux_35_0_instFlux_y\"])\n",
    "\n",
    "\n",
    "\n",
    "            \n",
    "            df_col_b1b2.loc[entrycount] = [band1,visit1,time1,psfMag11,psfMag12,psfMagErr11,psfMagErr12,apMag11,apMag12,apMagErr11,apMagErr12,\n",
    "                                           band2,visit2,time2,psfMag21,psfMag22,psfMagErr21,psfMagErr22,apMag21,apMag22,apMagErr21,apMagErr22,dt]\n",
    "            entrycount+=1\n",
    "\n",
    "        \n",
    "        except Exception as inst:\n",
    "            print(type(inst))    # the exception type\n",
    "            print(inst.args)     # arguments stored in .args\n",
    "            print(inst)\n",
    "            continue\n",
    "      \n",
    "\n",
    "        if idx%10 == 0:\n",
    "            if cutoutb1 is not None and cutoutb2 is not None:\n",
    "                NROWS = 1\n",
    "                NCOLS = 2\n",
    "                fig, (ax1,ax2) = plt.subplots(ncols=NCOLS,nrows=NROWS,figsize=(6*NCOLS,6*NROWS))\n",
    "                plotcutout(row_pair_b1,cutoutb1,ax=ax1)\n",
    "                plotcutout(row_pair_b2,cutoutb2,ax=ax2)\n",
    "                plt.show()\n",
    "\n",
    "    # band 1 : mag_star1-mag_star2 \n",
    "    df_col_b1b2[\"deltapsfmag_s12b1\"] = (df_col_b1b2[\"psfMag11\"] - df_col_b1b2[\"psfMag12\"])\n",
    "    df_col_b1b2[\"deltapsfmagErr_s12b1\"] = np.sqrt(df_col_b1b2[\"psfMagErr11\"]**2 + df_col_b1b2[\"psfMagErr12\"]**2)\n",
    "\n",
    "    df_col_b1b2[\"deltaapmag_s12b1\"] = (df_col_b1b2[\"apMag11\"] - df_col_b1b2[\"apMag12\"])\n",
    "    df_col_b1b2[\"deltaapmagErr_s12b1\"] = np.sqrt(df_col_b1b2[\"apMagErr11\"]**2 + df_col_b1b2[\"apMagErr12\"]**2)\n",
    "    \n",
    "    # band 2 : mag_star1-mag_star2 \n",
    "    df_col_b1b2[\"deltapsfmag_s12b2\"] = (df_col_b1b2[\"psfMag21\"] - df_col_b1b2[\"psfMag22\"])\n",
    "    df_col_b1b2[\"deltapsfmagErr_s12b2\"] = np.sqrt(df_col_b1b2[\"psfMagErr21\"]**2 + df_col_b1b2[\"psfMagErr22\"]**2)\n",
    "    df_col_b1b2[\"deltaapmag_s12b2\"] = (df_col_b1b2[\"apMag21\"] - df_col_b1b2[\"apMag22\"])\n",
    "    df_col_b1b2[\"deltaapmagErr_s12b2\"] = np.sqrt(df_col_b1b2[\"apMagErr21\"]**2 + df_col_b1b2[\"apMagErr22\"]**2)\n",
    "\n",
    "    \n",
    "    # Star 1 : mag_band1-mag_band2 \n",
    "    df_col_b1b2[\"psfcol12_s1\"] = (df_col_b1b2[\"psfMag11\"] - df_col_b1b2[\"psfMag21\"])\n",
    "    df_col_b1b2[\"psfcol12Err_s1\"] = np.sqrt(df_col_b1b2[\"psfMagErr11\"]**2 + df_col_b1b2[\"psfMagErr21\"]**2)\n",
    "    df_col_b1b2[\"apcol12_s1\"] = (df_col_b1b2[\"apMag11\"] - df_col_b1b2[\"apMag21\"])\n",
    "    df_col_b1b2[\"apcol12Err_s1\"] = np.sqrt(df_col_b1b2[\"apMagErr11\"]**2 + df_col_b1b2[\"apMagErr21\"]**2)\n",
    "\n",
    "    \n",
    "    # Star 2 : mag_band1-mag_band2 \n",
    "    df_col_b1b2[\"psfcol12_s2\"] = (df_col_b1b2[\"psfMag12\"] - df_col_b1b2[\"psfMag22\"])\n",
    "    df_col_b1b2[\"psfcol12Err_s2\"] = np.sqrt(df_col_b1b2[\"psfMagErr12\"]**2 + df_col_b1b2[\"psfMagErr22\"]**2)\n",
    "    df_col_b1b2[\"apcol12_s2\"] = (df_col_b1b2[\"apMag12\"] - df_col_b1b2[\"apMag22\"])\n",
    "    df_col_b1b2[\"apcol12Err_s2\"] = np.sqrt(df_col_b1b2[\"apMagErr12\"]**2 + df_col_b1b2[\"apMagErr22\"]**2)\n",
    "\n",
    "    \n",
    "    # relative color star1 - star2\n",
    "    df_col_b1b2[\"psfcol12_s12\"] = np.abs(df_col_b1b2[\"psfcol12_s1\"] - df_col_b1b2[\"psfcol12_s2\"])\n",
    "    df_col_b1b2[\"psfcol12Err_s12\"] = np.sqrt(df_col_b1b2[\"psfcol12Err_s1\"]**2 + df_col_b1b2[\"psfcol12Err_s2\"]**2)\n",
    "    df_col_b1b2[\"apcol12_s12\"] = np.abs(df_col_b1b2[\"apcol12_s1\"] - df_col_b1b2[\"apcol12_s2\"])\n",
    "    df_col_b1b2[\"apcol12Err_s12\"] = np.sqrt(df_col_b1b2[\"apcol12Err_s1\"]**2 + df_col_b1b2[\"apcol12Err_s2\"]**2)\n",
    "    \n",
    "    return df_col_b1b2\n"
   ]
  },
  {
   "cell_type": "code",
   "execution_count": null,
   "id": "5795d742-7e31-41e5-9b96-068e13434262",
   "metadata": {},
   "outputs": [],
   "source": [
    "def GetFluxes2StarsTwoBandsNoCutout(band1,band2,dfb1_b2,df_selectedvisits_b1,df_selectedvisits_b2):\n",
    "    \"\"\"\n",
    "    Extract color difference from two bright object sources.\n",
    "    band1 : first band tag \n",
    "    band2 : second band tag\n",
    "    dfb1_b2 : pandas dataframe associating visit in band 1 to visit in band 2\n",
    "    df_selectedvisits_b1: sources for object 1 and 2 in band 1\n",
    "    df_selectedvisits_b2: sources for object 1 and 2 in band 2\n",
    "    NO NOT plot some calexp cutout contrary to above function\n",
    "    \"\"\"\n",
    "    df_col_b1b2 = pd.DataFrame(columns = [\"band1\",\"exposure1\",\"time1\",\"psfMag11\",\"psfMag12\",\n",
    "                                          \"psfMagErr11\",\"psfMagErr12\",\n",
    "                                          \"apMag11\",\"apMag12\",\"apMagErr11\",\"apMagErr12\",\n",
    "                                          \"band2\",\"exposure2\",\"time2\",\"psfMag21\",\"psfMag22\",\n",
    "                                          \"psfMagErr21\",\"psfMagErr22\",\n",
    "                                          \"apMag21\",\"apMag22\",\"apMagErr21\",\"apMagErr22\",\n",
    "                                          \"dt\"])\n",
    "    \n",
    "    entrycount = 0\n",
    "    for idx,key in enumerate(dfb1_b2.index):\n",
    "        print(idx,key)\n",
    "        visit1 = key[1]\n",
    "        visit2 = dfb1_b2.loc[key][\"visit_\" + band2]\n",
    "        time1 = dfb1_b2.loc[key][\"time\"]\n",
    "        time2 = dfb1_b2.loc[key][\"time_\" + band2]\n",
    "        dt = dfb1_b2.loc[key][\"dtsec_\" + band2]\n",
    "        print(f\"======================= night :: {key[0]} ==> ({band1},{band2}) = ({visit1},{visit2}) =============================\" )\n",
    "        #row_target = df_selectedvisits_b1[df_selectedvisits_b1.visit == visit1].iloc[0]\n",
    "        #print(row_target)\n",
    "        # the selected sources retrieved from the sources associated to that calexp\n",
    "        try:\n",
    "            #row_pair_b1,cutoutb1 = getcutoutandimage(visit1,df_selectedvisits_b1) \n",
    "            #row_pair_b2,cutoutb2 = getcutoutandimage(visit2,df_selectedvisits_b2) \n",
    "            row_pair_b1  = df_selectedvisits_b1[df_selectedvisits_b1.visit == visit1].iloc[0]  \n",
    "            row_pair_b2  = df_selectedvisits_b2[df_selectedvisits_b2.visit == visit2].iloc[0]  \n",
    "\n",
    "            # first indec band, second index star\n",
    "            # Star 1 in band 1\n",
    "            psfMag11 =  row_pair_b1[\"psfMag_x\"]\n",
    "            psfMagErr11 =  row_pair_b1[\"psfMagErr_x\"]    \n",
    "            apMag11 =  -2.5*np.log10(row_pair_b1[\"apFlux_35_0_instFlux_x\"])\n",
    "            apMagErr11 =  2.5/np.log(10.)*(row_pair_b1[\"apFlux_35_0_instFluxErr_x\"]/row_pair_b1[\"apFlux_35_0_instFlux_x\"])\n",
    "              \n",
    "            # Star 2 in band 1\n",
    "            psfMag12 =  row_pair_b1[\"psfMag_y\"]\n",
    "            psfMagErr12 =  row_pair_b1[\"psfMagErr_y\"]\n",
    "            apMag12 =  -2.5*np.log10(row_pair_b1[\"apFlux_35_0_instFlux_y\"])\n",
    "            apMagErr12 =  2.5/np.log(10.)*(row_pair_b1[\"apFlux_35_0_instFluxErr_x\"]/row_pair_b1[\"apFlux_35_0_instFlux_y\"])\n",
    "            \n",
    "            # Star 1 in band 2\n",
    "            psfMag21 =  row_pair_b2[\"psfMag_x\"]\n",
    "            psfMagErr21 =  row_pair_b2[\"psfMagErr_x\"]\n",
    "            apMag21 =  -2.5*np.log10(row_pair_b2[\"apFlux_35_0_instFlux_x\"])\n",
    "            apMagErr21 =  2.5/np.log(10.)*(row_pair_b2[\"apFlux_35_0_instFluxErr_x\"]/row_pair_b2[\"apFlux_35_0_instFlux_x\"])\n",
    "            \n",
    "            # Star 2 in band 2\n",
    "            psfMag22 =  row_pair_b2[\"psfMag_y\"]\n",
    "            psfMagErr22 =  row_pair_b2[\"psfMagErr_y\"]\n",
    "            apMag22 =  -2.5*np.log10(row_pair_b2[\"apFlux_35_0_instFlux_y\"])\n",
    "            apMagErr22 =  2.5/np.log(10.)*(row_pair_b2[\"apFlux_35_0_instFluxErr_x\"]/row_pair_b2[\"apFlux_35_0_instFlux_y\"])\n",
    "\n",
    "\n",
    "\n",
    "            \n",
    "            df_col_b1b2.loc[entrycount] = [band1,visit1,time1,psfMag11,psfMag12,psfMagErr11,psfMagErr12,apMag11,apMag12,apMagErr11,apMagErr12,\n",
    "                                           band2,visit2,time2,psfMag21,psfMag22,psfMagErr21,psfMagErr22,apMag21,apMag22,apMagErr21,apMagErr22,dt]\n",
    "\n",
    "            entrycount+=1\n",
    "        except Exception as inst:\n",
    "            print(type(inst))    # the exception type\n",
    "            print(inst.args)     # arguments stored in .args\n",
    "            print(inst)\n",
    "            continue\n",
    "\n",
    "    # band 1 : mag_star1-mag_star2 \n",
    "    df_col_b1b2[\"deltapsfmag_s12b1\"] = (df_col_b1b2[\"psfMag11\"] - df_col_b1b2[\"psfMag12\"])\n",
    "    df_col_b1b2[\"deltapsfmagErr_s12b1\"] = np.sqrt(df_col_b1b2[\"psfMagErr11\"]**2 + df_col_b1b2[\"psfMagErr12\"]**2)\n",
    "\n",
    "    df_col_b1b2[\"deltaapmag_s12b1\"] = (df_col_b1b2[\"apMag11\"] - df_col_b1b2[\"apMag12\"])\n",
    "    df_col_b1b2[\"deltaapmagErr_s12b1\"] = np.sqrt(df_col_b1b2[\"apMagErr11\"]**2 + df_col_b1b2[\"apMagErr12\"]**2)\n",
    "    \n",
    "    # band 2 : mag_star1-mag_star2 \n",
    "    df_col_b1b2[\"deltapsfmag_s12b2\"] = (df_col_b1b2[\"psfMag21\"] - df_col_b1b2[\"psfMag22\"])\n",
    "    df_col_b1b2[\"deltapsfmagErr_s12b2\"] = np.sqrt(df_col_b1b2[\"psfMagErr21\"]**2 + df_col_b1b2[\"psfMagErr22\"]**2)\n",
    "    df_col_b1b2[\"deltaapmag_s12b2\"] = (df_col_b1b2[\"apMag21\"] - df_col_b1b2[\"apMag22\"])\n",
    "    df_col_b1b2[\"deltaapmagErr_s12b2\"] = np.sqrt(df_col_b1b2[\"apMagErr21\"]**2 + df_col_b1b2[\"apMagErr22\"]**2)\n",
    "\n",
    "    \n",
    "    # Star 1 : mag_band1-mag_band2 \n",
    "    df_col_b1b2[\"psfcol12_s1\"] = (df_col_b1b2[\"psfMag11\"] - df_col_b1b2[\"psfMag21\"])\n",
    "    df_col_b1b2[\"psfcol12Err_s1\"] = np.sqrt(df_col_b1b2[\"psfMagErr11\"]**2 + df_col_b1b2[\"psfMagErr21\"]**2)\n",
    "    df_col_b1b2[\"apcol12_s1\"] = (df_col_b1b2[\"apMag11\"] - df_col_b1b2[\"apMag21\"])\n",
    "    df_col_b1b2[\"apcol12Err_s1\"] = np.sqrt(df_col_b1b2[\"apMagErr11\"]**2 + df_col_b1b2[\"apMagErr21\"]**2)\n",
    "\n",
    "    \n",
    "    # Star 2 : mag_band1-mag_band2 \n",
    "    df_col_b1b2[\"psfcol12_s2\"] = (df_col_b1b2[\"psfMag12\"] - df_col_b1b2[\"psfMag22\"])\n",
    "    df_col_b1b2[\"psfcol12Err_s2\"] = np.sqrt(df_col_b1b2[\"psfMagErr12\"]**2 + df_col_b1b2[\"psfMagErr22\"]**2)\n",
    "    df_col_b1b2[\"apcol12_s2\"] = (df_col_b1b2[\"apMag12\"] - df_col_b1b2[\"apMag22\"])\n",
    "    df_col_b1b2[\"apcol12Err_s2\"] = np.sqrt(df_col_b1b2[\"apMagErr12\"]**2 + df_col_b1b2[\"apMagErr22\"]**2)\n",
    "\n",
    "    \n",
    "    # absolute relative color star1 - star2\n",
    "    df_col_b1b2[\"psfcol12_s12\"] = np.abs(df_col_b1b2[\"psfcol12_s1\"] - df_col_b1b2[\"psfcol12_s2\"])\n",
    "    df_col_b1b2[\"psfcol12Err_s12\"] = np.sqrt(df_col_b1b2[\"psfcol12Err_s1\"]**2 + df_col_b1b2[\"psfcol12Err_s2\"]**2)\n",
    "    df_col_b1b2[\"apcol12_s12\"] = np.abs(df_col_b1b2[\"apcol12_s1\"] - df_col_b1b2[\"apcol12_s2\"])\n",
    "    df_col_b1b2[\"apcol12Err_s12\"] = np.sqrt(df_col_b1b2[\"apcol12Err_s1\"]**2 + df_col_b1b2[\"apcol12Err_s2\"]**2)\n",
    "\n",
    "\n",
    "    return df_col_b1b2"
   ]
  },
  {
   "cell_type": "markdown",
   "id": "45ce64d8-57d2-434a-8eb9-6806ad91796d",
   "metadata": {},
   "source": [
    "## Get Pixel Scale"
   ]
  },
  {
   "cell_type": "code",
   "execution_count": null,
   "id": "4768de88-d762-4653-9172-b46d50b25e40",
   "metadata": {},
   "outputs": [],
   "source": [
    "import lsst.geom as geom\n",
    "import lsst.sphgeom\n",
    "\n",
    "skymap = butler.get('skyMap', skymap=skymapName, collections=collections )\n",
    "tractInfo = skymap.generateTract(tract)\n",
    "for patch in tractInfo:    \n",
    "    patchID = patch.getSequentialIndex()\n",
    "        \n",
    "    ibb=patch.getInnerBBox()\n",
    "    tWCS=tractInfo.getWcs()\n",
    "       \n",
    "    # loop on the 4 corners\n",
    "    for icorn,corner in enumerate(ibb.getCorners()):\n",
    "        p = geom.Point2D(corner.getX(), corner.getY())\n",
    "        coord = tWCS.pixelToSky(p)"
   ]
  },
  {
   "cell_type": "code",
   "execution_count": null,
   "id": "634358b4-e8a9-489f-b7a2-88f0a1414e95",
   "metadata": {},
   "outputs": [],
   "source": [
    "tWCS"
   ]
  },
  {
   "cell_type": "code",
   "execution_count": null,
   "id": "1ba56f4f-773a-4287-89ba-7e9559a2a1c7",
   "metadata": {},
   "outputs": [],
   "source": [
    "#arcsec/pixel\n",
    "pixel_scale = tWCS.getPixelScale().asArcseconds()"
   ]
  },
  {
   "cell_type": "markdown",
   "id": "35b5b65f-a6ca-4e98-a54c-d72cf3f5ca89",
   "metadata": {},
   "source": [
    "## Selected visits"
   ]
  },
  {
   "cell_type": "markdown",
   "id": "4f13d6a3-7793-4bc0-920a-1d690d9f84b2",
   "metadata": {},
   "source": [
    "### Spectroscopy"
   ]
  },
  {
   "cell_type": "code",
   "execution_count": null,
   "id": "a2a9c11f-05b8-4465-b96a-3f18d81572f0",
   "metadata": {},
   "outputs": [],
   "source": [
    "atmfilename = \"data/spectro/auxtel_atmosphere_202301_v3.1.0_doSensorFlat_rebin2_testWithMaskedEdges_newBoundaries_newPolysRescaled_newFitBounds_adjustA1_lockedOrder2_removeThroughputTails_2.npy\""
   ]
  },
  {
   "cell_type": "code",
   "execution_count": null,
   "id": "ad60336b-f26f-4184-bcdf-e596329ecbbd",
   "metadata": {},
   "outputs": [],
   "source": [
    "specdata = np.load(atmfilename,allow_pickle=True)"
   ]
  },
  {
   "cell_type": "code",
   "execution_count": null,
   "id": "3d9c7249-f818-4a98-8000-9be75b3c7a21",
   "metadata": {},
   "outputs": [],
   "source": [
    "df_spec = pd.DataFrame(specdata)\n",
    "df_spec"
   ]
  },
  {
   "cell_type": "code",
   "execution_count": null,
   "id": "0d10c1ad-c5dc-4487-baa9-7c71ec531f45",
   "metadata": {},
   "outputs": [],
   "source": [
    "df_spec[\"Time\"] = pd.to_datetime(df_spec[\"DATE-OBS\"])\n",
    "#df_spec[\"PWV [mm]_x\"]"
   ]
  },
  {
   "cell_type": "code",
   "execution_count": null,
   "id": "3fd02994-4a05-4145-8da9-10ac7f5b920a",
   "metadata": {},
   "outputs": [],
   "source": [
    "from matplotlib.dates import DateFormatter\n",
    "date_form = DateFormatter(\"%y-%m-%dT%H:%M\")\n",
    "fig,axs = plt.subplots(2,1,figsize=(14,8))\n",
    "ax1,ax2  = axs\n",
    "df_spec.plot(x=\"Time\",y=\"PWV [mm]_x\",ax=ax1,marker='+',c=\"r\",lw=0.0,grid=True,label=\"PWV_x\")\n",
    "df_spec.plot(x=\"Time\",y=\"PWV [mm]_y\",ax=ax2,marker='+',c=\"b\",lw=0.0,grid=True,label=\"PWV_y\")\n",
    "ax1.set_xlabel(\"time\")\n",
    "ax1.xaxis.set_major_formatter(date_form)\n",
    "ax2.set_xlabel(\"time\")\n",
    "ax2.xaxis.set_major_formatter(date_form)\n",
    "plt.tight_layout()"
   ]
  },
  {
   "cell_type": "markdown",
   "id": "ada7baf8-e3f1-45d6-8c03-bde5c5badbd0",
   "metadata": {},
   "source": [
    "## Photometry"
   ]
  },
  {
   "cell_type": "markdown",
   "id": "b065fbcf-e9be-45ad-887e-ea93b0cd0b3e",
   "metadata": {
    "execution": {
     "iopub.execute_input": "2024-06-22T12:59:39.111709Z",
     "iopub.status.busy": "2024-06-22T12:59:39.111579Z",
     "iopub.status.idle": "2024-06-22T12:59:39.336811Z",
     "shell.execute_reply": "2024-06-22T12:59:39.336243Z",
     "shell.execute_reply.started": "2024-06-22T12:59:39.111698Z"
    }
   },
   "source": [
    "#### read list of all possible pairs"
   ]
  },
  {
   "cell_type": "code",
   "execution_count": null,
   "id": "27dd7b93-e574-45b2-935c-3e2e5e2591c3",
   "metadata": {},
   "outputs": [],
   "source": [
    "df_pair = pd.read_csv(\"all_pairs.csv\",index_col=0)\n",
    "df_pair.head()"
   ]
  },
  {
   "cell_type": "code",
   "execution_count": null,
   "id": "bc451273-03d3-49b4-8adf-bfa4c33292a9",
   "metadata": {},
   "outputs": [],
   "source": [
    "fig,axs = plt.subplots(1,1,figsize=(6,4))\n",
    "ax1 = axs\n",
    "df_pair[\"sep\"].hist(bins=50,ax=ax1,histtype=\"step\",color=\"b\",lw=2);\n",
    "image_size = 0.1*4000.\n",
    "ax1.axvline(image_size,color=\"k\")\n",
    "ax1.set_xlabel(\"$\\\\theta$ (arcsec)\")\n",
    "ax1.set_title(f\"Bright sources angular correlation in tract {tract}\")\n"
   ]
  },
  {
   "cell_type": "markdown",
   "id": "dde0a9f0-6703-4b92-a25d-8743b404e464",
   "metadata": {},
   "source": [
    "#### Select the pair to study"
   ]
  },
  {
   "cell_type": "code",
   "execution_count": null,
   "id": "ed02099f-8837-4c42-8646-24d18bee5ebf",
   "metadata": {},
   "outputs": [],
   "source": [
    "idx_pair = 10\n",
    "objectname1 = int(df_pair[\"objidx1\"].iloc[idx_pair])\n",
    "objectname2 = int(df_pair[\"objidx2\"].iloc[idx_pair])"
   ]
  },
  {
   "cell_type": "code",
   "execution_count": null,
   "id": "58451340-865a-42e6-8bec-a3698bccb758",
   "metadata": {},
   "outputs": [],
   "source": [
    "df_pair.iloc[idx_pair]"
   ]
  },
  {
   "cell_type": "markdown",
   "id": "05c7884d-0a8e-4c79-b234-3c0724bdd34c",
   "metadata": {},
   "source": [
    "### Read All sources from all objects "
   ]
  },
  {
   "cell_type": "code",
   "execution_count": null,
   "id": "d9f0bdef-d228-43ed-afa3-ebc48db575c7",
   "metadata": {},
   "outputs": [],
   "source": [
    "#inputfilename = \"sources_objectTable-t3864-multibands-o912-LATISS_runs_AUXTEL_DRP_IMAGING_20230509_20240414_w_2024_15_PREOPS-5069.csv\"\n",
    "\n",
    "## The two lists:\n",
    "path_photom =\"data/photom/sources_objectTable\"\n",
    "tract = 3864\n",
    "\n",
    "#inputfilename =\"objects-lightcurves-LATISS_runs_AUXTEL_DRP_IMAGING_20230509_20240414_w_2024_15_PREOPS-5069-tract3864.csv\"\n",
    "inputfilename = \"objects-lightcurves-LATISS_runs_AUXTEL_DRP_IMAGING_20230509_20240513_w_2024_20_PREOPS-5146-tract3864.csv\"\n",
    "inputfullfilename= os.path.join(path_photom,inputfilename) \n",
    "\n",
    "df_allsources = pd.read_csv(inputfullfilename,index_col=0)\n"
   ]
  },
  {
   "cell_type": "code",
   "execution_count": null,
   "id": "ce969aaa-1aa2-484a-a161-bb04f396cfbd",
   "metadata": {},
   "outputs": [],
   "source": [
    "df_allsources.head()"
   ]
  },
  {
   "cell_type": "markdown",
   "id": "616ade81-3d6d-4dba-ba8a-cd48438144ac",
   "metadata": {},
   "source": [
    "#### Select all sources/visits corresponding to object1/object2 respectively"
   ]
  },
  {
   "cell_type": "code",
   "execution_count": null,
   "id": "8bab8c27-56a1-4dc4-9fe1-c22d650579e8",
   "metadata": {},
   "outputs": [],
   "source": [
    "df_myselectedvisits1 = df_allsources[df_allsources.obj_index==objectname1] \t\n",
    "df_myselectedvisits2 = df_allsources[df_allsources.obj_index==objectname2] \t"
   ]
  },
  {
   "cell_type": "code",
   "execution_count": null,
   "id": "178b2ca6-b787-410f-8667-36a2b65e9eb6",
   "metadata": {},
   "outputs": [],
   "source": [
    "df_myselectedvisits1.sort_values(\"visit\",inplace=True)\n",
    "df_myselectedvisits2.sort_values(\"visit\",inplace=True)\n",
    "#df_myselectedvisits.sort_index(inplace=True)"
   ]
  },
  {
   "cell_type": "code",
   "execution_count": null,
   "id": "53e7e649-c9e7-408f-a4bc-9d7a1ec0ff59",
   "metadata": {},
   "outputs": [],
   "source": [
    "df_myselectedvisits1.head()"
   ]
  },
  {
   "cell_type": "code",
   "execution_count": null,
   "id": "915cd5db-8581-4e0b-bf88-73ca7960257b",
   "metadata": {},
   "outputs": [],
   "source": [
    "df_myselectedvisits2.head()"
   ]
  },
  {
   "cell_type": "markdown",
   "id": "e1ad2281-e3f5-4bfd-8681-4318b692e92d",
   "metadata": {},
   "source": [
    "### Compute nightobs and Times (pd.to_datetime)"
   ]
  },
  {
   "cell_type": "code",
   "execution_count": null,
   "id": "81e4c66d-ea7d-4003-93af-3b03bd811793",
   "metadata": {},
   "outputs": [],
   "source": [
    "df_myselectedvisits1[\"nightObs\"] = df_myselectedvisits1.apply(lambda x: x['visit']//100_000 , axis=1)\n",
    "df_myselectedvisits1[\"Time\"] = pd.to_datetime(df_myselectedvisits1['obsStart'])"
   ]
  },
  {
   "cell_type": "code",
   "execution_count": null,
   "id": "c2060b55-3ba4-4ccf-92cb-5080d7a2b981",
   "metadata": {},
   "outputs": [],
   "source": [
    "pd.to_datetime(df_myselectedvisits2['obsStart']).to_frame()"
   ]
  },
  {
   "cell_type": "code",
   "execution_count": null,
   "id": "6d693ab6-3f6c-4826-95ac-349054ed4d72",
   "metadata": {},
   "outputs": [],
   "source": [
    "df_myselectedvisits2.loc[:,\"nightObs\"] = df_myselectedvisits2.apply(lambda x: x['visit']//100_000 , axis=1,result_type='expand')\n",
    "df_myselectedvisits2.loc[:,\"Time\"] = pd.to_datetime(df_myselectedvisits2['obsStart']).to_frame()"
   ]
  },
  {
   "cell_type": "markdown",
   "id": "e17f0cfb-9de0-4b39-9296-684d60330c8d",
   "metadata": {},
   "source": [
    "### Split list by bands"
   ]
  },
  {
   "cell_type": "code",
   "execution_count": null,
   "id": "51135ed0-20b4-49c7-970e-216621677459",
   "metadata": {},
   "outputs": [],
   "source": [
    "df_myselectedvisits_g1 = df_myselectedvisits1[df_myselectedvisits1.band == \"g\"]\n",
    "df_myselectedvisits_r1 = df_myselectedvisits1[df_myselectedvisits1.band == \"r\"]\n",
    "df_myselectedvisits_z1 = df_myselectedvisits1[df_myselectedvisits1.band == \"z\"]\n",
    "df_myselectedvisits_y1 = df_myselectedvisits1[df_myselectedvisits1.band == \"y\"]\n",
    "\n",
    "df_myselectedvisits_g2 = df_myselectedvisits2[df_myselectedvisits2.band == \"g\"]\n",
    "df_myselectedvisits_r2 = df_myselectedvisits2[df_myselectedvisits2.band == \"r\"]\n",
    "df_myselectedvisits_z2 = df_myselectedvisits2[df_myselectedvisits2.band == \"z\"]\n",
    "df_myselectedvisits_y2 = df_myselectedvisits2[df_myselectedvisits2.band == \"y\"]"
   ]
  },
  {
   "cell_type": "code",
   "execution_count": null,
   "id": "9ea8a887-e8de-4342-9edd-ec5906a57226",
   "metadata": {},
   "outputs": [],
   "source": [
    "df_myselectedvisits_z1[[\"nightObs\",\"visit\"]].head() "
   ]
  },
  {
   "cell_type": "code",
   "execution_count": null,
   "id": "b974e88a-6231-441d-a87c-69db2dca8047",
   "metadata": {},
   "outputs": [],
   "source": [
    "df_myselectedvisits_z2[[\"nightObs\",\"visit\"]].head() "
   ]
  },
  {
   "cell_type": "code",
   "execution_count": null,
   "id": "dbcd08f4-81b9-421f-8c53-519f9842772d",
   "metadata": {},
   "outputs": [],
   "source": [
    "# no 2023112100507 in z\n",
    "df_myselectedvisits_y1[[\"nightObs\",\"visit\"]].head() "
   ]
  },
  {
   "cell_type": "code",
   "execution_count": null,
   "id": "6333a1a6-dae8-4d01-9107-166e89824b0f",
   "metadata": {},
   "outputs": [],
   "source": [
    "df_myselectedvisits_y2[[\"nightObs\",\"visit\"]].head() "
   ]
  },
  {
   "cell_type": "markdown",
   "id": "a2cc9bb0-e6b8-46fa-ba2b-5ab73ebfb1cb",
   "metadata": {},
   "source": [
    "### Merge visits in same band/same calexp for object 1 and Object 2 "
   ]
  },
  {
   "cell_type": "code",
   "execution_count": null,
   "id": "8d9b1ac3-3364-4517-97dc-b794dd6da4fb",
   "metadata": {},
   "outputs": [],
   "source": [
    "df_y = df_myselectedvisits_y1.merge(df_myselectedvisits_y2, left_on='visit', right_on='visit',how=\"inner\")\n",
    "df_z = df_myselectedvisits_z1.merge(df_myselectedvisits_z2, left_on='visit', right_on='visit',how=\"inner\")\n",
    "df_g = df_myselectedvisits_g1.merge(df_myselectedvisits_g2, left_on='visit', right_on='visit',how=\"inner\")\n",
    "df_r = df_myselectedvisits_r1.merge(df_myselectedvisits_r2, left_on='visit', right_on='visit',how=\"inner\")"
   ]
  },
  {
   "cell_type": "code",
   "execution_count": null,
   "id": "b92f1b68-ef45-4223-8058-619380179987",
   "metadata": {},
   "outputs": [],
   "source": [
    "df_z[\"visit\"].head(n=5)"
   ]
  },
  {
   "cell_type": "code",
   "execution_count": null,
   "id": "c7c6bc3d-50ed-430e-9edb-a0da5d0e5fcf",
   "metadata": {},
   "outputs": [],
   "source": [
    "df_y[\"visit\"].head(n=5)"
   ]
  },
  {
   "cell_type": "markdown",
   "id": "fcc56646-03c6-48a9-8fdd-8c3e10442865",
   "metadata": {},
   "source": [
    "### Distance in pixels"
   ]
  },
  {
   "cell_type": "code",
   "execution_count": null,
   "id": "ef42e6f4-caab-41c5-ba38-590d92c65ec1",
   "metadata": {},
   "outputs": [],
   "source": [
    "df_y[\"dx\"] = df_y['x_x'] - df_y['x_y']\n",
    "df_y[\"dy\"] = df_y['y_x'] - df_y['y_y']\n",
    "df_y[\"dpix\"] = np.sqrt(df_y[\"dx\"]**2 + df_y[\"dy\"]**2)"
   ]
  },
  {
   "cell_type": "code",
   "execution_count": null,
   "id": "1c082bcc-f155-45e5-83b7-1a953b1b7ecc",
   "metadata": {},
   "outputs": [],
   "source": [
    "df_y[\"dpix\"].hist(bins=50)\n",
    "plt.xlabel(\"distance in pixels\")"
   ]
  },
  {
   "cell_type": "markdown",
   "id": "7d73eb98-bfe0-484f-9f95-f80b0a94e0ce",
   "metadata": {},
   "source": [
    "## Distance in time between the pairs"
   ]
  },
  {
   "cell_type": "code",
   "execution_count": null,
   "id": "731f504d-77d2-450f-a007-b01d845f0715",
   "metadata": {},
   "outputs": [],
   "source": [
    "df_y[\"dt\"] = (df_y['expMidptMJD_x'] - df_y['expMidptMJD_y'])*3600*24"
   ]
  },
  {
   "cell_type": "code",
   "execution_count": null,
   "id": "067a3960-ebc0-4656-8810-98f7c6bafef3",
   "metadata": {},
   "outputs": [],
   "source": [
    "df_y[\"dt\"].hist(bins=50)"
   ]
  },
  {
   "cell_type": "code",
   "execution_count": null,
   "id": "07a44a2e-1513-4734-b729-babd1d0a2ddb",
   "metadata": {},
   "outputs": [],
   "source": [
    "# convert timedelta into seconds\n",
    "# thus it confirms the exposure is the same\n",
    "df_y[\"dTime\"] = pd.to_timedelta(df_y['Time_x'] - df_y['Time_y']).dt.seconds"
   ]
  },
  {
   "cell_type": "code",
   "execution_count": null,
   "id": "941af86c-d689-4778-b0ae-e5b66bde4200",
   "metadata": {},
   "outputs": [],
   "source": [
    "df_y[\"dTime\"].hist(bins=50)"
   ]
  },
  {
   "cell_type": "markdown",
   "id": "b377736c-9df8-4eab-ad25-d9f5006bcc95",
   "metadata": {},
   "source": [
    "## Rename quantities supposed to be the same as same visit"
   ]
  },
  {
   "cell_type": "code",
   "execution_count": null,
   "id": "af6b234f-cdc4-4a33-904e-70984145cda4",
   "metadata": {},
   "outputs": [],
   "source": [
    "df_y[\"band\"] = df_y[\"band_x\"]\n",
    "df_z[\"band\"] = df_z[\"band_x\"]\n",
    "df_g[\"band\"] = df_g[\"band_x\"]\n",
    "df_r[\"band\"] = df_r[\"band_x\"]\n",
    "\n",
    "df_y[\"Time\"] = df_y[\"Time_x\"]\n",
    "df_z[\"Time\"] = df_z[\"Time_x\"]\n",
    "df_g[\"Time\"] = df_g[\"Time_x\"]\n",
    "df_r[\"Time\"] = df_r[\"Time_x\"]\n",
    "\n",
    "df_y[\"nightObs\"] = df_y[\"nightObs_x\"]\n",
    "df_z[\"nightObs\"] = df_z[\"nightObs_x\"]\n",
    "df_g[\"nightObs\"] = df_g[\"nightObs_x\"]\n",
    "df_r[\"nightObs\"] = df_r[\"nightObs_x\"]\n",
    "\n",
    "#df_y[\"visit\"] = df_y[\"visit_x\"]\n",
    "#df_z[\"visit\"] = df_z[\"visit_x\"]\n",
    "#df_g[\"visit\"] = df_g[\"visit_x\"]\n",
    "#df_r[\"visit\"] = df_r[\"visit_x\"]\n",
    "\n",
    "df_y[\"expMidptMJD\"] = df_y[\"expMidptMJD_x\"]\n",
    "df_z[\"expMidptMJD\"] = df_z[\"expMidptMJD_x\"]\n",
    "df_g[\"expMidptMJD\"] = df_g[\"expMidptMJD_x\"]\n",
    "df_r[\"expMidptMJD\"] = df_r[\"expMidptMJD_x\"]"
   ]
  },
  {
   "cell_type": "markdown",
   "id": "9792d87e-4865-476f-ae40-e30e528809fb",
   "metadata": {},
   "source": [
    "## Difference in magnitudes between the pairs"
   ]
  },
  {
   "cell_type": "markdown",
   "id": "d63ea8c0-3d5b-4cd2-b8dc-854d2361ac98",
   "metadata": {},
   "source": [
    "#### psf Magnitude"
   ]
  },
  {
   "cell_type": "code",
   "execution_count": null,
   "id": "11bb49b8-fb65-4f99-92b3-e45201eca380",
   "metadata": {},
   "outputs": [],
   "source": [
    "df_y[\"dpsfMag\"] = df_y[\"psfMag_x\"] -  df_y[\"psfMag_y\"]\n",
    "df_z[\"dpsfMag\"] = df_z[\"psfMag_x\"] -  df_z[\"psfMag_y\"]\n",
    "df_g[\"dpsfMag\"] = df_g[\"psfMag_x\"] -  df_g[\"psfMag_y\"]\n",
    "df_r[\"dpsfMag\"] = df_r[\"psfMag_x\"] -  df_r[\"psfMag_y\"]"
   ]
  },
  {
   "cell_type": "code",
   "execution_count": null,
   "id": "baf53cf1-7f33-4fb0-a666-10d90398cf5e",
   "metadata": {},
   "outputs": [],
   "source": [
    "df_y[\"dpsfInstMag\"] = df_y[\"psfInstMag_x\"] -  df_y[\"psfInstMag_y\"]\n",
    "df_z[\"dpsfInstMag\"] = df_z[\"psfInstMag_x\"] -  df_z[\"psfInstMag_y\"]\n",
    "df_g[\"dpsfInstMag\"] = df_g[\"psfInstMag_x\"] -  df_g[\"psfInstMag_y\"]\n",
    "df_r[\"dpsfInstMag\"] = df_r[\"psfInstMag_x\"] -  df_r[\"psfInstMag_y\"]"
   ]
  },
  {
   "cell_type": "code",
   "execution_count": null,
   "id": "531956c1-3635-4b0e-9280-140da88fff74",
   "metadata": {},
   "outputs": [],
   "source": [
    "df_y[\"dpsfMagErr\"] = np.sqrt(df_y[\"psfMagErr_x\"]**2 +  df_y[\"psfMagErr_y\"]**2) \n",
    "df_z[\"dpsfMagErr\"] = np.sqrt(df_z[\"psfMagErr_x\"]**2 +  df_z[\"psfMagErr_y\"]**2) \n",
    "df_g[\"dpsfMagErr\"] = np.sqrt(df_g[\"psfMagErr_x\"]**2 +  df_g[\"psfMagErr_y\"]**2) \n",
    "df_r[\"dpsfMagErr\"] = np.sqrt(df_r[\"psfMagErr_x\"]**2 +  df_r[\"psfMagErr_y\"]**2) "
   ]
  },
  {
   "cell_type": "code",
   "execution_count": null,
   "id": "2cd5f9e6-4b7a-4877-99ca-1e3efe17e97d",
   "metadata": {},
   "outputs": [],
   "source": [
    "df_y[\"dpsfInstMagErr\"] = np.sqrt(df_y[\"psfInstMagErr_x\"]**2 +  df_y[\"psfInstMagErr_y\"]**2) \n",
    "df_z[\"dpsfInstMagErr\"] = np.sqrt(df_z[\"psfInstMagErr_x\"]**2 +  df_z[\"psfInstMagErr_y\"]**2) \n",
    "df_g[\"dpsfInstMagErr\"] = np.sqrt(df_g[\"psfInstMagErr_x\"]**2 +  df_g[\"psfInstMagErr_y\"]**2) \n",
    "df_r[\"dpsfInstMagErr\"] = np.sqrt(df_r[\"psfInstMagErr_x\"]**2 +  df_r[\"psfInstMagErr_y\"]**2) "
   ]
  },
  {
   "cell_type": "markdown",
   "id": "04d46dd4-d516-4113-9d38-109795079034",
   "metadata": {},
   "source": [
    "#### Aperture Magnitude"
   ]
  },
  {
   "cell_type": "code",
   "execution_count": null,
   "id": "d6e0e792-d9fe-42d3-872d-8384c2d55409",
   "metadata": {},
   "outputs": [],
   "source": [
    "df_y[\"dapFlux_35_0_calMag\"] = df_y[\"apFlux_35_0_calMag_x\"] - df_y[\"apFlux_35_0_calMag_y\"]\n",
    "df_z[\"dapFlux_35_0_calMag\"] = df_z[\"apFlux_35_0_calMag_x\"] - df_z[\"apFlux_35_0_calMag_y\"]\n",
    "df_g[\"dapFlux_35_0_calMag\"] = df_g[\"apFlux_35_0_calMag_x\"] - df_g[\"apFlux_35_0_calMag_y\"]\n",
    "df_r[\"dapFlux_35_0_calMag\"] = df_r[\"apFlux_35_0_calMag_x\"] - df_r[\"apFlux_35_0_calMag_y\"]"
   ]
  },
  {
   "cell_type": "code",
   "execution_count": null,
   "id": "cfc67c8f-7304-4103-af5b-f5983bb07eee",
   "metadata": {},
   "outputs": [],
   "source": [
    "df_y[\"dapFlux_35_0_calMagErr\"] = np.sqrt(df_y[\"apFlux_35_0_calMagErr_x\"]**2 + df_y[\"apFlux_35_0_calMagErr_y\"]**2)\n",
    "df_z[\"dapFlux_35_0_calMagErr\"] = np.sqrt(df_z[\"apFlux_35_0_calMagErr_x\"]**2 + df_z[\"apFlux_35_0_calMagErr_y\"]**2)\n",
    "df_g[\"dapFlux_35_0_calMagErr\"] = np.sqrt(df_g[\"apFlux_35_0_calMagErr_x\"]**2 + df_g[\"apFlux_35_0_calMagErr_y\"]**2)\n",
    "df_r[\"dapFlux_35_0_calMagErr\"] = np.sqrt(df_r[\"apFlux_35_0_calMagErr_x\"]**2 + df_r[\"apFlux_35_0_calMagErr_y\"]**2)"
   ]
  },
  {
   "cell_type": "code",
   "execution_count": null,
   "id": "748ccf68-c8e3-4338-bee1-abea3dc5778a",
   "metadata": {},
   "outputs": [],
   "source": [
    "df_y[\"dapFlux_50_0_calMag\"] = df_y[\"apFlux_50_0_calMag_x\"] - df_y[\"apFlux_50_0_calMag_y\"]\n",
    "df_z[\"dapFlux_50_0_calMag\"] = df_z[\"apFlux_50_0_calMag_x\"] - df_z[\"apFlux_50_0_calMag_y\"]\n",
    "df_g[\"dapFlux_50_0_calMag\"] = df_g[\"apFlux_50_0_calMag_x\"] - df_g[\"apFlux_50_0_calMag_y\"]\n",
    "df_r[\"dapFlux_50_0_calMag\"] = df_r[\"apFlux_50_0_calMag_x\"] - df_r[\"apFlux_50_0_calMag_y\"]"
   ]
  },
  {
   "cell_type": "code",
   "execution_count": null,
   "id": "6abf715c-aea1-402d-a1df-ed3c60aac041",
   "metadata": {},
   "outputs": [],
   "source": [
    "df_y[\"dapFlux_50_0_calMagErr\"] = np.sqrt(df_y[\"apFlux_50_0_calMagErr_x\"]**2 + df_y[\"apFlux_50_0_calMagErr_y\"]**2)\n",
    "df_z[\"dapFlux_50_0_calMagErr\"] = np.sqrt(df_z[\"apFlux_50_0_calMagErr_x\"]**2 + df_z[\"apFlux_50_0_calMagErr_y\"]**2)\n",
    "df_g[\"dapFlux_50_0_calMagErr\"] = np.sqrt(df_g[\"apFlux_50_0_calMagErr_x\"]**2 + df_g[\"apFlux_50_0_calMagErr_y\"]**2)\n",
    "df_r[\"dapFlux_50_0_calMagErr\"] = np.sqrt(df_r[\"apFlux_50_0_calMagErr_x\"]**2 + df_r[\"apFlux_50_0_calMagErr_y\"]**2)"
   ]
  },
  {
   "cell_type": "markdown",
   "id": "dcef1bce-148c-41ae-a3ec-260bbb9363ab",
   "metadata": {},
   "source": [
    "### Relative magnitude difference"
   ]
  },
  {
   "cell_type": "code",
   "execution_count": null,
   "id": "3f5e18ef-2e31-4d3c-9fd5-0ef40e614cfb",
   "metadata": {},
   "outputs": [],
   "source": [
    "df_y[\"d_psfMag\"] = df_y[\"dpsfMag\"] - df_y[\"dpsfMag\"].mean()\n",
    "df_z[\"d_psfMag\"] = df_z[\"dpsfMag\"] - df_z[\"dpsfMag\"].mean()\n",
    "df_g[\"d_psfMag\"] = df_g[\"dpsfMag\"] - df_g[\"dpsfMag\"].mean()\n",
    "df_r[\"d_psfMag\"] = df_r[\"dpsfMag\"] - df_r[\"dpsfMag\"].mean()"
   ]
  },
  {
   "cell_type": "code",
   "execution_count": null,
   "id": "76a02247-a6cf-4ca5-a06e-e339dae2deaa",
   "metadata": {},
   "outputs": [],
   "source": [
    "df_y[\"d_psfInstMag\"] = df_y[\"dpsfInstMag\"] - df_y[\"dpsfInstMag\"].mean()\n",
    "df_z[\"d_psfInstMag\"] = df_z[\"dpsfInstMag\"] - df_z[\"dpsfInstMag\"].mean()\n",
    "df_g[\"d_psfInstMag\"] = df_g[\"dpsfInstMag\"] - df_g[\"dpsfInstMag\"].mean()\n",
    "df_r[\"d_psfInstMag\"] = df_r[\"dpsfInstMag\"] - df_r[\"dpsfInstMag\"].mean()"
   ]
  },
  {
   "cell_type": "code",
   "execution_count": null,
   "id": "f854581c-6a0b-4442-a16f-1c5cf1fb1791",
   "metadata": {},
   "outputs": [],
   "source": [
    "df_y[\"d_apFlux_35_0_calMag\"] = df_y[\"dapFlux_35_0_calMag\"] - df_y[\"dapFlux_35_0_calMag\"].mean()\n",
    "df_z[\"d_apFlux_35_0_calMag\"] = df_z[\"dapFlux_35_0_calMag\"] - df_z[\"dapFlux_35_0_calMag\"].mean()\n",
    "df_g[\"d_apFlux_35_0_calMag\"] = df_g[\"dapFlux_35_0_calMag\"] - df_g[\"dapFlux_35_0_calMag\"].mean()\n",
    "df_r[\"d_apFlux_35_0_calMag\"] = df_r[\"dapFlux_35_0_calMag\"] - df_r[\"dapFlux_35_0_calMag\"].mean()"
   ]
  },
  {
   "cell_type": "code",
   "execution_count": null,
   "id": "6fad082f-3ef7-41f8-bfda-e328b1c58112",
   "metadata": {},
   "outputs": [],
   "source": [
    "df_y[\"d_apFlux_50_0_calMag\"] = df_y[\"dapFlux_50_0_calMag\"] - df_y[\"dapFlux_50_0_calMag\"].mean()\n",
    "df_z[\"d_apFlux_50_0_calMag\"] = df_z[\"dapFlux_50_0_calMag\"] - df_z[\"dapFlux_50_0_calMag\"].mean()\n",
    "df_g[\"d_apFlux_50_0_calMag\"] = df_g[\"dapFlux_50_0_calMag\"] - df_g[\"dapFlux_50_0_calMag\"].mean()\n",
    "df_r[\"d_apFlux_50_0_calMag\"] = df_r[\"dapFlux_50_0_calMag\"] - df_r[\"dapFlux_50_0_calMag\"].mean()"
   ]
  },
  {
   "cell_type": "code",
   "execution_count": null,
   "id": "3f7866e0-b685-4abd-9b68-15cc21d0c001",
   "metadata": {},
   "outputs": [],
   "source": [
    "fig,(ax1,ax2,ax3,ax4) = plt.subplots(4,1,figsize=(12,10),sharex=True,sharey=True)\n",
    "title = f\"psfFlux : AuxtelLightCurves multi-band tract = {tract} objidx = {objectname1}-{objectname2}\"\n",
    "ax1.errorbar(df_g.expMidptMJD,df_g.d_psfMag,yerr=df_g.dpsfMagErr,fmt=\"o\",color=\"g\",label=\"band g\")\n",
    "ax1.set_title(title)\n",
    "ax2.errorbar(df_r.expMidptMJD,df_r.d_psfMag,yerr=df_r.dpsfMagErr,fmt=\"o\",color=\"r\",label=\"band r\")\n",
    "ax3.errorbar(df_z.expMidptMJD,df_z.d_psfMag,yerr=df_z.dpsfMagErr,fmt=\"o\",color=\"grey\",label=\"band z\")\n",
    "ax4.errorbar(df_y.expMidptMJD,df_y.d_psfMag,yerr=df_y.dpsfMagErr,fmt=\"o\",color=\"k\",label=\"band y\")\n",
    "#df_r.plot.scatter(x=\"expMidptMJD\",y=\"d_psfMag\",ax=ax2,s=20,c=\"zeroPoint_x\",cmap=\"jet\",label=\"band r\",grid=True,rot=45)\n",
    "#df_z.plot.scatter(x=\"expMidptMJD\",y=\"d_psfMag\",ax=ax3,s=20,c=\"zeroPoint_x\",cmap=\"jet\",label=\"band z\",grid=True,rot=45)\n",
    "#df_y.plot.scatter(x=\"expMidptMJD\",y=\"d_psfMag\",ax=ax4,s=20,c=\"zeroPoint_x\",cmap=\"jet\",label=\"band y\",grid=True,rot=45)\n",
    "#plt.setp(ax1.get_xticklabels(), visible=False)\n",
    "#plt.setp(ax2.get_xticklabels(), visible=False)\n",
    "#plt.setp(ax3.get_xticklabels(), visible=False)\n",
    "#plt.setp(ax4.get_xticklabels(), visible=True)\n",
    "#ax4.tick_params(labelbottom=True)\n",
    "ax1.set_ylim(-0.04,0.04)\n",
    "ax1.grid()\n",
    "ax2.grid()\n",
    "ax3.grid()\n",
    "ax4.grid()\n",
    "ax1.legend()\n",
    "ax2.legend()\n",
    "ax3.legend()\n",
    "ax4.legend()\n",
    "ax4.set_xlabel(\"expMidptMJD\")\n",
    "ax1.set_ylabel(\"$\\Delta \\; psfMag$ (mag)\")\n",
    "ax2.set_ylabel(\"$\\Delta \\; psfMag$ (mag)\")\n",
    "ax3.set_ylabel(\"$\\Delta \\; psfMag$ (mag)\")\n",
    "ax4.set_ylabel(\"$\\Delta \\; psfMag$ (mag)\")\n",
    "ax1.axhline(0,color=\"k\")\n",
    "ax2.axhline(0,color=\"k\")\n",
    "ax3.axhline(0,color=\"k\")\n",
    "ax4.axhline(0,color=\"k\")\n",
    "plt.suptitle(suptitle)\n",
    "plt.tight_layout()\n",
    "plt.show()"
   ]
  },
  {
   "cell_type": "code",
   "execution_count": null,
   "id": "88084079-8754-4fc5-b193-323289431bad",
   "metadata": {},
   "outputs": [],
   "source": [
    "fig,(ax1,ax2,ax3,ax4) = plt.subplots(4,1,figsize=(12,10),sharex=True,sharey=True)\n",
    "title = f\"psfInstFlux : AuxtelLightCurves multi-band tract = {tract} objidx = {objectname1}-{objectname2}\"\n",
    "ax1.errorbar(df_g.expMidptMJD,df_g.d_psfMag,yerr=df_g.dpsfMagErr,fmt=\"o\",color=\"g\",label=\"band g\")\n",
    "ax1.set_title(title)\n",
    "ax2.errorbar(df_r.expMidptMJD,df_r.d_psfInstMag,yerr=df_r.dpsfMagErr,fmt=\"o\",color=\"r\",label=\"band r\")\n",
    "ax3.errorbar(df_z.expMidptMJD,df_z.d_psfInstMag,yerr=df_z.dpsfMagErr,fmt=\"o\",color=\"grey\",label=\"band z\")\n",
    "ax4.errorbar(df_y.expMidptMJD,df_y.d_psfInstMag,yerr=df_y.dpsfMagErr,fmt=\"o\",color=\"k\",label=\"band y\")\n",
    "#df_r.plot.scatter(x=\"expMidptMJD\",y=\"d_psfMag\",ax=ax2,s=20,c=\"zeroPoint_x\",cmap=\"jet\",label=\"band r\",grid=True,rot=45)\n",
    "#df_z.plot.scatter(x=\"expMidptMJD\",y=\"d_psfMag\",ax=ax3,s=20,c=\"zeroPoint_x\",cmap=\"jet\",label=\"band z\",grid=True,rot=45)\n",
    "#df_y.plot.scatter(x=\"expMidptMJD\",y=\"d_psfMag\",ax=ax4,s=20,c=\"zeroPoint_x\",cmap=\"jet\",label=\"band y\",grid=True,rot=45)\n",
    "#plt.setp(ax1.get_xticklabels(), visible=False)\n",
    "#plt.setp(ax2.get_xticklabels(), visible=False)\n",
    "#plt.setp(ax3.get_xticklabels(), visible=False)\n",
    "#plt.setp(ax4.get_xticklabels(), visible=True)\n",
    "#ax4.tick_params(labelbottom=True)\n",
    "ax1.set_ylim(-0.04,0.04)\n",
    "ax1.grid()\n",
    "ax2.grid()\n",
    "ax3.grid()\n",
    "ax4.grid()\n",
    "ax1.legend()\n",
    "ax2.legend()\n",
    "ax3.legend()\n",
    "ax4.legend()\n",
    "ax4.set_xlabel(\"expMidptMJD\")\n",
    "ax1.set_ylabel(\"$\\Delta \\; psfInstMag$ (mag)\")\n",
    "ax2.set_ylabel(\"$\\Delta \\; psfInstMag$ (mag)\")\n",
    "ax3.set_ylabel(\"$\\Delta \\; psfInstMag$ (mag)\")\n",
    "ax4.set_ylabel(\"$\\Delta \\; psfInstMag$ (mag)\")\n",
    "ax1.axhline(0,color=\"k\")\n",
    "ax2.axhline(0,color=\"k\")\n",
    "ax3.axhline(0,color=\"k\")\n",
    "ax4.axhline(0,color=\"k\")\n",
    "plt.suptitle(suptitle)\n",
    "plt.tight_layout()\n",
    "plt.show()"
   ]
  },
  {
   "cell_type": "code",
   "execution_count": null,
   "id": "bada5874-5a50-4bea-b7e8-3b0f50ec9db9",
   "metadata": {},
   "outputs": [],
   "source": [
    "fig,(ax1,ax2,ax3,ax4) = plt.subplots(4,1,figsize=(12,10),sharex=True,sharey=True)\n",
    "title = f\"Aperture Flux Ap35 : AuxtelLightCurves multi-band tract = {tract} objidx = {objectname1}-{objectname2}\"\n",
    "ax1.errorbar(df_g.expMidptMJD,df_g.d_apFlux_35_0_calMag,yerr=df_g.dapFlux_35_0_calMagErr,fmt=\"o\",color=\"g\",label=\"band g\")\n",
    "ax1.set_title(title)\n",
    "ax2.errorbar(df_r.expMidptMJD,df_r.d_apFlux_35_0_calMag,yerr=df_r.dapFlux_35_0_calMagErr,fmt=\"o\",color=\"r\",label=\"band r\")\n",
    "ax3.errorbar(df_z.expMidptMJD,df_z.d_apFlux_35_0_calMag,yerr=df_z.dapFlux_35_0_calMagErr,fmt=\"o\",color=\"grey\",label=\"band z\")\n",
    "ax4.errorbar(df_y.expMidptMJD,df_y.d_apFlux_35_0_calMag,yerr=df_y.dapFlux_35_0_calMagErr,fmt=\"o\",color=\"k\",label=\"band y\")\n",
    "#df_r.plot.scatter(x=\"expMidptMJD\",y=\"d_psfMag\",ax=ax2,s=20,c=\"zeroPoint_x\",cmap=\"jet\",label=\"band r\",grid=True,rot=45)\n",
    "#df_z.plot.scatter(x=\"expMidptMJD\",y=\"d_psfMag\",ax=ax3,s=20,c=\"zeroPoint_x\",cmap=\"jet\",label=\"band z\",grid=True,rot=45)\n",
    "#df_y.plot.scatter(x=\"expMidptMJD\",y=\"d_psfMag\",ax=ax4,s=20,c=\"zeroPoint_x\",cmap=\"jet\",label=\"band y\",grid=True,rot=45)\n",
    "#plt.setp(ax1.get_xticklabels(), visible=False)\n",
    "#plt.setp(ax2.get_xticklabels(), visible=False)\n",
    "#plt.setp(ax3.get_xticklabels(), visible=False)\n",
    "#plt.setp(ax4.get_xticklabels(), visible=True)\n",
    "#ax4.tick_params(labelbottom=True)\n",
    "ax1.set_ylim(-0.06,0.06)\n",
    "ax1.grid()\n",
    "ax2.grid()\n",
    "ax3.grid()\n",
    "ax4.grid()\n",
    "ax1.legend()\n",
    "ax2.legend()\n",
    "ax3.legend()\n",
    "ax4.legend()\n",
    "ax1.axhline(0,color=\"k\")\n",
    "ax2.axhline(0,color=\"k\")\n",
    "ax3.axhline(0,color=\"k\")\n",
    "ax4.axhline(0,color=\"k\")\n",
    "ax4.set_xlabel(\"expMidptMJD\")\n",
    "ax1.set_ylabel(\"$\\Delta \\; Ap35 Mag$ (mag)\")\n",
    "ax2.set_ylabel(\"$\\Delta \\; Ap35 Mag$ (mag)\")\n",
    "ax3.set_ylabel(\"$\\Delta \\; Ap35 Mag$ (mag)\")\n",
    "ax4.set_ylabel(\"$\\Delta \\; Ap35 Mag$ (mag)\")\n",
    "plt.suptitle(suptitle)\n",
    "plt.tight_layout()\n",
    "plt.show()"
   ]
  },
  {
   "cell_type": "code",
   "execution_count": null,
   "id": "90753400-ec56-469c-b681-02136fa3288b",
   "metadata": {},
   "outputs": [],
   "source": [
    "fig,(ax1,ax2,ax3,ax4) = plt.subplots(4,1,figsize=(12,10),sharex=True,sharey=True)\n",
    "title = f\"Aperture Flux Ap50 : AuxtelLightCurves multi-band tract = {tract} objidx = {objectname1}-{objectname2}\"\n",
    "ax1.errorbar(df_g.expMidptMJD,df_g.d_apFlux_50_0_calMag,yerr=df_g.dapFlux_50_0_calMagErr,fmt=\"o\",color=\"g\",label=\"band g\")\n",
    "ax1.set_title(title)\n",
    "ax2.errorbar(df_r.expMidptMJD,df_r.d_apFlux_50_0_calMag,yerr=df_r.dapFlux_50_0_calMagErr,fmt=\"o\",color=\"r\",label=\"band r\")\n",
    "ax3.errorbar(df_z.expMidptMJD,df_z.d_apFlux_50_0_calMag,yerr=df_z.dapFlux_50_0_calMagErr,fmt=\"o\",color=\"grey\",label=\"band z\")\n",
    "ax4.errorbar(df_y.expMidptMJD,df_y.d_apFlux_50_0_calMag,yerr=df_y.dapFlux_50_0_calMagErr,fmt=\"o\",color=\"k\",label=\"band y\")\n",
    "#df_r.plot.scatter(x=\"expMidptMJD\",y=\"d_psfMag\",ax=ax2,s=20,c=\"zeroPoint_x\",cmap=\"jet\",label=\"band r\",grid=True,rot=45)\n",
    "#df_z.plot.scatter(x=\"expMidptMJD\",y=\"d_psfMag\",ax=ax3,s=20,c=\"zeroPoint_x\",cmap=\"jet\",label=\"band z\",grid=True,rot=45)\n",
    "#df_y.plot.scatter(x=\"expMidptMJD\",y=\"d_psfMag\",ax=ax4,s=20,c=\"zeroPoint_x\",cmap=\"jet\",label=\"band y\",grid=True,rot=45)\n",
    "#plt.setp(ax1.get_xticklabels(), visible=False)\n",
    "#plt.setp(ax2.get_xticklabels(), visible=False)\n",
    "#plt.setp(ax3.get_xticklabels(), visible=False)\n",
    "#plt.setp(ax4.get_xticklabels(), visible=True)\n",
    "#ax4.tick_params(labelbottom=True)\n",
    "ax1.set_ylim(-0.06,0.06)\n",
    "ax1.grid()\n",
    "ax2.grid()\n",
    "ax3.grid()\n",
    "ax4.grid()\n",
    "ax1.legend()\n",
    "ax2.legend()\n",
    "ax3.legend()\n",
    "ax4.legend()\n",
    "ax4.set_xlabel(\"expMidptMJD\")\n",
    "ax1.set_ylabel(\"$\\Delta \\; Ap50 Mag$ (mag)\")\n",
    "ax2.set_ylabel(\"$\\Delta \\; Ap50 Mag$ (mag)\")\n",
    "ax3.set_ylabel(\"$\\Delta \\; Ap50 Mag$ (mag)\")\n",
    "ax4.set_ylabel(\"$\\Delta \\; Ap50 Mag$ (mag)\")\n",
    "ax1.axhline(0,color=\"k\")\n",
    "ax2.axhline(0,color=\"k\")\n",
    "ax3.axhline(0,color=\"k\")\n",
    "ax4.axhline(0,color=\"k\")\n",
    "plt.suptitle(suptitle)\n",
    "plt.tight_layout()\n",
    "plt.show()"
   ]
  },
  {
   "cell_type": "markdown",
   "id": "5d623aec-fd52-40e1-9277-c167bd12dcd2",
   "metadata": {
    "execution": {
     "iopub.status.busy": "2024-06-18T14:50:00.191008Z",
     "iopub.status.idle": "2024-06-18T14:50:00.191164Z",
     "shell.execute_reply": "2024-06-18T14:50:00.191093Z",
     "shell.execute_reply.started": "2024-06-18T14:50:00.191087Z"
    }
   },
   "source": [
    "## Neighbouring visits"
   ]
  },
  {
   "cell_type": "markdown",
   "id": "cce60199-11d3-4a26-9437-f52c8fc5c7b9",
   "metadata": {},
   "source": [
    "### band 1 : Group by NightObs and bands"
   ]
  },
  {
   "cell_type": "code",
   "execution_count": null,
   "id": "081cd0f5-afb2-407b-b9b8-61753bcf8d8c",
   "metadata": {},
   "outputs": [],
   "source": [
    "groups_obs_size1 = df_myselectedvisits1.groupby(by=[\"nightObs\",\"band\"]).size()"
   ]
  },
  {
   "cell_type": "code",
   "execution_count": null,
   "id": "fdbc2b5f-e076-461e-a01f-948e25dbd84a",
   "metadata": {},
   "outputs": [],
   "source": [
    "groups_obs_size1"
   ]
  },
  {
   "cell_type": "markdown",
   "id": "b7287cc6-9f29-414c-90b6-3f278125a9c4",
   "metadata": {},
   "source": [
    "### band 1 : Group by NightObs and bands unstacked into a pandas dataframe"
   ]
  },
  {
   "cell_type": "code",
   "execution_count": null,
   "id": "a902109c-e77e-4fd8-abc5-a5c04d9222e9",
   "metadata": {},
   "outputs": [],
   "source": [
    "df_groups_obs_size1 = groups_obs_size1.unstack()\n",
    "df_groups_obs_size1"
   ]
  },
  {
   "cell_type": "markdown",
   "id": "685abd24-68da-4b23-ba86-dc2d8b525fd4",
   "metadata": {},
   "source": [
    "### band 1 : Group by NightObs and band and Visit"
   ]
  },
  {
   "cell_type": "code",
   "execution_count": null,
   "id": "4cd75f05-b733-43ac-8c03-7ae0c367490f",
   "metadata": {},
   "outputs": [],
   "source": [
    "groups_obs_visit1 = df_myselectedvisits1.groupby(by=[\"nightObs\",\"band\",\"visit\"]).agg(time = (\"Time\",\"mean\") ,psfMean = (\"psfMag\",\"mean\"),apFlux_50_0_instFlux = (\"apFlux_50_0_instFlux\",\"mean\"))\n",
    "groups_obs_visit1 "
   ]
  },
  {
   "cell_type": "markdown",
   "id": "5a267dc2-7254-4b75-a951-810fb48a1bd2",
   "metadata": {},
   "source": [
    "### band 1 : Group by NightObs and visit and separate into different dataframe band by band"
   ]
  },
  {
   "cell_type": "code",
   "execution_count": null,
   "id": "952b0dc7-ce98-4b01-b9a5-6c08475d1b59",
   "metadata": {},
   "outputs": [],
   "source": [
    "groups_obs_bandg_visit1 = df_myselectedvisits_g1.groupby([\"nightObs\",\"visit\"]).agg(time = (\"Time\",\"mean\"))\n",
    "groups_obs_bandr_visit1 = df_myselectedvisits_r1.groupby([\"nightObs\",\"visit\"]).agg(time = (\"Time\",\"mean\"))\n",
    "groups_obs_bandz_visit1 = df_myselectedvisits_z1.groupby([\"nightObs\",\"visit\"]).agg(time = (\"Time\",\"mean\"))\n",
    "groups_obs_bandy_visit1 = df_myselectedvisits_y1.groupby([\"nightObs\",\"visit\"]).agg(time = (\"Time\",\"mean\"))"
   ]
  },
  {
   "cell_type": "code",
   "execution_count": null,
   "id": "aa558a4d-9da3-418a-9ed3-8db683cfc8ce",
   "metadata": {},
   "outputs": [],
   "source": [
    "groups_obs_bandg_visit2 = df_myselectedvisits_g2.groupby([\"nightObs\",\"visit\"]).agg(time = (\"Time\",\"mean\"))\n",
    "groups_obs_bandr_visit2 = df_myselectedvisits_r2.groupby([\"nightObs\",\"visit\"]).agg(time = (\"Time\",\"mean\"))\n",
    "groups_obs_bandz_visit2 = df_myselectedvisits_z2.groupby([\"nightObs\",\"visit\"]).agg(time = (\"Time\",\"mean\"))\n",
    "groups_obs_bandy_visit2 = df_myselectedvisits_y2.groupby([\"nightObs\",\"visit\"]).agg(time = (\"Time\",\"mean\"))"
   ]
  },
  {
   "cell_type": "code",
   "execution_count": null,
   "id": "68202f76-23e2-4aa8-ba7f-3b7539ac0a24",
   "metadata": {},
   "outputs": [],
   "source": [
    "groups_obs_bandz_visit1.iloc[:5]"
   ]
  },
  {
   "cell_type": "code",
   "execution_count": null,
   "id": "005deaa9-5020-4847-9df2-e95382a45e56",
   "metadata": {},
   "outputs": [],
   "source": [
    "groups_obs_bandz_visit2.iloc[:5]"
   ]
  },
  {
   "cell_type": "markdown",
   "id": "7e469adf-1133-4a5a-ac66-3baf2dd2b0ce",
   "metadata": {
    "execution": {
     "iopub.execute_input": "2024-06-08T14:17:48.416015Z",
     "iopub.status.busy": "2024-06-08T14:17:48.415706Z",
     "iopub.status.idle": "2024-06-08T14:17:49.020027Z",
     "shell.execute_reply": "2024-06-08T14:17:49.019705Z",
     "shell.execute_reply.started": "2024-06-08T14:17:48.416000Z"
    }
   },
   "source": [
    "## Process night-per night, band by band\n",
    "\n",
    "We want to associate pairs of observations in different bands:\n",
    "\n",
    "- visits in g with visits in r,z,y\n",
    "- visits in r with visits in z,y\n",
    "- visits in z with visits in y"
   ]
  },
  {
   "cell_type": "markdown",
   "id": "6505fa3f-7a20-46e2-b3c9-409c9ae42ae2",
   "metadata": {},
   "source": [
    "### Process band g and r"
   ]
  },
  {
   "cell_type": "code",
   "execution_count": null,
   "id": "ab6ab1ca-f978-4cbb-9ea4-1b941924e7c6",
   "metadata": {},
   "outputs": [],
   "source": [
    "dfg_r = closestvisit(groups_obs_bandg_visit1,groups_obs_bandr_visit2)\n",
    "#dfg_r.drop(labels=\"deltat\", axis=1,inplace=True)\n",
    "dfg_r.columns = [\"nightObs_r\",\"visit_r\",\"time_r\",\"dtsec_r\"]\n",
    "dfg_r.dropna(axis=1,how=\"any\",inplace=True)"
   ]
  },
  {
   "cell_type": "code",
   "execution_count": null,
   "id": "d3e187e2-11f7-4b60-907d-12f094399048",
   "metadata": {},
   "outputs": [],
   "source": [
    "dfg_r.head()"
   ]
  },
  {
   "cell_type": "code",
   "execution_count": null,
   "id": "d380d55d-5f0a-447a-94b8-0ee803dcc0ed",
   "metadata": {},
   "outputs": [],
   "source": [
    "groups_obs_bandg_visit1.join(dfg_r)"
   ]
  },
  {
   "cell_type": "markdown",
   "id": "61e37396-a7da-4ad0-a71e-0bc7f685a135",
   "metadata": {},
   "source": [
    "### Process band g and z"
   ]
  },
  {
   "cell_type": "code",
   "execution_count": null,
   "id": "7b699911-d4aa-4944-9566-31f3bf1d4a9a",
   "metadata": {},
   "outputs": [],
   "source": [
    "dfg_z = closestvisit(groups_obs_bandg_visit1,groups_obs_bandz_visit2)\n",
    "#dfg_z.drop(labels=\"deltat\", axis=1,inplace=True)\n",
    "dfg_z.columns = [\"nightObs_z\",\"visit_z\",\"time_z\",\"dtsec_z\"]\n",
    "dfg_z.dropna(axis=1,how=\"any\",inplace=True)"
   ]
  },
  {
   "cell_type": "code",
   "execution_count": null,
   "id": "07b0ff74-4dc0-4ae7-8e17-c6a840a4ce9c",
   "metadata": {},
   "outputs": [],
   "source": [
    "dfg_z.head(n=10)"
   ]
  },
  {
   "cell_type": "markdown",
   "id": "f53a4530-ebc0-47be-90a5-b230984531b8",
   "metadata": {},
   "source": [
    "### Process band g and y"
   ]
  },
  {
   "cell_type": "code",
   "execution_count": null,
   "id": "83ff897d-a1a3-4d3c-b9c0-9ed353662c14",
   "metadata": {},
   "outputs": [],
   "source": [
    "dfg_y = closestvisit(groups_obs_bandg_visit1,groups_obs_bandy_visit2)\n",
    "#dfg_y.drop(labels=\"deltat\", axis=1,inplace=True)\n",
    "dfg_y.columns = [\"nightObs_y\",\"visit_y\",\"time_y\",\"dtsec_y\"]\n",
    "dfg_y.dropna(axis=1,how=\"any\",inplace=True)"
   ]
  },
  {
   "cell_type": "code",
   "execution_count": null,
   "id": "315499ad-ab65-406b-93d2-a63fe3c57eda",
   "metadata": {},
   "outputs": [],
   "source": [
    "dfg_y.head()"
   ]
  },
  {
   "cell_type": "markdown",
   "id": "96f594d0-facb-498d-8361-0c550d481ee0",
   "metadata": {},
   "source": [
    "### Concatenation g with r,z,y"
   ]
  },
  {
   "cell_type": "code",
   "execution_count": null,
   "id": "15020b19-6425-4deb-92a9-6cf9a67f5bc2",
   "metadata": {},
   "outputs": [],
   "source": [
    "dfg_rzy = pd.concat([groups_obs_bandg_visit1,dfg_r,dfg_z,dfg_y],axis=1)"
   ]
  },
  {
   "cell_type": "code",
   "execution_count": null,
   "id": "abcc54cb-6791-4af8-8259-1185572a2a96",
   "metadata": {},
   "outputs": [],
   "source": [
    "dfg_rzy.head() "
   ]
  },
  {
   "cell_type": "markdown",
   "id": "4a0f5712-72a9-4eb6-a755-a76ebc28a02b",
   "metadata": {},
   "source": [
    "### Process band r and z"
   ]
  },
  {
   "cell_type": "code",
   "execution_count": null,
   "id": "0a95a577-af7c-49f5-a02c-490b565258e7",
   "metadata": {},
   "outputs": [],
   "source": [
    "dfr_z = closestvisit(groups_obs_bandr_visit1,groups_obs_bandz_visit2)\n",
    "#dfr_z.drop(labels=\"deltat\", axis=1,inplace=True)\n",
    "dfr_z.columns = [\"nightObs_z\",\"visit_z\",\"time_z\",\"dtsec_z\"]\n",
    "dfr_z.dropna(axis=1,how=\"any\",inplace=True)"
   ]
  },
  {
   "cell_type": "code",
   "execution_count": null,
   "id": "c4eaac47-3b32-43c2-a863-0ea350db49a1",
   "metadata": {},
   "outputs": [],
   "source": [
    "dfr_z.head()"
   ]
  },
  {
   "cell_type": "markdown",
   "id": "d2080d60-f375-410f-81ff-de7a4f58633d",
   "metadata": {},
   "source": [
    "### Process band r and y"
   ]
  },
  {
   "cell_type": "code",
   "execution_count": null,
   "id": "1ea08129-ec88-4fb4-b54c-bae79115ae73",
   "metadata": {},
   "outputs": [],
   "source": [
    "dfr_y = closestvisit(groups_obs_bandr_visit1,groups_obs_bandy_visit2)\n",
    "#dfr_y.drop(labels=\"deltat\", axis=1,inplace=True)\n",
    "dfr_y.columns = [\"nightObs_y\",\"visit_y\",\"time_y\",\"dtsec_y\"]\n",
    "dfr_y.dropna(axis=1,how=\"any\",inplace=True)"
   ]
  },
  {
   "cell_type": "code",
   "execution_count": null,
   "id": "eb2966c2-2d33-48f6-ac67-f353ba050078",
   "metadata": {},
   "outputs": [],
   "source": [
    "dfr_y.head(n=10)"
   ]
  },
  {
   "cell_type": "markdown",
   "id": "6786ae1a-19a4-4f0d-a5b4-b5d9fab2d987",
   "metadata": {},
   "source": [
    "### Concatenation of r with z,y"
   ]
  },
  {
   "cell_type": "code",
   "execution_count": null,
   "id": "5d4ca1c5-9199-45d8-bc61-6b0f8069973b",
   "metadata": {},
   "outputs": [],
   "source": [
    "dfr_zy = pd.concat([groups_obs_bandr_visit1,dfr_z,dfr_y],axis=1)"
   ]
  },
  {
   "cell_type": "code",
   "execution_count": null,
   "id": "5db6cbb8-2a5a-47fe-822e-609a3153db94",
   "metadata": {},
   "outputs": [],
   "source": [
    "dfr_zy.head()"
   ]
  },
  {
   "cell_type": "markdown",
   "id": "0f5876b8-a23b-4c3a-8893-40fb9833fe85",
   "metadata": {},
   "source": [
    "### Process band z and y"
   ]
  },
  {
   "cell_type": "code",
   "execution_count": null,
   "id": "aefcd09f-d838-41c2-bbea-b2e039982899",
   "metadata": {},
   "outputs": [],
   "source": [
    "dfz_y = closestvisit(groups_obs_bandz_visit1,groups_obs_bandy_visit2)\n",
    "#dfz_y.drop(labels=\"deltat\", axis=1,inplace=True)\n",
    "dfz_y.columns = [\"nightObs_y\",\"visit_y\",\"time_y\",\"dtsec_y\"]\n",
    "dfz_y.dropna(axis=1,how=\"any\",inplace=True)"
   ]
  },
  {
   "cell_type": "code",
   "execution_count": null,
   "id": "92a5237f-764b-446f-973c-98e71b689296",
   "metadata": {},
   "outputs": [],
   "source": [
    "dfz_y.head(n=10)"
   ]
  },
  {
   "cell_type": "markdown",
   "id": "502036eb-f484-4f7c-ae38-567d841c76dc",
   "metadata": {},
   "source": [
    "### Concatenate z with y\n",
    "-  (2023112100560,2023112100561) \t \t\n",
    "-  (2023112700311,2023112700312) "
   ]
  },
  {
   "cell_type": "code",
   "execution_count": null,
   "id": "f899d996-733f-4aea-a707-942ce8e4c7e0",
   "metadata": {},
   "outputs": [],
   "source": [
    "dfz_y = pd.concat([groups_obs_bandz_visit1,dfz_y],axis=1)"
   ]
  },
  {
   "cell_type": "code",
   "execution_count": null,
   "id": "e540e6d2-21ea-4ef4-b25d-2b2ac56533ef",
   "metadata": {},
   "outputs": [],
   "source": [
    "# select with the hour\n",
    "dfz_y = dfz_y[np.abs(dfz_y.dtsec_y)<3600]\n",
    "dfz_y.head(n=10)"
   ]
  },
  {
   "cell_type": "markdown",
   "id": "c9aade7e-394e-4241-b8d6-a0ace29b06fa",
   "metadata": {},
   "source": [
    "## Fetch a pair of  stars"
   ]
  },
  {
   "cell_type": "code",
   "execution_count": null,
   "id": "aa01b4b4-2899-4ce2-9a53-ba0b5aaa41bf",
   "metadata": {},
   "outputs": [],
   "source": [
    "df_z.head(n=10)[[\"nightObs\",\"visit\"]]"
   ]
  },
  {
   "cell_type": "code",
   "execution_count": null,
   "id": "d890e35f-10b6-444b-a9ac-20ef5bd4405d",
   "metadata": {},
   "outputs": [],
   "source": [
    "df_y.head(n=10)[[\"nightObs\",\"visit\"]]"
   ]
  },
  {
   "cell_type": "markdown",
   "id": "63ce58db-8764-44c5-94d4-f9010a8b231e",
   "metadata": {},
   "source": [
    "## Differential colors study (star 1 - star 2)"
   ]
  },
  {
   "cell_type": "markdown",
   "id": "a5fa74a5-870b-432d-935c-d62d9923799a",
   "metadata": {},
   "source": [
    "### Build color ratio in G and R band"
   ]
  },
  {
   "cell_type": "markdown",
   "id": "a354ee52-7aa5-46d2-85ce-4a91c30f1603",
   "metadata": {},
   "source": [
    "### G and R band colors"
   ]
  },
  {
   "cell_type": "code",
   "execution_count": null,
   "id": "ca68f5de-ee71-4ac4-9a4e-88bd2c211034",
   "metadata": {},
   "outputs": [],
   "source": [
    "dfg_r = dfg_rzy[[\"time\",\"nightObs_r\",\"visit_r\",\"time_r\",\"dtsec_r\"]] \n",
    "dfg_r.head()"
   ]
  },
  {
   "cell_type": "markdown",
   "id": "3bad50be-2f71-4097-b842-5e07913b9d9c",
   "metadata": {},
   "source": [
    "#### Select pairs in g,r within 1 minute"
   ]
  },
  {
   "cell_type": "code",
   "execution_count": null,
   "id": "3cb555e9-00b5-46fa-970a-affc38d2626b",
   "metadata": {},
   "outputs": [],
   "source": [
    "dfg_r_sel = dfg_r[np.abs(dfg_r[\"dtsec_r\"])<60]\n",
    "dfg_r_sel.head() "
   ]
  },
  {
   "cell_type": "markdown",
   "id": "2a384a7e-36b3-481f-b97f-9738d6b4d2f6",
   "metadata": {},
   "source": [
    "# Loop over band pairs exposures nearby in time to calculate colors and relative colors of two stars "
   ]
  },
  {
   "cell_type": "code",
   "execution_count": null,
   "id": "1782d18c-22cf-43e6-9c86-5e43e4ea70b5",
   "metadata": {},
   "outputs": [],
   "source": [
    "df_g.head()"
   ]
  },
  {
   "cell_type": "code",
   "execution_count": null,
   "id": "aa619e5d-f2e0-43bb-a8ea-7878208ed330",
   "metadata": {},
   "outputs": [],
   "source": []
  },
  {
   "cell_type": "code",
   "execution_count": null,
   "id": "b3e28e7d-6398-44f2-bd86-72eb62b3f2c9",
   "metadata": {},
   "outputs": [],
   "source": [
    "#df_col_gr = GetFluxes2StarsTwoBands(\"g\",\"r\",dfg_r_sel,df_g,df_r)\n",
    "df_col_gr = GetFluxes2StarsTwoBandsNoCutout(\"g\",\"r\",dfg_r_sel,df_g,df_r)"
   ]
  },
  {
   "cell_type": "code",
   "execution_count": null,
   "id": "e28f2ff0-dcd9-49e9-8833-b0c2d3b82099",
   "metadata": {},
   "outputs": [],
   "source": [
    "df_col_gr.head()"
   ]
  },
  {
   "cell_type": "code",
   "execution_count": null,
   "id": "3b8aa47e-9c7e-4380-aac9-cd0eac8075f7",
   "metadata": {},
   "outputs": [],
   "source": [
    "from matplotlib.dates import DateFormatter\n",
    "date_form = DateFormatter(\"%y-%m-%dT%H:%M\")\n",
    "fig,axs = plt.subplots(2,1,figsize=(14,8),sharex=True)\n",
    "ax1,ax2  = axs\n",
    "df_spec.plot(x=\"Time\",y=\"PWV [mm]_x\",ax=ax1,marker='+',c=\"r\",lw=0.0,grid=True,label=\"spectro PWV_x\")\n",
    "df_col_gr.plot(x=\"time1\",y=\"apcol12_s12\",ax=ax2,marker=\"o\",c=\"b\",lw=0.0,grid=True,label=\"rel. color difference G -R \")\n",
    "ax2.errorbar(df_col_gr.time1,df_col_gr.apcol12_s12,yerr=df_col_gr.apcol12Err_s12,color=\"b\",ecolor=\"k\",fmt=\"o\")\n",
    "ax2.set_xlabel(\"time1\")\n",
    "ax2.xaxis.set_major_formatter(date_form)\n",
    "\n",
    "tmin = df_col_gr[\"time1\"].min()\n",
    "tmax = df_col_gr[\"time1\"].max()\n",
    "dt = tmax-tmin\n",
    "tmin = tmin-dt/10\n",
    "tmax = tmax+dt/10\n",
    "\n",
    "ax2.set_xlim(tmin,tmax)\n",
    "ax1.legend(loc=\"upper left\")\n",
    "ax1.set_ylabel(\"PWV (mm)\")\n",
    "ax2.legend(loc=\"upper left\")\n",
    "ax2.set_ylabel(\"Ap35: $|(G-R)_1-(G-R)_2|$\")\n",
    "title = f\"objects {objectname1},{objectname2} : \" + suptitle\n",
    "plt.suptitle(title,y=0.9)"
   ]
  },
  {
   "cell_type": "markdown",
   "id": "4887841e-3e89-44e1-a82e-c4df1de49959",
   "metadata": {},
   "source": [
    "### G - Y bands"
   ]
  },
  {
   "cell_type": "code",
   "execution_count": null,
   "id": "82123934-b167-475a-82cc-2eade60340cf",
   "metadata": {},
   "outputs": [],
   "source": [
    "dfg_y = dfg_rzy[[\"time\",\"nightObs_y\",\"visit_y\",\"time_y\",\"dtsec_y\"]] \n",
    "dfg_y.head()"
   ]
  },
  {
   "cell_type": "markdown",
   "id": "021a95c3-d904-43eb-acc4-de4eba892ef2",
   "metadata": {},
   "source": [
    "#### select close measurement in time"
   ]
  },
  {
   "cell_type": "code",
   "execution_count": null,
   "id": "a6d4db37-a025-42a2-a28e-063c90ba60aa",
   "metadata": {},
   "outputs": [],
   "source": [
    "dfg_y_sel = dfg_y[np.abs(dfg_y[\"dtsec_y\"]<3600)]"
   ]
  },
  {
   "cell_type": "code",
   "execution_count": null,
   "id": "d3a2e1c2-e59f-40cc-9d09-0e2ba793d2d1",
   "metadata": {},
   "outputs": [],
   "source": [
    "dfg_y_sel.head()"
   ]
  },
  {
   "cell_type": "code",
   "execution_count": null,
   "id": "840b45a7-ff5b-45f4-a8e6-216391f84f36",
   "metadata": {},
   "outputs": [],
   "source": [
    "#df_col_gy = GetFluxes2StarsTwoBands(\"g\",\"y\",dfg_y_sel,df_g,df_y)\n",
    "df_col_gy = GetFluxes2StarsTwoBandsNoCutout(\"g\",\"y\",dfg_y_sel,df_g,df_y)"
   ]
  },
  {
   "cell_type": "code",
   "execution_count": null,
   "id": "b986ce8b-906e-42af-9ba2-1e430388b222",
   "metadata": {},
   "outputs": [],
   "source": [
    "df_col_gy.head()"
   ]
  },
  {
   "cell_type": "code",
   "execution_count": null,
   "id": "b6ce6b3c-a2d4-4dc5-94a7-b9be765a119c",
   "metadata": {},
   "outputs": [],
   "source": [
    "from matplotlib.dates import DateFormatter\n",
    "date_form = DateFormatter(\"%y-%m-%dT%H:%M\")\n",
    "fig,axs = plt.subplots(2,1,figsize=(14,8),sharex=True)\n",
    "ax1,ax2  = axs\n",
    "df_spec.plot(x=\"Time\",y=\"PWV [mm]_x\",ax=ax1,marker='+',c=\"r\",lw=0.0,grid=True,label=\"spectro PWV_x\")\n",
    "df_col_gy.plot(x=\"time1\",y=\"apcol12_s12\",ax=ax2,marker=\"o\",c=\"b\",lw=0.0,grid=True,label=\"rel. color difference G - Y \")\n",
    "ax2.errorbar(df_col_gy.time1,df_col_gy.apcol12_s12,yerr=df_col_gy.apcol12Err_s12,color=\"b\",ecolor=\"k\",fmt=\"o\")\n",
    "ax2.set_xlabel(\"time1\")\n",
    "ax2.xaxis.set_major_formatter(date_form)\n",
    "\n",
    "tmin = df_col_gy[\"time1\"].min()\n",
    "tmax = df_col_gy[\"time1\"].max()\n",
    "dt = tmax-tmin\n",
    "tmin = tmin-dt/10\n",
    "tmax = tmax+dt/10\n",
    "\n",
    "ax2.set_xlim(tmin,tmax)\n",
    "ax1.legend(loc=\"upper left\")\n",
    "ax1.set_ylabel(\"PWV (mm)\")\n",
    "ax2.legend(loc=\"upper left\")\n",
    "ax2.set_ylabel(\"Ap35 : $|(G-Y)_1-(G-Y)_2|$\")\n",
    "title = f\"objects {objectname1},{objectname2} : \" + suptitle\n",
    "plt.suptitle(title,y=0.9)"
   ]
  },
  {
   "cell_type": "markdown",
   "id": "87fea7d6-ef6b-47cf-93ea-24170e5f88cf",
   "metadata": {},
   "source": [
    "### R - Y bands"
   ]
  },
  {
   "cell_type": "code",
   "execution_count": null,
   "id": "9b415251-e5de-42b3-adc5-2243171dff7f",
   "metadata": {},
   "outputs": [],
   "source": [
    "dfr_y = dfr_zy[[\"time\",\"nightObs_y\",\"visit_y\",\"time_y\",\"dtsec_y\"]] \n",
    "dfr_y.head()"
   ]
  },
  {
   "cell_type": "code",
   "execution_count": null,
   "id": "6fbe9d31-f80a-445a-b655-da8549748a4a",
   "metadata": {},
   "outputs": [],
   "source": [
    "dfr_y_sel = dfr_y[np.abs(dfr_y[\"dtsec_y\"])<3600]"
   ]
  },
  {
   "cell_type": "code",
   "execution_count": null,
   "id": "aefcac99-7800-4587-8ff8-1e3e9cea8be9",
   "metadata": {},
   "outputs": [],
   "source": [
    "#df_col_ry = GetFluxes2StarsTwoBands(\"r\",\"y\",dfr_y_sel,df_r,df_y)\n",
    "df_col_ry = GetFluxes2StarsTwoBandsNoCutout(\"r\",\"y\",dfr_y_sel,df_r,df_y)"
   ]
  },
  {
   "cell_type": "code",
   "execution_count": null,
   "id": "002e1b59-5990-4202-937e-bebafaf371de",
   "metadata": {},
   "outputs": [],
   "source": [
    "df_col_ry.head() "
   ]
  },
  {
   "cell_type": "code",
   "execution_count": null,
   "id": "b93980bd-33ee-4a9e-9299-bd3a829e062b",
   "metadata": {},
   "outputs": [],
   "source": [
    "df_col_ry = df_col_ry[np.abs(df_col_ry[\"dt\"])<3600]"
   ]
  },
  {
   "cell_type": "code",
   "execution_count": null,
   "id": "c97b8b88-a1de-42aa-8752-8590806f2ec3",
   "metadata": {},
   "outputs": [],
   "source": [
    "from matplotlib.dates import DateFormatter\n",
    "date_form = DateFormatter(\"%y-%m-%dT%H:%M\")\n",
    "fig,axs = plt.subplots(2,1,figsize=(14,8),sharex=True)\n",
    "ax1,ax2  = axs\n",
    "df_spec.plot(x=\"Time\",y=\"PWV [mm]_x\",ax=ax1,marker='+',c=\"r\",lw=0.0,grid=True,label=\"spectro PWV_x\")\n",
    "df_col_ry.plot(x=\"time1\",y=\"apcol12_s12\",ax=ax2,marker=\"o\",c=\"b\",lw=0.0,grid=True,label=\"rel. color difference R -Y \")\n",
    "ax2.errorbar(df_col_ry.time1,df_col_ry.apcol12_s12,yerr=df_col_ry.apcol12Err_s12,color=\"b\",ecolor=\"k\",fmt=\"o\")\n",
    "ax2.set_xlabel(\"time1\")\n",
    "ax2.xaxis.set_major_formatter(date_form)\n",
    "\n",
    "tmin = df_col_gy[\"time1\"].min()\n",
    "tmax = df_col_gy[\"time1\"].max()\n",
    "dt = tmax-tmin\n",
    "tmin = tmin-dt/10\n",
    "tmax = tmax+dt/10\n",
    "\n",
    "ax2.set_xlim(tmin,tmax)\n",
    "\n",
    "ax1.legend(loc=\"upper left\")\n",
    "ax1.set_ylabel(\"PWV (mm)\")\n",
    "ax2.legend(loc=\"upper left\")\n",
    "ax2.set_ylabel(\"Ap35: $|(R-Y)_1-(R-Y)_2|$\")\n",
    "title = f\"objects {objectname1},{objectname2} : \" + suptitle\n",
    "plt.suptitle(title,y=0.9)"
   ]
  },
  {
   "cell_type": "markdown",
   "id": "3f015388-102a-4828-b413-48cd7af027a3",
   "metadata": {},
   "source": [
    "### Z - Y bands"
   ]
  },
  {
   "cell_type": "code",
   "execution_count": null,
   "id": "a1020d32-4389-48e3-8f33-bf7357ccf660",
   "metadata": {},
   "outputs": [],
   "source": [
    "#dfz_y = dfz_y[[\"time\",\"nightObs_y\",\"visit_y\",\"time_y\",\"dtsec_y\"]] \n",
    "dfz_y.head()"
   ]
  },
  {
   "cell_type": "code",
   "execution_count": null,
   "id": "5494ce58-e1b3-4d84-8bf0-1556e64aee69",
   "metadata": {},
   "outputs": [],
   "source": [
    "dfz_y_sel = dfz_y[np.abs(dfz_y[\"dtsec_y\"])<3600]"
   ]
  },
  {
   "cell_type": "code",
   "execution_count": null,
   "id": "105d5b07-a9c0-4f0e-8d08-fa2713f34b2e",
   "metadata": {},
   "outputs": [],
   "source": [
    "#dfz_y_sel"
   ]
  },
  {
   "cell_type": "code",
   "execution_count": null,
   "id": "dfdefeb8-71a5-4377-a3b0-2a7fb2d4c319",
   "metadata": {},
   "outputs": [],
   "source": [
    "#df_col_zy = GetFluxes2StarsTwoBands(\"z\",\"y\",dfz_y_sel,df_z,df_y)\n",
    "df_col_zy = GetFluxes2StarsTwoBandsNoCutout(\"z\",\"y\",dfz_y_sel,df_z,df_y)"
   ]
  },
  {
   "cell_type": "code",
   "execution_count": null,
   "id": "427ae5f6-ad67-40cf-ab32-d635dd578ec0",
   "metadata": {},
   "outputs": [],
   "source": [
    "df_col_zy = df_col_zy[np.abs(df_col_zy[\"dt\"])<3600]"
   ]
  },
  {
   "cell_type": "code",
   "execution_count": null,
   "id": "87af0501-768a-4590-8c13-a74a7320dbb3",
   "metadata": {},
   "outputs": [],
   "source": [
    "from matplotlib.dates import DateFormatter\n",
    "date_form = DateFormatter(\"%y-%m-%dT%H:%M\")\n",
    "date_form = DateFormatter(\"%y-%m-%dT%H\")\n",
    "fig,axs = plt.subplots(2,1,figsize=(14,8),sharex=True)\n",
    "ax1,ax2  = axs\n",
    "df_spec.plot(x=\"Time\",y=\"PWV [mm]_x\",ax=ax1,marker='+',c=\"r\",lw=0.0,grid=True,label=\"spectro PWV_x\")\n",
    "df_col_zy.plot(x=\"time1\",y=\"psfcol12_s12\",ax=ax2,marker=\"o\",c=\"b\",lw=0.0,grid=True,label=\"rel. color difference Z - Y\")\n",
    "ax2.errorbar(df_col_zy.time1,df_col_zy.psfcol12_s12,yerr=df_col_zy.psfcol12Err_s12,color=\"b\",ecolor=\"k\",fmt=\"o\")\n",
    "ax2.set_xlabel(\"time1\")\n",
    "ax2.xaxis.set_major_formatter(date_form)\n",
    "\n",
    "tmin = df_col_zy[\"time1\"].min()\n",
    "tmax = df_col_zy[\"time1\"].max()\n",
    "dt = tmax-tmin\n",
    "tmin = tmin-dt/10\n",
    "tmax = tmax+dt/10\n",
    "\n",
    "ax2.set_xlim(tmin,tmax)\n",
    "ax1.legend(loc=\"upper left\")\n",
    "ax1.set_ylabel(\"PWV (mm)\")\n",
    "ax2.legend(loc=\"upper left\")\n",
    "ax2.set_ylabel(\"PSF : $|(Z-Y)_1-(Z-Y)_2|$\")\n",
    "title = f\"objects {objectname1},{objectname2} : \" + suptitle\n",
    "plt.suptitle(title,y=0.9)"
   ]
  },
  {
   "cell_type": "code",
   "execution_count": null,
   "id": "41e40aa3-cc1b-4566-86f9-6bf4b396f4b1",
   "metadata": {},
   "outputs": [],
   "source": [
    "from matplotlib.dates import DateFormatter\n",
    "date_form = DateFormatter(\"%y-%m-%dT%H:%M\")\n",
    "date_form = DateFormatter(\"%y-%m-%dT%H\")\n",
    "fig,axs = plt.subplots(2,1,figsize=(14,8),sharex=True)\n",
    "ax1,ax2  = axs\n",
    "df_spec.plot(x=\"Time\",y=\"PWV [mm]_x\",ax=ax1,marker='+',c=\"r\",lw=0.0,grid=True,label=\"spectro PWV_x\")\n",
    "df_col_zy.plot(x=\"time1\",y=\"apcol12_s12\",ax=ax2,marker=\"o\",c=\"b\",lw=0.0,grid=True,label=\"rel. color difference Z - Y\")\n",
    "ax2.errorbar(df_col_zy.time1,df_col_zy.apcol12_s12,yerr=df_col_zy.apcol12Err_s12,color=\"b\",ecolor=\"k\",fmt=\"o\")\n",
    "ax2.set_xlabel(\"time1\")\n",
    "ax2.xaxis.set_major_formatter(date_form)\n",
    "\n",
    "tmin = df_col_zy[\"time1\"].min()\n",
    "tmax = df_col_zy[\"time1\"].max()\n",
    "dt = tmax-tmin\n",
    "tmin = tmin-dt/10\n",
    "tmax = tmax+dt/10\n",
    "\n",
    "ax2.set_xlim(tmin,tmax)\n",
    "ax1.legend(loc=\"upper left\")\n",
    "ax1.set_ylabel(\"PWV (mm)\")\n",
    "ax2.legend(loc=\"upper left\")\n",
    "ax2.set_ylabel(\"Ap35 : $|(Z-Y)_1-(Z-Y)_2|$\")\n",
    "title = f\"objects {objectname1},{objectname2} : \" + suptitle\n",
    "plt.suptitle(title,y=0.9)"
   ]
  },
  {
   "cell_type": "code",
   "execution_count": null,
   "id": "c624428a-cf48-4f74-bff5-7c9ad210f23a",
   "metadata": {},
   "outputs": [],
   "source": []
  },
  {
   "cell_type": "code",
   "execution_count": null,
   "id": "1f7abde8-da37-4e98-bf63-28c25176fefa",
   "metadata": {},
   "outputs": [],
   "source": []
  },
  {
   "cell_type": "code",
   "execution_count": null,
   "id": "3523a3df-6835-4e53-93b3-c54ad479be9d",
   "metadata": {},
   "outputs": [],
   "source": []
  }
 ],
 "metadata": {
  "kernelspec": {
   "display_name": "LSST",
   "language": "python",
   "name": "lsst"
  },
  "language_info": {
   "codemirror_mode": {
    "name": "ipython",
    "version": 3
   },
   "file_extension": ".py",
   "mimetype": "text/x-python",
   "name": "python",
   "nbconvert_exporter": "python",
   "pygments_lexer": "ipython3",
   "version": "3.11.7"
  }
 },
 "nbformat": 4,
 "nbformat_minor": 5
}
