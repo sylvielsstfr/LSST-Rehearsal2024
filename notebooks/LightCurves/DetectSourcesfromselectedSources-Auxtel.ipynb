{
 "cells": [
  {
   "cell_type": "markdown",
   "id": "45bf4242-bfc5-4d43-88c4-a8059ae148df",
   "metadata": {},
   "source": [
    "# Detect sources from sources Light Curves"
   ]
  },
  {
   "cell_type": "markdown",
   "id": "01993b6e-6438-4fca-a5d5-1f9791336847",
   "metadata": {},
   "source": [
    "- author Sylvie Dagoret-Campagne\n",
    "- creation date 2024-05-30\n",
    "- last update 2024-05-31\n",
    "- affiliation : IJCLab\n",
    "- Kernel **w_2024_16**\n"
   ]
  },
  {
   "cell_type": "code",
   "execution_count": null,
   "id": "bf752b70-e6ca-4cbf-8e8c-20bf7f0d8f61",
   "metadata": {},
   "outputs": [],
   "source": [
    "import numpy as np\n",
    "import matplotlib.pyplot as plt\n",
    "%matplotlib inline\n",
    "from mpl_toolkits.axes_grid1 import make_axes_locatable\n",
    "from matplotlib.colors import LogNorm,SymLogNorm\n",
    "\n",
    "\n",
    "import matplotlib.ticker                         # here's where the formatter is\n",
    "from matplotlib.ticker import (MultipleLocator, FormatStrFormatter,\n",
    "                               AutoMinorLocator)\n",
    "\n",
    "from astropy.visualization import (MinMaxInterval, SqrtStretch,ZScaleInterval,PercentileInterval,\n",
    "                                   ImageNormalize,imshow_norm)\n",
    "from astropy.visualization.stretch import SinhStretch, LinearStretch,AsinhStretch,LogStretch\n",
    "\n",
    "from astropy.io import fits\n",
    "from astropy.wcs import WCS\n",
    "\n",
    "\n",
    "import pandas as pd\n",
    "pd.set_option(\"display.max_columns\", None)\n",
    "pd.set_option('display.max_rows', 100)\n",
    "\n",
    "import matplotlib.ticker                         # here's where the formatter is\n",
    "import os\n",
    "import re\n",
    "import pandas as pd\n",
    "import pickle\n",
    "from collections import OrderedDict\n",
    "\n",
    "plt.rcParams[\"figure.figsize\"] = (4,3)\n",
    "plt.rcParams[\"axes.labelsize\"] = 'x-large'\n",
    "plt.rcParams['axes.titlesize'] = 'x-large'\n",
    "plt.rcParams['xtick.labelsize']= 'x-large'\n",
    "plt.rcParams['ytick.labelsize']= 'x-large'"
   ]
  },
  {
   "cell_type": "code",
   "execution_count": null,
   "id": "4950be9c-6c53-44ba-9804-d89a6b877534",
   "metadata": {},
   "outputs": [],
   "source": [
    "import gc"
   ]
  },
  {
   "cell_type": "code",
   "execution_count": null,
   "id": "0ca0d1e6-5f82-4c43-aaa3-8524fc2bc5ba",
   "metadata": {},
   "outputs": [],
   "source": [
    "from matplotlib.ticker import (MultipleLocator, FormatStrFormatter,\n",
    "                               AutoMinorLocator)\n",
    "\n",
    "from astropy.visualization import (MinMaxInterval, SqrtStretch,ZScaleInterval,PercentileInterval,\n",
    "                                   ImageNormalize,imshow_norm)\n",
    "from astropy.visualization.stretch import SinhStretch, LinearStretch,AsinhStretch,LogStretch\n",
    "\n",
    "from astropy.time import Time\n"
   ]
  },
  {
   "cell_type": "code",
   "execution_count": null,
   "id": "51ddfce4-9a0f-4804-bc6a-7f9138874f16",
   "metadata": {},
   "outputs": [],
   "source": [
    "# LSST Science Pipeline packages (see pipelines.lsst.io)\n",
    "import lsst.daf.base as dafBase\n",
    "import lsst.daf.butler as dafButler\n",
    "#import lsst.summit.utils.butlerUtils as butlerUtils"
   ]
  },
  {
   "cell_type": "code",
   "execution_count": null,
   "id": "34f037b5-b6a2-4f93-b86b-a6108d8a5ea7",
   "metadata": {},
   "outputs": [],
   "source": [
    "import lsst.afw.image as afwImage\n",
    "import lsst.afw.display as afwDisplay\n",
    "import lsst.afw.table as afwTable\n",
    "import lsst.geom as geom\n",
    "\n",
    "\n",
    "\n",
    "# Pipeline tasks\n",
    "from lsst.pipe.tasks.characterizeImage import CharacterizeImageTask\n",
    "from lsst.meas.algorithms.detection import SourceDetectionTask\n",
    "from lsst.meas.deblender import SourceDeblendTask\n",
    "from lsst.meas.base import SingleFrameMeasurementTask"
   ]
  },
  {
   "cell_type": "code",
   "execution_count": null,
   "id": "7f26c627-fc82-4f60-8e0a-c25657f092f9",
   "metadata": {},
   "outputs": [],
   "source": [
    "# LSST Display\n",
    "import lsst.afw.display as afwDisplay\n",
    "afwDisplay.setDefaultBackend('matplotlib')\n",
    "plt.rcParams['figure.figsize'] = (8.0, 8.0)\n",
    "plt.style.use('tableau-colorblind10')"
   ]
  },
  {
   "cell_type": "code",
   "execution_count": null,
   "id": "55069b2b-31a9-41e7-9448-2f823a952642",
   "metadata": {},
   "outputs": [],
   "source": [
    "from astropy.modeling import models, fitting\n",
    "from astropy import modeling\n",
    "# define a model for a line\n",
    "g_init = models.Gaussian1D(amplitude=1, mean=0, stddev=1)\n",
    "# initialize a linear fitter\n",
    "fit_g = fitting.LevMarLSQFitter()"
   ]
  },
  {
   "cell_type": "code",
   "execution_count": null,
   "id": "aba2cfa4-809a-4f1c-8e8f-9f81547e0b5e",
   "metadata": {},
   "outputs": [],
   "source": [
    "transform = AsinhStretch() + PercentileInterval(99.)"
   ]
  },
  {
   "cell_type": "markdown",
   "id": "351e0468-d4f5-4c9e-b3db-1263499470cc",
   "metadata": {},
   "source": [
    "Import statements that we will need later"
   ]
  },
  {
   "cell_type": "markdown",
   "id": "5db4beba-3082-4754-8e70-26472f1c226c",
   "metadata": {},
   "source": [
    "Let's make a new plot and metric tool, we'll base it on the example in the getting started guide."
   ]
  },
  {
   "cell_type": "code",
   "execution_count": null,
   "id": "b26e1f0b-83be-4348-b87c-88294ec7c8d6",
   "metadata": {},
   "outputs": [],
   "source": [
    "# INSERT YOUR collection and tract\n",
    "# for rehearsal use collection 2 which have CCDvisit\n",
    "butlerRoot = \"/repo/embargo\"\n",
    "\n",
    "collection1 = 'LSSTComCamSim/runs/nightlyvalidation/20240402/d_2024_03_29/DM-43612'\n",
    "collection2 = 'LSSTComCamSim/runs/nightlyvalidation/20240403/d_2024_03_29/DM-43612'\n",
    "collection3 = 'LSSTComCamSim/runs/nightlyvalidation/20240404/d_2024_03_29/DM-43612'\n",
    "#collection = 'LATISS/runs/AUXTEL_DRP_IMAGING_20230509_20240311/w_2024_10/PREOPS-4985'\n",
    "collection = 'LATISS/runs/AUXTEL_DRP_IMAGING_20230509_20240414/w_2024_15/PREOPS-5069' # COMPLETED\n",
    "\n",
    "collectionn = collection\n",
    "#collections = [collection1,collection2,collection3]\n",
    "collections = [collection]\n",
    "collectionStr = collectionn.replace(\"/\", \"_\")\n",
    "fn_ccdVisit_tracts_patches = f\"ccdVisittractpatch_{collectionStr}.csv\"\n",
    "instrument = 'LATISS'\n",
    "skymapName = \"latiss_v1\"\n",
    "where_clause = \"instrument = \\'\" + instrument+ \"\\'\"\n",
    "tract = 3864 # mostly for light-curves\n",
    "patch_sel = 236\n",
    "band = 'g'\n",
    "#tract = 5615\n",
    "# tract = 5634 # interesting to view calib parameters\n",
    "suptitle = collectionStr + f\" inst = {instrument} tract = {tract}\""
   ]
  },
  {
   "cell_type": "code",
   "execution_count": null,
   "id": "3048e2e2-2489-43e0-a96d-848c548700cb",
   "metadata": {},
   "outputs": [],
   "source": [
    "#dataId = {\"skymap\": \"latiss_v1\", \"tract\": 5615, \"instrument\": \"LATISS\"}\n",
    "dataId = {\"skymap\": skymapName, \"tract\": tract, \"instrument\": instrument}\n",
    "repo = '/sdf/group/rubin/repo/oga/'\n",
    "butler = dafButler.Butler(repo)\n",
    "#t = Butler.get(table_sel, dataId=dataId, collections=collections)\n",
    "registry = butler.registry"
   ]
  },
  {
   "cell_type": "code",
   "execution_count": null,
   "id": "d87b3bde-871f-4eba-87f7-1ee1ade704c5",
   "metadata": {},
   "outputs": [],
   "source": [
    "skymap_auxtel ='latiss_v1'\n",
    "skymap = butler.get('skyMap', skymap=skymap_auxtel, collections=collections)"
   ]
  },
  {
   "cell_type": "code",
   "execution_count": null,
   "id": "aabccbc1-c6dd-42b5-b766-84d15c9e1ab6",
   "metadata": {},
   "outputs": [],
   "source": [
    "def remove_figure(fig):\n",
    "    \"\"\"\n",
    "    Remove a figure to reduce memory footprint.\n",
    "\n",
    "    Parameters\n",
    "    ----------\n",
    "    fig: matplotlib.figure.Figure\n",
    "        Figure to be removed.\n",
    "\n",
    "    Returns\n",
    "    -------\n",
    "    None\n",
    "    \"\"\"\n",
    "    # get the axes and clear their images\n",
    "    for ax in fig.get_axes():\n",
    "        for im in ax.get_images():\n",
    "            im.remove()\n",
    "    fig.clf()       # clear the figure\n",
    "    plt.close(fig)  # close the figure\n",
    "    gc.collect()    # call the garbage collector"
   ]
  },
  {
   "cell_type": "code",
   "execution_count": null,
   "id": "217d9116-61a1-4ab3-9ba4-4cc8668956e8",
   "metadata": {},
   "outputs": [],
   "source": [
    "def get_corners_radec(wcs, bbox):\n",
    "    \"\"\"\n",
    "    Return the corners in RA,Dec in degrees given the WCS and bounding box for an image.\n",
    "\n",
    "    Parameters\n",
    "    ----------\n",
    "    wcs: image WCS returned by the Butler\n",
    "    bbox: bounding box returned by the Butler\n",
    "\n",
    "    Returns\n",
    "    -------\n",
    "    corners_ra, corners_dec in decimal degrees\n",
    "    \"\"\"\n",
    "\n",
    "    corners_x = [bbox.beginX, bbox.beginX, bbox.endX, bbox.endX]\n",
    "    corners_y = [bbox.beginY, bbox.endY, bbox.endY, bbox.beginY]\n",
    "    corners_ra = []\n",
    "    corners_dec = []\n",
    "    for i in range(4):\n",
    "        radec = wcs.pixelToSky(corners_x[i], corners_y[i])\n",
    "        corners_ra.append(radec.getRa().asDegrees())\n",
    "        corners_dec.append(radec.getDec().asDegrees())\n",
    "    \n",
    "    return corners_ra, corners_dec"
   ]
  },
  {
   "cell_type": "code",
   "execution_count": null,
   "id": "81240109-5d2e-4829-82dc-dddc9d4cda05",
   "metadata": {},
   "outputs": [],
   "source": [
    "def convert_fluxtomag(x) :\n",
    "    \"\"\"\n",
    "    The object and source catalogs store only fluxes. There are hundreds of flux-related columns, \n",
    "    and to store them also as magnitudes would be redundant, and a waste of space.\n",
    "    All flux units are nanojanskys. The AB Magnitudes Wikipedia page provides a concise resource \n",
    "    for users unfamiliar with AB magnitudes and jansky fluxes. To convert to AB magnitudes use:\n",
    "    As demonstrated in Section 2.3.2, to add columns of magnitudes after retrieving columns of flux, users can do this:\n",
    "    results_table['r_calibMag'] = -2.50 * numpy.log10(results_table['r_calibFlux']) + 31.4\n",
    "    results_table['r_cModelMag'] = -2.50 * numpy.log10(results_table['r_cModelFlux']) + 31.4\n",
    "    (from DP0 tutorial)\n",
    "    \"\"\"\n",
    "    return -2.50 * np.log10(x) + 31.4"
   ]
  },
  {
   "cell_type": "markdown",
   "id": "45ce64d8-57d2-434a-8eb9-6806ad91796d",
   "metadata": {},
   "source": [
    "## Get Pixel Scale"
   ]
  },
  {
   "cell_type": "code",
   "execution_count": null,
   "id": "4768de88-d762-4653-9172-b46d50b25e40",
   "metadata": {},
   "outputs": [],
   "source": [
    "import lsst.geom as geom\n",
    "import lsst.sphgeom\n",
    "\n",
    "skymap = butler.get('skyMap', skymap=skymapName, collections=collections )\n",
    "tractInfo = skymap.generateTract(tract)\n",
    "for patch in tractInfo:    \n",
    "    patchID = patch.getSequentialIndex()\n",
    "        \n",
    "    ibb=patch.getInnerBBox()\n",
    "    tWCS=tractInfo.getWcs()\n",
    "       \n",
    "    # loop on the 4 corners\n",
    "    for icorn,corner in enumerate(ibb.getCorners()):\n",
    "        p = geom.Point2D(corner.getX(), corner.getY())\n",
    "        coord = tWCS.pixelToSky(p)"
   ]
  },
  {
   "cell_type": "code",
   "execution_count": null,
   "id": "634358b4-e8a9-489f-b7a2-88f0a1414e95",
   "metadata": {},
   "outputs": [],
   "source": [
    "tWCS"
   ]
  },
  {
   "cell_type": "code",
   "execution_count": null,
   "id": "1ba56f4f-773a-4287-89ba-7e9559a2a1c7",
   "metadata": {},
   "outputs": [],
   "source": [
    "#arcsec/pixel\n",
    "pixel_scale = tWCS.getPixelScale().asArcseconds()"
   ]
  },
  {
   "cell_type": "markdown",
   "id": "35b5b65f-a6ca-4e98-a54c-d72cf3f5ca89",
   "metadata": {},
   "source": [
    "## Selected visits"
   ]
  },
  {
   "cell_type": "code",
   "execution_count": null,
   "id": "d9f0bdef-d228-43ed-afa3-ebc48db575c7",
   "metadata": {},
   "outputs": [],
   "source": [
    "inputfilename = \"sources_objectTable-t3864-bg-o547-LATISS_runs_AUXTEL_DRP_IMAGING_20230509_20240414_w_2024_15_PREOPS-5069.csv\"\n",
    "#inputfilename = \"sources_objectTable-t3864-bg-o912-LATISS_runs_AUXTEL_DRP_IMAGING_20230509_20240414_w_2024_15_PREOPS-5069.csv\"\n",
    "df_myselectedvisits = pd.read_csv(inputfilename ,index_col=0)\n",
    "tract = 3864\n",
    "band = \"g\"\n",
    "objectname = 547\n",
    "title = f\"Auxtel Light Curves : tract = {tract}, band = {band}, object = {objectname} \"\n",
    "suptitle = inputfilename "
   ]
  },
  {
   "cell_type": "code",
   "execution_count": null,
   "id": "178b2ca6-b787-410f-8667-36a2b65e9eb6",
   "metadata": {},
   "outputs": [],
   "source": [
    "df_myselectedvisits.sort_values(\"visit\",inplace=True)\n",
    "#df_myselectedvisits.sort_index(inplace=True)"
   ]
  },
  {
   "cell_type": "code",
   "execution_count": null,
   "id": "53e7e649-c9e7-408f-a4bc-9d7a1ec0ff59",
   "metadata": {},
   "outputs": [],
   "source": [
    "df_myselectedvisits"
   ]
  },
  {
   "cell_type": "code",
   "execution_count": null,
   "id": "3f7866e0-b685-4abd-9b68-15cc21d0c001",
   "metadata": {},
   "outputs": [],
   "source": [
    "fig,ax = plt.subplots(1,1,figsize=(14,4))\n",
    "df_myselectedvisits.plot.scatter(x=\"expMidptMjd\",y=\"psfMag\",ax=ax,s=20,c=\"zeroPoint\",cmap=\"jet\",grid=True,rot=45)\n",
    "ax.set_title(title)\n",
    "plt.suptitle(suptitle)\n",
    "plt.tight_layout()\n",
    "plt.show()"
   ]
  },
  {
   "cell_type": "code",
   "execution_count": null,
   "id": "3912d138-dea8-4e21-8714-63e239c5cdd3",
   "metadata": {},
   "outputs": [],
   "source": [
    "df_myselectedvisits[\"visit\"]"
   ]
  },
  {
   "cell_type": "markdown",
   "id": "dd60da9d-7a4b-49c8-bb26-68168605cbc2",
   "metadata": {},
   "source": [
    "Note here:\n",
    "- zeroPoint is in ABMag\n",
    "- skyBg is in ADU (but don't know if in pixel or in arcsec2)\n",
    "- skyNoise is in ADU (but don't know if in pixel or in arcsec2)"
   ]
  },
  {
   "cell_type": "code",
   "execution_count": null,
   "id": "bff3d040-2c91-4d12-a698-45766955841c",
   "metadata": {},
   "outputs": [],
   "source": [
    "index = 0\n",
    "visitId = df_myselectedvisits.iloc[index]['visit']"
   ]
  },
  {
   "cell_type": "code",
   "execution_count": null,
   "id": "54374d0f-d838-4c3f-95cb-6dc2a12f2ae5",
   "metadata": {},
   "outputs": [],
   "source": [
    "df_myselectedvisits.iloc[index]"
   ]
  },
  {
   "cell_type": "code",
   "execution_count": null,
   "id": "b9b7a125-1e49-428c-9adb-678f2edfdc5c",
   "metadata": {},
   "outputs": [],
   "source": [
    "x_target = df_myselectedvisits.iloc[index]['x']\n",
    "y_target = df_myselectedvisits.iloc[index]['y']"
   ]
  },
  {
   "cell_type": "code",
   "execution_count": null,
   "id": "15c8f8b4-5404-4cc5-88c3-33b190228168",
   "metadata": {},
   "outputs": [],
   "source": [
    "datasetType = 'calexp'\n",
    "dataId = {'visit': visitId, 'instrument':instrument , 'detector': 0}\n",
    "datasetRefs = registry.queryDatasets(datasetType, dataId=dataId, collections  = collections)\n",
    "\n",
    "for i, ref in enumerate(datasetRefs):\n",
    "    print(ref.dataId)\n",
    "    print(\"band:\", ref.dataId['band'])\n",
    "    band = ref.dataId['band']"
   ]
  },
  {
   "cell_type": "markdown",
   "id": "bda8d475-f87a-4e0d-be3a-2b37d0e476cc",
   "metadata": {},
   "source": [
    "## One Calexp "
   ]
  },
  {
   "cell_type": "code",
   "execution_count": null,
   "id": "802be681-7556-429e-9e4f-dab32dc185b5",
   "metadata": {},
   "outputs": [],
   "source": [
    "calexp = butler.get('calexp', **dataId,collections=collections)\n",
    "mask = calexp.mask.array"
   ]
  },
  {
   "cell_type": "code",
   "execution_count": null,
   "id": "4fcd795d-9adf-4032-bcea-4d3960b05e1a",
   "metadata": {},
   "outputs": [],
   "source": [
    "the_mask = np.where(mask==0,1,0)\n",
    "the_mask.shape"
   ]
  },
  {
   "cell_type": "code",
   "execution_count": null,
   "id": "70bba8cb-b778-4d13-812a-91c54557b2b5",
   "metadata": {},
   "outputs": [],
   "source": [
    "im = plt.imshow(the_mask,origin=\"lower\",cmap=\"grey\")\n",
    "plt.colorbar(im)"
   ]
  },
  {
   "cell_type": "code",
   "execution_count": null,
   "id": "c2853c25-e0c2-46f1-a287-f851d876317f",
   "metadata": {},
   "outputs": [],
   "source": [
    "img = calexp.image.array * (the_mask)"
   ]
  },
  {
   "cell_type": "code",
   "execution_count": null,
   "id": "d0ced450-c791-4aca-af7a-c2584ee70744",
   "metadata": {},
   "outputs": [],
   "source": [
    "im=plt.imshow(img,origin=\"lower\",vmin=-10,vmax=10,cmap=\"grey\")\n",
    "plt.colorbar(im)"
   ]
  },
  {
   "cell_type": "code",
   "execution_count": null,
   "id": "b939af2c-1f5d-4320-86fc-f5a9bc7d7a76",
   "metadata": {},
   "outputs": [],
   "source": [
    "#%matplotlib widget\n",
    "\n",
    "calexp = butler.get('calexp', **dataId,collections=collections)\n",
    "\n",
    "calexp_info = calexp.getInfo()\n",
    "photocalib = calexp_info.getPhotoCalib()\n",
    "expo_photocalibconstant_mean = photocalib.getCalibrationMean()\n",
    "expo_photocalibconstant_error = photocalib.getCalibrationErr()\n",
    "calexp_md = calexp_info.getMetadata()\n",
    "magzero,magzero_rms,magzero_nobj = calexp_md[\"MAGZERO\"],calexp_md[\"MAGZERO_RMS\"],calexp_md[\"MAGZERO_NOBJ\"] \n",
    "bgmean,bgvar = calexp_md[\"BGMEAN\"],calexp_md[\"BGVAR\"]\n",
    "\n",
    "mask = calexp.mask.array\n",
    "the_mask = np.where(mask==0,1,0)\n",
    "#img = calexp.maskedImage.getImage()\n",
    "img = calexp.image.array \n",
    "#img = calexp[the_mask] \n",
    "wcs = calexp.getWcs()\n",
    "the_fits_WCS = WCS(wcs.getFitsMetadata())\n",
    "#bbox = img.getBBox()\n",
    "#corners_ra, corners_dec = get_corners_radec(wcs, bbox)\n",
    "#extent = [np.min(corners_ra),np.max(corners_ra),np.min(corners_dec),np.max(corners_dec)]\n",
    "\n",
    "\n",
    "# Display the image with a suitable scaling\n",
    "data_flat = img.flatten()\n",
    "mean = np.mean(data_flat)\n",
    "med = np.median(data_flat)\n",
    "sigMad = 1.4826 * np.median(np.fabs(data_flat - mean))\n",
    "#vmin = med - 3 * sigMad\n",
    "#vmax = med + 3 * sigMad\n",
    "vmin = med - 50.\n",
    "vmax = med + 50.\n",
    "the_min= data_flat.min()\n",
    "the_max= data_flat.max()\n",
    "print(mean,med ,sigMad ,vmin ,vmax,the_min,the_max )\n",
    "\n",
    "fig,axs = plt.subplots(1,2,figsize=(14,6))\n",
    "\n",
    "## Plot the image\n",
    "ax = axs[0]\n",
    "from astropy.visualization import ZScaleInterval\n",
    "z = ZScaleInterval()\n",
    "z1,z2 = z.get_limits(img)\n",
    "from matplotlib.colors import SymLogNorm\n",
    "im=ax.imshow(img, origin=\"lower\", cmap=\"grey\",norm=SymLogNorm(linthresh=0.1))\n",
    "divider = make_axes_locatable(ax)\n",
    "cax = divider.append_axes(\"right\", size=\"5%\", pad=0.05)\n",
    "the_title = f\"Calexp : visit = {visitId}, band = {band}\"\n",
    "ax.set_title(the_title)\n",
    "ax.grid()\n",
    "ax.set_aspect('equal')\n",
    "plt.colorbar(im, cax=cax,ax=ax)\n",
    "\n",
    "\n",
    "\n",
    "ax = axs[1]\n",
    "\n",
    "#val = data_flat/med)\n",
    "#data_flat_mag = -2.5*np.log10((data_flat/med))*1000\n",
    "#mu_mag = np.mean(data_flat_mag)\n",
    "#med_mag = np.median(data_flat_mag)\n",
    "#sigMad_mag = 1.4826 * np.median(np.fabs(data_flat_mag - med_mag))\n",
    "#vmin_mag = med_mag - 3 * sigMad_mag\n",
    "#vmax_mag = med_mag + 3 * sigMad_mag\n",
    "#textstr = '\\n'.join((\n",
    "#    r'$\\mu=%.2f$ mmag' % (mu_mag, ),\n",
    "#    r'$\\mathrm{med}=%.2f$ mmag' % (med_mag, ),\n",
    "#    r'$\\sigma=%.2f$ mmag' % (sigMad_mag , )))\n",
    "\n",
    "data_flat_nozero = data_flat[~(data_flat==0)]\n",
    "histdata  = ax.hist(data_flat_nozero,bins=100,range=(vmin,vmax),histtype=\"step\",color=\"b\",lw=2)\n",
    "histarray,histedges = histdata[0],histdata[1]\n",
    "ax.set_ylim(0.,histarray.max()*1.1)\n",
    "\n",
    "# fit\n",
    "g = fit_g(g_init,histedges[1:],histarray)\n",
    "print(\"fig_g parameters: \",g)\n",
    "m = modeling.models.Gaussian1D(amplitude=g.amplitude.value, mean=g.mean.value, stddev=g.stddev.value)\n",
    "ax.plot(histedges,m(histedges),\"r-\")\n",
    "textstr = '\\n'.join((\n",
    "    r'$\\mu=%.2f$ ADU/pixel' % (g.mean.value, ),\n",
    "    r'$\\sigma=%.2f$ ADU/pixel' % (g.stddev.value , ),\n",
    "    r'$\\sigma=%.2f$ mag/s/arcsec2' % (convert_fluxtomag(g.stddev.value*expo_photocalibconstant_mean/30./pixel_scale**2) ,)))\n",
    "props = dict(boxstyle='round', facecolor='wheat' ,alpha=0.5)\n",
    "ax.text(0.05, 0.95, textstr, color=\"r\",transform=ax.transAxes, fontsize=10,verticalalignment='top', bbox=props)\n",
    "ax.set_title(\"Calexp Sky-bkg residuals\")\n",
    "ax.set_xlabel(\"Flux (ADU)\")\n",
    "\n",
    "#ax.grid()\n",
    "\n",
    "plt.suptitle(collections)\n",
    "plt.tight_layout()\n",
    "plt.show()\n",
    "#remove_figure(fig)"
   ]
  },
  {
   "cell_type": "markdown",
   "id": "b35b04bd-4c69-47c4-8960-28d14f595647",
   "metadata": {},
   "source": [
    "## Check the wcs from rubin"
   ]
  },
  {
   "cell_type": "code",
   "execution_count": null,
   "id": "ad6f89b3-9f1c-4d4d-89e6-63a3e34e0ad4",
   "metadata": {},
   "outputs": [],
   "source": [
    "fig = plt.figure(figsize=(10,10))\n",
    "ax = plt.subplot(projection=the_fits_WCS)\n",
    "calexp_extent = (calexp.getBBox().beginX, calexp.getBBox().endX,\n",
    "                 calexp.getBBox().beginY, calexp.getBBox().endY)\n",
    "im = ax.imshow(calexp.image.array, cmap='gray', vmin=vmin, vmax=vmax,extent=calexp_extent, origin='lower')\n",
    "ax.grid(color='white', ls='solid')\n",
    "ax.set_xlabel('Right Ascension')\n",
    "ax.set_ylabel('Declination')\n",
    "overlay = ax.get_coords_overlay('icrs')\n",
    "overlay.grid(color='white', ls='dotted')\n",
    "the_title = f\"Calexp : visit = {visitId}, band = {band}\"\n",
    "ax.set_title(the_title)\n",
    "plt.show()\n",
    "#remove_figure(fig)"
   ]
  },
  {
   "cell_type": "markdown",
   "id": "dfcafd3e-6fb7-4c14-a86d-33559035090a",
   "metadata": {},
   "source": [
    "## Copy DP0 tuto"
   ]
  },
  {
   "cell_type": "markdown",
   "id": "64ae6a48-ea7a-42b1-9a4e-92c62b49b0e2",
   "metadata": {},
   "source": [
    "<br>\n",
    "\n",
    "As described in other tutorials, the `calexp` object possesses more than just the raw pixel data of the image. It also contains a `mask`, which stores information about various pixels in a bit mask.\n",
    "\n",
    "Here are some optional commands to explore the calexp. Uncomment one of the code lines to learn more."
   ]
  },
  {
   "cell_type": "code",
   "execution_count": null,
   "id": "42c54151-c62a-4cdf-ad67-8e6b5df337cd",
   "metadata": {},
   "outputs": [],
   "source": [
    "# If you want to investigate the contents of the masked image:\n",
    "# calexp.maskedImage\n",
    "\n",
    "# If you just want one of the three components:\n",
    "# calexp.maskedImage.image\n",
    "# calexp.maskedImage.mask\n",
    "# calexp.maskedImage.variance\n",
    "\n",
    "# These also work:\n",
    "# calexp.image\n",
    "# calexp.mask\n",
    "# calexp.variance\n",
    "\n",
    "# The calexp also contains the PSF, the WCS, and the photometric calibration\n",
    "# calexp.getPsf()\n",
    "# calexp.getWcs()\n",
    "# calexp.getPhotoCalib()"
   ]
  },
  {
   "cell_type": "markdown",
   "id": "4710938b-ffd4-44d4-8170-a5f76da88905",
   "metadata": {},
   "source": [
    "Since we are interested in performing our own source detection and measurement, we choose to clear the existing `DETECTED` mask plane."
   ]
  },
  {
   "cell_type": "code",
   "execution_count": null,
   "id": "eb7ff99a-8dee-45ca-a89b-1bbb19a3547b",
   "metadata": {},
   "outputs": [],
   "source": [
    "# Unset the `DETECTED` bits of the mask plane\n",
    "calexp.mask.removeAndClearMaskPlane('DETECTED')"
   ]
  },
  {
   "cell_type": "code",
   "execution_count": null,
   "id": "4e50942d-297a-4f3d-824c-021c2a569276",
   "metadata": {},
   "outputs": [],
   "source": [
    "# Plot the calexp we just retrieved\n",
    "plt.figure()\n",
    "afw_display = afwDisplay.Display()\n",
    "afw_display.scale('asinh', 'zscale',cmap=\"Grays\")\n",
    "afw_display.mtv(calexp.image)"
   ]
  },
  {
   "cell_type": "markdown",
   "id": "b7ea443e-36ea-44df-aab5-ed62b76a3dc8",
   "metadata": {},
   "source": [
    "<br>\n",
    "\n",
    "### 2.2. Add the Subtracted Sky Background Back into the Image\n",
    "\n",
    "Here we retrieve the subtracted background for the same dataId and add it back into the image. This section is optional."
   ]
  },
  {
   "cell_type": "markdown",
   "id": "4aa15113-4d5c-4b24-9bc5-452dc4d3a877",
   "metadata": {},
   "source": [
    "First, we obtain the `calexpBackground` object for this `dataId`.  We will again use the `butler`."
   ]
  },
  {
   "cell_type": "code",
   "execution_count": null,
   "id": "b945421a-cae8-4a73-9071-c6b5b7098dbd",
   "metadata": {},
   "outputs": [],
   "source": [
    "dataId"
   ]
  },
  {
   "cell_type": "code",
   "execution_count": null,
   "id": "fc83e83f-2012-48e4-a0dd-f1202e42837d",
   "metadata": {},
   "outputs": [],
   "source": [
    "bkgd = butler.get('calexpBackground', **dataId,collections=collections)"
   ]
  },
  {
   "cell_type": "code",
   "execution_count": null,
   "id": "d537c736-e095-4186-a6d1-39426e654db7",
   "metadata": {},
   "outputs": [],
   "source": [
    "plt.figure()\n",
    "afw_display = afwDisplay.Display()\n",
    "afw_display.scale('linear', 'zscale')\n",
    "afw_display.mtv(bkgd.getImage())\n",
    "plt.title(\"Local Polynomial Background\")"
   ]
  },
  {
   "cell_type": "markdown",
   "id": "7bd25de2-cfd5-4919-9fcd-33346dd70486",
   "metadata": {},
   "source": [
    "Next, we add the background into the `calexp`, and re-display the `calexp`. Note the scale in the sidebar now goes up to thousands of counts instead of hundreds of counts."
   ]
  },
  {
   "cell_type": "code",
   "execution_count": null,
   "id": "b22e8428-4b0f-40e8-a532-bed3dbc71dbe",
   "metadata": {},
   "outputs": [],
   "source": [
    "# Note: executing this cell multiple times will add the background\n",
    "#  multiple times\n",
    "calexp.maskedImage += bkgd.getImage()"
   ]
  },
  {
   "cell_type": "code",
   "execution_count": null,
   "id": "1439558e-9fd2-4120-b169-a5c52490fd9f",
   "metadata": {},
   "outputs": [],
   "source": [
    "plt.figure()\n",
    "afw_display = afwDisplay.Display()\n",
    "afw_display.scale('asinh', 'zscale')\n",
    "afw_display.mtv(calexp.image)"
   ]
  },
  {
   "cell_type": "markdown",
   "id": "b0ad8081-4235-4e62-97ec-eccf26e7329e",
   "metadata": {},
   "source": [
    "## 3. Source Detection, Deblending, and Measurement"
   ]
  },
  {
   "cell_type": "markdown",
   "id": "50852953-77ba-4488-a945-73f920387aa1",
   "metadata": {},
   "source": [
    "We now want to run the LSST Science Pipelines' source detection, deblending, and measurement tasks. While we run all three tasks, this notebook is mostly focused on the detection of sources.\n",
    "\n",
    "Recall that these tasks were imported up at the top of this notebook, from `lsst.pipe` and `lsst.meas`. More information can be found at [pipelines.lsst.io](https://pipelines.lsst.io/) (the search bar at the top left of that page is a very handy way to find documentation for a specific task).\n",
    "\n",
    "We start by creating a minimal schema for the source table. The schema describes the output properties that will be measured for each source. This schema will be passed to all of the tasks, as we call each in turn, and each task will add columns to this schema as it measures sources in the image."
   ]
  },
  {
   "cell_type": "code",
   "execution_count": null,
   "id": "88542e57-7e50-41a2-9822-cd315252c667",
   "metadata": {},
   "outputs": [],
   "source": [
    "# Create a basic schema to use with these tasks\n",
    "schema = afwTable.SourceTable.makeMinimalSchema()\n",
    "print(schema)\n",
    "\n",
    "# Create a container which will be used to record metadata\n",
    "#  about algorithm execution\n",
    "algMetadata = dafBase.PropertyList()\n",
    "print('algMetadata: ')\n",
    "algMetadata"
   ]
  },
  {
   "cell_type": "markdown",
   "id": "fca91446-acae-4b9c-b00d-758b8e1a29d8",
   "metadata": {},
   "source": [
    "### 3.1. Configuring Tasks\n",
    "\n",
    "Each task possesses an associated configuration class. The properties of these configuration classes can be determined from the classes themselves."
   ]
  },
  {
   "cell_type": "code",
   "execution_count": null,
   "id": "e4de66c8-940a-4eb4-955a-42e950e209c9",
   "metadata": {},
   "outputs": [],
   "source": [
    "# Uncomment the following line to view help\n",
    "#  for the CharacterizeImageTask configuration\n",
    "# Replace 'CharacterizeImageTask' with a different\n",
    "#  task name to view additional help information\n",
    "#help(CharacterizeImageTask.ConfigClass())"
   ]
  },
  {
   "cell_type": "markdown",
   "id": "44df87ba-e971-4c24-808e-55063ffe6698",
   "metadata": {},
   "source": [
    "As a starting point, like the `schema` and `algMetadata` above, here we set some basic config parameters and instantiate the tasks to get you started. In this case, we configure several different tasks:\n",
    "\n",
    "* CharacterizeImageTask: Characterizes the image properties (e.g., PSF, etc.)\n",
    "* SourceDetectionTask: Detects sources\n",
    "* SourceDeblendTask: Deblend sources into constituent \"children\"\n",
    "* SingleFrameMeasurementTask: Measures source properties"
   ]
  },
  {
   "cell_type": "code",
   "execution_count": null,
   "id": "13c8e98f-e809-44b3-95c3-ff3446d65699",
   "metadata": {},
   "outputs": [],
   "source": [
    "# Characterize the image properties\n",
    "config = CharacterizeImageTask.ConfigClass()\n",
    "config.psfIterations = 3\n",
    "charImageTask = CharacterizeImageTask(config=config)\n",
    "\n",
    "# Detect sources\n",
    "config = SourceDetectionTask.ConfigClass()\n",
    "# detection threshold in units of thresholdType\n",
    "config.thresholdValue = 10\n",
    "# units for thresholdValue\n",
    "config.thresholdType = \"stdev\"\n",
    "sourceDetectionTask = SourceDetectionTask(schema=schema, config=config)\n",
    "\n",
    "# Deblend sources\n",
    "sourceDeblendTask = SourceDeblendTask(schema=schema)\n",
    "\n",
    "# Measure source properties\n",
    "config = SingleFrameMeasurementTask.ConfigClass()\n",
    "sourceMeasurementTask = SingleFrameMeasurementTask(schema=schema,\n",
    "                                                   config=config,\n",
    "                                                   algMetadata=algMetadata)"
   ]
  },
  {
   "cell_type": "markdown",
   "id": "0903230f-2a44-4d6d-9f65-caea70fa1448",
   "metadata": {},
   "source": [
    "Note that if you want to change the value of a config parameter (e.g., `psfIterations`), do not change it in the already constructed task. Instead, change your config object and then construct a new characterize image task. Like so:\n",
    "> `config.psfIterations = 3` <br>\n",
    "> `charImageTask = CharacterizeImageTask(config=config)`"
   ]
  },
  {
   "cell_type": "markdown",
   "id": "3e6dd188-95bb-4646-8759-51563f9ddec6",
   "metadata": {},
   "source": [
    "Like the configs, we can use `help` to explore each task and the methods used to run it."
   ]
  },
  {
   "cell_type": "code",
   "execution_count": null,
   "id": "46491181-7a64-421a-983a-9337a13c7e60",
   "metadata": {},
   "outputs": [],
   "source": [
    "# help(charImageTask)\n",
    "\n",
    "# Uncomment the following line, position your cursor after the period,\n",
    "#  and press tab to see a list of all methods. Then recomment the line\n",
    "#  because \"Task.\" is not executable and will cause an error.\n",
    "# charImageTask.\n",
    "\n",
    "# Use the help function on any of the methods to learn more:\n",
    "# help(charImageTask.writeSchemas)\n",
    "\n",
    "# E.g., find out what options there are for config.thresholdType\n",
    "# help(SourceDetectionTask.ConfigClass)"
   ]
  },
  {
   "cell_type": "markdown",
   "id": "eb7852f9-2051-4f4a-ab7b-b46046afc762",
   "metadata": {},
   "source": [
    "With each of the tasks configured, we can now move on to running the source detection, deblending, and measurement. First we create `SourceTable` for holding the output of our source analysis. The columns and characteristics of this table are defined by the `schema` that we created in our configuration step."
   ]
  },
  {
   "cell_type": "code",
   "execution_count": null,
   "id": "bb3d4cdd-40ad-40ee-9250-43426062b07c",
   "metadata": {},
   "outputs": [],
   "source": [
    "tab = afwTable.SourceTable.make(schema)"
   ]
  },
  {
   "cell_type": "markdown",
   "id": "fa909f2f-bf54-42bd-8999-99cd1c7b179e",
   "metadata": {},
   "source": [
    "### 3.2. Image Characterization\n",
    "\n",
    "Next we characterize our image. This calculates various global properties of the image, such as the full-width half-max of its point spread function (PSF FWHM)."
   ]
  },
  {
   "cell_type": "code",
   "execution_count": null,
   "id": "fb4a9f99-9631-47c8-996d-9b472df12fee",
   "metadata": {},
   "outputs": [],
   "source": [
    "# Image characterization (this cell may take a few seconds)\n",
    "result = charImageTask.run(calexp)\n",
    "\n",
    "# Define the pixel coordinates of a point of interest\n",
    "# (in this case, basically a random point within the image)\n",
    "#x_target, y_target = 1700, 2100\n",
    "width, height = 400, 400\n",
    "xmin, ymin = x_target-width//2, y_target-height//2\n",
    "point = geom.Point2D(x_target, y_target)\n",
    "\n",
    "# Get the PSF at our point of interest\n",
    "psf = calexp.getPsf()\n",
    "sigma = psf.computeShape(point).getDeterminantRadius()\n",
    "pixelScale = calexp.getWcs().getPixelScale().asArcseconds()\n",
    "\n",
    "# The factor of 2.355 converts from std to fwhm\n",
    "print('psf fwhm = {:.2f} arcsec'.format(sigma*pixelScale*2.355))"
   ]
  },
  {
   "cell_type": "markdown",
   "id": "b54f7233-03b8-4fb1-9562-113a674e5525",
   "metadata": {},
   "source": [
    "With the image characterized, we are now interested in running the source detection, deblending, and measurement tasks. Each of these tasks is called with the `run` method. The parameters of this method can be investigated using `help`."
   ]
  },
  {
   "cell_type": "code",
   "execution_count": null,
   "id": "3f048ea0-410d-4e5b-9a94-bb4e856713d4",
   "metadata": {},
   "outputs": [],
   "source": [
    "# We are specifically interested in the `SourceMeasurementTask`\n",
    "# help(sourceMeasurementTask.run)"
   ]
  },
  {
   "cell_type": "code",
   "execution_count": null,
   "id": "64c64be0-913c-4442-b981-0993c6a188af",
   "metadata": {},
   "outputs": [],
   "source": [
    "# Source detection (this cell may take a few seconds)\n",
    "result = sourceDetectionTask.run(tab, calexp)\n",
    "type(result)"
   ]
  },
  {
   "cell_type": "markdown",
   "id": "f063c9b9-bf62-4ac5-b53f-e6e8f08b0d69",
   "metadata": {},
   "source": [
    "The source detection task returns an [`lsst.pipe.base.struct.Struct`](http://doxygen.lsst.codes/stack/doxygen/x_masterDoxyDoc/classlsst_1_1pipe_1_1base_1_1struct_1_1_struct.html). A `Struct` is just a generalized container for storing multiple output components and accessing them as attributes. The content of this `Struct` can be investigated with the `getDict` method."
   ]
  },
  {
   "cell_type": "code",
   "execution_count": null,
   "id": "eb52f6b8-fb07-416d-bfe1-ad0f2ecb722c",
   "metadata": {},
   "outputs": [],
   "source": [
    "for k, v in result.getDict().items():\n",
    "    print(k, type(v))"
   ]
  },
  {
   "cell_type": "code",
   "execution_count": null,
   "id": "e7e041e8-0098-4416-8be3-a8bed7fefb21",
   "metadata": {},
   "outputs": [],
   "source": [
    "result.numPosPeaks"
   ]
  },
  {
   "cell_type": "code",
   "execution_count": null,
   "id": "55933527-7361-4f5a-a59e-f67439162372",
   "metadata": {},
   "outputs": [],
   "source": [
    "sources = result.sources"
   ]
  },
  {
   "cell_type": "code",
   "execution_count": null,
   "id": "4ad54dc5-24ee-4257-aa49-5ae7748aeb33",
   "metadata": {},
   "outputs": [],
   "source": [
    "# Uncomment to see that most values are NaN\n",
    "# sources"
   ]
  },
  {
   "cell_type": "markdown",
   "id": "7da63dc8-c39f-449b-874f-05fde069f811",
   "metadata": {},
   "source": [
    "Note that if we desire we can save these processed sources to disk as FITS tables:"
   ]
  },
  {
   "cell_type": "code",
   "execution_count": null,
   "id": "908454a5-e8a5-4a9d-a82b-c0498a49c95d",
   "metadata": {},
   "outputs": [],
   "source": [
    "# sources.writeFits(\"detectedsources-outputTable.fits\")\n",
    "# calexp.writeFits(\"calexp-detectedsources-example1-out.fits\")"
   ]
  },
  {
   "cell_type": "markdown",
   "id": "e6e2e8f3-ca6b-4d27-b795-7e889be7c282",
   "metadata": {},
   "source": [
    "### 3.3. Deblend and Measure Sources\n",
    "\n",
    "Next we run the `SourceDeblendTask` and `SingleFrameMeasurementTask`. A deeper investigation of these tasks is beyond the scope of this notebook."
   ]
  },
  {
   "cell_type": "code",
   "execution_count": null,
   "id": "fb461816-29d8-4ddf-b596-2f876f088f11",
   "metadata": {},
   "outputs": [],
   "source": [
    "# Source deblending\n",
    "sourceDeblendTask.run(calexp, sources)\n",
    "\n",
    "# Source measurement\n",
    "sourceMeasurementTask.run(measCat=sources, exposure=calexp)"
   ]
  },
  {
   "cell_type": "code",
   "execution_count": null,
   "id": "a7f3911a-e49a-43bc-8d84-5dbcd6ea05d1",
   "metadata": {},
   "outputs": [],
   "source": [
    "# The copy makes sure that the sources are sequential in memory\n",
    "sources = sources.copy(True)\n",
    "\n",
    "# Investigate the output source catalog\n",
    "sources.asAstropy()"
   ]
  },
  {
   "cell_type": "code",
   "execution_count": null,
   "id": "95c96125-c0e9-4fca-a683-d19964203006",
   "metadata": {},
   "outputs": [],
   "source": [
    "#sources.columns.get(\"ApInstFlux\")\n"
   ]
  },
  {
   "cell_type": "code",
   "execution_count": null,
   "id": "5683d7b8-5eb9-445f-a8fa-4ae5f6f35578",
   "metadata": {},
   "outputs": [],
   "source": [
    "sources.asAstropy().to_pandas()"
   ]
  },
  {
   "cell_type": "code",
   "execution_count": null,
   "id": "265a67a0-e6c2-4d47-aa60-f4c1dc8b3f1a",
   "metadata": {},
   "outputs": [],
   "source": []
  },
  {
   "cell_type": "code",
   "execution_count": null,
   "id": "bfc2612d-310d-44a8-8201-056468d3cb3c",
   "metadata": {},
   "outputs": [],
   "source": [
    "list(zip(sources.columns.getX(),sources.columns.getY(),sources.getApInstFlux(),sources.getApInstFluxErr()))"
   ]
  },
  {
   "cell_type": "markdown",
   "id": "b280bc97-17d0-4a5d-8392-8ce8eef0d985",
   "metadata": {
    "execution": {
     "iopub.execute_input": "2024-05-30T09:04:18.844169Z",
     "iopub.status.busy": "2024-05-30T09:04:18.843976Z",
     "iopub.status.idle": "2024-05-30T09:04:18.847712Z",
     "shell.execute_reply": "2024-05-30T09:04:18.847302Z",
     "shell.execute_reply.started": "2024-05-30T09:04:18.844157Z"
    }
   },
   "source": [
    "### 3.4. Overplot Sources on Image\n",
    "\n",
    "We can now overplot our detected sources on the calexp or a cutout image using `afwDisplay`.\n",
    "\n",
    "Let's do this for a cutout image instead of the full calexp.  To generate a cutout image of the calexp, create a bounding box and pass it to the `Factory` method of our calexp (a `lsst.afw.image.Exposure` object). Below we explain the specific arguments that we are passing to `Factory`:\n",
    "```\n",
    "calexp : the ExposureF we are starting from\n",
    "bbox   : the bounding box of the cutout\n",
    "origin : the image pixel origin is local to the cutout array\n",
    "deep   : copy the data rather than passing by reference\n",
    "```\n",
    "\n",
    "<a id='display-error'></a>"
   ]
  },
  {
   "cell_type": "code",
   "execution_count": null,
   "id": "4c486fac-3658-4487-b228-e4fad324f90a",
   "metadata": {},
   "outputs": [],
   "source": [
    "# Define a small region for a cutout\n",
    "bbox = geom.Box2I()\n",
    "bbox.include(geom.Point2I(xmin, ymin))\n",
    "bbox.include(geom.Point2I(xmin + width, ymin + height))\n",
    "\n",
    "# An alternative way to defined the same cutout region\n",
    "# bbox = geom.Box2I(geom.Point2I(xmin, ymin), geom.Extent2I(width, height))\n",
    "\n",
    "# Generate the cutout image\n",
    "cutout = calexp.Factory(calexp, bbox, origin=afwImage.LOCAL, deep=False)\n",
    "extent = (xmin,ymin,xmin+width,ymin+height)"
   ]
  },
  {
   "cell_type": "code",
   "execution_count": null,
   "id": "6cd8c93d-f20b-45fa-a088-0f965a46572b",
   "metadata": {},
   "outputs": [],
   "source": [
    "xmin"
   ]
  },
  {
   "cell_type": "code",
   "execution_count": null,
   "id": "763f4385-8579-4c4c-9494-43dcb18844ff",
   "metadata": {},
   "outputs": [],
   "source": [
    "# Display the cutout and sources with afw display\n",
    "image = cutout.image\n",
    "plt.figure()\n",
    "afw_display = afwDisplay.Display()\n",
    "afw_display.scale('asinh', 'zscale')\n",
    "afw_display.mtv(image)\n",
    "#plt.gca().axis('off')\n",
    "\n",
    "# We use display buffering to avoid re-drawing the image\n",
    "#  after each source is plotted\n",
    "with afw_display.Buffering():\n",
    "    for s in sources:\n",
    "        afw_display.dot('+', s.getX(), s.getY(), ctype=afwDisplay.RED)\n",
    "        afw_display.dot('o', s.getX(), s.getY(), size=20, ctype='orange')"
   ]
  },
  {
   "cell_type": "markdown",
   "id": "9c3b8ca8-83c8-4cc8-b07e-613900bd4f76",
   "metadata": {},
   "source": [
    "## 4. Footprints\n",
    "\n",
    "Object footprints are an integral component of the high-level CCD processing tasks (e.g., detection, measurement, and deblending). To quote [Bosch et al. (2017)](https://arxiv.org/pdf/1705.06766.pdf), \n",
    "\n",
    "> Footprints record the exact above-threshold detection region on a CCD. These are similar to  SExtractor’s “segmentation map\", in that they identify which pixels belong to which detected objects\n",
    "\n",
    "This quote draws an analogy between footprints and segmentation maps, since they both identify pixels with values above some threshold. This is a useful similarity, since it gives us a place to start understanding the properties of footprints."
   ]
  },
  {
   "cell_type": "markdown",
   "id": "c41af4d4-5af0-4210-a5da-7dd8a5e14151",
   "metadata": {},
   "source": [
    "The result of the `SourceDetectionTask` stores the footprints associated to detected objects."
   ]
  },
  {
   "cell_type": "code",
   "execution_count": null,
   "id": "ce547d03-6744-486e-b136-8ce0fe8697d2",
   "metadata": {},
   "outputs": [],
   "source": [
    "# Grab the above-threshold footprints that were detected,\n",
    "#  and assign them to the variable `fps`\n",
    "fpset = result.positive\n",
    "fps = fpset.getFootprints()"
   ]
  },
  {
   "cell_type": "code",
   "execution_count": null,
   "id": "2f85b9ac-965f-4c34-bf0a-7fa77546ed7a",
   "metadata": {},
   "outputs": [],
   "source": [
    "# We can get a rough view of the first source's footprint from its span\n",
    "fps[0].getSpans()"
   ]
  },
  {
   "cell_type": "markdown",
   "id": "2fd5eeb9-a1aa-4035-b151-5c39b928f986",
   "metadata": {},
   "source": [
    "You can almost see the footprint by looking at the 1's and 0's here. Keep in mind that the first row of this array will be the *bottom* row of the image. Later, when we display the footprint, its general pattern will appear \"upside down\" compared to this pattern of 1s. "
   ]
  },
  {
   "cell_type": "markdown",
   "id": "e788cb5e-6d08-4fa2-81ff-187fd7ca38a7",
   "metadata": {},
   "source": [
    "### 4.1. Heavy Footprints\n",
    "\n",
    "At the moment, our footprints indicate which pixels they consist of, but not the values of those pixels from the image. To extract the actual values of the pixels that correspond to the ones in the footprint span, we need to convert our footprint into a `HeavyFootprint`. HeavyFootprints have all of the qualities of Footprints, but additionally 'know' about pixel level data from the image, variance, and mask planes."
   ]
  },
  {
   "cell_type": "code",
   "execution_count": null,
   "id": "66bce6e3-9cd5-462d-b3ae-d815f1827518",
   "metadata": {},
   "outputs": [],
   "source": [
    "# First we demonstrate that the footprint is NOT heavy\n",
    "fps[0].isHeavy()"
   ]
  },
  {
   "cell_type": "code",
   "execution_count": null,
   "id": "0d2a879b-fe6a-49e4-a673-a66f33979b5e",
   "metadata": {},
   "outputs": [],
   "source": [
    "# Next, we make all the footprints heavy at the same time\n",
    "#  by operating on the footprint set\n",
    "fpset.makeHeavy(calexp.getMaskedImage())\n",
    "\n",
    "# This means we have to redefine fps:\n",
    "hfps = fpset.getFootprints()"
   ]
  },
  {
   "cell_type": "code",
   "execution_count": null,
   "id": "55626c8f-47e0-45f2-842b-313b76052030",
   "metadata": {},
   "outputs": [],
   "source": [
    "# All of the arrays here will be flattened 1D arrays\n",
    "#  of pixels from the footprint.\n",
    "# Uncomment this line to print the array and see that\n",
    "#  now, it contains pixel values.\n",
    "\n",
    "# hfps[0].getImageArray()"
   ]
  },
  {
   "cell_type": "markdown",
   "id": "45e43a23-8489-4986-9890-7f3b7d699fc8",
   "metadata": {},
   "source": [
    "Now we can use the span set to reassemble the image array into the footprint. Above we saw that the image array is a 1D numpy array, but the footprint itself is 2 dimensional. Fortunately, the span set has an `unflatten` method that rearranges the image array into the proper 2 dimensional shape. If you want to change the colormap, see [matplotlib colormap options](https://matplotlib.org/stable/tutorials/colors/colormaps.html)."
   ]
  },
  {
   "cell_type": "code",
   "execution_count": null,
   "id": "6b7e2654-7563-42a7-8214-318950439a80",
   "metadata": {},
   "outputs": [],
   "source": [
    "plt.figure()\n",
    "plt.imshow(fps[0].getSpans().unflatten(hfps[0].getImageArray()),\n",
    "           cmap='bone', origin='lower')"
   ]
  },
  {
   "cell_type": "code",
   "execution_count": null,
   "id": "2cf1ec01-3252-4e51-a3d6-48a614c0ddb1",
   "metadata": {},
   "outputs": [],
   "source": [
    "hfps[0].getMaskArray()"
   ]
  },
  {
   "cell_type": "code",
   "execution_count": null,
   "id": "b4538147-2c82-46f8-8b37-8a38dadc26b5",
   "metadata": {},
   "outputs": [],
   "source": [
    "calexp.getMask().getMaskPlaneDict()"
   ]
  },
  {
   "cell_type": "markdown",
   "id": "cd531d95-67c1-46c3-ad8e-8cdd0f1ddde7",
   "metadata": {},
   "source": [
    "The values are the exponent of the bitmask. So pixels only marked detected will be 2^5 = 32. Pixels that are both on the edge of the original image and detected will be 2^5 + 2^4 = 48. We will visualize the mask plane values in a similar manner as before, except that we will be displaying the values of the mask array."
   ]
  },
  {
   "cell_type": "code",
   "execution_count": null,
   "id": "7b27a5c6-81dc-4cb9-82a1-fafd8f72b1a6",
   "metadata": {},
   "outputs": [],
   "source": [
    "plt.figure()\n",
    "im = plt.imshow(fps[0].getSpans().unflatten(hfps[0].getMaskArray()),\n",
    "                origin='lower')\n",
    "\n",
    "# Create a new axis, \"cax\" on the right side of the image display.\n",
    "# The width of cax will be 5% of the axis \"ax\".\n",
    "# The padding between cax and ax will be 1% of the axis.\n",
    "ax = plt.gca()\n",
    "divider = make_axes_locatable(ax)\n",
    "cax = divider.append_axes(\"right\", size=\"5%\", pad=\"1%\")\n",
    "plt.colorbar(im, cax=cax, ticks=[0, 32, 32+16])"
   ]
  },
  {
   "cell_type": "code",
   "execution_count": null,
   "id": "732e395c-20c4-4bc0-a93f-7a319c62ce48",
   "metadata": {},
   "outputs": [],
   "source": []
  },
  {
   "cell_type": "code",
   "execution_count": null,
   "id": "2f883a00-7c6a-4f09-ae96-81289a83de0d",
   "metadata": {},
   "outputs": [],
   "source": []
  },
  {
   "cell_type": "code",
   "execution_count": null,
   "id": "83fd299f-0b2b-4d19-a04c-9bcffdd689a1",
   "metadata": {},
   "outputs": [],
   "source": []
  }
 ],
 "metadata": {
  "kernelspec": {
   "display_name": "LSST",
   "language": "python",
   "name": "lsst"
  },
  "language_info": {
   "codemirror_mode": {
    "name": "ipython",
    "version": 3
   },
   "file_extension": ".py",
   "mimetype": "text/x-python",
   "name": "python",
   "nbconvert_exporter": "python",
   "pygments_lexer": "ipython3",
   "version": "3.11.7"
  }
 },
 "nbformat": 4,
 "nbformat_minor": 5
}
