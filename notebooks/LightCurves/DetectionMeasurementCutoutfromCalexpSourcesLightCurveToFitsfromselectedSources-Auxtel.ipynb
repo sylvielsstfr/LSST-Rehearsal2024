{
 "cells": [
  {
   "cell_type": "markdown",
   "id": "45bf4242-bfc5-4d43-88c4-a8059ae148df",
   "metadata": {},
   "source": [
    "# Detection and Measurements from sources Light Curve"
   ]
  },
  {
   "cell_type": "markdown",
   "id": "01993b6e-6438-4fca-a5d5-1f9791336847",
   "metadata": {},
   "source": [
    "- author Sylvie Dagoret-Campagne\n",
    "- creation date 2024-06-01\n",
    "- last update 2024-06-05\n",
    "- affiliation : IJCLab\n",
    "- Kernel **w_2024_16**"
   ]
  },
  {
   "cell_type": "markdown",
   "id": "0987bbf9-49f6-4ccc-8c20-46df74e34ac3",
   "metadata": {},
   "source": [
    "- Tutorial : https://github.com/rubin-dp0/tutorial-notebooks/blob/main/DP02_05_Introduction_to_Source_Detection.ipynb"
   ]
  },
  {
   "cell_type": "code",
   "execution_count": null,
   "id": "bf752b70-e6ca-4cbf-8e8c-20bf7f0d8f61",
   "metadata": {},
   "outputs": [],
   "source": [
    "import numpy as np\n",
    "import matplotlib.pyplot as plt\n",
    "%matplotlib inline\n",
    "from mpl_toolkits.axes_grid1 import make_axes_locatable\n",
    "from matplotlib.colors import LogNorm,SymLogNorm\n",
    "from matplotlib.patches import Circle,Annulus\n",
    "props = dict(boxstyle='round', facecolor=None, alpha=0.1)\n",
    "#props = dict(boxstyle='round')\n",
    "\n",
    "\n",
    "import matplotlib.ticker                         # here's where the formatter is\n",
    "from matplotlib.ticker import (MultipleLocator, FormatStrFormatter,\n",
    "                               AutoMinorLocator)\n",
    "\n",
    "from astropy.visualization import (MinMaxInterval, SqrtStretch,ZScaleInterval,PercentileInterval,\n",
    "                                   ImageNormalize,imshow_norm)\n",
    "from astropy.visualization.stretch import SinhStretch, LinearStretch,AsinhStretch,LogStretch\n",
    "\n",
    "from astropy.io import fits\n",
    "from astropy.wcs import WCS\n",
    "\n",
    "\n",
    "import pandas as pd\n",
    "pd.set_option(\"display.max_columns\", None)\n",
    "pd.set_option('display.max_rows', 100)\n",
    "\n",
    "import matplotlib.ticker                         # here's where the formatter is\n",
    "import os\n",
    "import re\n",
    "import pandas as pd\n",
    "import pickle\n",
    "from collections import OrderedDict\n",
    "\n",
    "plt.rcParams[\"figure.figsize\"] = (4,3)\n",
    "plt.rcParams[\"axes.labelsize\"] = 'xx-large'\n",
    "plt.rcParams['axes.titlesize'] = 'xx-large'\n",
    "plt.rcParams['xtick.labelsize']= 'xx-large'\n",
    "plt.rcParams['ytick.labelsize']= 'xx-large'"
   ]
  },
  {
   "cell_type": "code",
   "execution_count": null,
   "id": "4950be9c-6c53-44ba-9804-d89a6b877534",
   "metadata": {},
   "outputs": [],
   "source": [
    "import gc"
   ]
  },
  {
   "cell_type": "code",
   "execution_count": null,
   "id": "0ca0d1e6-5f82-4c43-aaa3-8524fc2bc5ba",
   "metadata": {},
   "outputs": [],
   "source": [
    "from matplotlib.ticker import (MultipleLocator, FormatStrFormatter,\n",
    "                               AutoMinorLocator)\n",
    "\n",
    "from astropy.visualization import (MinMaxInterval, SqrtStretch,ZScaleInterval,PercentileInterval,\n",
    "                                   ImageNormalize,imshow_norm)\n",
    "from astropy.visualization.stretch import SinhStretch, LinearStretch,AsinhStretch,LogStretch\n",
    "\n",
    "from astropy.time import Time\n"
   ]
  },
  {
   "cell_type": "code",
   "execution_count": null,
   "id": "51ddfce4-9a0f-4804-bc6a-7f9138874f16",
   "metadata": {},
   "outputs": [],
   "source": [
    "import lsst.daf.butler as dafButler\n",
    "#import lsst.summit.utils.butlerUtils as butlerUtils\n",
    "import lsst.daf.base as dafBase"
   ]
  },
  {
   "cell_type": "code",
   "execution_count": null,
   "id": "34f037b5-b6a2-4f93-b86b-a6108d8a5ea7",
   "metadata": {},
   "outputs": [],
   "source": [
    "import lsst.afw.image as afwImage\n",
    "import lsst.afw.display as afwDisplay\n",
    "import lsst.afw.table as afwTable\n",
    "import lsst.afw.display.rgb as afwRgb\n",
    "import lsst.afw.image as afwImage\n",
    "import lsst.geom as geom"
   ]
  },
  {
   "cell_type": "code",
   "execution_count": null,
   "id": "72fa2377-9544-482f-bcf1-4e698ebc6894",
   "metadata": {},
   "outputs": [],
   "source": [
    "# Pipeline tasks\n",
    "from lsst.pipe.tasks.characterizeImage import CharacterizeImageTask\n",
    "from lsst.meas.algorithms.detection import SourceDetectionTask\n",
    "from lsst.meas.deblender import SourceDeblendTask\n",
    "from lsst.meas.base import SingleFrameMeasurementTask"
   ]
  },
  {
   "cell_type": "code",
   "execution_count": null,
   "id": "d017fb69-9a17-4137-9733-1104af59af03",
   "metadata": {},
   "outputs": [],
   "source": [
    "\n",
    "from astropy.wcs import WCS\n",
    "from astropy.visualization import make_lupton_rgb\n",
    "import gc\n",
    "\n",
    "import lsst.afw.display as afwDisplay\n",
    "from lsst.afw.image import MultibandExposure"
   ]
  },
  {
   "cell_type": "code",
   "execution_count": null,
   "id": "7f26c627-fc82-4f60-8e0a-c25657f092f9",
   "metadata": {},
   "outputs": [],
   "source": [
    "# LSST Display\n",
    "import lsst.afw.display as afwDisplay\n",
    "afwDisplay.setDefaultBackend('matplotlib')"
   ]
  },
  {
   "cell_type": "code",
   "execution_count": null,
   "id": "aba2cfa4-809a-4f1c-8e8f-9f81547e0b5e",
   "metadata": {},
   "outputs": [],
   "source": [
    "transform = AsinhStretch() + PercentileInterval(99.)"
   ]
  },
  {
   "cell_type": "code",
   "execution_count": null,
   "id": "b26e1f0b-83be-4348-b87c-88294ec7c8d6",
   "metadata": {},
   "outputs": [],
   "source": [
    "# INSERT YOUR collection and tract\n",
    "# for rehearsal use collection 2 which have CCDvisit\n",
    "butlerRoot = \"/repo/embargo\"\n",
    "\n",
    "collection1 = 'LSSTComCamSim/runs/nightlyvalidation/20240402/d_2024_03_29/DM-43612'\n",
    "collection2 = 'LSSTComCamSim/runs/nightlyvalidation/20240403/d_2024_03_29/DM-43612'\n",
    "collection3 = 'LSSTComCamSim/runs/nightlyvalidation/20240404/d_2024_03_29/DM-43612'\n",
    "collection = 'LATISS/runs/AUXTEL_DRP_IMAGING_20230509_20240414/w_2024_15/PREOPS-5069' # COMPLETED\n",
    "\n",
    "collectionn = collection\n",
    "#collections = [collection1,collection2,collection3]\n",
    "collections = [collection]\n",
    "collectionStr = collectionn.replace(\"/\", \"_\")\n",
    "fn_ccdVisit_tracts_patches = f\"ccdVisittractpatch_{collectionStr}.csv\"\n",
    "instrument = 'LATISS'\n",
    "skymapName = \"latiss_v1\"\n",
    "where_clause = \"instrument = \\'\" + instrument+ \"\\'\"\n",
    "tract = 3864 # mostly for light-curves\n",
    "patch_sel = 236\n",
    "band = 'g'\n",
    "#tract = 5615\n",
    "# tract = 5634 # interesting to view calib parameters\n",
    "suptitle = collectionStr + f\" inst = {instrument} tract = {tract}\""
   ]
  },
  {
   "cell_type": "code",
   "execution_count": null,
   "id": "3048e2e2-2489-43e0-a96d-848c548700cb",
   "metadata": {},
   "outputs": [],
   "source": [
    "#dataId = {\"skymap\": \"latiss_v1\", \"tract\": 5615, \"instrument\": \"LATISS\"}\n",
    "dataId = {\"skymap\": skymapName, \"tract\": tract, \"instrument\": instrument}\n",
    "repo = '/sdf/group/rubin/repo/oga/'\n",
    "butler = dafButler.Butler(repo)\n",
    "#t = Butler.get(table_sel, dataId=dataId, collections=collections)\n",
    "registry = butler.registry"
   ]
  },
  {
   "cell_type": "code",
   "execution_count": null,
   "id": "d87b3bde-871f-4eba-87f7-1ee1ade704c5",
   "metadata": {},
   "outputs": [],
   "source": [
    "skymap_auxtel ='latiss_v1'\n",
    "skymap = butler.get('skyMap', skymap=skymap_auxtel, collections=collections)"
   ]
  },
  {
   "cell_type": "code",
   "execution_count": null,
   "id": "aabccbc1-c6dd-42b5-b766-84d15c9e1ab6",
   "metadata": {},
   "outputs": [],
   "source": [
    "def remove_figure(fig):\n",
    "    \"\"\"\n",
    "    Remove a figure to reduce memory footprint.\n",
    "\n",
    "    Parameters\n",
    "    ----------\n",
    "    fig: matplotlib.figure.Figure\n",
    "        Figure to be removed.\n",
    "\n",
    "    Returns\n",
    "    -------\n",
    "    None\n",
    "    \"\"\"\n",
    "    # get the axes and clear their images\n",
    "    for ax in fig.get_axes():\n",
    "        for im in ax.get_images():\n",
    "            im.remove()\n",
    "    fig.clf()       # clear the figure\n",
    "    plt.close(fig)  # close the figure\n",
    "    gc.collect()    # call the garbage collector"
   ]
  },
  {
   "cell_type": "code",
   "execution_count": null,
   "id": "217d9116-61a1-4ab3-9ba4-4cc8668956e8",
   "metadata": {},
   "outputs": [],
   "source": [
    "def get_corners_radec(wcs, bbox):\n",
    "    \"\"\"\n",
    "    Return the corners in RA,Dec in degrees given the WCS and bounding box for an image.\n",
    "\n",
    "    Parameters\n",
    "    ----------\n",
    "    wcs: image WCS returned by the Butler\n",
    "    bbox: bounding box returned by the Butler\n",
    "\n",
    "    Returns\n",
    "    -------\n",
    "    corners_ra, corners_dec in decimal degrees\n",
    "    \"\"\"\n",
    "\n",
    "    corners_x = [bbox.beginX, bbox.beginX, bbox.endX, bbox.endX]\n",
    "    corners_y = [bbox.beginY, bbox.endY, bbox.endY, bbox.beginY]\n",
    "    corners_ra = []\n",
    "    corners_dec = []\n",
    "    for i in range(4):\n",
    "        radec = wcs.pixelToSky(corners_x[i], corners_y[i])\n",
    "        corners_ra.append(radec.getRa().asDegrees())\n",
    "        corners_dec.append(radec.getDec().asDegrees())\n",
    "    \n",
    "    return corners_ra, corners_dec"
   ]
  },
  {
   "cell_type": "code",
   "execution_count": null,
   "id": "81240109-5d2e-4829-82dc-dddc9d4cda05",
   "metadata": {},
   "outputs": [],
   "source": [
    "def convert_fluxtomag(x) :\n",
    "    \"\"\"\n",
    "    The object and source catalogs store only fluxes. There are hundreds of flux-related columns, \n",
    "    and to store them also as magnitudes would be redundant, and a waste of space.\n",
    "    All flux units are nanojanskys. The AB Magnitudes Wikipedia page provides a concise resource \n",
    "    for users unfamiliar with AB magnitudes and jansky fluxes. To convert to AB magnitudes use:\n",
    "    As demonstrated in Section 2.3.2, to add columns of magnitudes after retrieving columns of flux, users can do this:\n",
    "    results_table['r_calibMag'] = -2.50 * numpy.log10(results_table['r_calibFlux']) + 31.4\n",
    "    results_table['r_cModelMag'] = -2.50 * numpy.log10(results_table['r_cModelFlux']) + 31.4\n",
    "    (from DP0 tutorial)\n",
    "    \"\"\"\n",
    "    return -2.50 * np.log10(x) + 31.4"
   ]
  },
  {
   "cell_type": "code",
   "execution_count": null,
   "id": "8e568cf6-0318-476b-841c-a6de63ced2aa",
   "metadata": {},
   "outputs": [],
   "source": [
    "def cutout_coadd(butler, ra, dec, band='r', datasetType='deepCoadd',\n",
    "                 skymap=None, cutoutSideLength=51, **kwargs):\n",
    "    \"\"\"\n",
    "    Produce a cutout from a coadd at the given ra, dec position.\n",
    "\n",
    "    Adapted from DC2 tutorial notebook by Michael Wood-Vasey.\n",
    "\n",
    "    Parameters\n",
    "    ----------\n",
    "    butler: lsst.daf.persistence.Butler\n",
    "        Helper object providing access to a data repository\n",
    "    ra: float\n",
    "        Right ascension of the center of the cutout, in degrees\n",
    "    dec: float\n",
    "        Declination of the center of the cutout, in degrees\n",
    "    band: string\n",
    "        Filter of the image to load\n",
    "    datasetType: string ['deepCoadd']\n",
    "        Which type of coadd to load.  Doesn't support 'calexp'\n",
    "    skymap: lsst.afw.skyMap.SkyMap [optional]\n",
    "        Pass in to avoid the Butler read.  Useful if you have lots of them.\n",
    "    cutoutSideLength: float [optional]\n",
    "        Size of the cutout region in pixels.\n",
    "\n",
    "    Returns\n",
    "    -------\n",
    "    MaskedImage\n",
    "    \"\"\"\n",
    "    radec = geom.SpherePoint(ra, dec, geom.degrees)\n",
    "    cutoutSize = geom.ExtentI(cutoutSideLength, cutoutSideLength)\n",
    "\n",
    "    if skymap is None:\n",
    "        skymap = butler.get(\"skyMap\")\n",
    "\n",
    "    # Look up the tract, patch for the RA, Dec\n",
    "    tractInfo = skymap.findTract(radec)\n",
    "    patchInfo = tractInfo.findPatch(radec)\n",
    "    xy = geom.PointI(tractInfo.getWcs().skyToPixel(radec))\n",
    "    bbox = geom.BoxI(xy - cutoutSize // 2, cutoutSize)\n",
    "    patch = tractInfo.getSequentialPatchIndex(patchInfo)\n",
    "\n",
    "    coaddId = {'tract': tractInfo.getId(), 'patch': patch, 'band': band}\n",
    "    parameters = {'bbox': bbox}\n",
    "\n",
    "    cutout_image = butler.get(datasetType, parameters=parameters,\n",
    "                              dataId=coaddId)\n",
    "\n",
    "    return cutout_image"
   ]
  },
  {
   "cell_type": "code",
   "execution_count": null,
   "id": "7208ef02-6648-4977-a25f-7e44802afc91",
   "metadata": {},
   "outputs": [],
   "source": [
    "def cutout_calexp(butler, ra, dec, visit, detector, cutoutSideLength=51, **kwargs):\n",
    "    \n",
    "    \"\"\"\n",
    "    Produce a cutout from a calexp at the given ra, dec position.\n",
    "\n",
    "    Adapted from cutout_coadd which was adapted from a DC2 tutorial\n",
    "    notebook by Michael Wood-Vasey.\n",
    "\n",
    "    Parameters\n",
    "    ----------\n",
    "    butler: lsst.daf.persistence.Butler\n",
    "        Helper object providing access to a data repository\n",
    "    ra: float\n",
    "        Right ascension of the center of the cutout, in degrees\n",
    "    dec: float\n",
    "        Declination of the center of the cutout, in degrees\n",
    "    visit: int\n",
    "        Visit id of the calexp's visit\n",
    "    detector: int\n",
    "        Detector for the calexp\n",
    "    cutoutSideLength: float [optional]\n",
    "        Size of the cutout region in pixels.\n",
    "\n",
    "    Returns\n",
    "    -------\n",
    "    MaskedImage\n",
    "    \"\"\"\n",
    "    \n",
    "    dataId = {'visit': visit, 'detector': detector}    \n",
    "    radec = geom.SpherePoint(ra, dec, geom.degrees)\n",
    "    cutoutSize = geom.ExtentI(cutoutSideLength, cutoutSideLength)    \n",
    "    calexp_wcs = butler.get('calexp.wcs', **dataId)\n",
    "    xy = geom.PointI(calexp_wcs.skyToPixel(radec))\n",
    "    bbox = geom.BoxI(xy - cutoutSize // 2, cutoutSize)\n",
    "    parameters = {'bbox': bbox}\n",
    "    cutout_image = butler.get('calexp', parameters=parameters, **dataId)\n",
    "\n",
    "    return cutout_image"
   ]
  },
  {
   "cell_type": "code",
   "execution_count": null,
   "id": "b92643cd-11cd-46d3-a51b-aa20afa005f6",
   "metadata": {},
   "outputs": [],
   "source": [
    "def create_rgb(image, bgr=\"gri\", stretch=1, Q=10, scale=None):\n",
    "    \"\"\"\n",
    "    Create an RGB color composite image.\n",
    "\n",
    "    Parameters\n",
    "    ----------\n",
    "    image : `MultibandExposure`\n",
    "        `MultibandExposure` to display.\n",
    "    bgr : sequence\n",
    "        A 3-element sequence of filter names (i.e., keys of the exps dict)\n",
    "        indicating what band to use for each channel. If `image` only has\n",
    "        three filters then this parameter is ignored and the filters\n",
    "        in the image are used.\n",
    "    stretch: int\n",
    "        The linear stretch of the image.\n",
    "    Q: int\n",
    "        The Asinh softening parameter.\n",
    "    scale: list of 3 floats, each less than 1. (default: None)\n",
    "        Re-scales the RGB channels.\n",
    "\n",
    "    Returns\n",
    "    -------\n",
    "    rgb: ndarray\n",
    "        RGB (integer, 8-bits per channel) colour image as an NxNx3 numpy array.\n",
    "    \"\"\"\n",
    "\n",
    "    # If the image only has 3 bands, reverse the order of the bands\n",
    "    #   to produce the RGB image\n",
    "    if len(image) == 3:\n",
    "        bgr = image.filters\n",
    "\n",
    "    # Extract the primary image component of each Exposure with the\n",
    "    #   .image property, and use .array to get a NumPy array view.\n",
    "\n",
    "    if scale is None:\n",
    "        r_im = image[bgr[2]].array  # numpy array for the r channel\n",
    "        g_im = image[bgr[1]].array  # numpy array for the g channel\n",
    "        b_im = image[bgr[0]].array  # numpy array for the b channel\n",
    "    else:\n",
    "        # manually re-scaling the images here\n",
    "        r_im = image[bgr[2]].array * scale[0]\n",
    "        g_im = image[bgr[1]].array * scale[1]\n",
    "        b_im = image[bgr[0]].array * scale[2]\n",
    "\n",
    "    rgb = make_lupton_rgb(image_r=r_im,\n",
    "                          image_g=g_im,\n",
    "                          image_b=b_im,\n",
    "                          stretch=stretch, Q=Q)\n",
    "    # \"stretch\" and \"Q\" are parameters to stretch and scale the pixel values\n",
    "\n",
    "    return rgb"
   ]
  },
  {
   "cell_type": "markdown",
   "id": "45ce64d8-57d2-434a-8eb9-6806ad91796d",
   "metadata": {},
   "source": [
    "## Get Pixel Scale"
   ]
  },
  {
   "cell_type": "code",
   "execution_count": null,
   "id": "4768de88-d762-4653-9172-b46d50b25e40",
   "metadata": {},
   "outputs": [],
   "source": [
    "import lsst.geom as geom\n",
    "import lsst.sphgeom\n",
    "\n",
    "skymap = butler.get('skyMap', skymap=skymapName, collections=collections )\n",
    "tractInfo = skymap.generateTract(tract)\n",
    "for patch in tractInfo:    \n",
    "    patchID = patch.getSequentialIndex()\n",
    "        \n",
    "    ibb=patch.getInnerBBox()\n",
    "    tWCS=tractInfo.getWcs()\n",
    "       \n",
    "    # loop on the 4 corners\n",
    "    for icorn,corner in enumerate(ibb.getCorners()):\n",
    "        p = geom.Point2D(corner.getX(), corner.getY())\n",
    "        coord = tWCS.pixelToSky(p)"
   ]
  },
  {
   "cell_type": "code",
   "execution_count": null,
   "id": "634358b4-e8a9-489f-b7a2-88f0a1414e95",
   "metadata": {},
   "outputs": [],
   "source": [
    "tWCS"
   ]
  },
  {
   "cell_type": "code",
   "execution_count": null,
   "id": "1ba56f4f-773a-4287-89ba-7e9559a2a1c7",
   "metadata": {},
   "outputs": [],
   "source": [
    "#arcsec/pixel\n",
    "pixel_scale = tWCS.getPixelScale().asArcseconds()"
   ]
  },
  {
   "cell_type": "markdown",
   "id": "35b5b65f-a6ca-4e98-a54c-d72cf3f5ca89",
   "metadata": {},
   "source": [
    "## Selected visits"
   ]
  },
  {
   "cell_type": "code",
   "execution_count": null,
   "id": "d9f0bdef-d228-43ed-afa3-ebc48db575c7",
   "metadata": {},
   "outputs": [],
   "source": [
    "inputfilename = \"sources_objectTable-t3864-bg-o547-LATISS_runs_AUXTEL_DRP_IMAGING_20230509_20240414_w_2024_15_PREOPS-5069.csv\"\n",
    "#inputfilename = \"sources_objectTable-t3864-bg-o912-LATISS_runs_AUXTEL_DRP_IMAGING_20230509_20240414_w_2024_15_PREOPS-5069.csv\"\n",
    "df_myselectedvisits = pd.read_csv(inputfilename ,index_col=0)\n",
    "tract = 3864\n",
    "band = \"g\"\n",
    "objectname = 547\n",
    "path = f\"calexp_t{tract}_b{band}_o{objectname}\"\n",
    "title = f\"Auxtel Light Curves : tract = {tract}, band = {band}, object = {objectname} \"\n",
    "suptitle = inputfilename "
   ]
  },
  {
   "cell_type": "code",
   "execution_count": null,
   "id": "12f6aaf4-efdb-43b7-ab2f-0076078ba2c8",
   "metadata": {},
   "outputs": [],
   "source": [
    "if not os.path.exists(path):\n",
    "    os.mkdir(path)"
   ]
  },
  {
   "cell_type": "code",
   "execution_count": null,
   "id": "178b2ca6-b787-410f-8667-36a2b65e9eb6",
   "metadata": {},
   "outputs": [],
   "source": [
    "df_myselectedvisits.sort_values(\"visit\",inplace=True)\n",
    "#df_myselectedvisits.sort_index(inplace=True)"
   ]
  },
  {
   "cell_type": "code",
   "execution_count": null,
   "id": "53e7e649-c9e7-408f-a4bc-9d7a1ec0ff59",
   "metadata": {},
   "outputs": [],
   "source": [
    "df_myselectedvisits"
   ]
  },
  {
   "cell_type": "code",
   "execution_count": null,
   "id": "3f7866e0-b685-4abd-9b68-15cc21d0c001",
   "metadata": {},
   "outputs": [],
   "source": [
    "fig,ax = plt.subplots(1,1,figsize=(14,4))\n",
    "df_myselectedvisits.plot.scatter(x=\"expMidptMjd\",y=\"psfMag\",ax=ax,s=20,c=\"zeroPoint\",cmap=\"jet\",grid=True,rot=45)\n",
    "ax.set_title(title)\n",
    "plt.suptitle(suptitle)\n",
    "plt.tight_layout()\n",
    "plt.show()"
   ]
  },
  {
   "cell_type": "code",
   "execution_count": null,
   "id": "675348eb-a001-4bab-bacd-2ef2664a56cf",
   "metadata": {},
   "outputs": [],
   "source": [
    "fig,ax = plt.subplots(1,1,figsize=(14,4))\n",
    "df_myselectedvisits.plot.scatter(x=\"expMidptMjd\",y=\"psfMagDiffMmag\",ax=ax,s=20,c=\"zeroPoint\",cmap=\"jet\",grid=True,rot=45)\n",
    "ax.set_title(title)\n",
    "plt.suptitle(suptitle)\n",
    "plt.tight_layout()\n",
    "plt.show()"
   ]
  },
  {
   "cell_type": "code",
   "execution_count": null,
   "id": "64e0aa1b-1ee5-4fc9-8430-cbd8561d55c8",
   "metadata": {},
   "outputs": [],
   "source": [
    "bundle_selected_object = df_myselectedvisits[[\"visit\",\"psfMagDiffMmag\"]]\n",
    "fig, ax = plt.subplots(1,1,figsize=(16,2))\n",
    "bundle_selected_object.plot.bar(x=\"visit\",ax=ax,color=\"b\" ,rot=90,grid=True)\n",
    "title = f\"psfMagDiffMmag for object {objectname} for tract {tract} in band {band} (AUXTEL)\"\n",
    "ax.set_title(title)"
   ]
  },
  {
   "cell_type": "code",
   "execution_count": null,
   "id": "a5a96371-d784-4027-b404-35f06dbd0ba2",
   "metadata": {},
   "outputs": [],
   "source": [
    "print(path)"
   ]
  },
  {
   "cell_type": "code",
   "execution_count": null,
   "id": "3912d138-dea8-4e21-8714-63e239c5cdd3",
   "metadata": {},
   "outputs": [],
   "source": [
    "listOfVisitId = df_myselectedvisits[\"visit\"].values\n",
    "listOfVisitId"
   ]
  },
  {
   "cell_type": "code",
   "execution_count": null,
   "id": "b2afeee8-452e-46b8-8047-62e48fa7232c",
   "metadata": {},
   "outputs": [],
   "source": [
    "# Create a basic schema to use with these tasks\n",
    "schema = afwTable.SourceTable.makeMinimalSchema()\n",
    "print(schema)\n",
    "\n",
    "# Create a container which will be used to record metadata\n",
    "#  about algorithm execution\n",
    "algMetadata = dafBase.PropertyList()\n",
    "print('algMetadata: ')\n",
    "algMetadata"
   ]
  },
  {
   "cell_type": "code",
   "execution_count": null,
   "id": "b194645b-f6ea-4bfd-9ce5-0198fa256afd",
   "metadata": {},
   "outputs": [],
   "source": [
    "# process the image\n",
    "# Characterize the image properties\n",
    "config = CharacterizeImageTask.ConfigClass()\n",
    "config.psfIterations = 1\n",
    "charImageTask = CharacterizeImageTask(config=config)\n",
    "\n",
    "# Detect sources\n",
    "config = SourceDetectionTask.ConfigClass()\n",
    "# detection threshold in units of thresholdType\n",
    "config.thresholdValue = 10\n",
    "# units for thresholdValue\n",
    "config.thresholdType = \"stdev\"\n",
    "sourceDetectionTask = SourceDetectionTask(schema=schema, config=config)\n",
    "\n",
    "# Deblend sources\n",
    "sourceDeblendTask = SourceDeblendTask(schema=schema)\n",
    "\n",
    "# Measure source properties\n",
    "config = SingleFrameMeasurementTask.ConfigClass()\n",
    "sourceMeasurementTask = SingleFrameMeasurementTask(schema=schema,\n",
    "                                                   config=config,\n",
    "                                                   algMetadata=algMetadata)"
   ]
  },
  {
   "cell_type": "code",
   "execution_count": null,
   "id": "71440acf-8aa8-4cfa-83c7-ce2077e4d446",
   "metadata": {},
   "outputs": [],
   "source": [
    "datasetType = 'calexp'\n",
    "boxSize = 25\n",
    "imMin, imMax, Q = -0.001, 0.004, 8\n",
    "expMin, expMax = -25, 100\n",
    "\n",
    "\n",
    "all_xytarget = []\n",
    "all_cutout = []\n",
    "all_psfSigma = []\n",
    "all_psfMagDiffMmag = []\n",
    "all_apFlux_50_0_instFlux = []                 \n",
    "all_apFlux_50_0_instFluxErr = []  \n",
    "\n",
    "all_fpspans = []\n",
    "all_fp = []\n",
    "all_hfpspans = []\n",
    "all_hfp = []\n",
    "all_hfpspans_mask = []\n",
    "\n",
    "all_sourcemeas = []\n",
    "\n",
    "\n",
    "for index,visitId in enumerate(listOfVisitId):\n",
    "\n",
    "    print(f\"==================={index}) ====== {visitId} =============================\")\n",
    "    dataId = {'visit': visitId, 'instrument':instrument , 'detector': 0}\n",
    "\n",
    "    #retrieve the calexp\n",
    "    calexp = butler.get('calexp', **dataId,collections=collections)\n",
    "\n",
    "    # retrieve some information\n",
    "    info_psf = calexp.getPsf()\n",
    "    info_wcs = calexp.getWcs()\n",
    "    info_photocalib = calexp.getPhotoCalib()\n",
    "    \n",
    "    # remove the detection plane\n",
    "    calexp.mask.removeAndClearMaskPlane('DETECTED')\n",
    "\n",
    "    # get the background\n",
    "    bkgd = butler.get('calexpBackground', **dataId,collections=collections)\n",
    "    \n",
    "    # add the background\n",
    "    calexp.maskedImage += bkgd.getImage()\n",
    "\n",
    "    # Select the subimage\n",
    "    row_source = df_myselectedvisits.iloc[index]\n",
    "    x_target = row_source['x']\n",
    "    y_target = row_source['y']\n",
    "    ra_target= row_source['ra']\n",
    "    dec_target= row_source['dec']\n",
    "    psfSigma = row_source['psfSigma']\n",
    "    psfMagDiffMmag = row_source['psfMagDiffMmag'] \n",
    "    apFlux_50_0_instFlux = row_source['apFlux_50_0_instFlux']\n",
    "    apFlux_50_0_instFluxErr = row_source['apFlux_50_0_instFluxErr']\n",
    "\n",
    "    all_xytarget.append((x_target,y_target))\n",
    "\n",
    "    print(f\">>> target ({x_target},{y_target}),......, psfSigma = {psfSigma}\")\n",
    "    xSrc = x_target\n",
    "    ySrc = y_target\n",
    "    targetPoint = geom.Point2D(xSrc,ySrc)\n",
    "    \n",
    "    minBbox = geom.Point2I(int(xSrc) - boxSize ,int(ySrc) - boxSize)\n",
    "    maxBbox = geom.Point2I(int(xSrc) + boxSize, int(ySrc) + boxSize)\n",
    "    srcBbox = geom.Box2I(minBbox, maxBbox)\n",
    "    # Make the cutout\n",
    "\n",
    "    # two ways to make cutout ExposureF or Factory\n",
    "    subimg = afwImage.ExposureF(calexp, srcBbox, afwImage.PARENT, True)\n",
    "    \n",
    "    # Generate the cutout image\n",
    "    cutout = calexp.Factory(calexp, srcBbox, origin=afwImage.LOCAL, deep=False)\n",
    "    #extent = (xmin,ymin,xmin+width,ymin+height)\n",
    "    all_cutout.append(cutout)\n",
    "    all_psfSigma.append(psfSigma)\n",
    "    all_psfMagDiffMmag.append(psfMagDiffMmag)\n",
    "    all_apFlux_50_0_instFlux.append(apFlux_50_0_instFlux)                \n",
    "    all_apFlux_50_0_instFluxErr.append(apFlux_50_0_instFluxErr)  \n",
    "\n",
    "        \n",
    "    \n",
    "    print(\"*****************************\")\n",
    "    print(\"* 1) Image Characterization *\")  \n",
    "    print(\"*****************************\")\n",
    "    # 1) Image characterization (this cell may take a few seconds)\n",
    "    #result = charImageTask.run(cutout)\n",
    "    result = charImageTask.run(calexp)\n",
    "    point = geom.Point2D(x_target, y_target)\n",
    "    # Get the PSF at our point of interest\n",
    "    psf = calexp.getPsf()\n",
    "    sigma = psf.computeShape(point).getDeterminantRadius()\n",
    "    pixelScale = calexp.getWcs().getPixelScale().asArcseconds()\n",
    "\n",
    "    # The factor of 2.355 converts from std to fwhm\n",
    "    print('>>>>>>>>>>>>>>>   psf fwhm = {:.2f} arcsec'.format(sigma*pixelScale*2.355))\n",
    "\n",
    "    print(\"*****************************\")\n",
    "    print(\"* 2) Sources Detection      *\")  \n",
    "    print(\"*****************************\")\n",
    "    # 2) Source detection (this cell may take a few seconds)\n",
    "    tab = afwTable.SourceTable.make(schema)\n",
    "    result = sourceDetectionTask.run(tab, calexp)\n",
    "    \n",
    "    sources = result.sources\n",
    "    fpset = result.positive\n",
    "\n",
    "    # work around footprint\n",
    "    NFP = len(fpset.getFootprints())\n",
    "    distance_to_target = np.zeros(NFP)\n",
    "    for idx,fp in enumerate(fpset.getFootprints()):\n",
    "        distance_to_target[idx] =  np.sqrt(fp.getCentroid().distanceSquared(targetPoint))\n",
    "    idx_min_fp = np.where( distance_to_target == distance_to_target.min())[0][0]\n",
    "    fpsel = fpset.getFootprints()[idx_min_fp]\n",
    "    print(f\" >>>>> footprint at index {idx_min_fp} :\",fpsel)\n",
    "    fpspans = fpsel.getSpans()\n",
    "    all_fpspans.append(fpspans)\n",
    "    all_fp.append(fpsel) \n",
    "    \n",
    "    # convert fpset into Heavy Footprint\n",
    "    fpset.makeHeavy(calexp.getMaskedImage())\n",
    "    # This means we have to redefine fps:\n",
    "    hfps = fpset.getFootprints()\n",
    "    NHFP = len(hfps) \n",
    "    distance_to_target = np.zeros(NHFP)\n",
    "    for idx,hfp in enumerate(hfps):\n",
    "        distance_to_target[idx] =  np.sqrt(hfp.getCentroid().distanceSquared(targetPoint))\n",
    "    idx_min_hfp = np.where( distance_to_target == distance_to_target.min())[0][0]\n",
    "    hfpsel = hfps [idx_min_hfp]\n",
    "    print(f\" >>>>> heavy footprint at index {idx_min_hfp} :\",hfpsel)\n",
    "\n",
    "    all_hfpspans.append(hfpsel.getSpans().unflatten(hfpsel.getImageArray()))\n",
    "    all_hfp.append(hfpsel)\n",
    "\n",
    "    hfpmask = hfpsel.getSpans().unflatten(hfpsel.getMaskArray())\n",
    "    all_hfpspans_mask.append(hfpmask)\n",
    "    \n",
    "\n",
    "    #Next we run the `SourceDeblendTask` and `SingleFrameMeasurementTask`. \n",
    "    # A deeper investigation of these tasks is beyond the scope of this notebook.\n",
    "    \n",
    "    print(\"*****************************\")\n",
    "    print(\"* 3) Sources Deblending     *\")  \n",
    "    print(\"*****************************\")\n",
    "    # 3) # Source deblending\n",
    "    sourceDeblendTask.run(calexp, sources)\n",
    "\n",
    "    print(\"*****************************\")\n",
    "    print(\"* 4) Sources Measurements   *\")  \n",
    "    print(\"*****************************\")\n",
    "    # 4) Source measurements\n",
    "    # Source measurement\n",
    "    sourceMeasurementTask.run(measCat=sources, exposure=calexp)\n",
    "\n",
    "    # To get a better look at the output sources, \n",
    "    # we need to make sure that the `SourceCatalog` is contiguous in memory. \n",
    "    # Converting to an `astropy` table provides a human-readable output format. \n",
    "    # A deeper dive into `SourceCatalog` is beyond the scope of this notebook.\n",
    "    #\n",
    "    print(\"*************************************\")\n",
    "    print(\"* 5) Analyse the results in sources *\")\n",
    "    print(\"*************************************\")\n",
    "    \n",
    "    sources = sources.copy(True)\n",
    "    ts = sources.asAstropy()\n",
    "    dfs = ts.to_pandas()\n",
    "    x0 = x_target\n",
    "    y0 = y_target\n",
    "    distances = dfs[[\"slot_Centroid_x\",\"slot_Centroid_y\"]].apply(lambda row : np.sqrt( (row[\"slot_Centroid_x\"]-x0)**2+(row[\"slot_Centroid_y\"]-y0)**2),axis=1)\n",
    "    row_sel = distances[distances == distances.min()]\n",
    "    idxs_sel = row_sel.index[0]\n",
    "    the_meassource_row = dfs.iloc[idxs_sel].dropna()\n",
    "    print( the_meassource_row)\n",
    "    all_sourcemeas.append(dict(the_meassource_row)) \n",
    "    \n",
    "    if index>=30:\n",
    "        break"
   ]
  },
  {
   "cell_type": "code",
   "execution_count": null,
   "id": "90a6c78f-1464-4402-afa9-cd3c07dfd3c2",
   "metadata": {},
   "outputs": [],
   "source": [
    "NIMG = len(all_cutout)\n",
    "NCOLS = 3\n",
    "#NROWS = int(np.ceil(NIMG/NCOLS))\n",
    "NROWS = NIMG"
   ]
  },
  {
   "cell_type": "code",
   "execution_count": null,
   "id": "0e324cef-11b9-43e0-b673-b599d3aa6749",
   "metadata": {},
   "outputs": [],
   "source": [
    "fig, axes = plt.subplots(ncols=NCOLS,nrows=NROWS,figsize=(6*NCOLS,6*NROWS))\n",
    "for index,ax in enumerate(axes.flatten()):\n",
    "    #if index//2 == NIMG:\n",
    "    #    break\n",
    "\n",
    "    # even number show the cutout\n",
    "    if index%NCOLS  == 0:\n",
    "        cutout = all_cutout[index//NCOLS].image.array\n",
    "        visitId = listOfVisitId[index//NCOLS]\n",
    "        #ax.imshow(cutout,interpolation=\"nearest\")\n",
    "        psfSigma = all_psfSigma[index//NCOLS]\n",
    "        psfMagDiffMmag = all_psfMagDiffMmag[index//NCOLS]\n",
    "        apFlux_50_0_instFlux = all_apFlux_50_0_instFlux[index//NCOLS]\n",
    "        apFlux_50_0_instFluxErr = all_apFlux_50_0_instFluxErr[index//NCOLS]\n",
    "\n",
    "        \n",
    "        x_target,y_target = all_xytarget[index//NCOLS][0],all_xytarget[index//NCOLS][1]\n",
    "        #textstr = '\\n'.join((\n",
    "        #r'$expos = %.0f$' % (visitId, ),\n",
    "        #r'$x_t = %.0f , y_t = %.0f$' % (x_target,y_target),\n",
    "        #r'$psfMagDiff = %.0f mmag$' %(psfMagDiffMmag, ),  \n",
    "        #r'$\\sigma_{PSF} = %.2f pix$' % (psfSigma , )))\n",
    "\n",
    "        textstr = '\\n'.join((\n",
    "        r'$expos = %.0f$' % (visitId, ),\n",
    "        r'$x_t = %.1f , y_t = %.1f$' % (x_target,y_target),\n",
    "        r'$psfMagDiff = %.0f mmag$' %(psfMagDiffMmag, ),   \n",
    "        r'$apFlux\\_50\\_instFlux = %.0f \\;ADU$' %(apFlux_50_0_instFlux, ),  \n",
    "        r'$apFlux\\_50\\_instFluxErr = %.0f \\;ADU$' %(apFlux_50_0_instFluxErr, ),   \n",
    "        r'$\\sigma_{PSF} = %.2f pix$' % (psfSigma , )))\n",
    "        \n",
    "        ann = Annulus((boxSize,boxSize),r=psfSigma,width=0.1,color=\"red\")\n",
    "        ax.imshow(cutout,aspect='equal')\n",
    "        ax.add_patch(ann)\n",
    "        ax.text(0.05, 0.95, textstr, transform=ax.transAxes, fontsize=16,\n",
    "        verticalalignment='top',color=\"y\", bbox=props)  \n",
    "        title = f\" {index//NCOLS}) {visitId}\"\n",
    "        ax.set_title(title)\n",
    "    \n",
    "\n",
    "        # 'base_PsfFlux_instFlux'\n",
    "        # 'slot_ApFlux_instFlux'\n",
    "        # 'base_GaussianFlux_instFlux'\n",
    "        # 'base_CircularApertureFlux_50_0_instFlux'\n",
    "        # 'base_PsfFlux_area'\n",
    "        # 'base_PsfFlux_chi2'\n",
    "        # 'base_PsfFlux_npixels'\n",
    "\n",
    "        the_sourcemeas = all_sourcemeas[index//NCOLS]\n",
    "        base_PsfFlux_instFlux = the_sourcemeas['base_PsfFlux_instFlux'] \n",
    "        slot_ApFlux_instFlux = the_sourcemeas['slot_ApFlux_instFlux']\n",
    "        base_GaussianFlux_instFlux = the_sourcemeas['base_GaussianFlux_instFlux']\n",
    "        base_CircularApertureFlux_50_0_instFlux = the_sourcemeas['base_CircularApertureFlux_50_0_instFlux']\n",
    "        base_PsfFlux_area = the_sourcemeas['base_PsfFlux_area']\n",
    "        base_PsfFlux_chi2 = the_sourcemeas['base_PsfFlux_chi2']\n",
    "        base_PsfFlux_npixels = the_sourcemeas['base_PsfFlux_npixels']\n",
    "\n",
    "        textstr1 = '\\n'.join((\n",
    "            r'$PsfFlux\\_instFlux = %.0f$ ADU' % (base_PsfFlux_instFlux, ),\n",
    "            r'$ApFlux\\_instFlux = %.0f$ ADU' % (slot_ApFlux_instFlux, ),\n",
    "            r'$GaussianFlux\\_instFlux  = %.0f$ ADU' %(base_GaussianFlux_instFlux, ),  \n",
    "            r'$CircApFlux50\\_instFlux = %.0f$ ADU' % (base_CircularApertureFlux_50_0_instFlux , )))\n",
    "\n",
    "\n",
    "        textstr2 = '\\n'.join((\n",
    "            r'$PsfFlux\\_area = %.0f$' % (base_PsfFlux_area, ),\n",
    "            r'$PsfFlux\\_chi2 = %.0f$' % (base_PsfFlux_chi2, ),\n",
    "            r'$PsfFlux\\_npixels = %.0f$' % (base_PsfFlux_npixels, )))\n",
    "\n",
    "    # odd number shows the heavy footprint  \n",
    "    elif index%NCOLS  == 1:\n",
    "        hfootpr = all_hfpspans[index//NCOLS]\n",
    "        footpr = all_fpspans[index//NCOLS]\n",
    "        ax.imshow(hfootpr,cmap=\"viridis\",aspect='equal')\n",
    "        title = all_hfp[index//NCOLS]\n",
    "        ax.set_title(title)\n",
    "        ax.text(0.05, 0.95, textstr1, transform=ax.transAxes, fontsize=16,verticalalignment='top',color=\"y\", bbox=props) \n",
    "    elif index%NCOLS == 2:\n",
    "        mask = all_hfpspans_mask[index//NCOLS]\n",
    "        im = ax.imshow(mask,cmap=\"viridis\",vmin=0,vmax=32+16,aspect='equal')\n",
    "        #ax = plt.gca()\n",
    "        divider = make_axes_locatable(ax)\n",
    "        cax = divider.append_axes(\"right\", size=\"5%\", pad=\"1%\")\n",
    "        ax.set_title(\"pixel mask\")\n",
    "        plt.colorbar(im, cax=cax, ticks=[0, 32, 32+16])\n",
    "        ax.text(0.2, 0.55, textstr2, transform=ax.transAxes, fontsize=16,verticalalignment='top',color=\"r\", bbox=props) \n",
    "        \n",
    "\n",
    "\n",
    "plt.suptitle(suptitle,y=1.0)\n",
    "plt.tight_layout()\n",
    "plt.show()"
   ]
  },
  {
   "cell_type": "markdown",
   "id": "908978c7-3a2e-4894-b42c-6a2fd0509150",
   "metadata": {},
   "source": [
    "The values are the exponent of the bitmask. So pixels only marked detected will be 2^5 = 32. Pixels that are both on the edge of the original image and detected will be 2^5 + 2^4 = 48. We will visualize the mask plane values in a similar manner as before, except that we will be displaying the values of the mask array."
   ]
  },
  {
   "cell_type": "code",
   "execution_count": null,
   "id": "41c7cbaf-cba6-4850-a786-80b4b6f15bbf",
   "metadata": {},
   "outputs": [],
   "source": [
    "calexp.getMask().getMaskPlaneDict()"
   ]
  },
  {
   "cell_type": "code",
   "execution_count": null,
   "id": "52fdc8c5-99e0-464c-9459-c7d7debae507",
   "metadata": {},
   "outputs": [],
   "source": [
    "#mask = calexp.getMask()\n",
    "#for maskName, maskBit in mask.getMaskPlaneDict().items():\n",
    "#    print('{}: {}'.format(maskName, display.getMaskPlaneColor(maskName)))"
   ]
  },
  {
   "cell_type": "code",
   "execution_count": null,
   "id": "8d14c60f-1d9b-426c-83ff-62d843888267",
   "metadata": {},
   "outputs": [],
   "source": [
    "# The copy makes sure that the sources are sequential in memory\n",
    "sources = sources.copy(True)\n",
    "\n",
    "# Investigate the output source catalog\n",
    "t = sources.asAstropy()\n",
    "dfs = t.to_pandas()\n",
    "t"
   ]
  },
  {
   "cell_type": "code",
   "execution_count": null,
   "id": "8b8f8565-8831-41cd-b68a-d311e13d9e50",
   "metadata": {},
   "outputs": [],
   "source": [
    "sources.getSchema().getNames(topOnly=True)"
   ]
  },
  {
   "cell_type": "code",
   "execution_count": null,
   "id": "9a2af2e1-e44b-4481-ba0a-7165417763b9",
   "metadata": {},
   "outputs": [],
   "source": [
    "sources.schema.getNames()"
   ]
  },
  {
   "cell_type": "code",
   "execution_count": null,
   "id": "eb935242-6403-4572-8e6e-4552b04c73e3",
   "metadata": {},
   "outputs": [],
   "source": [
    "sources.getSchema().find('id')"
   ]
  },
  {
   "cell_type": "code",
   "execution_count": null,
   "id": "b59517e5-5774-4991-acb7-0d5c2e7aae1c",
   "metadata": {},
   "outputs": [],
   "source": [
    "sources.getSchema().checkUnits()"
   ]
  },
  {
   "cell_type": "code",
   "execution_count": null,
   "id": "5304b7f5-69f6-4a50-bb08-d4a875f8a17d",
   "metadata": {},
   "outputs": [],
   "source": [
    "dir(sources.getSchema())"
   ]
  },
  {
   "cell_type": "code",
   "execution_count": null,
   "id": "f8ec67f3-2676-4919-90a1-9ee98767f247",
   "metadata": {},
   "outputs": [],
   "source": [
    "sources.getSchema().asAstropy()"
   ]
  },
  {
   "cell_type": "code",
   "execution_count": null,
   "id": "5fa48cbc-c697-48b2-8be5-1ce0253c7005",
   "metadata": {},
   "outputs": [],
   "source": [
    "dfs"
   ]
  },
  {
   "cell_type": "code",
   "execution_count": null,
   "id": "61212b0b-a8f9-4a19-97f1-fedfccb0fcd4",
   "metadata": {},
   "outputs": [],
   "source": [
    "x0 = x_target\n",
    "y0 = y_target"
   ]
  },
  {
   "cell_type": "code",
   "execution_count": null,
   "id": "fbf47d38-3130-4b73-bd4b-37eec8ee84b0",
   "metadata": {},
   "outputs": [],
   "source": [
    "target0 = lsst.geom.Point2D(x0,y0)"
   ]
  },
  {
   "cell_type": "code",
   "execution_count": null,
   "id": "730a21a3-f653-4376-b8ec-8668c18c847d",
   "metadata": {},
   "outputs": [],
   "source": [
    "t[[\"slot_Centroid_x\",\"slot_Centroid_y\"]]"
   ]
  },
  {
   "cell_type": "code",
   "execution_count": null,
   "id": "c4791038-ba28-438f-b5b1-e36a03d31190",
   "metadata": {},
   "outputs": [],
   "source": [
    "distances = dfs[[\"slot_Centroid_x\",\"slot_Centroid_y\"]].apply(lambda row : np.sqrt( (row[\"slot_Centroid_x\"]-x0)**2+(row[\"slot_Centroid_y\"]-y0)**2),axis=1)"
   ]
  },
  {
   "cell_type": "code",
   "execution_count": null,
   "id": "81277dea-ef94-4502-879a-7be9be5cff38",
   "metadata": {},
   "outputs": [],
   "source": [
    "row_sel = distances[distances == distances.min()]\n",
    "row_sel"
   ]
  },
  {
   "cell_type": "code",
   "execution_count": null,
   "id": "438423fb-97ac-4584-a8ef-a1cddf0c22c0",
   "metadata": {},
   "outputs": [],
   "source": [
    "row_sel.index[0]"
   ]
  },
  {
   "cell_type": "code",
   "execution_count": null,
   "id": "e0bf4695-404f-4e16-947b-2c1434908e7a",
   "metadata": {},
   "outputs": [],
   "source": [
    "row_sel = dfs.iloc[17].dropna()\n",
    "print(row_sel)"
   ]
  },
  {
   "cell_type": "code",
   "execution_count": null,
   "id": "7a0a0d72-fbda-4123-93da-7f277c190945",
   "metadata": {},
   "outputs": [],
   "source": [
    "dict(row_sel)"
   ]
  },
  {
   "cell_type": "code",
   "execution_count": null,
   "id": "bb924a32-d123-431f-b831-276b9779c4c8",
   "metadata": {},
   "outputs": [],
   "source": [
    "# 'base_PsfFlux_instFlux'\n",
    "# 'slot_ApFlux_instFlux'\n",
    "# 'base_GaussianFlux_instFlux'\n",
    "# 'base_CircularApertureFlux_50_0_instFlux'\n",
    "# 'base_PsfFlux_area'\n",
    "# 'base_PsfFlux_chi2'\n",
    "# 'base_PsfFlux_npixels'"
   ]
  }
 ],
 "metadata": {
  "kernelspec": {
   "display_name": "LSST",
   "language": "python",
   "name": "lsst"
  },
  "language_info": {
   "codemirror_mode": {
    "name": "ipython",
    "version": 3
   },
   "file_extension": ".py",
   "mimetype": "text/x-python",
   "name": "python",
   "nbconvert_exporter": "python",
   "pygments_lexer": "ipython3",
   "version": "3.11.7"
  }
 },
 "nbformat": 4,
 "nbformat_minor": 5
}
