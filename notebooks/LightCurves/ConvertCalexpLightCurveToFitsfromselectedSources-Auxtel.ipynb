{
 "cells": [
  {
   "cell_type": "markdown",
   "id": "45bf4242-bfc5-4d43-88c4-a8059ae148df",
   "metadata": {},
   "source": [
    "# Convert a series of calexp into fits files from sources Light Curve"
   ]
  },
  {
   "cell_type": "markdown",
   "id": "01993b6e-6438-4fca-a5d5-1f9791336847",
   "metadata": {},
   "source": [
    "- author Sylvie Dagoret-Campagne\n",
    "- creation date 2024-05-29\n",
    "- last update 2024-05-31\n",
    "- affiliation : IJCLab\n",
    "- Kernel **w_2024_16**\n"
   ]
  },
  {
   "cell_type": "code",
   "execution_count": null,
   "id": "bf752b70-e6ca-4cbf-8e8c-20bf7f0d8f61",
   "metadata": {},
   "outputs": [],
   "source": [
    "import numpy as np\n",
    "import matplotlib.pyplot as plt\n",
    "%matplotlib inline\n",
    "from mpl_toolkits.axes_grid1 import make_axes_locatable\n",
    "from matplotlib.colors import LogNorm,SymLogNorm\n",
    "\n",
    "\n",
    "import matplotlib.ticker                         # here's where the formatter is\n",
    "from matplotlib.ticker import (MultipleLocator, FormatStrFormatter,\n",
    "                               AutoMinorLocator)\n",
    "\n",
    "from astropy.visualization import (MinMaxInterval, SqrtStretch,ZScaleInterval,PercentileInterval,\n",
    "                                   ImageNormalize,imshow_norm)\n",
    "from astropy.visualization.stretch import SinhStretch, LinearStretch,AsinhStretch,LogStretch\n",
    "\n",
    "from astropy.io import fits\n",
    "from astropy.wcs import WCS\n",
    "\n",
    "\n",
    "import pandas as pd\n",
    "pd.set_option(\"display.max_columns\", None)\n",
    "pd.set_option('display.max_rows', 100)\n",
    "\n",
    "import matplotlib.ticker                         # here's where the formatter is\n",
    "import os\n",
    "import re\n",
    "import pandas as pd\n",
    "import pickle\n",
    "from collections import OrderedDict\n",
    "\n",
    "plt.rcParams[\"figure.figsize\"] = (4,3)\n",
    "plt.rcParams[\"axes.labelsize\"] = 'x-large'\n",
    "plt.rcParams['axes.titlesize'] = 'x-large'\n",
    "plt.rcParams['xtick.labelsize']= 'x-large'\n",
    "plt.rcParams['ytick.labelsize']= 'x-large'"
   ]
  },
  {
   "cell_type": "code",
   "execution_count": null,
   "id": "4950be9c-6c53-44ba-9804-d89a6b877534",
   "metadata": {},
   "outputs": [],
   "source": [
    "import gc"
   ]
  },
  {
   "cell_type": "code",
   "execution_count": null,
   "id": "0ca0d1e6-5f82-4c43-aaa3-8524fc2bc5ba",
   "metadata": {},
   "outputs": [],
   "source": [
    "from matplotlib.ticker import (MultipleLocator, FormatStrFormatter,\n",
    "                               AutoMinorLocator)\n",
    "\n",
    "from astropy.visualization import (MinMaxInterval, SqrtStretch,ZScaleInterval,PercentileInterval,\n",
    "                                   ImageNormalize,imshow_norm)\n",
    "from astropy.visualization.stretch import SinhStretch, LinearStretch,AsinhStretch,LogStretch\n",
    "\n",
    "from astropy.time import Time\n"
   ]
  },
  {
   "cell_type": "code",
   "execution_count": null,
   "id": "51ddfce4-9a0f-4804-bc6a-7f9138874f16",
   "metadata": {},
   "outputs": [],
   "source": [
    "import lsst.daf.butler as dafButler\n",
    "#import lsst.summit.utils.butlerUtils as butlerUtils"
   ]
  },
  {
   "cell_type": "code",
   "execution_count": null,
   "id": "34f037b5-b6a2-4f93-b86b-a6108d8a5ea7",
   "metadata": {},
   "outputs": [],
   "source": [
    "import lsst.afw.image as afwImage\n",
    "import lsst.afw.display as afwDisplay\n",
    "import lsst.afw.table as afwTable\n",
    "import lsst.geom as geom"
   ]
  },
  {
   "cell_type": "code",
   "execution_count": null,
   "id": "7f26c627-fc82-4f60-8e0a-c25657f092f9",
   "metadata": {},
   "outputs": [],
   "source": [
    "# LSST Display\n",
    "import lsst.afw.display as afwDisplay\n",
    "afwDisplay.setDefaultBackend('matplotlib')"
   ]
  },
  {
   "cell_type": "code",
   "execution_count": null,
   "id": "aba2cfa4-809a-4f1c-8e8f-9f81547e0b5e",
   "metadata": {},
   "outputs": [],
   "source": [
    "transform = AsinhStretch() + PercentileInterval(99.)"
   ]
  },
  {
   "cell_type": "markdown",
   "id": "bd928c45-cd0d-49d4-9cb3-7ef8de12c3b8",
   "metadata": {},
   "source": [
    "### Example to fit a gaussian with astropy\n",
    "\n",
    "- https://github.com/sylvielsstfr/Fors2pcigale/blob/19-plot-fitted-emission-lines-from-notebooks/src/gelato/Example/ExampleFitInNb.ipynb"
   ]
  },
  {
   "cell_type": "code",
   "execution_count": null,
   "id": "1cf2a4c0-75bf-419b-99f8-1aa6cfccbb7c",
   "metadata": {},
   "outputs": [],
   "source": [
    "from astropy.modeling import models, fitting\n",
    "from astropy import modeling\n",
    "# define a model for a line\n",
    "g_init = models.Gaussian1D(amplitude=1, mean=0, stddev=1)\n",
    "# initialize a linear fitter\n",
    "fit_g = fitting.LevMarLSQFitter()"
   ]
  },
  {
   "cell_type": "code",
   "execution_count": null,
   "id": "a60605b7-852b-4a2e-9eaa-104c0b767884",
   "metadata": {},
   "outputs": [],
   "source": [
    "m = modeling.models.Gaussian1D(amplitude=10, mean=30, stddev=5)\n",
    "x = np.linspace(0, 100, 2000)\n",
    "data = m(x)\n",
    "data = data + np.sqrt(data) * np.random.random(x.size) - 0.5\n",
    "data -= data.min()\n",
    "plt.plot(x, data)"
   ]
  },
  {
   "cell_type": "code",
   "execution_count": null,
   "id": "41753d2f-6ad7-4866-af3f-7622fb5e9d98",
   "metadata": {},
   "outputs": [],
   "source": [
    "fitter = modeling.fitting.LevMarLSQFitter()\n",
    "model = modeling.models.Gaussian1D()   # depending on the data you need to give some initial values\n",
    "fitted_model = fit_g(model, x, data)"
   ]
  },
  {
   "cell_type": "code",
   "execution_count": null,
   "id": "a8480b48-68d6-4dbe-944a-e4ac572c68eb",
   "metadata": {},
   "outputs": [],
   "source": [
    "fitted_model.mean.value"
   ]
  },
  {
   "cell_type": "markdown",
   "id": "351e0468-d4f5-4c9e-b3db-1263499470cc",
   "metadata": {},
   "source": [
    "Import statements that we will need later"
   ]
  },
  {
   "cell_type": "markdown",
   "id": "5db4beba-3082-4754-8e70-26472f1c226c",
   "metadata": {},
   "source": [
    "Let's make a new plot and metric tool, we'll base it on the example in the getting started guide."
   ]
  },
  {
   "cell_type": "code",
   "execution_count": null,
   "id": "b26e1f0b-83be-4348-b87c-88294ec7c8d6",
   "metadata": {},
   "outputs": [],
   "source": [
    "# INSERT YOUR collection and tract\n",
    "# for rehearsal use collection 2 which have CCDvisit\n",
    "butlerRoot = \"/repo/embargo\"\n",
    "\n",
    "collection1 = 'LSSTComCamSim/runs/nightlyvalidation/20240402/d_2024_03_29/DM-43612'\n",
    "collection2 = 'LSSTComCamSim/runs/nightlyvalidation/20240403/d_2024_03_29/DM-43612'\n",
    "collection3 = 'LSSTComCamSim/runs/nightlyvalidation/20240404/d_2024_03_29/DM-43612'\n",
    "#collection = 'LATISS/runs/AUXTEL_DRP_IMAGING_20230509_20240311/w_2024_10/PREOPS-4985'\n",
    "collection = 'LATISS/runs/AUXTEL_DRP_IMAGING_20230509_20240414/w_2024_15/PREOPS-5069' # COMPLETED\n",
    "\n",
    "collectionn = collection\n",
    "#collections = [collection1,collection2,collection3]\n",
    "collections = [collection]\n",
    "collectionStr = collectionn.replace(\"/\", \"_\")\n",
    "fn_ccdVisit_tracts_patches = f\"ccdVisittractpatch_{collectionStr}.csv\"\n",
    "instrument = 'LATISS'\n",
    "skymapName = \"latiss_v1\"\n",
    "where_clause = \"instrument = \\'\" + instrument+ \"\\'\"\n",
    "tract = 3864 # mostly for light-curves\n",
    "patch_sel = 236\n",
    "band = 'g'\n",
    "#tract = 5615\n",
    "# tract = 5634 # interesting to view calib parameters\n",
    "suptitle = collectionStr + f\" inst = {instrument} tract = {tract}\""
   ]
  },
  {
   "cell_type": "code",
   "execution_count": null,
   "id": "3048e2e2-2489-43e0-a96d-848c548700cb",
   "metadata": {},
   "outputs": [],
   "source": [
    "#dataId = {\"skymap\": \"latiss_v1\", \"tract\": 5615, \"instrument\": \"LATISS\"}\n",
    "dataId = {\"skymap\": skymapName, \"tract\": tract, \"instrument\": instrument}\n",
    "repo = '/sdf/group/rubin/repo/oga/'\n",
    "butler = dafButler.Butler(repo)\n",
    "#t = Butler.get(table_sel, dataId=dataId, collections=collections)\n",
    "registry = butler.registry"
   ]
  },
  {
   "cell_type": "code",
   "execution_count": null,
   "id": "d87b3bde-871f-4eba-87f7-1ee1ade704c5",
   "metadata": {},
   "outputs": [],
   "source": [
    "skymap_auxtel ='latiss_v1'\n",
    "skymap = butler.get('skyMap', skymap=skymap_auxtel, collections=collections)"
   ]
  },
  {
   "cell_type": "code",
   "execution_count": null,
   "id": "aabccbc1-c6dd-42b5-b766-84d15c9e1ab6",
   "metadata": {},
   "outputs": [],
   "source": [
    "def remove_figure(fig):\n",
    "    \"\"\"\n",
    "    Remove a figure to reduce memory footprint.\n",
    "\n",
    "    Parameters\n",
    "    ----------\n",
    "    fig: matplotlib.figure.Figure\n",
    "        Figure to be removed.\n",
    "\n",
    "    Returns\n",
    "    -------\n",
    "    None\n",
    "    \"\"\"\n",
    "    # get the axes and clear their images\n",
    "    for ax in fig.get_axes():\n",
    "        for im in ax.get_images():\n",
    "            im.remove()\n",
    "    fig.clf()       # clear the figure\n",
    "    plt.close(fig)  # close the figure\n",
    "    gc.collect()    # call the garbage collector"
   ]
  },
  {
   "cell_type": "code",
   "execution_count": null,
   "id": "217d9116-61a1-4ab3-9ba4-4cc8668956e8",
   "metadata": {},
   "outputs": [],
   "source": [
    "def get_corners_radec(wcs, bbox):\n",
    "    \"\"\"\n",
    "    Return the corners in RA,Dec in degrees given the WCS and bounding box for an image.\n",
    "\n",
    "    Parameters\n",
    "    ----------\n",
    "    wcs: image WCS returned by the Butler\n",
    "    bbox: bounding box returned by the Butler\n",
    "\n",
    "    Returns\n",
    "    -------\n",
    "    corners_ra, corners_dec in decimal degrees\n",
    "    \"\"\"\n",
    "\n",
    "    corners_x = [bbox.beginX, bbox.beginX, bbox.endX, bbox.endX]\n",
    "    corners_y = [bbox.beginY, bbox.endY, bbox.endY, bbox.beginY]\n",
    "    corners_ra = []\n",
    "    corners_dec = []\n",
    "    for i in range(4):\n",
    "        radec = wcs.pixelToSky(corners_x[i], corners_y[i])\n",
    "        corners_ra.append(radec.getRa().asDegrees())\n",
    "        corners_dec.append(radec.getDec().asDegrees())\n",
    "    \n",
    "    return corners_ra, corners_dec"
   ]
  },
  {
   "cell_type": "code",
   "execution_count": null,
   "id": "81240109-5d2e-4829-82dc-dddc9d4cda05",
   "metadata": {},
   "outputs": [],
   "source": [
    "def convert_fluxtomag(x) :\n",
    "    \"\"\"\n",
    "    The object and source catalogs store only fluxes. There are hundreds of flux-related columns, \n",
    "    and to store them also as magnitudes would be redundant, and a waste of space.\n",
    "    All flux units are nanojanskys. The AB Magnitudes Wikipedia page provides a concise resource \n",
    "    for users unfamiliar with AB magnitudes and jansky fluxes. To convert to AB magnitudes use:\n",
    "    As demonstrated in Section 2.3.2, to add columns of magnitudes after retrieving columns of flux, users can do this:\n",
    "    results_table['r_calibMag'] = -2.50 * numpy.log10(results_table['r_calibFlux']) + 31.4\n",
    "    results_table['r_cModelMag'] = -2.50 * numpy.log10(results_table['r_cModelFlux']) + 31.4\n",
    "    (from DP0 tutorial)\n",
    "    \"\"\"\n",
    "    return -2.50 * np.log10(x) + 31.4"
   ]
  },
  {
   "cell_type": "markdown",
   "id": "45ce64d8-57d2-434a-8eb9-6806ad91796d",
   "metadata": {},
   "source": [
    "## Get Pixel Scale"
   ]
  },
  {
   "cell_type": "code",
   "execution_count": null,
   "id": "4768de88-d762-4653-9172-b46d50b25e40",
   "metadata": {},
   "outputs": [],
   "source": [
    "import lsst.geom as geom\n",
    "import lsst.sphgeom\n",
    "\n",
    "skymap = butler.get('skyMap', skymap=skymapName, collections=collections )\n",
    "tractInfo = skymap.generateTract(tract)\n",
    "for patch in tractInfo:    \n",
    "    patchID = patch.getSequentialIndex()\n",
    "        \n",
    "    ibb=patch.getInnerBBox()\n",
    "    tWCS=tractInfo.getWcs()\n",
    "       \n",
    "    # loop on the 4 corners\n",
    "    for icorn,corner in enumerate(ibb.getCorners()):\n",
    "        p = geom.Point2D(corner.getX(), corner.getY())\n",
    "        coord = tWCS.pixelToSky(p)"
   ]
  },
  {
   "cell_type": "code",
   "execution_count": null,
   "id": "634358b4-e8a9-489f-b7a2-88f0a1414e95",
   "metadata": {},
   "outputs": [],
   "source": [
    "tWCS"
   ]
  },
  {
   "cell_type": "code",
   "execution_count": null,
   "id": "1ba56f4f-773a-4287-89ba-7e9559a2a1c7",
   "metadata": {},
   "outputs": [],
   "source": [
    "#arcsec/pixel\n",
    "pixel_scale = tWCS.getPixelScale().asArcseconds()"
   ]
  },
  {
   "cell_type": "markdown",
   "id": "35b5b65f-a6ca-4e98-a54c-d72cf3f5ca89",
   "metadata": {},
   "source": [
    "## Selected visits"
   ]
  },
  {
   "cell_type": "code",
   "execution_count": null,
   "id": "d9f0bdef-d228-43ed-afa3-ebc48db575c7",
   "metadata": {},
   "outputs": [],
   "source": [
    "inputfilename = \"sources_objectTable-t3864-bg-o547-LATISS_runs_AUXTEL_DRP_IMAGING_20230509_20240414_w_2024_15_PREOPS-5069.csv\"\n",
    "#inputfilename = \"sources_objectTable-t3864-bg-o912-LATISS_runs_AUXTEL_DRP_IMAGING_20230509_20240414_w_2024_15_PREOPS-5069.csv\"\n",
    "df_myselectedvisits = pd.read_csv(inputfilename ,index_col=0)\n",
    "tract = 3864\n",
    "band = \"g\"\n",
    "objectname = 547\n",
    "title = f\"Auxtel Light Curves : tract = {tract}, band = {band}, object = {objectname} \"\n",
    "suptitle = inputfilename "
   ]
  },
  {
   "cell_type": "code",
   "execution_count": null,
   "id": "178b2ca6-b787-410f-8667-36a2b65e9eb6",
   "metadata": {},
   "outputs": [],
   "source": [
    "df_myselectedvisits.sort_values(\"visit\",inplace=True)\n",
    "#df_myselectedvisits.sort_index(inplace=True)"
   ]
  },
  {
   "cell_type": "code",
   "execution_count": null,
   "id": "53e7e649-c9e7-408f-a4bc-9d7a1ec0ff59",
   "metadata": {},
   "outputs": [],
   "source": [
    "df_myselectedvisits"
   ]
  },
  {
   "cell_type": "code",
   "execution_count": null,
   "id": "3f7866e0-b685-4abd-9b68-15cc21d0c001",
   "metadata": {},
   "outputs": [],
   "source": [
    "fig,ax = plt.subplots(1,1,figsize=(14,4))\n",
    "df_myselectedvisits.plot.scatter(x=\"expMidptMjd\",y=\"psfMag\",ax=ax,s=20,c=\"zeroPoint\",cmap=\"jet\",grid=True,rot=45)\n",
    "ax.set_title(title)\n",
    "plt.suptitle(suptitle)\n",
    "plt.tight_layout()\n",
    "plt.show()"
   ]
  },
  {
   "cell_type": "code",
   "execution_count": null,
   "id": "3912d138-dea8-4e21-8714-63e239c5cdd3",
   "metadata": {},
   "outputs": [],
   "source": [
    "df_myselectedvisits[\"visit\"]"
   ]
  },
  {
   "cell_type": "markdown",
   "id": "dd60da9d-7a4b-49c8-bb26-68168605cbc2",
   "metadata": {},
   "source": [
    "Note here:\n",
    "- zeroPoint is in ABMag\n",
    "- skyBg is in ADU (but don't know if in pixel or in arcsec2)\n",
    "- skyNoise is in ADU (but don't know if in pixel or in arcsec2)"
   ]
  },
  {
   "cell_type": "code",
   "execution_count": null,
   "id": "bff3d040-2c91-4d12-a698-45766955841c",
   "metadata": {},
   "outputs": [],
   "source": [
    "index = 3\n",
    "visitId = df_myselectedvisits.iloc[index]['visit']"
   ]
  },
  {
   "cell_type": "code",
   "execution_count": null,
   "id": "54374d0f-d838-4c3f-95cb-6dc2a12f2ae5",
   "metadata": {},
   "outputs": [],
   "source": [
    "row_source = df_myselectedvisits.iloc[index]\n",
    "row_source"
   ]
  },
  {
   "cell_type": "code",
   "execution_count": null,
   "id": "9d5f6d91-4a6e-4435-b1be-bc4d9fe0d8e8",
   "metadata": {},
   "outputs": [],
   "source": [
    "x_target = row_source['x']\n",
    "y_target = row_source['y']\n",
    "ra_target= row_source['ra']\n",
    "dec_target= row_source['dec']"
   ]
  },
  {
   "cell_type": "code",
   "execution_count": null,
   "id": "15c8f8b4-5404-4cc5-88c3-33b190228168",
   "metadata": {},
   "outputs": [],
   "source": [
    "datasetType = 'calexp'\n",
    "dataId = {'visit': visitId, 'instrument':instrument , 'detector': 0}\n",
    "datasetRefs = registry.queryDatasets(datasetType, dataId=dataId, collections  = collections)\n",
    "\n",
    "for i, ref in enumerate(datasetRefs):\n",
    "    print(ref.dataId)\n",
    "    print(\"band:\", ref.dataId['band'])\n",
    "    band = ref.dataId['band']"
   ]
  },
  {
   "cell_type": "markdown",
   "id": "bda8d475-f87a-4e0d-be3a-2b37d0e476cc",
   "metadata": {},
   "source": [
    "## One Calexp "
   ]
  },
  {
   "cell_type": "code",
   "execution_count": null,
   "id": "802be681-7556-429e-9e4f-dab32dc185b5",
   "metadata": {},
   "outputs": [],
   "source": [
    "calexp = butler.get('calexp', **dataId,collections=collections)\n",
    "mask = calexp.mask.array"
   ]
  },
  {
   "cell_type": "code",
   "execution_count": null,
   "id": "4fcd795d-9adf-4032-bcea-4d3960b05e1a",
   "metadata": {},
   "outputs": [],
   "source": [
    "the_mask = np.where(mask==0,1,0)\n",
    "the_mask.shape"
   ]
  },
  {
   "cell_type": "code",
   "execution_count": null,
   "id": "70bba8cb-b778-4d13-812a-91c54557b2b5",
   "metadata": {},
   "outputs": [],
   "source": [
    "im = plt.imshow(the_mask,origin=\"lower\",cmap=\"grey\")\n",
    "plt.colorbar(im)"
   ]
  },
  {
   "cell_type": "code",
   "execution_count": null,
   "id": "c2853c25-e0c2-46f1-a287-f851d876317f",
   "metadata": {},
   "outputs": [],
   "source": [
    "img = calexp.image.array * (the_mask)"
   ]
  },
  {
   "cell_type": "code",
   "execution_count": null,
   "id": "d0ced450-c791-4aca-af7a-c2584ee70744",
   "metadata": {},
   "outputs": [],
   "source": [
    "im=plt.imshow(img,origin=\"lower\",vmin=-10,vmax=10,cmap=\"grey\")\n",
    "plt.colorbar(im)"
   ]
  },
  {
   "cell_type": "code",
   "execution_count": null,
   "id": "b939af2c-1f5d-4320-86fc-f5a9bc7d7a76",
   "metadata": {},
   "outputs": [],
   "source": [
    "%matplotlib widget\n",
    "\n",
    "calexp = butler.get('calexp', **dataId,collections=collections)\n",
    "\n",
    "calexp_info = calexp.getInfo()\n",
    "photocalib = calexp_info.getPhotoCalib()\n",
    "expo_photocalibconstant_mean = photocalib.getCalibrationMean()\n",
    "expo_photocalibconstant_error = photocalib.getCalibrationErr()\n",
    "calexp_md = calexp_info.getMetadata()\n",
    "magzero,magzero_rms,magzero_nobj = calexp_md[\"MAGZERO\"],calexp_md[\"MAGZERO_RMS\"],calexp_md[\"MAGZERO_NOBJ\"] \n",
    "bgmean,bgvar = calexp_md[\"BGMEAN\"],calexp_md[\"BGVAR\"]\n",
    "\n",
    "mask = calexp.mask.array\n",
    "the_mask = np.where(mask==0,1,0)\n",
    "#img = calexp.maskedImage.getImage()\n",
    "img = calexp.image.array \n",
    "#img = calexp[the_mask] \n",
    "wcs = calexp.getWcs()\n",
    "#bbox = img.getBBox()\n",
    "#corners_ra, corners_dec = get_corners_radec(wcs, bbox)\n",
    "#extent = [np.min(corners_ra),np.max(corners_ra),np.min(corners_dec),np.max(corners_dec)]\n",
    "\n",
    "\n",
    "# Display the image with a suitable scaling\n",
    "data_flat = img.flatten()\n",
    "mean = np.mean(data_flat)\n",
    "med = np.median(data_flat)\n",
    "sigMad = 1.4826 * np.median(np.fabs(data_flat - mean))\n",
    "#vmin = med - 3 * sigMad\n",
    "#vmax = med + 3 * sigMad\n",
    "vmin = med - 50.\n",
    "vmax = med + 50.\n",
    "the_min= data_flat.min()\n",
    "the_max= data_flat.max()\n",
    "print(mean,med ,sigMad ,vmin ,vmax,the_min,the_max )\n",
    "\n",
    "fig,axs = plt.subplots(1,2,figsize=(16,8))\n",
    "\n",
    "## Plot the image\n",
    "ax = axs[0]\n",
    "from astropy.visualization import ZScaleInterval\n",
    "z = ZScaleInterval()\n",
    "z1,z2 = z.get_limits(img)\n",
    "from matplotlib.colors import SymLogNorm\n",
    "im=ax.imshow(img, origin=\"lower\", cmap=\"grey\",norm=SymLogNorm(linthresh=0.1))\n",
    "divider = make_axes_locatable(ax)\n",
    "cax = divider.append_axes(\"right\", size=\"5%\", pad=0.05)\n",
    "the_title = f\"Calexp : visit = {visitId}, band = {band}\"\n",
    "ax.set_title(the_title)\n",
    "ax.grid()\n",
    "ax.set_aspect('equal')\n",
    "ax.scatter([x_target],[y_target],marker =\"o\", s= 100,facecolors='none', edgecolors='r',lw=1)\n",
    "plt.colorbar(im, cax=cax,ax=ax)\n",
    "\n",
    "\n",
    "\n",
    "ax = axs[1]\n",
    "\n",
    "#val = data_flat/med)\n",
    "#data_flat_mag = -2.5*np.log10((data_flat/med))*1000\n",
    "#mu_mag = np.mean(data_flat_mag)\n",
    "#med_mag = np.median(data_flat_mag)\n",
    "#sigMad_mag = 1.4826 * np.median(np.fabs(data_flat_mag - med_mag))\n",
    "#vmin_mag = med_mag - 3 * sigMad_mag\n",
    "#vmax_mag = med_mag + 3 * sigMad_mag\n",
    "#textstr = '\\n'.join((\n",
    "#    r'$\\mu=%.2f$ mmag' % (mu_mag, ),\n",
    "#    r'$\\mathrm{med}=%.2f$ mmag' % (med_mag, ),\n",
    "#    r'$\\sigma=%.2f$ mmag' % (sigMad_mag , )))\n",
    "\n",
    "data_flat_nozero = data_flat[~(data_flat==0)]\n",
    "histdata  = ax.hist(data_flat_nozero,bins=100,range=(vmin,vmax),histtype=\"step\",color=\"b\",lw=2)\n",
    "histarray,histedges = histdata[0],histdata[1]\n",
    "ax.set_ylim(0.,histarray.max()*1.1)\n",
    "\n",
    "# fit\n",
    "g = fit_g(g_init,histedges[1:],histarray)\n",
    "print(\"fig_g parameters: \",g)\n",
    "m = modeling.models.Gaussian1D(amplitude=g.amplitude.value, mean=g.mean.value, stddev=g.stddev.value)\n",
    "ax.plot(histedges,m(histedges),\"r-\")\n",
    "textstr = '\\n'.join((\n",
    "    r'$\\mu=%.2f$ ADU/pixel' % (g.mean.value, ),\n",
    "    r'$\\sigma=%.2f$ ADU/pixel' % (g.stddev.value , ),\n",
    "    r'$\\sigma=%.2f$ mag/s/arcsec2' % (convert_fluxtomag(g.stddev.value*expo_photocalibconstant_mean/30./pixel_scale**2) ,)))\n",
    "props = dict(boxstyle='round', facecolor='wheat' ,alpha=0.5)\n",
    "ax.text(0.05, 0.95, textstr, color=\"r\",transform=ax.transAxes, fontsize=10,verticalalignment='top', bbox=props)\n",
    "ax.set_title(\"Calexp Sky-bkg residuals\")\n",
    "ax.set_xlabel(\"Flux (ADU)\")\n",
    "\n",
    "#ax.grid()\n",
    "\n",
    "plt.suptitle(collections)\n",
    "plt.tight_layout()\n",
    "plt.show()\n",
    "#remove_figure(fig)"
   ]
  },
  {
   "cell_type": "markdown",
   "id": "d0df413f-1ef0-485b-bcf0-33d4b9912a2c",
   "metadata": {},
   "source": [
    "### Need to make the WCS object info fits file\n",
    "\n",
    "https://keflavich-astropy.readthedocs.io/en/latest/wcs/\n",
    "\n",
    "\n",
    "- how to convert DM wcs to astropy wcs :\n",
    "- https://github.com/rubin-dp0/tutorial-notebooks/blob/main/DP02_03a_Image_Display_and_Manipulation.ipynb"
   ]
  },
  {
   "cell_type": "code",
   "execution_count": null,
   "id": "ac81d29c-4b1a-4ee5-961c-a5ce3904b8d2",
   "metadata": {},
   "outputs": [],
   "source": [
    "# Convert WCS-DM to astropy WCS\n",
    "the_fits_WCS = WCS(calexp.getWcs().getFitsMetadata())"
   ]
  },
  {
   "cell_type": "code",
   "execution_count": null,
   "id": "b5fe5419-a9b8-4a6a-ac0f-0a899b9fb02a",
   "metadata": {},
   "outputs": [],
   "source": [
    "the_fits_WCS"
   ]
  },
  {
   "cell_type": "code",
   "execution_count": null,
   "id": "47e46f8e-0dea-46ec-a636-7b33296b5300",
   "metadata": {},
   "outputs": [],
   "source": [
    "the_fits_WCS.to_header_string()"
   ]
  },
  {
   "cell_type": "code",
   "execution_count": null,
   "id": "4b4da048-8833-4670-aa2e-1040e194ab07",
   "metadata": {},
   "outputs": [],
   "source": [
    "# create the header\n",
    "header = the_fits_WCS.to_header()"
   ]
  },
  {
   "cell_type": "code",
   "execution_count": null,
   "id": "d094c62f-2fe5-4f7a-8281-19c7083a2d26",
   "metadata": {},
   "outputs": [],
   "source": [
    "header"
   ]
  },
  {
   "cell_type": "code",
   "execution_count": null,
   "id": "5bcc9555-3df6-4e5c-af75-1cb4f553db83",
   "metadata": {},
   "outputs": [],
   "source": [
    "md = calexp_md.toDict() \n",
    "arr= img\n",
    "# 180 degree rotation\n",
    "rotated_array = arr[::-1,::-1] #rotate the array 180 degrees\n",
    "filename_out = f\"exposure_{visitId}_calexp.fits\""
   ]
  },
  {
   "cell_type": "code",
   "execution_count": null,
   "id": "8b5f4fbd-19ab-4930-9c68-b4ffdc222cf5",
   "metadata": {},
   "outputs": [],
   "source": [
    "for key,value in md.items():\n",
    "# DS9 cannot read long cards    \n",
    "#    if len(key)<19:\n",
    "    if len(key)<8:\n",
    "        header[str(key)]=value"
   ]
  },
  {
   "cell_type": "code",
   "execution_count": null,
   "id": "3e4e10f3-d2d5-4e58-8c7b-4ab048398226",
   "metadata": {},
   "outputs": [],
   "source": [
    "primary_hdu = fits.PrimaryHDU(header=header)\n",
    "#image_hdu = fits.ImageHDU(rotated_array)\n",
    "image_hdu = fits.ImageHDU(arr)\n",
    "hdu_list = fits.HDUList([primary_hdu, image_hdu])\n",
    "hdu_list.writeto(filename_out,overwrite=True)    "
   ]
  },
  {
   "cell_type": "markdown",
   "id": "b35b04bd-4c69-47c4-8960-28d14f595647",
   "metadata": {},
   "source": [
    "## Check the wcs from rubin"
   ]
  },
  {
   "cell_type": "code",
   "execution_count": null,
   "id": "ad6f89b3-9f1c-4d4d-89e6-63a3e34e0ad4",
   "metadata": {},
   "outputs": [],
   "source": [
    "fig = plt.figure(figsize=(10,10))\n",
    "ax = plt.subplot(projection=the_fits_WCS)\n",
    "#plt.subplot(projection=the_fits_WCS)\n",
    "calexp_extent = (calexp.getBBox().beginX, calexp.getBBox().endX,\n",
    "                 calexp.getBBox().beginY, calexp.getBBox().endY)\n",
    "im = ax.imshow(calexp.image.array, cmap='gray', vmin=vmin, vmax=vmax,extent=calexp_extent, origin='lower')\n",
    "plt.grid(color='white', ls='solid')\n",
    "plt.xlabel('Right Ascension')\n",
    "plt.ylabel('Declination')\n",
    "ax.scatter([ra_target],[dec_target],marker =\"o\", s= 100,facecolors='none', edgecolors='r',transform=ax.get_transform('icrs'),lw=1)\n",
    "\n",
    "the_title = f\"Calexp : visit = {visitId}, band = {band}\"\n",
    "plt.title(the_title)\n",
    "plt.show()\n",
    "#remove_figure(fig)"
   ]
  },
  {
   "cell_type": "markdown",
   "id": "ede98c29-3d54-42d3-afae-42af344a5a1a",
   "metadata": {},
   "source": [
    "## Check by reading the fits file with its WCS"
   ]
  },
  {
   "cell_type": "code",
   "execution_count": null,
   "id": "a5f5914b-f008-4f29-b0f9-a8dbb8d69722",
   "metadata": {},
   "outputs": [],
   "source": [
    "hdulist = fits.open(filename_out)\n",
    "\n",
    "# Parse the WCS keywords in the primary HDU\n",
    "w = WCS(hdulist[0].header)\n",
    "data = hdulist[1].data"
   ]
  },
  {
   "cell_type": "code",
   "execution_count": null,
   "id": "5cfa85b5-4a91-473b-a1b9-9d0a9014a1f5",
   "metadata": {},
   "outputs": [],
   "source": [
    "fig = plt.figure(figsize=(10,10))\n",
    "ax = plt.subplot(projection=w)\n",
    "im = ax.imshow(data, cmap='gray', vmin=vmin, vmax=vmax, origin='lower',aspect='equal')\n",
    "ax.grid(color='white', ls='solid')\n",
    "ax.set_xlabel('Right Ascension')\n",
    "ax.set_ylabel('Declination')\n",
    "ax.scatter([ra_target],[dec_target],marker =\"o\", s= 100,facecolors='none', edgecolors='r',transform=ax.get_transform('icrs'),lw=1)\n",
    "overlay = ax.get_coords_overlay('icrs')\n",
    "overlay.grid(color='white', ls='dotted')\n",
    "\n",
    "the_title = f\"Calexp : visit = {visitId}, band = {band}\"\n",
    "plt.suptitle(the_title,fontsize=20)\n",
    "plt.show()"
   ]
  },
  {
   "cell_type": "code",
   "execution_count": null,
   "id": "71440acf-8aa8-4cfa-83c7-ce2077e4d446",
   "metadata": {},
   "outputs": [],
   "source": []
  }
 ],
 "metadata": {
  "kernelspec": {
   "display_name": "LSST",
   "language": "python",
   "name": "lsst"
  },
  "language_info": {
   "codemirror_mode": {
    "name": "ipython",
    "version": 3
   },
   "file_extension": ".py",
   "mimetype": "text/x-python",
   "name": "python",
   "nbconvert_exporter": "python",
   "pygments_lexer": "ipython3",
   "version": "3.11.7"
  }
 },
 "nbformat": 4,
 "nbformat_minor": 5
}
