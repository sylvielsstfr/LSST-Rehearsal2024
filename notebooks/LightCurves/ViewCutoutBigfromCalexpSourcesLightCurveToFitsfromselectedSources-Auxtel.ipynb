{
 "cells": [
  {
   "cell_type": "markdown",
   "id": "45bf4242-bfc5-4d43-88c4-a8059ae148df",
   "metadata": {},
   "source": [
    "# Get Big cutout from a series of calexp into fits files from sources Light Curve"
   ]
  },
  {
   "cell_type": "markdown",
   "id": "01993b6e-6438-4fca-a5d5-1f9791336847",
   "metadata": {},
   "source": [
    "- author Sylvie Dagoret-Campagne\n",
    "- creation date 2024-05-29\n",
    "- last update 2024-06-07\n",
    "- affiliation : IJCLab\n",
    "- Kernel **w_2024_16**"
   ]
  },
  {
   "cell_type": "markdown",
   "id": "e1b442f0-f745-442b-bc99-2ad838d61d45",
   "metadata": {
    "execution": {
     "iopub.execute_input": "2024-06-06T08:45:15.979992Z",
     "iopub.status.busy": "2024-06-06T08:45:15.979867Z",
     "iopub.status.idle": "2024-06-06T08:45:15.982489Z",
     "shell.execute_reply": "2024-06-06T08:45:15.982072Z",
     "shell.execute_reply.started": "2024-06-06T08:45:15.979981Z"
    }
   },
   "source": [
    "- want to see within 30 arcsec from main source thus need box size of 300 pixel"
   ]
  },
  {
   "cell_type": "code",
   "execution_count": null,
   "id": "bf752b70-e6ca-4cbf-8e8c-20bf7f0d8f61",
   "metadata": {},
   "outputs": [],
   "source": [
    "import numpy as np\n",
    "import matplotlib.pyplot as plt\n",
    "%matplotlib inline\n",
    "from mpl_toolkits.axes_grid1 import make_axes_locatable\n",
    "from matplotlib.colors import LogNorm,SymLogNorm\n",
    "from matplotlib.patches import Circle,Annulus\n",
    "props = dict(boxstyle='round', facecolor=None, alpha=0.1)\n",
    "#props = dict(boxstyle='round')\n",
    "\n",
    "\n",
    "import matplotlib.ticker                         # here's where the formatter is\n",
    "from matplotlib.ticker import (MultipleLocator, FormatStrFormatter,\n",
    "                               AutoMinorLocator)\n",
    "\n",
    "from astropy.visualization import (MinMaxInterval, SqrtStretch,ZScaleInterval,PercentileInterval,\n",
    "                                   ImageNormalize,imshow_norm)\n",
    "from astropy.visualization.stretch import SinhStretch, LinearStretch,AsinhStretch,LogStretch\n",
    "\n",
    "from astropy.io import fits\n",
    "from astropy.wcs import WCS\n",
    "\n",
    "\n",
    "import pandas as pd\n",
    "pd.set_option(\"display.max_columns\", None)\n",
    "pd.set_option('display.max_rows', 100)\n",
    "\n",
    "import matplotlib.ticker                         # here's where the formatter is\n",
    "import os\n",
    "import re\n",
    "import pandas as pd\n",
    "import pickle\n",
    "from collections import OrderedDict\n",
    "\n",
    "plt.rcParams[\"figure.figsize\"] = (4,3)\n",
    "plt.rcParams[\"axes.labelsize\"] = 'xx-large'\n",
    "plt.rcParams['axes.titlesize'] = 'xx-large'\n",
    "plt.rcParams['xtick.labelsize']= 'xx-large'\n",
    "plt.rcParams['ytick.labelsize']= 'xx-large'\n",
    "\n",
    "import scipy"
   ]
  },
  {
   "cell_type": "code",
   "execution_count": null,
   "id": "4950be9c-6c53-44ba-9804-d89a6b877534",
   "metadata": {},
   "outputs": [],
   "source": [
    "import gc"
   ]
  },
  {
   "cell_type": "code",
   "execution_count": null,
   "id": "0ca0d1e6-5f82-4c43-aaa3-8524fc2bc5ba",
   "metadata": {},
   "outputs": [],
   "source": [
    "from matplotlib.ticker import (MultipleLocator, FormatStrFormatter,\n",
    "                               AutoMinorLocator)\n",
    "\n",
    "from astropy.visualization import (MinMaxInterval, SqrtStretch,ZScaleInterval,PercentileInterval,\n",
    "                                   ImageNormalize,imshow_norm)\n",
    "from astropy.visualization.stretch import SinhStretch, LinearStretch,AsinhStretch,LogStretch\n",
    "\n",
    "from astropy.time import Time\n"
   ]
  },
  {
   "cell_type": "code",
   "execution_count": null,
   "id": "51ddfce4-9a0f-4804-bc6a-7f9138874f16",
   "metadata": {},
   "outputs": [],
   "source": [
    "import lsst.daf.butler as dafButler\n",
    "#import lsst.summit.utils.butlerUtils as butlerUtils"
   ]
  },
  {
   "cell_type": "code",
   "execution_count": null,
   "id": "34f037b5-b6a2-4f93-b86b-a6108d8a5ea7",
   "metadata": {},
   "outputs": [],
   "source": [
    "import lsst.afw.image as afwImage\n",
    "import lsst.afw.display as afwDisplay\n",
    "import lsst.afw.table as afwTable\n",
    "import lsst.afw.display.rgb as afwRgb\n",
    "import lsst.afw.image as afwImage\n",
    "import lsst.geom as geom\n",
    "\n",
    "#import lsst.sphgeom\n",
    "from  lsst.geom import SpherePoint, Angle\n",
    "import lsst.sphgeom"
   ]
  },
  {
   "cell_type": "code",
   "execution_count": null,
   "id": "d017fb69-9a17-4137-9733-1104af59af03",
   "metadata": {},
   "outputs": [],
   "source": [
    "\n",
    "from astropy.wcs import WCS\n",
    "from astropy.visualization import make_lupton_rgb\n",
    "import gc\n",
    "\n",
    "import lsst.afw.display as afwDisplay\n",
    "from lsst.afw.image import MultibandExposure"
   ]
  },
  {
   "cell_type": "code",
   "execution_count": null,
   "id": "7f26c627-fc82-4f60-8e0a-c25657f092f9",
   "metadata": {},
   "outputs": [],
   "source": [
    "# LSST Display\n",
    "import lsst.afw.display as afwDisplay\n",
    "afwDisplay.setDefaultBackend('matplotlib')"
   ]
  },
  {
   "cell_type": "code",
   "execution_count": null,
   "id": "aba2cfa4-809a-4f1c-8e8f-9f81547e0b5e",
   "metadata": {},
   "outputs": [],
   "source": [
    "transform = AsinhStretch() + PercentileInterval(99.)"
   ]
  },
  {
   "cell_type": "code",
   "execution_count": null,
   "id": "b26e1f0b-83be-4348-b87c-88294ec7c8d6",
   "metadata": {},
   "outputs": [],
   "source": [
    "# INSERT YOUR collection and tract\n",
    "# for rehearsal use collection 2 which have CCDvisit\n",
    "butlerRoot = \"/repo/embargo\"\n",
    "\n",
    "collection1 = 'LSSTComCamSim/runs/nightlyvalidation/20240402/d_2024_03_29/DM-43612'\n",
    "collection2 = 'LSSTComCamSim/runs/nightlyvalidation/20240403/d_2024_03_29/DM-43612'\n",
    "collection3 = 'LSSTComCamSim/runs/nightlyvalidation/20240404/d_2024_03_29/DM-43612'\n",
    "collection = 'LATISS/runs/AUXTEL_DRP_IMAGING_20230509_20240414/w_2024_15/PREOPS-5069' # COMPLETED\n",
    "\n",
    "collectionn = collection\n",
    "#collections = [collection1,collection2,collection3]\n",
    "collections = [collection]\n",
    "collectionStr = collectionn.replace(\"/\", \"_\")\n",
    "fn_ccdVisit_tracts_patches = f\"ccdVisittractpatch_{collectionStr}.csv\"\n",
    "instrument = 'LATISS'\n",
    "skymapName = \"latiss_v1\"\n",
    "where_clause = \"instrument = \\'\" + instrument+ \"\\'\"\n",
    "tract = 3864 # mostly for light-curves\n",
    "patch_sel = 236\n",
    "band = 'g'\n",
    "#tract = 5615\n",
    "# tract = 5634 # interesting to view calib parameters\n",
    "suptitle = collectionStr + f\" inst = {instrument} tract = {tract}\""
   ]
  },
  {
   "cell_type": "code",
   "execution_count": null,
   "id": "3048e2e2-2489-43e0-a96d-848c548700cb",
   "metadata": {},
   "outputs": [],
   "source": [
    "#dataId = {\"skymap\": \"latiss_v1\", \"tract\": 5615, \"instrument\": \"LATISS\"}\n",
    "dataId = {\"skymap\": skymapName, \"tract\": tract, \"instrument\": instrument}\n",
    "repo = '/sdf/group/rubin/repo/oga/'\n",
    "butler = dafButler.Butler(repo)\n",
    "#t = Butler.get(table_sel, dataId=dataId, collections=collections)\n",
    "registry = butler.registry"
   ]
  },
  {
   "cell_type": "code",
   "execution_count": null,
   "id": "d87b3bde-871f-4eba-87f7-1ee1ade704c5",
   "metadata": {},
   "outputs": [],
   "source": [
    "skymap_auxtel ='latiss_v1'\n",
    "skymap = butler.get('skyMap', skymap=skymap_auxtel, collections=collections)"
   ]
  },
  {
   "cell_type": "code",
   "execution_count": null,
   "id": "aabccbc1-c6dd-42b5-b766-84d15c9e1ab6",
   "metadata": {},
   "outputs": [],
   "source": [
    "def remove_figure(fig):\n",
    "    \"\"\"\n",
    "    Remove a figure to reduce memory footprint.\n",
    "\n",
    "    Parameters\n",
    "    ----------\n",
    "    fig: matplotlib.figure.Figure\n",
    "        Figure to be removed.\n",
    "\n",
    "    Returns\n",
    "    -------\n",
    "    None\n",
    "    \"\"\"\n",
    "    # get the axes and clear their images\n",
    "    for ax in fig.get_axes():\n",
    "        for im in ax.get_images():\n",
    "            im.remove()\n",
    "    fig.clf()       # clear the figure\n",
    "    plt.close(fig)  # close the figure\n",
    "    gc.collect()    # call the garbage collector"
   ]
  },
  {
   "cell_type": "code",
   "execution_count": null,
   "id": "217d9116-61a1-4ab3-9ba4-4cc8668956e8",
   "metadata": {},
   "outputs": [],
   "source": [
    "def get_corners_radec(wcs, bbox):\n",
    "    \"\"\"\n",
    "    Return the corners in RA,Dec in degrees given the WCS and bounding box for an image.\n",
    "\n",
    "    Parameters\n",
    "    ----------\n",
    "    wcs: image WCS returned by the Butler\n",
    "    bbox: bounding box returned by the Butler\n",
    "\n",
    "    Returns\n",
    "    -------\n",
    "    corners_ra, corners_dec in decimal degrees\n",
    "    \"\"\"\n",
    "\n",
    "    corners_x = [bbox.beginX, bbox.beginX, bbox.endX, bbox.endX]\n",
    "    corners_y = [bbox.beginY, bbox.endY, bbox.endY, bbox.beginY]\n",
    "    corners_ra = []\n",
    "    corners_dec = []\n",
    "    for i in range(4):\n",
    "        radec = wcs.pixelToSky(corners_x[i], corners_y[i])\n",
    "        corners_ra.append(radec.getRa().asDegrees())\n",
    "        corners_dec.append(radec.getDec().asDegrees())\n",
    "    \n",
    "    return corners_ra, corners_dec"
   ]
  },
  {
   "cell_type": "code",
   "execution_count": null,
   "id": "81240109-5d2e-4829-82dc-dddc9d4cda05",
   "metadata": {},
   "outputs": [],
   "source": [
    "def convert_fluxtomag(x) :\n",
    "    \"\"\"\n",
    "    The object and source catalogs store only fluxes. There are hundreds of flux-related columns, \n",
    "    and to store them also as magnitudes would be redundant, and a waste of space.\n",
    "    All flux units are nanojanskys. The AB Magnitudes Wikipedia page provides a concise resource \n",
    "    for users unfamiliar with AB magnitudes and jansky fluxes. To convert to AB magnitudes use:\n",
    "    As demonstrated in Section 2.3.2, to add columns of magnitudes after retrieving columns of flux, users can do this:\n",
    "    results_table['r_calibMag'] = -2.50 * numpy.log10(results_table['r_calibFlux']) + 31.4\n",
    "    results_table['r_cModelMag'] = -2.50 * numpy.log10(results_table['r_cModelFlux']) + 31.4\n",
    "    (from DP0 tutorial)\n",
    "    \"\"\"\n",
    "    return -2.50 * np.log10(x) + 31.4"
   ]
  },
  {
   "cell_type": "code",
   "execution_count": null,
   "id": "8e568cf6-0318-476b-841c-a6de63ced2aa",
   "metadata": {},
   "outputs": [],
   "source": [
    "def cutout_coadd(butler, ra, dec, band='r', datasetType='deepCoadd',\n",
    "                 skymap=None, cutoutSideLength=51, **kwargs):\n",
    "    \"\"\"\n",
    "    Produce a cutout from a coadd at the given ra, dec position.\n",
    "\n",
    "    Adapted from DC2 tutorial notebook by Michael Wood-Vasey.\n",
    "\n",
    "    Parameters\n",
    "    ----------\n",
    "    butler: lsst.daf.persistence.Butler\n",
    "        Helper object providing access to a data repository\n",
    "    ra: float\n",
    "        Right ascension of the center of the cutout, in degrees\n",
    "    dec: float\n",
    "        Declination of the center of the cutout, in degrees\n",
    "    band: string\n",
    "        Filter of the image to load\n",
    "    datasetType: string ['deepCoadd']\n",
    "        Which type of coadd to load.  Doesn't support 'calexp'\n",
    "    skymap: lsst.afw.skyMap.SkyMap [optional]\n",
    "        Pass in to avoid the Butler read.  Useful if you have lots of them.\n",
    "    cutoutSideLength: float [optional]\n",
    "        Size of the cutout region in pixels.\n",
    "\n",
    "    Returns\n",
    "    -------\n",
    "    MaskedImage\n",
    "    \"\"\"\n",
    "    radec = geom.SpherePoint(ra, dec, geom.degrees)\n",
    "    cutoutSize = geom.ExtentI(cutoutSideLength, cutoutSideLength)\n",
    "\n",
    "    if skymap is None:\n",
    "        skymap = butler.get(\"skyMap\")\n",
    "\n",
    "    # Look up the tract, patch for the RA, Dec\n",
    "    tractInfo = skymap.findTract(radec)\n",
    "    patchInfo = tractInfo.findPatch(radec)\n",
    "    xy = geom.PointI(tractInfo.getWcs().skyToPixel(radec))\n",
    "    bbox = geom.BoxI(xy - cutoutSize // 2, cutoutSize)\n",
    "    patch = tractInfo.getSequentialPatchIndex(patchInfo)\n",
    "\n",
    "    coaddId = {'tract': tractInfo.getId(), 'patch': patch, 'band': band}\n",
    "    parameters = {'bbox': bbox}\n",
    "\n",
    "    cutout_image = butler.get(datasetType, parameters=parameters,\n",
    "                              dataId=coaddId)\n",
    "\n",
    "    return cutout_image"
   ]
  },
  {
   "cell_type": "code",
   "execution_count": null,
   "id": "7208ef02-6648-4977-a25f-7e44802afc91",
   "metadata": {},
   "outputs": [],
   "source": [
    "def cutout_calexp(butler, ra, dec, visit, detector, cutoutSideLength=51, **kwargs):\n",
    "    \n",
    "    \"\"\"\n",
    "    Produce a cutout from a calexp at the given ra, dec position.\n",
    "\n",
    "    Adapted from cutout_coadd which was adapted from a DC2 tutorial\n",
    "    notebook by Michael Wood-Vasey.\n",
    "\n",
    "    Parameters\n",
    "    ----------\n",
    "    butler: lsst.daf.persistence.Butler\n",
    "        Helper object providing access to a data repository\n",
    "    ra: float\n",
    "        Right ascension of the center of the cutout, in degrees\n",
    "    dec: float\n",
    "        Declination of the center of the cutout, in degrees\n",
    "    visit: int\n",
    "        Visit id of the calexp's visit\n",
    "    detector: int\n",
    "        Detector for the calexp\n",
    "    cutoutSideLength: float [optional]\n",
    "        Size of the cutout region in pixels.\n",
    "\n",
    "    Returns\n",
    "    -------\n",
    "    MaskedImage\n",
    "    \"\"\"\n",
    "    \n",
    "    dataId = {'visit': visit, 'detector': detector}    \n",
    "    radec = geom.SpherePoint(ra, dec, geom.degrees)\n",
    "    cutoutSize = geom.ExtentI(cutoutSideLength, cutoutSideLength)    \n",
    "    calexp_wcs = butler.get('calexp.wcs', **dataId)\n",
    "    xy = geom.PointI(calexp_wcs.skyToPixel(radec))\n",
    "    bbox = geom.BoxI(xy - cutoutSize // 2, cutoutSize)\n",
    "    parameters = {'bbox': bbox}\n",
    "    cutout_image = butler.get('calexp', parameters=parameters, **dataId)\n",
    "\n",
    "    return cutout_image"
   ]
  },
  {
   "cell_type": "code",
   "execution_count": null,
   "id": "b92643cd-11cd-46d3-a51b-aa20afa005f6",
   "metadata": {},
   "outputs": [],
   "source": [
    "def create_rgb(image, bgr=\"gri\", stretch=1, Q=10, scale=None):\n",
    "    \"\"\"\n",
    "    Create an RGB color composite image.\n",
    "\n",
    "    Parameters\n",
    "    ----------\n",
    "    image : `MultibandExposure`\n",
    "        `MultibandExposure` to display.\n",
    "    bgr : sequence\n",
    "        A 3-element sequence of filter names (i.e., keys of the exps dict)\n",
    "        indicating what band to use for each channel. If `image` only has\n",
    "        three filters then this parameter is ignored and the filters\n",
    "        in the image are used.\n",
    "    stretch: int\n",
    "        The linear stretch of the image.\n",
    "    Q: int\n",
    "        The Asinh softening parameter.\n",
    "    scale: list of 3 floats, each less than 1. (default: None)\n",
    "        Re-scales the RGB channels.\n",
    "\n",
    "    Returns\n",
    "    -------\n",
    "    rgb: ndarray\n",
    "        RGB (integer, 8-bits per channel) colour image as an NxNx3 numpy array.\n",
    "    \"\"\"\n",
    "\n",
    "    # If the image only has 3 bands, reverse the order of the bands\n",
    "    #   to produce the RGB image\n",
    "    if len(image) == 3:\n",
    "        bgr = image.filters\n",
    "\n",
    "    # Extract the primary image component of each Exposure with the\n",
    "    #   .image property, and use .array to get a NumPy array view.\n",
    "\n",
    "    if scale is None:\n",
    "        r_im = image[bgr[2]].array  # numpy array for the r channel\n",
    "        g_im = image[bgr[1]].array  # numpy array for the g channel\n",
    "        b_im = image[bgr[0]].array  # numpy array for the b channel\n",
    "    else:\n",
    "        # manually re-scaling the images here\n",
    "        r_im = image[bgr[2]].array * scale[0]\n",
    "        g_im = image[bgr[1]].array * scale[1]\n",
    "        b_im = image[bgr[0]].array * scale[2]\n",
    "\n",
    "    rgb = make_lupton_rgb(image_r=r_im,\n",
    "                          image_g=g_im,\n",
    "                          image_b=b_im,\n",
    "                          stretch=stretch, Q=Q)\n",
    "    # \"stretch\" and \"Q\" are parameters to stretch and scale the pixel values\n",
    "\n",
    "    return rgb"
   ]
  },
  {
   "cell_type": "code",
   "execution_count": null,
   "id": "6903422a-70c4-48e6-92bd-6a3719328c5f",
   "metadata": {},
   "outputs": [],
   "source": [
    "def find_neighbourg(ra0,dec0,src):\n",
    "    \"\"\" \n",
    "    \"\"\"\n",
    "    all_angles = []\n",
    "    for index, row in src.iterrows():\n",
    "        spherePointCenter = lsst.geom.SpherePoint(ra0*lsst.geom.degrees, dec0*lsst.geom.degrees)\n",
    "        spt = lsst.geom.SpherePoint(row[\"coord_ra\"]*lsst.geom.degrees, row[\"coord_dec\"]*lsst.geom.degrees)\n",
    "        ang = spherePointCenter.separation(spt)\n",
    "        ang_arcsec = ang.asArcseconds()\n",
    "        all_angles.append(ang_arcsec)\n",
    "    return all_angles"
   ]
  },
  {
   "cell_type": "markdown",
   "id": "45ce64d8-57d2-434a-8eb9-6806ad91796d",
   "metadata": {},
   "source": [
    "## Get Pixel Scale"
   ]
  },
  {
   "cell_type": "code",
   "execution_count": null,
   "id": "4768de88-d762-4653-9172-b46d50b25e40",
   "metadata": {},
   "outputs": [],
   "source": [
    "import lsst.geom as geom\n",
    "import lsst.sphgeom\n",
    "\n",
    "skymap = butler.get('skyMap', skymap=skymapName, collections=collections )\n",
    "tractInfo = skymap.generateTract(tract)\n",
    "for patch in tractInfo:    \n",
    "    patchID = patch.getSequentialIndex()\n",
    "        \n",
    "    ibb=patch.getInnerBBox()\n",
    "    tWCS=tractInfo.getWcs()\n",
    "       \n",
    "    # loop on the 4 corners\n",
    "    for icorn,corner in enumerate(ibb.getCorners()):\n",
    "        p = geom.Point2D(corner.getX(), corner.getY())\n",
    "        coord = tWCS.pixelToSky(p)"
   ]
  },
  {
   "cell_type": "code",
   "execution_count": null,
   "id": "634358b4-e8a9-489f-b7a2-88f0a1414e95",
   "metadata": {},
   "outputs": [],
   "source": [
    "tWCS"
   ]
  },
  {
   "cell_type": "code",
   "execution_count": null,
   "id": "1ba56f4f-773a-4287-89ba-7e9559a2a1c7",
   "metadata": {},
   "outputs": [],
   "source": [
    "#arcsec/pixel\n",
    "pixel_scale = tWCS.getPixelScale().asArcseconds()"
   ]
  },
  {
   "cell_type": "markdown",
   "id": "35b5b65f-a6ca-4e98-a54c-d72cf3f5ca89",
   "metadata": {},
   "source": [
    "## Selected visits"
   ]
  },
  {
   "cell_type": "code",
   "execution_count": null,
   "id": "d9f0bdef-d228-43ed-afa3-ebc48db575c7",
   "metadata": {},
   "outputs": [],
   "source": [
    "#inputfilename = \"sources_objectTable-t3864-bg-o547-LATISS_runs_AUXTEL_DRP_IMAGING_20230509_20240414_w_2024_15_PREOPS-5069.csv\"\n",
    "inputfilename = \"sources_objectTable-t3864-bg-o912-LATISS_runs_AUXTEL_DRP_IMAGING_20230509_20240414_w_2024_15_PREOPS-5069.csv\"\n",
    "df_myselectedvisits = pd.read_csv(inputfilename ,index_col=0)\n",
    "tract = 3864\n",
    "band = \"g\"\n",
    "#objectname = 547\n",
    "objectname = 912\n",
    "path = f\"calexp_t{tract}_b{band}_o{objectname}\"\n",
    "title = f\"Auxtel Light Curves : tract = {tract}, band = {band}, object = {objectname} \"\n",
    "suptitle = inputfilename "
   ]
  },
  {
   "cell_type": "code",
   "execution_count": null,
   "id": "12f6aaf4-efdb-43b7-ab2f-0076078ba2c8",
   "metadata": {},
   "outputs": [],
   "source": [
    "if not os.path.exists(path):\n",
    "    os.mkdir(path)"
   ]
  },
  {
   "cell_type": "code",
   "execution_count": null,
   "id": "178b2ca6-b787-410f-8667-36a2b65e9eb6",
   "metadata": {},
   "outputs": [],
   "source": [
    "df_myselectedvisits.sort_values(\"visit\",inplace=True)\n",
    "#df_myselectedvisits.sort_index(inplace=True)"
   ]
  },
  {
   "cell_type": "code",
   "execution_count": null,
   "id": "53e7e649-c9e7-408f-a4bc-9d7a1ec0ff59",
   "metadata": {},
   "outputs": [],
   "source": [
    "df_myselectedvisits"
   ]
  },
  {
   "cell_type": "code",
   "execution_count": null,
   "id": "ccff27e4-a722-4247-8fd7-24aaa1976caa",
   "metadata": {},
   "outputs": [],
   "source": [
    "ZPMAX = df_myselectedvisits[\"zeroPoint\"].max()\n",
    "ZPMAX"
   ]
  },
  {
   "cell_type": "code",
   "execution_count": null,
   "id": "aa8ccd95-de34-4e91-b152-08aeb4cc70b4",
   "metadata": {},
   "outputs": [],
   "source": [
    "df_myselectedvisits[\"attenuationFactor\"] = np.power(10.,0.4*(ZPMAX-df_myselectedvisits[\"zeroPoint\"]))"
   ]
  },
  {
   "cell_type": "code",
   "execution_count": null,
   "id": "24e22c38-db2b-40a6-bda3-eb4f1b530afb",
   "metadata": {},
   "outputs": [],
   "source": [
    "df_myselectedvisits[\"attenuationFactor\"]"
   ]
  },
  {
   "cell_type": "code",
   "execution_count": null,
   "id": "e61f83f2-8afa-42e4-a28f-b4cc99cfc35f",
   "metadata": {},
   "outputs": [],
   "source": [
    "df_myselectedvisits[\"apFlux_50_0_instFlux_graycorr\"] = df_myselectedvisits[\"apFlux_50_0_instFlux\"]* df_myselectedvisits[\"attenuationFactor\"]"
   ]
  },
  {
   "cell_type": "code",
   "execution_count": null,
   "id": "51135ed0-20b4-49c7-970e-216621677459",
   "metadata": {},
   "outputs": [],
   "source": [
    "#psfMagDiffMmag"
   ]
  },
  {
   "cell_type": "code",
   "execution_count": null,
   "id": "3f7866e0-b685-4abd-9b68-15cc21d0c001",
   "metadata": {},
   "outputs": [],
   "source": [
    "fig,ax = plt.subplots(1,1,figsize=(14,4))\n",
    "df_myselectedvisits.plot.scatter(x=\"expMidptMjd\",y=\"psfMag\",ax=ax,s=20,c=\"zeroPoint\",cmap=\"jet\",grid=True,rot=45)\n",
    "ax.set_title(title)\n",
    "plt.suptitle(suptitle)\n",
    "plt.tight_layout()\n",
    "plt.show()"
   ]
  },
  {
   "cell_type": "code",
   "execution_count": null,
   "id": "ffd45583-05b1-4dbf-83cf-681eec3a0d81",
   "metadata": {},
   "outputs": [],
   "source": [
    "fig,ax = plt.subplots(1,1,figsize=(14,4))\n",
    "df_myselectedvisits.plot.scatter(x=\"expMidptMjd\",y=\"apFlux_50_0_instFlux\",ax=ax,s=20,c=\"zeroPoint\",cmap=\"jet\",grid=True,rot=45)\n",
    "ax.set_title(title)\n",
    "plt.suptitle(suptitle)\n",
    "plt.tight_layout()\n",
    "plt.show()"
   ]
  },
  {
   "cell_type": "code",
   "execution_count": null,
   "id": "f0a8d335-4620-42d6-8669-95de60cedc0e",
   "metadata": {},
   "outputs": [],
   "source": [
    "fig,ax = plt.subplots(1,1,figsize=(6,6))\n",
    "df_myselectedvisits.plot.scatter(x=\"zeroPoint\",y=\"apFlux_50_0_instFlux\",ax=ax,s=20,grid=True)\n",
    "ax.set_title(title)\n",
    "plt.suptitle(suptitle)\n",
    "plt.tight_layout()\n",
    "plt.show()"
   ]
  },
  {
   "cell_type": "code",
   "execution_count": null,
   "id": "2595cf4e-5f13-48cf-85b6-d643db98a7a1",
   "metadata": {},
   "outputs": [],
   "source": [
    "fig,ax = plt.subplots(1,1,figsize=(6,6))\n",
    "df_myselectedvisits.plot.scatter(x=\"zeroPoint\",y=\"apFlux_50_0_instFlux_graycorr\",ax=ax,s=20,grid=True)\n",
    "ax.set_title(title)\n",
    "plt.suptitle(suptitle)\n",
    "plt.tight_layout()\n",
    "plt.show()"
   ]
  },
  {
   "cell_type": "code",
   "execution_count": null,
   "id": "2b003b9e-8004-4b85-ac4b-1414fa12f3f9",
   "metadata": {},
   "outputs": [],
   "source": [
    "df_myselectedvisits[[\"visit\",\"apFlux_50_0_instFlux_graycorr\",\"apFlux_50_0_instFlux\",\"localBackground_instFlux\"]]"
   ]
  },
  {
   "cell_type": "code",
   "execution_count": null,
   "id": "0c32bf9f-3bdf-4cf3-bf10-2e8bea67e2a6",
   "metadata": {},
   "outputs": [],
   "source": [
    "df_myselectedvisits.min()"
   ]
  },
  {
   "cell_type": "code",
   "execution_count": null,
   "id": "bbcba841-1a87-4d9f-9653-223fc5a923b7",
   "metadata": {},
   "outputs": [],
   "source": [
    "fig,ax = plt.subplots(1,1,figsize=(14,4))\n",
    "df_myselectedvisits.plot.scatter(x=\"expMidptMjd\",y=\"psfMagDiffMmag\",ax=ax,s=20,c=\"zeroPoint\",cmap=\"jet\",grid=True,rot=45)\n",
    "ax.set_title(title)\n",
    "plt.suptitle(suptitle)\n",
    "plt.tight_layout()\n",
    "plt.show()"
   ]
  },
  {
   "cell_type": "code",
   "execution_count": null,
   "id": "a23b8af3-809a-42c9-b1ae-629ffba9af0c",
   "metadata": {},
   "outputs": [],
   "source": [
    "bundle_selected_object = df_myselectedvisits[[\"visit\",\"psfMagDiffMmag\"]]\n",
    "fig, ax = plt.subplots(1,1,figsize=(16,2))\n",
    "bundle_selected_object.plot.bar(x=\"visit\",ax=ax,color=\"b\" ,rot=90,grid=True)\n",
    "title = f\"psfMagDiffMmag for object {objectname} for tract {tract} in band {band} (AUXTEL)\"\n",
    "ax.set_title(title)"
   ]
  },
  {
   "cell_type": "code",
   "execution_count": null,
   "id": "a5a96371-d784-4027-b404-35f06dbd0ba2",
   "metadata": {},
   "outputs": [],
   "source": [
    "print(path)"
   ]
  },
  {
   "cell_type": "code",
   "execution_count": null,
   "id": "3912d138-dea8-4e21-8714-63e239c5cdd3",
   "metadata": {},
   "outputs": [],
   "source": [
    "listOfVisitId = df_myselectedvisits[\"visit\"].values\n",
    "listOfVisitId"
   ]
  },
  {
   "cell_type": "code",
   "execution_count": null,
   "id": "71440acf-8aa8-4cfa-83c7-ce2077e4d446",
   "metadata": {},
   "outputs": [],
   "source": [
    "datasetType = 'calexp'\n",
    "\n",
    "if objectname == 912:\n",
    "    boxSize = 500\n",
    "else:\n",
    "    boxSize = 300\n",
    "    \n",
    "imMin, imMax, Q = -0.001, 0.004, 8\n",
    "expMin, expMax = -25, 100\n",
    "\n",
    "\n",
    "\n",
    "all_cutout = []\n",
    "all_psfSigma = []\n",
    "all_psfMagDiffMmag = []\n",
    "all_psfMag = []\n",
    "all_apFlux_50_0_instFlux = []                 \n",
    "all_apFlux_50_0_instFluxErr = []  \n",
    "all_neighbourgs = []\n",
    "all_flag_deblend_skipped  = []\n",
    "\n",
    "for index,visitId in enumerate(listOfVisitId):\n",
    "    print(f\"==================={index}) ====== {visitId} =============================\")\n",
    "    dataId = {'visit': visitId, 'instrument':instrument , 'detector': 0}\n",
    "    calexp = butler.get('calexp', **dataId,collections=collections)\n",
    "    src_cat = butler.get('sourceTable',**dataId, collections=collections)\n",
    "    src_cat = src_cat[src_cat[\"extendedness\"]==0]\n",
    "    src_cat[\"psfMag\"] = src_cat[\"psfFlux\"].apply(convert_fluxtomag)\n",
    "    src_cat = src_cat[src_cat[\"psfMag\"]<16]\n",
    "    \n",
    "    \n",
    "    print(f\"Retrieved catalog of {len(src_cat)} sources.\")\n",
    "    row_source = df_myselectedvisits.iloc[index]\n",
    "\n",
    "    # extract the source from the object for that visit\n",
    "    x_target = row_source['x']\n",
    "    y_target = row_source['y']\n",
    "    ra_target= row_source['ra']\n",
    "    dec_target= row_source['dec']\n",
    "    psfMag  = row_source['psfMag']  \n",
    "    psfSigma = row_source['psfSigma']\n",
    "    psfMagDiffMmag = row_source['psfMagDiffMmag'] \n",
    "    apFlux_50_0_instFlux = row_source['apFlux_50_0_instFlux']\n",
    "    apFlux_50_0_instFluxErr = row_source['apFlux_50_0_instFluxErr']\n",
    "\n",
    "    # searcch the neighbouring stars\n",
    "    separation = find_neighbourg(ra_target,dec_target,src_cat)\n",
    "    src_cat[\"sep\"] = separation\n",
    "    if objectname == 547:\n",
    "        cut_sep = ((src_cat[\"sep\"] > 25) & (src_cat[\"sep\"] < 27)) | (src_cat[\"sep\"] < 1)\n",
    "        #cut_sep = ( (src_cat[\"sep\"] < 27)) | (src_cat[\"sep\"] < 1)\n",
    "    elif objectname == 912:\n",
    "        cut_sep = (src_cat[\"sep\"] < 46)\n",
    "    src_cat = src_cat[cut_sep]\n",
    "    neighbourgs = src_cat.sort_values(by=\"sep\").iloc[:5]\n",
    "    print(f\"(target :: {x_target:.2f},{y_target:.2f}) , psfMag = {psfMag:.2f} mag, apFlux_50_0_instFlux={apFlux_50_0_instFlux:.0f} ADU\" )\n",
    "    print(neighbourgs[[\"x\",\"y\",\"sep\",\"psfMag\",\"apFlux_50_0_instFlux\",\"ra\",\"dec\",\"deblend_skipped\"]])\n",
    "\n",
    "    flag_deblend_skipped = neighbourgs.iloc[0][\"deblend_skipped\"]\n",
    "    \n",
    "    \n",
    "    \n",
    "    \n",
    "    if len(neighbourgs) < 2:\n",
    "        continue\n",
    "    \n",
    "    all_neighbourgs.append(neighbourgs)\n",
    "\n",
    "    xSrc = x_target\n",
    "    ySrc = y_target\n",
    "    \n",
    "    minBbox = geom.Point2I(int(xSrc) - boxSize ,int(ySrc) - boxSize)\n",
    "    maxBbox = geom.Point2I(int(xSrc) + boxSize, int(ySrc) + boxSize)\n",
    "    srcBbox = geom.Box2I(minBbox, maxBbox)\n",
    "    # Make the cutout\n",
    "    try:\n",
    "        subimg = afwImage.ExposureF(calexp, srcBbox, afwImage.PARENT, True)\n",
    "        subimg2 = calexp.getImage().array[int(ySrc) - boxSize: int(ySrc) + boxSize+1, int(xSrc) - boxSize:int(xSrc) + boxSize+1 ]\n",
    "        print(subimg2.shape) \n",
    "        subimgRgb = afwRgb.makeRGB(subimg.image.array, None, None, expMin, expMax - expMin, Q)\n",
    "        #all_cutout.append(subimgRgb)\n",
    "        all_cutout.append(subimg.image.array)\n",
    "        #all_cutout.append(subimg2)\n",
    "        all_psfSigma.append(psfSigma) \n",
    "        all_psfMag.append(psfMag)\n",
    "        all_psfMagDiffMmag.append(psfMagDiffMmag)\n",
    "        all_apFlux_50_0_instFlux.append(apFlux_50_0_instFlux)                \n",
    "        all_apFlux_50_0_instFluxErr.append(apFlux_50_0_instFluxErr)  \n",
    "        all_flag_deblend_skipped.append(flag_deblend_skipped)\n",
    "    except Exception as inst:\n",
    "        print(type(inst))    # the exception type\n",
    "        print(inst.args)     # arguments stored in .args\n",
    "        print(inst)     \n",
    "        \n",
    "   "
   ]
  },
  {
   "cell_type": "code",
   "execution_count": null,
   "id": "90a6c78f-1464-4402-afa9-cd3c07dfd3c2",
   "metadata": {},
   "outputs": [],
   "source": [
    "NIMG = len(all_cutout)\n",
    "NCOLS = 4\n",
    "NROWS = int(np.ceil(NIMG/NCOLS))"
   ]
  },
  {
   "cell_type": "code",
   "execution_count": null,
   "id": "24f63dfc-209a-4876-aaa3-dd01b04c6294",
   "metadata": {},
   "outputs": [],
   "source": [
    "from astropy.visualization import ZScaleInterval\n",
    "z = ZScaleInterval()\n"
   ]
  },
  {
   "cell_type": "code",
   "execution_count": null,
   "id": "540fa5df-c3ac-4e5b-926d-6afd36aa0662",
   "metadata": {},
   "outputs": [],
   "source": [
    "NIMG,NROWS "
   ]
  },
  {
   "cell_type": "code",
   "execution_count": null,
   "id": "243087e4-7227-41b8-b288-330a74fac436",
   "metadata": {},
   "outputs": [],
   "source": [
    "all_cutout[0].shape"
   ]
  },
  {
   "cell_type": "code",
   "execution_count": null,
   "id": "0e324cef-11b9-43e0-b673-b599d3aa6749",
   "metadata": {},
   "outputs": [],
   "source": [
    "fig, axes = plt.subplots(ncols=NCOLS,nrows=NROWS,figsize=(6*NCOLS,6*NROWS))\n",
    "for index,ax in enumerate(axes.flatten()):\n",
    "    if index >= NIMG:\n",
    "        break\n",
    "    #cutout = all_cutout[index]\n",
    "    cutout = all_cutout[index]\n",
    "    z1,z2 = z.get_limits(cutout)\n",
    "    visitId = listOfVisitId[index]\n",
    "    #ax.imshow(cutout,interpolation=\"nearest\")\n",
    "    psfSigma = all_psfSigma[index]\n",
    "    psfMagDiffMmag = all_psfMagDiffMmag[index]\n",
    "    psfMag = all_psfMag[index]\n",
    "    apFlux_50_0_instFlux = all_apFlux_50_0_instFlux[index]\n",
    "    apFlux_50_0_instFluxErr = all_apFlux_50_0_instFluxErr[index]\n",
    "    flag_deblend_skipped = all_flag_deblend_skipped[index]\n",
    "\n",
    "    neighbourgs = all_neighbourgs[index]\n",
    "    \n",
    "    textstr = '\\n'.join((\n",
    "    r'$expos = %.0f$' % (visitId, ),\n",
    "    r'$x_t = %.1f , y_t = %.1f$' % (x_target,y_target),\n",
    "    r'$psfMag = %.02f mag$' %(psfMag, ), \n",
    "    r'$psfMagDiff = %.0f mmag$' %(psfMagDiffMmag, ),   \n",
    "    r'$apFlux\\_50\\_instFlux = %.0f \\;ADU$' %(apFlux_50_0_instFlux, ),  \n",
    "    r'$apFlux\\_50\\_instFluxErr = %.0f \\;ADU$' %(apFlux_50_0_instFluxErr, ),   \n",
    "    r'$\\sigma_{PSF} = %.2f pix$' % (psfSigma , ),\n",
    "    r'$deb\\_skip = %.0f $' % (flag_deblend_skipped  , )))\n",
    "    ann = Annulus((boxSize,boxSize),r=5*psfSigma,width=0.1,color=\"red\")\n",
    "    ax.imshow(cutout,cmap=\"grey\",vmin=z1, vmax=z2)\n",
    "    ax.add_patch(ann)\n",
    "\n",
    "    x_target = neighbourgs.iloc[0][\"x\"]\n",
    "    y_target = neighbourgs.iloc[0][\"y\"]\n",
    "    \n",
    "    if len(neighbourgs) > 1:\n",
    "        x_star = neighbourgs.iloc[1][\"x\"]\n",
    "        y_star = neighbourgs.iloc[1][\"y\"]\n",
    "        dx =   x_star -  x_target + boxSize\n",
    "        dy =   y_star -  y_target + boxSize\n",
    "        ann1 = Annulus((dx,dy),r=5*psfSigma,width=0.1,color=\"yellow\")\n",
    "        ax.add_patch(ann1)\n",
    "\n",
    "    if len(neighbourgs) > 2:\n",
    "        x_star = neighbourgs.iloc[2][\"x\"]\n",
    "        y_star = neighbourgs.iloc[2][\"y\"]\n",
    "        dx =   x_star -  x_target + boxSize\n",
    "        dy =   y_star -  y_target + boxSize\n",
    "        ann2 = Annulus((dx,dy),r=5*psfSigma,width=0.1,color=\"orange\")\n",
    "        ax.add_patch(ann2)\n",
    "        \n",
    "    if flag_deblend_skipped:\n",
    "        ax.text(0.05, 0.95, textstr, transform=ax.transAxes, fontsize=16,verticalalignment='top',color=\"r\", weight='bold',bbox=props) \n",
    "    else:\n",
    "        ax.text(0.05, 0.95, textstr, transform=ax.transAxes, fontsize=16,verticalalignment='top',color=\"g\", weight='bold',bbox=props) \n",
    "    title = f\" {index}) {visitId}\"\n",
    "    ax.set_title(title)\n",
    "plt.suptitle(suptitle,y=1.0,fontsize=16)\n",
    "plt.tight_layout()\n",
    "plt.show()"
   ]
  },
  {
   "cell_type": "code",
   "execution_count": null,
   "id": "2eda3ebc-8e15-42ca-a04d-cd191403b319",
   "metadata": {},
   "outputs": [],
   "source": [
    "neighbourgs[\"psfFlux\"]"
   ]
  },
  {
   "cell_type": "code",
   "execution_count": null,
   "id": "86f2b67c-7bfe-4c37-8450-2084afc135a8",
   "metadata": {},
   "outputs": [],
   "source": [
    "all_ap50ratio = pd.DataFrame(columns=[\"visit\",\"ratio\",\"deblend_skipped\",\"fl1\",\"fl2\"])\n",
    "all_psfratio = pd.DataFrame(columns=[\"visit\",\"ratio\",\"deblend_skipped\",\"fl1\",\"fl2\"])\n",
    "\n",
    "for index in range(NIMG):\n",
    "    visitId = listOfVisitId[index]\n",
    "    psfSigma = all_psfSigma[index]\n",
    "    psfMagDiffMmag = all_psfMagDiffMmag[index]\n",
    "    psfMag = all_psfMag[index]\n",
    "    apFlux_50_0_instFlux = all_apFlux_50_0_instFlux[index]\n",
    "    apFlux_50_0_instFluxErr = all_apFlux_50_0_instFluxErr[index]\n",
    "\n",
    "    neighbourgs = all_neighbourgs[index]\n",
    "    #print(neighbourgs[[\"x\",\"y\",\"sep\",\"psfMag\",\"apFlux_50_0_instFlux\",\"ra\",\"dec\"]])\n",
    "    ratio_ap = neighbourgs.iloc[1][\"apFlux_50_0_instFlux\"]/neighbourgs.iloc[0][\"apFlux_50_0_instFlux\"]\n",
    "    ratio_psf = neighbourgs.iloc[1][\"psfFlux\"]/neighbourgs.iloc[0][\"psfFlux\"]\n",
    " \n",
    "    all_ap50ratio.loc[index] = [visitId,ratio_ap,neighbourgs.iloc[0][\"deblend_skipped\"],neighbourgs.iloc[0][\"apFlux_50_0_instFlux\"],neighbourgs.iloc[1][\"apFlux_50_0_instFlux\"] ] \n",
    "    all_psfratio.loc[index] = [visitId,ratio_psf,neighbourgs.iloc[0][\"deblend_skipped\"],neighbourgs.iloc[0][\"psfFlux\"],neighbourgs.iloc[1][\"psfFlux\"]] \n",
    "    "
   ]
  },
  {
   "cell_type": "markdown",
   "id": "414166d7-020e-4dcd-8a78-f29b78fef4ef",
   "metadata": {},
   "source": [
    "#### Computing the relative ratio"
   ]
  },
  {
   "cell_type": "markdown",
   "id": "fdd941b8-704e-4bc1-807c-8e299746ab31",
   "metadata": {},
   "source": [
    "##### Method 1"
   ]
  },
  {
   "cell_type": "code",
   "execution_count": null,
   "id": "8dfe6946-5b0b-43f7-8c8c-3aa419508366",
   "metadata": {},
   "outputs": [],
   "source": [
    "all_ap50ratio[\"relratio\"]= all_ap50ratio[\"ratio\"]/all_ap50ratio[\"ratio\"].mean()\n",
    "all_psfratio[\"relratio\"]= all_psfratio[\"ratio\"]/all_psfratio[\"ratio\"].mean()"
   ]
  },
  {
   "cell_type": "markdown",
   "id": "decce7f9-da6b-443c-b9fc-947c363ab05f",
   "metadata": {},
   "source": [
    "##### Method 2"
   ]
  },
  {
   "cell_type": "code",
   "execution_count": null,
   "id": "938cf342-47b5-41d4-a245-1f8145cc8445",
   "metadata": {},
   "outputs": [],
   "source": [
    "all_ap50ratio[\"relratio\"]= all_ap50ratio[\"ratio\"]* all_ap50ratio[\"fl1\"].mean()/all_ap50ratio[\"fl2\"].mean()\n",
    "all_psfratio[\"relratio\"]= all_psfratio[\"ratio\"]* all_psfratio[\"fl1\"].mean()/all_psfratio[\"fl2\"].mean()"
   ]
  },
  {
   "cell_type": "code",
   "execution_count": null,
   "id": "66fd1c1b-5f98-42e2-9cfa-fef60e0bc632",
   "metadata": {},
   "outputs": [],
   "source": [
    "clippedAp50Array = scipy.stats.sigmaclip(all_ap50ratio[\"relratio\"].values, low=3.0, high=3.0).clipped\n",
    "clippedAp50Mean = np.mean(clippedAp50Array)\n",
    "clippedAp50Std = np.std(clippedAp50Array)\n",
    "clippedpsfArray = scipy.stats.sigmaclip(all_psfratio[\"relratio\"].values, low=3.0, high=3.0).clipped\n",
    "clippedpsfMean = np.mean(clippedpsfArray)\n",
    "clippedpsfStd = np.std(clippedpsfArray)\n",
    "xmin = 1 - 5*clippedAp50Std \n",
    "xmax = 1 + 5*clippedAp50Std "
   ]
  },
  {
   "cell_type": "code",
   "execution_count": null,
   "id": "0502971d-7440-4665-94ee-9fca7cc0bef0",
   "metadata": {},
   "outputs": [],
   "source": [
    "std_ap50 = clippedAp50Std *1000\n",
    "std_psf = clippedpsfStd *1000\n",
    "label_ap50 = f\"ap50: $\\sigma$ = {std_ap50:.1f} mmag\"\n",
    "label_psf = f\"psf: $\\sigma$ = {std_psf:.1f} mmag\""
   ]
  },
  {
   "cell_type": "code",
   "execution_count": null,
   "id": "445f75b6-32d2-4946-a582-0aa33f0f7452",
   "metadata": {},
   "outputs": [],
   "source": [
    "fig,ax = plt.subplots(1,1,figsize=(8,8))\n",
    "\n",
    "all_ap50ratio[\"relratio\"].hist(bins=20,range=(xmin,xmax),ax=ax,color=\"b\",label=label_ap50,histtype=\"step\",lw=3)\n",
    "all_ap50ratio[\"relratio\"][all_ap50ratio[\"deblend_skipped\"]].hist(bins=20,range=(xmin,xmax),ax=ax,color=\"grey\",histtype=\"step\",label=\"ap50 : deblend detected\")\n",
    "all_psfratio[\"relratio\"].hist(bins=20,range=(xmin,xmax),ax=ax,color=\"r\",label=label_psf ,histtype=\"step\",lw=3)\n",
    "all_psfratio[\"relratio\"][all_psfratio[\"deblend_skipped\"]].hist(bins=20,range=(xmin,xmax),ax=ax,color=\"k\",histtype=\"step\",label=\"psf : deblend detected\")\n",
    "ax.set_title(\"relative flux ratio \")\n",
    "ax.set_xlabel(\"relative flux ratio \")\n",
    "ax.set_xlim(xmin,xmax)\n",
    "ax.legend()\n",
    "plt.suptitle(suptitle)"
   ]
  },
  {
   "cell_type": "code",
   "execution_count": null,
   "id": "c967e934-2661-4230-a20b-035787fd98fe",
   "metadata": {},
   "outputs": [],
   "source": []
  },
  {
   "cell_type": "code",
   "execution_count": null,
   "id": "77e75967-d7f7-4be1-a5ef-da6a3e350a1f",
   "metadata": {},
   "outputs": [],
   "source": [
    "#src_cat.getSchema().getNames(topOnly=True)"
   ]
  },
  {
   "cell_type": "code",
   "execution_count": null,
   "id": "f40e96f7-8cc0-49fb-9b8f-55626d06bb85",
   "metadata": {},
   "outputs": [],
   "source": [
    "#columns = src_cat.schema.getNames()\n",
    "#columns"
   ]
  },
  {
   "cell_type": "code",
   "execution_count": null,
   "id": "74c44a3d-80c9-409c-959f-577a9c836eb0",
   "metadata": {},
   "outputs": [],
   "source": [
    "#src_cat.getSchema().find('id')"
   ]
  },
  {
   "cell_type": "code",
   "execution_count": null,
   "id": "270185b1-c414-4943-a057-ea2c8c1450d2",
   "metadata": {},
   "outputs": [],
   "source": []
  }
 ],
 "metadata": {
  "kernelspec": {
   "display_name": "LSST",
   "language": "python",
   "name": "lsst"
  },
  "language_info": {
   "codemirror_mode": {
    "name": "ipython",
    "version": 3
   },
   "file_extension": ".py",
   "mimetype": "text/x-python",
   "name": "python",
   "nbconvert_exporter": "python",
   "pygments_lexer": "ipython3",
   "version": "3.11.7"
  }
 },
 "nbformat": 4,
 "nbformat_minor": 5
}
