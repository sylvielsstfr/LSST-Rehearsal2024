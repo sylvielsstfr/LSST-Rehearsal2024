{
 "cells": [
  {
   "cell_type": "markdown",
   "id": "7ce31619-38f8-4e97-889e-d15562068b9c",
   "metadata": {},
   "source": [
    "# View light-Curves"
   ]
  },
  {
   "cell_type": "markdown",
   "id": "e54b31d6-1acd-4657-8618-8e54b7fe81de",
   "metadata": {},
   "source": [
    "- author Sylvie Dagoret-Campagne\n",
    "- creation date 2024-09-03\n",
    "- last update 2024-09-03"
   ]
  },
  {
   "cell_type": "code",
   "execution_count": null,
   "id": "ec0ac857-ef70-434a-81db-6beb410cb90f",
   "metadata": {},
   "outputs": [],
   "source": [
    "import warnings\n",
    "warnings.resetwarnings()\n",
    "warnings.simplefilter('ignore')"
   ]
  },
  {
   "cell_type": "code",
   "execution_count": null,
   "id": "8cac1097-f413-4361-a7a2-83274255460a",
   "metadata": {},
   "outputs": [],
   "source": [
    "import numpy as np\n",
    "import matplotlib as mpl\n",
    "import matplotlib.pyplot as plt\n",
    "%matplotlib inline\n",
    "from mpl_toolkits.axes_grid1 import make_axes_locatable\n",
    "from matplotlib.colors import LogNorm,SymLogNorm\n",
    "from matplotlib.patches import Circle,Annulus\n",
    "from astropy.visualization import ZScaleInterval\n",
    "props = dict(boxstyle='round', facecolor=None, alpha=0.1)\n",
    "#props = dict(boxstyle='round')\n",
    "\n",
    "import matplotlib.colors as colors\n",
    "import matplotlib.cm as cmx\n",
    "\n",
    "import matplotlib.ticker                         # here's where the formatter is\n",
    "from matplotlib.ticker import (MultipleLocator, FormatStrFormatter,\n",
    "                               AutoMinorLocator)\n",
    "\n",
    "from matplotlib.gridspec import GridSpec\n",
    "\n",
    "from astropy.visualization import (MinMaxInterval, SqrtStretch,ZScaleInterval,PercentileInterval,\n",
    "                                   ImageNormalize,imshow_norm)\n",
    "from astropy.visualization.stretch import SinhStretch, LinearStretch,AsinhStretch,LogStretch"
   ]
  },
  {
   "cell_type": "code",
   "execution_count": null,
   "id": "d12e930b-379c-4541-ae00-74cbcb7c35f4",
   "metadata": {},
   "outputs": [],
   "source": [
    "from astropy.io import fits\n",
    "from astropy.wcs import WCS\n",
    "from astropy.stats import SigmaClip\n",
    "\n",
    "\n",
    "import pandas as pd\n",
    "pd.set_option(\"display.max_columns\", None)\n",
    "pd.set_option('display.max_rows', 100)\n",
    "\n",
    "import matplotlib.ticker                         # here's where the formatter is\n",
    "import os\n",
    "import re\n",
    "import pandas as pd\n",
    "import pickle\n",
    "from collections import OrderedDict\n",
    "\n",
    "plt.rcParams[\"figure.figsize\"] = (4,3)\n",
    "plt.rcParams[\"axes.labelsize\"] = 'x-large'\n",
    "plt.rcParams['axes.titlesize'] = 'x-large'\n",
    "plt.rcParams['xtick.labelsize']= 'x-large'\n",
    "plt.rcParams['ytick.labelsize']= 'x-large'\n",
    "\n",
    "import scipy\n",
    "from scipy.optimize import curve_fit"
   ]
  },
  {
   "cell_type": "code",
   "execution_count": null,
   "id": "c83869fa-d756-453d-bcf7-62b392c71918",
   "metadata": {
    "tags": []
   },
   "outputs": [],
   "source": [
    "#inputfilename = \"sources_objectTable-t3864-multibands-o912-LATISS_runs_AUXTEL_DRP_IMAGING_20230509_20240414_w_2024_15_PREOPS-5069.csv\"\n",
    "\n",
    "## The two lists:\n",
    "path_photom =\"data/photom/sources_objectTable\"\n",
    "tract = 3864\n",
    "\n",
    "#inputfilename =\"objects-lightcurves-LATISS_runs_AUXTEL_DRP_IMAGING_20230509_20240414_w_2024_15_PREOPS-5069-tract3864.csv\"\n",
    "inputfilename = \"objects-lightcurves-LATISS_runs_AUXTEL_DRP_IMAGING_20230509_20240513_w_2024_20_PREOPS-5146-tract3864.csv\"\n",
    "inputfullfilename= os.path.join(path_photom,inputfilename) \n",
    "\n",
    "df_allsources = pd.read_csv(inputfullfilename,index_col=0)"
   ]
  },
  {
   "cell_type": "code",
   "execution_count": null,
   "id": "c12f99a6-149e-4289-98a9-d5c8dd16514a",
   "metadata": {
    "tags": []
   },
   "outputs": [],
   "source": [
    "df_allsources"
   ]
  },
  {
   "cell_type": "code",
   "execution_count": null,
   "id": "98eb3c88-1572-4955-8db9-b4be81a281fa",
   "metadata": {
    "tags": []
   },
   "outputs": [],
   "source": [
    "len(df_allsources.obj_index.unique())"
   ]
  },
  {
   "cell_type": "code",
   "execution_count": null,
   "id": "64dfc5e5-138d-42b3-a938-05bd80ace76b",
   "metadata": {
    "tags": []
   },
   "outputs": [],
   "source": [
    "list_of_files = os.listdir(path_photom) "
   ]
  },
  {
   "cell_type": "code",
   "execution_count": null,
   "id": "37725614-5b5a-45d4-99f0-24ac9096d794",
   "metadata": {
    "tags": []
   },
   "outputs": [],
   "source": [
    "all_objnum = []\n",
    "tag = \"^sources_objectTable-t3864-multibands-o(.*)-LATISS_runs_AUXTEL_DRP_IMAGING_20230509_20240513_w_2024_20_PREOPS-5146.csv$\"\n",
    "for idx,file in enumerate(list_of_files):\n",
    "    coll = re.findall(tag,file)\n",
    "    if len(coll)>0:\n",
    "        all_objnum.append(int(coll[0]))\n",
    "        \n",
    "all_objnum = sorted(all_objnum)  "
   ]
  },
  {
   "cell_type": "code",
   "execution_count": null,
   "id": "00719987-2718-4bd8-851b-7b883dcf3f8b",
   "metadata": {
    "tags": []
   },
   "outputs": [],
   "source": [
    "all_df = []\n",
    "for idx,idx_obj in enumerate(all_objnum):\n",
    "    filename = f\"sources_objectTable-t3864-multibands-o{idx_obj}-LATISS_runs_AUXTEL_DRP_IMAGING_20230509_20240513_w_2024_20_PREOPS-5146.csv\"\n",
    "    fullfilename = os.path.join(path_photom,filename)\n",
    "    df = pd.read_csv(fullfilename,index_col=0)\n",
    "    all_df.append(df)\n",
    "    "
   ]
  },
  {
   "cell_type": "code",
   "execution_count": null,
   "id": "a4e1b5b9-398a-4563-912a-84a1a04e54a5",
   "metadata": {
    "tags": []
   },
   "outputs": [],
   "source": [
    "df = all_df[0]"
   ]
  },
  {
   "cell_type": "code",
   "execution_count": null,
   "id": "26782b4d-251e-4153-a140-353f129e1704",
   "metadata": {
    "tags": []
   },
   "outputs": [],
   "source": [
    "df"
   ]
  },
  {
   "cell_type": "code",
   "execution_count": null,
   "id": "e259eea5-4804-4296-80e9-a358a96d27d3",
   "metadata": {
    "tags": []
   },
   "outputs": [],
   "source": [
    "len(df_allsources[df_allsources.obj_index == all_objnum[0]] )"
   ]
  },
  {
   "cell_type": "code",
   "execution_count": null,
   "id": "afefc750-6430-4e80-aff6-e6bdee78d3c3",
   "metadata": {
    "tags": []
   },
   "outputs": [],
   "source": [
    "import matplotlib.dates as mdates\n",
    "month_locator = mdates.MonthLocator(interval=1)\n",
    "day_locator = mdates.DayLocator(interval=1)\n",
    "year_month_formatter = mdates.DateFormatter(\"%Y-%m\") \n",
    "colors = [\"g\",\"r\",\"orange\",\"grey\",\"k\"]\n",
    "\n",
    "for idx,df in enumerate(all_df):\n",
    "    obj_num = df.obj_index.unique()[0]\n",
    "    \n",
    "    df_filt = {}\n",
    "    for idx_b,b in enumerate([\"g\",\"r\",\"i\",\"z\",\"y\"]):\n",
    "        df_filt[b] = df[df.band == b]\n",
    "        \n",
    "        \n",
    "    fig,axs = plt.subplots(5,1,figsize=(12,8),sharex=True)\n",
    "    \n",
    "    axes_flat = axs.flatten()\n",
    "    for idx_b,b in enumerate([\"g\",\"r\",\"i\",\"z\",\"y\"]):\n",
    "        X = pd.to_datetime(df_filt[b]['obsStart'].values)\n",
    "        Y = df_filt[b]['psfMag'].values\n",
    "        Yerr = df_filt[b]['psfMagErr'].values\n",
    "        N = len(Y)\n",
    "        clippedMeanMagArray = scipy.stats.sigmaclip(Y, low=3.0, high=3.0).clipped\n",
    "        clippedMeanMag = np.mean(clippedMeanMagArray)\n",
    "        clippedMeanMagErr = np.std(clippedMeanMagArray)/np.sqrt(len(clippedMeanMagArray))\n",
    "        clippeErrorMagArray = scipy.stats.sigmaclip(Y-clippedMeanMag,low=3.0, high=3.0).clipped\n",
    "        clippeErrorMagSigma = (np.sqrt(np.sum(clippeErrorMagArray**2))/np.sqrt(len(clippeErrorMagArray)))*1000.\n",
    "\n",
    "        \n",
    "        \n",
    "        label = f\" band {b} : mag = {clippedMeanMag:.1f} mag , rms = {clippeErrorMagSigma:.0f} mmag, N= {N}\"\n",
    "        axes_flat[idx_b].errorbar(X,(Y-clippedMeanMag)*1000,yerr=Yerr*1000,fmt='.',lw=0.5,c=colors[idx_b],ecolor=colors[idx_b]) \n",
    "        axes_flat[idx_b].scatter(X,Y-clippedMeanMag,marker='o',s=10,c=colors[idx_b],label=label) \n",
    "        axes_flat[idx_b].xaxis.set_major_locator(month_locator) # Locator for major axis only.\n",
    "        axes_flat[idx_b].xaxis.set_minor_locator(day_locator)\n",
    "        axes_flat[idx_b].xaxis.set_major_formatter(year_month_formatter)\n",
    "        axes_flat[idx_b].set_xticks(axes_flat[idx_b].get_xticks(), axes_flat[idx_b].get_xticklabels(), rotation=45, ha='right')\n",
    "        axes_flat[idx_b].grid()\n",
    "        if idx_b == 0:\n",
    "            axes_flat[idx_b].set_title(f\"psf Magnitude for object {obj_num}\")\n",
    "        elif idx_b == 4:\n",
    "            axes_flat[idx_b].set_xlabel(\"date obs\") \n",
    "        axes_flat[idx_b].set_ylabel(\"dev (mmag)\") \n",
    "        axes_flat[idx_b].legend(loc=\"upper left\")\n",
    "        axes_flat[idx_b].set_ylim(-50,50)\n",
    "    plt.tight_layout()\n",
    "    plt.show()\n",
    "    \n",
    "  \n",
    "    \n",
    "    "
   ]
  },
  {
   "cell_type": "code",
   "execution_count": null,
   "id": "4047dcbf-d5ff-444c-ae09-e1ece254b4b6",
   "metadata": {
    "tags": []
   },
   "outputs": [],
   "source": [
    "Y"
   ]
  },
  {
   "cell_type": "code",
   "execution_count": null,
   "id": "7be22150-9feb-44c8-93c7-c834ca8b0a95",
   "metadata": {},
   "outputs": [],
   "source": []
  }
 ],
 "metadata": {
  "kernelspec": {
   "display_name": "Python 3 (ipykernel)",
   "language": "python",
   "name": "python3"
  },
  "language_info": {
   "codemirror_mode": {
    "name": "ipython",
    "version": 3
   },
   "file_extension": ".py",
   "mimetype": "text/x-python",
   "name": "python",
   "nbconvert_exporter": "python",
   "pygments_lexer": "ipython3",
   "version": "3.11.5"
  }
 },
 "nbformat": 4,
 "nbformat_minor": 5
}
