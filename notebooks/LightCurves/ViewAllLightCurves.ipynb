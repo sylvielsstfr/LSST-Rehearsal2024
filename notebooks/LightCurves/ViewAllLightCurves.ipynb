{
 "cells": [
  {
   "cell_type": "markdown",
   "id": "7ce31619-38f8-4e97-889e-d15562068b9c",
   "metadata": {},
   "source": [
    "# View light-Curves and Histograms for repeatability"
   ]
  },
  {
   "cell_type": "markdown",
   "id": "e54b31d6-1acd-4657-8618-8e54b7fe81de",
   "metadata": {},
   "source": [
    "- author Sylvie Dagoret-Campagne\n",
    "- creation date 2024-09-03\n",
    "- last update 2024-09-03\n",
    "- last update : 2024-09-06 : histograms for different mag threshold\n",
    "- last update : 2024-09-07 : add aperture flux in addition to psf flux by acting a flag and show error vs mag"
   ]
  },
  {
   "cell_type": "code",
   "execution_count": null,
   "id": "ec0ac857-ef70-434a-81db-6beb410cb90f",
   "metadata": {},
   "outputs": [],
   "source": [
    "import warnings\n",
    "warnings.resetwarnings()\n",
    "warnings.simplefilter('ignore')"
   ]
  },
  {
   "cell_type": "code",
   "execution_count": null,
   "id": "8cac1097-f413-4361-a7a2-83274255460a",
   "metadata": {},
   "outputs": [],
   "source": [
    "import numpy as np\n",
    "import matplotlib as mpl\n",
    "import matplotlib.pyplot as plt\n",
    "%matplotlib inline\n",
    "from mpl_toolkits.axes_grid1 import make_axes_locatable\n",
    "from matplotlib.colors import LogNorm,SymLogNorm\n",
    "from matplotlib.patches import Circle,Annulus\n",
    "from astropy.visualization import ZScaleInterval\n",
    "props = dict(boxstyle='round', facecolor=None, alpha=0.1)\n",
    "#props = dict(boxstyle='round')\n",
    "\n",
    "import matplotlib.colors as colors\n",
    "import matplotlib.cm as cmx\n",
    "\n",
    "import matplotlib.ticker                         # here's where the formatter is\n",
    "from matplotlib.ticker import (MultipleLocator, FormatStrFormatter,\n",
    "                               AutoMinorLocator)\n",
    "\n",
    "from matplotlib.gridspec import GridSpec\n",
    "\n",
    "from astropy.visualization import (MinMaxInterval, SqrtStretch,ZScaleInterval,PercentileInterval,\n",
    "                                   ImageNormalize,imshow_norm)\n",
    "from astropy.visualization.stretch import SinhStretch, LinearStretch,AsinhStretch,LogStretch"
   ]
  },
  {
   "cell_type": "code",
   "execution_count": null,
   "id": "d12e930b-379c-4541-ae00-74cbcb7c35f4",
   "metadata": {},
   "outputs": [],
   "source": [
    "from astropy.io import fits\n",
    "from astropy.wcs import WCS\n",
    "from astropy.stats import SigmaClip\n",
    "\n",
    "\n",
    "import pandas as pd\n",
    "pd.set_option(\"display.max_columns\", None)\n",
    "pd.set_option('display.max_rows', 100)\n",
    "\n",
    "import matplotlib.ticker                         # here's where the formatter is\n",
    "import os\n",
    "import re\n",
    "import pandas as pd\n",
    "import pickle\n",
    "from collections import OrderedDict\n",
    "\n",
    "plt.rcParams[\"figure.figsize\"] = (4,3)\n",
    "plt.rcParams[\"axes.labelsize\"] = 'x-large'\n",
    "plt.rcParams['axes.titlesize'] = 'x-large'\n",
    "plt.rcParams['xtick.labelsize']= 'x-large'\n",
    "plt.rcParams['ytick.labelsize']= 'x-large'\n",
    "\n",
    "import scipy\n",
    "from scipy.optimize import curve_fit"
   ]
  },
  {
   "cell_type": "code",
   "execution_count": null,
   "id": "c83869fa-d756-453d-bcf7-62b392c71918",
   "metadata": {
    "tags": []
   },
   "outputs": [],
   "source": [
    "#inputfilename = \"sources_objectTable-t3864-multibands-o912-LATISS_runs_AUXTEL_DRP_IMAGING_20230509_20240414_w_2024_15_PREOPS-5069.csv\"\n",
    "\n",
    "## The two lists:\n",
    "path_photom =\"data/photom/sources_objectTable\"\n",
    "tract = 3864\n",
    "\n",
    "#inputfilename =\"objects-lightcurves-LATISS_runs_AUXTEL_DRP_IMAGING_20230509_20240414_w_2024_15_PREOPS-5069-tract3864.csv\"\n",
    "inputfilename = \"objects-lightcurves-LATISS_runs_AUXTEL_DRP_IMAGING_20230509_20240513_w_2024_20_PREOPS-5146-tract3864.csv\"\n",
    "inputfullfilename= os.path.join(path_photom,inputfilename) \n",
    "\n",
    "df_allsources = pd.read_csv(inputfullfilename,index_col=0)"
   ]
  },
  {
   "cell_type": "code",
   "execution_count": null,
   "id": "c12f99a6-149e-4289-98a9-d5c8dd16514a",
   "metadata": {
    "tags": []
   },
   "outputs": [],
   "source": [
    "df_allsources"
   ]
  },
  {
   "cell_type": "code",
   "execution_count": null,
   "id": "d1facd06-a6ba-4141-af78-55bf88868efc",
   "metadata": {
    "tags": []
   },
   "outputs": [],
   "source": [
    "df_allsources[\"apFlux_35_0_instMag\"] = -2.5*np.log10(df_allsources[\"apFlux_35_0_instFlux\"]) + df_allsources[\"zeroPoint\"]\n",
    "df_allsources[\"apFlux_35_0_instMagErr\"] = 2.5/np.log(10.)*(df_allsources[\"apFlux_35_0_instFluxErr\"]/df_allsources[\"apFlux_35_0_instFlux\"]) "
   ]
  },
  {
   "cell_type": "code",
   "execution_count": null,
   "id": "98eb3c88-1572-4955-8db9-b4be81a281fa",
   "metadata": {
    "tags": []
   },
   "outputs": [],
   "source": [
    "len(df_allsources.obj_index.unique())"
   ]
  },
  {
   "cell_type": "code",
   "execution_count": null,
   "id": "64dfc5e5-138d-42b3-a938-05bd80ace76b",
   "metadata": {
    "tags": []
   },
   "outputs": [],
   "source": [
    "list_of_files = os.listdir(path_photom) "
   ]
  },
  {
   "cell_type": "code",
   "execution_count": null,
   "id": "37725614-5b5a-45d4-99f0-24ac9096d794",
   "metadata": {
    "tags": []
   },
   "outputs": [],
   "source": [
    "all_objnum = []\n",
    "tag = \"^sources_objectTable-t3864-multibands-o(.*)-LATISS_runs_AUXTEL_DRP_IMAGING_20230509_20240513_w_2024_20_PREOPS-5146.csv$\"\n",
    "for idx,file in enumerate(list_of_files):\n",
    "    coll = re.findall(tag,file)\n",
    "    if len(coll)>0:\n",
    "        all_objnum.append(int(coll[0]))\n",
    "        \n",
    "all_objnum = sorted(all_objnum)  "
   ]
  },
  {
   "cell_type": "code",
   "execution_count": null,
   "id": "00719987-2718-4bd8-851b-7b883dcf3f8b",
   "metadata": {
    "tags": []
   },
   "outputs": [],
   "source": [
    "all_df = []\n",
    "for idx,idx_obj in enumerate(all_objnum):\n",
    "    filename = f\"sources_objectTable-t3864-multibands-o{idx_obj}-LATISS_runs_AUXTEL_DRP_IMAGING_20230509_20240513_w_2024_20_PREOPS-5146.csv\"\n",
    "    fullfilename = os.path.join(path_photom,filename)\n",
    "    df = pd.read_csv(fullfilename,index_col=0)\n",
    "    df[\"apFlux_35_0_instMag\"] = -2.5*np.log10(df[\"apFlux_35_0_instFlux\"]) + df[\"zeroPoint\"]\n",
    "    df[\"apFlux_35_0_instMagErr\"] = 2.5/np.log(10.)*(df[\"apFlux_35_0_instFluxErr\"]/df[\"apFlux_35_0_instFlux\"]) \n",
    "    all_df.append(df)\n",
    "    "
   ]
  },
  {
   "cell_type": "code",
   "execution_count": null,
   "id": "a4e1b5b9-398a-4563-912a-84a1a04e54a5",
   "metadata": {
    "tags": []
   },
   "outputs": [],
   "source": [
    "df = all_df[0]"
   ]
  },
  {
   "cell_type": "code",
   "execution_count": null,
   "id": "26782b4d-251e-4153-a140-353f129e1704",
   "metadata": {
    "tags": []
   },
   "outputs": [],
   "source": [
    "df"
   ]
  },
  {
   "cell_type": "code",
   "execution_count": null,
   "id": "e259eea5-4804-4296-80e9-a358a96d27d3",
   "metadata": {
    "tags": []
   },
   "outputs": [],
   "source": [
    "len(df_allsources[df_allsources.obj_index == all_objnum[0]] )"
   ]
  },
  {
   "cell_type": "code",
   "execution_count": null,
   "id": "d581fe8a-3a41-473e-915a-5c8ca9d8f8df",
   "metadata": {
    "tags": []
   },
   "outputs": [],
   "source": [
    "residuals = {}\n",
    "avgpsfmag = {}\n",
    "residuals[\"g\"] = [] \n",
    "residuals[\"r\"] = [] \n",
    "residuals[\"i\"] = [] \n",
    "residuals[\"z\"] = [] \n",
    "residuals[\"y\"] = [] \n",
    "avgpsfmag[\"g\"] = []\n",
    "avgpsfmag[\"r\"] = []\n",
    "avgpsfmag[\"i\"] = []\n",
    "avgpsfmag[\"z\"] = []\n",
    "avgpsfmag[\"y\"] = []\n",
    "FLAG_PSF = False\n",
    "FLAG_CALIB = False"
   ]
  },
  {
   "cell_type": "code",
   "execution_count": null,
   "id": "afefc750-6430-4e80-aff6-e6bdee78d3c3",
   "metadata": {
    "tags": []
   },
   "outputs": [],
   "source": [
    "import matplotlib.dates as mdates\n",
    "month_locator = mdates.MonthLocator(interval=1)\n",
    "day_locator = mdates.DayLocator(interval=1)\n",
    "year_month_formatter = mdates.DateFormatter(\"%Y-%m\") \n",
    "colors = [\"g\",\"r\",\"orange\",\"grey\",\"k\"]\n",
    "\n",
    "# loop on individual objects\n",
    "for idx,df in enumerate(all_df):\n",
    "    obj_num = df.obj_index.unique()[0]\n",
    "    \n",
    "    df_filt = {}\n",
    "    \n",
    "    # loop on filters\n",
    "    \n",
    "    for idx_b,b in enumerate([\"g\",\"r\",\"i\",\"z\",\"y\"]):\n",
    "        df_filt[b] = df[df.band == b]\n",
    "        \n",
    "        \n",
    "    fig,axs = plt.subplots(5,1,figsize=(12,8),sharex=True)\n",
    "    \n",
    "    axes_flat = axs.flatten()\n",
    "    for idx_b,b in enumerate([\"g\",\"r\",\"i\",\"z\",\"y\"]):\n",
    "        X = pd.to_datetime(df_filt[b]['obsStart'].values)\n",
    "        \n",
    "        \n",
    "        if FLAG_PSF:    \n",
    "            Y = df_filt[b]['psfMag'].values\n",
    "            Yerr = df_filt[b]['psfMagErr'].values        \n",
    "        else:\n",
    "            if FLAG_CALIB:\n",
    "                Y = df_filt[b]['apFlux_35_0_calMag'].values\n",
    "                Yerr = df_filt[b]['apFlux_35_0_calMagErr'].values\n",
    "            else:\n",
    "                #Y = df_filt[b]['apFlux_35_0_instMag'].values\n",
    "                #Yerr = df_filt[b]['apFlux_35_0_instMagErr'].values\n",
    "                Y = df_filt[b][\"apFlux_35_0_instMag\"].values\n",
    "                Yerr = df_filt[b][\"apFlux_35_0_instMagErr\"].values\n",
    "                \n",
    "                \n",
    "                 \n",
    "        \n",
    "        N = len(Y)\n",
    "        clippedMeanMagArray = scipy.stats.sigmaclip(Y, low=3.0, high=3.0).clipped\n",
    "        clippedMeanMag = np.mean(clippedMeanMagArray)\n",
    "        clippedMeanMagErr = np.std(clippedMeanMagArray)/np.sqrt(len(clippedMeanMagArray))\n",
    "        clippeErrorMagArray = scipy.stats.sigmaclip(Y-clippedMeanMag,low=3.0, high=3.0).clipped\n",
    "        clippeErrorMagSigma = (np.sqrt(np.sum(clippeErrorMagArray**2))/np.sqrt(len(clippeErrorMagArray)))*1000.\n",
    "\n",
    "        if b in [\"g\",\"r\",\"z\",\"y\"]:\n",
    "                avgpsfmag[b].append(clippedMeanMag)\n",
    "                residuals[b].append(clippeErrorMagArray)\n",
    "              \n",
    "        \n",
    "        label = f\" band {b} : mag = {clippedMeanMag:.1f} mag , rms = {clippeErrorMagSigma:.0f} mmag, N= {N}\"\n",
    "        axes_flat[idx_b].errorbar(X,(Y-clippedMeanMag)*1000,yerr=Yerr*1000,fmt='.',lw=0.5,c=colors[idx_b],ecolor=colors[idx_b]) \n",
    "        axes_flat[idx_b].scatter(X,Y-clippedMeanMag,marker='o',s=10,c=colors[idx_b],label=label) \n",
    "        axes_flat[idx_b].xaxis.set_major_locator(month_locator) # Locator for major axis only.\n",
    "        axes_flat[idx_b].xaxis.set_minor_locator(day_locator)\n",
    "        axes_flat[idx_b].xaxis.set_major_formatter(year_month_formatter)\n",
    "        axes_flat[idx_b].set_xticks(axes_flat[idx_b].get_xticks(), axes_flat[idx_b].get_xticklabels(), rotation=45, ha='right')\n",
    "        axes_flat[idx_b].grid()\n",
    "        if idx_b == 0:\n",
    "            if FLAG_PSF:  \n",
    "                axes_flat[idx_b].set_title(f\"psf Magnitude for object {obj_num}\")\n",
    "            else:\n",
    "                if FLAG_CALIB:\n",
    "                    axes_flat[idx_b].set_title(f\"Aperture Magnitude (calib) for object {obj_num}\")\n",
    "                else:\n",
    "                    axes_flat[idx_b].set_title(f\"Aperture Magnitude (instrum) for object {obj_num}\")\n",
    "                    \n",
    "                \n",
    "        elif idx_b == 4:\n",
    "            axes_flat[idx_b].set_xlabel(\"date obs\") \n",
    "        axes_flat[idx_b].set_ylabel(\"dev (mmag)\") \n",
    "        axes_flat[idx_b].legend(loc=\"upper left\")\n",
    "        axes_flat[idx_b].set_ylim(-50,50)\n",
    "    plt.tight_layout()\n",
    "    plt.show()\n",
    "    \n",
    "  \n",
    "    \n",
    "    "
   ]
  },
  {
   "cell_type": "markdown",
   "id": "d584329c-4af4-4189-8b0a-54be4296f6be",
   "metadata": {
    "tags": []
   },
   "source": [
    "## Histograms"
   ]
  },
  {
   "cell_type": "code",
   "execution_count": null,
   "id": "3ee5ba99-6433-4814-b657-3868e24ec8ec",
   "metadata": {
    "tags": []
   },
   "outputs": [],
   "source": [
    "band = \"g\""
   ]
  },
  {
   "cell_type": "code",
   "execution_count": null,
   "id": "537a745e-d336-4675-8c58-b54fd7c19677",
   "metadata": {
    "tags": []
   },
   "outputs": [],
   "source": [
    "color = [\"orange\",\"k\",\"g\",\"b\",\"r\"]\n",
    "thresholds = np.array([13.,14.,15.,16.,17.])\n",
    "histoList1 = []\n",
    "histoList2 = []\n",
    "histoList3 = []\n",
    "histoList4 = []\n",
    "histoList5 = []\n",
    "histoLists = [ histoList1, histoList2, histoList3, histoList4,histoList5]\n",
    "Nthr = len(thresholds)"
   ]
  },
  {
   "cell_type": "code",
   "execution_count": null,
   "id": "7be22150-9feb-44c8-93c7-c834ca8b0a95",
   "metadata": {},
   "outputs": [],
   "source": [
    "the_list_of_LC_average = avgpsfmag[band]\n",
    "the_list_of_LC_residuals = residuals[band]\n",
    "NLC = len(the_list_of_LC_average)\n",
    "\n",
    "## Loop on threshold\n",
    "for ith,th in enumerate(thresholds):\n",
    "    for iobs in range(NLC):\n",
    "        mag = the_list_of_LC_average[iobs]\n",
    "        res = the_list_of_LC_residuals[iobs] \n",
    "        if mag < th:\n",
    "            histoLists[ith].append(res)"
   ]
  },
  {
   "cell_type": "code",
   "execution_count": null,
   "id": "93d87699-76dd-42ab-b7eb-e696b81df417",
   "metadata": {
    "tags": []
   },
   "outputs": [],
   "source": [
    "for ith,th in enumerate(thresholds):\n",
    "    print(ith,th,len(histoLists[ith]))\n",
    "    histoLists[ith] = np.hstack(histoLists[ith])\n",
    "    print(ith,th,len(histoLists[ith]))\n",
    "    histoLists[ith]*=1000.  # convert in mmag\n"
   ]
  },
  {
   "cell_type": "code",
   "execution_count": null,
   "id": "55f36d8c-31f5-418f-8efb-92bda42c2909",
   "metadata": {
    "tags": []
   },
   "outputs": [],
   "source": [
    "fig,ax = plt.subplots(1,1,figsize=(6,5))\n",
    "for ith,th in enumerate(thresholds):\n",
    "    data = histoLists[4-ith]\n",
    "    sigma = np.std(data)\n",
    "    m = thresholds[4-ith]\n",
    "    label = f\" m < {m:.0f} mag\\n$\\sigma$ = {sigma:.1f} mmag\"\n",
    "    ax.hist(data,bins=50,range=(-100,100),facecolor=color[4-ith],alpha=0.9,label=label)\n",
    "ax.legend(loc=\"upper left\")\n",
    "if FLAG_PSF:\n",
    "    ax.set_title(f\"Light curve residuals in band {band} (PSF Flux)\")\n",
    "else:\n",
    "    if FLAG_CALIB:\n",
    "        ax.set_title(f\"Light curve residuals in band {band} (calib Aperture Flux)\")\n",
    "    else:\n",
    "        ax.set_title(f\"Light curve residuals in band {band} (instrum Aperture Flux)\")\n",
    "        \n",
    "ax.set_xlabel(\"residuals (mmag)\")"
   ]
  },
  {
   "cell_type": "markdown",
   "id": "63a99404-2291-41e2-8264-a73004cade5c",
   "metadata": {},
   "source": [
    "## error vs mag"
   ]
  },
  {
   "cell_type": "code",
   "execution_count": null,
   "id": "fe4ab70f-3655-493b-a756-4651e46d5984",
   "metadata": {},
   "outputs": [],
   "source": [
    "df_allsources.head() "
   ]
  },
  {
   "cell_type": "code",
   "execution_count": null,
   "id": "3e62e90c-66fd-42ce-9b99-fb780a31ba63",
   "metadata": {
    "tags": []
   },
   "outputs": [],
   "source": [
    "df_allsources[\"psfMagErr_mmag\"] =df_allsources[\"psfMagErr\"]*1000.\n",
    "df_allsources[\"apFlux_35_0_calMagErr_mmag\"] =df_allsources[\"apFlux_35_0_calMagErr\"]*1000.\n",
    "df_allsources[\"apFlux_35_0_instMagErr_mmag\"] =df_allsources[\"apFlux_35_0_instMagErr\"]*1000.\n",
    "\n",
    "df_allsources_g = df_allsources[df_allsources.band == \"g\" ]\n",
    "df_allsources_r = df_allsources[df_allsources.band == \"r\" ]\n",
    "df_allsources_i = df_allsources[df_allsources.band == \"i\" ]\n",
    "df_allsources_z = df_allsources[df_allsources.band == \"z\" ]\n",
    "df_allsources_y = df_allsources[df_allsources.band == \"y\" ]"
   ]
  },
  {
   "cell_type": "code",
   "execution_count": null,
   "id": "73056fc5-3a6a-435b-9184-253e01e422e6",
   "metadata": {
    "tags": []
   },
   "outputs": [],
   "source": [
    "fig,axs = plt.subplots(2,2,figsize=(12,8))\n",
    "\n",
    "ax1,ax2,ax3,ax4 = axs.flatten()\n",
    "\n",
    "df_allsources_g.plot.scatter(x=\"psfMag\", y=\"psfMagErr_mmag\",ax=ax1,marker=\".\",color=\"g\",alpha=0.1)\n",
    "df_allsources_r.plot.scatter(x=\"psfMag\", y=\"psfMagErr_mmag\",ax=ax1,marker=\".\",color=\"r\",alpha=0.1)\n",
    "df_allsources_i.plot.scatter(x=\"psfMag\", y=\"psfMagErr_mmag\",ax=ax1,marker=\".\",color=\"orange\",alpha=0.1)\n",
    "df_allsources_z.plot.scatter(x=\"psfMag\", y=\"psfMagErr_mmag\",ax=ax1,marker=\".\",color=\"grey\",alpha=0.1)\n",
    "df_allsources_y.plot.scatter(x=\"psfMag\", y=\"psfMagErr_mmag\",ax=ax1,marker=\".\",color=\"k\",alpha=0.1)\n",
    "ax1.set_title(\"PSF magnitude (calibrated)\")\n",
    "\n",
    "df_allsources_g.plot.scatter(x=\"apFlux_35_0_calMag\", y=\"apFlux_35_0_calMagErr_mmag\",ax=ax2,marker=\".\",color=\"g\",alpha=0.1)\n",
    "df_allsources_r.plot.scatter(x=\"apFlux_35_0_calMag\", y=\"apFlux_35_0_calMagErr_mmag\",ax=ax2,marker=\".\",color=\"r\",alpha=0.1)\n",
    "df_allsources_i.plot.scatter(x=\"apFlux_35_0_calMag\", y=\"apFlux_35_0_calMagErr_mmag\",ax=ax2,marker=\".\",color=\"orange\",alpha=0.1)\n",
    "df_allsources_z.plot.scatter(x=\"apFlux_35_0_calMag\", y=\"apFlux_35_0_calMagErr_mmag\",ax=ax2,marker=\".\",color=\"grey\",alpha=0.1)\n",
    "df_allsources_y.plot.scatter(x=\"apFlux_35_0_calMag\", y=\"apFlux_35_0_calMagErr_mmag\",ax=ax2,marker=\".\",color=\"k\",alpha=0.1)\n",
    "ax2.set_title(\"Aperture magnitude (calibrated with localZeroPoint)\")\n",
    "\n",
    "df_allsources_g.plot.scatter(x=\"apFlux_35_0_instMag\", y=\"apFlux_35_0_instMagErr_mmag\",ax=ax3,marker=\".\",color=\"g\",alpha=0.1)\n",
    "df_allsources_r.plot.scatter(x=\"apFlux_35_0_instMag\", y=\"apFlux_35_0_instMagErr_mmag\",ax=ax3,marker=\".\",color=\"r\",alpha=0.1)\n",
    "df_allsources_i.plot.scatter(x=\"apFlux_35_0_instMag\", y=\"apFlux_35_0_instMagErr_mmag\",ax=ax3,marker=\".\",color=\"orange\",alpha=0.1)\n",
    "df_allsources_z.plot.scatter(x=\"apFlux_35_0_instMag\", y=\"apFlux_35_0_instMagErr_mmag\",ax=ax3,marker=\".\",color=\"grey\",alpha=0.1)\n",
    "df_allsources_y.plot.scatter(x=\"apFlux_35_0_instMag\", y=\"apFlux_35_0_instMagErr_mmag\",ax=ax3,marker=\".\",color=\"k\",alpha=0.1)\n",
    "ax3.set_title(\"Aperture instrumental magnitude (scaled with CCD ZeroPoint)\")\n",
    "\n",
    "ax4.set_axis_off()\n",
    "\n",
    "\n",
    "ax1.legend()\n",
    "ax1.set_xlim(11.,17)\n",
    "ax1.set_ylim(0.,20.)\n",
    "ax2.legend()\n",
    "ax2.set_xlim(11.,17)\n",
    "ax2.set_ylim(0.,20.)\n",
    "ax3.legend()\n",
    "ax3.set_xlim(11.,17)\n",
    "ax3.set_ylim(0.,20.)\n",
    "\n",
    "\n",
    "# generate legend\n",
    "import matplotlib.patches as mpatches\n",
    "green_patch = mpatches.Patch(color='green', label='g band',alpha=0.5)\n",
    "red_patch = mpatches.Patch(color='red', label='r band',alpha=0.5)\n",
    "orange_patch = mpatches.Patch(color='orange', label='i band',alpha=0.5)\n",
    "grey_patch = mpatches.Patch(color='grey', label='z band',alpha=0.5)\n",
    "black_patch = mpatches.Patch(color='k', label='y band',alpha=0.5)\n",
    "ax1.legend(handles=[green_patch,red_patch, orange_patch, grey_patch,black_patch])\n",
    "ax2.legend(handles=[green_patch,red_patch, orange_patch, grey_patch,black_patch])\n",
    "ax3.legend(handles=[green_patch,red_patch, orange_patch, grey_patch,black_patch])\n",
    "\n",
    "\n",
    "\n",
    "plt.tight_layout()"
   ]
  },
  {
   "cell_type": "code",
   "execution_count": null,
   "id": "ea0a7411-ad22-4baa-b4dd-f671a37a0d88",
   "metadata": {
    "tags": []
   },
   "outputs": [],
   "source": [
    "fig,ax = plt.subplots(1,1,figsize=(8,6))\n",
    "\n",
    "df_allsources_g.plot.scatter(x=\"apFlux_35_0_calMag\", y=\"apFlux_35_0_calMagErr_mmag\",ax=ax,marker=\".\",color=\"g\",alpha=0.1)\n",
    "df_allsources_r.plot.scatter(x=\"apFlux_35_0_calMag\", y=\"apFlux_35_0_calMagErr_mmag\",ax=ax,marker=\".\",color=\"r\",alpha=0.1)\n",
    "df_allsources_i.plot.scatter(x=\"apFlux_35_0_calMag\", y=\"apFlux_35_0_calMagErr_mmag\",ax=ax,marker=\".\",color=\"orange\",alpha=0.1)\n",
    "df_allsources_z.plot.scatter(x=\"apFlux_35_0_calMag\", y=\"apFlux_35_0_calMagErr_mmag\",ax=ax,marker=\".\",color=\"grey\",alpha=0.1)\n",
    "df_allsources_y.plot.scatter(x=\"apFlux_35_0_calMag\", y=\"apFlux_35_0_calMagErr_mmag\",ax=ax,marker=\".\",color=\"k\",alpha=0.1)\n",
    "ax.set_title(\"Aperture magnitude (Auxtel - SDSS' filters)\")\n",
    "ax.set_xlabel(\" Magnitude (mag)\")\n",
    "ax.set_ylabel(\" Magnitude error (mmag)\")\n",
    "\n",
    "# generate legend\n",
    "import matplotlib.patches as mpatches\n",
    "green_patch = mpatches.Patch(color='green', label='g band',alpha=0.5)\n",
    "red_patch = mpatches.Patch(color='red', label='r band',alpha=0.5)\n",
    "orange_patch = mpatches.Patch(color='orange', label='i band',alpha=0.5)\n",
    "grey_patch = mpatches.Patch(color='grey', label='z band',alpha=0.5)\n",
    "black_patch = mpatches.Patch(color='k', label='y band',alpha=0.5)\n",
    "ax.legend(handles=[green_patch,red_patch, orange_patch, grey_patch,black_patch])"
   ]
  },
  {
   "cell_type": "code",
   "execution_count": null,
   "id": "535bf1ab-e1a9-4286-b96b-d0c81bc583ed",
   "metadata": {},
   "outputs": [],
   "source": []
  }
 ],
 "metadata": {
  "kernelspec": {
   "display_name": "conda_py310",
   "language": "python",
   "name": "conda_py310"
  },
  "language_info": {
   "codemirror_mode": {
    "name": "ipython",
    "version": 3
   },
   "file_extension": ".py",
   "mimetype": "text/x-python",
   "name": "python",
   "nbconvert_exporter": "python",
   "pygments_lexer": "ipython3",
   "version": "3.10.12"
  }
 },
 "nbformat": 4,
 "nbformat_minor": 5
}
