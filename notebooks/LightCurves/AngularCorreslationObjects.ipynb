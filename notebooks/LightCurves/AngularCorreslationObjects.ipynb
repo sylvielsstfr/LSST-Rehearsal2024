{
 "cells": [
  {
   "cell_type": "markdown",
   "id": "bf7ac831-c58c-4343-88f6-b57e67eda286",
   "metadata": {},
   "source": [
    "# Angular correlation of bright object in LSST"
   ]
  },
  {
   "cell_type": "code",
   "execution_count": 1,
   "id": "36001f47-1d8b-4420-86b8-f748d61dea8d",
   "metadata": {
    "execution": {
     "iopub.execute_input": "2024-07-26T17:17:50.321136Z",
     "iopub.status.busy": "2024-07-26T17:17:50.321017Z",
     "iopub.status.idle": "2024-07-26T17:17:51.180798Z",
     "shell.execute_reply": "2024-07-26T17:17:51.180263Z",
     "shell.execute_reply.started": "2024-07-26T17:17:50.321124Z"
    }
   },
   "outputs": [],
   "source": [
    "import astropy.units as u\n",
    "import numpy as np \n",
    "import pandas as pd\n",
    "pd.set_option(\"display.max_columns\", None)\n",
    "from astropy.time import Time\n",
    "\n",
    "import scipy.stats\n",
    "\n",
    "import matplotlib\n",
    "import matplotlib.pyplot as plt\n",
    "%matplotlib inline\n",
    "from matplotlib import pyplot as plt\n",
    "from mpl_toolkits.axes_grid1 import make_axes_locatable\n",
    "from matplotlib.colors import LogNorm,SymLogNorm\n",
    "from matplotlib.patches import Circle,Annulus\n",
    "\n",
    "\n",
    "import lsst.geom as geom\n",
    "import pickle\n",
    "from astropy.stats import SigmaClip"
   ]
  },
  {
   "cell_type": "code",
   "execution_count": 2,
   "id": "27ef635f-ceab-4e29-b7e3-0c40af27cd5d",
   "metadata": {
    "execution": {
     "iopub.execute_input": "2024-07-26T17:17:51.181662Z",
     "iopub.status.busy": "2024-07-26T17:17:51.181395Z",
     "iopub.status.idle": "2024-07-26T17:17:51.190540Z",
     "shell.execute_reply": "2024-07-26T17:17:51.190171Z",
     "shell.execute_reply.started": "2024-07-26T17:17:51.181651Z"
    }
   },
   "outputs": [],
   "source": [
    "from astropy.io import fits\n",
    "from astropy.wcs import WCS\n",
    "\n",
    "\n",
    "import pandas as pd\n",
    "pd.set_option(\"display.max_columns\", None)\n",
    "pd.set_option('display.max_rows', 100)\n",
    "\n",
    "import matplotlib.ticker                         # here's where the formatter is\n",
    "import os\n",
    "import re\n",
    "import pandas as pd\n",
    "import pickle\n",
    "from collections import OrderedDict\n",
    "\n",
    "plt.rcParams[\"figure.figsize\"] = (4,3)\n",
    "plt.rcParams[\"axes.labelsize\"] = 'xx-large'\n",
    "plt.rcParams['axes.titlesize'] = 'xx-large'\n",
    "plt.rcParams['xtick.labelsize']= 'xx-large'\n",
    "plt.rcParams['ytick.labelsize']= 'xx-large'\n",
    "\n",
    "import scipy\n",
    "from scipy.optimize import curve_fit"
   ]
  },
  {
   "cell_type": "code",
   "execution_count": 3,
   "id": "f7eb11f4-c682-4326-a526-a2e15543da71",
   "metadata": {
    "execution": {
     "iopub.execute_input": "2024-07-26T17:17:51.191121Z",
     "iopub.status.busy": "2024-07-26T17:17:51.190999Z",
     "iopub.status.idle": "2024-07-26T17:17:51.193171Z",
     "shell.execute_reply": "2024-07-26T17:17:51.192821Z",
     "shell.execute_reply.started": "2024-07-26T17:17:51.191110Z"
    }
   },
   "outputs": [],
   "source": [
    "import lsst\n",
    "import lsst.sphgeom\n",
    "from  lsst.geom import SpherePoint, Angle\n",
    "\n",
    "#spherePointCenter = lsst.geom.SpherePoint(ra1*lsst.geom.degrees, dec1*lsst.geom.degrees)\n",
    "#spt = lsst.geom.SpherePoint(ra2*lsst.geom.degrees, dec2*lsst.geom.degrees)\n",
    "#ang = spherePointCenter.separation(spt)\n",
    "#ang_arcsec = ang.asArcseconds()"
   ]
  },
  {
   "cell_type": "code",
   "execution_count": 4,
   "id": "2876b13c-a631-4d2f-9fcc-98bb7483f788",
   "metadata": {
    "execution": {
     "iopub.execute_input": "2024-07-26T17:17:51.194395Z",
     "iopub.status.busy": "2024-07-26T17:17:51.194274Z",
     "iopub.status.idle": "2024-07-26T17:17:51.198517Z",
     "shell.execute_reply": "2024-07-26T17:17:51.198153Z",
     "shell.execute_reply.started": "2024-07-26T17:17:51.194384Z"
    }
   },
   "outputs": [],
   "source": [
    "def calculateSeparation(ra0,dec0,ra,dec):\n",
    "    spt0 = lsst.geom.SpherePoint(ra0*lsst.geom.degrees, dec0*lsst.geom.degrees)\n",
    "    spt = lsst.geom.SpherePoint(ra*lsst.geom.degrees, dec*lsst.geom.degrees)\n",
    "    ang = spt0.separation(spt)\n",
    "    ang_arcsec = ang.asArcseconds()\n",
    "    return ang_arcsec\n",
    " "
   ]
  },
  {
   "cell_type": "code",
   "execution_count": 5,
   "id": "f66d62dc-9ddb-418e-b103-2cca015db7bf",
   "metadata": {
    "execution": {
     "iopub.execute_input": "2024-07-26T17:17:51.199211Z",
     "iopub.status.busy": "2024-07-26T17:17:51.198960Z",
     "iopub.status.idle": "2024-07-26T17:17:51.203195Z",
     "shell.execute_reply": "2024-07-26T17:17:51.202854Z",
     "shell.execute_reply.started": "2024-07-26T17:17:51.199195Z"
    }
   },
   "outputs": [],
   "source": [
    "from lsst.geom import Angle \n",
    "import lsst\n",
    "func_degToRad = lambda x : Angle(x,lsst.geom.degrees).asRadians()\n",
    "func_degToArcsec = lambda x : Angle(x,lsst.geom.degrees).asArcseconds()"
   ]
  },
  {
   "cell_type": "code",
   "execution_count": 6,
   "id": "1c73ab28-86d4-4c4b-90b1-87989ce4504d",
   "metadata": {
    "execution": {
     "iopub.execute_input": "2024-07-26T17:17:51.203749Z",
     "iopub.status.busy": "2024-07-26T17:17:51.203632Z",
     "iopub.status.idle": "2024-07-26T17:17:51.210311Z",
     "shell.execute_reply": "2024-07-26T17:17:51.209969Z",
     "shell.execute_reply.started": "2024-07-26T17:17:51.203739Z"
    }
   },
   "outputs": [],
   "source": [
    "df = pd.read_csv(\"list_of_isolatedobjects.csv\",index_col=0)"
   ]
  },
  {
   "cell_type": "code",
   "execution_count": 7,
   "id": "b4581b9e-45f1-4990-9c76-c0aa505aadd3",
   "metadata": {
    "execution": {
     "iopub.execute_input": "2024-07-26T17:17:51.210996Z",
     "iopub.status.busy": "2024-07-26T17:17:51.210831Z",
     "iopub.status.idle": "2024-07-26T17:17:51.221395Z",
     "shell.execute_reply": "2024-07-26T17:17:51.221035Z",
     "shell.execute_reply.started": "2024-07-26T17:17:51.210985Z"
    }
   },
   "outputs": [
    {
     "data": {
      "text/html": [
       "<div>\n",
       "<style scoped>\n",
       "    .dataframe tbody tr th:only-of-type {\n",
       "        vertical-align: middle;\n",
       "    }\n",
       "\n",
       "    .dataframe tbody tr th {\n",
       "        vertical-align: top;\n",
       "    }\n",
       "\n",
       "    .dataframe thead th {\n",
       "        text-align: right;\n",
       "    }\n",
       "</style>\n",
       "<table border=\"1\" class=\"dataframe\">\n",
       "  <thead>\n",
       "    <tr style=\"text-align: right;\">\n",
       "      <th></th>\n",
       "      <th>idx_obj</th>\n",
       "      <th>ra</th>\n",
       "      <th>dec</th>\n",
       "      <th>magG</th>\n",
       "      <th>magR</th>\n",
       "      <th>magI</th>\n",
       "      <th>magZ</th>\n",
       "      <th>magY</th>\n",
       "      <th>smagG</th>\n",
       "      <th>smagR</th>\n",
       "      <th>smagI</th>\n",
       "      <th>smagZ</th>\n",
       "      <th>smagY</th>\n",
       "      <th>G_R</th>\n",
       "      <th>Z_Y</th>\n",
       "      <th>racosdec</th>\n",
       "    </tr>\n",
       "  </thead>\n",
       "  <tbody>\n",
       "    <tr>\n",
       "      <th>0</th>\n",
       "      <td>64.0</td>\n",
       "      <td>122.458942</td>\n",
       "      <td>-36.203409</td>\n",
       "      <td>15.777598</td>\n",
       "      <td>15.297151</td>\n",
       "      <td>15.071238</td>\n",
       "      <td>14.976599</td>\n",
       "      <td>14.989068</td>\n",
       "      <td>0.015889</td>\n",
       "      <td>0.015765</td>\n",
       "      <td>0.014891</td>\n",
       "      <td>0.019052</td>\n",
       "      <td>0.020214</td>\n",
       "      <td>0.480447</td>\n",
       "      <td>-0.094639</td>\n",
       "      <td>98.815202</td>\n",
       "    </tr>\n",
       "    <tr>\n",
       "      <th>1</th>\n",
       "      <td>97.0</td>\n",
       "      <td>122.443233</td>\n",
       "      <td>-36.188544</td>\n",
       "      <td>16.445436</td>\n",
       "      <td>15.197609</td>\n",
       "      <td>14.557551</td>\n",
       "      <td>14.211738</td>\n",
       "      <td>14.017541</td>\n",
       "      <td>0.024000</td>\n",
       "      <td>0.018429</td>\n",
       "      <td>0.016975</td>\n",
       "      <td>0.019177</td>\n",
       "      <td>0.030711</td>\n",
       "      <td>1.247827</td>\n",
       "      <td>-0.345813</td>\n",
       "      <td>98.821287</td>\n",
       "    </tr>\n",
       "    <tr>\n",
       "      <th>2</th>\n",
       "      <td>101.0</td>\n",
       "      <td>122.558798</td>\n",
       "      <td>-36.184124</td>\n",
       "      <td>14.703564</td>\n",
       "      <td>13.660735</td>\n",
       "      <td>13.141518</td>\n",
       "      <td>12.922712</td>\n",
       "      <td>12.838508</td>\n",
       "      <td>0.021051</td>\n",
       "      <td>0.017896</td>\n",
       "      <td>0.014409</td>\n",
       "      <td>0.016356</td>\n",
       "      <td>0.039974</td>\n",
       "      <td>1.042829</td>\n",
       "      <td>-0.218806</td>\n",
       "      <td>98.920140</td>\n",
       "    </tr>\n",
       "    <tr>\n",
       "      <th>3</th>\n",
       "      <td>108.0</td>\n",
       "      <td>122.476591</td>\n",
       "      <td>-36.168954</td>\n",
       "      <td>13.855744</td>\n",
       "      <td>13.133155</td>\n",
       "      <td>12.888260</td>\n",
       "      <td>12.779664</td>\n",
       "      <td>12.791271</td>\n",
       "      <td>0.022899</td>\n",
       "      <td>0.018386</td>\n",
       "      <td>0.020533</td>\n",
       "      <td>0.021819</td>\n",
       "      <td>0.034599</td>\n",
       "      <td>0.722588</td>\n",
       "      <td>-0.108596</td>\n",
       "      <td>98.872928</td>\n",
       "    </tr>\n",
       "    <tr>\n",
       "      <th>4</th>\n",
       "      <td>109.0</td>\n",
       "      <td>122.556550</td>\n",
       "      <td>-36.138404</td>\n",
       "      <td>15.638559</td>\n",
       "      <td>15.115679</td>\n",
       "      <td>14.870493</td>\n",
       "      <td>14.803328</td>\n",
       "      <td>14.853112</td>\n",
       "      <td>0.019506</td>\n",
       "      <td>0.015110</td>\n",
       "      <td>0.016687</td>\n",
       "      <td>0.019926</td>\n",
       "      <td>0.045657</td>\n",
       "      <td>0.522880</td>\n",
       "      <td>-0.067165</td>\n",
       "      <td>98.976031</td>\n",
       "    </tr>\n",
       "  </tbody>\n",
       "</table>\n",
       "</div>"
      ],
      "text/plain": [
       "   idx_obj          ra        dec       magG       magR       magI       magZ  \\\n",
       "0     64.0  122.458942 -36.203409  15.777598  15.297151  15.071238  14.976599   \n",
       "1     97.0  122.443233 -36.188544  16.445436  15.197609  14.557551  14.211738   \n",
       "2    101.0  122.558798 -36.184124  14.703564  13.660735  13.141518  12.922712   \n",
       "3    108.0  122.476591 -36.168954  13.855744  13.133155  12.888260  12.779664   \n",
       "4    109.0  122.556550 -36.138404  15.638559  15.115679  14.870493  14.803328   \n",
       "\n",
       "        magY     smagG     smagR     smagI     smagZ     smagY       G_R  \\\n",
       "0  14.989068  0.015889  0.015765  0.014891  0.019052  0.020214  0.480447   \n",
       "1  14.017541  0.024000  0.018429  0.016975  0.019177  0.030711  1.247827   \n",
       "2  12.838508  0.021051  0.017896  0.014409  0.016356  0.039974  1.042829   \n",
       "3  12.791271  0.022899  0.018386  0.020533  0.021819  0.034599  0.722588   \n",
       "4  14.853112  0.019506  0.015110  0.016687  0.019926  0.045657  0.522880   \n",
       "\n",
       "        Z_Y   racosdec  \n",
       "0 -0.094639  98.815202  \n",
       "1 -0.345813  98.821287  \n",
       "2 -0.218806  98.920140  \n",
       "3 -0.108596  98.872928  \n",
       "4 -0.067165  98.976031  "
      ]
     },
     "execution_count": 7,
     "metadata": {},
     "output_type": "execute_result"
    }
   ],
   "source": [
    "df.head()"
   ]
  },
  {
   "cell_type": "markdown",
   "id": "b1e9c2a6-d6dc-420f-a327-e6886a7491e3",
   "metadata": {},
   "source": [
    "## Calculation of angle correlation"
   ]
  },
  {
   "cell_type": "code",
   "execution_count": 8,
   "id": "a3c6e0ee-1e7c-44b6-9a7f-4cb2ffb79958",
   "metadata": {
    "execution": {
     "iopub.execute_input": "2024-07-26T17:17:51.221973Z",
     "iopub.status.busy": "2024-07-26T17:17:51.221858Z",
     "iopub.status.idle": "2024-07-26T17:17:51.332015Z",
     "shell.execute_reply": "2024-07-26T17:17:51.331657Z",
     "shell.execute_reply.started": "2024-07-26T17:17:51.221963Z"
    }
   },
   "outputs": [],
   "source": [
    "all_df = []\n",
    "for index, row in df.iterrows():\n",
    "    ra0 = row['ra']\n",
    "    dec0 = row['dec']\n",
    "    df1 = df.copy(deep=True)\n",
    "    df1 = df1.iloc[index+1:] \n",
    "    df1[\"sep\"]=df1.apply(lambda x : calculateSeparation(ra0,dec0,x['ra'],x['dec']),axis=1)\n",
    "    all_df.append(df1)"
   ]
  },
  {
   "cell_type": "markdown",
   "id": "4021e204-5978-43a5-9ef1-db3868faec9c",
   "metadata": {},
   "source": [
    "## Separation angle distribution"
   ]
  },
  {
   "cell_type": "code",
   "execution_count": 9,
   "id": "d3254242-fdc6-4511-9bf8-030b87d9ec52",
   "metadata": {
    "execution": {
     "iopub.execute_input": "2024-07-26T17:17:51.332552Z",
     "iopub.status.busy": "2024-07-26T17:17:51.332433Z",
     "iopub.status.idle": "2024-07-26T17:17:51.336236Z",
     "shell.execute_reply": "2024-07-26T17:17:51.335888Z",
     "shell.execute_reply.started": "2024-07-26T17:17:51.332542Z"
    }
   },
   "outputs": [],
   "source": [
    "all_sep = []\n",
    "for df1 in all_df:\n",
    "    if len(df1)>0:\n",
    "        list_of_sep = df1[\"sep\"].values\n",
    "        all_sep.append(list_of_sep)\n",
    "all_sep = np.concatenate(all_sep, axis=0)"
   ]
  },
  {
   "cell_type": "code",
   "execution_count": 10,
   "id": "4b21a813-fbbc-4d35-8760-6e231585e70c",
   "metadata": {
    "execution": {
     "iopub.execute_input": "2024-07-26T17:17:51.336842Z",
     "iopub.status.busy": "2024-07-26T17:17:51.336724Z",
     "iopub.status.idle": "2024-07-26T17:17:51.339285Z",
     "shell.execute_reply": "2024-07-26T17:17:51.338959Z",
     "shell.execute_reply.started": "2024-07-26T17:17:51.336833Z"
    }
   },
   "outputs": [],
   "source": [
    "image_size = 0.1*4000."
   ]
  },
  {
   "cell_type": "code",
   "execution_count": 11,
   "id": "132956cd-791e-48bc-9eaa-bab4166922f0",
   "metadata": {
    "execution": {
     "iopub.execute_input": "2024-07-26T17:17:51.339896Z",
     "iopub.status.busy": "2024-07-26T17:17:51.339783Z",
     "iopub.status.idle": "2024-07-26T17:17:51.580918Z",
     "shell.execute_reply": "2024-07-26T17:17:51.580500Z",
     "shell.execute_reply.started": "2024-07-26T17:17:51.339887Z"
    }
   },
   "outputs": [
    {
     "data": {
      "text/plain": [
       "Text(0.5, 1.0, 'Bright source correlation ')"
      ]
     },
     "execution_count": 11,
     "metadata": {},
     "output_type": "execute_result"
    },
    {
     "data": {
      "image/png": "[encoded data removed]",
      "text/plain": [
       "<Figure size 1200x400 with 2 Axes>"
      ]
     },
     "metadata": {},
     "output_type": "display_data"
    }
   ],
   "source": [
    "fig,axs = plt.subplots(1,2,figsize=(12,4))\n",
    "ax1,ax2=axs\n",
    "ax1.hist(all_sep,bins=50,histtype=\"step\",color=\"b\",lw=2);\n",
    "image_size = 0.1*4000.\n",
    "ax1.axvline(image_size,color=\"k\")\n",
    "ax1.set_xlabel(\"$\\\\theta$ (arcsec)\")\n",
    "ax1.set_title(\"Bright source correlation \")\n",
    "\n",
    "all_sep_pix = all_sep/0.1\n",
    "ax2.hist(all_sep_pix,bins=50,histtype=\"step\",color=\"b\",lw=2);\n",
    "image_size = 4000.\n",
    "ax2.axvline(image_size,color=\"k\")\n",
    "ax2.set_xlabel(\"$\\\\theta$ (pixel)\")\n",
    "ax2.set_title(\"Bright source correlation \")\n"
   ]
  },
  {
   "cell_type": "markdown",
   "id": "2e675b1d-3e05-44a1-8bcd-503be9882415",
   "metadata": {},
   "source": [
    "## Save "
   ]
  },
  {
   "cell_type": "code",
   "execution_count": 12,
   "id": "515ae3cf-ab76-4b90-981f-c2002f0286be",
   "metadata": {
    "execution": {
     "iopub.execute_input": "2024-07-26T17:17:51.581601Z",
     "iopub.status.busy": "2024-07-26T17:17:51.581461Z",
     "iopub.status.idle": "2024-07-26T17:17:51.665368Z",
     "shell.execute_reply": "2024-07-26T17:17:51.665005Z",
     "shell.execute_reply.started": "2024-07-26T17:17:51.581590Z"
    }
   },
   "outputs": [],
   "source": [
    "all_pairs = []\n",
    "for index, row in df.iterrows():\n",
    "    idx0 = int(row[\"idx_obj\"] )\t\n",
    "    ra0 = row['ra']\n",
    "    dec0 = row['dec']\n",
    "    G_R0 = row['G_R']\n",
    "    Z_Y0 = row['Z_Y']\n",
    "    df1 = all_df[index]\n",
    "    for index1, row1 in df1.iterrows():\n",
    "        idx1 = int(row1['idx_obj']) \t\n",
    "        ra1 = row1['ra']\n",
    "        dec1 = row1['dec']\n",
    "        G_R1 = row1['G_R']\n",
    "        Z_Y1 = row1['Z_Y']\n",
    "        sep = row1['sep']\n",
    "        all_pairs.append(np.array([idx0,idx1,G_R0,G_R1,Z_Y0,Z_Y1,sep]))\n",
    "        \n",
    "all_pairs = np.vstack(all_pairs)    "
   ]
  },
  {
   "cell_type": "code",
   "execution_count": 13,
   "id": "4c699623-931e-4fa0-9800-11d757807354",
   "metadata": {
    "execution": {
     "iopub.execute_input": "2024-07-26T17:17:51.666000Z",
     "iopub.status.busy": "2024-07-26T17:17:51.665884Z",
     "iopub.status.idle": "2024-07-26T17:17:51.668905Z",
     "shell.execute_reply": "2024-07-26T17:17:51.668568Z",
     "shell.execute_reply.started": "2024-07-26T17:17:51.665990Z"
    }
   },
   "outputs": [
    {
     "data": {
      "text/plain": [
       "array([[ 6.40000000e+01,  9.70000000e+01,  4.80447110e-01, ...,\n",
       "        -9.46389306e-02, -3.45812927e-01,  7.03321612e+01],\n",
       "       [ 6.40000000e+01,  1.01000000e+02,  4.80447110e-01, ...,\n",
       "        -9.46389306e-02, -2.18805640e-01,  2.98304672e+02],\n",
       "       [ 6.40000000e+01,  1.08000000e+02,  4.80447110e-01, ...,\n",
       "        -9.46389306e-02, -1.08596244e-01,  1.34220132e+02],\n",
       "       ...,\n",
       "       [ 9.58000000e+02,  9.63000000e+02,  2.88732780e-01, ...,\n",
       "                    nan,             nan,  3.40558710e+02],\n",
       "       [ 9.58000000e+02,  9.83000000e+02,  2.88732780e-01, ...,\n",
       "                    nan,             nan,  5.10243387e+02],\n",
       "       [ 9.63000000e+02,  9.83000000e+02,  6.60575166e-01, ...,\n",
       "                    nan,             nan,  7.40247857e+02]])"
      ]
     },
     "execution_count": 13,
     "metadata": {},
     "output_type": "execute_result"
    }
   ],
   "source": [
    "all_pairs "
   ]
  },
  {
   "cell_type": "code",
   "execution_count": 14,
   "id": "e319c632-3c72-4cf5-b94f-5271671ab34a",
   "metadata": {
    "execution": {
     "iopub.execute_input": "2024-07-26T17:17:51.669502Z",
     "iopub.status.busy": "2024-07-26T17:17:51.669383Z",
     "iopub.status.idle": "2024-07-26T17:17:51.671822Z",
     "shell.execute_reply": "2024-07-26T17:17:51.671496Z",
     "shell.execute_reply.started": "2024-07-26T17:17:51.669492Z"
    }
   },
   "outputs": [],
   "source": [
    "df_pairs = pd.DataFrame(all_pairs, columns=[\"objidx1\",\"objidx2\",\"G1_R1\",\"G2_R2\",\"Z1_Y1\",\"Z2_Y2\",\"sep\"] )"
   ]
  },
  {
   "cell_type": "code",
   "execution_count": 15,
   "id": "6eaded6b-6f76-44be-8831-8cdd06de35fa",
   "metadata": {
    "execution": {
     "iopub.execute_input": "2024-07-26T17:17:51.672389Z",
     "iopub.status.busy": "2024-07-26T17:17:51.672276Z",
     "iopub.status.idle": "2024-07-26T17:17:51.676693Z",
     "shell.execute_reply": "2024-07-26T17:17:51.676320Z",
     "shell.execute_reply.started": "2024-07-26T17:17:51.672379Z"
    }
   },
   "outputs": [],
   "source": [
    "df_pairs.sort_values(\"sep\",axis=0, ascending=True, inplace=True)"
   ]
  },
  {
   "cell_type": "code",
   "execution_count": 16,
   "id": "df3a6b1a-7011-475f-b84f-4599f62cd8db",
   "metadata": {
    "execution": {
     "iopub.execute_input": "2024-07-26T17:17:51.678548Z",
     "iopub.status.busy": "2024-07-26T17:17:51.678416Z",
     "iopub.status.idle": "2024-07-26T17:17:51.686423Z",
     "shell.execute_reply": "2024-07-26T17:17:51.686040Z",
     "shell.execute_reply.started": "2024-07-26T17:17:51.678538Z"
    }
   },
   "outputs": [
    {
     "data": {
      "text/html": [
       "<div>\n",
       "<style scoped>\n",
       "    .dataframe tbody tr th:only-of-type {\n",
       "        vertical-align: middle;\n",
       "    }\n",
       "\n",
       "    .dataframe tbody tr th {\n",
       "        vertical-align: top;\n",
       "    }\n",
       "\n",
       "    .dataframe thead th {\n",
       "        text-align: right;\n",
       "    }\n",
       "</style>\n",
       "<table border=\"1\" class=\"dataframe\">\n",
       "  <thead>\n",
       "    <tr style=\"text-align: right;\">\n",
       "      <th></th>\n",
       "      <th>objidx1</th>\n",
       "      <th>objidx2</th>\n",
       "      <th>G1_R1</th>\n",
       "      <th>G2_R2</th>\n",
       "      <th>Z1_Y1</th>\n",
       "      <th>Z2_Y2</th>\n",
       "      <th>sep</th>\n",
       "    </tr>\n",
       "  </thead>\n",
       "  <tbody>\n",
       "    <tr>\n",
       "      <th>606</th>\n",
       "      <td>141.0</td>\n",
       "      <td>907.0</td>\n",
       "      <td>0.735042</td>\n",
       "      <td>0.980283</td>\n",
       "      <td>-0.114436</td>\n",
       "      <td>NaN</td>\n",
       "      <td>7.953708</td>\n",
       "    </tr>\n",
       "    <tr>\n",
       "      <th>2060</th>\n",
       "      <td>654.0</td>\n",
       "      <td>669.0</td>\n",
       "      <td>0.331201</td>\n",
       "      <td>0.533893</td>\n",
       "      <td>0.007770</td>\n",
       "      <td>-0.191827</td>\n",
       "      <td>10.576831</td>\n",
       "    </tr>\n",
       "    <tr>\n",
       "      <th>333</th>\n",
       "      <td>111.0</td>\n",
       "      <td>262.0</td>\n",
       "      <td>0.540740</td>\n",
       "      <td>0.144065</td>\n",
       "      <td>-0.112162</td>\n",
       "      <td>0.005726</td>\n",
       "      <td>16.129314</td>\n",
       "    </tr>\n",
       "    <tr>\n",
       "      <th>2152</th>\n",
       "      <td>813.0</td>\n",
       "      <td>950.0</td>\n",
       "      <td>0.864215</td>\n",
       "      <td>1.371627</td>\n",
       "      <td>-0.175939</td>\n",
       "      <td>NaN</td>\n",
       "      <td>16.859074</td>\n",
       "    </tr>\n",
       "    <tr>\n",
       "      <th>18</th>\n",
       "      <td>64.0</td>\n",
       "      <td>262.0</td>\n",
       "      <td>0.480447</td>\n",
       "      <td>0.144065</td>\n",
       "      <td>-0.094639</td>\n",
       "      <td>0.005726</td>\n",
       "      <td>18.288013</td>\n",
       "    </tr>\n",
       "    <tr>\n",
       "      <th>...</th>\n",
       "      <td>...</td>\n",
       "      <td>...</td>\n",
       "      <td>...</td>\n",
       "      <td>...</td>\n",
       "      <td>...</td>\n",
       "      <td>...</td>\n",
       "      <td>...</td>\n",
       "    </tr>\n",
       "    <tr>\n",
       "      <th>2169</th>\n",
       "      <td>865.0</td>\n",
       "      <td>944.0</td>\n",
       "      <td>0.809207</td>\n",
       "      <td>1.055756</td>\n",
       "      <td>-0.080143</td>\n",
       "      <td>NaN</td>\n",
       "      <td>707.396851</td>\n",
       "    </tr>\n",
       "    <tr>\n",
       "      <th>1774</th>\n",
       "      <td>527.0</td>\n",
       "      <td>963.0</td>\n",
       "      <td>1.221065</td>\n",
       "      <td>0.660575</td>\n",
       "      <td>-0.284526</td>\n",
       "      <td>NaN</td>\n",
       "      <td>708.301749</td>\n",
       "    </tr>\n",
       "    <tr>\n",
       "      <th>1506</th>\n",
       "      <td>440.0</td>\n",
       "      <td>963.0</td>\n",
       "      <td>0.278058</td>\n",
       "      <td>0.660575</td>\n",
       "      <td>-0.006838</td>\n",
       "      <td>NaN</td>\n",
       "      <td>712.726810</td>\n",
       "    </tr>\n",
       "    <tr>\n",
       "      <th>1389</th>\n",
       "      <td>392.0</td>\n",
       "      <td>963.0</td>\n",
       "      <td>0.474475</td>\n",
       "      <td>0.660575</td>\n",
       "      <td>-0.020272</td>\n",
       "      <td>NaN</td>\n",
       "      <td>715.843647</td>\n",
       "    </tr>\n",
       "    <tr>\n",
       "      <th>2210</th>\n",
       "      <td>963.0</td>\n",
       "      <td>983.0</td>\n",
       "      <td>0.660575</td>\n",
       "      <td>1.272538</td>\n",
       "      <td>NaN</td>\n",
       "      <td>NaN</td>\n",
       "      <td>740.247857</td>\n",
       "    </tr>\n",
       "  </tbody>\n",
       "</table>\n",
       "<p>2211 rows × 7 columns</p>\n",
       "</div>"
      ],
      "text/plain": [
       "      objidx1  objidx2     G1_R1     G2_R2     Z1_Y1     Z2_Y2         sep\n",
       "606     141.0    907.0  0.735042  0.980283 -0.114436       NaN    7.953708\n",
       "2060    654.0    669.0  0.331201  0.533893  0.007770 -0.191827   10.576831\n",
       "333     111.0    262.0  0.540740  0.144065 -0.112162  0.005726   16.129314\n",
       "2152    813.0    950.0  0.864215  1.371627 -0.175939       NaN   16.859074\n",
       "18       64.0    262.0  0.480447  0.144065 -0.094639  0.005726   18.288013\n",
       "...       ...      ...       ...       ...       ...       ...         ...\n",
       "2169    865.0    944.0  0.809207  1.055756 -0.080143       NaN  707.396851\n",
       "1774    527.0    963.0  1.221065  0.660575 -0.284526       NaN  708.301749\n",
       "1506    440.0    963.0  0.278058  0.660575 -0.006838       NaN  712.726810\n",
       "1389    392.0    963.0  0.474475  0.660575 -0.020272       NaN  715.843647\n",
       "2210    963.0    983.0  0.660575  1.272538       NaN       NaN  740.247857\n",
       "\n",
       "[2211 rows x 7 columns]"
      ]
     },
     "execution_count": 16,
     "metadata": {},
     "output_type": "execute_result"
    }
   ],
   "source": [
    "df_pairs"
   ]
  },
  {
   "cell_type": "code",
   "execution_count": 17,
   "id": "51e5f199-1e79-47a5-8d2b-ea38d8dd2aa4",
   "metadata": {
    "execution": {
     "iopub.execute_input": "2024-07-26T17:17:51.687131Z",
     "iopub.status.busy": "2024-07-26T17:17:51.687013Z",
     "iopub.status.idle": "2024-07-26T17:17:51.711672Z",
     "shell.execute_reply": "2024-07-26T17:17:51.711276Z",
     "shell.execute_reply.started": "2024-07-26T17:17:51.687121Z"
    }
   },
   "outputs": [],
   "source": [
    "df_pairs.to_csv(\"all_pairs.csv\")"
   ]
  }
 ],
 "metadata": {
  "kernelspec": {
   "display_name": "LSST",
   "language": "python",
   "name": "lsst"
  },
  "language_info": {
   "codemirror_mode": {
    "name": "ipython",
    "version": 3
   },
   "file_extension": ".py",
   "mimetype": "text/x-python",
   "name": "python",
   "nbconvert_exporter": "python",
   "pygments_lexer": "ipython3",
   "version": "3.11.7"
  }
 },
 "nbformat": 4,
 "nbformat_minor": 5
}
