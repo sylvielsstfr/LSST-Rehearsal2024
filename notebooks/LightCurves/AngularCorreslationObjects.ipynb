{
 "cells": [
  {
   "cell_type": "markdown",
   "id": "bf7ac831-c58c-4343-88f6-b57e67eda286",
   "metadata": {},
   "source": [
    "# Angular correlation of bright object in LSST\n",
    "\n",
    "- Last update 2024-07-31\n",
    "- "
   ]
  },
  {
   "cell_type": "code",
   "execution_count": null,
   "id": "36001f47-1d8b-4420-86b8-f748d61dea8d",
   "metadata": {},
   "outputs": [],
   "source": [
    "import astropy.units as u\n",
    "import numpy as np \n",
    "import pandas as pd\n",
    "pd.set_option(\"display.max_columns\", None)\n",
    "from astropy.time import Time\n",
    "\n",
    "import scipy.stats\n",
    "\n",
    "import matplotlib\n",
    "import matplotlib.pyplot as plt\n",
    "%matplotlib inline\n",
    "from matplotlib import pyplot as plt\n",
    "from mpl_toolkits.axes_grid1 import make_axes_locatable\n",
    "from matplotlib.colors import LogNorm,SymLogNorm\n",
    "from matplotlib.patches import Circle,Annulus\n",
    "\n",
    "\n",
    "import lsst.geom as geom\n",
    "import pickle\n",
    "from astropy.stats import SigmaClip"
   ]
  },
  {
   "cell_type": "code",
   "execution_count": null,
   "id": "27ef635f-ceab-4e29-b7e3-0c40af27cd5d",
   "metadata": {},
   "outputs": [],
   "source": [
    "from astropy.io import fits\n",
    "from astropy.wcs import WCS\n",
    "\n",
    "\n",
    "import pandas as pd\n",
    "pd.set_option(\"display.max_columns\", None)\n",
    "pd.set_option('display.max_rows', 100)\n",
    "\n",
    "import matplotlib.ticker                         # here's where the formatter is\n",
    "import os\n",
    "import re\n",
    "import pandas as pd\n",
    "import pickle\n",
    "from collections import OrderedDict\n",
    "\n",
    "plt.rcParams[\"figure.figsize\"] = (4,3)\n",
    "plt.rcParams[\"axes.labelsize\"] = 'xx-large'\n",
    "plt.rcParams['axes.titlesize'] = 'xx-large'\n",
    "plt.rcParams['xtick.labelsize']= 'xx-large'\n",
    "plt.rcParams['ytick.labelsize']= 'xx-large'\n",
    "\n",
    "import scipy\n",
    "from scipy.optimize import curve_fit"
   ]
  },
  {
   "cell_type": "code",
   "execution_count": null,
   "id": "f7eb11f4-c682-4326-a526-a2e15543da71",
   "metadata": {},
   "outputs": [],
   "source": [
    "import lsst\n",
    "import lsst.sphgeom\n",
    "from  lsst.geom import SpherePoint, Angle\n",
    "\n",
    "#spherePointCenter = lsst.geom.SpherePoint(ra1*lsst.geom.degrees, dec1*lsst.geom.degrees)\n",
    "#spt = lsst.geom.SpherePoint(ra2*lsst.geom.degrees, dec2*lsst.geom.degrees)\n",
    "#ang = spherePointCenter.separation(spt)\n",
    "#ang_arcsec = ang.asArcseconds()"
   ]
  },
  {
   "cell_type": "code",
   "execution_count": null,
   "id": "2876b13c-a631-4d2f-9fcc-98bb7483f788",
   "metadata": {},
   "outputs": [],
   "source": [
    "def calculateSeparation(ra0,dec0,ra,dec):\n",
    "    spt0 = lsst.geom.SpherePoint(ra0*lsst.geom.degrees, dec0*lsst.geom.degrees)\n",
    "    spt = lsst.geom.SpherePoint(ra*lsst.geom.degrees, dec*lsst.geom.degrees)\n",
    "    ang = spt0.separation(spt)\n",
    "    ang_arcsec = ang.asArcseconds()\n",
    "    return ang_arcsec\n",
    " "
   ]
  },
  {
   "cell_type": "code",
   "execution_count": null,
   "id": "f66d62dc-9ddb-418e-b103-2cca015db7bf",
   "metadata": {},
   "outputs": [],
   "source": [
    "from lsst.geom import Angle \n",
    "import lsst\n",
    "func_degToRad = lambda x : Angle(x,lsst.geom.degrees).asRadians()\n",
    "func_degToArcsec = lambda x : Angle(x,lsst.geom.degrees).asArcseconds()"
   ]
  },
  {
   "cell_type": "code",
   "execution_count": null,
   "id": "1c73ab28-86d4-4c4b-90b1-87989ce4504d",
   "metadata": {},
   "outputs": [],
   "source": [
    "df = pd.read_csv(\"list_of_isolatedobjects.csv\",index_col=0)"
   ]
  },
  {
   "cell_type": "code",
   "execution_count": null,
   "id": "b4581b9e-45f1-4990-9c76-c0aa505aadd3",
   "metadata": {},
   "outputs": [],
   "source": [
    "df.head()"
   ]
  },
  {
   "cell_type": "markdown",
   "id": "b1e9c2a6-d6dc-420f-a327-e6886a7491e3",
   "metadata": {},
   "source": [
    "## Calculation of angle correlation"
   ]
  },
  {
   "cell_type": "code",
   "execution_count": null,
   "id": "a3c6e0ee-1e7c-44b6-9a7f-4cb2ffb79958",
   "metadata": {},
   "outputs": [],
   "source": [
    "all_df = []\n",
    "for index, row in df.iterrows():\n",
    "    ra0 = row['ra']\n",
    "    dec0 = row['dec']\n",
    "    df1 = df.copy(deep=True)\n",
    "    df1 = df1.iloc[index+1:] \n",
    "    df1[\"sep\"]=df1.apply(lambda x : calculateSeparation(ra0,dec0,x['ra'],x['dec']),axis=1)\n",
    "    all_df.append(df1)"
   ]
  },
  {
   "cell_type": "markdown",
   "id": "4021e204-5978-43a5-9ef1-db3868faec9c",
   "metadata": {},
   "source": [
    "## Separation angle distribution"
   ]
  },
  {
   "cell_type": "code",
   "execution_count": null,
   "id": "d3254242-fdc6-4511-9bf8-030b87d9ec52",
   "metadata": {},
   "outputs": [],
   "source": [
    "all_sep = []\n",
    "for df1 in all_df:\n",
    "    if len(df1)>0:\n",
    "        list_of_sep = df1[\"sep\"].values\n",
    "        all_sep.append(list_of_sep)\n",
    "all_sep = np.concatenate(all_sep, axis=0)"
   ]
  },
  {
   "cell_type": "code",
   "execution_count": null,
   "id": "4b21a813-fbbc-4d35-8760-6e231585e70c",
   "metadata": {},
   "outputs": [],
   "source": [
    "image_size = 0.1*4000."
   ]
  },
  {
   "cell_type": "code",
   "execution_count": null,
   "id": "132956cd-791e-48bc-9eaa-bab4166922f0",
   "metadata": {},
   "outputs": [],
   "source": [
    "fig,axs = plt.subplots(1,2,figsize=(12,4))\n",
    "ax1,ax2=axs\n",
    "ax1.hist(all_sep,bins=50,histtype=\"step\",color=\"b\",lw=2);\n",
    "image_size = 0.1*4000.\n",
    "ax1.axvline(image_size,color=\"k\")\n",
    "ax1.set_xlabel(\"$\\\\theta$ (arcsec)\")\n",
    "ax1.set_title(\"Bright source correlation \")\n",
    "\n",
    "all_sep_pix = all_sep/0.1\n",
    "ax2.hist(all_sep_pix,bins=50,histtype=\"step\",color=\"b\",lw=2);\n",
    "image_size = 4000.\n",
    "ax2.axvline(image_size,color=\"k\")\n",
    "ax2.set_xlabel(\"$\\\\theta$ (pixel)\")\n",
    "ax2.set_title(\"Bright source correlation \")\n"
   ]
  },
  {
   "cell_type": "markdown",
   "id": "2e675b1d-3e05-44a1-8bcd-503be9882415",
   "metadata": {},
   "source": [
    "## Save "
   ]
  },
  {
   "cell_type": "code",
   "execution_count": null,
   "id": "515ae3cf-ab76-4b90-981f-c2002f0286be",
   "metadata": {},
   "outputs": [],
   "source": [
    "all_pairs = []\n",
    "for index, row in df.iterrows():\n",
    "    idx0 = int(row[\"idx_obj\"] )\t\n",
    "    ra0 = row['ra']\n",
    "    dec0 = row['dec']\n",
    "    G_R0 = row['G_R']\n",
    "    Z_Y0 = row['Z_Y']\n",
    "    df1 = all_df[index]\n",
    "    for index1, row1 in df1.iterrows():\n",
    "        idx1 = int(row1['idx_obj']) \t\n",
    "        ra1 = row1['ra']\n",
    "        dec1 = row1['dec']\n",
    "        G_R1 = row1['G_R']\n",
    "        Z_Y1 = row1['Z_Y']\n",
    "        sep = row1['sep']\n",
    "        all_pairs.append(np.array([idx0,idx1,G_R0,G_R1,Z_Y0,Z_Y1,sep]))\n",
    "        \n",
    "all_pairs = np.vstack(all_pairs)    "
   ]
  },
  {
   "cell_type": "code",
   "execution_count": null,
   "id": "4c699623-931e-4fa0-9800-11d757807354",
   "metadata": {},
   "outputs": [],
   "source": [
    "all_pairs "
   ]
  },
  {
   "cell_type": "code",
   "execution_count": null,
   "id": "e319c632-3c72-4cf5-b94f-5271671ab34a",
   "metadata": {},
   "outputs": [],
   "source": [
    "df_pairs = pd.DataFrame(all_pairs, columns=[\"objidx1\",\"objidx2\",\"G1_R1\",\"G2_R2\",\"Z1_Y1\",\"Z2_Y2\",\"sep\"] )"
   ]
  },
  {
   "cell_type": "code",
   "execution_count": null,
   "id": "6eaded6b-6f76-44be-8831-8cdd06de35fa",
   "metadata": {},
   "outputs": [],
   "source": [
    "df_pairs.sort_values(\"sep\",axis=0, ascending=True, inplace=True)"
   ]
  },
  {
   "cell_type": "code",
   "execution_count": null,
   "id": "df3a6b1a-7011-475f-b84f-4599f62cd8db",
   "metadata": {},
   "outputs": [],
   "source": [
    "df_pairs"
   ]
  },
  {
   "cell_type": "code",
   "execution_count": null,
   "id": "51e5f199-1e79-47a5-8d2b-ea38d8dd2aa4",
   "metadata": {},
   "outputs": [],
   "source": [
    "df_pairs.to_csv(\"all_pairs.csv\")"
   ]
  }
 ],
 "metadata": {
  "kernelspec": {
   "display_name": "LSST",
   "language": "python",
   "name": "lsst"
  },
  "language_info": {
   "codemirror_mode": {
    "name": "ipython",
    "version": 3
   },
   "file_extension": ".py",
   "mimetype": "text/x-python",
   "name": "python",
   "nbconvert_exporter": "python",
   "pygments_lexer": "ipython3",
   "version": "3.11.7"
  }
 },
 "nbformat": 4,
 "nbformat_minor": 5
}
