{
 "cells": [
  {
   "cell_type": "markdown",
   "id": "bf7ac831-c58c-4343-88f6-b57e67eda286",
   "metadata": {},
   "source": [
    "# Angular correlation of bright object in LSST"
   ]
  },
  {
   "cell_type": "code",
   "execution_count": 1,
   "id": "36001f47-1d8b-4420-86b8-f748d61dea8d",
   "metadata": {
    "execution": {
     "iopub.execute_input": "2024-06-21T20:07:37.004921Z",
     "iopub.status.busy": "2024-06-21T20:07:37.004794Z",
     "iopub.status.idle": "2024-06-21T20:07:38.317089Z",
     "shell.execute_reply": "2024-06-21T20:07:38.316668Z",
     "shell.execute_reply.started": "2024-06-21T20:07:37.004910Z"
    }
   },
   "outputs": [],
   "source": [
    "import astropy.units as u\n",
    "import numpy as np \n",
    "import pandas as pd\n",
    "pd.set_option(\"display.max_columns\", None)\n",
    "from astropy.time import Time\n",
    "\n",
    "import scipy.stats\n",
    "\n",
    "import matplotlib\n",
    "import matplotlib.pyplot as plt\n",
    "%matplotlib inline\n",
    "from matplotlib import pyplot as plt\n",
    "from mpl_toolkits.axes_grid1 import make_axes_locatable\n",
    "from matplotlib.colors import LogNorm,SymLogNorm\n",
    "from matplotlib.patches import Circle,Annulus\n",
    "\n",
    "\n",
    "import lsst.geom as geom\n",
    "import pickle\n",
    "from astropy.stats import SigmaClip"
   ]
  },
  {
   "cell_type": "code",
   "execution_count": 2,
   "id": "27ef635f-ceab-4e29-b7e3-0c40af27cd5d",
   "metadata": {
    "execution": {
     "iopub.execute_input": "2024-06-21T20:07:38.317921Z",
     "iopub.status.busy": "2024-06-21T20:07:38.317665Z",
     "iopub.status.idle": "2024-06-21T20:07:38.326962Z",
     "shell.execute_reply": "2024-06-21T20:07:38.326601Z",
     "shell.execute_reply.started": "2024-06-21T20:07:38.317909Z"
    }
   },
   "outputs": [],
   "source": [
    "from astropy.io import fits\n",
    "from astropy.wcs import WCS\n",
    "\n",
    "\n",
    "import pandas as pd\n",
    "pd.set_option(\"display.max_columns\", None)\n",
    "pd.set_option('display.max_rows', 100)\n",
    "\n",
    "import matplotlib.ticker                         # here's where the formatter is\n",
    "import os\n",
    "import re\n",
    "import pandas as pd\n",
    "import pickle\n",
    "from collections import OrderedDict\n",
    "\n",
    "plt.rcParams[\"figure.figsize\"] = (4,3)\n",
    "plt.rcParams[\"axes.labelsize\"] = 'xx-large'\n",
    "plt.rcParams['axes.titlesize'] = 'xx-large'\n",
    "plt.rcParams['xtick.labelsize']= 'xx-large'\n",
    "plt.rcParams['ytick.labelsize']= 'xx-large'\n",
    "\n",
    "import scipy\n",
    "from scipy.optimize import curve_fit"
   ]
  },
  {
   "cell_type": "code",
   "execution_count": 3,
   "id": "f7eb11f4-c682-4326-a526-a2e15543da71",
   "metadata": {
    "execution": {
     "iopub.execute_input": "2024-06-21T20:07:38.327669Z",
     "iopub.status.busy": "2024-06-21T20:07:38.327459Z",
     "iopub.status.idle": "2024-06-21T20:07:38.329629Z",
     "shell.execute_reply": "2024-06-21T20:07:38.329294Z",
     "shell.execute_reply.started": "2024-06-21T20:07:38.327657Z"
    }
   },
   "outputs": [],
   "source": [
    "import lsst\n",
    "import lsst.sphgeom\n",
    "from  lsst.geom import SpherePoint, Angle\n",
    "\n",
    "#spherePointCenter = lsst.geom.SpherePoint(ra1*lsst.geom.degrees, dec1*lsst.geom.degrees)\n",
    "#spt = lsst.geom.SpherePoint(ra2*lsst.geom.degrees, dec2*lsst.geom.degrees)\n",
    "#ang = spherePointCenter.separation(spt)\n",
    "#ang_arcsec = ang.asArcseconds()"
   ]
  },
  {
   "cell_type": "code",
   "execution_count": 4,
   "id": "2876b13c-a631-4d2f-9fcc-98bb7483f788",
   "metadata": {
    "execution": {
     "iopub.execute_input": "2024-06-21T20:07:38.330176Z",
     "iopub.status.busy": "2024-06-21T20:07:38.330057Z",
     "iopub.status.idle": "2024-06-21T20:07:38.334349Z",
     "shell.execute_reply": "2024-06-21T20:07:38.334027Z",
     "shell.execute_reply.started": "2024-06-21T20:07:38.330165Z"
    }
   },
   "outputs": [],
   "source": [
    "def calculateSeparation(ra0,dec0,ra,dec):\n",
    "    spt0 = lsst.geom.SpherePoint(ra0*lsst.geom.degrees, dec0*lsst.geom.degrees)\n",
    "    spt = lsst.geom.SpherePoint(ra*lsst.geom.degrees, dec*lsst.geom.degrees)\n",
    "    ang = spt0.separation(spt)\n",
    "    ang_arcsec = ang.asArcseconds()\n",
    "    return ang_arcsec\n",
    " "
   ]
  },
  {
   "cell_type": "code",
   "execution_count": 5,
   "id": "f66d62dc-9ddb-418e-b103-2cca015db7bf",
   "metadata": {
    "execution": {
     "iopub.execute_input": "2024-06-21T20:07:38.334923Z",
     "iopub.status.busy": "2024-06-21T20:07:38.334800Z",
     "iopub.status.idle": "2024-06-21T20:07:38.347684Z",
     "shell.execute_reply": "2024-06-21T20:07:38.347324Z",
     "shell.execute_reply.started": "2024-06-21T20:07:38.334913Z"
    }
   },
   "outputs": [],
   "source": [
    "from lsst.geom import Angle \n",
    "import lsst\n",
    "func_degToRad = lambda x : Angle(x,lsst.geom.degrees).asRadians()\n",
    "func_degToArcsec = lambda x : Angle(x,lsst.geom.degrees).asArcseconds()"
   ]
  },
  {
   "cell_type": "code",
   "execution_count": 6,
   "id": "1c73ab28-86d4-4c4b-90b1-87989ce4504d",
   "metadata": {
    "execution": {
     "iopub.execute_input": "2024-06-21T20:07:38.348241Z",
     "iopub.status.busy": "2024-06-21T20:07:38.348126Z",
     "iopub.status.idle": "2024-06-21T20:07:38.357613Z",
     "shell.execute_reply": "2024-06-21T20:07:38.357255Z",
     "shell.execute_reply.started": "2024-06-21T20:07:38.348231Z"
    }
   },
   "outputs": [],
   "source": [
    "df = pd.read_csv(\"list_of_isolatedobjects.csv\",index_col=0)"
   ]
  },
  {
   "cell_type": "code",
   "execution_count": 7,
   "id": "b4581b9e-45f1-4990-9c76-c0aa505aadd3",
   "metadata": {
    "execution": {
     "iopub.execute_input": "2024-06-21T20:07:38.358225Z",
     "iopub.status.busy": "2024-06-21T20:07:38.358100Z",
     "iopub.status.idle": "2024-06-21T20:07:38.370343Z",
     "shell.execute_reply": "2024-06-21T20:07:38.369979Z",
     "shell.execute_reply.started": "2024-06-21T20:07:38.358215Z"
    }
   },
   "outputs": [
    {
     "data": {
      "text/html": [
       "<div>\n",
       "<style scoped>\n",
       "    .dataframe tbody tr th:only-of-type {\n",
       "        vertical-align: middle;\n",
       "    }\n",
       "\n",
       "    .dataframe tbody tr th {\n",
       "        vertical-align: top;\n",
       "    }\n",
       "\n",
       "    .dataframe thead th {\n",
       "        text-align: right;\n",
       "    }\n",
       "</style>\n",
       "<table border=\"1\" class=\"dataframe\">\n",
       "  <thead>\n",
       "    <tr style=\"text-align: right;\">\n",
       "      <th></th>\n",
       "      <th>idx_obj</th>\n",
       "      <th>ra</th>\n",
       "      <th>dec</th>\n",
       "      <th>magG</th>\n",
       "      <th>magR</th>\n",
       "      <th>magI</th>\n",
       "      <th>magZ</th>\n",
       "      <th>magY</th>\n",
       "      <th>smagG</th>\n",
       "      <th>smagR</th>\n",
       "      <th>smagI</th>\n",
       "      <th>smagZ</th>\n",
       "      <th>smagY</th>\n",
       "      <th>G_R</th>\n",
       "      <th>Z_Y</th>\n",
       "      <th>racosdec</th>\n",
       "    </tr>\n",
       "  </thead>\n",
       "  <tbody>\n",
       "    <tr>\n",
       "      <th>0</th>\n",
       "      <td>60.0</td>\n",
       "      <td>122.458941</td>\n",
       "      <td>-36.203409</td>\n",
       "      <td>15.780089</td>\n",
       "      <td>15.296876</td>\n",
       "      <td>15.066548</td>\n",
       "      <td>14.977860</td>\n",
       "      <td>14.996176</td>\n",
       "      <td>0.017255</td>\n",
       "      <td>0.017876</td>\n",
       "      <td>0.018660</td>\n",
       "      <td>0.019977</td>\n",
       "      <td>0.017382</td>\n",
       "      <td>0.483214</td>\n",
       "      <td>-0.088688</td>\n",
       "      <td>98.815202</td>\n",
       "    </tr>\n",
       "    <tr>\n",
       "      <th>1</th>\n",
       "      <td>97.0</td>\n",
       "      <td>122.443234</td>\n",
       "      <td>-36.188544</td>\n",
       "      <td>16.447322</td>\n",
       "      <td>15.196784</td>\n",
       "      <td>14.543295</td>\n",
       "      <td>14.210779</td>\n",
       "      <td>14.027632</td>\n",
       "      <td>0.027123</td>\n",
       "      <td>0.020171</td>\n",
       "      <td>0.025437</td>\n",
       "      <td>0.018415</td>\n",
       "      <td>0.032334</td>\n",
       "      <td>1.250538</td>\n",
       "      <td>-0.332516</td>\n",
       "      <td>98.821288</td>\n",
       "    </tr>\n",
       "    <tr>\n",
       "      <th>2</th>\n",
       "      <td>101.0</td>\n",
       "      <td>122.476591</td>\n",
       "      <td>-36.168954</td>\n",
       "      <td>13.856892</td>\n",
       "      <td>13.132240</td>\n",
       "      <td>12.887973</td>\n",
       "      <td>12.778402</td>\n",
       "      <td>12.795855</td>\n",
       "      <td>0.023862</td>\n",
       "      <td>0.019996</td>\n",
       "      <td>0.022695</td>\n",
       "      <td>0.020973</td>\n",
       "      <td>0.033263</td>\n",
       "      <td>0.724652</td>\n",
       "      <td>-0.109571</td>\n",
       "      <td>98.872928</td>\n",
       "    </tr>\n",
       "    <tr>\n",
       "      <th>3</th>\n",
       "      <td>106.0</td>\n",
       "      <td>122.558799</td>\n",
       "      <td>-36.184124</td>\n",
       "      <td>14.714332</td>\n",
       "      <td>13.661116</td>\n",
       "      <td>13.156095</td>\n",
       "      <td>12.924743</td>\n",
       "      <td>12.855121</td>\n",
       "      <td>0.024281</td>\n",
       "      <td>0.020753</td>\n",
       "      <td>0.017012</td>\n",
       "      <td>0.022227</td>\n",
       "      <td>0.035247</td>\n",
       "      <td>1.053215</td>\n",
       "      <td>-0.231352</td>\n",
       "      <td>98.920140</td>\n",
       "    </tr>\n",
       "    <tr>\n",
       "      <th>4</th>\n",
       "      <td>114.0</td>\n",
       "      <td>122.556550</td>\n",
       "      <td>-36.138403</td>\n",
       "      <td>15.643555</td>\n",
       "      <td>15.108538</td>\n",
       "      <td>14.877074</td>\n",
       "      <td>14.796453</td>\n",
       "      <td>14.863543</td>\n",
       "      <td>0.021742</td>\n",
       "      <td>0.016813</td>\n",
       "      <td>0.019532</td>\n",
       "      <td>0.024336</td>\n",
       "      <td>0.048665</td>\n",
       "      <td>0.535016</td>\n",
       "      <td>-0.080621</td>\n",
       "      <td>98.976031</td>\n",
       "    </tr>\n",
       "  </tbody>\n",
       "</table>\n",
       "</div>"
      ],
      "text/plain": [
       "   idx_obj          ra        dec       magG       magR       magI       magZ  \\\n",
       "0     60.0  122.458941 -36.203409  15.780089  15.296876  15.066548  14.977860   \n",
       "1     97.0  122.443234 -36.188544  16.447322  15.196784  14.543295  14.210779   \n",
       "2    101.0  122.476591 -36.168954  13.856892  13.132240  12.887973  12.778402   \n",
       "3    106.0  122.558799 -36.184124  14.714332  13.661116  13.156095  12.924743   \n",
       "4    114.0  122.556550 -36.138403  15.643555  15.108538  14.877074  14.796453   \n",
       "\n",
       "        magY     smagG     smagR     smagI     smagZ     smagY       G_R  \\\n",
       "0  14.996176  0.017255  0.017876  0.018660  0.019977  0.017382  0.483214   \n",
       "1  14.027632  0.027123  0.020171  0.025437  0.018415  0.032334  1.250538   \n",
       "2  12.795855  0.023862  0.019996  0.022695  0.020973  0.033263  0.724652   \n",
       "3  12.855121  0.024281  0.020753  0.017012  0.022227  0.035247  1.053215   \n",
       "4  14.863543  0.021742  0.016813  0.019532  0.024336  0.048665  0.535016   \n",
       "\n",
       "        Z_Y   racosdec  \n",
       "0 -0.088688  98.815202  \n",
       "1 -0.332516  98.821288  \n",
       "2 -0.109571  98.872928  \n",
       "3 -0.231352  98.920140  \n",
       "4 -0.080621  98.976031  "
      ]
     },
     "execution_count": 7,
     "metadata": {},
     "output_type": "execute_result"
    }
   ],
   "source": [
    "df.head()"
   ]
  },
  {
   "cell_type": "markdown",
   "id": "b1e9c2a6-d6dc-420f-a327-e6886a7491e3",
   "metadata": {},
   "source": [
    "## Calculation of angle correlation"
   ]
  },
  {
   "cell_type": "code",
   "execution_count": 8,
   "id": "a3c6e0ee-1e7c-44b6-9a7f-4cb2ffb79958",
   "metadata": {
    "execution": {
     "iopub.execute_input": "2024-06-21T20:07:38.370902Z",
     "iopub.status.busy": "2024-06-21T20:07:38.370775Z",
     "iopub.status.idle": "2024-06-21T20:07:38.477684Z",
     "shell.execute_reply": "2024-06-21T20:07:38.477310Z",
     "shell.execute_reply.started": "2024-06-21T20:07:38.370891Z"
    }
   },
   "outputs": [],
   "source": [
    "all_df = []\n",
    "for index, row in df.iterrows():\n",
    "    ra0 = row['ra']\n",
    "    dec0 = row['dec']\n",
    "    df1 = df.copy(deep=True)\n",
    "    df1 = df1.iloc[index+1:] \n",
    "    df1[\"sep\"]=df1.apply(lambda x : calculateSeparation(ra0,dec0,x['ra'],x['dec']),axis=1)\n",
    "    all_df.append(df1)"
   ]
  },
  {
   "cell_type": "markdown",
   "id": "4021e204-5978-43a5-9ef1-db3868faec9c",
   "metadata": {},
   "source": [
    "## Separation angle distribution"
   ]
  },
  {
   "cell_type": "code",
   "execution_count": 9,
   "id": "d3254242-fdc6-4511-9bf8-030b87d9ec52",
   "metadata": {
    "execution": {
     "iopub.execute_input": "2024-06-21T20:07:38.478256Z",
     "iopub.status.busy": "2024-06-21T20:07:38.478134Z",
     "iopub.status.idle": "2024-06-21T20:07:38.482024Z",
     "shell.execute_reply": "2024-06-21T20:07:38.481667Z",
     "shell.execute_reply.started": "2024-06-21T20:07:38.478246Z"
    }
   },
   "outputs": [],
   "source": [
    "all_sep = []\n",
    "for df1 in all_df:\n",
    "    if len(df1)>0:\n",
    "        list_of_sep = df1[\"sep\"].values\n",
    "        all_sep.append(list_of_sep)\n",
    "all_sep = np.concatenate(all_sep, axis=0)"
   ]
  },
  {
   "cell_type": "code",
   "execution_count": 10,
   "id": "4b21a813-fbbc-4d35-8760-6e231585e70c",
   "metadata": {
    "execution": {
     "iopub.execute_input": "2024-06-21T20:07:38.482729Z",
     "iopub.status.busy": "2024-06-21T20:07:38.482541Z",
     "iopub.status.idle": "2024-06-21T20:07:38.486900Z",
     "shell.execute_reply": "2024-06-21T20:07:38.486506Z",
     "shell.execute_reply.started": "2024-06-21T20:07:38.482719Z"
    }
   },
   "outputs": [],
   "source": [
    "image_size = 0.1*4000."
   ]
  },
  {
   "cell_type": "code",
   "execution_count": 11,
   "id": "132956cd-791e-48bc-9eaa-bab4166922f0",
   "metadata": {
    "execution": {
     "iopub.execute_input": "2024-06-21T20:07:38.487483Z",
     "iopub.status.busy": "2024-06-21T20:07:38.487363Z",
     "iopub.status.idle": "2024-06-21T20:07:38.716591Z",
     "shell.execute_reply": "2024-06-21T20:07:38.716176Z",
     "shell.execute_reply.started": "2024-06-21T20:07:38.487473Z"
    }
   },
   "outputs": [
    {
     "data": {
      "text/plain": [
       "Text(0.5, 1.0, 'Bright source correlation ')"
      ]
     },
     "execution_count": 11,
     "metadata": {},
     "output_type": "execute_result"
    },
    {
     "data": {
      "image/png": "[encoded data removed]",
      "text/plain": [
       "<Figure size 1200x400 with 2 Axes>"
      ]
     },
     "metadata": {},
     "output_type": "display_data"
    }
   ],
   "source": [
    "fig,axs = plt.subplots(1,2,figsize=(12,4))\n",
    "ax1,ax2=axs\n",
    "ax1.hist(all_sep,bins=50,histtype=\"step\",color=\"b\",lw=2);\n",
    "image_size = 0.1*4000.\n",
    "ax1.axvline(image_size,color=\"k\")\n",
    "ax1.set_xlabel(\"$\\\\theta$ (arcsec)\")\n",
    "ax1.set_title(\"Bright source correlation \")\n",
    "\n",
    "all_sep_pix = all_sep/0.1\n",
    "ax2.hist(all_sep_pix,bins=50,histtype=\"step\",color=\"b\",lw=2);\n",
    "image_size = 4000.\n",
    "ax2.axvline(image_size,color=\"k\")\n",
    "ax2.set_xlabel(\"$\\\\theta$ (pixel)\")\n",
    "ax2.set_title(\"Bright source correlation \")\n"
   ]
  },
  {
   "cell_type": "code",
   "execution_count": 15,
   "id": "515ae3cf-ab76-4b90-981f-c2002f0286be",
   "metadata": {
    "execution": {
     "iopub.execute_input": "2024-06-21T20:09:55.169133Z",
     "iopub.status.busy": "2024-06-21T20:09:55.168669Z",
     "iopub.status.idle": "2024-06-21T20:09:55.246626Z",
     "shell.execute_reply": "2024-06-21T20:09:55.246281Z",
     "shell.execute_reply.started": "2024-06-21T20:09:55.169116Z"
    }
   },
   "outputs": [],
   "source": [
    "all_pairs = []\n",
    "for index, row in df.iterrows():\n",
    "    idx0 = int(row[\"idx_obj\"] )\t\n",
    "    ra0 = row['ra']\n",
    "    dec0 = row['dec']\n",
    "    df1 = all_df[index]\n",
    "    for index1, row1 in df1.iterrows():\n",
    "        idx1 = int(row1['idx_obj']) \t\n",
    "        ra1 = row1['ra']\n",
    "        dec1 = row1['dec']\n",
    "        sep = row1['sep']\n",
    "        all_pairs.append(np.array([idx0,idx1,sep]))\n",
    "        \n",
    "all_pairs = np.vstack(all_pairs)    "
   ]
  },
  {
   "cell_type": "code",
   "execution_count": 16,
   "id": "4c699623-931e-4fa0-9800-11d757807354",
   "metadata": {
    "execution": {
     "iopub.execute_input": "2024-06-21T20:09:57.481914Z",
     "iopub.status.busy": "2024-06-21T20:09:57.481663Z",
     "iopub.status.idle": "2024-06-21T20:09:57.484809Z",
     "shell.execute_reply": "2024-06-21T20:09:57.484469Z",
     "shell.execute_reply.started": "2024-06-21T20:09:57.481899Z"
    }
   },
   "outputs": [
    {
     "data": {
      "text/plain": [
       "array([[ 60.        ,  97.        ,  70.33006206],\n",
       "       [ 60.        , 101.        , 134.22108483],\n",
       "       [ 60.        , 106.        , 298.30782991],\n",
       "       ...,\n",
       "       [954.        , 966.        ,  54.4188175 ],\n",
       "       [954.        , 972.        , 286.87791007],\n",
       "       [966.        , 972.        , 340.55786532]])"
      ]
     },
     "execution_count": 16,
     "metadata": {},
     "output_type": "execute_result"
    }
   ],
   "source": [
    "all_pairs "
   ]
  },
  {
   "cell_type": "code",
   "execution_count": 18,
   "id": "e319c632-3c72-4cf5-b94f-5271671ab34a",
   "metadata": {
    "execution": {
     "iopub.execute_input": "2024-06-21T20:10:13.940949Z",
     "iopub.status.busy": "2024-06-21T20:10:13.940481Z",
     "iopub.status.idle": "2024-06-21T20:10:13.943452Z",
     "shell.execute_reply": "2024-06-21T20:10:13.943031Z",
     "shell.execute_reply.started": "2024-06-21T20:10:13.940935Z"
    }
   },
   "outputs": [],
   "source": [
    "df_pairs = pd.DataFrame(all_pairs, columns=[\"objidx1\",\"objidx1\",\"sep\"] )"
   ]
  },
  {
   "cell_type": "code",
   "execution_count": 22,
   "id": "51e5f199-1e79-47a5-8d2b-ea38d8dd2aa4",
   "metadata": {
    "execution": {
     "iopub.execute_input": "2024-06-21T20:19:19.511236Z",
     "iopub.status.busy": "2024-06-21T20:19:19.510669Z",
     "iopub.status.idle": "2024-06-21T20:19:19.528230Z",
     "shell.execute_reply": "2024-06-21T20:19:19.527848Z",
     "shell.execute_reply.started": "2024-06-21T20:19:19.511220Z"
    }
   },
   "outputs": [],
   "source": [
    "df_pairs.to_csv(\"all_pairs.csv\")"
   ]
  },
  {
   "cell_type": "code",
   "execution_count": null,
   "id": "08d4a811-9461-43f5-ae17-13505158f1f6",
   "metadata": {},
   "outputs": [],
   "source": []
  }
 ],
 "metadata": {
  "kernelspec": {
   "display_name": "LSST",
   "language": "python",
   "name": "lsst"
  },
  "language_info": {
   "codemirror_mode": {
    "name": "ipython",
    "version": 3
   },
   "file_extension": ".py",
   "mimetype": "text/x-python",
   "name": "python",
   "nbconvert_exporter": "python",
   "pygments_lexer": "ipython3",
   "version": "3.11.7"
  }
 },
 "nbformat": 4,
 "nbformat_minor": 5
}
