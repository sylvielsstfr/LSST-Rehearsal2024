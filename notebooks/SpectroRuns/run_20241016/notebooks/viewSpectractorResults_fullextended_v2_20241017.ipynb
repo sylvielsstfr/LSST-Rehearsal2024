{
 "cells": [
  {
   "cell_type": "markdown",
   "id": "f7cf9648-e7ad-42c5-aab2-ee3d54a399e2",
   "metadata": {
    "execution": {
     "iopub.execute_input": "2024-09-24T07:42:40.592934Z",
     "iopub.status.busy": "2024-09-24T07:42:40.592706Z",
     "iopub.status.idle": "2024-09-24T07:42:40.596930Z",
     "shell.execute_reply": "2024-09-24T07:42:40.596463Z",
     "shell.execute_reply.started": "2024-09-24T07:42:40.592920Z"
    },
    "tags": []
   },
   "source": [
    "# View Spectractor Results\n",
    "\n",
    "- adaptation from **viewSpectractorResults.ipynb** in  ~/../../j/jneveu/rubin-user/holo_atmo/\n",
    "- creation date : 2024-09-25\n",
    "- last update :2024-09-25\n",
    "- last update : 2024-09-30 : full extended\n",
    "- last update : 2024-10-17 : repairs the calculation of jd and mjd by taking info.group : Fonctionne sur w_2024_38 et pas w_2024_41"
   ]
  },
  {
   "cell_type": "code",
   "execution_count": null,
   "id": "f84c9dce-9f47-479c-9a36-c76ae2f819cf",
   "metadata": {
    "execution": {
     "iopub.execute_input": "2024-10-17T08:42:06.007512Z",
     "iopub.status.busy": "2024-10-17T08:42:06.007318Z",
     "iopub.status.idle": "2024-10-17T08:42:06.775103Z",
     "shell.execute_reply": "2024-10-17T08:42:06.774656Z",
     "shell.execute_reply.started": "2024-10-17T08:42:06.007492Z"
    }
   },
   "outputs": [],
   "source": [
    "import matplotlib.pyplot as plt\n",
    "import numpy as np\n",
    "import pandas as pd\n",
    "from tqdm import tqdm\n",
    "from astropy.io import fits\n",
    "from astropy.time import Time\n",
    "import getCalspec\n",
    "#%matplotlib widget \n",
    "%matplotlib inline"
   ]
  },
  {
   "cell_type": "code",
   "execution_count": null,
   "id": "0c721061-a9da-47bd-a627-8e1285933b51",
   "metadata": {
    "execution": {
     "iopub.execute_input": "2024-10-17T08:42:06.775791Z",
     "iopub.status.busy": "2024-10-17T08:42:06.775569Z",
     "iopub.status.idle": "2024-10-17T08:42:06.778047Z",
     "shell.execute_reply": "2024-10-17T08:42:06.777687Z",
     "shell.execute_reply.started": "2024-10-17T08:42:06.775777Z"
    }
   },
   "outputs": [],
   "source": [
    "def get_whereclause(expos_id):\n",
    "    return f\"exposure.id = {expos_id} and instrument = \\'LATISS\\'\""
   ]
  },
  {
   "cell_type": "code",
   "execution_count": null,
   "id": "cf4975b5-966e-45d4-8624-66172e2c776c",
   "metadata": {
    "execution": {
     "iopub.execute_input": "2024-10-17T08:42:06.778623Z",
     "iopub.status.busy": "2024-10-17T08:42:06.778498Z",
     "iopub.status.idle": "2024-10-17T08:42:11.441263Z",
     "shell.execute_reply": "2024-10-17T08:42:11.440860Z",
     "shell.execute_reply.started": "2024-10-17T08:42:06.778611Z"
    },
    "tags": []
   },
   "outputs": [],
   "source": [
    "from lsst.summit.utils.utils import checkStackSetup\n",
    "checkStackSetup()"
   ]
  },
  {
   "cell_type": "code",
   "execution_count": null,
   "id": "53dfcc69-f7b0-49b3-8131-0df1c5ca7120",
   "metadata": {
    "execution": {
     "iopub.execute_input": "2024-10-17T08:42:11.442980Z",
     "iopub.status.busy": "2024-10-17T08:42:11.442504Z",
     "iopub.status.idle": "2024-10-17T08:42:12.490245Z",
     "shell.execute_reply": "2024-10-17T08:42:12.489728Z",
     "shell.execute_reply.started": "2024-10-17T08:42:11.442965Z"
    },
    "tags": []
   },
   "outputs": [],
   "source": [
    "#import lsst.daf.butler as dafButler\n",
    "import lsst.summit.utils.butlerUtils as butlerUtils\n",
    "butler = butlerUtils.makeDefaultLatissButler(embargo=True)\n",
    "\n",
    "repo = \"/repo/main\"\n",
    "repo = \"/repo/embargo\"\n",
    "# repo = \"LATISS\"\n",
    "#butler = dafButler.Butler(repo)\n",
    "registry = butler.registry\n",
    "\n",
    "for c in sorted(registry.queryCollections()):\n",
    "    #if \"u/jneveu\" in c and \"auxtel_atmo\" in c and \"SensorFlat\" in c and \"FixA1\" in c:\n",
    "    if \"u/dagoret\" in c and \"auxtel_atmo\" in c and \"SensorFlat\" in c and \"FixA1\" in c:\n",
    "        print(c)"
   ]
  },
  {
   "cell_type": "markdown",
   "id": "27531e09-1499-4049-870f-cbd3a2063d51",
   "metadata": {},
   "source": [
    "## Check the presence of the spectra"
   ]
  },
  {
   "cell_type": "code",
   "execution_count": null,
   "id": "322a7a9f-7289-48f9-ba77-9961342da797",
   "metadata": {
    "execution": {
     "iopub.execute_input": "2024-10-17T08:42:12.491008Z",
     "iopub.status.busy": "2024-10-17T08:42:12.490751Z",
     "iopub.status.idle": "2024-10-17T08:42:12.604517Z",
     "shell.execute_reply": "2024-10-17T08:42:12.604068Z",
     "shell.execute_reply.started": "2024-10-17T08:42:12.490885Z"
    },
    "tags": []
   },
   "outputs": [],
   "source": [
    "# my run 2024-09-24\n",
    "#my_collection = ['u/dagoret/auxtel_atmosphere_202301_v3.1.0_doSensorFlat_rebin2_lockedOrder2_FixA1_FixA2_FitAngstrom_WithGaia_freePressure_newThroughput6_BG40Scaled1.09_AtmoFitPressureA2_SpecErr_PeekFinder/20240924T161119Z']\n",
    "# my run 2024-10-16\n",
    "my_collection = ['u/dagoret/auxtel_atmosphere_202209_v3.1.0_doSensorFlat_rebin2_lockedOrder2_FixA1_FixA2_FitAngstrom_WithGaia_freePressure_newThroughput6_BG40Scaled1.09_AtmoFitPressureA2_SpecErr_No5SigmaClip/20241016T184601Z']\n",
    "datasetRefs = registry.queryDatasets(datasetType='spectractorSpectrum', collections=my_collection, where= \"instrument='LATISS'\")"
   ]
  },
  {
   "cell_type": "code",
   "execution_count": null,
   "id": "fe9ef6ed-5ed6-4c87-b398-52ab1c80f7c6",
   "metadata": {
    "execution": {
     "iopub.execute_input": "2024-10-17T08:42:12.605132Z",
     "iopub.status.busy": "2024-10-17T08:42:12.605000Z",
     "iopub.status.idle": "2024-10-17T08:42:12.607827Z",
     "shell.execute_reply": "2024-10-17T08:42:12.607424Z",
     "shell.execute_reply.started": "2024-10-17T08:42:12.605120Z"
    }
   },
   "outputs": [],
   "source": [
    "my_collection_str = my_collection[0]\n",
    "my_collection_str  = my_collection_str.replace('/','_') \n",
    "output_filename = my_collection_str+\"_spectrfullextended.npy\"\n",
    "print(f\" >>> output_filename = {output_filename}\")"
   ]
  },
  {
   "cell_type": "code",
   "execution_count": null,
   "id": "40579354-fa78-4628-b817-32d171fe5a4d",
   "metadata": {
    "execution": {
     "iopub.execute_input": "2024-10-17T08:42:12.608424Z",
     "iopub.status.busy": "2024-10-17T08:42:12.608295Z",
     "iopub.status.idle": "2024-10-17T08:42:13.278467Z",
     "shell.execute_reply": "2024-10-17T08:42:13.278019Z",
     "shell.execute_reply.started": "2024-10-17T08:42:12.608413Z"
    },
    "tags": []
   },
   "outputs": [],
   "source": [
    "where = \"instrument='LATISS'\" \n",
    "records = list(butler.registry.queryDimensionRecords('visit', datasets='spectractorSpectrum', where=where,  collections=my_collection))\n",
    "\n",
    "refs = list(set(butler.registry.queryDatasets('spectractorSpectrum',  where=where,  collections=my_collection)))\n",
    "# records = list(butler.registry.queryDimensionRecords('visit', datasets='raw', where=where))"
   ]
  },
  {
   "cell_type": "code",
   "execution_count": null,
   "id": "ba00f590-7978-42cb-96c5-d72c3ae2f0a5",
   "metadata": {
    "execution": {
     "iopub.execute_input": "2024-10-17T08:42:13.279101Z",
     "iopub.status.busy": "2024-10-17T08:42:13.278960Z",
     "iopub.status.idle": "2024-10-17T08:42:13.282986Z",
     "shell.execute_reply": "2024-10-17T08:42:13.282623Z",
     "shell.execute_reply.started": "2024-10-17T08:42:13.279087Z"
    },
    "tags": []
   },
   "outputs": [],
   "source": [
    "print(len(records))\n",
    "records[0]"
   ]
  },
  {
   "cell_type": "code",
   "execution_count": null,
   "id": "2825f46a-2c9b-414b-b4a3-7c2e3699adc9",
   "metadata": {
    "execution": {
     "iopub.execute_input": "2024-10-17T08:42:13.283534Z",
     "iopub.status.busy": "2024-10-17T08:42:13.283402Z",
     "iopub.status.idle": "2024-10-17T08:42:13.286857Z",
     "shell.execute_reply": "2024-10-17T08:42:13.286509Z",
     "shell.execute_reply.started": "2024-10-17T08:42:13.283523Z"
    },
    "tags": []
   },
   "outputs": [],
   "source": [
    "for i, r in enumerate(records):\n",
    "\n",
    "    print(f\"============= ({i}) ============datasetType = spectraction ============================================\")\n",
    "    print(\"fullId..................:\",r.id)\n",
    "    print(\"day_obs..................:\",r.day_obs)\n",
    "    print(\"target..................:\",r.target_name)\n",
    "    print(\"filt+disp..................:\",r.physical_filter)\n",
    "\n",
    "    # spec = butler.get('spectractorSpectrum', visit=r.id, detector=0, collections=my_collection, instrument='LATISS')\n",
    "    \n",
    "    if i>5:\n",
    "        break"
   ]
  },
  {
   "cell_type": "code",
   "execution_count": null,
   "id": "27be167a-bd3f-41df-ba91-5cde8aeb1b1e",
   "metadata": {
    "execution": {
     "iopub.execute_input": "2024-10-17T08:42:13.287360Z",
     "iopub.status.busy": "2024-10-17T08:42:13.287243Z",
     "iopub.status.idle": "2024-10-17T08:42:13.300051Z",
     "shell.execute_reply": "2024-10-17T08:42:13.299685Z",
     "shell.execute_reply.started": "2024-10-17T08:42:13.287349Z"
    }
   },
   "outputs": [],
   "source": [
    "# delete a collection\n",
    "# butler.pruneDatasets(datasetRefs, disassociate=True, unstore=True, purge=True)"
   ]
  },
  {
   "cell_type": "markdown",
   "id": "84a22438-2d6d-4119-a8c7-b8a079a32b66",
   "metadata": {},
   "source": [
    "### Fetch additional info on the exposure\n",
    "- in the butler registry"
   ]
  },
  {
   "cell_type": "code",
   "execution_count": null,
   "id": "65440eab-5d50-44ba-95f7-62d68f10bec6",
   "metadata": {
    "execution": {
     "iopub.execute_input": "2024-10-17T08:42:13.300608Z",
     "iopub.status.busy": "2024-10-17T08:42:13.300489Z",
     "iopub.status.idle": "2024-10-17T08:42:13.306174Z",
     "shell.execute_reply": "2024-10-17T08:42:13.305829Z",
     "shell.execute_reply.started": "2024-10-17T08:42:13.300597Z"
    },
    "tags": []
   },
   "outputs": [],
   "source": [
    "df_exposure = pd.DataFrame(columns=['ex_id', 'ex_obs_id','ex_day_obs', 'ex_seq_num','ex_time_start','ex_time_end' ,'ex_type', \n",
    "                                    'ex_target','ex_filter','ex_expos','ex_tr_ra','ex_tr_dec',\n",
    "                                    'ex_skyangle','ex_azimuth','ex_zenith','ex_science_program','ex_jd','ex_mjd'])"
   ]
  },
  {
   "cell_type": "code",
   "execution_count": null,
   "id": "2c30816c-fca5-4fe9-af08-f183e56cc09d",
   "metadata": {
    "execution": {
     "iopub.execute_input": "2024-10-17T08:42:13.306718Z",
     "iopub.status.busy": "2024-10-17T08:42:13.306596Z",
     "iopub.status.idle": "2024-10-17T08:43:55.693896Z",
     "shell.execute_reply": "2024-10-17T08:43:55.693394Z",
     "shell.execute_reply.started": "2024-10-17T08:42:13.306707Z"
    }
   },
   "outputs": [],
   "source": [
    "for count, r in enumerate(records):\n",
    "    the_whereclause = get_whereclause(r.id)\n",
    "    for count2, info in enumerate(registry.queryDimensionRecords('exposure',where= the_whereclause)):\n",
    "    \n",
    "    \n",
    "        try:\n",
    "            df_exposure.loc[count] = [info.id, info.obs_id, info.day_obs, info.seq_num,pd.to_datetime(info.timespan.begin.to_string()),pd.to_datetime(info.timespan.end.to_string()) ,info.observation_type, info.target_name, info.physical_filter,  \\\n",
    "                             info.exposure_time,info.tracking_ra, info.tracking_dec, info.sky_angle,info.azimuth ,info.zenith_angle, info.science_program,\n",
    "                             info.timespan.begin.jd,info.timespan.begin.mjd ]\n",
    "\n",
    "            info_timespan_begin_to_string = info.timespan.begin.jd\n",
    "            info_timespan_end_to_string = info.timespan.begin.mjd \n",
    "            \n",
    "        except:\n",
    "            print(\">>>   Unexpected error:\", sys.exc_info()[0])\n",
    "            #info_timespan_begin_to_string = \"2021-01-01 00:00:00.00\"\n",
    "            #info_timespan_end_to_string = \"2051-01-01 00:00:00.00\"\n",
    "\n",
    "            info_timespan_begin_to_string = info.group\n",
    "            info_timespan_end_to_string = info.group\n",
    "\n",
    "            info_timespan_begin_mjd  = Time(info_timespan_begin_to_string).mjd\n",
    "            info_timespan_begin_jd = Time(info_timespan_begin_to_string).jd\n",
    "            \n",
    "            print(\"\\t >>>> after error try to recover mjd and jd == > mjd, jd = \",info_timespan_begin_mjd ,info_timespan_begin_jd )\n",
    "            \n",
    "            \n",
    "            #info_timespan_begin_jd = 0\n",
    "            #info_timespan_begin_mjd = 0\n",
    "            df_exposure.loc[count] = [info.id, info.obs_id, info.day_obs, info.seq_num,\n",
    "                                  pd.to_datetime(info_timespan_begin_to_string),\n",
    "                                  pd.to_datetime(info_timespan_end_to_string) ,\n",
    "                                  info.observation_type, info.target_name, \n",
    "                                  info.physical_filter, \\\n",
    "                             info.exposure_time,info.tracking_ra, info.tracking_dec, info.sky_angle,info.azimuth ,info.zenith_angle, info.science_program,\n",
    "                             info_timespan_begin_jd, info_timespan_begin_mjd  ]\n",
    " \n",
    "    \n",
    "        if count < 5:\n",
    "            print(\"-----------------------------------------------------\",count,\"---------------------------------------------------------\")\n",
    "            print(info)\n",
    "            print(\"\\t id:                  \",info.id)\n",
    "            print(\"\\t day_obs:             \",info.day_obs)\n",
    "            print(\"\\t info_group.          \",info.group)\n",
    "            print(\"\\t seq_num:             \",info.seq_num)\n",
    "            print(\"\\t type-of-observation: \",info.observation_type)\n",
    "            print(\"\\t target:              \",info.target_name)\n",
    "        \n",
    "            #mjd = Time(info.timespan.begin.to_string()).mjd\n",
    "            #jd = Time(info.timespan.begin.to_string()).jd\n",
    "            #print(\"mjd, jd = \",info_timespan_begin_mjd,info_timespan_begin_mjd)"
   ]
  },
  {
   "cell_type": "code",
   "execution_count": null,
   "id": "8e278783-077d-490d-8b39-bb4eda17513c",
   "metadata": {
    "execution": {
     "iopub.execute_input": "2024-10-17T08:43:55.694520Z",
     "iopub.status.busy": "2024-10-17T08:43:55.694386Z",
     "iopub.status.idle": "2024-10-17T08:43:55.709332Z",
     "shell.execute_reply": "2024-10-17T08:43:55.708985Z",
     "shell.execute_reply.started": "2024-10-17T08:43:55.694507Z"
    }
   },
   "outputs": [],
   "source": [
    "df_exposure"
   ]
  },
  {
   "cell_type": "markdown",
   "id": "d61972a3-74c3-4d2b-ae96-86e61c549383",
   "metadata": {},
   "source": [
    "## Load one spectrum"
   ]
  },
  {
   "cell_type": "code",
   "execution_count": null,
   "id": "0ec13771-9e8c-48db-bd9d-93626a2008ec",
   "metadata": {
    "execution": {
     "iopub.execute_input": "2024-10-17T08:43:55.709841Z",
     "iopub.status.busy": "2024-10-17T08:43:55.709721Z",
     "iopub.status.idle": "2024-10-17T08:43:55.712208Z",
     "shell.execute_reply": "2024-10-17T08:43:55.711846Z",
     "shell.execute_reply.started": "2024-10-17T08:43:55.709830Z"
    }
   },
   "outputs": [],
   "source": [
    "my_collection"
   ]
  },
  {
   "cell_type": "code",
   "execution_count": null,
   "id": "a28cb73d-2b5e-4438-b5b1-9d13df264926",
   "metadata": {
    "execution": {
     "iopub.execute_input": "2024-10-17T08:43:55.712745Z",
     "iopub.status.busy": "2024-10-17T08:43:55.712627Z",
     "iopub.status.idle": "2024-10-17T08:43:56.025599Z",
     "shell.execute_reply": "2024-10-17T08:43:56.025147Z",
     "shell.execute_reply.started": "2024-10-17T08:43:55.712734Z"
    },
    "tags": []
   },
   "outputs": [],
   "source": [
    "dataId = {\"day_obs\": 20230117 \t, \"seq_num\": 238, 'instrument':'LATISS',\"detector\": 0}\n",
    "#dataId = {\"day_obs\": 20241015, \"seq_num\": 717, 'instrument':'LATISS',\"detector\": 0}\n",
    "spec= butler.get('spectractorSpectrum',dataId,collections=my_collection)\n",
    "p = butler.get('spectrumLibradtranFitParameters',dataId,collections=my_collection)\n",
    "p"
   ]
  },
  {
   "cell_type": "code",
   "execution_count": null,
   "id": "76819dc5-5cf3-4653-bf48-90e429c1f716",
   "metadata": {
    "execution": {
     "iopub.execute_input": "2024-10-17T08:43:56.026267Z",
     "iopub.status.busy": "2024-10-17T08:43:56.026111Z",
     "iopub.status.idle": "2024-10-17T08:43:56.162755Z",
     "shell.execute_reply": "2024-10-17T08:43:56.162317Z",
     "shell.execute_reply.started": "2024-10-17T08:43:56.026252Z"
    },
    "tags": []
   },
   "outputs": [],
   "source": [
    "_ = spec.plot_spectrum()"
   ]
  },
  {
   "cell_type": "code",
   "execution_count": null,
   "id": "f24e3492-27af-4c20-ae35-ab29a901a375",
   "metadata": {
    "execution": {
     "iopub.execute_input": "2024-10-17T08:43:56.163352Z",
     "iopub.status.busy": "2024-10-17T08:43:56.163221Z",
     "iopub.status.idle": "2024-10-17T08:43:56.994772Z",
     "shell.execute_reply": "2024-10-17T08:43:56.994346Z",
     "shell.execute_reply.started": "2024-10-17T08:43:56.163339Z"
    }
   },
   "outputs": [],
   "source": [
    "#exp = butler.get('raw', dataId)\n",
    "exp = butler.get('raw', dataId)\n",
    "md = exp.getMetadata().toDict()\n",
    "md"
   ]
  },
  {
   "cell_type": "code",
   "execution_count": null,
   "id": "4f1c58e1-35d5-4fbe-9ee4-a449982ec82b",
   "metadata": {
    "execution": {
     "iopub.execute_input": "2024-10-17T08:43:56.995439Z",
     "iopub.status.busy": "2024-10-17T08:43:56.995294Z",
     "iopub.status.idle": "2024-10-17T08:43:57.088354Z",
     "shell.execute_reply": "2024-10-17T08:43:57.087976Z",
     "shell.execute_reply.started": "2024-10-17T08:43:56.995420Z"
    }
   },
   "outputs": [],
   "source": [
    "spec.save_spectrum(\"./test_spectrum3.fits\",overwrite=\"True\")"
   ]
  },
  {
   "cell_type": "code",
   "execution_count": null,
   "id": "3e9a4e10-d9ce-438d-8d9c-6f23251b321f",
   "metadata": {
    "execution": {
     "iopub.execute_input": "2024-10-17T08:43:57.090970Z",
     "iopub.status.busy": "2024-10-17T08:43:57.090839Z",
     "iopub.status.idle": "2024-10-17T08:43:57.092780Z",
     "shell.execute_reply": "2024-10-17T08:43:57.092435Z",
     "shell.execute_reply.started": "2024-10-17T08:43:57.090958Z"
    }
   },
   "outputs": [],
   "source": [
    "#fh[0].header[\"WINDSPD\"] = 10\n",
    "#fh[0].header[\"WINDSPD\"]"
   ]
  },
  {
   "cell_type": "markdown",
   "id": "5959b2e4-ca7c-4f99-87a4-81b83b322054",
   "metadata": {},
   "source": [
    "## Load all Libradtran parameters"
   ]
  },
  {
   "cell_type": "code",
   "execution_count": null,
   "id": "91874b7d-26c5-4d28-9c60-42fa563e7635",
   "metadata": {
    "execution": {
     "iopub.execute_input": "2024-10-17T08:43:57.093297Z",
     "iopub.status.busy": "2024-10-17T08:43:57.093178Z",
     "iopub.status.idle": "2024-10-17T08:43:57.097523Z",
     "shell.execute_reply": "2024-10-17T08:43:57.097206Z",
     "shell.execute_reply.started": "2024-10-17T08:43:57.093286Z"
    }
   },
   "outputs": [],
   "source": [
    "dataId"
   ]
  },
  {
   "cell_type": "code",
   "execution_count": null,
   "id": "8c82dd44-9f9a-4e17-ab17-1e2422c2841b",
   "metadata": {
    "execution": {
     "iopub.execute_input": "2024-10-17T08:43:57.098035Z",
     "iopub.status.busy": "2024-10-17T08:43:57.097919Z",
     "iopub.status.idle": "2024-10-17T09:48:12.139524Z",
     "shell.execute_reply": "2024-10-17T09:48:12.139095Z",
     "shell.execute_reply.started": "2024-10-17T08:43:57.098024Z"
    },
    "tags": []
   },
   "outputs": [],
   "source": [
    "# see here an efficient way to access FITS headers: https://lsstc.slack.com/archives/CBV7K0DK6/p1700250222827499\n",
    "params_spectrum = []\n",
    "params_spectrogram = []\n",
    "headers = []\n",
    "\n",
    "def from_ref_to_dataId(ref):\n",
    "    dataId = {'day_obs': ref.dataId[\"day_obs\"], 'seq_num': int(str(ref.dataId[\"visit\"])[8:]), 'instrument': 'LATISS', 'detector': 0}\n",
    "    return dataId\n",
    "\n",
    "for ref in tqdm(sorted(refs, key=lambda x: x.dataId[\"visit\"])[::]):\n",
    "    #try:\n",
    "    with fits.open(butler.getURI(ref).geturl(),use_fsspec=True,\n",
    "          fsspec_kwargs = {\n",
    "              \"endpoint_url\": \"https://s3dfrgw.slac.stanford.edu\"              }\n",
    "         ) as fh:\n",
    "        hdr = fh[0].header\n",
    "    exp = butler.get('raw', from_ref_to_dataId(ref))\n",
    "    md = exp.getMetadata().toDict()\n",
    "    hdr[\"WINDSPD\"] = md[\"WINDSPD\"]\n",
    "    hdr[\"WINDDIR\"] = md[\"WINDDIR\"]\n",
    "    headers.append(hdr)\n",
    "    p = butler.get('spectrumLibradtranFitParameters', visit=ref.dataId[\"visit\"], collections=my_collection, detector=0, instrument='LATISS')\n",
    "    params_spectrum.append(p)\n",
    "    p = butler.get('spectrogramLibradtranFitParameters', visit=ref.dataId[\"visit\"], collections=my_collection, detector=0, instrument='LATISS')\n",
    "    params_spectrogram.append(p)\n",
    "   # except (ValueError,LookupError):\n",
    "    #    print(\"Skip\", ref.dataId[\"visit\"])\n",
    "    #    continue"
   ]
  },
  {
   "cell_type": "code",
   "execution_count": null,
   "id": "c1d19b30-d246-46a1-9c78-e2c1fa982e51",
   "metadata": {
    "execution": {
     "iopub.execute_input": "2024-10-17T09:48:12.140125Z",
     "iopub.status.busy": "2024-10-17T09:48:12.139994Z",
     "iopub.status.idle": "2024-10-17T09:48:12.142101Z",
     "shell.execute_reply": "2024-10-17T09:48:12.141753Z",
     "shell.execute_reply.started": "2024-10-17T09:48:12.140112Z"
    }
   },
   "outputs": [],
   "source": [
    "#def getit(butler, ref):\n",
    "#    butler.get(ref)\n",
    "#    return True"
   ]
  },
  {
   "cell_type": "code",
   "execution_count": null,
   "id": "9c456aa7-5427-4c1f-8513-f79d6050b772",
   "metadata": {
    "execution": {
     "iopub.execute_input": "2024-10-17T09:48:12.142622Z",
     "iopub.status.busy": "2024-10-17T09:48:12.142504Z",
     "iopub.status.idle": "2024-10-17T09:48:12.146939Z",
     "shell.execute_reply": "2024-10-17T09:48:12.146600Z",
     "shell.execute_reply.started": "2024-10-17T09:48:12.142611Z"
    }
   },
   "outputs": [],
   "source": [
    "#import concurrent.futures"
   ]
  },
  {
   "cell_type": "code",
   "execution_count": null,
   "id": "903782ef-5405-4dd1-88e8-4efce4f05e6d",
   "metadata": {
    "execution": {
     "iopub.execute_input": "2024-10-17T09:48:12.147462Z",
     "iopub.status.busy": "2024-10-17T09:48:12.147322Z",
     "iopub.status.idle": "2024-10-17T09:48:12.151362Z",
     "shell.execute_reply": "2024-10-17T09:48:12.151027Z",
     "shell.execute_reply.started": "2024-10-17T09:48:12.147446Z"
    }
   },
   "outputs": [],
   "source": [
    "#refs = list(set(butler.registry.queryDatasets('spectrumLibradtranFitParameters',  where=where,  collections=my_collection)))\n",
    "\n",
    "#get_executor = concurrent.futures.ProcessPoolExecutor(max_workers=4)\n",
    "#future_get = {get_executor.submit(getit, butler, ref): ref for ref in refs}"
   ]
  },
  {
   "cell_type": "code",
   "execution_count": null,
   "id": "b10ecc5c-a999-4fc7-9605-c132ecd918ce",
   "metadata": {
    "execution": {
     "iopub.execute_input": "2024-10-17T09:48:12.151870Z",
     "iopub.status.busy": "2024-10-17T09:48:12.151758Z",
     "iopub.status.idle": "2024-10-17T09:48:12.154811Z",
     "shell.execute_reply": "2024-10-17T09:48:12.154382Z",
     "shell.execute_reply.started": "2024-10-17T09:48:12.151859Z"
    }
   },
   "outputs": [],
   "source": [
    "#all_results = {}\n",
    "#for future in concurrent.futures.as_completed(future_get):\n",
    "#    uri = future_get[future]\n",
    "#    try:\n",
    "#        exists = future.result()\n",
    "#    except Exception as e:\n",
    "#        print(\"Exception\", e)\n",
    "#        exists = False\n",
    "#    all_results[uri] = exists"
   ]
  },
  {
   "cell_type": "code",
   "execution_count": null,
   "id": "cef20cc5-a55f-471d-9060-86592f31412a",
   "metadata": {
    "execution": {
     "iopub.execute_input": "2024-10-17T09:48:12.155624Z",
     "iopub.status.busy": "2024-10-17T09:48:12.155303Z",
     "iopub.status.idle": "2024-10-17T09:48:12.160329Z",
     "shell.execute_reply": "2024-10-17T09:48:12.159997Z",
     "shell.execute_reply.started": "2024-10-17T09:48:12.155552Z"
    },
    "tags": []
   },
   "outputs": [],
   "source": [
    "len(params_spectrogram)"
   ]
  },
  {
   "cell_type": "code",
   "execution_count": null,
   "id": "cfb8d2b6-4bb0-4cb7-85d8-b3bed2c0879d",
   "metadata": {
    "execution": {
     "iopub.execute_input": "2024-10-17T09:48:12.160852Z",
     "iopub.status.busy": "2024-10-17T09:48:12.160734Z",
     "iopub.status.idle": "2024-10-17T09:48:12.163058Z",
     "shell.execute_reply": "2024-10-17T09:48:12.162709Z",
     "shell.execute_reply.started": "2024-10-17T09:48:12.160841Z"
    },
    "tags": []
   },
   "outputs": [],
   "source": [
    "import matplotlib\n",
    "matplotlib.pyplot.close()"
   ]
  },
  {
   "cell_type": "code",
   "execution_count": null,
   "id": "2c4677f0-f79e-4dc9-b6f6-49b044d3d1b1",
   "metadata": {
    "execution": {
     "iopub.execute_input": "2024-10-17T09:48:12.163559Z",
     "iopub.status.busy": "2024-10-17T09:48:12.163444Z",
     "iopub.status.idle": "2024-10-17T09:48:12.168579Z",
     "shell.execute_reply": "2024-10-17T09:48:12.168246Z",
     "shell.execute_reply.started": "2024-10-17T09:48:12.163549Z"
    },
    "tags": []
   },
   "outputs": [],
   "source": [
    "columns_spectrum = [\"id\"]\n",
    "\n",
    "for h in headers[0]:\n",
    "    if \"COMMENT\" in h or \"EXTNAME\" in h: continue\n",
    "    if \"LBDAS_T\" in h or \"PSF_P_T\" in h or \"AMPLIS_T\" in h: continue\n",
    "    if \"UNIT\" in h: continue\n",
    "    if \"SIMPLE\" in h: continue\n",
    "    columns_spectrum.append(h)\n",
    " \n",
    "columns_spectrogram_bestfit = []\n",
    "for key in params_spectrogram[0].labels:\n",
    "    columns_spectrogram_bestfit.append(key)\n",
    "    columns_spectrogram_bestfit.append(key+\"_err\")\n",
    "\n",
    "columns_spectrum_bestfit = []\n",
    "for key in params_spectrum[0].labels:\n",
    "    columns_spectrum_bestfit.append(key)\n",
    "    columns_spectrum_bestfit.append(key+\"_err\")"
   ]
  },
  {
   "cell_type": "code",
   "execution_count": null,
   "id": "e1967b62-90ba-462c-a2ba-11f8829f1e7f",
   "metadata": {
    "execution": {
     "iopub.execute_input": "2024-10-17T09:48:12.169087Z",
     "iopub.status.busy": "2024-10-17T09:48:12.168969Z",
     "iopub.status.idle": "2024-10-17T09:49:34.462194Z",
     "shell.execute_reply": "2024-10-17T09:49:34.461735Z",
     "shell.execute_reply.started": "2024-10-17T09:48:12.169076Z"
    },
    "tags": []
   },
   "outputs": [],
   "source": [
    "min_index = 0\n",
    "max_index = np.inf\n",
    "\n",
    "df1 = pd.DataFrame(columns=columns_spectrum)\n",
    "\n",
    "for k, header in enumerate(headers):\n",
    "    # if k > 40: break\n",
    "    n = records[k].id\n",
    "    if n < min_index or n > max_index: continue\n",
    "    row = {\"id\": n}\n",
    "    for h in header:\n",
    "        if h in columns_spectrum:\n",
    "            row[h] = header[h]\n",
    "    df1.loc[len(df1)] = row\n",
    "            \n",
    "df2 = pd.DataFrame(columns=columns_spectrogram_bestfit)\n",
    "\n",
    "for k, p in enumerate(params_spectrogram):\n",
    "    n = records[k].id\n",
    "    if n < min_index or n > max_index: continue\n",
    "    row = {\"id\": n}\n",
    "    for i, key in enumerate(p.labels):\n",
    "        row[key] = p.values[i]\n",
    "        row[key+\"_err\"] = p.err[i]\n",
    "    df2.loc[len(df2)] = row\n",
    "            \n",
    "df3 = pd.DataFrame(columns=columns_spectrum_bestfit)\n",
    "\n",
    "for k, p in enumerate(params_spectrum):\n",
    "    n = records[k].id\n",
    "    if n < min_index or n > max_index: continue\n",
    "    row = {\"id\": n}\n",
    "    for i, key in enumerate(p.labels):\n",
    "        row[key] = p.values[i]\n",
    "        row[key+\"_err\"] = p.err[i]\n",
    "    df3.loc[len(df3)] = row"
   ]
  },
  {
   "cell_type": "code",
   "execution_count": null,
   "id": "467a3ace-b586-43ff-ae7d-10237d2b1afd",
   "metadata": {
    "execution": {
     "iopub.execute_input": "2024-10-17T09:49:34.462875Z",
     "iopub.status.busy": "2024-10-17T09:49:34.462743Z",
     "iopub.status.idle": "2024-10-17T09:49:34.477749Z",
     "shell.execute_reply": "2024-10-17T09:49:34.477376Z",
     "shell.execute_reply.started": "2024-10-17T09:49:34.462863Z"
    },
    "tags": []
   },
   "outputs": [],
   "source": [
    "df3"
   ]
  },
  {
   "cell_type": "code",
   "execution_count": null,
   "id": "2e5128af-878c-4747-a6d7-745ec66d612d",
   "metadata": {
    "execution": {
     "iopub.execute_input": "2024-10-17T09:49:34.478404Z",
     "iopub.status.busy": "2024-10-17T09:49:34.478254Z",
     "iopub.status.idle": "2024-10-17T09:49:34.486145Z",
     "shell.execute_reply": "2024-10-17T09:49:34.485771Z",
     "shell.execute_reply.started": "2024-10-17T09:49:34.478390Z"
    },
    "tags": []
   },
   "outputs": [],
   "source": [
    "df = pd.merge(df1, df2, left_index=True, right_index=True)\n",
    "df = pd.merge(df, df3, left_index=True, right_index=True)"
   ]
  },
  {
   "cell_type": "code",
   "execution_count": null,
   "id": "0a1bc7d9-7ece-4572-8fae-ce794d3bc117",
   "metadata": {
    "execution": {
     "iopub.execute_input": "2024-10-17T09:49:34.486701Z",
     "iopub.status.busy": "2024-10-17T09:49:34.486576Z",
     "iopub.status.idle": "2024-10-17T09:49:34.602570Z",
     "shell.execute_reply": "2024-10-17T09:49:34.602204Z",
     "shell.execute_reply.started": "2024-10-17T09:49:34.486689Z"
    }
   },
   "outputs": [],
   "source": [
    "df"
   ]
  },
  {
   "cell_type": "code",
   "execution_count": null,
   "id": "7e26f6a9-698a-451d-8d62-e486ab9cff6a",
   "metadata": {
    "execution": {
     "iopub.execute_input": "2024-10-17T09:49:34.603122Z",
     "iopub.status.busy": "2024-10-17T09:49:34.602999Z",
     "iopub.status.idle": "2024-10-17T09:49:34.608096Z",
     "shell.execute_reply": "2024-10-17T09:49:34.607677Z",
     "shell.execute_reply.started": "2024-10-17T09:49:34.603110Z"
    }
   },
   "outputs": [],
   "source": [
    "df = pd.merge(df,df_exposure,left_index=True, right_index=True)"
   ]
  },
  {
   "cell_type": "code",
   "execution_count": null,
   "id": "b8802158-617d-43f4-a9bd-a09d648e3349",
   "metadata": {
    "execution": {
     "iopub.execute_input": "2024-10-17T09:49:34.608765Z",
     "iopub.status.busy": "2024-10-17T09:49:34.608644Z",
     "iopub.status.idle": "2024-10-17T09:49:34.623273Z",
     "shell.execute_reply": "2024-10-17T09:49:34.622949Z",
     "shell.execute_reply.started": "2024-10-17T09:49:34.608753Z"
    }
   },
   "outputs": [],
   "source": [
    "df"
   ]
  },
  {
   "cell_type": "code",
   "execution_count": null,
   "id": "37a6303f-d5d3-4c0f-a516-0fd83ee76cc7",
   "metadata": {
    "execution": {
     "iopub.execute_input": "2024-10-17T09:49:34.623752Z",
     "iopub.status.busy": "2024-10-17T09:49:34.623639Z",
     "iopub.status.idle": "2024-10-17T09:49:34.642606Z",
     "shell.execute_reply": "2024-10-17T09:49:34.642264Z",
     "shell.execute_reply.started": "2024-10-17T09:49:34.623741Z"
    }
   },
   "outputs": [],
   "source": [
    "df.set_index('DATE-OBS', inplace=True)\n",
    "#df.index = pd.to_datetime(df.index, format=\"ISO8601\") #['DATE-OBS'])\n",
    "df.index = pd.to_datetime(df.index) #['DATE-OBS'])\n",
    "df.sort_index(inplace=True)\n",
    "df"
   ]
  },
  {
   "cell_type": "code",
   "execution_count": null,
   "id": "53598495-5a1e-4212-9f69-719f2acdf9fb",
   "metadata": {
    "execution": {
     "iopub.execute_input": "2024-10-17T09:49:34.643113Z",
     "iopub.status.busy": "2024-10-17T09:49:34.642993Z",
     "iopub.status.idle": "2024-10-17T09:49:34.744691Z",
     "shell.execute_reply": "2024-10-17T09:49:34.744306Z",
     "shell.execute_reply.started": "2024-10-17T09:49:34.643102Z"
    },
    "tags": []
   },
   "outputs": [],
   "source": [
    "pd.set_option('display.max_columns', None)\n",
    "df"
   ]
  },
  {
   "cell_type": "code",
   "execution_count": null,
   "id": "3ec32aca-f3cb-4072-b0ef-d1f86eb59e0b",
   "metadata": {
    "execution": {
     "iopub.execute_input": "2024-10-17T09:49:34.745277Z",
     "iopub.status.busy": "2024-10-17T09:49:34.745115Z",
     "iopub.status.idle": "2024-10-17T09:49:34.798052Z",
     "shell.execute_reply": "2024-10-17T09:49:34.797696Z",
     "shell.execute_reply.started": "2024-10-17T09:49:34.745265Z"
    },
    "tags": []
   },
   "outputs": [],
   "source": [
    "rec = df.to_records()"
   ]
  },
  {
   "cell_type": "code",
   "execution_count": null,
   "id": "2c96935d-24cf-4430-ad12-811ac5e36a36",
   "metadata": {
    "execution": {
     "iopub.execute_input": "2024-10-17T09:49:34.798578Z",
     "iopub.status.busy": "2024-10-17T09:49:34.798455Z",
     "iopub.status.idle": "2024-10-17T09:49:34.926173Z",
     "shell.execute_reply": "2024-10-17T09:49:34.925684Z",
     "shell.execute_reply.started": "2024-10-17T09:49:34.798566Z"
    },
    "tags": []
   },
   "outputs": [],
   "source": [
    "np.save(output_filename, rec)"
   ]
  },
  {
   "cell_type": "code",
   "execution_count": null,
   "id": "450003bc-5a85-4a4d-b2d9-06abdd5cb0ec",
   "metadata": {
    "execution": {
     "iopub.execute_input": "2024-10-17T09:49:34.926915Z",
     "iopub.status.busy": "2024-10-17T09:49:34.926773Z",
     "iopub.status.idle": "2024-10-17T09:49:35.061173Z",
     "shell.execute_reply": "2024-10-17T09:49:35.060731Z",
     "shell.execute_reply.started": "2024-10-17T09:49:34.926902Z"
    },
    "tags": []
   },
   "outputs": [],
   "source": [
    "rec = np.load(output_filename, allow_pickle=True)\n",
    "df = pd.DataFrame(rec)\n",
    "pd.set_option('display.max_columns', None)"
   ]
  },
  {
   "cell_type": "code",
   "execution_count": null,
   "id": "d88ef8f0-8e62-4417-af33-a52d8f05190a",
   "metadata": {
    "execution": {
     "iopub.execute_input": "2024-10-17T09:49:35.061801Z",
     "iopub.status.busy": "2024-10-17T09:49:35.061666Z",
     "iopub.status.idle": "2024-10-17T09:49:35.160349Z",
     "shell.execute_reply": "2024-10-17T09:49:35.160004Z",
     "shell.execute_reply.started": "2024-10-17T09:49:35.061789Z"
    }
   },
   "outputs": [],
   "source": [
    "df"
   ]
  },
  {
   "cell_type": "code",
   "execution_count": null,
   "id": "6a04b901-4240-4552-8cf0-88fb909bba46",
   "metadata": {
    "execution": {
     "iopub.execute_input": "2024-10-17T09:49:35.160860Z",
     "iopub.status.busy": "2024-10-17T09:49:35.160742Z",
     "iopub.status.idle": "2024-10-17T09:49:35.897775Z",
     "shell.execute_reply": "2024-10-17T09:49:35.897322Z",
     "shell.execute_reply.started": "2024-10-17T09:49:35.160849Z"
    },
    "tags": []
   },
   "outputs": [],
   "source": [
    "for col in [\"D2CCD\", \"PIXSHIFT\", \"PSF_REG\", \"CHI2_FIT\", \"OUTPRESS\", \"OUTTEMP\", \"alpha_0_2\", \"TARGETX\", \"TARGETY\"]:\n",
    "    if col not in df.columns: continue\n",
    "    if len(col.split('_')) > 1:\n",
    "        col_err = '_'.join(col.split('_')[:-1])+\"_err_\"+col.split('_')[-1]\n",
    "    else:\n",
    "        col_err = col+\"_err\"\n",
    "    fig = plt.figure()\n",
    "    if col_err in df.columns:\n",
    "        plt.errorbar(rec[\"DATE-OBS\"], rec[col], yerr=rec[col_err], linestyle=\"none\", marker=\"+\")\n",
    "    else:\n",
    "        plt.plot(rec[\"DATE-OBS\"], rec[col], linestyle=\"none\", marker=\"+\")\n",
    "    plt.ylim((0.9*np.min(rec[col]), 1.1*np.max(rec[col])))\n",
    "    if \"PSF_REG\" in col:\n",
    "        plt.yscale(\"log\")\n",
    "    plt.grid()\n",
    "    plt.title(col)\n",
    "    plt.legend()\n",
    "    plt.gcf().autofmt_xdate()\n",
    "    plt.show()"
   ]
  },
  {
   "cell_type": "code",
   "execution_count": null,
   "id": "d879b0a3-98da-466d-8558-11a039058a85",
   "metadata": {
    "execution": {
     "iopub.execute_input": "2024-10-17T09:49:35.898494Z",
     "iopub.status.busy": "2024-10-17T09:49:35.898304Z",
     "iopub.status.idle": "2024-10-17T09:49:35.901643Z",
     "shell.execute_reply": "2024-10-17T09:49:35.901270Z",
     "shell.execute_reply.started": "2024-10-17T09:49:35.898480Z"
    },
    "tags": []
   },
   "outputs": [],
   "source": [
    "filtered = (rec[\"CHI2_FIT\"] < 30) & (rec[\"PSF_REG\"] > 1e-2) & (rec[\"D2CCD\"] > 186.7)  & (rec[\"D2CCD\"] < 187.4)  & (rec[\"PIXSHIFT\"] > 0.5)  & (rec[\"PIXSHIFT\"] < 1.5) \n",
    "filtered = filtered & (rec[\"PWV [mm]_err_x\"] > 0) & (rec[\"PWV [mm]_err_x\"] < 5) & (rec[\"PWV [mm]_err_y\"] > 0) & (rec[\"PWV [mm]_err_y\"] < 5)"
   ]
  },
  {
   "cell_type": "code",
   "execution_count": null,
   "id": "6fbc5bda-456b-40e5-b78f-eada7bac41af",
   "metadata": {
    "execution": {
     "iopub.execute_input": "2024-10-17T09:49:35.902242Z",
     "iopub.status.busy": "2024-10-17T09:49:35.902116Z",
     "iopub.status.idle": "2024-10-17T09:49:35.905663Z",
     "shell.execute_reply": "2024-10-17T09:49:35.905289Z",
     "shell.execute_reply.started": "2024-10-17T09:49:35.902231Z"
    },
    "tags": []
   },
   "outputs": [],
   "source": [
    "len(filtered)"
   ]
  },
  {
   "cell_type": "code",
   "execution_count": null,
   "id": "eff29c78-1918-452a-a555-f722cdb08dc9",
   "metadata": {
    "execution": {
     "iopub.execute_input": "2024-10-17T09:49:35.906188Z",
     "iopub.status.busy": "2024-10-17T09:49:35.906067Z",
     "iopub.status.idle": "2024-10-17T09:49:35.910678Z",
     "shell.execute_reply": "2024-10-17T09:49:35.910286Z",
     "shell.execute_reply.started": "2024-10-17T09:49:35.906176Z"
    },
    "tags": []
   },
   "outputs": [],
   "source": [
    "np.sum(filtered)"
   ]
  },
  {
   "cell_type": "code",
   "execution_count": null,
   "id": "00cea579-128b-48f9-a47a-383247c4b265",
   "metadata": {
    "execution": {
     "iopub.execute_input": "2024-10-17T09:49:35.911238Z",
     "iopub.status.busy": "2024-10-17T09:49:35.911114Z",
     "iopub.status.idle": "2024-10-17T09:49:37.593033Z",
     "shell.execute_reply": "2024-10-17T09:49:37.591572Z",
     "shell.execute_reply.started": "2024-10-17T09:49:35.911226Z"
    }
   },
   "outputs": [],
   "source": [
    "for col in [\"D2CCD\", \"PIXSHIFT\", \"PSF_REG\", \"CHI2_FIT\", \"OUTPRESS\", \"OUTTEMP\", \"OUTHUM\", \"alpha_0_2\", \"TARGETX\", \"TARGETY\"]:\n",
    "    if col not in df.columns: continue\n",
    "    if len(col.split('_')) > 1:\n",
    "        col_err = '_'.join(col.split('_')[:-1])+\"_err_\"+col.split('_')[-1]\n",
    "    else:\n",
    "        col_err = col+\"_err\"\n",
    "    fig = plt.figure()\n",
    "    if col_err in df.columns:\n",
    "        plt.errorbar(rec[\"DATE-OBS\"][filtered], rec[col][filtered], yerr=rec[col_err][filtered], linestyle=\"none\", marker=\"+\")\n",
    "    else:\n",
    "        plt.plot(rec[\"DATE-OBS\"][filtered], rec[col][filtered], linestyle=\"none\", marker=\"+\")\n",
    "    plt.ylim((0.9*np.nanmin(rec[col][filtered]), 1.1*np.nanmax(rec[col][filtered])))\n",
    "    if \"PSF_REG\" in col:\n",
    "        plt.yscale(\"log\")\n",
    "    plt.grid()\n",
    "    plt.title(col)\n",
    "    plt.legend()\n",
    "    plt.gcf().autofmt_xdate()\n",
    "    plt.show()"
   ]
  },
  {
   "cell_type": "markdown",
   "id": "abe87397-9b18-4393-82f8-7c4dc757ab27",
   "metadata": {},
   "source": [
    "### Spectrum fits"
   ]
  },
  {
   "cell_type": "code",
   "execution_count": null,
   "id": "69afbf44-a613-47d3-81af-1848c8e7a997",
   "metadata": {
    "execution": {
     "iopub.status.busy": "2024-10-17T09:49:37.593443Z",
     "iopub.status.idle": "2024-10-17T09:49:37.593605Z",
     "shell.execute_reply": "2024-10-17T09:49:37.593529Z",
     "shell.execute_reply.started": "2024-10-17T09:49:37.593522Z"
    },
    "tags": []
   },
   "outputs": [],
   "source": [
    "for col in [\"A1_y\", \"chi2_y\", \"ozone [db]_y\", \"PWV [mm]_y\", \"VAOD_y\", \"A2_y\", \"D_CCD [mm]_y\", \"alpha_pix [pix]\", \"reso [nm]\", \"B_y\"]:\n",
    "    if col not in df.columns: \n",
    "        continue\n",
    "    if len(col.split('_')) > 1:\n",
    "        col_err = '_'.join(col.split('_')[:-1])+\"_err_\"+col.split('_')[-1]\n",
    "    else:\n",
    "        col_err = col+\"_err\"\n",
    "    fig = plt.figure(figsize=(8,5))\n",
    "    if col_err in df.columns:\n",
    "        plt.errorbar(rec[\"DATE-OBS\"][filtered], rec[col][filtered], yerr=rec[col_err][filtered], linestyle=\"none\", marker=\"+\")\n",
    "    else:\n",
    "        plt.plot(rec[\"DATE-OBS\"][filtered], rec[col][filtered], linestyle=\"none\", marker=\"+\")\n",
    "    #plt.ylim((0.9*np.min(rec[col][filtered]), 1.1*np.max(rec[col][filtered])))\n",
    "    plt.grid()\n",
    "    plt.title(col)\n",
    "    plt.legend()\n",
    "    plt.gcf().autofmt_xdate()\n",
    "    plt.show()"
   ]
  },
  {
   "cell_type": "code",
   "execution_count": null,
   "id": "aae610c5-ebd4-41a5-ba55-ab95580226c4",
   "metadata": {
    "execution": {
     "iopub.status.busy": "2024-10-17T09:49:37.594111Z",
     "iopub.status.idle": "2024-10-17T09:49:37.594263Z",
     "shell.execute_reply": "2024-10-17T09:49:37.594192Z",
     "shell.execute_reply.started": "2024-10-17T09:49:37.594185Z"
    },
    "tags": []
   },
   "outputs": [],
   "source": [
    "filters = np.unique(rec[\"FILTER\"])\n",
    "filters"
   ]
  },
  {
   "cell_type": "code",
   "execution_count": null,
   "id": "27410b11-f923-46a9-974b-39e68690cc0d",
   "metadata": {
    "execution": {
     "iopub.status.busy": "2024-10-17T09:49:37.594730Z",
     "iopub.status.idle": "2024-10-17T09:49:37.594882Z",
     "shell.execute_reply": "2024-10-17T09:49:37.594811Z",
     "shell.execute_reply.started": "2024-10-17T09:49:37.594804Z"
    },
    "tags": []
   },
   "outputs": [],
   "source": [
    "for col in [\"A1_y\", \"chi2_y\", \"ozone [db]_y\", \"PWV [mm]_y\", \"VAOD_y\", \"A1_y\", \"A2_y\", \"D_CCD [mm]_y\", \"alpha_pix [pix]\", \"reso [nm]\", \"B_y\"]:\n",
    "    if col not in df.columns: \n",
    "        continue\n",
    "    if len(col.split('_')) > 1:\n",
    "        col_err = '_'.join(col.split('_')[:-1])+\"_err_\"+col.split('_')[-1]\n",
    "    else:\n",
    "        col_err = col+\"_err\"\n",
    "    fig = plt.figure(figsize=(8,5))\n",
    "    for filt in filters:\n",
    "        if filt in [\"HD60753\", \"HD37962\"]:\n",
    "            continue\n",
    "        index = filtered & (rec[\"FILTER\"] == filt)\n",
    "        if col_err in df.columns:\n",
    "            plt.errorbar(rec[\"DATE-OBS\"][index], rec[col][index], yerr=rec[col_err][index], linestyle=\"none\", marker=\"+\", label=filt)\n",
    "        else:\n",
    "            plt.plot(rec[\"DATE-OBS\"][index], rec[col][index], linestyle=\"none\", marker=\"+\")\n",
    "    plt.ylim((0.9*np.min(rec[col][filtered]), 1.1*np.max(rec[col][filtered])))\n",
    "    plt.grid()\n",
    "    plt.title(col)\n",
    "    plt.legend()\n",
    "    plt.gcf().autofmt_xdate()\n",
    "    plt.show()"
   ]
  },
  {
   "cell_type": "code",
   "execution_count": null,
   "id": "2a7465b5-4713-4ca4-8aed-3316f57210a9",
   "metadata": {
    "execution": {
     "iopub.status.busy": "2024-10-17T09:49:37.595329Z",
     "iopub.status.idle": "2024-10-17T09:49:37.595484Z",
     "shell.execute_reply": "2024-10-17T09:49:37.595407Z",
     "shell.execute_reply.started": "2024-10-17T09:49:37.595400Z"
    },
    "tags": []
   },
   "outputs": [],
   "source": [
    "stars = np.unique(rec[\"TARGET\"])\n",
    "stars"
   ]
  },
  {
   "cell_type": "code",
   "execution_count": null,
   "id": "de5cadc8-fe8f-407c-8494-a7276d245756",
   "metadata": {
    "execution": {
     "iopub.status.busy": "2024-10-17T09:49:37.596097Z",
     "iopub.status.idle": "2024-10-17T09:49:37.596240Z",
     "shell.execute_reply": "2024-10-17T09:49:37.596172Z",
     "shell.execute_reply.started": "2024-10-17T09:49:37.596166Z"
    },
    "tags": []
   },
   "outputs": [],
   "source": [
    "for col in [\"A1_y\", \"chi2_y\", \"ozone [db]_y\", \"PWV [mm]_y\", \"VAOD_y\", \"angstrom_exp_y\", \"A2_y\", \"D_CCD [mm]_y\", \"alpha_pix [pix]\", \"reso [nm]\", \"B_y\", \"alpha_0_2\", \"alpha_0_1\", \"gamma_0_2\", \"gamma_0_1\", \"y_c_0_2\", \"y_c_0_1\"]:\n",
    "    if col not in df.columns: \n",
    "        continue\n",
    "    if len(col.split('_')) > 1:\n",
    "        col_err = '_'.join(col.split('_')[:-1])+\"_err_\"+col.split('_')[-1]\n",
    "    else:\n",
    "        col_err = col+\"_err\"\n",
    "    fig = plt.figure(figsize=(10,6))\n",
    "    for star in stars:\n",
    "        #if star not in [\"HD185975\"]:\n",
    "        #    continue\n",
    "        index = filtered & (rec[\"TARGET\"] == star)\n",
    "        if not getCalspec.is_calspec(star):\n",
    "            marker = \"o\"\n",
    "        else:\n",
    "            marker = \"+\"\n",
    "        if col_err in df.columns and False:\n",
    "            plt.errorbar(rec[\"DATE-OBS\"][index], rec[col][index], yerr=rec[col_err][index], linestyle=\"none\", marker=marker, label=star)\n",
    "        else:\n",
    "            plt.plot(rec[\"DATE-OBS\"][index], rec[col][index], linestyle=\"none\", marker=marker, label=star)\n",
    "    plt.ylim((0.9*np.nanmin(rec[col][filtered]), 1.1*np.nanmax(rec[col][filtered])))\n",
    "    plt.grid()\n",
    "    plt.title(col)\n",
    "    plt.legend(loc='center left', bbox_to_anchor=(1, 0.5))\n",
    "    fig.autofmt_xdate()\n",
    "    fig.tight_layout()\n",
    "    plt.show()"
   ]
  },
  {
   "cell_type": "code",
   "execution_count": null,
   "id": "68f4f09b-fe67-4a09-a70f-2ea938cd6d9a",
   "metadata": {
    "execution": {
     "iopub.status.busy": "2024-10-17T09:49:37.596664Z",
     "iopub.status.idle": "2024-10-17T09:49:37.596879Z",
     "shell.execute_reply": "2024-10-17T09:49:37.596810Z",
     "shell.execute_reply.started": "2024-10-17T09:49:37.596803Z"
    }
   },
   "outputs": [],
   "source": [
    "#df[\"alpha12\"] = df[\"alpha_1_2\"]/df[\"alpha_1_1\"]\n",
    "#rec = df.to_records()\n",
    "stars = [\"HD185975\", \"HD2811\"]\n",
    "for col in [\"A1_y\", \"ozone [db]_y\", \"PWV [mm]_y\", \"VAOD_y\", \"angstrom_exp_y\", \"A2_y\", \"D_CCD [mm]_y\", \"alpha_pix [pix]\", \"reso [nm]\", \"B_y\", \"alpha_0_2\", \"alpha_0_1\", \"gamma_0_2\", \"gamma_0_1\", \"y_c_0_2\", \"y_c_0_1\"]:\n",
    "    if len(col.split('_')) > 1:\n",
    "        col_err = '_'.join(col.split('_')[:-1])+\"_err_\"+col.split('_')[-1]\n",
    "    else:\n",
    "        col_err = col+\"_err\"\n",
    "    fig = plt.figure(figsize=(8,5))\n",
    "    for star in stars:\n",
    "        index = filtered & (rec[\"TARGET\"] == star) & (rec[\"FILTER\"]==\"empty\")\n",
    "        if col_err in df.columns:\n",
    "            plt.errorbar(rec[\"AIRMASS\"][index], rec[col][index], yerr=rec[col_err][index], linestyle=\"none\", marker=\"+\", label=star)\n",
    "        else:\n",
    "            plt.plot(rec[\"AIRMASS\"][index], rec[col][index], linestyle=\"none\", marker=\"+\")\n",
    "    plt.ylim((0.9*np.min(rec[col][filtered]), 1.1*np.max(rec[col][filtered])))\n",
    "    plt.grid()\n",
    "    plt.title(col)\n",
    "    plt.legend(bbox_to_anchor=(1,1), loc=\"upper left\")\n",
    "    #plt.gcf().autofmt_xdate()\n",
    "    plt.tight_layout()\n",
    "    plt.show()"
   ]
  },
  {
   "cell_type": "code",
   "execution_count": null,
   "id": "7dc38d18-d805-4f1d-b65a-ebb43f2ad9fd",
   "metadata": {
    "execution": {
     "iopub.status.busy": "2024-10-17T09:49:37.597244Z",
     "iopub.status.idle": "2024-10-17T09:49:37.597383Z",
     "shell.execute_reply": "2024-10-17T09:49:37.597317Z",
     "shell.execute_reply.started": "2024-10-17T09:49:37.597311Z"
    }
   },
   "outputs": [],
   "source": [
    "col = \"PWV [mm]_y\"\n",
    "if len(col.split('_')) > 1:\n",
    "    col_err = '_'.join(col.split('_')[:-1])+\"_err_\"+col.split('_')[-1]\n",
    "else:\n",
    "    col_err = col+\"_err\"\n",
    "fig = plt.figure(figsize=(7,6))\n",
    "for star in stars:\n",
    "    #if star not in [\"HD185975\"]:\n",
    "    #    continue\n",
    "    index = filtered & (rec[\"TARGET\"] == star)\n",
    "    if col_err in df.columns:\n",
    "        plt.errorbar(rec[\"DATE-OBS\"][index], rec[col][index], yerr=rec[col_err][index], linestyle=\"none\", marker=\"+\", label=star)\n",
    "    else:\n",
    "        plt.plot(rec[\"DATE-OBS\"][index], rec[col][index], linestyle=\"none\", marker=\"+\")\n",
    "plt.ylim(0, 10)\n",
    "plt.grid()\n",
    "plt.title(\"Preliminary PWV values from AuxTel\")\n",
    "plt.legend(loc='center left', bbox_to_anchor=(1, 0.5))\n",
    "fig.autofmt_xdate()\n",
    "fig.tight_layout()\n",
    "plt.savefig(\"auxtel_pwv.pdf\")\n",
    "plt.show()"
   ]
  },
  {
   "cell_type": "code",
   "execution_count": null,
   "id": "e122378d-235e-4c5f-a1c5-dfd98b01ff94",
   "metadata": {
    "execution": {
     "iopub.status.busy": "2024-10-17T09:49:37.597882Z",
     "iopub.status.idle": "2024-10-17T09:49:37.598029Z",
     "shell.execute_reply": "2024-10-17T09:49:37.597959Z",
     "shell.execute_reply.started": "2024-10-17T09:49:37.597952Z"
    }
   },
   "outputs": [],
   "source": [
    "df4 = df2[filtered].merge(df, how=\"outer\", on=\"id\")\n",
    "df4[\"diff_PWV_y\"] = df4[\"PWV [mm]_y_x\"] - df4[\"PWV [mm]_y_y\"]\n",
    "df4[\"diff_PWV_x\"] = df4[\"PWV [mm]_x_x\"] - df4[\"PWV [mm]_x_y\"]\n",
    "df4[\"diff_ozone_y\"] = df4[\"ozone [db]_y_x\"] - df4[\"ozone [db]_y_y\"]\n",
    "df4[\"diff_ozone_x\"] = df4[\"ozone [db]_x_x\"] - df4[\"ozone [db]_x_y\"]\n",
    "rec4 = df4.to_records()"
   ]
  },
  {
   "cell_type": "code",
   "execution_count": null,
   "id": "efaea719-82e1-48ba-9914-02012ea74992",
   "metadata": {
    "execution": {
     "iopub.status.busy": "2024-10-17T09:49:37.598389Z",
     "iopub.status.idle": "2024-10-17T09:49:37.598536Z",
     "shell.execute_reply": "2024-10-17T09:49:37.598469Z",
     "shell.execute_reply.started": "2024-10-17T09:49:37.598462Z"
    }
   },
   "outputs": [],
   "source": [
    "for col in [\"diff_PWV_y\", \"diff_PWV_x\", \"diff_ozone_y\", \"diff_ozone_x\"]:\n",
    "    if col not in df4.columns: \n",
    "        continue\n",
    "    if len(col.split('_')) > 1:\n",
    "        col_err = '_'.join(col.split('_')[:-1])+\"_err_\"+col.split('_')[-1]\n",
    "    else:\n",
    "        col_err = col+\"_err\"\n",
    "    fig = plt.figure(figsize=(8,5))\n",
    "    for star in stars:\n",
    "        #if star not in [\"HD185975\"]:\n",
    "        #    continue\n",
    "        index = (rec4[\"TARGET_x\"] == star)\n",
    "        if col_err in df4.columns:\n",
    "            plt.errorbar(rec4[\"DATE-OBS_x\"][index], rec4[col][index], yerr=rec[col_err][index], linestyle=\"none\", marker=\"+\", label=star)\n",
    "        else:\n",
    "            plt.plot(rec4[\"DATE-OBS_x\"][index], rec4[col][index], linestyle=\"none\", marker=\"+\")\n",
    "    plt.ylim((0.9*np.nanmin(rec4[col]), 1.1*np.nanmax(rec4[col])))\n",
    "    plt.grid()\n",
    "    plt.title(col)\n",
    "    plt.legend()\n",
    "    plt.gcf().autofmt_xdate()\n",
    "    plt.show()"
   ]
  },
  {
   "cell_type": "code",
   "execution_count": null,
   "id": "3c41e9ae-2cd2-4a03-9489-eeebe898111b",
   "metadata": {
    "execution": {
     "iopub.status.busy": "2024-10-17T09:49:37.598925Z",
     "iopub.status.idle": "2024-10-17T09:49:37.599064Z",
     "shell.execute_reply": "2024-10-17T09:49:37.598998Z",
     "shell.execute_reply.started": "2024-10-17T09:49:37.598992Z"
    },
    "tags": []
   },
   "outputs": [],
   "source": [
    "for col in [\"diff_PWV_y\", \"A1_y\", \"chi2_y\", \"ozone [db]_y\", \"PWV [mm]_y\", \"VAOD_y\", \"A2_y\", \"D_CCD [mm]_y\", \"alpha_pix [pix]\", \"reso [nm]\", \"B_y\", \"alpha_0_2\", \"alpha_0_1\", \"gamma_0_2\", \"gamma_0_1\", \"y_c_0_2\", \"y_c_0_1\"]:\n",
    "    if col not in df.columns: \n",
    "        continue\n",
    "    if len(col.split('_')) > 1:\n",
    "        col_err = '_'.join(col.split('_')[:-1])+\"_err_\"+col.split('_')[-1]\n",
    "    else:\n",
    "        col_err = col+\"_err\"\n",
    "    fig = plt.figure(figsize=(8,5))\n",
    "    for star in stars:\n",
    "        #if star not in [\"HD185975\"]:\n",
    "        #    continue\n",
    "        index = filtered & (rec[\"TARGET\"] == star)\n",
    "        if col_err in df.columns:\n",
    "            plt.errorbar(rec[\"DATE-OBS\"][index], rec[col][index], yerr=rec[col_err][index], linestyle=\"none\", marker=\"+\", label=star)\n",
    "        else:\n",
    "            plt.plot(rec[\"DATE-OBS\"][index], rec[col][index], linestyle=\"none\", marker=\"+\")\n",
    "    plt.ylim((0.9*np.min(rec[col][filtered]), 1.1*np.max(rec[col][filtered])))\n",
    "    plt.grid()\n",
    "    plt.title(col)\n",
    "    plt.legend()\n",
    "    plt.gcf().autofmt_xdate()\n",
    "    plt.show()"
   ]
  },
  {
   "cell_type": "code",
   "execution_count": null,
   "id": "82829e7f-91df-4ea5-8a53-69c7ec41de94",
   "metadata": {
    "execution": {
     "iopub.status.busy": "2024-10-17T09:49:37.599454Z",
     "iopub.status.idle": "2024-10-17T09:49:37.599594Z",
     "shell.execute_reply": "2024-10-17T09:49:37.599529Z",
     "shell.execute_reply.started": "2024-10-17T09:49:37.599522Z"
    },
    "tags": []
   },
   "outputs": [],
   "source": [
    "fig = plt.figure(figsize=(5.5,4))\n",
    "col=\"PWV [mm]_y\"\n",
    "index = filtered & (rec[\"FILTER\"] == 'empty')\n",
    "plt.errorbar(rec[\"DATE-OBS\"][index], rec[col][index], yerr=rec[col_err][index], linestyle=\"-\", marker=\"+\", label=filt)\n",
    "plt.ylim((0.9*np.min(rec[col][filtered]), 1.1*np.max(rec[col][filtered])))\n",
    "plt.grid()\n",
    "plt.ylabel(\"PWV [mm]\")\n",
    "plt.title(\"Precipitable Water Vapor measured by AuxTel in 2023\")\n",
    "#plt.legend()\n",
    "plt.gcf().autofmt_xdate()\n",
    "plt.show()"
   ]
  },
  {
   "cell_type": "markdown",
   "id": "1bf6d8bb-ab0b-4254-a229-67393ab4d97f",
   "metadata": {},
   "source": [
    "### Spectrogram forward model fits"
   ]
  },
  {
   "cell_type": "code",
   "execution_count": null,
   "id": "0f6d17fb-78c6-49a6-a0aa-196ca554a10c",
   "metadata": {
    "execution": {
     "iopub.status.busy": "2024-10-17T09:49:37.599935Z",
     "iopub.status.idle": "2024-10-17T09:49:37.600080Z",
     "shell.execute_reply": "2024-10-17T09:49:37.600011Z",
     "shell.execute_reply.started": "2024-10-17T09:49:37.600004Z"
    },
    "tags": []
   },
   "outputs": [],
   "source": [
    "filters = np.unique(rec[\"FILTER\"])\n",
    "filters"
   ]
  },
  {
   "cell_type": "code",
   "execution_count": null,
   "id": "7a9c3be9-8e29-4101-ab63-8cb5e0ad091e",
   "metadata": {
    "execution": {
     "iopub.status.busy": "2024-10-17T09:49:37.600501Z",
     "iopub.status.idle": "2024-10-17T09:49:37.600645Z",
     "shell.execute_reply": "2024-10-17T09:49:37.600577Z",
     "shell.execute_reply.started": "2024-10-17T09:49:37.600571Z"
    },
    "tags": []
   },
   "outputs": [],
   "source": [
    "for col in [\"A1_x\", \"ozone [db]_x\", \"PWV [mm]_x\", \"VAOD_x\", \"D_CCD [mm]_x\"]: #, \"gamma_0\", \"alpha_0\"]:\n",
    "    if len(col.split('_')) > 1:\n",
    "        col_err = '_'.join(col.split('_')[:-1])+\"_err_\"+col.split('_')[-1]\n",
    "    else:\n",
    "        col_err = col+\"_err\"\n",
    "    fig = plt.figure(figsize=(8,5))\n",
    "    for filt in filters:\n",
    "        index = filtered & (rec[\"FILTER\"] == filt)\n",
    "        if col_err in df.columns:\n",
    "            plt.errorbar(rec[\"DATE-OBS\"][index], rec[col][index], yerr=rec[col_err][index], linestyle=\"none\", marker=\"+\")\n",
    "        else:\n",
    "            plt.plot(rec[\"DATE-OBS\"][index], rec[col][index], linestyle=\"none\", marker=\"+\")\n",
    "    plt.ylim((0.9*np.min(rec[col][filtered]), 1.1*np.max(rec[col][filtered])))\n",
    "    plt.grid()\n",
    "    plt.title(col)\n",
    "    plt.legend()\n",
    "    plt.gcf().autofmt_xdate()\n",
    "    plt.show()"
   ]
  },
  {
   "cell_type": "code",
   "execution_count": null,
   "id": "a169b627-7eaf-4cd0-8cfa-8263f874ee22",
   "metadata": {
    "execution": {
     "iopub.status.busy": "2024-10-17T09:49:37.601048Z",
     "iopub.status.idle": "2024-10-17T09:49:37.601188Z",
     "shell.execute_reply": "2024-10-17T09:49:37.601121Z",
     "shell.execute_reply.started": "2024-10-17T09:49:37.601115Z"
    },
    "tags": []
   },
   "outputs": [],
   "source": [
    "import matplotlib\n",
    "matplotlib.pyplot.close()"
   ]
  },
  {
   "cell_type": "code",
   "execution_count": null,
   "id": "ae4e754c-c13c-4f34-aa0b-2031c7ac45d2",
   "metadata": {
    "execution": {
     "iopub.status.busy": "2024-10-17T09:49:37.601575Z",
     "iopub.status.idle": "2024-10-17T09:49:37.601713Z",
     "shell.execute_reply": "2024-10-17T09:49:37.601648Z",
     "shell.execute_reply.started": "2024-10-17T09:49:37.601642Z"
    },
    "tags": []
   },
   "outputs": [],
   "source": [
    "stars = np.unique(rec[\"TARGET\"])\n",
    "#stars = ['HD2811', 'HD38666']  # , 'HD185975'\n",
    "stars"
   ]
  },
  {
   "cell_type": "code",
   "execution_count": null,
   "id": "715bc47b-f0ff-4c08-89b2-7f867b9efde9",
   "metadata": {
    "execution": {
     "iopub.status.busy": "2024-10-17T09:49:37.602052Z",
     "iopub.status.idle": "2024-10-17T09:49:37.602190Z",
     "shell.execute_reply": "2024-10-17T09:49:37.602123Z",
     "shell.execute_reply.started": "2024-10-17T09:49:37.602117Z"
    },
    "tags": []
   },
   "outputs": [],
   "source": [
    "for col in [\"A1_x\", \"ozone [db]_x\", \"PWV [mm]_x\", \"VAOD_x\", \"angstrom_exp_x\", \"D_CCD [mm]_x\", \"gamma_0_2\", \"alpha_0_2\"]:\n",
    "    if len(col.split('_')) > 1:\n",
    "        col_err = '_'.join(col.split('_')[:-1])+\"_err_\"+col.split('_')[-1]\n",
    "    else:\n",
    "        col_err = col+\"_err\"\n",
    "    fig = plt.figure(figsize=(10,8))\n",
    "    for star in stars : #['HD185975']: #stars:\n",
    "        index = filtered & (rec[\"TARGET\"] == star)\n",
    "        if not getCalspec.is_calspec(star):\n",
    "            marker = \"o\"\n",
    "        else:\n",
    "            marker = \"+\"\n",
    "        if col_err in df.columns:\n",
    "            plt.errorbar(rec[\"DATE-OBS\"][index], rec[col][index], yerr=rec[col_err][index], linestyle=\"none\", marker=marker, label=star)\n",
    "        else:\n",
    "            plt.plot(rec[\"DATE-OBS\"][index], rec[col][index], linestyle=\"none\", marker=marker)\n",
    "    plt.ylim((0.9*np.min(rec[col][filtered]), 1.1*np.max(rec[col][filtered])))\n",
    "    plt.grid()\n",
    "    plt.title(col)\n",
    "    plt.legend(loc='center left', bbox_to_anchor=(1, 0.5))\n",
    "    fig.autofmt_xdate()\n",
    "    fig.tight_layout()\n",
    "    plt.show()"
   ]
  },
  {
   "cell_type": "code",
   "execution_count": null,
   "id": "5730bc90-fefb-433b-8382-ab39684db70b",
   "metadata": {
    "execution": {
     "iopub.status.busy": "2024-10-17T09:49:37.602595Z",
     "iopub.status.idle": "2024-10-17T09:49:37.602734Z",
     "shell.execute_reply": "2024-10-17T09:49:37.602668Z",
     "shell.execute_reply.started": "2024-10-17T09:49:37.602662Z"
    }
   },
   "outputs": [],
   "source": [
    "for col in [\"A1_x\", \"ozone [db]_x\", \"PWV [mm]_x\", \"VAOD_x\", \"angstrom_exp_x\", \"D_CCD [mm]_x\", \"gamma_0_2\", \"alpha_0_2\"]:\n",
    "    if len(col.split('_')) > 1:\n",
    "        col_err = '_'.join(col.split('_')[:-1])+\"_err_\"+col.split('_')[-1]\n",
    "    else:\n",
    "        col_err = col+\"_err\"\n",
    "    fig = plt.figure(figsize=(10,8))\n",
    "    for star in stars : #['HD185975']: #stars:\n",
    "        index = filtered & (rec[\"TARGET\"] == star)\n",
    "        if not getCalspec.is_calspec(star):\n",
    "            marker = \"o\"\n",
    "        else:\n",
    "            marker = \"+\"\n",
    "        if col_err in df.columns:\n",
    "            plt.errorbar(rec[\"AIRMASS\"][index], rec[col][index], yerr=rec[col_err][index], linestyle=\"none\", marker=marker, label=star)\n",
    "        else:\n",
    "            plt.plot(rec[\"AIRMASS\"][index], rec[col][index], linestyle=\"none\", marker=marker)\n",
    "    plt.ylim((0.9*np.min(rec[col][filtered]), 1.1*np.max(rec[col][filtered])))\n",
    "    plt.grid()\n",
    "    plt.title(col)\n",
    "    plt.legend(loc='center left', bbox_to_anchor=(1, 0.5))\n",
    "    # fig.autofmt_xdate()\n",
    "    fig.tight_layout()\n",
    "    plt.show()"
   ]
  },
  {
   "cell_type": "code",
   "execution_count": null,
   "id": "adee2a36-bbf5-4645-9810-addb64e6f547",
   "metadata": {
    "execution": {
     "iopub.status.busy": "2024-10-17T09:49:37.603121Z",
     "iopub.status.idle": "2024-10-17T09:49:37.603259Z",
     "shell.execute_reply": "2024-10-17T09:49:37.603193Z",
     "shell.execute_reply.started": "2024-10-17T09:49:37.603187Z"
    },
    "tags": []
   },
   "outputs": [],
   "source": [
    "cols = [\"A1_x\", \"ozone [db]_x\", \"PWV [mm]_x\", \"VAOD_x\", \"angstrom_exp_x\", \"D_CCD [mm]_x\", \"gamma_0_2\", \"alpha_0_2\"]\n",
    "fig, ax = plt.subplots(len(cols), 1, figsize=(10, 3*len(cols)), sharex=True)\n",
    "for c, col in enumerate(cols):\n",
    "    if len(col.split('_')) > 1:\n",
    "        col_err = '_'.join(col.split('_')[:-1])+\"_err_\"+col.split('_')[-1]\n",
    "    else:\n",
    "        col_err = col+\"_err\"\n",
    "    for star in stars : #['HD185975']: #stars:\n",
    "        index = filtered & (rec[\"TARGET\"] == star)\n",
    "        if col_err in df.columns:\n",
    "            ax[c].errorbar(rec[\"DATE-OBS\"][index], rec[col][index], yerr=rec[col_err][index], linestyle=\"none\", marker=\"+\", label=star)\n",
    "        else:\n",
    "            ax[c].plot(rec[\"DATE-OBS\"][index], rec[col][index], linestyle=\"none\", marker=\"+\")\n",
    "    ax[c].set_ylim((0.9*np.min(rec[col][filtered]), 1.1*np.max(rec[col][filtered])))\n",
    "    ax[c].grid()\n",
    "    ax[c].set_title(col)\n",
    "ax[c].legend(loc='center left', bbox_to_anchor=(1, 0.5))\n",
    "fig.autofmt_xdate()\n",
    "fig.tight_layout()\n",
    "plt.show()"
   ]
  },
  {
   "cell_type": "code",
   "execution_count": null,
   "id": "013c477d-3372-4f32-869b-61ae60f06440",
   "metadata": {
    "execution": {
     "iopub.status.busy": "2024-10-17T09:49:37.603707Z",
     "iopub.status.idle": "2024-10-17T09:49:37.603852Z",
     "shell.execute_reply": "2024-10-17T09:49:37.603782Z",
     "shell.execute_reply.started": "2024-10-17T09:49:37.603775Z"
    },
    "tags": []
   },
   "outputs": [],
   "source": [
    "stars = [\"HD2811\", \"HD185975\"]\n",
    "df[\"tot_aerosols_x\"] = df[\"A1_x\"]*np.exp(-df[\"VAOD_x\"]*df['AIRMASS'])\n",
    "df[\"fake_VAOD_x\"] = df[\"VAOD_x\"]-np.log(df[\"A1_x\"])/df['AIRMASS']\n",
    "rec = df.to_records()\n",
    "for col in [\"A1_x\", \"VAOD_x\", \"tot_aerosols_x\", \"fake_VAOD_x\", \"ozone [db]_x\", \"PWV [mm]_x\", \"angstrom_exp_x\", \"D_CCD [mm]_x\", \"gamma_0_1\", \"gamma_0_2\", \"alpha_0_1\", \"alpha_0_2\", \"y_c_0_1\", \"y_c_1_1\", \"y_c_2_1\", \"y_c_0_2\" ]:\n",
    "    if len(col.split('_')) > 1:\n",
    "        col_err = '_'.join(col.split('_')[:-1])+\"_err_\"+col.split('_')[-1]\n",
    "    else:\n",
    "        col_err = col+\"_err\"\n",
    "    fig = plt.figure(figsize=(8,5))\n",
    "    for star in stars:\n",
    "        index = filtered & (rec[\"TARGET\"] == star) & (rec[\"FILTER\"]==\"empty\")\n",
    "        if col_err in df.columns:\n",
    "            plt.errorbar(rec[\"DATE-OBS\"][index], rec[col][index], yerr=rec[col_err][index], linestyle=\"none\", marker=\"+\", label=star)\n",
    "        else:\n",
    "            plt.plot(rec[\"DATE-OBS\"][index], rec[col][index], linestyle=\"-\", marker=\"+\")\n",
    "    plt.ylim((0.9*np.min(rec[col][filtered]), 1.1*np.max(rec[col][filtered])))\n",
    "    plt.grid()\n",
    "    plt.title(col)\n",
    "    plt.legend(bbox_to_anchor=(1,1), loc=\"upper left\")\n",
    "    plt.gcf().autofmt_xdate()\n",
    "    plt.tight_layout()\n",
    "    plt.show()"
   ]
  },
  {
   "cell_type": "code",
   "execution_count": null,
   "id": "a3482da2-0fb1-40c2-bca0-3627f337c6ff",
   "metadata": {
    "execution": {
     "iopub.status.busy": "2024-10-17T09:49:37.604194Z",
     "iopub.status.idle": "2024-10-17T09:49:37.604331Z",
     "shell.execute_reply": "2024-10-17T09:49:37.604266Z",
     "shell.execute_reply.started": "2024-10-17T09:49:37.604260Z"
    },
    "tags": []
   },
   "outputs": [],
   "source": [
    "pval_zy = [2.99245266e-05, -7.18517927e-04,  6.77956826e-03, -4.30389998e-02, -3.79886984e-04]\n",
    "pval_iz = [1.06775590e-06, -2.95537619e-05,  3.90888731e-04, -4.30176750e-03, -1.29905750e-05]\n",
    "PWV_to_mag = np.polyval(pval_iz, rec[\"PWV [mm]_x\"])\n",
    "PWV_to_mag_err = np.abs(np.polyval(pval_iz, rec[\"PWV [mm]_x\"]+rec[\"PWV [mm]_err_x\"])  - PWV_to_mag)"
   ]
  },
  {
   "cell_type": "code",
   "execution_count": null,
   "id": "ed92b62e-724c-470b-b064-fc7ba73081e7",
   "metadata": {
    "execution": {
     "iopub.status.busy": "2024-10-17T09:49:37.604799Z",
     "iopub.status.idle": "2024-10-17T09:49:37.604940Z",
     "shell.execute_reply": "2024-10-17T09:49:37.604872Z",
     "shell.execute_reply.started": "2024-10-17T09:49:37.604866Z"
    },
    "tags": []
   },
   "outputs": [],
   "source": [
    "import matplotlib\n",
    "cmap = matplotlib.colormaps.get_cmap(\"BrBG\")\n",
    "\n",
    "fig = plt.figure()\n",
    "#sc = plt.errorbar(rec[\"DATE-OBS\"][filtered], -PWV_to_mag[filtered], yerr=PWV_to_mag_err[filtered], linestyle=\"none\", marker=\"+\", alpha=0.8)\n",
    "sc = plt.scatter(rec[\"DATE-OBS\"][filtered], -PWV_to_mag[filtered], marker=\"+\", alpha=0.8, cmap=cmap, c=rec[\"PWV [mm]_x\"][filtered])\n",
    "\n",
    "\n",
    "cb = plt.colorbar(sc)\n",
    "cb.set_label(label=\"PWV [mm]\", fontsize=16)\n",
    "plt.grid()\n",
    "#plt.ylabel(\"$(g^{\\mathrm{mes}}-r^{\\mathrm{mes}})-(g^{\\mathrm{out}}-r^{\\mathrm{out}})$ [mag]\", fontsize=16)\n",
    "plt.ylabel(\"$(i^{PWV=0}-z^{PWV=0}) - (i^{\\mathrm{mes}}-z^{\\mathrm{mes}})$ [mag]\", fontsize=16)\n",
    "#plt.legend(fontsize=16)\n",
    "fig.tight_layout()\n",
    "plt.title(\"$i-z$ color variations for a SNIa at redshift 0\")\n",
    "#fig.savefig(\"color_scatter_lsst_auxtel_gr_iz.pdf\")\n",
    "plt.gcf().autofmt_xdate()\n",
    "plt.tight_layout()\n",
    "\n",
    "plt.show()"
   ]
  },
  {
   "cell_type": "code",
   "execution_count": null,
   "id": "e0abb39b-add6-4e9c-8fbd-407ffdcce985",
   "metadata": {
    "execution": {
     "iopub.status.busy": "2024-10-17T09:49:37.605345Z",
     "iopub.status.idle": "2024-10-17T09:49:37.605491Z",
     "shell.execute_reply": "2024-10-17T09:49:37.605417Z",
     "shell.execute_reply.started": "2024-10-17T09:49:37.605411Z"
    }
   },
   "outputs": [],
   "source": [
    "pval_iz_SN_star = [-9.81040631e-08,  2.72381805e-06, -4.07188283e-05,  9.49708311e-04, 1.18675056e-01] # z=0\n",
    "#pval_iz_SN_star = [-4.17625669e-08,  4.10552370e-07,  1.42985867e-05, -6.71598793e-04, 1.69494091e-01]  # z=1\n",
    "PWV_to_mag = np.polyval(pval_iz_SN_star, rec[\"PWV [mm]_x\"])\n",
    "PWV_to_mag_err = np.abs(np.polyval(pval_iz_SN_star, rec[\"PWV [mm]_x\"]+rec[\"PWV [mm]_err_x\"])  - PWV_to_mag)\n",
    "\n",
    "fig = plt.figure()\n",
    "#sc = plt.errorbar(rec[\"DATE-OBS\"][filtered], -PWV_to_mag[filtered], yerr=PWV_to_mag_err[filtered], linestyle=\"none\", marker=\"+\", alpha=0.8)\n",
    "sc = plt.scatter(rec[\"DATE-OBS\"][filtered], -PWV_to_mag[filtered], marker=\"+\", alpha=0.8, cmap=cmap, c=rec[\"PWV [mm]_x\"][filtered])\n",
    "\n",
    "\n",
    "cb = plt.colorbar(sc)\n",
    "cb.set_label(label=\"PWV [mm]\", fontsize=16)\n",
    "plt.grid()\n",
    "#plt.ylabel(\"$(g^{\\mathrm{mes}}-r^{\\mathrm{mes}})-(g^{\\mathrm{out}}-r^{\\mathrm{out}})$ [mag]\", fontsize=16)\n",
    "plt.ylabel(\"$(i-z)_{SN} - (i-z)_{P177D}$ [mag]\", fontsize=16)\n",
    "#plt.legend(fontsize=16)\n",
    "fig.tight_layout()\n",
    "plt.title(\"$i-z$ shifts between a SNIa at redshift 0 and G star\")\n",
    "#fig.savefig(\"color_scatter_lsst_auxtel_gr_iz.pdf\")\n",
    "plt.gcf().autofmt_xdate()\n",
    "plt.tight_layout()\n",
    "plt.savefig(\"auxtel_pwv_sn_iz_z0.pdf\")\n",
    "plt.show()"
   ]
  },
  {
   "cell_type": "code",
   "execution_count": null,
   "id": "0362cdb1-9407-4c1f-b9d4-85a85f8aedad",
   "metadata": {
    "execution": {
     "iopub.status.busy": "2024-10-17T09:49:37.605804Z",
     "iopub.status.idle": "2024-10-17T09:49:37.605942Z",
     "shell.execute_reply": "2024-10-17T09:49:37.605877Z",
     "shell.execute_reply.started": "2024-10-17T09:49:37.605871Z"
    }
   },
   "outputs": [],
   "source": [
    "pval_zy_SN_star = [-1.95757314e-06,  4.58760062e-05, -4.05261012e-04,  1.94280956e-03, -1.17144934e-02]\n",
    "PWV_to_mag = np.polyval(pval_zy_SN_star, rec[\"PWV [mm]_x\"])\n",
    "PWV_to_mag_err = np.abs(np.polyval(pval_zy_SN_star, rec[\"PWV [mm]_x\"]+rec[\"PWV [mm]_err_x\"])  - PWV_to_mag)\n",
    "\n",
    "fig = plt.figure()\n",
    "#sc = plt.errorbar(rec[\"DATE-OBS\"][filtered], -PWV_to_mag[filtered], yerr=PWV_to_mag_err[filtered], linestyle=\"none\", marker=\"+\", alpha=0.8)\n",
    "sc = plt.scatter(rec[\"DATE-OBS\"][filtered], -PWV_to_mag[filtered], marker=\"+\", alpha=0.8, cmap=cmap, c=rec[\"PWV [mm]_x\"][filtered])\n",
    "\n",
    "\n",
    "cb = plt.colorbar(sc)\n",
    "cb.set_label(label=\"PWV [mm]\", fontsize=16)\n",
    "plt.grid()\n",
    "#plt.ylabel(\"$(g^{\\mathrm{mes}}-r^{\\mathrm{mes}})-(g^{\\mathrm{out}}-r^{\\mathrm{out}})$ [mag]\", fontsize=16)\n",
    "plt.ylabel(\"$(z-y)_{SN} - (z-y)_{P177D}$ [mag]\", fontsize=16)\n",
    "#plt.legend(fontsize=16)\n",
    "fig.tight_layout()\n",
    "plt.title(\"$z-y$ shifts between a SNIa at redshift 0 and G star\")\n",
    "#fig.savefig(\"color_scatter_lsst_auxtel_gr_iz.pdf\")\n",
    "plt.gcf().autofmt_xdate()\n",
    "plt.tight_layout()\n",
    "\n",
    "plt.show()"
   ]
  },
  {
   "cell_type": "code",
   "execution_count": null,
   "id": "43a4c154-887d-4bf6-bb34-864a497a5a7d",
   "metadata": {
    "execution": {
     "iopub.status.busy": "2024-10-17T09:49:37.606303Z",
     "iopub.status.idle": "2024-10-17T09:49:37.606514Z",
     "shell.execute_reply": "2024-10-17T09:49:37.606445Z",
     "shell.execute_reply.started": "2024-10-17T09:49:37.606438Z"
    }
   },
   "outputs": [],
   "source": [
    "pval_y_SN_star = [-1.13012977e-05,  2.18329163e-04, -1.81181569e-03,  3.39653985e+01]\n",
    "PWV_to_mag = np.polyval(pval_y_SN_star, rec[\"PWV [mm]_x\"])\n",
    "PWV_to_mag_err = np.abs(np.polyval(pval_y_SN_star, rec[\"PWV [mm]_x\"]+rec[\"PWV [mm]_err_x\"])  - PWV_to_mag)\n",
    "\n",
    "fig = plt.figure()\n",
    "#sc = plt.errorbar(rec[\"DATE-OBS\"][filtered], -PWV_to_mag[filtered], yerr=PWV_to_mag_err[filtered], linestyle=\"none\", marker=\"+\", alpha=0.8)\n",
    "sc = plt.scatter(rec[\"DATE-OBS\"][filtered], -PWV_to_mag[filtered], marker=\"+\", alpha=0.8, cmap=cmap, c=rec[\"PWV [mm]_x\"][filtered])\n",
    "\n",
    "\n",
    "cb = plt.colorbar(sc)\n",
    "cb.set_label(label=\"PWV [mm]\", fontsize=16)\n",
    "plt.grid()\n",
    "#plt.ylabel(\"$(g^{\\mathrm{mes}}-r^{\\mathrm{mes}})-(g^{\\mathrm{out}}-r^{\\mathrm{out}})$ [mag]\", fontsize=16)\n",
    "plt.ylabel(\"$y_{SN} - y_{P177D}$ [mag]\", fontsize=16)\n",
    "#plt.legend(fontsize=16)\n",
    "fig.tight_layout()\n",
    "plt.title(\"$y$ shifts between a SNIa at redshift 0 and G star\")\n",
    "#fig.savefig(\"color_scatter_lsst_auxtel_gr_iz.pdf\")\n",
    "plt.gcf().autofmt_xdate()\n",
    "plt.tight_layout()\n",
    "\n",
    "plt.show()"
   ]
  },
  {
   "cell_type": "code",
   "execution_count": null,
   "id": "6b801571-3919-49fb-af67-4bc809071012",
   "metadata": {},
   "outputs": [],
   "source": []
  },
  {
   "attachments": {
    "2724a23d-d239-467c-b88f-632f2e703887.png": {
     "image/png": "[encoded data removed]"
    }
   },
   "cell_type": "markdown",
   "id": "44e207bf-a4b7-4ce7-8756-935d255ad291",
   "metadata": {},
   "source": [
    "![image.png](attachment:2724a23d-d239-467c-b88f-632f2e703887.png)"
   ]
  },
  {
   "cell_type": "code",
   "execution_count": null,
   "id": "2b6d0fdc-9099-4840-8b0a-466f75bb73e2",
   "metadata": {
    "execution": {
     "iopub.status.busy": "2024-10-17T09:49:37.606956Z",
     "iopub.status.idle": "2024-10-17T09:49:37.607096Z",
     "shell.execute_reply": "2024-10-17T09:49:37.607028Z",
     "shell.execute_reply.started": "2024-10-17T09:49:37.607021Z"
    },
    "tags": []
   },
   "outputs": [],
   "source": [
    "# calcul du point de rosée  (formule de Heinrich Gustav Magnus-Tetens)\n",
    "alpha = np.log(rec[\"OUTHUM\"][index]/100.0) + (17.27 * rec[\"OUTTEMP\"][index]) / (237.3 + rec[\"OUTTEMP\"][index])\n",
    "rosee = (237.3 * alpha) / (17.27 - alpha)"
   ]
  },
  {
   "attachments": {
    "ca76f05d-6ee7-45aa-86ae-dceba2d13c5c.png": {
     "image/png": "[encoded data removed]"
    }
   },
   "cell_type": "markdown",
   "id": "cf6242ea-88fe-426f-b56f-b0cb00239448",
   "metadata": {},
   "source": [
    "![image.png](attachment:ca76f05d-6ee7-45aa-86ae-dceba2d13c5c.png)\n",
    "\n",
    "a = 6.1121 mbar, b = 18.678, c = 257.14 °C, d = 234.5 °C."
   ]
  },
  {
   "cell_type": "code",
   "execution_count": null,
   "id": "7745687a-7e39-4232-9b50-4fd86906cd59",
   "metadata": {
    "execution": {
     "iopub.status.busy": "2024-10-17T09:49:37.607459Z",
     "iopub.status.idle": "2024-10-17T09:49:37.607600Z",
     "shell.execute_reply": "2024-10-17T09:49:37.607533Z",
     "shell.execute_reply.started": "2024-10-17T09:49:37.607527Z"
    },
    "tags": []
   },
   "outputs": [],
   "source": [
    "rec[\"id\"][index][-1]"
   ]
  },
  {
   "cell_type": "code",
   "execution_count": null,
   "id": "5e55d21e-2216-4ca0-8ea7-8159e4abce07",
   "metadata": {
    "execution": {
     "iopub.status.busy": "2024-10-17T09:49:37.607987Z",
     "iopub.status.idle": "2024-10-17T09:49:37.608212Z",
     "shell.execute_reply": "2024-10-17T09:49:37.608057Z",
     "shell.execute_reply.started": "2024-10-17T09:49:37.608051Z"
    },
    "tags": []
   },
   "outputs": [],
   "source": [
    "rec[rec[\"id\"]==2023052300215][\"OUTTEMP\"]"
   ]
  },
  {
   "cell_type": "code",
   "execution_count": null,
   "id": "5095b7eb-fef5-49e3-89ed-2da8c69e3216",
   "metadata": {
    "execution": {
     "iopub.status.busy": "2024-10-17T09:49:37.608547Z",
     "iopub.status.idle": "2024-10-17T09:49:37.608729Z",
     "shell.execute_reply": "2024-10-17T09:49:37.608662Z",
     "shell.execute_reply.started": "2024-10-17T09:49:37.608655Z"
    },
    "tags": []
   },
   "outputs": [],
   "source": [
    "T = rec[\"OUTTEMP\"][index]\n",
    "P = rec[\"OUTPRESS\"][index]\n",
    "RH = rec[\"OUTHUM\"][index]\n",
    "a = 6.1121\n",
    "b = 18.678\n",
    "c = 257.14\n",
    "d = 234.5\n",
    "Ps = a * np.exp((b-T/d)*(T/(c+T)))\n",
    "gamma = np.log((RH/100.) * np.exp((b-T/d)*(T/(c+T))))\n",
    "dewpoint = c*gamma/(b-gamma)"
   ]
  },
  {
   "cell_type": "code",
   "execution_count": null,
   "id": "01bbb989-682d-4c46-9613-55ee963492c1",
   "metadata": {
    "execution": {
     "iopub.status.busy": "2024-10-17T09:49:37.609039Z",
     "iopub.status.idle": "2024-10-17T09:49:37.609174Z",
     "shell.execute_reply": "2024-10-17T09:49:37.609110Z",
     "shell.execute_reply.started": "2024-10-17T09:49:37.609104Z"
    },
    "tags": []
   },
   "outputs": [],
   "source": [
    "fig = plt.figure(figsize=(5.5,4))\n",
    "col=\"PWV [mm]_x\"\n",
    "index = filtered & (rec[\"FILTER\"] == 'empty')\n",
    "plt.errorbar(rec[\"A1_x\"][index], rec[col][index], yerr=rec[col_err][index], linestyle=\"none\", marker=\"+\", label=filt)\n",
    "plt.ylim((0.9*np.min(rec[col][filtered]), 1.1*np.max(rec[col][filtered])))\n",
    "plt.grid()\n",
    "plt.ylabel(\"PWV [mm]\")\n",
    "plt.title(\"Precipitable Water Vapor measured by AuxTel in 2023\")\n",
    "#plt.legend()\n",
    "plt.gcf().autofmt_xdate()\n",
    "plt.show()"
   ]
  },
  {
   "cell_type": "code",
   "execution_count": null,
   "id": "90025269-329b-427d-bf45-c2add7390e76",
   "metadata": {
    "execution": {
     "iopub.status.busy": "2024-10-17T09:49:37.609521Z",
     "iopub.status.idle": "2024-10-17T09:49:37.609655Z",
     "shell.execute_reply": "2024-10-17T09:49:37.609591Z",
     "shell.execute_reply.started": "2024-10-17T09:49:37.609585Z"
    },
    "tags": []
   },
   "outputs": [],
   "source": [
    "df.columns.values"
   ]
  },
  {
   "cell_type": "code",
   "execution_count": null,
   "id": "04781e76-9e38-47c9-8bb8-9bdb9c7d1033",
   "metadata": {
    "execution": {
     "iopub.status.busy": "2024-10-17T09:49:37.610022Z",
     "iopub.status.idle": "2024-10-17T09:49:37.610157Z",
     "shell.execute_reply": "2024-10-17T09:49:37.610093Z",
     "shell.execute_reply.started": "2024-10-17T09:49:37.610087Z"
    },
    "tags": []
   },
   "outputs": [],
   "source": [
    "fig = plt.figure(figsize=(5.5,4))\n",
    "col=\"A1_x\"\n",
    "index = filtered & (rec[\"FILTER\"] == 'empty')\n",
    "plt.errorbar(rec[\"SKY_BGD\"][index], rec[col][index], yerr=rec[col_err][index], linestyle=\"none\", marker=\"+\", label=filt)\n",
    "plt.ylim((0.9*np.min(rec[col][filtered]), 1.1*np.max(rec[col][filtered])))\n",
    "plt.grid()\n",
    "plt.ylabel(\"PWV [mm]\")\n",
    "plt.title(\"Precipitable Water Vapor measured by AuxTel in 2023\")\n",
    "#plt.legend()\n",
    "plt.gcf().autofmt_xdate()\n",
    "plt.show()"
   ]
  },
  {
   "cell_type": "code",
   "execution_count": null,
   "id": "f6303496-5e6b-4c7e-be1b-60e97f91ada9",
   "metadata": {
    "execution": {
     "iopub.status.busy": "2024-10-17T09:49:37.610579Z",
     "iopub.status.idle": "2024-10-17T09:49:37.610716Z",
     "shell.execute_reply": "2024-10-17T09:49:37.610651Z",
     "shell.execute_reply.started": "2024-10-17T09:49:37.610645Z"
    },
    "tags": []
   },
   "outputs": [],
   "source": [
    "df[df[\"id\"]==\"2023092800306\"]"
   ]
  },
  {
   "cell_type": "code",
   "execution_count": null,
   "id": "82501659-458e-482f-8c01-a377d6d09ce2",
   "metadata": {},
   "outputs": [],
   "source": []
  },
  {
   "cell_type": "code",
   "execution_count": null,
   "id": "b160979a-7353-43fc-a95b-259f2c887345",
   "metadata": {
    "execution": {
     "iopub.status.busy": "2024-10-17T09:49:37.611094Z",
     "iopub.status.idle": "2024-10-17T09:49:37.611232Z",
     "shell.execute_reply": "2024-10-17T09:49:37.611167Z",
     "shell.execute_reply.started": "2024-10-17T09:49:37.611161Z"
    },
    "tags": []
   },
   "outputs": [],
   "source": [
    "where = \"instrument='LATISS' AND visit.day_obs=20230926 AND visit.target_name='HD2811'\" \n",
    "test_records = list(butler.registry.queryDimensionRecords('visit', datasets='spectractorSpectrum', where=where,  collections=my_collection))\n",
    "len(test_records)"
   ]
  },
  {
   "cell_type": "code",
   "execution_count": null,
   "id": "9a8fd8a7-5d60-41f6-a56b-e80b0fea50f1",
   "metadata": {
    "execution": {
     "iopub.status.busy": "2024-10-17T09:49:37.611651Z",
     "iopub.status.idle": "2024-10-17T09:49:37.611788Z",
     "shell.execute_reply": "2024-10-17T09:49:37.611724Z",
     "shell.execute_reply.started": "2024-10-17T09:49:37.611717Z"
    },
    "tags": []
   },
   "outputs": [],
   "source": [
    "specs = []\n",
    "ids = []\n",
    "for i, r in enumerate(records):\n",
    "    #try:\n",
    "    times.append(r.day_obs)\n",
    "    spec =  butler.get('spectractorSpectrum', visit=r.id, collections=my_collection, detector=0, instrument='LATISS')\n",
    "    # print(r.id, spec.header[\"PSF_REG\"], spec.header[\"CHI2_FIT\"])\n",
    "    if spec.header[\"PSF_REG\"] < 3e-2 or spec.header[\"PSF_REG\"] > 0.2:\n",
    "        continue\n",
    "    if spec.header[\"D2CCD\"] < 186 or spec.header[\"D2CCD\"] > 188:\n",
    "        continue\n",
    "    if spec.header[\"CHI2_FIT\"] > 5:\n",
    "        continue\n",
    "    print(r.id, spec.header[\"PSF_REG\"], spec.header[\"CHI2_FIT\"])\n",
    "    specs.append(spec)\n",
    "    ids.append(r.id)\n",
    "    \n",
    "#specs = specs[np.argsort(ids)]"
   ]
  },
  {
   "cell_type": "code",
   "execution_count": null,
   "id": "e650b867-4ce3-411b-b739-9baa72c24f07",
   "metadata": {
    "execution": {
     "iopub.status.busy": "2024-10-17T09:49:37.612145Z",
     "iopub.status.idle": "2024-10-17T09:49:37.612281Z",
     "shell.execute_reply": "2024-10-17T09:49:37.612215Z",
     "shell.execute_reply.started": "2024-10-17T09:49:37.612209Z"
    },
    "tags": []
   },
   "outputs": [],
   "source": [
    "fig = plt.figure()\n",
    "for s in specs:\n",
    "    plt.plot(s.lambdas, s.data) # /np.sum(s.data)\n",
    "plt.show()"
   ]
  },
  {
   "cell_type": "code",
   "execution_count": null,
   "id": "913ae39e-c13b-48ca-aa36-2626f918851f",
   "metadata": {
    "execution": {
     "iopub.status.busy": "2024-10-17T09:49:37.612689Z",
     "iopub.status.idle": "2024-10-17T09:49:37.612834Z",
     "shell.execute_reply": "2024-10-17T09:49:37.612768Z",
     "shell.execute_reply.started": "2024-10-17T09:49:37.612761Z"
    }
   },
   "outputs": [],
   "source": [
    "ind = df[\"TARGET\"]==\"HD2811\"\n",
    "for keyx in [\"ozone [db]_x\", \"VAOD_x\", \"PWV [mm]_x\", \"A1_x\"]:\n",
    "    keyy = keyx.replace(\"_x\", \"_y\")\n",
    "    fig = plt.figure()\n",
    "    plt.plot(df[keyx], df[keyy] , '+')\n",
    "    plt.plot(df[keyx][ind], df[keyy][ind], '+')\n",
    "    #plt.plot(dftot[ind][\"Airmass\"], dftot[ind][\"Mount motion image degradation\"] , '+')\n",
    "    plt.grid()\n",
    "    #plt.yscale(\"log\")\n",
    "    #plt.xscale(\"log\")\n",
    "    plt.xlabel(keyx)\n",
    "    plt.ylabel(keyy)\n",
    "    plt.show()"
   ]
  },
  {
   "cell_type": "markdown",
   "id": "6c816426-16f6-45be-9275-853a8b525b50",
   "metadata": {},
   "source": [
    "## Correlation with night meta data"
   ]
  },
  {
   "cell_type": "code",
   "execution_count": null,
   "id": "ee441cef-9bec-449e-89bf-00f2a460ed61",
   "metadata": {
    "execution": {
     "iopub.status.busy": "2024-10-17T09:49:37.613216Z",
     "iopub.status.idle": "2024-10-17T09:49:37.613354Z",
     "shell.execute_reply": "2024-10-17T09:49:37.613288Z",
     "shell.execute_reply.started": "2024-10-17T09:49:37.613282Z"
    }
   },
   "outputs": [],
   "source": [
    "import glob\n",
    "file_list = glob.glob('night_metadata/*.json')\n",
    "data_frames = [pd.read_json(file).T for file in sorted(file_list)]\n",
    "dfn = pd.concat(data_frames)\n",
    "dfn[\"id\"] = dfn[\"Exposure id\"]\n",
    "dfn"
   ]
  },
  {
   "cell_type": "code",
   "execution_count": null,
   "id": "68e582db-e3da-47ad-affc-e8c58b6ba49f",
   "metadata": {
    "execution": {
     "iopub.status.busy": "2024-10-17T09:49:37.613650Z",
     "iopub.status.idle": "2024-10-17T09:49:37.613786Z",
     "shell.execute_reply": "2024-10-17T09:49:37.613722Z",
     "shell.execute_reply.started": "2024-10-17T09:49:37.613716Z"
    }
   },
   "outputs": [],
   "source": [
    "dftot = df[filtered].merge(dfn, how=\"outer\", on=\"id\")\n",
    "#dftot = dftot[dftot[\"dayObs\"]==20231129]\n",
    "dftot"
   ]
  },
  {
   "cell_type": "code",
   "execution_count": null,
   "id": "2934d68b-b762-4545-928d-4d8400acc1cb",
   "metadata": {
    "execution": {
     "iopub.status.busy": "2024-10-17T09:49:37.614162Z",
     "iopub.status.idle": "2024-10-17T09:49:37.614297Z",
     "shell.execute_reply": "2024-10-17T09:49:37.614232Z",
     "shell.execute_reply.started": "2024-10-17T09:49:37.614226Z"
    }
   },
   "outputs": [],
   "source": [
    "ind = dftot[\"Target\"]==\"HD2811\"\n",
    "#ind = dftot[\"Target\"]==\"HD185975\"\n",
    "\n",
    "fig = plt.figure()\n",
    "plt.plot(dftot[ind][\"Airmass\"], dftot[ind][\"Mount jitter RMS\"] , '+')\n",
    "plt.plot(dftot[ind][\"Airmass\"], dftot[ind][\"Mount motion image degradation\"] , '+')\n",
    "plt.grid()\n",
    "#plt.yscale(\"log\")\n",
    "#plt.xscale(\"log\")\n",
    "plt.show()"
   ]
  },
  {
   "cell_type": "code",
   "execution_count": null,
   "id": "d3380d0d-509d-40b0-a69d-fa7f94cb2fb8",
   "metadata": {
    "execution": {
     "iopub.status.busy": "2024-10-17T09:49:37.614696Z",
     "iopub.status.idle": "2024-10-17T09:49:37.614838Z",
     "shell.execute_reply": "2024-10-17T09:49:37.614771Z",
     "shell.execute_reply.started": "2024-10-17T09:49:37.614764Z"
    }
   },
   "outputs": [],
   "source": [
    "for keyy in [\"y_c_0_1\", \"y_c_1_1\", \"y_c_2_1\", \"y_c_0_2\", \"y_c_1_2\", \"y_c_2_2\"]:\n",
    "    for keyx in [\"angle [deg]\", \"shift_y [pix]\"]:    \n",
    "        fig = plt.figure()\n",
    "        plt.plot(dftot[keyx], dftot[keyy] , '+')\n",
    "        plt.plot(dftot[ind][keyx], dftot[ind][keyy] , '+')\n",
    "        #plt.plot(dftot[ind][\"Airmass\"], dftot[ind][\"Mount motion image degradation\"] , '+')\n",
    "        plt.grid()\n",
    "        #plt.yscale(\"log\")\n",
    "        #plt.xscale(\"log\")\n",
    "        plt.xlabel(keyx)\n",
    "        plt.ylabel(keyy)\n",
    "        plt.show()"
   ]
  },
  {
   "cell_type": "code",
   "execution_count": null,
   "id": "6a8e4262-0129-48b1-8c81-38dfb8fae0e5",
   "metadata": {
    "execution": {
     "iopub.status.busy": "2024-10-17T09:49:37.615302Z",
     "iopub.status.idle": "2024-10-17T09:49:37.615446Z",
     "shell.execute_reply": "2024-10-17T09:49:37.615374Z",
     "shell.execute_reply.started": "2024-10-17T09:49:37.615368Z"
    }
   },
   "outputs": [],
   "source": [
    "for keyy in [\"ozone [db]_y\", \"A1_y\", \"VAOD_y\", \"P [hPa]\", \"y_c_0_2\", \"y_c_1_2\", \"y_c_2_2\", \"gamma_0_1\", \"angle [deg]\", \"shift_y [pix]\"]:\n",
    "    for keyx in [\"Mount motion image degradation\", \"Azimuth\", \"Altitude\", \"AIRMASS\", \"angstrom_exp_y\"]:    \n",
    "        fig = plt.figure()\n",
    "        plt.plot(dftot[keyx], dftot[keyy] , '+')\n",
    "        plt.plot(dftot[ind][keyx], dftot[ind][keyy] , '+')\n",
    "        #plt.plot(dftot[ind][\"Airmass\"], dftot[ind][\"Mount motion image degradation\"] , '+')\n",
    "        plt.grid()\n",
    "        #plt.yscale(\"log\")\n",
    "        #plt.xscale(\"log\")\n",
    "        plt.xlabel(keyx)\n",
    "        plt.ylabel(keyy)\n",
    "        plt.show()"
   ]
  },
  {
   "cell_type": "code",
   "execution_count": null,
   "id": "3039b0e0-f87d-4f78-a1e8-0022e6583955",
   "metadata": {
    "execution": {
     "iopub.status.busy": "2024-10-17T09:49:37.615849Z",
     "iopub.status.idle": "2024-10-17T09:49:37.615985Z",
     "shell.execute_reply": "2024-10-17T09:49:37.615920Z",
     "shell.execute_reply.started": "2024-10-17T09:49:37.615914Z"
    }
   },
   "outputs": [],
   "source": [
    "for keyy in [\"ozone [db]_x\", \"VAOD_x\", \"PWV [mm]_x\", \"A1_x\", \"A2_x\"]:\n",
    "    for keyx in [\"Azimuth\", \"Altitude\", \"AIRMASS\", \"angstrom_exp_x\"]:    \n",
    "        fig = plt.figure()\n",
    "        plt.plot(dftot[keyx], dftot[keyy] , '+')\n",
    "        plt.plot(dftot[ind][keyx], dftot[ind][keyy] , '+')\n",
    "        #plt.plot(dftot[ind][\"Airmass\"], dftot[ind][\"Mount motion image degradation\"] , '+')\n",
    "        plt.grid()\n",
    "        #plt.yscale(\"log\")\n",
    "        #plt.xscale(\"log\")\n",
    "        plt.xlabel(keyx)\n",
    "        plt.ylabel(keyy)\n",
    "        plt.show()"
   ]
  },
  {
   "cell_type": "markdown",
   "id": "abdd2e3a-9912-4e8f-a3b4-d4b93f2c4a15",
   "metadata": {},
   "source": [
    "## Filtering"
   ]
  },
  {
   "cell_type": "code",
   "execution_count": null,
   "id": "3c017c44-b992-41f5-aa08-1c3af5f1ad12",
   "metadata": {
    "execution": {
     "iopub.status.busy": "2024-10-17T09:49:37.616279Z",
     "iopub.status.idle": "2024-10-17T09:49:37.616413Z",
     "shell.execute_reply": "2024-10-17T09:49:37.616349Z",
     "shell.execute_reply.started": "2024-10-17T09:49:37.616343Z"
    },
    "tags": []
   },
   "outputs": [],
   "source": [
    "pd.set_option('display.max_columns', None)\n",
    "test = df.query('id>=2023092800266 & id<=2023092800267 & TARGET==\"HD160617\"')\n",
    "test[:]"
   ]
  },
  {
   "cell_type": "code",
   "execution_count": null,
   "id": "6710f546-7fb2-4c0f-b2ba-eb583da43b94",
   "metadata": {
    "execution": {
     "iopub.status.busy": "2024-10-17T09:49:37.616893Z",
     "iopub.status.idle": "2024-10-17T09:49:37.617031Z",
     "shell.execute_reply": "2024-10-17T09:49:37.616965Z",
     "shell.execute_reply.started": "2024-10-17T09:49:37.616959Z"
    },
    "tags": []
   },
   "outputs": [],
   "source": [
    "from spectractor.fit.fit_spectrogram import SpectrogramFitWorkspace, run_spectrogram_minimisation\n",
    "from spectractor.fit.fit_spectrum import SpectrumFitWorkspace, run_spectrum_minimisation\n",
    "from spectractor.extractor.spectrum import Spectrum\n",
    "from spectractor import parameters\n",
    "import shutil\n",
    "import os\n",
    "os.environ[\"PATH\"] = \"/sdf/group/rubin/u/jneveu/.conda/envs/jneveu-lsst-scipipe-6.0.0/bin/\"\n",
    "os.environ[\"CONDA_PREFIX\"] = \"/sdf/group/rubin/u/jneveu/.conda/envs/jneveu-lsst-scipipe-6.0.0\"\n",
    "shutil.which('uvspec')\n",
    "\n",
    "dataId = {\"day_obs\": 20230511, \"seq_num\": 248, 'instrument':'LATISS',\"detector\": 0}\n",
    "spec= butler.get('spectractorSpectrum',dataId,collections=my_collection)\n",
    "spec.plot_spectrum()"
   ]
  },
  {
   "cell_type": "code",
   "execution_count": null,
   "id": "0f241ac2-6fda-4d8b-b820-ce010b128cb0",
   "metadata": {
    "execution": {
     "iopub.status.busy": "2024-10-17T09:49:37.617372Z",
     "iopub.status.idle": "2024-10-17T09:49:37.617516Z",
     "shell.execute_reply": "2024-10-17T09:49:37.617449Z",
     "shell.execute_reply.started": "2024-10-17T09:49:37.617443Z"
    },
    "tags": []
   },
   "outputs": [],
   "source": [
    "parameters.VERBOSE = True\n",
    "parameters.DEBUG = True\n",
    "w = SpectrumFitWorkspace(spec, atmgrid_file_name='', verbose=True, plot=True, live_fit=False, fit_angstrom_exponent=False)\n",
    "run_spectrum_minimisation(w, method=\"newton\")\n",
    "w.params.print_parameters_summary()"
   ]
  },
  {
   "cell_type": "code",
   "execution_count": null,
   "id": "237c612c-b0fc-4fa0-9565-0a0fcca546b6",
   "metadata": {},
   "outputs": [],
   "source": []
  },
  {
   "cell_type": "code",
   "execution_count": null,
   "id": "c62ea7cb-d491-4f79-a3b8-7f9c84aab771",
   "metadata": {},
   "outputs": [],
   "source": []
  },
  {
   "cell_type": "code",
   "execution_count": null,
   "id": "7e64e83a-49ba-49ee-9ead-aeb88e7d0768",
   "metadata": {},
   "outputs": [],
   "source": []
  },
  {
   "cell_type": "code",
   "execution_count": null,
   "id": "e5a6bba8-4ac8-48ae-84b8-651820815561",
   "metadata": {},
   "outputs": [],
   "source": []
  },
  {
   "cell_type": "code",
   "execution_count": null,
   "id": "e53e04c7-9672-41fe-8c4c-36a18622b66e",
   "metadata": {},
   "outputs": [],
   "source": []
  }
 ],
 "metadata": {
  "kernelspec": {
   "display_name": "LSST",
   "language": "python",
   "name": "lsst"
  },
  "language_info": {
   "codemirror_mode": {
    "name": "ipython",
    "version": 3
   },
   "file_extension": ".py",
   "mimetype": "text/x-python",
   "name": "python",
   "nbconvert_exporter": "python",
   "pygments_lexer": "ipython3",
   "version": "3.11.9"
  }
 },
 "nbformat": 4,
 "nbformat_minor": 5
}
