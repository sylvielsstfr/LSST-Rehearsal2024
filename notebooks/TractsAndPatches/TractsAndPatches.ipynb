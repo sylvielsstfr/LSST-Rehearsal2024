{
 "cells": [
  {
   "cell_type": "markdown",
   "id": "0b8c2138-5194-4d03-8b77-be24e2cc8ee3",
   "metadata": {},
   "source": [
    "# Plot Tracts and Patches"
   ]
  },
  {
   "cell_type": "markdown",
   "id": "740e34fb-3fef-45a8-941b-c229742ab016",
   "metadata": {},
   "source": [
    " work with Weakly_2024_10\n",
    "- use jupyter kernel LSST\n",
    "\n",
    "\n",
    "- author : Sylvie Dagoret-Campagne\n",
    "- affiliation : IJCLab\n",
    "- creation date : 2024/04/10\n",
    "- update : 2024/04/10\n"
   ]
  },
  {
   "cell_type": "code",
   "execution_count": 1,
   "id": "ed2c3410-fe83-432e-ab87-9f4513fa8d8b",
   "metadata": {
    "execution": {
     "iopub.execute_input": "2024-04-10T18:13:37.496077Z",
     "iopub.status.busy": "2024-04-10T18:13:37.495940Z",
     "iopub.status.idle": "2024-04-10T18:13:37.859182Z",
     "shell.execute_reply": "2024-04-10T18:13:37.858788Z",
     "shell.execute_reply.started": "2024-04-10T18:13:37.496063Z"
    }
   },
   "outputs": [
    {
     "name": "stdout",
     "output_type": "stream",
     "text": [
      "analysis_tools        LOCAL:/home/d/dagoret/repos/repos_w_2024_10/analysis_tools \tsetup\n",
      "atmospec              LOCAL:/home/d/dagoret/repos/repos_w_2024_07/atmospec \tsetup\n",
      "eups                  LOCAL:/opt/lsst/software/stack/conda/miniconda3-py38_4.9.2/envs/lsst-scipipe-8.0.0/eups \tsetup\n",
      "spectractor           LOCAL:/home/d/dagoret/repos/repos_w_2024_07/Spectractor \tsetup\n"
     ]
    }
   ],
   "source": [
    "! eups list -s | grep LOCAL"
   ]
  },
  {
   "cell_type": "code",
   "execution_count": 2,
   "id": "70918d81-0cf6-4b0a-8f61-f5e5bec5b0e7",
   "metadata": {
    "execution": {
     "iopub.execute_input": "2024-04-10T18:13:37.859954Z",
     "iopub.status.busy": "2024-04-10T18:13:37.859808Z",
     "iopub.status.idle": "2024-04-10T18:13:38.208153Z",
     "shell.execute_reply": "2024-04-10T18:13:38.207535Z",
     "shell.execute_reply.started": "2024-04-10T18:13:37.859939Z"
    }
   },
   "outputs": [
    {
     "name": "stdout",
     "output_type": "stream",
     "text": [
      "   g4213664e8e+399544b0f1 \tcurrent w_2024_10 setup\n"
     ]
    }
   ],
   "source": [
    "! eups list -s lsst_distrib"
   ]
  },
  {
   "cell_type": "code",
   "execution_count": 3,
   "id": "ce6aa72f-2f5d-4b84-b76a-e5afc7828e07",
   "metadata": {
    "execution": {
     "iopub.execute_input": "2024-04-10T18:13:38.209041Z",
     "iopub.status.busy": "2024-04-10T18:13:38.208879Z",
     "iopub.status.idle": "2024-04-10T18:13:39.238609Z",
     "shell.execute_reply": "2024-04-10T18:13:39.238135Z",
     "shell.execute_reply.started": "2024-04-10T18:13:38.209018Z"
    }
   },
   "outputs": [],
   "source": [
    "# general python packages\n",
    "import numpy as np\n",
    "import matplotlib.pyplot as plt\n",
    "import matplotlib as mpl\n",
    "from astropy.visualization import ZScaleInterval, LinearStretch, ImageNormalize\n",
    "\n",
    "\n",
    "from matplotlib.patches import Polygon\n",
    "from matplotlib.collections import PatchCollection\n",
    "\n",
    "# LSST packages\n",
    "from lsst.daf.butler import Butler\n",
    "import lsst.geom as geom\n",
    "\n",
    "# allow interactive plots\n",
    "#%matplotlib widget\n",
    "%matplotlib inline\n",
    "\n",
    "# default plot style is accessible\n",
    "plt.style.use('tableau-colorblind10')"
   ]
  },
  {
   "cell_type": "code",
   "execution_count": 4,
   "id": "230b4b5d-83b0-4c4e-8e1d-6919f5459163",
   "metadata": {
    "execution": {
     "iopub.execute_input": "2024-04-10T18:13:39.240210Z",
     "iopub.status.busy": "2024-04-10T18:13:39.240067Z",
     "iopub.status.idle": "2024-04-10T18:13:39.242962Z",
     "shell.execute_reply": "2024-04-10T18:13:39.242601Z",
     "shell.execute_reply.started": "2024-04-10T18:13:39.240195Z"
    }
   },
   "outputs": [],
   "source": [
    "# INSERT YOUR auxTel/LATISS collection and tract/band HERE\n",
    "butlerRoot = \"/repo/embargo\"\n",
    "\n",
    "collection1 = 'LSSTComCamSim/runs/nightlyvalidation/20240402/d_2024_03_29/DM-43612'\n",
    "collection2 = 'LSSTComCamSim/runs/nightlyvalidation/20240403/d_2024_03_29/DM-43612'\n",
    "collection3 = 'LSSTComCamSim/runs/nightlyvalidation/20240404/d_2024_03_29/DM-43612'\n",
    "collectionn = 'LSSTComCamSim/runs/nightlyvalidation/2024040X/d_2024_03_29/DM-43612'\n",
    "#collections = [collection1,collection2,collection3]\n",
    "collections = [collection2]\n",
    "collectionStr = collectionn.replace(\"/\", \"_\")\n",
    "instrument = 'LSSTComCamSim'\n",
    "skymapName = \"ops_rehersal_prep_2k_v1\"\n",
    "where_clause = \"instrument = \\'\" + instrument+ \"\\'\""
   ]
  },
  {
   "cell_type": "code",
   "execution_count": 5,
   "id": "588c0e0d-fae8-46c3-a258-a64ef076445b",
   "metadata": {
    "execution": {
     "iopub.execute_input": "2024-04-10T18:13:39.243561Z",
     "iopub.status.busy": "2024-04-10T18:13:39.243432Z",
     "iopub.status.idle": "2024-04-10T18:13:40.523798Z",
     "shell.execute_reply": "2024-04-10T18:13:40.523338Z",
     "shell.execute_reply.started": "2024-04-10T18:13:39.243549Z"
    }
   },
   "outputs": [
    {
     "name": "stdout",
     "output_type": "stream",
     "text": [
      "camera_name = LSSTComCamSim\n",
      "collections = ['LSSTComCamSim/runs/nightlyvalidation/20240403/d_2024_03_29/DM-43612']\n"
     ]
    }
   ],
   "source": [
    "# Initiate butler from variables set above\n",
    "butler = Butler(butlerRoot, collections=collections, instrument=instrument, skymap=skymapName)\n",
    "camera = butler.get(\"camera\", instrument=instrument)\n",
    "print(\"camera_name = {}\".format(camera.getName()))\n",
    "print(\"collections = {}\".format(collections))"
   ]
  },
  {
   "cell_type": "markdown",
   "id": "9e212fa7-8be2-4874-b534-9d6e0918fa74",
   "metadata": {},
   "source": [
    "### access to skymap\n",
    "\n",
    "https://github.com/sylvielsstfr/MyDP0LSS/blob/main/myDP0.2/TrackAndPatch/PlotTractAndPatchs_butler.ipynb"
   ]
  },
  {
   "cell_type": "code",
   "execution_count": 6,
   "id": "62e69b18-d122-488b-9f62-3fc5e2342279",
   "metadata": {
    "execution": {
     "iopub.execute_input": "2024-04-10T18:13:40.524562Z",
     "iopub.status.busy": "2024-04-10T18:13:40.524424Z",
     "iopub.status.idle": "2024-04-10T18:13:40.527997Z",
     "shell.execute_reply": "2024-04-10T18:13:40.527627Z",
     "shell.execute_reply.started": "2024-04-10T18:13:40.524549Z"
    }
   },
   "outputs": [],
   "source": [
    "def get_corners_radec(wcs, bbox):\n",
    "    \"\"\"\n",
    "    Return the corners in RA,Dec in degrees given the WCS and bounding box for an image.\n",
    "\n",
    "    Parameters\n",
    "    ----------\n",
    "    wcs: image WCS returned by the Butler\n",
    "    bbox: bounding box returned by the Butler\n",
    "\n",
    "    Returns\n",
    "    -------\n",
    "    corners_ra, corners_dec in decimal degrees\n",
    "    \"\"\"\n",
    "\n",
    "    corners_x = [bbox.beginX, bbox.beginX, bbox.endX, bbox.endX]\n",
    "    corners_y = [bbox.beginY, bbox.endY, bbox.endY, bbox.beginY]\n",
    "    corners_ra = []\n",
    "    corners_dec = []\n",
    "    for i in range(4):\n",
    "        radec = wcs.pixelToSky(corners_x[i], corners_y[i])\n",
    "        corners_ra.append(radec.getRa().asDegrees())\n",
    "        corners_dec.append(radec.getDec().asDegrees())\n",
    "    \n",
    "    return corners_ra, corners_dec"
   ]
  },
  {
   "cell_type": "markdown",
   "id": "a7587b10-c178-4537-9c34-60867b69fa01",
   "metadata": {},
   "source": [
    "## Config"
   ]
  },
  {
   "cell_type": "code",
   "execution_count": 7,
   "id": "c2bca87f-8b3a-44ee-afa5-5b8e0b8f9b9d",
   "metadata": {
    "execution": {
     "iopub.execute_input": "2024-04-10T18:13:40.528615Z",
     "iopub.status.busy": "2024-04-10T18:13:40.528489Z",
     "iopub.status.idle": "2024-04-10T18:13:40.607776Z",
     "shell.execute_reply": "2024-04-10T18:13:40.607389Z",
     "shell.execute_reply.started": "2024-04-10T18:13:40.528603Z"
    },
    "tags": []
   },
   "outputs": [],
   "source": [
    "datasetRefs = butler.registry.queryDatasets(datasetType='skyMap', collections=collections, where= where_clause)"
   ]
  },
  {
   "cell_type": "code",
   "execution_count": 8,
   "id": "70cc3c91-c505-48aa-aec2-f1f8b342b127",
   "metadata": {
    "execution": {
     "iopub.execute_input": "2024-04-10T18:13:40.608405Z",
     "iopub.status.busy": "2024-04-10T18:13:40.608276Z",
     "iopub.status.idle": "2024-04-10T18:13:40.616279Z",
     "shell.execute_reply": "2024-04-10T18:13:40.615899Z",
     "shell.execute_reply.started": "2024-04-10T18:13:40.608393Z"
    }
   },
   "outputs": [
    {
     "name": "stdout",
     "output_type": "stream",
     "text": [
      "skyMap@{skymap: 'hsc_rings_v1'} [sc=SkyMap] (run=skymaps id=6e7fc928-0dc3-4e1b-ae63-5fb63be46216)\n",
      "skyMap@{skymap: 'latiss_v1'} [sc=SkyMap] (run=skymaps id=f677ff86-2b1c-4094-9dad-e39395052cd1)\n",
      "skyMap@{skymap: 'lsst_cells_v1'} [sc=SkyMap] (run=skymaps id=857e0e80-8d08-44f4-a81b-84227b064d5b)\n",
      "skyMap@{skymap: 'DC2_cells_v1'} [sc=SkyMap] (run=skymaps id=b7d4b4f1-e108-4570-bbf5-da6093179ac8)\n",
      "skyMap@{skymap: 'ops_rehersal_prep_2k_v1'} [sc=SkyMap] (run=skymaps id=8f5f7e7a-c647-4a88-b8e7-6e2406d071b8)\n"
     ]
    }
   ],
   "source": [
    "for i, ref in enumerate(datasetRefs):\n",
    "    print(ref)\n",
    "    skymap_id = ref.dataId[\"skymap\"]\n",
    "    if skymap_id ==  skymapName:\n",
    "        skymap = ref"
   ]
  },
  {
   "cell_type": "code",
   "execution_count": 9,
   "id": "5b00dd9c-d87b-4c0e-9811-4cdbb06f6d76",
   "metadata": {
    "execution": {
     "iopub.execute_input": "2024-04-10T18:13:40.616885Z",
     "iopub.status.busy": "2024-04-10T18:13:40.616759Z",
     "iopub.status.idle": "2024-04-10T18:13:40.767399Z",
     "shell.execute_reply": "2024-04-10T18:13:40.766968Z",
     "shell.execute_reply.started": "2024-04-10T18:13:40.616873Z"
    }
   },
   "outputs": [
    {
     "name": "stdout",
     "output_type": "stream",
     "text": [
      "[2494, 2495, 2661, 2662, 3200, 3345, 3346, 3384, 3385, 3533, 3534, 6914, 6915, 7148, 7149, 7445, 7446, 7683, 7684, 9570, 9637, 9638, 9812, 9813, 9880, 9881]\n"
     ]
    }
   ],
   "source": [
    "nImage_refs = list(butler.registry.queryDatasets('deepCoadd_nImage'))\n",
    "my_tracts = np.unique([ref.dataId['tract'] for ref in nImage_refs])\n",
    "my_tracts = sorted(my_tracts)\n",
    "print(my_tracts)"
   ]
  },
  {
   "cell_type": "code",
   "execution_count": 10,
   "id": "a88df013-ca76-4aa3-b47f-e1e0537979ca",
   "metadata": {
    "execution": {
     "iopub.execute_input": "2024-04-10T18:13:40.768115Z",
     "iopub.status.busy": "2024-04-10T18:13:40.767962Z",
     "iopub.status.idle": "2024-04-10T18:13:40.808393Z",
     "shell.execute_reply": "2024-04-10T18:13:40.808049Z",
     "shell.execute_reply.started": "2024-04-10T18:13:40.768102Z"
    }
   },
   "outputs": [
    {
     "data": {
      "text/plain": [
       "Index2D(x=7, y=2)"
      ]
     },
     "execution_count": 10,
     "metadata": {},
     "output_type": "execute_result"
    }
   ],
   "source": [
    "#from lsst.daf.butler import Butler\n",
    "#butler = Butler('SMALL_HSC')\n",
    "#skymap = butler.get(ref)\n",
    "skymap = butler.get('skyMap', skymap=skymapName, collections=collections)\n",
    "tractInfo = skymap.generateTract(my_tracts[0])\n",
    "patch = tractInfo[41]\n",
    "patch.getIndex()"
   ]
  },
  {
   "cell_type": "code",
   "execution_count": 11,
   "id": "a466bd42-382c-473a-8d4f-1117afaa52d9",
   "metadata": {
    "execution": {
     "iopub.execute_input": "2024-04-10T18:13:40.808995Z",
     "iopub.status.busy": "2024-04-10T18:13:40.808867Z",
     "iopub.status.idle": "2024-04-10T18:13:41.126254Z",
     "shell.execute_reply": "2024-04-10T18:13:41.125194Z",
     "shell.execute_reply.started": "2024-04-10T18:13:40.808983Z"
    }
   },
   "outputs": [
    {
     "ename": "FileNotFoundError",
     "evalue": "[Errno 2] No such file or directory: '../data/202402/Latiss_tractspatchs_202402.pickle'",
     "output_type": "error",
     "traceback": [
      "\u001b[0;31m---------------------------------------------------------------------------\u001b[0m",
      "\u001b[0;31mFileNotFoundError\u001b[0m                         Traceback (most recent call last)",
      "Cell \u001b[0;32mIn[11], line 4\u001b[0m\n\u001b[1;32m      2\u001b[0m \u001b[38;5;28;01mimport\u001b[39;00m \u001b[38;5;21;01mpickle\u001b[39;00m\n\u001b[1;32m      3\u001b[0m \u001b[38;5;66;03m#with open('Latiss_tractspatchs.pickle', 'rb') as handle:\u001b[39;00m\n\u001b[0;32m----> 4\u001b[0m \u001b[38;5;28;01mwith\u001b[39;00m \u001b[38;5;28;43mopen\u001b[39;49m\u001b[43m(\u001b[49m\u001b[38;5;124;43m'\u001b[39;49m\u001b[38;5;124;43m../data/202402/Latiss_tractspatchs_202402.pickle\u001b[39;49m\u001b[38;5;124;43m'\u001b[39;49m\u001b[43m,\u001b[49m\u001b[43m \u001b[49m\u001b[38;5;124;43m'\u001b[39;49m\u001b[38;5;124;43mrb\u001b[39;49m\u001b[38;5;124;43m'\u001b[39;49m\u001b[43m)\u001b[49m \u001b[38;5;28;01mas\u001b[39;00m handle:\n\u001b[1;32m      5\u001b[0m     tracts_patchs_dict \u001b[38;5;241m=\u001b[39m pickle\u001b[38;5;241m.\u001b[39mload(handle)\n",
      "File \u001b[0;32m/opt/lsst/software/stack/conda/miniconda3-py38_4.9.2/envs/lsst-scipipe-8.0.0/lib/python3.11/site-packages/IPython/core/interactiveshell.py:324\u001b[0m, in \u001b[0;36m_modified_open\u001b[0;34m(file, *args, **kwargs)\u001b[0m\n\u001b[1;32m    317\u001b[0m \u001b[38;5;28;01mif\u001b[39;00m file \u001b[38;5;129;01min\u001b[39;00m {\u001b[38;5;241m0\u001b[39m, \u001b[38;5;241m1\u001b[39m, \u001b[38;5;241m2\u001b[39m}:\n\u001b[1;32m    318\u001b[0m     \u001b[38;5;28;01mraise\u001b[39;00m \u001b[38;5;167;01mValueError\u001b[39;00m(\n\u001b[1;32m    319\u001b[0m         \u001b[38;5;124mf\u001b[39m\u001b[38;5;124m\"\u001b[39m\u001b[38;5;124mIPython won\u001b[39m\u001b[38;5;124m'\u001b[39m\u001b[38;5;124mt let you open fd=\u001b[39m\u001b[38;5;132;01m{\u001b[39;00mfile\u001b[38;5;132;01m}\u001b[39;00m\u001b[38;5;124m by default \u001b[39m\u001b[38;5;124m\"\u001b[39m\n\u001b[1;32m    320\u001b[0m         \u001b[38;5;124m\"\u001b[39m\u001b[38;5;124mas it is likely to crash IPython. If you know what you are doing, \u001b[39m\u001b[38;5;124m\"\u001b[39m\n\u001b[1;32m    321\u001b[0m         \u001b[38;5;124m\"\u001b[39m\u001b[38;5;124myou can use builtins\u001b[39m\u001b[38;5;124m'\u001b[39m\u001b[38;5;124m open.\u001b[39m\u001b[38;5;124m\"\u001b[39m\n\u001b[1;32m    322\u001b[0m     )\n\u001b[0;32m--> 324\u001b[0m \u001b[38;5;28;01mreturn\u001b[39;00m \u001b[43mio_open\u001b[49m\u001b[43m(\u001b[49m\u001b[43mfile\u001b[49m\u001b[43m,\u001b[49m\u001b[43m \u001b[49m\u001b[38;5;241;43m*\u001b[39;49m\u001b[43margs\u001b[49m\u001b[43m,\u001b[49m\u001b[43m \u001b[49m\u001b[38;5;241;43m*\u001b[39;49m\u001b[38;5;241;43m*\u001b[39;49m\u001b[43mkwargs\u001b[49m\u001b[43m)\u001b[49m\n",
      "\u001b[0;31mFileNotFoundError\u001b[0m: [Errno 2] No such file or directory: '../data/202402/Latiss_tractspatchs_202402.pickle'"
     ]
    }
   ],
   "source": [
    "# Load data (deserialize)\n",
    "import pickle\n",
    "#with open('Latiss_tractspatchs.pickle', 'rb') as handle:\n",
    "with open('../data/202402/Latiss_tractspatchs_202402.pickle', 'rb') as handle:\n",
    "    tracts_patchs_dict = pickle.load(handle)"
   ]
  },
  {
   "cell_type": "code",
   "execution_count": null,
   "id": "d716c112-aec6-40a5-9bfa-1d379327a57c",
   "metadata": {
    "execution": {
     "iopub.status.busy": "2024-04-10T18:13:41.126712Z",
     "iopub.status.idle": "2024-04-10T18:13:41.126882Z",
     "shell.execute_reply": "2024-04-10T18:13:41.126804Z",
     "shell.execute_reply.started": "2024-04-10T18:13:41.126796Z"
    }
   },
   "outputs": [],
   "source": [
    "tracts_patchs_dict"
   ]
  },
  {
   "cell_type": "code",
   "execution_count": null,
   "id": "1cbd1adb-fcd4-4527-a30f-52e64ae79156",
   "metadata": {
    "execution": {
     "iopub.status.busy": "2024-04-10T18:13:41.127613Z",
     "iopub.status.idle": "2024-04-10T18:13:41.127778Z",
     "shell.execute_reply": "2024-04-10T18:13:41.127699Z",
     "shell.execute_reply.started": "2024-04-10T18:13:41.127692Z"
    }
   },
   "outputs": [],
   "source": [
    "list_of_tracts = list(tracts_patchs_dict.keys())\n",
    "list_of_tracts"
   ]
  },
  {
   "cell_type": "code",
   "execution_count": null,
   "id": "8c81ef60-4e7a-4592-9e89-6b5ab9884d57",
   "metadata": {
    "execution": {
     "iopub.status.busy": "2024-04-10T18:13:41.128257Z",
     "iopub.status.idle": "2024-04-10T18:13:41.128411Z",
     "shell.execute_reply": "2024-04-10T18:13:41.128339Z",
     "shell.execute_reply.started": "2024-04-10T18:13:41.128332Z"
    }
   },
   "outputs": [],
   "source": [
    "npatches = 0\n",
    "for itract in list_of_tracts:\n",
    "    npatches += len(tracts_patchs_dict[itract])\n",
    "print(npatches)    "
   ]
  },
  {
   "cell_type": "code",
   "execution_count": null,
   "id": "2e38e541-0329-4a20-bb94-d70bd596d771",
   "metadata": {
    "execution": {
     "iopub.status.busy": "2024-04-10T18:13:41.128908Z",
     "iopub.status.idle": "2024-04-10T18:13:41.129073Z",
     "shell.execute_reply": "2024-04-10T18:13:41.128990Z",
     "shell.execute_reply.started": "2024-04-10T18:13:41.128983Z"
    }
   },
   "outputs": [],
   "source": [
    "#corners = np.array([ (ll[0], ll[1]), \n",
    "#                    (ul[0], ul[1] ), \n",
    "#                    (ur[0], ur[1]), \n",
    "#                    (lr[0], lr[1])])"
   ]
  },
  {
   "cell_type": "code",
   "execution_count": null,
   "id": "151d6922-eeac-4a08-9c6c-8caf29f510ac",
   "metadata": {
    "execution": {
     "iopub.status.busy": "2024-04-10T18:13:41.129667Z",
     "iopub.status.idle": "2024-04-10T18:13:41.129820Z",
     "shell.execute_reply": "2024-04-10T18:13:41.129748Z",
     "shell.execute_reply.started": "2024-04-10T18:13:41.129741Z"
    }
   },
   "outputs": [],
   "source": [
    "import numpy as np\n",
    "\n",
    "import matplotlib.pyplot as plt\n",
    "import matplotlib\n",
    "from matplotlib.patches import Polygon\n",
    "from matplotlib.collections import PatchCollection\n",
    "\n",
    "numTracts=0\n",
    "# collection of polygons\n",
    "patches = []\n",
    "all_ra = []\n",
    "all_dec = []\n",
    "for tractInfo in skymap:\n",
    "    tractID = tractInfo.getId()\n",
    "    if tractID not in list_of_tracts:\n",
    "        continue\n",
    "    # Work with the new tract    \n",
    "    numTracts+=1\n",
    "    all_xvals = []\n",
    "    all_yvals = []\n",
    "    for patch in tractInfo:\n",
    "        patchID = patch.getSequentialIndex()\n",
    "        if patchID not in tracts_patchs_dict[tractID]:\n",
    "            continue\n",
    "        ibb=patch.getInnerBBox()\n",
    "        tWCS=tractInfo.getWcs()\n",
    "        corners = []\n",
    "        # loop on the 4 corners\n",
    "        for icorn,corner in enumerate(ibb.getCorners()):\n",
    "            p = geom.Point2D(corner.getX(), corner.getY())\n",
    "            coord = tWCS.pixelToSky(p)\n",
    "            corners.append([coord.getRa().asDegrees(), coord.getDec().asDegrees()])\n",
    "            all_ra.append(coord.getRa().asDegrees()) \n",
    "            all_dec.append(coord.getDec().asDegrees()) \n",
    "        print(f\"==={numTracts}===tractId:patchId = {tractID}:{patchID}==========\")    \n",
    "        corners_array = np.array(corners)\n",
    "        corners_array = np.append(corners_array,[corners_array[0]],axis=0)\n",
    "        print(\"corners = \",corners_array)\n",
    "        polygon = Polygon(corners_array,closed=True)\n",
    "        patches.append(polygon)\n",
    "print(numTracts)   \n",
    "\n",
    "# we can see this, not my polugons ???\n",
    "#num_polygons = 5\n",
    "#num_sides = 4\n",
    "#for i in range(num_polygons):\n",
    "#    polygon = Polygon(10*(np.random.rand(num_sides ,2)-0.5), True)\n",
    "#    patches.append(polygon)\n",
    "\n",
    "\n",
    "\n",
    "fig, ax = plt.subplots(figsize=(12,12))\n",
    "p = PatchCollection(patches, cmap=mpl.cm.jet, alpha=0.4)\n",
    "\n",
    "colors = 100*np.random.rand(len(patches))\n",
    "p.set_array(np.array(colors))\n",
    "#p.set_clim([5, 50])\n",
    "ax.add_collection(p)  \n",
    "fig.colorbar(p)\n",
    "\n",
    "#ax.set_xlim([0., 60.])\n",
    "#ax.set_ylim([-90, -30.])\n",
    "fig.show()"
   ]
  },
  {
   "cell_type": "code",
   "execution_count": null,
   "id": "2c7b7d23-9224-4e6d-9b1f-86c52eea76ab",
   "metadata": {
    "execution": {
     "iopub.status.busy": "2024-04-10T18:13:41.130367Z",
     "iopub.status.idle": "2024-04-10T18:13:41.130518Z",
     "shell.execute_reply": "2024-04-10T18:13:41.130447Z",
     "shell.execute_reply.started": "2024-04-10T18:13:41.130440Z"
    }
   },
   "outputs": [],
   "source": [
    "all_ra = np.array(all_ra)\n",
    "all_dec = np.array(all_dec)"
   ]
  },
  {
   "cell_type": "code",
   "execution_count": null,
   "id": "41c2e51a-6a0b-44c3-a162-f9719f318c81",
   "metadata": {
    "execution": {
     "iopub.status.busy": "2024-04-10T18:13:41.131086Z",
     "iopub.status.idle": "2024-04-10T18:13:41.131238Z",
     "shell.execute_reply": "2024-04-10T18:13:41.131165Z",
     "shell.execute_reply.started": "2024-04-10T18:13:41.131158Z"
    }
   },
   "outputs": [],
   "source": [
    "fig, ax = plt.subplots(figsize=(12,12))\n",
    "p = PatchCollection(patches, cmap=mpl.cm.jet, alpha=0.4)\n",
    "\n",
    "colors = 50*np.random.rand(len(patches))\n",
    "p.set_array(np.array(colors))\n",
    "p.set_clim([5, 50])\n",
    "ax.add_collection(p)  \n",
    "\n",
    "\n",
    "#ax.set_xlim([0., 360.])\n",
    "#ax.set_ylim([-90, 10.])\n",
    "plt.show()"
   ]
  },
  {
   "cell_type": "code",
   "execution_count": null,
   "id": "6b89c386-77fa-4a8e-b41c-632da74e1136",
   "metadata": {
    "execution": {
     "iopub.status.busy": "2024-04-10T18:13:41.131630Z",
     "iopub.status.idle": "2024-04-10T18:13:41.131776Z",
     "shell.execute_reply": "2024-04-10T18:13:41.131710Z",
     "shell.execute_reply.started": "2024-04-10T18:13:41.131702Z"
    }
   },
   "outputs": [],
   "source": [
    "import numpy as np\n",
    "\n",
    "import matplotlib.pyplot as plt\n",
    "import matplotlib\n",
    "from matplotlib.patches import Polygon\n",
    "from matplotlib.collections import PatchCollection\n",
    "\n",
    "fig, ax = plt.subplots()\n",
    "patches = []\n",
    "num_polygons = 5\n",
    "num_sides = 4\n",
    "\n",
    "for i in range(num_polygons):\n",
    "    polygon = Polygon(10*np.random.rand(num_sides ,2), closed=True)\n",
    "    patches.append(polygon)\n",
    "\n",
    "p = PatchCollection(patches, cmap=matplotlib.cm.jet, alpha=0.4)\n",
    "\n",
    "colors = 100*np.random.rand(len(patches))\n",
    "p.set_array(np.array(colors))\n",
    "\n",
    "ax.add_collection(p)\n",
    "\n",
    "ax.set_xlim([0., 10.])\n",
    "ax.set_ylim([0., 10.])\n",
    "\n",
    "plt.show()"
   ]
  },
  {
   "cell_type": "code",
   "execution_count": null,
   "id": "5f788476-5baf-4b69-bfda-e61e07b21467",
   "metadata": {},
   "outputs": [],
   "source": []
  }
 ],
 "metadata": {
  "kernelspec": {
   "display_name": "LSST",
   "language": "python",
   "name": "lsst"
  },
  "language_info": {
   "codemirror_mode": {
    "name": "ipython",
    "version": 3
   },
   "file_extension": ".py",
   "mimetype": "text/x-python",
   "name": "python",
   "nbconvert_exporter": "python",
   "pygments_lexer": "ipython3",
   "version": "3.11.7"
  }
 },
 "nbformat": 4,
 "nbformat_minor": 5
}
