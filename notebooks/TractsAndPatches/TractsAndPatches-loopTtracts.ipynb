{
 "cells": [
  {
   "cell_type": "markdown",
   "id": "0b8c2138-5194-4d03-8b77-be24e2cc8ee3",
   "metadata": {},
   "source": [
    "# Tracts and Patches for LSSTComCamSim"
   ]
  },
  {
   "cell_type": "markdown",
   "id": "740e34fb-3fef-45a8-941b-c229742ab016",
   "metadata": {},
   "source": [
    " work with Weakly_2024_10\n",
    "- use jupyter kernel LSST\n",
    "\n",
    "\n",
    "- author : Sylvie Dagoret-Campagne\n",
    "- affiliation : IJCLab\n",
    "- creation date : 2024/04/10\n",
    "- update : 2024/04/10\n"
   ]
  },
  {
   "cell_type": "code",
   "execution_count": 1,
   "id": "ed2c3410-fe83-432e-ab87-9f4513fa8d8b",
   "metadata": {
    "execution": {
     "iopub.execute_input": "2024-04-10T18:12:31.428745Z",
     "iopub.status.busy": "2024-04-10T18:12:31.428620Z",
     "iopub.status.idle": "2024-04-10T18:12:31.788053Z",
     "shell.execute_reply": "2024-04-10T18:12:31.787531Z",
     "shell.execute_reply.started": "2024-04-10T18:12:31.428732Z"
    }
   },
   "outputs": [
    {
     "name": "stdout",
     "output_type": "stream",
     "text": [
      "analysis_tools        LOCAL:/home/d/dagoret/repos/repos_w_2024_10/analysis_tools \tsetup\n",
      "atmospec              LOCAL:/home/d/dagoret/repos/repos_w_2024_07/atmospec \tsetup\n",
      "eups                  LOCAL:/opt/lsst/software/stack/conda/miniconda3-py38_4.9.2/envs/lsst-scipipe-8.0.0/eups \tsetup\n",
      "spectractor           LOCAL:/home/d/dagoret/repos/repos_w_2024_07/Spectractor \tsetup\n"
     ]
    }
   ],
   "source": [
    "! eups list -s | grep LOCAL"
   ]
  },
  {
   "cell_type": "code",
   "execution_count": 2,
   "id": "70918d81-0cf6-4b0a-8f61-f5e5bec5b0e7",
   "metadata": {
    "execution": {
     "iopub.execute_input": "2024-04-10T18:12:31.788901Z",
     "iopub.status.busy": "2024-04-10T18:12:31.788758Z",
     "iopub.status.idle": "2024-04-10T18:12:32.126633Z",
     "shell.execute_reply": "2024-04-10T18:12:32.126066Z",
     "shell.execute_reply.started": "2024-04-10T18:12:31.788886Z"
    }
   },
   "outputs": [
    {
     "name": "stdout",
     "output_type": "stream",
     "text": [
      "   g4213664e8e+399544b0f1 \tcurrent w_2024_10 setup\n"
     ]
    }
   ],
   "source": [
    "! eups list -s lsst_distrib"
   ]
  },
  {
   "cell_type": "code",
   "execution_count": 3,
   "id": "ce6aa72f-2f5d-4b84-b76a-e5afc7828e07",
   "metadata": {
    "execution": {
     "iopub.execute_input": "2024-04-10T18:12:32.127593Z",
     "iopub.status.busy": "2024-04-10T18:12:32.127438Z",
     "iopub.status.idle": "2024-04-10T18:12:33.716444Z",
     "shell.execute_reply": "2024-04-10T18:12:33.715978Z",
     "shell.execute_reply.started": "2024-04-10T18:12:32.127578Z"
    }
   },
   "outputs": [],
   "source": [
    "# general python packages\n",
    "import numpy as np\n",
    "import matplotlib.pyplot as plt\n",
    "import matplotlib as mpl\n",
    "from astropy.visualization import ZScaleInterval, LinearStretch, ImageNormalize\n",
    "\n",
    "\n",
    "from matplotlib.patches import Polygon\n",
    "from matplotlib.collections import PatchCollection\n",
    "\n",
    "from matplotlib.colors import ListedColormap\n",
    "\n",
    "# LSST packages\n",
    "from lsst.daf.butler import Butler\n",
    "import lsst.geom as geom\n",
    "\n",
    "# allow interactive plots\n",
    "%matplotlib widget\n",
    "#%matplotlib inline\n",
    "\n",
    "# default plot style is accessible\n",
    "plt.style.use('tableau-colorblind10')\n",
    "import seaborn as sns"
   ]
  },
  {
   "cell_type": "code",
   "execution_count": 4,
   "id": "5c299a51-98ab-402a-85b0-d49bc7fde5ba",
   "metadata": {
    "execution": {
     "iopub.execute_input": "2024-04-10T18:12:33.718057Z",
     "iopub.status.busy": "2024-04-10T18:12:33.717912Z",
     "iopub.status.idle": "2024-04-10T18:12:33.720836Z",
     "shell.execute_reply": "2024-04-10T18:12:33.720470Z",
     "shell.execute_reply.started": "2024-04-10T18:12:33.718043Z"
    }
   },
   "outputs": [],
   "source": [
    "# INSERT YOUR auxTel/LATISS collection and tract/band HERE\n",
    "butlerRoot = \"/repo/embargo\"\n",
    "\n",
    "collection1 = 'LSSTComCamSim/runs/nightlyvalidation/20240402/d_2024_03_29/DM-43612'\n",
    "collection2 = 'LSSTComCamSim/runs/nightlyvalidation/20240403/d_2024_03_29/DM-43612'\n",
    "collection3 = 'LSSTComCamSim/runs/nightlyvalidation/20240404/d_2024_03_29/DM-43612'\n",
    "collectionn = 'LSSTComCamSim/runs/nightlyvalidation/2024040X/d_2024_03_29/DM-43612'\n",
    "#collections = [collection1,collection2,collection3]\n",
    "collections = [collection2]\n",
    "collectionStr = collectionn.replace(\"/\", \"_\")\n",
    "instrument = 'LSSTComCamSim'\n",
    "skymapName = \"ops_rehersal_prep_2k_v1\"\n",
    "where_clause = \"instrument = \\'\" + instrument+ \"\\'\""
   ]
  },
  {
   "cell_type": "markdown",
   "id": "a39c62f0-ccc9-4adf-8cfe-932679763337",
   "metadata": {},
   "source": [
    "## Init butler and skymap"
   ]
  },
  {
   "cell_type": "code",
   "execution_count": 5,
   "id": "1d4d7bae-a55b-4d0f-929c-97c27f2b7ac2",
   "metadata": {
    "execution": {
     "iopub.execute_input": "2024-04-10T18:12:33.721416Z",
     "iopub.status.busy": "2024-04-10T18:12:33.721283Z",
     "iopub.status.idle": "2024-04-10T18:12:35.048513Z",
     "shell.execute_reply": "2024-04-10T18:12:35.048164Z",
     "shell.execute_reply.started": "2024-04-10T18:12:33.721403Z"
    }
   },
   "outputs": [
    {
     "name": "stdout",
     "output_type": "stream",
     "text": [
      "camera_name = LSSTComCamSim\n",
      "collections = ['LSSTComCamSim/runs/nightlyvalidation/20240403/d_2024_03_29/DM-43612']\n"
     ]
    }
   ],
   "source": [
    "# Initiate butler from variables set above\n",
    "butler = Butler(butlerRoot, collections=collections, instrument=instrument, skymap=skymapName)\n",
    "camera = butler.get(\"camera\", instrument=instrument)\n",
    "print(\"camera_name = {}\".format(camera.getName()))\n",
    "print(\"collections = {}\".format(collections))"
   ]
  },
  {
   "cell_type": "code",
   "execution_count": 6,
   "id": "24372d97-1645-4a5c-a4da-d80fb66c8dd3",
   "metadata": {
    "execution": {
     "iopub.execute_input": "2024-04-10T18:12:35.049153Z",
     "iopub.status.busy": "2024-04-10T18:12:35.049013Z",
     "iopub.status.idle": "2024-04-10T18:12:35.132482Z",
     "shell.execute_reply": "2024-04-10T18:12:35.132048Z",
     "shell.execute_reply.started": "2024-04-10T18:12:35.049140Z"
    }
   },
   "outputs": [],
   "source": [
    "skymap = butler.get('skyMap', skymap=skymapName, collections=collections)"
   ]
  },
  {
   "cell_type": "markdown",
   "id": "9e212fa7-8be2-4874-b534-9d6e0918fa74",
   "metadata": {},
   "source": [
    "### access to skymap\n",
    "\n",
    "https://github.com/sylvielsstfr/MyDP0LSS/blob/main/myDP0.2/TrackAndPatch/PlotTractAndPatchs_butler.ipynb"
   ]
  },
  {
   "cell_type": "code",
   "execution_count": 7,
   "id": "62e69b18-d122-488b-9f62-3fc5e2342279",
   "metadata": {
    "execution": {
     "iopub.execute_input": "2024-04-10T18:12:35.133186Z",
     "iopub.status.busy": "2024-04-10T18:12:35.133050Z",
     "iopub.status.idle": "2024-04-10T18:12:35.136375Z",
     "shell.execute_reply": "2024-04-10T18:12:35.136007Z",
     "shell.execute_reply.started": "2024-04-10T18:12:35.133174Z"
    }
   },
   "outputs": [],
   "source": [
    "def get_corners_radec(wcs, bbox):\n",
    "    \"\"\"\n",
    "    Return the corners in RA,Dec in degrees given the WCS and bounding box for an image.\n",
    "\n",
    "    Parameters\n",
    "    ----------\n",
    "    wcs: image WCS returned by the Butler\n",
    "    bbox: bounding box returned by the Butler\n",
    "\n",
    "    Returns\n",
    "    -------\n",
    "    corners_ra, corners_dec in decimal degrees\n",
    "    \"\"\"\n",
    "\n",
    "    corners_x = [bbox.beginX, bbox.beginX, bbox.endX, bbox.endX]\n",
    "    corners_y = [bbox.beginY, bbox.endY, bbox.endY, bbox.beginY]\n",
    "    corners_ra = []\n",
    "    corners_dec = []\n",
    "    for i in range(4):\n",
    "        radec = wcs.pixelToSky(corners_x[i], corners_y[i])\n",
    "        corners_ra.append(radec.getRa().asDegrees())\n",
    "        corners_dec.append(radec.getDec().asDegrees())\n",
    "    \n",
    "    return corners_ra, corners_dec"
   ]
  },
  {
   "cell_type": "markdown",
   "id": "a7587b10-c178-4537-9c34-60867b69fa01",
   "metadata": {},
   "source": [
    "## Config"
   ]
  },
  {
   "cell_type": "code",
   "execution_count": 8,
   "id": "ea928b88-15d8-4ba7-ae39-fdea14db3e2f",
   "metadata": {
    "execution": {
     "iopub.execute_input": "2024-04-10T18:12:35.136957Z",
     "iopub.status.busy": "2024-04-10T18:12:35.136834Z",
     "iopub.status.idle": "2024-04-10T18:12:35.284374Z",
     "shell.execute_reply": "2024-04-10T18:12:35.283975Z",
     "shell.execute_reply.started": "2024-04-10T18:12:35.136945Z"
    }
   },
   "outputs": [],
   "source": [
    "nImage_refs = list(butler.registry.queryDatasets('deepCoadd_nImage'))\n",
    "my_tracts = np.unique([ref.dataId['tract'] for ref in nImage_refs])\n",
    "my_tracts = sorted(my_tracts)"
   ]
  },
  {
   "cell_type": "code",
   "execution_count": 9,
   "id": "a466bd42-382c-473a-8d4f-1117afaa52d9",
   "metadata": {
    "execution": {
     "iopub.execute_input": "2024-04-10T18:12:35.284971Z",
     "iopub.status.busy": "2024-04-10T18:12:35.284849Z",
     "iopub.status.idle": "2024-04-10T18:12:35.517786Z",
     "shell.execute_reply": "2024-04-10T18:12:35.516895Z",
     "shell.execute_reply.started": "2024-04-10T18:12:35.284959Z"
    }
   },
   "outputs": [
    {
     "ename": "FileNotFoundError",
     "evalue": "[Errno 2] No such file or directory: '../data/202402/Latiss_tractspatchs_202402.pickle'",
     "output_type": "error",
     "traceback": [
      "\u001b[0;31m---------------------------------------------------------------------------\u001b[0m",
      "\u001b[0;31mFileNotFoundError\u001b[0m                         Traceback (most recent call last)",
      "Cell \u001b[0;32mIn[9], line 3\u001b[0m\n\u001b[1;32m      1\u001b[0m \u001b[38;5;66;03m# Load data (deserialize)\u001b[39;00m\n\u001b[1;32m      2\u001b[0m \u001b[38;5;28;01mimport\u001b[39;00m \u001b[38;5;21;01mpickle\u001b[39;00m\n\u001b[0;32m----> 3\u001b[0m \u001b[38;5;28;01mwith\u001b[39;00m \u001b[38;5;28;43mopen\u001b[39;49m\u001b[43m(\u001b[49m\u001b[38;5;124;43m'\u001b[39;49m\u001b[38;5;124;43m../data/202402/Latiss_tractspatchs_202402.pickle\u001b[39;49m\u001b[38;5;124;43m'\u001b[39;49m\u001b[43m,\u001b[49m\u001b[43m \u001b[49m\u001b[38;5;124;43m'\u001b[39;49m\u001b[38;5;124;43mrb\u001b[39;49m\u001b[38;5;124;43m'\u001b[39;49m\u001b[43m)\u001b[49m \u001b[38;5;28;01mas\u001b[39;00m handle:\n\u001b[1;32m      4\u001b[0m     tracts_patchs_dict \u001b[38;5;241m=\u001b[39m pickle\u001b[38;5;241m.\u001b[39mload(handle)\n",
      "File \u001b[0;32m/opt/lsst/software/stack/conda/miniconda3-py38_4.9.2/envs/lsst-scipipe-8.0.0/lib/python3.11/site-packages/IPython/core/interactiveshell.py:324\u001b[0m, in \u001b[0;36m_modified_open\u001b[0;34m(file, *args, **kwargs)\u001b[0m\n\u001b[1;32m    317\u001b[0m \u001b[38;5;28;01mif\u001b[39;00m file \u001b[38;5;129;01min\u001b[39;00m {\u001b[38;5;241m0\u001b[39m, \u001b[38;5;241m1\u001b[39m, \u001b[38;5;241m2\u001b[39m}:\n\u001b[1;32m    318\u001b[0m     \u001b[38;5;28;01mraise\u001b[39;00m \u001b[38;5;167;01mValueError\u001b[39;00m(\n\u001b[1;32m    319\u001b[0m         \u001b[38;5;124mf\u001b[39m\u001b[38;5;124m\"\u001b[39m\u001b[38;5;124mIPython won\u001b[39m\u001b[38;5;124m'\u001b[39m\u001b[38;5;124mt let you open fd=\u001b[39m\u001b[38;5;132;01m{\u001b[39;00mfile\u001b[38;5;132;01m}\u001b[39;00m\u001b[38;5;124m by default \u001b[39m\u001b[38;5;124m\"\u001b[39m\n\u001b[1;32m    320\u001b[0m         \u001b[38;5;124m\"\u001b[39m\u001b[38;5;124mas it is likely to crash IPython. If you know what you are doing, \u001b[39m\u001b[38;5;124m\"\u001b[39m\n\u001b[1;32m    321\u001b[0m         \u001b[38;5;124m\"\u001b[39m\u001b[38;5;124myou can use builtins\u001b[39m\u001b[38;5;124m'\u001b[39m\u001b[38;5;124m open.\u001b[39m\u001b[38;5;124m\"\u001b[39m\n\u001b[1;32m    322\u001b[0m     )\n\u001b[0;32m--> 324\u001b[0m \u001b[38;5;28;01mreturn\u001b[39;00m \u001b[43mio_open\u001b[49m\u001b[43m(\u001b[49m\u001b[43mfile\u001b[49m\u001b[43m,\u001b[49m\u001b[43m \u001b[49m\u001b[38;5;241;43m*\u001b[39;49m\u001b[43margs\u001b[49m\u001b[43m,\u001b[49m\u001b[43m \u001b[49m\u001b[38;5;241;43m*\u001b[39;49m\u001b[38;5;241;43m*\u001b[39;49m\u001b[43mkwargs\u001b[49m\u001b[43m)\u001b[49m\n",
      "\u001b[0;31mFileNotFoundError\u001b[0m: [Errno 2] No such file or directory: '../data/202402/Latiss_tractspatchs_202402.pickle'"
     ]
    }
   ],
   "source": [
    "# Load data (deserialize)\n",
    "import pickle\n",
    "with open('../data/202402/Latiss_tractspatchs_202402.pickle', 'rb') as handle:\n",
    "    tracts_patchs_dict = pickle.load(handle)"
   ]
  },
  {
   "cell_type": "code",
   "execution_count": null,
   "id": "d716c112-aec6-40a5-9bfa-1d379327a57c",
   "metadata": {
    "execution": {
     "iopub.status.busy": "2024-04-10T18:12:35.518251Z",
     "iopub.status.idle": "2024-04-10T18:12:35.518422Z",
     "shell.execute_reply": "2024-04-10T18:12:35.518344Z",
     "shell.execute_reply.started": "2024-04-10T18:12:35.518335Z"
    }
   },
   "outputs": [],
   "source": [
    "tracts_patchs_dict"
   ]
  },
  {
   "cell_type": "code",
   "execution_count": null,
   "id": "1cbd1adb-fcd4-4527-a30f-52e64ae79156",
   "metadata": {
    "execution": {
     "iopub.status.busy": "2024-04-10T18:12:35.519010Z",
     "iopub.status.idle": "2024-04-10T18:12:35.519187Z",
     "shell.execute_reply": "2024-04-10T18:12:35.519111Z",
     "shell.execute_reply.started": "2024-04-10T18:12:35.519103Z"
    }
   },
   "outputs": [],
   "source": [
    "list_of_tracts = list(tracts_patchs_dict.keys())\n",
    "list_of_tracts"
   ]
  },
  {
   "cell_type": "code",
   "execution_count": null,
   "id": "8c81ef60-4e7a-4592-9e89-6b5ab9884d57",
   "metadata": {
    "execution": {
     "iopub.status.busy": "2024-04-10T18:12:35.519626Z",
     "iopub.status.idle": "2024-04-10T18:12:35.519773Z",
     "shell.execute_reply": "2024-04-10T18:12:35.519706Z",
     "shell.execute_reply.started": "2024-04-10T18:12:35.519699Z"
    }
   },
   "outputs": [],
   "source": [
    "npatches = 0\n",
    "for itract in list_of_tracts:\n",
    "    npatches += len(tracts_patchs_dict[itract])\n",
    "print(npatches)    "
   ]
  },
  {
   "cell_type": "code",
   "execution_count": null,
   "id": "151d6922-eeac-4a08-9c6c-8caf29f510ac",
   "metadata": {
    "execution": {
     "iopub.status.busy": "2024-04-10T18:12:35.520475Z",
     "iopub.status.idle": "2024-04-10T18:12:35.520631Z",
     "shell.execute_reply": "2024-04-10T18:12:35.520556Z",
     "shell.execute_reply.started": "2024-04-10T18:12:35.520549Z"
    }
   },
   "outputs": [],
   "source": [
    "import numpy as np\n",
    "\n",
    "import matplotlib.pyplot as plt\n",
    "import matplotlib\n",
    "from matplotlib.patches import Polygon\n",
    "from matplotlib.collections import PatchCollection\n",
    "\n",
    "numTracts=0\n",
    "# collection of polygons\n",
    "patches = [] # container of all polygons\n",
    "\n",
    "\n",
    "tract_polygon_dict = {}\n",
    "tract_corners_dict = {}\n",
    "tract_ra_dict = {}\n",
    "tract_dec_dict = {}\n",
    "tract_corners_dict = {}\n",
    "\n",
    "# loop on tracts\n",
    "#---------------\n",
    "for tractInfo in skymap:\n",
    "    tractID = tractInfo.getId()\n",
    "    if tractID not in list_of_tracts:\n",
    "        continue\n",
    "    numTracts+=1  \n",
    "\n",
    "    # container for each tract\n",
    "    container_polygons_fortract = []\n",
    "    container_ra_fortract = []\n",
    "    container_dec_fortract = []\n",
    "    container_patch_corners_fortract_dict = {}\n",
    "\n",
    "    # loop on patch\n",
    "    #--------------\n",
    "    for patch in tractInfo:\n",
    "        patchID = patch.getSequentialIndex()\n",
    "        if patchID not in tracts_patchs_dict[tractID]:\n",
    "            continue\n",
    "        ibb=patch.getInnerBBox()\n",
    "        tWCS=tractInfo.getWcs()\n",
    "        corners = []\n",
    "       \n",
    "        # loop on the 4 corners\n",
    "        for icorn,corner in enumerate(ibb.getCorners()):\n",
    "            p = geom.Point2D(corner.getX(), corner.getY())\n",
    "            coord = tWCS.pixelToSky(p)\n",
    "            corners.append([coord.getRa().asDegrees(), coord.getDec().asDegrees()])\n",
    "            container_ra_fortract.append(coord.getRa().asDegrees()) \n",
    "            container_dec_fortract.append(coord.getDec().asDegrees()) \n",
    "        #print(f\"==={numTracts}==={tractID}:{patchID}==========\")    \n",
    "        corners_array = np.array(corners)\n",
    "        corners_array = np.append(corners_array,[corners_array[0]],axis=0)\n",
    "        polygon = Polygon(corners_array,closed=True)\n",
    "        patches.append(polygon)\n",
    "        container_polygons_fortract.append(polygon)\n",
    "        container_patch_corners_fortract_dict[patchID] = corners_array\n",
    "        \n",
    "        \n",
    "    tract_polygon_dict[tractID] = container_polygons_fortract\n",
    "    tract_ra_dict[tractID] = np.array(container_ra_fortract)\n",
    "    tract_dec_dict[tractID] = np.array(container_dec_fortract)\n",
    "    tract_corners_dict[tractID] = container_patch_corners_fortract_dict    \n",
    "print(numTracts)   \n",
    "\n"
   ]
  },
  {
   "cell_type": "code",
   "execution_count": null,
   "id": "8af3e4eb-d372-4d6b-b1f9-8d0484764e04",
   "metadata": {
    "execution": {
     "iopub.status.busy": "2024-04-10T18:12:35.521069Z",
     "iopub.status.idle": "2024-04-10T18:12:35.521217Z",
     "shell.execute_reply": "2024-04-10T18:12:35.521148Z",
     "shell.execute_reply.started": "2024-04-10T18:12:35.521142Z"
    }
   },
   "outputs": [],
   "source": [
    "tract_ra_dict[382]"
   ]
  },
  {
   "cell_type": "markdown",
   "id": "1658da9b-5ef2-442e-87d6-bc98fb8e3dc7",
   "metadata": {},
   "source": [
    "## Plot all tracts together"
   ]
  },
  {
   "cell_type": "code",
   "execution_count": null,
   "id": "44ff166d-10bf-4c4a-9693-44d5bc206b91",
   "metadata": {
    "execution": {
     "iopub.status.busy": "2024-04-10T18:12:35.521825Z",
     "iopub.status.idle": "2024-04-10T18:12:35.521981Z",
     "shell.execute_reply": "2024-04-10T18:12:35.521905Z",
     "shell.execute_reply.started": "2024-04-10T18:12:35.521898Z"
    }
   },
   "outputs": [],
   "source": [
    "list_of_tracts"
   ]
  },
  {
   "cell_type": "code",
   "execution_count": null,
   "id": "366cea8b-5ca4-4fe3-bb49-ca6540ae2413",
   "metadata": {
    "execution": {
     "iopub.status.busy": "2024-04-10T18:12:35.522514Z",
     "iopub.status.idle": "2024-04-10T18:12:35.522663Z",
     "shell.execute_reply": "2024-04-10T18:12:35.522592Z",
     "shell.execute_reply.started": "2024-04-10T18:12:35.522585Z"
    }
   },
   "outputs": [],
   "source": [
    "fig, ax = plt.subplots(figsize=(8,8))\n",
    "\n",
    "# loop on tracts\n",
    "for itract in list_of_tracts:\n",
    "\n",
    "    xmean = tract_ra_dict[itract].mean()\n",
    "    ymean = tract_dec_dict[itract].mean()\n",
    "\n",
    "    #extract the patches corners\n",
    "    container_patch_corners_fortract_dict = tract_corners_dict[itract]   \n",
    "    # find color\n",
    "    nPatches = len(container_patch_corners_fortract_dict)\n",
    "    sns.color_palette(\"hls\", nPatches)\n",
    "    my_cmap = ListedColormap(sns.color_palette(\"hls\", nPatches))\n",
    "\n",
    "    # loop on patches and drax patches\n",
    "    idx=0\n",
    "    for ipatch in container_patch_corners_fortract_dict.keys():\n",
    "        corners = container_patch_corners_fortract_dict[ipatch]\n",
    "\n",
    "        xvals = corners[:,0]\n",
    "        yvals = corners[:,1]  \n",
    "\n",
    "        \n",
    "        ax.plot(xvals,yvals,lw=1,color= my_cmap.colors[idx])\n",
    "        idx+=1\n",
    "\n",
    "    # show tract number\n",
    "    ax.text(xmean, ymean ,str(itract), horizontalalignment='center',verticalalignment='top',fontsize=10)\n",
    "    \n",
    "\n",
    "title = f\"AUXTEL 2023-24 : tract {itract}, npatches{nPatches}\"\n",
    "ax.set_title(title)\n",
    "ax.set_xlabel(\"ra\")\n",
    "ax.set_ylabel(\"dec\")\n",
    "#plt.gca().set_aspect('equal')\n",
    "ax.axis('equal')\n",
    "ax.set_xlim([0,360.])\n",
    "ax.set_ylim([-80., 10.])\n",
    "ax.grid()\n",
    "plt.show()"
   ]
  },
  {
   "cell_type": "markdown",
   "id": "99fb72df-28a2-414f-a7d8-300ba417c52c",
   "metadata": {},
   "source": [
    "## Plot tract One by One"
   ]
  },
  {
   "cell_type": "code",
   "execution_count": null,
   "id": "41c2e51a-6a0b-44c3-a162-f9719f318c81",
   "metadata": {
    "execution": {
     "iopub.status.busy": "2024-04-10T18:12:35.523278Z",
     "iopub.status.idle": "2024-04-10T18:12:35.523431Z",
     "shell.execute_reply": "2024-04-10T18:12:35.523361Z",
     "shell.execute_reply.started": "2024-04-10T18:12:35.523354Z"
    }
   },
   "outputs": [],
   "source": [
    "# loop on tracts\n",
    "for itract in list_of_tracts:\n",
    "\n",
    "   \n",
    "    # extract the Polygons    \n",
    "    patches = tract_polygon_dict[itract]\n",
    "\n",
    "    # find color\n",
    "    nPatches = len(tracts_patchs_dict[itract])\n",
    "    sns.color_palette(\"hls\", nPatches)\n",
    "    my_cmap = ListedColormap(sns.color_palette(\"hls\", nPatches))\n",
    "\n",
    "    ra = tract_ra_dict[itract]\n",
    "    dec = tract_dec_dict[itract]\n",
    "    Xmin = ra.min()\n",
    "    Xmax = ra.max()\n",
    "    Ymin = dec.min()\n",
    "    Ymax = dec.max()\n",
    "    \n",
    "\n",
    "    fig, ax = plt.subplots(figsize=(6,6))\n",
    "    #p = PatchCollection(patches, cmap=mpl.cm.jet, alpha=0.4)\n",
    "    p = PatchCollection(patches, cmap=my_cmap, alpha=1)\n",
    "\n",
    "    #colors =   my_cmap.colors\n",
    "    #p.set_array(np.array(colors))\n",
    "    colors = 64*np.random.rand(len(patches))\n",
    "    p.set_array(np.array(colors))\n",
    "\n",
    "    ax.add_collection(p)  \n",
    "\n",
    "    ax.set_xlim([Xmin,Xmax])\n",
    "    ax.set_ylim([Ymin, Ymax])\n",
    "\n",
    "    title = f\"AUXTEL 2023-24 : tract {itract}, npatches{nPatches}\"\n",
    "    ax.set_title(title)\n",
    "    ax.set_xlabel(\"ra\")\n",
    "    ax.set_ylabel(\"dec\")\n",
    "    #plt.gca().set_aspect('equal')\n",
    "    ax.axis('equal')\n",
    "    ax.grid()\n",
    "    plt.show()"
   ]
  },
  {
   "cell_type": "code",
   "execution_count": null,
   "id": "4573155f-957b-403e-ae41-9d389019682a",
   "metadata": {},
   "outputs": [],
   "source": []
  }
 ],
 "metadata": {
  "kernelspec": {
   "display_name": "LSST",
   "language": "python",
   "name": "lsst"
  },
  "language_info": {
   "codemirror_mode": {
    "name": "ipython",
    "version": 3
   },
   "file_extension": ".py",
   "mimetype": "text/x-python",
   "name": "python",
   "nbconvert_exporter": "python",
   "pygments_lexer": "ipython3",
   "version": "3.11.7"
  }
 },
 "nbformat": 4,
 "nbformat_minor": 5
}
