{
 "cells": [
  {
   "cell_type": "markdown",
   "id": "0b8c2138-5194-4d03-8b77-be24e2cc8ee3",
   "metadata": {},
   "source": [
    "# Generate a dictionnary of Dictionnary with radec of tracts"
   ]
  },
  {
   "cell_type": "markdown",
   "id": "740e34fb-3fef-45a8-941b-c229742ab016",
   "metadata": {},
   "source": [
    " work with Weakly_2024_07\n",
    "- use jupyter kernel LSST\n",
    "\n",
    "\n",
    "- author : Sylvie Dagoret-Campagne\n",
    "- affiliation : IJCLab\n",
    "- creation date : 2024/02/29\n",
    "- update : 2024/02/29\n"
   ]
  },
  {
   "cell_type": "code",
   "execution_count": 1,
   "id": "ed2c3410-fe83-432e-ab87-9f4513fa8d8b",
   "metadata": {
    "execution": {
     "iopub.execute_input": "2024-03-05T09:59:19.531910Z",
     "iopub.status.busy": "2024-03-05T09:59:19.531783Z",
     "iopub.status.idle": "2024-03-05T09:59:19.896009Z",
     "shell.execute_reply": "2024-03-05T09:59:19.895484Z",
     "shell.execute_reply.started": "2024-03-05T09:59:19.531897Z"
    }
   },
   "outputs": [
    {
     "name": "stdout",
     "output_type": "stream",
     "text": [
      "analysis_tools        LOCAL:/home/d/dagoret/repos/repos_w_2024_07/analysis_tools \tsetup\n",
      "atmospec              LOCAL:/home/d/dagoret/repos/repos_w_2024_07/atmospec \tsetup\n",
      "eups                  LOCAL:/opt/lsst/software/stack/conda/miniconda3-py38_4.9.2/envs/lsst-scipipe-8.0.0/eups \tsetup\n",
      "spectractor           LOCAL:/home/d/dagoret/repos/repos_w_2024_07/Spectractor \tsetup\n"
     ]
    }
   ],
   "source": [
    "! eups list -s | grep LOCAL"
   ]
  },
  {
   "cell_type": "code",
   "execution_count": 2,
   "id": "70918d81-0cf6-4b0a-8f61-f5e5bec5b0e7",
   "metadata": {
    "execution": {
     "iopub.execute_input": "2024-03-05T09:59:19.896917Z",
     "iopub.status.busy": "2024-03-05T09:59:19.896767Z",
     "iopub.status.idle": "2024-03-05T09:59:20.248568Z",
     "shell.execute_reply": "2024-03-05T09:59:20.248005Z",
     "shell.execute_reply.started": "2024-03-05T09:59:19.896902Z"
    }
   },
   "outputs": [
    {
     "name": "stdout",
     "output_type": "stream",
     "text": [
      "   g4213664e8e+903d45c1e3 \tcurrent w_2024_08 setup\n"
     ]
    }
   ],
   "source": [
    "! eups list -s lsst_distrib"
   ]
  },
  {
   "cell_type": "code",
   "execution_count": 3,
   "id": "ce6aa72f-2f5d-4b84-b76a-e5afc7828e07",
   "metadata": {
    "execution": {
     "iopub.execute_input": "2024-03-05T09:59:20.249450Z",
     "iopub.status.busy": "2024-03-05T09:59:20.249296Z",
     "iopub.status.idle": "2024-03-05T09:59:21.209216Z",
     "shell.execute_reply": "2024-03-05T09:59:21.208773Z",
     "shell.execute_reply.started": "2024-03-05T09:59:20.249435Z"
    }
   },
   "outputs": [],
   "source": [
    "# general python packages\n",
    "import numpy as np\n",
    "import matplotlib.pyplot as plt\n",
    "import matplotlib as mpl\n",
    "from astropy.visualization import ZScaleInterval, LinearStretch, ImageNormalize\n",
    "\n",
    "\n",
    "from matplotlib.patches import Polygon\n",
    "from matplotlib.collections import PatchCollection\n",
    "\n",
    "# LSST packages\n",
    "from lsst.daf.butler import Butler\n",
    "import lsst.geom as geom\n",
    "\n",
    "# allow interactive plots\n",
    "#%matplotlib widget\n",
    "%matplotlib inline\n",
    "\n",
    "# default plot style is accessible\n",
    "plt.style.use('tableau-colorblind10')\n",
    "\n",
    "from collections import OrderedDict"
   ]
  },
  {
   "cell_type": "code",
   "execution_count": 4,
   "id": "588c0e0d-fae8-46c3-a258-a64ef076445b",
   "metadata": {
    "execution": {
     "iopub.execute_input": "2024-03-05T09:59:21.210739Z",
     "iopub.status.busy": "2024-03-05T09:59:21.210601Z",
     "iopub.status.idle": "2024-03-05T09:59:21.828672Z",
     "shell.execute_reply": "2024-03-05T09:59:21.828226Z",
     "shell.execute_reply.started": "2024-03-05T09:59:21.210725Z"
    }
   },
   "outputs": [],
   "source": [
    "# A repo which exists at the USDF, contains data from various instruments and\n",
    "REPO = '/repo/embargo'\n",
    "\n",
    "from lsst.daf.butler import Butler\n",
    "from pprint import pprint\n",
    "\n",
    "# Here we specify a default collection to use\n",
    "#my_collection = \"LATISS/runs/AUXTEL_DRP_IMAGING_2023-11A-10A-09AB-08ABC-07AB-05AB/w_2023_46/PREOPS-4553\"\n",
    "my_collection = \"LATISS/runs/AUXTEL_DRP_IMAGING_20230509_20240201/w_2024_05/PREOPS-4871\"\n",
    "butler = Butler(REPO, collections=my_collection)\n",
    "registry = butler.registry"
   ]
  },
  {
   "cell_type": "code",
   "execution_count": 5,
   "id": "b02a978f-a95f-40c7-b9dc-920c576db844",
   "metadata": {
    "execution": {
     "iopub.execute_input": "2024-03-05T09:59:21.829357Z",
     "iopub.status.busy": "2024-03-05T09:59:21.829208Z",
     "iopub.status.idle": "2024-03-05T09:59:21.850004Z",
     "shell.execute_reply": "2024-03-05T09:59:21.849627Z",
     "shell.execute_reply.started": "2024-03-05T09:59:21.829340Z"
    }
   },
   "outputs": [
    {
     "data": {
      "text/plain": [
       "[detector.RecordClass(instrument='LATISS', id=0, full_name='RXX_S00', name_in_raft='RXX_S00', raft=None, purpose='SCIENCE')]"
      ]
     },
     "execution_count": 5,
     "metadata": {},
     "output_type": "execute_result"
    }
   ],
   "source": [
    "list(butler.registry.queryDimensionRecords('detector', where=\"instrument='LATISS' AND detector.id IN (0..8)\"))"
   ]
  },
  {
   "cell_type": "markdown",
   "id": "9e212fa7-8be2-4874-b534-9d6e0918fa74",
   "metadata": {},
   "source": [
    "### access to skymap\n",
    "\n",
    "https://github.com/sylvielsstfr/MyDP0LSS/blob/main/myDP0.2/TrackAndPatch/PlotTractAndPatchs_butler.ipynb"
   ]
  },
  {
   "cell_type": "code",
   "execution_count": 6,
   "id": "62e69b18-d122-488b-9f62-3fc5e2342279",
   "metadata": {
    "execution": {
     "iopub.execute_input": "2024-03-05T09:59:21.850702Z",
     "iopub.status.busy": "2024-03-05T09:59:21.850569Z",
     "iopub.status.idle": "2024-03-05T09:59:21.853955Z",
     "shell.execute_reply": "2024-03-05T09:59:21.853613Z",
     "shell.execute_reply.started": "2024-03-05T09:59:21.850690Z"
    }
   },
   "outputs": [],
   "source": [
    "def get_corners_radec(wcs, bbox):\n",
    "    \"\"\"\n",
    "    Return the corners in RA,Dec in degrees given the WCS and bounding box for an image.\n",
    "\n",
    "    Parameters\n",
    "    ----------\n",
    "    wcs: image WCS returned by the Butler\n",
    "    bbox: bounding box returned by the Butler\n",
    "\n",
    "    Returns\n",
    "    -------\n",
    "    corners_ra, corners_dec in decimal degrees\n",
    "    \"\"\"\n",
    "\n",
    "    corners_x = [bbox.beginX, bbox.beginX, bbox.endX, bbox.endX]\n",
    "    corners_y = [bbox.beginY, bbox.endY, bbox.endY, bbox.beginY]\n",
    "    corners_ra = []\n",
    "    corners_dec = []\n",
    "    for i in range(4):\n",
    "        radec = wcs.pixelToSky(corners_x[i], corners_y[i])\n",
    "        corners_ra.append(radec.getRa().asDegrees())\n",
    "        corners_dec.append(radec.getDec().asDegrees())\n",
    "    \n",
    "    return corners_ra, corners_dec"
   ]
  },
  {
   "cell_type": "markdown",
   "id": "a7587b10-c178-4537-9c34-60867b69fa01",
   "metadata": {},
   "source": [
    "## Config"
   ]
  },
  {
   "cell_type": "code",
   "execution_count": 7,
   "id": "c2bca87f-8b3a-44ee-afa5-5b8e0b8f9b9d",
   "metadata": {
    "execution": {
     "iopub.execute_input": "2024-03-05T09:59:21.854556Z",
     "iopub.status.busy": "2024-03-05T09:59:21.854432Z",
     "iopub.status.idle": "2024-03-05T09:59:21.974273Z",
     "shell.execute_reply": "2024-03-05T09:59:21.973837Z",
     "shell.execute_reply.started": "2024-03-05T09:59:21.854545Z"
    },
    "tags": []
   },
   "outputs": [],
   "source": [
    "datasetRefs = butler.registry.queryDatasets(datasetType='skyMap', collections=my_collection, where= \"instrument='LATISS'\")"
   ]
  },
  {
   "cell_type": "code",
   "execution_count": 8,
   "id": "70cc3c91-c505-48aa-aec2-f1f8b342b127",
   "metadata": {
    "execution": {
     "iopub.execute_input": "2024-03-05T09:59:21.974997Z",
     "iopub.status.busy": "2024-03-05T09:59:21.974850Z",
     "iopub.status.idle": "2024-03-05T09:59:21.984106Z",
     "shell.execute_reply": "2024-03-05T09:59:21.983722Z",
     "shell.execute_reply.started": "2024-03-05T09:59:21.974984Z"
    }
   },
   "outputs": [
    {
     "name": "stdout",
     "output_type": "stream",
     "text": [
      "DatasetRef(DatasetType('skyMap', {skymap}, SkyMap), {skymap: 'hsc_rings_v1'}, run='skymaps', id=6e7fc928-0dc3-4e1b-ae63-5fb63be46216)\n",
      "DatasetRef(DatasetType('skyMap', {skymap}, SkyMap), {skymap: 'latiss_v1'}, run='skymaps', id=f677ff86-2b1c-4094-9dad-e39395052cd1)\n",
      "DatasetRef(DatasetType('skyMap', {skymap}, SkyMap), {skymap: 'lsst_cells_v1'}, run='skymaps', id=857e0e80-8d08-44f4-a81b-84227b064d5b)\n"
     ]
    }
   ],
   "source": [
    "for i, ref in enumerate(datasetRefs):\n",
    "    pprint(ref)\n",
    "    skymap_id = ref.dataId[\"skymap\"]\n",
    "    if skymap_id ==  'latiss_v1':\n",
    "        skymap = ref"
   ]
  },
  {
   "cell_type": "code",
   "execution_count": 9,
   "id": "0e749eb3-5a4c-430f-9547-148ffb974b4b",
   "metadata": {
    "execution": {
     "iopub.execute_input": "2024-03-05T09:59:21.984783Z",
     "iopub.status.busy": "2024-03-05T09:59:21.984617Z",
     "iopub.status.idle": "2024-03-05T09:59:22.101208Z",
     "shell.execute_reply": "2024-03-05T09:59:22.100786Z",
     "shell.execute_reply.started": "2024-03-05T09:59:21.984764Z"
    }
   },
   "outputs": [],
   "source": [
    "skymap = butler.get(ref)"
   ]
  },
  {
   "cell_type": "code",
   "execution_count": 10,
   "id": "5b00dd9c-d87b-4c0e-9811-4cdbb06f6d76",
   "metadata": {
    "execution": {
     "iopub.execute_input": "2024-03-05T09:59:22.102103Z",
     "iopub.status.busy": "2024-03-05T09:59:22.101781Z",
     "iopub.status.idle": "2024-03-05T09:59:22.104465Z",
     "shell.execute_reply": "2024-03-05T09:59:22.104118Z",
     "shell.execute_reply.started": "2024-03-05T09:59:22.102089Z"
    }
   },
   "outputs": [],
   "source": [
    "my_tracts = [ 5616,5634,5615,10644,383,8188,3863,455,452,5839,10643,382]"
   ]
  },
  {
   "cell_type": "code",
   "execution_count": 11,
   "id": "a88df013-ca76-4aa3-b47f-e1e0537979ca",
   "metadata": {
    "execution": {
     "iopub.execute_input": "2024-03-05T09:59:22.105024Z",
     "iopub.status.busy": "2024-03-05T09:59:22.104903Z",
     "iopub.status.idle": "2024-03-05T09:59:22.248357Z",
     "shell.execute_reply": "2024-03-05T09:59:22.247969Z",
     "shell.execute_reply.started": "2024-03-05T09:59:22.105013Z"
    }
   },
   "outputs": [
    {
     "data": {
      "text/plain": [
       "Index2D(x=3, y=2)"
      ]
     },
     "execution_count": 11,
     "metadata": {},
     "output_type": "execute_result"
    }
   ],
   "source": [
    "#from lsst.daf.butler import Butler\n",
    "#butler = Butler('SMALL_HSC')\n",
    "skymap = butler.get('skyMap', skymap='latiss_v1', collections=my_collection)\n",
    "tractInfo = skymap.generateTract(5616)\n",
    "patch = tractInfo[41]\n",
    "patch.getIndex()"
   ]
  },
  {
   "cell_type": "code",
   "execution_count": 12,
   "id": "cb8af27c-ce92-464d-b17d-c8b7135e4ad0",
   "metadata": {
    "execution": {
     "iopub.execute_input": "2024-03-05T09:59:22.249050Z",
     "iopub.status.busy": "2024-03-05T09:59:22.248904Z",
     "iopub.status.idle": "2024-03-05T09:59:22.250921Z",
     "shell.execute_reply": "2024-03-05T09:59:22.250576Z",
     "shell.execute_reply.started": "2024-03-05T09:59:22.249028Z"
    }
   },
   "outputs": [],
   "source": [
    "#for patch in tractInfo:\n",
    "#    print(patch.getSequentialIndex())"
   ]
  },
  {
   "cell_type": "code",
   "execution_count": 13,
   "id": "01a04046-b5ef-435d-9937-4d03b675cd0d",
   "metadata": {
    "execution": {
     "iopub.execute_input": "2024-03-05T09:59:22.251486Z",
     "iopub.status.busy": "2024-03-05T09:59:22.251366Z",
     "iopub.status.idle": "2024-03-05T09:59:22.270535Z",
     "shell.execute_reply": "2024-03-05T09:59:22.270179Z",
     "shell.execute_reply.started": "2024-03-05T09:59:22.251475Z"
    }
   },
   "outputs": [],
   "source": [
    "out_dict = {}"
   ]
  },
  {
   "cell_type": "code",
   "execution_count": 14,
   "id": "a466bd42-382c-473a-8d4f-1117afaa52d9",
   "metadata": {
    "execution": {
     "iopub.execute_input": "2024-03-05T09:59:22.271093Z",
     "iopub.status.busy": "2024-03-05T09:59:22.270964Z",
     "iopub.status.idle": "2024-03-05T09:59:22.275423Z",
     "shell.execute_reply": "2024-03-05T09:59:22.275008Z",
     "shell.execute_reply.started": "2024-03-05T09:59:22.271082Z"
    }
   },
   "outputs": [],
   "source": [
    "# Load data (deserialize)\n",
    "import pickle\n",
    "with open('../data/202402/Latiss_tractspatchs_202402.pickle', 'rb') as handle:\n",
    "    tracts_patchs_dict = pickle.load(handle)"
   ]
  },
  {
   "cell_type": "code",
   "execution_count": 15,
   "id": "d716c112-aec6-40a5-9bfa-1d379327a57c",
   "metadata": {
    "execution": {
     "iopub.execute_input": "2024-03-05T09:59:22.276060Z",
     "iopub.status.busy": "2024-03-05T09:59:22.275922Z",
     "iopub.status.idle": "2024-03-05T09:59:22.282258Z",
     "shell.execute_reply": "2024-03-05T09:59:22.281885Z",
     "shell.execute_reply.started": "2024-03-05T09:59:22.276048Z"
    }
   },
   "outputs": [
    {
     "data": {
      "text/plain": [
       "{10644: array([189, 183, 184, 164, 185, 203, 201, 207, 182, 162, 166, 165, 181,\n",
       "        161, 188, 208, 180, 202]),\n",
       " 5634: array([ 90, 110,  71, 112,  73, 109,  93,  92,  91,  53,  72,  55,  52,\n",
       "        111,  54,  74]),\n",
       " 3863: array([223, 261, 241, 242, 262, 260, 243, 222, 224]),\n",
       " 452: array([41, 62, 22, 25, 23, 44, 42, 63, 43, 24]),\n",
       " 5614: array([250, 251, 230, 210, 212, 232, 211, 213, 249, 229, 231]),\n",
       " 5616: array([355, 358, 316, 338, 356, 336, 357, 337, 317, 335, 315, 334]),\n",
       " 5615: array([274, 331, 312, 332, 294, 295, 293, 313, 333, 314, 275, 276]),\n",
       " 5839: array([9, 8, 7]),\n",
       " 10643: array([190, 171]),\n",
       " 455: array([51, 52, 15, 33, 14, 53, 34, 13, 32]),\n",
       " 382: array([343, 344, 342]),\n",
       " 3864: array([274, 238, 217, 218, 273, 255, 235, 275, 237, 257, 219, 236, 256,\n",
       "        254, 276, 216]),\n",
       " 383: array([359, 360])}"
      ]
     },
     "execution_count": 15,
     "metadata": {},
     "output_type": "execute_result"
    }
   ],
   "source": [
    "tracts_patchs_dict"
   ]
  },
  {
   "cell_type": "code",
   "execution_count": 16,
   "id": "1cbd1adb-fcd4-4527-a30f-52e64ae79156",
   "metadata": {
    "execution": {
     "iopub.execute_input": "2024-03-05T09:59:22.282827Z",
     "iopub.status.busy": "2024-03-05T09:59:22.282705Z",
     "iopub.status.idle": "2024-03-05T09:59:22.288229Z",
     "shell.execute_reply": "2024-03-05T09:59:22.287874Z",
     "shell.execute_reply.started": "2024-03-05T09:59:22.282815Z"
    }
   },
   "outputs": [
    {
     "data": {
      "text/plain": [
       "[10644, 5634, 3863, 452, 5614, 5616, 5615, 5839, 10643, 455, 382, 3864, 383]"
      ]
     },
     "execution_count": 16,
     "metadata": {},
     "output_type": "execute_result"
    }
   ],
   "source": [
    "list_of_tracts = list(tracts_patchs_dict.keys())\n",
    "list_of_tracts"
   ]
  },
  {
   "cell_type": "code",
   "execution_count": 17,
   "id": "8c81ef60-4e7a-4592-9e89-6b5ab9884d57",
   "metadata": {
    "execution": {
     "iopub.execute_input": "2024-03-05T09:59:22.288820Z",
     "iopub.status.busy": "2024-03-05T09:59:22.288689Z",
     "iopub.status.idle": "2024-03-05T09:59:22.294845Z",
     "shell.execute_reply": "2024-03-05T09:59:22.294481Z",
     "shell.execute_reply.started": "2024-03-05T09:59:22.288808Z"
    }
   },
   "outputs": [
    {
     "name": "stdout",
     "output_type": "stream",
     "text": [
      "123\n"
     ]
    }
   ],
   "source": [
    "npatches = 0\n",
    "for itract in list_of_tracts:\n",
    "    npatches += len(tracts_patchs_dict[itract])\n",
    "print(npatches)    "
   ]
  },
  {
   "cell_type": "code",
   "execution_count": 18,
   "id": "151d6922-eeac-4a08-9c6c-8caf29f510ac",
   "metadata": {
    "execution": {
     "iopub.execute_input": "2024-03-05T09:59:22.295607Z",
     "iopub.status.busy": "2024-03-05T09:59:22.295351Z",
     "iopub.status.idle": "2024-03-05T09:59:37.581121Z",
     "shell.execute_reply": "2024-03-05T09:59:37.580667Z",
     "shell.execute_reply.started": "2024-03-05T09:59:22.295595Z"
    }
   },
   "outputs": [
    {
     "name": "stdout",
     "output_type": "stream",
     "text": [
      "13\n"
     ]
    }
   ],
   "source": [
    "import numpy as np\n",
    "\n",
    "import matplotlib.pyplot as plt\n",
    "import matplotlib\n",
    "\n",
    "\n",
    "numTracts=0\n",
    "# collection of polygons\n",
    "\n",
    "tract_ramin_dict = {}\n",
    "tract_ramax_dict = {}\n",
    "tract_decmin_dict = {}\n",
    "tract_decmax_dict = {}\n",
    "\n",
    "tract_borders_dict = OrderedDict()\n",
    "\n",
    "# loop on tracts\n",
    "#---------------\n",
    "for tractInfo in skymap:\n",
    "    tractID = tractInfo.getId()\n",
    "    if tractID not in list_of_tracts:\n",
    "        continue\n",
    "    numTracts+=1  \n",
    "\n",
    "    # container for each tract\n",
    "\n",
    "    container_ra_fortract = []\n",
    "    container_dec_fortract = []\n",
    "\n",
    "\n",
    "    # loop on patch\n",
    "    #--------------\n",
    "  \n",
    "    for patch in tractInfo:\n",
    "       \n",
    "        patchID = patch.getSequentialIndex()\n",
    "        if patchID not in tracts_patchs_dict[tractID]:\n",
    "            continue\n",
    "        ibb=patch.getInnerBBox()\n",
    "        tWCS=tractInfo.getWcs()\n",
    "        corners = []\n",
    "        # loop on the 4 corners\n",
    "        for icorn,corner in enumerate(ibb.getCorners()):\n",
    "            p = geom.Point2D(corner.getX(), corner.getY())\n",
    "            coord = tWCS.pixelToSky(p)\n",
    "\n",
    "            # the corners\n",
    "            corners.append([coord.getRa().asDegrees(), coord.getDec().asDegrees()])\n",
    "            #container_ra_fortract.append(coord.getRa().asDegrees()) \n",
    "            #container_dec_fortract.append(coord.getDec().asDegrees()) \n",
    "\n",
    "            container_ra_fortract.append(coord.getRa().asRadians()) \n",
    "            container_dec_fortract.append(coord.getDec().asRadians())  \n",
    "            \n",
    "        ## all corners of the patch\n",
    "      \n",
    "        \n",
    "    tract_ramin_dict[tractID] = np.array(container_ra_fortract).min()\n",
    "    tract_ramax_dict[tractID] = np.array(container_ra_fortract).max()\n",
    "    tract_decmin_dict[tractID] = np.array(container_dec_fortract).min()\n",
    "    tract_decmax_dict[tractID] = np.array(container_dec_fortract).max()\n",
    "\n",
    "    tract_borders_dict[tractID] = [tract_ramin_dict[tractID],tract_ramax_dict[tractID],\n",
    "                                   tract_decmin_dict[tractID], tract_decmax_dict[tractID],\n",
    "                                   tract_ramax_dict[tractID]-tract_ramin_dict[tractID],\n",
    "                                   tract_decmax_dict[tractID]-tract_decmin_dict[tractID]                                \n",
    "                                  ]   \n",
    "print(numTracts)   \n",
    "\n"
   ]
  },
  {
   "cell_type": "code",
   "execution_count": 19,
   "id": "578ef116-bc02-4ff3-99b5-73a944d490f5",
   "metadata": {
    "execution": {
     "iopub.execute_input": "2024-03-05T09:59:37.583366Z",
     "iopub.status.busy": "2024-03-05T09:59:37.583230Z",
     "iopub.status.idle": "2024-03-05T09:59:37.587087Z",
     "shell.execute_reply": "2024-03-05T09:59:37.586670Z",
     "shell.execute_reply.started": "2024-03-05T09:59:37.583353Z"
    }
   },
   "outputs": [],
   "source": [
    "with open('Latiss_tractspatchs_radec_radians_202402.pickle', 'wb') as handle:\n",
    "    pickle.dump(tract_borders_dict, handle)\n"
   ]
  },
  {
   "cell_type": "code",
   "execution_count": 20,
   "id": "0b2b3e16-696c-4f08-a0b3-6a7debe8392b",
   "metadata": {
    "execution": {
     "iopub.execute_input": "2024-03-05T09:59:37.587789Z",
     "iopub.status.busy": "2024-03-05T09:59:37.587666Z",
     "iopub.status.idle": "2024-03-05T09:59:37.592958Z",
     "shell.execute_reply": "2024-03-05T09:59:37.592558Z",
     "shell.execute_reply.started": "2024-03-05T09:59:37.587777Z"
    }
   },
   "outputs": [
    {
     "data": {
      "text/plain": [
       "OrderedDict([(382,\n",
       "              [0.2065700465802331,\n",
       "               0.22155865485182,\n",
       "               -1.2726889439483635,\n",
       "               -1.271071735847409,\n",
       "               0.014988608271586906,\n",
       "               0.0016172081009544481]),\n",
       "             (383,\n",
       "              [0.21477201049499856,\n",
       "               0.22483602626962165,\n",
       "               -1.272640750815245,\n",
       "               -1.2710717141796408,\n",
       "               0.010064015774623097,\n",
       "               0.0015690366356042595]),\n",
       "             (452,\n",
       "              [0.012163029535829997,\n",
       "               0.03205833709916494,\n",
       "               -1.2715736266307711,\n",
       "               -1.2671643224116567,\n",
       "               0.019895307563334942,\n",
       "               0.004409304219114452]),\n",
       "             (455,\n",
       "              [0.20944981905050372,\n",
       "               0.2245527000765992,\n",
       "               -1.2730070261633963,\n",
       "               -1.26854366806065,\n",
       "               0.015102881026095472,\n",
       "               0.004463358102746229]),\n",
       "             (3863,\n",
       "              [2.0932935109364963,\n",
       "               2.0987282120823525,\n",
       "               -0.633915933817043,\n",
       "               -0.6295301635209678,\n",
       "               0.005434701145856202,\n",
       "               0.004385770296075231]),\n",
       "             (3864,\n",
       "              [2.134213149327342,\n",
       "               2.1414331732019907,\n",
       "               -0.6339252663674501,\n",
       "               -0.6281035491662164,\n",
       "               0.007220023874648707,\n",
       "               0.0058217172012337]),\n",
       "             (5614,\n",
       "              [4.167661203505547,\n",
       "               4.174063605597529,\n",
       "               -0.42620713065038746,\n",
       "               -0.4218274115168735,\n",
       "               0.006402402091981507,\n",
       "               0.004379719133513982]),\n",
       "             (5615,\n",
       "              [4.1863989571071105,\n",
       "               4.191180921079321,\n",
       "               -0.4218535036720012,\n",
       "               -0.4160358278148337,\n",
       "               0.0047819639722108676,\n",
       "               0.00581767585716747]),\n",
       "             (5616,\n",
       "              [4.205168733340846,\n",
       "               4.214707380691914,\n",
       "               -0.4189438681720946,\n",
       "               -0.414556511546913,\n",
       "               0.009538647351067908,\n",
       "               0.004387356625181638]),\n",
       "             (5634,\n",
       "              [4.712882172177664,\n",
       "               4.719327922679259,\n",
       "               -0.43929632347738007,\n",
       "               -0.4334541326283909,\n",
       "               0.006445750501595349,\n",
       "               0.005842190848989182]),\n",
       "             (5839,\n",
       "              [4.206695122648516,\n",
       "               4.2114648029855015,\n",
       "               -0.4162511318369819,\n",
       "               -0.41479463194710864,\n",
       "               0.004769680336985438,\n",
       "               0.0014564998898732862]),\n",
       "             (10643,\n",
       "              [5.357064114424001,\n",
       "               5.358532420597848,\n",
       "               0.1160982236603337,\n",
       "               0.11900861124131912,\n",
       "               0.0014683061738471892,\n",
       "               0.002910387580985413]),\n",
       "             (10644,\n",
       "              [5.356774814262433,\n",
       "               5.371421302304506,\n",
       "               0.11465123273521334,\n",
       "               0.11901746381607148,\n",
       "               0.01464648804207247,\n",
       "               0.004366231080858138])])"
      ]
     },
     "execution_count": 20,
     "metadata": {},
     "output_type": "execute_result"
    }
   ],
   "source": [
    "tract_borders_dict"
   ]
  },
  {
   "cell_type": "code",
   "execution_count": null,
   "id": "2d6ef1f9-1ccb-47b8-b463-127fb8eff477",
   "metadata": {},
   "outputs": [],
   "source": []
  }
 ],
 "metadata": {
  "kernelspec": {
   "display_name": "LSST",
   "language": "python",
   "name": "lsst"
  },
  "language_info": {
   "codemirror_mode": {
    "name": "ipython",
    "version": 3
   },
   "file_extension": ".py",
   "mimetype": "text/x-python",
   "name": "python",
   "nbconvert_exporter": "python",
   "pygments_lexer": "ipython3",
   "version": "3.11.7"
  }
 },
 "nbformat": 4,
 "nbformat_minor": 5
}
