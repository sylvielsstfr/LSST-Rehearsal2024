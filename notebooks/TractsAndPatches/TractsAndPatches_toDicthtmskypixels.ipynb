{
 "cells": [
  {
   "cell_type": "markdown",
   "id": "0b8c2138-5194-4d03-8b77-be24e2cc8ee3",
   "metadata": {},
   "source": [
    "# Generate a dictionnary of Dictionnary of htm pixels"
   ]
  },
  {
   "cell_type": "markdown",
   "id": "740e34fb-3fef-45a8-941b-c229742ab016",
   "metadata": {},
   "source": [
    " work with Weakly_2024_07\n",
    "- use jupyter kernel LSST\n",
    "\n",
    "\n",
    "- author : Sylvie Dagoret-Campagne\n",
    "- affiliation : IJCLab\n",
    "- creation date : 2024/03/03\n",
    "- update : 2024/03/03\n"
   ]
  },
  {
   "cell_type": "code",
   "execution_count": 1,
   "id": "ed2c3410-fe83-432e-ab87-9f4513fa8d8b",
   "metadata": {
    "execution": {
     "iopub.execute_input": "2024-03-04T20:12:18.782358Z",
     "iopub.status.busy": "2024-03-04T20:12:18.782213Z",
     "iopub.status.idle": "2024-03-04T20:12:19.216654Z",
     "shell.execute_reply": "2024-03-04T20:12:19.216073Z",
     "shell.execute_reply.started": "2024-03-04T20:12:18.782343Z"
    }
   },
   "outputs": [
    {
     "name": "stdout",
     "output_type": "stream",
     "text": [
      "analysis_tools        LOCAL:/home/d/dagoret/repos/repos_w_2024_07/analysis_tools \tsetup\n",
      "atmospec              LOCAL:/home/d/dagoret/repos/repos_w_2024_07/atmospec \tsetup\n",
      "eups                  LOCAL:/opt/lsst/software/stack/conda/miniconda3-py38_4.9.2/envs/lsst-scipipe-8.0.0/eups \tsetup\n",
      "spectractor           LOCAL:/home/d/dagoret/repos/repos_w_2024_07/Spectractor \tsetup\n"
     ]
    }
   ],
   "source": [
    "! eups list -s | grep LOCAL"
   ]
  },
  {
   "cell_type": "code",
   "execution_count": 2,
   "id": "70918d81-0cf6-4b0a-8f61-f5e5bec5b0e7",
   "metadata": {
    "execution": {
     "iopub.execute_input": "2024-03-04T20:12:19.217721Z",
     "iopub.status.busy": "2024-03-04T20:12:19.217458Z",
     "iopub.status.idle": "2024-03-04T20:12:19.564996Z",
     "shell.execute_reply": "2024-03-04T20:12:19.564384Z",
     "shell.execute_reply.started": "2024-03-04T20:12:19.217698Z"
    }
   },
   "outputs": [
    {
     "name": "stdout",
     "output_type": "stream",
     "text": [
      "   g4213664e8e+903d45c1e3 \tcurrent w_2024_08 setup\n"
     ]
    }
   ],
   "source": [
    "! eups list -s lsst_distrib"
   ]
  },
  {
   "cell_type": "code",
   "execution_count": 3,
   "id": "ce6aa72f-2f5d-4b84-b76a-e5afc7828e07",
   "metadata": {
    "execution": {
     "iopub.execute_input": "2024-03-04T20:12:19.566362Z",
     "iopub.status.busy": "2024-03-04T20:12:19.565942Z",
     "iopub.status.idle": "2024-03-04T20:12:20.564100Z",
     "shell.execute_reply": "2024-03-04T20:12:20.563622Z",
     "shell.execute_reply.started": "2024-03-04T20:12:19.566341Z"
    }
   },
   "outputs": [],
   "source": [
    "# general python packages\n",
    "import numpy as np\n",
    "import matplotlib.pyplot as plt\n",
    "import matplotlib as mpl\n",
    "from astropy.visualization import ZScaleInterval, LinearStretch, ImageNormalize\n",
    "\n",
    "\n",
    "from matplotlib.patches import Polygon\n",
    "from matplotlib.collections import PatchCollection\n",
    "\n",
    "# LSST packages\n",
    "from lsst.daf.butler import Butler\n",
    "import lsst.geom as geom\n",
    "import lsst.sphgeom\n",
    "\n",
    "# allow interactive plots\n",
    "#%matplotlib widget\n",
    "%matplotlib inline\n",
    "\n",
    "# default plot style is accessible\n",
    "plt.style.use('tableau-colorblind10')\n",
    "\n",
    "from collections import OrderedDict\n",
    "import copy"
   ]
  },
  {
   "cell_type": "code",
   "execution_count": 4,
   "id": "588c0e0d-fae8-46c3-a258-a64ef076445b",
   "metadata": {
    "execution": {
     "iopub.execute_input": "2024-03-04T20:12:20.565587Z",
     "iopub.status.busy": "2024-03-04T20:12:20.565452Z",
     "iopub.status.idle": "2024-03-04T20:12:21.146175Z",
     "shell.execute_reply": "2024-03-04T20:12:21.145711Z",
     "shell.execute_reply.started": "2024-03-04T20:12:20.565573Z"
    }
   },
   "outputs": [],
   "source": [
    "# A repo which exists at the USDF, contains data from various instruments and\n",
    "REPO = '/repo/embargo'\n",
    "\n",
    "from lsst.daf.butler import Butler\n",
    "from pprint import pprint\n",
    "\n",
    "# Here we specify a default collection to use\n",
    "#my_collection = \"LATISS/runs/AUXTEL_DRP_IMAGING_2023-11A-10A-09AB-08ABC-07AB-05AB/w_2023_46/PREOPS-4553\"\n",
    "my_collection = \"LATISS/runs/AUXTEL_DRP_IMAGING_20230509_20240201/w_2024_05/PREOPS-4871\"\n",
    "butler = Butler(REPO, collections=my_collection)\n",
    "registry = butler.registry"
   ]
  },
  {
   "cell_type": "code",
   "execution_count": 5,
   "id": "b02a978f-a95f-40c7-b9dc-920c576db844",
   "metadata": {
    "execution": {
     "iopub.execute_input": "2024-03-04T20:12:21.146889Z",
     "iopub.status.busy": "2024-03-04T20:12:21.146750Z",
     "iopub.status.idle": "2024-03-04T20:12:21.169371Z",
     "shell.execute_reply": "2024-03-04T20:12:21.168997Z",
     "shell.execute_reply.started": "2024-03-04T20:12:21.146875Z"
    }
   },
   "outputs": [
    {
     "data": {
      "text/plain": [
       "[detector.RecordClass(instrument='LATISS', id=0, full_name='RXX_S00', name_in_raft='RXX_S00', raft=None, purpose='SCIENCE')]"
      ]
     },
     "execution_count": 5,
     "metadata": {},
     "output_type": "execute_result"
    }
   ],
   "source": [
    "list(butler.registry.queryDimensionRecords('detector', where=\"instrument='LATISS' AND detector.id IN (0..8)\"))"
   ]
  },
  {
   "cell_type": "markdown",
   "id": "9e212fa7-8be2-4874-b534-9d6e0918fa74",
   "metadata": {},
   "source": [
    "### access to skymap\n",
    "\n",
    "https://github.com/sylvielsstfr/MyDP0LSS/blob/main/myDP0.2/TrackAndPatch/PlotTractAndPatchs_butler.ipynb"
   ]
  },
  {
   "cell_type": "code",
   "execution_count": 6,
   "id": "62e69b18-d122-488b-9f62-3fc5e2342279",
   "metadata": {
    "execution": {
     "iopub.execute_input": "2024-03-04T20:12:21.169999Z",
     "iopub.status.busy": "2024-03-04T20:12:21.169870Z",
     "iopub.status.idle": "2024-03-04T20:12:21.173238Z",
     "shell.execute_reply": "2024-03-04T20:12:21.172837Z",
     "shell.execute_reply.started": "2024-03-04T20:12:21.169987Z"
    }
   },
   "outputs": [],
   "source": [
    "def get_corners_radec(wcs, bbox):\n",
    "    \"\"\"\n",
    "    Return the corners in RA,Dec in degrees given the WCS and bounding box for an image.\n",
    "\n",
    "    Parameters\n",
    "    ----------\n",
    "    wcs: image WCS returned by the Butler\n",
    "    bbox: bounding box returned by the Butler\n",
    "\n",
    "    Returns\n",
    "    -------\n",
    "    corners_ra, corners_dec in decimal degrees\n",
    "    \"\"\"\n",
    "\n",
    "    corners_x = [bbox.beginX, bbox.beginX, bbox.endX, bbox.endX]\n",
    "    corners_y = [bbox.beginY, bbox.endY, bbox.endY, bbox.beginY]\n",
    "    corners_ra = []\n",
    "    corners_dec = []\n",
    "    for i in range(4):\n",
    "        radec = wcs.pixelToSky(corners_x[i], corners_y[i])\n",
    "        corners_ra.append(radec.getRa().asDegrees())\n",
    "        corners_dec.append(radec.getDec().asDegrees())\n",
    "    \n",
    "    return corners_ra, corners_dec"
   ]
  },
  {
   "cell_type": "markdown",
   "id": "a7587b10-c178-4537-9c34-60867b69fa01",
   "metadata": {},
   "source": [
    "## Config"
   ]
  },
  {
   "cell_type": "code",
   "execution_count": 7,
   "id": "c2bca87f-8b3a-44ee-afa5-5b8e0b8f9b9d",
   "metadata": {
    "execution": {
     "iopub.execute_input": "2024-03-04T20:12:21.173811Z",
     "iopub.status.busy": "2024-03-04T20:12:21.173690Z",
     "iopub.status.idle": "2024-03-04T20:12:21.281854Z",
     "shell.execute_reply": "2024-03-04T20:12:21.281348Z",
     "shell.execute_reply.started": "2024-03-04T20:12:21.173799Z"
    },
    "tags": []
   },
   "outputs": [],
   "source": [
    "datasetRefs = butler.registry.queryDatasets(datasetType='skyMap', collections=my_collection, where= \"instrument='LATISS'\")"
   ]
  },
  {
   "cell_type": "code",
   "execution_count": 8,
   "id": "70cc3c91-c505-48aa-aec2-f1f8b342b127",
   "metadata": {
    "execution": {
     "iopub.execute_input": "2024-03-04T20:12:21.282778Z",
     "iopub.status.busy": "2024-03-04T20:12:21.282602Z",
     "iopub.status.idle": "2024-03-04T20:12:21.296688Z",
     "shell.execute_reply": "2024-03-04T20:12:21.296265Z",
     "shell.execute_reply.started": "2024-03-04T20:12:21.282759Z"
    }
   },
   "outputs": [
    {
     "name": "stdout",
     "output_type": "stream",
     "text": [
      "DatasetRef(DatasetType('skyMap', {skymap}, SkyMap), {skymap: 'hsc_rings_v1'}, run='skymaps', id=6e7fc928-0dc3-4e1b-ae63-5fb63be46216)\n",
      "DatasetRef(DatasetType('skyMap', {skymap}, SkyMap), {skymap: 'latiss_v1'}, run='skymaps', id=f677ff86-2b1c-4094-9dad-e39395052cd1)\n",
      "DatasetRef(DatasetType('skyMap', {skymap}, SkyMap), {skymap: 'lsst_cells_v1'}, run='skymaps', id=857e0e80-8d08-44f4-a81b-84227b064d5b)\n"
     ]
    }
   ],
   "source": [
    "for i, ref in enumerate(datasetRefs):\n",
    "    pprint(ref)\n",
    "    skymap_id = ref.dataId[\"skymap\"]\n",
    "    if skymap_id ==  'latiss_v1':\n",
    "        skymap = ref"
   ]
  },
  {
   "cell_type": "code",
   "execution_count": 9,
   "id": "0e749eb3-5a4c-430f-9547-148ffb974b4b",
   "metadata": {
    "execution": {
     "iopub.execute_input": "2024-03-04T20:12:21.297402Z",
     "iopub.status.busy": "2024-03-04T20:12:21.297250Z",
     "iopub.status.idle": "2024-03-04T20:12:21.518873Z",
     "shell.execute_reply": "2024-03-04T20:12:21.518443Z",
     "shell.execute_reply.started": "2024-03-04T20:12:21.297387Z"
    }
   },
   "outputs": [],
   "source": [
    "skymap = butler.get(ref)"
   ]
  },
  {
   "cell_type": "code",
   "execution_count": 10,
   "id": "5b00dd9c-d87b-4c0e-9811-4cdbb06f6d76",
   "metadata": {
    "execution": {
     "iopub.execute_input": "2024-03-04T20:12:21.519859Z",
     "iopub.status.busy": "2024-03-04T20:12:21.519510Z",
     "iopub.status.idle": "2024-03-04T20:12:21.522166Z",
     "shell.execute_reply": "2024-03-04T20:12:21.521768Z",
     "shell.execute_reply.started": "2024-03-04T20:12:21.519845Z"
    }
   },
   "outputs": [],
   "source": [
    "my_tracts = [ 5616,5634,5615,10644,383,8188,3863,455,452,5839,10643,382]"
   ]
  },
  {
   "cell_type": "code",
   "execution_count": 11,
   "id": "a88df013-ca76-4aa3-b47f-e1e0537979ca",
   "metadata": {
    "execution": {
     "iopub.execute_input": "2024-03-04T20:12:21.522783Z",
     "iopub.status.busy": "2024-03-04T20:12:21.522658Z",
     "iopub.status.idle": "2024-03-04T20:12:21.707736Z",
     "shell.execute_reply": "2024-03-04T20:12:21.707128Z",
     "shell.execute_reply.started": "2024-03-04T20:12:21.522772Z"
    }
   },
   "outputs": [
    {
     "data": {
      "text/plain": [
       "Index2D(x=3, y=2)"
      ]
     },
     "execution_count": 11,
     "metadata": {},
     "output_type": "execute_result"
    }
   ],
   "source": [
    "#from lsst.daf.butler import Butler\n",
    "#butler = Butler('SMALL_HSC')\n",
    "skymap = butler.get('skyMap', skymap='latiss_v1', collections=my_collection)\n",
    "tractInfo = skymap.generateTract(5616)\n",
    "patch = tractInfo[41]\n",
    "patch.getIndex()"
   ]
  },
  {
   "cell_type": "code",
   "execution_count": 12,
   "id": "cb8af27c-ce92-464d-b17d-c8b7135e4ad0",
   "metadata": {
    "execution": {
     "iopub.execute_input": "2024-03-04T20:12:21.708762Z",
     "iopub.status.busy": "2024-03-04T20:12:21.708558Z",
     "iopub.status.idle": "2024-03-04T20:12:21.711489Z",
     "shell.execute_reply": "2024-03-04T20:12:21.710927Z",
     "shell.execute_reply.started": "2024-03-04T20:12:21.708743Z"
    }
   },
   "outputs": [],
   "source": [
    "#for patch in tractInfo:\n",
    "#    print(patch.getSequentialIndex())"
   ]
  },
  {
   "cell_type": "code",
   "execution_count": 13,
   "id": "a466bd42-382c-473a-8d4f-1117afaa52d9",
   "metadata": {
    "execution": {
     "iopub.execute_input": "2024-03-04T20:12:21.712442Z",
     "iopub.status.busy": "2024-03-04T20:12:21.712253Z",
     "iopub.status.idle": "2024-03-04T20:12:21.718183Z",
     "shell.execute_reply": "2024-03-04T20:12:21.717640Z",
     "shell.execute_reply.started": "2024-03-04T20:12:21.712425Z"
    }
   },
   "outputs": [],
   "source": [
    "# Load data (deserialize)\n",
    "import pickle\n",
    "with open('../data/202402/Latiss_tractspatchs_202402.pickle', 'rb') as handle:\n",
    "    tracts_patchs_dict = pickle.load(handle)"
   ]
  },
  {
   "cell_type": "code",
   "execution_count": 14,
   "id": "d716c112-aec6-40a5-9bfa-1d379327a57c",
   "metadata": {
    "execution": {
     "iopub.execute_input": "2024-03-04T20:12:21.719091Z",
     "iopub.status.busy": "2024-03-04T20:12:21.718898Z",
     "iopub.status.idle": "2024-03-04T20:12:21.724268Z",
     "shell.execute_reply": "2024-03-04T20:12:21.723715Z",
     "shell.execute_reply.started": "2024-03-04T20:12:21.719073Z"
    }
   },
   "outputs": [
    {
     "data": {
      "text/plain": [
       "{10644: array([189, 183, 184, 164, 185, 203, 201, 207, 182, 162, 166, 165, 181,\n",
       "        161, 188, 208, 180, 202]),\n",
       " 5634: array([ 90, 110,  71, 112,  73, 109,  93,  92,  91,  53,  72,  55,  52,\n",
       "        111,  54,  74]),\n",
       " 3863: array([223, 261, 241, 242, 262, 260, 243, 222, 224]),\n",
       " 452: array([41, 62, 22, 25, 23, 44, 42, 63, 43, 24]),\n",
       " 5614: array([250, 251, 230, 210, 212, 232, 211, 213, 249, 229, 231]),\n",
       " 5616: array([355, 358, 316, 338, 356, 336, 357, 337, 317, 335, 315, 334]),\n",
       " 5615: array([274, 331, 312, 332, 294, 295, 293, 313, 333, 314, 275, 276]),\n",
       " 5839: array([9, 8, 7]),\n",
       " 10643: array([190, 171]),\n",
       " 455: array([51, 52, 15, 33, 14, 53, 34, 13, 32]),\n",
       " 382: array([343, 344, 342]),\n",
       " 3864: array([274, 238, 217, 218, 273, 255, 235, 275, 237, 257, 219, 236, 256,\n",
       "        254, 276, 216]),\n",
       " 383: array([359, 360])}"
      ]
     },
     "execution_count": 14,
     "metadata": {},
     "output_type": "execute_result"
    }
   ],
   "source": [
    "tracts_patchs_dict"
   ]
  },
  {
   "cell_type": "code",
   "execution_count": 15,
   "id": "1cbd1adb-fcd4-4527-a30f-52e64ae79156",
   "metadata": {
    "execution": {
     "iopub.execute_input": "2024-03-04T20:12:21.725206Z",
     "iopub.status.busy": "2024-03-04T20:12:21.725002Z",
     "iopub.status.idle": "2024-03-04T20:12:21.729041Z",
     "shell.execute_reply": "2024-03-04T20:12:21.728507Z",
     "shell.execute_reply.started": "2024-03-04T20:12:21.725187Z"
    }
   },
   "outputs": [
    {
     "data": {
      "text/plain": [
       "[10644, 5634, 3863, 452, 5614, 5616, 5615, 5839, 10643, 455, 382, 3864, 383]"
      ]
     },
     "execution_count": 15,
     "metadata": {},
     "output_type": "execute_result"
    }
   ],
   "source": [
    "list_of_tracts = list(tracts_patchs_dict.keys())\n",
    "list_of_tracts"
   ]
  },
  {
   "cell_type": "code",
   "execution_count": 16,
   "id": "8c81ef60-4e7a-4592-9e89-6b5ab9884d57",
   "metadata": {
    "execution": {
     "iopub.execute_input": "2024-03-04T20:12:21.730043Z",
     "iopub.status.busy": "2024-03-04T20:12:21.729860Z",
     "iopub.status.idle": "2024-03-04T20:12:21.733574Z",
     "shell.execute_reply": "2024-03-04T20:12:21.733056Z",
     "shell.execute_reply.started": "2024-03-04T20:12:21.730018Z"
    }
   },
   "outputs": [
    {
     "name": "stdout",
     "output_type": "stream",
     "text": [
      "123\n"
     ]
    }
   ],
   "source": [
    "npatches = 0\n",
    "for itract in list_of_tracts:\n",
    "    npatches += len(tracts_patchs_dict[itract])\n",
    "print(npatches)    "
   ]
  },
  {
   "cell_type": "markdown",
   "id": "c8babffc-71fb-4a5f-b8e4-9674e4fd4bf4",
   "metadata": {},
   "source": [
    "# Choose a level of pixelisation"
   ]
  },
  {
   "cell_type": "code",
   "execution_count": 17,
   "id": "aafb5b29-ed70-4392-8f6d-c191d51d9ee9",
   "metadata": {
    "execution": {
     "iopub.execute_input": "2024-03-04T20:12:21.734716Z",
     "iopub.status.busy": "2024-03-04T20:12:21.734292Z",
     "iopub.status.idle": "2024-03-04T20:12:21.737143Z",
     "shell.execute_reply": "2024-03-04T20:12:21.736605Z",
     "shell.execute_reply.started": "2024-03-04T20:12:21.734698Z"
    }
   },
   "outputs": [],
   "source": [
    "level = 7  # the resolution of the HTM grid\n",
    "pixelization = lsst.sphgeom.HtmPixelization(level)"
   ]
  },
  {
   "cell_type": "code",
   "execution_count": 18,
   "id": "151d6922-eeac-4a08-9c6c-8caf29f510ac",
   "metadata": {
    "execution": {
     "iopub.execute_input": "2024-03-04T20:12:21.738005Z",
     "iopub.status.busy": "2024-03-04T20:12:21.737841Z",
     "iopub.status.idle": "2024-03-04T20:12:37.349507Z",
     "shell.execute_reply": "2024-03-04T20:12:37.349054Z",
     "shell.execute_reply.started": "2024-03-04T20:12:21.737990Z"
    }
   },
   "outputs": [
    {
     "name": "stdout",
     "output_type": "stream",
     "text": [
      "13\n"
     ]
    }
   ],
   "source": [
    "import numpy as np\n",
    "\n",
    "import matplotlib.pyplot as plt\n",
    "import matplotlib\n",
    "\n",
    "\n",
    "numTracts=0\n",
    "# collection of polygons\n",
    "\n",
    "tract_htmpixels_dict = {}\n",
    "\n",
    "# loop on tracts\n",
    "#---------------\n",
    "for tractInfo in skymap:\n",
    "    tractID = tractInfo.getId()\n",
    "    if tractID not in list_of_tracts:\n",
    "        continue\n",
    "    numTracts+=1  \n",
    "\n",
    "\n",
    "    list_htmpixels = []\n",
    "    # loop on patch\n",
    "    #--------------\n",
    "    all_ra = []\n",
    "    all_dec = []\n",
    "    \n",
    "    for patch in tractInfo:    \n",
    "        patchID = patch.getSequentialIndex()\n",
    "        if patchID not in tracts_patchs_dict[tractID]:\n",
    "            continue\n",
    "        ibb=patch.getInnerBBox()\n",
    "        tWCS=tractInfo.getWcs()\n",
    "       \n",
    "        # loop on the 4 corners\n",
    "        for icorn,corner in enumerate(ibb.getCorners()):\n",
    "            p = geom.Point2D(corner.getX(), corner.getY())\n",
    "            coord = tWCS.pixelToSky(p)\n",
    "\n",
    "            ra = coord.getRa().asDegrees()\n",
    "            dec = coord.getDec().asDegrees()\n",
    "        \n",
    "            htm_id = pixelization.index(lsst.sphgeom.UnitVector3d(lsst.sphgeom.LonLat.fromDegrees(ra, dec)))\n",
    "            #print(tractID,patchID,icorn,ra,dec,htm_id)\n",
    "            list_htmpixels.append(htm_id)\n",
    "            all_ra.append(ra)\n",
    "            all_dec.append(dec)\n",
    "            \n",
    "        ## all corners of the patch\n",
    "\n",
    "    # all htm in the tract\n",
    "   \n",
    "    list_htmpixels = np.array(list_htmpixels)\n",
    "    list_htmpixels = np.unique(list_htmpixels)\n",
    "    list_htmpixels = np.sort(list_htmpixels)\n",
    "    ramin = np.min(all_ra)\n",
    "    ramax = np.max(all_ra)\n",
    "    decmin = np.min(all_dec)\n",
    "    decmax = np.max(all_dec)\n",
    "\n",
    "    tract_htmpixels_dict[tractID] =  { 'htmpixels':copy.deepcopy(list_htmpixels),\n",
    "                                       'radec': np.array([ramin,ramax,decmin,decmax])}\n",
    "     \n",
    "    \n",
    "print(numTracts)   \n",
    "\n"
   ]
  },
  {
   "cell_type": "code",
   "execution_count": 19,
   "id": "578ef116-bc02-4ff3-99b5-73a944d490f5",
   "metadata": {
    "execution": {
     "iopub.execute_input": "2024-03-04T20:12:37.351891Z",
     "iopub.status.busy": "2024-03-04T20:12:37.351665Z",
     "iopub.status.idle": "2024-03-04T20:12:37.355598Z",
     "shell.execute_reply": "2024-03-04T20:12:37.355192Z",
     "shell.execute_reply.started": "2024-03-04T20:12:37.351877Z"
    }
   },
   "outputs": [],
   "source": [
    "with open(f'Latiss_tractspatchs_radec_htm{level}_skypixels_202402.pickle', 'wb') as handle:\n",
    "    pickle.dump(tract_htmpixels_dict, handle)\n"
   ]
  },
  {
   "cell_type": "code",
   "execution_count": 20,
   "id": "0b2b3e16-696c-4f08-a0b3-6a7debe8392b",
   "metadata": {
    "execution": {
     "iopub.execute_input": "2024-03-04T20:12:37.356217Z",
     "iopub.status.busy": "2024-03-04T20:12:37.356081Z",
     "iopub.status.idle": "2024-03-04T20:12:37.362020Z",
     "shell.execute_reply": "2024-03-04T20:12:37.361551Z",
     "shell.execute_reply.started": "2024-03-04T20:12:37.356205Z"
    }
   },
   "outputs": [
    {
     "data": {
      "text/plain": [
       "{382: {'htmpixels': array([135892, 135895]),\n",
       "  'radec': array([ 11.83559184,  12.69437584, -72.91970512, -72.82704592])},\n",
       " 383: {'htmpixels': array([135892, 135895]),\n",
       "  'radec': array([ 12.30552976,  12.88215539, -72.91694386, -72.82704468])},\n",
       " 452: {'htmpixels': array([135696, 135699]),\n",
       "  'radec': array([  0.69689026,   1.83680741, -72.85580215, -72.60316762])},\n",
       " 455: {'htmpixels': array([135892, 135894, 135895]),\n",
       "  'radec': array([ 12.00059065,  12.86592199, -72.93792989, -72.68219831])},\n",
       " 3863: {'htmpixels': array([162489, 162491]),\n",
       "  'radec': array([119.93688346, 120.2482689 , -36.32070757, -36.06942145])},\n",
       " 3864: {'htmpixels': array([162888, 162891]),\n",
       "  'radec': array([122.28140604, 122.69508293, -36.32124229, -35.98768246])},\n",
       " 5614: {'htmpixels': array([177672, 177716]),\n",
       "  'radec': array([238.7893974 , 239.15622802, -24.41986978, -24.16893036])},\n",
       " 5615: {'htmpixels': array([177675]),\n",
       "  'radec': array([239.8629916 , 240.13697795, -24.17042533, -23.83709706])},\n",
       " 5616: {'htmpixels': array([177666, 177677]),\n",
       "  'radec': array([240.93842056, 241.4849448 , -24.0037155 , -23.75233848])},\n",
       " 5634: {'htmpixels': array([181764, 181816]),\n",
       "  'radec': array([270.02825781, 270.39757211, -25.16982529, -24.83509241])},\n",
       " 5839: {'htmpixels': array([177677]),\n",
       "  'radec': array([241.02587623, 241.29915878, -23.84943307, -23.76598178])},\n",
       " 10643: {'htmpixels': array([205911]),\n",
       "  'radec': array([306.93716434, 307.02129208,   6.65193822,   6.81869115])},\n",
       " 10644: {'htmpixels': array([205908, 205911, 205936]),\n",
       "  'radec': array([306.92058866, 307.75977061,   6.56903175,   6.81919837])}}"
      ]
     },
     "execution_count": 20,
     "metadata": {},
     "output_type": "execute_result"
    }
   ],
   "source": [
    "tract_htmpixels_dict"
   ]
  },
  {
   "cell_type": "code",
   "execution_count": null,
   "id": "2d6ef1f9-1ccb-47b8-b463-127fb8eff477",
   "metadata": {},
   "outputs": [],
   "source": []
  }
 ],
 "metadata": {
  "kernelspec": {
   "display_name": "LSST",
   "language": "python",
   "name": "lsst"
  },
  "language_info": {
   "codemirror_mode": {
    "name": "ipython",
    "version": 3
   },
   "file_extension": ".py",
   "mimetype": "text/x-python",
   "name": "python",
   "nbconvert_exporter": "python",
   "pygments_lexer": "ipython3",
   "version": "3.11.7"
  }
 },
 "nbformat": 4,
 "nbformat_minor": 5
}
