{
 "cells": [
  {
   "cell_type": "markdown",
   "id": "de8df7dc-1f1a-476a-b0fc-8c47434675af",
   "metadata": {},
   "source": [
    "# View the Coadds"
   ]
  },
  {
   "cell_type": "markdown",
   "id": "fd840c17-607c-4e1f-b107-e38040b21b59",
   "metadata": {},
   "source": [
    "- author : Sylvie Dagoret-Campagne\n",
    "- creation date :  2024-04-04\n",
    "- update : 2024-04-08\n",
    "- w_2024_10"
   ]
  },
  {
   "cell_type": "markdown",
   "id": "334fad6c-fc14-49e7-a525-c19141891a44",
   "metadata": {},
   "source": [
    "### Schema for data\n",
    "- https://dm.lsst.org/sdm_schemas/browser/imsim.html"
   ]
  },
  {
   "cell_type": "code",
   "execution_count": null,
   "id": "095ef981-ad32-4c2c-8593-8ed9b80b8a4a",
   "metadata": {},
   "outputs": [],
   "source": [
    "from lsst.daf.butler import Butler\n",
    "import lsst\n",
    "import pandas as pd\n",
    "import numpy as np\n",
    "repo = '/repo/embargo'\n",
    "instrument = 'LSSTComCamSim'\n",
    "where_clause = \"instrument = \\'\" + f\"{instrument}\" +\"\\'\"\n",
    "skymap_name = \"ops_rehersal_prep_2k_v1\"\n",
    "#collection = 'LSSTComCamSim/quickLook/24'\n",
    "collection1 = 'LSSTComCamSim/runs/nightlyvalidation/20240402/d_2024_03_29/DM-43612'\n",
    "collection2 = 'LSSTComCamSim/runs/nightlyvalidation/20240403/d_2024_03_29/DM-43612'\n",
    "collection3 = 'LSSTComCamSim/runs/nightlyvalidation/20240404/d_2024_03_29/DM-43612'\n",
    "#collection = 'LSSTComCamSim/runs/nightlyvalidation/20240404/d_2024_03_29/DM-43612'\n",
    "collections = [collection1,collection2,collection3]\n",
    "butler = Butler(repo, collections=collections)\n",
    "registry = butler.registry"
   ]
  },
  {
   "cell_type": "code",
   "execution_count": null,
   "id": "84e4b72b-81cf-4892-90cd-eb9237f18763",
   "metadata": {},
   "outputs": [],
   "source": [
    "import lsst.afw.image as afwImage\n",
    "import lsst.afw.display as afwDisplay\n",
    "import lsst.afw.table as afwTable\n",
    "import lsst.geom as geom\n",
    "import pprint\n",
    "# Let us also set `lsst.afw.display` to use the `matplotlib` backend:\n",
    "afwDisplay.setDefaultBackend('matplotlib')\n",
    "\n"
   ]
  },
  {
   "cell_type": "code",
   "execution_count": null,
   "id": "9c09cefa-f7de-4ff8-bacb-747718b4b088",
   "metadata": {},
   "outputs": [],
   "source": [
    "import numpy as np\n",
    "import matplotlib.pyplot as plt\n",
    "import matplotlib as mpl\n",
    "import matplotlib.cm as cm \n",
    "import matplotlib.colors as colors\n",
    "import matplotlib.cm as cmx\n",
    "import matplotlib.dates as mdates\n",
    "from matplotlib.colors import ListedColormap\n",
    "%matplotlib inline\n",
    "from mpl_toolkits.axes_grid1 import make_axes_locatable\n",
    "from matplotlib.colors import LogNorm\n",
    "from astropy.visualization import imshow_norm, MinMaxInterval, SqrtStretch\n",
    "# Astropy\n",
    "from astropy.visualization import ZScaleInterval, AsinhStretch\n",
    "\n",
    "import seaborn as sns\n",
    "import pandas as pd\n",
    "\n",
    "import matplotlib.ticker                         # here's where the formatter is\n",
    "import os\n",
    "import re\n",
    "import pandas as pd\n",
    "\n",
    "plt.rcParams[\"figure.figsize\"] = (4,3)\n",
    "plt.rcParams[\"axes.labelsize\"] = 'xx-large'\n",
    "plt.rcParams['axes.titlesize'] = 'xx-large'\n",
    "plt.rcParams['xtick.labelsize']= 'xx-large'\n",
    "plt.rcParams['ytick.labelsize']= 'xx-large'"
   ]
  },
  {
   "cell_type": "code",
   "execution_count": null,
   "id": "5f869161-51ea-468a-9919-d62c0ef71ea3",
   "metadata": {},
   "outputs": [],
   "source": [
    "def get_corners_radec(wcs, bbox):\n",
    "    \"\"\"\n",
    "    Return the corners in RA,Dec in degrees given the WCS and bounding box for an image.\n",
    "\n",
    "    Parameters\n",
    "    ----------\n",
    "    wcs: image WCS returned by the Butler\n",
    "    bbox: bounding box returned by the Butler\n",
    "\n",
    "    Returns\n",
    "    -------\n",
    "    corners_ra, corners_dec in decimal degrees\n",
    "    \"\"\"\n",
    "\n",
    "    corners_x = [bbox.beginX, bbox.beginX, bbox.endX, bbox.endX]\n",
    "    corners_y = [bbox.beginY, bbox.endY, bbox.endY, bbox.beginY]\n",
    "    corners_ra = []\n",
    "    corners_dec = []\n",
    "    for i in range(4):\n",
    "        radec = wcs.pixelToSky(corners_x[i], corners_y[i])\n",
    "        corners_ra.append(radec.getRa().asDegrees())\n",
    "        corners_dec.append(radec.getDec().asDegrees())\n",
    "    \n",
    "    return corners_ra, corners_dec\n"
   ]
  },
  {
   "cell_type": "code",
   "execution_count": null,
   "id": "31d056cf-2a20-4c5c-9837-a04c27e7a447",
   "metadata": {},
   "outputs": [],
   "source": [
    "for datasetType in registry.queryDatasetTypes():\n",
    "    if registry.queryDatasets(datasetType, collections=collections).any(execute=False, exact=False):\n",
    "        # Limit search results to the data products\n",
    "        if ('_config' not in datasetType.name) and ('_log' not in datasetType.name) and ('_metadata' not in datasetType.name) and ('_resource_usage' not in datasetType.name):\n",
    "            print(datasetType)"
   ]
  },
  {
   "cell_type": "markdown",
   "id": "1d98800f-b52e-4bb8-a282-5ecac04a095c",
   "metadata": {},
   "source": [
    "## How do I figure out which tracts have data?"
   ]
  },
  {
   "cell_type": "code",
   "execution_count": null,
   "id": "2aa997c9-d5a8-489d-9db4-8367cd96e2b0",
   "metadata": {},
   "outputs": [],
   "source": [
    "for dtype in sorted(registry.queryDatasetTypes(expression=\"*nImage*\")):\n",
    "    print(dtype.name)"
   ]
  },
  {
   "cell_type": "code",
   "execution_count": null,
   "id": "276e8682-7ae6-42ef-a6af-47a7050674d2",
   "metadata": {},
   "outputs": [],
   "source": [
    "nImage_refs = list(butler.registry.queryDatasets('deepCoadd_nImage'))"
   ]
  },
  {
   "cell_type": "code",
   "execution_count": null,
   "id": "63407f9e-111e-4cb6-9b63-c886286e69cf",
   "metadata": {},
   "outputs": [],
   "source": [
    "tracts = np.unique([ref.dataId['tract'] for ref in nImage_refs])\n",
    "print(tracts)\n",
    "\n",
    "bands = np.unique([ref.dataId['band'] for ref in nImage_refs])\n",
    "print(bands)"
   ]
  },
  {
   "cell_type": "code",
   "execution_count": null,
   "id": "373df0f7-fdbb-4ecd-8385-fc616353e0cf",
   "metadata": {},
   "outputs": [],
   "source": [
    "tract_sel = tracts[22]\n",
    "#tract_sel = 3533"
   ]
  },
  {
   "cell_type": "code",
   "execution_count": null,
   "id": "7cbd08a9-ba87-404a-abf5-d01700c11346",
   "metadata": {},
   "outputs": [],
   "source": [
    "skymap = butler.get('skyMap', skymap=skymap_name)\n",
    "tract = skymap.generateTract(tract_sel)\n",
    "sp2 = tract.getCtrCoord()\n",
    "sp2"
   ]
  },
  {
   "cell_type": "code",
   "execution_count": null,
   "id": "dd950f13-7ae0-42d1-ac1d-178211e801a6",
   "metadata": {},
   "outputs": [],
   "source": [
    "# Check which tracts actually have a lot of visit coverage:\n",
    "for tract in tracts:\n",
    "    visits = list(butler.registry.queryDatasets('visitSummary', tract=tract, skymap=skymap_name, findFirst=True))\n",
    "    print(tract, len(visits))"
   ]
  },
  {
   "cell_type": "code",
   "execution_count": null,
   "id": "bb5ee764-cde7-41af-afe0-28107f6296b5",
   "metadata": {},
   "outputs": [],
   "source": [
    "#datasetRefs = registry.queryDatasets(datasetType='deepCoadd', collections=collections, where= \"instrument='LSSTComCamSim'\")\n",
    "datasetRefs = registry.queryDatasets(datasetType='deepCoadd', collections=collections, where = where_clause)\n",
    "for i, ref in enumerate(datasetRefs):\n",
    "    print(f\"========({i})================datasetType = deepCoadd ============================================\")\n",
    "    #print(\"fullId..................:\",ref.dataId.full)\n",
    "    print(\"band....................:\",ref.dataId[\"band\"])\n",
    "    #print(\"skymap..................:\",ref.dataId[\"skymap\"])\n",
    "    print(\"tract..................:\",ref.dataId[\"tract\"])\n",
    "    print(\"patch..................:\",ref.dataId[\"patch\"])\n",
    "    #print(\"run.....................:\",ref.run)\n",
    "    if i> 5:\n",
    "        break\n"
   ]
  },
  {
   "cell_type": "markdown",
   "id": "915a9f1e-0a8b-4734-87ed-5764cb4b41ce",
   "metadata": {},
   "source": [
    "### Select a tract and a band"
   ]
  },
  {
   "cell_type": "code",
   "execution_count": null,
   "id": "053e763f-a71c-4b12-9d79-756834a6bc2f",
   "metadata": {},
   "outputs": [],
   "source": [
    "index_sel = 22\n",
    "#index_sel = 7\n",
    "#tract_sel = 9590\n",
    "#tract_sel = 3533\n",
    "tract_sel = tracts[index_sel]\n",
    "band_sel = \"r\""
   ]
  },
  {
   "cell_type": "code",
   "execution_count": null,
   "id": "fc14084d-939d-48e7-a333-4641d6757a79",
   "metadata": {},
   "outputs": [],
   "source": [
    "tract_sel"
   ]
  },
  {
   "cell_type": "code",
   "execution_count": null,
   "id": "97884b42-6ae8-4201-839c-1cc74a9ded1d",
   "metadata": {},
   "outputs": [],
   "source": [
    "datasetRefs = registry.queryDatasets(datasetType='deepCoadd', collections=collections, where= \"instrument='LSSTComCamSim'\")\n",
    "all_dataId = []\n",
    "all_deepcoadds  = []\n",
    "all_titles = []\n",
    "all_patches = []\n",
    "all_deepCoadd_wcs = []\n",
    "all_deepCoadd_bbox = []\n",
    "all_deepCoadd_corners_ra= []\n",
    "all_deepCoadd_corners_dec = []\n",
    "all_xvals = []\n",
    "all_yvals = []\n",
    "all_str_tract_patch = []\n",
    "\n",
    "for i, ref in enumerate(datasetRefs):\n",
    "\n",
    "    band = ref.dataId[\"band\"]\n",
    "    tract = ref.dataId[\"tract\"]\n",
    "    patch = ref.dataId[\"patch\"]\n",
    "    skymap = ref.dataId[\"skymap\"]\n",
    "\n",
    "    if band == band_sel and tract == tract_sel:\n",
    "        print(f\"========({i})================datasetType = deepCoadd ============================================\")\n",
    "        #print(\"fullId..................:\",ref.dataId.full)\n",
    "        #print(\"band....................:\",ref.dataId[\"band\"])\n",
    "        #print(\"skymap..................:\",ref.dataId[\"skymap\"])\n",
    "        #print(\"tract..................:\",ref.dataId[\"tract\"])\n",
    "        #print(\"patch..................:\",ref.dataId[\"patch\"])\n",
    "        #print(\"run.....................:\",ref.run)\n",
    "    \n",
    "        \n",
    "        the_dataId = {'skymap':skymap,'band': band, 'tract': tract, 'patch': patch}\n",
    "        the_title = f\"{instrument} deepCoadd : band={band}, tract={tract}, patch={patch}\" \n",
    "        my_deepCoadd = butler.get('deepCoadd', dataId=ref.dataId.full,collections=collections)\n",
    "\n",
    "        #my_deepCoadd_wcs = butler.get('deepCoadd.wcs', dataId=ref.dataId.full)\n",
    "        #my_deepCoadd_bbox = butler.get('deepCoadd.bbox', dataId=ref.dataId.full)\n",
    "        my_deepCoadd_wcs = my_deepCoadd.wcs\n",
    "        my_deepCoadd_bbox = my_deepCoadd.getBBox() \n",
    "        my_deepCoadd_corners_ra, my_deepCoadd_corners_dec = get_corners_radec(my_deepCoadd_wcs, my_deepCoadd_bbox)\n",
    "        my_xvals = [my_deepCoadd_corners_ra[0], my_deepCoadd_corners_ra[1], my_deepCoadd_corners_ra[2], \\\n",
    "             my_deepCoadd_corners_ra[3], my_deepCoadd_corners_ra[0]]\n",
    "        my_yvals = [my_deepCoadd_corners_dec[0], my_deepCoadd_corners_dec[1], my_deepCoadd_corners_dec[2], \\\n",
    "             my_deepCoadd_corners_dec[3], my_deepCoadd_corners_dec[0]]\n",
    "\n",
    "        str_tract_patch = '(' + str(ref.dataId['tract']) + ', ' + str(ref.dataId['patch'])+')'\n",
    "        \n",
    "        all_dataId.append(the_dataId) \n",
    "        all_patches.append(ref.dataId[\"patch\"])\n",
    "        all_deepcoadds.append(my_deepCoadd)\n",
    "        all_titles.append(the_title)\n",
    "        all_deepCoadd_wcs.append( my_deepCoadd_wcs)\n",
    "        all_deepCoadd_bbox.append(my_deepCoadd_bbox)\n",
    "        all_deepCoadd_corners_ra.append(my_deepCoadd_corners_ra)\n",
    "        all_deepCoadd_corners_dec.append(my_deepCoadd_corners_dec)\n",
    "        all_xvals.append(my_xvals)\n",
    "        all_yvals.append(my_yvals)\n",
    "        all_str_tract_patch.append(str_tract_patch)  \n",
    "    else:\n",
    "        pass\n",
    "    \n"
   ]
  },
  {
   "cell_type": "code",
   "execution_count": null,
   "id": "51670268-eac1-4f2f-a1d3-418613eb7686",
   "metadata": {},
   "outputs": [],
   "source": [
    "N = len(all_deepcoadds)\n",
    "for index in range(N):\n",
    "    print(index,all_titles[index])"
   ]
  },
  {
   "cell_type": "code",
   "execution_count": null,
   "id": "809c97e8-8985-47fc-818e-61655a41accc",
   "metadata": {},
   "outputs": [],
   "source": [
    "all_patches = np.array(all_patches)\n",
    "list_patches = np.unique(all_patches)"
   ]
  },
  {
   "cell_type": "code",
   "execution_count": null,
   "id": "c1818c9c-307b-44e7-ba96-d5ec4a0c2c3b",
   "metadata": {},
   "outputs": [],
   "source": [
    "all_dataId"
   ]
  },
  {
   "cell_type": "code",
   "execution_count": null,
   "id": "9358d3ee-c653-48a2-acc3-a39c082c6e48",
   "metadata": {},
   "outputs": [],
   "source": [
    "nPatches = len(all_patches)\n",
    "sns.color_palette(\"hls\", nPatches)\n",
    "cmap = ListedColormap(sns.color_palette(\"hls\", nPatches))"
   ]
  },
  {
   "cell_type": "code",
   "execution_count": null,
   "id": "bc40e95d-9a9e-4c3a-bb16-8b2d7383e1f3",
   "metadata": {},
   "outputs": [],
   "source": [
    "len(all_patches)"
   ]
  },
  {
   "cell_type": "code",
   "execution_count": null,
   "id": "c6579ca6-3bb3-42a0-bf1c-8553370a3049",
   "metadata": {},
   "outputs": [],
   "source": [
    "patch_to_color = {}\n",
    "patch_flagplot = {}\n",
    "for idx,patch in enumerate(all_patches):\n",
    "    patch_to_color[patch] = cmap.colors[idx]\n",
    "    patch_flagplot[patch] = False \n"
   ]
  },
  {
   "cell_type": "code",
   "execution_count": null,
   "id": "5d888c20-a769-4249-b1bd-a2732c27ce5f",
   "metadata": {},
   "outputs": [],
   "source": [
    "fig = plt.figure(figsize=(8, 8))\n",
    "\n",
    "for idx,dataid in enumerate(all_dataId):  \n",
    "    patch = dataid['patch']\n",
    "    if not patch_flagplot[patch]:\n",
    "        xvals = np.array(all_xvals[idx])\n",
    "        yvals = np.array(all_yvals[idx])\n",
    "        xmean = xvals.mean()\n",
    "        ymean = yvals.mean()\n",
    "        \n",
    "        str_tract_patch = all_str_tract_patch[idx]\n",
    "        color = patch_to_color[patch]\n",
    "        plt.plot(xvals, yvals, ls='solid', lw=2, color=color,label=str_tract_patch)\n",
    "        patch_flagplot[patch] = True\n",
    "        plt.text(xmean,ymean, str(patch),\n",
    "                 verticalalignment='center', horizontalalignment='center', \n",
    "                 color=color,size=14)\n",
    "plt.xlabel('RA')\n",
    "plt.ylabel('Dec')\n",
    "plt.legend(bbox_to_anchor=(1.1, 1.05), ncol=1)\n",
    "the_title_tract = f\"LSSTComCamSim : tract {tract_sel}\"\n",
    "plt.title(the_title_tract)\n",
    "plt.gca().set_aspect('equal')\n",
    "plt.show()"
   ]
  },
  {
   "cell_type": "code",
   "execution_count": null,
   "id": "b505193a-7fec-44c3-8bbd-8ac1b8f70887",
   "metadata": {},
   "outputs": [],
   "source": [
    "N = len(all_deepcoadds)\n",
    "\n",
    "for index in range(N):\n",
    "    the_dataid = all_dataId[index]\n",
    "    the_deepcoadd = all_deepcoadds[index]\n",
    "    the_title = f\"{index})  \"+all_titles[index]\n",
    "\n",
    "    xvals = np.array(all_xvals[index])\n",
    "    yvals = np.array(all_yvals[index])\n",
    "\n",
    "    extent=[xvals.min(),xvals.max(),yvals.min(),yvals.max()]\n",
    "    \n",
    "    # Plot the calexp we just retrieved\n",
    "    plt.figure(figsize=(10,10))\n",
    "    #afw_display = afwDisplay.Display()\n",
    "    #afw_display.scale('asinh', 'zscale')\n",
    "    #afw_display.mtv(the_deepcoadd.image,title=the_title )\n",
    "    #plt.gca().axis('on')\n",
    "    transform = AsinhStretch() + ZScaleInterval()\n",
    "    scaledImage = transform(the_deepcoadd.image.array)\n",
    "    #scaledImage = np.flipud(scaledImage)\n",
    "    plt.imshow(scaledImage,origin=\"lower\",extent=extent,aspect='equal')\n",
    "    plt.title(the_title)\n",
    "    plt.grid()\n",
    "    #plt.gca().invert_xaxis()\n",
    "    plt.show()\n"
   ]
  },
  {
   "cell_type": "code",
   "execution_count": null,
   "id": "dd361730-2468-4108-b964-213ea7703b14",
   "metadata": {},
   "outputs": [],
   "source": []
  }
 ],
 "metadata": {
  "kernelspec": {
   "display_name": "LSST",
   "language": "python",
   "name": "lsst"
  },
  "language_info": {
   "codemirror_mode": {
    "name": "ipython",
    "version": 3
   },
   "file_extension": ".py",
   "mimetype": "text/x-python",
   "name": "python",
   "nbconvert_exporter": "python",
   "pygments_lexer": "ipython3",
   "version": "3.11.7"
  }
 },
 "nbformat": 4,
 "nbformat_minor": 5
}
