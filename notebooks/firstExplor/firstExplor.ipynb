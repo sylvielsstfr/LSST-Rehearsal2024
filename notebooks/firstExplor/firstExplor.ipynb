{
 "cells": [
  {
   "cell_type": "markdown",
   "id": "de8df7dc-1f1a-476a-b0fc-8c47434675af",
   "metadata": {},
   "source": [
    "# First Exploration of Simulated COMCAM"
   ]
  },
  {
   "cell_type": "markdown",
   "id": "fd840c17-607c-4e1f-b107-e38040b21b59",
   "metadata": {},
   "source": [
    "- author : Sylvie Dagoret-Campagne\n",
    "- creation date :  2024-04-04\n",
    "- update : 2024-04-08\n",
    "- w_2024_10"
   ]
  },
  {
   "cell_type": "markdown",
   "id": "334fad6c-fc14-49e7-a525-c19141891a44",
   "metadata": {},
   "source": [
    "### Schema for data\n",
    "- https://dm.lsst.org/sdm_schemas/browser/imsim.html"
   ]
  },
  {
   "cell_type": "code",
   "execution_count": null,
   "id": "095ef981-ad32-4c2c-8593-8ed9b80b8a4a",
   "metadata": {},
   "outputs": [],
   "source": [
    "from lsst.daf.butler import Butler\n",
    "import lsst\n",
    "from lsst.geom import Angle \n",
    "import pandas as pd\n",
    "import numpy as np\n",
    "repo = '/repo/embargo'\n",
    "instrument = 'LSSTComCamSim'\n",
    "where_clause = \"instrument = \\'\" + f\"{instrument}\" +\"\\'\"\n",
    "skymap_name = \"ops_rehersal_prep_2k_v1\"\n",
    "#collection = 'LSSTComCamSim/quickLook/24'\n",
    "collection1 = 'LSSTComCamSim/runs/nightlyvalidation/20240402/d_2024_03_29/DM-43612'\n",
    "collection2 = 'LSSTComCamSim/runs/nightlyvalidation/20240403/d_2024_03_29/DM-43612'\n",
    "collection3 = 'LSSTComCamSim/runs/nightlyvalidation/20240404/d_2024_03_29/DM-43612'\n",
    "#collection4 = 'LSSTComCamSim/runs/nightlyvalidation/20240405/d_2024_03_29/DM-43612'\n",
    "#collection = 'LSSTComCamSim/runs/nightlyvalidation/20240404/d_2024_03_29/DM-43612'\n",
    "#collection = 'LSSTComCamSim/runs/nightlyvalidation/20240404/d_2024_03_29/DM-43612'\n",
    "#collections = [collection1,collection2]\n",
    "collections = [collection1,collection2,collection3]\n",
    "butler = Butler(repo, collections=collections)\n",
    "registry = butler.registry"
   ]
  },
  {
   "cell_type": "code",
   "execution_count": null,
   "id": "4d4d9031-801c-4f52-a3d1-476636024568",
   "metadata": {},
   "outputs": [],
   "source": [
    "import numpy as np\n",
    "import matplotlib.pyplot as plt\n",
    "import matplotlib as mpl\n",
    "import matplotlib.cm as cm \n",
    "import matplotlib.colors as colors\n",
    "import matplotlib.cm as cmx\n",
    "import matplotlib.dates as mdates\n",
    "from matplotlib.colors import ListedColormap\n",
    "%matplotlib inline\n",
    "from mpl_toolkits.axes_grid1 import make_axes_locatable\n",
    "from matplotlib.colors import LogNorm\n",
    "from astropy.visualization import imshow_norm, MinMaxInterval, SqrtStretch\n",
    "# Astropy\n",
    "from astropy.visualization import ZScaleInterval, AsinhStretch\n",
    "\n",
    "import seaborn as sns\n",
    "import pandas as pd\n",
    "\n",
    "import matplotlib.ticker                         # here's where the formatter is\n",
    "import os\n",
    "import re\n",
    "import pandas as pd\n",
    "\n",
    "plt.rcParams[\"figure.figsize\"] = (4,3)\n",
    "plt.rcParams[\"axes.labelsize\"] = 'large'\n",
    "plt.rcParams['axes.titlesize'] = 'large'\n",
    "plt.rcParams['xtick.labelsize']= 'large'\n",
    "plt.rcParams['ytick.labelsize']= 'large'"
   ]
  },
  {
   "cell_type": "code",
   "execution_count": null,
   "id": "9c550afd-b500-4b20-9897-4076a312e444",
   "metadata": {},
   "outputs": [],
   "source": [
    "from astropy.time import Time\n",
    "from astropy.coordinates import SkyCoord\n",
    "from astropy import coordinates\n",
    "import astropy.coordinates as coord\n",
    "import astropy.units as u"
   ]
  },
  {
   "cell_type": "code",
   "execution_count": null,
   "id": "31d056cf-2a20-4c5c-9837-a04c27e7a447",
   "metadata": {},
   "outputs": [],
   "source": [
    "for datasetType in registry.queryDatasetTypes():\n",
    "    if registry.queryDatasets(datasetType, collections=collections).any(execute=False, exact=False):\n",
    "        # Limit search results to the data products\n",
    "        if ('_config' not in datasetType.name) and ('_log' not in datasetType.name) and ('_metadata' not in datasetType.name) and ('_resource_usage' not in datasetType.name):\n",
    "            print(datasetType)"
   ]
  },
  {
   "cell_type": "markdown",
   "id": "1d98800f-b52e-4bb8-a282-5ecac04a095c",
   "metadata": {},
   "source": [
    "## How do I figure out which tracts have data?"
   ]
  },
  {
   "cell_type": "code",
   "execution_count": null,
   "id": "2aa997c9-d5a8-489d-9db4-8367cd96e2b0",
   "metadata": {},
   "outputs": [],
   "source": [
    "for dtype in sorted(registry.queryDatasetTypes(expression=\"*nImage*\")):\n",
    "    print(dtype.name)"
   ]
  },
  {
   "cell_type": "code",
   "execution_count": null,
   "id": "276e8682-7ae6-42ef-a6af-47a7050674d2",
   "metadata": {},
   "outputs": [],
   "source": [
    "nImage_refs = list(butler.registry.queryDatasets('deepCoadd_nImage'))"
   ]
  },
  {
   "cell_type": "code",
   "execution_count": null,
   "id": "63407f9e-111e-4cb6-9b63-c886286e69cf",
   "metadata": {},
   "outputs": [],
   "source": [
    "tracts = np.unique([ref.dataId['tract'] for ref in nImage_refs])\n",
    "print(tracts)\n",
    "\n",
    "bands = np.unique([ref.dataId['band'] for ref in nImage_refs])\n",
    "print(bands)"
   ]
  },
  {
   "cell_type": "code",
   "execution_count": null,
   "id": "373df0f7-fdbb-4ecd-8385-fc616353e0cf",
   "metadata": {},
   "outputs": [],
   "source": [
    "tract_sel = tracts[0]"
   ]
  },
  {
   "cell_type": "code",
   "execution_count": null,
   "id": "7cbd08a9-ba87-404a-abf5-d01700c11346",
   "metadata": {},
   "outputs": [],
   "source": [
    "skymap = butler.get('skyMap', skymap=skymap_name)\n",
    "tract = skymap.generateTract(tract_sel)\n",
    "sp2 = tract.getCtrCoord()\n",
    "sp2"
   ]
  },
  {
   "cell_type": "code",
   "execution_count": null,
   "id": "dd950f13-7ae0-42d1-ac1d-178211e801a6",
   "metadata": {},
   "outputs": [],
   "source": [
    "# Check which tracts actually have a lot of visit coverage:\n",
    "for tract in tracts:\n",
    "    visits = list(butler.registry.queryDatasets('visitSummary', tract=tract, skymap=skymap_name, findFirst=True))\n",
    "    print(tract, len(visits))"
   ]
  },
  {
   "cell_type": "markdown",
   "id": "4c49d010-5866-4c64-8039-95ab3c00ac6c",
   "metadata": {},
   "source": [
    "## visitSummary"
   ]
  },
  {
   "cell_type": "code",
   "execution_count": null,
   "id": "fddc94a1-df96-41d3-9c91-364155854e61",
   "metadata": {},
   "outputs": [],
   "source": [
    "if 0:\n",
    "\n",
    "    all_data = []\n",
    "    data_product = 'visitSummary'\n",
    "\n",
    "    #datasetRefs = butler.registry.queryDatasets(datasetType=data_product, collections=collections, where= \"instrument='LSSTComCamSim'\")\n",
    "    datasetRefs = butler.registry.queryDatasets(datasetType=data_product, collections=collections, where = where_clause)\n",
    "    for i, ref in enumerate(datasetRefs):\n",
    "        if (i % 100 == 0):\n",
    "            print(f\"======================== datasetType = {data_product} ============================================\")\n",
    "            print(\"fullId..................:\",ref.dataId.full)\n",
    "        try:\n",
    "            data = butler.get(data_product, dataId=ref.dataId )  \n",
    "            all_data.append(data)\n",
    "       \n",
    "        except Exception as inst:\n",
    "            print(type(inst))    # the exception type\n",
    "            print(inst.args)     # arguments stored in .args\n",
    "            print(inst)         \n",
    "\n",
    "    N = len(all_data)\n",
    "    print(f\"{visitSummary} :: N = {N}\")"
   ]
  },
  {
   "cell_type": "markdown",
   "id": "63965e30-7998-4682-8c73-c0f58b0928d0",
   "metadata": {},
   "source": [
    "### CCD VisitTable"
   ]
  },
  {
   "cell_type": "code",
   "execution_count": null,
   "id": "aa2d60bf-678f-45f0-8939-7ba79ef8a72d",
   "metadata": {},
   "outputs": [],
   "source": [
    "list(butler.registry.queryDatasets('ccdVisitTable'))"
   ]
  },
  {
   "cell_type": "code",
   "execution_count": null,
   "id": "441f4b9a-2270-43fb-9c31-846030c65128",
   "metadata": {},
   "outputs": [],
   "source": [
    "ccdVisitTable = butler.get('ccdVisitTable')"
   ]
  },
  {
   "cell_type": "code",
   "execution_count": null,
   "id": "c193b7fb-1a98-4b08-be70-a53d6b6a4f4d",
   "metadata": {},
   "outputs": [],
   "source": [
    "ccdVisitTable.columns"
   ]
  },
  {
   "cell_type": "code",
   "execution_count": null,
   "id": "7d646d54-2973-4512-a15d-fc9e6e517ca8",
   "metadata": {},
   "outputs": [],
   "source": [
    "# https://pipelines.lsst.io/modules/lsst.geom/getting-started.html\n",
    "func_degToRad = lambda x : Angle(x,lsst.geom.degrees).asRadians()\n",
    "func_zendtoAirmass = lambda x : 1./np.cos(func_degToRad(x))\n",
    "#func_wrap = lambda x : Angle(x,lsst.geom.radians).wrap(180.*lsst.geom.degrees)"
   ]
  },
  {
   "cell_type": "code",
   "execution_count": null,
   "id": "a17ecbbe-e09a-412e-b07f-010bbacf8d50",
   "metadata": {},
   "outputs": [],
   "source": [
    "ccdVisitTable[\"airmass\"] = ccdVisitTable['zenithDistance'].apply(func_zendtoAirmass)"
   ]
  },
  {
   "cell_type": "code",
   "execution_count": null,
   "id": "39f2c014-0095-4276-b8f2-fb7452025844",
   "metadata": {},
   "outputs": [],
   "source": [
    "f2c = {'u': 'blue', 'g': 'green', 'r': 'red',\n",
    "       'i': 'orange', 'z': 'grey', 'y': 'k'}\n",
    "\n",
    "plt.figure(dpi=200)\n",
    "for bandname in f2c:\n",
    "    in_band = ccdVisitTable['band'] == bandname\n",
    "    if np.sum(in_band) > 0:\n",
    "        plt.plot(ccdVisitTable['zenithDistance'][in_band], ccdVisitTable['zeroPoint'][in_band], \n",
    "                 'o', markersize=1, color=f2c[bandname], label=bandname)\n",
    "plt.legend()\n",
    "plt.xlabel('zenithDistance')\n",
    "plt.ylabel('zeroPoint')"
   ]
  },
  {
   "cell_type": "code",
   "execution_count": null,
   "id": "56eed3c0-75a4-4360-b6d4-8a76c8472b1d",
   "metadata": {},
   "outputs": [],
   "source": [
    "f2c = {'u': 'blue', 'g': 'green', 'r': 'red',\n",
    "       'i': 'orange', 'z': 'grey', 'y': 'k'}\n",
    "\n",
    "plt.figure(dpi=200)\n",
    "for bandname in f2c:\n",
    "    in_band = ccdVisitTable['band'] == bandname\n",
    "    if np.sum(in_band) > 0:\n",
    "        plt.plot(ccdVisitTable['airmass'][in_band], ccdVisitTable['zeroPoint'][in_band], \n",
    "                 'o', markersize=1, color=f2c[bandname], label=bandname)\n",
    "plt.legend()\n",
    "plt.xlabel('airmass')\n",
    "plt.ylabel('zeroPoint')"
   ]
  },
  {
   "cell_type": "code",
   "execution_count": null,
   "id": "b4f62b2a-e1bb-4f33-b838-af416e644831",
   "metadata": {},
   "outputs": [],
   "source": [
    "f2c = {'u': 'blue', 'g': 'green', 'r': 'red',\n",
    "       'i': 'orange', 'z': 'grey', 'y': 'k'}\n",
    "\n",
    "plt.figure(dpi=200)\n",
    "for bandname in f2c:\n",
    "    in_band = ccdVisitTable['band'] == bandname\n",
    "    if np.sum(in_band) > 0:\n",
    "        plt.plot(ccdVisitTable['airmass'][in_band], ccdVisitTable['psfSigma'][in_band], \n",
    "                 'o', markersize=1, color=f2c[bandname], label=bandname)\n",
    "plt.legend()\n",
    "plt.xlabel('airmass')\n",
    "plt.ylabel('psfSigma')"
   ]
  },
  {
   "cell_type": "code",
   "execution_count": null,
   "id": "88e95e14-4f95-4866-ba3f-54358c4a73dd",
   "metadata": {},
   "outputs": [],
   "source": [
    "f2c = {'u': 'blue', 'g': 'green', 'r': 'red',\n",
    "       'i': 'orange', 'z': 'grey', 'y': 'k'}\n",
    "\n",
    "plt.figure(dpi=200)\n",
    "for bandname in f2c:\n",
    "    in_band = ccdVisitTable['band'] == bandname\n",
    "    if np.sum(in_band) > 0:\n",
    "        plt.plot(ccdVisitTable['airmass'][in_band], ccdVisitTable['seeing'][in_band], \n",
    "                 'o', markersize=1, color=f2c[bandname], label=bandname)\n",
    "plt.legend()\n",
    "plt.xlabel('airmass')\n",
    "plt.ylabel('seeing')"
   ]
  },
  {
   "cell_type": "code",
   "execution_count": null,
   "id": "fce2c79b-edcf-4ab9-ba74-05426aa3c4a3",
   "metadata": {},
   "outputs": [],
   "source": [
    "ccdvisit_subset = ccdVisitTable[['visitId', 'band', 'ra', 'dec','detector','zenithDistance','obsStartMJD']]"
   ]
  },
  {
   "cell_type": "code",
   "execution_count": null,
   "id": "7537c14b-36b7-4702-8dae-d784a4c9491e",
   "metadata": {},
   "outputs": [],
   "source": [
    "ccdvisit_subset "
   ]
  },
  {
   "cell_type": "code",
   "execution_count": null,
   "id": "5d7a81c9-2b1e-4815-b0f5-d17e28eb4cd6",
   "metadata": {},
   "outputs": [],
   "source": [
    "# https://pipelines.lsst.io/modules/lsst.geom/getting-started.html\n",
    "func_degToRad = lambda x : Angle(x,lsst.geom.degrees).asRadians()\n",
    "func_zendtoAirmass = lambda x : 1./np.cos(func_degToRad(x))\n",
    "#func_wrap = lambda x : Angle(x,lsst.geom.radians).wrap(180.*lsst.geom.degrees)"
   ]
  },
  {
   "cell_type": "code",
   "execution_count": null,
   "id": "ca37bc8b-a575-4df1-b314-9f4a683aa7c5",
   "metadata": {},
   "outputs": [],
   "source": []
  },
  {
   "cell_type": "code",
   "execution_count": null,
   "id": "598f8fd1-eafe-478c-b65f-1a9d97387530",
   "metadata": {},
   "outputs": [],
   "source": [
    "ccdvisit_subset[\"zenithDistance_rad\"]= ccdvisit_subset[\"zenithDistance\"].apply(func_degToRad)\n",
    "ccdvisit_subset[\"airmass\"]= ccdvisit_subset[\"zenithDistance\"].apply(func_zendtoAirmass)"
   ]
  },
  {
   "cell_type": "code",
   "execution_count": null,
   "id": "755b8180-8acf-44e8-9e1e-8233110bf727",
   "metadata": {},
   "outputs": [],
   "source": [
    "ccdvisit_subset"
   ]
  },
  {
   "cell_type": "code",
   "execution_count": null,
   "id": "2beb5941-ea57-41c5-abb0-59fe8fd26e79",
   "metadata": {},
   "outputs": [],
   "source": [
    "#ccdvisit_subset_u = ccdvisit_subset[ccdvisit_subset.band == 'u']\n",
    "ccdvisit_subset_g = ccdvisit_subset[ccdvisit_subset.band == 'g']\n",
    "ccdvisit_subset_r = ccdvisit_subset[ccdvisit_subset.band == 'r']\n",
    "ccdvisit_subset_i = ccdvisit_subset[ccdvisit_subset.band == 'i']\n",
    "#ccdvisit_subset_z = ccdvisit_subset[ccdvisit_subset.band == 'z']\n",
    "#ccdvisit_subset_y = ccdvisit_subset[ccdvisit_subset.band == 'y']\n",
    "Ng = len(ccdvisit_subset_g)\n",
    "Nr = len(ccdvisit_subset_r)\n",
    "Ni = len(ccdvisit_subset_i)\n",
    "print(Ng,Nr,Ni)"
   ]
  },
  {
   "cell_type": "code",
   "execution_count": null,
   "id": "12fa2bb3-1d4b-4ed9-b389-bcb7661cf02a",
   "metadata": {},
   "outputs": [],
   "source": [
    "sns.color_palette(\"Spectral\", as_cmap=True)"
   ]
  },
  {
   "cell_type": "code",
   "execution_count": null,
   "id": "9f0a5865-4a81-484b-9a68-9a72fb258ecb",
   "metadata": {},
   "outputs": [],
   "source": [
    "cmap_g = ListedColormap(sns.color_palette(\"Spectral\", Ng))\n",
    "cmap_r = ListedColormap(sns.color_palette(\"Spectral\", Nr))\n",
    "cmap_i = ListedColormap(sns.color_palette(\"Spectral\", Ni))\n",
    "\n",
    "#patch_to_color[patch] = cmap.colors[idx]"
   ]
  },
  {
   "cell_type": "code",
   "execution_count": null,
   "id": "8585b7eb-9d6b-4b5b-bb78-dafd6f6e8eac",
   "metadata": {},
   "outputs": [],
   "source": [
    "all_colors_g = [cmap_g.colors[idx] for idx in range(Ng)]\n",
    "all_colors_r = [cmap_r.colors[idx] for idx in range(Nr)]\n",
    "all_colors_i = [cmap_i.colors[idx] for idx in range(Ni)]"
   ]
  },
  {
   "cell_type": "code",
   "execution_count": null,
   "id": "9402d2a3-c324-4299-913f-8a793c386e14",
   "metadata": {},
   "outputs": [],
   "source": [
    "ra_g = ccdvisit_subset_g['ra'].apply(func_degToRad) \n",
    "dec_g = ccdvisit_subset_g['dec'].apply(func_degToRad) "
   ]
  },
  {
   "cell_type": "code",
   "execution_count": null,
   "id": "6b90721b-4d07-4b9b-888a-0416fc5eb34a",
   "metadata": {},
   "outputs": [],
   "source": [
    "# Galactic plane\n",
    "gal_long = np.linspace(-180.,180,360)\n",
    "gal_lat = np.zeros((360))\n",
    "coordinates_galactic_planes = SkyCoord(l=gal_long*u.degree, b=gal_lat*u.degree, frame='galactic')\n",
    "gp_radec = coordinates_galactic_planes.transform_to('icrs')  \n",
    "# for galactic plane\n",
    "# gp_radec.ra : 0., 360.\n",
    "# gp_radec.dec : -90, 90\n",
    "gp_ra_toplot = coordinates.Angle(gp_radec.ra.degree*u.degree)\n",
    "gp_ra_toplot = gp_ra_toplot.wrap_at(180*u.degree)\n",
    "# gp_ra_toplot -180, 180\n",
    "#wrapping angle : https://docs.astropy.org/en/stable/api/astropy.coordinates.Angle.html"
   ]
  },
  {
   "cell_type": "code",
   "execution_count": null,
   "id": "90a3e277-2d31-4bb2-922d-364f368d51ff",
   "metadata": {},
   "outputs": [],
   "source": [
    "fig,ax = plt.subplots(1,1,figsize=(12,4),dpi=200)\n",
    "#ax.scatter(ccdvisit_subset_g[\"obsStartMJD\"].values,ccdvisit_subset_g[\"ra\"].values ,c=all_colors_g)\n",
    "ccdvisit_subset_g.plot.scatter(x=\"obsStartMJD\",y=\"ra\",marker=\"o\",c=all_colors_g,ax=ax,label=\"G\")\n",
    "ccdvisit_subset_r.plot.scatter(x=\"obsStartMJD\",y=\"ra\",marker=\"^\",c=all_colors_r,ax=ax,label=\"R\")\n",
    "ccdvisit_subset_i.plot.scatter(x=\"obsStartMJD\",y=\"ra\",marker=\"v\",c=all_colors_i,ax=ax,label=\"I\")\n",
    "ax.grid()"
   ]
  },
  {
   "cell_type": "code",
   "execution_count": null,
   "id": "e14411e6-2d14-48af-8893-628030364f4a",
   "metadata": {},
   "outputs": [],
   "source": [
    "fig,ax = plt.subplots(1,1,figsize=(12,4),dpi=200)\n",
    "#ax.scatter(ccdvisit_subset_g[\"obsStartMJD\"].values,ccdvisit_subset_g[\"ra\"].values ,c=all_colors_g)\n",
    "ccdvisit_subset_g.plot.scatter(x=\"obsStartMJD\",y=\"dec\",marker=\"o\",c=all_colors_g,ax=ax,label=\"G\")\n",
    "ccdvisit_subset_r.plot.scatter(x=\"obsStartMJD\",y=\"dec\",marker=\"^\",c=all_colors_r,ax=ax,label=\"R\")\n",
    "ccdvisit_subset_i.plot.scatter(x=\"obsStartMJD\",y=\"dec\",marker=\"v\",c=all_colors_i,ax=ax,label=\"I\")\n",
    "ax.grid()"
   ]
  },
  {
   "cell_type": "code",
   "execution_count": null,
   "id": "a244c484-e403-4b1a-b179-9949ca888ded",
   "metadata": {},
   "outputs": [],
   "source": [
    "# plot\n",
    "# x arg in rad must be (-2pi,2pi), y arg in rad  must be in ( -pi,pi )\n",
    "fig = plt.figure(figsize=(12,6),dpi=200)\n",
    "#ax = fig.add_subplot(111, projection=\"aitoff\")\n",
    "ax = fig.add_subplot(111, projection=\"mollweide\")\n",
    "ax.scatter(gp_ra_toplot.radian, gp_radec.dec.radian,c=\"r\",label=\"Galactic Plane\",s=1)\n",
    "ax.scatter(ra_g.values-np.pi,dec_g.values,marker='+',c=all_colors_g)\n",
    "ax.legend()\n",
    "ax.grid()\n",
    "plt.suptitle(instrument)"
   ]
  },
  {
   "cell_type": "markdown",
   "id": "fa6beb89-050b-43fa-b5e4-8060326e5097",
   "metadata": {},
   "source": [
    "## sourceTable_visit"
   ]
  },
  {
   "cell_type": "code",
   "execution_count": null,
   "id": "7c401a3d-1f6f-4af9-813a-617eb2aeff0d",
   "metadata": {},
   "outputs": [],
   "source": [
    "if 0:\n",
    "    all_data = []\n",
    "    data_product = 'sourceTable_visit'\n",
    "    datasetRefs = butler.registry.queryDatasets(datasetType=data_product, collections=collections, where= \"instrument='LSSTComCamSim'\")\n",
    "    for i, ref in enumerate(datasetRefs):\n",
    "        if (i % 500 == 0):\n",
    "            print(f\"======================== datasetType = {data_product} ============================================\")\n",
    "            print(\"fullId..................:\",ref.dataId.full)\n",
    "        try:\n",
    "            data = butler.get(data_product, dataId=ref.dataId )  \n",
    "            all_data.append(data)\n",
    "       \n",
    "        except Exception as inst:\n",
    "            print(type(inst))    # the exception type\n",
    "            print(inst.args)     # arguments stored in .args\n",
    "            print(inst)       \n",
    "\n",
    "    df = pd.concat(all_data)\n",
    "    filename = f\"out-{data_product}.csv\" \n",
    "    df.to_csv(filename)"
   ]
  },
  {
   "cell_type": "markdown",
   "id": "c9754379-bfff-45eb-b3d7-5c8b20d9912f",
   "metadata": {},
   "source": [
    "## How do I access an object table?"
   ]
  },
  {
   "cell_type": "code",
   "execution_count": null,
   "id": "34b85f49-f25c-4307-85db-364c3f14a28c",
   "metadata": {},
   "outputs": [],
   "source": [
    "objectTable_refs = sorted(butler.registry.queryDatasets('objectTable_tract'))\n",
    "N = len(objectTable_refs)\n",
    "objectTable = butler.get(objectTable_refs[0])\n",
    "objectTable[['coord_ra','coord_dec','tract','patch']]"
   ]
  },
  {
   "cell_type": "code",
   "execution_count": null,
   "id": "b4619b1e-d953-49bc-9885-d8eaa7337118",
   "metadata": {},
   "outputs": [],
   "source": [
    "list(objectTable.columns)"
   ]
  },
  {
   "cell_type": "markdown",
   "id": "d5508dd3-7517-42ac-84be-3919e12eb89c",
   "metadata": {},
   "source": [
    "## preSourceTable"
   ]
  },
  {
   "cell_type": "code",
   "execution_count": null,
   "id": "569602a0-a840-49df-b691-5150645cbebb",
   "metadata": {},
   "outputs": [],
   "source": [
    "if 0:\n",
    "    all_data = []\n",
    "    data_product = 'preSourceTable'\n",
    "    datasetRefs = butler.registry.queryDatasets(datasetType=data_product, collections=collections, where= \"instrument='LSSTComCamSim'\")\n",
    "    for i, ref in enumerate(datasetRefs):\n",
    "        if (i % 500 == 0):\n",
    "            print(f\"======================== datasetType = {data_product} ============================================\")\n",
    "            print(\"fullId..................:\",ref.dataId.full)\n",
    "        try:\n",
    "            data = butler.get(data_product, dataId=ref.dataId )  \n",
    "            all_data.append(data)\n",
    "       \n",
    "        except Exception as inst:\n",
    "            print(type(inst))    # the exception type\n",
    "            print(inst.args)     # arguments stored in .args\n",
    "            print(inst)       \n",
    "\n",
    "    df = pd.concat(all_data)\n",
    "    filename = f\"out-{data_product}.csv\" \n",
    "    df.to_csv(filename)"
   ]
  },
  {
   "cell_type": "code",
   "execution_count": null,
   "id": "d37ba508-eba6-45d8-8ace-6f9e9d8ccd2f",
   "metadata": {},
   "outputs": [],
   "source": []
  },
  {
   "cell_type": "code",
   "execution_count": null,
   "id": "bb5ee764-cde7-41af-afe0-28107f6296b5",
   "metadata": {},
   "outputs": [],
   "source": []
  }
 ],
 "metadata": {
  "kernelspec": {
   "display_name": "LSST",
   "language": "python",
   "name": "lsst"
  },
  "language_info": {
   "codemirror_mode": {
    "name": "ipython",
    "version": 3
   },
   "file_extension": ".py",
   "mimetype": "text/x-python",
   "name": "python",
   "nbconvert_exporter": "python",
   "pygments_lexer": "ipython3",
   "version": "3.11.7"
  }
 },
 "nbformat": 4,
 "nbformat_minor": 5
}
