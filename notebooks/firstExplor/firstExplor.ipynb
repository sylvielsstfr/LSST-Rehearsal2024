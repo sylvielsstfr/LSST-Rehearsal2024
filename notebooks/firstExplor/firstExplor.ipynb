{
 "cells": [
  {
   "cell_type": "markdown",
   "id": "de8df7dc-1f1a-476a-b0fc-8c47434675af",
   "metadata": {},
   "source": [
    "# First Exploration of Simulated COMCAM"
   ]
  },
  {
   "cell_type": "markdown",
   "id": "fd840c17-607c-4e1f-b107-e38040b21b59",
   "metadata": {},
   "source": [
    "- author : Sylvie Dagoret-Campagne\n",
    "- creation date :  2024-04-04\n",
    "- update : 2024-04-04\n",
    "- w_2024_10"
   ]
  },
  {
   "cell_type": "markdown",
   "id": "334fad6c-fc14-49e7-a525-c19141891a44",
   "metadata": {},
   "source": [
    "### Schema for data\n",
    "- https://dm.lsst.org/sdm_schemas/browser/imsim.html"
   ]
  },
  {
   "cell_type": "code",
   "execution_count": null,
   "id": "31d056cf-2a20-4c5c-9837-a04c27e7a447",
   "metadata": {},
   "outputs": [],
   "source": [
    "from lsst.daf.butler import Butler\n",
    "\n",
    "repo = '/repo/embargo'\n",
    "collection = 'LSSTComCamSim/quickLook/24'\n",
    "butler = Butler(repo, collections=collection)\n",
    "registry = butler.registry\n",
    "\n",
    "for datasetType in registry.queryDatasetTypes():\n",
    "    if registry.queryDatasets(datasetType, collections=collection).any(execute=False, exact=False):\n",
    "        # Limit search results to the data products\n",
    "        if ('_config' not in datasetType.name) and ('_log' not in datasetType.name) and ('_metadata' not in datasetType.name) and ('_resource_usage' not in datasetType.name):\n",
    "            print(datasetType)"
   ]
  },
  {
   "cell_type": "markdown",
   "id": "4c49d010-5866-4c64-8039-95ab3c00ac6c",
   "metadata": {},
   "source": [
    "## visitSummary"
   ]
  },
  {
   "cell_type": "code",
   "execution_count": null,
   "id": "fddc94a1-df96-41d3-9c91-364155854e61",
   "metadata": {},
   "outputs": [],
   "source": [
    "list_visitSummary = list(butler.registry.queryDatasets('visitSummary'))\n",
    "for idx,data in enumerate(list_visitSummary):\n",
    "    print(idx,data)\n",
    "    if idx>10:\n",
    "        break"
   ]
  },
  {
   "cell_type": "code",
   "execution_count": null,
   "id": "c0b6367c-f046-4f48-b98a-4b7caa9cd17e",
   "metadata": {},
   "outputs": [],
   "source": [
    "list_preSourceTable = list(butler.registry.queryDatasets('preSourceTable'))\n",
    "for idx,data in enumerate(list_preSourceTable):\n",
    "    print(idx,data)\n",
    "    if idx>10:\n",
    "        break"
   ]
  },
  {
   "cell_type": "code",
   "execution_count": null,
   "id": "bb5ee764-cde7-41af-afe0-28107f6296b5",
   "metadata": {},
   "outputs": [],
   "source": []
  }
 ],
 "metadata": {
  "kernelspec": {
   "display_name": "LSST",
   "language": "python",
   "name": "lsst"
  },
  "language_info": {
   "codemirror_mode": {
    "name": "ipython",
    "version": 3
   },
   "file_extension": ".py",
   "mimetype": "text/x-python",
   "name": "python",
   "nbconvert_exporter": "python",
   "pygments_lexer": "ipython3",
   "version": "3.11.7"
  }
 },
 "nbformat": 4,
 "nbformat_minor": 5
}
