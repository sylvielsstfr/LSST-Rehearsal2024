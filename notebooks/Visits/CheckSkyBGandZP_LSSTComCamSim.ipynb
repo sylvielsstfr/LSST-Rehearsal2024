{
 "cells": [
  {
   "cell_type": "markdown",
   "id": "dba0a7a1-779a-415f-b9b9-ef5ee53bdf0c",
   "metadata": {},
   "source": [
    "# Check Sky Background and zero point units from visit in LSSTComCamSim"
   ]
  },
  {
   "cell_type": "markdown",
   "id": "d94464bd-2be6-4c9a-b88c-ccb9dfb62e7b",
   "metadata": {},
   "source": [
    "- Author : Sylvie Dagoret-Campagne\n",
    "- creation date : 2024-05-07\n",
    "- last update : 2024-05-09\n",
    "- affiliation : IJCLab/IN2P3/CNRS"
   ]
  },
  {
   "cell_type": "markdown",
   "id": "33f59975-74ee-49e1-9f1d-3fa4f740995b",
   "metadata": {},
   "source": [
    "  \n",
    "``Quantum Graphs``: https://tigress-web.princeton.edu/~lkelvin/pipelines/ \n",
    "\n",
    "``CalibrateTask``: \n",
    "https://github.com/lsst/pipe_tasks/blob/main/python/lsst/pipe/tasks/calibrate.py#L392-L399\n",
    "\n",
    "\n",
    "``Shemas``:\n",
    "https://dm.lsst.org/sdm_schemas/browser/"
   ]
  },
  {
   "cell_type": "code",
   "execution_count": 1,
   "id": "7b6a4bc0-06c4-41a4-bfe6-38e91c9ed325",
   "metadata": {
    "execution": {
     "iopub.execute_input": "2024-05-09T12:57:06.872157Z",
     "iopub.status.busy": "2024-05-09T12:57:06.872032Z",
     "iopub.status.idle": "2024-05-09T12:57:08.322474Z",
     "shell.execute_reply": "2024-05-09T12:57:08.322114Z",
     "shell.execute_reply.started": "2024-05-09T12:57:06.872144Z"
    }
   },
   "outputs": [],
   "source": [
    "import matplotlib.pyplot as plt\n",
    "import matplotlib as mpl\n",
    "import matplotlib.dates as mdates\n",
    "import matplotlib.ticker\n",
    "from mpl_toolkits.axes_grid1 import make_axes_locatable\n",
    "from matplotlib.colors import LogNorm,SymLogNorm\n",
    "from matplotlib.colors import ListedColormap\n",
    "from matplotlib import colors\n",
    "\n",
    "%matplotlib inline\n",
    "import numpy as np\n",
    "import pandas as pd\n",
    "import matplotlib.gridspec as gridspec\n",
    "from spectractor.tools import from_lambda_to_colormap, wavelength_to_rgb\n",
    "#%matplotlib widget \n",
    "import h5py\n",
    "from scipy import interpolate\n",
    "from astropy.time import Time\n",
    "from datetime import datetime, timedelta\n",
    "import seaborn as sns\n",
    "\n",
    "from itertools import cycle, islice\n",
    "import os"
   ]
  },
  {
   "cell_type": "code",
   "execution_count": 2,
   "id": "fc44b7e9-8bf9-4611-ab18-6c8d85192629",
   "metadata": {
    "execution": {
     "iopub.execute_input": "2024-05-09T12:57:08.323562Z",
     "iopub.status.busy": "2024-05-09T12:57:08.323089Z",
     "iopub.status.idle": "2024-05-09T12:57:09.093163Z",
     "shell.execute_reply": "2024-05-09T12:57:09.092776Z",
     "shell.execute_reply.started": "2024-05-09T12:57:08.323542Z"
    }
   },
   "outputs": [],
   "source": [
    "from lsst.daf.butler import Butler\n",
    "\n",
    "import astropy.units as u\n",
    "from astropy import constants as const\n",
    "import numpy as np \n",
    "import pandas as pd\n",
    "pd.set_option(\"display.max_columns\", None)\n",
    "from astropy.time import Time\n",
    "\n",
    "import scipy.stats\n",
    "\n",
    "import matplotlib\n",
    "%matplotlib inline\n",
    "from matplotlib import pyplot as plt\n",
    "\n",
    "import lsst.afw.display.rgb as afwRgb\n",
    "import lsst.afw.image as afwImage\n",
    "import lsst.geom as geom\n",
    "\n",
    "from astropy.stats import SigmaClip\n"
   ]
  },
  {
   "cell_type": "code",
   "execution_count": 3,
   "id": "954a70b1-85f8-4d8d-8cf2-21204319789d",
   "metadata": {
    "execution": {
     "iopub.execute_input": "2024-05-09T12:57:09.094104Z",
     "iopub.status.busy": "2024-05-09T12:57:09.093693Z",
     "iopub.status.idle": "2024-05-09T12:57:09.097031Z",
     "shell.execute_reply": "2024-05-09T12:57:09.096729Z",
     "shell.execute_reply.started": "2024-05-09T12:57:09.094090Z"
    }
   },
   "outputs": [],
   "source": [
    "# INSERT YOUR auxTel/LATISS collection and tract/band HERE\n",
    "butlerRoot = \"/repo/embargo\"\n",
    "\n",
    "collection1 = 'LSSTComCamSim/runs/nightlyvalidation/20240402/d_2024_03_29/DM-43612'\n",
    "collection2 = 'LSSTComCamSim/runs/nightlyvalidation/20240403/d_2024_03_29/DM-43612'\n",
    "collection3 = 'LSSTComCamSim/runs/nightlyvalidation/20240404/d_2024_03_29/DM-43612'\n",
    "collectionn = collection2\n",
    "#collections = [collection1,collection2,collection3]\n",
    "collections = [collection2]\n",
    "collectionStr = collectionn.replace(\"/\", \"_\")\n",
    "instrument = 'LSSTComCamSim'\n",
    "skymapName = \"ops_rehersal_prep_2k_v1\"\n",
    "where_clause = \"instrument = \\'\" + instrument+ \"\\'\"\n",
    "NDET = 9\n",
    "tract_sel = 2494\n",
    "suptitle = collectionStr + f\" inst = {instrument} tract = {tract_sel}\"\n",
    "fn_ccdVisit_tracts_patches = f\"ccdVisittractpatch_{collectionStr}.csv\""
   ]
  },
  {
   "cell_type": "code",
   "execution_count": 4,
   "id": "f62c38fe-46be-4bde-b1f7-5770d26b6db4",
   "metadata": {
    "execution": {
     "iopub.execute_input": "2024-05-09T12:57:09.098565Z",
     "iopub.status.busy": "2024-05-09T12:57:09.098272Z",
     "iopub.status.idle": "2024-05-09T12:57:09.101458Z",
     "shell.execute_reply": "2024-05-09T12:57:09.101190Z",
     "shell.execute_reply.started": "2024-05-09T12:57:09.098551Z"
    }
   },
   "outputs": [],
   "source": [
    "plt.rcParams[\"figure.figsize\"] = (18,8)\n",
    "plt.rcParams[\"axes.labelsize\"] = 'xx-large'\n",
    "plt.rcParams['axes.titlesize'] = 'xx-large'\n",
    "plt.rcParams['xtick.labelsize']= 'xx-large'\n",
    "plt.rcParams['ytick.labelsize']= 'xx-large'\n",
    "plt.rcParams['legend.fontsize']=  12\n",
    "plt.rcParams['font.size'] = 12"
   ]
  },
  {
   "cell_type": "markdown",
   "id": "594e0cc7-2d1a-4aa9-b092-fa03ea0aa8a7",
   "metadata": {},
   "source": [
    "### Import rubinsimphot\n",
    "- usefull to check the numbers"
   ]
  },
  {
   "cell_type": "code",
   "execution_count": 5,
   "id": "78ad224d-f74f-40e0-9f51-12e39297fe28",
   "metadata": {
    "execution": {
     "iopub.execute_input": "2024-05-09T12:57:10.130108Z",
     "iopub.status.busy": "2024-05-09T12:57:10.129704Z",
     "iopub.status.idle": "2024-05-09T12:57:10.133529Z",
     "shell.execute_reply": "2024-05-09T12:57:10.133172Z",
     "shell.execute_reply.started": "2024-05-09T12:57:10.130094Z"
    }
   },
   "outputs": [
    {
     "name": "stdout",
     "output_type": "stream",
     "text": [
      "Set environment for USDF Rubin Science Platform\n"
     ]
    }
   ],
   "source": [
    "machine_name = os.uname().nodename\n",
    "path_rubinsimphot = \"repos/repos_w_2024_17/rubinsimphot/src\"\n",
    "if 'sdf' in machine_name:\n",
    "    #machine_name_usdf = 'sdfrome001'\n",
    "    print(\"Set environment for USDF\")\n",
    "    newpythonpath = os.path.join(os.getenv(\"HOME\"),path_rubinsimphot)\n",
    "    sys.path.append(newpythonpath)\n",
    "elif 'dagoret-nb' in machine_name:\n",
    "    print(\"Set environment for USDF Rubin Science Platform\")\n",
    "    newpythonpath = os.path.join(os.getenv(\"HOME\"),path_rubinsimphot)\n",
    "    sys.path.append(newpythonpath)    \n",
    "elif 'mac' in machine_name:\n",
    "    print(\"Be sure to run this notebook in conda environment named conda_py310\")\n",
    "else:\n",
    "    print(f\"Your current machine name is {machine_name}. Check your python environment\")"
   ]
  },
  {
   "cell_type": "code",
   "execution_count": 6,
   "id": "8c5147af-78fb-408f-a6d1-7f84ca3f0d34",
   "metadata": {
    "execution": {
     "iopub.execute_input": "2024-05-09T12:57:10.141165Z",
     "iopub.status.busy": "2024-05-09T12:57:10.141043Z",
     "iopub.status.idle": "2024-05-09T12:57:10.150755Z",
     "shell.execute_reply": "2024-05-09T12:57:10.150420Z",
     "shell.execute_reply.started": "2024-05-09T12:57:10.141153Z"
    }
   },
   "outputs": [],
   "source": [
    "from rubinsimphot.phot_utils import Bandpass, Sed\n",
    "from rubinsimphot.data import get_data_dir"
   ]
  },
  {
   "cell_type": "code",
   "execution_count": 7,
   "id": "f1cc240a-538e-4520-84be-9851a08adbd3",
   "metadata": {
    "execution": {
     "iopub.execute_input": "2024-05-09T12:57:10.151330Z",
     "iopub.status.busy": "2024-05-09T12:57:10.151207Z",
     "iopub.status.idle": "2024-05-09T12:57:10.198719Z",
     "shell.execute_reply": "2024-05-09T12:57:10.198353Z",
     "shell.execute_reply.started": "2024-05-09T12:57:10.151318Z"
    }
   },
   "outputs": [],
   "source": [
    "from rubinsimphot.phot_utils import PhotometricParameters \n",
    "from rubinsimphot.site_models import SeeingModel\n",
    "from rubinsimphot.phot_utils import signaltonoise\n",
    "from rubinsimphot.phot_utils import calc_neff"
   ]
  },
  {
   "cell_type": "code",
   "execution_count": 8,
   "id": "f114633b-ae7a-4c73-a7ab-0e5c289bc1b4",
   "metadata": {
    "execution": {
     "iopub.execute_input": "2024-05-09T12:57:10.199337Z",
     "iopub.status.busy": "2024-05-09T12:57:10.199210Z",
     "iopub.status.idle": "2024-05-09T12:57:10.201442Z",
     "shell.execute_reply": "2024-05-09T12:57:10.201119Z",
     "shell.execute_reply.started": "2024-05-09T12:57:10.199325Z"
    }
   },
   "outputs": [],
   "source": [
    "def set_photometric_parameters(exptime, nexp, readnoise=None):\n",
    "    # readnoise = None will use the default (8.8 e/pixel). Readnoise should be in electrons/pixel.\n",
    "    photParams = PhotometricParameters(exptime=exptime, nexp=nexp, readnoise=readnoise)\n",
    "    return photParams"
   ]
  },
  {
   "cell_type": "code",
   "execution_count": 9,
   "id": "1bba6f6f-cf09-4cd9-9383-bc5d5eb7c6ab",
   "metadata": {
    "execution": {
     "iopub.execute_input": "2024-05-09T12:57:10.202216Z",
     "iopub.status.busy": "2024-05-09T12:57:10.202065Z",
     "iopub.status.idle": "2024-05-09T12:57:10.206666Z",
     "shell.execute_reply": "2024-05-09T12:57:10.206258Z",
     "shell.execute_reply.started": "2024-05-09T12:57:10.202203Z"
    }
   },
   "outputs": [],
   "source": [
    "fdir = get_data_dir()\n",
    "path_rubin_sim_throughput = os.path.join(fdir, 'throughputs', 'baseline')   \n",
    "hardware_filenames = [\"hardware_u.dat\",\"hardware_g.dat\",\"hardware_r.dat\",\"hardware_i.dat\",\"hardware_z.dat\",\"hardware_y.dat\"] \n",
    "filter_filenames = [\"filter_u.dat\",\"filter_g.dat\",\"filter_r.dat\",\"filter_i.dat\",\"filter_z.dat\",\"filter_y.dat\" ]\n",
    "total_filenames = [\"total_u.dat\",\"total_g.dat\",\"total_r.dat\",\"total_i.dat\",\"total_z.dat\",\"total_y.dat\" ]\n",
    "\n",
    "#path_rubin_sim_throughput = os.path.join(fdir, 'throughputs', 'auxtel')\n",
    "#hardware_filenames = [\"auxtel_sdss_up_total.dat\",\"auxtel_sdss_gp_total.dat\",\"auxtel_sdss_rp_total.dat\",\"auxtel_sdss_ip_total.dat\",\"auxtel_sdss_zp_total.dat\",\"auxtel_sdss_yp_total.dat\"] \n",
    "#filter_filenames = [\"auxtel_sdss_up.dat\",\"auxtel_sdss_gp.dat\",\"auxtel_sdss_rp.dat\",\"auxtel_sdss_ip.dat\",\"auxtel_sdss_zp.dat\" ,\"auxtel_sdss_yp.dat\"]\n",
    "#total_filenames = [\"auxtel_sdss_up_total.dat\",\"auxtel_sdss_gp_total.dat\",\"auxtel_sdss_rp_total.dat\",\"auxtel_sdss_ip_total.dat\",\"auxtel_sdss_zp_total.dat\",\"auxtel_sdss_yp_total.dat\"]"
   ]
  },
  {
   "cell_type": "code",
   "execution_count": 10,
   "id": "c3b21aa9-56cd-4b6c-88d3-768bb8342605",
   "metadata": {
    "execution": {
     "iopub.execute_input": "2024-05-09T12:57:10.207497Z",
     "iopub.status.busy": "2024-05-09T12:57:10.207346Z",
     "iopub.status.idle": "2024-05-09T12:57:10.212693Z",
     "shell.execute_reply": "2024-05-09T12:57:10.212335Z",
     "shell.execute_reply.started": "2024-05-09T12:57:10.207478Z"
    }
   },
   "outputs": [],
   "source": [
    "filter_tagnames = [\"u\",\"g\",\"r\",\"i\",\"z\",\"y\"]\n",
    "Filter_tagnames = [\"U\",\"G\",\"R\",\"I\",\"Z\",\"Y\"]\n",
    "filtercolor_tagnames = [\"u-g\",\"g-r\",\"r-i\",\"i-z\",\"z-y\"]\n",
    "Filtercolor_tagnames = [\"U-G\",\"G-R\",\"R-I\",\"I-Z\",\"Z-Y\"]\n",
    "filter_color = [\"b\",\"g\",\"r\",\"orange\",\"grey\",\"k\"]\n",
    "NFILT=len(filter_filenames)\n",
    "\n",
    "WLMIN=300.\n",
    "WLMAX=1100.\n",
    "WLBIN=1.\n",
    "NWLBIN=int((WLMAX-WLMIN)/WLBIN)\n",
    "WL=np.linspace(WLMIN,WLMAX,NWLBIN)"
   ]
  },
  {
   "cell_type": "code",
   "execution_count": 11,
   "id": "1cb41954-32ec-4e2a-a3c3-f0c6690c46c8",
   "metadata": {
    "execution": {
     "iopub.execute_input": "2024-05-09T12:57:10.213391Z",
     "iopub.status.busy": "2024-05-09T12:57:10.213260Z",
     "iopub.status.idle": "2024-05-09T12:57:10.216798Z",
     "shell.execute_reply": "2024-05-09T12:57:10.216452Z",
     "shell.execute_reply.started": "2024-05-09T12:57:10.213379Z"
    }
   },
   "outputs": [],
   "source": [
    "FILTERWL = np.array([[ 324.03003755,  402.12765957,  363.59690349,   78.09762203],\n",
    "       [ 392.11514393,  561.32665832,  473.54069923,  169.21151439],\n",
    "       [ 542.3028786 ,  700.50062578,  619.49926767,  158.19774718],\n",
    "       [ 681.47684606,  827.65957447,  752.01084117,  146.18272841],\n",
    "       [ 808.63579474,  932.79098874,  868.488419  ,  124.15519399],\n",
    "       [ 914.76846058, 1044.93116395,  969.10570859,  130.16270338]])\n",
    "\n",
    "#FILTERWL = np.array([[ 353.        ,  385.        ,  369.        ,   32.        ],\n",
    "#                  [ 393.        ,  560.        ,  476.5       ,  167.        ],\n",
    "#                  [ 557.        ,  703.        ,  630.        ,  146.        ],\n",
    "#                  [ 688.        ,  859.        ,  773.5       ,  171.        ],\n",
    "#                  [ 812.        ,  938.        ,  875.76271186,  126.        ],\n",
    "#                  [ 934.        , 1060.        ,  997.        ,  126.        ]])\n",
    "\n",
    "F0 = 3631.0 # Jy 1, Jy = 10^{-23} erg.cm^{-2}.s^{-1}.Hz^{-1}\n",
    "Jy_to_ergcmm2sm1hzm1 = 1e-23\n",
    "DT = 30.0 # seconds\n",
    "gel = 1.1\n",
    "#hP = 6.62607015E-34 # J⋅Hz−1\n",
    "hP = 6.626196E-27\n",
    "Aeff  = np.pi*642.3**2/4 # cm2  Reff=6.423 m\n",
    "\n",
    "#ZPT_cont =  2.5 \\log_{10} \\left(\\frac{F_0 A \\Delta T}{g_{el} h} \\right)\n",
    "ZPTconst = 2.5*np.log10(F0*Jy_to_ergcmm2sm1hzm1*Aeff*DT/gel/hP)"
   ]
  },
  {
   "cell_type": "code",
   "execution_count": 12,
   "id": "bea02abc-b924-4c8b-91d4-98099e524e32",
   "metadata": {
    "execution": {
     "iopub.execute_input": "2024-05-09T12:57:10.217363Z",
     "iopub.status.busy": "2024-05-09T12:57:10.217243Z",
     "iopub.status.idle": "2024-05-09T12:57:10.220893Z",
     "shell.execute_reply": "2024-05-09T12:57:10.220540Z",
     "shell.execute_reply.started": "2024-05-09T12:57:10.217351Z"
    }
   },
   "outputs": [],
   "source": [
    "import sys\n",
    "sys.path.append('../lib')"
   ]
  },
  {
   "cell_type": "code",
   "execution_count": 13,
   "id": "d7b45f17-0170-4eaa-af27-797f1b814af8",
   "metadata": {
    "execution": {
     "iopub.execute_input": "2024-05-09T12:57:10.221453Z",
     "iopub.status.busy": "2024-05-09T12:57:10.221335Z",
     "iopub.status.idle": "2024-05-09T12:57:10.234933Z",
     "shell.execute_reply": "2024-05-09T12:57:10.234531Z",
     "shell.execute_reply.started": "2024-05-09T12:57:10.221442Z"
    }
   },
   "outputs": [
    {
     "name": "stdout",
     "output_type": "stream",
     "text": [
      "LSST site name validated as LSST observatory\n"
     ]
    }
   ],
   "source": [
    "# This package encapsulate the calculation on calibration used in this nb\n",
    "from libPhotometricCorrections import *"
   ]
  },
  {
   "cell_type": "markdown",
   "id": "71aa86bf-34ec-4018-baff-2add97bf522a",
   "metadata": {},
   "source": [
    "### Import atmospheric emulator"
   ]
  },
  {
   "cell_type": "code",
   "execution_count": 14,
   "id": "a1878b64-0482-47c0-a4ef-18d2c0d0e8a5",
   "metadata": {
    "execution": {
     "iopub.execute_input": "2024-05-09T12:57:10.235528Z",
     "iopub.status.busy": "2024-05-09T12:57:10.235398Z",
     "iopub.status.idle": "2024-05-09T12:57:10.239078Z",
     "shell.execute_reply": "2024-05-09T12:57:10.238732Z",
     "shell.execute_reply.started": "2024-05-09T12:57:10.235511Z"
    }
   },
   "outputs": [
    {
     "name": "stdout",
     "output_type": "stream",
     "text": [
      "Version of getObsAtmo : 0.1.1\n"
     ]
    }
   ],
   "source": [
    "from importlib.metadata import version\n",
    "the_ver = version('getObsAtmo')\n",
    "print(f\"Version of getObsAtmo : {the_ver}\")"
   ]
  },
  {
   "cell_type": "code",
   "execution_count": 15,
   "id": "9438d841-f964-4e7e-b4d1-ad680d8f4dbe",
   "metadata": {
    "execution": {
     "iopub.execute_input": "2024-05-09T12:57:10.239658Z",
     "iopub.status.busy": "2024-05-09T12:57:10.239538Z",
     "iopub.status.idle": "2024-05-09T12:57:10.245481Z",
     "shell.execute_reply": "2024-05-09T12:57:10.245138Z",
     "shell.execute_reply.started": "2024-05-09T12:57:10.239647Z"
    }
   },
   "outputs": [
    {
     "name": "stdout",
     "output_type": "stream",
     "text": [
      "LSST site name validated as LSST observatory\n"
     ]
    }
   ],
   "source": [
    "from getObsAtmo import ObsAtmo\n",
    "emul_atm = ObsAtmo()"
   ]
  },
  {
   "cell_type": "code",
   "execution_count": 16,
   "id": "c60df0bc-8466-48b5-a80e-35d2978b20b3",
   "metadata": {
    "execution": {
     "iopub.execute_input": "2024-05-09T12:57:10.246050Z",
     "iopub.status.busy": "2024-05-09T12:57:10.245932Z",
     "iopub.status.idle": "2024-05-09T12:57:10.247871Z",
     "shell.execute_reply": "2024-05-09T12:57:10.247542Z",
     "shell.execute_reply.started": "2024-05-09T12:57:10.246039Z"
    }
   },
   "outputs": [],
   "source": [
    "WL = emul_atm.GetWL()"
   ]
  },
  {
   "cell_type": "markdown",
   "id": "29b4f055-c739-458a-98ae-237f1b95d779",
   "metadata": {},
   "source": [
    "### Additional functions"
   ]
  },
  {
   "cell_type": "code",
   "execution_count": 17,
   "id": "250d63d8-6521-41a1-8b56-d1c5f39786df",
   "metadata": {
    "execution": {
     "iopub.execute_input": "2024-05-09T12:57:10.250614Z",
     "iopub.status.busy": "2024-05-09T12:57:10.250483Z",
     "iopub.status.idle": "2024-05-09T12:57:10.252829Z",
     "shell.execute_reply": "2024-05-09T12:57:10.252502Z",
     "shell.execute_reply.started": "2024-05-09T12:57:10.250602Z"
    }
   },
   "outputs": [],
   "source": [
    "def angle_in_range(alpha, lower, upper):\n",
    "    return (alpha - lower) % 360 <= (upper - lower) % 360"
   ]
  },
  {
   "cell_type": "code",
   "execution_count": 18,
   "id": "f31ff9a3-1c86-42b5-9ecc-0b557a243862",
   "metadata": {
    "execution": {
     "iopub.execute_input": "2024-05-09T12:57:10.269756Z",
     "iopub.status.busy": "2024-05-09T12:57:10.269633Z",
     "iopub.status.idle": "2024-05-09T12:57:10.272463Z",
     "shell.execute_reply": "2024-05-09T12:57:10.272129Z",
     "shell.execute_reply.started": "2024-05-09T12:57:10.269745Z"
    }
   },
   "outputs": [],
   "source": [
    "def get_bbox_radec(wcs, bbox):\n",
    "    \"\"\"\n",
    "    Return the corners in RA,Dec in degrees given the WCS and bounding box for an image.\n",
    "\n",
    "    Parameters\n",
    "    ----------\n",
    "    wcs: image WCS returned by the Butler\n",
    "    bbox: bounding box returned by the Butler\n",
    "\n",
    "    Returns\n",
    "    -------\n",
    "    ramin,ramax,decmin,decmax in decimal degrees\n",
    "    \"\"\"\n",
    "\n",
    "    xmin = bbox.beginX\n",
    "    xmax = bbox.endX\n",
    "    ymin = bbox.beginY\n",
    "    ymax = bbox.endY\n",
    "    \n",
    "    radec_ll = wcs.pixelToSky(xmin, ymin)\n",
    "    radec_ur = wcs.pixelToSky(xmax, ymax)\n",
    "        \n",
    "    return radec_ur.getRa().asDegrees(),radec_ll.getRa().asDegrees(), radec_ll.getDec().asDegrees(),radec_ur.getDec().asDegrees() \n"
   ]
  },
  {
   "cell_type": "code",
   "execution_count": 19,
   "id": "d6fb646e-a481-4419-9cc1-d1608ff96a76",
   "metadata": {
    "execution": {
     "iopub.execute_input": "2024-05-09T12:57:10.288436Z",
     "iopub.status.busy": "2024-05-09T12:57:10.288319Z",
     "iopub.status.idle": "2024-05-09T12:57:10.294404Z",
     "shell.execute_reply": "2024-05-09T12:57:10.294077Z",
     "shell.execute_reply.started": "2024-05-09T12:57:10.288425Z"
    }
   },
   "outputs": [],
   "source": [
    "def isradec_inbbox_radec(ra,dec,wcs, bbox):\n",
    "    \"\"\"\n",
    "    Return the corners in RA,Dec in degrees given the WCS and bounding box for an image.\n",
    "\n",
    "    Parameters\n",
    "    ----------\n",
    "    ra: ra in degree\n",
    "    dec: dec in degree\n",
    "    wcs: image WCS returned by the Butler\n",
    "    bbox: bounding box returned by the Butler\n",
    "\n",
    "    Returns\n",
    "    -------\n",
    "    Bool\n",
    "    \n",
    "    \"\"\"\n",
    "\n",
    "    RAMIN,RAMAX,DECMIN,DECMAX = get_bbox_radec(wcs, bbox)\n",
    "\n",
    "    flag_ra = angle_in_range(ra,RAMIN,RAMAX)\n",
    "    flag_dec = angle_in_range(dec,DECMIN,DECMAX)\n",
    "\n",
    "    flag = flag_ra and flag_dec\n",
    "    return flag\n"
   ]
  },
  {
   "cell_type": "code",
   "execution_count": 20,
   "id": "1f98b53a-e742-4c3f-833b-8655070e4de3",
   "metadata": {
    "execution": {
     "iopub.execute_input": "2024-05-09T12:57:10.294979Z",
     "iopub.status.busy": "2024-05-09T12:57:10.294859Z",
     "iopub.status.idle": "2024-05-09T12:57:10.298539Z",
     "shell.execute_reply": "2024-05-09T12:57:10.298214Z",
     "shell.execute_reply.started": "2024-05-09T12:57:10.294967Z"
    }
   },
   "outputs": [],
   "source": [
    "def FindTractAndPatch(row):\n",
    "    \"\"\"\n",
    "    Apply this function on ccdvisitTable dataframe to find the tract and patch for each visit\n",
    "    \"\"\"\n",
    "     \n",
    "    try:\n",
    "        ra = row[\"ra\"]\n",
    "        dec = row[\"dec\"]\n",
    "        selectFlag = False\n",
    "        # loop on tract\n",
    "        for tractID in tractsId_list:\n",
    "            tractInfo = skymap.generateTract(tractID)\n",
    "            patches_selected = [patch.getSequentialIndex() for patch in tractInfo]\n",
    "            wcs=tractInfo.getWcs()\n",
    "            # loop on patches\n",
    "            for patch in tractInfo:\n",
    "                patchID = patch.getSequentialIndex()\n",
    "                if patchID in patches_selected:\n",
    "                    ibb=patch.getInnerBBox()\n",
    "                    flag = isradec_inbbox_radec(ra,dec,wcs, ibb)\n",
    "                    selectFlag =  selectFlag or flag\n",
    "                    if selectFlag:\n",
    "                        return pd.Series([tractID,patchID])\n",
    "        return pd.Series([0,0])           \n",
    "                \n",
    "    except Exception as inst:\n",
    "        print(type(inst))    # the exception type\n",
    "        print(inst.args)     # arguments stored in .args\n",
    "        print(inst)          # __str__ allows args to be printed directly,\n",
    "        return pd.Series([0,0])  \n",
    "        \n"
   ]
  },
  {
   "cell_type": "markdown",
   "id": "3e0f5fe7-926d-4cbc-b0d0-bbf8845de50e",
   "metadata": {},
   "source": [
    "## Iteration"
   ]
  },
  {
   "cell_type": "markdown",
   "id": "ba59ea23-31fd-4f87-96a2-ddd44d5dfbe9",
   "metadata": {},
   "source": [
    "## Initiate the butler"
   ]
  },
  {
   "cell_type": "code",
   "execution_count": 21,
   "id": "89be1e14-3ded-40e7-ae74-54e343b56a3d",
   "metadata": {
    "execution": {
     "iopub.execute_input": "2024-05-09T12:57:10.299100Z",
     "iopub.status.busy": "2024-05-09T12:57:10.298979Z",
     "iopub.status.idle": "2024-05-09T12:57:12.060895Z",
     "shell.execute_reply": "2024-05-09T12:57:12.060388Z",
     "shell.execute_reply.started": "2024-05-09T12:57:10.299088Z"
    }
   },
   "outputs": [
    {
     "name": "stdout",
     "output_type": "stream",
     "text": [
      "camera_name = LSSTComCamSim\n",
      "collections = ['LSSTComCamSim/runs/nightlyvalidation/20240403/d_2024_03_29/DM-43612']\n"
     ]
    }
   ],
   "source": [
    "# Initiate butler from variables set above\n",
    "butler = Butler(butlerRoot, collections=collections, instrument=instrument, skymap=skymapName)\n",
    "camera = butler.get(\"camera\", instrument=instrument)\n",
    "print(\"camera_name = {}\".format(camera.getName()))\n",
    "print(\"collections = {}\".format(collections))"
   ]
  },
  {
   "cell_type": "code",
   "execution_count": 22,
   "id": "13e16115-d8e7-4618-9318-b84eea18b7f6",
   "metadata": {
    "execution": {
     "iopub.execute_input": "2024-05-09T12:57:12.061922Z",
     "iopub.status.busy": "2024-05-09T12:57:12.061535Z",
     "iopub.status.idle": "2024-05-09T12:57:12.224681Z",
     "shell.execute_reply": "2024-05-09T12:57:12.224229Z",
     "shell.execute_reply.started": "2024-05-09T12:57:12.061907Z"
    }
   },
   "outputs": [],
   "source": [
    "skymap = butler.get('skyMap', skymap=skymapName, collections=collections)"
   ]
  },
  {
   "cell_type": "code",
   "execution_count": 23,
   "id": "7ad36dc8-d8f3-4c2e-a25a-f5184ddce715",
   "metadata": {
    "execution": {
     "iopub.execute_input": "2024-05-09T12:57:12.225410Z",
     "iopub.status.busy": "2024-05-09T12:57:12.225274Z",
     "iopub.status.idle": "2024-05-09T12:57:12.249506Z",
     "shell.execute_reply": "2024-05-09T12:57:12.249135Z",
     "shell.execute_reply.started": "2024-05-09T12:57:12.225397Z"
    }
   },
   "outputs": [],
   "source": [
    "datasetRefs = butler.registry.queryDatasets(datasetType='ccdVisitTable', collections=collections, where= where_clause)"
   ]
  },
  {
   "cell_type": "markdown",
   "id": "27516730-f774-45a1-ae13-04be7b82579f",
   "metadata": {},
   "source": [
    "## tracts and patches"
   ]
  },
  {
   "cell_type": "code",
   "execution_count": 24,
   "id": "4441fa7c-d7e6-4eeb-b434-b5959d6f794b",
   "metadata": {
    "execution": {
     "iopub.execute_input": "2024-05-09T12:57:12.250121Z",
     "iopub.status.busy": "2024-05-09T12:57:12.249996Z",
     "iopub.status.idle": "2024-05-09T12:57:12.628342Z",
     "shell.execute_reply": "2024-05-09T12:57:12.627831Z",
     "shell.execute_reply.started": "2024-05-09T12:57:12.250110Z"
    }
   },
   "outputs": [],
   "source": [
    "nImage_refs = list(butler.registry.queryDatasets('deepCoadd_nImage'))"
   ]
  },
  {
   "cell_type": "code",
   "execution_count": 25,
   "id": "fab95251-a3d8-4000-b68a-ea486bac3368",
   "metadata": {
    "execution": {
     "iopub.execute_input": "2024-05-09T12:57:12.629055Z",
     "iopub.status.busy": "2024-05-09T12:57:12.628913Z",
     "iopub.status.idle": "2024-05-09T12:57:12.633204Z",
     "shell.execute_reply": "2024-05-09T12:57:12.632839Z",
     "shell.execute_reply.started": "2024-05-09T12:57:12.629042Z"
    }
   },
   "outputs": [
    {
     "name": "stdout",
     "output_type": "stream",
     "text": [
      "[2494, 2495, 2661, 2662, 3200, 3345, 3346, 3384, 3385, 3533, 3534, 6914, 6915, 7148, 7149, 7445, 7446, 7683, 7684, 9570, 9637, 9638, 9812, 9813, 9880, 9881]\n"
     ]
    }
   ],
   "source": [
    "tractsId_list = np.unique([ref.dataId['tract'] for ref in nImage_refs])\n",
    "tractsId_list = sorted(tractsId_list)\n",
    "print(tractsId_list)"
   ]
  },
  {
   "cell_type": "code",
   "execution_count": 26,
   "id": "7610a900-2201-48f2-8aaf-36a8e49c9d8d",
   "metadata": {
    "execution": {
     "iopub.execute_input": "2024-05-09T12:57:12.633842Z",
     "iopub.status.busy": "2024-05-09T12:57:12.633713Z",
     "iopub.status.idle": "2024-05-09T12:57:12.845796Z",
     "shell.execute_reply": "2024-05-09T12:57:12.845391Z",
     "shell.execute_reply.started": "2024-05-09T12:57:12.633830Z"
    }
   },
   "outputs": [],
   "source": [
    "ccd_visit_table = butler.get('ccdVisitTable', dataId={'instrument': instrument}, collections = collections )    "
   ]
  },
  {
   "cell_type": "code",
   "execution_count": 27,
   "id": "375d911c-823c-4aa9-b6dd-d24570a88aba",
   "metadata": {
    "execution": {
     "iopub.execute_input": "2024-05-09T12:57:12.846509Z",
     "iopub.status.busy": "2024-05-09T12:57:12.846377Z",
     "iopub.status.idle": "2024-05-09T12:57:12.849674Z",
     "shell.execute_reply": "2024-05-09T12:57:12.849322Z",
     "shell.execute_reply.started": "2024-05-09T12:57:12.846496Z"
    }
   },
   "outputs": [],
   "source": [
    "ccd_visit_table[\"ccdVid\"] = ccd_visit_table.index -  ccd_visit_table.index[0]\n",
    "ccd_visit_table[\"Vid\"] = ccd_visit_table[\"visitId\"]  -   ccd_visit_table[\"visitId\"].iloc[0]"
   ]
  },
  {
   "cell_type": "code",
   "execution_count": 28,
   "id": "af5a677a-e754-4a7c-8280-ae17e73806dc",
   "metadata": {
    "execution": {
     "iopub.execute_input": "2024-05-09T12:57:12.850259Z",
     "iopub.status.busy": "2024-05-09T12:57:12.850137Z",
     "iopub.status.idle": "2024-05-09T12:57:12.889333Z",
     "shell.execute_reply": "2024-05-09T12:57:12.888988Z",
     "shell.execute_reply.started": "2024-05-09T12:57:12.850248Z"
    }
   },
   "outputs": [
    {
     "data": {
      "text/plain": [
       "ccdVisitId\n",
       "730865860864    20240403\n",
       "730865860865    20240403\n",
       "730865860866    20240403\n",
       "730865860867    20240403\n",
       "730865860868    20240403\n",
       "                  ...   \n",
       "730866060292    20240403\n",
       "730866060293    20240403\n",
       "730866060294    20240403\n",
       "730866060295    20240403\n",
       "730866060296    20240403\n",
       "Name: nightObs, Length: 6301, dtype: int64"
      ]
     },
     "execution_count": 28,
     "metadata": {},
     "output_type": "execute_result"
    }
   ],
   "source": [
    "#subtract the a bug number to have normal dates\n",
    "ccd_visit_table[\"nightObs\"] = ccd_visit_table.apply(lambda x: x['visitId']//100_000 - 50000000, axis=1)\n",
    "ccd_visit_table[\"nightObs\"]"
   ]
  },
  {
   "cell_type": "code",
   "execution_count": 29,
   "id": "757c09b9-06bf-4910-81cc-e5f569ed6de3",
   "metadata": {
    "execution": {
     "iopub.execute_input": "2024-05-09T12:57:12.889962Z",
     "iopub.status.busy": "2024-05-09T12:57:12.889836Z",
     "iopub.status.idle": "2024-05-09T12:57:12.895693Z",
     "shell.execute_reply": "2024-05-09T12:57:12.895344Z",
     "shell.execute_reply.started": "2024-05-09T12:57:12.889950Z"
    }
   },
   "outputs": [],
   "source": [
    "#  get time\n",
    "ccd_visit_table[\"Time\"] = pd.to_datetime(ccd_visit_table['obsStart'])"
   ]
  },
  {
   "cell_type": "code",
   "execution_count": 30,
   "id": "ff9b9cd1-b569-4c1f-b850-09d6ea68a12e",
   "metadata": {
    "execution": {
     "iopub.execute_input": "2024-05-09T12:57:12.896282Z",
     "iopub.status.busy": "2024-05-09T12:57:12.896158Z",
     "iopub.status.idle": "2024-05-09T12:57:12.904767Z",
     "shell.execute_reply": "2024-05-09T12:57:12.904386Z",
     "shell.execute_reply.started": "2024-05-09T12:57:12.896271Z"
    }
   },
   "outputs": [],
   "source": [
    "# get airmass\n",
    "ccd_visit_table[\"airmass\"] = ccd_visit_table[\"zenithDistance\"].apply(lambda x: 1/np.cos(np.pi/180.*x))"
   ]
  },
  {
   "cell_type": "code",
   "execution_count": 31,
   "id": "0e81e22b-2b12-43a2-8f87-f3a9b77ff3f4",
   "metadata": {
    "execution": {
     "iopub.execute_input": "2024-05-09T12:57:12.905364Z",
     "iopub.status.busy": "2024-05-09T12:57:12.905240Z",
     "iopub.status.idle": "2024-05-09T12:57:12.907157Z",
     "shell.execute_reply": "2024-05-09T12:57:12.906829Z",
     "shell.execute_reply.started": "2024-05-09T12:57:12.905353Z"
    }
   },
   "outputs": [],
   "source": [
    "#ccd_visit_table_subset = ccd_visit_table[[\"ra\",\"dec\"]].iloc[:10]\n",
    "#ccd_visit_table_subset[[\"tractID\",\"patchID\"]] =  ccd_visit_table_subset.apply( FindTractAndPatch, axis=1,result_type ='expand')"
   ]
  },
  {
   "cell_type": "code",
   "execution_count": 32,
   "id": "a8597728-0c5c-4aa6-82db-8ac4df73f748",
   "metadata": {
    "execution": {
     "iopub.execute_input": "2024-05-09T12:57:12.907733Z",
     "iopub.status.busy": "2024-05-09T12:57:12.907612Z",
     "iopub.status.idle": "2024-05-09T12:57:12.931637Z",
     "shell.execute_reply": "2024-05-09T12:57:12.931264Z",
     "shell.execute_reply.started": "2024-05-09T12:57:12.907722Z"
    }
   },
   "outputs": [
    {
     "name": "stdout",
     "output_type": "stream",
     "text": [
      "ccdVisittractpatch_LSSTComCamSim_runs_nightlyvalidation_20240403_d_2024_03_29_DM-43612.csv found !!! ==> Read it !!!\n"
     ]
    }
   ],
   "source": [
    "# to speed up the calculation of tractID, patchID per visit, this file is saved\n",
    "# or read back\n",
    "if os.path.isfile(fn_ccdVisit_tracts_patches):\n",
    "    print(f\"{fn_ccdVisit_tracts_patches} found !!! ==> Read it !!!\" )\n",
    "    ccd_visit_tract_patch_table = pd.read_csv(fn_ccdVisit_tracts_patches) \n",
    "    ccd_visit_tract_patch_table.set_index(\"ccdVisitId\",inplace=True)\n",
    "    ccd_visit_tract_patch_table_only = ccd_visit_tract_patch_table[[\"tractID\",\"patchID\"]]\n",
    "    ccd_visit_table = ccd_visit_table.join(ccd_visit_tract_patch_table_only)\n",
    "else:\n",
    "    print(f\"{fn_ccdVisit_tracts_patches} NOT found !!! ==> Create it !!! \" )\n",
    "    ccd_visit_table[[\"tractID\",\"patchID\"]] = ccd_visit_table.apply(FindTractAndPatch, axis=1,result_type ='expand')\n",
    "    columns_selected = [\"ra\",\"dec\",\"llcra\",\"llcdec\",\"ulcra\",\"ulcdec\",\"urcra\",\"urcdec\",\"lrcra\",\"lrcdec\",\"ccdVid\",\"Vid\",\"nightObs\",\"tractID\",\"patchID\",\"zeroPoint\",\"airmass\",\"skyBg\",\"skyNoise\",\"expTime\"]\n",
    "    ccd_visit_tract_patch_table = ccd_visit_table[columns_selected]\n",
    "    ccd_visit_table_saved.to_csv(fn_ccdVisit_tracts_patches) "
   ]
  },
  {
   "cell_type": "code",
   "execution_count": 33,
   "id": "a6ba5557-a262-46ec-9399-190588a09a77",
   "metadata": {
    "execution": {
     "iopub.execute_input": "2024-05-09T12:57:12.932273Z",
     "iopub.status.busy": "2024-05-09T12:57:12.932144Z",
     "iopub.status.idle": "2024-05-09T12:57:12.934130Z",
     "shell.execute_reply": "2024-05-09T12:57:12.933802Z",
     "shell.execute_reply.started": "2024-05-09T12:57:12.932261Z"
    }
   },
   "outputs": [],
   "source": [
    "#ccd_visit_table[[\"tractID\",\"patchID\"]] = ccd_visit_table.apply( FindTractAndPatch, axis=1,result_type ='expand')"
   ]
  },
  {
   "cell_type": "code",
   "execution_count": 34,
   "id": "fbb02fad-120b-413e-bdc1-f9b02dfe3779",
   "metadata": {
    "execution": {
     "iopub.execute_input": "2024-05-09T12:57:12.934702Z",
     "iopub.status.busy": "2024-05-09T12:57:12.934583Z",
     "iopub.status.idle": "2024-05-09T12:57:12.962698Z",
     "shell.execute_reply": "2024-05-09T12:57:12.962340Z",
     "shell.execute_reply.started": "2024-05-09T12:57:12.934691Z"
    }
   },
   "outputs": [
    {
     "data": {
      "text/html": [
       "<div>\n",
       "<style scoped>\n",
       "    .dataframe tbody tr th:only-of-type {\n",
       "        vertical-align: middle;\n",
       "    }\n",
       "\n",
       "    .dataframe tbody tr th {\n",
       "        vertical-align: top;\n",
       "    }\n",
       "\n",
       "    .dataframe thead th {\n",
       "        text-align: right;\n",
       "    }\n",
       "</style>\n",
       "<table border=\"1\" class=\"dataframe\">\n",
       "  <thead>\n",
       "    <tr style=\"text-align: right;\">\n",
       "      <th></th>\n",
       "      <th>visitId</th>\n",
       "      <th>physical_filter</th>\n",
       "      <th>band</th>\n",
       "      <th>ra</th>\n",
       "      <th>dec</th>\n",
       "      <th>zenithDistance</th>\n",
       "      <th>zeroPoint</th>\n",
       "      <th>psfSigma</th>\n",
       "      <th>skyBg</th>\n",
       "      <th>skyNoise</th>\n",
       "      <th>astromOffsetMean</th>\n",
       "      <th>astromOffsetStd</th>\n",
       "      <th>nPsfStar</th>\n",
       "      <th>psfStarDeltaE1Median</th>\n",
       "      <th>psfStarDeltaE2Median</th>\n",
       "      <th>psfStarDeltaE1Scatter</th>\n",
       "      <th>psfStarDeltaE2Scatter</th>\n",
       "      <th>psfStarDeltaSizeMedian</th>\n",
       "      <th>psfStarDeltaSizeScatter</th>\n",
       "      <th>psfStarScaledDeltaSizeScatter</th>\n",
       "      <th>psfTraceRadiusDelta</th>\n",
       "      <th>maxDistToNearestPsf</th>\n",
       "      <th>effTime</th>\n",
       "      <th>effTimePsfSigmaScale</th>\n",
       "      <th>effTimeSkyBgScale</th>\n",
       "      <th>effTimeZeroPointScale</th>\n",
       "      <th>decl</th>\n",
       "      <th>detector</th>\n",
       "      <th>seeing</th>\n",
       "      <th>skyRotation</th>\n",
       "      <th>expMidpt</th>\n",
       "      <th>expMidptMJD</th>\n",
       "      <th>expTime</th>\n",
       "      <th>obsStart</th>\n",
       "      <th>obsStartMJD</th>\n",
       "      <th>darkTime</th>\n",
       "      <th>xSize</th>\n",
       "      <th>ySize</th>\n",
       "      <th>llcra</th>\n",
       "      <th>llcdec</th>\n",
       "      <th>ulcra</th>\n",
       "      <th>ulcdec</th>\n",
       "      <th>urcra</th>\n",
       "      <th>urcdec</th>\n",
       "      <th>lrcra</th>\n",
       "      <th>lrcdec</th>\n",
       "      <th>ccdVid</th>\n",
       "      <th>Vid</th>\n",
       "      <th>nightObs</th>\n",
       "      <th>Time</th>\n",
       "      <th>airmass</th>\n",
       "      <th>tractID</th>\n",
       "      <th>patchID</th>\n",
       "    </tr>\n",
       "    <tr>\n",
       "      <th>ccdVisitId</th>\n",
       "      <th></th>\n",
       "      <th></th>\n",
       "      <th></th>\n",
       "      <th></th>\n",
       "      <th></th>\n",
       "      <th></th>\n",
       "      <th></th>\n",
       "      <th></th>\n",
       "      <th></th>\n",
       "      <th></th>\n",
       "      <th></th>\n",
       "      <th></th>\n",
       "      <th></th>\n",
       "      <th></th>\n",
       "      <th></th>\n",
       "      <th></th>\n",
       "      <th></th>\n",
       "      <th></th>\n",
       "      <th></th>\n",
       "      <th></th>\n",
       "      <th></th>\n",
       "      <th></th>\n",
       "      <th></th>\n",
       "      <th></th>\n",
       "      <th></th>\n",
       "      <th></th>\n",
       "      <th></th>\n",
       "      <th></th>\n",
       "      <th></th>\n",
       "      <th></th>\n",
       "      <th></th>\n",
       "      <th></th>\n",
       "      <th></th>\n",
       "      <th></th>\n",
       "      <th></th>\n",
       "      <th></th>\n",
       "      <th></th>\n",
       "      <th></th>\n",
       "      <th></th>\n",
       "      <th></th>\n",
       "      <th></th>\n",
       "      <th></th>\n",
       "      <th></th>\n",
       "      <th></th>\n",
       "      <th></th>\n",
       "      <th></th>\n",
       "      <th></th>\n",
       "      <th></th>\n",
       "      <th></th>\n",
       "      <th></th>\n",
       "      <th></th>\n",
       "      <th></th>\n",
       "      <th></th>\n",
       "    </tr>\n",
       "  </thead>\n",
       "  <tbody>\n",
       "    <tr>\n",
       "      <th>730865860864</th>\n",
       "      <td>7024040300001</td>\n",
       "      <td>r_03</td>\n",
       "      <td>r</td>\n",
       "      <td>124.617999</td>\n",
       "      <td>-15.026212</td>\n",
       "      <td>17.825243</td>\n",
       "      <td>31.258871</td>\n",
       "      <td>1.507056</td>\n",
       "      <td>1703.767822</td>\n",
       "      <td>34.471790</td>\n",
       "      <td>0.005423</td>\n",
       "      <td>0.003085</td>\n",
       "      <td>534</td>\n",
       "      <td>0.000671</td>\n",
       "      <td>0.000063</td>\n",
       "      <td>0.010385</td>\n",
       "      <td>0.010232</td>\n",
       "      <td>-0.001001</td>\n",
       "      <td>0.009205</td>\n",
       "      <td>0.006108</td>\n",
       "      <td>0.012708</td>\n",
       "      <td>343.330109</td>\n",
       "      <td>11.789084</td>\n",
       "      <td>1.127149</td>\n",
       "      <td>0.344765</td>\n",
       "      <td>1.011240</td>\n",
       "      <td>-15.026212</td>\n",
       "      <td>0</td>\n",
       "      <td>0.711160</td>\n",
       "      <td>121.461718</td>\n",
       "      <td>2024-04-03 23:30:29.555496</td>\n",
       "      <td>60403.979509</td>\n",
       "      <td>30.0</td>\n",
       "      <td>2024-04-03 23:30:14.555496</td>\n",
       "      <td>60403.979335</td>\n",
       "      <td>33.0576</td>\n",
       "      <td>4071</td>\n",
       "      <td>3999</td>\n",
       "      <td>124.458471</td>\n",
       "      <td>-15.063877</td>\n",
       "      <td>124.581823</td>\n",
       "      <td>-14.871498</td>\n",
       "      <td>124.777487</td>\n",
       "      <td>-14.988434</td>\n",
       "      <td>124.654231</td>\n",
       "      <td>-15.180921</td>\n",
       "      <td>0</td>\n",
       "      <td>0</td>\n",
       "      <td>20240403</td>\n",
       "      <td>2024-04-03 23:30:14.555496</td>\n",
       "      <td>1.050426</td>\n",
       "      <td>6914</td>\n",
       "      <td>246</td>\n",
       "    </tr>\n",
       "    <tr>\n",
       "      <th>730865860865</th>\n",
       "      <td>7024040300001</td>\n",
       "      <td>r_03</td>\n",
       "      <td>r</td>\n",
       "      <td>124.745824</td>\n",
       "      <td>-14.826505</td>\n",
       "      <td>18.059967</td>\n",
       "      <td>31.238535</td>\n",
       "      <td>1.508598</td>\n",
       "      <td>1674.763306</td>\n",
       "      <td>32.659889</td>\n",
       "      <td>0.004810</td>\n",
       "      <td>0.002649</td>\n",
       "      <td>521</td>\n",
       "      <td>-0.000758</td>\n",
       "      <td>0.000405</td>\n",
       "      <td>0.010847</td>\n",
       "      <td>0.010906</td>\n",
       "      <td>-0.000540</td>\n",
       "      <td>0.010071</td>\n",
       "      <td>0.006677</td>\n",
       "      <td>0.011858</td>\n",
       "      <td>327.926941</td>\n",
       "      <td>11.528691</td>\n",
       "      <td>1.124846</td>\n",
       "      <td>0.350736</td>\n",
       "      <td>0.974059</td>\n",
       "      <td>-14.826505</td>\n",
       "      <td>1</td>\n",
       "      <td>0.710764</td>\n",
       "      <td>121.461718</td>\n",
       "      <td>2024-04-03 23:30:29.555496</td>\n",
       "      <td>60403.979509</td>\n",
       "      <td>30.0</td>\n",
       "      <td>2024-04-03 23:30:14.555496</td>\n",
       "      <td>60403.979335</td>\n",
       "      <td>33.0576</td>\n",
       "      <td>4071</td>\n",
       "      <td>3999</td>\n",
       "      <td>124.586453</td>\n",
       "      <td>-14.864268</td>\n",
       "      <td>124.709592</td>\n",
       "      <td>-14.671812</td>\n",
       "      <td>124.905148</td>\n",
       "      <td>-14.788632</td>\n",
       "      <td>124.782113</td>\n",
       "      <td>-14.981198</td>\n",
       "      <td>1</td>\n",
       "      <td>0</td>\n",
       "      <td>20240403</td>\n",
       "      <td>2024-04-03 23:30:14.555496</td>\n",
       "      <td>1.051820</td>\n",
       "      <td>7149</td>\n",
       "      <td>12</td>\n",
       "    </tr>\n",
       "    <tr>\n",
       "      <th>730865860866</th>\n",
       "      <td>7024040300001</td>\n",
       "      <td>r_03</td>\n",
       "      <td>r</td>\n",
       "      <td>124.873418</td>\n",
       "      <td>-14.626731</td>\n",
       "      <td>18.294695</td>\n",
       "      <td>31.259706</td>\n",
       "      <td>1.525470</td>\n",
       "      <td>1709.555664</td>\n",
       "      <td>33.396534</td>\n",
       "      <td>0.004649</td>\n",
       "      <td>0.002711</td>\n",
       "      <td>499</td>\n",
       "      <td>-0.000471</td>\n",
       "      <td>-0.000007</td>\n",
       "      <td>0.010723</td>\n",
       "      <td>0.010910</td>\n",
       "      <td>0.000434</td>\n",
       "      <td>0.009015</td>\n",
       "      <td>0.005919</td>\n",
       "      <td>0.015276</td>\n",
       "      <td>507.804199</td>\n",
       "      <td>11.484890</td>\n",
       "      <td>1.100101</td>\n",
       "      <td>0.343598</td>\n",
       "      <td>1.012796</td>\n",
       "      <td>-14.626731</td>\n",
       "      <td>2</td>\n",
       "      <td>0.718461</td>\n",
       "      <td>121.461718</td>\n",
       "      <td>2024-04-03 23:30:29.555496</td>\n",
       "      <td>60403.979509</td>\n",
       "      <td>30.0</td>\n",
       "      <td>2024-04-03 23:30:14.555496</td>\n",
       "      <td>60403.979335</td>\n",
       "      <td>33.0576</td>\n",
       "      <td>4071</td>\n",
       "      <td>3999</td>\n",
       "      <td>124.714213</td>\n",
       "      <td>-14.664580</td>\n",
       "      <td>124.837124</td>\n",
       "      <td>-14.472080</td>\n",
       "      <td>125.032570</td>\n",
       "      <td>-14.588777</td>\n",
       "      <td>124.909767</td>\n",
       "      <td>-14.781395</td>\n",
       "      <td>2</td>\n",
       "      <td>0</td>\n",
       "      <td>20240403</td>\n",
       "      <td>2024-04-03 23:30:14.555496</td>\n",
       "      <td>1.053236</td>\n",
       "      <td>7149</td>\n",
       "      <td>61</td>\n",
       "    </tr>\n",
       "    <tr>\n",
       "      <th>730865860867</th>\n",
       "      <td>7024040300001</td>\n",
       "      <td>r_03</td>\n",
       "      <td>r</td>\n",
       "      <td>124.824851</td>\n",
       "      <td>-15.149693</td>\n",
       "      <td>17.819584</td>\n",
       "      <td>31.267454</td>\n",
       "      <td>1.514115</td>\n",
       "      <td>1717.083984</td>\n",
       "      <td>34.223988</td>\n",
       "      <td>0.004732</td>\n",
       "      <td>0.002868</td>\n",
       "      <td>504</td>\n",
       "      <td>-0.000470</td>\n",
       "      <td>-0.000685</td>\n",
       "      <td>0.009737</td>\n",
       "      <td>0.010434</td>\n",
       "      <td>-0.000375</td>\n",
       "      <td>0.010328</td>\n",
       "      <td>0.006824</td>\n",
       "      <td>0.019305</td>\n",
       "      <td>371.574188</td>\n",
       "      <td>11.773538</td>\n",
       "      <td>1.116663</td>\n",
       "      <td>0.342092</td>\n",
       "      <td>1.027357</td>\n",
       "      <td>-15.149693</td>\n",
       "      <td>3</td>\n",
       "      <td>0.713278</td>\n",
       "      <td>121.461718</td>\n",
       "      <td>2024-04-03 23:30:29.555496</td>\n",
       "      <td>60403.979509</td>\n",
       "      <td>30.0</td>\n",
       "      <td>2024-04-03 23:30:14.555496</td>\n",
       "      <td>60403.979335</td>\n",
       "      <td>33.0576</td>\n",
       "      <td>4071</td>\n",
       "      <td>3999</td>\n",
       "      <td>124.665250</td>\n",
       "      <td>-15.187500</td>\n",
       "      <td>124.788499</td>\n",
       "      <td>-14.995008</td>\n",
       "      <td>124.984403</td>\n",
       "      <td>-15.111770</td>\n",
       "      <td>124.861257</td>\n",
       "      <td>-15.304366</td>\n",
       "      <td>3</td>\n",
       "      <td>0</td>\n",
       "      <td>20240403</td>\n",
       "      <td>2024-04-03 23:30:14.555496</td>\n",
       "      <td>1.050393</td>\n",
       "      <td>6914</td>\n",
       "      <td>227</td>\n",
       "    </tr>\n",
       "    <tr>\n",
       "      <th>730865860868</th>\n",
       "      <td>7024040300001</td>\n",
       "      <td>r_03</td>\n",
       "      <td>r</td>\n",
       "      <td>124.952564</td>\n",
       "      <td>-14.949870</td>\n",
       "      <td>18.054384</td>\n",
       "      <td>31.265049</td>\n",
       "      <td>1.510671</td>\n",
       "      <td>1714.527710</td>\n",
       "      <td>33.346077</td>\n",
       "      <td>0.004954</td>\n",
       "      <td>0.002795</td>\n",
       "      <td>472</td>\n",
       "      <td>0.000277</td>\n",
       "      <td>0.000023</td>\n",
       "      <td>0.009188</td>\n",
       "      <td>0.009661</td>\n",
       "      <td>0.000165</td>\n",
       "      <td>0.010904</td>\n",
       "      <td>0.007214</td>\n",
       "      <td>0.009335</td>\n",
       "      <td>364.833038</td>\n",
       "      <td>11.792562</td>\n",
       "      <td>1.121760</td>\n",
       "      <td>0.342602</td>\n",
       "      <td>1.022816</td>\n",
       "      <td>-14.949870</td>\n",
       "      <td>4</td>\n",
       "      <td>0.711782</td>\n",
       "      <td>121.461718</td>\n",
       "      <td>2024-04-03 23:30:29.555496</td>\n",
       "      <td>60403.979509</td>\n",
       "      <td>30.0</td>\n",
       "      <td>2024-04-03 23:30:14.555496</td>\n",
       "      <td>60403.979335</td>\n",
       "      <td>33.0576</td>\n",
       "      <td>4071</td>\n",
       "      <td>3999</td>\n",
       "      <td>124.793126</td>\n",
       "      <td>-14.987773</td>\n",
       "      <td>124.916155</td>\n",
       "      <td>-14.795198</td>\n",
       "      <td>125.111945</td>\n",
       "      <td>-14.911856</td>\n",
       "      <td>124.989026</td>\n",
       "      <td>-15.104533</td>\n",
       "      <td>4</td>\n",
       "      <td>0</td>\n",
       "      <td>20240403</td>\n",
       "      <td>2024-04-03 23:30:14.555496</td>\n",
       "      <td>1.051787</td>\n",
       "      <td>6914</td>\n",
       "      <td>259</td>\n",
       "    </tr>\n",
       "    <tr>\n",
       "      <th>...</th>\n",
       "      <td>...</td>\n",
       "      <td>...</td>\n",
       "      <td>...</td>\n",
       "      <td>...</td>\n",
       "      <td>...</td>\n",
       "      <td>...</td>\n",
       "      <td>...</td>\n",
       "      <td>...</td>\n",
       "      <td>...</td>\n",
       "      <td>...</td>\n",
       "      <td>...</td>\n",
       "      <td>...</td>\n",
       "      <td>...</td>\n",
       "      <td>...</td>\n",
       "      <td>...</td>\n",
       "      <td>...</td>\n",
       "      <td>...</td>\n",
       "      <td>...</td>\n",
       "      <td>...</td>\n",
       "      <td>...</td>\n",
       "      <td>...</td>\n",
       "      <td>...</td>\n",
       "      <td>...</td>\n",
       "      <td>...</td>\n",
       "      <td>...</td>\n",
       "      <td>...</td>\n",
       "      <td>...</td>\n",
       "      <td>...</td>\n",
       "      <td>...</td>\n",
       "      <td>...</td>\n",
       "      <td>...</td>\n",
       "      <td>...</td>\n",
       "      <td>...</td>\n",
       "      <td>...</td>\n",
       "      <td>...</td>\n",
       "      <td>...</td>\n",
       "      <td>...</td>\n",
       "      <td>...</td>\n",
       "      <td>...</td>\n",
       "      <td>...</td>\n",
       "      <td>...</td>\n",
       "      <td>...</td>\n",
       "      <td>...</td>\n",
       "      <td>...</td>\n",
       "      <td>...</td>\n",
       "      <td>...</td>\n",
       "      <td>...</td>\n",
       "      <td>...</td>\n",
       "      <td>...</td>\n",
       "      <td>...</td>\n",
       "      <td>...</td>\n",
       "      <td>...</td>\n",
       "      <td>...</td>\n",
       "    </tr>\n",
       "    <tr>\n",
       "      <th>730866060292</th>\n",
       "      <td>7024040300780</td>\n",
       "      <td>r_03</td>\n",
       "      <td>r</td>\n",
       "      <td>299.857944</td>\n",
       "      <td>-40.858541</td>\n",
       "      <td>19.874241</td>\n",
       "      <td>31.276102</td>\n",
       "      <td>1.663994</td>\n",
       "      <td>1544.489258</td>\n",
       "      <td>31.839106</td>\n",
       "      <td>0.006128</td>\n",
       "      <td>0.003535</td>\n",
       "      <td>742</td>\n",
       "      <td>0.000638</td>\n",
       "      <td>-0.000605</td>\n",
       "      <td>0.012558</td>\n",
       "      <td>0.010842</td>\n",
       "      <td>-0.000502</td>\n",
       "      <td>0.011414</td>\n",
       "      <td>0.006865</td>\n",
       "      <td>0.012346</td>\n",
       "      <td>238.200607</td>\n",
       "      <td>11.011467</td>\n",
       "      <td>0.924563</td>\n",
       "      <td>0.380320</td>\n",
       "      <td>1.043851</td>\n",
       "      <td>-40.858541</td>\n",
       "      <td>4</td>\n",
       "      <td>0.784160</td>\n",
       "      <td>133.834081</td>\n",
       "      <td>2024-04-04 10:27:54.199510</td>\n",
       "      <td>60404.436044</td>\n",
       "      <td>30.0</td>\n",
       "      <td>2024-04-04 10:27:39.199510</td>\n",
       "      <td>60404.435870</td>\n",
       "      <td>33.0575</td>\n",
       "      <td>4071</td>\n",
       "      <td>3999</td>\n",
       "      <td>299.648263</td>\n",
       "      <td>-40.863270</td>\n",
       "      <td>299.855183</td>\n",
       "      <td>-40.699906</td>\n",
       "      <td>300.067595</td>\n",
       "      <td>-40.853432</td>\n",
       "      <td>299.860717</td>\n",
       "      <td>-41.017175</td>\n",
       "      <td>199428</td>\n",
       "      <td>779</td>\n",
       "      <td>20240403</td>\n",
       "      <td>2024-04-04 10:27:39.199510</td>\n",
       "      <td>1.063331</td>\n",
       "      <td>3384</td>\n",
       "      <td>159</td>\n",
       "    </tr>\n",
       "    <tr>\n",
       "      <th>730866060293</th>\n",
       "      <td>7024040300780</td>\n",
       "      <td>r_03</td>\n",
       "      <td>r</td>\n",
       "      <td>300.072069</td>\n",
       "      <td>-40.688646</td>\n",
       "      <td>19.948414</td>\n",
       "      <td>31.241217</td>\n",
       "      <td>1.658965</td>\n",
       "      <td>1498.435913</td>\n",
       "      <td>32.142555</td>\n",
       "      <td>0.006090</td>\n",
       "      <td>0.003350</td>\n",
       "      <td>783</td>\n",
       "      <td>-0.000532</td>\n",
       "      <td>0.000092</td>\n",
       "      <td>0.010783</td>\n",
       "      <td>0.010751</td>\n",
       "      <td>0.000342</td>\n",
       "      <td>0.010660</td>\n",
       "      <td>0.006418</td>\n",
       "      <td>0.008839</td>\n",
       "      <td>369.936768</td>\n",
       "      <td>10.708126</td>\n",
       "      <td>0.930177</td>\n",
       "      <td>0.392009</td>\n",
       "      <td>0.978883</td>\n",
       "      <td>-40.688646</td>\n",
       "      <td>5</td>\n",
       "      <td>0.781568</td>\n",
       "      <td>133.834081</td>\n",
       "      <td>2024-04-04 10:27:54.199510</td>\n",
       "      <td>60404.436044</td>\n",
       "      <td>30.0</td>\n",
       "      <td>2024-04-04 10:27:39.199510</td>\n",
       "      <td>60404.435870</td>\n",
       "      <td>33.0575</td>\n",
       "      <td>4071</td>\n",
       "      <td>3999</td>\n",
       "      <td>299.862940</td>\n",
       "      <td>-40.693761</td>\n",
       "      <td>300.068800</td>\n",
       "      <td>-40.530029</td>\n",
       "      <td>300.281152</td>\n",
       "      <td>-40.683155</td>\n",
       "      <td>300.075350</td>\n",
       "      <td>-40.847272</td>\n",
       "      <td>199429</td>\n",
       "      <td>779</td>\n",
       "      <td>20240403</td>\n",
       "      <td>2024-04-04 10:27:39.199510</td>\n",
       "      <td>1.063830</td>\n",
       "      <td>3384</td>\n",
       "      <td>175</td>\n",
       "    </tr>\n",
       "    <tr>\n",
       "      <th>730866060294</th>\n",
       "      <td>7024040300780</td>\n",
       "      <td>r_03</td>\n",
       "      <td>r</td>\n",
       "      <td>299.867703</td>\n",
       "      <td>-41.190589</td>\n",
       "      <td>20.026587</td>\n",
       "      <td>31.276382</td>\n",
       "      <td>1.663328</td>\n",
       "      <td>1540.607056</td>\n",
       "      <td>32.586014</td>\n",
       "      <td>0.006423</td>\n",
       "      <td>0.003625</td>\n",
       "      <td>801</td>\n",
       "      <td>-0.000239</td>\n",
       "      <td>-0.000069</td>\n",
       "      <td>0.010591</td>\n",
       "      <td>0.010540</td>\n",
       "      <td>-0.000550</td>\n",
       "      <td>0.011534</td>\n",
       "      <td>0.006938</td>\n",
       "      <td>0.012688</td>\n",
       "      <td>241.052673</td>\n",
       "      <td>11.053796</td>\n",
       "      <td>0.925303</td>\n",
       "      <td>0.381278</td>\n",
       "      <td>1.044393</td>\n",
       "      <td>-41.190589</td>\n",
       "      <td>6</td>\n",
       "      <td>0.782899</td>\n",
       "      <td>133.834081</td>\n",
       "      <td>2024-04-04 10:27:54.199510</td>\n",
       "      <td>60404.436044</td>\n",
       "      <td>30.0</td>\n",
       "      <td>2024-04-04 10:27:39.199510</td>\n",
       "      <td>60404.435870</td>\n",
       "      <td>33.0575</td>\n",
       "      <td>4071</td>\n",
       "      <td>3999</td>\n",
       "      <td>299.656968</td>\n",
       "      <td>-41.195332</td>\n",
       "      <td>299.864904</td>\n",
       "      <td>-41.031966</td>\n",
       "      <td>300.078406</td>\n",
       "      <td>-41.185459</td>\n",
       "      <td>299.870518</td>\n",
       "      <td>-41.349193</td>\n",
       "      <td>199430</td>\n",
       "      <td>779</td>\n",
       "      <td>20240403</td>\n",
       "      <td>2024-04-04 10:27:39.199510</td>\n",
       "      <td>1.064358</td>\n",
       "      <td>3384</td>\n",
       "      <td>91</td>\n",
       "    </tr>\n",
       "    <tr>\n",
       "      <th>730866060295</th>\n",
       "      <td>7024040300780</td>\n",
       "      <td>r_03</td>\n",
       "      <td>r</td>\n",
       "      <td>300.082879</td>\n",
       "      <td>-41.020682</td>\n",
       "      <td>20.097589</td>\n",
       "      <td>31.260756</td>\n",
       "      <td>1.658629</td>\n",
       "      <td>1523.149414</td>\n",
       "      <td>31.984844</td>\n",
       "      <td>0.006894</td>\n",
       "      <td>0.003758</td>\n",
       "      <td>730</td>\n",
       "      <td>-0.000834</td>\n",
       "      <td>0.000277</td>\n",
       "      <td>0.011400</td>\n",
       "      <td>0.009914</td>\n",
       "      <td>-0.000469</td>\n",
       "      <td>0.011202</td>\n",
       "      <td>0.006753</td>\n",
       "      <td>0.015594</td>\n",
       "      <td>349.031647</td>\n",
       "      <td>10.924878</td>\n",
       "      <td>0.930554</td>\n",
       "      <td>0.385648</td>\n",
       "      <td>1.014758</td>\n",
       "      <td>-41.020682</td>\n",
       "      <td>7</td>\n",
       "      <td>0.781810</td>\n",
       "      <td>133.834081</td>\n",
       "      <td>2024-04-04 10:27:54.199510</td>\n",
       "      <td>60404.436044</td>\n",
       "      <td>30.0</td>\n",
       "      <td>2024-04-04 10:27:39.199510</td>\n",
       "      <td>60404.435870</td>\n",
       "      <td>33.0575</td>\n",
       "      <td>4071</td>\n",
       "      <td>3999</td>\n",
       "      <td>299.872697</td>\n",
       "      <td>-41.025821</td>\n",
       "      <td>300.079575</td>\n",
       "      <td>-40.862055</td>\n",
       "      <td>300.293012</td>\n",
       "      <td>-41.015162</td>\n",
       "      <td>300.086197</td>\n",
       "      <td>-41.179299</td>\n",
       "      <td>199431</td>\n",
       "      <td>779</td>\n",
       "      <td>20240403</td>\n",
       "      <td>2024-04-04 10:27:39.199510</td>\n",
       "      <td>1.064839</td>\n",
       "      <td>3384</td>\n",
       "      <td>124</td>\n",
       "    </tr>\n",
       "    <tr>\n",
       "      <th>730866060296</th>\n",
       "      <td>7024040300780</td>\n",
       "      <td>r_03</td>\n",
       "      <td>r</td>\n",
       "      <td>300.296939</td>\n",
       "      <td>-40.850372</td>\n",
       "      <td>20.170965</td>\n",
       "      <td>31.251465</td>\n",
       "      <td>1.658580</td>\n",
       "      <td>1514.597778</td>\n",
       "      <td>32.967434</td>\n",
       "      <td>0.006363</td>\n",
       "      <td>0.003323</td>\n",
       "      <td>732</td>\n",
       "      <td>0.000318</td>\n",
       "      <td>0.000269</td>\n",
       "      <td>0.010834</td>\n",
       "      <td>0.010246</td>\n",
       "      <td>0.000048</td>\n",
       "      <td>0.010211</td>\n",
       "      <td>0.006158</td>\n",
       "      <td>0.009968</td>\n",
       "      <td>342.671265</td>\n",
       "      <td>10.800768</td>\n",
       "      <td>0.930609</td>\n",
       "      <td>0.387826</td>\n",
       "      <td>0.997538</td>\n",
       "      <td>-40.850372</td>\n",
       "      <td>8</td>\n",
       "      <td>0.780872</td>\n",
       "      <td>133.834081</td>\n",
       "      <td>2024-04-04 10:27:54.199510</td>\n",
       "      <td>60404.436044</td>\n",
       "      <td>30.0</td>\n",
       "      <td>2024-04-04 10:27:39.199510</td>\n",
       "      <td>60404.435870</td>\n",
       "      <td>33.0575</td>\n",
       "      <td>4071</td>\n",
       "      <td>3999</td>\n",
       "      <td>300.087328</td>\n",
       "      <td>-40.855895</td>\n",
       "      <td>300.293126</td>\n",
       "      <td>-40.691757</td>\n",
       "      <td>300.506492</td>\n",
       "      <td>-40.844470</td>\n",
       "      <td>300.300763</td>\n",
       "      <td>-41.008987</td>\n",
       "      <td>199432</td>\n",
       "      <td>779</td>\n",
       "      <td>20240403</td>\n",
       "      <td>2024-04-04 10:27:39.199510</td>\n",
       "      <td>1.065340</td>\n",
       "      <td>3384</td>\n",
       "      <td>156</td>\n",
       "    </tr>\n",
       "  </tbody>\n",
       "</table>\n",
       "<p>6301 rows × 53 columns</p>\n",
       "</div>"
      ],
      "text/plain": [
       "                    visitId physical_filter band          ra        dec  \\\n",
       "ccdVisitId                                                                \n",
       "730865860864  7024040300001            r_03    r  124.617999 -15.026212   \n",
       "730865860865  7024040300001            r_03    r  124.745824 -14.826505   \n",
       "730865860866  7024040300001            r_03    r  124.873418 -14.626731   \n",
       "730865860867  7024040300001            r_03    r  124.824851 -15.149693   \n",
       "730865860868  7024040300001            r_03    r  124.952564 -14.949870   \n",
       "...                     ...             ...  ...         ...        ...   \n",
       "730866060292  7024040300780            r_03    r  299.857944 -40.858541   \n",
       "730866060293  7024040300780            r_03    r  300.072069 -40.688646   \n",
       "730866060294  7024040300780            r_03    r  299.867703 -41.190589   \n",
       "730866060295  7024040300780            r_03    r  300.082879 -41.020682   \n",
       "730866060296  7024040300780            r_03    r  300.296939 -40.850372   \n",
       "\n",
       "              zenithDistance  zeroPoint  psfSigma        skyBg   skyNoise  \\\n",
       "ccdVisitId                                                                  \n",
       "730865860864       17.825243  31.258871  1.507056  1703.767822  34.471790   \n",
       "730865860865       18.059967  31.238535  1.508598  1674.763306  32.659889   \n",
       "730865860866       18.294695  31.259706  1.525470  1709.555664  33.396534   \n",
       "730865860867       17.819584  31.267454  1.514115  1717.083984  34.223988   \n",
       "730865860868       18.054384  31.265049  1.510671  1714.527710  33.346077   \n",
       "...                      ...        ...       ...          ...        ...   \n",
       "730866060292       19.874241  31.276102  1.663994  1544.489258  31.839106   \n",
       "730866060293       19.948414  31.241217  1.658965  1498.435913  32.142555   \n",
       "730866060294       20.026587  31.276382  1.663328  1540.607056  32.586014   \n",
       "730866060295       20.097589  31.260756  1.658629  1523.149414  31.984844   \n",
       "730866060296       20.170965  31.251465  1.658580  1514.597778  32.967434   \n",
       "\n",
       "              astromOffsetMean  astromOffsetStd  nPsfStar  \\\n",
       "ccdVisitId                                                  \n",
       "730865860864          0.005423         0.003085       534   \n",
       "730865860865          0.004810         0.002649       521   \n",
       "730865860866          0.004649         0.002711       499   \n",
       "730865860867          0.004732         0.002868       504   \n",
       "730865860868          0.004954         0.002795       472   \n",
       "...                        ...              ...       ...   \n",
       "730866060292          0.006128         0.003535       742   \n",
       "730866060293          0.006090         0.003350       783   \n",
       "730866060294          0.006423         0.003625       801   \n",
       "730866060295          0.006894         0.003758       730   \n",
       "730866060296          0.006363         0.003323       732   \n",
       "\n",
       "              psfStarDeltaE1Median  psfStarDeltaE2Median  \\\n",
       "ccdVisitId                                                 \n",
       "730865860864              0.000671              0.000063   \n",
       "730865860865             -0.000758              0.000405   \n",
       "730865860866             -0.000471             -0.000007   \n",
       "730865860867             -0.000470             -0.000685   \n",
       "730865860868              0.000277              0.000023   \n",
       "...                            ...                   ...   \n",
       "730866060292              0.000638             -0.000605   \n",
       "730866060293             -0.000532              0.000092   \n",
       "730866060294             -0.000239             -0.000069   \n",
       "730866060295             -0.000834              0.000277   \n",
       "730866060296              0.000318              0.000269   \n",
       "\n",
       "              psfStarDeltaE1Scatter  psfStarDeltaE2Scatter  \\\n",
       "ccdVisitId                                                   \n",
       "730865860864               0.010385               0.010232   \n",
       "730865860865               0.010847               0.010906   \n",
       "730865860866               0.010723               0.010910   \n",
       "730865860867               0.009737               0.010434   \n",
       "730865860868               0.009188               0.009661   \n",
       "...                             ...                    ...   \n",
       "730866060292               0.012558               0.010842   \n",
       "730866060293               0.010783               0.010751   \n",
       "730866060294               0.010591               0.010540   \n",
       "730866060295               0.011400               0.009914   \n",
       "730866060296               0.010834               0.010246   \n",
       "\n",
       "              psfStarDeltaSizeMedian  psfStarDeltaSizeScatter  \\\n",
       "ccdVisitId                                                      \n",
       "730865860864               -0.001001                 0.009205   \n",
       "730865860865               -0.000540                 0.010071   \n",
       "730865860866                0.000434                 0.009015   \n",
       "730865860867               -0.000375                 0.010328   \n",
       "730865860868                0.000165                 0.010904   \n",
       "...                              ...                      ...   \n",
       "730866060292               -0.000502                 0.011414   \n",
       "730866060293                0.000342                 0.010660   \n",
       "730866060294               -0.000550                 0.011534   \n",
       "730866060295               -0.000469                 0.011202   \n",
       "730866060296                0.000048                 0.010211   \n",
       "\n",
       "              psfStarScaledDeltaSizeScatter  psfTraceRadiusDelta  \\\n",
       "ccdVisitId                                                         \n",
       "730865860864                       0.006108             0.012708   \n",
       "730865860865                       0.006677             0.011858   \n",
       "730865860866                       0.005919             0.015276   \n",
       "730865860867                       0.006824             0.019305   \n",
       "730865860868                       0.007214             0.009335   \n",
       "...                                     ...                  ...   \n",
       "730866060292                       0.006865             0.012346   \n",
       "730866060293                       0.006418             0.008839   \n",
       "730866060294                       0.006938             0.012688   \n",
       "730866060295                       0.006753             0.015594   \n",
       "730866060296                       0.006158             0.009968   \n",
       "\n",
       "              maxDistToNearestPsf    effTime  effTimePsfSigmaScale  \\\n",
       "ccdVisitId                                                           \n",
       "730865860864           343.330109  11.789084              1.127149   \n",
       "730865860865           327.926941  11.528691              1.124846   \n",
       "730865860866           507.804199  11.484890              1.100101   \n",
       "730865860867           371.574188  11.773538              1.116663   \n",
       "730865860868           364.833038  11.792562              1.121760   \n",
       "...                           ...        ...                   ...   \n",
       "730866060292           238.200607  11.011467              0.924563   \n",
       "730866060293           369.936768  10.708126              0.930177   \n",
       "730866060294           241.052673  11.053796              0.925303   \n",
       "730866060295           349.031647  10.924878              0.930554   \n",
       "730866060296           342.671265  10.800768              0.930609   \n",
       "\n",
       "              effTimeSkyBgScale  effTimeZeroPointScale       decl  detector  \\\n",
       "ccdVisitId                                                                    \n",
       "730865860864           0.344765               1.011240 -15.026212         0   \n",
       "730865860865           0.350736               0.974059 -14.826505         1   \n",
       "730865860866           0.343598               1.012796 -14.626731         2   \n",
       "730865860867           0.342092               1.027357 -15.149693         3   \n",
       "730865860868           0.342602               1.022816 -14.949870         4   \n",
       "...                         ...                    ...        ...       ...   \n",
       "730866060292           0.380320               1.043851 -40.858541         4   \n",
       "730866060293           0.392009               0.978883 -40.688646         5   \n",
       "730866060294           0.381278               1.044393 -41.190589         6   \n",
       "730866060295           0.385648               1.014758 -41.020682         7   \n",
       "730866060296           0.387826               0.997538 -40.850372         8   \n",
       "\n",
       "                seeing  skyRotation                   expMidpt   expMidptMJD  \\\n",
       "ccdVisitId                                                                     \n",
       "730865860864  0.711160   121.461718 2024-04-03 23:30:29.555496  60403.979509   \n",
       "730865860865  0.710764   121.461718 2024-04-03 23:30:29.555496  60403.979509   \n",
       "730865860866  0.718461   121.461718 2024-04-03 23:30:29.555496  60403.979509   \n",
       "730865860867  0.713278   121.461718 2024-04-03 23:30:29.555496  60403.979509   \n",
       "730865860868  0.711782   121.461718 2024-04-03 23:30:29.555496  60403.979509   \n",
       "...                ...          ...                        ...           ...   \n",
       "730866060292  0.784160   133.834081 2024-04-04 10:27:54.199510  60404.436044   \n",
       "730866060293  0.781568   133.834081 2024-04-04 10:27:54.199510  60404.436044   \n",
       "730866060294  0.782899   133.834081 2024-04-04 10:27:54.199510  60404.436044   \n",
       "730866060295  0.781810   133.834081 2024-04-04 10:27:54.199510  60404.436044   \n",
       "730866060296  0.780872   133.834081 2024-04-04 10:27:54.199510  60404.436044   \n",
       "\n",
       "              expTime                   obsStart   obsStartMJD  darkTime  \\\n",
       "ccdVisitId                                                                 \n",
       "730865860864     30.0 2024-04-03 23:30:14.555496  60403.979335   33.0576   \n",
       "730865860865     30.0 2024-04-03 23:30:14.555496  60403.979335   33.0576   \n",
       "730865860866     30.0 2024-04-03 23:30:14.555496  60403.979335   33.0576   \n",
       "730865860867     30.0 2024-04-03 23:30:14.555496  60403.979335   33.0576   \n",
       "730865860868     30.0 2024-04-03 23:30:14.555496  60403.979335   33.0576   \n",
       "...               ...                        ...           ...       ...   \n",
       "730866060292     30.0 2024-04-04 10:27:39.199510  60404.435870   33.0575   \n",
       "730866060293     30.0 2024-04-04 10:27:39.199510  60404.435870   33.0575   \n",
       "730866060294     30.0 2024-04-04 10:27:39.199510  60404.435870   33.0575   \n",
       "730866060295     30.0 2024-04-04 10:27:39.199510  60404.435870   33.0575   \n",
       "730866060296     30.0 2024-04-04 10:27:39.199510  60404.435870   33.0575   \n",
       "\n",
       "              xSize  ySize       llcra     llcdec       ulcra     ulcdec  \\\n",
       "ccdVisitId                                                                 \n",
       "730865860864   4071   3999  124.458471 -15.063877  124.581823 -14.871498   \n",
       "730865860865   4071   3999  124.586453 -14.864268  124.709592 -14.671812   \n",
       "730865860866   4071   3999  124.714213 -14.664580  124.837124 -14.472080   \n",
       "730865860867   4071   3999  124.665250 -15.187500  124.788499 -14.995008   \n",
       "730865860868   4071   3999  124.793126 -14.987773  124.916155 -14.795198   \n",
       "...             ...    ...         ...        ...         ...        ...   \n",
       "730866060292   4071   3999  299.648263 -40.863270  299.855183 -40.699906   \n",
       "730866060293   4071   3999  299.862940 -40.693761  300.068800 -40.530029   \n",
       "730866060294   4071   3999  299.656968 -41.195332  299.864904 -41.031966   \n",
       "730866060295   4071   3999  299.872697 -41.025821  300.079575 -40.862055   \n",
       "730866060296   4071   3999  300.087328 -40.855895  300.293126 -40.691757   \n",
       "\n",
       "                   urcra     urcdec       lrcra     lrcdec  ccdVid  Vid  \\\n",
       "ccdVisitId                                                                \n",
       "730865860864  124.777487 -14.988434  124.654231 -15.180921       0    0   \n",
       "730865860865  124.905148 -14.788632  124.782113 -14.981198       1    0   \n",
       "730865860866  125.032570 -14.588777  124.909767 -14.781395       2    0   \n",
       "730865860867  124.984403 -15.111770  124.861257 -15.304366       3    0   \n",
       "730865860868  125.111945 -14.911856  124.989026 -15.104533       4    0   \n",
       "...                  ...        ...         ...        ...     ...  ...   \n",
       "730866060292  300.067595 -40.853432  299.860717 -41.017175  199428  779   \n",
       "730866060293  300.281152 -40.683155  300.075350 -40.847272  199429  779   \n",
       "730866060294  300.078406 -41.185459  299.870518 -41.349193  199430  779   \n",
       "730866060295  300.293012 -41.015162  300.086197 -41.179299  199431  779   \n",
       "730866060296  300.506492 -40.844470  300.300763 -41.008987  199432  779   \n",
       "\n",
       "              nightObs                       Time   airmass  tractID  patchID  \n",
       "ccdVisitId                                                                     \n",
       "730865860864  20240403 2024-04-03 23:30:14.555496  1.050426     6914      246  \n",
       "730865860865  20240403 2024-04-03 23:30:14.555496  1.051820     7149       12  \n",
       "730865860866  20240403 2024-04-03 23:30:14.555496  1.053236     7149       61  \n",
       "730865860867  20240403 2024-04-03 23:30:14.555496  1.050393     6914      227  \n",
       "730865860868  20240403 2024-04-03 23:30:14.555496  1.051787     6914      259  \n",
       "...                ...                        ...       ...      ...      ...  \n",
       "730866060292  20240403 2024-04-04 10:27:39.199510  1.063331     3384      159  \n",
       "730866060293  20240403 2024-04-04 10:27:39.199510  1.063830     3384      175  \n",
       "730866060294  20240403 2024-04-04 10:27:39.199510  1.064358     3384       91  \n",
       "730866060295  20240403 2024-04-04 10:27:39.199510  1.064839     3384      124  \n",
       "730866060296  20240403 2024-04-04 10:27:39.199510  1.065340     3384      156  \n",
       "\n",
       "[6301 rows x 53 columns]"
      ]
     },
     "execution_count": 34,
     "metadata": {},
     "output_type": "execute_result"
    }
   ],
   "source": [
    "ccd_visit_table"
   ]
  },
  {
   "cell_type": "markdown",
   "id": "e60bc1f4-7d50-4990-a7fe-ef149d9cfce3",
   "metadata": {},
   "source": [
    "## Configuration"
   ]
  },
  {
   "cell_type": "code",
   "execution_count": 35,
   "id": "ff733138-0383-47d6-bdde-d660ab453cd8",
   "metadata": {
    "execution": {
     "iopub.execute_input": "2024-05-09T12:57:12.963280Z",
     "iopub.status.busy": "2024-05-09T12:57:12.963156Z",
     "iopub.status.idle": "2024-05-09T12:57:12.988928Z",
     "shell.execute_reply": "2024-05-09T12:57:12.988544Z",
     "shell.execute_reply.started": "2024-05-09T12:57:12.963268Z"
    }
   },
   "outputs": [
    {
     "name": "stderr",
     "output_type": "stream",
     "text": [
      "/home/d/dagoret/repos/repos_w_2024_17/rubinsimphot/src/rubinsimphot/phot_utils/bandpass.py:68: UserWarning: Wavelength sampling of 1.0 nm is > 0.2 nm, this may not work well with a Sed object. Consider resampling with resample_bandpass method.\n",
      "  warnings.warn(\n"
     ]
    }
   ],
   "source": [
    "am0 =1.20    # airmass\n",
    "pwv0 = 5.0  # Precipitable water vapor vertical column depth in mm\n",
    "oz0 = 300.  # Ozone vertical column depth in Dobson Unit (DU)\n",
    "ncomp=1     # Number of aerosol components\n",
    "tau0= 0.04 # Vertical Aerosol depth (VAOD) \n",
    "beta0 = 1.2 # Aerosol Angstrom exponent\n",
    "pc = PhotometricCorrections(am0,pwv0,oz0,tau0,beta0)"
   ]
  },
  {
   "cell_type": "code",
   "execution_count": 36,
   "id": "cab6c526-9967-4976-8985-cb8646ce1aea",
   "metadata": {
    "execution": {
     "iopub.execute_input": "2024-05-09T12:57:12.989509Z",
     "iopub.status.busy": "2024-05-09T12:57:12.989381Z",
     "iopub.status.idle": "2024-05-09T12:57:13.142263Z",
     "shell.execute_reply": "2024-05-09T12:57:13.141904Z",
     "shell.execute_reply.started": "2024-05-09T12:57:12.989498Z"
    }
   },
   "outputs": [
    {
     "data": {
      "text/plain": [
       "Text(0.5, 1.0, 'Instrument throughput')"
      ]
     },
     "execution_count": 36,
     "metadata": {},
     "output_type": "execute_result"
    },
    {
     "data": {
      "image/png": "[encoded data removed]",
      "text/plain": [
       "<Figure size 600x400 with 1 Axes>"
      ]
     },
     "metadata": {},
     "output_type": "display_data"
    }
   ],
   "source": [
    "fig, axs = plt.subplots(1,1,figsize=(6,4))\n",
    "# loop on filter\n",
    "for index,f in enumerate(filter_tagnames):\n",
    "    \n",
    "    axs.plot(pc.bandpass_inst[f].wavelen,pc.bandpass_inst[f].sb,color=filter_color[index]) \n",
    "    axs.fill_between(pc.bandpass_inst[f].wavelen,pc.bandpass_inst[f].sb,color=filter_color[index],alpha=0.2) \n",
    "    axs.axvline(FILTERWL[index,2],color=filter_color[index],linestyle=\"-.\")\n",
    "    \n",
    "axs.set_xlabel(\"$\\\\lambda$ (nm)\")\n",
    "axs.set_title(\"Instrument throughput\")"
   ]
  },
  {
   "cell_type": "code",
   "execution_count": 37,
   "id": "925c8172-b756-48fe-adfe-44c2e0dac88b",
   "metadata": {
    "execution": {
     "iopub.execute_input": "2024-05-09T12:57:13.142887Z",
     "iopub.status.busy": "2024-05-09T12:57:13.142760Z",
     "iopub.status.idle": "2024-05-09T12:57:13.238895Z",
     "shell.execute_reply": "2024-05-09T12:57:13.238540Z",
     "shell.execute_reply.started": "2024-05-09T12:57:13.142875Z"
    }
   },
   "outputs": [
    {
     "data": {
      "text/plain": [
       "Text(0.5, 1.0, 'Standard atmosphere transmission')"
      ]
     },
     "execution_count": 37,
     "metadata": {},
     "output_type": "execute_result"
    },
    {
     "data": {
      "image/png": "[encoded data removed]",
      "text/plain": [
       "<Figure size 600x400 with 1 Axes>"
      ]
     },
     "metadata": {},
     "output_type": "display_data"
    }
   ],
   "source": [
    "fig, axs = plt.subplots(1,1,figsize=(6,4))\n",
    "axs.plot(pc.WL,pc.atm_std,'k-')\n",
    "axs.set_xlabel(\"$\\\\lambda$ (nm)\")\n",
    "axs.set_title(\"Standard atmosphere transmission\")"
   ]
  },
  {
   "cell_type": "code",
   "execution_count": 38,
   "id": "af77987e-2837-4a4b-bc6e-9336979b4461",
   "metadata": {
    "execution": {
     "iopub.execute_input": "2024-05-09T12:57:13.239588Z",
     "iopub.status.busy": "2024-05-09T12:57:13.239437Z",
     "iopub.status.idle": "2024-05-09T12:57:13.355309Z",
     "shell.execute_reply": "2024-05-09T12:57:13.354949Z",
     "shell.execute_reply.started": "2024-05-09T12:57:13.239576Z"
    }
   },
   "outputs": [
    {
     "data": {
      "text/plain": [
       "Text(0.5, 1.0, 'Total filter throughput')"
      ]
     },
     "execution_count": 38,
     "metadata": {},
     "output_type": "execute_result"
    },
    {
     "data": {
      "image/png": "[encoded data removed]",
      "text/plain": [
       "<Figure size 600x400 with 1 Axes>"
      ]
     },
     "metadata": {},
     "output_type": "display_data"
    }
   ],
   "source": [
    "fig, axs = plt.subplots(1,1,figsize=(6,4))\n",
    "# loop on filter\n",
    "for index,f in enumerate(filter_tagnames):\n",
    "    \n",
    "    axs.plot(pc.bandpass_total_std[f].wavelen,pc.bandpass_total_std[f].sb,color=filter_color[index]) \n",
    "    axs.fill_between(pc.bandpass_total_std[f].wavelen,pc.bandpass_total_std[f].sb,color=filter_color[index],alpha=0.2) \n",
    "    axs.axvline(FILTERWL[index,2],color=filter_color[index],linestyle=\"-.\")\n",
    "    \n",
    "axs.set_xlabel(\"$\\\\lambda$ (nm)\")\n",
    "axs.set_title(\"Total filter throughput\")"
   ]
  },
  {
   "cell_type": "markdown",
   "id": "7183fdff-a8b9-41c4-94dc-e54bbe8144b8",
   "metadata": {},
   "source": [
    "## Zero-Point\n",
    "\n",
    "https://github.com/sylvielsstfr/rubinsimphot/blob/main/src/rubinsimphot/phot_utils/bandpass.py"
   ]
  },
  {
   "cell_type": "code",
   "execution_count": 39,
   "id": "33415238-ab33-4158-a82f-f1c929e12805",
   "metadata": {
    "execution": {
     "iopub.execute_input": "2024-05-09T12:57:13.355968Z",
     "iopub.status.busy": "2024-05-09T12:57:13.355841Z",
     "iopub.status.idle": "2024-05-09T12:57:13.365063Z",
     "shell.execute_reply": "2024-05-09T12:57:13.364720Z",
     "shell.execute_reply.started": "2024-05-09T12:57:13.355956Z"
    }
   },
   "outputs": [
    {
     "data": {
      "text/html": [
       "<div>\n",
       "<style scoped>\n",
       "    .dataframe tbody tr th:only-of-type {\n",
       "        vertical-align: middle;\n",
       "    }\n",
       "\n",
       "    .dataframe tbody tr th {\n",
       "        vertical-align: top;\n",
       "    }\n",
       "\n",
       "    .dataframe thead th {\n",
       "        text-align: right;\n",
       "    }\n",
       "</style>\n",
       "<table border=\"1\" class=\"dataframe\">\n",
       "  <thead>\n",
       "    <tr style=\"text-align: right;\">\n",
       "      <th></th>\n",
       "      <th>u</th>\n",
       "      <th>g</th>\n",
       "      <th>r</th>\n",
       "      <th>i</th>\n",
       "      <th>z</th>\n",
       "      <th>y</th>\n",
       "    </tr>\n",
       "  </thead>\n",
       "  <tbody>\n",
       "    <tr>\n",
       "      <th>ZP (mag)</th>\n",
       "      <td>30.05</td>\n",
       "      <td>31.46</td>\n",
       "      <td>31.26</td>\n",
       "      <td>30.97</td>\n",
       "      <td>30.58</td>\n",
       "      <td>29.78</td>\n",
       "    </tr>\n",
       "  </tbody>\n",
       "</table>\n",
       "</div>"
      ],
      "text/plain": [
       "              u      g      r      i      z      y\n",
       "ZP (mag)  30.05  31.46  31.26  30.97  30.58  29.78"
      ]
     },
     "execution_count": 39,
     "metadata": {},
     "output_type": "execute_result"
    }
   ],
   "source": [
    "# Calculate the standard dark sky zenith magnitudes - for reference\n",
    "zeropoint_mags = {}\n",
    "\n",
    "for index,f in enumerate(filter_tagnames):\n",
    "  \n",
    "    zp = pc.bandpass_total_std[f].calc_zp_t(photoparams)\n",
    "    zeropoint_mags[f] = zp\n",
    "    \n",
    "pd.DataFrame(zeropoint_mags, index=['ZP (mag)']).round(2)"
   ]
  },
  {
   "cell_type": "markdown",
   "id": "571baada-db06-4f8b-b816-730a9c29c448",
   "metadata": {},
   "source": [
    "## Calculation on Dark Sky"
   ]
  },
  {
   "cell_type": "code",
   "execution_count": 40,
   "id": "d8bca6f4-7a61-4086-ba7c-9a6e82d1d2bb",
   "metadata": {
    "execution": {
     "iopub.execute_input": "2024-05-09T12:57:13.365727Z",
     "iopub.status.busy": "2024-05-09T12:57:13.365599Z",
     "iopub.status.idle": "2024-05-09T12:57:13.367694Z",
     "shell.execute_reply": "2024-05-09T12:57:13.367342Z",
     "shell.execute_reply.started": "2024-05-09T12:57:13.365715Z"
    }
   },
   "outputs": [],
   "source": [
    "path_rubin_sim_throughput=os.path.join(get_data_dir(),\"throughputs/baseline\")"
   ]
  },
  {
   "cell_type": "code",
   "execution_count": 41,
   "id": "4b848b9c-7552-40fe-be2e-5288643df2d7",
   "metadata": {
    "execution": {
     "iopub.execute_input": "2024-05-09T12:57:13.368242Z",
     "iopub.status.busy": "2024-05-09T12:57:13.368120Z",
     "iopub.status.idle": "2024-05-09T12:57:13.383047Z",
     "shell.execute_reply": "2024-05-09T12:57:13.382697Z",
     "shell.execute_reply.started": "2024-05-09T12:57:13.368230Z"
    }
   },
   "outputs": [],
   "source": [
    "darksky = Sed()\n",
    "darksky.read_sed_flambda(os.path.join(path_rubin_sim_throughput, 'darksky.dat'))"
   ]
  },
  {
   "cell_type": "code",
   "execution_count": 42,
   "id": "55e444f8-fd7f-4bd3-bf4c-2afb6af02bf4",
   "metadata": {
    "execution": {
     "iopub.execute_input": "2024-05-09T12:57:13.383624Z",
     "iopub.status.busy": "2024-05-09T12:57:13.383497Z",
     "iopub.status.idle": "2024-05-09T12:57:13.387053Z",
     "shell.execute_reply": "2024-05-09T12:57:13.386734Z",
     "shell.execute_reply.started": "2024-05-09T12:57:13.383613Z"
    }
   },
   "outputs": [],
   "source": [
    "index_sel = np.where(np.logical_and(darksky.wavelen>=WLMIN,darksky.wavelen<WLMAX))[0]\n",
    "wav = darksky.wavelen[index_sel]\n",
    "fll = darksky.flambda[index_sel]\n",
    "darksel = Sed(wavelen=wav, flambda=fll)"
   ]
  },
  {
   "cell_type": "code",
   "execution_count": 43,
   "id": "2e49c9e7-9c2e-43a5-9487-ac4515d8eb08",
   "metadata": {
    "execution": {
     "iopub.execute_input": "2024-05-09T12:57:13.387636Z",
     "iopub.status.busy": "2024-05-09T12:57:13.387511Z",
     "iopub.status.idle": "2024-05-09T12:57:13.488374Z",
     "shell.execute_reply": "2024-05-09T12:57:13.487976Z",
     "shell.execute_reply.started": "2024-05-09T12:57:13.387625Z"
    }
   },
   "outputs": [
    {
     "data": {
      "text/plain": [
       "Text(0, 0.5, '$F_\\\\lambda (\\\\lambda)$')"
      ]
     },
     "execution_count": 43,
     "metadata": {},
     "output_type": "execute_result"
    },
    {
     "data": {
      "image/png": "[encoded data removed]",
      "text/plain": [
       "<Figure size 500x300 with 1 Axes>"
      ]
     },
     "metadata": {},
     "output_type": "display_data"
    }
   ],
   "source": [
    "fig, axs = plt.subplots(1,1,figsize=(5,3))\n",
    "axs.plot(darksky.wavelen,darksky.flambda,'r-')\n",
    "axs.plot(darksel.wavelen,darksel.flambda,'b-')\n",
    "axs.set_title(\"sky background SED\")\n",
    "axs.set_xlabel(\"$\\\\lambda$ (nm)\")\n",
    "axs.set_ylabel(\"$F_\\lambda (\\lambda)$\")"
   ]
  },
  {
   "cell_type": "markdown",
   "id": "d5d87c3a-684c-4c24-89bc-ae1cf72da7b2",
   "metadata": {},
   "source": [
    "https://github.com/sylvielsstfr/rubinsimphot/blob/main/src/rubinsimphot/phot_utils/sed.py"
   ]
  },
  {
   "cell_type": "code",
   "execution_count": 44,
   "id": "46c7a54c-97b2-4454-8edd-305146f802c7",
   "metadata": {
    "execution": {
     "iopub.execute_input": "2024-05-09T12:57:13.489085Z",
     "iopub.status.busy": "2024-05-09T12:57:13.488950Z",
     "iopub.status.idle": "2024-05-09T12:57:13.497510Z",
     "shell.execute_reply": "2024-05-09T12:57:13.497148Z",
     "shell.execute_reply.started": "2024-05-09T12:57:13.489072Z"
    }
   },
   "outputs": [
    {
     "data": {
      "text/html": [
       "<div>\n",
       "<style scoped>\n",
       "    .dataframe tbody tr th:only-of-type {\n",
       "        vertical-align: middle;\n",
       "    }\n",
       "\n",
       "    .dataframe tbody tr th {\n",
       "        vertical-align: top;\n",
       "    }\n",
       "\n",
       "    .dataframe thead th {\n",
       "        text-align: right;\n",
       "    }\n",
       "</style>\n",
       "<table border=\"1\" class=\"dataframe\">\n",
       "  <thead>\n",
       "    <tr style=\"text-align: right;\">\n",
       "      <th></th>\n",
       "      <th>u</th>\n",
       "      <th>g</th>\n",
       "      <th>r</th>\n",
       "      <th>i</th>\n",
       "      <th>z</th>\n",
       "      <th>y</th>\n",
       "    </tr>\n",
       "  </thead>\n",
       "  <tbody>\n",
       "    <tr>\n",
       "      <th>Dark sky magnitudes/as</th>\n",
       "      <td>22.96</td>\n",
       "      <td>22.26</td>\n",
       "      <td>21.21</td>\n",
       "      <td>20.5</td>\n",
       "      <td>19.57</td>\n",
       "      <td>18.61</td>\n",
       "    </tr>\n",
       "  </tbody>\n",
       "</table>\n",
       "</div>"
      ],
      "text/plain": [
       "                            u      g      r     i      z      y\n",
       "Dark sky magnitudes/as  22.96  22.26  21.21  20.5  19.57  18.61"
      ]
     },
     "execution_count": 44,
     "metadata": {},
     "output_type": "execute_result"
    }
   ],
   "source": [
    "# Calculate the standard dark sky zenith magnitudes - for reference\n",
    "darksky_mags = {}\n",
    "\n",
    "for index,f in enumerate(filter_tagnames):\n",
    "    \n",
    "    band_wl = pc.bandpass_inst[f].wavelen\n",
    "    band_tr = pc.bandpass_inst[f].sb\n",
    "    darksky_mags[f] = darksky.calc_mag(pc.bandpass_inst[f])\n",
    "    \n",
    "pd.DataFrame(darksky_mags, index=['Dark sky magnitudes/as']).round(2)"
   ]
  },
  {
   "cell_type": "markdown",
   "id": "efc68f90-a806-4614-9a0f-498c41c8fa19",
   "metadata": {},
   "source": [
    "### Check the instrument"
   ]
  },
  {
   "cell_type": "markdown",
   "id": "23101a2f-59ea-4bc6-8cd4-510a11b13d15",
   "metadata": {},
   "source": [
    "#### Photometric parameters"
   ]
  },
  {
   "cell_type": "code",
   "execution_count": 45,
   "id": "2cde69b7-508f-4f33-98ab-b0471c78cb8e",
   "metadata": {
    "execution": {
     "iopub.execute_input": "2024-05-09T12:57:13.498254Z",
     "iopub.status.busy": "2024-05-09T12:57:13.498124Z",
     "iopub.status.idle": "2024-05-09T12:57:13.500890Z",
     "shell.execute_reply": "2024-05-09T12:57:13.500512Z",
     "shell.execute_reply.started": "2024-05-09T12:57:13.498242Z"
    }
   },
   "outputs": [
    {
     "data": {
      "text/plain": [
       "324015.4546769212"
      ]
     },
     "execution_count": 45,
     "metadata": {},
     "output_type": "execute_result"
    }
   ],
   "source": [
    "np.pi * (6.423 / 2.0 * 100) ** 2"
   ]
  },
  {
   "cell_type": "code",
   "execution_count": 46,
   "id": "d912b0f5-ac4e-4945-b114-d8392792ed07",
   "metadata": {
    "execution": {
     "iopub.execute_input": "2024-05-09T12:57:13.501517Z",
     "iopub.status.busy": "2024-05-09T12:57:13.501388Z",
     "iopub.status.idle": "2024-05-09T12:57:13.504226Z",
     "shell.execute_reply": "2024-05-09T12:57:13.503851Z",
     "shell.execute_reply.started": "2024-05-09T12:57:13.501505Z"
    }
   },
   "outputs": [
    {
     "data": {
      "text/plain": [
       "324015.4546769212"
      ]
     },
     "execution_count": 46,
     "metadata": {},
     "output_type": "execute_result"
    }
   ],
   "source": [
    "A"
   ]
  },
  {
   "cell_type": "code",
   "execution_count": 47,
   "id": "71051424-7733-4f9c-805d-239ce04d1983",
   "metadata": {
    "execution": {
     "iopub.execute_input": "2024-05-09T12:57:13.504850Z",
     "iopub.status.busy": "2024-05-09T12:57:13.504714Z",
     "iopub.status.idle": "2024-05-09T12:57:13.507716Z",
     "shell.execute_reply": "2024-05-09T12:57:13.507337Z",
     "shell.execute_reply.started": "2024-05-09T12:57:13.504834Z"
    }
   },
   "outputs": [],
   "source": [
    "# Calculate the standard dark sky zenith magnitudes - for reference\n",
    "#photoparams = set_photometric_parameters(30, 1 , readnoise=None)\n",
    "#photoparams._gain = 1\n",
    "#photoparams._exptime = 1.\n",
    "#photoparams._effarea = Aeff"
   ]
  },
  {
   "cell_type": "code",
   "execution_count": 48,
   "id": "e857a3a1-6511-4ced-9555-ee9478157fdf",
   "metadata": {
    "execution": {
     "iopub.execute_input": "2024-05-09T12:57:13.508353Z",
     "iopub.status.busy": "2024-05-09T12:57:13.508216Z",
     "iopub.status.idle": "2024-05-09T12:57:13.512769Z",
     "shell.execute_reply": "2024-05-09T12:57:13.512366Z",
     "shell.execute_reply.started": "2024-05-09T12:57:13.508340Z"
    }
   },
   "outputs": [
    {
     "name": "stdout",
     "output_type": "stream",
     "text": [
      "{'_bandpass': None,\n",
      " '_darkcurrent': 0.2,\n",
      " '_effarea': 324015.4546769212,\n",
      " '_exptime': 1.0,\n",
      " '_gain': 1.693343125,\n",
      " '_nexp': 1,\n",
      " '_othernoise': 0.0,\n",
      " '_platescale': 0.2,\n",
      " '_readnoise': 12.3936875,\n",
      " '_sigma_sys': 0.005}\n"
     ]
    }
   ],
   "source": [
    "#surface : in cm2\n",
    "# exposure time : in sec\n",
    "# gain : electrons per ADU\n",
    "# Cb = C \\int Fnu S dwl/wl\n",
    "# C = (pi*D^2/(4gh))* Dt = S/(gh)* Dt\n",
    "\n",
    "photoparams._exptime = 1.\n",
    "\n",
    "from pprint import pprint\n",
    "pprint(vars(photoparams))"
   ]
  },
  {
   "cell_type": "markdown",
   "id": "bbdb498d-26bf-4002-ba81-323785124bb0",
   "metadata": {},
   "source": [
    "https://github.com/sylvielsstfr/rubinsimphot/blob/main/src/rubinsimphot/phot_utils/sed.py"
   ]
  },
  {
   "cell_type": "code",
   "execution_count": 49,
   "id": "27ec310d-a6a5-407e-ab64-f04ac4543b9d",
   "metadata": {
    "execution": {
     "iopub.execute_input": "2024-05-09T12:57:13.513399Z",
     "iopub.status.busy": "2024-05-09T12:57:13.513264Z",
     "iopub.status.idle": "2024-05-09T12:57:13.521249Z",
     "shell.execute_reply": "2024-05-09T12:57:13.520899Z",
     "shell.execute_reply.started": "2024-05-09T12:57:13.513387Z"
    }
   },
   "outputs": [
    {
     "data": {
      "text/html": [
       "<div>\n",
       "<style scoped>\n",
       "    .dataframe tbody tr th:only-of-type {\n",
       "        vertical-align: middle;\n",
       "    }\n",
       "\n",
       "    .dataframe tbody tr th {\n",
       "        vertical-align: top;\n",
       "    }\n",
       "\n",
       "    .dataframe thead th {\n",
       "        text-align: right;\n",
       "    }\n",
       "</style>\n",
       "<table border=\"1\" class=\"dataframe\">\n",
       "  <thead>\n",
       "    <tr style=\"text-align: right;\">\n",
       "      <th></th>\n",
       "      <th>u</th>\n",
       "      <th>g</th>\n",
       "      <th>r</th>\n",
       "      <th>i</th>\n",
       "      <th>z</th>\n",
       "      <th>y</th>\n",
       "    </tr>\n",
       "  </thead>\n",
       "  <tbody>\n",
       "    <tr>\n",
       "      <th>Dark sky adu/s</th>\n",
       "      <td>39.85</td>\n",
       "      <td>202.1</td>\n",
       "      <td>399.68</td>\n",
       "      <td>568.19</td>\n",
       "      <td>899.78</td>\n",
       "      <td>1165.66</td>\n",
       "    </tr>\n",
       "  </tbody>\n",
       "</table>\n",
       "</div>"
      ],
      "text/plain": [
       "                    u      g       r       i       z        y\n",
       "Dark sky adu/s  39.85  202.1  399.68  568.19  899.78  1165.66"
      ]
     },
     "execution_count": 49,
     "metadata": {},
     "output_type": "execute_result"
    }
   ],
   "source": [
    "# Calculate the standard dark sky zenith magnitudes - for reference\n",
    "\n",
    "darksky_adu = {}\n",
    "\n",
    "for index,f in enumerate(filter_tagnames):\n",
    "    \n",
    "    band_wl = pc.bandpass_inst[f].wavelen\n",
    "    band_tr = pc.bandpass_inst[f].sb\n",
    "    darksky_adu[f] = darksky.calc_adu(pc.bandpass_inst[f],photoparams)\n",
    "    \n",
    "pd.DataFrame(darksky_adu, index=['Dark sky adu/s']).round(2)"
   ]
  },
  {
   "cell_type": "code",
   "execution_count": 50,
   "id": "49afa6c8-019f-4a24-a227-3865cbda898f",
   "metadata": {
    "execution": {
     "iopub.execute_input": "2024-05-09T12:57:13.521896Z",
     "iopub.status.busy": "2024-05-09T12:57:13.521771Z",
     "iopub.status.idle": "2024-05-09T12:57:13.529568Z",
     "shell.execute_reply": "2024-05-09T12:57:13.529204Z",
     "shell.execute_reply.started": "2024-05-09T12:57:13.521884Z"
    }
   },
   "outputs": [
    {
     "data": {
      "text/html": [
       "<div>\n",
       "<style scoped>\n",
       "    .dataframe tbody tr th:only-of-type {\n",
       "        vertical-align: middle;\n",
       "    }\n",
       "\n",
       "    .dataframe tbody tr th {\n",
       "        vertical-align: top;\n",
       "    }\n",
       "\n",
       "    .dataframe thead th {\n",
       "        text-align: right;\n",
       "    }\n",
       "</style>\n",
       "<table border=\"1\" class=\"dataframe\">\n",
       "  <thead>\n",
       "    <tr style=\"text-align: right;\">\n",
       "      <th></th>\n",
       "      <th>u</th>\n",
       "      <th>g</th>\n",
       "      <th>r</th>\n",
       "      <th>i</th>\n",
       "      <th>z</th>\n",
       "      <th>y</th>\n",
       "    </tr>\n",
       "  </thead>\n",
       "  <tbody>\n",
       "    <tr>\n",
       "      <th>Dark sky adu/expo</th>\n",
       "      <td>880.09</td>\n",
       "      <td>4463.72</td>\n",
       "      <td>8827.78</td>\n",
       "      <td>12549.69</td>\n",
       "      <td>19873.49</td>\n",
       "      <td>25746.04</td>\n",
       "    </tr>\n",
       "  </tbody>\n",
       "</table>\n",
       "</div>"
      ],
      "text/plain": [
       "                        u        g        r         i         z         y\n",
       "Dark sky adu/expo  880.09  4463.72  8827.78  12549.69  19873.49  25746.04"
      ]
     },
     "execution_count": 50,
     "metadata": {},
     "output_type": "execute_result"
    }
   ],
   "source": [
    "# Calculate the standard dark sky zenith magnitudes - for reference\n",
    "photoparams = set_photometric_parameters(30, 1 , readnoise=None)\n",
    "\n",
    "\n",
    "photoparams._exptime = 30.\n",
    "\n",
    "\n",
    "\n",
    "darksky_adu = {}\n",
    "\n",
    "for index,f in enumerate(filter_tagnames):\n",
    "    \n",
    "    band_wl = pc.bandpass_inst[f].wavelen\n",
    "    band_tr = pc.bandpass_inst[f].sb\n",
    "    darksky_adu[f] = darksky.calc_adu(pc.bandpass_inst[f],photoparams)\n",
    "    \n",
    "pd.DataFrame(darksky_adu, index=['Dark sky adu/expo']).round(2)"
   ]
  },
  {
   "cell_type": "markdown",
   "id": "8fca4c2f-4438-43cf-a062-23be8fd850aa",
   "metadata": {},
   "source": [
    "## Sky Background"
   ]
  },
  {
   "cell_type": "code",
   "execution_count": 51,
   "id": "ea53d4d1-2235-4e7b-9bff-e7bcbad37e6d",
   "metadata": {
    "execution": {
     "iopub.execute_input": "2024-05-09T12:57:13.530201Z",
     "iopub.status.busy": "2024-05-09T12:57:13.530074Z",
     "iopub.status.idle": "2024-05-09T12:57:13.535773Z",
     "shell.execute_reply": "2024-05-09T12:57:13.535366Z",
     "shell.execute_reply.started": "2024-05-09T12:57:13.530189Z"
    }
   },
   "outputs": [],
   "source": [
    "ccd_visit_table_g = ccd_visit_table[ccd_visit_table[\"band\"] == 'g']\n",
    "ccd_visit_table_r = ccd_visit_table[ccd_visit_table[\"band\"] == 'r']\n",
    "ccd_visit_table_i = ccd_visit_table[ccd_visit_table[\"band\"] == 'i']"
   ]
  },
  {
   "cell_type": "code",
   "execution_count": 52,
   "id": "558782c4-fe62-45a9-b6df-94d260ec1d45",
   "metadata": {
    "execution": {
     "iopub.execute_input": "2024-05-09T12:57:13.536360Z",
     "iopub.status.busy": "2024-05-09T12:57:13.536238Z",
     "iopub.status.idle": "2024-05-09T12:57:13.562846Z",
     "shell.execute_reply": "2024-05-09T12:57:13.562451Z",
     "shell.execute_reply.started": "2024-05-09T12:57:13.536349Z"
    }
   },
   "outputs": [
    {
     "data": {
      "text/html": [
       "<div>\n",
       "<style scoped>\n",
       "    .dataframe tbody tr th:only-of-type {\n",
       "        vertical-align: middle;\n",
       "    }\n",
       "\n",
       "    .dataframe tbody tr th {\n",
       "        vertical-align: top;\n",
       "    }\n",
       "\n",
       "    .dataframe thead th {\n",
       "        text-align: right;\n",
       "    }\n",
       "</style>\n",
       "<table border=\"1\" class=\"dataframe\">\n",
       "  <thead>\n",
       "    <tr style=\"text-align: right;\">\n",
       "      <th></th>\n",
       "      <th>visitId</th>\n",
       "      <th>physical_filter</th>\n",
       "      <th>band</th>\n",
       "      <th>ra</th>\n",
       "      <th>dec</th>\n",
       "      <th>zenithDistance</th>\n",
       "      <th>zeroPoint</th>\n",
       "      <th>psfSigma</th>\n",
       "      <th>skyBg</th>\n",
       "      <th>skyNoise</th>\n",
       "      <th>astromOffsetMean</th>\n",
       "      <th>astromOffsetStd</th>\n",
       "      <th>nPsfStar</th>\n",
       "      <th>psfStarDeltaE1Median</th>\n",
       "      <th>psfStarDeltaE2Median</th>\n",
       "      <th>psfStarDeltaE1Scatter</th>\n",
       "      <th>psfStarDeltaE2Scatter</th>\n",
       "      <th>psfStarDeltaSizeMedian</th>\n",
       "      <th>psfStarDeltaSizeScatter</th>\n",
       "      <th>psfStarScaledDeltaSizeScatter</th>\n",
       "      <th>psfTraceRadiusDelta</th>\n",
       "      <th>maxDistToNearestPsf</th>\n",
       "      <th>effTime</th>\n",
       "      <th>effTimePsfSigmaScale</th>\n",
       "      <th>effTimeSkyBgScale</th>\n",
       "      <th>effTimeZeroPointScale</th>\n",
       "      <th>decl</th>\n",
       "      <th>detector</th>\n",
       "      <th>seeing</th>\n",
       "      <th>skyRotation</th>\n",
       "      <th>expMidpt</th>\n",
       "      <th>expMidptMJD</th>\n",
       "      <th>expTime</th>\n",
       "      <th>obsStart</th>\n",
       "      <th>obsStartMJD</th>\n",
       "      <th>darkTime</th>\n",
       "      <th>xSize</th>\n",
       "      <th>ySize</th>\n",
       "      <th>llcra</th>\n",
       "      <th>llcdec</th>\n",
       "      <th>ulcra</th>\n",
       "      <th>ulcdec</th>\n",
       "      <th>urcra</th>\n",
       "      <th>urcdec</th>\n",
       "      <th>lrcra</th>\n",
       "      <th>lrcdec</th>\n",
       "      <th>ccdVid</th>\n",
       "      <th>Vid</th>\n",
       "      <th>nightObs</th>\n",
       "      <th>Time</th>\n",
       "      <th>airmass</th>\n",
       "      <th>tractID</th>\n",
       "      <th>patchID</th>\n",
       "    </tr>\n",
       "    <tr>\n",
       "      <th>ccdVisitId</th>\n",
       "      <th></th>\n",
       "      <th></th>\n",
       "      <th></th>\n",
       "      <th></th>\n",
       "      <th></th>\n",
       "      <th></th>\n",
       "      <th></th>\n",
       "      <th></th>\n",
       "      <th></th>\n",
       "      <th></th>\n",
       "      <th></th>\n",
       "      <th></th>\n",
       "      <th></th>\n",
       "      <th></th>\n",
       "      <th></th>\n",
       "      <th></th>\n",
       "      <th></th>\n",
       "      <th></th>\n",
       "      <th></th>\n",
       "      <th></th>\n",
       "      <th></th>\n",
       "      <th></th>\n",
       "      <th></th>\n",
       "      <th></th>\n",
       "      <th></th>\n",
       "      <th></th>\n",
       "      <th></th>\n",
       "      <th></th>\n",
       "      <th></th>\n",
       "      <th></th>\n",
       "      <th></th>\n",
       "      <th></th>\n",
       "      <th></th>\n",
       "      <th></th>\n",
       "      <th></th>\n",
       "      <th></th>\n",
       "      <th></th>\n",
       "      <th></th>\n",
       "      <th></th>\n",
       "      <th></th>\n",
       "      <th></th>\n",
       "      <th></th>\n",
       "      <th></th>\n",
       "      <th></th>\n",
       "      <th></th>\n",
       "      <th></th>\n",
       "      <th></th>\n",
       "      <th></th>\n",
       "      <th></th>\n",
       "      <th></th>\n",
       "      <th></th>\n",
       "      <th></th>\n",
       "      <th></th>\n",
       "    </tr>\n",
       "  </thead>\n",
       "  <tbody>\n",
       "    <tr>\n",
       "      <th>730865866240</th>\n",
       "      <td>7024040300022</td>\n",
       "      <td>g_01</td>\n",
       "      <td>g</td>\n",
       "      <td>124.784571</td>\n",
       "      <td>-15.265897</td>\n",
       "      <td>15.979365</td>\n",
       "      <td>31.354979</td>\n",
       "      <td>2.451715</td>\n",
       "      <td>322.351501</td>\n",
       "      <td>19.016087</td>\n",
       "      <td>0.008969</td>\n",
       "      <td>0.005492</td>\n",
       "      <td>373</td>\n",
       "      <td>0.000192</td>\n",
       "      <td>0.000062</td>\n",
       "      <td>0.010216</td>\n",
       "      <td>0.011057</td>\n",
       "      <td>0.002104</td>\n",
       "      <td>0.016086</td>\n",
       "      <td>0.006546</td>\n",
       "      <td>0.019297</td>\n",
       "      <td>472.769379</td>\n",
       "      <td>12.419865</td>\n",
       "      <td>0.492172</td>\n",
       "      <td>0.869237</td>\n",
       "      <td>0.967699</td>\n",
       "      <td>-15.265897</td>\n",
       "      <td>0</td>\n",
       "      <td>1.155846</td>\n",
       "      <td>69.773608</td>\n",
       "      <td>2024-04-03 23:46:55.824000</td>\n",
       "      <td>60403.990924</td>\n",
       "      <td>30.0</td>\n",
       "      <td>2024-04-03 23:46:40.824000</td>\n",
       "      <td>60403.99075</td>\n",
       "      <td>33.0544</td>\n",
       "      <td>4071</td>\n",
       "      <td>3999</td>\n",
       "      <td>124.716201</td>\n",
       "      <td>-15.410191</td>\n",
       "      <td>124.636268</td>\n",
       "      <td>-15.197361</td>\n",
       "      <td>124.852856</td>\n",
       "      <td>-15.121567</td>\n",
       "      <td>124.932977</td>\n",
       "      <td>-15.334329</td>\n",
       "      <td>5376</td>\n",
       "      <td>21</td>\n",
       "      <td>20240403</td>\n",
       "      <td>2024-04-03 23:46:40.824000</td>\n",
       "      <td>1.040192</td>\n",
       "      <td>6914</td>\n",
       "      <td>210</td>\n",
       "    </tr>\n",
       "    <tr>\n",
       "      <th>730865866242</th>\n",
       "      <td>7024040300022</td>\n",
       "      <td>g_01</td>\n",
       "      <td>g</td>\n",
       "      <td>124.618851</td>\n",
       "      <td>-14.824225</td>\n",
       "      <td>16.342335</td>\n",
       "      <td>31.363281</td>\n",
       "      <td>2.460139</td>\n",
       "      <td>325.820312</td>\n",
       "      <td>17.244532</td>\n",
       "      <td>0.008998</td>\n",
       "      <td>0.005345</td>\n",
       "      <td>342</td>\n",
       "      <td>-0.000049</td>\n",
       "      <td>-0.000173</td>\n",
       "      <td>0.011314</td>\n",
       "      <td>0.011765</td>\n",
       "      <td>0.001220</td>\n",
       "      <td>0.015511</td>\n",
       "      <td>0.006304</td>\n",
       "      <td>0.022413</td>\n",
       "      <td>444.283813</td>\n",
       "      <td>12.391698</td>\n",
       "      <td>0.488807</td>\n",
       "      <td>0.859983</td>\n",
       "      <td>0.982611</td>\n",
       "      <td>-14.824225</td>\n",
       "      <td>2</td>\n",
       "      <td>1.159396</td>\n",
       "      <td>69.773608</td>\n",
       "      <td>2024-04-03 23:46:55.824000</td>\n",
       "      <td>60403.990924</td>\n",
       "      <td>30.0</td>\n",
       "      <td>2024-04-03 23:46:40.824000</td>\n",
       "      <td>60403.99075</td>\n",
       "      <td>33.0544</td>\n",
       "      <td>4071</td>\n",
       "      <td>3999</td>\n",
       "      <td>124.550507</td>\n",
       "      <td>-14.968487</td>\n",
       "      <td>124.470924</td>\n",
       "      <td>-14.755597</td>\n",
       "      <td>124.687108</td>\n",
       "      <td>-14.679939</td>\n",
       "      <td>124.766893</td>\n",
       "      <td>-14.892767</td>\n",
       "      <td>5378</td>\n",
       "      <td>21</td>\n",
       "      <td>20240403</td>\n",
       "      <td>2024-04-03 23:46:40.824000</td>\n",
       "      <td>1.042103</td>\n",
       "      <td>7149</td>\n",
       "      <td>13</td>\n",
       "    </tr>\n",
       "    <tr>\n",
       "      <th>730865866243</th>\n",
       "      <td>7024040300022</td>\n",
       "      <td>g_01</td>\n",
       "      <td>g</td>\n",
       "      <td>125.013368</td>\n",
       "      <td>-15.185681</td>\n",
       "      <td>16.131117</td>\n",
       "      <td>31.360659</td>\n",
       "      <td>2.459129</td>\n",
       "      <td>324.413116</td>\n",
       "      <td>18.322250</td>\n",
       "      <td>0.009823</td>\n",
       "      <td>0.005857</td>\n",
       "      <td>358</td>\n",
       "      <td>-0.000454</td>\n",
       "      <td>0.000333</td>\n",
       "      <td>0.011112</td>\n",
       "      <td>0.011135</td>\n",
       "      <td>0.002865</td>\n",
       "      <td>0.018014</td>\n",
       "      <td>0.007320</td>\n",
       "      <td>0.015012</td>\n",
       "      <td>519.376831</td>\n",
       "      <td>12.395638</td>\n",
       "      <td>0.489209</td>\n",
       "      <td>0.863714</td>\n",
       "      <td>0.977876</td>\n",
       "      <td>-15.185681</td>\n",
       "      <td>3</td>\n",
       "      <td>1.158236</td>\n",
       "      <td>69.773608</td>\n",
       "      <td>2024-04-03 23:46:55.824000</td>\n",
       "      <td>60403.990924</td>\n",
       "      <td>30.0</td>\n",
       "      <td>2024-04-03 23:46:40.824000</td>\n",
       "      <td>60403.99075</td>\n",
       "      <td>33.0544</td>\n",
       "      <td>4071</td>\n",
       "      <td>3999</td>\n",
       "      <td>124.945168</td>\n",
       "      <td>-15.330054</td>\n",
       "      <td>124.865038</td>\n",
       "      <td>-15.117298</td>\n",
       "      <td>125.081478</td>\n",
       "      <td>-15.041274</td>\n",
       "      <td>125.161789</td>\n",
       "      <td>-15.253958</td>\n",
       "      <td>5379</td>\n",
       "      <td>21</td>\n",
       "      <td>20240403</td>\n",
       "      <td>2024-04-03 23:46:40.824000</td>\n",
       "      <td>1.040985</td>\n",
       "      <td>6914</td>\n",
       "      <td>225</td>\n",
       "    </tr>\n",
       "    <tr>\n",
       "      <th>730865866244</th>\n",
       "      <td>7024040300022</td>\n",
       "      <td>g_01</td>\n",
       "      <td>g</td>\n",
       "      <td>124.930215</td>\n",
       "      <td>-14.964937</td>\n",
       "      <td>16.310301</td>\n",
       "      <td>31.369553</td>\n",
       "      <td>2.457011</td>\n",
       "      <td>327.588776</td>\n",
       "      <td>16.883184</td>\n",
       "      <td>0.008356</td>\n",
       "      <td>0.004796</td>\n",
       "      <td>352</td>\n",
       "      <td>0.000525</td>\n",
       "      <td>0.000235</td>\n",
       "      <td>0.010801</td>\n",
       "      <td>0.010670</td>\n",
       "      <td>0.001557</td>\n",
       "      <td>0.020148</td>\n",
       "      <td>0.008188</td>\n",
       "      <td>0.009127</td>\n",
       "      <td>422.055725</td>\n",
       "      <td>12.499806</td>\n",
       "      <td>0.490053</td>\n",
       "      <td>0.855341</td>\n",
       "      <td>0.994032</td>\n",
       "      <td>-14.964937</td>\n",
       "      <td>4</td>\n",
       "      <td>1.158020</td>\n",
       "      <td>69.773608</td>\n",
       "      <td>2024-04-03 23:46:55.824000</td>\n",
       "      <td>60403.990924</td>\n",
       "      <td>30.0</td>\n",
       "      <td>2024-04-03 23:46:40.824000</td>\n",
       "      <td>60403.99075</td>\n",
       "      <td>33.0544</td>\n",
       "      <td>4071</td>\n",
       "      <td>3999</td>\n",
       "      <td>124.862028</td>\n",
       "      <td>-15.109300</td>\n",
       "      <td>124.782062</td>\n",
       "      <td>-14.896497</td>\n",
       "      <td>124.998308</td>\n",
       "      <td>-14.820553</td>\n",
       "      <td>125.078462</td>\n",
       "      <td>-15.033282</td>\n",
       "      <td>5380</td>\n",
       "      <td>21</td>\n",
       "      <td>20240403</td>\n",
       "      <td>2024-04-03 23:46:40.824000</td>\n",
       "      <td>1.041933</td>\n",
       "      <td>6914</td>\n",
       "      <td>260</td>\n",
       "    </tr>\n",
       "    <tr>\n",
       "      <th>730865866245</th>\n",
       "      <td>7024040300022</td>\n",
       "      <td>g_01</td>\n",
       "      <td>g</td>\n",
       "      <td>124.847236</td>\n",
       "      <td>-14.744165</td>\n",
       "      <td>16.490845</td>\n",
       "      <td>31.364349</td>\n",
       "      <td>2.459225</td>\n",
       "      <td>325.299225</td>\n",
       "      <td>18.130884</td>\n",
       "      <td>0.008886</td>\n",
       "      <td>0.005215</td>\n",
       "      <td>369</td>\n",
       "      <td>-0.000329</td>\n",
       "      <td>-0.001092</td>\n",
       "      <td>0.009125</td>\n",
       "      <td>0.010298</td>\n",
       "      <td>0.001067</td>\n",
       "      <td>0.016404</td>\n",
       "      <td>0.006671</td>\n",
       "      <td>0.010720</td>\n",
       "      <td>435.910431</td>\n",
       "      <td>12.445275</td>\n",
       "      <td>0.489171</td>\n",
       "      <td>0.861361</td>\n",
       "      <td>0.984550</td>\n",
       "      <td>-14.744165</td>\n",
       "      <td>5</td>\n",
       "      <td>1.159841</td>\n",
       "      <td>69.773608</td>\n",
       "      <td>2024-04-03 23:46:55.824000</td>\n",
       "      <td>60403.990924</td>\n",
       "      <td>30.0</td>\n",
       "      <td>2024-04-03 23:46:40.824000</td>\n",
       "      <td>60403.99075</td>\n",
       "      <td>33.0544</td>\n",
       "      <td>4071</td>\n",
       "      <td>3999</td>\n",
       "      <td>124.779063</td>\n",
       "      <td>-14.888502</td>\n",
       "      <td>124.699266</td>\n",
       "      <td>-14.675677</td>\n",
       "      <td>124.915316</td>\n",
       "      <td>-14.599816</td>\n",
       "      <td>124.995302</td>\n",
       "      <td>-14.812559</td>\n",
       "      <td>5381</td>\n",
       "      <td>21</td>\n",
       "      <td>20240403</td>\n",
       "      <td>2024-04-03 23:46:40.824000</td>\n",
       "      <td>1.042900</td>\n",
       "      <td>7149</td>\n",
       "      <td>28</td>\n",
       "    </tr>\n",
       "    <tr>\n",
       "      <th>...</th>\n",
       "      <td>...</td>\n",
       "      <td>...</td>\n",
       "      <td>...</td>\n",
       "      <td>...</td>\n",
       "      <td>...</td>\n",
       "      <td>...</td>\n",
       "      <td>...</td>\n",
       "      <td>...</td>\n",
       "      <td>...</td>\n",
       "      <td>...</td>\n",
       "      <td>...</td>\n",
       "      <td>...</td>\n",
       "      <td>...</td>\n",
       "      <td>...</td>\n",
       "      <td>...</td>\n",
       "      <td>...</td>\n",
       "      <td>...</td>\n",
       "      <td>...</td>\n",
       "      <td>...</td>\n",
       "      <td>...</td>\n",
       "      <td>...</td>\n",
       "      <td>...</td>\n",
       "      <td>...</td>\n",
       "      <td>...</td>\n",
       "      <td>...</td>\n",
       "      <td>...</td>\n",
       "      <td>...</td>\n",
       "      <td>...</td>\n",
       "      <td>...</td>\n",
       "      <td>...</td>\n",
       "      <td>...</td>\n",
       "      <td>...</td>\n",
       "      <td>...</td>\n",
       "      <td>...</td>\n",
       "      <td>...</td>\n",
       "      <td>...</td>\n",
       "      <td>...</td>\n",
       "      <td>...</td>\n",
       "      <td>...</td>\n",
       "      <td>...</td>\n",
       "      <td>...</td>\n",
       "      <td>...</td>\n",
       "      <td>...</td>\n",
       "      <td>...</td>\n",
       "      <td>...</td>\n",
       "      <td>...</td>\n",
       "      <td>...</td>\n",
       "      <td>...</td>\n",
       "      <td>...</td>\n",
       "      <td>...</td>\n",
       "      <td>...</td>\n",
       "      <td>...</td>\n",
       "      <td>...</td>\n",
       "    </tr>\n",
       "    <tr>\n",
       "      <th>730866055172</th>\n",
       "      <td>7024040300760</td>\n",
       "      <td>g_01</td>\n",
       "      <td>g</td>\n",
       "      <td>300.133713</td>\n",
       "      <td>-40.949909</td>\n",
       "      <td>22.860332</td>\n",
       "      <td>31.403135</td>\n",
       "      <td>1.548339</td>\n",
       "      <td>670.345886</td>\n",
       "      <td>21.987268</td>\n",
       "      <td>0.008794</td>\n",
       "      <td>0.005100</td>\n",
       "      <td>686</td>\n",
       "      <td>0.000524</td>\n",
       "      <td>0.000231</td>\n",
       "      <td>0.011758</td>\n",
       "      <td>0.011172</td>\n",
       "      <td>0.001673</td>\n",
       "      <td>0.012895</td>\n",
       "      <td>0.008322</td>\n",
       "      <td>0.008108</td>\n",
       "      <td>302.408722</td>\n",
       "      <td>16.363680</td>\n",
       "      <td>1.234028</td>\n",
       "      <td>0.417993</td>\n",
       "      <td>1.057464</td>\n",
       "      <td>-40.949909</td>\n",
       "      <td>4</td>\n",
       "      <td>0.729877</td>\n",
       "      <td>212.787604</td>\n",
       "      <td>2024-04-04 10:12:08.987506</td>\n",
       "      <td>60404.425104</td>\n",
       "      <td>30.0</td>\n",
       "      <td>2024-04-04 10:11:53.987506</td>\n",
       "      <td>60404.42493</td>\n",
       "      <td>33.0541</td>\n",
       "      <td>4071</td>\n",
       "      <td>3999</td>\n",
       "      <td>300.087227</td>\n",
       "      <td>-40.795155</td>\n",
       "      <td>300.339304</td>\n",
       "      <td>-40.917303</td>\n",
       "      <td>300.180415</td>\n",
       "      <td>-41.104643</td>\n",
       "      <td>299.927921</td>\n",
       "      <td>-40.982148</td>\n",
       "      <td>194308</td>\n",
       "      <td>759</td>\n",
       "      <td>20240403</td>\n",
       "      <td>2024-04-04 10:11:53.987506</td>\n",
       "      <td>1.085241</td>\n",
       "      <td>3384</td>\n",
       "      <td>140</td>\n",
       "    </tr>\n",
       "    <tr>\n",
       "      <th>730866055173</th>\n",
       "      <td>7024040300760</td>\n",
       "      <td>g_01</td>\n",
       "      <td>g</td>\n",
       "      <td>300.395982</td>\n",
       "      <td>-41.076531</td>\n",
       "      <td>23.089502</td>\n",
       "      <td>31.398638</td>\n",
       "      <td>1.548566</td>\n",
       "      <td>666.545776</td>\n",
       "      <td>23.050404</td>\n",
       "      <td>0.007620</td>\n",
       "      <td>0.004198</td>\n",
       "      <td>713</td>\n",
       "      <td>-0.000048</td>\n",
       "      <td>-0.000310</td>\n",
       "      <td>0.010589</td>\n",
       "      <td>0.010988</td>\n",
       "      <td>0.000883</td>\n",
       "      <td>0.012705</td>\n",
       "      <td>0.008193</td>\n",
       "      <td>0.006200</td>\n",
       "      <td>310.317657</td>\n",
       "      <td>16.316439</td>\n",
       "      <td>1.233666</td>\n",
       "      <td>0.420376</td>\n",
       "      <td>1.048741</td>\n",
       "      <td>-41.076531</td>\n",
       "      <td>5</td>\n",
       "      <td>0.729997</td>\n",
       "      <td>212.787604</td>\n",
       "      <td>2024-04-04 10:12:08.987506</td>\n",
       "      <td>60404.425104</td>\n",
       "      <td>30.0</td>\n",
       "      <td>2024-04-04 10:11:53.987506</td>\n",
       "      <td>60404.42493</td>\n",
       "      <td>33.0541</td>\n",
       "      <td>4071</td>\n",
       "      <td>3999</td>\n",
       "      <td>300.348794</td>\n",
       "      <td>-40.921882</td>\n",
       "      <td>300.601825</td>\n",
       "      <td>-41.043458</td>\n",
       "      <td>300.443390</td>\n",
       "      <td>-41.231153</td>\n",
       "      <td>300.189922</td>\n",
       "      <td>-41.109236</td>\n",
       "      <td>194309</td>\n",
       "      <td>759</td>\n",
       "      <td>20240403</td>\n",
       "      <td>2024-04-04 10:11:53.987506</td>\n",
       "      <td>1.087083</td>\n",
       "      <td>3384</td>\n",
       "      <td>104</td>\n",
       "    </tr>\n",
       "    <tr>\n",
       "      <th>730866055174</th>\n",
       "      <td>7024040300760</td>\n",
       "      <td>g_01</td>\n",
       "      <td>g</td>\n",
       "      <td>299.703453</td>\n",
       "      <td>-41.019882</td>\n",
       "      <td>22.579983</td>\n",
       "      <td>31.386511</td>\n",
       "      <td>1.550444</td>\n",
       "      <td>656.265076</td>\n",
       "      <td>22.890205</td>\n",
       "      <td>0.009389</td>\n",
       "      <td>0.005790</td>\n",
       "      <td>767</td>\n",
       "      <td>0.000429</td>\n",
       "      <td>-0.000360</td>\n",
       "      <td>0.010487</td>\n",
       "      <td>0.011386</td>\n",
       "      <td>0.001512</td>\n",
       "      <td>0.013280</td>\n",
       "      <td>0.008568</td>\n",
       "      <td>0.010471</td>\n",
       "      <td>364.855194</td>\n",
       "      <td>16.166704</td>\n",
       "      <td>1.230679</td>\n",
       "      <td>0.426962</td>\n",
       "      <td>1.025573</td>\n",
       "      <td>-41.019882</td>\n",
       "      <td>6</td>\n",
       "      <td>0.730685</td>\n",
       "      <td>212.787604</td>\n",
       "      <td>2024-04-04 10:12:08.987506</td>\n",
       "      <td>60404.425104</td>\n",
       "      <td>30.0</td>\n",
       "      <td>2024-04-04 10:11:53.987506</td>\n",
       "      <td>60404.42493</td>\n",
       "      <td>33.0541</td>\n",
       "      <td>4071</td>\n",
       "      <td>3999</td>\n",
       "      <td>299.657929</td>\n",
       "      <td>-40.864959</td>\n",
       "      <td>299.909462</td>\n",
       "      <td>-40.988045</td>\n",
       "      <td>299.749197</td>\n",
       "      <td>-41.174785</td>\n",
       "      <td>299.497273</td>\n",
       "      <td>-41.051348</td>\n",
       "      <td>194310</td>\n",
       "      <td>759</td>\n",
       "      <td>20240403</td>\n",
       "      <td>2024-04-04 10:11:53.987506</td>\n",
       "      <td>1.083019</td>\n",
       "      <td>3384</td>\n",
       "      <td>127</td>\n",
       "    </tr>\n",
       "    <tr>\n",
       "      <th>730866055175</th>\n",
       "      <td>7024040300760</td>\n",
       "      <td>g_01</td>\n",
       "      <td>g</td>\n",
       "      <td>299.965165</td>\n",
       "      <td>-41.147481</td>\n",
       "      <td>22.809525</td>\n",
       "      <td>31.414433</td>\n",
       "      <td>1.551065</td>\n",
       "      <td>674.389282</td>\n",
       "      <td>22.570475</td>\n",
       "      <td>0.009091</td>\n",
       "      <td>0.005501</td>\n",
       "      <td>714</td>\n",
       "      <td>-0.000251</td>\n",
       "      <td>-0.000695</td>\n",
       "      <td>0.010124</td>\n",
       "      <td>0.011366</td>\n",
       "      <td>0.000594</td>\n",
       "      <td>0.012756</td>\n",
       "      <td>0.008227</td>\n",
       "      <td>0.008876</td>\n",
       "      <td>339.986023</td>\n",
       "      <td>16.549288</td>\n",
       "      <td>1.229694</td>\n",
       "      <td>0.415487</td>\n",
       "      <td>1.079701</td>\n",
       "      <td>-41.147481</td>\n",
       "      <td>7</td>\n",
       "      <td>0.731121</td>\n",
       "      <td>212.787604</td>\n",
       "      <td>2024-04-04 10:12:08.987506</td>\n",
       "      <td>60404.425104</td>\n",
       "      <td>30.0</td>\n",
       "      <td>2024-04-04 10:11:53.987506</td>\n",
       "      <td>60404.42493</td>\n",
       "      <td>33.0541</td>\n",
       "      <td>4071</td>\n",
       "      <td>3999</td>\n",
       "      <td>299.918933</td>\n",
       "      <td>-40.992662</td>\n",
       "      <td>300.171451</td>\n",
       "      <td>-41.115177</td>\n",
       "      <td>300.011615</td>\n",
       "      <td>-41.302275</td>\n",
       "      <td>299.758681</td>\n",
       "      <td>-41.179411</td>\n",
       "      <td>194311</td>\n",
       "      <td>759</td>\n",
       "      <td>20240403</td>\n",
       "      <td>2024-04-04 10:11:53.987506</td>\n",
       "      <td>1.084836</td>\n",
       "      <td>3384</td>\n",
       "      <td>91</td>\n",
       "    </tr>\n",
       "    <tr>\n",
       "      <th>730866055176</th>\n",
       "      <td>7024040300760</td>\n",
       "      <td>g_01</td>\n",
       "      <td>g</td>\n",
       "      <td>300.227895</td>\n",
       "      <td>-41.274478</td>\n",
       "      <td>23.039165</td>\n",
       "      <td>31.359095</td>\n",
       "      <td>1.551122</td>\n",
       "      <td>640.420654</td>\n",
       "      <td>23.577131</td>\n",
       "      <td>0.009482</td>\n",
       "      <td>0.005686</td>\n",
       "      <td>722</td>\n",
       "      <td>0.000140</td>\n",
       "      <td>-0.000932</td>\n",
       "      <td>0.011811</td>\n",
       "      <td>0.011071</td>\n",
       "      <td>0.000584</td>\n",
       "      <td>0.012148</td>\n",
       "      <td>0.007829</td>\n",
       "      <td>0.007640</td>\n",
       "      <td>362.521576</td>\n",
       "      <td>15.737003</td>\n",
       "      <td>1.229603</td>\n",
       "      <td>0.437525</td>\n",
       "      <td>0.975064</td>\n",
       "      <td>-41.274478</td>\n",
       "      <td>8</td>\n",
       "      <td>0.733499</td>\n",
       "      <td>212.787604</td>\n",
       "      <td>2024-04-04 10:12:08.987506</td>\n",
       "      <td>60404.425104</td>\n",
       "      <td>30.0</td>\n",
       "      <td>2024-04-04 10:11:53.987506</td>\n",
       "      <td>60404.42493</td>\n",
       "      <td>33.0541</td>\n",
       "      <td>4071</td>\n",
       "      <td>3999</td>\n",
       "      <td>300.180958</td>\n",
       "      <td>-41.119768</td>\n",
       "      <td>300.434449</td>\n",
       "      <td>-41.241702</td>\n",
       "      <td>300.275051</td>\n",
       "      <td>-41.429150</td>\n",
       "      <td>300.021135</td>\n",
       "      <td>-41.306880</td>\n",
       "      <td>194312</td>\n",
       "      <td>759</td>\n",
       "      <td>20240403</td>\n",
       "      <td>2024-04-04 10:11:53.987506</td>\n",
       "      <td>1.086676</td>\n",
       "      <td>3384</td>\n",
       "      <td>71</td>\n",
       "    </tr>\n",
       "  </tbody>\n",
       "</table>\n",
       "<p>2015 rows × 53 columns</p>\n",
       "</div>"
      ],
      "text/plain": [
       "                    visitId physical_filter band          ra        dec  \\\n",
       "ccdVisitId                                                                \n",
       "730865866240  7024040300022            g_01    g  124.784571 -15.265897   \n",
       "730865866242  7024040300022            g_01    g  124.618851 -14.824225   \n",
       "730865866243  7024040300022            g_01    g  125.013368 -15.185681   \n",
       "730865866244  7024040300022            g_01    g  124.930215 -14.964937   \n",
       "730865866245  7024040300022            g_01    g  124.847236 -14.744165   \n",
       "...                     ...             ...  ...         ...        ...   \n",
       "730866055172  7024040300760            g_01    g  300.133713 -40.949909   \n",
       "730866055173  7024040300760            g_01    g  300.395982 -41.076531   \n",
       "730866055174  7024040300760            g_01    g  299.703453 -41.019882   \n",
       "730866055175  7024040300760            g_01    g  299.965165 -41.147481   \n",
       "730866055176  7024040300760            g_01    g  300.227895 -41.274478   \n",
       "\n",
       "              zenithDistance  zeroPoint  psfSigma       skyBg   skyNoise  \\\n",
       "ccdVisitId                                                                 \n",
       "730865866240       15.979365  31.354979  2.451715  322.351501  19.016087   \n",
       "730865866242       16.342335  31.363281  2.460139  325.820312  17.244532   \n",
       "730865866243       16.131117  31.360659  2.459129  324.413116  18.322250   \n",
       "730865866244       16.310301  31.369553  2.457011  327.588776  16.883184   \n",
       "730865866245       16.490845  31.364349  2.459225  325.299225  18.130884   \n",
       "...                      ...        ...       ...         ...        ...   \n",
       "730866055172       22.860332  31.403135  1.548339  670.345886  21.987268   \n",
       "730866055173       23.089502  31.398638  1.548566  666.545776  23.050404   \n",
       "730866055174       22.579983  31.386511  1.550444  656.265076  22.890205   \n",
       "730866055175       22.809525  31.414433  1.551065  674.389282  22.570475   \n",
       "730866055176       23.039165  31.359095  1.551122  640.420654  23.577131   \n",
       "\n",
       "              astromOffsetMean  astromOffsetStd  nPsfStar  \\\n",
       "ccdVisitId                                                  \n",
       "730865866240          0.008969         0.005492       373   \n",
       "730865866242          0.008998         0.005345       342   \n",
       "730865866243          0.009823         0.005857       358   \n",
       "730865866244          0.008356         0.004796       352   \n",
       "730865866245          0.008886         0.005215       369   \n",
       "...                        ...              ...       ...   \n",
       "730866055172          0.008794         0.005100       686   \n",
       "730866055173          0.007620         0.004198       713   \n",
       "730866055174          0.009389         0.005790       767   \n",
       "730866055175          0.009091         0.005501       714   \n",
       "730866055176          0.009482         0.005686       722   \n",
       "\n",
       "              psfStarDeltaE1Median  psfStarDeltaE2Median  \\\n",
       "ccdVisitId                                                 \n",
       "730865866240              0.000192              0.000062   \n",
       "730865866242             -0.000049             -0.000173   \n",
       "730865866243             -0.000454              0.000333   \n",
       "730865866244              0.000525              0.000235   \n",
       "730865866245             -0.000329             -0.001092   \n",
       "...                            ...                   ...   \n",
       "730866055172              0.000524              0.000231   \n",
       "730866055173             -0.000048             -0.000310   \n",
       "730866055174              0.000429             -0.000360   \n",
       "730866055175             -0.000251             -0.000695   \n",
       "730866055176              0.000140             -0.000932   \n",
       "\n",
       "              psfStarDeltaE1Scatter  psfStarDeltaE2Scatter  \\\n",
       "ccdVisitId                                                   \n",
       "730865866240               0.010216               0.011057   \n",
       "730865866242               0.011314               0.011765   \n",
       "730865866243               0.011112               0.011135   \n",
       "730865866244               0.010801               0.010670   \n",
       "730865866245               0.009125               0.010298   \n",
       "...                             ...                    ...   \n",
       "730866055172               0.011758               0.011172   \n",
       "730866055173               0.010589               0.010988   \n",
       "730866055174               0.010487               0.011386   \n",
       "730866055175               0.010124               0.011366   \n",
       "730866055176               0.011811               0.011071   \n",
       "\n",
       "              psfStarDeltaSizeMedian  psfStarDeltaSizeScatter  \\\n",
       "ccdVisitId                                                      \n",
       "730865866240                0.002104                 0.016086   \n",
       "730865866242                0.001220                 0.015511   \n",
       "730865866243                0.002865                 0.018014   \n",
       "730865866244                0.001557                 0.020148   \n",
       "730865866245                0.001067                 0.016404   \n",
       "...                              ...                      ...   \n",
       "730866055172                0.001673                 0.012895   \n",
       "730866055173                0.000883                 0.012705   \n",
       "730866055174                0.001512                 0.013280   \n",
       "730866055175                0.000594                 0.012756   \n",
       "730866055176                0.000584                 0.012148   \n",
       "\n",
       "              psfStarScaledDeltaSizeScatter  psfTraceRadiusDelta  \\\n",
       "ccdVisitId                                                         \n",
       "730865866240                       0.006546             0.019297   \n",
       "730865866242                       0.006304             0.022413   \n",
       "730865866243                       0.007320             0.015012   \n",
       "730865866244                       0.008188             0.009127   \n",
       "730865866245                       0.006671             0.010720   \n",
       "...                                     ...                  ...   \n",
       "730866055172                       0.008322             0.008108   \n",
       "730866055173                       0.008193             0.006200   \n",
       "730866055174                       0.008568             0.010471   \n",
       "730866055175                       0.008227             0.008876   \n",
       "730866055176                       0.007829             0.007640   \n",
       "\n",
       "              maxDistToNearestPsf    effTime  effTimePsfSigmaScale  \\\n",
       "ccdVisitId                                                           \n",
       "730865866240           472.769379  12.419865              0.492172   \n",
       "730865866242           444.283813  12.391698              0.488807   \n",
       "730865866243           519.376831  12.395638              0.489209   \n",
       "730865866244           422.055725  12.499806              0.490053   \n",
       "730865866245           435.910431  12.445275              0.489171   \n",
       "...                           ...        ...                   ...   \n",
       "730866055172           302.408722  16.363680              1.234028   \n",
       "730866055173           310.317657  16.316439              1.233666   \n",
       "730866055174           364.855194  16.166704              1.230679   \n",
       "730866055175           339.986023  16.549288              1.229694   \n",
       "730866055176           362.521576  15.737003              1.229603   \n",
       "\n",
       "              effTimeSkyBgScale  effTimeZeroPointScale       decl  detector  \\\n",
       "ccdVisitId                                                                    \n",
       "730865866240           0.869237               0.967699 -15.265897         0   \n",
       "730865866242           0.859983               0.982611 -14.824225         2   \n",
       "730865866243           0.863714               0.977876 -15.185681         3   \n",
       "730865866244           0.855341               0.994032 -14.964937         4   \n",
       "730865866245           0.861361               0.984550 -14.744165         5   \n",
       "...                         ...                    ...        ...       ...   \n",
       "730866055172           0.417993               1.057464 -40.949909         4   \n",
       "730866055173           0.420376               1.048741 -41.076531         5   \n",
       "730866055174           0.426962               1.025573 -41.019882         6   \n",
       "730866055175           0.415487               1.079701 -41.147481         7   \n",
       "730866055176           0.437525               0.975064 -41.274478         8   \n",
       "\n",
       "                seeing  skyRotation                   expMidpt   expMidptMJD  \\\n",
       "ccdVisitId                                                                     \n",
       "730865866240  1.155846    69.773608 2024-04-03 23:46:55.824000  60403.990924   \n",
       "730865866242  1.159396    69.773608 2024-04-03 23:46:55.824000  60403.990924   \n",
       "730865866243  1.158236    69.773608 2024-04-03 23:46:55.824000  60403.990924   \n",
       "730865866244  1.158020    69.773608 2024-04-03 23:46:55.824000  60403.990924   \n",
       "730865866245  1.159841    69.773608 2024-04-03 23:46:55.824000  60403.990924   \n",
       "...                ...          ...                        ...           ...   \n",
       "730866055172  0.729877   212.787604 2024-04-04 10:12:08.987506  60404.425104   \n",
       "730866055173  0.729997   212.787604 2024-04-04 10:12:08.987506  60404.425104   \n",
       "730866055174  0.730685   212.787604 2024-04-04 10:12:08.987506  60404.425104   \n",
       "730866055175  0.731121   212.787604 2024-04-04 10:12:08.987506  60404.425104   \n",
       "730866055176  0.733499   212.787604 2024-04-04 10:12:08.987506  60404.425104   \n",
       "\n",
       "              expTime                   obsStart  obsStartMJD  darkTime  \\\n",
       "ccdVisitId                                                                \n",
       "730865866240     30.0 2024-04-03 23:46:40.824000  60403.99075   33.0544   \n",
       "730865866242     30.0 2024-04-03 23:46:40.824000  60403.99075   33.0544   \n",
       "730865866243     30.0 2024-04-03 23:46:40.824000  60403.99075   33.0544   \n",
       "730865866244     30.0 2024-04-03 23:46:40.824000  60403.99075   33.0544   \n",
       "730865866245     30.0 2024-04-03 23:46:40.824000  60403.99075   33.0544   \n",
       "...               ...                        ...          ...       ...   \n",
       "730866055172     30.0 2024-04-04 10:11:53.987506  60404.42493   33.0541   \n",
       "730866055173     30.0 2024-04-04 10:11:53.987506  60404.42493   33.0541   \n",
       "730866055174     30.0 2024-04-04 10:11:53.987506  60404.42493   33.0541   \n",
       "730866055175     30.0 2024-04-04 10:11:53.987506  60404.42493   33.0541   \n",
       "730866055176     30.0 2024-04-04 10:11:53.987506  60404.42493   33.0541   \n",
       "\n",
       "              xSize  ySize       llcra     llcdec       ulcra     ulcdec  \\\n",
       "ccdVisitId                                                                 \n",
       "730865866240   4071   3999  124.716201 -15.410191  124.636268 -15.197361   \n",
       "730865866242   4071   3999  124.550507 -14.968487  124.470924 -14.755597   \n",
       "730865866243   4071   3999  124.945168 -15.330054  124.865038 -15.117298   \n",
       "730865866244   4071   3999  124.862028 -15.109300  124.782062 -14.896497   \n",
       "730865866245   4071   3999  124.779063 -14.888502  124.699266 -14.675677   \n",
       "...             ...    ...         ...        ...         ...        ...   \n",
       "730866055172   4071   3999  300.087227 -40.795155  300.339304 -40.917303   \n",
       "730866055173   4071   3999  300.348794 -40.921882  300.601825 -41.043458   \n",
       "730866055174   4071   3999  299.657929 -40.864959  299.909462 -40.988045   \n",
       "730866055175   4071   3999  299.918933 -40.992662  300.171451 -41.115177   \n",
       "730866055176   4071   3999  300.180958 -41.119768  300.434449 -41.241702   \n",
       "\n",
       "                   urcra     urcdec       lrcra     lrcdec  ccdVid  Vid  \\\n",
       "ccdVisitId                                                                \n",
       "730865866240  124.852856 -15.121567  124.932977 -15.334329    5376   21   \n",
       "730865866242  124.687108 -14.679939  124.766893 -14.892767    5378   21   \n",
       "730865866243  125.081478 -15.041274  125.161789 -15.253958    5379   21   \n",
       "730865866244  124.998308 -14.820553  125.078462 -15.033282    5380   21   \n",
       "730865866245  124.915316 -14.599816  124.995302 -14.812559    5381   21   \n",
       "...                  ...        ...         ...        ...     ...  ...   \n",
       "730866055172  300.180415 -41.104643  299.927921 -40.982148  194308  759   \n",
       "730866055173  300.443390 -41.231153  300.189922 -41.109236  194309  759   \n",
       "730866055174  299.749197 -41.174785  299.497273 -41.051348  194310  759   \n",
       "730866055175  300.011615 -41.302275  299.758681 -41.179411  194311  759   \n",
       "730866055176  300.275051 -41.429150  300.021135 -41.306880  194312  759   \n",
       "\n",
       "              nightObs                       Time   airmass  tractID  patchID  \n",
       "ccdVisitId                                                                     \n",
       "730865866240  20240403 2024-04-03 23:46:40.824000  1.040192     6914      210  \n",
       "730865866242  20240403 2024-04-03 23:46:40.824000  1.042103     7149       13  \n",
       "730865866243  20240403 2024-04-03 23:46:40.824000  1.040985     6914      225  \n",
       "730865866244  20240403 2024-04-03 23:46:40.824000  1.041933     6914      260  \n",
       "730865866245  20240403 2024-04-03 23:46:40.824000  1.042900     7149       28  \n",
       "...                ...                        ...       ...      ...      ...  \n",
       "730866055172  20240403 2024-04-04 10:11:53.987506  1.085241     3384      140  \n",
       "730866055173  20240403 2024-04-04 10:11:53.987506  1.087083     3384      104  \n",
       "730866055174  20240403 2024-04-04 10:11:53.987506  1.083019     3384      127  \n",
       "730866055175  20240403 2024-04-04 10:11:53.987506  1.084836     3384       91  \n",
       "730866055176  20240403 2024-04-04 10:11:53.987506  1.086676     3384       71  \n",
       "\n",
       "[2015 rows x 53 columns]"
      ]
     },
     "execution_count": 52,
     "metadata": {},
     "output_type": "execute_result"
    }
   ],
   "source": [
    "ccd_visit_table_g"
   ]
  },
  {
   "cell_type": "code",
   "execution_count": 53,
   "id": "d1dde9e9-0965-458f-8ac2-3a1c26ac5291",
   "metadata": {
    "execution": {
     "iopub.execute_input": "2024-05-09T12:57:13.563425Z",
     "iopub.status.busy": "2024-05-09T12:57:13.563306Z",
     "iopub.status.idle": "2024-05-09T12:57:13.712329Z",
     "shell.execute_reply": "2024-05-09T12:57:13.711952Z",
     "shell.execute_reply.started": "2024-05-09T12:57:13.563414Z"
    }
   },
   "outputs": [
    {
     "data": {
      "text/plain": [
       "Text(0.5, 0.98, 'LSSTComCamSim_runs_nightlyvalidation_20240403_d_2024_03_29_DM-43612 inst = LSSTComCamSim tract = 2494')"
      ]
     },
     "execution_count": 53,
     "metadata": {},
     "output_type": "execute_result"
    },
    {
     "data": {
      "image/png": "[encoded data removed]",
      "text/plain": [
       "<Figure size 1600x500 with 1 Axes>"
      ]
     },
     "metadata": {},
     "output_type": "display_data"
    }
   ],
   "source": [
    "fig, ax = plt.subplots(1,1,figsize=(16,5),sharex=True)\n",
    "ccd_visit_table_g.plot.scatter(x=\"airmass\",y=\"skyBg\",marker=\"o\",ax=ax,color=\"g\",grid=True,label=\"g\")\n",
    "ax.set_ylim(0.,700)\n",
    "plt.suptitle(suptitle)"
   ]
  },
  {
   "cell_type": "code",
   "execution_count": 54,
   "id": "1e709d40-098d-4e7e-8864-08c7d6f459a4",
   "metadata": {
    "execution": {
     "iopub.execute_input": "2024-05-09T12:57:13.713021Z",
     "iopub.status.busy": "2024-05-09T12:57:13.712892Z",
     "iopub.status.idle": "2024-05-09T12:57:14.071648Z",
     "shell.execute_reply": "2024-05-09T12:57:14.071227Z",
     "shell.execute_reply.started": "2024-05-09T12:57:13.713009Z"
    }
   },
   "outputs": [
    {
     "data": {
      "text/plain": [
       "Text(0.5, 0.98, 'LSSTComCamSim_runs_nightlyvalidation_20240403_d_2024_03_29_DM-43612 inst = LSSTComCamSim tract = 2494')"
      ]
     },
     "execution_count": 54,
     "metadata": {},
     "output_type": "execute_result"
    },
    {
     "data": {
      "image/png": "[encoded data removed]",
      "text/plain": [
       "<Figure size 1600x600 with 2 Axes>"
      ]
     },
     "metadata": {},
     "output_type": "display_data"
    }
   ],
   "source": [
    "import matplotlib.dates as mdates\n",
    "#month_locator = mdates.MonthLocator(interval=1)\n",
    "#day_locator = mdates.DayLocator(interval=1)\n",
    "#year_month_formatter = mdates.DateFormatter(\"%Y-%m\") \n",
    "\n",
    "from matplotlib.dates import DateFormatter\n",
    "date_form = DateFormatter(\"%y-%m-%dT%H:%M\")\n",
    "\n",
    "\n",
    "fig, (ax1,ax2) = plt.subplots(2,1,figsize=(16,6),sharex=True)\n",
    "ccd_visit_table_g.plot.scatter(x=\"Time\",y=\"airmass\",ax=ax1,marker=\"+\",color=\"k\",rot=45)\n",
    "ccd_visit_table_g.plot.scatter(x=\"Time\",y=\"skyBg\",ax=ax2,marker=\"+\",color=\"g\",rot=45)\n",
    "ax2.xaxis.set_major_formatter(date_form)\n",
    "\n",
    "#ax.xaxis.set_major_locator(month_locator) # Locator for major axis only.\n",
    "#ax.xaxis.set_minor_locator(day_locator)\n",
    "#ax.xaxis.set_major_formatter(year_month_formatter)\n",
    "ax1.grid()\n",
    "ax2.grid()\n",
    "ax2.set_ylim(0.,700)\n",
    "plt.suptitle(suptitle)"
   ]
  },
  {
   "cell_type": "code",
   "execution_count": 55,
   "id": "80292cdb-bc65-4245-88e5-cc5ca9985750",
   "metadata": {
    "execution": {
     "iopub.execute_input": "2024-05-09T12:57:14.072422Z",
     "iopub.status.busy": "2024-05-09T12:57:14.072233Z",
     "iopub.status.idle": "2024-05-09T12:57:14.220585Z",
     "shell.execute_reply": "2024-05-09T12:57:14.220225Z",
     "shell.execute_reply.started": "2024-05-09T12:57:14.072410Z"
    }
   },
   "outputs": [
    {
     "data": {
      "text/plain": [
       "Text(0.5, 0.98, 'LSSTComCamSim_runs_nightlyvalidation_20240403_d_2024_03_29_DM-43612 inst = LSSTComCamSim tract = 2494')"
      ]
     },
     "execution_count": 55,
     "metadata": {},
     "output_type": "execute_result"
    },
    {
     "data": {
      "image/png": "[encoded data removed]",
      "text/plain": [
       "<Figure size 1600x500 with 1 Axes>"
      ]
     },
     "metadata": {},
     "output_type": "display_data"
    }
   ],
   "source": [
    "fig, ax = plt.subplots(1,1,figsize=(16,5),sharex=True)\n",
    "ccd_visit_table_r.plot.scatter(x=\"airmass\",y=\"skyBg\",marker=\"o\",ax=ax,color=\"r\",grid=True,label=\"r\")\n",
    "ax.set_ylim(0.,1800)\n",
    "plt.suptitle(suptitle)"
   ]
  },
  {
   "cell_type": "code",
   "execution_count": 56,
   "id": "354c8823-d361-463b-8515-0d2c1f3485f7",
   "metadata": {
    "execution": {
     "iopub.execute_input": "2024-05-09T12:57:14.221207Z",
     "iopub.status.busy": "2024-05-09T12:57:14.221083Z",
     "iopub.status.idle": "2024-05-09T12:57:14.531007Z",
     "shell.execute_reply": "2024-05-09T12:57:14.530633Z",
     "shell.execute_reply.started": "2024-05-09T12:57:14.221195Z"
    }
   },
   "outputs": [
    {
     "data": {
      "text/plain": [
       "Text(0.5, 0.98, 'LSSTComCamSim_runs_nightlyvalidation_20240403_d_2024_03_29_DM-43612 inst = LSSTComCamSim tract = 2494')"
      ]
     },
     "execution_count": 56,
     "metadata": {},
     "output_type": "execute_result"
    },
    {
     "data": {
      "image/png": "[encoded data removed]",
      "text/plain": [
       "<Figure size 1600x600 with 2 Axes>"
      ]
     },
     "metadata": {},
     "output_type": "display_data"
    }
   ],
   "source": [
    "import matplotlib.dates as mdates\n",
    "\n",
    "from matplotlib.dates import DateFormatter\n",
    "date_form = DateFormatter(\"%y-%m-%dT%H:%M\")\n",
    "\n",
    "\n",
    "fig, (ax1,ax2) = plt.subplots(2,1,figsize=(16,6),sharex=True)\n",
    "ccd_visit_table_r.plot.scatter(x=\"Time\",y=\"airmass\",ax=ax1,marker=\"+\",color=\"k\",rot=45)\n",
    "ccd_visit_table_r.plot.scatter(x=\"Time\",y=\"skyBg\",ax=ax2,marker=\"+\",color=\"r\",rot=45)\n",
    "ax2.xaxis.set_major_formatter(date_form)\n",
    "\n",
    "#ax.xaxis.set_major_locator(month_locator) # Locator for major axis only.\n",
    "#ax.xaxis.set_minor_locator(day_locator)\n",
    "#ax.xaxis.set_major_formatter(year_month_formatter)\n",
    "ax1.grid()\n",
    "ax2.grid()\n",
    "ax2.set_ylim(0.,1800)\n",
    "plt.suptitle(suptitle)"
   ]
  },
  {
   "cell_type": "code",
   "execution_count": 57,
   "id": "61cb56ee-c551-4f67-804a-dd301dd0e368",
   "metadata": {
    "execution": {
     "iopub.execute_input": "2024-05-09T12:57:14.531655Z",
     "iopub.status.busy": "2024-05-09T12:57:14.531517Z",
     "iopub.status.idle": "2024-05-09T12:57:14.683756Z",
     "shell.execute_reply": "2024-05-09T12:57:14.683378Z",
     "shell.execute_reply.started": "2024-05-09T12:57:14.531643Z"
    }
   },
   "outputs": [
    {
     "data": {
      "text/plain": [
       "Text(0.5, 0.98, 'LSSTComCamSim_runs_nightlyvalidation_20240403_d_2024_03_29_DM-43612 inst = LSSTComCamSim tract = 2494')"
      ]
     },
     "execution_count": 57,
     "metadata": {},
     "output_type": "execute_result"
    },
    {
     "data": {
      "image/png": "[encoded data removed]",
      "text/plain": [
       "<Figure size 1600x500 with 1 Axes>"
      ]
     },
     "metadata": {},
     "output_type": "display_data"
    }
   ],
   "source": [
    "fig, ax = plt.subplots(1,1,figsize=(16,5),sharex=True)\n",
    "ccd_visit_table_i.plot.scatter(x=\"airmass\",y=\"skyBg\",marker=\"o\",ax=ax,color=\"orange\",grid=True,label=\"i\")\n",
    "ax.set_ylim(0.,1500)\n",
    "plt.suptitle(suptitle)"
   ]
  },
  {
   "cell_type": "code",
   "execution_count": 58,
   "id": "658abf30-883a-457c-a49e-f57a3273155e",
   "metadata": {
    "execution": {
     "iopub.execute_input": "2024-05-09T12:57:14.684402Z",
     "iopub.status.busy": "2024-05-09T12:57:14.684272Z",
     "iopub.status.idle": "2024-05-09T12:57:15.050726Z",
     "shell.execute_reply": "2024-05-09T12:57:15.050303Z",
     "shell.execute_reply.started": "2024-05-09T12:57:14.684389Z"
    }
   },
   "outputs": [
    {
     "data": {
      "text/plain": [
       "Text(0.5, 0.98, 'LSSTComCamSim_runs_nightlyvalidation_20240403_d_2024_03_29_DM-43612 inst = LSSTComCamSim tract = 2494')"
      ]
     },
     "execution_count": 58,
     "metadata": {},
     "output_type": "execute_result"
    },
    {
     "data": {
      "image/png": "[encoded data removed]",
      "text/plain": [
       "<Figure size 1600x600 with 2 Axes>"
      ]
     },
     "metadata": {},
     "output_type": "display_data"
    }
   ],
   "source": [
    "import matplotlib.dates as mdates\n",
    "\n",
    "from matplotlib.dates import DateFormatter\n",
    "date_form = DateFormatter(\"%y-%m-%dT%H:%M\")\n",
    "\n",
    "\n",
    "fig, (ax1,ax2) = plt.subplots(2,1,figsize=(16,6),sharex=True)\n",
    "ccd_visit_table_i.plot.scatter(x=\"Time\",y=\"airmass\",ax=ax1,marker=\"+\",color=\"k\",rot=45)\n",
    "ccd_visit_table_i.plot.scatter(x=\"Time\",y=\"skyBg\",ax=ax2,marker=\"+\",color=\"orange\",rot=45)\n",
    "ax2.xaxis.set_major_formatter(date_form)\n",
    "\n",
    "#ax.xaxis.set_major_locator(month_locator) # Locator for major axis only.\n",
    "#ax.xaxis.set_minor_locator(day_locator)\n",
    "#ax.xaxis.set_major_formatter(year_month_formatter)\n",
    "ax1.grid()\n",
    "ax2.grid()\n",
    "ax2.set_ylim(0.,1500)\n",
    "plt.suptitle(suptitle)"
   ]
  },
  {
   "cell_type": "code",
   "execution_count": null,
   "id": "4545e7a3-2ab6-4eaa-ae0d-c20f5f54d08d",
   "metadata": {},
   "outputs": [],
   "source": []
  }
 ],
 "metadata": {
  "kernelspec": {
   "display_name": "LSST",
   "language": "python",
   "name": "lsst"
  },
  "language_info": {
   "codemirror_mode": {
    "name": "ipython",
    "version": 3
   },
   "file_extension": ".py",
   "mimetype": "text/x-python",
   "name": "python",
   "nbconvert_exporter": "python",
   "pygments_lexer": "ipython3",
   "version": "3.11.7"
  }
 },
 "nbformat": 4,
 "nbformat_minor": 5
}
