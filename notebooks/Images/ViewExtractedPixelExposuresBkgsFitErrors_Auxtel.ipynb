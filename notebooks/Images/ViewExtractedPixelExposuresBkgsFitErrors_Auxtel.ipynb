{
 "cells": [
  {
   "cell_type": "markdown",
   "id": "b48abe36-a1f4-4e69-be3f-968df9b4386c",
   "metadata": {},
   "source": [
    "# Fit Exposure Sky background and noise  from Calexp and CalexpBackground and CCD Visits for Auxtel\n",
    "\n"
   ]
  },
  {
   "cell_type": "markdown",
   "id": "98903683-e9c7-4382-a13e-35ef8359d9f1",
   "metadata": {},
   "source": [
    "- author Sylvie Dagoret-Campagne\n",
    "- creation date 2024-05-28\n",
    "- last update 2024-05-28 : Fit a straight line\n",
    "- affiliation : IJCLab\n",
    "- kernel : **w_2024_16**"
   ]
  },
  {
   "cell_type": "markdown",
   "id": "2527ec4f-c2d0-438d-b4f8-6f274d49b1c3",
   "metadata": {},
   "source": [
    "``Quantum Graphs``: https://tigress-web.princeton.edu/~lkelvin/pipelines/ \n",
    "\n",
    "``CalibrateTask``: \n",
    "https://github.com/lsst/pipe_tasks/blob/main/python/lsst/pipe/tasks/calibrate.py#L392-L399\n",
    "\n",
    "``Shemas``:\n",
    "https://dm.lsst.org/sdm_schemas/browser/"
   ]
  },
  {
   "cell_type": "code",
   "execution_count": 1,
   "id": "202053fa-4ec5-4e1f-b062-a67943176c3a",
   "metadata": {
    "execution": {
     "iopub.execute_input": "2024-05-28T14:32:20.242306Z",
     "iopub.status.busy": "2024-05-28T14:32:20.242187Z",
     "iopub.status.idle": "2024-05-28T14:32:20.883627Z",
     "shell.execute_reply": "2024-05-28T14:32:20.883256Z",
     "shell.execute_reply.started": "2024-05-28T14:32:20.242296Z"
    }
   },
   "outputs": [],
   "source": [
    "import numpy as np\n",
    "import matplotlib.pyplot as plt\n",
    "%matplotlib inline\n",
    "from mpl_toolkits.axes_grid1 import make_axes_locatable\n",
    "from matplotlib.colors import LogNorm,SymLogNorm\n",
    "\n",
    "\n",
    "import matplotlib.ticker                         # here's where the formatter is\n",
    "from matplotlib.ticker import (MultipleLocator, FormatStrFormatter,\n",
    "                               AutoMinorLocator)\n",
    "\n",
    "from astropy.visualization import (MinMaxInterval, SqrtStretch,ZScaleInterval,PercentileInterval,\n",
    "                                   ImageNormalize,imshow_norm)\n",
    "from astropy.visualization.stretch import SinhStretch, LinearStretch,AsinhStretch,LogStretch\n",
    "\n",
    "from astropy.io import fits\n",
    "from astropy.wcs import WCS\n",
    "\n",
    "\n",
    "import pandas as pd\n",
    "\n",
    "import matplotlib.ticker                         # here's where the formatter is\n",
    "import os\n",
    "import re\n",
    "import pandas as pd\n",
    "import pickle\n",
    "from collections import OrderedDict\n",
    "\n",
    "plt.rcParams[\"figure.figsize\"] = (4,3)\n",
    "plt.rcParams[\"axes.labelsize\"] = 'xx-large'\n",
    "plt.rcParams['axes.titlesize'] = 'xx-large'\n",
    "plt.rcParams['xtick.labelsize']= 'xx-large'\n",
    "plt.rcParams['ytick.labelsize']= 'xx-large'"
   ]
  },
  {
   "cell_type": "code",
   "execution_count": 2,
   "id": "4ef39183-a573-4f28-8a31-c48b3fa4db9e",
   "metadata": {
    "execution": {
     "iopub.execute_input": "2024-05-28T14:32:20.884354Z",
     "iopub.status.busy": "2024-05-28T14:32:20.884117Z",
     "iopub.status.idle": "2024-05-28T14:32:21.226967Z",
     "shell.execute_reply": "2024-05-28T14:32:21.226477Z",
     "shell.execute_reply.started": "2024-05-28T14:32:20.884342Z"
    }
   },
   "outputs": [],
   "source": [
    "from matplotlib.ticker import (MultipleLocator, FormatStrFormatter,\n",
    "                               AutoMinorLocator)\n",
    "\n",
    "from astropy.visualization import (MinMaxInterval, SqrtStretch,ZScaleInterval,PercentileInterval,\n",
    "                                   ImageNormalize,imshow_norm)\n",
    "from astropy.visualization.stretch import SinhStretch, LinearStretch,AsinhStretch,LogStretch\n",
    "\n",
    "from astropy.time import Time\n",
    "\n",
    "from astropy.modeling import models, fitting"
   ]
  },
  {
   "cell_type": "code",
   "execution_count": 3,
   "id": "74b7cfdf-15f6-4596-9f37-464159143196",
   "metadata": {
    "execution": {
     "iopub.execute_input": "2024-05-28T14:32:21.227894Z",
     "iopub.status.busy": "2024-05-28T14:32:21.227590Z",
     "iopub.status.idle": "2024-05-28T14:32:21.230376Z",
     "shell.execute_reply": "2024-05-28T14:32:21.229983Z",
     "shell.execute_reply.started": "2024-05-28T14:32:21.227882Z"
    }
   },
   "outputs": [],
   "source": [
    "import matplotlib.dates as mdates\n",
    "#month_locator = mdates.MonthLocator(interval=1)\n",
    "#day_locator = mdates.DayLocator(interval=1)\n",
    "#year_month_formatter = mdates.DateFormatter(\"%Y-%m\") \n",
    "\n",
    "from matplotlib.dates import DateFormatter\n",
    "date_form = DateFormatter(\"%y-%m-%dT%H:%M\")"
   ]
  },
  {
   "cell_type": "code",
   "execution_count": 4,
   "id": "da9d064b-9f9a-40a9-b3a1-a9376f958e2f",
   "metadata": {
    "execution": {
     "iopub.execute_input": "2024-05-28T14:32:21.231781Z",
     "iopub.status.busy": "2024-05-28T14:32:21.231661Z",
     "iopub.status.idle": "2024-05-28T14:32:21.235242Z",
     "shell.execute_reply": "2024-05-28T14:32:21.234885Z",
     "shell.execute_reply.started": "2024-05-28T14:32:21.231771Z"
    }
   },
   "outputs": [
    {
     "name": "stdout",
     "output_type": "stream",
     "text": [
      "Set environment for USDF Rubin Science Platform\n"
     ]
    }
   ],
   "source": [
    "machine_name = os.uname().nodename\n",
    "path_rubinsimphot = \"repos/repos_w_2024_17/rubinsimphot/src\"\n",
    "if 'sdf' in machine_name:\n",
    "    #machine_name_usdf = 'sdfrome001'\n",
    "    print(\"Set environment for USDF\")\n",
    "    newpythonpath = os.path.join(os.getenv(\"HOME\"),path_rubinsimphot)\n",
    "    sys.path.append(newpythonpath)\n",
    "elif 'dagoret-nb' in machine_name:\n",
    "    print(\"Set environment for USDF Rubin Science Platform\")\n",
    "    newpythonpath = os.path.join(os.getenv(\"HOME\"),path_rubinsimphot)\n",
    "    sys.path.append(newpythonpath)    \n",
    "elif 'mac' in machine_name:\n",
    "    print(\"Be sure to run this notebook in conda environment named conda_py310\")\n",
    "else:\n",
    "    print(f\"Your current machine name is {machine_name}. Check your python environment\")"
   ]
  },
  {
   "cell_type": "code",
   "execution_count": 5,
   "id": "86d5731f-24c9-4385-ab7c-0ec990694f18",
   "metadata": {
    "execution": {
     "iopub.execute_input": "2024-05-28T14:32:21.235792Z",
     "iopub.status.busy": "2024-05-28T14:32:21.235675Z",
     "iopub.status.idle": "2024-05-28T14:32:21.248310Z",
     "shell.execute_reply": "2024-05-28T14:32:21.247973Z",
     "shell.execute_reply.started": "2024-05-28T14:32:21.235781Z"
    }
   },
   "outputs": [],
   "source": [
    "from rubinsimphot.phot_utils import Bandpass, Sed\n",
    "from rubinsimphot.data import get_data_dir"
   ]
  },
  {
   "cell_type": "code",
   "execution_count": 6,
   "id": "bbef3687-8d2e-4143-a8ef-f9c5b9d93056",
   "metadata": {
    "execution": {
     "iopub.execute_input": "2024-05-28T14:32:21.248892Z",
     "iopub.status.busy": "2024-05-28T14:32:21.248775Z",
     "iopub.status.idle": "2024-05-28T14:32:21.250873Z",
     "shell.execute_reply": "2024-05-28T14:32:21.250532Z",
     "shell.execute_reply.started": "2024-05-28T14:32:21.248882Z"
    }
   },
   "outputs": [],
   "source": [
    "fdir = get_data_dir()\n",
    "path_rubin_sim_throughput = os.path.join(fdir, 'throughputs', 'auxtel')"
   ]
  },
  {
   "cell_type": "code",
   "execution_count": 7,
   "id": "2629e4f4-167a-464c-8d35-5d7c32d51c21",
   "metadata": {
    "execution": {
     "iopub.execute_input": "2024-05-28T14:32:21.251641Z",
     "iopub.status.busy": "2024-05-28T14:32:21.251340Z",
     "iopub.status.idle": "2024-05-28T14:32:21.263733Z",
     "shell.execute_reply": "2024-05-28T14:32:21.263359Z",
     "shell.execute_reply.started": "2024-05-28T14:32:21.251629Z"
    }
   },
   "outputs": [
    {
     "name": "stdout",
     "output_type": "stream",
     "text": [
      "LSST site name validated as LSST observatory\n"
     ]
    }
   ],
   "source": [
    "import sys\n",
    "sys.path.append('../lib')\n",
    "# This package encapsulate the calculation on calibration used in this nb\n",
    "from libPhotometricCorrections_auxtel import *"
   ]
  },
  {
   "cell_type": "code",
   "execution_count": 8,
   "id": "ffbebb63-50f4-4d6d-93eb-6a463ca08d1c",
   "metadata": {
    "execution": {
     "iopub.execute_input": "2024-05-28T14:32:21.264480Z",
     "iopub.status.busy": "2024-05-28T14:32:21.264204Z",
     "iopub.status.idle": "2024-05-28T14:32:21.289822Z",
     "shell.execute_reply": "2024-05-28T14:32:21.289469Z",
     "shell.execute_reply.started": "2024-05-28T14:32:21.264468Z"
    }
   },
   "outputs": [
    {
     "name": "stderr",
     "output_type": "stream",
     "text": [
      "/home/d/dagoret/repos/repos_w_2024_17/rubinsimphot/src/rubinsimphot/phot_utils/bandpass.py:68: UserWarning: Wavelength sampling of 1.0 nm is > 0.2 nm, this may not work well with a Sed object. Consider resampling with resample_bandpass method.\n",
      "  warnings.warn(\n"
     ]
    }
   ],
   "source": [
    "am0 =1.20    # airmass\n",
    "pwv0 = 5.0  # Precipitable water vapor vertical column depth in mm\n",
    "oz0 = 300.  # Ozone vertical column depth in Dobson Unit (DU)\n",
    "ncomp=1     # Number of aerosol components\n",
    "tau0= 0.04 # Vertical Aerosol depth (VAOD) \n",
    "beta0 = 1.2 # Aerosol Angstrom exponent\n",
    "pc = PhotometricCorrections(am0,pwv0,oz0,tau0,beta0)"
   ]
  },
  {
   "cell_type": "code",
   "execution_count": 9,
   "id": "a608426c-7144-4883-8eff-fccd20fcb576",
   "metadata": {
    "execution": {
     "iopub.execute_input": "2024-05-28T14:32:21.290436Z",
     "iopub.status.busy": "2024-05-28T14:32:21.290317Z",
     "iopub.status.idle": "2024-05-28T14:32:21.293027Z",
     "shell.execute_reply": "2024-05-28T14:32:21.292688Z",
     "shell.execute_reply.started": "2024-05-28T14:32:21.290427Z"
    }
   },
   "outputs": [],
   "source": [
    "all_Sigb = {}\n",
    "all_SigbInv = {}\n",
    "for index,f in enumerate(filter_tagnames): \n",
    "    wl = pc.bandpass_inst[f].wavelen\n",
    "    tr = pc.bandpass_inst[f].sb\n",
    "    Sigb = np.trapz(tr/wl,wl)\n",
    "    all_Sigb[f] = Sigb \n",
    "    all_SigbInv[f] = 1/Sigb "
   ]
  },
  {
   "cell_type": "code",
   "execution_count": 10,
   "id": "2f2a5b0c-e4c7-48f8-906b-f957e7d2c932",
   "metadata": {
    "execution": {
     "iopub.execute_input": "2024-05-28T14:32:21.293648Z",
     "iopub.status.busy": "2024-05-28T14:32:21.293523Z",
     "iopub.status.idle": "2024-05-28T14:32:21.303028Z",
     "shell.execute_reply": "2024-05-28T14:32:21.302616Z",
     "shell.execute_reply.started": "2024-05-28T14:32:21.293638Z"
    }
   },
   "outputs": [
    {
     "data": {
      "text/html": [
       "<div>\n",
       "<style scoped>\n",
       "    .dataframe tbody tr th:only-of-type {\n",
       "        vertical-align: middle;\n",
       "    }\n",
       "\n",
       "    .dataframe tbody tr th {\n",
       "        vertical-align: top;\n",
       "    }\n",
       "\n",
       "    .dataframe thead th {\n",
       "        text-align: right;\n",
       "    }\n",
       "</style>\n",
       "<table border=\"1\" class=\"dataframe\">\n",
       "  <thead>\n",
       "    <tr style=\"text-align: right;\">\n",
       "      <th></th>\n",
       "      <th>u</th>\n",
       "      <th>g</th>\n",
       "      <th>r</th>\n",
       "      <th>i</th>\n",
       "      <th>z</th>\n",
       "      <th>y</th>\n",
       "    </tr>\n",
       "  </thead>\n",
       "  <tbody>\n",
       "    <tr>\n",
       "      <th>Sigmab</th>\n",
       "      <td>0.0055</td>\n",
       "      <td>0.1961</td>\n",
       "      <td>0.1434</td>\n",
       "      <td>0.1481</td>\n",
       "      <td>0.085</td>\n",
       "      <td>0.03</td>\n",
       "    </tr>\n",
       "  </tbody>\n",
       "</table>\n",
       "</div>"
      ],
      "text/plain": [
       "             u       g       r       i      z     y\n",
       "Sigmab  0.0055  0.1961  0.1434  0.1481  0.085  0.03"
      ]
     },
     "execution_count": 10,
     "metadata": {},
     "output_type": "execute_result"
    }
   ],
   "source": [
    "pd.DataFrame(all_Sigb, index=['Sigmab']).round(4)"
   ]
  },
  {
   "cell_type": "code",
   "execution_count": 11,
   "id": "16885824-2117-492b-a3d8-c713664ce4fa",
   "metadata": {
    "execution": {
     "iopub.execute_input": "2024-05-28T14:32:21.303576Z",
     "iopub.status.busy": "2024-05-28T14:32:21.303462Z",
     "iopub.status.idle": "2024-05-28T14:32:21.309714Z",
     "shell.execute_reply": "2024-05-28T14:32:21.309390Z",
     "shell.execute_reply.started": "2024-05-28T14:32:21.303567Z"
    }
   },
   "outputs": [
    {
     "data": {
      "text/html": [
       "<div>\n",
       "<style scoped>\n",
       "    .dataframe tbody tr th:only-of-type {\n",
       "        vertical-align: middle;\n",
       "    }\n",
       "\n",
       "    .dataframe tbody tr th {\n",
       "        vertical-align: top;\n",
       "    }\n",
       "\n",
       "    .dataframe thead th {\n",
       "        text-align: right;\n",
       "    }\n",
       "</style>\n",
       "<table border=\"1\" class=\"dataframe\">\n",
       "  <thead>\n",
       "    <tr style=\"text-align: right;\">\n",
       "      <th></th>\n",
       "      <th>u</th>\n",
       "      <th>g</th>\n",
       "      <th>r</th>\n",
       "      <th>i</th>\n",
       "      <th>z</th>\n",
       "      <th>y</th>\n",
       "    </tr>\n",
       "  </thead>\n",
       "  <tbody>\n",
       "    <tr>\n",
       "      <th>SigmabInv</th>\n",
       "      <td>181.9853</td>\n",
       "      <td>5.1002</td>\n",
       "      <td>6.9735</td>\n",
       "      <td>6.7518</td>\n",
       "      <td>11.7614</td>\n",
       "      <td>33.2995</td>\n",
       "    </tr>\n",
       "  </tbody>\n",
       "</table>\n",
       "</div>"
      ],
      "text/plain": [
       "                  u       g       r       i        z        y\n",
       "SigmabInv  181.9853  5.1002  6.9735  6.7518  11.7614  33.2995"
      ]
     },
     "execution_count": 11,
     "metadata": {},
     "output_type": "execute_result"
    }
   ],
   "source": [
    "pd.DataFrame(all_SigbInv, index=['SigmabInv']).round(4)"
   ]
  },
  {
   "cell_type": "markdown",
   "id": "2eebd9f8-de92-498f-b8d0-24f0d30f2436",
   "metadata": {},
   "source": [
    "### For fitting"
   ]
  },
  {
   "cell_type": "code",
   "execution_count": 12,
   "id": "049e45d8-85f3-4acc-af90-c81f034f8ef6",
   "metadata": {
    "execution": {
     "iopub.execute_input": "2024-05-28T14:32:21.310295Z",
     "iopub.status.busy": "2024-05-28T14:32:21.310167Z",
     "iopub.status.idle": "2024-05-28T14:32:21.312463Z",
     "shell.execute_reply": "2024-05-28T14:32:21.312125Z",
     "shell.execute_reply.started": "2024-05-28T14:32:21.310285Z"
    }
   },
   "outputs": [],
   "source": [
    "model = models.Linear1D()\n",
    "fitter = fitting.LinearLSQFitter() "
   ]
  },
  {
   "cell_type": "code",
   "execution_count": 13,
   "id": "d1c83db1-2a0b-45af-bcce-175213ee8755",
   "metadata": {
    "execution": {
     "iopub.execute_input": "2024-05-28T14:32:21.313018Z",
     "iopub.status.busy": "2024-05-28T14:32:21.312907Z",
     "iopub.status.idle": "2024-05-28T14:32:21.897166Z",
     "shell.execute_reply": "2024-05-28T14:32:21.896682Z",
     "shell.execute_reply.started": "2024-05-28T14:32:21.313009Z"
    }
   },
   "outputs": [],
   "source": [
    "from lsst.daf.butler import Butler\n",
    "# INSERT YOUR auxTel/LATISS collection and tract/band HERE\n",
    "butlerRoot = \"/repo/embargo\"\n",
    "#collection = 'LATISS/runs/AUXTEL_DRP_IMAGING_20230509_20240311/w_2024_10/PREOPS-4985'\n",
    "collection = 'LATISS/runs/AUXTEL_DRP_IMAGING_20230509_20240414/w_2024_15/PREOPS-5069' # COMPLETED\n",
    "collections = [collection]\n",
    "collectionn = collection\n",
    "collectionStr = collectionn.replace(\"/\", \"_\")\n",
    "fn_ccdVisit_photocalib = f\"ccdVisittractpatch_{collectionStr}_calexpinfo.csv\"\n",
    "fn_ccdVisit_tracts_patches = f\"ccdVisittractpatch_{collectionStr}.csv\"\n",
    "instrument = 'LATISS'\n",
    "skymapName = \"latiss_v1\"\n",
    "where_clause = \"instrument = \\'\" + instrument+ \"\\'\"\n",
    "\n",
    "suptitle = collectionStr + f\" inst = {instrument} \""
   ]
  },
  {
   "cell_type": "code",
   "execution_count": 14,
   "id": "543b0e51-f689-4f73-a2dc-1fd3380f0f55",
   "metadata": {
    "execution": {
     "iopub.execute_input": "2024-05-28T14:32:21.897892Z",
     "iopub.status.busy": "2024-05-28T14:32:21.897764Z",
     "iopub.status.idle": "2024-05-28T14:32:21.900412Z",
     "shell.execute_reply": "2024-05-28T14:32:21.900080Z",
     "shell.execute_reply.started": "2024-05-28T14:32:21.897881Z"
    }
   },
   "outputs": [],
   "source": [
    "def convert_fluxtomag(x) :\n",
    "    \"\"\"\n",
    "    The object and source catalogs store only fluxes. There are hundreds of flux-related columns, \n",
    "    and to store them also as magnitudes would be redundant, and a waste of space.\n",
    "    All flux units are nanojanskys. The AB Magnitudes Wikipedia page provides a concise resource \n",
    "    for users unfamiliar with AB magnitudes and jansky fluxes. To convert to AB magnitudes use:\n",
    "    As demonstrated in Section 2.3.2, to add columns of magnitudes after retrieving columns of flux, users can do this:\n",
    "    results_table['r_calibMag'] = -2.50 * numpy.log10(results_table['r_calibFlux']) + 31.4\n",
    "    results_table['r_cModelMag'] = -2.50 * numpy.log10(results_table['r_cModelFlux']) + 31.4\n",
    "    (from DP0 tutorial)\n",
    "    \"\"\"\n",
    "    return -2.50 * np.log10(x) + 31.4\n"
   ]
  },
  {
   "cell_type": "markdown",
   "id": "83713b62-d2d7-4c6b-b6fc-6c62aa6766cf",
   "metadata": {},
   "source": [
    "## Read inputs"
   ]
  },
  {
   "cell_type": "markdown",
   "id": "98cb4167-0596-46b5-944f-18f396c12408",
   "metadata": {},
   "source": [
    "### Access CCD visit table"
   ]
  },
  {
   "cell_type": "code",
   "execution_count": 15,
   "id": "21a7b08f-4254-4650-875b-8270d7f4ec86",
   "metadata": {
    "execution": {
     "iopub.execute_input": "2024-05-28T14:32:21.901001Z",
     "iopub.status.busy": "2024-05-28T14:32:21.900882Z",
     "iopub.status.idle": "2024-05-28T14:32:23.598585Z",
     "shell.execute_reply": "2024-05-28T14:32:23.598125Z",
     "shell.execute_reply.started": "2024-05-28T14:32:21.900991Z"
    }
   },
   "outputs": [
    {
     "name": "stdout",
     "output_type": "stream",
     "text": [
      "camera_name = LATISS\n",
      "collections = ['LATISS/runs/AUXTEL_DRP_IMAGING_20230509_20240414/w_2024_15/PREOPS-5069']\n"
     ]
    }
   ],
   "source": [
    "# Initiate butler from variables set above\n",
    "butler = Butler(butlerRoot, collections=collections, instrument=instrument, skymap=skymapName)\n",
    "camera = butler.get(\"camera\", instrument=instrument)\n",
    "print(\"camera_name = {}\".format(camera.getName()))\n",
    "print(\"collections = {}\".format(collections))"
   ]
  },
  {
   "cell_type": "code",
   "execution_count": 16,
   "id": "5a5dddb6-caab-43c6-b90e-f4353a53e3bf",
   "metadata": {
    "execution": {
     "iopub.execute_input": "2024-05-28T14:32:23.599343Z",
     "iopub.status.busy": "2024-05-28T14:32:23.599173Z",
     "iopub.status.idle": "2024-05-28T14:32:23.677097Z",
     "shell.execute_reply": "2024-05-28T14:32:23.676698Z",
     "shell.execute_reply.started": "2024-05-28T14:32:23.599331Z"
    }
   },
   "outputs": [],
   "source": [
    "ccd_visit_table = butler.get('ccdVisitTable', dataId={'instrument': instrument}, collections = collections )    "
   ]
  },
  {
   "cell_type": "code",
   "execution_count": 17,
   "id": "e42ac2d1-3404-4efa-963c-1f1d24e3cee2",
   "metadata": {
    "execution": {
     "iopub.execute_input": "2024-05-28T14:32:23.677767Z",
     "iopub.status.busy": "2024-05-28T14:32:23.677643Z",
     "iopub.status.idle": "2024-05-28T14:32:23.680690Z",
     "shell.execute_reply": "2024-05-28T14:32:23.680310Z",
     "shell.execute_reply.started": "2024-05-28T14:32:23.677756Z"
    }
   },
   "outputs": [],
   "source": [
    "ccd_visit_table[\"ccdVid\"] = ccd_visit_table.index -  ccd_visit_table.index[0]\n",
    "ccd_visit_table[\"Vid\"] = ccd_visit_table[\"visitId\"]  -   ccd_visit_table[\"visitId\"].iloc[0]"
   ]
  },
  {
   "cell_type": "code",
   "execution_count": 18,
   "id": "778e338b-6a66-4082-b16b-b977ec288f7a",
   "metadata": {
    "execution": {
     "iopub.execute_input": "2024-05-28T14:32:23.681239Z",
     "iopub.status.busy": "2024-05-28T14:32:23.681125Z",
     "iopub.status.idle": "2024-05-28T14:32:23.715871Z",
     "shell.execute_reply": "2024-05-28T14:32:23.715511Z",
     "shell.execute_reply.started": "2024-05-28T14:32:23.681230Z"
    }
   },
   "outputs": [
    {
     "data": {
      "text/plain": [
       "ccdVisitId\n",
       "40919696896    20230511\n",
       "40919697408    20230511\n",
       "40919698432    20230511\n",
       "40919698944    20230511\n",
       "40919699200    20230511\n",
       "                 ...   \n",
       "43729938688    20240410\n",
       "43729938944    20240410\n",
       "43729939200    20240410\n",
       "43729939456    20240410\n",
       "43729939712    20240410\n",
       "Name: nightObs, Length: 5397, dtype: int64"
      ]
     },
     "execution_count": 18,
     "metadata": {},
     "output_type": "execute_result"
    }
   ],
   "source": [
    "#subtract the a bug number to have normal dates\n",
    "ccd_visit_table[\"nightObs\"] = ccd_visit_table.apply(lambda x: x['visitId']//100_000, axis=1)\n",
    "ccd_visit_table[\"nightObs\"]"
   ]
  },
  {
   "cell_type": "code",
   "execution_count": 19,
   "id": "70855371-76fa-4fad-8b38-150011e3c65b",
   "metadata": {
    "execution": {
     "iopub.execute_input": "2024-05-28T14:32:23.718512Z",
     "iopub.status.busy": "2024-05-28T14:32:23.718380Z",
     "iopub.status.idle": "2024-05-28T14:32:23.723353Z",
     "shell.execute_reply": "2024-05-28T14:32:23.722982Z",
     "shell.execute_reply.started": "2024-05-28T14:32:23.718502Z"
    }
   },
   "outputs": [],
   "source": [
    "# get time\n",
    "ccd_visit_table[\"Time\"] = pd.to_datetime(ccd_visit_table['obsStart'])"
   ]
  },
  {
   "cell_type": "code",
   "execution_count": 20,
   "id": "9fcbd370-214c-4528-91bf-f0722713e023",
   "metadata": {
    "execution": {
     "iopub.execute_input": "2024-05-28T14:32:23.723946Z",
     "iopub.status.busy": "2024-05-28T14:32:23.723828Z",
     "iopub.status.idle": "2024-05-28T14:32:23.732719Z",
     "shell.execute_reply": "2024-05-28T14:32:23.732376Z",
     "shell.execute_reply.started": "2024-05-28T14:32:23.723936Z"
    }
   },
   "outputs": [],
   "source": [
    "# get airmass\n",
    "ccd_visit_table[\"airmass\"] = ccd_visit_table[\"zenithDistance\"].apply(lambda x: 1/np.cos(np.pi/180.*x))"
   ]
  },
  {
   "cell_type": "code",
   "execution_count": 21,
   "id": "4a69a798-f6f3-4a15-883c-c90b2cf65da8",
   "metadata": {
    "execution": {
     "iopub.execute_input": "2024-05-28T14:32:23.733238Z",
     "iopub.status.busy": "2024-05-28T14:32:23.733125Z",
     "iopub.status.idle": "2024-05-28T14:32:23.737378Z",
     "shell.execute_reply": "2024-05-28T14:32:23.737050Z",
     "shell.execute_reply.started": "2024-05-28T14:32:23.733228Z"
    }
   },
   "outputs": [],
   "source": [
    "# select the missing quantities (the time)\n",
    "ccd_visit_table_subset = ccd_visit_table[[\"Time\",\"obsStart\"]]"
   ]
  },
  {
   "cell_type": "markdown",
   "id": "f291636c-1967-4739-95c5-b84bdfbd42e7",
   "metadata": {},
   "source": [
    "### Read pandas dataframe containing the tract-patch decomposition of visits"
   ]
  },
  {
   "cell_type": "code",
   "execution_count": 22,
   "id": "698fa4be-a28d-4785-8b46-c8edc6482f96",
   "metadata": {
    "execution": {
     "iopub.execute_input": "2024-05-28T14:32:23.737910Z",
     "iopub.status.busy": "2024-05-28T14:32:23.737800Z",
     "iopub.status.idle": "2024-05-28T14:32:23.754750Z",
     "shell.execute_reply": "2024-05-28T14:32:23.754401Z",
     "shell.execute_reply.started": "2024-05-28T14:32:23.737900Z"
    }
   },
   "outputs": [],
   "source": [
    "\n",
    "# need the visit file because observation date is missing\n",
    "file_selected_visits = os.path.join(\"../Visits\",fn_ccdVisit_tracts_patches)\n",
    "df1 = pd.read_csv(file_selected_visits,index_col=0)"
   ]
  },
  {
   "cell_type": "markdown",
   "id": "c9d63c76-5f31-4b0a-8cb8-ebd891ae020f",
   "metadata": {},
   "source": [
    "### Read the dataframe with the extracted parameters from calexp,calexpBackground"
   ]
  },
  {
   "cell_type": "code",
   "execution_count": 23,
   "id": "1e01df4a-bfa6-4ed3-8363-2aa895a03d76",
   "metadata": {
    "execution": {
     "iopub.execute_input": "2024-05-28T14:32:23.755313Z",
     "iopub.status.busy": "2024-05-28T14:32:23.755197Z",
     "iopub.status.idle": "2024-05-28T14:32:23.778158Z",
     "shell.execute_reply": "2024-05-28T14:32:23.777795Z",
     "shell.execute_reply.started": "2024-05-28T14:32:23.755303Z"
    }
   },
   "outputs": [],
   "source": [
    "df = pd.read_csv(fn_ccdVisit_photocalib,index_col=0)"
   ]
  },
  {
   "cell_type": "code",
   "execution_count": 24,
   "id": "9acf20ad-7b73-4f61-b180-876176906bfd",
   "metadata": {
    "execution": {
     "iopub.execute_input": "2024-05-28T14:32:23.778753Z",
     "iopub.status.busy": "2024-05-28T14:32:23.778637Z",
     "iopub.status.idle": "2024-05-28T14:32:23.791777Z",
     "shell.execute_reply": "2024-05-28T14:32:23.791421Z",
     "shell.execute_reply.started": "2024-05-28T14:32:23.778744Z"
    }
   },
   "outputs": [
    {
     "data": {
      "text/html": [
       "<div>\n",
       "<style scoped>\n",
       "    .dataframe tbody tr th:only-of-type {\n",
       "        vertical-align: middle;\n",
       "    }\n",
       "\n",
       "    .dataframe tbody tr th {\n",
       "        vertical-align: top;\n",
       "    }\n",
       "\n",
       "    .dataframe thead th {\n",
       "        text-align: right;\n",
       "    }\n",
       "</style>\n",
       "<table border=\"1\" class=\"dataframe\">\n",
       "  <thead>\n",
       "    <tr style=\"text-align: right;\">\n",
       "      <th></th>\n",
       "      <th>idx</th>\n",
       "      <th>visitId</th>\n",
       "      <th>ccdVisitId</th>\n",
       "      <th>band</th>\n",
       "      <th>detector</th>\n",
       "      <th>zeroPoint</th>\n",
       "      <th>airmass</th>\n",
       "      <th>skyBg</th>\n",
       "      <th>skyNoise</th>\n",
       "      <th>expTime</th>\n",
       "      <th>...</th>\n",
       "      <th>std_bkg_m</th>\n",
       "      <th>sigMad_bkg_m</th>\n",
       "      <th>mu_pisr</th>\n",
       "      <th>med_pisr</th>\n",
       "      <th>std_pisr</th>\n",
       "      <th>sigMad_pisr</th>\n",
       "      <th>mu_pisr_m</th>\n",
       "      <th>med_pisr_m</th>\n",
       "      <th>std_pisr_m</th>\n",
       "      <th>sigMad_pisr_m</th>\n",
       "    </tr>\n",
       "  </thead>\n",
       "  <tbody>\n",
       "    <tr>\n",
       "      <th>0</th>\n",
       "      <td>0</td>\n",
       "      <td>2023051100262</td>\n",
       "      <td>40919696896</td>\n",
       "      <td>r</td>\n",
       "      <td>0</td>\n",
       "      <td>27.691925</td>\n",
       "      <td>1.823818</td>\n",
       "      <td>11.193549</td>\n",
       "      <td>7.856800</td>\n",
       "      <td>30.0</td>\n",
       "      <td>...</td>\n",
       "      <td>0.248366</td>\n",
       "      <td>0.225585</td>\n",
       "      <td>13.167816</td>\n",
       "      <td>11.390819</td>\n",
       "      <td>266.133000</td>\n",
       "      <td>7.994249</td>\n",
       "      <td>11.287793</td>\n",
       "      <td>11.287639</td>\n",
       "      <td>7.959124</td>\n",
       "      <td>7.940486</td>\n",
       "    </tr>\n",
       "    <tr>\n",
       "      <th>1</th>\n",
       "      <td>1</td>\n",
       "      <td>2023051100264</td>\n",
       "      <td>40919697408</td>\n",
       "      <td>i</td>\n",
       "      <td>0</td>\n",
       "      <td>27.854723</td>\n",
       "      <td>1.762794</td>\n",
       "      <td>28.073927</td>\n",
       "      <td>8.586373</td>\n",
       "      <td>30.0</td>\n",
       "      <td>...</td>\n",
       "      <td>0.179049</td>\n",
       "      <td>0.156368</td>\n",
       "      <td>38.809303</td>\n",
       "      <td>28.262280</td>\n",
       "      <td>1188.283700</td>\n",
       "      <td>8.728232</td>\n",
       "      <td>28.132761</td>\n",
       "      <td>28.130495</td>\n",
       "      <td>8.683864</td>\n",
       "      <td>8.655220</td>\n",
       "    </tr>\n",
       "    <tr>\n",
       "      <th>2</th>\n",
       "      <td>2</td>\n",
       "      <td>2023051100268</td>\n",
       "      <td>40919698432</td>\n",
       "      <td>r</td>\n",
       "      <td>0</td>\n",
       "      <td>27.773005</td>\n",
       "      <td>1.721301</td>\n",
       "      <td>10.700970</td>\n",
       "      <td>7.854424</td>\n",
       "      <td>30.0</td>\n",
       "      <td>...</td>\n",
       "      <td>0.209981</td>\n",
       "      <td>0.178780</td>\n",
       "      <td>12.794616</td>\n",
       "      <td>10.863235</td>\n",
       "      <td>288.811520</td>\n",
       "      <td>7.990491</td>\n",
       "      <td>10.761060</td>\n",
       "      <td>10.754449</td>\n",
       "      <td>7.955056</td>\n",
       "      <td>7.935189</td>\n",
       "    </tr>\n",
       "    <tr>\n",
       "      <th>3</th>\n",
       "      <td>3</td>\n",
       "      <td>2023051100270</td>\n",
       "      <td>40919698944</td>\n",
       "      <td>i</td>\n",
       "      <td>0</td>\n",
       "      <td>27.859426</td>\n",
       "      <td>1.695170</td>\n",
       "      <td>23.952974</td>\n",
       "      <td>8.440454</td>\n",
       "      <td>30.0</td>\n",
       "      <td>...</td>\n",
       "      <td>0.153219</td>\n",
       "      <td>0.113119</td>\n",
       "      <td>22.809006</td>\n",
       "      <td>24.114464</td>\n",
       "      <td>353.772100</td>\n",
       "      <td>8.576545</td>\n",
       "      <td>24.015178</td>\n",
       "      <td>23.997007</td>\n",
       "      <td>8.539144</td>\n",
       "      <td>8.510426</td>\n",
       "    </tr>\n",
       "    <tr>\n",
       "      <th>4</th>\n",
       "      <td>4</td>\n",
       "      <td>2023051100271</td>\n",
       "      <td>40919699200</td>\n",
       "      <td>i</td>\n",
       "      <td>0</td>\n",
       "      <td>27.846539</td>\n",
       "      <td>1.677014</td>\n",
       "      <td>23.321407</td>\n",
       "      <td>8.416399</td>\n",
       "      <td>30.0</td>\n",
       "      <td>...</td>\n",
       "      <td>0.192677</td>\n",
       "      <td>0.186060</td>\n",
       "      <td>25.825996</td>\n",
       "      <td>23.512068</td>\n",
       "      <td>298.147800</td>\n",
       "      <td>8.556888</td>\n",
       "      <td>23.397298</td>\n",
       "      <td>23.379817</td>\n",
       "      <td>8.509870</td>\n",
       "      <td>8.486023</td>\n",
       "    </tr>\n",
       "    <tr>\n",
       "      <th>...</th>\n",
       "      <td>...</td>\n",
       "      <td>...</td>\n",
       "      <td>...</td>\n",
       "      <td>...</td>\n",
       "      <td>...</td>\n",
       "      <td>...</td>\n",
       "      <td>...</td>\n",
       "      <td>...</td>\n",
       "      <td>...</td>\n",
       "      <td>...</td>\n",
       "      <td>...</td>\n",
       "      <td>...</td>\n",
       "      <td>...</td>\n",
       "      <td>...</td>\n",
       "      <td>...</td>\n",
       "      <td>...</td>\n",
       "      <td>...</td>\n",
       "      <td>...</td>\n",
       "      <td>...</td>\n",
       "      <td>...</td>\n",
       "      <td>...</td>\n",
       "    </tr>\n",
       "    <tr>\n",
       "      <th>5392</th>\n",
       "      <td>5392</td>\n",
       "      <td>2024041000489</td>\n",
       "      <td>43729938688</td>\n",
       "      <td>y</td>\n",
       "      <td>0</td>\n",
       "      <td>26.041475</td>\n",
       "      <td>1.511427</td>\n",
       "      <td>15.985236</td>\n",
       "      <td>8.106778</td>\n",
       "      <td>30.0</td>\n",
       "      <td>...</td>\n",
       "      <td>0.300461</td>\n",
       "      <td>0.257039</td>\n",
       "      <td>17.008020</td>\n",
       "      <td>16.292530</td>\n",
       "      <td>38.432150</td>\n",
       "      <td>8.241574</td>\n",
       "      <td>16.110833</td>\n",
       "      <td>16.098310</td>\n",
       "      <td>8.194294</td>\n",
       "      <td>8.173982</td>\n",
       "    </tr>\n",
       "    <tr>\n",
       "      <th>5393</th>\n",
       "      <td>5393</td>\n",
       "      <td>2024041000490</td>\n",
       "      <td>43729938944</td>\n",
       "      <td>g</td>\n",
       "      <td>0</td>\n",
       "      <td>27.940567</td>\n",
       "      <td>1.520921</td>\n",
       "      <td>3.106054</td>\n",
       "      <td>7.474746</td>\n",
       "      <td>30.0</td>\n",
       "      <td>...</td>\n",
       "      <td>0.206186</td>\n",
       "      <td>0.178378</td>\n",
       "      <td>4.521265</td>\n",
       "      <td>3.421193</td>\n",
       "      <td>53.836727</td>\n",
       "      <td>7.590711</td>\n",
       "      <td>3.247030</td>\n",
       "      <td>3.252452</td>\n",
       "      <td>7.554529</td>\n",
       "      <td>7.511768</td>\n",
       "    </tr>\n",
       "    <tr>\n",
       "      <th>5394</th>\n",
       "      <td>5394</td>\n",
       "      <td>2024041000491</td>\n",
       "      <td>43729939200</td>\n",
       "      <td>r</td>\n",
       "      <td>0</td>\n",
       "      <td>27.792534</td>\n",
       "      <td>1.525628</td>\n",
       "      <td>6.620466</td>\n",
       "      <td>7.680325</td>\n",
       "      <td>30.0</td>\n",
       "      <td>...</td>\n",
       "      <td>0.397544</td>\n",
       "      <td>0.270320</td>\n",
       "      <td>8.553000</td>\n",
       "      <td>7.022195</td>\n",
       "      <td>79.708600</td>\n",
       "      <td>7.808471</td>\n",
       "      <td>6.775610</td>\n",
       "      <td>6.773452</td>\n",
       "      <td>7.748752</td>\n",
       "      <td>7.694970</td>\n",
       "    </tr>\n",
       "    <tr>\n",
       "      <th>5395</th>\n",
       "      <td>5395</td>\n",
       "      <td>2024041000492</td>\n",
       "      <td>43729939456</td>\n",
       "      <td>z</td>\n",
       "      <td>0</td>\n",
       "      <td>27.290150</td>\n",
       "      <td>1.530404</td>\n",
       "      <td>18.576742</td>\n",
       "      <td>8.271068</td>\n",
       "      <td>30.0</td>\n",
       "      <td>...</td>\n",
       "      <td>0.426516</td>\n",
       "      <td>0.321347</td>\n",
       "      <td>20.611366</td>\n",
       "      <td>19.032433</td>\n",
       "      <td>89.627600</td>\n",
       "      <td>8.429878</td>\n",
       "      <td>18.757024</td>\n",
       "      <td>18.734940</td>\n",
       "      <td>8.316185</td>\n",
       "      <td>8.294496</td>\n",
       "    </tr>\n",
       "    <tr>\n",
       "      <th>5396</th>\n",
       "      <td>5396</td>\n",
       "      <td>2024041000493</td>\n",
       "      <td>43729939712</td>\n",
       "      <td>y</td>\n",
       "      <td>0</td>\n",
       "      <td>26.105070</td>\n",
       "      <td>1.535369</td>\n",
       "      <td>16.031017</td>\n",
       "      <td>8.091838</td>\n",
       "      <td>30.0</td>\n",
       "      <td>...</td>\n",
       "      <td>0.294161</td>\n",
       "      <td>0.185311</td>\n",
       "      <td>16.826765</td>\n",
       "      <td>16.312977</td>\n",
       "      <td>33.940120</td>\n",
       "      <td>8.223438</td>\n",
       "      <td>16.171518</td>\n",
       "      <td>16.155657</td>\n",
       "      <td>8.190565</td>\n",
       "      <td>8.173430</td>\n",
       "    </tr>\n",
       "  </tbody>\n",
       "</table>\n",
       "<p>5397 rows × 41 columns</p>\n",
       "</div>"
      ],
      "text/plain": [
       "       idx        visitId   ccdVisitId band  detector  zeroPoint   airmass  \\\n",
       "0        0  2023051100262  40919696896    r         0  27.691925  1.823818   \n",
       "1        1  2023051100264  40919697408    i         0  27.854723  1.762794   \n",
       "2        2  2023051100268  40919698432    r         0  27.773005  1.721301   \n",
       "3        3  2023051100270  40919698944    i         0  27.859426  1.695170   \n",
       "4        4  2023051100271  40919699200    i         0  27.846539  1.677014   \n",
       "...    ...            ...          ...  ...       ...        ...       ...   \n",
       "5392  5392  2024041000489  43729938688    y         0  26.041475  1.511427   \n",
       "5393  5393  2024041000490  43729938944    g         0  27.940567  1.520921   \n",
       "5394  5394  2024041000491  43729939200    r         0  27.792534  1.525628   \n",
       "5395  5395  2024041000492  43729939456    z         0  27.290150  1.530404   \n",
       "5396  5396  2024041000493  43729939712    y         0  26.105070  1.535369   \n",
       "\n",
       "          skyBg  skyNoise  expTime  ...  std_bkg_m  sigMad_bkg_m    mu_pisr  \\\n",
       "0     11.193549  7.856800     30.0  ...   0.248366      0.225585  13.167816   \n",
       "1     28.073927  8.586373     30.0  ...   0.179049      0.156368  38.809303   \n",
       "2     10.700970  7.854424     30.0  ...   0.209981      0.178780  12.794616   \n",
       "3     23.952974  8.440454     30.0  ...   0.153219      0.113119  22.809006   \n",
       "4     23.321407  8.416399     30.0  ...   0.192677      0.186060  25.825996   \n",
       "...         ...       ...      ...  ...        ...           ...        ...   \n",
       "5392  15.985236  8.106778     30.0  ...   0.300461      0.257039  17.008020   \n",
       "5393   3.106054  7.474746     30.0  ...   0.206186      0.178378   4.521265   \n",
       "5394   6.620466  7.680325     30.0  ...   0.397544      0.270320   8.553000   \n",
       "5395  18.576742  8.271068     30.0  ...   0.426516      0.321347  20.611366   \n",
       "5396  16.031017  8.091838     30.0  ...   0.294161      0.185311  16.826765   \n",
       "\n",
       "       med_pisr     std_pisr  sigMad_pisr  mu_pisr_m  med_pisr_m  std_pisr_m  \\\n",
       "0     11.390819   266.133000     7.994249  11.287793   11.287639    7.959124   \n",
       "1     28.262280  1188.283700     8.728232  28.132761   28.130495    8.683864   \n",
       "2     10.863235   288.811520     7.990491  10.761060   10.754449    7.955056   \n",
       "3     24.114464   353.772100     8.576545  24.015178   23.997007    8.539144   \n",
       "4     23.512068   298.147800     8.556888  23.397298   23.379817    8.509870   \n",
       "...         ...          ...          ...        ...         ...         ...   \n",
       "5392  16.292530    38.432150     8.241574  16.110833   16.098310    8.194294   \n",
       "5393   3.421193    53.836727     7.590711   3.247030    3.252452    7.554529   \n",
       "5394   7.022195    79.708600     7.808471   6.775610    6.773452    7.748752   \n",
       "5395  19.032433    89.627600     8.429878  18.757024   18.734940    8.316185   \n",
       "5396  16.312977    33.940120     8.223438  16.171518   16.155657    8.190565   \n",
       "\n",
       "      sigMad_pisr_m  \n",
       "0          7.940486  \n",
       "1          8.655220  \n",
       "2          7.935189  \n",
       "3          8.510426  \n",
       "4          8.486023  \n",
       "...             ...  \n",
       "5392       8.173982  \n",
       "5393       7.511768  \n",
       "5394       7.694970  \n",
       "5395       8.294496  \n",
       "5396       8.173430  \n",
       "\n",
       "[5397 rows x 41 columns]"
      ]
     },
     "execution_count": 24,
     "metadata": {},
     "output_type": "execute_result"
    }
   ],
   "source": [
    "df"
   ]
  },
  {
   "cell_type": "code",
   "execution_count": 25,
   "id": "e3b39530-39aa-4deb-b3c8-91bc0fc88381",
   "metadata": {
    "execution": {
     "iopub.execute_input": "2024-05-28T14:32:23.792377Z",
     "iopub.status.busy": "2024-05-28T14:32:23.792261Z",
     "iopub.status.idle": "2024-05-28T14:32:23.794778Z",
     "shell.execute_reply": "2024-05-28T14:32:23.794396Z",
     "shell.execute_reply.started": "2024-05-28T14:32:23.792368Z"
    }
   },
   "outputs": [],
   "source": [
    "df.set_index(\"ccdVisitId\",inplace=True)"
   ]
  },
  {
   "cell_type": "code",
   "execution_count": 26,
   "id": "5aa94c89-0a6a-4feb-8e30-1f2216d177cf",
   "metadata": {
    "execution": {
     "iopub.execute_input": "2024-05-28T14:32:23.795343Z",
     "iopub.status.busy": "2024-05-28T14:32:23.795230Z",
     "iopub.status.idle": "2024-05-28T14:32:23.808693Z",
     "shell.execute_reply": "2024-05-28T14:32:23.808319Z",
     "shell.execute_reply.started": "2024-05-28T14:32:23.795334Z"
    }
   },
   "outputs": [
    {
     "data": {
      "text/html": [
       "<div>\n",
       "<style scoped>\n",
       "    .dataframe tbody tr th:only-of-type {\n",
       "        vertical-align: middle;\n",
       "    }\n",
       "\n",
       "    .dataframe tbody tr th {\n",
       "        vertical-align: top;\n",
       "    }\n",
       "\n",
       "    .dataframe thead th {\n",
       "        text-align: right;\n",
       "    }\n",
       "</style>\n",
       "<table border=\"1\" class=\"dataframe\">\n",
       "  <thead>\n",
       "    <tr style=\"text-align: right;\">\n",
       "      <th></th>\n",
       "      <th>idx</th>\n",
       "      <th>visitId</th>\n",
       "      <th>band</th>\n",
       "      <th>detector</th>\n",
       "      <th>zeroPoint</th>\n",
       "      <th>airmass</th>\n",
       "      <th>skyBg</th>\n",
       "      <th>skyNoise</th>\n",
       "      <th>expTime</th>\n",
       "      <th>photocalib_m</th>\n",
       "      <th>...</th>\n",
       "      <th>std_bkg_m</th>\n",
       "      <th>sigMad_bkg_m</th>\n",
       "      <th>mu_pisr</th>\n",
       "      <th>med_pisr</th>\n",
       "      <th>std_pisr</th>\n",
       "      <th>sigMad_pisr</th>\n",
       "      <th>mu_pisr_m</th>\n",
       "      <th>med_pisr_m</th>\n",
       "      <th>std_pisr_m</th>\n",
       "      <th>sigMad_pisr_m</th>\n",
       "    </tr>\n",
       "    <tr>\n",
       "      <th>ccdVisitId</th>\n",
       "      <th></th>\n",
       "      <th></th>\n",
       "      <th></th>\n",
       "      <th></th>\n",
       "      <th></th>\n",
       "      <th></th>\n",
       "      <th></th>\n",
       "      <th></th>\n",
       "      <th></th>\n",
       "      <th></th>\n",
       "      <th></th>\n",
       "      <th></th>\n",
       "      <th></th>\n",
       "      <th></th>\n",
       "      <th></th>\n",
       "      <th></th>\n",
       "      <th></th>\n",
       "      <th></th>\n",
       "      <th></th>\n",
       "      <th></th>\n",
       "      <th></th>\n",
       "    </tr>\n",
       "  </thead>\n",
       "  <tbody>\n",
       "    <tr>\n",
       "      <th>40919696896</th>\n",
       "      <td>0</td>\n",
       "      <td>2023051100262</td>\n",
       "      <td>r</td>\n",
       "      <td>0</td>\n",
       "      <td>27.691925</td>\n",
       "      <td>1.823818</td>\n",
       "      <td>11.193549</td>\n",
       "      <td>7.856800</td>\n",
       "      <td>30.0</td>\n",
       "      <td>30.490464</td>\n",
       "      <td>...</td>\n",
       "      <td>0.248366</td>\n",
       "      <td>0.225585</td>\n",
       "      <td>13.167816</td>\n",
       "      <td>11.390819</td>\n",
       "      <td>266.133000</td>\n",
       "      <td>7.994249</td>\n",
       "      <td>11.287793</td>\n",
       "      <td>11.287639</td>\n",
       "      <td>7.959124</td>\n",
       "      <td>7.940486</td>\n",
       "    </tr>\n",
       "    <tr>\n",
       "      <th>40919697408</th>\n",
       "      <td>1</td>\n",
       "      <td>2023051100264</td>\n",
       "      <td>i</td>\n",
       "      <td>0</td>\n",
       "      <td>27.854723</td>\n",
       "      <td>1.762794</td>\n",
       "      <td>28.073927</td>\n",
       "      <td>8.586373</td>\n",
       "      <td>30.0</td>\n",
       "      <td>25.507239</td>\n",
       "      <td>...</td>\n",
       "      <td>0.179049</td>\n",
       "      <td>0.156368</td>\n",
       "      <td>38.809303</td>\n",
       "      <td>28.262280</td>\n",
       "      <td>1188.283700</td>\n",
       "      <td>8.728232</td>\n",
       "      <td>28.132761</td>\n",
       "      <td>28.130495</td>\n",
       "      <td>8.683864</td>\n",
       "      <td>8.655220</td>\n",
       "    </tr>\n",
       "    <tr>\n",
       "      <th>40919698432</th>\n",
       "      <td>2</td>\n",
       "      <td>2023051100268</td>\n",
       "      <td>r</td>\n",
       "      <td>0</td>\n",
       "      <td>27.773005</td>\n",
       "      <td>1.721301</td>\n",
       "      <td>10.700970</td>\n",
       "      <td>7.854424</td>\n",
       "      <td>30.0</td>\n",
       "      <td>27.956394</td>\n",
       "      <td>...</td>\n",
       "      <td>0.209981</td>\n",
       "      <td>0.178780</td>\n",
       "      <td>12.794616</td>\n",
       "      <td>10.863235</td>\n",
       "      <td>288.811520</td>\n",
       "      <td>7.990491</td>\n",
       "      <td>10.761060</td>\n",
       "      <td>10.754449</td>\n",
       "      <td>7.955056</td>\n",
       "      <td>7.935189</td>\n",
       "    </tr>\n",
       "    <tr>\n",
       "      <th>40919698944</th>\n",
       "      <td>3</td>\n",
       "      <td>2023051100270</td>\n",
       "      <td>i</td>\n",
       "      <td>0</td>\n",
       "      <td>27.859426</td>\n",
       "      <td>1.695170</td>\n",
       "      <td>23.952974</td>\n",
       "      <td>8.440454</td>\n",
       "      <td>30.0</td>\n",
       "      <td>26.273077</td>\n",
       "      <td>...</td>\n",
       "      <td>0.153219</td>\n",
       "      <td>0.113119</td>\n",
       "      <td>22.809006</td>\n",
       "      <td>24.114464</td>\n",
       "      <td>353.772100</td>\n",
       "      <td>8.576545</td>\n",
       "      <td>24.015178</td>\n",
       "      <td>23.997007</td>\n",
       "      <td>8.539144</td>\n",
       "      <td>8.510426</td>\n",
       "    </tr>\n",
       "    <tr>\n",
       "      <th>40919699200</th>\n",
       "      <td>4</td>\n",
       "      <td>2023051100271</td>\n",
       "      <td>i</td>\n",
       "      <td>0</td>\n",
       "      <td>27.846539</td>\n",
       "      <td>1.677014</td>\n",
       "      <td>23.321407</td>\n",
       "      <td>8.416399</td>\n",
       "      <td>30.0</td>\n",
       "      <td>26.568090</td>\n",
       "      <td>...</td>\n",
       "      <td>0.192677</td>\n",
       "      <td>0.186060</td>\n",
       "      <td>25.825996</td>\n",
       "      <td>23.512068</td>\n",
       "      <td>298.147800</td>\n",
       "      <td>8.556888</td>\n",
       "      <td>23.397298</td>\n",
       "      <td>23.379817</td>\n",
       "      <td>8.509870</td>\n",
       "      <td>8.486023</td>\n",
       "    </tr>\n",
       "    <tr>\n",
       "      <th>...</th>\n",
       "      <td>...</td>\n",
       "      <td>...</td>\n",
       "      <td>...</td>\n",
       "      <td>...</td>\n",
       "      <td>...</td>\n",
       "      <td>...</td>\n",
       "      <td>...</td>\n",
       "      <td>...</td>\n",
       "      <td>...</td>\n",
       "      <td>...</td>\n",
       "      <td>...</td>\n",
       "      <td>...</td>\n",
       "      <td>...</td>\n",
       "      <td>...</td>\n",
       "      <td>...</td>\n",
       "      <td>...</td>\n",
       "      <td>...</td>\n",
       "      <td>...</td>\n",
       "      <td>...</td>\n",
       "      <td>...</td>\n",
       "      <td>...</td>\n",
       "    </tr>\n",
       "    <tr>\n",
       "      <th>43729938688</th>\n",
       "      <td>5392</td>\n",
       "      <td>2024041000489</td>\n",
       "      <td>y</td>\n",
       "      <td>0</td>\n",
       "      <td>26.041475</td>\n",
       "      <td>1.511427</td>\n",
       "      <td>15.985236</td>\n",
       "      <td>8.106778</td>\n",
       "      <td>30.0</td>\n",
       "      <td>125.915622</td>\n",
       "      <td>...</td>\n",
       "      <td>0.300461</td>\n",
       "      <td>0.257039</td>\n",
       "      <td>17.008020</td>\n",
       "      <td>16.292530</td>\n",
       "      <td>38.432150</td>\n",
       "      <td>8.241574</td>\n",
       "      <td>16.110833</td>\n",
       "      <td>16.098310</td>\n",
       "      <td>8.194294</td>\n",
       "      <td>8.173982</td>\n",
       "    </tr>\n",
       "    <tr>\n",
       "      <th>43729938944</th>\n",
       "      <td>5393</td>\n",
       "      <td>2024041000490</td>\n",
       "      <td>g</td>\n",
       "      <td>0</td>\n",
       "      <td>27.940567</td>\n",
       "      <td>1.520921</td>\n",
       "      <td>3.106054</td>\n",
       "      <td>7.474746</td>\n",
       "      <td>30.0</td>\n",
       "      <td>23.458452</td>\n",
       "      <td>...</td>\n",
       "      <td>0.206186</td>\n",
       "      <td>0.178378</td>\n",
       "      <td>4.521265</td>\n",
       "      <td>3.421193</td>\n",
       "      <td>53.836727</td>\n",
       "      <td>7.590711</td>\n",
       "      <td>3.247030</td>\n",
       "      <td>3.252452</td>\n",
       "      <td>7.554529</td>\n",
       "      <td>7.511768</td>\n",
       "    </tr>\n",
       "    <tr>\n",
       "      <th>43729939200</th>\n",
       "      <td>5394</td>\n",
       "      <td>2024041000491</td>\n",
       "      <td>r</td>\n",
       "      <td>0</td>\n",
       "      <td>27.792534</td>\n",
       "      <td>1.525628</td>\n",
       "      <td>6.620466</td>\n",
       "      <td>7.680325</td>\n",
       "      <td>30.0</td>\n",
       "      <td>27.368571</td>\n",
       "      <td>...</td>\n",
       "      <td>0.397544</td>\n",
       "      <td>0.270320</td>\n",
       "      <td>8.553000</td>\n",
       "      <td>7.022195</td>\n",
       "      <td>79.708600</td>\n",
       "      <td>7.808471</td>\n",
       "      <td>6.775610</td>\n",
       "      <td>6.773452</td>\n",
       "      <td>7.748752</td>\n",
       "      <td>7.694970</td>\n",
       "    </tr>\n",
       "    <tr>\n",
       "      <th>43729939456</th>\n",
       "      <td>5395</td>\n",
       "      <td>2024041000492</td>\n",
       "      <td>z</td>\n",
       "      <td>0</td>\n",
       "      <td>27.290150</td>\n",
       "      <td>1.530404</td>\n",
       "      <td>18.576742</td>\n",
       "      <td>8.271068</td>\n",
       "      <td>30.0</td>\n",
       "      <td>44.330534</td>\n",
       "      <td>...</td>\n",
       "      <td>0.426516</td>\n",
       "      <td>0.321347</td>\n",
       "      <td>20.611366</td>\n",
       "      <td>19.032433</td>\n",
       "      <td>89.627600</td>\n",
       "      <td>8.429878</td>\n",
       "      <td>18.757024</td>\n",
       "      <td>18.734940</td>\n",
       "      <td>8.316185</td>\n",
       "      <td>8.294496</td>\n",
       "    </tr>\n",
       "    <tr>\n",
       "      <th>43729939712</th>\n",
       "      <td>5396</td>\n",
       "      <td>2024041000493</td>\n",
       "      <td>y</td>\n",
       "      <td>0</td>\n",
       "      <td>26.105070</td>\n",
       "      <td>1.535369</td>\n",
       "      <td>16.031017</td>\n",
       "      <td>8.091838</td>\n",
       "      <td>30.0</td>\n",
       "      <td>117.531593</td>\n",
       "      <td>...</td>\n",
       "      <td>0.294161</td>\n",
       "      <td>0.185311</td>\n",
       "      <td>16.826765</td>\n",
       "      <td>16.312977</td>\n",
       "      <td>33.940120</td>\n",
       "      <td>8.223438</td>\n",
       "      <td>16.171518</td>\n",
       "      <td>16.155657</td>\n",
       "      <td>8.190565</td>\n",
       "      <td>8.173430</td>\n",
       "    </tr>\n",
       "  </tbody>\n",
       "</table>\n",
       "<p>5397 rows × 40 columns</p>\n",
       "</div>"
      ],
      "text/plain": [
       "              idx        visitId band  detector  zeroPoint   airmass  \\\n",
       "ccdVisitId                                                             \n",
       "40919696896     0  2023051100262    r         0  27.691925  1.823818   \n",
       "40919697408     1  2023051100264    i         0  27.854723  1.762794   \n",
       "40919698432     2  2023051100268    r         0  27.773005  1.721301   \n",
       "40919698944     3  2023051100270    i         0  27.859426  1.695170   \n",
       "40919699200     4  2023051100271    i         0  27.846539  1.677014   \n",
       "...           ...            ...  ...       ...        ...       ...   \n",
       "43729938688  5392  2024041000489    y         0  26.041475  1.511427   \n",
       "43729938944  5393  2024041000490    g         0  27.940567  1.520921   \n",
       "43729939200  5394  2024041000491    r         0  27.792534  1.525628   \n",
       "43729939456  5395  2024041000492    z         0  27.290150  1.530404   \n",
       "43729939712  5396  2024041000493    y         0  26.105070  1.535369   \n",
       "\n",
       "                 skyBg  skyNoise  expTime  photocalib_m  ...  std_bkg_m  \\\n",
       "ccdVisitId                                               ...              \n",
       "40919696896  11.193549  7.856800     30.0     30.490464  ...   0.248366   \n",
       "40919697408  28.073927  8.586373     30.0     25.507239  ...   0.179049   \n",
       "40919698432  10.700970  7.854424     30.0     27.956394  ...   0.209981   \n",
       "40919698944  23.952974  8.440454     30.0     26.273077  ...   0.153219   \n",
       "40919699200  23.321407  8.416399     30.0     26.568090  ...   0.192677   \n",
       "...                ...       ...      ...           ...  ...        ...   \n",
       "43729938688  15.985236  8.106778     30.0    125.915622  ...   0.300461   \n",
       "43729938944   3.106054  7.474746     30.0     23.458452  ...   0.206186   \n",
       "43729939200   6.620466  7.680325     30.0     27.368571  ...   0.397544   \n",
       "43729939456  18.576742  8.271068     30.0     44.330534  ...   0.426516   \n",
       "43729939712  16.031017  8.091838     30.0    117.531593  ...   0.294161   \n",
       "\n",
       "             sigMad_bkg_m    mu_pisr   med_pisr     std_pisr  sigMad_pisr  \\\n",
       "ccdVisitId                                                                  \n",
       "40919696896      0.225585  13.167816  11.390819   266.133000     7.994249   \n",
       "40919697408      0.156368  38.809303  28.262280  1188.283700     8.728232   \n",
       "40919698432      0.178780  12.794616  10.863235   288.811520     7.990491   \n",
       "40919698944      0.113119  22.809006  24.114464   353.772100     8.576545   \n",
       "40919699200      0.186060  25.825996  23.512068   298.147800     8.556888   \n",
       "...                   ...        ...        ...          ...          ...   \n",
       "43729938688      0.257039  17.008020  16.292530    38.432150     8.241574   \n",
       "43729938944      0.178378   4.521265   3.421193    53.836727     7.590711   \n",
       "43729939200      0.270320   8.553000   7.022195    79.708600     7.808471   \n",
       "43729939456      0.321347  20.611366  19.032433    89.627600     8.429878   \n",
       "43729939712      0.185311  16.826765  16.312977    33.940120     8.223438   \n",
       "\n",
       "             mu_pisr_m  med_pisr_m  std_pisr_m  sigMad_pisr_m  \n",
       "ccdVisitId                                                     \n",
       "40919696896  11.287793   11.287639    7.959124       7.940486  \n",
       "40919697408  28.132761   28.130495    8.683864       8.655220  \n",
       "40919698432  10.761060   10.754449    7.955056       7.935189  \n",
       "40919698944  24.015178   23.997007    8.539144       8.510426  \n",
       "40919699200  23.397298   23.379817    8.509870       8.486023  \n",
       "...                ...         ...         ...            ...  \n",
       "43729938688  16.110833   16.098310    8.194294       8.173982  \n",
       "43729938944   3.247030    3.252452    7.554529       7.511768  \n",
       "43729939200   6.775610    6.773452    7.748752       7.694970  \n",
       "43729939456  18.757024   18.734940    8.316185       8.294496  \n",
       "43729939712  16.171518   16.155657    8.190565       8.173430  \n",
       "\n",
       "[5397 rows x 40 columns]"
      ]
     },
     "execution_count": 26,
     "metadata": {},
     "output_type": "execute_result"
    }
   ],
   "source": [
    "df"
   ]
  },
  {
   "cell_type": "markdown",
   "id": "d41b84fd-328e-40b6-a8d5-6fec9cc8887e",
   "metadata": {},
   "source": [
    "## Add to the main dataframe df, the obstime found in ccd_visit_table"
   ]
  },
  {
   "cell_type": "code",
   "execution_count": 27,
   "id": "07bf85bf-b4e1-4c4d-a364-e958b9fcf584",
   "metadata": {
    "execution": {
     "iopub.execute_input": "2024-05-28T14:32:23.809280Z",
     "iopub.status.busy": "2024-05-28T14:32:23.809164Z",
     "iopub.status.idle": "2024-05-28T14:32:23.812251Z",
     "shell.execute_reply": "2024-05-28T14:32:23.811894Z",
     "shell.execute_reply.started": "2024-05-28T14:32:23.809271Z"
    }
   },
   "outputs": [],
   "source": [
    "df = df.join(ccd_visit_table_subset)"
   ]
  },
  {
   "cell_type": "code",
   "execution_count": 28,
   "id": "9c43ff0d-dfd3-488c-8a76-51faff880d60",
   "metadata": {
    "execution": {
     "iopub.execute_input": "2024-05-28T14:32:23.813124Z",
     "iopub.status.busy": "2024-05-28T14:32:23.812800Z",
     "iopub.status.idle": "2024-05-28T14:32:23.825660Z",
     "shell.execute_reply": "2024-05-28T14:32:23.825347Z",
     "shell.execute_reply.started": "2024-05-28T14:32:23.813114Z"
    }
   },
   "outputs": [
    {
     "data": {
      "text/html": [
       "<div>\n",
       "<style scoped>\n",
       "    .dataframe tbody tr th:only-of-type {\n",
       "        vertical-align: middle;\n",
       "    }\n",
       "\n",
       "    .dataframe tbody tr th {\n",
       "        vertical-align: top;\n",
       "    }\n",
       "\n",
       "    .dataframe thead th {\n",
       "        text-align: right;\n",
       "    }\n",
       "</style>\n",
       "<table border=\"1\" class=\"dataframe\">\n",
       "  <thead>\n",
       "    <tr style=\"text-align: right;\">\n",
       "      <th></th>\n",
       "      <th>idx</th>\n",
       "      <th>visitId</th>\n",
       "      <th>band</th>\n",
       "      <th>detector</th>\n",
       "      <th>zeroPoint</th>\n",
       "      <th>airmass</th>\n",
       "      <th>skyBg</th>\n",
       "      <th>skyNoise</th>\n",
       "      <th>expTime</th>\n",
       "      <th>photocalib_m</th>\n",
       "      <th>...</th>\n",
       "      <th>mu_pisr</th>\n",
       "      <th>med_pisr</th>\n",
       "      <th>std_pisr</th>\n",
       "      <th>sigMad_pisr</th>\n",
       "      <th>mu_pisr_m</th>\n",
       "      <th>med_pisr_m</th>\n",
       "      <th>std_pisr_m</th>\n",
       "      <th>sigMad_pisr_m</th>\n",
       "      <th>Time</th>\n",
       "      <th>obsStart</th>\n",
       "    </tr>\n",
       "    <tr>\n",
       "      <th>ccdVisitId</th>\n",
       "      <th></th>\n",
       "      <th></th>\n",
       "      <th></th>\n",
       "      <th></th>\n",
       "      <th></th>\n",
       "      <th></th>\n",
       "      <th></th>\n",
       "      <th></th>\n",
       "      <th></th>\n",
       "      <th></th>\n",
       "      <th></th>\n",
       "      <th></th>\n",
       "      <th></th>\n",
       "      <th></th>\n",
       "      <th></th>\n",
       "      <th></th>\n",
       "      <th></th>\n",
       "      <th></th>\n",
       "      <th></th>\n",
       "      <th></th>\n",
       "      <th></th>\n",
       "    </tr>\n",
       "  </thead>\n",
       "  <tbody>\n",
       "    <tr>\n",
       "      <th>40919696896</th>\n",
       "      <td>0</td>\n",
       "      <td>2023051100262</td>\n",
       "      <td>r</td>\n",
       "      <td>0</td>\n",
       "      <td>27.691925</td>\n",
       "      <td>1.823818</td>\n",
       "      <td>11.193549</td>\n",
       "      <td>7.856800</td>\n",
       "      <td>30.0</td>\n",
       "      <td>30.490464</td>\n",
       "      <td>...</td>\n",
       "      <td>13.167816</td>\n",
       "      <td>11.390819</td>\n",
       "      <td>266.133000</td>\n",
       "      <td>7.994249</td>\n",
       "      <td>11.287793</td>\n",
       "      <td>11.287639</td>\n",
       "      <td>7.959124</td>\n",
       "      <td>7.940486</td>\n",
       "      <td>2023-05-12 01:08:41.302993</td>\n",
       "      <td>2023-05-12 01:08:41.302993</td>\n",
       "    </tr>\n",
       "    <tr>\n",
       "      <th>40919697408</th>\n",
       "      <td>1</td>\n",
       "      <td>2023051100264</td>\n",
       "      <td>i</td>\n",
       "      <td>0</td>\n",
       "      <td>27.854723</td>\n",
       "      <td>1.762794</td>\n",
       "      <td>28.073927</td>\n",
       "      <td>8.586373</td>\n",
       "      <td>30.0</td>\n",
       "      <td>25.507239</td>\n",
       "      <td>...</td>\n",
       "      <td>38.809303</td>\n",
       "      <td>28.262280</td>\n",
       "      <td>1188.283700</td>\n",
       "      <td>8.728232</td>\n",
       "      <td>28.132761</td>\n",
       "      <td>28.130495</td>\n",
       "      <td>8.683864</td>\n",
       "      <td>8.655220</td>\n",
       "      <td>2023-05-12 01:14:49.912000</td>\n",
       "      <td>2023-05-12 01:14:49.912000</td>\n",
       "    </tr>\n",
       "    <tr>\n",
       "      <th>40919698432</th>\n",
       "      <td>2</td>\n",
       "      <td>2023051100268</td>\n",
       "      <td>r</td>\n",
       "      <td>0</td>\n",
       "      <td>27.773005</td>\n",
       "      <td>1.721301</td>\n",
       "      <td>10.700970</td>\n",
       "      <td>7.854424</td>\n",
       "      <td>30.0</td>\n",
       "      <td>27.956394</td>\n",
       "      <td>...</td>\n",
       "      <td>12.794616</td>\n",
       "      <td>10.863235</td>\n",
       "      <td>288.811520</td>\n",
       "      <td>7.990491</td>\n",
       "      <td>10.761060</td>\n",
       "      <td>10.754449</td>\n",
       "      <td>7.955056</td>\n",
       "      <td>7.935189</td>\n",
       "      <td>2023-05-12 01:19:24.311494</td>\n",
       "      <td>2023-05-12 01:19:24.311494</td>\n",
       "    </tr>\n",
       "    <tr>\n",
       "      <th>40919698944</th>\n",
       "      <td>3</td>\n",
       "      <td>2023051100270</td>\n",
       "      <td>i</td>\n",
       "      <td>0</td>\n",
       "      <td>27.859426</td>\n",
       "      <td>1.695170</td>\n",
       "      <td>23.952974</td>\n",
       "      <td>8.440454</td>\n",
       "      <td>30.0</td>\n",
       "      <td>26.273077</td>\n",
       "      <td>...</td>\n",
       "      <td>22.809006</td>\n",
       "      <td>24.114464</td>\n",
       "      <td>353.772100</td>\n",
       "      <td>8.576545</td>\n",
       "      <td>24.015178</td>\n",
       "      <td>23.997007</td>\n",
       "      <td>8.539144</td>\n",
       "      <td>8.510426</td>\n",
       "      <td>2023-05-12 01:22:21.150002</td>\n",
       "      <td>2023-05-12 01:22:21.150002</td>\n",
       "    </tr>\n",
       "    <tr>\n",
       "      <th>40919699200</th>\n",
       "      <td>4</td>\n",
       "      <td>2023051100271</td>\n",
       "      <td>i</td>\n",
       "      <td>0</td>\n",
       "      <td>27.846539</td>\n",
       "      <td>1.677014</td>\n",
       "      <td>23.321407</td>\n",
       "      <td>8.416399</td>\n",
       "      <td>30.0</td>\n",
       "      <td>26.568090</td>\n",
       "      <td>...</td>\n",
       "      <td>25.825996</td>\n",
       "      <td>23.512068</td>\n",
       "      <td>298.147800</td>\n",
       "      <td>8.556888</td>\n",
       "      <td>23.397298</td>\n",
       "      <td>23.379817</td>\n",
       "      <td>8.509870</td>\n",
       "      <td>8.486023</td>\n",
       "      <td>2023-05-12 01:24:32.058502</td>\n",
       "      <td>2023-05-12 01:24:32.058502</td>\n",
       "    </tr>\n",
       "    <tr>\n",
       "      <th>...</th>\n",
       "      <td>...</td>\n",
       "      <td>...</td>\n",
       "      <td>...</td>\n",
       "      <td>...</td>\n",
       "      <td>...</td>\n",
       "      <td>...</td>\n",
       "      <td>...</td>\n",
       "      <td>...</td>\n",
       "      <td>...</td>\n",
       "      <td>...</td>\n",
       "      <td>...</td>\n",
       "      <td>...</td>\n",
       "      <td>...</td>\n",
       "      <td>...</td>\n",
       "      <td>...</td>\n",
       "      <td>...</td>\n",
       "      <td>...</td>\n",
       "      <td>...</td>\n",
       "      <td>...</td>\n",
       "      <td>...</td>\n",
       "      <td>...</td>\n",
       "    </tr>\n",
       "    <tr>\n",
       "      <th>43729938688</th>\n",
       "      <td>5392</td>\n",
       "      <td>2024041000489</td>\n",
       "      <td>y</td>\n",
       "      <td>0</td>\n",
       "      <td>26.041475</td>\n",
       "      <td>1.511427</td>\n",
       "      <td>15.985236</td>\n",
       "      <td>8.106778</td>\n",
       "      <td>30.0</td>\n",
       "      <td>125.915622</td>\n",
       "      <td>...</td>\n",
       "      <td>17.008020</td>\n",
       "      <td>16.292530</td>\n",
       "      <td>38.432150</td>\n",
       "      <td>8.241574</td>\n",
       "      <td>16.110833</td>\n",
       "      <td>16.098310</td>\n",
       "      <td>8.194294</td>\n",
       "      <td>8.173982</td>\n",
       "      <td>2024-04-11 03:28:33.433496</td>\n",
       "      <td>2024-04-11 03:28:33.433496</td>\n",
       "    </tr>\n",
       "    <tr>\n",
       "      <th>43729938944</th>\n",
       "      <td>5393</td>\n",
       "      <td>2024041000490</td>\n",
       "      <td>g</td>\n",
       "      <td>0</td>\n",
       "      <td>27.940567</td>\n",
       "      <td>1.520921</td>\n",
       "      <td>3.106054</td>\n",
       "      <td>7.474746</td>\n",
       "      <td>30.0</td>\n",
       "      <td>23.458452</td>\n",
       "      <td>...</td>\n",
       "      <td>4.521265</td>\n",
       "      <td>3.421193</td>\n",
       "      <td>53.836727</td>\n",
       "      <td>7.590711</td>\n",
       "      <td>3.247030</td>\n",
       "      <td>3.252452</td>\n",
       "      <td>7.554529</td>\n",
       "      <td>7.511768</td>\n",
       "      <td>2024-04-11 03:30:12.763000</td>\n",
       "      <td>2024-04-11 03:30:12.763000</td>\n",
       "    </tr>\n",
       "    <tr>\n",
       "      <th>43729939200</th>\n",
       "      <td>5394</td>\n",
       "      <td>2024041000491</td>\n",
       "      <td>r</td>\n",
       "      <td>0</td>\n",
       "      <td>27.792534</td>\n",
       "      <td>1.525628</td>\n",
       "      <td>6.620466</td>\n",
       "      <td>7.680325</td>\n",
       "      <td>30.0</td>\n",
       "      <td>27.368571</td>\n",
       "      <td>...</td>\n",
       "      <td>8.553000</td>\n",
       "      <td>7.022195</td>\n",
       "      <td>79.708600</td>\n",
       "      <td>7.808471</td>\n",
       "      <td>6.775610</td>\n",
       "      <td>6.773452</td>\n",
       "      <td>7.748752</td>\n",
       "      <td>7.694970</td>\n",
       "      <td>2024-04-11 03:30:59.394501</td>\n",
       "      <td>2024-04-11 03:30:59.394501</td>\n",
       "    </tr>\n",
       "    <tr>\n",
       "      <th>43729939456</th>\n",
       "      <td>5395</td>\n",
       "      <td>2024041000492</td>\n",
       "      <td>z</td>\n",
       "      <td>0</td>\n",
       "      <td>27.290150</td>\n",
       "      <td>1.530404</td>\n",
       "      <td>18.576742</td>\n",
       "      <td>8.271068</td>\n",
       "      <td>30.0</td>\n",
       "      <td>44.330534</td>\n",
       "      <td>...</td>\n",
       "      <td>20.611366</td>\n",
       "      <td>19.032433</td>\n",
       "      <td>89.627600</td>\n",
       "      <td>8.429878</td>\n",
       "      <td>18.757024</td>\n",
       "      <td>18.734940</td>\n",
       "      <td>8.316185</td>\n",
       "      <td>8.294496</td>\n",
       "      <td>2024-04-11 03:31:46.322509</td>\n",
       "      <td>2024-04-11 03:31:46.322509</td>\n",
       "    </tr>\n",
       "    <tr>\n",
       "      <th>43729939712</th>\n",
       "      <td>5396</td>\n",
       "      <td>2024041000493</td>\n",
       "      <td>y</td>\n",
       "      <td>0</td>\n",
       "      <td>26.105070</td>\n",
       "      <td>1.535369</td>\n",
       "      <td>16.031017</td>\n",
       "      <td>8.091838</td>\n",
       "      <td>30.0</td>\n",
       "      <td>117.531593</td>\n",
       "      <td>...</td>\n",
       "      <td>16.826765</td>\n",
       "      <td>16.312977</td>\n",
       "      <td>33.940120</td>\n",
       "      <td>8.223438</td>\n",
       "      <td>16.171518</td>\n",
       "      <td>16.155657</td>\n",
       "      <td>8.190565</td>\n",
       "      <td>8.173430</td>\n",
       "      <td>2024-04-11 03:32:34.718996</td>\n",
       "      <td>2024-04-11 03:32:34.718996</td>\n",
       "    </tr>\n",
       "  </tbody>\n",
       "</table>\n",
       "<p>5397 rows × 42 columns</p>\n",
       "</div>"
      ],
      "text/plain": [
       "              idx        visitId band  detector  zeroPoint   airmass  \\\n",
       "ccdVisitId                                                             \n",
       "40919696896     0  2023051100262    r         0  27.691925  1.823818   \n",
       "40919697408     1  2023051100264    i         0  27.854723  1.762794   \n",
       "40919698432     2  2023051100268    r         0  27.773005  1.721301   \n",
       "40919698944     3  2023051100270    i         0  27.859426  1.695170   \n",
       "40919699200     4  2023051100271    i         0  27.846539  1.677014   \n",
       "...           ...            ...  ...       ...        ...       ...   \n",
       "43729938688  5392  2024041000489    y         0  26.041475  1.511427   \n",
       "43729938944  5393  2024041000490    g         0  27.940567  1.520921   \n",
       "43729939200  5394  2024041000491    r         0  27.792534  1.525628   \n",
       "43729939456  5395  2024041000492    z         0  27.290150  1.530404   \n",
       "43729939712  5396  2024041000493    y         0  26.105070  1.535369   \n",
       "\n",
       "                 skyBg  skyNoise  expTime  photocalib_m  ...    mu_pisr  \\\n",
       "ccdVisitId                                               ...              \n",
       "40919696896  11.193549  7.856800     30.0     30.490464  ...  13.167816   \n",
       "40919697408  28.073927  8.586373     30.0     25.507239  ...  38.809303   \n",
       "40919698432  10.700970  7.854424     30.0     27.956394  ...  12.794616   \n",
       "40919698944  23.952974  8.440454     30.0     26.273077  ...  22.809006   \n",
       "40919699200  23.321407  8.416399     30.0     26.568090  ...  25.825996   \n",
       "...                ...       ...      ...           ...  ...        ...   \n",
       "43729938688  15.985236  8.106778     30.0    125.915622  ...  17.008020   \n",
       "43729938944   3.106054  7.474746     30.0     23.458452  ...   4.521265   \n",
       "43729939200   6.620466  7.680325     30.0     27.368571  ...   8.553000   \n",
       "43729939456  18.576742  8.271068     30.0     44.330534  ...  20.611366   \n",
       "43729939712  16.031017  8.091838     30.0    117.531593  ...  16.826765   \n",
       "\n",
       "              med_pisr     std_pisr  sigMad_pisr  mu_pisr_m  med_pisr_m  \\\n",
       "ccdVisitId                                                                \n",
       "40919696896  11.390819   266.133000     7.994249  11.287793   11.287639   \n",
       "40919697408  28.262280  1188.283700     8.728232  28.132761   28.130495   \n",
       "40919698432  10.863235   288.811520     7.990491  10.761060   10.754449   \n",
       "40919698944  24.114464   353.772100     8.576545  24.015178   23.997007   \n",
       "40919699200  23.512068   298.147800     8.556888  23.397298   23.379817   \n",
       "...                ...          ...          ...        ...         ...   \n",
       "43729938688  16.292530    38.432150     8.241574  16.110833   16.098310   \n",
       "43729938944   3.421193    53.836727     7.590711   3.247030    3.252452   \n",
       "43729939200   7.022195    79.708600     7.808471   6.775610    6.773452   \n",
       "43729939456  19.032433    89.627600     8.429878  18.757024   18.734940   \n",
       "43729939712  16.312977    33.940120     8.223438  16.171518   16.155657   \n",
       "\n",
       "             std_pisr_m  sigMad_pisr_m                       Time  \\\n",
       "ccdVisitId                                                          \n",
       "40919696896    7.959124       7.940486 2023-05-12 01:08:41.302993   \n",
       "40919697408    8.683864       8.655220 2023-05-12 01:14:49.912000   \n",
       "40919698432    7.955056       7.935189 2023-05-12 01:19:24.311494   \n",
       "40919698944    8.539144       8.510426 2023-05-12 01:22:21.150002   \n",
       "40919699200    8.509870       8.486023 2023-05-12 01:24:32.058502   \n",
       "...                 ...            ...                        ...   \n",
       "43729938688    8.194294       8.173982 2024-04-11 03:28:33.433496   \n",
       "43729938944    7.554529       7.511768 2024-04-11 03:30:12.763000   \n",
       "43729939200    7.748752       7.694970 2024-04-11 03:30:59.394501   \n",
       "43729939456    8.316185       8.294496 2024-04-11 03:31:46.322509   \n",
       "43729939712    8.190565       8.173430 2024-04-11 03:32:34.718996   \n",
       "\n",
       "                              obsStart  \n",
       "ccdVisitId                              \n",
       "40919696896 2023-05-12 01:08:41.302993  \n",
       "40919697408 2023-05-12 01:14:49.912000  \n",
       "40919698432 2023-05-12 01:19:24.311494  \n",
       "40919698944 2023-05-12 01:22:21.150002  \n",
       "40919699200 2023-05-12 01:24:32.058502  \n",
       "...                                ...  \n",
       "43729938688 2024-04-11 03:28:33.433496  \n",
       "43729938944 2024-04-11 03:30:12.763000  \n",
       "43729939200 2024-04-11 03:30:59.394501  \n",
       "43729939456 2024-04-11 03:31:46.322509  \n",
       "43729939712 2024-04-11 03:32:34.718996  \n",
       "\n",
       "[5397 rows x 42 columns]"
      ]
     },
     "execution_count": 28,
     "metadata": {},
     "output_type": "execute_result"
    }
   ],
   "source": [
    "df"
   ]
  },
  {
   "cell_type": "markdown",
   "id": "1bb7f491-9d56-4895-9c5f-250f0e46cc53",
   "metadata": {},
   "source": [
    "## Formula to bear in mind"
   ]
  },
  {
   "cell_type": "markdown",
   "id": "dd5553e8-2be4-4a47-a1c8-70ae02cfb41a",
   "metadata": {},
   "source": [
    "$$\n",
    "\\left\\{\n",
    "\\begin{array}{ccc} \\\\\n",
    "m_{AB}  & = & -2.5\\cdot \\log_{10}(ADU) + m(ZP) \\\\ \\\\\n",
    "F(Jy) & = & F_{AB}^{ref}(Jy) \\cdot 10^{-0.4\\cdot m(ZP)}\\cdot ADU\n",
    "\\end{array}\n",
    "\\right.\n",
    "$$"
   ]
  },
  {
   "cell_type": "markdown",
   "id": "4cfcbba5-cfc5-4aab-9851-612e4d2bc025",
   "metadata": {},
   "source": [
    "## Additionnal processing\n",
    "\n",
    "$$\n",
    "ZP(CCDvisit) = ZP(magzero_calexp) + 2.5\\log_{10} \\Delta t \n",
    "$$\n",
    "\n",
    "- this shows that $ZP(CCDvisit)$ is relative to ADU while $ZP(magzero\\_calexp)$ is relative to $ADU/\\Delta t$."
   ]
  },
  {
   "cell_type": "code",
   "execution_count": 29,
   "id": "0bdb9c16-66c2-4273-8025-a6496d20243e",
   "metadata": {
    "execution": {
     "iopub.execute_input": "2024-05-28T14:32:23.826296Z",
     "iopub.status.busy": "2024-05-28T14:32:23.826185Z",
     "iopub.status.idle": "2024-05-28T14:32:23.835408Z",
     "shell.execute_reply": "2024-05-28T14:32:23.835089Z",
     "shell.execute_reply.started": "2024-05-28T14:32:23.826287Z"
    }
   },
   "outputs": [],
   "source": [
    "df[\"magzero_dt\"] = df[\"magzero\"].apply(lambda x : x+2.5*np.log10(30))\n",
    "df[\"zeroPoint_diff\"] = df[\"zeroPoint\"]-df[\"magzero_dt\"]"
   ]
  },
  {
   "cell_type": "markdown",
   "id": "f76c5a01-71a4-4fe1-9447-f8f69d21ea5a",
   "metadata": {},
   "source": [
    "### Add Sigma/N"
   ]
  },
  {
   "cell_type": "code",
   "execution_count": 30,
   "id": "09448025-289a-473b-93d0-d21c84574ebd",
   "metadata": {
    "execution": {
     "iopub.execute_input": "2024-05-28T14:32:23.835975Z",
     "iopub.status.busy": "2024-05-28T14:32:23.835861Z",
     "iopub.status.idle": "2024-05-28T14:32:23.844101Z",
     "shell.execute_reply": "2024-05-28T14:32:23.843775Z",
     "shell.execute_reply.started": "2024-05-28T14:32:23.835965Z"
    }
   },
   "outputs": [],
   "source": [
    "df[\"sigmatoskybkg\"] = df[\"sigMad_ce\"]/df[\"med_bkg\"]\n",
    "df[\"sigmatoskybkg_err\"] = df[\"sigmatoskybkg\"]*df['sigMad_bkg_m']/df['med_bkg_m']\n",
    "df[\"sigmatoskybkg_max\"] = df[\"med_bkg\"].apply(lambda x : 1/np.sqrt(x))"
   ]
  },
  {
   "cell_type": "code",
   "execution_count": 31,
   "id": "971f244c-ee33-42fd-9abb-872fb36ae9d8",
   "metadata": {
    "execution": {
     "iopub.execute_input": "2024-05-28T14:32:23.844653Z",
     "iopub.status.busy": "2024-05-28T14:32:23.844540Z",
     "iopub.status.idle": "2024-05-28T14:32:23.852216Z",
     "shell.execute_reply": "2024-05-28T14:32:23.851902Z",
     "shell.execute_reply.started": "2024-05-28T14:32:23.844644Z"
    }
   },
   "outputs": [
    {
     "data": {
      "text/html": [
       "<div>\n",
       "<style scoped>\n",
       "    .dataframe tbody tr th:only-of-type {\n",
       "        vertical-align: middle;\n",
       "    }\n",
       "\n",
       "    .dataframe tbody tr th {\n",
       "        vertical-align: top;\n",
       "    }\n",
       "\n",
       "    .dataframe thead th {\n",
       "        text-align: right;\n",
       "    }\n",
       "</style>\n",
       "<table border=\"1\" class=\"dataframe\">\n",
       "  <thead>\n",
       "    <tr style=\"text-align: right;\">\n",
       "      <th></th>\n",
       "      <th>sigmatoskybkg_err</th>\n",
       "      <th>sigmatoskybkg</th>\n",
       "    </tr>\n",
       "    <tr>\n",
       "      <th>ccdVisitId</th>\n",
       "      <th></th>\n",
       "      <th></th>\n",
       "    </tr>\n",
       "  </thead>\n",
       "  <tbody>\n",
       "    <tr>\n",
       "      <th>40919696896</th>\n",
       "      <td>0.014024</td>\n",
       "      <td>0.704864</td>\n",
       "    </tr>\n",
       "    <tr>\n",
       "      <th>40919697408</th>\n",
       "      <td>0.001719</td>\n",
       "      <td>0.309709</td>\n",
       "    </tr>\n",
       "    <tr>\n",
       "      <th>40919698432</th>\n",
       "      <td>0.012203</td>\n",
       "      <td>0.738520</td>\n",
       "    </tr>\n",
       "    <tr>\n",
       "      <th>40919698944</th>\n",
       "      <td>0.001684</td>\n",
       "      <td>0.357290</td>\n",
       "    </tr>\n",
       "    <tr>\n",
       "      <th>40919699200</th>\n",
       "      <td>0.002901</td>\n",
       "      <td>0.365218</td>\n",
       "    </tr>\n",
       "    <tr>\n",
       "      <th>...</th>\n",
       "      <td>...</td>\n",
       "      <td>...</td>\n",
       "    </tr>\n",
       "    <tr>\n",
       "      <th>43729938688</th>\n",
       "      <td>0.008199</td>\n",
       "      <td>0.512440</td>\n",
       "    </tr>\n",
       "    <tr>\n",
       "      <th>43729938944</th>\n",
       "      <td>0.130976</td>\n",
       "      <td>2.360833</td>\n",
       "    </tr>\n",
       "    <tr>\n",
       "      <th>43729939200</th>\n",
       "      <td>0.046995</td>\n",
       "      <td>1.163892</td>\n",
       "    </tr>\n",
       "    <tr>\n",
       "      <th>43729939456</th>\n",
       "      <td>0.007777</td>\n",
       "      <td>0.451378</td>\n",
       "    </tr>\n",
       "    <tr>\n",
       "      <th>43729939712</th>\n",
       "      <td>0.005824</td>\n",
       "      <td>0.508219</td>\n",
       "    </tr>\n",
       "  </tbody>\n",
       "</table>\n",
       "<p>5397 rows × 2 columns</p>\n",
       "</div>"
      ],
      "text/plain": [
       "             sigmatoskybkg_err  sigmatoskybkg\n",
       "ccdVisitId                                   \n",
       "40919696896           0.014024       0.704864\n",
       "40919697408           0.001719       0.309709\n",
       "40919698432           0.012203       0.738520\n",
       "40919698944           0.001684       0.357290\n",
       "40919699200           0.002901       0.365218\n",
       "...                        ...            ...\n",
       "43729938688           0.008199       0.512440\n",
       "43729938944           0.130976       2.360833\n",
       "43729939200           0.046995       1.163892\n",
       "43729939456           0.007777       0.451378\n",
       "43729939712           0.005824       0.508219\n",
       "\n",
       "[5397 rows x 2 columns]"
      ]
     },
     "execution_count": 31,
     "metadata": {},
     "output_type": "execute_result"
    }
   ],
   "source": [
    "df[[\"sigmatoskybkg_err\",\"sigmatoskybkg\"]]"
   ]
  },
  {
   "cell_type": "code",
   "execution_count": 32,
   "id": "7a7b5e98-5d45-4735-990e-3fbcfd443336",
   "metadata": {
    "execution": {
     "iopub.execute_input": "2024-05-28T14:32:23.852825Z",
     "iopub.status.busy": "2024-05-28T14:32:23.852711Z",
     "iopub.status.idle": "2024-05-28T14:32:23.891729Z",
     "shell.execute_reply": "2024-05-28T14:32:23.891392Z",
     "shell.execute_reply.started": "2024-05-28T14:32:23.852816Z"
    }
   },
   "outputs": [],
   "source": [
    "df[\"log10_sigmatoskybkg\"] = df[\"sigmatoskybkg\"].apply(lambda x : np.log10(x))\n",
    "df[\"log10_sigmatoskybkg_err\"] = df[[\"sigmatoskybkg_err\",\"sigmatoskybkg\"]].apply(lambda row : row[\"sigmatoskybkg_err\"]/row[\"sigmatoskybkg\"]/np.log(10),axis=1)"
   ]
  },
  {
   "cell_type": "code",
   "execution_count": 33,
   "id": "17d62aca-5c3e-46b1-a0f2-6235303e626f",
   "metadata": {
    "execution": {
     "iopub.execute_input": "2024-05-28T14:32:23.892264Z",
     "iopub.status.busy": "2024-05-28T14:32:23.892151Z",
     "iopub.status.idle": "2024-05-28T14:32:23.897348Z",
     "shell.execute_reply": "2024-05-28T14:32:23.897007Z",
     "shell.execute_reply.started": "2024-05-28T14:32:23.892255Z"
    }
   },
   "outputs": [
    {
     "data": {
      "text/html": [
       "<div>\n",
       "<style scoped>\n",
       "    .dataframe tbody tr th:only-of-type {\n",
       "        vertical-align: middle;\n",
       "    }\n",
       "\n",
       "    .dataframe tbody tr th {\n",
       "        vertical-align: top;\n",
       "    }\n",
       "\n",
       "    .dataframe thead th {\n",
       "        text-align: right;\n",
       "    }\n",
       "</style>\n",
       "<table border=\"1\" class=\"dataframe\">\n",
       "  <thead>\n",
       "    <tr style=\"text-align: right;\">\n",
       "      <th></th>\n",
       "      <th>log10_sigmatoskybkg</th>\n",
       "      <th>log10_sigmatoskybkg_err</th>\n",
       "    </tr>\n",
       "    <tr>\n",
       "      <th>ccdVisitId</th>\n",
       "      <th></th>\n",
       "      <th></th>\n",
       "    </tr>\n",
       "  </thead>\n",
       "  <tbody>\n",
       "    <tr>\n",
       "      <th>40919696896</th>\n",
       "      <td>-0.151895</td>\n",
       "      <td>0.008641</td>\n",
       "    </tr>\n",
       "    <tr>\n",
       "      <th>40919697408</th>\n",
       "      <td>-0.509047</td>\n",
       "      <td>0.002410</td>\n",
       "    </tr>\n",
       "    <tr>\n",
       "      <th>40919698432</th>\n",
       "      <td>-0.131638</td>\n",
       "      <td>0.007176</td>\n",
       "    </tr>\n",
       "    <tr>\n",
       "      <th>40919698944</th>\n",
       "      <td>-0.446979</td>\n",
       "      <td>0.002047</td>\n",
       "    </tr>\n",
       "    <tr>\n",
       "      <th>40919699200</th>\n",
       "      <td>-0.437448</td>\n",
       "      <td>0.003450</td>\n",
       "    </tr>\n",
       "    <tr>\n",
       "      <th>...</th>\n",
       "      <td>...</td>\n",
       "      <td>...</td>\n",
       "    </tr>\n",
       "    <tr>\n",
       "      <th>43729938688</th>\n",
       "      <td>-0.290357</td>\n",
       "      <td>0.006948</td>\n",
       "    </tr>\n",
       "    <tr>\n",
       "      <th>43729938944</th>\n",
       "      <td>0.373065</td>\n",
       "      <td>0.024094</td>\n",
       "    </tr>\n",
       "    <tr>\n",
       "      <th>43729939200</th>\n",
       "      <td>0.065913</td>\n",
       "      <td>0.017536</td>\n",
       "    </tr>\n",
       "    <tr>\n",
       "      <th>43729939456</th>\n",
       "      <td>-0.345460</td>\n",
       "      <td>0.007483</td>\n",
       "    </tr>\n",
       "    <tr>\n",
       "      <th>43729939712</th>\n",
       "      <td>-0.293949</td>\n",
       "      <td>0.004977</td>\n",
       "    </tr>\n",
       "  </tbody>\n",
       "</table>\n",
       "<p>5397 rows × 2 columns</p>\n",
       "</div>"
      ],
      "text/plain": [
       "             log10_sigmatoskybkg  log10_sigmatoskybkg_err\n",
       "ccdVisitId                                               \n",
       "40919696896            -0.151895                 0.008641\n",
       "40919697408            -0.509047                 0.002410\n",
       "40919698432            -0.131638                 0.007176\n",
       "40919698944            -0.446979                 0.002047\n",
       "40919699200            -0.437448                 0.003450\n",
       "...                          ...                      ...\n",
       "43729938688            -0.290357                 0.006948\n",
       "43729938944             0.373065                 0.024094\n",
       "43729939200             0.065913                 0.017536\n",
       "43729939456            -0.345460                 0.007483\n",
       "43729939712            -0.293949                 0.004977\n",
       "\n",
       "[5397 rows x 2 columns]"
      ]
     },
     "execution_count": 33,
     "metadata": {},
     "output_type": "execute_result"
    }
   ],
   "source": [
    "df[[\"log10_sigmatoskybkg\",\"log10_sigmatoskybkg_err\"]]"
   ]
  },
  {
   "cell_type": "code",
   "execution_count": 34,
   "id": "98738d8a-1bc3-4ffa-bc24-9e7c7c86a272",
   "metadata": {
    "execution": {
     "iopub.execute_input": "2024-05-28T14:32:23.897924Z",
     "iopub.status.busy": "2024-05-28T14:32:23.897809Z",
     "iopub.status.idle": "2024-05-28T14:32:23.902945Z",
     "shell.execute_reply": "2024-05-28T14:32:23.902593Z",
     "shell.execute_reply.started": "2024-05-28T14:32:23.897915Z"
    }
   },
   "outputs": [
    {
     "data": {
      "text/html": [
       "<div>\n",
       "<style scoped>\n",
       "    .dataframe tbody tr th:only-of-type {\n",
       "        vertical-align: middle;\n",
       "    }\n",
       "\n",
       "    .dataframe tbody tr th {\n",
       "        vertical-align: top;\n",
       "    }\n",
       "\n",
       "    .dataframe thead th {\n",
       "        text-align: right;\n",
       "    }\n",
       "</style>\n",
       "<table border=\"1\" class=\"dataframe\">\n",
       "  <thead>\n",
       "    <tr style=\"text-align: right;\">\n",
       "      <th></th>\n",
       "      <th>sigmatoskybkg</th>\n",
       "      <th>sigmatoskybkg_err</th>\n",
       "    </tr>\n",
       "    <tr>\n",
       "      <th>ccdVisitId</th>\n",
       "      <th></th>\n",
       "      <th></th>\n",
       "    </tr>\n",
       "  </thead>\n",
       "  <tbody>\n",
       "    <tr>\n",
       "      <th>40919696896</th>\n",
       "      <td>0.704864</td>\n",
       "      <td>0.014024</td>\n",
       "    </tr>\n",
       "    <tr>\n",
       "      <th>40919697408</th>\n",
       "      <td>0.309709</td>\n",
       "      <td>0.001719</td>\n",
       "    </tr>\n",
       "    <tr>\n",
       "      <th>40919698432</th>\n",
       "      <td>0.738520</td>\n",
       "      <td>0.012203</td>\n",
       "    </tr>\n",
       "    <tr>\n",
       "      <th>40919698944</th>\n",
       "      <td>0.357290</td>\n",
       "      <td>0.001684</td>\n",
       "    </tr>\n",
       "    <tr>\n",
       "      <th>40919699200</th>\n",
       "      <td>0.365218</td>\n",
       "      <td>0.002901</td>\n",
       "    </tr>\n",
       "    <tr>\n",
       "      <th>...</th>\n",
       "      <td>...</td>\n",
       "      <td>...</td>\n",
       "    </tr>\n",
       "    <tr>\n",
       "      <th>43729938688</th>\n",
       "      <td>0.512440</td>\n",
       "      <td>0.008199</td>\n",
       "    </tr>\n",
       "    <tr>\n",
       "      <th>43729938944</th>\n",
       "      <td>2.360833</td>\n",
       "      <td>0.130976</td>\n",
       "    </tr>\n",
       "    <tr>\n",
       "      <th>43729939200</th>\n",
       "      <td>1.163892</td>\n",
       "      <td>0.046995</td>\n",
       "    </tr>\n",
       "    <tr>\n",
       "      <th>43729939456</th>\n",
       "      <td>0.451378</td>\n",
       "      <td>0.007777</td>\n",
       "    </tr>\n",
       "    <tr>\n",
       "      <th>43729939712</th>\n",
       "      <td>0.508219</td>\n",
       "      <td>0.005824</td>\n",
       "    </tr>\n",
       "  </tbody>\n",
       "</table>\n",
       "<p>5397 rows × 2 columns</p>\n",
       "</div>"
      ],
      "text/plain": [
       "             sigmatoskybkg  sigmatoskybkg_err\n",
       "ccdVisitId                                   \n",
       "40919696896       0.704864           0.014024\n",
       "40919697408       0.309709           0.001719\n",
       "40919698432       0.738520           0.012203\n",
       "40919698944       0.357290           0.001684\n",
       "40919699200       0.365218           0.002901\n",
       "...                    ...                ...\n",
       "43729938688       0.512440           0.008199\n",
       "43729938944       2.360833           0.130976\n",
       "43729939200       1.163892           0.046995\n",
       "43729939456       0.451378           0.007777\n",
       "43729939712       0.508219           0.005824\n",
       "\n",
       "[5397 rows x 2 columns]"
      ]
     },
     "execution_count": 34,
     "metadata": {},
     "output_type": "execute_result"
    }
   ],
   "source": [
    "df[[\"sigmatoskybkg\",\"sigmatoskybkg_err\"]]"
   ]
  },
  {
   "cell_type": "code",
   "execution_count": 35,
   "id": "79703c7a-e7fa-487c-88b5-ed446d126d6b",
   "metadata": {
    "execution": {
     "iopub.execute_input": "2024-05-28T14:32:23.903527Z",
     "iopub.status.busy": "2024-05-28T14:32:23.903405Z",
     "iopub.status.idle": "2024-05-28T14:32:23.906131Z",
     "shell.execute_reply": "2024-05-28T14:32:23.905809Z",
     "shell.execute_reply.started": "2024-05-28T14:32:23.903517Z"
    }
   },
   "outputs": [
    {
     "data": {
      "text/plain": [
       "Index(['idx', 'visitId', 'band', 'detector', 'zeroPoint', 'airmass', 'skyBg',\n",
       "       'skyNoise', 'expTime', 'photocalib_m', 'photocalib_e', 'magzero',\n",
       "       'magzero_rms', 'magzero_nobj', 'bgmean', 'bgvar', 'mu_ce', 'med_ce',\n",
       "       'std_ce', 'sigMad_ce', 'mu_ce_m', 'med_ce_m', 'std_ce_m', 'sigMad_ce_m',\n",
       "       'mu_bkg', 'med_bkg', 'std_bkg', 'sigMad_bkg', 'mu_bkg_m', 'med_bkg_m',\n",
       "       'std_bkg_m', 'sigMad_bkg_m', 'mu_pisr', 'med_pisr', 'std_pisr',\n",
       "       'sigMad_pisr', 'mu_pisr_m', 'med_pisr_m', 'std_pisr_m', 'sigMad_pisr_m',\n",
       "       'Time', 'obsStart', 'magzero_dt', 'zeroPoint_diff', 'sigmatoskybkg',\n",
       "       'sigmatoskybkg_err', 'sigmatoskybkg_max', 'log10_sigmatoskybkg',\n",
       "       'log10_sigmatoskybkg_err'],\n",
       "      dtype='object')"
      ]
     },
     "execution_count": 35,
     "metadata": {},
     "output_type": "execute_result"
    }
   ],
   "source": [
    "df.columns"
   ]
  },
  {
   "cell_type": "code",
   "execution_count": 36,
   "id": "188ba2d9-ccba-4abf-9def-ee15c395eca8",
   "metadata": {
    "execution": {
     "iopub.execute_input": "2024-05-28T14:32:23.906669Z",
     "iopub.status.busy": "2024-05-28T14:32:23.906558Z",
     "iopub.status.idle": "2024-05-28T14:32:23.915505Z",
     "shell.execute_reply": "2024-05-28T14:32:23.915171Z",
     "shell.execute_reply.started": "2024-05-28T14:32:23.906660Z"
    }
   },
   "outputs": [],
   "source": [
    "df[\"photocalib_mag\"] = df[\"photocalib_m\"].apply(convert_fluxtomag)"
   ]
  },
  {
   "cell_type": "code",
   "execution_count": 37,
   "id": "88a62521-f0ef-4330-8a0d-6f4074068335",
   "metadata": {
    "execution": {
     "iopub.execute_input": "2024-05-28T14:32:23.916067Z",
     "iopub.status.busy": "2024-05-28T14:32:23.915948Z",
     "iopub.status.idle": "2024-05-28T14:32:23.919098Z",
     "shell.execute_reply": "2024-05-28T14:32:23.918755Z",
     "shell.execute_reply.started": "2024-05-28T14:32:23.916057Z"
    }
   },
   "outputs": [],
   "source": [
    "df[\"zeroPoint_photocalib_diff\"] = df[\"zeroPoint\"] - df[\"photocalib_mag\"]\n",
    "df[\"magzerodt_photocalib_diff\"] = df[\"magzero_dt\"] - df[\"photocalib_mag\"]"
   ]
  },
  {
   "cell_type": "markdown",
   "id": "84ad3079-0119-4a0e-8af7-7151c907a9a4",
   "metadata": {},
   "source": [
    "## Split the dataframe in bands"
   ]
  },
  {
   "cell_type": "code",
   "execution_count": 38,
   "id": "3f187065-6c90-41cf-931b-d3518423af16",
   "metadata": {
    "execution": {
     "iopub.execute_input": "2024-05-28T14:32:23.919656Z",
     "iopub.status.busy": "2024-05-28T14:32:23.919543Z",
     "iopub.status.idle": "2024-05-28T14:32:23.926989Z",
     "shell.execute_reply": "2024-05-28T14:32:23.926645Z",
     "shell.execute_reply.started": "2024-05-28T14:32:23.919647Z"
    }
   },
   "outputs": [],
   "source": [
    "df_g = df[df[\"band\"] == 'g']\n",
    "df_r = df[df[\"band\"] == 'r']\n",
    "df_i = df[df[\"band\"] == 'i']\n",
    "df_z = df[df[\"band\"] == 'z']\n",
    "df_y = df[df[\"band\"] == 'y']"
   ]
  },
  {
   "cell_type": "markdown",
   "id": "46bf714f-617b-4289-a896-5228dbf0b807",
   "metadata": {},
   "source": [
    "## Sky Background"
   ]
  },
  {
   "cell_type": "code",
   "execution_count": 39,
   "id": "411b8cce-62d4-412f-8487-f64dff4d4a04",
   "metadata": {
    "execution": {
     "iopub.execute_input": "2024-05-28T14:32:23.927571Z",
     "iopub.status.busy": "2024-05-28T14:32:23.927457Z",
     "iopub.status.idle": "2024-05-28T14:32:23.929518Z",
     "shell.execute_reply": "2024-05-28T14:32:23.929141Z",
     "shell.execute_reply.started": "2024-05-28T14:32:23.927562Z"
    }
   },
   "outputs": [],
   "source": [
    "sigmaNfit = {}\n",
    "slopefit = {}\n",
    "interceptfit = {}"
   ]
  },
  {
   "cell_type": "markdown",
   "id": "c73122db-f999-40b7-acde-f0ab8a0762e1",
   "metadata": {},
   "source": [
    "### Sky Background in g band"
   ]
  },
  {
   "cell_type": "code",
   "execution_count": 40,
   "id": "82c0d71e-dd72-44e0-ad15-882ea6478ea9",
   "metadata": {
    "execution": {
     "iopub.execute_input": "2024-05-28T14:32:23.930074Z",
     "iopub.status.busy": "2024-05-28T14:32:23.929962Z",
     "iopub.status.idle": "2024-05-28T14:32:24.664421Z",
     "shell.execute_reply": "2024-05-28T14:32:24.663970Z",
     "shell.execute_reply.started": "2024-05-28T14:32:23.930064Z"
    }
   },
   "outputs": [
    {
     "data": {
      "image/png": "[encoded data removed]",
      "text/plain": [
       "<Figure size 1600x800 with 2 Axes>"
      ]
     },
     "metadata": {},
     "output_type": "display_data"
    }
   ],
   "source": [
    "fig, ax = plt.subplots(1,1,figsize=(16,8),sharex=False)\n",
    "title = f\" $\\sigma$ in Calexp divided by $median$ in CalexpBackground in Auxtel, band g\"\n",
    "df_g.plot.scatter(x=\"med_bkg\",y=\"sigmatoskybkg\",ax=ax,marker=\"o\",c=\"airmass\",cmap=\"jet\",rot=45,ylabel=\"ratio $\\sigma$/$median$\",title=title,grid=True)\n",
    "df_g.plot.scatter(x=\"med_bkg\",y=\"sigmatoskybkg_max\",ax=ax,marker=\".\",color=\"k\",rot=45,label=\"electron statistics\",grid=True,lw=4)\n",
    "\n",
    "ax.set_yscale(\"log\")\n",
    "ax.set_xscale(\"log\")\n",
    "ax.axhline(1.,lw=2,color=\"r\",label=\"poissonnian limit\")\n",
    "ax.legend()\n",
    "ax.set_ylim(1e-2,10)\n",
    "ax.set_ylabel(\"sky background : $\\sigma_N/N$\")\n",
    "plt.suptitle(suptitle)\n",
    "figname = \"calexp_sigmaNbyN_bandG_Auxtel.png\"\n",
    "plt.tight_layout()\n",
    "plt.savefig(figname)\n",
    "plt.show()"
   ]
  },
  {
   "cell_type": "code",
   "execution_count": 41,
   "id": "7dbbbf1b-cec3-441e-92fd-c5bd8052dcf0",
   "metadata": {
    "execution": {
     "iopub.execute_input": "2024-05-28T14:32:24.665158Z",
     "iopub.status.busy": "2024-05-28T14:32:24.665026Z",
     "iopub.status.idle": "2024-05-28T14:32:25.884739Z",
     "shell.execute_reply": "2024-05-28T14:32:25.884252Z",
     "shell.execute_reply.started": "2024-05-28T14:32:24.665146Z"
    }
   },
   "outputs": [
    {
     "data": {
      "image/png": "[encoded data removed]",
      "text/plain": [
       "<Figure size 1600x800 with 1 Axes>"
      ]
     },
     "metadata": {},
     "output_type": "display_data"
    }
   ],
   "source": [
    "fig, ax = plt.subplots(1,1,figsize=(16,8),sharex=False)\n",
    "title = f\" $\\sigma$ in Calexp divided by $median$ in CalexpBackground in Auxtel, band g\"\n",
    "x = df_g[\"med_bkg\"]\n",
    "y = df_g[\"sigmatoskybkg\"]\n",
    "yerr = df_g[\"sigmatoskybkg_err\"]\n",
    "xmin,xmax = x.min(),x.max()\n",
    "xrange = np.arange(xmin,xmax)\n",
    "yrange = 1./np.sqrt(xrange)\n",
    "ax.errorbar(x,y,yerr=yerr,marker=\"o\",ms=1,color=\"b\",ecolor=\"grey\",label=\"Calexp/CalexpBackground data\")\n",
    "#df_g.plot.scatter(x=\"med_bkg\",y=\"sigmatoskybkg_max\",ax=ax,marker=\".\",color=\"k\",rot=45,label=\"electron statistics\",grid=True,lw=4)\n",
    "ax.plot(xrange,yrange,'k-',label=\"Pure poissionian model $\\simeq 1/\\sqrt{N_{ADU}}$\")\n",
    "\n",
    "ax.set_yscale(\"log\")\n",
    "ax.set_xscale(\"log\")\n",
    "ax.axhline(1.,lw=2,color=\"r\",label=\"poissonnian limit  $N=1$\")\n",
    "ax.legend()\n",
    "ax.grid()\n",
    "ax.set_ylim(1e-2,10)\n",
    "ax.set_ylabel(\"$\\sigma(calexp)/median(calexpBackground)$\")\n",
    "ax.set_xlabel(\"$N_{ADU}$ (per pixel)\")\n",
    "ax.set_title(title)\n",
    "plt.suptitle(suptitle)\n",
    "figname = \"calexp_sigmaNbyN_bandG_Auxtel.png\"\n",
    "plt.tight_layout()\n",
    "plt.savefig(figname)\n",
    "plt.show()"
   ]
  },
  {
   "cell_type": "code",
   "execution_count": 42,
   "id": "d9f96483-3158-4efc-8f60-00ba724cce5e",
   "metadata": {
    "execution": {
     "iopub.execute_input": "2024-05-28T14:32:25.885433Z",
     "iopub.status.busy": "2024-05-28T14:32:25.885309Z",
     "iopub.status.idle": "2024-05-28T14:32:25.888054Z",
     "shell.execute_reply": "2024-05-28T14:32:25.887712Z",
     "shell.execute_reply.started": "2024-05-28T14:32:25.885422Z"
    }
   },
   "outputs": [
    {
     "data": {
      "text/plain": [
       "126.158165"
      ]
     },
     "execution_count": 42,
     "metadata": {},
     "output_type": "execute_result"
    }
   ],
   "source": [
    "xmax"
   ]
  },
  {
   "cell_type": "markdown",
   "id": "2707add5-2ce3-4200-b0af-9adacb922940",
   "metadata": {},
   "source": [
    "### Make a straight line fit"
   ]
  },
  {
   "cell_type": "markdown",
   "id": "21dbe1b4-0454-4470-b092-a3392535a638",
   "metadata": {
    "execution": {
     "iopub.execute_input": "2024-05-28T08:45:40.830482Z",
     "iopub.status.busy": "2024-05-28T08:45:40.830266Z",
     "iopub.status.idle": "2024-05-28T08:45:40.833573Z",
     "shell.execute_reply": "2024-05-28T08:45:40.833086Z",
     "shell.execute_reply.started": "2024-05-28T08:45:40.830469Z"
    }
   },
   "source": [
    "- Poissonian Background\n",
    "$$\n",
    "\\log_{10} \\frac{\\sigma}{M} = -0.5\\log_{10} (g) - 0.5 \\log_{10}(N_{ADU}) \n",
    "$$"
   ]
  },
  {
   "cell_type": "markdown",
   "id": "b0282288-3c36-443f-9ba4-e2f6dd75ae40",
   "metadata": {},
   "source": [
    "- Electronic Noise $\\sigma_N$\n",
    "\n",
    "$$\n",
    "\\log_{10} \\frac{\\sigma}{M} = \\log_{10} (\\sigma_N) -  \\log_{10}(N_{ADU}) \n",
    "$$"
   ]
  },
  {
   "cell_type": "code",
   "execution_count": 43,
   "id": "1785acc8-d157-44a0-bd3f-6b6d4c38ef0b",
   "metadata": {
    "execution": {
     "iopub.execute_input": "2024-05-28T14:32:25.888628Z",
     "iopub.status.busy": "2024-05-28T14:32:25.888515Z",
     "iopub.status.idle": "2024-05-28T14:32:25.891941Z",
     "shell.execute_reply": "2024-05-28T14:32:25.891599Z",
     "shell.execute_reply.started": "2024-05-28T14:32:25.888619Z"
    }
   },
   "outputs": [],
   "source": [
    "#X = df_g[\"med_bkg\"].apply(lambda x : np.log10(x))\n",
    "#Y1 = df_g[\"sigmatoskybkg\"].apply(lambda x : np.log10(x))\n",
    "#Y2 = df_g[\"sigmatoskybkg_max\"].apply(lambda x : np.log10(x))"
   ]
  },
  {
   "cell_type": "code",
   "execution_count": 44,
   "id": "1006b980-ad06-4b4d-9a03-89ec221b57b2",
   "metadata": {
    "execution": {
     "iopub.execute_input": "2024-05-28T14:32:25.892491Z",
     "iopub.status.busy": "2024-05-28T14:32:25.892372Z",
     "iopub.status.idle": "2024-05-28T14:32:25.899368Z",
     "shell.execute_reply": "2024-05-28T14:32:25.899030Z",
     "shell.execute_reply.started": "2024-05-28T14:32:25.892482Z"
    }
   },
   "outputs": [],
   "source": [
    "X =  df_g[\"med_bkg\"].apply(lambda x : np.log10(x))\n",
    "Y1 = df_g[\"log10_sigmatoskybkg\"]\n",
    "EY1 = df_g[\"log10_sigmatoskybkg_err\"]\n",
    "Y2 = df_g[\"sigmatoskybkg_max\"].apply(lambda x : np.log10(x))"
   ]
  },
  {
   "cell_type": "code",
   "execution_count": 45,
   "id": "deb72a4f-771e-4b69-9b3b-0da1b3bf2322",
   "metadata": {
    "execution": {
     "iopub.execute_input": "2024-05-28T14:32:25.899994Z",
     "iopub.status.busy": "2024-05-28T14:32:25.899881Z",
     "iopub.status.idle": "2024-05-28T14:32:25.903615Z",
     "shell.execute_reply": "2024-05-28T14:32:25.903229Z",
     "shell.execute_reply.started": "2024-05-28T14:32:25.899985Z"
    }
   },
   "outputs": [],
   "source": [
    "best_fit1 = fitter(model, X.values, Y1.values,weights=1/(EY1.values)**2)\n",
    "best_fit2 = fitter(model, X.values, Y2.values)"
   ]
  },
  {
   "cell_type": "code",
   "execution_count": 46,
   "id": "ec80d11f-8a74-422e-8958-7a5f02f5359d",
   "metadata": {
    "execution": {
     "iopub.execute_input": "2024-05-28T14:32:25.904221Z",
     "iopub.status.busy": "2024-05-28T14:32:25.904098Z",
     "iopub.status.idle": "2024-05-28T14:32:25.907695Z",
     "shell.execute_reply": "2024-05-28T14:32:25.907285Z",
     "shell.execute_reply.started": "2024-05-28T14:32:25.904211Z"
    }
   },
   "outputs": [
    {
     "data": {
      "text/plain": [
       "<Linear1D(slope=-0.79566808, intercept=0.64565179)>"
      ]
     },
     "execution_count": 46,
     "metadata": {},
     "output_type": "execute_result"
    }
   ],
   "source": [
    "best_fit1 "
   ]
  },
  {
   "cell_type": "code",
   "execution_count": 52,
   "id": "acb1f8d5-e4ea-475b-8158-f9da4a266e0c",
   "metadata": {
    "execution": {
     "iopub.execute_input": "2024-05-28T14:33:26.557370Z",
     "iopub.status.busy": "2024-05-28T14:33:26.557172Z",
     "iopub.status.idle": "2024-05-28T14:33:26.560424Z",
     "shell.execute_reply": "2024-05-28T14:33:26.560072Z",
     "shell.execute_reply.started": "2024-05-28T14:33:26.557358Z"
    }
   },
   "outputs": [
    {
     "data": {
      "text/plain": [
       "array([-0.79566808,  0.64565179])"
      ]
     },
     "execution_count": 52,
     "metadata": {},
     "output_type": "execute_result"
    }
   ],
   "source": [
    "best_fit1.parameters"
   ]
  },
  {
   "cell_type": "code",
   "execution_count": null,
   "id": "a5e02255-f153-41dd-bb41-7c78671b1142",
   "metadata": {},
   "outputs": [],
   "source": [
    "best_fit1."
   ]
  },
  {
   "cell_type": "code",
   "execution_count": 47,
   "id": "b4d45c87-9381-44d5-8349-ef794ed34e12",
   "metadata": {
    "execution": {
     "iopub.execute_input": "2024-05-28T14:32:25.908260Z",
     "iopub.status.busy": "2024-05-28T14:32:25.908145Z",
     "iopub.status.idle": "2024-05-28T14:32:25.910660Z",
     "shell.execute_reply": "2024-05-28T14:32:25.910263Z",
     "shell.execute_reply.started": "2024-05-28T14:32:25.908251Z"
    }
   },
   "outputs": [
    {
     "name": "stdout",
     "output_type": "stream",
     "text": [
      "None\n"
     ]
    }
   ],
   "source": [
    "print(best_fit1.cov_matrix)"
   ]
  },
  {
   "cell_type": "code",
   "execution_count": 48,
   "id": "7f4aa43c-a8ef-4120-9ebb-e9aac90ac64a",
   "metadata": {
    "execution": {
     "iopub.execute_input": "2024-05-28T14:32:25.911218Z",
     "iopub.status.busy": "2024-05-28T14:32:25.911102Z",
     "iopub.status.idle": "2024-05-28T14:32:25.915525Z",
     "shell.execute_reply": "2024-05-28T14:32:25.915170Z",
     "shell.execute_reply.started": "2024-05-28T14:32:25.911209Z"
    }
   },
   "outputs": [
    {
     "data": {
      "text/plain": [
       "4.42233650525215"
      ]
     },
     "execution_count": 48,
     "metadata": {},
     "output_type": "execute_result"
    }
   ],
   "source": [
    "sigmaN = np.power(10.,best_fit1.intercept.value) \n",
    "sigmaN "
   ]
  },
  {
   "cell_type": "code",
   "execution_count": 49,
   "id": "31cece40-1425-48ba-9976-f30509f8b576",
   "metadata": {
    "execution": {
     "iopub.execute_input": "2024-05-28T14:32:25.916130Z",
     "iopub.status.busy": "2024-05-28T14:32:25.916017Z",
     "iopub.status.idle": "2024-05-28T14:32:25.918238Z",
     "shell.execute_reply": "2024-05-28T14:32:25.917888Z",
     "shell.execute_reply.started": "2024-05-28T14:32:25.916120Z"
    }
   },
   "outputs": [],
   "source": [
    "sigmaNfit[\"g\"] = sigmaN\n",
    "slopefit[\"g\"] = best_fit1.slope.value\n",
    "interceptfit[\"g\"] = best_fit1.intercept.value"
   ]
  },
  {
   "cell_type": "code",
   "execution_count": 50,
   "id": "bef01488-fab2-4c47-9693-c7f8096a3746",
   "metadata": {
    "execution": {
     "iopub.execute_input": "2024-05-28T14:32:25.918797Z",
     "iopub.status.busy": "2024-05-28T14:32:25.918686Z",
     "iopub.status.idle": "2024-05-28T14:32:25.923326Z",
     "shell.execute_reply": "2024-05-28T14:32:25.922982Z",
     "shell.execute_reply.started": "2024-05-28T14:32:25.918788Z"
    }
   },
   "outputs": [
    {
     "data": {
      "text/plain": [
       "<Linear1D(slope=-0.5, intercept=-0.)>"
      ]
     },
     "execution_count": 50,
     "metadata": {},
     "output_type": "execute_result"
    }
   ],
   "source": [
    "best_fit2"
   ]
  },
  {
   "cell_type": "code",
   "execution_count": 51,
   "id": "34d1c0e1-757c-4fe5-b456-f9464e598ede",
   "metadata": {
    "execution": {
     "iopub.execute_input": "2024-05-28T14:32:25.923934Z",
     "iopub.status.busy": "2024-05-28T14:32:25.923818Z",
     "iopub.status.idle": "2024-05-28T14:32:26.009119Z",
     "shell.execute_reply": "2024-05-28T14:32:26.006900Z",
     "shell.execute_reply.started": "2024-05-28T14:32:25.923924Z"
    }
   },
   "outputs": [
    {
     "ename": "AssertionError",
     "evalue": "",
     "output_type": "error",
     "traceback": [
      "\u001b[0;31m---------------------------------------------------------------------------\u001b[0m",
      "\u001b[0;31mAssertionError\u001b[0m                            Traceback (most recent call last)",
      "Cell \u001b[0;32mIn[51], line 1\u001b[0m\n\u001b[0;32m----> 1\u001b[0m \u001b[38;5;28;01massert\u001b[39;00m \u001b[38;5;28;01mFalse\u001b[39;00m\n",
      "\u001b[0;31mAssertionError\u001b[0m: "
     ]
    }
   ],
   "source": [
    "assert False"
   ]
  },
  {
   "cell_type": "markdown",
   "id": "96196b98-a071-4a8c-a78e-49afa1d5c169",
   "metadata": {},
   "source": [
    "### Sky Background in r band"
   ]
  },
  {
   "cell_type": "code",
   "execution_count": null,
   "id": "bdfb66aa-7d10-49e9-85f7-05a1cf3653d1",
   "metadata": {
    "execution": {
     "iopub.status.busy": "2024-05-28T14:32:26.009569Z",
     "iopub.status.idle": "2024-05-28T14:32:26.009739Z",
     "shell.execute_reply": "2024-05-28T14:32:26.009660Z",
     "shell.execute_reply.started": "2024-05-28T14:32:26.009652Z"
    }
   },
   "outputs": [],
   "source": [
    "fig, ax = plt.subplots(1,1,figsize=(16,8),sharex=False)\n",
    "title = f\" $\\sigma$ in Calexp divided by $median$ in CalexpBackground in Auxtel, band r\"\n",
    "df_r.plot.scatter(x=\"Time\",y=\"sigmatoskybkg\",ax=ax,marker=\"o\",c=\"airmass\",cmap=\"jet\",rot=45,ylabel=\"ratio $\\sigma$/$median$\",title=title,grid=True)\n",
    "df_r.plot.scatter(x=\"Time\",y=\"sigmatoskybkg_max\",ax=ax,marker=\".\",color=\"k\",rot=45,label=\"electron statistics\",grid=True,lw=4)\n",
    "ax.xaxis.set_major_formatter(date_form)\n",
    "ax.set_yscale(\"log\")\n",
    "ax.axhline(1.,lw=2,color=\"r\",label=\"poissonnian limit\")\n",
    "ax.legend()\n",
    "ax.set_ylabel(\"sky background : $\\sigma_N/N$\")\n",
    "plt.suptitle(suptitle)\n",
    "figname = \"calexp_sigmaNbyN_bandR_Auxtel.png\"\n",
    "plt.tight_layout()\n",
    "plt.savefig(figname)\n",
    "plt.show()"
   ]
  },
  {
   "cell_type": "code",
   "execution_count": null,
   "id": "779dc3f4-6e0e-4ca3-b3e3-f0b9106daf54",
   "metadata": {
    "execution": {
     "iopub.status.busy": "2024-05-28T14:32:26.010498Z",
     "iopub.status.idle": "2024-05-28T14:32:26.010791Z",
     "shell.execute_reply": "2024-05-28T14:32:26.010708Z",
     "shell.execute_reply.started": "2024-05-28T14:32:26.010701Z"
    }
   },
   "outputs": [],
   "source": [
    "fig, ax = plt.subplots(1,1,figsize=(16,8),sharex=False)\n",
    "title = f\" $\\sigma$ in Calexp divided by $median$ in CalexpBackground in Auxtel, band r\"\n",
    "df_r.plot.scatter(x=\"med_bkg\",y=\"sigmatoskybkg\",ax=ax,marker=\"o\",c=\"airmass\",cmap=\"jet\",rot=45,ylabel=\"ratio $\\sigma$/$median$\",title=title,grid=True)\n",
    "df_r.plot.scatter(x=\"med_bkg\",y=\"sigmatoskybkg_max\",ax=ax,marker=\".\",color=\"k\",rot=45,label=\"electron statistics\",grid=True,lw=4)\n",
    "\n",
    "ax.set_yscale(\"log\")\n",
    "ax.set_xscale(\"log\")\n",
    "ax.axhline(1.,lw=2,color=\"r\",label=\"poissonnian limit\")\n",
    "ax.legend()\n",
    "ax.set_ylim(1e-2,10)\n",
    "ax.set_ylabel(\"sky background : $\\sigma_N/N$\")\n",
    "plt.suptitle(suptitle)\n",
    "figname = \"calexp_sigmaNbyN_bandR_Auxtel.png\"\n",
    "plt.tight_layout()\n",
    "plt.savefig(figname)\n",
    "plt.show()"
   ]
  },
  {
   "cell_type": "markdown",
   "id": "a8391882-76d8-466b-9394-7c6c7814acbe",
   "metadata": {},
   "source": [
    "### Fit a straight line"
   ]
  },
  {
   "cell_type": "code",
   "execution_count": null,
   "id": "9120667d-82c1-4d5c-9827-734b5e2136bd",
   "metadata": {
    "execution": {
     "iopub.status.busy": "2024-05-28T14:32:26.011239Z",
     "iopub.status.idle": "2024-05-28T14:32:26.011391Z",
     "shell.execute_reply": "2024-05-28T14:32:26.011320Z",
     "shell.execute_reply.started": "2024-05-28T14:32:26.011314Z"
    }
   },
   "outputs": [],
   "source": [
    "X = df_r[\"med_bkg\"].apply(lambda x : np.log10(x))\n",
    "Y1 = df_r[\"sigmatoskybkg\"].apply(lambda x : np.log10(x))\n",
    "Y2 = df_r[\"sigmatoskybkg_max\"].apply(lambda x : np.log10(x))"
   ]
  },
  {
   "cell_type": "code",
   "execution_count": null,
   "id": "86125f81-bdc3-4054-a01e-6e54efe68be2",
   "metadata": {
    "execution": {
     "iopub.status.busy": "2024-05-28T14:32:26.012009Z",
     "iopub.status.idle": "2024-05-28T14:32:26.012166Z",
     "shell.execute_reply": "2024-05-28T14:32:26.012094Z",
     "shell.execute_reply.started": "2024-05-28T14:32:26.012087Z"
    }
   },
   "outputs": [],
   "source": [
    "best_fit1 = fitter(model, X.values, Y1.values)\n",
    "best_fit2 = fitter(model, X.values, Y2.values)"
   ]
  },
  {
   "cell_type": "code",
   "execution_count": null,
   "id": "cdea142f-4a25-4876-a071-35e2675fdd9b",
   "metadata": {
    "execution": {
     "iopub.status.busy": "2024-05-28T14:32:26.012756Z",
     "iopub.status.idle": "2024-05-28T14:32:26.012909Z",
     "shell.execute_reply": "2024-05-28T14:32:26.012835Z",
     "shell.execute_reply.started": "2024-05-28T14:32:26.012828Z"
    }
   },
   "outputs": [],
   "source": [
    "best_fit1"
   ]
  },
  {
   "cell_type": "code",
   "execution_count": null,
   "id": "b1d5be3d-376b-4833-b73d-0905bd496726",
   "metadata": {
    "execution": {
     "iopub.status.busy": "2024-05-28T14:32:26.013316Z",
     "iopub.status.idle": "2024-05-28T14:32:26.013489Z",
     "shell.execute_reply": "2024-05-28T14:32:26.013392Z",
     "shell.execute_reply.started": "2024-05-28T14:32:26.013386Z"
    }
   },
   "outputs": [],
   "source": [
    "sigmaN = np.power(10.,best_fit1.intercept.value) \n",
    "sigmaN "
   ]
  },
  {
   "cell_type": "code",
   "execution_count": null,
   "id": "1ba7cf90-f625-4bb6-9346-663f139ce16e",
   "metadata": {
    "execution": {
     "iopub.status.busy": "2024-05-28T14:32:26.014083Z",
     "iopub.status.idle": "2024-05-28T14:32:26.014230Z",
     "shell.execute_reply": "2024-05-28T14:32:26.014159Z",
     "shell.execute_reply.started": "2024-05-28T14:32:26.014153Z"
    }
   },
   "outputs": [],
   "source": [
    "sigmaNfit[\"r\"] = sigmaN\n",
    "slopefit[\"r\"] = best_fit1.slope.value\n",
    "interceptfit[\"r\"] = best_fit1.intercept.value"
   ]
  },
  {
   "cell_type": "markdown",
   "id": "afc45e26-b973-4937-808b-264a6f01ccca",
   "metadata": {},
   "source": [
    "### Sky Background in i band"
   ]
  },
  {
   "cell_type": "code",
   "execution_count": null,
   "id": "6e45e402-b785-4005-89b4-51bea95abf42",
   "metadata": {
    "execution": {
     "iopub.status.busy": "2024-05-28T14:32:26.014625Z",
     "iopub.status.idle": "2024-05-28T14:32:26.014763Z",
     "shell.execute_reply": "2024-05-28T14:32:26.014700Z",
     "shell.execute_reply.started": "2024-05-28T14:32:26.014694Z"
    }
   },
   "outputs": [],
   "source": [
    "fig, ax = plt.subplots(1,1,figsize=(16,8),sharex=False)\n",
    "title = f\" $\\sigma$ in Calexp divided by $median$ in CalexpBackground in Auxtel, band i\"\n",
    "df_i.plot.scatter(x=\"Time\",y=\"sigmatoskybkg\",ax=ax,marker=\"o\",c=\"airmass\",cmap=\"jet\",rot=45,ylabel=\"ratio $\\sigma$/$median$\",title=title,grid=True)\n",
    "df_i.plot.scatter(x=\"Time\",y=\"sigmatoskybkg_max\",ax=ax,marker=\".\",color=\"k\",rot=45,label=\"electron statistics\",grid=True,lw=4)\n",
    "ax.xaxis.set_major_formatter(date_form)\n",
    "ax.set_yscale(\"log\")\n",
    "ax.axhline(1.,lw=2,color=\"r\",label=\"poissonnian limit\")\n",
    "ax.legend()\n",
    "plt.suptitle(suptitle)\n",
    "ax.set_ylabel(\"sky background : $\\sigma_N/N$\")\n",
    "figname = \"calexp_sigmaNbyN_bandI_Auxtel.png\"\n",
    "plt.tight_layout()\n",
    "plt.savefig(figname)\n",
    "plt.show()"
   ]
  },
  {
   "cell_type": "code",
   "execution_count": null,
   "id": "4b32c1a5-4a5c-47c7-bee9-59847c273c3e",
   "metadata": {
    "execution": {
     "iopub.status.busy": "2024-05-28T14:32:26.015265Z",
     "iopub.status.idle": "2024-05-28T14:32:26.015402Z",
     "shell.execute_reply": "2024-05-28T14:32:26.015338Z",
     "shell.execute_reply.started": "2024-05-28T14:32:26.015332Z"
    }
   },
   "outputs": [],
   "source": [
    "fig, ax = plt.subplots(1,1,figsize=(16,8),sharex=False)\n",
    "title = f\" $\\sigma$ in Calexp divided by $median$ in CalexpBackground in Auxtel, band i\"\n",
    "df_i.plot.scatter(x=\"med_bkg\",y=\"sigmatoskybkg\",ax=ax,marker=\"o\",c=\"airmass\",cmap=\"jet\",rot=45,ylabel=\"ratio $\\sigma$/$median$\",title=title,grid=True)\n",
    "df_i.plot.scatter(x=\"med_bkg\",y=\"sigmatoskybkg_max\",ax=ax,marker=\".\",color=\"k\",rot=45,label=\"electron statistics\",grid=True,lw=4)\n",
    "\n",
    "ax.set_yscale(\"log\")\n",
    "ax.set_xscale(\"log\")\n",
    "ax.axhline(1.,lw=2,color=\"r\",label=\"poissonnian limit\")\n",
    "ax.legend()\n",
    "ax.set_ylim(1e-2,10)\n",
    "ax.set_ylabel(\"sky background : $\\sigma_N/N$\")\n",
    "plt.suptitle(suptitle)\n",
    "figname = \"calexp_sigmaNbyN_bandI_Auxtel.png\"\n",
    "plt.tight_layout()\n",
    "plt.savefig(figname)\n",
    "plt.show()"
   ]
  },
  {
   "cell_type": "markdown",
   "id": "0b27765a-6b44-49b5-8676-3233cb4202ee",
   "metadata": {},
   "source": [
    "### Fit a straight line"
   ]
  },
  {
   "cell_type": "code",
   "execution_count": null,
   "id": "19db752b-d04f-4abd-8154-975e49841002",
   "metadata": {
    "execution": {
     "iopub.status.busy": "2024-05-28T14:32:26.015980Z",
     "iopub.status.idle": "2024-05-28T14:32:26.016123Z",
     "shell.execute_reply": "2024-05-28T14:32:26.016056Z",
     "shell.execute_reply.started": "2024-05-28T14:32:26.016050Z"
    }
   },
   "outputs": [],
   "source": [
    "X = df_i[\"med_bkg\"].apply(lambda x : np.log10(x))\n",
    "Y1 = df_i[\"sigmatoskybkg\"].apply(lambda x : np.log10(x))\n",
    "Y2 = df_i[\"sigmatoskybkg_max\"].apply(lambda x : np.log10(x))"
   ]
  },
  {
   "cell_type": "code",
   "execution_count": null,
   "id": "f09f56b3-326c-4f8d-9ab2-20f127d55b6a",
   "metadata": {
    "execution": {
     "iopub.status.busy": "2024-05-28T14:32:26.016654Z",
     "iopub.status.idle": "2024-05-28T14:32:26.016791Z",
     "shell.execute_reply": "2024-05-28T14:32:26.016727Z",
     "shell.execute_reply.started": "2024-05-28T14:32:26.016721Z"
    }
   },
   "outputs": [],
   "source": [
    "best_fit1 = fitter(model, X.values, Y1.values)\n",
    "best_fit2 = fitter(model, X.values, Y2.values)"
   ]
  },
  {
   "cell_type": "code",
   "execution_count": null,
   "id": "a3b7f9da-a7d4-4578-93ca-9535442cbae9",
   "metadata": {
    "execution": {
     "iopub.status.busy": "2024-05-28T14:32:26.017376Z",
     "iopub.status.idle": "2024-05-28T14:32:26.017525Z",
     "shell.execute_reply": "2024-05-28T14:32:26.017459Z",
     "shell.execute_reply.started": "2024-05-28T14:32:26.017453Z"
    }
   },
   "outputs": [],
   "source": [
    "best_fit1 "
   ]
  },
  {
   "cell_type": "code",
   "execution_count": null,
   "id": "74250719-b1c0-41de-a6a6-d8eeb7d45905",
   "metadata": {
    "execution": {
     "iopub.status.busy": "2024-05-28T14:32:26.018062Z",
     "iopub.status.idle": "2024-05-28T14:32:26.018205Z",
     "shell.execute_reply": "2024-05-28T14:32:26.018135Z",
     "shell.execute_reply.started": "2024-05-28T14:32:26.018129Z"
    }
   },
   "outputs": [],
   "source": [
    "sigmaN = np.power(10.,best_fit1.intercept.value) \n",
    "sigmaN "
   ]
  },
  {
   "cell_type": "code",
   "execution_count": null,
   "id": "023cd20c-6f33-479a-8ce1-e7dfa2bad9af",
   "metadata": {
    "execution": {
     "iopub.status.busy": "2024-05-28T14:32:26.018673Z",
     "iopub.status.idle": "2024-05-28T14:32:26.018819Z",
     "shell.execute_reply": "2024-05-28T14:32:26.018749Z",
     "shell.execute_reply.started": "2024-05-28T14:32:26.018743Z"
    }
   },
   "outputs": [],
   "source": [
    "sigmaNfit[\"i\"] = sigmaN\n",
    "slopefit[\"i\"] = best_fit1.slope.value\n",
    "interceptfit[\"i\"] = best_fit1.intercept.value"
   ]
  },
  {
   "cell_type": "markdown",
   "id": "943991c9-41b5-4934-91b7-1fc4f17e0a0d",
   "metadata": {},
   "source": [
    "### Sky Background in z band"
   ]
  },
  {
   "cell_type": "code",
   "execution_count": null,
   "id": "37f4d68c-da1f-4a52-9844-7c0c0f74dcb6",
   "metadata": {
    "execution": {
     "iopub.status.busy": "2024-05-28T14:32:26.019240Z",
     "iopub.status.idle": "2024-05-28T14:32:26.019377Z",
     "shell.execute_reply": "2024-05-28T14:32:26.019312Z",
     "shell.execute_reply.started": "2024-05-28T14:32:26.019307Z"
    }
   },
   "outputs": [],
   "source": [
    "fig, ax = plt.subplots(1,1,figsize=(16,8),sharex=False)\n",
    "title = f\" $\\sigma$ in Calexp divided by $median$ in CalexpBackground in Auxtel, band z\"\n",
    "df_z.plot.scatter(x=\"Time\",y=\"sigmatoskybkg\",ax=ax,marker=\"o\",c=\"airmass\",cmap=\"jet\",rot=45,ylabel=\"ratio $\\sigma$/$median$\",title=title,grid=True)\n",
    "df_z.plot.scatter(x=\"Time\",y=\"sigmatoskybkg_max\",ax=ax,marker=\".\",color=\"k\",rot=45,label=\"electron statistics\",grid=True,lw=4)\n",
    "ax.xaxis.set_major_formatter(date_form)\n",
    "ax.set_yscale(\"log\")\n",
    "ax.axhline(1.,lw=2,color=\"r\",label=\"poissonnian limit\")\n",
    "ax.legend()\n",
    "ax.set_ylabel(\"sky background : $\\sigma_N/N$\")\n",
    "plt.suptitle(suptitle)\n",
    "figname = \"calexp_sigmaNbyN_bandZ_Auxtel.png\"\n",
    "plt.tight_layout()\n",
    "plt.savefig(figname)\n",
    "plt.show()"
   ]
  },
  {
   "cell_type": "code",
   "execution_count": null,
   "id": "c8b65240-76e9-44a8-8bba-ea68bbacd806",
   "metadata": {
    "execution": {
     "iopub.status.busy": "2024-05-28T14:32:26.019851Z",
     "iopub.status.idle": "2024-05-28T14:32:26.019991Z",
     "shell.execute_reply": "2024-05-28T14:32:26.019926Z",
     "shell.execute_reply.started": "2024-05-28T14:32:26.019920Z"
    }
   },
   "outputs": [],
   "source": [
    "fig, ax = plt.subplots(1,1,figsize=(16,8),sharex=False)\n",
    "title = f\" $\\sigma$ in Calexp divided by $median$ in CalexpBackground in Auxtel, band z\"\n",
    "df_z.plot.scatter(x=\"med_bkg\",y=\"sigmatoskybkg\",ax=ax,marker=\"o\",c=\"airmass\",cmap=\"jet\",rot=45,ylabel=\"ratio $\\sigma$/$median$\",title=title,grid=True)\n",
    "df_z.plot.scatter(x=\"med_bkg\",y=\"sigmatoskybkg_max\",ax=ax,marker=\".\",color=\"k\",rot=45,label=\"electron statistics\",grid=True,lw=4)\n",
    "\n",
    "ax.set_yscale(\"log\")\n",
    "ax.set_xscale(\"log\")\n",
    "ax.axhline(1.,lw=2,color=\"r\",label=\"poissonnian limit\")\n",
    "ax.legend()\n",
    "ax.set_ylim(1e-2,10)\n",
    "ax.set_ylabel(\"sky background : $\\sigma_N/N$\")\n",
    "plt.suptitle(suptitle)\n",
    "figname = \"calexp_sigmaNbyN_bandZ_Auxtel.png\"\n",
    "plt.tight_layout()\n",
    "plt.savefig(figname)\n",
    "plt.show()"
   ]
  },
  {
   "cell_type": "code",
   "execution_count": null,
   "id": "cad09069-3025-4b68-bef0-cb0b6980e798",
   "metadata": {},
   "outputs": [],
   "source": []
  },
  {
   "cell_type": "markdown",
   "id": "33af2e92-2f5a-434b-8fe6-31d9f8e07b0e",
   "metadata": {},
   "source": [
    "### Fit a straight line"
   ]
  },
  {
   "cell_type": "code",
   "execution_count": null,
   "id": "576c70bf-7bef-41c6-97a4-9cac63c74792",
   "metadata": {
    "execution": {
     "iopub.status.busy": "2024-05-28T14:32:26.020523Z",
     "iopub.status.idle": "2024-05-28T14:32:26.020665Z",
     "shell.execute_reply": "2024-05-28T14:32:26.020596Z",
     "shell.execute_reply.started": "2024-05-28T14:32:26.020590Z"
    }
   },
   "outputs": [],
   "source": [
    "X = df_z[\"med_bkg\"].apply(lambda x : np.log10(x))\n",
    "Y1 = df_z[\"sigmatoskybkg\"].apply(lambda x : np.log10(x))\n",
    "Y2 = df_z[\"sigmatoskybkg_max\"].apply(lambda x : np.log10(x))"
   ]
  },
  {
   "cell_type": "code",
   "execution_count": null,
   "id": "8d75507e-dcb4-434b-9360-b572be5e5766",
   "metadata": {
    "execution": {
     "iopub.status.busy": "2024-05-28T14:32:26.021068Z",
     "iopub.status.idle": "2024-05-28T14:32:26.021317Z",
     "shell.execute_reply": "2024-05-28T14:32:26.021141Z",
     "shell.execute_reply.started": "2024-05-28T14:32:26.021135Z"
    }
   },
   "outputs": [],
   "source": [
    "best_fit1 = fitter(model, X.values, Y1.values)\n",
    "best_fit2 = fitter(model, X.values, Y2.values)"
   ]
  },
  {
   "cell_type": "code",
   "execution_count": null,
   "id": "c2cdd95f-64dc-48b5-bdae-ee923707f83b",
   "metadata": {
    "execution": {
     "iopub.status.busy": "2024-05-28T14:32:26.021843Z",
     "iopub.status.idle": "2024-05-28T14:32:26.021986Z",
     "shell.execute_reply": "2024-05-28T14:32:26.021917Z",
     "shell.execute_reply.started": "2024-05-28T14:32:26.021911Z"
    }
   },
   "outputs": [],
   "source": [
    "best_fit1 "
   ]
  },
  {
   "cell_type": "code",
   "execution_count": null,
   "id": "d2c3efad-1600-46a4-87fc-238c4b337f5c",
   "metadata": {
    "execution": {
     "iopub.status.busy": "2024-05-28T14:32:26.022468Z",
     "iopub.status.idle": "2024-05-28T14:32:26.022613Z",
     "shell.execute_reply": "2024-05-28T14:32:26.022544Z",
     "shell.execute_reply.started": "2024-05-28T14:32:26.022538Z"
    }
   },
   "outputs": [],
   "source": [
    "sigmaN = np.power(10.,best_fit1.intercept.value) \n",
    "sigmaN "
   ]
  },
  {
   "cell_type": "code",
   "execution_count": null,
   "id": "486c81af-f7e5-43d5-b71a-59c61f85dc24",
   "metadata": {
    "execution": {
     "iopub.status.busy": "2024-05-28T14:32:26.022940Z",
     "iopub.status.idle": "2024-05-28T14:32:26.023074Z",
     "shell.execute_reply": "2024-05-28T14:32:26.023012Z",
     "shell.execute_reply.started": "2024-05-28T14:32:26.023006Z"
    }
   },
   "outputs": [],
   "source": [
    "sigmaNfit[\"z\"] = sigmaN\n",
    "slopefit[\"z\"] = best_fit1.slope.value\n",
    "interceptfit[\"z\"] = best_fit1.intercept.value"
   ]
  },
  {
   "cell_type": "markdown",
   "id": "a0514e64-9db9-40e0-a636-3f2c01320d75",
   "metadata": {},
   "source": [
    "### Sky Background in y band"
   ]
  },
  {
   "cell_type": "code",
   "execution_count": null,
   "id": "e54e1a69-c4f1-458f-b3a2-7eab4b53444c",
   "metadata": {
    "execution": {
     "iopub.status.busy": "2024-05-28T14:32:26.023391Z",
     "iopub.status.idle": "2024-05-28T14:32:26.023531Z",
     "shell.execute_reply": "2024-05-28T14:32:26.023469Z",
     "shell.execute_reply.started": "2024-05-28T14:32:26.023463Z"
    }
   },
   "outputs": [],
   "source": [
    "fig, ax = plt.subplots(1,1,figsize=(16,8),sharex=False)\n",
    "title = f\" $\\sigma$ in Calexp divided by $median$ in CalexpBackground in Auxtel, band y\"\n",
    "df_y.plot.scatter(x=\"Time\",y=\"sigmatoskybkg\",ax=ax,marker=\"o\",c=\"airmass\",cmap=\"jet\",rot=45,ylabel=\"ratio $\\sigma$/$median$\",title=title,grid=True)\n",
    "df_y.plot.scatter(x=\"Time\",y=\"sigmatoskybkg_max\",ax=ax,marker=\".\",color=\"k\",rot=45,label=\"electron statistics\",grid=True,lw=4)\n",
    "ax.xaxis.set_major_formatter(date_form)\n",
    "ax.set_yscale(\"log\")\n",
    "ax.axhline(1.,lw=2,color=\"r\",label=\"poissonnian limit\")\n",
    "ax.legend()\n",
    "ax.set_ylabel(\"sky background : $\\sigma_N/N$\")\n",
    "plt.suptitle(suptitle)\n",
    "figname = \"calexp_sigmaNbyN_bandY_Auxtel.png\"\n",
    "plt.tight_layout()\n",
    "plt.savefig(figname)\n",
    "plt.show()"
   ]
  },
  {
   "cell_type": "code",
   "execution_count": null,
   "id": "2b7a420a-26c8-486d-95fe-c203d6669ba8",
   "metadata": {
    "execution": {
     "iopub.status.busy": "2024-05-28T14:32:26.024174Z",
     "iopub.status.idle": "2024-05-28T14:32:26.024320Z",
     "shell.execute_reply": "2024-05-28T14:32:26.024249Z",
     "shell.execute_reply.started": "2024-05-28T14:32:26.024244Z"
    }
   },
   "outputs": [],
   "source": [
    "fig, ax = plt.subplots(1,1,figsize=(16,8),sharex=False)\n",
    "title = f\" $\\sigma$ in Calexp divided by $median$ in CalexpBackground in Auxtel, band y\"\n",
    "df_y.plot.scatter(x=\"med_bkg\",y=\"sigmatoskybkg\",ax=ax,marker=\"o\",c=\"airmass\",cmap=\"jet\",rot=45,ylabel=\"ratio $\\sigma$/$median$\",title=title,grid=True)\n",
    "df_y.plot.scatter(x=\"med_bkg\",y=\"sigmatoskybkg_max\",ax=ax,marker=\".\",color=\"k\",rot=45,label=\"electron statistics\",grid=True,lw=4)\n",
    "\n",
    "ax.set_yscale(\"log\")\n",
    "ax.set_xscale(\"log\")\n",
    "ax.axhline(1.,lw=2,color=\"r\",label=\"poissonnian limit\")\n",
    "ax.legend()\n",
    "ax.set_ylim(1e-2,10)\n",
    "ax.set_ylabel(\"sky background : $\\sigma_N/N$\")\n",
    "plt.suptitle(suptitle)\n",
    "figname = \"calexp_sigmaNbyN_bandY_Auxtel.png\"\n",
    "plt.tight_layout()\n",
    "plt.savefig(figname)\n",
    "plt.show()"
   ]
  },
  {
   "cell_type": "markdown",
   "id": "f445d9c3-c6dc-41fb-a513-43c54d1506d1",
   "metadata": {},
   "source": [
    "### Fit a straight line"
   ]
  },
  {
   "cell_type": "code",
   "execution_count": null,
   "id": "35d11307-0ee1-4413-9fa8-389c9228633b",
   "metadata": {
    "execution": {
     "iopub.status.busy": "2024-05-28T14:32:26.024861Z",
     "iopub.status.idle": "2024-05-28T14:32:26.025000Z",
     "shell.execute_reply": "2024-05-28T14:32:26.024936Z",
     "shell.execute_reply.started": "2024-05-28T14:32:26.024930Z"
    }
   },
   "outputs": [],
   "source": [
    "X = df_y[\"med_bkg\"].apply(lambda x : np.log10(x))\n",
    "Y1 = df_y[\"sigmatoskybkg\"].apply(lambda x : np.log10(x))\n",
    "Y2 = df_y[\"sigmatoskybkg_max\"].apply(lambda x : np.log10(x))"
   ]
  },
  {
   "cell_type": "code",
   "execution_count": null,
   "id": "bbe9ee4b-dd46-4685-8fdc-334089dca2b2",
   "metadata": {
    "execution": {
     "iopub.status.busy": "2024-05-28T14:32:26.025515Z",
     "iopub.status.idle": "2024-05-28T14:32:26.025658Z",
     "shell.execute_reply": "2024-05-28T14:32:26.025588Z",
     "shell.execute_reply.started": "2024-05-28T14:32:26.025582Z"
    }
   },
   "outputs": [],
   "source": [
    "best_fit1 = fitter(model, X.values, Y1.values)\n",
    "best_fit2 = fitter(model, X.values, Y2.values)"
   ]
  },
  {
   "cell_type": "code",
   "execution_count": null,
   "id": "1a3ee39b-d4d6-4b9a-b203-92ac1275ec8c",
   "metadata": {
    "execution": {
     "iopub.status.busy": "2024-05-28T14:32:26.026147Z",
     "iopub.status.idle": "2024-05-28T14:32:26.026291Z",
     "shell.execute_reply": "2024-05-28T14:32:26.026221Z",
     "shell.execute_reply.started": "2024-05-28T14:32:26.026215Z"
    }
   },
   "outputs": [],
   "source": [
    "best_fit1"
   ]
  },
  {
   "cell_type": "code",
   "execution_count": null,
   "id": "3bbc927c-5318-462d-b255-3e615168d2aa",
   "metadata": {
    "execution": {
     "iopub.status.busy": "2024-05-28T14:32:26.026610Z",
     "iopub.status.idle": "2024-05-28T14:32:26.026743Z",
     "shell.execute_reply": "2024-05-28T14:32:26.026682Z",
     "shell.execute_reply.started": "2024-05-28T14:32:26.026676Z"
    }
   },
   "outputs": [],
   "source": [
    "sigmaN = np.power(10.,best_fit1.intercept.value) \n",
    "sigmaN "
   ]
  },
  {
   "cell_type": "code",
   "execution_count": null,
   "id": "dd29e0d4-0e38-4264-bbd5-ab5641ac3906",
   "metadata": {
    "execution": {
     "iopub.status.busy": "2024-05-28T14:32:26.027058Z",
     "iopub.status.idle": "2024-05-28T14:32:26.027188Z",
     "shell.execute_reply": "2024-05-28T14:32:26.027127Z",
     "shell.execute_reply.started": "2024-05-28T14:32:26.027122Z"
    }
   },
   "outputs": [],
   "source": [
    "sigmaNfit[\"y\"] = sigmaN\n",
    "slopefit[\"y\"] = best_fit1.slope.value\n",
    "interceptfit[\"y\"] = best_fit1.intercept.value"
   ]
  },
  {
   "cell_type": "markdown",
   "id": "4cbef1b8-7cca-4ee8-9d75-081d85445248",
   "metadata": {},
   "source": [
    "## Summary"
   ]
  },
  {
   "cell_type": "code",
   "execution_count": null,
   "id": "e757cd72-456d-430d-b36b-cba2f690edf5",
   "metadata": {
    "execution": {
     "iopub.status.busy": "2024-05-28T14:32:26.027739Z",
     "iopub.status.idle": "2024-05-28T14:32:26.027882Z",
     "shell.execute_reply": "2024-05-28T14:32:26.027813Z",
     "shell.execute_reply.started": "2024-05-28T14:32:26.027807Z"
    }
   },
   "outputs": [],
   "source": [
    "df1 = pd.DataFrame(slopefit, index=['slope']).round(4)\n",
    "df2 = pd.DataFrame(interceptfit, index=['intercept']).round(4)\n",
    "df3 = pd.DataFrame(sigmaNfit, index=['sigmaN']).round(4)"
   ]
  },
  {
   "cell_type": "code",
   "execution_count": null,
   "id": "2ce57e74-b3a5-4a84-805e-8a845e5e59c5",
   "metadata": {
    "execution": {
     "iopub.status.busy": "2024-05-28T14:32:26.028234Z",
     "iopub.status.idle": "2024-05-28T14:32:26.028366Z",
     "shell.execute_reply": "2024-05-28T14:32:26.028304Z",
     "shell.execute_reply.started": "2024-05-28T14:32:26.028297Z"
    }
   },
   "outputs": [],
   "source": [
    "df_fit = pd.concat([df1,df2,df3])"
   ]
  },
  {
   "cell_type": "code",
   "execution_count": null,
   "id": "a26bc19d-4b46-473e-88f3-fb1658ac62ca",
   "metadata": {
    "execution": {
     "iopub.status.busy": "2024-05-28T14:32:26.028970Z",
     "iopub.status.idle": "2024-05-28T14:32:26.029116Z",
     "shell.execute_reply": "2024-05-28T14:32:26.029046Z",
     "shell.execute_reply.started": "2024-05-28T14:32:26.029039Z"
    }
   },
   "outputs": [],
   "source": [
    "df_fit"
   ]
  },
  {
   "cell_type": "code",
   "execution_count": null,
   "id": "c67c485a-1c2b-4f60-afe9-6188f71f2133",
   "metadata": {
    "execution": {
     "iopub.status.busy": "2024-05-28T14:32:26.029511Z",
     "iopub.status.idle": "2024-05-28T14:32:26.029648Z",
     "shell.execute_reply": "2024-05-28T14:32:26.029584Z",
     "shell.execute_reply.started": "2024-05-28T14:32:26.029578Z"
    }
   },
   "outputs": [],
   "source": [
    "df_fit.transpose()"
   ]
  },
  {
   "cell_type": "code",
   "execution_count": null,
   "id": "b9882aa9-f987-4128-a166-ce5c48101581",
   "metadata": {
    "execution": {
     "iopub.status.busy": "2024-05-28T14:32:26.029978Z",
     "iopub.status.idle": "2024-05-28T14:32:26.030121Z",
     "shell.execute_reply": "2024-05-28T14:32:26.030048Z",
     "shell.execute_reply.started": "2024-05-28T14:32:26.030043Z"
    }
   },
   "outputs": [],
   "source": [
    "df_fit.transpose().to_html()"
   ]
  },
  {
   "cell_type": "code",
   "execution_count": null,
   "id": "785cb050-9148-4a85-8b6d-860d8211ab65",
   "metadata": {
    "execution": {
     "iopub.status.busy": "2024-05-28T14:32:26.030707Z",
     "iopub.status.idle": "2024-05-28T14:32:26.030853Z",
     "shell.execute_reply": "2024-05-28T14:32:26.030782Z",
     "shell.execute_reply.started": "2024-05-28T14:32:26.030776Z"
    }
   },
   "outputs": [],
   "source": [
    "df_fit.transpose().to_latex()"
   ]
  },
  {
   "cell_type": "code",
   "execution_count": null,
   "id": "86b351c3-5b99-4bff-b234-cdcc6c1d5492",
   "metadata": {},
   "outputs": [],
   "source": []
  }
 ],
 "metadata": {
  "kernelspec": {
   "display_name": "LSST",
   "language": "python",
   "name": "lsst"
  },
  "language_info": {
   "codemirror_mode": {
    "name": "ipython",
    "version": 3
   },
   "file_extension": ".py",
   "mimetype": "text/x-python",
   "name": "python",
   "nbconvert_exporter": "python",
   "pygments_lexer": "ipython3",
   "version": "3.11.7"
  }
 },
 "nbformat": 4,
 "nbformat_minor": 5
}
