{
 "cells": [
  {
   "cell_type": "markdown",
   "id": "45bf4242-bfc5-4d43-88c4-a8059ae148df",
   "metadata": {},
   "source": [
    "# View Calexp Stats on row columns from Selected visits in LSSTComCamSim"
   ]
  },
  {
   "cell_type": "markdown",
   "id": "01993b6e-6438-4fca-a5d5-1f9791336847",
   "metadata": {},
   "source": [
    "- author Sylvie Dagoret-Campagne\n",
    "- creation date 2024-05-19\n",
    "- last update 2024-05-19\n",
    "- affiliation : IJCLab\n",
    "- kernel : **w_2024_16**"
   ]
  },
  {
   "cell_type": "markdown",
   "id": "f16a96fe-13e3-4041-b288-d0452ea6c526",
   "metadata": {},
   "source": [
    "``Quantum Graphs``: https://tigress-web.princeton.edu/~lkelvin/pipelines/ \n",
    "\n",
    "``CalibrateTask``: \n",
    "https://github.com/lsst/pipe_tasks/blob/main/python/lsst/pipe/tasks/calibrate.py#L392-L399\n",
    "\n",
    "\n",
    "``Shemas``:\n",
    "https://dm.lsst.org/sdm_schemas/browser/"
   ]
  },
  {
   "cell_type": "code",
   "execution_count": null,
   "id": "bf752b70-e6ca-4cbf-8e8c-20bf7f0d8f61",
   "metadata": {},
   "outputs": [],
   "source": [
    "import numpy as np\n",
    "import matplotlib.pyplot as plt\n",
    "%matplotlib inline\n",
    "from mpl_toolkits.axes_grid1 import make_axes_locatable\n",
    "from matplotlib.colors import LogNorm,SymLogNorm\n",
    "import matplotlib.gridspec as gridspec\n",
    "props = dict(boxstyle='round', facecolor='wheat', alpha=0.5)\n",
    "import matplotlib.ticker                         # here's where the formatter is\n",
    "from matplotlib.ticker import (MultipleLocator, FormatStrFormatter,\n",
    "                               AutoMinorLocator)\n",
    "\n",
    "from astropy.visualization import (MinMaxInterval, SqrtStretch,ZScaleInterval,PercentileInterval,\n",
    "                                   ImageNormalize,imshow_norm)\n",
    "from astropy.visualization.stretch import SinhStretch, LinearStretch,AsinhStretch,LogStretch\n",
    "\n",
    "from astropy.io import fits\n",
    "from astropy.wcs import WCS\n",
    "\n",
    "\n",
    "import pandas as pd\n",
    "\n",
    "import matplotlib.ticker                         # here's where the formatter is\n",
    "import os\n",
    "import re\n",
    "import pandas as pd\n",
    "import pickle\n",
    "from collections import OrderedDict\n",
    "\n",
    "plt.rcParams[\"figure.figsize\"] = (4,3)\n",
    "plt.rcParams[\"axes.labelsize\"] = 'xx-large'\n",
    "plt.rcParams['axes.titlesize'] = 'xx-large'\n",
    "plt.rcParams['xtick.labelsize']= 'xx-large'\n",
    "plt.rcParams['ytick.labelsize']= 'xx-large'"
   ]
  },
  {
   "cell_type": "code",
   "execution_count": null,
   "id": "5bdc790b-44bc-4f52-96d1-952f86dcd516",
   "metadata": {},
   "outputs": [],
   "source": [
    "import gc"
   ]
  },
  {
   "cell_type": "code",
   "execution_count": null,
   "id": "0ca0d1e6-5f82-4c43-aaa3-8524fc2bc5ba",
   "metadata": {},
   "outputs": [],
   "source": [
    "from matplotlib.ticker import (MultipleLocator, FormatStrFormatter,\n",
    "                               AutoMinorLocator)\n",
    "\n",
    "from astropy.visualization import (MinMaxInterval, SqrtStretch,ZScaleInterval,PercentileInterval,\n",
    "                                   ImageNormalize,imshow_norm)\n",
    "from astropy.visualization.stretch import SinhStretch, LinearStretch,AsinhStretch,LogStretch\n",
    "\n",
    "from astropy.time import Time\n"
   ]
  },
  {
   "cell_type": "code",
   "execution_count": null,
   "id": "51ddfce4-9a0f-4804-bc6a-7f9138874f16",
   "metadata": {},
   "outputs": [],
   "source": [
    "import lsst.daf.butler as dafButler\n",
    "#import lsst.summit.utils.butlerUtils as butlerUtils"
   ]
  },
  {
   "cell_type": "code",
   "execution_count": null,
   "id": "34f037b5-b6a2-4f93-b86b-a6108d8a5ea7",
   "metadata": {},
   "outputs": [],
   "source": [
    "import lsst.afw.image as afwImage\n",
    "import lsst.afw.display as afwDisplay\n",
    "import lsst.afw.table as afwTable\n",
    "import lsst.geom as geom"
   ]
  },
  {
   "cell_type": "code",
   "execution_count": null,
   "id": "7f26c627-fc82-4f60-8e0a-c25657f092f9",
   "metadata": {},
   "outputs": [],
   "source": [
    "# LSST Display\n",
    "import lsst.afw.display as afwDisplay\n",
    "afwDisplay.setDefaultBackend('matplotlib')"
   ]
  },
  {
   "cell_type": "code",
   "execution_count": null,
   "id": "aba2cfa4-809a-4f1c-8e8f-9f81547e0b5e",
   "metadata": {},
   "outputs": [],
   "source": [
    "transform = AsinhStretch() + PercentileInterval(99.)"
   ]
  },
  {
   "cell_type": "markdown",
   "id": "c25aa2ef-415f-40aa-9963-3315487aef81",
   "metadata": {},
   "source": [
    "### Import rubinsimphot"
   ]
  },
  {
   "cell_type": "code",
   "execution_count": null,
   "id": "cf305cd6-dca9-4a47-8c82-8320cc6205de",
   "metadata": {},
   "outputs": [],
   "source": [
    "machine_name = os.uname().nodename\n",
    "path_rubinsimphot = \"repos/repos_w_2024_17/rubinsimphot/src\"\n",
    "if 'sdf' in machine_name:\n",
    "    #machine_name_usdf = 'sdfrome001'\n",
    "    print(\"Set environment for USDF\")\n",
    "    newpythonpath = os.path.join(os.getenv(\"HOME\"),path_rubinsimphot)\n",
    "    sys.path.append(newpythonpath)\n",
    "elif 'dagoret-nb' in machine_name:\n",
    "    print(\"Set environment for USDF Rubin Science Platform\")\n",
    "    newpythonpath = os.path.join(os.getenv(\"HOME\"),path_rubinsimphot)\n",
    "    sys.path.append(newpythonpath)    \n",
    "elif 'mac' in machine_name:\n",
    "    print(\"Be sure to run this notebook in conda environment named conda_py310\")\n",
    "else:\n",
    "    print(f\"Your current machine name is {machine_name}. Check your python environment\")"
   ]
  },
  {
   "cell_type": "code",
   "execution_count": null,
   "id": "adf38cf5-991b-4392-bdb1-0269904b9af9",
   "metadata": {},
   "outputs": [],
   "source": [
    "from rubinsimphot.phot_utils import Bandpass, Sed\n",
    "from rubinsimphot.data import get_data_dir"
   ]
  },
  {
   "cell_type": "code",
   "execution_count": null,
   "id": "5667f624-2ead-4208-8d3e-f0864406faab",
   "metadata": {},
   "outputs": [],
   "source": [
    "fdir = get_data_dir()\n",
    "path_rubin_sim_throughput = os.path.join(fdir, 'throughputs', 'baseline')"
   ]
  },
  {
   "cell_type": "code",
   "execution_count": null,
   "id": "17df76f4-eed0-4ef9-b3f1-33d457a41ef7",
   "metadata": {},
   "outputs": [],
   "source": [
    "import sys\n",
    "sys.path.append('../lib')\n",
    "# This package encapsulate the calculation on calibration used in this nb\n",
    "from libPhotometricCorrections import *"
   ]
  },
  {
   "cell_type": "code",
   "execution_count": null,
   "id": "28544017-1a3d-4f8d-9183-d5fdd447450c",
   "metadata": {},
   "outputs": [],
   "source": [
    "from importlib.metadata import version\n",
    "the_ver = version('getObsAtmo')\n",
    "print(f\"Version of getObsAtmo : {the_ver}\")"
   ]
  },
  {
   "cell_type": "code",
   "execution_count": null,
   "id": "5a10535a-5e20-4fa8-8f96-ef7e1e2b93f9",
   "metadata": {},
   "outputs": [],
   "source": [
    "from getObsAtmo import ObsAtmo\n",
    "emul_atm = ObsAtmo()"
   ]
  },
  {
   "cell_type": "code",
   "execution_count": null,
   "id": "4c2d069e-d38f-4279-8f67-42555edcaf8f",
   "metadata": {},
   "outputs": [],
   "source": [
    "WL = emul_atm.GetWL()"
   ]
  },
  {
   "cell_type": "code",
   "execution_count": null,
   "id": "d6505514-0f9a-461a-bd10-e3bc814afe70",
   "metadata": {},
   "outputs": [],
   "source": [
    "am0 =1.20    # airmass\n",
    "pwv0 = 5.0  # Precipitable water vapor vertical column depth in mm\n",
    "oz0 = 300.  # Ozone vertical column depth in Dobson Unit (DU)\n",
    "ncomp=1     # Number of aerosol components\n",
    "tau0= 0.04 # Vertical Aerosol depth (VAOD) \n",
    "beta0 = 1.2 # Aerosol Angstrom exponent\n",
    "pc = PhotometricCorrections(am0,pwv0,oz0,tau0,beta0)"
   ]
  },
  {
   "cell_type": "code",
   "execution_count": null,
   "id": "376df3ac-b8d2-4479-98b7-9823f765f3d8",
   "metadata": {},
   "outputs": [],
   "source": [
    "all_Sigb = {}\n",
    "\n",
    "for index,f in enumerate(filter_tagnames): \n",
    "    wl = pc.bandpass_inst[f].wavelen\n",
    "    tr = pc.bandpass_inst[f].sb\n",
    "    Sigb = np.trapz(tr/wl,wl)\n",
    "    all_Sigb[f] = Sigb "
   ]
  },
  {
   "cell_type": "code",
   "execution_count": null,
   "id": "3f323762-8b61-4897-9016-65172acf6910",
   "metadata": {},
   "outputs": [],
   "source": [
    "pd.DataFrame(all_Sigb, index=['Sigmab']).round(4)"
   ]
  },
  {
   "cell_type": "markdown",
   "id": "351e0468-d4f5-4c9e-b3db-1263499470cc",
   "metadata": {},
   "source": [
    "## Import statements that we will need later"
   ]
  },
  {
   "cell_type": "markdown",
   "id": "5db4beba-3082-4754-8e70-26472f1c226c",
   "metadata": {},
   "source": [
    "Let's make a new plot and metric tool, we'll base it on the example in the getting started guide."
   ]
  },
  {
   "cell_type": "code",
   "execution_count": null,
   "id": "34704128-99bd-4655-864d-9af362aa9560",
   "metadata": {},
   "outputs": [],
   "source": [
    "# INSERT YOUR collection and tract\n",
    "# for rehearsal use collection 2 which have CCDvisit\n",
    "butlerRoot = \"/repo/embargo\"\n",
    "\n",
    "collection1 = 'LSSTComCamSim/runs/nightlyvalidation/20240402/d_2024_03_29/DM-43612'\n",
    "collection2 = 'LSSTComCamSim/runs/nightlyvalidation/20240403/d_2024_03_29/DM-43612'\n",
    "collection3 = 'LSSTComCamSim/runs/nightlyvalidation/20240404/d_2024_03_29/DM-43612'\n",
    "#collection = 'LATISS/runs/AUXTEL_DRP_IMAGING_20230509_20240311/w_2024_10/PREOPS-4985'\n",
    "collection = 'LATISS/runs/AUXTEL_DRP_IMAGING_20230509_20240414/w_2024_15/PREOPS-5069' # COMPLETED\n",
    "collectionn = collection2\n",
    "#collections = [collection1,collection2,collection3]\n",
    "collections = [collection2]\n",
    "collectionStr = collectionn.replace(\"/\", \"_\")\n",
    "fn_ccdVisit_tracts_patches = f\"ccdVisittractpatch_{collectionStr}.csv\"\n",
    "instrument = 'LSSTComCamSim'\n",
    "skymapName = \"ops_rehersal_prep_2k_v1\"\n",
    "where_clause = \"instrument = \\'\" + instrument+ \"\\'\"\n",
    "NDET = 9\n",
    "suptitle=  collectionStr\n",
    "\n",
    "tract = 9880 # mostly for light-curves\n",
    "detector = 0\n",
    "band = 'g'\n",
    "\n",
    "suptitle = collectionStr + f\" inst = {instrument} tract = {tract}\"\n"
   ]
  },
  {
   "cell_type": "code",
   "execution_count": null,
   "id": "3048e2e2-2489-43e0-a96d-848c548700cb",
   "metadata": {},
   "outputs": [],
   "source": [
    "#dataId = {\"skymap\": \"latiss_v1\", \"tract\": 5615, \"instrument\": \"LATISS\"}\n",
    "dataId = {\"skymap\": skymapName, \"tract\": tract, \"instrument\": instrument}\n",
    "repo = '/sdf/group/rubin/repo/oga/'\n",
    "butler = dafButler.Butler(repo)\n",
    "#t = Butler.get(table_sel, dataId=dataId, collections=collections)\n",
    "registry = butler.registry"
   ]
  },
  {
   "cell_type": "code",
   "execution_count": null,
   "id": "d87b3bde-871f-4eba-87f7-1ee1ade704c5",
   "metadata": {},
   "outputs": [],
   "source": [
    "skymap = butler.get('skyMap', skymap=skymapName, collections=collections)"
   ]
  },
  {
   "cell_type": "code",
   "execution_count": null,
   "id": "f9a004b6-49ea-4c8f-b2df-e068fd55f673",
   "metadata": {},
   "outputs": [],
   "source": [
    "def remove_figure(fig):\n",
    "    \"\"\"\n",
    "    Remove a figure to reduce memory footprint.\n",
    "\n",
    "    Parameters\n",
    "    ----------\n",
    "    fig: matplotlib.figure.Figure\n",
    "        Figure to be removed.\n",
    "\n",
    "    Returns\n",
    "    -------\n",
    "    None\n",
    "    \"\"\"\n",
    "    # get the axes and clear their images\n",
    "    for ax in fig.get_axes():\n",
    "        for im in ax.get_images():\n",
    "            im.remove()\n",
    "    fig.clf()       # clear the figure\n",
    "    plt.close(fig)  # close the figure\n",
    "    gc.collect()    # call the garbage collector"
   ]
  },
  {
   "cell_type": "code",
   "execution_count": null,
   "id": "217d9116-61a1-4ab3-9ba4-4cc8668956e8",
   "metadata": {},
   "outputs": [],
   "source": [
    "def get_corners_radec(wcs, bbox):\n",
    "    \"\"\"\n",
    "    Return the corners in RA,Dec in degrees given the WCS and bounding box for an image.\n",
    "\n",
    "    Parameters\n",
    "    ----------\n",
    "    wcs: image WCS returned by the Butler\n",
    "    bbox: bounding box returned by the Butler\n",
    "\n",
    "    Returns\n",
    "    -------\n",
    "    corners_ra, corners_dec in decimal degrees\n",
    "    \"\"\"\n",
    "\n",
    "    corners_x = [bbox.beginX, bbox.beginX, bbox.endX, bbox.endX]\n",
    "    corners_y = [bbox.beginY, bbox.endY, bbox.endY, bbox.beginY]\n",
    "    corners_ra = []\n",
    "    corners_dec = []\n",
    "    for i in range(4):\n",
    "        radec = wcs.pixelToSky(corners_x[i], corners_y[i])\n",
    "        corners_ra.append(radec.getRa().asDegrees())\n",
    "        corners_dec.append(radec.getDec().asDegrees())\n",
    "    \n",
    "    return corners_ra, corners_dec"
   ]
  },
  {
   "cell_type": "markdown",
   "id": "d35e425b-3b5a-4c63-a464-ad97ded0dfe6",
   "metadata": {
    "execution": {
     "iopub.execute_input": "2024-05-16T07:44:32.094591Z",
     "iopub.status.busy": "2024-05-16T07:44:32.094317Z",
     "iopub.status.idle": "2024-05-16T07:44:32.098335Z",
     "shell.execute_reply": "2024-05-16T07:44:32.097895Z",
     "shell.execute_reply.started": "2024-05-16T07:44:32.094577Z"
    }
   },
   "source": [
    "$$\n",
    "m_{AB} = -2.5 \\log_{10}(F_\\nu(nJ) + 31.4\n",
    "$$\n",
    "\n",
    "\n",
    "Proof\n",
    "$$\n",
    "m_{AB} = -2.5 \\log_{10}\\left(\\frac{F_\\nu}{1nJ}\\right) - 2.5 \\log_{10} \\frac{1nJ}{3616 Jy}\n",
    "$$\n",
    "\n",
    "\n",
    "$$\n",
    "m_{AB} = -2.5 \\log_{10}\\left(\\frac{F_\\nu}{1nJ}\\right) + 2.5 \\log_{10} (3616 \\times 10^9)\n",
    "$$\n",
    "\n",
    "$$\n",
    "m_{AB} = -2.5 \\log_{10}\\left(\\frac{F_\\nu}{1nJ}\\right) + 31.4\n",
    "$$\n"
   ]
  },
  {
   "cell_type": "code",
   "execution_count": null,
   "id": "81240109-5d2e-4829-82dc-dddc9d4cda05",
   "metadata": {},
   "outputs": [],
   "source": [
    "def convert_fluxtomag(x) :\n",
    "    \"\"\"\n",
    "    The object and source catalogs store only fluxes. There are hundreds of flux-related columns, \n",
    "    and to store them also as magnitudes would be redundant, and a waste of space.\n",
    "    All flux units are nanojanskys. The AB Magnitudes Wikipedia page provides a concise resource \n",
    "    for users unfamiliar with AB magnitudes and jansky fluxes. To convert to AB magnitudes use:\n",
    "    As demonstrated in Section 2.3.2, to add columns of magnitudes after retrieving columns of flux, users can do this:\n",
    "    results_table['r_calibMag'] = -2.50 * numpy.log10(results_table['r_calibFlux']) + 31.4\n",
    "    results_table['r_cModelMag'] = -2.50 * numpy.log10(results_table['r_cModelFlux']) + 31.4\n",
    "    (from DP0 tutorial)\n",
    "    \"\"\"\n",
    "    return -2.50 * np.log10(x) + 31.4"
   ]
  },
  {
   "cell_type": "markdown",
   "id": "06424808-67d0-45bc-aae3-d8284363b7b7",
   "metadata": {},
   "source": [
    "## Get pixel scale"
   ]
  },
  {
   "cell_type": "code",
   "execution_count": null,
   "id": "5cec8b2e-241d-439e-bfc1-70d902fcbbee",
   "metadata": {},
   "outputs": [],
   "source": [
    "import lsst.geom as geom\n",
    "import lsst.sphgeom\n",
    "\n",
    "skymap = butler.get('skyMap', skymap=skymapName, collections=collections )\n",
    "tractInfo = skymap.generateTract(tract)\n",
    "for patch in tractInfo:    \n",
    "    patchID = patch.getSequentialIndex()\n",
    "        \n",
    "    ibb=patch.getInnerBBox()\n",
    "    tWCS=tractInfo.getWcs()\n",
    "       \n",
    "    # loop on the 4 corners\n",
    "    for icorn,corner in enumerate(ibb.getCorners()):\n",
    "        p = geom.Point2D(corner.getX(), corner.getY())\n",
    "        coord = tWCS.pixelToSky(p)\n"
   ]
  },
  {
   "cell_type": "code",
   "execution_count": null,
   "id": "412b882e-68f3-4b46-8283-6bdad7bf4464",
   "metadata": {},
   "outputs": [],
   "source": [
    "tWCS"
   ]
  },
  {
   "cell_type": "code",
   "execution_count": null,
   "id": "2df2b74e-4069-4f4a-9519-99584abbd760",
   "metadata": {},
   "outputs": [],
   "source": [
    "#arcsec/pixel\n",
    "pixel_scale = tWCS.getPixelScale().asArcseconds()"
   ]
  },
  {
   "cell_type": "markdown",
   "id": "35b5b65f-a6ca-4e98-a54c-d72cf3f5ca89",
   "metadata": {},
   "source": [
    "## Selected visits"
   ]
  },
  {
   "cell_type": "code",
   "execution_count": null,
   "id": "817f7633-e942-4c18-aea6-687c19b5e694",
   "metadata": {},
   "outputs": [],
   "source": [
    "if 1:\n",
    "    # get the csv file produced by stat_on_visits_LSSTAuxtel.ipynb in ../Visits\n",
    "    #file_selected_visits = \"../Visits/ccdVisittractpatch_LATISS_runs_AUXTEL_DRP_IMAGING_20230509_20240311_w_2024_10_PREOPS-4985.csv\"\n",
    "    file_selected_visits = os.path.join(\"../Visits\",fn_ccdVisit_tracts_patches)\n",
    "    \n",
    "    df_myselectedvisits = pd.read_csv(file_selected_visits,index_col=0)\n",
    "\n",
    "    # select the band\n",
    "    #cut = (df_myselectedvisits.band == band) &  (df_myselectedvisits.tractID == tract) & (df_myselectedvisits.patchID == patch_sel)\n",
    "    #df_myselectedvisits = df_myselectedvisits[cut]\n",
    "\n",
    "    cut = (df_myselectedvisits.band == band) &  (df_myselectedvisits.tractID == tract) & (df_myselectedvisits.detector == detector)\n",
    "    df_myselectedvisits = df_myselectedvisits[cut]\n",
    "\n",
    "    \n",
    "    #move the visitid as a column not to loose it during the merge \n",
    "    df_myselectedvisits.reset_index(inplace=True) \n"
   ]
  },
  {
   "cell_type": "code",
   "execution_count": null,
   "id": "bff3d040-2c91-4d12-a698-45766955841c",
   "metadata": {},
   "outputs": [],
   "source": [
    "index = 10\n",
    "visitId = df_myselectedvisits.iloc[index]['visitId']"
   ]
  },
  {
   "cell_type": "markdown",
   "id": "0c0a7440-40af-4927-a4df-3fb16ab52f6b",
   "metadata": {},
   "source": [
    "Note here:\n",
    "- zeroPoint is in ABMag relative to a flux of 1ADU/sec\n",
    "- skyBg is in ADU \n",
    "- skyNoise is in ADU "
   ]
  },
  {
   "cell_type": "code",
   "execution_count": null,
   "id": "a5053bfc-79e0-4792-8b72-0f94bdc0f149",
   "metadata": {},
   "outputs": [],
   "source": [
    "df_myselectedvisits.iloc[index]"
   ]
  },
  {
   "cell_type": "code",
   "execution_count": null,
   "id": "a1dcffb9-3d8a-4317-a993-234c759b99c5",
   "metadata": {},
   "outputs": [],
   "source": [
    "index = 0\n",
    "visitId = df_myselectedvisits.iloc[index]['visitId']\n",
    "dataId = {'visit': visitId, 'instrument':instrument , 'detector': 0}"
   ]
  },
  {
   "cell_type": "code",
   "execution_count": null,
   "id": "3abc3c99-82b2-4918-913f-45aac1f99176",
   "metadata": {},
   "outputs": [],
   "source": []
  },
  {
   "cell_type": "code",
   "execution_count": null,
   "id": "92832ba5-ebc9-4f2a-98be-6efc3268f12d",
   "metadata": {},
   "outputs": [],
   "source": [
    "def getvmivmaxfromimg(arr):\n",
    "    data_flat = arr.flatten()\n",
    "    med = np.median(data_flat)\n",
    "    sigMad = 1.4826 * np.median(np.fabs(data_flat - med))\n",
    "    vmin = med - 5 * sigMad\n",
    "    vmax = med + 5 * sigMad\n",
    "    return vmin,vmax"
   ]
  },
  {
   "cell_type": "markdown",
   "id": "d34741d9-247b-434d-82e0-1434a054d3f4",
   "metadata": {},
   "source": [
    "## The Calexp"
   ]
  },
  {
   "cell_type": "code",
   "execution_count": null,
   "id": "b7606983-4a6d-4d18-b47e-5fca1ec9b7d5",
   "metadata": {},
   "outputs": [],
   "source": [
    "datasetType = \"calexp\""
   ]
  },
  {
   "cell_type": "code",
   "execution_count": null,
   "id": "54584783-9667-4807-a30a-6acd0252063d",
   "metadata": {},
   "outputs": [],
   "source": [
    "calexp = butler.get('calexp', **dataId,collections=collections)\n",
    "bkgd  = butler.get('calexpBackground', **dataId,collections=collections)\n",
    "# get the calibration constant  : expo_photocalibconstant_mean in nJ per ADU. To convert it in AB-Mag : convert_fluxtomag(expo_photocalibconstant_mean) --> zero point\n",
    "calexp_info = calexp.getInfo()\n",
    "photocalib = calexp_info.getPhotoCalib()\n",
    "expo_photocalibconstant_mean = photocalib.getCalibrationMean()\n",
    "\n",
    "mask = calexp.mask.array\n",
    "the_mask = np.where(mask==0,1,0)\n",
    "img = calexp.getImage()\n",
    "vmin,vmax = getvmivmaxfromimg(img.array)\n",
    "\n",
    "#data_flat = img.array.flatten()\n",
    "# here we use the masking\n",
    "data_flat = (img.array*the_mask).flatten()\n",
    "data_flat_nozero = data_flat[~(data_flat==0)]\n",
    "mu = np.mean(data_flat_nozero)\n",
    "med = np.median(data_flat_nozero)\n",
    "std = np.std(data_flat_nozero)\n",
    "sigMad = 1.4826 * np.median(np.fabs(data_flat_nozero - med))\n",
    "vmin = med - 3 * sigMad\n",
    "vmax = med + 3 * sigMad\n",
    "\n",
    "textstr = '\\n'.join((\n",
    "r'$photoCalib=%.2f nJ/ADU$' % (expo_photocalibconstant_mean, ),\n",
    "r'$\\mu=%.2f$ ADU/pix' % (mu, ),\n",
    "r'$\\mathrm{med}=%.2f$ ADU/pix' % (med, ),\n",
    "r'$\\mathrm{RMS}=%.2f$ ADU/pix' % (std, ),\n",
    "#r'$\\mathrm{med}_{calib}=%.2f$ mag/arcsec2' % (convert_fluxtomag(med*expo_photocalibconstant_mean/pixel_scale**2), ),\n",
    "r'$\\sigma=%.2f$ ADU/pix' % (sigMad, ),\n",
    "r'$\\sigma_{calib}=%.1f$ mag/arcsec2' % (convert_fluxtomag(sigMad*expo_photocalibconstant_mean/pixel_scale**2), ),))\n",
    "#r'$photoCalib=%.2f nJ/ADU$' % (expo_photocalibconstant_mean, ),))"
   ]
  },
  {
   "cell_type": "code",
   "execution_count": null,
   "id": "c54700f5-c04c-408c-8b7b-6cac466e295c",
   "metadata": {},
   "outputs": [],
   "source": [
    "fig = plt.figure(figsize=(5,7),constrained_layout=True)\n",
    "\n",
    "gs = gridspec.GridSpec(2, 1, figure=fig,height_ratios=[3,1])\n",
    "ax = fig.add_subplot(gs[0])\n",
    "\n",
    "im=ax.imshow(img.array, origin=\"lower\",vmin=vmin, vmax=vmax, cmap=\"gray\")\n",
    "divider = make_axes_locatable(ax)\n",
    "cax = divider.append_axes(\"right\", size=\"5%\", pad=0.05)\n",
    "the_title = f\"Calexp : visit = {visitId}, band = {band}\"\n",
    "ax.set_title(the_title)\n",
    "ax.set_aspect('equal')\n",
    "ax.set_axis_off()\n",
    "cbar = plt.colorbar(im, cax=cax,ax=ax)\n",
    "cbar.ax.set_ylabel('ADU/pix/exposure')\n",
    "\n",
    "\n",
    "ax= fig.add_subplot(gs[1])\n",
    "histdata = ax.hist(data_flat_nozero,bins=50,range=(vmin,vmax),histtype=\"step\",color=\"b\",lw=2)    \n",
    "ax.text(0.6, 0.95, \"LSSTComCamSim\", transform=ax.transAxes, fontsize=12,color=\"red\",verticalalignment='top', bbox=props)\n",
    "ax.text(0.05, 0.95, textstr, transform=ax.transAxes, fontsize=10,verticalalignment='top', bbox=props)\n",
    "ax.set_xlabel(\"calexp flux (ADU/pixel)\")\n",
    "ax.get_yaxis().set_visible(False)\n",
    "\n",
    "figname = f\"FigExposure_{datasetType}_{visitId}_LSSTComCamSim.png\"\n",
    "plt.savefig(figname)\n",
    "plt.show()\n",
    "remove_figure(fig)"
   ]
  },
  {
   "cell_type": "code",
   "execution_count": null,
   "id": "42965319-bde7-49c9-a7f8-e4f89af5f15f",
   "metadata": {},
   "outputs": [],
   "source": [
    "masked_array = img.array*the_mask"
   ]
  },
  {
   "cell_type": "code",
   "execution_count": null,
   "id": "14131293-2976-4d67-985c-93923e833bd4",
   "metadata": {},
   "outputs": [],
   "source": [
    "fig = plt.figure(figsize=(5,7),constrained_layout=True)\n",
    "\n",
    "gs = gridspec.GridSpec(2, 1, figure=fig,height_ratios=[3,1])\n",
    "ax = fig.add_subplot(gs[0])\n",
    "\n",
    "im=ax.imshow(masked_array , origin=\"lower\",vmin=vmin, vmax=vmax, cmap=\"gray\")\n",
    "divider = make_axes_locatable(ax)\n",
    "cax = divider.append_axes(\"right\", size=\"5%\", pad=0.05)\n",
    "the_title = f\"msk Calexp : visit = {visitId}, band = {band}\"\n",
    "ax.set_title(the_title)\n",
    "ax.set_aspect('equal')\n",
    "ax.set_axis_off()\n",
    "cbar = plt.colorbar(im, cax=cax,ax=ax)\n",
    "cbar.ax.set_ylabel('ADU/pix/exposure')\n",
    "\n",
    "\n",
    "ax= fig.add_subplot(gs[1])\n",
    "histdata = ax.hist(data_flat_nozero,bins=50,range=(vmin,vmax),histtype=\"step\",color=\"b\",lw=2)    \n",
    "ax.text(0.05, 0.95, textstr, transform=ax.transAxes, fontsize=10,verticalalignment='top', bbox=props)\n",
    "ax.text(0.6, 0.95, \"LSSTComCamSim\", transform=ax.transAxes, fontsize=12,color=\"red\",verticalalignment='top', bbox=props)\n",
    "ax.set_xlabel(\"Calexp flux (ADU/pixel)\")\n",
    "ax.get_yaxis().set_visible(False)\n",
    "\n",
    "figname = f\"FigExposure_masked_{datasetType}_{visitId}_LSSTComCamSim.png\"\n",
    "plt.savefig(figname)\n",
    "plt.show()\n",
    "remove_figure(fig)"
   ]
  },
  {
   "cell_type": "code",
   "execution_count": null,
   "id": "3170aefa-2435-4e27-a0a6-1143d6279173",
   "metadata": {},
   "outputs": [],
   "source": [
    "masked_array.shape "
   ]
  },
  {
   "cell_type": "code",
   "execution_count": null,
   "id": "827299ca-ef03-4886-ad1d-812d270ae4fd",
   "metadata": {},
   "outputs": [],
   "source": [
    "def ComputeSigma(arr):\n",
    "    data_flat = arr\n",
    "    data_flat_nozero = data_flat[~(data_flat==0)]\n",
    "    med = np.median(data_flat)\n",
    "    sigMad = 1.4826 * np.median(np.fabs(data_flat - med))   \n",
    "    return sigMad"
   ]
  },
  {
   "cell_type": "code",
   "execution_count": null,
   "id": "5c08b4a0-bf67-46d3-af1e-06fe4e403e4b",
   "metadata": {},
   "outputs": [],
   "source": [
    "A = np.apply_along_axis(ComputeSigma, 0, masked_array )"
   ]
  },
  {
   "cell_type": "code",
   "execution_count": null,
   "id": "8823b319-7d24-4abb-b8ac-f93975e80cc4",
   "metadata": {},
   "outputs": [],
   "source": [
    "B = np.apply_along_axis(ComputeSigma, 1, masked_array )"
   ]
  },
  {
   "cell_type": "code",
   "execution_count": null,
   "id": "f2031275-d6cd-40f1-9eea-70729d5b5191",
   "metadata": {},
   "outputs": [],
   "source": [
    "fig = plt.figure(figsize=(18,10),constrained_layout=True)\n",
    "\n",
    "gs = gridspec.GridSpec(2, 1, figure=fig,height_ratios=[1,1])\n",
    "\n",
    "the_title = f\"LSSTComCamSim calexp {visitId}{band} columns\"\n",
    "ax = fig.add_subplot(gs[0])\n",
    "ax.plot(A,'b-',drawstyle='steps')\n",
    "ax.set_title(the_title)\n",
    "ax.grid()\n",
    "ax.set_ylabel('$\\sigma_{MAD}$ (ADU/pix/exposure)')\n",
    "ax.set_xlabel(\"column index\")\n",
    "\n",
    "the_title = f\"LSSTComCamSim calexp {visitId}{band} rows\"\n",
    "ax = fig.add_subplot(gs[1])\n",
    "ax.plot(B,'b-',drawstyle='steps')\n",
    "ax.set_title(the_title)\n",
    "ax.grid()\n",
    "ax.set_ylabel('$\\sigma_{MAD}$ (ADU/pix/exposure)')\n",
    "ax.set_xlabel(\"row index\")\n"
   ]
  },
  {
   "cell_type": "markdown",
   "id": "1ddc2969-8bf8-4eb6-b936-f17f976c7f64",
   "metadata": {},
   "source": [
    "## Interpretation"
   ]
  },
  {
   "cell_type": "markdown",
   "id": "4e3a536f-c628-4dfa-a13a-95ecd44138b2",
   "metadata": {},
   "source": [
    "$$\n",
    "\\begin{array}{|c|c|c|} \\hline\n",
    "\\sigma_N & 19.2 & ADU/pixel \\\\\n",
    "J_g & 1.06 & nJy/ADU \\\\\n",
    "F_{min}^{pix} & 20.4 & nJy/pixel \\\\\n",
    "PSF & 1.2 & arcsec \\\\\n",
    "pix\\_scale & 0.2 & arcsec/pixel \\\\ \n",
    "\\sqrt{N_{pix}} = PSF/pix\\_scale & 5 & \\\\\n",
    "F_{min}^{source}=\\sqrt{N_{pix}}\\cdot F_{min}^{pix}  & 102 & nJy/source \\\\\n",
    "m_{max}^{source} & 26.4 & mag  \\\\ \\hline\n",
    "\\end{array}\n",
    "$$"
   ]
  },
  {
   "cell_type": "code",
   "execution_count": null,
   "id": "ee61315d-c931-4602-a13c-aaac6637711f",
   "metadata": {},
   "outputs": [],
   "source": [
    "sigMad"
   ]
  },
  {
   "cell_type": "code",
   "execution_count": null,
   "id": "bfbc80ab-215d-47a0-b3c7-015d22eedb5f",
   "metadata": {},
   "outputs": [],
   "source": [
    "expo_photocalibconstant_mean"
   ]
  },
  {
   "cell_type": "code",
   "execution_count": null,
   "id": "0b79cf66-9f9f-45cd-94e2-9373921128ab",
   "metadata": {},
   "outputs": [],
   "source": [
    "min_detectable_flux_per_pixel=expo_photocalibconstant_mean*sigMad\n",
    "min_detectable_flux_per_pixel"
   ]
  },
  {
   "cell_type": "code",
   "execution_count": null,
   "id": "68b64684-8323-4c11-ad25-2f3e1bcf9f52",
   "metadata": {},
   "outputs": [],
   "source": [
    "psf = 1.0"
   ]
  },
  {
   "cell_type": "code",
   "execution_count": null,
   "id": "a7685733-cfcc-43f8-89d6-0b5a948dd64f",
   "metadata": {},
   "outputs": [],
   "source": [
    "pixel_scale"
   ]
  },
  {
   "cell_type": "code",
   "execution_count": null,
   "id": "216daea6-fb41-411b-9cf5-67fecd9b1ff2",
   "metadata": {},
   "outputs": [],
   "source": [
    "sqrt_Npix= psf/pixel_scale\n",
    "sqrt_Npix"
   ]
  },
  {
   "cell_type": "code",
   "execution_count": null,
   "id": "a02dea44-d97b-47fa-a488-602e876cd711",
   "metadata": {},
   "outputs": [],
   "source": [
    "total_minimumdetectable_flux_per_source = sqrt_Npix*min_detectable_flux_per_pixel\n",
    "total_minimumdetectable_flux_per_source "
   ]
  },
  {
   "cell_type": "code",
   "execution_count": null,
   "id": "f5d7af01-3c7b-4d62-82e9-408c8f550822",
   "metadata": {},
   "outputs": [],
   "source": [
    "convert_fluxtomag(total_minimumdetectable_flux_per_source)"
   ]
  },
  {
   "cell_type": "code",
   "execution_count": null,
   "id": "e977b550-aaf8-4b27-8fbc-20373e8e3fb0",
   "metadata": {},
   "outputs": [],
   "source": [
    "F0"
   ]
  },
  {
   "cell_type": "code",
   "execution_count": null,
   "id": "5d7f5d2f-2e02-4d4a-b089-9dfa5e023620",
   "metadata": {},
   "outputs": [],
   "source": [
    "def F(m):\n",
    "    \"\"\"\n",
    "    return flux in nJ\n",
    "    \"\"\"\n",
    "    fnu = F0*1e9*np.power(10,-0.4*m)\n",
    "    return fnu"
   ]
  },
  {
   "cell_type": "code",
   "execution_count": null,
   "id": "b2d171b6-d019-402a-b867-3ddf23ba40e8",
   "metadata": {},
   "outputs": [],
   "source": [
    "for m in range(15,21):\n",
    "    print(m,F(m),total_minimumdetectable_flux_per_source/F(m)*1000 )"
   ]
  },
  {
   "cell_type": "code",
   "execution_count": null,
   "id": "69e38438-394e-4026-bd49-442f909b0539",
   "metadata": {},
   "outputs": [],
   "source": [
    "for m in range(15,21):\n",
    "    print(\"m=\",m,\"mag \",\" Fnu=\",F(m),\"nJy\",\" dF/F\",total_minimumdetectable_flux_per_source/F(m)*1000,\"mmag\" )"
   ]
  },
  {
   "cell_type": "code",
   "execution_count": null,
   "id": "8cc1124d-4136-4990-9568-1fcd0dfae048",
   "metadata": {},
   "outputs": [],
   "source": []
  }
 ],
 "metadata": {
  "kernelspec": {
   "display_name": "LSST",
   "language": "python",
   "name": "lsst"
  },
  "language_info": {
   "codemirror_mode": {
    "name": "ipython",
    "version": 3
   },
   "file_extension": ".py",
   "mimetype": "text/x-python",
   "name": "python",
   "nbconvert_exporter": "python",
   "pygments_lexer": "ipython3",
   "version": "3.11.7"
  }
 },
 "nbformat": 4,
 "nbformat_minor": 5
}
