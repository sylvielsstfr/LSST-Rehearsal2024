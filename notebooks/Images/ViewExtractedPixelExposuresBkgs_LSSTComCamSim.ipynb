{
 "cells": [
  {
   "cell_type": "markdown",
   "id": "b48abe36-a1f4-4e69-be3f-968df9b4386c",
   "metadata": {},
   "source": [
    "# View Extracted Pixel Exposure Sky background and noise  from Calexp and CalexpBackground and CCD Visits for LSSTComCamSim\n",
    "\n",
    "- Just read pandas dataframe and show plots"
   ]
  },
  {
   "cell_type": "markdown",
   "id": "98903683-e9c7-4382-a13e-35ef8359d9f1",
   "metadata": {},
   "source": [
    "- author Sylvie Dagoret-Campagne\n",
    "- creation date 2024-05-11\n",
    "- last update 2024-05-12\n",
    "- affiliation : IJCLab\n",
    "- kernel : **w_2024_16**"
   ]
  },
  {
   "cell_type": "markdown",
   "id": "fcd011ca-6046-4495-8fdf-10edf54a07ca",
   "metadata": {},
   "source": [
    " \n",
    "``Quantum Graphs``: https://tigress-web.princeton.edu/~lkelvin/pipelines/ \n",
    "\n",
    "https://tigress-web.princeton.edu/~lkelvin/pipelines/current/drp_pipe/LSSTComCamSim/nightly-validation-ops-rehearsal-3/\n",
    "\n",
    "``CalibrateTask``: \n",
    "https://github.com/lsst/pipe_tasks/blob/main/python/lsst/pipe/tasks/calibrate.py#L392-L399\n",
    "\n",
    "\n",
    "``Shemas``:\n",
    "https://dm.lsst.org/sdm_schemas/browser/\n"
   ]
  },
  {
   "cell_type": "code",
   "execution_count": null,
   "id": "202053fa-4ec5-4e1f-b062-a67943176c3a",
   "metadata": {},
   "outputs": [],
   "source": [
    "import numpy as np\n",
    "import matplotlib.pyplot as plt\n",
    "%matplotlib inline\n",
    "from mpl_toolkits.axes_grid1 import make_axes_locatable\n",
    "from matplotlib.colors import LogNorm,SymLogNorm\n",
    "\n",
    "\n",
    "import matplotlib.ticker                         # here's where the formatter is\n",
    "from matplotlib.ticker import (MultipleLocator, FormatStrFormatter,\n",
    "                               AutoMinorLocator)\n",
    "\n",
    "from astropy.visualization import (MinMaxInterval, SqrtStretch,ZScaleInterval,PercentileInterval,\n",
    "                                   ImageNormalize,imshow_norm)\n",
    "from astropy.visualization.stretch import SinhStretch, LinearStretch,AsinhStretch,LogStretch\n",
    "\n",
    "from astropy.io import fits\n",
    "from astropy.wcs import WCS\n",
    "\n",
    "\n",
    "import pandas as pd\n",
    "\n",
    "import matplotlib.ticker                         # here's where the formatter is\n",
    "import os\n",
    "import re\n",
    "import pandas as pd\n",
    "import pickle\n",
    "from collections import OrderedDict\n",
    "\n",
    "plt.rcParams[\"figure.figsize\"] = (4,3)\n",
    "plt.rcParams[\"axes.labelsize\"] = 'x-large'\n",
    "plt.rcParams['axes.titlesize'] = 'x-large'\n",
    "plt.rcParams['xtick.labelsize']= 'x-large'\n",
    "plt.rcParams['ytick.labelsize']= 'x-large'"
   ]
  },
  {
   "cell_type": "code",
   "execution_count": null,
   "id": "4ef39183-a573-4f28-8a31-c48b3fa4db9e",
   "metadata": {},
   "outputs": [],
   "source": [
    "from matplotlib.ticker import (MultipleLocator, FormatStrFormatter,\n",
    "                               AutoMinorLocator)\n",
    "\n",
    "from astropy.visualization import (MinMaxInterval, SqrtStretch,ZScaleInterval,PercentileInterval,\n",
    "                                   ImageNormalize,imshow_norm)\n",
    "from astropy.visualization.stretch import SinhStretch, LinearStretch,AsinhStretch,LogStretch\n",
    "\n",
    "from astropy.time import Time"
   ]
  },
  {
   "cell_type": "code",
   "execution_count": null,
   "id": "74b7cfdf-15f6-4596-9f37-464159143196",
   "metadata": {},
   "outputs": [],
   "source": [
    "import matplotlib.dates as mdates\n",
    "#month_locator = mdates.MonthLocator(interval=1)\n",
    "#day_locator = mdates.DayLocator(interval=1)\n",
    "#year_month_formatter = mdates.DateFormatter(\"%Y-%m\") \n",
    "\n",
    "from matplotlib.dates import DateFormatter\n",
    "date_form = DateFormatter(\"%y-%m-%dT%H:%M\")\n",
    "\n",
    "\n",
    "\n"
   ]
  },
  {
   "cell_type": "code",
   "execution_count": null,
   "id": "d1c83db1-2a0b-45af-bcce-175213ee8755",
   "metadata": {},
   "outputs": [],
   "source": [
    "from lsst.daf.butler import Butler\n",
    "\n",
    "\n",
    "\n",
    "# INSERT YOUR auxTel/LATISS collection and tract/band HERE\n",
    "butlerRoot = \"/repo/embargo\"\n",
    "collection1 = 'LSSTComCamSim/runs/nightlyvalidation/20240402/d_2024_03_29/DM-43612'\n",
    "collection2 = 'LSSTComCamSim/runs/nightlyvalidation/20240403/d_2024_03_29/DM-43612'\n",
    "collection3 = 'LSSTComCamSim/runs/nightlyvalidation/20240404/d_2024_03_29/DM-43612'\n",
    "collection = 'LATISS/runs/AUXTEL_DRP_IMAGING_20230509_20240311/w_2024_10/PREOPS-4985'\n",
    "collections = [collection2]\n",
    "collectionn = collection2\n",
    "collectionStr = collectionn.replace(\"/\", \"_\")\n",
    "fn_ccdVisit_photocalib = f\"ccdVisittractpatch_{collectionStr}_calexpinfo.csv\"\n",
    "fn_ccdVisit_tracts_patches = f\"ccdVisittractpatch_{collectionStr}.csv\"\n",
    "instrument = 'LSSTComCamSim'\n",
    "skymapName = \"ops_rehersal_prep_2k_v1\"\n",
    "where_clause = \"instrument = \\'\" + instrument+ \"\\'\"\n",
    "NDET = 9\n",
    "suptitle=  collectionStr\n",
    "\n",
    "suptitle = collectionStr + f\" inst = {instrument} \""
   ]
  },
  {
   "cell_type": "code",
   "execution_count": null,
   "id": "543b0e51-f689-4f73-a2dc-1fd3380f0f55",
   "metadata": {},
   "outputs": [],
   "source": [
    "def convert_fluxtomag(x) :\n",
    "    \"\"\"\n",
    "    The object and source catalogs store only fluxes. There are hundreds of flux-related columns, \n",
    "    and to store them also as magnitudes would be redundant, and a waste of space.\n",
    "    All flux units are nanojanskys. The AB Magnitudes Wikipedia page provides a concise resource \n",
    "    for users unfamiliar with AB magnitudes and jansky fluxes. To convert to AB magnitudes use:\n",
    "    As demonstrated in Section 2.3.2, to add columns of magnitudes after retrieving columns of flux, users can do this:\n",
    "    results_table['r_calibMag'] = -2.50 * numpy.log10(results_table['r_calibFlux']) + 31.4\n",
    "    results_table['r_cModelMag'] = -2.50 * numpy.log10(results_table['r_cModelFlux']) + 31.4\n",
    "    (from DP0 tutorial)\n",
    "    \"\"\"\n",
    "    return -2.50 * np.log10(x) + 31.4\n"
   ]
  },
  {
   "cell_type": "markdown",
   "id": "83713b62-d2d7-4c6b-b6fc-6c62aa6766cf",
   "metadata": {},
   "source": [
    "## Read inputs"
   ]
  },
  {
   "cell_type": "markdown",
   "id": "98cb4167-0596-46b5-944f-18f396c12408",
   "metadata": {},
   "source": [
    "### Access CCD visit table"
   ]
  },
  {
   "cell_type": "code",
   "execution_count": null,
   "id": "21a7b08f-4254-4650-875b-8270d7f4ec86",
   "metadata": {},
   "outputs": [],
   "source": [
    "# Initiate butler from variables set above\n",
    "butler = Butler(butlerRoot, collections=collections, instrument=instrument, skymap=skymapName)\n",
    "camera = butler.get(\"camera\", instrument=instrument)\n",
    "print(\"camera_name = {}\".format(camera.getName()))\n",
    "print(\"collections = {}\".format(collections))"
   ]
  },
  {
   "cell_type": "code",
   "execution_count": null,
   "id": "5a5dddb6-caab-43c6-b90e-f4353a53e3bf",
   "metadata": {},
   "outputs": [],
   "source": [
    "ccd_visit_table = butler.get('ccdVisitTable', dataId={'instrument': instrument}, collections = collections )    "
   ]
  },
  {
   "cell_type": "code",
   "execution_count": null,
   "id": "e42ac2d1-3404-4efa-963c-1f1d24e3cee2",
   "metadata": {},
   "outputs": [],
   "source": [
    "ccd_visit_table[\"ccdVid\"] = ccd_visit_table.index -  ccd_visit_table.index[0]\n",
    "ccd_visit_table[\"Vid\"] = ccd_visit_table[\"visitId\"]  -   ccd_visit_table[\"visitId\"].iloc[0]"
   ]
  },
  {
   "cell_type": "code",
   "execution_count": null,
   "id": "778e338b-6a66-4082-b16b-b977ec288f7a",
   "metadata": {},
   "outputs": [],
   "source": [
    "#subtract the a bug number to have normal dates\n",
    "ccd_visit_table[\"nightObs\"] = ccd_visit_table.apply(lambda x: x['visitId']//100_000, axis=1)\n",
    "ccd_visit_table[\"nightObs\"]"
   ]
  },
  {
   "cell_type": "code",
   "execution_count": null,
   "id": "70855371-76fa-4fad-8b38-150011e3c65b",
   "metadata": {},
   "outputs": [],
   "source": [
    "# get time\n",
    "ccd_visit_table[\"Time\"] = pd.to_datetime(ccd_visit_table['obsStart'])"
   ]
  },
  {
   "cell_type": "code",
   "execution_count": null,
   "id": "9fcbd370-214c-4528-91bf-f0722713e023",
   "metadata": {},
   "outputs": [],
   "source": [
    "# get airmass\n",
    "ccd_visit_table[\"airmass\"] = ccd_visit_table[\"zenithDistance\"].apply(lambda x: 1/np.cos(np.pi/180.*x))"
   ]
  },
  {
   "cell_type": "code",
   "execution_count": null,
   "id": "4a69a798-f6f3-4a15-883c-c90b2cf65da8",
   "metadata": {},
   "outputs": [],
   "source": [
    "# select the missing quantities (the time)\n",
    "ccd_visit_table_subset = ccd_visit_table[[\"Time\",\"obsStart\"]]"
   ]
  },
  {
   "cell_type": "markdown",
   "id": "f291636c-1967-4739-95c5-b84bdfbd42e7",
   "metadata": {},
   "source": [
    "### Read pandas dataframe containing the tract-patch decomposition of visits"
   ]
  },
  {
   "cell_type": "code",
   "execution_count": null,
   "id": "698fa4be-a28d-4785-8b46-c8edc6482f96",
   "metadata": {},
   "outputs": [],
   "source": [
    "\n",
    "# need the visit file because observation date is missing\n",
    "file_selected_visits = os.path.join(\"../Visits\",fn_ccdVisit_tracts_patches)\n",
    "df1 = pd.read_csv(file_selected_visits,index_col=0)"
   ]
  },
  {
   "cell_type": "markdown",
   "id": "c9d63c76-5f31-4b0a-8cb8-ebd891ae020f",
   "metadata": {},
   "source": [
    "### Read the dataframe with the extracted parameters from calexp,calexpBackground"
   ]
  },
  {
   "cell_type": "code",
   "execution_count": null,
   "id": "1e01df4a-bfa6-4ed3-8363-2aa895a03d76",
   "metadata": {},
   "outputs": [],
   "source": [
    "df = pd.read_csv(fn_ccdVisit_photocalib,index_col=0)"
   ]
  },
  {
   "cell_type": "code",
   "execution_count": null,
   "id": "9acf20ad-7b73-4f61-b180-876176906bfd",
   "metadata": {},
   "outputs": [],
   "source": [
    "df"
   ]
  },
  {
   "cell_type": "code",
   "execution_count": null,
   "id": "e3b39530-39aa-4deb-b3c8-91bc0fc88381",
   "metadata": {},
   "outputs": [],
   "source": [
    "df.set_index(\"ccdVisitId\",inplace=True)"
   ]
  },
  {
   "cell_type": "code",
   "execution_count": null,
   "id": "5aa94c89-0a6a-4feb-8e30-1f2216d177cf",
   "metadata": {},
   "outputs": [],
   "source": [
    "df"
   ]
  },
  {
   "cell_type": "markdown",
   "id": "d41b84fd-328e-40b6-a8d5-6fec9cc8887e",
   "metadata": {},
   "source": [
    "## Add to the main dataframe df, the obstime found in ccd_visit_table"
   ]
  },
  {
   "cell_type": "code",
   "execution_count": null,
   "id": "07bf85bf-b4e1-4c4d-a364-e958b9fcf584",
   "metadata": {},
   "outputs": [],
   "source": [
    "df = df.join(ccd_visit_table_subset)"
   ]
  },
  {
   "cell_type": "code",
   "execution_count": null,
   "id": "9c43ff0d-dfd3-488c-8a76-51faff880d60",
   "metadata": {},
   "outputs": [],
   "source": [
    "df"
   ]
  },
  {
   "cell_type": "markdown",
   "id": "49b81808-2265-4c46-9651-6cc5f2867a3f",
   "metadata": {},
   "source": [
    "## Formula to bear in mind"
   ]
  },
  {
   "cell_type": "markdown",
   "id": "10ce8331-c98f-4c99-99cc-867c4fb1170c",
   "metadata": {},
   "source": [
    "$$\n",
    "\\left\\{\n",
    "\\begin{array}{ccc} \\\\\n",
    "m_{AB}  & = & -2.5\\cdot \\log_{10}(ADU) + m(ZP) \\\\ \\\\\n",
    "F(Jy) & = & F_{AB}^{ref}(Jy) \\cdot 10^{-0.4\\cdot m(ZP)}\\cdot ADU\n",
    "\\end{array}\n",
    "\\right.\n",
    "$$"
   ]
  },
  {
   "cell_type": "markdown",
   "id": "4cfcbba5-cfc5-4aab-9851-612e4d2bc025",
   "metadata": {},
   "source": [
    "## Additionnal processing"
   ]
  },
  {
   "cell_type": "code",
   "execution_count": null,
   "id": "0bdb9c16-66c2-4273-8025-a6496d20243e",
   "metadata": {},
   "outputs": [],
   "source": [
    "df[\"magzero_dt\"] = df[\"magzero\"].apply(lambda x : x+2.5*np.log10(30))\n",
    "df[\"zeroPoint_diff\"] = df[\"zeroPoint\"]-df[\"magzero_dt\"]"
   ]
  },
  {
   "cell_type": "markdown",
   "id": "08d6b311-baee-49d0-afee-9d23665f2c14",
   "metadata": {},
   "source": [
    "## Add Sigma/N"
   ]
  },
  {
   "cell_type": "code",
   "execution_count": null,
   "id": "55619a88-a9f5-4678-8b50-9ecfea526b42",
   "metadata": {},
   "outputs": [],
   "source": [
    "df[\"sigmatoskybkg\"] = df[\"sigMad_ce\"]/df[\"med_bkg\"]\n",
    "df[\"sigmatoskybkg_max\"] = df[\"med_bkg\"].apply(lambda x : 1/np.sqrt(x))"
   ]
  },
  {
   "cell_type": "code",
   "execution_count": null,
   "id": "79703c7a-e7fa-487c-88b5-ed446d126d6b",
   "metadata": {},
   "outputs": [],
   "source": [
    "df.columns"
   ]
  },
  {
   "cell_type": "code",
   "execution_count": null,
   "id": "188ba2d9-ccba-4abf-9def-ee15c395eca8",
   "metadata": {},
   "outputs": [],
   "source": [
    "df[\"photocalib_mag\"] = df[\"photocalib_m\"].apply(convert_fluxtomag)"
   ]
  },
  {
   "cell_type": "code",
   "execution_count": null,
   "id": "88a62521-f0ef-4330-8a0d-6f4074068335",
   "metadata": {},
   "outputs": [],
   "source": [
    "df[\"zeroPoint_photocalib_diff\"] = df[\"zeroPoint\"] - df[\"photocalib_mag\"]\n",
    "df[\"magzerodt_photocalib_diff\"] = df[\"magzero_dt\"] - df[\"photocalib_mag\"]"
   ]
  },
  {
   "cell_type": "markdown",
   "id": "84ad3079-0119-4a0e-8af7-7151c907a9a4",
   "metadata": {},
   "source": [
    "## Split the dataframe in bands"
   ]
  },
  {
   "cell_type": "code",
   "execution_count": null,
   "id": "3f187065-6c90-41cf-931b-d3518423af16",
   "metadata": {},
   "outputs": [],
   "source": [
    "df_g = df[df[\"band\"] == 'g']\n",
    "df_r = df[df[\"band\"] == 'r']\n",
    "df_i = df[df[\"band\"] == 'i']\n",
    "df_z = df[df[\"band\"] == 'z']\n",
    "df_y = df[df[\"band\"] == 'y']"
   ]
  },
  {
   "cell_type": "markdown",
   "id": "46bf714f-617b-4289-a896-5228dbf0b807",
   "metadata": {},
   "source": [
    "## Sky Background"
   ]
  },
  {
   "cell_type": "markdown",
   "id": "c73122db-f999-40b7-acde-f0ab8a0762e1",
   "metadata": {},
   "source": [
    "### Sky Background in g band"
   ]
  },
  {
   "cell_type": "code",
   "execution_count": null,
   "id": "5a242195-55ed-48bf-8dad-e811247c6ffb",
   "metadata": {},
   "outputs": [],
   "source": [
    "fig, ax = plt.subplots(1,1,figsize=(16,6),sharex=False)\n",
    "title = f\" $\\sigma$ in Calexp divided by $median$ in CalexpBackground in LSSTComCamSim, band g\"\n",
    "df_g.plot.scatter(x=\"Time\",y=\"sigmatoskybkg\",ax=ax,marker=\"o\",c=\"airmass\",cmap=\"jet\",rot=45,ylabel=\"ratio $\\sigma$/$median$\",title=title,grid=True)\n",
    "df_g.plot.scatter(x=\"Time\",y=\"sigmatoskybkg_max\",ax=ax,marker=\".\",color=\"pink\",rot=45,label=\"electron statistics\",grid=True)\n",
    "ax.xaxis.set_major_formatter(date_form)\n",
    "#ax.set_ylim(0.,10)\n",
    "ax.set_yscale('log')\n",
    "ax.axhline(1.,lw=2,color=\"k\",label=\"poissonnian limit\")\n",
    "ax.set_ylabel(\"sky background : $\\sigma_N/N$\")\n",
    "ax.legend()\n",
    "plt.suptitle(suptitle)\n",
    "figname = \"calexp_sigmaNbyN_bandG_LSSTComCamSim.png\"\n",
    "plt.tight_layout()\n",
    "plt.savefig(figname)\n",
    "plt.show()"
   ]
  },
  {
   "cell_type": "markdown",
   "id": "96196b98-a071-4a8c-a78e-49afa1d5c169",
   "metadata": {},
   "source": [
    "### Sky Background in r band"
   ]
  },
  {
   "cell_type": "code",
   "execution_count": null,
   "id": "ab47c55c-77b5-480a-a977-f36264dc1d4a",
   "metadata": {},
   "outputs": [],
   "source": [
    "fig, ax = plt.subplots(1,1,figsize=(16,6),sharex=False)\n",
    "title = f\" $\\sigma$ in Calexp divided by $median$ in CalexpBackground in LSSTComCamSim, band r\"\n",
    "df_r.plot.scatter(x=\"Time\",y=\"sigmatoskybkg\",ax=ax,marker=\"o\",c=\"airmass\",cmap=\"jet\",rot=45,ylabel=\"ratio $\\sigma$/$median$\",title=title,grid=True)\n",
    "df_r.plot.scatter(x=\"Time\",y=\"sigmatoskybkg_max\",ax=ax,marker=\".\",color=\"pink\",rot=45,label=\"electron statistics\",grid=True)\n",
    "ax.xaxis.set_major_formatter(date_form)\n",
    "#ax.set_ylim(0.,10)\n",
    "ax.set_yscale('log')\n",
    "ax.axhline(1.,lw=2,color=\"k\",label=\"poissonnian limit\")\n",
    "ax.legend()\n",
    "plt.suptitle(suptitle)\n",
    "ax.set_ylabel(\"sky background : $\\sigma_N/N$\")\n",
    "figname = \"calexp_sigmaNbyN_bandR_LSSTComCamSim.png\"\n",
    "plt.tight_layout()\n",
    "plt.savefig(figname)\n",
    "plt.show()"
   ]
  },
  {
   "cell_type": "markdown",
   "id": "afc45e26-b973-4937-808b-264a6f01ccca",
   "metadata": {},
   "source": [
    "### Sky Background in i band"
   ]
  },
  {
   "cell_type": "code",
   "execution_count": null,
   "id": "19e6a5bc-8943-4d55-ae47-35137092fcae",
   "metadata": {},
   "outputs": [],
   "source": [
    "fig, ax = plt.subplots(1,1,figsize=(16,6),sharex=False)\n",
    "title = f\" $\\sigma$ in Calexp divided by $median$ in CalexpBackground in LSSTComCamSim, band i\"\n",
    "df_i.plot.scatter(x=\"Time\",y=\"sigmatoskybkg\",ax=ax,marker=\"o\",c=\"airmass\",cmap=\"jet\",rot=45,ylabel=\"ratio $\\sigma$/$median$\",title=title,grid=True)\n",
    "df_i.plot.scatter(x=\"Time\",y=\"sigmatoskybkg_max\",ax=ax,marker=\".\",color=\"pink\",rot=45,label=\"electron statistics\",grid=True)\n",
    "ax.xaxis.set_major_formatter(date_form)\n",
    "#ax.set_ylim(0.,10)\n",
    "ax.set_yscale('log')\n",
    "ax.axhline(1.,lw=2,color=\"k\",label=\"poissonnian limit\")\n",
    "ax.legend()\n",
    "plt.suptitle(suptitle)\n",
    "ax.set_ylabel(\"sky background : $\\sigma_N/N$\")\n",
    "figname = \"calexp_sigmaNbyN_bandI_LSSTComCamSim.png\"\n",
    "plt.tight_layout()\n",
    "plt.savefig(figname)\n",
    "plt.show()"
   ]
  },
  {
   "cell_type": "code",
   "execution_count": null,
   "id": "97e05934-a59b-4c0c-8311-8b40ad197c1c",
   "metadata": {},
   "outputs": [],
   "source": []
  }
 ],
 "metadata": {
  "kernelspec": {
   "display_name": "LSST",
   "language": "python",
   "name": "lsst"
  },
  "language_info": {
   "codemirror_mode": {
    "name": "ipython",
    "version": 3
   },
   "file_extension": ".py",
   "mimetype": "text/x-python",
   "name": "python",
   "nbconvert_exporter": "python",
   "pygments_lexer": "ipython3",
   "version": "3.11.7"
  }
 },
 "nbformat": 4,
 "nbformat_minor": 5
}
