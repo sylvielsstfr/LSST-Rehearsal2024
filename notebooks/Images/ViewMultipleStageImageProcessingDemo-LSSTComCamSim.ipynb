{
 "cells": [
  {
   "cell_type": "markdown",
   "id": "45bf4242-bfc5-4d43-88c4-a8059ae148df",
   "metadata": {},
   "source": [
    "# View the multi-stage image  processing from Selected visits in LSSTComCamSim"
   ]
  },
  {
   "cell_type": "markdown",
   "id": "01993b6e-6438-4fca-a5d5-1f9791336847",
   "metadata": {},
   "source": [
    "- author Sylvie Dagoret-Campagne\n",
    "- creation date 2024-05-16\n",
    "- last update 2024-05-21\n",
    "- affiliation : IJCLab\n",
    "- kernel : **w_2024_16**\n",
    "\n",
    "\n",
    " \n",
    "``Quantum Graphs``: https://tigress-web.princeton.edu/~lkelvin/pipelines/ \n",
    "\n",
    "https://tigress-web.princeton.edu/~lkelvin/pipelines/current/drp_pipe/LSSTComCamSim/nightly-validation-ops-rehearsal-3/\n",
    "\n",
    "``CalibrateTask``: \n",
    "https://github.com/lsst/pipe_tasks/blob/main/python/lsst/pipe/tasks/calibrate.py#L392-L399\n",
    "\n",
    "\n",
    "``Shemas``:\n",
    "https://dm.lsst.org/sdm_schemas/browser/\n"
   ]
  },
  {
   "cell_type": "code",
   "execution_count": null,
   "id": "bf752b70-e6ca-4cbf-8e8c-20bf7f0d8f61",
   "metadata": {},
   "outputs": [],
   "source": [
    "import numpy as np\n",
    "import matplotlib.pyplot as plt\n",
    "%matplotlib inline\n",
    "from mpl_toolkits.axes_grid1 import make_axes_locatable\n",
    "from matplotlib.colors import LogNorm,SymLogNorm\n",
    "import matplotlib.gridspec as gridspec\n",
    "props = dict(boxstyle='round', facecolor='wheat', alpha=0.5)\n",
    "\n",
    "import matplotlib.ticker                         # here's where the formatter is\n",
    "from matplotlib.ticker import (MultipleLocator, FormatStrFormatter,\n",
    "                               AutoMinorLocator)\n",
    "\n",
    "from astropy.visualization import (MinMaxInterval, SqrtStretch,ZScaleInterval,PercentileInterval,\n",
    "                                   ImageNormalize,imshow_norm)\n",
    "from astropy.visualization.stretch import SinhStretch, LinearStretch,AsinhStretch,LogStretch\n",
    "\n",
    "from astropy.io import fits\n",
    "from astropy.wcs import WCS\n",
    "\n",
    "\n",
    "import pandas as pd\n",
    "\n",
    "import matplotlib.ticker                         # here's where the formatter is\n",
    "import os\n",
    "import re\n",
    "import pandas as pd\n",
    "import pickle\n",
    "from collections import OrderedDict\n",
    "\n",
    "plt.rcParams[\"figure.figsize\"] = (4,3)\n",
    "plt.rcParams[\"axes.labelsize\"] = 'x-large'\n",
    "plt.rcParams['axes.titlesize'] = 'x-large'\n",
    "plt.rcParams['xtick.labelsize']= 'x-large'\n",
    "plt.rcParams['ytick.labelsize']= 'x-large'"
   ]
  },
  {
   "cell_type": "code",
   "execution_count": null,
   "id": "736177ea-d508-4bd6-9071-41911cf90035",
   "metadata": {},
   "outputs": [],
   "source": [
    "import gc"
   ]
  },
  {
   "cell_type": "code",
   "execution_count": null,
   "id": "0ca0d1e6-5f82-4c43-aaa3-8524fc2bc5ba",
   "metadata": {},
   "outputs": [],
   "source": [
    "from matplotlib.ticker import (MultipleLocator, FormatStrFormatter,\n",
    "                               AutoMinorLocator)\n",
    "\n",
    "from astropy.visualization import (MinMaxInterval, SqrtStretch,ZScaleInterval,PercentileInterval,\n",
    "                                   ImageNormalize,imshow_norm)\n",
    "from astropy.visualization.stretch import SinhStretch, LinearStretch,AsinhStretch,LogStretch\n",
    "\n",
    "from astropy.time import Time\n"
   ]
  },
  {
   "cell_type": "code",
   "execution_count": null,
   "id": "51ddfce4-9a0f-4804-bc6a-7f9138874f16",
   "metadata": {},
   "outputs": [],
   "source": [
    "import lsst.daf.butler as dafButler\n",
    "#import lsst.summit.utils.butlerUtils as butlerUtils"
   ]
  },
  {
   "cell_type": "code",
   "execution_count": null,
   "id": "34f037b5-b6a2-4f93-b86b-a6108d8a5ea7",
   "metadata": {},
   "outputs": [],
   "source": [
    "import lsst.afw.image as afwImage\n",
    "import lsst.afw.display as afwDisplay\n",
    "import lsst.afw.table as afwTable\n",
    "import lsst.geom as geom"
   ]
  },
  {
   "cell_type": "code",
   "execution_count": null,
   "id": "7f26c627-fc82-4f60-8e0a-c25657f092f9",
   "metadata": {},
   "outputs": [],
   "source": [
    "# LSST Display\n",
    "import lsst.afw.display as afwDisplay\n",
    "afwDisplay.setDefaultBackend('matplotlib')"
   ]
  },
  {
   "cell_type": "code",
   "execution_count": null,
   "id": "aba2cfa4-809a-4f1c-8e8f-9f81547e0b5e",
   "metadata": {},
   "outputs": [],
   "source": [
    "transform = AsinhStretch() + PercentileInterval(99.)"
   ]
  },
  {
   "cell_type": "markdown",
   "id": "3f1a4d83-b822-43c0-9d87-57c419f553db",
   "metadata": {},
   "source": [
    "### import rubinsimphot"
   ]
  },
  {
   "cell_type": "code",
   "execution_count": null,
   "id": "020abc67-bd4b-4071-b67f-80b46c2f8e58",
   "metadata": {},
   "outputs": [],
   "source": [
    "machine_name = os.uname().nodename\n",
    "path_rubinsimphot = \"repos/repos_w_2024_17/rubinsimphot/src\"\n",
    "if 'sdf' in machine_name:\n",
    "    #machine_name_usdf = 'sdfrome001'\n",
    "    print(\"Set environment for USDF\")\n",
    "    newpythonpath = os.path.join(os.getenv(\"HOME\"),path_rubinsimphot)\n",
    "    sys.path.append(newpythonpath)\n",
    "elif 'dagoret-nb' in machine_name:\n",
    "    print(\"Set environment for USDF Rubin Science Platform\")\n",
    "    newpythonpath = os.path.join(os.getenv(\"HOME\"),path_rubinsimphot)\n",
    "    sys.path.append(newpythonpath)    \n",
    "elif 'mac' in machine_name:\n",
    "    print(\"Be sure to run this notebook in conda environment named conda_py310\")\n",
    "else:\n",
    "    print(f\"Your current machine name is {machine_name}. Check your python environment\")"
   ]
  },
  {
   "cell_type": "code",
   "execution_count": null,
   "id": "3b9f8caf-ff54-4e0f-bf48-d51d22a7f371",
   "metadata": {},
   "outputs": [],
   "source": [
    "from rubinsimphot.phot_utils import Bandpass, Sed\n",
    "from rubinsimphot.data import get_data_dir"
   ]
  },
  {
   "cell_type": "code",
   "execution_count": null,
   "id": "028d253a-2088-41ca-a3a0-f4c682f5fdc8",
   "metadata": {},
   "outputs": [],
   "source": [
    "import sys\n",
    "sys.path.append('../lib')\n",
    "# This package encapsulate the calculation on calibration used in this nb\n",
    "from libPhotometricCorrections import *"
   ]
  },
  {
   "cell_type": "code",
   "execution_count": null,
   "id": "4c16b8d9-5224-424b-ab62-192041f7f52c",
   "metadata": {},
   "outputs": [],
   "source": [
    "from importlib.metadata import version\n",
    "the_ver = version('getObsAtmo')\n",
    "print(f\"Version of getObsAtmo : {the_ver}\")"
   ]
  },
  {
   "cell_type": "code",
   "execution_count": null,
   "id": "5719dbeb-fb87-4e93-8bb9-be187e0ecdd8",
   "metadata": {},
   "outputs": [],
   "source": [
    "from getObsAtmo import ObsAtmo\n",
    "emul_atm = ObsAtmo()\n",
    "WL = emul_atm.GetWL()"
   ]
  },
  {
   "cell_type": "code",
   "execution_count": null,
   "id": "9a38eef0-f7a6-4df4-89f8-9c311c4d91b3",
   "metadata": {},
   "outputs": [],
   "source": [
    "am0 =1.20    # airmass\n",
    "pwv0 = 5.0  # Precipitable water vapor vertical column depth in mm\n",
    "oz0 = 300.  # Ozone vertical column depth in Dobson Unit (DU)\n",
    "ncomp=1     # Number of aerosol components\n",
    "tau0= 0.04 # Vertical Aerosol depth (VAOD) \n",
    "beta0 = 1.2 # Aerosol Angstrom exponent\n",
    "pc = PhotometricCorrections(am0,pwv0,oz0,tau0,beta0)"
   ]
  },
  {
   "cell_type": "code",
   "execution_count": null,
   "id": "89ef33c3-eb0c-4538-9af1-4be2c691e2de",
   "metadata": {},
   "outputs": [],
   "source": [
    "all_Sigb = {}\n",
    "\n",
    "for index,f in enumerate(filter_tagnames): \n",
    "    wl = pc.bandpass_inst[f].wavelen\n",
    "    tr = pc.bandpass_inst[f].sb\n",
    "    Sigb = np.trapz(tr/wl,wl)\n",
    "    all_Sigb[f] = Sigb \n",
    "pd.DataFrame(all_Sigb, index=['Sigmab']).round(4)"
   ]
  },
  {
   "cell_type": "markdown",
   "id": "351e0468-d4f5-4c9e-b3db-1263499470cc",
   "metadata": {},
   "source": [
    "### Import statements that we will need later"
   ]
  },
  {
   "cell_type": "markdown",
   "id": "5db4beba-3082-4754-8e70-26472f1c226c",
   "metadata": {},
   "source": [
    "Let's make a new plot and metric tool, we'll base it on the example in the getting started guide."
   ]
  },
  {
   "cell_type": "code",
   "execution_count": null,
   "id": "b26e1f0b-83be-4348-b87c-88294ec7c8d6",
   "metadata": {},
   "outputs": [],
   "source": [
    "# INSERT YOUR collection and tract\n",
    "# for rehearsal use collection 2 which have CCDvisit\n",
    "butlerRoot = \"/repo/embargo\"\n",
    "\n",
    "collection1 = 'LSSTComCamSim/runs/nightlyvalidation/20240402/d_2024_03_29/DM-43612'\n",
    "collection2 = 'LSSTComCamSim/runs/nightlyvalidation/20240403/d_2024_03_29/DM-43612'\n",
    "collection3 = 'LSSTComCamSim/runs/nightlyvalidation/20240404/d_2024_03_29/DM-43612'\n",
    "collection = 'LATISS/runs/AUXTEL_DRP_IMAGING_20230509_20240311/w_2024_10/PREOPS-4985'\n",
    "collectionn = collection2\n",
    "#collections = [collection1,collection2,collection3]\n",
    "collections = [collection2]\n",
    "collectionStr = collectionn.replace(\"/\", \"_\")\n",
    "fn_ccdVisit_tracts_patches = f\"ccdVisittractpatch_{collectionStr}.csv\"\n",
    "instrument = 'LSSTComCamSim'\n",
    "skymapName = \"ops_rehersal_prep_2k_v1\"\n",
    "where_clause = \"instrument = \\'\" + instrument+ \"\\'\"\n",
    "NDET = 9\n",
    "suptitle=  collectionStr\n",
    "\n",
    "tract = 9880 # mostly for light-curves\n",
    "detector = 0\n",
    "band = 'g'\n",
    "\n",
    "suptitle = collectionStr + f\" inst = {instrument} tract = {tract}\""
   ]
  },
  {
   "cell_type": "code",
   "execution_count": null,
   "id": "3048e2e2-2489-43e0-a96d-848c548700cb",
   "metadata": {},
   "outputs": [],
   "source": [
    "dataId = {\"skymap\": skymapName, \"tract\": tract, \"instrument\": instrument}\n",
    "repo = '/sdf/group/rubin/repo/oga/'\n",
    "butler = dafButler.Butler(repo)\n",
    "#t = Butler.get(table_sel, dataId=dataId, collections=collections)\n",
    "registry = butler.registry"
   ]
  },
  {
   "cell_type": "code",
   "execution_count": null,
   "id": "2b605f6f-3dce-4ceb-a12a-10fe8ef10e4c",
   "metadata": {},
   "outputs": [],
   "source": [
    "def remove_figure(fig):\n",
    "    \"\"\"\n",
    "    Remove a figure to reduce memory footprint.\n",
    "\n",
    "    Parameters\n",
    "    ----------\n",
    "    fig: matplotlib.figure.Figure\n",
    "        Figure to be removed.\n",
    "\n",
    "    Returns\n",
    "    -------\n",
    "    None\n",
    "    \"\"\"\n",
    "    # get the axes and clear their images\n",
    "    for ax in fig.get_axes():\n",
    "        for im in ax.get_images():\n",
    "            im.remove()\n",
    "    fig.clf()       # clear the figure\n",
    "    plt.close(fig)  # close the figure\n",
    "    gc.collect()    # call the garbage collector"
   ]
  },
  {
   "cell_type": "code",
   "execution_count": null,
   "id": "217d9116-61a1-4ab3-9ba4-4cc8668956e8",
   "metadata": {},
   "outputs": [],
   "source": [
    "def get_corners_radec(wcs, bbox):\n",
    "    \"\"\"\n",
    "    Return the corners in RA,Dec in degrees given the WCS and bounding box for an image.\n",
    "\n",
    "    Parameters\n",
    "    ----------\n",
    "    wcs: image WCS returned by the Butler\n",
    "    bbox: bounding box returned by the Butler\n",
    "\n",
    "    Returns\n",
    "    -------\n",
    "    corners_ra, corners_dec in decimal degrees\n",
    "    \"\"\"\n",
    "\n",
    "    corners_x = [bbox.beginX, bbox.beginX, bbox.endX, bbox.endX]\n",
    "    corners_y = [bbox.beginY, bbox.endY, bbox.endY, bbox.beginY]\n",
    "    corners_ra = []\n",
    "    corners_dec = []\n",
    "    for i in range(4):\n",
    "        radec = wcs.pixelToSky(corners_x[i], corners_y[i])\n",
    "        corners_ra.append(radec.getRa().asDegrees())\n",
    "        corners_dec.append(radec.getDec().asDegrees())\n",
    "    \n",
    "    return corners_ra, corners_dec"
   ]
  },
  {
   "cell_type": "markdown",
   "id": "07a8363d-79f5-4566-bda9-bb83b3ac7cff",
   "metadata": {},
   "source": [
    "$$\n",
    "m_{AB} = -2.5 \\log_{10}(F_\\nu(nJ) + 31.4\n",
    "$$\n",
    "\n",
    "\n",
    "Proof\n",
    "$$\n",
    "m_{AB} = -2.5 \\log_{10}\\left(\\frac{F_\\nu}{1nJ}\\right) - 2.5 \\log_{10} \\frac{1nJ}{3616 Jy}\n",
    "$$\n",
    "\n",
    "\n",
    "$$\n",
    "m_{AB} = -2.5 \\log_{10}\\left(\\frac{F_\\nu}{1nJ}\\right) + 2.5 \\log_{10} (3616 \\times 10^9)\n",
    "$$\n",
    "\n",
    "$$\n",
    "m_{AB} = -2.5 \\log_{10}\\left(\\frac{F_\\nu}{1nJ}\\right) + 31.4\n",
    "$$"
   ]
  },
  {
   "cell_type": "code",
   "execution_count": null,
   "id": "81240109-5d2e-4829-82dc-dddc9d4cda05",
   "metadata": {},
   "outputs": [],
   "source": [
    "def convert_fluxtomag(x) :\n",
    "    \"\"\"\n",
    "    The object and source catalogs store only fluxes. There are hundreds of flux-related columns, \n",
    "    and to store them also as magnitudes would be redundant, and a waste of space.\n",
    "    All flux units are nanojanskys. The AB Magnitudes Wikipedia page provides a concise resource \n",
    "    for users unfamiliar with AB magnitudes and jansky fluxes. To convert to AB magnitudes use:\n",
    "    As demonstrated in Section 2.3.2, to add columns of magnitudes after retrieving columns of flux, users can do this:\n",
    "    results_table['r_calibMag'] = -2.50 * numpy.log10(results_table['r_calibFlux']) + 31.4\n",
    "    results_table['r_cModelMag'] = -2.50 * numpy.log10(results_table['r_cModelFlux']) + 31.4\n",
    "    (from DP0 tutorial)\n",
    "    \"\"\"\n",
    "    return -2.50 * np.log10(x) + 31.4"
   ]
  },
  {
   "cell_type": "code",
   "execution_count": null,
   "id": "56f4cf67-cef3-4927-9f02-0d7ecf54c612",
   "metadata": {},
   "outputs": [],
   "source": [
    "import lsst.geom as geom\n",
    "import lsst.sphgeom\n",
    "\n",
    "skymap = butler.get('skyMap', skymap=skymapName, collections=collections )\n",
    "tractInfo = skymap.generateTract(tract)\n",
    "for patch in tractInfo:    \n",
    "    patchID = patch.getSequentialIndex()\n",
    "        \n",
    "    ibb=patch.getInnerBBox()\n",
    "    tWCS=tractInfo.getWcs()\n",
    "       \n",
    "    # loop on the 4 corners\n",
    "    for icorn,corner in enumerate(ibb.getCorners()):\n",
    "        p = geom.Point2D(corner.getX(), corner.getY())\n",
    "        coord = tWCS.pixelToSky(p)\n"
   ]
  },
  {
   "cell_type": "code",
   "execution_count": null,
   "id": "41a61653-4393-4ebf-b9f8-08f146b099df",
   "metadata": {},
   "outputs": [],
   "source": [
    "tWCS"
   ]
  },
  {
   "cell_type": "code",
   "execution_count": null,
   "id": "a2f03b45-10e1-4c74-8e82-1af34112d72b",
   "metadata": {},
   "outputs": [],
   "source": [
    "#arcsec/pixel\n",
    "pixel_scale = tWCS.getPixelScale().asArcseconds()"
   ]
  },
  {
   "cell_type": "markdown",
   "id": "35b5b65f-a6ca-4e98-a54c-d72cf3f5ca89",
   "metadata": {},
   "source": [
    "## Selected visits"
   ]
  },
  {
   "cell_type": "code",
   "execution_count": null,
   "id": "0cc02f38-44dd-4b94-8227-b3db1cbb52f7",
   "metadata": {},
   "outputs": [],
   "source": [
    "#file_selected_visits = os.path.join(\"../Visits\",fn_ccdVisit_tracts_patches)  \n",
    "#df_myselectedvisits = pd.read_csv(file_selected_visits,index_col=0)\n",
    "#cut = (df_myselectedvisits.band == band) &  (df_myselectedvisits.tractID == tract) \n",
    "#df = df_myselectedvisits[cut]"
   ]
  },
  {
   "cell_type": "code",
   "execution_count": null,
   "id": "817f7633-e942-4c18-aea6-687c19b5e694",
   "metadata": {},
   "outputs": [],
   "source": [
    "if 1:\n",
    "    # get the csv file produced by stat_on_visits_LSSTAuxtel.ipynb in ../Visits\n",
    "    file_selected_visits = os.path.join(\"../Visits\",fn_ccdVisit_tracts_patches)\n",
    "    \n",
    "  \n",
    "    df_myselectedvisits = pd.read_csv(file_selected_visits,index_col=0)\n",
    "\n",
    "    # select the band\n",
    "    cut = (df_myselectedvisits.band == band) &  (df_myselectedvisits.tractID == tract) & (df_myselectedvisits.detector == detector)\n",
    "    df_myselectedvisits = df_myselectedvisits[cut]\n",
    "\n",
    "    #move the visitid as a column not to loose it during the merge \n",
    "    df_myselectedvisits.reset_index(inplace=True) \n"
   ]
  },
  {
   "cell_type": "code",
   "execution_count": null,
   "id": "bff3d040-2c91-4d12-a698-45766955841c",
   "metadata": {},
   "outputs": [],
   "source": [
    "index = 10\n",
    "visitId = df_myselectedvisits.iloc[index]['visitId']"
   ]
  },
  {
   "cell_type": "markdown",
   "id": "a6bf5434-b0c1-4aff-a441-a5e41e95c823",
   "metadata": {},
   "source": [
    "Note here:\n",
    "- zeroPoint is in ABMag relative to a flux of 1 ADU/sec\n",
    "- skyBg is in ADU \n",
    "- skyNoise is in ADU "
   ]
  },
  {
   "cell_type": "code",
   "execution_count": null,
   "id": "ccf80291-8f44-4423-baa5-e9715fbb5df0",
   "metadata": {},
   "outputs": [],
   "source": [
    "df_myselectedvisits.iloc[index]"
   ]
  },
  {
   "cell_type": "code",
   "execution_count": null,
   "id": "06e42db8-3cfe-4aed-864a-646b71abfb64",
   "metadata": {},
   "outputs": [],
   "source": [
    "datasetType = 'postISRCCD'\n",
    "dataId = {'visit': visitId, 'instrument':instrument , 'detector': 0}\n",
    "datasetRefs = registry.queryDatasets(datasetType, dataId=dataId, collections  = collections)\n",
    "\n",
    "for i, ref in enumerate(datasetRefs):\n",
    "    print(ref.dataId)\n",
    "    print(\"band:\", ref.dataId['band'])\n",
    "    band = ref.dataId['band']\n",
    "    img= butler.get(ref)\n",
    "    md = img.getMetadata().toDict()\n",
    "\n",
    "    list_of_keys = list(md.keys())\n",
    "    for key in list_of_keys:\n",
    "        if \"CALIB\" in key:\n",
    "            print(key,\"::\",md[key])\n",
    "        if \"unit\" in key or \"UNIT\" in key:\n",
    "            print(key,\"::\",md[key])\n",
    "        if \"gain\" in key or \"GAIN\" in key:\n",
    "            print(key,\"::\",md[key])"
   ]
  },
  {
   "cell_type": "code",
   "execution_count": null,
   "id": "b2140059-b4f9-43b0-9f15-073204f47875",
   "metadata": {},
   "outputs": [],
   "source": [
    "def getvmivmaxfromimg(arr):\n",
    "    data_flat = arr.flatten()\n",
    "    med = np.median(data_flat)\n",
    "    sigMad = 1.4826 * np.median(np.fabs(data_flat - med))\n",
    "    vmin = med - 3 * sigMad\n",
    "    vmax = med + 3 * sigMad\n",
    "    return vmin,vmax"
   ]
  },
  {
   "cell_type": "markdown",
   "id": "61891eda-6ad0-4a68-8c98-d0ba74f5ca0e",
   "metadata": {},
   "source": [
    "## One postISRCCD"
   ]
  },
  {
   "cell_type": "code",
   "execution_count": null,
   "id": "db35ab8c-7393-490c-9082-a34d732485f0",
   "metadata": {},
   "outputs": [],
   "source": [
    "datasetType = 'postISRCCD'"
   ]
  },
  {
   "cell_type": "code",
   "execution_count": null,
   "id": "e1baa824-9efe-4592-9ab5-e4372c776ba0",
   "metadata": {},
   "outputs": [],
   "source": [
    "datasetRefs = registry.queryDatasets('postISRCCD', dataId=dataId, collections  = collections)\n",
    "for i, ref in enumerate(datasetRefs):\n",
    "    print(ref.dataId)\n",
    "    expo  = butler.get(ref)\n",
    "    img = expo.getImage()\n",
    "#wcs = img.getWcs()\n",
    "#bbox = img.getBBox()\n",
    "#corners_ra, corners_dec = get_corners_radec(wcs, bbox)\n",
    "#extent = [np.min(corners_ra),np.max(corners_ra),np.min(corners_dec),np.max(corners_dec)]\n",
    "vmin,vmax = getvmivmaxfromimg(img.array)"
   ]
  },
  {
   "cell_type": "code",
   "execution_count": null,
   "id": "5bcc9555-3df6-4e5c-af75-1cb4f553db83",
   "metadata": {},
   "outputs": [],
   "source": [
    "data_flat = img.array.flatten()\n",
    "mu = np.mean(data_flat)\n",
    "med = np.median(data_flat)\n",
    "std = np.std(data_flat)\n",
    "sigMad = 1.4826 * np.median(np.fabs(data_flat - med))\n",
    "vmin = med - 3 * sigMad\n",
    "vmax = med + 3 * sigMad\n",
    "\n",
    "textstr = '\\n'.join((\n",
    "r'$\\mu=%.2f$ ADU/pix' % (mu, ),\n",
    "r'$\\mathrm{med}=%.2f$ ADU/pix' % (med, ),\n",
    "r'$\\mathrm{RMS}=%.2f$ ADU/pix' % (std, ),\n",
    "#r'$\\mathrm{med}_{calib}=%.2f$ mag/arcsec2' % (convert_fluxtomag(med*expo_photocalibconstant_mean/pixel_scale**2), ),\n",
    "r'$\\sigma=%.2f$ ADU/pix' % (sigMad, ),))\n",
    "#r'$\\sigma_{calib}=%.1f$ mag/arcsec2' % (convert_fluxtomag(sigMad*expo_photocalibconstant_mean/pixel_scale**2), )))"
   ]
  },
  {
   "cell_type": "code",
   "execution_count": null,
   "id": "27a47d7e-d5ff-4731-b223-1893dfe78c50",
   "metadata": {},
   "outputs": [],
   "source": [
    "fig = plt.figure(figsize=(5,7),constrained_layout=True)\n",
    "\n",
    "\n",
    "gs = gridspec.GridSpec(2, 1, figure=fig,height_ratios=[3,1])\n",
    "ax = fig.add_subplot(gs[0])\n",
    "\n",
    "im=ax.imshow(img.array, origin=\"lower\",vmin=vmin, vmax=vmax, cmap=\"gray\")\n",
    "divider = make_axes_locatable(ax)\n",
    "cax = divider.append_axes(\"right\", size=\"5%\", pad=0.05)\n",
    "the_title = f\"PostISRCCD : visit = {visitId}, band = {band}\"\n",
    "ax.set_title(the_title)\n",
    "ax.set_aspect('equal')\n",
    "ax.set_axis_off()\n",
    "cbar = plt.colorbar(im, cax=cax,ax=ax)\n",
    "cbar.ax.set_ylabel('ADU/pix/exposure')\n",
    "\n",
    "\n",
    "ax= fig.add_subplot(gs[1])\n",
    "histdata = ax.hist(data_flat,bins=50,range=(vmin,vmax),histtype=\"step\",color=\"b\",lw=2)    \n",
    "ax.text(0.05, 0.95, textstr, transform=ax.transAxes, fontsize=10,verticalalignment='top', bbox=props)\n",
    "ax.text(0.65, 0.95, \"LSSTCOMCAMSim\", transform=ax.transAxes, fontsize=12,color=\"red\",verticalalignment='top', bbox=props)\n",
    "ax.set_xlabel(\"Background flux (ADU/pixel)\")\n",
    "ax.get_yaxis().set_visible(False)\n",
    "\n",
    "figname = f\"FigExposure_{datasetType}_{visitId}_LSSTComCamSim.png\"\n",
    "plt.savefig(figname)\n",
    "plt.show()\n"
   ]
  },
  {
   "cell_type": "markdown",
   "id": "08c013e2-6be8-4a6f-9662-1deae4a627b1",
   "metadata": {},
   "source": [
    "## The Calexp"
   ]
  },
  {
   "cell_type": "code",
   "execution_count": null,
   "id": "baff3b32-946c-4764-8bc5-ad2b15f8d875",
   "metadata": {},
   "outputs": [],
   "source": [
    "datasetType = 'calexp'"
   ]
  },
  {
   "cell_type": "code",
   "execution_count": null,
   "id": "7d4ede0f-3e66-4071-bef5-6d0d131b6c3c",
   "metadata": {},
   "outputs": [],
   "source": [
    "calexp = butler.get('calexp', **dataId,collections=collections)\n",
    "bkgd  = butler.get('calexpBackground', **dataId,collections=collections)\n",
    "# get the calibration constant  : expo_photocalibconstant_mean in nJ per ADU. To convert it in AB-Mag : convert_fluxtomag(expo_photocalibconstant_mean) --> zero point\n",
    "calexp_info = calexp.getInfo()\n",
    "photocalib = calexp_info.getPhotoCalib()\n",
    "expo_photocalibconstant_mean = photocalib.getCalibrationMean()\n",
    "\n",
    "mask = calexp.mask.array\n",
    "the_mask = np.where(mask==0,1,0)\n",
    "img = calexp.getImage()\n",
    "vmin,vmax = getvmivmaxfromimg(img.array)\n",
    "\n",
    "#data_flat = img.array.flatten()\n",
    "# here we use the masking\n",
    "data_flat = (img.array*the_mask).flatten()\n",
    "data_flat_nozero = data_flat[~(data_flat==0)]\n",
    "mu = np.mean(data_flat_nozero)\n",
    "med = np.median(data_flat_nozero)\n",
    "std = np.std(data_flat_nozero)\n",
    "sigMad = 1.4826 * np.median(np.fabs(data_flat_nozero - med))\n",
    "vmin = med - 3 * sigMad\n",
    "vmax = med + 3 * sigMad\n",
    "\n",
    "textstr = '\\n'.join((\n",
    "r'$photoCalib=%.2f nJ/ADU$' % (expo_photocalibconstant_mean, ),\n",
    "r'$\\mu=%.2f$ ADU/pix' % (mu, ),\n",
    "r'$\\mathrm{med}=%.2f$ ADU/pix' % (med, ),\n",
    "r'$\\mathrm{RMS}=%.2f$ ADU/pix' % (std, ),\n",
    "#r'$\\mathrm{med}_{calib}=%.2f$ mag/arcsec2' % (convert_fluxtomag(med*expo_photocalibconstant_mean/pixel_scale**2), ),\n",
    "r'$\\sigma=%.2f$ ADU/pix' % (sigMad, ),\n",
    "r'$\\sigma_{calib}=%.1f$ mag/arcsec2' % (convert_fluxtomag(sigMad*expo_photocalibconstant_mean/pixel_scale**2), ),))\n",
    "#r'$photoCalib=%.2f nJ/ADU$' % (expo_photocalibconstant_mean, ),))"
   ]
  },
  {
   "cell_type": "code",
   "execution_count": null,
   "id": "2bccdaf7-a4ff-4277-b8b4-bda43ad4dfd7",
   "metadata": {},
   "outputs": [],
   "source": [
    "fig = plt.figure(figsize=(5,7),constrained_layout=True)\n",
    "\n",
    "\n",
    "gs = gridspec.GridSpec(2, 1, figure=fig,height_ratios=[3,1])\n",
    "ax = fig.add_subplot(gs[0])\n",
    "\n",
    "im=ax.imshow(img.array, origin=\"lower\",vmin=vmin, vmax=vmax, cmap=\"gray\")\n",
    "divider = make_axes_locatable(ax)\n",
    "cax = divider.append_axes(\"right\", size=\"5%\", pad=0.05)\n",
    "the_title = f\"Calexp : visit = {visitId}, band = {band}\"\n",
    "ax.set_title(the_title)\n",
    "ax.set_aspect('equal')\n",
    "ax.set_axis_off()\n",
    "cbar = plt.colorbar(im, cax=cax,ax=ax)\n",
    "cbar.ax.set_ylabel('ADU/pix/exposure')\n",
    "\n",
    "\n",
    "ax= fig.add_subplot(gs[1])\n",
    "histdata = ax.hist(data_flat_nozero,bins=50,range=(vmin,vmax),histtype=\"step\",color=\"b\",lw=2)    \n",
    "ax.text(0.05, 0.95, textstr, transform=ax.transAxes, fontsize=10,verticalalignment='top', bbox=props)\n",
    "ax.text(0.65, 0.95, \"LSSTCOMCAMSim\", transform=ax.transAxes, fontsize=12,color=\"red\",verticalalignment='top', bbox=props)\n",
    "ax.set_xlabel(\"calexp flux (ADU/pixel)\")\n",
    "ax.get_yaxis().set_visible(False)\n",
    "\n",
    "figname = f\"FigExposure_{datasetType}_{visitId}_LSSTComCamSim.png\"\n",
    "plt.savefig(figname)\n",
    "plt.show()"
   ]
  },
  {
   "cell_type": "markdown",
   "id": "a53069d1-6d50-49ac-93b0-881003ba7e43",
   "metadata": {},
   "source": [
    "## The Sky Background"
   ]
  },
  {
   "cell_type": "code",
   "execution_count": null,
   "id": "cd5fdb66-d1b9-477f-ba2d-f1c245f8d187",
   "metadata": {},
   "outputs": [],
   "source": [
    "datasetType = 'calexpBackground'"
   ]
  },
  {
   "cell_type": "code",
   "execution_count": null,
   "id": "0a199876-76f2-4c2d-ac35-2e235a8e7afe",
   "metadata": {},
   "outputs": [],
   "source": [
    "img_bkg = bkgd.getImage()\n",
    "vmin,vmax = getvmivmaxfromimg(img_bkg.array)\n",
    "\n",
    "data_flat = img_bkg.array.flatten()\n",
    "mu = np.mean(data_flat)\n",
    "med = np.median(data_flat)\n",
    "std = np.std(data_flat)\n",
    "sigMad = 1.4826 * np.median(np.fabs(data_flat - med))\n",
    "vmin = med - 3 * sigMad\n",
    "vmax = med + 3 * sigMad\n",
    "\n",
    "#textstr = '\\n'.join((\n",
    "#r'$photoCalib=%.2f nJ/ADU$' % (expo_photocalibconstant_mean, ),\n",
    "#r'$\\mu=%.2f$ ADU/pix' % (mu, ),\n",
    "#r'$\\mathrm{med}=%.2f$ ADU/pix' % (med, ),\n",
    "#r'$\\mathrm{RMS}=%.2f$ ADU/pix' % (std, ),\n",
    "#r'$\\mathrm{med}_{calib}=%.2f$ mag/arcsec2' % (convert_fluxtomag(med*expo_photocalibconstant_mean/pixel_scale**2), ),\n",
    "#r'$\\sigma=%.2f$ ADU/pix' % (sigMad, ),\n",
    "#r'$\\sigma_{calib}=%.1f$ mag/pixel' % (convert_fluxtomag(sigMad*expo_photocalibconstant_mean), ),\n",
    "#r'$photoCalib=%.2f nJ/ADU$' % (expo_photocalibconstant_mean, ),))\n",
    "\n",
    "textstr = '\\n'.join((\n",
    "r'$photoCalib=%.2f nJ/ADU$' % (expo_photocalibconstant_mean, ),\n",
    "r'$\\mu=%.2f$ ADU/pix' % (mu, ),\n",
    "r'$\\mathrm{med}=%.2f$ ADU/pix' % (med, ),\n",
    "#r'$\\mathrm{RMS}=%.2f$ ADU/pix' % (std, ),\n",
    "r'$\\mathrm{med}_{calib}=%.2f$ mag/arcsec2' % (convert_fluxtomag(med*expo_photocalibconstant_mean/pixel_scale**2), ),\n",
    "r'$\\sigma=%.2f$ ADU/pix' % (sigMad, ),\n",
    "r'$\\sigma_{calib}=%.1f$ mag/pixel' % (convert_fluxtomag(sigMad*expo_photocalibconstant_mean), ),\n",
    "r'$\\sigma_{calib}=%.2f$ nJ/pixel' % (expo_photocalibconstant_mean*sigMad, ),))"
   ]
  },
  {
   "cell_type": "code",
   "execution_count": null,
   "id": "8ae44584-d2b8-468a-a720-a951ccb9c9c2",
   "metadata": {},
   "outputs": [],
   "source": [
    "fig = plt.figure(figsize=(5,7),constrained_layout=True)\n",
    "\n",
    "gs = gridspec.GridSpec(2, 1, figure=fig,height_ratios=[3,1])\n",
    "ax = fig.add_subplot(gs[0])\n",
    "\n",
    "im=ax.imshow(img_bkg.array, origin=\"lower\",vmin=vmin, vmax=vmax, cmap=\"gray\")\n",
    "divider = make_axes_locatable(ax)\n",
    "cax = divider.append_axes(\"right\", size=\"5%\", pad=0.05)\n",
    "the_title = f\"Calex Bkg : visit = {visitId}, band = {band}\"\n",
    "ax.set_title(the_title)\n",
    "ax.set_aspect('equal')\n",
    "ax.set_axis_off()\n",
    "cbar = plt.colorbar(im, cax=cax,ax=ax)\n",
    "cbar.ax.set_ylabel('ADU/pix/exposure')\n",
    "\n",
    "\n",
    "ax= fig.add_subplot(gs[1])\n",
    "histdata = ax.hist(data_flat,bins=50,range=(vmin,vmax),histtype=\"step\",color=\"b\",lw=2)    \n",
    "ax.text(0.05, 0.95, textstr, transform=ax.transAxes, fontsize=10,verticalalignment='top', bbox=props)\n",
    "ax.text(0.65, 0.95, \"LSSTCOMCAMSim\", transform=ax.transAxes, fontsize=12,color=\"red\",verticalalignment='top', bbox=props)\n",
    "ax.set_xlabel(\"Background flux (ADU/pixel)\")\n",
    "ax.get_yaxis().set_visible(False)\n",
    "\n",
    "figname = f\"FigExposure_{datasetType}_{visitId}_LSSTComCamSim.png\"\n",
    "plt.savefig(figname)\n",
    "plt.show()"
   ]
  },
  {
   "cell_type": "markdown",
   "id": "bf9b1972-fd70-4da7-9309-7445e55702d4",
   "metadata": {},
   "source": [
    "### Compare masked and unmasked"
   ]
  },
  {
   "cell_type": "code",
   "execution_count": null,
   "id": "5cf2ad40-ab83-40a8-b7fd-5e685df6825a",
   "metadata": {},
   "outputs": [],
   "source": [
    "mask = calexp.mask.array\n",
    "the_mask_selsky = np.where(mask==0,1,0)\n",
    "the_mask_selstar = 1-the_mask_selsky\n",
    "\n",
    "arr_bkg_outstars = (img_bkg.array)*the_mask_selsky\n",
    "arr_bkg_understars = (img_bkg.array)*the_mask_selstar"
   ]
  },
  {
   "cell_type": "code",
   "execution_count": null,
   "id": "e88b0b13-b920-41db-8efd-41d872a4680a",
   "metadata": {},
   "outputs": [],
   "source": [
    "fig = plt.figure(figsize=(16,14),constrained_layout=True)\n",
    "gs = gridspec.GridSpec(2, 2, figure=fig,width_ratios=[1,1],height_ratios=[1,1])\n",
    "\n",
    "ax = fig.add_subplot(gs[0,0])\n",
    "im=ax.imshow(the_mask_selsky, origin=\"lower\", cmap=\"gray\")\n",
    "divider = make_axes_locatable(ax)\n",
    "cax = divider.append_axes(\"right\", size=\"5%\", pad=0.05)\n",
    "the_title = f\"mask select sky : visit = {visitId}, band = {band}\"\n",
    "ax.set_title(the_title)\n",
    "ax.set_aspect('equal')\n",
    "ax.set_axis_off()\n",
    "cbar = plt.colorbar(im, cax=cax,ax=ax)\n",
    "cbar.ax.set_ylabel('ADU/pix/exposure')\n",
    "\n",
    "ax = fig.add_subplot(gs[0,1])\n",
    "im=ax.imshow(the_mask_selstar,  cmap=\"gray\")\n",
    "divider = make_axes_locatable(ax)\n",
    "cax = divider.append_axes(\"right\", size=\"5%\", pad=0.05)\n",
    "the_title = f\"mask select star: visit = {visitId}, band = {band}\"\n",
    "ax.set_title(the_title)\n",
    "ax.set_aspect('equal')\n",
    "ax.set_axis_off()\n",
    "cbar = plt.colorbar(im, cax=cax,ax=ax)\n",
    "cbar.ax.set_ylabel('ADU/pix/exposure')\n",
    "\n",
    "ax = fig.add_subplot(gs[1,0])\n",
    "im=ax.imshow(arr_bkg_outstars,  cmap=\"gray\")\n",
    "divider = make_axes_locatable(ax)\n",
    "cax = divider.append_axes(\"right\", size=\"5%\", pad=0.05)\n",
    "the_title = f\"masked CalexBg select sky: visit = {visitId}, band = {band}\"\n",
    "ax.set_title(the_title)\n",
    "ax.set_aspect('equal')\n",
    "ax.set_axis_off()\n",
    "cbar = plt.colorbar(im, cax=cax,ax=ax)\n",
    "cbar.ax.set_ylabel('ADU/pix/exposure')\n",
    "\n",
    "ax = fig.add_subplot(gs[1,1])\n",
    "im=ax.imshow(arr_bkg_understars,  cmap=\"gray\")\n",
    "divider = make_axes_locatable(ax)\n",
    "cax = divider.append_axes(\"right\", size=\"5%\", pad=0.05)\n",
    "the_title = f\"masked CalexBg select stars: visit = {visitId}, band = {band}\"\n",
    "ax.set_title(the_title)\n",
    "ax.set_aspect('equal')\n",
    "ax.set_axis_off()\n",
    "cbar = plt.colorbar(im, cax=cax,ax=ax)\n",
    "cbar.ax.set_ylabel('ADU/pix/exposure')\n",
    "plt.show()\n",
    "remove_figure(fig)"
   ]
  },
  {
   "cell_type": "code",
   "execution_count": null,
   "id": "9783b84d-02e3-442e-a040-354b96d3fb8d",
   "metadata": {},
   "outputs": [],
   "source": [
    "# No Calexp Background \n",
    "data_flat = img_bkg.array.flatten()\n",
    "mu = np.mean(data_flat)\n",
    "med = np.median(data_flat)\n",
    "std = np.std(data_flat)\n",
    "sigMad = 1.4826 * np.median(np.fabs(data_flat - med))\n",
    "vmin = med - 3 * sigMad\n",
    "vmax = med + 3 * sigMad\n",
    "textstr = '\\n'.join((\n",
    "'-----------------------',      \n",
    "'unmasked background',    \n",
    "r'$photoCalib=%.2f nJ/ADU$' % (expo_photocalibconstant_mean, ),\n",
    "r'$\\mu=%.2f$ ADU/pix' % (mu, ),\n",
    "r'$\\mathrm{med}=%.2f$ ADU/pix' % (med, ),\n",
    "#r'$\\mathrm{RMS}=%.2f$ ADU/pix' % (std, ),\n",
    "r'$\\mathrm{med}_{calib}=%.2f$ mag/arcsec2' % (convert_fluxtomag(med*expo_photocalibconstant_mean/pixel_scale**2), ),\n",
    "r'$\\sigma=%.2f$ ADU/pix' % (sigMad, ),\n",
    "r'$\\sigma_{calib}=%.1f$ mag/pixel' % (convert_fluxtomag(sigMad*expo_photocalibconstant_mean), ),\n",
    "r'$\\sigma_{calib}=%.2f$ nJ/pixel' % (expo_photocalibconstant_mean*sigMad, ),))"
   ]
  },
  {
   "cell_type": "code",
   "execution_count": null,
   "id": "bcc5ccf9-88d0-4157-8f13-0e7683a0cda3",
   "metadata": {},
   "outputs": [],
   "source": [
    "# No Calexp Background : Select outside stars\n",
    "data_flat_outstar = arr_bkg_outstars.flatten()\n",
    "mu_outstar = np.mean(data_flat_outstar)\n",
    "med_outstar = np.median(data_flat_outstar)\n",
    "std_outstar = np.std(data_flat_outstar)\n",
    "sigMad_outstar = 1.4826 * np.median(np.fabs(data_flat_outstar - med_outstar))\n",
    "vmin_outstar = med_outstar - 3 * sigMad_outstar\n",
    "vmax_outstar = med_outstar + 3 * sigMad_outstar\n",
    "textstr_outstar = '\\n'.join((\n",
    "'-----------------------',  \n",
    "'background out stars',    \n",
    "r'$photoCalib=%.2f nJ/ADU$' % (expo_photocalibconstant_mean, ),\n",
    "r'$\\mu=%.2f$ ADU/pix' % (mu_outstar, ),\n",
    "r'$\\mathrm{med}=%.2f$ ADU/pix' % (med_outstar, ),\n",
    "#r'$\\mathrm{RMS}=%.2f$ ADU/pix' % (std, ),\n",
    "r'$\\mathrm{med}_{calib}=%.2f$ mag/arcsec2' % (convert_fluxtomag(med_outstar*expo_photocalibconstant_mean/pixel_scale**2), ),\n",
    "r'$\\sigma=%.2f$ ADU/pix' % (sigMad_outstar, ),\n",
    "r'$\\sigma_{calib}=%.1f$ mag/pixel' % (convert_fluxtomag(sigMad_outstar*expo_photocalibconstant_mean), ),\n",
    "r'$\\sigma_{calib}=%.2f$ nJ/pixel' % (expo_photocalibconstant_mean*sigMad_outstar, ),))"
   ]
  },
  {
   "cell_type": "code",
   "execution_count": null,
   "id": "f84b85cc-ff20-45b0-a08b-272f8705b90e",
   "metadata": {},
   "outputs": [],
   "source": [
    "# No Calexp Background : Select inside stars\n",
    "data_flat_instar = arr_bkg_understars.flatten()\n",
    "data_flat_instar=data_flat_instar[data_flat_instar!=0]\n",
    "mu_instar = np.mean(data_flat_instar)\n",
    "med_instar = np.median(data_flat_instar)\n",
    "std_instar = np.std(data_flat_instar)\n",
    "sigMad_instar = 1.4826 * np.median(np.fabs(data_flat_instar - med_instar))\n",
    "vmin_instar = med_instar - 3 * sigMad_instar\n",
    "vmax_instar = med_instar + 3 * sigMad_instar\n",
    "textstr_instar = '\\n'.join((\n",
    "'-----------------------',    \n",
    "'background in stars',    \n",
    "r'$photoCalib=%.2f nJ/ADU$' % (expo_photocalibconstant_mean, ),\n",
    "r'$\\mu=%.2f$ ADU/pix' % (mu_instar, ),\n",
    "r'$\\mathrm{med}=%.2f$ ADU/pix' % (med_instar, ),\n",
    "#r'$\\mathrm{RMS}=%.2f$ ADU/pix' % (std, ),\n",
    "r'$\\mathrm{med}_{calib}=%.2f$ mag/arcsec2' % (convert_fluxtomag(med_instar*expo_photocalibconstant_mean/pixel_scale**2), ),\n",
    "r'$\\sigma=%.2f$ ADU/pix' % (sigMad_instar, ),\n",
    "r'$\\sigma_{calib}=%.1f$ mag/pixel' % (convert_fluxtomag(sigMad_instar*expo_photocalibconstant_mean), ),\n",
    "r'$\\sigma_{calib}=%.2f$ nJ/pixel' % (expo_photocalibconstant_mean*sigMad_instar, ),))"
   ]
  },
  {
   "cell_type": "code",
   "execution_count": null,
   "id": "a2b15044-1ae5-42c8-9410-c1c8eaab874f",
   "metadata": {},
   "outputs": [],
   "source": [
    "fig = plt.figure(figsize=(10,6),constrained_layout=True)\n",
    "ax=fig.add_subplot(1,1,1)\n",
    "histdata = ax.hist(data_flat,bins=50,density=True,range=(vmin,vmax),histtype=\"step\",color=\"b\",lw=2,label=textstr)  \n",
    "histdata1 = ax.hist(data_flat_instar,bins=50,density=True,range=(vmin,vmax),histtype=\"step\",color=\"r\",lw=2,label=textstr_instar) \n",
    "histdata2 = ax.hist(data_flat_outstar,bins=50,density=True,range=(vmin,vmax),histtype=\"step\",color=\"g\",lw=2,label=textstr_outstar) \n",
    "ax.legend(bbox_to_anchor=(1.1, 1.05))\n",
    "the_title  = f\"LSSTComCamSim Calexp Bkg: visit = {visitId}, band = {band}\"\n",
    "ax.set_title(the_title)\n",
    "ax.set_xlabel(\"Background flux (ADU/pixel)\")\n",
    "ax.set_ylabel(\"density\")"
   ]
  },
  {
   "cell_type": "code",
   "execution_count": null,
   "id": "f18d16b4-e211-4c56-af88-2bb6dda1e57f",
   "metadata": {},
   "outputs": [],
   "source": []
  }
 ],
 "metadata": {
  "kernelspec": {
   "display_name": "LSST",
   "language": "python",
   "name": "lsst"
  },
  "language_info": {
   "codemirror_mode": {
    "name": "ipython",
    "version": 3
   },
   "file_extension": ".py",
   "mimetype": "text/x-python",
   "name": "python",
   "nbconvert_exporter": "python",
   "pygments_lexer": "ipython3",
   "version": "3.11.7"
  }
 },
 "nbformat": 4,
 "nbformat_minor": 5
}
