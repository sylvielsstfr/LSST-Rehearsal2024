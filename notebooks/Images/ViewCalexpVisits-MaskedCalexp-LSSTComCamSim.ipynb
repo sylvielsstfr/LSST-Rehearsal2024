{
 "cells": [
  {
   "cell_type": "markdown",
   "id": "45bf4242-bfc5-4d43-88c4-a8059ae148df",
   "metadata": {},
   "source": [
    "# Visit individual Calexp-Masked from Selected visits in LSSTComCamSim"
   ]
  },
  {
   "cell_type": "markdown",
   "id": "01993b6e-6438-4fca-a5d5-1f9791336847",
   "metadata": {},
   "source": [
    "- author Sylvie Dagoret-Campagne\n",
    "- creation date 2024-05-06\n",
    "- last update 2024-05-06\n",
    "- affiliation : IJCLab\n",
    "- Kernel **w_2024_16**"
   ]
  },
  {
   "cell_type": "code",
   "execution_count": null,
   "id": "bf752b70-e6ca-4cbf-8e8c-20bf7f0d8f61",
   "metadata": {},
   "outputs": [],
   "source": [
    "import numpy as np\n",
    "import matplotlib.pyplot as plt\n",
    "%matplotlib inline\n",
    "from mpl_toolkits.axes_grid1 import make_axes_locatable\n",
    "from matplotlib.colors import LogNorm,SymLogNorm\n",
    "\n",
    "\n",
    "import matplotlib.ticker                         # here's where the formatter is\n",
    "from matplotlib.ticker import (MultipleLocator, FormatStrFormatter,\n",
    "                               AutoMinorLocator)\n",
    "\n",
    "from astropy.visualization import (MinMaxInterval, SqrtStretch,ZScaleInterval,PercentileInterval,\n",
    "                                   ImageNormalize,imshow_norm)\n",
    "from astropy.visualization.stretch import SinhStretch, LinearStretch,AsinhStretch,LogStretch\n",
    "\n",
    "from astropy.io import fits\n",
    "from astropy.wcs import WCS\n",
    "\n",
    "\n",
    "import pandas as pd\n",
    "\n",
    "import matplotlib.ticker                         # here's where the formatter is\n",
    "import os\n",
    "import re\n",
    "import pandas as pd\n",
    "import pickle\n",
    "from collections import OrderedDict\n",
    "\n",
    "plt.rcParams[\"figure.figsize\"] = (4,3)\n",
    "plt.rcParams[\"axes.labelsize\"] = 'x-large'\n",
    "plt.rcParams['axes.titlesize'] = 'x-large'\n",
    "plt.rcParams['xtick.labelsize']= 'x-large'\n",
    "plt.rcParams['ytick.labelsize']= 'x-large'"
   ]
  },
  {
   "cell_type": "code",
   "execution_count": null,
   "id": "4950be9c-6c53-44ba-9804-d89a6b877534",
   "metadata": {},
   "outputs": [],
   "source": [
    "import gc"
   ]
  },
  {
   "cell_type": "code",
   "execution_count": null,
   "id": "0ca0d1e6-5f82-4c43-aaa3-8524fc2bc5ba",
   "metadata": {},
   "outputs": [],
   "source": [
    "from matplotlib.ticker import (MultipleLocator, FormatStrFormatter,\n",
    "                               AutoMinorLocator)\n",
    "\n",
    "from astropy.visualization import (MinMaxInterval, SqrtStretch,ZScaleInterval,PercentileInterval,\n",
    "                                   ImageNormalize,imshow_norm)\n",
    "from astropy.visualization.stretch import SinhStretch, LinearStretch,AsinhStretch,LogStretch\n",
    "\n",
    "from astropy.time import Time\n"
   ]
  },
  {
   "cell_type": "code",
   "execution_count": null,
   "id": "51ddfce4-9a0f-4804-bc6a-7f9138874f16",
   "metadata": {},
   "outputs": [],
   "source": [
    "import lsst.daf.butler as dafButler\n",
    "#import lsst.summit.utils.butlerUtils as butlerUtils"
   ]
  },
  {
   "cell_type": "code",
   "execution_count": null,
   "id": "34f037b5-b6a2-4f93-b86b-a6108d8a5ea7",
   "metadata": {},
   "outputs": [],
   "source": [
    "import lsst.afw.image as afwImage\n",
    "import lsst.afw.display as afwDisplay\n",
    "import lsst.afw.table as afwTable\n",
    "import lsst.geom as geom"
   ]
  },
  {
   "cell_type": "code",
   "execution_count": null,
   "id": "7f26c627-fc82-4f60-8e0a-c25657f092f9",
   "metadata": {},
   "outputs": [],
   "source": [
    "# LSST Display\n",
    "import lsst.afw.display as afwDisplay\n",
    "afwDisplay.setDefaultBackend('matplotlib')"
   ]
  },
  {
   "cell_type": "code",
   "execution_count": null,
   "id": "aba2cfa4-809a-4f1c-8e8f-9f81547e0b5e",
   "metadata": {},
   "outputs": [],
   "source": [
    "transform = AsinhStretch() + PercentileInterval(99.)"
   ]
  },
  {
   "cell_type": "markdown",
   "id": "bd928c45-cd0d-49d4-9cb3-7ef8de12c3b8",
   "metadata": {},
   "source": [
    "### Example to fit a gaussian with astropy\n",
    "\n",
    "- https://github.com/sylvielsstfr/Fors2pcigale/blob/19-plot-fitted-emission-lines-from-notebooks/src/gelato/Example/ExampleFitInNb.ipynb"
   ]
  },
  {
   "cell_type": "code",
   "execution_count": null,
   "id": "1cf2a4c0-75bf-419b-99f8-1aa6cfccbb7c",
   "metadata": {},
   "outputs": [],
   "source": [
    "from astropy.modeling import models, fitting\n",
    "from astropy import modeling\n",
    "# define a model for a line\n",
    "g_init = models.Gaussian1D(amplitude=1, mean=0, stddev=1)\n",
    "# initialize a linear fitter\n",
    "fit_g = fitting.LevMarLSQFitter()"
   ]
  },
  {
   "cell_type": "code",
   "execution_count": null,
   "id": "a60605b7-852b-4a2e-9eaa-104c0b767884",
   "metadata": {},
   "outputs": [],
   "source": [
    "m = modeling.models.Gaussian1D(amplitude=10, mean=30, stddev=5)\n",
    "x = np.linspace(0, 100, 2000)\n",
    "data = m(x)\n",
    "data = data + np.sqrt(data) * np.random.random(x.size) - 0.5\n",
    "data -= data.min()\n",
    "plt.plot(x, data)"
   ]
  },
  {
   "cell_type": "code",
   "execution_count": null,
   "id": "41753d2f-6ad7-4866-af3f-7622fb5e9d98",
   "metadata": {},
   "outputs": [],
   "source": [
    "fitter = modeling.fitting.LevMarLSQFitter()\n",
    "model = modeling.models.Gaussian1D()   # depending on the data you need to give some initial values\n",
    "fitted_model = fit_g(model, x, data)"
   ]
  },
  {
   "cell_type": "code",
   "execution_count": null,
   "id": "a8480b48-68d6-4dbe-944a-e4ac572c68eb",
   "metadata": {},
   "outputs": [],
   "source": [
    "fitted_model.mean.value"
   ]
  },
  {
   "cell_type": "markdown",
   "id": "351e0468-d4f5-4c9e-b3db-1263499470cc",
   "metadata": {},
   "source": [
    "Import statements that we will need later"
   ]
  },
  {
   "cell_type": "markdown",
   "id": "5db4beba-3082-4754-8e70-26472f1c226c",
   "metadata": {},
   "source": [
    "Let's make a new plot and metric tool, we'll base it on the example in the getting started guide."
   ]
  },
  {
   "cell_type": "code",
   "execution_count": null,
   "id": "f902988a-8d6d-4399-b007-553022185183",
   "metadata": {},
   "outputs": [],
   "source": [
    "# INSERT YOUR collection and tract\n",
    "# for rehearsal use collection 2 which have CCDvisit\n",
    "butlerRoot = \"/repo/embargo\"\n",
    "\n",
    "collection1 = 'LSSTComCamSim/runs/nightlyvalidation/20240402/d_2024_03_29/DM-43612'\n",
    "collection2 = 'LSSTComCamSim/runs/nightlyvalidation/20240403/d_2024_03_29/DM-43612'\n",
    "collection3 = 'LSSTComCamSim/runs/nightlyvalidation/20240404/d_2024_03_29/DM-43612'\n",
    "collection = 'LATISS/runs/AUXTEL_DRP_IMAGING_20230509_20240311/w_2024_10/PREOPS-4985'\n",
    "collectionn = collection2\n",
    "#collections = [collection1,collection2,collection3]\n",
    "collections = [collection2]\n",
    "collectionStr = collectionn.replace(\"/\", \"_\")\n",
    "fn_ccdVisit_tracts_patches = f\"ccdVisittractpatch_{collectionStr}.csv\"\n",
    "instrument = 'LSSTComCamSim'\n",
    "skymapName = \"ops_rehersal_prep_2k_v1\"\n",
    "where_clause = \"instrument = \\'\" + instrument+ \"\\'\"\n",
    "NDET = 9\n",
    "suptitle=  collectionStr\n",
    "\n",
    "tract = 9880 # mostly for light-curves\n",
    "detector = 0\n",
    "band = 'g'\n",
    "\n",
    "suptitle = collectionStr + f\" inst = {instrument} tract = {tract}\""
   ]
  },
  {
   "cell_type": "code",
   "execution_count": null,
   "id": "3048e2e2-2489-43e0-a96d-848c548700cb",
   "metadata": {},
   "outputs": [],
   "source": [
    "dataId = {\"skymap\": skymapName, \"tract\": tract, \"instrument\": instrument}\n",
    "repo = '/sdf/group/rubin/repo/oga/'\n",
    "butler = dafButler.Butler(repo)\n",
    "#t = Butler.get(table_sel, dataId=dataId, collections=collections)\n",
    "registry = butler.registry"
   ]
  },
  {
   "cell_type": "code",
   "execution_count": null,
   "id": "d87b3bde-871f-4eba-87f7-1ee1ade704c5",
   "metadata": {},
   "outputs": [],
   "source": [
    "skymap_auxtel ='latiss_v1'\n",
    "skymap = butler.get('skyMap', skymap=skymap_auxtel, collections=collections)"
   ]
  },
  {
   "cell_type": "code",
   "execution_count": null,
   "id": "aabccbc1-c6dd-42b5-b766-84d15c9e1ab6",
   "metadata": {},
   "outputs": [],
   "source": [
    "def remove_figure(fig):\n",
    "    \"\"\"\n",
    "    Remove a figure to reduce memory footprint.\n",
    "\n",
    "    Parameters\n",
    "    ----------\n",
    "    fig: matplotlib.figure.Figure\n",
    "        Figure to be removed.\n",
    "\n",
    "    Returns\n",
    "    -------\n",
    "    None\n",
    "    \"\"\"\n",
    "    # get the axes and clear their images\n",
    "    for ax in fig.get_axes():\n",
    "        for im in ax.get_images():\n",
    "            im.remove()\n",
    "    fig.clf()       # clear the figure\n",
    "    plt.close(fig)  # close the figure\n",
    "    gc.collect()    # call the garbage collector"
   ]
  },
  {
   "cell_type": "code",
   "execution_count": null,
   "id": "217d9116-61a1-4ab3-9ba4-4cc8668956e8",
   "metadata": {},
   "outputs": [],
   "source": [
    "def get_corners_radec(wcs, bbox):\n",
    "    \"\"\"\n",
    "    Return the corners in RA,Dec in degrees given the WCS and bounding box for an image.\n",
    "\n",
    "    Parameters\n",
    "    ----------\n",
    "    wcs: image WCS returned by the Butler\n",
    "    bbox: bounding box returned by the Butler\n",
    "\n",
    "    Returns\n",
    "    -------\n",
    "    corners_ra, corners_dec in decimal degrees\n",
    "    \"\"\"\n",
    "\n",
    "    corners_x = [bbox.beginX, bbox.beginX, bbox.endX, bbox.endX]\n",
    "    corners_y = [bbox.beginY, bbox.endY, bbox.endY, bbox.beginY]\n",
    "    corners_ra = []\n",
    "    corners_dec = []\n",
    "    for i in range(4):\n",
    "        radec = wcs.pixelToSky(corners_x[i], corners_y[i])\n",
    "        corners_ra.append(radec.getRa().asDegrees())\n",
    "        corners_dec.append(radec.getDec().asDegrees())\n",
    "    \n",
    "    return corners_ra, corners_dec"
   ]
  },
  {
   "cell_type": "code",
   "execution_count": null,
   "id": "81240109-5d2e-4829-82dc-dddc9d4cda05",
   "metadata": {},
   "outputs": [],
   "source": [
    "def convert_fluxtomag(x) :\n",
    "    \"\"\"\n",
    "    The object and source catalogs store only fluxes. There are hundreds of flux-related columns, \n",
    "    and to store them also as magnitudes would be redundant, and a waste of space.\n",
    "    All flux units are nanojanskys. The AB Magnitudes Wikipedia page provides a concise resource \n",
    "    for users unfamiliar with AB magnitudes and jansky fluxes. To convert to AB magnitudes use:\n",
    "    As demonstrated in Section 2.3.2, to add columns of magnitudes after retrieving columns of flux, users can do this:\n",
    "    results_table['r_calibMag'] = -2.50 * numpy.log10(results_table['r_calibFlux']) + 31.4\n",
    "    results_table['r_cModelMag'] = -2.50 * numpy.log10(results_table['r_cModelFlux']) + 31.4\n",
    "    (from DP0 tutorial)\n",
    "    \"\"\"\n",
    "    return -2.50 * np.log10(x) + 31.4"
   ]
  },
  {
   "cell_type": "markdown",
   "id": "42e3f41c-ed40-437d-9029-8bb32f2639b8",
   "metadata": {},
   "source": [
    "## Get Pixel Scale"
   ]
  },
  {
   "cell_type": "code",
   "execution_count": null,
   "id": "f67969cd-64fa-4430-9219-7bee497eb232",
   "metadata": {},
   "outputs": [],
   "source": [
    "import lsst.geom as geom\n",
    "import lsst.sphgeom\n",
    "\n",
    "skymap = butler.get('skyMap', skymap=skymapName, collections=collections )\n",
    "tractInfo = skymap.generateTract(tract)\n",
    "for patch in tractInfo:    \n",
    "    patchID = patch.getSequentialIndex()\n",
    "        \n",
    "    ibb=patch.getInnerBBox()\n",
    "    tWCS=tractInfo.getWcs()\n",
    "       \n",
    "    # loop on the 4 corners\n",
    "    for icorn,corner in enumerate(ibb.getCorners()):\n",
    "        p = geom.Point2D(corner.getX(), corner.getY())\n",
    "        coord = tWCS.pixelToSky(p)\n"
   ]
  },
  {
   "cell_type": "code",
   "execution_count": null,
   "id": "4c68f4f2-62b4-4844-9f62-7b78359f1056",
   "metadata": {},
   "outputs": [],
   "source": [
    "tWCS"
   ]
  },
  {
   "cell_type": "code",
   "execution_count": null,
   "id": "6c71722a-6173-479c-b84b-ef2c653582f7",
   "metadata": {},
   "outputs": [],
   "source": [
    "#arcsec/pixel\n",
    "pixel_scale = tWCS.getPixelScale().asArcseconds()"
   ]
  },
  {
   "cell_type": "markdown",
   "id": "35b5b65f-a6ca-4e98-a54c-d72cf3f5ca89",
   "metadata": {},
   "source": [
    "## Selected visits"
   ]
  },
  {
   "cell_type": "code",
   "execution_count": null,
   "id": "817f7633-e942-4c18-aea6-687c19b5e694",
   "metadata": {},
   "outputs": [],
   "source": [
    "if 1:\n",
    "    # get the csv file produced by stat_on_visits_LSSTAuxtel.ipynb in ../Visits\n",
    "    #file_selected_visits = \"../Visits/ccdVisittractpatch_LATISS_runs_AUXTEL_DRP_IMAGING_20230509_20240311_w_2024_10_PREOPS-4985.csv\"\n",
    "    file_selected_visits = os.path.join(\"../Visits\",fn_ccdVisit_tracts_patches)\n",
    "\n",
    "    df_myselectedvisits = pd.read_csv(file_selected_visits,index_col=0)\n",
    "\n",
    "    # select the band\n",
    "    cut = (df_myselectedvisits.band == band) &  (df_myselectedvisits.tractID == tract) \n",
    "    df_myselectedvisits = df_myselectedvisits[cut]\n",
    "\n",
    "    #move the visitid as a column not to loose it during the merge \n",
    "    df_myselectedvisits.reset_index(inplace=True) \n"
   ]
  },
  {
   "cell_type": "markdown",
   "id": "6ff0a800-5eaf-476f-a543-6c061da8cb79",
   "metadata": {},
   "source": [
    "Note here:\n",
    "- zeroPoint is in ABMag\n",
    "- skyBg is in ADU (but don't know if in pixel or in arcsec2)\n",
    "- skyNoise is in ADU (but don't know if in pixel or in arcsec2)"
   ]
  },
  {
   "cell_type": "code",
   "execution_count": null,
   "id": "bff3d040-2c91-4d12-a698-45766955841c",
   "metadata": {},
   "outputs": [],
   "source": [
    "index = 10\n",
    "visitId = df_myselectedvisits.iloc[index]['visitId']"
   ]
  },
  {
   "cell_type": "code",
   "execution_count": null,
   "id": "61156c41-c83c-4a8e-9f69-2379a4c74221",
   "metadata": {},
   "outputs": [],
   "source": [
    "df_myselectedvisits.iloc[index]"
   ]
  },
  {
   "cell_type": "code",
   "execution_count": null,
   "id": "15c8f8b4-5404-4cc5-88c3-33b190228168",
   "metadata": {},
   "outputs": [],
   "source": [
    "datasetType = 'calexp'\n",
    "dataId = {'visit': visitId, 'instrument':instrument , 'detector': 0}\n",
    "datasetRefs = registry.queryDatasets(datasetType, dataId=dataId, collections  = collections)\n",
    "\n",
    "for i, ref in enumerate(datasetRefs):\n",
    "    print(ref.dataId)\n",
    "    print(\"band:\", ref.dataId['band'])\n",
    "    band = ref.dataId['band']"
   ]
  },
  {
   "cell_type": "markdown",
   "id": "bda8d475-f87a-4e0d-be3a-2b37d0e476cc",
   "metadata": {},
   "source": [
    "## One Calexp "
   ]
  },
  {
   "cell_type": "code",
   "execution_count": null,
   "id": "802be681-7556-429e-9e4f-dab32dc185b5",
   "metadata": {},
   "outputs": [],
   "source": [
    "calexp = butler.get('calexp', **dataId,collections=collections)\n",
    "mask = calexp.mask.array"
   ]
  },
  {
   "cell_type": "code",
   "execution_count": null,
   "id": "89546ba0-2ecb-4a0c-82c7-451006f09efe",
   "metadata": {},
   "outputs": [],
   "source": [
    "mask"
   ]
  },
  {
   "cell_type": "code",
   "execution_count": null,
   "id": "4fcd795d-9adf-4032-bcea-4d3960b05e1a",
   "metadata": {},
   "outputs": [],
   "source": [
    "the_mask = np.where(mask==0,1,0)\n",
    "the_mask.shape"
   ]
  },
  {
   "cell_type": "code",
   "execution_count": null,
   "id": "70bba8cb-b778-4d13-812a-91c54557b2b5",
   "metadata": {},
   "outputs": [],
   "source": [
    "im = plt.imshow(the_mask)\n",
    "plt.colorbar(im)"
   ]
  },
  {
   "cell_type": "code",
   "execution_count": null,
   "id": "c2853c25-e0c2-46f1-a287-f851d876317f",
   "metadata": {},
   "outputs": [],
   "source": [
    "img = calexp.image.array * (the_mask)"
   ]
  },
  {
   "cell_type": "code",
   "execution_count": null,
   "id": "d0ced450-c791-4aca-af7a-c2584ee70744",
   "metadata": {},
   "outputs": [],
   "source": [
    "im=plt.imshow(img,vmin=-50,vmax=50)\n",
    "plt.colorbar(im)"
   ]
  },
  {
   "cell_type": "code",
   "execution_count": null,
   "id": "b939af2c-1f5d-4320-86fc-f5a9bc7d7a76",
   "metadata": {},
   "outputs": [],
   "source": [
    "%matplotlib widget\n",
    "\n",
    "calexp = butler.get('calexp', **dataId,collections=collections)\n",
    "\n",
    "calexp_info = calexp.getInfo()\n",
    "photocalib = calexp_info.getPhotoCalib()\n",
    "expo_photocalibconstant_mean = photocalib.getCalibrationMean()\n",
    "\n",
    "mask = calexp.mask.array\n",
    "the_mask = np.where(mask==0,1,0)\n",
    "#img = calexp.maskedImage.getImage()\n",
    "img = calexp.image.array * the_mask\n",
    "#img = calexp[the_mask] \n",
    "#wcs = img.getWcs()\n",
    "#bbox = img.getBBox()\n",
    "#corners_ra, corners_dec = get_corners_radec(wcs, bbox)\n",
    "#extent = [np.min(corners_ra),np.max(corners_ra),np.min(corners_dec),np.max(corners_dec)]\n",
    "\n",
    "\n",
    "# Display the image with a suitable scaling\n",
    "data_flat = img.flatten()\n",
    "mean = np.mean(data_flat)\n",
    "med = np.median(data_flat)\n",
    "sigMad = 1.4826 * np.median(np.fabs(data_flat - mean))\n",
    "#vmin = med - 3 * sigMad\n",
    "#vmax = med + 3 * sigMad\n",
    "vmin = med - 50.\n",
    "vmax = med + 50.\n",
    "the_min= data_flat.min()\n",
    "the_max= data_flat.max()\n",
    "print(mean,med ,sigMad ,vmin ,vmax,the_min,the_max )\n",
    "\n",
    "fig,axs = plt.subplots(1,2,figsize=(10,4))\n",
    "\n",
    "## Plot the image\n",
    "ax = axs[0]\n",
    "from astropy.visualization import ZScaleInterval\n",
    "z = ZScaleInterval()\n",
    "z1,z2 = z.get_limits(img)\n",
    "from matplotlib.colors import SymLogNorm\n",
    "im=ax.imshow(img, origin=\"lower\", cmap=\"grey\",norm=SymLogNorm(linthresh=0.1))\n",
    "divider = make_axes_locatable(ax)\n",
    "cax = divider.append_axes(\"right\", size=\"5%\", pad=0.05)\n",
    "the_title = f\"Calexp : visit = {visitId}, band = {band}\"\n",
    "ax.set_title(the_title)\n",
    "ax.grid()\n",
    "ax.set_aspect('equal')\n",
    "plt.colorbar(im, cax=cax,ax=ax)\n",
    "\n",
    "\n",
    "\n",
    "ax = axs[1]\n",
    "\n",
    "#val = data_flat/med)\n",
    "#data_flat_mag = -2.5*np.log10((data_flat/med))*1000\n",
    "#mu_mag = np.mean(data_flat_mag)\n",
    "#med_mag = np.median(data_flat_mag)\n",
    "#sigMad_mag = 1.4826 * np.median(np.fabs(data_flat_mag - med_mag))\n",
    "#vmin_mag = med_mag - 3 * sigMad_mag\n",
    "#vmax_mag = med_mag + 3 * sigMad_mag\n",
    "#textstr = '\\n'.join((\n",
    "#    r'$\\mu=%.2f$ mmag' % (mu_mag, ),\n",
    "#    r'$\\mathrm{med}=%.2f$ mmag' % (med_mag, ),\n",
    "#    r'$\\sigma=%.2f$ mmag' % (sigMad_mag , )))\n",
    "\n",
    "data_flat_nozero = data_flat[~(data_flat==0)]\n",
    "histdata  = ax.hist(data_flat_nozero,bins=100,range=(vmin,vmax),histtype=\"step\",color=\"b\",lw=2)\n",
    "histarray,histedges = histdata[0],histdata[1]\n",
    "ax.set_ylim(0.,histarray.max()*1.1)\n",
    "\n",
    "# fit\n",
    "g = fit_g(g_init,histedges[1:],histarray)\n",
    "print(\"fig_g parameters: \",g)\n",
    "m = modeling.models.Gaussian1D(amplitude=g.amplitude.value, mean=g.mean.value, stddev=g.stddev.value)\n",
    "ax.plot(histedges,m(histedges),\"r-\")\n",
    "textstr = '\\n'.join((\n",
    "    r'$\\mu=%.2f$ ADU/pixel' % (g.mean.value, ),\n",
    "    r'$\\sigma=%.2f$ ADU/pixel' % (g.stddev.value , ),\n",
    "    r'$\\sigma=%.2f$ mag/s/arcsec2' % (convert_fluxtomag(g.stddev.value*expo_photocalibconstant_mean/30./pixel_scale**2) ,)))\n",
    "props = dict(boxstyle='round', facecolor='wheat' ,alpha=0.5)\n",
    "ax.text(0.05, 0.95, textstr, color=\"r\",transform=ax.transAxes, fontsize=10,verticalalignment='top', bbox=props)\n",
    "ax.set_title(\"Calexp Sky-bkg residuals\")\n",
    "ax.set_xlabel(\"Flux (nJ/pixel)\")\n",
    "\n",
    "ax.grid()\n",
    "\n",
    "plt.suptitle(collections)\n",
    "plt.tight_layout()\n",
    "plt.show()\n",
    "#remove_figure(fig)"
   ]
  },
  {
   "cell_type": "markdown",
   "id": "2cd84860-be03-43e4-aacd-da9c5a68444b",
   "metadata": {},
   "source": [
    "## Many Calexp"
   ]
  },
  {
   "cell_type": "code",
   "execution_count": null,
   "id": "b63a7139-b67e-456a-852c-919ac07da96c",
   "metadata": {},
   "outputs": [],
   "source": [
    "df_myselectedvisits.tail(100)"
   ]
  },
  {
   "cell_type": "code",
   "execution_count": null,
   "id": "f87fd1ce-b702-44b8-b016-28b8a2ce5ad3",
   "metadata": {},
   "outputs": [],
   "source": [
    "NROWS = 5\n",
    "NCOLS = 3\n",
    "NIMGS = NROWS*NCOLS\n",
    "index0 = 160"
   ]
  },
  {
   "cell_type": "code",
   "execution_count": null,
   "id": "9f79dc15-b7df-4923-90d9-9c6df02c4db0",
   "metadata": {},
   "outputs": [],
   "source": [
    "fig,axs = plt.subplots(NROWS,NCOLS,figsize=(NCOLS*4,NROWS*3))\n",
    "\n",
    "for index,ax in enumerate(axs.flatten()):\n",
    "    visitId = df_myselectedvisits.iloc[index0+index]['visitId']\n",
    "    dataId = {'visit': visitId, 'instrument':instrument , 'detector': 0}\n",
    "    calexp = butler.get('calexp', **dataId,collections=collections)\n",
    "    mask = calexp.mask.array\n",
    "    the_mask = np.where(mask==0,1,0)\n",
    "    img = calexp.image.array * the_mask\n",
    "\n",
    "    data_flat = img.flatten()\n",
    "    mean = np.mean(data_flat)\n",
    "    med = np.median(data_flat)\n",
    "    sigMad = 1.4826 * np.median(np.fabs(data_flat - mean))\n",
    "    #vmin = med - 3 * sigMad\n",
    "    #vmax = med + 3 * sigMad\n",
    "    vmin = med - 50.\n",
    "    vmax = med + 50.\n",
    "    the_min= data_flat.min()\n",
    "    the_max= data_flat.max()\n",
    "\n",
    "    from matplotlib.colors import SymLogNorm\n",
    "    im=ax.imshow(img, origin=\"lower\", cmap=\"grey\",norm=SymLogNorm(linthresh=0.1))\n",
    "\n",
    "    divider = make_axes_locatable(ax)\n",
    "    cax = divider.append_axes(\"right\", size=\"3%\", pad=0.05)\n",
    "    the_title = f\"{visitId},{band}\"\n",
    "    ax.set_title(the_title)\n",
    "    ax.grid()\n",
    "    ax.set_aspect('equal')\n",
    "    plt.colorbar(im, cax=cax,ax=ax)\n",
    "\n",
    "plt.suptitle(collections)\n",
    "plt.tight_layout()\n",
    "plt.show()\n",
    "#remove_figure(fig)"
   ]
  },
  {
   "cell_type": "code",
   "execution_count": null,
   "id": "b4094046-506d-4bb3-8a9b-bf62898e15ba",
   "metadata": {},
   "outputs": [],
   "source": [
    "fig,axs = plt.subplots(NROWS,NCOLS,figsize=(NCOLS*3,NROWS*3))\n",
    "\n",
    "for index,ax in enumerate(axs.flatten()):\n",
    "    visitId = df_myselectedvisits.iloc[index0+index]['visitId']\n",
    "    dataId = {'visit': visitId, 'instrument':instrument , 'detector': 0}\n",
    "\n",
    "    calexp = butler.get('calexp', **dataId,collections=collections)\n",
    "    calexp_info = calexp.getInfo()\n",
    "    photocalib = calexp_info.getPhotoCalib()\n",
    "    expo_photocalibconstant_mean = photocalib.getCalibrationMean()\n",
    "\n",
    "    mask = calexp.mask.array\n",
    "    the_mask = np.where(mask==0,1,0)\n",
    "    img = calexp.image.array * the_mask\n",
    "\n",
    "    data_flat = img.flatten()\n",
    "    data_flat_nozero = data_flat[~(data_flat==0)]\n",
    "    mean = np.mean(data_flat_nozero)\n",
    "    med = np.median(data_flat_nozero)\n",
    "    std = np.std(data_flat_nozero)\n",
    "    sigMad = 1.4826 * np.median(np.fabs(data_flat_nozero - mean))\n",
    "    #vmin = med - 3 * sigMad\n",
    "    #vmax = med + 3 * sigMad\n",
    "    vmin = med - 50.\n",
    "    vmax = med + 50.\n",
    "    the_min= data_flat_nozero.min()\n",
    "    the_max= data_flat_nozero.max()\n",
    "    \n",
    "   \n",
    "    #data_flat_mag = -2.5*np.log10((data_flat/med))*1000\n",
    "    #mu_mag = np.mean(data_flat_mag)\n",
    "    #med_mag = np.median(data_flat_mag)\n",
    "    #sigMad_mag = 1.4826 * np.median(np.fabs(data_flat_mag - med_mag))\n",
    "    #vmin = med_mag - 3 * sigMad_mag\n",
    "    #vmax = med_mag + 3 * sigMad_mag\n",
    "    #textstr = '\\n'.join((\n",
    "    #r'$\\mu=%.2f$ mmag' % (mu_mag, ),\n",
    "    #r'$\\mathrm{med}=%.2f$ mmag' % (med_mag, ),\n",
    "    #r'$\\sigma=%.2f$ mmag' % (sigMad_mag , )))\n",
    "\n",
    "    #histdata = ax.hist(data_flat_mag,bins=50,range=(vmin,vmax),histtype=\"step\",color=\"b\",lw=2)\n",
    "    #histdata = ax.hist(data_flat_nozero,bins=100,range=(vmin,vmax),histtype=\"step\",color=\"b\",lw=2)\n",
    "\n",
    "    histdata  = ax.hist(data_flat_nozero,bins=100,range=(vmin,vmax),histtype=\"step\",color=\"b\",lw=2)\n",
    "    histarray,histedges = histdata[0],histdata[1]\n",
    "    ax.set_ylim(0.,histarray.max()*2.1)\n",
    "\n",
    "    # fit\n",
    "    g = fit_g(g_init,histedges[1:],histarray)\n",
    "    #print(\"fig_g parameters: \",g)\n",
    "    m = modeling.models.Gaussian1D(amplitude=g.amplitude.value, mean=g.mean.value, stddev=g.stddev.value)\n",
    "    ax.plot(histedges,m(histedges),\"r-\")\n",
    "    textstr = '\\n'.join((\n",
    "        r'$\\mu=%.2f$ ADU/pixel' % (g.mean.value, ),\n",
    "        r'$\\sigma=%.2f$ ADU/pixel' % (g.stddev.value , ),\n",
    "        r'$\\sigma=%.2f$ mag/s/arcsec2' % (convert_fluxtomag(g.stddev.value*expo_photocalibconstant_mean/30./pixel_scale**2) ,)))\n",
    "    props = dict(boxstyle='round', facecolor='wheat' ,alpha=0.5)\n",
    "    ax.text(0.05, 0.95, textstr, color=\"r\",transform=ax.transAxes, fontsize=10,verticalalignment='top', bbox=props)\n",
    "\n",
    "    \n",
    "    the_title = f\"{visitId},{band}\"\n",
    "    ax.set_title(the_title)\n",
    "    ax.set_xlabel(\"Flux (ADU/pixel)\")\n",
    "    ax.grid()\n",
    "  \n",
    "  \n",
    "plt.suptitle(collections)\n",
    "plt.tight_layout()\n",
    "plt.show()\n",
    "#remove_figure(fig)"
   ]
  },
  {
   "cell_type": "code",
   "execution_count": null,
   "id": "5bcc9555-3df6-4e5c-af75-1cb4f553db83",
   "metadata": {},
   "outputs": [],
   "source": []
  },
  {
   "cell_type": "code",
   "execution_count": null,
   "id": "54e7da72-2eaf-457b-9092-579ff5339a78",
   "metadata": {},
   "outputs": [],
   "source": []
  }
 ],
 "metadata": {
  "kernelspec": {
   "display_name": "LSST",
   "language": "python",
   "name": "lsst"
  },
  "language_info": {
   "codemirror_mode": {
    "name": "ipython",
    "version": 3
   },
   "file_extension": ".py",
   "mimetype": "text/x-python",
   "name": "python",
   "nbconvert_exporter": "python",
   "pygments_lexer": "ipython3",
   "version": "3.11.7"
  }
 },
 "nbformat": 4,
 "nbformat_minor": 5
}
