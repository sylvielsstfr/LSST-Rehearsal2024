{
 "cells": [
  {
   "cell_type": "markdown",
   "id": "45bf4242-bfc5-4d43-88c4-a8059ae148df",
   "metadata": {},
   "source": [
    "# Extract Info from postisrccd, calexp and calexpbg in Selected visits LSST in LSSTComCamSim"
   ]
  },
  {
   "cell_type": "markdown",
   "id": "01993b6e-6438-4fca-a5d5-1f9791336847",
   "metadata": {},
   "source": [
    "- author Sylvie Dagoret-Campagne\n",
    "- creation date 2024-05-09\n",
    "- last update 2024-05-09\n",
    "- affiliation : IJCLab\n",
    "- kernel : **w_2024_16**"
   ]
  },
  {
   "cell_type": "code",
   "execution_count": 1,
   "id": "bf752b70-e6ca-4cbf-8e8c-20bf7f0d8f61",
   "metadata": {
    "execution": {
     "iopub.execute_input": "2024-05-09T14:54:11.782097Z",
     "iopub.status.busy": "2024-05-09T14:54:11.781862Z",
     "iopub.status.idle": "2024-05-09T14:54:12.388521Z",
     "shell.execute_reply": "2024-05-09T14:54:12.388039Z",
     "shell.execute_reply.started": "2024-05-09T14:54:11.781974Z"
    }
   },
   "outputs": [],
   "source": [
    "import numpy as np\n",
    "import matplotlib.pyplot as plt\n",
    "%matplotlib inline\n",
    "from mpl_toolkits.axes_grid1 import make_axes_locatable\n",
    "from matplotlib.colors import LogNorm,SymLogNorm\n",
    "\n",
    "\n",
    "import matplotlib.ticker                         # here's where the formatter is\n",
    "from matplotlib.ticker import (MultipleLocator, FormatStrFormatter,\n",
    "                               AutoMinorLocator)\n",
    "\n",
    "from astropy.visualization import (MinMaxInterval, SqrtStretch,ZScaleInterval,PercentileInterval,\n",
    "                                   ImageNormalize,imshow_norm)\n",
    "from astropy.visualization.stretch import SinhStretch, LinearStretch,AsinhStretch,LogStretch\n",
    "\n",
    "from astropy.io import fits\n",
    "from astropy.wcs import WCS\n",
    "\n",
    "\n",
    "import pandas as pd\n",
    "\n",
    "import matplotlib.ticker                         # here's where the formatter is\n",
    "import os\n",
    "import re\n",
    "import pandas as pd\n",
    "import pickle\n",
    "from collections import OrderedDict\n",
    "\n",
    "plt.rcParams[\"figure.figsize\"] = (4,3)\n",
    "plt.rcParams[\"axes.labelsize\"] = 'x-large'\n",
    "plt.rcParams['axes.titlesize'] = 'x-large'\n",
    "plt.rcParams['xtick.labelsize']= 'x-large'\n",
    "plt.rcParams['ytick.labelsize']= 'x-large'"
   ]
  },
  {
   "cell_type": "code",
   "execution_count": 2,
   "id": "5bdc790b-44bc-4f52-96d1-952f86dcd516",
   "metadata": {
    "execution": {
     "iopub.execute_input": "2024-05-09T14:54:12.389600Z",
     "iopub.status.busy": "2024-05-09T14:54:12.389246Z",
     "iopub.status.idle": "2024-05-09T14:54:12.391888Z",
     "shell.execute_reply": "2024-05-09T14:54:12.391540Z",
     "shell.execute_reply.started": "2024-05-09T14:54:12.389579Z"
    }
   },
   "outputs": [],
   "source": [
    "import gc"
   ]
  },
  {
   "cell_type": "code",
   "execution_count": 3,
   "id": "0ca0d1e6-5f82-4c43-aaa3-8524fc2bc5ba",
   "metadata": {
    "execution": {
     "iopub.execute_input": "2024-05-09T14:54:12.393019Z",
     "iopub.status.busy": "2024-05-09T14:54:12.392892Z",
     "iopub.status.idle": "2024-05-09T14:54:12.400223Z",
     "shell.execute_reply": "2024-05-09T14:54:12.399861Z",
     "shell.execute_reply.started": "2024-05-09T14:54:12.393007Z"
    }
   },
   "outputs": [],
   "source": [
    "from matplotlib.ticker import (MultipleLocator, FormatStrFormatter,\n",
    "                               AutoMinorLocator)\n",
    "\n",
    "from astropy.visualization import (MinMaxInterval, SqrtStretch,ZScaleInterval,PercentileInterval,\n",
    "                                   ImageNormalize,imshow_norm)\n",
    "from astropy.visualization.stretch import SinhStretch, LinearStretch,AsinhStretch,LogStretch\n",
    "\n",
    "from astropy.time import Time\n"
   ]
  },
  {
   "cell_type": "code",
   "execution_count": 4,
   "id": "51ddfce4-9a0f-4804-bc6a-7f9138874f16",
   "metadata": {
    "execution": {
     "iopub.execute_input": "2024-05-09T14:54:12.400872Z",
     "iopub.status.busy": "2024-05-09T14:54:12.400750Z",
     "iopub.status.idle": "2024-05-09T14:54:12.967496Z",
     "shell.execute_reply": "2024-05-09T14:54:12.967038Z",
     "shell.execute_reply.started": "2024-05-09T14:54:12.400860Z"
    }
   },
   "outputs": [],
   "source": [
    "import lsst.daf.butler as dafButler\n",
    "#import lsst.summit.utils.butlerUtils as butlerUtils"
   ]
  },
  {
   "cell_type": "code",
   "execution_count": 5,
   "id": "34f037b5-b6a2-4f93-b86b-a6108d8a5ea7",
   "metadata": {
    "execution": {
     "iopub.execute_input": "2024-05-09T14:54:12.968259Z",
     "iopub.status.busy": "2024-05-09T14:54:12.968118Z",
     "iopub.status.idle": "2024-05-09T14:54:13.231360Z",
     "shell.execute_reply": "2024-05-09T14:54:13.230896Z",
     "shell.execute_reply.started": "2024-05-09T14:54:12.968245Z"
    }
   },
   "outputs": [],
   "source": [
    "import lsst.afw.image as afwImage\n",
    "import lsst.afw.display as afwDisplay\n",
    "import lsst.afw.table as afwTable\n",
    "import lsst.geom as geom"
   ]
  },
  {
   "cell_type": "code",
   "execution_count": 6,
   "id": "7f26c627-fc82-4f60-8e0a-c25657f092f9",
   "metadata": {
    "execution": {
     "iopub.execute_input": "2024-05-09T14:54:13.232265Z",
     "iopub.status.busy": "2024-05-09T14:54:13.231938Z",
     "iopub.status.idle": "2024-05-09T14:54:13.241269Z",
     "shell.execute_reply": "2024-05-09T14:54:13.240927Z",
     "shell.execute_reply.started": "2024-05-09T14:54:13.232251Z"
    }
   },
   "outputs": [],
   "source": [
    "# LSST Display\n",
    "import lsst.afw.display as afwDisplay\n",
    "afwDisplay.setDefaultBackend('matplotlib')"
   ]
  },
  {
   "cell_type": "code",
   "execution_count": 7,
   "id": "aba2cfa4-809a-4f1c-8e8f-9f81547e0b5e",
   "metadata": {
    "execution": {
     "iopub.execute_input": "2024-05-09T14:54:13.241899Z",
     "iopub.status.busy": "2024-05-09T14:54:13.241772Z",
     "iopub.status.idle": "2024-05-09T14:54:13.243869Z",
     "shell.execute_reply": "2024-05-09T14:54:13.243507Z",
     "shell.execute_reply.started": "2024-05-09T14:54:13.241887Z"
    }
   },
   "outputs": [],
   "source": [
    "transform = AsinhStretch() + PercentileInterval(99.)"
   ]
  },
  {
   "cell_type": "markdown",
   "id": "351e0468-d4f5-4c9e-b3db-1263499470cc",
   "metadata": {},
   "source": [
    "Import statements that we will need later"
   ]
  },
  {
   "cell_type": "markdown",
   "id": "5db4beba-3082-4754-8e70-26472f1c226c",
   "metadata": {},
   "source": [
    "Let's make a new plot and metric tool, we'll base it on the example in the getting started guide."
   ]
  },
  {
   "cell_type": "code",
   "execution_count": 8,
   "id": "b26e1f0b-83be-4348-b87c-88294ec7c8d6",
   "metadata": {
    "execution": {
     "iopub.execute_input": "2024-05-09T14:54:13.244453Z",
     "iopub.status.busy": "2024-05-09T14:54:13.244331Z",
     "iopub.status.idle": "2024-05-09T14:54:13.247765Z",
     "shell.execute_reply": "2024-05-09T14:54:13.247369Z",
     "shell.execute_reply.started": "2024-05-09T14:54:13.244441Z"
    }
   },
   "outputs": [],
   "source": [
    "# INSERT YOUR collection and tract\n",
    "# for rehearsal use collection 2 which have CCDvisit\n",
    "butlerRoot = \"/repo/embargo\"\n",
    "\n",
    "collection1 = 'LSSTComCamSim/runs/nightlyvalidation/20240402/d_2024_03_29/DM-43612'\n",
    "collection2 = 'LSSTComCamSim/runs/nightlyvalidation/20240403/d_2024_03_29/DM-43612'\n",
    "collection3 = 'LSSTComCamSim/runs/nightlyvalidation/20240404/d_2024_03_29/DM-43612'\n",
    "collection = 'LATISS/runs/AUXTEL_DRP_IMAGING_20230509_20240311/w_2024_10/PREOPS-4985'\n",
    "collectionn = collection2\n",
    "#collections = [collection1,collection2,collection3]\n",
    "collections = [collection2]\n",
    "collectionStr = collectionn.replace(\"/\", \"_\")\n",
    "fn_ccdVisit_tracts_patches = f\"ccdVisittractpatch_{collectionStr}.csv\"\n",
    "instrument = 'LSSTComCamSim'\n",
    "skymapName = \"ops_rehersal_prep_2k_v1\"\n",
    "where_clause = \"instrument = \\'\" + instrument+ \"\\'\"\n",
    "\n",
    "NDET = 9\n",
    "suptitle=  collectionStr\n",
    "\n",
    "tract = 9880 # mostly for light-curves\n",
    "detector = 0\n",
    "band = 'g'\n",
    "\n",
    "suptitle = collectionStr + f\" inst = {instrument} tract = {tract}\""
   ]
  },
  {
   "cell_type": "code",
   "execution_count": 9,
   "id": "3048e2e2-2489-43e0-a96d-848c548700cb",
   "metadata": {
    "execution": {
     "iopub.execute_input": "2024-05-09T14:54:13.248486Z",
     "iopub.status.busy": "2024-05-09T14:54:13.248361Z",
     "iopub.status.idle": "2024-05-09T14:54:13.860126Z",
     "shell.execute_reply": "2024-05-09T14:54:13.859612Z",
     "shell.execute_reply.started": "2024-05-09T14:54:13.248474Z"
    }
   },
   "outputs": [],
   "source": [
    "#dataId = {\"skymap\": \"latiss_v1\", \"tract\": 5615, \"instrument\": \"LATISS\"}\n",
    "dataId = {\"skymap\": skymapName, \"tract\": tract, \"instrument\": instrument}\n",
    "repo = '/sdf/group/rubin/repo/oga/'\n",
    "butler = dafButler.Butler(repo)\n",
    "#t = Butler.get(table_sel, dataId=dataId, collections=collections)\n",
    "registry = butler.registry"
   ]
  },
  {
   "cell_type": "code",
   "execution_count": 10,
   "id": "d87b3bde-871f-4eba-87f7-1ee1ade704c5",
   "metadata": {
    "execution": {
     "iopub.execute_input": "2024-05-09T14:54:13.860882Z",
     "iopub.status.busy": "2024-05-09T14:54:13.860741Z",
     "iopub.status.idle": "2024-05-09T14:54:14.212433Z",
     "shell.execute_reply": "2024-05-09T14:54:14.211942Z",
     "shell.execute_reply.started": "2024-05-09T14:54:13.860870Z"
    }
   },
   "outputs": [],
   "source": [
    "skymap = butler.get('skyMap', skymap=skymapName, collections=collections)"
   ]
  },
  {
   "cell_type": "code",
   "execution_count": 11,
   "id": "f9a004b6-49ea-4c8f-b2df-e068fd55f673",
   "metadata": {
    "execution": {
     "iopub.execute_input": "2024-05-09T14:54:14.213151Z",
     "iopub.status.busy": "2024-05-09T14:54:14.213015Z",
     "iopub.status.idle": "2024-05-09T14:54:14.215944Z",
     "shell.execute_reply": "2024-05-09T14:54:14.215564Z",
     "shell.execute_reply.started": "2024-05-09T14:54:14.213138Z"
    }
   },
   "outputs": [],
   "source": [
    "def remove_figure(fig):\n",
    "    \"\"\"\n",
    "    Remove a figure to reduce memory footprint.\n",
    "\n",
    "    Parameters\n",
    "    ----------\n",
    "    fig: matplotlib.figure.Figure\n",
    "        Figure to be removed.\n",
    "\n",
    "    Returns\n",
    "    -------\n",
    "    None\n",
    "    \"\"\"\n",
    "    # get the axes and clear their images\n",
    "    for ax in fig.get_axes():\n",
    "        for im in ax.get_images():\n",
    "            im.remove()\n",
    "    fig.clf()       # clear the figure\n",
    "    plt.close(fig)  # close the figure\n",
    "    gc.collect()    # call the garbage collector"
   ]
  },
  {
   "cell_type": "code",
   "execution_count": 12,
   "id": "217d9116-61a1-4ab3-9ba4-4cc8668956e8",
   "metadata": {
    "execution": {
     "iopub.execute_input": "2024-05-09T14:54:14.218048Z",
     "iopub.status.busy": "2024-05-09T14:54:14.217850Z",
     "iopub.status.idle": "2024-05-09T14:54:14.222973Z",
     "shell.execute_reply": "2024-05-09T14:54:14.222600Z",
     "shell.execute_reply.started": "2024-05-09T14:54:14.218036Z"
    }
   },
   "outputs": [],
   "source": [
    "def get_corners_radec(wcs, bbox):\n",
    "    \"\"\"\n",
    "    Return the corners in RA,Dec in degrees given the WCS and bounding box for an image.\n",
    "\n",
    "    Parameters\n",
    "    ----------\n",
    "    wcs: image WCS returned by the Butler\n",
    "    bbox: bounding box returned by the Butler\n",
    "\n",
    "    Returns\n",
    "    -------\n",
    "    corners_ra, corners_dec in decimal degrees\n",
    "    \"\"\"\n",
    "\n",
    "    corners_x = [bbox.beginX, bbox.beginX, bbox.endX, bbox.endX]\n",
    "    corners_y = [bbox.beginY, bbox.endY, bbox.endY, bbox.beginY]\n",
    "    corners_ra = []\n",
    "    corners_dec = []\n",
    "    for i in range(4):\n",
    "        radec = wcs.pixelToSky(corners_x[i], corners_y[i])\n",
    "        corners_ra.append(radec.getRa().asDegrees())\n",
    "        corners_dec.append(radec.getDec().asDegrees())\n",
    "    \n",
    "    return corners_ra, corners_dec"
   ]
  },
  {
   "cell_type": "code",
   "execution_count": 13,
   "id": "81240109-5d2e-4829-82dc-dddc9d4cda05",
   "metadata": {
    "execution": {
     "iopub.execute_input": "2024-05-09T14:54:14.223584Z",
     "iopub.status.busy": "2024-05-09T14:54:14.223448Z",
     "iopub.status.idle": "2024-05-09T14:54:14.229285Z",
     "shell.execute_reply": "2024-05-09T14:54:14.228929Z",
     "shell.execute_reply.started": "2024-05-09T14:54:14.223572Z"
    }
   },
   "outputs": [],
   "source": [
    "def convert_fluxtomag(x) :\n",
    "    \"\"\"\n",
    "    The object and source catalogs store only fluxes. There are hundreds of flux-related columns, \n",
    "    and to store them also as magnitudes would be redundant, and a waste of space.\n",
    "    All flux units are nanojanskys. The AB Magnitudes Wikipedia page provides a concise resource \n",
    "    for users unfamiliar with AB magnitudes and jansky fluxes. To convert to AB magnitudes use:\n",
    "    As demonstrated in Section 2.3.2, to add columns of magnitudes after retrieving columns of flux, users can do this:\n",
    "    results_table['r_calibMag'] = -2.50 * numpy.log10(results_table['r_calibFlux']) + 31.4\n",
    "    results_table['r_cModelMag'] = -2.50 * numpy.log10(results_table['r_cModelFlux']) + 31.4\n",
    "    (from DP0 tutorial)\n",
    "    \"\"\"\n",
    "    return -2.50 * np.log10(x) + 31.4"
   ]
  },
  {
   "cell_type": "markdown",
   "id": "06424808-67d0-45bc-aae3-d8284363b7b7",
   "metadata": {},
   "source": [
    "## Get pixel scale"
   ]
  },
  {
   "cell_type": "code",
   "execution_count": 14,
   "id": "5cec8b2e-241d-439e-bfc1-70d902fcbbee",
   "metadata": {
    "execution": {
     "iopub.execute_input": "2024-05-09T14:54:14.229949Z",
     "iopub.status.busy": "2024-05-09T14:54:14.229750Z",
     "iopub.status.idle": "2024-05-09T14:54:14.514739Z",
     "shell.execute_reply": "2024-05-09T14:54:14.514283Z",
     "shell.execute_reply.started": "2024-05-09T14:54:14.229937Z"
    }
   },
   "outputs": [],
   "source": [
    "import lsst.geom as geom\n",
    "import lsst.sphgeom\n",
    "\n",
    "skymap = butler.get('skyMap', skymap=skymapName, collections=collections )\n",
    "tractInfo = skymap.generateTract(tract)\n",
    "for patch in tractInfo:    \n",
    "    patchID = patch.getSequentialIndex()\n",
    "        \n",
    "    ibb=patch.getInnerBBox()\n",
    "    tWCS=tractInfo.getWcs()\n",
    "       \n",
    "    # loop on the 4 corners\n",
    "    for icorn,corner in enumerate(ibb.getCorners()):\n",
    "        p = geom.Point2D(corner.getX(), corner.getY())\n",
    "        coord = tWCS.pixelToSky(p)\n"
   ]
  },
  {
   "cell_type": "code",
   "execution_count": 15,
   "id": "412b882e-68f3-4b46-8283-6bdad7bf4464",
   "metadata": {
    "execution": {
     "iopub.execute_input": "2024-05-09T14:54:14.515412Z",
     "iopub.status.busy": "2024-05-09T14:54:14.515286Z",
     "iopub.status.idle": "2024-05-09T14:54:14.518388Z",
     "shell.execute_reply": "2024-05-09T14:54:14.518020Z",
     "shell.execute_reply.started": "2024-05-09T14:54:14.515401Z"
    }
   },
   "outputs": [
    {
     "data": {
      "text/plain": [
       "FITS standard SkyWcs:\n",
       "Sky Origin: (249.9173553719, +2.2314049587)\n",
       "Pixel Origin: (14024, 14024)\n",
       "Pixel Scale: 0.2 arcsec/pixel"
      ]
     },
     "execution_count": 15,
     "metadata": {},
     "output_type": "execute_result"
    }
   ],
   "source": [
    "tWCS"
   ]
  },
  {
   "cell_type": "code",
   "execution_count": 16,
   "id": "2df2b74e-4069-4f4a-9519-99584abbd760",
   "metadata": {
    "execution": {
     "iopub.execute_input": "2024-05-09T14:54:14.518986Z",
     "iopub.status.busy": "2024-05-09T14:54:14.518864Z",
     "iopub.status.idle": "2024-05-09T14:54:14.522495Z",
     "shell.execute_reply": "2024-05-09T14:54:14.522164Z",
     "shell.execute_reply.started": "2024-05-09T14:54:14.518974Z"
    }
   },
   "outputs": [],
   "source": [
    "#arcsec/pixel\n",
    "pixel_scale = tWCS.getPixelScale().asArcseconds()"
   ]
  },
  {
   "cell_type": "markdown",
   "id": "35b5b65f-a6ca-4e98-a54c-d72cf3f5ca89",
   "metadata": {},
   "source": [
    "## Selected visits"
   ]
  },
  {
   "cell_type": "code",
   "execution_count": 17,
   "id": "817f7633-e942-4c18-aea6-687c19b5e694",
   "metadata": {
    "execution": {
     "iopub.execute_input": "2024-05-09T14:54:14.523100Z",
     "iopub.status.busy": "2024-05-09T14:54:14.522980Z",
     "iopub.status.idle": "2024-05-09T14:54:14.548777Z",
     "shell.execute_reply": "2024-05-09T14:54:14.548373Z",
     "shell.execute_reply.started": "2024-05-09T14:54:14.523089Z"
    }
   },
   "outputs": [],
   "source": [
    "\n",
    "# get the csv file produced by stat_on_visits_LSSTAuxtel.ipynb in ../Visits\n",
    "#file_selected_visits = \"../Visits/ccdVisittractpatch_LATISS_runs_AUXTEL_DRP_IMAGING_20230509_20240311_w_2024_10_PREOPS-4985.csv\"\n",
    "file_selected_visits = os.path.join(\"../Visits\",fn_ccdVisit_tracts_patches)\n",
    "df_myselectedvisits = pd.read_csv(file_selected_visits,index_col=0)\n",
    "if 0:\n",
    "\n",
    "    # select the band\n",
    "    cut = (df_myselectedvisits.band == band) &  (df_myselectedvisits.tractID == tract) & (df_myselectedvisits.patchID == patch_sel)\n",
    "    df_myselectedvisits = df_myselectedvisits[cut]\n",
    "\n",
    "#move the visitid as a column not to loose it during the merge \n",
    "df_myselectedvisits.reset_index(inplace=True) \n"
   ]
  },
  {
   "cell_type": "code",
   "execution_count": 18,
   "id": "bff3d040-2c91-4d12-a698-45766955841c",
   "metadata": {
    "execution": {
     "iopub.execute_input": "2024-05-09T14:54:14.549391Z",
     "iopub.status.busy": "2024-05-09T14:54:14.549267Z",
     "iopub.status.idle": "2024-05-09T14:54:14.552070Z",
     "shell.execute_reply": "2024-05-09T14:54:14.551716Z",
     "shell.execute_reply.started": "2024-05-09T14:54:14.549380Z"
    }
   },
   "outputs": [],
   "source": [
    "index = 0\n",
    "visitId = df_myselectedvisits.iloc[index]['visitId']\n",
    "band = df_myselectedvisits.iloc[index]['band']\n",
    "det = df_myselectedvisits.iloc[index]['detector']\n",
    "dataId = {'visit': visitId, 'instrument':instrument , 'detector': det}"
   ]
  },
  {
   "cell_type": "markdown",
   "id": "0c0a7440-40af-4927-a4df-3fb16ab52f6b",
   "metadata": {},
   "source": [
    "Note on the CCD visit here:\n",
    "- zeroPoint is in ABMag relative to a flux of 1ADU/sec\n",
    "- skyBg is in ADU , ADU/s , nJ per pixel ?\n",
    "- skyNoise is in ADU, ADU/s , nJ  per pixel ?"
   ]
  },
  {
   "cell_type": "code",
   "execution_count": 19,
   "id": "a5053bfc-79e0-4792-8b72-0f94bdc0f149",
   "metadata": {
    "execution": {
     "iopub.execute_input": "2024-05-09T14:54:14.552709Z",
     "iopub.status.busy": "2024-05-09T14:54:14.552578Z",
     "iopub.status.idle": "2024-05-09T14:54:14.559075Z",
     "shell.execute_reply": "2024-05-09T14:54:14.558741Z",
     "shell.execute_reply.started": "2024-05-09T14:54:14.552698Z"
    }
   },
   "outputs": [
    {
     "data": {
      "text/plain": [
       "ccdVisitId     730865860864\n",
       "visitId       7024040300001\n",
       "band                      r\n",
       "detector                  0\n",
       "ra               124.617999\n",
       "dec              -15.026212\n",
       "llcra            124.458471\n",
       "llcdec           -15.063877\n",
       "ulcra            124.581823\n",
       "ulcdec           -14.871498\n",
       "urcra            124.777487\n",
       "urcdec           -14.988434\n",
       "lrcra            124.654231\n",
       "lrcdec           -15.180921\n",
       "ccdVid                    0\n",
       "Vid                       0\n",
       "nightObs           20240403\n",
       "tractID                6914\n",
       "patchID                 246\n",
       "zeroPoint         31.258871\n",
       "airmass            1.050426\n",
       "skyBg             1703.7678\n",
       "skyNoise           34.47179\n",
       "expTime                30.0\n",
       "Name: 0, dtype: object"
      ]
     },
     "execution_count": 19,
     "metadata": {},
     "output_type": "execute_result"
    }
   ],
   "source": [
    "df_myselectedvisits.iloc[index]"
   ]
  },
  {
   "cell_type": "markdown",
   "id": "bda8d475-f87a-4e0d-be3a-2b37d0e476cc",
   "metadata": {},
   "source": [
    "## One postISRCCD and One Calexp"
   ]
  },
  {
   "cell_type": "code",
   "execution_count": 20,
   "id": "3bcd2522-939b-476e-b7ff-5c1226e22a1b",
   "metadata": {
    "execution": {
     "iopub.execute_input": "2024-05-09T14:54:14.559653Z",
     "iopub.status.busy": "2024-05-09T14:54:14.559531Z",
     "iopub.status.idle": "2024-05-09T14:54:14.566783Z",
     "shell.execute_reply": "2024-05-09T14:54:14.566381Z",
     "shell.execute_reply.started": "2024-05-09T14:54:14.559642Z"
    }
   },
   "outputs": [],
   "source": [
    "def ComputeStatfromImage(arr,remove_zero_flag=False):\n",
    "    data_flat = arr.flatten()\n",
    "\n",
    "    if remove_zero_flag:\n",
    "        data_flat_nozero = data_flat[~(data_flat==0)]\n",
    "        data_flat = data_flat_nozero \n",
    "        \n",
    "\n",
    "    mu = np.mean(data_flat)\n",
    "    med = np.median(data_flat)\n",
    "    std = np.std(data_flat)\n",
    "    sigMad = 1.4826 * np.median(np.fabs(data_flat - med))\n",
    "    vmin,vmax = med - 3 * sigMad, med + 3 * sigMad\n",
    "    return mu,med,std,sigMad,vmin,vmax\n"
   ]
  },
  {
   "cell_type": "code",
   "execution_count": 21,
   "id": "b939af2c-1f5d-4320-86fc-f5a9bc7d7a76",
   "metadata": {
    "execution": {
     "iopub.execute_input": "2024-05-09T14:54:14.567557Z",
     "iopub.status.busy": "2024-05-09T14:54:14.567296Z",
     "iopub.status.idle": "2024-05-09T14:54:56.011365Z",
     "shell.execute_reply": "2024-05-09T14:54:56.010857Z",
     "shell.execute_reply.started": "2024-05-09T14:54:14.567544Z"
    }
   },
   "outputs": [],
   "source": [
    "calexp = butler.get('calexp', **dataId,collections=collections)\n",
    "bkgd  = butler.get('calexpBackground', **dataId,collections=collections)\n",
    "# get the calibration constant  : expo_photocalibconstant_mean in nJ per ADU. To convert it in AB-Mag : convert_fluxtomag(expo_photocalibconstant_mean) --> zero point\n",
    "calexp_info = calexp.getInfo()\n",
    "photocalib = calexp_info.getPhotoCalib()\n",
    "expo_photocalibconstant_mean = photocalib.getCalibrationMean()\n",
    "expo_photocalibconstant_error = photocalib.getCalibrationErr()\n",
    "calexp_md = calexp_info.getMetadata()\n",
    "magzero,magzero_rms,magzero_nobj = calexp_md[\"MAGZERO\"],calexp_md[\"MAGZERO_RMS\"],calexp_md[\"MAGZERO_NOBJ\"] \n",
    "bgmean,bgvar = calexp_md[\"BGMEAN\"],calexp_md[\"BGVAR\"]\n",
    "\n",
    "\n",
    "mu_ce,med_ce,std_ce,sigMad_ce,vmin_ce,vmax_ce = ComputeStatfromImage(calexp.getImage().array,remove_zero_flag=False)\n",
    "mu_bkg,med_bkg,std_bkg,sigMad_bkg,vmin_bkg,vmax_bkg = ComputeStatfromImage(bkgd.getImage().array,remove_zero_flag=False)\n",
    "\n",
    "datasetRefs = registry.queryDatasets('postISRCCD', dataId=dataId, collections  = collections)\n",
    "for i, ref in enumerate(datasetRefs):\n",
    "    postisrccd  = butler.get(ref)\n",
    "mu_pisr,med_pisr,std_pisr,sigMad_pisr,vmin_pisr,vmax_pisr = ComputeStatfromImage(postisrccd.getImage().array,remove_zero_flag=False)\n",
    "\n",
    "mask = calexp.mask.array\n",
    "the_mask = np.where(mask==0,1,0)\n",
    "\n",
    "mu_ce_m,med_ce_m,std_ce_m,sigMad_ce_m,vmin_ce_m,vmax_ce_m = ComputeStatfromImage(calexp.getImage().array*the_mask ,remove_zero_flag=True)\n",
    "mu_bkg_m,med_bkg_m,std_bkg_m,sigMad_bkg_m,vmin_bkg_m,vmax_bkg_m = ComputeStatfromImage(bkgd.getImage().array*the_mask,remove_zero_flag=True)\n",
    "mu_pisr_m,med_pisr_m,std_pisr_m,sigMad_pisr_m,vmin_pisr_m,vmax_pisr_m = ComputeStatfromImage(postisrccd.getImage().array*the_mask,remove_zero_flag=True)\n",
    "\n",
    "del calexp,bkgd,postisrccd,mask,the_mask"
   ]
  },
  {
   "cell_type": "code",
   "execution_count": 22,
   "id": "2dcbf10d-9585-4736-978a-5bebaed5085f",
   "metadata": {
    "execution": {
     "iopub.execute_input": "2024-05-09T14:54:56.012552Z",
     "iopub.status.busy": "2024-05-09T14:54:56.012113Z",
     "iopub.status.idle": "2024-05-09T14:54:56.017387Z",
     "shell.execute_reply": "2024-05-09T14:54:56.016933Z",
     "shell.execute_reply.started": "2024-05-09T14:54:56.012539Z"
    }
   },
   "outputs": [
    {
     "name": "stdout",
     "output_type": "stream",
     "text": [
      "0) ======================7024040300001 == r  == 0 =====================\n",
      "* photocalib ::\n",
      "spatially constant with mean: 1.12526 error: 0.000139179\n",
      "1.12525625279675 31.27187141276424\n",
      "magzero,magzero_rms,magzero_nobj : 27.5790682759651 0.000134291322191179 410\n",
      "bgmean,bgvar : 1705.14601185246 0.822944011725373\n",
      "* calexp ::\n",
      "17.013908 1.0178335 560.0204 35.21349194641113 -104.62264236793519 106.65830931053162\n",
      "0.015449499572078949 -0.08032277226448059 34.519808464181835 34.49981348835826 -103.57976323733925 103.41911769281029\n",
      "* calexpBackground :: \n",
      "1704.2969 1704.4072 0.8708258 1.0149439453125 1701.3623947265626 1707.4520583984374\n",
      "1704.2898291674942 1704.410888671875 0.8649762798814516 1.01566787109375 1701.3638850585937 1707.4578922851563\n",
      "* postisrccd :: \n",
      "1721.3032 1705.3062 560.024 35.21971318359375 1599.6470127929688 1810.9652918945312\n",
      "1704.3052786948663 1704.212890625 34.53072435273044 34.51189475097656 1600.6772063720703 1807.7485748779297\n"
     ]
    }
   ],
   "source": [
    "print(f\"{index}) ======================{visitId} == {band}  == {det} =====================\")\n",
    "print('* photocalib ::')\n",
    "print(photocalib)\n",
    "print(expo_photocalibconstant_mean,convert_fluxtomag(expo_photocalibconstant_mean) )\n",
    "print(\"magzero,magzero_rms,magzero_nobj :\",magzero,magzero_rms,magzero_nobj)\n",
    "print(\"bgmean,bgvar :\",bgmean,bgvar)\n",
    "\n",
    "print(\"* calexp ::\")\n",
    "print(mu_ce,med_ce,std_ce,sigMad_ce,vmin_ce,vmax_ce)\n",
    "print(mu_ce_m,med_ce_m,std_ce_m,sigMad_ce_m,vmin_ce_m,vmax_ce_m)\n",
    "print(\"* calexpBackground :: \")\n",
    "print(mu_bkg,med_bkg,std_bkg,sigMad_bkg,vmin_bkg,vmax_bkg)\n",
    "print(mu_bkg_m,med_bkg_m,std_bkg_m,sigMad_bkg_m,vmin_bkg_m,vmax_bkg_m)\n",
    "print(\"* postisrccd :: \")\n",
    "print(mu_pisr,med_pisr,std_pisr,sigMad_pisr,vmin_pisr,vmax_pisr)\n",
    "print(mu_pisr_m,med_pisr_m,std_pisr_m,sigMad_pisr_m,vmin_pisr_m,vmax_pisr_m) "
   ]
  },
  {
   "cell_type": "code",
   "execution_count": 23,
   "id": "b63a7139-b67e-456a-852c-919ac07da96c",
   "metadata": {
    "execution": {
     "iopub.execute_input": "2024-05-09T14:54:56.017970Z",
     "iopub.status.busy": "2024-05-09T14:54:56.017839Z",
     "iopub.status.idle": "2024-05-09T14:54:56.022057Z",
     "shell.execute_reply": "2024-05-09T14:54:56.021602Z",
     "shell.execute_reply.started": "2024-05-09T14:54:56.017959Z"
    }
   },
   "outputs": [],
   "source": [
    "N = len(df_myselectedvisits)\n",
    "NMAX = 1000"
   ]
  },
  {
   "cell_type": "code",
   "execution_count": null,
   "id": "52a3e2ee-8a78-4f65-aa6d-83885cae7e8b",
   "metadata": {},
   "outputs": [],
   "source": []
  },
  {
   "cell_type": "code",
   "execution_count": 24,
   "id": "69f329d4-8958-4139-bce2-569cad96bf05",
   "metadata": {
    "execution": {
     "iopub.execute_input": "2024-05-09T14:54:56.022649Z",
     "iopub.status.busy": "2024-05-09T14:54:56.022516Z",
     "iopub.status.idle": "2024-05-09T14:54:56.029229Z",
     "shell.execute_reply": "2024-05-09T14:54:56.028866Z",
     "shell.execute_reply.started": "2024-05-09T14:54:56.022637Z"
    }
   },
   "outputs": [],
   "source": [
    "df = pd.DataFrame(columns=['idx', 'visitId','ccdVisitId','band', 'detector',\n",
    "                           'zeroPoint','airmass','skyBg','skyNoise','expTime',\n",
    "                           'photocalib_m','photocalib_e',\n",
    "                           'magzero','magzero_rms','magzero_nobj',\n",
    "                           'bgmean','bgvar',\n",
    "                           'mu_ce','med_ce','std_ce','sigMad_ce',\n",
    "                           'mu_ce_m','med_ce_m','std_ce_m','sigMad_ce_m',\n",
    "                           'mu_bkg','med_bkg','std_bkg','sigMad_bkg',\n",
    "                           'mu_bkg_m','med_bkg_m','std_bkg_m','sigMad_bkg_m',\n",
    "                           'mu_pisr','med_pisr','std_pisr','sigMad_pisr',\n",
    "                           'mu_pisr_m','med_pisr_m','std_pisr_m','sigMad_pisr_m'\n",
    "                          ])"
   ]
  },
  {
   "cell_type": "code",
   "execution_count": null,
   "id": "9f79dc15-b7df-4923-90d9-9c6df02c4db0",
   "metadata": {
    "execution": {
     "iopub.execute_input": "2024-05-09T14:54:56.029792Z",
     "iopub.status.busy": "2024-05-09T14:54:56.029670Z"
    }
   },
   "outputs": [
    {
     "name": "stdout",
     "output_type": "stream",
     "text": [
      "0) ======================7024040300001 == r  == 0 =====================\n",
      "* photocalib ::\n",
      "spatially constant with mean: 1.12526 error: 0.000139179\n",
      "1.12525625279675 31.27187141276424\n",
      "magzero,magzero_rms,magzero_nobj : 27.5790682759651 0.000134291322191179 410\n",
      "bgmean,bgvar : 1705.14601185246 0.822944011725373\n",
      "* calexp ::\n",
      "17.013908 1.0178335 560.0204 35.21349194641113 -104.62264236793519 106.65830931053162\n",
      "0.015449499572078949 -0.08032277226448059 34.519808464181835 34.49981348835826 -103.57976323733925 103.41911769281029\n",
      "* calexpBackground :: \n",
      "1704.2969 1704.4072 0.8708258 1.0149439453125 1701.3623947265626 1707.4520583984374\n",
      "1704.2898291674942 1704.410888671875 0.8649762798814516 1.01566787109375 1701.3638850585937 1707.4578922851563\n",
      "* postisrccd :: \n",
      "1721.3032 1705.3062 560.024 35.21971318359375 1599.6470127929688 1810.9652918945312\n",
      "1704.3052786948663 1704.212890625 34.53072435273044 34.51189475097656 1600.6772063720703 1807.7485748779297\n",
      "1) ======================7024040300001 == r  == 1 =====================\n",
      "* photocalib ::\n",
      "spatially constant with mean: 1.14584 error: 0.000135252\n",
      "1.1458380314799095 31.252191917976194\n",
      "magzero,magzero_rms,magzero_nobj : 27.559388781177 0.0001281579397922 413\n",
      "bgmean,bgvar : 1675.93588612755 0.330346175155996\n",
      "* calexp ::\n",
      "15.231218 0.8331963 545.50586 33.3515604927063 -99.22148519573211 100.88787776050567\n",
      "0.020971088225749217 -0.0831599310040474 32.76987095026033 32.75995759849548 -98.3630327264905 98.19671286448241\n",
      "* calexpBackground :: \n",
      "1675.2189 1675.1973 0.5664166 0.6399503906249999 1673.277414453125 1677.117116796875\n",
      "1675.226607764693 1675.19775390625 0.5641375960748942 0.635968798828125 1673.2898475097657 1677.1056603027343\n",
      "* postisrccd :: \n",
      "1690.4606 1676.0632 545.50934 33.355604296875 1575.99641953125 1776.1300453125\n",
      "1675.2475789359382 1675.147705078125 32.774709057340026 32.76678116455078 1576.8473615844728 1773.4480485717772\n",
      "2) ======================7024040300001 == r  == 2 =====================\n",
      "* photocalib ::\n",
      "spatially constant with mean: 1.12359 error: 0.000141109\n",
      "1.1235878143332636 31.273482448766302\n",
      "magzero,magzero_rms,magzero_nobj : 27.5806793119671 0.000136354903493889 336\n",
      "bgmean,bgvar : 1710.58946253822 0.191569957617081\n",
      "* calexp ::\n",
      "14.167453 0.7753502 503.8735 34.07937171936035 -101.46276494503022 103.0134653711319\n",
      "0.018995147530226512 -0.06850174069404602 33.55373790210682 33.535532771283386 -100.6751000545442 100.53809657315611\n",
      "* calexpBackground :: \n",
      "1709.9552 1709.9448 0.3734731 0.3518279296875 1708.8893404296875 1711.0003080078125\n",
      "1709.9401802028685 1709.944091796875 0.37015890194544215 0.34875124511718747 1708.8978380615235 1710.9903455322265\n",
      "* postisrccd :: \n",
      "1724.1127 1710.7158 503.87857 34.082244799804684 1608.469085913086 1812.962554711914\n",
      "1709.9591753246773 1709.8690185546875 33.555741414269896 33.53767163085937 1609.2560036621094 1810.4820334472656\n",
      "3) ======================7024040300001 == r  == 3 =====================\n",
      "* photocalib ::\n",
      "spatially constant with mean: 1.1166 error: 0.000137773\n",
      "1.11659769540239 31.280258182112814\n",
      "magzero,magzero_rms,magzero_nobj : 27.5874550453137 0.000133965260438334 354\n",
      "bgmean,bgvar : 1718.46803703263 0.831613734777711\n",
      "* calexp ::\n",
      "16.345766 1.0477314 548.94586 34.9777466468811 -103.88550854110717 105.98097134017944\n",
      "0.011763828596333624 -0.09112882614135742 34.250301347359844 34.24405917892456 -102.82330636291503 102.64104871063232\n",
      "* calexpBackground :: \n",
      "1717.5771 1717.5818 0.86662054 0.9713274169921875 1714.6678048583985 1720.4957693603515\n",
      "1717.572973999124 1717.5821533203125 0.8623763849742967 0.9707844726562499 1714.6697999023438 1720.4945067382812\n",
      "* postisrccd :: \n",
      "1733.9175 1718.6238 548.94617 34.987694970703124 1613.6606943847655 1823.5868642089845\n",
      "1717.5847378855826 1717.4853515625 34.26111439921536 34.25417717285156 1614.7228200439454 1820.2478830810546\n",
      "4) ======================7024040300001 == r  == 4 =====================\n",
      "* photocalib ::\n",
      "spatially constant with mean: 1.11963 error: 0.000130117\n",
      "1.119630095158011 31.277313591017112\n",
      "magzero,magzero_rms,magzero_nobj : 27.5845104542179 0.000126178260626913 343\n",
      "bgmean,bgvar : 1715.91745298108 0.521777712362081\n",
      "* calexp ::\n",
      "17.09805 0.9261617 619.2143 34.08229570083618 -101.32072539606094 103.17304880895614\n",
      "0.01267190812942228 -0.10005122423171997 33.411862578012354 33.4161614131093 -100.34853546355961 100.14843301509617\n",
      "* calexpBackground :: \n",
      "1715.1078 1715.2832 0.6069664 0.583846142578125 1713.5316646972656 1717.0347415527344\n",
      "1715.1222728914418 1715.2845458984375 0.603261828588061 0.5804074951171875 1713.543323413086 1717.025768383789\n",
      "* postisrccd :: \n",
      "1732.3268 1716.0459 628.2878 34.08785522460937 1613.782332763672 1818.309464111328\n",
      "1715.1349448413368 1715.0205078125 33.41708138946237 33.419852709960935 1614.7609496826171 1815.2800659423829\n",
      "5) ======================7024040300001 == r  == 5 =====================\n",
      "* photocalib ::\n",
      "spatially constant with mean: 1.15692 error: 0.000137461\n",
      "1.1569188145299554 31.241742790258332\n",
      "magzero,magzero_rms,magzero_nobj : 27.5489396534592 0.000129003089926339 348\n",
      "bgmean,bgvar : 1660.93793403849 0.0973630486980614\n",
      "* calexp ::\n",
      "14.820339 0.8792607 526.2289 34.20992438163757 -101.75051242609024 103.5090338637352\n",
      "0.019126156533788793 -0.0773341953754425 33.62642421968892 33.59743964855075 -100.86965314102768 100.7149847502768\n",
      "* calexpBackground :: \n",
      "1660.1959 1660.2437 0.20728552 0.1855059814453125 1659.6871343994142 1660.8001702880858\n",
      "1660.1910108864477 1660.244140625 0.20516704824602533 0.18460107421875 1659.6903374023439 1660.7979438476561\n",
      "* postisrccd :: \n",
      "1675.0404 1661.0685 528.406 34.21164653320312 1558.433541845703 1763.703421044922\n",
      "1660.210137049404 1660.11279296875 33.6270315935733 33.59811943359375 1559.3184346679686 1760.9071512695314\n",
      "6) ======================7024040300001 == r  == 6 =====================\n",
      "* photocalib ::\n",
      "spatially constant with mean: 1.11979 error: 0.000118535\n",
      "1.1197893125454677 31.27715920449917\n",
      "magzero,magzero_rms,magzero_nobj : 27.5843560677 0.000114930064622035 385\n",
      "bgmean,bgvar : 1712.72515903191 0.868479953133841\n",
      "* calexp ::\n",
      "15.727138 0.9016111 578.94147 34.73575748748779 -103.30566137275694 105.10888355216979\n",
      "0.01950873378136541 -0.06698659062385559 34.1362589112394 34.12163296353221 -102.43188548122048 102.29791229997277\n",
      "* calexpBackground :: \n",
      "1711.9563 1711.8794 0.9232731 0.9707844726562499 1708.9670411132813 1714.7917479492187\n",
      "1711.9657415821564 1711.880615234375 0.9171642092849274 0.9648120849609374 1708.9861789794923 1714.7750514892577\n",
      "* postisrccd :: \n",
      "1727.7108 1712.866 580.4547 34.74834700927734 1608.620925769043 1817.111007824707\n",
      "1711.985250341326 1711.8966064453125 34.14855716969962 34.13491040039062 1609.4918752441406 1814.3013376464844\n",
      "7) ======================7024040300001 == r  == 7 =====================\n",
      "* photocalib ::\n",
      "spatially constant with mean: 1.13606 error: 0.000130438\n",
      "1.136058558500129 31.26149820550171\n",
      "magzero,magzero_rms,magzero_nobj : 27.5686950687025 0.000124660044672912 352\n",
      "bgmean,bgvar : 1689.63902590227 0.795491155290439\n",
      "* calexp ::\n",
      "16.5256 0.9754646 608.76953 34.18336252670288 -101.5746229976654 103.52555216255188\n",
      "0.010554448357045783 -0.08740058541297913 33.51043411516408 33.50278723635077 -100.59576229446529 100.42096112363933\n",
      "* calexpBackground :: \n",
      "1688.8044 1688.9028 0.7384919 0.902373486328125 1686.1957115722657 1691.6099524902343\n",
      "1688.7965462420777 1688.89697265625 0.734883765622245 0.9025544677734374 1686.1893092529297 1691.6046360595703\n",
      "* postisrccd :: \n",
      "1705.3525 1689.7705 611.4006 34.19481525878906 1587.1860620361329 1792.3549535888671\n",
      "1688.8071007147619 1688.7061767578125 33.51824942046027 33.51251520996094 1588.1686311279298 1789.2437223876952\n",
      "8) ======================7024040300001 == r  == 8 =====================\n",
      "* photocalib ::\n",
      "spatially constant with mean: 1.14569 error: 0.000122294\n",
      "1.145686508954681 31.252335502292063\n",
      "magzero,magzero_rms,magzero_nobj : 27.5595323654929 0.00011589428867933 362\n",
      "bgmean,bgvar : 1678.76051360674 0.302926700313845\n",
      "* calexp ::\n",
      "17.335373 0.936497 632.3419 35.062038755035395 -104.24961929206847 106.12261323814391\n",
      "0.017900155896778548 -0.07586878538131714 34.423988848998356 34.410584996402264 -103.30762377458811 103.15588620382547\n",
      "* calexpBackground :: \n",
      "1677.9816 1678.0905 0.50027233 0.5610424804687499 1676.4073266601563 1679.7735815429687\n",
      "1677.9848900982704 1678.090087890625 0.4984891958691909 0.5592326660156249 1676.4123898925782 1679.7677858886718\n",
      "* postisrccd :: \n",
      "1695.3853 1678.9167 637.1748 35.06768876953125 1573.7136817382811 1784.1198143554689\n",
      "1678.002790271538 1677.907958984375 34.42756313974486 34.4139837890625 1574.6660076171875 1781.1499103515625\n",
      "9) ======================7024040300002 == r  == 0 =====================\n",
      "* photocalib ::\n",
      "spatially constant with mean: 1.12419 error: 0.0001367\n",
      "1.1241921684382268 31.272898611243864\n",
      "magzero,magzero_rms,magzero_nobj : 27.5800954744447 0.00013202425229614 378\n",
      "bgmean,bgvar : 1573.05310195682 1.31457020891676\n",
      "* calexp ::\n",
      "16.456045 1.0102456 553.30664 34.031468193054195 -101.08415901756285 103.10465014076232\n",
      "0.012254807591901931 -0.09291210770606995 33.34767897019364 33.31956269922852 -100.05160020539162 99.86577598997948\n",
      "* calexpBackground :: \n",
      "1572.1925 1572.1053 0.9551299 1.008066650390625 1569.0811467285157 1575.1295466308593\n",
      "1572.1790433593821 1572.0985107421875 0.9495136962993266 0.9981126708984375 1569.1041727294921 1575.0928487548829\n",
      "* postisrccd :: \n",
      "1588.7416 1573.2034 561.6604 34.047677343749996 1471.060337109375 1675.346401171875\n",
      "1572.1912981748926 1572.0948486328125 33.360867228149964 33.32827609863281 1472.110020336914 1672.079676928711\n",
      "10) ======================7024040300002 == r  == 1 =====================\n",
      "* photocalib ::\n",
      "spatially constant with mean: 1.1455 error: 0.000133896\n",
      "1.1454959832098763 31.252516073416587\n",
      "magzero,magzero_rms,magzero_nobj : 27.5597129366174 0.000126910616476312 416\n",
      "bgmean,bgvar : 1546.16783293894 0.297825295450158\n",
      "* calexp ::\n",
      "15.827564 0.88385 561.97784 32.15808683509827 -95.59041052684785 97.35811048374177\n",
      "0.019605100335404226 -0.07502207159996033 31.566433700245177 31.545060748332737 -94.71020431659818 94.56016017339826\n",
      "* calexpBackground :: \n",
      "1545.4264 1545.3613 0.5380886 0.628729541015625 1543.4751395019532 1547.2475167480468\n",
      "1545.418071631009 1545.3624267578125 0.5350736039082182 0.6261958007812499 1543.4838393554687 1547.2410141601563\n",
      "* postisrccd :: \n",
      "1561.2555 1546.3032 562.7041 32.1669181640625 1449.8024681640625 1642.8039771484375\n",
      "1545.4376770909237 1545.3446044921875 31.570941922329265 31.5501333984375 1450.694204296875 1639.9950046875\n",
      "11) ======================7024040300002 == r  == 2 =====================\n",
      "* photocalib ::\n",
      "spatially constant with mean: 1.12335 error: 0.00015024\n",
      "1.1233492420193398 31.27371300849553\n",
      "magzero,magzero_rms,magzero_nobj : 27.5809098716964 0.000145209212215804 369\n",
      "bgmean,bgvar : 1578.13491933862 0.518329423241924\n",
      "* calexp ::\n",
      "15.049836 0.81426644 550.3478 32.9280384601593 -97.96984893722534 99.59838182373046\n",
      "0.01753442965489225 -0.09702087938785553 32.3589626833221 32.336785886111855 -97.10737853772342 96.91333677894771\n",
      "* calexpBackground :: \n",
      "1577.433 1577.3999 0.46667197 0.314545751953125 1576.4562650878906 1578.3435395996094\n",
      "1577.4204950083906 1577.399169921875 0.45098088871319786 0.31128808593749996 1576.4653056640625 1578.3330341796875\n",
      "* postisrccd :: \n",
      "1592.5695 1578.2378 557.46075 32.93228869628906 1479.440926879883 1677.034659057617\n",
      "1577.4380294554685 1577.323486328125 32.361646900286495 32.34301311035156 1480.2944469970703 1674.3525256591797\n",
      "12) ======================7024040300002 == r  == 3 =====================\n",
      "* photocalib ::\n",
      "spatially constant with mean: 1.1158 error: 0.000125397\n",
      "1.115801127510667 31.281033010183336\n",
      "magzero,magzero_rms,magzero_nobj : 27.5882298733842 0.000122018163965713 391\n",
      "bgmean,bgvar : 1585.00902465847 0.755038771786426\n",
      "* calexp ::\n",
      "17.022352 0.87419903 592.2645 33.63198841438293 -100.02176621036529 101.7701642759323\n",
      "0.019754198891578655 -0.07449182868003845 33.034700534941685 33.0295459422648 -99.16312965547442 99.01414599811434\n",
      "* calexpBackground :: \n",
      "1584.2902 1584.3804 0.8419407 1.0107813720703125 1581.3480269775391 1587.4127152099609\n",
      "1584.280921903328 1584.3812255859375 0.8371443213418883 1.0069807617187498 1581.3602833007812 1587.4021678710938\n",
      "* postisrccd :: \n",
      "1601.3914 1585.158 599.9443 33.64390773925781 1484.2262357666016 1686.0896822021484\n",
      "1584.3006760470714 1584.2113037109375 33.04526428423285 33.03997265625 1485.0913857421874 1683.3312216796876\n",
      "13) ======================7024040300002 == r  == 4 =====================\n",
      "* photocalib ::\n",
      "spatially constant with mean: 1.11914 error: 0.000124248\n",
      "1.1191407483480187 31.277788227854813\n",
      "magzero,magzero_rms,magzero_nobj : 27.5849850910557 0.000120539794276814 364\n",
      "bgmean,bgvar : 1582.97491345106 0.360011560988235\n",
      "* calexp ::\n",
      "18.138544 0.94833565 650.7254 32.83084294052124 -97.5441931739807 99.44086446914672\n",
      "0.017833253670085585 -0.0815972238779068 32.180241252886525 32.158207172736525 -96.55621874208748 96.39302429433167\n",
      "* calexpBackground :: \n",
      "1582.1708 1582.1677 0.530063 0.6296344482421875 1580.2788212646485 1584.0566279541015\n",
      "1582.1741088307504 1582.1683349609375 0.5280792346639333 0.626557763671875 1580.2886616699218 1584.0480082519532\n",
      "* postisrccd :: \n",
      "1600.5719 1583.1244 671.8153 32.83691147460937 1484.6136552246094 1681.6351240722656\n",
      "1582.19194205416 1582.0921630859375 32.184566118996074 32.164384423828125 1485.5990098144532 1678.5853163574218\n",
      "14) ======================7024040300002 == r  == 5 =====================\n",
      "* photocalib ::\n",
      "spatially constant with mean: 1.1563 error: 0.000132491\n",
      "1.1562966324341857 31.242326847955603\n",
      "magzero,magzero_rms,magzero_nobj : 27.5495237111564 0.000124406267050714 370\n",
      "bgmean,bgvar : 1532.25313507752 0.132246135665963\n",
      "* calexp ::\n",
      "15.02859 0.82458764 555.45483 33.02009863128662 -98.23570825071334 99.88488353700637\n",
      "0.0162025089443324 -0.07217825204133987 32.455133919552964 32.44622343521118 -97.41084855767488 97.2664920535922\n",
      "* calexpBackground :: \n",
      "1531.5411 1531.5834 0.2628479 0.23780961914062498 1530.8699451660157 1532.2968028808593\n",
      "1531.5603206528845 1531.5833740234375 0.26062795797901356 0.23690471191406248 1530.8726598876954 1532.2940881591796\n",
      "* postisrccd :: \n",
      "1546.6377 1532.3833 559.00146 33.02296040039062 1433.314419580078 1631.452181982422\n",
      "1531.57652316871 1531.4881591796875 32.456139574105805 32.448344311523435 1434.1431262451172 1628.8331921142578\n",
      "15) ======================7024040300002 == r  == 6 =====================\n",
      "* photocalib ::\n",
      "spatially constant with mean: 1.11978 error: 0.000120223\n",
      "1.1197846558270494 31.27716371961486\n",
      "magzero,magzero_rms,magzero_nobj : 27.5843605828157 0.00011656721033522 417\n",
      "bgmean,bgvar : 1580.04816239562 1.09682857206911\n",
      "* calexp ::\n",
      "18.786875 0.9273735 683.2629 33.549964229965205 -99.72251916141508 101.57726621837614\n",
      "0.019458770384785506 -0.08118608593940735 32.944606655273944 32.913572669792174 -98.82190409531593 98.65953192343711\n",
      "* calexpBackground :: \n",
      "1579.2711 1579.2876 0.9669431 1.1834376708984375 1575.7372846435546 1582.8379106689454\n",
      "1579.2719190197743 1579.28564453125 0.9643923420811039 1.1801800048828124 1575.7451045166015 1582.8261845458985\n",
      "* postisrccd :: \n",
      "1598.1537 1580.1927 690.82245 33.567533569335936 1479.4901483154297 1680.8953497314453\n",
      "1579.291377793309 1579.1888427734375 32.95862601671537 32.92866906738281 1480.402835571289 1677.974849975586\n",
      "16) ======================7024040300002 == r  == 7 =====================\n",
      "* photocalib ::\n",
      "spatially constant with mean: 1.13538 error: 0.000124566\n",
      "1.1353847517933306 31.262142356605743\n",
      "magzero,magzero_rms,magzero_nobj : 27.5693392198066 0.000119119019447357 432\n",
      "bgmean,bgvar : 1558.50104561809 0.525513140880747\n",
      "* calexp ::\n",
      "15.77679 0.80270374 616.2309 32.85087249641418 -97.74991375102996 99.35532122745514\n",
      "0.02032671962583375 -0.07989351451396942 32.30411248572956 32.29217488772571 -96.95641817769109 96.79663114866315\n",
      "* calexpBackground :: \n",
      "1557.811 1557.7927 0.6653215 0.725735595703125 1555.6155178222657 1559.9699313964843\n",
      "1557.8145249030813 1557.7894287109375 0.6641167589531084 0.72464970703125 1555.6154795898437 1559.9633778320313\n",
      "* postisrccd :: \n",
      "1573.6512 1558.618 621.3807 32.86387770996094 1460.0264088623046 1657.2096751220704\n",
      "1557.834851505394 1557.72998046875 32.31094601050621 32.297586767578125 1460.8372201660156 1654.6227407714844\n",
      "17) ======================7024040300003 == r  == 0 =====================\n",
      "* photocalib ::\n",
      "spatially constant with mean: 1.12513 error: 0.000126559\n",
      "1.1251293102760531 31.271993903854703\n",
      "magzero,magzero_rms,magzero_nobj : 27.5791907670555 0.000122128179997905 386\n",
      "bgmean,bgvar : 1456.43485512833 0.858118434708215\n",
      "* calexp ::\n",
      "18.264763 0.99747 623.8036 32.95267455940247 -97.86055365695954 99.85549369945527\n",
      "0.01147087925993756 -0.07671171426773071 32.26846630472096 32.253531924819946 -96.83730748872756 96.6838840601921\n",
      "* calexpBackground :: \n",
      "1455.5984 1455.719 0.84455174 0.9640881591796875 1452.8267296630859 1458.6112586181641\n",
      "1455.598968518312 1455.7176513671875 0.8420206086223659 0.9648120849609374 1452.8232151123048 1458.6120876220702\n",
      "* postisrccd :: \n",
      "1473.9602 1456.6041 630.7467 32.96776105957031 1357.7008427978517 1555.5074091552733\n",
      "1455.6104394092147 1455.5260009765625 32.279469917803326 32.265915014648435 1358.7282559326172 1552.3237460205078\n",
      "18) ======================7024040300003 == r  == 1 =====================\n",
      "* photocalib ::\n",
      "spatially constant with mean: 1.14667 error: 0.000123453\n",
      "1.146672334762645 31.251401663473406\n",
      "magzero,magzero_rms,magzero_nobj : 27.5585985266742 0.000116892124188896 406\n",
      "bgmean,bgvar : 1431.51157530609 0.289942855997219\n",
      "* calexp ::\n",
      "15.946088 0.8301999 610.32104 31.022255767822266 -92.23656740617753 93.89696720075608\n",
      "0.018922542560919763 -0.08109872043132782 30.44963947801658 30.436977326774596 -91.39203070075511 91.22983325989246\n",
      "* calexpBackground :: \n",
      "1430.8243 1430.9316 0.5068923 0.49806093749999997 1429.4374578125 1432.4258234375\n",
      "1430.8087470342232 1430.9322509765625 0.5046186941702826 0.4957081787109375 1429.4451264404297 1432.4193755126953\n",
      "* postisrccd :: \n",
      "1446.8704 1431.6395 620.39514 31.025649169921873 1338.5625788574218 1524.7164738769532\n",
      "1430.8276695933682 1430.72998046875 30.45373947606742 30.44053615722656 1339.4083719970704 1522.0515889404296\n",
      "19) ======================7024040300003 == r  == 2 =====================\n",
      "* photocalib ::\n",
      "spatially constant with mean: 1.12442 error: 0.000136268\n",
      "1.1244211696682378 31.272677466129224\n",
      "magzero,magzero_rms,magzero_nobj : 27.5798743293301 0.000131579809305635 370\n",
      "bgmean,bgvar : 1461.12198504726 0.0903731983428987\n",
      "* calexp ::\n",
      "14.578517 0.78076476 499.77332 31.788067442321776 -94.58343756837844 96.14496708555221\n",
      "0.02420082696222046 -0.07451531291007996 31.24514385007087 31.249349305915832 -93.82256323065758 93.67353260483742\n",
      "* calexpBackground :: \n",
      "1460.4724 1460.4178 0.27352425 0.2854077392578125 1459.561623461914 1461.274069897461\n",
      "1460.4682088052361 1460.41796875 0.27134430700068646 0.283416943359375 1459.567717919922 1461.268219580078\n",
      "* postisrccd :: \n",
      "1475.0476 1461.249 499.7752 31.7904767578125 1365.8775931640625 1556.6204537109375\n",
      "1460.492409629631 1460.394287109375 31.24631565326484 31.24916125488281 1366.6468033447265 1554.1417708740235\n"
     ]
    }
   ],
   "source": [
    "for index in range(N):\n",
    "\n",
    "    visitId = df_myselectedvisits.iloc[index]['visitId']\n",
    "    ccdvisitId = df_myselectedvisits.iloc[index]['ccdVisitId']\n",
    "    band =  df_myselectedvisits.iloc[index]['band']\n",
    "    det = df_myselectedvisits.iloc[index]['detector']     \n",
    "\n",
    "    zeroPoint = df_myselectedvisits.iloc[index]['zeroPoint']\n",
    "    airmass = df_myselectedvisits.iloc[index]['airmass']          \n",
    "    skyBg  = df_myselectedvisits.iloc[index]['skyBg']\n",
    "    skyNoise = df_myselectedvisits.iloc[index]['skyNoise']       \n",
    "    expTime   = df_myselectedvisits.iloc[index]['expTime']\n",
    "\n",
    "     \n",
    "\n",
    "    dataId = {'visit': visitId, 'instrument':instrument , 'detector': det}\n",
    "    \n",
    "    \n",
    "    calexp = butler.get('calexp', **dataId,collections=collections)\n",
    "    bkgd  = butler.get('calexpBackground', **dataId,collections=collections)\n",
    "    # get the calibration constant  : expo_photocalibconstant_mean in nJ per ADU. To convert it in AB-Mag : convert_fluxtomag(expo_photocalibconstant_mean) --> zero point\n",
    "    calexp_info = calexp.getInfo()\n",
    "    photocalib = calexp_info.getPhotoCalib()\n",
    "    expo_photocalibconstant_mean = photocalib.getCalibrationMean()\n",
    "    expo_photocalibconstant_error = photocalib.getCalibrationErr()\n",
    "    calexp_md = calexp_info.getMetadata()\n",
    "    magzero,magzero_rms,magzero_nobj = calexp_md[\"MAGZERO\"],calexp_md[\"MAGZERO_RMS\"],calexp_md[\"MAGZERO_NOBJ\"] \n",
    "    bgmean,bgvar = calexp_md[\"BGMEAN\"],calexp_md[\"BGVAR\"]\n",
    "\n",
    "    mu_ce,med_ce,std_ce,sigMad_ce,vmin_ce,vmax_ce = ComputeStatfromImage(calexp.getImage().array,remove_zero_flag=False)\n",
    "    mu_bkg,med_bkg,std_bkg,sigMad_bkg,vmin_bkg,vmax_bkg = ComputeStatfromImage(bkgd.getImage().array,remove_zero_flag=False)\n",
    "\n",
    "    datasetRefs = registry.queryDatasets('postISRCCD', dataId=dataId, collections  = collections)\n",
    "    for i, ref in enumerate(datasetRefs):\n",
    "        postisrccd  = butler.get(ref)\n",
    "    mu_pisr,med_pisr,std_pisr,sigMad_pisr,vmin_pisr,vmax_pisr = ComputeStatfromImage(postisrccd.getImage().array,remove_zero_flag=False)\n",
    "\n",
    "    mask = calexp.mask.array\n",
    "    the_mask = np.where(mask==0,1,0)\n",
    "\n",
    "    mu_ce_m,med_ce_m,std_ce_m,sigMad_ce_m,vmin_ce_m,vmax_ce_m = ComputeStatfromImage(calexp.getImage().array*the_mask ,remove_zero_flag=True)\n",
    "    mu_bkg_m,med_bkg_m,std_bkg_m,sigMad_bkg_m,vmin_bkg_m,vmax_bkg_m = ComputeStatfromImage(bkgd.getImage().array*the_mask,remove_zero_flag=True)\n",
    "    mu_pisr_m,med_pisr_m,std_pisr_m,sigMad_pisr_m,vmin_pisr_m,vmax_pisr_m = ComputeStatfromImage(postisrccd.getImage().array*the_mask,remove_zero_flag=True)\n",
    "\n",
    "    del calexp,bkgd,postisrccd,mask,the_mask\n",
    "\n",
    "    df.loc[index] = [index,visitId,ccdvisitId,band, det,\n",
    "                     zeroPoint,airmass,skyBg,skyNoise,expTime,\n",
    "                     expo_photocalibconstant_mean,expo_photocalibconstant_error,\n",
    "                     magzero,magzero_rms,magzero_nobj,\n",
    "                     bgmean,bgvar,\n",
    "                     mu_ce,med_ce,std_ce,sigMad_ce,\n",
    "                     mu_ce_m,med_ce_m,std_ce_m,sigMad_ce_m,\n",
    "                     mu_bkg,med_bkg,std_bkg,sigMad_bkg,\n",
    "                     mu_bkg_m,med_bkg_m,std_bkg_m,sigMad_bkg_m,\n",
    "                     mu_pisr,med_pisr,std_pisr,sigMad_pisr,\n",
    "                     mu_pisr_m,med_pisr_m,std_pisr_m,sigMad_pisr_m\n",
    "                    ]\n",
    "   \n",
    "\n",
    "\n",
    "    if index<10:\n",
    "        print(f\"{index}) ======================{visitId} == {band}  == {det} =====================\")\n",
    "        print('* photocalib ::')\n",
    "        print(photocalib)\n",
    "        print(expo_photocalibconstant_mean,convert_fluxtomag(expo_photocalibconstant_mean) )\n",
    "        print(\"magzero,magzero_rms,magzero_nobj :\",magzero,magzero_rms,magzero_nobj)\n",
    "        print(\"bgmean,bgvar :\",bgmean,bgvar)\n",
    "        print(\"* calexp ::\")\n",
    "        print(mu_ce,med_ce,std_ce,sigMad_ce,vmin_ce,vmax_ce)\n",
    "        print(mu_ce_m,med_ce_m,std_ce_m,sigMad_ce_m,vmin_ce_m,vmax_ce_m)\n",
    "        print(\"* calexpBackground :: \")\n",
    "        print(mu_bkg,med_bkg,std_bkg,sigMad_bkg,vmin_bkg,vmax_bkg)\n",
    "        print(mu_bkg_m,med_bkg_m,std_bkg_m,sigMad_bkg_m,vmin_bkg_m,vmax_bkg_m)\n",
    "        print(\"* postisrccd :: \")\n",
    "        print(mu_pisr,med_pisr,std_pisr,sigMad_pisr,vmin_pisr,vmax_pisr)\n",
    "        print(mu_pisr_m,med_pisr_m,std_pisr_m,sigMad_pisr_m,vmin_pisr_m,vmax_pisr_m) \n",
    "\n",
    "    if NMAX>0 and index>NMAX :\n",
    "        break\n",
    "   "
   ]
  },
  {
   "cell_type": "code",
   "execution_count": null,
   "id": "5bcc9555-3df6-4e5c-af75-1cb4f553db83",
   "metadata": {},
   "outputs": [],
   "source": [
    "df"
   ]
  },
  {
   "cell_type": "code",
   "execution_count": null,
   "id": "58796790-ac03-40f6-b0d2-8e1a92c31922",
   "metadata": {},
   "outputs": [],
   "source": [
    "if NMAX>0:\n",
    "    outputfile = fn_ccdVisit_tracts_patches.split(\".\")[0]+f\"_calexpinfo_{NMAX}.csv\"\n",
    "else:\n",
    "    outputfile = fn_ccdVisit_tracts_patches.split(\".\")[0]+f\"_calexpinfo.csv\"\n",
    "print(f\"output file : {outputfile}\")"
   ]
  },
  {
   "cell_type": "code",
   "execution_count": null,
   "id": "3598f13b-776e-4fdb-9cd0-91058677fb7b",
   "metadata": {},
   "outputs": [],
   "source": [
    "df.to_csv(outputfile)"
   ]
  },
  {
   "cell_type": "code",
   "execution_count": null,
   "id": "4ae73ed7-7829-4d69-a703-d478f5bd5ed0",
   "metadata": {},
   "outputs": [],
   "source": []
  }
 ],
 "metadata": {
  "kernelspec": {
   "display_name": "LSST",
   "language": "python",
   "name": "lsst"
  },
  "language_info": {
   "codemirror_mode": {
    "name": "ipython",
    "version": 3
   },
   "file_extension": ".py",
   "mimetype": "text/x-python",
   "name": "python",
   "nbconvert_exporter": "python",
   "pygments_lexer": "ipython3",
   "version": "3.11.7"
  }
 },
 "nbformat": 4,
 "nbformat_minor": 5
}
