{
 "cells": [
  {
   "cell_type": "markdown",
   "id": "45bf4242-bfc5-4d43-88c4-a8059ae148df",
   "metadata": {},
   "source": [
    "# Extract Info from postisrccd, calexp and calexpbg in Selected visits LSST in Auxtel"
   ]
  },
  {
   "cell_type": "markdown",
   "id": "01993b6e-6438-4fca-a5d5-1f9791336847",
   "metadata": {},
   "source": [
    "- author Sylvie Dagoret-Campagne\n",
    "- creation date 2024-05-07\n",
    "- last update 2024-05-09\n",
    "- affiliation : IJCLab\n",
    "- kernel : **w_2024_16**"
   ]
  },
  {
   "cell_type": "code",
   "execution_count": 1,
   "id": "bf752b70-e6ca-4cbf-8e8c-20bf7f0d8f61",
   "metadata": {
    "execution": {
     "iopub.execute_input": "2024-05-09T13:44:20.148768Z",
     "iopub.status.busy": "2024-05-09T13:44:20.148394Z",
     "iopub.status.idle": "2024-05-09T13:44:20.727718Z",
     "shell.execute_reply": "2024-05-09T13:44:20.727194Z",
     "shell.execute_reply.started": "2024-05-09T13:44:20.148753Z"
    }
   },
   "outputs": [],
   "source": [
    "import numpy as np\n",
    "import matplotlib.pyplot as plt\n",
    "%matplotlib inline\n",
    "from mpl_toolkits.axes_grid1 import make_axes_locatable\n",
    "from matplotlib.colors import LogNorm,SymLogNorm\n",
    "\n",
    "\n",
    "import matplotlib.ticker                         # here's where the formatter is\n",
    "from matplotlib.ticker import (MultipleLocator, FormatStrFormatter,\n",
    "                               AutoMinorLocator)\n",
    "\n",
    "from astropy.visualization import (MinMaxInterval, SqrtStretch,ZScaleInterval,PercentileInterval,\n",
    "                                   ImageNormalize,imshow_norm)\n",
    "from astropy.visualization.stretch import SinhStretch, LinearStretch,AsinhStretch,LogStretch\n",
    "\n",
    "from astropy.io import fits\n",
    "from astropy.wcs import WCS\n",
    "\n",
    "\n",
    "import pandas as pd\n",
    "\n",
    "import matplotlib.ticker                         # here's where the formatter is\n",
    "import os\n",
    "import re\n",
    "import pandas as pd\n",
    "import pickle\n",
    "from collections import OrderedDict\n",
    "\n",
    "plt.rcParams[\"figure.figsize\"] = (4,3)\n",
    "plt.rcParams[\"axes.labelsize\"] = 'x-large'\n",
    "plt.rcParams['axes.titlesize'] = 'x-large'\n",
    "plt.rcParams['xtick.labelsize']= 'x-large'\n",
    "plt.rcParams['ytick.labelsize']= 'x-large'"
   ]
  },
  {
   "cell_type": "code",
   "execution_count": 2,
   "id": "5bdc790b-44bc-4f52-96d1-952f86dcd516",
   "metadata": {
    "execution": {
     "iopub.execute_input": "2024-05-09T13:44:20.729250Z",
     "iopub.status.busy": "2024-05-09T13:44:20.728996Z",
     "iopub.status.idle": "2024-05-09T13:44:20.731633Z",
     "shell.execute_reply": "2024-05-09T13:44:20.731224Z",
     "shell.execute_reply.started": "2024-05-09T13:44:20.729236Z"
    }
   },
   "outputs": [],
   "source": [
    "import gc"
   ]
  },
  {
   "cell_type": "code",
   "execution_count": 3,
   "id": "0ca0d1e6-5f82-4c43-aaa3-8524fc2bc5ba",
   "metadata": {
    "execution": {
     "iopub.execute_input": "2024-05-09T13:44:20.732261Z",
     "iopub.status.busy": "2024-05-09T13:44:20.732136Z",
     "iopub.status.idle": "2024-05-09T13:44:20.736391Z",
     "shell.execute_reply": "2024-05-09T13:44:20.736020Z",
     "shell.execute_reply.started": "2024-05-09T13:44:20.732249Z"
    }
   },
   "outputs": [],
   "source": [
    "from matplotlib.ticker import (MultipleLocator, FormatStrFormatter,\n",
    "                               AutoMinorLocator)\n",
    "\n",
    "from astropy.visualization import (MinMaxInterval, SqrtStretch,ZScaleInterval,PercentileInterval,\n",
    "                                   ImageNormalize,imshow_norm)\n",
    "from astropy.visualization.stretch import SinhStretch, LinearStretch,AsinhStretch,LogStretch\n",
    "\n",
    "from astropy.time import Time\n"
   ]
  },
  {
   "cell_type": "code",
   "execution_count": 4,
   "id": "51ddfce4-9a0f-4804-bc6a-7f9138874f16",
   "metadata": {
    "execution": {
     "iopub.execute_input": "2024-05-09T13:44:20.737022Z",
     "iopub.status.busy": "2024-05-09T13:44:20.736899Z",
     "iopub.status.idle": "2024-05-09T13:44:21.287845Z",
     "shell.execute_reply": "2024-05-09T13:44:21.287388Z",
     "shell.execute_reply.started": "2024-05-09T13:44:20.737010Z"
    }
   },
   "outputs": [],
   "source": [
    "import lsst.daf.butler as dafButler\n",
    "#import lsst.summit.utils.butlerUtils as butlerUtils"
   ]
  },
  {
   "cell_type": "code",
   "execution_count": 5,
   "id": "34f037b5-b6a2-4f93-b86b-a6108d8a5ea7",
   "metadata": {
    "execution": {
     "iopub.execute_input": "2024-05-09T13:44:21.288558Z",
     "iopub.status.busy": "2024-05-09T13:44:21.288415Z",
     "iopub.status.idle": "2024-05-09T13:44:21.555283Z",
     "shell.execute_reply": "2024-05-09T13:44:21.554776Z",
     "shell.execute_reply.started": "2024-05-09T13:44:21.288544Z"
    }
   },
   "outputs": [],
   "source": [
    "import lsst.afw.image as afwImage\n",
    "import lsst.afw.display as afwDisplay\n",
    "import lsst.afw.table as afwTable\n",
    "import lsst.geom as geom"
   ]
  },
  {
   "cell_type": "code",
   "execution_count": 6,
   "id": "7f26c627-fc82-4f60-8e0a-c25657f092f9",
   "metadata": {
    "execution": {
     "iopub.execute_input": "2024-05-09T13:44:21.556470Z",
     "iopub.status.busy": "2024-05-09T13:44:21.556029Z",
     "iopub.status.idle": "2024-05-09T13:44:21.569436Z",
     "shell.execute_reply": "2024-05-09T13:44:21.569014Z",
     "shell.execute_reply.started": "2024-05-09T13:44:21.556450Z"
    }
   },
   "outputs": [],
   "source": [
    "# LSST Display\n",
    "import lsst.afw.display as afwDisplay\n",
    "afwDisplay.setDefaultBackend('matplotlib')"
   ]
  },
  {
   "cell_type": "code",
   "execution_count": 7,
   "id": "aba2cfa4-809a-4f1c-8e8f-9f81547e0b5e",
   "metadata": {
    "execution": {
     "iopub.execute_input": "2024-05-09T13:44:21.570246Z",
     "iopub.status.busy": "2024-05-09T13:44:21.570068Z",
     "iopub.status.idle": "2024-05-09T13:44:21.572537Z",
     "shell.execute_reply": "2024-05-09T13:44:21.572108Z",
     "shell.execute_reply.started": "2024-05-09T13:44:21.570229Z"
    }
   },
   "outputs": [],
   "source": [
    "transform = AsinhStretch() + PercentileInterval(99.)"
   ]
  },
  {
   "cell_type": "markdown",
   "id": "351e0468-d4f5-4c9e-b3db-1263499470cc",
   "metadata": {},
   "source": [
    "Import statements that we will need later"
   ]
  },
  {
   "cell_type": "markdown",
   "id": "5db4beba-3082-4754-8e70-26472f1c226c",
   "metadata": {},
   "source": [
    "Let's make a new plot and metric tool, we'll base it on the example in the getting started guide."
   ]
  },
  {
   "cell_type": "code",
   "execution_count": 8,
   "id": "b26e1f0b-83be-4348-b87c-88294ec7c8d6",
   "metadata": {
    "execution": {
     "iopub.execute_input": "2024-05-09T13:44:21.573360Z",
     "iopub.status.busy": "2024-05-09T13:44:21.573179Z",
     "iopub.status.idle": "2024-05-09T13:44:21.578184Z",
     "shell.execute_reply": "2024-05-09T13:44:21.577848Z",
     "shell.execute_reply.started": "2024-05-09T13:44:21.573342Z"
    }
   },
   "outputs": [],
   "source": [
    "# INSERT YOUR collection and tract\n",
    "# for rehearsal use collection 2 which have CCDvisit\n",
    "butlerRoot = \"/repo/embargo\"\n",
    "\n",
    "collection1 = 'LSSTComCamSim/runs/nightlyvalidation/20240402/d_2024_03_29/DM-43612'\n",
    "collection2 = 'LSSTComCamSim/runs/nightlyvalidation/20240403/d_2024_03_29/DM-43612'\n",
    "collection3 = 'LSSTComCamSim/runs/nightlyvalidation/20240404/d_2024_03_29/DM-43612'\n",
    "collection = 'LATISS/runs/AUXTEL_DRP_IMAGING_20230509_20240311/w_2024_10/PREOPS-4985'\n",
    "collectionn = collection\n",
    "#collections = [collection1,collection2,collection3]\n",
    "collections = [collection]\n",
    "collectionStr = collectionn.replace(\"/\", \"_\")\n",
    "fn_ccdVisit_tracts_patches = f\"ccdVisittractpatch_{collectionStr}.csv\"\n",
    "instrument = 'LATISS'\n",
    "skymapName = \"latiss_v1\"\n",
    "where_clause = \"instrument = \\'\" + instrument+ \"\\'\"\n",
    "tract = 3864 # mostly for light-curves\n",
    "patch_sel = 236\n",
    "band = 'g'\n",
    "#tract = 5615\n",
    "# tract = 5634 # interesting to view calib parameters\n",
    "suptitle = collectionStr + f\" inst = {instrument} tract = {tract}\""
   ]
  },
  {
   "cell_type": "code",
   "execution_count": 9,
   "id": "3048e2e2-2489-43e0-a96d-848c548700cb",
   "metadata": {
    "execution": {
     "iopub.execute_input": "2024-05-09T13:44:21.578756Z",
     "iopub.status.busy": "2024-05-09T13:44:21.578633Z",
     "iopub.status.idle": "2024-05-09T13:44:22.187655Z",
     "shell.execute_reply": "2024-05-09T13:44:22.187185Z",
     "shell.execute_reply.started": "2024-05-09T13:44:21.578744Z"
    }
   },
   "outputs": [],
   "source": [
    "#dataId = {\"skymap\": \"latiss_v1\", \"tract\": 5615, \"instrument\": \"LATISS\"}\n",
    "dataId = {\"skymap\": skymapName, \"tract\": tract, \"instrument\": instrument}\n",
    "repo = '/sdf/group/rubin/repo/oga/'\n",
    "butler = dafButler.Butler(repo)\n",
    "#t = Butler.get(table_sel, dataId=dataId, collections=collections)\n",
    "registry = butler.registry"
   ]
  },
  {
   "cell_type": "code",
   "execution_count": 10,
   "id": "d87b3bde-871f-4eba-87f7-1ee1ade704c5",
   "metadata": {
    "execution": {
     "iopub.execute_input": "2024-05-09T13:44:22.188512Z",
     "iopub.status.busy": "2024-05-09T13:44:22.188379Z",
     "iopub.status.idle": "2024-05-09T13:44:22.402972Z",
     "shell.execute_reply": "2024-05-09T13:44:22.402468Z",
     "shell.execute_reply.started": "2024-05-09T13:44:22.188499Z"
    }
   },
   "outputs": [],
   "source": [
    "skymap = butler.get('skyMap', skymap=skymapName, collections=collections)"
   ]
  },
  {
   "cell_type": "code",
   "execution_count": 11,
   "id": "f9a004b6-49ea-4c8f-b2df-e068fd55f673",
   "metadata": {
    "execution": {
     "iopub.execute_input": "2024-05-09T13:44:22.403677Z",
     "iopub.status.busy": "2024-05-09T13:44:22.403540Z",
     "iopub.status.idle": "2024-05-09T13:44:22.406495Z",
     "shell.execute_reply": "2024-05-09T13:44:22.406111Z",
     "shell.execute_reply.started": "2024-05-09T13:44:22.403664Z"
    }
   },
   "outputs": [],
   "source": [
    "def remove_figure(fig):\n",
    "    \"\"\"\n",
    "    Remove a figure to reduce memory footprint.\n",
    "\n",
    "    Parameters\n",
    "    ----------\n",
    "    fig: matplotlib.figure.Figure\n",
    "        Figure to be removed.\n",
    "\n",
    "    Returns\n",
    "    -------\n",
    "    None\n",
    "    \"\"\"\n",
    "    # get the axes and clear their images\n",
    "    for ax in fig.get_axes():\n",
    "        for im in ax.get_images():\n",
    "            im.remove()\n",
    "    fig.clf()       # clear the figure\n",
    "    plt.close(fig)  # close the figure\n",
    "    gc.collect()    # call the garbage collector"
   ]
  },
  {
   "cell_type": "code",
   "execution_count": 12,
   "id": "217d9116-61a1-4ab3-9ba4-4cc8668956e8",
   "metadata": {
    "execution": {
     "iopub.execute_input": "2024-05-09T13:44:22.408664Z",
     "iopub.status.busy": "2024-05-09T13:44:22.408534Z",
     "iopub.status.idle": "2024-05-09T13:44:22.411868Z",
     "shell.execute_reply": "2024-05-09T13:44:22.411487Z",
     "shell.execute_reply.started": "2024-05-09T13:44:22.408653Z"
    }
   },
   "outputs": [],
   "source": [
    "def get_corners_radec(wcs, bbox):\n",
    "    \"\"\"\n",
    "    Return the corners in RA,Dec in degrees given the WCS and bounding box for an image.\n",
    "\n",
    "    Parameters\n",
    "    ----------\n",
    "    wcs: image WCS returned by the Butler\n",
    "    bbox: bounding box returned by the Butler\n",
    "\n",
    "    Returns\n",
    "    -------\n",
    "    corners_ra, corners_dec in decimal degrees\n",
    "    \"\"\"\n",
    "\n",
    "    corners_x = [bbox.beginX, bbox.beginX, bbox.endX, bbox.endX]\n",
    "    corners_y = [bbox.beginY, bbox.endY, bbox.endY, bbox.beginY]\n",
    "    corners_ra = []\n",
    "    corners_dec = []\n",
    "    for i in range(4):\n",
    "        radec = wcs.pixelToSky(corners_x[i], corners_y[i])\n",
    "        corners_ra.append(radec.getRa().asDegrees())\n",
    "        corners_dec.append(radec.getDec().asDegrees())\n",
    "    \n",
    "    return corners_ra, corners_dec"
   ]
  },
  {
   "cell_type": "code",
   "execution_count": 13,
   "id": "81240109-5d2e-4829-82dc-dddc9d4cda05",
   "metadata": {
    "execution": {
     "iopub.execute_input": "2024-05-09T13:44:22.412467Z",
     "iopub.status.busy": "2024-05-09T13:44:22.412343Z",
     "iopub.status.idle": "2024-05-09T13:44:22.416732Z",
     "shell.execute_reply": "2024-05-09T13:44:22.416363Z",
     "shell.execute_reply.started": "2024-05-09T13:44:22.412455Z"
    }
   },
   "outputs": [],
   "source": [
    "def convert_fluxtomag(x) :\n",
    "    \"\"\"\n",
    "    The object and source catalogs store only fluxes. There are hundreds of flux-related columns, \n",
    "    and to store them also as magnitudes would be redundant, and a waste of space.\n",
    "    All flux units are nanojanskys. The AB Magnitudes Wikipedia page provides a concise resource \n",
    "    for users unfamiliar with AB magnitudes and jansky fluxes. To convert to AB magnitudes use:\n",
    "    As demonstrated in Section 2.3.2, to add columns of magnitudes after retrieving columns of flux, users can do this:\n",
    "    results_table['r_calibMag'] = -2.50 * numpy.log10(results_table['r_calibFlux']) + 31.4\n",
    "    results_table['r_cModelMag'] = -2.50 * numpy.log10(results_table['r_cModelFlux']) + 31.4\n",
    "    (from DP0 tutorial)\n",
    "    \"\"\"\n",
    "    return -2.50 * np.log10(x) + 31.4"
   ]
  },
  {
   "cell_type": "markdown",
   "id": "06424808-67d0-45bc-aae3-d8284363b7b7",
   "metadata": {},
   "source": [
    "## Get pixel scale"
   ]
  },
  {
   "cell_type": "code",
   "execution_count": 14,
   "id": "5cec8b2e-241d-439e-bfc1-70d902fcbbee",
   "metadata": {
    "execution": {
     "iopub.execute_input": "2024-05-09T13:44:22.417303Z",
     "iopub.status.busy": "2024-05-09T13:44:22.417181Z",
     "iopub.status.idle": "2024-05-09T13:44:22.588175Z",
     "shell.execute_reply": "2024-05-09T13:44:22.587654Z",
     "shell.execute_reply.started": "2024-05-09T13:44:22.417292Z"
    }
   },
   "outputs": [],
   "source": [
    "import lsst.geom as geom\n",
    "import lsst.sphgeom\n",
    "\n",
    "skymap = butler.get('skyMap', skymap=skymapName, collections=collections )\n",
    "tractInfo = skymap.generateTract(tract)\n",
    "for patch in tractInfo:    \n",
    "    patchID = patch.getSequentialIndex()\n",
    "        \n",
    "    ibb=patch.getInnerBBox()\n",
    "    tWCS=tractInfo.getWcs()\n",
    "       \n",
    "    # loop on the 4 corners\n",
    "    for icorn,corner in enumerate(ibb.getCorners()):\n",
    "        p = geom.Point2D(corner.getX(), corner.getY())\n",
    "        coord = tWCS.pixelToSky(p)\n"
   ]
  },
  {
   "cell_type": "code",
   "execution_count": 15,
   "id": "412b882e-68f3-4b46-8283-6bdad7bf4464",
   "metadata": {
    "execution": {
     "iopub.execute_input": "2024-05-09T13:44:22.588884Z",
     "iopub.status.busy": "2024-05-09T13:44:22.588751Z",
     "iopub.status.idle": "2024-05-09T13:44:22.591874Z",
     "shell.execute_reply": "2024-05-09T13:44:22.591510Z",
     "shell.execute_reply.started": "2024-05-09T13:44:22.588872Z"
    }
   },
   "outputs": [
    {
     "data": {
      "text/plain": [
       "FITS standard SkyWcs:\n",
       "Sky Origin: (122.4365482234, -36.4462809917)\n",
       "Pixel Origin: (28499, 28499)\n",
       "Pixel Scale: 0.1 arcsec/pixel"
      ]
     },
     "execution_count": 15,
     "metadata": {},
     "output_type": "execute_result"
    }
   ],
   "source": [
    "tWCS"
   ]
  },
  {
   "cell_type": "code",
   "execution_count": 16,
   "id": "2df2b74e-4069-4f4a-9519-99584abbd760",
   "metadata": {
    "execution": {
     "iopub.execute_input": "2024-05-09T13:44:22.592484Z",
     "iopub.status.busy": "2024-05-09T13:44:22.592359Z",
     "iopub.status.idle": "2024-05-09T13:44:22.595238Z",
     "shell.execute_reply": "2024-05-09T13:44:22.594903Z",
     "shell.execute_reply.started": "2024-05-09T13:44:22.592472Z"
    }
   },
   "outputs": [],
   "source": [
    "#arcsec/pixel\n",
    "pixel_scale = tWCS.getPixelScale().asArcseconds()"
   ]
  },
  {
   "cell_type": "markdown",
   "id": "35b5b65f-a6ca-4e98-a54c-d72cf3f5ca89",
   "metadata": {},
   "source": [
    "## Selected visits"
   ]
  },
  {
   "cell_type": "code",
   "execution_count": 17,
   "id": "817f7633-e942-4c18-aea6-687c19b5e694",
   "metadata": {
    "execution": {
     "iopub.execute_input": "2024-05-09T13:44:22.595811Z",
     "iopub.status.busy": "2024-05-09T13:44:22.595691Z",
     "iopub.status.idle": "2024-05-09T13:44:22.613786Z",
     "shell.execute_reply": "2024-05-09T13:44:22.613400Z",
     "shell.execute_reply.started": "2024-05-09T13:44:22.595800Z"
    }
   },
   "outputs": [],
   "source": [
    "\n",
    "# get the csv file produced by stat_on_visits_LSSTAuxtel.ipynb in ../Visits\n",
    "#file_selected_visits = \"../Visits/ccdVisittractpatch_LATISS_runs_AUXTEL_DRP_IMAGING_20230509_20240311_w_2024_10_PREOPS-4985.csv\"\n",
    "file_selected_visits = os.path.join(\"../Visits\",fn_ccdVisit_tracts_patches)\n",
    "df_myselectedvisits = pd.read_csv(file_selected_visits,index_col=0)\n",
    "if 0:\n",
    "\n",
    "    # select the band\n",
    "    cut = (df_myselectedvisits.band == band) &  (df_myselectedvisits.tractID == tract) & (df_myselectedvisits.patchID == patch_sel)\n",
    "    df_myselectedvisits = df_myselectedvisits[cut]\n",
    "\n",
    "#move the visitid as a column not to loose it during the merge \n",
    "df_myselectedvisits.reset_index(inplace=True) \n"
   ]
  },
  {
   "cell_type": "code",
   "execution_count": 18,
   "id": "bff3d040-2c91-4d12-a698-45766955841c",
   "metadata": {
    "execution": {
     "iopub.execute_input": "2024-05-09T13:44:22.614422Z",
     "iopub.status.busy": "2024-05-09T13:44:22.614294Z",
     "iopub.status.idle": "2024-05-09T13:44:22.617088Z",
     "shell.execute_reply": "2024-05-09T13:44:22.616740Z",
     "shell.execute_reply.started": "2024-05-09T13:44:22.614410Z"
    }
   },
   "outputs": [],
   "source": [
    "index = 0\n",
    "visitId = df_myselectedvisits.iloc[index]['visitId']\n",
    "band = df_myselectedvisits.iloc[index]['band']\n",
    "det = df_myselectedvisits.iloc[index]['detector']\n",
    "dataId = {'visit': visitId, 'instrument':instrument , 'detector': det}"
   ]
  },
  {
   "cell_type": "markdown",
   "id": "0c0a7440-40af-4927-a4df-3fb16ab52f6b",
   "metadata": {},
   "source": [
    "Note on the CCD visit here:\n",
    "- zeroPoint is in ABMag relative to a flux of 1ADU/sec\n",
    "- skyBg is in ADU , ADU/s , nJ per pixel ?\n",
    "- skyNoise is in ADU, ADU/s , nJ  per pixel ?"
   ]
  },
  {
   "cell_type": "code",
   "execution_count": 19,
   "id": "a5053bfc-79e0-4792-8b72-0f94bdc0f149",
   "metadata": {
    "execution": {
     "iopub.execute_input": "2024-05-09T13:44:22.617691Z",
     "iopub.status.busy": "2024-05-09T13:44:22.617568Z",
     "iopub.status.idle": "2024-05-09T13:44:22.622377Z",
     "shell.execute_reply": "2024-05-09T13:44:22.622045Z",
     "shell.execute_reply.started": "2024-05-09T13:44:22.617680Z"
    }
   },
   "outputs": [
    {
     "data": {
      "text/plain": [
       "ccdVisitId      40919696896\n",
       "visitId       2023051100262\n",
       "band                      r\n",
       "detector                  0\n",
       "ra               239.946728\n",
       "dec              -24.053747\n",
       "llcra            239.935567\n",
       "llcdec           -24.128923\n",
       "ulcra            240.029265\n",
       "ulcdec           -24.062575\n",
       "urcra            239.957875\n",
       "urcdec            -23.97857\n",
       "lrcra            239.864202\n",
       "lrcdec           -24.044874\n",
       "ccdVid                    0\n",
       "Vid                       0\n",
       "nightObs           20230511\n",
       "tractID                5615\n",
       "patchID                 295\n",
       "zeroPoint         27.697306\n",
       "airmass            1.823818\n",
       "skyBg             11.193549\n",
       "skyNoise             7.8568\n",
       "expTime                30.0\n",
       "Name: 0, dtype: object"
      ]
     },
     "execution_count": 19,
     "metadata": {},
     "output_type": "execute_result"
    }
   ],
   "source": [
    "df_myselectedvisits.iloc[index]"
   ]
  },
  {
   "cell_type": "markdown",
   "id": "bda8d475-f87a-4e0d-be3a-2b37d0e476cc",
   "metadata": {},
   "source": [
    "## One postISRCCD and One Calexp"
   ]
  },
  {
   "cell_type": "code",
   "execution_count": 20,
   "id": "3bcd2522-939b-476e-b7ff-5c1226e22a1b",
   "metadata": {
    "execution": {
     "iopub.execute_input": "2024-05-09T13:44:22.622980Z",
     "iopub.status.busy": "2024-05-09T13:44:22.622856Z",
     "iopub.status.idle": "2024-05-09T13:44:22.627870Z",
     "shell.execute_reply": "2024-05-09T13:44:22.627514Z",
     "shell.execute_reply.started": "2024-05-09T13:44:22.622969Z"
    }
   },
   "outputs": [],
   "source": [
    "def ComputeStatfromImage(arr,remove_zero_flag=False):\n",
    "    data_flat = arr.flatten()\n",
    "\n",
    "    if remove_zero_flag:\n",
    "        data_flat_nozero = data_flat[~(data_flat==0)]\n",
    "        data_flat = data_flat_nozero \n",
    "        \n",
    "\n",
    "    mu = np.mean(data_flat)\n",
    "    med = np.median(data_flat)\n",
    "    std = np.std(data_flat)\n",
    "    sigMad = 1.4826 * np.median(np.fabs(data_flat - med))\n",
    "    vmin,vmax = med - 3 * sigMad, med + 3 * sigMad\n",
    "    return mu,med,std,sigMad,vmin,vmax\n"
   ]
  },
  {
   "cell_type": "code",
   "execution_count": 21,
   "id": "b939af2c-1f5d-4320-86fc-f5a9bc7d7a76",
   "metadata": {
    "execution": {
     "iopub.execute_input": "2024-05-09T13:44:22.628454Z",
     "iopub.status.busy": "2024-05-09T13:44:22.628331Z",
     "iopub.status.idle": "2024-05-09T13:45:15.467559Z",
     "shell.execute_reply": "2024-05-09T13:45:15.467138Z",
     "shell.execute_reply.started": "2024-05-09T13:44:22.628443Z"
    }
   },
   "outputs": [],
   "source": [
    "calexp = butler.get('calexp', **dataId,collections=collections)\n",
    "bkgd  = butler.get('calexpBackground', **dataId,collections=collections)\n",
    "# get the calibration constant  : expo_photocalibconstant_mean in nJ per ADU. To convert it in AB-Mag : convert_fluxtomag(expo_photocalibconstant_mean) --> zero point\n",
    "calexp_info = calexp.getInfo()\n",
    "photocalib = calexp_info.getPhotoCalib()\n",
    "expo_photocalibconstant_mean = photocalib.getCalibrationMean()\n",
    "expo_photocalibconstant_error = photocalib.getCalibrationErr()\n",
    "calexp_md = calexp_info.getMetadata()\n",
    "magzero,magzero_rms,magzero_nobj = calexp_md[\"MAGZERO\"],calexp_md[\"MAGZERO_RMS\"],calexp_md[\"MAGZERO_NOBJ\"] \n",
    "bgmean,bgvar = calexp_md[\"BGMEAN\"],calexp_md[\"BGVAR\"]\n",
    "\n",
    "\n",
    "mu_ce,med_ce,std_ce,sigMad_ce,vmin_ce,vmax_ce = ComputeStatfromImage(calexp.getImage().array,remove_zero_flag=False)\n",
    "mu_bkg,med_bkg,std_bkg,sigMad_bkg,vmin_bkg,vmax_bkg = ComputeStatfromImage(bkgd.getImage().array,remove_zero_flag=False)\n",
    "\n",
    "datasetRefs = registry.queryDatasets('postISRCCD', dataId=dataId, collections  = collections)\n",
    "for i, ref in enumerate(datasetRefs):\n",
    "    postisrccd  = butler.get(ref)\n",
    "mu_pisr,med_pisr,std_pisr,sigMad_pisr,vmin_pisr,vmax_pisr = ComputeStatfromImage(postisrccd.getImage().array,remove_zero_flag=False)\n",
    "\n",
    "mask = calexp.mask.array\n",
    "the_mask = np.where(mask==0,1,0)\n",
    "\n",
    "mu_ce_m,med_ce_m,std_ce_m,sigMad_ce_m,vmin_ce_m,vmax_ce_m = ComputeStatfromImage(calexp.getImage().array*the_mask ,remove_zero_flag=True)\n",
    "mu_bkg_m,med_bkg_m,std_bkg_m,sigMad_bkg_m,vmin_bkg_m,vmax_bkg_m = ComputeStatfromImage(bkgd.getImage().array*the_mask,remove_zero_flag=True)\n",
    "mu_pisr_m,med_pisr_m,std_pisr_m,sigMad_pisr_m,vmin_pisr_m,vmax_pisr_m = ComputeStatfromImage(postisrccd.getImage().array*the_mask,remove_zero_flag=True)\n",
    "\n",
    "del calexp,bkgd,postisrccd,mask,the_mask"
   ]
  },
  {
   "cell_type": "code",
   "execution_count": 22,
   "id": "2dcbf10d-9585-4736-978a-5bebaed5085f",
   "metadata": {
    "execution": {
     "iopub.execute_input": "2024-05-09T13:45:15.468700Z",
     "iopub.status.busy": "2024-05-09T13:45:15.468245Z",
     "iopub.status.idle": "2024-05-09T13:45:15.472905Z",
     "shell.execute_reply": "2024-05-09T13:45:15.472610Z",
     "shell.execute_reply.started": "2024-05-09T13:45:15.468686Z"
    }
   },
   "outputs": [
    {
     "name": "stdout",
     "output_type": "stream",
     "text": [
      "0) ======================2023051100262 == r  == 0 =====================\n",
      "* photocalib ::\n",
      "spatially constant with mean: 30.4905 error: 0.0514512\n",
      "30.49046409792168 27.689589912878567\n",
      "magzero,magzero_rms,magzero_nobj : 23.9967867760794 0.00183212641679645 36\n",
      "bgmean,bgvar : 11.3790014454661 0.0632380885261264\n",
      "* calexp ::\n",
      "1.7696625 0.11838882 254.89998 7.989821800231933 -23.851076583981513 24.087854217410086\n",
      "0.00023732598019618814 0.007767405128106475 7.9552807771891105 7.9355474649099165 -23.798874989601643 23.814409799857856\n",
      "* calexpBackground :: \n",
      "11.279222 11.335263 0.25390127 0.2340415288925171 10.63313866558075 12.037387838935851\n",
      "11.287554528754608 11.33798885345459 0.24836555978148378 0.2255848880767822 10.661234189224244 12.014743517684936\n",
      "* postisrccd :: \n",
      "13.167816 11.390819 266.133 7.9942487760543814 -12.591927732276915 35.373564924049376\n",
      "11.287792617046525 11.287638664245605 7.959123604637137 7.940485975456237 -12.533819262123107 35.109096590614314\n"
     ]
    }
   ],
   "source": [
    "print(f\"{index}) ======================{visitId} == {band}  == {det} =====================\")\n",
    "print('* photocalib ::')\n",
    "print(photocalib)\n",
    "print(expo_photocalibconstant_mean,convert_fluxtomag(expo_photocalibconstant_mean) )\n",
    "print(\"magzero,magzero_rms,magzero_nobj :\",magzero,magzero_rms,magzero_nobj)\n",
    "print(\"bgmean,bgvar :\",bgmean,bgvar)\n",
    "\n",
    "print(\"* calexp ::\")\n",
    "print(mu_ce,med_ce,std_ce,sigMad_ce,vmin_ce,vmax_ce)\n",
    "print(mu_ce_m,med_ce_m,std_ce_m,sigMad_ce_m,vmin_ce_m,vmax_ce_m)\n",
    "print(\"* calexpBackground :: \")\n",
    "print(mu_bkg,med_bkg,std_bkg,sigMad_bkg,vmin_bkg,vmax_bkg)\n",
    "print(mu_bkg_m,med_bkg_m,std_bkg_m,sigMad_bkg_m,vmin_bkg_m,vmax_bkg_m)\n",
    "print(\"* postisrccd :: \")\n",
    "print(mu_pisr,med_pisr,std_pisr,sigMad_pisr,vmin_pisr,vmax_pisr)\n",
    "print(mu_pisr_m,med_pisr_m,std_pisr_m,sigMad_pisr_m,vmin_pisr_m,vmax_pisr_m) "
   ]
  },
  {
   "cell_type": "code",
   "execution_count": 23,
   "id": "b63a7139-b67e-456a-852c-919ac07da96c",
   "metadata": {
    "execution": {
     "iopub.execute_input": "2024-05-09T13:45:15.473421Z",
     "iopub.status.busy": "2024-05-09T13:45:15.473300Z",
     "iopub.status.idle": "2024-05-09T13:45:15.480900Z",
     "shell.execute_reply": "2024-05-09T13:45:15.480621Z",
     "shell.execute_reply.started": "2024-05-09T13:45:15.473411Z"
    }
   },
   "outputs": [],
   "source": [
    "N = len(df_myselectedvisits)"
   ]
  },
  {
   "cell_type": "code",
   "execution_count": 37,
   "id": "69f329d4-8958-4139-bce2-569cad96bf05",
   "metadata": {
    "execution": {
     "iopub.execute_input": "2024-05-09T14:15:52.371779Z",
     "iopub.status.busy": "2024-05-09T14:15:52.371587Z",
     "iopub.status.idle": "2024-05-09T14:15:52.375918Z",
     "shell.execute_reply": "2024-05-09T14:15:52.375532Z",
     "shell.execute_reply.started": "2024-05-09T14:15:52.371766Z"
    }
   },
   "outputs": [],
   "source": [
    "df = pd.DataFrame(columns=['idx', 'visitId','ccdVisitId','band', 'detector',\n",
    "                          'photocalib_m','photocalib_e',\n",
    "                           'magzero','magzero_rms','magzero_nobj',\n",
    "                           'bgmean','bgvar',\n",
    "                           'mu_ce','med_ce','std_ce','sigMad_ce',\n",
    "                           'mu_ce_m','med_ce_m','std_ce_m','sigMad_ce_m',\n",
    "                           'mu_bkg','med_bkg','std_bkg','sigMad_bkg',\n",
    "                           'mu_bkg_m','med_bkg_m','std_bkg_m','sigMad_bkg_m',\n",
    "                           'mu_pisr','med_pisr','std_pisr','sigMad_pisr',\n",
    "                           'mu_pisr_m','med_pisr_m','std_pisr_m','sigMad_pisr_m'\n",
    "                          ])"
   ]
  },
  {
   "cell_type": "code",
   "execution_count": null,
   "id": "9f79dc15-b7df-4923-90d9-9c6df02c4db0",
   "metadata": {
    "execution": {
     "iopub.execute_input": "2024-05-09T14:16:02.494393Z",
     "iopub.status.busy": "2024-05-09T14:16:02.493978Z"
    }
   },
   "outputs": [],
   "source": [
    "for index in range(N):\n",
    "\n",
    "    visitId = df_myselectedvisits.iloc[index]['visitId']\n",
    "    ccdvisitId = df_myselectedvisits.iloc[index]['ccdVisitId']\n",
    "    band =  df_myselectedvisits.iloc[index]['band']\n",
    "    det = df_myselectedvisits.iloc[index]['detector']                     \n",
    "\n",
    "    dataId = {'visit': visitId, 'instrument':instrument , 'detector': det}\n",
    "    \n",
    "    \n",
    "    calexp = butler.get('calexp', **dataId,collections=collections)\n",
    "    bkgd  = butler.get('calexpBackground', **dataId,collections=collections)\n",
    "    # get the calibration constant  : expo_photocalibconstant_mean in nJ per ADU. To convert it in AB-Mag : convert_fluxtomag(expo_photocalibconstant_mean) --> zero point\n",
    "    calexp_info = calexp.getInfo()\n",
    "    photocalib = calexp_info.getPhotoCalib()\n",
    "    expo_photocalibconstant_mean = photocalib.getCalibrationMean()\n",
    "    expo_photocalibconstant_error = photocalib.getCalibrationErr()\n",
    "    calexp_md = calexp_info.getMetadata()\n",
    "    magzero,magzero_rms,magzero_nobj = calexp_md[\"MAGZERO\"],calexp_md[\"MAGZERO_RMS\"],calexp_md[\"MAGZERO_NOBJ\"] \n",
    "    bgmean,bgvar = calexp_md[\"BGMEAN\"],calexp_md[\"BGVAR\"]\n",
    "\n",
    "    mu_ce,med_ce,std_ce,sigMad_ce,vmin_ce,vmax_ce = ComputeStatfromImage(calexp.getImage().array,remove_zero_flag=False)\n",
    "    mu_bkg,med_bkg,std_bkg,sigMad_bkg,vmin_bkg,vmax_bkg = ComputeStatfromImage(bkgd.getImage().array,remove_zero_flag=False)\n",
    "\n",
    "    datasetRefs = registry.queryDatasets('postISRCCD', dataId=dataId, collections  = collections)\n",
    "    for i, ref in enumerate(datasetRefs):\n",
    "        postisrccd  = butler.get(ref)\n",
    "    mu_pisr,med_pisr,std_pisr,sigMad_pisr,vmin_pisr,vmax_pisr = ComputeStatfromImage(postisrccd.getImage().array,remove_zero_flag=False)\n",
    "\n",
    "    mask = calexp.mask.array\n",
    "    the_mask = np.where(mask==0,1,0)\n",
    "\n",
    "    mu_ce_m,med_ce_m,std_ce_m,sigMad_ce_m,vmin_ce_m,vmax_ce_m = ComputeStatfromImage(calexp.getImage().array*the_mask ,remove_zero_flag=True)\n",
    "    mu_bkg_m,med_bkg_m,std_bkg_m,sigMad_bkg_m,vmin_bkg_m,vmax_bkg_m = ComputeStatfromImage(bkgd.getImage().array*the_mask,remove_zero_flag=True)\n",
    "    mu_pisr_m,med_pisr_m,std_pisr_m,sigMad_pisr_m,vmin_pisr_m,vmax_pisr_m = ComputeStatfromImage(postisrccd.getImage().array*the_mask,remove_zero_flag=True)\n",
    "\n",
    "    del calexp,bkgd,postisrccd,mask,the_mask\n",
    "\n",
    "    df.loc[index] = [index,visitId,ccdvisitId,band, det,\n",
    "                     expo_photocalibconstant_mean,expo_photocalibconstant_error,\n",
    "                     magzero,magzero_rms,magzero_nobj,\n",
    "                     bgmean,bgvar,\n",
    "                     mu_ce,med_ce,std_ce,sigMad_ce,\n",
    "                     mu_ce_m,med_ce_m,std_ce_m,sigMad_ce_m,\n",
    "                     mu_bkg,med_bkg,std_bkg,sigMad_bkg,\n",
    "                     mu_bkg_m,med_bkg_m,std_bkg_m,sigMad_bkg_m,\n",
    "                     mu_pisr,med_pisr,std_pisr,sigMad_pisr,\n",
    "                     mu_pisr_m,med_pisr_m,std_pisr_m,sigMad_pisr_m\n",
    "                    ]\n",
    "   \n",
    "\n",
    "\n",
    "    if index<20:\n",
    "        print(f\"{index}) ======================{visitId} == {band}  == {det} =====================\")\n",
    "        print('* photocalib ::')\n",
    "        print(photocalib)\n",
    "        print(expo_photocalibconstant_mean,convert_fluxtomag(expo_photocalibconstant_mean) )\n",
    "        print(\"magzero,magzero_rms,magzero_nobj :\",magzero,magzero_rms,magzero_nobj)\n",
    "        print(\"bgmean,bgvar :\",bgmean,bgvar)\n",
    "        print(\"* calexp ::\")\n",
    "        print(mu_ce,med_ce,std_ce,sigMad_ce,vmin_ce,vmax_ce)\n",
    "        print(mu_ce_m,med_ce_m,std_ce_m,sigMad_ce_m,vmin_ce_m,vmax_ce_m)\n",
    "        print(\"* calexpBackground :: \")\n",
    "        print(mu_bkg,med_bkg,std_bkg,sigMad_bkg,vmin_bkg,vmax_bkg)\n",
    "        print(mu_bkg_m,med_bkg_m,std_bkg_m,sigMad_bkg_m,vmin_bkg_m,vmax_bkg_m)\n",
    "        print(\"* postisrccd :: \")\n",
    "        print(mu_pisr,med_pisr,std_pisr,sigMad_pisr,vmin_pisr,vmax_pisr)\n",
    "        print(mu_pisr_m,med_pisr_m,std_pisr_m,sigMad_pisr_m,vmin_pisr_m,vmax_pisr_m) \n",
    "\n",
    "    if index>20:\n",
    "        break\n",
    "   "
   ]
  },
  {
   "cell_type": "code",
   "execution_count": 27,
   "id": "5bcc9555-3df6-4e5c-af75-1cb4f553db83",
   "metadata": {
    "execution": {
     "iopub.execute_input": "2024-05-09T14:04:54.724151Z",
     "iopub.status.busy": "2024-05-09T14:04:54.724029Z",
     "iopub.status.idle": "2024-05-09T14:04:54.731486Z",
     "shell.execute_reply": "2024-05-09T14:04:54.731158Z",
     "shell.execute_reply.started": "2024-05-09T14:04:54.724139Z"
    }
   },
   "outputs": [
    {
     "data": {
      "text/html": [
       "<div>\n",
       "<style scoped>\n",
       "    .dataframe tbody tr th:only-of-type {\n",
       "        vertical-align: middle;\n",
       "    }\n",
       "\n",
       "    .dataframe tbody tr th {\n",
       "        vertical-align: top;\n",
       "    }\n",
       "\n",
       "    .dataframe thead th {\n",
       "        text-align: right;\n",
       "    }\n",
       "</style>\n",
       "<table border=\"1\" class=\"dataframe\">\n",
       "  <thead>\n",
       "    <tr style=\"text-align: right;\">\n",
       "      <th></th>\n",
       "      <th>idx</th>\n",
       "      <th>visitId</th>\n",
       "      <th>ccdVisitId</th>\n",
       "      <th>band</th>\n",
       "      <th>detector</th>\n",
       "    </tr>\n",
       "  </thead>\n",
       "  <tbody>\n",
       "    <tr>\n",
       "      <th>0</th>\n",
       "      <td>0</td>\n",
       "      <td>2023051100262</td>\n",
       "      <td>40919696896</td>\n",
       "      <td>r</td>\n",
       "      <td>0</td>\n",
       "    </tr>\n",
       "    <tr>\n",
       "      <th>1</th>\n",
       "      <td>1</td>\n",
       "      <td>2023051100264</td>\n",
       "      <td>40919697408</td>\n",
       "      <td>i</td>\n",
       "      <td>0</td>\n",
       "    </tr>\n",
       "    <tr>\n",
       "      <th>2</th>\n",
       "      <td>2</td>\n",
       "      <td>2023051100268</td>\n",
       "      <td>40919698432</td>\n",
       "      <td>r</td>\n",
       "      <td>0</td>\n",
       "    </tr>\n",
       "    <tr>\n",
       "      <th>3</th>\n",
       "      <td>3</td>\n",
       "      <td>2023051100270</td>\n",
       "      <td>40919698944</td>\n",
       "      <td>i</td>\n",
       "      <td>0</td>\n",
       "    </tr>\n",
       "    <tr>\n",
       "      <th>4</th>\n",
       "      <td>4</td>\n",
       "      <td>2023051100271</td>\n",
       "      <td>40919699200</td>\n",
       "      <td>i</td>\n",
       "      <td>0</td>\n",
       "    </tr>\n",
       "    <tr>\n",
       "      <th>5</th>\n",
       "      <td>5</td>\n",
       "      <td>2023051100273</td>\n",
       "      <td>40919699712</td>\n",
       "      <td>r</td>\n",
       "      <td>0</td>\n",
       "    </tr>\n",
       "    <tr>\n",
       "      <th>6</th>\n",
       "      <td>6</td>\n",
       "      <td>2023051100274</td>\n",
       "      <td>40919699968</td>\n",
       "      <td>r</td>\n",
       "      <td>0</td>\n",
       "    </tr>\n",
       "    <tr>\n",
       "      <th>7</th>\n",
       "      <td>7</td>\n",
       "      <td>2023051100276</td>\n",
       "      <td>40919700480</td>\n",
       "      <td>i</td>\n",
       "      <td>0</td>\n",
       "    </tr>\n",
       "    <tr>\n",
       "      <th>8</th>\n",
       "      <td>8</td>\n",
       "      <td>2023051100277</td>\n",
       "      <td>40919700736</td>\n",
       "      <td>i</td>\n",
       "      <td>0</td>\n",
       "    </tr>\n",
       "    <tr>\n",
       "      <th>9</th>\n",
       "      <td>9</td>\n",
       "      <td>2023051100278</td>\n",
       "      <td>40919700992</td>\n",
       "      <td>g</td>\n",
       "      <td>0</td>\n",
       "    </tr>\n",
       "    <tr>\n",
       "      <th>10</th>\n",
       "      <td>10</td>\n",
       "      <td>2023051100279</td>\n",
       "      <td>40919701248</td>\n",
       "      <td>r</td>\n",
       "      <td>0</td>\n",
       "    </tr>\n",
       "    <tr>\n",
       "      <th>11</th>\n",
       "      <td>11</td>\n",
       "      <td>2023051100280</td>\n",
       "      <td>40919701504</td>\n",
       "      <td>r</td>\n",
       "      <td>0</td>\n",
       "    </tr>\n",
       "    <tr>\n",
       "      <th>12</th>\n",
       "      <td>12</td>\n",
       "      <td>2023051100281</td>\n",
       "      <td>40919701760</td>\n",
       "      <td>g</td>\n",
       "      <td>0</td>\n",
       "    </tr>\n",
       "    <tr>\n",
       "      <th>13</th>\n",
       "      <td>13</td>\n",
       "      <td>2023051100282</td>\n",
       "      <td>40919702016</td>\n",
       "      <td>i</td>\n",
       "      <td>0</td>\n",
       "    </tr>\n",
       "    <tr>\n",
       "      <th>14</th>\n",
       "      <td>14</td>\n",
       "      <td>2023051100283</td>\n",
       "      <td>40919702272</td>\n",
       "      <td>i</td>\n",
       "      <td>0</td>\n",
       "    </tr>\n",
       "    <tr>\n",
       "      <th>15</th>\n",
       "      <td>15</td>\n",
       "      <td>2023051100284</td>\n",
       "      <td>40919702528</td>\n",
       "      <td>g</td>\n",
       "      <td>0</td>\n",
       "    </tr>\n",
       "    <tr>\n",
       "      <th>16</th>\n",
       "      <td>16</td>\n",
       "      <td>2023051100285</td>\n",
       "      <td>40919702784</td>\n",
       "      <td>r</td>\n",
       "      <td>0</td>\n",
       "    </tr>\n",
       "    <tr>\n",
       "      <th>17</th>\n",
       "      <td>17</td>\n",
       "      <td>2023051100286</td>\n",
       "      <td>40919703040</td>\n",
       "      <td>r</td>\n",
       "      <td>0</td>\n",
       "    </tr>\n",
       "    <tr>\n",
       "      <th>18</th>\n",
       "      <td>18</td>\n",
       "      <td>2023051100287</td>\n",
       "      <td>40919703296</td>\n",
       "      <td>g</td>\n",
       "      <td>0</td>\n",
       "    </tr>\n",
       "    <tr>\n",
       "      <th>19</th>\n",
       "      <td>19</td>\n",
       "      <td>2023051100288</td>\n",
       "      <td>40919703552</td>\n",
       "      <td>i</td>\n",
       "      <td>0</td>\n",
       "    </tr>\n",
       "    <tr>\n",
       "      <th>20</th>\n",
       "      <td>20</td>\n",
       "      <td>2023051100289</td>\n",
       "      <td>40919703808</td>\n",
       "      <td>i</td>\n",
       "      <td>0</td>\n",
       "    </tr>\n",
       "    <tr>\n",
       "      <th>21</th>\n",
       "      <td>21</td>\n",
       "      <td>2023051100290</td>\n",
       "      <td>40919704064</td>\n",
       "      <td>g</td>\n",
       "      <td>0</td>\n",
       "    </tr>\n",
       "  </tbody>\n",
       "</table>\n",
       "</div>"
      ],
      "text/plain": [
       "    idx        visitId   ccdVisitId band  detector\n",
       "0     0  2023051100262  40919696896    r         0\n",
       "1     1  2023051100264  40919697408    i         0\n",
       "2     2  2023051100268  40919698432    r         0\n",
       "3     3  2023051100270  40919698944    i         0\n",
       "4     4  2023051100271  40919699200    i         0\n",
       "5     5  2023051100273  40919699712    r         0\n",
       "6     6  2023051100274  40919699968    r         0\n",
       "7     7  2023051100276  40919700480    i         0\n",
       "8     8  2023051100277  40919700736    i         0\n",
       "9     9  2023051100278  40919700992    g         0\n",
       "10   10  2023051100279  40919701248    r         0\n",
       "11   11  2023051100280  40919701504    r         0\n",
       "12   12  2023051100281  40919701760    g         0\n",
       "13   13  2023051100282  40919702016    i         0\n",
       "14   14  2023051100283  40919702272    i         0\n",
       "15   15  2023051100284  40919702528    g         0\n",
       "16   16  2023051100285  40919702784    r         0\n",
       "17   17  2023051100286  40919703040    r         0\n",
       "18   18  2023051100287  40919703296    g         0\n",
       "19   19  2023051100288  40919703552    i         0\n",
       "20   20  2023051100289  40919703808    i         0\n",
       "21   21  2023051100290  40919704064    g         0"
      ]
     },
     "execution_count": 27,
     "metadata": {},
     "output_type": "execute_result"
    }
   ],
   "source": [
    "df"
   ]
  },
  {
   "cell_type": "code",
   "execution_count": 35,
   "id": "91a874b9-0b78-4ce5-b967-1c734a8b53fb",
   "metadata": {
    "execution": {
     "iopub.execute_input": "2024-05-09T14:07:04.691573Z",
     "iopub.status.busy": "2024-05-09T14:07:04.691290Z",
     "iopub.status.idle": "2024-05-09T14:07:04.693987Z",
     "shell.execute_reply": "2024-05-09T14:07:04.693695Z",
     "shell.execute_reply.started": "2024-05-09T14:07:04.691559Z"
    }
   },
   "outputs": [
    {
     "name": "stdout",
     "output_type": "stream",
     "text": [
      "output file : ccdVisittractpatch_LATISS_runs_AUXTEL_DRP_IMAGING_20230509_20240311_w_2024_10_PREOPS-4985_calexpinfo.csv\n"
     ]
    }
   ],
   "source": [
    "outputfile = fn_ccdVisit_tracts_patches.split(\".\")[0]+\"_calexpinfo.csv\"\n",
    "print(f\"output file : {outputfile}\")"
   ]
  },
  {
   "cell_type": "code",
   "execution_count": 36,
   "id": "3598f13b-776e-4fdb-9cd0-91058677fb7b",
   "metadata": {
    "execution": {
     "iopub.execute_input": "2024-05-09T14:07:12.732534Z",
     "iopub.status.busy": "2024-05-09T14:07:12.732333Z",
     "iopub.status.idle": "2024-05-09T14:07:12.736548Z",
     "shell.execute_reply": "2024-05-09T14:07:12.736246Z",
     "shell.execute_reply.started": "2024-05-09T14:07:12.732512Z"
    }
   },
   "outputs": [],
   "source": [
    "df.to_csv(outputfile)"
   ]
  },
  {
   "cell_type": "code",
   "execution_count": null,
   "id": "4ae73ed7-7829-4d69-a703-d478f5bd5ed0",
   "metadata": {},
   "outputs": [],
   "source": []
  }
 ],
 "metadata": {
  "kernelspec": {
   "display_name": "LSST",
   "language": "python",
   "name": "lsst"
  },
  "language_info": {
   "codemirror_mode": {
    "name": "ipython",
    "version": 3
   },
   "file_extension": ".py",
   "mimetype": "text/x-python",
   "name": "python",
   "nbconvert_exporter": "python",
   "pygments_lexer": "ipython3",
   "version": "3.11.7"
  }
 },
 "nbformat": 4,
 "nbformat_minor": 5
}
