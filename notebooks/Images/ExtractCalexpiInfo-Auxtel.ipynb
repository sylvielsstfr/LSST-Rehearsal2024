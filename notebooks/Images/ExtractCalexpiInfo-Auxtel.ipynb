{
 "cells": [
  {
   "cell_type": "markdown",
   "id": "45bf4242-bfc5-4d43-88c4-a8059ae148df",
   "metadata": {},
   "source": [
    "# Extract Info from postisrccd, calexp and calexpbg in Selected visits LSST in Auxtel"
   ]
  },
  {
   "cell_type": "markdown",
   "id": "01993b6e-6438-4fca-a5d5-1f9791336847",
   "metadata": {},
   "source": [
    "- author Sylvie Dagoret-Campagne\n",
    "- creation date 2024-05-07\n",
    "- last update 2024-05-07\n",
    "- affiliation : IJCLab\n",
    "- kernel : **w_2024_16**"
   ]
  },
  {
   "cell_type": "code",
   "execution_count": 1,
   "id": "bf752b70-e6ca-4cbf-8e8c-20bf7f0d8f61",
   "metadata": {
    "execution": {
     "iopub.execute_input": "2024-05-07T18:52:43.353394Z",
     "iopub.status.busy": "2024-05-07T18:52:43.353272Z",
     "iopub.status.idle": "2024-05-07T18:52:43.944500Z",
     "shell.execute_reply": "2024-05-07T18:52:43.944073Z",
     "shell.execute_reply.started": "2024-05-07T18:52:43.353382Z"
    }
   },
   "outputs": [],
   "source": [
    "import numpy as np\n",
    "import matplotlib.pyplot as plt\n",
    "%matplotlib inline\n",
    "from mpl_toolkits.axes_grid1 import make_axes_locatable\n",
    "from matplotlib.colors import LogNorm,SymLogNorm\n",
    "\n",
    "\n",
    "import matplotlib.ticker                         # here's where the formatter is\n",
    "from matplotlib.ticker import (MultipleLocator, FormatStrFormatter,\n",
    "                               AutoMinorLocator)\n",
    "\n",
    "from astropy.visualization import (MinMaxInterval, SqrtStretch,ZScaleInterval,PercentileInterval,\n",
    "                                   ImageNormalize,imshow_norm)\n",
    "from astropy.visualization.stretch import SinhStretch, LinearStretch,AsinhStretch,LogStretch\n",
    "\n",
    "from astropy.io import fits\n",
    "from astropy.wcs import WCS\n",
    "\n",
    "\n",
    "import pandas as pd\n",
    "\n",
    "import matplotlib.ticker                         # here's where the formatter is\n",
    "import os\n",
    "import re\n",
    "import pandas as pd\n",
    "import pickle\n",
    "from collections import OrderedDict\n",
    "\n",
    "plt.rcParams[\"figure.figsize\"] = (4,3)\n",
    "plt.rcParams[\"axes.labelsize\"] = 'x-large'\n",
    "plt.rcParams['axes.titlesize'] = 'x-large'\n",
    "plt.rcParams['xtick.labelsize']= 'x-large'\n",
    "plt.rcParams['ytick.labelsize']= 'x-large'"
   ]
  },
  {
   "cell_type": "code",
   "execution_count": 2,
   "id": "5bdc790b-44bc-4f52-96d1-952f86dcd516",
   "metadata": {
    "execution": {
     "iopub.execute_input": "2024-05-07T18:52:43.945273Z",
     "iopub.status.busy": "2024-05-07T18:52:43.945034Z",
     "iopub.status.idle": "2024-05-07T18:52:43.947421Z",
     "shell.execute_reply": "2024-05-07T18:52:43.947072Z",
     "shell.execute_reply.started": "2024-05-07T18:52:43.945259Z"
    }
   },
   "outputs": [],
   "source": [
    "import gc"
   ]
  },
  {
   "cell_type": "code",
   "execution_count": 3,
   "id": "0ca0d1e6-5f82-4c43-aaa3-8524fc2bc5ba",
   "metadata": {
    "execution": {
     "iopub.execute_input": "2024-05-07T18:52:43.948023Z",
     "iopub.status.busy": "2024-05-07T18:52:43.947900Z",
     "iopub.status.idle": "2024-05-07T18:52:43.950743Z",
     "shell.execute_reply": "2024-05-07T18:52:43.950379Z",
     "shell.execute_reply.started": "2024-05-07T18:52:43.948011Z"
    }
   },
   "outputs": [],
   "source": [
    "from matplotlib.ticker import (MultipleLocator, FormatStrFormatter,\n",
    "                               AutoMinorLocator)\n",
    "\n",
    "from astropy.visualization import (MinMaxInterval, SqrtStretch,ZScaleInterval,PercentileInterval,\n",
    "                                   ImageNormalize,imshow_norm)\n",
    "from astropy.visualization.stretch import SinhStretch, LinearStretch,AsinhStretch,LogStretch\n",
    "\n",
    "from astropy.time import Time\n"
   ]
  },
  {
   "cell_type": "code",
   "execution_count": 4,
   "id": "51ddfce4-9a0f-4804-bc6a-7f9138874f16",
   "metadata": {
    "execution": {
     "iopub.execute_input": "2024-05-07T18:52:43.952104Z",
     "iopub.status.busy": "2024-05-07T18:52:43.951978Z",
     "iopub.status.idle": "2024-05-07T18:52:44.500144Z",
     "shell.execute_reply": "2024-05-07T18:52:44.499673Z",
     "shell.execute_reply.started": "2024-05-07T18:52:43.952092Z"
    }
   },
   "outputs": [],
   "source": [
    "import lsst.daf.butler as dafButler\n",
    "#import lsst.summit.utils.butlerUtils as butlerUtils"
   ]
  },
  {
   "cell_type": "code",
   "execution_count": 5,
   "id": "34f037b5-b6a2-4f93-b86b-a6108d8a5ea7",
   "metadata": {
    "execution": {
     "iopub.execute_input": "2024-05-07T18:52:44.500829Z",
     "iopub.status.busy": "2024-05-07T18:52:44.500692Z",
     "iopub.status.idle": "2024-05-07T18:52:44.760911Z",
     "shell.execute_reply": "2024-05-07T18:52:44.760443Z",
     "shell.execute_reply.started": "2024-05-07T18:52:44.500816Z"
    }
   },
   "outputs": [],
   "source": [
    "import lsst.afw.image as afwImage\n",
    "import lsst.afw.display as afwDisplay\n",
    "import lsst.afw.table as afwTable\n",
    "import lsst.geom as geom"
   ]
  },
  {
   "cell_type": "code",
   "execution_count": 6,
   "id": "7f26c627-fc82-4f60-8e0a-c25657f092f9",
   "metadata": {
    "execution": {
     "iopub.execute_input": "2024-05-07T18:52:44.761873Z",
     "iopub.status.busy": "2024-05-07T18:52:44.761532Z",
     "iopub.status.idle": "2024-05-07T18:52:44.771098Z",
     "shell.execute_reply": "2024-05-07T18:52:44.770732Z",
     "shell.execute_reply.started": "2024-05-07T18:52:44.761860Z"
    }
   },
   "outputs": [],
   "source": [
    "# LSST Display\n",
    "import lsst.afw.display as afwDisplay\n",
    "afwDisplay.setDefaultBackend('matplotlib')"
   ]
  },
  {
   "cell_type": "code",
   "execution_count": 7,
   "id": "aba2cfa4-809a-4f1c-8e8f-9f81547e0b5e",
   "metadata": {
    "execution": {
     "iopub.execute_input": "2024-05-07T18:52:44.771697Z",
     "iopub.status.busy": "2024-05-07T18:52:44.771572Z",
     "iopub.status.idle": "2024-05-07T18:52:44.773707Z",
     "shell.execute_reply": "2024-05-07T18:52:44.773360Z",
     "shell.execute_reply.started": "2024-05-07T18:52:44.771686Z"
    }
   },
   "outputs": [],
   "source": [
    "transform = AsinhStretch() + PercentileInterval(99.)"
   ]
  },
  {
   "cell_type": "markdown",
   "id": "351e0468-d4f5-4c9e-b3db-1263499470cc",
   "metadata": {},
   "source": [
    "Import statements that we will need later"
   ]
  },
  {
   "cell_type": "markdown",
   "id": "5db4beba-3082-4754-8e70-26472f1c226c",
   "metadata": {},
   "source": [
    "Let's make a new plot and metric tool, we'll base it on the example in the getting started guide."
   ]
  },
  {
   "cell_type": "code",
   "execution_count": 8,
   "id": "b26e1f0b-83be-4348-b87c-88294ec7c8d6",
   "metadata": {
    "execution": {
     "iopub.execute_input": "2024-05-07T18:52:44.774318Z",
     "iopub.status.busy": "2024-05-07T18:52:44.774193Z",
     "iopub.status.idle": "2024-05-07T18:52:44.778828Z",
     "shell.execute_reply": "2024-05-07T18:52:44.778483Z",
     "shell.execute_reply.started": "2024-05-07T18:52:44.774306Z"
    }
   },
   "outputs": [],
   "source": [
    "# INSERT YOUR collection and tract\n",
    "# for rehearsal use collection 2 which have CCDvisit\n",
    "butlerRoot = \"/repo/embargo\"\n",
    "\n",
    "collection1 = 'LSSTComCamSim/runs/nightlyvalidation/20240402/d_2024_03_29/DM-43612'\n",
    "collection2 = 'LSSTComCamSim/runs/nightlyvalidation/20240403/d_2024_03_29/DM-43612'\n",
    "collection3 = 'LSSTComCamSim/runs/nightlyvalidation/20240404/d_2024_03_29/DM-43612'\n",
    "collection = 'LATISS/runs/AUXTEL_DRP_IMAGING_20230509_20240311/w_2024_10/PREOPS-4985'\n",
    "collectionn = collection\n",
    "#collections = [collection1,collection2,collection3]\n",
    "collections = [collection]\n",
    "collectionStr = collectionn.replace(\"/\", \"_\")\n",
    "fn_ccdVisit_tracts_patches = f\"ccdVisittractpatch_{collectionStr}.csv\"\n",
    "instrument = 'LATISS'\n",
    "skymapName = \"latiss_v1\"\n",
    "where_clause = \"instrument = \\'\" + instrument+ \"\\'\"\n",
    "tract = 3864 # mostly for light-curves\n",
    "patch_sel = 236\n",
    "band = 'g'\n",
    "#tract = 5615\n",
    "# tract = 5634 # interesting to view calib parameters\n",
    "suptitle = collectionStr + f\" inst = {instrument} tract = {tract}\""
   ]
  },
  {
   "cell_type": "code",
   "execution_count": 9,
   "id": "3048e2e2-2489-43e0-a96d-848c548700cb",
   "metadata": {
    "execution": {
     "iopub.execute_input": "2024-05-07T18:52:44.779416Z",
     "iopub.status.busy": "2024-05-07T18:52:44.779294Z",
     "iopub.status.idle": "2024-05-07T18:52:45.367832Z",
     "shell.execute_reply": "2024-05-07T18:52:45.367428Z",
     "shell.execute_reply.started": "2024-05-07T18:52:44.779405Z"
    }
   },
   "outputs": [],
   "source": [
    "#dataId = {\"skymap\": \"latiss_v1\", \"tract\": 5615, \"instrument\": \"LATISS\"}\n",
    "dataId = {\"skymap\": skymapName, \"tract\": tract, \"instrument\": instrument}\n",
    "repo = '/sdf/group/rubin/repo/oga/'\n",
    "butler = dafButler.Butler(repo)\n",
    "#t = Butler.get(table_sel, dataId=dataId, collections=collections)\n",
    "registry = butler.registry"
   ]
  },
  {
   "cell_type": "code",
   "execution_count": 10,
   "id": "d87b3bde-871f-4eba-87f7-1ee1ade704c5",
   "metadata": {
    "execution": {
     "iopub.execute_input": "2024-05-07T18:52:45.368568Z",
     "iopub.status.busy": "2024-05-07T18:52:45.368434Z",
     "iopub.status.idle": "2024-05-07T18:52:45.536413Z",
     "shell.execute_reply": "2024-05-07T18:52:45.535990Z",
     "shell.execute_reply.started": "2024-05-07T18:52:45.368555Z"
    }
   },
   "outputs": [],
   "source": [
    "skymap = butler.get('skyMap', skymap=skymapName, collections=collections)"
   ]
  },
  {
   "cell_type": "code",
   "execution_count": 11,
   "id": "f9a004b6-49ea-4c8f-b2df-e068fd55f673",
   "metadata": {
    "execution": {
     "iopub.execute_input": "2024-05-07T18:52:45.537100Z",
     "iopub.status.busy": "2024-05-07T18:52:45.536970Z",
     "iopub.status.idle": "2024-05-07T18:52:45.539722Z",
     "shell.execute_reply": "2024-05-07T18:52:45.539379Z",
     "shell.execute_reply.started": "2024-05-07T18:52:45.537088Z"
    }
   },
   "outputs": [],
   "source": [
    "def remove_figure(fig):\n",
    "    \"\"\"\n",
    "    Remove a figure to reduce memory footprint.\n",
    "\n",
    "    Parameters\n",
    "    ----------\n",
    "    fig: matplotlib.figure.Figure\n",
    "        Figure to be removed.\n",
    "\n",
    "    Returns\n",
    "    -------\n",
    "    None\n",
    "    \"\"\"\n",
    "    # get the axes and clear their images\n",
    "    for ax in fig.get_axes():\n",
    "        for im in ax.get_images():\n",
    "            im.remove()\n",
    "    fig.clf()       # clear the figure\n",
    "    plt.close(fig)  # close the figure\n",
    "    gc.collect()    # call the garbage collector"
   ]
  },
  {
   "cell_type": "code",
   "execution_count": 12,
   "id": "217d9116-61a1-4ab3-9ba4-4cc8668956e8",
   "metadata": {
    "execution": {
     "iopub.execute_input": "2024-05-07T18:52:45.540340Z",
     "iopub.status.busy": "2024-05-07T18:52:45.540216Z",
     "iopub.status.idle": "2024-05-07T18:52:45.547462Z",
     "shell.execute_reply": "2024-05-07T18:52:45.547106Z",
     "shell.execute_reply.started": "2024-05-07T18:52:45.540329Z"
    }
   },
   "outputs": [],
   "source": [
    "def get_corners_radec(wcs, bbox):\n",
    "    \"\"\"\n",
    "    Return the corners in RA,Dec in degrees given the WCS and bounding box for an image.\n",
    "\n",
    "    Parameters\n",
    "    ----------\n",
    "    wcs: image WCS returned by the Butler\n",
    "    bbox: bounding box returned by the Butler\n",
    "\n",
    "    Returns\n",
    "    -------\n",
    "    corners_ra, corners_dec in decimal degrees\n",
    "    \"\"\"\n",
    "\n",
    "    corners_x = [bbox.beginX, bbox.beginX, bbox.endX, bbox.endX]\n",
    "    corners_y = [bbox.beginY, bbox.endY, bbox.endY, bbox.beginY]\n",
    "    corners_ra = []\n",
    "    corners_dec = []\n",
    "    for i in range(4):\n",
    "        radec = wcs.pixelToSky(corners_x[i], corners_y[i])\n",
    "        corners_ra.append(radec.getRa().asDegrees())\n",
    "        corners_dec.append(radec.getDec().asDegrees())\n",
    "    \n",
    "    return corners_ra, corners_dec"
   ]
  },
  {
   "cell_type": "code",
   "execution_count": 13,
   "id": "81240109-5d2e-4829-82dc-dddc9d4cda05",
   "metadata": {
    "execution": {
     "iopub.execute_input": "2024-05-07T18:52:45.548068Z",
     "iopub.status.busy": "2024-05-07T18:52:45.547946Z",
     "iopub.status.idle": "2024-05-07T18:52:45.552536Z",
     "shell.execute_reply": "2024-05-07T18:52:45.552187Z",
     "shell.execute_reply.started": "2024-05-07T18:52:45.548057Z"
    }
   },
   "outputs": [],
   "source": [
    "def convert_fluxtomag(x) :\n",
    "    \"\"\"\n",
    "    The object and source catalogs store only fluxes. There are hundreds of flux-related columns, \n",
    "    and to store them also as magnitudes would be redundant, and a waste of space.\n",
    "    All flux units are nanojanskys. The AB Magnitudes Wikipedia page provides a concise resource \n",
    "    for users unfamiliar with AB magnitudes and jansky fluxes. To convert to AB magnitudes use:\n",
    "    As demonstrated in Section 2.3.2, to add columns of magnitudes after retrieving columns of flux, users can do this:\n",
    "    results_table['r_calibMag'] = -2.50 * numpy.log10(results_table['r_calibFlux']) + 31.4\n",
    "    results_table['r_cModelMag'] = -2.50 * numpy.log10(results_table['r_cModelFlux']) + 31.4\n",
    "    (from DP0 tutorial)\n",
    "    \"\"\"\n",
    "    return -2.50 * np.log10(x) + 31.4"
   ]
  },
  {
   "cell_type": "markdown",
   "id": "06424808-67d0-45bc-aae3-d8284363b7b7",
   "metadata": {},
   "source": [
    "## Get pixel scale"
   ]
  },
  {
   "cell_type": "code",
   "execution_count": 14,
   "id": "5cec8b2e-241d-439e-bfc1-70d902fcbbee",
   "metadata": {
    "execution": {
     "iopub.execute_input": "2024-05-07T18:52:45.553245Z",
     "iopub.status.busy": "2024-05-07T18:52:45.553126Z",
     "iopub.status.idle": "2024-05-07T18:52:45.600070Z",
     "shell.execute_reply": "2024-05-07T18:52:45.599715Z",
     "shell.execute_reply.started": "2024-05-07T18:52:45.553234Z"
    }
   },
   "outputs": [],
   "source": [
    "import lsst.geom as geom\n",
    "import lsst.sphgeom\n",
    "\n",
    "skymap = butler.get('skyMap', skymap=skymapName, collections=collections )\n",
    "tractInfo = skymap.generateTract(tract)\n",
    "for patch in tractInfo:    \n",
    "    patchID = patch.getSequentialIndex()\n",
    "        \n",
    "    ibb=patch.getInnerBBox()\n",
    "    tWCS=tractInfo.getWcs()\n",
    "       \n",
    "    # loop on the 4 corners\n",
    "    for icorn,corner in enumerate(ibb.getCorners()):\n",
    "        p = geom.Point2D(corner.getX(), corner.getY())\n",
    "        coord = tWCS.pixelToSky(p)\n"
   ]
  },
  {
   "cell_type": "code",
   "execution_count": 15,
   "id": "412b882e-68f3-4b46-8283-6bdad7bf4464",
   "metadata": {
    "execution": {
     "iopub.execute_input": "2024-05-07T18:52:45.600637Z",
     "iopub.status.busy": "2024-05-07T18:52:45.600520Z",
     "iopub.status.idle": "2024-05-07T18:52:45.603467Z",
     "shell.execute_reply": "2024-05-07T18:52:45.603138Z",
     "shell.execute_reply.started": "2024-05-07T18:52:45.600626Z"
    }
   },
   "outputs": [
    {
     "data": {
      "text/plain": [
       "FITS standard SkyWcs:\n",
       "Sky Origin: (122.4365482234, -36.4462809917)\n",
       "Pixel Origin: (28499, 28499)\n",
       "Pixel Scale: 0.1 arcsec/pixel"
      ]
     },
     "execution_count": 15,
     "metadata": {},
     "output_type": "execute_result"
    }
   ],
   "source": [
    "tWCS"
   ]
  },
  {
   "cell_type": "code",
   "execution_count": 16,
   "id": "2df2b74e-4069-4f4a-9519-99584abbd760",
   "metadata": {
    "execution": {
     "iopub.execute_input": "2024-05-07T18:52:45.604040Z",
     "iopub.status.busy": "2024-05-07T18:52:45.603919Z",
     "iopub.status.idle": "2024-05-07T18:52:45.606401Z",
     "shell.execute_reply": "2024-05-07T18:52:45.606071Z",
     "shell.execute_reply.started": "2024-05-07T18:52:45.604029Z"
    }
   },
   "outputs": [],
   "source": [
    "#arcsec/pixel\n",
    "pixel_scale = tWCS.getPixelScale().asArcseconds()"
   ]
  },
  {
   "cell_type": "markdown",
   "id": "35b5b65f-a6ca-4e98-a54c-d72cf3f5ca89",
   "metadata": {},
   "source": [
    "## Selected visits"
   ]
  },
  {
   "cell_type": "code",
   "execution_count": 17,
   "id": "817f7633-e942-4c18-aea6-687c19b5e694",
   "metadata": {
    "execution": {
     "iopub.execute_input": "2024-05-07T18:52:45.606965Z",
     "iopub.status.busy": "2024-05-07T18:52:45.606847Z",
     "iopub.status.idle": "2024-05-07T18:52:45.624298Z",
     "shell.execute_reply": "2024-05-07T18:52:45.623957Z",
     "shell.execute_reply.started": "2024-05-07T18:52:45.606954Z"
    }
   },
   "outputs": [],
   "source": [
    "\n",
    "# get the csv file produced by stat_on_visits_LSSTAuxtel.ipynb in ../Visits\n",
    "#file_selected_visits = \"../Visits/ccdVisittractpatch_LATISS_runs_AUXTEL_DRP_IMAGING_20230509_20240311_w_2024_10_PREOPS-4985.csv\"\n",
    "file_selected_visits = os.path.join(\"../Visits\",fn_ccdVisit_tracts_patches)\n",
    "df_myselectedvisits = pd.read_csv(file_selected_visits,index_col=0)\n",
    "if 0:\n",
    "\n",
    "    # select the band\n",
    "    cut = (df_myselectedvisits.band == band) &  (df_myselectedvisits.tractID == tract) & (df_myselectedvisits.patchID == patch_sel)\n",
    "    df_myselectedvisits = df_myselectedvisits[cut]\n",
    "\n",
    "#move the visitid as a column not to loose it during the merge \n",
    "df_myselectedvisits.reset_index(inplace=True) \n"
   ]
  },
  {
   "cell_type": "code",
   "execution_count": 18,
   "id": "bff3d040-2c91-4d12-a698-45766955841c",
   "metadata": {
    "execution": {
     "iopub.execute_input": "2024-05-07T18:52:45.624898Z",
     "iopub.status.busy": "2024-05-07T18:52:45.624769Z",
     "iopub.status.idle": "2024-05-07T18:52:45.626937Z",
     "shell.execute_reply": "2024-05-07T18:52:45.626602Z",
     "shell.execute_reply.started": "2024-05-07T18:52:45.624887Z"
    }
   },
   "outputs": [],
   "source": [
    "index = 0\n",
    "visitId = df_myselectedvisits.iloc[index]['visitId']\n",
    "band = df_myselectedvisits.iloc[index]['band']\n",
    "det = df_myselectedvisits.iloc[index]['detector']"
   ]
  },
  {
   "cell_type": "markdown",
   "id": "0c0a7440-40af-4927-a4df-3fb16ab52f6b",
   "metadata": {},
   "source": [
    "Note here:\n",
    "- zeroPoint is in ABMag\n",
    "- skyBg is in ADU (but don't know if in pixel or in arcsec2)\n",
    "- skyNoise is in ADU (but don't know if in pixel or in arcsec2)"
   ]
  },
  {
   "cell_type": "code",
   "execution_count": 19,
   "id": "a5053bfc-79e0-4792-8b72-0f94bdc0f149",
   "metadata": {
    "execution": {
     "iopub.execute_input": "2024-05-07T18:52:45.628961Z",
     "iopub.status.busy": "2024-05-07T18:52:45.628826Z",
     "iopub.status.idle": "2024-05-07T18:52:45.632194Z",
     "shell.execute_reply": "2024-05-07T18:52:45.631856Z",
     "shell.execute_reply.started": "2024-05-07T18:52:45.628949Z"
    }
   },
   "outputs": [
    {
     "data": {
      "text/plain": [
       "ccdVisitId      40919696896\n",
       "visitId       2023051100262\n",
       "band                      r\n",
       "detector                  0\n",
       "ra               239.946728\n",
       "dec              -24.053747\n",
       "llcra            239.935567\n",
       "llcdec           -24.128923\n",
       "ulcra            240.029265\n",
       "ulcdec           -24.062575\n",
       "urcra            239.957875\n",
       "urcdec            -23.97857\n",
       "lrcra            239.864202\n",
       "lrcdec           -24.044874\n",
       "ccdVid                    0\n",
       "Vid                       0\n",
       "nightObs           20230511\n",
       "tractID                5615\n",
       "patchID                 295\n",
       "zeroPoint         27.697306\n",
       "airmass            1.823818\n",
       "skyBg             11.193549\n",
       "skyNoise             7.8568\n",
       "expTime                30.0\n",
       "Name: 0, dtype: object"
      ]
     },
     "execution_count": 19,
     "metadata": {},
     "output_type": "execute_result"
    }
   ],
   "source": [
    "df_myselectedvisits.iloc[index]"
   ]
  },
  {
   "cell_type": "code",
   "execution_count": 20,
   "id": "15c8f8b4-5404-4cc5-88c3-33b190228168",
   "metadata": {
    "execution": {
     "iopub.execute_input": "2024-05-07T18:52:45.632882Z",
     "iopub.status.busy": "2024-05-07T18:52:45.632754Z",
     "iopub.status.idle": "2024-05-07T18:52:45.636216Z",
     "shell.execute_reply": "2024-05-07T18:52:45.635856Z",
     "shell.execute_reply.started": "2024-05-07T18:52:45.632871Z"
    }
   },
   "outputs": [],
   "source": [
    "#datasetType = 'postISRCCD'\n",
    "dataId = {'visit': visitId, 'instrument':instrument , 'detector': 0}\n",
    "#datasetRefs = registry.queryDatasets(datasetType, dataId=dataId, collections  = collections)\n",
    "\n",
    "#for i, ref in enumerate(datasetRefs):\n",
    "#    print(ref.dataId)\n",
    "#    print(\"band:\", ref.dataId['band'])\n",
    "#    band = ref.dataId['band']\n",
    "#    img= butler.get(ref)\n",
    "#    md = img.getMetadata().toDict()\n",
    "\n",
    "#    list_of_keys = list(md.keys())\n",
    "#    for key in list_of_keys:\n",
    "#        if \"CALIB\" in key:\n",
    "#            print(key,\"::\",md[key])"
   ]
  },
  {
   "cell_type": "markdown",
   "id": "bda8d475-f87a-4e0d-be3a-2b37d0e476cc",
   "metadata": {},
   "source": [
    "## One postISRCCD and One Calexp"
   ]
  },
  {
   "cell_type": "code",
   "execution_count": 21,
   "id": "3bcd2522-939b-476e-b7ff-5c1226e22a1b",
   "metadata": {
    "execution": {
     "iopub.execute_input": "2024-05-07T18:52:45.636785Z",
     "iopub.status.busy": "2024-05-07T18:52:45.636666Z",
     "iopub.status.idle": "2024-05-07T18:52:45.640877Z",
     "shell.execute_reply": "2024-05-07T18:52:45.640534Z",
     "shell.execute_reply.started": "2024-05-07T18:52:45.636774Z"
    }
   },
   "outputs": [],
   "source": [
    "def ComputeStatfromImage(arr,remove_zero_flag=False):\n",
    "    data_flat = arr.flatten()\n",
    "\n",
    "    if remove_zero_flag:\n",
    "        data_flat_nozero = data_flat[~(data_flat==0)]\n",
    "        data_flat = data_flat_nozero \n",
    "        \n",
    "\n",
    "    mu = np.mean(data_flat)\n",
    "    med = np.median(data_flat)\n",
    "    std = np.std(data_flat)\n",
    "    sigMad = 1.4826 * np.median(np.fabs(data_flat - med))\n",
    "    vmin,vmax = med - 3 * sigMad, med + 3 * sigMad\n",
    "    return mu,med,std,sigMad,vmin,vmax\n"
   ]
  },
  {
   "cell_type": "code",
   "execution_count": 22,
   "id": "b939af2c-1f5d-4320-86fc-f5a9bc7d7a76",
   "metadata": {
    "execution": {
     "iopub.execute_input": "2024-05-07T18:52:45.641509Z",
     "iopub.status.busy": "2024-05-07T18:52:45.641390Z",
     "iopub.status.idle": "2024-05-07T18:52:46.040653Z",
     "shell.execute_reply": "2024-05-07T18:52:46.039722Z",
     "shell.execute_reply.started": "2024-05-07T18:52:45.641498Z"
    }
   },
   "outputs": [
    {
     "ename": "DimensionNameError",
     "evalue": "\"No value in data ID ({'skymap': 'latiss_v1', 'tract': 3864, 'instrument': 'LATISS'}) for required dimension 'detector'.\"",
     "output_type": "error",
     "traceback": [
      "\u001b[0;31m---------------------------------------------------------------------------\u001b[0m",
      "\u001b[0;31mKeyError\u001b[0m                                  Traceback (most recent call last)",
      "File \u001b[0;32m/opt/lsst/software/stack/stack/miniconda3-py38_4.9.2-8.0.0/Linux64/daf_butler/g1223572531+2e42ab5048/python/lsst/daf/butler/dimensions/_coordinate.py:296\u001b[0m, in \u001b[0;36mDataCoordinate.standardize\u001b[0;34m(***failed resolving arguments***)\u001b[0m\n\u001b[1;32m    295\u001b[0m \u001b[38;5;28;01mtry\u001b[39;00m:\n\u001b[0;32m--> 296\u001b[0m     values \u001b[38;5;241m=\u001b[39m \u001b[38;5;28mtuple\u001b[39m(new_mapping[name] \u001b[38;5;28;01mfor\u001b[39;00m name \u001b[38;5;129;01min\u001b[39;00m dimensions\u001b[38;5;241m.\u001b[39mrequired)\n\u001b[1;32m    297\u001b[0m \u001b[38;5;28;01mexcept\u001b[39;00m \u001b[38;5;167;01mKeyError\u001b[39;00m \u001b[38;5;28;01mas\u001b[39;00m err:\n",
      "File \u001b[0;32m/opt/lsst/software/stack/stack/miniconda3-py38_4.9.2-8.0.0/Linux64/daf_butler/g1223572531+2e42ab5048/python/lsst/daf/butler/dimensions/_coordinate.py:296\u001b[0m, in \u001b[0;36m<genexpr>\u001b[0;34m(.0)\u001b[0m\n\u001b[1;32m    295\u001b[0m \u001b[38;5;28;01mtry\u001b[39;00m:\n\u001b[0;32m--> 296\u001b[0m     values \u001b[38;5;241m=\u001b[39m \u001b[38;5;28mtuple\u001b[39m(\u001b[43mnew_mapping\u001b[49m\u001b[43m[\u001b[49m\u001b[43mname\u001b[49m\u001b[43m]\u001b[49m \u001b[38;5;28;01mfor\u001b[39;00m name \u001b[38;5;129;01min\u001b[39;00m dimensions\u001b[38;5;241m.\u001b[39mrequired)\n\u001b[1;32m    297\u001b[0m \u001b[38;5;28;01mexcept\u001b[39;00m \u001b[38;5;167;01mKeyError\u001b[39;00m \u001b[38;5;28;01mas\u001b[39;00m err:\n",
      "\u001b[0;31mKeyError\u001b[0m: 'detector'",
      "\nThe above exception was the direct cause of the following exception:\n",
      "\u001b[0;31mDimensionNameError\u001b[0m                        Traceback (most recent call last)",
      "Cell \u001b[0;32mIn[22], line 1\u001b[0m\n\u001b[0;32m----> 1\u001b[0m calexp \u001b[38;5;241m=\u001b[39m \u001b[43mbutler\u001b[49m\u001b[38;5;241;43m.\u001b[39;49m\u001b[43mget\u001b[49m\u001b[43m(\u001b[49m\u001b[38;5;124;43m'\u001b[39;49m\u001b[38;5;124;43mcalexp\u001b[39;49m\u001b[38;5;124;43m'\u001b[39;49m\u001b[43m,\u001b[49m\u001b[43m \u001b[49m\u001b[38;5;241;43m*\u001b[39;49m\u001b[38;5;241;43m*\u001b[39;49m\u001b[43mdataId\u001b[49m\u001b[43m,\u001b[49m\u001b[43mcollections\u001b[49m\u001b[38;5;241;43m=\u001b[39;49m\u001b[43mcollections\u001b[49m\u001b[43m)\u001b[49m\n\u001b[1;32m      2\u001b[0m bkgd  \u001b[38;5;241m=\u001b[39m butler\u001b[38;5;241m.\u001b[39mget(\u001b[38;5;124m'\u001b[39m\u001b[38;5;124mcalexpBackground\u001b[39m\u001b[38;5;124m'\u001b[39m, \u001b[38;5;241m*\u001b[39m\u001b[38;5;241m*\u001b[39mdataId,collections\u001b[38;5;241m=\u001b[39mcollections)\n\u001b[1;32m      3\u001b[0m \u001b[38;5;66;03m# get the calibration constant  : expo_photocalibconstant_mean in nJ per ADU. To convert it in AB-Mag : convert_fluxtomag(expo_photocalibconstant_mean) --> zero point\u001b[39;00m\n",
      "File \u001b[0;32m/opt/lsst/software/stack/stack/miniconda3-py38_4.9.2-8.0.0/Linux64/daf_butler/g1223572531+2e42ab5048/python/lsst/daf/butler/direct_butler/_direct_butler.py:1146\u001b[0m, in \u001b[0;36mDirectButler.get\u001b[0;34m(self, datasetRefOrType, dataId, parameters, collections, storageClass, timespan, **kwargs)\u001b[0m\n\u001b[1;32m   1087\u001b[0m \u001b[38;5;250m\u001b[39m\u001b[38;5;124;03m\"\"\"Retrieve a stored dataset.\u001b[39;00m\n\u001b[1;32m   1088\u001b[0m \n\u001b[1;32m   1089\u001b[0m \u001b[38;5;124;03mParameters\u001b[39;00m\n\u001b[0;32m   (...)\u001b[0m\n\u001b[1;32m   1143\u001b[0m \u001b[38;5;124;03m``exposure`` is a temporal dimension.\u001b[39;00m\n\u001b[1;32m   1144\u001b[0m \u001b[38;5;124;03m\"\"\"\u001b[39;00m\n\u001b[1;32m   1145\u001b[0m _LOG\u001b[38;5;241m.\u001b[39mdebug(\u001b[38;5;124m\"\u001b[39m\u001b[38;5;124mButler get: \u001b[39m\u001b[38;5;132;01m%s\u001b[39;00m\u001b[38;5;124m, dataId=\u001b[39m\u001b[38;5;132;01m%s\u001b[39;00m\u001b[38;5;124m, parameters=\u001b[39m\u001b[38;5;132;01m%s\u001b[39;00m\u001b[38;5;124m\"\u001b[39m, datasetRefOrType, dataId, parameters)\n\u001b[0;32m-> 1146\u001b[0m ref \u001b[38;5;241m=\u001b[39m \u001b[38;5;28;43mself\u001b[39;49m\u001b[38;5;241;43m.\u001b[39;49m\u001b[43m_findDatasetRef\u001b[49m\u001b[43m(\u001b[49m\n\u001b[1;32m   1147\u001b[0m \u001b[43m    \u001b[49m\u001b[43mdatasetRefOrType\u001b[49m\u001b[43m,\u001b[49m\n\u001b[1;32m   1148\u001b[0m \u001b[43m    \u001b[49m\u001b[43mdataId\u001b[49m\u001b[43m,\u001b[49m\n\u001b[1;32m   1149\u001b[0m \u001b[43m    \u001b[49m\u001b[43mcollections\u001b[49m\u001b[38;5;241;43m=\u001b[39;49m\u001b[43mcollections\u001b[49m\u001b[43m,\u001b[49m\n\u001b[1;32m   1150\u001b[0m \u001b[43m    \u001b[49m\u001b[43mdatastore_records\u001b[49m\u001b[38;5;241;43m=\u001b[39;49m\u001b[38;5;28;43;01mTrue\u001b[39;49;00m\u001b[43m,\u001b[49m\n\u001b[1;32m   1151\u001b[0m \u001b[43m    \u001b[49m\u001b[43mtimespan\u001b[49m\u001b[38;5;241;43m=\u001b[39;49m\u001b[43mtimespan\u001b[49m\u001b[43m,\u001b[49m\n\u001b[1;32m   1152\u001b[0m \u001b[43m    \u001b[49m\u001b[38;5;241;43m*\u001b[39;49m\u001b[38;5;241;43m*\u001b[39;49m\u001b[43mkwargs\u001b[49m\u001b[43m,\u001b[49m\n\u001b[1;32m   1153\u001b[0m \u001b[43m\u001b[49m\u001b[43m)\u001b[49m\n\u001b[1;32m   1154\u001b[0m \u001b[38;5;28;01mreturn\u001b[39;00m \u001b[38;5;28mself\u001b[39m\u001b[38;5;241m.\u001b[39m_datastore\u001b[38;5;241m.\u001b[39mget(ref, parameters\u001b[38;5;241m=\u001b[39mparameters, storageClass\u001b[38;5;241m=\u001b[39mstorageClass)\n",
      "File \u001b[0;32m/opt/lsst/software/stack/stack/miniconda3-py38_4.9.2-8.0.0/Linux64/daf_butler/g1223572531+2e42ab5048/python/lsst/daf/butler/direct_butler/_direct_butler.py:875\u001b[0m, in \u001b[0;36mDirectButler._findDatasetRef\u001b[0;34m(self, datasetRefOrType, dataId, collections, predict, run, datastore_records, timespan, **kwargs)\u001b[0m\n\u001b[1;32m    870\u001b[0m             timespan \u001b[38;5;241m=\u001b[39m Timespan(\u001b[38;5;28;01mNone\u001b[39;00m, \u001b[38;5;28;01mNone\u001b[39;00m)\n\u001b[1;32m    871\u001b[0m \u001b[38;5;28;01melse\u001b[39;00m:\n\u001b[1;32m    872\u001b[0m     \u001b[38;5;66;03m# Standardize the data ID to just the dimensions of the dataset\u001b[39;00m\n\u001b[1;32m    873\u001b[0m     \u001b[38;5;66;03m# type instead of letting registry.findDataset do it, so we get the\u001b[39;00m\n\u001b[1;32m    874\u001b[0m     \u001b[38;5;66;03m# result even if no dataset is found.\u001b[39;00m\n\u001b[0;32m--> 875\u001b[0m     dataId \u001b[38;5;241m=\u001b[39m \u001b[43mDataCoordinate\u001b[49m\u001b[38;5;241;43m.\u001b[39;49m\u001b[43mstandardize\u001b[49m\u001b[43m(\u001b[49m\n\u001b[1;32m    876\u001b[0m \u001b[43m        \u001b[49m\u001b[43mdataId\u001b[49m\u001b[43m,\u001b[49m\n\u001b[1;32m    877\u001b[0m \u001b[43m        \u001b[49m\u001b[43mdimensions\u001b[49m\u001b[38;5;241;43m=\u001b[39;49m\u001b[43mdatasetType\u001b[49m\u001b[38;5;241;43m.\u001b[39;49m\u001b[43mdimensions\u001b[49m\u001b[43m,\u001b[49m\n\u001b[1;32m    878\u001b[0m \u001b[43m        \u001b[49m\u001b[43mdefaults\u001b[49m\u001b[38;5;241;43m=\u001b[39;49m\u001b[38;5;28;43mself\u001b[39;49m\u001b[38;5;241;43m.\u001b[39;49m\u001b[43m_registry\u001b[49m\u001b[38;5;241;43m.\u001b[39;49m\u001b[43mdefaults\u001b[49m\u001b[38;5;241;43m.\u001b[39;49m\u001b[43mdataId\u001b[49m\u001b[43m,\u001b[49m\n\u001b[1;32m    879\u001b[0m \u001b[43m        \u001b[49m\u001b[38;5;241;43m*\u001b[39;49m\u001b[38;5;241;43m*\u001b[39;49m\u001b[43mkwargs\u001b[49m\u001b[43m,\u001b[49m\n\u001b[1;32m    880\u001b[0m \u001b[43m    \u001b[49m\u001b[43m)\u001b[49m\n\u001b[1;32m    881\u001b[0m \u001b[38;5;66;03m# Always lookup the DatasetRef, even if one is given, to ensure it is\u001b[39;00m\n\u001b[1;32m    882\u001b[0m \u001b[38;5;66;03m# present in the current collection.\u001b[39;00m\n\u001b[1;32m    883\u001b[0m ref \u001b[38;5;241m=\u001b[39m \u001b[38;5;28mself\u001b[39m\u001b[38;5;241m.\u001b[39mfind_dataset(\n\u001b[1;32m    884\u001b[0m     datasetType,\n\u001b[1;32m    885\u001b[0m     dataId,\n\u001b[0;32m   (...)\u001b[0m\n\u001b[1;32m    888\u001b[0m     datastore_records\u001b[38;5;241m=\u001b[39mdatastore_records,\n\u001b[1;32m    889\u001b[0m )\n",
      "File \u001b[0;32m/opt/lsst/software/stack/stack/miniconda3-py38_4.9.2-8.0.0/Linux64/daf_butler/g1223572531+2e42ab5048/python/lsst/daf/butler/dimensions/_coordinate.py:298\u001b[0m, in \u001b[0;36mDataCoordinate.standardize\u001b[0;34m(***failed resolving arguments***)\u001b[0m\n\u001b[1;32m    296\u001b[0m     values \u001b[38;5;241m=\u001b[39m \u001b[38;5;28mtuple\u001b[39m(new_mapping[name] \u001b[38;5;28;01mfor\u001b[39;00m name \u001b[38;5;129;01min\u001b[39;00m dimensions\u001b[38;5;241m.\u001b[39mrequired)\n\u001b[1;32m    297\u001b[0m \u001b[38;5;28;01mexcept\u001b[39;00m \u001b[38;5;167;01mKeyError\u001b[39;00m \u001b[38;5;28;01mas\u001b[39;00m err:\n\u001b[0;32m--> 298\u001b[0m     \u001b[38;5;28;01mraise\u001b[39;00m DimensionNameError(\n\u001b[1;32m    299\u001b[0m         \u001b[38;5;124mf\u001b[39m\u001b[38;5;124m\"\u001b[39m\u001b[38;5;124mNo value in data ID (\u001b[39m\u001b[38;5;132;01m{\u001b[39;00mmapping\u001b[38;5;132;01m}\u001b[39;00m\u001b[38;5;124m) for required dimension \u001b[39m\u001b[38;5;132;01m{\u001b[39;00merr\u001b[38;5;132;01m}\u001b[39;00m\u001b[38;5;124m.\u001b[39m\u001b[38;5;124m\"\u001b[39m\n\u001b[1;32m    300\u001b[0m     ) \u001b[38;5;28;01mfrom\u001b[39;00m \u001b[38;5;21;01merr\u001b[39;00m\n\u001b[1;32m    301\u001b[0m \u001b[38;5;28;01mreturn\u001b[39;00m DataCoordinate\u001b[38;5;241m.\u001b[39mfrom_required_values(dimensions, values)\n",
      "\u001b[0;31mDimensionNameError\u001b[0m: \"No value in data ID ({'skymap': 'latiss_v1', 'tract': 3864, 'instrument': 'LATISS'}) for required dimension 'detector'.\""
     ]
    }
   ],
   "source": [
    "calexp = butler.get('calexp', **dataId,collections=collections)\n",
    "bkgd  = butler.get('calexpBackground', **dataId,collections=collections)\n",
    "# get the calibration constant  : expo_photocalibconstant_mean in nJ per ADU. To convert it in AB-Mag : convert_fluxtomag(expo_photocalibconstant_mean) --> zero point\n",
    "calexp_info = calexp.getInfo()\n",
    "photocalib = calexp_info.getPhotoCalib()\n",
    "expo_photocalibconstant_mean = photocalib.getCalibrationMean()\n",
    "expo_photocalibconstant_error = photocalib.getCalibrationErr()\n",
    "\n",
    "mu_ce,med_ce,std_ce,sigMad_ce,vmin_ce,vmax_ce = ComputeStatfromImage(calexp.getImage().array,remove_zero_flag=False)\n",
    "mu_bkg,med_bkg,std_bkg,sigMad_bkg,vmin_bkg,vmax_bkg = ComputeStatfromImage(bkgd.getImage().array,remove_zero_flag=False)\n",
    "\n",
    "datasetRefs = registry.queryDatasets('postISRCCD', dataId=dataId, collections  = collections)\n",
    "for i, ref in enumerate(datasetRefs):\n",
    "    postisrccd  = butler.get(ref)\n",
    "mu_pisr,med_pisr,std_pisr,sigMad_pisr,vmin_pisr,vmax_pisr = ComputeStatfromImage(postisrccd.getImage().array,remove_zero_flag=False)\n",
    "\n",
    "mask = calexp.mask.array\n",
    "the_mask = np.where(mask==0,1,0)\n",
    "\n",
    "mu_ce_m,med_ce_m,std_ce_m,sigMad_ce_m,vmin_ce_m,vmax_ce_m = ComputeStatfromImage(calexp.getImage().array*the_mask ,remove_zero_flag=True)\n",
    "mu_bkg_m,med_bkg_m,std_bkg_m,sigMad_bkg_m,vmin_bkg_m,vmax_bkg_m = ComputeStatfromImage(bkgd.getImage().array*the_mask,remove_zero_flag=True)\n",
    "mu_pisr_m,med_pisr_m,std_pisr_m,sigMad_pisr_m,vmin_pisr_m,vmax_pisr_m = ComputeStatfromImage(postisrccd.getImage().array*the_mask,remove_zero_flag=True)\n",
    "\n",
    "del calexp,bkgd,postisrccd,mask,the_mask"
   ]
  },
  {
   "cell_type": "code",
   "execution_count": null,
   "id": "2dcbf10d-9585-4736-978a-5bebaed5085f",
   "metadata": {
    "execution": {
     "iopub.status.busy": "2024-05-07T18:52:46.041282Z",
     "iopub.status.idle": "2024-05-07T18:52:46.041457Z",
     "shell.execute_reply": "2024-05-07T18:52:46.041375Z",
     "shell.execute_reply.started": "2024-05-07T18:52:46.041367Z"
    }
   },
   "outputs": [],
   "source": [
    "print('* photocalib ::')\n",
    "print(photocalib)\n",
    "print(expo_photocalibconstant_mean,convert_fluxtomag(expo_photocalibconstant_mean) )\n",
    "print(\"* calexp ::\")\n",
    "print(mu_ce,med_ce,std_ce,sigMad_ce,vmin_ce,vmax_ce)\n",
    "print(mu_ce_m,med_ce_m,std_ce_m,sigMad_ce_m,vmin_ce_m,vmax_ce_m)\n",
    "print(\"* calexpBackground :: \")\n",
    "print(mu_bkg,med_bkg,std_bkg,sigMad_bkg,vmin_bkg,vmax_bkg)\n",
    "print(mu_bkg_m,med_bkg_m,std_bkg_m,sigMad_bkg_m,vmin_bkg_m,vmax_bkg_m)\n",
    "print(\"* postisrccd :: \")\n",
    "print(mu_pisr,med_pisr,std_pisr,sigMad_pisr,vmin_pisr,vmax_pisr)\n",
    "print(mu_pisr_m,med_pisr_m,std_pisr_m,sigMad_pisr_m,vmin_pisr_m,vmax_pisr_m) "
   ]
  },
  {
   "cell_type": "code",
   "execution_count": null,
   "id": "b63a7139-b67e-456a-852c-919ac07da96c",
   "metadata": {
    "execution": {
     "iopub.status.busy": "2024-05-07T18:52:46.041775Z",
     "iopub.status.idle": "2024-05-07T18:52:46.041929Z",
     "shell.execute_reply": "2024-05-07T18:52:46.041859Z",
     "shell.execute_reply.started": "2024-05-07T18:52:46.041852Z"
    }
   },
   "outputs": [],
   "source": [
    "N = len(df_myselectedvisits)"
   ]
  },
  {
   "cell_type": "code",
   "execution_count": null,
   "id": "9f79dc15-b7df-4923-90d9-9c6df02c4db0",
   "metadata": {
    "execution": {
     "iopub.status.busy": "2024-05-07T18:52:46.042551Z",
     "iopub.status.idle": "2024-05-07T18:52:46.042702Z",
     "shell.execute_reply": "2024-05-07T18:52:46.042632Z",
     "shell.execute_reply.started": "2024-05-07T18:52:46.042625Z"
    }
   },
   "outputs": [],
   "source": [
    "\n",
    "\n",
    "for index in range(N):\n",
    "\n",
    "    visitId = df_myselectedvisits.iloc[index]['visitId']\n",
    "    band =  df_myselectedvisits.iloc[index]['band']\n",
    "    det = df_myselectedvisits.iloc[index]['detector']                     \n",
    "\n",
    "    dataId = {'visit': visitId, 'instrument':instrument , 'detector': det}\n",
    "    \n",
    "    calexp = butler.get('calexp', **dataId,collections=collections)\n",
    "    bkgd  = butler.get('calexpBackground', **dataId,collections=collections)\n",
    "    # get the calibration constant  : expo_photocalibconstant_mean in nJ per ADU. To convert it in AB-Mag : convert_fluxtomag(expo_photocalibconstant_mean) --> zero point\n",
    "    calexp_info = calexp.getInfo()\n",
    "    photocalib = calexp_info.getPhotoCalib()\n",
    "    expo_photocalibconstant_mean = photocalib.getCalibrationMean()\n",
    "    expo_photocalibconstant_error = photocalib.getCalibrationErr()\n",
    "\n",
    "    mu_ce,med_ce,std_ce,sigMad_ce,vmin_ce,vmax_ce = ComputeStatfromImage(calexp.getImage().array,remove_zero_flag=False)\n",
    "    mu_bkg,med_bkg,std_bkg,sigMad_bkg,vmin_bkg,vmax_bkg = ComputeStatfromImage(bkgd.getImage().array,remove_zero_flag=False)\n",
    "\n",
    "    datasetRefs = registry.queryDatasets('postISRCCD', dataId=dataId, collections  = collections)\n",
    "    for i, ref in enumerate(datasetRefs):\n",
    "        postisrccd  = butler.get(ref)\n",
    "    mu_pisr,med_pisr,std_pisr,sigMad_pisr,vmin_pisr,vmax_pisr = ComputeStatfromImage(postisrccd.getImage().array,remove_zero_flag=False)\n",
    "\n",
    "    mask = calexp.mask.array\n",
    "    the_mask = np.where(mask==0,1,0)\n",
    "\n",
    "    mu_ce_m,med_ce_m,std_ce_m,sigMad_ce_m,vmin_ce_m,vmax_ce_m = ComputeStatfromImage(calexp.getImage().array*the_mask ,remove_zero_flag=True)\n",
    "    mu_bkg_m,med_bkg_m,std_bkg_m,sigMad_bkg_m,vmin_bkg_m,vmax_bkg_m = ComputeStatfromImage(bkgd.getImage().array*the_mask,remove_zero_flag=True)\n",
    "    mu_pisr_m,med_pisr_m,std_pisr_m,sigMad_pisr_m,vmin_pisr_m,vmax_pisr_m = ComputeStatfromImage(postisrccd.getImage().array*the_mask,remove_zero_flag=True)\n",
    "\n",
    "    del calexp,bkgd,postisrccd,mask,the_mask\n",
    "\n",
    "    print(f\"{index}) ======================{visitId} == {band}  == {det} =====================\")\n",
    "    print('* photocalib ::')\n",
    "    print(photocalib)\n",
    "    print(expo_photocalibconstant_mean,convert_fluxtomag(expo_photocalibconstant_mean) )\n",
    "    print(\"* calexp ::\")\n",
    "    print(mu_ce,med_ce,std_ce,sigMad_ce,vmin_ce,vmax_ce)\n",
    "    print(mu_ce_m,med_ce_m,std_ce_m,sigMad_ce_m,vmin_ce_m,vmax_ce_m)\n",
    "    print(\"* calexpBackground :: \")\n",
    "    print(mu_bkg,med_bkg,std_bkg,sigMad_bkg,vmin_bkg,vmax_bkg)\n",
    "    print(mu_bkg_m,med_bkg_m,std_bkg_m,sigMad_bkg_m,vmin_bkg_m,vmax_bkg_m)\n",
    "    print(\"* postisrccd :: \")\n",
    "    print(mu_pisr,med_pisr,std_pisr,sigMad_pisr,vmin_pisr,vmax_pisr)\n",
    "    print(mu_pisr_m,med_pisr_m,std_pisr_m,sigMad_pisr_m,vmin_pisr_m,vmax_pisr_m) \n",
    "\n",
    "    if index>20:\n",
    "        break\n",
    "   "
   ]
  },
  {
   "cell_type": "code",
   "execution_count": null,
   "id": "5bcc9555-3df6-4e5c-af75-1cb4f553db83",
   "metadata": {},
   "outputs": [],
   "source": []
  }
 ],
 "metadata": {
  "kernelspec": {
   "display_name": "LSST",
   "language": "python",
   "name": "lsst"
  },
  "language_info": {
   "codemirror_mode": {
    "name": "ipython",
    "version": 3
   },
   "file_extension": ".py",
   "mimetype": "text/x-python",
   "name": "python",
   "nbconvert_exporter": "python",
   "pygments_lexer": "ipython3",
   "version": "3.11.7"
  }
 },
 "nbformat": 4,
 "nbformat_minor": 5
}
