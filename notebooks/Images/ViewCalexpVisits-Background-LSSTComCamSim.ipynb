{
 "cells": [
  {
   "cell_type": "markdown",
   "id": "45bf4242-bfc5-4d43-88c4-a8059ae148df",
   "metadata": {},
   "source": [
    "# Visit individual Calexp_Background from Selected visits"
   ]
  },
  {
   "cell_type": "markdown",
   "id": "01993b6e-6438-4fca-a5d5-1f9791336847",
   "metadata": {},
   "source": [
    "- author Sylvie Dagoret-Campagne\n",
    "- creation date 2024-05-04\n",
    "- last update 2024-05-06\n",
    "- affiliation : IJCLab\n",
    "- kernel : **w_2024_16**\n",
    "\n"
   ]
  },
  {
   "cell_type": "code",
   "execution_count": null,
   "id": "bf752b70-e6ca-4cbf-8e8c-20bf7f0d8f61",
   "metadata": {},
   "outputs": [],
   "source": [
    "import numpy as np\n",
    "import matplotlib.pyplot as plt\n",
    "%matplotlib inline\n",
    "from mpl_toolkits.axes_grid1 import make_axes_locatable\n",
    "from matplotlib.colors import LogNorm,SymLogNorm\n",
    "\n",
    "\n",
    "import matplotlib.ticker                         # here's where the formatter is\n",
    "from matplotlib.ticker import (MultipleLocator, FormatStrFormatter,\n",
    "                               AutoMinorLocator)\n",
    "\n",
    "from astropy.visualization import (MinMaxInterval, SqrtStretch,ZScaleInterval,PercentileInterval,\n",
    "                                   ImageNormalize,imshow_norm)\n",
    "from astropy.visualization.stretch import SinhStretch, LinearStretch,AsinhStretch,LogStretch\n",
    "\n",
    "from astropy.io import fits\n",
    "from astropy.wcs import WCS\n",
    "\n",
    "\n",
    "import pandas as pd\n",
    "\n",
    "import matplotlib.ticker                         # here's where the formatter is\n",
    "import os\n",
    "import re\n",
    "import pandas as pd\n",
    "import pickle\n",
    "from collections import OrderedDict\n",
    "\n",
    "plt.rcParams[\"figure.figsize\"] = (4,3)\n",
    "plt.rcParams[\"axes.labelsize\"] = 'x-large'\n",
    "plt.rcParams['axes.titlesize'] = 'x-large'\n",
    "plt.rcParams['xtick.labelsize']= 'x-large'\n",
    "plt.rcParams['ytick.labelsize']= 'x-large'"
   ]
  },
  {
   "cell_type": "code",
   "execution_count": null,
   "id": "736177ea-d508-4bd6-9071-41911cf90035",
   "metadata": {},
   "outputs": [],
   "source": [
    "import gc"
   ]
  },
  {
   "cell_type": "code",
   "execution_count": null,
   "id": "0ca0d1e6-5f82-4c43-aaa3-8524fc2bc5ba",
   "metadata": {},
   "outputs": [],
   "source": [
    "from matplotlib.ticker import (MultipleLocator, FormatStrFormatter,\n",
    "                               AutoMinorLocator)\n",
    "\n",
    "from astropy.visualization import (MinMaxInterval, SqrtStretch,ZScaleInterval,PercentileInterval,\n",
    "                                   ImageNormalize,imshow_norm)\n",
    "from astropy.visualization.stretch import SinhStretch, LinearStretch,AsinhStretch,LogStretch\n",
    "\n",
    "from astropy.time import Time\n"
   ]
  },
  {
   "cell_type": "code",
   "execution_count": null,
   "id": "51ddfce4-9a0f-4804-bc6a-7f9138874f16",
   "metadata": {},
   "outputs": [],
   "source": [
    "import lsst.daf.butler as dafButler\n",
    "#import lsst.summit.utils.butlerUtils as butlerUtils"
   ]
  },
  {
   "cell_type": "code",
   "execution_count": null,
   "id": "34f037b5-b6a2-4f93-b86b-a6108d8a5ea7",
   "metadata": {},
   "outputs": [],
   "source": [
    "import lsst.afw.image as afwImage\n",
    "import lsst.afw.display as afwDisplay\n",
    "import lsst.afw.table as afwTable\n",
    "import lsst.geom as geom"
   ]
  },
  {
   "cell_type": "code",
   "execution_count": null,
   "id": "7f26c627-fc82-4f60-8e0a-c25657f092f9",
   "metadata": {},
   "outputs": [],
   "source": [
    "# LSST Display\n",
    "import lsst.afw.display as afwDisplay\n",
    "afwDisplay.setDefaultBackend('matplotlib')"
   ]
  },
  {
   "cell_type": "code",
   "execution_count": null,
   "id": "aba2cfa4-809a-4f1c-8e8f-9f81547e0b5e",
   "metadata": {},
   "outputs": [],
   "source": [
    "transform = AsinhStretch() + PercentileInterval(99.)"
   ]
  },
  {
   "cell_type": "markdown",
   "id": "351e0468-d4f5-4c9e-b3db-1263499470cc",
   "metadata": {},
   "source": [
    "Import statements that we will need later"
   ]
  },
  {
   "cell_type": "markdown",
   "id": "5db4beba-3082-4754-8e70-26472f1c226c",
   "metadata": {},
   "source": [
    "Let's make a new plot and metric tool, we'll base it on the example in the getting started guide."
   ]
  },
  {
   "cell_type": "code",
   "execution_count": null,
   "id": "b26e1f0b-83be-4348-b87c-88294ec7c8d6",
   "metadata": {},
   "outputs": [],
   "source": [
    "# INSERT YOUR collection and tract\n",
    "# for rehearsal use collection 2 which have CCDvisit\n",
    "butlerRoot = \"/repo/embargo\"\n",
    "\n",
    "collection1 = 'LSSTComCamSim/runs/nightlyvalidation/20240402/d_2024_03_29/DM-43612'\n",
    "collection2 = 'LSSTComCamSim/runs/nightlyvalidation/20240403/d_2024_03_29/DM-43612'\n",
    "collection3 = 'LSSTComCamSim/runs/nightlyvalidation/20240404/d_2024_03_29/DM-43612'\n",
    "collection = 'LATISS/runs/AUXTEL_DRP_IMAGING_20230509_20240311/w_2024_10/PREOPS-4985'\n",
    "collectionn = collection2\n",
    "#collections = [collection1,collection2,collection3]\n",
    "collections = [collection2]\n",
    "collectionStr = collectionn.replace(\"/\", \"_\")\n",
    "fn_ccdVisit_tracts_patches = f\"ccdVisittractpatch_{collectionStr}.csv\"\n",
    "instrument = 'LSSTComCamSim'\n",
    "skymapName = \"ops_rehersal_prep_2k_v1\"\n",
    "where_clause = \"instrument = \\'\" + instrument+ \"\\'\"\n",
    "NDET = 9\n",
    "suptitle=  collectionStr\n",
    "\n",
    "tract = 9880 # mostly for light-curves\n",
    "detector = 0\n",
    "band = 'g'\n",
    "\n",
    "suptitle = collectionStr + f\" inst = {instrument} tract = {tract}\""
   ]
  },
  {
   "cell_type": "code",
   "execution_count": null,
   "id": "3048e2e2-2489-43e0-a96d-848c548700cb",
   "metadata": {},
   "outputs": [],
   "source": [
    "dataId = {\"skymap\": skymapName, \"tract\": tract, \"instrument\": instrument}\n",
    "repo = '/sdf/group/rubin/repo/oga/'\n",
    "butler = dafButler.Butler(repo)\n",
    "#t = Butler.get(table_sel, dataId=dataId, collections=collections)\n",
    "registry = butler.registry"
   ]
  },
  {
   "cell_type": "code",
   "execution_count": null,
   "id": "2b605f6f-3dce-4ceb-a12a-10fe8ef10e4c",
   "metadata": {},
   "outputs": [],
   "source": [
    "def remove_figure(fig):\n",
    "    \"\"\"\n",
    "    Remove a figure to reduce memory footprint.\n",
    "\n",
    "    Parameters\n",
    "    ----------\n",
    "    fig: matplotlib.figure.Figure\n",
    "        Figure to be removed.\n",
    "\n",
    "    Returns\n",
    "    -------\n",
    "    None\n",
    "    \"\"\"\n",
    "    # get the axes and clear their images\n",
    "    for ax in fig.get_axes():\n",
    "        for im in ax.get_images():\n",
    "            im.remove()\n",
    "    fig.clf()       # clear the figure\n",
    "    plt.close(fig)  # close the figure\n",
    "    gc.collect()    # call the garbage collector"
   ]
  },
  {
   "cell_type": "code",
   "execution_count": null,
   "id": "217d9116-61a1-4ab3-9ba4-4cc8668956e8",
   "metadata": {},
   "outputs": [],
   "source": [
    "def get_corners_radec(wcs, bbox):\n",
    "    \"\"\"\n",
    "    Return the corners in RA,Dec in degrees given the WCS and bounding box for an image.\n",
    "\n",
    "    Parameters\n",
    "    ----------\n",
    "    wcs: image WCS returned by the Butler\n",
    "    bbox: bounding box returned by the Butler\n",
    "\n",
    "    Returns\n",
    "    -------\n",
    "    corners_ra, corners_dec in decimal degrees\n",
    "    \"\"\"\n",
    "\n",
    "    corners_x = [bbox.beginX, bbox.beginX, bbox.endX, bbox.endX]\n",
    "    corners_y = [bbox.beginY, bbox.endY, bbox.endY, bbox.beginY]\n",
    "    corners_ra = []\n",
    "    corners_dec = []\n",
    "    for i in range(4):\n",
    "        radec = wcs.pixelToSky(corners_x[i], corners_y[i])\n",
    "        corners_ra.append(radec.getRa().asDegrees())\n",
    "        corners_dec.append(radec.getDec().asDegrees())\n",
    "    \n",
    "    return corners_ra, corners_dec"
   ]
  },
  {
   "cell_type": "code",
   "execution_count": null,
   "id": "81240109-5d2e-4829-82dc-dddc9d4cda05",
   "metadata": {},
   "outputs": [],
   "source": [
    "def convert_fluxtomag(x) :\n",
    "    \"\"\"\n",
    "    The object and source catalogs store only fluxes. There are hundreds of flux-related columns, \n",
    "    and to store them also as magnitudes would be redundant, and a waste of space.\n",
    "    All flux units are nanojanskys. The AB Magnitudes Wikipedia page provides a concise resource \n",
    "    for users unfamiliar with AB magnitudes and jansky fluxes. To convert to AB magnitudes use:\n",
    "    As demonstrated in Section 2.3.2, to add columns of magnitudes after retrieving columns of flux, users can do this:\n",
    "    results_table['r_calibMag'] = -2.50 * numpy.log10(results_table['r_calibFlux']) + 31.4\n",
    "    results_table['r_cModelMag'] = -2.50 * numpy.log10(results_table['r_cModelFlux']) + 31.4\n",
    "    (from DP0 tutorial)\n",
    "    \"\"\"\n",
    "    return -2.50 * np.log10(x) + 31.4"
   ]
  },
  {
   "cell_type": "code",
   "execution_count": null,
   "id": "56f4cf67-cef3-4927-9f02-0d7ecf54c612",
   "metadata": {},
   "outputs": [],
   "source": [
    "import lsst.geom as geom\n",
    "import lsst.sphgeom\n",
    "\n",
    "skymap = butler.get('skyMap', skymap=skymapName, collections=collections )\n",
    "tractInfo = skymap.generateTract(tract)\n",
    "for patch in tractInfo:    \n",
    "    patchID = patch.getSequentialIndex()\n",
    "        \n",
    "    ibb=patch.getInnerBBox()\n",
    "    tWCS=tractInfo.getWcs()\n",
    "       \n",
    "    # loop on the 4 corners\n",
    "    for icorn,corner in enumerate(ibb.getCorners()):\n",
    "        p = geom.Point2D(corner.getX(), corner.getY())\n",
    "        coord = tWCS.pixelToSky(p)\n"
   ]
  },
  {
   "cell_type": "code",
   "execution_count": null,
   "id": "41a61653-4393-4ebf-b9f8-08f146b099df",
   "metadata": {},
   "outputs": [],
   "source": [
    "tWCS"
   ]
  },
  {
   "cell_type": "code",
   "execution_count": null,
   "id": "a2f03b45-10e1-4c74-8e82-1af34112d72b",
   "metadata": {},
   "outputs": [],
   "source": [
    "#arcsec/pixel\n",
    "pixel_scale = tWCS.getPixelScale().asArcseconds()"
   ]
  },
  {
   "cell_type": "markdown",
   "id": "35b5b65f-a6ca-4e98-a54c-d72cf3f5ca89",
   "metadata": {},
   "source": [
    "## Selected visits"
   ]
  },
  {
   "cell_type": "code",
   "execution_count": null,
   "id": "0cc02f38-44dd-4b94-8227-b3db1cbb52f7",
   "metadata": {},
   "outputs": [],
   "source": [
    "#file_selected_visits = os.path.join(\"../Visits\",fn_ccdVisit_tracts_patches)  \n",
    "#df_myselectedvisits = pd.read_csv(file_selected_visits,index_col=0)\n",
    "#cut = (df_myselectedvisits.band == band) &  (df_myselectedvisits.tractID == tract) \n",
    "#df = df_myselectedvisits[cut]"
   ]
  },
  {
   "cell_type": "code",
   "execution_count": null,
   "id": "817f7633-e942-4c18-aea6-687c19b5e694",
   "metadata": {},
   "outputs": [],
   "source": [
    "if 1:\n",
    "    # get the csv file produced by stat_on_visits_LSSTAuxtel.ipynb in ../Visits\n",
    "    file_selected_visits = os.path.join(\"../Visits\",fn_ccdVisit_tracts_patches)\n",
    "    \n",
    "  \n",
    "    df_myselectedvisits = pd.read_csv(file_selected_visits,index_col=0)\n",
    "\n",
    "    # select the band\n",
    "    cut = (df_myselectedvisits.band == band) &  (df_myselectedvisits.tractID == tract) & (df_myselectedvisits.detector == detector)\n",
    "    df_myselectedvisits = df_myselectedvisits[cut]\n",
    "\n",
    "    #move the visitid as a column not to loose it during the merge \n",
    "    df_myselectedvisits.reset_index(inplace=True) \n"
   ]
  },
  {
   "cell_type": "code",
   "execution_count": null,
   "id": "bff3d040-2c91-4d12-a698-45766955841c",
   "metadata": {},
   "outputs": [],
   "source": [
    "index = 10\n",
    "visitId = df_myselectedvisits.iloc[index]['visitId']"
   ]
  },
  {
   "cell_type": "code",
   "execution_count": null,
   "id": "15c8f8b4-5404-4cc5-88c3-33b190228168",
   "metadata": {},
   "outputs": [],
   "source": [
    "datasetType = 'calexpBackground'\n",
    "dataId = {'visit': visitId, 'instrument':instrument , 'detector': 0}\n",
    "datasetRefs = registry.queryDatasets(datasetType, dataId=dataId, collections  = collections)\n",
    "\n",
    "for i, ref in enumerate(datasetRefs):\n",
    "    print(ref.dataId)\n",
    "    print(\"band:\", ref.dataId['band'])\n",
    "    band = ref.dataId['band']"
   ]
  },
  {
   "cell_type": "markdown",
   "id": "bda8d475-f87a-4e0d-be3a-2b37d0e476cc",
   "metadata": {},
   "source": [
    "## One Calexp Background"
   ]
  },
  {
   "cell_type": "code",
   "execution_count": null,
   "id": "b939af2c-1f5d-4320-86fc-f5a9bc7d7a76",
   "metadata": {},
   "outputs": [],
   "source": [
    "%matplotlib widget\n",
    "\n",
    "bkgd = butler.get('calexpBackground', **dataId,collections=collections)\n",
    "img = bkgd.getImage()\n",
    "#wcs = img.getWcs()\n",
    "#bbox = img.getBBox()\n",
    "#corners_ra, corners_dec = get_corners_radec(wcs, bbox)\n",
    "#extent = [np.min(corners_ra),np.max(corners_ra),np.min(corners_dec),np.max(corners_dec)]\n",
    "\n",
    "\n",
    "# Display the image with a suitable scaling\n",
    "data_flat = img.array.flatten()\n",
    "med = np.median(data_flat)\n",
    "sigMad = 1.4826 * np.median(np.fabs(data_flat - med))\n",
    "vmin = med - 3 * sigMad\n",
    "vmax = med + 3 * sigMad\n",
    "\n",
    "fig,axs = plt.subplots(1,1,figsize=(8,6))\n",
    "ax = axs\n",
    "im=ax.imshow(img.array, origin=\"lower\",vmin=vmin, vmax=vmax, cmap=\"Greys\")\n",
    "divider = make_axes_locatable(ax)\n",
    "cax = divider.append_axes(\"right\", size=\"5%\", pad=0.05)\n",
    "the_title = f\"Calexp : visit = {visitId}, band = {band}\"\n",
    "ax.set_title(the_title)\n",
    "ax.grid()\n",
    "ax.set_aspect('equal')\n",
    "plt.colorbar(im, cax=cax,ax=ax)\n",
    "\n",
    "\n",
    "plt.suptitle(collections)\n",
    "plt.tight_layout()\n",
    "plt.show()\n",
    "#remove_figure(fig)"
   ]
  },
  {
   "cell_type": "markdown",
   "id": "2cd84860-be03-43e4-aacd-da9c5a68444b",
   "metadata": {},
   "source": [
    "## Many Background"
   ]
  },
  {
   "cell_type": "code",
   "execution_count": null,
   "id": "b63a7139-b67e-456a-852c-919ac07da96c",
   "metadata": {},
   "outputs": [],
   "source": [
    "df_myselectedvisits.tail(100)"
   ]
  },
  {
   "cell_type": "code",
   "execution_count": null,
   "id": "f87fd1ce-b702-44b8-b016-28b8a2ce5ad3",
   "metadata": {},
   "outputs": [],
   "source": [
    "NROWS = 10\n",
    "NCOLS = 4\n",
    "NIMGS = NROWS*NCOLS\n",
    "index0 = 0"
   ]
  },
  {
   "cell_type": "code",
   "execution_count": null,
   "id": "9f79dc15-b7df-4923-90d9-9c6df02c4db0",
   "metadata": {},
   "outputs": [],
   "source": [
    "fig,axs = plt.subplots(NROWS,NCOLS,figsize=(NCOLS*4,NROWS*3))\n",
    "\n",
    "for index,ax in enumerate(axs.flatten()):\n",
    "    visitId = df_myselectedvisits.iloc[index0+index]['visitId']\n",
    "    dataId = {'visit': visitId, 'instrument':instrument , 'detector': 0}\n",
    "    bkgd = butler.get('calexpBackground', **dataId,collections=collections)\n",
    "    img = bkgd.getImage()\n",
    "\n",
    "    data_flat = img.array.flatten()\n",
    "    med = np.median(data_flat)\n",
    "    sigMad = 1.4826 * np.median(np.fabs(data_flat - med))\n",
    "    vmin = med - 3 * sigMad\n",
    "    vmax = med + 3 * sigMad\n",
    "\n",
    "    im=ax.imshow(img.array, origin=\"lower\",vmin=vmin, vmax=vmax, cmap=\"grey\")\n",
    "    divider = make_axes_locatable(ax)\n",
    "    cax = divider.append_axes(\"right\", size=\"3%\", pad=0.05)\n",
    "    the_title = f\"{visitId},({band},{detector})\"\n",
    "    ax.set_title(the_title)\n",
    "    ax.grid()\n",
    "    ax.set_aspect('equal')\n",
    "    plt.colorbar(im, cax=cax,ax=ax)\n",
    "\n",
    "plt.suptitle(collections)\n",
    "plt.tight_layout()\n",
    "plt.show()\n",
    "#remove_figure(fig)"
   ]
  },
  {
   "cell_type": "markdown",
   "id": "cdf1dead-bedc-4752-be90-ade0341b7ff3",
   "metadata": {},
   "source": [
    "## Background flux (nJ)"
   ]
  },
  {
   "cell_type": "code",
   "execution_count": null,
   "id": "43610621-b902-4c19-8475-8edb277a88aa",
   "metadata": {},
   "outputs": [],
   "source": [
    "fig,axs = plt.subplots(NROWS,NCOLS,figsize=(NCOLS*3,NROWS*3))\n",
    "\n",
    "for index,ax in enumerate(axs.flatten()):\n",
    "    visitId = df_myselectedvisits.iloc[index0+index]['visitId']\n",
    "    dataId = {'visit': visitId, 'instrument':instrument , 'detector': 0}\n",
    "    bkgd = butler.get('calexpBackground', **dataId,collections=collections)\n",
    "    img = bkgd.getImage()\n",
    "\n",
    "    data_flat = img.array.flatten()\n",
    "    mu = np.mean(data_flat)\n",
    "    med = np.median(data_flat)\n",
    "    sigMad = 1.4826 * np.median(np.fabs(data_flat - med))\n",
    "    vmin = med - 3 * sigMad\n",
    "    vmax = med + 3 * sigMad\n",
    "\n",
    "    \n",
    "    textstr = '\\n'.join((\n",
    "    r'$\\mu=%.2f$ nJ/pix' % (mu, ),\n",
    "    r'$\\mathrm{med}=%.2f$ nJ/pix' % (med, ),\n",
    "    r'$\\mathrm{med}=%.2f$ mag/arcsec2' % (convert_fluxtomag(med/pixel_scale**2), ),\n",
    "    r'$\\sigma=%.2f$ nJ/pix' % (sigMad, ),\n",
    "    r'$\\sigma=%.1f$ mag/arcsec2' % (convert_fluxtomag(sigMad/pixel_scale**2), )))\n",
    "\n",
    "    histdata = ax.hist(data_flat,bins=50,range=(vmin,vmax),histtype=\"step\",color=\"b\",lw=2)\n",
    "    \n",
    "    props = dict(boxstyle='round', facecolor='wheat', alpha=0.5)\n",
    "    ax.text(0.05, 0.95, textstr, transform=ax.transAxes, fontsize=10,verticalalignment='top', bbox=props)\n",
    "    \n",
    "    the_title = f\"{visitId},{band}\"\n",
    "    ax.set_title(the_title)\n",
    "    ax.set_xlabel(\"Background flux (nJ)\")\n",
    "    ax.grid()\n",
    "    ax.set_ylim(0.,histdata[0].max()*2.)\n",
    "  \n",
    "plt.suptitle(collections)\n",
    "plt.tight_layout()\n",
    "plt.show()\n",
    "#remove_figure(fig)"
   ]
  },
  {
   "cell_type": "markdown",
   "id": "3777169d-3c8e-4235-8956-0d03b2b6a29d",
   "metadata": {},
   "source": [
    "## Background flux (nJ) in not masked pixels"
   ]
  },
  {
   "cell_type": "code",
   "execution_count": null,
   "id": "820ad670-3a25-41d6-a3cf-422ed2efbf15",
   "metadata": {},
   "outputs": [],
   "source": [
    "fig,axs = plt.subplots(NROWS,NCOLS,figsize=(NCOLS*3,NROWS*3))\n",
    "\n",
    "for index,ax in enumerate(axs.flatten()):\n",
    "    visitId = df_myselectedvisits.iloc[index0+index]['visitId']\n",
    "    dataId = {'visit': visitId, 'instrument':instrument , 'detector': 0}\n",
    "    calexp = butler.get('calexp', **dataId,collections=collections)\n",
    "    mask = calexp.mask.array\n",
    "    the_mask = np.where(mask==0,1,0)\n",
    "    bkgd = butler.get('calexpBackground', **dataId,collections=collections)\n",
    "    img = bkgd.getImage().array* the_mask\n",
    "\n",
    "    data_flat = img.flatten()\n",
    "    data_flat_nozero = data_flat[~(data_flat==0)]\n",
    "    mu = np.mean(data_flat_nozero )\n",
    "    med = np.median(data_flat_nozero )\n",
    "    sigMad_nozero  = 1.4826 * np.median(np.fabs(data_flat_nozero  - med))\n",
    "    vmin = med - 3 * sigMad_nozero \n",
    "    vmax = med + 3 * sigMad_nozero \n",
    "\n",
    "    \n",
    "    textstr = '\\n'.join((\n",
    "    r'$\\mu=%.2f$ nJ/pix' % (mu, ),\n",
    "    r'$\\mathrm{med}=%.2f$ nJ/pix' % (med, ),\n",
    "    r'$\\mathrm{med}=%.2f$ mag/arcsec2' % (convert_fluxtomag(med/pixel_scale**2), ),\n",
    "    r'$\\sigma=%.2f$ nJ/pix' % (sigMad_nozero , ),\n",
    "    r'$\\sigma=%.1f$ mag/arcsec2' % (convert_fluxtomag(sigMad_nozero/pixel_scale**2 ), )))\n",
    "\n",
    "    histdata = ax.hist(data_flat,bins=50,range=(vmin,vmax),histtype=\"step\",color=\"b\",lw=2)\n",
    "    \n",
    "    props = dict(boxstyle='round', facecolor='wheat', alpha=0.5)\n",
    "    ax.text(0.05, 0.95, textstr, transform=ax.transAxes, fontsize=10,verticalalignment='top', bbox=props)\n",
    "    \n",
    "    the_title = f\"{visitId},{band}\"\n",
    "    ax.set_title(the_title)\n",
    "    ax.set_xlabel(\"Background flux (nJ/pixel)\")\n",
    "    ax.grid()\n",
    "    ax.set_ylim(0.,histdata[0].max()*2.)\n",
    "  \n",
    "plt.suptitle(collections)\n",
    "plt.tight_layout()\n",
    "plt.show()\n",
    "#remove_figure(fig)"
   ]
  },
  {
   "cell_type": "code",
   "execution_count": null,
   "id": "6fcb89db-abe6-42bd-9d51-d314d3c908ff",
   "metadata": {},
   "outputs": [],
   "source": []
  },
  {
   "cell_type": "markdown",
   "id": "768d288d-3d1c-40b4-aefe-6b893ebe7d0d",
   "metadata": {},
   "source": [
    "## Background in Mag"
   ]
  },
  {
   "cell_type": "code",
   "execution_count": null,
   "id": "b4094046-506d-4bb3-8a9b-bf62898e15ba",
   "metadata": {},
   "outputs": [],
   "source": [
    "fig,axs = plt.subplots(NROWS,NCOLS,figsize=(NCOLS*3,NROWS*3))\n",
    "\n",
    "for index,ax in enumerate(axs.flatten()):\n",
    "    visitId = df_myselectedvisits.iloc[index0+index]['visitId']\n",
    "    dataId = {'visit': visitId, 'instrument':instrument , 'detector': 0}\n",
    "    bkgd = butler.get('calexpBackground', **dataId,collections=collections)\n",
    "    img = bkgd.getImage()\n",
    "\n",
    "    data_flat = img.array.flatten()\n",
    "    med = np.median(data_flat)\n",
    "    sigMad = 1.4826 * np.median(np.fabs(data_flat - med))\n",
    "    vmin = med - 3 * sigMad\n",
    "    vmax = med + 3 * sigMad\n",
    "\n",
    "    data_flat_mag = -2.5*np.log10((data_flat/med))*1000\n",
    "    mu_mag = np.mean(data_flat_mag)\n",
    "    med_mag = np.median(data_flat_mag)\n",
    "    sigMad_mag = 1.4826 * np.median(np.fabs(data_flat_mag - med_mag))\n",
    "    vmin = med_mag - 3 * sigMad_mag\n",
    "    vmax = med_mag + 3 * sigMad_mag\n",
    "    textstr = '\\n'.join((\n",
    "    r'$\\mu=%.2f$ mmag' % (mu_mag, ),\n",
    "    r'$\\mathrm{med}=%.2f$ mmag' % (med_mag, ),\n",
    "    r'$\\sigma=%.2f$ mmag' % (sigMad_mag , )))\n",
    "\n",
    "    histdata = ax.hist(data_flat_mag,bins=50,range=(vmin,vmax),histtype=\"step\",color=\"b\",lw=2)\n",
    "    \n",
    "    props = dict(boxstyle='round', facecolor='wheat', alpha=0.5)\n",
    "    ax.text(0.05, 0.95, textstr, transform=ax.transAxes, fontsize=10,verticalalignment='top', bbox=props)\n",
    "    \n",
    "    the_title = f\"{visitId},({band},{detector})\"\n",
    "    ax.set_title(the_title)\n",
    "    ax.set_xlabel(\"rel Mag (mmag)\")\n",
    "    ax.grid()\n",
    "    ax.set_ylim(0.,histdata[0].max()*1.4)\n",
    "  \n",
    "plt.suptitle(collections)\n",
    "plt.tight_layout()\n",
    "plt.show()\n",
    "#remove_figure(fig)"
   ]
  },
  {
   "cell_type": "code",
   "execution_count": null,
   "id": "e1baa824-9efe-4592-9ab5-e4372c776ba0",
   "metadata": {},
   "outputs": [],
   "source": []
  },
  {
   "cell_type": "code",
   "execution_count": null,
   "id": "5bcc9555-3df6-4e5c-af75-1cb4f553db83",
   "metadata": {},
   "outputs": [],
   "source": []
  }
 ],
 "metadata": {
  "kernelspec": {
   "display_name": "LSST",
   "language": "python",
   "name": "lsst"
  },
  "language_info": {
   "codemirror_mode": {
    "name": "ipython",
    "version": 3
   },
   "file_extension": ".py",
   "mimetype": "text/x-python",
   "name": "python",
   "nbconvert_exporter": "python",
   "pygments_lexer": "ipython3",
   "version": "3.11.7"
  }
 },
 "nbformat": 4,
 "nbformat_minor": 5
}
