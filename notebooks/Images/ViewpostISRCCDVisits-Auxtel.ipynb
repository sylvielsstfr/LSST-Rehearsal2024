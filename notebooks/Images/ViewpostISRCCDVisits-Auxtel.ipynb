{
 "cells": [
  {
   "cell_type": "markdown",
   "id": "45bf4242-bfc5-4d43-88c4-a8059ae148df",
   "metadata": {},
   "source": [
    "# Visit PostISRCCD Images from Selected visits LSST in Auxtel"
   ]
  },
  {
   "cell_type": "markdown",
   "id": "01993b6e-6438-4fca-a5d5-1f9791336847",
   "metadata": {},
   "source": [
    "- author Sylvie Dagoret-Campagne\n",
    "- creation date 2024-05-06\n",
    "- last update 2024-05-07\n",
    "- affiliation : IJCLab\n",
    "- kernel : **w_2024_16**"
   ]
  },
  {
   "cell_type": "code",
   "execution_count": null,
   "id": "bf752b70-e6ca-4cbf-8e8c-20bf7f0d8f61",
   "metadata": {},
   "outputs": [],
   "source": [
    "import numpy as np\n",
    "import matplotlib.pyplot as plt\n",
    "%matplotlib inline\n",
    "from mpl_toolkits.axes_grid1 import make_axes_locatable\n",
    "from matplotlib.colors import LogNorm,SymLogNorm\n",
    "\n",
    "\n",
    "import matplotlib.ticker                         # here's where the formatter is\n",
    "from matplotlib.ticker import (MultipleLocator, FormatStrFormatter,\n",
    "                               AutoMinorLocator)\n",
    "\n",
    "from astropy.visualization import (MinMaxInterval, SqrtStretch,ZScaleInterval,PercentileInterval,\n",
    "                                   ImageNormalize,imshow_norm)\n",
    "from astropy.visualization.stretch import SinhStretch, LinearStretch,AsinhStretch,LogStretch\n",
    "\n",
    "from astropy.io import fits\n",
    "from astropy.wcs import WCS\n",
    "\n",
    "\n",
    "import pandas as pd\n",
    "\n",
    "import matplotlib.ticker                         # here's where the formatter is\n",
    "import os\n",
    "import re\n",
    "import pandas as pd\n",
    "import pickle\n",
    "from collections import OrderedDict\n",
    "\n",
    "plt.rcParams[\"figure.figsize\"] = (4,3)\n",
    "plt.rcParams[\"axes.labelsize\"] = 'x-large'\n",
    "plt.rcParams['axes.titlesize'] = 'x-large'\n",
    "plt.rcParams['xtick.labelsize']= 'x-large'\n",
    "plt.rcParams['ytick.labelsize']= 'x-large'"
   ]
  },
  {
   "cell_type": "code",
   "execution_count": null,
   "id": "5bdc790b-44bc-4f52-96d1-952f86dcd516",
   "metadata": {},
   "outputs": [],
   "source": [
    "import gc"
   ]
  },
  {
   "cell_type": "code",
   "execution_count": null,
   "id": "0ca0d1e6-5f82-4c43-aaa3-8524fc2bc5ba",
   "metadata": {},
   "outputs": [],
   "source": [
    "from matplotlib.ticker import (MultipleLocator, FormatStrFormatter,\n",
    "                               AutoMinorLocator)\n",
    "\n",
    "from astropy.visualization import (MinMaxInterval, SqrtStretch,ZScaleInterval,PercentileInterval,\n",
    "                                   ImageNormalize,imshow_norm)\n",
    "from astropy.visualization.stretch import SinhStretch, LinearStretch,AsinhStretch,LogStretch\n",
    "\n",
    "from astropy.time import Time\n"
   ]
  },
  {
   "cell_type": "code",
   "execution_count": null,
   "id": "51ddfce4-9a0f-4804-bc6a-7f9138874f16",
   "metadata": {},
   "outputs": [],
   "source": [
    "import lsst.daf.butler as dafButler\n",
    "#import lsst.summit.utils.butlerUtils as butlerUtils"
   ]
  },
  {
   "cell_type": "code",
   "execution_count": null,
   "id": "34f037b5-b6a2-4f93-b86b-a6108d8a5ea7",
   "metadata": {},
   "outputs": [],
   "source": [
    "import lsst.afw.image as afwImage\n",
    "import lsst.afw.display as afwDisplay\n",
    "import lsst.afw.table as afwTable\n",
    "import lsst.geom as geom"
   ]
  },
  {
   "cell_type": "code",
   "execution_count": null,
   "id": "7f26c627-fc82-4f60-8e0a-c25657f092f9",
   "metadata": {},
   "outputs": [],
   "source": [
    "# LSST Display\n",
    "import lsst.afw.display as afwDisplay\n",
    "afwDisplay.setDefaultBackend('matplotlib')"
   ]
  },
  {
   "cell_type": "code",
   "execution_count": null,
   "id": "aba2cfa4-809a-4f1c-8e8f-9f81547e0b5e",
   "metadata": {},
   "outputs": [],
   "source": [
    "transform = AsinhStretch() + PercentileInterval(99.)"
   ]
  },
  {
   "cell_type": "markdown",
   "id": "351e0468-d4f5-4c9e-b3db-1263499470cc",
   "metadata": {},
   "source": [
    "Import statements that we will need later"
   ]
  },
  {
   "cell_type": "markdown",
   "id": "5db4beba-3082-4754-8e70-26472f1c226c",
   "metadata": {},
   "source": [
    "Let's make a new plot and metric tool, we'll base it on the example in the getting started guide."
   ]
  },
  {
   "cell_type": "code",
   "execution_count": null,
   "id": "b26e1f0b-83be-4348-b87c-88294ec7c8d6",
   "metadata": {},
   "outputs": [],
   "source": [
    "# INSERT YOUR collection and tract\n",
    "# for rehearsal use collection 2 which have CCDvisit\n",
    "butlerRoot = \"/repo/embargo\"\n",
    "\n",
    "collection1 = 'LSSTComCamSim/runs/nightlyvalidation/20240402/d_2024_03_29/DM-43612'\n",
    "collection2 = 'LSSTComCamSim/runs/nightlyvalidation/20240403/d_2024_03_29/DM-43612'\n",
    "collection3 = 'LSSTComCamSim/runs/nightlyvalidation/20240404/d_2024_03_29/DM-43612'\n",
    "collection = 'LATISS/runs/AUXTEL_DRP_IMAGING_20230509_20240311/w_2024_10/PREOPS-4985'\n",
    "collectionn = collection\n",
    "#collections = [collection1,collection2,collection3]\n",
    "collections = [collection]\n",
    "collectionStr = collectionn.replace(\"/\", \"_\")\n",
    "fn_ccdVisit_tracts_patches = f\"ccdVisittractpatch_{collectionStr}.csv\"\n",
    "instrument = 'LATISS'\n",
    "skymapName = \"latiss_v1\"\n",
    "where_clause = \"instrument = \\'\" + instrument+ \"\\'\"\n",
    "tract = 3864 # mostly for light-curves\n",
    "patch_sel = 236\n",
    "band = 'g'\n",
    "#tract = 5615\n",
    "# tract = 5634 # interesting to view calib parameters\n",
    "suptitle = collectionStr + f\" inst = {instrument} tract = {tract}\""
   ]
  },
  {
   "cell_type": "code",
   "execution_count": null,
   "id": "3048e2e2-2489-43e0-a96d-848c548700cb",
   "metadata": {},
   "outputs": [],
   "source": [
    "#dataId = {\"skymap\": \"latiss_v1\", \"tract\": 5615, \"instrument\": \"LATISS\"}\n",
    "dataId = {\"skymap\": skymapName, \"tract\": tract, \"instrument\": instrument}\n",
    "repo = '/sdf/group/rubin/repo/oga/'\n",
    "butler = dafButler.Butler(repo)\n",
    "#t = Butler.get(table_sel, dataId=dataId, collections=collections)\n",
    "registry = butler.registry"
   ]
  },
  {
   "cell_type": "code",
   "execution_count": null,
   "id": "d87b3bde-871f-4eba-87f7-1ee1ade704c5",
   "metadata": {},
   "outputs": [],
   "source": [
    "skymap = butler.get('skyMap', skymap=skymapName, collections=collections)"
   ]
  },
  {
   "cell_type": "code",
   "execution_count": null,
   "id": "f9a004b6-49ea-4c8f-b2df-e068fd55f673",
   "metadata": {},
   "outputs": [],
   "source": [
    "def remove_figure(fig):\n",
    "    \"\"\"\n",
    "    Remove a figure to reduce memory footprint.\n",
    "\n",
    "    Parameters\n",
    "    ----------\n",
    "    fig: matplotlib.figure.Figure\n",
    "        Figure to be removed.\n",
    "\n",
    "    Returns\n",
    "    -------\n",
    "    None\n",
    "    \"\"\"\n",
    "    # get the axes and clear their images\n",
    "    for ax in fig.get_axes():\n",
    "        for im in ax.get_images():\n",
    "            im.remove()\n",
    "    fig.clf()       # clear the figure\n",
    "    plt.close(fig)  # close the figure\n",
    "    gc.collect()    # call the garbage collector"
   ]
  },
  {
   "cell_type": "code",
   "execution_count": null,
   "id": "217d9116-61a1-4ab3-9ba4-4cc8668956e8",
   "metadata": {},
   "outputs": [],
   "source": [
    "def get_corners_radec(wcs, bbox):\n",
    "    \"\"\"\n",
    "    Return the corners in RA,Dec in degrees given the WCS and bounding box for an image.\n",
    "\n",
    "    Parameters\n",
    "    ----------\n",
    "    wcs: image WCS returned by the Butler\n",
    "    bbox: bounding box returned by the Butler\n",
    "\n",
    "    Returns\n",
    "    -------\n",
    "    corners_ra, corners_dec in decimal degrees\n",
    "    \"\"\"\n",
    "\n",
    "    corners_x = [bbox.beginX, bbox.beginX, bbox.endX, bbox.endX]\n",
    "    corners_y = [bbox.beginY, bbox.endY, bbox.endY, bbox.beginY]\n",
    "    corners_ra = []\n",
    "    corners_dec = []\n",
    "    for i in range(4):\n",
    "        radec = wcs.pixelToSky(corners_x[i], corners_y[i])\n",
    "        corners_ra.append(radec.getRa().asDegrees())\n",
    "        corners_dec.append(radec.getDec().asDegrees())\n",
    "    \n",
    "    return corners_ra, corners_dec"
   ]
  },
  {
   "cell_type": "code",
   "execution_count": null,
   "id": "81240109-5d2e-4829-82dc-dddc9d4cda05",
   "metadata": {},
   "outputs": [],
   "source": [
    "def convert_fluxtomag(x) :\n",
    "    \"\"\"\n",
    "    The object and source catalogs store only fluxes. There are hundreds of flux-related columns, \n",
    "    and to store them also as magnitudes would be redundant, and a waste of space.\n",
    "    All flux units are nanojanskys. The AB Magnitudes Wikipedia page provides a concise resource \n",
    "    for users unfamiliar with AB magnitudes and jansky fluxes. To convert to AB magnitudes use:\n",
    "    As demonstrated in Section 2.3.2, to add columns of magnitudes after retrieving columns of flux, users can do this:\n",
    "    results_table['r_calibMag'] = -2.50 * numpy.log10(results_table['r_calibFlux']) + 31.4\n",
    "    results_table['r_cModelMag'] = -2.50 * numpy.log10(results_table['r_cModelFlux']) + 31.4\n",
    "    (from DP0 tutorial)\n",
    "    \"\"\"\n",
    "    return -2.50 * np.log10(x) + 31.4"
   ]
  },
  {
   "cell_type": "markdown",
   "id": "06424808-67d0-45bc-aae3-d8284363b7b7",
   "metadata": {},
   "source": [
    "## Get pixel scale"
   ]
  },
  {
   "cell_type": "code",
   "execution_count": null,
   "id": "5cec8b2e-241d-439e-bfc1-70d902fcbbee",
   "metadata": {},
   "outputs": [],
   "source": [
    "import lsst.geom as geom\n",
    "import lsst.sphgeom\n",
    "\n",
    "skymap = butler.get('skyMap', skymap=skymapName, collections=collections )\n",
    "tractInfo = skymap.generateTract(tract)\n",
    "for patch in tractInfo:    \n",
    "    patchID = patch.getSequentialIndex()\n",
    "        \n",
    "    ibb=patch.getInnerBBox()\n",
    "    tWCS=tractInfo.getWcs()\n",
    "       \n",
    "    # loop on the 4 corners\n",
    "    for icorn,corner in enumerate(ibb.getCorners()):\n",
    "        p = geom.Point2D(corner.getX(), corner.getY())\n",
    "        coord = tWCS.pixelToSky(p)\n"
   ]
  },
  {
   "cell_type": "code",
   "execution_count": null,
   "id": "412b882e-68f3-4b46-8283-6bdad7bf4464",
   "metadata": {},
   "outputs": [],
   "source": [
    "tWCS"
   ]
  },
  {
   "cell_type": "code",
   "execution_count": null,
   "id": "2df2b74e-4069-4f4a-9519-99584abbd760",
   "metadata": {},
   "outputs": [],
   "source": [
    "#arcsec/pixel\n",
    "pixel_scale = tWCS.getPixelScale().asArcseconds()"
   ]
  },
  {
   "cell_type": "markdown",
   "id": "35b5b65f-a6ca-4e98-a54c-d72cf3f5ca89",
   "metadata": {},
   "source": [
    "## Selected visits"
   ]
  },
  {
   "cell_type": "code",
   "execution_count": null,
   "id": "817f7633-e942-4c18-aea6-687c19b5e694",
   "metadata": {},
   "outputs": [],
   "source": [
    "if 1:\n",
    "    # get the csv file produced by stat_on_visits_LSSTAuxtel.ipynb in ../Visits\n",
    "    #file_selected_visits = \"../Visits/ccdVisittractpatch_LATISS_runs_AUXTEL_DRP_IMAGING_20230509_20240311_w_2024_10_PREOPS-4985.csv\"\n",
    "    file_selected_visits = os.path.join(\"../Visits\",fn_ccdVisit_tracts_patches)\n",
    "    \n",
    "    df_myselectedvisits = pd.read_csv(file_selected_visits,index_col=0)\n",
    "\n",
    "    # select the band\n",
    "    cut = (df_myselectedvisits.band == band) &  (df_myselectedvisits.tractID == tract) & (df_myselectedvisits.patchID == patch_sel)\n",
    "    df_myselectedvisits = df_myselectedvisits[cut]\n",
    "\n",
    "    #move the visitid as a column not to loose it during the merge \n",
    "    df_myselectedvisits.reset_index(inplace=True) \n"
   ]
  },
  {
   "cell_type": "code",
   "execution_count": null,
   "id": "bff3d040-2c91-4d12-a698-45766955841c",
   "metadata": {},
   "outputs": [],
   "source": [
    "index = 0\n",
    "visitId = df_myselectedvisits.iloc[index]['visitId']"
   ]
  },
  {
   "cell_type": "markdown",
   "id": "0c0a7440-40af-4927-a4df-3fb16ab52f6b",
   "metadata": {},
   "source": [
    "Note here:\n",
    "- zeroPoint is in ABMag\n",
    "- skyBg is in ADU (but don't know if in pixel or in arcsec2)\n",
    "- skyNoise is in ADU (but don't know if in pixel or in arcsec2)"
   ]
  },
  {
   "cell_type": "code",
   "execution_count": null,
   "id": "a5053bfc-79e0-4792-8b72-0f94bdc0f149",
   "metadata": {},
   "outputs": [],
   "source": [
    "df_myselectedvisits.iloc[index]"
   ]
  },
  {
   "cell_type": "code",
   "execution_count": null,
   "id": "15c8f8b4-5404-4cc5-88c3-33b190228168",
   "metadata": {},
   "outputs": [],
   "source": [
    "datasetType = 'postISRCCD'\n",
    "dataId = {'visit': visitId, 'instrument':instrument , 'detector': 0}\n",
    "datasetRefs = registry.queryDatasets(datasetType, dataId=dataId, collections  = collections)\n",
    "\n",
    "for i, ref in enumerate(datasetRefs):\n",
    "    print(ref.dataId)\n",
    "    print(\"band:\", ref.dataId['band'])\n",
    "    band = ref.dataId['band']\n",
    "    img= butler.get(ref)\n",
    "    md = img.getMetadata().toDict()\n",
    "\n",
    "    list_of_keys = list(md.keys())\n",
    "    for key in list_of_keys:\n",
    "        if \"CALIB\" in key:\n",
    "            print(key,\"::\",md[key])"
   ]
  },
  {
   "cell_type": "markdown",
   "id": "bda8d475-f87a-4e0d-be3a-2b37d0e476cc",
   "metadata": {},
   "source": [
    "## One postISRCCD and One Calexp"
   ]
  },
  {
   "cell_type": "code",
   "execution_count": null,
   "id": "92832ba5-ebc9-4f2a-98be-6efc3268f12d",
   "metadata": {},
   "outputs": [],
   "source": [
    "def getvmivmaxfromimg(arr):\n",
    "    data_flat = arr.flatten()\n",
    "    med = np.median(data_flat)\n",
    "    sigMad = 1.4826 * np.median(np.fabs(data_flat - med))\n",
    "    vmin = med - 3 * sigMad\n",
    "    vmax = med + 3 * sigMad\n",
    "    return vmin,vmax"
   ]
  },
  {
   "cell_type": "code",
   "execution_count": null,
   "id": "b939af2c-1f5d-4320-86fc-f5a9bc7d7a76",
   "metadata": {},
   "outputs": [],
   "source": [
    "%matplotlib widget\n",
    "\n",
    "calexp = butler.get('calexp', **dataId,collections=collections)\n",
    "bkgd  = butler.get('calexpBackground', **dataId,collections=collections)\n",
    "# get the calibration constant  : expo_photocalibconstant_mean in nJ per ADU. To convert it in AB-Mag : convert_fluxtomag(expo_photocalibconstant_mean) --> zero point\n",
    "calexp_info = calexp.getInfo()\n",
    "photocalib = calexp_info.getPhotoCalib()\n",
    "expo_photocalibconstant_mean = photocalib.getCalibrationMean()\n",
    "\n",
    "mask = calexp.mask.array\n",
    "the_mask = np.where(mask==0,1,0)\n",
    "img1 = calexp.getImage()\n",
    "vmin1,vmax1 = getvmivmaxfromimg(img1.array)\n",
    "print(calexp.getPhotoCalib())\n",
    "\n",
    "datasetRefs = registry.queryDatasets('postISRCCD', dataId=dataId, collections  = collections)\n",
    "for i, ref in enumerate(datasetRefs):\n",
    "    print(ref.dataId)\n",
    "    expo  = butler.get(ref)\n",
    "    img2 = expo.getImage()\n",
    "#wcs = img.getWcs()\n",
    "#bbox = img.getBBox()\n",
    "#corners_ra, corners_dec = get_corners_radec(wcs, bbox)\n",
    "#extent = [np.min(corners_ra),np.max(corners_ra),np.min(corners_dec),np.max(corners_dec)]\n",
    "vmin2,vmax2 = getvmivmaxfromimg(img2.array)\n",
    "\n",
    "\n",
    "fig,axs = plt.subplots(3,2,figsize=(16,18))\n",
    "\n",
    "axs = axs.flatten()\n",
    "\n",
    "ax1 = axs[0]\n",
    "\n",
    "im1=ax1.imshow(img1.array, origin=\"lower\",vmin=vmin1, vmax=vmax1, cmap=\"gray\")\n",
    "divider = make_axes_locatable(ax1)\n",
    "cax1 = divider.append_axes(\"right\", size=\"5%\", pad=0.05)\n",
    "the_title = f\"Calexp : visit = {visitId}, band = {band}\"\n",
    "ax1.set_title(the_title)\n",
    "ax1.grid()\n",
    "ax1.set_aspect('equal')\n",
    "plt.colorbar(im1, cax=cax1,ax=ax1)\n",
    "\n",
    "\n",
    "ax2 = axs[1]\n",
    "im2=ax2.imshow(img2.array, origin=\"lower\",vmin=vmin2, vmax=vmax2, cmap=\"gray\")\n",
    "divider = make_axes_locatable(ax2)\n",
    "cax2 = divider.append_axes(\"right\", size=\"5%\", pad=0.05)\n",
    "the_title = f\"postISRCCD : visit = {visitId}, band = {band}\"\n",
    "ax2.set_title(the_title)\n",
    "ax2.grid()\n",
    "ax2.set_aspect('equal')\n",
    "plt.colorbar(im2, cax=cax2,ax=ax2)\n",
    "\n",
    "ax3 = axs[2]\n",
    "arr3 = img1.array*the_mask\n",
    "vmin3,vmax3 = getvmivmaxfromimg(arr3)\n",
    "im3=ax3.imshow(arr3, origin=\"lower\",vmin=vmin3, vmax=vmax3, cmap=\"gray\")\n",
    "divider = make_axes_locatable(ax3)\n",
    "cax3 = divider.append_axes(\"right\", size=\"5%\", pad=0.05)\n",
    "the_title = f\"mask Calexp : visit = {visitId}, band = {band}\"\n",
    "ax3.set_title(the_title)\n",
    "ax3.grid()\n",
    "ax3.set_aspect('equal')\n",
    "plt.colorbar(im3, cax=cax3,ax=ax3)\n",
    "\n",
    "ax4 = axs[3]\n",
    "arr4 = img2.array*the_mask\n",
    "vmin4,vmax4 = getvmivmaxfromimg(arr4)\n",
    "im4=ax4.imshow(arr4, origin=\"lower\",vmin=vmin4, vmax=vmax4, cmap=\"gray\")\n",
    "divider = make_axes_locatable(ax4)\n",
    "cax4 = divider.append_axes(\"right\", size=\"5%\", pad=0.05)\n",
    "the_title = f\"mask postISRCCD : visit = {visitId}, band = {band}\"\n",
    "ax4.set_title(the_title)\n",
    "ax4.grid()\n",
    "ax4.set_aspect('equal')\n",
    "plt.colorbar(im4, cax=cax4,ax=ax4)\n",
    "\n",
    "\n",
    "ax5 = axs[4]\n",
    "arr5 = (calexp.getImage().array+ bkgd.getImage().array)\n",
    "vmin5,vmax5 = getvmivmaxfromimg(arr5)\n",
    "im5=ax5.imshow(arr5, origin=\"lower\",vmin=vmin5, vmax=vmax5, cmap=\"gray\")\n",
    "divider = make_axes_locatable(ax5)\n",
    "cax5 = divider.append_axes(\"right\", size=\"5%\", pad=0.05)\n",
    "the_title = f\"calexp+bkg/calib : visit = {visitId}, band = {band}\"\n",
    "ax5.set_title(the_title)\n",
    "ax5.grid()\n",
    "ax5.set_aspect('equal')\n",
    "plt.colorbar(im5, cax=cax5,ax=ax5)\n",
    "\n",
    "\n",
    "ax6 = axs[5]\n",
    "arr6 = (calexp.getImage().array+ bkgd.getImage().array) - img2.array\n",
    "vmin6,vmax6 = getvmivmaxfromimg(arr6)\n",
    "im6=ax6.imshow(arr6, origin=\"lower\",vmin=vmin6, vmax=vmax6, cmap=\"gray\")\n",
    "divider = make_axes_locatable(ax6)\n",
    "cax6 = divider.append_axes(\"right\", size=\"5%\", pad=0.05)\n",
    "the_title = f\"calexp+bkg-postisr : visit = {visitId}, band = {band}\"\n",
    "ax6.set_title(the_title)\n",
    "ax6.grid()\n",
    "ax6.set_aspect('equal')\n",
    "plt.colorbar(im6, cax=cax6,ax=ax6)\n",
    "\n",
    "\n",
    "\n",
    "plt.suptitle(collections)\n",
    "plt.tight_layout()\n",
    "plt.show()\n",
    "#remove_figure(fig)"
   ]
  },
  {
   "cell_type": "markdown",
   "id": "64af7126-a2d3-449c-adc1-13583f61f9ad",
   "metadata": {},
   "source": [
    "- Factor by which ADU x this factor = Flux in nJy"
   ]
  },
  {
   "cell_type": "code",
   "execution_count": null,
   "id": "c0965893-aa78-48eb-a432-00d1e54af619",
   "metadata": {},
   "outputs": [],
   "source": [
    "photocalib "
   ]
  },
  {
   "cell_type": "markdown",
   "id": "e2893342-f291-4a1d-b460-b19508d1f5b2",
   "metadata": {},
   "source": [
    "- convert this factor in ABMag, related to zeropoint in CCDVisitTable"
   ]
  },
  {
   "cell_type": "code",
   "execution_count": null,
   "id": "56ab9c37-f8c3-4450-a1f4-8b358330abdb",
   "metadata": {},
   "outputs": [],
   "source": [
    "print(expo_photocalibconstant_mean,convert_fluxtomag(expo_photocalibconstant_mean) )"
   ]
  },
  {
   "cell_type": "code",
   "execution_count": null,
   "id": "d2177f2c-121b-426b-a387-a224b5122189",
   "metadata": {},
   "outputs": [],
   "source": [
    "calexp_info = calexp.getInfo()\n",
    "#calexp_info.getMetadata().toDict() "
   ]
  },
  {
   "cell_type": "markdown",
   "id": "2cd84860-be03-43e4-aacd-da9c5a68444b",
   "metadata": {},
   "source": [
    "## Many PostISRCCD"
   ]
  },
  {
   "cell_type": "code",
   "execution_count": null,
   "id": "b63a7139-b67e-456a-852c-919ac07da96c",
   "metadata": {},
   "outputs": [],
   "source": [
    "df_myselectedvisits.tail(100)"
   ]
  },
  {
   "cell_type": "code",
   "execution_count": null,
   "id": "f87fd1ce-b702-44b8-b016-28b8a2ce5ad3",
   "metadata": {},
   "outputs": [],
   "source": [
    "NROWS = 10\n",
    "NCOLS = 3\n",
    "NIMGS = NROWS*NCOLS\n",
    "index0 = 160"
   ]
  },
  {
   "cell_type": "code",
   "execution_count": null,
   "id": "9f79dc15-b7df-4923-90d9-9c6df02c4db0",
   "metadata": {},
   "outputs": [],
   "source": [
    "fig,axs = plt.subplots(NROWS,NCOLS,figsize=(NCOLS*4,NROWS*3))\n",
    "\n",
    "for index,ax in enumerate(axs.flatten()):\n",
    "\n",
    "    visitId = df_myselectedvisits.iloc[index0+index]['visitId']\n",
    "    dataId = {'visit': visitId, 'instrument':instrument , 'detector': 0}\n",
    "    datasetType = 'postISRCCD'\n",
    "\n",
    "    datasetRefs = registry.queryDatasets(datasetType, dataId=dataId, collections  = collections)\n",
    "    for i, ref in enumerate(datasetRefs):\n",
    "        print(ref.dataId)\n",
    "        expo  = butler.get(ref)\n",
    "        img = expo.getImage()\n",
    "\n",
    "    vmin,vmax = getvmivmaxfromimg(img.array)\n",
    "\n",
    "\n",
    "    im=ax.imshow(img.array, origin=\"lower\",vmin=vmin, vmax=vmax, cmap=\"gray\")\n",
    "    divider = make_axes_locatable(ax)\n",
    "    cax = divider.append_axes(\"right\", size=\"3%\", pad=0.05)\n",
    "    the_title = f\"{visitId},{band}\"\n",
    "    ax.set_title(the_title)\n",
    "    ax.grid()\n",
    "    ax.set_aspect('equal')\n",
    "    plt.colorbar(im, cax=cax,ax=ax)\n",
    "\n",
    "plt.suptitle(collections)\n",
    "plt.tight_layout()\n",
    "plt.show()\n",
    "#remove_figure(fig)"
   ]
  },
  {
   "cell_type": "markdown",
   "id": "c8fc5fa4-e03c-41e5-aa70-350e3cf9c864",
   "metadata": {},
   "source": [
    "## Background flux (ADU)"
   ]
  },
  {
   "cell_type": "code",
   "execution_count": null,
   "id": "c5830aac-8a95-4ff0-be97-400b5809d99b",
   "metadata": {},
   "outputs": [],
   "source": [
    "fig,axs = plt.subplots(NROWS,NCOLS,figsize=(NCOLS*3,NROWS*3))\n",
    "\n",
    "for index,ax in enumerate(axs.flatten()):\n",
    "  \n",
    "\n",
    "    visitId = df_myselectedvisits.iloc[index0+index]['visitId']\n",
    "    dataId = {'visit': visitId, 'instrument':instrument , 'detector': 0}\n",
    "\n",
    "    calexp = butler.get('calexp', **dataId,collections=collections)\n",
    "    calexp_info = calexp.getInfo()\n",
    "    photocalib = calexp_info.getPhotoCalib()\n",
    "    expo_photocalibconstant_mean = photocalib.getCalibrationMean()\n",
    "    del calexp\n",
    "    \n",
    "    datasetType = 'postISRCCD'\n",
    "    datasetRefs = registry.queryDatasets(datasetType, dataId=dataId, collections  = collections)\n",
    "    for i, ref in enumerate(datasetRefs):\n",
    "        print(ref.dataId)\n",
    "        expo  = butler.get(ref)\n",
    "        img = expo.getImage()\n",
    "\n",
    "    vmin,vmax = getvmivmaxfromimg(img.array)\n",
    "\n",
    "    data_flat = img.array.flatten()\n",
    "    mu = np.mean(data_flat)\n",
    "    med = np.median(data_flat)\n",
    "    std = np.std(data_flat)\n",
    "    sigMad = 1.4826 * np.median(np.fabs(data_flat - med))\n",
    "    vmin = med - 5 * sigMad\n",
    "    vmax = med + 5 * sigMad\n",
    "\n",
    "    \n",
    "    textstr = '\\n'.join((\n",
    "    r'$\\mu=%.2f$ ADU/pix' % (mu, ),\n",
    "    r'$\\mathrm{med}=%.2f$ ADU/pix' % (med, ),\n",
    "    r'$\\mathrm{std}=%.2f$ ADU/pix' % (std, ),\n",
    "    r'$\\mathrm{med}=%.2f$ mag/arcsec2' % (convert_fluxtomag(med*expo_photocalibconstant_mean/pixel_scale**2), ),\n",
    "    r'$\\sigma=%.2f$ ADU/pix' % (sigMad, ),\n",
    "    r'$\\sigma=%.1f$ mag/arcsec2' % (convert_fluxtomag(sigMad*expo_photocalibconstant_mean/pixel_scale**2), )))\n",
    "\n",
    "    histdata = ax.hist(data_flat,bins=50,range=(vmin,vmax),histtype=\"step\",color=\"b\",lw=2)\n",
    "    \n",
    "    props = dict(boxstyle='round', facecolor='wheat', alpha=0.5)\n",
    "    ax.text(0.05, 0.95, textstr, transform=ax.transAxes, fontsize=10,verticalalignment='top', bbox=props)\n",
    "    \n",
    "    the_title = f\"{visitId},{band}\"\n",
    "    ax.set_title(the_title)\n",
    "    ax.set_xlabel(\"Background flux (ADU/pixel)\")\n",
    "    ax.grid()\n",
    "    ax.set_ylim(0.,histdata[0].max()*2.)\n",
    "  \n",
    "plt.suptitle(collections)\n",
    "plt.tight_layout()\n",
    "plt.show()\n",
    "#remove_figure(fig)"
   ]
  },
  {
   "cell_type": "markdown",
   "id": "6e4779e5-c3e8-4df6-b69e-f170639e4b76",
   "metadata": {},
   "source": [
    "## Background flux (ADU) in not masked pixels"
   ]
  },
  {
   "cell_type": "code",
   "execution_count": null,
   "id": "4921c70d-9c99-4284-8fdf-6bf8b2d7c943",
   "metadata": {},
   "outputs": [],
   "source": [
    "fig,axs = plt.subplots(NROWS,NCOLS,figsize=(NCOLS*3,NROWS*3))\n",
    "\n",
    "for index,ax in enumerate(axs.flatten()):\n",
    "    visitId = df_myselectedvisits.iloc[index0+index]['visitId']\n",
    "    dataId = {'visit': visitId, 'instrument':instrument , 'detector': 0}\n",
    "    calexp = butler.get('calexp', **dataId,collections=collections)\n",
    "    mask = calexp.mask.array\n",
    "    the_mask = np.where(mask==0,1,0)\n",
    "\n",
    "    calexp_info = calexp.getInfo()\n",
    "    photocalib = calexp_info.getPhotoCalib()\n",
    "    expo_photocalibconstant_mean = photocalib.getCalibrationMean()\n",
    "\n",
    "    datasetType = 'postISRCCD'\n",
    "    datasetRefs = registry.queryDatasets(datasetType, dataId=dataId, collections  = collections)\n",
    "    for i, ref in enumerate(datasetRefs):\n",
    "        print(ref.dataId)\n",
    "        expo  = butler.get(ref)\n",
    "        img = expo.getImage()\n",
    "\n",
    "    \n",
    "    img = bkgd.getImage().array* the_mask\n",
    "\n",
    "    data_flat = img.flatten()\n",
    "    data_flat_nozero = data_flat[~(data_flat==0)]\n",
    "    mu = np.mean(data_flat_nozero )\n",
    "    med = np.median(data_flat_nozero )\n",
    "    sigMad_nozero  = 1.4826 * np.median(np.fabs(data_flat_nozero  - med))\n",
    "    vmin = med - 5 * sigMad_nozero \n",
    "    vmax = med + 5 * sigMad_nozero \n",
    "\n",
    "    \n",
    "    textstr = '\\n'.join((\n",
    "    r'$\\mu=%.2f$ ADU/pix' % (mu, ),\n",
    "    r'$\\mathrm{med}=%.2f$ ADU/pix' % (med, ),\n",
    "    r'$\\mathrm{med}=%.2f$ mag/arcsec2' % (convert_fluxtomag(med*expo_photocalibconstant_mean/pixel_scale**2), ),\n",
    "    r'$\\sigma=%.2f$ ADU/pix' % (sigMad_nozero , ),\n",
    "    r'$\\sigma=%.1f$ mag/arcsec2' % (convert_fluxtomag(sigMad_nozero*expo_photocalibconstant_mean/pixel_scale**2 ), )))\n",
    "\n",
    "    histdata = ax.hist(data_flat,bins=50,range=(vmin,vmax),histtype=\"step\",color=\"b\",lw=2)\n",
    "    \n",
    "    props = dict(boxstyle='round', facecolor='wheat', alpha=0.5)\n",
    "    ax.text(0.05, 0.95, textstr, transform=ax.transAxes, fontsize=10,verticalalignment='top', bbox=props)\n",
    "    \n",
    "    the_title = f\"{visitId},{band}\"\n",
    "    ax.set_title(the_title)\n",
    "    ax.set_xlabel(\"Background flux (ADU/pixel)\")\n",
    "    ax.grid()\n",
    "    ax.set_ylim(0.,histdata[0].max()*2.)\n",
    "  \n",
    "plt.suptitle(collections)\n",
    "plt.tight_layout()\n",
    "plt.show()\n",
    "#remove_figure(fig)"
   ]
  },
  {
   "cell_type": "code",
   "execution_count": null,
   "id": "5bcc9555-3df6-4e5c-af75-1cb4f553db83",
   "metadata": {},
   "outputs": [],
   "source": []
  }
 ],
 "metadata": {
  "kernelspec": {
   "display_name": "LSST",
   "language": "python",
   "name": "lsst"
  },
  "language_info": {
   "codemirror_mode": {
    "name": "ipython",
    "version": 3
   },
   "file_extension": ".py",
   "mimetype": "text/x-python",
   "name": "python",
   "nbconvert_exporter": "python",
   "pygments_lexer": "ipython3",
   "version": "3.11.7"
  }
 },
 "nbformat": 4,
 "nbformat_minor": 5
}
